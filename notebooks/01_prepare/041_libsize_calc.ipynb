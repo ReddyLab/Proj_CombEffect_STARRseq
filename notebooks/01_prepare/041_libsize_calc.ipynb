{
 "cells": [
  {
   "cell_type": "markdown",
   "id": "e6999770-32f9-4f85-b278-ad291eb1004b",
   "metadata": {},
   "source": [
    "**Set environment**"
   ]
  },
  {
   "cell_type": "code",
   "execution_count": 1,
   "id": "7955eda7-9e2e-40ab-832f-ce0b17507e35",
   "metadata": {},
   "outputs": [
    {
     "name": "stdout",
     "output_type": "stream",
     "text": [
      "You are on Duke Server: HARDAC\n",
      "BASE DIRECTORY:     /gpfs/fs1/data/reddylab/Kuei\n",
      "PATH OF SOURCE:     /gpfs/fs1/data/reddylab/Kuei/source\n",
      "PATH OF EXECUTABLE: /gpfs/fs1/data/reddylab/Kuei/exe\n",
      "PATH OF ANNOTATION: /gpfs/fs1/data/reddylab/Kuei/annotation\n",
      "PATH OF PROJECT:    /gpfs/fs1/data/reddylab/Kuei/GitRepo/Proj_CombEffect_STARRseq/notebooks\n",
      "PATH OF RESULTS:    /gpfs/fs1/data/reddylab/Kuei/out/proj_combeffect\n",
      "\n"
     ]
    }
   ],
   "source": [
    "source ../config_duke.sh -v"
   ]
  },
  {
   "cell_type": "code",
   "execution_count": 2,
   "id": "2cb4b290-1e66-41e1-8f39-9ea4ac41c424",
   "metadata": {},
   "outputs": [
    {
     "name": "stdout",
     "output_type": "stream",
     "text": [
      "\u001b[0m\u001b[38;5;27mInput1\u001b[0m            \u001b[38;5;27mTFX2_CpdA\u001b[0m            \u001b[38;5;27mTFX3_GW870086\u001b[0m        \u001b[38;5;27mTFX4_RU486\u001b[0m\n",
      "\u001b[38;5;27mInput1_20x\u001b[0m        \u001b[38;5;27mTFX2_Dex\u001b[0m             \u001b[38;5;27mTFX3_Hydrocortisone\u001b[0m  \u001b[38;5;27mTFX4_ZK216348\u001b[0m\n",
      "\u001b[38;5;27mInput2\u001b[0m            \u001b[38;5;27mTFX2_DMSO\u001b[0m            \u001b[38;5;27mTFX3_Mapracorat\u001b[0m      \u001b[38;5;27mTFX5_AZD2906\u001b[0m\n",
      "\u001b[38;5;27mInput2_20x\u001b[0m        \u001b[38;5;27mTFX2_GW870086\u001b[0m        \u001b[38;5;27mTFX3_RU486\u001b[0m           \u001b[38;5;27mTFX5_AZD9567\u001b[0m\n",
      "\u001b[38;5;27mInput3\u001b[0m            \u001b[38;5;27mTFX2_Hydrocortisone\u001b[0m  \u001b[38;5;27mTFX3_ZK216348\u001b[0m        \u001b[38;5;27mTFX5_CORT108297\u001b[0m\n",
      "\u001b[38;5;27mInput3_20x\u001b[0m        \u001b[38;5;27mTFX2_Mapracorat\u001b[0m      \u001b[38;5;27mTFX4_AZD2906\u001b[0m         \u001b[38;5;27mTFX5_CpdA\u001b[0m\n",
      "\u001b[38;5;27mInput4\u001b[0m            \u001b[38;5;27mTFX2_RU486\u001b[0m           \u001b[38;5;27mTFX4_AZD9567\u001b[0m         \u001b[38;5;27mTFX5_Dex\u001b[0m\n",
      "\u001b[38;5;27mInput4_20x\u001b[0m        \u001b[38;5;27mTFX2_ZK216348\u001b[0m        \u001b[38;5;27mTFX4_CORT108297\u001b[0m      \u001b[38;5;27mTFX5_DMSO\u001b[0m\n",
      "\u001b[38;5;27mInput5\u001b[0m            \u001b[38;5;27mTFX3_AZD2906\u001b[0m         \u001b[38;5;27mTFX4_CpdA\u001b[0m            \u001b[38;5;27mTFX5_GW870086\u001b[0m\n",
      "\u001b[38;5;27mInput5_20x\u001b[0m        \u001b[38;5;27mTFX3_AZD9567\u001b[0m         \u001b[38;5;27mTFX4_Dex\u001b[0m             \u001b[38;5;27mTFX5_Hydrocortisone\u001b[0m\n",
      "library_size.txt  \u001b[38;5;27mTFX3_CORT108297\u001b[0m      \u001b[38;5;27mTFX4_DMSO\u001b[0m            \u001b[38;5;27mTFX5_Mapracorat\u001b[0m\n",
      "\u001b[38;5;27mTFX2_AZD2906\u001b[0m      \u001b[38;5;27mTFX3_CpdA\u001b[0m            \u001b[38;5;27mTFX4_GW870086\u001b[0m        \u001b[38;5;27mTFX5_RU486\u001b[0m\n",
      "\u001b[38;5;27mTFX2_AZD9567\u001b[0m      \u001b[38;5;27mTFX3_Dex\u001b[0m             \u001b[38;5;27mTFX4_Hydrocortisone\u001b[0m  \u001b[38;5;27mTFX5_ZK216348\u001b[0m\n",
      "\u001b[38;5;27mTFX2_CORT108297\u001b[0m   \u001b[38;5;27mTFX3_DMSO\u001b[0m            \u001b[38;5;27mTFX4_Mapracorat\u001b[0m\n"
     ]
    }
   ],
   "source": [
    "ls ${FD_RES}/source"
   ]
  },
  {
   "cell_type": "code",
   "execution_count": 3,
   "id": "1354f886-2251-42b8-bb24-a5a7e4ad3d2c",
   "metadata": {},
   "outputs": [
    {
     "name": "stdout",
     "output_type": "stream",
     "text": [
      "/gpfs/fs1/data/reddylab/Kuei/out/proj_combeffect/source/Input1_20x/Input1_20x.bedpe\n",
      "/gpfs/fs1/data/reddylab/Kuei/out/proj_combeffect/source/Input1/Input1.bedpe\n",
      "/gpfs/fs1/data/reddylab/Kuei/out/proj_combeffect/source/Input2_20x/Input2_20x.bedpe\n",
      "/gpfs/fs1/data/reddylab/Kuei/out/proj_combeffect/source/Input2/Input2.bedpe\n",
      "/gpfs/fs1/data/reddylab/Kuei/out/proj_combeffect/source/Input3_20x/Input3_20x.bedpe\n",
      "/gpfs/fs1/data/reddylab/Kuei/out/proj_combeffect/source/Input3/Input3.bedpe\n",
      "/gpfs/fs1/data/reddylab/Kuei/out/proj_combeffect/source/Input4_20x/Input4_20x.bedpe\n",
      "/gpfs/fs1/data/reddylab/Kuei/out/proj_combeffect/source/Input4/Input4.bedpe\n",
      "/gpfs/fs1/data/reddylab/Kuei/out/proj_combeffect/source/Input5_20x/Input5_20x.bedpe\n",
      "/gpfs/fs1/data/reddylab/Kuei/out/proj_combeffect/source/Input5/Input5.bedpe\n",
      "/gpfs/fs1/data/reddylab/Kuei/out/proj_combeffect/source/TFX2_AZD2906/TFX2_AZD2906.bedpe\n",
      "/gpfs/fs1/data/reddylab/Kuei/out/proj_combeffect/source/TFX2_AZD9567/TFX2_AZD9567.bedpe\n",
      "/gpfs/fs1/data/reddylab/Kuei/out/proj_combeffect/source/TFX2_CORT108297/TFX2_CORT108297.bedpe\n",
      "/gpfs/fs1/data/reddylab/Kuei/out/proj_combeffect/source/TFX2_CpdA/TFX2_CpdA.bedpe\n",
      "/gpfs/fs1/data/reddylab/Kuei/out/proj_combeffect/source/TFX2_Dex/TFX2_Dex.bedpe\n",
      "/gpfs/fs1/data/reddylab/Kuei/out/proj_combeffect/source/TFX2_DMSO/TFX2_DMSO.bedpe\n",
      "/gpfs/fs1/data/reddylab/Kuei/out/proj_combeffect/source/TFX2_GW870086/TFX2_GW870086.bedpe\n",
      "/gpfs/fs1/data/reddylab/Kuei/out/proj_combeffect/source/TFX2_Hydrocortisone/TFX2_Hydrocortisone.bedpe\n",
      "/gpfs/fs1/data/reddylab/Kuei/out/proj_combeffect/source/TFX2_Mapracorat/TFX2_Mapracorat.bedpe\n",
      "/gpfs/fs1/data/reddylab/Kuei/out/proj_combeffect/source/TFX2_RU486/TFX2_RU486.bedpe\n",
      "/gpfs/fs1/data/reddylab/Kuei/out/proj_combeffect/source/TFX2_ZK216348/TFX2_ZK216348.bedpe\n",
      "/gpfs/fs1/data/reddylab/Kuei/out/proj_combeffect/source/TFX3_AZD2906/TFX3_AZD2906.bedpe\n",
      "/gpfs/fs1/data/reddylab/Kuei/out/proj_combeffect/source/TFX3_AZD9567/TFX3_AZD9567.bedpe\n",
      "/gpfs/fs1/data/reddylab/Kuei/out/proj_combeffect/source/TFX3_CORT108297/TFX3_CORT108297.bedpe\n",
      "/gpfs/fs1/data/reddylab/Kuei/out/proj_combeffect/source/TFX3_CpdA/TFX3_CpdA.bedpe\n",
      "/gpfs/fs1/data/reddylab/Kuei/out/proj_combeffect/source/TFX3_Dex/TFX3_Dex.bedpe\n",
      "/gpfs/fs1/data/reddylab/Kuei/out/proj_combeffect/source/TFX3_DMSO/TFX3_DMSO.bedpe\n",
      "/gpfs/fs1/data/reddylab/Kuei/out/proj_combeffect/source/TFX3_GW870086/TFX3_GW870086.bedpe\n",
      "/gpfs/fs1/data/reddylab/Kuei/out/proj_combeffect/source/TFX3_Hydrocortisone/TFX3_Hydrocortisone.bedpe\n",
      "/gpfs/fs1/data/reddylab/Kuei/out/proj_combeffect/source/TFX3_Mapracorat/TFX3_Mapracorat.bedpe\n",
      "/gpfs/fs1/data/reddylab/Kuei/out/proj_combeffect/source/TFX3_RU486/TFX3_RU486.bedpe\n",
      "/gpfs/fs1/data/reddylab/Kuei/out/proj_combeffect/source/TFX3_ZK216348/TFX3_ZK216348.bedpe\n",
      "/gpfs/fs1/data/reddylab/Kuei/out/proj_combeffect/source/TFX4_AZD2906/TFX4_AZD2906.bedpe\n",
      "/gpfs/fs1/data/reddylab/Kuei/out/proj_combeffect/source/TFX4_AZD9567/TFX4_AZD9567.bedpe\n",
      "/gpfs/fs1/data/reddylab/Kuei/out/proj_combeffect/source/TFX4_CORT108297/TFX4_CORT108297.bedpe\n",
      "/gpfs/fs1/data/reddylab/Kuei/out/proj_combeffect/source/TFX4_CpdA/TFX4_CpdA.bedpe\n",
      "/gpfs/fs1/data/reddylab/Kuei/out/proj_combeffect/source/TFX4_Dex/TFX4_Dex.bedpe\n",
      "/gpfs/fs1/data/reddylab/Kuei/out/proj_combeffect/source/TFX4_DMSO/TFX4_DMSO.bedpe\n",
      "/gpfs/fs1/data/reddylab/Kuei/out/proj_combeffect/source/TFX4_GW870086/TFX4_GW870086.bedpe\n",
      "/gpfs/fs1/data/reddylab/Kuei/out/proj_combeffect/source/TFX4_Hydrocortisone/TFX4_Hydrocortisone.bedpe\n",
      "/gpfs/fs1/data/reddylab/Kuei/out/proj_combeffect/source/TFX4_Mapracorat/TFX4_Mapracorat.bedpe\n",
      "/gpfs/fs1/data/reddylab/Kuei/out/proj_combeffect/source/TFX4_RU486/TFX4_RU486.bedpe\n",
      "/gpfs/fs1/data/reddylab/Kuei/out/proj_combeffect/source/TFX4_ZK216348/TFX4_ZK216348.bedpe\n",
      "/gpfs/fs1/data/reddylab/Kuei/out/proj_combeffect/source/TFX5_AZD2906/TFX5_AZD2906.bedpe\n",
      "/gpfs/fs1/data/reddylab/Kuei/out/proj_combeffect/source/TFX5_AZD9567/TFX5_AZD9567.bedpe\n",
      "/gpfs/fs1/data/reddylab/Kuei/out/proj_combeffect/source/TFX5_CORT108297/TFX5_CORT108297.bedpe\n",
      "/gpfs/fs1/data/reddylab/Kuei/out/proj_combeffect/source/TFX5_CpdA/TFX5_CpdA.bedpe\n",
      "/gpfs/fs1/data/reddylab/Kuei/out/proj_combeffect/source/TFX5_Dex/TFX5_Dex.bedpe\n",
      "/gpfs/fs1/data/reddylab/Kuei/out/proj_combeffect/source/TFX5_DMSO/TFX5_DMSO.bedpe\n",
      "/gpfs/fs1/data/reddylab/Kuei/out/proj_combeffect/source/TFX5_GW870086/TFX5_GW870086.bedpe\n",
      "/gpfs/fs1/data/reddylab/Kuei/out/proj_combeffect/source/TFX5_Hydrocortisone/TFX5_Hydrocortisone.bedpe\n",
      "/gpfs/fs1/data/reddylab/Kuei/out/proj_combeffect/source/TFX5_Mapracorat/TFX5_Mapracorat.bedpe\n",
      "/gpfs/fs1/data/reddylab/Kuei/out/proj_combeffect/source/TFX5_RU486/TFX5_RU486.bedpe\n",
      "/gpfs/fs1/data/reddylab/Kuei/out/proj_combeffect/source/TFX5_ZK216348/TFX5_ZK216348.bedpe\n"
     ]
    }
   ],
   "source": [
    "ls ${FD_RES}/source/*/*.bedpe"
   ]
  },
  {
   "cell_type": "code",
   "execution_count": 4,
   "id": "b5094345-c52f-4a8c-ba01-024dd10d85fe",
   "metadata": {},
   "outputs": [],
   "source": [
    "wc -l ${FD_RES}/source/*/*.bedpe |\\\n",
    "    sed 's/^ *//g' |\\\n",
    "    sed 's/[ ]+/[ ]/g' |\\\n",
    "    sed 's/[ ]/\\t/g' > ${FD_RES}/source/library_size.txt"
   ]
  },
  {
   "cell_type": "code",
   "execution_count": 5,
   "id": "2cb9a7c4-0857-401e-8185-d84e0592fbf0",
   "metadata": {},
   "outputs": [
    {
     "name": "stdout",
     "output_type": "stream",
     "text": [
      "371718546\t/gpfs/fs1/data/reddylab/Kuei/out/proj_combeffect/source/Input1_20x/Input1_20x.bedpe\n",
      "18666630\t/gpfs/fs1/data/reddylab/Kuei/out/proj_combeffect/source/Input1/Input1.bedpe\n",
      "347635732\t/gpfs/fs1/data/reddylab/Kuei/out/proj_combeffect/source/Input2_20x/Input2_20x.bedpe\n",
      "20167924\t/gpfs/fs1/data/reddylab/Kuei/out/proj_combeffect/source/Input2/Input2.bedpe\n",
      "349994051\t/gpfs/fs1/data/reddylab/Kuei/out/proj_combeffect/source/Input3_20x/Input3_20x.bedpe\n",
      "23280988\t/gpfs/fs1/data/reddylab/Kuei/out/proj_combeffect/source/Input3/Input3.bedpe\n",
      "413508358\t/gpfs/fs1/data/reddylab/Kuei/out/proj_combeffect/source/Input4_20x/Input4_20x.bedpe\n",
      "19003938\t/gpfs/fs1/data/reddylab/Kuei/out/proj_combeffect/source/Input4/Input4.bedpe\n",
      "341110487\t/gpfs/fs1/data/reddylab/Kuei/out/proj_combeffect/source/Input5_20x/Input5_20x.bedpe\n",
      "15325016\t/gpfs/fs1/data/reddylab/Kuei/out/proj_combeffect/source/Input5/Input5.bedpe\n",
      "48376253\t/gpfs/fs1/data/reddylab/Kuei/out/proj_combeffect/source/TFX2_AZD2906/TFX2_AZD2906.bedpe\n",
      "52542517\t/gpfs/fs1/data/reddylab/Kuei/out/proj_combeffect/source/TFX2_AZD9567/TFX2_AZD9567.bedpe\n",
      "43646484\t/gpfs/fs1/data/reddylab/Kuei/out/proj_combeffect/source/TFX2_CORT108297/TFX2_CORT108297.bedpe\n",
      "41732268\t/gpfs/fs1/data/reddylab/Kuei/out/proj_combeffect/source/TFX2_CpdA/TFX2_CpdA.bedpe\n",
      "45413539\t/gpfs/fs1/data/reddylab/Kuei/out/proj_combeffect/source/TFX2_Dex/TFX2_Dex.bedpe\n",
      "43844606\t/gpfs/fs1/data/reddylab/Kuei/out/proj_combeffect/source/TFX2_DMSO/TFX2_DMSO.bedpe\n",
      "56207769\t/gpfs/fs1/data/reddylab/Kuei/out/proj_combeffect/source/TFX2_GW870086/TFX2_GW870086.bedpe\n",
      "47829936\t/gpfs/fs1/data/reddylab/Kuei/out/proj_combeffect/source/TFX2_Hydrocortisone/TFX2_Hydrocortisone.bedpe\n",
      "38120420\t/gpfs/fs1/data/reddylab/Kuei/out/proj_combeffect/source/TFX2_Mapracorat/TFX2_Mapracorat.bedpe\n",
      "47687319\t/gpfs/fs1/data/reddylab/Kuei/out/proj_combeffect/source/TFX2_RU486/TFX2_RU486.bedpe\n",
      "45455167\t/gpfs/fs1/data/reddylab/Kuei/out/proj_combeffect/source/TFX2_ZK216348/TFX2_ZK216348.bedpe\n",
      "26840149\t/gpfs/fs1/data/reddylab/Kuei/out/proj_combeffect/source/TFX3_AZD2906/TFX3_AZD2906.bedpe\n",
      "44435989\t/gpfs/fs1/data/reddylab/Kuei/out/proj_combeffect/source/TFX3_AZD9567/TFX3_AZD9567.bedpe\n",
      "32701206\t/gpfs/fs1/data/reddylab/Kuei/out/proj_combeffect/source/TFX3_CORT108297/TFX3_CORT108297.bedpe\n",
      "26352610\t/gpfs/fs1/data/reddylab/Kuei/out/proj_combeffect/source/TFX3_CpdA/TFX3_CpdA.bedpe\n",
      "26400671\t/gpfs/fs1/data/reddylab/Kuei/out/proj_combeffect/source/TFX3_Dex/TFX3_Dex.bedpe\n",
      "26819569\t/gpfs/fs1/data/reddylab/Kuei/out/proj_combeffect/source/TFX3_DMSO/TFX3_DMSO.bedpe\n",
      "36774709\t/gpfs/fs1/data/reddylab/Kuei/out/proj_combeffect/source/TFX3_GW870086/TFX3_GW870086.bedpe\n",
      "40293787\t/gpfs/fs1/data/reddylab/Kuei/out/proj_combeffect/source/TFX3_Hydrocortisone/TFX3_Hydrocortisone.bedpe\n",
      "26384034\t/gpfs/fs1/data/reddylab/Kuei/out/proj_combeffect/source/TFX3_Mapracorat/TFX3_Mapracorat.bedpe\n",
      "31454676\t/gpfs/fs1/data/reddylab/Kuei/out/proj_combeffect/source/TFX3_RU486/TFX3_RU486.bedpe\n",
      "41139261\t/gpfs/fs1/data/reddylab/Kuei/out/proj_combeffect/source/TFX3_ZK216348/TFX3_ZK216348.bedpe\n",
      "27175305\t/gpfs/fs1/data/reddylab/Kuei/out/proj_combeffect/source/TFX4_AZD2906/TFX4_AZD2906.bedpe\n",
      "33610712\t/gpfs/fs1/data/reddylab/Kuei/out/proj_combeffect/source/TFX4_AZD9567/TFX4_AZD9567.bedpe\n",
      "59429741\t/gpfs/fs1/data/reddylab/Kuei/out/proj_combeffect/source/TFX4_CORT108297/TFX4_CORT108297.bedpe\n",
      "31202573\t/gpfs/fs1/data/reddylab/Kuei/out/proj_combeffect/source/TFX4_CpdA/TFX4_CpdA.bedpe\n",
      "34590086\t/gpfs/fs1/data/reddylab/Kuei/out/proj_combeffect/source/TFX4_Dex/TFX4_Dex.bedpe\n",
      "30951533\t/gpfs/fs1/data/reddylab/Kuei/out/proj_combeffect/source/TFX4_DMSO/TFX4_DMSO.bedpe\n",
      "43395226\t/gpfs/fs1/data/reddylab/Kuei/out/proj_combeffect/source/TFX4_GW870086/TFX4_GW870086.bedpe\n",
      "27190016\t/gpfs/fs1/data/reddylab/Kuei/out/proj_combeffect/source/TFX4_Hydrocortisone/TFX4_Hydrocortisone.bedpe\n",
      "36460601\t/gpfs/fs1/data/reddylab/Kuei/out/proj_combeffect/source/TFX4_Mapracorat/TFX4_Mapracorat.bedpe\n",
      "31196111\t/gpfs/fs1/data/reddylab/Kuei/out/proj_combeffect/source/TFX4_RU486/TFX4_RU486.bedpe\n",
      "38035173\t/gpfs/fs1/data/reddylab/Kuei/out/proj_combeffect/source/TFX4_ZK216348/TFX4_ZK216348.bedpe\n",
      "43862195\t/gpfs/fs1/data/reddylab/Kuei/out/proj_combeffect/source/TFX5_AZD2906/TFX5_AZD2906.bedpe\n",
      "48356547\t/gpfs/fs1/data/reddylab/Kuei/out/proj_combeffect/source/TFX5_AZD9567/TFX5_AZD9567.bedpe\n",
      "42880899\t/gpfs/fs1/data/reddylab/Kuei/out/proj_combeffect/source/TFX5_CORT108297/TFX5_CORT108297.bedpe\n",
      "40239413\t/gpfs/fs1/data/reddylab/Kuei/out/proj_combeffect/source/TFX5_CpdA/TFX5_CpdA.bedpe\n",
      "42310249\t/gpfs/fs1/data/reddylab/Kuei/out/proj_combeffect/source/TFX5_Dex/TFX5_Dex.bedpe\n",
      "28859151\t/gpfs/fs1/data/reddylab/Kuei/out/proj_combeffect/source/TFX5_DMSO/TFX5_DMSO.bedpe\n",
      "39710444\t/gpfs/fs1/data/reddylab/Kuei/out/proj_combeffect/source/TFX5_GW870086/TFX5_GW870086.bedpe\n",
      "34580732\t/gpfs/fs1/data/reddylab/Kuei/out/proj_combeffect/source/TFX5_Hydrocortisone/TFX5_Hydrocortisone.bedpe\n",
      "48311553\t/gpfs/fs1/data/reddylab/Kuei/out/proj_combeffect/source/TFX5_Mapracorat/TFX5_Mapracorat.bedpe\n",
      "49785981\t/gpfs/fs1/data/reddylab/Kuei/out/proj_combeffect/source/TFX5_RU486/TFX5_RU486.bedpe\n",
      "35907183\t/gpfs/fs1/data/reddylab/Kuei/out/proj_combeffect/source/TFX5_ZK216348/TFX5_ZK216348.bedpe\n",
      "3638906033\ttotal\n"
     ]
    }
   ],
   "source": [
    "cat ${FD_RES}/source/library_size.txt"
   ]
  },
  {
   "cell_type": "code",
   "execution_count": 6,
   "id": "c8b9ec0d-216a-405b-97e3-1c597c654769",
   "metadata": {},
   "outputs": [
    {
     "name": "stdout",
     "output_type": "stream",
     "text": [
      "18666630\t/work/kk319/out/CombEffect_STARR/source/Input1/Input1.bedpe\n",
      "20167924\t/work/kk319/out/CombEffect_STARR/source/Input2/Input2.bedpe\n",
      "23280988\t/work/kk319/out/CombEffect_STARR/source/Input3/Input3.bedpe\n",
      "19003938\t/work/kk319/out/CombEffect_STARR/source/Input4/Input4.bedpe\n",
      "15325016\t/work/kk319/out/CombEffect_STARR/source/Input5/Input5.bedpe\n",
      "48376253\t/work/kk319/out/CombEffect_STARR/source/TFX2_AZD2906/TFX2_AZD2906.bedpe\n",
      "52542517\t/work/kk319/out/CombEffect_STARR/source/TFX2_AZD9567/TFX2_AZD9567.bedpe\n",
      "43646484\t/work/kk319/out/CombEffect_STARR/source/TFX2_CORT108297/TFX2_CORT108297.bedpe\n",
      "41732268\t/work/kk319/out/CombEffect_STARR/source/TFX2_CpdA/TFX2_CpdA.bedpe\n",
      "43844606\t/work/kk319/out/CombEffect_STARR/source/TFX2_DMSO/TFX2_DMSO.bedpe\n",
      "45413539\t/work/kk319/out/CombEffect_STARR/source/TFX2_Dex/TFX2_Dex.bedpe\n",
      "56207769\t/work/kk319/out/CombEffect_STARR/source/TFX2_GW870086/TFX2_GW870086.bedpe\n",
      "47829936\t/work/kk319/out/CombEffect_STARR/source/TFX2_Hydrocortisone/TFX2_Hydrocortisone.bedpe\n",
      "38120420\t/work/kk319/out/CombEffect_STARR/source/TFX2_Mapracorat/TFX2_Mapracorat.bedpe\n",
      "47687319\t/work/kk319/out/CombEffect_STARR/source/TFX2_RU486/TFX2_RU486.bedpe\n",
      "45455167\t/work/kk319/out/CombEffect_STARR/source/TFX2_ZK216348/TFX2_ZK216348.bedpe\n",
      "26840149\t/work/kk319/out/CombEffect_STARR/source/TFX3_AZD2906/TFX3_AZD2906.bedpe\n",
      "44435989\t/work/kk319/out/CombEffect_STARR/source/TFX3_AZD9567/TFX3_AZD9567.bedpe\n",
      "32701206\t/work/kk319/out/CombEffect_STARR/source/TFX3_CORT108297/TFX3_CORT108297.bedpe\n",
      "26352610\t/work/kk319/out/CombEffect_STARR/source/TFX3_CpdA/TFX3_CpdA.bedpe\n",
      "26819569\t/work/kk319/out/CombEffect_STARR/source/TFX3_DMSO/TFX3_DMSO.bedpe\n",
      "26400671\t/work/kk319/out/CombEffect_STARR/source/TFX3_Dex/TFX3_Dex.bedpe\n",
      "36774709\t/work/kk319/out/CombEffect_STARR/source/TFX3_GW870086/TFX3_GW870086.bedpe\n",
      "40293787\t/work/kk319/out/CombEffect_STARR/source/TFX3_Hydrocortisone/TFX3_Hydrocortisone.bedpe\n",
      "26384034\t/work/kk319/out/CombEffect_STARR/source/TFX3_Mapracorat/TFX3_Mapracorat.bedpe\n",
      "31454676\t/work/kk319/out/CombEffect_STARR/source/TFX3_RU486/TFX3_RU486.bedpe\n",
      "41139261\t/work/kk319/out/CombEffect_STARR/source/TFX3_ZK216348/TFX3_ZK216348.bedpe\n",
      "27175305\t/work/kk319/out/CombEffect_STARR/source/TFX4_AZD2906/TFX4_AZD2906.bedpe\n",
      "33610712\t/work/kk319/out/CombEffect_STARR/source/TFX4_AZD9567/TFX4_AZD9567.bedpe\n",
      "59429741\t/work/kk319/out/CombEffect_STARR/source/TFX4_CORT108297/TFX4_CORT108297.bedpe\n",
      "31202573\t/work/kk319/out/CombEffect_STARR/source/TFX4_CpdA/TFX4_CpdA.bedpe\n",
      "30951533\t/work/kk319/out/CombEffect_STARR/source/TFX4_DMSO/TFX4_DMSO.bedpe\n",
      "34590086\t/work/kk319/out/CombEffect_STARR/source/TFX4_Dex/TFX4_Dex.bedpe\n",
      "43395226\t/work/kk319/out/CombEffect_STARR/source/TFX4_GW870086/TFX4_GW870086.bedpe\n",
      "27190016\t/work/kk319/out/CombEffect_STARR/source/TFX4_Hydrocortisone/TFX4_Hydrocortisone.bedpe\n",
      "36460601\t/work/kk319/out/CombEffect_STARR/source/TFX4_Mapracorat/TFX4_Mapracorat.bedpe\n",
      "31196111\t/work/kk319/out/CombEffect_STARR/source/TFX4_RU486/TFX4_RU486.bedpe\n",
      "38035173\t/work/kk319/out/CombEffect_STARR/source/TFX4_ZK216348/TFX4_ZK216348.bedpe\n",
      "43862195\t/work/kk319/out/CombEffect_STARR/source/TFX5_AZD2906/TFX5_AZD2906.bedpe\n",
      "48356547\t/work/kk319/out/CombEffect_STARR/source/TFX5_AZD9567/TFX5_AZD9567.bedpe\n",
      "42880899\t/work/kk319/out/CombEffect_STARR/source/TFX5_CORT108297/TFX5_CORT108297.bedpe\n",
      "40239413\t/work/kk319/out/CombEffect_STARR/source/TFX5_CpdA/TFX5_CpdA.bedpe\n",
      "28859151\t/work/kk319/out/CombEffect_STARR/source/TFX5_DMSO/TFX5_DMSO.bedpe\n",
      "42310249\t/work/kk319/out/CombEffect_STARR/source/TFX5_Dex/TFX5_Dex.bedpe\n",
      "39710444\t/work/kk319/out/CombEffect_STARR/source/TFX5_GW870086/TFX5_GW870086.bedpe\n",
      "34580732\t/work/kk319/out/CombEffect_STARR/source/TFX5_Hydrocortisone/TFX5_Hydrocortisone.bedpe\n",
      "48311553\t/work/kk319/out/CombEffect_STARR/source/TFX5_Mapracorat/TFX5_Mapracorat.bedpe\n",
      "49785981\t/work/kk319/out/CombEffect_STARR/source/TFX5_RU486/TFX5_RU486.bedpe\n",
      "35907183\t/work/kk319/out/CombEffect_STARR/source/TFX5_ZK216348/TFX5_ZK216348.bedpe\n",
      "1814938859\ttotal\n"
     ]
    }
   ],
   "source": [
    "cat ${FD_RES}/source/library_size.txt"
   ]
  },
  {
   "cell_type": "code",
   "execution_count": null,
   "id": "cdd1fab7-acc6-47f7-8e67-e74abe6715a4",
   "metadata": {},
   "outputs": [],
   "source": []
  }
 ],
 "metadata": {
  "kernelspec": {
   "display_name": "Bash",
   "language": "bash",
   "name": "bash"
  },
  "language_info": {
   "codemirror_mode": "shell",
   "file_extension": ".sh",
   "mimetype": "text/x-sh",
   "name": "bash"
  }
 },
 "nbformat": 4,
 "nbformat_minor": 5
}
