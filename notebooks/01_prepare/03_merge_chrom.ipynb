{
 "cells": [
  {
   "cell_type": "markdown",
   "id": "b748a39e-a640-48f2-9b8e-c29d9a39bc74",
   "metadata": {},
   "source": [
    "**Set environment**"
   ]
  },
  {
   "cell_type": "code",
   "execution_count": 1,
   "id": "2d1485de-08b7-44e8-9b7d-c6fc561be548",
   "metadata": {},
   "outputs": [
    {
     "name": "stdout",
     "output_type": "stream",
     "text": [
      "You are on Duke Server: DCC\n",
      "BASE DIRECTORY:     /work/kk319\n",
      "WORK DIRECTORY:     /work/kk319/out/CombEffect_STARR\n",
      "LOG  DIRECTORY:     /work/kk319/out/CombEffect_STARR/log\n",
      "PATH OF SOURCE:     /work/kk319/source\n",
      "PATH OF EXECUTABLE: /work/kk319/exe\n",
      "PATH OF ANNOTATION: /work/kk319/annotation\n",
      "\n"
     ]
    }
   ],
   "source": [
    "source ../config_duke.sh"
   ]
  },
  {
   "cell_type": "markdown",
   "id": "28f370be-9a21-41ad-9911-b88fe4680ddb",
   "metadata": {},
   "source": [
    "## Merge the bed files for each chromosome and for each treatment"
   ]
  },
  {
   "cell_type": "markdown",
   "id": "da4802f0-263d-4b36-b671-0105e5f3d612",
   "metadata": {},
   "source": [
    "**TEST**"
   ]
  },
  {
   "cell_type": "code",
   "execution_count": 2,
   "id": "f1d0feb0-5a6e-445e-bc23-459b3c2a1785",
   "metadata": {},
   "outputs": [
    {
     "name": "stdout",
     "output_type": "stream",
     "text": [
      "/work/kk319/out/CombEffect_STARR/data/Input1/\n",
      "/work/kk319/out/CombEffect_STARR/data/Input2/\n",
      "/work/kk319/out/CombEffect_STARR/data/Input3/\n",
      "/work/kk319/out/CombEffect_STARR/data/Input4/\n",
      "/work/kk319/out/CombEffect_STARR/data/Input5/\n"
     ]
    }
   ],
   "source": [
    "FD_BEDS=($(ls -d ${FD_WRK}/data/Input?/))\n",
    "for FD_BED in ${FD_BEDS[@]}; do\n",
    "    echo ${FD_BED}\n",
    "done"
   ]
  },
  {
   "cell_type": "code",
   "execution_count": 3,
   "id": "a84923b0-bdc8-42f7-a38c-6f7fc2ef75c4",
   "metadata": {},
   "outputs": [
    {
     "name": "stdout",
     "output_type": "stream",
     "text": [
      "/work/kk319/out/CombEffect_STARR/data/TFX2_DMSO/\n",
      "/work/kk319/out/CombEffect_STARR/data/TFX3_DMSO/\n",
      "/work/kk319/out/CombEffect_STARR/data/TFX4_DMSO/\n",
      "/work/kk319/out/CombEffect_STARR/data/TFX5_DMSO/\n"
     ]
    }
   ],
   "source": [
    "FD_BEDS=($(ls -d ${FD_WRK}/data/TFX?_DMSO/))\n",
    "for FD_BED in ${FD_BEDS[@]}; do\n",
    "    echo ${FD_BED}\n",
    "done"
   ]
  },
  {
   "cell_type": "code",
   "execution_count": 4,
   "id": "8379b7f9-f541-4d9f-8371-31d0d1a20be8",
   "metadata": {},
   "outputs": [
    {
     "name": "stdout",
     "output_type": "stream",
     "text": [
      "/work/kk319/out/CombEffect_STARR/data/TFX2_Dex/\n",
      "/work/kk319/out/CombEffect_STARR/data/TFX3_Dex/\n",
      "/work/kk319/out/CombEffect_STARR/data/TFX4_Dex/\n",
      "/work/kk319/out/CombEffect_STARR/data/TFX5_Dex/\n"
     ]
    }
   ],
   "source": [
    "FD_BEDS=($(ls -d ${FD_WRK}/data/TFX?_Dex/))\n",
    "for FD_BED in ${FD_BEDS[@]}; do\n",
    "    echo ${FD_BED}\n",
    "done"
   ]
  },
  {
   "cell_type": "markdown",
   "id": "f0a896c5-789e-4bc0-9bd7-53aaa83f40d7",
   "metadata": {},
   "source": [
    "**RUN**\n",
    "- reference:\n",
    "    - [How to sort a file in-place](https://stackoverflow.com/questions/29244351/how-to-sort-a-file-in-place/29244387)"
   ]
  },
  {
   "cell_type": "code",
   "execution_count": 9,
   "id": "e3b1c67c-c18c-49a9-9b98-747a8c50f79c",
   "metadata": {},
   "outputs": [
    {
     "name": "stdout",
     "output_type": "stream",
     "text": [
      "You are on Duke Server: DCC\n",
      "BASE DIRECTORY:     /work/kk319\n",
      "WORK DIRECTORY:     /work/kk319/out/CombEffect_STARR\n",
      "LOG  DIRECTORY:     /work/kk319/out/CombEffect_STARR/log\n",
      "PATH OF SOURCE:     /work/kk319/source\n",
      "PATH OF EXECUTABLE: /work/kk319/exe\n",
      "PATH OF ANNOTATION: /work/kk319/annotation\n",
      "\n",
      "Submitted batch job 14988060\n"
     ]
    }
   ],
   "source": [
    "source ../config_duke.sh\n",
    "\n",
    "sbatch -p scavenger \\\n",
    "    --array 0-23 \\\n",
    "    --mem 8G \\\n",
    "    -o ${FD_LOG}/merge_data_chrom.%a.txt \\\n",
    "    <<'EOF'\n",
    "#!/bin/bash\n",
    "### set directories & global variables\n",
    "source ../config_duke.sh\n",
    "CHROMS=($(seq 1 22) X Y)\n",
    "CHROM=chr${CHROMS[${SLURM_ARRAY_TASK_ID}]}\n",
    "\n",
    "### set input and output\n",
    "FD_BEDS=($(ls -d ${FD_WRK}/data/*/))\n",
    "FD_OUT=${FD_WRK}/count_fragment\n",
    "FN_BED=${CHROM}.bed\n",
    "FN_OUT=${CHROM}.bed\n",
    "\n",
    "### loop through samples of the same treatment and merge bed files for a given chromsome\n",
    "echo \"Slurm Array Index: \" ${SLURM_ARRAY_TASK_ID}\n",
    "echo \"Chromosome:        \" ${CHROM}\n",
    "echo \"RUN: loop through samples; merge bed files\"\n",
    "echo\n",
    "\n",
    "echo ++++++++++++++++++++++++++++++++++++++++++++++++\n",
    "### Merge for INPUT\n",
    "echo \"Merge for INPUT samples\"\n",
    "\n",
    "### INIT: set input and ouput\n",
    "FD_BEDS=($(ls -d ${FD_WRK}/data/Input?/))\n",
    "FD_OUT=${FD_WRK}/data/Input\n",
    "mkdir -p ${FD_OUT}\n",
    "\n",
    "### RUN: loop through samples and merge\n",
    "cat /dev/null > ${FD_OUT}/${FN_OUT}\n",
    "for FD_BED in ${FD_BEDS[@]}; do\n",
    "    ### Message\n",
    "    echo \"Show the first few lines of the input file\"\n",
    "    echo ${FD_BED}/${FN_BED}\n",
    "    head -n 3 ${FD_BED}/${FN_BED}\n",
    "    echo\n",
    "    \n",
    "    ### merge files\n",
    "    cat ${FD_BED}/${FN_BED} >> ${FD_OUT}/${FN_OUT}\n",
    "done\n",
    "\n",
    "### sort file in place\n",
    "sort -k2,2n -o ${FD_OUT}/${FN_OUT} ${FD_OUT}/${FN_OUT}\n",
    "\n",
    "### END Message\n",
    "echo \"Show the first few lines of the output file\"\n",
    "echo ${FD_OUT}/${FN_OUT}\n",
    "head -n 3 ${FD_OUT}/${FN_OUT}\n",
    "echo\n",
    "\n",
    "echo ++++++++++++++++++++++++++++++++++++++++++++++++\n",
    "### Merge for DMSO\n",
    "echo \"Merge for DMSO samples\"\n",
    "\n",
    "### INIT: set input and ouput\n",
    "FD_BEDS=($(ls -d ${FD_WRK}/data/TFX?_DMSO/))\n",
    "FD_OUT=${FD_WRK}/data/TFX_DMSO\n",
    "mkdir -p ${FD_OUT}\n",
    "\n",
    "### RUN: loop through samples and merge\n",
    "cat /dev/null > ${FD_OUT}/${FN_OUT}\n",
    "for FD_BED in ${FD_BEDS[@]}; do\n",
    "    ### Message\n",
    "    echo \"Show the first few lines of the input file\"\n",
    "    echo ${FD_BED}/${FN_BED}\n",
    "    head -n 3 ${FD_BED}/${FN_BED}\n",
    "    echo\n",
    "    \n",
    "    ### merge files\n",
    "    cat ${FD_BED}/${FN_BED} >> ${FD_OUT}/${FN_OUT}\n",
    "done\n",
    "\n",
    "### sort file in place\n",
    "sort -k2,2n -o ${FD_OUT}/${FN_OUT} ${FD_OUT}/${FN_OUT}\n",
    "\n",
    "### END Message\n",
    "echo \"Show the first few lines of the output file\"\n",
    "echo ${FD_OUT}/${FN_OUT}\n",
    "head -n 3 ${FD_OUT}/${FN_OUT}\n",
    "echo\n",
    "\n",
    "echo ++++++++++++++++++++++++++++++++++++++++++++++++\n",
    "### Merge for Dex\n",
    "echo \"Merge for Dex samples\"\n",
    "\n",
    "### INIT: set input and ouput\n",
    "FD_BEDS=($(ls -d ${FD_WRK}/data/TFX?_Dex/))\n",
    "FD_OUT=${FD_WRK}/data/TFX_Dex\n",
    "mkdir -p ${FD_OUT}\n",
    "\n",
    "### RUN: loop through samples and merge\n",
    "cat /dev/null > ${FD_OUT}/${FN_OUT}\n",
    "for FD_BED in ${FD_BEDS[@]}; do\n",
    "    ### Message\n",
    "    echo \"Show the first few lines of the input file\"\n",
    "    echo ${FD_BED}/${FN_BED}\n",
    "    head -n 3 ${FD_BED}/${FN_BED}\n",
    "    echo\n",
    "    \n",
    "    ### merge files\n",
    "    cat ${FD_BED}/${FN_BED} >> ${FD_OUT}/${FN_OUT}\n",
    "done\n",
    "\n",
    "### sort file in place\n",
    "sort -k2,2n -o ${FD_OUT}/${FN_OUT} ${FD_OUT}/${FN_OUT}\n",
    "\n",
    "### END Message \n",
    "echo \"Show the first few lines of the output file\"\n",
    "echo ${FD_OUT}/${FN_OUT}\n",
    "head -n 3 ${FD_OUT}/${FN_OUT}\n",
    "echo\n",
    "\n",
    "echo \"Done!\"\n",
    "EOF"
   ]
  },
  {
   "cell_type": "markdown",
   "id": "cf166b55-2a57-487d-8870-62482f621c14",
   "metadata": {},
   "source": [
    "**CHECK**"
   ]
  },
  {
   "cell_type": "code",
   "execution_count": 10,
   "id": "29cea751-1857-4ff6-8171-0afe379dc088",
   "metadata": {},
   "outputs": [
    {
     "name": "stdout",
     "output_type": "stream",
     "text": [
      "You are on Duke Server: DCC\n",
      "BASE DIRECTORY:     /work/kk319\n",
      "WORK DIRECTORY:     /work/kk319/out/CombEffect_STARR\n",
      "LOG  DIRECTORY:     /work/kk319/out/CombEffect_STARR/log\n",
      "PATH OF SOURCE:     /work/kk319/source\n",
      "PATH OF EXECUTABLE: /work/kk319/exe\n",
      "PATH OF ANNOTATION: /work/kk319/annotation\n",
      "\n",
      "Slurm Array Index:  16\n",
      "Chromosome:         chr17\n",
      "RUN: loop through samples; merge bed files\n",
      "\n",
      "++++++++++++++++++++++++++++++++++++++++++++++++\n",
      "Merge for INPUT samples\n",
      "Show the first few lines of the input file\n",
      "/work/kk319/out/CombEffect_STARR/data/Input1//chr17.bed\n",
      "chr17\t201123\t201925\n",
      "chr17\t201160\t201968\n",
      "chr17\t201202\t202074\n",
      "\n",
      "Show the first few lines of the input file\n",
      "/work/kk319/out/CombEffect_STARR/data/Input2//chr17.bed\n",
      "chr17\t159510\t160362\n",
      "chr17\t201155\t201968\n",
      "chr17\t201155\t201968\n",
      "\n",
      "Show the first few lines of the input file\n",
      "/work/kk319/out/CombEffect_STARR/data/Input3//chr17.bed\n",
      "chr17\t201190\t202046\n",
      "chr17\t201364\t202118\n",
      "chr17\t205568\t206550\n",
      "\n",
      "Show the first few lines of the input file\n",
      "/work/kk319/out/CombEffect_STARR/data/Input4//chr17.bed\n",
      "chr17\t182115\t183108\n",
      "chr17\t201133\t201985\n",
      "chr17\t201145\t202079\n",
      "\n",
      "Show the first few lines of the input file\n",
      "/work/kk319/out/CombEffect_STARR/data/Input5//chr17.bed\n",
      "chr17\t197679\t198597\n",
      "chr17\t201155\t201967\n",
      "chr17\t201364\t202119\n",
      "\n",
      "Show the first few lines of the output file\n",
      "/work/kk319/out/CombEffect_STARR/data/Input/chr17.bed\n",
      "chr17\t159510\t160362\n",
      "chr17\t182115\t183108\n",
      "chr17\t197679\t198597\n",
      "\n",
      "++++++++++++++++++++++++++++++++++++++++++++++++\n",
      "Merge for DMSO samples\n",
      "Show the first few lines of the input file\n",
      "/work/kk319/out/CombEffect_STARR/data/TFX2_DMSO//chr17.bed\n",
      "chr17\t87067\t87989\n",
      "chr17\t158043\t159067\n",
      "chr17\t158043\t159066\n",
      "\n",
      "Show the first few lines of the input file\n",
      "/work/kk319/out/CombEffect_STARR/data/TFX3_DMSO//chr17.bed\n",
      "chr17\t159962\t160793\n",
      "chr17\t185415\t186343\n",
      "chr17\t201202\t202074\n",
      "\n",
      "Show the first few lines of the input file\n",
      "/work/kk319/out/CombEffect_STARR/data/TFX4_DMSO//chr17.bed\n",
      "chr17\t201155\t201968\n",
      "chr17\t201155\t201967\n",
      "chr17\t201155\t201962\n",
      "\n",
      "Show the first few lines of the input file\n",
      "/work/kk319/out/CombEffect_STARR/data/TFX5_DMSO//chr17.bed\n",
      "chr17\t101601\t102522\n",
      "chr17\t160263\t161262\n",
      "chr17\t161009\t161941\n",
      "\n",
      "Show the first few lines of the output file\n",
      "/work/kk319/out/CombEffect_STARR/data/TFX_DMSO/chr17.bed\n",
      "chr17\t87067\t87989\n",
      "chr17\t101601\t102522\n",
      "chr17\t158043\t159066\n",
      "\n",
      "++++++++++++++++++++++++++++++++++++++++++++++++\n",
      "Merge for Dex samples\n",
      "Show the first few lines of the input file\n",
      "/work/kk319/out/CombEffect_STARR/data/TFX2_Dex//chr17.bed\n",
      "chr17\t83638\t84547\n",
      "chr17\t92503\t93508\n",
      "chr17\t152590\t153715\n",
      "\n",
      "Show the first few lines of the input file\n",
      "/work/kk319/out/CombEffect_STARR/data/TFX3_Dex//chr17.bed\n",
      "chr17\t120738\t123102\n",
      "chr17\t169749\t171139\n",
      "chr17\t182083\t183038\n",
      "\n",
      "Show the first few lines of the input file\n",
      "/work/kk319/out/CombEffect_STARR/data/TFX4_Dex//chr17.bed\n",
      "chr17\t160133\t161194\n",
      "chr17\t197659\t198568\n",
      "chr17\t201224\t202001\n",
      "\n",
      "Show the first few lines of the input file\n",
      "/work/kk319/out/CombEffect_STARR/data/TFX5_Dex//chr17.bed\n",
      "chr17\t70104\t71559\n",
      "chr17\t152554\t153491\n",
      "chr17\t201123\t201923\n",
      "\n",
      "Show the first few lines of the output file\n",
      "/work/kk319/out/CombEffect_STARR/data/TFX_Dex/chr17.bed\n",
      "chr17\t70104\t71559\n",
      "chr17\t83638\t84547\n",
      "chr17\t92503\t93508\n",
      "\n",
      "Done!\n"
     ]
    }
   ],
   "source": [
    "cat ${FD_LOG}/merge_data_chrom.16.txt"
   ]
  },
  {
   "cell_type": "code",
   "execution_count": null,
   "id": "375724ad-ed5a-4fbb-bc6f-4a2aaccb0e29",
   "metadata": {},
   "outputs": [],
   "source": []
  }
 ],
 "metadata": {
  "kernelspec": {
   "display_name": "Bash",
   "language": "bash",
   "name": "bash"
  },
  "language_info": {
   "codemirror_mode": "shell",
   "file_extension": ".sh",
   "mimetype": "text/x-sh",
   "name": "bash"
  }
 },
 "nbformat": 4,
 "nbformat_minor": 5
}
