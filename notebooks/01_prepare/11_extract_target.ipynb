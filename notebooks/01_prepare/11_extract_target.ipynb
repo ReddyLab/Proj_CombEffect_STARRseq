{
 "cells": [
  {
   "cell_type": "markdown",
   "id": "67ff17f1-98c6-4e5e-9dbb-a230284c55d5",
   "metadata": {},
   "source": [
    "**Set environment**"
   ]
  },
  {
   "cell_type": "code",
   "execution_count": 1,
   "id": "855dfd35-4926-498e-a0c2-f7da81cabeeb",
   "metadata": {},
   "outputs": [
    {
     "name": "stdout",
     "output_type": "stream",
     "text": [
      "You are on Duke Server: HARDAC\n",
      "BASE DIRECTORY:     /gpfs/fs1/data/reddylab/Kuei\n",
      "PATH OF SOURCE:     /gpfs/fs1/data/reddylab/Kuei/source\n",
      "PATH OF EXECUTABLE: /gpfs/fs1/data/reddylab/Kuei/exe\n",
      "PATH OF ANNOTATION: /gpfs/fs1/data/reddylab/Kuei/annotation\n",
      "PATH OF PROJECT:    /gpfs/fs1/data/reddylab/Kuei/GitRepo/Proj_CombEffect_STARRseq/notebooks\n",
      "PATH OF RESULTS:    /gpfs/fs1/data/reddylab/Kuei/out/proj_combeffect\n",
      "\n"
     ]
    }
   ],
   "source": [
    "source ../config_duke.sh -v"
   ]
  },
  {
   "cell_type": "markdown",
   "id": "2efb49bf-f496-4836-9ffb-05348b3a09e9",
   "metadata": {},
   "source": [
    "## Test loop"
   ]
  },
  {
   "cell_type": "code",
   "execution_count": 2,
   "id": "00765082-6f23-4b98-8345-6fd9f6333bf7",
   "metadata": {},
   "outputs": [
    {
     "name": "stdout",
     "output_type": "stream",
     "text": [
      "\u001b[0m\u001b[38;5;27mannotation_fragment\u001b[0m  \u001b[38;5;27mcount_fragment\u001b[0m  \u001b[38;5;27mcoverage\u001b[0m  \u001b[38;5;27mdata\u001b[0m  \u001b[38;5;27mlog\u001b[0m  \u001b[38;5;27mmodel_linear\u001b[0m  \u001b[38;5;27msource\u001b[0m\n"
     ]
    }
   ],
   "source": [
    "ls ${FD_RES}"
   ]
  },
  {
   "cell_type": "code",
   "execution_count": 3,
   "id": "bd467277-3b08-4f99-abd3-e87cfa3a1c0e",
   "metadata": {},
   "outputs": [
    {
     "name": "stdout",
     "output_type": "stream",
     "text": [
      "\u001b[0m\u001b[38;5;27mInput\u001b[0m       \u001b[38;5;27mInput2\u001b[0m      \u001b[38;5;27mInput3_20x\u001b[0m  \u001b[38;5;27mInput5\u001b[0m      \u001b[38;5;27mTFX2_DMSO\u001b[0m  \u001b[38;5;27mTFX4_Dex\u001b[0m   \u001b[38;5;27mTFX5_DMSO\u001b[0m\n",
      "\u001b[38;5;27mInput1\u001b[0m      \u001b[38;5;27mInput2_20x\u001b[0m  \u001b[38;5;27mInput4\u001b[0m      \u001b[38;5;27mInput5_20x\u001b[0m  \u001b[38;5;27mTFX3_Dex\u001b[0m   \u001b[38;5;27mTFX4_DMSO\u001b[0m  \u001b[38;5;27mTFX_Dex\u001b[0m\n",
      "\u001b[38;5;27mInput1_20x\u001b[0m  \u001b[38;5;27mInput3\u001b[0m      \u001b[38;5;27mInput4_20x\u001b[0m  \u001b[38;5;27mTFX2_Dex\u001b[0m    \u001b[38;5;27mTFX3_DMSO\u001b[0m  \u001b[38;5;27mTFX5_Dex\u001b[0m   \u001b[38;5;27mTFX_DMSO\u001b[0m\n"
     ]
    }
   ],
   "source": [
    "ls ${FD_RES}/data"
   ]
  },
  {
   "cell_type": "code",
   "execution_count": 7,
   "id": "eb8e622e-4ecd-42db-889a-b770d1484c2e",
   "metadata": {},
   "outputs": [
    {
     "name": "stdout",
     "output_type": "stream",
     "text": [
      "\u001b[0m\u001b[38;5;27m/gpfs/fs1/data/reddylab/Kuei/out/proj_combeffect/data/Input1\u001b[0m\n",
      "\u001b[38;5;27m/gpfs/fs1/data/reddylab/Kuei/out/proj_combeffect/data/Input1_20x\u001b[0m\n",
      "\u001b[38;5;27m/gpfs/fs1/data/reddylab/Kuei/out/proj_combeffect/data/Input2\u001b[0m\n",
      "\u001b[38;5;27m/gpfs/fs1/data/reddylab/Kuei/out/proj_combeffect/data/Input2_20x\u001b[0m\n",
      "\u001b[38;5;27m/gpfs/fs1/data/reddylab/Kuei/out/proj_combeffect/data/Input3\u001b[0m\n",
      "\u001b[38;5;27m/gpfs/fs1/data/reddylab/Kuei/out/proj_combeffect/data/Input3_20x\u001b[0m\n",
      "\u001b[38;5;27m/gpfs/fs1/data/reddylab/Kuei/out/proj_combeffect/data/Input4\u001b[0m\n",
      "\u001b[38;5;27m/gpfs/fs1/data/reddylab/Kuei/out/proj_combeffect/data/Input4_20x\u001b[0m\n",
      "\u001b[38;5;27m/gpfs/fs1/data/reddylab/Kuei/out/proj_combeffect/data/Input5\u001b[0m\n",
      "\u001b[38;5;27m/gpfs/fs1/data/reddylab/Kuei/out/proj_combeffect/data/Input5_20x\u001b[0m\n"
     ]
    }
   ],
   "source": [
    "ls -d ${FD_RES}/data/Input?*"
   ]
  },
  {
   "cell_type": "code",
   "execution_count": 8,
   "id": "b737a85f-df51-4b64-af18-a3b62d5305a8",
   "metadata": {},
   "outputs": [
    {
     "name": "stdout",
     "output_type": "stream",
     "text": [
      "\u001b[0m\u001b[38;5;27m/gpfs/fs1/data/reddylab/Kuei/out/proj_combeffect/data/TFX2_DMSO\u001b[0m\n",
      "\u001b[38;5;27m/gpfs/fs1/data/reddylab/Kuei/out/proj_combeffect/data/TFX3_DMSO\u001b[0m\n",
      "\u001b[38;5;27m/gpfs/fs1/data/reddylab/Kuei/out/proj_combeffect/data/TFX4_DMSO\u001b[0m\n",
      "\u001b[38;5;27m/gpfs/fs1/data/reddylab/Kuei/out/proj_combeffect/data/TFX5_DMSO\u001b[0m\n"
     ]
    }
   ],
   "source": [
    "ls -d ${FD_RES}/data/TFX?_DMSO"
   ]
  },
  {
   "cell_type": "code",
   "execution_count": 9,
   "id": "d9f8299e-d684-48e4-99fe-66bf8304e591",
   "metadata": {},
   "outputs": [
    {
     "name": "stdout",
     "output_type": "stream",
     "text": [
      "\u001b[0m\u001b[38;5;27m/gpfs/fs1/data/reddylab/Kuei/out/proj_combeffect/data/TFX2_Dex\u001b[0m\n",
      "\u001b[38;5;27m/gpfs/fs1/data/reddylab/Kuei/out/proj_combeffect/data/TFX3_Dex\u001b[0m\n",
      "\u001b[38;5;27m/gpfs/fs1/data/reddylab/Kuei/out/proj_combeffect/data/TFX4_Dex\u001b[0m\n",
      "\u001b[38;5;27m/gpfs/fs1/data/reddylab/Kuei/out/proj_combeffect/data/TFX5_Dex\u001b[0m\n"
     ]
    }
   ],
   "source": [
    "ls -d ${FD_RES}/data/TFX?_Dex"
   ]
  },
  {
   "cell_type": "code",
   "execution_count": 10,
   "id": "c4bfbfa6-501e-49e0-a590-537dcc7078f0",
   "metadata": {},
   "outputs": [
    {
     "name": "stdout",
     "output_type": "stream",
     "text": [
      "\u001b[0m\u001b[38;5;27m/gpfs/fs1/data/reddylab/Kuei/out/proj_combeffect/data/Input1\u001b[0m\n",
      "\u001b[38;5;27m/gpfs/fs1/data/reddylab/Kuei/out/proj_combeffect/data/Input1_20x\u001b[0m\n",
      "\u001b[38;5;27m/gpfs/fs1/data/reddylab/Kuei/out/proj_combeffect/data/Input2\u001b[0m\n",
      "\u001b[38;5;27m/gpfs/fs1/data/reddylab/Kuei/out/proj_combeffect/data/Input2_20x\u001b[0m\n",
      "\u001b[38;5;27m/gpfs/fs1/data/reddylab/Kuei/out/proj_combeffect/data/Input3\u001b[0m\n",
      "\u001b[38;5;27m/gpfs/fs1/data/reddylab/Kuei/out/proj_combeffect/data/Input3_20x\u001b[0m\n",
      "\u001b[38;5;27m/gpfs/fs1/data/reddylab/Kuei/out/proj_combeffect/data/Input4\u001b[0m\n",
      "\u001b[38;5;27m/gpfs/fs1/data/reddylab/Kuei/out/proj_combeffect/data/Input4_20x\u001b[0m\n",
      "\u001b[38;5;27m/gpfs/fs1/data/reddylab/Kuei/out/proj_combeffect/data/Input5\u001b[0m\n",
      "\u001b[38;5;27m/gpfs/fs1/data/reddylab/Kuei/out/proj_combeffect/data/Input5_20x\u001b[0m\n",
      "\u001b[38;5;27m/gpfs/fs1/data/reddylab/Kuei/out/proj_combeffect/data/TFX2_Dex\u001b[0m\n",
      "\u001b[38;5;27m/gpfs/fs1/data/reddylab/Kuei/out/proj_combeffect/data/TFX2_DMSO\u001b[0m\n",
      "\u001b[38;5;27m/gpfs/fs1/data/reddylab/Kuei/out/proj_combeffect/data/TFX3_Dex\u001b[0m\n",
      "\u001b[38;5;27m/gpfs/fs1/data/reddylab/Kuei/out/proj_combeffect/data/TFX3_DMSO\u001b[0m\n",
      "\u001b[38;5;27m/gpfs/fs1/data/reddylab/Kuei/out/proj_combeffect/data/TFX4_Dex\u001b[0m\n",
      "\u001b[38;5;27m/gpfs/fs1/data/reddylab/Kuei/out/proj_combeffect/data/TFX4_DMSO\u001b[0m\n",
      "\u001b[38;5;27m/gpfs/fs1/data/reddylab/Kuei/out/proj_combeffect/data/TFX5_Dex\u001b[0m\n",
      "\u001b[38;5;27m/gpfs/fs1/data/reddylab/Kuei/out/proj_combeffect/data/TFX5_DMSO\u001b[0m\n"
     ]
    }
   ],
   "source": [
    "ls -d ${FD_RES}/data/{Input?*,TFX?_DMSO,TFX?_Dex}"
   ]
  },
  {
   "cell_type": "markdown",
   "id": "ef91ae7f-6056-4fea-96e3-748563f368db",
   "metadata": {
    "tags": []
   },
   "source": [
    "## Extract PER1 chr17:8148000-8160000"
   ]
  },
  {
   "cell_type": "code",
   "execution_count": 4,
   "id": "51192c3f-02ef-4771-8ec2-07047f6ed8d9",
   "metadata": {},
   "outputs": [
    {
     "name": "stdout",
     "output_type": "stream",
     "text": [
      "chr10.bed  chr14.bed  chr18.bed  chr21.bed  chr4.bed  chr8.bed  target_PER1.bed\n",
      "chr11.bed  chr15.bed  chr19.bed  chr22.bed  chr5.bed  chr9.bed\n",
      "chr12.bed  chr16.bed  chr1.bed   chr2.bed   chr6.bed  chrX.bed\n",
      "chr13.bed  chr17.bed  chr20.bed  chr3.bed   chr7.bed  chrY.bed\n"
     ]
    }
   ],
   "source": [
    "ls ${FD_RES}/data/Input1"
   ]
  },
  {
   "cell_type": "markdown",
   "id": "bd103c24-2618-436c-a900-17ccae5c54ef",
   "metadata": {},
   "source": [
    "**Test**"
   ]
  },
  {
   "cell_type": "code",
   "execution_count": 17,
   "id": "d897022b-afb4-4c7b-9276-514493e1e19f",
   "metadata": {},
   "outputs": [
    {
     "name": "stdout",
     "output_type": "stream",
     "text": [
      "chr17\t201160\t201968\n",
      "chr17\t201202\t202074\n",
      "chr17\t201259\t202052\n"
     ]
    }
   ],
   "source": [
    "head /gpfs/fs1/data/reddylab/Kuei/out/proj_combeffect/data/Input1/chr17.bed |\\\n",
    "    awk -F $'\\t' '($2 >= 201160 && $2 <= 201260)'"
   ]
  },
  {
   "cell_type": "code",
   "execution_count": 21,
   "id": "3b679f83-1015-448a-b4df-35589579ee20",
   "metadata": {},
   "outputs": [
    {
     "name": "stdout",
     "output_type": "stream",
     "text": [
      "chr17\t201160\t201968\n",
      "chr17\t201202\t202074\n",
      "chr17\t201259\t202052\n"
     ]
    }
   ],
   "source": [
    "WINDOW_START=201160\n",
    "WINDOW_END=201260\n",
    "head /gpfs/fs1/data/reddylab/Kuei/out/proj_combeffect/data/Input1/chr17.bed |\\\n",
    "    awk -v WINDOW_START=\"${WINDOW_START}\" \\\n",
    "        -v WINDOW_END=\"${WINDOW_END}\" \\\n",
    "        -F $'\\t' '($2 >= WINDOW_START && $2 <= WINDOW_END)'"
   ]
  },
  {
   "cell_type": "markdown",
   "id": "3446eb2b-948a-4a45-b606-3e9541d24fe6",
   "metadata": {},
   "source": [
    "**RUN**"
   ]
  },
  {
   "cell_type": "code",
   "execution_count": 5,
   "id": "d1c73cfe-06d9-4d5f-9071-cae42d4f93cf",
   "metadata": {},
   "outputs": [
    {
     "name": "stdout",
     "output_type": "stream",
     "text": [
      "\u001b[0m\u001b[38;5;27m/gpfs/fs1/data/reddylab/Kuei/out/proj_combeffect/log\u001b[0m\n",
      "all\n"
     ]
    }
   ],
   "source": [
    "ls -d ${FD_LOG}\n",
    "echo ${NODE}"
   ]
  },
  {
   "cell_type": "code",
   "execution_count": 22,
   "id": "603d6d8f-556c-49c1-9063-76b3a5e1edcb",
   "metadata": {},
   "outputs": [
    {
     "name": "stdout",
     "output_type": "stream",
     "text": [
      "Submitted batch job 26142828\n"
     ]
    }
   ],
   "source": [
    "### set environment\n",
    "source ../config_duke.sh\n",
    "\n",
    "### run script using sbatch\n",
    "sbatch -p ${NODE} \\\n",
    "    --array=0-17 \\\n",
    "    --mem 8G \\\n",
    "    -o ${FD_LOG}/prep_target_per1.%a.txt \\\n",
    "    <<'EOF'\n",
    "#!/bin/bash\n",
    "### set environment and global variables\n",
    "source ../config_duke.sh\n",
    "CHROM=chr17\n",
    "TARGET=target_PER1\n",
    "WINDOW_START=8148000\n",
    "WINDOW_END=8160000\n",
    "\n",
    "### set input and output\n",
    "FD_BEDS=($(ls -d ${FD_RES}/data/{Input?*,TFX?_DMSO,TFX?_Dex}))\n",
    "FD_BED=${FD_BEDS[${SLURM_ARRAY_TASK_ID}]}\n",
    "FN_BED=${CHROM}.bed\n",
    "FD_OUT=${FD_BED}\n",
    "FN_OUT=${TARGET}.bed\n",
    "\n",
    "### print start message\n",
    "echo \"Slurm Array Index: \" ${SLURM_ARRAY_TASK_ID}\n",
    "echo \"Input  file:       \" ${FD_BED}/${FN_BED}\n",
    "echo \"Output file:       \" ${FD_OUT}/${FN_OUT}\n",
    "echo\n",
    "echo \"Show the first few lines of the input file\"\n",
    "echo    ${FD_BED}/${FN_BED}\n",
    "head -5 ${FD_BED}/${FN_BED}\n",
    "echo\n",
    "\n",
    "### extract fragments within the target window\n",
    "cat ${FD_BED}/${FN_BED} |\\\n",
    "    awk -v WINDOW_START=\"${WINDOW_START}\" \\\n",
    "        -v WINDOW_END=\"${WINDOW_END}\" \\\n",
    "        -F $'\\t' '($2 >= WINDOW_START && $2 <= WINDOW_END)' > ${FD_OUT}/${FN_OUT}\n",
    "\n",
    "### print end message\n",
    "echo\n",
    "echo \"Show the first few lines of the output file\"\n",
    "echo    ${FD_OUT}/${FN_OUT}\n",
    "head -5 ${FD_OUT}/${FN_OUT}\n",
    "\n",
    "EOF"
   ]
  },
  {
   "cell_type": "markdown",
   "id": "627537ac-de6f-4d26-b9e7-a4d068ec0da5",
   "metadata": {},
   "source": [
    "**Check**"
   ]
  },
  {
   "cell_type": "code",
   "execution_count": 23,
   "id": "0d03d229-d310-4de8-98c5-a04a671325f6",
   "metadata": {},
   "outputs": [
    {
     "name": "stdout",
     "output_type": "stream",
     "text": [
      "Slurm Array Index:  0\n",
      "Input  file:        /gpfs/fs1/data/reddylab/Kuei/out/proj_combeffect/data/Input1/chr17.bed\n",
      "Output file:        /gpfs/fs1/data/reddylab/Kuei/out/proj_combeffect/data/Input1/target_PER1.bed\n",
      "\n",
      "Show the first few lines of the input file\n",
      "/gpfs/fs1/data/reddylab/Kuei/out/proj_combeffect/data/Input1/chr17.bed\n",
      "chr17\t201123\t201925\n",
      "chr17\t201160\t201968\n",
      "chr17\t201202\t202074\n",
      "chr17\t201259\t202052\n",
      "chr17\t201366\t202130\n",
      "\n",
      "\n",
      "Show the first few lines of the output file\n",
      "/gpfs/fs1/data/reddylab/Kuei/out/proj_combeffect/data/Input1/target_PER1.bed\n",
      "chr17\t8148117\t8149012\n",
      "chr17\t8148122\t8149107\n",
      "chr17\t8148178\t8149194\n",
      "chr17\t8148188\t8149154\n",
      "chr17\t8148190\t8149151\n"
     ]
    }
   ],
   "source": [
    "cat ${FD_LOG}/prep_target_per1.0.txt"
   ]
  },
  {
   "cell_type": "code",
   "execution_count": 33,
   "id": "d1f772fa-4d73-49e5-b1f4-69e8c6e2453e",
   "metadata": {},
   "outputs": [
    {
     "name": "stdout",
     "output_type": "stream",
     "text": [
      "Slurm Array Index:  1\n",
      "Input  file:        /gpfs/fs1/data/reddylab/Kuei/out/proj_combeffect/data/Input1_20x/chr17.bed\n",
      "Output file:        /gpfs/fs1/data/reddylab/Kuei/out/proj_combeffect/data/Input1_20x/target_PER1.bed\n",
      "\n",
      "Show the first few lines of the input file\n",
      "/gpfs/fs1/data/reddylab/Kuei/out/proj_combeffect/data/Input1_20x/chr17.bed\n",
      "chr17\t107410\t108464\n",
      "chr17\t159026\t160040\n",
      "chr17\t159426\t160303\n",
      "chr17\t159510\t160362\n",
      "chr17\t159977\t160849\n",
      "\n",
      "\n",
      "Show the first few lines of the output file\n",
      "/gpfs/fs1/data/reddylab/Kuei/out/proj_combeffect/data/Input1_20x/target_PER1.bed\n",
      "chr17\t8148003\t8148983\n",
      "chr17\t8148003\t8148983\n",
      "chr17\t8148003\t8148983\n",
      "chr17\t8148004\t8148963\n",
      "chr17\t8148004\t8148962\n"
     ]
    }
   ],
   "source": [
    "cat ${FD_LOG}/prep_target_per1.1.txt"
   ]
  },
  {
   "cell_type": "code",
   "execution_count": 28,
   "id": "839ea132-7105-4db6-94f6-e1da0e25d61b",
   "metadata": {},
   "outputs": [
    {
     "name": "stdout",
     "output_type": "stream",
     "text": [
      "  169 /gpfs/fs1/data/reddylab/Kuei/out/proj_combeffect/data/Input1/target_PER1.bed\n",
      "  192 /gpfs/fs1/data/reddylab/Kuei/out/proj_combeffect/data/Input2/target_PER1.bed\n",
      "  264 /gpfs/fs1/data/reddylab/Kuei/out/proj_combeffect/data/Input3/target_PER1.bed\n",
      "  181 /gpfs/fs1/data/reddylab/Kuei/out/proj_combeffect/data/Input4/target_PER1.bed\n",
      "  127 /gpfs/fs1/data/reddylab/Kuei/out/proj_combeffect/data/Input5/target_PER1.bed\n",
      "  933 total\n"
     ]
    }
   ],
   "source": [
    "wc -l ${FD_RES}/data/Input?/target_PER1.bed"
   ]
  },
  {
   "cell_type": "code",
   "execution_count": 29,
   "id": "4f954563-05c4-4920-9e96-793912fdc8d4",
   "metadata": {},
   "outputs": [
    {
     "name": "stdout",
     "output_type": "stream",
     "text": [
      "  4428 /gpfs/fs1/data/reddylab/Kuei/out/proj_combeffect/data/Input1_20x/target_PER1.bed\n",
      "  4203 /gpfs/fs1/data/reddylab/Kuei/out/proj_combeffect/data/Input2_20x/target_PER1.bed\n",
      "  4366 /gpfs/fs1/data/reddylab/Kuei/out/proj_combeffect/data/Input3_20x/target_PER1.bed\n",
      "  4814 /gpfs/fs1/data/reddylab/Kuei/out/proj_combeffect/data/Input4_20x/target_PER1.bed\n",
      "  4059 /gpfs/fs1/data/reddylab/Kuei/out/proj_combeffect/data/Input5_20x/target_PER1.bed\n",
      " 21870 total\n"
     ]
    }
   ],
   "source": [
    "wc -l ${FD_RES}/data/Input?_20x/target_PER1.bed"
   ]
  },
  {
   "cell_type": "code",
   "execution_count": 30,
   "id": "0af3b613-ea2e-45fe-b2c1-cec3909aa2aa",
   "metadata": {},
   "outputs": [
    {
     "name": "stdout",
     "output_type": "stream",
     "text": [
      "  933 /gpfs/fs1/data/reddylab/Kuei/out/proj_combeffect/data/TFX2_DMSO/target_PER1.bed\n",
      "  611 /gpfs/fs1/data/reddylab/Kuei/out/proj_combeffect/data/TFX3_DMSO/target_PER1.bed\n",
      "  620 /gpfs/fs1/data/reddylab/Kuei/out/proj_combeffect/data/TFX4_DMSO/target_PER1.bed\n",
      "  806 /gpfs/fs1/data/reddylab/Kuei/out/proj_combeffect/data/TFX5_DMSO/target_PER1.bed\n",
      " 2970 total\n"
     ]
    }
   ],
   "source": [
    "wc -l ${FD_RES}/data/TFX?_DMSO/target_PER1.bed"
   ]
  },
  {
   "cell_type": "code",
   "execution_count": 31,
   "id": "0841459a-b295-4f5a-a260-21824eed9cfc",
   "metadata": {},
   "outputs": [
    {
     "name": "stdout",
     "output_type": "stream",
     "text": [
      "  2467 /gpfs/fs1/data/reddylab/Kuei/out/proj_combeffect/data/TFX2_Dex/target_PER1.bed\n",
      "  1548 /gpfs/fs1/data/reddylab/Kuei/out/proj_combeffect/data/TFX3_Dex/target_PER1.bed\n",
      "  2082 /gpfs/fs1/data/reddylab/Kuei/out/proj_combeffect/data/TFX4_Dex/target_PER1.bed\n",
      "  2772 /gpfs/fs1/data/reddylab/Kuei/out/proj_combeffect/data/TFX5_Dex/target_PER1.bed\n",
      "  8869 total\n"
     ]
    }
   ],
   "source": [
    "wc -l ${FD_RES}/data/TFX?_Dex/target_PER1.bed"
   ]
  },
  {
   "cell_type": "code",
   "execution_count": null,
   "id": "5b71b716-2d46-4e3a-8e24-4c08ed47d072",
   "metadata": {},
   "outputs": [],
   "source": []
  },
  {
   "cell_type": "code",
   "execution_count": null,
   "id": "39010be6-4c19-4ac4-865f-59e4142f7c27",
   "metadata": {},
   "outputs": [],
   "source": []
  },
  {
   "cell_type": "code",
   "execution_count": null,
   "id": "f2656820-06e9-429b-bb9e-f0ce440066c7",
   "metadata": {},
   "outputs": [],
   "source": []
  }
 ],
 "metadata": {
  "kernelspec": {
   "display_name": "Bash",
   "language": "bash",
   "name": "bash"
  },
  "language_info": {
   "codemirror_mode": "shell",
   "file_extension": ".sh",
   "mimetype": "text/x-sh",
   "name": "bash"
  }
 },
 "nbformat": 4,
 "nbformat_minor": 5
}
