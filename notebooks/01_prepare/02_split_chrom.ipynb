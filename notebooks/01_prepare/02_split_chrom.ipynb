{
 "cells": [
  {
   "cell_type": "markdown",
   "id": "9be830e9-3002-43ce-a5ac-571c2a6057b5",
   "metadata": {},
   "source": [
    "**Set environment**"
   ]
  },
  {
   "cell_type": "code",
   "execution_count": null,
   "id": "3bff4313-b4c4-414c-b69e-20541735376c",
   "metadata": {},
   "outputs": [],
   "source": [
    "source ../config_duke.sh"
   ]
  }
 ],
 "metadata": {
  "kernelspec": {
   "display_name": "Bash",
   "language": "bash",
   "name": "bash"
  },
  "language_info": {
   "codemirror_mode": "shell",
   "file_extension": ".sh",
   "mimetype": "text/x-sh",
   "name": "bash"
  }
 },
 "nbformat": 4,
 "nbformat_minor": 5
}
