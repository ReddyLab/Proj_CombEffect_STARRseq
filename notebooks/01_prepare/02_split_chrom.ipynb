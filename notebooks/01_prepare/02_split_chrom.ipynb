{
 "cells": [
  {
   "cell_type": "markdown",
   "id": "9be830e9-3002-43ce-a5ac-571c2a6057b5",
   "metadata": {},
   "source": [
    "**Set environment**"
   ]
  },
  {
   "cell_type": "code",
   "execution_count": 1,
   "id": "3bff4313-b4c4-414c-b69e-20541735376c",
   "metadata": {},
   "outputs": [],
   "source": [
    "source ../config_duke.sh"
   ]
  },
  {
   "cell_type": "code",
   "execution_count": 25,
   "id": "fec522e6-7310-4f78-baae-521742e0f910",
   "metadata": {},
   "outputs": [
    {
     "name": "stdout",
     "output_type": "stream",
     "text": [
      "/gpfs/fs1/data/reddylab/Kuei/GitRepo/Proj_CombEffect_STARRseq/notebooks/config_duke.sh\n"
     ]
    }
   ],
   "source": [
    "readlink -f ../config_duke.sh"
   ]
  },
  {
   "cell_type": "code",
   "execution_count": 4,
   "id": "6710ee9f-ea21-477f-a13c-456ec2445264",
   "metadata": {},
   "outputs": [
    {
     "name": "stdout",
     "output_type": "stream",
     "text": [
      "\u001b[0m\u001b[38;5;27mInput1\u001b[0m            \u001b[38;5;27mTFX2_CpdA\u001b[0m            \u001b[38;5;27mTFX3_GW870086\u001b[0m        \u001b[38;5;27mTFX4_RU486\u001b[0m\n",
      "\u001b[38;5;27mInput1_20x\u001b[0m        \u001b[38;5;27mTFX2_Dex\u001b[0m             \u001b[38;5;27mTFX3_Hydrocortisone\u001b[0m  \u001b[38;5;27mTFX4_ZK216348\u001b[0m\n",
      "\u001b[38;5;27mInput2\u001b[0m            \u001b[38;5;27mTFX2_DMSO\u001b[0m            \u001b[38;5;27mTFX3_Mapracorat\u001b[0m      \u001b[38;5;27mTFX5_AZD2906\u001b[0m\n",
      "\u001b[38;5;27mInput2_20x\u001b[0m        \u001b[38;5;27mTFX2_GW870086\u001b[0m        \u001b[38;5;27mTFX3_RU486\u001b[0m           \u001b[38;5;27mTFX5_AZD9567\u001b[0m\n",
      "\u001b[38;5;27mInput3\u001b[0m            \u001b[38;5;27mTFX2_Hydrocortisone\u001b[0m  \u001b[38;5;27mTFX3_ZK216348\u001b[0m        \u001b[38;5;27mTFX5_CORT108297\u001b[0m\n",
      "\u001b[38;5;27mInput3_20x\u001b[0m        \u001b[38;5;27mTFX2_Mapracorat\u001b[0m      \u001b[38;5;27mTFX4_AZD2906\u001b[0m         \u001b[38;5;27mTFX5_CpdA\u001b[0m\n",
      "\u001b[38;5;27mInput4\u001b[0m            \u001b[38;5;27mTFX2_RU486\u001b[0m           \u001b[38;5;27mTFX4_AZD9567\u001b[0m         \u001b[38;5;27mTFX5_Dex\u001b[0m\n",
      "\u001b[38;5;27mInput4_20x\u001b[0m        \u001b[38;5;27mTFX2_ZK216348\u001b[0m        \u001b[38;5;27mTFX4_CORT108297\u001b[0m      \u001b[38;5;27mTFX5_DMSO\u001b[0m\n",
      "\u001b[38;5;27mInput5\u001b[0m            \u001b[38;5;27mTFX3_AZD2906\u001b[0m         \u001b[38;5;27mTFX4_CpdA\u001b[0m            \u001b[38;5;27mTFX5_GW870086\u001b[0m\n",
      "\u001b[38;5;27mInput5_20x\u001b[0m        \u001b[38;5;27mTFX3_AZD9567\u001b[0m         \u001b[38;5;27mTFX4_Dex\u001b[0m             \u001b[38;5;27mTFX5_Hydrocortisone\u001b[0m\n",
      "library_size.txt  \u001b[38;5;27mTFX3_CORT108297\u001b[0m      \u001b[38;5;27mTFX4_DMSO\u001b[0m            \u001b[38;5;27mTFX5_Mapracorat\u001b[0m\n",
      "\u001b[38;5;27mTFX2_AZD2906\u001b[0m      \u001b[38;5;27mTFX3_CpdA\u001b[0m            \u001b[38;5;27mTFX4_GW870086\u001b[0m        \u001b[38;5;27mTFX5_RU486\u001b[0m\n",
      "\u001b[38;5;27mTFX2_AZD9567\u001b[0m      \u001b[38;5;27mTFX3_Dex\u001b[0m             \u001b[38;5;27mTFX4_Hydrocortisone\u001b[0m  \u001b[38;5;27mTFX5_ZK216348\u001b[0m\n",
      "\u001b[38;5;27mTFX2_CORT108297\u001b[0m   \u001b[38;5;27mTFX3_DMSO\u001b[0m            \u001b[38;5;27mTFX4_Mapracorat\u001b[0m\n"
     ]
    }
   ],
   "source": [
    "ls ${FD_RES}/source"
   ]
  },
  {
   "cell_type": "markdown",
   "id": "98d9b30f-f8f5-4365-8675-1c98d90ac15d",
   "metadata": {},
   "source": [
    "## Set up script to split chromosomes within a bed files"
   ]
  },
  {
   "cell_type": "code",
   "execution_count": 22,
   "id": "6fca037f-9d7e-4ff8-b305-bfa56a54e2d4",
   "metadata": {},
   "outputs": [],
   "source": [
    "cat > splitBed.sh << 'EOF'\n",
    "#############################################\n",
    "### Usage ./splitBed.sh input.bed outdir\n",
    "#############################################\n",
    "\n",
    "### get directory from command line\n",
    "FP_IN=$1\n",
    "FD_OT=$2\n",
    "\n",
    "### loop through the input bed file and \n",
    "### grep each chromosome to a output file\n",
    "for chr in `cut -f 1 $FP_IN | sort | uniq`;\n",
    "do\n",
    "    echo $chr\n",
    "    grep -w $chr $FP_IN > $FD_OT/$chr.bed\n",
    "done\n",
    "EOF"
   ]
  },
  {
   "cell_type": "code",
   "execution_count": 23,
   "id": "569a2805-6075-43e2-a865-798e75d61c8b",
   "metadata": {},
   "outputs": [
    {
     "name": "stdout",
     "output_type": "stream",
     "text": [
      "#############################################\n",
      "### Usage ./splitBed.sh input.bed outdir\n",
      "#############################################\n",
      "\n",
      "### get directory from command line\n",
      "FP_IN=$1\n",
      "FD_OT=$2\n",
      "\n",
      "### loop through the input bed file and \n",
      "### grep each chromosome to a output file\n",
      "for chr in `cut -f 1 $FP_IN | sort | uniq`;\n",
      "do\n",
      "    echo $chr\n",
      "    grep -w $chr $FP_IN > $FD_OT/$chr.bed\n",
      "done\n"
     ]
    }
   ],
   "source": [
    "cat splitBed.sh"
   ]
  },
  {
   "cell_type": "markdown",
   "id": "ab85af8d-8eea-4814-b5f7-f9e2bf911f23",
   "metadata": {
    "tags": []
   },
   "source": [
    "## Split Input 20x"
   ]
  },
  {
   "cell_type": "code",
   "execution_count": 7,
   "id": "d55639fc-edbb-49d5-9a04-e418391f7eb3",
   "metadata": {},
   "outputs": [
    {
     "name": "stdout",
     "output_type": "stream",
     "text": [
      "\u001b[0m\u001b[38;5;27m/gpfs/fs1/data/reddylab/Kuei/out/proj_combeffect/source/Input1_20x\u001b[0m\n",
      "\u001b[38;5;27m/gpfs/fs1/data/reddylab/Kuei/out/proj_combeffect/source/Input2_20x\u001b[0m\n",
      "\u001b[38;5;27m/gpfs/fs1/data/reddylab/Kuei/out/proj_combeffect/source/Input3_20x\u001b[0m\n",
      "\u001b[38;5;27m/gpfs/fs1/data/reddylab/Kuei/out/proj_combeffect/source/Input4_20x\u001b[0m\n",
      "\u001b[38;5;27m/gpfs/fs1/data/reddylab/Kuei/out/proj_combeffect/source/Input5_20x\u001b[0m\n"
     ]
    }
   ],
   "source": [
    "ls -d ${FD_RES}/source/Input?_20x"
   ]
  },
  {
   "cell_type": "code",
   "execution_count": 9,
   "id": "549546d9-c66b-41dc-9ef1-0030af12b869",
   "metadata": {},
   "outputs": [
    {
     "name": "stdout",
     "output_type": "stream",
     "text": [
      "\u001b[0m\u001b[38;5;27m/gpfs/fs1/data/reddylab/Kuei/out/proj_combeffect/log\u001b[0m\n",
      "all\n"
     ]
    }
   ],
   "source": [
    "ls -d ${FD_LOG}\n",
    "echo ${NODE}"
   ]
  },
  {
   "cell_type": "code",
   "execution_count": 24,
   "id": "97dc5ff4-dffc-44e3-8e7c-d67fc6e1d0cf",
   "metadata": {},
   "outputs": [
    {
     "name": "stdout",
     "output_type": "stream",
     "text": [
      "Submitted batch job 26142533\n"
     ]
    }
   ],
   "source": [
    "### run script using sbatch\n",
    "sbatch -p ${NODE} \\\n",
    "    --array=0-4 \\\n",
    "    --mem 8G \\\n",
    "    -o ${FD_LOG}/prep_splitbed_input_20x.%a.txt \\\n",
    "    <<'EOF'\n",
    "#!/bin/bash\n",
    "### set environment\n",
    "source ../config_duke.sh\n",
    "\n",
    "### set directories\n",
    "FD_BEDS=($(ls -d ${FD_RES}/source/Input?_20x/))\n",
    "FD_BED=${FD_BEDS[${SLURM_ARRAY_TASK_ID}]}\n",
    "FP_BED=${FD_BED}/*.bedpe\n",
    "FD_OUT=${FD_RES}/data/\"$(basename -- $FD_BED)\"\n",
    "\n",
    "### Start message\n",
    "echo \"Slurm Array Index: \" ${SLURM_ARRAY_TASK_ID}\n",
    "echo \"Input  directory:  \" ${FD_BED}\n",
    "echo \"Input  file:       \" ${FP_BED}\n",
    "echo \"Output directory:  \" ${FD_OUT}\n",
    "echo \"Show the first few lines of the input file\"\n",
    "head ${FP_BED}\n",
    "\n",
    "### create the output directory in not exist\n",
    "mkdir -p ${FD_OUT}\n",
    "\n",
    "### run script to split the bed file\n",
    "chmod +x splitBed.sh\n",
    "echo \"Splitting the input file\"\n",
    "./splitBed.sh ${FP_BED} ${FD_OUT}\n",
    "echo \"Done!\"\n",
    "\n",
    "EOF"
   ]
  },
  {
   "cell_type": "code",
   "execution_count": 17,
   "id": "90d133e9-06ef-4b4b-a40a-5819266c36fd",
   "metadata": {},
   "outputs": [
    {
     "name": "stdout",
     "output_type": "stream",
     "text": [
      "Slurm Array Index:  0\n",
      "Input  directory:   /gpfs/fs1/data/reddylab/Kuei/out/proj_combeffect/source/Input1_20x/\n",
      "Input  file:        /gpfs/fs1/data/reddylab/Kuei/out/proj_combeffect/source/Input1_20x//Input1.bedpe\n",
      "Output directory:   /gpfs/fs1/data/reddylab/Kuei/out/proj_combeffect/data/Input1_20x\n"
     ]
    }
   ],
   "source": [
    "cat ${FD_LOG}/prep_splitbed_input_20x.0.txt"
   ]
  },
  {
   "cell_type": "code",
   "execution_count": 18,
   "id": "b6a32d5b-947e-48be-a707-da8fe8cccccb",
   "metadata": {},
   "outputs": [
    {
     "name": "stdout",
     "output_type": "stream",
     "text": [
      "\u001b[0m\u001b[38;5;27mInput\u001b[0m   \u001b[38;5;27mInput2\u001b[0m  \u001b[38;5;27mInput4\u001b[0m  \u001b[38;5;27mTFX2_Dex\u001b[0m   \u001b[38;5;27mTFX3_Dex\u001b[0m   \u001b[38;5;27mTFX4_Dex\u001b[0m   \u001b[38;5;27mTFX5_Dex\u001b[0m   \u001b[38;5;27mTFX_Dex\u001b[0m\n",
      "\u001b[38;5;27mInput1\u001b[0m  \u001b[38;5;27mInput3\u001b[0m  \u001b[38;5;27mInput5\u001b[0m  \u001b[38;5;27mTFX2_DMSO\u001b[0m  \u001b[38;5;27mTFX3_DMSO\u001b[0m  \u001b[38;5;27mTFX4_DMSO\u001b[0m  \u001b[38;5;27mTFX5_DMSO\u001b[0m  \u001b[38;5;27mTFX_DMSO\u001b[0m\n"
     ]
    }
   ],
   "source": [
    "ls ${FD_RES}/data"
   ]
  },
  {
   "cell_type": "code",
   "execution_count": null,
   "id": "de3eb44a-d2db-4d0a-9846-883e13a689ff",
   "metadata": {},
   "outputs": [],
   "source": []
  },
  {
   "cell_type": "code",
   "execution_count": null,
   "id": "5f0a02e8-d7da-4cc5-86fe-bccae46844dd",
   "metadata": {},
   "outputs": [],
   "source": [
    "### create the output directory in not exist\n",
    "mkdir -p $FD_OUT\n",
    "echo \"Slurm Array Index: \" ${SLURM_ARRAY_TASK_ID}\n",
    "echo \"Input  directory:  \" ${FD_DAT}\n",
    "echo \"Input  file:       \" ${FP_DAT}\n",
    "echo \"Output directory:  \" ${FD_OUT}\n"
   ]
  },
  {
   "cell_type": "code",
   "execution_count": null,
   "id": "56a12409-52a0-4766-bc78-d1b93e7fb354",
   "metadata": {},
   "outputs": [],
   "source": [
    "### set environment\n",
    "\n",
    "\n",
    "### set log file directory\n",
    "FD_LOG=/gpfs/fs1/data/reddylab/Kuei/out/CombEffect_STARR/log\n",
    "\n",
    "### run script using sbatch\n",
    "sbatch -pnew,all \\\n",
    "    --array=0-4 \\\n",
    "    --mem 8G \\\n",
    "    -o ${FD_LOG}/prep_splitbed_input_20x.%a.txt \\\n",
    "    <<'EOF'\n",
    "#!/bin/bash\n",
    "### set directories\n",
    "FD_ALIGN=/data/reddylab/gjohnson/whole_genome_STARRseq/wgss3/alignment_and_processing/alignments\n",
    "\n",
    "### get data directory and set output directory\n",
    "FD_DATS=($(ls -d ${FD_ALIGN}/Input*/))\n",
    "FD_DAT=${FD_DATS[${SLURM_ARRAY_TASK_ID}]}\n",
    "FD_OUT=/data/reddylab/Kuei/out/CombEffect_STARR/data/\"$(basename -- $FD_DAT)\"\n",
    "FP_DAT=${FD_DAT}/*.bedpe\n",
    "\n",
    "### create the output directory in not exist\n",
    "mkdir -p $FD_OUT\n",
    "echo \"Slurm Array Index: \" ${SLURM_ARRAY_TASK_ID}\n",
    "echo \"Input  directory:  \" ${FD_DAT}\n",
    "echo \"Input  file:       \" ${FP_DAT}\n",
    "echo \"Output directory:  \" ${FD_OUT}\n",
    "\n",
    "echo \"Show the first few lines of the input file\"\n",
    "head ${FP_DAT}\n",
    "\n",
    "### run script to split the bed file\n",
    "chmod +x splitBed.sh\n",
    "echo \"Splitting the input file\"\n",
    "./splitBed.sh ${FP_DAT} ${FD_OUT}\n",
    "echo \"Done!\"\n",
    "\n",
    "EOF"
   ]
  }
 ],
 "metadata": {
  "kernelspec": {
   "display_name": "Bash",
   "language": "bash",
   "name": "bash"
  },
  "language_info": {
   "codemirror_mode": "shell",
   "file_extension": ".sh",
   "mimetype": "text/x-sh",
   "name": "bash"
  }
 },
 "nbformat": 4,
 "nbformat_minor": 5
}
