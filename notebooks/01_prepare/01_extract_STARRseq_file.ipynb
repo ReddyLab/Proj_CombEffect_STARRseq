{
 "cells": [
  {
   "cell_type": "markdown",
   "id": "c638d88b-8a94-4396-af17-911128fc9129",
   "metadata": {},
   "source": [
    "**Set environment**"
   ]
  },
  {
   "cell_type": "code",
   "execution_count": 1,
   "id": "12cda906-672b-44a5-9e10-c4dcf1e11250",
   "metadata": {},
   "outputs": [
    {
     "name": "stdout",
     "output_type": "stream",
     "text": [
      "You are on Duke Server: DCC\n",
      "BASE DIRECTORY:     /work/kk319\n",
      "WORK DIRECTORY:     /work/kk319/out/CombEffect_STARR\n",
      "LOG  DIRECTORY:     /work/kk319/out/CombEffect_STARR/log\n",
      "PATH OF SOURCE:     /work/kk319/source\n",
      "PATH OF EXECUTABLE: /work/kk319/exe\n",
      "PATH OF ANNOTATION: /work/kk319/annotation\n",
      "\n"
     ]
    }
   ],
   "source": [
    "source ../config_duke.sh"
   ]
  },
  {
   "cell_type": "markdown",
   "id": "570f29fa-687f-44b9-ac04-6ab158891c2c",
   "metadata": {},
   "source": [
    "## Extract the STARR-seq `tar.gz` file to my working directory\n",
    "\n",
    "[Forum: What command do I need to unzip/extract a .tar.gz file?](https://askubuntu.com/questions/25347/what-command-do-i-need-to-unzip-extract-a-tar-gz-file)\n",
    "```\n",
    "tar -xvzf community_images.tar.gz -C some_custom_folder_name\n",
    "```"
   ]
  },
  {
   "cell_type": "code",
   "execution_count": 2,
   "id": "fffd11b9-6717-4432-9f70-d14d72b111af",
   "metadata": {},
   "outputs": [
    {
     "name": "stdout",
     "output_type": "stream",
     "text": [
      "\u001b[0m\u001b[01;31mwhole_genome_STARRseq_bedpe.tar.gz\u001b[0m\n"
     ]
    }
   ],
   "source": [
    "ls ${FD_SRC}/whole_genome_STARRseq"
   ]
  },
  {
   "cell_type": "code",
   "execution_count": 3,
   "id": "541fafb0-d6a0-46bc-b995-ce4cc5fb9a7b",
   "metadata": {},
   "outputs": [
    {
     "name": "stdout",
     "output_type": "stream",
     "text": [
      "./TFX2_Hydrocortisone/TFX2_Hydrocortisone.bedpe\n",
      "./TFX2_DMSO/TFX2_DMSO.bedpe\n",
      "./TFX4_GW870086/TFX4_GW870086.bedpe\n",
      "./TFX3_AZD9567/TFX3_AZD9567.bedpe\n",
      "./TFX3_CpdA/TFX3_CpdA.bedpe\n",
      "./TFX2_GW870086/TFX2_GW870086.bedpe\n",
      "./TFX5_Hydrocortisone/TFX5_Hydrocortisone.bedpe\n",
      "./TFX4_RU486/TFX4_RU486.bedpe\n",
      "./Input3/Input3.bedpe\n",
      "./TFX3_CORT108297/TFX3_CORT108297.bedpe\n",
      "./TFX5_Dex/TFX5_Dex.bedpe\n",
      "./TFX5_GW870086/TFX5_GW870086.bedpe\n",
      "./TFX2_Mapracorat/TFX2_Mapracorat.bedpe\n",
      "./TFX5_ZK216348/TFX5_ZK216348.bedpe\n",
      "./TFX5_AZD9567/TFX5_AZD9567.bedpe\n",
      "./TFX2_RU486/TFX2_RU486.bedpe\n",
      "./TFX2_CORT108297/TFX2_CORT108297.bedpe\n",
      "./TFX4_Hydrocortisone/TFX4_Hydrocortisone.bedpe\n",
      "./TFX5_CpdA/TFX5_CpdA.bedpe\n",
      "./TFX2_Dex/TFX2_Dex.bedpe\n",
      "./TFX5_DMSO/TFX5_DMSO.bedpe\n",
      "./TFX2_AZD2906/TFX2_AZD2906.bedpe\n",
      "./TFX4_Dex/TFX4_Dex.bedpe\n",
      "./TFX5_RU486/TFX5_RU486.bedpe\n",
      "./TFX3_ZK216348/TFX3_ZK216348.bedpe\n",
      "./Input4/Input4.bedpe\n",
      "./TFX4_ZK216348/TFX4_ZK216348.bedpe\n",
      "./Input5/Input5.bedpe\n",
      "./TFX2_CpdA/TFX2_CpdA.bedpe\n",
      "./TFX2_AZD9567/TFX2_AZD9567.bedpe\n",
      "./TFX4_AZD2906/TFX4_AZD2906.bedpe\n",
      "./TFX4_Mapracorat/TFX4_Mapracorat.bedpe\n",
      "./TFX4_AZD9567/TFX4_AZD9567.bedpe\n",
      "./TFX5_Mapracorat/TFX5_Mapracorat.bedpe\n",
      "./TFX2_ZK216348/TFX2_ZK216348.bedpe\n",
      "./TFX3_GW870086/TFX3_GW870086.bedpe\n",
      "./TFX4_CORT108297/TFX4_CORT108297.bedpe\n",
      "./Input1/Input1.bedpe\n",
      "./Input2/Input2.bedpe\n",
      "./TFX3_Mapracorat/TFX3_Mapracorat.bedpe\n",
      "./TFX4_CpdA/TFX4_CpdA.bedpe\n",
      "./TFX3_RU486/TFX3_RU486.bedpe\n",
      "./TFX3_Hydrocortisone/TFX3_Hydrocortisone.bedpe\n",
      "./TFX3_Dex/TFX3_Dex.bedpe\n",
      "./TFX5_CORT108297/TFX5_CORT108297.bedpe\n",
      "./TFX4_DMSO/TFX4_DMSO.bedpe\n",
      "./TFX5_AZD2906/TFX5_AZD2906.bedpe\n",
      "./TFX3_AZD2906/TFX3_AZD2906.bedpe\n",
      "./TFX3_DMSO/TFX3_DMSO.bedpe\n"
     ]
    }
   ],
   "source": [
    "FP_INP=${FD_SRC}/whole_genome_STARRseq/whole_genome_STARRseq_bedpe.tar.gz\n",
    "FD_OUT=${FD_WRK}/source\n",
    "\n",
    "tar -xvzf ${FP_INP} -C ${FD_OUT}"
   ]
  },
  {
   "cell_type": "markdown",
   "id": "3a7b7c96-6673-4e2b-854c-1b660c223b1d",
   "metadata": {},
   "source": [
    "## Calculate the library size"
   ]
  },
  {
   "cell_type": "code",
   "execution_count": 4,
   "id": "1dc2658a-77e1-4ef9-a199-1f5b02d935ee",
   "metadata": {},
   "outputs": [
    {
     "name": "stdout",
     "output_type": "stream",
     "text": [
      "\u001b[0m\u001b[01;34mInput1\u001b[0m               \u001b[01;34mTFX3_AZD9567\u001b[0m         \u001b[01;34mTFX4_Hydrocortisone\u001b[0m\n",
      "\u001b[01;34mInput2\u001b[0m               \u001b[01;34mTFX3_CORT108297\u001b[0m      \u001b[01;34mTFX4_Mapracorat\u001b[0m\n",
      "\u001b[01;34mInput3\u001b[0m               \u001b[01;34mTFX3_CpdA\u001b[0m            \u001b[01;34mTFX4_RU486\u001b[0m\n",
      "\u001b[01;34mInput4\u001b[0m               \u001b[01;34mTFX3_DMSO\u001b[0m            \u001b[01;34mTFX4_ZK216348\u001b[0m\n",
      "\u001b[01;34mInput5\u001b[0m               \u001b[01;34mTFX3_Dex\u001b[0m             \u001b[01;34mTFX5_AZD2906\u001b[0m\n",
      "\u001b[01;34mTFX2_AZD2906\u001b[0m         \u001b[01;34mTFX3_GW870086\u001b[0m        \u001b[01;34mTFX5_AZD9567\u001b[0m\n",
      "\u001b[01;34mTFX2_AZD9567\u001b[0m         \u001b[01;34mTFX3_Hydrocortisone\u001b[0m  \u001b[01;34mTFX5_CORT108297\u001b[0m\n",
      "\u001b[01;34mTFX2_CORT108297\u001b[0m      \u001b[01;34mTFX3_Mapracorat\u001b[0m      \u001b[01;34mTFX5_CpdA\u001b[0m\n",
      "\u001b[01;34mTFX2_CpdA\u001b[0m            \u001b[01;34mTFX3_RU486\u001b[0m           \u001b[01;34mTFX5_DMSO\u001b[0m\n",
      "\u001b[01;34mTFX2_DMSO\u001b[0m            \u001b[01;34mTFX3_ZK216348\u001b[0m        \u001b[01;34mTFX5_Dex\u001b[0m\n",
      "\u001b[01;34mTFX2_Dex\u001b[0m             \u001b[01;34mTFX4_AZD2906\u001b[0m         \u001b[01;34mTFX5_GW870086\u001b[0m\n",
      "\u001b[01;34mTFX2_GW870086\u001b[0m        \u001b[01;34mTFX4_AZD9567\u001b[0m         \u001b[01;34mTFX5_Hydrocortisone\u001b[0m\n",
      "\u001b[01;34mTFX2_Hydrocortisone\u001b[0m  \u001b[01;34mTFX4_CORT108297\u001b[0m      \u001b[01;34mTFX5_Mapracorat\u001b[0m\n",
      "\u001b[01;34mTFX2_Mapracorat\u001b[0m      \u001b[01;34mTFX4_CpdA\u001b[0m            \u001b[01;34mTFX5_RU486\u001b[0m\n",
      "\u001b[01;34mTFX2_RU486\u001b[0m           \u001b[01;34mTFX4_DMSO\u001b[0m            \u001b[01;34mTFX5_ZK216348\u001b[0m\n",
      "\u001b[01;34mTFX2_ZK216348\u001b[0m        \u001b[01;34mTFX4_Dex\u001b[0m             library_size.txt\n",
      "\u001b[01;34mTFX3_AZD2906\u001b[0m         \u001b[01;34mTFX4_GW870086\u001b[0m\n"
     ]
    }
   ],
   "source": [
    "ls ${FD_WRK}/source"
   ]
  },
  {
   "cell_type": "code",
   "execution_count": 5,
   "id": "d1a166d3-0ac6-4bfc-9969-d4c18b137df2",
   "metadata": {},
   "outputs": [],
   "source": [
    "wc -l ${FD_WRK}/source/*/*.bedpe |\\\n",
    "    sed 's/^ *//g' |\\\n",
    "    sed 's/[ ]+/[ ]/g' |\\\n",
    "    sed 's/[ ]/\\t/g' > ${FD_WRK}/source/library_size.txt"
   ]
  },
  {
   "cell_type": "code",
   "execution_count": null,
   "id": "0a3d814d-77cf-46cf-8faf-2604b36160eb",
   "metadata": {},
   "outputs": [],
   "source": []
  }
 ],
 "metadata": {
  "kernelspec": {
   "display_name": "Bash",
   "language": "bash",
   "name": "bash"
  },
  "language_info": {
   "codemirror_mode": "shell",
   "file_extension": ".sh",
   "mimetype": "text/x-sh",
   "name": "bash"
  }
 },
 "nbformat": 4,
 "nbformat_minor": 5
}
