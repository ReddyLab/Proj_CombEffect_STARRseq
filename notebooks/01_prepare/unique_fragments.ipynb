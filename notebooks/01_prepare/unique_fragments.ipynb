{
 "cells": [
  {
   "cell_type": "code",
   "execution_count": 3,
   "id": "6df29565-7b3b-45c4-aec3-305df125faa1",
   "metadata": {},
   "outputs": [
    {
     "name": "stdout",
     "output_type": "stream",
     "text": [
      "You are on Duke Server: HARDAC\n",
      "BASE DIRECTORY:     /gpfs/fs1/data/reddylab/Kuei\n",
      "PATH OF SOURCE:     /gpfs/fs1/data/reddylab/Kuei/source\n",
      "PATH OF EXECUTABLE: /gpfs/fs1/data/reddylab/Kuei/exe\n",
      "PATH OF ANNOTATION: /gpfs/fs1/data/reddylab/Kuei/annotation\n",
      "PATH OF PROJECT:    /gpfs/fs1/data/reddylab/Kuei/GitRepo/Proj_CombEffect_STARRseq/notebooks\n",
      "PATH OF RESULTS:    /gpfs/fs1/data/reddylab/Kuei/out/proj_combeffect\n",
      "\n"
     ]
    }
   ],
   "source": [
    "source ../config_duke.sh; show_env"
   ]
  },
  {
   "cell_type": "code",
   "execution_count": 6,
   "id": "ec7efea0-0e7e-422c-a1fd-5aecfa8b9276",
   "metadata": {},
   "outputs": [
    {
     "name": "stdout",
     "output_type": "stream",
     "text": [
      "\u001b[0m\u001b[38;5;9m/gpfs/fs1/data/reddylab/Kuei/out/proj_combeffect/count_fragment/Input1_20x/chr1.bed.gz\u001b[0m\u001b[K\n",
      "\u001b[38;5;9m/gpfs/fs1/data/reddylab/Kuei/out/proj_combeffect/count_fragment/Input1/chr1.bed.gz\u001b[0m\u001b[K\n",
      "\u001b[38;5;9m/gpfs/fs1/data/reddylab/Kuei/out/proj_combeffect/count_fragment/Input2_20x/chr1.bed.gz\u001b[0m\u001b[K\n",
      "\u001b[38;5;9m/gpfs/fs1/data/reddylab/Kuei/out/proj_combeffect/count_fragment/Input2/chr1.bed.gz\u001b[0m\u001b[K\n",
      "\u001b[38;5;9m/gpfs/fs1/data/reddylab/Kuei/out/proj_combeffect/count_fragment/Input3_20x/chr1.bed.gz\u001b[0m\u001b[K\n",
      "\u001b[38;5;9m/gpfs/fs1/data/reddylab/Kuei/out/proj_combeffect/count_fragment/Input3/chr1.bed.gz\u001b[0m\u001b[K\n",
      "\u001b[38;5;9m/gpfs/fs1/data/reddylab/Kuei/out/proj_combeffect/count_fragment/Input4_20x/chr1.bed.gz\u001b[0m\u001b[K\n",
      "\u001b[38;5;9m/gpfs/fs1/data/reddylab/Kuei/out/proj_combeffect/count_fragment/Input4/chr1.bed.gz\u001b[0m\u001b[K\n",
      "\u001b[38;5;9m/gpfs/fs1/data/reddylab/Kuei/out/proj_combeffect/count_fragment/Input5_20x/chr1.bed.gz\u001b[0m\u001b[K\n",
      "\u001b[38;5;9m/gpfs/fs1/data/reddylab/Kuei/out/proj_combeffect/count_fragment/Input5/chr1.bed.gz\u001b[0m\u001b[K\n",
      "\u001b[38;5;9m/gpfs/fs1/data/reddylab/Kuei/out/proj_combeffect/count_fragment/TFX2_Dex/chr1.bed.gz\u001b[0m\u001b[K\n",
      "\u001b[38;5;9m/gpfs/fs1/data/reddylab/Kuei/out/proj_combeffect/count_fragment/TFX2_DMSO/chr1.bed.gz\u001b[0m\u001b[K\n",
      "\u001b[38;5;9m/gpfs/fs1/data/reddylab/Kuei/out/proj_combeffect/count_fragment/TFX3_Dex/chr1.bed.gz\u001b[0m\u001b[K\n",
      "\u001b[38;5;9m/gpfs/fs1/data/reddylab/Kuei/out/proj_combeffect/count_fragment/TFX3_DMSO/chr1.bed.gz\u001b[0m\u001b[K\n",
      "\u001b[38;5;9m/gpfs/fs1/data/reddylab/Kuei/out/proj_combeffect/count_fragment/TFX4_Dex/chr1.bed.gz\u001b[0m\u001b[K\n",
      "\u001b[38;5;9m/gpfs/fs1/data/reddylab/Kuei/out/proj_combeffect/count_fragment/TFX4_DMSO/chr1.bed.gz\u001b[0m\u001b[K\n",
      "\u001b[38;5;9m/gpfs/fs1/data/reddylab/Kuei/out/proj_combeffect/count_fragment/TFX5_Dex/chr1.bed.gz\u001b[0m\u001b[K\n",
      "\u001b[38;5;9m/gpfs/fs1/data/reddylab/Kuei/out/proj_combeffect/count_fragment/TFX5_DMSO/chr1.bed.gz\u001b[0m\u001b[K\n"
     ]
    }
   ],
   "source": [
    "FDIRY=${FD_RES}/count_fragment\n",
    "ls ${FDIRY}/*/chr1.bed.gz"
   ]
  },
  {
   "cell_type": "code",
   "execution_count": 7,
   "id": "db8fd849-3751-4d85-ada3-c113c093021f",
   "metadata": {},
   "outputs": [
    {
     "name": "stdout",
     "output_type": "stream",
     "text": [
      "chr1\t13802\t14757\t1\n",
      "chr1\t13802\t14759\t2\n",
      "chr1\t13868\t14793\t2\n",
      "chr1\t14376\t15250\t1\n",
      "chr1\t14424\t15516\t1\n",
      "chr1\t14448\t15495\t1\n",
      "chr1\t14449\t15491\t1\n",
      "chr1\t14713\t15705\t2\n",
      "chr1\t14784\t15828\t2\n",
      "chr1\t14849\t15902\t1\n",
      "\n",
      "gzip: stdout: Broken pipe\n"
     ]
    }
   ],
   "source": [
    "zcat ${FDIRY}/Input1_20x/chr1.bed.gz | head"
   ]
  },
  {
   "cell_type": "code",
   "execution_count": 46,
   "id": "d983bfdb-b5ef-43fc-966e-49d8b9c0cba4",
   "metadata": {},
   "outputs": [
    {
     "name": "stdout",
     "output_type": "stream",
     "text": [
      "Submitted batch job 28442966\n"
     ]
    }
   ],
   "source": [
    "sbatch -p ${NODE} \\\n",
    "    --mem 8G \\\n",
    "    -o ${FD_LOG}/count_fragment_chr22.txt \\\n",
    "    <<'EOF'\n",
    "#!/bin/bash\n",
    "### set directories\n",
    "source ../config_duke.sh\n",
    "\n",
    "### set global variables\n",
    "CHROM=chr22\n",
    "FD_BED=${FD_RES}/count_fragment\n",
    "FP_OUT=${FD_BED}/count_unique_fragment_${CHROM}.txt\n",
    "\n",
    "### \n",
    "echo -n \"\" > ${FP_OUT}\n",
    "for FP_BED in $(ls ${FD_BED}/*/${CHROM}.bed.gz); do\n",
    "    FDIRY=$(dirname  ${FP_BED})\n",
    "    FDIRY=$(basename ${FDIRY})\n",
    "    NLINE=$(zcat ${FP_BED} | wc -l)\n",
    "    #NLINE=10\n",
    "    echo -e \"${FDIRY}\\t${CHROM}\\t${NLINE}\" >> ${FP_OUT}\n",
    "done\n",
    "\n",
    "EOF"
   ]
  },
  {
   "cell_type": "code",
   "execution_count": 47,
   "id": "7ba07c33-d8bb-4ab2-b6b8-4767f5ca4d92",
   "metadata": {},
   "outputs": [
    {
     "name": "stdout",
     "output_type": "stream",
     "text": [
      "Input1_20x\tchr22\t5033185\n",
      "Input1\tchr22\t338326\n",
      "Input2_20x\tchr22\t4794123\n",
      "Input2\tchr22\t367320\n",
      "Input3_20x\tchr22\t4838876\n",
      "Input3\tchr22\t429315\n",
      "Input4_20x\tchr22\t5511738\n",
      "Input4\tchr22\t342664\n",
      "Input5_20x\tchr22\t4706059\n",
      "Input5\tchr22\t275315\n",
      "TFX2_Dex\tchr22\t868724\n",
      "TFX2_DMSO\tchr22\t838097\n",
      "TFX3_Dex\tchr22\t532133\n",
      "TFX3_DMSO\tchr22\t527256\n",
      "TFX4_Dex\tchr22\t725147\n",
      "TFX4_DMSO\tchr22\t618656\n",
      "TFX5_Dex\tchr22\t881278\n",
      "TFX5_DMSO\tchr22\t578112\n"
     ]
    }
   ],
   "source": [
    "cat ${FD_RES}/count_fragment/count_unique_fragment_chr22.txt"
   ]
  },
  {
   "cell_type": "code",
   "execution_count": 51,
   "id": "f1284689-9f75-48e5-875b-3c03f74bb6ee",
   "metadata": {},
   "outputs": [
    {
     "name": "stdout",
     "output_type": "stream",
     "text": [
      "Submitted batch job 28445937\n"
     ]
    }
   ],
   "source": [
    "sbatch -p ${NODE} \\\n",
    "    --array 0-23 \\\n",
    "    --mem 8G \\\n",
    "    -o ${FD_LOG}/count_unique_fragment.%a.txt \\\n",
    "    <<'EOF'\n",
    "#!/bin/bash\n",
    "### set directories\n",
    "source ../config_duke.sh\n",
    "\n",
    "### set global variables\n",
    "CHROMS=($(seq 1 22) X Y)\n",
    "CHROM=chr${CHROMS[${SLURM_ARRAY_TASK_ID}]}\n",
    "\n",
    "FD_BED=${FD_RES}/count_fragment\n",
    "FP_OUT=${FD_BED}/count_unique_fragment_${CHROM}.txt\n",
    "\n",
    "### print start message\n",
    "timer_start=`date +%s`\n",
    "echo \"Slurm Array Index: \" ${SLURM_ARRAY_TASK_ID}\n",
    "echo \"Time Stamp:        \" $(date +\"%m-%d-%y+%T\")\n",
    "echo\n",
    "\n",
    "### show input\n",
    "echo \"Chromosome: ${CHROM}\"\n",
    "\n",
    "### count unique fragment\n",
    "echo -n \"\" > ${FP_OUT}\n",
    "for FP_BED in $(ls ${FD_BED}/*/${CHROM}.bed.gz); do\n",
    "    FDIRY=$(dirname  ${FP_BED})\n",
    "    FDIRY=$(basename ${FDIRY})\n",
    "    NLINE=$(zcat ${FP_BED} | wc -l)\n",
    "    echo -e \"${FDIRY}\\t${CHROM}\\t${NLINE}\" >> ${FP_OUT}\n",
    "done\n",
    "\n",
    "### show output\n",
    "echo \"Output file: ${FP_OUT}\"\n",
    "cat ${FP_OUT}\n",
    "echo \n",
    "### print end message\n",
    "timer=`date +%s`\n",
    "runtime=$(echo \"${timer} - ${timer_start}\" | bc -l)\n",
    "echo 'Done!'\n",
    "echo \"Run Time: $(displaytime ${runtime})\"\n",
    "\n",
    "EOF"
   ]
  },
  {
   "cell_type": "code",
   "execution_count": 52,
   "id": "f808561c-3ec8-4af4-915f-2d5f1e7530f4",
   "metadata": {},
   "outputs": [
    {
     "name": "stdout",
     "output_type": "stream",
     "text": [
      "Slurm Array Index:  0\n",
      "Time Stamp:         06-08-22+13:03:09\n",
      "\n",
      "Chromosome: chr1\n",
      "Output file: /gpfs/fs1/data/reddylab/Kuei/out/proj_combeffect/count_fragment/count_unique_fragment_chr1.txt\n",
      "Input1_20x\tchr1\t22243811\n",
      "Input1\tchr1\t1556127\n",
      "Input2_20x\tchr1\t21213058\n",
      "Input2\tchr1\t1685069\n",
      "Input3_20x\tchr1\t21306405\n",
      "Input3\tchr1\t1940921\n",
      "Input4_20x\tchr1\t24772086\n",
      "Input4\tchr1\t1592683\n",
      "Input5_20x\tchr1\t20993549\n",
      "Input5\tchr1\t1280886\n",
      "TFX2_Dex\tchr1\t3015150\n",
      "TFX2_DMSO\tchr1\t3005790\n",
      "TFX3_Dex\tchr1\t1834780\n",
      "TFX3_DMSO\tchr1\t1909637\n",
      "TFX4_Dex\tchr1\t2451611\n",
      "TFX4_DMSO\tchr1\t2222676\n",
      "TFX5_Dex\tchr1\t2997558\n",
      "TFX5_DMSO\tchr1\t2012981\n",
      "\n",
      "Done!\n",
      "Run Time: 25 seconds\n"
     ]
    }
   ],
   "source": [
    "cat ${FD_LOG}/count_unique_fragment.0.txt"
   ]
  },
  {
   "cell_type": "code",
   "execution_count": 53,
   "id": "02a3a74b-0a30-4b10-9f89-9a5bce5066dd",
   "metadata": {},
   "outputs": [
    {
     "name": "stdout",
     "output_type": "stream",
     "text": [
      "Slurm Array Index:  10\n",
      "Time Stamp:         06-08-22+13:08:10\n",
      "\n",
      "Chromosome: chr11\n",
      "Output file: /gpfs/fs1/data/reddylab/Kuei/out/proj_combeffect/count_fragment/count_unique_fragment_chr11.txt\n",
      "Input1_20x\tchr11\t13456895\n",
      "Input1\tchr11\t938450\n",
      "Input2_20x\tchr11\t12822037\n",
      "Input2\tchr11\t1014134\n",
      "Input3_20x\tchr11\t12888746\n",
      "Input3\tchr11\t1169846\n",
      "Input4_20x\tchr11\t14969694\n",
      "Input4\tchr11\t954928\n",
      "Input5_20x\tchr11\t12694668\n",
      "Input5\tchr11\t770700\n",
      "TFX2_Dex\tchr11\t1835924\n",
      "TFX2_DMSO\tchr11\t1831785\n",
      "TFX3_Dex\tchr11\t1113281\n",
      "TFX3_DMSO\tchr11\t1166446\n",
      "TFX4_Dex\tchr11\t1490421\n",
      "TFX4_DMSO\tchr11\t1356628\n",
      "TFX5_Dex\tchr11\t1823348\n",
      "TFX5_DMSO\tchr11\t1228004\n",
      "\n",
      "Done!\n",
      "Run Time: 16 seconds\n"
     ]
    }
   ],
   "source": [
    "cat ${FD_LOG}/count_unique_fragment.10.txt"
   ]
  },
  {
   "cell_type": "code",
   "execution_count": null,
   "id": "7dd4af9c-d9a0-42de-9214-517606c6c0b0",
   "metadata": {},
   "outputs": [],
   "source": []
  },
  {
   "cell_type": "code",
   "execution_count": 35,
   "id": "3a00a3e6-bcd1-4048-987e-94127bce09bf",
   "metadata": {},
   "outputs": [
    {
     "name": "stdout",
     "output_type": "stream",
     "text": [
      "/gpfs/fs1/data/reddylab/Kuei/out/proj_combeffect/count_fragment/count_unique_fragment_chr22.txt\n"
     ]
    }
   ],
   "source": [
    "ls ${FD_RES}/count_fragment/count_unique_fragment_chr22.txt"
   ]
  },
  {
   "cell_type": "code",
   "execution_count": 36,
   "id": "214919f2-bcec-4c29-83bc-04dfa213d365",
   "metadata": {},
   "outputs": [
    {
     "name": "stdout",
     "output_type": "stream",
     "text": [
      "/gpfs/fs1/data/reddylab/Kuei/out/proj_combeffect/count_fragment/count_unique_fragment_chr22.txt\n"
     ]
    }
   ],
   "source": [
    "FPATH=${FD_RES}/count_fragment/count_unique_fragment_chr22.txt\n",
    "echo ${FPATH}"
   ]
  },
  {
   "cell_type": "code",
   "execution_count": 41,
   "id": "1a322f17-421d-473f-acc5-3d7c4250cf0f",
   "metadata": {},
   "outputs": [
    {
     "name": "stdout",
     "output_type": "stream",
     "text": [
      "count_fragment\n"
     ]
    }
   ],
   "source": [
    "basename $(dirname ${FPATH})"
   ]
  },
  {
   "cell_type": "code",
   "execution_count": null,
   "id": "5cbdc438-e35c-42c4-8b02-fcc063c2b5e6",
   "metadata": {},
   "outputs": [],
   "source": [
    "cat count_unique_fragment_chr22.txt"
   ]
  },
  {
   "cell_type": "code",
   "execution_count": 15,
   "id": "4df8813d-7f09-4179-a4d0-c4e18f92f174",
   "metadata": {},
   "outputs": [
    {
     "name": "stdout",
     "output_type": "stream",
     "text": [
      "01_extract_STARRseq_file.ipynb  22_plot_frag_sing.ipynb\n",
      "02_split_chrom.ipynb            region_graham.ipynb\n",
      "03_merge_chrom.ipynb            region_graham_R.ipynb\n",
      "041_libsize_calc.ipynb          \u001b[0m\u001b[38;5;34msplitBed.sh\u001b[0m\n",
      "042_libsize_table.ipynb         \u001b[38;5;9mtest1.txt.gz\u001b[0m\n",
      "043_libsize_plot.ipynb          \u001b[38;5;9mtest2.txt.gz\u001b[0m\n",
      "11_extract_target.ipynb         \u001b[38;5;9mtest.txt.gz\u001b[0m\n",
      "21_plot_frag_len.ipynb          treatment.ipynb\n",
      "21_plot_frag_len_sing.ipynb     unique_fragments.ipynb\n",
      "22_plot_frag.ipynb\n"
     ]
    }
   ],
   "source": [
    "cat > test1.txt << EOF\n",
    "1\n",
    "2\n",
    "3\n",
    "10\n",
    "12\n",
    "13\n",
    "EOF\n",
    "\n",
    "cat > test2.txt << EOF\n",
    "1\n",
    "2\n",
    "3\n",
    "22\n",
    "EOF\n",
    "\n",
    "\n",
    "gzip test1.txt\n",
    "gzip test2.txt\n",
    "ls"
   ]
  },
  {
   "cell_type": "code",
   "execution_count": 16,
   "id": "6fe50d6e-3dba-4dc9-8607-3abfb3f0e297",
   "metadata": {},
   "outputs": [
    {
     "name": "stdout",
     "output_type": "stream",
     "text": [
      "\u001b[0m\u001b[38;5;9mtest1.txt.gz\u001b[0m  \u001b[38;5;9mtest2.txt.gz\u001b[0m  \u001b[38;5;9mtest.txt.gz\u001b[0m\n"
     ]
    }
   ],
   "source": [
    "ls test*.txt.gz"
   ]
  },
  {
   "cell_type": "code",
   "execution_count": 19,
   "id": "36496284-5c0c-40e7-9666-cb0f11783e24",
   "metadata": {},
   "outputs": [
    {
     "name": "stdout",
     "output_type": "stream",
     "text": [
      "16\n"
     ]
    }
   ],
   "source": [
    "zcat test*.txt.gz | wc -l"
   ]
  },
  {
   "cell_type": "code",
   "execution_count": 23,
   "id": "f166f49c-7e79-4c1f-9e16-b6d9df9ab52c",
   "metadata": {},
   "outputs": [
    {
     "name": "stdout",
     "output_type": "stream",
     "text": [
      "test1.txt.gz\t6\n",
      "test2.txt.gz\t4\n",
      "test.txt.gz\t6\n"
     ]
    }
   ],
   "source": [
    "for FPATH in $(ls test*.txt.gz); do\n",
    "    FNAME=$(basename ${FPATH})\n",
    "    NLINE=$(zcat ${FPATH} | wc -l)\n",
    "    echo -e \"${FNAME}\\t${NLINE}\"\n",
    "done"
   ]
  },
  {
   "cell_type": "code",
   "execution_count": 26,
   "id": "c87ffa7a-9de7-4c74-9b93-df6c8614379f",
   "metadata": {},
   "outputs": [],
   "source": [
    "cat > test.txt << EOF\n",
    "1\n",
    "2\n",
    "3\n",
    "EOF"
   ]
  },
  {
   "cell_type": "code",
   "execution_count": 27,
   "id": "f2d245ae-c382-4b7a-acca-a85c6bd3afbc",
   "metadata": {},
   "outputs": [
    {
     "name": "stdout",
     "output_type": "stream",
     "text": [
      "1\n",
      "2\n",
      "3\n"
     ]
    }
   ],
   "source": [
    "cat test.txt"
   ]
  },
  {
   "cell_type": "code",
   "execution_count": 28,
   "id": "e6bc7f0f-90b1-4313-9744-e0cc8fafd02f",
   "metadata": {},
   "outputs": [],
   "source": [
    "echo -n \"\" > test.txt\n",
    "cat test.txt"
   ]
  },
  {
   "cell_type": "code",
   "execution_count": null,
   "id": "e27922d0-3c5a-4a28-bcbc-3b1b6a70652a",
   "metadata": {},
   "outputs": [],
   "source": []
  }
 ],
 "metadata": {
  "kernelspec": {
   "display_name": "Bash",
   "language": "bash",
   "name": "bash"
  },
  "language_info": {
   "codemirror_mode": "shell",
   "file_extension": ".sh",
   "mimetype": "text/x-sh",
   "name": "bash"
  }
 },
 "nbformat": 4,
 "nbformat_minor": 5
}
