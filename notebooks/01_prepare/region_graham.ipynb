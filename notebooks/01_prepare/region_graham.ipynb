{
 "cells": [
  {
   "cell_type": "code",
   "execution_count": 2,
   "id": "3b433fa4-947d-4459-a41f-b9892cd3af76",
   "metadata": {},
   "outputs": [
    {
     "name": "stdout",
     "output_type": "stream",
     "text": [
      "You are on Duke Server: HARDAC\n",
      "BASE DIRECTORY:     /gpfs/fs1/data/reddylab/Kuei\n",
      "PATH OF SOURCE:     /gpfs/fs1/data/reddylab/Kuei/source\n",
      "PATH OF EXECUTABLE: /gpfs/fs1/data/reddylab/Kuei/exe\n",
      "PATH OF ANNOTATION: /gpfs/fs1/data/reddylab/Kuei/annotation\n",
      "PATH OF PROJECT:    /gpfs/fs1/data/reddylab/Kuei/GitRepo/Proj_CombEffect_STARRseq/notebooks\n",
      "PATH OF RESULTS:    /gpfs/fs1/data/reddylab/Kuei/out/proj_combeffect\n",
      "\n"
     ]
    }
   ],
   "source": [
    "source ../config_duke.sh\n",
    "show_env"
   ]
  },
  {
   "cell_type": "markdown",
   "id": "4e0a0641-46b1-494e-b959-7bdfcb97de28",
   "metadata": {},
   "source": [
    "what criteria would you like these regions to have?\n",
    "- Dex induced STARR-seq peak\n",
    "- GR ChIP-seq peak\n",
    "- EP300 ChIP-seq peak\n",
    "- DNase-seq peak"
   ]
  },
  {
   "cell_type": "code",
   "execution_count": 3,
   "id": "1e1f6df8-8341-4867-8b9a-495d218f4253",
   "metadata": {},
   "outputs": [
    {
     "name": "stdout",
     "output_type": "stream",
     "text": [
      "delme.bed\n",
      "dex_induced_starrseq_peaks_overlapping_GR_P300_and_dnase_peaks.bed\n",
      "dex_induced_starrseq_peaks_overlapping_GR_P300_and_dnase_peaks_with_headers.txt\n",
      "\u001b[0m\u001b[38;5;27mscripts\u001b[0m\n"
     ]
    }
   ],
   "source": [
    "FDIRY=\"/data/reddylab/gjohnson/whole_genome_STARRseq/wgss3/epigenome_comparisons/files_for_Kuei\"\n",
    "ls ${FDIRY}"
   ]
  },
  {
   "cell_type": "code",
   "execution_count": 4,
   "id": "fe8f9cad-6c39-4bed-883e-eb7ab2ef2f5c",
   "metadata": {},
   "outputs": [
    {
     "name": "stdout",
     "output_type": "stream",
     "text": [
      "chr6\t33728901\t33734731\n"
     ]
    }
   ],
   "source": [
    "cat ${FDIRY}/delme.bed"
   ]
  },
  {
   "cell_type": "code",
   "execution_count": 5,
   "id": "264bd2fb-9f41-4386-ba2f-b8897236d622",
   "metadata": {},
   "outputs": [
    {
     "name": "stdout",
     "output_type": "stream",
     "text": [
      "chr\tstart\tend\tname\tscore\tstrand\teffectSize\tinputCount\toutputCount\t-log(pvalue)\t-log(qvalue)\tcohen's_d\tpeusdoLog2FC\n",
      "chr1\t8004337\t8005840\tchr1:8004337-8005840\t.\t.\t7970\t3497\t11467\t4.05\t3.5\t6.18789884425633\t1.5669520441040579\n",
      "chr1\t8258845\t8259970\tchr1:8258845-8259970\t.\t.\t6073\t537\t6611\t6.86\t6.04\t14.05391575666002\t3.1229519333537006\n",
      "chr1\t8343090\t8344290\tchr1:8343090-8344290\t.\t.\t5436\t1637\t7073\t3.53\t3.25\t4.916070803907268\t1.6243462212850903\n",
      "chr1\t8347990\t8349475\tchr1:8347990-8349475\t.\t.\t7779\t35\t7815\t5.11\t4.37\t6.131302096244827\t2.871574480830077\n",
      "chr1\t8396590\t8397529\tchr1:8396590-8397529\t.\t.\t2365\t381\t2746\t6.4\t5.2\t12.313543361675785\t2.4656348841967364\n",
      "chr1\t15355934\t15356609\tchr1:15355934-15356609\t.\t.\t1377\t620\t1997\t6.21\t5.25\t9.131806963602909\t1.4030627585707602\n",
      "chr1\t15799984\t15800884\tchr1:15799984-15800884\t.\t.\t2937\t1601\t4538\t4.75\t3.68\t5.89014239687125\t1.0470704571549048\n",
      "chr1\t20301863\t20302963\tchr1:20301863-20302963\t.\t.\t4264\t1014\t5278\t4.43\t3.77\t6.461888373972799\t1.6782631439221904\n",
      "chr1\t24294059\t24294513\tchr1:24294059-24294513\t.\t.\t1723\t882\t2606\t3.65\t2.55\t4.596433524842081\t1.287519939194024\n"
     ]
    }
   ],
   "source": [
    "head ${FDIRY}/dex_induced_starrseq_peaks_overlapping_GR_P300_and_dnase_peaks_with_headers.txt"
   ]
  },
  {
   "cell_type": "markdown",
   "id": "2f6332c9-07ad-449d-a788-6b4016cf2d54",
   "metadata": {},
   "source": [
    "## Copy files to my folder"
   ]
  },
  {
   "cell_type": "code",
   "execution_count": 6,
   "id": "ae7d9ca5-583c-4f97-8eac-125e4cdd7b99",
   "metadata": {},
   "outputs": [
    {
     "name": "stdout",
     "output_type": "stream",
     "text": [
      "\u001b[0m\u001b[38;5;27mannotation\u001b[0m           \u001b[38;5;27mcoverage\u001b[0m  \u001b[38;5;27minput_score\u001b[0m   \u001b[38;5;27mnuc\u001b[0m     \u001b[38;5;27mscratch\u001b[0m\n",
      "\u001b[38;5;27mannotation_fragment\u001b[0m  \u001b[38;5;27mdata\u001b[0m      \u001b[38;5;27mlog\u001b[0m           \u001b[38;5;27mpeak\u001b[0m    \u001b[38;5;27msource\u001b[0m\n",
      "\u001b[38;5;27mcount_fragment\u001b[0m       \u001b[38;5;27mdatabase\u001b[0m  \u001b[38;5;27mmodel_linear\u001b[0m  \u001b[38;5;27mregion\u001b[0m  \u001b[38;5;27mupload\u001b[0m\n"
     ]
    }
   ],
   "source": [
    "ls ${FD_RES}"
   ]
  },
  {
   "cell_type": "code",
   "execution_count": 7,
   "id": "201bab9e-8566-4f21-b3b4-febb57ad9f5d",
   "metadata": {},
   "outputs": [
    {
     "name": "stdout",
     "output_type": "stream",
     "text": [
      "\u001b[0m\u001b[38;5;27mA549_STARR_GJ\u001b[0m        \u001b[38;5;27mTFX2_DMSO\u001b[0m            \u001b[38;5;27mTFX4_CpdA\u001b[0m\n",
      "\u001b[38;5;27mInput1\u001b[0m               \u001b[38;5;27mTFX2_GW870086\u001b[0m        \u001b[38;5;27mTFX4_Dex\u001b[0m\n",
      "\u001b[38;5;27mInput1_20x\u001b[0m           \u001b[38;5;27mTFX2_Hydrocortisone\u001b[0m  \u001b[38;5;27mTFX4_DMSO\u001b[0m\n",
      "\u001b[38;5;27mInput2\u001b[0m               \u001b[38;5;27mTFX2_Mapracorat\u001b[0m      \u001b[38;5;27mTFX4_GW870086\u001b[0m\n",
      "\u001b[38;5;27mInput2_20x\u001b[0m           \u001b[38;5;27mTFX2_RU486\u001b[0m           \u001b[38;5;27mTFX4_Hydrocortisone\u001b[0m\n",
      "\u001b[38;5;27mInput3\u001b[0m               \u001b[38;5;27mTFX2_ZK216348\u001b[0m        \u001b[38;5;27mTFX4_Mapracorat\u001b[0m\n",
      "\u001b[38;5;27mInput3_20x\u001b[0m           \u001b[38;5;27mTFX3_AZD2906\u001b[0m         \u001b[38;5;27mTFX4_RU486\u001b[0m\n",
      "\u001b[38;5;27mInput4\u001b[0m               \u001b[38;5;27mTFX3_AZD9567\u001b[0m         \u001b[38;5;27mTFX4_ZK216348\u001b[0m\n",
      "\u001b[38;5;27mInput4_20x\u001b[0m           \u001b[38;5;27mTFX3_CORT108297\u001b[0m      \u001b[38;5;27mTFX5_AZD2906\u001b[0m\n",
      "\u001b[38;5;27mInput5\u001b[0m               \u001b[38;5;27mTFX3_CpdA\u001b[0m            \u001b[38;5;27mTFX5_AZD9567\u001b[0m\n",
      "\u001b[38;5;27mInput5_20x\u001b[0m           \u001b[38;5;27mTFX3_Dex\u001b[0m             \u001b[38;5;27mTFX5_CORT108297\u001b[0m\n",
      "library_size.tsv     \u001b[38;5;27mTFX3_DMSO\u001b[0m            \u001b[38;5;27mTFX5_CpdA\u001b[0m\n",
      "library_size.txt     \u001b[38;5;27mTFX3_GW870086\u001b[0m        \u001b[38;5;27mTFX5_Dex\u001b[0m\n",
      "\u001b[38;5;27mMRPA_Tewhey\u001b[0m          \u001b[38;5;27mTFX3_Hydrocortisone\u001b[0m  \u001b[38;5;27mTFX5_DMSO\u001b[0m\n",
      "\u001b[38;5;27mregion_graham220517\u001b[0m  \u001b[38;5;27mTFX3_Mapracorat\u001b[0m      \u001b[38;5;27mTFX5_GW870086\u001b[0m\n",
      "\u001b[38;5;27mTFX2_AZD2906\u001b[0m         \u001b[38;5;27mTFX3_RU486\u001b[0m           \u001b[38;5;27mTFX5_Hydrocortisone\u001b[0m\n",
      "\u001b[38;5;27mTFX2_AZD9567\u001b[0m         \u001b[38;5;27mTFX3_ZK216348\u001b[0m        \u001b[38;5;27mTFX5_Mapracorat\u001b[0m\n",
      "\u001b[38;5;27mTFX2_CORT108297\u001b[0m      \u001b[38;5;27mTFX4_AZD2906\u001b[0m         \u001b[38;5;27mTFX5_RU486\u001b[0m\n",
      "\u001b[38;5;27mTFX2_CpdA\u001b[0m            \u001b[38;5;27mTFX4_AZD9567\u001b[0m         \u001b[38;5;27mTFX5_ZK216348\u001b[0m\n",
      "\u001b[38;5;27mTFX2_Dex\u001b[0m             \u001b[38;5;27mTFX4_CORT108297\u001b[0m      treatment.txt\n"
     ]
    }
   ],
   "source": [
    "ls ${FD_RES}/source"
   ]
  },
  {
   "cell_type": "code",
   "execution_count": 11,
   "id": "42dd6b16-b155-4d1d-8c53-c85270bf3e00",
   "metadata": {},
   "outputs": [
    {
     "name": "stdout",
     "output_type": "stream",
     "text": [
      "/data/reddylab/gjohnson/whole_genome_STARRseq/wgss3/epigenome_comparisons/files_for_Kuei/delme.bed\n",
      "/data/reddylab/gjohnson/whole_genome_STARRseq/wgss3/epigenome_comparisons/files_for_Kuei/dex_induced_starrseq_peaks_overlapping_GR_P300_and_dnase_peaks.bed\n",
      "/data/reddylab/gjohnson/whole_genome_STARRseq/wgss3/epigenome_comparisons/files_for_Kuei/dex_induced_starrseq_peaks_overlapping_GR_P300_and_dnase_peaks_with_headers.txt\n",
      "\n",
      "/data/reddylab/gjohnson/whole_genome_STARRseq/wgss3/epigenome_comparisons/files_for_Kuei/scripts:\n",
      "dex_induced_enhancers_for_Kuei.sh\n"
     ]
    }
   ],
   "source": [
    "FD_GRJ=\"/data/reddylab/gjohnson/whole_genome_STARRseq/wgss3/epigenome_comparisons/files_for_Kuei\"\n",
    "ls ${FD_GRJ}/*"
   ]
  },
  {
   "cell_type": "markdown",
   "id": "6df0a652-6b49-4952-8875-f6916e915baf",
   "metadata": {},
   "source": [
    "https://askubuntu.com/questions/86822/how-can-i-copy-the-contents-of-a-folder-to-another-folder-in-a-different-directo"
   ]
  },
  {
   "cell_type": "code",
   "execution_count": 12,
   "id": "8648854d-e3a1-4ecc-9cef-c22239308415",
   "metadata": {},
   "outputs": [],
   "source": [
    "FD_GRJ=\"/data/reddylab/gjohnson/whole_genome_STARRseq/wgss3/epigenome_comparisons/files_for_Kuei\"\n",
    "cp -a ${FD_GRJ}/. ${FD_RES}/source/region_dex_GR_P300_dnase/"
   ]
  },
  {
   "cell_type": "code",
   "execution_count": 14,
   "id": "ad2cec3e-990b-4fa0-9f53-37f4a11e29e3",
   "metadata": {},
   "outputs": [
    {
     "name": "stdout",
     "output_type": "stream",
     "text": [
      "delme.bed\n",
      "dex_induced_starrseq_peaks_overlapping_GR_P300_and_dnase_peaks.bed\n",
      "dex_induced_starrseq_peaks_overlapping_GR_P300_and_dnase_peaks_with_headers.txt\n",
      "\u001b[0m\u001b[38;5;27mscripts\u001b[0m\n"
     ]
    }
   ],
   "source": [
    "ls ${FD_RES}/source/region_dex_GR_P300_dnase"
   ]
  },
  {
   "cell_type": "code",
   "execution_count": 15,
   "id": "51d9b8c6-a252-4d2f-9ad7-316891fd6f1c",
   "metadata": {},
   "outputs": [
    {
     "name": "stdout",
     "output_type": "stream",
     "text": [
      "dex_induced_enhancers_for_Kuei.sh\n"
     ]
    }
   ],
   "source": [
    "ls ${FD_RES}/source/region_dex_GR_P300_dnase/scripts"
   ]
  },
  {
   "cell_type": "code",
   "execution_count": 16,
   "id": "e68414ed-1129-466b-8743-f1abfc383657",
   "metadata": {},
   "outputs": [
    {
     "name": "stdout",
     "output_type": "stream",
     "text": [
      "#!/bin/bash\n",
      "#\n",
      "#SBATCH --mem=5G\n",
      "#SBATCH -J dex_induced_enhancers_for_Kuei\n",
      "#SBATCH -o dex_induced_enhancers_for_Kuei.%J.output\n",
      "#SBATCH -e dex_induced_enhancers_for_Kuei.%J.error\n",
      "#SBATCH --array=1\n",
      "#SBATCH --cpus-per-task=1\n",
      "#SBATCH --mail-user=graham.johnson@duke.edu\n",
      "#SBATCH --mail-type=FAIL,END\n",
      "\n",
      "#LOAD SOFTWARE\n",
      "module load bedtools2\n",
      "\n",
      "#SET VARIABLES\n",
      "\n",
      "#INTERSECT DEX INDUCED STARR-SEQ PEAKS WITH OTHER EPIGENOMIC DATA TO PRODUCE A BED FILE OF PUTATIVE DEX INDUCED ENHANCERS\n",
      "\n",
      "bedtools intersect \\\n",
      "\t-wa \\\n",
      "\t-a /data/reddylab/gjohnson/whole_genome_STARRseq/wgss3/peak_calls/cradle/callPeak_against_DMSO/Dex_vs_DMSO/Dex_vs_DMSO_induced_peaks_fc2.bed \\\n",
      "\t-b /data/reddylab/projects/ggr/data/chip_seq/peaks/A549.GR.dex_full.04h.union.selected_samples.bed \\\n",
      "| bedtools intersect \\\n",
      "\t-wa \\\n",
      "\t-a stdin \\\n",
      "\t-b /data/reddylab/projects/ggr/data/chip_seq/peaks/A549.EP300.dex_full.04h.union.selected_samples.bed \\\n",
      "| bedtools intersect \\\n",
      "\t-wa \\\n",
      "\t-a stdin \\\n",
      "\t-b /data/reddylab/projects/ggr/data/dnase_seq/peaks/A549.dnase_seq.dex.04h.union.selected_samples.bed \\\n",
      "| sort -k1,1 -k2,2n \\\n",
      "| uniq > dex_induced_starrseq_peaks_overlapping_GR_P300_and_dnase_peaks.bed\n",
      "\n",
      "\n",
      "cat \\\n",
      "\t<( head -1 /data/reddylab/gjohnson/whole_genome_STARRseq/wgss3/peak_calls/cradle/callPeak_against_DMSO/Dex_vs_DMSO/CRADLE_peaks) \\\n",
      "\t<( cat dex_induced_starrseq_peaks_overlapping_GR_P300_and_dnase_peaks.bed ) > dex_induced_starrseq_peaks_overlapping_GR_P300_and_dnase_peaks_with_headers.txt\n"
     ]
    }
   ],
   "source": [
    "cat ${FD_RES}/source/region_dex_GR_P300_dnase/scripts/dex_induced_enhancers_for_Kuei.sh"
   ]
  },
  {
   "cell_type": "code",
   "execution_count": null,
   "id": "57c41ed9-32df-4bdd-81e2-2eee6eb32469",
   "metadata": {},
   "outputs": [],
   "source": []
  }
 ],
 "metadata": {
  "kernelspec": {
   "display_name": "Bash",
   "language": "bash",
   "name": "bash"
  },
  "language_info": {
   "codemirror_mode": "shell",
   "file_extension": ".sh",
   "mimetype": "text/x-sh",
   "name": "bash"
  }
 },
 "nbformat": 4,
 "nbformat_minor": 5
}
