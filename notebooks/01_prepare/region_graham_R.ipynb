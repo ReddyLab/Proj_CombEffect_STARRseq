{
 "cells": [
  {
   "cell_type": "markdown",
   "id": "9f249ca1",
   "metadata": {},
   "source": [
    "**Set environment**"
   ]
  },
  {
   "cell_type": "code",
   "execution_count": 1,
   "id": "c15fb72f",
   "metadata": {},
   "outputs": [
    {
     "name": "stdout",
     "output_type": "stream",
     "text": [
      "You are in Singularity: singularity_proj_combeffect \n",
      "BASE DIRECTORY:     /mount/work \n",
      "PATH OF SOURCE:     /mount/work/source \n",
      "PATH OF EXECUTABLE: /mount/work/exe \n",
      "PATH OF ANNOTATION: /mount/work/annotation \n",
      "PATH OF PROJECT:    /mount/project \n",
      "PATH OF RESULTS:    /mount/work/out/proj_combeffect \n"
     ]
    }
   ],
   "source": [
    "suppressMessages(suppressWarnings(source(\"../config_sing.R\")))\n",
    "show_env()"
   ]
  },
  {
   "cell_type": "markdown",
   "id": "bf562424",
   "metadata": {},
   "source": [
    "## import bed file"
   ]
  },
  {
   "cell_type": "code",
   "execution_count": 2,
   "id": "a5066d35",
   "metadata": {},
   "outputs": [
    {
     "data": {
      "text/html": [
       "<table class=\"dataframe\">\n",
       "<caption>A tibble: 6 × 13</caption>\n",
       "<thead>\n",
       "\t<tr><th scope=col>chr</th><th scope=col>start</th><th scope=col>end</th><th scope=col>name</th><th scope=col>score</th><th scope=col>strand</th><th scope=col>effectSize</th><th scope=col>inputCount</th><th scope=col>outputCount</th><th scope=col>-log(pvalue)</th><th scope=col>-log(qvalue)</th><th scope=col>cohen's_d</th><th scope=col>peusdoLog2FC</th></tr>\n",
       "\t<tr><th scope=col>&lt;chr&gt;</th><th scope=col>&lt;dbl&gt;</th><th scope=col>&lt;dbl&gt;</th><th scope=col>&lt;chr&gt;</th><th scope=col>&lt;chr&gt;</th><th scope=col>&lt;chr&gt;</th><th scope=col>&lt;dbl&gt;</th><th scope=col>&lt;dbl&gt;</th><th scope=col>&lt;dbl&gt;</th><th scope=col>&lt;dbl&gt;</th><th scope=col>&lt;dbl&gt;</th><th scope=col>&lt;dbl&gt;</th><th scope=col>&lt;dbl&gt;</th></tr>\n",
       "</thead>\n",
       "<tbody>\n",
       "\t<tr><td>chr1</td><td> 8004337</td><td> 8005840</td><td>chr1:8004337-8005840  </td><td>.</td><td>.</td><td>7970</td><td>3497</td><td>11467</td><td>4.05</td><td>3.50</td><td> 6.187899</td><td>1.566952</td></tr>\n",
       "\t<tr><td>chr1</td><td> 8258845</td><td> 8259970</td><td>chr1:8258845-8259970  </td><td>.</td><td>.</td><td>6073</td><td> 537</td><td> 6611</td><td>6.86</td><td>6.04</td><td>14.053916</td><td>3.122952</td></tr>\n",
       "\t<tr><td>chr1</td><td> 8343090</td><td> 8344290</td><td>chr1:8343090-8344290  </td><td>.</td><td>.</td><td>5436</td><td>1637</td><td> 7073</td><td>3.53</td><td>3.25</td><td> 4.916071</td><td>1.624346</td></tr>\n",
       "\t<tr><td>chr1</td><td> 8347990</td><td> 8349475</td><td>chr1:8347990-8349475  </td><td>.</td><td>.</td><td>7779</td><td>  35</td><td> 7815</td><td>5.11</td><td>4.37</td><td> 6.131302</td><td>2.871574</td></tr>\n",
       "\t<tr><td>chr1</td><td> 8396590</td><td> 8397529</td><td>chr1:8396590-8397529  </td><td>.</td><td>.</td><td>2365</td><td> 381</td><td> 2746</td><td>6.40</td><td>5.20</td><td>12.313543</td><td>2.465635</td></tr>\n",
       "\t<tr><td>chr1</td><td>15355934</td><td>15356609</td><td>chr1:15355934-15356609</td><td>.</td><td>.</td><td>1377</td><td> 620</td><td> 1997</td><td>6.21</td><td>5.25</td><td> 9.131807</td><td>1.403063</td></tr>\n",
       "</tbody>\n",
       "</table>\n"
      ],
      "text/latex": [
       "A tibble: 6 × 13\n",
       "\\begin{tabular}{lllllllllllll}\n",
       " chr & start & end & name & score & strand & effectSize & inputCount & outputCount & -log(pvalue) & -log(qvalue) & cohen's\\_d & peusdoLog2FC\\\\\n",
       " <chr> & <dbl> & <dbl> & <chr> & <chr> & <chr> & <dbl> & <dbl> & <dbl> & <dbl> & <dbl> & <dbl> & <dbl>\\\\\n",
       "\\hline\n",
       "\t chr1 &  8004337 &  8005840 & chr1:8004337-8005840   & . & . & 7970 & 3497 & 11467 & 4.05 & 3.50 &  6.187899 & 1.566952\\\\\n",
       "\t chr1 &  8258845 &  8259970 & chr1:8258845-8259970   & . & . & 6073 &  537 &  6611 & 6.86 & 6.04 & 14.053916 & 3.122952\\\\\n",
       "\t chr1 &  8343090 &  8344290 & chr1:8343090-8344290   & . & . & 5436 & 1637 &  7073 & 3.53 & 3.25 &  4.916071 & 1.624346\\\\\n",
       "\t chr1 &  8347990 &  8349475 & chr1:8347990-8349475   & . & . & 7779 &   35 &  7815 & 5.11 & 4.37 &  6.131302 & 2.871574\\\\\n",
       "\t chr1 &  8396590 &  8397529 & chr1:8396590-8397529   & . & . & 2365 &  381 &  2746 & 6.40 & 5.20 & 12.313543 & 2.465635\\\\\n",
       "\t chr1 & 15355934 & 15356609 & chr1:15355934-15356609 & . & . & 1377 &  620 &  1997 & 6.21 & 5.25 &  9.131807 & 1.403063\\\\\n",
       "\\end{tabular}\n"
      ],
      "text/markdown": [
       "\n",
       "A tibble: 6 × 13\n",
       "\n",
       "| chr &lt;chr&gt; | start &lt;dbl&gt; | end &lt;dbl&gt; | name &lt;chr&gt; | score &lt;chr&gt; | strand &lt;chr&gt; | effectSize &lt;dbl&gt; | inputCount &lt;dbl&gt; | outputCount &lt;dbl&gt; | -log(pvalue) &lt;dbl&gt; | -log(qvalue) &lt;dbl&gt; | cohen's_d &lt;dbl&gt; | peusdoLog2FC &lt;dbl&gt; |\n",
       "|---|---|---|---|---|---|---|---|---|---|---|---|---|\n",
       "| chr1 |  8004337 |  8005840 | chr1:8004337-8005840   | . | . | 7970 | 3497 | 11467 | 4.05 | 3.50 |  6.187899 | 1.566952 |\n",
       "| chr1 |  8258845 |  8259970 | chr1:8258845-8259970   | . | . | 6073 |  537 |  6611 | 6.86 | 6.04 | 14.053916 | 3.122952 |\n",
       "| chr1 |  8343090 |  8344290 | chr1:8343090-8344290   | . | . | 5436 | 1637 |  7073 | 3.53 | 3.25 |  4.916071 | 1.624346 |\n",
       "| chr1 |  8347990 |  8349475 | chr1:8347990-8349475   | . | . | 7779 |   35 |  7815 | 5.11 | 4.37 |  6.131302 | 2.871574 |\n",
       "| chr1 |  8396590 |  8397529 | chr1:8396590-8397529   | . | . | 2365 |  381 |  2746 | 6.40 | 5.20 | 12.313543 | 2.465635 |\n",
       "| chr1 | 15355934 | 15356609 | chr1:15355934-15356609 | . | . | 1377 |  620 |  1997 | 6.21 | 5.25 |  9.131807 | 1.403063 |\n",
       "\n"
      ],
      "text/plain": [
       "  chr  start    end      name                   score strand effectSize\n",
       "1 chr1  8004337  8005840 chr1:8004337-8005840   .     .      7970      \n",
       "2 chr1  8258845  8259970 chr1:8258845-8259970   .     .      6073      \n",
       "3 chr1  8343090  8344290 chr1:8343090-8344290   .     .      5436      \n",
       "4 chr1  8347990  8349475 chr1:8347990-8349475   .     .      7779      \n",
       "5 chr1  8396590  8397529 chr1:8396590-8397529   .     .      2365      \n",
       "6 chr1 15355934 15356609 chr1:15355934-15356609 .     .      1377      \n",
       "  inputCount outputCount -log(pvalue) -log(qvalue) cohen's_d peusdoLog2FC\n",
       "1 3497       11467       4.05         3.50          6.187899 1.566952    \n",
       "2  537        6611       6.86         6.04         14.053916 3.122952    \n",
       "3 1637        7073       3.53         3.25          4.916071 1.624346    \n",
       "4   35        7815       5.11         4.37          6.131302 2.871574    \n",
       "5  381        2746       6.40         5.20         12.313543 2.465635    \n",
       "6  620        1997       6.21         5.25          9.131807 1.403063    "
      ]
     },
     "metadata": {},
     "output_type": "display_data"
    }
   ],
   "source": [
    "#fdiry = \"/data/reddylab/gjohnson/whole_genome_STARRseq/wgss3/epigenome_comparisons/files_for_Kuei\"\n",
    "fdiry = file.path(FD_RLAB, \"gjohnson/whole_genome_STARRseq/wgss3/epigenome_comparisons/files_for_Kuei\")\n",
    "fname = \"dex_induced_starrseq_peaks_overlapping_GR_P300_and_dnase_peaks_with_headers.txt\"\n",
    "fpath = file.path(fdiry, fname)\n",
    "\n",
    "dat_region = read_tsv(fpath, show_col_types = FALSE)\n",
    "head(dat_region)"
   ]
  },
  {
   "cell_type": "markdown",
   "id": "c9a3f441",
   "metadata": {},
   "source": [
    "## Explore"
   ]
  },
  {
   "cell_type": "code",
   "execution_count": 3,
   "id": "89a94a76",
   "metadata": {},
   "outputs": [
    {
     "data": {
      "text/html": [
       "<table class=\"dataframe\">\n",
       "<caption>A tibble: 6 × 4</caption>\n",
       "<thead>\n",
       "\t<tr><th scope=col>chr</th><th scope=col>start</th><th scope=col>end</th><th scope=col>len</th></tr>\n",
       "\t<tr><th scope=col>&lt;chr&gt;</th><th scope=col>&lt;dbl&gt;</th><th scope=col>&lt;dbl&gt;</th><th scope=col>&lt;dbl&gt;</th></tr>\n",
       "</thead>\n",
       "<tbody>\n",
       "\t<tr><td>chr1</td><td> 8004337</td><td> 8005840</td><td>1503</td></tr>\n",
       "\t<tr><td>chr1</td><td> 8258845</td><td> 8259970</td><td>1125</td></tr>\n",
       "\t<tr><td>chr1</td><td> 8343090</td><td> 8344290</td><td>1200</td></tr>\n",
       "\t<tr><td>chr1</td><td> 8347990</td><td> 8349475</td><td>1485</td></tr>\n",
       "\t<tr><td>chr1</td><td> 8396590</td><td> 8397529</td><td> 939</td></tr>\n",
       "\t<tr><td>chr1</td><td>15355934</td><td>15356609</td><td> 675</td></tr>\n",
       "</tbody>\n",
       "</table>\n"
      ],
      "text/latex": [
       "A tibble: 6 × 4\n",
       "\\begin{tabular}{llll}\n",
       " chr & start & end & len\\\\\n",
       " <chr> & <dbl> & <dbl> & <dbl>\\\\\n",
       "\\hline\n",
       "\t chr1 &  8004337 &  8005840 & 1503\\\\\n",
       "\t chr1 &  8258845 &  8259970 & 1125\\\\\n",
       "\t chr1 &  8343090 &  8344290 & 1200\\\\\n",
       "\t chr1 &  8347990 &  8349475 & 1485\\\\\n",
       "\t chr1 &  8396590 &  8397529 &  939\\\\\n",
       "\t chr1 & 15355934 & 15356609 &  675\\\\\n",
       "\\end{tabular}\n"
      ],
      "text/markdown": [
       "\n",
       "A tibble: 6 × 4\n",
       "\n",
       "| chr &lt;chr&gt; | start &lt;dbl&gt; | end &lt;dbl&gt; | len &lt;dbl&gt; |\n",
       "|---|---|---|---|\n",
       "| chr1 |  8004337 |  8005840 | 1503 |\n",
       "| chr1 |  8258845 |  8259970 | 1125 |\n",
       "| chr1 |  8343090 |  8344290 | 1200 |\n",
       "| chr1 |  8347990 |  8349475 | 1485 |\n",
       "| chr1 |  8396590 |  8397529 |  939 |\n",
       "| chr1 | 15355934 | 15356609 |  675 |\n",
       "\n"
      ],
      "text/plain": [
       "  chr  start    end      len \n",
       "1 chr1  8004337  8005840 1503\n",
       "2 chr1  8258845  8259970 1125\n",
       "3 chr1  8343090  8344290 1200\n",
       "4 chr1  8347990  8349475 1485\n",
       "5 chr1  8396590  8397529  939\n",
       "6 chr1 15355934 15356609  675"
      ]
     },
     "metadata": {},
     "output_type": "display_data"
    }
   ],
   "source": [
    "dat = dat_region\n",
    "dat = dat %>% \n",
    "    dplyr::select(chr, start, end) %>%\n",
    "    dplyr::mutate(len = end - start)\n",
    "head(dat)"
   ]
  },
  {
   "cell_type": "code",
   "execution_count": 4,
   "id": "dfd3ae9a",
   "metadata": {},
   "outputs": [
    {
     "name": "stdout",
     "output_type": "stream",
     "text": [
      "\n",
      " chr1 chr10 chr11 chr12 chr13 chr14 chr15 chr16 chr17 chr18 chr19  chr2 chr20 \n",
      "   49    20    32    26    19    14    21    23    29    15    15    60    28 \n",
      "chr21 chr22  chr3  chr4  chr5  chr6  chr7  chr8  chr9  chrX \n",
      "    8     9    28    19    32    37    35    24    31    15 \n",
      "[1] 589\n"
     ]
    }
   ],
   "source": [
    "print(table(dat$chr))\n",
    "print(sum(table(dat$chr)))"
   ]
  },
  {
   "cell_type": "code",
   "execution_count": 5,
   "id": "03fd3831",
   "metadata": {},
   "outputs": [
    {
     "data": {
      "text/html": [
       "<style>\n",
       ".list-inline {list-style: none; margin:0; padding: 0}\n",
       ".list-inline>li {display: inline-block}\n",
       ".list-inline>li:not(:last-child)::after {content: \"\\00b7\"; padding: 0 .5ex}\n",
       "</style>\n",
       "<ol class=list-inline><li>'chr1'</li><li>'chr2'</li><li>'chr3'</li><li>'chr4'</li><li>'chr5'</li><li>'chr6'</li><li>'chr7'</li><li>'chr8'</li><li>'chr9'</li><li>'chr10'</li><li>'chr11'</li><li>'chr12'</li><li>'chr13'</li><li>'chr14'</li><li>'chr15'</li><li>'chr16'</li><li>'chr17'</li><li>'chr18'</li><li>'chr19'</li><li>'chr20'</li><li>'chr21'</li><li>'chr22'</li><li>'chrX'</li><li>'chrY'</li></ol>\n"
      ],
      "text/latex": [
       "\\begin{enumerate*}\n",
       "\\item 'chr1'\n",
       "\\item 'chr2'\n",
       "\\item 'chr3'\n",
       "\\item 'chr4'\n",
       "\\item 'chr5'\n",
       "\\item 'chr6'\n",
       "\\item 'chr7'\n",
       "\\item 'chr8'\n",
       "\\item 'chr9'\n",
       "\\item 'chr10'\n",
       "\\item 'chr11'\n",
       "\\item 'chr12'\n",
       "\\item 'chr13'\n",
       "\\item 'chr14'\n",
       "\\item 'chr15'\n",
       "\\item 'chr16'\n",
       "\\item 'chr17'\n",
       "\\item 'chr18'\n",
       "\\item 'chr19'\n",
       "\\item 'chr20'\n",
       "\\item 'chr21'\n",
       "\\item 'chr22'\n",
       "\\item 'chrX'\n",
       "\\item 'chrY'\n",
       "\\end{enumerate*}\n"
      ],
      "text/markdown": [
       "1. 'chr1'\n",
       "2. 'chr2'\n",
       "3. 'chr3'\n",
       "4. 'chr4'\n",
       "5. 'chr5'\n",
       "6. 'chr6'\n",
       "7. 'chr7'\n",
       "8. 'chr8'\n",
       "9. 'chr9'\n",
       "10. 'chr10'\n",
       "11. 'chr11'\n",
       "12. 'chr12'\n",
       "13. 'chr13'\n",
       "14. 'chr14'\n",
       "15. 'chr15'\n",
       "16. 'chr16'\n",
       "17. 'chr17'\n",
       "18. 'chr18'\n",
       "19. 'chr19'\n",
       "20. 'chr20'\n",
       "21. 'chr21'\n",
       "22. 'chr22'\n",
       "23. 'chrX'\n",
       "24. 'chrY'\n",
       "\n",
       "\n"
      ],
      "text/plain": [
       " [1] \"chr1\"  \"chr2\"  \"chr3\"  \"chr4\"  \"chr5\"  \"chr6\"  \"chr7\"  \"chr8\"  \"chr9\" \n",
       "[10] \"chr10\" \"chr11\" \"chr12\" \"chr13\" \"chr14\" \"chr15\" \"chr16\" \"chr17\" \"chr18\"\n",
       "[19] \"chr19\" \"chr20\" \"chr21\" \"chr22\" \"chrX\"  \"chrY\" "
      ]
     },
     "metadata": {},
     "output_type": "display_data"
    }
   ],
   "source": [
    "chrom = c(1:22, \"X\", \"Y\")\n",
    "paste0(\"chr\", chrom)"
   ]
  },
  {
   "cell_type": "code",
   "execution_count": 10,
   "id": "33ff7fa3",
   "metadata": {},
   "outputs": [
    {
     "data": {
      "image/png": "[encoded data removed]",
      "text/plain": [
       "plot without title"
      ]
     },
     "metadata": {
      "image/png": {
       "height": 300,
       "width": 600
      }
     },
     "output_type": "display_data"
    }
   ],
   "source": [
    "dat$chr = factor(dat$chr, levels = paste0(\"chr\", chrom))\n",
    "gpt = qplot(dat$chr) + \n",
    "    theme_cowplot() + \n",
    "    background_grid(major=\"y\", minor=\"y\") + \n",
    "    theme(axis.text.x = element_text(vjust = 0.5, angle=90)) +\n",
    "    labs(x=\"Chromosome\", y=\"Count\", title=\"Distribution of chromosome\")\n",
    "\n",
    "options(repr.plot.height=5, repr.plot.width=10)\n",
    "print(gpt)"
   ]
  },
  {
   "cell_type": "code",
   "execution_count": 7,
   "id": "ccd78d01",
   "metadata": {},
   "outputs": [
    {
     "data": {
      "text/html": [
       "<table class=\"dataframe\">\n",
       "<caption>A tibble: 6 × 4</caption>\n",
       "<thead>\n",
       "\t<tr><th scope=col>chr</th><th scope=col>start</th><th scope=col>end</th><th scope=col>len</th></tr>\n",
       "\t<tr><th scope=col>&lt;fct&gt;</th><th scope=col>&lt;dbl&gt;</th><th scope=col>&lt;dbl&gt;</th><th scope=col>&lt;dbl&gt;</th></tr>\n",
       "</thead>\n",
       "<tbody>\n",
       "\t<tr><td>chr17</td><td> 6002561</td><td> 6003866</td><td>1305</td></tr>\n",
       "\t<tr><td>chr17</td><td> 6591570</td><td> 6592361</td><td> 791</td></tr>\n",
       "\t<tr><td>chr17</td><td> 8154011</td><td> 8155261</td><td>1250</td></tr>\n",
       "\t<tr><td>chr17</td><td>14737711</td><td>14738911</td><td>1200</td></tr>\n",
       "\t<tr><td>chr17</td><td>20103411</td><td>20104207</td><td> 796</td></tr>\n",
       "\t<tr><td>chr17</td><td>28808780</td><td>28809299</td><td> 519</td></tr>\n",
       "</tbody>\n",
       "</table>\n"
      ],
      "text/latex": [
       "A tibble: 6 × 4\n",
       "\\begin{tabular}{llll}\n",
       " chr & start & end & len\\\\\n",
       " <fct> & <dbl> & <dbl> & <dbl>\\\\\n",
       "\\hline\n",
       "\t chr17 &  6002561 &  6003866 & 1305\\\\\n",
       "\t chr17 &  6591570 &  6592361 &  791\\\\\n",
       "\t chr17 &  8154011 &  8155261 & 1250\\\\\n",
       "\t chr17 & 14737711 & 14738911 & 1200\\\\\n",
       "\t chr17 & 20103411 & 20104207 &  796\\\\\n",
       "\t chr17 & 28808780 & 28809299 &  519\\\\\n",
       "\\end{tabular}\n"
      ],
      "text/markdown": [
       "\n",
       "A tibble: 6 × 4\n",
       "\n",
       "| chr &lt;fct&gt; | start &lt;dbl&gt; | end &lt;dbl&gt; | len &lt;dbl&gt; |\n",
       "|---|---|---|---|\n",
       "| chr17 |  6002561 |  6003866 | 1305 |\n",
       "| chr17 |  6591570 |  6592361 |  791 |\n",
       "| chr17 |  8154011 |  8155261 | 1250 |\n",
       "| chr17 | 14737711 | 14738911 | 1200 |\n",
       "| chr17 | 20103411 | 20104207 |  796 |\n",
       "| chr17 | 28808780 | 28809299 |  519 |\n",
       "\n"
      ],
      "text/plain": [
       "  chr   start    end      len \n",
       "1 chr17  6002561  6003866 1305\n",
       "2 chr17  6591570  6592361  791\n",
       "3 chr17  8154011  8155261 1250\n",
       "4 chr17 14737711 14738911 1200\n",
       "5 chr17 20103411 20104207  796\n",
       "6 chr17 28808780 28809299  519"
      ]
     },
     "metadata": {},
     "output_type": "display_data"
    }
   ],
   "source": [
    "dat %>% dplyr::filter(chr == \"chr17\") %>% head"
   ]
  },
  {
   "cell_type": "code",
   "execution_count": 9,
   "id": "03f3b68b",
   "metadata": {},
   "outputs": [
    {
     "data": {
      "image/png": "[encoded data removed]",
      "text/plain": [
       "plot without title"
      ]
     },
     "metadata": {
      "image/png": {
       "height": 300,
       "width": 600
      }
     },
     "output_type": "display_data"
    }
   ],
   "source": [
    "gpt = qplot(dat$len, bins = 50) + \n",
    "    theme_cowplot() + \n",
    "    background_grid(major=\"y\", minor=\"y\") +\n",
    "    labs(x=\"Length\", y=\"Count\", title=\"Distribution of length\")\n",
    "\n",
    "options(repr.plot.height=5, repr.plot.width=10)\n",
    "print(gpt)"
   ]
  },
  {
   "cell_type": "markdown",
   "id": "e916fb6f",
   "metadata": {},
   "source": [
    "## is upstream of PER1 here"
   ]
  },
  {
   "cell_type": "code",
   "execution_count": 38,
   "id": "45234c44",
   "metadata": {},
   "outputs": [
    {
     "name": "stdout",
     "output_type": "stream",
     "text": [
      "[1] 1 4\n"
     ]
    },
    {
     "data": {
      "text/html": [
       "<table class=\"dataframe\">\n",
       "<caption>A tibble: 1 × 4</caption>\n",
       "<thead>\n",
       "\t<tr><th scope=col>chr</th><th scope=col>start</th><th scope=col>end</th><th scope=col>len</th></tr>\n",
       "\t<tr><th scope=col>&lt;fct&gt;</th><th scope=col>&lt;dbl&gt;</th><th scope=col>&lt;dbl&gt;</th><th scope=col>&lt;dbl&gt;</th></tr>\n",
       "</thead>\n",
       "<tbody>\n",
       "\t<tr><td>chr17</td><td>8154011</td><td>8155261</td><td>1250</td></tr>\n",
       "</tbody>\n",
       "</table>\n"
      ],
      "text/latex": [
       "A tibble: 1 × 4\n",
       "\\begin{tabular}{llll}\n",
       " chr & start & end & len\\\\\n",
       " <fct> & <dbl> & <dbl> & <dbl>\\\\\n",
       "\\hline\n",
       "\t chr17 & 8154011 & 8155261 & 1250\\\\\n",
       "\\end{tabular}\n"
      ],
      "text/markdown": [
       "\n",
       "A tibble: 1 × 4\n",
       "\n",
       "| chr &lt;fct&gt; | start &lt;dbl&gt; | end &lt;dbl&gt; | len &lt;dbl&gt; |\n",
       "|---|---|---|---|\n",
       "| chr17 | 8154011 | 8155261 | 1250 |\n",
       "\n"
      ],
      "text/plain": [
       "  chr   start   end     len \n",
       "1 chr17 8154011 8155261 1250"
      ]
     },
     "metadata": {},
     "output_type": "display_data"
    }
   ],
   "source": [
    "tmp = dat %>% dplyr::filter(chr == \"chr17\", start >= 8148000, end <= 8160000)\n",
    "print(dim(tmp))\n",
    "tmp"
   ]
  },
  {
   "cell_type": "code",
   "execution_count": 11,
   "id": "f62ae988",
   "metadata": {},
   "outputs": [
    {
     "data": {
      "text/html": [
       "0.0492359932088285"
      ],
      "text/latex": [
       "0.0492359932088285"
      ],
      "text/markdown": [
       "0.0492359932088285"
      ],
      "text/plain": [
       "[1] 0.04923599"
      ]
     },
     "metadata": {},
     "output_type": "display_data"
    }
   ],
   "source": [
    "29/589"
   ]
  },
  {
   "cell_type": "code",
   "execution_count": null,
   "id": "ae61bcfb",
   "metadata": {},
   "outputs": [],
   "source": []
  }
 ],
 "metadata": {
  "kernelspec": {
   "display_name": "R",
   "language": "R",
   "name": "ir"
  },
  "language_info": {
   "codemirror_mode": "r",
   "file_extension": ".r",
   "mimetype": "text/x-r-source",
   "name": "R",
   "pygments_lexer": "r",
   "version": "4.2.0"
  }
 },
 "nbformat": 4,
 "nbformat_minor": 5
}
