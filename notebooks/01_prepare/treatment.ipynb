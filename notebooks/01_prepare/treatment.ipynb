{
 "cells": [
  {
   "cell_type": "code",
   "execution_count": 1,
   "id": "13aa50ce-6123-442b-93d2-947833de5099",
   "metadata": {},
   "outputs": [
    {
     "name": "stdout",
     "output_type": "stream",
     "text": [
      "You are on Duke Server: HARDAC\n",
      "BASE DIRECTORY:     /gpfs/fs1/data/reddylab/Kuei\n",
      "PATH OF SOURCE:     /gpfs/fs1/data/reddylab/Kuei/source\n",
      "PATH OF EXECUTABLE: /gpfs/fs1/data/reddylab/Kuei/exe\n",
      "PATH OF ANNOTATION: /gpfs/fs1/data/reddylab/Kuei/annotation\n",
      "PATH OF PROJECT:    /gpfs/fs1/data/reddylab/Kuei/GitRepo/Proj_CombEffect_STARRseq/notebooks\n",
      "PATH OF RESULTS:    /gpfs/fs1/data/reddylab/Kuei/out/proj_combeffect\n",
      "\n"
     ]
    }
   ],
   "source": [
    "source ../config_duke.sh -v"
   ]
  },
  {
   "cell_type": "code",
   "execution_count": 2,
   "id": "5a402545-fef1-474b-9e5d-00e57c35f55c",
   "metadata": {},
   "outputs": [
    {
     "name": "stdout",
     "output_type": "stream",
     "text": [
      "\u001b[0m\u001b[38;5;27mInput1\u001b[0m            \u001b[38;5;27mTFX2_CORT108297\u001b[0m      \u001b[38;5;27mTFX3_DMSO\u001b[0m            \u001b[38;5;27mTFX4_Mapracorat\u001b[0m\n",
      "\u001b[38;5;27mInput1_20x\u001b[0m        \u001b[38;5;27mTFX2_CpdA\u001b[0m            \u001b[38;5;27mTFX3_GW870086\u001b[0m        \u001b[38;5;27mTFX4_RU486\u001b[0m\n",
      "\u001b[38;5;27mInput2\u001b[0m            \u001b[38;5;27mTFX2_Dex\u001b[0m             \u001b[38;5;27mTFX3_Hydrocortisone\u001b[0m  \u001b[38;5;27mTFX4_ZK216348\u001b[0m\n",
      "\u001b[38;5;27mInput2_20x\u001b[0m        \u001b[38;5;27mTFX2_DMSO\u001b[0m            \u001b[38;5;27mTFX3_Mapracorat\u001b[0m      \u001b[38;5;27mTFX5_AZD2906\u001b[0m\n",
      "\u001b[38;5;27mInput3\u001b[0m            \u001b[38;5;27mTFX2_GW870086\u001b[0m        \u001b[38;5;27mTFX3_RU486\u001b[0m           \u001b[38;5;27mTFX5_AZD9567\u001b[0m\n",
      "\u001b[38;5;27mInput3_20x\u001b[0m        \u001b[38;5;27mTFX2_Hydrocortisone\u001b[0m  \u001b[38;5;27mTFX3_ZK216348\u001b[0m        \u001b[38;5;27mTFX5_CORT108297\u001b[0m\n",
      "\u001b[38;5;27mInput4\u001b[0m            \u001b[38;5;27mTFX2_Mapracorat\u001b[0m      \u001b[38;5;27mTFX4_AZD2906\u001b[0m         \u001b[38;5;27mTFX5_CpdA\u001b[0m\n",
      "\u001b[38;5;27mInput4_20x\u001b[0m        \u001b[38;5;27mTFX2_RU486\u001b[0m           \u001b[38;5;27mTFX4_AZD9567\u001b[0m         \u001b[38;5;27mTFX5_Dex\u001b[0m\n",
      "\u001b[38;5;27mInput5\u001b[0m            \u001b[38;5;27mTFX2_ZK216348\u001b[0m        \u001b[38;5;27mTFX4_CORT108297\u001b[0m      \u001b[38;5;27mTFX5_DMSO\u001b[0m\n",
      "\u001b[38;5;27mInput5_20x\u001b[0m        \u001b[38;5;27mTFX3_AZD2906\u001b[0m         \u001b[38;5;27mTFX4_CpdA\u001b[0m            \u001b[38;5;27mTFX5_GW870086\u001b[0m\n",
      "library_size.tsv  \u001b[38;5;27mTFX3_AZD9567\u001b[0m         \u001b[38;5;27mTFX4_Dex\u001b[0m             \u001b[38;5;27mTFX5_Hydrocortisone\u001b[0m\n",
      "library_size.txt  \u001b[38;5;27mTFX3_CORT108297\u001b[0m      \u001b[38;5;27mTFX4_DMSO\u001b[0m            \u001b[38;5;27mTFX5_Mapracorat\u001b[0m\n",
      "\u001b[38;5;27mTFX2_AZD2906\u001b[0m      \u001b[38;5;27mTFX3_CpdA\u001b[0m            \u001b[38;5;27mTFX4_GW870086\u001b[0m        \u001b[38;5;27mTFX5_RU486\u001b[0m\n",
      "\u001b[38;5;27mTFX2_AZD9567\u001b[0m      \u001b[38;5;27mTFX3_Dex\u001b[0m             \u001b[38;5;27mTFX4_Hydrocortisone\u001b[0m  \u001b[38;5;27mTFX5_ZK216348\u001b[0m\n"
     ]
    }
   ],
   "source": [
    "ls ${FD_RES}/source"
   ]
  },
  {
   "cell_type": "code",
   "execution_count": 19,
   "id": "0951b41e-f1f6-4a71-a82d-aae8acc354ee",
   "metadata": {},
   "outputs": [
    {
     "name": "stdout",
     "output_type": "stream",
     "text": [
      "Input\n",
      "AZD2906\n",
      "AZD9567\n",
      "CORT108297\n",
      "CpdA\n",
      "Dex\n",
      "DMSO\n",
      "GW870086\n",
      "Hydrocortisone\n",
      "Mapracorat\n",
      "RU486\n",
      "ZK216348\n"
     ]
    }
   ],
   "source": [
    "FOUT=${FD_RES}/source/treatment.txt\n",
    "echo \"Input\" >  ${FOUT}\n",
    "ls ${FD_RES}/source | grep \"TFX\" | sed -e 's/TFX._//g' | sort | uniq >> ${FOUT}\n",
    "cat ${FOUT}"
   ]
  },
  {
   "cell_type": "code",
   "execution_count": 20,
   "id": "66ce15e0-f3d1-4b53-81e3-4b80a5a9cfd9",
   "metadata": {},
   "outputs": [
    {
     "name": "stdout",
     "output_type": "stream",
     "text": [
      "12\n"
     ]
    }
   ],
   "source": [
    "cat ${FOUT} | wc -l"
   ]
  },
  {
   "cell_type": "code",
   "execution_count": 21,
   "id": "06ea869e-64d6-4cfb-97d7-3b83773ec44b",
   "metadata": {},
   "outputs": [
    {
     "name": "stdout",
     "output_type": "stream",
     "text": [
      "1 Input\n",
      "2 AZD2906\n",
      "3 AZD9567\n",
      "4 CORT108297\n",
      "5 CpdA\n",
      "6 Dex\n",
      "7 DMSO\n",
      "8 GW870086\n",
      "9 Hydrocortisone\n",
      "10 Mapracorat\n",
      "11 RU486\n",
      "12 ZK216348\n"
     ]
    }
   ],
   "source": [
    "FOUT=${FD_RES}/source/treatment.txt\n",
    "\n",
    "for idx in {1..12}; do\n",
    "    TRT=$(sed -n ${idx}p ${FOUT})\n",
    "    echo ${idx} ${TRT}\n",
    "done"
   ]
  },
  {
   "cell_type": "code",
   "execution_count": 26,
   "id": "4cd19f29-ddc7-492f-835b-db51e813ebff",
   "metadata": {},
   "outputs": [
    {
     "name": "stdout",
     "output_type": "stream",
     "text": [
      "CpdA\n",
      "/gpfs/fs1/data/reddylab/Kuei/out/proj_combeffect/source/TFX2_CpdA\n",
      "/gpfs/fs1/data/reddylab/Kuei/out/proj_combeffect/source/TFX3_CpdA\n",
      "/gpfs/fs1/data/reddylab/Kuei/out/proj_combeffect/source/TFX4_CpdA\n",
      "/gpfs/fs1/data/reddylab/Kuei/out/proj_combeffect/source/TFX5_CpdA\n"
     ]
    }
   ],
   "source": [
    "idx=5\n",
    "TRT=$(sed -n ${idx}p ${FOUT})\n",
    "echo ${TRT}\n",
    "\n",
    "FD_BEDS=($(ls -d ${FD_RES}/source/*${TRT}*))\n",
    "for FD_BED in ${FD_BEDS[@]}; do\n",
    "    echo ${FD_BED}\n",
    "done"
   ]
  },
  {
   "cell_type": "code",
   "execution_count": null,
   "id": "e7150bf9-d8aa-40f7-ab53-fd41e9a15cde",
   "metadata": {},
   "outputs": [],
   "source": []
  }
 ],
 "metadata": {
  "kernelspec": {
   "display_name": "Bash",
   "language": "bash",
   "name": "bash"
  },
  "language_info": {
   "codemirror_mode": "shell",
   "file_extension": ".sh",
   "mimetype": "text/x-sh",
   "name": "bash"
  }
 },
 "nbformat": 4,
 "nbformat_minor": 5
}
