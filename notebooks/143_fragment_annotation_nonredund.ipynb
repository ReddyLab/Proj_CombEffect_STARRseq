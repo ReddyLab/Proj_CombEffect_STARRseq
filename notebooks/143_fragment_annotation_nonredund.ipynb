{
 "cells": [
  {
   "cell_type": "code",
   "execution_count": null,
   "metadata": {},
   "outputs": [],
   "source": [
    "%%bash\n",
    "### set environment on HARDAC\n",
    "#module load bedtools2\n",
    "#module load perl\n",
    "#module load gcc\n",
    "#source /data/reddylab/software/miniconda2/bin/activate alex_dev\n",
    "#export PATH=/data/reddylab/software/homer/bin/:$PATH\n",
    "\n",
    "### set environment on DCC\n",
    "module load Bedtools\n",
    "source config.sh\n",
    "FD_LOG=${FD_WRK}/log\n",
    "\n",
    "### run script using sbatch\n",
    "#sbatch -pnew,all \\\n",
    "sbatch -p scavenger \\\n",
    "    --array=0-4 \\\n",
    "    --mem 15G \\\n",
    "    -o ${FD_LOG}/annot_fragment_input.%a.txt \\\n",
    "    <<'EOF'\n",
    "#!/bin/bash\n",
    "### set directories & global variables\n",
    "source config.sh\n",
    "CHROM=chr17\n",
    "SAMPLE=Input?\n",
    "\n",
    "### init: set input and output file\n",
    "FD_ANN=${FD_BASE}/annotation/motif_cluster_jvierstra/hg38_archetype_motifs_v1\n",
    "FN_ANN=${CHROM}_rm_mouse.bed.gz\n",
    "\n",
    "FD_BEDS=($(ls -d ${FD_WRK}/count_fragment/${SAMPLE}/))\n",
    "FD_BED=${FD_BEDS[${SLURM_ARRAY_TASK_ID}]}\n",
    "FN_BED=cnt_${CHROM}.bed\n",
    "\n",
    "FD_OUT=${FD_WRK}/annotation_fragment/$(basename -- $FD_BED)\n",
    "FN_OUT=${CHROM}.bed.gz\n",
    "\n",
    "### init: set input and output file path\n",
    "mkdir -p ${FD_OUT}\n",
    "FP_BED_A=${FD_BED}/${FN_BED}\n",
    "FP_BED_B=${FD_ANN}/${FN_ANN}\n",
    "FP_BED_O=${FD_OUT}/${FN_OUT}\n",
    "\n",
    "### print end message\n",
    "echo \"Slurm Array Index: \" ${SLURM_ARRAY_TASK_ID}\n",
    "echo \"Input  file: \" ${FP_BED_A}\n",
    "echo \"Input  file: \" ${FP_BED_B}\n",
    "echo \"Output file: \" ${FP_BED_O}\n",
    "echo\n",
    "echo \"Show the first few lines of the input file\"\n",
    "echo ${FP_BED_A}\n",
    "head ${FP_BED_A}\n",
    "echo\n",
    "echo ${FP_BED_B}\n",
    "zcat ${FP_BED_B} | head\n",
    "\n",
    "### RUN: annotation by intersecting two bed files\n",
    "bedtools intersect -a ${FP_BED_A} -b ${FP_BED_B} -wo | gzip -cf > ${FP_BED_O}\n",
    "\n",
    "### print end message\n",
    "echo\n",
    "echo \"Show the first few lines of the output file\"\n",
    "echo ${FP_BED_O}\n",
    "zcat ${FP_BED_O} | head\n",
    "\n",
    "EOF"
   ]
  },
  {
   "cell_type": "code",
   "execution_count": 8,
   "metadata": {},
   "outputs": [
    {
     "name": "stdout",
     "output_type": "stream",
     "text": [
      "AHR_merge.bed\n",
      "AHR\n"
     ]
    }
   ],
   "source": [
    "%%bash\n",
    "FP_MTF=/work/kk319/annotation/motif_cluster_jvierstra/hg38_archetype_motifs_v1/chr17/AHR_merge.bed\n",
    "FN_MTF=$(basename ${FP_MTF})\n",
    "MOTIF=\"${FN_MTF%_*.*}\"\n",
    "echo ${FN_MTF}\n",
    "echo ${MOTIF}"
   ]
  },
  {
   "cell_type": "code",
   "execution_count": null,
   "metadata": {},
   "outputs": [],
   "source": [
    "%%bash\n",
    "### set environment on DCC\n",
    "module load Bedtools\n",
    "source config.sh\n",
    "FD_LOG=${FD_WRK}/log\n",
    "\n",
    "### run script using sbatch\n",
    "#sbatch -pnew,all \\\n",
    "sbatch -p scavenger \\\n",
    "    --array=0-4 \\\n",
    "    --mem 15G \\\n",
    "    -o ${FD_LOG}/annot_fragment_input.%a.txt \\\n",
    "    <<'EOF'\n",
    "#!/bin/bash\n",
    "### set directories & global variables\n",
    "source config.sh\n",
    "CHROM=chr17\n",
    "SAMPLE=Input1"
   ]
  },
  {
   "cell_type": "code",
   "execution_count": null,
   "metadata": {},
   "outputs": [],
   "source": []
  },
  {
   "cell_type": "code",
   "execution_count": 1,
   "metadata": {
    "collapsed": true,
    "jupyter": {
     "outputs_hidden": true
    },
    "tags": []
   },
   "outputs": [
    {
     "name": "stdout",
     "output_type": "stream",
     "text": [
      "/work/kk319/annotation/motif_cluster_jvierstra/hg38_archetype_motifs_v1/chr17/AHR_merge.bed\n",
      "/work/kk319/annotation/motif_cluster_jvierstra/hg38_archetype_motifs_v1/chr17/AIRE_merge.bed\n",
      "/work/kk319/annotation/motif_cluster_jvierstra/hg38_archetype_motifs_v1/chr17/AP1_1_merge.bed\n",
      "/work/kk319/annotation/motif_cluster_jvierstra/hg38_archetype_motifs_v1/chr17/AP1_2_merge.bed\n",
      "/work/kk319/annotation/motif_cluster_jvierstra/hg38_archetype_motifs_v1/chr17/ARI5A_merge.bed\n",
      "/work/kk319/annotation/motif_cluster_jvierstra/hg38_archetype_motifs_v1/chr17/ARI5B_merge.bed\n",
      "/work/kk319/annotation/motif_cluster_jvierstra/hg38_archetype_motifs_v1/chr17/BATF_merge.bed\n",
      "/work/kk319/annotation/motif_cluster_jvierstra/hg38_archetype_motifs_v1/chr17/BCL6_1_merge.bed\n",
      "/work/kk319/annotation/motif_cluster_jvierstra/hg38_archetype_motifs_v1/chr17/BCL6_2_merge.bed\n",
      "/work/kk319/annotation/motif_cluster_jvierstra/hg38_archetype_motifs_v1/chr17/CCAAT_CEBP_merge.bed\n",
      "/work/kk319/annotation/motif_cluster_jvierstra/hg38_archetype_motifs_v1/chr17/CENBP_merge.bed\n",
      "/work/kk319/annotation/motif_cluster_jvierstra/hg38_archetype_motifs_v1/chr17/CPEB1_merge.bed\n",
      "/work/kk319/annotation/motif_cluster_jvierstra/hg38_archetype_motifs_v1/chr17/CREB3_XBP1_merge.bed\n",
      "/work/kk319/annotation/motif_cluster_jvierstra/hg38_archetype_motifs_v1/chr17/CREB_ATF_1_merge.bed\n",
      "/work/kk319/annotation/motif_cluster_jvierstra/hg38_archetype_motifs_v1/chr17/CREB_ATF_2_merge.bed\n",
      "/work/kk319/annotation/motif_cluster_jvierstra/hg38_archetype_motifs_v1/chr17/CREB_ATF_3_merge.bed\n",
      "/work/kk319/annotation/motif_cluster_jvierstra/hg38_archetype_motifs_v1/chr17/CTCF_merge.bed\n",
      "/work/kk319/annotation/motif_cluster_jvierstra/hg38_archetype_motifs_v1/chr17/CUX_1_merge.bed\n",
      "/work/kk319/annotation/motif_cluster_jvierstra/hg38_archetype_motifs_v1/chr17/CUX_2_merge.bed\n",
      "/work/kk319/annotation/motif_cluster_jvierstra/hg38_archetype_motifs_v1/chr17/CUX_3_merge.bed\n",
      "/work/kk319/annotation/motif_cluster_jvierstra/hg38_archetype_motifs_v1/chr17/DDIT3+CEBPA_merge.bed\n",
      "/work/kk319/annotation/motif_cluster_jvierstra/hg38_archetype_motifs_v1/chr17/DMRT3_merge.bed\n",
      "/work/kk319/annotation/motif_cluster_jvierstra/hg38_archetype_motifs_v1/chr17/E2F_1_merge.bed\n",
      "/work/kk319/annotation/motif_cluster_jvierstra/hg38_archetype_motifs_v1/chr17/E2F_2_merge.bed\n",
      "/work/kk319/annotation/motif_cluster_jvierstra/hg38_archetype_motifs_v1/chr17/E2F_3_merge.bed\n",
      "/work/kk319/annotation/motif_cluster_jvierstra/hg38_archetype_motifs_v1/chr17/E2F_4_merge.bed\n",
      "/work/kk319/annotation/motif_cluster_jvierstra/hg38_archetype_motifs_v1/chr17/EBF1_merge.bed\n",
      "/work/kk319/annotation/motif_cluster_jvierstra/hg38_archetype_motifs_v1/chr17/EGR_merge.bed\n",
      "/work/kk319/annotation/motif_cluster_jvierstra/hg38_archetype_motifs_v1/chr17/ETS_1_merge.bed\n",
      "/work/kk319/annotation/motif_cluster_jvierstra/hg38_archetype_motifs_v1/chr17/ETS_2_merge.bed\n",
      "/work/kk319/annotation/motif_cluster_jvierstra/hg38_archetype_motifs_v1/chr17/EVI1_MECOM_merge.bed\n",
      "/work/kk319/annotation/motif_cluster_jvierstra/hg38_archetype_motifs_v1/chr17/EWSR1_FLI1_merge.bed\n",
      "/work/kk319/annotation/motif_cluster_jvierstra/hg38_archetype_motifs_v1/chr17/Ebox_CACCTG_merge.bed\n",
      "/work/kk319/annotation/motif_cluster_jvierstra/hg38_archetype_motifs_v1/chr17/Ebox_CACGTG_1_merge.bed\n",
      "/work/kk319/annotation/motif_cluster_jvierstra/hg38_archetype_motifs_v1/chr17/Ebox_CACGTG_2_merge.bed\n",
      "/work/kk319/annotation/motif_cluster_jvierstra/hg38_archetype_motifs_v1/chr17/Ebox_CAGATGG_merge.bed\n",
      "/work/kk319/annotation/motif_cluster_jvierstra/hg38_archetype_motifs_v1/chr17/Ebox_CAGCTG_merge.bed\n",
      "/work/kk319/annotation/motif_cluster_jvierstra/hg38_archetype_motifs_v1/chr17/Ebox_CATATG_merge.bed\n",
      "/work/kk319/annotation/motif_cluster_jvierstra/hg38_archetype_motifs_v1/chr17/FEZF1_merge.bed\n",
      "/work/kk319/annotation/motif_cluster_jvierstra/hg38_archetype_motifs_v1/chr17/FOX_1_merge.bed\n",
      "/work/kk319/annotation/motif_cluster_jvierstra/hg38_archetype_motifs_v1/chr17/FOX_2_merge.bed\n",
      "/work/kk319/annotation/motif_cluster_jvierstra/hg38_archetype_motifs_v1/chr17/FOX_3_merge.bed\n",
      "/work/kk319/annotation/motif_cluster_jvierstra/hg38_archetype_motifs_v1/chr17/FOX_4_merge.bed\n",
      "/work/kk319/annotation/motif_cluster_jvierstra/hg38_archetype_motifs_v1/chr17/FOX_5_merge.bed\n",
      "/work/kk319/annotation/motif_cluster_jvierstra/hg38_archetype_motifs_v1/chr17/FOX_6_merge.bed\n",
      "/work/kk319/annotation/motif_cluster_jvierstra/hg38_archetype_motifs_v1/chr17/FOX_7_merge.bed\n",
      "/work/kk319/annotation/motif_cluster_jvierstra/hg38_archetype_motifs_v1/chr17/FOX_8_merge.bed\n",
      "/work/kk319/annotation/motif_cluster_jvierstra/hg38_archetype_motifs_v1/chr17/FOX_9_merge.bed\n",
      "/work/kk319/annotation/motif_cluster_jvierstra/hg38_archetype_motifs_v1/chr17/GATA_merge.bed\n",
      "/work/kk319/annotation/motif_cluster_jvierstra/hg38_archetype_motifs_v1/chr17/GC-tract_merge.bed\n",
      "/work/kk319/annotation/motif_cluster_jvierstra/hg38_archetype_motifs_v1/chr17/GCM_merge.bed\n",
      "/work/kk319/annotation/motif_cluster_jvierstra/hg38_archetype_motifs_v1/chr17/GFI_merge.bed\n",
      "/work/kk319/annotation/motif_cluster_jvierstra/hg38_archetype_motifs_v1/chr17/GLIS_merge.bed\n",
      "/work/kk319/annotation/motif_cluster_jvierstra/hg38_archetype_motifs_v1/chr17/GLI_merge.bed\n",
      "/work/kk319/annotation/motif_cluster_jvierstra/hg38_archetype_motifs_v1/chr17/GMEB2_1_merge.bed\n",
      "/work/kk319/annotation/motif_cluster_jvierstra/hg38_archetype_motifs_v1/chr17/GMEB2_2_merge.bed\n",
      "/work/kk319/annotation/motif_cluster_jvierstra/hg38_archetype_motifs_v1/chr17/GMEB2_3_merge.bed\n",
      "/work/kk319/annotation/motif_cluster_jvierstra/hg38_archetype_motifs_v1/chr17/GRHL_merge.bed\n",
      "/work/kk319/annotation/motif_cluster_jvierstra/hg38_archetype_motifs_v1/chr17/HAND1_merge.bed\n",
      "/work/kk319/annotation/motif_cluster_jvierstra/hg38_archetype_motifs_v1/chr17/HD_10_merge.bed\n",
      "/work/kk319/annotation/motif_cluster_jvierstra/hg38_archetype_motifs_v1/chr17/HD_11_merge.bed\n",
      "/work/kk319/annotation/motif_cluster_jvierstra/hg38_archetype_motifs_v1/chr17/HD_12_merge.bed\n",
      "/work/kk319/annotation/motif_cluster_jvierstra/hg38_archetype_motifs_v1/chr17/HD_13_merge.bed\n",
      "/work/kk319/annotation/motif_cluster_jvierstra/hg38_archetype_motifs_v1/chr17/HD_14_merge.bed\n",
      "/work/kk319/annotation/motif_cluster_jvierstra/hg38_archetype_motifs_v1/chr17/HD_15_merge.bed\n",
      "/work/kk319/annotation/motif_cluster_jvierstra/hg38_archetype_motifs_v1/chr17/HD_16_merge.bed\n",
      "/work/kk319/annotation/motif_cluster_jvierstra/hg38_archetype_motifs_v1/chr17/HD_17_merge.bed\n",
      "/work/kk319/annotation/motif_cluster_jvierstra/hg38_archetype_motifs_v1/chr17/HD_18_merge.bed\n",
      "/work/kk319/annotation/motif_cluster_jvierstra/hg38_archetype_motifs_v1/chr17/HD_19_merge.bed\n",
      "/work/kk319/annotation/motif_cluster_jvierstra/hg38_archetype_motifs_v1/chr17/HD_1_merge.bed\n",
      "/work/kk319/annotation/motif_cluster_jvierstra/hg38_archetype_motifs_v1/chr17/HD_20_merge.bed\n",
      "/work/kk319/annotation/motif_cluster_jvierstra/hg38_archetype_motifs_v1/chr17/HD_21_merge.bed\n",
      "/work/kk319/annotation/motif_cluster_jvierstra/hg38_archetype_motifs_v1/chr17/HD_22_merge.bed\n",
      "/work/kk319/annotation/motif_cluster_jvierstra/hg38_archetype_motifs_v1/chr17/HD_23_merge.bed\n",
      "/work/kk319/annotation/motif_cluster_jvierstra/hg38_archetype_motifs_v1/chr17/HD_24_merge.bed\n",
      "/work/kk319/annotation/motif_cluster_jvierstra/hg38_archetype_motifs_v1/chr17/HD_25_merge.bed\n",
      "/work/kk319/annotation/motif_cluster_jvierstra/hg38_archetype_motifs_v1/chr17/HD_2_merge.bed\n",
      "/work/kk319/annotation/motif_cluster_jvierstra/hg38_archetype_motifs_v1/chr17/HD_3_merge.bed\n",
      "/work/kk319/annotation/motif_cluster_jvierstra/hg38_archetype_motifs_v1/chr17/HD_4_merge.bed\n",
      "/work/kk319/annotation/motif_cluster_jvierstra/hg38_archetype_motifs_v1/chr17/HD_5_merge.bed\n",
      "/work/kk319/annotation/motif_cluster_jvierstra/hg38_archetype_motifs_v1/chr17/HD_6_merge.bed\n",
      "/work/kk319/annotation/motif_cluster_jvierstra/hg38_archetype_motifs_v1/chr17/HD_7_merge.bed\n",
      "/work/kk319/annotation/motif_cluster_jvierstra/hg38_archetype_motifs_v1/chr17/HD_8_merge.bed\n",
      "/work/kk319/annotation/motif_cluster_jvierstra/hg38_archetype_motifs_v1/chr17/HD_9_merge.bed\n",
      "/work/kk319/annotation/motif_cluster_jvierstra/hg38_archetype_motifs_v1/chr17/HEN1_merge.bed\n",
      "/work/kk319/annotation/motif_cluster_jvierstra/hg38_archetype_motifs_v1/chr17/HIC_1_merge.bed\n",
      "/work/kk319/annotation/motif_cluster_jvierstra/hg38_archetype_motifs_v1/chr17/HIC_2_merge.bed\n",
      "/work/kk319/annotation/motif_cluster_jvierstra/hg38_archetype_motifs_v1/chr17/HIF_merge.bed\n",
      "/work/kk319/annotation/motif_cluster_jvierstra/hg38_archetype_motifs_v1/chr17/HINFP1_1_merge.bed\n",
      "/work/kk319/annotation/motif_cluster_jvierstra/hg38_archetype_motifs_v1/chr17/HINFP1_2_merge.bed\n",
      "/work/kk319/annotation/motif_cluster_jvierstra/hg38_archetype_motifs_v1/chr17/HINFP1_3_merge.bed\n",
      "/work/kk319/annotation/motif_cluster_jvierstra/hg38_archetype_motifs_v1/chr17/HLTF_merge.bed\n",
      "/work/kk319/annotation/motif_cluster_jvierstra/hg38_archetype_motifs_v1/chr17/HOMEZ_merge.bed\n",
      "/work/kk319/annotation/motif_cluster_jvierstra/hg38_archetype_motifs_v1/chr17/HSFY2_merge.bed\n",
      "/work/kk319/annotation/motif_cluster_jvierstra/hg38_archetype_motifs_v1/chr17/HSF_merge.bed\n",
      "/work/kk319/annotation/motif_cluster_jvierstra/hg38_archetype_motifs_v1/chr17/INSM1_merge.bed\n",
      "/work/kk319/annotation/motif_cluster_jvierstra/hg38_archetype_motifs_v1/chr17/IRF_1_merge.bed\n",
      "/work/kk319/annotation/motif_cluster_jvierstra/hg38_archetype_motifs_v1/chr17/IRF_2_merge.bed\n",
      "/work/kk319/annotation/motif_cluster_jvierstra/hg38_archetype_motifs_v1/chr17/IRF_3_merge.bed\n",
      "/work/kk319/annotation/motif_cluster_jvierstra/hg38_archetype_motifs_v1/chr17/IRF_4_merge.bed\n",
      "/work/kk319/annotation/motif_cluster_jvierstra/hg38_archetype_motifs_v1/chr17/KAISO_merge.bed\n",
      "/work/kk319/annotation/motif_cluster_jvierstra/hg38_archetype_motifs_v1/chr17/KLF_SP_1_merge.bed\n",
      "/work/kk319/annotation/motif_cluster_jvierstra/hg38_archetype_motifs_v1/chr17/KLF_SP_2_merge.bed\n",
      "/work/kk319/annotation/motif_cluster_jvierstra/hg38_archetype_motifs_v1/chr17/KLF_SP_3_merge.bed\n",
      "/work/kk319/annotation/motif_cluster_jvierstra/hg38_archetype_motifs_v1/chr17/LEF1_merge.bed\n",
      "/work/kk319/annotation/motif_cluster_jvierstra/hg38_archetype_motifs_v1/chr17/LIN54_merge.bed\n",
      "/work/kk319/annotation/motif_cluster_jvierstra/hg38_archetype_motifs_v1/chr17/MAF_merge.bed\n",
      "/work/kk319/annotation/motif_cluster_jvierstra/hg38_archetype_motifs_v1/chr17/MBD2_merge.bed\n",
      "/work/kk319/annotation/motif_cluster_jvierstra/hg38_archetype_motifs_v1/chr17/MECP2_merge.bed\n",
      "/work/kk319/annotation/motif_cluster_jvierstra/hg38_archetype_motifs_v1/chr17/MEF2_merge.bed\n",
      "/work/kk319/annotation/motif_cluster_jvierstra/hg38_archetype_motifs_v1/chr17/MFZ1_merge.bed\n",
      "/work/kk319/annotation/motif_cluster_jvierstra/hg38_archetype_motifs_v1/chr17/MIES_merge.bed\n",
      "/work/kk319/annotation/motif_cluster_jvierstra/hg38_archetype_motifs_v1/chr17/MTF1_merge.bed\n",
      "/work/kk319/annotation/motif_cluster_jvierstra/hg38_archetype_motifs_v1/chr17/MYB_1_merge.bed\n",
      "/work/kk319/annotation/motif_cluster_jvierstra/hg38_archetype_motifs_v1/chr17/MYB_2_merge.bed\n",
      "/work/kk319/annotation/motif_cluster_jvierstra/hg38_archetype_motifs_v1/chr17/MYB_3_merge.bed\n",
      "/work/kk319/annotation/motif_cluster_jvierstra/hg38_archetype_motifs_v1/chr17/MYB_4_merge.bed\n",
      "/work/kk319/annotation/motif_cluster_jvierstra/hg38_archetype_motifs_v1/chr17/MYB_5_merge.bed\n",
      "/work/kk319/annotation/motif_cluster_jvierstra/hg38_archetype_motifs_v1/chr17/MZF1_merge.bed\n",
      "/work/kk319/annotation/motif_cluster_jvierstra/hg38_archetype_motifs_v1/chr17/NFAC_2_merge.bed\n",
      "/work/kk319/annotation/motif_cluster_jvierstra/hg38_archetype_motifs_v1/chr17/NFAT_1_merge.bed\n",
      "/work/kk319/annotation/motif_cluster_jvierstra/hg38_archetype_motifs_v1/chr17/NFAT_2_merge.bed\n",
      "/work/kk319/annotation/motif_cluster_jvierstra/hg38_archetype_motifs_v1/chr17/NFAT_3_merge.bed\n",
      "/work/kk319/annotation/motif_cluster_jvierstra/hg38_archetype_motifs_v1/chr17/NFAT_4_merge.bed\n",
      "/work/kk319/annotation/motif_cluster_jvierstra/hg38_archetype_motifs_v1/chr17/NFI_1_merge.bed\n",
      "/work/kk319/annotation/motif_cluster_jvierstra/hg38_archetype_motifs_v1/chr17/NFI_2_merge.bed\n",
      "/work/kk319/annotation/motif_cluster_jvierstra/hg38_archetype_motifs_v1/chr17/NFI_3_merge.bed\n",
      "/work/kk319/annotation/motif_cluster_jvierstra/hg38_archetype_motifs_v1/chr17/NFKB_1_merge.bed\n",
      "/work/kk319/annotation/motif_cluster_jvierstra/hg38_archetype_motifs_v1/chr17/NFKB_2_merge.bed\n",
      "/work/kk319/annotation/motif_cluster_jvierstra/hg38_archetype_motifs_v1/chr17/NFKB_3_merge.bed\n",
      "/work/kk319/annotation/motif_cluster_jvierstra/hg38_archetype_motifs_v1/chr17/NFY_merge.bed\n",
      "/work/kk319/annotation/motif_cluster_jvierstra/hg38_archetype_motifs_v1/chr17/NR2E3_merge.bed\n",
      "/work/kk319/annotation/motif_cluster_jvierstra/hg38_archetype_motifs_v1/chr17/NRF1_merge.bed\n",
      "/work/kk319/annotation/motif_cluster_jvierstra/hg38_archetype_motifs_v1/chr17/NR_10_merge.bed\n",
      "/work/kk319/annotation/motif_cluster_jvierstra/hg38_archetype_motifs_v1/chr17/NR_11_merge.bed\n",
      "/work/kk319/annotation/motif_cluster_jvierstra/hg38_archetype_motifs_v1/chr17/NR_12_merge.bed\n",
      "/work/kk319/annotation/motif_cluster_jvierstra/hg38_archetype_motifs_v1/chr17/NR_13_merge.bed\n",
      "/work/kk319/annotation/motif_cluster_jvierstra/hg38_archetype_motifs_v1/chr17/NR_14_merge.bed\n",
      "/work/kk319/annotation/motif_cluster_jvierstra/hg38_archetype_motifs_v1/chr17/NR_15_merge.bed\n",
      "/work/kk319/annotation/motif_cluster_jvierstra/hg38_archetype_motifs_v1/chr17/NR_16_merge.bed\n",
      "/work/kk319/annotation/motif_cluster_jvierstra/hg38_archetype_motifs_v1/chr17/NR_17_merge.bed\n",
      "/work/kk319/annotation/motif_cluster_jvierstra/hg38_archetype_motifs_v1/chr17/NR_18_merge.bed\n",
      "/work/kk319/annotation/motif_cluster_jvierstra/hg38_archetype_motifs_v1/chr17/NR_19_merge.bed\n",
      "/work/kk319/annotation/motif_cluster_jvierstra/hg38_archetype_motifs_v1/chr17/NR_1_merge.bed\n",
      "/work/kk319/annotation/motif_cluster_jvierstra/hg38_archetype_motifs_v1/chr17/NR_20_merge.bed\n",
      "/work/kk319/annotation/motif_cluster_jvierstra/hg38_archetype_motifs_v1/chr17/NR_2_merge.bed\n",
      "/work/kk319/annotation/motif_cluster_jvierstra/hg38_archetype_motifs_v1/chr17/NR_3_merge.bed\n",
      "/work/kk319/annotation/motif_cluster_jvierstra/hg38_archetype_motifs_v1/chr17/NR_4_merge.bed\n",
      "/work/kk319/annotation/motif_cluster_jvierstra/hg38_archetype_motifs_v1/chr17/NR_5_merge.bed\n",
      "/work/kk319/annotation/motif_cluster_jvierstra/hg38_archetype_motifs_v1/chr17/NR_6_merge.bed\n",
      "/work/kk319/annotation/motif_cluster_jvierstra/hg38_archetype_motifs_v1/chr17/NR_7_merge.bed\n",
      "/work/kk319/annotation/motif_cluster_jvierstra/hg38_archetype_motifs_v1/chr17/NR_8_merge.bed\n",
      "/work/kk319/annotation/motif_cluster_jvierstra/hg38_archetype_motifs_v1/chr17/NR_9_merge.bed\n",
      "/work/kk319/annotation/motif_cluster_jvierstra/hg38_archetype_motifs_v1/chr17/OCT4+SOX2_merge.bed\n",
      "/work/kk319/annotation/motif_cluster_jvierstra/hg38_archetype_motifs_v1/chr17/OSR2_merge.bed\n",
      "/work/kk319/annotation/motif_cluster_jvierstra/hg38_archetype_motifs_v1/chr17/OVOL1_merge.bed\n",
      "/work/kk319/annotation/motif_cluster_jvierstra/hg38_archetype_motifs_v1/chr17/P53-like_1_merge.bed\n",
      "/work/kk319/annotation/motif_cluster_jvierstra/hg38_archetype_motifs_v1/chr17/PAX-halfsite_merge.bed\n",
      "/work/kk319/annotation/motif_cluster_jvierstra/hg38_archetype_motifs_v1/chr17/PAX_1_merge.bed\n",
      "/work/kk319/annotation/motif_cluster_jvierstra/hg38_archetype_motifs_v1/chr17/PAX_2_merge.bed\n",
      "/work/kk319/annotation/motif_cluster_jvierstra/hg38_archetype_motifs_v1/chr17/PLAG1_merge.bed\n",
      "/work/kk319/annotation/motif_cluster_jvierstra/hg38_archetype_motifs_v1/chr17/POU_1_merge.bed\n",
      "/work/kk319/annotation/motif_cluster_jvierstra/hg38_archetype_motifs_v1/chr17/POU_2_merge.bed\n",
      "/work/kk319/annotation/motif_cluster_jvierstra/hg38_archetype_motifs_v1/chr17/POU_3_merge.bed\n",
      "/work/kk319/annotation/motif_cluster_jvierstra/hg38_archetype_motifs_v1/chr17/PRDM14_merge.bed\n",
      "/work/kk319/annotation/motif_cluster_jvierstra/hg38_archetype_motifs_v1/chr17/PRDM1_merge.bed\n",
      "/work/kk319/annotation/motif_cluster_jvierstra/hg38_archetype_motifs_v1/chr17/PRDM4_merge.bed\n",
      "/work/kk319/annotation/motif_cluster_jvierstra/hg38_archetype_motifs_v1/chr17/PROX1_merge.bed\n",
      "/work/kk319/annotation/motif_cluster_jvierstra/hg38_archetype_motifs_v1/chr17/RBPJ_merge.bed\n",
      "/work/kk319/annotation/motif_cluster_jvierstra/hg38_archetype_motifs_v1/chr17/REL-halfsite_merge.bed\n",
      "/work/kk319/annotation/motif_cluster_jvierstra/hg38_archetype_motifs_v1/chr17/REST_NRSF_merge.bed\n",
      "/work/kk319/annotation/motif_cluster_jvierstra/hg38_archetype_motifs_v1/chr17/RFX_1_merge.bed\n",
      "/work/kk319/annotation/motif_cluster_jvierstra/hg38_archetype_motifs_v1/chr17/RFX_2_merge.bed\n",
      "/work/kk319/annotation/motif_cluster_jvierstra/hg38_archetype_motifs_v1/chr17/RFX_3_merge.bed\n",
      "/work/kk319/annotation/motif_cluster_jvierstra/hg38_archetype_motifs_v1/chr17/RUNX_1_merge.bed\n",
      "/work/kk319/annotation/motif_cluster_jvierstra/hg38_archetype_motifs_v1/chr17/RUNX_2_merge.bed\n",
      "/work/kk319/annotation/motif_cluster_jvierstra/hg38_archetype_motifs_v1/chr17/SCRT1_merge.bed\n",
      "/work/kk319/annotation/motif_cluster_jvierstra/hg38_archetype_motifs_v1/chr17/SIX_1_merge.bed\n",
      "/work/kk319/annotation/motif_cluster_jvierstra/hg38_archetype_motifs_v1/chr17/SIX_2_merge.bed\n",
      "/work/kk319/annotation/motif_cluster_jvierstra/hg38_archetype_motifs_v1/chr17/SMAD_merge.bed\n",
      "/work/kk319/annotation/motif_cluster_jvierstra/hg38_archetype_motifs_v1/chr17/SMARCA1_merge.bed\n",
      "/work/kk319/annotation/motif_cluster_jvierstra/hg38_archetype_motifs_v1/chr17/SMARCA5_merge.bed\n",
      "/work/kk319/annotation/motif_cluster_jvierstra/hg38_archetype_motifs_v1/chr17/SNAI2_merge.bed\n",
      "/work/kk319/annotation/motif_cluster_jvierstra/hg38_archetype_motifs_v1/chr17/SOX_1_merge.bed\n",
      "/work/kk319/annotation/motif_cluster_jvierstra/hg38_archetype_motifs_v1/chr17/SOX_2_merge.bed\n",
      "/work/kk319/annotation/motif_cluster_jvierstra/hg38_archetype_motifs_v1/chr17/SOX_3_merge.bed\n",
      "/work/kk319/annotation/motif_cluster_jvierstra/hg38_archetype_motifs_v1/chr17/SOX_4_merge.bed\n",
      "/work/kk319/annotation/motif_cluster_jvierstra/hg38_archetype_motifs_v1/chr17/SOX_5_merge.bed\n",
      "/work/kk319/annotation/motif_cluster_jvierstra/hg38_archetype_motifs_v1/chr17/SOX_6_merge.bed\n",
      "/work/kk319/annotation/motif_cluster_jvierstra/hg38_archetype_motifs_v1/chr17/SOX_7_merge.bed\n",
      "/work/kk319/annotation/motif_cluster_jvierstra/hg38_archetype_motifs_v1/chr17/SOX_8_merge.bed\n",
      "/work/kk319/annotation/motif_cluster_jvierstra/hg38_archetype_motifs_v1/chr17/SPDEF_1_merge.bed\n",
      "/work/kk319/annotation/motif_cluster_jvierstra/hg38_archetype_motifs_v1/chr17/SPDEF_2_merge.bed\n",
      "/work/kk319/annotation/motif_cluster_jvierstra/hg38_archetype_motifs_v1/chr17/SPI_merge.bed\n",
      "/work/kk319/annotation/motif_cluster_jvierstra/hg38_archetype_motifs_v1/chr17/SPZ1_merge.bed\n",
      "/work/kk319/annotation/motif_cluster_jvierstra/hg38_archetype_motifs_v1/chr17/SREBF1_merge.bed\n",
      "/work/kk319/annotation/motif_cluster_jvierstra/hg38_archetype_motifs_v1/chr17/SRF_merge.bed\n",
      "/work/kk319/annotation/motif_cluster_jvierstra/hg38_archetype_motifs_v1/chr17/STAT_1_merge.bed\n",
      "/work/kk319/annotation/motif_cluster_jvierstra/hg38_archetype_motifs_v1/chr17/STAT_2_merge.bed\n",
      "/work/kk319/annotation/motif_cluster_jvierstra/hg38_archetype_motifs_v1/chr17/TATA_merge.bed\n",
      "/work/kk319/annotation/motif_cluster_jvierstra/hg38_archetype_motifs_v1/chr17/TBX_1_merge.bed\n",
      "/work/kk319/annotation/motif_cluster_jvierstra/hg38_archetype_motifs_v1/chr17/TBX_2_merge.bed\n",
      "/work/kk319/annotation/motif_cluster_jvierstra/hg38_archetype_motifs_v1/chr17/TBX_3_merge.bed\n",
      "/work/kk319/annotation/motif_cluster_jvierstra/hg38_archetype_motifs_v1/chr17/TBX_4_merge.bed\n",
      "/work/kk319/annotation/motif_cluster_jvierstra/hg38_archetype_motifs_v1/chr17/TCF_LEF_merge.bed\n",
      "/work/kk319/annotation/motif_cluster_jvierstra/hg38_archetype_motifs_v1/chr17/TEAD_merge.bed\n",
      "/work/kk319/annotation/motif_cluster_jvierstra/hg38_archetype_motifs_v1/chr17/TFAP2_1_merge.bed\n",
      "/work/kk319/annotation/motif_cluster_jvierstra/hg38_archetype_motifs_v1/chr17/TFAP2_2_merge.bed\n",
      "/work/kk319/annotation/motif_cluster_jvierstra/hg38_archetype_motifs_v1/chr17/TFCP2_merge.bed\n",
      "/work/kk319/annotation/motif_cluster_jvierstra/hg38_archetype_motifs_v1/chr17/THAP1_merge.bed\n",
      "/work/kk319/annotation/motif_cluster_jvierstra/hg38_archetype_motifs_v1/chr17/YY1_merge.bed\n",
      "/work/kk319/annotation/motif_cluster_jvierstra/hg38_archetype_motifs_v1/chr17/ZBED1_merge.bed\n",
      "/work/kk319/annotation/motif_cluster_jvierstra/hg38_archetype_motifs_v1/chr17/ZBTB14_merge.bed\n",
      "/work/kk319/annotation/motif_cluster_jvierstra/hg38_archetype_motifs_v1/chr17/ZBTB48_merge.bed\n",
      "/work/kk319/annotation/motif_cluster_jvierstra/hg38_archetype_motifs_v1/chr17/ZBTB49_merge.bed\n",
      "/work/kk319/annotation/motif_cluster_jvierstra/hg38_archetype_motifs_v1/chr17/ZBTB6_merge.bed\n",
      "/work/kk319/annotation/motif_cluster_jvierstra/hg38_archetype_motifs_v1/chr17/ZBTB7A_merge.bed\n",
      "/work/kk319/annotation/motif_cluster_jvierstra/hg38_archetype_motifs_v1/chr17/ZFN121_merge.bed\n",
      "/work/kk319/annotation/motif_cluster_jvierstra/hg38_archetype_motifs_v1/chr17/ZFX_merge.bed\n",
      "/work/kk319/annotation/motif_cluster_jvierstra/hg38_archetype_motifs_v1/chr17/ZIC_2_merge.bed\n",
      "/work/kk319/annotation/motif_cluster_jvierstra/hg38_archetype_motifs_v1/chr17/ZIC_merge.bed\n",
      "/work/kk319/annotation/motif_cluster_jvierstra/hg38_archetype_motifs_v1/chr17/ZIM3_merge.bed\n",
      "/work/kk319/annotation/motif_cluster_jvierstra/hg38_archetype_motifs_v1/chr17/ZKSCAN1_merge.bed\n",
      "/work/kk319/annotation/motif_cluster_jvierstra/hg38_archetype_motifs_v1/chr17/ZNF134_merge.bed\n",
      "/work/kk319/annotation/motif_cluster_jvierstra/hg38_archetype_motifs_v1/chr17/ZNF136_merge.bed\n",
      "/work/kk319/annotation/motif_cluster_jvierstra/hg38_archetype_motifs_v1/chr17/ZNF140_merge.bed\n",
      "/work/kk319/annotation/motif_cluster_jvierstra/hg38_archetype_motifs_v1/chr17/ZNF143_merge.bed\n",
      "/work/kk319/annotation/motif_cluster_jvierstra/hg38_archetype_motifs_v1/chr17/ZNF146_merge.bed\n",
      "/work/kk319/annotation/motif_cluster_jvierstra/hg38_archetype_motifs_v1/chr17/ZNF232_merge.bed\n",
      "/work/kk319/annotation/motif_cluster_jvierstra/hg38_archetype_motifs_v1/chr17/ZNF24_merge.bed\n",
      "/work/kk319/annotation/motif_cluster_jvierstra/hg38_archetype_motifs_v1/chr17/ZNF250_merge.bed\n",
      "/work/kk319/annotation/motif_cluster_jvierstra/hg38_archetype_motifs_v1/chr17/ZNF257_merge.bed\n",
      "/work/kk319/annotation/motif_cluster_jvierstra/hg38_archetype_motifs_v1/chr17/ZNF274_merge.bed\n",
      "/work/kk319/annotation/motif_cluster_jvierstra/hg38_archetype_motifs_v1/chr17/ZNF282_merge.bed\n",
      "/work/kk319/annotation/motif_cluster_jvierstra/hg38_archetype_motifs_v1/chr17/ZNF28_merge.bed\n",
      "/work/kk319/annotation/motif_cluster_jvierstra/hg38_archetype_motifs_v1/chr17/ZNF306_merge.bed\n",
      "/work/kk319/annotation/motif_cluster_jvierstra/hg38_archetype_motifs_v1/chr17/ZNF317_merge.bed\n",
      "/work/kk319/annotation/motif_cluster_jvierstra/hg38_archetype_motifs_v1/chr17/ZNF320_merge.bed\n",
      "/work/kk319/annotation/motif_cluster_jvierstra/hg38_archetype_motifs_v1/chr17/ZNF324_merge.bed\n",
      "/work/kk319/annotation/motif_cluster_jvierstra/hg38_archetype_motifs_v1/chr17/ZNF329_merge.bed\n",
      "/work/kk319/annotation/motif_cluster_jvierstra/hg38_archetype_motifs_v1/chr17/ZNF331_merge.bed\n",
      "/work/kk319/annotation/motif_cluster_jvierstra/hg38_archetype_motifs_v1/chr17/ZNF332_merge.bed\n",
      "/work/kk319/annotation/motif_cluster_jvierstra/hg38_archetype_motifs_v1/chr17/ZNF335_merge.bed\n",
      "/work/kk319/annotation/motif_cluster_jvierstra/hg38_archetype_motifs_v1/chr17/ZNF354_merge.bed\n",
      "/work/kk319/annotation/motif_cluster_jvierstra/hg38_archetype_motifs_v1/chr17/ZNF382_merge.bed\n",
      "/work/kk319/annotation/motif_cluster_jvierstra/hg38_archetype_motifs_v1/chr17/ZNF384_1_merge.bed\n",
      "/work/kk319/annotation/motif_cluster_jvierstra/hg38_archetype_motifs_v1/chr17/ZNF384_2_merge.bed\n",
      "/work/kk319/annotation/motif_cluster_jvierstra/hg38_archetype_motifs_v1/chr17/ZNF410_merge.bed\n",
      "/work/kk319/annotation/motif_cluster_jvierstra/hg38_archetype_motifs_v1/chr17/ZNF418_merge.bed\n",
      "/work/kk319/annotation/motif_cluster_jvierstra/hg38_archetype_motifs_v1/chr17/ZNF41_merge.bed\n",
      "/work/kk319/annotation/motif_cluster_jvierstra/hg38_archetype_motifs_v1/chr17/ZNF423_merge.bed\n",
      "/work/kk319/annotation/motif_cluster_jvierstra/hg38_archetype_motifs_v1/chr17/ZNF435_merge.bed\n",
      "/work/kk319/annotation/motif_cluster_jvierstra/hg38_archetype_motifs_v1/chr17/ZNF436_merge.bed\n",
      "/work/kk319/annotation/motif_cluster_jvierstra/hg38_archetype_motifs_v1/chr17/ZNF449_merge.bed\n",
      "/work/kk319/annotation/motif_cluster_jvierstra/hg38_archetype_motifs_v1/chr17/ZNF490_merge.bed\n",
      "/work/kk319/annotation/motif_cluster_jvierstra/hg38_archetype_motifs_v1/chr17/ZNF524_merge.bed\n",
      "/work/kk319/annotation/motif_cluster_jvierstra/hg38_archetype_motifs_v1/chr17/ZNF528_merge.bed\n",
      "/work/kk319/annotation/motif_cluster_jvierstra/hg38_archetype_motifs_v1/chr17/ZNF53_merge.bed\n",
      "/work/kk319/annotation/motif_cluster_jvierstra/hg38_archetype_motifs_v1/chr17/ZNF547_merge.bed\n",
      "/work/kk319/annotation/motif_cluster_jvierstra/hg38_archetype_motifs_v1/chr17/ZNF549_merge.bed\n",
      "/work/kk319/annotation/motif_cluster_jvierstra/hg38_archetype_motifs_v1/chr17/ZNF554_merge.bed\n",
      "/work/kk319/annotation/motif_cluster_jvierstra/hg38_archetype_motifs_v1/chr17/ZNF563_merge.bed\n",
      "/work/kk319/annotation/motif_cluster_jvierstra/hg38_archetype_motifs_v1/chr17/ZNF586_merge.bed\n",
      "/work/kk319/annotation/motif_cluster_jvierstra/hg38_archetype_motifs_v1/chr17/ZNF667_merge.bed\n",
      "/work/kk319/annotation/motif_cluster_jvierstra/hg38_archetype_motifs_v1/chr17/ZNF680_merge.bed\n",
      "/work/kk319/annotation/motif_cluster_jvierstra/hg38_archetype_motifs_v1/chr17/ZNF708_merge.bed\n",
      "/work/kk319/annotation/motif_cluster_jvierstra/hg38_archetype_motifs_v1/chr17/ZNF713_merge.bed\n",
      "/work/kk319/annotation/motif_cluster_jvierstra/hg38_archetype_motifs_v1/chr17/ZNF768_merge.bed\n",
      "/work/kk319/annotation/motif_cluster_jvierstra/hg38_archetype_motifs_v1/chr17/ZNF784_merge.bed\n",
      "/work/kk319/annotation/motif_cluster_jvierstra/hg38_archetype_motifs_v1/chr17/ZNF85_merge.bed\n",
      "/work/kk319/annotation/motif_cluster_jvierstra/hg38_archetype_motifs_v1/chr17/ZSCAN3_merge.bed\n",
      "/work/kk319/annotation/motif_cluster_jvierstra/hg38_archetype_motifs_v1/chr17/ZSCAN4_merge.bed\n"
     ]
    }
   ],
   "source": [
    "%%bash\n",
    "module load Bedtools\n",
    "source config.sh\n",
    "CHROM=chr17\n",
    "SAMPLE=Input1\n",
    "\n",
    "FD_MTF=${FD_ANN}/motif_cluster_jvierstra/hg38_archetype_motifs_v1/${CHROM}\n",
    "ls ${FD_MTF}/*merge.bed"
   ]
  },
  {
   "cell_type": "code",
   "execution_count": null,
   "metadata": {},
   "outputs": [],
   "source": []
  },
  {
   "cell_type": "code",
   "execution_count": null,
   "metadata": {},
   "outputs": [],
   "source": []
  },
  {
   "cell_type": "code",
   "execution_count": null,
   "metadata": {},
   "outputs": [],
   "source": []
  },
  {
   "cell_type": "code",
   "execution_count": null,
   "metadata": {},
   "outputs": [],
   "source": []
  },
  {
   "cell_type": "code",
   "execution_count": null,
   "metadata": {},
   "outputs": [],
   "source": []
  },
  {
   "cell_type": "code",
   "execution_count": null,
   "metadata": {},
   "outputs": [],
   "source": []
  },
  {
   "cell_type": "code",
   "execution_count": null,
   "metadata": {},
   "outputs": [],
   "source": []
  },
  {
   "cell_type": "code",
   "execution_count": null,
   "metadata": {},
   "outputs": [],
   "source": []
  },
  {
   "cell_type": "code",
   "execution_count": null,
   "metadata": {},
   "outputs": [],
   "source": []
  },
  {
   "cell_type": "code",
   "execution_count": null,
   "metadata": {},
   "outputs": [],
   "source": []
  },
  {
   "cell_type": "markdown",
   "metadata": {},
   "source": [
    "## Annotate Inputs"
   ]
  },
  {
   "cell_type": "markdown",
   "metadata": {},
   "source": [
    "**Test code**"
   ]
  },
  {
   "cell_type": "code",
   "execution_count": 1,
   "metadata": {},
   "outputs": [
    {
     "name": "stdout",
     "output_type": "stream",
     "text": [
      "chr17\t10000160\t10001059\t1\n",
      "chr17\t10000167\t10001087\t1\n",
      "chr17\t10000256\t10001171\t1\n",
      "chr17\t10000405\t10001490\t1\n",
      "chr17\t10000434\t10001419\t1\n",
      "chr17\t10000489\t10001383\t1\n",
      "chr17\t10000518\t10001596\t1\n",
      "chr17\t10000531\t10001494\t1\n",
      "chr17\t10000612\t10001545\t1\n",
      "chr17\t10000660\t10001626\t1\n",
      "chr17\t60004\t60022\tZNF140\t5.6897\t+\tZN140_HUMAN.H11MO.0.C\t1\n",
      "chr17\t60004\t60022\tZNF667\t8.0240\t-\tZN667_HUMAN.H11MO.0.C\t1\n",
      "chr17\t60006\t60015\tEbox/CAGCTG\t7.9275\t+\tMYOD1_HUMAN.H11MO.0.A\t1\n",
      "chr17\t60011\t60031\tGC-tract\t12.1220\t-\tZN341_HUMAN.H11MO.0.C\t1\n",
      "chr17\t60012\t60025\tPRDM4\t1.3083\t+\tPRDM4_C2H2_1\t1\n",
      "chr17\t60017\t60028\tNR/19\t9.6680\t-\tNR1D1_HUMAN.H11MO.0.B\t2\n",
      "chr17\t60019\t60035\tHEN1\t5.5854\t-\tHEN1_HUMAN.H11MO.0.C\t2\n",
      "chr17\t60023\t60042\tZNF680\t6.3901\t-\tZN680_HUMAN.H11MO.0.C\t1\n",
      "chr17\t60027\t60037\tSMARCA1\t7.5566\t-\tSMCA1_HUMAN.H11MO.0.C\t1\n",
      "chr17\t60027\t60040\tLEF1\t7.1402\t+\tZN350_HUMAN.H11MO.0.C\t1\n"
     ]
    }
   ],
   "source": [
    "%%bash\n",
    "source config.sh\n",
    "CHROM=chr17\n",
    "SAMPLE=Input1\n",
    "\n",
    "### set input and output file\n",
    "FD_ANN=${FD_BASE}/annotation/motif_cluster_jvierstra/hg38_archetype_motifs_v1\n",
    "FN_ANN=${CHROM}_rm_mouse.bed.gz\n",
    "FD_BED=${FD_WRK}/count_fragment/${SAMPLE}\n",
    "FN_BED=cnt_${CHROM}.bed\n",
    "FD_OUT=${FD_WRK}/annotation_fragment/${SAMPLE}\n",
    "FN_OUT=${CHROM}.bed.gz\n",
    "\n",
    "### RUN annotation\n",
    "mkdir -p ${FD_OUT}\n",
    "FP_BED_A=${FD_BED}/${FN_BED}\n",
    "FP_BED_B=${FD_ANN}/${FN_ANN}\n",
    "FP_BED_O=${FD_OUT}/${FN_OUT}\n",
    "\n",
    "head ${FP_BED_A}\n",
    "zcat ${FP_BED_B} | head"
   ]
  },
  {
   "cell_type": "code",
   "execution_count": 9,
   "metadata": {},
   "outputs": [
    {
     "name": "stdout",
     "output_type": "stream",
     "text": [
      "0 /work/kk319/out/CombEffect_STARR/count_fragment/Input1/\n",
      "0 /work/kk319/out/CombEffect_STARR/annotation_fragment/Input1\n",
      "/work/kk319/out/CombEffect_STARR/count_fragment/Input1//cnt_chr17.bed\n",
      "\n",
      "1 /work/kk319/out/CombEffect_STARR/count_fragment/Input2/\n",
      "1 /work/kk319/out/CombEffect_STARR/annotation_fragment/Input2\n",
      "/work/kk319/out/CombEffect_STARR/count_fragment/Input2//cnt_chr17.bed\n",
      "\n",
      "2 /work/kk319/out/CombEffect_STARR/count_fragment/Input3/\n",
      "2 /work/kk319/out/CombEffect_STARR/annotation_fragment/Input3\n",
      "/work/kk319/out/CombEffect_STARR/count_fragment/Input3//cnt_chr17.bed\n",
      "\n",
      "3 /work/kk319/out/CombEffect_STARR/count_fragment/Input4/\n",
      "3 /work/kk319/out/CombEffect_STARR/annotation_fragment/Input4\n",
      "/work/kk319/out/CombEffect_STARR/count_fragment/Input4//cnt_chr17.bed\n",
      "\n",
      "4 /work/kk319/out/CombEffect_STARR/count_fragment/Input5/\n",
      "4 /work/kk319/out/CombEffect_STARR/annotation_fragment/Input5\n",
      "/work/kk319/out/CombEffect_STARR/count_fragment/Input5//cnt_chr17.bed\n",
      "\n"
     ]
    }
   ],
   "source": [
    "%%bash\n",
    "source config.sh\n",
    "CHROM=chr17\n",
    "SAMPLE=Input?\n",
    "FN_BED=cnt_${CHROM}.bed\n",
    "\n",
    "FD_BEDS=($(ls -d ${FD_WRK}/count_fragment/${SAMPLE}/))\n",
    "\n",
    "for SLURM_ARRAY_TASK_ID in {0..4}; do\n",
    "    FD_BED=${FD_BEDS[${SLURM_ARRAY_TASK_ID}]}\n",
    "    FD_OUT=${FD_WRK}/annotation_fragment/$(basename -- $FD_BED)\n",
    "    \n",
    "    echo ${SLURM_ARRAY_TASK_ID} ${FD_BED}\n",
    "    echo ${SLURM_ARRAY_TASK_ID} ${FD_OUT}\n",
    "    ls ${FD_BED}/${FN_BED}\n",
    "    echo\n",
    "done"
   ]
  },
  {
   "cell_type": "markdown",
   "metadata": {},
   "source": [
    "**RUN: fragment annotation**"
   ]
  },
  {
   "cell_type": "code",
   "execution_count": 12,
   "metadata": {},
   "outputs": [
    {
     "name": "stdout",
     "output_type": "stream",
     "text": [
      "Bedtools 2.27.1\n",
      "Submitted batch job 11044919\n"
     ]
    }
   ],
   "source": [
    "%%bash\n",
    "### set environment on HARDAC\n",
    "#module load bedtools2\n",
    "#module load perl\n",
    "#module load gcc\n",
    "#source /data/reddylab/software/miniconda2/bin/activate alex_dev\n",
    "#export PATH=/data/reddylab/software/homer/bin/:$PATH\n",
    "\n",
    "### set environment on DCC\n",
    "module load Bedtools\n",
    "source config.sh\n",
    "FD_LOG=${FD_WRK}/log\n",
    "\n",
    "### run script using sbatch\n",
    "#sbatch -pnew,all \\\n",
    "sbatch -p scavenger \\\n",
    "    --array=0-4 \\\n",
    "    --mem 15G \\\n",
    "    -o ${FD_LOG}/annot_fragment_input.%a.txt \\\n",
    "    <<'EOF'\n",
    "#!/bin/bash\n",
    "### set directories & global variables\n",
    "source config.sh\n",
    "CHROM=chr17\n",
    "SAMPLE=Input?\n",
    "\n",
    "### init: set input and output file\n",
    "FD_ANN=${FD_BASE}/annotation/motif_cluster_jvierstra/hg38_archetype_motifs_v1\n",
    "FN_ANN=${CHROM}_rm_mouse.bed.gz\n",
    "\n",
    "FD_BEDS=($(ls -d ${FD_WRK}/count_fragment/${SAMPLE}/))\n",
    "FD_BED=${FD_BEDS[${SLURM_ARRAY_TASK_ID}]}\n",
    "FN_BED=cnt_${CHROM}.bed\n",
    "\n",
    "FD_OUT=${FD_WRK}/annotation_fragment/$(basename -- $FD_BED)\n",
    "FN_OUT=${CHROM}.bed.gz\n",
    "\n",
    "### init: set input and output file path\n",
    "mkdir -p ${FD_OUT}\n",
    "FP_BED_A=${FD_BED}/${FN_BED}\n",
    "FP_BED_B=${FD_ANN}/${FN_ANN}\n",
    "FP_BED_O=${FD_OUT}/${FN_OUT}\n",
    "\n",
    "### print end message\n",
    "echo \"Slurm Array Index: \" ${SLURM_ARRAY_TASK_ID}\n",
    "echo \"Input  file: \" ${FP_BED_A}\n",
    "echo \"Input  file: \" ${FP_BED_B}\n",
    "echo \"Output file: \" ${FP_BED_O}\n",
    "echo\n",
    "echo \"Show the first few lines of the input file\"\n",
    "echo ${FP_BED_A}\n",
    "head ${FP_BED_A}\n",
    "echo\n",
    "echo ${FP_BED_B}\n",
    "zcat ${FP_BED_B} | head\n",
    "\n",
    "### RUN: annotation by intersecting two bed files\n",
    "bedtools intersect -a ${FP_BED_A} -b ${FP_BED_B} -wo | gzip -cf > ${FP_BED_O}\n",
    "\n",
    "### print end message\n",
    "echo\n",
    "echo \"Show the first few lines of the output file\"\n",
    "echo ${FP_BED_O}\n",
    "zcat ${FP_BED_O} | head\n",
    "\n",
    "EOF"
   ]
  },
  {
   "cell_type": "markdown",
   "metadata": {},
   "source": [
    "**CHECK: log file**"
   ]
  },
  {
   "cell_type": "code",
   "execution_count": 11,
   "metadata": {},
   "outputs": [
    {
     "name": "stdout",
     "output_type": "stream",
     "text": [
      "Slurm Array Index:  0\n",
      "Input  file:  /work/kk319/out/CombEffect_STARR/count_fragment/Input1//cnt_chr17.bed\n",
      "Input  file:  /work/kk319/annotation/motif_cluster_jvierstra/hg38_archetype_motifs_v1/chr17_rm_mouse.bed.gz\n",
      "Output file:  /work/kk319/out/CombEffect_STARR/annotation_fragment/Input1/chr17.bed.gz\n",
      "\n",
      "Show the first few lines of the input file\n",
      "/work/kk319/out/CombEffect_STARR/count_fragment/Input1//cnt_chr17.bed\n",
      "chr17\t10000160\t10001059\t1\n",
      "chr17\t10000167\t10001087\t1\n",
      "chr17\t10000256\t10001171\t1\n",
      "chr17\t10000405\t10001490\t1\n",
      "chr17\t10000434\t10001419\t1\n",
      "chr17\t10000489\t10001383\t1\n",
      "chr17\t10000518\t10001596\t1\n",
      "chr17\t10000531\t10001494\t1\n",
      "chr17\t10000612\t10001545\t1\n",
      "chr17\t10000660\t10001626\t1\n",
      "\n",
      "/work/kk319/annotation/motif_cluster_jvierstra/hg38_archetype_motifs_v1/chr17_rm_mouse.bed.gz\n",
      "chr17\t60004\t60022\tZNF140\t5.6897\t+\tZN140_HUMAN.H11MO.0.C\t1\n",
      "chr17\t60004\t60022\tZNF667\t8.0240\t-\tZN667_HUMAN.H11MO.0.C\t1\n",
      "chr17\t60006\t60015\tEbox/CAGCTG\t7.9275\t+\tMYOD1_HUMAN.H11MO.0.A\t1\n",
      "chr17\t60011\t60031\tGC-tract\t12.1220\t-\tZN341_HUMAN.H11MO.0.C\t1\n",
      "chr17\t60012\t60025\tPRDM4\t1.3083\t+\tPRDM4_C2H2_1\t1\n",
      "chr17\t60017\t60028\tNR/19\t9.6680\t-\tNR1D1_HUMAN.H11MO.0.B\t2\n",
      "chr17\t60019\t60035\tHEN1\t5.5854\t-\tHEN1_HUMAN.H11MO.0.C\t2\n",
      "chr17\t60023\t60042\tZNF680\t6.3901\t-\tZN680_HUMAN.H11MO.0.C\t1\n",
      "chr17\t60027\t60037\tSMARCA1\t7.5566\t-\tSMCA1_HUMAN.H11MO.0.C\t1\n",
      "chr17\t60027\t60040\tLEF1\t7.1402\t+\tZN350_HUMAN.H11MO.0.C\t1\n"
     ]
    }
   ],
   "source": [
    "%%bash\n",
    "source config.sh\n",
    "FD_LOG=${FD_WRK}/log\n",
    "cat ${FD_LOG}/annot_fragment_input.0.txt"
   ]
  },
  {
   "cell_type": "markdown",
   "metadata": {},
   "source": [
    "## Annotate Output (DMSO)"
   ]
  },
  {
   "cell_type": "markdown",
   "metadata": {},
   "source": [
    "**Test code**"
   ]
  },
  {
   "cell_type": "code",
   "execution_count": 25,
   "metadata": {},
   "outputs": [
    {
     "name": "stdout",
     "output_type": "stream",
     "text": [
      "/work/kk319/out/CombEffect_STARR/count_fragment/TFX_DMSO/cnt_chr17.bed\n",
      "chr17\t10000013\t10001044\t1\n",
      "chr17\t10000013\t10001045\t1\n",
      "chr17\t10000026\t10001091\t1\n",
      "chr17\t10000120\t10001029\t1\n",
      "chr17\t10000120\t10001031\t1\n",
      "chr17\t10000120\t10001032\t1\n",
      "chr17\t10000120\t10001033\t2\n",
      "chr17\t10000122\t10001032\t1\n",
      "chr17\t10000122\t10001033\t1\n",
      "chr17\t10000160\t10001055\t1\n",
      "\n",
      "/work/kk319/annotation/motif_cluster_jvierstra/hg38_archetype_motifs_v1/chr17_rm_mouse.bed.gz\n",
      "chr17\t60004\t60022\tZNF140\t5.6897\t+\tZN140_HUMAN.H11MO.0.C\t1\n",
      "chr17\t60004\t60022\tZNF667\t8.0240\t-\tZN667_HUMAN.H11MO.0.C\t1\n",
      "chr17\t60006\t60015\tEbox/CAGCTG\t7.9275\t+\tMYOD1_HUMAN.H11MO.0.A\t1\n",
      "chr17\t60011\t60031\tGC-tract\t12.1220\t-\tZN341_HUMAN.H11MO.0.C\t1\n",
      "chr17\t60012\t60025\tPRDM4\t1.3083\t+\tPRDM4_C2H2_1\t1\n",
      "chr17\t60017\t60028\tNR/19\t9.6680\t-\tNR1D1_HUMAN.H11MO.0.B\t2\n",
      "chr17\t60019\t60035\tHEN1\t5.5854\t-\tHEN1_HUMAN.H11MO.0.C\t2\n",
      "chr17\t60023\t60042\tZNF680\t6.3901\t-\tZN680_HUMAN.H11MO.0.C\t1\n",
      "chr17\t60027\t60037\tSMARCA1\t7.5566\t-\tSMCA1_HUMAN.H11MO.0.C\t1\n",
      "chr17\t60027\t60040\tLEF1\t7.1402\t+\tZN350_HUMAN.H11MO.0.C\t1\n"
     ]
    }
   ],
   "source": [
    "%%bash\n",
    "source config.sh\n",
    "CHROM=chr17\n",
    "SAMPLE=TFX_DMSO\n",
    "\n",
    "### set input and output file\n",
    "FD_ANN=${FD_BASE}/annotation/motif_cluster_jvierstra/hg38_archetype_motifs_v1\n",
    "FN_ANN=${CHROM}_rm_mouse.bed.gz\n",
    "FD_BED=${FD_WRK}/count_fragment/${SAMPLE}\n",
    "FN_BED=cnt_${CHROM}.bed\n",
    "FD_OUT=${FD_WRK}/annotation_fragment/${SAMPLE}\n",
    "FN_OUT=${CHROM}.bed.gz\n",
    "\n",
    "### RUN annotation\n",
    "mkdir -p ${FD_OUT}\n",
    "FP_BED_A=${FD_BED}/${FN_BED}\n",
    "FP_BED_B=${FD_ANN}/${FN_ANN}\n",
    "FP_BED_O=${FD_OUT}/${FN_OUT}\n",
    "\n",
    "echo ${FP_BED_A}\n",
    "head ${FP_BED_A}\n",
    "echo\n",
    "echo ${FP_BED_B}\n",
    "zcat ${FP_BED_B} | head"
   ]
  },
  {
   "cell_type": "code",
   "execution_count": 13,
   "metadata": {},
   "outputs": [
    {
     "name": "stdout",
     "output_type": "stream",
     "text": [
      "0 /work/kk319/out/CombEffect_STARR/count_fragment/TFX2_DMSO/\n",
      "0 /work/kk319/out/CombEffect_STARR/annotation_fragment/TFX2_DMSO\n",
      "/work/kk319/out/CombEffect_STARR/count_fragment/TFX2_DMSO//cnt_chr17.bed\n",
      "\n",
      "1 /work/kk319/out/CombEffect_STARR/count_fragment/TFX3_DMSO/\n",
      "1 /work/kk319/out/CombEffect_STARR/annotation_fragment/TFX3_DMSO\n",
      "/work/kk319/out/CombEffect_STARR/count_fragment/TFX3_DMSO//cnt_chr17.bed\n",
      "\n",
      "2 /work/kk319/out/CombEffect_STARR/count_fragment/TFX4_DMSO/\n",
      "2 /work/kk319/out/CombEffect_STARR/annotation_fragment/TFX4_DMSO\n",
      "/work/kk319/out/CombEffect_STARR/count_fragment/TFX4_DMSO//cnt_chr17.bed\n",
      "\n",
      "3 /work/kk319/out/CombEffect_STARR/count_fragment/TFX5_DMSO/\n",
      "3 /work/kk319/out/CombEffect_STARR/annotation_fragment/TFX5_DMSO\n",
      "/work/kk319/out/CombEffect_STARR/count_fragment/TFX5_DMSO//cnt_chr17.bed\n",
      "\n"
     ]
    }
   ],
   "source": [
    "%%bash\n",
    "source config.sh\n",
    "CHROM=chr17\n",
    "SAMPLE=TFX?_DMSO\n",
    "FN_BED=cnt_${CHROM}.bed\n",
    "\n",
    "FD_BEDS=($(ls -d ${FD_WRK}/count_fragment/${SAMPLE}/))\n",
    "\n",
    "for SLURM_ARRAY_TASK_ID in {0..3}; do\n",
    "    FD_BED=${FD_BEDS[${SLURM_ARRAY_TASK_ID}]}\n",
    "    FD_OUT=${FD_WRK}/annotation_fragment/$(basename -- $FD_BED)\n",
    "    \n",
    "    echo ${SLURM_ARRAY_TASK_ID} ${FD_BED}\n",
    "    echo ${SLURM_ARRAY_TASK_ID} ${FD_OUT}\n",
    "    ls ${FD_BED}/${FN_BED}\n",
    "    echo\n",
    "done"
   ]
  },
  {
   "cell_type": "markdown",
   "metadata": {},
   "source": [
    "**RUN: fragment annotation**"
   ]
  },
  {
   "cell_type": "code",
   "execution_count": 17,
   "metadata": {},
   "outputs": [
    {
     "name": "stdout",
     "output_type": "stream",
     "text": [
      "Bedtools 2.27.1\n",
      "Submitted batch job 11045802\n"
     ]
    }
   ],
   "source": [
    "%%bash\n",
    "### set environment on HARDAC\n",
    "#module load bedtools2\n",
    "#module load perl\n",
    "#module load gcc\n",
    "#source /data/reddylab/software/miniconda2/bin/activate alex_dev\n",
    "#export PATH=/data/reddylab/software/homer/bin/:$PATH\n",
    "\n",
    "### set environment on DCC\n",
    "module load Bedtools\n",
    "source config.sh\n",
    "FD_LOG=${FD_WRK}/log\n",
    "\n",
    "### run script using sbatch\n",
    "#sbatch -pnew,all \\\n",
    "sbatch -p scavenger \\\n",
    "    --array=0-3 \\\n",
    "    --mem 15G \\\n",
    "    -o ${FD_LOG}/annot_fragment_output_dmso.%a.txt \\\n",
    "    <<'EOF'\n",
    "#!/bin/bash\n",
    "### set directories & global variables\n",
    "source config.sh\n",
    "CHROM=chr17\n",
    "SAMPLE=TFX?_DMSO\n",
    "\n",
    "### init: set input and output file\n",
    "FD_ANN=${FD_BASE}/annotation/motif_cluster_jvierstra/hg38_archetype_motifs_v1\n",
    "FN_ANN=${CHROM}_rm_mouse.bed.gz\n",
    "\n",
    "FD_BEDS=($(ls -d ${FD_WRK}/count_fragment/${SAMPLE}/))\n",
    "FD_BED=${FD_BEDS[${SLURM_ARRAY_TASK_ID}]}\n",
    "FN_BED=cnt_${CHROM}.bed\n",
    "\n",
    "FD_OUT=${FD_WRK}/annotation_fragment/$(basename -- $FD_BED)\n",
    "FN_OUT=${CHROM}.bed.gz\n",
    "\n",
    "### init: set input and output file path\n",
    "mkdir -p ${FD_OUT}\n",
    "FP_BED_A=${FD_BED}/${FN_BED}\n",
    "FP_BED_B=${FD_ANN}/${FN_ANN}\n",
    "FP_BED_O=${FD_OUT}/${FN_OUT}\n",
    "\n",
    "### print end message\n",
    "echo \"Slurm Array Index: \" ${SLURM_ARRAY_TASK_ID}\n",
    "echo \"Input  file: \" ${FP_BED_A}\n",
    "echo \"Input  file: \" ${FP_BED_B}\n",
    "echo \"Output file: \" ${FP_BED_O}\n",
    "echo\n",
    "echo \"Show the first few lines of the input file\"\n",
    "echo ${FP_BED_A}\n",
    "head ${FP_BED_A}\n",
    "echo\n",
    "echo ${FP_BED_B}\n",
    "zcat ${FP_BED_B} | head\n",
    "\n",
    "### RUN: annotation by intersecting two bed files\n",
    "bedtools intersect -a ${FP_BED_A} -b ${FP_BED_B} -wo | gzip -cf > ${FP_BED_O}\n",
    "\n",
    "### print end message\n",
    "echo\n",
    "echo \"Show the first few lines of the output file\"\n",
    "echo ${FP_BED_O}\n",
    "zcat ${FP_BED_O} | head\n",
    "\n",
    "EOF"
   ]
  },
  {
   "cell_type": "markdown",
   "metadata": {},
   "source": [
    "**CHECK: log file**"
   ]
  },
  {
   "cell_type": "code",
   "execution_count": 16,
   "metadata": {},
   "outputs": [
    {
     "name": "stdout",
     "output_type": "stream",
     "text": [
      "Slurm Array Index:  3\n",
      "Input  file:  /work/kk319/out/CombEffect_STARR/count_fragment/TFX5_DMSO//cnt_chr17.bed\n",
      "Input  file:  /work/kk319/annotation/motif_cluster_jvierstra/hg38_archetype_motifs_v1/chr17_rm_mouse.bed.gz\n",
      "Output file:  /work/kk319/out/CombEffect_STARR/annotation_fragment/TFX5_DMSO/chr17.bed.gz\n",
      "\n",
      "Show the first few lines of the input file\n",
      "/work/kk319/out/CombEffect_STARR/count_fragment/TFX5_DMSO//cnt_chr17.bed\n",
      "chr17\t10000120\t10001029\t1\n",
      "chr17\t10000120\t10001031\t1\n",
      "chr17\t10000120\t10001032\t1\n",
      "chr17\t10000120\t10001033\t2\n",
      "chr17\t10000122\t10001032\t1\n",
      "chr17\t10000122\t10001033\t1\n",
      "chr17\t10000181\t10001205\t1\n",
      "chr17\t10000181\t10001208\t1\n",
      "chr17\t10000181\t10001209\t1\n",
      "chr17\t10000181\t10001210\t2\n",
      "\n",
      "/work/kk319/annotation/motif_cluster_jvierstra/hg38_archetype_motifs_v1/chr17_rm_mouse.bed.gz\n",
      "chr17\t60004\t60022\tZNF140\t5.6897\t+\tZN140_HUMAN.H11MO.0.C\t1\n",
      "chr17\t60004\t60022\tZNF667\t8.0240\t-\tZN667_HUMAN.H11MO.0.C\t1\n",
      "chr17\t60006\t60015\tEbox/CAGCTG\t7.9275\t+\tMYOD1_HUMAN.H11MO.0.A\t1\n",
      "chr17\t60011\t60031\tGC-tract\t12.1220\t-\tZN341_HUMAN.H11MO.0.C\t1\n",
      "chr17\t60012\t60025\tPRDM4\t1.3083\t+\tPRDM4_C2H2_1\t1\n",
      "chr17\t60017\t60028\tNR/19\t9.6680\t-\tNR1D1_HUMAN.H11MO.0.B\t2\n",
      "chr17\t60019\t60035\tHEN1\t5.5854\t-\tHEN1_HUMAN.H11MO.0.C\t2\n",
      "chr17\t60023\t60042\tZNF680\t6.3901\t-\tZN680_HUMAN.H11MO.0.C\t1\n",
      "chr17\t60027\t60037\tSMARCA1\t7.5566\t-\tSMCA1_HUMAN.H11MO.0.C\t1\n",
      "chr17\t60027\t60040\tLEF1\t7.1402\t+\tZN350_HUMAN.H11MO.0.C\t1\n"
     ]
    }
   ],
   "source": [
    "%%bash\n",
    "source config.sh\n",
    "FD_LOG=${FD_WRK}/log\n",
    "cat ${FD_LOG}/annot_fragment_output_dmso.3.txt"
   ]
  },
  {
   "cell_type": "markdown",
   "metadata": {},
   "source": [
    "## Annotate Output (Dex)"
   ]
  },
  {
   "cell_type": "markdown",
   "metadata": {},
   "source": [
    "**Test code**"
   ]
  },
  {
   "cell_type": "code",
   "execution_count": 27,
   "metadata": {},
   "outputs": [
    {
     "name": "stdout",
     "output_type": "stream",
     "text": [
      "/work/kk319/out/CombEffect_STARR/count_fragment/TFX_Dex/cnt_chr17.bed\n",
      "chr17\t10000013\t10001044\t1\n",
      "chr17\t10000013\t10001045\t2\n",
      "chr17\t10000014\t10001044\t1\n",
      "chr17\t10000014\t10001045\t1\n",
      "chr17\t10000026\t10001090\t1\n",
      "chr17\t10000090\t10001098\t1\n",
      "chr17\t10000091\t10001100\t1\n",
      "chr17\t10000103\t10001181\t1\n",
      "chr17\t10000140\t10001107\t1\n",
      "chr17\t10000140\t10001110\t1\n",
      "\n",
      "/work/kk319/annotation/motif_cluster_jvierstra/hg38_archetype_motifs_v1/chr17_rm_mouse.bed.gz\n",
      "chr17\t60004\t60022\tZNF140\t5.6897\t+\tZN140_HUMAN.H11MO.0.C\t1\n",
      "chr17\t60004\t60022\tZNF667\t8.0240\t-\tZN667_HUMAN.H11MO.0.C\t1\n",
      "chr17\t60006\t60015\tEbox/CAGCTG\t7.9275\t+\tMYOD1_HUMAN.H11MO.0.A\t1\n",
      "chr17\t60011\t60031\tGC-tract\t12.1220\t-\tZN341_HUMAN.H11MO.0.C\t1\n",
      "chr17\t60012\t60025\tPRDM4\t1.3083\t+\tPRDM4_C2H2_1\t1\n",
      "chr17\t60017\t60028\tNR/19\t9.6680\t-\tNR1D1_HUMAN.H11MO.0.B\t2\n",
      "chr17\t60019\t60035\tHEN1\t5.5854\t-\tHEN1_HUMAN.H11MO.0.C\t2\n",
      "chr17\t60023\t60042\tZNF680\t6.3901\t-\tZN680_HUMAN.H11MO.0.C\t1\n",
      "chr17\t60027\t60037\tSMARCA1\t7.5566\t-\tSMCA1_HUMAN.H11MO.0.C\t1\n",
      "chr17\t60027\t60040\tLEF1\t7.1402\t+\tZN350_HUMAN.H11MO.0.C\t1\n"
     ]
    }
   ],
   "source": [
    "%%bash\n",
    "source config.sh\n",
    "CHROM=chr17\n",
    "SAMPLE=TFX_Dex\n",
    "\n",
    "### set input and output file\n",
    "FD_ANN=${FD_BASE}/annotation/motif_cluster_jvierstra/hg38_archetype_motifs_v1\n",
    "FN_ANN=${CHROM}_rm_mouse.bed.gz\n",
    "FD_BED=${FD_WRK}/count_fragment/${SAMPLE}\n",
    "FN_BED=cnt_${CHROM}.bed\n",
    "FD_OUT=${FD_WRK}/annotation_fragment/${SAMPLE}\n",
    "FN_OUT=${CHROM}.bed.gz\n",
    "\n",
    "### RUN annotation\n",
    "mkdir -p ${FD_OUT}\n",
    "FP_BED_A=${FD_BED}/${FN_BED}\n",
    "FP_BED_B=${FD_ANN}/${FN_ANN}\n",
    "FP_BED_O=${FD_OUT}/${FN_OUT}\n",
    "\n",
    "echo ${FP_BED_A}\n",
    "head ${FP_BED_A}\n",
    "echo\n",
    "echo ${FP_BED_B}\n",
    "zcat ${FP_BED_B} | head"
   ]
  },
  {
   "cell_type": "code",
   "execution_count": 18,
   "metadata": {},
   "outputs": [
    {
     "name": "stdout",
     "output_type": "stream",
     "text": [
      "0 /work/kk319/out/CombEffect_STARR/count_fragment/TFX2_Dex/\n",
      "0 /work/kk319/out/CombEffect_STARR/annotation_fragment/TFX2_Dex\n",
      "/work/kk319/out/CombEffect_STARR/count_fragment/TFX2_Dex//cnt_chr17.bed\n",
      "\n",
      "1 /work/kk319/out/CombEffect_STARR/count_fragment/TFX3_Dex/\n",
      "1 /work/kk319/out/CombEffect_STARR/annotation_fragment/TFX3_Dex\n",
      "/work/kk319/out/CombEffect_STARR/count_fragment/TFX3_Dex//cnt_chr17.bed\n",
      "\n",
      "2 /work/kk319/out/CombEffect_STARR/count_fragment/TFX4_Dex/\n",
      "2 /work/kk319/out/CombEffect_STARR/annotation_fragment/TFX4_Dex\n",
      "/work/kk319/out/CombEffect_STARR/count_fragment/TFX4_Dex//cnt_chr17.bed\n",
      "\n",
      "3 /work/kk319/out/CombEffect_STARR/count_fragment/TFX5_Dex/\n",
      "3 /work/kk319/out/CombEffect_STARR/annotation_fragment/TFX5_Dex\n",
      "/work/kk319/out/CombEffect_STARR/count_fragment/TFX5_Dex//cnt_chr17.bed\n",
      "\n"
     ]
    }
   ],
   "source": [
    "%%bash\n",
    "source config.sh\n",
    "CHROM=chr17\n",
    "SAMPLE=TFX?_Dex\n",
    "FN_BED=cnt_${CHROM}.bed\n",
    "\n",
    "FD_BEDS=($(ls -d ${FD_WRK}/count_fragment/${SAMPLE}/))\n",
    "\n",
    "for SLURM_ARRAY_TASK_ID in {0..3}; do\n",
    "    FD_BED=${FD_BEDS[${SLURM_ARRAY_TASK_ID}]}\n",
    "    FD_OUT=${FD_WRK}/annotation_fragment/$(basename -- $FD_BED)\n",
    "    \n",
    "    echo ${SLURM_ARRAY_TASK_ID} ${FD_BED}\n",
    "    echo ${SLURM_ARRAY_TASK_ID} ${FD_OUT}\n",
    "    ls ${FD_BED}/${FN_BED}\n",
    "    echo\n",
    "done"
   ]
  },
  {
   "cell_type": "markdown",
   "metadata": {},
   "source": [
    "**RUN: fragment annotation**"
   ]
  },
  {
   "cell_type": "code",
   "execution_count": 24,
   "metadata": {},
   "outputs": [
    {
     "name": "stdout",
     "output_type": "stream",
     "text": [
      "Bedtools 2.27.1\n",
      "Submitted batch job 11045854\n"
     ]
    }
   ],
   "source": [
    "%%bash\n",
    "### set environment on HARDAC\n",
    "#module load bedtools2\n",
    "#module load perl\n",
    "#module load gcc\n",
    "#source /data/reddylab/software/miniconda2/bin/activate alex_dev\n",
    "#export PATH=/data/reddylab/software/homer/bin/:$PATH\n",
    "\n",
    "### set environment on DCC\n",
    "module load Bedtools\n",
    "source config.sh\n",
    "FD_LOG=${FD_WRK}/log\n",
    "\n",
    "### run script using sbatch\n",
    "#sbatch -pnew,all \\\n",
    "sbatch -p scavenger \\\n",
    "    --array=0-3 \\\n",
    "    --mem 15G \\\n",
    "    -o ${FD_LOG}/annot_fragment_output_dex.%a.txt \\\n",
    "    <<'EOF'\n",
    "#!/bin/bash\n",
    "### set directories & global variables\n",
    "source config.sh\n",
    "CHROM=chr17\n",
    "SAMPLE=TFX?_Dex\n",
    "\n",
    "### init: set input and output file\n",
    "FD_ANN=${FD_BASE}/annotation/motif_cluster_jvierstra/hg38_archetype_motifs_v1\n",
    "FN_ANN=${CHROM}_rm_mouse.bed.gz\n",
    "\n",
    "FD_BEDS=($(ls -d ${FD_WRK}/count_fragment/${SAMPLE}/))\n",
    "FD_BED=${FD_BEDS[${SLURM_ARRAY_TASK_ID}]}\n",
    "FN_BED=cnt_${CHROM}.bed\n",
    "\n",
    "FD_OUT=${FD_WRK}/annotation_fragment/$(basename -- $FD_BED)\n",
    "FN_OUT=${CHROM}.bed.gz\n",
    "\n",
    "### init: set input and output file path\n",
    "mkdir -p ${FD_OUT}\n",
    "FP_BED_A=${FD_BED}/${FN_BED}\n",
    "FP_BED_B=${FD_ANN}/${FN_ANN}\n",
    "FP_BED_O=${FD_OUT}/${FN_OUT}\n",
    "\n",
    "### print end message\n",
    "echo \"Slurm Array Index: \" ${SLURM_ARRAY_TASK_ID}\n",
    "echo \"Input  file: \" ${FP_BED_A}\n",
    "echo \"Input  file: \" ${FP_BED_B}\n",
    "echo \"Output file: \" ${FP_BED_O}\n",
    "echo\n",
    "echo \"Show the first few lines of the input file\"\n",
    "echo ${FP_BED_A}\n",
    "head ${FP_BED_A}\n",
    "echo\n",
    "echo ${FP_BED_B}\n",
    "zcat ${FP_BED_B} | head\n",
    "\n",
    "### RUN: annotation by intersecting two bed files\n",
    "bedtools intersect -a ${FP_BED_A} -b ${FP_BED_B} -wo | gzip -cf > ${FP_BED_O}\n",
    "\n",
    "### print end message\n",
    "echo\n",
    "echo \"Show the first few lines of the output file\"\n",
    "echo ${FP_BED_O}\n",
    "zcat ${FP_BED_O} | head\n",
    "\n",
    "EOF"
   ]
  },
  {
   "cell_type": "markdown",
   "metadata": {},
   "source": [
    "**CHECK: log file**"
   ]
  },
  {
   "cell_type": "code",
   "execution_count": 25,
   "metadata": {},
   "outputs": [
    {
     "name": "stdout",
     "output_type": "stream",
     "text": [
      "Slurm Array Index:  3\n",
      "Input  file:  /work/kk319/out/CombEffect_STARR/count_fragment/TFX5_Dex//cnt_chr17.bed\n",
      "Input  file:  /work/kk319/annotation/motif_cluster_jvierstra/hg38_archetype_motifs_v1/chr17_rm_mouse.bed.gz\n",
      "Output file:  /work/kk319/out/CombEffect_STARR/annotation_fragment/TFX5_Dex/chr17.bed.gz\n",
      "\n",
      "Show the first few lines of the input file\n",
      "/work/kk319/out/CombEffect_STARR/count_fragment/TFX5_Dex//cnt_chr17.bed\n",
      "chr17\t10000013\t10001045\t1\n",
      "chr17\t10000026\t10001090\t1\n",
      "chr17\t10000103\t10001181\t1\n",
      "chr17\t10000140\t10001107\t1\n",
      "chr17\t10000140\t10001110\t1\n",
      "chr17\t10000238\t10001166\t1\n",
      "chr17\t10000238\t10001167\t1\n",
      "chr17\t10000239\t10001167\t1\n",
      "chr17\t10000277\t10001275\t1\n",
      "chr17\t10000277\t10001278\t1\n",
      "\n",
      "/work/kk319/annotation/motif_cluster_jvierstra/hg38_archetype_motifs_v1/chr17_rm_mouse.bed.gz\n",
      "chr17\t60004\t60022\tZNF140\t5.6897\t+\tZN140_HUMAN.H11MO.0.C\t1\n",
      "chr17\t60004\t60022\tZNF667\t8.0240\t-\tZN667_HUMAN.H11MO.0.C\t1\n",
      "chr17\t60006\t60015\tEbox/CAGCTG\t7.9275\t+\tMYOD1_HUMAN.H11MO.0.A\t1\n",
      "chr17\t60011\t60031\tGC-tract\t12.1220\t-\tZN341_HUMAN.H11MO.0.C\t1\n",
      "chr17\t60012\t60025\tPRDM4\t1.3083\t+\tPRDM4_C2H2_1\t1\n",
      "chr17\t60017\t60028\tNR/19\t9.6680\t-\tNR1D1_HUMAN.H11MO.0.B\t2\n",
      "chr17\t60019\t60035\tHEN1\t5.5854\t-\tHEN1_HUMAN.H11MO.0.C\t2\n",
      "chr17\t60023\t60042\tZNF680\t6.3901\t-\tZN680_HUMAN.H11MO.0.C\t1\n",
      "chr17\t60027\t60037\tSMARCA1\t7.5566\t-\tSMCA1_HUMAN.H11MO.0.C\t1\n",
      "chr17\t60027\t60040\tLEF1\t7.1402\t+\tZN350_HUMAN.H11MO.0.C\t1\n"
     ]
    }
   ],
   "source": [
    "%%bash\n",
    "source config.sh\n",
    "FD_LOG=${FD_WRK}/log\n",
    "cat ${FD_LOG}/annot_fragment_output_dex.3.txt"
   ]
  },
  {
   "cell_type": "code",
   "execution_count": null,
   "metadata": {},
   "outputs": [],
   "source": []
  },
  {
   "cell_type": "code",
   "execution_count": null,
   "metadata": {},
   "outputs": [],
   "source": []
  },
  {
   "cell_type": "code",
   "execution_count": null,
   "metadata": {},
   "outputs": [],
   "source": []
  },
  {
   "cell_type": "code",
   "execution_count": null,
   "metadata": {},
   "outputs": [],
   "source": []
  },
  {
   "cell_type": "code",
   "execution_count": null,
   "metadata": {},
   "outputs": [],
   "source": []
  },
  {
   "cell_type": "code",
   "execution_count": null,
   "metadata": {},
   "outputs": [],
   "source": []
  },
  {
   "cell_type": "code",
   "execution_count": null,
   "metadata": {},
   "outputs": [],
   "source": []
  },
  {
   "cell_type": "code",
   "execution_count": null,
   "metadata": {},
   "outputs": [],
   "source": []
  },
  {
   "cell_type": "code",
   "execution_count": 1,
   "metadata": {},
   "outputs": [
    {
     "name": "stdout",
     "output_type": "stream",
     "text": [
      "chr17\t8148989\t8149875\t1\n",
      "chr17\t8148991\t8149950\t1\n",
      "chr17\t8148991\t8149951\t2\n",
      "chr17\t8148992\t8149951\t1\n",
      "chr17\t8148999\t8149919\t1\n",
      "chr17\t8149006\t8149923\t1\n",
      "chr17\t8149008\t8150003\t1\n",
      "chr17\t8149008\t8150057\t1\n",
      "chr17\t8149012\t8150052\t1\n",
      "chr17\t8149022\t8149951\t1\n",
      "chr1\t10022\t10338\n",
      "chr1\t180626\t181057\n",
      "chr1\t629777\t630092\n",
      "chr1\t818870\t819186\n",
      "chr1\t905200\t905664\n",
      "chr1\t906700\t907241\n",
      "chr1\t916591\t917225\n",
      "chr1\t917373\t917730\n",
      "chr1\t933094\t933441\n",
      "chr1\t940241\t940578\n"
     ]
    }
   ],
   "source": [
    "%%bash\n",
    "###\n",
    "FD_ANN=/data/reddylab/Kuei/out/annotation\n",
    "FD_WRK=/data/reddylab/Kuei/out/CombEffect_STARR\n",
    "FD_DAT=($(ls -d ${FD_WRK}/data/Input/))\n",
    "CHROM=chr17\n",
    "ANNOT=GCR\n",
    "\n",
    "###\n",
    "FN_DAT=cnt_${CHROM}.bed\n",
    "FN_OUT=ann_${CHROM}_${ANNOT}.bed\n",
    "\n",
    "FP_BED_A=${FD_DAT}/${FN_DAT}\n",
    "FP_BED_B=${FD_ANN}/cistrome/hg38_cistrome/${ANNOT}_HUMAN.A.bed\n",
    "FP_BED_O=${FD_DAT}/${FN_OUT}\n",
    "\n",
    "head ${FP_BED_A}\n",
    "head ${FP_BED_B}"
   ]
  },
  {
   "cell_type": "code",
   "execution_count": 2,
   "metadata": {},
   "outputs": [
    {
     "name": "stdout",
     "output_type": "stream",
     "text": [
      "/data/reddylab/Kuei/out/annotation/cistrome/hg38_cistrome/GCR_HUMAN.A.bed\n",
      "/data/reddylab/Kuei/out/annotation/cistrome/hg38_cistrome/GCR_HUMAN.B.bed\n",
      "/data/reddylab/Kuei/out/annotation/cistrome/hg38_cistrome/GCR_HUMAN.C.bed\n",
      "/data/reddylab/Kuei/out/annotation/cistrome/hg38_cistrome/GCR_HUMAN.D.bed\n"
     ]
    }
   ],
   "source": [
    "%%bash\n",
    "###\n",
    "FD_ANN=/data/reddylab/Kuei/out/annotation\n",
    "FD_WRK=/data/reddylab/Kuei/out/CombEffect_STARR\n",
    "FD_DAT=($(ls -d ${FD_WRK}/data/Input/))\n",
    "CHROM=chr17\n",
    "ANNOT=GCR\n",
    "\n",
    "ls ${FD_ANN}/cistrome/hg38_cistrome/${ANNOT}*"
   ]
  },
  {
   "cell_type": "code",
   "execution_count": 3,
   "metadata": {},
   "outputs": [
    {
     "name": "stdout",
     "output_type": "stream",
     "text": [
      "/data/reddylab/Kuei/out/annotation/cistrome/hg38_cistrome/JUNB_HUMAN.B.bed\n",
      "/data/reddylab/Kuei/out/annotation/cistrome/hg38_cistrome/JUNB_HUMAN.C.bed\n",
      "/data/reddylab/Kuei/out/annotation/cistrome/hg38_cistrome/JUND_HUMAN.A.bed\n",
      "/data/reddylab/Kuei/out/annotation/cistrome/hg38_cistrome/JUND_HUMAN.B.bed\n",
      "/data/reddylab/Kuei/out/annotation/cistrome/hg38_cistrome/JUND_HUMAN.C.bed\n",
      "/data/reddylab/Kuei/out/annotation/cistrome/hg38_cistrome/JUND_HUMAN.D.bed\n",
      "/data/reddylab/Kuei/out/annotation/cistrome/hg38_cistrome/JUN_HUMAN.A.bed\n",
      "/data/reddylab/Kuei/out/annotation/cistrome/hg38_cistrome/JUN_HUMAN.B.bed\n",
      "/data/reddylab/Kuei/out/annotation/cistrome/hg38_cistrome/JUN_HUMAN.C.bed\n",
      "/data/reddylab/Kuei/out/annotation/cistrome/hg38_cistrome/JUN_HUMAN.D.bed\n"
     ]
    }
   ],
   "source": [
    "%%bash\n",
    "###\n",
    "FD_ANN=/data/reddylab/Kuei/out/annotation\n",
    "FD_WRK=/data/reddylab/Kuei/out/CombEffect_STARR\n",
    "FD_DAT=($(ls -d ${FD_WRK}/data/Input/))\n",
    "CHROM=chr17\n",
    "ANNOT=JUN\n",
    "\n",
    "ls ${FD_ANN}/cistrome/hg38_cistrome/${ANNOT}*"
   ]
  },
  {
   "cell_type": "code",
   "execution_count": 4,
   "metadata": {},
   "outputs": [
    {
     "name": "stdout",
     "output_type": "stream",
     "text": [
      "/data/reddylab/Kuei/out/annotation/cistrome/hg38_cistrome/FOSB_HUMAN.C.bed\n",
      "/data/reddylab/Kuei/out/annotation/cistrome/hg38_cistrome/FOS_HUMAN.A.bed\n",
      "/data/reddylab/Kuei/out/annotation/cistrome/hg38_cistrome/FOS_HUMAN.B.bed\n",
      "/data/reddylab/Kuei/out/annotation/cistrome/hg38_cistrome/FOS_HUMAN.C.bed\n",
      "/data/reddylab/Kuei/out/annotation/cistrome/hg38_cistrome/FOS_HUMAN.D.bed\n",
      "/data/reddylab/Kuei/out/annotation/cistrome/hg38_cistrome/FOSL1_HUMAN.B.bed\n",
      "/data/reddylab/Kuei/out/annotation/cistrome/hg38_cistrome/FOSL1_HUMAN.C.bed\n",
      "/data/reddylab/Kuei/out/annotation/cistrome/hg38_cistrome/FOSL2_HUMAN.A.bed\n",
      "/data/reddylab/Kuei/out/annotation/cistrome/hg38_cistrome/FOSL2_HUMAN.B.bed\n",
      "/data/reddylab/Kuei/out/annotation/cistrome/hg38_cistrome/FOSL2_HUMAN.C.bed\n"
     ]
    }
   ],
   "source": [
    "%%bash\n",
    "###\n",
    "FD_ANN=/data/reddylab/Kuei/out/annotation\n",
    "FD_WRK=/data/reddylab/Kuei/out/CombEffect_STARR\n",
    "FD_DAT=($(ls -d ${FD_WRK}/data/Input/))\n",
    "CHROM=chr17\n",
    "ANNOT=FOS\n",
    "\n",
    "ls ${FD_ANN}/cistrome/hg38_cistrome/${ANNOT}*"
   ]
  },
  {
   "cell_type": "code",
   "execution_count": 21,
   "metadata": {},
   "outputs": [
    {
     "name": "stdout",
     "output_type": "stream",
     "text": [
      "/data/reddylab/Kuei/out/annotation/cistrome/hg38_cistrome/CREB1_HUMAN.A.bed\n",
      "/data/reddylab/Kuei/out/annotation/cistrome/hg38_cistrome/CREB1_HUMAN.B.bed\n",
      "/data/reddylab/Kuei/out/annotation/cistrome/hg38_cistrome/CREB1_HUMAN.C.bed\n",
      "/data/reddylab/Kuei/out/annotation/cistrome/hg38_cistrome/CREB1_HUMAN.D.bed\n"
     ]
    }
   ],
   "source": [
    "%%bash\n",
    "###\n",
    "FD_ANN=/data/reddylab/Kuei/out/annotation\n",
    "FD_WRK=/data/reddylab/Kuei/out/CombEffect_STARR\n",
    "FD_DAT=($(ls -d ${FD_WRK}/data/Input/))\n",
    "CHROM=chr17\n",
    "ANNOT=CREB1\n",
    "\n",
    "ls ${FD_ANN}/cistrome/hg38_cistrome/${ANNOT}*"
   ]
  },
  {
   "cell_type": "code",
   "execution_count": 8,
   "metadata": {},
   "outputs": [
    {
     "name": "stdout",
     "output_type": "stream",
     "text": [
      "GCR\n",
      "JUN\n",
      "FOS\n",
      "FOS\n"
     ]
    }
   ],
   "source": [
    "%%bash\n",
    "i=2\n",
    "ANNOTS=(GCR JUN FOS)\n",
    "echo ${ANNOTS[0]}\n",
    "echo ${ANNOTS[1]}\n",
    "echo ${ANNOTS[2]}\n",
    "echo ${ANNOTS[${i}]}"
   ]
  },
  {
   "cell_type": "code",
   "execution_count": null,
   "metadata": {},
   "outputs": [],
   "source": []
  },
  {
   "cell_type": "code",
   "execution_count": null,
   "metadata": {},
   "outputs": [],
   "source": []
  },
  {
   "cell_type": "code",
   "execution_count": 22,
   "metadata": {},
   "outputs": [
    {
     "name": "stdout",
     "output_type": "stream",
     "text": [
      "Submitted batch job 25382480\n"
     ]
    }
   ],
   "source": [
    "%%bash\n",
    "### set environment\n",
    "module load perl\n",
    "module load gcc\n",
    "module load bedtools2\n",
    "source /data/reddylab/software/miniconda2/bin/activate alex_dev\n",
    "export PATH=/data/reddylab/software/homer/bin/:$PATH\n",
    "\n",
    "### set log file directory\n",
    "FD_LOG=/gpfs/fs1/data/reddylab/Kuei/out/CombEffect_STARR/log\n",
    "\n",
    "### run script using sbatch\n",
    "sbatch -pnew,all \\\n",
    "    --array=0-3 \\\n",
    "    --mem 16G \\\n",
    "    -o ${FD_LOG}/prep_annot_input.%a.txt \\\n",
    "    <<'EOF'\n",
    "#!/bin/bash\n",
    "### set directories\n",
    "FD_ANN=/data/reddylab/Kuei/out/annotation\n",
    "FD_WRK=/data/reddylab/Kuei/out/CombEffect_STARR\n",
    "FD_DAT=($(ls -d ${FD_WRK}/data/Input/))\n",
    "CHROM=chr17\n",
    "ANNOTS=(GCR JUN FOS CREB1)\n",
    "\n",
    "###\n",
    "ANNOT=${ANNOTS[${SLURM_ARRAY_TASK_ID}]}\n",
    "FN_DAT=cnt_${CHROM}.bed\n",
    "FN_OUT=ann_${CHROM}_${ANNOT}.bed\n",
    "\n",
    "FP_BED_A=${FD_DAT}/${FN_DAT}\n",
    "FP_BED_B=${FD_ANN}/cistrome/hg38_cistrome/${ANNOT}_HUMAN.A.bed\n",
    "FP_BED_O=${FD_DAT}/${FN_OUT}\n",
    "\n",
    "###\n",
    "echo \"Slurm Array Index: \" ${SLURM_ARRAY_TASK_ID}\n",
    "echo \"Input  file: \" ${FP_BED_A}\n",
    "echo \"Input  file: \" ${FP_BED_B}\n",
    "echo \"Output file: \" ${FP_BED_O}\n",
    "echo\n",
    "echo \"Show the first few lines of the input file\"\n",
    "head ${FP_BED_A}\n",
    "head ${FP_BED_B}\n",
    "\n",
    "###\n",
    "bedtools intersect -a ${FP_BED_A} -b ${FP_BED_B} -wo > ${FP_BED_O}\n",
    "\n",
    "###\n",
    "echo\n",
    "echo \"Show the first few lines of the output file\"\n",
    "head ${FP_BED_O}\n",
    "\n",
    "EOF"
   ]
  },
  {
   "cell_type": "code",
   "execution_count": 23,
   "metadata": {},
   "outputs": [
    {
     "name": "stdout",
     "output_type": "stream",
     "text": [
      "/gpfs/fs1/data/reddylab/Kuei/out/CombEffect_STARR/log/prep_annot_input.0.txt\n",
      "/gpfs/fs1/data/reddylab/Kuei/out/CombEffect_STARR/log/prep_annot_input.1.txt\n",
      "/gpfs/fs1/data/reddylab/Kuei/out/CombEffect_STARR/log/prep_annot_input.2.txt\n",
      "/gpfs/fs1/data/reddylab/Kuei/out/CombEffect_STARR/log/prep_annot_input.3.txt\n",
      "/gpfs/fs1/data/reddylab/Kuei/out/CombEffect_STARR/log/prep_annot_input.txt\n"
     ]
    }
   ],
   "source": [
    "%%bash\n",
    "FD_LOG=/gpfs/fs1/data/reddylab/Kuei/out/CombEffect_STARR/log\n",
    "ls ${FD_LOG}/prep_annot_input.*"
   ]
  },
  {
   "cell_type": "code",
   "execution_count": 15,
   "metadata": {},
   "outputs": [
    {
     "name": "stdout",
     "output_type": "stream",
     "text": [
      "Slurm Array Index:  0\n",
      "Input  file:  /data/reddylab/Kuei/out/CombEffect_STARR/data/Input//cnt_chr17.bed\n",
      "Input  file:  /data/reddylab/Kuei/out/annotation/cistrome/hg38_cistrome/GCR_HUMAN.A.bed\n",
      "Output file:  /data/reddylab/Kuei/out/CombEffect_STARR/data/Input//ann_chr17_GCR.bed\n",
      "\n",
      "Show the first few lines of the input file\n",
      "chr17\t8148989\t8149875\t1\n",
      "chr17\t8148991\t8149950\t1\n",
      "chr17\t8148991\t8149951\t2\n",
      "chr17\t8148992\t8149951\t1\n",
      "chr17\t8148999\t8149919\t1\n",
      "chr17\t8149006\t8149923\t1\n",
      "chr17\t8149008\t8150003\t1\n",
      "chr17\t8149008\t8150057\t1\n",
      "chr17\t8149012\t8150052\t1\n",
      "chr17\t8149022\t8149951\t1\n",
      "chr1\t10022\t10338\n",
      "chr1\t180626\t181057\n",
      "chr1\t629777\t630092\n",
      "chr1\t818870\t819186\n",
      "chr1\t905200\t905664\n",
      "chr1\t906700\t907241\n",
      "chr1\t916591\t917225\n",
      "chr1\t917373\t917730\n",
      "chr1\t933094\t933441\n",
      "chr1\t940241\t940578\n",
      "\n",
      "Show the first few lines of the output file\n",
      "chr17\t8150135\t8151183\t1\tchr17\t8151182\t8151493\t1\n",
      "chr17\t8150184\t8151257\t1\tchr17\t8151182\t8151493\t75\n",
      "chr17\t8150185\t8151257\t1\tchr17\t8151182\t8151493\t75\n",
      "chr17\t8150205\t8151230\t1\tchr17\t8151182\t8151493\t48\n",
      "chr17\t8150215\t8151206\t1\tchr17\t8151182\t8151493\t24\n",
      "chr17\t8150218\t8151276\t1\tchr17\t8151182\t8151493\t94\n",
      "chr17\t8150249\t8151246\t1\tchr17\t8151182\t8151493\t64\n",
      "chr17\t8150260\t8151246\t1\tchr17\t8151182\t8151493\t64\n",
      "chr17\t8150291\t8151379\t1\tchr17\t8151182\t8151493\t197\n",
      "chr17\t8150299\t8151240\t1\tchr17\t8151182\t8151493\t58\n"
     ]
    }
   ],
   "source": [
    "cat /data/reddylab/Kuei/out/CombEffect_STARR/log/prep_annot_input.0.txt"
   ]
  },
  {
   "cell_type": "code",
   "execution_count": 16,
   "metadata": {},
   "outputs": [
    {
     "name": "stdout",
     "output_type": "stream",
     "text": [
      "Slurm Array Index:  1\n",
      "Input  file:  /data/reddylab/Kuei/out/CombEffect_STARR/data/Input//cnt_chr17.bed\n",
      "Input  file:  /data/reddylab/Kuei/out/annotation/cistrome/hg38_cistrome/JUN_HUMAN.A.bed\n",
      "Output file:  /data/reddylab/Kuei/out/CombEffect_STARR/data/Input//ann_chr17_JUN.bed\n",
      "\n",
      "Show the first few lines of the input file\n",
      "chr17\t8148989\t8149875\t1\n",
      "chr17\t8148991\t8149950\t1\n",
      "chr17\t8148991\t8149951\t2\n",
      "chr17\t8148992\t8149951\t1\n",
      "chr17\t8148999\t8149919\t1\n",
      "chr17\t8149006\t8149923\t1\n",
      "chr17\t8149008\t8150003\t1\n",
      "chr17\t8149008\t8150057\t1\n",
      "chr17\t8149012\t8150052\t1\n",
      "chr17\t8149022\t8149951\t1\n",
      "chr1\t629781\t630104\n",
      "chr1\t633872\t634190\n",
      "chr1\t778476\t778918\n",
      "chr1\t940163\t940617\n",
      "chr1\t966053\t966502\n",
      "chr1\t966844\t967153\n",
      "chr1\t1000103\t1001116\n",
      "chr1\t1021878\t1022218\n",
      "chr1\t1064157\t1064553\n",
      "chr1\t1079393\t1079956\n",
      "\n",
      "Show the first few lines of the output file\n",
      "chr17\t8153288\t8154373\t1\tchr17\t8154208\t8154628\t165\n",
      "chr17\t8153290\t8154266\t1\tchr17\t8154208\t8154628\t58\n",
      "chr17\t8153305\t8154323\t1\tchr17\t8154208\t8154628\t115\n",
      "chr17\t8153361\t8154250\t1\tchr17\t8154208\t8154628\t42\n",
      "chr17\t8153376\t8154251\t1\tchr17\t8154208\t8154628\t43\n",
      "chr17\t8153381\t8154434\t1\tchr17\t8154208\t8154628\t226\n",
      "chr17\t8153384\t8154220\t1\tchr17\t8154208\t8154628\t12\n",
      "chr17\t8153387\t8154355\t1\tchr17\t8154208\t8154628\t147\n",
      "chr17\t8153430\t8154319\t1\tchr17\t8154208\t8154628\t111\n",
      "chr17\t8153433\t8154497\t1\tchr17\t8154208\t8154628\t289\n"
     ]
    }
   ],
   "source": [
    "cat /data/reddylab/Kuei/out/CombEffect_STARR/log/prep_annot_input.1.txt"
   ]
  },
  {
   "cell_type": "code",
   "execution_count": 17,
   "metadata": {},
   "outputs": [
    {
     "name": "stdout",
     "output_type": "stream",
     "text": [
      "Slurm Array Index:  2\n",
      "Input  file:  /data/reddylab/Kuei/out/CombEffect_STARR/data/Input//cnt_chr17.bed\n",
      "Input  file:  /data/reddylab/Kuei/out/annotation/cistrome/hg38_cistrome/FOS_HUMAN.A.bed\n",
      "Output file:  /data/reddylab/Kuei/out/CombEffect_STARR/data/Input//ann_chr17_FOS.bed\n",
      "\n",
      "Show the first few lines of the input file\n",
      "chr17\t8148989\t8149875\t1\n",
      "chr17\t8148991\t8149950\t1\n",
      "chr17\t8148991\t8149951\t2\n",
      "chr17\t8148992\t8149951\t1\n",
      "chr17\t8148999\t8149919\t1\n",
      "chr17\t8149006\t8149923\t1\n",
      "chr17\t8149008\t8150003\t1\n",
      "chr17\t8149008\t8150057\t1\n",
      "chr17\t8149012\t8150052\t1\n",
      "chr17\t8149022\t8149951\t1\n",
      "chr1\t629774\t630091\n",
      "chr1\t633865\t634180\n",
      "chr1\t831655\t831996\n",
      "chr1\t966032\t966528\n",
      "chr1\t966828\t967213\n",
      "chr1\t1000731\t1001098\n",
      "chr1\t1064188\t1064547\n",
      "chr1\t1207913\t1208304\n",
      "chr1\t1231957\t1232282\n",
      "chr1\t1305395\t1305905\n",
      "\n",
      "Show the first few lines of the output file\n",
      "chr17\t8155456\t8156430\t1\tchr17\t8156347\t8156825\t83\n",
      "chr17\t8155557\t8156560\t1\tchr17\t8156347\t8156825\t213\n",
      "chr17\t8155560\t8156375\t1\tchr17\t8156347\t8156825\t28\n",
      "chr17\t8155586\t8156491\t1\tchr17\t8156347\t8156825\t144\n",
      "chr17\t8155593\t8156534\t1\tchr17\t8156347\t8156825\t187\n",
      "chr17\t8155628\t8156651\t1\tchr17\t8156347\t8156825\t304\n",
      "chr17\t8155628\t8156653\t1\tchr17\t8156347\t8156825\t306\n",
      "chr17\t8155634\t8156628\t1\tchr17\t8156347\t8156825\t281\n",
      "chr17\t8155638\t8156608\t1\tchr17\t8156347\t8156825\t261\n",
      "chr17\t8155681\t8156652\t1\tchr17\t8156347\t8156825\t305\n"
     ]
    }
   ],
   "source": [
    "cat /data/reddylab/Kuei/out/CombEffect_STARR/log/prep_annot_input.2.txt"
   ]
  },
  {
   "cell_type": "code",
   "execution_count": 24,
   "metadata": {},
   "outputs": [
    {
     "name": "stdout",
     "output_type": "stream",
     "text": [
      "Slurm Array Index:  3\n",
      "Input  file:  /data/reddylab/Kuei/out/CombEffect_STARR/data/Input//cnt_chr17.bed\n",
      "Input  file:  /data/reddylab/Kuei/out/annotation/cistrome/hg38_cistrome/CREB1_HUMAN.A.bed\n",
      "Output file:  /data/reddylab/Kuei/out/CombEffect_STARR/data/Input//ann_chr17_CREB1.bed\n",
      "\n",
      "Show the first few lines of the input file\n",
      "chr17\t8148989\t8149875\t1\n",
      "chr17\t8148991\t8149950\t1\n",
      "chr17\t8148991\t8149951\t2\n",
      "chr17\t8148992\t8149951\t1\n",
      "chr17\t8148999\t8149919\t1\n",
      "chr17\t8149006\t8149923\t1\n",
      "chr17\t8149008\t8150003\t1\n",
      "chr17\t8149008\t8150057\t1\n",
      "chr17\t8149012\t8150052\t1\n",
      "chr17\t8149022\t8149951\t1\n",
      "chr1\t629783\t630099\n",
      "chr1\t633851\t634188\n",
      "chr1\t778530\t778930\n",
      "chr1\t826879\t827864\n",
      "chr1\t869681\t870123\n",
      "chr1\t904499\t904933\n",
      "chr1\t921045\t921420\n",
      "chr1\t923604\t924102\n",
      "chr1\t959023\t959524\n",
      "chr1\t960400\t960823\n",
      "\n",
      "Show the first few lines of the output file\n",
      "chr17\t8151204\t8152259\t1\tchr17\t8152256\t8153070\t3\n",
      "chr17\t8151233\t8152266\t2\tchr17\t8152256\t8153070\t10\n",
      "chr17\t8151239\t8152260\t1\tchr17\t8152256\t8153070\t4\n",
      "chr17\t8151239\t8152261\t1\tchr17\t8152256\t8153070\t5\n",
      "chr17\t8151252\t8152321\t1\tchr17\t8152256\t8153070\t65\n",
      "chr17\t8151280\t8152290\t1\tchr17\t8152256\t8153070\t34\n",
      "chr17\t8151299\t8152341\t1\tchr17\t8152256\t8153070\t85\n",
      "chr17\t8151340\t8152427\t1\tchr17\t8152256\t8153070\t171\n",
      "chr17\t8151359\t8152380\t1\tchr17\t8152256\t8153070\t124\n",
      "chr17\t8151375\t8152364\t1\tchr17\t8152256\t8153070\t108\n"
     ]
    }
   ],
   "source": [
    "cat /data/reddylab/Kuei/out/CombEffect_STARR/log/prep_annot_input.3.txt"
   ]
  },
  {
   "cell_type": "code",
   "execution_count": 25,
   "metadata": {},
   "outputs": [
    {
     "name": "stdout",
     "output_type": "stream",
     "text": [
      "/data/reddylab/Kuei/out/CombEffect_STARR/data/Input//ann_chr17_CREB1.bed\n",
      "/data/reddylab/Kuei/out/CombEffect_STARR/data/Input//ann_chr17_FOS.bed\n",
      "/data/reddylab/Kuei/out/CombEffect_STARR/data/Input//ann_chr17_GCR.bed\n",
      "/data/reddylab/Kuei/out/CombEffect_STARR/data/Input//ann_chr17_JUN.bed\n"
     ]
    }
   ],
   "source": [
    "ls /data/reddylab/Kuei/out/CombEffect_STARR/data/Input//ann_chr17_*.bed"
   ]
  },
  {
   "cell_type": "code",
   "execution_count": null,
   "metadata": {},
   "outputs": [],
   "source": []
  }
 ],
 "metadata": {
  "kernelspec": {
   "display_name": "Python 3",
   "language": "python",
   "name": "python3"
  },
  "language_info": {
   "codemirror_mode": {
    "name": "ipython",
    "version": 3
   },
   "file_extension": ".py",
   "mimetype": "text/x-python",
   "name": "python",
   "nbconvert_exporter": "python",
   "pygments_lexer": "ipython3",
   "version": "3.7.3"
  }
 },
 "nbformat": 4,
 "nbformat_minor": 4
}
