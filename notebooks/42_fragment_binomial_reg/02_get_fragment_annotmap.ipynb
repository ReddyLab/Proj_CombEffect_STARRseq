{
 "cells": [
  {
   "cell_type": "markdown",
   "id": "1ed3b158",
   "metadata": {},
   "source": [
    "**set environment**"
   ]
  },
  {
   "cell_type": "code",
   "execution_count": 1,
   "id": "df54e9f1",
   "metadata": {},
   "outputs": [
    {
     "name": "stdout",
     "output_type": "stream",
     "text": [
      "You are in: Singularity | singularity_proj_combeffect\n",
      "    BASE DIRECTORY:     /mount/work\n",
      "    PATH OF SOURCE:     /mount/work/source\n",
      "    PATH OF EXECUTABLE: /mount/work/exe\n",
      "    PATH OF ANNOTATION: /mount/work/annotation\n",
      "    PATH OF PROJECT:    /mount/project\n",
      "    PATH OF RESULTS:    /mount/work/out/proj_combeffect\n",
      "\n",
      "Library imported:\n",
      "    numpy, pandas, matplotlib.pyplot\n",
      "    os, sys, time, gzip, glob\n",
      "\n"
     ]
    }
   ],
   "source": [
    "import sys\n",
    "sys.path.append('../')\n",
    "from config_sing import *\n",
    "show_env()"
   ]
  },
  {
   "cell_type": "code",
   "execution_count": 2,
   "id": "e1d4326b",
   "metadata": {},
   "outputs": [],
   "source": [
    "import sqlite3\n",
    "import itertools as it\n",
    "from collections import defaultdict\n",
    "import matplotlib as mpl\n",
    "from matplotlib.lines import Line2D\n",
    "from mpl_toolkits.axes_grid1 import make_axes_locatable\n",
    "plt.style.use(\"seaborn-whitegrid\")\n",
    "\n",
    "import math\n",
    "import random\n",
    "from sklearn.manifold import TSNE\n",
    "from functools import partial, reduce\n",
    "print = partial(print, flush=True)\n",
    "\n",
    "### Set Samples\n",
    "fun = np.core.defchararray.add\n",
    "idx = np.arange(1,6).astype(\"str\")\n",
    "\n",
    "INPUT    = reduce(fun, [\"Input\", idx])\n",
    "INPUT20X = reduce(fun, [\"Input\", idx,     \"_20x\"])\n",
    "TFX_DMSO = reduce(fun, [\"TFX\",   idx[1:], \"_DMSO\"])\n",
    "TFX_DEX  = reduce(fun, [\"TFX\",   idx[1:], \"_Dex\"])\n",
    "SAMPLES  = np.concatenate([INPUT20X, TFX_DMSO, TFX_DEX])\n",
    "\n",
    "### file path of database\n",
    "fdiry = os.path.join(FD_RES, 'database')\n",
    "fname = \"fragment_chr17.db\"\n",
    "FPATH_DB = os.path.join(fdiry, fname)"
   ]
  },
  {
   "cell_type": "markdown",
   "id": "cb682855",
   "metadata": {},
   "source": [
    "## Helper function"
   ]
  },
  {
   "cell_type": "code",
   "execution_count": 3,
   "id": "040afc46",
   "metadata": {},
   "outputs": [],
   "source": [
    "def get_frag(sample, fpath_db = FPATH_DB):\n",
    "    ### set query\n",
    "    query_out = f\"\"\"\n",
    "        SELECT Cnt.fragment, Cnt.count, Cnt.sample\n",
    "        FROM   Count Cnt\n",
    "        WHERE  Cnt.sample = '{sample}'\n",
    "        \"\"\"\n",
    "    \n",
    "    ### query out fragments from the sample\n",
    "    with sqlite3.connect(fpath_db) as conn:\n",
    "        query  = query_out\n",
    "        cursor = conn.cursor()\n",
    "        rows   = cursor.execute(query)\n",
    "        for row in rows:\n",
    "            yield row"
   ]
  },
  {
   "cell_type": "code",
   "execution_count": 6,
   "id": "99e4638e",
   "metadata": {},
   "outputs": [],
   "source": [
    "def get_frag_astarr(sample, start=None, end=None, fpath_db = FPATH_DB):\n",
    "    \"\"\"sample fragments from ATAC-STARR-seq with probability proportion to count\"\"\"\n",
    "    ### set query\n",
    "    if (start is None) and (end is None):\n",
    "        query  = f\"\"\"\n",
    "            SELECT Cnt.fragment, Cnt.sample, Frg.pct_gc, Cnt.count\n",
    "            FROM   Count    Cnt\n",
    "            JOIN   Fragment Frg\n",
    "            ON     Cnt.fragment = Frg.fragment\n",
    "            WHERE  Cnt.sample = '{sample}'\n",
    "            \"\"\"\n",
    "    else:\n",
    "        query  = f\"\"\"\n",
    "            SELECT Cnt.fragment, Cnt.sample, Frg.pct_gc, Cnt.count\n",
    "            FROM   Count    Cnt\n",
    "            JOIN   Fragment Frg\n",
    "            ON     Cnt.fragment = Frg.fragment\n",
    "            WHERE  Cnt.sample = '{sample}' AND \n",
    "                   Frg.start >= '{start}'  AND \n",
    "                   Frg.end   <= '{end}'\n",
    "            \"\"\"\n",
    "    \n",
    "    fpath_db = \"file:\" + fpath_db + \"?mode=ro\"\n",
    "    with sqlite3.connect(fpath_db, uri=True) as conn:\n",
    "        ### query the fragment annotations\n",
    "        cursor = conn.cursor()\n",
    "        cursor = cursor.execute(query)\n",
    "        rows   = cursor\n",
    "        \n",
    "        ### generate fragments\n",
    "        for row in rows:\n",
    "            ### parse info\n",
    "            frg, sample, pct_gc, count = row\n",
    "            \n",
    "            ### repeat the each fragment based on its count\n",
    "            for _ in range(count):\n",
    "                yield row"
   ]
  },
  {
   "cell_type": "code",
   "execution_count": 9,
   "id": "a18cef7d",
   "metadata": {},
   "outputs": [
    {
     "name": "stdout",
     "output_type": "stream",
     "text": [
      "[('chr17_107410_108464', 'Input1_20x', 0.487666, 1), ('chr17_159026_160040', 'Input1_20x', 0.493097, 1), ('chr17_159426_160303', 'Input1_20x', 0.508552, 1), ('chr17_159510_160362', 'Input1_20x', 0.502347, 1), ('chr17_159977_160849', 'Input1_20x', 0.541284, 1), ('chr17_174938_176057', 'Input1_20x', 0.531725, 1), ('chr17_175103_176248', 'Input1_20x', 0.531878, 1), ('chr17_177613_178563', 'Input1_20x', 0.545263, 1), ('chr17_180289_181411', 'Input1_20x', 0.776292, 1), ('chr17_197552_198593', 'Input1_20x', 0.569645, 1)]\n",
      "CPU times: user 2.63 ms, sys: 1.09 ms, total: 3.72 ms\n",
      "Wall time: 5.23 ms\n"
     ]
    }
   ],
   "source": [
    "%%time\n",
    "N   = 10\n",
    "sam = SAMPLES[0]\n",
    "gen = get_frag_astarr(sam)\n",
    "lst = list(it.islice(gen, N))\n",
    "print(lst)"
   ]
  },
  {
   "cell_type": "code",
   "execution_count": 10,
   "id": "4bc98b62",
   "metadata": {},
   "outputs": [
    {
     "name": "stdout",
     "output_type": "stream",
     "text": [
      "[('chr17_6002565_6003491', 'Input1_20x', 0.475162, 1), ('chr17_6002566_6003603', 'Input1_20x', 0.486982, 1), ('chr17_6002570_6003514', 'Input1_20x', 0.474576, 1), ('chr17_6002571_6003514', 'Input1_20x', 0.47508, 1), ('chr17_6002587_6003726', 'Input1_20x', 0.489025, 2), ('chr17_6002587_6003726', 'Input1_20x', 0.489025, 2), ('chr17_6002589_6003507', 'Input1_20x', 0.476035, 1), ('chr17_6002591_6003595', 'Input1_20x', 0.484064, 1), ('chr17_6002597_6003593', 'Input1_20x', 0.482932, 1), ('chr17_6002603_6003647', 'Input1_20x', 0.478927, 1)]\n",
      "CPU times: user 1.48 s, sys: 1.58 s, total: 3.07 s\n",
      "Wall time: 3min 1s\n"
     ]
    }
   ],
   "source": [
    "%%time\n",
    "N   = 10\n",
    "sam = SAMPLES[0]\n",
    "gen = get_frag_astarr(sam, start=6002561, end=6003866)\n",
    "lst = list(it.islice(gen, N))\n",
    "print(lst)"
   ]
  },
  {
   "cell_type": "code",
   "execution_count": 4,
   "id": "8fa0ce4b",
   "metadata": {},
   "outputs": [
    {
     "name": "stdout",
     "output_type": "stream",
     "text": [
      "Input1_20x\n",
      "[('chr17_107410_108464', 1, 'Input1_20x'), ('chr17_159026_160040', 1, 'Input1_20x'), ('chr17_159426_160303', 1, 'Input1_20x'), ('chr17_159510_160362', 1, 'Input1_20x'), ('chr17_159977_160849', 1, 'Input1_20x'), ('chr17_174938_176057', 1, 'Input1_20x'), ('chr17_175103_176248', 1, 'Input1_20x'), ('chr17_177613_178563', 1, 'Input1_20x'), ('chr17_180289_181411', 1, 'Input1_20x'), ('chr17_197552_198593', 1, 'Input1_20x')]\n",
      "Input2_20x\n",
      "[('chr17_158043_159067', 1, 'Input2_20x'), ('chr17_159299_160311', 1, 'Input2_20x'), ('chr17_159510_160362', 1, 'Input2_20x'), ('chr17_170418_172531', 1, 'Input2_20x'), ('chr17_180525_181456', 1, 'Input2_20x'), ('chr17_182039_183141', 1, 'Input2_20x'), ('chr17_186344_187357', 1, 'Input2_20x'), ('chr17_197528_198605', 1, 'Input2_20x'), ('chr17_197546_198559', 1, 'Input2_20x'), ('chr17_197583_198596', 1, 'Input2_20x')]\n",
      "Input3_20x\n",
      "[('chr17_158183_159063', 1, 'Input3_20x'), ('chr17_159026_160041', 1, 'Input3_20x'), ('chr17_159027_160041', 1, 'Input3_20x'), ('chr17_159510_160362', 3, 'Input3_20x'), ('chr17_159974_160848', 1, 'Input3_20x'), ('chr17_170466_172553', 1, 'Input3_20x'), ('chr17_176008_177054', 1, 'Input3_20x'), ('chr17_180466_181457', 1, 'Input3_20x'), ('chr17_180521_181485', 1, 'Input3_20x'), ('chr17_182051_183103', 1, 'Input3_20x')]\n",
      "Input4_20x\n",
      "[('chr17_152808_153715', 1, 'Input4_20x'), ('chr17_153773_154756', 1, 'Input4_20x'), ('chr17_159493_160416', 1, 'Input4_20x'), ('chr17_180506_181448', 1, 'Input4_20x'), ('chr17_182059_182994', 1, 'Input4_20x'), ('chr17_182066_182946', 1, 'Input4_20x'), ('chr17_182115_183108', 1, 'Input4_20x'), ('chr17_182472_183564', 1, 'Input4_20x'), ('chr17_197447_198564', 1, 'Input4_20x'), ('chr17_197481_198570', 1, 'Input4_20x')]\n",
      "Input5_20x\n",
      "[('chr17_120797_122228', 1, 'Input5_20x'), ('chr17_152749_153715', 1, 'Input5_20x'), ('chr17_159510_160362', 1, 'Input5_20x'), ('chr17_159941_161088', 1, 'Input5_20x'), ('chr17_179358_180390', 1, 'Input5_20x'), ('chr17_180323_181405', 1, 'Input5_20x'), ('chr17_180379_181431', 1, 'Input5_20x'), ('chr17_182053_183107', 1, 'Input5_20x'), ('chr17_182086_183159', 1, 'Input5_20x'), ('chr17_197481_198570', 1, 'Input5_20x')]\n",
      "TFX2_DMSO\n",
      "[('chr17_87067_87989', 1, 'TFX2_DMSO'), ('chr17_158043_159066', 1, 'TFX2_DMSO'), ('chr17_158043_159067', 1, 'TFX2_DMSO'), ('chr17_159137_160020', 1, 'TFX2_DMSO'), ('chr17_170572_172531', 1, 'TFX2_DMSO'), ('chr17_172392_173515', 1, 'TFX2_DMSO'), ('chr17_172393_173515', 1, 'TFX2_DMSO'), ('chr17_172396_173514', 1, 'TFX2_DMSO'), ('chr17_197679_198597', 1, 'TFX2_DMSO'), ('chr17_197681_198597', 1, 'TFX2_DMSO')]\n",
      "TFX3_DMSO\n",
      "[('chr17_159962_160793', 1, 'TFX3_DMSO'), ('chr17_185415_186343', 1, 'TFX3_DMSO'), ('chr17_201202_202073', 1, 'TFX3_DMSO'), ('chr17_201202_202074', 2, 'TFX3_DMSO'), ('chr17_201205_202074', 1, 'TFX3_DMSO'), ('chr17_201287_202078', 1, 'TFX3_DMSO'), ('chr17_205401_206360', 1, 'TFX3_DMSO'), ('chr17_206145_207313', 3, 'TFX3_DMSO'), ('chr17_206146_207309', 1, 'TFX3_DMSO'), ('chr17_206147_207312', 1, 'TFX3_DMSO')]\n",
      "TFX4_DMSO\n",
      "[('chr17_201155_201962', 1, 'TFX4_DMSO'), ('chr17_201155_201967', 1, 'TFX4_DMSO'), ('chr17_201155_201968', 1, 'TFX4_DMSO'), ('chr17_201156_201968', 1, 'TFX4_DMSO'), ('chr17_201157_201966', 1, 'TFX4_DMSO'), ('chr17_201159_201968', 1, 'TFX4_DMSO'), ('chr17_205687_206639', 1, 'TFX4_DMSO'), ('chr17_205687_206640', 1, 'TFX4_DMSO'), ('chr17_205688_206640', 1, 'TFX4_DMSO'), ('chr17_205690_206611', 1, 'TFX4_DMSO')]\n",
      "TFX5_DMSO\n",
      "[('chr17_101601_102522', 1, 'TFX5_DMSO'), ('chr17_160263_161262', 1, 'TFX5_DMSO'), ('chr17_161009_161941', 1, 'TFX5_DMSO'), ('chr17_162636_163489', 1, 'TFX5_DMSO'), ('chr17_172501_173534', 1, 'TFX5_DMSO'), ('chr17_186343_187265', 1, 'TFX5_DMSO'), ('chr17_197685_198495', 1, 'TFX5_DMSO'), ('chr17_200369_201278', 1, 'TFX5_DMSO'), ('chr17_203281_204305', 1, 'TFX5_DMSO'), ('chr17_204465_205428', 1, 'TFX5_DMSO')]\n",
      "TFX2_Dex\n",
      "[('chr17_83638_84547', 1, 'TFX2_Dex'), ('chr17_92503_93508', 1, 'TFX2_Dex'), ('chr17_152590_153715', 1, 'TFX2_Dex'), ('chr17_159027_160041', 1, 'TFX2_Dex'), ('chr17_173500_174429', 1, 'TFX2_Dex'), ('chr17_174388_175345', 1, 'TFX2_Dex'), ('chr17_174388_175346', 1, 'TFX2_Dex'), ('chr17_197582_198583', 1, 'TFX2_Dex'), ('chr17_201248_202059', 1, 'TFX2_Dex'), ('chr17_201249_202059', 1, 'TFX2_Dex')]\n",
      "TFX3_Dex\n",
      "[('chr17_120738_123102', 1, 'TFX3_Dex'), ('chr17_169749_171139', 1, 'TFX3_Dex'), ('chr17_182083_183038', 1, 'TFX3_Dex'), ('chr17_197577_198557', 1, 'TFX3_Dex'), ('chr17_205592_206544', 1, 'TFX3_Dex'), ('chr17_205592_206545', 2, 'TFX3_Dex'), ('chr17_205594_206544', 1, 'TFX3_Dex'), ('chr17_205594_206545', 1, 'TFX3_Dex'), ('chr17_205646_206630', 1, 'TFX3_Dex'), ('chr17_205646_206631', 2, 'TFX3_Dex')]\n",
      "TFX4_Dex\n",
      "[('chr17_160133_161194', 1, 'TFX4_Dex'), ('chr17_197659_198568', 1, 'TFX4_Dex'), ('chr17_201224_202001', 1, 'TFX4_Dex'), ('chr17_205755_206670', 1, 'TFX4_Dex'), ('chr17_206176_207264', 1, 'TFX4_Dex'), ('chr17_206600_207568', 1, 'TFX4_Dex'), ('chr17_206608_207498', 1, 'TFX4_Dex'), ('chr17_206608_207499', 1, 'TFX4_Dex'), ('chr17_206901_207908', 1, 'TFX4_Dex'), ('chr17_206901_207909', 1, 'TFX4_Dex')]\n",
      "TFX5_Dex\n",
      "[('chr17_70104_71559', 1, 'TFX5_Dex'), ('chr17_152554_153491', 1, 'TFX5_Dex'), ('chr17_201123_201923', 1, 'TFX5_Dex'), ('chr17_201123_201924', 1, 'TFX5_Dex'), ('chr17_201123_201925', 1, 'TFX5_Dex'), ('chr17_201337_202096', 1, 'TFX5_Dex'), ('chr17_201337_202097', 1, 'TFX5_Dex'), ('chr17_206274_207320', 3, 'TFX5_Dex'), ('chr17_206275_207320', 1, 'TFX5_Dex'), ('chr17_206407_207370', 1, 'TFX5_Dex')]\n",
      "CPU times: user 45.9 ms, sys: 19.9 ms, total: 65.9 ms\n",
      "Wall time: 1.58 s\n"
     ]
    }
   ],
   "source": [
    "%%time\n",
    "random.seed(123)\n",
    "N = 10\n",
    "\n",
    "lst_frg = list()\n",
    "for sam in SAMPLES:\n",
    "    print(sam)\n",
    "    \n",
    "    ### random select fragments\n",
    "    gen = get_frag(sam)\n",
    "    lst = list(it.islice(gen, N))\n",
    "    print(lst)\n",
    "    #lst = iter_sample_fast(gen, N)\n",
    "    #lst = np.sort(lst, axis=0)\n",
    "    #lst_frg.append(lst)"
   ]
  },
  {
   "cell_type": "code",
   "execution_count": null,
   "id": "7fe042e8",
   "metadata": {},
   "outputs": [],
   "source": []
  }
 ],
 "metadata": {
  "kernelspec": {
   "display_name": "Python 3",
   "language": "python",
   "name": "python3"
  },
  "language_info": {
   "codemirror_mode": {
    "name": "ipython",
    "version": 3
   },
   "file_extension": ".py",
   "mimetype": "text/x-python",
   "name": "python",
   "nbconvert_exporter": "python",
   "pygments_lexer": "ipython3",
   "version": "3.7.6"
  }
 },
 "nbformat": 4,
 "nbformat_minor": 5
}
