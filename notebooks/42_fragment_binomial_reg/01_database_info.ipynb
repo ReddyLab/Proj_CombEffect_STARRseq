{
 "cells": [
  {
   "cell_type": "markdown",
   "id": "6a835675",
   "metadata": {},
   "source": [
    "**set environment**"
   ]
  },
  {
   "cell_type": "code",
   "execution_count": 1,
   "id": "33a6af3b",
   "metadata": {},
   "outputs": [
    {
     "name": "stdout",
     "output_type": "stream",
     "text": [
      "You are in: Singularity | singularity_proj_combeffect\n",
      "    BASE DIRECTORY:     /mount/work\n",
      "    PATH OF SOURCE:     /mount/work/source\n",
      "    PATH OF EXECUTABLE: /mount/work/exe\n",
      "    PATH OF ANNOTATION: /mount/work/annotation\n",
      "    PATH OF PROJECT:    /mount/project\n",
      "    PATH OF RESULTS:    /mount/work/out/proj_combeffect\n",
      "\n",
      "Library imported:\n",
      "    numpy, pandas, matplotlib.pyplot\n",
      "    os, sys, time, gzip, glob\n",
      "\n"
     ]
    }
   ],
   "source": [
    "import sys\n",
    "sys.path.append('../')\n",
    "from config_sing import *\n",
    "show_env()"
   ]
  },
  {
   "cell_type": "code",
   "execution_count": 2,
   "id": "ffb13233",
   "metadata": {},
   "outputs": [],
   "source": [
    "import sqlite3\n",
    "import itertools as it\n",
    "from collections import defaultdict\n",
    "import matplotlib as mpl\n",
    "from matplotlib.lines import Line2D\n",
    "from mpl_toolkits.axes_grid1 import make_axes_locatable\n",
    "plt.style.use(\"seaborn-whitegrid\")\n",
    "\n",
    "import math\n",
    "import random\n",
    "from sklearn.manifold import TSNE\n",
    "from functools import partial, reduce\n",
    "print = partial(print, flush=True)\n",
    "\n",
    "### Set Samples\n",
    "fun = np.core.defchararray.add\n",
    "idx = np.arange(1,6).astype(\"str\")\n",
    "\n",
    "INPUT    = reduce(fun, [\"Input\", idx])\n",
    "INPUT20X = reduce(fun, [\"Input\", idx,     \"_20x\"])\n",
    "TFX_DMSO = reduce(fun, [\"TFX\",   idx[1:], \"_DMSO\"])\n",
    "TFX_DEX  = reduce(fun, [\"TFX\",   idx[1:], \"_Dex\"])\n",
    "SAMPLES  = np.concatenate([INPUT20X, TFX_DMSO, TFX_DEX])\n",
    "\n",
    "### file path of database\n",
    "fdiry = os.path.join(FD_RES, 'database')\n",
    "fname = \"fragment_chr17.db\"\n",
    "FPATH_DB = os.path.join(fdiry, fname)"
   ]
  },
  {
   "cell_type": "markdown",
   "id": "08781a55",
   "metadata": {},
   "source": [
    "## Show basic information of the database"
   ]
  },
  {
   "cell_type": "markdown",
   "id": "3c208dab",
   "metadata": {},
   "source": [
    "**Tables**"
   ]
  },
  {
   "cell_type": "code",
   "execution_count": 3,
   "id": "787e36cb",
   "metadata": {},
   "outputs": [
    {
     "name": "stdout",
     "output_type": "stream",
     "text": [
      "Annotation\n",
      "Count\n",
      "Coverage\n",
      "Fragment\n",
      "Motif\n",
      "Sample\n"
     ]
    }
   ],
   "source": [
    "query_out = \"\"\"\n",
    "    SELECT name \n",
    "    FROM sqlite_master \n",
    "    WHERE type = 'table';\n",
    "    \"\"\"\n",
    "###\n",
    "fpath_db = FPATH_DB\n",
    "with sqlite3.connect(fpath_db) as conn:\n",
    "    query  = query_out\n",
    "    cursor = conn.cursor()\n",
    "    cursor = cursor.execute(query)\n",
    "    rows   = cursor.fetchall()\n",
    "    rows = np.r_[rows].ravel()\n",
    "\n",
    "for row in np.sort(rows):\n",
    "    print(row)"
   ]
  },
  {
   "cell_type": "markdown",
   "id": "d2c51196",
   "metadata": {},
   "source": [
    "**Index**"
   ]
  },
  {
   "cell_type": "code",
   "execution_count": 4,
   "id": "63c0812d",
   "metadata": {},
   "outputs": [
    {
     "name": "stdout",
     "output_type": "stream",
     "text": [
      "idx_annot_frag\n",
      "idx_count_sample\n",
      "idx_cov_loc\n",
      "idx_frag_loc\n",
      "idx_motif_loc\n",
      "sqlite_autoindex_Annotation_1\n",
      "sqlite_autoindex_Fragment_1\n",
      "sqlite_autoindex_Motif_1\n",
      "sqlite_autoindex_Sample_1\n"
     ]
    }
   ],
   "source": [
    "query_out = \"\"\"\n",
    "    SELECT name \n",
    "    FROM sqlite_master \n",
    "    WHERE type = 'index';\n",
    "    \"\"\"\n",
    "###\n",
    "fpath_db = FPATH_DB\n",
    "with sqlite3.connect(fpath_db) as conn:\n",
    "    query  = query_out\n",
    "    cursor = conn.cursor()\n",
    "    cursor = cursor.execute(query)\n",
    "    rows   = cursor.fetchall()\n",
    "    rows = np.r_[rows].ravel()\n",
    "\n",
    "for row in np.sort(rows):\n",
    "    print(row)"
   ]
  },
  {
   "cell_type": "markdown",
   "id": "dd10841e",
   "metadata": {},
   "source": [
    "**Table sizes**"
   ]
  },
  {
   "cell_type": "code",
   "execution_count": null,
   "id": "7fcb841f",
   "metadata": {},
   "outputs": [
    {
     "name": "stdout",
     "output_type": "stream",
     "text": [
      "Table Name: Annotation\n"
     ]
    }
   ],
   "source": [
    "query_out = \"\"\"\n",
    "    SELECT name \n",
    "    FROM sqlite_master \n",
    "    WHERE type = 'table';\n",
    "    \"\"\"\n",
    "###\n",
    "fpath_db = FPATH_DB\n",
    "with sqlite3.connect(fpath_db) as conn:\n",
    "    query  = query_out\n",
    "    cursor = conn.cursor()\n",
    "    cursor = cursor.execute(query)\n",
    "    rows   = cursor.fetchall()\n",
    "    rows = np.r_[rows].ravel()\n",
    "\n",
    "    for table in np.sort(rows):\n",
    "        print(f\"Table Name: {table}\")\n",
    "        \n",
    "        ### show created table info\n",
    "        cursor = conn.cursor()\n",
    "        query  = f\"select count(*) from {table}\"\n",
    "        cursor = cursor.execute(query)\n",
    "        size   = cursor.fetchall()\n",
    "        print(f\"     #Rows: {size}\")"
   ]
  }
 ],
 "metadata": {
  "kernelspec": {
   "display_name": "Python 3",
   "language": "python",
   "name": "python3"
  },
  "language_info": {
   "codemirror_mode": {
    "name": "ipython",
    "version": 3
   },
   "file_extension": ".py",
   "mimetype": "text/x-python",
   "name": "python",
   "nbconvert_exporter": "python",
   "pygments_lexer": "ipython3",
   "version": "3.7.6"
  }
 },
 "nbformat": 4,
 "nbformat_minor": 5
}
