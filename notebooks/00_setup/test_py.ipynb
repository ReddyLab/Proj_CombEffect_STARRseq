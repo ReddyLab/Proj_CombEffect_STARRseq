{
 "cells": [
  {
   "cell_type": "code",
   "execution_count": 10,
   "id": "702cceb7-c6d5-4728-a39c-08480a8a0985",
   "metadata": {},
   "outputs": [],
   "source": [
    "cat > test.py << 'EOF'\n",
    "### get arguments\n",
    "import argparse\n",
    "parser=argparse.ArgumentParser()\n",
    "parser.add_argument('--arg1', help='first argument')\n",
    "parser.add_argument('--arg2', help='second argument')\n",
    "args=parser.parse_args()\n",
    "print(\"arguements\")\n",
    "for key, val in vars(args).items():\n",
    "    print(f\"{key}: {val}\")\n",
    "EOF"
   ]
  },
  {
   "cell_type": "code",
   "execution_count": 11,
   "id": "07dd2a99-fea4-439c-9cf3-09190c6833df",
   "metadata": {},
   "outputs": [
    {
     "name": "stdout",
     "output_type": "stream",
     "text": [
      "arguements\n",
      "arg1: haha\n",
      "arg2: hehe\n"
     ]
    }
   ],
   "source": [
    "python test.py --arg1 haha --arg2 hehe"
   ]
  },
  {
   "cell_type": "code",
   "execution_count": null,
   "id": "bcda89d5-3701-49b4-8e9f-6383c0c6c088",
   "metadata": {},
   "outputs": [],
   "source": []
  }
 ],
 "metadata": {
  "kernelspec": {
   "display_name": "Bash",
   "language": "bash",
   "name": "bash"
  },
  "language_info": {
   "codemirror_mode": "shell",
   "file_extension": ".sh",
   "mimetype": "text/x-sh",
   "name": "bash"
  }
 },
 "nbformat": 4,
 "nbformat_minor": 5
}
