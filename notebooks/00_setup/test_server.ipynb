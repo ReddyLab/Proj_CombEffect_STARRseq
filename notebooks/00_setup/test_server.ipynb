{
 "cells": [
  {
   "cell_type": "markdown",
   "id": "82e16fa2-42c1-48fc-a8a1-03502619722f",
   "metadata": {},
   "source": [
    "source ../config_duke.sh\n",
    "\n",
    "sbatch -p scavenger \\\n",
    "    --array 0-23 \\\n",
    "    --mem 8G \\\n",
    "    -o ${FD_LOG}/merge_data_chrom.%a.txt \\\n",
    "    <<'EOF'\n",
    "#!/bin/bash\n",
    "### set directories & global variables\n",
    "source ../config_duke.sh"
   ]
  }
 ],
 "metadata": {
  "kernelspec": {
   "display_name": "Bash",
   "language": "bash",
   "name": "bash"
  },
  "language_info": {
   "codemirror_mode": "shell",
   "file_extension": ".sh",
   "mimetype": "text/x-sh",
   "name": "bash"
  }
 },
 "nbformat": 4,
 "nbformat_minor": 5
}
