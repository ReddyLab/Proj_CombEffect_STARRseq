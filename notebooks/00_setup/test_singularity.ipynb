{
 "cells": [
  {
   "cell_type": "markdown",
   "id": "89957915-2569-426f-a56b-18c9abb4f8e9",
   "metadata": {},
   "source": [
    "## On DCC"
   ]
  },
  {
   "cell_type": "code",
   "execution_count": 1,
   "id": "acb8a8a4-5287-47e2-ac6d-e2e5c308565f",
   "metadata": {},
   "outputs": [
    {
     "name": "stdout",
     "output_type": "stream",
     "text": [
      "You are on Duke Server: DCC\n",
      "BASE DIRECTORY:     /work/kk319\n",
      "PATH OF SOURCE:     /hpc/group/reddylab/Kuei/source\n",
      "PATH OF EXECUTABLE: /hpc/group/reddylab/Kuei/exe\n",
      "PATH OF ANNOTATION: /hpc/group/reddylab/Kuei/annotation\n",
      "PATH OF PROJECT:    /hpc/home/kk319/GitRepo/Proj_CombEffect_STARRseq/notebooks\n",
      "PATH OF RESULTS:    /work/kk319/out/proj_combeffect\n",
      "\n"
     ]
    }
   ],
   "source": [
    "source ../config_duke.sh -v"
   ]
  },
  {
   "cell_type": "code",
   "execution_count": 3,
   "id": "ef977618-2616-4266-af73-c268543713c0",
   "metadata": {},
   "outputs": [
    {
     "name": "stdout",
     "output_type": "stream",
     "text": [
      "/hpc/group/reddylab/Kuei/singularity\n"
     ]
    }
   ],
   "source": [
    "echo ${FD_SING}"
   ]
  },
  {
   "cell_type": "code",
   "execution_count": 4,
   "id": "36a0adf5-3f96-40d1-b0f2-615bb295906f",
   "metadata": {},
   "outputs": [
    {
     "name": "stdout",
     "output_type": "stream",
     "text": [
      "\u001b[0m\u001b[01;34mhome\u001b[0m                             singularity_tensorflow_scratch.sif\n",
      "\u001b[01;32mlolcow_latest.sif\u001b[0m                \u001b[01;32msingularity_tensorflow.sif\u001b[0m\n",
      "singularity_bioconductor.sif     \u001b[01;32msingularity_test.sif\u001b[0m\n",
      "singularity_deepstarr.sif        \u001b[01;32msingularity_tidyverse.sif\u001b[0m\n",
      "singularity-example.sif          test_py.py\n",
      "\u001b[01;32msingularity_proj_combeffect.sif\u001b[0m  test_R.R\n",
      "singularity_proj_flow2img.sif\n"
     ]
    }
   ],
   "source": [
    "ls ${FD_SING}"
   ]
  },
  {
   "cell_type": "code",
   "execution_count": 8,
   "id": "04fa730a-e63b-42e4-9ab4-3a709b046b99",
   "metadata": {},
   "outputs": [
    {
     "name": "stdout",
     "output_type": "stream",
     "text": [
      "#!/bin/bash\n",
      "\n",
      "#source config_duke.sh\n",
      "\n",
      "# this script launches the singularity service for project combeffect\n",
      "\n",
      "#FD_HOME=/gpfs/fs1/data/reddylab/Kuei/singularity/home\n",
      "#FD_WORK=/gpfs/fs1/data/reddylab/Kuei\n",
      "#FD_GITREPO=/gpfs/fs1/data/reddylab/Kuei/GitRepo\n",
      "#FD_REDDYLAB=/gpfs/fs1/data/reddylab\n",
      "\n",
      "### Stackoverflow: how-can-i-get-the-source-directory-of-a-bash-script-from-within-the-script-itself\n",
      "SCRIPT_DIR=\"$( cd \"$( dirname \"${BASH_SOURCE[0]}\" )\" &> /dev/null && pwd )\"\n",
      "source ${SCRIPT_DIR}/config_duke.sh\n",
      "\n",
      "singularity exec \\\n",
      "    -H ${PWD}:/home \\\n",
      "    -B ${FD_WORK}:/mount/work \\\n",
      "    -B ${FD_PRJ}:/mount/project \\\n",
      "    -B ${FD_RLAB}:/mount/reddylab \\\n",
      "    ${FD_SING}/singularity_proj_combeffect.sif \"$@\"\n",
      "\n",
      "#singularity exec \\\n",
      "#    -H ${PWD}:/home \\\n",
      "#    -B ${FD_WORK}:/home/mount/work \\\n",
      "#    -B ${FD_PRJ}:/home/mount/project \\\n",
      "#    -B ${FD_RLAB}:/home/mount/reddylab \\\n",
      "#    ${FD_SING}/singularity_proj_combeffect.sif \"$@\"\n",
      "    \n",
      "#rm -rf ${PWD}/mount\n"
     ]
    }
   ],
   "source": [
    "cat ${FD_PRJ}/sing_proj_combeffect.sh"
   ]
  },
  {
   "cell_type": "code",
   "execution_count": 13,
   "id": "7a6ae915-ea2c-4c0f-9f15-a42487436d3d",
   "metadata": {},
   "outputs": [
    {
     "name": "stdout",
     "output_type": "stream",
     "text": [
      "test_singularity.ipynb\n"
     ]
    }
   ],
   "source": [
    "${FD_PRJ}/sing_proj_combeffect.sh ls"
   ]
  },
  {
   "cell_type": "code",
   "execution_count": 16,
   "id": "868a189d-11f5-49c5-945d-489bd14fba41",
   "metadata": {},
   "outputs": [
    {
     "name": "stdout",
     "output_type": "stream",
     "text": [
      "project  reddylab  work\n"
     ]
    }
   ],
   "source": [
    "${FD_PRJ}/sing_proj_combeffect.sh ls /mount"
   ]
  },
  {
   "cell_type": "markdown",
   "id": "ab86dcc5-5d86-4c88-87f4-db2229281908",
   "metadata": {},
   "source": [
    "## Run singularity image in a node"
   ]
  },
  {
   "cell_type": "code",
   "execution_count": 24,
   "id": "f23af41f-6bfa-4755-875c-12fa8186438d",
   "metadata": {},
   "outputs": [
    {
     "name": "stdout",
     "output_type": "stream",
     "text": [
      "Submitted batch job 26689377\n"
     ]
    }
   ],
   "source": [
    "source ../config_duke.sh\n",
    "\n",
    "sbatch -p scavenger \\\n",
    "    --mem 8G \\\n",
    "    -o ${FD_LOG}/test.txt \\\n",
    "    <<'EOF'\n",
    "#!/bin/bash\n",
    "### set directories & global variables\n",
    "source ../config_duke.sh\n",
    "${FD_PRJ}/sing_proj_combeffect.sh ls ./mount/project/config_sing.py\n",
    "\n",
    "EOF"
   ]
  },
  {
   "cell_type": "code",
   "execution_count": 27,
   "id": "53ff3d20-a273-4afd-aee7-1cba1a10f91b",
   "metadata": {},
   "outputs": [],
   "source": [
    "cat > test.py << 'EOF'\n",
    "import sys\n",
    "sys.path.append('/home/mount/project/')\n",
    "from config_sing import *\n",
    "print(FD_PRJ)\n",
    "\n",
    "EOF"
   ]
  },
  {
   "cell_type": "code",
   "execution_count": 28,
   "id": "355bac03-af4e-4def-94ff-75a58b8c33e1",
   "metadata": {},
   "outputs": [
    {
     "name": "stdout",
     "output_type": "stream",
     "text": [
      "Submitted batch job 26690777\n"
     ]
    }
   ],
   "source": [
    "source ../config_duke.sh\n",
    "\n",
    "sbatch -p scavenger \\\n",
    "    --mem 8G \\\n",
    "    -o ${FD_LOG}/test.txt \\\n",
    "    <<'EOF'\n",
    "#!/bin/bash\n",
    "### set directories & global variables\n",
    "source ../config_duke.sh\n",
    "${FD_PRJ}/sing_proj_combeffect.sh python test.py\n",
    "\n",
    "EOF"
   ]
  },
  {
   "cell_type": "code",
   "execution_count": 29,
   "id": "bda72c4f-6d1a-4eef-b71e-ebe7ad539ded",
   "metadata": {},
   "outputs": [
    {
     "name": "stdout",
     "output_type": "stream",
     "text": [
      "/home/mount/project\n"
     ]
    }
   ],
   "source": [
    "cat ${FD_LOG}/test.txt"
   ]
  },
  {
   "cell_type": "markdown",
   "id": "2ccc42b1-1703-43e6-89e9-a309a6aaa345",
   "metadata": {},
   "source": [
    "## On HARDAC"
   ]
  },
  {
   "cell_type": "code",
   "execution_count": 1,
   "id": "1be2a922-0cf5-47da-85a9-b3f5d8045660",
   "metadata": {},
   "outputs": [
    {
     "name": "stdout",
     "output_type": "stream",
     "text": [
      "You are on Duke Server: HARDAC\n",
      "BASE DIRECTORY:     /gpfs/fs1/data/reddylab/Kuei\n",
      "PATH OF SOURCE:     /gpfs/fs1/data/reddylab/Kuei/source\n",
      "PATH OF EXECUTABLE: /gpfs/fs1/data/reddylab/Kuei/exe\n",
      "PATH OF ANNOTATION: /gpfs/fs1/data/reddylab/Kuei/annotation\n",
      "PATH OF PROJECT:    /gpfs/fs1/data/reddylab/Kuei/GitRepo/Proj_CombEffect_STARRseq/notebooks\n",
      "PATH OF RESULTS:    /gpfs/fs1/data/reddylab/Kuei/out/proj_combeffect\n",
      "\n"
     ]
    }
   ],
   "source": [
    "source ../config_duke.sh -v"
   ]
  },
  {
   "cell_type": "code",
   "execution_count": 2,
   "id": "8e874956-9b08-4e2c-8f3f-230ba5fc8b3f",
   "metadata": {},
   "outputs": [
    {
     "name": "stdout",
     "output_type": "stream",
     "text": [
      "\u001b[0m\u001b[38;5;27mhome\u001b[0m                             singularity_tensorflow_scratch.sif\n",
      "singularity-example.sif          \u001b[38;5;34msingularity_test.sif\u001b[0m\n",
      "\u001b[38;5;34msingularity_proj_combeffect.sif\u001b[0m  \u001b[38;5;34msingularity_tidyverse_scratch.sif\u001b[0m\n",
      "\u001b[38;5;34msingularity_scipy_scratch.sif\u001b[0m    \u001b[38;5;34msingularity_tidyverse.sif\u001b[0m\n"
     ]
    }
   ],
   "source": [
    "ls ${FD_SING}"
   ]
  },
  {
   "cell_type": "code",
   "execution_count": 3,
   "id": "b284fe00-f7f9-448e-9454-ad3d26de764e",
   "metadata": {},
   "outputs": [
    {
     "name": "stdout",
     "output_type": "stream",
     "text": [
      "config_proj_combeffect.sh  Kuei\t\t     monitor.sh  Rlibs\t  tmp\n",
      "config.R\t\t   module_avail.txt  reddylab\t scratch  watching.sh\n"
     ]
    }
   ],
   "source": [
    "singularity exec ${FD_SING}/singularity_proj_combeffect.sif ls"
   ]
  },
  {
   "cell_type": "code",
   "execution_count": 4,
   "id": "d2386553-ef77-43e5-b51e-959eb6ecfabb",
   "metadata": {},
   "outputs": [
    {
     "name": "stdout",
     "output_type": "stream",
     "text": [
      "bin   environment  lib\t  mnt\t proc  sbin\t    srv  usr\n",
      "boot  etc\t   lib64  mount  root  scif\t    sys  var\n",
      "dev   home\t   media  opt\t run   singularity  tmp\n"
     ]
    }
   ],
   "source": [
    "singularity exec ${FD_SING}/singularity_proj_combeffect.sif ls /"
   ]
  },
  {
   "cell_type": "code",
   "execution_count": 5,
   "id": "6ee29b8c-0d51-49c4-b19f-6b051c9f57cf",
   "metadata": {},
   "outputs": [
    {
     "name": "stdout",
     "output_type": "stream",
     "text": [
      "total 16K\n",
      "drwsrwsr-x  9 jovyan users      188 Jun 15  2020 jovyan\n",
      "drwxr-xr-x 20 kk319  dukeusers 8.0K Jan 27 14:54 kk319\n"
     ]
    }
   ],
   "source": [
    "singularity exec ${FD_SING}/singularity_proj_combeffect.sif ls -lh /home"
   ]
  },
  {
   "cell_type": "markdown",
   "id": "648b2426-2eae-4f94-8800-ad88ae288c4a",
   "metadata": {},
   "source": [
    "### Binding"
   ]
  },
  {
   "cell_type": "code",
   "execution_count": 7,
   "id": "3fe69172-4252-49bf-9299-bf6a2b844f75",
   "metadata": {},
   "outputs": [
    {
     "name": "stdout",
     "output_type": "stream",
     "text": [
      "test.py  test_py.ipynb\ttest_server.ipynb  test_singularity.ipynb\n"
     ]
    }
   ],
   "source": [
    "singularity exec \\\n",
    "    -H ${PWD}:/home \\\n",
    "    -B ${FD_WORK}:/mount/work \\\n",
    "    -B ${FD_PRJ}:/mount/project \\\n",
    "    -B ${FD_RLAB}:/mount/reddylab \\\n",
    "    ${FD_SING}/singularity_proj_combeffect.sif ls"
   ]
  },
  {
   "cell_type": "code",
   "execution_count": 9,
   "id": "0d419100-40e4-4125-a71c-148fc3dd56df",
   "metadata": {},
   "outputs": [
    {
     "name": "stdout",
     "output_type": "stream",
     "text": [
      "annotation  exe  GitRepo  out  singularity  source  source_old\tvenv\n"
     ]
    }
   ],
   "source": [
    "singularity exec \\\n",
    "    -H ${PWD}:/home \\\n",
    "    -B ${FD_WORK}:/mount/work \\\n",
    "    -B ${FD_PRJ}:/mount/project \\\n",
    "    -B ${FD_RLAB}:/mount/reddylab \\\n",
    "    ${FD_SING}/singularity_proj_combeffect.sif ls /mount/work"
   ]
  },
  {
   "cell_type": "markdown",
   "id": "5642f5a3-46b7-441f-8f11-2b3106dc53b1",
   "metadata": {},
   "source": [
    "### Home folder"
   ]
  },
  {
   "cell_type": "code",
   "execution_count": 24,
   "id": "6083ddbd-9878-4543-91db-c4c8f920905c",
   "metadata": {},
   "outputs": [
    {
     "name": "stdout",
     "output_type": "stream",
     "text": [
      "/gpfs/fs1/data/reddylab/Kuei/singularity/home\n"
     ]
    }
   ],
   "source": [
    "FD_HOME=${FD_SING}/home\n",
    "echo ${FD_HOME}"
   ]
  },
  {
   "cell_type": "code",
   "execution_count": 25,
   "id": "499033f1-cdc4-4ce5-a772-9ea167f67231",
   "metadata": {},
   "outputs": [
    {
     "name": "stdout",
     "output_type": "stream",
     "text": [
      "GitRepo  hist.pickle  jovyan  mount  reddylab  temp  work\n"
     ]
    }
   ],
   "source": [
    "singularity exec \\\n",
    "    -H ${FD_HOME}:/home \\\n",
    "    -B ${FD_WORK}:/mount/work \\\n",
    "    -B ${FD_PRJ}:/mount/project \\\n",
    "    -B ${FD_RLAB}:/mount/reddylab \\\n",
    "    ${FD_SING}/singularity_proj_combeffect.sif ls"
   ]
  },
  {
   "cell_type": "markdown",
   "id": "94268c53-0df6-4525-bead-717894534f2d",
   "metadata": {},
   "source": [
    "### Create Mounting folder"
   ]
  },
  {
   "cell_type": "code",
   "execution_count": 20,
   "id": "882f93ec-89eb-45ff-a9e3-f18a818e6e4e",
   "metadata": {},
   "outputs": [
    {
     "name": "stdout",
     "output_type": "stream",
     "text": [
      "\u001b[0m\u001b[38;5;27mGitRepo\u001b[0m  hist.pickle  \u001b[38;5;27mjovyan\u001b[0m  \u001b[38;5;27mreddylab\u001b[0m  \u001b[38;5;27mtemp\u001b[0m  \u001b[38;5;27mwork\u001b[0m\n"
     ]
    }
   ],
   "source": [
    "ls ${FD_HOME}"
   ]
  },
  {
   "cell_type": "code",
   "execution_count": 21,
   "id": "39e9afb3-8554-4541-82d3-5a241870e959",
   "metadata": {},
   "outputs": [],
   "source": [
    "ln -s /mount ${FD_HOME}/mount"
   ]
  },
  {
   "cell_type": "code",
   "execution_count": 22,
   "id": "dab64f17-26af-4b7b-a835-67873680c1d6",
   "metadata": {},
   "outputs": [
    {
     "name": "stdout",
     "output_type": "stream",
     "text": [
      "\u001b[0m\u001b[38;5;27mGitRepo\u001b[0m  hist.pickle  \u001b[38;5;27mjovyan\u001b[0m  \u001b[48;5;232;38;5;9mmount\u001b[0m  \u001b[38;5;27mreddylab\u001b[0m  \u001b[38;5;27mtemp\u001b[0m  \u001b[38;5;27mwork\u001b[0m\n"
     ]
    }
   ],
   "source": [
    "ls ${FD_HOME}"
   ]
  },
  {
   "cell_type": "code",
   "execution_count": 23,
   "id": "61869ee0-1d98-4cc6-a3da-767e232d3de9",
   "metadata": {},
   "outputs": [
    {
     "name": "stdout",
     "output_type": "stream",
     "text": [
      "\u001b[0m\u001b[48;5;232;38;5;9m/gpfs/fs1/data/reddylab/Kuei/singularity/home/mount\u001b[0m\n"
     ]
    }
   ],
   "source": [
    "ls ${FD_HOME}/mount"
   ]
  },
  {
   "cell_type": "markdown",
   "id": "702a285a-3eb6-4b54-acd6-b684201074dd",
   "metadata": {},
   "source": [
    "**Test if the mount folder works within the singularity**"
   ]
  },
  {
   "cell_type": "code",
   "execution_count": 26,
   "id": "172acd3a-fcb8-4bfd-adc5-6b3e4759a26a",
   "metadata": {},
   "outputs": [
    {
     "name": "stdout",
     "output_type": "stream",
     "text": [
      "GitRepo  hist.pickle  jovyan  mount  reddylab  temp  work\n"
     ]
    }
   ],
   "source": [
    "singularity exec \\\n",
    "    -H ${FD_HOME}:/home \\\n",
    "    -B ${FD_WORK}:/mount/work \\\n",
    "    -B ${FD_PRJ}:/mount/project \\\n",
    "    -B ${FD_RLAB}:/mount/reddylab \\\n",
    "    ${FD_SING}/singularity_proj_combeffect.sif ls"
   ]
  },
  {
   "cell_type": "markdown",
   "id": "751dafea-a754-464e-9a75-193fd19a021d",
   "metadata": {},
   "source": [
    "**The softlink works**"
   ]
  },
  {
   "cell_type": "code",
   "execution_count": 28,
   "id": "1cc0af44-8d5d-46be-98a8-0c0674399ca4",
   "metadata": {},
   "outputs": [
    {
     "name": "stdout",
     "output_type": "stream",
     "text": [
      "project  reddylab  work\n"
     ]
    }
   ],
   "source": [
    "singularity exec \\\n",
    "    -H ${FD_HOME}:/home \\\n",
    "    -B ${FD_WORK}:/mount/work \\\n",
    "    -B ${FD_PRJ}:/mount/project \\\n",
    "    -B ${FD_RLAB}:/mount/reddylab \\\n",
    "    ${FD_SING}/singularity_proj_combeffect.sif ls ./mount"
   ]
  },
  {
   "cell_type": "markdown",
   "id": "c872a8c4-7458-42bc-9eeb-64b5f11b875c",
   "metadata": {},
   "source": [
    "**Correctly loaded**"
   ]
  },
  {
   "cell_type": "code",
   "execution_count": 29,
   "id": "9192f11b-110f-43bc-8eef-8f8121f93ab9",
   "metadata": {},
   "outputs": [
    {
     "name": "stdout",
     "output_type": "stream",
     "text": [
      "annotation  exe  GitRepo  out  singularity  source  source_old\tvenv\n"
     ]
    }
   ],
   "source": [
    "singularity exec \\\n",
    "    -H ${FD_HOME}:/home \\\n",
    "    -B ${FD_WORK}:/mount/work \\\n",
    "    -B ${FD_PRJ}:/mount/project \\\n",
    "    -B ${FD_RLAB}:/mount/reddylab \\\n",
    "    ${FD_SING}/singularity_proj_combeffect.sif ls ./mount/work"
   ]
  },
  {
   "cell_type": "code",
   "execution_count": null,
   "id": "1182756e-b9ea-4104-bfb5-ca495275ca8f",
   "metadata": {},
   "outputs": [],
   "source": []
  },
  {
   "cell_type": "code",
   "execution_count": null,
   "id": "ef897383-e096-4cdd-820d-a2babbdae91e",
   "metadata": {},
   "outputs": [],
   "source": []
  },
  {
   "cell_type": "code",
   "execution_count": null,
   "id": "fb3dbaac-85ec-4d62-b704-5bedde612e2e",
   "metadata": {},
   "outputs": [],
   "source": []
  },
  {
   "cell_type": "code",
   "execution_count": null,
   "id": "47f0a02f-cc90-4031-bcbc-a3ac9253f93f",
   "metadata": {},
   "outputs": [],
   "source": []
  },
  {
   "cell_type": "code",
   "execution_count": 1,
   "id": "39257ec2-682f-43a2-969c-f0423be02d36",
   "metadata": {},
   "outputs": [
    {
     "name": "stdout",
     "output_type": "stream",
     "text": [
      "You are on Duke Server: HARDAC\n",
      "BASE DIRECTORY:     /gpfs/fs1/data/reddylab/Kuei\n",
      "PATH OF SOURCE:     /gpfs/fs1/data/reddylab/Kuei/source\n",
      "PATH OF EXECUTABLE: /gpfs/fs1/data/reddylab/Kuei/exe\n",
      "PATH OF ANNOTATION: /gpfs/fs1/data/reddylab/Kuei/annotation\n",
      "PATH OF PROJECT:    /gpfs/fs1/data/reddylab/Kuei/GitRepo/Proj_CombEffect_STARRseq/notebooks\n",
      "PATH OF RESULTS:    /gpfs/fs1/data/reddylab/Kuei/out/proj_combeffect\n",
      "\n"
     ]
    }
   ],
   "source": [
    "source ../config_duke.sh -v"
   ]
  },
  {
   "cell_type": "code",
   "execution_count": 4,
   "id": "5379c582-6ef1-4eb2-9f79-72a59def5731",
   "metadata": {},
   "outputs": [
    {
     "name": "stdout",
     "output_type": "stream",
     "text": [
      "\u001b[0m\u001b[38;5;27mhome\u001b[0m                             singularity_tensorflow_scratch.sif\n",
      "singularity-example.sif          \u001b[38;5;34msingularity_test.sif\u001b[0m\n",
      "\u001b[38;5;34msingularity_proj_combeffect.sif\u001b[0m  \u001b[38;5;34msingularity_tidyverse_scratch.sif\u001b[0m\n",
      "\u001b[38;5;34msingularity_scipy_scratch.sif\u001b[0m    \u001b[38;5;34msingularity_tidyverse.sif\u001b[0m\n"
     ]
    }
   ],
   "source": [
    "ls $FD_SING"
   ]
  },
  {
   "cell_type": "code",
   "execution_count": null,
   "id": "1676e641-bcb8-4e0d-8356-3094b158afa4",
   "metadata": {},
   "outputs": [],
   "source": []
  },
  {
   "cell_type": "code",
   "execution_count": 12,
   "id": "02e2ec9c-bc7e-4c40-aba1-b7b921272cc8",
   "metadata": {},
   "outputs": [
    {
     "name": "stdout",
     "output_type": "stream",
     "text": [
      "You are on Duke Server: DCC\n",
      "BASE DIRECTORY:     /work/kk319\n",
      "PATH OF SOURCE:     /work/kk319/source\n",
      "PATH OF EXECUTABLE: /work/kk319/exe\n",
      "PATH OF ANNOTATION: /work/kk319/annotation\n",
      "PATH OF PROJECT:    /hpc/home/kk319/GitRepo/Proj_CombEffect_STARRseq/notebooks\n",
      "PATH OF RESULTS:    /work/kk319/out/CombEffect_STARR\n",
      "\n"
     ]
    }
   ],
   "source": [
    "source ../config_duke.sh -v"
   ]
  },
  {
   "cell_type": "code",
   "execution_count": 13,
   "id": "a9e31827-4229-47c7-beb5-e46a7f883472",
   "metadata": {},
   "outputs": [],
   "source": [
    "source ../config_duke.sh"
   ]
  },
  {
   "cell_type": "code",
   "execution_count": 14,
   "id": "5def01cc-6441-4c83-a6b9-abd58dae04b0",
   "metadata": {},
   "outputs": [
    {
     "name": "stdout",
     "output_type": "stream",
     "text": [
      "TARGET: 9\n"
     ]
    }
   ],
   "source": [
    "../test_getopt.sh -t 9"
   ]
  },
  {
   "cell_type": "code",
   "execution_count": 16,
   "id": "06e9da23-3ab8-42e8-87bb-33f12f975b51",
   "metadata": {},
   "outputs": [
    {
     "name": "stdout",
     "output_type": "stream",
     "text": [
      "N_PORT: 9000\n"
     ]
    }
   ],
   "source": [
    "../jupyter_proj_combeffect.sh -p 9000"
   ]
  },
  {
   "cell_type": "code",
   "execution_count": 21,
   "id": "27bbc0fc-d5ef-4fc3-8d22-a430a730eb8c",
   "metadata": {},
   "outputs": [
    {
     "name": "stdout",
     "output_type": "stream",
     "text": [
      "You are on Duke Server: DCC\n",
      "BASE DIRECTORY:     /work/kk319\n",
      "PATH OF SOURCE:     /work/kk319/source\n",
      "PATH OF EXECUTABLE: /work/kk319/exe\n",
      "PATH OF ANNOTATION: /work/kk319/annotation\n",
      "PATH OF PROJECT:    /hpc/home/kk319/GitRepo/Proj_CombEffect_STARRseq/notebooks\n",
      "PATH OF RESULTS:    /work/kk319/out/CombEffect_STARR\n",
      "\n"
     ]
    }
   ],
   "source": [
    "source ../config_duke.sh -v"
   ]
  },
  {
   "cell_type": "code",
   "execution_count": 22,
   "id": "25724472-4ce5-4089-a543-197704d97615",
   "metadata": {},
   "outputs": [],
   "source": [
    "source ../config_duke.sh"
   ]
  },
  {
   "cell_type": "code",
   "execution_count": 9,
   "id": "039c6b5c-d8db-4cba-a78c-0a16fe09b7fe",
   "metadata": {},
   "outputs": [
    {
     "name": "stdout",
     "output_type": "stream",
     "text": [
      "01_extract_STARRseq_file.ipynb  03_merge_chrom.ipynb    12_plot_frag.ipynb\n",
      "02_split_chrom.ipynb            11_plot_frag_len.ipynb  test_singularity.ipynb\n"
     ]
    }
   ],
   "source": [
    "ls ${FD_WRK}"
   ]
  },
  {
   "cell_type": "code",
   "execution_count": 11,
   "id": "2825ca13-2e2d-4aee-b921-fe633a75fd22",
   "metadata": {},
   "outputs": [
    {
     "name": "stdout",
     "output_type": "stream",
     "text": [
      "You are on Duke Server: DCC\n",
      "BASE DIRECTORY:     /work/kk319\n",
      "PATH OF SOURCE:     /work/kk319/source\n",
      "PATH OF EXECUTABLE: /work/kk319/exe\n",
      "PATH OF ANNOTATION: /work/kk319/annotation\n",
      "PATH OF PROJECT:    /hpc/home/kk319/GitRepo/Proj_CombEffect_STARRseq/notebooks\n",
      "PATH OF RESULTS:    /work/kk319/out/CombEffect_STARR\n",
      "\n",
      "01_extract_STARRseq_file.ipynb\t11_plot_frag_len.ipynb\ttest_singularity.ipynb\n",
      "02_split_chrom.ipynb\t\t12_plot_frag.ipynb\n",
      "03_merge_chrom.ipynb\t\tmount\n"
     ]
    }
   ],
   "source": [
    "${FD_PRJ}/sing_proj_combeffect.sh ls"
   ]
  },
  {
   "cell_type": "code",
   "execution_count": 14,
   "id": "f9dbdb3d-7664-440e-9451-79422dcdb950",
   "metadata": {},
   "outputs": [
    {
     "name": "stdout",
     "output_type": "stream",
     "text": [
      "You are on Duke Server: DCC\n",
      "BASE DIRECTORY:     /work/kk319\n",
      "PATH OF SOURCE:     /work/kk319/source\n",
      "PATH OF EXECUTABLE: /work/kk319/exe\n",
      "PATH OF ANNOTATION: /work/kk319/annotation\n",
      "PATH OF PROJECT:    /hpc/home/kk319/GitRepo/Proj_CombEffect_STARRseq/notebooks\n",
      "PATH OF RESULTS:    /work/kk319/out/CombEffect_STARR\n",
      "\n",
      "project  reddylab  work\n"
     ]
    }
   ],
   "source": [
    "${FD_PRJ}/sing_proj_combeffect.sh ls ./mount"
   ]
  },
  {
   "cell_type": "code",
   "execution_count": 12,
   "id": "0b838d9d-3e1d-4a5e-993b-2f65e59a88ea",
   "metadata": {},
   "outputs": [
    {
     "name": "stdout",
     "output_type": "stream",
     "text": [
      "You are on Duke Server: DCC\n",
      "BASE DIRECTORY:     /work/kk319\n",
      "PATH OF SOURCE:     /work/kk319/source\n",
      "PATH OF EXECUTABLE: /work/kk319/exe\n",
      "PATH OF ANNOTATION: /work/kk319/annotation\n",
      "PATH OF PROJECT:    /hpc/home/kk319/GitRepo/Proj_CombEffect_STARRseq/notebooks\n",
      "PATH OF RESULTS:    /work/kk319/out/CombEffect_STARR\n",
      "\n",
      "Python 3.7.6\n",
      "R scripting front-end version 4.1.1 (2021-08-10)\n"
     ]
    }
   ],
   "source": [
    "${FD_PRJ}/sing_proj_combeffect.sh bash << 'EOF'\n",
    "python --version\n",
    "Rscript --version\n",
    "EOF"
   ]
  },
  {
   "cell_type": "code",
   "execution_count": 17,
   "id": "84f287e1-1021-4646-9f9e-091d0a48637d",
   "metadata": {
    "collapsed": true,
    "jupyter": {
     "outputs_hidden": true
    },
    "tags": []
   },
   "outputs": [
    {
     "name": "stdout",
     "output_type": "stream",
     "text": [
      "You are on Duke Server: DCC\n",
      "BASE DIRECTORY:     /work/kk319\n",
      "PATH OF SOURCE:     /work/kk319/source\n",
      "PATH OF EXECUTABLE: /work/kk319/exe\n",
      "PATH OF ANNOTATION: /work/kk319/annotation\n",
      "PATH OF PROJECT:    /hpc/home/kk319/GitRepo/Proj_CombEffect_STARRseq/notebooks\n",
      "PATH OF RESULTS:    /work/kk319/out/CombEffect_STARR\n",
      "\n",
      "You are within a singularity image\n",
      "BASE DIRECTORY:     /home/mount/work\n",
      "PATH OF SOURCE:     /home/mount/work/source\n",
      "PATH OF EXECUTABLE: /home/mount/work/exe\n",
      "PATH OF ANNOTATION: /home/mount/work/annotation\n",
      "PATH OF PROJECT:    /home/mount/project\n",
      "PATH OF RESULTS:    /home/mount/work/out/CombEffect_STARR\n",
      "\n",
      "annotation  exe  out  source\n",
      "+++++++++++++++++++++++\n",
      "CRADLE\tKuei  scarlett\n",
      "+++++++++++++++++++++++\n",
      "annotation_fragment  bedgraph\tcount_fragment\tcoverage  kmer\tmodel_linear\n",
      "annotation_segment   bootstrap\tcount_segment\tdata\t  log\tsource\n",
      "+++++++++++++++++++++++\n",
      "00_filepath_dcc.ipynb\n",
      "00_filepath.ipynb\n",
      "011_prep_split_merge_bed_chrom.ipynb\n",
      "012_prep_get_specific_chrom.ipynb\n",
      "01_prepare\n",
      "02_coverage\n",
      "02_prep_bed2bedgraph_chr17.ipynb\n",
      "03_prep_get_annot_jaspar.ipynb\n",
      "04_prep_split_annot_jaspar.ipynb\n",
      "05_prep_get_nonredundentTF.ipynb\n",
      "06_prep_split_chrom_nonredundentTF.ipynb\n",
      "071_prep_PER1_nonredundentTF.ipynb\n",
      "072_plot_PER1_nonredundentTF.ipynb\n",
      "081_prep_chr17_nonredundentTF.ipynb\n",
      "09_targets.ipynb\n",
      "112_fragment_count_chr17.ipynb\n",
      "11_fragment_count\n",
      "12_combine_count_merge_chr17.ipynb\n",
      "12_fragment_annotation\n",
      "131_combine_count_sep_chr17.ipynb\n",
      "132_plot_count_sep_chr17.ipynb\n",
      "133_mean_variance.ipynb\n",
      "134_fragment_correlation.ipynb\n",
      "141_fragment_annotation.ipynb\n",
      "142_fragment_annotation_nonredund.ipynb\n",
      "143_fragment_annotation_nonredund.ipynb\n",
      "14_fragment_count_prep_PER1.ipynb\n",
      "15_fragment_combine_annot.ipynb\n",
      "21_partition_generate_segments.ipynb\n",
      "21_sliding_count\n",
      "22_model_sliding\n",
      "22_plot_segments.ipynb\n",
      "23_segment_annotation_jaspar.ipynb\n",
      "24_combine_annot.ipynb\n",
      "25_connection_fragments_vs_segments.ipynb\n",
      "26_combine_counts.ipynb\n",
      "31_base_count.ipynb\n",
      "31_linear_model\n",
      "32_combine.ipynb\n",
      "33_combine_plot.ipynb\n",
      "41_kmer_generation.ipynb\n",
      "42_kmer_counts.ipynb\n",
      "43_kmer_combine_counts.ipynb\n",
      "441_vis_count.ipynb\n",
      "442_vis_mean_var.ipynb\n",
      "51_random_pairs.ipynb\n",
      "52_boostrap_reads.ipynb\n",
      "53_kmer_counts.ipynb\n",
      "54_combine_counts.ipynb\n",
      "61_simulated.ipynb\n",
      "62_model.ipynb\n",
      "63_results.ipynb\n",
      "A.bed\n",
      "annot_cistrome.ipynb\n",
      "annot_jaspar.ipynb\n",
      "config_duke.R\n",
      "config_duke.sh\n",
      "config_duke_tmp.sh\n",
      "config_func.sh\n",
      "config_load_module_bedtools.sh\n",
      "config.R\n",
      "config.sh\n",
      "config_sing.sh\n",
      "figure\n",
      "get_genome_hg38.ipynb\n",
      "input\n",
      "model_kmer_sim\n",
      "motif_NR20.bed\n",
      "README.md\n",
      "region_target.bed\n",
      "report_fragment_count_prep_PER1.ipynb\n",
      "shuf_with_seed.sh\n",
      "sing_proj_combeffect.sh\n",
      "splitBed.sh\n",
      "test_chrom.txt\n",
      "test_lines\n",
      "test_lines.txt\n",
      "test_loop_chrom.ipynb\n",
      "test_PER1_NR20.bed\n",
      "test_plot_bedgraph.ipynb\n",
      "test_pseudofragment.ipynb\n",
      "test_shuf.txt\n",
      "test_slidewindow.ipynb\n",
      "test_sort.bed\n",
      "test.txt\n",
      "test_unsort.bed\n",
      "tmp_annotation_fragment.ipynb\n",
      "tmp_annotation.ipynb\n",
      "tmp.bed\n",
      "tmp_library_size.ipynb\n",
      "tmp_sharpr2.ipynb\n"
     ]
    }
   ],
   "source": [
    "${FD_PRJ}/sing_proj_combeffect.sh bash << 'EOF'\n",
    "source ./mount/project/config_sing.sh\n",
    "ls ${FD_WORK}\n",
    "echo +++++++++++++++++++++++\n",
    "ls ${FD_RLAB}\n",
    "echo +++++++++++++++++++++++\n",
    "ls ${FD_RES}\n",
    "echo +++++++++++++++++++++++\n",
    "ls ${FD_PRJ}\n",
    "EOF"
   ]
  },
  {
   "cell_type": "code",
   "execution_count": null,
   "id": "17c00257-8b92-4f5e-a468-269e59f5ec11",
   "metadata": {},
   "outputs": [],
   "source": []
  }
 ],
 "metadata": {
  "kernelspec": {
   "display_name": "Bash",
   "language": "bash",
   "name": "bash"
  },
  "language_info": {
   "codemirror_mode": "shell",
   "file_extension": ".sh",
   "mimetype": "text/x-sh",
   "name": "bash"
  }
 },
 "nbformat": 4,
 "nbformat_minor": 5
}
