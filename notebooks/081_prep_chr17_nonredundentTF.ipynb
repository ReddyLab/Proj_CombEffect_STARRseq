{
 "cells": [
  {
   "cell_type": "markdown",
   "id": "7dc1a615-1b85-491c-ac09-5a50f59f6b8f",
   "metadata": {},
   "source": [
    "**Set environment**"
   ]
  },
  {
   "cell_type": "code",
   "execution_count": 1,
   "id": "efe44801-8d58-4748-948a-12337e1af22c",
   "metadata": {},
   "outputs": [
    {
     "name": "stdout",
     "output_type": "stream",
     "text": [
      "/work/kk319\n",
      "/work/kk319/out/CombEffect_STARR\n",
      "/work/kk319/out/CombEffect_STARR/log\n",
      "/work/kk319/source\n",
      "/work/kk319/annotation\n"
     ]
    }
   ],
   "source": [
    "source config.sh\n",
    "\n",
    "echo ${FD_BASE}\n",
    "echo ${FD_WRK}\n",
    "echo ${FD_LOG}\n",
    "echo ${FD_SRC}\n",
    "echo ${FD_ANN}"
   ]
  },
  {
   "cell_type": "markdown",
   "id": "d32cde63-7e5e-461f-a044-6defe6f2d7ad",
   "metadata": {},
   "source": [
    "## Get motif clusters for chromosome 17"
   ]
  },
  {
   "cell_type": "code",
   "execution_count": 11,
   "id": "83513bd6-ae15-4130-9782-683a1c96c7dc",
   "metadata": {
    "tags": []
   },
   "outputs": [
    {
     "name": "stdout",
     "output_type": "stream",
     "text": [
      "Submitted batch job 13803676\n"
     ]
    }
   ],
   "source": [
    "sbatch -p scavenger \\\n",
    "    --mem 8G \\\n",
    "    -o ${FD_LOG}/prep_annot_per1.txt \\\n",
    "    <<'EOF'\n",
    "#!/bin/bash\n",
    "### set directories & global variables\n",
    "source config.sh\n",
    "CHROM=chr17\n",
    "\n",
    "### init: set input and output file\n",
    "FD_ANN=${FD_BASE}/annotation/motif_cluster_jvierstra/hg38_archetype_motifs_v1\n",
    "FN_ANN=${CHROM}_rm_mouse.bed.gz\n",
    "\n",
    "mkdir -p ${FD_ANN}/${CHROM}\n",
    "zcat ${FD_ANN}/${FN_ANN} | cut -f4 | sort | uniq > ${FD_ANN}/${CHROM}/clusters.txt\n",
    "\n",
    "EOF"
   ]
  },
  {
   "cell_type": "code",
   "execution_count": 12,
   "id": "c9560305-8330-47bd-b401-c0e57ad08eec",
   "metadata": {},
   "outputs": [],
   "source": [
    "cat ${FD_LOG}/prep_annot_per1.txt"
   ]
  },
  {
   "cell_type": "code",
   "execution_count": 15,
   "id": "2efb21d9-0187-4a67-888e-cd93f570b81d",
   "metadata": {
    "collapsed": true,
    "jupyter": {
     "outputs_hidden": true
    },
    "tags": []
   },
   "outputs": [
    {
     "name": "stdout",
     "output_type": "stream",
     "text": [
      "     1\tAHR\n",
      "     2\tAIRE\n",
      "     3\tAP1/1\n",
      "     4\tAP1/2\n",
      "     5\tARI5A\n",
      "     6\tARI5B\n",
      "     7\tBATF\n",
      "     8\tBCL6/1\n",
      "     9\tBCL6/2\n",
      "    10\tCCAAT/CEBP\n",
      "    11\tCENBP\n",
      "    12\tCPEB1\n",
      "    13\tCREB/ATF/1\n",
      "    14\tCREB/ATF/2\n",
      "    15\tCREB/ATF/3\n",
      "    16\tCREB3/XBP1\n",
      "    17\tCTCF\n",
      "    18\tCUX/1\n",
      "    19\tCUX/2\n",
      "    20\tCUX/3\n",
      "    21\tDDIT3+CEBPA\n",
      "    22\tDMRT3\n",
      "    23\tE2F/1\n",
      "    24\tE2F/2\n",
      "    25\tE2F/3\n",
      "    26\tE2F/4\n",
      "    27\tEBF1\n",
      "    28\tEGR\n",
      "    29\tETS/1\n",
      "    30\tETS/2\n",
      "    31\tEVI1/MECOM\n",
      "    32\tEWSR1/FLI1\n",
      "    33\tEbox/CACCTG\n",
      "    34\tEbox/CACGTG/1\n",
      "    35\tEbox/CACGTG/2\n",
      "    36\tEbox/CAGATGG\n",
      "    37\tEbox/CAGCTG\n",
      "    38\tEbox/CATATG\n",
      "    39\tFEZF1\n",
      "    40\tFOX/1\n",
      "    41\tFOX/2\n",
      "    42\tFOX/3\n",
      "    43\tFOX/4\n",
      "    44\tFOX/5\n",
      "    45\tFOX/6\n",
      "    46\tFOX/7\n",
      "    47\tFOX/8\n",
      "    48\tFOX/9\n",
      "    49\tGATA\n",
      "    50\tGC-tract\n",
      "    51\tGCM\n",
      "    52\tGFI\n",
      "    53\tGLI\n",
      "    54\tGLIS\n",
      "    55\tGMEB2/1\n",
      "    56\tGMEB2/2\n",
      "    57\tGMEB2/3\n",
      "    58\tGRHL\n",
      "    59\tHAND1\n",
      "    60\tHD/1\n",
      "    61\tHD/10\n",
      "    62\tHD/11\n",
      "    63\tHD/12\n",
      "    64\tHD/13\n",
      "    65\tHD/14\n",
      "    66\tHD/15\n",
      "    67\tHD/16\n",
      "    68\tHD/17\n",
      "    69\tHD/18\n",
      "    70\tHD/19\n",
      "    71\tHD/2\n",
      "    72\tHD/20\n",
      "    73\tHD/21\n",
      "    74\tHD/22\n",
      "    75\tHD/23\n",
      "    76\tHD/24\n",
      "    77\tHD/25\n",
      "    78\tHD/3\n",
      "    79\tHD/4\n",
      "    80\tHD/5\n",
      "    81\tHD/6\n",
      "    82\tHD/7\n",
      "    83\tHD/8\n",
      "    84\tHD/9\n",
      "    85\tHEN1\n",
      "    86\tHIC/1\n",
      "    87\tHIC/2\n",
      "    88\tHIF\n",
      "    89\tHINFP1/1\n",
      "    90\tHINFP1/2\n",
      "    91\tHINFP1/3\n",
      "    92\tHLTF\n",
      "    93\tHOMEZ\n",
      "    94\tHSF\n",
      "    95\tHSFY2\n",
      "    96\tINSM1\n",
      "    97\tIRF/1\n",
      "    98\tIRF/2\n",
      "    99\tIRF/3\n",
      "   100\tIRF/4\n",
      "   101\tKAISO\n",
      "   102\tKLF/SP/1\n",
      "   103\tKLF/SP/2\n",
      "   104\tKLF/SP/3\n",
      "   105\tLEF1\n",
      "   106\tLIN54\n",
      "   107\tMAF\n",
      "   108\tMBD2\n",
      "   109\tMECP2\n",
      "   110\tMEF2\n",
      "   111\tMFZ1\n",
      "   112\tMIES\n",
      "   113\tMTF1\n",
      "   114\tMYB/1\n",
      "   115\tMYB/2\n",
      "   116\tMYB/3\n",
      "   117\tMYB/4\n",
      "   118\tMYB/5\n",
      "   119\tMZF1\n",
      "   120\tNFAC/2\n",
      "   121\tNFAT/1\n",
      "   122\tNFAT/2\n",
      "   123\tNFAT/3\n",
      "   124\tNFAT/4\n",
      "   125\tNFI/1\n",
      "   126\tNFI/2\n",
      "   127\tNFI/3\n",
      "   128\tNFKB/1\n",
      "   129\tNFKB/2\n",
      "   130\tNFKB/3\n",
      "   131\tNFY\n",
      "   132\tNR/1\n",
      "   133\tNR/10\n",
      "   134\tNR/11\n",
      "   135\tNR/12\n",
      "   136\tNR/13\n",
      "   137\tNR/14\n",
      "   138\tNR/15\n",
      "   139\tNR/16\n",
      "   140\tNR/17\n",
      "   141\tNR/18\n",
      "   142\tNR/19\n",
      "   143\tNR/2\n",
      "   144\tNR/20\n",
      "   145\tNR/3\n",
      "   146\tNR/4\n",
      "   147\tNR/5\n",
      "   148\tNR/6\n",
      "   149\tNR/7\n",
      "   150\tNR/8\n",
      "   151\tNR/9\n",
      "   152\tNR2E3\n",
      "   153\tNRF1\n",
      "   154\tOCT4+SOX2\n",
      "   155\tOSR2\n",
      "   156\tOVOL1\n",
      "   157\tP53-like/1\n",
      "   158\tPAX-halfsite\n",
      "   159\tPAX/1\n",
      "   160\tPAX/2\n",
      "   161\tPLAG1\n",
      "   162\tPOU/1\n",
      "   163\tPOU/2\n",
      "   164\tPOU/3\n",
      "   165\tPRDM1\n",
      "   166\tPRDM14\n",
      "   167\tPRDM4\n",
      "   168\tPROX1\n",
      "   169\tRBPJ\n",
      "   170\tREL-halfsite\n",
      "   171\tREST/NRSF\n",
      "   172\tRFX/1\n",
      "   173\tRFX/2\n",
      "   174\tRFX/3\n",
      "   175\tRUNX/1\n",
      "   176\tRUNX/2\n",
      "   177\tSCRT1\n",
      "   178\tSIX/1\n",
      "   179\tSIX/2\n",
      "   180\tSMAD\n",
      "   181\tSMARCA1\n",
      "   182\tSMARCA5\n",
      "   183\tSNAI2\n",
      "   184\tSOX/1\n",
      "   185\tSOX/2\n",
      "   186\tSOX/3\n",
      "   187\tSOX/4\n",
      "   188\tSOX/5\n",
      "   189\tSOX/6\n",
      "   190\tSOX/7\n",
      "   191\tSOX/8\n",
      "   192\tSPDEF/1\n",
      "   193\tSPDEF/2\n",
      "   194\tSPI\n",
      "   195\tSPZ1\n",
      "   196\tSREBF1\n",
      "   197\tSRF\n",
      "   198\tSTAT/1\n",
      "   199\tSTAT/2\n",
      "   200\tTATA\n",
      "   201\tTBX/1\n",
      "   202\tTBX/2\n",
      "   203\tTBX/3\n",
      "   204\tTBX/4\n",
      "   205\tTCF/LEF\n",
      "   206\tTEAD\n",
      "   207\tTFAP2/1\n",
      "   208\tTFAP2/2\n",
      "   209\tTFCP2\n",
      "   210\tTHAP1\n",
      "   211\tYY1\n",
      "   212\tZBED1\n",
      "   213\tZBTB14\n",
      "   214\tZBTB48\n",
      "   215\tZBTB49\n",
      "   216\tZBTB6\n",
      "   217\tZBTB7A\n",
      "   218\tZFN121\n",
      "   219\tZFX\n",
      "   220\tZIC\n",
      "   221\tZIC/2\n",
      "   222\tZIM3\n",
      "   223\tZKSCAN1\n",
      "   224\tZNF134\n",
      "   225\tZNF136\n",
      "   226\tZNF140\n",
      "   227\tZNF143\n",
      "   228\tZNF146\n",
      "   229\tZNF232\n",
      "   230\tZNF24\n",
      "   231\tZNF250\n",
      "   232\tZNF257\n",
      "   233\tZNF274\n",
      "   234\tZNF28\n",
      "   235\tZNF282\n",
      "   236\tZNF306\n",
      "   237\tZNF317\n",
      "   238\tZNF320\n",
      "   239\tZNF324\n",
      "   240\tZNF329\n",
      "   241\tZNF331\n",
      "   242\tZNF332\n",
      "   243\tZNF335\n",
      "   244\tZNF354\n",
      "   245\tZNF382\n",
      "   246\tZNF384/1\n",
      "   247\tZNF384/2\n",
      "   248\tZNF41\n",
      "   249\tZNF410\n",
      "   250\tZNF418\n",
      "   251\tZNF423\n",
      "   252\tZNF435\n",
      "   253\tZNF436\n",
      "   254\tZNF449\n",
      "   255\tZNF490\n",
      "   256\tZNF524\n",
      "   257\tZNF528\n",
      "   258\tZNF53\n",
      "   259\tZNF547\n",
      "   260\tZNF549\n",
      "   261\tZNF554\n",
      "   262\tZNF563\n",
      "   263\tZNF586\n",
      "   264\tZNF667\n",
      "   265\tZNF680\n",
      "   266\tZNF708\n",
      "   267\tZNF713\n",
      "   268\tZNF768\n",
      "   269\tZNF784\n",
      "   270\tZNF85\n",
      "   271\tZSCAN3\n",
      "   272\tZSCAN4\n"
     ]
    }
   ],
   "source": [
    "CHROM=chr17\n",
    "cat -n ${FD_ANN}/motif_cluster_jvierstra/hg38_archetype_motifs_v1/${CHROM}/clusters.txt"
   ]
  },
  {
   "cell_type": "markdown",
   "id": "69ee529b-fdf5-477b-b525-bd35ef64c36c",
   "metadata": {},
   "source": [
    "## Get specific line from file"
   ]
  },
  {
   "cell_type": "code",
   "execution_count": 54,
   "id": "4c1f8e93-29d4-42da-a969-5a5260407431",
   "metadata": {},
   "outputs": [
    {
     "name": "stdout",
     "output_type": "stream",
     "text": [
      "272 /work/kk319/annotation/motif_cluster_jvierstra/hg38_archetype_motifs_v1/chr17/clusters.txt\n"
     ]
    }
   ],
   "source": [
    "FD_MTF=${FD_ANN}/motif_cluster_jvierstra/hg38_archetype_motifs_v1\n",
    "FN_MTF=${CHROM}/clusters.txt\n",
    "N_LINE=$(wc -l ${FD_MTF}/${FN_MTF})\n",
    "echo $N_LINE"
   ]
  },
  {
   "cell_type": "code",
   "execution_count": 58,
   "id": "3cdbb970-8e81-41eb-a88e-e9f8d34a76c5",
   "metadata": {},
   "outputs": [
    {
     "name": "stdout",
     "output_type": "stream",
     "text": [
      "       AHR         AHR\n",
      "      AIRE        AIRE\n",
      "     AP1/1       AP1_1\n",
      "     AP1/2       AP1_2\n",
      "     ARI5A       ARI5A\n",
      "     ARI5B       ARI5B\n",
      "      BATF        BATF\n",
      "    BCL6/1      BCL6_1\n",
      "    BCL6/2      BCL6_2\n",
      "CCAAT/CEBP  CCAAT_CEBP\n"
     ]
    }
   ],
   "source": [
    "N_LINE=10\n",
    "for idx in $(seq 1 ${N_LINE}); do\n",
    "    MOTIF=$(awk \"NR==${idx}\" ${FD_MTF}/${FN_MTF})\n",
    "    FNAME=$(echo ${MOTIF} | sed -e 's/\\//_/g')\n",
    "    printf \"%+10s  %+10s\\n\" ${MOTIF} ${FNAME}\n",
    "done"
   ]
  },
  {
   "cell_type": "code",
   "execution_count": 27,
   "id": "9b94153c-63ac-4c8b-8e2a-d89b34042d4a",
   "metadata": {},
   "outputs": [
    {
     "name": "stdout",
     "output_type": "stream",
     "text": [
      "  KLF/SP/1    KLF_SP_1\n"
     ]
    }
   ],
   "source": [
    "FD_MTF=${FD_ANN}/motif_cluster_jvierstra/hg38_archetype_motifs_v1\n",
    "FN_MTF=${CHROM}/clusters.txt\n",
    "\n",
    "idx=102\n",
    "MOTIF=$(awk \"NR==${idx}\" ${FD_MTF}/${FN_MTF})\n",
    "FNAME=$(echo ${MOTIF} | sed -e 's/\\//_/g')\n",
    "printf \"%+10s  %+10s\\n\" ${MOTIF} ${FNAME}"
   ]
  },
  {
   "cell_type": "markdown",
   "id": "435858c0-00a3-4204-9aad-f02896c33497",
   "metadata": {},
   "source": [
    "## Test: Get a specific cluster"
   ]
  },
  {
   "cell_type": "code",
   "execution_count": 41,
   "id": "a96fbf40-f0aa-4932-b2fa-d203452b0e4a",
   "metadata": {},
   "outputs": [
    {
     "name": "stdout",
     "output_type": "stream",
     "text": [
      "chr17\t60004\t60022\tZNF140\t5.6897\t+\tZN140_HUMAN.H11MO.0.C\t1\n",
      "chr17\t60004\t60022\tZNF667\t8.0240\t-\tZN667_HUMAN.H11MO.0.C\t1\n",
      "chr17\t60006\t60015\tEbox/CAGCTG\t7.9275\t+\tMYOD1_HUMAN.H11MO.0.A\t1\n",
      "chr17\t60011\t60031\tGC-tract\t12.1220\t-\tZN341_HUMAN.H11MO.0.C\t1\n",
      "chr17\t60012\t60025\tPRDM4\t1.3083\t+\tPRDM4_C2H2_1\t1\n",
      "chr17\t60017\t60028\tNR/19\t9.6680\t-\tNR1D1_HUMAN.H11MO.0.B\t2\n",
      "chr17\t60019\t60035\tHEN1\t5.5854\t-\tHEN1_HUMAN.H11MO.0.C\t2\n",
      "chr17\t60023\t60042\tZNF680\t6.3901\t-\tZN680_HUMAN.H11MO.0.C\t1\n",
      "chr17\t60027\t60037\tSMARCA1\t7.5566\t-\tSMCA1_HUMAN.H11MO.0.C\t1\n",
      "chr17\t60027\t60040\tLEF1\t7.1402\t+\tZN350_HUMAN.H11MO.0.C\t1\n",
      "\n",
      "gzip: stdout: Broken pipe\n"
     ]
    }
   ],
   "source": [
    "FD_MTF=${FD_ANN}/motif_cluster_jvierstra/hg38_archetype_motifs_v1\n",
    "FN_BED=${CHROM}_rm_mouse.bed.gz\n",
    "zcat ${FD_MTF}/${FN_BED} | head"
   ]
  },
  {
   "cell_type": "markdown",
   "id": "fa629f21-9695-4d7d-ba88-13cdb16f69f2",
   "metadata": {},
   "source": [
    "**Get a TF cluster**"
   ]
  },
  {
   "cell_type": "code",
   "execution_count": 65,
   "id": "3f0dd447-b459-4669-8000-8ffc93812ef8",
   "metadata": {},
   "outputs": [
    {
     "name": "stdout",
     "output_type": "stream",
     "text": [
      "     AP1/1   AP1_1.bed\n"
     ]
    }
   ],
   "source": [
    "FD_MTF=${FD_ANN}/motif_cluster_jvierstra/hg38_archetype_motifs_v1\n",
    "FD_OUT=${FD_MTF}/${CHROM}\n",
    "\n",
    "idx=3\n",
    "MOTIF=$(awk \"NR==${idx}\" ${FD_OUT}/clusters.txt)\n",
    "FNAME=$(echo ${MOTIF} | sed -e 's/\\//_/g').bed\n",
    "printf \"%+10s  %+10s\\n\" ${MOTIF} ${FNAME}"
   ]
  },
  {
   "cell_type": "markdown",
   "id": "cd2b9657-baec-4b61-98e6-13657531a5c1",
   "metadata": {},
   "source": [
    "**Filteration**"
   ]
  },
  {
   "cell_type": "code",
   "execution_count": 43,
   "id": "58b87417-c22b-4715-9868-7d878b11debd",
   "metadata": {},
   "outputs": [
    {
     "name": "stdout",
     "output_type": "stream",
     "text": [
      "chr17\t61128\t61136\tAP1/1\t8.0116\t+\tFOSL2_MA0478.1\t7\n",
      "chr17\t63311\t63319\tAP1/1\t7.6561\t+\tFOSB_HUMAN.H11MO.0.A\t1\n",
      "chr17\t64199\t64207\tAP1/1\t7.6561\t+\tFOSB_HUMAN.H11MO.0.A\t1\n",
      "\n",
      "gzip: stdout: Broken pipe\n"
     ]
    }
   ],
   "source": [
    "zcat ${FD_MTF}/${FN_BED} | awk -F $'\\t' -v MOTIF=${MOTIF} '($4 == MOTIF)' | head -n 3"
   ]
  },
  {
   "cell_type": "code",
   "execution_count": 36,
   "id": "200a450e-c48d-4801-a9cd-296bb684c2ec",
   "metadata": {},
   "outputs": [
    {
     "name": "stdout",
     "output_type": "stream",
     "text": [
      "chr17\t83244956\t83244964\tAP1/1\t8.7514\t+\tFOSL2_MA0478.1\t4\n",
      "chr17\t83245146\t83245154\tAP1/1\t8.0219\t+\tJUND_MOUSE.H11MO.0.A\t7\n",
      "chr17\t83246154\t83246162\tAP1/1\t8.0580\t+\tBATF+JUN_MA0462.1\t1\n"
     ]
    }
   ],
   "source": [
    "zcat ${FD_MTF}/${FN_BED} | awk -F $'\\t' -v MOTIF=${MOTIF} '($4 == MOTIF)' | tail -n 3"
   ]
  },
  {
   "cell_type": "markdown",
   "id": "2fa949f0-be48-4c56-9644-2e7d2d576dec",
   "metadata": {},
   "source": [
    "**Merge**"
   ]
  },
  {
   "cell_type": "code",
   "execution_count": 39,
   "id": "f9a103fb-b403-4404-8896-d0472ae0c82f",
   "metadata": {},
   "outputs": [],
   "source": [
    "module load Bedtools"
   ]
  },
  {
   "cell_type": "code",
   "execution_count": 45,
   "id": "142721ba-8ac5-4b27-a0be-aba30a310bd7",
   "metadata": {},
   "outputs": [
    {
     "name": "stdout",
     "output_type": "stream",
     "text": [
      "chr17\t61128\t61136\tAP1/1\t8.0116\t+\tFOSL2_MA0478.1\t7\n",
      "chr17\t63311\t63319\tAP1/1\t7.6561\t+\tFOSB_HUMAN.H11MO.0.A\t1\n",
      "chr17\t64199\t64207\tAP1/1\t7.6561\t+\tFOSB_HUMAN.H11MO.0.A\t1\n",
      "chr17\t64443\t64451\tAP1/1\t7.6561\t+\tFOSB_HUMAN.H11MO.0.A\t1\n",
      "chr17\t64565\t64573\tAP1/1\t6.7321\t+\tNF2L1_HUMAN.H11MO.0.C\t2\n",
      "chr17\t64861\t64869\tAP1/1\t7.6561\t+\tFOSB_HUMAN.H11MO.0.A\t1\n",
      "chr17\t64924\t64932\tAP1/1\t7.6192\t+\tFOSB_HUMAN.H11MO.0.A\t1\n",
      "chr17\t65114\t65122\tAP1/1\t7.7391\t+\tFOSB_HUMAN.H11MO.0.A\t1\n",
      "chr17\t65375\t65383\tAP1/1\t7.6561\t+\tFOSB_HUMAN.H11MO.0.A\t1\n",
      "chr17\t65598\t65606\tAP1/1\t7.6561\t+\tFOSB_HUMAN.H11MO.0.A\t1\n",
      "chr17\t65662\t65670\tAP1/1\t6.7321\t+\tNF2L1_HUMAN.H11MO.0.C\t2\n",
      "chr17\t66600\t66608\tAP1/1\t7.9759\t-\tFOSL2_MA0478.1\t4\n",
      "chr17\t66806\t66814\tAP1/1\t7.7391\t+\tFOSB_HUMAN.H11MO.0.A\t1\n",
      "chr17\t67278\t67286\tAP1/1\t10.5413\t-\tFOS+JUND_MA1141.1\t36\n",
      "chr17\t67279\t67287\tAP1/1\t10.8902\t+\tJUND_MA0491.1\t22\n",
      "chr17\t67529\t67537\tAP1/1\t10.9282\t+\tJUND_MA0491.1\t20\n",
      "chr17\t67746\t67754\tAP1/1\t8.0116\t+\tFOSL2_MA0478.1\t6\n",
      "chr17\t67938\t67946\tAP1/1\t7.2284\t-\tFOS_MA0476.1\t1\n",
      "chr17\t69018\t69026\tAP1/1\t7.6561\t+\tFOSB_HUMAN.H11MO.0.A\t1\n",
      "chr17\t69082\t69090\tAP1/1\t6.7321\t+\tNF2L1_HUMAN.H11MO.0.C\t2\n",
      "\n",
      "gzip: stdout: Broken pipe\n"
     ]
    }
   ],
   "source": [
    "zcat ${FD_MTF}/${FN_BED} | awk -F $'\\t' -v MOTIF=${MOTIF} '($4 == MOTIF)' | head -n 20"
   ]
  },
  {
   "cell_type": "code",
   "execution_count": 49,
   "id": "08285fb5-43bb-4ce8-b0e5-277b4a06cbd1",
   "metadata": {
    "collapsed": true,
    "jupyter": {
     "outputs_hidden": true
    },
    "tags": []
   },
   "outputs": [
    {
     "name": "stdout",
     "output_type": "stream",
     "text": [
      "\n",
      "gzip: stdout: Broken pipe\n",
      "chr17     61128     61136     AP1/1     8.0116    +         FOSL2_MA0478.1\n",
      "chr17     63311     63319     AP1/1     7.6561    +         FOSB_HUMAN.H11MO.0.A\n",
      "chr17     64199     64207     AP1/1     7.6561    +         FOSB_HUMAN.H11MO.0.A\n",
      "chr17     64443     64451     AP1/1     7.6561    +         FOSB_HUMAN.H11MO.0.A\n",
      "chr17     64565     64573     AP1/1     6.7321    +         NF2L1_HUMAN.H11MO.0.C\n",
      "chr17     64861     64869     AP1/1     7.6561    +         FOSB_HUMAN.H11MO.0.A\n",
      "chr17     64924     64932     AP1/1     7.6192    +         FOSB_HUMAN.H11MO.0.A\n",
      "chr17     65114     65122     AP1/1     7.7391    +         FOSB_HUMAN.H11MO.0.A\n",
      "chr17     65375     65383     AP1/1     7.6561    +         FOSB_HUMAN.H11MO.0.A\n",
      "chr17     65598     65606     AP1/1     7.6561    +         FOSB_HUMAN.H11MO.0.A\n",
      "chr17     65662     65670     AP1/1     6.7321    +         NF2L1_HUMAN.H11MO.0.C\n",
      "chr17     66600     66608     AP1/1     7.9759    -         FOSL2_MA0478.1\n",
      "chr17     66806     66814     AP1/1     7.7391    +         FOSB_HUMAN.H11MO.0.A\n",
      "chr17     67278     67287     AP1/1     10.71575  +,-       FOS+JUND_MA1141.1,JUND_MA0491.1\n",
      "chr17     67529     67537     AP1/1     10.9282   +         JUND_MA0491.1\n",
      "chr17     67746     67754     AP1/1     8.0116    +         FOSL2_MA0478.1\n",
      "chr17     67938     67946     AP1/1     7.2284    -         FOS_MA0476.1\n",
      "chr17     69018     69026     AP1/1     7.6561    +         FOSB_HUMAN.H11MO.0.A\n",
      "chr17     69082     69090     AP1/1     6.7321    +         NF2L1_HUMAN.H11MO.0.C\n"
     ]
    }
   ],
   "source": [
    "zcat ${FD_MTF}/${FN_BED} | awk -F $'\\t' -v MOTIF=${MOTIF} '($4 == MOTIF)' | head -n 20 > tmp.bed\n",
    "bedtools merge -i tmp.bed -c 4,5,6,7 -o distinct,mean,distinct,distinct | expand -t 10"
   ]
  },
  {
   "cell_type": "code",
   "execution_count": 50,
   "id": "a8908822-201f-48be-8564-0ad278490fa3",
   "metadata": {
    "collapsed": true,
    "jupyter": {
     "outputs_hidden": true
    },
    "tags": []
   },
   "outputs": [
    {
     "name": "stdout",
     "output_type": "stream",
     "text": [
      "chr17     61128     61136     AP1/1     8.0116\n",
      "chr17     63311     63319     AP1/1     7.6561\n",
      "chr17     64199     64207     AP1/1     7.6561\n",
      "chr17     64443     64451     AP1/1     7.6561\n",
      "chr17     64565     64573     AP1/1     6.7321\n",
      "chr17     64861     64869     AP1/1     7.6561\n",
      "chr17     64924     64932     AP1/1     7.6192\n",
      "chr17     65114     65122     AP1/1     7.7391\n",
      "chr17     65375     65383     AP1/1     7.6561\n",
      "chr17     65598     65606     AP1/1     7.6561\n",
      "chr17     65662     65670     AP1/1     6.7321\n",
      "chr17     66600     66608     AP1/1     7.9759\n",
      "chr17     66806     66814     AP1/1     7.7391\n",
      "chr17     67278     67287     AP1/1     10.71575\n",
      "chr17     67529     67537     AP1/1     10.9282\n",
      "chr17     67746     67754     AP1/1     8.0116\n",
      "chr17     67938     67946     AP1/1     7.2284\n",
      "chr17     69018     69026     AP1/1     7.6561\n",
      "chr17     69082     69090     AP1/1     6.7321\n"
     ]
    }
   ],
   "source": [
    "bedtools merge -i tmp.bed -c 4,5 -o distinct,mean | expand -t 10"
   ]
  },
  {
   "cell_type": "markdown",
   "id": "1d6bfa53-be6a-4a3b-b420-e19d54703d37",
   "metadata": {},
   "source": [
    "## Run all motif clusters"
   ]
  },
  {
   "cell_type": "code",
   "execution_count": 66,
   "id": "6d7276a9-c497-45e8-af72-fac89ae9c6b9",
   "metadata": {},
   "outputs": [
    {
     "name": "stdout",
     "output_type": "stream",
     "text": [
      "Submitted batch job 13816563\n"
     ]
    }
   ],
   "source": [
    "sbatch -p scavenger \\\n",
    "    --mem 8G \\\n",
    "    -o ${FD_LOG}/prep_annot_chr17_merge.txt \\\n",
    "    <<'EOF'\n",
    "#!/bin/bash\n",
    "### set directories & global variables\n",
    "source config.sh\n",
    "CHROM=chr17\n",
    "\n",
    "### set input and output\n",
    "FD_MTF=${FD_ANN}/motif_cluster_jvierstra/hg38_archetype_motifs_v1\n",
    "FN_BED=${CHROM}_rm_mouse.bed.gz\n",
    "FD_OUT=${FD_MTF}/${CHROM}\n",
    "\n",
    "### loop through each motif cluster\n",
    "N_LINE=$(wc -l < ${FD_OUT}/clusters.txt)\n",
    "for idx in $(seq 1 ${N_LINE}); do\n",
    "    ### get motif and output filename\n",
    "    MOTIF=$(awk \"NR==${idx}\" ${FD_OUT}/clusters.txt)\n",
    "    FNAME=$(echo ${MOTIF} | sed -e 's/\\//_/g')\n",
    "    printf \"%+10s  %+10s\\n\" ${MOTIF} ${FNAME}\n",
    "    \n",
    "    ### filter and merge\n",
    "    zcat ${FD_MTF}/${FN_BED} | awk -F $'\\t' -v MOTIF=${MOTIF} '($4 == MOTIF)' > ${FD_OUT}/${FNAME}.bed\n",
    "    bedtools merge -i ${FD_OUT}/${FNAME}.bed -c 4,5 -o distinct,mean > ${FD_OUT}/${FNAME}_merge.bed\n",
    "done\n",
    "\n",
    "EOF"
   ]
  },
  {
   "cell_type": "code",
   "execution_count": 67,
   "id": "2d753cbc-3a8b-4e2e-81e6-c9d7c6c7beec",
   "metadata": {},
   "outputs": [
    {
     "name": "stdout",
     "output_type": "stream",
     "text": [
      "/work/kk319/out/CombEffect_STARR/log/prep_annot_chr17_merge.txt\n"
     ]
    }
   ],
   "source": [
    "ls ${FD_LOG}/prep_annot_chr17_merge.txt"
   ]
  },
  {
   "cell_type": "code",
   "execution_count": 73,
   "id": "9383a9c2-a551-48d4-b570-297e70262b63",
   "metadata": {},
   "outputs": [
    {
     "name": "stdout",
     "output_type": "stream",
     "text": [
      "272 /work/kk319/out/CombEffect_STARR/log/prep_annot_chr17_merge.txt\n"
     ]
    }
   ],
   "source": [
    "wc -l ${FD_LOG}/prep_annot_chr17_merge.txt"
   ]
  },
  {
   "cell_type": "code",
   "execution_count": 72,
   "id": "e8c71d5a-531d-4e82-af22-06dddf93777d",
   "metadata": {},
   "outputs": [
    {
     "name": "stdout",
     "output_type": "stream",
     "text": [
      "15G\t/work/kk319/annotation/motif_cluster_jvierstra/hg38_archetype_motifs_v1\n"
     ]
    }
   ],
   "source": [
    "du -sh $FD_MTF"
   ]
  },
  {
   "cell_type": "markdown",
   "id": "a4d4e539-284d-4290-88f1-93eb9a7a9117",
   "metadata": {},
   "source": [
    "## Combine clusters together"
   ]
  },
  {
   "cell_type": "code",
   "execution_count": 3,
   "id": "245408b1-81b2-4600-bb61-9058970c9101",
   "metadata": {
    "collapsed": true,
    "jupyter": {
     "outputs_hidden": true
    },
    "tags": []
   },
   "outputs": [
    {
     "name": "stdout",
     "output_type": "stream",
     "text": [
      "/work/kk319/annotation/motif_cluster_jvierstra/hg38_archetype_motifs_v1/chr17/AHR_merge.bed\n",
      "/work/kk319/annotation/motif_cluster_jvierstra/hg38_archetype_motifs_v1/chr17/AIRE_merge.bed\n",
      "/work/kk319/annotation/motif_cluster_jvierstra/hg38_archetype_motifs_v1/chr17/AP1_1_merge.bed\n",
      "/work/kk319/annotation/motif_cluster_jvierstra/hg38_archetype_motifs_v1/chr17/AP1_2_merge.bed\n",
      "/work/kk319/annotation/motif_cluster_jvierstra/hg38_archetype_motifs_v1/chr17/ARI5A_merge.bed\n",
      "/work/kk319/annotation/motif_cluster_jvierstra/hg38_archetype_motifs_v1/chr17/ARI5B_merge.bed\n",
      "/work/kk319/annotation/motif_cluster_jvierstra/hg38_archetype_motifs_v1/chr17/BATF_merge.bed\n",
      "/work/kk319/annotation/motif_cluster_jvierstra/hg38_archetype_motifs_v1/chr17/BCL6_1_merge.bed\n",
      "/work/kk319/annotation/motif_cluster_jvierstra/hg38_archetype_motifs_v1/chr17/BCL6_2_merge.bed\n",
      "/work/kk319/annotation/motif_cluster_jvierstra/hg38_archetype_motifs_v1/chr17/CCAAT_CEBP_merge.bed\n",
      "/work/kk319/annotation/motif_cluster_jvierstra/hg38_archetype_motifs_v1/chr17/CENBP_merge.bed\n",
      "/work/kk319/annotation/motif_cluster_jvierstra/hg38_archetype_motifs_v1/chr17/CPEB1_merge.bed\n",
      "/work/kk319/annotation/motif_cluster_jvierstra/hg38_archetype_motifs_v1/chr17/CREB3_XBP1_merge.bed\n",
      "/work/kk319/annotation/motif_cluster_jvierstra/hg38_archetype_motifs_v1/chr17/CREB_ATF_1_merge.bed\n",
      "/work/kk319/annotation/motif_cluster_jvierstra/hg38_archetype_motifs_v1/chr17/CREB_ATF_2_merge.bed\n",
      "/work/kk319/annotation/motif_cluster_jvierstra/hg38_archetype_motifs_v1/chr17/CREB_ATF_3_merge.bed\n",
      "/work/kk319/annotation/motif_cluster_jvierstra/hg38_archetype_motifs_v1/chr17/CTCF_merge.bed\n",
      "/work/kk319/annotation/motif_cluster_jvierstra/hg38_archetype_motifs_v1/chr17/CUX_1_merge.bed\n",
      "/work/kk319/annotation/motif_cluster_jvierstra/hg38_archetype_motifs_v1/chr17/CUX_2_merge.bed\n",
      "/work/kk319/annotation/motif_cluster_jvierstra/hg38_archetype_motifs_v1/chr17/CUX_3_merge.bed\n",
      "/work/kk319/annotation/motif_cluster_jvierstra/hg38_archetype_motifs_v1/chr17/DDIT3+CEBPA_merge.bed\n",
      "/work/kk319/annotation/motif_cluster_jvierstra/hg38_archetype_motifs_v1/chr17/DMRT3_merge.bed\n",
      "/work/kk319/annotation/motif_cluster_jvierstra/hg38_archetype_motifs_v1/chr17/E2F_1_merge.bed\n",
      "/work/kk319/annotation/motif_cluster_jvierstra/hg38_archetype_motifs_v1/chr17/E2F_2_merge.bed\n",
      "/work/kk319/annotation/motif_cluster_jvierstra/hg38_archetype_motifs_v1/chr17/E2F_3_merge.bed\n",
      "/work/kk319/annotation/motif_cluster_jvierstra/hg38_archetype_motifs_v1/chr17/E2F_4_merge.bed\n",
      "/work/kk319/annotation/motif_cluster_jvierstra/hg38_archetype_motifs_v1/chr17/EBF1_merge.bed\n",
      "/work/kk319/annotation/motif_cluster_jvierstra/hg38_archetype_motifs_v1/chr17/EGR_merge.bed\n",
      "/work/kk319/annotation/motif_cluster_jvierstra/hg38_archetype_motifs_v1/chr17/ETS_1_merge.bed\n",
      "/work/kk319/annotation/motif_cluster_jvierstra/hg38_archetype_motifs_v1/chr17/ETS_2_merge.bed\n",
      "/work/kk319/annotation/motif_cluster_jvierstra/hg38_archetype_motifs_v1/chr17/EVI1_MECOM_merge.bed\n",
      "/work/kk319/annotation/motif_cluster_jvierstra/hg38_archetype_motifs_v1/chr17/EWSR1_FLI1_merge.bed\n",
      "/work/kk319/annotation/motif_cluster_jvierstra/hg38_archetype_motifs_v1/chr17/Ebox_CACCTG_merge.bed\n",
      "/work/kk319/annotation/motif_cluster_jvierstra/hg38_archetype_motifs_v1/chr17/Ebox_CACGTG_1_merge.bed\n",
      "/work/kk319/annotation/motif_cluster_jvierstra/hg38_archetype_motifs_v1/chr17/Ebox_CACGTG_2_merge.bed\n",
      "/work/kk319/annotation/motif_cluster_jvierstra/hg38_archetype_motifs_v1/chr17/Ebox_CAGATGG_merge.bed\n",
      "/work/kk319/annotation/motif_cluster_jvierstra/hg38_archetype_motifs_v1/chr17/Ebox_CAGCTG_merge.bed\n",
      "/work/kk319/annotation/motif_cluster_jvierstra/hg38_archetype_motifs_v1/chr17/Ebox_CATATG_merge.bed\n",
      "/work/kk319/annotation/motif_cluster_jvierstra/hg38_archetype_motifs_v1/chr17/FEZF1_merge.bed\n",
      "/work/kk319/annotation/motif_cluster_jvierstra/hg38_archetype_motifs_v1/chr17/FOX_1_merge.bed\n",
      "/work/kk319/annotation/motif_cluster_jvierstra/hg38_archetype_motifs_v1/chr17/FOX_2_merge.bed\n",
      "/work/kk319/annotation/motif_cluster_jvierstra/hg38_archetype_motifs_v1/chr17/FOX_3_merge.bed\n",
      "/work/kk319/annotation/motif_cluster_jvierstra/hg38_archetype_motifs_v1/chr17/FOX_4_merge.bed\n",
      "/work/kk319/annotation/motif_cluster_jvierstra/hg38_archetype_motifs_v1/chr17/FOX_5_merge.bed\n",
      "/work/kk319/annotation/motif_cluster_jvierstra/hg38_archetype_motifs_v1/chr17/FOX_6_merge.bed\n",
      "/work/kk319/annotation/motif_cluster_jvierstra/hg38_archetype_motifs_v1/chr17/FOX_7_merge.bed\n",
      "/work/kk319/annotation/motif_cluster_jvierstra/hg38_archetype_motifs_v1/chr17/FOX_8_merge.bed\n",
      "/work/kk319/annotation/motif_cluster_jvierstra/hg38_archetype_motifs_v1/chr17/FOX_9_merge.bed\n",
      "/work/kk319/annotation/motif_cluster_jvierstra/hg38_archetype_motifs_v1/chr17/GATA_merge.bed\n",
      "/work/kk319/annotation/motif_cluster_jvierstra/hg38_archetype_motifs_v1/chr17/GC-tract_merge.bed\n",
      "/work/kk319/annotation/motif_cluster_jvierstra/hg38_archetype_motifs_v1/chr17/GCM_merge.bed\n",
      "/work/kk319/annotation/motif_cluster_jvierstra/hg38_archetype_motifs_v1/chr17/GFI_merge.bed\n",
      "/work/kk319/annotation/motif_cluster_jvierstra/hg38_archetype_motifs_v1/chr17/GLIS_merge.bed\n",
      "/work/kk319/annotation/motif_cluster_jvierstra/hg38_archetype_motifs_v1/chr17/GLI_merge.bed\n",
      "/work/kk319/annotation/motif_cluster_jvierstra/hg38_archetype_motifs_v1/chr17/GMEB2_1_merge.bed\n",
      "/work/kk319/annotation/motif_cluster_jvierstra/hg38_archetype_motifs_v1/chr17/GMEB2_2_merge.bed\n",
      "/work/kk319/annotation/motif_cluster_jvierstra/hg38_archetype_motifs_v1/chr17/GMEB2_3_merge.bed\n",
      "/work/kk319/annotation/motif_cluster_jvierstra/hg38_archetype_motifs_v1/chr17/GRHL_merge.bed\n",
      "/work/kk319/annotation/motif_cluster_jvierstra/hg38_archetype_motifs_v1/chr17/HAND1_merge.bed\n",
      "/work/kk319/annotation/motif_cluster_jvierstra/hg38_archetype_motifs_v1/chr17/HD_10_merge.bed\n",
      "/work/kk319/annotation/motif_cluster_jvierstra/hg38_archetype_motifs_v1/chr17/HD_11_merge.bed\n",
      "/work/kk319/annotation/motif_cluster_jvierstra/hg38_archetype_motifs_v1/chr17/HD_12_merge.bed\n",
      "/work/kk319/annotation/motif_cluster_jvierstra/hg38_archetype_motifs_v1/chr17/HD_13_merge.bed\n",
      "/work/kk319/annotation/motif_cluster_jvierstra/hg38_archetype_motifs_v1/chr17/HD_14_merge.bed\n",
      "/work/kk319/annotation/motif_cluster_jvierstra/hg38_archetype_motifs_v1/chr17/HD_15_merge.bed\n",
      "/work/kk319/annotation/motif_cluster_jvierstra/hg38_archetype_motifs_v1/chr17/HD_16_merge.bed\n",
      "/work/kk319/annotation/motif_cluster_jvierstra/hg38_archetype_motifs_v1/chr17/HD_17_merge.bed\n",
      "/work/kk319/annotation/motif_cluster_jvierstra/hg38_archetype_motifs_v1/chr17/HD_18_merge.bed\n",
      "/work/kk319/annotation/motif_cluster_jvierstra/hg38_archetype_motifs_v1/chr17/HD_19_merge.bed\n",
      "/work/kk319/annotation/motif_cluster_jvierstra/hg38_archetype_motifs_v1/chr17/HD_1_merge.bed\n",
      "/work/kk319/annotation/motif_cluster_jvierstra/hg38_archetype_motifs_v1/chr17/HD_20_merge.bed\n",
      "/work/kk319/annotation/motif_cluster_jvierstra/hg38_archetype_motifs_v1/chr17/HD_21_merge.bed\n",
      "/work/kk319/annotation/motif_cluster_jvierstra/hg38_archetype_motifs_v1/chr17/HD_22_merge.bed\n",
      "/work/kk319/annotation/motif_cluster_jvierstra/hg38_archetype_motifs_v1/chr17/HD_23_merge.bed\n",
      "/work/kk319/annotation/motif_cluster_jvierstra/hg38_archetype_motifs_v1/chr17/HD_24_merge.bed\n",
      "/work/kk319/annotation/motif_cluster_jvierstra/hg38_archetype_motifs_v1/chr17/HD_25_merge.bed\n",
      "/work/kk319/annotation/motif_cluster_jvierstra/hg38_archetype_motifs_v1/chr17/HD_2_merge.bed\n",
      "/work/kk319/annotation/motif_cluster_jvierstra/hg38_archetype_motifs_v1/chr17/HD_3_merge.bed\n",
      "/work/kk319/annotation/motif_cluster_jvierstra/hg38_archetype_motifs_v1/chr17/HD_4_merge.bed\n",
      "/work/kk319/annotation/motif_cluster_jvierstra/hg38_archetype_motifs_v1/chr17/HD_5_merge.bed\n",
      "/work/kk319/annotation/motif_cluster_jvierstra/hg38_archetype_motifs_v1/chr17/HD_6_merge.bed\n",
      "/work/kk319/annotation/motif_cluster_jvierstra/hg38_archetype_motifs_v1/chr17/HD_7_merge.bed\n",
      "/work/kk319/annotation/motif_cluster_jvierstra/hg38_archetype_motifs_v1/chr17/HD_8_merge.bed\n",
      "/work/kk319/annotation/motif_cluster_jvierstra/hg38_archetype_motifs_v1/chr17/HD_9_merge.bed\n",
      "/work/kk319/annotation/motif_cluster_jvierstra/hg38_archetype_motifs_v1/chr17/HEN1_merge.bed\n",
      "/work/kk319/annotation/motif_cluster_jvierstra/hg38_archetype_motifs_v1/chr17/HIC_1_merge.bed\n",
      "/work/kk319/annotation/motif_cluster_jvierstra/hg38_archetype_motifs_v1/chr17/HIC_2_merge.bed\n",
      "/work/kk319/annotation/motif_cluster_jvierstra/hg38_archetype_motifs_v1/chr17/HIF_merge.bed\n",
      "/work/kk319/annotation/motif_cluster_jvierstra/hg38_archetype_motifs_v1/chr17/HINFP1_1_merge.bed\n",
      "/work/kk319/annotation/motif_cluster_jvierstra/hg38_archetype_motifs_v1/chr17/HINFP1_2_merge.bed\n",
      "/work/kk319/annotation/motif_cluster_jvierstra/hg38_archetype_motifs_v1/chr17/HINFP1_3_merge.bed\n",
      "/work/kk319/annotation/motif_cluster_jvierstra/hg38_archetype_motifs_v1/chr17/HLTF_merge.bed\n",
      "/work/kk319/annotation/motif_cluster_jvierstra/hg38_archetype_motifs_v1/chr17/HOMEZ_merge.bed\n",
      "/work/kk319/annotation/motif_cluster_jvierstra/hg38_archetype_motifs_v1/chr17/HSFY2_merge.bed\n",
      "/work/kk319/annotation/motif_cluster_jvierstra/hg38_archetype_motifs_v1/chr17/HSF_merge.bed\n",
      "/work/kk319/annotation/motif_cluster_jvierstra/hg38_archetype_motifs_v1/chr17/INSM1_merge.bed\n",
      "/work/kk319/annotation/motif_cluster_jvierstra/hg38_archetype_motifs_v1/chr17/IRF_1_merge.bed\n",
      "/work/kk319/annotation/motif_cluster_jvierstra/hg38_archetype_motifs_v1/chr17/IRF_2_merge.bed\n",
      "/work/kk319/annotation/motif_cluster_jvierstra/hg38_archetype_motifs_v1/chr17/IRF_3_merge.bed\n",
      "/work/kk319/annotation/motif_cluster_jvierstra/hg38_archetype_motifs_v1/chr17/IRF_4_merge.bed\n",
      "/work/kk319/annotation/motif_cluster_jvierstra/hg38_archetype_motifs_v1/chr17/KAISO_merge.bed\n",
      "/work/kk319/annotation/motif_cluster_jvierstra/hg38_archetype_motifs_v1/chr17/KLF_SP_1_merge.bed\n",
      "/work/kk319/annotation/motif_cluster_jvierstra/hg38_archetype_motifs_v1/chr17/KLF_SP_2_merge.bed\n",
      "/work/kk319/annotation/motif_cluster_jvierstra/hg38_archetype_motifs_v1/chr17/KLF_SP_3_merge.bed\n",
      "/work/kk319/annotation/motif_cluster_jvierstra/hg38_archetype_motifs_v1/chr17/LEF1_merge.bed\n",
      "/work/kk319/annotation/motif_cluster_jvierstra/hg38_archetype_motifs_v1/chr17/LIN54_merge.bed\n",
      "/work/kk319/annotation/motif_cluster_jvierstra/hg38_archetype_motifs_v1/chr17/MAF_merge.bed\n",
      "/work/kk319/annotation/motif_cluster_jvierstra/hg38_archetype_motifs_v1/chr17/MBD2_merge.bed\n",
      "/work/kk319/annotation/motif_cluster_jvierstra/hg38_archetype_motifs_v1/chr17/MECP2_merge.bed\n",
      "/work/kk319/annotation/motif_cluster_jvierstra/hg38_archetype_motifs_v1/chr17/MEF2_merge.bed\n",
      "/work/kk319/annotation/motif_cluster_jvierstra/hg38_archetype_motifs_v1/chr17/MFZ1_merge.bed\n",
      "/work/kk319/annotation/motif_cluster_jvierstra/hg38_archetype_motifs_v1/chr17/MIES_merge.bed\n",
      "/work/kk319/annotation/motif_cluster_jvierstra/hg38_archetype_motifs_v1/chr17/MTF1_merge.bed\n",
      "/work/kk319/annotation/motif_cluster_jvierstra/hg38_archetype_motifs_v1/chr17/MYB_1_merge.bed\n",
      "/work/kk319/annotation/motif_cluster_jvierstra/hg38_archetype_motifs_v1/chr17/MYB_2_merge.bed\n",
      "/work/kk319/annotation/motif_cluster_jvierstra/hg38_archetype_motifs_v1/chr17/MYB_3_merge.bed\n",
      "/work/kk319/annotation/motif_cluster_jvierstra/hg38_archetype_motifs_v1/chr17/MYB_4_merge.bed\n",
      "/work/kk319/annotation/motif_cluster_jvierstra/hg38_archetype_motifs_v1/chr17/MYB_5_merge.bed\n",
      "/work/kk319/annotation/motif_cluster_jvierstra/hg38_archetype_motifs_v1/chr17/MZF1_merge.bed\n",
      "/work/kk319/annotation/motif_cluster_jvierstra/hg38_archetype_motifs_v1/chr17/NFAC_2_merge.bed\n",
      "/work/kk319/annotation/motif_cluster_jvierstra/hg38_archetype_motifs_v1/chr17/NFAT_1_merge.bed\n",
      "/work/kk319/annotation/motif_cluster_jvierstra/hg38_archetype_motifs_v1/chr17/NFAT_2_merge.bed\n",
      "/work/kk319/annotation/motif_cluster_jvierstra/hg38_archetype_motifs_v1/chr17/NFAT_3_merge.bed\n",
      "/work/kk319/annotation/motif_cluster_jvierstra/hg38_archetype_motifs_v1/chr17/NFAT_4_merge.bed\n",
      "/work/kk319/annotation/motif_cluster_jvierstra/hg38_archetype_motifs_v1/chr17/NFI_1_merge.bed\n",
      "/work/kk319/annotation/motif_cluster_jvierstra/hg38_archetype_motifs_v1/chr17/NFI_2_merge.bed\n",
      "/work/kk319/annotation/motif_cluster_jvierstra/hg38_archetype_motifs_v1/chr17/NFI_3_merge.bed\n",
      "/work/kk319/annotation/motif_cluster_jvierstra/hg38_archetype_motifs_v1/chr17/NFKB_1_merge.bed\n",
      "/work/kk319/annotation/motif_cluster_jvierstra/hg38_archetype_motifs_v1/chr17/NFKB_2_merge.bed\n",
      "/work/kk319/annotation/motif_cluster_jvierstra/hg38_archetype_motifs_v1/chr17/NFKB_3_merge.bed\n",
      "/work/kk319/annotation/motif_cluster_jvierstra/hg38_archetype_motifs_v1/chr17/NFY_merge.bed\n",
      "/work/kk319/annotation/motif_cluster_jvierstra/hg38_archetype_motifs_v1/chr17/NR2E3_merge.bed\n",
      "/work/kk319/annotation/motif_cluster_jvierstra/hg38_archetype_motifs_v1/chr17/NRF1_merge.bed\n",
      "/work/kk319/annotation/motif_cluster_jvierstra/hg38_archetype_motifs_v1/chr17/NR_10_merge.bed\n",
      "/work/kk319/annotation/motif_cluster_jvierstra/hg38_archetype_motifs_v1/chr17/NR_11_merge.bed\n",
      "/work/kk319/annotation/motif_cluster_jvierstra/hg38_archetype_motifs_v1/chr17/NR_12_merge.bed\n",
      "/work/kk319/annotation/motif_cluster_jvierstra/hg38_archetype_motifs_v1/chr17/NR_13_merge.bed\n",
      "/work/kk319/annotation/motif_cluster_jvierstra/hg38_archetype_motifs_v1/chr17/NR_14_merge.bed\n",
      "/work/kk319/annotation/motif_cluster_jvierstra/hg38_archetype_motifs_v1/chr17/NR_15_merge.bed\n",
      "/work/kk319/annotation/motif_cluster_jvierstra/hg38_archetype_motifs_v1/chr17/NR_16_merge.bed\n",
      "/work/kk319/annotation/motif_cluster_jvierstra/hg38_archetype_motifs_v1/chr17/NR_17_merge.bed\n",
      "/work/kk319/annotation/motif_cluster_jvierstra/hg38_archetype_motifs_v1/chr17/NR_18_merge.bed\n",
      "/work/kk319/annotation/motif_cluster_jvierstra/hg38_archetype_motifs_v1/chr17/NR_19_merge.bed\n",
      "/work/kk319/annotation/motif_cluster_jvierstra/hg38_archetype_motifs_v1/chr17/NR_1_merge.bed\n",
      "/work/kk319/annotation/motif_cluster_jvierstra/hg38_archetype_motifs_v1/chr17/NR_20_merge.bed\n",
      "/work/kk319/annotation/motif_cluster_jvierstra/hg38_archetype_motifs_v1/chr17/NR_2_merge.bed\n",
      "/work/kk319/annotation/motif_cluster_jvierstra/hg38_archetype_motifs_v1/chr17/NR_3_merge.bed\n",
      "/work/kk319/annotation/motif_cluster_jvierstra/hg38_archetype_motifs_v1/chr17/NR_4_merge.bed\n",
      "/work/kk319/annotation/motif_cluster_jvierstra/hg38_archetype_motifs_v1/chr17/NR_5_merge.bed\n",
      "/work/kk319/annotation/motif_cluster_jvierstra/hg38_archetype_motifs_v1/chr17/NR_6_merge.bed\n",
      "/work/kk319/annotation/motif_cluster_jvierstra/hg38_archetype_motifs_v1/chr17/NR_7_merge.bed\n",
      "/work/kk319/annotation/motif_cluster_jvierstra/hg38_archetype_motifs_v1/chr17/NR_8_merge.bed\n",
      "/work/kk319/annotation/motif_cluster_jvierstra/hg38_archetype_motifs_v1/chr17/NR_9_merge.bed\n",
      "/work/kk319/annotation/motif_cluster_jvierstra/hg38_archetype_motifs_v1/chr17/OCT4+SOX2_merge.bed\n",
      "/work/kk319/annotation/motif_cluster_jvierstra/hg38_archetype_motifs_v1/chr17/OSR2_merge.bed\n",
      "/work/kk319/annotation/motif_cluster_jvierstra/hg38_archetype_motifs_v1/chr17/OVOL1_merge.bed\n",
      "/work/kk319/annotation/motif_cluster_jvierstra/hg38_archetype_motifs_v1/chr17/P53-like_1_merge.bed\n",
      "/work/kk319/annotation/motif_cluster_jvierstra/hg38_archetype_motifs_v1/chr17/PAX-halfsite_merge.bed\n",
      "/work/kk319/annotation/motif_cluster_jvierstra/hg38_archetype_motifs_v1/chr17/PAX_1_merge.bed\n",
      "/work/kk319/annotation/motif_cluster_jvierstra/hg38_archetype_motifs_v1/chr17/PAX_2_merge.bed\n",
      "/work/kk319/annotation/motif_cluster_jvierstra/hg38_archetype_motifs_v1/chr17/PLAG1_merge.bed\n",
      "/work/kk319/annotation/motif_cluster_jvierstra/hg38_archetype_motifs_v1/chr17/POU_1_merge.bed\n",
      "/work/kk319/annotation/motif_cluster_jvierstra/hg38_archetype_motifs_v1/chr17/POU_2_merge.bed\n",
      "/work/kk319/annotation/motif_cluster_jvierstra/hg38_archetype_motifs_v1/chr17/POU_3_merge.bed\n",
      "/work/kk319/annotation/motif_cluster_jvierstra/hg38_archetype_motifs_v1/chr17/PRDM14_merge.bed\n",
      "/work/kk319/annotation/motif_cluster_jvierstra/hg38_archetype_motifs_v1/chr17/PRDM1_merge.bed\n",
      "/work/kk319/annotation/motif_cluster_jvierstra/hg38_archetype_motifs_v1/chr17/PRDM4_merge.bed\n",
      "/work/kk319/annotation/motif_cluster_jvierstra/hg38_archetype_motifs_v1/chr17/PROX1_merge.bed\n",
      "/work/kk319/annotation/motif_cluster_jvierstra/hg38_archetype_motifs_v1/chr17/RBPJ_merge.bed\n",
      "/work/kk319/annotation/motif_cluster_jvierstra/hg38_archetype_motifs_v1/chr17/REL-halfsite_merge.bed\n",
      "/work/kk319/annotation/motif_cluster_jvierstra/hg38_archetype_motifs_v1/chr17/REST_NRSF_merge.bed\n",
      "/work/kk319/annotation/motif_cluster_jvierstra/hg38_archetype_motifs_v1/chr17/RFX_1_merge.bed\n",
      "/work/kk319/annotation/motif_cluster_jvierstra/hg38_archetype_motifs_v1/chr17/RFX_2_merge.bed\n",
      "/work/kk319/annotation/motif_cluster_jvierstra/hg38_archetype_motifs_v1/chr17/RFX_3_merge.bed\n",
      "/work/kk319/annotation/motif_cluster_jvierstra/hg38_archetype_motifs_v1/chr17/RUNX_1_merge.bed\n",
      "/work/kk319/annotation/motif_cluster_jvierstra/hg38_archetype_motifs_v1/chr17/RUNX_2_merge.bed\n",
      "/work/kk319/annotation/motif_cluster_jvierstra/hg38_archetype_motifs_v1/chr17/SCRT1_merge.bed\n",
      "/work/kk319/annotation/motif_cluster_jvierstra/hg38_archetype_motifs_v1/chr17/SIX_1_merge.bed\n",
      "/work/kk319/annotation/motif_cluster_jvierstra/hg38_archetype_motifs_v1/chr17/SIX_2_merge.bed\n",
      "/work/kk319/annotation/motif_cluster_jvierstra/hg38_archetype_motifs_v1/chr17/SMAD_merge.bed\n",
      "/work/kk319/annotation/motif_cluster_jvierstra/hg38_archetype_motifs_v1/chr17/SMARCA1_merge.bed\n",
      "/work/kk319/annotation/motif_cluster_jvierstra/hg38_archetype_motifs_v1/chr17/SMARCA5_merge.bed\n",
      "/work/kk319/annotation/motif_cluster_jvierstra/hg38_archetype_motifs_v1/chr17/SNAI2_merge.bed\n",
      "/work/kk319/annotation/motif_cluster_jvierstra/hg38_archetype_motifs_v1/chr17/SOX_1_merge.bed\n",
      "/work/kk319/annotation/motif_cluster_jvierstra/hg38_archetype_motifs_v1/chr17/SOX_2_merge.bed\n",
      "/work/kk319/annotation/motif_cluster_jvierstra/hg38_archetype_motifs_v1/chr17/SOX_3_merge.bed\n",
      "/work/kk319/annotation/motif_cluster_jvierstra/hg38_archetype_motifs_v1/chr17/SOX_4_merge.bed\n",
      "/work/kk319/annotation/motif_cluster_jvierstra/hg38_archetype_motifs_v1/chr17/SOX_5_merge.bed\n",
      "/work/kk319/annotation/motif_cluster_jvierstra/hg38_archetype_motifs_v1/chr17/SOX_6_merge.bed\n",
      "/work/kk319/annotation/motif_cluster_jvierstra/hg38_archetype_motifs_v1/chr17/SOX_7_merge.bed\n",
      "/work/kk319/annotation/motif_cluster_jvierstra/hg38_archetype_motifs_v1/chr17/SOX_8_merge.bed\n",
      "/work/kk319/annotation/motif_cluster_jvierstra/hg38_archetype_motifs_v1/chr17/SPDEF_1_merge.bed\n",
      "/work/kk319/annotation/motif_cluster_jvierstra/hg38_archetype_motifs_v1/chr17/SPDEF_2_merge.bed\n",
      "/work/kk319/annotation/motif_cluster_jvierstra/hg38_archetype_motifs_v1/chr17/SPI_merge.bed\n",
      "/work/kk319/annotation/motif_cluster_jvierstra/hg38_archetype_motifs_v1/chr17/SPZ1_merge.bed\n",
      "/work/kk319/annotation/motif_cluster_jvierstra/hg38_archetype_motifs_v1/chr17/SREBF1_merge.bed\n",
      "/work/kk319/annotation/motif_cluster_jvierstra/hg38_archetype_motifs_v1/chr17/SRF_merge.bed\n",
      "/work/kk319/annotation/motif_cluster_jvierstra/hg38_archetype_motifs_v1/chr17/STAT_1_merge.bed\n",
      "/work/kk319/annotation/motif_cluster_jvierstra/hg38_archetype_motifs_v1/chr17/STAT_2_merge.bed\n",
      "/work/kk319/annotation/motif_cluster_jvierstra/hg38_archetype_motifs_v1/chr17/TATA_merge.bed\n",
      "/work/kk319/annotation/motif_cluster_jvierstra/hg38_archetype_motifs_v1/chr17/TBX_1_merge.bed\n",
      "/work/kk319/annotation/motif_cluster_jvierstra/hg38_archetype_motifs_v1/chr17/TBX_2_merge.bed\n",
      "/work/kk319/annotation/motif_cluster_jvierstra/hg38_archetype_motifs_v1/chr17/TBX_3_merge.bed\n",
      "/work/kk319/annotation/motif_cluster_jvierstra/hg38_archetype_motifs_v1/chr17/TBX_4_merge.bed\n",
      "/work/kk319/annotation/motif_cluster_jvierstra/hg38_archetype_motifs_v1/chr17/TCF_LEF_merge.bed\n",
      "/work/kk319/annotation/motif_cluster_jvierstra/hg38_archetype_motifs_v1/chr17/TEAD_merge.bed\n",
      "/work/kk319/annotation/motif_cluster_jvierstra/hg38_archetype_motifs_v1/chr17/TFAP2_1_merge.bed\n",
      "/work/kk319/annotation/motif_cluster_jvierstra/hg38_archetype_motifs_v1/chr17/TFAP2_2_merge.bed\n",
      "/work/kk319/annotation/motif_cluster_jvierstra/hg38_archetype_motifs_v1/chr17/TFCP2_merge.bed\n",
      "/work/kk319/annotation/motif_cluster_jvierstra/hg38_archetype_motifs_v1/chr17/THAP1_merge.bed\n",
      "/work/kk319/annotation/motif_cluster_jvierstra/hg38_archetype_motifs_v1/chr17/YY1_merge.bed\n",
      "/work/kk319/annotation/motif_cluster_jvierstra/hg38_archetype_motifs_v1/chr17/ZBED1_merge.bed\n",
      "/work/kk319/annotation/motif_cluster_jvierstra/hg38_archetype_motifs_v1/chr17/ZBTB14_merge.bed\n",
      "/work/kk319/annotation/motif_cluster_jvierstra/hg38_archetype_motifs_v1/chr17/ZBTB48_merge.bed\n",
      "/work/kk319/annotation/motif_cluster_jvierstra/hg38_archetype_motifs_v1/chr17/ZBTB49_merge.bed\n",
      "/work/kk319/annotation/motif_cluster_jvierstra/hg38_archetype_motifs_v1/chr17/ZBTB6_merge.bed\n",
      "/work/kk319/annotation/motif_cluster_jvierstra/hg38_archetype_motifs_v1/chr17/ZBTB7A_merge.bed\n",
      "/work/kk319/annotation/motif_cluster_jvierstra/hg38_archetype_motifs_v1/chr17/ZFN121_merge.bed\n",
      "/work/kk319/annotation/motif_cluster_jvierstra/hg38_archetype_motifs_v1/chr17/ZFX_merge.bed\n",
      "/work/kk319/annotation/motif_cluster_jvierstra/hg38_archetype_motifs_v1/chr17/ZIC_2_merge.bed\n",
      "/work/kk319/annotation/motif_cluster_jvierstra/hg38_archetype_motifs_v1/chr17/ZIC_merge.bed\n",
      "/work/kk319/annotation/motif_cluster_jvierstra/hg38_archetype_motifs_v1/chr17/ZIM3_merge.bed\n",
      "/work/kk319/annotation/motif_cluster_jvierstra/hg38_archetype_motifs_v1/chr17/ZKSCAN1_merge.bed\n",
      "/work/kk319/annotation/motif_cluster_jvierstra/hg38_archetype_motifs_v1/chr17/ZNF134_merge.bed\n",
      "/work/kk319/annotation/motif_cluster_jvierstra/hg38_archetype_motifs_v1/chr17/ZNF136_merge.bed\n",
      "/work/kk319/annotation/motif_cluster_jvierstra/hg38_archetype_motifs_v1/chr17/ZNF140_merge.bed\n",
      "/work/kk319/annotation/motif_cluster_jvierstra/hg38_archetype_motifs_v1/chr17/ZNF143_merge.bed\n",
      "/work/kk319/annotation/motif_cluster_jvierstra/hg38_archetype_motifs_v1/chr17/ZNF146_merge.bed\n",
      "/work/kk319/annotation/motif_cluster_jvierstra/hg38_archetype_motifs_v1/chr17/ZNF232_merge.bed\n",
      "/work/kk319/annotation/motif_cluster_jvierstra/hg38_archetype_motifs_v1/chr17/ZNF24_merge.bed\n",
      "/work/kk319/annotation/motif_cluster_jvierstra/hg38_archetype_motifs_v1/chr17/ZNF250_merge.bed\n",
      "/work/kk319/annotation/motif_cluster_jvierstra/hg38_archetype_motifs_v1/chr17/ZNF257_merge.bed\n",
      "/work/kk319/annotation/motif_cluster_jvierstra/hg38_archetype_motifs_v1/chr17/ZNF274_merge.bed\n",
      "/work/kk319/annotation/motif_cluster_jvierstra/hg38_archetype_motifs_v1/chr17/ZNF282_merge.bed\n",
      "/work/kk319/annotation/motif_cluster_jvierstra/hg38_archetype_motifs_v1/chr17/ZNF28_merge.bed\n",
      "/work/kk319/annotation/motif_cluster_jvierstra/hg38_archetype_motifs_v1/chr17/ZNF306_merge.bed\n",
      "/work/kk319/annotation/motif_cluster_jvierstra/hg38_archetype_motifs_v1/chr17/ZNF317_merge.bed\n",
      "/work/kk319/annotation/motif_cluster_jvierstra/hg38_archetype_motifs_v1/chr17/ZNF320_merge.bed\n",
      "/work/kk319/annotation/motif_cluster_jvierstra/hg38_archetype_motifs_v1/chr17/ZNF324_merge.bed\n",
      "/work/kk319/annotation/motif_cluster_jvierstra/hg38_archetype_motifs_v1/chr17/ZNF329_merge.bed\n",
      "/work/kk319/annotation/motif_cluster_jvierstra/hg38_archetype_motifs_v1/chr17/ZNF331_merge.bed\n",
      "/work/kk319/annotation/motif_cluster_jvierstra/hg38_archetype_motifs_v1/chr17/ZNF332_merge.bed\n",
      "/work/kk319/annotation/motif_cluster_jvierstra/hg38_archetype_motifs_v1/chr17/ZNF335_merge.bed\n",
      "/work/kk319/annotation/motif_cluster_jvierstra/hg38_archetype_motifs_v1/chr17/ZNF354_merge.bed\n",
      "/work/kk319/annotation/motif_cluster_jvierstra/hg38_archetype_motifs_v1/chr17/ZNF382_merge.bed\n",
      "/work/kk319/annotation/motif_cluster_jvierstra/hg38_archetype_motifs_v1/chr17/ZNF384_1_merge.bed\n",
      "/work/kk319/annotation/motif_cluster_jvierstra/hg38_archetype_motifs_v1/chr17/ZNF384_2_merge.bed\n",
      "/work/kk319/annotation/motif_cluster_jvierstra/hg38_archetype_motifs_v1/chr17/ZNF410_merge.bed\n",
      "/work/kk319/annotation/motif_cluster_jvierstra/hg38_archetype_motifs_v1/chr17/ZNF418_merge.bed\n",
      "/work/kk319/annotation/motif_cluster_jvierstra/hg38_archetype_motifs_v1/chr17/ZNF41_merge.bed\n",
      "/work/kk319/annotation/motif_cluster_jvierstra/hg38_archetype_motifs_v1/chr17/ZNF423_merge.bed\n",
      "/work/kk319/annotation/motif_cluster_jvierstra/hg38_archetype_motifs_v1/chr17/ZNF435_merge.bed\n",
      "/work/kk319/annotation/motif_cluster_jvierstra/hg38_archetype_motifs_v1/chr17/ZNF436_merge.bed\n",
      "/work/kk319/annotation/motif_cluster_jvierstra/hg38_archetype_motifs_v1/chr17/ZNF449_merge.bed\n",
      "/work/kk319/annotation/motif_cluster_jvierstra/hg38_archetype_motifs_v1/chr17/ZNF490_merge.bed\n",
      "/work/kk319/annotation/motif_cluster_jvierstra/hg38_archetype_motifs_v1/chr17/ZNF524_merge.bed\n",
      "/work/kk319/annotation/motif_cluster_jvierstra/hg38_archetype_motifs_v1/chr17/ZNF528_merge.bed\n",
      "/work/kk319/annotation/motif_cluster_jvierstra/hg38_archetype_motifs_v1/chr17/ZNF53_merge.bed\n",
      "/work/kk319/annotation/motif_cluster_jvierstra/hg38_archetype_motifs_v1/chr17/ZNF547_merge.bed\n",
      "/work/kk319/annotation/motif_cluster_jvierstra/hg38_archetype_motifs_v1/chr17/ZNF549_merge.bed\n",
      "/work/kk319/annotation/motif_cluster_jvierstra/hg38_archetype_motifs_v1/chr17/ZNF554_merge.bed\n",
      "/work/kk319/annotation/motif_cluster_jvierstra/hg38_archetype_motifs_v1/chr17/ZNF563_merge.bed\n",
      "/work/kk319/annotation/motif_cluster_jvierstra/hg38_archetype_motifs_v1/chr17/ZNF586_merge.bed\n",
      "/work/kk319/annotation/motif_cluster_jvierstra/hg38_archetype_motifs_v1/chr17/ZNF667_merge.bed\n",
      "/work/kk319/annotation/motif_cluster_jvierstra/hg38_archetype_motifs_v1/chr17/ZNF680_merge.bed\n",
      "/work/kk319/annotation/motif_cluster_jvierstra/hg38_archetype_motifs_v1/chr17/ZNF708_merge.bed\n",
      "/work/kk319/annotation/motif_cluster_jvierstra/hg38_archetype_motifs_v1/chr17/ZNF713_merge.bed\n",
      "/work/kk319/annotation/motif_cluster_jvierstra/hg38_archetype_motifs_v1/chr17/ZNF768_merge.bed\n",
      "/work/kk319/annotation/motif_cluster_jvierstra/hg38_archetype_motifs_v1/chr17/ZNF784_merge.bed\n",
      "/work/kk319/annotation/motif_cluster_jvierstra/hg38_archetype_motifs_v1/chr17/ZNF85_merge.bed\n",
      "/work/kk319/annotation/motif_cluster_jvierstra/hg38_archetype_motifs_v1/chr17/ZSCAN3_merge.bed\n",
      "/work/kk319/annotation/motif_cluster_jvierstra/hg38_archetype_motifs_v1/chr17/ZSCAN4_merge.bed\n"
     ]
    }
   ],
   "source": [
    "CHROM=chr17\n",
    "FD_BED=${FD_MTF}/${CHROM}\n",
    "\n",
    "ls ${FD_BED}/*merge*"
   ]
  },
  {
   "cell_type": "code",
   "execution_count": 22,
   "id": "b739fd01-be50-46d1-9cb4-5b4722301934",
   "metadata": {},
   "outputs": [
    {
     "name": "stdout",
     "output_type": "stream",
     "text": [
      "Bedtools 2.27.1\u001b[m\n",
      "\u001b[K\u001b[?1l\u001b>"
     ]
    }
   ],
   "source": [
    "module load Bedtools\n",
    "\n",
    "CHROM=chr17\n",
    "FD_MTF=${FD_ANN}/motif_cluster_jvierstra/hg38_archetype_motifs_v1\n",
    "FD_BED=${FD_MTF}/${CHROM}\n",
    "FN_TMP=tmp.bed\n",
    "FN_OUT=${CHROM}_rm_mouse_merge.bed.gz\n",
    "\n",
    "cat /dev/null > ${FD_BED}/${FN_TMP}\n",
    "for FP_BED in $(ls ${FD_BED}/*merge*); do\n",
    "    cat ${FP_BED} >> ${FD_BED}/${FN_TMP}\n",
    "done\n",
    "\n",
    "bedtools sort -i ${FD_BED}/${FN_TMP} | gzip -cf > ${FD_MTF}/${FN_OUT}"
   ]
  },
  {
   "cell_type": "code",
   "execution_count": 23,
   "id": "a19376e5-4c7d-4664-bce0-6212caa2c20c",
   "metadata": {},
   "outputs": [
    {
     "name": "stdout",
     "output_type": "stream",
     "text": [
      "chr17\t60004\t60022\tZNF140\t5.6897\n",
      "chr17\t60004\t60022\tZNF667\t8.024\n",
      "chr17\t60006\t60015\tEbox/CAGCTG\t7.9275\n",
      "chr17\t60011\t60031\tGC-tract\t12.122\n",
      "chr17\t60012\t60025\tPRDM4\t1.3083\n",
      "chr17\t60017\t60028\tNR/19\t9.668\n",
      "chr17\t60019\t60035\tHEN1\t5.5854\n",
      "chr17\t60023\t60042\tZNF680\t6.3901\n",
      "chr17\t60027\t60037\tSMARCA1\t7.5566\n",
      "chr17\t60027\t60040\tLEF1\t7.1402\n",
      "\n",
      "gzip: stdout: Broken pipe\n"
     ]
    }
   ],
   "source": [
    "zcat ${FD_MTF}/${FN_OUT} | head"
   ]
  },
  {
   "cell_type": "code",
   "execution_count": 26,
   "id": "17df50a4-d32f-44fa-9459-a889611ed502",
   "metadata": {},
   "outputs": [
    {
     "name": "stdout",
     "output_type": "stream",
     "text": [
      "chr17\t83247318\t83247357\tZNF449\t7.6638\n",
      "chr17\t83247318\t83247358\tRUNX/1\t8.38285\n",
      "chr17\t83247374\t83247434\tTBX/4\t3.48032\n",
      "chr17\t83247379\t83247440\tTBX/3\t9.229585714\n",
      "chr17\t83247387\t83247396\tKLF/SP/3\t9.1029\n",
      "chr17\t83247387\t83247441\tKLF/SP/1\t11.4993125\n",
      "chr17\t83247388\t83247428\tGC-tract\t7.739\n",
      "chr17\t83247389\t83247436\tRUNX/1\t9.550171429\n",
      "chr17\t83247390\t83247419\tEGR\t8.1077\n",
      "chr17\t83247421\t83247438\tEGR\t8.80495\n"
     ]
    }
   ],
   "source": [
    "zcat ${FD_MTF}/${FN_OUT} | tail"
   ]
  },
  {
   "cell_type": "code",
   "execution_count": 19,
   "id": "f7385971-5e44-4119-b112-42c5bc0e5cf1",
   "metadata": {},
   "outputs": [
    {
     "name": "stdout",
     "output_type": "stream",
     "text": [
      "14308212 /work/kk319/annotation/motif_cluster_jvierstra/hg38_archetype_motifs_v1/chr17_rm_mouse_merge.bed\n"
     ]
    }
   ],
   "source": [
    "wc -l ${FD_MTF}/${FN_OUT}"
   ]
  },
  {
   "cell_type": "code",
   "execution_count": null,
   "id": "707ae69c-2f7b-438c-a9c1-3091514f9b46",
   "metadata": {},
   "outputs": [],
   "source": []
  },
  {
   "cell_type": "code",
   "execution_count": null,
   "id": "1e3a4519-10dc-4c42-82c4-a0d7c4542b14",
   "metadata": {},
   "outputs": [],
   "source": []
  },
  {
   "cell_type": "code",
   "execution_count": null,
   "id": "1931c2da-e796-40e8-b76b-a9f3f7ce7c9d",
   "metadata": {},
   "outputs": [],
   "source": []
  },
  {
   "cell_type": "code",
   "execution_count": null,
   "id": "8bbd3cc3-9513-4cdc-adf6-4e0a0989c13c",
   "metadata": {},
   "outputs": [],
   "source": []
  }
 ],
 "metadata": {
  "kernelspec": {
   "display_name": "Bash",
   "language": "bash",
   "name": "bash"
  },
  "language_info": {
   "codemirror_mode": "shell",
   "file_extension": ".sh",
   "mimetype": "text/x-sh",
   "name": "bash"
  }
 },
 "nbformat": 4,
 "nbformat_minor": 5
}
