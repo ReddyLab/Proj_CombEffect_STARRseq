{
 "cells": [
  {
   "cell_type": "code",
   "execution_count": 4,
   "metadata": {},
   "outputs": [],
   "source": [
    "import sys\n",
    "sys.path.append('/home/mount/project/')\n",
    "from config_sing import *"
   ]
  },
  {
   "cell_type": "code",
   "execution_count": 5,
   "metadata": {},
   "outputs": [],
   "source": [
    "fdiry = \"/home/mount/work/out/proj_combeffect/peak/cradle_deepstarr_data\"\n",
    "\n",
    "fname = \"whole_genome_X.npy\"\n",
    "fpath = os.path.join(fdiry, fname)\n",
    "with open(fpath, 'rb') as file:\n",
    "    X = np.load(file)\n",
    "\n",
    "fname = \"whole_genome_Y.npy\"\n",
    "fpath = os.path.join(fdiry, fname)\n",
    "with open(fpath, 'rb') as file:\n",
    "    Y = np.load(file)\n",
    "    \n",
    "    \n",
    "fname = \"whole_genome_Seq.npy\"\n",
    "fpath = os.path.join(fdiry, fname)\n",
    "with open(fpath, 'rb') as file:\n",
    "    S = np.load(file)"
   ]
  },
  {
   "cell_type": "code",
   "execution_count": null,
   "metadata": {},
   "outputs": [],
   "source": []
  }
 ],
 "metadata": {
  "kernelspec": {
   "display_name": "Python 3",
   "language": "python",
   "name": "python3"
  },
  "language_info": {
   "codemirror_mode": {
    "name": "ipython",
    "version": 3
   },
   "file_extension": ".py",
   "mimetype": "text/x-python",
   "name": "python",
   "nbconvert_exporter": "python",
   "pygments_lexer": "ipython3",
   "version": "3.6.8"
  }
 },
 "nbformat": 4,
 "nbformat_minor": 4
}
