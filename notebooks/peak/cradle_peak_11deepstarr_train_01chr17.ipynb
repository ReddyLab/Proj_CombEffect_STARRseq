{
 "cells": [
  {
   "cell_type": "code",
   "execution_count": 1,
   "metadata": {},
   "outputs": [],
   "source": [
    "import tensorflow as tf\n",
    "import os\n",
    "#import keras\n",
    "from tensorflow import keras\n",
    "import tensorflow.keras.layers as kl\n",
    "from tensorflow.keras.layers import Conv1D, MaxPooling1D\n",
    "from tensorflow.keras.layers import Dropout, Reshape, Dense, Activation, Flatten\n",
    "from tensorflow.keras.layers import BatchNormalization, InputLayer, Input\n",
    "from tensorflow.keras import models\n",
    "from tensorflow.keras.models import Sequential, Model\n",
    "from tensorflow.keras.optimizers import Adam\n",
    "from tensorflow.keras.callbacks import EarlyStopping, History, ModelCheckpoint"
   ]
  },
  {
   "cell_type": "code",
   "execution_count": 2,
   "metadata": {},
   "outputs": [
    {
     "data": {
      "text/plain": [
       "[PhysicalDevice(name='/physical_device:GPU:0', device_type='GPU')]"
      ]
     },
     "execution_count": 2,
     "metadata": {},
     "output_type": "execute_result"
    }
   ],
   "source": [
    "tf.config.experimental.list_physical_devices(\"GPU\")"
   ]
  },
  {
   "cell_type": "code",
   "execution_count": 3,
   "metadata": {},
   "outputs": [],
   "source": [
    "### set GPU for tensorflow\n",
    "physical_devices = tf.config.experimental.list_physical_devices(\"GPU\")\n",
    "tf.config.experimental.set_memory_growth(physical_devices[0], True)"
   ]
  },
  {
   "cell_type": "code",
   "execution_count": 4,
   "metadata": {},
   "outputs": [],
   "source": [
    "import pandas as pd\n",
    "import numpy as np\n",
    "\n",
    "import sys\n",
    "sys.path.append('Neural_Network_DNA_Demo/')\n",
    "from helper import IOHelper, SequenceHelper # from https://github.com/const-ae/Neural_Network_DNA_Demo\n",
    "\n",
    "import random\n",
    "random.seed(1234)"
   ]
  },
  {
   "cell_type": "markdown",
   "metadata": {},
   "source": [
    "## Data"
   ]
  },
  {
   "cell_type": "code",
   "execution_count": 5,
   "metadata": {},
   "outputs": [
    {
     "name": "stdout",
     "output_type": "stream",
     "text": [
      "/home/mount/work/out/proj_combeffect/peak/cradle_deepstarr_data/chr17.fa\n",
      "/home/mount/work/out/proj_combeffect/peak/cradle_peak_count/results/dat_score_chr17.tsv\n"
     ]
    }
   ],
   "source": [
    "%%bash\n",
    "source ../config_sing.sh\n",
    "ls ${FD_RES}/peak/cradle_deepstarr_data/chr17.fa\n",
    "ls ${FD_RES}/peak/cradle_peak_count/results/dat_score_chr17.tsv"
   ]
  },
  {
   "cell_type": "code",
   "execution_count": 6,
   "metadata": {},
   "outputs": [
    {
     "name": "stdout",
     "output_type": "stream",
     "text": [
      ">chr17:409725-410725\n",
      "atcccagcgatctaggaggccgaggcgggaagatcgatggagcccaggagttcgagaccagcctgaaaccaaaaatcaaaactcttagccaggcgtggGGATGGGAGGCCAAGGCAGGAGGATCGAGGCACGGGACTGGACGAGATGAGTGTCAGCCCAGGGATTTAAAATCTCTCTGCCCACCCTCCCCTTCCTGCGGTCAACTGTCCAGATTCCAACAGACAAAAGCAAGCATGGGCGAACCACCGTGCGCCGCGGTCCCCGACAGAAGCACGCATGCGCACACCTCTGTGTGCGGAGGTTTCCGACAGACGCACGCATGCGCACACTTCTATGCGCGGAGGTCTCCGCAGACAGAAGCACGCATGCGCACATCGCTGTGCCGGTATCGCCAACAGATGGAAGCACGCATGCGCGCACCGCTGCGTACCTAGCACTCCGACAGATGTACGCATGCGCACAACGCTCTGTTCTCGAGATCCCCGACAGAAGCACACATGCGCACACCGCTGTGTGCCAAGGTCGCCAAAAGACGGAAGCACGCATGCGCACACCGCGGTCCGTGGGGCACCGGGCGGAAGCGTCCTGACTGCGCAGGCGCAGCAGGGGTGGTCGCCATGGAGACGCGTGGCCCTGGCCTGGCGGTCCGCGCTGAGAGTCGCCGATTAGTCGGCATCGGGCCTCGGGCGCCCCCGGGGCGGGTTGGGTTGCAGCCCAGCGGGCGGCTGGACCGCCGCGGTGGGGCGGGGACAATGGGGTACAAGGACAACGACGGCGAGGAGGAGGAGCGGGAGGGCGGCGCCGCGGGCCCGCGGGGGTCTAGACTGCCCCCCATCACAGGCGGCGCCTCCGAGCTGGCCAAACGgaaggtgaagaagaaaaaaaggaagaagaagaCCAAGGGGTCTGGCAAGGGGGACGGTAAGAGGAGCAGCTAGCCCGGCTGCGTCAGCTCCGGTTCCCTGGAGACTCTTTGGGGACCCACCCCCCATTTACCCTT\n"
     ]
    }
   ],
   "source": [
    "%%bash\n",
    "source ../config_sing.sh\n",
    "head -2 ${FD_RES}/peak/cradle_deepstarr_data/chr17.fa"
   ]
  },
  {
   "cell_type": "code",
   "execution_count": 71,
   "metadata": {},
   "outputs": [],
   "source": [
    "dat_fasta = IOHelper.get_fastas_from_file(\n",
    "    \"/home/mount/work/out/proj_combeffect/peak/cradle_deepstarr_data/chr17.fa\", \n",
    "    uppercase=True)\n",
    "dat = dat_fasta.head()"
   ]
  },
  {
   "cell_type": "code",
   "execution_count": 72,
   "metadata": {},
   "outputs": [
    {
     "data": {
      "text/plain": [
       "0    ATCCCAGCGATCTAGGAGGCCGAGGCGGGAAGATCGATGGAGCCCA...\n",
       "1    CAACTGTCCAGATTCCAACAGACAAAAGCAAGCATGGGCGAACCAC...\n",
       "2    GCGGCTCAGCCCCTGGAAGTCAGGAGTGTTTCCATAGTCCTGAGCA...\n",
       "3    ACTCCAAAGGCAGGCTCAAAGGTCTCCATGGTACTCCAGGGCCCCT...\n",
       "4    TGGTTTTTTTTTTGTTGTTGTTTTTTGAGACAGTCTCACTCTGGCT...\n",
       "Name: sequence, dtype: object"
      ]
     },
     "execution_count": 72,
     "metadata": {},
     "output_type": "execute_result"
    }
   ],
   "source": [
    "dat.sequence"
   ]
  },
  {
   "cell_type": "code",
   "execution_count": 74,
   "metadata": {},
   "outputs": [],
   "source": [
    "seq_matrix = SequenceHelper.do_one_hot_encoding(\n",
    "        dat.sequence, \n",
    "        sequence_length,\n",
    "        SequenceHelper.parse_alpha_to_seq)"
   ]
  },
  {
   "cell_type": "code",
   "execution_count": 85,
   "metadata": {},
   "outputs": [
    {
     "data": {
      "text/plain": [
       "array(['16', '17'], dtype='<U21')"
      ]
     },
     "execution_count": 85,
     "metadata": {},
     "output_type": "execute_result"
    }
   ],
   "source": [
    "CHROMS = np.r_[np.arange(16,18).astype(str)]\n",
    "CHROMS"
   ]
  },
  {
   "cell_type": "code",
   "execution_count": 86,
   "metadata": {},
   "outputs": [
    {
     "name": "stdout",
     "output_type": "stream",
     "text": [
      "/home/mount/work/out/proj_combeffect/peak/cradle_deepstarr_data/chr16.fa\n",
      "/home/mount/work/out/proj_combeffect/peak/cradle_deepstarr_data/chr17.fa\n"
     ]
    },
    {
     "data": {
      "text/html": [
       "<div>\n",
       "<style scoped>\n",
       "    .dataframe tbody tr th:only-of-type {\n",
       "        vertical-align: middle;\n",
       "    }\n",
       "\n",
       "    .dataframe tbody tr th {\n",
       "        vertical-align: top;\n",
       "    }\n",
       "\n",
       "    .dataframe thead th {\n",
       "        text-align: right;\n",
       "    }\n",
       "</style>\n",
       "<table border=\"1\" class=\"dataframe\">\n",
       "  <thead>\n",
       "    <tr style=\"text-align: right;\">\n",
       "      <th></th>\n",
       "      <th>location</th>\n",
       "      <th>sequence</th>\n",
       "    </tr>\n",
       "  </thead>\n",
       "  <tbody>\n",
       "    <tr>\n",
       "      <th>0</th>\n",
       "      <td>chr16:34925-35925</td>\n",
       "      <td>TGCTCCAGGTCAGGATGCAGTGGCTAGAGCTGATGTTGCCCTGCAA...</td>\n",
       "    </tr>\n",
       "    <tr>\n",
       "      <th>1</th>\n",
       "      <td>chr16:56150-57150</td>\n",
       "      <td>GGGACACTGTCGGGAATTTCCAGTGTGTCTGGAAGTGGCCTCCCTA...</td>\n",
       "    </tr>\n",
       "    <tr>\n",
       "      <th>2</th>\n",
       "      <td>chr16:66625-67625</td>\n",
       "      <td>CTCACGCTCCAGCCCCTTATCTGAGCTGACTGTGCACTTCAGGTCC...</td>\n",
       "    </tr>\n",
       "    <tr>\n",
       "      <th>3</th>\n",
       "      <td>chr16:67835-68835</td>\n",
       "      <td>TCAAGATGACCTCTCAGCTGGGTCTGGGAAGACGAGCTGCCTGGCA...</td>\n",
       "    </tr>\n",
       "    <tr>\n",
       "      <th>4</th>\n",
       "      <td>chr16:69250-70250</td>\n",
       "      <td>CCTCAGGTGTGAGCAGCAACCACCTCTGTACTCAGGCCTGCCCTGC...</td>\n",
       "    </tr>\n",
       "    <tr>\n",
       "      <th>...</th>\n",
       "      <td>...</td>\n",
       "      <td>...</td>\n",
       "    </tr>\n",
       "    <tr>\n",
       "      <th>3596</th>\n",
       "      <td>chr17:83196603-83197603</td>\n",
       "      <td>CCTGGGTGAGGACCTGGTATCCTCAAAGTCCCCGTGGCTGCCCTGT...</td>\n",
       "    </tr>\n",
       "    <tr>\n",
       "      <th>3597</th>\n",
       "      <td>chr17:83199918-83200918</td>\n",
       "      <td>TGTAAAACTGACTAAAGGAGAAGTTGGTGTCTTCCTCATACAAGAA...</td>\n",
       "    </tr>\n",
       "    <tr>\n",
       "      <th>3598</th>\n",
       "      <td>chr17:83199933-83200933</td>\n",
       "      <td>AGGAGAAGTTGGTGTCTTCCTCATACAAGAAATACATAAATCAGTT...</td>\n",
       "    </tr>\n",
       "    <tr>\n",
       "      <th>3599</th>\n",
       "      <td>chr17:83202438-83203438</td>\n",
       "      <td>GAGGCTCTCTATAGAATGGGTACTTGTCAACAAAGTGGGCTTAGAC...</td>\n",
       "    </tr>\n",
       "    <tr>\n",
       "      <th>3600</th>\n",
       "      <td>chr17:83202833-83203833</td>\n",
       "      <td>TGCTTACTCCAAGGATGCAGCCCGGAGTGCCACTGCTCTTGGACTT...</td>\n",
       "    </tr>\n",
       "  </tbody>\n",
       "</table>\n",
       "<p>7078 rows × 2 columns</p>\n",
       "</div>"
      ],
      "text/plain": [
       "                     location  \\\n",
       "0           chr16:34925-35925   \n",
       "1           chr16:56150-57150   \n",
       "2           chr16:66625-67625   \n",
       "3           chr16:67835-68835   \n",
       "4           chr16:69250-70250   \n",
       "...                       ...   \n",
       "3596  chr17:83196603-83197603   \n",
       "3597  chr17:83199918-83200918   \n",
       "3598  chr17:83199933-83200933   \n",
       "3599  chr17:83202438-83203438   \n",
       "3600  chr17:83202833-83203833   \n",
       "\n",
       "                                               sequence  \n",
       "0     TGCTCCAGGTCAGGATGCAGTGGCTAGAGCTGATGTTGCCCTGCAA...  \n",
       "1     GGGACACTGTCGGGAATTTCCAGTGTGTCTGGAAGTGGCCTCCCTA...  \n",
       "2     CTCACGCTCCAGCCCCTTATCTGAGCTGACTGTGCACTTCAGGTCC...  \n",
       "3     TCAAGATGACCTCTCAGCTGGGTCTGGGAAGACGAGCTGCCTGGCA...  \n",
       "4     CCTCAGGTGTGAGCAGCAACCACCTCTGTACTCAGGCCTGCCCTGC...  \n",
       "...                                                 ...  \n",
       "3596  CCTGGGTGAGGACCTGGTATCCTCAAAGTCCCCGTGGCTGCCCTGT...  \n",
       "3597  TGTAAAACTGACTAAAGGAGAAGTTGGTGTCTTCCTCATACAAGAA...  \n",
       "3598  AGGAGAAGTTGGTGTCTTCCTCATACAAGAAATACATAAATCAGTT...  \n",
       "3599  GAGGCTCTCTATAGAATGGGTACTTGTCAACAAAGTGGGCTTAGAC...  \n",
       "3600  TGCTTACTCCAAGGATGCAGCCCGGAGTGCCACTGCTCTTGGACTT...  \n",
       "\n",
       "[7078 rows x 2 columns]"
      ]
     },
     "execution_count": 86,
     "metadata": {},
     "output_type": "execute_result"
    }
   ],
   "source": [
    "fdiry = \"/home/mount/work/out/proj_combeffect/peak/cradle_deepstarr_data\"\n",
    "lst = list()\n",
    "sequence_length = 1000\n",
    "\n",
    "for chrom in CHROMS:\n",
    "    fname = \"chr\" + chrom + \".fa\"\n",
    "    fpath = os.path.join(fdiry, fname)\n",
    "    print(fpath, flush = True)\n",
    "    dat = IOHelper.get_fastas_from_file(fpath, uppercase=True)\n",
    "    lst.append(dat)\n",
    "\n",
    "dat_fasta = pd.concat(lst)\n",
    "dat_fasta"
   ]
  },
  {
   "cell_type": "code",
   "execution_count": 87,
   "metadata": {},
   "outputs": [
    {
     "data": {
      "text/html": [
       "<div>\n",
       "<style scoped>\n",
       "    .dataframe tbody tr th:only-of-type {\n",
       "        vertical-align: middle;\n",
       "    }\n",
       "\n",
       "    .dataframe tbody tr th {\n",
       "        vertical-align: top;\n",
       "    }\n",
       "\n",
       "    .dataframe thead th {\n",
       "        text-align: right;\n",
       "    }\n",
       "</style>\n",
       "<table border=\"1\" class=\"dataframe\">\n",
       "  <thead>\n",
       "    <tr style=\"text-align: right;\">\n",
       "      <th></th>\n",
       "      <th>index</th>\n",
       "      <th>location</th>\n",
       "      <th>sequence</th>\n",
       "    </tr>\n",
       "  </thead>\n",
       "  <tbody>\n",
       "    <tr>\n",
       "      <th>0</th>\n",
       "      <td>0</td>\n",
       "      <td>chr16:34925-35925</td>\n",
       "      <td>TGCTCCAGGTCAGGATGCAGTGGCTAGAGCTGATGTTGCCCTGCAA...</td>\n",
       "    </tr>\n",
       "    <tr>\n",
       "      <th>1</th>\n",
       "      <td>1</td>\n",
       "      <td>chr16:56150-57150</td>\n",
       "      <td>GGGACACTGTCGGGAATTTCCAGTGTGTCTGGAAGTGGCCTCCCTA...</td>\n",
       "    </tr>\n",
       "    <tr>\n",
       "      <th>2</th>\n",
       "      <td>2</td>\n",
       "      <td>chr16:66625-67625</td>\n",
       "      <td>CTCACGCTCCAGCCCCTTATCTGAGCTGACTGTGCACTTCAGGTCC...</td>\n",
       "    </tr>\n",
       "    <tr>\n",
       "      <th>3</th>\n",
       "      <td>3</td>\n",
       "      <td>chr16:67835-68835</td>\n",
       "      <td>TCAAGATGACCTCTCAGCTGGGTCTGGGAAGACGAGCTGCCTGGCA...</td>\n",
       "    </tr>\n",
       "    <tr>\n",
       "      <th>4</th>\n",
       "      <td>4</td>\n",
       "      <td>chr16:69250-70250</td>\n",
       "      <td>CCTCAGGTGTGAGCAGCAACCACCTCTGTACTCAGGCCTGCCCTGC...</td>\n",
       "    </tr>\n",
       "    <tr>\n",
       "      <th>...</th>\n",
       "      <td>...</td>\n",
       "      <td>...</td>\n",
       "      <td>...</td>\n",
       "    </tr>\n",
       "    <tr>\n",
       "      <th>7073</th>\n",
       "      <td>3596</td>\n",
       "      <td>chr17:83196603-83197603</td>\n",
       "      <td>CCTGGGTGAGGACCTGGTATCCTCAAAGTCCCCGTGGCTGCCCTGT...</td>\n",
       "    </tr>\n",
       "    <tr>\n",
       "      <th>7074</th>\n",
       "      <td>3597</td>\n",
       "      <td>chr17:83199918-83200918</td>\n",
       "      <td>TGTAAAACTGACTAAAGGAGAAGTTGGTGTCTTCCTCATACAAGAA...</td>\n",
       "    </tr>\n",
       "    <tr>\n",
       "      <th>7075</th>\n",
       "      <td>3598</td>\n",
       "      <td>chr17:83199933-83200933</td>\n",
       "      <td>AGGAGAAGTTGGTGTCTTCCTCATACAAGAAATACATAAATCAGTT...</td>\n",
       "    </tr>\n",
       "    <tr>\n",
       "      <th>7076</th>\n",
       "      <td>3599</td>\n",
       "      <td>chr17:83202438-83203438</td>\n",
       "      <td>GAGGCTCTCTATAGAATGGGTACTTGTCAACAAAGTGGGCTTAGAC...</td>\n",
       "    </tr>\n",
       "    <tr>\n",
       "      <th>7077</th>\n",
       "      <td>3600</td>\n",
       "      <td>chr17:83202833-83203833</td>\n",
       "      <td>TGCTTACTCCAAGGATGCAGCCCGGAGTGCCACTGCTCTTGGACTT...</td>\n",
       "    </tr>\n",
       "  </tbody>\n",
       "</table>\n",
       "<p>7078 rows × 3 columns</p>\n",
       "</div>"
      ],
      "text/plain": [
       "      index                 location  \\\n",
       "0         0        chr16:34925-35925   \n",
       "1         1        chr16:56150-57150   \n",
       "2         2        chr16:66625-67625   \n",
       "3         3        chr16:67835-68835   \n",
       "4         4        chr16:69250-70250   \n",
       "...     ...                      ...   \n",
       "7073   3596  chr17:83196603-83197603   \n",
       "7074   3597  chr17:83199918-83200918   \n",
       "7075   3598  chr17:83199933-83200933   \n",
       "7076   3599  chr17:83202438-83203438   \n",
       "7077   3600  chr17:83202833-83203833   \n",
       "\n",
       "                                               sequence  \n",
       "0     TGCTCCAGGTCAGGATGCAGTGGCTAGAGCTGATGTTGCCCTGCAA...  \n",
       "1     GGGACACTGTCGGGAATTTCCAGTGTGTCTGGAAGTGGCCTCCCTA...  \n",
       "2     CTCACGCTCCAGCCCCTTATCTGAGCTGACTGTGCACTTCAGGTCC...  \n",
       "3     TCAAGATGACCTCTCAGCTGGGTCTGGGAAGACGAGCTGCCTGGCA...  \n",
       "4     CCTCAGGTGTGAGCAGCAACCACCTCTGTACTCAGGCCTGCCCTGC...  \n",
       "...                                                 ...  \n",
       "7073  CCTGGGTGAGGACCTGGTATCCTCAAAGTCCCCGTGGCTGCCCTGT...  \n",
       "7074  TGTAAAACTGACTAAAGGAGAAGTTGGTGTCTTCCTCATACAAGAA...  \n",
       "7075  AGGAGAAGTTGGTGTCTTCCTCATACAAGAAATACATAAATCAGTT...  \n",
       "7076  GAGGCTCTCTATAGAATGGGTACTTGTCAACAAAGTGGGCTTAGAC...  \n",
       "7077  TGCTTACTCCAAGGATGCAGCCCGGAGTGCCACTGCTCTTGGACTT...  \n",
       "\n",
       "[7078 rows x 3 columns]"
      ]
     },
     "execution_count": 87,
     "metadata": {},
     "output_type": "execute_result"
    }
   ],
   "source": [
    "dat = dat_fasta.reset_index()\n",
    "dat"
   ]
  },
  {
   "cell_type": "code",
   "execution_count": 63,
   "metadata": {},
   "outputs": [
    {
     "data": {
      "text/plain": [
       "(10, 2)"
      ]
     },
     "execution_count": 63,
     "metadata": {},
     "output_type": "execute_result"
    }
   ],
   "source": [
    "dat_fasta.shape"
   ]
  },
  {
   "cell_type": "code",
   "execution_count": 67,
   "metadata": {},
   "outputs": [
    {
     "name": "stdout",
     "output_type": "stream",
     "text": [
      "1000\n",
      "1000\n",
      "1000\n",
      "1000\n",
      "1000\n",
      "1000\n",
      "1000\n",
      "1000\n",
      "1000\n",
      "1000\n"
     ]
    }
   ],
   "source": [
    "for seq in dat_fasta.sequence:\n",
    "    print(len(seq))"
   ]
  },
  {
   "cell_type": "code",
   "execution_count": 68,
   "metadata": {},
   "outputs": [
    {
     "data": {
      "text/plain": [
       "0    TGCTCCAGGTCAGGATGCAGTGGCTAGAGCTGATGTTGCCCTGCAA...\n",
       "1    GGGACACTGTCGGGAATTTCCAGTGTGTCTGGAAGTGGCCTCCCTA...\n",
       "2    CTCACGCTCCAGCCCCTTATCTGAGCTGACTGTGCACTTCAGGTCC...\n",
       "3    TCAAGATGACCTCTCAGCTGGGTCTGGGAAGACGAGCTGCCTGGCA...\n",
       "4    CCTCAGGTGTGAGCAGCAACCACCTCTGTACTCAGGCCTGCCCTGC...\n",
       "0    ATCCCAGCGATCTAGGAGGCCGAGGCGGGAAGATCGATGGAGCCCA...\n",
       "1    CAACTGTCCAGATTCCAACAGACAAAAGCAAGCATGGGCGAACCAC...\n",
       "2    GCGGCTCAGCCCCTGGAAGTCAGGAGTGTTTCCATAGTCCTGAGCA...\n",
       "3    ACTCCAAAGGCAGGCTCAAAGGTCTCCATGGTACTCCAGGGCCCCT...\n",
       "4    TGGTTTTTTTTTTGTTGTTGTTTTTTGAGACAGTCTCACTCTGGCT...\n",
       "Name: sequence, dtype: object"
      ]
     },
     "execution_count": 68,
     "metadata": {},
     "output_type": "execute_result"
    }
   ],
   "source": [
    "dat_fasta.sequence"
   ]
  },
  {
   "cell_type": "code",
   "execution_count": 88,
   "metadata": {},
   "outputs": [],
   "source": [
    "seq_matrix = SequenceHelper.do_one_hot_encoding(\n",
    "        dat.sequence, \n",
    "        sequence_length,\n",
    "        SequenceHelper.parse_alpha_to_seq)"
   ]
  },
  {
   "cell_type": "code",
   "execution_count": null,
   "metadata": {},
   "outputs": [],
   "source": []
  },
  {
   "cell_type": "code",
   "execution_count": null,
   "metadata": {},
   "outputs": [],
   "source": []
  },
  {
   "cell_type": "code",
   "execution_count": 89,
   "metadata": {},
   "outputs": [
    {
     "data": {
      "text/plain": [
       "array(['1', '2', '3', '4', '5', '6', '7', '8', '9', '10', '11', '12',\n",
       "       '13', '14', '15', '16', '17', '18', '19', '20', '21', '22', 'X'],\n",
       "      dtype='<U21')"
      ]
     },
     "execution_count": 89,
     "metadata": {},
     "output_type": "execute_result"
    }
   ],
   "source": [
    "CHROMS = np.r_[np.arange(1,23), [\"X\"]]\n",
    "CHROMS"
   ]
  },
  {
   "cell_type": "code",
   "execution_count": 90,
   "metadata": {},
   "outputs": [
    {
     "name": "stdout",
     "output_type": "stream",
     "text": [
      "/home/mount/work/out/proj_combeffect/peak/cradle_deepstarr_data/chr1.fa\n",
      "/home/mount/work/out/proj_combeffect/peak/cradle_deepstarr_data/chr2.fa\n",
      "/home/mount/work/out/proj_combeffect/peak/cradle_deepstarr_data/chr3.fa\n",
      "/home/mount/work/out/proj_combeffect/peak/cradle_deepstarr_data/chr4.fa\n",
      "/home/mount/work/out/proj_combeffect/peak/cradle_deepstarr_data/chr5.fa\n",
      "/home/mount/work/out/proj_combeffect/peak/cradle_deepstarr_data/chr6.fa\n",
      "/home/mount/work/out/proj_combeffect/peak/cradle_deepstarr_data/chr7.fa\n",
      "/home/mount/work/out/proj_combeffect/peak/cradle_deepstarr_data/chr8.fa\n",
      "/home/mount/work/out/proj_combeffect/peak/cradle_deepstarr_data/chr9.fa\n",
      "/home/mount/work/out/proj_combeffect/peak/cradle_deepstarr_data/chr10.fa\n",
      "/home/mount/work/out/proj_combeffect/peak/cradle_deepstarr_data/chr11.fa\n",
      "/home/mount/work/out/proj_combeffect/peak/cradle_deepstarr_data/chr12.fa\n",
      "/home/mount/work/out/proj_combeffect/peak/cradle_deepstarr_data/chr13.fa\n",
      "/home/mount/work/out/proj_combeffect/peak/cradle_deepstarr_data/chr14.fa\n",
      "/home/mount/work/out/proj_combeffect/peak/cradle_deepstarr_data/chr15.fa\n",
      "/home/mount/work/out/proj_combeffect/peak/cradle_deepstarr_data/chr16.fa\n",
      "/home/mount/work/out/proj_combeffect/peak/cradle_deepstarr_data/chr17.fa\n",
      "/home/mount/work/out/proj_combeffect/peak/cradle_deepstarr_data/chr18.fa\n",
      "/home/mount/work/out/proj_combeffect/peak/cradle_deepstarr_data/chr19.fa\n",
      "/home/mount/work/out/proj_combeffect/peak/cradle_deepstarr_data/chr20.fa\n",
      "/home/mount/work/out/proj_combeffect/peak/cradle_deepstarr_data/chr21.fa\n",
      "/home/mount/work/out/proj_combeffect/peak/cradle_deepstarr_data/chr22.fa\n",
      "/home/mount/work/out/proj_combeffect/peak/cradle_deepstarr_data/chrX.fa\n"
     ]
    },
    {
     "data": {
      "text/html": [
       "<div>\n",
       "<style scoped>\n",
       "    .dataframe tbody tr th:only-of-type {\n",
       "        vertical-align: middle;\n",
       "    }\n",
       "\n",
       "    .dataframe tbody tr th {\n",
       "        vertical-align: top;\n",
       "    }\n",
       "\n",
       "    .dataframe thead th {\n",
       "        text-align: right;\n",
       "    }\n",
       "</style>\n",
       "<table border=\"1\" class=\"dataframe\">\n",
       "  <thead>\n",
       "    <tr style=\"text-align: right;\">\n",
       "      <th></th>\n",
       "      <th>index</th>\n",
       "      <th>location</th>\n",
       "      <th>sequence</th>\n",
       "    </tr>\n",
       "  </thead>\n",
       "  <tbody>\n",
       "    <tr>\n",
       "      <th>0</th>\n",
       "      <td>0</td>\n",
       "      <td>chr1:778232-779232</td>\n",
       "      <td>TCCCTGTTGCACACCTGGATAGTTTTTTAAATTTTTTTAGACAGGG...</td>\n",
       "    </tr>\n",
       "    <tr>\n",
       "      <th>1</th>\n",
       "      <td>1</td>\n",
       "      <td>chr1:818441-819441</td>\n",
       "      <td>ATGCTTACCAGGGCTGGAGGCCCCTGTGAGTAGTGAAGTGCATGTG...</td>\n",
       "    </tr>\n",
       "    <tr>\n",
       "      <th>2</th>\n",
       "      <td>2</td>\n",
       "      <td>chr1:826644-827644</td>\n",
       "      <td>ATTCTGTCCTCCATATCTCTGCTGATTCCCATTTTGTCTATTTCCA...</td>\n",
       "    </tr>\n",
       "    <tr>\n",
       "      <th>3</th>\n",
       "      <td>3</td>\n",
       "      <td>chr1:851117-852117</td>\n",
       "      <td>TGTCTTTATAGCAGCATGATTTATAGTCCTTTGGGTATATACCCAG...</td>\n",
       "    </tr>\n",
       "    <tr>\n",
       "      <th>4</th>\n",
       "      <td>4</td>\n",
       "      <td>chr1:856205-857205</td>\n",
       "      <td>CATTCCCGGATCCAAGGTCCTGCCTCTGTCCTGTCCCCTGAGCCAC...</td>\n",
       "    </tr>\n",
       "    <tr>\n",
       "      <th>...</th>\n",
       "      <td>...</td>\n",
       "      <td>...</td>\n",
       "      <td>...</td>\n",
       "    </tr>\n",
       "    <tr>\n",
       "      <th>87904</th>\n",
       "      <td>3426</td>\n",
       "      <td>chrX:155434820-155435820</td>\n",
       "      <td>TTTTTCAAAAGAAAAGCAATGAGGATCAGAAAGGTGAAGATACTAG...</td>\n",
       "    </tr>\n",
       "    <tr>\n",
       "      <th>87905</th>\n",
       "      <td>3427</td>\n",
       "      <td>chrX:155435206-155436206</td>\n",
       "      <td>ACGCTCTTCCCATGTATCTTTGTAATTTGCTGATCAGGAGATCCCC...</td>\n",
       "    </tr>\n",
       "    <tr>\n",
       "      <th>87906</th>\n",
       "      <td>3428</td>\n",
       "      <td>chrX:155440330-155441330</td>\n",
       "      <td>AAGGGGAGGCAAACACATCCTTCTTCACAGGGTGGCAGCAAGGAGA...</td>\n",
       "    </tr>\n",
       "    <tr>\n",
       "      <th>87907</th>\n",
       "      <td>3429</td>\n",
       "      <td>chrX:155521212-155522212</td>\n",
       "      <td>TTTCTGGTTGTTAGTTTTCCTTCTAACAGACAGGACCCTCAGCTGC...</td>\n",
       "    </tr>\n",
       "    <tr>\n",
       "      <th>87908</th>\n",
       "      <td>3430</td>\n",
       "      <td>chrX:155521255-155522255</td>\n",
       "      <td>TGCAGGTCTGTTGGAATACCCTGCCGTGTGAGGTGTCAGTGTGCCC...</td>\n",
       "    </tr>\n",
       "  </tbody>\n",
       "</table>\n",
       "<p>87909 rows × 3 columns</p>\n",
       "</div>"
      ],
      "text/plain": [
       "       index                  location  \\\n",
       "0          0        chr1:778232-779232   \n",
       "1          1        chr1:818441-819441   \n",
       "2          2        chr1:826644-827644   \n",
       "3          3        chr1:851117-852117   \n",
       "4          4        chr1:856205-857205   \n",
       "...      ...                       ...   \n",
       "87904   3426  chrX:155434820-155435820   \n",
       "87905   3427  chrX:155435206-155436206   \n",
       "87906   3428  chrX:155440330-155441330   \n",
       "87907   3429  chrX:155521212-155522212   \n",
       "87908   3430  chrX:155521255-155522255   \n",
       "\n",
       "                                                sequence  \n",
       "0      TCCCTGTTGCACACCTGGATAGTTTTTTAAATTTTTTTAGACAGGG...  \n",
       "1      ATGCTTACCAGGGCTGGAGGCCCCTGTGAGTAGTGAAGTGCATGTG...  \n",
       "2      ATTCTGTCCTCCATATCTCTGCTGATTCCCATTTTGTCTATTTCCA...  \n",
       "3      TGTCTTTATAGCAGCATGATTTATAGTCCTTTGGGTATATACCCAG...  \n",
       "4      CATTCCCGGATCCAAGGTCCTGCCTCTGTCCTGTCCCCTGAGCCAC...  \n",
       "...                                                  ...  \n",
       "87904  TTTTTCAAAAGAAAAGCAATGAGGATCAGAAAGGTGAAGATACTAG...  \n",
       "87905  ACGCTCTTCCCATGTATCTTTGTAATTTGCTGATCAGGAGATCCCC...  \n",
       "87906  AAGGGGAGGCAAACACATCCTTCTTCACAGGGTGGCAGCAAGGAGA...  \n",
       "87907  TTTCTGGTTGTTAGTTTTCCTTCTAACAGACAGGACCCTCAGCTGC...  \n",
       "87908  TGCAGGTCTGTTGGAATACCCTGCCGTGTGAGGTGTCAGTGTGCCC...  \n",
       "\n",
       "[87909 rows x 3 columns]"
      ]
     },
     "execution_count": 90,
     "metadata": {},
     "output_type": "execute_result"
    }
   ],
   "source": [
    "fdiry = \"/home/mount/work/out/proj_combeffect/peak/cradle_deepstarr_data\"\n",
    "lst = list()\n",
    "sequence_length = 1000\n",
    "\n",
    "for chrom in CHROMS:\n",
    "    fname = \"chr\" + chrom + \".fa\"\n",
    "    fpath = os.path.join(fdiry, fname)\n",
    "    print(fpath, flush = True)\n",
    "    dat = IOHelper.get_fastas_from_file(fpath, uppercase=True)\n",
    "    lst.append(dat)\n",
    "\n",
    "dat_fasta = pd.concat(lst).reset_index()\n",
    "dat_fasta"
   ]
  },
  {
   "cell_type": "markdown",
   "metadata": {},
   "source": [
    "dat_fasta = IOHelper.get_fastas_from_file(\n",
    "    \"/home/mount/work/out/proj_combeffect/peak/cradle_deepstarr_data/chr17.fa\", \n",
    "    uppercase=True)"
   ]
  },
  {
   "cell_type": "code",
   "execution_count": 41,
   "metadata": {},
   "outputs": [
    {
     "data": {
      "text/plain": [
       "1000"
      ]
     },
     "execution_count": 41,
     "metadata": {},
     "output_type": "execute_result"
    }
   ],
   "source": [
    "len(dat_fasta.sequence.to_numpy()[0])"
   ]
  },
  {
   "cell_type": "code",
   "execution_count": 36,
   "metadata": {},
   "outputs": [
    {
     "name": "stdout",
     "output_type": "stream",
     "text": [
      "10\n",
      "0    TCCCTGTTGCACACCTGGATAGTTTTTTAAATTTTTTTAGACAGGG...\n",
      "0    GGCCCGCCTCCCTGGCCGCTCTCCGGGTGCCAGCGCCCGCCCTCAC...\n",
      "0    ATAAAAGTCCCAAAATGTGCAAATAGGTGTCACGGACATCTCTAAA...\n",
      "0    AGCTCGGTTAGGGCCTCATCGCTCTGCTCCCGCTCCTTAGGGAAGC...\n",
      "0    CTCTGCCTGATTTCTCCAGAATTTTGAAATTCTAACTGAATACTCT...\n",
      "0    TGGTTCTTTTTGGTGGGTTCTTGGTCTCGCAGACTTCAAGAATGAA...\n",
      "0    GTGACCTGAGCTCTCCCGGTGTCACATTCTCCACATCTGAGCCCTC...\n",
      "0    GTCTCCGCGGATGTCACAGGCTCGGCAACCGCCCTCCTGTCGGCGG...\n",
      "0    CCACGTGTCGGGCATTTTACAGACGGGACATCCTTTAATGGCAACA...\n",
      "0    CAGGAAGATACGAGACAACTAGTTGCATTCTTCTAAGTCCTTGATC...\n",
      "Name: sequence, dtype: object\n"
     ]
    }
   ],
   "source": [
    "seq = dat_fasta.sequence[0]\n",
    "print(len(seq))\n",
    "print(seq)"
   ]
  },
  {
   "cell_type": "code",
   "execution_count": 9,
   "metadata": {},
   "outputs": [
    {
     "data": {
      "text/html": [
       "<div>\n",
       "<style scoped>\n",
       "    .dataframe tbody tr th:only-of-type {\n",
       "        vertical-align: middle;\n",
       "    }\n",
       "\n",
       "    .dataframe tbody tr th {\n",
       "        vertical-align: top;\n",
       "    }\n",
       "\n",
       "    .dataframe thead th {\n",
       "        text-align: right;\n",
       "    }\n",
       "</style>\n",
       "<table border=\"1\" class=\"dataframe\">\n",
       "  <thead>\n",
       "    <tr style=\"text-align: right;\">\n",
       "      <th></th>\n",
       "      <th>location</th>\n",
       "      <th>sequence</th>\n",
       "    </tr>\n",
       "  </thead>\n",
       "  <tbody>\n",
       "    <tr>\n",
       "      <th>0</th>\n",
       "      <td>chr17:409725-410725</td>\n",
       "      <td>ATCCCAGCGATCTAGGAGGCCGAGGCGGGAAGATCGATGGAGCCCA...</td>\n",
       "    </tr>\n",
       "    <tr>\n",
       "      <th>1</th>\n",
       "      <td>chr17:409925-410925</td>\n",
       "      <td>CAACTGTCCAGATTCCAACAGACAAAAGCAAGCATGGGCGAACCAC...</td>\n",
       "    </tr>\n",
       "    <tr>\n",
       "      <th>2</th>\n",
       "      <td>chr17:494432-495432</td>\n",
       "      <td>GCGGCTCAGCCCCTGGAAGTCAGGAGTGTTTCCATAGTCCTGAGCA...</td>\n",
       "    </tr>\n",
       "    <tr>\n",
       "      <th>3</th>\n",
       "      <td>chr17:497086-498086</td>\n",
       "      <td>ACTCCAAAGGCAGGCTCAAAGGTCTCCATGGTACTCCAGGGCCCCT...</td>\n",
       "    </tr>\n",
       "    <tr>\n",
       "      <th>4</th>\n",
       "      <td>chr17:502352-503352</td>\n",
       "      <td>TGGTTTTTTTTTTGTTGTTGTTTTTTGAGACAGTCTCACTCTGGCT...</td>\n",
       "    </tr>\n",
       "  </tbody>\n",
       "</table>\n",
       "</div>"
      ],
      "text/plain": [
       "              location                                           sequence\n",
       "0  chr17:409725-410725  ATCCCAGCGATCTAGGAGGCCGAGGCGGGAAGATCGATGGAGCCCA...\n",
       "1  chr17:409925-410925  CAACTGTCCAGATTCCAACAGACAAAAGCAAGCATGGGCGAACCAC...\n",
       "2  chr17:494432-495432  GCGGCTCAGCCCCTGGAAGTCAGGAGTGTTTCCATAGTCCTGAGCA...\n",
       "3  chr17:497086-498086  ACTCCAAAGGCAGGCTCAAAGGTCTCCATGGTACTCCAGGGCCCCT...\n",
       "4  chr17:502352-503352  TGGTTTTTTTTTTGTTGTTGTTTTTTGAGACAGTCTCACTCTGGCT..."
      ]
     },
     "execution_count": 9,
     "metadata": {},
     "output_type": "execute_result"
    }
   ],
   "source": [
    "dat_fasta.head()"
   ]
  },
  {
   "cell_type": "code",
   "execution_count": 43,
   "metadata": {},
   "outputs": [
    {
     "data": {
      "text/plain": [
       "48528"
      ]
     },
     "execution_count": 43,
     "metadata": {},
     "output_type": "execute_result"
    }
   ],
   "source": [
    "len(dat_fasta)"
   ]
  },
  {
   "cell_type": "code",
   "execution_count": 42,
   "metadata": {},
   "outputs": [
    {
     "name": "stdout",
     "output_type": "stream",
     "text": [
      "1000\n"
     ]
    }
   ],
   "source": [
    "# get length of first sequence\n",
    "sequence_length = len(dat_fasta.sequence.iloc[0])\n",
    "print(sequence_length)"
   ]
  },
  {
   "cell_type": "code",
   "execution_count": 91,
   "metadata": {},
   "outputs": [],
   "source": [
    "# Convert sequence to one hot encoding matrix\n",
    "seq_matrix = SequenceHelper.do_one_hot_encoding(\n",
    "    dat_fasta.sequence, \n",
    "    sequence_length,\n",
    "    SequenceHelper.parse_alpha_to_seq)"
   ]
  },
  {
   "cell_type": "code",
   "execution_count": 93,
   "metadata": {},
   "outputs": [
    {
     "name": "stdout",
     "output_type": "stream",
     "text": [
      "(87909, 1000, 4)\n"
     ]
    }
   ],
   "source": [
    "print(seq_matrix.shape)"
   ]
  },
  {
   "cell_type": "code",
   "execution_count": 94,
   "metadata": {},
   "outputs": [],
   "source": [
    "X = np.nan_to_num(seq_matrix) # Replace NaN with zero and infinity with large finite numbers\n",
    "X_reshaped = X.reshape((X.shape[0], X.shape[1], X.shape[2]))"
   ]
  },
  {
   "cell_type": "code",
   "execution_count": 95,
   "metadata": {},
   "outputs": [],
   "source": [
    "fdiry\n",
    "fpath = \"/home/mount/work/out/proj_combeffect/peak/cradle_peak_count/results/dat_score_chr17.tsv\"\n",
    "\n",
    "lst = list()\n",
    "for \n",
    "Activity = pd.read_table(fpath)\n",
    "Y_dmso = Activity.Log2_Score_DMSO\n",
    "Y_dex  = Activity.Log2_Score_Dex\n",
    "#Y      = [Y_dmso, Y_dex]\n",
    "Y = np.array([Y_dmso, Y_dex])\n",
    "Y = Y.T"
   ]
  },
  {
   "cell_type": "code",
   "execution_count": 96,
   "metadata": {},
   "outputs": [],
   "source": [
    "from sklearn.model_selection import train_test_split"
   ]
  },
  {
   "cell_type": "code",
   "execution_count": 97,
   "metadata": {},
   "outputs": [
    {
     "name": "stdout",
     "output_type": "stream",
     "text": [
      "(87909, 1000, 4)\n",
      "(3601, 2)\n"
     ]
    }
   ],
   "source": [
    "print(X_reshaped.shape)\n",
    "print(Y.shape)"
   ]
  },
  {
   "cell_type": "code",
   "execution_count": 16,
   "metadata": {},
   "outputs": [],
   "source": [
    "X_train, X_valid, y_train, y_valid = train_test_split(\n",
    "    X_reshaped, \n",
    "    Y, \n",
    "    test_size=0.1, \n",
    "    random_state=42)"
   ]
  },
  {
   "cell_type": "code",
   "execution_count": 17,
   "metadata": {},
   "outputs": [
    {
     "name": "stdout",
     "output_type": "stream",
     "text": [
      "(3240, 1000, 4)\n",
      "(361, 1000, 4)\n",
      "(3240, 2)\n",
      "(361, 2)\n"
     ]
    }
   ],
   "source": [
    "print(X_train.shape)\n",
    "print(X_valid.shape)\n",
    "print(y_train.shape)\n",
    "print(y_valid.shape)"
   ]
  },
  {
   "cell_type": "code",
   "execution_count": 18,
   "metadata": {},
   "outputs": [],
   "source": [
    "Y_train = [y_train[:,0], y_train[:,1]]\n",
    "Y_valid = [y_valid[:,0], y_valid[:,1]]"
   ]
  },
  {
   "cell_type": "code",
   "execution_count": 19,
   "metadata": {},
   "outputs": [
    {
     "name": "stdout",
     "output_type": "stream",
     "text": [
      "(3240, 1000, 4)\n",
      "(361, 1000, 4)\n",
      "(3240,)\n",
      "(361,)\n"
     ]
    }
   ],
   "source": [
    "print(X_train.shape)\n",
    "print(X_valid.shape)\n",
    "print(Y_train[0].shape)\n",
    "print(Y_valid[0].shape)"
   ]
  },
  {
   "cell_type": "code",
   "execution_count": 20,
   "metadata": {},
   "outputs": [],
   "source": [
    "### Additional metrics\n",
    "from scipy.stats import spearmanr\n",
    "def Spearman(y_true, y_pred):\n",
    "     return ( tf.py_function(spearmanr, [tf.cast(y_pred, tf.float32), \n",
    "                       tf.cast(y_true, tf.float32)], Tout = tf.float32) )"
   ]
  },
  {
   "cell_type": "code",
   "execution_count": 21,
   "metadata": {},
   "outputs": [
    {
     "name": "stderr",
     "output_type": "stream",
     "text": [
      "WARNING: Logging before flag parsing goes to stderr.\n",
      "W0109 13:40:02.254576 140524259751744 deprecation.py:506] From /usr/local/lib/python3.6/dist-packages/tensorflow/python/ops/init_ops.py:1251: calling VarianceScaling.__init__ (from tensorflow.python.ops.init_ops) with dtype is deprecated and will be removed in a future version.\n",
      "Instructions for updating:\n",
      "Call initializer instance with the dtype argument instead of passing it to the constructor\n"
     ]
    },
    {
     "name": "stdout",
     "output_type": "stream",
     "text": [
      "Model: \"model\"\n",
      "__________________________________________________________________________________________________\n",
      "Layer (type)                    Output Shape         Param #     Connected to                     \n",
      "==================================================================================================\n",
      "input_1 (InputLayer)            [(None, 1000, 4)]    0                                            \n",
      "__________________________________________________________________________________________________\n",
      "Conv1D_1st (Conv1D)             (None, 1000, 256)    7424        input_1[0][0]                    \n",
      "__________________________________________________________________________________________________\n",
      "batch_normalization (BatchNorma (None, 1000, 256)    1024        Conv1D_1st[0][0]                 \n",
      "__________________________________________________________________________________________________\n",
      "activation (Activation)         (None, 1000, 256)    0           batch_normalization[0][0]        \n",
      "__________________________________________________________________________________________________\n",
      "max_pooling1d (MaxPooling1D)    (None, 500, 256)     0           activation[0][0]                 \n",
      "__________________________________________________________________________________________________\n",
      "Conv1D_2 (Conv1D)               (None, 500, 60)      46140       max_pooling1d[0][0]              \n",
      "__________________________________________________________________________________________________\n",
      "batch_normalization_1 (BatchNor (None, 500, 60)      240         Conv1D_2[0][0]                   \n",
      "__________________________________________________________________________________________________\n",
      "activation_1 (Activation)       (None, 500, 60)      0           batch_normalization_1[0][0]      \n",
      "__________________________________________________________________________________________________\n",
      "max_pooling1d_1 (MaxPooling1D)  (None, 250, 60)      0           activation_1[0][0]               \n",
      "__________________________________________________________________________________________________\n",
      "Conv1D_3 (Conv1D)               (None, 250, 60)      18060       max_pooling1d_1[0][0]            \n",
      "__________________________________________________________________________________________________\n",
      "batch_normalization_2 (BatchNor (None, 250, 60)      240         Conv1D_3[0][0]                   \n",
      "__________________________________________________________________________________________________\n",
      "activation_2 (Activation)       (None, 250, 60)      0           batch_normalization_2[0][0]      \n",
      "__________________________________________________________________________________________________\n",
      "max_pooling1d_2 (MaxPooling1D)  (None, 125, 60)      0           activation_2[0][0]               \n",
      "__________________________________________________________________________________________________\n",
      "Conv1D_4 (Conv1D)               (None, 125, 120)     21720       max_pooling1d_2[0][0]            \n",
      "__________________________________________________________________________________________________\n",
      "batch_normalization_3 (BatchNor (None, 125, 120)     480         Conv1D_4[0][0]                   \n",
      "__________________________________________________________________________________________________\n",
      "activation_3 (Activation)       (None, 125, 120)     0           batch_normalization_3[0][0]      \n",
      "__________________________________________________________________________________________________\n",
      "max_pooling1d_3 (MaxPooling1D)  (None, 62, 120)      0           activation_3[0][0]               \n",
      "__________________________________________________________________________________________________\n",
      "Conv1D_5 (Conv1D)               (None, 62, 120)      43320       max_pooling1d_3[0][0]            \n",
      "__________________________________________________________________________________________________\n",
      "batch_normalization_4 (BatchNor (None, 62, 120)      480         Conv1D_5[0][0]                   \n",
      "__________________________________________________________________________________________________\n",
      "activation_4 (Activation)       (None, 62, 120)      0           batch_normalization_4[0][0]      \n",
      "__________________________________________________________________________________________________\n",
      "max_pooling1d_4 (MaxPooling1D)  (None, 31, 120)      0           activation_4[0][0]               \n",
      "__________________________________________________________________________________________________\n",
      "flatten (Flatten)               (None, 3720)         0           max_pooling1d_4[0][0]            \n",
      "__________________________________________________________________________________________________\n",
      "Dense_1 (Dense)                 (None, 256)          952576      flatten[0][0]                    \n",
      "__________________________________________________________________________________________________\n",
      "batch_normalization_5 (BatchNor (None, 256)          1024        Dense_1[0][0]                    \n",
      "__________________________________________________________________________________________________\n",
      "activation_5 (Activation)       (None, 256)          0           batch_normalization_5[0][0]      \n",
      "__________________________________________________________________________________________________\n",
      "dropout (Dropout)               (None, 256)          0           activation_5[0][0]               \n",
      "__________________________________________________________________________________________________\n",
      "Dense_2 (Dense)                 (None, 256)          65792       dropout[0][0]                    \n",
      "__________________________________________________________________________________________________\n",
      "batch_normalization_6 (BatchNor (None, 256)          1024        Dense_2[0][0]                    \n",
      "__________________________________________________________________________________________________\n",
      "activation_6 (Activation)       (None, 256)          0           batch_normalization_6[0][0]      \n",
      "__________________________________________________________________________________________________\n",
      "dropout_1 (Dropout)             (None, 256)          0           activation_6[0][0]               \n",
      "__________________________________________________________________________________________________\n",
      "Dense_DMSO (Dense)              (None, 1)            257         dropout_1[0][0]                  \n",
      "__________________________________________________________________________________________________\n",
      "Dense_Dex (Dense)               (None, 1)            257         dropout_1[0][0]                  \n",
      "==================================================================================================\n",
      "Total params: 1,160,058\n",
      "Trainable params: 1,157,802\n",
      "Non-trainable params: 2,256\n",
      "__________________________________________________________________________________________________\n"
     ]
    },
    {
     "data": {
      "text/plain": [
       "{'batch_size': 128,\n",
       " 'epochs': 100,\n",
       " 'early_stop': 10,\n",
       " 'kernel_size1': 7,\n",
       " 'kernel_size2': 3,\n",
       " 'kernel_size3': 5,\n",
       " 'kernel_size4': 3,\n",
       " 'kernel_size5': 3,\n",
       " 'lr': 0.002,\n",
       " 'num_filters': 256,\n",
       " 'num_filters2': 60,\n",
       " 'num_filters3': 60,\n",
       " 'num_filters4': 120,\n",
       " 'num_filters5': 120,\n",
       " 'n_conv_layer': 5,\n",
       " 'n_add_layer': 2,\n",
       " 'dropout_prob': 0.4,\n",
       " 'dense_neurons1': 256,\n",
       " 'dense_neurons2': 256,\n",
       " 'pad': 'same'}"
      ]
     },
     "execution_count": 21,
     "metadata": {},
     "output_type": "execute_result"
    }
   ],
   "source": [
    "params = {'batch_size': 128,\n",
    "          'epochs': 100,\n",
    "          'early_stop': 10,\n",
    "          'kernel_size1': 7,\n",
    "          'kernel_size2': 3,\n",
    "          'kernel_size3': 5,\n",
    "          'kernel_size4': 3,\n",
    "          'kernel_size5': 3,\n",
    "          'lr': 0.002,\n",
    "          'num_filters': 256,\n",
    "          'num_filters2': 60,\n",
    "          'num_filters3': 60,\n",
    "          'num_filters4': 120,\n",
    "          'num_filters5': 120,\n",
    "          #'n_conv_layer': 4,\n",
    "          'n_conv_layer': 5,\n",
    "          'n_add_layer':  2,\n",
    "          'dropout_prob': 0.4,\n",
    "          'dense_neurons1': 256,\n",
    "          'dense_neurons2': 256,\n",
    "          'pad':'same'}\n",
    "\n",
    "def DeepSTARR(params=params):\n",
    "    \n",
    "    lr = params['lr']\n",
    "    dropout_prob = params['dropout_prob']\n",
    "    n_conv_layer = params['n_conv_layer']\n",
    "    n_add_layer = params['n_add_layer']\n",
    "    \n",
    "    # body\n",
    "    #input = kl.Input(shape=(249, 4))\n",
    "    input = kl.Input(shape=(1000, 4))\n",
    "    x = kl.Conv1D(params['num_filters'], kernel_size=params['kernel_size1'],\n",
    "                  padding=params['pad'],\n",
    "                  name='Conv1D_1st')(input)\n",
    "    x = BatchNormalization()(x)\n",
    "    x = Activation('relu')(x)\n",
    "    x = MaxPooling1D(2)(x)\n",
    "\n",
    "    for i in range(1, n_conv_layer):\n",
    "        x = kl.Conv1D(params['num_filters'+str(i+1)],\n",
    "                      kernel_size=params['kernel_size'+str(i+1)],\n",
    "                      padding=params['pad'],\n",
    "                      name=str('Conv1D_'+str(i+1)))(x)\n",
    "        x = BatchNormalization()(x)\n",
    "        x = Activation('relu')(x)\n",
    "        x = MaxPooling1D(2)(x)\n",
    "    \n",
    "    x = Flatten()(x)\n",
    "    \n",
    "    # dense layers\n",
    "    for i in range(0, n_add_layer):\n",
    "        x = kl.Dense(params['dense_neurons'+str(i+1)],\n",
    "                     name=str('Dense_'+str(i+1)))(x)\n",
    "        x = BatchNormalization()(x)\n",
    "        x = Activation('relu')(x)\n",
    "        x = Dropout(dropout_prob)(x)\n",
    "    bottleneck = x\n",
    "    \n",
    "    # heads per task (developmental and housekeeping enhancer activities)\n",
    "    #tasks = ['Dev', 'Hk']\n",
    "    tasks = ['DMSO', 'Dex']\n",
    "    outputs = []\n",
    "    for task in tasks:\n",
    "        outputs.append(kl.Dense(1, activation='linear', name=str('Dense_' + task))(bottleneck))\n",
    "\n",
    "    model = tf.keras.models.Model([input], outputs)\n",
    "    model.compile(tf.keras.optimizers.Adam(learning_rate=lr),\n",
    "                  loss=['mse', 'mse'], # loss\n",
    "                  loss_weights=[1, 1], # loss weigths to balance\n",
    "                  metrics=[Spearman]) # additional track metric\n",
    "\n",
    "    return model, params\n",
    "\n",
    "DeepSTARR()[0].summary()\n",
    "DeepSTARR()[1] # dictionary"
   ]
  },
  {
   "cell_type": "code",
   "execution_count": 22,
   "metadata": {},
   "outputs": [],
   "source": [
    "def train(selected_model, X_train, Y_train, X_valid, Y_valid, params):\n",
    "\n",
    "    my_history=selected_model.fit(X_train, Y_train,\n",
    "                                  validation_data=(X_valid, Y_valid),\n",
    "                                  batch_size=params['batch_size'], epochs=params['epochs'],\n",
    "                                  callbacks=[EarlyStopping(patience=params['early_stop'], monitor=\"val_loss\", restore_best_weights=True),\n",
    "                                             History()])\n",
    "    \n",
    "    return selected_model, my_history"
   ]
  },
  {
   "cell_type": "code",
   "execution_count": 23,
   "metadata": {
    "tags": []
   },
   "outputs": [
    {
     "name": "stdout",
     "output_type": "stream",
     "text": [
      "Train on 3240 samples, validate on 361 samples\n",
      "Epoch 1/100\n",
      "3240/3240 [==============================] - 4s 1ms/sample - loss: 3.5018 - Dense_DMSO_loss: 1.6823 - Dense_Dex_loss: 1.7709 - Dense_DMSO_Spearman: 0.0964 - Dense_Dex_Spearman: 0.0130 - val_loss: 4.3531 - val_Dense_DMSO_loss: 1.6419 - val_Dense_Dex_loss: 2.7227 - val_Dense_DMSO_Spearman: 0.2875 - val_Dense_Dex_Spearman: 0.0411\n",
      "Epoch 2/100\n",
      "3240/3240 [==============================] - 1s 275us/sample - loss: 2.3361 - Dense_DMSO_loss: 1.1655 - Dense_Dex_loss: 1.1586 - Dense_DMSO_Spearman: 0.1325 - Dense_Dex_Spearman: 0.0933 - val_loss: 3.4997 - val_Dense_DMSO_loss: 1.4607 - val_Dense_Dex_loss: 2.0561 - val_Dense_DMSO_Spearman: 0.3452 - val_Dense_Dex_Spearman: 0.0627\n",
      "Epoch 3/100\n",
      "3240/3240 [==============================] - 1s 274us/sample - loss: 1.8148 - Dense_DMSO_loss: 0.8969 - Dense_Dex_loss: 0.9014 - Dense_DMSO_Spearman: 0.2167 - Dense_Dex_Spearman: 0.1500 - val_loss: 2.9052 - val_Dense_DMSO_loss: 1.4055 - val_Dense_Dex_loss: 1.4845 - val_Dense_DMSO_Spearman: 0.3082 - val_Dense_Dex_Spearman: 0.0201\n",
      "Epoch 4/100\n",
      "3240/3240 [==============================] - 1s 277us/sample - loss: 1.4800 - Dense_DMSO_loss: 0.7460 - Dense_Dex_loss: 0.7302 - Dense_DMSO_Spearman: 0.2739 - Dense_Dex_Spearman: 0.2323 - val_loss: 2.3862 - val_Dense_DMSO_loss: 1.1148 - val_Dense_Dex_loss: 1.2757 - val_Dense_DMSO_Spearman: -0.1506 - val_Dense_Dex_Spearman: 0.0610\n",
      "Epoch 5/100\n",
      "3240/3240 [==============================] - 1s 275us/sample - loss: 1.2253 - Dense_DMSO_loss: 0.5868 - Dense_Dex_loss: 0.6345 - Dense_DMSO_Spearman: 0.4139 - Dense_Dex_Spearman: 0.3093 - val_loss: 2.5876 - val_Dense_DMSO_loss: 1.2020 - val_Dense_Dex_loss: 1.3753 - val_Dense_DMSO_Spearman: -0.0471 - val_Dense_Dex_Spearman: 0.1123\n",
      "Epoch 6/100\n",
      "3240/3240 [==============================] - 1s 279us/sample - loss: 1.0559 - Dense_DMSO_loss: 0.5302 - Dense_Dex_loss: 0.5234 - Dense_DMSO_Spearman: 0.4475 - Dense_Dex_Spearman: 0.3907 - val_loss: 2.5488 - val_Dense_DMSO_loss: 1.1957 - val_Dense_Dex_loss: 1.3815 - val_Dense_DMSO_Spearman: 0.1610 - val_Dense_Dex_Spearman: 0.0870\n",
      "Epoch 7/100\n",
      "3240/3240 [==============================] - 1s 269us/sample - loss: 0.8371 - Dense_DMSO_loss: 0.4345 - Dense_Dex_loss: 0.4029 - Dense_DMSO_Spearman: 0.5584 - Dense_Dex_Spearman: 0.5211 - val_loss: 2.5605 - val_Dense_DMSO_loss: 1.2848 - val_Dense_Dex_loss: 1.3179 - val_Dense_DMSO_Spearman: 0.0822 - val_Dense_Dex_Spearman: -9.3576e-04\n",
      "Epoch 8/100\n",
      "3240/3240 [==============================] - 1s 264us/sample - loss: 0.7039 - Dense_DMSO_loss: 0.3431 - Dense_Dex_loss: 0.3604 - Dense_DMSO_Spearman: 0.6383 - Dense_Dex_Spearman: 0.5813 - val_loss: 2.4665 - val_Dense_DMSO_loss: 1.1648 - val_Dense_Dex_loss: 1.3045 - val_Dense_DMSO_Spearman: 0.2081 - val_Dense_Dex_Spearman: 0.0330\n",
      "Epoch 9/100\n",
      "3240/3240 [==============================] - 1s 268us/sample - loss: 0.6260 - Dense_DMSO_loss: 0.3199 - Dense_Dex_loss: 0.3074 - Dense_DMSO_Spearman: 0.6827 - Dense_Dex_Spearman: 0.6355 - val_loss: 2.4627 - val_Dense_DMSO_loss: 1.1502 - val_Dense_Dex_loss: 1.2838 - val_Dense_DMSO_Spearman: 0.2419 - val_Dense_Dex_Spearman: 0.0615\n",
      "Epoch 10/100\n",
      "3240/3240 [==============================] - 1s 272us/sample - loss: 0.5182 - Dense_DMSO_loss: 0.2756 - Dense_Dex_loss: 0.2427 - Dense_DMSO_Spearman: 0.7343 - Dense_Dex_Spearman: 0.7049 - val_loss: 2.3093 - val_Dense_DMSO_loss: 1.0810 - val_Dense_Dex_loss: 1.2211 - val_Dense_DMSO_Spearman: 0.2804 - val_Dense_Dex_Spearman: 0.1440\n",
      "Epoch 11/100\n",
      "3240/3240 [==============================] - 1s 272us/sample - loss: 0.4426 - Dense_DMSO_loss: 0.2225 - Dense_Dex_loss: 0.2195 - Dense_DMSO_Spearman: 0.7882 - Dense_Dex_Spearman: 0.7406 - val_loss: 2.1955 - val_Dense_DMSO_loss: 1.0667 - val_Dense_Dex_loss: 1.1271 - val_Dense_DMSO_Spearman: 0.2002 - val_Dense_Dex_Spearman: 0.1155\n",
      "Epoch 12/100\n",
      "3240/3240 [==============================] - 1s 259us/sample - loss: 0.3967 - Dense_DMSO_loss: 0.2025 - Dense_Dex_loss: 0.1921 - Dense_DMSO_Spearman: 0.8039 - Dense_Dex_Spearman: 0.7787 - val_loss: 2.2216 - val_Dense_DMSO_loss: 1.0803 - val_Dense_Dex_loss: 1.1516 - val_Dense_DMSO_Spearman: 0.2438 - val_Dense_Dex_Spearman: 0.1586\n",
      "Epoch 13/100\n",
      "3240/3240 [==============================] - 1s 262us/sample - loss: 0.3719 - Dense_DMSO_loss: 0.1885 - Dense_Dex_loss: 0.1866 - Dense_DMSO_Spearman: 0.8354 - Dense_Dex_Spearman: 0.7972 - val_loss: 2.1880 - val_Dense_DMSO_loss: 0.9646 - val_Dense_Dex_loss: 1.2231 - val_Dense_DMSO_Spearman: 0.2807 - val_Dense_Dex_Spearman: 0.1798\n",
      "Epoch 14/100\n",
      "3240/3240 [==============================] - 1s 268us/sample - loss: 0.3388 - Dense_DMSO_loss: 0.1644 - Dense_Dex_loss: 0.1762 - Dense_DMSO_Spearman: 0.8483 - Dense_Dex_Spearman: 0.8132 - val_loss: 2.3235 - val_Dense_DMSO_loss: 1.0319 - val_Dense_Dex_loss: 1.2878 - val_Dense_DMSO_Spearman: 0.2667 - val_Dense_Dex_Spearman: 0.2147\n",
      "Epoch 15/100\n",
      "3240/3240 [==============================] - 1s 273us/sample - loss: 0.3062 - Dense_DMSO_loss: 0.1557 - Dense_Dex_loss: 0.1504 - Dense_DMSO_Spearman: 0.8619 - Dense_Dex_Spearman: 0.8337 - val_loss: 2.3740 - val_Dense_DMSO_loss: 1.0072 - val_Dense_Dex_loss: 1.3580 - val_Dense_DMSO_Spearman: 0.3244 - val_Dense_Dex_Spearman: 0.1977\n",
      "Epoch 16/100\n",
      "3240/3240 [==============================] - 1s 265us/sample - loss: 0.2846 - Dense_DMSO_loss: 0.1458 - Dense_Dex_loss: 0.1396 - Dense_DMSO_Spearman: 0.8635 - Dense_Dex_Spearman: 0.8464 - val_loss: 2.3695 - val_Dense_DMSO_loss: 0.9516 - val_Dense_Dex_loss: 1.4198 - val_Dense_DMSO_Spearman: 0.3673 - val_Dense_Dex_Spearman: 0.1933\n",
      "Epoch 17/100\n",
      "3240/3240 [==============================] - 1s 263us/sample - loss: 0.2677 - Dense_DMSO_loss: 0.1308 - Dense_Dex_loss: 0.1378 - Dense_DMSO_Spearman: 0.8853 - Dense_Dex_Spearman: 0.8534 - val_loss: 2.2201 - val_Dense_DMSO_loss: 0.9081 - val_Dense_Dex_loss: 1.3033 - val_Dense_DMSO_Spearman: 0.4058 - val_Dense_Dex_Spearman: 0.1614\n",
      "Epoch 18/100\n",
      "3240/3240 [==============================] - 1s 275us/sample - loss: 0.2573 - Dense_DMSO_loss: 0.1313 - Dense_Dex_loss: 0.1284 - Dense_DMSO_Spearman: 0.8832 - Dense_Dex_Spearman: 0.8687 - val_loss: 2.0462 - val_Dense_DMSO_loss: 0.7985 - val_Dense_Dex_loss: 1.2299 - val_Dense_DMSO_Spearman: 0.4209 - val_Dense_Dex_Spearman: 0.1885\n",
      "Epoch 19/100\n",
      "3240/3240 [==============================] - 1s 278us/sample - loss: 0.2335 - Dense_DMSO_loss: 0.1165 - Dense_Dex_loss: 0.1171 - Dense_DMSO_Spearman: 0.8901 - Dense_Dex_Spearman: 0.8779 - val_loss: 2.1547 - val_Dense_DMSO_loss: 0.7451 - val_Dense_Dex_loss: 1.3818 - val_Dense_DMSO_Spearman: 0.4264 - val_Dense_Dex_Spearman: 0.1545\n",
      "Epoch 20/100\n",
      "3240/3240 [==============================] - 1s 273us/sample - loss: 0.2315 - Dense_DMSO_loss: 0.1137 - Dense_Dex_loss: 0.1209 - Dense_DMSO_Spearman: 0.9035 - Dense_Dex_Spearman: 0.8750 - val_loss: 2.1241 - val_Dense_DMSO_loss: 0.7679 - val_Dense_Dex_loss: 1.3451 - val_Dense_DMSO_Spearman: 0.4327 - val_Dense_Dex_Spearman: 0.1580\n",
      "Epoch 21/100\n",
      "3240/3240 [==============================] - 1s 275us/sample - loss: 0.2230 - Dense_DMSO_loss: 0.1099 - Dense_Dex_loss: 0.1131 - Dense_DMSO_Spearman: 0.9048 - Dense_Dex_Spearman: 0.8871 - val_loss: 1.7636 - val_Dense_DMSO_loss: 0.5953 - val_Dense_Dex_loss: 1.1506 - val_Dense_DMSO_Spearman: 0.4231 - val_Dense_Dex_Spearman: 0.1912\n",
      "Epoch 22/100\n",
      "3240/3240 [==============================] - 1s 279us/sample - loss: 0.2166 - Dense_DMSO_loss: 0.1014 - Dense_Dex_loss: 0.1147 - Dense_DMSO_Spearman: 0.9097 - Dense_Dex_Spearman: 0.8858 - val_loss: 1.7509 - val_Dense_DMSO_loss: 0.6327 - val_Dense_Dex_loss: 1.1335 - val_Dense_DMSO_Spearman: 0.4496 - val_Dense_Dex_Spearman: 0.1599\n",
      "Epoch 23/100\n",
      "3240/3240 [==============================] - 1s 280us/sample - loss: 0.2038 - Dense_DMSO_loss: 0.0980 - Dense_Dex_loss: 0.1062 - Dense_DMSO_Spearman: 0.9130 - Dense_Dex_Spearman: 0.8918 - val_loss: 1.5351 - val_Dense_DMSO_loss: 0.6082 - val_Dense_Dex_loss: 0.9224 - val_Dense_DMSO_Spearman: 0.4325 - val_Dense_Dex_Spearman: 0.1338\n",
      "Epoch 24/100\n",
      "3240/3240 [==============================] - 1s 274us/sample - loss: 0.2005 - Dense_DMSO_loss: 0.0965 - Dense_Dex_loss: 0.1044 - Dense_DMSO_Spearman: 0.9185 - Dense_Dex_Spearman: 0.9027 - val_loss: 1.8164 - val_Dense_DMSO_loss: 0.8723 - val_Dense_Dex_loss: 0.9607 - val_Dense_DMSO_Spearman: 0.4294 - val_Dense_Dex_Spearman: 0.1278\n",
      "Epoch 25/100\n",
      "3240/3240 [==============================] - 1s 272us/sample - loss: 0.1945 - Dense_DMSO_loss: 0.0933 - Dense_Dex_loss: 0.1007 - Dense_DMSO_Spearman: 0.9164 - Dense_Dex_Spearman: 0.9013 - val_loss: 1.8676 - val_Dense_DMSO_loss: 0.8090 - val_Dense_Dex_loss: 1.0493 - val_Dense_DMSO_Spearman: 0.4417 - val_Dense_Dex_Spearman: 0.1694\n",
      "Epoch 26/100\n",
      "3240/3240 [==============================] - 1s 271us/sample - loss: 0.2006 - Dense_DMSO_loss: 0.0990 - Dense_Dex_loss: 0.1037 - Dense_DMSO_Spearman: 0.9184 - Dense_Dex_Spearman: 0.8947 - val_loss: 1.6886 - val_Dense_DMSO_loss: 0.7831 - val_Dense_Dex_loss: 0.8995 - val_Dense_DMSO_Spearman: 0.4410 - val_Dense_Dex_Spearman: 0.1301\n",
      "Epoch 27/100\n",
      "3240/3240 [==============================] - 1s 269us/sample - loss: 0.1939 - Dense_DMSO_loss: 0.0903 - Dense_Dex_loss: 0.1045 - Dense_DMSO_Spearman: 0.9229 - Dense_Dex_Spearman: 0.8997 - val_loss: 1.7480 - val_Dense_DMSO_loss: 0.8578 - val_Dense_Dex_loss: 0.8842 - val_Dense_DMSO_Spearman: 0.4675 - val_Dense_Dex_Spearman: 0.0962\n",
      "Epoch 28/100\n",
      "3240/3240 [==============================] - 1s 260us/sample - loss: 0.1852 - Dense_DMSO_loss: 0.0942 - Dense_Dex_loss: 0.0925 - Dense_DMSO_Spearman: 0.9199 - Dense_Dex_Spearman: 0.9034 - val_loss: 1.5780 - val_Dense_DMSO_loss: 0.6794 - val_Dense_Dex_loss: 0.8802 - val_Dense_DMSO_Spearman: 0.4292 - val_Dense_Dex_Spearman: 0.1595\n",
      "Epoch 29/100\n",
      "3240/3240 [==============================] - 1s 268us/sample - loss: 0.1798 - Dense_DMSO_loss: 0.0890 - Dense_Dex_loss: 0.0916 - Dense_DMSO_Spearman: 0.9268 - Dense_Dex_Spearman: 0.9098 - val_loss: 1.5764 - val_Dense_DMSO_loss: 0.7042 - val_Dense_Dex_loss: 0.8891 - val_Dense_DMSO_Spearman: 0.4584 - val_Dense_Dex_Spearman: 0.1379\n",
      "Epoch 30/100\n",
      "3240/3240 [==============================] - 1s 273us/sample - loss: 0.1766 - Dense_DMSO_loss: 0.0880 - Dense_Dex_loss: 0.0903 - Dense_DMSO_Spearman: 0.9224 - Dense_Dex_Spearman: 0.9050 - val_loss: 1.7404 - val_Dense_DMSO_loss: 0.7199 - val_Dense_Dex_loss: 1.0339 - val_Dense_DMSO_Spearman: 0.4540 - val_Dense_Dex_Spearman: 0.1070\n",
      "Epoch 31/100\n",
      "3240/3240 [==============================] - 1s 271us/sample - loss: 0.1759 - Dense_DMSO_loss: 0.0833 - Dense_Dex_loss: 0.0941 - Dense_DMSO_Spearman: 0.9274 - Dense_Dex_Spearman: 0.9121 - val_loss: 1.4301 - val_Dense_DMSO_loss: 0.5759 - val_Dense_Dex_loss: 0.8693 - val_Dense_DMSO_Spearman: 0.4557 - val_Dense_Dex_Spearman: 0.1137\n",
      "Epoch 32/100\n",
      "3240/3240 [==============================] - 1s 264us/sample - loss: 0.1707 - Dense_DMSO_loss: 0.0813 - Dense_Dex_loss: 0.0897 - Dense_DMSO_Spearman: 0.9307 - Dense_Dex_Spearman: 0.9134 - val_loss: 1.4563 - val_Dense_DMSO_loss: 0.6955 - val_Dense_Dex_loss: 0.7728 - val_Dense_DMSO_Spearman: 0.4545 - val_Dense_Dex_Spearman: 0.1271\n",
      "Epoch 33/100\n",
      "3240/3240 [==============================] - 1s 260us/sample - loss: 0.1641 - Dense_DMSO_loss: 0.0808 - Dense_Dex_loss: 0.0827 - Dense_DMSO_Spearman: 0.9306 - Dense_Dex_Spearman: 0.9125 - val_loss: 1.6162 - val_Dense_DMSO_loss: 0.8122 - val_Dense_Dex_loss: 0.8042 - val_Dense_DMSO_Spearman: 0.4546 - val_Dense_Dex_Spearman: 0.1071\n",
      "Epoch 34/100\n",
      "3240/3240 [==============================] - 1s 266us/sample - loss: 0.1671 - Dense_DMSO_loss: 0.0842 - Dense_Dex_loss: 0.0825 - Dense_DMSO_Spearman: 0.9292 - Dense_Dex_Spearman: 0.9171 - val_loss: 1.4756 - val_Dense_DMSO_loss: 0.7048 - val_Dense_Dex_loss: 0.7558 - val_Dense_DMSO_Spearman: 0.4346 - val_Dense_Dex_Spearman: 0.1155\n",
      "Epoch 35/100\n",
      "3240/3240 [==============================] - 1s 265us/sample - loss: 0.1660 - Dense_DMSO_loss: 0.0805 - Dense_Dex_loss: 0.0921 - Dense_DMSO_Spearman: 0.9361 - Dense_Dex_Spearman: 0.9233 - val_loss: 1.2867 - val_Dense_DMSO_loss: 0.5499 - val_Dense_Dex_loss: 0.7201 - val_Dense_DMSO_Spearman: 0.4495 - val_Dense_Dex_Spearman: 0.0884\n",
      "Epoch 36/100\n",
      "3240/3240 [==============================] - 1s 266us/sample - loss: 0.1827 - Dense_DMSO_loss: 0.0841 - Dense_Dex_loss: 0.0981 - Dense_DMSO_Spearman: 0.9346 - Dense_Dex_Spearman: 0.9161 - val_loss: 1.3460 - val_Dense_DMSO_loss: 0.5775 - val_Dense_Dex_loss: 0.7768 - val_Dense_DMSO_Spearman: 0.4335 - val_Dense_Dex_Spearman: 0.1148\n",
      "Epoch 37/100\n",
      "3240/3240 [==============================] - 1s 263us/sample - loss: 0.1686 - Dense_DMSO_loss: 0.0838 - Dense_Dex_loss: 0.0841 - Dense_DMSO_Spearman: 0.9316 - Dense_Dex_Spearman: 0.9184 - val_loss: 1.5617 - val_Dense_DMSO_loss: 0.6786 - val_Dense_Dex_loss: 0.8795 - val_Dense_DMSO_Spearman: 0.4511 - val_Dense_Dex_Spearman: 0.1055\n",
      "Epoch 38/100\n",
      "3240/3240 [==============================] - 1s 267us/sample - loss: 0.1668 - Dense_DMSO_loss: 0.0807 - Dense_Dex_loss: 0.0862 - Dense_DMSO_Spearman: 0.9346 - Dense_Dex_Spearman: 0.9176 - val_loss: 1.5115 - val_Dense_DMSO_loss: 0.6121 - val_Dense_Dex_loss: 0.8951 - val_Dense_DMSO_Spearman: 0.4313 - val_Dense_Dex_Spearman: 0.1042\n",
      "Epoch 39/100\n",
      "3240/3240 [==============================] - 1s 276us/sample - loss: 0.1615 - Dense_DMSO_loss: 0.0755 - Dense_Dex_loss: 0.0870 - Dense_DMSO_Spearman: 0.9356 - Dense_Dex_Spearman: 0.9243 - val_loss: 1.4887 - val_Dense_DMSO_loss: 0.6592 - val_Dense_Dex_loss: 0.8285 - val_Dense_DMSO_Spearman: 0.4315 - val_Dense_Dex_Spearman: 0.0964\n",
      "Epoch 40/100\n",
      "3240/3240 [==============================] - 1s 276us/sample - loss: 0.1602 - Dense_DMSO_loss: 0.0758 - Dense_Dex_loss: 0.0853 - Dense_DMSO_Spearman: 0.9362 - Dense_Dex_Spearman: 0.9168 - val_loss: 1.3161 - val_Dense_DMSO_loss: 0.5788 - val_Dense_Dex_loss: 0.7347 - val_Dense_DMSO_Spearman: 0.4344 - val_Dense_Dex_Spearman: 0.1128\n",
      "Epoch 41/100\n",
      "3240/3240 [==============================] - 1s 275us/sample - loss: 0.1636 - Dense_DMSO_loss: 0.0798 - Dense_Dex_loss: 0.0849 - Dense_DMSO_Spearman: 0.9385 - Dense_Dex_Spearman: 0.9275 - val_loss: 1.4453 - val_Dense_DMSO_loss: 0.6616 - val_Dense_Dex_loss: 0.7902 - val_Dense_DMSO_Spearman: 0.4589 - val_Dense_Dex_Spearman: 0.1051\n",
      "Epoch 42/100\n",
      "3240/3240 [==============================] - 1s 274us/sample - loss: 0.1521 - Dense_DMSO_loss: 0.0736 - Dense_Dex_loss: 0.0811 - Dense_DMSO_Spearman: 0.9394 - Dense_Dex_Spearman: 0.9222 - val_loss: 1.3656 - val_Dense_DMSO_loss: 0.6152 - val_Dense_Dex_loss: 0.7255 - val_Dense_DMSO_Spearman: 0.4730 - val_Dense_Dex_Spearman: 0.1271\n",
      "Epoch 43/100\n",
      "3240/3240 [==============================] - 1s 274us/sample - loss: 0.1421 - Dense_DMSO_loss: 0.0672 - Dense_Dex_loss: 0.0745 - Dense_DMSO_Spearman: 0.9414 - Dense_Dex_Spearman: 0.9279 - val_loss: 1.3879 - val_Dense_DMSO_loss: 0.5296 - val_Dense_Dex_loss: 0.8633 - val_Dense_DMSO_Spearman: 0.4186 - val_Dense_Dex_Spearman: 0.1364\n",
      "Epoch 44/100\n",
      "3240/3240 [==============================] - 1s 270us/sample - loss: 0.1540 - Dense_DMSO_loss: 0.0742 - Dense_Dex_loss: 0.0797 - Dense_DMSO_Spearman: 0.9411 - Dense_Dex_Spearman: 0.9244 - val_loss: 1.3558 - val_Dense_DMSO_loss: 0.5680 - val_Dense_Dex_loss: 0.7867 - val_Dense_DMSO_Spearman: 0.4476 - val_Dense_Dex_Spearman: 0.1424\n",
      "Epoch 45/100\n",
      "3240/3240 [==============================] - 1s 362us/sample - loss: 0.1389 - Dense_DMSO_loss: 0.0670 - Dense_Dex_loss: 0.0713 - Dense_DMSO_Spearman: 0.9430 - Dense_Dex_Spearman: 0.9311 - val_loss: 1.5190 - val_Dense_DMSO_loss: 0.7526 - val_Dense_Dex_loss: 0.7625 - val_Dense_DMSO_Spearman: 0.4084 - val_Dense_Dex_Spearman: 0.1228\n"
     ]
    }
   ],
   "source": [
    "main_model, main_params = DeepSTARR()\n",
    "main_model, my_history = train(main_model, X_train, Y_train, X_valid, Y_valid, main_params)"
   ]
  },
  {
   "cell_type": "code",
   "execution_count": 24,
   "metadata": {},
   "outputs": [
    {
     "data": {
      "text/plain": [
       "<tensorflow.python.keras.callbacks.History at 0x7fcd3feddb38>"
      ]
     },
     "execution_count": 24,
     "metadata": {},
     "output_type": "execute_result"
    }
   ],
   "source": [
    "my_history"
   ]
  },
  {
   "cell_type": "code",
   "execution_count": 25,
   "metadata": {},
   "outputs": [
    {
     "data": {
      "text/plain": [
       "dict_keys(['loss', 'Dense_DMSO_loss', 'Dense_Dex_loss', 'Dense_DMSO_Spearman', 'Dense_Dex_Spearman', 'val_loss', 'val_Dense_DMSO_loss', 'val_Dense_Dex_loss', 'val_Dense_DMSO_Spearman', 'val_Dense_Dex_Spearman'])"
      ]
     },
     "execution_count": 25,
     "metadata": {},
     "output_type": "execute_result"
    }
   ],
   "source": [
    "my_history.history.keys()"
   ]
  },
  {
   "cell_type": "code",
   "execution_count": 26,
   "metadata": {},
   "outputs": [],
   "source": [
    "def plot_loss_acc(axs, history, has_validate=False):\n",
    "    \"\"\"...\"\"\"\n",
    "    ### history\n",
    "    h = history\n",
    "    loss_trn = h[\"loss\"]\n",
    "    acc_trn  = h[\"Dense_Dex_Spearman\"]\n",
    "    x = np.arange(len(loss_trn)) + 1\n",
    "    \n",
    "    ### plot loss\n",
    "    ax = axs[0]\n",
    "    ax.plot(x, loss_trn, \"o-\", color=\"blue\", label=\"Train\")\n",
    "    ax.set_title(\"Loss\")\n",
    "    \n",
    "    ### plot accuracy\n",
    "    ax = axs[1]\n",
    "    ax.plot(x, acc_trn, \"o-\", color=\"blue\", label=\"Train\")\n",
    "    ax.set_title(\"Dense_Dex_Spearman\")\n",
    "    \n",
    "    ### plot validation if has_validate\n",
    "    if has_validate:\n",
    "        loss_val = h[\"val_loss\"]\n",
    "        acc_val  = h[\"val_Dense_Dex_Spearman\"]\n",
    "    \n",
    "        ax = axs[0]\n",
    "        ax.plot(x, loss_val, \"o-\", color=\"orange\", label=\"Validation\")\n",
    "        ax.set_title(\"Loss (Validation)\")\n",
    "        \n",
    "        ax = axs[1]\n",
    "        ax.plot(x, acc_val, \"o-\", color=\"orange\", label=\"Validation\")\n",
    "        ax.set_title(\"val_Dense_Dex_Spearman\")"
   ]
  },
  {
   "cell_type": "code",
   "execution_count": 27,
   "metadata": {},
   "outputs": [],
   "source": [
    "import matplotlib.pyplot as plt"
   ]
  },
  {
   "cell_type": "code",
   "execution_count": 28,
   "metadata": {},
   "outputs": [
    {
     "data": {
      "image/png": "[encoded data removed]",
      "text/plain": [
       "<Figure size 1080x360 with 2 Axes>"
      ]
     },
     "metadata": {
      "needs_background": "light"
     },
     "output_type": "display_data"
    }
   ],
   "source": [
    "fig, axes = plt.subplots(ncols=2, nrows=1, figsize=(15,5))\n",
    "plt.subplots_adjust(wspace=0.3, hspace=0.3)\n",
    "plot_loss_acc(axes, my_history.history, has_validate=True)\n",
    "plt.legend()\n",
    "plt.show()"
   ]
  },
  {
   "cell_type": "code",
   "execution_count": 36,
   "metadata": {},
   "outputs": [
    {
     "data": {
      "image/png": "[encoded data removed]",
      "text/plain": [
       "<Figure size 1080x360 with 2 Axes>"
      ]
     },
     "metadata": {
      "needs_background": "light"
     },
     "output_type": "display_data"
    }
   ],
   "source": [
    "fig, axes = plt.subplots(ncols=2, nrows=1, figsize=(15,5))\n",
    "plt.subplots_adjust(wspace=0.3, hspace=0.3)\n",
    "plot_loss_acc(axes, my_history.history, has_validate=True)\n",
    "plt.legend()\n",
    "plt.show()"
   ]
  },
  {
   "cell_type": "code",
   "execution_count": 29,
   "metadata": {},
   "outputs": [
    {
     "name": "stdout",
     "output_type": "stream",
     "text": [
      "train MSE DMSO = 0.08\n",
      "train PCC DMSO = 0.98\n",
      "train SCC DMSO = 0.98\n",
      "train MSE Dex = 0.03\n",
      "train PCC Dex = 0.97\n",
      "train SCC Dex = 0.97\n",
      "validation MSE DMSO = 0.55\n",
      "validation PCC DMSO = 0.47\n",
      "validation SCC DMSO = 0.46\n",
      "validation MSE Dex = 0.73\n",
      "validation PCC Dex = 0.16\n",
      "validation SCC Dex = 0.10\n"
     ]
    }
   ],
   "source": [
    "from scipy import stats\n",
    "from sklearn.metrics import mean_squared_error\n",
    "\n",
    "# create functions\n",
    "#tasks = ['DMSO', 'Dex']\n",
    "TASK1 = 'DMSO'\n",
    "TASK2 = 'Dex'\n",
    "def summary_statistics(X, Y, set, task):\n",
    "    pred = main_model.predict(X, batch_size=main_params['batch_size'])\n",
    "    #if task ==\"Dev\":\n",
    "    if task == TASK1:\n",
    "        i=0\n",
    "    #if task ==\"Hk\":\n",
    "    if task == TASK2:\n",
    "        i=1\n",
    "    print(set + ' MSE ' + task + ' = ' + str(\"{0:0.2f}\".format(mean_squared_error(Y, pred[i].squeeze()))))\n",
    "    print(set + ' PCC ' + task + ' = ' + str(\"{0:0.2f}\".format(stats.pearsonr(Y, pred[i].squeeze())[0])))\n",
    "    print(set + ' SCC ' + task + ' = ' + str(\"{0:0.2f}\".format(stats.spearmanr(Y, pred[i].squeeze())[0])))\n",
    "    \n",
    "# run for each set and enhancer type\n",
    "#summary_statistics(X_train, Y_train[0], \"train\", \"Dev\")\n",
    "#summary_statistics(X_train, Y_train[1], \"train\", \"Hk\")\n",
    "#summary_statistics(X_valid, Y_valid[0], \"validation\", \"Dev\")\n",
    "#summary_statistics(X_valid, Y_valid[1], \"validation\", \"Hk\")\n",
    "#summary_statistics(X_test, Y_test[0], \"test\", \"Dev\")\n",
    "#summary_statistics(X_test, Y_test[1], \"test\", \"Hk\")\n",
    "\n",
    "summary_statistics(X_train, Y_train[0], \"train\", TASK1)\n",
    "summary_statistics(X_train, Y_train[1], \"train\", TASK2)\n",
    "summary_statistics(X_valid, Y_valid[0], \"validation\", TASK1)\n",
    "summary_statistics(X_valid, Y_valid[1], \"validation\", TASK2)\n",
    "#summary_statistics(X_test, Y_test[0], \"test\", TASK1)\n",
    "#summary_statistics(X_test, Y_test[1], \"test\", TASK2)"
   ]
  },
  {
   "cell_type": "code",
   "execution_count": 30,
   "metadata": {},
   "outputs": [],
   "source": [
    "import os"
   ]
  },
  {
   "cell_type": "code",
   "execution_count": 31,
   "metadata": {},
   "outputs": [
    {
     "name": "stdout",
     "output_type": "stream",
     "text": [
      "\u001b[0m\u001b[01;34mcradle\u001b[0m/  \u001b[01;34mcradle_deepstarr_data\u001b[0m/  \u001b[01;34mcradle_deepstarr_results\u001b[0m/  \u001b[01;34mcradle_peak_count\u001b[0m/\n"
     ]
    }
   ],
   "source": [
    "ls /home/mount/work/out/proj_combeffect/peak"
   ]
  },
  {
   "cell_type": "code",
   "execution_count": 32,
   "metadata": {},
   "outputs": [
    {
     "data": {
      "text/plain": [
       "['.ipynb_checkpoints',\n",
       " 'cradle_deepstarr_results',\n",
       " 'cradle_peak_count',\n",
       " 'cradle',\n",
       " 'cradle_deepstarr_data']"
      ]
     },
     "execution_count": 32,
     "metadata": {},
     "output_type": "execute_result"
    }
   ],
   "source": [
    "fdiry = \"/home/mount/work/out/proj_combeffect/peak\"\n",
    "os.listdir(fdiry)"
   ]
  },
  {
   "cell_type": "code",
   "execution_count": 33,
   "metadata": {},
   "outputs": [
    {
     "data": {
      "text/plain": [
       "['Model_DeepSTARR.json', 'Model_DeepSTARR.h5']"
      ]
     },
     "execution_count": 33,
     "metadata": {},
     "output_type": "execute_result"
    }
   ],
   "source": [
    "fdiry = \"/home/mount/work/out/proj_combeffect/peak/cradle_deepstarr_results\"\n",
    "os.listdir(fdiry)"
   ]
  },
  {
   "cell_type": "code",
   "execution_count": 34,
   "metadata": {},
   "outputs": [],
   "source": [
    "#model_name=\"DeepSTARR\"\n",
    "\n",
    "#model_json = main_model.to_json()\n",
    "#with open('Model_' + model_name + '.json', \"w\") as json_file:\n",
    "#    json_file.write(model_json)\n",
    "#main_model.save_weights('Model_' + model_name + '.h5')\n",
    "\n",
    "model_name = \"DeepSTARR\"\n",
    "fdiry = \"/home/mount/work/out/proj_combeffect/peak/cradle_deepstarr_results\" \n",
    "\n",
    "model_json = main_model.to_json()\n",
    "fdiry = \"/home/mount/work/out/proj_combeffect/peak/cradle_deepstarr_results\"\n",
    "fname = 'Model_' + model_name + '.json'\n",
    "fpath = os.path.join(fdiry, fname)\n",
    "with open(fpath, \"w\") as json_file:\n",
    "    json_file.write(model_json)\n",
    "    \n",
    "fdiry = \"/home/mount/work/out/proj_combeffect/peak/cradle_deepstarr_results\"\n",
    "fname = 'Model_' + model_name + '.h5'\n",
    "fpath = os.path.join(fdiry, fname)\n",
    "main_model.save_weights(fpath)"
   ]
  },
  {
   "cell_type": "code",
   "execution_count": null,
   "metadata": {},
   "outputs": [],
   "source": []
  }
 ],
 "metadata": {
  "kernelspec": {
   "display_name": "Python 3",
   "language": "python",
   "name": "python3"
  },
  "language_info": {
   "codemirror_mode": {
    "name": "ipython",
    "version": 3
   },
   "file_extension": ".py",
   "mimetype": "text/x-python",
   "name": "python",
   "nbconvert_exporter": "python",
   "pygments_lexer": "ipython3",
   "version": "3.6.8"
  }
 },
 "nbformat": 4,
 "nbformat_minor": 4
}
