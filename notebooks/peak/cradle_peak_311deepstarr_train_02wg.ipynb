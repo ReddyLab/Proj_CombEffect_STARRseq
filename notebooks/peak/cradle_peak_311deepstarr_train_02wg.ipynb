{
 "cells": [
  {
   "cell_type": "code",
   "execution_count": 1,
   "metadata": {},
   "outputs": [],
   "source": [
    "import tensorflow as tf\n",
    "from collections import Counter\n",
    "import os\n",
    "from sklearn.model_selection import train_test_split\n",
    "\n",
    "#import keras\n",
    "from tensorflow import keras\n",
    "import tensorflow.keras.layers as kl\n",
    "from tensorflow.keras.layers import Conv1D, MaxPooling1D\n",
    "from tensorflow.keras.layers import Dropout, Reshape, Dense, Activation, Flatten\n",
    "from tensorflow.keras.layers import BatchNormalization, InputLayer, Input\n",
    "from tensorflow.keras import models\n",
    "from tensorflow.keras.models import Sequential, Model\n",
    "from tensorflow.keras.optimizers import Adam\n",
    "from tensorflow.keras.callbacks import EarlyStopping, History, ModelCheckpoint"
   ]
  },
  {
   "cell_type": "code",
   "execution_count": 2,
   "metadata": {},
   "outputs": [
    {
     "data": {
      "text/plain": [
       "[PhysicalDevice(name='/physical_device:GPU:0', device_type='GPU')]"
      ]
     },
     "execution_count": 2,
     "metadata": {},
     "output_type": "execute_result"
    }
   ],
   "source": [
    "tf.config.experimental.list_physical_devices(\"GPU\")"
   ]
  },
  {
   "cell_type": "code",
   "execution_count": 3,
   "metadata": {},
   "outputs": [],
   "source": [
    "### set GPU for tensorflow\n",
    "physical_devices = tf.config.experimental.list_physical_devices(\"GPU\")\n",
    "tf.config.experimental.set_memory_growth(physical_devices[0], True)"
   ]
  },
  {
   "cell_type": "code",
   "execution_count": 4,
   "metadata": {},
   "outputs": [],
   "source": [
    "import pandas as pd\n",
    "import numpy as np\n",
    "\n",
    "import sys\n",
    "sys.path.append('Neural_Network_DNA_Demo/')\n",
    "from helper import IOHelper, SequenceHelper # from https://github.com/const-ae/Neural_Network_DNA_Demo\n",
    "\n",
    "import random\n",
    "random.seed(1234)"
   ]
  },
  {
   "cell_type": "markdown",
   "metadata": {},
   "source": [
    "## Data"
   ]
  },
  {
   "cell_type": "code",
   "execution_count": 5,
   "metadata": {},
   "outputs": [
    {
     "data": {
      "text/plain": [
       "array(['1', '2', '3', '4', '5', '6', '7', '8', '9', '10', '11', '12',\n",
       "       '13', '14', '15', '16', '17', '18', '19', '20', '21', '22', 'X'],\n",
       "      dtype='<U21')"
      ]
     },
     "execution_count": 5,
     "metadata": {},
     "output_type": "execute_result"
    }
   ],
   "source": [
    "CHROMS = np.r_[np.arange(1,23), [\"X\"]]\n",
    "CHROMS"
   ]
  },
  {
   "cell_type": "code",
   "execution_count": 6,
   "metadata": {},
   "outputs": [
    {
     "name": "stdout",
     "output_type": "stream",
     "text": [
      "/home/mount/work/out/proj_combeffect/peak/cradle_deepstarr_data/chr1.fa\n",
      "Sequence Length: 1000\n",
      "/home/mount/work/out/proj_combeffect/peak/cradle_deepstarr_data/chr2.fa\n",
      "Sequence Length: 1000\n",
      "/home/mount/work/out/proj_combeffect/peak/cradle_deepstarr_data/chr3.fa\n",
      "Sequence Length: 1000\n",
      "/home/mount/work/out/proj_combeffect/peak/cradle_deepstarr_data/chr4.fa\n",
      "Sequence Length: 1000\n",
      "/home/mount/work/out/proj_combeffect/peak/cradle_deepstarr_data/chr5.fa\n",
      "Sequence Length: 1000\n",
      "/home/mount/work/out/proj_combeffect/peak/cradle_deepstarr_data/chr6.fa\n",
      "Sequence Length: 1000\n",
      "/home/mount/work/out/proj_combeffect/peak/cradle_deepstarr_data/chr7.fa\n",
      "Sequence Length: 1000\n",
      "/home/mount/work/out/proj_combeffect/peak/cradle_deepstarr_data/chr8.fa\n",
      "Sequence Length: 1000\n",
      "/home/mount/work/out/proj_combeffect/peak/cradle_deepstarr_data/chr9.fa\n",
      "Sequence Length: 1000\n",
      "/home/mount/work/out/proj_combeffect/peak/cradle_deepstarr_data/chr10.fa\n",
      "Sequence Length: 1000\n",
      "/home/mount/work/out/proj_combeffect/peak/cradle_deepstarr_data/chr11.fa\n",
      "Sequence Length: 1000\n",
      "/home/mount/work/out/proj_combeffect/peak/cradle_deepstarr_data/chr12.fa\n",
      "Sequence Length: 1000\n",
      "/home/mount/work/out/proj_combeffect/peak/cradle_deepstarr_data/chr13.fa\n",
      "Sequence Length: 1000\n",
      "/home/mount/work/out/proj_combeffect/peak/cradle_deepstarr_data/chr14.fa\n",
      "Sequence Length: 1000\n",
      "/home/mount/work/out/proj_combeffect/peak/cradle_deepstarr_data/chr15.fa\n",
      "Sequence Length: 1000\n",
      "/home/mount/work/out/proj_combeffect/peak/cradle_deepstarr_data/chr16.fa\n",
      "Sequence Length: 1000\n",
      "/home/mount/work/out/proj_combeffect/peak/cradle_deepstarr_data/chr17.fa\n",
      "Sequence Length: 1000\n",
      "/home/mount/work/out/proj_combeffect/peak/cradle_deepstarr_data/chr18.fa\n",
      "Sequence Length: 1000\n",
      "/home/mount/work/out/proj_combeffect/peak/cradle_deepstarr_data/chr19.fa\n",
      "Sequence Length: 1000\n",
      "/home/mount/work/out/proj_combeffect/peak/cradle_deepstarr_data/chr20.fa\n",
      "Sequence Length: 1000\n",
      "/home/mount/work/out/proj_combeffect/peak/cradle_deepstarr_data/chr21.fa\n",
      "Sequence Length: 1000\n",
      "/home/mount/work/out/proj_combeffect/peak/cradle_deepstarr_data/chr22.fa\n",
      "Sequence Length: 1000\n",
      "/home/mount/work/out/proj_combeffect/peak/cradle_deepstarr_data/chrX.fa\n",
      "Sequence Length: 1000\n"
     ]
    },
    {
     "data": {
      "text/html": [
       "<div>\n",
       "<style scoped>\n",
       "    .dataframe tbody tr th:only-of-type {\n",
       "        vertical-align: middle;\n",
       "    }\n",
       "\n",
       "    .dataframe tbody tr th {\n",
       "        vertical-align: top;\n",
       "    }\n",
       "\n",
       "    .dataframe thead th {\n",
       "        text-align: right;\n",
       "    }\n",
       "</style>\n",
       "<table border=\"1\" class=\"dataframe\">\n",
       "  <thead>\n",
       "    <tr style=\"text-align: right;\">\n",
       "      <th></th>\n",
       "      <th>index</th>\n",
       "      <th>location</th>\n",
       "      <th>sequence</th>\n",
       "    </tr>\n",
       "  </thead>\n",
       "  <tbody>\n",
       "    <tr>\n",
       "      <th>0</th>\n",
       "      <td>0</td>\n",
       "      <td>chr1:778232-779232</td>\n",
       "      <td>TCCCTGTTGCACACCTGGATAGTTTTTTAAATTTTTTTAGACAGGG...</td>\n",
       "    </tr>\n",
       "    <tr>\n",
       "      <th>1</th>\n",
       "      <td>1</td>\n",
       "      <td>chr1:818441-819441</td>\n",
       "      <td>ATGCTTACCAGGGCTGGAGGCCCCTGTGAGTAGTGAAGTGCATGTG...</td>\n",
       "    </tr>\n",
       "    <tr>\n",
       "      <th>2</th>\n",
       "      <td>2</td>\n",
       "      <td>chr1:826644-827644</td>\n",
       "      <td>ATTCTGTCCTCCATATCTCTGCTGATTCCCATTTTGTCTATTTCCA...</td>\n",
       "    </tr>\n",
       "    <tr>\n",
       "      <th>3</th>\n",
       "      <td>3</td>\n",
       "      <td>chr1:851117-852117</td>\n",
       "      <td>TGTCTTTATAGCAGCATGATTTATAGTCCTTTGGGTATATACCCAG...</td>\n",
       "    </tr>\n",
       "    <tr>\n",
       "      <th>4</th>\n",
       "      <td>4</td>\n",
       "      <td>chr1:856205-857205</td>\n",
       "      <td>CATTCCCGGATCCAAGGTCCTGCCTCTGTCCTGTCCCCTGAGCCAC...</td>\n",
       "    </tr>\n",
       "    <tr>\n",
       "      <th>...</th>\n",
       "      <td>...</td>\n",
       "      <td>...</td>\n",
       "      <td>...</td>\n",
       "    </tr>\n",
       "    <tr>\n",
       "      <th>87904</th>\n",
       "      <td>3426</td>\n",
       "      <td>chrX:155434820-155435820</td>\n",
       "      <td>TTTTTCAAAAGAAAAGCAATGAGGATCAGAAAGGTGAAGATACTAG...</td>\n",
       "    </tr>\n",
       "    <tr>\n",
       "      <th>87905</th>\n",
       "      <td>3427</td>\n",
       "      <td>chrX:155435206-155436206</td>\n",
       "      <td>ACGCTCTTCCCATGTATCTTTGTAATTTGCTGATCAGGAGATCCCC...</td>\n",
       "    </tr>\n",
       "    <tr>\n",
       "      <th>87906</th>\n",
       "      <td>3428</td>\n",
       "      <td>chrX:155440330-155441330</td>\n",
       "      <td>AAGGGGAGGCAAACACATCCTTCTTCACAGGGTGGCAGCAAGGAGA...</td>\n",
       "    </tr>\n",
       "    <tr>\n",
       "      <th>87907</th>\n",
       "      <td>3429</td>\n",
       "      <td>chrX:155521212-155522212</td>\n",
       "      <td>TTTCTGGTTGTTAGTTTTCCTTCTAACAGACAGGACCCTCAGCTGC...</td>\n",
       "    </tr>\n",
       "    <tr>\n",
       "      <th>87908</th>\n",
       "      <td>3430</td>\n",
       "      <td>chrX:155521255-155522255</td>\n",
       "      <td>TGCAGGTCTGTTGGAATACCCTGCCGTGTGAGGTGTCAGTGTGCCC...</td>\n",
       "    </tr>\n",
       "  </tbody>\n",
       "</table>\n",
       "<p>87909 rows × 3 columns</p>\n",
       "</div>"
      ],
      "text/plain": [
       "       index                  location  \\\n",
       "0          0        chr1:778232-779232   \n",
       "1          1        chr1:818441-819441   \n",
       "2          2        chr1:826644-827644   \n",
       "3          3        chr1:851117-852117   \n",
       "4          4        chr1:856205-857205   \n",
       "...      ...                       ...   \n",
       "87904   3426  chrX:155434820-155435820   \n",
       "87905   3427  chrX:155435206-155436206   \n",
       "87906   3428  chrX:155440330-155441330   \n",
       "87907   3429  chrX:155521212-155522212   \n",
       "87908   3430  chrX:155521255-155522255   \n",
       "\n",
       "                                                sequence  \n",
       "0      TCCCTGTTGCACACCTGGATAGTTTTTTAAATTTTTTTAGACAGGG...  \n",
       "1      ATGCTTACCAGGGCTGGAGGCCCCTGTGAGTAGTGAAGTGCATGTG...  \n",
       "2      ATTCTGTCCTCCATATCTCTGCTGATTCCCATTTTGTCTATTTCCA...  \n",
       "3      TGTCTTTATAGCAGCATGATTTATAGTCCTTTGGGTATATACCCAG...  \n",
       "4      CATTCCCGGATCCAAGGTCCTGCCTCTGTCCTGTCCCCTGAGCCAC...  \n",
       "...                                                  ...  \n",
       "87904  TTTTTCAAAAGAAAAGCAATGAGGATCAGAAAGGTGAAGATACTAG...  \n",
       "87905  ACGCTCTTCCCATGTATCTTTGTAATTTGCTGATCAGGAGATCCCC...  \n",
       "87906  AAGGGGAGGCAAACACATCCTTCTTCACAGGGTGGCAGCAAGGAGA...  \n",
       "87907  TTTCTGGTTGTTAGTTTTCCTTCTAACAGACAGGACCCTCAGCTGC...  \n",
       "87908  TGCAGGTCTGTTGGAATACCCTGCCGTGTGAGGTGTCAGTGTGCCC...  \n",
       "\n",
       "[87909 rows x 3 columns]"
      ]
     },
     "execution_count": 6,
     "metadata": {},
     "output_type": "execute_result"
    }
   ],
   "source": [
    "fdiry = \"/home/mount/work/out/proj_combeffect/peak/cradle_deepstarr_data\"\n",
    "lst = list()\n",
    "\n",
    "for chrom in CHROMS:\n",
    "    ###\n",
    "    fname = \"chr\" + chrom + \".fa\"\n",
    "    fpath = os.path.join(fdiry, fname)\n",
    "    print(fpath, flush = True)\n",
    "    dat = IOHelper.get_fastas_from_file(fpath, uppercase=True)\n",
    "    \n",
    "    ###\n",
    "    lst.append(dat)\n",
    "\n",
    "dat_fasta = pd.concat(lst).reset_index()\n",
    "dat_fasta"
   ]
  },
  {
   "cell_type": "markdown",
   "metadata": {},
   "source": [
    "dat_fasta = IOHelper.get_fastas_from_file(\n",
    "    \"/home/mount/work/out/proj_combeffect/peak/cradle_deepstarr_data/chr17.fa\", \n",
    "    uppercase=True)"
   ]
  },
  {
   "cell_type": "code",
   "execution_count": 10,
   "metadata": {},
   "outputs": [
    {
     "data": {
      "text/plain": [
       "Counter({1000: 87909})"
      ]
     },
     "execution_count": 10,
     "metadata": {},
     "output_type": "execute_result"
    }
   ],
   "source": [
    "tmp = dat_fasta.sequence.apply(lambda seq: len(seq))\n",
    "Counter(tmp)"
   ]
  },
  {
   "cell_type": "code",
   "execution_count": 11,
   "metadata": {
    "tags": []
   },
   "outputs": [
    {
     "name": "stdout",
     "output_type": "stream",
     "text": [
      "Sequence Length: 1000\n"
     ]
    }
   ],
   "source": [
    "sequence_length = len(dat.sequence[0])\n",
    "print(f\"Sequence Length: {sequence_length}\")"
   ]
  },
  {
   "cell_type": "code",
   "execution_count": 12,
   "metadata": {},
   "outputs": [],
   "source": [
    "# Convert sequence to one hot encoding matrix\n",
    "seq_matrix = SequenceHelper.do_one_hot_encoding(\n",
    "    dat_fasta.sequence, \n",
    "    sequence_length,\n",
    "    SequenceHelper.parse_alpha_to_seq)"
   ]
  },
  {
   "cell_type": "code",
   "execution_count": 15,
   "metadata": {},
   "outputs": [
    {
     "name": "stdout",
     "output_type": "stream",
     "text": [
      "(87909, 1000, 4)\n"
     ]
    }
   ],
   "source": [
    "print(seq_matrix.shape)"
   ]
  },
  {
   "cell_type": "code",
   "execution_count": 14,
   "metadata": {},
   "outputs": [],
   "source": [
    "X = np.nan_to_num(seq_matrix) # Replace NaN with zero and infinity with large finite numbers\n",
    "X_reshaped = X.reshape((X.shape[0], X.shape[1], X.shape[2]))"
   ]
  },
  {
   "cell_type": "code",
   "execution_count": 18,
   "metadata": {},
   "outputs": [
    {
     "name": "stdout",
     "output_type": "stream",
     "text": [
      "/home/mount/work/out/proj_combeffect/peak/cradle_peak_count/results/dat_score_chr1.tsv\n",
      "/home/mount/work/out/proj_combeffect/peak/cradle_peak_count/results/dat_score_chr2.tsv\n",
      "/home/mount/work/out/proj_combeffect/peak/cradle_peak_count/results/dat_score_chr3.tsv\n",
      "/home/mount/work/out/proj_combeffect/peak/cradle_peak_count/results/dat_score_chr4.tsv\n",
      "/home/mount/work/out/proj_combeffect/peak/cradle_peak_count/results/dat_score_chr5.tsv\n",
      "/home/mount/work/out/proj_combeffect/peak/cradle_peak_count/results/dat_score_chr6.tsv\n",
      "/home/mount/work/out/proj_combeffect/peak/cradle_peak_count/results/dat_score_chr7.tsv\n",
      "/home/mount/work/out/proj_combeffect/peak/cradle_peak_count/results/dat_score_chr8.tsv\n",
      "/home/mount/work/out/proj_combeffect/peak/cradle_peak_count/results/dat_score_chr9.tsv\n",
      "/home/mount/work/out/proj_combeffect/peak/cradle_peak_count/results/dat_score_chr10.tsv\n",
      "/home/mount/work/out/proj_combeffect/peak/cradle_peak_count/results/dat_score_chr11.tsv\n",
      "/home/mount/work/out/proj_combeffect/peak/cradle_peak_count/results/dat_score_chr12.tsv\n",
      "/home/mount/work/out/proj_combeffect/peak/cradle_peak_count/results/dat_score_chr13.tsv\n",
      "/home/mount/work/out/proj_combeffect/peak/cradle_peak_count/results/dat_score_chr14.tsv\n",
      "/home/mount/work/out/proj_combeffect/peak/cradle_peak_count/results/dat_score_chr15.tsv\n",
      "/home/mount/work/out/proj_combeffect/peak/cradle_peak_count/results/dat_score_chr16.tsv\n",
      "/home/mount/work/out/proj_combeffect/peak/cradle_peak_count/results/dat_score_chr17.tsv\n",
      "/home/mount/work/out/proj_combeffect/peak/cradle_peak_count/results/dat_score_chr18.tsv\n",
      "/home/mount/work/out/proj_combeffect/peak/cradle_peak_count/results/dat_score_chr19.tsv\n",
      "/home/mount/work/out/proj_combeffect/peak/cradle_peak_count/results/dat_score_chr20.tsv\n",
      "/home/mount/work/out/proj_combeffect/peak/cradle_peak_count/results/dat_score_chr21.tsv\n",
      "/home/mount/work/out/proj_combeffect/peak/cradle_peak_count/results/dat_score_chr22.tsv\n",
      "/home/mount/work/out/proj_combeffect/peak/cradle_peak_count/results/dat_score_chrX.tsv\n"
     ]
    },
    {
     "data": {
      "text/html": [
       "<div>\n",
       "<style scoped>\n",
       "    .dataframe tbody tr th:only-of-type {\n",
       "        vertical-align: middle;\n",
       "    }\n",
       "\n",
       "    .dataframe tbody tr th {\n",
       "        vertical-align: top;\n",
       "    }\n",
       "\n",
       "    .dataframe thead th {\n",
       "        text-align: right;\n",
       "    }\n",
       "</style>\n",
       "<table border=\"1\" class=\"dataframe\">\n",
       "  <thead>\n",
       "    <tr style=\"text-align: right;\">\n",
       "      <th></th>\n",
       "      <th>Chrom</th>\n",
       "      <th>Start</th>\n",
       "      <th>End</th>\n",
       "      <th>Name</th>\n",
       "      <th>Log2_Score_DMSO</th>\n",
       "      <th>Log2_Score_Dex</th>\n",
       "    </tr>\n",
       "  </thead>\n",
       "  <tbody>\n",
       "    <tr>\n",
       "      <th>0</th>\n",
       "      <td>chr1</td>\n",
       "      <td>778232</td>\n",
       "      <td>779232</td>\n",
       "      <td>chr1:778588-778877:DMSO</td>\n",
       "      <td>1.372734</td>\n",
       "      <td>1.048260</td>\n",
       "    </tr>\n",
       "    <tr>\n",
       "      <th>1</th>\n",
       "      <td>chr1</td>\n",
       "      <td>818441</td>\n",
       "      <td>819441</td>\n",
       "      <td>chr1:818351-819531:Dex</td>\n",
       "      <td>0.717290</td>\n",
       "      <td>2.508601</td>\n",
       "    </tr>\n",
       "    <tr>\n",
       "      <th>2</th>\n",
       "      <td>chr1</td>\n",
       "      <td>826644</td>\n",
       "      <td>827644</td>\n",
       "      <td>chr1:826715-827573:DMSO</td>\n",
       "      <td>1.905313</td>\n",
       "      <td>1.410864</td>\n",
       "    </tr>\n",
       "    <tr>\n",
       "      <th>3</th>\n",
       "      <td>chr1</td>\n",
       "      <td>851117</td>\n",
       "      <td>852117</td>\n",
       "      <td>chr1:851268-851966:DMSO</td>\n",
       "      <td>1.819445</td>\n",
       "      <td>1.150065</td>\n",
       "    </tr>\n",
       "    <tr>\n",
       "      <th>4</th>\n",
       "      <td>chr1</td>\n",
       "      <td>856205</td>\n",
       "      <td>857205</td>\n",
       "      <td>chr1:856338-857072:Dex</td>\n",
       "      <td>0.603458</td>\n",
       "      <td>1.091726</td>\n",
       "    </tr>\n",
       "    <tr>\n",
       "      <th>...</th>\n",
       "      <td>...</td>\n",
       "      <td>...</td>\n",
       "      <td>...</td>\n",
       "      <td>...</td>\n",
       "      <td>...</td>\n",
       "      <td>...</td>\n",
       "    </tr>\n",
       "    <tr>\n",
       "      <th>3426</th>\n",
       "      <td>chrX</td>\n",
       "      <td>155434820</td>\n",
       "      <td>155435820</td>\n",
       "      <td>chrX:155435035-155435606:Dex</td>\n",
       "      <td>1.535949</td>\n",
       "      <td>1.507972</td>\n",
       "    </tr>\n",
       "    <tr>\n",
       "      <th>3427</th>\n",
       "      <td>chrX</td>\n",
       "      <td>155435206</td>\n",
       "      <td>155436206</td>\n",
       "      <td>chrX:155435256-155436156:DMSO</td>\n",
       "      <td>1.450265</td>\n",
       "      <td>1.389878</td>\n",
       "    </tr>\n",
       "    <tr>\n",
       "      <th>3428</th>\n",
       "      <td>chrX</td>\n",
       "      <td>155440330</td>\n",
       "      <td>155441330</td>\n",
       "      <td>chrX:155440404-155441256:DMSO</td>\n",
       "      <td>1.127618</td>\n",
       "      <td>0.222461</td>\n",
       "    </tr>\n",
       "    <tr>\n",
       "      <th>3429</th>\n",
       "      <td>chrX</td>\n",
       "      <td>155521212</td>\n",
       "      <td>155522212</td>\n",
       "      <td>chrX:155521256-155522169:Dex</td>\n",
       "      <td>1.649832</td>\n",
       "      <td>1.865266</td>\n",
       "    </tr>\n",
       "    <tr>\n",
       "      <th>3430</th>\n",
       "      <td>chrX</td>\n",
       "      <td>155521255</td>\n",
       "      <td>155522255</td>\n",
       "      <td>chrX:155521377-155522133:DMSO</td>\n",
       "      <td>1.610847</td>\n",
       "      <td>1.826281</td>\n",
       "    </tr>\n",
       "  </tbody>\n",
       "</table>\n",
       "<p>87909 rows × 6 columns</p>\n",
       "</div>"
      ],
      "text/plain": [
       "     Chrom      Start        End                           Name  \\\n",
       "0     chr1     778232     779232        chr1:778588-778877:DMSO   \n",
       "1     chr1     818441     819441         chr1:818351-819531:Dex   \n",
       "2     chr1     826644     827644        chr1:826715-827573:DMSO   \n",
       "3     chr1     851117     852117        chr1:851268-851966:DMSO   \n",
       "4     chr1     856205     857205         chr1:856338-857072:Dex   \n",
       "...    ...        ...        ...                            ...   \n",
       "3426  chrX  155434820  155435820   chrX:155435035-155435606:Dex   \n",
       "3427  chrX  155435206  155436206  chrX:155435256-155436156:DMSO   \n",
       "3428  chrX  155440330  155441330  chrX:155440404-155441256:DMSO   \n",
       "3429  chrX  155521212  155522212   chrX:155521256-155522169:Dex   \n",
       "3430  chrX  155521255  155522255  chrX:155521377-155522133:DMSO   \n",
       "\n",
       "      Log2_Score_DMSO  Log2_Score_Dex  \n",
       "0            1.372734        1.048260  \n",
       "1            0.717290        2.508601  \n",
       "2            1.905313        1.410864  \n",
       "3            1.819445        1.150065  \n",
       "4            0.603458        1.091726  \n",
       "...               ...             ...  \n",
       "3426         1.535949        1.507972  \n",
       "3427         1.450265        1.389878  \n",
       "3428         1.127618        0.222461  \n",
       "3429         1.649832        1.865266  \n",
       "3430         1.610847        1.826281  \n",
       "\n",
       "[87909 rows x 6 columns]"
      ]
     },
     "execution_count": 18,
     "metadata": {},
     "output_type": "execute_result"
    }
   ],
   "source": [
    "# fpath = \"/home/mount/work/out/proj_combeffect/peak/cradle_peak_count/results/\n",
    "# ... dat_score_chr17.tsv\"\n",
    "fdiry = \"/home/mount/work/out/proj_combeffect/peak/cradle_peak_count/results\"\n",
    "lst = list()\n",
    "\n",
    "for chrom in CHROMS:\n",
    "    ###\n",
    "    fname = \"dat_score_chr\" + chrom + \".tsv\"\n",
    "    fpath = os.path.join(fdiry, fname)\n",
    "    print(fpath, flush = True)\n",
    "    dat = pd.read_table(fpath)\n",
    "    \n",
    "    ###\n",
    "    lst.append(dat)\n",
    "\n",
    "dat_activity = pd.concat(lst)\n",
    "dat_activity"
   ]
  },
  {
   "cell_type": "code",
   "execution_count": 21,
   "metadata": {},
   "outputs": [
    {
     "data": {
      "text/plain": [
       "0              chr1:778232-779232\n",
       "1              chr1:818441-819441\n",
       "2              chr1:826644-827644\n",
       "3              chr1:851117-852117\n",
       "4              chr1:856205-857205\n",
       "                   ...           \n",
       "87904    chrX:155434820-155435820\n",
       "87905    chrX:155435206-155436206\n",
       "87906    chrX:155440330-155441330\n",
       "87907    chrX:155521212-155522212\n",
       "87908    chrX:155521255-155522255\n",
       "Name: location, Length: 87909, dtype: object"
      ]
     },
     "execution_count": 21,
     "metadata": {},
     "output_type": "execute_result"
    }
   ],
   "source": [
    "dat_fasta.location"
   ]
  },
  {
   "cell_type": "code",
   "execution_count": 19,
   "metadata": {},
   "outputs": [
    {
     "data": {
      "text/plain": [
       "0             chr1:778588-778877:DMSO\n",
       "1              chr1:818351-819531:Dex\n",
       "2             chr1:826715-827573:DMSO\n",
       "3             chr1:851268-851966:DMSO\n",
       "4              chr1:856338-857072:Dex\n",
       "                    ...              \n",
       "3426     chrX:155435035-155435606:Dex\n",
       "3427    chrX:155435256-155436156:DMSO\n",
       "3428    chrX:155440404-155441256:DMSO\n",
       "3429     chrX:155521256-155522169:Dex\n",
       "3430    chrX:155521377-155522133:DMSO\n",
       "Name: Name, Length: 87909, dtype: object"
      ]
     },
     "execution_count": 19,
     "metadata": {},
     "output_type": "execute_result"
    }
   ],
   "source": [
    "dat_activity.Name"
   ]
  },
  {
   "cell_type": "code",
   "execution_count": 23,
   "metadata": {},
   "outputs": [],
   "source": [
    "Y_dmso = dat_activity.Log2_Score_DMSO\n",
    "Y_dex  = dat_activity.Log2_Score_Dex\n",
    "Y = np.array([Y_dmso, Y_dex])\n",
    "Y = Y.T"
   ]
  },
  {
   "cell_type": "code",
   "execution_count": 25,
   "metadata": {},
   "outputs": [
    {
     "name": "stdout",
     "output_type": "stream",
     "text": [
      "(87909, 1000, 4)\n",
      "(87909, 2)\n"
     ]
    }
   ],
   "source": [
    "print(X_reshaped.shape)\n",
    "print(Y.shape)"
   ]
  },
  {
   "cell_type": "code",
   "execution_count": 34,
   "metadata": {},
   "outputs": [],
   "source": [
    "X_train, X_valid, y_train, y_valid = train_test_split(\n",
    "    X_reshaped, \n",
    "    Y, \n",
    "    test_size=0.2, \n",
    "    random_state=123)"
   ]
  },
  {
   "cell_type": "markdown",
   "metadata": {},
   "source": [
    "## import data"
   ]
  },
  {
   "cell_type": "code",
   "execution_count": 5,
   "metadata": {},
   "outputs": [],
   "source": [
    "fdiry = \"/home/mount/work/out/proj_combeffect/peak/cradle_deepstarr_data\"\n",
    "\n",
    "fname = \"whole_genome_X.npy\"\n",
    "fpath = os.path.join(fdiry, fname)\n",
    "with open(fpath, 'rb') as file:\n",
    "    X = np.load(file)\n",
    "\n",
    "fname = \"whole_genome_Y.npy\"\n",
    "fpath = os.path.join(fdiry, fname)\n",
    "with open(fpath, 'rb') as file:\n",
    "    Y = np.load(file)"
   ]
  },
  {
   "cell_type": "code",
   "execution_count": 6,
   "metadata": {},
   "outputs": [],
   "source": [
    "X_train, X_valid, y_train, y_valid = train_test_split(\n",
    "    X, \n",
    "    Y, \n",
    "    test_size=0.2, \n",
    "    random_state=123)"
   ]
  },
  {
   "cell_type": "code",
   "execution_count": 15,
   "metadata": {},
   "outputs": [
    {
     "name": "stdout",
     "output_type": "stream",
     "text": [
      "(70327, 1000, 4)\n",
      "(17582, 1000, 4)\n",
      "(70327, 2)\n",
      "(17582, 2)\n"
     ]
    }
   ],
   "source": [
    "print(X_train.shape)\n",
    "print(X_valid.shape)\n",
    "print(y_train.shape)\n",
    "print(y_valid.shape)"
   ]
  },
  {
   "cell_type": "code",
   "execution_count": 17,
   "metadata": {},
   "outputs": [],
   "source": [
    "Y_train = [y_train[:,0], y_train[:,1]]\n",
    "Y_valid = [y_valid[:,0], y_valid[:,1]]\n",
    "#Y_train = y_train\n",
    "#Y_valid = y_valid"
   ]
  },
  {
   "cell_type": "code",
   "execution_count": 14,
   "metadata": {},
   "outputs": [
    {
     "name": "stdout",
     "output_type": "stream",
     "text": [
      "(70327, 1000, 4)\n",
      "(17582, 1000, 4)\n",
      "(2,)\n"
     ]
    },
    {
     "ename": "NameError",
     "evalue": "name 'Y_valid' is not defined",
     "output_type": "error",
     "traceback": [
      "\u001b[0;31m---------------------------------------------------------------------------\u001b[0m",
      "\u001b[0;31mNameError\u001b[0m                                 Traceback (most recent call last)",
      "\u001b[0;32m<ipython-input-14-5856664efa0d>\u001b[0m in \u001b[0;36m<module>\u001b[0;34m\u001b[0m\n\u001b[1;32m      2\u001b[0m \u001b[0mprint\u001b[0m\u001b[0;34m(\u001b[0m\u001b[0mX_valid\u001b[0m\u001b[0;34m.\u001b[0m\u001b[0mshape\u001b[0m\u001b[0;34m)\u001b[0m\u001b[0;34m\u001b[0m\u001b[0;34m\u001b[0m\u001b[0m\n\u001b[1;32m      3\u001b[0m \u001b[0mprint\u001b[0m\u001b[0;34m(\u001b[0m\u001b[0mY_train\u001b[0m\u001b[0;34m[\u001b[0m\u001b[0;36m0\u001b[0m\u001b[0;34m]\u001b[0m\u001b[0;34m.\u001b[0m\u001b[0mshape\u001b[0m\u001b[0;34m)\u001b[0m\u001b[0;34m\u001b[0m\u001b[0;34m\u001b[0m\u001b[0m\n\u001b[0;32m----> 4\u001b[0;31m \u001b[0mprint\u001b[0m\u001b[0;34m(\u001b[0m\u001b[0mY_valid\u001b[0m\u001b[0;34m[\u001b[0m\u001b[0;36m0\u001b[0m\u001b[0;34m]\u001b[0m\u001b[0;34m.\u001b[0m\u001b[0mshape\u001b[0m\u001b[0;34m)\u001b[0m\u001b[0;34m\u001b[0m\u001b[0;34m\u001b[0m\u001b[0m\n\u001b[0m",
      "\u001b[0;31mNameError\u001b[0m: name 'Y_valid' is not defined"
     ]
    }
   ],
   "source": [
    "print(X_train.shape)\n",
    "print(X_valid.shape)\n",
    "print(Y_train[0].shape)\n",
    "print(Y_valid[0].shape)"
   ]
  },
  {
   "cell_type": "code",
   "execution_count": 8,
   "metadata": {},
   "outputs": [],
   "source": [
    "### Additional metrics\n",
    "from scipy.stats import spearmanr\n",
    "def Spearman(y_true, y_pred):\n",
    "     return ( tf.py_function(spearmanr, [tf.cast(y_pred, tf.float32), \n",
    "                       tf.cast(y_true, tf.float32)], Tout = tf.float32) )"
   ]
  },
  {
   "cell_type": "code",
   "execution_count": 10,
   "metadata": {},
   "outputs": [
    {
     "name": "stdout",
     "output_type": "stream",
     "text": [
      "Model: \"model_2\"\n",
      "__________________________________________________________________________________________________\n",
      "Layer (type)                    Output Shape         Param #     Connected to                     \n",
      "==================================================================================================\n",
      "input_3 (InputLayer)            [(None, 1000, 4)]    0                                            \n",
      "__________________________________________________________________________________________________\n",
      "Conv1D_1st (Conv1D)             (None, 1000, 256)    7424        input_3[0][0]                    \n",
      "__________________________________________________________________________________________________\n",
      "batch_normalization_14 (BatchNo (None, 1000, 256)    1024        Conv1D_1st[0][0]                 \n",
      "__________________________________________________________________________________________________\n",
      "activation_14 (Activation)      (None, 1000, 256)    0           batch_normalization_14[0][0]     \n",
      "__________________________________________________________________________________________________\n",
      "max_pooling1d_10 (MaxPooling1D) (None, 500, 256)     0           activation_14[0][0]              \n",
      "__________________________________________________________________________________________________\n",
      "Conv1D_2 (Conv1D)               (None, 500, 60)      46140       max_pooling1d_10[0][0]           \n",
      "__________________________________________________________________________________________________\n",
      "batch_normalization_15 (BatchNo (None, 500, 60)      240         Conv1D_2[0][0]                   \n",
      "__________________________________________________________________________________________________\n",
      "activation_15 (Activation)      (None, 500, 60)      0           batch_normalization_15[0][0]     \n",
      "__________________________________________________________________________________________________\n",
      "max_pooling1d_11 (MaxPooling1D) (None, 250, 60)      0           activation_15[0][0]              \n",
      "__________________________________________________________________________________________________\n",
      "Conv1D_3 (Conv1D)               (None, 250, 60)      18060       max_pooling1d_11[0][0]           \n",
      "__________________________________________________________________________________________________\n",
      "batch_normalization_16 (BatchNo (None, 250, 60)      240         Conv1D_3[0][0]                   \n",
      "__________________________________________________________________________________________________\n",
      "activation_16 (Activation)      (None, 250, 60)      0           batch_normalization_16[0][0]     \n",
      "__________________________________________________________________________________________________\n",
      "max_pooling1d_12 (MaxPooling1D) (None, 125, 60)      0           activation_16[0][0]              \n",
      "__________________________________________________________________________________________________\n",
      "Conv1D_4 (Conv1D)               (None, 125, 120)     21720       max_pooling1d_12[0][0]           \n",
      "__________________________________________________________________________________________________\n",
      "batch_normalization_17 (BatchNo (None, 125, 120)     480         Conv1D_4[0][0]                   \n",
      "__________________________________________________________________________________________________\n",
      "activation_17 (Activation)      (None, 125, 120)     0           batch_normalization_17[0][0]     \n",
      "__________________________________________________________________________________________________\n",
      "max_pooling1d_13 (MaxPooling1D) (None, 62, 120)      0           activation_17[0][0]              \n",
      "__________________________________________________________________________________________________\n",
      "Conv1D_5 (Conv1D)               (None, 62, 120)      43320       max_pooling1d_13[0][0]           \n",
      "__________________________________________________________________________________________________\n",
      "batch_normalization_18 (BatchNo (None, 62, 120)      480         Conv1D_5[0][0]                   \n",
      "__________________________________________________________________________________________________\n",
      "activation_18 (Activation)      (None, 62, 120)      0           batch_normalization_18[0][0]     \n",
      "__________________________________________________________________________________________________\n",
      "max_pooling1d_14 (MaxPooling1D) (None, 31, 120)      0           activation_18[0][0]              \n",
      "__________________________________________________________________________________________________\n",
      "flatten_2 (Flatten)             (None, 3720)         0           max_pooling1d_14[0][0]           \n",
      "__________________________________________________________________________________________________\n",
      "Dense_1 (Dense)                 (None, 256)          952576      flatten_2[0][0]                  \n",
      "__________________________________________________________________________________________________\n",
      "batch_normalization_19 (BatchNo (None, 256)          1024        Dense_1[0][0]                    \n",
      "__________________________________________________________________________________________________\n",
      "activation_19 (Activation)      (None, 256)          0           batch_normalization_19[0][0]     \n",
      "__________________________________________________________________________________________________\n",
      "dropout_4 (Dropout)             (None, 256)          0           activation_19[0][0]              \n",
      "__________________________________________________________________________________________________\n",
      "Dense_2 (Dense)                 (None, 256)          65792       dropout_4[0][0]                  \n",
      "__________________________________________________________________________________________________\n",
      "batch_normalization_20 (BatchNo (None, 256)          1024        Dense_2[0][0]                    \n",
      "__________________________________________________________________________________________________\n",
      "activation_20 (Activation)      (None, 256)          0           batch_normalization_20[0][0]     \n",
      "__________________________________________________________________________________________________\n",
      "dropout_5 (Dropout)             (None, 256)          0           activation_20[0][0]              \n",
      "__________________________________________________________________________________________________\n",
      "Dense_DMSO (Dense)              (None, 1)            257         dropout_5[0][0]                  \n",
      "__________________________________________________________________________________________________\n",
      "Dense_Dex (Dense)               (None, 1)            257         dropout_5[0][0]                  \n",
      "==================================================================================================\n",
      "Total params: 1,160,058\n",
      "Trainable params: 1,157,802\n",
      "Non-trainable params: 2,256\n",
      "__________________________________________________________________________________________________\n"
     ]
    },
    {
     "data": {
      "text/plain": [
       "{'batch_size': 128,\n",
       " 'epochs': 10,\n",
       " 'early_stop': 10,\n",
       " 'kernel_size1': 7,\n",
       " 'kernel_size2': 3,\n",
       " 'kernel_size3': 5,\n",
       " 'kernel_size4': 3,\n",
       " 'kernel_size5': 3,\n",
       " 'lr': 0.002,\n",
       " 'num_filters': 256,\n",
       " 'num_filters2': 60,\n",
       " 'num_filters3': 60,\n",
       " 'num_filters4': 120,\n",
       " 'num_filters5': 120,\n",
       " 'n_conv_layer': 5,\n",
       " 'n_add_layer': 2,\n",
       " 'dropout_prob': 0.4,\n",
       " 'dense_neurons1': 256,\n",
       " 'dense_neurons2': 256,\n",
       " 'pad': 'same'}"
      ]
     },
     "execution_count": 10,
     "metadata": {},
     "output_type": "execute_result"
    }
   ],
   "source": [
    "params = {'batch_size': 128,\n",
    "          'epochs': 10,\n",
    "          'early_stop': 10,\n",
    "          'kernel_size1': 7,\n",
    "          'kernel_size2': 3,\n",
    "          'kernel_size3': 5,\n",
    "          'kernel_size4': 3,\n",
    "          'kernel_size5': 3,\n",
    "          'lr': 0.002,\n",
    "          'num_filters': 256,\n",
    "          'num_filters2': 60,\n",
    "          'num_filters3': 60,\n",
    "          'num_filters4': 120,\n",
    "          'num_filters5': 120,\n",
    "          #'n_conv_layer': 4,\n",
    "          'n_conv_layer': 5,\n",
    "          'n_add_layer':  2,\n",
    "          'dropout_prob': 0.4,\n",
    "          'dense_neurons1': 256,\n",
    "          'dense_neurons2': 256,\n",
    "          'pad':'same'}\n",
    "\n",
    "def DeepSTARR(params=params):\n",
    "    \n",
    "    lr = params['lr']\n",
    "    dropout_prob = params['dropout_prob']\n",
    "    n_conv_layer = params['n_conv_layer']\n",
    "    n_add_layer = params['n_add_layer']\n",
    "    \n",
    "    # body\n",
    "    #input = kl.Input(shape=(249, 4))\n",
    "    input = kl.Input(shape=(1000, 4))\n",
    "    x = kl.Conv1D(params['num_filters'], kernel_size=params['kernel_size1'],\n",
    "                  padding=params['pad'],\n",
    "                  name='Conv1D_1st')(input)\n",
    "    x = BatchNormalization()(x)\n",
    "    x = Activation('relu')(x)\n",
    "    x = MaxPooling1D(2)(x)\n",
    "\n",
    "    for i in range(1, n_conv_layer):\n",
    "        x = kl.Conv1D(params['num_filters'+str(i+1)],\n",
    "                      kernel_size=params['kernel_size'+str(i+1)],\n",
    "                      padding=params['pad'],\n",
    "                      name=str('Conv1D_'+str(i+1)))(x)\n",
    "        x = BatchNormalization()(x)\n",
    "        x = Activation('relu')(x)\n",
    "        x = MaxPooling1D(2)(x)\n",
    "    \n",
    "    x = Flatten()(x)\n",
    "    \n",
    "    # dense layers\n",
    "    for i in range(0, n_add_layer):\n",
    "        x = kl.Dense(params['dense_neurons'+str(i+1)],\n",
    "                     name=str('Dense_'+str(i+1)))(x)\n",
    "        x = BatchNormalization()(x)\n",
    "        x = Activation('relu')(x)\n",
    "        x = Dropout(dropout_prob)(x)\n",
    "    bottleneck = x\n",
    "    \n",
    "    # heads per task (developmental and housekeeping enhancer activities)\n",
    "    #tasks = ['Dev', 'Hk']\n",
    "    tasks = ['DMSO', 'Dex']\n",
    "    outputs = []\n",
    "    for task in tasks:\n",
    "        outputs.append(kl.Dense(1, activation='linear', name=str('Dense_' + task))(bottleneck))\n",
    "\n",
    "    model = tf.keras.models.Model([input], outputs)\n",
    "    model.compile(tf.keras.optimizers.Adam(learning_rate=lr),\n",
    "                  loss=['mse', 'mse'], # loss\n",
    "                  loss_weights=[1, 1], # loss weigths to balance\n",
    "                  metrics=[Spearman]) # additional track metric\n",
    "\n",
    "    return model, params\n",
    "\n",
    "DeepSTARR()[0].summary()\n",
    "DeepSTARR()[1] # dictionary"
   ]
  },
  {
   "cell_type": "code",
   "execution_count": 18,
   "metadata": {},
   "outputs": [],
   "source": [
    "def train(selected_model, X_train, Y_train, X_valid, Y_valid, params):\n",
    "\n",
    "    my_history=selected_model.fit(X_train, Y_train,\n",
    "                                  validation_data=(X_valid, Y_valid),\n",
    "                                  batch_size=params['batch_size'], epochs=params['epochs'],\n",
    "                                  callbacks=[EarlyStopping(patience=params['early_stop'], monitor=\"val_loss\", restore_best_weights=True),\n",
    "                                             History()])\n",
    "    \n",
    "    return selected_model, my_history"
   ]
  },
  {
   "cell_type": "code",
   "execution_count": 19,
   "metadata": {
    "tags": []
   },
   "outputs": [
    {
     "ename": "ValueError",
     "evalue": "Error when checking model target: the list of Numpy arrays that you are passing to your model is not the size the model expected. Expected to see 2 array(s), but instead got the following list of 1 arrays: [array([[0.50823895, 1.18173257],\n       [1.04618983, 0.96931378],\n       [0.49112468, 1.44471417],\n       ...,\n       [0.45041924, 0.0989796 ],\n       [2.09559252, 3.18101068],\n       [1.33785767, 1....",
     "output_type": "error",
     "traceback": [
      "\u001b[0;31m---------------------------------------------------------------------------\u001b[0m",
      "\u001b[0;31mValueError\u001b[0m                                Traceback (most recent call last)",
      "\u001b[0;32m<ipython-input-19-bf6d1da01e77>\u001b[0m in \u001b[0;36m<module>\u001b[0;34m\u001b[0m\n\u001b[1;32m      1\u001b[0m \u001b[0mmain_model\u001b[0m\u001b[0;34m,\u001b[0m \u001b[0mmain_params\u001b[0m \u001b[0;34m=\u001b[0m \u001b[0mDeepSTARR\u001b[0m\u001b[0;34m(\u001b[0m\u001b[0;34m)\u001b[0m\u001b[0;34m\u001b[0m\u001b[0;34m\u001b[0m\u001b[0m\n\u001b[0;32m----> 2\u001b[0;31m \u001b[0mmain_model\u001b[0m\u001b[0;34m,\u001b[0m \u001b[0mmy_history\u001b[0m \u001b[0;34m=\u001b[0m \u001b[0mtrain\u001b[0m\u001b[0;34m(\u001b[0m\u001b[0mmain_model\u001b[0m\u001b[0;34m,\u001b[0m \u001b[0mX_train\u001b[0m\u001b[0;34m,\u001b[0m \u001b[0mY_train\u001b[0m\u001b[0;34m,\u001b[0m \u001b[0mX_valid\u001b[0m\u001b[0;34m,\u001b[0m \u001b[0mY_valid\u001b[0m\u001b[0;34m,\u001b[0m \u001b[0mmain_params\u001b[0m\u001b[0;34m)\u001b[0m\u001b[0;34m\u001b[0m\u001b[0;34m\u001b[0m\u001b[0m\n\u001b[0m",
      "\u001b[0;32m<ipython-input-18-d132b869b0ec>\u001b[0m in \u001b[0;36mtrain\u001b[0;34m(selected_model, X_train, Y_train, X_valid, Y_valid, params)\u001b[0m\n\u001b[1;32m      5\u001b[0m                                   \u001b[0mbatch_size\u001b[0m\u001b[0;34m=\u001b[0m\u001b[0mparams\u001b[0m\u001b[0;34m[\u001b[0m\u001b[0;34m'batch_size'\u001b[0m\u001b[0;34m]\u001b[0m\u001b[0;34m,\u001b[0m \u001b[0mepochs\u001b[0m\u001b[0;34m=\u001b[0m\u001b[0mparams\u001b[0m\u001b[0;34m[\u001b[0m\u001b[0;34m'epochs'\u001b[0m\u001b[0;34m]\u001b[0m\u001b[0;34m,\u001b[0m\u001b[0;34m\u001b[0m\u001b[0;34m\u001b[0m\u001b[0m\n\u001b[1;32m      6\u001b[0m                                   callbacks=[EarlyStopping(patience=params['early_stop'], monitor=\"val_loss\", restore_best_weights=True),\n\u001b[0;32m----> 7\u001b[0;31m                                              History()])\n\u001b[0m\u001b[1;32m      8\u001b[0m \u001b[0;34m\u001b[0m\u001b[0m\n\u001b[1;32m      9\u001b[0m     \u001b[0;32mreturn\u001b[0m \u001b[0mselected_model\u001b[0m\u001b[0;34m,\u001b[0m \u001b[0mmy_history\u001b[0m\u001b[0;34m\u001b[0m\u001b[0;34m\u001b[0m\u001b[0m\n",
      "\u001b[0;32m/usr/local/lib/python3.6/dist-packages/tensorflow/python/keras/engine/training.py\u001b[0m in \u001b[0;36mfit\u001b[0;34m(self, x, y, batch_size, epochs, verbose, callbacks, validation_split, validation_data, shuffle, class_weight, sample_weight, initial_epoch, steps_per_epoch, validation_steps, validation_freq, max_queue_size, workers, use_multiprocessing, **kwargs)\u001b[0m\n\u001b[1;32m    707\u001b[0m         \u001b[0msteps\u001b[0m\u001b[0;34m=\u001b[0m\u001b[0msteps_per_epoch\u001b[0m\u001b[0;34m,\u001b[0m\u001b[0;34m\u001b[0m\u001b[0;34m\u001b[0m\u001b[0m\n\u001b[1;32m    708\u001b[0m         \u001b[0mvalidation_split\u001b[0m\u001b[0;34m=\u001b[0m\u001b[0mvalidation_split\u001b[0m\u001b[0;34m,\u001b[0m\u001b[0;34m\u001b[0m\u001b[0;34m\u001b[0m\u001b[0m\n\u001b[0;32m--> 709\u001b[0;31m         shuffle=shuffle)\n\u001b[0m\u001b[1;32m    710\u001b[0m \u001b[0;34m\u001b[0m\u001b[0m\n\u001b[1;32m    711\u001b[0m     \u001b[0;31m# Prepare validation data.\u001b[0m\u001b[0;34m\u001b[0m\u001b[0;34m\u001b[0m\u001b[0;34m\u001b[0m\u001b[0m\n",
      "\u001b[0;32m/usr/local/lib/python3.6/dist-packages/tensorflow/python/keras/engine/training.py\u001b[0m in \u001b[0;36m_standardize_user_data\u001b[0;34m(self, x, y, sample_weight, class_weight, batch_size, check_steps, steps_name, steps, validation_split, shuffle, extract_tensors_from_dataset)\u001b[0m\n\u001b[1;32m   2671\u001b[0m           \u001b[0mshapes\u001b[0m\u001b[0;34m=\u001b[0m\u001b[0;32mNone\u001b[0m\u001b[0;34m,\u001b[0m\u001b[0;34m\u001b[0m\u001b[0;34m\u001b[0m\u001b[0m\n\u001b[1;32m   2672\u001b[0m           \u001b[0mcheck_batch_axis\u001b[0m\u001b[0;34m=\u001b[0m\u001b[0;32mFalse\u001b[0m\u001b[0;34m,\u001b[0m  \u001b[0;31m# Don't enforce the batch size.\u001b[0m\u001b[0;34m\u001b[0m\u001b[0;34m\u001b[0m\u001b[0m\n\u001b[0;32m-> 2673\u001b[0;31m           exception_prefix='target')\n\u001b[0m\u001b[1;32m   2674\u001b[0m \u001b[0;34m\u001b[0m\u001b[0m\n\u001b[1;32m   2675\u001b[0m       \u001b[0;31m# Generate sample-wise weight values given the `sample_weight` and\u001b[0m\u001b[0;34m\u001b[0m\u001b[0;34m\u001b[0m\u001b[0;34m\u001b[0m\u001b[0m\n",
      "\u001b[0;32m/usr/local/lib/python3.6/dist-packages/tensorflow/python/keras/engine/training_utils.py\u001b[0m in \u001b[0;36mstandardize_input_data\u001b[0;34m(data, names, shapes, check_batch_axis, exception_prefix)\u001b[0m\n\u001b[1;32m    344\u001b[0m                        \u001b[0;34m'Expected to see '\u001b[0m \u001b[0;34m+\u001b[0m \u001b[0mstr\u001b[0m\u001b[0;34m(\u001b[0m\u001b[0mlen\u001b[0m\u001b[0;34m(\u001b[0m\u001b[0mnames\u001b[0m\u001b[0;34m)\u001b[0m\u001b[0;34m)\u001b[0m \u001b[0;34m+\u001b[0m \u001b[0;34m' array(s), '\u001b[0m\u001b[0;34m\u001b[0m\u001b[0;34m\u001b[0m\u001b[0m\n\u001b[1;32m    345\u001b[0m                        \u001b[0;34m'but instead got the following list of '\u001b[0m \u001b[0;34m+\u001b[0m\u001b[0;34m\u001b[0m\u001b[0;34m\u001b[0m\u001b[0m\n\u001b[0;32m--> 346\u001b[0;31m                        str(len(data)) + ' arrays: ' + str(data)[:200] + '...')\n\u001b[0m\u001b[1;32m    347\u001b[0m     \u001b[0;32melif\u001b[0m \u001b[0mlen\u001b[0m\u001b[0;34m(\u001b[0m\u001b[0mnames\u001b[0m\u001b[0;34m)\u001b[0m \u001b[0;34m>\u001b[0m \u001b[0;36m1\u001b[0m\u001b[0;34m:\u001b[0m\u001b[0;34m\u001b[0m\u001b[0;34m\u001b[0m\u001b[0m\n\u001b[1;32m    348\u001b[0m       raise ValueError('Error when checking model ' + exception_prefix +\n",
      "\u001b[0;31mValueError\u001b[0m: Error when checking model target: the list of Numpy arrays that you are passing to your model is not the size the model expected. Expected to see 2 array(s), but instead got the following list of 1 arrays: [array([[0.50823895, 1.18173257],\n       [1.04618983, 0.96931378],\n       [0.49112468, 1.44471417],\n       ...,\n       [0.45041924, 0.0989796 ],\n       [2.09559252, 3.18101068],\n       [1.33785767, 1...."
     ]
    }
   ],
   "source": [
    "main_model, main_params = DeepSTARR()\n",
    "main_model, my_history = train(main_model, X_train, Y_train, X_valid, Y_valid, main_params)"
   ]
  },
  {
   "cell_type": "code",
   "execution_count": 43,
   "metadata": {},
   "outputs": [
    {
     "data": {
      "text/plain": [
       "<tensorflow.python.keras.callbacks.History at 0x7f966a004fd0>"
      ]
     },
     "execution_count": 43,
     "metadata": {},
     "output_type": "execute_result"
    }
   ],
   "source": [
    "my_history"
   ]
  },
  {
   "cell_type": "code",
   "execution_count": 44,
   "metadata": {},
   "outputs": [
    {
     "data": {
      "text/plain": [
       "dict_keys(['loss', 'Dense_DMSO_loss', 'Dense_Dex_loss', 'Dense_DMSO_Spearman', 'Dense_Dex_Spearman', 'val_loss', 'val_Dense_DMSO_loss', 'val_Dense_Dex_loss', 'val_Dense_DMSO_Spearman', 'val_Dense_Dex_Spearman'])"
      ]
     },
     "execution_count": 44,
     "metadata": {},
     "output_type": "execute_result"
    }
   ],
   "source": [
    "my_history.history.keys()"
   ]
  },
  {
   "cell_type": "code",
   "execution_count": 45,
   "metadata": {},
   "outputs": [],
   "source": [
    "def plot_loss_acc(axs, history, has_validate=False):\n",
    "    \"\"\"...\"\"\"\n",
    "    ### history\n",
    "    h = history\n",
    "    loss_trn = h[\"loss\"]\n",
    "    acc_trn  = h[\"Dense_Dex_Spearman\"]\n",
    "    x = np.arange(len(loss_trn)) + 1\n",
    "    \n",
    "    ### plot loss\n",
    "    ax = axs[0]\n",
    "    ax.plot(x, loss_trn, \"o-\", color=\"blue\", label=\"Train\")\n",
    "    ax.set_title(\"Loss\")\n",
    "    \n",
    "    ### plot accuracy\n",
    "    ax = axs[1]\n",
    "    ax.plot(x, acc_trn, \"o-\", color=\"blue\", label=\"Train\")\n",
    "    ax.set_title(\"Dense_Dex_Spearman\")\n",
    "    \n",
    "    ### plot validation if has_validate\n",
    "    if has_validate:\n",
    "        loss_val = h[\"val_loss\"]\n",
    "        acc_val  = h[\"val_Dense_Dex_Spearman\"]\n",
    "    \n",
    "        ax = axs[0]\n",
    "        ax.plot(x, loss_val, \"o-\", color=\"orange\", label=\"Validation\")\n",
    "        ax.set_title(\"Loss (Validation)\")\n",
    "        \n",
    "        ax = axs[1]\n",
    "        ax.plot(x, acc_val, \"o-\", color=\"orange\", label=\"Validation\")\n",
    "        ax.set_title(\"val_Dense_Dex_Spearman\")"
   ]
  },
  {
   "cell_type": "code",
   "execution_count": 46,
   "metadata": {},
   "outputs": [],
   "source": [
    "import matplotlib.pyplot as plt"
   ]
  },
  {
   "cell_type": "code",
   "execution_count": 47,
   "metadata": {},
   "outputs": [
    {
     "data": {
      "image/png": "[encoded data removed]",
      "text/plain": [
       "<Figure size 1080x360 with 2 Axes>"
      ]
     },
     "metadata": {
      "needs_background": "light"
     },
     "output_type": "display_data"
    }
   ],
   "source": [
    "fig, axes = plt.subplots(ncols=2, nrows=1, figsize=(15,5))\n",
    "plt.subplots_adjust(wspace=0.3, hspace=0.3)\n",
    "plot_loss_acc(axes, my_history.history, has_validate=True)\n",
    "plt.legend()\n",
    "plt.show()"
   ]
  },
  {
   "cell_type": "code",
   "execution_count": 48,
   "metadata": {},
   "outputs": [
    {
     "data": {
      "image/png": "[encoded data removed]",
      "text/plain": [
       "<Figure size 1080x360 with 2 Axes>"
      ]
     },
     "metadata": {
      "needs_background": "light"
     },
     "output_type": "display_data"
    }
   ],
   "source": [
    "fig, axes = plt.subplots(ncols=2, nrows=1, figsize=(15,5))\n",
    "plt.subplots_adjust(wspace=0.3, hspace=0.3)\n",
    "plot_loss_acc(axes, my_history.history, has_validate=True)\n",
    "plt.legend()\n",
    "plt.show()"
   ]
  },
  {
   "cell_type": "code",
   "execution_count": 49,
   "metadata": {},
   "outputs": [
    {
     "name": "stdout",
     "output_type": "stream",
     "text": [
      "train MSE DMSO = 0.04\n",
      "train PCC DMSO = 0.97\n",
      "train SCC DMSO = 0.96\n",
      "train MSE Dex = 0.04\n",
      "train PCC Dex = 0.96\n",
      "train SCC Dex = 0.95\n",
      "validation MSE DMSO = 0.41\n",
      "validation PCC DMSO = 0.65\n",
      "validation SCC DMSO = 0.64\n",
      "validation MSE Dex = 0.44\n",
      "validation PCC Dex = 0.47\n",
      "validation SCC Dex = 0.43\n"
     ]
    }
   ],
   "source": [
    "from scipy import stats\n",
    "from sklearn.metrics import mean_squared_error\n",
    "\n",
    "# create functions\n",
    "#tasks = ['DMSO', 'Dex']\n",
    "TASK1 = 'DMSO'\n",
    "TASK2 = 'Dex'\n",
    "def summary_statistics(X, Y, set, task):\n",
    "    pred = main_model.predict(X, batch_size=main_params['batch_size'])\n",
    "    #if task ==\"Dev\":\n",
    "    if task == TASK1:\n",
    "        i=0\n",
    "    #if task ==\"Hk\":\n",
    "    if task == TASK2:\n",
    "        i=1\n",
    "    print(set + ' MSE ' + task + ' = ' + str(\"{0:0.2f}\".format(mean_squared_error(Y, pred[i].squeeze()))))\n",
    "    print(set + ' PCC ' + task + ' = ' + str(\"{0:0.2f}\".format(stats.pearsonr(Y, pred[i].squeeze())[0])))\n",
    "    print(set + ' SCC ' + task + ' = ' + str(\"{0:0.2f}\".format(stats.spearmanr(Y, pred[i].squeeze())[0])))\n",
    "    \n",
    "# run for each set and enhancer type\n",
    "#summary_statistics(X_train, Y_train[0], \"train\", \"Dev\")\n",
    "#summary_statistics(X_train, Y_train[1], \"train\", \"Hk\")\n",
    "#summary_statistics(X_valid, Y_valid[0], \"validation\", \"Dev\")\n",
    "#summary_statistics(X_valid, Y_valid[1], \"validation\", \"Hk\")\n",
    "#summary_statistics(X_test, Y_test[0], \"test\", \"Dev\")\n",
    "#summary_statistics(X_test, Y_test[1], \"test\", \"Hk\")\n",
    "\n",
    "summary_statistics(X_train, Y_train[0], \"train\", TASK1)\n",
    "summary_statistics(X_train, Y_train[1], \"train\", TASK2)\n",
    "summary_statistics(X_valid, Y_valid[0], \"validation\", TASK1)\n",
    "summary_statistics(X_valid, Y_valid[1], \"validation\", TASK2)\n",
    "#summary_statistics(X_test, Y_test[0], \"test\", TASK1)\n",
    "#summary_statistics(X_test, Y_test[1], \"test\", TASK2)"
   ]
  },
  {
   "cell_type": "code",
   "execution_count": 50,
   "metadata": {},
   "outputs": [],
   "source": [
    "import os"
   ]
  },
  {
   "cell_type": "code",
   "execution_count": 51,
   "metadata": {},
   "outputs": [
    {
     "name": "stdout",
     "output_type": "stream",
     "text": [
      "\u001b[0m\u001b[01;34mcradle\u001b[0m/  \u001b[01;34mcradle_deepstarr_data\u001b[0m/  \u001b[01;34mcradle_deepstarr_results\u001b[0m/  \u001b[01;34mcradle_peak_count\u001b[0m/\n"
     ]
    }
   ],
   "source": [
    "ls /home/mount/work/out/proj_combeffect/peak"
   ]
  },
  {
   "cell_type": "code",
   "execution_count": 52,
   "metadata": {},
   "outputs": [
    {
     "data": {
      "text/plain": [
       "['.ipynb_checkpoints',\n",
       " 'cradle_deepstarr_results',\n",
       " 'cradle_peak_count',\n",
       " 'cradle',\n",
       " 'cradle_deepstarr_data']"
      ]
     },
     "execution_count": 52,
     "metadata": {},
     "output_type": "execute_result"
    }
   ],
   "source": [
    "fdiry = \"/home/mount/work/out/proj_combeffect/peak\"\n",
    "os.listdir(fdiry)"
   ]
  },
  {
   "cell_type": "code",
   "execution_count": 53,
   "metadata": {},
   "outputs": [
    {
     "data": {
      "text/plain": [
       "['chr17_Model_DeepSTARR_Dex_modisco.h5',\n",
       " 'Model_DeepSTARR.json',\n",
       " 'Model_DeepSTARR.h5',\n",
       " 'chr17_Model_DeepSTARR_Dex_contribution_scores.h5']"
      ]
     },
     "execution_count": 53,
     "metadata": {},
     "output_type": "execute_result"
    }
   ],
   "source": [
    "fdiry = \"/home/mount/work/out/proj_combeffect/peak/cradle_deepstarr_results\"\n",
    "os.listdir(fdiry)"
   ]
  },
  {
   "cell_type": "code",
   "execution_count": 54,
   "metadata": {},
   "outputs": [],
   "source": [
    "#model_name=\"DeepSTARR\"\n",
    "\n",
    "#model_json = main_model.to_json()\n",
    "#with open('Model_' + model_name + '.json', \"w\") as json_file:\n",
    "#    json_file.write(model_json)\n",
    "#main_model.save_weights('Model_' + model_name + '.h5')\n",
    "\n",
    "model_name = \"DeepSTARR\"\n",
    "fdiry = \"/home/mount/work/out/proj_combeffect/peak/cradle_deepstarr_results\" \n",
    "\n",
    "model_json = main_model.to_json()\n",
    "fdiry = \"/home/mount/work/out/proj_combeffect/peak/cradle_deepstarr_results\"\n",
    "fname = 'Model_' + model_name + '.json'\n",
    "fpath = os.path.join(fdiry, fname)\n",
    "with open(fpath, \"w\") as json_file:\n",
    "    json_file.write(model_json)\n",
    "    \n",
    "fdiry = \"/home/mount/work/out/proj_combeffect/peak/cradle_deepstarr_results\"\n",
    "fname = 'Model_' + model_name + '.h5'\n",
    "fpath = os.path.join(fdiry, fname)\n",
    "main_model.save_weights(fpath)"
   ]
  },
  {
   "cell_type": "code",
   "execution_count": null,
   "metadata": {},
   "outputs": [],
   "source": []
  }
 ],
 "metadata": {
  "kernelspec": {
   "display_name": "Python 3",
   "language": "python",
   "name": "python3"
  },
  "language_info": {
   "codemirror_mode": {
    "name": "ipython",
    "version": 3
   },
   "file_extension": ".py",
   "mimetype": "text/x-python",
   "name": "python",
   "nbconvert_exporter": "python",
   "pygments_lexer": "ipython3",
   "version": "3.6.8"
  }
 },
 "nbformat": 4,
 "nbformat_minor": 4
}
