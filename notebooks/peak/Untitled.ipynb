{
 "cells": [
  {
   "cell_type": "code",
   "execution_count": 1,
   "id": "d51f7a0b-1801-4f3f-88e4-190f9b81bead",
   "metadata": {},
   "outputs": [],
   "source": [
    "import os, json"
   ]
  },
  {
   "cell_type": "code",
   "execution_count": 2,
   "id": "c65fa196-f523-48c9-a18f-78ca330a0699",
   "metadata": {},
   "outputs": [
    {
     "name": "stdout",
     "output_type": "stream",
     "text": [
      "['chrY.fa', '.ipynb_checkpoints', 'chr21.fa', 'chr5.fa', 'chr17.fa_Model_DeepSTARR_Dex_contribution_scores.h5', 'chr3.fa', 'chr2.fa', 'chr6.fa', 'chr16.fa', 'chr20.fa', 'chr15.fa', 'chr12.fa', 'chr1.fa', 'chr4.fa', 'chr9.fa', 'chr18.fa', 'chr10.fa', 'chr22.fa', 'chr14.fa', 'chrX.fa', 'chr11.fa', 'chr13.fa', 'chr19.fa', 'chr8.fa', 'chr17.fa', 'chr7.fa']\n"
     ]
    }
   ],
   "source": [
    "fdiry = \"/home/mount/work/out/proj_combeffect/peak/cradle_deepstarr_data\"\n",
    "print(os.listdir(fdiry))"
   ]
  },
  {
   "cell_type": "code",
   "execution_count": 1,
   "id": "ba37e79b-b58d-4a9a-88a1-b7d11b686ef8",
   "metadata": {},
   "outputs": [],
   "source": [
    "import DeepSTARR"
   ]
  },
  {
   "cell_type": "code",
   "execution_count": 2,
   "id": "a8c8a925-980c-49db-9ad9-a1d2be082180",
   "metadata": {},
   "outputs": [
    {
     "data": {
      "text/plain": [
       "<function DeepSTARR.model.DeepSTARR(params)>"
      ]
     },
     "execution_count": 2,
     "metadata": {},
     "output_type": "execute_result"
    }
   ],
   "source": [
    "DeepSTARR.DeepSTARR"
   ]
  },
  {
   "cell_type": "code",
   "execution_count": 3,
   "id": "0393ee6c-fefe-449e-a9d4-6e235702722d",
   "metadata": {},
   "outputs": [
    {
     "data": {
      "text/plain": [
       "<function DeepSTARR.model.train(selected_model, X_train, Y_train, X_valid, Y_valid, params)>"
      ]
     },
     "execution_count": 3,
     "metadata": {},
     "output_type": "execute_result"
    }
   ],
   "source": [
    "DeepSTARR.train"
   ]
  },
  {
   "cell_type": "code",
   "execution_count": 4,
   "id": "ed20498d-6a29-4581-9bc4-833a6e42deca",
   "metadata": {},
   "outputs": [
    {
     "data": {
      "text/plain": [
       "<function DeepSTARR.score.load_model(model)>"
      ]
     },
     "execution_count": 4,
     "metadata": {},
     "output_type": "execute_result"
    }
   ],
   "source": [
    "DeepSTARR.load_model"
   ]
  },
  {
   "cell_type": "code",
   "execution_count": 5,
   "id": "c266288a-3af1-4394-bd3b-6a7b70c214ec",
   "metadata": {},
   "outputs": [
    {
     "data": {
      "text/plain": [
       "<function DeepSTARR.score.my_deepExplainer(model, one_hot, class_output)>"
      ]
     },
     "execution_count": 5,
     "metadata": {},
     "output_type": "execute_result"
    }
   ],
   "source": [
    "DeepSTARR.my_deepExplainer"
   ]
  },
  {
   "cell_type": "code",
   "execution_count": null,
   "id": "6db1d74e-7921-4e6d-b3f6-35a795167e89",
   "metadata": {},
   "outputs": [],
   "source": []
  }
 ],
 "metadata": {
  "kernelspec": {
   "display_name": "Python 3",
   "language": "python",
   "name": "python3"
  },
  "language_info": {
   "codemirror_mode": {
    "name": "ipython",
    "version": 3
   },
   "file_extension": ".py",
   "mimetype": "text/x-python",
   "name": "python",
   "nbconvert_exporter": "python",
   "pygments_lexer": "ipython3",
   "version": "3.6.8"
  }
 },
 "nbformat": 4,
 "nbformat_minor": 5
}
