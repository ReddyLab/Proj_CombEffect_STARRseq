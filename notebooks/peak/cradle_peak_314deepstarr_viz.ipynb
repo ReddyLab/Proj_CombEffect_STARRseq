{
 "cells": [
  {
   "cell_type": "code",
   "execution_count": 2,
   "metadata": {},
   "outputs": [],
   "source": [
    "from __future__ import print_function, division\n",
    "%matplotlib inline\n",
    "\n",
    "try:\n",
    "    reload  # Python 2.7\n",
    "except NameError:\n",
    "    try:\n",
    "        from importlib import reload  # Python 3.4+\n",
    "    except ImportError:\n",
    "        from imp import reload  # Python 3.0 - 3.3"
   ]
  },
  {
   "cell_type": "code",
   "execution_count": 7,
   "metadata": {},
   "outputs": [],
   "source": [
    "import numpy as np\n",
    "import modisco\n",
    "import sys\n",
    "import os\n",
    "import h5py"
   ]
  },
  {
   "cell_type": "code",
   "execution_count": 3,
   "metadata": {},
   "outputs": [
    {
     "data": {
      "text/plain": [
       "<module 'modisco.aggregator' from '/usr/local/lib/python3.6/dist-packages/modisco/aggregator.py'>"
      ]
     },
     "execution_count": 3,
     "metadata": {},
     "output_type": "execute_result"
    }
   ],
   "source": [
    "from collections import Counter\n",
    "import numpy as np\n",
    "\n",
    "from modisco.visualization import viz_sequence\n",
    "reload(viz_sequence)\n",
    "from matplotlib import pyplot as plt\n",
    "\n",
    "import modisco.affinitymat.core\n",
    "reload(modisco.affinitymat.core)\n",
    "import modisco.cluster.phenograph.core\n",
    "reload(modisco.cluster.phenograph.core)\n",
    "import modisco.cluster.phenograph.cluster\n",
    "reload(modisco.cluster.phenograph.cluster)\n",
    "import modisco.cluster.core\n",
    "reload(modisco.cluster.core)\n",
    "import modisco.aggregator\n",
    "reload(modisco.aggregator)"
   ]
  },
  {
   "cell_type": "code",
   "execution_count": 8,
   "metadata": {},
   "outputs": [
    {
     "name": "stdout",
     "output_type": "stream",
     "text": [
      "Metaclusters heatmap\n"
     ]
    },
    {
     "data": {
      "image/png": "[encoded data removed]",
      "text/plain": [
       "<Figure size 432x288 with 2 Axes>"
      ]
     },
     "metadata": {
      "needs_background": "light"
     },
     "output_type": "display_data"
    }
   ],
   "source": [
    "fdiry = \"/home/mount/work/out/proj_combeffect/peak/cradle_deepstarr_results\"\n",
    "#fname = \"WG_Model_DeepSTARR_Dex_modisco.h5\"\n",
    "fname = \"WG_Model_DeepSTARR_modisco.h5\"\n",
    "fpath = os.path.join(fdiry, fname)\n",
    "hdf5_results = h5py.File(fpath,\"r\")\n",
    "\n",
    "print(\"Metaclusters heatmap\")\n",
    "import seaborn as sns\n",
    "activity_patterns = np.array(hdf5_results['metaclustering_results']['attribute_vectors'])[\n",
    "                    np.array(\n",
    "        [x[0] for x in sorted(\n",
    "                enumerate(hdf5_results['metaclustering_results']['metacluster_indices']),\n",
    "               key=lambda x: x[1])])]\n",
    "sns.heatmap(activity_patterns, center=0)\n",
    "plt.show()\n",
    "\n",
    "hdf5_results.close()"
   ]
  },
  {
   "cell_type": "code",
   "execution_count": null,
   "metadata": {},
   "outputs": [],
   "source": []
  }
 ],
 "metadata": {
  "kernelspec": {
   "display_name": "Python 3",
   "language": "python",
   "name": "python3"
  },
  "language_info": {
   "codemirror_mode": {
    "name": "ipython",
    "version": 3
   },
   "file_extension": ".py",
   "mimetype": "text/x-python",
   "name": "python",
   "nbconvert_exporter": "python",
   "pygments_lexer": "ipython3",
   "version": "3.6.8"
  }
 },
 "nbformat": 4,
 "nbformat_minor": 4
}
