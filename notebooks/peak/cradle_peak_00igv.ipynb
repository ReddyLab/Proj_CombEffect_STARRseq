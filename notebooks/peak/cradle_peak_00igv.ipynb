{
 "cells": [
  {
   "cell_type": "code",
   "execution_count": 1,
   "id": "d39ba0ad-1403-4d73-b220-36fe43306543",
   "metadata": {},
   "outputs": [
    {
     "name": "stdout",
     "output_type": "stream",
     "text": [
      "You are on Duke Server: HARDAC\n",
      "BASE DIRECTORY:     /gpfs/fs1/data/reddylab/Kuei\n",
      "PATH OF SOURCE:     /gpfs/fs1/data/reddylab/Kuei/source\n",
      "PATH OF EXECUTABLE: /gpfs/fs1/data/reddylab/Kuei/exe\n",
      "PATH OF ANNOTATION: /gpfs/fs1/data/reddylab/Kuei/annotation\n",
      "PATH OF PROJECT:    /gpfs/fs1/data/reddylab/Kuei/GitRepo/Proj_CombEffect_STARRseq/notebooks\n",
      "PATH OF RESULTS:    /gpfs/fs1/data/reddylab/Kuei/out/proj_combeffect\n",
      "\n"
     ]
    }
   ],
   "source": [
    "source ../config_duke.sh -v"
   ]
  },
  {
   "cell_type": "code",
   "execution_count": 2,
   "id": "d0717fac-b0df-462e-8103-5322b68176f7",
   "metadata": {},
   "outputs": [],
   "source": [
    "FD_DAT=/gpfs/fs1/data/reddylab/gjohnson/whole_genome_STARRseq/wgss3/peak_calls/cradle/mi125_treatment_vs_input_peak_calls"
   ]
  },
  {
   "cell_type": "code",
   "execution_count": 3,
   "id": "1f694c0f-1c66-482d-8412-4e6e2a771bac",
   "metadata": {},
   "outputs": [
    {
     "name": "stdout",
     "output_type": "stream",
     "text": [
      "chr1\t818351\t819531\tchr1:818351-819531\t.\t.\t1135\t-157\t977\t5.21\t4.49\t7.103331710570784\n",
      "chr1\t856338\t857072\tchr1:856338-857072\t.\t.\t337\t-132\t204\t4.55\t3.34\t4.279452968287171\n",
      "chr1\t874088\t874388\tchr1:874088-874388\t.\t.\t635\t253\t889\t4.32\t3.36\t4.373325774438474\n"
     ]
    }
   ],
   "source": [
    "SAMPLE=Dex\n",
    "FN_DAT=Dex_active_peaks.bed\n",
    "head -3 ${FD_DAT}/${SAMPLE}/${FN_DAT}"
   ]
  },
  {
   "cell_type": "code",
   "execution_count": 4,
   "id": "2c8b6d5f-b0f2-462a-9c8f-c3556670a870",
   "metadata": {},
   "outputs": [
    {
     "name": "stdout",
     "output_type": "stream",
     "text": [
      "chr\tstart\tend\tname\tscore\tstrand\teffectSize\tinputCount\toutputCount\t-log(pvalue)\t-log(qvalue)\tcohen's_d\n",
      "chr1\t818351\t819531\tchr1:818351-819531\t.\t.\t1135\t-157\t977\t5.21\t4.49\t7.103331710570784\n"
     ]
    }
   ],
   "source": [
    "SAMPLE=Dex\n",
    "FN_DAT=CRADLE_peaks\n",
    "head -2 ${FD_DAT}/${SAMPLE}/${FN_DAT}"
   ]
  },
  {
   "cell_type": "code",
   "execution_count": 27,
   "id": "bcc320b7-4a23-4a54-9898-20321a2ef48b",
   "metadata": {},
   "outputs": [
    {
     "name": "stdout",
     "output_type": "stream",
     "text": [
      "1134\n"
     ]
    }
   ],
   "source": [
    "python -c 'print(977-(-157))'"
   ]
  },
  {
   "cell_type": "code",
   "execution_count": 28,
   "id": "bd20bc2a-fb23-4b64-b7d6-0cba69ba3177",
   "metadata": {},
   "outputs": [
    {
     "name": "stdout",
     "output_type": "stream",
     "text": [
      "336\n"
     ]
    }
   ],
   "source": [
    "python -c 'print(204-(-132))'"
   ]
  },
  {
   "cell_type": "code",
   "execution_count": 6,
   "id": "d679edff-8b08-4178-b27b-16290ee20133",
   "metadata": {},
   "outputs": [
    {
     "name": "stdout",
     "output_type": "stream",
     "text": [
      "chr1\t778588\t778877\tchr1:778588-778877 289\n",
      "chr1\t826715\t827573\tchr1:826715-827573 858\n",
      "chr1\t851268\t851966\tchr1:851268-851966 698\n",
      "chr1\t873788\t874038\tchr1:873788-874038 250\n",
      "chr1\t936528\t936978\tchr1:936528-936978 450\n",
      "chr1\t942476\t943538\tchr1:942476-943538 1062\n",
      "chr1\t958851\t959840\tchr1:958851-959840 989\n",
      "chr1\t983863\t984248\tchr1:983863-984248 385\n",
      "chr1\t999988\t1001088\tchr1:999988-1001088 1100\n",
      "chr1\t1003438\t1004188\tchr1:1003438-1004188 750\n"
     ]
    }
   ],
   "source": [
    "SAMPLE=DMSO\n",
    "FN_DAT=DMSO_active_peaks.bed\n",
    "\n",
    "head -10 ${FD_DAT}/${SAMPLE}/${FN_DAT} |\\\n",
    "    cut -f1,2,3,4 |\\\n",
    "    awk '{print $0, ($3-$2)}'"
   ]
  },
  {
   "cell_type": "code",
   "execution_count": 13,
   "id": "627cfd7c-67aa-49f8-8c92-a783e86f2318",
   "metadata": {},
   "outputs": [
    {
     "name": "stdout",
     "output_type": "stream",
     "text": [
      "chr1 818351 819531 chr1:818351-819531:1180\n",
      "chr1 856338 857072 chr1:856338-857072:734\n",
      "chr1 874088 874388 chr1:874088-874388:300\n",
      "chr1 874538 874888 chr1:874538-874888:350\n",
      "chr1 905113 905938 chr1:905113-905938:825\n",
      "chr1 942476 944288 chr1:942476-944288:1812\n",
      "chr1 958714 959586 chr1:958714-959586:872\n",
      "chr1 967672 969094 chr1:967672-969094:1422\n",
      "chr1 978288 979168 chr1:978288-979168:880\n",
      "chr1 981908 983438 chr1:981908-983438:1530\n"
     ]
    }
   ],
   "source": [
    "SAMPLE=Dex\n",
    "FN_DAT=Dex_active_peaks.bed\n",
    "\n",
    "head -10 ${FD_DAT}/${SAMPLE}/${FN_DAT} |\\\n",
    "    cut -f1,2,3,4 |\\\n",
    "    awk '{print $0, ($3-$2)}' |\\\n",
    "    awk '{print $1, $2, $3, $4 \":\" $5}'"
   ]
  },
  {
   "cell_type": "markdown",
   "id": "7620b8a1-cef3-473a-bc37-4ef83e26ee1e",
   "metadata": {},
   "source": [
    "## Resize peaks"
   ]
  },
  {
   "cell_type": "code",
   "execution_count": null,
   "id": "666bbfa0-0b42-4e65-a542-5f3f0f6c3718",
   "metadata": {},
   "outputs": [],
   "source": []
  },
  {
   "cell_type": "code",
   "execution_count": 51,
   "id": "7ce871d2-2d11-45cd-abcd-b00b056c38be",
   "metadata": {},
   "outputs": [
    {
     "name": "stdout",
     "output_type": "stream",
     "text": [
      "chr1\t818351\t819531 1180 818941 818441 819441\n",
      "chr1\t856338\t857072 734 856705 856205 857205\n",
      "chr1\t874088\t874388 300 874238 873738 874738\n",
      "chr1\t874538\t874888 350 874713 874213 875213\n",
      "chr1\t905113\t905938 825 905526 905026 906026\n",
      "chr1\t942476\t944288 1812 943382 942882 943882\n",
      "chr1\t958714\t959586 872 959150 958650 959650\n",
      "chr1\t967672\t969094 1422 968383 967883 968883\n",
      "chr1\t978288\t979168 880 978728 978228 979228\n",
      "chr1\t981908\t983438 1530 982673 982173 983173\n"
     ]
    }
   ],
   "source": [
    "SAMPLE=Dex\n",
    "FN_DAT=Dex_active_peaks.bed\n",
    "\n",
    "head -10 ${FD_DAT}/${SAMPLE}/${FN_DAT} |\\\n",
    "    cut -f1,2,3 |\\\n",
    "    awk '{print $0, ($3-$2), ($2+$3)/2, ($2+$3)/2-500, ($2+$3)/2+500}'"
   ]
  },
  {
   "cell_type": "code",
   "execution_count": 39,
   "id": "d585168e-3443-4b3e-84e6-281ec0b06ebb",
   "metadata": {},
   "outputs": [
    {
     "name": "stdout",
     "output_type": "stream",
     "text": [
      "818941.0\n"
     ]
    }
   ],
   "source": [
    "python -c 'print((818351+819531)/2)'"
   ]
  },
  {
   "cell_type": "code",
   "execution_count": 45,
   "id": "ff25de50-8de1-4495-b4a6-601e106ddc13",
   "metadata": {},
   "outputs": [
    {
     "name": "stdout",
     "output_type": "stream",
     "text": [
      "/gpfs/fs1/data/reddylab/Kuei/out/proj_combeffect\n"
     ]
    }
   ],
   "source": [
    "echo $FD_RES"
   ]
  },
  {
   "cell_type": "markdown",
   "id": "bd19c4ed-0ebb-49fc-968f-3936e718d8ae",
   "metadata": {},
   "source": [
    "## Simply the file for IGV"
   ]
  },
  {
   "cell_type": "code",
   "execution_count": 17,
   "id": "461d5101-4665-4fca-aa07-7efc6e812910",
   "metadata": {},
   "outputs": [],
   "source": [
    "SAMPLE=Dex\n",
    "FN_DAT=Dex_active_peaks.bed\n",
    "FN_OUT=Dex_active_peaks_loc.bed\n",
    "FD_OUT=${FD_RES}/peak_call/cradle\n",
    "\n",
    "#cat ${FD_DAT}/${SAMPLE}/${FN_DAT} | cut -f1,2,3 > ${FD_OUT}/${FN_OUT}\n",
    "\n",
    "cat ${FD_DAT}/${SAMPLE}/${FN_DAT} |\\\n",
    "    cut -f1,2,3,4 |\\\n",
    "    awk '{print $0, ($3-$2)}' |\\\n",
    "    awk '{print $1, $2, $3, $4 \":\" $5}' > ${FD_OUT}/${FN_OUT}"
   ]
  },
  {
   "cell_type": "code",
   "execution_count": 48,
   "id": "a4e9784b-8226-4e37-95c5-8266f690e1e5",
   "metadata": {},
   "outputs": [
    {
     "name": "stdout",
     "output_type": "stream",
     "text": [
      "52587 /gpfs/fs1/data/reddylab/gjohnson/whole_genome_STARRseq/wgss3/peak_calls/cradle/mi125_treatment_vs_input_peak_calls/Dex/Dex_active_peaks.bed\n"
     ]
    }
   ],
   "source": [
    "wc -l ${FD_DAT}/${SAMPLE}/${FN_DAT}"
   ]
  },
  {
   "cell_type": "code",
   "execution_count": 18,
   "id": "2fede0a5-ae13-4dfd-b620-149d79ed5d09",
   "metadata": {},
   "outputs": [
    {
     "name": "stdout",
     "output_type": "stream",
     "text": [
      "52587 /gpfs/fs1/data/reddylab/Kuei/out/proj_combeffect/peak_call/cradle/Dex_active_peaks_loc.bed\n"
     ]
    }
   ],
   "source": [
    "wc -l ${FD_OUT}/${FN_OUT}"
   ]
  },
  {
   "cell_type": "code",
   "execution_count": 19,
   "id": "f8a36d40-d98f-411c-a2c3-02234fe22dcc",
   "metadata": {},
   "outputs": [],
   "source": [
    "SAMPLE=DMSO\n",
    "FN_DAT=DMSO_active_peaks.bed\n",
    "FN_OUT=DMSO_active_peaks_loc.bed\n",
    "FD_OUT=${FD_RES}/peak_call/cradle\n",
    "\n",
    "#cat ${FD_DAT}/${SAMPLE}/${FN_DAT} | cut -f1,2,3 > ${FD_OUT}/${FN_OUT}\n",
    "cat ${FD_DAT}/${SAMPLE}/${FN_DAT} |\\\n",
    "    cut -f1,2,3,4 |\\\n",
    "    awk '{print $0, ($3-$2)}' |\\\n",
    "    awk '{print $1, $2, $3, $4 \":\" $5}' > ${FD_OUT}/${FN_OUT}"
   ]
  },
  {
   "cell_type": "code",
   "execution_count": 24,
   "id": "f404e141-2274-43a6-b5a0-3aa9b808b7dc",
   "metadata": {},
   "outputs": [
    {
     "name": "stdout",
     "output_type": "stream",
     "text": [
      "chr17 31599420 31599720 chr17:31599420-31599720:300\n",
      "grep: chr17 31670155 31671255 chr17:31670155-31671255:1100\n",
      "write errorchr17 31724380 31725465 chr17:31724380-31725465:1085\n",
      "chr17 31731630 31731888 chr17:31731630-31731888:258\n",
      "chr17 31754001 31754280 chr17:31754001-31754280:279\n",
      "chr17 31788180 31789132 chr17:31788180-31789132:952\n",
      "chr17 31901580 31902045 chr17:31901580-31902045:465\n",
      ": Broken pipechr17 32159655 32160155 chr17:32159655-32160155:500\n",
      "chr17 32261280 32261730 chr17:32261280-32261730:450\n",
      "\n",
      "chr17 32275180 32275480 chr17:32275180-32275480:300\n"
     ]
    }
   ],
   "source": [
    "cat ${FD_OUT}/${FN_OUT} | grep chr17 | head -n 500 | tail -n 10"
   ]
  },
  {
   "cell_type": "code",
   "execution_count": null,
   "id": "584b58bb-2f4b-44d4-9160-9f71ba295ea0",
   "metadata": {},
   "outputs": [],
   "source": []
  }
 ],
 "metadata": {
  "kernelspec": {
   "display_name": "Bash",
   "language": "bash",
   "name": "bash"
  },
  "language_info": {
   "codemirror_mode": "shell",
   "file_extension": ".sh",
   "mimetype": "text/x-sh",
   "name": "bash"
  }
 },
 "nbformat": 4,
 "nbformat_minor": 5
}
