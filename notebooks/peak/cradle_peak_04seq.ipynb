{
 "cells": [
  {
   "cell_type": "code",
   "execution_count": 1,
   "id": "cad664bd-7aa4-4e35-9bdf-672b6dc1651f",
   "metadata": {},
   "outputs": [
    {
     "name": "stdout",
     "output_type": "stream",
     "text": [
      "You are on Duke Server: DCC\n",
      "BASE DIRECTORY:     /work/kk319\n",
      "PATH OF SOURCE:     /hpc/group/reddylab/Kuei/source\n",
      "PATH OF EXECUTABLE: /hpc/group/reddylab/Kuei/exe\n",
      "PATH OF ANNOTATION: /hpc/group/reddylab/Kuei/annotation\n",
      "PATH OF PROJECT:    /hpc/home/kk319/GitRepo/Proj_CombEffect_STARRseq/notebooks\n",
      "PATH OF RESULTS:    /work/kk319/out/proj_combeffect\n",
      "\n"
     ]
    }
   ],
   "source": [
    "source ../config_duke.sh -v"
   ]
  },
  {
   "cell_type": "code",
   "execution_count": 4,
   "id": "b4c0ed61-ca90-4173-81c2-8d344fd20195",
   "metadata": {},
   "outputs": [
    {
     "name": "stdout",
     "output_type": "stream",
     "text": [
      "Bedtools 2.27.1\u001b[m\n",
      "\u001b[K\u001b[?1l\u001b>"
     ]
    }
   ],
   "source": [
    "source ../config_load_module_bedtools.sh"
   ]
  },
  {
   "cell_type": "code",
   "execution_count": 3,
   "id": "4c092868-968f-4388-af2e-fe5ad18386fb",
   "metadata": {},
   "outputs": [],
   "source": [
    "FD_BED=${FD_RES}/peak/cradle_peak_count/results\n",
    "FD_OUT=${FD_RES}/peak/cradle_deepstarr_data\n",
    "ls ${FD_OUT}"
   ]
  },
  {
   "cell_type": "code",
   "execution_count": 5,
   "id": "41ba2696-b7c5-4875-811b-d35e1ef17254",
   "metadata": {},
   "outputs": [
    {
     "name": "stdout",
     "output_type": "stream",
     "text": [
      "dat_score_chr1.tsv   dat_score_chr17.tsv  dat_score_chr4.tsv\n",
      "dat_score_chr10.tsv  dat_score_chr18.tsv  dat_score_chr5.tsv\n",
      "dat_score_chr11.tsv  dat_score_chr19.tsv  dat_score_chr6.tsv\n",
      "dat_score_chr12.tsv  dat_score_chr2.tsv   dat_score_chr7.tsv\n",
      "dat_score_chr13.tsv  dat_score_chr20.tsv  dat_score_chr8.tsv\n",
      "dat_score_chr14.tsv  dat_score_chr21.tsv  dat_score_chr9.tsv\n",
      "dat_score_chr15.tsv  dat_score_chr22.tsv  dat_score_chrX.tsv\n",
      "dat_score_chr16.tsv  dat_score_chr3.tsv\n"
     ]
    }
   ],
   "source": [
    "ls $FD_BED"
   ]
  },
  {
   "cell_type": "code",
   "execution_count": null,
   "id": "58609dcd-5350-4201-94c7-4cae4d3513ec",
   "metadata": {},
   "outputs": [],
   "source": [
    "### set env\n",
    "source ../config_duke.sh\n",
    "source ../config_load_module_bedtools.sh\n",
    "\n",
    "sbatch -p ${NODE} \\\n",
    "    --array 0-22 \\\n",
    "    --mem 20G \\\n",
    "    -o ${FD_LOG}/peak_fragment_count_chrom.%a.txt \\\n",
    "    <<'EOF'\n",
    "#!/bin/bash\n",
    "### set directories & global variables\n",
    "source ../config_duke.sh\n",
    "CHROMS=($(seq 1 22) X Y)\n",
    "CHROM=chr${CHROMS[${SLURM_ARRAY_TASK_ID}]}\n",
    "TARGET=${CHROM}\n",
    "\n",
    "\n",
    "\n",
    "EOF"
   ]
  },
  {
   "cell_type": "code",
   "execution_count": 11,
   "id": "9e022034-1f83-4856-9fbb-fc082cee495c",
   "metadata": {},
   "outputs": [
    {
     "name": "stdout",
     "output_type": "stream",
     "text": [
      "chr22 10961222 10962222 chr22:10961372-10962072:DMSO 1.1163731943538835 0.6533450121930002\n",
      "chr22 11027024 11028024 chr22:11027074-11027974:Dex 0.8067387432994941 1.5318030647757972\n",
      "chr22 11053269 11054269 chr22:11053285-11054254:DMSO 1.4409861587614756 3.990056114600012\n",
      "chr22 11053371 11054371 chr22:11053219-11054524:Dex 1.4094729926885528 3.9393404724739085\n",
      "chr22 11055724 11056724 chr22:11056124-11056324:Dex 0.6646528165288146 1.3224782497252185\n",
      "chr22 11055981 11056981 chr22:11056374-11056589:Dex 0.5091823544524239 1.2989182093890257\n",
      "chr22 11287821 11288821 chr22:11288171-11288471:Dex 0.5568810602413663 0.7807401648755246\n",
      "chr22 11302621 11303621 chr22:11302721-11303521:Dex 0.29305192126696156 1.1633604563261244\n",
      "chr22 11435384 11436384 chr22:11435706-11436062:Dex 0.6074599827894751 1.5910018994725519\n"
     ]
    }
   ],
   "source": [
    "head ${FD_BED}/dat_score_chr22.tsv | tail -n +2 | expand -t 1"
   ]
  },
  {
   "cell_type": "code",
   "execution_count": 12,
   "id": "61af55b6-7037-474c-a9fb-5a57c9eef4f6",
   "metadata": {},
   "outputs": [],
   "source": [
    "tail -n +2 ${FD_BED}/dat_score_chr22.tsv > ${FD_BED}/dat_score_chr22.bed"
   ]
  },
  {
   "cell_type": "code",
   "execution_count": 13,
   "id": "eada5036-c82f-41a0-a99b-c48b57611aa8",
   "metadata": {},
   "outputs": [
    {
     "name": "stdout",
     "output_type": "stream",
     "text": [
      "2199 /work/kk319/out/proj_combeffect/peak/cradle_peak_count/results/dat_score_chr22.tsv\n",
      "2198 /work/kk319/out/proj_combeffect/peak/cradle_peak_count/results/dat_score_chr22.bed\n"
     ]
    }
   ],
   "source": [
    "wc -l ${FD_BED}/dat_score_chr22.tsv\n",
    "wc -l ${FD_BED}/dat_score_chr22.bed"
   ]
  },
  {
   "cell_type": "code",
   "execution_count": 17,
   "id": "b93a30f3-f79d-4476-81cb-538af31497df",
   "metadata": {},
   "outputs": [
    {
     "name": "stdout",
     "output_type": "stream",
     "text": [
      "3602 /work/kk319/out/proj_combeffect/peak/cradle_peak_count/results/dat_score_chr17.tsv\n",
      "3601 /work/kk319/out/proj_combeffect/peak/cradle_peak_count/results/dat_score_chr17.bed\n"
     ]
    }
   ],
   "source": [
    "wc -l ${FD_BED}/dat_score_chr17.tsv\n",
    "wc -l ${FD_BED}/dat_score_chr17.bed"
   ]
  },
  {
   "cell_type": "code",
   "execution_count": 14,
   "id": "0cb52819-757d-4959-bfe2-d0311601eaaf",
   "metadata": {},
   "outputs": [],
   "source": [
    "bedtools getfasta \\\n",
    "    -fi  ${FD_ANN}/genome/hg38/fasta/hg38.fa \\\n",
    "    -bed ${FD_BED}/dat_score_chr22.bed \\\n",
    "    -fo  ${FD_OUT}/chr22.fa"
   ]
  },
  {
   "cell_type": "code",
   "execution_count": 16,
   "id": "7f9adc0e-babc-4a6b-84fc-7b28f637d274",
   "metadata": {},
   "outputs": [
    {
     "name": "stdout",
     "output_type": "stream",
     "text": [
      "chr1\n",
      "chr2\n",
      "chr3\n",
      "chr4\n",
      "chr5\n",
      "chr6\n",
      "chr7\n",
      "chr8\n",
      "chr9\n",
      "chr10\n",
      "chr11\n",
      "chr12\n",
      "chr13\n",
      "chr14\n",
      "chr15\n",
      "chr16\n",
      "chr17\n",
      "chr18\n",
      "chr19\n",
      "chr20\n",
      "chr21\n",
      "chr22\n",
      "chrX\n",
      "chrY\n",
      "tail: cannot open '/work/kk319/out/proj_combeffect/peak/cradle_peak_count/results/dat_score_chrY.tsv' for reading: No such file or directory\n"
     ]
    }
   ],
   "source": [
    "CHROMS=($(seq 1 22) X Y)\n",
    "CHROM=chr${CHROMS[${SLURM_ARRAY_TASK_ID}]}\n",
    "\n",
    "for CHR in ${CHROMS[@]}; do\n",
    "    CHROM=chr${CHR}\n",
    "    echo $CHROM\n",
    "    \n",
    "    tail -n +2 ${FD_BED}/dat_score_${CHROM}.tsv > ${FD_BED}/dat_score_${CHROM}.bed\n",
    "    \n",
    "    bedtools getfasta \\\n",
    "        -fi  ${FD_ANN}/genome/hg38/fasta/hg38.fa \\\n",
    "        -bed ${FD_BED}/dat_score_${CHROM}.bed \\\n",
    "        -fo  ${FD_OUT}/${CHROM}.fa\n",
    "done"
   ]
  },
  {
   "cell_type": "code",
   "execution_count": null,
   "id": "1a300415-4341-42b2-99b9-00b645351bd8",
   "metadata": {},
   "outputs": [],
   "source": []
  }
 ],
 "metadata": {
  "kernelspec": {
   "display_name": "Bash",
   "language": "bash",
   "name": "bash"
  },
  "language_info": {
   "codemirror_mode": "shell",
   "file_extension": ".sh",
   "mimetype": "text/x-sh",
   "name": "bash"
  }
 },
 "nbformat": 4,
 "nbformat_minor": 5
}
