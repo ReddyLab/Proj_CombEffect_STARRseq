{
 "cells": [
  {
   "cell_type": "code",
   "execution_count": 1,
   "id": "307d9142-2bdc-4f65-a567-7623afb39a36",
   "metadata": {},
   "outputs": [
    {
     "name": "stdout",
     "output_type": "stream",
     "text": [
      "You are on Duke Server: HARDAC\n",
      "BASE DIRECTORY:     /gpfs/fs1/data/reddylab/Kuei\n",
      "PATH OF SOURCE:     /gpfs/fs1/data/reddylab/Kuei/source\n",
      "PATH OF EXECUTABLE: /gpfs/fs1/data/reddylab/Kuei/exe\n",
      "PATH OF ANNOTATION: /gpfs/fs1/data/reddylab/Kuei/annotation\n",
      "PATH OF PROJECT:    /gpfs/fs1/data/reddylab/Kuei/GitRepo/Proj_CombEffect_STARRseq/notebooks\n",
      "PATH OF RESULTS:    /gpfs/fs1/data/reddylab/Kuei/out/proj_combeffect\n",
      "\n"
     ]
    }
   ],
   "source": [
    "source ../config_duke.sh -v"
   ]
  },
  {
   "cell_type": "code",
   "execution_count": 17,
   "id": "e74ced70-dc21-462f-be31-b46c51b3a82e",
   "metadata": {},
   "outputs": [],
   "source": [
    "cat > test.fa << EOF\n",
    ">chr1\n",
    "AAAAAAAACCCCCCCCCCCCCGCTACTGGGGGGGGGGGGGGGGGG\n",
    "EOF"
   ]
  },
  {
   "cell_type": "code",
   "execution_count": 19,
   "id": "628075a0-f3f2-4548-a6be-d667a44b4edd",
   "metadata": {},
   "outputs": [],
   "source": [
    "TAB=\"$(printf '\\t')\"\n",
    "cat > test.bed << EOF\n",
    "chr1${TAB}5${TAB}10\n",
    "EOF"
   ]
  },
  {
   "cell_type": "code",
   "execution_count": 20,
   "id": "063f7c7b-015f-4170-abb7-1dfdce149bf8",
   "metadata": {},
   "outputs": [
    {
     "name": "stdout",
     "output_type": "stream",
     "text": [
      ">chr1\n",
      "AAAAAAAACCCCCCCCCCCCCGCTACTGGGGGGGGGGGGGGGGGG\n"
     ]
    }
   ],
   "source": [
    "cat test.fa"
   ]
  },
  {
   "cell_type": "code",
   "execution_count": 21,
   "id": "fd4acc65-0d84-4c37-a4d5-2621f47c820b",
   "metadata": {},
   "outputs": [
    {
     "name": "stdout",
     "output_type": "stream",
     "text": [
      "chr1\t5\t10\n"
     ]
    }
   ],
   "source": [
    "cat test.bed"
   ]
  },
  {
   "cell_type": "code",
   "execution_count": 23,
   "id": "a32f2711-5e7c-44bc-9a2d-bc9e527d18b8",
   "metadata": {},
   "outputs": [
    {
     "name": "stdout",
     "output_type": "stream",
     "text": [
      "index file test.fa.fai not found, generating...\n"
     ]
    }
   ],
   "source": [
    "bedtools getfasta -fi test.fa -bed test.bed -fo out.bed"
   ]
  },
  {
   "cell_type": "code",
   "execution_count": 24,
   "id": "1887c4ee-06f3-47a4-b074-63f322929070",
   "metadata": {},
   "outputs": [
    {
     "name": "stdout",
     "output_type": "stream",
     "text": [
      ">chr1:5-10\n",
      "AAACC\n"
     ]
    }
   ],
   "source": [
    "cat out.bed"
   ]
  },
  {
   "cell_type": "code",
   "execution_count": 29,
   "id": "e6e2a767-06df-4605-94ec-dae216478a56",
   "metadata": {},
   "outputs": [
    {
     "name": "stdout",
     "output_type": "stream",
     "text": [
      "/gpfs/fs1/data/reddylab/Kuei/annotation/genome/hg38/fasta/hg38.fa\n",
      "/gpfs/fs1/data/reddylab/Kuei/annotation/genome/hg38/fasta/hg38.fa.fai\n"
     ]
    }
   ],
   "source": [
    "ls ${FD_ANN}/genome/hg38/fasta/hg38.fa*"
   ]
  },
  {
   "cell_type": "code",
   "execution_count": 12,
   "id": "96f70057-ab4f-4c7d-8f94-562867484ee2",
   "metadata": {},
   "outputs": [
    {
     "name": "stdout",
     "output_type": "stream",
     "text": [
      "acagcacttaaaggtgttatgtccagagtttgttcctgcagatgtgtcca\n",
      "gtttcttcctcctggcaagttcatgctcttgctcacttcaagaatgaaac\n",
      "tttagacctttaaggtgagtgttacagcactgaaagatgttatgtccaga\n",
      "gttttttccttcagatatttccagagtttcttccatctcgcaggttcatg\n",
      "gtcttggtcacttcaagaatgaagctgcagaccttagtggtgagggttac\n",
      "agcacttaaaggtgttatgtccagagttttttcctacagatgtgtccaga\n",
      "gtttcttccttctggcgggttcatggtcttgctcacttcaagaatgaagc\n",
      "tgcagaccttagtgttgagtgttacagcacttaaaggtattaagcccaga\n",
      "gtttgttacttctgatgtgtccagaatttcttccttctggcaggttcatg\n",
      "gtcttgctcacttcaagaatgaagctgcagacatttacgg\n"
     ]
    }
   ],
   "source": [
    "tail ${FD_ANN}/genome/hg38/fasta/hg38.fa"
   ]
  },
  {
   "cell_type": "code",
   "execution_count": 25,
   "id": "47128fd5-e1cf-49a3-8e09-9f4839aea8bd",
   "metadata": {},
   "outputs": [
    {
     "name": "stdout",
     "output_type": "stream",
     "text": [
      "chr1\t778232\t779232\tchr1:778588-778877:DMSO\n",
      "chr1\t818441\t819441\tchr1:818351-819531:Dex\n",
      "chr1\t826644\t827644\tchr1:826715-827573:DMSO\n",
      "chr1\t851117\t852117\tchr1:851268-851966:DMSO\n",
      "chr1\t856205\t857205\tchr1:856338-857072:Dex\n",
      "chr1\t873413\t874413\tchr1:873788-874038:DMSO\n",
      "chr1\t873738\t874738\tchr1:874088-874388:Dex\n",
      "chr1\t874213\t875213\tchr1:874538-874888:Dex\n",
      "chr1\t905025\t906025\tchr1:905113-905938:Dex\n",
      "chr1\t936253\t937253\tchr1:936528-936978:DMSO\n"
     ]
    }
   ],
   "source": [
    "FD_OUT=${FD_RES}/peak/cradle\n",
    "FN_OUT=cradle_active_peaks_resize.bed\n",
    "head ${FD_OUT}/${FN_OUT}"
   ]
  },
  {
   "cell_type": "code",
   "execution_count": 26,
   "id": "06a6d0e6-fd4b-4c32-abc4-28452602c1fb",
   "metadata": {},
   "outputs": [],
   "source": [
    "source ../config_load_module_bedtools.sh"
   ]
  },
  {
   "cell_type": "code",
   "execution_count": 27,
   "id": "5564df7a-094b-4494-9e4c-5ee326963648",
   "metadata": {},
   "outputs": [
    {
     "name": "stdout",
     "output_type": "stream",
     "text": [
      "chr1\t778232\t779232\tchr1:778588-778877:DMSO\n"
     ]
    }
   ],
   "source": [
    "head -1 ${FD_OUT}/${FN_OUT} > test.bed\n",
    "cat test.bed"
   ]
  },
  {
   "cell_type": "code",
   "execution_count": 28,
   "id": "2fde6671-a76b-49b5-b63c-2339cc79938b",
   "metadata": {},
   "outputs": [
    {
     "name": "stdout",
     "output_type": "stream",
     "text": [
      "index file /gpfs/fs1/data/reddylab/Kuei/annotation/genome/hg38/fasta/hg38.fa.fai not found, generating...\n"
     ]
    }
   ],
   "source": [
    "bedtools getfasta -fi ${FD_ANN}/genome/hg38/fasta/hg38.fa -bed test.bed -fo out.bed"
   ]
  },
  {
   "cell_type": "code",
   "execution_count": 30,
   "id": "a4ee65f3-510a-462d-b7aa-05295d6b73bb",
   "metadata": {},
   "outputs": [
    {
     "name": "stdout",
     "output_type": "stream",
     "text": [
      ">chr1:778232-779232\n",
      "TCCCTGTTGCACACCTGGATAGttttttaaatttttttagacagggtttacctcaatctcgcaggctggaatgctgtggtgggatcatagctcactggagccttgaacctttgggttcaagtagctggggggctgaggtaggactacagagatggggttgcgccatgttgctaggctgctcttggcctgaagggtcctcccgcctcggccGCGCCAGACATAGTTTTCTATTTTTGACCAACATAAACACTGTGCTGGGTCTGAATTTTTCAGCTACCCTTCTTCAGCCGGCAACACACAGAACCTGGCGGGGAGGTCACTCTTACCAGTCCCCACTCTGATGAGAAAACTGCCCAGCTCCAGGCACCATGGCGCCCCAGTGATGTAGCCGAACACCCGCGCCTCTAACGTCGCCAACGGCCCACCTCTATGGTGTCGGCGAAGACCCGCCCTTGTGACGTCACGGAAGGCGCACCCTTGTGACGTCACAGGGGACTACCACTCACGCAGAGCCAATCAGAACTCGCGGTGGGGGCTGCTGGTTCTTCCAGGAGCGCGCATGAGCGGACGCTGCCTACTGGTGGCCGGGCGGGATGTAACCGGCTGCTGAGCTGGCAGTTCTGTGTCGCTAGGCTTCTGCCCGGCCGCCGCCGCACATAAGCCACGAGGAGGAGCTTTACGACTTCCCGGTCTTCGGCGCCGGGCGCAGCAAGGGCCAGACTCTGCGCTAGCAGGCGCTGCGCGCCAACCGGCCGGCACCTGTCGCAGAAGGTGCAACCGATCGCACTGTCGCGCAGAAGCTCCTCAATGGCCAGCGCCAGCTGCAGCCCCGGCCGCCCACTCGCCTCATCTGAGCCTGGGTACGTGCGCTCCACAACGCCTCCCCCAGCCAGGGCCCGGGGATCCCCGGGAGCGTCCCCGGCTACCTGGCGCCGCTCATCCTGGGTAGGGTCGGCCCCCTGAGGCTGCCCGGCATGAGGGAGTTGCACCCCTGAGCTTG\n"
     ]
    }
   ],
   "source": [
    "cat out.bed"
   ]
  },
  {
   "cell_type": "code",
   "execution_count": null,
   "id": "1fc39fca-5577-45be-9146-56a5f2142d37",
   "metadata": {},
   "outputs": [],
   "source": []
  }
 ],
 "metadata": {
  "kernelspec": {
   "display_name": "Bash",
   "language": "bash",
   "name": "bash"
  },
  "language_info": {
   "codemirror_mode": "shell",
   "file_extension": ".sh",
   "mimetype": "text/x-sh",
   "name": "bash"
  }
 },
 "nbformat": 4,
 "nbformat_minor": 5
}
