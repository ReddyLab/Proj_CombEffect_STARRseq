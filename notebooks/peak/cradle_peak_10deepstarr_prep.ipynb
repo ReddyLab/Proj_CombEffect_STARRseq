{
 "cells": [
  {
   "cell_type": "code",
   "execution_count": 1,
   "metadata": {},
   "outputs": [],
   "source": [
    "import sys\n",
    "sys.path.append('/home/mount/project/')\n",
    "sys.path.append('Neural_Network_DNA_Demo/')"
   ]
  },
  {
   "cell_type": "code",
   "execution_count": 2,
   "metadata": {},
   "outputs": [],
   "source": [
    "from config_sing import *\n",
    "from collections import Counter\n",
    "from helper import IOHelper, SequenceHelper\n",
    "\n",
    "CHROMS = np.r_[np.arange(1,23), [\"X\"]]"
   ]
  },
  {
   "cell_type": "markdown",
   "metadata": {},
   "source": [
    "## Import peak sequence"
   ]
  },
  {
   "cell_type": "code",
   "execution_count": 3,
   "metadata": {},
   "outputs": [
    {
     "name": "stdout",
     "output_type": "stream",
     "text": [
      "/home/mount/work/out/proj_combeffect/peak/cradle_deepstarr_data/chr1.fa\n",
      "/home/mount/work/out/proj_combeffect/peak/cradle_deepstarr_data/chr2.fa\n",
      "/home/mount/work/out/proj_combeffect/peak/cradle_deepstarr_data/chr3.fa\n",
      "/home/mount/work/out/proj_combeffect/peak/cradle_deepstarr_data/chr4.fa\n",
      "/home/mount/work/out/proj_combeffect/peak/cradle_deepstarr_data/chr5.fa\n",
      "/home/mount/work/out/proj_combeffect/peak/cradle_deepstarr_data/chr6.fa\n",
      "/home/mount/work/out/proj_combeffect/peak/cradle_deepstarr_data/chr7.fa\n",
      "/home/mount/work/out/proj_combeffect/peak/cradle_deepstarr_data/chr8.fa\n",
      "/home/mount/work/out/proj_combeffect/peak/cradle_deepstarr_data/chr9.fa\n",
      "/home/mount/work/out/proj_combeffect/peak/cradle_deepstarr_data/chr10.fa\n",
      "/home/mount/work/out/proj_combeffect/peak/cradle_deepstarr_data/chr11.fa\n",
      "/home/mount/work/out/proj_combeffect/peak/cradle_deepstarr_data/chr12.fa\n",
      "/home/mount/work/out/proj_combeffect/peak/cradle_deepstarr_data/chr13.fa\n",
      "/home/mount/work/out/proj_combeffect/peak/cradle_deepstarr_data/chr14.fa\n",
      "/home/mount/work/out/proj_combeffect/peak/cradle_deepstarr_data/chr15.fa\n",
      "/home/mount/work/out/proj_combeffect/peak/cradle_deepstarr_data/chr16.fa\n",
      "/home/mount/work/out/proj_combeffect/peak/cradle_deepstarr_data/chr17.fa\n",
      "/home/mount/work/out/proj_combeffect/peak/cradle_deepstarr_data/chr18.fa\n",
      "/home/mount/work/out/proj_combeffect/peak/cradle_deepstarr_data/chr19.fa\n",
      "/home/mount/work/out/proj_combeffect/peak/cradle_deepstarr_data/chr20.fa\n",
      "/home/mount/work/out/proj_combeffect/peak/cradle_deepstarr_data/chr21.fa\n",
      "/home/mount/work/out/proj_combeffect/peak/cradle_deepstarr_data/chr22.fa\n",
      "/home/mount/work/out/proj_combeffect/peak/cradle_deepstarr_data/chrX.fa\n"
     ]
    },
    {
     "data": {
      "text/html": [
       "<div>\n",
       "<style scoped>\n",
       "    .dataframe tbody tr th:only-of-type {\n",
       "        vertical-align: middle;\n",
       "    }\n",
       "\n",
       "    .dataframe tbody tr th {\n",
       "        vertical-align: top;\n",
       "    }\n",
       "\n",
       "    .dataframe thead th {\n",
       "        text-align: right;\n",
       "    }\n",
       "</style>\n",
       "<table border=\"1\" class=\"dataframe\">\n",
       "  <thead>\n",
       "    <tr style=\"text-align: right;\">\n",
       "      <th></th>\n",
       "      <th>index</th>\n",
       "      <th>location</th>\n",
       "      <th>sequence</th>\n",
       "    </tr>\n",
       "  </thead>\n",
       "  <tbody>\n",
       "    <tr>\n",
       "      <th>0</th>\n",
       "      <td>0</td>\n",
       "      <td>chr1:778232-779232</td>\n",
       "      <td>TCCCTGTTGCACACCTGGATAGTTTTTTAAATTTTTTTAGACAGGG...</td>\n",
       "    </tr>\n",
       "    <tr>\n",
       "      <th>1</th>\n",
       "      <td>1</td>\n",
       "      <td>chr1:818441-819441</td>\n",
       "      <td>ATGCTTACCAGGGCTGGAGGCCCCTGTGAGTAGTGAAGTGCATGTG...</td>\n",
       "    </tr>\n",
       "    <tr>\n",
       "      <th>2</th>\n",
       "      <td>2</td>\n",
       "      <td>chr1:826644-827644</td>\n",
       "      <td>ATTCTGTCCTCCATATCTCTGCTGATTCCCATTTTGTCTATTTCCA...</td>\n",
       "    </tr>\n",
       "    <tr>\n",
       "      <th>3</th>\n",
       "      <td>3</td>\n",
       "      <td>chr1:851117-852117</td>\n",
       "      <td>TGTCTTTATAGCAGCATGATTTATAGTCCTTTGGGTATATACCCAG...</td>\n",
       "    </tr>\n",
       "    <tr>\n",
       "      <th>4</th>\n",
       "      <td>4</td>\n",
       "      <td>chr1:856205-857205</td>\n",
       "      <td>CATTCCCGGATCCAAGGTCCTGCCTCTGTCCTGTCCCCTGAGCCAC...</td>\n",
       "    </tr>\n",
       "  </tbody>\n",
       "</table>\n",
       "</div>"
      ],
      "text/plain": [
       "   index            location  \\\n",
       "0      0  chr1:778232-779232   \n",
       "1      1  chr1:818441-819441   \n",
       "2      2  chr1:826644-827644   \n",
       "3      3  chr1:851117-852117   \n",
       "4      4  chr1:856205-857205   \n",
       "\n",
       "                                            sequence  \n",
       "0  TCCCTGTTGCACACCTGGATAGTTTTTTAAATTTTTTTAGACAGGG...  \n",
       "1  ATGCTTACCAGGGCTGGAGGCCCCTGTGAGTAGTGAAGTGCATGTG...  \n",
       "2  ATTCTGTCCTCCATATCTCTGCTGATTCCCATTTTGTCTATTTCCA...  \n",
       "3  TGTCTTTATAGCAGCATGATTTATAGTCCTTTGGGTATATACCCAG...  \n",
       "4  CATTCCCGGATCCAAGGTCCTGCCTCTGTCCTGTCCCCTGAGCCAC...  "
      ]
     },
     "execution_count": 3,
     "metadata": {},
     "output_type": "execute_result"
    }
   ],
   "source": [
    "fdiry = \"/home/mount/work/out/proj_combeffect/peak/cradle_deepstarr_data\"\n",
    "\n",
    "lst = list()\n",
    "for chrom in CHROMS:\n",
    "    ###\n",
    "    fname = \"chr\" + chrom + \".fa\"\n",
    "    fpath = os.path.join(fdiry, fname)\n",
    "    print(fpath, flush = True)\n",
    "    dat = IOHelper.get_fastas_from_file(fpath, uppercase=True)\n",
    "    \n",
    "    ###\n",
    "    lst.append(dat)\n",
    "\n",
    "dat_fasta = pd.concat(lst).reset_index()\n",
    "dat_fasta.head()"
   ]
  },
  {
   "cell_type": "markdown",
   "metadata": {},
   "source": [
    "**Check**"
   ]
  },
  {
   "cell_type": "code",
   "execution_count": 4,
   "metadata": {},
   "outputs": [
    {
     "data": {
      "text/plain": [
       "Counter({1000: 87909})"
      ]
     },
     "execution_count": 4,
     "metadata": {},
     "output_type": "execute_result"
    }
   ],
   "source": [
    "tmp = dat_fasta.sequence.apply(lambda seq: len(seq))\n",
    "Counter(tmp)"
   ]
  },
  {
   "cell_type": "markdown",
   "metadata": {},
   "source": [
    "## One hard encoding sequence"
   ]
  },
  {
   "cell_type": "code",
   "execution_count": 5,
   "metadata": {},
   "outputs": [],
   "source": [
    "sequence = dat_fasta.sequence\n",
    "sequence_length = len(dat_fasta.sequence[0])"
   ]
  },
  {
   "cell_type": "code",
   "execution_count": 5,
   "metadata": {},
   "outputs": [],
   "source": [
    "# Convert sequence to one hot encoding matrix\n",
    "seq_matrix = SequenceHelper.do_one_hot_encoding(\n",
    "    sequence, \n",
    "    sequence_length,\n",
    "    SequenceHelper.parse_alpha_to_seq)"
   ]
  },
  {
   "cell_type": "markdown",
   "metadata": {},
   "source": [
    "**arrange and reshape**"
   ]
  },
  {
   "cell_type": "code",
   "execution_count": 16,
   "metadata": {},
   "outputs": [],
   "source": [
    "X = np.nan_to_num(seq_matrix) # Replace NaN with zero and infinity with large finite numbers\n",
    "X = X.reshape((X.shape[0], X.shape[1], X.shape[2]))"
   ]
  },
  {
   "cell_type": "markdown",
   "metadata": {},
   "source": [
    "## Import peak activity"
   ]
  },
  {
   "cell_type": "code",
   "execution_count": 7,
   "metadata": {},
   "outputs": [
    {
     "name": "stdout",
     "output_type": "stream",
     "text": [
      "/home/mount/work/out/proj_combeffect/peak/cradle_peak_count/results/dat_score_chr1.tsv\n",
      "/home/mount/work/out/proj_combeffect/peak/cradle_peak_count/results/dat_score_chr2.tsv\n",
      "/home/mount/work/out/proj_combeffect/peak/cradle_peak_count/results/dat_score_chr3.tsv\n",
      "/home/mount/work/out/proj_combeffect/peak/cradle_peak_count/results/dat_score_chr4.tsv\n",
      "/home/mount/work/out/proj_combeffect/peak/cradle_peak_count/results/dat_score_chr5.tsv\n",
      "/home/mount/work/out/proj_combeffect/peak/cradle_peak_count/results/dat_score_chr6.tsv\n",
      "/home/mount/work/out/proj_combeffect/peak/cradle_peak_count/results/dat_score_chr7.tsv\n",
      "/home/mount/work/out/proj_combeffect/peak/cradle_peak_count/results/dat_score_chr8.tsv\n",
      "/home/mount/work/out/proj_combeffect/peak/cradle_peak_count/results/dat_score_chr9.tsv\n",
      "/home/mount/work/out/proj_combeffect/peak/cradle_peak_count/results/dat_score_chr10.tsv\n",
      "/home/mount/work/out/proj_combeffect/peak/cradle_peak_count/results/dat_score_chr11.tsv\n",
      "/home/mount/work/out/proj_combeffect/peak/cradle_peak_count/results/dat_score_chr12.tsv\n",
      "/home/mount/work/out/proj_combeffect/peak/cradle_peak_count/results/dat_score_chr13.tsv\n",
      "/home/mount/work/out/proj_combeffect/peak/cradle_peak_count/results/dat_score_chr14.tsv\n",
      "/home/mount/work/out/proj_combeffect/peak/cradle_peak_count/results/dat_score_chr15.tsv\n",
      "/home/mount/work/out/proj_combeffect/peak/cradle_peak_count/results/dat_score_chr16.tsv\n",
      "/home/mount/work/out/proj_combeffect/peak/cradle_peak_count/results/dat_score_chr17.tsv\n",
      "/home/mount/work/out/proj_combeffect/peak/cradle_peak_count/results/dat_score_chr18.tsv\n",
      "/home/mount/work/out/proj_combeffect/peak/cradle_peak_count/results/dat_score_chr19.tsv\n",
      "/home/mount/work/out/proj_combeffect/peak/cradle_peak_count/results/dat_score_chr20.tsv\n",
      "/home/mount/work/out/proj_combeffect/peak/cradle_peak_count/results/dat_score_chr21.tsv\n",
      "/home/mount/work/out/proj_combeffect/peak/cradle_peak_count/results/dat_score_chr22.tsv\n",
      "/home/mount/work/out/proj_combeffect/peak/cradle_peak_count/results/dat_score_chrX.tsv\n",
      "     Chrom      Start        End                           Name  \\\n",
      "0     chr1     778232     779232        chr1:778588-778877:DMSO   \n",
      "1     chr1     818441     819441         chr1:818351-819531:Dex   \n",
      "2     chr1     826644     827644        chr1:826715-827573:DMSO   \n",
      "3     chr1     851117     852117        chr1:851268-851966:DMSO   \n",
      "4     chr1     856205     857205         chr1:856338-857072:Dex   \n",
      "...    ...        ...        ...                            ...   \n",
      "3426  chrX  155434820  155435820   chrX:155435035-155435606:Dex   \n",
      "3427  chrX  155435206  155436206  chrX:155435256-155436156:DMSO   \n",
      "3428  chrX  155440330  155441330  chrX:155440404-155441256:DMSO   \n",
      "3429  chrX  155521212  155522212   chrX:155521256-155522169:Dex   \n",
      "3430  chrX  155521255  155522255  chrX:155521377-155522133:DMSO   \n",
      "\n",
      "      Log2_Score_DMSO  Log2_Score_Dex  \n",
      "0            1.372734        1.048260  \n",
      "1            0.717290        2.508601  \n",
      "2            1.905313        1.410864  \n",
      "3            1.819445        1.150065  \n",
      "4            0.603458        1.091726  \n",
      "...               ...             ...  \n",
      "3426         1.535949        1.507972  \n",
      "3427         1.450265        1.389878  \n",
      "3428         1.127618        0.222461  \n",
      "3429         1.649832        1.865266  \n",
      "3430         1.610847        1.826281  \n",
      "\n",
      "[87909 rows x 6 columns]\n"
     ]
    }
   ],
   "source": [
    "fdiry = \"/home/mount/work/out/proj_combeffect/peak/cradle_peak_count/results\"\n",
    "lst = list()\n",
    "\n",
    "for chrom in CHROMS:\n",
    "    ###\n",
    "    fname = \"dat_score_chr\" + chrom + \".tsv\"\n",
    "    fpath = os.path.join(fdiry, fname)\n",
    "    print(fpath)\n",
    "    dat = pd.read_table(fpath)\n",
    "    \n",
    "    ###\n",
    "    lst.append(dat)\n",
    "\n",
    "dat_activity = pd.concat(lst)\n",
    "print(dat_activity)"
   ]
  },
  {
   "cell_type": "markdown",
   "metadata": {},
   "source": [
    "**Check**"
   ]
  },
  {
   "cell_type": "code",
   "execution_count": 9,
   "metadata": {},
   "outputs": [
    {
     "data": {
      "text/plain": [
       "0              chr1:778232-779232\n",
       "1              chr1:818441-819441\n",
       "2              chr1:826644-827644\n",
       "3              chr1:851117-852117\n",
       "4              chr1:856205-857205\n",
       "                   ...           \n",
       "87904    chrX:155434820-155435820\n",
       "87905    chrX:155435206-155436206\n",
       "87906    chrX:155440330-155441330\n",
       "87907    chrX:155521212-155522212\n",
       "87908    chrX:155521255-155522255\n",
       "Name: location, Length: 87909, dtype: object"
      ]
     },
     "execution_count": 9,
     "metadata": {},
     "output_type": "execute_result"
    }
   ],
   "source": [
    "dat_fasta.location"
   ]
  },
  {
   "cell_type": "code",
   "execution_count": 14,
   "metadata": {},
   "outputs": [
    {
     "data": {
      "text/plain": [
       "0             chr1:778588-778877:DMSO\n",
       "1              chr1:818351-819531:Dex\n",
       "2             chr1:826715-827573:DMSO\n",
       "3             chr1:851268-851966:DMSO\n",
       "4              chr1:856338-857072:Dex\n",
       "                    ...              \n",
       "3426     chrX:155435035-155435606:Dex\n",
       "3427    chrX:155435256-155436156:DMSO\n",
       "3428    chrX:155440404-155441256:DMSO\n",
       "3429     chrX:155521256-155522169:Dex\n",
       "3430    chrX:155521377-155522133:DMSO\n",
       "Name: Name, Length: 87909, dtype: object"
      ]
     },
     "execution_count": 14,
     "metadata": {},
     "output_type": "execute_result"
    }
   ],
   "source": [
    "dat_activity.Name"
   ]
  },
  {
   "cell_type": "markdown",
   "metadata": {},
   "source": [
    "**arrange and reshape**"
   ]
  },
  {
   "cell_type": "code",
   "execution_count": 15,
   "metadata": {},
   "outputs": [],
   "source": [
    "Y_dmso = dat_activity.Log2_Score_DMSO\n",
    "Y_dex  = dat_activity.Log2_Score_Dex\n",
    "Y = np.array([Y_dmso, Y_dex])\n",
    "Y = Y.T"
   ]
  },
  {
   "cell_type": "markdown",
   "metadata": {},
   "source": [
    "## Store data"
   ]
  },
  {
   "cell_type": "code",
   "execution_count": null,
   "metadata": {},
   "outputs": [],
   "source": [
    "print(sequence.shape)\n",
    "print(X.shape)\n",
    "print(Y.shape)"
   ]
  },
  {
   "cell_type": "code",
   "execution_count": 20,
   "metadata": {},
   "outputs": [],
   "source": [
    "fdiry = \"/home/mount/work/out/proj_combeffect/peak/cradle_deepstarr_data\"\n",
    "\n",
    "fname = \"whole_genome_X.npy\"\n",
    "fpath = os.path.join(fdiry, fname)\n",
    "with open(fpath, 'wb') as file:\n",
    "    np.save(file, X)\n",
    "\n",
    "fname = \"whole_genome_Y.npy\"\n",
    "fpath = os.path.join(fdiry, fname)\n",
    "with open(fpath, 'wb') as file:\n",
    "    np.save(file, Y)"
   ]
  },
  {
   "cell_type": "code",
   "execution_count": 6,
   "metadata": {},
   "outputs": [],
   "source": [
    "fdiry = \"/home/mount/work/out/proj_combeffect/peak/cradle_deepstarr_data\"\n",
    "fname = \"whole_genome_Seq.npy\"\n",
    "fpath = os.path.join(fdiry, fname)\n",
    "with open(fpath, 'wb') as file:\n",
    "    np.save(file, sequence)"
   ]
  },
  {
   "cell_type": "markdown",
   "metadata": {},
   "source": [
    "## Subset data"
   ]
  },
  {
   "cell_type": "code",
   "execution_count": 1,
   "metadata": {},
   "outputs": [],
   "source": [
    "import sys\n",
    "sys.path.append('/home/mount/project/')\n",
    "from config_sing import *\n",
    "from sklearn.model_selection import train_test_split"
   ]
  },
  {
   "cell_type": "code",
   "execution_count": 2,
   "metadata": {},
   "outputs": [],
   "source": [
    "fdiry = \"/home/mount/work/out/proj_combeffect/peak/cradle_deepstarr_data\"\n",
    "\n",
    "fname = \"whole_genome_X.npy\"\n",
    "fpath = os.path.join(fdiry, fname)\n",
    "with open(fpath, 'rb') as file:\n",
    "    X = np.load(file)\n",
    "\n",
    "fname = \"whole_genome_Y.npy\"\n",
    "fpath = os.path.join(fdiry, fname)\n",
    "with open(fpath, 'rb') as file:\n",
    "    Y = np.load(file)\n",
    "    \n",
    "fname = \"whole_genome_Seq.npy\"\n",
    "fpath = os.path.join(fdiry, fname)\n",
    "with open(fpath, 'rb') as file:\n",
    "    S = np.load(file, allow_pickle=True)"
   ]
  },
  {
   "cell_type": "code",
   "execution_count": 13,
   "metadata": {},
   "outputs": [
    {
     "data": {
      "text/plain": [
       "array([[0., 0., 0., 1.],\n",
       "       [0., 1., 0., 0.],\n",
       "       [0., 1., 0., 0.],\n",
       "       [0., 1., 0., 0.],\n",
       "       [0., 0., 0., 1.],\n",
       "       [0., 0., 1., 0.],\n",
       "       [0., 0., 0., 1.],\n",
       "       [0., 0., 0., 1.],\n",
       "       [0., 0., 1., 0.],\n",
       "       [0., 1., 0., 0.],\n",
       "       [1., 0., 0., 0.],\n",
       "       [0., 1., 0., 0.],\n",
       "       [1., 0., 0., 0.],\n",
       "       [0., 1., 0., 0.],\n",
       "       [0., 1., 0., 0.],\n",
       "       [0., 0., 0., 1.],\n",
       "       [0., 0., 1., 0.],\n",
       "       [0., 0., 1., 0.],\n",
       "       [1., 0., 0., 0.],\n",
       "       [0., 0., 0., 1.]])"
      ]
     },
     "execution_count": 13,
     "metadata": {},
     "output_type": "execute_result"
    }
   ],
   "source": [
    "X[0,:20]"
   ]
  },
  {
   "cell_type": "code",
   "execution_count": 14,
   "metadata": {},
   "outputs": [
    {
     "data": {
      "text/plain": [
       "'TCCCTGTTGCACACCTGGAT'"
      ]
     },
     "execution_count": 14,
     "metadata": {},
     "output_type": "execute_result"
    }
   ],
   "source": [
    "S[0][:20]"
   ]
  },
  {
   "cell_type": "code",
   "execution_count": 15,
   "metadata": {},
   "outputs": [],
   "source": [
    "X_train, X_valid, y_train, y_valid, S_train, S_valid = train_test_split(\n",
    "    X, \n",
    "    Y, \n",
    "    S,\n",
    "    test_size=0.2, \n",
    "    random_state=123)"
   ]
  },
  {
   "cell_type": "code",
   "execution_count": 16,
   "metadata": {},
   "outputs": [
    {
     "name": "stdout",
     "output_type": "stream",
     "text": [
      "(87909, 1000, 4)\n",
      "(87909, 2)\n",
      "(70327, 1000, 4)\n",
      "(17582, 1000, 4)\n",
      "(70327, 2)\n",
      "(17582, 2)\n"
     ]
    }
   ],
   "source": [
    "print(X.shape)\n",
    "print(Y.shape)\n",
    "print(X_train.shape)\n",
    "print(X_valid.shape)\n",
    "print(y_train.shape)\n",
    "print(y_valid.shape)"
   ]
  },
  {
   "cell_type": "code",
   "execution_count": 18,
   "metadata": {},
   "outputs": [
    {
     "name": "stdout",
     "output_type": "stream",
     "text": [
      "(10000, 1000, 4)\n",
      "(10000, 2)\n",
      "(10000,)\n"
     ]
    }
   ],
   "source": [
    "np.random.seed(123)\n",
    "n     = 10000\n",
    "idx   = np.random.choice(X_train.shape[0], size = n)\n",
    "X_sub = X_train[idx]\n",
    "y_sub = y_train[idx]\n",
    "S_sub = S_train[idx]\n",
    "print(X_sub.shape)\n",
    "print(y_sub.shape)\n",
    "print(S_sub.shape)"
   ]
  },
  {
   "cell_type": "code",
   "execution_count": 19,
   "metadata": {
    "tags": []
   },
   "outputs": [],
   "source": [
    "fdiry = \"/home/mount/work/out/proj_combeffect/peak/cradle_deepstarr_data\"\n",
    "\n",
    "fname = \"whole_genome_X_sub.npy\"\n",
    "fpath = os.path.join(fdiry, fname)\n",
    "with open(fpath, 'wb') as file:\n",
    "    np.save(file, X_sub)\n",
    "\n",
    "fname = \"whole_genome_Y_sub.npy\"\n",
    "fpath = os.path.join(fdiry, fname)\n",
    "with open(fpath, 'wb') as file:\n",
    "    np.save(file, y_sub)\n",
    "    \n",
    "fname = \"whole_genome_Seq_sub.npy\"\n",
    "fpath = os.path.join(fdiry, fname)\n",
    "with open(fpath, 'wb') as file:\n",
    "    np.save(file, S_sub)"
   ]
  },
  {
   "cell_type": "code",
   "execution_count": null,
   "metadata": {},
   "outputs": [],
   "source": []
  }
 ],
 "metadata": {
  "kernelspec": {
   "display_name": "Python 3",
   "language": "python",
   "name": "python3"
  },
  "language_info": {
   "codemirror_mode": {
    "name": "ipython",
    "version": 3
   },
   "file_extension": ".py",
   "mimetype": "text/x-python",
   "name": "python",
   "nbconvert_exporter": "python",
   "pygments_lexer": "ipython3",
   "version": "3.6.8"
  }
 },
 "nbformat": 4,
 "nbformat_minor": 4
}
