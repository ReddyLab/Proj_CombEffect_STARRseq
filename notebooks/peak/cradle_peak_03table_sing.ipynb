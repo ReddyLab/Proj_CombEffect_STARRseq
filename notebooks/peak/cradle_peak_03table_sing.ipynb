{
 "cells": [
  {
   "cell_type": "code",
   "execution_count": 1,
   "metadata": {},
   "outputs": [
    {
     "name": "stderr",
     "output_type": "stream",
     "text": [
      "── \u001b[1mAttaching packages\u001b[22m ──────────────────────────────────────────────────────────────── tidyverse 1.3.1 ──\n",
      "\n",
      "\u001b[32m✔\u001b[39m \u001b[34mggplot2\u001b[39m 3.3.5     \u001b[32m✔\u001b[39m \u001b[34mpurrr  \u001b[39m 0.3.4\n",
      "\u001b[32m✔\u001b[39m \u001b[34mtibble \u001b[39m 3.1.4     \u001b[32m✔\u001b[39m \u001b[34mdplyr  \u001b[39m 1.0.7\n",
      "\u001b[32m✔\u001b[39m \u001b[34mtidyr  \u001b[39m 1.1.3     \u001b[32m✔\u001b[39m \u001b[34mstringr\u001b[39m 1.4.0\n",
      "\u001b[32m✔\u001b[39m \u001b[34mreadr  \u001b[39m 2.0.1     \u001b[32m✔\u001b[39m \u001b[34mforcats\u001b[39m 0.5.1\n",
      "\n",
      "── \u001b[1mConflicts\u001b[22m ─────────────────────────────────────────────────────────────────── tidyverse_conflicts() ──\n",
      "\u001b[31m✖\u001b[39m \u001b[34mdplyr\u001b[39m::\u001b[32mfilter()\u001b[39m masks \u001b[34mstats\u001b[39m::filter()\n",
      "\u001b[31m✖\u001b[39m \u001b[34mdplyr\u001b[39m::\u001b[32mlag()\u001b[39m    masks \u001b[34mstats\u001b[39m::lag()\n",
      "\n",
      "\n",
      "Attaching package: ‘pryr’\n",
      "\n",
      "\n",
      "The following objects are masked from ‘package:purrr’:\n",
      "\n",
      "    compose, partial\n",
      "\n",
      "\n",
      "\n",
      "Attaching package: ‘gridExtra’\n",
      "\n",
      "\n",
      "The following object is masked from ‘package:dplyr’:\n",
      "\n",
      "    combine\n",
      "\n",
      "\n"
     ]
    }
   ],
   "source": [
    "source(\"../config_sing.R\")"
   ]
  },
  {
   "cell_type": "code",
   "execution_count": 2,
   "metadata": {},
   "outputs": [
    {
     "data": {
      "text/html": [
       "'/home/mount/work/out/proj_combeffect'"
      ],
      "text/latex": [
       "'/home/mount/work/out/proj\\_combeffect'"
      ],
      "text/markdown": [
       "'/home/mount/work/out/proj_combeffect'"
      ],
      "text/plain": [
       "[1] \"/home/mount/work/out/proj_combeffect\""
      ]
     },
     "metadata": {},
     "output_type": "display_data"
    }
   ],
   "source": [
    "FD_RES"
   ]
  },
  {
   "cell_type": "code",
   "execution_count": 43,
   "metadata": {},
   "outputs": [],
   "source": [
    "get_trt = function(txt){\n",
    "    if (str_detect(txt, \"Input\")){\n",
    "        trt = \"Input\"\n",
    "    }\n",
    "    if (str_detect(txt, \"_.*\")){\n",
    "        trt = str_extract(txt, \"_.*\")\n",
    "        trt = paste0(\"TFX\", trt)\n",
    "    }\n",
    "    if (str_detect(txt, \"total\")){\n",
    "        trt = \"total\"\n",
    "    }\n",
    "    return(trt)\n",
    "}"
   ]
  },
  {
   "cell_type": "code",
   "execution_count": 47,
   "metadata": {},
   "outputs": [],
   "source": [
    "ctypes = c(col_integer(), col_character())\n",
    "cnames = c(\"Size\", \"Fpath\")\n",
    "\n",
    "fdiry = file.path(FD_RES, \"source\")\n",
    "fname = \"library_size.txt\"\n",
    "\n",
    "dat_lib_size = read_tsv(\n",
    "    file.path(fdiry, fname), \n",
    "    col_types = ctypes, \n",
    "    col_names = cnames)\n",
    "\n",
    "dat_lib_size = dat_lib_size %>% \n",
    "    mutate(Sample=tools::file_path_sans_ext(basename(Fpath))) %>%\n",
    "    dplyr::select(Size, Sample)"
   ]
  },
  {
   "cell_type": "code",
   "execution_count": 48,
   "metadata": {},
   "outputs": [
    {
     "data": {
      "text/html": [
       "<style>\n",
       ".list-inline {list-style: none; margin:0; padding: 0}\n",
       ".list-inline>li {display: inline-block}\n",
       ".list-inline>li:not(:last-child)::after {content: \"\\00b7\"; padding: 0 .5ex}\n",
       "</style>\n",
       "<ol class=list-inline><li>'Input1_20x'</li><li>'Input2_20x'</li><li>'TFX2_DMSO'</li><li>'TFX3_DMSO'</li><li>'TFX2_Dex'</li><li>'TFX3_Dex'</li></ol>\n"
      ],
      "text/latex": [
       "\\begin{enumerate*}\n",
       "\\item 'Input1\\_20x'\n",
       "\\item 'Input2\\_20x'\n",
       "\\item 'TFX2\\_DMSO'\n",
       "\\item 'TFX3\\_DMSO'\n",
       "\\item 'TFX2\\_Dex'\n",
       "\\item 'TFX3\\_Dex'\n",
       "\\end{enumerate*}\n"
      ],
      "text/markdown": [
       "1. 'Input1_20x'\n",
       "2. 'Input2_20x'\n",
       "3. 'TFX2_DMSO'\n",
       "4. 'TFX3_DMSO'\n",
       "5. 'TFX2_Dex'\n",
       "6. 'TFX3_Dex'\n",
       "\n",
       "\n"
      ],
      "text/plain": [
       "[1] \"Input1_20x\" \"Input2_20x\" \"TFX2_DMSO\"  \"TFX3_DMSO\"  \"TFX2_Dex\"  \n",
       "[6] \"TFX3_Dex\"  "
      ]
     },
     "metadata": {},
     "output_type": "display_data"
    }
   ],
   "source": [
    "#SAMPLES = c(\n",
    "#    paste0(\"Input\", 1:5, \"_20x\"),\n",
    "#    paste0(\"TFX\",   2:5, \"_DMSO\"),\n",
    "#    paste0(\"TFX\",   2:5, \"_Dex\"))\n",
    "\n",
    "SAMPLES = c(\n",
    "    paste0(\"Input\", 1:2, \"_20x\"),\n",
    "    paste0(\"TFX\",   2:3, \"_DMSO\"),\n",
    "    paste0(\"TFX\",   2:3, \"_Dex\"))\n",
    "SAMPLES"
   ]
  },
  {
   "cell_type": "code",
   "execution_count": 49,
   "metadata": {},
   "outputs": [
    {
     "data": {
      "text/html": [
       "<style>\n",
       ".list-inline {list-style: none; margin:0; padding: 0}\n",
       ".list-inline>li {display: inline-block}\n",
       ".list-inline>li:not(:last-child)::after {content: \"\\00b7\"; padding: 0 .5ex}\n",
       "</style>\n",
       "<ol class=list-inline><li>'Input1'</li><li>'Input1_20x'</li><li>'Input2'</li><li>'Input2_20x'</li><li>'Input3'</li><li>'Input3_20x'</li><li>'Input4'</li><li>'Input4_20x'</li><li>'Input5'</li><li>'Input5_20x'</li><li>'TFX2_Dex'</li><li>'TFX2_DMSO'</li><li>'TFX3_Dex'</li><li>'TFX3_DMSO'</li><li>'TFX4_Dex'</li><li>'TFX4_DMSO'</li><li>'TFX5_Dex'</li><li>'TFX5_DMSO'</li></ol>\n"
      ],
      "text/latex": [
       "\\begin{enumerate*}\n",
       "\\item 'Input1'\n",
       "\\item 'Input1\\_20x'\n",
       "\\item 'Input2'\n",
       "\\item 'Input2\\_20x'\n",
       "\\item 'Input3'\n",
       "\\item 'Input3\\_20x'\n",
       "\\item 'Input4'\n",
       "\\item 'Input4\\_20x'\n",
       "\\item 'Input5'\n",
       "\\item 'Input5\\_20x'\n",
       "\\item 'TFX2\\_Dex'\n",
       "\\item 'TFX2\\_DMSO'\n",
       "\\item 'TFX3\\_Dex'\n",
       "\\item 'TFX3\\_DMSO'\n",
       "\\item 'TFX4\\_Dex'\n",
       "\\item 'TFX4\\_DMSO'\n",
       "\\item 'TFX5\\_Dex'\n",
       "\\item 'TFX5\\_DMSO'\n",
       "\\end{enumerate*}\n"
      ],
      "text/markdown": [
       "1. 'Input1'\n",
       "2. 'Input1_20x'\n",
       "3. 'Input2'\n",
       "4. 'Input2_20x'\n",
       "5. 'Input3'\n",
       "6. 'Input3_20x'\n",
       "7. 'Input4'\n",
       "8. 'Input4_20x'\n",
       "9. 'Input5'\n",
       "10. 'Input5_20x'\n",
       "11. 'TFX2_Dex'\n",
       "12. 'TFX2_DMSO'\n",
       "13. 'TFX3_Dex'\n",
       "14. 'TFX3_DMSO'\n",
       "15. 'TFX4_Dex'\n",
       "16. 'TFX4_DMSO'\n",
       "17. 'TFX5_Dex'\n",
       "18. 'TFX5_DMSO'\n",
       "\n",
       "\n"
      ],
      "text/plain": [
       " [1] \"Input1\"     \"Input1_20x\" \"Input2\"     \"Input2_20x\" \"Input3\"    \n",
       " [6] \"Input3_20x\" \"Input4\"     \"Input4_20x\" \"Input5\"     \"Input5_20x\"\n",
       "[11] \"TFX2_Dex\"   \"TFX2_DMSO\"  \"TFX3_Dex\"   \"TFX3_DMSO\"  \"TFX4_Dex\"  \n",
       "[16] \"TFX4_DMSO\"  \"TFX5_Dex\"   \"TFX5_DMSO\" "
      ]
     },
     "metadata": {},
     "output_type": "display_data"
    }
   ],
   "source": [
    "fdiry = file.path(FD_RES, \"peak\", \"peak_count_cradle\")\n",
    "dir(fdiry)"
   ]
  },
  {
   "cell_type": "code",
   "execution_count": 50,
   "metadata": {},
   "outputs": [
    {
     "data": {
      "text/html": [
       "<style>\n",
       ".list-inline {list-style: none; margin:0; padding: 0}\n",
       ".list-inline>li {display: inline-block}\n",
       ".list-inline>li:not(:last-child)::after {content: \"\\00b7\"; padding: 0 .5ex}\n",
       "</style>\n",
       "<ol class=list-inline><li>'chr1_count.bed.gz'</li><li>'chr1_intersect.bed.gz'</li><li>'chr10_count.bed.gz'</li><li>'chr10_intersect.bed.gz'</li><li>'chr11_count.bed.gz'</li><li>'chr11_intersect.bed.gz'</li><li>'chr12_count.bed.gz'</li><li>'chr12_intersect.bed.gz'</li><li>'chr13_count.bed.gz'</li><li>'chr13_intersect.bed.gz'</li><li>'chr14_count.bed.gz'</li><li>'chr14_intersect.bed.gz'</li><li>'chr15_count.bed.gz'</li><li>'chr15_intersect.bed.gz'</li><li>'chr16_count.bed.gz'</li><li>'chr16_intersect.bed.gz'</li><li>'chr17_count.bed.gz'</li><li>'chr17_intersect.bed.gz'</li><li>'chr18_count.bed.gz'</li><li>'chr18_intersect.bed.gz'</li><li>'chr19_count.bed.gz'</li><li>'chr19_intersect.bed.gz'</li><li>'chr2_count.bed.gz'</li><li>'chr2_intersect.bed.gz'</li><li>'chr20_count.bed.gz'</li><li>'chr20_intersect.bed.gz'</li><li>'chr21_count.bed.gz'</li><li>'chr21_intersect.bed.gz'</li><li>'chr22_count.bed.gz'</li><li>'chr22_intersect.bed.gz'</li><li>'chr3_count.bed.gz'</li><li>'chr3_intersect.bed.gz'</li><li>'chr4_count.bed.gz'</li><li>'chr4_intersect.bed.gz'</li><li>'chr5_count.bed.gz'</li><li>'chr5_intersect.bed.gz'</li><li>'chr6_count.bed.gz'</li><li>'chr6_intersect.bed.gz'</li><li>'chr7_count.bed.gz'</li><li>'chr7_intersect.bed.gz'</li><li>'chr8_count.bed.gz'</li><li>'chr8_intersect.bed.gz'</li><li>'chr9_count.bed.gz'</li><li>'chr9_intersect.bed.gz'</li><li>'chrX_count.bed.gz'</li><li>'chrX_intersect.bed.gz'</li></ol>\n"
      ],
      "text/latex": [
       "\\begin{enumerate*}\n",
       "\\item 'chr1\\_count.bed.gz'\n",
       "\\item 'chr1\\_intersect.bed.gz'\n",
       "\\item 'chr10\\_count.bed.gz'\n",
       "\\item 'chr10\\_intersect.bed.gz'\n",
       "\\item 'chr11\\_count.bed.gz'\n",
       "\\item 'chr11\\_intersect.bed.gz'\n",
       "\\item 'chr12\\_count.bed.gz'\n",
       "\\item 'chr12\\_intersect.bed.gz'\n",
       "\\item 'chr13\\_count.bed.gz'\n",
       "\\item 'chr13\\_intersect.bed.gz'\n",
       "\\item 'chr14\\_count.bed.gz'\n",
       "\\item 'chr14\\_intersect.bed.gz'\n",
       "\\item 'chr15\\_count.bed.gz'\n",
       "\\item 'chr15\\_intersect.bed.gz'\n",
       "\\item 'chr16\\_count.bed.gz'\n",
       "\\item 'chr16\\_intersect.bed.gz'\n",
       "\\item 'chr17\\_count.bed.gz'\n",
       "\\item 'chr17\\_intersect.bed.gz'\n",
       "\\item 'chr18\\_count.bed.gz'\n",
       "\\item 'chr18\\_intersect.bed.gz'\n",
       "\\item 'chr19\\_count.bed.gz'\n",
       "\\item 'chr19\\_intersect.bed.gz'\n",
       "\\item 'chr2\\_count.bed.gz'\n",
       "\\item 'chr2\\_intersect.bed.gz'\n",
       "\\item 'chr20\\_count.bed.gz'\n",
       "\\item 'chr20\\_intersect.bed.gz'\n",
       "\\item 'chr21\\_count.bed.gz'\n",
       "\\item 'chr21\\_intersect.bed.gz'\n",
       "\\item 'chr22\\_count.bed.gz'\n",
       "\\item 'chr22\\_intersect.bed.gz'\n",
       "\\item 'chr3\\_count.bed.gz'\n",
       "\\item 'chr3\\_intersect.bed.gz'\n",
       "\\item 'chr4\\_count.bed.gz'\n",
       "\\item 'chr4\\_intersect.bed.gz'\n",
       "\\item 'chr5\\_count.bed.gz'\n",
       "\\item 'chr5\\_intersect.bed.gz'\n",
       "\\item 'chr6\\_count.bed.gz'\n",
       "\\item 'chr6\\_intersect.bed.gz'\n",
       "\\item 'chr7\\_count.bed.gz'\n",
       "\\item 'chr7\\_intersect.bed.gz'\n",
       "\\item 'chr8\\_count.bed.gz'\n",
       "\\item 'chr8\\_intersect.bed.gz'\n",
       "\\item 'chr9\\_count.bed.gz'\n",
       "\\item 'chr9\\_intersect.bed.gz'\n",
       "\\item 'chrX\\_count.bed.gz'\n",
       "\\item 'chrX\\_intersect.bed.gz'\n",
       "\\end{enumerate*}\n"
      ],
      "text/markdown": [
       "1. 'chr1_count.bed.gz'\n",
       "2. 'chr1_intersect.bed.gz'\n",
       "3. 'chr10_count.bed.gz'\n",
       "4. 'chr10_intersect.bed.gz'\n",
       "5. 'chr11_count.bed.gz'\n",
       "6. 'chr11_intersect.bed.gz'\n",
       "7. 'chr12_count.bed.gz'\n",
       "8. 'chr12_intersect.bed.gz'\n",
       "9. 'chr13_count.bed.gz'\n",
       "10. 'chr13_intersect.bed.gz'\n",
       "11. 'chr14_count.bed.gz'\n",
       "12. 'chr14_intersect.bed.gz'\n",
       "13. 'chr15_count.bed.gz'\n",
       "14. 'chr15_intersect.bed.gz'\n",
       "15. 'chr16_count.bed.gz'\n",
       "16. 'chr16_intersect.bed.gz'\n",
       "17. 'chr17_count.bed.gz'\n",
       "18. 'chr17_intersect.bed.gz'\n",
       "19. 'chr18_count.bed.gz'\n",
       "20. 'chr18_intersect.bed.gz'\n",
       "21. 'chr19_count.bed.gz'\n",
       "22. 'chr19_intersect.bed.gz'\n",
       "23. 'chr2_count.bed.gz'\n",
       "24. 'chr2_intersect.bed.gz'\n",
       "25. 'chr20_count.bed.gz'\n",
       "26. 'chr20_intersect.bed.gz'\n",
       "27. 'chr21_count.bed.gz'\n",
       "28. 'chr21_intersect.bed.gz'\n",
       "29. 'chr22_count.bed.gz'\n",
       "30. 'chr22_intersect.bed.gz'\n",
       "31. 'chr3_count.bed.gz'\n",
       "32. 'chr3_intersect.bed.gz'\n",
       "33. 'chr4_count.bed.gz'\n",
       "34. 'chr4_intersect.bed.gz'\n",
       "35. 'chr5_count.bed.gz'\n",
       "36. 'chr5_intersect.bed.gz'\n",
       "37. 'chr6_count.bed.gz'\n",
       "38. 'chr6_intersect.bed.gz'\n",
       "39. 'chr7_count.bed.gz'\n",
       "40. 'chr7_intersect.bed.gz'\n",
       "41. 'chr8_count.bed.gz'\n",
       "42. 'chr8_intersect.bed.gz'\n",
       "43. 'chr9_count.bed.gz'\n",
       "44. 'chr9_intersect.bed.gz'\n",
       "45. 'chrX_count.bed.gz'\n",
       "46. 'chrX_intersect.bed.gz'\n",
       "\n",
       "\n"
      ],
      "text/plain": [
       " [1] \"chr1_count.bed.gz\"      \"chr1_intersect.bed.gz\"  \"chr10_count.bed.gz\"    \n",
       " [4] \"chr10_intersect.bed.gz\" \"chr11_count.bed.gz\"     \"chr11_intersect.bed.gz\"\n",
       " [7] \"chr12_count.bed.gz\"     \"chr12_intersect.bed.gz\" \"chr13_count.bed.gz\"    \n",
       "[10] \"chr13_intersect.bed.gz\" \"chr14_count.bed.gz\"     \"chr14_intersect.bed.gz\"\n",
       "[13] \"chr15_count.bed.gz\"     \"chr15_intersect.bed.gz\" \"chr16_count.bed.gz\"    \n",
       "[16] \"chr16_intersect.bed.gz\" \"chr17_count.bed.gz\"     \"chr17_intersect.bed.gz\"\n",
       "[19] \"chr18_count.bed.gz\"     \"chr18_intersect.bed.gz\" \"chr19_count.bed.gz\"    \n",
       "[22] \"chr19_intersect.bed.gz\" \"chr2_count.bed.gz\"      \"chr2_intersect.bed.gz\" \n",
       "[25] \"chr20_count.bed.gz\"     \"chr20_intersect.bed.gz\" \"chr21_count.bed.gz\"    \n",
       "[28] \"chr21_intersect.bed.gz\" \"chr22_count.bed.gz\"     \"chr22_intersect.bed.gz\"\n",
       "[31] \"chr3_count.bed.gz\"      \"chr3_intersect.bed.gz\"  \"chr4_count.bed.gz\"     \n",
       "[34] \"chr4_intersect.bed.gz\"  \"chr5_count.bed.gz\"      \"chr5_intersect.bed.gz\" \n",
       "[37] \"chr6_count.bed.gz\"      \"chr6_intersect.bed.gz\"  \"chr7_count.bed.gz\"     \n",
       "[40] \"chr7_intersect.bed.gz\"  \"chr8_count.bed.gz\"      \"chr8_intersect.bed.gz\" \n",
       "[43] \"chr9_count.bed.gz\"      \"chr9_intersect.bed.gz\"  \"chrX_count.bed.gz\"     \n",
       "[46] \"chrX_intersect.bed.gz\" "
      ]
     },
     "metadata": {},
     "output_type": "display_data"
    }
   ],
   "source": [
    "fdiry = file.path(FD_RES, \"peak\", \"peak_count_cradle\", \"Input1\")\n",
    "dir(fdiry)"
   ]
  },
  {
   "cell_type": "markdown",
   "metadata": {},
   "source": [
    "## Test"
   ]
  },
  {
   "cell_type": "code",
   "execution_count": 51,
   "metadata": {},
   "outputs": [],
   "source": [
    "ctypes = c(col_character(), col_integer(), col_integer(), col_character(), col_integer())\n",
    "cnames = c(\"Chrom\", \"Start\", \"End\", \"Name\", \"Count\")\n",
    "lst_bed = lapply(SAMPLES, function(sam){\n",
    "    fdiry = file.path(FD_RES, \"peak\", \"peak_count_cradle\", sam)\n",
    "    fname = \"chr22_count.bed.gz\"\n",
    "    fpath = file.path(fdiry, fname)\n",
    "    grp   = str_remove(sam, \"[0-9]\")\n",
    "    dat   = read_tsv(fpath, col_names = cnames, col_types = ctypes)\n",
    "    dat   = dat %>% mutate(Sample = sam, Group = grp)\n",
    "    return(dat)\n",
    "})"
   ]
  },
  {
   "cell_type": "code",
   "execution_count": 56,
   "metadata": {},
   "outputs": [
    {
     "data": {
      "text/html": [
       "<table class=\"dataframe\">\n",
       "<caption>A tibble: 6 × 9</caption>\n",
       "<thead>\n",
       "\t<tr><th scope=col>Chrom</th><th scope=col>Start</th><th scope=col>End</th><th scope=col>Name</th><th scope=col>Count</th><th scope=col>Sample</th><th scope=col>Group</th><th scope=col>Size</th><th scope=col>Norm_Count</th></tr>\n",
       "\t<tr><th scope=col>&lt;chr&gt;</th><th scope=col>&lt;dbl&gt;</th><th scope=col>&lt;dbl&gt;</th><th scope=col>&lt;chr&gt;</th><th scope=col>&lt;dbl&gt;</th><th scope=col>&lt;chr&gt;</th><th scope=col>&lt;chr&gt;</th><th scope=col>&lt;dbl&gt;</th><th scope=col>&lt;dbl&gt;</th></tr>\n",
       "</thead>\n",
       "<tbody>\n",
       "\t<tr><td>chr22</td><td>10961222</td><td>10962222</td><td>chr22:10961372-10962072:DMSO</td><td>1136</td><td>Input1_20x</td><td>Input_20x</td><td>371718546</td><td>3.056076e-06</td></tr>\n",
       "\t<tr><td>chr22</td><td>11027024</td><td>11028024</td><td>chr22:11027074-11027974:Dex </td><td> 410</td><td>Input1_20x</td><td>Input_20x</td><td>371718546</td><td>1.102985e-06</td></tr>\n",
       "\t<tr><td>chr22</td><td>11053269</td><td>11054269</td><td>chr22:11053285-11054254:DMSO</td><td> 840</td><td>Input1_20x</td><td>Input_20x</td><td>371718546</td><td>2.259774e-06</td></tr>\n",
       "\t<tr><td>chr22</td><td>11053371</td><td>11054371</td><td>chr22:11053219-11054524:Dex </td><td> 873</td><td>Input1_20x</td><td>Input_20x</td><td>371718546</td><td>2.348551e-06</td></tr>\n",
       "\t<tr><td>chr22</td><td>11055724</td><td>11056724</td><td>chr22:11056124-11056324:Dex </td><td>1205</td><td>Input1_20x</td><td>Input_20x</td><td>371718546</td><td>3.241700e-06</td></tr>\n",
       "\t<tr><td>chr22</td><td>11055981</td><td>11056981</td><td>chr22:11056374-11056589:Dex </td><td>1144</td><td>Input1_20x</td><td>Input_20x</td><td>371718546</td><td>3.077597e-06</td></tr>\n",
       "</tbody>\n",
       "</table>\n"
      ],
      "text/latex": [
       "A tibble: 6 × 9\n",
       "\\begin{tabular}{lllllllll}\n",
       " Chrom & Start & End & Name & Count & Sample & Group & Size & Norm\\_Count\\\\\n",
       " <chr> & <dbl> & <dbl> & <chr> & <dbl> & <chr> & <chr> & <dbl> & <dbl>\\\\\n",
       "\\hline\n",
       "\t chr22 & 10961222 & 10962222 & chr22:10961372-10962072:DMSO & 1136 & Input1\\_20x & Input\\_20x & 371718546 & 3.056076e-06\\\\\n",
       "\t chr22 & 11027024 & 11028024 & chr22:11027074-11027974:Dex  &  410 & Input1\\_20x & Input\\_20x & 371718546 & 1.102985e-06\\\\\n",
       "\t chr22 & 11053269 & 11054269 & chr22:11053285-11054254:DMSO &  840 & Input1\\_20x & Input\\_20x & 371718546 & 2.259774e-06\\\\\n",
       "\t chr22 & 11053371 & 11054371 & chr22:11053219-11054524:Dex  &  873 & Input1\\_20x & Input\\_20x & 371718546 & 2.348551e-06\\\\\n",
       "\t chr22 & 11055724 & 11056724 & chr22:11056124-11056324:Dex  & 1205 & Input1\\_20x & Input\\_20x & 371718546 & 3.241700e-06\\\\\n",
       "\t chr22 & 11055981 & 11056981 & chr22:11056374-11056589:Dex  & 1144 & Input1\\_20x & Input\\_20x & 371718546 & 3.077597e-06\\\\\n",
       "\\end{tabular}\n"
      ],
      "text/markdown": [
       "\n",
       "A tibble: 6 × 9\n",
       "\n",
       "| Chrom &lt;chr&gt; | Start &lt;dbl&gt; | End &lt;dbl&gt; | Name &lt;chr&gt; | Count &lt;dbl&gt; | Sample &lt;chr&gt; | Group &lt;chr&gt; | Size &lt;dbl&gt; | Norm_Count &lt;dbl&gt; |\n",
       "|---|---|---|---|---|---|---|---|---|\n",
       "| chr22 | 10961222 | 10962222 | chr22:10961372-10962072:DMSO | 1136 | Input1_20x | Input_20x | 371718546 | 3.056076e-06 |\n",
       "| chr22 | 11027024 | 11028024 | chr22:11027074-11027974:Dex  |  410 | Input1_20x | Input_20x | 371718546 | 1.102985e-06 |\n",
       "| chr22 | 11053269 | 11054269 | chr22:11053285-11054254:DMSO |  840 | Input1_20x | Input_20x | 371718546 | 2.259774e-06 |\n",
       "| chr22 | 11053371 | 11054371 | chr22:11053219-11054524:Dex  |  873 | Input1_20x | Input_20x | 371718546 | 2.348551e-06 |\n",
       "| chr22 | 11055724 | 11056724 | chr22:11056124-11056324:Dex  | 1205 | Input1_20x | Input_20x | 371718546 | 3.241700e-06 |\n",
       "| chr22 | 11055981 | 11056981 | chr22:11056374-11056589:Dex  | 1144 | Input1_20x | Input_20x | 371718546 | 3.077597e-06 |\n",
       "\n"
      ],
      "text/plain": [
       "  Chrom Start    End      Name                         Count Sample    \n",
       "1 chr22 10961222 10962222 chr22:10961372-10962072:DMSO 1136  Input1_20x\n",
       "2 chr22 11027024 11028024 chr22:11027074-11027974:Dex   410  Input1_20x\n",
       "3 chr22 11053269 11054269 chr22:11053285-11054254:DMSO  840  Input1_20x\n",
       "4 chr22 11053371 11054371 chr22:11053219-11054524:Dex   873  Input1_20x\n",
       "5 chr22 11055724 11056724 chr22:11056124-11056324:Dex  1205  Input1_20x\n",
       "6 chr22 11055981 11056981 chr22:11056374-11056589:Dex  1144  Input1_20x\n",
       "  Group     Size      Norm_Count  \n",
       "1 Input_20x 371718546 3.056076e-06\n",
       "2 Input_20x 371718546 1.102985e-06\n",
       "3 Input_20x 371718546 2.259774e-06\n",
       "4 Input_20x 371718546 2.348551e-06\n",
       "5 Input_20x 371718546 3.241700e-06\n",
       "6 Input_20x 371718546 3.077597e-06"
      ]
     },
     "metadata": {},
     "output_type": "display_data"
    }
   ],
   "source": [
    "dat = bind_rows(lst_bed)\n",
    "dat = left_join(dat, dat_lib_size, by=\"Sample\")\n",
    "dat = dat %>% mutate(Norm_Count  = Count/Size)\n",
    "head(dat)"
   ]
  },
  {
   "cell_type": "code",
   "execution_count": 57,
   "metadata": {},
   "outputs": [
    {
     "data": {
      "text/html": [
       "<table class=\"dataframe\">\n",
       "<caption>A tibble: 6 × 6</caption>\n",
       "<thead>\n",
       "\t<tr><th scope=col>Chrom</th><th scope=col>Start</th><th scope=col>End</th><th scope=col>Name</th><th scope=col>Group</th><th scope=col>Value</th></tr>\n",
       "\t<tr><th scope=col>&lt;chr&gt;</th><th scope=col>&lt;dbl&gt;</th><th scope=col>&lt;dbl&gt;</th><th scope=col>&lt;chr&gt;</th><th scope=col>&lt;chr&gt;</th><th scope=col>&lt;dbl&gt;</th></tr>\n",
       "</thead>\n",
       "<tbody>\n",
       "\t<tr><td>chr22</td><td>10961222</td><td>10962222</td><td>chr22:10961372-10962072:DMSO</td><td>Input_20x</td><td>2.993652e-06</td></tr>\n",
       "\t<tr><td>chr22</td><td>10961222</td><td>10962222</td><td>chr22:10961372-10962072:DMSO</td><td>TFX_Dex  </td><td>4.504651e-06</td></tr>\n",
       "\t<tr><td>chr22</td><td>10961222</td><td>10962222</td><td>chr22:10961372-10962072:DMSO</td><td>TFX_DMSO </td><td>5.841114e-06</td></tr>\n",
       "\t<tr><td>chr22</td><td>11027024</td><td>11028024</td><td>chr22:11027074-11027974:Dex </td><td>Input_20x</td><td>1.112425e-06</td></tr>\n",
       "\t<tr><td>chr22</td><td>11027024</td><td>11028024</td><td>chr22:11027074-11027974:Dex </td><td>TFX_Dex  </td><td>2.866254e-06</td></tr>\n",
       "\t<tr><td>chr22</td><td>11027024</td><td>11028024</td><td>chr22:11027074-11027974:Dex </td><td>TFX_DMSO </td><td>2.850193e-06</td></tr>\n",
       "</tbody>\n",
       "</table>\n"
      ],
      "text/latex": [
       "A tibble: 6 × 6\n",
       "\\begin{tabular}{llllll}\n",
       " Chrom & Start & End & Name & Group & Value\\\\\n",
       " <chr> & <dbl> & <dbl> & <chr> & <chr> & <dbl>\\\\\n",
       "\\hline\n",
       "\t chr22 & 10961222 & 10962222 & chr22:10961372-10962072:DMSO & Input\\_20x & 2.993652e-06\\\\\n",
       "\t chr22 & 10961222 & 10962222 & chr22:10961372-10962072:DMSO & TFX\\_Dex   & 4.504651e-06\\\\\n",
       "\t chr22 & 10961222 & 10962222 & chr22:10961372-10962072:DMSO & TFX\\_DMSO  & 5.841114e-06\\\\\n",
       "\t chr22 & 11027024 & 11028024 & chr22:11027074-11027974:Dex  & Input\\_20x & 1.112425e-06\\\\\n",
       "\t chr22 & 11027024 & 11028024 & chr22:11027074-11027974:Dex  & TFX\\_Dex   & 2.866254e-06\\\\\n",
       "\t chr22 & 11027024 & 11028024 & chr22:11027074-11027974:Dex  & TFX\\_DMSO  & 2.850193e-06\\\\\n",
       "\\end{tabular}\n"
      ],
      "text/markdown": [
       "\n",
       "A tibble: 6 × 6\n",
       "\n",
       "| Chrom &lt;chr&gt; | Start &lt;dbl&gt; | End &lt;dbl&gt; | Name &lt;chr&gt; | Group &lt;chr&gt; | Value &lt;dbl&gt; |\n",
       "|---|---|---|---|---|---|\n",
       "| chr22 | 10961222 | 10962222 | chr22:10961372-10962072:DMSO | Input_20x | 2.993652e-06 |\n",
       "| chr22 | 10961222 | 10962222 | chr22:10961372-10962072:DMSO | TFX_Dex   | 4.504651e-06 |\n",
       "| chr22 | 10961222 | 10962222 | chr22:10961372-10962072:DMSO | TFX_DMSO  | 5.841114e-06 |\n",
       "| chr22 | 11027024 | 11028024 | chr22:11027074-11027974:Dex  | Input_20x | 1.112425e-06 |\n",
       "| chr22 | 11027024 | 11028024 | chr22:11027074-11027974:Dex  | TFX_Dex   | 2.866254e-06 |\n",
       "| chr22 | 11027024 | 11028024 | chr22:11027074-11027974:Dex  | TFX_DMSO  | 2.850193e-06 |\n",
       "\n"
      ],
      "text/plain": [
       "  Chrom Start    End      Name                         Group     Value       \n",
       "1 chr22 10961222 10962222 chr22:10961372-10962072:DMSO Input_20x 2.993652e-06\n",
       "2 chr22 10961222 10962222 chr22:10961372-10962072:DMSO TFX_Dex   4.504651e-06\n",
       "3 chr22 10961222 10962222 chr22:10961372-10962072:DMSO TFX_DMSO  5.841114e-06\n",
       "4 chr22 11027024 11028024 chr22:11027074-11027974:Dex  Input_20x 1.112425e-06\n",
       "5 chr22 11027024 11028024 chr22:11027074-11027974:Dex  TFX_Dex   2.866254e-06\n",
       "6 chr22 11027024 11028024 chr22:11027074-11027974:Dex  TFX_DMSO  2.850193e-06"
      ]
     },
     "metadata": {},
     "output_type": "display_data"
    }
   ],
   "source": [
    "dat = bind_rows(lst_bed)\n",
    "dat = left_join(dat, dat_lib_size, by=\"Sample\")\n",
    "dat = dat %>% mutate(Norm_Count  = Count/Size)\n",
    "\n",
    "dat = dat %>% \n",
    "    group_by(Chrom, Start, End, Name, Group) %>% \n",
    "    summarize(Value = mean(Norm_Count), .groups = \"drop\")\n",
    "head(dat)"
   ]
  },
  {
   "cell_type": "code",
   "execution_count": 27,
   "metadata": {},
   "outputs": [
    {
     "data": {
      "text/html": [
       "<table class=\"dataframe\">\n",
       "<caption>A tibble: 1 × 10</caption>\n",
       "<thead>\n",
       "\t<tr><th scope=col>Chrom</th><th scope=col>Start</th><th scope=col>End</th><th scope=col>Name</th><th scope=col>Input1_20x</th><th scope=col>Input2_20x</th><th scope=col>TFX2_Dex</th><th scope=col>TFX2_DMSO</th><th scope=col>TFX3_Dex</th><th scope=col>TFX3_DMSO</th></tr>\n",
       "\t<tr><th scope=col>&lt;chr&gt;</th><th scope=col>&lt;dbl&gt;</th><th scope=col>&lt;dbl&gt;</th><th scope=col>&lt;chr&gt;</th><th scope=col>&lt;dbl&gt;</th><th scope=col>&lt;dbl&gt;</th><th scope=col>&lt;dbl&gt;</th><th scope=col>&lt;dbl&gt;</th><th scope=col>&lt;dbl&gt;</th><th scope=col>&lt;dbl&gt;</th></tr>\n",
       "</thead>\n",
       "<tbody>\n",
       "\t<tr><td>chr22</td><td>10961222</td><td>10962222</td><td>chr22:10961372-10962072:DMSO</td><td>1136</td><td>1019</td><td>158</td><td>249</td><td>146</td><td>161</td></tr>\n",
       "</tbody>\n",
       "</table>\n"
      ],
      "text/latex": [
       "A tibble: 1 × 10\n",
       "\\begin{tabular}{llllllllll}\n",
       " Chrom & Start & End & Name & Input1\\_20x & Input2\\_20x & TFX2\\_Dex & TFX2\\_DMSO & TFX3\\_Dex & TFX3\\_DMSO\\\\\n",
       " <chr> & <dbl> & <dbl> & <chr> & <dbl> & <dbl> & <dbl> & <dbl> & <dbl> & <dbl>\\\\\n",
       "\\hline\n",
       "\t chr22 & 10961222 & 10962222 & chr22:10961372-10962072:DMSO & 1136 & 1019 & 158 & 249 & 146 & 161\\\\\n",
       "\\end{tabular}\n"
      ],
      "text/markdown": [
       "\n",
       "A tibble: 1 × 10\n",
       "\n",
       "| Chrom &lt;chr&gt; | Start &lt;dbl&gt; | End &lt;dbl&gt; | Name &lt;chr&gt; | Input1_20x &lt;dbl&gt; | Input2_20x &lt;dbl&gt; | TFX2_Dex &lt;dbl&gt; | TFX2_DMSO &lt;dbl&gt; | TFX3_Dex &lt;dbl&gt; | TFX3_DMSO &lt;dbl&gt; |\n",
       "|---|---|---|---|---|---|---|---|---|---|\n",
       "| chr22 | 10961222 | 10962222 | chr22:10961372-10962072:DMSO | 1136 | 1019 | 158 | 249 | 146 | 161 |\n",
       "\n"
      ],
      "text/plain": [
       "  Chrom Start    End      Name                         Input1_20x Input2_20x\n",
       "1 chr22 10961222 10962222 chr22:10961372-10962072:DMSO 1136       1019      \n",
       "  TFX2_Dex TFX2_DMSO TFX3_Dex TFX3_DMSO\n",
       "1 158      249       146      161      "
      ]
     },
     "metadata": {},
     "output_type": "display_data"
    }
   ],
   "source": [
    "dat %>% dplyr::filter(Name == \"chr22:10961372-10962072:DMSO\") %>% spread(Sample, Count)"
   ]
  },
  {
   "cell_type": "code",
   "execution_count": 62,
   "metadata": {},
   "outputs": [
    {
     "data": {
      "text/html": [
       "<table class=\"dataframe\">\n",
       "<caption>A tibble: 6 × 6</caption>\n",
       "<thead>\n",
       "\t<tr><th scope=col>Chrom</th><th scope=col>Start</th><th scope=col>End</th><th scope=col>Name</th><th scope=col>Log2_Score_DMSO</th><th scope=col>Log2_Score_Dex</th></tr>\n",
       "\t<tr><th scope=col>&lt;chr&gt;</th><th scope=col>&lt;dbl&gt;</th><th scope=col>&lt;dbl&gt;</th><th scope=col>&lt;chr&gt;</th><th scope=col>&lt;dbl&gt;</th><th scope=col>&lt;dbl&gt;</th></tr>\n",
       "</thead>\n",
       "<tbody>\n",
       "\t<tr><td>chr22</td><td>10961222</td><td>10962222</td><td>chr22:10961372-10962072:DMSO</td><td>0.9643367</td><td>0.5895085</td></tr>\n",
       "\t<tr><td>chr22</td><td>11027024</td><td>11028024</td><td>chr22:11027074-11027974:Dex </td><td>1.3573521</td><td>1.3654589</td></tr>\n",
       "\t<tr><td>chr22</td><td>11053269</td><td>11054269</td><td>chr22:11053285-11054254:DMSO</td><td>1.1809666</td><td>3.7232373</td></tr>\n",
       "\t<tr><td>chr22</td><td>11053371</td><td>11054371</td><td>chr22:11053219-11054524:Dex </td><td>1.1582129</td><td>3.6762012</td></tr>\n",
       "\t<tr><td>chr22</td><td>11055724</td><td>11056724</td><td>chr22:11056124-11056324:Dex </td><td>0.4496085</td><td>1.0786770</td></tr>\n",
       "\t<tr><td>chr22</td><td>11055981</td><td>11056981</td><td>chr22:11056374-11056589:Dex </td><td>0.3551987</td><td>1.0109531</td></tr>\n",
       "</tbody>\n",
       "</table>\n"
      ],
      "text/latex": [
       "A tibble: 6 × 6\n",
       "\\begin{tabular}{llllll}\n",
       " Chrom & Start & End & Name & Log2\\_Score\\_DMSO & Log2\\_Score\\_Dex\\\\\n",
       " <chr> & <dbl> & <dbl> & <chr> & <dbl> & <dbl>\\\\\n",
       "\\hline\n",
       "\t chr22 & 10961222 & 10962222 & chr22:10961372-10962072:DMSO & 0.9643367 & 0.5895085\\\\\n",
       "\t chr22 & 11027024 & 11028024 & chr22:11027074-11027974:Dex  & 1.3573521 & 1.3654589\\\\\n",
       "\t chr22 & 11053269 & 11054269 & chr22:11053285-11054254:DMSO & 1.1809666 & 3.7232373\\\\\n",
       "\t chr22 & 11053371 & 11054371 & chr22:11053219-11054524:Dex  & 1.1582129 & 3.6762012\\\\\n",
       "\t chr22 & 11055724 & 11056724 & chr22:11056124-11056324:Dex  & 0.4496085 & 1.0786770\\\\\n",
       "\t chr22 & 11055981 & 11056981 & chr22:11056374-11056589:Dex  & 0.3551987 & 1.0109531\\\\\n",
       "\\end{tabular}\n"
      ],
      "text/markdown": [
       "\n",
       "A tibble: 6 × 6\n",
       "\n",
       "| Chrom &lt;chr&gt; | Start &lt;dbl&gt; | End &lt;dbl&gt; | Name &lt;chr&gt; | Log2_Score_DMSO &lt;dbl&gt; | Log2_Score_Dex &lt;dbl&gt; |\n",
       "|---|---|---|---|---|---|\n",
       "| chr22 | 10961222 | 10962222 | chr22:10961372-10962072:DMSO | 0.9643367 | 0.5895085 |\n",
       "| chr22 | 11027024 | 11028024 | chr22:11027074-11027974:Dex  | 1.3573521 | 1.3654589 |\n",
       "| chr22 | 11053269 | 11054269 | chr22:11053285-11054254:DMSO | 1.1809666 | 3.7232373 |\n",
       "| chr22 | 11053371 | 11054371 | chr22:11053219-11054524:Dex  | 1.1582129 | 3.6762012 |\n",
       "| chr22 | 11055724 | 11056724 | chr22:11056124-11056324:Dex  | 0.4496085 | 1.0786770 |\n",
       "| chr22 | 11055981 | 11056981 | chr22:11056374-11056589:Dex  | 0.3551987 | 1.0109531 |\n",
       "\n"
      ],
      "text/plain": [
       "  Chrom Start    End      Name                         Log2_Score_DMSO\n",
       "1 chr22 10961222 10962222 chr22:10961372-10962072:DMSO 0.9643367      \n",
       "2 chr22 11027024 11028024 chr22:11027074-11027974:Dex  1.3573521      \n",
       "3 chr22 11053269 11054269 chr22:11053285-11054254:DMSO 1.1809666      \n",
       "4 chr22 11053371 11054371 chr22:11053219-11054524:Dex  1.1582129      \n",
       "5 chr22 11055724 11056724 chr22:11056124-11056324:Dex  0.4496085      \n",
       "6 chr22 11055981 11056981 chr22:11056374-11056589:Dex  0.3551987      \n",
       "  Log2_Score_Dex\n",
       "1 0.5895085     \n",
       "2 1.3654589     \n",
       "3 3.7232373     \n",
       "4 3.6762012     \n",
       "5 1.0786770     \n",
       "6 1.0109531     "
      ]
     },
     "metadata": {},
     "output_type": "display_data"
    }
   ],
   "source": [
    "tmp = dat %>% \n",
    "    spread(Group, Value) %>% \n",
    "    mutate(\n",
    "        Log2_Score_DMSO = log2(TFX_DMSO) - log2(Input_20x),\n",
    "        Log2_Score_Dex  = log2(TFX_Dex)  - log2(Input_20x)) %>%\n",
    "    dplyr::select(Chrom, Start, End, Name, Log2_Score_DMSO, Log2_Score_Dex)\n",
    "head(tmp)"
   ]
  },
  {
   "cell_type": "code",
   "execution_count": 31,
   "metadata": {},
   "outputs": [
    {
     "data": {
      "text/html": [
       "<table class=\"dataframe\">\n",
       "<caption>A tibble: 6 × 10</caption>\n",
       "<thead>\n",
       "\t<tr><th scope=col>Chrom</th><th scope=col>Start</th><th scope=col>End</th><th scope=col>Name</th><th scope=col>Input1_20x</th><th scope=col>Input2_20x</th><th scope=col>TFX2_Dex</th><th scope=col>TFX2_DMSO</th><th scope=col>TFX3_Dex</th><th scope=col>TFX3_DMSO</th></tr>\n",
       "\t<tr><th scope=col>&lt;chr&gt;</th><th scope=col>&lt;dbl&gt;</th><th scope=col>&lt;dbl&gt;</th><th scope=col>&lt;chr&gt;</th><th scope=col>&lt;dbl&gt;</th><th scope=col>&lt;dbl&gt;</th><th scope=col>&lt;dbl&gt;</th><th scope=col>&lt;dbl&gt;</th><th scope=col>&lt;dbl&gt;</th><th scope=col>&lt;dbl&gt;</th></tr>\n",
       "</thead>\n",
       "<tbody>\n",
       "\t<tr><td>chr22</td><td>10961222</td><td>10962222</td><td>chr22:10961372-10962072:DMSO</td><td>1136</td><td>1019</td><td> 158</td><td>249</td><td>146</td><td>161</td></tr>\n",
       "\t<tr><td>chr22</td><td>11027024</td><td>11028024</td><td>chr22:11027074-11027974:Dex </td><td> 410</td><td> 390</td><td> 121</td><td>178</td><td> 81</td><td> 44</td></tr>\n",
       "\t<tr><td>chr22</td><td>11053269</td><td>11054269</td><td>chr22:11053285-11054254:DMSO</td><td> 840</td><td> 689</td><td>1051</td><td>165</td><td>868</td><td>157</td></tr>\n",
       "\t<tr><td>chr22</td><td>11053371</td><td>11054371</td><td>chr22:11053219-11054524:Dex </td><td> 873</td><td> 710</td><td>1056</td><td>173</td><td>868</td><td>157</td></tr>\n",
       "\t<tr><td>chr22</td><td>11055724</td><td>11056724</td><td>chr22:11056124-11056324:Dex </td><td>1205</td><td>1065</td><td> 333</td><td>183</td><td>158</td><td>119</td></tr>\n",
       "\t<tr><td>chr22</td><td>11055981</td><td>11056981</td><td>chr22:11056374-11056589:Dex </td><td>1144</td><td>1068</td><td> 322</td><td>152</td><td>140</td><td>118</td></tr>\n",
       "</tbody>\n",
       "</table>\n"
      ],
      "text/latex": [
       "A tibble: 6 × 10\n",
       "\\begin{tabular}{llllllllll}\n",
       " Chrom & Start & End & Name & Input1\\_20x & Input2\\_20x & TFX2\\_Dex & TFX2\\_DMSO & TFX3\\_Dex & TFX3\\_DMSO\\\\\n",
       " <chr> & <dbl> & <dbl> & <chr> & <dbl> & <dbl> & <dbl> & <dbl> & <dbl> & <dbl>\\\\\n",
       "\\hline\n",
       "\t chr22 & 10961222 & 10962222 & chr22:10961372-10962072:DMSO & 1136 & 1019 &  158 & 249 & 146 & 161\\\\\n",
       "\t chr22 & 11027024 & 11028024 & chr22:11027074-11027974:Dex  &  410 &  390 &  121 & 178 &  81 &  44\\\\\n",
       "\t chr22 & 11053269 & 11054269 & chr22:11053285-11054254:DMSO &  840 &  689 & 1051 & 165 & 868 & 157\\\\\n",
       "\t chr22 & 11053371 & 11054371 & chr22:11053219-11054524:Dex  &  873 &  710 & 1056 & 173 & 868 & 157\\\\\n",
       "\t chr22 & 11055724 & 11056724 & chr22:11056124-11056324:Dex  & 1205 & 1065 &  333 & 183 & 158 & 119\\\\\n",
       "\t chr22 & 11055981 & 11056981 & chr22:11056374-11056589:Dex  & 1144 & 1068 &  322 & 152 & 140 & 118\\\\\n",
       "\\end{tabular}\n"
      ],
      "text/markdown": [
       "\n",
       "A tibble: 6 × 10\n",
       "\n",
       "| Chrom &lt;chr&gt; | Start &lt;dbl&gt; | End &lt;dbl&gt; | Name &lt;chr&gt; | Input1_20x &lt;dbl&gt; | Input2_20x &lt;dbl&gt; | TFX2_Dex &lt;dbl&gt; | TFX2_DMSO &lt;dbl&gt; | TFX3_Dex &lt;dbl&gt; | TFX3_DMSO &lt;dbl&gt; |\n",
       "|---|---|---|---|---|---|---|---|---|---|\n",
       "| chr22 | 10961222 | 10962222 | chr22:10961372-10962072:DMSO | 1136 | 1019 |  158 | 249 | 146 | 161 |\n",
       "| chr22 | 11027024 | 11028024 | chr22:11027074-11027974:Dex  |  410 |  390 |  121 | 178 |  81 |  44 |\n",
       "| chr22 | 11053269 | 11054269 | chr22:11053285-11054254:DMSO |  840 |  689 | 1051 | 165 | 868 | 157 |\n",
       "| chr22 | 11053371 | 11054371 | chr22:11053219-11054524:Dex  |  873 |  710 | 1056 | 173 | 868 | 157 |\n",
       "| chr22 | 11055724 | 11056724 | chr22:11056124-11056324:Dex  | 1205 | 1065 |  333 | 183 | 158 | 119 |\n",
       "| chr22 | 11055981 | 11056981 | chr22:11056374-11056589:Dex  | 1144 | 1068 |  322 | 152 | 140 | 118 |\n",
       "\n"
      ],
      "text/plain": [
       "  Chrom Start    End      Name                         Input1_20x Input2_20x\n",
       "1 chr22 10961222 10962222 chr22:10961372-10962072:DMSO 1136       1019      \n",
       "2 chr22 11027024 11028024 chr22:11027074-11027974:Dex   410        390      \n",
       "3 chr22 11053269 11054269 chr22:11053285-11054254:DMSO  840        689      \n",
       "4 chr22 11053371 11054371 chr22:11053219-11054524:Dex   873        710      \n",
       "5 chr22 11055724 11056724 chr22:11056124-11056324:Dex  1205       1065      \n",
       "6 chr22 11055981 11056981 chr22:11056374-11056589:Dex  1144       1068      \n",
       "  TFX2_Dex TFX2_DMSO TFX3_Dex TFX3_DMSO\n",
       "1  158     249       146      161      \n",
       "2  121     178        81       44      \n",
       "3 1051     165       868      157      \n",
       "4 1056     173       868      157      \n",
       "5  333     183       158      119      \n",
       "6  322     152       140      118      "
      ]
     },
     "metadata": {},
     "output_type": "display_data"
    }
   ],
   "source": [
    "head(tmp)"
   ]
  },
  {
   "cell_type": "markdown",
   "metadata": {},
   "source": [
    "## Run on each chromsome"
   ]
  },
  {
   "cell_type": "code",
   "execution_count": 72,
   "metadata": {},
   "outputs": [
    {
     "data": {
      "text/html": [
       "<style>\n",
       ".list-inline {list-style: none; margin:0; padding: 0}\n",
       ".list-inline>li {display: inline-block}\n",
       ".list-inline>li:not(:last-child)::after {content: \"\\00b7\"; padding: 0 .5ex}\n",
       "</style>\n",
       "<ol class=list-inline><li>'Input1_20x'</li><li>'Input2_20x'</li><li>'Input3_20x'</li><li>'Input4_20x'</li><li>'Input5_20x'</li><li>'TFX2_DMSO'</li><li>'TFX3_DMSO'</li><li>'TFX4_DMSO'</li><li>'TFX5_DMSO'</li><li>'TFX2_Dex'</li><li>'TFX3_Dex'</li><li>'TFX4_Dex'</li><li>'TFX5_Dex'</li></ol>\n"
      ],
      "text/latex": [
       "\\begin{enumerate*}\n",
       "\\item 'Input1\\_20x'\n",
       "\\item 'Input2\\_20x'\n",
       "\\item 'Input3\\_20x'\n",
       "\\item 'Input4\\_20x'\n",
       "\\item 'Input5\\_20x'\n",
       "\\item 'TFX2\\_DMSO'\n",
       "\\item 'TFX3\\_DMSO'\n",
       "\\item 'TFX4\\_DMSO'\n",
       "\\item 'TFX5\\_DMSO'\n",
       "\\item 'TFX2\\_Dex'\n",
       "\\item 'TFX3\\_Dex'\n",
       "\\item 'TFX4\\_Dex'\n",
       "\\item 'TFX5\\_Dex'\n",
       "\\end{enumerate*}\n"
      ],
      "text/markdown": [
       "1. 'Input1_20x'\n",
       "2. 'Input2_20x'\n",
       "3. 'Input3_20x'\n",
       "4. 'Input4_20x'\n",
       "5. 'Input5_20x'\n",
       "6. 'TFX2_DMSO'\n",
       "7. 'TFX3_DMSO'\n",
       "8. 'TFX4_DMSO'\n",
       "9. 'TFX5_DMSO'\n",
       "10. 'TFX2_Dex'\n",
       "11. 'TFX3_Dex'\n",
       "12. 'TFX4_Dex'\n",
       "13. 'TFX5_Dex'\n",
       "\n",
       "\n"
      ],
      "text/plain": [
       " [1] \"Input1_20x\" \"Input2_20x\" \"Input3_20x\" \"Input4_20x\" \"Input5_20x\"\n",
       " [6] \"TFX2_DMSO\"  \"TFX3_DMSO\"  \"TFX4_DMSO\"  \"TFX5_DMSO\"  \"TFX2_Dex\"  \n",
       "[11] \"TFX3_Dex\"   \"TFX4_Dex\"   \"TFX5_Dex\"  "
      ]
     },
     "metadata": {},
     "output_type": "display_data"
    }
   ],
   "source": [
    "SAMPLES = c(\n",
    "    paste0(\"Input\", 1:5, \"_20x\"),\n",
    "    paste0(\"TFX\",   2:5, \"_DMSO\"),\n",
    "    paste0(\"TFX\",   2:5, \"_Dex\"))\n",
    "SAMPLES"
   ]
  },
  {
   "cell_type": "code",
   "execution_count": 73,
   "metadata": {},
   "outputs": [
    {
     "data": {
      "text/html": [
       "<style>\n",
       ".list-inline {list-style: none; margin:0; padding: 0}\n",
       ".list-inline>li {display: inline-block}\n",
       ".list-inline>li:not(:last-child)::after {content: \"\\00b7\"; padding: 0 .5ex}\n",
       "</style>\n",
       "<ol class=list-inline><li>'chr1'</li><li>'chr2'</li><li>'chr3'</li><li>'chr4'</li><li>'chr5'</li><li>'chr6'</li><li>'chr7'</li><li>'chr8'</li><li>'chr9'</li><li>'chr10'</li><li>'chr11'</li><li>'chr12'</li><li>'chr13'</li><li>'chr14'</li><li>'chr15'</li><li>'chr16'</li><li>'chr17'</li><li>'chr18'</li><li>'chr19'</li><li>'chr20'</li><li>'chr21'</li><li>'chr22'</li><li>'chrX'</li></ol>\n"
      ],
      "text/latex": [
       "\\begin{enumerate*}\n",
       "\\item 'chr1'\n",
       "\\item 'chr2'\n",
       "\\item 'chr3'\n",
       "\\item 'chr4'\n",
       "\\item 'chr5'\n",
       "\\item 'chr6'\n",
       "\\item 'chr7'\n",
       "\\item 'chr8'\n",
       "\\item 'chr9'\n",
       "\\item 'chr10'\n",
       "\\item 'chr11'\n",
       "\\item 'chr12'\n",
       "\\item 'chr13'\n",
       "\\item 'chr14'\n",
       "\\item 'chr15'\n",
       "\\item 'chr16'\n",
       "\\item 'chr17'\n",
       "\\item 'chr18'\n",
       "\\item 'chr19'\n",
       "\\item 'chr20'\n",
       "\\item 'chr21'\n",
       "\\item 'chr22'\n",
       "\\item 'chrX'\n",
       "\\end{enumerate*}\n"
      ],
      "text/markdown": [
       "1. 'chr1'\n",
       "2. 'chr2'\n",
       "3. 'chr3'\n",
       "4. 'chr4'\n",
       "5. 'chr5'\n",
       "6. 'chr6'\n",
       "7. 'chr7'\n",
       "8. 'chr8'\n",
       "9. 'chr9'\n",
       "10. 'chr10'\n",
       "11. 'chr11'\n",
       "12. 'chr12'\n",
       "13. 'chr13'\n",
       "14. 'chr14'\n",
       "15. 'chr15'\n",
       "16. 'chr16'\n",
       "17. 'chr17'\n",
       "18. 'chr18'\n",
       "19. 'chr19'\n",
       "20. 'chr20'\n",
       "21. 'chr21'\n",
       "22. 'chr22'\n",
       "23. 'chrX'\n",
       "\n",
       "\n"
      ],
      "text/plain": [
       " [1] \"chr1\"  \"chr2\"  \"chr3\"  \"chr4\"  \"chr5\"  \"chr6\"  \"chr7\"  \"chr8\"  \"chr9\" \n",
       "[10] \"chr10\" \"chr11\" \"chr12\" \"chr13\" \"chr14\" \"chr15\" \"chr16\" \"chr17\" \"chr18\"\n",
       "[19] \"chr19\" \"chr20\" \"chr21\" \"chr22\" \"chrX\" "
      ]
     },
     "metadata": {},
     "output_type": "display_data"
    }
   ],
   "source": [
    "CHROMS = paste0(\"chr\", c(1:22, \"X\"))\n",
    "CHROMS"
   ]
  },
  {
   "cell_type": "code",
   "execution_count": 75,
   "metadata": {},
   "outputs": [
    {
     "name": "stdout",
     "output_type": "stream",
     "text": [
      "chr1 \n",
      "chr2 \n",
      "chr3 \n",
      "chr4 \n",
      "chr5 \n",
      "chr6 \n",
      "chr7 \n",
      "chr8 \n",
      "chr9 \n",
      "chr10 \n",
      "chr11 \n",
      "chr12 \n",
      "chr13 \n",
      "chr14 \n",
      "chr15 \n",
      "chr16 \n",
      "chr17 \n",
      "chr18 \n",
      "chr19 \n",
      "chr20 \n",
      "chr21 \n",
      "chr22 \n",
      "chrX \n"
     ]
    }
   ],
   "source": [
    "for (chrom in CHROMS){\n",
    "    ### print START message\n",
    "    cat(chrom, \"\\n\")\n",
    "    flush.console()\n",
    "    \n",
    "    ### import data\n",
    "    ctypes = c(col_character(), col_integer(), col_integer(), col_character(), col_integer())\n",
    "    cnames = c(\"Chrom\", \"Start\", \"End\", \"Name\", \"Count\")\n",
    "    lst_bed = lapply(SAMPLES, function(sam){\n",
    "        fdiry = file.path(FD_RES, \"peak\", \"peak_count_cradle\", sam)\n",
    "        fname = paste0(chrom, \"_count.bed.gz\")\n",
    "        fpath = file.path(fdiry, fname)\n",
    "        grp   = str_remove(sam, \"[0-9]\")\n",
    "        dat   = read_tsv(fpath, col_names = cnames, col_types = ctypes)\n",
    "        dat   = dat %>% mutate(Sample = sam, Group = grp)\n",
    "        return(dat)\n",
    "    })\n",
    "    \n",
    "    ### Merge and normalize the counts \n",
    "    dat = bind_rows(lst_bed)\n",
    "    dat = left_join(dat, dat_lib_size, by=\"Sample\")\n",
    "    dat = dat %>% mutate(Norm_Count  = Count/Size)\n",
    "\n",
    "    ### Calculate the mean counts across replicates\n",
    "    dat = dat %>% \n",
    "        group_by(Chrom, Start, End, Name, Group) %>% \n",
    "        summarize(Value = mean(Norm_Count), .groups = \"drop\")\n",
    "    \n",
    "    ### Calculate the log2 scores for each treatment\n",
    "    dat = dat %>% \n",
    "        spread(Group, Value) %>% \n",
    "        mutate(\n",
    "            Log2_Score_DMSO = log2(TFX_DMSO) - log2(Input_20x),\n",
    "            Log2_Score_Dex  = log2(TFX_Dex)  - log2(Input_20x)) %>%\n",
    "        dplyr::select(\n",
    "            Chrom, Start, End, Name, \n",
    "            Log2_Score_DMSO, \n",
    "            Log2_Score_Dex)\n",
    "    \n",
    "    ###\n",
    "    fdiry = file.path(FD_RES, \"peak\", \"peak_count_cradle\", \"results\")\n",
    "    fname = paste0(\"dat_score_\", chrom, \".tsv\")\n",
    "    fpath = file.path(fdiry, fname)\n",
    "    write_tsv(dat, fpath)\n",
    "}"
   ]
  },
  {
   "cell_type": "code",
   "execution_count": 67,
   "metadata": {},
   "outputs": [
    {
     "data": {
      "text/html": [
       "<table class=\"dataframe\">\n",
       "<caption>A tibble: 6 × 6</caption>\n",
       "<thead>\n",
       "\t<tr><th scope=col>Chrom</th><th scope=col>Start</th><th scope=col>End</th><th scope=col>Name</th><th scope=col>Log2_Score_DMSO</th><th scope=col>Log2_Score_Dex</th></tr>\n",
       "\t<tr><th scope=col>&lt;chr&gt;</th><th scope=col>&lt;dbl&gt;</th><th scope=col>&lt;dbl&gt;</th><th scope=col>&lt;chr&gt;</th><th scope=col>&lt;dbl&gt;</th><th scope=col>&lt;dbl&gt;</th></tr>\n",
       "</thead>\n",
       "<tbody>\n",
       "\t<tr><td>chr22</td><td>10961222</td><td>10962222</td><td>chr22:10961372-10962072:DMSO</td><td>1.1163732</td><td>0.653345</td></tr>\n",
       "\t<tr><td>chr22</td><td>11027024</td><td>11028024</td><td>chr22:11027074-11027974:Dex </td><td>0.8067387</td><td>1.531803</td></tr>\n",
       "\t<tr><td>chr22</td><td>11053269</td><td>11054269</td><td>chr22:11053285-11054254:DMSO</td><td>1.4409862</td><td>3.990056</td></tr>\n",
       "\t<tr><td>chr22</td><td>11053371</td><td>11054371</td><td>chr22:11053219-11054524:Dex </td><td>1.4094730</td><td>3.939340</td></tr>\n",
       "\t<tr><td>chr22</td><td>11055724</td><td>11056724</td><td>chr22:11056124-11056324:Dex </td><td>0.6646528</td><td>1.322478</td></tr>\n",
       "\t<tr><td>chr22</td><td>11055981</td><td>11056981</td><td>chr22:11056374-11056589:Dex </td><td>0.5091824</td><td>1.298918</td></tr>\n",
       "</tbody>\n",
       "</table>\n"
      ],
      "text/latex": [
       "A tibble: 6 × 6\n",
       "\\begin{tabular}{llllll}\n",
       " Chrom & Start & End & Name & Log2\\_Score\\_DMSO & Log2\\_Score\\_Dex\\\\\n",
       " <chr> & <dbl> & <dbl> & <chr> & <dbl> & <dbl>\\\\\n",
       "\\hline\n",
       "\t chr22 & 10961222 & 10962222 & chr22:10961372-10962072:DMSO & 1.1163732 & 0.653345\\\\\n",
       "\t chr22 & 11027024 & 11028024 & chr22:11027074-11027974:Dex  & 0.8067387 & 1.531803\\\\\n",
       "\t chr22 & 11053269 & 11054269 & chr22:11053285-11054254:DMSO & 1.4409862 & 3.990056\\\\\n",
       "\t chr22 & 11053371 & 11054371 & chr22:11053219-11054524:Dex  & 1.4094730 & 3.939340\\\\\n",
       "\t chr22 & 11055724 & 11056724 & chr22:11056124-11056324:Dex  & 0.6646528 & 1.322478\\\\\n",
       "\t chr22 & 11055981 & 11056981 & chr22:11056374-11056589:Dex  & 0.5091824 & 1.298918\\\\\n",
       "\\end{tabular}\n"
      ],
      "text/markdown": [
       "\n",
       "A tibble: 6 × 6\n",
       "\n",
       "| Chrom &lt;chr&gt; | Start &lt;dbl&gt; | End &lt;dbl&gt; | Name &lt;chr&gt; | Log2_Score_DMSO &lt;dbl&gt; | Log2_Score_Dex &lt;dbl&gt; |\n",
       "|---|---|---|---|---|---|\n",
       "| chr22 | 10961222 | 10962222 | chr22:10961372-10962072:DMSO | 1.1163732 | 0.653345 |\n",
       "| chr22 | 11027024 | 11028024 | chr22:11027074-11027974:Dex  | 0.8067387 | 1.531803 |\n",
       "| chr22 | 11053269 | 11054269 | chr22:11053285-11054254:DMSO | 1.4409862 | 3.990056 |\n",
       "| chr22 | 11053371 | 11054371 | chr22:11053219-11054524:Dex  | 1.4094730 | 3.939340 |\n",
       "| chr22 | 11055724 | 11056724 | chr22:11056124-11056324:Dex  | 0.6646528 | 1.322478 |\n",
       "| chr22 | 11055981 | 11056981 | chr22:11056374-11056589:Dex  | 0.5091824 | 1.298918 |\n",
       "\n"
      ],
      "text/plain": [
       "  Chrom Start    End      Name                         Log2_Score_DMSO\n",
       "1 chr22 10961222 10962222 chr22:10961372-10962072:DMSO 1.1163732      \n",
       "2 chr22 11027024 11028024 chr22:11027074-11027974:Dex  0.8067387      \n",
       "3 chr22 11053269 11054269 chr22:11053285-11054254:DMSO 1.4409862      \n",
       "4 chr22 11053371 11054371 chr22:11053219-11054524:Dex  1.4094730      \n",
       "5 chr22 11055724 11056724 chr22:11056124-11056324:Dex  0.6646528      \n",
       "6 chr22 11055981 11056981 chr22:11056374-11056589:Dex  0.5091824      \n",
       "  Log2_Score_Dex\n",
       "1 0.653345      \n",
       "2 1.531803      \n",
       "3 3.990056      \n",
       "4 3.939340      \n",
       "5 1.322478      \n",
       "6 1.298918      "
      ]
     },
     "metadata": {},
     "output_type": "display_data"
    }
   ],
   "source": [
    "head(dat)"
   ]
  },
  {
   "cell_type": "code",
   "execution_count": null,
   "metadata": {},
   "outputs": [],
   "source": []
  }
 ],
 "metadata": {
  "kernelspec": {
   "display_name": "R",
   "language": "R",
   "name": "ir"
  },
  "language_info": {
   "codemirror_mode": "r",
   "file_extension": ".r",
   "mimetype": "text/x-r-source",
   "name": "R",
   "pygments_lexer": "r",
   "version": "4.1.1"
  }
 },
 "nbformat": 4,
 "nbformat_minor": 5
}
