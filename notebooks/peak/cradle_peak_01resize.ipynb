{
 "cells": [
  {
   "cell_type": "code",
   "execution_count": 1,
   "id": "04854917-f211-42ad-9476-4988969881f0",
   "metadata": {},
   "outputs": [
    {
     "name": "stdout",
     "output_type": "stream",
     "text": [
      "You are on Duke Server: HARDAC\n",
      "BASE DIRECTORY:     /gpfs/fs1/data/reddylab/Kuei\n",
      "PATH OF SOURCE:     /gpfs/fs1/data/reddylab/Kuei/source\n",
      "PATH OF EXECUTABLE: /gpfs/fs1/data/reddylab/Kuei/exe\n",
      "PATH OF ANNOTATION: /gpfs/fs1/data/reddylab/Kuei/annotation\n",
      "PATH OF PROJECT:    /gpfs/fs1/data/reddylab/Kuei/GitRepo/Proj_CombEffect_STARRseq/notebooks\n",
      "PATH OF RESULTS:    /gpfs/fs1/data/reddylab/Kuei/out/proj_combeffect\n",
      "\n"
     ]
    }
   ],
   "source": [
    "source ../config_duke.sh -v"
   ]
  },
  {
   "cell_type": "code",
   "execution_count": 2,
   "id": "da6f1bdf-1dfd-48e9-8340-7baf61b3fbe3",
   "metadata": {},
   "outputs": [],
   "source": [
    "FD_DAT=/gpfs/fs1/data/reddylab/gjohnson/whole_genome_STARRseq/wgss3/peak_calls/cradle/mi125_treatment_vs_input_peak_calls"
   ]
  },
  {
   "cell_type": "code",
   "execution_count": 3,
   "id": "d8eec4c6-cfa4-4995-a395-8e6607ad57c0",
   "metadata": {},
   "outputs": [
    {
     "name": "stdout",
     "output_type": "stream",
     "text": [
      "chr1\t818351\t819531\tchr1:818351-819531\t.\t.\t1135\t-157\t977\t5.21\t4.49\t7.103331710570784\n",
      "chr1\t856338\t857072\tchr1:856338-857072\t.\t.\t337\t-132\t204\t4.55\t3.34\t4.279452968287171\n",
      "chr1\t874088\t874388\tchr1:874088-874388\t.\t.\t635\t253\t889\t4.32\t3.36\t4.373325774438474\n"
     ]
    }
   ],
   "source": [
    "SAMPLE=Dex\n",
    "FN_DAT=Dex_active_peaks.bed\n",
    "head -3 ${FD_DAT}/${SAMPLE}/${FN_DAT}"
   ]
  },
  {
   "cell_type": "code",
   "execution_count": 4,
   "id": "77308a6f-9458-45f7-8d52-87d610f6e981",
   "metadata": {},
   "outputs": [
    {
     "name": "stdout",
     "output_type": "stream",
     "text": [
      "chr\tstart\tend\tname\tscore\tstrand\teffectSize\tinputCount\toutputCount\t-log(pvalue)\t-log(qvalue)\tcohen's_d\n",
      "chr1\t818351\t819531\tchr1:818351-819531\t.\t.\t1135\t-157\t977\t5.21\t4.49\t7.103331710570784\n"
     ]
    }
   ],
   "source": [
    "SAMPLE=Dex\n",
    "FN_DAT=CRADLE_peaks\n",
    "head -2 ${FD_DAT}/${SAMPLE}/${FN_DAT}"
   ]
  },
  {
   "cell_type": "markdown",
   "id": "e9eca3ce-5873-4337-8d84-7b459065aa5c",
   "metadata": {},
   "source": [
    "## Resize"
   ]
  },
  {
   "cell_type": "code",
   "execution_count": null,
   "id": "fd9104f9-6fa4-47c3-a691-976abff04ef2",
   "metadata": {},
   "outputs": [],
   "source": []
  },
  {
   "cell_type": "code",
   "execution_count": 6,
   "id": "f152d197-8499-40c6-9974-721142ecc56a",
   "metadata": {},
   "outputs": [
    {
     "name": "stdout",
     "output_type": "stream",
     "text": [
      "chr1\t818351\t819531\tchr1:818351-819531 1180 818941 818441 819441\n",
      "chr1\t856338\t857072\tchr1:856338-857072 734 856705 856205 857205\n",
      "chr1\t874088\t874388\tchr1:874088-874388 300 874238 873738 874738\n",
      "chr1\t874538\t874888\tchr1:874538-874888 350 874713 874213 875213\n",
      "chr1\t905113\t905938\tchr1:905113-905938 825 905526 905026 906026\n",
      "chr1\t942476\t944288\tchr1:942476-944288 1812 943382 942882 943882\n",
      "chr1\t958714\t959586\tchr1:958714-959586 872 959150 958650 959650\n",
      "chr1\t967672\t969094\tchr1:967672-969094 1422 968383 967883 968883\n",
      "chr1\t978288\t979168\tchr1:978288-979168 880 978728 978228 979228\n",
      "chr1\t981908\t983438\tchr1:981908-983438 1530 982673 982173 983173\n"
     ]
    }
   ],
   "source": [
    "SAMPLE=Dex\n",
    "FN_DAT=Dex_active_peaks.bed\n",
    "\n",
    "head -10 ${FD_DAT}/${SAMPLE}/${FN_DAT} |\\\n",
    "    cut -f1,2,3,4 |\\\n",
    "    awk '{print $0, ($3-$2), ($2+$3)/2, ($2+$3)/2-500, ($2+$3)/2+500}'"
   ]
  },
  {
   "cell_type": "code",
   "execution_count": 43,
   "id": "698a300b-942f-4643-8b16-ba90645984ab",
   "metadata": {},
   "outputs": [
    {
     "name": "stdout",
     "output_type": "stream",
     "text": [
      "chr1\t818351\t819531\tchr1:818351-819531\n",
      "chr1\t856338\t857072\tchr1:856338-857072\n",
      "chr1\t874088\t874388\tchr1:874088-874388\n",
      "chr1\t874538\t874888\tchr1:874538-874888\n",
      "chr1\t905113\t905938\tchr1:905113-905938\n",
      "chr1\t942476\t944288\tchr1:942476-944288\n",
      "chr1\t958714\t959586\tchr1:958714-959586\n",
      "chr1\t967672\t969094\tchr1:967672-969094\n",
      "chr1\t978288\t979168\tchr1:978288-979168\n",
      "chr1\t981908\t983438\tchr1:981908-983438\n"
     ]
    }
   ],
   "source": [
    "SAMPLE=Dex\n",
    "FN_DAT=${SAMPLE}_active_peaks.bed\n",
    "\n",
    "head -10 ${FD_DAT}/${SAMPLE}/${FN_DAT} |\\\n",
    "    cut -f1,2,3,4"
   ]
  },
  {
   "cell_type": "code",
   "execution_count": 49,
   "id": "d5d34bbd-9c20-4cad-abed-3dac9860849a",
   "metadata": {},
   "outputs": [
    {
     "name": "stdout",
     "output_type": "stream",
     "text": [
      "chr1           818441         819441         chr1:818351-819531:Dex\n",
      "chr1           856205         857205         chr1:856338-857072:Dex\n",
      "chr1           873738         874738         chr1:874088-874388:Dex\n",
      "chr1           874213         875213         chr1:874538-874888:Dex\n",
      "chr1           905026         906026         chr1:905113-905938:Dex\n",
      "chr1           942882         943882         chr1:942476-944288:Dex\n",
      "chr1           958650         959650         chr1:958714-959586:Dex\n",
      "chr1           967883         968883         chr1:967672-969094:Dex\n",
      "chr1           978228         979228         chr1:978288-979168:Dex\n",
      "chr1           982173         983173         chr1:981908-983438:Dex\n"
     ]
    }
   ],
   "source": [
    "SAMPLE=Dex\n",
    "FN_DAT=${SAMPLE}_active_peaks.bed\n",
    "\n",
    "head -10 ${FD_DAT}/${SAMPLE}/${FN_DAT} |\\\n",
    "    cut -f1,2,3,4 |\\\n",
    "    awk '$2 = ($2+$3)/2-500' |\\\n",
    "    awk '$3=$2+1000' |\\\n",
    "    awk -v SAMPLE=$SAMPLE '$4=$4 \":\" SAMPLE' |\\\n",
    "    tr [:blank:] \\\\t |\\\n",
    "    expand -t 15"
   ]
  },
  {
   "cell_type": "code",
   "execution_count": null,
   "id": "50dfd5ef-fcf3-4bab-acd5-d881bfe968bc",
   "metadata": {},
   "outputs": [],
   "source": [
    "head ${FD_OUT}/${FN_OUT} | expand -t 10"
   ]
  },
  {
   "cell_type": "code",
   "execution_count": 34,
   "id": "2d360a28-757b-46ea-9d31-afdfcf633ddd",
   "metadata": {},
   "outputs": [],
   "source": [
    "source ../config_load_module_bedtools.sh"
   ]
  },
  {
   "cell_type": "code",
   "execution_count": 56,
   "id": "0214aa50-5a4f-4888-9da6-fef034b8bdcb",
   "metadata": {},
   "outputs": [],
   "source": [
    "### init\n",
    "FD_OUT=${FD_RES}/peak_call/cradle\n",
    "FN_OUT=cradle_active_peaks_resize.bed\n",
    "\n",
    "### get active peaks from DMSO\n",
    "SAMPLE=DMSO\n",
    "FN_DAT=${SAMPLE}_active_peaks.bed\n",
    "\n",
    "cat ${FD_DAT}/${SAMPLE}/${FN_DAT} |\\\n",
    "    cut -f1,2,3,4 |\\\n",
    "    awk '$2 = int(($2+$3)/2-500)' |\\\n",
    "    awk '$3 = $2+1000' |\\\n",
    "    awk -v SAMPLE=$SAMPLE '$4=$4 \":\" SAMPLE' |\\\n",
    "    tr [:blank:] \\\\t > ${FD_OUT}/${FN_OUT}\n",
    "\n",
    "### get active peaks from Dex\n",
    "SAMPLE=Dex\n",
    "FN_DAT=${SAMPLE}_active_peaks.bed\n",
    "\n",
    "cat ${FD_DAT}/${SAMPLE}/${FN_DAT} |\\\n",
    "    cut -f1,2,3,4 |\\\n",
    "    awk '$2 = int(($2+$3)/2-500)' |\\\n",
    "    awk '$3 = $2+1000' |\\\n",
    "    awk -v SAMPLE=$SAMPLE '$4=$4 \":\" SAMPLE' |\\\n",
    "    tr [:blank:] \\\\t >> ${FD_OUT}/${FN_OUT}\n",
    "    \n",
    "### sort\n",
    "sort -k1,1 -k2,2n -o ${FD_OUT}/${FN_OUT} ${FD_OUT}/${FN_OUT}"
   ]
  },
  {
   "cell_type": "code",
   "execution_count": 59,
   "id": "5b53b0cf-c5e5-4322-8dd3-e2ece6436be5",
   "metadata": {},
   "outputs": [
    {
     "name": "stdout",
     "output_type": "stream",
     "text": [
      "/gpfs/fs1/data/reddylab/Kuei/out/proj_combeffect/peak_call/cradle/cradle_active_peaks_resize.bed\n"
     ]
    }
   ],
   "source": [
    "echo ${FD_OUT}/${FN_OUT}"
   ]
  },
  {
   "cell_type": "code",
   "execution_count": 57,
   "id": "8e074901-8ce2-4855-a98c-bf3af684787e",
   "metadata": {},
   "outputs": [
    {
     "name": "stdout",
     "output_type": "stream",
     "text": [
      "chr1\t778232\t779232\tchr1:778588-778877:DMSO\n",
      "chr1\t818441\t819441\tchr1:818351-819531:Dex\n",
      "chr1\t826644\t827644\tchr1:826715-827573:DMSO\n",
      "chr1\t851117\t852117\tchr1:851268-851966:DMSO\n",
      "chr1\t856205\t857205\tchr1:856338-857072:Dex\n",
      "chr1\t873413\t874413\tchr1:873788-874038:DMSO\n",
      "chr1\t873738\t874738\tchr1:874088-874388:Dex\n",
      "chr1\t874213\t875213\tchr1:874538-874888:Dex\n",
      "chr1\t905025\t906025\tchr1:905113-905938:Dex\n",
      "chr1\t936253\t937253\tchr1:936528-936978:DMSO\n"
     ]
    }
   ],
   "source": [
    "head ${FD_OUT}/${FN_OUT}"
   ]
  },
  {
   "cell_type": "code",
   "execution_count": 58,
   "id": "28412d38-589e-461b-afe5-ed28c542f5c0",
   "metadata": {},
   "outputs": [
    {
     "name": "stdout",
     "output_type": "stream",
     "text": [
      "chrX\t155313596\t155314596\tchrX:155313562-155314631:DMSO\n",
      "chrX\t155313629\t155314629\tchrX:155313630-155314628:Dex\n",
      "chrX\t155408984\t155409984\tchrX:155409106-155409862:DMSO\n",
      "chrX\t155421772\t155422772\tchrX:155421939-155422606:DMSO\n",
      "chrX\t155421887\t155422887\tchrX:155421769-155423006:Dex\n",
      "chrX\t155434820\t155435820\tchrX:155435035-155435606:Dex\n",
      "chrX\t155435206\t155436206\tchrX:155435256-155436156:DMSO\n",
      "chrX\t155440330\t155441330\tchrX:155440404-155441256:DMSO\n",
      "chrX\t155521212\t155522212\tchrX:155521256-155522169:Dex\n",
      "chrX\t155521255\t155522255\tchrX:155521377-155522133:DMSO\n"
     ]
    }
   ],
   "source": [
    "tail ${FD_OUT}/${FN_OUT}"
   ]
  },
  {
   "cell_type": "code",
   "execution_count": null,
   "id": "3b378fe1-b235-42d6-8283-c59699d04f1d",
   "metadata": {},
   "outputs": [],
   "source": []
  },
  {
   "cell_type": "code",
   "execution_count": null,
   "id": "6758cb89-7f33-4ba6-bc85-b8532c92c833",
   "metadata": {},
   "outputs": [],
   "source": []
  },
  {
   "cell_type": "code",
   "execution_count": null,
   "id": "38871a14-7772-4035-a5b8-627ef2956010",
   "metadata": {},
   "outputs": [],
   "source": []
  }
 ],
 "metadata": {
  "kernelspec": {
   "display_name": "Bash",
   "language": "bash",
   "name": "bash"
  },
  "language_info": {
   "codemirror_mode": "shell",
   "file_extension": ".sh",
   "mimetype": "text/x-sh",
   "name": "bash"
  }
 },
 "nbformat": 4,
 "nbformat_minor": 5
}
