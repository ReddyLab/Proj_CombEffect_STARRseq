{
 "cells": [
  {
   "cell_type": "markdown",
   "id": "4bee48ed-61ca-4e94-9854-f39b0ac20734",
   "metadata": {},
   "source": [
    "# Generate kmer around the test region"
   ]
  },
  {
   "cell_type": "code",
   "execution_count": 7,
   "id": "002bcd66-a2ce-45aa-a6ac-026a1b579cae",
   "metadata": {},
   "outputs": [],
   "source": [
    "import numpy as np\n",
    "import itertools as it\n",
    "import os"
   ]
  },
  {
   "cell_type": "markdown",
   "id": "fdc81fcc-454a-4107-8903-2382afe0e046",
   "metadata": {},
   "source": [
    "## Test code to generate kmer"
   ]
  },
  {
   "cell_type": "code",
   "execution_count": 6,
   "id": "1c88517f-3890-4b43-86cd-b9ea29ccdfaf",
   "metadata": {},
   "outputs": [
    {
     "name": "stdout",
     "output_type": "stream",
     "text": [
      "0 10\n",
      "5 15\n",
      "10 20\n",
      "15 25\n",
      "20 30\n",
      "25 35\n",
      "30 40\n",
      "35 45\n",
      "40 50\n"
     ]
    }
   ],
   "source": [
    "###\n",
    "n_gap  = 5\n",
    "n_kmer = 10\n",
    "start  = 0\n",
    "end    = 53\n",
    "\n",
    "###\n",
    "starts = range(start,  end, n_gap)\n",
    "ends   = range(n_kmer, end, n_gap)\n",
    "\n",
    "for i, j in zip(starts, ends):\n",
    "    print(i, j)"
   ]
  },
  {
   "cell_type": "code",
   "execution_count": 11,
   "id": "b6f4cb25-ba93-4393-8d7f-6fae952d431a",
   "metadata": {},
   "outputs": [
    {
     "name": "stdout",
     "output_type": "stream",
     "text": [
      "chr17\t0\t10\n",
      "chr17\t5\t15\n",
      "chr17\t10\t20\n",
      "chr17\t15\t25\n",
      "chr17\t20\t30\n",
      "chr17\t25\t35\n",
      "chr17\t30\t40\n",
      "chr17\t35\t45\n",
      "chr17\t40\t50\n"
     ]
    }
   ],
   "source": [
    "### init: parameters\n",
    "n_gap  = 5\n",
    "n_kmer = 10\n",
    "start  = 0\n",
    "end    = 53\n",
    "\n",
    "### init: chromosome and output file name\n",
    "chrom = \"chr17\"\n",
    "fname = \"\"\n",
    "\n",
    "### generate kmers\n",
    "starts = range(start,  end, n_gap)\n",
    "ends   = range(n_kmer, end, n_gap)\n",
    "for i, j in zip(starts, ends):\n",
    "    #print(i, j)\n",
    "    kmer  = \"{}\\t{}\\t{}\".format(chrom, i, j)\n",
    "    print(kmer)"
   ]
  },
  {
   "cell_type": "markdown",
   "id": "a99d2ddd-cf5c-46bd-8d41-23e8e11b7175",
   "metadata": {},
   "source": [
    "## set directory"
   ]
  },
  {
   "cell_type": "code",
   "execution_count": 9,
   "id": "ac03ad3a-e9ee-42b3-90f3-867eb262eea5",
   "metadata": {},
   "outputs": [
    {
     "name": "stdout",
     "output_type": "stream",
     "text": [
      "/work/kk319\n",
      "/work/kk319/out/CombEffect_STARR\n",
      "/work/kk319/out/CombEffect_STARR/kmer\n"
     ]
    }
   ],
   "source": [
    "FD_BASE = \"/work/kk319\"\n",
    "FD_WRK  = os.path.join(FD_BASE, \"out\", \"CombEffect_STARR\")\n",
    "FD_KMER = os.path.join(FD_WRK, \"kmer\")\n",
    "\n",
    "print(FD_BASE)\n",
    "print(FD_WRK)\n",
    "print(FD_KMER)"
   ]
  },
  {
   "cell_type": "markdown",
   "id": "8f911774-69d6-477d-b88d-705875918045",
   "metadata": {},
   "source": [
    "**Test region: Chr17:8,148,987-8,159,379**\n",
    "\n",
    "rounding: `8,148,000-8,160,000` (size: 12kb)"
   ]
  },
  {
   "cell_type": "code",
   "execution_count": 1,
   "id": "29cb02ed-7da9-4144-96b1-cd08fdcd3446",
   "metadata": {},
   "outputs": [
    {
     "data": {
      "text/plain": [
       "-12000"
      ]
     },
     "execution_count": 1,
     "metadata": {},
     "output_type": "execute_result"
    }
   ],
   "source": [
    "8148000-8160000"
   ]
  },
  {
   "cell_type": "code",
   "execution_count": 19,
   "id": "ea25f89e-143c-47cd-81e3-4aadd6920258",
   "metadata": {},
   "outputs": [],
   "source": [
    "### init: parameters\n",
    "n_gap  = 5\n",
    "n_kmer = 750\n",
    "start  = 8148000\n",
    "end    = 8160000\n",
    "\n",
    "### init: chromosome and output file name\n",
    "chrom = \"chr17\"\n",
    "fname = \"kmer_PER   1.bed\"\n",
    "fpath = os.path.join(FD_KMER, fname)\n",
    "\n",
    "### generate kmers\n",
    "starts = range(start,          end, n_gap)\n",
    "ends   = range(start + n_kmer, end, n_gap)\n",
    "with open(fpath, \"w\") as fout:\n",
    "    for i, j in zip(starts, ends):\n",
    "        kmer  = \"{}\\t{}\\t{}\\n\".format(chrom, i, j)\n",
    "        fout.write(kmer)"
   ]
  },
  {
   "cell_type": "code",
   "execution_count": 20,
   "id": "2f9aa4ee-2663-419f-b9ba-ff6e7ce2efec",
   "metadata": {},
   "outputs": [
    {
     "name": "stdout",
     "output_type": "stream",
     "text": [
      "/work/kk319/out/CombEffect_STARR/kmer/kmer_PER1.bed\n"
     ]
    }
   ],
   "source": [
    "print(fpath)"
   ]
  },
  {
   "cell_type": "code",
   "execution_count": 22,
   "id": "38c28b75-c880-41df-97e1-50adce0c8b8c",
   "metadata": {},
   "outputs": [
    {
     "name": "stdout",
     "output_type": "stream",
     "text": [
      "chr17\t8148000\t8148750\n",
      "chr17\t8148005\t8148755\n",
      "chr17\t8148010\t8148760\n",
      "++++++++++++++++++\n",
      "chr17\t8159235\t8159985\n",
      "chr17\t8159240\t8159990\n",
      "chr17\t8159245\t8159995\n"
     ]
    }
   ],
   "source": [
    "%%bash\n",
    "head -n 3 /work/kk319/out/CombEffect_STARR/kmer/kmer_PER1.bed\n",
    "echo ++++++++++++++++++\n",
    "tail -n 3 /work/kk319/out/CombEffect_STARR/kmer/kmer_PER1.bed"
   ]
  },
  {
   "cell_type": "code",
   "execution_count": null,
   "id": "2ca5549e-8b8a-4c7e-9e2b-d0a2189d9544",
   "metadata": {},
   "outputs": [],
   "source": []
  }
 ],
 "metadata": {
  "kernelspec": {
   "display_name": "Python 3",
   "language": "python",
   "name": "python3"
  },
  "language_info": {
   "codemirror_mode": {
    "name": "ipython",
    "version": 3
   },
   "file_extension": ".py",
   "mimetype": "text/x-python",
   "name": "python",
   "nbconvert_exporter": "python",
   "pygments_lexer": "ipython3",
   "version": "3.7.3"
  }
 },
 "nbformat": 4,
 "nbformat_minor": 5
}
