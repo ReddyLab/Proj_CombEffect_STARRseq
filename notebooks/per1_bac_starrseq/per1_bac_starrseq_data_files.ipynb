{
 "cells": [
  {
   "cell_type": "markdown",
   "id": "da96f6f9-5adc-479c-8b4d-4d487de5b41e",
   "metadata": {},
   "source": [
    "# Take a look at PER1 BAC STARR-seq\n",
    "\n",
    "The goal is to understand the PER1 BAC STARR-seq data. This is a good dataset to test \n",
    "- (1) the fragment model \n",
    "- (2) the fragment simulation"
   ]
  },
  {
   "cell_type": "markdown",
   "id": "57e9cc52-1b72-48c4-a13e-f947e6eaa9c6",
   "metadata": {},
   "source": [
    "## Going to the directories"
   ]
  },
  {
   "cell_type": "code",
   "execution_count": 15,
   "id": "bc90b17d-0e08-4205-a460-6f29d9f034d4",
   "metadata": {},
   "outputs": [
    {
     "name": "stdout",
     "output_type": "stream",
     "text": [
      "\u001b[0m\u001b[38;5;27m20220812_GDJ_HepG2_WGSS_redo_bcl_convert\u001b[0m  \u001b[38;5;27mNatCom_manuscript_analyses\u001b[0m\n",
      "\u001b[38;5;27mfragment_orientation\u001b[0m                      \u001b[38;5;27mRD_work\u001b[0m\n",
      "\u001b[38;5;27mGR_agonists_study\u001b[0m                         \u001b[38;5;27msplitSTARR\u001b[0m\n",
      "\u001b[38;5;27mjunk\u001b[0m\n"
     ]
    }
   ],
   "source": [
    "ls /data/reddylab/gjohnson/STARRseq_projects"
   ]
  },
  {
   "cell_type": "code",
   "execution_count": 16,
   "id": "4cd566dd-ebd6-4b58-b9d0-0e0da113f55c",
   "metadata": {},
   "outputs": [
    {
     "name": "stdout",
     "output_type": "stream",
     "text": [
      "\u001b[0m\u001b[38;5;27mATAC_test\u001b[0m\n",
      "\u001b[38;5;27mBAC_ecoli_background_and_insert_size_selection\u001b[0m\n",
      "\u001b[38;5;27mComp_Cell_Comparison\u001b[0m\n",
      "\u001b[38;5;27mEmulsion_PCR_Test\u001b[0m\n",
      "\u001b[38;5;27mGyrase_test\u001b[0m\n",
      "\u001b[38;5;27mhg19\u001b[0m\n",
      "\u001b[38;5;27mhybridizing_1kb_frags_to_flowcell\u001b[0m\n",
      "\u001b[38;5;27mmiseq_QC_0.45x_insert_length\u001b[0m\n",
      "\u001b[38;5;27mORI_and_SCP_PER1_BAC_Lib\u001b[0m\n",
      "\u001b[38;5;27mplasmid_dose_response\u001b[0m\n",
      "\u001b[38;5;27mPolymerase_test\u001b[0m\n",
      "\u001b[38;5;27mRetransform_test\u001b[0m\n",
      "\u001b[38;5;27mRobot_test\u001b[0m\n",
      "\u001b[38;5;27mStark_WGSS_HeLA\u001b[0m\n",
      "\u001b[38;5;27mUMIs\u001b[0m\n",
      "\u001b[38;5;27mUndertermined_reads_PER1_BAC_with_SJC_BAC_library\u001b[0m\n"
     ]
    }
   ],
   "source": [
    "ls /data/reddylab/gjohnson/STARRseq_projects/RD_work"
   ]
  },
  {
   "cell_type": "code",
   "execution_count": 17,
   "id": "aac2b5f9-b277-4ee3-8878-a49b97fbc527",
   "metadata": {},
   "outputs": [
    {
     "name": "stdout",
     "output_type": "stream",
     "text": [
      "\u001b[0m\u001b[38;5;27malignments\u001b[0m                                   ORI_specific_dex_peaks.bed\n",
      "\u001b[38;5;27mbigwigs\u001b[0m                                      \u001b[38;5;27mpeak_fastas\u001b[0m\n",
      "\u001b[38;5;27mcounts\u001b[0m                                       \u001b[38;5;27mplots\u001b[0m\n",
      "\u001b[38;5;27mdelme2\u001b[0m                                       \u001b[38;5;27mpooled_library_input_data\u001b[0m\n",
      "\u001b[38;5;27mfastqc\u001b[0m                                       positive_control.bed\n",
      "\u001b[38;5;27mfastqs\u001b[0m                                       \u001b[38;5;27mpreseq.complexity\u001b[0m\n",
      "\u001b[38;5;27mlengths\u001b[0m                                      preseq_expected_distinct.txt\n",
      "\u001b[38;5;27mmacs_analysis\u001b[0m                                ref.fa.bfile\n",
      "ORI_PER1_BACSS_Dex1.tmp.bam                  ref_output\n",
      "ORI_PER1_BACSS_Dex1.tmp.bam.bai              SCP_PER1_BACSS_Dex1.tmp.bam\n",
      "ORI_PER1_BACSS_Dex2.tmp.bam                  SCP_PER1_BACSS_Dex2.tmp.bam\n",
      "ORI_PER1_BACSS_EtOH1.tmp.bam                 SCP_PER1_BACSS_EtOH1.tmp.bam\n",
      "ORI_PER1_BACSS_EtOH2.tmp.bam                 SCP_PER1_BACSS_EtOH2.tmp.bam\n",
      "ORI_specific_dex_peaks_absent_from_EtOH.bed  \u001b[38;5;27mscripts\u001b[0m\n"
     ]
    }
   ],
   "source": [
    "ls /data/reddylab/gjohnson/STARRseq_projects/RD_work/ORI_and_SCP_PER1_BAC_Lib"
   ]
  },
  {
   "cell_type": "code",
   "execution_count": 22,
   "id": "48145642-fd42-4765-97c3-690c7e482c8f",
   "metadata": {},
   "outputs": [
    {
     "name": "stdout",
     "output_type": "stream",
     "text": [
      "align.sh                   inputs              PER1_BAC.fa\n",
      "coverage_in_peaks_plots.R  macs_peak_calls.sh  plot_fragment_lengths.R\n",
      "coverage_in_peaks.sh       ncis.2.R            prep_2bit_file.sh\n",
      "dedup_inputs               PER1_BAC.2bit\n",
      "dedup_UMIs.sh              PER1_BAC.bed\n"
     ]
    }
   ],
   "source": [
    "ls /data/reddylab/gjohnson/STARRseq_projects/RD_work/ORI_and_SCP_PER1_BAC_Lib/scripts"
   ]
  },
  {
   "cell_type": "code",
   "execution_count": 23,
   "id": "7c35469c-a7a4-45d9-8276-5de75afb2152",
   "metadata": {},
   "outputs": [
    {
     "name": "stdout",
     "output_type": "stream",
     "text": [
      "#!/bin/bash\n",
      "#\n",
      "#SBATCH --mem=100000\n",
      "#SBATCH -J align\n",
      "#SBATCH -o align.%J.output\n",
      "#SBATCH -e align.%J.error\n",
      "#SBATCH --array=1-8\n",
      "#SBATCH --cpus-per-task=22\n",
      "#SBATCH --mail-user=graham.johnson@duke.edu\n",
      "#SBATCH --mail-type=FAIL,END\n",
      "#SBATCH -p new\n",
      "\n",
      "#LOAD SOFTWARE\n",
      "export PATH=\"/data/reddylab/gjohnson/preseq/:$PATH\"\n",
      "\n",
      "module load bowtie2\n",
      "module load samtools\n",
      "module load bedtools2\n",
      "module load R/3.2.0-gcb01\n",
      "\n",
      "#SET VARIABLES\n",
      "R1=$(head -${SLURM_ARRAY_TASK_ID} scripts/inputs | tail -1 | awk '{print$1}')\n",
      "R2=$(head -${SLURM_ARRAY_TASK_ID} scripts/inputs | tail -1 | awk '{print$2}')\n",
      "SAMPLE=$(head -${SLURM_ARRAY_TASK_ID} scripts/inputs | tail -1 | awk '{print$3}')\n",
      "\n",
      "\n",
      "#RUN FASTQC \n",
      "/data/reddylab/software/FastQC/fastqc ${R1} ${R2} \\\n",
      "-t 22 \\\n",
      "-o fastqc/\n",
      "\n",
      "\n",
      "#MAKE SAMPLE DIRECTORY\n",
      "mkdir alignments/${SAMPLE}\n",
      "\n",
      "\n",
      "#ALIGN SAMPLES\n",
      "bowtie2 \\\n",
      "-x /data/reddylab/gjohnson/reference_data/hg38 \\\n",
      "-p 31 \\\n",
      "-X 2000 \\\n",
      "--sensitive \\\n",
      "--un alignments/${SAMPLE}/${SAMPLE}.unmapped.sam \\\n",
      "-1 ${R1} \\\n",
      "-2 ${R2} \\\n",
      "| samtools view -@ 22 -Shu -L /data/reddylab/gjohnson/reference_data/hg38.genome.bed -f 3 -q 30 - \\\n",
      "| samtools sort -@ 22 -n - \\\n",
      "| bedtools pairtobed -abam - -b /data/reddylab/gjohnson/reference_data/hg38_filter_out.bed -type neither \\\n",
      "| samtools sort -@ 22 - -o alignments/${SAMPLE}/${SAMPLE}.f3q10.bam\n",
      "\n",
      "\n",
      "#INDEX BAM FILE\n",
      "samtools index alignments/${SAMPLE}/${SAMPLE}.f3q10.bam\n",
      "\n",
      "\n",
      "#CREATE BEDPE FILE FOR SAMPLE\n",
      "samtools view -@ 22 -Shu alignments/${SAMPLE}/${SAMPLE}.f3q10.bam \\\n",
      "| samtools sort -@ 22 -n - \\\n",
      "| bedtools bamtobed -i stdin -bedpe \\\n",
      "| cut -f 1,2,6 \\\n",
      "| sortBed > alignments/${SAMPLE}/${SAMPLE}_all_alignments.bedpe\n",
      "\n",
      "\n",
      "#GET FASTQ READ COUNT FOR EACH SAMPLE\n",
      "less ${R1} \\\n",
      "| wc -l \\\n",
      "| awk -v var=\"${SAMPLE}\" '{print $0/4, var}' >> counts/fastq_counts.txt\n",
      "\n",
      "\n",
      "#GET f3q10 FRAGMENT COUNT FOR EACH SAMPLE\n",
      "samtools view -@ 22 alignments/${SAMPLE}/${SAMPLE}.f3q10.bam \\\n",
      "| wc -l \\\n",
      "| awk -v var=\"${SAMPLE}\" '{print $1/2, var}' >> counts/f3q10_frag_counts.txt\n",
      "\n",
      "\n",
      "#GET f3q10 RMDUP FRAGMENT COUNT FOR EACH SAMPLE\n",
      "samtools rmdup alignments/${SAMPLE}/${SAMPLE}.f3q10.bam alignments/${SAMPLE}/dups.bam\n",
      "\n",
      "samtools view -@ 22 alignments/${SAMPLE}/dups.bam \\\n",
      "| wc -l \\\n",
      "| awk -v var=\"${SAMPLE}\" '{print $1/2, var}' >> counts/rmdup_f3q10_frag_counts_all_alignments.txt\n",
      "\n",
      "rm alignments/${SAMPLE}/dups.bam\n",
      "\n",
      "source /data/reddylab/software/miniconda2/bin/activate alex\n",
      "\n",
      "\n",
      "#GET f3q10 FRAGMENT COUNT IN TARGET REGIONS FOR EACH SAMPLE\n",
      "paste \\\n",
      "        <(bedtools intersect -u -a alignments/${SAMPLE}/${SAMPLE}_all_alignments.bedpe -b scripts/PER1_BAC.bed \\\n",
      "                | wc -l ) \\\n",
      "        <(cat counts/f3q10_frag_counts.txt \\\n",
      "                | grep ${SAMPLE} ) \\\n",
      "| awk \\\n",
      "        -v OFS='\\t' \\\n",
      "        -v SAMPLE=${SAMPLE} \\\n",
      "        '{print SAMPLE, \"total on-target fragments=\"$1, \"% of fragments on-target=\"($1/$2)*100\"%\"}' >> counts/on_target_counts_all_alignments.txt\n",
      "\n",
      "\n",
      "#MAKE NORMALIZED BIGWIGS\n",
      "bamCoverage \\\n",
      "--bam alignments/${SAMPLE}/${SAMPLE}.f3q10.bam \\\n",
      "--binSize 1 \\\n",
      "--normalizeUsingRPKM \\\n",
      "--numberOfProcessors max \\\n",
      "--extendReads \\\n",
      "--outFileName bigwigs/${SAMPLE}_all_alignments_normalized.bw\n",
      "\n",
      "\n",
      "\n",
      "#GET FRAGMENT LENGTHS FOR FRAGMENTS FOR EACH SAMPLE\n",
      "samtools view -@ 22 -f 35 alignments/${SAMPLE}/${SAMPLE}.f3q10.bam \\\n",
      "| awk '{print $9 }' \\\n",
      "| awk '{if ($1<0) print -1*$1; else print $1}'  > lengths/${SAMPLE}_lengths.txt\n",
      "\n",
      "\n",
      "#PLOT FRAGMENT LENGTHS\n",
      "/data/reddylab/software/lib64/R/bin/R  --vanilla --args ${SAMPLE} < scripts/plot_fragment_lengths.R\n",
      "\n",
      "\n",
      "#GET MEDIAN FRAGMENT LENGTH FOR FRAGMENTS FOR EACH SAMPLE\n",
      "samtools view -@ 22 -q 10 -f 3 -F 284 alignments/${SAMPLE}/${SAMPLE}.f3q10.bam \\\n",
      "| awk '{print $9}' \\\n",
      "| awk '{if ($1<0) print -1*$1; else print $1}' \\\n",
      "| sort -n | awk '\n",
      "  BEGIN {\n",
      "    c = 0;\n",
      "    sum = 0;\n",
      "  }\n",
      "  $1 ~ /^[0-9]*(\\.[0-9]*)?$/ {\n",
      "    a[c++] = $1;\n",
      "    sum += $1;\n",
      "  }\n",
      "  END {\n",
      "    ave = sum / c;\n",
      "    if( (c % 2) == 1 ) {\n",
      "      median = a[ int(c/2) ];\n",
      "    } else {\n",
      "      median = ( a[c/2] + a[c/2-1] ) / 2;\n",
      "    }\n",
      "    OFS=\"\\t\";\n",
      "    print sum, c, ave, median, a[0], a[c-1];\n",
      "  }\n",
      "' \\\n",
      "| awk -v var=\"${SAMPLE}\" -v OFS='\\t' '{print var, \"sum count mean median\", $0}' >> lengths/length_calculations\n",
      "\n",
      "\n",
      "\n",
      "#GET PRESEQ ESTIMATES FOR EACH SAMPLE\n",
      "preseq c_curve -v -P -B alignments/${SAMPLE}/${SAMPLE}.f3q10.bam -o preseq.complexity/${SAMPLE}_all_alignments.ccurve.txt 2> preseq.complexity/${SAMPLE}_all_alignments.ccurve.verbose.txt\n",
      "\n",
      "preseq lc_extrap -v -P -B alignments/${SAMPLE}/${SAMPLE}.f3q10.bam -o preseq.complexity/${SAMPLE}_all_alignments.lc.extrap.txt  2> preseq.complexity/${SAMPLE}_all_alignments.lc.extrap.verbose.txt\n"
     ]
    }
   ],
   "source": [
    "cat /data/reddylab/gjohnson/STARRseq_projects/RD_work/ORI_and_SCP_PER1_BAC_Lib/scripts/align.sh"
   ]
  },
  {
   "cell_type": "code",
   "execution_count": 20,
   "id": "d6a21d72-5f32-45de-8e57-bfc116fc4fa4",
   "metadata": {},
   "outputs": [
    {
     "name": "stdout",
     "output_type": "stream",
     "text": [
      ">chr17:7981103-8192310\n"
     ]
    }
   ],
   "source": [
    "head -1 /data/reddylab/gjohnson/STARRseq_projects/RD_work/ORI_and_SCP_PER1_BAC_Lib/scripts/PER1_BAC.fa"
   ]
  },
  {
   "cell_type": "markdown",
   "id": "3689d3b5-e571-4f96-981c-0cb7ac831393",
   "metadata": {},
   "source": [
    "<font color='salmon'> **Questions** </font>\n",
    "- <font color='salmon'> Will the folder be in the same directory since you have left the lab? </font>\n",
    "- <font color='salmon'> just curious: what does RD_work stands for? </font>"
   ]
  },
  {
   "cell_type": "markdown",
   "id": "a0438624-a3ee-4825-b917-6e2f9ce89d64",
   "metadata": {},
   "source": [
    "**Note**"
   ]
  },
  {
   "cell_type": "markdown",
   "id": "29afe81a-ab24-4d73-b785-0a172c78f64e",
   "metadata": {},
   "source": [
    "## Alignment files"
   ]
  },
  {
   "cell_type": "code",
   "execution_count": 4,
   "id": "9f8e4781",
   "metadata": {},
   "outputs": [
    {
     "name": "stdout",
     "output_type": "stream",
     "text": [
      "bed_filtered_deduped_input_reads.bam\n",
      "bed_filtered_deduped_input_reads.bam.bai\n",
      "bed_filtered_deduped_input_reads_chr1.bam\n",
      "bed_filtered_deduped_input_reads_chr1.sam\n",
      "bed_filtered_deduped_input_reads.sort.bam\n",
      "bed_filtered_deduped_input_reads.sort.bam.bai\n",
      "\u001b[0m\u001b[38;5;27mORI_PER1_BACSS_Dex1\u001b[0m\n",
      "\u001b[38;5;27mORI_PER1_BACSS_Dex2\u001b[0m\n",
      "\u001b[38;5;27mORI_PER1_BACSS_EtOH1\u001b[0m\n",
      "\u001b[38;5;27mORI_PER1_BACSS_EtOH2\u001b[0m\n",
      "\u001b[38;5;27mSCP_PER1_BACSS_Dex1\u001b[0m\n",
      "\u001b[38;5;27mSCP_PER1_BACSS_Dex2\u001b[0m\n",
      "\u001b[38;5;27mSCP_PER1_BACSS_EtOH1\u001b[0m\n",
      "\u001b[38;5;27mSCP_PER1_BACSS_EtOH2\u001b[0m\n"
     ]
    }
   ],
   "source": [
    "FDIRY=/data/reddylab/gjohnson/STARRseq_projects/RD_work/ORI_and_SCP_PER1_BAC_Lib/alignments/\n",
    "ls -1 ${FDIRY}"
   ]
  },
  {
   "cell_type": "markdown",
   "id": "01244234-fe85-4501-a8a9-da1dbe4aeb7a",
   "metadata": {},
   "source": [
    "```\n",
    "I would recommend only using alignments with 'ORI' in the name. 'ORI' and 'SCP' refer to different plasmid vector systems. 'ORI' is the most up to date and is what I have used for all of my more recent experiments, including the whole genome STARR-seq data you have been working on.\n",
    "```"
   ]
  },
  {
   "cell_type": "markdown",
   "id": "5807a04f-fc43-4cef-babb-49a297f8a95d",
   "metadata": {},
   "source": [
    "### Look into the ORI files\n",
    "\n",
    "**Condition: EtOH**"
   ]
  },
  {
   "cell_type": "code",
   "execution_count": 5,
   "id": "cf2cdde7",
   "metadata": {},
   "outputs": [
    {
     "name": "stdout",
     "output_type": "stream",
     "text": [
      "ORI_PER1_BACSS_EtOH1_all_alignments.bedpe\n",
      "ORI_PER1_BACSS_EtOH1.dedup.bam\n",
      "ORI_PER1_BACSS_EtOH1.dedup.bam.bai\n",
      "ORI_PER1_BACSS_EtOH1.dedup.bedpe\n",
      "ORI_PER1_BACSS_EtOH1.f3q10.bam\n",
      "ORI_PER1_BACSS_EtOH1.f3q10.bam.bai\n",
      "ORI_PER1_BACSS_EtOH1_markdup_stats.txt\n",
      "ORI_PER1_BACSS_EtOH1.UMI_tagged.bai\n",
      "ORI_PER1_BACSS_EtOH1.UMI_tagged.bam\n"
     ]
    }
   ],
   "source": [
    "ls -1 ${FDIRY}/ORI_PER1_BACSS_EtOH1"
   ]
  },
  {
   "cell_type": "code",
   "execution_count": 6,
   "id": "6a0ba6a6-633a-46ac-82d6-cd72a43e859c",
   "metadata": {},
   "outputs": [
    {
     "name": "stdout",
     "output_type": "stream",
     "text": [
      "ORI_PER1_BACSS_EtOH2_all_alignments.bedpe\n",
      "ORI_PER1_BACSS_EtOH2.dedup.bam\n",
      "ORI_PER1_BACSS_EtOH2.dedup.bam.bai\n",
      "ORI_PER1_BACSS_EtOH2.dedup.bedpe\n",
      "ORI_PER1_BACSS_EtOH2.f3q10.bam\n",
      "ORI_PER1_BACSS_EtOH2.f3q10.bam.bai\n",
      "ORI_PER1_BACSS_EtOH2_markdup_stats.txt\n",
      "ORI_PER1_BACSS_EtOH2.UMI_tagged.bai\n",
      "ORI_PER1_BACSS_EtOH2.UMI_tagged.bam\n"
     ]
    }
   ],
   "source": [
    "ls -1 ${FDIRY}/ORI_PER1_BACSS_EtOH2"
   ]
  },
  {
   "cell_type": "code",
   "execution_count": 7,
   "id": "8229711a",
   "metadata": {},
   "outputs": [
    {
     "name": "stdout",
     "output_type": "stream",
     "text": [
      "chr1\t23733039\t23734785\n",
      "chr1\t23733039\t23734785\n",
      "chr1\t23839539\t23839643\n",
      "chr1\t23839539\t23839643\n",
      "chr1\t26925066\t26925955\n",
      "chr1\t28495644\t28497353\n",
      "chr1\t75853079\t75853260\n",
      "chr1\t183913368\t183913460\n",
      "chr10\t12195941\t12196025\n",
      "chr10\t12195941\t12196025\n"
     ]
    }
   ],
   "source": [
    "head -10 ${FDIRY}/ORI_PER1_BACSS_EtOH1/ORI_PER1_BACSS_EtOH1_all_alignments.bedpe"
   ]
  },
  {
   "cell_type": "code",
   "execution_count": 8,
   "id": "4ab821ca",
   "metadata": {},
   "outputs": [
    {
     "name": "stdout",
     "output_type": "stream",
     "text": [
      "chr1\t23733039\t23734785\n",
      "chr1\t23839539\t23839643\n",
      "chr1\t26925066\t26925955\n",
      "chr1\t28495644\t28497353\n",
      "chr1\t75853079\t75853260\n",
      "chr1\t183913368\t183913460\n",
      "chr10\t12195941\t12196025\n",
      "chr10\t68688532\t68688715\n",
      "chr10\t95608940\t95609140\n",
      "chr10\t126868805\t126869010\n"
     ]
    }
   ],
   "source": [
    "head -10 ${FDIRY}/ORI_PER1_BACSS_EtOH1/ORI_PER1_BACSS_EtOH1.dedup.bedpe"
   ]
  },
  {
   "cell_type": "code",
   "execution_count": 10,
   "id": "1427f4a7-d74f-4d5c-8d05-1adb44558ba5",
   "metadata": {},
   "outputs": [
    {
     "name": "stdout",
     "output_type": "stream",
     "text": [
      "chr8\t144298481\t144299695\n",
      "chr9\t6760585\t6761248\n",
      "chr9\t88044114\t88044318\n",
      "chr9\t116794141\t116794281\n",
      "chr9\t121307597\t121307869\n",
      "chr9\t121307597\t121307869\n",
      "chrX\t23829274\t23831031\n",
      "chrX\t116038896\t116039172\n",
      "chrX\t133862432\t133862642\n",
      "chrY\t13928965\t13929179\n"
     ]
    }
   ],
   "source": [
    "tail -10 ${FDIRY}/ORI_PER1_BACSS_EtOH1/ORI_PER1_BACSS_EtOH1.dedup.bedpe"
   ]
  },
  {
   "cell_type": "code",
   "execution_count": 12,
   "id": "c6f66044-a1d4-4415-b326-1014a681b844",
   "metadata": {},
   "outputs": [
    {
     "name": "stdout",
     "output_type": "stream",
     "text": [
      "      6 chr1\n",
      "      4 chr10\n",
      "      2 chr11\n",
      "      8 chr12\n",
      "      4 chr13\n",
      "      4 chr14\n",
      "      2 chr15\n",
      "      5 chr16\n",
      "  16678 chr17\n",
      "      3 chr18\n",
      "     10 chr19\n",
      "      7 chr2\n",
      "      3 chr20\n",
      "      1 chr21\n",
      "      2 chr22\n",
      "      3 chr3\n",
      "      2 chr4\n",
      "      1 chr5\n",
      "      4 chr6\n",
      "      5 chr7\n",
      "      4 chr8\n",
      "      5 chr9\n",
      "      3 chrX\n",
      "      1 chrY\n"
     ]
    }
   ],
   "source": [
    "awk -v OFS='\\t' '{print $1}' < ${FDIRY}/ORI_PER1_BACSS_EtOH1/ORI_PER1_BACSS_EtOH1.dedup.bedpe | sort | uniq -c"
   ]
  },
  {
   "cell_type": "markdown",
   "id": "2b6afc55-102e-4092-b198-fbf31fa893ad",
   "metadata": {},
   "source": [
    "**Condition: Dex**"
   ]
  },
  {
   "cell_type": "code",
   "execution_count": 9,
   "id": "88e9ebb0",
   "metadata": {},
   "outputs": [
    {
     "name": "stdout",
     "output_type": "stream",
     "text": [
      "ORI_PER1_BACSS_Dex1_all_alignments.bedpe\n",
      "ORI_PER1_BACSS_Dex1.dedup.bam\n",
      "ORI_PER1_BACSS_Dex1.dedup.bam.bai\n",
      "ORI_PER1_BACSS_Dex1.dedup.bedpe\n",
      "ORI_PER1_BACSS_Dex1.f3q10.bam\n",
      "ORI_PER1_BACSS_Dex1.f3q10.bam.bai\n",
      "ORI_PER1_BACSS_Dex1_markdup_stats.txt\n",
      "ORI_PER1_BACSS_Dex1.UMI_tagged.bai\n",
      "ORI_PER1_BACSS_Dex1.UMI_tagged.bam\n"
     ]
    }
   ],
   "source": [
    "ls -1 ${FDIRY}/ORI_PER1_BACSS_Dex1"
   ]
  },
  {
   "cell_type": "markdown",
   "id": "0453a243-016c-44b9-8f74-7b25ea1ca5e1",
   "metadata": {},
   "source": [
    "<font color='salmon'> **Questions** </font>\n",
    "- <font color='salmon'> Is it correct that the dedup is the deduplication of all alignments? </font>\n",
    "- <font color='salmon'> I remember you mentioned that the deduplication does not have much effect. Is it hold in PER1 BAC data as well? </font>\n",
    "- <font color='salmon'> Is it correct that PER1 BAC STARR-seq is using BAC genome that covers PER1 region as the input library? Why are there chromosomes other than chr17?</font>"
   ]
  },
  {
   "cell_type": "markdown",
   "id": "4c517842-e4f0-4392-a3ba-c06660527bd7",
   "metadata": {},
   "source": [
    "**Note**"
   ]
  }
 ],
 "metadata": {
  "kernelspec": {
   "display_name": "Bash",
   "language": "bash",
   "name": "bash"
  },
  "language_info": {
   "codemirror_mode": "shell",
   "file_extension": ".sh",
   "mimetype": "text/x-sh",
   "name": "bash"
  }
 },
 "nbformat": 4,
 "nbformat_minor": 5
}
