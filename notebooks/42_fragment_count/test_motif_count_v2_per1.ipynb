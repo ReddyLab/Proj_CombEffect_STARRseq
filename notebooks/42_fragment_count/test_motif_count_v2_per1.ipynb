{
 "cells": [
  {
   "cell_type": "code",
   "execution_count": 1,
   "id": "62ccd29c",
   "metadata": {},
   "outputs": [],
   "source": [
    "import sys\n",
    "sys.path.append('../')\n",
    "from config_sing import *"
   ]
  },
  {
   "cell_type": "code",
   "execution_count": 2,
   "id": "91d7b145",
   "metadata": {},
   "outputs": [
    {
     "name": "stdout",
     "output_type": "stream",
     "text": [
      "/mount/work/out/proj_combeffect/database/fragment.db\n"
     ]
    }
   ],
   "source": [
    "### import tools\n",
    "import sqlite3\n",
    "import itertools as it\n",
    "from functools import reduce\n",
    "from collections import defaultdict\n",
    "from mpl_toolkits.axes_grid1 import make_axes_locatable\n",
    "plt.style.use(\"seaborn-whitegrid\")\n",
    "\n",
    "### Set Samples\n",
    "fun = np.core.defchararray.add\n",
    "idx = np.arange(1,6).astype(\"str\")\n",
    "\n",
    "INPUT    = reduce(fun, [\"Input\", idx             ])\n",
    "INPUT20X = reduce(fun, [\"Input\", idx,     \"_20x\" ])\n",
    "TFX_DMSO = reduce(fun, [\"TFX\",   idx[1:], \"_DMSO\"])\n",
    "TFX_DEX  = reduce(fun, [\"TFX\",   idx[1:], \"_Dex\" ])\n",
    "SAMPLES  = np.concatenate([INPUT, INPUT20X, TFX_DMSO, TFX_DEX])\n",
    "\n",
    "### file path of database\n",
    "fdiry = os.path.join(FD_RES, 'database')\n",
    "fname = \"fragment.db\"\n",
    "FPATH_DB = os.path.join(fdiry, fname)\n",
    "print(FPATH_DB)"
   ]
  },
  {
   "cell_type": "code",
   "execution_count": 4,
   "id": "e2f1449b",
   "metadata": {},
   "outputs": [
    {
     "name": "stdout",
     "output_type": "stream",
     "text": [
      "('fragment',)\n",
      "('chrom',)\n",
      "('start',)\n",
      "('end',)\n",
      "('pct_at',)\n",
      "('pct_gc',)\n",
      "('num_A',)\n",
      "('num_C',)\n",
      "('num_G',)\n",
      "('num_T',)\n",
      "('num_N',)\n",
      "('num_oth',)\n"
     ]
    }
   ],
   "source": [
    "fpath_db = f\"file:{FPATH_DB}?mode=ro\"\n",
    "with sqlite3.connect(fpath_db, uri=True) as conn:\n",
    "    ### set query: query all motifs binding to a given fragment\n",
    "    query_out = f\"\"\"\n",
    "       SELECT name FROM pragma_table_info('Fragment') \n",
    "        ;\"\"\"    \n",
    "\n",
    "    ### query out motif bindings on the fragment\n",
    "    query  = query_out\n",
    "    cursor = conn.cursor()\n",
    "    rows   = cursor.execute(query)\n",
    "\n",
    "for row in rows:\n",
    "    print(row)"
   ]
  },
  {
   "cell_type": "code",
   "execution_count": 7,
   "id": "2f823683",
   "metadata": {},
   "outputs": [
    {
     "name": "stdout",
     "output_type": "stream",
     "text": [
      "chr17_8148000_8148887\n",
      "chr17_8148000_8148888\n",
      "chr17_8148000_8148993\n",
      "chr17_8148001_8148888\n",
      "chr17_8148002_8148836\n",
      "chr17_8148002_8149023\n",
      "chr17_8148002_8149046\n",
      "chr17_8148002_8149066\n",
      "chr17_8148002_8149072\n",
      "chr17_8148003_8148983\n"
     ]
    }
   ],
   "source": [
    "fpath_db = f\"file:{FPATH_DB}?mode=ro\"\n",
    "with sqlite3.connect(fpath_db, uri=True) as conn:\n",
    "    query_out = f\"\"\"SELECT Frg.fragment FROM Fragment Frg;\"\"\" \n",
    "    query  = query_out\n",
    "    cursor = conn.cursor()\n",
    "    rows   = cursor.execute(query)\n",
    "\n",
    "rows = it.islice(rows, 10)\n",
    "for row in rows:\n",
    "    frg = row[0]\n",
    "    print(frg)"
   ]
  },
  {
   "cell_type": "code",
   "execution_count": null,
   "id": "9a7aa3c1",
   "metadata": {},
   "outputs": [],
   "source": [
    "def get_annot(frg, fpath_db=FPATH_DB, verbose=False):\n",
    "    ### parse fragment info\n",
    "    chrom, start, end = frg.split(\"_\")\n",
    "    \n",
    "    fpath_db = f\"file:{FPATH_DB}?mode=ro\"\n",
    "    with sqlite3.connect(fpath_db, uri=True) as conn:\n",
    "        ### set query: query all motifs binding to a given fragment\n",
    "        query_out = f\"\"\"\n",
    "            SELECT Ant.binding\n",
    "            FROM Annotation Ant\n",
    "            WHERE Ant.fragment = '{frg}'\n",
    "            ;\"\"\"    \n",
    "        \n",
    "        ### query out motif bindings on the fragment\n",
    "        query  = query_out\n",
    "        cursor = conn.cursor()\n",
    "        rows   = cursor.execute(query)\n",
    "    \n",
    "        ### set query: query the corresponding motif info of each annotation\n",
    "        fun  = lambda x, y: x + y\n",
    "        mtfs = list(rows)\n",
    "        mtfs = reduce(fun, mtfs)\n",
    "        txt  = ','.join('?' * len(mtfs))\n",
    "\n",
    "        query_out = f\"\"\"\n",
    "            SELECT Mtf.motif, Mtf.score\n",
    "            FROM Motif Mtf\n",
    "            WHERE Mtf.binding IN ({txt})\n",
    "            ;\"\"\"\n",
    "    \n",
    "        ### query out motif info\n",
    "        query  = query_out\n",
    "        cursor = conn.cursor()\n",
    "        rows   = cursor.execute(query, mtfs)\n",
    "    \n",
    "    ### summarize the motif scores\n",
    "    dct = defaultdict(lambda: 0)\n",
    "    for idx, row in enumerate(rows):\n",
    "        ### parse info\n",
    "        motif, score = row\n",
    "\n",
    "        ### sum the scores with same motifs\n",
    "        dct[motif] += score\n",
    "        \n",
    "    if verbose:\n",
    "        print(f\"Fragment: {frg}; # Bindings: {idx+1}; # Motifs: {len(dct)}\")\n",
    "    \n",
    "    return dct"
   ]
  },
  {
   "cell_type": "code",
   "execution_count": null,
   "id": "9a94d424",
   "metadata": {},
   "outputs": [],
   "source": [
    "fpath_db = f\"file:{fpath_db}?mode=ro\"\n",
    "with sqlite3.connect(fpath_db, uri=True) as conn:\n",
    "    query_out = f\"\"\"\n",
    "        SELECT Ant.fragment, Ant.binding, \n",
    "        FROM   Annotation Ant\n",
    "        JOIN   Motif      Mtf ON Ant.binding  = Mtf.binding\n",
    "        JOIN   Count      Cnt ON Ant.fragment = Cnt.fragment\n",
    "        WHERE  Ant.fragment = '{frg}'\n",
    "        ;\"\"\" \n",
    "\n",
    "    ### query out motif bindings on the fragment\n",
    "    query  = query_out\n",
    "    cursor = conn.cursor()\n",
    "    rows   = cursor.execute(query)\n",
    "        \n",
    "    return cnames, rows"
   ]
  },
  {
   "cell_type": "code",
   "execution_count": null,
   "id": "1a4b516f",
   "metadata": {},
   "outputs": [],
   "source": [
    "def get_annot(frg, fpath_db=FPATH_DB, verbose=False):\n",
    "    ### parse fragment info\n",
    "    chrom, start, end = frg.split(\"_\")\n",
    "    \n",
    "    with sqlite3.connect(fpath_db) as conn:\n",
    "        ### set query: query all motifs binding to a given fragment\n",
    "        query_out = f\"\"\"\n",
    "            SELECT Ant.binding\n",
    "            FROM Annotation Ant\n",
    "            WHERE Ant.fragment = '{frg}'\n",
    "            \n",
    "            ;\"\"\"    \n",
    "        \n",
    "        ### query out motif bindings on the fragment\n",
    "        query  = query_out\n",
    "        cursor = conn.cursor()\n",
    "        rows   = cursor.execute(query)\n",
    "    \n",
    "        ### set query: query the corresponding motif info of each annotation\n",
    "        fun  = lambda x, y: x + y\n",
    "        mtfs = list(rows)\n",
    "        mtfs = reduce(fun, mtfs)\n",
    "        txt  = ','.join('?' * len(mtfs))\n",
    "\n",
    "        query_out = f\"\"\"\n",
    "            SELECT Mtf.motif, Mtf.score\n",
    "            FROM Motif Mtf\n",
    "            WHERE Mtf.binding IN ({txt})\n",
    "            ;\"\"\"\n",
    "    \n",
    "        ### query out motif info\n",
    "        query  = query_out\n",
    "        cursor = conn.cursor()\n",
    "        rows   = cursor.execute(query, mtfs)\n",
    "    \n",
    "    ### summarize the motif scores\n",
    "    dct = defaultdict(lambda: 0)\n",
    "    for idx, row in enumerate(rows):\n",
    "        ### parse info\n",
    "        motif, score = row\n",
    "\n",
    "        ### sum the scores with same motifs\n",
    "        dct[motif] += score\n",
    "        \n",
    "    if verbose:\n",
    "        print(f\"Fragment: {frg}; # Bindings: {idx+1}; # Motifs: {len(dct)}\")\n",
    "    \n",
    "    return dct"
   ]
  }
 ],
 "metadata": {
  "kernelspec": {
   "display_name": "Python 3",
   "language": "python",
   "name": "python3"
  },
  "language_info": {
   "codemirror_mode": {
    "name": "ipython",
    "version": 3
   },
   "file_extension": ".py",
   "mimetype": "text/x-python",
   "name": "python",
   "nbconvert_exporter": "python",
   "pygments_lexer": "ipython3",
   "version": "3.7.6"
  }
 },
 "nbformat": 4,
 "nbformat_minor": 5
}
