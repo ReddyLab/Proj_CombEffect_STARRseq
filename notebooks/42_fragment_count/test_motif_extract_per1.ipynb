{
 "cells": [
  {
   "cell_type": "code",
   "execution_count": 1,
   "id": "4bc4edec",
   "metadata": {},
   "outputs": [],
   "source": [
    "import sys\n",
    "sys.path.append('../')\n",
    "from config_sing import *"
   ]
  },
  {
   "cell_type": "code",
   "execution_count": 2,
   "id": "5c966fef",
   "metadata": {},
   "outputs": [],
   "source": [
    "### import tools\n",
    "import sqlite3\n",
    "import itertools as it\n",
    "from functools import reduce\n",
    "from collections import defaultdict\n",
    "from mpl_toolkits.axes_grid1 import make_axes_locatable\n",
    "plt.style.use(\"seaborn-whitegrid\")\n",
    "\n",
    "### Set Samples\n",
    "fun = np.core.defchararray.add\n",
    "idx = np.arange(1,6).astype(\"str\")\n",
    "\n",
    "INPUT20X = reduce(fun, [\"Input\", idx,     \"_20x\"])\n",
    "TFX_DMSO = reduce(fun, [\"TFX\",   idx[1:], \"_DMSO\"])\n",
    "TFX_DEX  = reduce(fun, [\"TFX\",   idx[1:], \"_Dex\"])\n",
    "SAMPLES  = np.concatenate([INPUT20X, TFX_DMSO, TFX_DEX])\n",
    "\n",
    "### file path of database\n",
    "fdiry = os.path.join(FD_RES, 'database')\n",
    "fname = \"fragment.db\"\n",
    "FPATH_DB = os.path.join(fdiry, fname)"
   ]
  },
  {
   "cell_type": "code",
   "execution_count": 3,
   "id": "c6578a87",
   "metadata": {},
   "outputs": [
    {
     "name": "stdout",
     "output_type": "stream",
     "text": [
      "/mount/work/out/proj_combeffect/database/fragment.db\n"
     ]
    }
   ],
   "source": [
    "print(FPATH_DB)"
   ]
  },
  {
   "cell_type": "code",
   "execution_count": 4,
   "id": "5b683352",
   "metadata": {},
   "outputs": [
    {
     "data": {
      "text/plain": [
       "[('Sample',),\n",
       " ('Fragment',),\n",
       " ('Motif',),\n",
       " ('Count',),\n",
       " ('Coverage',),\n",
       " ('Annotation',)]"
      ]
     },
     "execution_count": 4,
     "metadata": {},
     "output_type": "execute_result"
    }
   ],
   "source": [
    "### set query\n",
    "query_out = \"\"\"\n",
    "    SELECT name \n",
    "    FROM sqlite_master \n",
    "    WHERE type = 'table';\n",
    "    \"\"\"\n",
    "\n",
    "### get table names\n",
    "fpath_db = FPATH_DB\n",
    "with sqlite3.connect(fpath_db) as conn:\n",
    "    query  = query_out\n",
    "    cursor = conn.cursor()\n",
    "    cursor = cursor.execute(query)\n",
    "    rows   = cursor.fetchall()\n",
    "rows"
   ]
  },
  {
   "cell_type": "code",
   "execution_count": 5,
   "id": "6619cc07",
   "metadata": {},
   "outputs": [
    {
     "data": {
      "text/plain": [
       "[('sqlite_autoindex_Sample_1',),\n",
       " ('sqlite_autoindex_Fragment_1',),\n",
       " ('sqlite_autoindex_Motif_1',),\n",
       " ('idx_location',),\n",
       " ('idx_motif_loc',),\n",
       " ('sqlite_autoindex_Annotation_1',),\n",
       " ('idx_annot_frag',)]"
      ]
     },
     "execution_count": 5,
     "metadata": {},
     "output_type": "execute_result"
    }
   ],
   "source": [
    "### set query\n",
    "query_out = \"\"\"\n",
    "    SELECT name \n",
    "    FROM sqlite_master \n",
    "    WHERE type = 'index';\n",
    "    \"\"\"\n",
    "\n",
    "### get index names\n",
    "fpath_db = FPATH_DB\n",
    "with sqlite3.connect(fpath_db) as conn:\n",
    "    query  = query_out\n",
    "    cursor = conn.cursor()\n",
    "    cursor.execute(query)\n",
    "    rows   = cursor.fetchall()\n",
    "rows"
   ]
  },
  {
   "cell_type": "code",
   "execution_count": 6,
   "id": "a05d628b",
   "metadata": {},
   "outputs": [],
   "source": [
    "with sqlite3.connect(fpath_db) as conn:\n",
    "    ### set query: query all motifs binding to a given fragment\n",
    "    query_out = f\"\"\"\n",
    "        SELECT *\n",
    "        FROM Annotation Ant\n",
    "        ;\"\"\"    \n",
    "\n",
    "    ### query out motif bindings on the fragment\n",
    "    query  = query_out\n",
    "    cursor = conn.cursor()\n",
    "    rows   = cursor.execute(query)"
   ]
  },
  {
   "cell_type": "code",
   "execution_count": 7,
   "id": "0a900552",
   "metadata": {},
   "outputs": [
    {
     "data": {
      "text/plain": [
       "('chr17_8148117_8149012', 'chr17_8148123_8148133_GLI')"
      ]
     },
     "execution_count": 7,
     "metadata": {},
     "output_type": "execute_result"
    }
   ],
   "source": [
    "next(rows)"
   ]
  },
  {
   "cell_type": "code",
   "execution_count": 8,
   "id": "499fbe03",
   "metadata": {},
   "outputs": [],
   "source": [
    "with sqlite3.connect(fpath_db) as conn:\n",
    "    ### set query: query all motifs binding to a given fragment\n",
    "    query_out = f\"\"\"\n",
    "        SELECT *\n",
    "        FROM Motif\n",
    "        ;\"\"\"    \n",
    "\n",
    "    ### query out motif bindings on the fragment\n",
    "    query  = query_out\n",
    "    cursor = conn.cursor()\n",
    "    rows   = cursor.execute(query)"
   ]
  },
  {
   "cell_type": "code",
   "execution_count": 9,
   "id": "c6ebc597",
   "metadata": {},
   "outputs": [
    {
     "data": {
      "text/plain": [
       "('chr17_60004_60022_ZNF140', 'chr17', 60004, 60022, 'ZNF140', 5.6897)"
      ]
     },
     "execution_count": 9,
     "metadata": {},
     "output_type": "execute_result"
    }
   ],
   "source": [
    "next(rows)"
   ]
  },
  {
   "cell_type": "code",
   "execution_count": 8,
   "id": "c12e0aac",
   "metadata": {},
   "outputs": [],
   "source": [
    "with sqlite3.connect(fpath_db) as conn:\n",
    "    ### set query: query all motifs binding to a given fragment\n",
    "    query_out = f\"\"\"\n",
    "        SELECT *\n",
    "        FROM Count\n",
    "        ;\"\"\"    \n",
    "\n",
    "    ### query out motif bindings on the fragment\n",
    "    query  = query_out\n",
    "    cursor = conn.cursor()\n",
    "    rows   = cursor.execute(query)"
   ]
  },
  {
   "cell_type": "code",
   "execution_count": 9,
   "id": "dafa3ea9",
   "metadata": {},
   "outputs": [
    {
     "data": {
      "text/plain": [
       "('chr17_8148117_8149012', 'Input1', 1)"
      ]
     },
     "execution_count": 9,
     "metadata": {},
     "output_type": "execute_result"
    }
   ],
   "source": [
    "next(rows)"
   ]
  },
  {
   "cell_type": "code",
   "execution_count": 12,
   "id": "d1f4fc21",
   "metadata": {},
   "outputs": [
    {
     "name": "stdout",
     "output_type": "stream",
     "text": [
      "('binding',)\n",
      "('chrom',)\n",
      "('start',)\n",
      "('end',)\n",
      "('motif',)\n",
      "('score',)\n"
     ]
    }
   ],
   "source": [
    "with sqlite3.connect(fpath_db) as conn:\n",
    "    ### set query: query all motifs binding to a given fragment\n",
    "    query_out = f\"\"\"\n",
    "       SELECT name FROM pragma_table_info('Motif') \n",
    "        ;\"\"\"    \n",
    "\n",
    "    ### query out motif bindings on the fragment\n",
    "    query  = query_out\n",
    "    cursor = conn.cursor()\n",
    "    rows   = cursor.execute(query)\n",
    "\n",
    "for row in rows:\n",
    "    print(row)"
   ]
  },
  {
   "cell_type": "code",
   "execution_count": 13,
   "id": "4ad00ddb",
   "metadata": {},
   "outputs": [
    {
     "name": "stdout",
     "output_type": "stream",
     "text": [
      "('fragment',)\n",
      "('binding',)\n"
     ]
    }
   ],
   "source": [
    "with sqlite3.connect(fpath_db) as conn:\n",
    "    ### set query: query all motifs binding to a given fragment\n",
    "    query_out = f\"\"\"\n",
    "       SELECT name FROM pragma_table_info('Annotation') \n",
    "        ;\"\"\"    \n",
    "\n",
    "    ### query out motif bindings on the fragment\n",
    "    query  = query_out\n",
    "    cursor = conn.cursor()\n",
    "    rows   = cursor.execute(query)\n",
    "\n",
    "for row in rows:\n",
    "    print(row)"
   ]
  },
  {
   "cell_type": "code",
   "execution_count": 14,
   "id": "baf6e208",
   "metadata": {},
   "outputs": [
    {
     "name": "stdout",
     "output_type": "stream",
     "text": [
      "('fragment',)\n",
      "('sample',)\n",
      "('count',)\n"
     ]
    }
   ],
   "source": [
    "with sqlite3.connect(fpath_db) as conn:\n",
    "    ### set query: query all motifs binding to a given fragment\n",
    "    query_out = f\"\"\"\n",
    "       SELECT name FROM pragma_table_info('Count') \n",
    "        ;\"\"\"    \n",
    "\n",
    "    ### query out motif bindings on the fragment\n",
    "    query  = query_out\n",
    "    cursor = conn.cursor()\n",
    "    rows   = cursor.execute(query)\n",
    "\n",
    "for row in rows:\n",
    "    print(row)"
   ]
  },
  {
   "cell_type": "code",
   "execution_count": 15,
   "id": "e31b1e5f",
   "metadata": {},
   "outputs": [],
   "source": [
    "with sqlite3.connect(fpath_db) as conn:\n",
    "    ### set query: query all motifs binding to a given fragment\n",
    "    query_out = f\"\"\"\n",
    "       SELECT * \n",
    "       FROM Motif Mtf\n",
    "       WHERE Mtf.motif = 'ZNF140'\n",
    "       ;\"\"\"    \n",
    "\n",
    "    ### query out motif bindings on the fragment\n",
    "    query  = query_out\n",
    "    cursor = conn.cursor()\n",
    "    rows   = cursor.execute(query)"
   ]
  },
  {
   "cell_type": "code",
   "execution_count": 16,
   "id": "033be058",
   "metadata": {},
   "outputs": [
    {
     "name": "stdout",
     "output_type": "stream",
     "text": [
      "('chr17_60004_60022_ZNF140', 'chr17', 60004, 60022, 'ZNF140', 5.6897)\n",
      "('chr17_60757_60775_ZNF140', 'chr17', 60757, 60775, 'ZNF140', 7.1108)\n",
      "('chr17_67171_67189_ZNF140', 'chr17', 67171, 67189, 'ZNF140', 5.2715)\n",
      "('chr17_70591_70609_ZNF140', 'chr17', 70591, 70609, 'ZNF140', 5.2715)\n",
      "('chr17_77284_77302_ZNF140', 'chr17', 77284, 77302, 'ZNF140', 8.3155)\n",
      "('chr17_77657_77675_ZNF140', 'chr17', 77657, 77675, 'ZNF140', 7.5942)\n",
      "('chr17_81090_81108_ZNF140', 'chr17', 81090, 81108, 'ZNF140', 12.9358)\n",
      "('chr17_82452_82470_ZNF140', 'chr17', 82452, 82470, 'ZNF140', 7.5942)\n",
      "('chr17_83883_83901_ZNF140', 'chr17', 83883, 83901, 'ZNF140', 5.3911)\n",
      "('chr17_85031_85049_ZNF140', 'chr17', 85031, 85049, 'ZNF140', 6.6195)\n"
     ]
    }
   ],
   "source": [
    "for row in it.islice(rows, 10):\n",
    "    print(row)"
   ]
  },
  {
   "cell_type": "code",
   "execution_count": 17,
   "id": "8f71c53d",
   "metadata": {},
   "outputs": [],
   "source": [
    "with sqlite3.connect(fpath_db) as conn:\n",
    "    ### set query: query all motifs binding to a given fragment\n",
    "    query_out = f\"\"\"\n",
    "        SELECT Ant.fragment, Ant.binding\n",
    "        FROM   Annotation Ant\n",
    "        JOIN   Motif      Mtf ON Ant.binding = Mtf.binding\n",
    "        WHERE  Mtf.motif = 'ZNF140'\n",
    "       ;\"\"\"    \n",
    "\n",
    "    ### query out motif bindings on the fragment\n",
    "    query  = query_out\n",
    "    cursor = conn.cursor()\n",
    "    rows   = cursor.execute(query)"
   ]
  },
  {
   "cell_type": "code",
   "execution_count": 18,
   "id": "40c6084a",
   "metadata": {},
   "outputs": [
    {
     "name": "stdout",
     "output_type": "stream",
     "text": [
      "('chr17_206174_207307', 'chr17_207168_207186_ZNF140')\n",
      "('chr17_206269_207286', 'chr17_207168_207186_ZNF140')\n",
      "('chr17_206283_207194', 'chr17_207168_207186_ZNF140')\n",
      "('chr17_206324_207359', 'chr17_207168_207186_ZNF140')\n",
      "('chr17_206326_207274', 'chr17_207168_207186_ZNF140')\n",
      "('chr17_206407_207370', 'chr17_207168_207186_ZNF140')\n",
      "('chr17_206765_207721', 'chr17_207168_207186_ZNF140')\n",
      "('chr17_206786_207847', 'chr17_207168_207186_ZNF140')\n",
      "('chr17_206969_207771', 'chr17_207168_207186_ZNF140')\n",
      "('chr17_206979_208020', 'chr17_207168_207186_ZNF140')\n",
      "('chr17_206999_207929', 'chr17_207168_207186_ZNF140')\n",
      "('chr17_207082_207952', 'chr17_207168_207186_ZNF140')\n",
      "('chr17_207100_208071', 'chr17_207168_207186_ZNF140')\n",
      "('chr17_401489_402668', 'chr17_401705_401723_ZNF140')\n",
      "('chr17_401630_402762', 'chr17_401705_401723_ZNF140')\n",
      "('chr17_401630_402762', 'chr17_402690_402708_ZNF140')\n",
      "('chr17_401645_402673', 'chr17_401705_401723_ZNF140')\n",
      "('chr17_401816_402920', 'chr17_402690_402708_ZNF140')\n",
      "('chr17_401877_402856', 'chr17_402690_402708_ZNF140')\n",
      "('chr17_405505_406549', 'chr17_406518_406536_ZNF140')\n"
     ]
    }
   ],
   "source": [
    "for row in it.islice(rows, 20):\n",
    "    print(row)"
   ]
  },
  {
   "cell_type": "code",
   "execution_count": 19,
   "id": "7f031983",
   "metadata": {},
   "outputs": [],
   "source": [
    "with sqlite3.connect(fpath_db) as conn:\n",
    "    ### set query: query all motifs binding to a given fragment\n",
    "    query_out = f\"\"\"\n",
    "        SELECT Ant.fragment, Ant.binding\n",
    "        FROM   Annotation Ant\n",
    "        JOIN   Motif      Mtf ON Ant.binding  = Mtf.binding\n",
    "        WHERE  Mtf.motif  = 'ZNF140' OR Mtf.motif  = 'NR/20'\n",
    "       ;\"\"\"    \n",
    "\n",
    "    ### query out motif bindings on the fragment\n",
    "    query  = query_out\n",
    "    cursor = conn.cursor()\n",
    "    rows   = cursor.execute(query)"
   ]
  },
  {
   "cell_type": "code",
   "execution_count": 20,
   "id": "d487c692",
   "metadata": {},
   "outputs": [
    {
     "name": "stdout",
     "output_type": "stream",
     "text": [
      "('chr17_206174_207307', 'chr17_207168_207186_ZNF140')\n",
      "('chr17_206269_207286', 'chr17_207168_207186_ZNF140')\n",
      "('chr17_206283_207194', 'chr17_207168_207186_ZNF140')\n",
      "('chr17_206324_207359', 'chr17_207168_207186_ZNF140')\n",
      "('chr17_206326_207274', 'chr17_207168_207186_ZNF140')\n",
      "('chr17_206407_207370', 'chr17_207168_207186_ZNF140')\n",
      "('chr17_206765_207721', 'chr17_207168_207186_ZNF140')\n",
      "('chr17_206786_207847', 'chr17_207168_207186_ZNF140')\n",
      "('chr17_206969_207771', 'chr17_207168_207186_ZNF140')\n",
      "('chr17_206979_208020', 'chr17_207168_207186_ZNF140')\n",
      "('chr17_206999_207929', 'chr17_207168_207186_ZNF140')\n",
      "('chr17_207082_207952', 'chr17_207168_207186_ZNF140')\n",
      "('chr17_207100_208071', 'chr17_207168_207186_ZNF140')\n",
      "('chr17_235153_236234', 'chr17_236149_236163_NR/20')\n",
      "('chr17_235228_236185', 'chr17_236149_236163_NR/20')\n",
      "('chr17_235539_236513', 'chr17_236149_236163_NR/20')\n",
      "('chr17_235930_236950', 'chr17_236149_236163_NR/20')\n",
      "('chr17_401489_402668', 'chr17_401705_401723_ZNF140')\n",
      "('chr17_401630_402762', 'chr17_401705_401723_ZNF140')\n",
      "('chr17_401630_402762', 'chr17_402690_402708_ZNF140')\n"
     ]
    }
   ],
   "source": [
    "for row in it.islice(rows, 20):\n",
    "    print(row)"
   ]
  },
  {
   "cell_type": "code",
   "execution_count": 21,
   "id": "c9008dcc",
   "metadata": {},
   "outputs": [],
   "source": [
    "with sqlite3.connect(fpath_db) as conn:\n",
    "    ### set query: query all motifs binding to a given fragment\n",
    "    query_out = f\"\"\"\n",
    "        SELECT Ant.fragment, Ant.binding, Cnt.sample, Cnt.count\n",
    "        FROM   Annotation Ant\n",
    "        JOIN   Motif      Mtf ON Ant.binding  = Mtf.binding\n",
    "        JOIN   Count      Cnt ON Ant.fragment = Cnt.fragment\n",
    "        WHERE  Mtf.motif  = 'ZNF140'    AND \n",
    "               Cnt.sample = 'TFX2_DMSO'\n",
    "       ;\"\"\"    \n",
    "\n",
    "    ### query out motif bindings on the fragment\n",
    "    query  = query_out\n",
    "    cursor = conn.cursor()\n",
    "    rows   = cursor.execute(query)"
   ]
  },
  {
   "cell_type": "code",
   "execution_count": 22,
   "id": "ce377dcc",
   "metadata": {},
   "outputs": [
    {
     "name": "stdout",
     "output_type": "stream",
     "text": [
      "('chr17_87067_87989', 'chr17_87360_87378_ZNF140', 'TFX2_DMSO', 1)\n",
      "('chr17_205546_206544', 'chr17_205609_205627_ZNF140', 'TFX2_DMSO', 1)\n",
      "('chr17_205546_206545', 'chr17_205609_205627_ZNF140', 'TFX2_DMSO', 3)\n",
      "('chr17_205547_206545', 'chr17_205609_205627_ZNF140', 'TFX2_DMSO', 1)\n",
      "('chr17_205548_206545', 'chr17_205609_205627_ZNF140', 'TFX2_DMSO', 1)\n",
      "('chr17_206256_207299', 'chr17_207168_207186_ZNF140', 'TFX2_DMSO', 2)\n",
      "('chr17_206274_207319', 'chr17_207168_207186_ZNF140', 'TFX2_DMSO', 1)\n",
      "('chr17_206274_207320', 'chr17_207168_207186_ZNF140', 'TFX2_DMSO', 1)\n",
      "('chr17_206276_207352', 'chr17_207168_207186_ZNF140', 'TFX2_DMSO', 3)\n",
      "('chr17_206277_207352', 'chr17_207168_207186_ZNF140', 'TFX2_DMSO', 1)\n",
      "('chr17_206321_207261', 'chr17_207168_207186_ZNF140', 'TFX2_DMSO', 1)\n",
      "('chr17_206385_207365', 'chr17_207168_207186_ZNF140', 'TFX2_DMSO', 3)\n",
      "('chr17_206386_207365', 'chr17_207168_207186_ZNF140', 'TFX2_DMSO', 2)\n",
      "('chr17_206407_207369', 'chr17_207168_207186_ZNF140', 'TFX2_DMSO', 1)\n",
      "('chr17_206422_207529', 'chr17_207168_207186_ZNF140', 'TFX2_DMSO', 1)\n",
      "('chr17_206466_207367', 'chr17_207168_207186_ZNF140', 'TFX2_DMSO', 1)\n",
      "('chr17_206513_207491', 'chr17_207168_207186_ZNF140', 'TFX2_DMSO', 1)\n",
      "('chr17_206514_207491', 'chr17_207168_207186_ZNF140', 'TFX2_DMSO', 1)\n",
      "('chr17_206515_207491', 'chr17_207168_207186_ZNF140', 'TFX2_DMSO', 1)\n",
      "('chr17_206743_207767', 'chr17_207168_207186_ZNF140', 'TFX2_DMSO', 1)\n"
     ]
    }
   ],
   "source": [
    "for row in it.islice(rows, 20):\n",
    "    print(row)"
   ]
  },
  {
   "cell_type": "code",
   "execution_count": 27,
   "id": "7c8566fc",
   "metadata": {},
   "outputs": [
    {
     "name": "stdout",
     "output_type": "stream",
     "text": [
      "\n",
      "        SELECT Ant.fragment, Ant.binding, Cnt.sample, Cnt.count\n",
      "        FROM   Annotation Ant\n",
      "        JOIN   Motif      Mtf ON Ant.binding  = Mtf.binding\n",
      "        JOIN   Count      Cnt ON Ant.fragment = Cnt.fragment\n",
      "        WHERE  Mtf.motif  = 'ZNF140'    AND \n",
      "               Cnt.sample = 'TFX2_DMSO'\n",
      "       ;\n",
      "('chr17_87067_87989', 'chr17_87360_87378_ZNF140', 'TFX2_DMSO', 1)\n",
      "('chr17_205546_206544', 'chr17_205609_205627_ZNF140', 'TFX2_DMSO', 1)\n",
      "('chr17_205546_206545', 'chr17_205609_205627_ZNF140', 'TFX2_DMSO', 3)\n",
      "('chr17_205547_206545', 'chr17_205609_205627_ZNF140', 'TFX2_DMSO', 1)\n",
      "('chr17_205548_206545', 'chr17_205609_205627_ZNF140', 'TFX2_DMSO', 1)\n",
      "('chr17_206256_207299', 'chr17_207168_207186_ZNF140', 'TFX2_DMSO', 2)\n",
      "('chr17_206274_207319', 'chr17_207168_207186_ZNF140', 'TFX2_DMSO', 1)\n",
      "('chr17_206274_207320', 'chr17_207168_207186_ZNF140', 'TFX2_DMSO', 1)\n",
      "('chr17_206276_207352', 'chr17_207168_207186_ZNF140', 'TFX2_DMSO', 3)\n",
      "('chr17_206277_207352', 'chr17_207168_207186_ZNF140', 'TFX2_DMSO', 1)\n",
      "('chr17_206321_207261', 'chr17_207168_207186_ZNF140', 'TFX2_DMSO', 1)\n",
      "('chr17_206385_207365', 'chr17_207168_207186_ZNF140', 'TFX2_DMSO', 3)\n",
      "('chr17_206386_207365', 'chr17_207168_207186_ZNF140', 'TFX2_DMSO', 2)\n",
      "('chr17_206407_207369', 'chr17_207168_207186_ZNF140', 'TFX2_DMSO', 1)\n",
      "('chr17_206422_207529', 'chr17_207168_207186_ZNF140', 'TFX2_DMSO', 1)\n",
      "('chr17_206466_207367', 'chr17_207168_207186_ZNF140', 'TFX2_DMSO', 1)\n",
      "('chr17_206513_207491', 'chr17_207168_207186_ZNF140', 'TFX2_DMSO', 1)\n",
      "('chr17_206514_207491', 'chr17_207168_207186_ZNF140', 'TFX2_DMSO', 1)\n",
      "('chr17_206515_207491', 'chr17_207168_207186_ZNF140', 'TFX2_DMSO', 1)\n",
      "('chr17_206743_207767', 'chr17_207168_207186_ZNF140', 'TFX2_DMSO', 1)\n"
     ]
    }
   ],
   "source": [
    "mtf = \"ZNF140\"\n",
    "sam = \"TFX2_DMSO\"\n",
    "\n",
    "with sqlite3.connect(fpath_db) as conn:\n",
    "    ### set query: query all motifs binding to a given fragment\n",
    "    query_out = f\"\"\"\n",
    "        SELECT Ant.fragment, Ant.binding, Cnt.sample, Cnt.count\n",
    "        FROM   Annotation Ant\n",
    "        JOIN   Motif      Mtf ON Ant.binding  = Mtf.binding\n",
    "        JOIN   Count      Cnt ON Ant.fragment = Cnt.fragment\n",
    "        WHERE  Mtf.motif  = '{mtf}'    AND \n",
    "               Cnt.sample = '{sam}'\n",
    "       ;\"\"\"    \n",
    "    ### query out motif bindings on the fragment\n",
    "    query  = query_out\n",
    "    cursor = conn.cursor()\n",
    "    rows   = cursor.execute(query)\n",
    "    \n",
    "    print(query_out)\n",
    "    for row in it.islice(rows, 20):\n",
    "        print(row)"
   ]
  },
  {
   "cell_type": "code",
   "execution_count": 31,
   "id": "2a174cef",
   "metadata": {},
   "outputs": [
    {
     "name": "stdout",
     "output_type": "stream",
     "text": [
      "('binding',)\n",
      "('chrom',)\n",
      "('start',)\n",
      "('end',)\n",
      "('motif',)\n",
      "('score',)\n"
     ]
    }
   ],
   "source": [
    "with sqlite3.connect(fpath_db) as conn:\n",
    "    ### set query: query all motifs binding to a given fragment\n",
    "    query_out = f\"\"\"\n",
    "       SELECT name FROM pragma_table_info('Motif') \n",
    "        ;\"\"\"    \n",
    "\n",
    "    ### query out motif bindings on the fragment\n",
    "    query  = query_out\n",
    "    cursor = conn.cursor()\n",
    "    rows   = cursor.execute(query)\n",
    "\n",
    "for row in rows:\n",
    "    print(row)"
   ]
  },
  {
   "cell_type": "code",
   "execution_count": 36,
   "id": "36c9843f",
   "metadata": {},
   "outputs": [
    {
     "name": "stdout",
     "output_type": "stream",
     "text": [
      "\n",
      "        SELECT DISTINCT Mtf.motif\n",
      "        FROM     Motif Mtf\n",
      "       ;\n",
      "('ZNF140',)\n",
      "('ZNF667',)\n",
      "('Ebox/CAGCTG',)\n",
      "('GC-tract',)\n",
      "('PRDM4',)\n",
      "('NR/19',)\n",
      "('HEN1',)\n",
      "('ZNF680',)\n",
      "('SMARCA1',)\n",
      "('LEF1',)\n",
      "('ETS/1',)\n",
      "('NR/3',)\n",
      "('RFX/1',)\n",
      "('ZFX',)\n",
      "('NR/17',)\n",
      "('RUNX/1',)\n",
      "('KLF/SP/1',)\n",
      "('TBX/3',)\n",
      "('ZSCAN3',)\n",
      "('ZNF320',)\n",
      "# Motifs: 272\n"
     ]
    }
   ],
   "source": [
    "with sqlite3.connect(fpath_db) as conn:\n",
    "    ### set query: query all motifs binding to a given fragment\n",
    "    query_out = f\"\"\"\n",
    "        SELECT DISTINCT Mtf.motif\n",
    "        FROM     Motif Mtf\n",
    "       ;\"\"\"    \n",
    "    ### query out motif bindings on the fragment\n",
    "    query  = query_out\n",
    "    cursor = conn.cursor()\n",
    "    rows   = cursor.execute(query)\n",
    "    \n",
    "    print(query_out)\n",
    "    for row in it.islice(rows, 20):\n",
    "        print(row)\n",
    "    \n",
    "    rows = cursor.execute(query)\n",
    "    print(\"# Motifs:\", len(list(rows)))"
   ]
  },
  {
   "cell_type": "code",
   "execution_count": null,
   "id": "831fa30b",
   "metadata": {},
   "outputs": [],
   "source": []
  },
  {
   "cell_type": "code",
   "execution_count": null,
   "id": "1015f605",
   "metadata": {},
   "outputs": [],
   "source": [
    "def get_annot(frg, fpath_db=FPATH_DB, verbose=False):\n",
    "    ### parse fragment info\n",
    "    chrom, start, end = frg.split(\"_\")\n",
    "    \n",
    "    with sqlite3.connect(fpath_db) as conn:\n",
    "        ### set query: query all motifs binding to a given fragment\n",
    "        query_out = f\"\"\"\n",
    "            SELECT Ant.binding\n",
    "            FROM Annotation Ant\n",
    "            WHERE Ant.fragment = '{frg}'\n",
    "            ;\"\"\"    \n",
    "        \n",
    "        ### query out motif bindings on the fragment\n",
    "        query  = query_out\n",
    "        cursor = conn.cursor()\n",
    "        rows   = cursor.execute(query)\n",
    "    \n",
    "        ### set query: query the corresponding motif info of each annotation\n",
    "        fun  = lambda x, y: x + y\n",
    "        mtfs = list(rows)\n",
    "        mtfs = reduce(fun, mtfs)\n",
    "        txt  = ','.join('?' * len(mtfs))\n",
    "\n",
    "        query_out = f\"\"\"\n",
    "            SELECT Mtf.motif, Mtf.score\n",
    "            FROM Motif Mtf\n",
    "            WHERE Mtf.binding IN ({txt})\n",
    "            ;\"\"\"\n",
    "    \n",
    "        ### query out motif info\n",
    "        query  = query_out\n",
    "        cursor = conn.cursor()\n",
    "        rows   = cursor.execute(query, mtfs)\n",
    "    \n",
    "    ### summarize the motif scores\n",
    "    dct = defaultdict(lambda: 0)\n",
    "    for idx, row in enumerate(rows):\n",
    "        ### parse info\n",
    "        motif, score = row\n",
    "\n",
    "        ### sum the scores with same motifs\n",
    "        dct[motif] += score\n",
    "        \n",
    "    if verbose:\n",
    "        print(f\"Fragment: {frg}; # Bindings: {idx+1}; # Motifs: {len(dct)}\")\n",
    "    \n",
    "    return dct"
   ]
  }
 ],
 "metadata": {
  "kernelspec": {
   "display_name": "Python 3",
   "language": "python",
   "name": "python3"
  },
  "language_info": {
   "codemirror_mode": {
    "name": "ipython",
    "version": 3
   },
   "file_extension": ".py",
   "mimetype": "text/x-python",
   "name": "python",
   "nbconvert_exporter": "python",
   "pygments_lexer": "ipython3",
   "version": "3.7.6"
  }
 },
 "nbformat": 4,
 "nbformat_minor": 5
}
