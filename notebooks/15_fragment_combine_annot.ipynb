{
 "cells": [
  {
   "cell_type": "code",
   "execution_count": 1,
   "metadata": {},
   "outputs": [],
   "source": [
    "suppressMessages(suppressWarnings(source(\"config.R\")))"
   ]
  },
  {
   "cell_type": "markdown",
   "metadata": {},
   "source": [
    "```\n",
    "FD_ANN=/data/reddylab/Kuei/out/annotation\n",
    "FD_WRK=/data/reddylab/Kuei/out/CombEffect_STARR\n",
    "FD_DAT=($(ls -d ${FD_WRK}/data/Input/))\n",
    "CHROM=chr17\n",
    "ANNOT=GCR\n",
    "```"
   ]
  },
  {
   "cell_type": "code",
   "execution_count": 4,
   "metadata": {},
   "outputs": [
    {
     "data": {
      "text/html": [
       "<ol class=list-inline>\n",
       "\t<li>'ann_chr17_FOS.bed'</li>\n",
       "\t<li>'ann_chr17_GCR.bed'</li>\n",
       "\t<li>'ann_chr17_JUN.bed'</li>\n",
       "\t<li>'ann_chr17.bed'</li>\n",
       "\t<li>'chr17.bed'</li>\n",
       "\t<li>'cnt_chr17.bed'</li>\n",
       "\t<li>'cnt_chr17.txt'</li>\n",
       "</ol>\n"
      ],
      "text/latex": [
       "\\begin{enumerate*}\n",
       "\\item 'ann\\_chr17\\_FOS.bed'\n",
       "\\item 'ann\\_chr17\\_GCR.bed'\n",
       "\\item 'ann\\_chr17\\_JUN.bed'\n",
       "\\item 'ann\\_chr17.bed'\n",
       "\\item 'chr17.bed'\n",
       "\\item 'cnt\\_chr17.bed'\n",
       "\\item 'cnt\\_chr17.txt'\n",
       "\\end{enumerate*}\n"
      ],
      "text/markdown": [
       "1. 'ann_chr17_FOS.bed'\n",
       "2. 'ann_chr17_GCR.bed'\n",
       "3. 'ann_chr17_JUN.bed'\n",
       "4. 'ann_chr17.bed'\n",
       "5. 'chr17.bed'\n",
       "6. 'cnt_chr17.bed'\n",
       "7. 'cnt_chr17.txt'\n",
       "\n",
       "\n"
      ],
      "text/plain": [
       "[1] \"ann_chr17_FOS.bed\" \"ann_chr17_GCR.bed\" \"ann_chr17_JUN.bed\"\n",
       "[4] \"ann_chr17.bed\"     \"chr17.bed\"         \"cnt_chr17.bed\"    \n",
       "[7] \"cnt_chr17.txt\"    "
      ]
     },
     "metadata": {},
     "output_type": "display_data"
    }
   ],
   "source": [
    "fdiry=\"/data/reddylab/Kuei/out/CombEffect_STARR/data/Input\"\n",
    "dir(fdiry)"
   ]
  },
  {
   "cell_type": "code",
   "execution_count": 31,
   "metadata": {},
   "outputs": [
    {
     "name": "stdout",
     "output_type": "stream",
     "text": [
      "[1] \"/data/reddylab/Kuei/out/CombEffect_STARR/data/Input/ann_chr17_CREB1.bed\"\n",
      "[2] \"/data/reddylab/Kuei/out/CombEffect_STARR/data/Input/ann_chr17_FOS.bed\"  \n",
      "[3] \"/data/reddylab/Kuei/out/CombEffect_STARR/data/Input/ann_chr17_GCR.bed\"  \n",
      "[4] \"/data/reddylab/Kuei/out/CombEffect_STARR/data/Input/ann_chr17_JUN.bed\"  \n"
     ]
    }
   ],
   "source": [
    "fdiry=\"/data/reddylab/Kuei/out/CombEffect_STARR/data/Input/ann_*_*.bed\"\n",
    "fpath=Sys.glob(fdiry)\n",
    "print(fpath)"
   ]
  },
  {
   "cell_type": "code",
   "execution_count": 32,
   "metadata": {},
   "outputs": [
    {
     "name": "stderr",
     "output_type": "stream",
     "text": [
      "Parsed with column specification:\n",
      "cols(\n",
      "  X1 = col_character(),\n",
      "  X2 = col_double(),\n",
      "  X3 = col_double(),\n",
      "  X4 = col_double(),\n",
      "  X5 = col_character(),\n",
      "  X6 = col_double(),\n",
      "  X7 = col_double(),\n",
      "  X8 = col_double()\n",
      ")\n",
      "Parsed with column specification:\n",
      "cols(\n",
      "  X1 = col_character(),\n",
      "  X2 = col_double(),\n",
      "  X3 = col_double(),\n",
      "  X4 = col_double(),\n",
      "  X5 = col_character(),\n",
      "  X6 = col_double(),\n",
      "  X7 = col_double(),\n",
      "  X8 = col_double()\n",
      ")\n",
      "Parsed with column specification:\n",
      "cols(\n",
      "  X1 = col_character(),\n",
      "  X2 = col_double(),\n",
      "  X3 = col_double(),\n",
      "  X4 = col_double(),\n",
      "  X5 = col_character(),\n",
      "  X6 = col_double(),\n",
      "  X7 = col_double(),\n",
      "  X8 = col_double()\n",
      ")\n",
      "Parsed with column specification:\n",
      "cols(\n",
      "  X1 = col_character(),\n",
      "  X2 = col_double(),\n",
      "  X3 = col_double(),\n",
      "  X4 = col_double(),\n",
      "  X5 = col_character(),\n",
      "  X6 = col_double(),\n",
      "  X7 = col_double(),\n",
      "  X8 = col_double()\n",
      ")\n"
     ]
    }
   ],
   "source": [
    "dat1 = read_tsv(fpath[1], col_names=FALSE) %>% mutate(site=\"CREB1\")\n",
    "dat2 = read_tsv(fpath[2], col_names=FALSE) %>% mutate(site=\"FOS\")\n",
    "dat3 = read_tsv(fpath[3], col_names=FALSE) %>% mutate(site=\"GCR\")\n",
    "dat4 = read_tsv(fpath[4], col_names=FALSE) %>% mutate(site=\"JUN\")"
   ]
  },
  {
   "cell_type": "code",
   "execution_count": 33,
   "metadata": {},
   "outputs": [
    {
     "name": "stdout",
     "output_type": "stream",
     "text": [
      "[1] 492   9\n"
     ]
    },
    {
     "data": {
      "text/html": [
       "<table>\n",
       "<thead><tr><th scope=col>X1</th><th scope=col>X2</th><th scope=col>X3</th><th scope=col>X4</th><th scope=col>X5</th><th scope=col>X6</th><th scope=col>X7</th><th scope=col>X8</th><th scope=col>site</th></tr></thead>\n",
       "<tbody>\n",
       "\t<tr><td>chr17  </td><td>8151204</td><td>8152259</td><td>1      </td><td>chr17  </td><td>8152256</td><td>8153070</td><td> 3     </td><td>CREB1  </td></tr>\n",
       "\t<tr><td>chr17  </td><td>8151233</td><td>8152266</td><td>2      </td><td>chr17  </td><td>8152256</td><td>8153070</td><td>10     </td><td>CREB1  </td></tr>\n",
       "\t<tr><td>chr17  </td><td>8151239</td><td>8152260</td><td>1      </td><td>chr17  </td><td>8152256</td><td>8153070</td><td> 4     </td><td>CREB1  </td></tr>\n",
       "\t<tr><td>chr17  </td><td>8151239</td><td>8152261</td><td>1      </td><td>chr17  </td><td>8152256</td><td>8153070</td><td> 5     </td><td>CREB1  </td></tr>\n",
       "\t<tr><td>chr17  </td><td>8151252</td><td>8152321</td><td>1      </td><td>chr17  </td><td>8152256</td><td>8153070</td><td>65     </td><td>CREB1  </td></tr>\n",
       "\t<tr><td>chr17  </td><td>8151280</td><td>8152290</td><td>1      </td><td>chr17  </td><td>8152256</td><td>8153070</td><td>34     </td><td>CREB1  </td></tr>\n",
       "</tbody>\n",
       "</table>\n"
      ],
      "text/latex": [
       "\\begin{tabular}{r|lllllllll}\n",
       " X1 & X2 & X3 & X4 & X5 & X6 & X7 & X8 & site\\\\\n",
       "\\hline\n",
       "\t chr17   & 8151204 & 8152259 & 1       & chr17   & 8152256 & 8153070 &  3      & CREB1  \\\\\n",
       "\t chr17   & 8151233 & 8152266 & 2       & chr17   & 8152256 & 8153070 & 10      & CREB1  \\\\\n",
       "\t chr17   & 8151239 & 8152260 & 1       & chr17   & 8152256 & 8153070 &  4      & CREB1  \\\\\n",
       "\t chr17   & 8151239 & 8152261 & 1       & chr17   & 8152256 & 8153070 &  5      & CREB1  \\\\\n",
       "\t chr17   & 8151252 & 8152321 & 1       & chr17   & 8152256 & 8153070 & 65      & CREB1  \\\\\n",
       "\t chr17   & 8151280 & 8152290 & 1       & chr17   & 8152256 & 8153070 & 34      & CREB1  \\\\\n",
       "\\end{tabular}\n"
      ],
      "text/markdown": [
       "\n",
       "| X1 | X2 | X3 | X4 | X5 | X6 | X7 | X8 | site |\n",
       "|---|---|---|---|---|---|---|---|---|\n",
       "| chr17   | 8151204 | 8152259 | 1       | chr17   | 8152256 | 8153070 |  3      | CREB1   |\n",
       "| chr17   | 8151233 | 8152266 | 2       | chr17   | 8152256 | 8153070 | 10      | CREB1   |\n",
       "| chr17   | 8151239 | 8152260 | 1       | chr17   | 8152256 | 8153070 |  4      | CREB1   |\n",
       "| chr17   | 8151239 | 8152261 | 1       | chr17   | 8152256 | 8153070 |  5      | CREB1   |\n",
       "| chr17   | 8151252 | 8152321 | 1       | chr17   | 8152256 | 8153070 | 65      | CREB1   |\n",
       "| chr17   | 8151280 | 8152290 | 1       | chr17   | 8152256 | 8153070 | 34      | CREB1   |\n",
       "\n"
      ],
      "text/plain": [
       "  X1    X2      X3      X4 X5    X6      X7      X8 site \n",
       "1 chr17 8151204 8152259 1  chr17 8152256 8153070  3 CREB1\n",
       "2 chr17 8151233 8152266 2  chr17 8152256 8153070 10 CREB1\n",
       "3 chr17 8151239 8152260 1  chr17 8152256 8153070  4 CREB1\n",
       "4 chr17 8151239 8152261 1  chr17 8152256 8153070  5 CREB1\n",
       "5 chr17 8151252 8152321 1  chr17 8152256 8153070 65 CREB1\n",
       "6 chr17 8151280 8152290 1  chr17 8152256 8153070 34 CREB1"
      ]
     },
     "metadata": {},
     "output_type": "display_data"
    }
   ],
   "source": [
    "print(dim(dat1))\n",
    "head(dat1)"
   ]
  },
  {
   "cell_type": "code",
   "execution_count": 36,
   "metadata": {},
   "outputs": [],
   "source": [
    "dat1 = dat1 %>% dplyr::select(X1, X2, X3, site)\n",
    "dat2 = dat2 %>% dplyr::select(X1, X2, X3, site)\n",
    "dat3 = dat3 %>% dplyr::select(X1, X2, X3, site)\n",
    "dat4 = dat4 %>% dplyr::select(X1, X2, X3, site)"
   ]
  },
  {
   "cell_type": "code",
   "execution_count": 37,
   "metadata": {},
   "outputs": [
    {
     "data": {
      "text/html": [
       "<table>\n",
       "<thead><tr><th scope=col>X1</th><th scope=col>X2</th><th scope=col>X3</th><th scope=col>site.x</th><th scope=col>site.y</th><th scope=col>site.x.x</th><th scope=col>site.y.y</th></tr></thead>\n",
       "<tbody>\n",
       "\t<tr><td>chr17  </td><td>8151204</td><td>8152259</td><td>CREB1  </td><td>NA     </td><td>GCR    </td><td>NA     </td></tr>\n",
       "\t<tr><td>chr17  </td><td>8151204</td><td>8152259</td><td>CREB1  </td><td>NA     </td><td>GCR    </td><td>NA     </td></tr>\n",
       "\t<tr><td>chr17  </td><td>8151204</td><td>8152259</td><td>CREB1  </td><td>NA     </td><td>GCR    </td><td>NA     </td></tr>\n",
       "\t<tr><td>chr17  </td><td>8151233</td><td>8152266</td><td>CREB1  </td><td>NA     </td><td>GCR    </td><td>NA     </td></tr>\n",
       "\t<tr><td>chr17  </td><td>8151233</td><td>8152266</td><td>CREB1  </td><td>NA     </td><td>GCR    </td><td>NA     </td></tr>\n",
       "\t<tr><td>chr17  </td><td>8151233</td><td>8152266</td><td>CREB1  </td><td>NA     </td><td>GCR    </td><td>NA     </td></tr>\n",
       "</tbody>\n",
       "</table>\n"
      ],
      "text/latex": [
       "\\begin{tabular}{r|lllllll}\n",
       " X1 & X2 & X3 & site.x & site.y & site.x.x & site.y.y\\\\\n",
       "\\hline\n",
       "\t chr17   & 8151204 & 8152259 & CREB1   & NA      & GCR     & NA     \\\\\n",
       "\t chr17   & 8151204 & 8152259 & CREB1   & NA      & GCR     & NA     \\\\\n",
       "\t chr17   & 8151204 & 8152259 & CREB1   & NA      & GCR     & NA     \\\\\n",
       "\t chr17   & 8151233 & 8152266 & CREB1   & NA      & GCR     & NA     \\\\\n",
       "\t chr17   & 8151233 & 8152266 & CREB1   & NA      & GCR     & NA     \\\\\n",
       "\t chr17   & 8151233 & 8152266 & CREB1   & NA      & GCR     & NA     \\\\\n",
       "\\end{tabular}\n"
      ],
      "text/markdown": [
       "\n",
       "| X1 | X2 | X3 | site.x | site.y | site.x.x | site.y.y |\n",
       "|---|---|---|---|---|---|---|\n",
       "| chr17   | 8151204 | 8152259 | CREB1   | NA      | GCR     | NA      |\n",
       "| chr17   | 8151204 | 8152259 | CREB1   | NA      | GCR     | NA      |\n",
       "| chr17   | 8151204 | 8152259 | CREB1   | NA      | GCR     | NA      |\n",
       "| chr17   | 8151233 | 8152266 | CREB1   | NA      | GCR     | NA      |\n",
       "| chr17   | 8151233 | 8152266 | CREB1   | NA      | GCR     | NA      |\n",
       "| chr17   | 8151233 | 8152266 | CREB1   | NA      | GCR     | NA      |\n",
       "\n"
      ],
      "text/plain": [
       "  X1    X2      X3      site.x site.y site.x.x site.y.y\n",
       "1 chr17 8151204 8152259 CREB1  NA     GCR      NA      \n",
       "2 chr17 8151204 8152259 CREB1  NA     GCR      NA      \n",
       "3 chr17 8151204 8152259 CREB1  NA     GCR      NA      \n",
       "4 chr17 8151233 8152266 CREB1  NA     GCR      NA      \n",
       "5 chr17 8151233 8152266 CREB1  NA     GCR      NA      \n",
       "6 chr17 8151233 8152266 CREB1  NA     GCR      NA      "
      ]
     },
     "metadata": {},
     "output_type": "display_data"
    }
   ],
   "source": [
    "dat = dat1 %>% \n",
    "    dplyr::full_join(dat2, by=c(\"X1\", \"X2\", \"X3\")) %>% \n",
    "    dplyr::full_join(dat3, by=c(\"X1\", \"X2\", \"X3\")) %>%\n",
    "    dplyr::full_join(dat4, by=c(\"X1\", \"X2\", \"X3\"))\n",
    "head(dat)"
   ]
  },
  {
   "cell_type": "code",
   "execution_count": 38,
   "metadata": {},
   "outputs": [
    {
     "data": {
      "text/html": [
       "<table>\n",
       "<thead><tr><th scope=col>X1</th><th scope=col>X2</th><th scope=col>X3</th><th scope=col>site.x</th><th scope=col>site.y</th><th scope=col>site.x.x</th><th scope=col>site.y.y</th></tr></thead>\n",
       "<tbody>\n",
       "</tbody>\n",
       "</table>\n"
      ],
      "text/latex": [
       "\\begin{tabular}{r|lllllll}\n",
       " X1 & X2 & X3 & site.x & site.y & site.x.x & site.y.y\\\\\n",
       "\\hline\n",
       "\\end{tabular}\n"
      ],
      "text/markdown": [
       "\n",
       "| X1 | X2 | X3 | site.x | site.y | site.x.x | site.y.y |\n",
       "|---|---|---|---|---|---|---|\n",
       "\n"
      ],
      "text/plain": [
       "     X1 X2 X3 site.x site.y site.x.x site.y.y"
      ]
     },
     "metadata": {},
     "output_type": "display_data"
    }
   ],
   "source": [
    "na.omit(dat)"
   ]
  },
  {
   "cell_type": "code",
   "execution_count": 39,
   "metadata": {},
   "outputs": [
    {
     "ename": "ERROR",
     "evalue": "Error: Can't subset columns that don't exist.\n✖ Column `site` doesn't exist.\n",
     "output_type": "error",
     "traceback": [
      "Error: Can't subset columns that don't exist.\n✖ Column `site` doesn't exist.\nTraceback:\n",
      "1. dat %>% unite(site, site.x, site.y, site, sep = \"|\", na.rm = TRUE)",
      "2. withVisible(eval(quote(`_fseq`(`_lhs`)), env, env))",
      "3. eval(quote(`_fseq`(`_lhs`)), env, env)",
      "4. eval(quote(`_fseq`(`_lhs`)), env, env)",
      "5. `_fseq`(`_lhs`)",
      "6. freduce(value, `_function_list`)",
      "7. withVisible(function_list[[k]](value))",
      "8. function_list[[k]](value)",
      "9. unite(., site, site.x, site.y, site, sep = \"|\", na.rm = TRUE)",
      "10. unite.data.frame(., site, site.x, site.y, site, sep = \"|\", na.rm = TRUE)",
      "11. tidyselect::vars_select(tbl_vars(data), ...)",
      "12. eval_select_impl(NULL, .vars, expr(c(!!!dots)), include = .include, \n  .     exclude = .exclude, strict = .strict, name_spec = unique_name_spec, \n  .     uniquely_named = TRUE)",
      "13. with_subscript_errors(vars_select_eval(vars, expr, strict, data = x, \n  .     name_spec = name_spec, uniquely_named = uniquely_named, allow_rename = allow_rename, \n  .     type = type), type = type)",
      "14. tryCatch(instrument_base_errors(expr), vctrs_error_subscript = function(cnd) {\n  .     cnd$subscript_action <- subscript_action(type)\n  .     cnd$subscript_elt <- \"column\"\n  .     cnd_signal(cnd)\n  . })",
      "15. tryCatchList(expr, classes, parentenv, handlers)",
      "16. tryCatchOne(expr, names, parentenv, handlers[[1L]])",
      "17. value[[3L]](cond)",
      "18. cnd_signal(cnd)",
      "19. rlang:::signal_abort(x)"
     ]
    }
   ],
   "source": [
    "dat %>% unite(site, site.x, site.y, site, sep=\"|\", na.rm=TRUE)"
   ]
  },
  {
   "cell_type": "code",
   "execution_count": null,
   "metadata": {},
   "outputs": [],
   "source": []
  }
 ],
 "metadata": {
  "kernelspec": {
   "display_name": "R",
   "language": "R",
   "name": "ir"
  },
  "language_info": {
   "codemirror_mode": "r",
   "file_extension": ".r",
   "mimetype": "text/x-r-source",
   "name": "R",
   "pygments_lexer": "r",
   "version": "3.6.1"
  }
 },
 "nbformat": 4,
 "nbformat_minor": 4
}
