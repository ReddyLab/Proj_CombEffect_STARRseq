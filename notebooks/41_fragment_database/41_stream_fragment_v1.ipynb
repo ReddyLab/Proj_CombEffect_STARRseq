{
 "cells": [
  {
   "cell_type": "code",
   "execution_count": 3,
   "metadata": {},
   "outputs": [
    {
     "name": "stdout",
     "output_type": "stream",
     "text": [
      "You are on Duke Server: Singularity: Proj CombEffect\n",
      "BASE DIRECTORY:     /mount/work\n",
      "PATH OF SOURCE:     /mount/work/source\n",
      "PATH OF EXECUTABLE: /mount/work/exe\n",
      "PATH OF ANNOTATION: /mount/work/annotation\n",
      "PATH OF PROJECT:    /mount/project\n",
      "PATH OF RESULTS:    /mount/work/out/proj_combeffect\n"
     ]
    }
   ],
   "source": [
    "import sys\n",
    "sys.path.append('../')\n",
    "from config_sing import *"
   ]
  },
  {
   "cell_type": "code",
   "execution_count": 4,
   "metadata": {},
   "outputs": [],
   "source": [
    "import sqlite3\n",
    "import itertools as it\n",
    "from collections import defaultdict\n",
    "from sklearn.manifold import TSNE"
   ]
  },
  {
   "cell_type": "markdown",
   "metadata": {},
   "source": [
    "SAMPLE\n",
    "- sample    TEXT PRIMARY KEY, \n",
    "- treatment TEXT,\n",
    "- size      INTEGER\n",
    "\n",
    "Motif\n",
    "- binding TEXT PRIMARY KEY, \n",
    "- chrom   TEXT,\n",
    "- start   INTEGER,\n",
    "- end     INTEGER,\n",
    "- motif   TEXT,\n",
    "- score   REAL\n",
    "\n",
    "Fragment(\n",
    "- fragment TEXT PRIMARY KEY, \n",
    "- chrom    TEXT,\n",
    "- start    INTEGER,\n",
    "- end      INTEGER,\n",
    "- pct_at   REAL,\n",
    "- pct_gc   REAL,\n",
    "- num_A    INTEGER,\n",
    "- num_C    INTEGER,\n",
    "- num_G    INTEGER,\n",
    "- num_T    INTEGER,\n",
    "- num_N    INTEGER,\n",
    "- num_oth  INTEGER\n",
    "    \n",
    "Annotation\n",
    "- fragment TEXT, \n",
    "- binding  TEXT,\n",
    "- score    REAL,\n",
    "- FOREIGN KEY (fragment) REFERENCES Fragment (fragment),\n",
    "- FOREIGN KEY (binding)  REFERENCES Motif    (binding)"
   ]
  },
  {
   "cell_type": "markdown",
   "metadata": {},
   "source": [
    "### Given a sample, output some fragments"
   ]
  },
  {
   "cell_type": "code",
   "execution_count": 33,
   "metadata": {},
   "outputs": [],
   "source": [
    "query_out = \"\"\"SELECT c.fragment, c.sample, c.count FROM Count c\n",
    "WHERE c.sample = 'Input1' LIMIT 10\n",
    "\"\"\""
   ]
  },
  {
   "cell_type": "code",
   "execution_count": 35,
   "metadata": {},
   "outputs": [
    {
     "name": "stdout",
     "output_type": "stream",
     "text": [
      "('chr17_8148117_8149012', 'Input1', 1)\n",
      "('chr17_8148122_8149107', 'Input1', 1)\n",
      "('chr17_8148178_8149194', 'Input1', 1)\n",
      "('chr17_8148188_8149154', 'Input1', 1)\n",
      "('chr17_8148190_8149151', 'Input1', 1)\n",
      "('chr17_8148220_8149108', 'Input1', 1)\n",
      "('chr17_8148280_8149232', 'Input1', 1)\n",
      "('chr17_8148401_8149372', 'Input1', 1)\n",
      "('chr17_8148548_8149585', 'Input1', 1)\n",
      "('chr17_8148913_8149953', 'Input1', 1)\n"
     ]
    }
   ],
   "source": [
    "fdiry = os.path.join(FD_RES, 'database')\n",
    "fname = \"fragment.db\"\n",
    "fpath_db = os.path.join(fdiry, fname)\n",
    "\n",
    "with sqlite3.connect(fpath_db) as conn:\n",
    "    query  = query_out\n",
    "    cursor = conn.cursor()\n",
    "    result = cursor.execute(query)\n",
    "    \n",
    "    #row = cursor.fetchone()\n",
    "    #print(row)\n",
    "    #rows = cursor.fetchall()\n",
    "    #print(len(rows))\n",
    "    \n",
    "    for idx, row in enumerate(result):\n",
    "        ### parse data\n",
    "        #frag, sam, count, score = row\n",
    "        print(row)"
   ]
  },
  {
   "cell_type": "markdown",
   "metadata": {},
   "source": [
    "### Given a single fragment, get all the motif bindings"
   ]
  },
  {
   "cell_type": "code",
   "execution_count": 48,
   "metadata": {},
   "outputs": [],
   "source": [
    "frag = 'chr17_8148117_8149012'"
   ]
  },
  {
   "cell_type": "code",
   "execution_count": 49,
   "metadata": {},
   "outputs": [],
   "source": [
    "query_out = (f\"\"\"SELECT a.fragment, m.chrom, m.start, m.end, m.motif, m.score\n",
    "FROM Annotation a\n",
    "JOIN Motif      m ON a.binding = m.binding\n",
    "WHERE a.fragment = '{frag}'\n",
    ";\"\"\")"
   ]
  },
  {
   "cell_type": "code",
   "execution_count": 50,
   "metadata": {},
   "outputs": [
    {
     "name": "stdout",
     "output_type": "stream",
     "text": [
      "SELECT a.fragment, m.chrom, m.start, m.end, m.motif, m.score\n",
      "FROM Annotation a\n",
      "JOIN Motif      m ON a.binding = m.binding\n",
      "WHERE a.fragment = 'chr17_8148117_8149012'\n",
      ";\n"
     ]
    }
   ],
   "source": [
    "print(query_out)"
   ]
  },
  {
   "cell_type": "code",
   "execution_count": 52,
   "metadata": {},
   "outputs": [
    {
     "name": "stdout",
     "output_type": "stream",
     "text": [
      "1060\n"
     ]
    }
   ],
   "source": [
    "fdiry = os.path.join(FD_RES, 'database')\n",
    "fname = \"fragment.db\"\n",
    "fpath_db = os.path.join(fdiry, fname)\n",
    "\n",
    "with sqlite3.connect(fpath_db) as conn:\n",
    "    query  = query_out\n",
    "    cursor = conn.cursor()\n",
    "    cursor.execute(query)\n",
    "    \n",
    "    #row = cursor.fetchone()\n",
    "    #print(row)\n",
    "    \n",
    "    rows = cursor.fetchall()\n",
    "    print(len(rows))"
   ]
  },
  {
   "cell_type": "code",
   "execution_count": 53,
   "metadata": {},
   "outputs": [
    {
     "data": {
      "text/plain": [
       "[('chr17_8148117_8149012', 'chr17', 8148123, 8148133, 'GLI', 7.4318),\n",
       " ('chr17_8148117_8149012', 'chr17', 8148124, 8148139, 'NR/17', 7.8649),\n",
       " ('chr17_8148117_8149012', 'chr17', 8148126, 8148137, 'KLF/SP/1', 11.3678),\n",
       " ('chr17_8148117_8149012', 'chr17', 8148129, 8148147, 'REST/NRSF', 4.8708),\n",
       " ('chr17_8148117_8149012', 'chr17', 8148132, 8148142, 'CREB/ATF/2', 7.1033)]"
      ]
     },
     "execution_count": 53,
     "metadata": {},
     "output_type": "execute_result"
    }
   ],
   "source": [
    "rows[:5]"
   ]
  },
  {
   "cell_type": "code",
   "execution_count": 54,
   "metadata": {},
   "outputs": [
    {
     "data": {
      "text/plain": [
       "[('chr17_8148117_8149012', 'chr17', 8148973, 8148987, 'NR/3', 7.3343),\n",
       " ('chr17_8148117_8149012', 'chr17', 8148974, 8148991, 'PAX/2', 9.4711),\n",
       " ('chr17_8148117_8149012', 'chr17', 8148980, 8148991, 'ZNF524', 6.8894),\n",
       " ('chr17_8148117_8149012', 'chr17', 8148988, 8149000, 'GRHL', 8.856),\n",
       " ('chr17_8148117_8149012', 'chr17', 8149001, 8149012, 'YY1', 6.9956)]"
      ]
     },
     "execution_count": 54,
     "metadata": {},
     "output_type": "execute_result"
    }
   ],
   "source": [
    "rows[-5:]"
   ]
  },
  {
   "cell_type": "code",
   "execution_count": 60,
   "metadata": {},
   "outputs": [
    {
     "data": {
      "text/plain": [
       "5.0"
      ]
     },
     "execution_count": 60,
     "metadata": {},
     "output_type": "execute_result"
    }
   ],
   "source": [
    "1060/212"
   ]
  },
  {
   "cell_type": "code",
   "execution_count": 55,
   "metadata": {},
   "outputs": [
    {
     "data": {
      "text/plain": [
       "1060"
      ]
     },
     "execution_count": 55,
     "metadata": {},
     "output_type": "execute_result"
    }
   ],
   "source": [
    "len(rows)"
   ]
  },
  {
   "cell_type": "code",
   "execution_count": 56,
   "metadata": {},
   "outputs": [
    {
     "data": {
      "text/plain": [
       "212"
      ]
     },
     "execution_count": 56,
     "metadata": {},
     "output_type": "execute_result"
    }
   ],
   "source": [
    "len(set(rows))"
   ]
  },
  {
   "cell_type": "code",
   "execution_count": 58,
   "metadata": {},
   "outputs": [
    {
     "data": {
      "text/plain": [
       "[('chr17_8148117_8149012', 'chr17', 8148970, 8148980, 'CREB/ATF/1', 8.2749),\n",
       " ('chr17_8148117_8149012', 'chr17', 8148973, 8148987, 'NR/13', 9.3427),\n",
       " ('chr17_8148117_8149012', 'chr17', 8148973, 8148987, 'NR/3', 7.3343),\n",
       " ('chr17_8148117_8149012', 'chr17', 8148974, 8148991, 'PAX/2', 9.4711),\n",
       " ('chr17_8148117_8149012', 'chr17', 8148980, 8148991, 'ZNF524', 6.8894),\n",
       " ('chr17_8148117_8149012', 'chr17', 8148988, 8149000, 'GRHL', 8.856),\n",
       " ('chr17_8148117_8149012', 'chr17', 8149001, 8149012, 'YY1', 6.9956)]"
      ]
     },
     "execution_count": 58,
     "metadata": {},
     "output_type": "execute_result"
    }
   ],
   "source": [
    "rows[205:212]"
   ]
  },
  {
   "cell_type": "code",
   "execution_count": 59,
   "metadata": {},
   "outputs": [
    {
     "data": {
      "text/plain": [
       "[('chr17_8148117_8149012', 'chr17', 8148123, 8148133, 'GLI', 7.4318),\n",
       " ('chr17_8148117_8149012', 'chr17', 8148124, 8148139, 'NR/17', 7.8649),\n",
       " ('chr17_8148117_8149012', 'chr17', 8148126, 8148137, 'KLF/SP/1', 11.3678),\n",
       " ('chr17_8148117_8149012', 'chr17', 8148129, 8148147, 'REST/NRSF', 4.8708),\n",
       " ('chr17_8148117_8149012', 'chr17', 8148132, 8148142, 'CREB/ATF/2', 7.1033),\n",
       " ('chr17_8148117_8149012', 'chr17', 8148132, 8148142, 'CREB/ATF/3', 7.017),\n",
       " ('chr17_8148117_8149012', 'chr17', 8148133, 8148142, 'CREB/ATF/1', 7.7524)]"
      ]
     },
     "execution_count": 59,
     "metadata": {},
     "output_type": "execute_result"
    }
   ],
   "source": [
    "rows[212:219]"
   ]
  },
  {
   "cell_type": "code",
   "execution_count": 70,
   "metadata": {},
   "outputs": [
    {
     "data": {
      "text/plain": [
       "(102, 1)"
      ]
     },
     "execution_count": 70,
     "metadata": {},
     "output_type": "execute_result"
    }
   ],
   "source": [
    "cnames = [\"Fragment\", \"Motif\", \"Score\"]\n",
    "ctypes = [np.str, np.str, np.float]\n",
    "dat = pd.DataFrame(rows, columns=cnames).astype({k:v for k, v in zip(cnames, ctypes)})\n",
    "dat = dat.groupby('Motif').sum()\n",
    "dat.shape"
   ]
  },
  {
   "cell_type": "code",
   "execution_count": 32,
   "metadata": {},
   "outputs": [
    {
     "data": {
      "text/plain": [
       "{'CREB/ATF/1': 7.7524,\n",
       " 'CREB/ATF/2': 7.1033,\n",
       " 'CREB/ATF/3': 7.017,\n",
       " 'GLI': 7.4318,\n",
       " 'KLF/SP/1': 11.3678,\n",
       " 'KLF/SP/2': 7.6693,\n",
       " 'NR/17': 7.8649,\n",
       " 'NR/3': 8.8725,\n",
       " 'REST/NRSF': 4.8708,\n",
       " 'ZNF324': 10.1365}"
      ]
     },
     "execution_count": 32,
     "metadata": {},
     "output_type": "execute_result"
    }
   ],
   "source": [
    "dat.groupby('Motif').sum().Score.to_dict()"
   ]
  },
  {
   "cell_type": "markdown",
   "metadata": {},
   "source": [
    "**Test another way to query**"
   ]
  },
  {
   "cell_type": "code",
   "execution_count": 29,
   "metadata": {},
   "outputs": [],
   "source": [
    "frag = 'chr17_8148117_8149012'\n",
    "chrom, start, end = frag.split(\"_\")"
   ]
  },
  {
   "cell_type": "code",
   "execution_count": 44,
   "metadata": {},
   "outputs": [
    {
     "name": "stdout",
     "output_type": "stream",
     "text": [
      "SELECT m.chrom, m.start, m.end, m.motif, m.score\n",
      "FROM Motif m\n",
      "WHERE m.start >= 8148117 AND m.end <= 8149012\n",
      ";\n"
     ]
    }
   ],
   "source": [
    "query_out = (f\"\"\"SELECT m.chrom, m.start, m.end, m.motif, m.score\n",
    "FROM Motif m\n",
    "WHERE m.start >= {start} AND m.end <= {end}\n",
    ";\"\"\")\n",
    "print(query_out)"
   ]
  },
  {
   "cell_type": "code",
   "execution_count": 45,
   "metadata": {},
   "outputs": [
    {
     "name": "stdout",
     "output_type": "stream",
     "text": [
      "212\n"
     ]
    }
   ],
   "source": [
    "fdiry = os.path.join(FD_RES, 'database')\n",
    "fname = \"fragment.db\"\n",
    "fpath_db = os.path.join(fdiry, fname)\n",
    "\n",
    "with sqlite3.connect(fpath_db) as conn:\n",
    "    query  = query_out\n",
    "    cursor = conn.cursor()\n",
    "    cursor.execute(query)\n",
    "    \n",
    "    #row = cursor.fetchone()\n",
    "    #print(row)\n",
    "    \n",
    "    rows = cursor.fetchall()\n",
    "    print(len(rows))"
   ]
  },
  {
   "cell_type": "code",
   "execution_count": 46,
   "metadata": {},
   "outputs": [
    {
     "data": {
      "text/plain": [
       "[('chr17', 8148123, 8148133, 'GLI', 7.4318),\n",
       " ('chr17', 8148124, 8148139, 'NR/17', 7.8649),\n",
       " ('chr17', 8148126, 8148137, 'KLF/SP/1', 11.3678),\n",
       " ('chr17', 8148129, 8148147, 'REST/NRSF', 4.8708),\n",
       " ('chr17', 8148132, 8148142, 'CREB/ATF/2', 7.1033)]"
      ]
     },
     "execution_count": 46,
     "metadata": {},
     "output_type": "execute_result"
    }
   ],
   "source": [
    "rows[:5]"
   ]
  },
  {
   "cell_type": "code",
   "execution_count": 47,
   "metadata": {},
   "outputs": [
    {
     "data": {
      "text/plain": [
       "[('chr17', 8148973, 8148987, 'NR/3', 7.3343),\n",
       " ('chr17', 8148974, 8148991, 'PAX/2', 9.4711),\n",
       " ('chr17', 8148980, 8148991, 'ZNF524', 6.8894),\n",
       " ('chr17', 8148988, 8149000, 'GRHL', 8.856),\n",
       " ('chr17', 8149001, 8149012, 'YY1', 6.9956)]"
      ]
     },
     "execution_count": 47,
     "metadata": {},
     "output_type": "execute_result"
    }
   ],
   "source": [
    "rows[-5:]"
   ]
  },
  {
   "cell_type": "code",
   "execution_count": null,
   "metadata": {},
   "outputs": [],
   "source": []
  },
  {
   "cell_type": "code",
   "execution_count": 35,
   "metadata": {},
   "outputs": [],
   "source": [
    "query_out = (f\"\"\"SELECT a.fragment, a.binding\n",
    "FROM Annotation a\n",
    "WHERE a.fragment = '{frag}'\n",
    ";\"\"\")"
   ]
  },
  {
   "cell_type": "code",
   "execution_count": 36,
   "metadata": {},
   "outputs": [
    {
     "name": "stdout",
     "output_type": "stream",
     "text": [
      "1060\n"
     ]
    }
   ],
   "source": [
    "fdiry = os.path.join(FD_RES, 'database')\n",
    "fname = \"fragment.db\"\n",
    "fpath_db = os.path.join(fdiry, fname)\n",
    "\n",
    "with sqlite3.connect(fpath_db) as conn:\n",
    "    query  = query_out\n",
    "    cursor = conn.cursor()\n",
    "    cursor.execute(query)\n",
    "    \n",
    "    #row = cursor.fetchone()\n",
    "    #print(row)\n",
    "    \n",
    "    rows = cursor.fetchall()\n",
    "    print(len(rows))"
   ]
  },
  {
   "cell_type": "code",
   "execution_count": 37,
   "metadata": {},
   "outputs": [
    {
     "data": {
      "text/plain": [
       "[('chr17_8148117_8149012', 'chr17_8148123_8148133_GLI'),\n",
       " ('chr17_8148117_8149012', 'chr17_8148124_8148139_NR/17'),\n",
       " ('chr17_8148117_8149012', 'chr17_8148126_8148137_KLF/SP/1'),\n",
       " ('chr17_8148117_8149012', 'chr17_8148129_8148147_REST/NRSF'),\n",
       " ('chr17_8148117_8149012', 'chr17_8148132_8148142_CREB/ATF/2')]"
      ]
     },
     "execution_count": 37,
     "metadata": {},
     "output_type": "execute_result"
    }
   ],
   "source": [
    "rows[:5]"
   ]
  },
  {
   "cell_type": "code",
   "execution_count": null,
   "metadata": {},
   "outputs": [],
   "source": []
  },
  {
   "cell_type": "markdown",
   "metadata": {},
   "source": [
    "### Given multiple fragments, get annotation table"
   ]
  },
  {
   "cell_type": "code",
   "execution_count": 99,
   "metadata": {},
   "outputs": [],
   "source": [
    "def gen_frag(sample):\n",
    "    ### set query\n",
    "    query_out = f\"\"\"\n",
    "        SELECT c.fragment, f.start, f.end, f.pct_gc FROM Count c\n",
    "        JOIN   Fragment f ON c.fragment = f.fragment\n",
    "        WHERE  c.sample = '{sample}'\n",
    "        \"\"\"\n",
    "    \n",
    "    ### file path of database\n",
    "    fdiry = os.path.join(FD_RES, 'database')\n",
    "    fname = \"fragment.db\"\n",
    "    fpath_db = os.path.join(fdiry, fname)\n",
    "\n",
    "    ### query out fragments from the sample\n",
    "    with sqlite3.connect(fpath_db) as conn:\n",
    "        query  = query_out\n",
    "        cursor = conn.cursor()\n",
    "        rows   = cursor.execute(query)\n",
    "        for row in rows:\n",
    "            frag, start, end, pct_gc = row\n",
    "            yield (frag, end-start, pct_gc)"
   ]
  },
  {
   "cell_type": "code",
   "execution_count": 98,
   "metadata": {},
   "outputs": [],
   "source": [
    "def get_annot(frag):\n",
    "    ### set query\n",
    "    query_out = f\"\"\"\n",
    "        SELECT a.fragment, m.motif, m.score\n",
    "        FROM Annotation a\n",
    "        JOIN Motif      m ON a.binding = m.binding\n",
    "        WHERE a.fragment = '{frag}'\n",
    "        ;\"\"\"\n",
    "    \n",
    "    ### file path of database\n",
    "    fdiry = os.path.join(FD_RES, 'database')\n",
    "    fname = \"fragment.db\"\n",
    "    fpath_db = os.path.join(fdiry, fname)\n",
    "\n",
    "    ### query out motif bindings on the fragment\n",
    "    dct = defaultdict(lambda: 0)\n",
    "    with sqlite3.connect(fpath_db) as conn:\n",
    "        query  = query_out\n",
    "        cursor = conn.cursor()\n",
    "        rows   = cursor.execute(query)\n",
    "        \n",
    "        for row in rows:\n",
    "            ### parse info\n",
    "            frag, motif, score = row\n",
    "            \n",
    "            ### sum the scores with same motifs\n",
    "            dct[motif] += score\n",
    "            \n",
    "    return dct"
   ]
  },
  {
   "cell_type": "code",
   "execution_count": 102,
   "metadata": {},
   "outputs": [
    {
     "name": "stdout",
     "output_type": "stream",
     "text": [
      "('chr17_8148117_8149012', 895, 0.576536)\n",
      "('chr17_8148122_8149107', 985, 0.571574)\n",
      "('chr17_8148178_8149194', 1016, 0.568898)\n",
      "('chr17_8148188_8149154', 966, 0.572464)\n",
      "('chr17_8148190_8149151', 961, 0.572321)\n"
     ]
    }
   ],
   "source": [
    "N   = 5\n",
    "gen = gen_frag(\"Input1\")\n",
    "gen = it.islice(gen, N)\n",
    "for row in gen:\n",
    "    print(row)"
   ]
  },
  {
   "cell_type": "code",
   "execution_count": 103,
   "metadata": {},
   "outputs": [
    {
     "name": "stdout",
     "output_type": "stream",
     "text": [
      "100\n"
     ]
    }
   ],
   "source": [
    "N   = 100\n",
    "gen = gen_frag(\"Input1\")\n",
    "gen = it.islice(gen, N)\n",
    "tmp = list(gen)\n",
    "print(len(tmp))"
   ]
  },
  {
   "cell_type": "code",
   "execution_count": 105,
   "metadata": {},
   "outputs": [
    {
     "name": "stdout",
     "output_type": "stream",
     "text": [
      "('chr17_8148117_8149012', 895, 0.576536) 102\n",
      "('chr17_8148122_8149107', 985, 0.571574) 110\n",
      "('chr17_8148178_8149194', 1016, 0.568898) 111\n",
      "('chr17_8148188_8149154', 966, 0.572464) 106\n",
      "('chr17_8148190_8149151', 961, 0.572321) 106\n"
     ]
    }
   ],
   "source": [
    "N   = 5\n",
    "gen = gen_frag(\"Input1\")\n",
    "gen = it.islice(gen, N)\n",
    "lst = list()\n",
    "\n",
    "for row in gen:\n",
    "    frag, length, pct_gc = row\n",
    "    dct = get_annot(frag)\n",
    "    lst.append(dct)\n",
    "    print(row, len(dct))"
   ]
  },
  {
   "cell_type": "code",
   "execution_count": 108,
   "metadata": {},
   "outputs": [
    {
     "data": {
      "text/plain": [
       "(5, 115)"
      ]
     },
     "execution_count": 108,
     "metadata": {},
     "output_type": "execute_result"
    }
   ],
   "source": [
    "dat = pd.DataFrame(lst).fillna(0)\n",
    "dat.shape"
   ]
  },
  {
   "cell_type": "code",
   "execution_count": null,
   "metadata": {},
   "outputs": [],
   "source": []
  },
  {
   "cell_type": "code",
   "execution_count": 109,
   "metadata": {},
   "outputs": [
    {
     "name": "stdout",
     "output_type": "stream",
     "text": [
      "('chr17_8148117_8149012', 895, 0.576536) 102\n",
      "('chr17_8148122_8149107', 985, 0.571574) 110\n",
      "('chr17_8148178_8149194', 1016, 0.568898) 111\n",
      "('chr17_8148188_8149154', 966, 0.572464) 106\n",
      "('chr17_8148190_8149151', 961, 0.572321) 106\n",
      "('chr17_8148220_8149108', 888, 0.566441) 102\n",
      "('chr17_8148280_8149232', 952, 0.556723) 110\n",
      "('chr17_8148401_8149372', 971, 0.549949) 115\n",
      "('chr17_8148548_8149585', 1037, 0.584378) 126\n",
      "('chr17_8148913_8149953', 1040, 0.585577) 122\n",
      "('chr17_8149040_8149982', 942, 0.591295) 113\n",
      "('chr17_8149115_8150060', 945, 0.6) 117\n",
      "('chr17_8149204_8150156', 952, 0.59979) 121\n",
      "('chr17_8149218_8150168', 950, 0.605263) 118\n",
      "('chr17_8149267_8150180', 913, 0.608981) 115\n",
      "('chr17_8149351_8150361', 1010, 0.612871) 115\n",
      "('chr17_8149418_8150427', 1009, 0.612488) 110\n",
      "('chr17_8149468_8150589', 1121, 0.606601) 113\n",
      "('chr17_8149606_8150634', 1028, 0.607004) 106\n",
      "('chr17_8149661_8150552', 891, 0.603816) 99\n",
      "('chr17_8149759_8150629', 870, 0.605747) 98\n",
      "('chr17_8149760_8150629', 869, 0.606444) 98\n",
      "('chr17_8149776_8150701', 925, 0.615135) 104\n",
      "('chr17_8149807_8150828', 1021, 0.612145) 109\n",
      "('chr17_8149867_8150835', 968, 0.612603) 106\n",
      "('chr17_8149892_8150882', 990, 0.611111) 106\n",
      "('chr17_8149982_8150963', 981, 0.609582) 100\n",
      "('chr17_8149999_8150959', 960, 0.609375) 100\n",
      "('chr17_8150002_8150977', 975, 0.613333) 101\n",
      "('chr17_8150062_8151047', 985, 0.605076) 99\n",
      "('chr17_8150087_8151099', 1012, 0.606719) 103\n",
      "('chr17_8150097_8151053', 956, 0.608787) 99\n",
      "('chr17_8150098_8151111', 1013, 0.605133) 103\n",
      "('chr17_8150134_8151015', 881, 0.602724) 96\n",
      "('chr17_8150143_8151082', 939, 0.605964) 102\n",
      "('chr17_8150166_8151054', 888, 0.612613) 96\n",
      "('chr17_8150170_8151089', 919, 0.611534) 101\n",
      "('chr17_8150171_8151112', 941, 0.607864) 101\n",
      "('chr17_8150329_8151343', 1014, 0.615385) 117\n",
      "('chr17_8150402_8151376', 974, 0.620123) 111\n",
      "('chr17_8150410_8151356', 946, 0.617336) 110\n",
      "('chr17_8150421_8151368', 947, 0.621964) 111\n",
      "('chr17_8150585_8151628', 1043, 0.636625) 112\n",
      "('chr17_8150681_8151651', 970, 0.62268) 111\n",
      "('chr17_8150924_8151934', 1010, 0.621782) 115\n",
      "('chr17_8150967_8152017', 1050, 0.620952) 119\n",
      "('chr17_8151036_8151950', 914, 0.617068) 113\n",
      "('chr17_8151038_8152053', 1015, 0.62266) 120\n",
      "('chr17_8151125_8152088', 963, 0.628245) 118\n",
      "('chr17_8151181_8152112', 931, 0.632653) 114\n",
      "('chr17_8151181_8152213', 1032, 0.629845) 119\n",
      "('chr17_8151208_8152084', 876, 0.631279) 112\n",
      "('chr17_8151375_8152364', 989, 0.622851) 109\n",
      "('chr17_8151391_8152431', 1040, 0.630769) 116\n",
      "('chr17_8151403_8152302', 899, 0.615128) 103\n",
      "('chr17_8151414_8152536', 1122, 0.635472) 120\n",
      "('chr17_8151422_8152318', 896, 0.613839) 102\n",
      "('chr17_8151517_8152458', 941, 0.626993) 109\n",
      "('chr17_8151525_8152432', 907, 0.628445) 103\n",
      "('chr17_8151570_8152513', 943, 0.634146) 109\n",
      "('chr17_8151571_8152513', 942, 0.633758) 108\n",
      "('chr17_8151583_8152453', 870, 0.627586) 104\n",
      "('chr17_8151605_8152607', 1002, 0.633733) 116\n",
      "('chr17_8151674_8152601', 927, 0.641855) 107\n",
      "('chr17_8151724_8152705', 981, 0.634047) 111\n",
      "('chr17_8151803_8152658', 855, 0.644444) 105\n",
      "('chr17_8151809_8152695', 886, 0.642212) 108\n",
      "('chr17_8151997_8152925', 928, 0.630388) 113\n",
      "('chr17_8152016_8152939', 923, 0.630553) 113\n",
      "('chr17_8152016_8152940', 924, 0.62987) 113\n",
      "('chr17_8152097_8153079', 982, 0.613035) 117\n",
      "('chr17_8152124_8153123', 999, 0.607608) 119\n",
      "('chr17_8152127_8153058', 931, 0.612245) 110\n",
      "('chr17_8152169_8153149', 980, 0.609184) 117\n",
      "('chr17_8152175_8153134', 959, 0.61001) 117\n",
      "('chr17_8152199_8153227', 1028, 0.608949) 117\n",
      "('chr17_8152309_8153359', 1050, 0.6) 128\n",
      "('chr17_8152319_8153323', 1004, 0.600598) 123\n",
      "('chr17_8152332_8153377', 1045, 0.595215) 128\n",
      "('chr17_8152366_8153333', 967, 0.593588) 121\n",
      "('chr17_8152454_8153430', 976, 0.57377) 126\n",
      "('chr17_8152488_8153495', 1007, 0.554121) 128\n",
      "('chr17_8152618_8153485', 867, 0.540946) 116\n",
      "('chr17_8152651_8153561', 910, 0.531868) 117\n",
      "('chr17_8152675_8153700', 1025, 0.533659) 121\n",
      "('chr17_8152750_8153748', 998, 0.533066) 123\n",
      "('chr17_8152819_8153680', 861, 0.530778) 110\n",
      "('chr17_8153015_8153959', 944, 0.534958) 118\n",
      "('chr17_8153361_8154250', 889, 0.505062) 107\n",
      "('chr17_8153381_8154434', 1053, 0.533713) 127\n",
      "('chr17_8153433_8154497', 1064, 0.540414) 127\n",
      "('chr17_8153498_8154497', 999, 0.552553) 125\n",
      "('chr17_8153554_8154588', 1034, 0.564797) 123\n",
      "('chr17_8153571_8154547', 976, 0.5625) 120\n",
      "('chr17_8153580_8154507', 927, 0.563107) 119\n",
      "('chr17_8153649_8154541', 892, 0.567265) 116\n",
      "('chr17_8153840_8154896', 1056, 0.582386) 117\n",
      "('chr17_8153900_8154868', 968, 0.585744) 112\n",
      "('chr17_8153927_8154865', 938, 0.584222) 108\n",
      "('chr17_8153980_8154819', 839, 0.578069) 101\n"
     ]
    }
   ],
   "source": [
    "N   = 1000\n",
    "gen = gen_frag(\"Input1\")\n",
    "gen = it.islice(gen, N)\n",
    "lst = list()\n",
    "\n",
    "for row in gen:\n",
    "    frag, length, pct_gc = row\n",
    "    dct = get_annot(frag)\n",
    "    lst.append(dct)\n",
    "    print(row, len(dct))"
   ]
  },
  {
   "cell_type": "code",
   "execution_count": 116,
   "metadata": {},
   "outputs": [
    {
     "name": "stdout",
     "output_type": "stream",
     "text": [
      "(100, 212)\n"
     ]
    },
    {
     "data": {
      "text/html": [
       "<div>\n",
       "<style scoped>\n",
       "    .dataframe tbody tr th:only-of-type {\n",
       "        vertical-align: middle;\n",
       "    }\n",
       "\n",
       "    .dataframe tbody tr th {\n",
       "        vertical-align: top;\n",
       "    }\n",
       "\n",
       "    .dataframe thead th {\n",
       "        text-align: right;\n",
       "    }\n",
       "</style>\n",
       "<table border=\"1\" class=\"dataframe\">\n",
       "  <thead>\n",
       "    <tr style=\"text-align: right;\">\n",
       "      <th></th>\n",
       "      <th>GLI</th>\n",
       "      <th>NR/17</th>\n",
       "      <th>KLF/SP/1</th>\n",
       "      <th>REST/NRSF</th>\n",
       "      <th>CREB/ATF/2</th>\n",
       "      <th>CREB/ATF/3</th>\n",
       "      <th>CREB/ATF/1</th>\n",
       "      <th>NR/3</th>\n",
       "      <th>ZNF324</th>\n",
       "      <th>KLF/SP/2</th>\n",
       "      <th>...</th>\n",
       "      <th>NFAT/1</th>\n",
       "      <th>Ebox/CATATG</th>\n",
       "      <th>CUX/1</th>\n",
       "      <th>FOX/2</th>\n",
       "      <th>CPEB1</th>\n",
       "      <th>HD/10</th>\n",
       "      <th>SPDEF/2</th>\n",
       "      <th>SIX/2</th>\n",
       "      <th>BCL6/1</th>\n",
       "      <th>ZNF490</th>\n",
       "    </tr>\n",
       "  </thead>\n",
       "  <tbody>\n",
       "    <tr>\n",
       "      <th>0</th>\n",
       "      <td>126.6885</td>\n",
       "      <td>130.8105</td>\n",
       "      <td>322.06125</td>\n",
       "      <td>112.7325</td>\n",
       "      <td>35.5165</td>\n",
       "      <td>35.085</td>\n",
       "      <td>80.1365</td>\n",
       "      <td>444.91425</td>\n",
       "      <td>145.6805</td>\n",
       "      <td>482.127625</td>\n",
       "      <td>...</td>\n",
       "      <td>0.0</td>\n",
       "      <td>0.0</td>\n",
       "      <td>0.0</td>\n",
       "      <td>0.0</td>\n",
       "      <td>0.0</td>\n",
       "      <td>0.0</td>\n",
       "      <td>0.0</td>\n",
       "      <td>0.0</td>\n",
       "      <td>0.0</td>\n",
       "      <td>0.0</td>\n",
       "    </tr>\n",
       "    <tr>\n",
       "      <th>1</th>\n",
       "      <td>76.0131</td>\n",
       "      <td>78.4863</td>\n",
       "      <td>225.96735</td>\n",
       "      <td>81.4860</td>\n",
       "      <td>21.3099</td>\n",
       "      <td>21.051</td>\n",
       "      <td>48.0819</td>\n",
       "      <td>266.94855</td>\n",
       "      <td>87.4083</td>\n",
       "      <td>344.245275</td>\n",
       "      <td>...</td>\n",
       "      <td>0.0</td>\n",
       "      <td>0.0</td>\n",
       "      <td>0.0</td>\n",
       "      <td>0.0</td>\n",
       "      <td>0.0</td>\n",
       "      <td>0.0</td>\n",
       "      <td>0.0</td>\n",
       "      <td>0.0</td>\n",
       "      <td>0.0</td>\n",
       "      <td>0.0</td>\n",
       "    </tr>\n",
       "    <tr>\n",
       "      <th>2</th>\n",
       "      <td>53.7177</td>\n",
       "      <td>39.7128</td>\n",
       "      <td>191.86395</td>\n",
       "      <td>66.8736</td>\n",
       "      <td>0.0000</td>\n",
       "      <td>0.000</td>\n",
       "      <td>24.8247</td>\n",
       "      <td>263.86845</td>\n",
       "      <td>81.9693</td>\n",
       "      <td>349.480275</td>\n",
       "      <td>...</td>\n",
       "      <td>0.0</td>\n",
       "      <td>0.0</td>\n",
       "      <td>0.0</td>\n",
       "      <td>0.0</td>\n",
       "      <td>0.0</td>\n",
       "      <td>0.0</td>\n",
       "      <td>0.0</td>\n",
       "      <td>0.0</td>\n",
       "      <td>0.0</td>\n",
       "      <td>0.0</td>\n",
       "    </tr>\n",
       "    <tr>\n",
       "      <th>3</th>\n",
       "      <td>53.7177</td>\n",
       "      <td>39.7128</td>\n",
       "      <td>191.86395</td>\n",
       "      <td>66.8736</td>\n",
       "      <td>0.0000</td>\n",
       "      <td>0.000</td>\n",
       "      <td>24.8247</td>\n",
       "      <td>263.86845</td>\n",
       "      <td>81.9693</td>\n",
       "      <td>349.480275</td>\n",
       "      <td>...</td>\n",
       "      <td>0.0</td>\n",
       "      <td>0.0</td>\n",
       "      <td>0.0</td>\n",
       "      <td>0.0</td>\n",
       "      <td>0.0</td>\n",
       "      <td>0.0</td>\n",
       "      <td>0.0</td>\n",
       "      <td>0.0</td>\n",
       "      <td>0.0</td>\n",
       "      <td>0.0</td>\n",
       "    </tr>\n",
       "    <tr>\n",
       "      <th>4</th>\n",
       "      <td>107.4354</td>\n",
       "      <td>79.4256</td>\n",
       "      <td>383.72790</td>\n",
       "      <td>133.7472</td>\n",
       "      <td>0.0000</td>\n",
       "      <td>0.000</td>\n",
       "      <td>49.6494</td>\n",
       "      <td>527.73690</td>\n",
       "      <td>163.9386</td>\n",
       "      <td>698.960550</td>\n",
       "      <td>...</td>\n",
       "      <td>0.0</td>\n",
       "      <td>0.0</td>\n",
       "      <td>0.0</td>\n",
       "      <td>0.0</td>\n",
       "      <td>0.0</td>\n",
       "      <td>0.0</td>\n",
       "      <td>0.0</td>\n",
       "      <td>0.0</td>\n",
       "      <td>0.0</td>\n",
       "      <td>0.0</td>\n",
       "    </tr>\n",
       "  </tbody>\n",
       "</table>\n",
       "<p>5 rows × 212 columns</p>\n",
       "</div>"
      ],
      "text/plain": [
       "        GLI     NR/17   KLF/SP/1  REST/NRSF  CREB/ATF/2  CREB/ATF/3  \\\n",
       "0  126.6885  130.8105  322.06125   112.7325     35.5165      35.085   \n",
       "1   76.0131   78.4863  225.96735    81.4860     21.3099      21.051   \n",
       "2   53.7177   39.7128  191.86395    66.8736      0.0000       0.000   \n",
       "3   53.7177   39.7128  191.86395    66.8736      0.0000       0.000   \n",
       "4  107.4354   79.4256  383.72790   133.7472      0.0000       0.000   \n",
       "\n",
       "   CREB/ATF/1       NR/3    ZNF324    KLF/SP/2  ...  NFAT/1  Ebox/CATATG  \\\n",
       "0     80.1365  444.91425  145.6805  482.127625  ...     0.0          0.0   \n",
       "1     48.0819  266.94855   87.4083  344.245275  ...     0.0          0.0   \n",
       "2     24.8247  263.86845   81.9693  349.480275  ...     0.0          0.0   \n",
       "3     24.8247  263.86845   81.9693  349.480275  ...     0.0          0.0   \n",
       "4     49.6494  527.73690  163.9386  698.960550  ...     0.0          0.0   \n",
       "\n",
       "   CUX/1  FOX/2  CPEB1  HD/10  SPDEF/2  SIX/2  BCL6/1  ZNF490  \n",
       "0    0.0    0.0    0.0    0.0      0.0    0.0     0.0     0.0  \n",
       "1    0.0    0.0    0.0    0.0      0.0    0.0     0.0     0.0  \n",
       "2    0.0    0.0    0.0    0.0      0.0    0.0     0.0     0.0  \n",
       "3    0.0    0.0    0.0    0.0      0.0    0.0     0.0     0.0  \n",
       "4    0.0    0.0    0.0    0.0      0.0    0.0     0.0     0.0  \n",
       "\n",
       "[5 rows x 212 columns]"
      ]
     },
     "execution_count": 116,
     "metadata": {},
     "output_type": "execute_result"
    }
   ],
   "source": [
    "dat = pd.DataFrame(lst).fillna(0)\n",
    "print(dat.shape)\n",
    "dat.head()"
   ]
  },
  {
   "cell_type": "code",
   "execution_count": 117,
   "metadata": {},
   "outputs": [
    {
     "data": {
      "text/plain": [
       "(100, 212)"
      ]
     },
     "execution_count": 117,
     "metadata": {},
     "output_type": "execute_result"
    }
   ],
   "source": [
    "X = dat.to_numpy()\n",
    "X.shape"
   ]
  },
  {
   "cell_type": "code",
   "execution_count": 119,
   "metadata": {},
   "outputs": [
    {
     "data": {
      "text/plain": [
       "(100, 2)"
      ]
     },
     "execution_count": 119,
     "metadata": {},
     "output_type": "execute_result"
    }
   ],
   "source": [
    "X_emb = TSNE(n_components=2).fit_transform(X)\n",
    "X_emb.shape"
   ]
  },
  {
   "cell_type": "code",
   "execution_count": 127,
   "metadata": {},
   "outputs": [
    {
     "data": {
      "text/plain": [
       "<matplotlib.collections.PathCollection at 0x7f43a7d59f10>"
      ]
     },
     "execution_count": 127,
     "metadata": {},
     "output_type": "execute_result"
    },
    {
     "data": {
      "image/png": "[encoded data removed]",
      "text/plain": [
       "<Figure size 432x288 with 1 Axes>"
      ]
     },
     "metadata": {
      "needs_background": "light"
     },
     "output_type": "display_data"
    }
   ],
   "source": [
    "plt.scatter(X_emb[:,0], X_emb[:,1], s=3, c=dat.loc[:,\"NR/20\"])"
   ]
  },
  {
   "cell_type": "code",
   "execution_count": null,
   "metadata": {},
   "outputs": [],
   "source": []
  },
  {
   "cell_type": "code",
   "execution_count": null,
   "metadata": {},
   "outputs": [],
   "source": []
  },
  {
   "cell_type": "code",
   "execution_count": 58,
   "metadata": {},
   "outputs": [
    {
     "name": "stdout",
     "output_type": "stream",
     "text": [
      "('chr17_8148117_8149012', 'GLI', 7.4318)\n",
      "('chr17_8148117_8149012', 'NR/17', 7.8649)\n",
      "('chr17_8148117_8149012', 'KLF/SP/1', 11.3678)\n",
      "('chr17_8148117_8149012', 'REST/NRSF', 4.8708)\n",
      "('chr17_8148117_8149012', 'CREB/ATF/2', 7.1033)\n",
      "('chr17_8148117_8149012', 'CREB/ATF/3', 7.017)\n"
     ]
    }
   ],
   "source": [
    "gen_annot('chr17_8148117_8149012')"
   ]
  },
  {
   "cell_type": "code",
   "execution_count": null,
   "metadata": {},
   "outputs": [],
   "source": [
    "query_out = \"\"\"SELECT c.fragment, c.sample, c.count FROM Count c\n",
    "WHERE c.sample = 'Input1' LIMIT 10\n",
    "\"\"\""
   ]
  },
  {
   "cell_type": "code",
   "execution_count": 23,
   "metadata": {},
   "outputs": [],
   "source": [
    "query_out = \"\"\"SELECT c.fragment, c.sample, c.count FROM Count c\n",
    "WHERE c.sample = 'Input1' \n",
    "ORDER BY RANDOM(123) LIMIT 10\n",
    "\"\"\""
   ]
  },
  {
   "cell_type": "code",
   "execution_count": 76,
   "metadata": {},
   "outputs": [
    {
     "data": {
      "text/plain": [
       "0"
      ]
     },
     "execution_count": 76,
     "metadata": {},
     "output_type": "execute_result"
    }
   ],
   "source": [
    "dct = defaultdict(lambda: 0)\n",
    "dct[1]"
   ]
  },
  {
   "cell_type": "code",
   "execution_count": 24,
   "metadata": {},
   "outputs": [
    {
     "ename": "OperationalError",
     "evalue": "wrong number of arguments to function RANDOM()",
     "output_type": "error",
     "traceback": [
      "\u001b[0;31m---------------------------------------------------------------------------\u001b[0m",
      "\u001b[0;31mOperationalError\u001b[0m                          Traceback (most recent call last)",
      "\u001b[0;32m<ipython-input-24-0979196b6d65>\u001b[0m in \u001b[0;36m<module>\u001b[0;34m\u001b[0m\n\u001b[1;32m      6\u001b[0m     \u001b[0mquery\u001b[0m  \u001b[0;34m=\u001b[0m \u001b[0mquery_out\u001b[0m\u001b[0;34m\u001b[0m\u001b[0;34m\u001b[0m\u001b[0m\n\u001b[1;32m      7\u001b[0m     \u001b[0mcursor\u001b[0m \u001b[0;34m=\u001b[0m \u001b[0mconn\u001b[0m\u001b[0;34m.\u001b[0m\u001b[0mcursor\u001b[0m\u001b[0;34m(\u001b[0m\u001b[0;34m)\u001b[0m\u001b[0;34m\u001b[0m\u001b[0;34m\u001b[0m\u001b[0m\n\u001b[0;32m----> 8\u001b[0;31m     \u001b[0mcursor\u001b[0m\u001b[0;34m.\u001b[0m\u001b[0mexecute\u001b[0m\u001b[0;34m(\u001b[0m\u001b[0mquery\u001b[0m\u001b[0;34m)\u001b[0m\u001b[0;34m\u001b[0m\u001b[0;34m\u001b[0m\u001b[0m\n\u001b[0m\u001b[1;32m      9\u001b[0m \u001b[0;34m\u001b[0m\u001b[0m\n\u001b[1;32m     10\u001b[0m     \u001b[0;31m#row = cursor.fetchone()\u001b[0m\u001b[0;34m\u001b[0m\u001b[0;34m\u001b[0m\u001b[0;34m\u001b[0m\u001b[0m\n",
      "\u001b[0;31mOperationalError\u001b[0m: wrong number of arguments to function RANDOM()"
     ]
    }
   ],
   "source": [
    "fdiry = os.path.join(FD_RES, 'database')\n",
    "fname = \"fragment.db\"\n",
    "fpath_db = os.path.join(fdiry, fname)\n",
    "\n",
    "with sqlite3.connect(fpath_db) as conn:\n",
    "    query  = query_out\n",
    "    cursor = conn.cursor()\n",
    "    cursor.execute(query)\n",
    "    \n",
    "    #row = cursor.fetchone()\n",
    "    #print(row)\n",
    "    \n",
    "    rows = cursor.fetchall()\n",
    "    print(len(rows))\n",
    "    for idx, row in enumerate(rows):\n",
    "        ### parse data\n",
    "        #frag, sam, count, score = row\n",
    "        print(row)"
   ]
  },
  {
   "cell_type": "code",
   "execution_count": null,
   "metadata": {},
   "outputs": [],
   "source": []
  }
 ],
 "metadata": {
  "kernelspec": {
   "display_name": "Python 3",
   "language": "python",
   "name": "python3"
  },
  "language_info": {
   "codemirror_mode": {
    "name": "ipython",
    "version": 3
   },
   "file_extension": ".py",
   "mimetype": "text/x-python",
   "name": "python",
   "nbconvert_exporter": "python",
   "pygments_lexer": "ipython3",
   "version": "3.7.6"
  }
 },
 "nbformat": 4,
 "nbformat_minor": 4
}
