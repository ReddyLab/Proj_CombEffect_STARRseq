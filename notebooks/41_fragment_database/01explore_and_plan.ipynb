{
 "cells": [
  {
   "cell_type": "code",
   "execution_count": 1,
   "metadata": {},
   "outputs": [
    {
     "name": "stdout",
     "output_type": "stream",
     "text": [
      "You are on Duke Server: HARDAC\n",
      "BASE DIRECTORY:     /gpfs/fs1/data/reddylab/Kuei\n",
      "PATH OF SOURCE:     /gpfs/fs1/data/reddylab/Kuei/source\n",
      "PATH OF EXECUTABLE: /gpfs/fs1/data/reddylab/Kuei/exe\n",
      "PATH OF ANNOTATION: /gpfs/fs1/data/reddylab/Kuei/annotation\n",
      "PATH OF PROJECT:    /gpfs/fs1/data/reddylab/Kuei/GitRepo/Proj_CombEffect_STARRseq/notebooks\n",
      "PATH OF RESULTS:    /gpfs/fs1/data/reddylab/Kuei/out/proj_combeffect\n",
      "\n"
     ]
    }
   ],
   "source": [
    "source ../config_duke.sh -v"
   ]
  },
  {
   "cell_type": "markdown",
   "metadata": {},
   "source": [
    "six tables that needs to be created in the database\n",
    "\n",
    "- fragment.db\n",
    "    - main tables\n",
    "        - motif table\n",
    "        - fragment table\n",
    "        - sample table\n",
    "    - related tables\n",
    "        - fragment --- motif\n",
    "        - fragment --- output samples\n",
    "        - fragment --- input  samples"
   ]
  },
  {
   "cell_type": "markdown",
   "metadata": {},
   "source": [
    "## File to create motif table"
   ]
  },
  {
   "cell_type": "code",
   "execution_count": 27,
   "metadata": {},
   "outputs": [
    {
     "name": "stdout",
     "output_type": "stream",
     "text": [
      "\u001b[0m\u001b[38;5;9mhg38.all_motifs.v1.0.bed.gz\u001b[0m  \u001b[38;5;9mhg38.archetype_motifs.v1.0.bed.gz\u001b[0m  hub.txt\n"
     ]
    }
   ],
   "source": [
    "ls ${FD_SRC}/motif_cluster_jvierstra"
   ]
  },
  {
   "cell_type": "code",
   "execution_count": 4,
   "metadata": {},
   "outputs": [
    {
     "name": "stdout",
     "output_type": "stream",
     "text": [
      "hg38_all_motifs_chroms.txt                 \u001b[0m\u001b[38;5;27mhg38_archetype_motifs_v1\u001b[0m\n",
      "\u001b[38;5;27mhg38_all_motifs_v1\u001b[0m                         motif_score_histogram.pickle\n",
      "hg38_archetype_motifs_chroms.txt           motif_score_histogram.tsv\n",
      "hg38_archetype_motifs_clusters_reduce.txt\n"
     ]
    }
   ],
   "source": [
    "ls ${FD_ANN}/motif_cluster_jvierstra"
   ]
  },
  {
   "cell_type": "code",
   "execution_count": 31,
   "metadata": {},
   "outputs": [
    {
     "name": "stdout",
     "output_type": "stream",
     "text": [
      "\u001b[01;31m\u001b[Kchr17\u001b[m\u001b[K\n",
      "\u001b[01;31m\u001b[Kchr17\u001b[m\u001b[K.bed.gz\n",
      "\u001b[01;31m\u001b[Kchr17\u001b[m\u001b[K_GL000205v2_random.bed.gz\n",
      "\u001b[01;31m\u001b[Kchr17\u001b[m\u001b[K_KI270729v1_random.bed.gz\n",
      "\u001b[01;31m\u001b[Kchr17\u001b[m\u001b[K_KI270730v1_random.bed.gz\n",
      "\u001b[01;31m\u001b[Kchr17\u001b[m\u001b[K_rm_mouse.bed.gz\n",
      "\u001b[01;31m\u001b[Kchr17\u001b[m\u001b[K_rm_mouse_merge.bed.gz\n",
      "dist_\u001b[01;31m\u001b[Kchr17\u001b[m\u001b[K\n"
     ]
    }
   ],
   "source": [
    "ls ${FD_ANN}/motif_cluster_jvierstra/hg38_archetype_motifs_v1 | grep chr17"
   ]
  },
  {
   "cell_type": "code",
   "execution_count": 30,
   "metadata": {},
   "outputs": [
    {
     "name": "stdout",
     "output_type": "stream",
     "text": [
      "\u001b[01;31m\u001b[Kchr17\u001b[m\u001b[K.bed.gz\n",
      "\u001b[01;31m\u001b[Kchr17\u001b[m\u001b[K_GL000205v2_random.bed.gz\n",
      "\u001b[01;31m\u001b[Kchr17\u001b[m\u001b[K_KI270729v1_random.bed.gz\n",
      "\u001b[01;31m\u001b[Kchr17\u001b[m\u001b[K_KI270730v1_random.bed.gz\n",
      "\u001b[01;31m\u001b[Kchr17\u001b[m\u001b[K_rm_mouse.bed.gz\n"
     ]
    }
   ],
   "source": [
    "ls ${FD_ANN}/motif_cluster_jvierstra/hg38_all_motifs_v1 | grep chr17"
   ]
  },
  {
   "cell_type": "markdown",
   "metadata": {},
   "source": [
    "### Take a look at the file"
   ]
  },
  {
   "cell_type": "code",
   "execution_count": 34,
   "metadata": {},
   "outputs": [
    {
     "name": "stdout",
     "output_type": "stream",
     "text": [
      "chr17\t60004\t60022\tZNF140\t5.6897\t+\tZN140_HUMAN.H11MO.0.C\t1\n",
      "chr17\t60004\t60022\tZNF667\t8.0240\t-\tZN667_HUMAN.H11MO.0.C\t1\n",
      "chr17\t60006\t60015\tEbox/CAGCTG\t7.9275\t+\tMYOD1_HUMAN.H11MO.0.A\t1\n",
      "chr17\t60011\t60031\tGC-tract\t12.1220\t-\tZN341_HUMAN.H11MO.0.C\t1\n",
      "chr17\t60012\t60025\tPRDM4\t1.3083\t+\tPRDM4_C2H2_1\t1\n",
      "chr17\t60013\t60022\tSTAT/2\t7.7153\t-\tSTAT3_MOUSE.H11MO.0.A\t1\n",
      "chr17\t60017\t60028\tNR/19\t9.6680\t-\tNR1D1_HUMAN.H11MO.0.B\t2\n",
      "chr17\t60019\t60035\tHEN1\t5.5854\t-\tHEN1_HUMAN.H11MO.0.C\t2\n",
      "chr17\t60023\t60042\tZNF680\t6.3901\t-\tZN680_HUMAN.H11MO.0.C\t1\n",
      "chr17\t60027\t60037\tSMARCA1\t7.5566\t-\tSMCA1_HUMAN.H11MO.0.C\t1\n",
      "\n",
      "gzip: stdout: Broken pipe\n"
     ]
    }
   ],
   "source": [
    "FDIRY=${FD_ANN}/motif_cluster_jvierstra/hg38_archetype_motifs_v1\n",
    "FNAME=chr17.bed.gz\n",
    "FPATH=${FDIRY}/${FNAME}\n",
    "\n",
    "zcat ${FPATH} | head"
   ]
  },
  {
   "cell_type": "code",
   "execution_count": 39,
   "metadata": {},
   "outputs": [
    {
     "name": "stdout",
     "output_type": "stream",
     "text": [
      "chr17\t60004\t60022\tZNF140\t5.6897\t+\tZN140_HUMAN.H11MO.0.C\t1\n",
      "chr17\t60004\t60022\tZNF667\t8.0240\t-\tZN667_HUMAN.H11MO.0.C\t1\n",
      "chr17\t60006\t60015\tEbox/CAGCTG\t7.9275\t+\tMYOD1_HUMAN.H11MO.0.A\t1\n",
      "chr17\t60011\t60031\tGC-tract\t12.1220\t-\tZN341_HUMAN.H11MO.0.C\t1\n",
      "chr17\t60012\t60025\tPRDM4\t1.3083\t+\tPRDM4_C2H2_1\t1\n",
      "chr17\t60013\t60022\tSTAT/2\t7.7153\t-\tSTAT3_MOUSE.H11MO.0.A\t1\n",
      "chr17\t60017\t60028\tNR/19\t9.6680\t-\tNR1D1_HUMAN.H11MO.0.B\t2\n",
      "chr17\t60019\t60035\tHEN1\t5.5854\t-\tHEN1_HUMAN.H11MO.0.C\t2\n",
      "chr17\t60023\t60042\tZNF680\t6.3901\t-\tZN680_HUMAN.H11MO.0.C\t1\n",
      "chr17\t60027\t60037\tSMARCA1\t7.5566\t-\tSMCA1_HUMAN.H11MO.0.C\t1\n",
      "\n",
      "gzip: stdout: Broken pipe\n"
     ]
    }
   ],
   "source": [
    "FDIRY=${FD_ANN}/motif_cluster_jvierstra/hg38_archetype_motifs_v1\n",
    "FNAME=chr17.bed.gz\n",
    "FPATH=${FDIRY}/${FNAME}\n",
    "\n",
    "zcat ${FPATH} | head"
   ]
  },
  {
   "cell_type": "code",
   "execution_count": 32,
   "metadata": {},
   "outputs": [
    {
     "name": "stdout",
     "output_type": "stream",
     "text": [
      "chr17\t60004\t60022\tZNF140\t5.6897\n",
      "chr17\t60004\t60022\tZNF667\t8.024\n",
      "chr17\t60006\t60015\tEbox/CAGCTG\t7.9275\n",
      "chr17\t60011\t60031\tGC-tract\t12.122\n",
      "chr17\t60012\t60025\tPRDM4\t1.3083\n",
      "chr17\t60017\t60028\tNR/19\t9.668\n",
      "chr17\t60019\t60035\tHEN1\t5.5854\n",
      "chr17\t60023\t60042\tZNF680\t6.3901\n",
      "chr17\t60027\t60037\tSMARCA1\t7.5566\n",
      "chr17\t60027\t60040\tLEF1\t7.1402\n",
      "\n",
      "gzip: stdout: Broken pipe\n"
     ]
    }
   ],
   "source": [
    "FDIRY=${FD_ANN}/motif_cluster_jvierstra/hg38_archetype_motifs_v1\n",
    "FNAME=chr17_rm_mouse_merge.bed.gz\n",
    "FPATH=${FDIRY}/${FNAME}\n",
    "\n",
    "zcat ${FPATH} | head"
   ]
  },
  {
   "cell_type": "markdown",
   "metadata": {},
   "source": [
    "## fragment table"
   ]
  },
  {
   "cell_type": "code",
   "execution_count": 41,
   "metadata": {},
   "outputs": [
    {
     "name": "stdout",
     "output_type": "stream",
     "text": [
      "\u001b[0m\u001b[38;5;9mwhole_genome_STARRseq_bedpe.tar.gz\u001b[0m\n"
     ]
    }
   ],
   "source": [
    "ls ${FD_SRC}/whole_genome_STARRseq"
   ]
  },
  {
   "cell_type": "code",
   "execution_count": 45,
   "metadata": {},
   "outputs": [
    {
     "name": "stdout",
     "output_type": "stream",
     "text": [
      "/gpfs/fs1/data/reddylab/Kuei/out/proj_combeffect/data/Input1_20x/target_PER1.bed\n",
      "/gpfs/fs1/data/reddylab/Kuei/out/proj_combeffect/data/Input1/target_PER1.bed\n",
      "/gpfs/fs1/data/reddylab/Kuei/out/proj_combeffect/data/Input2_20x/target_PER1.bed\n",
      "/gpfs/fs1/data/reddylab/Kuei/out/proj_combeffect/data/Input2/target_PER1.bed\n",
      "/gpfs/fs1/data/reddylab/Kuei/out/proj_combeffect/data/Input3_20x/target_PER1.bed\n",
      "/gpfs/fs1/data/reddylab/Kuei/out/proj_combeffect/data/Input3/target_PER1.bed\n",
      "/gpfs/fs1/data/reddylab/Kuei/out/proj_combeffect/data/Input4_20x/target_PER1.bed\n",
      "/gpfs/fs1/data/reddylab/Kuei/out/proj_combeffect/data/Input4/target_PER1.bed\n",
      "/gpfs/fs1/data/reddylab/Kuei/out/proj_combeffect/data/Input5_20x/target_PER1.bed\n",
      "/gpfs/fs1/data/reddylab/Kuei/out/proj_combeffect/data/Input5/target_PER1.bed\n",
      "/gpfs/fs1/data/reddylab/Kuei/out/proj_combeffect/data/Input/target_PER1.bed\n",
      "/gpfs/fs1/data/reddylab/Kuei/out/proj_combeffect/data/TFX2_Dex/target_PER1.bed\n",
      "/gpfs/fs1/data/reddylab/Kuei/out/proj_combeffect/data/TFX2_DMSO/target_PER1.bed\n",
      "/gpfs/fs1/data/reddylab/Kuei/out/proj_combeffect/data/TFX3_Dex/target_PER1.bed\n",
      "/gpfs/fs1/data/reddylab/Kuei/out/proj_combeffect/data/TFX3_DMSO/target_PER1.bed\n",
      "/gpfs/fs1/data/reddylab/Kuei/out/proj_combeffect/data/TFX4_Dex/target_PER1.bed\n",
      "/gpfs/fs1/data/reddylab/Kuei/out/proj_combeffect/data/TFX4_DMSO/target_PER1.bed\n",
      "/gpfs/fs1/data/reddylab/Kuei/out/proj_combeffect/data/TFX5_Dex/target_PER1.bed\n",
      "/gpfs/fs1/data/reddylab/Kuei/out/proj_combeffect/data/TFX5_DMSO/target_PER1.bed\n",
      "/gpfs/fs1/data/reddylab/Kuei/out/proj_combeffect/data/TFX_Dex/target_PER1.bed\n",
      "/gpfs/fs1/data/reddylab/Kuei/out/proj_combeffect/data/TFX_DMSO/target_PER1.bed\n"
     ]
    }
   ],
   "source": [
    "ls ${FD_RES}/data/*/target_PER1.bed"
   ]
  },
  {
   "cell_type": "code",
   "execution_count": 46,
   "metadata": {},
   "outputs": [
    {
     "name": "stdout",
     "output_type": "stream",
     "text": [
      "chr17\t8148117\t8149012\n",
      "chr17\t8148122\t8149107\n",
      "chr17\t8148178\t8149194\n",
      "chr17\t8148188\t8149154\n",
      "chr17\t8148190\t8149151\n",
      "chr17\t8148220\t8149108\n",
      "chr17\t8148280\t8149232\n",
      "chr17\t8148401\t8149372\n",
      "chr17\t8148548\t8149585\n",
      "chr17\t8148913\t8149953\n"
     ]
    }
   ],
   "source": [
    "head ${FD_RES}/data/Input1/target_PER1.bed"
   ]
  },
  {
   "cell_type": "markdown",
   "metadata": {},
   "source": [
    "## Sample table"
   ]
  },
  {
   "cell_type": "code",
   "execution_count": 51,
   "metadata": {},
   "outputs": [
    {
     "name": "stdout",
     "output_type": "stream",
     "text": [
      "371718546\t/gpfs/fs1/data/reddylab/Kuei/out/proj_combeffect/source/Input1_20x/Input1_20x.bedpe\n",
      "18666630\t/gpfs/fs1/data/reddylab/Kuei/out/proj_combeffect/source/Input1/Input1.bedpe\n",
      "347635732\t/gpfs/fs1/data/reddylab/Kuei/out/proj_combeffect/source/Input2_20x/Input2_20x.bedpe\n",
      "20167924\t/gpfs/fs1/data/reddylab/Kuei/out/proj_combeffect/source/Input2/Input2.bedpe\n",
      "349994051\t/gpfs/fs1/data/reddylab/Kuei/out/proj_combeffect/source/Input3_20x/Input3_20x.bedpe\n",
      "23280988\t/gpfs/fs1/data/reddylab/Kuei/out/proj_combeffect/source/Input3/Input3.bedpe\n",
      "413508358\t/gpfs/fs1/data/reddylab/Kuei/out/proj_combeffect/source/Input4_20x/Input4_20x.bedpe\n",
      "19003938\t/gpfs/fs1/data/reddylab/Kuei/out/proj_combeffect/source/Input4/Input4.bedpe\n",
      "341110487\t/gpfs/fs1/data/reddylab/Kuei/out/proj_combeffect/source/Input5_20x/Input5_20x.bedpe\n",
      "15325016\t/gpfs/fs1/data/reddylab/Kuei/out/proj_combeffect/source/Input5/Input5.bedpe\n",
      "48376253\t/gpfs/fs1/data/reddylab/Kuei/out/proj_combeffect/source/TFX2_AZD2906/TFX2_AZD2906.bedpe\n",
      "52542517\t/gpfs/fs1/data/reddylab/Kuei/out/proj_combeffect/source/TFX2_AZD9567/TFX2_AZD9567.bedpe\n",
      "43646484\t/gpfs/fs1/data/reddylab/Kuei/out/proj_combeffect/source/TFX2_CORT108297/TFX2_CORT108297.bedpe\n",
      "41732268\t/gpfs/fs1/data/reddylab/Kuei/out/proj_combeffect/source/TFX2_CpdA/TFX2_CpdA.bedpe\n",
      "45413539\t/gpfs/fs1/data/reddylab/Kuei/out/proj_combeffect/source/TFX2_Dex/TFX2_Dex.bedpe\n",
      "43844606\t/gpfs/fs1/data/reddylab/Kuei/out/proj_combeffect/source/TFX2_DMSO/TFX2_DMSO.bedpe\n",
      "56207769\t/gpfs/fs1/data/reddylab/Kuei/out/proj_combeffect/source/TFX2_GW870086/TFX2_GW870086.bedpe\n",
      "47829936\t/gpfs/fs1/data/reddylab/Kuei/out/proj_combeffect/source/TFX2_Hydrocortisone/TFX2_Hydrocortisone.bedpe\n",
      "38120420\t/gpfs/fs1/data/reddylab/Kuei/out/proj_combeffect/source/TFX2_Mapracorat/TFX2_Mapracorat.bedpe\n",
      "47687319\t/gpfs/fs1/data/reddylab/Kuei/out/proj_combeffect/source/TFX2_RU486/TFX2_RU486.bedpe\n",
      "45455167\t/gpfs/fs1/data/reddylab/Kuei/out/proj_combeffect/source/TFX2_ZK216348/TFX2_ZK216348.bedpe\n",
      "26840149\t/gpfs/fs1/data/reddylab/Kuei/out/proj_combeffect/source/TFX3_AZD2906/TFX3_AZD2906.bedpe\n",
      "44435989\t/gpfs/fs1/data/reddylab/Kuei/out/proj_combeffect/source/TFX3_AZD9567/TFX3_AZD9567.bedpe\n",
      "32701206\t/gpfs/fs1/data/reddylab/Kuei/out/proj_combeffect/source/TFX3_CORT108297/TFX3_CORT108297.bedpe\n",
      "26352610\t/gpfs/fs1/data/reddylab/Kuei/out/proj_combeffect/source/TFX3_CpdA/TFX3_CpdA.bedpe\n",
      "26400671\t/gpfs/fs1/data/reddylab/Kuei/out/proj_combeffect/source/TFX3_Dex/TFX3_Dex.bedpe\n",
      "26819569\t/gpfs/fs1/data/reddylab/Kuei/out/proj_combeffect/source/TFX3_DMSO/TFX3_DMSO.bedpe\n",
      "36774709\t/gpfs/fs1/data/reddylab/Kuei/out/proj_combeffect/source/TFX3_GW870086/TFX3_GW870086.bedpe\n",
      "40293787\t/gpfs/fs1/data/reddylab/Kuei/out/proj_combeffect/source/TFX3_Hydrocortisone/TFX3_Hydrocortisone.bedpe\n",
      "26384034\t/gpfs/fs1/data/reddylab/Kuei/out/proj_combeffect/source/TFX3_Mapracorat/TFX3_Mapracorat.bedpe\n",
      "31454676\t/gpfs/fs1/data/reddylab/Kuei/out/proj_combeffect/source/TFX3_RU486/TFX3_RU486.bedpe\n",
      "41139261\t/gpfs/fs1/data/reddylab/Kuei/out/proj_combeffect/source/TFX3_ZK216348/TFX3_ZK216348.bedpe\n",
      "27175305\t/gpfs/fs1/data/reddylab/Kuei/out/proj_combeffect/source/TFX4_AZD2906/TFX4_AZD2906.bedpe\n",
      "33610712\t/gpfs/fs1/data/reddylab/Kuei/out/proj_combeffect/source/TFX4_AZD9567/TFX4_AZD9567.bedpe\n",
      "59429741\t/gpfs/fs1/data/reddylab/Kuei/out/proj_combeffect/source/TFX4_CORT108297/TFX4_CORT108297.bedpe\n",
      "31202573\t/gpfs/fs1/data/reddylab/Kuei/out/proj_combeffect/source/TFX4_CpdA/TFX4_CpdA.bedpe\n",
      "34590086\t/gpfs/fs1/data/reddylab/Kuei/out/proj_combeffect/source/TFX4_Dex/TFX4_Dex.bedpe\n",
      "30951533\t/gpfs/fs1/data/reddylab/Kuei/out/proj_combeffect/source/TFX4_DMSO/TFX4_DMSO.bedpe\n",
      "43395226\t/gpfs/fs1/data/reddylab/Kuei/out/proj_combeffect/source/TFX4_GW870086/TFX4_GW870086.bedpe\n",
      "27190016\t/gpfs/fs1/data/reddylab/Kuei/out/proj_combeffect/source/TFX4_Hydrocortisone/TFX4_Hydrocortisone.bedpe\n",
      "36460601\t/gpfs/fs1/data/reddylab/Kuei/out/proj_combeffect/source/TFX4_Mapracorat/TFX4_Mapracorat.bedpe\n",
      "31196111\t/gpfs/fs1/data/reddylab/Kuei/out/proj_combeffect/source/TFX4_RU486/TFX4_RU486.bedpe\n",
      "38035173\t/gpfs/fs1/data/reddylab/Kuei/out/proj_combeffect/source/TFX4_ZK216348/TFX4_ZK216348.bedpe\n",
      "43862195\t/gpfs/fs1/data/reddylab/Kuei/out/proj_combeffect/source/TFX5_AZD2906/TFX5_AZD2906.bedpe\n",
      "48356547\t/gpfs/fs1/data/reddylab/Kuei/out/proj_combeffect/source/TFX5_AZD9567/TFX5_AZD9567.bedpe\n",
      "42880899\t/gpfs/fs1/data/reddylab/Kuei/out/proj_combeffect/source/TFX5_CORT108297/TFX5_CORT108297.bedpe\n",
      "40239413\t/gpfs/fs1/data/reddylab/Kuei/out/proj_combeffect/source/TFX5_CpdA/TFX5_CpdA.bedpe\n",
      "42310249\t/gpfs/fs1/data/reddylab/Kuei/out/proj_combeffect/source/TFX5_Dex/TFX5_Dex.bedpe\n",
      "28859151\t/gpfs/fs1/data/reddylab/Kuei/out/proj_combeffect/source/TFX5_DMSO/TFX5_DMSO.bedpe\n",
      "39710444\t/gpfs/fs1/data/reddylab/Kuei/out/proj_combeffect/source/TFX5_GW870086/TFX5_GW870086.bedpe\n",
      "34580732\t/gpfs/fs1/data/reddylab/Kuei/out/proj_combeffect/source/TFX5_Hydrocortisone/TFX5_Hydrocortisone.bedpe\n",
      "48311553\t/gpfs/fs1/data/reddylab/Kuei/out/proj_combeffect/source/TFX5_Mapracorat/TFX5_Mapracorat.bedpe\n",
      "49785981\t/gpfs/fs1/data/reddylab/Kuei/out/proj_combeffect/source/TFX5_RU486/TFX5_RU486.bedpe\n",
      "35907183\t/gpfs/fs1/data/reddylab/Kuei/out/proj_combeffect/source/TFX5_ZK216348/TFX5_ZK216348.bedpe\n",
      "3638906033\ttotal\n"
     ]
    }
   ],
   "source": [
    "cat ${FD_RES}/source/library_size.txt"
   ]
  },
  {
   "cell_type": "code",
   "execution_count": null,
   "metadata": {},
   "outputs": [],
   "source": []
  }
 ],
 "metadata": {
  "kernelspec": {
   "display_name": "Bash",
   "language": "bash",
   "name": "bash"
  },
  "language_info": {
   "codemirror_mode": "shell",
   "file_extension": ".sh",
   "mimetype": "text/x-sh",
   "name": "bash"
  }
 },
 "nbformat": 4,
 "nbformat_minor": 5
}
