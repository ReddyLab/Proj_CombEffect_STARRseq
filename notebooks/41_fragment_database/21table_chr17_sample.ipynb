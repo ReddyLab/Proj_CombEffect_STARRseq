{
 "cells": [
  {
   "cell_type": "markdown",
   "metadata": {},
   "source": [
    "# Database: sample table"
   ]
  },
  {
   "cell_type": "markdown",
   "metadata": {},
   "source": [
    "**Set environment**"
   ]
  },
  {
   "cell_type": "code",
   "execution_count": 8,
   "metadata": {},
   "outputs": [],
   "source": [
    "### basic\n",
    "import sys\n",
    "sys.path.append('../')\n",
    "from config_sing import *\n",
    "\n",
    "### specific tools\n",
    "import sqlite3\n",
    "# https://stackoverflow.com/questions/49456158/integer-in-python-pandas-becomes-blob-binary-in-sqlite\n",
    "sqlite3.register_adapter(np.int64, lambda val: int(val))\n",
    "sqlite3.register_adapter(np.int32, lambda val: int(val))\n",
    "\n",
    "### global variables\n",
    "fdiry = os.path.join(FD_RES, 'database')\n",
    "fname = \"fragment_chr17.db\"\n",
    "FPATH_DB = os.path.join(fdiry, fname)"
   ]
  },
  {
   "cell_type": "markdown",
   "metadata": {},
   "source": [
    "## Sample information"
   ]
  },
  {
   "cell_type": "code",
   "execution_count": 2,
   "metadata": {},
   "outputs": [
    {
     "data": {
      "text/plain": [
       "['input_score',\n",
       " 'database',\n",
       " '.ipynb_checkpoints',\n",
       " 'nuc',\n",
       " 'count_fragment',\n",
       " 'coverage',\n",
       " 'model_linear',\n",
       " 'log',\n",
       " 'annotation_fragment',\n",
       " 'peak',\n",
       " 'source',\n",
       " 'data']"
      ]
     },
     "execution_count": 2,
     "metadata": {},
     "output_type": "execute_result"
    }
   ],
   "source": [
    "fdiry = FD_RES\n",
    "os.listdir(fdiry)"
   ]
  },
  {
   "cell_type": "code",
   "execution_count": 3,
   "metadata": {},
   "outputs": [
    {
     "data": {
      "text/plain": [
       "['/mount/work/out/proj_combeffect/source/library_size.tsv',\n",
       " '/mount/work/out/proj_combeffect/source/library_size.txt']"
      ]
     },
     "execution_count": 3,
     "metadata": {},
     "output_type": "execute_result"
    }
   ],
   "source": [
    "fdiry = os.path.join(FD_RES, 'source')\n",
    "fname = \"library_size*\"\n",
    "fglob = os.path.join(fdiry, fname)\n",
    "\n",
    "glob.glob(fglob)"
   ]
  },
  {
   "cell_type": "code",
   "execution_count": 4,
   "metadata": {},
   "outputs": [
    {
     "name": "stdout",
     "output_type": "stream",
     "text": [
      "Sample\tGroup\tSize\n",
      "Input1_20x\tInput_20x\t371718546\n",
      "Input1\tInput\t18666630\n",
      "Input2_20x\tInput_20x\t347635732\n",
      "Input2\tInput\t20167924\n",
      "Input3_20x\tInput_20x\t349994051\n",
      "Input3\tInput\t23280988\n",
      "Input4_20x\tInput_20x\t413508358\n",
      "Input4\tInput\t19003938\n",
      "Input5_20x\tInput_20x\t341110487\n"
     ]
    }
   ],
   "source": [
    "!head /mount/work/out/proj_combeffect/source/library_size.tsv"
   ]
  },
  {
   "cell_type": "markdown",
   "metadata": {},
   "source": [
    "## Import sample information"
   ]
  },
  {
   "cell_type": "code",
   "execution_count": 5,
   "metadata": {},
   "outputs": [
    {
     "name": "stdout",
     "output_type": "stream",
     "text": [
      "Sample    object\n",
      "Group     object\n",
      "Size       int64\n",
      "dtype: object\n"
     ]
    },
    {
     "data": {
      "text/html": [
       "<div>\n",
       "<style scoped>\n",
       "    .dataframe tbody tr th:only-of-type {\n",
       "        vertical-align: middle;\n",
       "    }\n",
       "\n",
       "    .dataframe tbody tr th {\n",
       "        vertical-align: top;\n",
       "    }\n",
       "\n",
       "    .dataframe thead th {\n",
       "        text-align: right;\n",
       "    }\n",
       "</style>\n",
       "<table border=\"1\" class=\"dataframe\">\n",
       "  <thead>\n",
       "    <tr style=\"text-align: right;\">\n",
       "      <th></th>\n",
       "      <th>Sample</th>\n",
       "      <th>Group</th>\n",
       "      <th>Size</th>\n",
       "    </tr>\n",
       "  </thead>\n",
       "  <tbody>\n",
       "    <tr>\n",
       "      <th>0</th>\n",
       "      <td>Input1_20x</td>\n",
       "      <td>Input_20x</td>\n",
       "      <td>371718546</td>\n",
       "    </tr>\n",
       "    <tr>\n",
       "      <th>1</th>\n",
       "      <td>Input1</td>\n",
       "      <td>Input</td>\n",
       "      <td>18666630</td>\n",
       "    </tr>\n",
       "    <tr>\n",
       "      <th>2</th>\n",
       "      <td>Input2_20x</td>\n",
       "      <td>Input_20x</td>\n",
       "      <td>347635732</td>\n",
       "    </tr>\n",
       "    <tr>\n",
       "      <th>3</th>\n",
       "      <td>Input2</td>\n",
       "      <td>Input</td>\n",
       "      <td>20167924</td>\n",
       "    </tr>\n",
       "    <tr>\n",
       "      <th>4</th>\n",
       "      <td>Input3_20x</td>\n",
       "      <td>Input_20x</td>\n",
       "      <td>349994051</td>\n",
       "    </tr>\n",
       "  </tbody>\n",
       "</table>\n",
       "</div>"
      ],
      "text/plain": [
       "       Sample      Group       Size\n",
       "0  Input1_20x  Input_20x  371718546\n",
       "1      Input1      Input   18666630\n",
       "2  Input2_20x  Input_20x  347635732\n",
       "3      Input2      Input   20167924\n",
       "4  Input3_20x  Input_20x  349994051"
      ]
     },
     "execution_count": 5,
     "metadata": {},
     "output_type": "execute_result"
    }
   ],
   "source": [
    "fdiry = os.path.join(FD_RES, 'source')\n",
    "fname = \"library_size.tsv\"\n",
    "fpath = os.path.join(fdiry, fname)\n",
    "\n",
    "dat_sam = pd.read_table(fpath)\n",
    "print(dat_sam.dtypes)\n",
    "dat_sam.head()"
   ]
  },
  {
   "cell_type": "code",
   "execution_count": 6,
   "metadata": {},
   "outputs": [
    {
     "data": {
      "text/plain": [
       "rec.array([('Input1_20x', 'Input_20x', 371718546),\n",
       "           ('Input1', 'Input',  18666630),\n",
       "           ('Input2_20x', 'Input_20x', 347635732),\n",
       "           ('Input2', 'Input',  20167924),\n",
       "           ('Input3_20x', 'Input_20x', 349994051),\n",
       "           ('Input3', 'Input',  23280988),\n",
       "           ('Input4_20x', 'Input_20x', 413508358),\n",
       "           ('Input4', 'Input',  19003938),\n",
       "           ('Input5_20x', 'Input_20x', 341110487),\n",
       "           ('Input5', 'Input',  15325016),\n",
       "           ('TFX2_AZD2906', 'TFX_AZD2906',  48376253),\n",
       "           ('TFX2_AZD9567', 'TFX_AZD9567',  52542517),\n",
       "           ('TFX2_CORT108297', 'TFX_CORT108297',  43646484),\n",
       "           ('TFX2_CpdA', 'TFX_CpdA',  41732268),\n",
       "           ('TFX2_Dex', 'TFX_Dex',  45413539),\n",
       "           ('TFX2_DMSO', 'TFX_DMSO',  43844606),\n",
       "           ('TFX2_GW870086', 'TFX_GW870086',  56207769),\n",
       "           ('TFX2_Hydrocortisone', 'TFX_Hydrocortisone',  47829936),\n",
       "           ('TFX2_Mapracorat', 'TFX_Mapracorat',  38120420),\n",
       "           ('TFX2_RU486', 'TFX_RU486',  47687319),\n",
       "           ('TFX2_ZK216348', 'TFX_ZK216348',  45455167),\n",
       "           ('TFX3_AZD2906', 'TFX_AZD2906',  26840149),\n",
       "           ('TFX3_AZD9567', 'TFX_AZD9567',  44435989),\n",
       "           ('TFX3_CORT108297', 'TFX_CORT108297',  32701206),\n",
       "           ('TFX3_CpdA', 'TFX_CpdA',  26352610),\n",
       "           ('TFX3_Dex', 'TFX_Dex',  26400671),\n",
       "           ('TFX3_DMSO', 'TFX_DMSO',  26819569),\n",
       "           ('TFX3_GW870086', 'TFX_GW870086',  36774709),\n",
       "           ('TFX3_Hydrocortisone', 'TFX_Hydrocortisone',  40293787),\n",
       "           ('TFX3_Mapracorat', 'TFX_Mapracorat',  26384034),\n",
       "           ('TFX3_RU486', 'TFX_RU486',  31454676),\n",
       "           ('TFX3_ZK216348', 'TFX_ZK216348',  41139261),\n",
       "           ('TFX4_AZD2906', 'TFX_AZD2906',  27175305),\n",
       "           ('TFX4_AZD9567', 'TFX_AZD9567',  33610712),\n",
       "           ('TFX4_CORT108297', 'TFX_CORT108297',  59429741),\n",
       "           ('TFX4_CpdA', 'TFX_CpdA',  31202573),\n",
       "           ('TFX4_Dex', 'TFX_Dex',  34590086),\n",
       "           ('TFX4_DMSO', 'TFX_DMSO',  30951533),\n",
       "           ('TFX4_GW870086', 'TFX_GW870086',  43395226),\n",
       "           ('TFX4_Hydrocortisone', 'TFX_Hydrocortisone',  27190016),\n",
       "           ('TFX4_Mapracorat', 'TFX_Mapracorat',  36460601),\n",
       "           ('TFX4_RU486', 'TFX_RU486',  31196111),\n",
       "           ('TFX4_ZK216348', 'TFX_ZK216348',  38035173),\n",
       "           ('TFX5_AZD2906', 'TFX_AZD2906',  43862195),\n",
       "           ('TFX5_AZD9567', 'TFX_AZD9567',  48356547),\n",
       "           ('TFX5_CORT108297', 'TFX_CORT108297',  42880899),\n",
       "           ('TFX5_CpdA', 'TFX_CpdA',  40239413),\n",
       "           ('TFX5_Dex', 'TFX_Dex',  42310249),\n",
       "           ('TFX5_DMSO', 'TFX_DMSO',  28859151),\n",
       "           ('TFX5_GW870086', 'TFX_GW870086',  39710444),\n",
       "           ('TFX5_Hydrocortisone', 'TFX_Hydrocortisone',  34580732),\n",
       "           ('TFX5_Mapracorat', 'TFX_Mapracorat',  48311553),\n",
       "           ('TFX5_RU486', 'TFX_RU486',  49785981),\n",
       "           ('TFX5_ZK216348', 'TFX_ZK216348',  35907183)],\n",
       "          dtype=[('Sample', 'O'), ('Group', 'O'), ('Size', '<i8')])"
      ]
     },
     "execution_count": 6,
     "metadata": {},
     "output_type": "execute_result"
    }
   ],
   "source": [
    "dat_sam.to_records(index=False)"
   ]
  },
  {
   "cell_type": "code",
   "execution_count": 7,
   "metadata": {},
   "outputs": [
    {
     "name": "stdout",
     "output_type": "stream",
     "text": [
      "('Input1_20x', 'Input_20x', 371718546)\n"
     ]
    }
   ],
   "source": [
    "row = dat_sam.to_records(index=False)[0]\n",
    "print(row)"
   ]
  },
  {
   "cell_type": "markdown",
   "metadata": {},
   "source": [
    "## create table and schema"
   ]
  },
  {
   "cell_type": "markdown",
   "metadata": {},
   "source": [
    "```\n",
    "# https://stackoverflow.com/questions/49456158/integer-in-python-pandas-becomes-blob-binary-in-sqlite\n",
    "sqlite3.register_adapter(np.int64, lambda val: int(val))\n",
    "sqlite3.register_adapter(np.int32, lambda val: int(val))\n",
    "```"
   ]
  },
  {
   "cell_type": "code",
   "execution_count": 9,
   "metadata": {},
   "outputs": [],
   "source": [
    "query_reset = (\"DROP TABLE IF EXISTS Sample\")\n",
    "\n",
    "query_table = (\"\"\"CREATE TABLE IF NOT EXISTS Sample(\n",
    "    sample    TEXT PRIMARY KEY, \n",
    "    treatment TEXT,\n",
    "    size      INTEGER\n",
    ");\"\"\")\n",
    "\n",
    "query_insert = (\"INSERT INTO Sample (sample, treatment, size) VALUES (?, ?, ?)\")"
   ]
  },
  {
   "cell_type": "code",
   "execution_count": 10,
   "metadata": {},
   "outputs": [
    {
     "name": "stdout",
     "output_type": "stream",
     "text": [
      "('Input1_20x', 'Input_20x', 371718546)\n",
      "('Input1', 'Input', 18666630)\n",
      "('Input2_20x', 'Input_20x', 347635732)\n",
      "('Input2', 'Input', 20167924)\n",
      "('Input3_20x', 'Input_20x', 349994051)\n",
      "('Input3', 'Input', 23280988)\n",
      "('Input4_20x', 'Input_20x', 413508358)\n",
      "('Input4', 'Input', 19003938)\n",
      "('Input5_20x', 'Input_20x', 341110487)\n",
      "('Input5', 'Input', 15325016)\n",
      "('TFX2_AZD2906', 'TFX_AZD2906', 48376253)\n",
      "('TFX2_AZD9567', 'TFX_AZD9567', 52542517)\n",
      "('TFX2_CORT108297', 'TFX_CORT108297', 43646484)\n",
      "('TFX2_CpdA', 'TFX_CpdA', 41732268)\n",
      "('TFX2_Dex', 'TFX_Dex', 45413539)\n",
      "('TFX2_DMSO', 'TFX_DMSO', 43844606)\n",
      "('TFX2_GW870086', 'TFX_GW870086', 56207769)\n",
      "('TFX2_Hydrocortisone', 'TFX_Hydrocortisone', 47829936)\n",
      "('TFX2_Mapracorat', 'TFX_Mapracorat', 38120420)\n",
      "('TFX2_RU486', 'TFX_RU486', 47687319)\n",
      "('TFX2_ZK216348', 'TFX_ZK216348', 45455167)\n",
      "('TFX3_AZD2906', 'TFX_AZD2906', 26840149)\n",
      "('TFX3_AZD9567', 'TFX_AZD9567', 44435989)\n",
      "('TFX3_CORT108297', 'TFX_CORT108297', 32701206)\n",
      "('TFX3_CpdA', 'TFX_CpdA', 26352610)\n",
      "('TFX3_Dex', 'TFX_Dex', 26400671)\n",
      "('TFX3_DMSO', 'TFX_DMSO', 26819569)\n",
      "('TFX3_GW870086', 'TFX_GW870086', 36774709)\n",
      "('TFX3_Hydrocortisone', 'TFX_Hydrocortisone', 40293787)\n",
      "('TFX3_Mapracorat', 'TFX_Mapracorat', 26384034)\n",
      "('TFX3_RU486', 'TFX_RU486', 31454676)\n",
      "('TFX3_ZK216348', 'TFX_ZK216348', 41139261)\n",
      "('TFX4_AZD2906', 'TFX_AZD2906', 27175305)\n",
      "('TFX4_AZD9567', 'TFX_AZD9567', 33610712)\n",
      "('TFX4_CORT108297', 'TFX_CORT108297', 59429741)\n",
      "('TFX4_CpdA', 'TFX_CpdA', 31202573)\n",
      "('TFX4_Dex', 'TFX_Dex', 34590086)\n",
      "('TFX4_DMSO', 'TFX_DMSO', 30951533)\n",
      "('TFX4_GW870086', 'TFX_GW870086', 43395226)\n",
      "('TFX4_Hydrocortisone', 'TFX_Hydrocortisone', 27190016)\n",
      "('TFX4_Mapracorat', 'TFX_Mapracorat', 36460601)\n",
      "('TFX4_RU486', 'TFX_RU486', 31196111)\n",
      "('TFX4_ZK216348', 'TFX_ZK216348', 38035173)\n",
      "('TFX5_AZD2906', 'TFX_AZD2906', 43862195)\n",
      "('TFX5_AZD9567', 'TFX_AZD9567', 48356547)\n",
      "('TFX5_CORT108297', 'TFX_CORT108297', 42880899)\n",
      "('TFX5_CpdA', 'TFX_CpdA', 40239413)\n",
      "('TFX5_Dex', 'TFX_Dex', 42310249)\n",
      "('TFX5_DMSO', 'TFX_DMSO', 28859151)\n",
      "('TFX5_GW870086', 'TFX_GW870086', 39710444)\n",
      "('TFX5_Hydrocortisone', 'TFX_Hydrocortisone', 34580732)\n",
      "('TFX5_Mapracorat', 'TFX_Mapracorat', 48311553)\n",
      "('TFX5_RU486', 'TFX_RU486', 49785981)\n",
      "('TFX5_ZK216348', 'TFX_ZK216348', 35907183)\n"
     ]
    }
   ],
   "source": [
    "fpath_db = FPATH_DB\n",
    "with sqlite3.connect(fpath_db) as conn:\n",
    "    ### reset\n",
    "    cursor = conn.cursor()\n",
    "    query  = query_reset\n",
    "    cursor.execute(query)\n",
    "    \n",
    "    ### create table\n",
    "    query  = query_table\n",
    "    cursor.execute(query)\n",
    "    \n",
    "    ### insert values\n",
    "    rows   = dat_sam.to_records(index=False)\n",
    "    query  = query_insert\n",
    "    cursor.executemany(query, rows)\n",
    "    \n",
    "    ### show that the table is created\n",
    "    cursor.execute(\"SELECT * FROM Sample\")\n",
    "    for row in cursor.fetchall():\n",
    "        print(row)"
   ]
  }
 ],
 "metadata": {
  "kernelspec": {
   "display_name": "Python 3",
   "language": "python",
   "name": "python3"
  },
  "language_info": {
   "codemirror_mode": {
    "name": "ipython",
    "version": 3
   },
   "file_extension": ".py",
   "mimetype": "text/x-python",
   "name": "python",
   "nbconvert_exporter": "python",
   "pygments_lexer": "ipython3",
   "version": "3.7.6"
  }
 },
 "nbformat": 4,
 "nbformat_minor": 5
}
