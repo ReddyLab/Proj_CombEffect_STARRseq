{
 "cells": [
  {
   "cell_type": "markdown",
   "metadata": {},
   "source": [
    "# Database: motif table\n",
    "\n",
    "**Set Environment**"
   ]
  },
  {
   "cell_type": "code",
   "execution_count": 26,
   "metadata": {},
   "outputs": [],
   "source": [
    "### basic\n",
    "import sys\n",
    "sys.path.append('../')\n",
    "from config_sing import *\n",
    "\n",
    "### specific tools\n",
    "import itertools as it\n",
    "import sqlite3\n",
    "# https://stackoverflow.com/questions/49456158/integer-in-python-pandas-becomes-blob-binary-in-sqlite\n",
    "sqlite3.register_adapter(np.int64, lambda val: int(val))\n",
    "sqlite3.register_adapter(np.int32, lambda val: int(val))\n",
    "\n",
    "### global variables\n",
    "fdiry = os.path.join(FD_RES, 'database')\n",
    "fname = \"fragment_chr17.db\"\n",
    "FPATH_DB = os.path.join(fdiry, fname)"
   ]
  },
  {
   "cell_type": "markdown",
   "metadata": {},
   "source": [
    "**Check data location**"
   ]
  },
  {
   "cell_type": "code",
   "execution_count": 3,
   "metadata": {},
   "outputs": [
    {
     "data": {
      "text/plain": [
       "['motif_cluster_jvierstra', 'genome', '.ipynb_checkpoints', 'log']"
      ]
     },
     "execution_count": 3,
     "metadata": {},
     "output_type": "execute_result"
    }
   ],
   "source": [
    "fdiry = FD_ANN\n",
    "os.listdir(fdiry)"
   ]
  },
  {
   "cell_type": "code",
   "execution_count": 4,
   "metadata": {},
   "outputs": [
    {
     "data": {
      "text/plain": [
       "['/mount/work/annotation/motif_cluster_jvierstra/hg38_archetype_motifs_v1/chr17_KI270730v1_random.bed.gz',\n",
       " '/mount/work/annotation/motif_cluster_jvierstra/hg38_archetype_motifs_v1/chr17_KI270729v1_random.bed.gz',\n",
       " '/mount/work/annotation/motif_cluster_jvierstra/hg38_archetype_motifs_v1/chr17',\n",
       " '/mount/work/annotation/motif_cluster_jvierstra/hg38_archetype_motifs_v1/chr17_GL000205v2_random.bed.gz',\n",
       " '/mount/work/annotation/motif_cluster_jvierstra/hg38_archetype_motifs_v1/chr17.bed.gz',\n",
       " '/mount/work/annotation/motif_cluster_jvierstra/hg38_archetype_motifs_v1/chr17_rm_mouse.bed.gz',\n",
       " '/mount/work/annotation/motif_cluster_jvierstra/hg38_archetype_motifs_v1/chr17_rm_mouse_merge.bed.gz']"
      ]
     },
     "execution_count": 4,
     "metadata": {},
     "output_type": "execute_result"
    }
   ],
   "source": [
    "fglob = os.path.join(FD_ANN, \"motif_cluster_jvierstra\", \"hg38_archetype_motifs_v1\", \"chr17*\")\n",
    "glob.glob(fglob)"
   ]
  },
  {
   "cell_type": "code",
   "execution_count": 5,
   "metadata": {},
   "outputs": [
    {
     "name": "stdout",
     "output_type": "stream",
     "text": [
      "/mount/work/annotation/motif_cluster_jvierstra/hg38_archetype_motifs_v1/chr17_rm_mouse_merge.bed.gz\n"
     ]
    }
   ],
   "source": [
    "fdiry = os.path.join(FD_ANN, \"motif_cluster_jvierstra\", \"hg38_archetype_motifs_v1\")\n",
    "fname = \"chr17_rm_mouse_merge.bed.gz\"\n",
    "fpath = os.path.join(fdiry, fname)\n",
    "\n",
    "print(fpath)"
   ]
  },
  {
   "cell_type": "code",
   "execution_count": 9,
   "metadata": {},
   "outputs": [
    {
     "name": "stdout",
     "output_type": "stream",
     "text": [
      "chr17\t60004\t60022\tZNF140\t5.6897\n",
      "chr17\t60004\t60022\tZNF667\t8.024\n",
      "chr17\t60006\t60015\tEbox/CAGCTG\t7.9275\n",
      "chr17\t60011\t60031\tGC-tract\t12.122\n",
      "chr17\t60012\t60025\tPRDM4\t1.3083\n",
      "chr17\t60017\t60028\tNR/19\t9.668\n",
      "chr17\t60019\t60035\tHEN1\t5.5854\n",
      "chr17\t60023\t60042\tZNF680\t6.3901\n",
      "chr17\t60027\t60037\tSMARCA1\t7.5566\n",
      "chr17\t60027\t60040\tLEF1\t7.1402\n"
     ]
    }
   ],
   "source": [
    "%%script env FPATH=\"$fpath\" bash\n",
    "zcat ${FPATH} | head"
   ]
  },
  {
   "cell_type": "markdown",
   "metadata": {},
   "source": [
    "## Test read motif data"
   ]
  },
  {
   "cell_type": "code",
   "execution_count": 10,
   "metadata": {},
   "outputs": [],
   "source": [
    "def prep_line(lst):\n",
    "    key = \"_\".join(lst[0:(len(lst)-1)])\n",
    "    return [key] + lst"
   ]
  },
  {
   "cell_type": "code",
   "execution_count": 11,
   "metadata": {},
   "outputs": [
    {
     "name": "stdout",
     "output_type": "stream",
     "text": [
      "['chr17', '60004', '60022', 'ZNF140', '5.6897']\n",
      "['chr17_60004_60022_ZNF140', 'chr17', '60004', '60022', 'ZNF140', '5.6897']\n",
      "['chr17', '60004', '60022', 'ZNF667', '8.024']\n",
      "['chr17_60004_60022_ZNF667', 'chr17', '60004', '60022', 'ZNF667', '8.024']\n",
      "['chr17', '60006', '60015', 'Ebox/CAGCTG', '7.9275']\n",
      "['chr17_60006_60015_Ebox/CAGCTG', 'chr17', '60006', '60015', 'Ebox/CAGCTG', '7.9275']\n",
      "['chr17', '60011', '60031', 'GC-tract', '12.122']\n",
      "['chr17_60011_60031_GC-tract', 'chr17', '60011', '60031', 'GC-tract', '12.122']\n",
      "['chr17', '60012', '60025', 'PRDM4', '1.3083']\n",
      "['chr17_60012_60025_PRDM4', 'chr17', '60012', '60025', 'PRDM4', '1.3083']\n",
      "['chr17', '60017', '60028', 'NR/19', '9.668']\n",
      "['chr17_60017_60028_NR/19', 'chr17', '60017', '60028', 'NR/19', '9.668']\n",
      "['chr17', '60019', '60035', 'HEN1', '5.5854']\n",
      "['chr17_60019_60035_HEN1', 'chr17', '60019', '60035', 'HEN1', '5.5854']\n",
      "['chr17', '60023', '60042', 'ZNF680', '6.3901']\n",
      "['chr17_60023_60042_ZNF680', 'chr17', '60023', '60042', 'ZNF680', '6.3901']\n",
      "['chr17', '60027', '60037', 'SMARCA1', '7.5566']\n",
      "['chr17_60027_60037_SMARCA1', 'chr17', '60027', '60037', 'SMARCA1', '7.5566']\n",
      "['chr17', '60027', '60040', 'LEF1', '7.1402']\n",
      "['chr17_60027_60040_LEF1', 'chr17', '60027', '60040', 'LEF1', '7.1402']\n"
     ]
    }
   ],
   "source": [
    "fdiry = os.path.join(FD_ANN, \"motif_cluster_jvierstra\", \"hg38_archetype_motifs_v1\")\n",
    "fname = \"chr17_rm_mouse_merge.bed.gz\"\n",
    "fpath = os.path.join(fdiry, fname)\n",
    "\n",
    "n_lines = 10\n",
    "with gzip.open(fpath, \"rb\") as file:\n",
    "    lines = it.islice(file, n_lines)\n",
    "    for line in lines:\n",
    "        lst = line.decode('ASCII').strip().split('\\t')  \n",
    "        print(lst)\n",
    "        print(prep_line(lst))"
   ]
  },
  {
   "cell_type": "markdown",
   "metadata": {},
   "source": [
    "## Create motif table"
   ]
  },
  {
   "cell_type": "code",
   "execution_count": 19,
   "metadata": {},
   "outputs": [],
   "source": [
    "query_reset_table = \"DROP TABLE IF EXISTS Motif\"\n",
    "query_reset_index = \"DROP INDEX IF EXISTS idx_motif_loc\"\n",
    "\n",
    "query_table = \"\"\"\n",
    "    CREATE TABLE IF NOT EXISTS Motif(\n",
    "        binding TEXT PRIMARY KEY, \n",
    "        chrom   TEXT,\n",
    "        start   INTEGER,\n",
    "        end     INTEGER,\n",
    "        motif   TEXT,\n",
    "        score   REAL\n",
    "    );\"\"\"\n",
    "\n",
    "query_index  = \"\"\"CREATE INDEX idx_motif_loc ON Motif (chrom, start, end)\"\"\"\n",
    "query_insert = \"\"\"\n",
    "    INSERT OR IGNORE INTO Motif \n",
    "        (binding,chrom,start,end,motif,score)\n",
    "    VALUES \n",
    "        (?,?,?,?,?,?)\n",
    "    \"\"\""
   ]
  },
  {
   "cell_type": "code",
   "execution_count": 21,
   "metadata": {},
   "outputs": [
    {
     "name": "stdout",
     "output_type": "stream",
     "text": [
      "('chr17_60004_60022_ZNF140', 'chr17', 60004, 60022, 'ZNF140', 5.6897)\n",
      "('chr17_60004_60022_ZNF667', 'chr17', 60004, 60022, 'ZNF667', 8.024)\n",
      "('chr17_60006_60015_Ebox/CAGCTG', 'chr17', 60006, 60015, 'Ebox/CAGCTG', 7.9275)\n",
      "('chr17_60011_60031_GC-tract', 'chr17', 60011, 60031, 'GC-tract', 12.122)\n",
      "('chr17_60012_60025_PRDM4', 'chr17', 60012, 60025, 'PRDM4', 1.3083)\n",
      "('chr17_60017_60028_NR/19', 'chr17', 60017, 60028, 'NR/19', 9.668)\n",
      "('chr17_60019_60035_HEN1', 'chr17', 60019, 60035, 'HEN1', 5.5854)\n",
      "('chr17_60023_60042_ZNF680', 'chr17', 60023, 60042, 'ZNF680', 6.3901)\n",
      "('chr17_60027_60037_SMARCA1', 'chr17', 60027, 60037, 'SMARCA1', 7.5566)\n",
      "('chr17_60027_60040_LEF1', 'chr17', 60027, 60040, 'LEF1', 7.1402)\n"
     ]
    }
   ],
   "source": [
    "fdiry = os.path.join(FD_ANN, \"motif_cluster_jvierstra\", \"hg38_archetype_motifs_v1\")\n",
    "fname = \"chr17_rm_mouse_merge.bed.gz\"\n",
    "fpath_gz = os.path.join(fdiry, fname)\n",
    "fpath_db = FPATH_DB\n",
    "\n",
    "with sqlite3.connect(fpath_db) as conn, gzip.open(fpath_gz, \"rb\") as file:\n",
    "    ### reset\n",
    "    cursor = conn.cursor()\n",
    "    query  = query_reset_table\n",
    "    cursor.execute(query)\n",
    "    query  = query_reset_index\n",
    "    cursor.execute(query)\n",
    "    \n",
    "    ### create table\n",
    "    cursor = conn.cursor()\n",
    "    query  = query_table\n",
    "    cursor.execute(query)\n",
    "    \n",
    "    ### create index\n",
    "    cursor = conn.cursor()\n",
    "    query  = query_index\n",
    "    cursor.execute(query)\n",
    "    \n",
    "    ### insert values\n",
    "    query  = query_insert\n",
    "    lines = it.islice(file, n_lines)\n",
    "    for line in lines:\n",
    "        lst = line.decode('ASCII').strip().split('\\t')  \n",
    "        lst = prep_line(lst)\n",
    "        cursor.execute(query, lst)\n",
    "    \n",
    "    ### show that the table is created\n",
    "    cursor.execute(\"SELECT * FROM Motif\")\n",
    "    for row in cursor.fetchall():\n",
    "        print(row)"
   ]
  },
  {
   "cell_type": "markdown",
   "metadata": {},
   "source": [
    "## Insert the whole file"
   ]
  },
  {
   "cell_type": "code",
   "execution_count": 22,
   "metadata": {},
   "outputs": [
    {
     "name": "stdout",
     "output_type": "stream",
     "text": [
      "CPU times: user 2min 17s, sys: 5.75 s, total: 2min 23s\n",
      "Wall time: 2min 42s\n"
     ]
    }
   ],
   "source": [
    "%%time\n",
    "\n",
    "fdiry = os.path.join(FD_ANN, \"motif_cluster_jvierstra\", \"hg38_archetype_motifs_v1\")\n",
    "fname = \"chr17_rm_mouse_merge.bed.gz\"\n",
    "fpath_gz = os.path.join(fdiry, fname)\n",
    "fpath_db = FPATH_DB\n",
    "\n",
    "with sqlite3.connect(fpath_db) as conn, gzip.open(fpath_gz, \"rb\") as file:\n",
    "    ### reset\n",
    "    cursor = conn.cursor()\n",
    "    query  = query_reset_table\n",
    "    cursor.execute(query)\n",
    "    query  = query_reset_index\n",
    "    cursor.execute(query)\n",
    "    \n",
    "    ### create table\n",
    "    cursor = conn.cursor()\n",
    "    query  = query_table\n",
    "    cursor.execute(query)\n",
    "    \n",
    "    ### create index\n",
    "    cursor = conn.cursor()\n",
    "    query  = query_index\n",
    "    cursor.execute(query)\n",
    "    \n",
    "    ### insert values\n",
    "    query  = query_insert\n",
    "    lines = file #it.islice(file, n_lines)\n",
    "    for line in lines:\n",
    "        lst = line.decode('ASCII').strip().split('\\t')  \n",
    "        lst = prep_line(lst)\n",
    "        cursor.execute(query, lst)"
   ]
  },
  {
   "cell_type": "markdown",
   "metadata": {},
   "source": [
    "**Check**"
   ]
  },
  {
   "cell_type": "code",
   "execution_count": 23,
   "metadata": {},
   "outputs": [
    {
     "name": "stdout",
     "output_type": "stream",
     "text": [
      "/mount/work/annotation/motif_cluster_jvierstra/hg38_archetype_motifs_v1/chr17_rm_mouse_merge.bed.gz\n"
     ]
    }
   ],
   "source": [
    "fdiry = os.path.join(FD_ANN, \"motif_cluster_jvierstra\", \"hg38_archetype_motifs_v1\")\n",
    "fname = \"chr17_rm_mouse_merge.bed.gz\"\n",
    "fpath = os.path.join(fdiry, fname)\n",
    "\n",
    "print(fpath)"
   ]
  },
  {
   "cell_type": "code",
   "execution_count": 24,
   "metadata": {},
   "outputs": [
    {
     "name": "stdout",
     "output_type": "stream",
     "text": [
      "14308212\n"
     ]
    }
   ],
   "source": [
    "%%script env FPATH=\"$fpath\" bash\n",
    "zcat ${FPATH} | wc -l"
   ]
  },
  {
   "cell_type": "code",
   "execution_count": 25,
   "metadata": {},
   "outputs": [
    {
     "name": "stdout",
     "output_type": "stream",
     "text": [
      "[(14308212,)]\n"
     ]
    }
   ],
   "source": [
    "fpath_db = FPATH_DB\n",
    "with sqlite3.connect(fpath_db) as conn:\n",
    "    cursor = conn.cursor()\n",
    "    query = \"select count(*) from Motif\"\n",
    "    cursor.execute(query)\n",
    "    print(cursor.fetchall())"
   ]
  }
 ],
 "metadata": {
  "kernelspec": {
   "display_name": "Python 3",
   "language": "python",
   "name": "python3"
  },
  "language_info": {
   "codemirror_mode": {
    "name": "ipython",
    "version": 3
   },
   "file_extension": ".py",
   "mimetype": "text/x-python",
   "name": "python",
   "nbconvert_exporter": "python",
   "pygments_lexer": "ipython3",
   "version": "3.7.6"
  }
 },
 "nbformat": 4,
 "nbformat_minor": 4
}
