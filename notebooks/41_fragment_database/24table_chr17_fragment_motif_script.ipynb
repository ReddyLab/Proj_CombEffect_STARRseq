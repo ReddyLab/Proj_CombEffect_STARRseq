{
 "cells": [
  {
   "cell_type": "code",
   "execution_count": 1,
   "id": "34103c9d-e457-4583-b10d-30c99775f985",
   "metadata": {},
   "outputs": [
    {
     "name": "stdout",
     "output_type": "stream",
     "text": [
      "You are on Duke Server: HARDAC\n",
      "BASE DIRECTORY:     /gpfs/fs1/data/reddylab/Kuei\n",
      "PATH OF SOURCE:     /gpfs/fs1/data/reddylab/Kuei/source\n",
      "PATH OF EXECUTABLE: /gpfs/fs1/data/reddylab/Kuei/exe\n",
      "PATH OF ANNOTATION: /gpfs/fs1/data/reddylab/Kuei/annotation\n",
      "PATH OF PROJECT:    /gpfs/fs1/data/reddylab/Kuei/GitRepo/Proj_CombEffect_STARRseq/notebooks\n",
      "PATH OF RESULTS:    /gpfs/fs1/data/reddylab/Kuei/out/proj_combeffect\n",
      "\n"
     ]
    }
   ],
   "source": [
    "source ../config_duke.sh -v"
   ]
  },
  {
   "cell_type": "code",
   "execution_count": 17,
   "id": "a6d62589-3705-4175-88a5-83b971152347",
   "metadata": {},
   "outputs": [
    {
     "name": "stdout",
     "output_type": "stream",
     "text": [
      "You are on Duke Server: Singularity: Proj CombEffect\n",
      "BASE DIRECTORY:     /mount/work\n",
      "PATH OF SOURCE:     /mount/work/source\n",
      "PATH OF EXECUTABLE: /mount/work/exe\n",
      "PATH OF ANNOTATION: /mount/work/annotation\n",
      "PATH OF PROJECT:    /mount/project\n",
      "PATH OF RESULTS:    /mount/work/out/proj_combeffect\n",
      "/mount/work/out/proj_combeffect/database/fragment_chr17.db\n"
     ]
    }
   ],
   "source": [
    "../sing_proj_combeffect.sh python table_fragment_motif.py"
   ]
  },
  {
   "cell_type": "code",
   "execution_count": 21,
   "id": "43dcf347-4a4b-43bd-9e3d-8a82ff138228",
   "metadata": {},
   "outputs": [
    {
     "name": "stdout",
     "output_type": "stream",
     "text": [
      "all\n"
     ]
    }
   ],
   "source": [
    "echo ${NODE}"
   ]
  },
  {
   "cell_type": "code",
   "execution_count": 45,
   "id": "2d5877d2-c416-42ed-9a3d-0582b98b3221",
   "metadata": {},
   "outputs": [
    {
     "name": "stdout",
     "output_type": "stream",
     "text": [
      "Submitted batch job 27430082\n"
     ]
    }
   ],
   "source": [
    "source ../config_duke.sh\n",
    "\n",
    "sbatch -p ${NODE} \\\n",
    "    --mem 8G \\\n",
    "    -o ${FD_LOG}/db_table_fragment_motif.txt \\\n",
    "    <<'EOF'\n",
    "#!/bin/bash\n",
    "### set directories & global variables\n",
    "source ../config_duke.sh\n",
    "\n",
    "### print start message\n",
    "timer_start=`date +%s`\n",
    "echo \"Slurm Array Index: \" ${SLURM_ARRAY_TASK_ID}\n",
    "echo \"Time Stamp:        \" $(date +\"%m-%d-%y+%T\")\n",
    "echo\n",
    "\n",
    "###\n",
    "${FD_PRJ}/sing_proj_combeffect.sh python table_fragment_motif.py chr17\n",
    "\n",
    "### print end message\n",
    "timer=`date +%s`\n",
    "runtime=$(echo \"${timer} - ${timer_start}\" | bc -l)\n",
    "echo\n",
    "echo 'Done!'\n",
    "echo \"Run Time: $(displaytime ${runtime})\"\n",
    "\n",
    "EOF"
   ]
  },
  {
   "cell_type": "code",
   "execution_count": 44,
   "id": "7838b48d-b44e-472d-902e-72c26910221f",
   "metadata": {},
   "outputs": [
    {
     "name": "stdout",
     "output_type": "stream",
     "text": [
      "Slurm Array Index: \n",
      "Time Stamp:         02-24-22+13:04:13\n",
      "\n",
      "You are on Duke Server: Singularity: Proj CombEffect\n",
      "BASE DIRECTORY:     /mount/work\n",
      "PATH OF SOURCE:     /mount/work/source\n",
      "PATH OF EXECUTABLE: /mount/work/exe\n",
      "PATH OF ANNOTATION: /mount/work/annotation\n",
      "PATH OF PROJECT:    /mount/project\n",
      "PATH OF RESULTS:    /mount/work/out/proj_combeffect\n",
      "\n",
      "Global variables:\n",
      "Chromsome:       chr17\n",
      "Database:        /mount/work/out/proj_combeffect/database/fragment_chr17.db\n",
      "Table file name: chr17.bed.gz\n",
      "\n",
      "/mount/work/out/proj_combeffect/annotation/Input1/chr17.bed.gz\n",
      "#Rows: 5; Inserted: 4\n",
      "/mount/work/out/proj_combeffect/annotation/Input2/chr17.bed.gz\n",
      "#Rows: 5; Inserted: 4\n",
      "/mount/work/out/proj_combeffect/annotation/Input3/chr17.bed.gz\n",
      "#Rows: 5; Inserted: 4\n",
      "/mount/work/out/proj_combeffect/annotation/Input4/chr17.bed.gz\n",
      "#Rows: 5; Inserted: 3\n",
      "/mount/work/out/proj_combeffect/annotation/Input5/chr17.bed.gz\n",
      "#Rows: 5; Inserted: 1\n",
      "/mount/work/out/proj_combeffect/annotation/Input1_20x/chr17.bed.gz\n",
      "#Rows: 5; Inserted: 3\n",
      "/mount/work/out/proj_combeffect/annotation/Input2_20x/chr17.bed.gz\n",
      "#Rows: 5; Inserted: 3\n",
      "/mount/work/out/proj_combeffect/annotation/Input3_20x/chr17.bed.gz\n",
      "#Rows: 5; Inserted: 0\n",
      "/mount/work/out/proj_combeffect/annotation/Input4_20x/chr17.bed.gz\n",
      "#Rows: 5; Inserted: 4\n",
      "/mount/work/out/proj_combeffect/annotation/Input5_20x/chr17.bed.gz\n",
      "#Rows: 5; Inserted: 3\n",
      "/mount/work/out/proj_combeffect/annotation/TFX2_DMSO/chr17.bed.gz\n",
      "#Rows: 5; Inserted: 4\n",
      "/mount/work/out/proj_combeffect/annotation/TFX3_DMSO/chr17.bed.gz\n",
      "#Rows: 5; Inserted: 2\n",
      "/mount/work/out/proj_combeffect/annotation/TFX4_DMSO/chr17.bed.gz\n",
      "#Rows: 5; Inserted: 2\n",
      "/mount/work/out/proj_combeffect/annotation/TFX5_DMSO/chr17.bed.gz\n",
      "#Rows: 5; Inserted: 0\n",
      "/mount/work/out/proj_combeffect/annotation/TFX2_Dex/chr17.bed.gz\n",
      "#Rows: 5; Inserted: 4\n",
      "/mount/work/out/proj_combeffect/annotation/TFX3_Dex/chr17.bed.gz\n",
      "#Rows: 5; Inserted: 3\n",
      "/mount/work/out/proj_combeffect/annotation/TFX4_Dex/chr17.bed.gz\n",
      "#Rows: 5; Inserted: 2\n",
      "/mount/work/out/proj_combeffect/annotation/TFX5_Dex/chr17.bed.gz\n",
      "#Rows: 5; Inserted: 3\n",
      "\n",
      "#Rows Total: 49\n",
      "#Rows Table: [(49,)]\n",
      "\n",
      "Done!\n",
      "Run Time: 3 seconds\n"
     ]
    }
   ],
   "source": [
    "cat ${FD_LOG}/db_table_fragment_motif.txt"
   ]
  },
  {
   "cell_type": "code",
   "execution_count": 2,
   "id": "11f9bd06-fa3c-44b7-ae77-f717de86b9f3",
   "metadata": {},
   "outputs": [
    {
     "name": "stdout",
     "output_type": "stream",
     "text": [
      "/mount/work/out/proj_combeffect/annotation/TFX4_Dex/chr17.bed.gz\n",
      "#Rows: 243927983; Inserted: 237854934\n",
      "/mount/work/out/proj_combeffect/annotation/TFX5_Dex/chr17.bed.gz\n",
      "#Rows: 296993590; Inserted: 289571051\n",
      "\n",
      "#Rows Total: 10932667070\n",
      "#Rows Table: [(6827288353,)]\n",
      "\n",
      "Done!\n",
      "Run Time: 4 days 4 hours 30 minutes and 45 seconds\n"
     ]
    }
   ],
   "source": [
    "tail ${FD_LOG}/db_table_fragment_motif.txt"
   ]
  },
  {
   "cell_type": "code",
   "execution_count": null,
   "id": "d4272efe-6256-41d1-b733-f87cab60c7f1",
   "metadata": {},
   "outputs": [],
   "source": []
  }
 ],
 "metadata": {
  "kernelspec": {
   "display_name": "Bash",
   "language": "bash",
   "name": "bash"
  },
  "language_info": {
   "codemirror_mode": "shell",
   "file_extension": ".sh",
   "mimetype": "text/x-sh",
   "name": "bash"
  }
 },
 "nbformat": 4,
 "nbformat_minor": 5
}
