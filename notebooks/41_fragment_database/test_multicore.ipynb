{
 "cells": [
  {
   "cell_type": "code",
   "execution_count": 1,
   "id": "cad564d2-7dd2-4c39-bb94-f5ae346b905e",
   "metadata": {},
   "outputs": [
    {
     "name": "stdout",
     "output_type": "stream",
     "text": [
      "You are on Duke Server: HARDAC\n",
      "BASE DIRECTORY:     /gpfs/fs1/data/reddylab/Kuei\n",
      "PATH OF SOURCE:     /gpfs/fs1/data/reddylab/Kuei/source\n",
      "PATH OF EXECUTABLE: /gpfs/fs1/data/reddylab/Kuei/exe\n",
      "PATH OF ANNOTATION: /gpfs/fs1/data/reddylab/Kuei/annotation\n",
      "PATH OF PROJECT:    /gpfs/fs1/data/reddylab/Kuei/GitRepo/Proj_CombEffect_STARRseq/notebooks\n",
      "PATH OF RESULTS:    /gpfs/fs1/data/reddylab/Kuei/out/proj_combeffect\n",
      "\n"
     ]
    }
   ],
   "source": [
    "source ../config_duke.sh -v"
   ]
  },
  {
   "cell_type": "code",
   "execution_count": 49,
   "id": "8bed2e05-defb-4cab-8980-902ee2a75a19",
   "metadata": {},
   "outputs": [
    {
     "name": "stdout",
     "output_type": "stream",
     "text": [
      "### load tools\n",
      "import os\n",
      "from sklearn.datasets import make_blobs\n",
      "#from sklearn.manifold import TSNE\n",
      "from MulticoreTSNE import MulticoreTSNE as TSNE\n",
      "from matplotlib import pyplot as plt\n",
      "\n",
      "###\n",
      "import multiprocessing\n",
      "print(multiprocessing.cpu_count())\n",
      "\n",
      "\n",
      "### update print\n",
      "from functools import partial\n",
      "print = partial(print, flush=True)\n",
      "\n",
      "### parse argument\n",
      "import argparse\n",
      "parser = argparse.ArgumentParser()\n",
      "parser.add_argument(\n",
      "    'n_core', \n",
      "    type=int, \n",
      "    help='Number of cores')\n",
      "args = parser.parse_args()\n",
      "\n",
      "N_CORE = args.n_core\n",
      "\n",
      "### generate data\n",
      "n_samples  = 10000\n",
      "n_centers  = 5\n",
      "n_features = 2\n",
      "X, y = make_blobs(\n",
      "    n_samples    = n_samples, \n",
      "    n_features   = n_features, \n",
      "    cluster_std  = 1.0,\n",
      "    centers      = n_centers, \n",
      "    shuffle      = False, \n",
      "    random_state = 42)\n",
      "\n",
      "###\n",
      "print(\"Generate Data:\")\n",
      "print(X.shape)\n",
      "print(y.shape)\n",
      "\n",
      "###\n",
      "embeddings = TSNE(n_jobs=N_CORE, verbose=1).fit_transform(X)\n",
      "\n",
      "\n",
      "###\n",
      "fig, axes = plt.subplots(ncols=2, nrows=1, figsize=(7, 3))\n",
      "\n",
      "vis_x = X[:, 0]\n",
      "vis_y = X[:, 1]\n",
      "ax = axes[0]\n",
      "im = ax.scatter(vis_x, vis_y, c=y, cmap=plt.cm.get_cmap(\"jet\", n_centers), marker='.')\n",
      "\n",
      "vis_x = embeddings[:, 0]\n",
      "vis_y = embeddings[:, 1]\n",
      "ax = axes[1]\n",
      "im = ax.scatter(vis_x, vis_y, c=y, cmap=plt.cm.get_cmap(\"jet\", n_centers), marker='.')\n",
      "\n",
      "fig.subplots_adjust(right=0.8)\n",
      "cax  = fig.add_axes([0.85, 0.15, 0.05, 0.7])\n",
      "cbar = fig.colorbar(im, cax=cax)\n",
      "\n",
      "fname = \"mctsne_blob_\" + str(N_CORE) + \".png\"\n",
      "plt.savefig(fname)"
     ]
    }
   ],
   "source": [
    "cat test_mctsne.py"
   ]
  },
  {
   "cell_type": "code",
   "execution_count": 33,
   "id": "e750ab86-3d87-4412-87bb-9a5b1f4513a5",
   "metadata": {},
   "outputs": [
    {
     "name": "stdout",
     "output_type": "stream",
     "text": [
      "Submitted batch job 27651649\n"
     ]
    }
   ],
   "source": [
    "source ../config_duke.sh\n",
    "\n",
    "sbatch -p ${NODE} \\\n",
    "    --mem 8G \\\n",
    "    --ntasks 1 \\\n",
    "    --cpus-per-task 20 \\\n",
    "    --array 0-4 \\\n",
    "    -o ${FD_LOG}/test_mctsne.%a.txt \\\n",
    "    <<'EOF'\n",
    "#!/bin/bash\n",
    "### set directories & global variables\n",
    "source ../config_duke.sh\n",
    "\n",
    "### print start message\n",
    "timer_start=`date +%s`\n",
    "echo \"Slurm Array Index: \" ${SLURM_ARRAY_TASK_ID}\n",
    "echo \"Time Stamp:        \" $(date +\"%m-%d-%y+%T\")\n",
    "echo\n",
    "\n",
    "###\n",
    "idx=${SLURM_ARRAY_TASK_ID}\n",
    "NCORES=(1 2 4 8 16)\n",
    "NCORE=${NCORES[${idx}]}\n",
    "\n",
    "\n",
    "###\n",
    "${FD_PRJ}/sing_proj_combeffect.sh python test_mctsne.py ${NCORE}\n",
    "\n",
    "### print end message\n",
    "timer=`date +%s`\n",
    "runtime=$(echo \"${timer} - ${timer_start}\" | bc -l)\n",
    "echo\n",
    "echo 'Done!'\n",
    "echo \"Run Time: $(displaytime ${runtime})\"\n",
    "echo \"Number of cores:\" ${NCORE}\n",
    "EOF"
   ]
  },
  {
   "cell_type": "code",
   "execution_count": null,
   "id": "6a136141-29f4-41ad-a92e-db1d57be7671",
   "metadata": {},
   "outputs": [],
   "source": [
    "x2-02-[2-4],x2-03-[1-4],x2-04-[1-4]"
   ]
  },
  {
   "cell_type": "code",
   "execution_count": 40,
   "id": "85571101-e634-4ee2-8152-825f81936768",
   "metadata": {},
   "outputs": [
    {
     "name": "stdout",
     "output_type": "stream",
     "text": [
      "==> /gpfs/fs1/data/reddylab/Kuei/out/proj_combeffect/log/test_mctsne.0.txt <==\n",
      "Slurm Array Index:  0\n",
      "Time Stamp:         03-13-22+21:50:02\n",
      "\n",
      "56\n",
      "Generate Data:\n",
      "(10000, 2)\n",
      "(10000,)\n",
      "\n",
      "==> /gpfs/fs1/data/reddylab/Kuei/out/proj_combeffect/log/test_mctsne.1.txt <==\n",
      "Slurm Array Index:  1\n",
      "Time Stamp:         03-13-22+21:50:02\n",
      "\n",
      "56\n",
      "Generate Data:\n",
      "(10000, 2)\n",
      "(10000,)\n",
      "\n",
      "==> /gpfs/fs1/data/reddylab/Kuei/out/proj_combeffect/log/test_mctsne.2.txt <==\n",
      "Slurm Array Index:  2\n",
      "Time Stamp:         03-13-22+21:50:02\n",
      "\n",
      "56\n",
      "Generate Data:\n",
      "(10000, 2)\n",
      "(10000,)\n",
      "\n",
      "==> /gpfs/fs1/data/reddylab/Kuei/out/proj_combeffect/log/test_mctsne.3.txt <==\n",
      "Slurm Array Index:  3\n",
      "Time Stamp:         03-13-22+21:50:02\n",
      "\n",
      "56\n",
      "Generate Data:\n",
      "(10000, 2)\n",
      "(10000,)\n",
      "\n",
      "==> /gpfs/fs1/data/reddylab/Kuei/out/proj_combeffect/log/test_mctsne.4.txt <==\n",
      "Slurm Array Index:  4\n",
      "Time Stamp:         03-13-22+21:50:02\n",
      "\n",
      "56\n",
      "Generate Data:\n",
      "(10000, 2)\n",
      "(10000,)\n"
     ]
    }
   ],
   "source": [
    "head -n 7 ${FD_LOG}/test_mctsne.*.txt"
   ]
  },
  {
   "cell_type": "code",
   "execution_count": 19,
   "id": "25f59070-d15b-414c-8858-bcac84342dad",
   "metadata": {},
   "outputs": [
    {
     "name": "stdout",
     "output_type": "stream",
     "text": [
      "Number of cores: 8\n"
     ]
    }
   ],
   "source": [
    "idx=3\n",
    "NCORES=(1 2 4 8 16)\n",
    "NCORE=${NCORES[${idx}]}\n",
    "echo \"Number of cores:\" ${NCORE}"
   ]
  },
  {
   "cell_type": "code",
   "execution_count": 56,
   "id": "099009fe-7e1b-455b-aba0-535fd8601f48",
   "metadata": {},
   "outputs": [
    {
     "name": "stdout",
     "output_type": "stream",
     "text": [
      "Submitted batch job 27664275\n"
     ]
    }
   ],
   "source": [
    "source ../config_duke.sh\n",
    "\n",
    "sbatch -p ${NODE} \\\n",
    "    --mem 8G \\\n",
    "    --exclusive \\\n",
    "    -o ${FD_LOG}/test_mctsne_nc2.txt \\\n",
    "    <<'EOF'\n",
    "#!/bin/bash\n",
    "### set directories & global variables\n",
    "source ../config_duke.sh\n",
    "\n",
    "### print start message\n",
    "timer_start=`date +%s`\n",
    "echo \"Slurm Array Index: \" ${SLURM_ARRAY_TASK_ID}\n",
    "echo \"Time Stamp:        \" $(date +\"%m-%d-%y+%T\")\n",
    "echo\n",
    "\n",
    "###\n",
    "#idx=${SLURM_ARRAY_TASK_ID}\n",
    "#NCORES=(1 2 4 8 16)\n",
    "#NCORE=${NCORES[${idx}]}\n",
    "NCORE=2\n",
    "\n",
    "###\n",
    "${FD_PRJ}/sing_proj_combeffect.sh python test_mctsne.py ${NCORE}\n",
    "\n",
    "### print end message\n",
    "timer=`date +%s`\n",
    "runtime=$(echo \"${timer} - ${timer_start}\" | bc -l)\n",
    "echo\n",
    "echo 'Done!'\n",
    "echo \"Run Time: $(displaytime ${runtime})\"\n",
    "echo \"Number of cores:\" ${NCORE}\n",
    "EOF"
   ]
  },
  {
   "cell_type": "code",
   "execution_count": 57,
   "id": "f97e79a2-be70-4796-98c4-5e20cd8a4b3d",
   "metadata": {},
   "outputs": [
    {
     "name": "stdout",
     "output_type": "stream",
     "text": [
      "Submitted batch job 27664276\n"
     ]
    }
   ],
   "source": [
    "source ../config_duke.sh\n",
    "\n",
    "sbatch -p ${NODE} \\\n",
    "    --mem 8G \\\n",
    "    --exclusive \\\n",
    "    -o ${FD_LOG}/test_mctsne_nc8.txt \\\n",
    "    <<'EOF'\n",
    "#!/bin/bash\n",
    "### set directories & global variables\n",
    "source ../config_duke.sh\n",
    "\n",
    "### print start message\n",
    "timer_start=`date +%s`\n",
    "echo \"Slurm Array Index: \" ${SLURM_ARRAY_TASK_ID}\n",
    "echo \"Time Stamp:        \" $(date +\"%m-%d-%y+%T\")\n",
    "echo\n",
    "\n",
    "###\n",
    "#idx=${SLURM_ARRAY_TASK_ID}\n",
    "#NCORES=(1 2 4 8 16)\n",
    "#NCORE=${NCORES[${idx}]}\n",
    "NCORE=8\n",
    "\n",
    "###\n",
    "${FD_PRJ}/sing_proj_combeffect.sh python test_mctsne.py ${NCORE}\n",
    "\n",
    "### print end message\n",
    "timer=`date +%s`\n",
    "runtime=$(echo \"${timer} - ${timer_start}\" | bc -l)\n",
    "echo\n",
    "echo 'Done!'\n",
    "echo \"Run Time: $(displaytime ${runtime})\"\n",
    "echo \"Number of cores:\" ${NCORE}\n",
    "EOF"
   ]
  },
  {
   "cell_type": "code",
   "execution_count": 58,
   "id": "9b741906-d820-4bac-92d6-2cf2c2284fb2",
   "metadata": {},
   "outputs": [
    {
     "name": "stdout",
     "output_type": "stream",
     "text": [
      "Submitted batch job 27664277\n"
     ]
    }
   ],
   "source": [
    "source ../config_duke.sh\n",
    "\n",
    "sbatch -p ${NODE} \\\n",
    "    --mem 8G \\\n",
    "    --exclusive \\\n",
    "    -o ${FD_LOG}/test_mctsne_nc16.txt \\\n",
    "    <<'EOF'\n",
    "#!/bin/bash\n",
    "### set directories & global variables\n",
    "source ../config_duke.sh\n",
    "\n",
    "### print start message\n",
    "timer_start=`date +%s`\n",
    "echo \"Slurm Array Index: \" ${SLURM_ARRAY_TASK_ID}\n",
    "echo \"Time Stamp:        \" $(date +\"%m-%d-%y+%T\")\n",
    "echo\n",
    "\n",
    "###\n",
    "#idx=${SLURM_ARRAY_TASK_ID}\n",
    "#NCORES=(1 2 4 8 16)\n",
    "#NCORE=${NCORES[${idx}]}\n",
    "NCORE=16\n",
    "\n",
    "###\n",
    "${FD_PRJ}/sing_proj_combeffect.sh python test_mctsne.py ${NCORE}\n",
    "\n",
    "### print end message\n",
    "timer=`date +%s`\n",
    "runtime=$(echo \"${timer} - ${timer_start}\" | bc -l)\n",
    "echo\n",
    "echo 'Done!'\n",
    "echo \"Run Time: $(displaytime ${runtime})\"\n",
    "echo \"Number of cores:\" ${NCORE}\n",
    "EOF"
   ]
  },
  {
   "cell_type": "code",
   "execution_count": 59,
   "id": "520017f0-6817-45ad-9d83-3051a03bcf54",
   "metadata": {},
   "outputs": [
    {
     "name": "stdout",
     "output_type": "stream",
     "text": [
      "==> /gpfs/fs1/data/reddylab/Kuei/out/proj_combeffect/log/test_mctsne_nc16.txt <==\n",
      "[t-SNE] Computed conditional probabilities for sample 98000 / 100000\n",
      "[t-SNE] Computed conditional probabilities for sample 99000 / 100000\n",
      "[t-SNE] Computed conditional probabilities for sample 100000 / 100000\n",
      "[t-SNE] Mean sigma: 0.753046\n",
      "[t-SNE] KL divergence after 250 iterations with early exaggeration: 107.129372\n",
      "[t-SNE] KL divergence after 1000 iterations: 4.788664\n",
      "\n",
      "Done!\n",
      "Run Time: 5 minutes and 5 seconds\n",
      "Number of cores: 16\n",
      "\n",
      "==> /gpfs/fs1/data/reddylab/Kuei/out/proj_combeffect/log/test_mctsne_nc2.txt <==\n",
      "[t-SNE] Computed conditional probabilities for sample 98000 / 100000\n",
      "[t-SNE] Computed conditional probabilities for sample 99000 / 100000\n",
      "[t-SNE] Computed conditional probabilities for sample 100000 / 100000\n",
      "[t-SNE] Mean sigma: 0.753046\n",
      "[t-SNE] KL divergence after 250 iterations with early exaggeration: 107.162712\n",
      "[t-SNE] KL divergence after 1000 iterations: 4.793631\n",
      "\n",
      "Done!\n",
      "Run Time: 4 minutes and 47 seconds\n",
      "Number of cores: 2\n",
      "\n",
      "==> /gpfs/fs1/data/reddylab/Kuei/out/proj_combeffect/log/test_mctsne_nc8.txt <==\n",
      "[t-SNE] Computed conditional probabilities for sample 98000 / 100000\n",
      "[t-SNE] Computed conditional probabilities for sample 99000 / 100000\n",
      "[t-SNE] Computed conditional probabilities for sample 100000 / 100000\n",
      "[t-SNE] Mean sigma: 0.753046\n",
      "[t-SNE] KL divergence after 250 iterations with early exaggeration: 107.088028\n",
      "[t-SNE] KL divergence after 1000 iterations: 4.785567\n",
      "\n",
      "Done!\n",
      "Run Time: 4 minutes and 51 seconds\n",
      "Number of cores: 8\n"
     ]
    }
   ],
   "source": [
    "tail ${FD_LOG}/test_mctsne_nc*.txt"
   ]
  },
  {
   "cell_type": "code",
   "execution_count": null,
   "id": "db2d7f7d-ff95-4bff-b174-92c16f05ab88",
   "metadata": {},
   "outputs": [],
   "source": []
  },
  {
   "cell_type": "code",
   "execution_count": null,
   "id": "511e7871-2fbb-433e-99f6-2746339414e2",
   "metadata": {},
   "outputs": [],
   "source": []
  },
  {
   "cell_type": "code",
   "execution_count": null,
   "id": "8d30e65d-084e-4e92-b7fa-785d484abcb7",
   "metadata": {},
   "outputs": [],
   "source": []
  },
  {
   "cell_type": "code",
   "execution_count": 43,
   "id": "50026331-cadf-4248-991a-890e9b9b3ac9",
   "metadata": {},
   "outputs": [
    {
     "name": "stdout",
     "output_type": "stream",
     "text": [
      "Slurm Array Index: \n",
      "Time Stamp:         03-15-22+15:19:43\n",
      "\n",
      "56\n",
      "Generate Data:\n",
      "(10000, 2)\n",
      "(10000,)\n",
      "Performing t-SNE using 4 cores.\n",
      "Using no_dims = 2, perplexity = 30.000000, and theta = 0.500000\n",
      "Computing input similarities...\n",
      "Building tree...\n",
      " - point 1001 of 10000\n",
      " - point 2000 of 10000\n",
      " - point 3000 of 10000\n",
      " - point 4000 of 10000\n",
      " - point 5000 of 10000\n",
      " - point 6000 of 10000\n",
      " - point 7000 of 10000\n",
      " - point 8000 of 10000\n",
      " - point 9000 of 10000\n",
      " - point 10000 of 10000\n",
      "Done in 0.00 seconds (sparsity = 0.011329)!\n",
      "Learning embedding...\n",
      "Iteration 51: error is 88.366247 (50 iterations in 2.00 seconds)\n",
      "Iteration 101: error is 76.747441 (50 iterations in 2.00 seconds)\n",
      "Iteration 151: error is 72.003504 (50 iterations in 2.00 seconds)\n",
      "Iteration 201: error is 69.508217 (50 iterations in 2.00 seconds)\n",
      "Iteration 251: error is 68.090812 (50 iterations in 2.00 seconds)\n",
      "Iteration 301: error is 2.365633 (50 iterations in 1.00 seconds)\n",
      "Iteration 351: error is 1.946778 (50 iterations in 2.00 seconds)\n",
      "Iteration 401: error is 1.673479 (50 iterations in 2.00 seconds)\n",
      "Iteration 451: error is 1.485355 (50 iterations in 1.00 seconds)\n",
      "Iteration 501: error is 1.348248 (50 iterations in 2.00 seconds)\n",
      "Iteration 551: error is 1.245355 (50 iterations in 2.00 seconds)\n",
      "Iteration 601: error is 1.165171 (50 iterations in 1.00 seconds)\n",
      "Iteration 651: error is 1.102089 (50 iterations in 2.00 seconds)\n",
      "Iteration 701: error is 1.052497 (50 iterations in 2.00 seconds)\n",
      "Iteration 751: error is 1.012745 (50 iterations in 2.00 seconds)\n",
      "Iteration 801: error is 0.983655 (50 iterations in 1.00 seconds)\n",
      "Iteration 851: error is 0.962429 (50 iterations in 2.00 seconds)\n",
      "Iteration 901: error is 0.946051 (50 iterations in 2.00 seconds)\n",
      "Iteration 951: error is 0.934286 (50 iterations in 2.00 seconds)\n",
      "Iteration 1000: error is 0.925556 (50 iterations in 1.00 seconds)\n",
      "Fitting performed in 35.00 seconds.\n",
      "\n",
      "Done!\n",
      "Run Time: 40 seconds\n",
      "Number of cores: 2\n"
     ]
    }
   ],
   "source": [
    "cat ${FD_LOG}/test_mctsne_nc2.txt"
   ]
  },
  {
   "cell_type": "code",
   "execution_count": 46,
   "id": "f49a961b-f090-404f-b84c-f2a0cf965050",
   "metadata": {},
   "outputs": [
    {
     "name": "stdout",
     "output_type": "stream",
     "text": [
      "Slurm Array Index: \n",
      "Time Stamp:         03-15-22+15:20:43\n",
      "\n",
      "56\n",
      "Generate Data:\n",
      "(10000, 2)\n",
      "(10000,)\n",
      "Performing t-SNE using 4 cores.\n",
      "Using no_dims = 2, perplexity = 30.000000, and theta = 0.500000\n",
      "Computing input similarities...\n",
      "Building tree...\n",
      " - point 1000 of 10000\n",
      " - point 2000 of 10000\n",
      " - point 3000 of 10000\n",
      " - point 4000 of 10000\n",
      " - point 5000 of 10000\n",
      " - point 6000 of 10000\n",
      " - point 6001 of 10000\n",
      " - point 7000 of 10000\n",
      " - point 8000 of 10000\n",
      " - point 9000 of 10000\n",
      " - point 10000 of 10000\n",
      "Done in 0.00 seconds (sparsity = 0.011329)!\n",
      "Learning embedding...\n",
      "Iteration 51: error is 88.366247 (50 iterations in 2.00 seconds)\n",
      "Iteration 101: error is 76.747441 (50 iterations in 2.00 seconds)\n",
      "Iteration 151: error is 72.003504 (50 iterations in 2.00 seconds)\n",
      "Iteration 201: error is 69.508217 (50 iterations in 1.00 seconds)\n",
      "Iteration 251: error is 68.090812 (50 iterations in 2.00 seconds)\n",
      "Iteration 301: error is 2.365633 (50 iterations in 2.00 seconds)\n",
      "Iteration 351: error is 1.946778 (50 iterations in 2.00 seconds)\n",
      "Iteration 401: error is 1.673479 (50 iterations in 1.00 seconds)\n",
      "Iteration 451: error is 1.485355 (50 iterations in 2.00 seconds)\n",
      "Iteration 501: error is 1.348248 (50 iterations in 1.00 seconds)\n",
      "Iteration 551: error is 1.245355 (50 iterations in 2.00 seconds)\n",
      "Iteration 601: error is 1.165171 (50 iterations in 2.00 seconds)\n",
      "Iteration 651: error is 1.102089 (50 iterations in 1.00 seconds)\n",
      "Iteration 701: error is 1.052497 (50 iterations in 2.00 seconds)\n",
      "Iteration 751: error is 1.012745 (50 iterations in 2.00 seconds)\n",
      "Iteration 801: error is 0.983655 (50 iterations in 2.00 seconds)\n",
      "Iteration 851: error is 0.962429 (50 iterations in 1.00 seconds)\n",
      "Iteration 901: error is 0.946051 (50 iterations in 2.00 seconds)\n",
      "Iteration 951: error is 0.934286 (50 iterations in 2.00 seconds)\n",
      "Iteration 1000: error is 0.925556 (50 iterations in 1.00 seconds)\n",
      "Fitting performed in 34.00 seconds.\n",
      "\n",
      "Done!\n",
      "Run Time: 37 seconds\n",
      "Number of cores: 8\n"
     ]
    }
   ],
   "source": [
    "cat ${FD_LOG}/test_mctsne_nc8.txt"
   ]
  },
  {
   "cell_type": "code",
   "execution_count": 54,
   "id": "a9ab4d32-8bab-406b-b447-90179e62eb97",
   "metadata": {},
   "outputs": [
    {
     "name": "stdout",
     "output_type": "stream",
     "text": [
      "Slurm Array Index: \n",
      "Time Stamp:         03-15-22+19:51:44\n",
      "\n",
      "56\n",
      "Generate Data:\n",
      "(10000, 2)\n",
      "(10000,)\n"
     ]
    }
   ],
   "source": [
    "cat ${FD_LOG}/test_mctsne_nc16.txt"
   ]
  },
  {
   "cell_type": "code",
   "execution_count": null,
   "id": "ee2d4241-075a-4d0f-8b17-78c8dc3bea01",
   "metadata": {},
   "outputs": [],
   "source": []
  }
 ],
 "metadata": {
  "kernelspec": {
   "display_name": "Bash",
   "language": "bash",
   "name": "bash"
  },
  "language_info": {
   "codemirror_mode": "shell",
   "file_extension": ".sh",
   "mimetype": "text/x-sh",
   "name": "bash"
  }
 },
 "nbformat": 4,
 "nbformat_minor": 5
}
