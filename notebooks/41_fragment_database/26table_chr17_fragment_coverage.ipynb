{
 "cells": [
  {
   "cell_type": "markdown",
   "metadata": {},
   "source": [
    "# Input score table: linking fragments and inputs"
   ]
  },
  {
   "cell_type": "markdown",
   "metadata": {},
   "source": [
    "**Set environment**"
   ]
  },
  {
   "cell_type": "code",
   "execution_count": 1,
   "metadata": {},
   "outputs": [
    {
     "name": "stdout",
     "output_type": "stream",
     "text": [
      "You are on Duke Server: Singularity: Proj CombEffect\n",
      "BASE DIRECTORY:     /mount/work\n",
      "PATH OF SOURCE:     /mount/work/source\n",
      "PATH OF EXECUTABLE: /mount/work/exe\n",
      "PATH OF ANNOTATION: /mount/work/annotation\n",
      "PATH OF PROJECT:    /mount/project\n",
      "PATH OF RESULTS:    /mount/work/out/proj_combeffect\n"
     ]
    }
   ],
   "source": [
    "import sys\n",
    "sys.path.append('../')\n",
    "from config_sing import *"
   ]
  },
  {
   "cell_type": "code",
   "execution_count": 2,
   "metadata": {},
   "outputs": [],
   "source": [
    "import sqlite3\n",
    "import itertools as it"
   ]
  },
  {
   "cell_type": "markdown",
   "metadata": {},
   "source": [
    "## Test: check where the data is"
   ]
  },
  {
   "cell_type": "code",
   "execution_count": 3,
   "metadata": {},
   "outputs": [
    {
     "data": {
      "text/plain": [
       "['TFX_DMSO',\n",
       " 'Input5_20x',\n",
       " 'Input1_20x',\n",
       " 'TFX2_DMSO',\n",
       " 'TFX_Dex',\n",
       " 'Input3',\n",
       " 'TFX5_Dex',\n",
       " 'Input4_20x',\n",
       " 'TFX2_Dex',\n",
       " 'TFX5_DMSO',\n",
       " 'TFX4_Dex',\n",
       " 'Input4',\n",
       " 'Input5',\n",
       " 'target_PER1',\n",
       " 'Input1',\n",
       " 'Input2',\n",
       " 'Input',\n",
       " 'TFX3_Dex',\n",
       " 'TFX4_DMSO',\n",
       " 'Input2_20x',\n",
       " 'TFX3_DMSO',\n",
       " 'Input3_20x']"
      ]
     },
     "execution_count": 3,
     "metadata": {},
     "output_type": "execute_result"
    }
   ],
   "source": [
    "fdiry = os.path.join(FD_RES, \"coverage\")\n",
    "os.listdir(fdiry)"
   ]
  },
  {
   "cell_type": "code",
   "execution_count": 4,
   "metadata": {},
   "outputs": [
    {
     "data": {
      "text/plain": [
       "['chr16.bedgraph',\n",
       " 'chrY.bedgraph',\n",
       " 'chr4.bedgraph',\n",
       " 'chr11.bedgraph',\n",
       " 'chr3.bedgraph',\n",
       " 'chr21.bedgraph',\n",
       " 'chr14.bedgraph',\n",
       " 'Input1_20x.bw',\n",
       " 'chr15.bedgraph',\n",
       " 'chr2.bedgraph',\n",
       " 'chr17_perbase.tsv.gz',\n",
       " 'chrX.bedgraph',\n",
       " 'chr9.bedgraph',\n",
       " 'chr17.bedgraph',\n",
       " 'Input1_20x.bedgraph',\n",
       " 'chr18.bedgraph',\n",
       " 'chr19.bedgraph',\n",
       " 'chr6.bedgraph',\n",
       " 'chr12.bedgraph',\n",
       " 'chr20.bedgraph',\n",
       " 'chr7.bedgraph',\n",
       " 'chr22.bedgraph',\n",
       " 'chr10.bedgraph',\n",
       " 'chr8.bedgraph',\n",
       " 'chr13.bedgraph',\n",
       " 'chr5.bedgraph',\n",
       " 'chr1.bedgraph']"
      ]
     },
     "execution_count": 4,
     "metadata": {},
     "output_type": "execute_result"
    }
   ],
   "source": [
    "fdiry = os.path.join(FD_RES, \"coverage\", \"Input1_20x\")\n",
    "os.listdir(fdiry)"
   ]
  },
  {
   "cell_type": "code",
   "execution_count": 5,
   "metadata": {},
   "outputs": [
    {
     "data": {
      "text/plain": [
       "['/mount/work/out/proj_combeffect/coverage/Input5_20x/chr17_perbase.tsv.gz',\n",
       " '/mount/work/out/proj_combeffect/coverage/Input1_20x/chr17_perbase.tsv.gz',\n",
       " '/mount/work/out/proj_combeffect/coverage/TFX2_DMSO/chr17_perbase.tsv.gz',\n",
       " '/mount/work/out/proj_combeffect/coverage/Input3/chr17_perbase.tsv.gz',\n",
       " '/mount/work/out/proj_combeffect/coverage/TFX5_Dex/chr17_perbase.tsv.gz',\n",
       " '/mount/work/out/proj_combeffect/coverage/Input4_20x/chr17_perbase.tsv.gz',\n",
       " '/mount/work/out/proj_combeffect/coverage/TFX2_Dex/chr17_perbase.tsv.gz',\n",
       " '/mount/work/out/proj_combeffect/coverage/TFX5_DMSO/chr17_perbase.tsv.gz',\n",
       " '/mount/work/out/proj_combeffect/coverage/TFX4_Dex/chr17_perbase.tsv.gz',\n",
       " '/mount/work/out/proj_combeffect/coverage/Input4/chr17_perbase.tsv.gz',\n",
       " '/mount/work/out/proj_combeffect/coverage/Input5/chr17_perbase.tsv.gz',\n",
       " '/mount/work/out/proj_combeffect/coverage/Input1/chr17_perbase.tsv.gz',\n",
       " '/mount/work/out/proj_combeffect/coverage/Input2/chr17_perbase.tsv.gz',\n",
       " '/mount/work/out/proj_combeffect/coverage/TFX3_Dex/chr17_perbase.tsv.gz',\n",
       " '/mount/work/out/proj_combeffect/coverage/TFX4_DMSO/chr17_perbase.tsv.gz',\n",
       " '/mount/work/out/proj_combeffect/coverage/Input2_20x/chr17_perbase.tsv.gz',\n",
       " '/mount/work/out/proj_combeffect/coverage/TFX3_DMSO/chr17_perbase.tsv.gz',\n",
       " '/mount/work/out/proj_combeffect/coverage/Input3_20x/chr17_perbase.tsv.gz']"
      ]
     },
     "execution_count": 5,
     "metadata": {},
     "output_type": "execute_result"
    }
   ],
   "source": [
    "fglob = os.path.join(FD_RES, \"coverage\", \"*\", \"chr17_perbase.tsv.gz\")\n",
    "glob.glob(fglob)"
   ]
  },
  {
   "cell_type": "code",
   "execution_count": 6,
   "metadata": {},
   "outputs": [
    {
     "name": "stdout",
     "output_type": "stream",
     "text": [
      "chr17\t1\t0\n",
      "chr17\t2\t0\n",
      "chr17\t3\t0\n",
      "chr17\t4\t0\n",
      "chr17\t5\t0\n",
      "chr17\t6\t0\n",
      "chr17\t7\t0\n",
      "chr17\t8\t0\n",
      "chr17\t9\t0\n",
      "chr17\t10\t0\n"
     ]
    }
   ],
   "source": [
    "%%bash\n",
    "FPATH=\"/mount/work/out/proj_combeffect/coverage/Input1/chr17_perbase.tsv.gz\"\n",
    "zcat ${FPATH} | head"
   ]
  },
  {
   "cell_type": "markdown",
   "metadata": {},
   "source": [
    "## Test: read in the data"
   ]
  },
  {
   "cell_type": "code",
   "execution_count": 8,
   "metadata": {},
   "outputs": [
    {
     "name": "stdout",
     "output_type": "stream",
     "text": [
      "/mount/work/out/proj_combeffect/coverage/Input1\n",
      "/mount/work/out/proj_combeffect/coverage/Input2\n",
      "/mount/work/out/proj_combeffect/coverage/Input3\n",
      "/mount/work/out/proj_combeffect/coverage/Input4\n",
      "/mount/work/out/proj_combeffect/coverage/Input5\n",
      "/mount/work/out/proj_combeffect/coverage/Input1_20x\n",
      "/mount/work/out/proj_combeffect/coverage/Input2_20x\n",
      "/mount/work/out/proj_combeffect/coverage/Input3_20x\n",
      "/mount/work/out/proj_combeffect/coverage/Input4_20x\n",
      "/mount/work/out/proj_combeffect/coverage/Input5_20x\n",
      "/mount/work/out/proj_combeffect/coverage/TFX2_DMSO\n",
      "/mount/work/out/proj_combeffect/coverage/TFX3_DMSO\n",
      "/mount/work/out/proj_combeffect/coverage/TFX4_DMSO\n",
      "/mount/work/out/proj_combeffect/coverage/TFX5_DMSO\n",
      "/mount/work/out/proj_combeffect/coverage/TFX2_Dex\n",
      "/mount/work/out/proj_combeffect/coverage/TFX3_Dex\n",
      "/mount/work/out/proj_combeffect/coverage/TFX4_Dex\n",
      "/mount/work/out/proj_combeffect/coverage/TFX5_Dex\n"
     ]
    }
   ],
   "source": [
    "###\n",
    "fdirys = list()\n",
    "\n",
    "###\n",
    "samples = \"Input?,Input?_20x,TFX?_DMSO,TFX?_Dex\".split(\",\")\n",
    "for sam in samples:\n",
    "    fglob = os.path.join(FD_RES, \"coverage\", sam)\n",
    "    lst   = glob.glob(fglob)\n",
    "    lst.sort()\n",
    "    fdirys += lst\n",
    "    \n",
    "###\n",
    "for fdiry in fdirys:\n",
    "    print(fdiry)"
   ]
  },
  {
   "cell_type": "code",
   "execution_count": 9,
   "metadata": {},
   "outputs": [
    {
     "name": "stdout",
     "output_type": "stream",
     "text": [
      "/mount/work/out/proj_combeffect/coverage/Input1/chr17_perbase.tsv.gz\n",
      "['chr17', '1', '0']\n",
      "['chr17', '2', '0']\n",
      "['chr17', '3', '0']\n",
      "['chr17', '4', '0']\n",
      "['chr17', '5', '0']\n"
     ]
    }
   ],
   "source": [
    "fdiry = fdirys[0]\n",
    "fname = \"chr17_perbase.tsv.gz\"\n",
    "fpath = os.path.join(fdiry, fname)\n",
    "print(fpath)\n",
    "\n",
    "n_lines = 5\n",
    "with gzip.open(fpath, \"rb\") as file:\n",
    "    lines  = it.islice(file, n_lines)\n",
    "    for line in lines:\n",
    "        lst = line.decode('ASCII').strip().split('\\t')  \n",
    "        print(lst)"
   ]
  },
  {
   "cell_type": "markdown",
   "metadata": {},
   "source": [
    "## Test: Generate table\n",
    "- Coverage\n",
    "    - chrom\n",
    "    - location\n",
    "    - depth\n",
    "    - sample"
   ]
  },
  {
   "cell_type": "code",
   "execution_count": 13,
   "metadata": {},
   "outputs": [],
   "source": [
    "query_reset = (\"DROP TABLE IF EXISTS Coverage\")\n",
    "\n",
    "query_table = (\"\"\"CREATE TABLE IF NOT EXISTS Coverage(\n",
    "    chrom    TEXT,\n",
    "    location INTEGER,\n",
    "    depth    INTEGER,\n",
    "    sample   TEXT,\n",
    "    FOREIGN KEY (sample) REFERENCES Sample (sample)\n",
    ");\"\"\")\n",
    "\n",
    "query_insert = (\"\"\"INSERT OR IGNORE INTO Coverage\n",
    "    (chrom, location, depth, sample)\n",
    "    VALUES \n",
    "    (?,?,?,?)\"\"\")"
   ]
  },
  {
   "cell_type": "code",
   "execution_count": 15,
   "metadata": {},
   "outputs": [
    {
     "name": "stdout",
     "output_type": "stream",
     "text": [
      "('chr17', 1, 0, 'Input1')\n",
      "('chr17', 2, 0, 'Input1')\n",
      "('chr17', 3, 0, 'Input1')\n",
      "('chr17', 4, 0, 'Input1')\n",
      "('chr17', 5, 0, 'Input1')\n"
     ]
    }
   ],
   "source": [
    "fdiry = os.path.join(FD_RES, 'database')\n",
    "fname = \"fragment.db\"\n",
    "fpath_db = os.path.join(fdiry, fname)\n",
    "\n",
    "fdiry = fdirys[0]\n",
    "fname = \"chr17_perbase.tsv.gz\"\n",
    "fpath_gz = os.path.join(fdiry, fname)\n",
    "sam   = os.path.basename(fdiry)\n",
    "\n",
    "with sqlite3.connect(fpath_db) as conn, gzip.open(fpath_gz, \"rb\") as file:\n",
    "    ### reset\n",
    "    cursor = conn.cursor()\n",
    "    query  = query_reset\n",
    "    cursor.execute(query)\n",
    "    \n",
    "    ### create table\n",
    "    cursor = conn.cursor()\n",
    "    query  = query_table\n",
    "    cursor.execute(query)\n",
    "    \n",
    "    ### insert values\n",
    "    query  = query_insert\n",
    "    \n",
    "    n_lines = 5\n",
    "    with gzip.open(fpath, \"rb\") as file:\n",
    "        lines  = it.islice(file, n_lines)\n",
    "        for line in lines:\n",
    "            row = line.decode('ASCII').strip().split('\\t')\n",
    "            row.append(sam)\n",
    "            cursor.execute(query, row)\n",
    "            \n",
    "    ### show that the table is created\n",
    "    cursor.execute(\"SELECT * FROM Coverage\")\n",
    "    for row in cursor.fetchall():\n",
    "        print(row)"
   ]
  },
  {
   "cell_type": "markdown",
   "metadata": {},
   "source": [
    "## Insert the whole tables"
   ]
  },
  {
   "cell_type": "code",
   "execution_count": 17,
   "metadata": {},
   "outputs": [],
   "source": [
    "query_reset = (\"DROP TABLE IF EXISTS Coverage\")\n",
    "\n",
    "query_table = (\"\"\"CREATE TABLE IF NOT EXISTS Coverage(\n",
    "    chrom    TEXT,\n",
    "    location INTEGER,\n",
    "    depth    INTEGER,\n",
    "    sample   TEXT,\n",
    "    FOREIGN KEY (sample) REFERENCES Sample (sample)\n",
    ");\"\"\")\n",
    "\n",
    "query_insert = (\"\"\"INSERT OR IGNORE INTO Coverage\n",
    "    (chrom, location, depth, sample)\n",
    "    VALUES \n",
    "    (?,?,?,?)\"\"\")"
   ]
  },
  {
   "cell_type": "code",
   "execution_count": 18,
   "metadata": {},
   "outputs": [
    {
     "name": "stdout",
     "output_type": "stream",
     "text": [
      "/mount/work/out/proj_combeffect/coverage/Input1\n",
      "/mount/work/out/proj_combeffect/coverage/Input2\n",
      "/mount/work/out/proj_combeffect/coverage/Input3\n",
      "/mount/work/out/proj_combeffect/coverage/Input4\n",
      "/mount/work/out/proj_combeffect/coverage/Input5\n",
      "/mount/work/out/proj_combeffect/coverage/Input1_20x\n",
      "/mount/work/out/proj_combeffect/coverage/Input2_20x\n",
      "/mount/work/out/proj_combeffect/coverage/Input3_20x\n",
      "/mount/work/out/proj_combeffect/coverage/Input4_20x\n",
      "/mount/work/out/proj_combeffect/coverage/Input5_20x\n",
      "/mount/work/out/proj_combeffect/coverage/TFX2_DMSO\n",
      "/mount/work/out/proj_combeffect/coverage/TFX3_DMSO\n",
      "/mount/work/out/proj_combeffect/coverage/TFX4_DMSO\n",
      "/mount/work/out/proj_combeffect/coverage/TFX5_DMSO\n",
      "/mount/work/out/proj_combeffect/coverage/TFX2_Dex\n",
      "/mount/work/out/proj_combeffect/coverage/TFX3_Dex\n",
      "/mount/work/out/proj_combeffect/coverage/TFX4_Dex\n",
      "/mount/work/out/proj_combeffect/coverage/TFX5_Dex\n"
     ]
    }
   ],
   "source": [
    "###\n",
    "fdirys = list()\n",
    "\n",
    "###\n",
    "samples = \"Input?,Input?_20x,TFX?_DMSO,TFX?_Dex\".split(\",\")\n",
    "for sam in samples:\n",
    "    fglob = os.path.join(FD_RES, \"coverage\", sam)\n",
    "    lst   = glob.glob(fglob)\n",
    "    lst.sort()\n",
    "    fdirys += lst\n",
    "    \n",
    "###\n",
    "for fdiry in fdirys:\n",
    "    print(fdiry)"
   ]
  },
  {
   "cell_type": "code",
   "execution_count": 19,
   "metadata": {},
   "outputs": [
    {
     "name": "stdout",
     "output_type": "stream",
     "text": [
      "/mount/work/out/proj_combeffect/coverage/Input1/chr17_perbase.tsv.gz\n",
      "#Rows Inserted: 83257441\n",
      "/mount/work/out/proj_combeffect/coverage/Input2/chr17_perbase.tsv.gz\n",
      "#Rows Inserted: 83257441\n",
      "/mount/work/out/proj_combeffect/coverage/Input3/chr17_perbase.tsv.gz\n",
      "#Rows Inserted: 83257441\n",
      "/mount/work/out/proj_combeffect/coverage/Input4/chr17_perbase.tsv.gz\n",
      "#Rows Inserted: 83257441\n",
      "/mount/work/out/proj_combeffect/coverage/Input5/chr17_perbase.tsv.gz\n",
      "#Rows Inserted: 83257441\n",
      "/mount/work/out/proj_combeffect/coverage/Input1_20x/chr17_perbase.tsv.gz\n",
      "#Rows Inserted: 83257441\n",
      "/mount/work/out/proj_combeffect/coverage/Input2_20x/chr17_perbase.tsv.gz\n",
      "#Rows Inserted: 83257441\n",
      "/mount/work/out/proj_combeffect/coverage/Input3_20x/chr17_perbase.tsv.gz\n",
      "#Rows Inserted: 83257441\n",
      "/mount/work/out/proj_combeffect/coverage/Input4_20x/chr17_perbase.tsv.gz\n",
      "#Rows Inserted: 83257441\n",
      "/mount/work/out/proj_combeffect/coverage/Input5_20x/chr17_perbase.tsv.gz\n",
      "#Rows Inserted: 83257441\n",
      "/mount/work/out/proj_combeffect/coverage/TFX2_DMSO/chr17_perbase.tsv.gz\n",
      "#Rows Inserted: 83257441\n",
      "/mount/work/out/proj_combeffect/coverage/TFX3_DMSO/chr17_perbase.tsv.gz\n",
      "#Rows Inserted: 83257441\n",
      "/mount/work/out/proj_combeffect/coverage/TFX4_DMSO/chr17_perbase.tsv.gz\n",
      "#Rows Inserted: 83257441\n",
      "/mount/work/out/proj_combeffect/coverage/TFX5_DMSO/chr17_perbase.tsv.gz\n",
      "#Rows Inserted: 83257441\n",
      "/mount/work/out/proj_combeffect/coverage/TFX2_Dex/chr17_perbase.tsv.gz\n",
      "#Rows Inserted: 83257441\n",
      "/mount/work/out/proj_combeffect/coverage/TFX3_Dex/chr17_perbase.tsv.gz\n",
      "#Rows Inserted: 83257441\n",
      "/mount/work/out/proj_combeffect/coverage/TFX4_Dex/chr17_perbase.tsv.gz\n",
      "#Rows Inserted: 83257441\n",
      "/mount/work/out/proj_combeffect/coverage/TFX5_Dex/chr17_perbase.tsv.gz\n",
      "#Rows Inserted: 83257441\n",
      "\n",
      "#Rows Total: 1498633938\n",
      "CPU times: user 1h 57min 38s, sys: 2min 31s, total: 2h 10s\n",
      "Wall time: 2h 28s\n"
     ]
    }
   ],
   "source": [
    "%%time\n",
    "\n",
    "fdiry = os.path.join(FD_RES, 'database')\n",
    "fname = \"fragment.db\"\n",
    "fpath_db = os.path.join(fdiry, fname)\n",
    "\n",
    "counter_tot = 0\n",
    "with sqlite3.connect(fpath_db) as conn:\n",
    "    ### reset\n",
    "    cursor = conn.cursor()\n",
    "    query  = query_reset\n",
    "    cursor.execute(query)\n",
    "    \n",
    "    ### \n",
    "    for fdiry in fdirys:\n",
    "        ### init, show progress\n",
    "        fname = \"chr17_perbase.tsv.gz\"\n",
    "        fpath_gz = os.path.join(fdiry, fname)\n",
    "        sam   = os.path.basename(fdiry)\n",
    "        \n",
    "        ###\n",
    "        print(fpath_gz, flush=True)\n",
    "        counter = 0\n",
    "        \n",
    "        with gzip.open(fpath_gz, \"rb\") as file:\n",
    "            ### create table if not exist\n",
    "            cursor = conn.cursor()\n",
    "            query  = query_table\n",
    "            cursor.execute(query)\n",
    "\n",
    "            ### insert values\n",
    "            query  = query_insert\n",
    "            lines  = file #it.islice(file, n_lines)\n",
    "            for line in lines:\n",
    "                row = line.decode('ASCII').strip().split('\\t')\n",
    "                row.append(sam)\n",
    "                cursor.execute(query, row)\n",
    "                counter_tot += 1\n",
    "                counter     += 1\n",
    "                \n",
    "        print(\"#Rows Inserted:\", counter, flush=True)\n",
    "        \n",
    "print()            \n",
    "print(\"#Rows Total:\", counter_tot)"
   ]
  },
  {
   "cell_type": "markdown",
   "metadata": {},
   "source": [
    "**Indexing the location**"
   ]
  },
  {
   "cell_type": "code",
   "execution_count": 27,
   "metadata": {},
   "outputs": [],
   "source": [
    "query_index = \"\"\"CREATE INDEX idx_location ON Coverage (location)\"\"\""
   ]
  },
  {
   "cell_type": "code",
   "execution_count": 28,
   "metadata": {},
   "outputs": [
    {
     "name": "stdout",
     "output_type": "stream",
     "text": [
      "CPU times: user 15min 18s, sys: 2min 39s, total: 17min 58s\n",
      "Wall time: 18min 12s\n"
     ]
    }
   ],
   "source": [
    "%%time\n",
    "fdiry = os.path.join(FD_RES, 'database')\n",
    "fname = \"fragment.db\"\n",
    "fpath_db = os.path.join(fdiry, fname)\n",
    "\n",
    "with sqlite3.connect(fpath_db) as conn:\n",
    "    ### query\n",
    "    cursor = conn.cursor()\n",
    "    query  = query_index\n",
    "    cursor.execute(query)"
   ]
  },
  {
   "cell_type": "markdown",
   "metadata": {},
   "source": [
    "## Test plot"
   ]
  },
  {
   "cell_type": "code",
   "execution_count": 29,
   "metadata": {},
   "outputs": [],
   "source": [
    "query_out = \"\"\"SELECT c.chrom, c.location, c.depth FROM Coverage c\n",
    "WHERE c.sample = 'Input1_20x' AND c.location BETWEEN 8148000 AND 8160000\n",
    "\"\"\""
   ]
  },
  {
   "cell_type": "code",
   "execution_count": 30,
   "metadata": {},
   "outputs": [
    {
     "name": "stdout",
     "output_type": "stream",
     "text": [
      "CPU times: user 167 ms, sys: 21.8 ms, total: 189 ms\n",
      "Wall time: 2.01 s\n"
     ]
    }
   ],
   "source": [
    "%%time\n",
    "fdiry = os.path.join(FD_RES, 'database')\n",
    "fname = \"fragment.db\"\n",
    "fpath_db = os.path.join(fdiry, fname)\n",
    "\n",
    "with sqlite3.connect(fpath_db) as conn:\n",
    "    ### query\n",
    "    cursor = conn.cursor()\n",
    "    query  = query_out\n",
    "    cursor.execute(query)\n",
    "    \n",
    "    ### \n",
    "    rows = cursor.fetchall()"
   ]
  },
  {
   "cell_type": "code",
   "execution_count": 31,
   "metadata": {},
   "outputs": [
    {
     "data": {
      "text/plain": [
       "12001"
      ]
     },
     "execution_count": 31,
     "metadata": {},
     "output_type": "execute_result"
    }
   ],
   "source": [
    "len(rows)"
   ]
  },
  {
   "cell_type": "code",
   "execution_count": 32,
   "metadata": {},
   "outputs": [
    {
     "data": {
      "text/plain": [
       "[('chr17', 8148000, 501),\n",
       " ('chr17', 8148001, 501),\n",
       " ('chr17', 8148002, 500),\n",
       " ('chr17', 8148003, 492),\n",
       " ('chr17', 8148004, 495)]"
      ]
     },
     "execution_count": 32,
     "metadata": {},
     "output_type": "execute_result"
    }
   ],
   "source": [
    "rows[:5]"
   ]
  },
  {
   "cell_type": "code",
   "execution_count": 33,
   "metadata": {},
   "outputs": [],
   "source": [
    "import pandas as pd"
   ]
  },
  {
   "cell_type": "code",
   "execution_count": 34,
   "metadata": {},
   "outputs": [
    {
     "data": {
      "text/html": [
       "<div>\n",
       "<style scoped>\n",
       "    .dataframe tbody tr th:only-of-type {\n",
       "        vertical-align: middle;\n",
       "    }\n",
       "\n",
       "    .dataframe tbody tr th {\n",
       "        vertical-align: top;\n",
       "    }\n",
       "\n",
       "    .dataframe thead th {\n",
       "        text-align: right;\n",
       "    }\n",
       "</style>\n",
       "<table border=\"1\" class=\"dataframe\">\n",
       "  <thead>\n",
       "    <tr style=\"text-align: right;\">\n",
       "      <th></th>\n",
       "      <th>Chrom</th>\n",
       "      <th>Loc</th>\n",
       "      <th>Depth</th>\n",
       "    </tr>\n",
       "  </thead>\n",
       "  <tbody>\n",
       "    <tr>\n",
       "      <th>0</th>\n",
       "      <td>chr17</td>\n",
       "      <td>8148000</td>\n",
       "      <td>501</td>\n",
       "    </tr>\n",
       "    <tr>\n",
       "      <th>1</th>\n",
       "      <td>chr17</td>\n",
       "      <td>8148001</td>\n",
       "      <td>501</td>\n",
       "    </tr>\n",
       "    <tr>\n",
       "      <th>2</th>\n",
       "      <td>chr17</td>\n",
       "      <td>8148002</td>\n",
       "      <td>500</td>\n",
       "    </tr>\n",
       "    <tr>\n",
       "      <th>3</th>\n",
       "      <td>chr17</td>\n",
       "      <td>8148003</td>\n",
       "      <td>492</td>\n",
       "    </tr>\n",
       "    <tr>\n",
       "      <th>4</th>\n",
       "      <td>chr17</td>\n",
       "      <td>8148004</td>\n",
       "      <td>495</td>\n",
       "    </tr>\n",
       "  </tbody>\n",
       "</table>\n",
       "</div>"
      ],
      "text/plain": [
       "   Chrom      Loc  Depth\n",
       "0  chr17  8148000    501\n",
       "1  chr17  8148001    501\n",
       "2  chr17  8148002    500\n",
       "3  chr17  8148003    492\n",
       "4  chr17  8148004    495"
      ]
     },
     "execution_count": 34,
     "metadata": {},
     "output_type": "execute_result"
    }
   ],
   "source": [
    "dat = pd.DataFrame(rows, columns=[\"Chrom\", \"Loc\", \"Depth\"])\n",
    "dat.head()"
   ]
  },
  {
   "cell_type": "code",
   "execution_count": 35,
   "metadata": {},
   "outputs": [
    {
     "data": {
      "text/plain": [
       "<matplotlib.axes._subplots.AxesSubplot at 0x7f458859d510>"
      ]
     },
     "execution_count": 35,
     "metadata": {},
     "output_type": "execute_result"
    },
    {
     "data": {
      "image/png": "[encoded data removed]",
      "text/plain": [
       "<Figure size 432x288 with 1 Axes>"
      ]
     },
     "metadata": {
      "needs_background": "light"
     },
     "output_type": "display_data"
    }
   ],
   "source": [
    "dat.plot(x=\"Loc\", y=\"Depth\")"
   ]
  },
  {
   "cell_type": "code",
   "execution_count": null,
   "metadata": {},
   "outputs": [],
   "source": []
  }
 ],
 "metadata": {
  "kernelspec": {
   "display_name": "Python 3",
   "language": "python",
   "name": "python3"
  },
  "language_info": {
   "codemirror_mode": {
    "name": "ipython",
    "version": 3
   },
   "file_extension": ".py",
   "mimetype": "text/x-python",
   "name": "python",
   "nbconvert_exporter": "python",
   "pygments_lexer": "ipython3",
   "version": "3.7.6"
  }
 },
 "nbformat": 4,
 "nbformat_minor": 4
}
