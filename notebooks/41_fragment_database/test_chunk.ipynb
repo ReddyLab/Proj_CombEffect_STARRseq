{
 "cells": [
  {
   "cell_type": "code",
   "execution_count": 1,
   "metadata": {},
   "outputs": [
    {
     "name": "stdout",
     "output_type": "stream",
     "text": [
      "You are on Duke Server: Singularity: Proj CombEffect\n",
      "BASE DIRECTORY:     /mount/work\n",
      "PATH OF SOURCE:     /mount/work/source\n",
      "PATH OF EXECUTABLE: /mount/work/exe\n",
      "PATH OF ANNOTATION: /mount/work/annotation\n",
      "PATH OF PROJECT:    /mount/project\n",
      "PATH OF RESULTS:    /mount/work/out/proj_combeffect\n",
      "\n"
     ]
    }
   ],
   "source": [
    "import sys\n",
    "sys.path.append('../')\n",
    "from config_sing import *"
   ]
  },
  {
   "cell_type": "code",
   "execution_count": 2,
   "metadata": {},
   "outputs": [],
   "source": [
    "import sqlite3\n",
    "import itertools as it"
   ]
  },
  {
   "cell_type": "code",
   "execution_count": 26,
   "metadata": {},
   "outputs": [],
   "source": [
    "def prep_line(line):\n",
    "    lst = line.decode('ASCII').strip().split('\\t')  \n",
    "    key = \"_\".join(lst[0:(len(lst)-1)])\n",
    "    return [key] + lst"
   ]
  },
  {
   "cell_type": "code",
   "execution_count": 4,
   "metadata": {},
   "outputs": [],
   "source": [
    "fdiry = os.path.join(FD_ANN, \"motif_cluster_jvierstra\", \"hg38_archetype_motifs_v1\")\n",
    "fname = \"chr17_rm_mouse_merge.bed.gz\"\n",
    "fpath = os.path.join(fdiry, fname)"
   ]
  },
  {
   "cell_type": "code",
   "execution_count": 27,
   "metadata": {},
   "outputs": [
    {
     "name": "stdout",
     "output_type": "stream",
     "text": [
      "['chr17_60004_60022_ZNF140', 'chr17', '60004', '60022', 'ZNF140', '5.6897']\n",
      "['chr17_60004_60022_ZNF667', 'chr17', '60004', '60022', 'ZNF667', '8.024']\n",
      "['chr17_60006_60015_Ebox/CAGCTG', 'chr17', '60006', '60015', 'Ebox/CAGCTG', '7.9275']\n",
      "['chr17_60011_60031_GC-tract', 'chr17', '60011', '60031', 'GC-tract', '12.122']\n",
      "['chr17_60012_60025_PRDM4', 'chr17', '60012', '60025', 'PRDM4', '1.3083']\n",
      "['chr17_60017_60028_NR/19', 'chr17', '60017', '60028', 'NR/19', '9.668']\n",
      "['chr17_60019_60035_HEN1', 'chr17', '60019', '60035', 'HEN1', '5.5854']\n",
      "['chr17_60023_60042_ZNF680', 'chr17', '60023', '60042', 'ZNF680', '6.3901']\n",
      "['chr17_60027_60037_SMARCA1', 'chr17', '60027', '60037', 'SMARCA1', '7.5566']\n",
      "['chr17_60027_60040_LEF1', 'chr17', '60027', '60040', 'LEF1', '7.1402']\n"
     ]
    }
   ],
   "source": [
    "n_lines = 10\n",
    "with gzip.open(fpath, \"rb\") as file:\n",
    "    lines = it.islice(file, n_lines)\n",
    "    for line in lines:\n",
    "        lst = prep_line(line)\n",
    "        print(lst)"
   ]
  },
  {
   "cell_type": "code",
   "execution_count": 20,
   "metadata": {},
   "outputs": [],
   "source": [
    "def get_chunks(gen, rows=10000):\n",
    "    \"\"\" Divides the data into 10000 rows each \"\"\"\n",
    "    iterable = iter(gen)\n",
    "    while True:\n",
    "        x = list(it.islice(iterable, rows))\n",
    "        if not x:\n",
    "            return\n",
    "        yield x"
   ]
  },
  {
   "cell_type": "code",
   "execution_count": null,
   "metadata": {},
   "outputs": [],
   "source": [
    "def prep_lines(lines):\n",
    "    map(prep_lines)"
   ]
  },
  {
   "cell_type": "code",
   "execution_count": 31,
   "metadata": {},
   "outputs": [
    {
     "name": "stdout",
     "output_type": "stream",
     "text": [
      "[['chr17_60004_60022_ZNF140', 'chr17', '60004', '60022', 'ZNF140', '5.6897'], ['chr17_60004_60022_ZNF667', 'chr17', '60004', '60022', 'ZNF667', '8.024'], ['chr17_60006_60015_Ebox/CAGCTG', 'chr17', '60006', '60015', 'Ebox/CAGCTG', '7.9275']]\n",
      "+++++++++++++++++++++++++\n",
      "[['chr17_60011_60031_GC-tract', 'chr17', '60011', '60031', 'GC-tract', '12.122'], ['chr17_60012_60025_PRDM4', 'chr17', '60012', '60025', 'PRDM4', '1.3083'], ['chr17_60017_60028_NR/19', 'chr17', '60017', '60028', 'NR/19', '9.668']]\n",
      "+++++++++++++++++++++++++\n",
      "[['chr17_60019_60035_HEN1', 'chr17', '60019', '60035', 'HEN1', '5.5854'], ['chr17_60023_60042_ZNF680', 'chr17', '60023', '60042', 'ZNF680', '6.3901'], ['chr17_60027_60037_SMARCA1', 'chr17', '60027', '60037', 'SMARCA1', '7.5566']]\n",
      "+++++++++++++++++++++++++\n",
      "[['chr17_60027_60040_LEF1', 'chr17', '60027', '60040', 'LEF1', '7.1402']]\n",
      "+++++++++++++++++++++++++\n"
     ]
    }
   ],
   "source": [
    "n_lines = 10\n",
    "n_chunk = 3\n",
    "with gzip.open(fpath, \"rb\") as file:\n",
    "    lines  = it.islice(file, n_lines)\n",
    "    chunks = get_chunks(lines, rows=n_chunk)\n",
    "    for chunk in chunks:\n",
    "        lst = list(map(prep_line, chunk))\n",
    "        \n",
    "        #lst = line.decode('ASCII').strip().split('\\t')  \n",
    "        print(lst)\n",
    "        print(\"+++++++++++++++++++++++++\")"
   ]
  },
  {
   "cell_type": "code",
   "execution_count": null,
   "metadata": {},
   "outputs": [],
   "source": []
  }
 ],
 "metadata": {
  "kernelspec": {
   "display_name": "Python 3",
   "language": "python",
   "name": "python3"
  },
  "language_info": {
   "codemirror_mode": {
    "name": "ipython",
    "version": 3
   },
   "file_extension": ".py",
   "mimetype": "text/x-python",
   "name": "python",
   "nbconvert_exporter": "python",
   "pygments_lexer": "ipython3",
   "version": "3.7.6"
  }
 },
 "nbformat": 4,
 "nbformat_minor": 4
}
