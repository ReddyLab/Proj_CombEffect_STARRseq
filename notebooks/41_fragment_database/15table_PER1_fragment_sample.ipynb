{
 "cells": [
  {
   "cell_type": "markdown",
   "metadata": {},
   "source": [
    "# Count table: linking fragments and samples"
   ]
  },
  {
   "cell_type": "markdown",
   "metadata": {},
   "source": [
    "**Set environment**"
   ]
  },
  {
   "cell_type": "code",
   "execution_count": 1,
   "metadata": {},
   "outputs": [
    {
     "name": "stdout",
     "output_type": "stream",
     "text": [
      "You are on Duke Server: Singularity: Proj CombEffect\n",
      "BASE DIRECTORY:     /mount/work\n",
      "PATH OF SOURCE:     /mount/work/source\n",
      "PATH OF EXECUTABLE: /mount/work/exe\n",
      "PATH OF ANNOTATION: /mount/work/annotation\n",
      "PATH OF PROJECT:    /mount/project\n",
      "PATH OF RESULTS:    /mount/work/out/proj_combeffect\n"
     ]
    }
   ],
   "source": [
    "import sys\n",
    "sys.path.append('../')\n",
    "from config_sing import *"
   ]
  },
  {
   "cell_type": "code",
   "execution_count": 2,
   "metadata": {},
   "outputs": [],
   "source": [
    "import sqlite3\n",
    "import itertools as it"
   ]
  },
  {
   "cell_type": "markdown",
   "metadata": {},
   "source": [
    "## Test: check where the data is"
   ]
  },
  {
   "cell_type": "code",
   "execution_count": 3,
   "metadata": {},
   "outputs": [
    {
     "data": {
      "text/plain": [
       "['TFX_DMSO',\n",
       " 'Input5_20x',\n",
       " 'Input1_20x',\n",
       " 'TFX2_DMSO',\n",
       " 'TFX_Dex',\n",
       " 'dat_cnt_dex_chr17.csv',\n",
       " 'Input3',\n",
       " '.ipynb_checkpoints',\n",
       " 'TFX5_Dex',\n",
       " 'dat_cnt_dmso_chr17.csv',\n",
       " 'dat_cnt_input_dex_PER1.csv',\n",
       " 'Input4_20x',\n",
       " 'dat_cnt_input_per1.csv',\n",
       " 'TFX2_Dex',\n",
       " 'TFX5_DMSO',\n",
       " 'TFX4_Dex',\n",
       " 'Input4',\n",
       " 'Input5',\n",
       " 'dat_cnt_input_dex_PER1.tsv',\n",
       " 'dat_cnt_input_dmso_PER1.csv',\n",
       " 'Input1',\n",
       " 'Input2',\n",
       " 'dat_cnt_input_chr17.csv',\n",
       " 'Input',\n",
       " 'TFX3_Dex',\n",
       " 'dat_cnt_dex_per1.csv',\n",
       " 'dat_cnt_dmso_per1.csv',\n",
       " 'TFX4_DMSO',\n",
       " 'Input2_20x',\n",
       " 'TFX3_DMSO',\n",
       " 'Input3_20x',\n",
       " 'dat_cnt_input_dmso_PER1.tsv']"
      ]
     },
     "execution_count": 3,
     "metadata": {},
     "output_type": "execute_result"
    }
   ],
   "source": [
    "fdiry = os.path.join(FD_RES, \"count_fragment\")\n",
    "os.listdir(fdiry)"
   ]
  },
  {
   "cell_type": "code",
   "execution_count": 4,
   "metadata": {},
   "outputs": [
    {
     "data": {
      "text/plain": [
       "['target_PER1.bed.gz',\n",
       " 'chr20.bed.gz',\n",
       " 'chr12.bed.gz',\n",
       " 'chr3.bed.gz',\n",
       " 'chr6.bed.gz',\n",
       " 'chrY.bed.gz',\n",
       " 'chr5.bed.gz',\n",
       " 'chr2.bed.gz',\n",
       " 'chr19.bed.gz',\n",
       " 'chr22.bed.gz',\n",
       " 'chr9.bed.gz',\n",
       " 'chr17.bed.gz',\n",
       " 'chr16.bed.gz',\n",
       " 'chr4.bed.gz',\n",
       " 'chr1.bed.gz',\n",
       " 'chr15.bed.gz',\n",
       " 'chr10.bed.gz',\n",
       " 'chr8.bed.gz',\n",
       " 'chr18.bed.gz',\n",
       " 'chr13.bed.gz',\n",
       " 'chrX.bed.gz',\n",
       " 'chr7.bed.gz',\n",
       " 'chr11.bed.gz',\n",
       " 'chr14.bed.gz',\n",
       " 'chr21.bed.gz']"
      ]
     },
     "execution_count": 4,
     "metadata": {},
     "output_type": "execute_result"
    }
   ],
   "source": [
    "fdiry = os.path.join(FD_RES, \"count_fragment\", \"Input1_20x\")\n",
    "os.listdir(fdiry)"
   ]
  },
  {
   "cell_type": "code",
   "execution_count": 5,
   "metadata": {},
   "outputs": [
    {
     "name": "stdout",
     "output_type": "stream",
     "text": [
      "/mount/work/out/proj_combeffect/count_fragment/Input1\n",
      "/mount/work/out/proj_combeffect/count_fragment/Input2\n",
      "/mount/work/out/proj_combeffect/count_fragment/Input3\n",
      "/mount/work/out/proj_combeffect/count_fragment/Input4\n",
      "/mount/work/out/proj_combeffect/count_fragment/Input5\n",
      "/mount/work/out/proj_combeffect/count_fragment/Input1_20x\n",
      "/mount/work/out/proj_combeffect/count_fragment/Input2_20x\n",
      "/mount/work/out/proj_combeffect/count_fragment/Input3_20x\n",
      "/mount/work/out/proj_combeffect/count_fragment/Input4_20x\n",
      "/mount/work/out/proj_combeffect/count_fragment/Input5_20x\n",
      "/mount/work/out/proj_combeffect/count_fragment/TFX2_DMSO\n",
      "/mount/work/out/proj_combeffect/count_fragment/TFX3_DMSO\n",
      "/mount/work/out/proj_combeffect/count_fragment/TFX4_DMSO\n",
      "/mount/work/out/proj_combeffect/count_fragment/TFX5_DMSO\n",
      "/mount/work/out/proj_combeffect/count_fragment/TFX2_Dex\n",
      "/mount/work/out/proj_combeffect/count_fragment/TFX3_Dex\n",
      "/mount/work/out/proj_combeffect/count_fragment/TFX4_Dex\n",
      "/mount/work/out/proj_combeffect/count_fragment/TFX5_Dex\n"
     ]
    }
   ],
   "source": [
    "###\n",
    "fdirys = list()\n",
    "\n",
    "###\n",
    "samples = \"Input?,Input?_20x,TFX?_DMSO,TFX?_Dex\".split(\",\")\n",
    "for sam in samples:\n",
    "    fglob = os.path.join(FD_RES, \"count_fragment\", sam)\n",
    "    lst   = glob.glob(fglob)\n",
    "    lst.sort()\n",
    "    fdirys += lst\n",
    "\n",
    "###\n",
    "for fdiry in fdirys:\n",
    "    print(fdiry)"
   ]
  },
  {
   "cell_type": "code",
   "execution_count": 6,
   "metadata": {},
   "outputs": [
    {
     "name": "stdout",
     "output_type": "stream",
     "text": [
      "chr17\t8148117\t8149012\t1\n",
      "chr17\t8148122\t8149107\t1\n",
      "chr17\t8148178\t8149194\t1\n",
      "chr17\t8148188\t8149154\t1\n",
      "chr17\t8148190\t8149151\t1\n",
      "chr17\t8148220\t8149108\t1\n",
      "chr17\t8148280\t8149232\t1\n",
      "chr17\t8148401\t8149372\t1\n",
      "chr17\t8148548\t8149585\t1\n",
      "chr17\t8148913\t8149953\t1\n"
     ]
    }
   ],
   "source": [
    "%%bash\n",
    "FPATH=\"/mount/work/out/proj_combeffect/count_fragment/Input1/target_PER1.bed.gz\"\n",
    "zcat ${FPATH} | head"
   ]
  },
  {
   "cell_type": "markdown",
   "metadata": {},
   "source": [
    "## Test: read in the data"
   ]
  },
  {
   "cell_type": "code",
   "execution_count": 10,
   "metadata": {},
   "outputs": [],
   "source": [
    "def prep_line(lst, sam):\n",
    "    ### parse info and get fragment and motif ID\n",
    "    fragment = \"_\".join(lst[:3])\n",
    "    count    = lst[-1]\n",
    "    \n",
    "    return fragment, sam, count"
   ]
  },
  {
   "cell_type": "code",
   "execution_count": 13,
   "metadata": {},
   "outputs": [
    {
     "name": "stdout",
     "output_type": "stream",
     "text": [
      "/mount/work/out/proj_combeffect/count_fragment/Input1\n",
      "/mount/work/out/proj_combeffect/count_fragment/Input1/target_PER1.bed.gz\n",
      "('chr17_8148117_8149012', 'Input1', '1')\n",
      "('chr17_8148122_8149107', 'Input1', '1')\n",
      "('chr17_8148178_8149194', 'Input1', '1')\n",
      "('chr17_8148188_8149154', 'Input1', '1')\n",
      "('chr17_8148190_8149151', 'Input1', '1')\n"
     ]
    }
   ],
   "source": [
    "fdiry = fdirys[0]\n",
    "fname = \"target_PER1.bed.gz\"\n",
    "fpath = os.path.join(fdiry, fname)\n",
    "sam   = os.path.basename(fdiry)\n",
    "print(fdiry)\n",
    "print(fpath)\n",
    "\n",
    "n_lines = 5\n",
    "with gzip.open(fpath, \"rb\") as file:\n",
    "    lines  = it.islice(file, n_lines)\n",
    "    for line in lines:\n",
    "        lst = line.decode('ASCII').strip().split('\\t')\n",
    "        row = prep_line(lst, sam)\n",
    "        print(row)"
   ]
  },
  {
   "cell_type": "markdown",
   "metadata": {},
   "source": [
    "## Test: Generate table\n",
    "```\n",
    "Count Table\n",
    "- sample\n",
    "- fragment \n",
    "- count\n",
    "```"
   ]
  },
  {
   "cell_type": "markdown",
   "metadata": {},
   "source": [
    "**Query**"
   ]
  },
  {
   "cell_type": "code",
   "execution_count": 17,
   "metadata": {},
   "outputs": [],
   "source": [
    "query_reset = (\"DROP TABLE IF EXISTS Count\")\n",
    "\n",
    "query_table = (\"\"\"CREATE TABLE IF NOT EXISTS Count (\n",
    "    fragment TEXT, \n",
    "    sample   TEXT,\n",
    "    count    INTEGER,\n",
    "    FOREIGN KEY (fragment) REFERENCES Fragment (fragment),\n",
    "    FOREIGN KEY (sample)   REFERENCES Sample   (sample)\n",
    ");\"\"\")\n",
    "\n",
    "query_insert = (\"\"\"INSERT OR IGNORE INTO Count\n",
    "    (fragment, sample, count)\n",
    "    VALUES \n",
    "    (?,?,?)\"\"\")"
   ]
  },
  {
   "cell_type": "markdown",
   "metadata": {},
   "source": [
    "**Insert**"
   ]
  },
  {
   "cell_type": "code",
   "execution_count": 18,
   "metadata": {},
   "outputs": [],
   "source": [
    "def prep_line(lst, sam):\n",
    "    ### parse info and get fragment and motif ID\n",
    "    fragment = \"_\".join(lst[:3])\n",
    "    count    = lst[-1]\n",
    "    \n",
    "    return fragment, sam, count"
   ]
  },
  {
   "cell_type": "code",
   "execution_count": 19,
   "metadata": {},
   "outputs": [
    {
     "name": "stdout",
     "output_type": "stream",
     "text": [
      "('chr17_8148117_8149012', 'Input1', 1)\n",
      "('chr17_8148122_8149107', 'Input1', 1)\n",
      "('chr17_8148178_8149194', 'Input1', 1)\n",
      "('chr17_8148188_8149154', 'Input1', 1)\n",
      "('chr17_8148190_8149151', 'Input1', 1)\n"
     ]
    }
   ],
   "source": [
    "fdiry = os.path.join(FD_RES, 'database')\n",
    "fname = \"fragment.db\"\n",
    "fpath_db = os.path.join(fdiry, fname)\n",
    "\n",
    "fdiry = fdirys[0]\n",
    "fname = \"target_PER1.bed.gz\"\n",
    "fpath_gz = os.path.join(fdiry, fname)\n",
    "sam   = os.path.basename(fdiry)\n",
    "\n",
    "with sqlite3.connect(fpath_db) as conn, gzip.open(fpath_gz, \"rb\") as file:\n",
    "    ### reset\n",
    "    cursor = conn.cursor()\n",
    "    query  = query_reset\n",
    "    cursor.execute(query)\n",
    "    \n",
    "    ### create table\n",
    "    cursor = conn.cursor()\n",
    "    query  = query_table\n",
    "    cursor.execute(query)\n",
    "    \n",
    "    ### insert values\n",
    "    query  = query_insert\n",
    "    \n",
    "    n_lines = 5\n",
    "    with gzip.open(fpath, \"rb\") as file:\n",
    "        lines  = it.islice(file, n_lines)\n",
    "        for line in lines:\n",
    "            lst = line.decode('ASCII').strip().split('\\t')\n",
    "            row = prep_line(lst, sam)\n",
    "            cursor.execute(query, row)\n",
    "            \n",
    "    ### show that the table is created\n",
    "    cursor.execute(\"SELECT * FROM Count\")\n",
    "    for row in cursor.fetchall():\n",
    "        print(row)"
   ]
  },
  {
   "cell_type": "markdown",
   "metadata": {},
   "source": [
    "## Insert the whole tables"
   ]
  },
  {
   "cell_type": "code",
   "execution_count": 20,
   "metadata": {},
   "outputs": [
    {
     "name": "stdout",
     "output_type": "stream",
     "text": [
      "/mount/work/out/proj_combeffect/count_fragment/Input1\n",
      "/mount/work/out/proj_combeffect/count_fragment/Input2\n",
      "/mount/work/out/proj_combeffect/count_fragment/Input3\n",
      "/mount/work/out/proj_combeffect/count_fragment/Input4\n",
      "/mount/work/out/proj_combeffect/count_fragment/Input5\n",
      "/mount/work/out/proj_combeffect/count_fragment/Input1_20x\n",
      "/mount/work/out/proj_combeffect/count_fragment/Input2_20x\n",
      "/mount/work/out/proj_combeffect/count_fragment/Input3_20x\n",
      "/mount/work/out/proj_combeffect/count_fragment/Input4_20x\n",
      "/mount/work/out/proj_combeffect/count_fragment/Input5_20x\n",
      "/mount/work/out/proj_combeffect/count_fragment/TFX2_DMSO\n",
      "/mount/work/out/proj_combeffect/count_fragment/TFX3_DMSO\n",
      "/mount/work/out/proj_combeffect/count_fragment/TFX4_DMSO\n",
      "/mount/work/out/proj_combeffect/count_fragment/TFX5_DMSO\n",
      "/mount/work/out/proj_combeffect/count_fragment/TFX2_Dex\n",
      "/mount/work/out/proj_combeffect/count_fragment/TFX3_Dex\n",
      "/mount/work/out/proj_combeffect/count_fragment/TFX4_Dex\n",
      "/mount/work/out/proj_combeffect/count_fragment/TFX5_Dex\n"
     ]
    }
   ],
   "source": [
    "###\n",
    "fdirys = list()\n",
    "\n",
    "###\n",
    "samples = \"Input?,Input?_20x,TFX?_DMSO,TFX?_Dex\".split(\",\")\n",
    "for sam in samples:\n",
    "    fglob = os.path.join(FD_RES, \"count_fragment\", sam)\n",
    "    lst   = glob.glob(fglob)\n",
    "    lst.sort()\n",
    "    fdirys += lst\n",
    "\n",
    "###\n",
    "for fdiry in fdirys:\n",
    "    print(fdiry)"
   ]
  },
  {
   "cell_type": "code",
   "execution_count": 22,
   "metadata": {},
   "outputs": [
    {
     "name": "stdout",
     "output_type": "stream",
     "text": [
      "/mount/work/out/proj_combeffect/count_fragment/Input1/target_PER1.bed.gz\n",
      "#Rows Inserted: 168\n",
      "/mount/work/out/proj_combeffect/count_fragment/Input2/target_PER1.bed.gz\n",
      "#Rows Inserted: 190\n",
      "/mount/work/out/proj_combeffect/count_fragment/Input3/target_PER1.bed.gz\n",
      "#Rows Inserted: 258\n",
      "/mount/work/out/proj_combeffect/count_fragment/Input4/target_PER1.bed.gz\n",
      "#Rows Inserted: 177\n",
      "/mount/work/out/proj_combeffect/count_fragment/Input5/target_PER1.bed.gz\n",
      "#Rows Inserted: 127\n",
      "/mount/work/out/proj_combeffect/count_fragment/Input1_20x/target_PER1.bed.gz\n",
      "#Rows Inserted: 3029\n",
      "/mount/work/out/proj_combeffect/count_fragment/Input2_20x/target_PER1.bed.gz\n",
      "#Rows Inserted: 2933\n",
      "/mount/work/out/proj_combeffect/count_fragment/Input3_20x/target_PER1.bed.gz\n",
      "#Rows Inserted: 2964\n",
      "/mount/work/out/proj_combeffect/count_fragment/Input4_20x/target_PER1.bed.gz\n",
      "#Rows Inserted: 3272\n",
      "/mount/work/out/proj_combeffect/count_fragment/Input5_20x/target_PER1.bed.gz\n",
      "#Rows Inserted: 2812\n",
      "/mount/work/out/proj_combeffect/count_fragment/TFX2_DMSO/target_PER1.bed.gz\n",
      "#Rows Inserted: 733\n",
      "/mount/work/out/proj_combeffect/count_fragment/TFX3_DMSO/target_PER1.bed.gz\n",
      "#Rows Inserted: 494\n",
      "/mount/work/out/proj_combeffect/count_fragment/TFX4_DMSO/target_PER1.bed.gz\n",
      "#Rows Inserted: 509\n",
      "/mount/work/out/proj_combeffect/count_fragment/TFX5_DMSO/target_PER1.bed.gz\n",
      "#Rows Inserted: 638\n",
      "/mount/work/out/proj_combeffect/count_fragment/TFX2_Dex/target_PER1.bed.gz\n",
      "#Rows Inserted: 1719\n",
      "/mount/work/out/proj_combeffect/count_fragment/TFX3_Dex/target_PER1.bed.gz\n",
      "#Rows Inserted: 1113\n",
      "/mount/work/out/proj_combeffect/count_fragment/TFX4_Dex/target_PER1.bed.gz\n",
      "#Rows Inserted: 1519\n",
      "/mount/work/out/proj_combeffect/count_fragment/TFX5_Dex/target_PER1.bed.gz\n",
      "#Rows Inserted: 1831\n",
      "\n",
      "#Rows Total: 24486\n",
      "CPU times: user 190 ms, sys: 0 ns, total: 190 ms\n",
      "Wall time: 344 ms\n"
     ]
    }
   ],
   "source": [
    "%%time\n",
    "\n",
    "fdiry = os.path.join(FD_RES, 'database')\n",
    "fname = \"fragment.db\"\n",
    "fpath_db = os.path.join(fdiry, fname)\n",
    "\n",
    "counter_tot = 0\n",
    "with sqlite3.connect(fpath_db) as conn:\n",
    "    ### reset\n",
    "    cursor = conn.cursor()\n",
    "    query  = query_reset\n",
    "    cursor.execute(query)\n",
    "    \n",
    "    ### \n",
    "    for fdiry in fdirys:\n",
    "        ### init, show progress\n",
    "        fname = \"target_PER1.bed.gz\"\n",
    "        fpath_gz = os.path.join(fdiry, fname)\n",
    "        sam   = os.path.basename(fdiry)\n",
    "        \n",
    "        ###\n",
    "        print(fpath_gz, flush=True)\n",
    "        counter = 0\n",
    "        \n",
    "        with gzip.open(fpath_gz, \"rb\") as file:\n",
    "            ### create table if not exist\n",
    "            cursor = conn.cursor()\n",
    "            query  = query_table\n",
    "            cursor.execute(query)\n",
    "\n",
    "            ### insert values\n",
    "            query  = query_insert\n",
    "            lines  = file #it.islice(file, n_lines)\n",
    "            for line in lines:\n",
    "                lst = line.decode('ASCII').strip().split('\\t')\n",
    "                row = prep_line(lst, sam)\n",
    "                cursor.execute(query, row)\n",
    "                counter_tot += 1\n",
    "                counter     += 1\n",
    "                \n",
    "        print(\"#Rows Inserted:\", counter, flush=True)\n",
    "        \n",
    "print()            \n",
    "print(\"#Rows Total:\", counter_tot)"
   ]
  },
  {
   "cell_type": "markdown",
   "metadata": {},
   "source": [
    "**Check**"
   ]
  },
  {
   "cell_type": "code",
   "execution_count": 24,
   "metadata": {},
   "outputs": [
    {
     "name": "stdout",
     "output_type": "stream",
     "text": [
      "[(24486,)]\n"
     ]
    }
   ],
   "source": [
    "with sqlite3.connect(fpath_db) as conn:\n",
    "    cursor = conn.cursor()\n",
    "    query = \"select count(*) from Count\"\n",
    "    cursor.execute(query)\n",
    "    print(cursor.fetchall())"
   ]
  },
  {
   "cell_type": "code",
   "execution_count": null,
   "metadata": {},
   "outputs": [],
   "source": []
  }
 ],
 "metadata": {
  "kernelspec": {
   "display_name": "Python 3",
   "language": "python",
   "name": "python3"
  },
  "language_info": {
   "codemirror_mode": {
    "name": "ipython",
    "version": 3
   },
   "file_extension": ".py",
   "mimetype": "text/x-python",
   "name": "python",
   "nbconvert_exporter": "python",
   "pygments_lexer": "ipython3",
   "version": "3.7.6"
  }
 },
 "nbformat": 4,
 "nbformat_minor": 4
}
