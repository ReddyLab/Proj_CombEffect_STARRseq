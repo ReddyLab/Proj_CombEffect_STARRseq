{
 "cells": [
  {
   "cell_type": "markdown",
   "metadata": {},
   "source": [
    "**Set environment**"
   ]
  },
  {
   "cell_type": "code",
   "execution_count": 3,
   "metadata": {},
   "outputs": [
    {
     "name": "stdout",
     "output_type": "stream",
     "text": [
      "You are on Duke Server: Singularity: Proj CombEffect\n",
      "BASE DIRECTORY:     /mount/work\n",
      "PATH OF SOURCE:     /mount/work/source\n",
      "PATH OF EXECUTABLE: /mount/work/exe\n",
      "PATH OF ANNOTATION: /mount/work/annotation\n",
      "PATH OF PROJECT:    /mount/project\n",
      "PATH OF RESULTS:    /mount/work/out/proj_combeffect\n",
      "\n"
     ]
    }
   ],
   "source": [
    "import sys\n",
    "sys.path.append('../')\n",
    "from config_sing import *"
   ]
  },
  {
   "cell_type": "code",
   "execution_count": 4,
   "metadata": {},
   "outputs": [],
   "source": [
    "import sqlite3\n",
    "import itertools as it"
   ]
  },
  {
   "cell_type": "markdown",
   "metadata": {},
   "source": [
    "## Test: check where the data is"
   ]
  },
  {
   "cell_type": "code",
   "execution_count": 3,
   "metadata": {},
   "outputs": [
    {
     "data": {
      "text/plain": [
       "['TFX_DMSO',\n",
       " 'Input5_20x',\n",
       " 'Input1_20x',\n",
       " 'TFX2_DMSO',\n",
       " 'TFX_Dex',\n",
       " 'Input3',\n",
       " '.ipynb_checkpoints',\n",
       " 'TFX5_Dex',\n",
       " 'Input4_20x',\n",
       " 'filter_motif_score095',\n",
       " 'target_PER1_MA0099.3.bed',\n",
       " 'TFX2_Dex',\n",
       " 'TFX5_DMSO',\n",
       " 'TFX4_Dex',\n",
       " 'Input4',\n",
       " 'merge',\n",
       " 'Input5',\n",
       " 'target_PER1_MA0113.3.bed',\n",
       " 'Input1',\n",
       " 'Input2',\n",
       " 'Input',\n",
       " 'TFX3_Dex',\n",
       " 'TFX4_DMSO',\n",
       " 'Input2_20x',\n",
       " 'TFX3_DMSO',\n",
       " 'Input3_20x']"
      ]
     },
     "execution_count": 3,
     "metadata": {},
     "output_type": "execute_result"
    }
   ],
   "source": [
    "fdiry = os.path.join(FD_RES, \"annotation_fragment\")\n",
    "os.listdir(fdiry)"
   ]
  },
  {
   "cell_type": "code",
   "execution_count": 4,
   "metadata": {},
   "outputs": [
    {
     "name": "stdout",
     "output_type": "stream",
     "text": [
      "/mount/work/out/proj_combeffect/annotation_fragment/Input1\n",
      "/mount/work/out/proj_combeffect/annotation_fragment/Input2\n",
      "/mount/work/out/proj_combeffect/annotation_fragment/Input3\n",
      "/mount/work/out/proj_combeffect/annotation_fragment/Input4\n",
      "/mount/work/out/proj_combeffect/annotation_fragment/Input5\n",
      "/mount/work/out/proj_combeffect/annotation_fragment/Input1_20x\n",
      "/mount/work/out/proj_combeffect/annotation_fragment/Input2_20x\n",
      "/mount/work/out/proj_combeffect/annotation_fragment/Input3_20x\n",
      "/mount/work/out/proj_combeffect/annotation_fragment/Input4_20x\n",
      "/mount/work/out/proj_combeffect/annotation_fragment/Input5_20x\n",
      "/mount/work/out/proj_combeffect/annotation_fragment/TFX2_DMSO\n",
      "/mount/work/out/proj_combeffect/annotation_fragment/TFX3_DMSO\n",
      "/mount/work/out/proj_combeffect/annotation_fragment/TFX4_DMSO\n",
      "/mount/work/out/proj_combeffect/annotation_fragment/TFX5_DMSO\n",
      "/mount/work/out/proj_combeffect/annotation_fragment/TFX2_Dex\n",
      "/mount/work/out/proj_combeffect/annotation_fragment/TFX3_Dex\n",
      "/mount/work/out/proj_combeffect/annotation_fragment/TFX4_Dex\n",
      "/mount/work/out/proj_combeffect/annotation_fragment/TFX5_Dex\n"
     ]
    }
   ],
   "source": [
    "###\n",
    "fdirys = list()\n",
    "\n",
    "###\n",
    "samples = \"Input?,Input?_20x,TFX?_DMSO,TFX?_Dex\".split(\",\")\n",
    "for sam in samples:\n",
    "    fglob = os.path.join(FD_RES, \"annotation_fragment\", sam)\n",
    "    lst   = glob.glob(fglob)\n",
    "    lst.sort()\n",
    "    fdirys += lst\n",
    "\n",
    "###\n",
    "for fdiry in fdirys:\n",
    "    print(fdiry)"
   ]
  },
  {
   "cell_type": "code",
   "execution_count": 5,
   "metadata": {},
   "outputs": [
    {
     "name": "stdout",
     "output_type": "stream",
     "text": [
      "chr17\t8148117\t8149012\t1\tchr17\t8148107\t8148124\tKLF/SP/2\t9.0318\t7\n",
      "chr17\t8148117\t8149012\t1\tchr17\t8148109\t8148121\tINSM1\t6.1647\t4\n",
      "chr17\t8148117\t8149012\t1\tchr17\t8148109\t8148129\tGC-tract\t8.3277\t12\n",
      "chr17\t8148117\t8149012\t1\tchr17\t8148123\t8148133\tGLI\t7.4318\t10\n",
      "chr17\t8148117\t8149012\t1\tchr17\t8148124\t8148139\tNR/17\t7.8649\t15\n",
      "chr17\t8148117\t8149012\t1\tchr17\t8148126\t8148137\tKLF/SP/1\t11.3678\t11\n",
      "chr17\t8148117\t8149012\t1\tchr17\t8148129\t8148147\tREST/NRSF\t4.8708\t18\n",
      "chr17\t8148117\t8149012\t1\tchr17\t8148132\t8148142\tCREB/ATF/2\t7.1033\t10\n",
      "chr17\t8148117\t8149012\t1\tchr17\t8148132\t8148142\tCREB/ATF/3\t7.017\t10\n",
      "chr17\t8148117\t8149012\t1\tchr17\t8148133\t8148142\tCREB/ATF/1\t7.7524\t9\n"
     ]
    }
   ],
   "source": [
    "%%bash\n",
    "FPATH=\"/mount/work/out/proj_combeffect/annotation_fragment/Input1/target_PER1.bed.gz\"\n",
    "zcat ${FPATH} | head"
   ]
  },
  {
   "cell_type": "markdown",
   "metadata": {},
   "source": [
    "## Test: read in the data"
   ]
  },
  {
   "cell_type": "code",
   "execution_count": 6,
   "metadata": {},
   "outputs": [
    {
     "name": "stdout",
     "output_type": "stream",
     "text": [
      "/mount/work/out/proj_combeffect/annotation_fragment/Input1/target_PER1.bed.gz\n",
      "/mount/work/out/proj_combeffect/annotation_fragment/Input2/target_PER1.bed.gz\n",
      "/mount/work/out/proj_combeffect/annotation_fragment/Input3/target_PER1.bed.gz\n",
      "/mount/work/out/proj_combeffect/annotation_fragment/Input4/target_PER1.bed.gz\n",
      "/mount/work/out/proj_combeffect/annotation_fragment/Input5/target_PER1.bed.gz\n",
      "/mount/work/out/proj_combeffect/annotation_fragment/Input1_20x/target_PER1.bed.gz\n",
      "/mount/work/out/proj_combeffect/annotation_fragment/Input2_20x/target_PER1.bed.gz\n",
      "/mount/work/out/proj_combeffect/annotation_fragment/Input3_20x/target_PER1.bed.gz\n",
      "/mount/work/out/proj_combeffect/annotation_fragment/Input4_20x/target_PER1.bed.gz\n",
      "/mount/work/out/proj_combeffect/annotation_fragment/Input5_20x/target_PER1.bed.gz\n",
      "/mount/work/out/proj_combeffect/annotation_fragment/TFX2_DMSO/target_PER1.bed.gz\n",
      "/mount/work/out/proj_combeffect/annotation_fragment/TFX3_DMSO/target_PER1.bed.gz\n",
      "/mount/work/out/proj_combeffect/annotation_fragment/TFX4_DMSO/target_PER1.bed.gz\n",
      "/mount/work/out/proj_combeffect/annotation_fragment/TFX5_DMSO/target_PER1.bed.gz\n",
      "/mount/work/out/proj_combeffect/annotation_fragment/TFX2_Dex/target_PER1.bed.gz\n",
      "/mount/work/out/proj_combeffect/annotation_fragment/TFX3_Dex/target_PER1.bed.gz\n",
      "/mount/work/out/proj_combeffect/annotation_fragment/TFX4_Dex/target_PER1.bed.gz\n",
      "/mount/work/out/proj_combeffect/annotation_fragment/TFX5_Dex/target_PER1.bed.gz\n"
     ]
    }
   ],
   "source": [
    "###\n",
    "fdirys = list()\n",
    "samples = \"Input?,Input?_20x,TFX?_DMSO,TFX?_Dex\".split(\",\")\n",
    "for sam in samples:\n",
    "    fglob = os.path.join(FD_RES, \"annotation_fragment\", sam)\n",
    "    lst   = glob.glob(fglob)\n",
    "    lst.sort()\n",
    "    fdirys += lst\n",
    "\n",
    "###\n",
    "fname = \"target_PER1.bed.gz\"\n",
    "for fdiry in fdirys:\n",
    "    fpath = os.path.join(fdiry, fname)\n",
    "    print(fpath)"
   ]
  },
  {
   "cell_type": "code",
   "execution_count": 7,
   "metadata": {},
   "outputs": [
    {
     "name": "stdout",
     "output_type": "stream",
     "text": [
      "/mount/work/out/proj_combeffect/annotation_fragment/Input1/target_PER1.bed.gz\n",
      "['chr17', '8148117', '8149012', '1', 'chr17', '8148107', '8148124', 'KLF/SP/2', '9.0318', '7']\n",
      "['chr17', '8148117', '8149012', '1', 'chr17', '8148109', '8148121', 'INSM1', '6.1647', '4']\n",
      "['chr17', '8148117', '8149012', '1', 'chr17', '8148109', '8148129', 'GC-tract', '8.3277', '12']\n",
      "['chr17', '8148117', '8149012', '1', 'chr17', '8148123', '8148133', 'GLI', '7.4318', '10']\n",
      "['chr17', '8148117', '8149012', '1', 'chr17', '8148124', '8148139', 'NR/17', '7.8649', '15']\n"
     ]
    }
   ],
   "source": [
    "fdiry = fdirys[0]\n",
    "fname = \"target_PER1.bed.gz\"\n",
    "fpath = os.path.join(fdiry, fname)\n",
    "print(fpath)\n",
    "\n",
    "n_lines = 5\n",
    "with gzip.open(fpath, \"rb\") as file:\n",
    "    lines  = it.islice(file, n_lines)\n",
    "    for line in lines:\n",
    "        lst = line.decode('ASCII').strip().split('\\t')  \n",
    "        print(lst)"
   ]
  },
  {
   "cell_type": "code",
   "execution_count": 11,
   "metadata": {},
   "outputs": [],
   "source": [
    "def prep_line(lst):\n",
    "    ### parse info and get fragment and motif ID\n",
    "    fragment = \"_\".join(lst[:3])\n",
    "    binding  = \"_\".join(lst[4:8])\n",
    "    overlap  = int(lst[-1])\n",
    "    \n",
    "    ### calc motif lengths\n",
    "    mtf_len  = int(lst[6]) - int(lst[5])\n",
    "    \n",
    "    return mtf_len == overlap, (fragment, binding)"
   ]
  },
  {
   "cell_type": "code",
   "execution_count": 12,
   "metadata": {},
   "outputs": [
    {
     "name": "stdout",
     "output_type": "stream",
     "text": [
      "['chr17', '8148117', '8149012', '1', 'chr17', '8148107', '8148124', 'KLF/SP/2', '9.0318', '7']\n",
      "False ('chr17_8148117_8149012', 'chr17_8148107_8148124_KLF/SP/2')\n",
      "\n",
      "['chr17', '8148117', '8149012', '1', 'chr17', '8148109', '8148121', 'INSM1', '6.1647', '4']\n",
      "False ('chr17_8148117_8149012', 'chr17_8148109_8148121_INSM1')\n",
      "\n",
      "['chr17', '8148117', '8149012', '1', 'chr17', '8148109', '8148129', 'GC-tract', '8.3277', '12']\n",
      "False ('chr17_8148117_8149012', 'chr17_8148109_8148129_GC-tract')\n",
      "\n",
      "['chr17', '8148117', '8149012', '1', 'chr17', '8148123', '8148133', 'GLI', '7.4318', '10']\n",
      "True ('chr17_8148117_8149012', 'chr17_8148123_8148133_GLI')\n",
      "('chr17_8148117_8149012', 'chr17_8148123_8148133_GLI')\n",
      "\n",
      "['chr17', '8148117', '8149012', '1', 'chr17', '8148124', '8148139', 'NR/17', '7.8649', '15']\n",
      "True ('chr17_8148117_8149012', 'chr17_8148124_8148139_NR/17')\n",
      "('chr17_8148117_8149012', 'chr17_8148124_8148139_NR/17')\n",
      "\n"
     ]
    }
   ],
   "source": [
    "fdiry = fdirys[0]\n",
    "fname = \"target_PER1.bed.gz\"\n",
    "fpath = os.path.join(fdiry, fname)\n",
    "\n",
    "n_lines = 5\n",
    "with gzip.open(fpath, \"rb\") as file:\n",
    "    lines  = it.islice(file, n_lines)\n",
    "    for line in lines:\n",
    "        lst = line.decode('ASCII').strip().split('\\t')\n",
    "        is_cover, row = prep_line(lst)\n",
    "        print(lst)\n",
    "        print(is_cover, row)\n",
    "        if is_cover:\n",
    "            print(row)\n",
    "        print()"
   ]
  },
  {
   "cell_type": "markdown",
   "metadata": {},
   "source": [
    "## Test: Generate table"
   ]
  },
  {
   "cell_type": "markdown",
   "metadata": {},
   "source": [
    "```\n",
    "- building the related tables\n",
    "    - Annotation\n",
    "    - Count\n",
    "    - InputScore\n",
    "```"
   ]
  },
  {
   "cell_type": "markdown",
   "metadata": {},
   "source": [
    "**Query**"
   ]
  },
  {
   "cell_type": "code",
   "execution_count": 13,
   "metadata": {},
   "outputs": [],
   "source": [
    "query_reset = (\"DROP TABLE IF EXISTS Annotation\")\n",
    "\n",
    "query_table = (\"\"\"\n",
    "    CREATE TABLE IF NOT EXISTS Annotation (\n",
    "        fragment TEXT, \n",
    "        binding  TEXT,\n",
    "        FOREIGN KEY (fragment) REFERENCES Fragment (fragment),\n",
    "        FOREIGN KEY (binding)  REFERENCES Motif    (binding),\n",
    "        UNIQUE (fragment, binding) ON CONFLICT IGNORE\n",
    "    );\"\"\")\n",
    "\n",
    "query_insert = (\"\"\"\n",
    "    INSERT OR IGNORE INTO Annotation\n",
    "        (fragment, binding)\n",
    "    VALUES \n",
    "        (?,?)\n",
    "    \"\"\")"
   ]
  },
  {
   "cell_type": "markdown",
   "metadata": {},
   "source": [
    "**Insert**"
   ]
  },
  {
   "cell_type": "code",
   "execution_count": 14,
   "metadata": {},
   "outputs": [],
   "source": [
    "def prep_line(lst):\n",
    "    ### parse info and get fragment and motif ID\n",
    "    fragment = \"_\".join(lst[:3])\n",
    "    binding  = \"_\".join(lst[4:8])\n",
    "    overlap  = int(lst[-1])\n",
    "    \n",
    "    ### calc motif lengths\n",
    "    mtf_len  = int(lst[6]) - int(lst[5])\n",
    "    \n",
    "    return mtf_len == overlap, (fragment, binding)"
   ]
  },
  {
   "cell_type": "code",
   "execution_count": 18,
   "metadata": {},
   "outputs": [
    {
     "name": "stdout",
     "output_type": "stream",
     "text": [
      "('chr17_8148117_8149012', 'chr17_8148123_8148133_GLI')\n",
      "('chr17_8148117_8149012', 'chr17_8148124_8148139_NR/17')\n"
     ]
    }
   ],
   "source": [
    "fdiry = os.path.join(FD_RES, 'database')\n",
    "fname = \"fragment.db\"\n",
    "fpath_db = os.path.join(fdiry, fname)\n",
    "\n",
    "fdiry = fdirys[0]\n",
    "fname = \"target_PER1.bed.gz\"\n",
    "fpath_gz = os.path.join(fdiry, fname)\n",
    "\n",
    "\n",
    "with sqlite3.connect(fpath_db) as conn, gzip.open(fpath_gz, \"rb\") as file:\n",
    "    ### reset\n",
    "    cursor = conn.cursor()\n",
    "    query  = query_reset\n",
    "    cursor.execute(query)\n",
    "    \n",
    "    ### create table\n",
    "    cursor = conn.cursor()\n",
    "    query  = query_table\n",
    "    cursor.execute(query)\n",
    "    \n",
    "    ### insert values\n",
    "    query  = query_insert\n",
    "    \n",
    "    n_lines = 5\n",
    "    with gzip.open(fpath_gz, \"rb\") as file:\n",
    "        lines  = it.islice(file, n_lines)\n",
    "        for line in lines:\n",
    "            lst = line.decode('ASCII').strip().split('\\t')\n",
    "            is_cover, row = prep_line(lst)\n",
    "            if is_cover:\n",
    "                cursor.execute(query, row)\n",
    "    \n",
    "        ### show that the table is created\n",
    "        cursor.execute(\"SELECT * FROM Annotation\")\n",
    "        for row in cursor.fetchall():\n",
    "            print(row)"
   ]
  },
  {
   "cell_type": "markdown",
   "metadata": {},
   "source": [
    "## Insert the whole file"
   ]
  },
  {
   "cell_type": "code",
   "execution_count": 19,
   "metadata": {},
   "outputs": [
    {
     "data": {
      "text/plain": [
       "['/mount/work/out/proj_combeffect/annotation_fragment/Input1/target_PER1.bed.gz',\n",
       " '/mount/work/out/proj_combeffect/annotation_fragment/Input2/target_PER1.bed.gz',\n",
       " '/mount/work/out/proj_combeffect/annotation_fragment/Input3/target_PER1.bed.gz',\n",
       " '/mount/work/out/proj_combeffect/annotation_fragment/Input4/target_PER1.bed.gz',\n",
       " '/mount/work/out/proj_combeffect/annotation_fragment/Input5/target_PER1.bed.gz',\n",
       " '/mount/work/out/proj_combeffect/annotation_fragment/Input1_20x/target_PER1.bed.gz',\n",
       " '/mount/work/out/proj_combeffect/annotation_fragment/Input2_20x/target_PER1.bed.gz',\n",
       " '/mount/work/out/proj_combeffect/annotation_fragment/Input3_20x/target_PER1.bed.gz',\n",
       " '/mount/work/out/proj_combeffect/annotation_fragment/Input4_20x/target_PER1.bed.gz',\n",
       " '/mount/work/out/proj_combeffect/annotation_fragment/Input5_20x/target_PER1.bed.gz',\n",
       " '/mount/work/out/proj_combeffect/annotation_fragment/TFX2_DMSO/target_PER1.bed.gz',\n",
       " '/mount/work/out/proj_combeffect/annotation_fragment/TFX3_DMSO/target_PER1.bed.gz',\n",
       " '/mount/work/out/proj_combeffect/annotation_fragment/TFX4_DMSO/target_PER1.bed.gz',\n",
       " '/mount/work/out/proj_combeffect/annotation_fragment/TFX5_DMSO/target_PER1.bed.gz',\n",
       " '/mount/work/out/proj_combeffect/annotation_fragment/TFX2_Dex/target_PER1.bed.gz',\n",
       " '/mount/work/out/proj_combeffect/annotation_fragment/TFX3_Dex/target_PER1.bed.gz',\n",
       " '/mount/work/out/proj_combeffect/annotation_fragment/TFX4_Dex/target_PER1.bed.gz',\n",
       " '/mount/work/out/proj_combeffect/annotation_fragment/TFX5_Dex/target_PER1.bed.gz']"
      ]
     },
     "execution_count": 19,
     "metadata": {},
     "output_type": "execute_result"
    }
   ],
   "source": [
    "###\n",
    "fdirys = list()\n",
    "samples = \"Input?,Input?_20x,TFX?_DMSO,TFX?_Dex\".split(\",\")\n",
    "for sam in samples:\n",
    "    fglob = os.path.join(FD_RES, \"annotation_fragment\", sam)\n",
    "    lst   = glob.glob(fglob)\n",
    "    lst.sort()\n",
    "    fdirys += lst\n",
    "\n",
    "###\n",
    "fname = \"target_PER1.bed.gz\"\n",
    "fpaths_gz = [os.path.join(fdiry, fname) for fdiry in fdirys]\n",
    "fpaths_gz"
   ]
  },
  {
   "cell_type": "code",
   "execution_count": 20,
   "metadata": {},
   "outputs": [],
   "source": [
    "def prep_line(lst):\n",
    "    ### parse info and get fragment and motif ID\n",
    "    fragment = \"_\".join(lst[:3])\n",
    "    binding  = \"_\".join(lst[4:8])\n",
    "    overlap  = int(lst[-1])\n",
    "    \n",
    "    ### calc motif lengths\n",
    "    mtf_len  = int(lst[6]) - int(lst[5])\n",
    "    \n",
    "    return mtf_len == overlap, (fragment, binding)"
   ]
  },
  {
   "cell_type": "code",
   "execution_count": 21,
   "metadata": {},
   "outputs": [
    {
     "name": "stdout",
     "output_type": "stream",
     "text": [
      "/mount/work/out/proj_combeffect/annotation_fragment/Input1/target_PER1.bed.gz\n",
      "#Rows Inserted: 37492\n",
      "/mount/work/out/proj_combeffect/annotation_fragment/Input2/target_PER1.bed.gz\n",
      "#Rows Inserted: 44343\n",
      "/mount/work/out/proj_combeffect/annotation_fragment/Input3/target_PER1.bed.gz\n",
      "#Rows Inserted: 57856\n",
      "/mount/work/out/proj_combeffect/annotation_fragment/Input4/target_PER1.bed.gz\n",
      "#Rows Inserted: 39747\n",
      "/mount/work/out/proj_combeffect/annotation_fragment/Input5/target_PER1.bed.gz\n",
      "#Rows Inserted: 28704\n",
      "/mount/work/out/proj_combeffect/annotation_fragment/Input1_20x/target_PER1.bed.gz\n",
      "#Rows Inserted: 704118\n",
      "/mount/work/out/proj_combeffect/annotation_fragment/Input2_20x/target_PER1.bed.gz\n",
      "#Rows Inserted: 685965\n",
      "/mount/work/out/proj_combeffect/annotation_fragment/Input3_20x/target_PER1.bed.gz\n",
      "#Rows Inserted: 693566\n",
      "/mount/work/out/proj_combeffect/annotation_fragment/Input4_20x/target_PER1.bed.gz\n",
      "#Rows Inserted: 766079\n",
      "/mount/work/out/proj_combeffect/annotation_fragment/Input5_20x/target_PER1.bed.gz\n",
      "#Rows Inserted: 659372\n",
      "/mount/work/out/proj_combeffect/annotation_fragment/TFX2_DMSO/target_PER1.bed.gz\n",
      "#Rows Inserted: 172151\n",
      "/mount/work/out/proj_combeffect/annotation_fragment/TFX3_DMSO/target_PER1.bed.gz\n",
      "#Rows Inserted: 116179\n",
      "/mount/work/out/proj_combeffect/annotation_fragment/TFX4_DMSO/target_PER1.bed.gz\n",
      "#Rows Inserted: 119546\n",
      "/mount/work/out/proj_combeffect/annotation_fragment/TFX5_DMSO/target_PER1.bed.gz\n",
      "#Rows Inserted: 151381\n",
      "/mount/work/out/proj_combeffect/annotation_fragment/TFX2_Dex/target_PER1.bed.gz\n",
      "#Rows Inserted: 428290\n",
      "/mount/work/out/proj_combeffect/annotation_fragment/TFX3_Dex/target_PER1.bed.gz\n",
      "#Rows Inserted: 282063\n",
      "/mount/work/out/proj_combeffect/annotation_fragment/TFX4_Dex/target_PER1.bed.gz\n",
      "#Rows Inserted: 377189\n",
      "/mount/work/out/proj_combeffect/annotation_fragment/TFX5_Dex/target_PER1.bed.gz\n",
      "#Rows Inserted: 453137\n",
      "\n",
      "#Rows Total: 5817178\n",
      "CPU times: user 51.3 s, sys: 1.57 s, total: 52.9 s\n",
      "Wall time: 55.7 s\n"
     ]
    }
   ],
   "source": [
    "%%time\n",
    "\n",
    "fdiry = os.path.join(FD_RES, 'database')\n",
    "fname = \"fragment.db\"\n",
    "fpath_db = os.path.join(fdiry, fname)\n",
    "\n",
    "counter_tot = 0\n",
    "with sqlite3.connect(fpath_db) as conn:\n",
    "    ### reset\n",
    "    cursor = conn.cursor()\n",
    "    query  = query_reset\n",
    "    cursor.execute(query)\n",
    "    \n",
    "   ### loop through each annotation file\n",
    "    for fpath_gz in fpaths_gz:\n",
    "        ### init, show progress\n",
    "        print(fpath_gz, flush=True)\n",
    "        counter = 0\n",
    "        \n",
    "        with gzip.open(fpath_gz, \"rb\") as file:\n",
    "            ### create table if not exist\n",
    "            cursor = conn.cursor()\n",
    "            query  = query_table\n",
    "            cursor.execute(query)\n",
    "\n",
    "            ### insert values\n",
    "            query  = query_insert\n",
    "            lines  = file #it.islice(file, n_lines)\n",
    "            for line in lines:\n",
    "                lst = line.decode('ASCII').strip().split('\\t')  \n",
    "                is_cover, row = prep_line(lst)\n",
    "                counter_tot += is_cover\n",
    "                counter     += is_cover\n",
    "                if is_cover:\n",
    "                    cursor.execute(query, row)\n",
    "        print(\"#Rows Inserted:\", counter, flush=True)\n",
    "        \n",
    "print()            \n",
    "print(\"#Rows Total:\", counter_tot)"
   ]
  },
  {
   "cell_type": "markdown",
   "metadata": {},
   "source": [
    "**Check**"
   ]
  },
  {
   "cell_type": "code",
   "execution_count": 22,
   "metadata": {},
   "outputs": [
    {
     "name": "stdout",
     "output_type": "stream",
     "text": [
      "[(3487257,)]\n"
     ]
    }
   ],
   "source": [
    "fdiry = os.path.join(FD_RES, 'database')\n",
    "fname = \"fragment.db\"\n",
    "fpath_db = os.path.join(fdiry, fname)\n",
    "\n",
    "with sqlite3.connect(fpath_db) as conn:\n",
    "    cursor = conn.cursor()\n",
    "    query = \"select count(*) from Annotation\"\n",
    "    cursor.execute(query)\n",
    "    print(cursor.fetchall())"
   ]
  },
  {
   "cell_type": "markdown",
   "metadata": {},
   "source": [
    "## Create index"
   ]
  },
  {
   "cell_type": "code",
   "execution_count": 5,
   "metadata": {},
   "outputs": [
    {
     "name": "stdout",
     "output_type": "stream",
     "text": [
      "[(3487257,)]\n"
     ]
    }
   ],
   "source": [
    "fdiry = os.path.join(FD_RES, 'database')\n",
    "fname = \"fragment.db\"\n",
    "fpath_db = os.path.join(fdiry, fname)\n",
    "\n",
    "with sqlite3.connect(fpath_db) as conn:\n",
    "    cursor = conn.cursor()\n",
    "    query = \"select count(*) from Annotation\"\n",
    "    cursor.execute(query)\n",
    "    print(cursor.fetchall())"
   ]
  },
  {
   "cell_type": "code",
   "execution_count": 7,
   "metadata": {},
   "outputs": [
    {
     "data": {
      "text/plain": [
       "[('sqlite_autoindex_Sample_1',),\n",
       " ('sqlite_autoindex_Fragment_1',),\n",
       " ('sqlite_autoindex_Motif_1',),\n",
       " ('idx_location',),\n",
       " ('idx_motif_loc',),\n",
       " ('sqlite_autoindex_Annotation_1',)]"
      ]
     },
     "execution_count": 7,
     "metadata": {},
     "output_type": "execute_result"
    }
   ],
   "source": [
    "query_out = \"\"\"\n",
    "    SELECT name \n",
    "    FROM sqlite_master \n",
    "    WHERE type = 'index';\n",
    "    \"\"\"\n",
    "###\n",
    "fdiry = os.path.join(FD_RES, 'database')\n",
    "fname = \"fragment.db\"\n",
    "fpath_db = os.path.join(fdiry, fname)\n",
    "\n",
    "with sqlite3.connect(fpath_db) as conn:\n",
    "    query  = query_out\n",
    "    cursor = conn.cursor()\n",
    "    cursor.execute(query)\n",
    "    rows   = cursor.fetchall()\n",
    "rows"
   ]
  },
  {
   "cell_type": "code",
   "execution_count": 8,
   "metadata": {},
   "outputs": [],
   "source": [
    "query_index  = \"\"\"CREATE INDEX idx_annot_frag ON Annotation (fragment)\"\"\""
   ]
  },
  {
   "cell_type": "code",
   "execution_count": 9,
   "metadata": {},
   "outputs": [],
   "source": [
    "fdiry = os.path.join(FD_RES, 'database')\n",
    "fname = \"fragment.db\"\n",
    "fpath_db = os.path.join(fdiry, fname)\n",
    "\n",
    "with sqlite3.connect(fpath_db) as conn:\n",
    "    cursor = conn.cursor()\n",
    "    query = query_index\n",
    "    cursor.execute(query)"
   ]
  },
  {
   "cell_type": "code",
   "execution_count": 10,
   "metadata": {},
   "outputs": [
    {
     "data": {
      "text/plain": [
       "[('sqlite_autoindex_Sample_1',),\n",
       " ('sqlite_autoindex_Fragment_1',),\n",
       " ('sqlite_autoindex_Motif_1',),\n",
       " ('idx_location',),\n",
       " ('idx_motif_loc',),\n",
       " ('sqlite_autoindex_Annotation_1',),\n",
       " ('idx_annot_frag',)]"
      ]
     },
     "execution_count": 10,
     "metadata": {},
     "output_type": "execute_result"
    }
   ],
   "source": [
    "query_out = \"\"\"\n",
    "    SELECT name \n",
    "    FROM sqlite_master \n",
    "    WHERE type = 'index';\n",
    "    \"\"\"\n",
    "###\n",
    "fdiry = os.path.join(FD_RES, 'database')\n",
    "fname = \"fragment.db\"\n",
    "fpath_db = os.path.join(fdiry, fname)\n",
    "\n",
    "with sqlite3.connect(fpath_db) as conn:\n",
    "    query  = query_out\n",
    "    cursor = conn.cursor()\n",
    "    cursor.execute(query)\n",
    "    rows   = cursor.fetchall()\n",
    "rows"
   ]
  },
  {
   "cell_type": "code",
   "execution_count": null,
   "metadata": {},
   "outputs": [],
   "source": []
  }
 ],
 "metadata": {
  "kernelspec": {
   "display_name": "Python 3",
   "language": "python",
   "name": "python3"
  },
  "language_info": {
   "codemirror_mode": {
    "name": "ipython",
    "version": 3
   },
   "file_extension": ".py",
   "mimetype": "text/x-python",
   "name": "python",
   "nbconvert_exporter": "python",
   "pygments_lexer": "ipython3",
   "version": "3.7.6"
  }
 },
 "nbformat": 4,
 "nbformat_minor": 4
}
