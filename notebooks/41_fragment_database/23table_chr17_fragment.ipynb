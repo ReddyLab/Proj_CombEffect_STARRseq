{
 "cells": [
  {
   "cell_type": "markdown",
   "metadata": {},
   "source": [
    "# Database: fragment table\n",
    "\n",
    "**Set Environment**"
   ]
  },
  {
   "cell_type": "code",
   "execution_count": 1,
   "metadata": {},
   "outputs": [
    {
     "name": "stdout",
     "output_type": "stream",
     "text": [
      "You are on Duke Server: Singularity: Proj CombEffect\n",
      "BASE DIRECTORY:     /mount/work\n",
      "PATH OF SOURCE:     /mount/work/source\n",
      "PATH OF EXECUTABLE: /mount/work/exe\n",
      "PATH OF ANNOTATION: /mount/work/annotation\n",
      "PATH OF PROJECT:    /mount/project\n",
      "PATH OF RESULTS:    /mount/work/out/proj_combeffect\n",
      "\n"
     ]
    }
   ],
   "source": [
    "### basic\n",
    "import sys\n",
    "sys.path.append('../')\n",
    "from config_sing import *\n",
    "\n",
    "### specific tools\n",
    "from functools import reduce\n",
    "import itertools as it\n",
    "import sqlite3\n",
    "# https://stackoverflow.com/questions/49456158/integer-in-python-pandas-becomes-blob-binary-in-sqlite\n",
    "sqlite3.register_adapter(np.int64, lambda val: int(val))\n",
    "sqlite3.register_adapter(np.int32, lambda val: int(val))\n",
    "\n",
    "### global variables\n",
    "fdiry = os.path.join(FD_RES, 'database')\n",
    "fname = \"fragment_chr17.db\"\n",
    "FPATH_DB = os.path.join(fdiry, fname)\n",
    "\n",
    "### Set Samples\n",
    "fun = np.core.defchararray.add\n",
    "idx = np.arange(1,6).astype(\"str\")\n",
    "\n",
    "INPUT    = reduce(fun, [\"Input\", idx])\n",
    "INPUT20X = reduce(fun, [\"Input\", idx,     \"_20x\"])\n",
    "TFX_DMSO = reduce(fun, [\"TFX\",   idx[1:], \"_DMSO\"])\n",
    "TFX_DEX  = reduce(fun, [\"TFX\",   idx[1:], \"_Dex\"])\n",
    "SAMPLES  = np.concatenate([INPUT, INPUT20X, TFX_DMSO, TFX_DEX])"
   ]
  },
  {
   "cell_type": "markdown",
   "metadata": {},
   "source": [
    "**Check data location**"
   ]
  },
  {
   "cell_type": "code",
   "execution_count": 2,
   "metadata": {},
   "outputs": [
    {
     "name": "stdout",
     "output_type": "stream",
     "text": [
      "['Input5_20x', 'Input1_20x', 'TFX2_DMSO', 'Input3', 'TFX5_Dex', 'Input4_20x', 'TFX2_Dex', 'TFX5_DMSO', 'TFX4_Dex', 'Input4', 'Input5', 'Input1', 'Input2', 'TFX3_Dex', 'TFX4_DMSO', 'Input2_20x', 'TFX3_DMSO', 'Input3_20x']\n"
     ]
    }
   ],
   "source": [
    "fdiry = os.path.join(FD_RES, \"nuc\")\n",
    "print(os.listdir(fdiry))"
   ]
  },
  {
   "cell_type": "code",
   "execution_count": 3,
   "metadata": {},
   "outputs": [
    {
     "data": {
      "text/plain": [
       "['target_PER1.bed.gz',\n",
       " 'chr20.bed.gz',\n",
       " 'chr12.bed.gz',\n",
       " 'chr3.bed.gz',\n",
       " 'chr6.bed.gz',\n",
       " 'chrY.bed.gz',\n",
       " 'chr5.bed.gz',\n",
       " 'chr2.bed.gz',\n",
       " 'chr19.bed.gz',\n",
       " 'chr22.bed.gz',\n",
       " 'chr9.bed.gz',\n",
       " 'chr17.bed.gz',\n",
       " 'chr16.bed.gz',\n",
       " 'chr4.bed.gz',\n",
       " 'chr1.bed.gz',\n",
       " 'chr15.bed.gz',\n",
       " 'chr10.bed.gz',\n",
       " 'chr8.bed.gz',\n",
       " 'chr18.bed.gz',\n",
       " 'chr13.bed.gz',\n",
       " 'chrX.bed.gz',\n",
       " 'chr7.bed.gz',\n",
       " 'chr11.bed.gz',\n",
       " 'chr14.bed.gz',\n",
       " 'chr21.bed.gz']"
      ]
     },
     "execution_count": 3,
     "metadata": {},
     "output_type": "execute_result"
    }
   ],
   "source": [
    "fdiry = os.path.join(FD_RES, \"nuc\", \"Input1_20x\")\n",
    "os.listdir(fdiry)"
   ]
  },
  {
   "cell_type": "code",
   "execution_count": 4,
   "metadata": {},
   "outputs": [
    {
     "name": "stdout",
     "output_type": "stream",
     "text": [
      "#1_usercol\t2_usercol\t3_usercol\t4_usercol\t5_pct_at\t6_pct_gc\t7_num_A\t8_num_C\t9_num_G\t10_num_T\t11_num_N\t12_num_oth\t13_seq_len\n",
      "chr17\t107410\t108464\t1\t0.512334\t0.487666\t342\t243\t271\t198\t0\t0\t1054\n",
      "chr17\t159026\t160040\t1\t0.506903\t0.493097\t286\t259\t241\t228\t0\t0\t1014\n"
     ]
    }
   ],
   "source": [
    "%%script env FDIRY=$fdiry bash\n",
    "zcat ${FDIRY}/chr17.bed.gz | head -3"
   ]
  },
  {
   "cell_type": "markdown",
   "metadata": {},
   "source": [
    "## Test read in data"
   ]
  },
  {
   "cell_type": "code",
   "execution_count": 5,
   "metadata": {},
   "outputs": [
    {
     "name": "stdout",
     "output_type": "stream",
     "text": [
      "['#1_usercol', '2_usercol', '3_usercol', '4_usercol', '5_pct_at', '6_pct_gc', '7_num_A', '8_num_C', '9_num_G', '10_num_T', '11_num_N', '12_num_oth', '13_seq_len']\n",
      "['chr17', '107410', '108464', '1', '0.512334', '0.487666', '342', '243', '271', '198', '0', '0', '1054']\n",
      "['chr17', '159026', '160040', '1', '0.506903', '0.493097', '286', '259', '241', '228', '0', '0', '1014']\n",
      "['chr17', '159426', '160303', '1', '0.491448', '0.508552', '224', '247', '199', '207', '0', '0', '877']\n",
      "['chr17', '159510', '160362', '1', '0.497653', '0.502347', '222', '231', '197', '202', '0', '0', '852']\n",
      "['chr17', '159977', '160849', '1', '0.458716', '0.541284', '198', '229', '243', '202', '0', '0', '872']\n"
     ]
    }
   ],
   "source": [
    "fdiry = os.path.join(FD_RES, \"nuc\", \"Input1_20x\")\n",
    "fname = \"chr17.bed.gz\"\n",
    "fpath = os.path.join(fdiry, fname)\n",
    "\n",
    "n_lines = 5\n",
    "with gzip.open(fpath, \"rb\") as file:\n",
    "    header = file.readline().decode('ASCII').strip().split('\\t')\n",
    "    print(header)\n",
    "    \n",
    "    lines  = it.islice(file, n_lines)\n",
    "    for line in lines:\n",
    "        lst = line.decode('ASCII').strip().split('\\t')  \n",
    "        print(lst)"
   ]
  },
  {
   "cell_type": "code",
   "execution_count": 6,
   "metadata": {},
   "outputs": [],
   "source": [
    "def prep_line(lst):\n",
    "    key = \"_\".join(lst[0:3])\n",
    "    val = lst[0:3] + lst[4:-1]\n",
    "    return [key] + val"
   ]
  },
  {
   "cell_type": "code",
   "execution_count": 7,
   "metadata": {},
   "outputs": [
    {
     "name": "stdout",
     "output_type": "stream",
     "text": [
      "['chr17', '8148003', '8148983', '3', '0.411224', '0.588776', '213', '288', '289', '190', '0', '0', '980']\n",
      "['chr17_8148003_8148983', 'chr17', '8148003', '8148983', '0.411224', '0.588776', '213', '288', '289', '190', '0', '0']\n",
      "\n",
      "['chr17', '8148004', '8148925', '1', '0.412595', '0.587405', '200', '272', '269', '180', '0', '0', '921']\n",
      "['chr17_8148004_8148925', 'chr17', '8148004', '8148925', '0.412595', '0.587405', '200', '272', '269', '180', '0', '0']\n",
      "\n",
      "['chr17', '8148004', '8148962', '1', '0.412317', '0.587683', '208', '283', '280', '187', '0', '0', '958']\n",
      "['chr17_8148004_8148962', 'chr17', '8148004', '8148962', '0.412317', '0.587683', '208', '283', '280', '187', '0', '0']\n",
      "\n",
      "['chr17', '8148004', '8148963', '1', '0.411887', '0.588113', '208', '284', '280', '187', '0', '0', '959']\n",
      "['chr17_8148004_8148963', 'chr17', '8148004', '8148963', '0.411887', '0.588113', '208', '284', '280', '187', '0', '0']\n",
      "\n",
      "['chr17', '8148005', '8149014', '1', '0.412289', '0.587711', '222', '297', '296', '194', '0', '0', '1009']\n",
      "['chr17_8148005_8149014', 'chr17', '8148005', '8149014', '0.412289', '0.587711', '222', '297', '296', '194', '0', '0']\n",
      "\n"
     ]
    }
   ],
   "source": [
    "fdiry = os.path.join(FD_RES, \"nuc\", \"Input1_20x\")\n",
    "fname = \"target_PER1.bed.gz\"\n",
    "fpath = os.path.join(fdiry, fname)\n",
    "\n",
    "n_lines = 5\n",
    "\n",
    "with gzip.open(fpath, \"rb\") as file:\n",
    "    header = file.readline()\n",
    "    lines  = it.islice(file, n_lines)\n",
    "    for line in lines:\n",
    "        lst = line.decode('ASCII').strip().split('\\t')  \n",
    "        print(lst)\n",
    "        print(prep_line(lst))\n",
    "        print()"
   ]
  },
  {
   "cell_type": "markdown",
   "metadata": {},
   "source": [
    "note: plan next: unique constraint and unique index?"
   ]
  },
  {
   "cell_type": "code",
   "execution_count": 8,
   "metadata": {},
   "outputs": [],
   "source": [
    "query_reset_table = \"DROP TABLE IF EXISTS Fragment\"\n",
    "query_reset_index = \"DROP INDEX IF EXISTS idx_frag_loc\"\n",
    "\n",
    "query_table = (\"\"\"\n",
    "    CREATE TABLE IF NOT EXISTS Fragment(\n",
    "        fragment TEXT PRIMARY KEY, \n",
    "        chrom    TEXT,\n",
    "        start    INTEGER,\n",
    "        end      INTEGER,\n",
    "        pct_at   REAL,\n",
    "        pct_gc   REAL,\n",
    "        num_A    INTEGER,\n",
    "        num_C    INTEGER,\n",
    "        num_G    INTEGER,\n",
    "        num_T    INTEGER,\n",
    "        num_N    INTEGER,\n",
    "        num_oth  INTEGER\n",
    "    );\"\"\")\n",
    "\n",
    "query_index  = \"\"\"CREATE INDEX idx_frag_loc ON Fragment (start, end)\"\"\"\n",
    "query_insert = (\"\"\"\n",
    "    INSERT OR IGNORE INTO Fragment\n",
    "        (fragment, chrom, start, end, pct_at, pct_gc,\n",
    "         num_A, num_C, num_G, num_T, num_N, num_oth) \n",
    "    VALUES \n",
    "        (?,?,?,?,?,?,?,?,?,?,?,?)\n",
    "    \"\"\")"
   ]
  },
  {
   "cell_type": "code",
   "execution_count": 9,
   "metadata": {},
   "outputs": [
    {
     "name": "stdout",
     "output_type": "stream",
     "text": [
      "('#1_usercol_2_usercol_3_usercol', '#1_usercol', '2_usercol', '3_usercol', '5_pct_at', '6_pct_gc', '7_num_A', '8_num_C', '9_num_G', '10_num_T', '11_num_N', '12_num_oth')\n",
      "('chr17_8148003_8148983', 'chr17', 8148003, 8148983, 0.411224, 0.588776, 213, 288, 289, 190, 0, 0)\n",
      "('chr17_8148004_8148925', 'chr17', 8148004, 8148925, 0.412595, 0.587405, 200, 272, 269, 180, 0, 0)\n",
      "('chr17_8148004_8148962', 'chr17', 8148004, 8148962, 0.412317, 0.587683, 208, 283, 280, 187, 0, 0)\n",
      "('chr17_8148004_8148963', 'chr17', 8148004, 8148963, 0.411887, 0.588113, 208, 284, 280, 187, 0, 0)\n"
     ]
    }
   ],
   "source": [
    "fdiry = os.path.join(FD_RES, \"nuc\", \"Input1_20x\")\n",
    "fname = \"target_PER1.bed.gz\"\n",
    "fpath_gz = os.path.join(fdiry, fname)\n",
    "fpath_db = FPATH_DB\n",
    "\n",
    "with sqlite3.connect(fpath_db) as conn, gzip.open(fpath_gz, \"rb\") as file:\n",
    "    ### reset\n",
    "    cursor = conn.cursor()\n",
    "    query  = query_reset_table\n",
    "    cursor.execute(query)\n",
    "    query  = query_reset_index\n",
    "    cursor.execute(query)\n",
    "    \n",
    "    ### create table\n",
    "    cursor = conn.cursor()\n",
    "    query  = query_table\n",
    "    cursor.execute(query)\n",
    "    \n",
    "    ### insert values\n",
    "    query  = query_insert\n",
    "    n_lines = 5\n",
    "    lines = it.islice(file, n_lines)\n",
    "    for line in lines:\n",
    "        lst = line.decode('ASCII').strip().split('\\t')  \n",
    "        lst = prep_line(lst)\n",
    "        cursor.execute(query, lst)\n",
    "    \n",
    "    ### show that the table is created\n",
    "    cursor.execute(\"SELECT * FROM Fragment\")\n",
    "    for row in cursor.fetchall():\n",
    "        print(row)"
   ]
  },
  {
   "cell_type": "markdown",
   "metadata": {},
   "source": [
    "## Insert the whole files"
   ]
  },
  {
   "cell_type": "code",
   "execution_count": 10,
   "metadata": {},
   "outputs": [
    {
     "name": "stdout",
     "output_type": "stream",
     "text": [
      "['Input1' 'Input2' 'Input3' 'Input4' 'Input5' 'Input1_20x' 'Input2_20x'\n",
      " 'Input3_20x' 'Input4_20x' 'Input5_20x' 'TFX2_DMSO' 'TFX3_DMSO'\n",
      " 'TFX4_DMSO' 'TFX5_DMSO' 'TFX2_Dex' 'TFX3_Dex' 'TFX4_Dex' 'TFX5_Dex']\n"
     ]
    }
   ],
   "source": [
    "print(SAMPLES)"
   ]
  },
  {
   "cell_type": "code",
   "execution_count": 11,
   "metadata": {},
   "outputs": [
    {
     "name": "stdout",
     "output_type": "stream",
     "text": [
      "/mount/work/out/proj_combeffect/nuc/Input1/chr17.bed.gz\n",
      "/mount/work/out/proj_combeffect/nuc/Input2/chr17.bed.gz\n",
      "/mount/work/out/proj_combeffect/nuc/Input3/chr17.bed.gz\n",
      "/mount/work/out/proj_combeffect/nuc/Input4/chr17.bed.gz\n",
      "/mount/work/out/proj_combeffect/nuc/Input5/chr17.bed.gz\n",
      "/mount/work/out/proj_combeffect/nuc/Input1_20x/chr17.bed.gz\n",
      "/mount/work/out/proj_combeffect/nuc/Input2_20x/chr17.bed.gz\n",
      "/mount/work/out/proj_combeffect/nuc/Input3_20x/chr17.bed.gz\n",
      "/mount/work/out/proj_combeffect/nuc/Input4_20x/chr17.bed.gz\n",
      "/mount/work/out/proj_combeffect/nuc/Input5_20x/chr17.bed.gz\n",
      "/mount/work/out/proj_combeffect/nuc/TFX2_DMSO/chr17.bed.gz\n",
      "/mount/work/out/proj_combeffect/nuc/TFX3_DMSO/chr17.bed.gz\n",
      "/mount/work/out/proj_combeffect/nuc/TFX4_DMSO/chr17.bed.gz\n",
      "/mount/work/out/proj_combeffect/nuc/TFX5_DMSO/chr17.bed.gz\n",
      "/mount/work/out/proj_combeffect/nuc/TFX2_Dex/chr17.bed.gz\n",
      "/mount/work/out/proj_combeffect/nuc/TFX3_Dex/chr17.bed.gz\n",
      "/mount/work/out/proj_combeffect/nuc/TFX4_Dex/chr17.bed.gz\n",
      "/mount/work/out/proj_combeffect/nuc/TFX5_Dex/chr17.bed.gz\n"
     ]
    }
   ],
   "source": [
    "fdiry = os.path.join(FD_RES, \"nuc\")\n",
    "fname = \"chr17.bed.gz\"\n",
    "\n",
    "#samples = np.sort(os.listdir(fdiry))\n",
    "samples = SAMPLES\n",
    "for sam in samples:\n",
    "    fpath = os.path.join(fdiry, sam, fname)\n",
    "    print(fpath)"
   ]
  },
  {
   "cell_type": "code",
   "execution_count": 12,
   "metadata": {},
   "outputs": [
    {
     "name": "stdout",
     "output_type": "stream",
     "text": [
      "/mount/work/out/proj_combeffect/nuc/Input1/chr17.bed.gz\n",
      "# Fragments: 618142\n",
      "/mount/work/out/proj_combeffect/nuc/Input2/chr17.bed.gz\n",
      "# Fragments: 667423\n",
      "/mount/work/out/proj_combeffect/nuc/Input3/chr17.bed.gz\n",
      "# Fragments: 774503\n",
      "/mount/work/out/proj_combeffect/nuc/Input4/chr17.bed.gz\n",
      "# Fragments: 625978\n",
      "/mount/work/out/proj_combeffect/nuc/Input5/chr17.bed.gz\n",
      "# Fragments: 502807\n",
      "/mount/work/out/proj_combeffect/nuc/Input1_20x/chr17.bed.gz\n",
      "# Fragments: 9004450\n",
      "/mount/work/out/proj_combeffect/nuc/Input2_20x/chr17.bed.gz\n",
      "# Fragments: 8581707\n",
      "/mount/work/out/proj_combeffect/nuc/Input3_20x/chr17.bed.gz\n",
      "# Fragments: 8651887\n",
      "/mount/work/out/proj_combeffect/nuc/Input4_20x/chr17.bed.gz\n",
      "# Fragments: 9926587\n",
      "/mount/work/out/proj_combeffect/nuc/Input5_20x/chr17.bed.gz\n",
      "# Fragments: 8446304\n",
      "/mount/work/out/proj_combeffect/nuc/TFX2_DMSO/chr17.bed.gz\n",
      "# Fragments: 1412903\n",
      "/mount/work/out/proj_combeffect/nuc/TFX3_DMSO/chr17.bed.gz\n",
      "# Fragments: 880072\n",
      "/mount/work/out/proj_combeffect/nuc/TFX4_DMSO/chr17.bed.gz\n",
      "# Fragments: 1028226\n",
      "/mount/work/out/proj_combeffect/nuc/TFX5_DMSO/chr17.bed.gz\n",
      "# Fragments: 947988\n",
      "/mount/work/out/proj_combeffect/nuc/TFX2_Dex/chr17.bed.gz\n",
      "# Fragments: 1433121\n",
      "/mount/work/out/proj_combeffect/nuc/TFX3_Dex/chr17.bed.gz\n",
      "# Fragments: 865327\n",
      "/mount/work/out/proj_combeffect/nuc/TFX4_Dex/chr17.bed.gz\n",
      "# Fragments: 1166729\n",
      "/mount/work/out/proj_combeffect/nuc/TFX5_Dex/chr17.bed.gz\n",
      "# Fragments: 1425854\n",
      "\n",
      "# Fragments (Total): 56960008\n",
      "Create index\n",
      "Done!\n",
      "CPU times: user 10min 57s, sys: 2min 6s, total: 13min 3s\n",
      "Wall time: 1h 32min 56s\n"
     ]
    }
   ],
   "source": [
    "%%time\n",
    "\n",
    "fdiry = os.path.join(FD_RES, \"nuc\")\n",
    "fname = \"chr17.bed.gz\"\n",
    "samples   = SAMPLES #np.sort(os.listdir(fdiry))\n",
    "fpaths_gz = [os.path.join(fdiry, sam, fname) for sam in samples]\n",
    "fpath_db  = FPATH_DB\n",
    "\n",
    "\n",
    "with sqlite3.connect(fpath_db) as conn:\n",
    "    cursor = conn.cursor()\n",
    "    count  = 0\n",
    "    \n",
    "    ### reset\n",
    "    cursor = conn.cursor()\n",
    "    query  = query_reset_table\n",
    "    cursor.execute(query)\n",
    "    query  = query_reset_index\n",
    "    cursor.execute(query)\n",
    "\n",
    "    ### create table\n",
    "    cursor = conn.cursor()\n",
    "    query  = query_table\n",
    "    cursor.execute(query)\n",
    "    \n",
    "    for fpath_gz in fpaths_gz:\n",
    "        print(fpath_gz)\n",
    "        \n",
    "        with gzip.open(fpath_gz, \"rb\") as file:\n",
    "\n",
    "            ### insert values\n",
    "            query  = query_insert\n",
    "            header = file.readline()\n",
    "            lines  = file #it.islice(file, n_lines)\n",
    "            for idx, line in enumerate(lines):\n",
    "                lst = line.decode('ASCII').strip().split('\\t')  \n",
    "                lst = prep_line(lst)\n",
    "                cursor.execute(query, lst)\n",
    "                \n",
    "            print(\"# Fragments:\", idx + 1)\n",
    "            count += (idx + 1)\n",
    "            \n",
    "    print(\"\\n# Fragments (Total):\", count)\n",
    "\n",
    "    \n",
    "    ### create index\n",
    "    print(\"Create index\")\n",
    "    cursor = conn.cursor()\n",
    "    query  = query_index\n",
    "    cursor = cursor.execute(query)\n",
    "    print(\"Done!\")"
   ]
  },
  {
   "cell_type": "code",
   "execution_count": 12,
   "metadata": {},
   "outputs": [
    {
     "name": "stdout",
     "output_type": "stream",
     "text": [
      "/mount/work/out/proj_combeffect/nuc/Input1/chr17.bed.gz\n",
      "# Fragments 618142\n",
      "/mount/work/out/proj_combeffect/nuc/Input2/chr17.bed.gz\n",
      "# Fragments 667423\n",
      "/mount/work/out/proj_combeffect/nuc/Input3/chr17.bed.gz\n",
      "# Fragments 774503\n",
      "/mount/work/out/proj_combeffect/nuc/Input4/chr17.bed.gz\n",
      "# Fragments 625978\n",
      "/mount/work/out/proj_combeffect/nuc/Input5/chr17.bed.gz\n",
      "# Fragments 502807\n",
      "/mount/work/out/proj_combeffect/nuc/Input1_20x/chr17.bed.gz\n",
      "# Fragments 9004450\n",
      "/mount/work/out/proj_combeffect/nuc/Input2_20x/chr17.bed.gz\n",
      "# Fragments 8581707\n",
      "/mount/work/out/proj_combeffect/nuc/Input3_20x/chr17.bed.gz\n",
      "# Fragments 8651887\n",
      "/mount/work/out/proj_combeffect/nuc/Input4_20x/chr17.bed.gz\n",
      "# Fragments 9926587\n",
      "/mount/work/out/proj_combeffect/nuc/Input5_20x/chr17.bed.gz\n",
      "# Fragments 8446304\n",
      "/mount/work/out/proj_combeffect/nuc/TFX2_DMSO/chr17.bed.gz\n",
      "# Fragments 1412903\n",
      "/mount/work/out/proj_combeffect/nuc/TFX3_DMSO/chr17.bed.gz\n",
      "# Fragments 880072\n",
      "/mount/work/out/proj_combeffect/nuc/TFX4_DMSO/chr17.bed.gz\n",
      "# Fragments 1028226\n",
      "/mount/work/out/proj_combeffect/nuc/TFX5_DMSO/chr17.bed.gz\n",
      "# Fragments 947988\n",
      "/mount/work/out/proj_combeffect/nuc/TFX2_Dex/chr17.bed.gz\n",
      "# Fragments 1433121\n",
      "/mount/work/out/proj_combeffect/nuc/TFX3_Dex/chr17.bed.gz\n",
      "# Fragments 865327\n",
      "/mount/work/out/proj_combeffect/nuc/TFX4_Dex/chr17.bed.gz\n",
      "# Fragments 1166729\n",
      "/mount/work/out/proj_combeffect/nuc/TFX5_Dex/chr17.bed.gz\n",
      "# Fragments 1425854\n",
      "\n",
      "# Fragments (Total) 56960008\n",
      "CPU times: user 12min 47s, sys: 3min 46s, total: 16min 34s\n",
      "Wall time: 2h 12min 46s\n"
     ]
    }
   ],
   "source": [
    "%%time\n",
    "\n",
    "fdiry = os.path.join(FD_RES, \"nuc\")\n",
    "fname = \"chr17.bed.gz\"\n",
    "samples   = SAMPLES #np.sort(os.listdir(fdiry))\n",
    "fpaths_gz = [os.path.join(fdiry, sam, fname) for sam in samples]\n",
    "fpath_db  = FPATH_DB\n",
    "\n",
    "\n",
    "with sqlite3.connect(fpath_db) as conn:\n",
    "    cursor = conn.cursor()\n",
    "    count  = 0\n",
    "    \n",
    "    ### reset\n",
    "    cursor = conn.cursor()\n",
    "    query  = query_reset_table\n",
    "    cursor.execute(query)\n",
    "    query  = query_reset_index\n",
    "    cursor.execute(query)\n",
    "\n",
    "    ### create table\n",
    "    cursor = conn.cursor()\n",
    "    query  = query_table\n",
    "    cursor.execute(query)\n",
    "    \n",
    "    for fpath_gz in fpaths_gz:\n",
    "        print(fpath_gz)\n",
    "        \n",
    "        with gzip.open(fpath_gz, \"rb\") as file:\n",
    "\n",
    "            ### insert values\n",
    "            query  = query_insert\n",
    "            header = file.readline()\n",
    "            lines  = file #it.islice(file, n_lines)\n",
    "            for idx, line in enumerate(lines):\n",
    "                lst = line.decode('ASCII').strip().split('\\t')  \n",
    "                lst = prep_line(lst)\n",
    "                cursor.execute(query, lst)\n",
    "                \n",
    "            print(\"# Fragments:\", idx + 1)\n",
    "            count += (idx + 1)\n",
    "            \n",
    "    print(\"\\n# Fragments (Total):\", count)\n",
    "\n",
    "    \n",
    "    ### create index\n",
    "    print(\"Create index\")\n",
    "    cursor = conn.cursor()\n",
    "    query  = query_index\n",
    "    cursor = cursor.execute(query)\n",
    "    print(\"Done!\")"
   ]
  },
  {
   "cell_type": "markdown",
   "metadata": {},
   "source": [
    "**Check**"
   ]
  },
  {
   "cell_type": "code",
   "execution_count": 5,
   "metadata": {},
   "outputs": [
    {
     "name": "stdout",
     "output_type": "stream",
     "text": [
      "/mount/work/out/proj_combeffect/database/fragment_chr17.db\n",
      "[(1425854,)]\n"
     ]
    }
   ],
   "source": [
    "fpath_db = FPATH_DB\n",
    "print(fpath_db)\n",
    "with sqlite3.connect(fpath_db) as conn:\n",
    "    cursor = conn.cursor()\n",
    "    query = \"select count(*) from Fragment\"\n",
    "    cursor.execute(query)\n",
    "    print(cursor.fetchall())"
   ]
  },
  {
   "cell_type": "code",
   "execution_count": 7,
   "metadata": {},
   "outputs": [
    {
     "name": "stdout",
     "output_type": "stream",
     "text": [
      "reset index\n",
      "create index\n",
      "Done!\n",
      "CPU times: user 958 ms, sys: 1.24 s, total: 2.2 s\n",
      "Wall time: 45 s\n"
     ]
    }
   ],
   "source": [
    "%%time\n",
    "query_reset_index = \"DROP INDEX IF EXISTS idx_frag_loc\"\n",
    "query_index       = \"CREATE INDEX idx_frag_loc ON Fragment (start, end)\"\n",
    "\n",
    "with sqlite3.connect(fpath_db) as conn:\n",
    "    cursor = conn.cursor()\n",
    "    print(\"reset index\")\n",
    "    query  = query_reset_index\n",
    "    cursor = cursor.execute(query)\n",
    "    \n",
    "    print(\"create index\")\n",
    "    query  = query_index\n",
    "    cursor = cursor.execute(query)\n",
    "    \n",
    "    print(\"Done!\")"
   ]
  },
  {
   "cell_type": "code",
   "execution_count": 20,
   "metadata": {},
   "outputs": [
    {
     "name": "stdout",
     "output_type": "stream",
     "text": [
      "169\n",
      "3030\n",
      "191\n",
      "2934\n",
      "259\n",
      "2965\n",
      "178\n",
      "3273\n",
      "128\n",
      "2813\n",
      "1720\n",
      "734\n",
      "1114\n",
      "495\n",
      "1520\n",
      "510\n",
      "1832\n",
      "639\n",
      "\n",
      "24504\n"
     ]
    }
   ],
   "source": [
    "%%bash\n",
    "FDIRY=\"/mount/work/out/proj_combeffect/nuc\"\n",
    "FD_BEDS=($(ls -d ${FDIRY}/{Input?,Input?_20x,TFX?_DMSO,TFX?_Dex}/))\n",
    "FN_BED=\"chr17.bed.gz\"\n",
    "\n",
    "sum=0\n",
    "for FD_BED in ${FD_BEDS[@]}; do\n",
    "    count=$(zcat ${FD_BED}/${FN_BED} | wc -l)\n",
    "    echo $count\n",
    "    sum=$((sum + count))\n",
    "done\n",
    "echo\n",
    "echo $sum"
   ]
  },
  {
   "cell_type": "code",
   "execution_count": 22,
   "metadata": {},
   "outputs": [
    {
     "name": "stdout",
     "output_type": "stream",
     "text": [
      "24504\n"
     ]
    }
   ],
   "source": [
    "%%bash\n",
    "FD_BED=\"/mount/work/out/proj_combeffect/nuc\"\n",
    "FN_BED=\"target_PER1.bed.gz\"\n",
    "\n",
    "zcat ${FD_BED}/*/${FN_BED} | wc -l"
   ]
  },
  {
   "cell_type": "markdown",
   "metadata": {},
   "source": [
    "**Check**"
   ]
  },
  {
   "cell_type": "code",
   "execution_count": 33,
   "metadata": {},
   "outputs": [
    {
     "name": "stdout",
     "output_type": "stream",
     "text": [
      "/mount/work/out/proj_combeffect/nuc/Input1/target_PER1.bed.gz\n",
      "(168, 13)\n",
      "/mount/work/out/proj_combeffect/nuc/Input1_20x/target_PER1.bed.gz\n",
      "(3029, 13)\n",
      "/mount/work/out/proj_combeffect/nuc/Input2/target_PER1.bed.gz\n",
      "(190, 13)\n",
      "/mount/work/out/proj_combeffect/nuc/Input2_20x/target_PER1.bed.gz\n",
      "(2933, 13)\n",
      "/mount/work/out/proj_combeffect/nuc/Input3/target_PER1.bed.gz\n",
      "(258, 13)\n",
      "/mount/work/out/proj_combeffect/nuc/Input3_20x/target_PER1.bed.gz\n",
      "(2964, 13)\n",
      "/mount/work/out/proj_combeffect/nuc/Input4/target_PER1.bed.gz\n",
      "(177, 13)\n",
      "/mount/work/out/proj_combeffect/nuc/Input4_20x/target_PER1.bed.gz\n",
      "(3272, 13)\n",
      "/mount/work/out/proj_combeffect/nuc/Input5/target_PER1.bed.gz\n",
      "(127, 13)\n",
      "/mount/work/out/proj_combeffect/nuc/Input5_20x/target_PER1.bed.gz\n",
      "(2812, 13)\n",
      "/mount/work/out/proj_combeffect/nuc/TFX2_DMSO/target_PER1.bed.gz\n",
      "(733, 13)\n",
      "/mount/work/out/proj_combeffect/nuc/TFX2_Dex/target_PER1.bed.gz\n",
      "(1719, 13)\n",
      "/mount/work/out/proj_combeffect/nuc/TFX3_DMSO/target_PER1.bed.gz\n",
      "(494, 13)\n",
      "/mount/work/out/proj_combeffect/nuc/TFX3_Dex/target_PER1.bed.gz\n",
      "(1113, 13)\n",
      "/mount/work/out/proj_combeffect/nuc/TFX4_DMSO/target_PER1.bed.gz\n",
      "(509, 13)\n",
      "/mount/work/out/proj_combeffect/nuc/TFX4_Dex/target_PER1.bed.gz\n",
      "(1519, 13)\n",
      "/mount/work/out/proj_combeffect/nuc/TFX5_DMSO/target_PER1.bed.gz\n",
      "(638, 13)\n",
      "/mount/work/out/proj_combeffect/nuc/TFX5_Dex/target_PER1.bed.gz\n",
      "(1831, 13)\n",
      "(24486, 13)\n",
      "(14694, 12)\n"
     ]
    }
   ],
   "source": [
    "fdiry = os.path.join(FD_RES, \"nuc\")\n",
    "fname = \"target_PER1.bed.gz\"\n",
    "samples = np.sort(os.listdir(fdiry))\n",
    "fpaths = [os.path.join(fdiry, sam, fname) for sam in samples]\n",
    "\n",
    "###\n",
    "lst = list()\n",
    "for fpath in fpaths:\n",
    "    dat = pd.read_table(fpath)\n",
    "    lst.append(dat)\n",
    "    print(fpath)\n",
    "    print(dat.shape)\n",
    "\n",
    "###\n",
    "dat = pd.concat(lst)\n",
    "print(dat.shape)\n",
    "\n",
    "###\n",
    "tmp = dat.drop(columns=\"4_usercol\").drop_duplicates()\n",
    "print(tmp.shape)"
   ]
  },
  {
   "cell_type": "code",
   "execution_count": null,
   "metadata": {},
   "outputs": [],
   "source": []
  }
 ],
 "metadata": {
  "kernelspec": {
   "display_name": "Python 3",
   "language": "python",
   "name": "python3"
  },
  "language_info": {
   "codemirror_mode": {
    "name": "ipython",
    "version": 3
   },
   "file_extension": ".py",
   "mimetype": "text/x-python",
   "name": "python",
   "nbconvert_exporter": "python",
   "pygments_lexer": "ipython3",
   "version": "3.7.6"
  }
 },
 "nbformat": 4,
 "nbformat_minor": 4
}
