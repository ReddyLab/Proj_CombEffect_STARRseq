{
 "cells": [
  {
   "cell_type": "code",
   "execution_count": 1,
   "metadata": {},
   "outputs": [
    {
     "name": "stdout",
     "output_type": "stream",
     "text": [
      "You are on Duke Server: Singularity: Proj CombEffect\n",
      "BASE DIRECTORY:     /mount/work\n",
      "PATH OF SOURCE:     /mount/work/source\n",
      "PATH OF EXECUTABLE: /mount/work/exe\n",
      "PATH OF ANNOTATION: /mount/work/annotation\n",
      "PATH OF PROJECT:    /mount/project\n",
      "PATH OF RESULTS:    /mount/work/out/proj_combeffect\n"
     ]
    }
   ],
   "source": [
    "import sys\n",
    "sys.path.append('../')\n",
    "from config_sing import *"
   ]
  },
  {
   "cell_type": "code",
   "execution_count": 2,
   "metadata": {},
   "outputs": [],
   "source": [
    "import sqlite3\n",
    "import itertools as it"
   ]
  },
  {
   "cell_type": "code",
   "execution_count": 3,
   "metadata": {},
   "outputs": [
    {
     "name": "stdout",
     "output_type": "stream",
     "text": [
      "['Input5_20x', 'Input1_20x', 'TFX2_DMSO', 'Input3', 'TFX5_Dex', 'Input4_20x', 'TFX2_Dex', 'TFX5_DMSO', 'TFX4_Dex', 'Input4', 'Input5', 'Input1', 'Input2', 'TFX3_Dex', 'TFX4_DMSO', 'Input2_20x', 'TFX3_DMSO', 'Input3_20x']\n"
     ]
    }
   ],
   "source": [
    "fdiry = os.path.join(FD_RES, \"nuc\")\n",
    "print(os.listdir(fdiry))"
   ]
  },
  {
   "cell_type": "code",
   "execution_count": 4,
   "metadata": {},
   "outputs": [
    {
     "data": {
      "text/plain": [
       "['target_PER1.bed.gz']"
      ]
     },
     "execution_count": 4,
     "metadata": {},
     "output_type": "execute_result"
    }
   ],
   "source": [
    "fdiry = os.path.join(FD_RES, \"nuc\", \"Input1_20x\")\n",
    "os.listdir(fdiry)"
   ]
  },
  {
   "cell_type": "markdown",
   "metadata": {},
   "source": [
    "```\n",
    "Show the first few lines of the output file\n",
    "/gpfs/fs1/data/reddylab/Kuei/out/proj_combeffect/nuc/Input1/target_PER1.bed.gz\n",
    "#1_usercol\t2_usercol\t3_usercol\t4_usercol\t5_pct_at\t6_pct_gc\t7_num_A\t8_num_C\t9_num_G\t10_num_T\t11_num_N\t12_num_oth\t13_seq_len\n",
    "chr17\t8148117\t8149012\t1\t0.423464\t0.576536\t196\t268\t248\t183\t0\t0\t895\n",
    "chr17\t8148122\t8149107\t1\t0.428426\t0.571574\t219\t290\t273\t203\t0\t0\t985\n",
    "```"
   ]
  },
  {
   "cell_type": "code",
   "execution_count": 5,
   "metadata": {},
   "outputs": [
    {
     "name": "stdout",
     "output_type": "stream",
     "text": [
      "['#1_usercol', '2_usercol', '3_usercol', '4_usercol', '5_pct_at', '6_pct_gc', '7_num_A', '8_num_C', '9_num_G', '10_num_T', '11_num_N', '12_num_oth', '13_seq_len']\n",
      "['chr17', '8148003', '8148983', '3', '0.411224', '0.588776', '213', '288', '289', '190', '0', '0', '980']\n",
      "['chr17', '8148004', '8148925', '1', '0.412595', '0.587405', '200', '272', '269', '180', '0', '0', '921']\n",
      "['chr17', '8148004', '8148962', '1', '0.412317', '0.587683', '208', '283', '280', '187', '0', '0', '958']\n",
      "['chr17', '8148004', '8148963', '1', '0.411887', '0.588113', '208', '284', '280', '187', '0', '0', '959']\n",
      "['chr17', '8148005', '8149014', '1', '0.412289', '0.587711', '222', '297', '296', '194', '0', '0', '1009']\n"
     ]
    }
   ],
   "source": [
    "fdiry = os.path.join(FD_RES, \"nuc\", \"Input1_20x\")\n",
    "fname = \"target_PER1.bed.gz\"\n",
    "fpath = os.path.join(fdiry, fname)\n",
    "\n",
    "n_lines = 5\n",
    "with gzip.open(fpath, \"rb\") as file:\n",
    "    header = file.readline().decode('ASCII').strip().split('\\t')\n",
    "    print(header)\n",
    "    \n",
    "    lines  = it.islice(file, n_lines)\n",
    "    for line in lines:\n",
    "        lst = line.decode('ASCII').strip().split('\\t')  \n",
    "        print(lst)\n",
    "        #print(prep_line(lst))"
   ]
  },
  {
   "cell_type": "code",
   "execution_count": 6,
   "metadata": {},
   "outputs": [],
   "source": [
    "def prep_line(lst):\n",
    "    key = \"_\".join(lst[0:3])\n",
    "    val = lst[0:3] + lst[4:-1]\n",
    "    return [key] + val"
   ]
  },
  {
   "cell_type": "code",
   "execution_count": 7,
   "metadata": {},
   "outputs": [
    {
     "name": "stdout",
     "output_type": "stream",
     "text": [
      "['chr17', '8148003', '8148983', '3', '0.411224', '0.588776', '213', '288', '289', '190', '0', '0', '980']\n",
      "['chr17_8148003_8148983', 'chr17', '8148003', '8148983', '0.411224', '0.588776', '213', '288', '289', '190', '0', '0']\n",
      "['chr17', '8148004', '8148925', '1', '0.412595', '0.587405', '200', '272', '269', '180', '0', '0', '921']\n",
      "['chr17_8148004_8148925', 'chr17', '8148004', '8148925', '0.412595', '0.587405', '200', '272', '269', '180', '0', '0']\n",
      "['chr17', '8148004', '8148962', '1', '0.412317', '0.587683', '208', '283', '280', '187', '0', '0', '958']\n",
      "['chr17_8148004_8148962', 'chr17', '8148004', '8148962', '0.412317', '0.587683', '208', '283', '280', '187', '0', '0']\n",
      "['chr17', '8148004', '8148963', '1', '0.411887', '0.588113', '208', '284', '280', '187', '0', '0', '959']\n",
      "['chr17_8148004_8148963', 'chr17', '8148004', '8148963', '0.411887', '0.588113', '208', '284', '280', '187', '0', '0']\n",
      "['chr17', '8148005', '8149014', '1', '0.412289', '0.587711', '222', '297', '296', '194', '0', '0', '1009']\n",
      "['chr17_8148005_8149014', 'chr17', '8148005', '8149014', '0.412289', '0.587711', '222', '297', '296', '194', '0', '0']\n"
     ]
    }
   ],
   "source": [
    "fdiry = os.path.join(FD_RES, \"nuc\", \"Input1_20x\")\n",
    "fname = \"target_PER1.bed.gz\"\n",
    "fpath = os.path.join(fdiry, fname)\n",
    "\n",
    "n_lines = 5\n",
    "\n",
    "with gzip.open(fpath, \"rb\") as file:\n",
    "    header = file.readline()\n",
    "    lines  = it.islice(file, n_lines)\n",
    "    for line in lines:\n",
    "        lst = line.decode('ASCII').strip().split('\\t')  \n",
    "        print(lst)\n",
    "        print(prep_line(lst))"
   ]
  },
  {
   "cell_type": "code",
   "execution_count": 8,
   "metadata": {},
   "outputs": [],
   "source": [
    "query_reset = (\"DROP TABLE IF EXISTS Fragment\")\n",
    "\n",
    "query_table = (\"\"\"CREATE TABLE IF NOT EXISTS Fragment(\n",
    "    fragment TEXT PRIMARY KEY, \n",
    "    chrom    TEXT,\n",
    "    start    INTEGER,\n",
    "    end      INTEGER,\n",
    "    pct_at   REAL,\n",
    "    pct_gc   REAL,\n",
    "    num_A    INTEGER,\n",
    "    num_C    INTEGER,\n",
    "    num_G    INTEGER,\n",
    "    num_T    INTEGER,\n",
    "    num_N    INTEGER,\n",
    "    num_oth  INTEGER\n",
    ");\"\"\")\n",
    "\n",
    "query_insert = (\"\"\"INSERT OR IGNORE INTO Fragment\n",
    "    (fragment, chrom, start, end,\n",
    "     pct_at, pct_gc,\n",
    "     num_A, num_C, num_G, num_T, num_N, num_oth) \n",
    "    VALUES \n",
    "    (?,?,?,?,?,?,?,?,?,?,?,?)\"\"\")"
   ]
  },
  {
   "cell_type": "code",
   "execution_count": 9,
   "metadata": {},
   "outputs": [
    {
     "name": "stdout",
     "output_type": "stream",
     "text": [
      "('chr17_8148003_8148983', 'chr17', 8148003, 8148983, 0.411224, 0.588776, 213, 288, 289, 190, 0, 0)\n",
      "('chr17_8148004_8148925', 'chr17', 8148004, 8148925, 0.412595, 0.587405, 200, 272, 269, 180, 0, 0)\n",
      "('chr17_8148004_8148962', 'chr17', 8148004, 8148962, 0.412317, 0.587683, 208, 283, 280, 187, 0, 0)\n",
      "('chr17_8148004_8148963', 'chr17', 8148004, 8148963, 0.411887, 0.588113, 208, 284, 280, 187, 0, 0)\n",
      "('chr17_8148005_8149014', 'chr17', 8148005, 8149014, 0.412289, 0.587711, 222, 297, 296, 194, 0, 0)\n"
     ]
    }
   ],
   "source": [
    "fdiry = os.path.join(FD_RES, 'database')\n",
    "fname = \"fragment.db\"\n",
    "fpath_db = os.path.join(fdiry, fname)\n",
    "\n",
    "fdiry = os.path.join(FD_RES, \"nuc\", \"Input1_20x\")\n",
    "fname = \"target_PER1.bed.gz\"\n",
    "fpath_gz = os.path.join(fdiry, fname)\n",
    "\n",
    "with sqlite3.connect(fpath_db) as conn, gzip.open(fpath_gz, \"rb\") as file:\n",
    "    ### reset\n",
    "    cursor = conn.cursor()\n",
    "    query  = query_reset\n",
    "    cursor.execute(query)\n",
    "    \n",
    "    ### create table\n",
    "    query  = query_table\n",
    "    cursor.execute(query)\n",
    "    \n",
    "    ### insert values\n",
    "    query  = query_insert\n",
    "    header = file.readline()\n",
    "    lines  = it.islice(file, n_lines)\n",
    "    for line in lines:\n",
    "        lst = line.decode('ASCII').strip().split('\\t')  \n",
    "        lst = prep_line(lst)\n",
    "        cursor.execute(query, lst)\n",
    "    \n",
    "    ### show that the table is created\n",
    "    cursor.execute(\"SELECT * FROM Fragment\")\n",
    "    for row in cursor.fetchall():\n",
    "        print(row)"
   ]
  },
  {
   "cell_type": "markdown",
   "metadata": {},
   "source": [
    "## Insert the whole files"
   ]
  },
  {
   "cell_type": "code",
   "execution_count": 10,
   "metadata": {},
   "outputs": [
    {
     "name": "stdout",
     "output_type": "stream",
     "text": [
      "/mount/work/out/proj_combeffect/nuc/Input1/target_PER1.bed.gz\n",
      "/mount/work/out/proj_combeffect/nuc/Input1_20x/target_PER1.bed.gz\n",
      "/mount/work/out/proj_combeffect/nuc/Input2/target_PER1.bed.gz\n",
      "/mount/work/out/proj_combeffect/nuc/Input2_20x/target_PER1.bed.gz\n",
      "/mount/work/out/proj_combeffect/nuc/Input3/target_PER1.bed.gz\n",
      "/mount/work/out/proj_combeffect/nuc/Input3_20x/target_PER1.bed.gz\n",
      "/mount/work/out/proj_combeffect/nuc/Input4/target_PER1.bed.gz\n",
      "/mount/work/out/proj_combeffect/nuc/Input4_20x/target_PER1.bed.gz\n",
      "/mount/work/out/proj_combeffect/nuc/Input5/target_PER1.bed.gz\n",
      "/mount/work/out/proj_combeffect/nuc/Input5_20x/target_PER1.bed.gz\n",
      "/mount/work/out/proj_combeffect/nuc/TFX2_DMSO/target_PER1.bed.gz\n",
      "/mount/work/out/proj_combeffect/nuc/TFX2_Dex/target_PER1.bed.gz\n",
      "/mount/work/out/proj_combeffect/nuc/TFX3_DMSO/target_PER1.bed.gz\n",
      "/mount/work/out/proj_combeffect/nuc/TFX3_Dex/target_PER1.bed.gz\n",
      "/mount/work/out/proj_combeffect/nuc/TFX4_DMSO/target_PER1.bed.gz\n",
      "/mount/work/out/proj_combeffect/nuc/TFX4_Dex/target_PER1.bed.gz\n",
      "/mount/work/out/proj_combeffect/nuc/TFX5_DMSO/target_PER1.bed.gz\n",
      "/mount/work/out/proj_combeffect/nuc/TFX5_Dex/target_PER1.bed.gz\n"
     ]
    }
   ],
   "source": [
    "fdiry = os.path.join(FD_RES, \"nuc\")\n",
    "fname = \"target_PER1.bed.gz\"\n",
    "\n",
    "samples = np.sort(os.listdir(fdiry))\n",
    "\n",
    "for sam in samples:\n",
    "    fpath = os.path.join(fdiry, sam, fname)\n",
    "    print(fpath)\n",
    "\n",
    "#fpaths = glob.glob(fglob)\n",
    "#print(fpaths)"
   ]
  },
  {
   "cell_type": "code",
   "execution_count": 11,
   "metadata": {},
   "outputs": [
    {
     "name": "stdout",
     "output_type": "stream",
     "text": [
      "CPU times: user 216 ms, sys: 7.09 ms, total: 223 ms\n",
      "Wall time: 243 ms\n"
     ]
    }
   ],
   "source": [
    "%%time\n",
    "\n",
    "fdiry = os.path.join(FD_RES, 'database')\n",
    "fname = \"fragment.db\"\n",
    "fpath_db = os.path.join(fdiry, fname)\n",
    "\n",
    "fdiry = os.path.join(FD_RES, \"nuc\")\n",
    "fname = \"target_PER1.bed.gz\"\n",
    "samples = np.sort(os.listdir(fdiry))\n",
    "fpaths = [os.path.join(fdiry, sam, fname) for sam in samples]\n",
    "\n",
    "with sqlite3.connect(fpath_db) as conn:\n",
    "    cursor = conn.cursor()\n",
    "    \n",
    "    for fpath_gz in fpaths:\n",
    "        with gzip.open(fpath_gz, \"rb\") as file:\n",
    "            ### create table if not exist\n",
    "            query  = query_table\n",
    "            cursor.execute(query)\n",
    "\n",
    "            ### insert values\n",
    "            query  = query_insert\n",
    "            header = file.readline()\n",
    "            lines  = file #it.islice(file, n_lines)\n",
    "            for line in lines:\n",
    "                lst = line.decode('ASCII').strip().split('\\t')  \n",
    "                lst = prep_line(lst)\n",
    "                cursor.execute(query, lst)"
   ]
  },
  {
   "cell_type": "markdown",
   "metadata": {},
   "source": [
    "**Check**"
   ]
  },
  {
   "cell_type": "code",
   "execution_count": 3,
   "metadata": {},
   "outputs": [],
   "source": [
    "fdiry = os.path.join(FD_RES, 'database')\n",
    "fname = \"fragment.db\"\n",
    "fpath_db = os.path.join(fdiry, fname)"
   ]
  },
  {
   "cell_type": "code",
   "execution_count": 4,
   "metadata": {},
   "outputs": [
    {
     "name": "stdout",
     "output_type": "stream",
     "text": [
      "[(14694,)]\n"
     ]
    }
   ],
   "source": [
    "with sqlite3.connect(fpath_db) as conn:\n",
    "    cursor = conn.cursor()\n",
    "    query = \"select count(*) from Fragment\"\n",
    "    cursor.execute(query)\n",
    "    print(cursor.fetchall())"
   ]
  },
  {
   "cell_type": "code",
   "execution_count": 5,
   "metadata": {},
   "outputs": [
    {
     "name": "stdout",
     "output_type": "stream",
     "text": [
      "14694\n"
     ]
    }
   ],
   "source": [
    "with sqlite3.connect(fpath_db) as conn:\n",
    "    cursor = conn.cursor()\n",
    "    query = \"SELECT * FROM Fragment\"\n",
    "    cursor.execute(query)\n",
    "    rows = cursor.fetchall()\n",
    "    print(len(rows))"
   ]
  },
  {
   "cell_type": "code",
   "execution_count": 20,
   "metadata": {},
   "outputs": [
    {
     "name": "stdout",
     "output_type": "stream",
     "text": [
      "169\n",
      "3030\n",
      "191\n",
      "2934\n",
      "259\n",
      "2965\n",
      "178\n",
      "3273\n",
      "128\n",
      "2813\n",
      "1720\n",
      "734\n",
      "1114\n",
      "495\n",
      "1520\n",
      "510\n",
      "1832\n",
      "639\n",
      "\n",
      "24504\n"
     ]
    }
   ],
   "source": [
    "%%bash\n",
    "FDIRY=\"/mount/work/out/proj_combeffect/nuc\"\n",
    "FD_BEDS=($(ls -d ${FDIRY}/{Input?,Input?_20x,TFX?_DMSO,TFX?_Dex}/))\n",
    "FN_BED=\"target_PER1.bed.gz\"\n",
    "\n",
    "sum=0\n",
    "for FD_BED in ${FD_BEDS[@]}; do\n",
    "    count=$(zcat ${FD_BED}/${FN_BED} | wc -l)\n",
    "    echo $count\n",
    "    sum=$((sum + count))\n",
    "done\n",
    "echo\n",
    "echo $sum"
   ]
  },
  {
   "cell_type": "code",
   "execution_count": 22,
   "metadata": {},
   "outputs": [
    {
     "name": "stdout",
     "output_type": "stream",
     "text": [
      "24504\n"
     ]
    }
   ],
   "source": [
    "%%bash\n",
    "FD_BED=\"/mount/work/out/proj_combeffect/nuc\"\n",
    "FN_BED=\"target_PER1.bed.gz\"\n",
    "\n",
    "zcat ${FD_BED}/*/${FN_BED} | wc -l"
   ]
  },
  {
   "cell_type": "markdown",
   "metadata": {},
   "source": [
    "**Check**"
   ]
  },
  {
   "cell_type": "code",
   "execution_count": 33,
   "metadata": {},
   "outputs": [
    {
     "name": "stdout",
     "output_type": "stream",
     "text": [
      "/mount/work/out/proj_combeffect/nuc/Input1/target_PER1.bed.gz\n",
      "(168, 13)\n",
      "/mount/work/out/proj_combeffect/nuc/Input1_20x/target_PER1.bed.gz\n",
      "(3029, 13)\n",
      "/mount/work/out/proj_combeffect/nuc/Input2/target_PER1.bed.gz\n",
      "(190, 13)\n",
      "/mount/work/out/proj_combeffect/nuc/Input2_20x/target_PER1.bed.gz\n",
      "(2933, 13)\n",
      "/mount/work/out/proj_combeffect/nuc/Input3/target_PER1.bed.gz\n",
      "(258, 13)\n",
      "/mount/work/out/proj_combeffect/nuc/Input3_20x/target_PER1.bed.gz\n",
      "(2964, 13)\n",
      "/mount/work/out/proj_combeffect/nuc/Input4/target_PER1.bed.gz\n",
      "(177, 13)\n",
      "/mount/work/out/proj_combeffect/nuc/Input4_20x/target_PER1.bed.gz\n",
      "(3272, 13)\n",
      "/mount/work/out/proj_combeffect/nuc/Input5/target_PER1.bed.gz\n",
      "(127, 13)\n",
      "/mount/work/out/proj_combeffect/nuc/Input5_20x/target_PER1.bed.gz\n",
      "(2812, 13)\n",
      "/mount/work/out/proj_combeffect/nuc/TFX2_DMSO/target_PER1.bed.gz\n",
      "(733, 13)\n",
      "/mount/work/out/proj_combeffect/nuc/TFX2_Dex/target_PER1.bed.gz\n",
      "(1719, 13)\n",
      "/mount/work/out/proj_combeffect/nuc/TFX3_DMSO/target_PER1.bed.gz\n",
      "(494, 13)\n",
      "/mount/work/out/proj_combeffect/nuc/TFX3_Dex/target_PER1.bed.gz\n",
      "(1113, 13)\n",
      "/mount/work/out/proj_combeffect/nuc/TFX4_DMSO/target_PER1.bed.gz\n",
      "(509, 13)\n",
      "/mount/work/out/proj_combeffect/nuc/TFX4_Dex/target_PER1.bed.gz\n",
      "(1519, 13)\n",
      "/mount/work/out/proj_combeffect/nuc/TFX5_DMSO/target_PER1.bed.gz\n",
      "(638, 13)\n",
      "/mount/work/out/proj_combeffect/nuc/TFX5_Dex/target_PER1.bed.gz\n",
      "(1831, 13)\n",
      "(24486, 13)\n",
      "(14694, 12)\n"
     ]
    }
   ],
   "source": [
    "fdiry = os.path.join(FD_RES, \"nuc\")\n",
    "fname = \"target_PER1.bed.gz\"\n",
    "samples = np.sort(os.listdir(fdiry))\n",
    "fpaths = [os.path.join(fdiry, sam, fname) for sam in samples]\n",
    "\n",
    "###\n",
    "lst = list()\n",
    "for fpath in fpaths:\n",
    "    dat = pd.read_table(fpath)\n",
    "    lst.append(dat)\n",
    "    print(fpath)\n",
    "    print(dat.shape)\n",
    "\n",
    "###\n",
    "dat = pd.concat(lst)\n",
    "print(dat.shape)\n",
    "\n",
    "###\n",
    "tmp = dat.drop(columns=\"4_usercol\").drop_duplicates()\n",
    "print(tmp.shape)"
   ]
  },
  {
   "cell_type": "code",
   "execution_count": null,
   "metadata": {},
   "outputs": [],
   "source": []
  }
 ],
 "metadata": {
  "kernelspec": {
   "display_name": "Python 3",
   "language": "python",
   "name": "python3"
  },
  "language_info": {
   "codemirror_mode": {
    "name": "ipython",
    "version": 3
   },
   "file_extension": ".py",
   "mimetype": "text/x-python",
   "name": "python",
   "nbconvert_exporter": "python",
   "pygments_lexer": "ipython3",
   "version": "3.7.6"
  }
 },
 "nbformat": 4,
 "nbformat_minor": 4
}
