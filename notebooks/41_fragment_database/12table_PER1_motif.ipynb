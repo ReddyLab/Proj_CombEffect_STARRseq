{
 "cells": [
  {
   "cell_type": "markdown",
   "metadata": {},
   "source": [
    "**Set Environment**"
   ]
  },
  {
   "cell_type": "code",
   "execution_count": 1,
   "metadata": {},
   "outputs": [
    {
     "name": "stdout",
     "output_type": "stream",
     "text": [
      "You are on Duke Server: Singularity: Proj CombEffect\n",
      "BASE DIRECTORY:     /mount/work\n",
      "PATH OF SOURCE:     /mount/work/source\n",
      "PATH OF EXECUTABLE: /mount/work/exe\n",
      "PATH OF ANNOTATION: /mount/work/annotation\n",
      "PATH OF PROJECT:    /mount/project\n",
      "PATH OF RESULTS:    /mount/work/out/proj_combeffect\n"
     ]
    }
   ],
   "source": [
    "import sys\n",
    "sys.path.append('../')\n",
    "from config_sing import *"
   ]
  },
  {
   "cell_type": "code",
   "execution_count": 2,
   "metadata": {},
   "outputs": [],
   "source": [
    "import sqlite3\n",
    "import itertools as it"
   ]
  },
  {
   "cell_type": "code",
   "execution_count": 3,
   "metadata": {},
   "outputs": [
    {
     "data": {
      "text/plain": [
       "['motif_cluster_jvierstra', 'genome', '.ipynb_checkpoints', 'log']"
      ]
     },
     "execution_count": 3,
     "metadata": {},
     "output_type": "execute_result"
    }
   ],
   "source": [
    "fdiry = FD_ANN\n",
    "os.listdir(fdiry)"
   ]
  },
  {
   "cell_type": "code",
   "execution_count": 4,
   "metadata": {},
   "outputs": [
    {
     "data": {
      "text/plain": [
       "['/mount/work/annotation/motif_cluster_jvierstra/hg38_archetype_motifs_v1/chr17_KI270730v1_random.bed.gz',\n",
       " '/mount/work/annotation/motif_cluster_jvierstra/hg38_archetype_motifs_v1/chr17_KI270729v1_random.bed.gz',\n",
       " '/mount/work/annotation/motif_cluster_jvierstra/hg38_archetype_motifs_v1/chr17',\n",
       " '/mount/work/annotation/motif_cluster_jvierstra/hg38_archetype_motifs_v1/chr17_GL000205v2_random.bed.gz',\n",
       " '/mount/work/annotation/motif_cluster_jvierstra/hg38_archetype_motifs_v1/chr17.bed.gz',\n",
       " '/mount/work/annotation/motif_cluster_jvierstra/hg38_archetype_motifs_v1/chr17_rm_mouse.bed.gz',\n",
       " '/mount/work/annotation/motif_cluster_jvierstra/hg38_archetype_motifs_v1/chr17_rm_mouse_merge.bed.gz']"
      ]
     },
     "execution_count": 4,
     "metadata": {},
     "output_type": "execute_result"
    }
   ],
   "source": [
    "#fdiry = os.path.join(FD_ANN, \"motif_cluster_jvierstra\", \"hg38_archetype_motifs_v1\")\n",
    "#os.listdir(fdiry)\n",
    "\n",
    "fglob = os.path.join(FD_ANN, \"motif_cluster_jvierstra\", \"hg38_archetype_motifs_v1\", \"chr17*\")\n",
    "glob.glob(fglob)"
   ]
  },
  {
   "cell_type": "code",
   "execution_count": 5,
   "metadata": {},
   "outputs": [
    {
     "name": "stdout",
     "output_type": "stream",
     "text": [
      "/mount/work/annotation/motif_cluster_jvierstra/hg38_archetype_motifs_v1/chr17_rm_mouse_merge.bed.gz\n"
     ]
    }
   ],
   "source": [
    "fdiry = os.path.join(FD_ANN, \"motif_cluster_jvierstra\", \"hg38_archetype_motifs_v1\")\n",
    "fname = \"chr17_rm_mouse_merge.bed.gz\"\n",
    "fpath = os.path.join(fdiry, fname)\n",
    "\n",
    "print(fpath)"
   ]
  },
  {
   "cell_type": "code",
   "execution_count": 6,
   "metadata": {},
   "outputs": [
    {
     "name": "stdout",
     "output_type": "stream",
     "text": [
      "chr17\t60004\t60022\tZNF140\t5.6897\n",
      "chr17\t60004\t60022\tZNF667\t8.024\n",
      "chr17\t60006\t60015\tEbox/CAGCTG\t7.9275\n",
      "chr17\t60011\t60031\tGC-tract\t12.122\n",
      "chr17\t60012\t60025\tPRDM4\t1.3083\n",
      "chr17\t60017\t60028\tNR/19\t9.668\n",
      "chr17\t60019\t60035\tHEN1\t5.5854\n",
      "chr17\t60023\t60042\tZNF680\t6.3901\n",
      "chr17\t60027\t60037\tSMARCA1\t7.5566\n",
      "chr17\t60027\t60040\tLEF1\t7.1402\n"
     ]
    }
   ],
   "source": [
    "%%script env fpath=\"$fpath\" bash\n",
    "zcat ${fpath} | head"
   ]
  },
  {
   "cell_type": "code",
   "execution_count": 8,
   "metadata": {},
   "outputs": [],
   "source": [
    "def prep_line(lst):\n",
    "    key = \"_\".join(lst[0:(len(lst)-1)])\n",
    "    return [key] + lst"
   ]
  },
  {
   "cell_type": "code",
   "execution_count": 9,
   "metadata": {},
   "outputs": [
    {
     "name": "stdout",
     "output_type": "stream",
     "text": [
      "['chr17', '60004', '60022', 'ZNF140', '5.6897']\n",
      "['chr17_60004_60022_ZNF140', 'chr17', '60004', '60022', 'ZNF140', '5.6897']\n",
      "['chr17', '60004', '60022', 'ZNF667', '8.024']\n",
      "['chr17_60004_60022_ZNF667', 'chr17', '60004', '60022', 'ZNF667', '8.024']\n",
      "['chr17', '60006', '60015', 'Ebox/CAGCTG', '7.9275']\n",
      "['chr17_60006_60015_Ebox/CAGCTG', 'chr17', '60006', '60015', 'Ebox/CAGCTG', '7.9275']\n",
      "['chr17', '60011', '60031', 'GC-tract', '12.122']\n",
      "['chr17_60011_60031_GC-tract', 'chr17', '60011', '60031', 'GC-tract', '12.122']\n",
      "['chr17', '60012', '60025', 'PRDM4', '1.3083']\n",
      "['chr17_60012_60025_PRDM4', 'chr17', '60012', '60025', 'PRDM4', '1.3083']\n",
      "['chr17', '60017', '60028', 'NR/19', '9.668']\n",
      "['chr17_60017_60028_NR/19', 'chr17', '60017', '60028', 'NR/19', '9.668']\n",
      "['chr17', '60019', '60035', 'HEN1', '5.5854']\n",
      "['chr17_60019_60035_HEN1', 'chr17', '60019', '60035', 'HEN1', '5.5854']\n",
      "['chr17', '60023', '60042', 'ZNF680', '6.3901']\n",
      "['chr17_60023_60042_ZNF680', 'chr17', '60023', '60042', 'ZNF680', '6.3901']\n",
      "['chr17', '60027', '60037', 'SMARCA1', '7.5566']\n",
      "['chr17_60027_60037_SMARCA1', 'chr17', '60027', '60037', 'SMARCA1', '7.5566']\n",
      "['chr17', '60027', '60040', 'LEF1', '7.1402']\n",
      "['chr17_60027_60040_LEF1', 'chr17', '60027', '60040', 'LEF1', '7.1402']\n"
     ]
    }
   ],
   "source": [
    "fdiry = os.path.join(FD_ANN, \"motif_cluster_jvierstra\", \"hg38_archetype_motifs_v1\")\n",
    "fname = \"chr17_rm_mouse_merge.bed.gz\"\n",
    "fpath = os.path.join(fdiry, fname)\n",
    "\n",
    "n_lines = 10\n",
    "with gzip.open(fpath, \"rb\") as file:\n",
    "    lines = it.islice(file, n_lines)\n",
    "    for line in lines:\n",
    "        lst = line.decode('ASCII').strip().split('\\t')  \n",
    "        print(lst)\n",
    "        print(prep_line(lst))"
   ]
  },
  {
   "cell_type": "code",
   "execution_count": 10,
   "metadata": {},
   "outputs": [],
   "source": [
    "query_reset = (\"DROP TABLE IF EXISTS Motif\")\n",
    "\n",
    "query_table = (\"\"\"CREATE TABLE IF NOT EXISTS Motif(\n",
    "    binding TEXT PRIMARY KEY, \n",
    "    chrom   TEXT,\n",
    "    start   INTEGER,\n",
    "    end     INTEGER,\n",
    "    motif   TEXT,\n",
    "    score   REAL\n",
    ");\"\"\")\n",
    "\n",
    "query_insert = (\"INSERT OR IGNORE INTO Motif (binding,chrom,start,end,motif,score) VALUES (?,?,?,?,?,?)\")"
   ]
  },
  {
   "cell_type": "code",
   "execution_count": 17,
   "metadata": {},
   "outputs": [
    {
     "name": "stdout",
     "output_type": "stream",
     "text": [
      "('chr17_60004_60022_ZNF140', 'chr17', 60004, 60022, 'ZNF140', 5.6897)\n",
      "('chr17_60004_60022_ZNF667', 'chr17', 60004, 60022, 'ZNF667', 8.024)\n",
      "('chr17_60006_60015_Ebox/CAGCTG', 'chr17', 60006, 60015, 'Ebox/CAGCTG', 7.9275)\n",
      "('chr17_60011_60031_GC-tract', 'chr17', 60011, 60031, 'GC-tract', 12.122)\n",
      "('chr17_60012_60025_PRDM4', 'chr17', 60012, 60025, 'PRDM4', 1.3083)\n",
      "('chr17_60017_60028_NR/19', 'chr17', 60017, 60028, 'NR/19', 9.668)\n",
      "('chr17_60019_60035_HEN1', 'chr17', 60019, 60035, 'HEN1', 5.5854)\n",
      "('chr17_60023_60042_ZNF680', 'chr17', 60023, 60042, 'ZNF680', 6.3901)\n",
      "('chr17_60027_60037_SMARCA1', 'chr17', 60027, 60037, 'SMARCA1', 7.5566)\n",
      "('chr17_60027_60040_LEF1', 'chr17', 60027, 60040, 'LEF1', 7.1402)\n"
     ]
    }
   ],
   "source": [
    "fdiry = os.path.join(FD_RES, 'database')\n",
    "fname = \"fragment.db\"\n",
    "fpath_db = os.path.join(fdiry, fname)\n",
    "\n",
    "fdiry = os.path.join(FD_ANN, \"motif_cluster_jvierstra\", \"hg38_archetype_motifs_v1\")\n",
    "fname = \"chr17_rm_mouse_merge.bed.gz\"\n",
    "fpath_gz = os.path.join(fdiry, fname)\n",
    "\n",
    "with sqlite3.connect(fpath_db) as conn, gzip.open(fpath_gz, \"rb\") as file:\n",
    "    ### reset\n",
    "    cursor = conn.cursor()\n",
    "    query  = query_reset\n",
    "    cursor.execute(query)\n",
    "    \n",
    "    ### create table\n",
    "    query  = query_table\n",
    "    cursor.execute(query)\n",
    "    \n",
    "    ### insert values\n",
    "    query  = query_insert\n",
    "    lines = it.islice(file, n_lines)\n",
    "    for line in lines:\n",
    "        lst = line.decode('ASCII').strip().split('\\t')  \n",
    "        lst = prep_line(lst)\n",
    "        cursor.execute(query, lst)\n",
    "    \n",
    "    ### show that the table is created\n",
    "    cursor.execute(\"SELECT * FROM Motif\")\n",
    "    for row in cursor.fetchall():\n",
    "        print(row)"
   ]
  },
  {
   "cell_type": "markdown",
   "metadata": {},
   "source": [
    "## Insert the whole file"
   ]
  },
  {
   "cell_type": "code",
   "execution_count": 19,
   "metadata": {},
   "outputs": [
    {
     "name": "stdout",
     "output_type": "stream",
     "text": [
      "CPU times: user 1min 55s, sys: 4.15 s, total: 1min 59s\n",
      "Wall time: 2min 10s\n"
     ]
    }
   ],
   "source": [
    "%%time\n",
    "\n",
    "fdiry = os.path.join(FD_RES, 'database')\n",
    "fname = \"fragment.db\"\n",
    "fpath_db = os.path.join(fdiry, fname)\n",
    "\n",
    "fdiry = os.path.join(FD_ANN, \"motif_cluster_jvierstra\", \"hg38_archetype_motifs_v1\")\n",
    "fname = \"chr17_rm_mouse_merge.bed.gz\"\n",
    "fpath_gz = os.path.join(fdiry, fname)\n",
    "\n",
    "with sqlite3.connect(fpath_db) as conn, gzip.open(fpath_gz, \"rb\") as file:\n",
    "    ### init\n",
    "    cursor = conn.cursor()\n",
    "    \n",
    "    ### create table\n",
    "    query  = query_table\n",
    "    cursor.execute(query)\n",
    "    \n",
    "    ### insert values\n",
    "    query = query_insert\n",
    "    lines = file #it.islice(file, n_lines)\n",
    "    for line in lines:\n",
    "        lst = line.decode('ASCII').strip().split('\\t')  \n",
    "        lst = prep_line(lst)\n",
    "        cursor.execute(query, lst)"
   ]
  },
  {
   "cell_type": "markdown",
   "metadata": {},
   "source": [
    "**Check**"
   ]
  },
  {
   "cell_type": "code",
   "execution_count": 20,
   "metadata": {},
   "outputs": [
    {
     "name": "stdout",
     "output_type": "stream",
     "text": [
      "/mount/work/annotation/motif_cluster_jvierstra/hg38_archetype_motifs_v1/chr17_rm_mouse_merge.bed.gz\n"
     ]
    }
   ],
   "source": [
    "fdiry = os.path.join(FD_ANN, \"motif_cluster_jvierstra\", \"hg38_archetype_motifs_v1\")\n",
    "fname = \"chr17_rm_mouse_merge.bed.gz\"\n",
    "fpath = os.path.join(fdiry, fname)\n",
    "\n",
    "print(fpath)"
   ]
  },
  {
   "cell_type": "code",
   "execution_count": 21,
   "metadata": {},
   "outputs": [
    {
     "name": "stdout",
     "output_type": "stream",
     "text": [
      "14308212\n"
     ]
    }
   ],
   "source": [
    "%%script env fpath=\"$fpath\" bash\n",
    "zcat ${fpath} | wc -l"
   ]
  },
  {
   "cell_type": "code",
   "execution_count": 3,
   "metadata": {},
   "outputs": [
    {
     "name": "stdout",
     "output_type": "stream",
     "text": [
      "[(14308212,)]\n",
      "CPU times: user 172 ms, sys: 590 ms, total: 762 ms\n",
      "Wall time: 2.95 s\n"
     ]
    }
   ],
   "source": [
    "%%time\n",
    "\n",
    "fdiry = os.path.join(FD_RES, 'database')\n",
    "fname = \"fragment.db\"\n",
    "fpath_db = os.path.join(fdiry, fname)\n",
    "\n",
    "with sqlite3.connect(fpath_db) as conn:\n",
    "    cursor = conn.cursor()\n",
    "    query = \"select count(*) from Motif\"\n",
    "    cursor.execute(query)\n",
    "    print(cursor.fetchall())"
   ]
  },
  {
   "cell_type": "code",
   "execution_count": 22,
   "metadata": {},
   "outputs": [
    {
     "name": "stdout",
     "output_type": "stream",
     "text": [
      "[(14308212,)]\n",
      "CPU times: user 146 ms, sys: 637 ms, total: 783 ms\n",
      "Wall time: 16.5 s\n"
     ]
    }
   ],
   "source": [
    "%%time\n",
    "\n",
    "with sqlite3.connect(fpath_db) as conn:\n",
    "    cursor = conn.cursor()\n",
    "    query = \"select count(*) from Motif\"\n",
    "    cursor.execute(query)\n",
    "    print(cursor.fetchall())"
   ]
  },
  {
   "cell_type": "markdown",
   "metadata": {},
   "source": [
    "**Indexing**"
   ]
  },
  {
   "cell_type": "code",
   "execution_count": 7,
   "metadata": {},
   "outputs": [],
   "source": [
    "query_index_start = \"\"\"CREATE INDEX idx_motif_start ON Motif (start)\"\"\"\n",
    "query_index_end   = \"\"\"CREATE INDEX idx_motif_end   ON Motif (end)\"\"\"\n",
    "query_index_loc   = \"\"\"CREATE INDEX idx_motif_loc   ON Motif (start, end)\"\"\""
   ]
  },
  {
   "cell_type": "code",
   "execution_count": 5,
   "metadata": {},
   "outputs": [
    {
     "name": "stdout",
     "output_type": "stream",
     "text": [
      "CPU times: user 6.19 s, sys: 1.94 s, total: 8.13 s\n",
      "Wall time: 8.24 s\n"
     ]
    }
   ],
   "source": [
    "%%time\n",
    "fdiry = os.path.join(FD_RES, 'database')\n",
    "fname = \"fragment.db\"\n",
    "fpath_db = os.path.join(fdiry, fname)\n",
    "\n",
    "with sqlite3.connect(fpath_db) as conn:\n",
    "    cursor = conn.cursor()\n",
    "    query = query_index_start\n",
    "    cursor.execute(query)"
   ]
  },
  {
   "cell_type": "code",
   "execution_count": 6,
   "metadata": {},
   "outputs": [
    {
     "name": "stdout",
     "output_type": "stream",
     "text": [
      "CPU times: user 6.38 s, sys: 1.84 s, total: 8.22 s\n",
      "Wall time: 8.36 s\n"
     ]
    }
   ],
   "source": [
    "%%time\n",
    "fdiry = os.path.join(FD_RES, 'database')\n",
    "fname = \"fragment.db\"\n",
    "fpath_db = os.path.join(fdiry, fname)\n",
    "\n",
    "with sqlite3.connect(fpath_db) as conn:\n",
    "    cursor = conn.cursor()\n",
    "    query = query_index_end\n",
    "    cursor.execute(query)"
   ]
  },
  {
   "cell_type": "code",
   "execution_count": 9,
   "metadata": {},
   "outputs": [
    {
     "name": "stdout",
     "output_type": "stream",
     "text": [
      "CPU times: user 7.1 s, sys: 2.29 s, total: 9.39 s\n",
      "Wall time: 9.56 s\n"
     ]
    }
   ],
   "source": [
    "%%time\n",
    "fdiry = os.path.join(FD_RES, 'database')\n",
    "fname = \"fragment.db\"\n",
    "fpath_db = os.path.join(fdiry, fname)\n",
    "\n",
    "with sqlite3.connect(fpath_db) as conn:\n",
    "    cursor = conn.cursor()\n",
    "    query = query_index_loc\n",
    "    cursor.execute(query)"
   ]
  },
  {
   "cell_type": "code",
   "execution_count": 11,
   "metadata": {},
   "outputs": [],
   "source": [
    "query_drop_index_start = \"\"\"DROP INDEX idx_motif_start;\"\"\"\n",
    "query_drop_index_end = \"\"\"DROP INDEX idx_motif_end;\"\"\""
   ]
  },
  {
   "cell_type": "code",
   "execution_count": 12,
   "metadata": {},
   "outputs": [],
   "source": [
    "fdiry = os.path.join(FD_RES, 'database')\n",
    "fname = \"fragment.db\"\n",
    "fpath_db = os.path.join(fdiry, fname)\n",
    "\n",
    "with sqlite3.connect(fpath_db) as conn:\n",
    "    cursor = conn.cursor()\n",
    "    query = query_drop_index_start\n",
    "    cursor.execute(query)\n",
    "    cursor = conn.cursor()\n",
    "    query = query_drop_index_end\n",
    "    cursor.execute(query)"
   ]
  },
  {
   "cell_type": "code",
   "execution_count": null,
   "metadata": {},
   "outputs": [],
   "source": []
  }
 ],
 "metadata": {
  "kernelspec": {
   "display_name": "Python 3",
   "language": "python",
   "name": "python3"
  },
  "language_info": {
   "codemirror_mode": {
    "name": "ipython",
    "version": 3
   },
   "file_extension": ".py",
   "mimetype": "text/x-python",
   "name": "python",
   "nbconvert_exporter": "python",
   "pygments_lexer": "ipython3",
   "version": "3.7.6"
  }
 },
 "nbformat": 4,
 "nbformat_minor": 4
}
