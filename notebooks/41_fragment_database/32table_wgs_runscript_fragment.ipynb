{
 "cells": [
  {
   "cell_type": "markdown",
   "id": "e1fac0e3-9157-4c15-b4c7-bee02b42be77",
   "metadata": {},
   "source": [
    "# Create WGS database: Fragment table"
   ]
  },
  {
   "cell_type": "markdown",
   "id": "6a2bda34-75cc-4126-9532-57e52c3061bd",
   "metadata": {},
   "source": [
    "**Set environment**"
   ]
  },
  {
   "cell_type": "code",
   "execution_count": 1,
   "id": "f9e0b4f7-5cd5-43e4-ab57-66a92f818205",
   "metadata": {},
   "outputs": [
    {
     "name": "stdout",
     "output_type": "stream",
     "text": [
      "You are on Duke Server: HARDAC\n",
      "BASE DIRECTORY:     /gpfs/fs1/data/reddylab/Kuei\n",
      "PATH OF SOURCE:     /gpfs/fs1/data/reddylab/Kuei/source\n",
      "PATH OF EXECUTABLE: /gpfs/fs1/data/reddylab/Kuei/exe\n",
      "PATH OF ANNOTATION: /gpfs/fs1/data/reddylab/Kuei/annotation\n",
      "PATH OF PROJECT:    /gpfs/fs1/data/reddylab/Kuei/GitRepo/Proj_CombEffect_STARRseq/notebooks\n",
      "PATH OF RESULTS:    /gpfs/fs1/data/reddylab/Kuei/out/proj_combeffect\n",
      "\n"
     ]
    }
   ],
   "source": [
    "source ../config_duke.sh\n",
    "source ../config_duke_sing.sh\n",
    "show_env"
   ]
  },
  {
   "cell_type": "markdown",
   "id": "babb800e-fb73-4f2d-bd47-df40d9537767",
   "metadata": {},
   "source": [
    "**Test**"
   ]
  },
  {
   "cell_type": "code",
   "execution_count": 4,
   "id": "d3efd6f0-26ea-4ee4-b8d5-43444a02782c",
   "metadata": {},
   "outputs": [
    {
     "name": "stdout",
     "output_type": "stream",
     "text": [
      "Input1\t    Input2_20x\tInput4\t    Input5_20x\tTFX3_Dex   TFX4_DMSO\n",
      "Input1_20x  Input3\tInput4_20x  TFX2_Dex\tTFX3_DMSO  TFX5_Dex\n",
      "Input2\t    Input3_20x\tInput5\t    TFX2_DMSO\tTFX4_Dex   TFX5_DMSO\n"
     ]
    }
   ],
   "source": [
    "${FD_PRJ}/sing_proj_combeffect.sh ls ${SING_FD_RES}/nuc"
   ]
  },
  {
   "cell_type": "code",
   "execution_count": 5,
   "id": "6ca6c843-d9b7-4f8d-b074-838ea1619ca7",
   "metadata": {},
   "outputs": [
    {
     "name": "stdout",
     "output_type": "stream",
     "text": [
      "chr10.bed.gz  chr15.bed.gz  chr1.bed.gz   chr3.bed.gz  chr8.bed.gz\n",
      "chr11.bed.gz  chr16.bed.gz  chr20.bed.gz  chr4.bed.gz  chr9.bed.gz\n",
      "chr12.bed.gz  chr17.bed.gz  chr21.bed.gz  chr5.bed.gz  chrX.bed.gz\n",
      "chr13.bed.gz  chr18.bed.gz  chr22.bed.gz  chr6.bed.gz  chrY.bed.gz\n",
      "chr14.bed.gz  chr19.bed.gz  chr2.bed.gz   chr7.bed.gz  target_PER1.bed.gz\n"
     ]
    }
   ],
   "source": [
    "${FD_PRJ}/sing_proj_combeffect.sh ls ${SING_FD_RES}/nuc/Input1"
   ]
  },
  {
   "cell_type": "code",
   "execution_count": 6,
   "id": "42dd248d-5cf4-4d54-ba4a-1d6b3ea4b63d",
   "metadata": {},
   "outputs": [
    {
     "name": "stdout",
     "output_type": "stream",
     "text": [
      "#1_usercol\t2_usercol\t3_usercol\t4_usercol\t5_pct_at\t6_pct_gc\t7_num_A\t8_num_C\t9_num_G\t10_num_T\t11_num_N\t12_num_oth\t13_seq_len\n",
      "chr17\t8148117\t8149012\t1\t0.423464\t0.576536\t196\t268\t248\t183\t0\t0\t895\n",
      "chr17\t8148122\t8149107\t1\t0.428426\t0.571574\t219\t290\t273\t203\t0\t0\t985\n",
      "chr17\t8148178\t8149194\t1\t0.431102\t0.568898\t235\t289\t289\t203\t0\t0\t1016\n",
      "chr17\t8148188\t8149154\t1\t0.427536\t0.572464\t222\t275\t278\t191\t0\t0\t966\n",
      "chr17\t8148190\t8149151\t1\t0.427680\t0.572321\t220\t273\t277\t191\t0\t0\t961\n",
      "chr17\t8148220\t8149108\t1\t0.433559\t0.566441\t206\t255\t248\t179\t0\t0\t888\n",
      "chr17\t8148280\t8149232\t1\t0.443277\t0.556723\t242\t272\t258\t180\t0\t0\t952\n",
      "chr17\t8148401\t8149372\t1\t0.450051\t0.549949\t253\t271\t263\t184\t0\t0\t971\n",
      "chr17\t8148548\t8149585\t1\t0.415622\t0.584378\t260\t300\t306\t171\t0\t0\t1037\n"
     ]
    }
   ],
   "source": [
    "${FD_PRJ}/sing_proj_combeffect.sh zcat ${SING_FD_RES}/nuc/Input1/target_PER1.bed.gz | head"
   ]
  },
  {
   "cell_type": "markdown",
   "id": "4f018f41-047e-4411-a613-0856e50f7f47",
   "metadata": {},
   "source": [
    "**Run**"
   ]
  },
  {
   "cell_type": "code",
   "execution_count": 13,
   "id": "65b8951c-015e-4b0b-92b2-776c4598e503",
   "metadata": {},
   "outputs": [
    {
     "name": "stdout",
     "output_type": "stream",
     "text": [
      "Submitted batch job 29017985\n"
     ]
    }
   ],
   "source": [
    "sbatch -p ${NODE} \\\n",
    "    --mem 8G \\\n",
    "    -o ${FD_LOG}/db_wgs_table_fragment_test.out \\\n",
    "    -e ${FD_LOG}/db_wgs_table_fragment_test.err \\\n",
    "    <<'EOF'\n",
    "#!/bin/bash\n",
    "### set directories & global variables\n",
    "source ../config_duke.sh\n",
    "source ../config_duke_sing.sh\n",
    "\n",
    "CHROMS=($(seq 1 22) X Y)\n",
    "#CHROM=chr${CHROMS[${SLURM_ARRAY_TASK_ID}]}\n",
    "CHROM=chr17\n",
    "\n",
    "### print start message\n",
    "timer_start=`date +%s`\n",
    "echo \"Slurm Array Index: \" ${SLURM_ARRAY_TASK_ID}\n",
    "echo \"Time Stamp:        \" $(date +\"%m-%d-%y+%T\")\n",
    "echo\n",
    "\n",
    "### execution\n",
    "${FD_PRJ}/sing_proj_combeffect.sh \\\n",
    "    python ./script/build12_table_fragment.py \\\n",
    "    --chrom ${CHROM} \\\n",
    "    --fout   ${SING_FD_RES}/database/whole_genome_starrseq \\\n",
    "    --finp   ${SING_FD_RES}/nuc\n",
    "    \n",
    "### print end message\n",
    "timer_stop=`date +%s`\n",
    "runtime=$(echo \"${timer_stop} - ${timer_start}\" | bc -l)\n",
    "echo\n",
    "echo 'Done!'\n",
    "echo \"Run Time: $(displaytime ${runtime})\"\n",
    "\n",
    "EOF"
   ]
  },
  {
   "cell_type": "markdown",
   "id": "8df91dec-df44-4fc8-9171-a4829a3b6bdf",
   "metadata": {},
   "source": [
    "**Check**"
   ]
  },
  {
   "cell_type": "code",
   "execution_count": 14,
   "id": "6e2fef7a-b4de-4bb2-a43b-98efa3942069",
   "metadata": {},
   "outputs": [
    {
     "name": "stdout",
     "output_type": "stream",
     "text": [
      "Slurm Array Index: \n",
      "Time Stamp:         09-11-22+20:56:34\n",
      "\n",
      "Global variables:\n",
      "Chromsome:   chr17\n",
      "Database:    /mount/work/out/proj_combeffect/database/whole_genome_starrseq/fragment_chr17.db\n",
      "Input file directory: /mount/work/out/proj_combeffect/nuc\n",
      "\n",
      "\n",
      "Done!\n",
      "Run Time: 1 seconds\n"
     ]
    }
   ],
   "source": [
    "cat ${FD_LOG}/db_wgs_table_fragment_test.out"
   ]
  },
  {
   "cell_type": "code",
   "execution_count": 15,
   "id": "fa12a59a-a9a3-411e-8786-4b5ccbc93bf2",
   "metadata": {},
   "outputs": [],
   "source": [
    "cat ${FD_LOG}/db_wgs_table_fragment_test.err"
   ]
  },
  {
   "cell_type": "code",
   "execution_count": null,
   "id": "67b54b03-c98b-4b50-ab73-ad7168cef406",
   "metadata": {},
   "outputs": [],
   "source": []
  }
 ],
 "metadata": {
  "kernelspec": {
   "display_name": "Bash",
   "language": "bash",
   "name": "bash"
  },
  "language_info": {
   "codemirror_mode": "shell",
   "file_extension": ".sh",
   "mimetype": "text/x-sh",
   "name": "bash"
  }
 },
 "nbformat": 4,
 "nbformat_minor": 5
}
