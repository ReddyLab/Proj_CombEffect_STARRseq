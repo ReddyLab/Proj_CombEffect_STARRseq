{
 "cells": [
  {
   "cell_type": "code",
   "execution_count": 1,
   "metadata": {},
   "outputs": [],
   "source": [
    "### set environment\n",
    "import sys\n",
    "sys.path.append(\"/home/mount/project\")\n",
    "from config_sing import *"
   ]
  },
  {
   "cell_type": "code",
   "execution_count": 6,
   "metadata": {
    "collapsed": true,
    "jupyter": {
     "outputs_hidden": true
    }
   },
   "outputs": [
    {
     "data": {
      "text/plain": [
       "['HD_3_merge.bed.gz',\n",
       " 'MECP2_merge.bed.gz',\n",
       " 'FOX_1_merge.bed.gz',\n",
       " 'CUX_3_merge.bed.gz',\n",
       " 'NR_18_merge.bed.gz',\n",
       " 'FOX_5_merge.bed.gz',\n",
       " 'TBX_2_merge.bed.gz',\n",
       " 'SREBF1_merge.bed.gz',\n",
       " 'ZNF418_merge.bed.gz',\n",
       " 'SOX_8_merge.bed.gz',\n",
       " 'HD_11_merge.bed.gz',\n",
       " 'HD_7_merge.bed.gz',\n",
       " 'SOX_4_merge.bed.gz',\n",
       " 'FOX_9_merge.bed.gz',\n",
       " 'ETS_2_merge.bed.gz',\n",
       " 'SOX_5_merge.bed.gz',\n",
       " 'OSR2_merge.bed.gz',\n",
       " 'ZNF563_merge.bed.gz',\n",
       " 'CENBP_merge.bed.gz',\n",
       " 'TBX_4_merge.bed.gz',\n",
       " 'HD_4_merge.bed.gz',\n",
       " 'CREB_ATF_1_merge.bed.gz',\n",
       " 'MFZ1_merge.bed.gz',\n",
       " 'HSFY2_merge.bed.gz',\n",
       " 'ZNF382_merge.bed.gz',\n",
       " 'ZNF320_merge.bed.gz',\n",
       " 'MYB_3_merge.bed.gz',\n",
       " 'NR_1_merge.bed.gz',\n",
       " 'Ebox_CATATG_merge.bed.gz',\n",
       " 'SOX_6_merge.bed.gz',\n",
       " 'NR_20_merge.bed.gz',\n",
       " 'CCAAT_CEBP_merge.bed.gz',\n",
       " 'NFAT_4_merge.bed.gz',\n",
       " 'SPDEF_1_merge.bed.gz',\n",
       " 'EVI1_MECOM_merge.bed.gz',\n",
       " 'ZNF136_merge.bed.gz',\n",
       " 'HD_16_merge.bed.gz',\n",
       " 'ZIC_2_merge.bed.gz',\n",
       " 'ZFN121_merge.bed.gz',\n",
       " 'ZIC_merge.bed.gz',\n",
       " 'HD_25_merge.bed.gz',\n",
       " 'HD_8_merge.bed.gz',\n",
       " 'KLF_SP_2_merge.bed.gz',\n",
       " 'MTF1_merge.bed.gz',\n",
       " 'ZNF667_merge.bed.gz',\n",
       " 'HD_20_merge.bed.gz',\n",
       " 'ZNF547_merge.bed.gz',\n",
       " 'ZNF232_merge.bed.gz',\n",
       " 'NRF1_merge.bed.gz',\n",
       " 'KLF_SP_1_merge.bed.gz',\n",
       " 'HSF_merge.bed.gz',\n",
       " 'MAF_merge.bed.gz',\n",
       " 'ZNF549_merge.bed.gz',\n",
       " 'HIC_2_merge.bed.gz',\n",
       " 'HD_5_merge.bed.gz',\n",
       " 'TFAP2_1_merge.bed.gz',\n",
       " 'EBF1_merge.bed.gz',\n",
       " 'ZNF768_merge.bed.gz',\n",
       " 'FOX_3_merge.bed.gz',\n",
       " 'SOX_3_merge.bed.gz',\n",
       " 'ZNF331_merge.bed.gz',\n",
       " 'FEZF1_merge.bed.gz',\n",
       " 'PAX-halfsite_merge.bed.gz',\n",
       " 'MZF1_merge.bed.gz',\n",
       " 'AP1_1_merge.bed.gz',\n",
       " 'NR_16_merge.bed.gz',\n",
       " 'NR_9_merge.bed.gz',\n",
       " 'CUX_1_merge.bed.gz',\n",
       " 'STAT_1_merge.bed.gz',\n",
       " 'ETS_1_merge.bed.gz',\n",
       " 'POU_2_merge.bed.gz',\n",
       " 'NFAC_2_merge.bed.gz',\n",
       " 'ZNF384_2_merge.bed.gz',\n",
       " 'ZNF335_merge.bed.gz',\n",
       " 'ZNF423_merge.bed.gz',\n",
       " 'GC-tract_merge.bed.gz',\n",
       " 'PROX1_merge.bed.gz',\n",
       " 'OCT4+SOX2_merge.bed.gz',\n",
       " 'SMARCA5_merge.bed.gz',\n",
       " 'GRHL_merge.bed.gz',\n",
       " 'REST_NRSF_merge.bed.gz',\n",
       " 'FOX_6_merge.bed.gz',\n",
       " 'ZNF41_merge.bed.gz',\n",
       " 'GMEB2_3_merge.bed.gz',\n",
       " 'SOX_1_merge.bed.gz',\n",
       " 'ZNF713_merge.bed.gz',\n",
       " 'Ebox_CAGATGG_merge.bed.gz',\n",
       " 'NFY_merge.bed.gz',\n",
       " 'EWSR1_FLI1_merge.bed.gz',\n",
       " 'DMRT3_merge.bed.gz',\n",
       " 'PRDM1_merge.bed.gz',\n",
       " 'ZNF274_merge.bed.gz',\n",
       " 'CREB_ATF_3_merge.bed.gz',\n",
       " 'Ebox_CACCTG_merge.bed.gz',\n",
       " 'NR_5_merge.bed.gz',\n",
       " 'TEAD_merge.bed.gz',\n",
       " 'ARI5B_merge.bed.gz',\n",
       " 'MEF2_merge.bed.gz',\n",
       " 'SCRT1_merge.bed.gz',\n",
       " 'LIN54_merge.bed.gz',\n",
       " 'MYB_4_merge.bed.gz',\n",
       " 'NR_8_merge.bed.gz',\n",
       " 'DDIT3+CEBPA_merge.bed.gz',\n",
       " 'ZBTB7A_merge.bed.gz',\n",
       " 'TBX_3_merge.bed.gz',\n",
       " 'NR_14_merge.bed.gz',\n",
       " 'NFI_2_merge.bed.gz',\n",
       " 'NR_10_merge.bed.gz',\n",
       " 'ZNF435_merge.bed.gz',\n",
       " 'HINFP1_3_merge.bed.gz',\n",
       " 'CPEB1_merge.bed.gz',\n",
       " 'NR_6_merge.bed.gz',\n",
       " 'ZSCAN4_merge.bed.gz',\n",
       " 'THAP1_merge.bed.gz',\n",
       " 'ARI5A_merge.bed.gz',\n",
       " 'GMEB2_1_merge.bed.gz',\n",
       " 'HD_22_merge.bed.gz',\n",
       " 'ZBTB48_merge.bed.gz',\n",
       " 'PLAG1_merge.bed.gz',\n",
       " 'GCM_merge.bed.gz',\n",
       " 'HD_14_merge.bed.gz',\n",
       " 'EGR_merge.bed.gz',\n",
       " 'HINFP1_1_merge.bed.gz',\n",
       " 'ZNF554_merge.bed.gz',\n",
       " 'NFKB_1_merge.bed.gz',\n",
       " 'ZNF53_merge.bed.gz',\n",
       " 'ZKSCAN1_merge.bed.gz',\n",
       " 'ZNF282_merge.bed.gz',\n",
       " 'NR_3_merge.bed.gz',\n",
       " 'MYB_5_merge.bed.gz',\n",
       " 'HD_10_merge.bed.gz',\n",
       " 'ZNF134_merge.bed.gz',\n",
       " 'CREB_ATF_2_merge.bed.gz',\n",
       " 'ZNF384_1_merge.bed.gz',\n",
       " 'ZFX_merge.bed.gz',\n",
       " 'NR_7_merge.bed.gz',\n",
       " 'ZNF140_merge.bed.gz',\n",
       " 'NR2E3_merge.bed.gz',\n",
       " 'HD_2_merge.bed.gz',\n",
       " 'KLF_SP_3_merge.bed.gz',\n",
       " 'ZNF528_merge.bed.gz',\n",
       " 'Ebox_CAGCTG_merge.bed.gz',\n",
       " 'OVOL1_merge.bed.gz',\n",
       " 'ZNF85_merge.bed.gz',\n",
       " 'HD_21_merge.bed.gz',\n",
       " 'HD_9_merge.bed.gz',\n",
       " 'MYB_1_merge.bed.gz',\n",
       " 'ZNF317_merge.bed.gz',\n",
       " 'HD_1_merge.bed.gz',\n",
       " 'SPDEF_2_merge.bed.gz',\n",
       " 'TCF_LEF_merge.bed.gz',\n",
       " 'ZBTB6_merge.bed.gz',\n",
       " 'SMAD_merge.bed.gz',\n",
       " 'ZNF146_merge.bed.gz',\n",
       " 'FOX_4_merge.bed.gz',\n",
       " 'ZNF306_merge.bed.gz',\n",
       " 'ZNF410_merge.bed.gz',\n",
       " 'CUX_2_merge.bed.gz',\n",
       " 'ZNF250_merge.bed.gz',\n",
       " 'PRDM14_merge.bed.gz',\n",
       " 'NR_17_merge.bed.gz',\n",
       " 'GLIS_merge.bed.gz',\n",
       " 'HAND1_merge.bed.gz',\n",
       " 'Ebox_CACGTG_1_merge.bed.gz',\n",
       " 'RUNX_1_merge.bed.gz',\n",
       " 'AHR_merge.bed.gz',\n",
       " 'E2F_2_merge.bed.gz',\n",
       " 'CTCF_merge.bed.gz',\n",
       " 'TFCP2_merge.bed.gz',\n",
       " 'TFAP2_2_merge.bed.gz',\n",
       " 'HD_18_merge.bed.gz',\n",
       " 'HD_17_merge.bed.gz',\n",
       " 'HINFP1_2_merge.bed.gz',\n",
       " 'BCL6_1_merge.bed.gz',\n",
       " 'ZNF257_merge.bed.gz',\n",
       " 'ZNF354_merge.bed.gz',\n",
       " 'RUNX_2_merge.bed.gz',\n",
       " 'AP1_2_merge.bed.gz',\n",
       " 'POU_1_merge.bed.gz',\n",
       " 'MYB_2_merge.bed.gz',\n",
       " 'AIRE_merge.bed.gz',\n",
       " 'ZIM3_merge.bed.gz',\n",
       " 'NFAT_2_merge.bed.gz',\n",
       " 'Ebox_CACGTG_2_merge.bed.gz',\n",
       " 'SOX_2_merge.bed.gz',\n",
       " 'E2F_1_merge.bed.gz',\n",
       " 'E2F_3_merge.bed.gz',\n",
       " 'MBD2_merge.bed.gz',\n",
       " 'SRF_merge.bed.gz',\n",
       " 'INSM1_merge.bed.gz',\n",
       " 'HIF_merge.bed.gz',\n",
       " 'NR_12_merge.bed.gz',\n",
       " 'REL-halfsite_merge.bed.gz',\n",
       " 'SPZ1_merge.bed.gz',\n",
       " 'FOX_8_merge.bed.gz',\n",
       " 'HD_12_merge.bed.gz',\n",
       " 'ZBTB14_merge.bed.gz',\n",
       " 'HD_15_merge.bed.gz',\n",
       " 'RFX_1_merge.bed.gz',\n",
       " 'ZNF524_merge.bed.gz',\n",
       " 'STAT_2_merge.bed.gz',\n",
       " 'TATA_merge.bed.gz',\n",
       " 'SOX_7_merge.bed.gz',\n",
       " 'FOX_7_merge.bed.gz',\n",
       " 'ZNF708_merge.bed.gz',\n",
       " 'TBX_1_merge.bed.gz',\n",
       " 'E2F_4_merge.bed.gz',\n",
       " 'RFX_3_merge.bed.gz',\n",
       " 'ZNF28_merge.bed.gz',\n",
       " 'FOX_2_merge.bed.gz',\n",
       " 'NFI_1_merge.bed.gz',\n",
       " 'GLI_merge.bed.gz',\n",
       " 'POU_3_merge.bed.gz',\n",
       " 'NR_2_merge.bed.gz',\n",
       " 'P53-like_1_merge.bed.gz',\n",
       " 'ZNF332_merge.bed.gz',\n",
       " 'GFI_merge.bed.gz',\n",
       " 'SPI_merge.bed.gz',\n",
       " 'NFI_3_merge.bed.gz',\n",
       " 'HIC_1_merge.bed.gz',\n",
       " 'HD_24_merge.bed.gz',\n",
       " 'RBPJ_merge.bed.gz',\n",
       " 'NFKB_3_merge.bed.gz',\n",
       " 'HEN1_merge.bed.gz',\n",
       " 'NR_4_merge.bed.gz',\n",
       " 'NFAT_1_merge.bed.gz',\n",
       " 'CREB3_XBP1_merge.bed.gz',\n",
       " 'HD_23_merge.bed.gz',\n",
       " 'NR_11_merge.bed.gz',\n",
       " 'ZBED1_merge.bed.gz',\n",
       " 'IRF_2_merge.bed.gz',\n",
       " 'ZNF329_merge.bed.gz',\n",
       " 'ZNF490_merge.bed.gz',\n",
       " 'HD_19_merge.bed.gz',\n",
       " 'RFX_2_merge.bed.gz',\n",
       " 'PAX_1_merge.bed.gz',\n",
       " 'PRDM4_merge.bed.gz',\n",
       " 'NFAT_3_merge.bed.gz',\n",
       " 'SIX_2_merge.bed.gz',\n",
       " 'LEF1_merge.bed.gz',\n",
       " 'HD_13_merge.bed.gz',\n",
       " 'IRF_1_merge.bed.gz',\n",
       " 'ZNF586_merge.bed.gz',\n",
       " 'BATF_merge.bed.gz',\n",
       " 'ZNF784_merge.bed.gz',\n",
       " 'NR_15_merge.bed.gz',\n",
       " 'YY1_merge.bed.gz',\n",
       " 'ZNF143_merge.bed.gz',\n",
       " 'IRF_4_merge.bed.gz',\n",
       " 'SNAI2_merge.bed.gz',\n",
       " 'MIES_merge.bed.gz',\n",
       " 'ZSCAN3_merge.bed.gz',\n",
       " 'NR_19_merge.bed.gz',\n",
       " 'ZNF449_merge.bed.gz',\n",
       " 'HLTF_merge.bed.gz',\n",
       " 'IRF_3_merge.bed.gz',\n",
       " 'ZNF24_merge.bed.gz',\n",
       " 'HD_6_merge.bed.gz',\n",
       " 'HOMEZ_merge.bed.gz',\n",
       " 'PAX_2_merge.bed.gz',\n",
       " 'NR_13_merge.bed.gz',\n",
       " 'ZNF324_merge.bed.gz',\n",
       " 'NFKB_2_merge.bed.gz',\n",
       " 'GATA_merge.bed.gz',\n",
       " 'ZNF436_merge.bed.gz',\n",
       " 'SIX_1_merge.bed.gz',\n",
       " 'ZBTB49_merge.bed.gz',\n",
       " 'KAISO_merge.bed.gz',\n",
       " 'BCL6_2_merge.bed.gz',\n",
       " 'SMARCA1_merge.bed.gz',\n",
       " 'GMEB2_2_merge.bed.gz',\n",
       " 'ZNF680_merge.bed.gz']"
      ]
     },
     "execution_count": 6,
     "metadata": {},
     "output_type": "execute_result"
    }
   ],
   "source": [
    "fdiry = os.path.join(FD_RES, \"annotation_fragment\", \"TFX2_Dex\", \"target_PER1\")\n",
    "os.listdir(fdiry)"
   ]
  },
  {
   "cell_type": "code",
   "execution_count": 7,
   "metadata": {},
   "outputs": [],
   "source": [
    "TARGET = \"target_PER1\"\n",
    "sample = \"TFX2_Dex\"\n",
    "fdiry  = os.path.join(FD_RES, \"annotation_fragment\", sample, TARGET)"
   ]
  },
  {
   "cell_type": "code",
   "execution_count": 9,
   "metadata": {},
   "outputs": [],
   "source": [
    "fnames = [\"AP1_1_merge.bed.gz\", \"NR_20_merge.bed.gz\"]\n",
    "fpaths = [os.path.join(fdiry, fname) for fname in fnames]\n",
    "motifs = [\"AP1_1\", \"NR_20\"]\n",
    "\n",
    "#dct_frag\n",
    "#dct_file"
   ]
  },
  {
   "cell_type": "code",
   "execution_count": 65,
   "metadata": {},
   "outputs": [],
   "source": [
    "with gzip.open(fpaths[0], 'rb') as file1, gzip.open(fpaths[1], 'rb') as file2:\n",
    "    gen1 = it.islice(file1, 20)\n",
    "    gen2 = it.islice(file2, 20)\n",
    "    lst1 = list(gen1)\n",
    "    lst2 = list(gen2)"
   ]
  },
  {
   "cell_type": "code",
   "execution_count": 66,
   "metadata": {},
   "outputs": [
    {
     "data": {
      "text/plain": [
       "[b'chr17\\t8148000\\t8148888\\t1\\tchr17\\t8148425\\t8148433\\tAP1/1\\t6.7321\\t8\\n',\n",
       " b'chr17\\t8148097\\t8149186\\t1\\tchr17\\t8148425\\t8148433\\tAP1/1\\t6.7321\\t8\\n',\n",
       " b'chr17\\t8148097\\t8149186\\t1\\tchr17\\t8148917\\t8148925\\tAP1/1\\t8.0514\\t8\\n',\n",
       " b'chr17\\t8148180\\t8149106\\t1\\tchr17\\t8148425\\t8148433\\tAP1/1\\t6.7321\\t8\\n',\n",
       " b'chr17\\t8148180\\t8149106\\t1\\tchr17\\t8148917\\t8148925\\tAP1/1\\t8.0514\\t8\\n',\n",
       " b'chr17\\t8148267\\t8149280\\t1\\tchr17\\t8148425\\t8148433\\tAP1/1\\t6.7321\\t8\\n',\n",
       " b'chr17\\t8148267\\t8149280\\t1\\tchr17\\t8148917\\t8148925\\tAP1/1\\t8.0514\\t8\\n',\n",
       " b'chr17\\t8148267\\t8149281\\t1\\tchr17\\t8148425\\t8148433\\tAP1/1\\t6.7321\\t8\\n',\n",
       " b'chr17\\t8148267\\t8149281\\t1\\tchr17\\t8148917\\t8148925\\tAP1/1\\t8.0514\\t8\\n',\n",
       " b'chr17\\t8148267\\t8149282\\t2\\tchr17\\t8148425\\t8148433\\tAP1/1\\t6.7321\\t8\\n',\n",
       " b'chr17\\t8148267\\t8149282\\t2\\tchr17\\t8148917\\t8148925\\tAP1/1\\t8.0514\\t8\\n',\n",
       " b'chr17\\t8148401\\t8149368\\t1\\tchr17\\t8148425\\t8148433\\tAP1/1\\t6.7321\\t8\\n',\n",
       " b'chr17\\t8148401\\t8149368\\t1\\tchr17\\t8148917\\t8148925\\tAP1/1\\t8.0514\\t8\\n',\n",
       " b'chr17\\t8148401\\t8149371\\t1\\tchr17\\t8148425\\t8148433\\tAP1/1\\t6.7321\\t8\\n',\n",
       " b'chr17\\t8148401\\t8149371\\t1\\tchr17\\t8148917\\t8148925\\tAP1/1\\t8.0514\\t8\\n',\n",
       " b'chr17\\t8148401\\t8149372\\t3\\tchr17\\t8148425\\t8148433\\tAP1/1\\t6.7321\\t8\\n',\n",
       " b'chr17\\t8148401\\t8149372\\t3\\tchr17\\t8148917\\t8148925\\tAP1/1\\t8.0514\\t8\\n',\n",
       " b'chr17\\t8148402\\t8149371\\t2\\tchr17\\t8148425\\t8148433\\tAP1/1\\t6.7321\\t8\\n',\n",
       " b'chr17\\t8148402\\t8149371\\t2\\tchr17\\t8148917\\t8148925\\tAP1/1\\t8.0514\\t8\\n',\n",
       " b'chr17\\t8148402\\t8149372\\t1\\tchr17\\t8148425\\t8148433\\tAP1/1\\t6.7321\\t8\\n']"
      ]
     },
     "execution_count": 66,
     "metadata": {},
     "output_type": "execute_result"
    }
   ],
   "source": [
    "lst1"
   ]
  },
  {
   "cell_type": "code",
   "execution_count": 67,
   "metadata": {},
   "outputs": [
    {
     "data": {
      "text/plain": [
       "[b'chr17\\t8148000\\t8148888\\t1\\tchr17\\t8147988\\t8148002\\tNR/20\\t8.3188\\t2\\n',\n",
       " b'chr17\\t8149260\\t8150281\\t1\\tchr17\\t8150232\\t8150246\\tNR/20\\t8.3256\\t14\\n',\n",
       " b'chr17\\t8149261\\t8150281\\t1\\tchr17\\t8150232\\t8150246\\tNR/20\\t8.3256\\t14\\n',\n",
       " b'chr17\\t8149365\\t8150405\\t3\\tchr17\\t8150232\\t8150246\\tNR/20\\t8.3256\\t14\\n',\n",
       " b'chr17\\t8149366\\t8150405\\t1\\tchr17\\t8150232\\t8150246\\tNR/20\\t8.3256\\t14\\n',\n",
       " b'chr17\\t8149372\\t8150411\\t1\\tchr17\\t8150232\\t8150246\\tNR/20\\t8.3256\\t14\\n',\n",
       " b'chr17\\t8149372\\t8150412\\t1\\tchr17\\t8150232\\t8150246\\tNR/20\\t8.3256\\t14\\n',\n",
       " b'chr17\\t8149373\\t8150410\\t1\\tchr17\\t8150232\\t8150246\\tNR/20\\t8.3256\\t14\\n',\n",
       " b'chr17\\t8149373\\t8150411\\t1\\tchr17\\t8150232\\t8150246\\tNR/20\\t8.3256\\t14\\n',\n",
       " b'chr17\\t8149373\\t8150412\\t1\\tchr17\\t8150232\\t8150246\\tNR/20\\t8.3256\\t14\\n',\n",
       " b'chr17\\t8149384\\t8150400\\t1\\tchr17\\t8150232\\t8150246\\tNR/20\\t8.3256\\t14\\n',\n",
       " b'chr17\\t8149384\\t8150401\\t3\\tchr17\\t8150232\\t8150246\\tNR/20\\t8.3256\\t14\\n',\n",
       " b'chr17\\t8149386\\t8150400\\t1\\tchr17\\t8150232\\t8150246\\tNR/20\\t8.3256\\t14\\n',\n",
       " b'chr17\\t8149412\\t8150432\\t2\\tchr17\\t8150232\\t8150246\\tNR/20\\t8.3256\\t14\\n',\n",
       " b'chr17\\t8149413\\t8150425\\t1\\tchr17\\t8150232\\t8150246\\tNR/20\\t8.3256\\t14\\n',\n",
       " b'chr17\\t8149465\\t8150503\\t1\\tchr17\\t8150232\\t8150246\\tNR/20\\t8.3256\\t14\\n',\n",
       " b'chr17\\t8149483\\t8150575\\t2\\tchr17\\t8150232\\t8150246\\tNR/20\\t8.3256\\t14\\n',\n",
       " b'chr17\\t8149483\\t8150576\\t2\\tchr17\\t8150232\\t8150246\\tNR/20\\t8.3256\\t14\\n',\n",
       " b'chr17\\t8149484\\t8150576\\t2\\tchr17\\t8150232\\t8150246\\tNR/20\\t8.3256\\t14\\n',\n",
       " b'chr17\\t8149485\\t8150576\\t2\\tchr17\\t8150232\\t8150246\\tNR/20\\t8.3256\\t14\\n']"
      ]
     },
     "execution_count": 67,
     "metadata": {},
     "output_type": "execute_result"
    }
   ],
   "source": [
    "lst2"
   ]
  },
  {
   "cell_type": "code",
   "execution_count": 68,
   "metadata": {},
   "outputs": [],
   "source": [
    "def gen_line(fpath):\n",
    "    with gzip.open(fpath, 'rb') as file:\n",
    "        lines = it.islice(file, 20)\n",
    "        for line in lines:\n",
    "            yield line"
   ]
  },
  {
   "cell_type": "code",
   "execution_count": 69,
   "metadata": {},
   "outputs": [
    {
     "data": {
      "text/plain": [
       "<generator object gen_line at 0x7efe438b7050>"
      ]
     },
     "execution_count": 69,
     "metadata": {},
     "output_type": "execute_result"
    }
   ],
   "source": [
    "gen = gen_line(fpaths[0])\n",
    "gen"
   ]
  },
  {
   "cell_type": "code",
   "execution_count": 70,
   "metadata": {},
   "outputs": [
    {
     "data": {
      "text/plain": [
       "b'chr17\\t8148000\\t8148888\\t1\\tchr17\\t8148425\\t8148433\\tAP1/1\\t6.7321\\t8\\n'"
      ]
     },
     "execution_count": 70,
     "metadata": {},
     "output_type": "execute_result"
    }
   ],
   "source": [
    "next(gen)"
   ]
  },
  {
   "cell_type": "code",
   "execution_count": 71,
   "metadata": {},
   "outputs": [
    {
     "data": {
      "text/plain": [
       "b'chr17\\t8148097\\t8149186\\t1\\tchr17\\t8148425\\t8148433\\tAP1/1\\t6.7321\\t8\\n'"
      ]
     },
     "execution_count": 71,
     "metadata": {},
     "output_type": "execute_result"
    }
   ],
   "source": [
    "next(gen)"
   ]
  },
  {
   "cell_type": "code",
   "execution_count": 77,
   "metadata": {},
   "outputs": [],
   "source": [
    "class Fragment:\n",
    "    def __init__(self, chrom, start, end, count):\n",
    "        ###\n",
    "        chrom_num = str(chrom).replace('chr', '')\n",
    "        if chrom_num == \"X\":\n",
    "            chrom_num = 23\n",
    "        if chrom_num == \"Y\":\n",
    "            chrom_num = 24\n",
    "        \n",
    "        ### \n",
    "        self.chrom = int(chrom_num)\n",
    "        self.start = int(start)\n",
    "        self.end   = int(end)\n",
    "        self.count = int(count)\n",
    "        \n",
    "    def __eq__(self, other):\n",
    "        if self.chrom != other.chrom:\n",
    "            return False\n",
    "        \n",
    "        if self.start != other.start:\n",
    "            return False\n",
    "        \n",
    "        if self.end   != other.end:\n",
    "            return False\n",
    "        \n",
    "        return True\n",
    "        \n",
    "    def __lt__(self, other):\n",
    "        if self.chrom < other.chrom:\n",
    "            return True\n",
    "        if self.chrom > other.chrom:\n",
    "            return False\n",
    "        \n",
    "        if self.start < other.start:\n",
    "            return True\n",
    "        if self.start > other.start:\n",
    "            return False\n",
    "        \n",
    "        if self.end < other.end:\n",
    "            return True\n",
    "        else:\n",
    "            return False\n",
    "        \n",
    "    def __gt__(self, other):\n",
    "        if self.chrom > other.chrom:\n",
    "            return True\n",
    "        if self.chrom < other.chrom:\n",
    "            return False\n",
    "        \n",
    "        if self.start > other.start:\n",
    "            return True\n",
    "        if self.start < other.start:\n",
    "            return False\n",
    "        \n",
    "        if self.end > other.end:\n",
    "            return True\n",
    "        else:\n",
    "            return False\n",
    "        \n",
    "    def __repr__(self):\n",
    "        return f\"chr{self.chrom}, start: {self.start}, end: {self.end}, count: {self.count}\""
   ]
  },
  {
   "cell_type": "code",
   "execution_count": 78,
   "metadata": {},
   "outputs": [
    {
     "name": "stdout",
     "output_type": "stream",
     "text": [
      "Frag1 chr17, start: 10, end: 20, count: 1\n",
      "Frag2 chr17, start: 10, end: 20, count: 2\n",
      "Eq True\n",
      "Lt False\n",
      "Gt False\n"
     ]
    }
   ],
   "source": [
    "frag1 = Fragment(\"chr17\", 10, 20, 1)\n",
    "frag2 = Fragment(\"chr17\", 10, 20, 2)\n",
    "\n",
    "print(\"Frag1\", frag1)\n",
    "print(\"Frag2\", frag2)\n",
    "print(\"Eq\", frag1 == frag2)\n",
    "print(\"Lt\", frag1 < frag2)\n",
    "print(\"Gt\", frag1 > frag2)"
   ]
  },
  {
   "cell_type": "code",
   "execution_count": 79,
   "metadata": {},
   "outputs": [
    {
     "name": "stdout",
     "output_type": "stream",
     "text": [
      "Frag1 chr17, start: 10, end: 20, count: 5\n",
      "Frag2 chr15, start: 10, end: 20, count: 10\n",
      "Eq False\n",
      "Lt False\n",
      "Gt True\n"
     ]
    }
   ],
   "source": [
    "frag1 = Fragment(\"chr17\", 10, 20, 5)\n",
    "frag2 = Fragment(\"chr15\", 10, 20, 10)\n",
    "\n",
    "print(\"Frag1\", frag1)\n",
    "print(\"Frag2\", frag2)\n",
    "print(\"Eq\", frag1 == frag2)\n",
    "print(\"Lt\", frag1 < frag2)\n",
    "print(\"Gt\", frag1 > frag2)"
   ]
  },
  {
   "cell_type": "code",
   "execution_count": 80,
   "metadata": {},
   "outputs": [
    {
     "name": "stdout",
     "output_type": "stream",
     "text": [
      "Frag1 chr17, start: 10, end: 20, count: 2\n",
      "Frag2 chr17, start: 11, end: 20, count: 1\n",
      "Eq False\n",
      "Lt True\n",
      "Gt False\n"
     ]
    }
   ],
   "source": [
    "frag1 = Fragment(\"chr17\", 10, 20, 2)\n",
    "frag2 = Fragment(\"chr17\", 11, 20, 1)\n",
    "\n",
    "print(\"Frag1\", frag1)\n",
    "print(\"Frag2\", frag2)\n",
    "print(\"Eq\", frag1 == frag2)\n",
    "print(\"Lt\", frag1 < frag2)\n",
    "print(\"Gt\", frag1 > frag2)"
   ]
  },
  {
   "cell_type": "code",
   "execution_count": 81,
   "metadata": {},
   "outputs": [
    {
     "name": "stdout",
     "output_type": "stream",
     "text": [
      "Frag1 chr17, start: 10, end: 30, count: 4\n",
      "Frag2 chr17, start: 10, end: 20, count: 30\n",
      "Eq False\n",
      "Lt False\n",
      "Gt True\n"
     ]
    }
   ],
   "source": [
    "frag1 = Fragment(\"chr17\", 10, 30, 4)\n",
    "frag2 = Fragment(\"chr17\", 10, 20, 30)\n",
    "\n",
    "print(\"Frag1\", frag1)\n",
    "print(\"Frag2\", frag2)\n",
    "print(\"Eq\", frag1 == frag2)\n",
    "print(\"Lt\", frag1 < frag2)\n",
    "print(\"Gt\", frag1 > frag2)"
   ]
  },
  {
   "cell_type": "code",
   "execution_count": 82,
   "metadata": {},
   "outputs": [],
   "source": [
    "CNAMES = [\"Chrom_Frag\", \"Start_Frag\", \"End_Frag\", \"Count_Frag\",\n",
    "          \"Chrom_MTF\",  \"Start_MTF\",  \"End_MTF\",\n",
    "          \"Motif\",      \"Score\",      \"Overlap\"]\n",
    "CTYPES = [str, int,   int, int,\n",
    "          str, int,   int,\n",
    "          str, float, int]"
   ]
  },
  {
   "cell_type": "code",
   "execution_count": 112,
   "metadata": {},
   "outputs": [],
   "source": [
    "def parse_line(line):\n",
    "    line = str(line, 'utf-8')\n",
    "    line = line.strip().split(\"\\t\")\n",
    "    dct  = {cname:ctype(x) for x, cname, ctype in zip(line, CNAMES, CTYPES)}\n",
    "    return dct\n",
    "\n",
    "def get_fragment_motif(line):\n",
    "    dct   = parse_line(line)\n",
    "    frag  = Fragment(dct[\"Chrom_Frag\"], dct[\"Start_Frag\"], dct[\"End_Frag\"], dct[\"Count_Frag\"])\n",
    "    motif = dct[\"Motif\"]\n",
    "    score = dct[\"Score\"]\n",
    "    return frag, motif, score\n",
    "\n",
    "def update(lst_motif, dct_frag, dct_file):\n",
    "    for motif in lst_motif:\n",
    "        dct_frag[motif] = next(dct_file[motif])"
   ]
  },
  {
   "cell_type": "code",
   "execution_count": 93,
   "metadata": {},
   "outputs": [
    {
     "name": "stdout",
     "output_type": "stream",
     "text": [
      "b'chr17\\t8148000\\t8148888\\t1\\tchr17\\t8148425\\t8148433\\tAP1/1\\t6.7321\\t8\\n'\n"
     ]
    },
    {
     "data": {
      "text/plain": [
       "{'Chrom_Frag': 'chr17',\n",
       " 'Start_Frag': 8148000,\n",
       " 'End_Frag': 8148888,\n",
       " 'Count_Frag': 1,\n",
       " 'Chrom_MTF': 'chr17',\n",
       " 'Start_MTF': 8148425,\n",
       " 'End_MTF': 8148433,\n",
       " 'Motif': 'AP1/1',\n",
       " 'Score': 6.7321,\n",
       " 'Overlap': 8}"
      ]
     },
     "execution_count": 93,
     "metadata": {},
     "output_type": "execute_result"
    }
   ],
   "source": [
    "line = lst1[0]\n",
    "print(line)\n",
    "parse_line(line)"
   ]
  },
  {
   "cell_type": "code",
   "execution_count": 95,
   "metadata": {},
   "outputs": [
    {
     "name": "stdout",
     "output_type": "stream",
     "text": [
      "chr17, start: 8148000, end: 8148888, count: 1\n",
      "AP1/1 6.7321\n"
     ]
    }
   ],
   "source": [
    "frag, motif, score = get_fragment_motif(line)\n",
    "print(frag)\n",
    "print(motif, score)"
   ]
  },
  {
   "cell_type": "code",
   "execution_count": null,
   "metadata": {},
   "outputs": [],
   "source": []
  },
  {
   "cell_type": "code",
   "execution_count": null,
   "metadata": {},
   "outputs": [],
   "source": []
  },
  {
   "cell_type": "code",
   "execution_count": 20,
   "metadata": {},
   "outputs": [
    {
     "data": {
      "text/plain": [
       "<generator object gen_line at 0x7efe4388ced0>"
      ]
     },
     "execution_count": 20,
     "metadata": {},
     "output_type": "execute_result"
    }
   ],
   "source": [
    "gen = gen_line(fpaths[0])\n",
    "gen"
   ]
  },
  {
   "cell_type": "code",
   "execution_count": 22,
   "metadata": {},
   "outputs": [
    {
     "data": {
      "text/plain": [
       "b'chr17\\t8148000\\t8148888\\t1\\tchr17\\t8148425\\t8148433\\tAP1/1\\t6.7321\\t8\\n'"
      ]
     },
     "execution_count": 22,
     "metadata": {},
     "output_type": "execute_result"
    }
   ],
   "source": [
    "next(gen)"
   ]
  },
  {
   "cell_type": "code",
   "execution_count": 23,
   "metadata": {},
   "outputs": [
    {
     "data": {
      "text/plain": [
       "b'chr17\\t8148097\\t8149186\\t1\\tchr17\\t8148425\\t8148433\\tAP1/1\\t6.7321\\t8\\n'"
      ]
     },
     "execution_count": 23,
     "metadata": {},
     "output_type": "execute_result"
    }
   ],
   "source": [
    "next(gen)"
   ]
  },
  {
   "cell_type": "code",
   "execution_count": 96,
   "metadata": {},
   "outputs": [],
   "source": [
    "with gzip.open(fpaths[0], 'rb') as file1, gzip.open(fpaths[1], 'rb') as file2:\n",
    "    gen1 = it.islice(file1, 3)\n",
    "    gen2 = it.islice(file2, 3)\n",
    "    lst1 = list(gen1)\n",
    "    lst2 = list(gen2)"
   ]
  },
  {
   "cell_type": "code",
   "execution_count": 97,
   "metadata": {},
   "outputs": [
    {
     "data": {
      "text/plain": [
       "[b'chr17\\t8148000\\t8148888\\t1\\tchr17\\t8148425\\t8148433\\tAP1/1\\t6.7321\\t8\\n',\n",
       " b'chr17\\t8148097\\t8149186\\t1\\tchr17\\t8148425\\t8148433\\tAP1/1\\t6.7321\\t8\\n',\n",
       " b'chr17\\t8148097\\t8149186\\t1\\tchr17\\t8148917\\t8148925\\tAP1/1\\t8.0514\\t8\\n',\n",
       " b'chr17\\t8148180\\t8149106\\t1\\tchr17\\t8148425\\t8148433\\tAP1/1\\t6.7321\\t8\\n',\n",
       " b'chr17\\t8148180\\t8149106\\t1\\tchr17\\t8148917\\t8148925\\tAP1/1\\t8.0514\\t8\\n',\n",
       " b'chr17\\t8148267\\t8149280\\t1\\tchr17\\t8148425\\t8148433\\tAP1/1\\t6.7321\\t8\\n',\n",
       " b'chr17\\t8148267\\t8149280\\t1\\tchr17\\t8148917\\t8148925\\tAP1/1\\t8.0514\\t8\\n',\n",
       " b'chr17\\t8148267\\t8149281\\t1\\tchr17\\t8148425\\t8148433\\tAP1/1\\t6.7321\\t8\\n',\n",
       " b'chr17\\t8148267\\t8149281\\t1\\tchr17\\t8148917\\t8148925\\tAP1/1\\t8.0514\\t8\\n',\n",
       " b'chr17\\t8148267\\t8149282\\t2\\tchr17\\t8148425\\t8148433\\tAP1/1\\t6.7321\\t8\\n',\n",
       " b'chr17\\t8148267\\t8149282\\t2\\tchr17\\t8148917\\t8148925\\tAP1/1\\t8.0514\\t8\\n',\n",
       " b'chr17\\t8148401\\t8149368\\t1\\tchr17\\t8148425\\t8148433\\tAP1/1\\t6.7321\\t8\\n',\n",
       " b'chr17\\t8148401\\t8149368\\t1\\tchr17\\t8148917\\t8148925\\tAP1/1\\t8.0514\\t8\\n',\n",
       " b'chr17\\t8148401\\t8149371\\t1\\tchr17\\t8148425\\t8148433\\tAP1/1\\t6.7321\\t8\\n',\n",
       " b'chr17\\t8148401\\t8149371\\t1\\tchr17\\t8148917\\t8148925\\tAP1/1\\t8.0514\\t8\\n',\n",
       " b'chr17\\t8148401\\t8149372\\t3\\tchr17\\t8148425\\t8148433\\tAP1/1\\t6.7321\\t8\\n',\n",
       " b'chr17\\t8148401\\t8149372\\t3\\tchr17\\t8148917\\t8148925\\tAP1/1\\t8.0514\\t8\\n',\n",
       " b'chr17\\t8148402\\t8149371\\t2\\tchr17\\t8148425\\t8148433\\tAP1/1\\t6.7321\\t8\\n',\n",
       " b'chr17\\t8148402\\t8149371\\t2\\tchr17\\t8148917\\t8148925\\tAP1/1\\t8.0514\\t8\\n',\n",
       " b'chr17\\t8148402\\t8149372\\t1\\tchr17\\t8148425\\t8148433\\tAP1/1\\t6.7321\\t8\\n']"
      ]
     },
     "execution_count": 97,
     "metadata": {},
     "output_type": "execute_result"
    }
   ],
   "source": [
    "lst1"
   ]
  },
  {
   "cell_type": "code",
   "execution_count": 98,
   "metadata": {},
   "outputs": [
    {
     "data": {
      "text/plain": [
       "[b'chr17\\t8148000\\t8148888\\t1\\tchr17\\t8147988\\t8148002\\tNR/20\\t8.3188\\t2\\n',\n",
       " b'chr17\\t8149260\\t8150281\\t1\\tchr17\\t8150232\\t8150246\\tNR/20\\t8.3256\\t14\\n',\n",
       " b'chr17\\t8149261\\t8150281\\t1\\tchr17\\t8150232\\t8150246\\tNR/20\\t8.3256\\t14\\n',\n",
       " b'chr17\\t8149365\\t8150405\\t3\\tchr17\\t8150232\\t8150246\\tNR/20\\t8.3256\\t14\\n',\n",
       " b'chr17\\t8149366\\t8150405\\t1\\tchr17\\t8150232\\t8150246\\tNR/20\\t8.3256\\t14\\n',\n",
       " b'chr17\\t8149372\\t8150411\\t1\\tchr17\\t8150232\\t8150246\\tNR/20\\t8.3256\\t14\\n',\n",
       " b'chr17\\t8149372\\t8150412\\t1\\tchr17\\t8150232\\t8150246\\tNR/20\\t8.3256\\t14\\n',\n",
       " b'chr17\\t8149373\\t8150410\\t1\\tchr17\\t8150232\\t8150246\\tNR/20\\t8.3256\\t14\\n',\n",
       " b'chr17\\t8149373\\t8150411\\t1\\tchr17\\t8150232\\t8150246\\tNR/20\\t8.3256\\t14\\n',\n",
       " b'chr17\\t8149373\\t8150412\\t1\\tchr17\\t8150232\\t8150246\\tNR/20\\t8.3256\\t14\\n',\n",
       " b'chr17\\t8149384\\t8150400\\t1\\tchr17\\t8150232\\t8150246\\tNR/20\\t8.3256\\t14\\n',\n",
       " b'chr17\\t8149384\\t8150401\\t3\\tchr17\\t8150232\\t8150246\\tNR/20\\t8.3256\\t14\\n',\n",
       " b'chr17\\t8149386\\t8150400\\t1\\tchr17\\t8150232\\t8150246\\tNR/20\\t8.3256\\t14\\n',\n",
       " b'chr17\\t8149412\\t8150432\\t2\\tchr17\\t8150232\\t8150246\\tNR/20\\t8.3256\\t14\\n',\n",
       " b'chr17\\t8149413\\t8150425\\t1\\tchr17\\t8150232\\t8150246\\tNR/20\\t8.3256\\t14\\n',\n",
       " b'chr17\\t8149465\\t8150503\\t1\\tchr17\\t8150232\\t8150246\\tNR/20\\t8.3256\\t14\\n',\n",
       " b'chr17\\t8149483\\t8150575\\t2\\tchr17\\t8150232\\t8150246\\tNR/20\\t8.3256\\t14\\n',\n",
       " b'chr17\\t8149483\\t8150576\\t2\\tchr17\\t8150232\\t8150246\\tNR/20\\t8.3256\\t14\\n',\n",
       " b'chr17\\t8149484\\t8150576\\t2\\tchr17\\t8150232\\t8150246\\tNR/20\\t8.3256\\t14\\n',\n",
       " b'chr17\\t8149485\\t8150576\\t2\\tchr17\\t8150232\\t8150246\\tNR/20\\t8.3256\\t14\\n']"
      ]
     },
     "execution_count": 98,
     "metadata": {},
     "output_type": "execute_result"
    }
   ],
   "source": [
    "lst2"
   ]
  },
  {
   "cell_type": "code",
   "execution_count": 113,
   "metadata": {},
   "outputs": [],
   "source": [
    "gens = [it.chain(lst1), it.chain(lst2)]\n",
    "dct_frag = {}\n",
    "dct_file = {}\n",
    "\n",
    "for gen in gens:\n",
    "    line = next(gen)\n",
    "    frag, motif, score = get_fragment_motif(line)\n",
    "    dct_frag[motif] = line\n",
    "    dct_file[motif] = gen"
   ]
  },
  {
   "cell_type": "code",
   "execution_count": 114,
   "metadata": {},
   "outputs": [
    {
     "data": {
      "text/plain": [
       "{'AP1/1': b'chr17\\t8148000\\t8148888\\t1\\tchr17\\t8148425\\t8148433\\tAP1/1\\t6.7321\\t8\\n',\n",
       " 'NR/20': b'chr17\\t8148000\\t8148888\\t1\\tchr17\\t8147988\\t8148002\\tNR/20\\t8.3188\\t2\\n'}"
      ]
     },
     "execution_count": 114,
     "metadata": {},
     "output_type": "execute_result"
    }
   ],
   "source": [
    "dct_frag"
   ]
  },
  {
   "cell_type": "code",
   "execution_count": 115,
   "metadata": {},
   "outputs": [],
   "source": [
    "def get_smallest_frag(dct_frag):\n",
    "    ### INIT\n",
    "    frag_smallest = None\n",
    "    lst_motif = []\n",
    "\n",
    "    ### loop through all fragments, get the smallest fragment and collect\n",
    "    for motif, line in dct_frag.items():\n",
    "        ###\n",
    "        frag, motif, score = get_fragment_motif(line)\n",
    "        \n",
    "        ###\n",
    "        if (frag_smallest is None) or (frag < frag_smallest):\n",
    "            frag_smallest = frag\n",
    "            lst_motif = [motif]        \n",
    "        \n",
    "        ###\n",
    "        elif frag == frag_smallest:\n",
    "            lst_motif.append(motif)\n",
    "            \n",
    "    return frag_smallest, lst_motif        "
   ]
  },
  {
   "cell_type": "code",
   "execution_count": 117,
   "metadata": {},
   "outputs": [
    {
     "name": "stdout",
     "output_type": "stream",
     "text": [
      "chr17, start: 8148000, end: 8148888, count: 1\n",
      "\n"
     ]
    }
   ],
   "source": [
    "\n",
    "frag, lst_motif = get_smallest_frag(dct_frag)\n",
    "print(frag, \"|\", lst_motif)\n",
    "update(lst_motif, dct_frag, dct_file)"
   ]
  },
  {
   "cell_type": "code",
   "execution_count": null,
   "metadata": {},
   "outputs": [],
   "source": []
  }
 ],
 "metadata": {
  "kernelspec": {
   "display_name": "Python 3",
   "language": "python",
   "name": "python3"
  },
  "language_info": {
   "codemirror_mode": {
    "name": "ipython",
    "version": 3
   },
   "file_extension": ".py",
   "mimetype": "text/x-python",
   "name": "python",
   "nbconvert_exporter": "python",
   "pygments_lexer": "ipython3",
   "version": "3.7.6"
  }
 },
 "nbformat": 4,
 "nbformat_minor": 4
}
