{
 "cells": [
  {
   "cell_type": "code",
   "execution_count": 1,
   "id": "0c34452c",
   "metadata": {},
   "outputs": [
    {
     "name": "stdout",
     "output_type": "stream",
     "text": [
      "You are on Duke Server: HARDAC\n",
      "BASE DIRECTORY:     /gpfs/fs1/data/reddylab/Kuei\n",
      "PATH OF SOURCE:     /gpfs/fs1/data/reddylab/Kuei/source\n",
      "PATH OF EXECUTABLE: /gpfs/fs1/data/reddylab/Kuei/exe\n",
      "PATH OF ANNOTATION: /gpfs/fs1/data/reddylab/Kuei/annotation\n",
      "PATH OF PROJECT:    /gpfs/fs1/data/reddylab/Kuei/GitRepo/Proj_CombEffect_STARRseq/notebooks\n",
      "PATH OF RESULTS:    /gpfs/fs1/data/reddylab/Kuei/out/proj_combeffect\n",
      "\n"
     ]
    }
   ],
   "source": [
    "source ../config_duke.sh\n",
    "show_env"
   ]
  },
  {
   "cell_type": "code",
   "execution_count": 8,
   "id": "5583572d-8d0e-4729-847a-650c0737a6c9",
   "metadata": {},
   "outputs": [
    {
     "name": "stdout",
     "output_type": "stream",
     "text": [
      "count_unique_fragment_10.txt     count_unique_fragment_chr6.txt\n",
      "count_unique_fragment_11.txt     count_unique_fragment_chr7.txt\n",
      "count_unique_fragment_12.txt     count_unique_fragment_chr8.txt\n",
      "count_unique_fragment_13.txt     count_unique_fragment_chr9.txt\n",
      "count_unique_fragment_14.txt     count_unique_fragment_chrX.txt\n",
      "count_unique_fragment_15.txt     count_unique_fragment_chrY.txt\n",
      "count_unique_fragment_16.txt     count_unique_fragment_X.txt\n",
      "count_unique_fragment_17.txt     count_unique_fragment_Y.txt\n",
      "count_unique_fragment_18.txt     dat_cnt_dex_chr17.csv\n",
      "count_unique_fragment_19.txt     dat_cnt_dex_per1.csv\n",
      "count_unique_fragment_1.txt      dat_cnt_dmso_chr17.csv\n",
      "count_unique_fragment_20.txt     dat_cnt_dmso_per1.csv\n",
      "count_unique_fragment_21.txt     dat_cnt_input_chr17.csv\n",
      "count_unique_fragment_22.txt     dat_cnt_input_dex_PER1.csv\n",
      "count_unique_fragment_2.txt      dat_cnt_input_dex_PER1.tsv\n",
      "count_unique_fragment_3.txt      dat_cnt_input_dmso_PER1.csv\n",
      "count_unique_fragment_4.txt      dat_cnt_input_dmso_PER1.tsv\n",
      "count_unique_fragment_5.txt      dat_cnt_input_per1.csv\n",
      "count_unique_fragment_6.txt      \u001b[0m\u001b[38;5;27mInput\u001b[0m\n",
      "count_unique_fragment_7.txt      \u001b[38;5;27mInput1\u001b[0m\n",
      "count_unique_fragment_8.txt      \u001b[38;5;27mInput1_20x\u001b[0m\n",
      "count_unique_fragment_9.txt      \u001b[38;5;27mInput2\u001b[0m\n",
      "count_unique_fragment_chr10.txt  \u001b[38;5;27mInput2_20x\u001b[0m\n",
      "count_unique_fragment_chr11.txt  \u001b[38;5;27mInput3\u001b[0m\n",
      "count_unique_fragment_chr12.txt  \u001b[38;5;27mInput3_20x\u001b[0m\n",
      "count_unique_fragment_chr13.txt  \u001b[38;5;27mInput4\u001b[0m\n",
      "count_unique_fragment_chr14.txt  \u001b[38;5;27mInput4_20x\u001b[0m\n",
      "count_unique_fragment_chr15.txt  \u001b[38;5;27mInput5\u001b[0m\n",
      "count_unique_fragment_chr16.txt  \u001b[38;5;27mInput5_20x\u001b[0m\n",
      "count_unique_fragment_chr17.txt  \u001b[38;5;27mTFX2_Dex\u001b[0m\n",
      "count_unique_fragment_chr18.txt  \u001b[38;5;27mTFX2_DMSO\u001b[0m\n",
      "count_unique_fragment_chr19.txt  \u001b[38;5;27mTFX3_Dex\u001b[0m\n",
      "count_unique_fragment_chr1.txt   \u001b[38;5;27mTFX3_DMSO\u001b[0m\n",
      "count_unique_fragment_chr20.txt  \u001b[38;5;27mTFX4_Dex\u001b[0m\n",
      "count_unique_fragment_chr21.txt  \u001b[38;5;27mTFX4_DMSO\u001b[0m\n",
      "count_unique_fragment_chr22.txt  \u001b[38;5;27mTFX5_Dex\u001b[0m\n",
      "count_unique_fragment_chr2.txt   \u001b[38;5;27mTFX5_DMSO\u001b[0m\n",
      "count_unique_fragment_chr3.txt   \u001b[38;5;27mTFX_Dex\u001b[0m\n",
      "count_unique_fragment_chr4.txt   \u001b[38;5;27mTFX_DMSO\u001b[0m\n",
      "count_unique_fragment_chr5.txt\n"
     ]
    }
   ],
   "source": [
    "FDIRY=${FD_RES}/count_fragment\n",
    "ls ${FDIRY}"
   ]
  },
  {
   "cell_type": "code",
   "execution_count": 12,
   "id": "2a9116d4-104a-4372-807f-f9d457b8e787",
   "metadata": {},
   "outputs": [
    {
     "name": "stdout",
     "output_type": "stream",
     "text": [
      "Input1_20x     chr17          9004450\n",
      "Input1         chr17          618142\n",
      "Input2_20x     chr17          8581707\n",
      "Input2         chr17          667423\n",
      "Input3_20x     chr17          8651887\n",
      "Input3         chr17          774503\n",
      "Input4_20x     chr17          9926587\n",
      "Input4         chr17          625978\n",
      "Input5_20x     chr17          8446304\n",
      "Input5         chr17          502807\n",
      "TFX2_Dex       chr17          1433121\n",
      "TFX2_DMSO      chr17          1412903\n",
      "TFX3_Dex       chr17          865327\n",
      "TFX3_DMSO      chr17          880072\n",
      "TFX4_Dex       chr17          1166729\n",
      "TFX4_DMSO      chr17          1028226\n",
      "TFX5_Dex       chr17          1425854\n",
      "TFX5_DMSO      chr17          947988\n"
     ]
    }
   ],
   "source": [
    "FDIRY=${FD_RES}/count_fragment\n",
    "FNAME=\"count_unique_fragment_chr17.txt\"\n",
    "FPATH=${FDIRY}/${FNAME}\n",
    "cat ${FPATH} | expand -t 15"
   ]
  },
  {
   "cell_type": "code",
   "execution_count": null,
   "id": "ecdfb9bb-30da-44ac-97e9-03aabb304edf",
   "metadata": {},
   "outputs": [],
   "source": []
  }
 ],
 "metadata": {
  "kernelspec": {
   "display_name": "Bash",
   "language": "bash",
   "name": "bash"
  },
  "language_info": {
   "codemirror_mode": "shell",
   "file_extension": ".sh",
   "mimetype": "text/x-sh",
   "name": "bash"
  }
 },
 "nbformat": 4,
 "nbformat_minor": 5
}
