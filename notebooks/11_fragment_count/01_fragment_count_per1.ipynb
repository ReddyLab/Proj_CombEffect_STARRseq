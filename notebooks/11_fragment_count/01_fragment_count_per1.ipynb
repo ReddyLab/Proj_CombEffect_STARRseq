{
 "cells": [
  {
   "cell_type": "markdown",
   "id": "bbf3e9dd-398a-47e3-a285-fd66d4bcd510",
   "metadata": {},
   "source": [
    "**Set environment**"
   ]
  },
  {
   "cell_type": "code",
   "execution_count": 1,
   "id": "38e2934c-c283-47eb-9a72-528604408580",
   "metadata": {},
   "outputs": [
    {
     "name": "stdout",
     "output_type": "stream",
     "text": [
      "You are on Duke Server: HARDAC\n",
      "BASE DIRECTORY:     /gpfs/fs1/data/reddylab/Kuei\n",
      "PATH OF SOURCE:     /gpfs/fs1/data/reddylab/Kuei/source\n",
      "PATH OF EXECUTABLE: /gpfs/fs1/data/reddylab/Kuei/exe\n",
      "PATH OF ANNOTATION: /gpfs/fs1/data/reddylab/Kuei/annotation\n",
      "PATH OF PROJECT:    /gpfs/fs1/data/reddylab/Kuei/GitRepo/Proj_CombEffect_STARRseq/notebooks\n",
      "PATH OF RESULTS:    /gpfs/fs1/data/reddylab/Kuei/out/proj_combeffect\n",
      "\n"
     ]
    }
   ],
   "source": [
    "source ../config_duke.sh -v"
   ]
  },
  {
   "cell_type": "markdown",
   "id": "4ef1f01e-d64d-4739-8cc6-12ada541534d",
   "metadata": {},
   "source": [
    "**Input**"
   ]
  },
  {
   "cell_type": "code",
   "execution_count": 2,
   "id": "c1c2a26d-3157-410b-a27d-5b73c5667d38",
   "metadata": {},
   "outputs": [
    {
     "name": "stdout",
     "output_type": "stream",
     "text": [
      "\u001b[0m\u001b[38;5;27m/gpfs/fs1/data/reddylab/Kuei/out/proj_combeffect/data/Input/\u001b[0m\n",
      "\u001b[38;5;27m/gpfs/fs1/data/reddylab/Kuei/out/proj_combeffect/data/Input1/\u001b[0m\n",
      "\u001b[38;5;27m/gpfs/fs1/data/reddylab/Kuei/out/proj_combeffect/data/Input1_20x/\u001b[0m\n",
      "\u001b[38;5;27m/gpfs/fs1/data/reddylab/Kuei/out/proj_combeffect/data/Input2/\u001b[0m\n",
      "\u001b[38;5;27m/gpfs/fs1/data/reddylab/Kuei/out/proj_combeffect/data/Input2_20x/\u001b[0m\n",
      "\u001b[38;5;27m/gpfs/fs1/data/reddylab/Kuei/out/proj_combeffect/data/Input3/\u001b[0m\n",
      "\u001b[38;5;27m/gpfs/fs1/data/reddylab/Kuei/out/proj_combeffect/data/Input3_20x/\u001b[0m\n",
      "\u001b[38;5;27m/gpfs/fs1/data/reddylab/Kuei/out/proj_combeffect/data/Input4/\u001b[0m\n",
      "\u001b[38;5;27m/gpfs/fs1/data/reddylab/Kuei/out/proj_combeffect/data/Input4_20x/\u001b[0m\n",
      "\u001b[38;5;27m/gpfs/fs1/data/reddylab/Kuei/out/proj_combeffect/data/Input5/\u001b[0m\n",
      "\u001b[38;5;27m/gpfs/fs1/data/reddylab/Kuei/out/proj_combeffect/data/Input5_20x/\u001b[0m\n",
      "\u001b[38;5;27m/gpfs/fs1/data/reddylab/Kuei/out/proj_combeffect/data/TFX2_Dex/\u001b[0m\n",
      "\u001b[38;5;27m/gpfs/fs1/data/reddylab/Kuei/out/proj_combeffect/data/TFX2_DMSO/\u001b[0m\n",
      "\u001b[38;5;27m/gpfs/fs1/data/reddylab/Kuei/out/proj_combeffect/data/TFX3_Dex/\u001b[0m\n",
      "\u001b[38;5;27m/gpfs/fs1/data/reddylab/Kuei/out/proj_combeffect/data/TFX3_DMSO/\u001b[0m\n",
      "\u001b[38;5;27m/gpfs/fs1/data/reddylab/Kuei/out/proj_combeffect/data/TFX4_Dex/\u001b[0m\n",
      "\u001b[38;5;27m/gpfs/fs1/data/reddylab/Kuei/out/proj_combeffect/data/TFX4_DMSO/\u001b[0m\n",
      "\u001b[38;5;27m/gpfs/fs1/data/reddylab/Kuei/out/proj_combeffect/data/TFX5_Dex/\u001b[0m\n",
      "\u001b[38;5;27m/gpfs/fs1/data/reddylab/Kuei/out/proj_combeffect/data/TFX5_DMSO/\u001b[0m\n",
      "\u001b[38;5;27m/gpfs/fs1/data/reddylab/Kuei/out/proj_combeffect/data/TFX_Dex/\u001b[0m\n",
      "\u001b[38;5;27m/gpfs/fs1/data/reddylab/Kuei/out/proj_combeffect/data/TFX_DMSO/\u001b[0m\n"
     ]
    }
   ],
   "source": [
    "ls -d ${FD_RES}/data/*/"
   ]
  },
  {
   "cell_type": "code",
   "execution_count": 3,
   "id": "1bdc0a0e-b0fe-4d3c-9caa-a31ee78e050a",
   "metadata": {},
   "outputs": [
    {
     "name": "stdout",
     "output_type": "stream",
     "text": [
      "chr10.bed  chr14.bed  chr18.bed  chr21.bed  chr4.bed  chr8.bed  target_PER1.bed\n",
      "chr11.bed  chr15.bed  chr19.bed  chr22.bed  chr5.bed  chr9.bed\n",
      "chr12.bed  chr16.bed  chr1.bed   chr2.bed   chr6.bed  chrX.bed\n",
      "chr13.bed  chr17.bed  chr20.bed  chr3.bed   chr7.bed  chrY.bed\n"
     ]
    }
   ],
   "source": [
    "ls ${FD_RES}/data/Input1/"
   ]
  },
  {
   "cell_type": "code",
   "execution_count": 4,
   "id": "f1467420-25d1-4f3e-a3f8-d5e740e01bd3",
   "metadata": {},
   "outputs": [
    {
     "name": "stdout",
     "output_type": "stream",
     "text": [
      "chr10.bed  chr14.bed  chr18.bed  chr21.bed  chr4.bed  chr8.bed  target_PER1.bed\n",
      "chr11.bed  chr15.bed  chr19.bed  chr22.bed  chr5.bed  chr9.bed\n",
      "chr12.bed  chr16.bed  chr1.bed   chr2.bed   chr6.bed  chrX.bed\n",
      "chr13.bed  chr17.bed  chr20.bed  chr3.bed   chr7.bed  chrY.bed\n"
     ]
    }
   ],
   "source": [
    "ls ${FD_RES}/data/Input1_20x/"
   ]
  },
  {
   "cell_type": "markdown",
   "id": "2b260ee4-156e-45e5-841a-910d3fca143a",
   "metadata": {
    "tags": []
   },
   "source": [
    "## Count fragments for each chromosome"
   ]
  },
  {
   "cell_type": "markdown",
   "id": "01e01e1e-0d76-4e58-9956-e50f3c2317c2",
   "metadata": {},
   "source": [
    "**Test Loop**"
   ]
  },
  {
   "cell_type": "code",
   "execution_count": 7,
   "id": "dec19225-dee9-49b0-8bf5-af09b48662fc",
   "metadata": {},
   "outputs": [
    {
     "name": "stdout",
     "output_type": "stream",
     "text": [
      "Index: 0; Chromosome 1\n",
      "Index: 1; Chromosome 2\n",
      "Index: 2; Chromosome 3\n",
      "Index: 3; Chromosome 4\n",
      "Index: 4; Chromosome 5\n",
      "Index: 5; Chromosome 6\n",
      "Index: 6; Chromosome 7\n",
      "Index: 7; Chromosome 8\n",
      "Index: 8; Chromosome 9\n",
      "Index: 9; Chromosome 10\n",
      "Index: 10; Chromosome 11\n",
      "Index: 11; Chromosome 12\n",
      "Index: 12; Chromosome 13\n",
      "Index: 13; Chromosome 14\n",
      "Index: 14; Chromosome 15\n",
      "Index: 15; Chromosome 16\n",
      "Index: 16; Chromosome 17\n",
      "Index: 17; Chromosome 18\n",
      "Index: 18; Chromosome 19\n",
      "Index: 19; Chromosome 20\n",
      "Index: 20; Chromosome 21\n",
      "Index: 21; Chromosome 22\n",
      "Index: 22; Chromosome X\n",
      "Index: 23; Chromosome Y\n"
     ]
    }
   ],
   "source": [
    "CHROMS=($(seq 1 22) X Y)\n",
    "for idx in {0..23}; do\n",
    "    echo \"Index: $idx; Chromosome ${CHROMS[$idx]}\"\n",
    "done"
   ]
  },
  {
   "cell_type": "code",
   "execution_count": 8,
   "id": "742834e8-6a2d-474c-8b82-8af373feca98",
   "metadata": {},
   "outputs": [
    {
     "name": "stdout",
     "output_type": "stream",
     "text": [
      "SAMPLE: Input1_20x; FD_BED: /gpfs/fs1/data/reddylab/Kuei/out/proj_combeffect/data/Input1_20x/\n",
      "SAMPLE: Input2_20x; FD_BED: /gpfs/fs1/data/reddylab/Kuei/out/proj_combeffect/data/Input2_20x/\n",
      "SAMPLE: Input3_20x; FD_BED: /gpfs/fs1/data/reddylab/Kuei/out/proj_combeffect/data/Input3_20x/\n",
      "SAMPLE: Input4_20x; FD_BED: /gpfs/fs1/data/reddylab/Kuei/out/proj_combeffect/data/Input4_20x/\n",
      "SAMPLE: Input5_20x; FD_BED: /gpfs/fs1/data/reddylab/Kuei/out/proj_combeffect/data/Input5_20x/\n"
     ]
    }
   ],
   "source": [
    "FD_BEDS=($(ls -d ${FD_RES}/data/Input?_20x/))\n",
    "for FD_BED in ${FD_BEDS[@]}; do\n",
    "    SAMPLE=$(basename ${FD_BED})\n",
    "    echo \"SAMPLE: ${SAMPLE}; FD_BED: ${FD_BED}\"\n",
    "done"
   ]
  },
  {
   "cell_type": "code",
   "execution_count": 18,
   "id": "a12c08c5-9e3f-47ae-9042-e42dae1665af",
   "metadata": {},
   "outputs": [
    {
     "name": "stdout",
     "output_type": "stream",
     "text": [
      "SAMPLE:Input1    ; FD_BED:/gpfs/fs1/data/reddylab/Kuei/out/proj_combeffect/data/Input1\n",
      "SAMPLE:Input1_20x; FD_BED:/gpfs/fs1/data/reddylab/Kuei/out/proj_combeffect/data/Input1_20x\n",
      "SAMPLE:Input2    ; FD_BED:/gpfs/fs1/data/reddylab/Kuei/out/proj_combeffect/data/Input2\n",
      "SAMPLE:Input2_20x; FD_BED:/gpfs/fs1/data/reddylab/Kuei/out/proj_combeffect/data/Input2_20x\n",
      "SAMPLE:Input3    ; FD_BED:/gpfs/fs1/data/reddylab/Kuei/out/proj_combeffect/data/Input3\n",
      "SAMPLE:Input3_20x; FD_BED:/gpfs/fs1/data/reddylab/Kuei/out/proj_combeffect/data/Input3_20x\n",
      "SAMPLE:Input4    ; FD_BED:/gpfs/fs1/data/reddylab/Kuei/out/proj_combeffect/data/Input4\n",
      "SAMPLE:Input4_20x; FD_BED:/gpfs/fs1/data/reddylab/Kuei/out/proj_combeffect/data/Input4_20x\n",
      "SAMPLE:Input5    ; FD_BED:/gpfs/fs1/data/reddylab/Kuei/out/proj_combeffect/data/Input5\n",
      "SAMPLE:Input5_20x; FD_BED:/gpfs/fs1/data/reddylab/Kuei/out/proj_combeffect/data/Input5_20x\n",
      "SAMPLE:TFX2_Dex  ; FD_BED:/gpfs/fs1/data/reddylab/Kuei/out/proj_combeffect/data/TFX2_Dex\n",
      "SAMPLE:TFX2_DMSO ; FD_BED:/gpfs/fs1/data/reddylab/Kuei/out/proj_combeffect/data/TFX2_DMSO\n",
      "SAMPLE:TFX3_Dex  ; FD_BED:/gpfs/fs1/data/reddylab/Kuei/out/proj_combeffect/data/TFX3_Dex\n",
      "SAMPLE:TFX3_DMSO ; FD_BED:/gpfs/fs1/data/reddylab/Kuei/out/proj_combeffect/data/TFX3_DMSO\n",
      "SAMPLE:TFX4_Dex  ; FD_BED:/gpfs/fs1/data/reddylab/Kuei/out/proj_combeffect/data/TFX4_Dex\n",
      "SAMPLE:TFX4_DMSO ; FD_BED:/gpfs/fs1/data/reddylab/Kuei/out/proj_combeffect/data/TFX4_DMSO\n",
      "SAMPLE:TFX5_Dex  ; FD_BED:/gpfs/fs1/data/reddylab/Kuei/out/proj_combeffect/data/TFX5_Dex\n",
      "SAMPLE:TFX5_DMSO ; FD_BED:/gpfs/fs1/data/reddylab/Kuei/out/proj_combeffect/data/TFX5_DMSO\n"
     ]
    }
   ],
   "source": [
    "FD_BEDS=($(ls -d ${FD_RES}/data/{Input?*,TFX?_DMSO,TFX?_Dex}))\n",
    "for FD_BED in ${FD_BEDS[@]}; do\n",
    "    SAMPLE=$(basename ${FD_BED})\n",
    "    printf \"SAMPLE:%-10s; FD_BED:%s\\n\" ${SAMPLE} ${FD_BED}\n",
    "done"
   ]
  },
  {
   "cell_type": "markdown",
   "id": "2d1df417-69c3-4858-b366-d728cf292695",
   "metadata": {},
   "source": [
    "**RUN**"
   ]
  },
  {
   "cell_type": "code",
   "execution_count": 9,
   "id": "a2778b69-78f9-401d-87a3-1ec6478d09b1",
   "metadata": {},
   "outputs": [
    {
     "name": "stdout",
     "output_type": "stream",
     "text": [
      "/gpfs/fs1/data/reddylab/Kuei/out/proj_combeffect/log\n",
      "all\n"
     ]
    }
   ],
   "source": [
    "echo ${FD_LOG}\n",
    "echo ${NODE}"
   ]
  },
  {
   "cell_type": "code",
   "execution_count": 21,
   "id": "91eeac8b-5ddf-4ad1-a1d8-80e4a59cb888",
   "metadata": {},
   "outputs": [
    {
     "name": "stdout",
     "output_type": "stream",
     "text": [
      "Submitted batch job 26142856\n"
     ]
    }
   ],
   "source": [
    "source ../config_duke.sh\n",
    "\n",
    "sbatch -p ${NODE} \\\n",
    "    --mem 8G \\\n",
    "    -o ${FD_LOG}/count_fragment_per1.txt \\\n",
    "    <<'EOF'\n",
    "#!/bin/bash\n",
    "### set directories & global variables\n",
    "source ../config_duke.sh\n",
    "#CHROMS=($(seq 1 22) X Y)\n",
    "#CHROM=${CHROMS[${SLURM_ARRAY_TASK_ID}]}\n",
    "#TARGET=chr${CHROM}\n",
    "TARGET=target_PER1\n",
    "\n",
    "### set input and output\n",
    "FD_BEDS=($(ls -d ${FD_RES}/data/{Input?*,TFX?_DMSO,TFX?_Dex}))\n",
    "FD_OUT=${FD_RES}/count_fragment\n",
    "FN_BED=${TARGET}.bed\n",
    "\n",
    "### print start message\n",
    "echo \"Slurm Array Index: \" ${SLURM_ARRAY_TASK_ID}\n",
    "\n",
    "### loop through each sample and count each fragment of a chromosome\n",
    "echo \"RUN: loop through samples; count fragment\"\n",
    "\n",
    "for FD_BED in ${FD_BEDS[@]}; do\n",
    "    SAMPLE=$(basename ${FD_BED})\n",
    "    FD_CNT=${FD_OUT}/${SAMPLE}\n",
    "    FN_CNT=${TARGET}.bed.gz\n",
    "    \n",
    "    ### START Message\n",
    "    echo ++++++++++++++++++++++++++++++++++++++++++++++++\n",
    "    echo \"Input  file: \" ${FD_BED}/${FN_BED}\n",
    "    echo \"Output file: \" ${FD_CNT}/${FN_CNT}\n",
    "    echo\n",
    "    echo \"Show the first few lines of the input file\"\n",
    "    echo      ${FD_BED}/${FN_BED}\n",
    "    head -n 3 ${FD_BED}/${FN_BED}\n",
    "    echo\n",
    "    \n",
    "    ### init: create output folder if not exist\n",
    "    mkdir -p ${FD_CNT}\n",
    "    \n",
    "    ### count the fragments and arrange output to a proper bed file\n",
    "    cat ${FD_BED}/${FN_BED} |\\\n",
    "        sort    |\\\n",
    "        uniq -c |\\\n",
    "        awk '{$(NF+1)=$1;$1=\"\"}1'   |\\\n",
    "        sed -e 's/^[[:space:]]*//'  |\\\n",
    "        sed -e 's/[[:space:]]/\\t/g' |\\\n",
    "        sort -k2,2n |\\\n",
    "        gzip -c > ${FD_CNT}/${FN_CNT}\n",
    "    \n",
    "    ### END Message\n",
    "    echo \"Show the first few lines of the output file\"\n",
    "    echo ${FD_CNT}/${FN_CNT}\n",
    "    zcat ${FD_CNT}/${FN_CNT} | head -n 3\n",
    "    echo\n",
    "done\n",
    "echo \"Done!\"\n",
    "\n",
    "EOF"
   ]
  },
  {
   "cell_type": "markdown",
   "id": "93ac2be7-eda4-4362-b387-a4dce6a30488",
   "metadata": {},
   "source": [
    "**CHECK**"
   ]
  },
  {
   "cell_type": "code",
   "execution_count": 22,
   "id": "fe7efece-5a5e-4cb4-a49c-8cd22555284f",
   "metadata": {
    "collapsed": true,
    "jupyter": {
     "outputs_hidden": true
    },
    "tags": []
   },
   "outputs": [
    {
     "name": "stdout",
     "output_type": "stream",
     "text": [
      "Slurm Array Index: \n",
      "RUN: loop through samples; count fragment\n",
      "++++++++++++++++++++++++++++++++++++++++++++++++\n",
      "Input  file:  /gpfs/fs1/data/reddylab/Kuei/out/proj_combeffect/data/Input1/target_PER1.bed\n",
      "Output file:  /gpfs/fs1/data/reddylab/Kuei/out/proj_combeffect/count_fragment/Input1/target_PER1.bed.gz\n",
      "\n",
      "Show the first few lines of the input file\n",
      "/gpfs/fs1/data/reddylab/Kuei/out/proj_combeffect/data/Input1/target_PER1.bed\n",
      "chr17\t8148117\t8149012\n",
      "chr17\t8148122\t8149107\n",
      "chr17\t8148178\t8149194\n",
      "\n",
      "Show the first few lines of the output file\n",
      "/gpfs/fs1/data/reddylab/Kuei/out/proj_combeffect/count_fragment/Input1/target_PER1.bed.gz\n",
      "chr17\t8148117\t8149012\t1\n",
      "chr17\t8148122\t8149107\t1\n",
      "chr17\t8148178\t8149194\t1\n",
      "\n",
      "++++++++++++++++++++++++++++++++++++++++++++++++\n",
      "Input  file:  /gpfs/fs1/data/reddylab/Kuei/out/proj_combeffect/data/Input1_20x/target_PER1.bed\n",
      "Output file:  /gpfs/fs1/data/reddylab/Kuei/out/proj_combeffect/count_fragment/Input1_20x/target_PER1.bed.gz\n",
      "\n",
      "Show the first few lines of the input file\n",
      "/gpfs/fs1/data/reddylab/Kuei/out/proj_combeffect/data/Input1_20x/target_PER1.bed\n",
      "chr17\t8148003\t8148983\n",
      "chr17\t8148003\t8148983\n",
      "chr17\t8148003\t8148983\n",
      "\n",
      "Show the first few lines of the output file\n",
      "/gpfs/fs1/data/reddylab/Kuei/out/proj_combeffect/count_fragment/Input1_20x/target_PER1.bed.gz\n",
      "chr17\t8148003\t8148983\t3\n",
      "chr17\t8148004\t8148925\t1\n",
      "chr17\t8148004\t8148962\t1\n",
      "\n",
      "++++++++++++++++++++++++++++++++++++++++++++++++\n",
      "Input  file:  /gpfs/fs1/data/reddylab/Kuei/out/proj_combeffect/data/Input2/target_PER1.bed\n",
      "Output file:  /gpfs/fs1/data/reddylab/Kuei/out/proj_combeffect/count_fragment/Input2/target_PER1.bed.gz\n",
      "\n",
      "Show the first few lines of the input file\n",
      "/gpfs/fs1/data/reddylab/Kuei/out/proj_combeffect/data/Input2/target_PER1.bed\n",
      "chr17\t8148003\t8149020\n",
      "chr17\t8148016\t8148955\n",
      "chr17\t8148016\t8148955\n",
      "\n",
      "Show the first few lines of the output file\n",
      "/gpfs/fs1/data/reddylab/Kuei/out/proj_combeffect/count_fragment/Input2/target_PER1.bed.gz\n",
      "chr17\t8148003\t8149020\t1\n",
      "chr17\t8148016\t8148955\t2\n",
      "chr17\t8148186\t8149141\t1\n",
      "\n",
      "++++++++++++++++++++++++++++++++++++++++++++++++\n",
      "Input  file:  /gpfs/fs1/data/reddylab/Kuei/out/proj_combeffect/data/Input2_20x/target_PER1.bed\n",
      "Output file:  /gpfs/fs1/data/reddylab/Kuei/out/proj_combeffect/count_fragment/Input2_20x/target_PER1.bed.gz\n",
      "\n",
      "Show the first few lines of the input file\n",
      "/gpfs/fs1/data/reddylab/Kuei/out/proj_combeffect/data/Input2_20x/target_PER1.bed\n",
      "chr17\t8148000\t8148888\n",
      "chr17\t8148000\t8148887\n",
      "chr17\t8148002\t8149023\n",
      "\n",
      "Show the first few lines of the output file\n",
      "/gpfs/fs1/data/reddylab/Kuei/out/proj_combeffect/count_fragment/Input2_20x/target_PER1.bed.gz\n",
      "chr17\t8148000\t8148887\t1\n",
      "chr17\t8148000\t8148888\t1\n",
      "chr17\t8148002\t8149023\t1\n",
      "\n",
      "++++++++++++++++++++++++++++++++++++++++++++++++\n",
      "Input  file:  /gpfs/fs1/data/reddylab/Kuei/out/proj_combeffect/data/Input3/target_PER1.bed\n",
      "Output file:  /gpfs/fs1/data/reddylab/Kuei/out/proj_combeffect/count_fragment/Input3/target_PER1.bed.gz\n",
      "\n",
      "Show the first few lines of the input file\n",
      "/gpfs/fs1/data/reddylab/Kuei/out/proj_combeffect/data/Input3/target_PER1.bed\n",
      "chr17\t8148017\t8148918\n",
      "chr17\t8148022\t8149011\n",
      "chr17\t8148153\t8149179\n",
      "\n",
      "Show the first few lines of the output file\n",
      "/gpfs/fs1/data/reddylab/Kuei/out/proj_combeffect/count_fragment/Input3/target_PER1.bed.gz\n",
      "chr17\t8148017\t8148918\t1\n",
      "chr17\t8148022\t8149011\t1\n",
      "chr17\t8148153\t8149179\t1\n",
      "\n",
      "++++++++++++++++++++++++++++++++++++++++++++++++\n",
      "Input  file:  /gpfs/fs1/data/reddylab/Kuei/out/proj_combeffect/data/Input3_20x/target_PER1.bed\n",
      "Output file:  /gpfs/fs1/data/reddylab/Kuei/out/proj_combeffect/count_fragment/Input3_20x/target_PER1.bed.gz\n",
      "\n",
      "Show the first few lines of the input file\n",
      "/gpfs/fs1/data/reddylab/Kuei/out/proj_combeffect/data/Input3_20x/target_PER1.bed\n",
      "chr17\t8148000\t8148888\n",
      "chr17\t8148002\t8149046\n",
      "chr17\t8148002\t8149046\n",
      "\n",
      "Show the first few lines of the output file\n",
      "/gpfs/fs1/data/reddylab/Kuei/out/proj_combeffect/count_fragment/Input3_20x/target_PER1.bed.gz\n",
      "chr17\t8148000\t8148888\t1\n",
      "chr17\t8148002\t8148836\t1\n",
      "chr17\t8148002\t8149023\t1\n",
      "\n",
      "++++++++++++++++++++++++++++++++++++++++++++++++\n",
      "Input  file:  /gpfs/fs1/data/reddylab/Kuei/out/proj_combeffect/data/Input4/target_PER1.bed\n",
      "Output file:  /gpfs/fs1/data/reddylab/Kuei/out/proj_combeffect/count_fragment/Input4/target_PER1.bed.gz\n",
      "\n",
      "Show the first few lines of the input file\n",
      "/gpfs/fs1/data/reddylab/Kuei/out/proj_combeffect/data/Input4/target_PER1.bed\n",
      "chr17\t8148003\t8149021\n",
      "chr17\t8148068\t8149029\n",
      "chr17\t8148308\t8149342\n",
      "\n",
      "Show the first few lines of the output file\n",
      "/gpfs/fs1/data/reddylab/Kuei/out/proj_combeffect/count_fragment/Input4/target_PER1.bed.gz\n",
      "chr17\t8148003\t8149021\t1\n",
      "chr17\t8148068\t8149029\t1\n",
      "chr17\t8148308\t8149342\t1\n",
      "\n",
      "++++++++++++++++++++++++++++++++++++++++++++++++\n",
      "Input  file:  /gpfs/fs1/data/reddylab/Kuei/out/proj_combeffect/data/Input4_20x/target_PER1.bed\n",
      "Output file:  /gpfs/fs1/data/reddylab/Kuei/out/proj_combeffect/count_fragment/Input4_20x/target_PER1.bed.gz\n",
      "\n",
      "Show the first few lines of the input file\n",
      "/gpfs/fs1/data/reddylab/Kuei/out/proj_combeffect/data/Input4_20x/target_PER1.bed\n",
      "chr17\t8148000\t8148993\n",
      "chr17\t8148002\t8149072\n",
      "chr17\t8148002\t8149066\n",
      "\n",
      "Show the first few lines of the output file\n",
      "/gpfs/fs1/data/reddylab/Kuei/out/proj_combeffect/count_fragment/Input4_20x/target_PER1.bed.gz\n",
      "chr17\t8148000\t8148993\t1\n",
      "chr17\t8148002\t8149066\t1\n",
      "chr17\t8148002\t8149072\t1\n",
      "\n",
      "++++++++++++++++++++++++++++++++++++++++++++++++\n",
      "Input  file:  /gpfs/fs1/data/reddylab/Kuei/out/proj_combeffect/data/Input5/target_PER1.bed\n",
      "Output file:  /gpfs/fs1/data/reddylab/Kuei/out/proj_combeffect/count_fragment/Input5/target_PER1.bed.gz\n",
      "\n",
      "Show the first few lines of the input file\n",
      "/gpfs/fs1/data/reddylab/Kuei/out/proj_combeffect/data/Input5/target_PER1.bed\n",
      "chr17\t8148099\t8148969\n",
      "chr17\t8148165\t8149437\n",
      "chr17\t8148217\t8149265\n",
      "\n",
      "Show the first few lines of the output file\n",
      "/gpfs/fs1/data/reddylab/Kuei/out/proj_combeffect/count_fragment/Input5/target_PER1.bed.gz\n",
      "chr17\t8148099\t8148969\t1\n",
      "chr17\t8148165\t8149437\t1\n",
      "chr17\t8148217\t8149265\t1\n",
      "\n",
      "++++++++++++++++++++++++++++++++++++++++++++++++\n",
      "Input  file:  /gpfs/fs1/data/reddylab/Kuei/out/proj_combeffect/data/Input5_20x/target_PER1.bed\n",
      "Output file:  /gpfs/fs1/data/reddylab/Kuei/out/proj_combeffect/count_fragment/Input5_20x/target_PER1.bed.gz\n",
      "\n",
      "Show the first few lines of the input file\n",
      "/gpfs/fs1/data/reddylab/Kuei/out/proj_combeffect/data/Input5_20x/target_PER1.bed\n",
      "chr17\t8148000\t8148888\n",
      "chr17\t8148000\t8148888\n",
      "chr17\t8148002\t8149066\n",
      "\n",
      "Show the first few lines of the output file\n",
      "/gpfs/fs1/data/reddylab/Kuei/out/proj_combeffect/count_fragment/Input5_20x/target_PER1.bed.gz\n",
      "chr17\t8148000\t8148888\t2\n",
      "chr17\t8148002\t8149066\t2\n",
      "chr17\t8148003\t8149021\t4\n",
      "\n",
      "++++++++++++++++++++++++++++++++++++++++++++++++\n",
      "Input  file:  /gpfs/fs1/data/reddylab/Kuei/out/proj_combeffect/data/TFX2_Dex/target_PER1.bed\n",
      "Output file:  /gpfs/fs1/data/reddylab/Kuei/out/proj_combeffect/count_fragment/TFX2_Dex/target_PER1.bed.gz\n",
      "\n",
      "Show the first few lines of the input file\n",
      "/gpfs/fs1/data/reddylab/Kuei/out/proj_combeffect/data/TFX2_Dex/target_PER1.bed\n",
      "chr17\t8148000\t8148888\n",
      "chr17\t8148097\t8149186\n",
      "chr17\t8148180\t8149106\n",
      "\n",
      "Show the first few lines of the output file\n",
      "/gpfs/fs1/data/reddylab/Kuei/out/proj_combeffect/count_fragment/TFX2_Dex/target_PER1.bed.gz\n",
      "chr17\t8148000\t8148888\t1\n",
      "chr17\t8148097\t8149186\t1\n",
      "chr17\t8148180\t8149106\t1\n",
      "\n",
      "++++++++++++++++++++++++++++++++++++++++++++++++\n",
      "Input  file:  /gpfs/fs1/data/reddylab/Kuei/out/proj_combeffect/data/TFX2_DMSO/target_PER1.bed\n",
      "Output file:  /gpfs/fs1/data/reddylab/Kuei/out/proj_combeffect/count_fragment/TFX2_DMSO/target_PER1.bed.gz\n",
      "\n",
      "Show the first few lines of the input file\n",
      "/gpfs/fs1/data/reddylab/Kuei/out/proj_combeffect/data/TFX2_DMSO/target_PER1.bed\n",
      "chr17\t8148000\t8148888\n",
      "chr17\t8148001\t8148888\n",
      "chr17\t8148049\t8148884\n",
      "\n",
      "Show the first few lines of the output file\n",
      "/gpfs/fs1/data/reddylab/Kuei/out/proj_combeffect/count_fragment/TFX2_DMSO/target_PER1.bed.gz\n",
      "chr17\t8148000\t8148888\t1\n",
      "chr17\t8148001\t8148888\t1\n",
      "chr17\t8148049\t8148884\t1\n",
      "\n",
      "++++++++++++++++++++++++++++++++++++++++++++++++\n",
      "Input  file:  /gpfs/fs1/data/reddylab/Kuei/out/proj_combeffect/data/TFX3_Dex/target_PER1.bed\n",
      "Output file:  /gpfs/fs1/data/reddylab/Kuei/out/proj_combeffect/count_fragment/TFX3_Dex/target_PER1.bed.gz\n",
      "\n",
      "Show the first few lines of the input file\n",
      "/gpfs/fs1/data/reddylab/Kuei/out/proj_combeffect/data/TFX3_Dex/target_PER1.bed\n",
      "chr17\t8148069\t8149187\n",
      "chr17\t8148070\t8149187\n",
      "chr17\t8148205\t8149252\n",
      "\n",
      "Show the first few lines of the output file\n",
      "/gpfs/fs1/data/reddylab/Kuei/out/proj_combeffect/count_fragment/TFX3_Dex/target_PER1.bed.gz\n",
      "chr17\t8148069\t8149187\t1\n",
      "chr17\t8148070\t8149187\t1\n",
      "chr17\t8148205\t8149252\t1\n",
      "\n",
      "++++++++++++++++++++++++++++++++++++++++++++++++\n",
      "Input  file:  /gpfs/fs1/data/reddylab/Kuei/out/proj_combeffect/data/TFX3_DMSO/target_PER1.bed\n",
      "Output file:  /gpfs/fs1/data/reddylab/Kuei/out/proj_combeffect/count_fragment/TFX3_DMSO/target_PER1.bed.gz\n",
      "\n",
      "Show the first few lines of the input file\n",
      "/gpfs/fs1/data/reddylab/Kuei/out/proj_combeffect/data/TFX3_DMSO/target_PER1.bed\n",
      "chr17\t8148055\t8149134\n",
      "chr17\t8148055\t8149136\n",
      "chr17\t8148055\t8149135\n",
      "\n",
      "Show the first few lines of the output file\n",
      "/gpfs/fs1/data/reddylab/Kuei/out/proj_combeffect/count_fragment/TFX3_DMSO/target_PER1.bed.gz\n",
      "chr17\t8148055\t8149134\t1\n",
      "chr17\t8148055\t8149135\t1\n",
      "chr17\t8148055\t8149136\t1\n",
      "\n",
      "++++++++++++++++++++++++++++++++++++++++++++++++\n",
      "Input  file:  /gpfs/fs1/data/reddylab/Kuei/out/proj_combeffect/data/TFX4_Dex/target_PER1.bed\n",
      "Output file:  /gpfs/fs1/data/reddylab/Kuei/out/proj_combeffect/count_fragment/TFX4_Dex/target_PER1.bed.gz\n",
      "\n",
      "Show the first few lines of the input file\n",
      "/gpfs/fs1/data/reddylab/Kuei/out/proj_combeffect/data/TFX4_Dex/target_PER1.bed\n",
      "chr17\t8148178\t8149109\n",
      "chr17\t8148178\t8149108\n",
      "chr17\t8148180\t8149109\n",
      "\n",
      "Show the first few lines of the output file\n",
      "/gpfs/fs1/data/reddylab/Kuei/out/proj_combeffect/count_fragment/TFX4_Dex/target_PER1.bed.gz\n",
      "chr17\t8148178\t8149108\t1\n",
      "chr17\t8148178\t8149109\t1\n",
      "chr17\t8148180\t8149109\t1\n",
      "\n",
      "++++++++++++++++++++++++++++++++++++++++++++++++\n",
      "Input  file:  /gpfs/fs1/data/reddylab/Kuei/out/proj_combeffect/data/TFX4_DMSO/target_PER1.bed\n",
      "Output file:  /gpfs/fs1/data/reddylab/Kuei/out/proj_combeffect/count_fragment/TFX4_DMSO/target_PER1.bed.gz\n",
      "\n",
      "Show the first few lines of the input file\n",
      "/gpfs/fs1/data/reddylab/Kuei/out/proj_combeffect/data/TFX4_DMSO/target_PER1.bed\n",
      "chr17\t8148012\t8149137\n",
      "chr17\t8148012\t8149138\n",
      "chr17\t8148013\t8149138\n",
      "\n",
      "Show the first few lines of the output file\n",
      "/gpfs/fs1/data/reddylab/Kuei/out/proj_combeffect/count_fragment/TFX4_DMSO/target_PER1.bed.gz\n",
      "chr17\t8148012\t8149137\t1\n",
      "chr17\t8148012\t8149138\t1\n",
      "chr17\t8148013\t8149138\t1\n",
      "\n",
      "++++++++++++++++++++++++++++++++++++++++++++++++\n",
      "Input  file:  /gpfs/fs1/data/reddylab/Kuei/out/proj_combeffect/data/TFX5_Dex/target_PER1.bed\n",
      "Output file:  /gpfs/fs1/data/reddylab/Kuei/out/proj_combeffect/count_fragment/TFX5_Dex/target_PER1.bed.gz\n",
      "\n",
      "Show the first few lines of the input file\n",
      "/gpfs/fs1/data/reddylab/Kuei/out/proj_combeffect/data/TFX5_Dex/target_PER1.bed\n",
      "chr17\t8148018\t8148882\n",
      "chr17\t8148019\t8148882\n",
      "chr17\t8148056\t8149063\n",
      "\n",
      "Show the first few lines of the output file\n",
      "/gpfs/fs1/data/reddylab/Kuei/out/proj_combeffect/count_fragment/TFX5_Dex/target_PER1.bed.gz\n",
      "chr17\t8148018\t8148882\t1\n",
      "chr17\t8148019\t8148882\t1\n",
      "chr17\t8148056\t8149063\t1\n",
      "\n",
      "++++++++++++++++++++++++++++++++++++++++++++++++\n",
      "Input  file:  /gpfs/fs1/data/reddylab/Kuei/out/proj_combeffect/data/TFX5_DMSO/target_PER1.bed\n",
      "Output file:  /gpfs/fs1/data/reddylab/Kuei/out/proj_combeffect/count_fragment/TFX5_DMSO/target_PER1.bed.gz\n",
      "\n",
      "Show the first few lines of the input file\n",
      "/gpfs/fs1/data/reddylab/Kuei/out/proj_combeffect/data/TFX5_DMSO/target_PER1.bed\n",
      "chr17\t8148045\t8149000\n",
      "chr17\t8148045\t8148998\n",
      "chr17\t8148046\t8148999\n",
      "\n",
      "Show the first few lines of the output file\n",
      "/gpfs/fs1/data/reddylab/Kuei/out/proj_combeffect/count_fragment/TFX5_DMSO/target_PER1.bed.gz\n",
      "chr17\t8148045\t8148998\t1\n",
      "chr17\t8148045\t8149000\t1\n",
      "chr17\t8148046\t8148999\t1\n",
      "\n",
      "Done!\n"
     ]
    }
   ],
   "source": [
    "cat ${FD_LOG}/count_fragment_per1.txt"
   ]
  },
  {
   "cell_type": "code",
   "execution_count": 25,
   "id": "bdd10a53-81fd-46ac-8112-d3cb95b3299e",
   "metadata": {},
   "outputs": [
    {
     "name": "stdout",
     "output_type": "stream",
     "text": [
      "\u001b[0m\u001b[38;5;27m/gpfs/fs1/data/reddylab/Kuei/out/proj_combeffect/count_fragment/Input1\u001b[0m\n",
      "\u001b[38;5;27m/gpfs/fs1/data/reddylab/Kuei/out/proj_combeffect/count_fragment/Input1_20x\u001b[0m\n",
      "\u001b[38;5;27m/gpfs/fs1/data/reddylab/Kuei/out/proj_combeffect/count_fragment/Input2\u001b[0m\n",
      "\u001b[38;5;27m/gpfs/fs1/data/reddylab/Kuei/out/proj_combeffect/count_fragment/Input2_20x\u001b[0m\n",
      "\u001b[38;5;27m/gpfs/fs1/data/reddylab/Kuei/out/proj_combeffect/count_fragment/Input3\u001b[0m\n",
      "\u001b[38;5;27m/gpfs/fs1/data/reddylab/Kuei/out/proj_combeffect/count_fragment/Input3_20x\u001b[0m\n",
      "\u001b[38;5;27m/gpfs/fs1/data/reddylab/Kuei/out/proj_combeffect/count_fragment/Input4\u001b[0m\n",
      "\u001b[38;5;27m/gpfs/fs1/data/reddylab/Kuei/out/proj_combeffect/count_fragment/Input4_20x\u001b[0m\n",
      "\u001b[38;5;27m/gpfs/fs1/data/reddylab/Kuei/out/proj_combeffect/count_fragment/Input5\u001b[0m\n",
      "\u001b[38;5;27m/gpfs/fs1/data/reddylab/Kuei/out/proj_combeffect/count_fragment/Input5_20x\u001b[0m\n",
      "\u001b[38;5;27m/gpfs/fs1/data/reddylab/Kuei/out/proj_combeffect/count_fragment/TFX2_Dex\u001b[0m\n",
      "\u001b[38;5;27m/gpfs/fs1/data/reddylab/Kuei/out/proj_combeffect/count_fragment/TFX2_DMSO\u001b[0m\n",
      "\u001b[38;5;27m/gpfs/fs1/data/reddylab/Kuei/out/proj_combeffect/count_fragment/TFX3_Dex\u001b[0m\n",
      "\u001b[38;5;27m/gpfs/fs1/data/reddylab/Kuei/out/proj_combeffect/count_fragment/TFX3_DMSO\u001b[0m\n",
      "\u001b[38;5;27m/gpfs/fs1/data/reddylab/Kuei/out/proj_combeffect/count_fragment/TFX4_Dex\u001b[0m\n",
      "\u001b[38;5;27m/gpfs/fs1/data/reddylab/Kuei/out/proj_combeffect/count_fragment/TFX4_DMSO\u001b[0m\n",
      "\u001b[38;5;27m/gpfs/fs1/data/reddylab/Kuei/out/proj_combeffect/count_fragment/TFX5_Dex\u001b[0m\n",
      "\u001b[38;5;27m/gpfs/fs1/data/reddylab/Kuei/out/proj_combeffect/count_fragment/TFX5_DMSO\u001b[0m\n"
     ]
    }
   ],
   "source": [
    "ls -d ${FD_RES}/count_fragment/{Input?*,TFX?_DMSO,TFX?_Dex}"
   ]
  },
  {
   "cell_type": "code",
   "execution_count": 31,
   "id": "52b364ec-87be-421c-931d-b401d7a870f8",
   "metadata": {},
   "outputs": [
    {
     "name": "stdout",
     "output_type": "stream",
     "text": [
      "/gpfs/fs1/data/reddylab/Kuei/out/proj_combeffect/count_fragment/Input1_20x/target_PER1.bed.gz\n",
      "/gpfs/fs1/data/reddylab/Kuei/out/proj_combeffect/count_fragment/Input1/target_PER1.bed.gz\n",
      "/gpfs/fs1/data/reddylab/Kuei/out/proj_combeffect/count_fragment/Input2_20x/target_PER1.bed.gz\n",
      "/gpfs/fs1/data/reddylab/Kuei/out/proj_combeffect/count_fragment/Input2/target_PER1.bed.gz\n",
      "/gpfs/fs1/data/reddylab/Kuei/out/proj_combeffect/count_fragment/Input3_20x/target_PER1.bed.gz\n",
      "/gpfs/fs1/data/reddylab/Kuei/out/proj_combeffect/count_fragment/Input3/target_PER1.bed.gz\n",
      "/gpfs/fs1/data/reddylab/Kuei/out/proj_combeffect/count_fragment/Input4_20x/target_PER1.bed.gz\n",
      "/gpfs/fs1/data/reddylab/Kuei/out/proj_combeffect/count_fragment/Input4/target_PER1.bed.gz\n",
      "/gpfs/fs1/data/reddylab/Kuei/out/proj_combeffect/count_fragment/Input5_20x/target_PER1.bed.gz\n",
      "/gpfs/fs1/data/reddylab/Kuei/out/proj_combeffect/count_fragment/Input5/target_PER1.bed.gz\n",
      "/gpfs/fs1/data/reddylab/Kuei/out/proj_combeffect/count_fragment/TFX2_Dex/target_PER1.bed.gz\n",
      "/gpfs/fs1/data/reddylab/Kuei/out/proj_combeffect/count_fragment/TFX2_DMSO/target_PER1.bed.gz\n",
      "/gpfs/fs1/data/reddylab/Kuei/out/proj_combeffect/count_fragment/TFX3_Dex/target_PER1.bed.gz\n",
      "/gpfs/fs1/data/reddylab/Kuei/out/proj_combeffect/count_fragment/TFX3_DMSO/target_PER1.bed.gz\n",
      "/gpfs/fs1/data/reddylab/Kuei/out/proj_combeffect/count_fragment/TFX4_Dex/target_PER1.bed.gz\n",
      "/gpfs/fs1/data/reddylab/Kuei/out/proj_combeffect/count_fragment/TFX4_DMSO/target_PER1.bed.gz\n",
      "/gpfs/fs1/data/reddylab/Kuei/out/proj_combeffect/count_fragment/TFX5_Dex/target_PER1.bed.gz\n",
      "/gpfs/fs1/data/reddylab/Kuei/out/proj_combeffect/count_fragment/TFX5_DMSO/target_PER1.bed.gz\n"
     ]
    }
   ],
   "source": [
    "FP_BEDS=($(ls ${FD_RES}/count_fragment/{Input?*,TFX?_DMSO,TFX?_Dex}/target_PER1.bed.gz))\n",
    "for FP_BED in ${FP_BEDS[@]}; do\n",
    "    echo ${FP_BED}\n",
    "done"
   ]
  },
  {
   "cell_type": "code",
   "execution_count": 46,
   "id": "5a564476-3981-4775-bf49-c3976017fb0d",
   "metadata": {},
   "outputs": [
    {
     "name": "stdout",
     "output_type": "stream",
     "text": [
      " 168 Input1     target_PER1.bed.gz\n",
      "3029 Input1_20x target_PER1.bed.gz\n",
      " 190 Input2     target_PER1.bed.gz\n",
      "2933 Input2_20x target_PER1.bed.gz\n",
      " 258 Input3     target_PER1.bed.gz\n",
      "2964 Input3_20x target_PER1.bed.gz\n",
      " 177 Input4     target_PER1.bed.gz\n",
      "3272 Input4_20x target_PER1.bed.gz\n",
      " 127 Input5     target_PER1.bed.gz\n",
      "2812 Input5_20x target_PER1.bed.gz\n",
      "1719 TFX2_Dex   target_PER1.bed.gz\n",
      " 733 TFX2_DMSO  target_PER1.bed.gz\n",
      "1113 TFX3_Dex   target_PER1.bed.gz\n",
      " 494 TFX3_DMSO  target_PER1.bed.gz\n",
      "1519 TFX4_Dex   target_PER1.bed.gz\n",
      " 509 TFX4_DMSO  target_PER1.bed.gz\n",
      "1831 TFX5_Dex   target_PER1.bed.gz\n",
      " 638 TFX5_DMSO  target_PER1.bed.gz\n"
     ]
    }
   ],
   "source": [
    "FD_BEDS=($(ls -d ${FD_RES}/count_fragment/{Input?*,TFX?_DMSO,TFX?_Dex}))\n",
    "for FD_BED in ${FD_BEDS[@]}; do\n",
    "    FP_BED=${FD_BED}/target_PER1.bed.gz\n",
    "    NUM=$(zcat ${FP_BED} | wc -l)\n",
    "    STR=$(basename ${FD_BED})\n",
    "    printf \"%4s %-10s %s\\n\" ${NUM} ${STR} \"target_PER1.bed.gz\"\n",
    "done"
   ]
  },
  {
   "cell_type": "code",
   "execution_count": null,
   "id": "b85b58bc-6519-4094-aee8-6e32ba2973a1",
   "metadata": {},
   "outputs": [],
   "source": []
  }
 ],
 "metadata": {
  "kernelspec": {
   "display_name": "Bash",
   "language": "bash",
   "name": "bash"
  },
  "language_info": {
   "codemirror_mode": "shell",
   "file_extension": ".sh",
   "mimetype": "text/x-sh",
   "name": "bash"
  }
 },
 "nbformat": 4,
 "nbformat_minor": 5
}
