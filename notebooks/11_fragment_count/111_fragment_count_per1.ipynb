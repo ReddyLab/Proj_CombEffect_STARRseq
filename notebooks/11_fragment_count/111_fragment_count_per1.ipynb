{
 "cells": [
  {
   "cell_type": "markdown",
   "metadata": {},
   "source": [
    "# Count each fragment in STARR-seq (PER1)"
   ]
  },
  {
   "cell_type": "markdown",
   "metadata": {},
   "source": [
    "**Set environment**"
   ]
  },
  {
   "cell_type": "code",
   "execution_count": 1,
   "metadata": {},
   "outputs": [
    {
     "ename": "SyntaxError",
     "evalue": "invalid syntax (2888612357.py, line 1)",
     "output_type": "error",
     "traceback": [
      "\u001b[0;36m  File \u001b[0;32m\"/tmp/ipykernel_74330/2888612357.py\"\u001b[0;36m, line \u001b[0;32m1\u001b[0m\n\u001b[0;31m    source ../config_duke.sh -v\u001b[0m\n\u001b[0m            ^\u001b[0m\n\u001b[0;31mSyntaxError\u001b[0m\u001b[0;31m:\u001b[0m invalid syntax\n"
     ]
    }
   ],
   "source": [
    "source ../config_duke.sh -v"
   ]
  },
  {
   "cell_type": "code",
   "execution_count": null,
   "metadata": {},
   "outputs": [],
   "source": []
  },
  {
   "cell_type": "markdown",
   "metadata": {
    "tags": []
   },
   "source": [
    "## Show directories"
   ]
  },
  {
   "cell_type": "code",
   "execution_count": 1,
   "metadata": {},
   "outputs": [
    {
     "name": "stdout",
     "output_type": "stream",
     "text": [
      "/work/kk319\n",
      "/work/kk319/out/CombEffect_STARR\n",
      "/work/kk319/out/CombEffect_STARR/log\n",
      "/work/kk319/annotation\n"
     ]
    }
   ],
   "source": [
    "%%bash\n",
    "source config.sh\n",
    "\n",
    "echo ${FD_BASE}\n",
    "echo ${FD_WRK}\n",
    "echo ${FD_LOG}\n",
    "echo ${FD_ANN}"
   ]
  },
  {
   "cell_type": "markdown",
   "metadata": {},
   "source": [
    "**input directory**"
   ]
  },
  {
   "cell_type": "code",
   "execution_count": 9,
   "metadata": {},
   "outputs": [
    {
     "name": "stdout",
     "output_type": "stream",
     "text": [
      "/work/kk319/out/CombEffect_STARR/data/Input/\n",
      "/work/kk319/out/CombEffect_STARR/data/Input1/\n",
      "/work/kk319/out/CombEffect_STARR/data/Input2/\n",
      "/work/kk319/out/CombEffect_STARR/data/Input3/\n",
      "/work/kk319/out/CombEffect_STARR/data/Input4/\n",
      "/work/kk319/out/CombEffect_STARR/data/Input5/\n",
      "/work/kk319/out/CombEffect_STARR/data/TFX2_DMSO/\n",
      "/work/kk319/out/CombEffect_STARR/data/TFX2_Dex/\n",
      "/work/kk319/out/CombEffect_STARR/data/TFX3_DMSO/\n",
      "/work/kk319/out/CombEffect_STARR/data/TFX3_Dex/\n",
      "/work/kk319/out/CombEffect_STARR/data/TFX4_DMSO/\n",
      "/work/kk319/out/CombEffect_STARR/data/TFX4_Dex/\n",
      "/work/kk319/out/CombEffect_STARR/data/TFX5_DMSO/\n",
      "/work/kk319/out/CombEffect_STARR/data/TFX5_Dex/\n",
      "/work/kk319/out/CombEffect_STARR/data/TFX_DMSO/\n",
      "/work/kk319/out/CombEffect_STARR/data/TFX_Dex/\n"
     ]
    }
   ],
   "source": [
    "%%bash\n",
    "source config.sh\n",
    "ls -d ${FD_WRK}/data/*/"
   ]
  },
  {
   "cell_type": "code",
   "execution_count": 14,
   "metadata": {},
   "outputs": [
    {
     "name": "stdout",
     "output_type": "stream",
     "text": [
      "/work/kk319/out/CombEffect_STARR/data/Input/target_PER1.bed\n",
      "/work/kk319/out/CombEffect_STARR/data/Input1/target_PER1.bed\n",
      "/work/kk319/out/CombEffect_STARR/data/Input2/target_PER1.bed\n",
      "/work/kk319/out/CombEffect_STARR/data/Input3/target_PER1.bed\n",
      "/work/kk319/out/CombEffect_STARR/data/Input4/target_PER1.bed\n",
      "/work/kk319/out/CombEffect_STARR/data/Input5/target_PER1.bed\n",
      "/work/kk319/out/CombEffect_STARR/data/TFX2_DMSO/target_PER1.bed\n",
      "/work/kk319/out/CombEffect_STARR/data/TFX2_Dex/target_PER1.bed\n",
      "/work/kk319/out/CombEffect_STARR/data/TFX3_DMSO/target_PER1.bed\n",
      "/work/kk319/out/CombEffect_STARR/data/TFX3_Dex/target_PER1.bed\n",
      "/work/kk319/out/CombEffect_STARR/data/TFX4_DMSO/target_PER1.bed\n",
      "/work/kk319/out/CombEffect_STARR/data/TFX4_Dex/target_PER1.bed\n",
      "/work/kk319/out/CombEffect_STARR/data/TFX5_DMSO/target_PER1.bed\n",
      "/work/kk319/out/CombEffect_STARR/data/TFX5_Dex/target_PER1.bed\n",
      "/work/kk319/out/CombEffect_STARR/data/TFX_DMSO/target_PER1.bed\n",
      "/work/kk319/out/CombEffect_STARR/data/TFX_Dex/target_PER1.bed\n"
     ]
    }
   ],
   "source": [
    "%%bash\n",
    "source config.sh\n",
    "ls ${FD_WRK}/data/*/target_PER1.bed"
   ]
  },
  {
   "cell_type": "code",
   "execution_count": 15,
   "metadata": {},
   "outputs": [
    {
     "name": "stdout",
     "output_type": "stream",
     "text": [
      "   900 /work/kk319/out/CombEffect_STARR/data/Input/target_PER1.bed\n",
      "   162 /work/kk319/out/CombEffect_STARR/data/Input1/target_PER1.bed\n",
      "   186 /work/kk319/out/CombEffect_STARR/data/Input2/target_PER1.bed\n",
      "   253 /work/kk319/out/CombEffect_STARR/data/Input3/target_PER1.bed\n",
      "   175 /work/kk319/out/CombEffect_STARR/data/Input4/target_PER1.bed\n",
      "   124 /work/kk319/out/CombEffect_STARR/data/Input5/target_PER1.bed\n",
      "   930 /work/kk319/out/CombEffect_STARR/data/TFX2_DMSO/target_PER1.bed\n",
      "  2463 /work/kk319/out/CombEffect_STARR/data/TFX2_Dex/target_PER1.bed\n",
      "   611 /work/kk319/out/CombEffect_STARR/data/TFX3_DMSO/target_PER1.bed\n",
      "  1543 /work/kk319/out/CombEffect_STARR/data/TFX3_Dex/target_PER1.bed\n",
      "   618 /work/kk319/out/CombEffect_STARR/data/TFX4_DMSO/target_PER1.bed\n",
      "  2076 /work/kk319/out/CombEffect_STARR/data/TFX4_Dex/target_PER1.bed\n",
      "   791 /work/kk319/out/CombEffect_STARR/data/TFX5_DMSO/target_PER1.bed\n",
      "  2767 /work/kk319/out/CombEffect_STARR/data/TFX5_Dex/target_PER1.bed\n",
      "  2950 /work/kk319/out/CombEffect_STARR/data/TFX_DMSO/target_PER1.bed\n",
      "  8849 /work/kk319/out/CombEffect_STARR/data/TFX_Dex/target_PER1.bed\n",
      " 25398 total\n"
     ]
    }
   ],
   "source": [
    "%%bash\n",
    "source config.sh\n",
    "wc -l ${FD_WRK}/data/*/target_PER1.bed"
   ]
  },
  {
   "cell_type": "markdown",
   "metadata": {},
   "source": [
    "**Double check the input files**"
   ]
  },
  {
   "cell_type": "code",
   "execution_count": 16,
   "metadata": {},
   "outputs": [
    {
     "data": {
      "text/plain": [
       "True"
      ]
     },
     "execution_count": 16,
     "metadata": {},
     "output_type": "execute_result"
    }
   ],
   "source": [
    "(900 == #/work/kk319/out/CombEffect_STARR/data/Input/target_PER1.bed\n",
    " 162 +  #/work/kk319/out/CombEffect_STARR/data/Input1/target_PER1.bed\n",
    " 186 +  #/work/kk319/out/CombEffect_STARR/data/Input2/target_PER1.bed\n",
    " 253 +  #/work/kk319/out/CombEffect_STARR/data/Input3/target_PER1.bed\n",
    " 175 +  #/work/kk319/out/CombEffect_STARR/data/Input4/target_PER1.bed\n",
    " 124)   #/work/kk319/out/CombEffect_STARR/data/Input5/target_PER1.bed"
   ]
  },
  {
   "cell_type": "code",
   "execution_count": 17,
   "metadata": {},
   "outputs": [
    {
     "data": {
      "text/plain": [
       "True"
      ]
     },
     "execution_count": 17,
     "metadata": {},
     "output_type": "execute_result"
    }
   ],
   "source": [
    "(930 +  #/work/kk319/out/CombEffect_STARR/data/TFX2_DMSO/target_PER1.bed\n",
    " 611 +  #/work/kk319/out/CombEffect_STARR/data/TFX3_DMSO/target_PER1.bed\n",
    " 618 +  #/work/kk319/out/CombEffect_STARR/data/TFX4_DMSO/target_PER1.bed\n",
    " 791 == #/work/kk319/out/CombEffect_STARR/data/TFX5_DMSO/target_PER1.bed\n",
    " 2950)  #/work/kk319/out/CombEffect_STARR/data/TFX_DMSO/target_PER1.bed"
   ]
  },
  {
   "cell_type": "code",
   "execution_count": 18,
   "metadata": {},
   "outputs": [
    {
     "data": {
      "text/plain": [
       "True"
      ]
     },
     "execution_count": 18,
     "metadata": {},
     "output_type": "execute_result"
    }
   ],
   "source": [
    "(2463 +  #/work/kk319/out/CombEffect_STARR/data/TFX2_Dex/target_PER1.bed\n",
    " 1543 +  #/work/kk319/out/CombEffect_STARR/data/TFX3_Dex/target_PER1.bed\n",
    " 2076 +  #/work/kk319/out/CombEffect_STARR/data/TFX4_Dex/target_PER1.bed\n",
    " 2767 == #/work/kk319/out/CombEffect_STARR/data/TFX5_Dex/target_PER1.bed\n",
    " 8849)   #/work/kk319/out/CombEffect_STARR/data/TFX_Dex/target_PER1.bed"
   ]
  },
  {
   "cell_type": "markdown",
   "metadata": {},
   "source": [
    "**Output directory**"
   ]
  },
  {
   "cell_type": "code",
   "execution_count": 8,
   "metadata": {},
   "outputs": [
    {
     "name": "stdout",
     "output_type": "stream",
     "text": [
      "/work/kk319/out/CombEffect_STARR/count_fragment/Input/\n",
      "/work/kk319/out/CombEffect_STARR/count_fragment/Input1/\n",
      "/work/kk319/out/CombEffect_STARR/count_fragment/Input2/\n",
      "/work/kk319/out/CombEffect_STARR/count_fragment/Input3/\n",
      "/work/kk319/out/CombEffect_STARR/count_fragment/Input4/\n",
      "/work/kk319/out/CombEffect_STARR/count_fragment/Input5/\n",
      "/work/kk319/out/CombEffect_STARR/count_fragment/TFX2_DMSO/\n",
      "/work/kk319/out/CombEffect_STARR/count_fragment/TFX2_Dex/\n",
      "/work/kk319/out/CombEffect_STARR/count_fragment/TFX3_DMSO/\n",
      "/work/kk319/out/CombEffect_STARR/count_fragment/TFX3_Dex/\n",
      "/work/kk319/out/CombEffect_STARR/count_fragment/TFX4_DMSO/\n",
      "/work/kk319/out/CombEffect_STARR/count_fragment/TFX4_Dex/\n",
      "/work/kk319/out/CombEffect_STARR/count_fragment/TFX5_DMSO/\n",
      "/work/kk319/out/CombEffect_STARR/count_fragment/TFX5_Dex/\n",
      "/work/kk319/out/CombEffect_STARR/count_fragment/TFX_DMSO/\n",
      "/work/kk319/out/CombEffect_STARR/count_fragment/TFX_Dex/\n"
     ]
    }
   ],
   "source": [
    "%%bash\n",
    "source config.sh\n",
    "ls -d ${FD_WRK}/count_fragment/*/"
   ]
  },
  {
   "cell_type": "markdown",
   "metadata": {},
   "source": [
    "## Count fragments"
   ]
  },
  {
   "cell_type": "markdown",
   "metadata": {},
   "source": [
    "**Test loop**"
   ]
  },
  {
   "cell_type": "code",
   "execution_count": 21,
   "metadata": {},
   "outputs": [
    {
     "name": "stdout",
     "output_type": "stream",
     "text": [
      "/work/kk319/out/CombEffect_STARR/data/Input/\n",
      "Input\n",
      "/work/kk319/out/CombEffect_STARR/data/Input1/\n",
      "Input1\n",
      "/work/kk319/out/CombEffect_STARR/data/Input2/\n",
      "Input2\n",
      "/work/kk319/out/CombEffect_STARR/data/Input3/\n",
      "Input3\n",
      "/work/kk319/out/CombEffect_STARR/data/Input4/\n",
      "Input4\n",
      "/work/kk319/out/CombEffect_STARR/data/Input5/\n",
      "Input5\n",
      "/work/kk319/out/CombEffect_STARR/data/TFX2_DMSO/\n",
      "TFX2_DMSO\n",
      "/work/kk319/out/CombEffect_STARR/data/TFX2_Dex/\n",
      "TFX2_Dex\n",
      "/work/kk319/out/CombEffect_STARR/data/TFX3_DMSO/\n",
      "TFX3_DMSO\n",
      "/work/kk319/out/CombEffect_STARR/data/TFX3_Dex/\n",
      "TFX3_Dex\n",
      "/work/kk319/out/CombEffect_STARR/data/TFX4_DMSO/\n",
      "TFX4_DMSO\n",
      "/work/kk319/out/CombEffect_STARR/data/TFX4_Dex/\n",
      "TFX4_Dex\n",
      "/work/kk319/out/CombEffect_STARR/data/TFX5_DMSO/\n",
      "TFX5_DMSO\n",
      "/work/kk319/out/CombEffect_STARR/data/TFX5_Dex/\n",
      "TFX5_Dex\n",
      "/work/kk319/out/CombEffect_STARR/data/TFX_DMSO/\n",
      "TFX_DMSO\n",
      "/work/kk319/out/CombEffect_STARR/data/TFX_Dex/\n",
      "TFX_Dex\n"
     ]
    }
   ],
   "source": [
    "%%bash\n",
    "source config.sh\n",
    "FD_BEDS=($(ls -d ${FD_WRK}/data/*/))\n",
    "for SLURM_ARRAY_TASK_ID in {0..15}; do\n",
    "    FD_BED=${FD_BEDS[${SLURM_ARRAY_TASK_ID}]}\n",
    "    SAMPLE=$(basename ${FD_BED})\n",
    "    \n",
    "    echo ${FD_BED}\n",
    "    echo ${SAMPLE}\n",
    "done"
   ]
  },
  {
   "cell_type": "markdown",
   "metadata": {},
   "source": [
    "**Count fragments for each sample**"
   ]
  },
  {
   "cell_type": "code",
   "execution_count": 23,
   "metadata": {},
   "outputs": [
    {
     "name": "stdout",
     "output_type": "stream",
     "text": [
      "Submitted batch job 13847502\n"
     ]
    }
   ],
   "source": [
    "%%bash\n",
    "source config.sh\n",
    "\n",
    "### run script using sbatch\n",
    "sbatch -p scavenger \\\n",
    "    --array=0-15 \\\n",
    "    --mem 8G \\\n",
    "    -o ${FD_LOG}/count_fragment_per1.%a.txt \\\n",
    "    <<'EOF'\n",
    "#!/bin/bash\n",
    "### set directories and global parameters\n",
    "source config.sh\n",
    "TARGET=target_PER1\n",
    "\n",
    "### set input and output files\n",
    "FD_BEDS=($(ls -d ${FD_WRK}/data/*/))\n",
    "FD_BED=${FD_BEDS[${SLURM_ARRAY_TASK_ID}]}\n",
    "FN_BED=${TARGET}.bed\n",
    "\n",
    "SAMPLE=$(basename ${FD_BED})\n",
    "FD_CNT=${FD_WRK}/count_fragment/${SAMPLE}\n",
    "FN_CNT=${TARGET}.bed\n",
    "\n",
    "### print start message\n",
    "echo \"Slurm Array Index: \" ${SLURM_ARRAY_TASK_ID}\n",
    "echo \"Input  file:       \" ${FD_BED}/${FN_BED}\n",
    "echo \"Output file:       \" ${FD_CNT}/${FN_CNT}\n",
    "echo\n",
    "echo \"Show the first few lines of the input file\"\n",
    "echo ${FD_BED}/${FN_BED}\n",
    "head ${FD_BED}/${FN_BED}\n",
    "\n",
    "### init: create output folder if not exist\n",
    "mkdir -p ${FD_CNT}\n",
    "\n",
    "### count the fragments and arrange output to a proper bed file\n",
    "cat ${FD_BED}/${FN_BED} |\\\n",
    "    sort    |\\\n",
    "    uniq -c |\\\n",
    "    awk '{$(NF+1)=$1;$1=\"\"}1'   |\\\n",
    "    sed -e 's/^[[:space:]]*//'  |\\\n",
    "    sed -e 's/[[:space:]]/\\t/g' > ${FD_CNT}/${FN_CNT}\n",
    "\n",
    "\n",
    "\n",
    "### print end message\n",
    "echo\n",
    "echo \"Show the first few lines of the output file\"\n",
    "echo ${FD_CNT}/${FN_CNT}\n",
    "head ${FD_CNT}/${FN_CNT}\n",
    "\n",
    "EOF"
   ]
  },
  {
   "cell_type": "markdown",
   "metadata": {},
   "source": [
    "## calculate GC content"
   ]
  },
  {
   "cell_type": "markdown",
   "metadata": {},
   "source": [
    "**Test loop**"
   ]
  },
  {
   "cell_type": "code",
   "execution_count": 24,
   "metadata": {},
   "outputs": [
    {
     "name": "stdout",
     "output_type": "stream",
     "text": [
      "/work/kk319/out/CombEffect_STARR/count_fragment/Input/\n",
      "Input\n",
      "/work/kk319/out/CombEffect_STARR/count_fragment/Input1/\n",
      "Input1\n",
      "/work/kk319/out/CombEffect_STARR/count_fragment/Input2/\n",
      "Input2\n",
      "/work/kk319/out/CombEffect_STARR/count_fragment/Input3/\n",
      "Input3\n",
      "/work/kk319/out/CombEffect_STARR/count_fragment/Input4/\n",
      "Input4\n",
      "/work/kk319/out/CombEffect_STARR/count_fragment/Input5/\n",
      "Input5\n",
      "/work/kk319/out/CombEffect_STARR/count_fragment/TFX2_DMSO/\n",
      "TFX2_DMSO\n",
      "/work/kk319/out/CombEffect_STARR/count_fragment/TFX2_Dex/\n",
      "TFX2_Dex\n",
      "/work/kk319/out/CombEffect_STARR/count_fragment/TFX3_DMSO/\n",
      "TFX3_DMSO\n",
      "/work/kk319/out/CombEffect_STARR/count_fragment/TFX3_Dex/\n",
      "TFX3_Dex\n",
      "/work/kk319/out/CombEffect_STARR/count_fragment/TFX4_DMSO/\n",
      "TFX4_DMSO\n",
      "/work/kk319/out/CombEffect_STARR/count_fragment/TFX4_Dex/\n",
      "TFX4_Dex\n",
      "/work/kk319/out/CombEffect_STARR/count_fragment/TFX5_DMSO/\n",
      "TFX5_DMSO\n",
      "/work/kk319/out/CombEffect_STARR/count_fragment/TFX5_Dex/\n",
      "TFX5_Dex\n",
      "/work/kk319/out/CombEffect_STARR/count_fragment/TFX_DMSO/\n",
      "TFX_DMSO\n",
      "/work/kk319/out/CombEffect_STARR/count_fragment/TFX_Dex/\n",
      "TFX_Dex\n"
     ]
    }
   ],
   "source": [
    "%%bash\n",
    "source config.sh\n",
    "FD_BEDS=($(ls -d ${FD_WRK}/count_fragment/*/))\n",
    "for SLURM_ARRAY_TASK_ID in {0..15}; do\n",
    "    FD_BED=${FD_BEDS[${SLURM_ARRAY_TASK_ID}]}\n",
    "    SAMPLE=$(basename ${FD_BED})\n",
    "    \n",
    "    echo ${FD_BED}\n",
    "    echo ${SAMPLE}\n",
    "done"
   ]
  },
  {
   "cell_type": "code",
   "execution_count": 28,
   "metadata": {},
   "outputs": [
    {
     "name": "stdout",
     "output_type": "stream",
     "text": [
      "Bedtools 2.27.1\n",
      "Submitted batch job 13852762\n"
     ]
    }
   ],
   "source": [
    "%%bash\n",
    "module load Bedtools\n",
    "source config.sh\n",
    "\n",
    "### run script using sbatch\n",
    "sbatch -p scavenger \\\n",
    "    --array=0-15 \\\n",
    "    --mem 8G \\\n",
    "    -o ${FD_LOG}/count_fragment_per1.%a.txt \\\n",
    "    <<'EOF'\n",
    "#!/bin/bash\n",
    "### set directories and global parameters\n",
    "source config.sh\n",
    "TARGET=target_PER1\n",
    "\n",
    "### set input and output files\n",
    "FD_CNTS=($(ls -d ${FD_WRK}/count_fragment/*/))\n",
    "FD_CNT=${FD_CNTS[${SLURM_ARRAY_TASK_ID}]}\n",
    "FN_CNT=${TARGET}.bed\n",
    "\n",
    "FD_GEN=${FD_ANN}/genome/hg38_fasta\n",
    "FN_GEN=chr17.fa\n",
    "\n",
    "SAMPLE=$(basename ${FD_CNT})\n",
    "FD_OUT=${FD_CNT}\n",
    "FN_OUT=${TARGET}_annot.bed\n",
    "\n",
    "### print start message\n",
    "echo \"Slurm Array Index: \" ${SLURM_ARRAY_TASK_ID}\n",
    "echo \"Input  file:       \" ${FD_CNT}/${FN_CNT}\n",
    "echo \"Output file:       \" ${FD_OUT}/${FN_OUT}\n",
    "echo\n",
    "echo \"Show the first few lines of the input file\"\n",
    "echo ${FD_CNT}/${FN_CNT}\n",
    "head ${FD_CNT}/${FN_CNT}\n",
    "\n",
    "### count the fragments and arrange output to a proper bed file\n",
    "bedtools nuc -fi ${FD_GEN}/${FN_GEN} -bed ${FD_CNT}/${FN_CNT} > ${FD_OUT}/${FN_OUT}\n",
    "\n",
    "\n",
    "### print end message\n",
    "echo\n",
    "echo \"Show the first few lines of the output file\"\n",
    "echo ${FD_OUT}/${FN_OUT}\n",
    "head ${FD_OUT}/${FN_OUT}\n",
    "\n",
    "EOF"
   ]
  },
  {
   "cell_type": "code",
   "execution_count": 30,
   "metadata": {},
   "outputs": [
    {
     "name": "stdout",
     "output_type": "stream",
     "text": [
      "Slurm Array Index:  1\n",
      "Input  file:        /work/kk319/out/CombEffect_STARR/count_fragment/Input1//target_PER1.bed\n",
      "Output file:        /work/kk319/out/CombEffect_STARR/count_fragment/Input1//target_PER1_annot.bed\n",
      "\n",
      "Show the first few lines of the input file\n",
      "/work/kk319/out/CombEffect_STARR/count_fragment/Input1//target_PER1.bed\n",
      "chr17\t8148117\t8149012\t1\n",
      "chr17\t8148122\t8149107\t1\n",
      "chr17\t8148178\t8149194\t1\n",
      "chr17\t8148188\t8149154\t1\n",
      "chr17\t8148190\t8149151\t1\n",
      "chr17\t8148220\t8149108\t1\n",
      "chr17\t8148280\t8149232\t1\n",
      "chr17\t8148401\t8149372\t1\n",
      "chr17\t8148548\t8149585\t1\n",
      "chr17\t8148913\t8149953\t1\n",
      "\n",
      "Show the first few lines of the output file\n",
      "/work/kk319/out/CombEffect_STARR/count_fragment/Input1//target_PER1_annot.bed\n",
      "#1_usercol\t2_usercol\t3_usercol\t4_usercol\t5_pct_at\t6_pct_gc\t7_num_A\t8_num_C\t9_num_G\t10_num_T\t11_num_N\t12_num_oth\t13_seq_len\n",
      "chr17\t8148117\t8149012\t1\t0.423464\t0.576536\t196\t268\t248\t183\t0\t0\t895\n",
      "chr17\t8148122\t8149107\t1\t0.428426\t0.571574\t219\t290\t273\t203\t0\t0\t985\n",
      "chr17\t8148178\t8149194\t1\t0.431102\t0.568898\t235\t289\t289\t203\t0\t0\t1016\n",
      "chr17\t8148188\t8149154\t1\t0.427536\t0.572464\t222\t275\t278\t191\t0\t0\t966\n",
      "chr17\t8148190\t8149151\t1\t0.427680\t0.572321\t220\t273\t277\t191\t0\t0\t961\n",
      "chr17\t8148220\t8149108\t1\t0.433559\t0.566441\t206\t255\t248\t179\t0\t0\t888\n",
      "chr17\t8148280\t8149232\t1\t0.443277\t0.556723\t242\t272\t258\t180\t0\t0\t952\n",
      "chr17\t8148401\t8149372\t1\t0.450051\t0.549949\t253\t271\t263\t184\t0\t0\t971\n",
      "chr17\t8148548\t8149585\t1\t0.415622\t0.584378\t260\t300\t306\t171\t0\t0\t1037\n"
     ]
    }
   ],
   "source": [
    "%%bash\n",
    "source config.sh\n",
    "cat ${FD_LOG}/count_fragment_per1.1.txt"
   ]
  },
  {
   "cell_type": "code",
   "execution_count": null,
   "metadata": {},
   "outputs": [],
   "source": []
  },
  {
   "cell_type": "code",
   "execution_count": null,
   "metadata": {},
   "outputs": [],
   "source": []
  },
  {
   "cell_type": "markdown",
   "metadata": {},
   "source": [
    "## Show directories"
   ]
  },
  {
   "cell_type": "markdown",
   "metadata": {},
   "source": [
    "**input directory**"
   ]
  },
  {
   "cell_type": "code",
   "execution_count": 1,
   "metadata": {},
   "outputs": [
    {
     "name": "stdout",
     "output_type": "stream",
     "text": [
      "\u001b[0m\u001b[01;34m/data/reddylab/Kuei/out/CombEffect_STARR/data/Input/\u001b[0m/\n",
      "\u001b[01;34m/data/reddylab/Kuei/out/CombEffect_STARR/data/Input1/\u001b[0m/\n",
      "\u001b[01;34m/data/reddylab/Kuei/out/CombEffect_STARR/data/Input2/\u001b[0m/\n",
      "\u001b[01;34m/data/reddylab/Kuei/out/CombEffect_STARR/data/Input3/\u001b[0m/\n",
      "\u001b[01;34m/data/reddylab/Kuei/out/CombEffect_STARR/data/Input4/\u001b[0m/\n",
      "\u001b[01;34m/data/reddylab/Kuei/out/CombEffect_STARR/data/Input5/\u001b[0m/\n",
      "\u001b[01;34m/data/reddylab/Kuei/out/CombEffect_STARR/data/TFX2_Dex/\u001b[0m/\n",
      "\u001b[01;34m/data/reddylab/Kuei/out/CombEffect_STARR/data/TFX2_DMSO/\u001b[0m/\n",
      "\u001b[01;34m/data/reddylab/Kuei/out/CombEffect_STARR/data/TFX3_Dex/\u001b[0m/\n",
      "\u001b[01;34m/data/reddylab/Kuei/out/CombEffect_STARR/data/TFX3_DMSO/\u001b[0m/\n",
      "\u001b[01;34m/data/reddylab/Kuei/out/CombEffect_STARR/data/TFX4_Dex/\u001b[0m/\n",
      "\u001b[01;34m/data/reddylab/Kuei/out/CombEffect_STARR/data/TFX4_DMSO/\u001b[0m/\n",
      "\u001b[01;34m/data/reddylab/Kuei/out/CombEffect_STARR/data/TFX5_Dex/\u001b[0m/\n",
      "\u001b[01;34m/data/reddylab/Kuei/out/CombEffect_STARR/data/TFX5_DMSO/\u001b[0m/\n",
      "\u001b[01;34m/data/reddylab/Kuei/out/CombEffect_STARR/data/TFX_Dex/\u001b[0m/\n",
      "\u001b[01;34m/data/reddylab/Kuei/out/CombEffect_STARR/data/TFX_DMSO/\u001b[0m/\n",
      "\u001b[m"
     ]
    }
   ],
   "source": [
    "ls -d /data/reddylab/Kuei/out/CombEffect_STARR/data/*/"
   ]
  },
  {
   "cell_type": "markdown",
   "metadata": {},
   "source": [
    "**Output directory**"
   ]
  },
  {
   "cell_type": "code",
   "execution_count": 2,
   "metadata": {},
   "outputs": [
    {
     "name": "stdout",
     "output_type": "stream",
     "text": [
      "\u001b[0m\u001b[01;34m/data/reddylab/Kuei/out/CombEffect_STARR/count/\u001b[0m/\n",
      "\u001b[m"
     ]
    }
   ],
   "source": [
    "ls -d /data/reddylab/Kuei/out/CombEffect_STARR/count/"
   ]
  },
  {
   "cell_type": "markdown",
   "metadata": {},
   "source": [
    "**Check total number of fragments for an input for each chromosome**"
   ]
  },
  {
   "cell_type": "code",
   "execution_count": 3,
   "metadata": {},
   "outputs": [
    {
     "name": "stdout",
     "output_type": "stream",
     "text": [
      "   949984 /data/reddylab/Kuei/out/CombEffect_STARR/data/Input1/chr10.bed\n",
      "   957067 /data/reddylab/Kuei/out/CombEffect_STARR/data/Input1/chr11.bed\n",
      "   864820 /data/reddylab/Kuei/out/CombEffect_STARR/data/Input1/chr12.bed\n",
      "   518479 /data/reddylab/Kuei/out/CombEffect_STARR/data/Input1/chr13.bed\n",
      "   569802 /data/reddylab/Kuei/out/CombEffect_STARR/data/Input1/chr14.bed\n",
      "   552557 /data/reddylab/Kuei/out/CombEffect_STARR/data/Input1/chr15.bed\n",
      "   642853 /data/reddylab/Kuei/out/CombEffect_STARR/data/Input1/chr16.bed\n",
      "   630820 /data/reddylab/Kuei/out/CombEffect_STARR/data/Input1/chr17.bed\n",
      "   456513 /data/reddylab/Kuei/out/CombEffect_STARR/data/Input1/chr18.bed\n",
      "   490817 /data/reddylab/Kuei/out/CombEffect_STARR/data/Input1/chr19.bed\n",
      "  1586763 /data/reddylab/Kuei/out/CombEffect_STARR/data/Input1/chr1.bed\n",
      "   530862 /data/reddylab/Kuei/out/CombEffect_STARR/data/Input1/chr20.bed\n",
      "   226692 /data/reddylab/Kuei/out/CombEffect_STARR/data/Input1/chr21.bed\n",
      "   345218 /data/reddylab/Kuei/out/CombEffect_STARR/data/Input1/chr22.bed\n",
      "  1517981 /data/reddylab/Kuei/out/CombEffect_STARR/data/Input1/chr2.bed\n",
      "  1232997 /data/reddylab/Kuei/out/CombEffect_STARR/data/Input1/chr3.bed\n",
      "   983838 /data/reddylab/Kuei/out/CombEffect_STARR/data/Input1/chr4.bed\n",
      "  1081054 /data/reddylab/Kuei/out/CombEffect_STARR/data/Input1/chr5.bed\n",
      "   979759 /data/reddylab/Kuei/out/CombEffect_STARR/data/Input1/chr6.bed\n",
      "   971505 /data/reddylab/Kuei/out/CombEffect_STARR/data/Input1/chr7.bed\n",
      "   889714 /data/reddylab/Kuei/out/CombEffect_STARR/data/Input1/chr8.bed\n",
      "   798518 /data/reddylab/Kuei/out/CombEffect_STARR/data/Input1/chr9.bed\n",
      "   886405 /data/reddylab/Kuei/out/CombEffect_STARR/data/Input1/chrX.bed\n",
      "     1612 /data/reddylab/Kuei/out/CombEffect_STARR/data/Input1/chrY.bed\n",
      " 18666630 total\n"
     ]
    }
   ],
   "source": [
    "%%bash\n",
    "wc -l /data/reddylab/Kuei/out/CombEffect_STARR/data/Input1/*"
   ]
  },
  {
   "cell_type": "markdown",
   "metadata": {},
   "source": [
    "## Count fragments for Input"
   ]
  },
  {
   "cell_type": "markdown",
   "metadata": {},
   "source": [
    "### Test looping input directories"
   ]
  },
  {
   "cell_type": "code",
   "execution_count": 4,
   "metadata": {},
   "outputs": [
    {
     "name": "stdout",
     "output_type": "stream",
     "text": [
      "Input\n",
      "/data/reddylab/Kuei/out/CombEffect_STARR/data/Input/\n",
      "/data/reddylab/Kuei/out/CombEffect_STARR/count/Input\n",
      "Input1\n",
      "/data/reddylab/Kuei/out/CombEffect_STARR/data/Input1/\n",
      "/data/reddylab/Kuei/out/CombEffect_STARR/count/Input1\n",
      "Input2\n",
      "/data/reddylab/Kuei/out/CombEffect_STARR/data/Input2/\n",
      "/data/reddylab/Kuei/out/CombEffect_STARR/count/Input2\n",
      "Input3\n",
      "/data/reddylab/Kuei/out/CombEffect_STARR/data/Input3/\n",
      "/data/reddylab/Kuei/out/CombEffect_STARR/count/Input3\n",
      "Input4\n",
      "/data/reddylab/Kuei/out/CombEffect_STARR/data/Input4/\n",
      "/data/reddylab/Kuei/out/CombEffect_STARR/count/Input4\n",
      "Input5\n",
      "/data/reddylab/Kuei/out/CombEffect_STARR/data/Input5/\n",
      "/data/reddylab/Kuei/out/CombEffect_STARR/count/Input5\n"
     ]
    }
   ],
   "source": [
    "%%bash\n",
    "FD_WRK=/data/reddylab/Kuei/out/CombEffect_STARR\n",
    "FD_BEDS=($(ls -d ${FD_WRK}/data/Input*/))\n",
    "FD_CNT=${FD_WRK}/count\n",
    "for FD_BED in ${FD_BEDS[@]}; do\n",
    "    echo $(basename ${FD_BED})\n",
    "    echo ${FD_BED}\n",
    "    echo ${FD_CNT}/$(basename ${FD_BED})\n",
    "done"
   ]
  },
  {
   "cell_type": "markdown",
   "metadata": {},
   "source": [
    "### Get counts for each input chr17"
   ]
  },
  {
   "cell_type": "code",
   "execution_count": 5,
   "metadata": {},
   "outputs": [
    {
     "name": "stdout",
     "output_type": "stream",
     "text": [
      "Submitted batch job 25434957\n"
     ]
    }
   ],
   "source": [
    "%%bash\n",
    "### set environment\n",
    "module load perl\n",
    "module load gcc\n",
    "source /data/reddylab/software/miniconda2/bin/activate alex_dev\n",
    "export PATH=/data/reddylab/software/homer/bin/:$PATH\n",
    "\n",
    "### set log file directory\n",
    "FD_LOG=/gpfsa/fs1/data/reddylab/Kuei/out/CombEffect_STARR/log\n",
    "\n",
    "### run script using sbatch\n",
    "sbatch -pnew,all \\\n",
    "    --array=0-5 \\\n",
    "    --mem 8G \\\n",
    "    -o ${FD_LOG}/prep_count_input.%a.txt \\\n",
    "    <<'EOF'\n",
    "#!/bin/bash\n",
    "### set directories and global parameters\n",
    "FD_WRK=/data/reddylab/Kuei/out/CombEffect_STARR\n",
    "FD_BEDS=($(ls -d ${FD_WRK}/data/Input*/))\n",
    "FD_CNT=${FD_WRK}/count\n",
    "CHROM=chr17\n",
    "\n",
    "### set input files\n",
    "FD_BED=${FD_BEDS[${SLURM_ARRAY_TASK_ID}]}\n",
    "FN_BED=${CHROM}.bed\n",
    "\n",
    "### set output files\n",
    "FN_CNT1=cnt_PER1.bed\n",
    "FN_CNT2=cnt_${CHROM}.bed\n",
    "\n",
    "### print start message\n",
    "echo \"Slurm Array Index: \" ${SLURM_ARRAY_TASK_ID}\n",
    "echo \"Input  file:       \" ${FD_BED}/${FN_BED}\n",
    "echo \"Output file:       \" ${FD_CNT}/$(basename ${FD_BED})/${FN_CNT1}\n",
    "echo \"Output file:       \" ${FD_CNT}/$(basename ${FD_BED})/${FN_CNT2}\n",
    "echo\n",
    "echo \"Show the first few lines of the input file\"\n",
    "echo ${FD_BED}/${FN_BED}\n",
    "head ${FD_BED}/${FN_BED}\n",
    "\n",
    "### init: create folder\n",
    "mkdir -p ${FD_CNT}/$(basename ${FD_BED})\n",
    "\n",
    "### count the fragments and arrange output to a proper bed file (chr17:PER1)\n",
    "awk -F $'\\t' '($2 >= 8148987 && $2 <= 8159379)' ${FD_BED}/${FN_BED} |\\\n",
    "    sort    |\\\n",
    "    uniq -c |\\\n",
    "    awk '{$(NF+1)=$1;$1=\"\"}1'   |\\\n",
    "    sed -e 's/^[[:space:]]*//'  |\\\n",
    "    sed -e 's/[[:space:]]/\\t/g'  \\\n",
    "    > ${FD_CNT}/$(basename ${FD_BED})/${FN_CNT1}\n",
    "\n",
    "### count the fragments and arrange output to a proper bed file (chr17 total)\n",
    "cat ${FD_BED}/${FN_BED} |\\\n",
    "    sort    |\\\n",
    "    uniq -c |\\\n",
    "    awk '{$(NF+1)=$1;$1=\"\"}1'   |\\\n",
    "    sed -e 's/^[[:space:]]*//'  |\\\n",
    "    sed -e 's/[[:space:]]/\\t/g'  \\\n",
    "    > ${FD_CNT}/$(basename ${FD_BED})/${FN_CNT2}\n",
    "\n",
    "### print end message\n",
    "echo\n",
    "echo \"Show the first few lines of the output file\"\n",
    "echo ${FD_CNT}/$(basename ${FD_BED})/${FN_CNT1}\n",
    "head ${FD_CNT}/$(basename ${FD_BED})/${FN_CNT1}\n",
    "echo\n",
    "echo \"Show the first few lines of the output file\"\n",
    "echo ${FD_CNT}/$(basename ${FD_BED})/${FN_CNT2}\n",
    "head ${FD_CNT}/$(basename ${FD_BED})/${FN_CNT2}\n",
    "\n",
    "EOF"
   ]
  },
  {
   "cell_type": "markdown",
   "metadata": {},
   "source": [
    "**Check log file**"
   ]
  },
  {
   "cell_type": "code",
   "execution_count": 10,
   "metadata": {},
   "outputs": [
    {
     "name": "stdout",
     "output_type": "stream",
     "text": [
      "Slurm Array Index:  0\n",
      "Input  file:        /data/reddylab/Kuei/out/CombEffect_STARR/data/Input//chr17.bed\n",
      "Output file:        /data/reddylab/Kuei/out/CombEffect_STARR/count/Input/cnt_PER1.bed\n",
      "Output file:        /data/reddylab/Kuei/out/CombEffect_STARR/count/Input/cnt_chr17.bed\n",
      "\n",
      "Show the first few lines of the input file\n",
      "/data/reddylab/Kuei/out/CombEffect_STARR/data/Input//chr17.bed\n",
      "chr17\t201123\t201925\n",
      "chr17\t201160\t201968\n",
      "chr17\t201202\t202074\n",
      "chr17\t201259\t202052\n",
      "chr17\t201366\t202130\n",
      "chr17\t206174\t207307\n",
      "chr17\t206269\t207286\n",
      "chr17\t206283\t207194\n",
      "chr17\t206324\t207359\n",
      "chr17\t206326\t207274\n",
      "\n",
      "Show the first few lines of the output file\n",
      "/data/reddylab/Kuei/out/CombEffect_STARR/count/Input/cnt_PER1.bed\n",
      "chr17\t8148989\t8149875\t1\n",
      "chr17\t8148991\t8149950\t1\n",
      "chr17\t8148991\t8149951\t2\n",
      "chr17\t8148992\t8149951\t1\n",
      "chr17\t8148999\t8149919\t1\n",
      "chr17\t8149006\t8149923\t1\n",
      "chr17\t8149008\t8150003\t1\n",
      "chr17\t8149008\t8150057\t1\n",
      "chr17\t8149012\t8150052\t1\n",
      "chr17\t8149022\t8149951\t1\n",
      "\n",
      "Show the first few lines of the output file\n",
      "/data/reddylab/Kuei/out/CombEffect_STARR/count/Input/cnt_chr17.bed\n",
      "chr17\t10000001\t10000909\t1\n",
      "chr17\t10000097\t10001138\t1\n",
      "chr17\t10000104\t10001051\t1\n",
      "chr17\t10000112\t10000955\t1\n",
      "chr17\t10000131\t10001070\t2\n",
      "chr17\t10000134\t10001169\t1\n",
      "chr17\t10000150\t10001133\t1\n",
      "chr17\t10000153\t10001218\t1\n",
      "chr17\t10000160\t10001059\t1\n",
      "chr17\t10000162\t10001116\t1\n"
     ]
    }
   ],
   "source": [
    "%%bash\n",
    "FD_LOG=/gpfs/fs1/data/reddylab/Kuei/out/CombEffect_STARR/log\n",
    "cat ${FD_LOG}/prep_count_input.0.txt"
   ]
  },
  {
   "cell_type": "markdown",
   "metadata": {},
   "source": [
    "## Count fragments for output (DMSO)"
   ]
  },
  {
   "cell_type": "markdown",
   "metadata": {},
   "source": [
    "### Test looping DMSO directories"
   ]
  },
  {
   "cell_type": "code",
   "execution_count": 6,
   "metadata": {},
   "outputs": [
    {
     "name": "stdout",
     "output_type": "stream",
     "text": [
      "TFX2_DMSO\n",
      "/data/reddylab/Kuei/out/CombEffect_STARR/data/TFX2_DMSO/\n",
      "/data/reddylab/Kuei/out/CombEffect_STARR/count/TFX2_DMSO\n",
      "TFX3_DMSO\n",
      "/data/reddylab/Kuei/out/CombEffect_STARR/data/TFX3_DMSO/\n",
      "/data/reddylab/Kuei/out/CombEffect_STARR/count/TFX3_DMSO\n",
      "TFX4_DMSO\n",
      "/data/reddylab/Kuei/out/CombEffect_STARR/data/TFX4_DMSO/\n",
      "/data/reddylab/Kuei/out/CombEffect_STARR/count/TFX4_DMSO\n",
      "TFX5_DMSO\n",
      "/data/reddylab/Kuei/out/CombEffect_STARR/data/TFX5_DMSO/\n",
      "/data/reddylab/Kuei/out/CombEffect_STARR/count/TFX5_DMSO\n",
      "TFX_DMSO\n",
      "/data/reddylab/Kuei/out/CombEffect_STARR/data/TFX_DMSO/\n",
      "/data/reddylab/Kuei/out/CombEffect_STARR/count/TFX_DMSO\n"
     ]
    }
   ],
   "source": [
    "%%bash\n",
    "FD_WRK=/data/reddylab/Kuei/out/CombEffect_STARR\n",
    "FD_BEDS=($(ls -d ${FD_WRK}/data/TFX*_DMSO/))\n",
    "FD_CNT=${FD_WRK}/count\n",
    "for FD_BED in ${FD_BEDS[@]}; do\n",
    "    echo $(basename ${FD_BED})\n",
    "    echo ${FD_BED}\n",
    "    echo ${FD_CNT}/$(basename ${FD_BED})\n",
    "done"
   ]
  },
  {
   "cell_type": "markdown",
   "metadata": {},
   "source": [
    "### Get counts for each DMSO chr17"
   ]
  },
  {
   "cell_type": "code",
   "execution_count": 7,
   "metadata": {},
   "outputs": [
    {
     "name": "stdout",
     "output_type": "stream",
     "text": [
      "Submitted batch job 25434963\n"
     ]
    }
   ],
   "source": [
    "%%bash\n",
    "### set environment\n",
    "module load perl\n",
    "module load gcc\n",
    "source /data/reddylab/software/miniconda2/bin/activate alex_dev\n",
    "export PATH=/data/reddylab/software/homer/bin/:$PATH\n",
    "\n",
    "### set log file directory\n",
    "FD_LOG=/gpfs/fs1/data/reddylab/Kuei/out/CombEffect_STARR/log\n",
    "\n",
    "### run script using sbatch\n",
    "sbatch -pnew,all \\\n",
    "    --array=0-4 \\\n",
    "    --mem 8G \\\n",
    "    -o ${FD_LOG}/prep_count_output_dmso.%a.txt \\\n",
    "    <<'EOF'\n",
    "#!/bin/bash\n",
    "### set directories and global parameters\n",
    "FD_WRK=/data/reddylab/Kuei/out/CombEffect_STARR\n",
    "FD_BEDS=($(ls -d ${FD_WRK}/data/TFX*_DMSO/))\n",
    "FD_CNT=${FD_WRK}/count\n",
    "CHROM=chr17\n",
    "\n",
    "### set input files\n",
    "FD_BED=${FD_BEDS[${SLURM_ARRAY_TASK_ID}]}\n",
    "FN_BED=${CHROM}.bed\n",
    "\n",
    "### set output files\n",
    "FN_CNT1=cnt_PER1.bed\n",
    "FN_CNT2=cnt_${CHROM}.bed\n",
    "\n",
    "### print start message\n",
    "echo \"Slurm Array Index: \" ${SLURM_ARRAY_TASK_ID}\n",
    "echo \"Input  file:       \" ${FD_BED}/${FN_BED}\n",
    "echo \"Output file:       \" ${FD_CNT}/$(basename ${FD_BED})/${FN_CNT1}\n",
    "echo \"Output file:       \" ${FD_CNT}/$(basename ${FD_BED})/${FN_CNT2}\n",
    "echo\n",
    "echo \"Show the first few lines of the input file\"\n",
    "echo ${FD_BED}/${FN_BED}\n",
    "head ${FD_BED}/${FN_BED}\n",
    "\n",
    "### init: create folder\n",
    "mkdir -p ${FD_CNT}/$(basename ${FD_BED})\n",
    "\n",
    "### count the fragments and arrange output to a proper bed file (chr17:PER1)\n",
    "awk -F $'\\t' '($2 >= 8148987 && $2 <= 8159379)' ${FD_BED}/${FN_BED} |\\\n",
    "    sort    |\\\n",
    "    uniq -c |\\\n",
    "    awk '{$(NF+1)=$1;$1=\"\"}1'   |\\\n",
    "    sed -e 's/^[[:space:]]*//'  |\\\n",
    "    sed -e 's/[[:space:]]/\\t/g'  \\\n",
    "    > ${FD_CNT}/$(basename ${FD_BED})/${FN_CNT1}\n",
    "\n",
    "### count the fragments and arrange output to a proper bed file (chr17 total)\n",
    "cat ${FD_BED}/${FN_BED} |\\\n",
    "    sort    |\\\n",
    "    uniq -c |\\\n",
    "    awk '{$(NF+1)=$1;$1=\"\"}1'   |\\\n",
    "    sed -e 's/^[[:space:]]*//'  |\\\n",
    "    sed -e 's/[[:space:]]/\\t/g'  \\\n",
    "    > ${FD_CNT}/$(basename ${FD_BED})/${FN_CNT2}\n",
    "\n",
    "### print end message\n",
    "echo\n",
    "echo \"Show the first few lines of the output file\"\n",
    "echo ${FD_CNT}/$(basename ${FD_BED})/${FN_CNT1}\n",
    "head ${FD_CNT}/$(basename ${FD_BED})/${FN_CNT1}\n",
    "echo\n",
    "echo \"Show the first few lines of the output file\"\n",
    "echo ${FD_CNT}/$(basename ${FD_BED})/${FN_CNT2}\n",
    "head ${FD_CNT}/$(basename ${FD_BED})/${FN_CNT2}\n",
    "\n",
    "EOF"
   ]
  },
  {
   "cell_type": "markdown",
   "metadata": {},
   "source": [
    "**Check log file**"
   ]
  },
  {
   "cell_type": "code",
   "execution_count": 11,
   "metadata": {},
   "outputs": [
    {
     "name": "stdout",
     "output_type": "stream",
     "text": [
      "Slurm Array Index:  4\n",
      "Input  file:        /data/reddylab/Kuei/out/CombEffect_STARR/data/TFX_DMSO//chr17.bed\n",
      "Output file:        /data/reddylab/Kuei/out/CombEffect_STARR/count/TFX_DMSO/cnt_PER1.bed\n",
      "Output file:        /data/reddylab/Kuei/out/CombEffect_STARR/count/TFX_DMSO/cnt_chr17.bed\n",
      "\n",
      "Show the first few lines of the input file\n",
      "/data/reddylab/Kuei/out/CombEffect_STARR/data/TFX_DMSO//chr17.bed\n",
      "chr17\t87067\t87989\n",
      "chr17\t158043\t159067\n",
      "chr17\t158043\t159066\n",
      "chr17\t159137\t160020\n",
      "chr17\t170572\t172531\n",
      "chr17\t172392\t173515\n",
      "chr17\t172393\t173515\n",
      "chr17\t172396\t173514\n",
      "chr17\t197679\t198597\n",
      "chr17\t197681\t198597\n",
      "\n",
      "Show the first few lines of the output file\n",
      "/data/reddylab/Kuei/out/CombEffect_STARR/count/TFX_DMSO/cnt_PER1.bed\n",
      "chr17\t8149037\t8150068\t1\n",
      "chr17\t8149037\t8150069\t1\n",
      "chr17\t8149037\t8150070\t1\n",
      "chr17\t8149037\t8150071\t1\n",
      "chr17\t8149038\t8150070\t1\n",
      "chr17\t8149038\t8150071\t1\n",
      "chr17\t8149072\t8150073\t1\n",
      "chr17\t8149072\t8150075\t1\n",
      "chr17\t8149073\t8150075\t1\n",
      "chr17\t8149121\t8150080\t2\n",
      "\n",
      "Show the first few lines of the output file\n",
      "/data/reddylab/Kuei/out/CombEffect_STARR/count/TFX_DMSO/cnt_chr17.bed\n",
      "chr17\t10000013\t10001044\t1\n",
      "chr17\t10000013\t10001045\t1\n",
      "chr17\t10000026\t10001091\t1\n",
      "chr17\t10000120\t10001029\t1\n",
      "chr17\t10000120\t10001031\t1\n",
      "chr17\t10000120\t10001032\t1\n",
      "chr17\t10000120\t10001033\t2\n",
      "chr17\t10000122\t10001032\t1\n",
      "chr17\t10000122\t10001033\t1\n",
      "chr17\t10000160\t10001055\t1\n"
     ]
    }
   ],
   "source": [
    "%%bash\n",
    "FD_LOG=/gpfs/fs1/data/reddylab/Kuei/out/CombEffect_STARR/log\n",
    "cat ${FD_LOG}/prep_count_output_dmso.4.txt"
   ]
  },
  {
   "cell_type": "markdown",
   "metadata": {},
   "source": [
    "## Count fragments for output (Dex)"
   ]
  },
  {
   "cell_type": "markdown",
   "metadata": {},
   "source": [
    "### Test looping Dex directories"
   ]
  },
  {
   "cell_type": "code",
   "execution_count": 8,
   "metadata": {},
   "outputs": [
    {
     "name": "stdout",
     "output_type": "stream",
     "text": [
      "TFX2_Dex\n",
      "/data/reddylab/Kuei/out/CombEffect_STARR/data/TFX2_Dex/\n",
      "/data/reddylab/Kuei/out/CombEffect_STARR/count/TFX2_Dex\n",
      "TFX3_Dex\n",
      "/data/reddylab/Kuei/out/CombEffect_STARR/data/TFX3_Dex/\n",
      "/data/reddylab/Kuei/out/CombEffect_STARR/count/TFX3_Dex\n",
      "TFX4_Dex\n",
      "/data/reddylab/Kuei/out/CombEffect_STARR/data/TFX4_Dex/\n",
      "/data/reddylab/Kuei/out/CombEffect_STARR/count/TFX4_Dex\n",
      "TFX5_Dex\n",
      "/data/reddylab/Kuei/out/CombEffect_STARR/data/TFX5_Dex/\n",
      "/data/reddylab/Kuei/out/CombEffect_STARR/count/TFX5_Dex\n",
      "TFX_Dex\n",
      "/data/reddylab/Kuei/out/CombEffect_STARR/data/TFX_Dex/\n",
      "/data/reddylab/Kuei/out/CombEffect_STARR/count/TFX_Dex\n"
     ]
    }
   ],
   "source": [
    "%%bash\n",
    "FD_WRK=/data/reddylab/Kuei/out/CombEffect_STARR\n",
    "FD_BEDS=($(ls -d ${FD_WRK}/data/TFX*_Dex/))\n",
    "FD_CNT=${FD_WRK}/count\n",
    "for FD_BED in ${FD_BEDS[@]}; do\n",
    "    echo $(basename ${FD_BED})\n",
    "    echo ${FD_BED}\n",
    "    echo ${FD_CNT}/$(basename ${FD_BED})\n",
    "done"
   ]
  },
  {
   "cell_type": "markdown",
   "metadata": {},
   "source": [
    "### Get counts for each Dex chr17"
   ]
  },
  {
   "cell_type": "code",
   "execution_count": 9,
   "metadata": {},
   "outputs": [
    {
     "name": "stdout",
     "output_type": "stream",
     "text": [
      "Submitted batch job 25434968\n"
     ]
    }
   ],
   "source": [
    "%%bash\n",
    "### set environment\n",
    "module load perl\n",
    "module load gcc\n",
    "source /data/reddylab/software/miniconda2/bin/activate alex_dev\n",
    "export PATH=/data/reddylab/software/homer/bin/:$PATH\n",
    "\n",
    "### set log file directory\n",
    "FD_LOG=/gpfs/fs1/data/reddylab/Kuei/out/CombEffect_STARR/log\n",
    "\n",
    "### run script using sbatch\n",
    "sbatch -pnew,all \\\n",
    "    --array=0-4 \\\n",
    "    --mem 8G \\\n",
    "    -o ${FD_LOG}/prep_count_output_dex.%a.txt \\\n",
    "    <<'EOF'\n",
    "#!/bin/bash\n",
    "### set directories and global parameters\n",
    "FD_WRK=/data/reddylab/Kuei/out/CombEffect_STARR\n",
    "FD_BEDS=($(ls -d ${FD_WRK}/data/TFX*_Dex/))\n",
    "FD_CNT=${FD_WRK}/count\n",
    "CHROM=chr17\n",
    "\n",
    "### set input files\n",
    "FD_BED=${FD_BEDS[${SLURM_ARRAY_TASK_ID}]}\n",
    "FN_BED=${CHROM}.bed\n",
    "\n",
    "### set output files\n",
    "FN_CNT1=cnt_PER1.bed\n",
    "FN_CNT2=cnt_${CHROM}.bed\n",
    "\n",
    "### print start message\n",
    "echo \"Slurm Array Index: \" ${SLURM_ARRAY_TASK_ID}\n",
    "echo \"Input  file:       \" ${FD_BED}/${FN_BED}\n",
    "echo \"Output file:       \" ${FD_CNT}/$(basename ${FD_BED})/${FN_CNT1}\n",
    "echo \"Output file:       \" ${FD_CNT}/$(basename ${FD_BED})/${FN_CNT2}\n",
    "echo\n",
    "echo \"Show the first few lines of the input file\"\n",
    "echo ${FD_BED}/${FN_BED}\n",
    "head ${FD_BED}/${FN_BED}\n",
    "\n",
    "### init: create folder\n",
    "mkdir -p ${FD_CNT}/$(basename ${FD_BED})\n",
    "\n",
    "### count the fragments and arrange output to a proper bed file (chr17:PER1)\n",
    "awk -F $'\\t' '($2 >= 8148987 && $2 <= 8159379)' ${FD_BED}/${FN_BED} |\\\n",
    "    sort    |\\\n",
    "    uniq -c |\\\n",
    "    awk '{$(NF+1)=$1;$1=\"\"}1'   |\\\n",
    "    sed -e 's/^[[:space:]]*//'  |\\\n",
    "    sed -e 's/[[:space:]]/\\t/g'  \\\n",
    "    > ${FD_CNT}/$(basename ${FD_BED})/${FN_CNT1}\n",
    "\n",
    "### count the fragments and arrange output to a proper bed file (chr17 total)\n",
    "cat ${FD_BED}/${FN_BED} |\\\n",
    "    sort    |\\\n",
    "    uniq -c |\\\n",
    "    awk '{$(NF+1)=$1;$1=\"\"}1'   |\\\n",
    "    sed -e 's/^[[:space:]]*//'  |\\\n",
    "    sed -e 's/[[:space:]]/\\t/g'  \\\n",
    "    > ${FD_CNT}/$(basename ${FD_BED})/${FN_CNT2}\n",
    "\n",
    "### print end message\n",
    "echo\n",
    "echo \"Show the first few lines of the output file\"\n",
    "echo ${FD_CNT}/$(basename ${FD_BED})/${FN_CNT1}\n",
    "head ${FD_CNT}/$(basename ${FD_BED})/${FN_CNT1}\n",
    "echo\n",
    "echo \"Show the first few lines of the output file\"\n",
    "echo ${FD_CNT}/$(basename ${FD_BED})/${FN_CNT2}\n",
    "head ${FD_CNT}/$(basename ${FD_BED})/${FN_CNT2}\n",
    "\n",
    "EOF"
   ]
  },
  {
   "cell_type": "markdown",
   "metadata": {},
   "source": [
    "**Check log file**"
   ]
  },
  {
   "cell_type": "code",
   "execution_count": 12,
   "metadata": {},
   "outputs": [
    {
     "name": "stdout",
     "output_type": "stream",
     "text": [
      "Slurm Array Index:  4\n",
      "Input  file:        /data/reddylab/Kuei/out/CombEffect_STARR/data/TFX_Dex//chr17.bed\n",
      "Output file:        /data/reddylab/Kuei/out/CombEffect_STARR/count/TFX_Dex/cnt_PER1.bed\n",
      "Output file:        /data/reddylab/Kuei/out/CombEffect_STARR/count/TFX_Dex/cnt_chr17.bed\n",
      "\n",
      "Show the first few lines of the input file\n",
      "/data/reddylab/Kuei/out/CombEffect_STARR/data/TFX_Dex//chr17.bed\n",
      "chr17\t83638\t84547\n",
      "chr17\t92503\t93508\n",
      "chr17\t152590\t153715\n",
      "chr17\t159027\t160041\n",
      "chr17\t173500\t174429\n",
      "chr17\t174388\t175345\n",
      "chr17\t174388\t175346\n",
      "chr17\t197582\t198583\n",
      "chr17\t201248\t202059\n",
      "chr17\t201249\t202059\n",
      "\n",
      "Show the first few lines of the output file\n",
      "/data/reddylab/Kuei/out/CombEffect_STARR/count/TFX_Dex/cnt_PER1.bed\n",
      "chr17\t8148987\t8150011\t1\n",
      "chr17\t8148987\t8150013\t1\n",
      "chr17\t8148987\t8150014\t2\n",
      "chr17\t8148987\t8150015\t3\n",
      "chr17\t8148988\t8150014\t1\n",
      "chr17\t8148988\t8150015\t1\n",
      "chr17\t8149016\t8150080\t2\n",
      "chr17\t8149016\t8150081\t2\n",
      "chr17\t8149018\t8150117\t1\n",
      "chr17\t8149019\t8150117\t1\n",
      "\n",
      "Show the first few lines of the output file\n",
      "/data/reddylab/Kuei/out/CombEffect_STARR/count/TFX_Dex/cnt_chr17.bed\n",
      "chr17\t10000013\t10001044\t1\n",
      "chr17\t10000013\t10001045\t2\n",
      "chr17\t10000014\t10001044\t1\n",
      "chr17\t10000014\t10001045\t1\n",
      "chr17\t10000026\t10001090\t1\n",
      "chr17\t10000090\t10001098\t1\n",
      "chr17\t10000091\t10001100\t1\n",
      "chr17\t10000103\t10001181\t1\n",
      "chr17\t10000140\t10001107\t1\n",
      "chr17\t10000140\t10001110\t1\n"
     ]
    }
   ],
   "source": [
    "%%bash\n",
    "FD_LOG=/gpfs/fs1/data/reddylab/Kuei/out/CombEffect_STARR/log\n",
    "cat ${FD_LOG}/prep_count_output_dex.4.txt"
   ]
  },
  {
   "cell_type": "code",
   "execution_count": null,
   "metadata": {},
   "outputs": [],
   "source": []
  }
 ],
 "metadata": {
  "kernelspec": {
   "display_name": "Python 3 (ipykernel)",
   "language": "python",
   "name": "python3"
  },
  "language_info": {
   "codemirror_mode": {
    "name": "ipython",
    "version": 3
   },
   "file_extension": ".py",
   "mimetype": "text/x-python",
   "name": "python",
   "nbconvert_exporter": "python",
   "pygments_lexer": "ipython3",
   "version": "3.7.4"
  }
 },
 "nbformat": 4,
 "nbformat_minor": 4
}
