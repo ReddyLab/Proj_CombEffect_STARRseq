{
 "cells": [
  {
   "cell_type": "code",
   "execution_count": 1,
   "id": "2b6fc8ab-518e-46e1-b5bd-c559c5d8e005",
   "metadata": {},
   "outputs": [],
   "source": [
    "suppressMessages(suppressWarnings(source(\"config.R\")))"
   ]
  },
  {
   "cell_type": "code",
   "execution_count": 2,
   "id": "86f2ecea-c583-4f26-999c-3549bc56bb81",
   "metadata": {},
   "outputs": [
    {
     "data": {
      "text/html": [
       "'/work/kk319'"
      ],
      "text/latex": [
       "'/work/kk319'"
      ],
      "text/markdown": [
       "'/work/kk319'"
      ],
      "text/plain": [
       "[1] \"/work/kk319\""
      ]
     },
     "metadata": {},
     "output_type": "display_data"
    }
   ],
   "source": [
    "FD_WRK"
   ]
  },
  {
   "cell_type": "code",
   "execution_count": 3,
   "id": "623701d3-b932-4fec-8a55-ab64749ce9dd",
   "metadata": {},
   "outputs": [
    {
     "data": {
      "text/html": [
       "<ol class=list-inline>\n",
       "\t<li>'AP1_2.bed'</li>\n",
       "\t<li>'AP1_2.coverage.bed'</li>\n",
       "\t<li>'AP1_2.merge.bed'</li>\n",
       "\t<li>'NR_20.bed'</li>\n",
       "\t<li>'NR_20.coverage.bed'</li>\n",
       "\t<li>'NR_20.merge.bed'</li>\n",
       "\t<li>'PER1.bed'</li>\n",
       "\t<li>'PER1.bed.gz'</li>\n",
       "\t<li>'region_target.bed'</li>\n",
       "</ol>\n"
      ],
      "text/latex": [
       "\\begin{enumerate*}\n",
       "\\item 'AP1\\_2.bed'\n",
       "\\item 'AP1\\_2.coverage.bed'\n",
       "\\item 'AP1\\_2.merge.bed'\n",
       "\\item 'NR\\_20.bed'\n",
       "\\item 'NR\\_20.coverage.bed'\n",
       "\\item 'NR\\_20.merge.bed'\n",
       "\\item 'PER1.bed'\n",
       "\\item 'PER1.bed.gz'\n",
       "\\item 'region\\_target.bed'\n",
       "\\end{enumerate*}\n"
      ],
      "text/markdown": [
       "1. 'AP1_2.bed'\n",
       "2. 'AP1_2.coverage.bed'\n",
       "3. 'AP1_2.merge.bed'\n",
       "4. 'NR_20.bed'\n",
       "5. 'NR_20.coverage.bed'\n",
       "6. 'NR_20.merge.bed'\n",
       "7. 'PER1.bed'\n",
       "8. 'PER1.bed.gz'\n",
       "9. 'region_target.bed'\n",
       "\n",
       "\n"
      ],
      "text/plain": [
       "[1] \"AP1_2.bed\"          \"AP1_2.coverage.bed\" \"AP1_2.merge.bed\"   \n",
       "[4] \"NR_20.bed\"          \"NR_20.coverage.bed\" \"NR_20.merge.bed\"   \n",
       "[7] \"PER1.bed\"           \"PER1.bed.gz\"        \"region_target.bed\" "
      ]
     },
     "metadata": {},
     "output_type": "display_data"
    }
   ],
   "source": [
    "dir(\"/work/kk319/annotation/motif_cluster_jvierstra/hg38_archetype_motifs_v1/PER1\")"
   ]
  },
  {
   "cell_type": "code",
   "execution_count": 5,
   "id": "a9b3fab5-d755-4834-b6b6-f04554506bd5",
   "metadata": {},
   "outputs": [],
   "source": [
    "ctypes = c(col_character(), col_integer(), col_integer(), col_integer(), col_integer())\n",
    "cnames = c(\"Chrom\", \"Start\", \"End\", \"Index\", \"Depth\")\n",
    "\n",
    "fpath = \"/work/kk319/annotation/motif_cluster_jvierstra/hg38_archetype_motifs_v1/PER1/NR_20.coverage.bed\"\n",
    "dat_NR20 = read_tsv(fpath, col_types = ctypes, col_names = cnames)\n",
    "\n",
    "fpath = \"/work/kk319/annotation/motif_cluster_jvierstra/hg38_archetype_motifs_v1/PER1/AP1_2.coverage.bed\"\n",
    "dat_AP12 = read_tsv(fpath, col_types = ctypes, col_names = cnames)"
   ]
  },
  {
   "cell_type": "code",
   "execution_count": 6,
   "id": "5bacaacb-7075-4d7b-9417-8b19f0191ff0",
   "metadata": {},
   "outputs": [
    {
     "data": {
      "text/html": [
       "<table>\n",
       "<thead><tr><th scope=col>Chrom</th><th scope=col>Start</th><th scope=col>End</th><th scope=col>Index</th><th scope=col>Depth</th></tr></thead>\n",
       "<tbody>\n",
       "\t<tr><td>chr17  </td><td>8148000</td><td>8160000</td><td>1      </td><td>0      </td></tr>\n",
       "\t<tr><td>chr17  </td><td>8148000</td><td>8160000</td><td>2      </td><td>0      </td></tr>\n",
       "\t<tr><td>chr17  </td><td>8148000</td><td>8160000</td><td>3      </td><td>0      </td></tr>\n",
       "\t<tr><td>chr17  </td><td>8148000</td><td>8160000</td><td>4      </td><td>0      </td></tr>\n",
       "\t<tr><td>chr17  </td><td>8148000</td><td>8160000</td><td>5      </td><td>0      </td></tr>\n",
       "\t<tr><td>chr17  </td><td>8148000</td><td>8160000</td><td>6      </td><td>0      </td></tr>\n",
       "</tbody>\n",
       "</table>\n"
      ],
      "text/latex": [
       "\\begin{tabular}{r|lllll}\n",
       " Chrom & Start & End & Index & Depth\\\\\n",
       "\\hline\n",
       "\t chr17   & 8148000 & 8160000 & 1       & 0      \\\\\n",
       "\t chr17   & 8148000 & 8160000 & 2       & 0      \\\\\n",
       "\t chr17   & 8148000 & 8160000 & 3       & 0      \\\\\n",
       "\t chr17   & 8148000 & 8160000 & 4       & 0      \\\\\n",
       "\t chr17   & 8148000 & 8160000 & 5       & 0      \\\\\n",
       "\t chr17   & 8148000 & 8160000 & 6       & 0      \\\\\n",
       "\\end{tabular}\n"
      ],
      "text/markdown": [
       "\n",
       "| Chrom | Start | End | Index | Depth |\n",
       "|---|---|---|---|---|\n",
       "| chr17   | 8148000 | 8160000 | 1       | 0       |\n",
       "| chr17   | 8148000 | 8160000 | 2       | 0       |\n",
       "| chr17   | 8148000 | 8160000 | 3       | 0       |\n",
       "| chr17   | 8148000 | 8160000 | 4       | 0       |\n",
       "| chr17   | 8148000 | 8160000 | 5       | 0       |\n",
       "| chr17   | 8148000 | 8160000 | 6       | 0       |\n",
       "\n"
      ],
      "text/plain": [
       "  Chrom Start   End     Index Depth\n",
       "1 chr17 8148000 8160000 1     0    \n",
       "2 chr17 8148000 8160000 2     0    \n",
       "3 chr17 8148000 8160000 3     0    \n",
       "4 chr17 8148000 8160000 4     0    \n",
       "5 chr17 8148000 8160000 5     0    \n",
       "6 chr17 8148000 8160000 6     0    "
      ]
     },
     "metadata": {},
     "output_type": "display_data"
    }
   ],
   "source": [
    "head(dat_NR20)"
   ]
  },
  {
   "cell_type": "code",
   "execution_count": 7,
   "id": "32e805ad-ab46-44de-a7e2-3a9cc28e7f26",
   "metadata": {},
   "outputs": [
    {
     "data": {
      "text/html": [
       "<table>\n",
       "<thead><tr><th scope=col>Chrom</th><th scope=col>Start</th><th scope=col>End</th><th scope=col>Index</th><th scope=col>Depth</th></tr></thead>\n",
       "<tbody>\n",
       "\t<tr><td>chr17  </td><td>8148000</td><td>8160000</td><td>1      </td><td>0      </td></tr>\n",
       "\t<tr><td>chr17  </td><td>8148000</td><td>8160000</td><td>2      </td><td>0      </td></tr>\n",
       "\t<tr><td>chr17  </td><td>8148000</td><td>8160000</td><td>3      </td><td>0      </td></tr>\n",
       "\t<tr><td>chr17  </td><td>8148000</td><td>8160000</td><td>4      </td><td>0      </td></tr>\n",
       "\t<tr><td>chr17  </td><td>8148000</td><td>8160000</td><td>5      </td><td>0      </td></tr>\n",
       "\t<tr><td>chr17  </td><td>8148000</td><td>8160000</td><td>6      </td><td>0      </td></tr>\n",
       "</tbody>\n",
       "</table>\n"
      ],
      "text/latex": [
       "\\begin{tabular}{r|lllll}\n",
       " Chrom & Start & End & Index & Depth\\\\\n",
       "\\hline\n",
       "\t chr17   & 8148000 & 8160000 & 1       & 0      \\\\\n",
       "\t chr17   & 8148000 & 8160000 & 2       & 0      \\\\\n",
       "\t chr17   & 8148000 & 8160000 & 3       & 0      \\\\\n",
       "\t chr17   & 8148000 & 8160000 & 4       & 0      \\\\\n",
       "\t chr17   & 8148000 & 8160000 & 5       & 0      \\\\\n",
       "\t chr17   & 8148000 & 8160000 & 6       & 0      \\\\\n",
       "\\end{tabular}\n"
      ],
      "text/markdown": [
       "\n",
       "| Chrom | Start | End | Index | Depth |\n",
       "|---|---|---|---|---|\n",
       "| chr17   | 8148000 | 8160000 | 1       | 0       |\n",
       "| chr17   | 8148000 | 8160000 | 2       | 0       |\n",
       "| chr17   | 8148000 | 8160000 | 3       | 0       |\n",
       "| chr17   | 8148000 | 8160000 | 4       | 0       |\n",
       "| chr17   | 8148000 | 8160000 | 5       | 0       |\n",
       "| chr17   | 8148000 | 8160000 | 6       | 0       |\n",
       "\n"
      ],
      "text/plain": [
       "  Chrom Start   End     Index Depth\n",
       "1 chr17 8148000 8160000 1     0    \n",
       "2 chr17 8148000 8160000 2     0    \n",
       "3 chr17 8148000 8160000 3     0    \n",
       "4 chr17 8148000 8160000 4     0    \n",
       "5 chr17 8148000 8160000 5     0    \n",
       "6 chr17 8148000 8160000 6     0    "
      ]
     },
     "metadata": {},
     "output_type": "display_data"
    }
   ],
   "source": [
    "head(dat_AP12)"
   ]
  },
  {
   "cell_type": "code",
   "execution_count": 19,
   "id": "1c252c81-fa80-4515-babe-aed176dbf672",
   "metadata": {},
   "outputs": [
    {
     "data": {
      "text/html": [
       "<table>\n",
       "<thead><tr><th scope=col>Chrom</th><th scope=col>Start</th><th scope=col>End</th><th scope=col>Index</th><th scope=col>Depth</th><th scope=col>Motif</th></tr></thead>\n",
       "<tbody>\n",
       "\t<tr><td>chr17  </td><td>8148000</td><td>8160000</td><td>1      </td><td>0      </td><td>NR20   </td></tr>\n",
       "\t<tr><td>chr17  </td><td>8148000</td><td>8160000</td><td>2      </td><td>0      </td><td>NR20   </td></tr>\n",
       "\t<tr><td>chr17  </td><td>8148000</td><td>8160000</td><td>3      </td><td>0      </td><td>NR20   </td></tr>\n",
       "\t<tr><td>chr17  </td><td>8148000</td><td>8160000</td><td>4      </td><td>0      </td><td>NR20   </td></tr>\n",
       "\t<tr><td>chr17  </td><td>8148000</td><td>8160000</td><td>5      </td><td>0      </td><td>NR20   </td></tr>\n",
       "\t<tr><td>chr17  </td><td>8148000</td><td>8160000</td><td>6      </td><td>0      </td><td>NR20   </td></tr>\n",
       "</tbody>\n",
       "</table>\n"
      ],
      "text/latex": [
       "\\begin{tabular}{r|llllll}\n",
       " Chrom & Start & End & Index & Depth & Motif\\\\\n",
       "\\hline\n",
       "\t chr17   & 8148000 & 8160000 & 1       & 0       & NR20   \\\\\n",
       "\t chr17   & 8148000 & 8160000 & 2       & 0       & NR20   \\\\\n",
       "\t chr17   & 8148000 & 8160000 & 3       & 0       & NR20   \\\\\n",
       "\t chr17   & 8148000 & 8160000 & 4       & 0       & NR20   \\\\\n",
       "\t chr17   & 8148000 & 8160000 & 5       & 0       & NR20   \\\\\n",
       "\t chr17   & 8148000 & 8160000 & 6       & 0       & NR20   \\\\\n",
       "\\end{tabular}\n"
      ],
      "text/markdown": [
       "\n",
       "| Chrom | Start | End | Index | Depth | Motif |\n",
       "|---|---|---|---|---|---|\n",
       "| chr17   | 8148000 | 8160000 | 1       | 0       | NR20    |\n",
       "| chr17   | 8148000 | 8160000 | 2       | 0       | NR20    |\n",
       "| chr17   | 8148000 | 8160000 | 3       | 0       | NR20    |\n",
       "| chr17   | 8148000 | 8160000 | 4       | 0       | NR20    |\n",
       "| chr17   | 8148000 | 8160000 | 5       | 0       | NR20    |\n",
       "| chr17   | 8148000 | 8160000 | 6       | 0       | NR20    |\n",
       "\n"
      ],
      "text/plain": [
       "  Chrom Start   End     Index Depth Motif\n",
       "1 chr17 8148000 8160000 1     0     NR20 \n",
       "2 chr17 8148000 8160000 2     0     NR20 \n",
       "3 chr17 8148000 8160000 3     0     NR20 \n",
       "4 chr17 8148000 8160000 4     0     NR20 \n",
       "5 chr17 8148000 8160000 5     0     NR20 \n",
       "6 chr17 8148000 8160000 6     0     NR20 "
      ]
     },
     "metadata": {},
     "output_type": "display_data"
    }
   ],
   "source": [
    "dat1 = dat_NR20 %>% mutate(Motif=\"NR20\")\n",
    "dat2 = dat_AP12 %>% mutate(Motif=\"AP1/2\")\n",
    "dat  = bind_rows(dat1, dat2)\n",
    "head(dat)"
   ]
  },
  {
   "cell_type": "code",
   "execution_count": 22,
   "id": "a86b3e2f-e3c7-4e06-9ca3-85116f2bba16",
   "metadata": {},
   "outputs": [
    {
     "data": {
      "image/png": "[encoded data removed]",
      "text/plain": [
       "plot without title"
      ]
     },
     "metadata": {},
     "output_type": "display_data"
    }
   ],
   "source": [
    "options(repr.plot.height=3, repr.plot.width=5)\n",
    "ggplot(dat, aes(x=Index, y=Motif, fill=Depth)) + geom_tile() + theme_bw()"
   ]
  },
  {
   "cell_type": "code",
   "execution_count": null,
   "id": "0d32f746-aa7c-454b-8c70-0c36883ebf33",
   "metadata": {},
   "outputs": [],
   "source": []
  }
 ],
 "metadata": {
  "kernelspec": {
   "display_name": "R",
   "language": "R",
   "name": "ir"
  },
  "language_info": {
   "codemirror_mode": "r",
   "file_extension": ".r",
   "mimetype": "text/x-r-source",
   "name": "R",
   "pygments_lexer": "r",
   "version": "3.6.1"
  }
 },
 "nbformat": 4,
 "nbformat_minor": 5
}
