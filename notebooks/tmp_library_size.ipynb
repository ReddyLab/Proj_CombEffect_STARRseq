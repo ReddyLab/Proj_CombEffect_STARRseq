{
 "cells": [
  {
   "cell_type": "code",
   "execution_count": 1,
   "id": "3367da9f-dfc8-4f13-94f3-1c3bd0035fab",
   "metadata": {},
   "outputs": [
    {
     "name": "stdout",
     "output_type": "stream",
     "text": [
      "\u001b[0m\u001b[01;34mCombEffect_STARR\u001b[0m  \u001b[01;32mCombEffect_STARR.tar.gz\u001b[0m\n"
     ]
    }
   ],
   "source": [
    "ls /work/kk319/out"
   ]
  },
  {
   "cell_type": "code",
   "execution_count": 3,
   "id": "f1026866-c587-4bb6-a26b-527b1ab3404e",
   "metadata": {},
   "outputs": [
    {
     "name": "stdout",
     "output_type": "stream",
     "text": [
      "\u001b[0m\u001b[01;34mInput\u001b[0m   \u001b[01;34mInput2\u001b[0m  \u001b[01;34mInput4\u001b[0m  \u001b[01;34mTFX2_DMSO\u001b[0m  \u001b[01;34mTFX3_DMSO\u001b[0m  \u001b[01;34mTFX4_DMSO\u001b[0m  \u001b[01;34mTFX5_DMSO\u001b[0m  \u001b[01;34mTFX_DMSO\u001b[0m\n",
      "\u001b[01;34mInput1\u001b[0m  \u001b[01;34mInput3\u001b[0m  \u001b[01;34mInput5\u001b[0m  \u001b[01;34mTFX2_Dex\u001b[0m   \u001b[01;34mTFX3_Dex\u001b[0m   \u001b[01;34mTFX4_Dex\u001b[0m   \u001b[01;34mTFX5_Dex\u001b[0m   \u001b[01;34mTFX_Dex\u001b[0m\n"
     ]
    }
   ],
   "source": [
    "ls /work/kk319/out/CombEffect_STARR/data"
   ]
  },
  {
   "cell_type": "code",
   "execution_count": 2,
   "id": "a1c6448f-87dd-4264-8a6d-b70860c20833",
   "metadata": {},
   "outputs": [
    {
     "data": {
      "text/plain": [
       "96444496"
      ]
     },
     "execution_count": 2,
     "metadata": {},
     "output_type": "execute_result"
    }
   ],
   "source": [
    "18666630 +20167924+23280988 +19003938 +15325016"
   ]
  },
  {
   "cell_type": "code",
   "execution_count": null,
   "id": "8ea0e928-d021-4f99-a0b6-ffb59a278ed7",
   "metadata": {},
   "outputs": [],
   "source": []
  }
 ],
 "metadata": {
  "kernelspec": {
   "display_name": "Python 3 (ipykernel)",
   "language": "python",
   "name": "python3"
  },
  "language_info": {
   "codemirror_mode": {
    "name": "ipython",
    "version": 3
   },
   "file_extension": ".py",
   "mimetype": "text/x-python",
   "name": "python",
   "nbconvert_exporter": "python",
   "pygments_lexer": "ipython3",
   "version": "3.7.4"
  }
 },
 "nbformat": 4,
 "nbformat_minor": 5
}
