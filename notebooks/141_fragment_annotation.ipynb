{
 "cells": [
  {
   "cell_type": "code",
   "execution_count": 1,
   "metadata": {},
   "outputs": [
    {
     "name": "stdout",
     "output_type": "stream",
     "text": [
      "chr17\t8148989\t8149875\t1\n",
      "chr17\t8148991\t8149950\t1\n",
      "chr17\t8148991\t8149951\t2\n",
      "chr17\t8148992\t8149951\t1\n",
      "chr17\t8148999\t8149919\t1\n",
      "chr17\t8149006\t8149923\t1\n",
      "chr17\t8149008\t8150003\t1\n",
      "chr17\t8149008\t8150057\t1\n",
      "chr17\t8149012\t8150052\t1\n",
      "chr17\t8149022\t8149951\t1\n",
      "chr1\t10022\t10338\n",
      "chr1\t180626\t181057\n",
      "chr1\t629777\t630092\n",
      "chr1\t818870\t819186\n",
      "chr1\t905200\t905664\n",
      "chr1\t906700\t907241\n",
      "chr1\t916591\t917225\n",
      "chr1\t917373\t917730\n",
      "chr1\t933094\t933441\n",
      "chr1\t940241\t940578\n"
     ]
    }
   ],
   "source": [
    "%%bash\n",
    "###\n",
    "FD_ANN=/data/reddylab/Kuei/out/annotation\n",
    "FD_WRK=/data/reddylab/Kuei/out/CombEffect_STARR\n",
    "FD_DAT=($(ls -d ${FD_WRK}/data/Input/))\n",
    "CHROM=chr17\n",
    "ANNOT=GCR\n",
    "\n",
    "###\n",
    "FN_DAT=cnt_${CHROM}.bed\n",
    "FN_OUT=ann_${CHROM}_${ANNOT}.bed\n",
    "\n",
    "FP_BED_A=${FD_DAT}/${FN_DAT}\n",
    "FP_BED_B=${FD_ANN}/cistrome/hg38_cistrome/${ANNOT}_HUMAN.A.bed\n",
    "FP_BED_O=${FD_DAT}/${FN_OUT}\n",
    "\n",
    "head ${FP_BED_A}\n",
    "head ${FP_BED_B}"
   ]
  },
  {
   "cell_type": "code",
   "execution_count": 2,
   "metadata": {},
   "outputs": [
    {
     "name": "stdout",
     "output_type": "stream",
     "text": [
      "/data/reddylab/Kuei/out/annotation/cistrome/hg38_cistrome/GCR_HUMAN.A.bed\n",
      "/data/reddylab/Kuei/out/annotation/cistrome/hg38_cistrome/GCR_HUMAN.B.bed\n",
      "/data/reddylab/Kuei/out/annotation/cistrome/hg38_cistrome/GCR_HUMAN.C.bed\n",
      "/data/reddylab/Kuei/out/annotation/cistrome/hg38_cistrome/GCR_HUMAN.D.bed\n"
     ]
    }
   ],
   "source": [
    "%%bash\n",
    "###\n",
    "FD_ANN=/data/reddylab/Kuei/out/annotation\n",
    "FD_WRK=/data/reddylab/Kuei/out/CombEffect_STARR\n",
    "FD_DAT=($(ls -d ${FD_WRK}/data/Input/))\n",
    "CHROM=chr17\n",
    "ANNOT=GCR\n",
    "\n",
    "ls ${FD_ANN}/cistrome/hg38_cistrome/${ANNOT}*"
   ]
  },
  {
   "cell_type": "code",
   "execution_count": 3,
   "metadata": {},
   "outputs": [
    {
     "name": "stdout",
     "output_type": "stream",
     "text": [
      "/data/reddylab/Kuei/out/annotation/cistrome/hg38_cistrome/JUNB_HUMAN.B.bed\n",
      "/data/reddylab/Kuei/out/annotation/cistrome/hg38_cistrome/JUNB_HUMAN.C.bed\n",
      "/data/reddylab/Kuei/out/annotation/cistrome/hg38_cistrome/JUND_HUMAN.A.bed\n",
      "/data/reddylab/Kuei/out/annotation/cistrome/hg38_cistrome/JUND_HUMAN.B.bed\n",
      "/data/reddylab/Kuei/out/annotation/cistrome/hg38_cistrome/JUND_HUMAN.C.bed\n",
      "/data/reddylab/Kuei/out/annotation/cistrome/hg38_cistrome/JUND_HUMAN.D.bed\n",
      "/data/reddylab/Kuei/out/annotation/cistrome/hg38_cistrome/JUN_HUMAN.A.bed\n",
      "/data/reddylab/Kuei/out/annotation/cistrome/hg38_cistrome/JUN_HUMAN.B.bed\n",
      "/data/reddylab/Kuei/out/annotation/cistrome/hg38_cistrome/JUN_HUMAN.C.bed\n",
      "/data/reddylab/Kuei/out/annotation/cistrome/hg38_cistrome/JUN_HUMAN.D.bed\n"
     ]
    }
   ],
   "source": [
    "%%bash\n",
    "###\n",
    "FD_ANN=/data/reddylab/Kuei/out/annotation\n",
    "FD_WRK=/data/reddylab/Kuei/out/CombEffect_STARR\n",
    "FD_DAT=($(ls -d ${FD_WRK}/data/Input/))\n",
    "CHROM=chr17\n",
    "ANNOT=JUN\n",
    "\n",
    "ls ${FD_ANN}/cistrome/hg38_cistrome/${ANNOT}*"
   ]
  },
  {
   "cell_type": "code",
   "execution_count": 4,
   "metadata": {},
   "outputs": [
    {
     "name": "stdout",
     "output_type": "stream",
     "text": [
      "/data/reddylab/Kuei/out/annotation/cistrome/hg38_cistrome/FOSB_HUMAN.C.bed\n",
      "/data/reddylab/Kuei/out/annotation/cistrome/hg38_cistrome/FOS_HUMAN.A.bed\n",
      "/data/reddylab/Kuei/out/annotation/cistrome/hg38_cistrome/FOS_HUMAN.B.bed\n",
      "/data/reddylab/Kuei/out/annotation/cistrome/hg38_cistrome/FOS_HUMAN.C.bed\n",
      "/data/reddylab/Kuei/out/annotation/cistrome/hg38_cistrome/FOS_HUMAN.D.bed\n",
      "/data/reddylab/Kuei/out/annotation/cistrome/hg38_cistrome/FOSL1_HUMAN.B.bed\n",
      "/data/reddylab/Kuei/out/annotation/cistrome/hg38_cistrome/FOSL1_HUMAN.C.bed\n",
      "/data/reddylab/Kuei/out/annotation/cistrome/hg38_cistrome/FOSL2_HUMAN.A.bed\n",
      "/data/reddylab/Kuei/out/annotation/cistrome/hg38_cistrome/FOSL2_HUMAN.B.bed\n",
      "/data/reddylab/Kuei/out/annotation/cistrome/hg38_cistrome/FOSL2_HUMAN.C.bed\n"
     ]
    }
   ],
   "source": [
    "%%bash\n",
    "###\n",
    "FD_ANN=/data/reddylab/Kuei/out/annotation\n",
    "FD_WRK=/data/reddylab/Kuei/out/CombEffect_STARR\n",
    "FD_DAT=($(ls -d ${FD_WRK}/data/Input/))\n",
    "CHROM=chr17\n",
    "ANNOT=FOS\n",
    "\n",
    "ls ${FD_ANN}/cistrome/hg38_cistrome/${ANNOT}*"
   ]
  },
  {
   "cell_type": "code",
   "execution_count": 21,
   "metadata": {},
   "outputs": [
    {
     "name": "stdout",
     "output_type": "stream",
     "text": [
      "/data/reddylab/Kuei/out/annotation/cistrome/hg38_cistrome/CREB1_HUMAN.A.bed\n",
      "/data/reddylab/Kuei/out/annotation/cistrome/hg38_cistrome/CREB1_HUMAN.B.bed\n",
      "/data/reddylab/Kuei/out/annotation/cistrome/hg38_cistrome/CREB1_HUMAN.C.bed\n",
      "/data/reddylab/Kuei/out/annotation/cistrome/hg38_cistrome/CREB1_HUMAN.D.bed\n"
     ]
    }
   ],
   "source": [
    "%%bash\n",
    "###\n",
    "FD_ANN=/data/reddylab/Kuei/out/annotation\n",
    "FD_WRK=/data/reddylab/Kuei/out/CombEffect_STARR\n",
    "FD_DAT=($(ls -d ${FD_WRK}/data/Input/))\n",
    "CHROM=chr17\n",
    "ANNOT=CREB1\n",
    "\n",
    "ls ${FD_ANN}/cistrome/hg38_cistrome/${ANNOT}*"
   ]
  },
  {
   "cell_type": "code",
   "execution_count": 8,
   "metadata": {},
   "outputs": [
    {
     "name": "stdout",
     "output_type": "stream",
     "text": [
      "GCR\n",
      "JUN\n",
      "FOS\n",
      "FOS\n"
     ]
    }
   ],
   "source": [
    "%%bash\n",
    "i=2\n",
    "ANNOTS=(GCR JUN FOS)\n",
    "echo ${ANNOTS[0]}\n",
    "echo ${ANNOTS[1]}\n",
    "echo ${ANNOTS[2]}\n",
    "echo ${ANNOTS[${i}]}"
   ]
  },
  {
   "cell_type": "code",
   "execution_count": null,
   "metadata": {},
   "outputs": [],
   "source": []
  },
  {
   "cell_type": "code",
   "execution_count": null,
   "metadata": {},
   "outputs": [],
   "source": []
  },
  {
   "cell_type": "code",
   "execution_count": 22,
   "metadata": {},
   "outputs": [
    {
     "name": "stdout",
     "output_type": "stream",
     "text": [
      "Submitted batch job 25382480\n"
     ]
    }
   ],
   "source": [
    "%%bash\n",
    "### set environment\n",
    "module load perl\n",
    "module load gcc\n",
    "module load bedtools2\n",
    "source /data/reddylab/software/miniconda2/bin/activate alex_dev\n",
    "export PATH=/data/reddylab/software/homer/bin/:$PATH\n",
    "\n",
    "### set log file directory\n",
    "FD_LOG=/gpfs/fs1/data/reddylab/Kuei/out/CombEffect_STARR/log\n",
    "\n",
    "### run script using sbatch\n",
    "sbatch -pnew,all \\\n",
    "    --array=0-3 \\\n",
    "    --mem 16G \\\n",
    "    -o ${FD_LOG}/prep_annot_input.%a.txt \\\n",
    "    <<'EOF'\n",
    "#!/bin/bash\n",
    "### set directories\n",
    "FD_ANN=/data/reddylab/Kuei/out/annotation\n",
    "FD_WRK=/data/reddylab/Kuei/out/CombEffect_STARR\n",
    "FD_DAT=($(ls -d ${FD_WRK}/data/Input/))\n",
    "CHROM=chr17\n",
    "ANNOTS=(GCR JUN FOS CREB1)\n",
    "\n",
    "###\n",
    "ANNOT=${ANNOTS[${SLURM_ARRAY_TASK_ID}]}\n",
    "FN_DAT=cnt_${CHROM}.bed\n",
    "FN_OUT=ann_${CHROM}_${ANNOT}.bed\n",
    "\n",
    "FP_BED_A=${FD_DAT}/${FN_DAT}\n",
    "FP_BED_B=${FD_ANN}/cistrome/hg38_cistrome/${ANNOT}_HUMAN.A.bed\n",
    "FP_BED_O=${FD_DAT}/${FN_OUT}\n",
    "\n",
    "###\n",
    "echo \"Slurm Array Index: \" ${SLURM_ARRAY_TASK_ID}\n",
    "echo \"Input  file: \" ${FP_BED_A}\n",
    "echo \"Input  file: \" ${FP_BED_B}\n",
    "echo \"Output file: \" ${FP_BED_O}\n",
    "echo\n",
    "echo \"Show the first few lines of the input file\"\n",
    "head ${FP_BED_A}\n",
    "head ${FP_BED_B}\n",
    "\n",
    "###\n",
    "bedtools intersect -a ${FP_BED_A} -b ${FP_BED_B} -wo > ${FP_BED_O}\n",
    "\n",
    "###\n",
    "echo\n",
    "echo \"Show the first few lines of the output file\"\n",
    "head ${FP_BED_O}\n",
    "\n",
    "EOF"
   ]
  },
  {
   "cell_type": "code",
   "execution_count": 23,
   "metadata": {},
   "outputs": [
    {
     "name": "stdout",
     "output_type": "stream",
     "text": [
      "/gpfs/fs1/data/reddylab/Kuei/out/CombEffect_STARR/log/prep_annot_input.0.txt\n",
      "/gpfs/fs1/data/reddylab/Kuei/out/CombEffect_STARR/log/prep_annot_input.1.txt\n",
      "/gpfs/fs1/data/reddylab/Kuei/out/CombEffect_STARR/log/prep_annot_input.2.txt\n",
      "/gpfs/fs1/data/reddylab/Kuei/out/CombEffect_STARR/log/prep_annot_input.3.txt\n",
      "/gpfs/fs1/data/reddylab/Kuei/out/CombEffect_STARR/log/prep_annot_input.txt\n"
     ]
    }
   ],
   "source": [
    "%%bash\n",
    "FD_LOG=/gpfs/fs1/data/reddylab/Kuei/out/CombEffect_STARR/log\n",
    "ls ${FD_LOG}/prep_annot_input.*"
   ]
  },
  {
   "cell_type": "code",
   "execution_count": 15,
   "metadata": {},
   "outputs": [
    {
     "name": "stdout",
     "output_type": "stream",
     "text": [
      "Slurm Array Index:  0\n",
      "Input  file:  /data/reddylab/Kuei/out/CombEffect_STARR/data/Input//cnt_chr17.bed\n",
      "Input  file:  /data/reddylab/Kuei/out/annotation/cistrome/hg38_cistrome/GCR_HUMAN.A.bed\n",
      "Output file:  /data/reddylab/Kuei/out/CombEffect_STARR/data/Input//ann_chr17_GCR.bed\n",
      "\n",
      "Show the first few lines of the input file\n",
      "chr17\t8148989\t8149875\t1\n",
      "chr17\t8148991\t8149950\t1\n",
      "chr17\t8148991\t8149951\t2\n",
      "chr17\t8148992\t8149951\t1\n",
      "chr17\t8148999\t8149919\t1\n",
      "chr17\t8149006\t8149923\t1\n",
      "chr17\t8149008\t8150003\t1\n",
      "chr17\t8149008\t8150057\t1\n",
      "chr17\t8149012\t8150052\t1\n",
      "chr17\t8149022\t8149951\t1\n",
      "chr1\t10022\t10338\n",
      "chr1\t180626\t181057\n",
      "chr1\t629777\t630092\n",
      "chr1\t818870\t819186\n",
      "chr1\t905200\t905664\n",
      "chr1\t906700\t907241\n",
      "chr1\t916591\t917225\n",
      "chr1\t917373\t917730\n",
      "chr1\t933094\t933441\n",
      "chr1\t940241\t940578\n",
      "\n",
      "Show the first few lines of the output file\n",
      "chr17\t8150135\t8151183\t1\tchr17\t8151182\t8151493\t1\n",
      "chr17\t8150184\t8151257\t1\tchr17\t8151182\t8151493\t75\n",
      "chr17\t8150185\t8151257\t1\tchr17\t8151182\t8151493\t75\n",
      "chr17\t8150205\t8151230\t1\tchr17\t8151182\t8151493\t48\n",
      "chr17\t8150215\t8151206\t1\tchr17\t8151182\t8151493\t24\n",
      "chr17\t8150218\t8151276\t1\tchr17\t8151182\t8151493\t94\n",
      "chr17\t8150249\t8151246\t1\tchr17\t8151182\t8151493\t64\n",
      "chr17\t8150260\t8151246\t1\tchr17\t8151182\t8151493\t64\n",
      "chr17\t8150291\t8151379\t1\tchr17\t8151182\t8151493\t197\n",
      "chr17\t8150299\t8151240\t1\tchr17\t8151182\t8151493\t58\n"
     ]
    }
   ],
   "source": [
    "cat /data/reddylab/Kuei/out/CombEffect_STARR/log/prep_annot_input.0.txt"
   ]
  },
  {
   "cell_type": "code",
   "execution_count": 16,
   "metadata": {},
   "outputs": [
    {
     "name": "stdout",
     "output_type": "stream",
     "text": [
      "Slurm Array Index:  1\n",
      "Input  file:  /data/reddylab/Kuei/out/CombEffect_STARR/data/Input//cnt_chr17.bed\n",
      "Input  file:  /data/reddylab/Kuei/out/annotation/cistrome/hg38_cistrome/JUN_HUMAN.A.bed\n",
      "Output file:  /data/reddylab/Kuei/out/CombEffect_STARR/data/Input//ann_chr17_JUN.bed\n",
      "\n",
      "Show the first few lines of the input file\n",
      "chr17\t8148989\t8149875\t1\n",
      "chr17\t8148991\t8149950\t1\n",
      "chr17\t8148991\t8149951\t2\n",
      "chr17\t8148992\t8149951\t1\n",
      "chr17\t8148999\t8149919\t1\n",
      "chr17\t8149006\t8149923\t1\n",
      "chr17\t8149008\t8150003\t1\n",
      "chr17\t8149008\t8150057\t1\n",
      "chr17\t8149012\t8150052\t1\n",
      "chr17\t8149022\t8149951\t1\n",
      "chr1\t629781\t630104\n",
      "chr1\t633872\t634190\n",
      "chr1\t778476\t778918\n",
      "chr1\t940163\t940617\n",
      "chr1\t966053\t966502\n",
      "chr1\t966844\t967153\n",
      "chr1\t1000103\t1001116\n",
      "chr1\t1021878\t1022218\n",
      "chr1\t1064157\t1064553\n",
      "chr1\t1079393\t1079956\n",
      "\n",
      "Show the first few lines of the output file\n",
      "chr17\t8153288\t8154373\t1\tchr17\t8154208\t8154628\t165\n",
      "chr17\t8153290\t8154266\t1\tchr17\t8154208\t8154628\t58\n",
      "chr17\t8153305\t8154323\t1\tchr17\t8154208\t8154628\t115\n",
      "chr17\t8153361\t8154250\t1\tchr17\t8154208\t8154628\t42\n",
      "chr17\t8153376\t8154251\t1\tchr17\t8154208\t8154628\t43\n",
      "chr17\t8153381\t8154434\t1\tchr17\t8154208\t8154628\t226\n",
      "chr17\t8153384\t8154220\t1\tchr17\t8154208\t8154628\t12\n",
      "chr17\t8153387\t8154355\t1\tchr17\t8154208\t8154628\t147\n",
      "chr17\t8153430\t8154319\t1\tchr17\t8154208\t8154628\t111\n",
      "chr17\t8153433\t8154497\t1\tchr17\t8154208\t8154628\t289\n"
     ]
    }
   ],
   "source": [
    "cat /data/reddylab/Kuei/out/CombEffect_STARR/log/prep_annot_input.1.txt"
   ]
  },
  {
   "cell_type": "code",
   "execution_count": 17,
   "metadata": {},
   "outputs": [
    {
     "name": "stdout",
     "output_type": "stream",
     "text": [
      "Slurm Array Index:  2\n",
      "Input  file:  /data/reddylab/Kuei/out/CombEffect_STARR/data/Input//cnt_chr17.bed\n",
      "Input  file:  /data/reddylab/Kuei/out/annotation/cistrome/hg38_cistrome/FOS_HUMAN.A.bed\n",
      "Output file:  /data/reddylab/Kuei/out/CombEffect_STARR/data/Input//ann_chr17_FOS.bed\n",
      "\n",
      "Show the first few lines of the input file\n",
      "chr17\t8148989\t8149875\t1\n",
      "chr17\t8148991\t8149950\t1\n",
      "chr17\t8148991\t8149951\t2\n",
      "chr17\t8148992\t8149951\t1\n",
      "chr17\t8148999\t8149919\t1\n",
      "chr17\t8149006\t8149923\t1\n",
      "chr17\t8149008\t8150003\t1\n",
      "chr17\t8149008\t8150057\t1\n",
      "chr17\t8149012\t8150052\t1\n",
      "chr17\t8149022\t8149951\t1\n",
      "chr1\t629774\t630091\n",
      "chr1\t633865\t634180\n",
      "chr1\t831655\t831996\n",
      "chr1\t966032\t966528\n",
      "chr1\t966828\t967213\n",
      "chr1\t1000731\t1001098\n",
      "chr1\t1064188\t1064547\n",
      "chr1\t1207913\t1208304\n",
      "chr1\t1231957\t1232282\n",
      "chr1\t1305395\t1305905\n",
      "\n",
      "Show the first few lines of the output file\n",
      "chr17\t8155456\t8156430\t1\tchr17\t8156347\t8156825\t83\n",
      "chr17\t8155557\t8156560\t1\tchr17\t8156347\t8156825\t213\n",
      "chr17\t8155560\t8156375\t1\tchr17\t8156347\t8156825\t28\n",
      "chr17\t8155586\t8156491\t1\tchr17\t8156347\t8156825\t144\n",
      "chr17\t8155593\t8156534\t1\tchr17\t8156347\t8156825\t187\n",
      "chr17\t8155628\t8156651\t1\tchr17\t8156347\t8156825\t304\n",
      "chr17\t8155628\t8156653\t1\tchr17\t8156347\t8156825\t306\n",
      "chr17\t8155634\t8156628\t1\tchr17\t8156347\t8156825\t281\n",
      "chr17\t8155638\t8156608\t1\tchr17\t8156347\t8156825\t261\n",
      "chr17\t8155681\t8156652\t1\tchr17\t8156347\t8156825\t305\n"
     ]
    }
   ],
   "source": [
    "cat /data/reddylab/Kuei/out/CombEffect_STARR/log/prep_annot_input.2.txt"
   ]
  },
  {
   "cell_type": "code",
   "execution_count": 24,
   "metadata": {},
   "outputs": [
    {
     "name": "stdout",
     "output_type": "stream",
     "text": [
      "Slurm Array Index:  3\n",
      "Input  file:  /data/reddylab/Kuei/out/CombEffect_STARR/data/Input//cnt_chr17.bed\n",
      "Input  file:  /data/reddylab/Kuei/out/annotation/cistrome/hg38_cistrome/CREB1_HUMAN.A.bed\n",
      "Output file:  /data/reddylab/Kuei/out/CombEffect_STARR/data/Input//ann_chr17_CREB1.bed\n",
      "\n",
      "Show the first few lines of the input file\n",
      "chr17\t8148989\t8149875\t1\n",
      "chr17\t8148991\t8149950\t1\n",
      "chr17\t8148991\t8149951\t2\n",
      "chr17\t8148992\t8149951\t1\n",
      "chr17\t8148999\t8149919\t1\n",
      "chr17\t8149006\t8149923\t1\n",
      "chr17\t8149008\t8150003\t1\n",
      "chr17\t8149008\t8150057\t1\n",
      "chr17\t8149012\t8150052\t1\n",
      "chr17\t8149022\t8149951\t1\n",
      "chr1\t629783\t630099\n",
      "chr1\t633851\t634188\n",
      "chr1\t778530\t778930\n",
      "chr1\t826879\t827864\n",
      "chr1\t869681\t870123\n",
      "chr1\t904499\t904933\n",
      "chr1\t921045\t921420\n",
      "chr1\t923604\t924102\n",
      "chr1\t959023\t959524\n",
      "chr1\t960400\t960823\n",
      "\n",
      "Show the first few lines of the output file\n",
      "chr17\t8151204\t8152259\t1\tchr17\t8152256\t8153070\t3\n",
      "chr17\t8151233\t8152266\t2\tchr17\t8152256\t8153070\t10\n",
      "chr17\t8151239\t8152260\t1\tchr17\t8152256\t8153070\t4\n",
      "chr17\t8151239\t8152261\t1\tchr17\t8152256\t8153070\t5\n",
      "chr17\t8151252\t8152321\t1\tchr17\t8152256\t8153070\t65\n",
      "chr17\t8151280\t8152290\t1\tchr17\t8152256\t8153070\t34\n",
      "chr17\t8151299\t8152341\t1\tchr17\t8152256\t8153070\t85\n",
      "chr17\t8151340\t8152427\t1\tchr17\t8152256\t8153070\t171\n",
      "chr17\t8151359\t8152380\t1\tchr17\t8152256\t8153070\t124\n",
      "chr17\t8151375\t8152364\t1\tchr17\t8152256\t8153070\t108\n"
     ]
    }
   ],
   "source": [
    "cat /data/reddylab/Kuei/out/CombEffect_STARR/log/prep_annot_input.3.txt"
   ]
  },
  {
   "cell_type": "code",
   "execution_count": 25,
   "metadata": {},
   "outputs": [
    {
     "name": "stdout",
     "output_type": "stream",
     "text": [
      "/data/reddylab/Kuei/out/CombEffect_STARR/data/Input//ann_chr17_CREB1.bed\n",
      "/data/reddylab/Kuei/out/CombEffect_STARR/data/Input//ann_chr17_FOS.bed\n",
      "/data/reddylab/Kuei/out/CombEffect_STARR/data/Input//ann_chr17_GCR.bed\n",
      "/data/reddylab/Kuei/out/CombEffect_STARR/data/Input//ann_chr17_JUN.bed\n"
     ]
    }
   ],
   "source": [
    "ls /data/reddylab/Kuei/out/CombEffect_STARR/data/Input//ann_chr17_*.bed"
   ]
  },
  {
   "cell_type": "code",
   "execution_count": null,
   "metadata": {},
   "outputs": [],
   "source": []
  }
 ],
 "metadata": {
  "kernelspec": {
   "display_name": "Python 3",
   "language": "python",
   "name": "python3"
  },
  "language_info": {
   "codemirror_mode": {
    "name": "ipython",
    "version": 3
   },
   "file_extension": ".py",
   "mimetype": "text/x-python",
   "name": "python",
   "nbconvert_exporter": "python",
   "pygments_lexer": "ipython3",
   "version": "3.7.3"
  }
 },
 "nbformat": 4,
 "nbformat_minor": 4
}
