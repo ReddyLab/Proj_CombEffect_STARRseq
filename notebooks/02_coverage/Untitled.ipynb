{
 "cells": [
  {
   "cell_type": "code",
   "execution_count": null,
   "id": "47a59164-7fd5-4cea-937d-628093340e4e",
   "metadata": {},
   "outputs": [
    {
     "name": "stdout",
     "output_type": "stream",
     "text": [
      "---------------------------- /opt/apps/modulefiles -----------------------------\u001b[m\n",
      "almaBTE/v1.3.2          GROMACS/2020-4              PLUMED/2.5.0             \u001b[m\n",
      "AMBER/18-GPU            GROMACS/2020-4-GPU          PLUMED/2.6.2             \u001b[m\n",
      "AMBER/18-GPU-update     GROMACS/2020-5-GPU-rhel8    potfit/20190901          \u001b[m\n",
      "AMBER/18-MPI            gsl/2.2.1                   Pplacer/1.1              \u001b[m\n",
      "AMBER/20-GPU            gsl/2.4                     PROJ/5.2.0               \u001b[m\n",
      "AMBER/20-MPI-GPU        gsl/2.6-rhel8               PROJ/6.1.0               \u001b[m\n",
      "Anaconda2/2.7.13        Gurobi/8.01                 PROJ/6.3.2-rhel8         \u001b[m\n",
      "Anaconda3/3-2019        Gurobi/8.11                 PROJ/7.2.1-rhel8         \u001b[m\n",
      "Anaconda3/3.5.2         HDF5-parallel/1.10.6        PRSice/2.3.3             \u001b[m\n",
      "Anaconda3/5.1.0         HISAT2/2.1.0                PRSice/3.2.3             \u001b[m\n",
      "Anaconda3/2021.05       HMMER/3.2.1                 Python-GPU/3.6.5         \u001b[m\n",
      "ANGSD/0.934             HOMER/4.10                  Python-GPU/3.6.7         \u001b[m\n",
      "ARBD/mar21              IDEAS/2018                  Python-GPU/3.6.9         \u001b[m\n",
      "ASSA/1.0.1-rhel8        IGV/2.8.9                   Python-GPU/3.7.6         \u001b[m\n",
      "AUGUSTUS/3.3.3          ImageJ/1.53                 Python/2.7.11            \u001b[m\n",
      "bam-readcount/0.8.0     ImageMagick/7.0.11          Python/3.6.2             \u001b[m\n",
      "Bamsurgeon/1.1          IQ-TREE/1.6.12              Python/3.6.4             \u001b[m\n",
      "BamTools/2.4.1          IQ-TREE/1.6.12-MPI          Python/3.8.1             \u001b[m\n",
      "BBMap/38.63             JAGS/4.2.0                  Python/3.9.1-rhel8       \u001b[m\n",
      "bcftools/1.4            JAGS/4.2.0-rhel8            QoRTs/1.3.6              \u001b[m\n",
      "bcl2fastq/2.20          Java/1.8.0_60               R/3.2.5                  \u001b[m\n",
      "BEAST/1.10.4            Java/11.0.8                 R/3.3.2                  \u001b[m\n"
     ]
    }
   ],
   "source": [
    "module avail"
   ]
  },
  {
   "cell_type": "code",
   "execution_count": 1,
   "id": "7bd16128-d525-4522-bfd2-a07d18992f2c",
   "metadata": {},
   "outputs": [
    {
     "name": "stdout",
     "output_type": "stream",
     "text": [
      "bash: bedGraphToBigWig: command not found\n"
     ]
    },
    {
     "ename": "",
     "evalue": "127",
     "output_type": "error",
     "traceback": []
    }
   ],
   "source": [
    "bedGraphToBigWig"
   ]
  },
  {
   "cell_type": "code",
   "execution_count": 7,
   "id": "122eb092-0a02-472e-9304-de2e200d5ce8",
   "metadata": {},
   "outputs": [
    {
     "name": "stdout",
     "output_type": "stream",
     "text": [
      "Bedtools 2.27.1\u001b[m\n",
      "\u001b[K\u001b[?1l\u001b>"
     ]
    }
   ],
   "source": [
    "module load Bedtools"
   ]
  },
  {
   "cell_type": "code",
   "execution_count": 8,
   "id": "96b408c0-6195-4ce2-a1cc-474e1029495f",
   "metadata": {
    "collapsed": true,
    "jupyter": {
     "outputs_hidden": true
    },
    "tags": []
   },
   "outputs": [
    {
     "name": "stdout",
     "output_type": "stream",
     "text": [
      "bedtools is a powerful toolset for genome arithmetic.\n",
      "\n",
      "Version:   v2.27.1-1-gb87c465\n",
      "About:     developed in the quinlanlab.org and by many contributors worldwide.\n",
      "Docs:      http://bedtools.readthedocs.io/\n",
      "Code:      https://github.com/arq5x/bedtools2\n",
      "Mail:      https://groups.google.com/forum/#!forum/bedtools-discuss\n",
      "\n",
      "Usage:     bedtools <subcommand> [options]\n",
      "\n",
      "The bedtools sub-commands include:\n",
      "\n",
      "[ Genome arithmetic ]\n",
      "    intersect     Find overlapping intervals in various ways.\n",
      "    window        Find overlapping intervals within a window around an interval.\n",
      "    closest       Find the closest, potentially non-overlapping interval.\n",
      "    coverage      Compute the coverage over defined intervals.\n",
      "    map           Apply a function to a column for each overlapping interval.\n",
      "    genomecov     Compute the coverage over an entire genome.\n",
      "    merge         Combine overlapping/nearby intervals into a single interval.\n",
      "    cluster       Cluster (but don't merge) overlapping/nearby intervals.\n",
      "    complement    Extract intervals _not_ represented by an interval file.\n",
      "    shift         Adjust the position of intervals.\n",
      "    subtract      Remove intervals based on overlaps b/w two files.\n",
      "    slop          Adjust the size of intervals.\n",
      "    flank         Create new intervals from the flanks of existing intervals.\n",
      "    sort          Order the intervals in a file.\n",
      "    random        Generate random intervals in a genome.\n",
      "    shuffle       Randomly redistrubute intervals in a genome.\n",
      "    sample        Sample random records from file using reservoir sampling.\n",
      "    spacing       Report the gap lengths between intervals in a file.\n",
      "    annotate      Annotate coverage of features from multiple files.\n",
      "\n",
      "[ Multi-way file comparisons ]\n",
      "    multiinter    Identifies common intervals among multiple interval files.\n",
      "    unionbedg     Combines coverage intervals from multiple BEDGRAPH files.\n",
      "\n",
      "[ Paired-end manipulation ]\n",
      "    pairtobed     Find pairs that overlap intervals in various ways.\n",
      "    pairtopair    Find pairs that overlap other pairs in various ways.\n",
      "\n",
      "[ Format conversion ]\n",
      "    bamtobed      Convert BAM alignments to BED (& other) formats.\n",
      "    bedtobam      Convert intervals to BAM records.\n",
      "    bamtofastq    Convert BAM records to FASTQ records.\n",
      "    bedpetobam    Convert BEDPE intervals to BAM records.\n",
      "    bed12tobed6   Breaks BED12 intervals into discrete BED6 intervals.\n",
      "\n",
      "[ Fasta manipulation ]\n",
      "    getfasta      Use intervals to extract sequences from a FASTA file.\n",
      "    maskfasta     Use intervals to mask sequences from a FASTA file.\n",
      "    nuc           Profile the nucleotide content of intervals in a FASTA file.\n",
      "\n",
      "[ BAM focused tools ]\n",
      "    multicov      Counts coverage from multiple BAMs at specific intervals.\n",
      "    tag           Tag BAM alignments based on overlaps with interval files.\n",
      "\n",
      "[ Statistical relationships ]\n",
      "    jaccard       Calculate the Jaccard statistic b/w two sets of intervals.\n",
      "    reldist       Calculate the distribution of relative distances b/w two files.\n",
      "    fisher        Calculate Fisher statistic b/w two feature files.\n",
      "\n",
      "[ Miscellaneous tools ]\n",
      "    overlap       Computes the amount of overlap from two intervals.\n",
      "    igv           Create an IGV snapshot batch script.\n",
      "    links         Create a HTML page of links to UCSC locations.\n",
      "    makewindows   Make interval \"windows\" across a genome.\n",
      "    groupby       Group by common cols. & summarize oth. cols. (~ SQL \"groupBy\")\n",
      "    expand        Replicate lines based on lists of values in columns.\n",
      "    split         Split a file into multiple files with equal records or base pairs.\n",
      "\n",
      "[ General help ]\n",
      "    --help        Print this help menu.\n",
      "    --version     What version of bedtools are you using?.\n",
      "    --contact     Feature requests, bugs, mailing lists, etc.\n",
      "\n"
     ]
    }
   ],
   "source": [
    "bedtools"
   ]
  },
  {
   "cell_type": "code",
   "execution_count": 9,
   "id": "81ba14d6-81fe-4d12-93b0-b02ea96c5700",
   "metadata": {},
   "outputs": [
    {
     "name": "stdout",
     "output_type": "stream",
     "text": [
      "bash: bedGraphToBigWig: command not found\n"
     ]
    },
    {
     "ename": "",
     "evalue": "127",
     "output_type": "error",
     "traceback": []
    }
   ],
   "source": [
    "bedGraphToBigWig"
   ]
  },
  {
   "cell_type": "code",
   "execution_count": 10,
   "id": "56476961-b6fc-4c5e-894d-bdb5bdc26f00",
   "metadata": {},
   "outputs": [
    {
     "name": "stdout",
     "output_type": "stream",
     "text": [
      "Bedtools 2.27.1\u001b[m\n",
      "\u001b[K\u001b[?1l\u001b>"
     ]
    }
   ],
   "source": [
    "module unload Bedtools"
   ]
  },
  {
   "cell_type": "code",
   "execution_count": 11,
   "id": "6f1555ab-7888-4c7e-8210-88299b28f35f",
   "metadata": {},
   "outputs": [
    {
     "name": "stdout",
     "output_type": "stream",
     "text": [
      "BigWig 1.0\u001b[m\n",
      "\u001b[K\u001b[?1l\u001b>"
     ]
    }
   ],
   "source": [
    "module load BigWig"
   ]
  },
  {
   "cell_type": "code",
   "execution_count": 12,
   "id": "209b422a-a0e7-4d73-9673-330e5181df21",
   "metadata": {},
   "outputs": [
    {
     "name": "stdout",
     "output_type": "stream",
     "text": [
      "bedGraphToBigWig v 4 - Convert a bedGraph file to bigWig format.\n",
      "usage:\n",
      "   bedGraphToBigWig in.bedGraph chrom.sizes out.bw\n",
      "where in.bedGraph is a four column file in the format:\n",
      "      <chrom> <start> <end> <value>\n",
      "and chrom.sizes is a two-column file/URL: <chromosome name> <size in bases>\n",
      "and out.bw is the output indexed big wig file.\n",
      "If the assembly <db> is hosted by UCSC, chrom.sizes can be a URL like\n",
      "  http://hgdownload.soe.ucsc.edu/goldenPath/<db>/bigZips/<db>.chrom.sizes\n",
      "or you may use the script fetchChromSizes to download the chrom.sizes file.\n",
      "If not hosted by UCSC, a chrom.sizes file can be generated by running\n",
      "twoBitInfo on the assembly .2bit file.\n",
      "The input bedGraph file must be sorted, use the unix sort command:\n",
      "  sort -k1,1 -k2,2n unsorted.bedGraph > sorted.bedGraph\n",
      "options:\n",
      "   -blockSize=N - Number of items to bundle in r-tree.  Default 256\n",
      "   -itemsPerSlot=N - Number of data points bundled at lowest level. Default 1024\n",
      "   -unc - If set, do not use compression.\n"
     ]
    },
    {
     "ename": "",
     "evalue": "255",
     "output_type": "error",
     "traceback": []
    }
   ],
   "source": [
    "bedGraphToBigWig"
   ]
  },
  {
   "cell_type": "code",
   "execution_count": null,
   "id": "28f95caa-8471-4f2c-b95f-29f9d43b0d23",
   "metadata": {},
   "outputs": [],
   "source": []
  }
 ],
 "metadata": {
  "kernelspec": {
   "display_name": "Bash",
   "language": "bash",
   "name": "bash"
  },
  "language_info": {
   "codemirror_mode": "shell",
   "file_extension": ".sh",
   "mimetype": "text/x-sh",
   "name": "bash"
  }
 },
 "nbformat": 4,
 "nbformat_minor": 5
}
