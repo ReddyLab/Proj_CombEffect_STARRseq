{
 "cells": [
  {
   "cell_type": "code",
   "execution_count": 4,
   "id": "47a59164-7fd5-4cea-937d-628093340e4e",
   "metadata": {},
   "outputs": [
    {
     "name": "stdout",
     "output_type": "stream",
     "text": [
      "\n",
      "-------------------- /nfs/software/helmod/modulefiles/Core ---------------------\n",
      "   AmpliconNoise/1.27-fasrc01              gmp/5.1.3-fasrc01\n",
      "   Anaconda/1.9.2-fasrc01                  gmp/6.0.0-fasrc01\n",
      "   Anaconda/2.1.0-fasrc01                  gmp/6.0.0-fasrc02\n",
      "   Anaconda/2.5.0-fasrc01                  gmp/6.1.0-fasrc01\n",
      "   Anaconda/4.3.0-fasrc01           (D)    gmp/6.1.1-fasrc02\n",
      "   Anaconda3/2.1.0-fasrc01                 gmp/6.1.2-fasrc01               (D)\n",
      "   Anaconda3/4.3.0-gcb01                   gnuplot/4.6.4-fasrc02\n",
      "   Anaconda3/5.0.1-gcb01                   golang/1.10.3-gcb01\n",
      "   Anaconda3/2019.10-gcb01                 gperf/3.0.4-fasrc01\n",
      "   Anaconda3/2019.10-gcb02          (D)    gperf/3.0.4-fasrc02             (D)\n",
      "   BEAST/2.4.2-gcb01                       gsl/1.16-fasrc02\n",
      "   BSMAP/2.90-gcb01                        gsl/1.16-fasrc03\n",
      "   CLAPACK/3.2.1-gcb01                     gsl/2.5-fasrc01                 (D)\n",
      "   GATK/4.0.2.1-gcb01                      gstreamer/0.10.30-fasrc01\n",
      "   GATK/4.1.0.0-gcb01                      gtool/0.7.5-gcb01\n",
      "   GATK/4.1.0.0-gcb02                      hdf5/1.8.12-fasrc04\n",
      "   GATK/4.1.3.0-gcb01               (D)    hdf5/1.8.12-fasrc08\n",
      "   GenomeAnalysisTK/3.1.1-gcb01            hdf5/1.8.17-fasrc02             (D)\n",
      "   GenomeAnalysisTK/3.5-gcb01              htslib/1.1-fasrc01\n",
      "   GenomeAnalysisTK/3.7-gcb01              htslib/1.2.1-gcb01\n",
      "   GenomeAnalysisTK/4.0.2.1-fasrc01        htslib/1.3.1-gcb01\n",
      "\u001b[Km--More--\u001b[23m\n"
     ]
    }
   ],
   "source": [
    "module avail"
   ]
  },
  {
   "cell_type": "code",
   "execution_count": 1,
   "id": "7bd16128-d525-4522-bfd2-a07d18992f2c",
   "metadata": {},
   "outputs": [
    {
     "name": "stdout",
     "output_type": "stream",
     "text": [
      "bash: bedGraphToBigWig: command not found\n"
     ]
    },
    {
     "ename": "",
     "evalue": "127",
     "output_type": "error",
     "traceback": []
    }
   ],
   "source": [
    "bedGraphToBigWig"
   ]
  },
  {
   "cell_type": "code",
   "execution_count": 6,
   "id": "122eb092-0a02-472e-9304-de2e200d5ce8",
   "metadata": {},
   "outputs": [],
   "source": [
    "module load bedtools2"
   ]
  },
  {
   "cell_type": "code",
   "execution_count": 8,
   "id": "96b408c0-6195-4ce2-a1cc-474e1029495f",
   "metadata": {
    "collapsed": true,
    "jupyter": {
     "outputs_hidden": true
    },
    "tags": []
   },
   "outputs": [
    {
     "name": "stdout",
     "output_type": "stream",
     "text": [
      "bedtools is a powerful toolset for genome arithmetic.\n",
      "\n",
      "Version:   v2.27.1-1-gb87c465\n",
      "About:     developed in the quinlanlab.org and by many contributors worldwide.\n",
      "Docs:      http://bedtools.readthedocs.io/\n",
      "Code:      https://github.com/arq5x/bedtools2\n",
      "Mail:      https://groups.google.com/forum/#!forum/bedtools-discuss\n",
      "\n",
      "Usage:     bedtools <subcommand> [options]\n",
      "\n",
      "The bedtools sub-commands include:\n",
      "\n",
      "[ Genome arithmetic ]\n",
      "    intersect     Find overlapping intervals in various ways.\n",
      "    window        Find overlapping intervals within a window around an interval.\n",
      "    closest       Find the closest, potentially non-overlapping interval.\n",
      "    coverage      Compute the coverage over defined intervals.\n",
      "    map           Apply a function to a column for each overlapping interval.\n",
      "    genomecov     Compute the coverage over an entire genome.\n",
      "    merge         Combine overlapping/nearby intervals into a single interval.\n",
      "    cluster       Cluster (but don't merge) overlapping/nearby intervals.\n",
      "    complement    Extract intervals _not_ represented by an interval file.\n",
      "    shift         Adjust the position of intervals.\n",
      "    subtract      Remove intervals based on overlaps b/w two files.\n",
      "    slop          Adjust the size of intervals.\n",
      "    flank         Create new intervals from the flanks of existing intervals.\n",
      "    sort          Order the intervals in a file.\n",
      "    random        Generate random intervals in a genome.\n",
      "    shuffle       Randomly redistrubute intervals in a genome.\n",
      "    sample        Sample random records from file using reservoir sampling.\n",
      "    spacing       Report the gap lengths between intervals in a file.\n",
      "    annotate      Annotate coverage of features from multiple files.\n",
      "\n",
      "[ Multi-way file comparisons ]\n",
      "    multiinter    Identifies common intervals among multiple interval files.\n",
      "    unionbedg     Combines coverage intervals from multiple BEDGRAPH files.\n",
      "\n",
      "[ Paired-end manipulation ]\n",
      "    pairtobed     Find pairs that overlap intervals in various ways.\n",
      "    pairtopair    Find pairs that overlap other pairs in various ways.\n",
      "\n",
      "[ Format conversion ]\n",
      "    bamtobed      Convert BAM alignments to BED (& other) formats.\n",
      "    bedtobam      Convert intervals to BAM records.\n",
      "    bamtofastq    Convert BAM records to FASTQ records.\n",
      "    bedpetobam    Convert BEDPE intervals to BAM records.\n",
      "    bed12tobed6   Breaks BED12 intervals into discrete BED6 intervals.\n",
      "\n",
      "[ Fasta manipulation ]\n",
      "    getfasta      Use intervals to extract sequences from a FASTA file.\n",
      "    maskfasta     Use intervals to mask sequences from a FASTA file.\n",
      "    nuc           Profile the nucleotide content of intervals in a FASTA file.\n",
      "\n",
      "[ BAM focused tools ]\n",
      "    multicov      Counts coverage from multiple BAMs at specific intervals.\n",
      "    tag           Tag BAM alignments based on overlaps with interval files.\n",
      "\n",
      "[ Statistical relationships ]\n",
      "    jaccard       Calculate the Jaccard statistic b/w two sets of intervals.\n",
      "    reldist       Calculate the distribution of relative distances b/w two files.\n",
      "    fisher        Calculate Fisher statistic b/w two feature files.\n",
      "\n",
      "[ Miscellaneous tools ]\n",
      "    overlap       Computes the amount of overlap from two intervals.\n",
      "    igv           Create an IGV snapshot batch script.\n",
      "    links         Create a HTML page of links to UCSC locations.\n",
      "    makewindows   Make interval \"windows\" across a genome.\n",
      "    groupby       Group by common cols. & summarize oth. cols. (~ SQL \"groupBy\")\n",
      "    expand        Replicate lines based on lists of values in columns.\n",
      "    split         Split a file into multiple files with equal records or base pairs.\n",
      "\n",
      "[ General help ]\n",
      "    --help        Print this help menu.\n",
      "    --version     What version of bedtools are you using?.\n",
      "    --contact     Feature requests, bugs, mailing lists, etc.\n",
      "\n"
     ]
    }
   ],
   "source": [
    "bedtools"
   ]
  },
  {
   "cell_type": "code",
   "execution_count": 9,
   "id": "81ba14d6-81fe-4d12-93b0-b02ea96c5700",
   "metadata": {},
   "outputs": [
    {
     "name": "stdout",
     "output_type": "stream",
     "text": [
      "bash: bedGraphToBigWig: command not found\n"
     ]
    },
    {
     "ename": "",
     "evalue": "127",
     "output_type": "error",
     "traceback": []
    }
   ],
   "source": [
    "bedGraphToBigWig"
   ]
  },
  {
   "cell_type": "code",
   "execution_count": 10,
   "id": "56476961-b6fc-4c5e-894d-bdb5bdc26f00",
   "metadata": {},
   "outputs": [
    {
     "name": "stdout",
     "output_type": "stream",
     "text": [
      "Bedtools 2.27.1\u001b[m\n",
      "\u001b[K\u001b[?1l\u001b>"
     ]
    }
   ],
   "source": [
    "module unload Bedtools"
   ]
  },
  {
   "cell_type": "code",
   "execution_count": 12,
   "id": "6f1555ab-7888-4c7e-8210-88299b28f35f",
   "metadata": {},
   "outputs": [],
   "source": [
    "module load GenomeAnalysisTK"
   ]
  },
  {
   "cell_type": "code",
   "execution_count": 14,
   "id": "9379a510-e521-411f-a46d-207bc56195c1",
   "metadata": {},
   "outputs": [
    {
     "name": "stdout",
     "output_type": "stream",
     "text": [
      "(/data/common/shared_conda_envs/ucsc) "
     ]
    },
    {
     "ename": "",
     "evalue": "1",
     "output_type": "error",
     "traceback": []
    }
   ],
   "source": [
    "module load Anaconda3/2019.10-gcb02\n",
    "conda activate /data/common/shared_conda_envs/ucsc"
   ]
  },
  {
   "cell_type": "code",
   "execution_count": 3,
   "id": "53990eeb-42a5-4e4e-9076-b9777bdfa706",
   "metadata": {},
   "outputs": [
    {
     "name": "stdout",
     "output_type": "stream",
     "text": [
      "(/data/common/shared_conda_envs/ucsc) "
     ]
    },
    {
     "ename": "",
     "evalue": "1",
     "output_type": "error",
     "traceback": []
    }
   ],
   "source": [
    "module load Anaconda3\n",
    "conda activate /data/common/shared_conda_envs/ucsc"
   ]
  },
  {
   "cell_type": "code",
   "execution_count": 2,
   "id": "8982a7bf-fadc-49a3-8d37-272f7a247079",
   "metadata": {},
   "outputs": [
    {
     "name": "stdout",
     "output_type": "stream",
     "text": [
      "bash: conda: command not found\n"
     ]
    },
    {
     "ename": "",
     "evalue": "127",
     "output_type": "error",
     "traceback": []
    }
   ],
   "source": [
    "conda"
   ]
  },
  {
   "cell_type": "code",
   "execution_count": 4,
   "id": "209b422a-a0e7-4d73-9673-330e5181df21",
   "metadata": {},
   "outputs": [
    {
     "name": "stdout",
     "output_type": "stream",
     "text": [
      "bedGraphToBigWig v 4 - Convert a bedGraph file to bigWig format.\n",
      "usage:\n",
      "   bedGraphToBigWig in.bedGraph chrom.sizes out.bw\n",
      "where in.bedGraph is a four column file in the format:\n",
      "      <chrom> <start> <end> <value>\n",
      "and chrom.sizes is a two-column file/URL: <chromosome name> <size in bases>\n",
      "and out.bw is the output indexed big wig file.\n",
      "If the assembly <db> is hosted by UCSC, chrom.sizes can be a URL like\n",
      "  http://hgdownload.soe.ucsc.edu/goldenPath/<db>/bigZips/<db>.chrom.sizes\n",
      "or you may use the script fetchChromSizes to download the chrom.sizes file.\n",
      "If not hosted by UCSC, a chrom.sizes file can be generated by running\n",
      "twoBitInfo on the assembly .2bit file.\n",
      "The input bedGraph file must be sorted, use the unix sort command:\n",
      "  sort -k1,1 -k2,2n unsorted.bedGraph > sorted.bedGraph\n",
      "options:\n",
      "   -blockSize=N - Number of items to bundle in r-tree.  Default 256\n",
      "   -itemsPerSlot=N - Number of data points bundled at lowest level. Default 1024\n",
      "   -unc - If set, do not use compression.\n",
      "(/data/common/shared_conda_envs/ucsc) "
     ]
    },
    {
     "ename": "",
     "evalue": "1",
     "output_type": "error",
     "traceback": []
    }
   ],
   "source": [
    "bedGraphToBigWig"
   ]
  },
  {
   "cell_type": "code",
   "execution_count": null,
   "id": "28f95caa-8471-4f2c-b95f-29f9d43b0d23",
   "metadata": {},
   "outputs": [],
   "source": []
  }
 ],
 "metadata": {
  "kernelspec": {
   "display_name": "Bash",
   "language": "bash",
   "name": "bash"
  },
  "language_info": {
   "codemirror_mode": "shell",
   "file_extension": ".sh",
   "mimetype": "text/x-sh",
   "name": "bash"
  }
 },
 "nbformat": 4,
 "nbformat_minor": 5
}
