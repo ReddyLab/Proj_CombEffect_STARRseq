{
 "cells": [
  {
   "cell_type": "code",
   "execution_count": 1,
   "id": "6314ebf2",
   "metadata": {},
   "outputs": [],
   "source": [
    "suppressMessages(suppressWarnings(source(\"../config_sing.R\")))"
   ]
  },
  {
   "cell_type": "code",
   "execution_count": 2,
   "id": "b5f9be1c",
   "metadata": {},
   "outputs": [],
   "source": [
    "### set directory\n",
    "FD_MTF = file.path(\n",
    "    FD_ANN, \n",
    "    \"motif_cluster_jvierstra\", \n",
    "    \"hg38_archetype_motifs_v1\",\n",
    "    \"chr17\"\n",
    ")\n",
    "\n",
    "### set column names\n",
    "cnames  = c(\"Chrom\", \"Start\", \"End\", \"Motif\", \"Score\")"
   ]
  },
  {
   "cell_type": "code",
   "execution_count": 3,
   "id": "230557ed",
   "metadata": {},
   "outputs": [
    {
     "data": {
      "text/html": [
       "<table class=\"dataframe\">\n",
       "<caption>A tibble: 3 × 5</caption>\n",
       "<thead>\n",
       "\t<tr><th scope=col>Chrom</th><th scope=col>Start</th><th scope=col>End</th><th scope=col>Motif</th><th scope=col>Score</th></tr>\n",
       "\t<tr><th scope=col>&lt;chr&gt;</th><th scope=col>&lt;dbl&gt;</th><th scope=col>&lt;dbl&gt;</th><th scope=col>&lt;chr&gt;</th><th scope=col>&lt;dbl&gt;</th></tr>\n",
       "</thead>\n",
       "<tbody>\n",
       "\t<tr><td>chr17</td><td>60454</td><td>60468</td><td>NR/20</td><td>8.3104</td></tr>\n",
       "\t<tr><td>chr17</td><td>60718</td><td>60732</td><td>NR/20</td><td>8.8112</td></tr>\n",
       "\t<tr><td>chr17</td><td>63497</td><td>63512</td><td>NR/20</td><td>7.7355</td></tr>\n",
       "</tbody>\n",
       "</table>\n"
      ],
      "text/latex": [
       "A tibble: 3 × 5\n",
       "\\begin{tabular}{lllll}\n",
       " Chrom & Start & End & Motif & Score\\\\\n",
       " <chr> & <dbl> & <dbl> & <chr> & <dbl>\\\\\n",
       "\\hline\n",
       "\t chr17 & 60454 & 60468 & NR/20 & 8.3104\\\\\n",
       "\t chr17 & 60718 & 60732 & NR/20 & 8.8112\\\\\n",
       "\t chr17 & 63497 & 63512 & NR/20 & 7.7355\\\\\n",
       "\\end{tabular}\n"
      ],
      "text/markdown": [
       "\n",
       "A tibble: 3 × 5\n",
       "\n",
       "| Chrom &lt;chr&gt; | Start &lt;dbl&gt; | End &lt;dbl&gt; | Motif &lt;chr&gt; | Score &lt;dbl&gt; |\n",
       "|---|---|---|---|---|\n",
       "| chr17 | 60454 | 60468 | NR/20 | 8.3104 |\n",
       "| chr17 | 60718 | 60732 | NR/20 | 8.8112 |\n",
       "| chr17 | 63497 | 63512 | NR/20 | 7.7355 |\n",
       "\n"
      ],
      "text/plain": [
       "  Chrom Start End   Motif Score \n",
       "1 chr17 60454 60468 NR/20 8.3104\n",
       "2 chr17 60718 60732 NR/20 8.8112\n",
       "3 chr17 63497 63512 NR/20 7.7355"
      ]
     },
     "metadata": {},
     "output_type": "display_data"
    }
   ],
   "source": [
    "### set path for NR/20\n",
    "fdiry = FD_MTF\n",
    "fname = \"NR_20_merge.bed\"\n",
    "fpath = file.path(fdiry, fname)\n",
    "\n",
    "### import\n",
    "dat_mtf_nr20 = read_tsv(\n",
    "    fpath, \n",
    "    col_names = cnames,\n",
    "    show_col_types = FALSE)\n",
    "head(dat_mtf_nr20, 3)"
   ]
  },
  {
   "cell_type": "code",
   "execution_count": 4,
   "id": "f538bc80",
   "metadata": {},
   "outputs": [
    {
     "data": {
      "text/html": [
       "<table class=\"dataframe\">\n",
       "<caption>A spec_tbl_df: 5 × 5</caption>\n",
       "<thead>\n",
       "\t<tr><th scope=col>Chrom</th><th scope=col>Start</th><th scope=col>End</th><th scope=col>Motif</th><th scope=col>Score</th></tr>\n",
       "\t<tr><th scope=col>&lt;chr&gt;</th><th scope=col>&lt;dbl&gt;</th><th scope=col>&lt;dbl&gt;</th><th scope=col>&lt;chr&gt;</th><th scope=col>&lt;dbl&gt;</th></tr>\n",
       "</thead>\n",
       "<tbody>\n",
       "\t<tr><td>chr17</td><td>8150232</td><td>8150246</td><td>NR/20</td><td> 8.32560</td></tr>\n",
       "\t<tr><td>chr17</td><td>8150831</td><td>8150845</td><td>NR/20</td><td> 7.34290</td></tr>\n",
       "\t<tr><td>chr17</td><td>8151912</td><td>8151926</td><td>NR/20</td><td>11.86410</td></tr>\n",
       "\t<tr><td>chr17</td><td>8154459</td><td>8154474</td><td>NR/20</td><td>15.34770</td></tr>\n",
       "\t<tr><td>chr17</td><td>8154760</td><td>8154775</td><td>NR/20</td><td> 8.20005</td></tr>\n",
       "</tbody>\n",
       "</table>\n"
      ],
      "text/latex": [
       "A spec\\_tbl\\_df: 5 × 5\n",
       "\\begin{tabular}{lllll}\n",
       " Chrom & Start & End & Motif & Score\\\\\n",
       " <chr> & <dbl> & <dbl> & <chr> & <dbl>\\\\\n",
       "\\hline\n",
       "\t chr17 & 8150232 & 8150246 & NR/20 &  8.32560\\\\\n",
       "\t chr17 & 8150831 & 8150845 & NR/20 &  7.34290\\\\\n",
       "\t chr17 & 8151912 & 8151926 & NR/20 & 11.86410\\\\\n",
       "\t chr17 & 8154459 & 8154474 & NR/20 & 15.34770\\\\\n",
       "\t chr17 & 8154760 & 8154775 & NR/20 &  8.20005\\\\\n",
       "\\end{tabular}\n"
      ],
      "text/markdown": [
       "\n",
       "A spec_tbl_df: 5 × 5\n",
       "\n",
       "| Chrom &lt;chr&gt; | Start &lt;dbl&gt; | End &lt;dbl&gt; | Motif &lt;chr&gt; | Score &lt;dbl&gt; |\n",
       "|---|---|---|---|---|\n",
       "| chr17 | 8150232 | 8150246 | NR/20 |  8.32560 |\n",
       "| chr17 | 8150831 | 8150845 | NR/20 |  7.34290 |\n",
       "| chr17 | 8151912 | 8151926 | NR/20 | 11.86410 |\n",
       "| chr17 | 8154459 | 8154474 | NR/20 | 15.34770 |\n",
       "| chr17 | 8154760 | 8154775 | NR/20 |  8.20005 |\n",
       "\n"
      ],
      "text/plain": [
       "  Chrom Start   End     Motif Score   \n",
       "1 chr17 8150232 8150246 NR/20  8.32560\n",
       "2 chr17 8150831 8150845 NR/20  7.34290\n",
       "3 chr17 8151912 8151926 NR/20 11.86410\n",
       "4 chr17 8154459 8154474 NR/20 15.34770\n",
       "5 chr17 8154760 8154775 NR/20  8.20005"
      ]
     },
     "metadata": {},
     "output_type": "display_data"
    }
   ],
   "source": [
    "dat_mtf_nr20 %>% dplyr::filter(Chrom == \"chr17\", Start >= 8148000, Start <= 8160000)"
   ]
  },
  {
   "cell_type": "code",
   "execution_count": null,
   "id": "0cc784b6",
   "metadata": {},
   "outputs": [],
   "source": []
  }
 ],
 "metadata": {
  "kernelspec": {
   "display_name": "R",
   "language": "R",
   "name": "ir"
  },
  "language_info": {
   "codemirror_mode": "r",
   "file_extension": ".r",
   "mimetype": "text/x-r-source",
   "name": "R",
   "pygments_lexer": "r",
   "version": "4.2.0"
  }
 },
 "nbformat": 4,
 "nbformat_minor": 5
}
