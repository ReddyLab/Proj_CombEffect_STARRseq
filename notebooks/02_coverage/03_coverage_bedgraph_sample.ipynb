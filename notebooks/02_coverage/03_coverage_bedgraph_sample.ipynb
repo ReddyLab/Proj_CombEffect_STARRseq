{
 "cells": [
  {
   "cell_type": "code",
   "execution_count": 1,
   "id": "6ef1d6c8-83ce-4c20-9709-7a94a1535176",
   "metadata": {},
   "outputs": [
    {
     "name": "stdout",
     "output_type": "stream",
     "text": [
      "You are on Duke Server: DCC\n",
      "BASE DIRECTORY:     /work/kk319\n",
      "WORK DIRECTORY:     /work/kk319/out/CombEffect_STARR\n",
      "LOG  DIRECTORY:     /work/kk319/out/CombEffect_STARR/log\n",
      "PATH OF SOURCE:     /work/kk319/source\n",
      "PATH OF EXECUTABLE: /work/kk319/exe\n",
      "PATH OF ANNOTATION: /work/kk319/annotation\n",
      "\n"
     ]
    }
   ],
   "source": [
    "source ../config_duke.sh"
   ]
  },
  {
   "cell_type": "code",
   "execution_count": 3,
   "id": "667ec86a-da34-438d-9c6f-4fc007d62961",
   "metadata": {},
   "outputs": [
    {
     "name": "stdout",
     "output_type": "stream",
     "text": [
      "/work/kk319/out/CombEffect_STARR\n"
     ]
    }
   ],
   "source": [
    "echo ${FD_WRK}"
   ]
  },
  {
   "cell_type": "code",
   "execution_count": 4,
   "id": "1c1726d5-c650-4e24-a21a-c6a42ab74c71",
   "metadata": {},
   "outputs": [
    {
     "name": "stdout",
     "output_type": "stream",
     "text": [
      "\u001b[0m\u001b[01;34mannotation_fragment\u001b[0m  \u001b[01;34mbedgraph\u001b[0m   \u001b[01;34mcount_fragment\u001b[0m  \u001b[01;34mcoverage\u001b[0m  \u001b[01;34mkmer\u001b[0m  \u001b[01;34msource\u001b[0m\n",
      "\u001b[01;34mannotation_segment\u001b[0m   \u001b[01;34mbootstrap\u001b[0m  \u001b[01;34mcount_segment\u001b[0m   \u001b[01;34mdata\u001b[0m      \u001b[01;34mlog\u001b[0m\n"
     ]
    }
   ],
   "source": [
    "ls ${FD_WRK}"
   ]
  },
  {
   "cell_type": "code",
   "execution_count": 5,
   "id": "32a228c6-23ee-47d9-b548-b3a9ed26572d",
   "metadata": {},
   "outputs": [
    {
     "name": "stdout",
     "output_type": "stream",
     "text": [
      "\u001b[0m\u001b[01;34mInput1\u001b[0m               \u001b[01;34mTFX3_AZD9567\u001b[0m         \u001b[01;34mTFX4_Hydrocortisone\u001b[0m\n",
      "\u001b[01;34mInput2\u001b[0m               \u001b[01;34mTFX3_CORT108297\u001b[0m      \u001b[01;34mTFX4_Mapracorat\u001b[0m\n",
      "\u001b[01;34mInput3\u001b[0m               \u001b[01;34mTFX3_CpdA\u001b[0m            \u001b[01;34mTFX4_RU486\u001b[0m\n",
      "\u001b[01;34mInput4\u001b[0m               \u001b[01;34mTFX3_DMSO\u001b[0m            \u001b[01;34mTFX4_ZK216348\u001b[0m\n",
      "\u001b[01;34mInput5\u001b[0m               \u001b[01;34mTFX3_Dex\u001b[0m             \u001b[01;34mTFX5_AZD2906\u001b[0m\n",
      "\u001b[01;34mTFX2_AZD2906\u001b[0m         \u001b[01;34mTFX3_GW870086\u001b[0m        \u001b[01;34mTFX5_AZD9567\u001b[0m\n",
      "\u001b[01;34mTFX2_AZD9567\u001b[0m         \u001b[01;34mTFX3_Hydrocortisone\u001b[0m  \u001b[01;34mTFX5_CORT108297\u001b[0m\n",
      "\u001b[01;34mTFX2_CORT108297\u001b[0m      \u001b[01;34mTFX3_Mapracorat\u001b[0m      \u001b[01;34mTFX5_CpdA\u001b[0m\n",
      "\u001b[01;34mTFX2_CpdA\u001b[0m            \u001b[01;34mTFX3_RU486\u001b[0m           \u001b[01;34mTFX5_DMSO\u001b[0m\n",
      "\u001b[01;34mTFX2_DMSO\u001b[0m            \u001b[01;34mTFX3_ZK216348\u001b[0m        \u001b[01;34mTFX5_Dex\u001b[0m\n",
      "\u001b[01;34mTFX2_Dex\u001b[0m             \u001b[01;34mTFX4_AZD2906\u001b[0m         \u001b[01;34mTFX5_GW870086\u001b[0m\n",
      "\u001b[01;34mTFX2_GW870086\u001b[0m        \u001b[01;34mTFX4_AZD9567\u001b[0m         \u001b[01;34mTFX5_Hydrocortisone\u001b[0m\n",
      "\u001b[01;34mTFX2_Hydrocortisone\u001b[0m  \u001b[01;34mTFX4_CORT108297\u001b[0m      \u001b[01;34mTFX5_Mapracorat\u001b[0m\n",
      "\u001b[01;34mTFX2_Mapracorat\u001b[0m      \u001b[01;34mTFX4_CpdA\u001b[0m            \u001b[01;34mTFX5_RU486\u001b[0m\n",
      "\u001b[01;34mTFX2_RU486\u001b[0m           \u001b[01;34mTFX4_DMSO\u001b[0m            \u001b[01;34mTFX5_ZK216348\u001b[0m\n",
      "\u001b[01;34mTFX2_ZK216348\u001b[0m        \u001b[01;34mTFX4_Dex\u001b[0m             library_size.txt\n",
      "\u001b[01;34mTFX3_AZD2906\u001b[0m         \u001b[01;34mTFX4_GW870086\u001b[0m\n"
     ]
    }
   ],
   "source": [
    "ls ${FD_WRK}/source"
   ]
  },
  {
   "cell_type": "code",
   "execution_count": 7,
   "id": "ee2e297b-5e88-4693-9b5d-3af8df0bea35",
   "metadata": {},
   "outputs": [
    {
     "name": "stdout",
     "output_type": "stream",
     "text": [
      "\u001b[0m\u001b[01;34m/work/kk319/out/CombEffect_STARR/source/Input1\u001b[0m\n",
      "\u001b[01;34m/work/kk319/out/CombEffect_STARR/source/Input2\u001b[0m\n",
      "\u001b[01;34m/work/kk319/out/CombEffect_STARR/source/Input3\u001b[0m\n",
      "\u001b[01;34m/work/kk319/out/CombEffect_STARR/source/Input4\u001b[0m\n",
      "\u001b[01;34m/work/kk319/out/CombEffect_STARR/source/Input5\u001b[0m\n"
     ]
    }
   ],
   "source": [
    "ls -d ${FD_WRK}/source/Input?"
   ]
  },
  {
   "cell_type": "code",
   "execution_count": 8,
   "id": "4d68b811-b3da-4511-88a5-5604d09c34da",
   "metadata": {},
   "outputs": [
    {
     "name": "stdout",
     "output_type": "stream",
     "text": [
      "\u001b[0m\u001b[01;34m/work/kk319/out/CombEffect_STARR/source/TFX2_DMSO\u001b[0m\n",
      "\u001b[01;34m/work/kk319/out/CombEffect_STARR/source/TFX3_DMSO\u001b[0m\n",
      "\u001b[01;34m/work/kk319/out/CombEffect_STARR/source/TFX4_DMSO\u001b[0m\n",
      "\u001b[01;34m/work/kk319/out/CombEffect_STARR/source/TFX5_DMSO\u001b[0m\n"
     ]
    }
   ],
   "source": [
    "ls -d ${FD_WRK}/source/TFX?_DMSO"
   ]
  },
  {
   "cell_type": "code",
   "execution_count": 9,
   "id": "df6fc575-f8e1-4792-b5ca-bc0b44bd20b8",
   "metadata": {},
   "outputs": [
    {
     "name": "stdout",
     "output_type": "stream",
     "text": [
      "\u001b[0m\u001b[01;34m/work/kk319/out/CombEffect_STARR/source/TFX2_Dex\u001b[0m\n",
      "\u001b[01;34m/work/kk319/out/CombEffect_STARR/source/TFX3_Dex\u001b[0m\n",
      "\u001b[01;34m/work/kk319/out/CombEffect_STARR/source/TFX4_Dex\u001b[0m\n",
      "\u001b[01;34m/work/kk319/out/CombEffect_STARR/source/TFX5_Dex\u001b[0m\n"
     ]
    }
   ],
   "source": [
    "ls -d ${FD_WRK}/source/TFX?_Dex"
   ]
  },
  {
   "cell_type": "code",
   "execution_count": 17,
   "id": "34c5a01b-7cc6-4f82-86ad-093af21ea551",
   "metadata": {},
   "outputs": [
    {
     "name": "stdout",
     "output_type": "stream",
     "text": [
      "\u001b[0m\u001b[01;34m/work/kk319/out/CombEffect_STARR/source/Input1\u001b[0m\n",
      "\u001b[01;34m/work/kk319/out/CombEffect_STARR/source/Input2\u001b[0m\n",
      "\u001b[01;34m/work/kk319/out/CombEffect_STARR/source/Input3\u001b[0m\n",
      "\u001b[01;34m/work/kk319/out/CombEffect_STARR/source/Input4\u001b[0m\n",
      "\u001b[01;34m/work/kk319/out/CombEffect_STARR/source/Input5\u001b[0m\n",
      "\u001b[01;34m/work/kk319/out/CombEffect_STARR/source/TFX2_DMSO\u001b[0m\n",
      "\u001b[01;34m/work/kk319/out/CombEffect_STARR/source/TFX2_Dex\u001b[0m\n",
      "\u001b[01;34m/work/kk319/out/CombEffect_STARR/source/TFX3_DMSO\u001b[0m\n",
      "\u001b[01;34m/work/kk319/out/CombEffect_STARR/source/TFX3_Dex\u001b[0m\n",
      "\u001b[01;34m/work/kk319/out/CombEffect_STARR/source/TFX4_DMSO\u001b[0m\n",
      "\u001b[01;34m/work/kk319/out/CombEffect_STARR/source/TFX4_Dex\u001b[0m\n",
      "\u001b[01;34m/work/kk319/out/CombEffect_STARR/source/TFX5_DMSO\u001b[0m\n",
      "\u001b[01;34m/work/kk319/out/CombEffect_STARR/source/TFX5_Dex\u001b[0m\n"
     ]
    }
   ],
   "source": [
    "ls -d ${FD_WRK}/source/{Input?,TFX?_DMSO,TFX?_Dex}"
   ]
  },
  {
   "cell_type": "code",
   "execution_count": 15,
   "id": "4188f07c-546b-4913-93b6-b45e224d9879",
   "metadata": {},
   "outputs": [
    {
     "name": "stdout",
     "output_type": "stream",
     "text": [
      "13\n"
     ]
    }
   ],
   "source": [
    "ls -d ${FD_WRK}/source/{Input?,TFX?_DMSO,TFX?_Dex} | wc -l"
   ]
  },
  {
   "cell_type": "code",
   "execution_count": 19,
   "id": "c89ef594-453a-4129-981c-7909eea4624f",
   "metadata": {},
   "outputs": [
    {
     "name": "stdout",
     "output_type": "stream",
     "text": [
      "Input1.bedpe\n"
     ]
    }
   ],
   "source": [
    "ls ${FD_WRK}/source/Input1"
   ]
  },
  {
   "cell_type": "code",
   "execution_count": 23,
   "id": "07061e61-3310-45d7-b9c4-83b76de516e1",
   "metadata": {},
   "outputs": [
    {
     "name": "stdout",
     "output_type": "stream",
     "text": [
      "/work/kk319/out/CombEffect_STARR/source/Input2\n",
      "Input2\n"
     ]
    }
   ],
   "source": [
    "FD_BEDS=($(ls -d ${FD_WRK}/source/{Input?,TFX?_DMSO,TFX?_Dex}))\n",
    "FD_BED=${FD_BEDS[1]}\n",
    "FN_BED=$(basename ${FD_BED})\n",
    "echo ${FD_BED}\n",
    "echo ${FN_BED}"
   ]
  },
  {
   "cell_type": "code",
   "execution_count": null,
   "id": "b76b89dc-e905-4ca6-a7c8-f3570226d947",
   "metadata": {},
   "outputs": [],
   "source": []
  },
  {
   "cell_type": "code",
   "execution_count": 33,
   "id": "4d7b2afd-1956-4cbd-b297-b52c140620c8",
   "metadata": {},
   "outputs": [
    {
     "name": "stdout",
     "output_type": "stream",
     "text": [
      "You are on Duke Server: DCC\n",
      "BASE DIRECTORY:     /work/kk319\n",
      "WORK DIRECTORY:     /work/kk319/out/CombEffect_STARR\n",
      "LOG  DIRECTORY:     /work/kk319/out/CombEffect_STARR/log\n",
      "PATH OF SOURCE:     /work/kk319/source\n",
      "PATH OF EXECUTABLE: /work/kk319/exe\n",
      "PATH OF ANNOTATION: /work/kk319/annotation\n",
      "\n",
      "You are on Duke Server: DCC\n",
      "Submitted batch job 15932495\n"
     ]
    }
   ],
   "source": [
    "source ../config_duke.sh\n",
    "source ../load_module_bedtools.sh\n",
    "\n",
    "sbatch -p scavenger \\\n",
    "    --array 0-12 \\\n",
    "    --mem 8G \\\n",
    "    -o ${FD_LOG}/coverage_sample.%a.txt \\\n",
    "    <<'EOF'\n",
    "#!/bin/bash\n",
    "### set directories & global variables\n",
    "source ../config_duke.sh\n",
    "### set input and output\n",
    "FD_BEDS=($(ls -d ${FD_WRK}/source/{Input?,TFX?_DMSO,TFX?_Dex}))\n",
    "FD_BED=${FD_BEDS[${SLURM_ARRAY_TASK_ID}]}\n",
    "SAMPLE=$(basename ${FD_BED})\n",
    "\n",
    "FN_BED=${SAMPLE}.bedpe\n",
    "FD_OUT=${FD_WRK}/coverage/${SAMPLE}\n",
    "FN_OUT=${SAMPLE}.bedpe\n",
    "\n",
    "FD_GEN=${FD_ANN}/genome/hg38\n",
    "FN_GEN=hg38.chrom.sizes\n",
    "\n",
    "### START Message\n",
    "echo \"Slurm Array Index: \" ${SLURM_ARRAY_TASK_ID}\n",
    "echo \"Input  file: \" ${FD_BED}/${FN_BED}\n",
    "echo \"Output file: \" ${FD_OUT}/${FN_OUT}\n",
    "echo\n",
    "echo \"Show the first few lines of the input file\"\n",
    "echo ${FD_BED}/${FN_BED}\n",
    "head -n 5 ${FD_BED}/${FN_BED}\n",
    "echo\n",
    "echo \"Show the last few lines of the input file\"\n",
    "echo ${FD_BED}/${FN_BED}\n",
    "tail -n 5 ${FD_BED}/${FN_BED}\n",
    "echo\n",
    "    \n",
    "### init: create output folder if not exist\n",
    "mkdir -p ${FD_OUT}\n",
    "    \n",
    "### Bedtools genomecov to get bedgraph\n",
    "echo \"Get the bedgraph\"\n",
    "bedtools genomecov -i ${FD_BED}/${FN_BED} -g ${FD_GEN}/${FN_GEN} -bg > ${FD_OUT}/${FN_OUT}\n",
    "echo\n",
    "   \n",
    "### END Message\n",
    "echo \"Show the first few lines of the output file\"\n",
    "echo ${FD_OUT}/${FN_OUT}\n",
    "head -n 5 ${FD_OUT}/${FN_OUT}\n",
    "echo\n",
    "echo \"Show the last few lines of the output file\"\n",
    "echo ${FD_OUT}/${FN_OUT}\n",
    "tail -n 5 ${FD_OUT}/${FN_OUT}\n",
    "echo\n",
    "echo \"Done!\"\n",
    "\n",
    "EOF"
   ]
  },
  {
   "cell_type": "code",
   "execution_count": 32,
   "id": "a1d08828-381e-4cf7-874a-626d7f85b0ce",
   "metadata": {},
   "outputs": [
    {
     "name": "stdout",
     "output_type": "stream",
     "text": [
      "/work/kk319/out/CombEffect_STARR/log/coverage_sample.0.txt\n"
     ]
    }
   ],
   "source": [
    "readlink -f ${FD_LOG}/coverage_sample.0.txt"
   ]
  },
  {
   "cell_type": "code",
   "execution_count": 25,
   "id": "1a57dbfa-ac1b-4463-ae7a-963b4e7a72ac",
   "metadata": {},
   "outputs": [
    {
     "name": "stdout",
     "output_type": "stream",
     "text": [
      "You are on Duke Server: DCC\n",
      "BASE DIRECTORY:     /work/kk319\n",
      "WORK DIRECTORY:     /work/kk319/out/CombEffect_STARR\n",
      "LOG  DIRECTORY:     /work/kk319/out/CombEffect_STARR/log\n",
      "PATH OF SOURCE:     /work/kk319/source\n",
      "PATH OF EXECUTABLE: /work/kk319/exe\n",
      "PATH OF ANNOTATION: /work/kk319/annotation\n",
      "\n",
      "Slurm Array Index:  0\n",
      "Input  file:  /work/kk319/out/CombEffect_STARR/source/Input1/Input1.bedpe\n",
      "Output file:  /work/kk319/out/CombEffect_STARR/coverage/Input1/Input1.bedpe\n",
      "\n",
      "Show the first few lines of the input file\n",
      "/work/kk319/out/CombEffect_STARR/source/Input1/Input1.bedpe\n",
      "chr1\t13868\t14793\n",
      "chr1\t17394\t18269\n",
      "chr1\t17394\t18268\n",
      "chr1\t17396\t18259\n",
      "chr1\t17405\t18377\n",
      "\n",
      "Show the last few lines of the input file\n",
      "/work/kk319/out/CombEffect_STARR/source/Input1/Input1.bedpe\n",
      "chrY\t56880288\t56881177\n",
      "chrY\t56883167\t56884086\n",
      "chrY\t56884569\t56885348\n",
      "chrY\t56885139\t56886074\n",
      "chrY\t57089240\t57090238\n",
      "\n",
      "Get the bedgraph\n",
      "\n",
      "Done!\n"
     ]
    }
   ],
   "source": [
    "cat ${FD_LOG}/coverage_sample.0.txt"
   ]
  },
  {
   "cell_type": "code",
   "execution_count": 29,
   "id": "12e3724f-9c85-4f54-ac30-45aed6d9e886",
   "metadata": {},
   "outputs": [
    {
     "name": "stdout",
     "output_type": "stream",
     "text": [
      "You are on Duke Server: DCC\n",
      "BASE DIRECTORY:     /work/kk319\n",
      "WORK DIRECTORY:     /work/kk319/out/CombEffect_STARR\n",
      "LOG  DIRECTORY:     /work/kk319/out/CombEffect_STARR/log\n",
      "PATH OF SOURCE:     /work/kk319/source\n",
      "PATH OF EXECUTABLE: /work/kk319/exe\n",
      "PATH OF ANNOTATION: /work/kk319/annotation\n",
      "\n",
      "Slurm Array Index:  12\n",
      "Input  file:  /work/kk319/out/CombEffect_STARR/source/TFX5_Dex/TFX5_Dex.bedpe\n",
      "Output file:  /work/kk319/out/CombEffect_STARR/coverage/TFX5_Dex/TFX5_Dex.bedpe\n",
      "\n",
      "Show the first few lines of the input file\n",
      "/work/kk319/out/CombEffect_STARR/source/TFX5_Dex/TFX5_Dex.bedpe\n",
      "chr1\t14449\t15491\n",
      "chr1\t14449\t15491\n",
      "chr1\t14449\t15491\n",
      "chr1\t14450\t15491\n",
      "chr1\t14710\t15703\n",
      "\n",
      "Show the last few lines of the input file\n",
      "/work/kk319/out/CombEffect_STARR/source/TFX5_Dex/TFX5_Dex.bedpe\n",
      "chrY\t56997622\t56998999\n",
      "chrY\t56997771\t56998809\n",
      "chrY\t57023245\t57024227\n",
      "chrY\t57089153\t57089936\n",
      "chrY\t57097853\t57100318\n",
      "\n",
      "Get the bedgraph\n",
      "\n",
      "Done!\n"
     ]
    }
   ],
   "source": [
    "cat ${FD_LOG}/coverage_sample.12.txt"
   ]
  },
  {
   "cell_type": "code",
   "execution_count": null,
   "id": "2db4af30-5661-4da5-ab9f-642c90e90815",
   "metadata": {},
   "outputs": [],
   "source": []
  },
  {
   "cell_type": "code",
   "execution_count": null,
   "id": "255cf2d8-c49b-4b55-9005-cd55ff9cccba",
   "metadata": {},
   "outputs": [],
   "source": [
    "source ../config_duke.sh\n",
    "source ../load_module_bedtools.sh\n",
    "\n",
    "sbatch -p scavenger \\\n",
    "    --array 0-23 \\\n",
    "    --mem 8G \\\n",
    "    -o ${FD_LOG}/coverage_chrom.%a.txt \\\n",
    "    <<'EOF'\n",
    "#!/bin/bash\n",
    "### set directories & global variables\n",
    "source ../config_duke.sh\n",
    "CHROMS=($(seq 1 22) X Y)\n",
    "CHROM=chr${CHROMS[${SLURM_ARRAY_TASK_ID}]}\n",
    "TARGET=${CHROM}\n",
    "\n",
    "### set input and output\n",
    "FD_BEDS=($(ls -d ${FD_WRK}/data/*/))\n",
    "FN_BED=${CHROM}.bed\n",
    "FD_OUT=${FD_WRK}/coverage\n",
    "\n",
    "FD_GEN=${FD_ANN}/genome/hg38\n",
    "FN_GEN=hg38.chrom.sizes\n",
    "\n",
    "### print start message\n",
    "echo \"Slurm Array Index: \" ${SLURM_ARRAY_TASK_ID}\n",
    "\n",
    "### loop through each sample and count each fragment of a chromosome\n",
    "echo \"RUN: loop through samples; count fragment\"\n",
    "\n",
    "for FD_BED in ${FD_BEDS[@]}; do\n",
    "    SAMPLE=$(basename ${FD_BED})\n",
    "    FD_OUT=${FD_WRK}/coverage/${SAMPLE}\n",
    "    FN_OUT=${TARGET}.bedgraph\n",
    "    \n",
    "    ### START Message\n",
    "    echo ++++++++++++++++++++++++++++++++++++++++++++++++\n",
    "    echo \"Input  file: \" ${FD_BED}/${FN_BED}\n",
    "    echo \"Output file: \" ${FD_OUT}/${FN_OUT}\n",
    "    echo\n",
    "    echo \"Show the first few lines of the input file\"\n",
    "    echo ${FD_BED}/${FN_BED}\n",
    "    head -n 5 ${FD_BED}/${FN_BED}\n",
    "    echo\n",
    "    echo \"Show the last few lines of the input file\"\n",
    "    echo ${FD_BED}/${FN_BED}\n",
    "    tail -n 5 ${FD_BED}/${FN_BED}\n",
    "    echo\n",
    "    \n",
    "    ### init: create output folder if not exist\n",
    "    mkdir -p ${FD_OUT}\n",
    "    \n",
    "    ### Bedtools genomecov to get bedgraph\n",
    "    echo \"Get the bedgraph\"\n",
    "    bedtools genomecov -i ${FD_BED}/${FN_BED} -g ${FD_GEN}/${FN_GEN} -bg > ${FD_OUT}/${FN_OUT}\n",
    "    echo\n",
    "    \n",
    "    ### END Message\n",
    "    echo \"Show the first few lines of the output file\"\n",
    "    echo ${FD_OUT}/${FN_OUT}\n",
    "    head -n 5 ${FD_OUT}/${FN_OUT}\n",
    "    echo\n",
    "    echo \"Show the last few lines of the output file\"\n",
    "    echo ${FD_OUT}/${FN_OUT}\n",
    "    tail -n 5 ${FD_OUT}/${FN_OUT}\n",
    "    echo\n",
    "done\n",
    "echo \"Done!\"\n",
    "\n",
    "EOF"
   ]
  }
 ],
 "metadata": {
  "kernelspec": {
   "display_name": "Bash",
   "language": "bash",
   "name": "bash"
  },
  "language_info": {
   "codemirror_mode": "shell",
   "file_extension": ".sh",
   "mimetype": "text/x-sh",
   "name": "bash"
  }
 },
 "nbformat": 4,
 "nbformat_minor": 5
}
