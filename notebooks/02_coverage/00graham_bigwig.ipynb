{
 "cells": [
  {
   "cell_type": "code",
   "execution_count": 1,
   "id": "2afa0026-10e5-4902-9339-93758adcc729",
   "metadata": {},
   "outputs": [
    {
     "name": "stdout",
     "output_type": "stream",
     "text": [
      "\u001b[0m\u001b[38;5;27mnormalized\u001b[0m  \u001b[38;5;27munnormalized\u001b[0m\n"
     ]
    }
   ],
   "source": [
    "FDIRY=/data/reddylab/gjohnson/whole_genome_STARRseq/wgss3/alignment_and_processing/bigwigs/\n",
    "ls ${FDIRY}"
   ]
  },
  {
   "cell_type": "code",
   "execution_count": 2,
   "id": "47295123-26c4-4583-a2b0-1bd3c2d5ed98",
   "metadata": {},
   "outputs": [
    {
     "name": "stdout",
     "output_type": "stream",
     "text": [
      "AZD2906_mean_rpkm.bw\n",
      "AZD2906_mean_rpkm_mean_input_subtracted.bw\n",
      "AZD9567_mean_rpkm.bw\n",
      "AZD9567_mean_rpkm_mean_input_subtracted.bw\n",
      "CORT108297_mean_rpkm.bw\n",
      "CORT108297_mean_rpkm_mean_input_subtracted.bw\n",
      "CpdA_mean_rpkm.bw\n",
      "CpdA_mean_rpkm_mean_input_subtracted.bw\n",
      "Dex_mean_rpkm.bw\n",
      "Dex_mean_rpkm_mean_input_subtracted.bw\n",
      "DMSO_mean_rpkm.bw\n",
      "DMSO_mean_rpkm_mean_input_subtracted.bw\n",
      "GW870086_mean_rpkm.bw\n",
      "GW870086_mean_rpkm_mean_input_subtracted.bw\n",
      "Hydrocortisone_mean_rpkm.bw\n",
      "Hydrocortisone_mean_rpkm_mean_input_subtracted.bw\n",
      "Input1_rpkm_normalized.bw\n",
      "Input2_rpkm_normalized.bw\n",
      "Input3_rpkm_normalized.bw\n",
      "Input4_rpkm_normalized.bw\n",
      "Input5_rpkm_normalized.bw\n",
      "Input_mean_rpkm.bw\n",
      "Mapracorat_mean_rpkm.bw\n",
      "Mapracorat_mean_rpkm_mean_input_subtracted.bw\n",
      "RU486_mean_rpkm.bw\n",
      "RU486_mean_rpkm_mean_input_subtracted.bw\n",
      "TFX2_AZD2906_rpkm_normalized.bw\n",
      "TFX2_AZD9567_rpkm_normalized.bw\n",
      "TFX2_CORT108297_rpkm_normalized.bw\n",
      "TFX2_CpdA_rpkm_normalized.bw\n",
      "TFX2_Dex_rpkm_normalized.bw\n",
      "TFX2_DMSO_rpkm_normalized.bw\n",
      "TFX2_GW870086_rpkm_normalized.bw\n",
      "TFX2_Hydrocortisone_rpkm_normalized.bw\n",
      "TFX2_Mapracorat_rpkm_normalized.bw\n",
      "TFX2_RU486_rpkm_normalized.bw\n",
      "TFX2_ZK216348_rpkm_normalized.bw\n",
      "TFX3_AZD2906_rpkm_normalized.bw\n",
      "TFX3_AZD9567_rpkm_normalized.bw\n",
      "TFX3_CORT108297_rpkm_normalized.bw\n",
      "TFX3_CpdA_rpkm_normalized.bw\n",
      "TFX3_Dex_rpkm_normalized.bw\n",
      "TFX3_DMSO_rpkm_normalized.bw\n",
      "TFX3_GW870086_rpkm_normalized.bw\n",
      "TFX3_Hydrocortisone_rpkm_normalized.bw\n",
      "TFX3_Mapracorat_rpkm_normalized.bw\n",
      "TFX3_RU486_rpkm_normalized.bw\n",
      "TFX3_ZK216348_rpkm_normalized.bw\n",
      "TFX4_AZD2906_rpkm_normalized.bw\n",
      "TFX4_AZD9567_rpkm_normalized.bw\n",
      "TFX4_CORT108297_rpkm_normalized.bw\n",
      "TFX4_CpdA_rpkm_normalized.bw\n",
      "TFX4_Dex_rpkm_normalized.bw\n",
      "TFX4_DMSO_rpkm_normalized.bw\n",
      "TFX4_GW870086_rpkm_normalized.bw\n",
      "TFX4_Hydrocortisone_rpkm_normalized.bw\n",
      "TFX4_Mapracorat_rpkm_normalized.bw\n",
      "TFX4_RU486_rpkm_normalized.bw\n",
      "TFX4_ZK216348_rpkm_normalized.bw\n",
      "TFX5_AZD2906_rpkm_normalized.bw\n",
      "TFX5_AZD9567_rpkm_normalized.bw\n",
      "TFX5_CORT108297_rpkm_normalized.bw\n",
      "TFX5_CpdA_rpkm_normalized.bw\n",
      "TFX5_Dex_rpkm_normalized.bw\n",
      "TFX5_DMSO_rpkm_normalized.bw\n",
      "TFX5_GW870086_rpkm_normalized.bw\n",
      "TFX5_Hydrocortisone_rpkm_normalized.bw\n",
      "TFX5_Mapracorat_rpkm_normalized.bw\n",
      "TFX5_RU486_rpkm_normalized.bw\n",
      "TFX5_ZK216348_rpkm_normalized.bw\n",
      "ZK216348_mean_rpkm.bw\n",
      "ZK216348_mean_rpkm_mean_input_subtracted.bw\n"
     ]
    }
   ],
   "source": [
    "FDIRY=/data/reddylab/gjohnson/whole_genome_STARRseq/wgss3/alignment_and_processing/bigwigs/\n",
    "ls ${FDIRY}/normalized"
   ]
  },
  {
   "cell_type": "code",
   "execution_count": null,
   "id": "90c13dbc-aa7a-4962-bba9-0f7268d8a246",
   "metadata": {},
   "outputs": [],
   "source": []
  }
 ],
 "metadata": {
  "kernelspec": {
   "display_name": "Bash",
   "language": "bash",
   "name": "bash"
  },
  "language_info": {
   "codemirror_mode": "shell",
   "file_extension": ".sh",
   "mimetype": "text/x-sh",
   "name": "bash"
  }
 },
 "nbformat": 4,
 "nbformat_minor": 5
}
