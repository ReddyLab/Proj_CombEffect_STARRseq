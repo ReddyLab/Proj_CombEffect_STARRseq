{
 "cells": [
  {
   "cell_type": "markdown",
   "id": "20ecd6be-1ceb-44a4-85b5-7004543419a5",
   "metadata": {},
   "source": [
    "**Set environment**"
   ]
  },
  {
   "cell_type": "code",
   "execution_count": 1,
   "id": "a105c065-803c-4cfb-b374-32a1d6c7d7d2",
   "metadata": {},
   "outputs": [],
   "source": [
    "source ../config_duke.sh"
   ]
  },
  {
   "cell_type": "code",
   "execution_count": 13,
   "id": "5ad3aff9-70d1-4ead-8124-3974e5c6021b",
   "metadata": {},
   "outputs": [],
   "source": [
    "### Hack for SIGPIPE error in Jupyter notebook\n",
    "cleanup () {\n",
    "    :\n",
    "}\n",
    "trap \"cleanup\" SIGPIPE\n",
    "\n",
    "### errors if an variable is referenced before being set\n",
    "set -u"
   ]
  },
  {
   "cell_type": "markdown",
   "id": "0cbbeadc-6e44-4e70-b5cd-32e4ff2f78a0",
   "metadata": {},
   "source": [
    "## Explore files"
   ]
  },
  {
   "cell_type": "code",
   "execution_count": 2,
   "id": "ea3a8183-4c81-4b9c-b7c9-6cacaf50ac4d",
   "metadata": {},
   "outputs": [
    {
     "name": "stdout",
     "output_type": "stream",
     "text": [
      "\u001b[0m\u001b[38;5;27mInput1\u001b[0m           \u001b[38;5;27mTFX2_Dex\u001b[0m             \u001b[38;5;27mTFX3_Hydrocortisone\u001b[0m  \u001b[38;5;27mTFX4_ZK216348\u001b[0m\n",
      "\u001b[38;5;27mInput1_20x\u001b[0m       \u001b[38;5;27mTFX2_DMSO\u001b[0m            \u001b[38;5;27mTFX3_Mapracorat\u001b[0m      \u001b[38;5;27mTFX5_AZD2906\u001b[0m\n",
      "\u001b[38;5;27mInput2\u001b[0m           \u001b[38;5;27mTFX2_GW870086\u001b[0m        \u001b[38;5;27mTFX3_RU486\u001b[0m           \u001b[38;5;27mTFX5_AZD9567\u001b[0m\n",
      "\u001b[38;5;27mInput2_20x\u001b[0m       \u001b[38;5;27mTFX2_Hydrocortisone\u001b[0m  \u001b[38;5;27mTFX3_ZK216348\u001b[0m        \u001b[38;5;27mTFX5_CORT108297\u001b[0m\n",
      "\u001b[38;5;27mInput3\u001b[0m           \u001b[38;5;27mTFX2_Mapracorat\u001b[0m      \u001b[38;5;27mTFX4_AZD2906\u001b[0m         \u001b[38;5;27mTFX5_CpdA\u001b[0m\n",
      "\u001b[38;5;27mInput3_20x\u001b[0m       \u001b[38;5;27mTFX2_RU486\u001b[0m           \u001b[38;5;27mTFX4_AZD9567\u001b[0m         \u001b[38;5;27mTFX5_Dex\u001b[0m\n",
      "\u001b[38;5;27mInput4\u001b[0m           \u001b[38;5;27mTFX2_ZK216348\u001b[0m        \u001b[38;5;27mTFX4_CORT108297\u001b[0m      \u001b[38;5;27mTFX5_DMSO\u001b[0m\n",
      "\u001b[38;5;27mInput4_20x\u001b[0m       \u001b[38;5;27mTFX3_AZD2906\u001b[0m         \u001b[38;5;27mTFX4_CpdA\u001b[0m            \u001b[38;5;27mTFX5_GW870086\u001b[0m\n",
      "\u001b[38;5;27mInput5\u001b[0m           \u001b[38;5;27mTFX3_AZD9567\u001b[0m         \u001b[38;5;27mTFX4_Dex\u001b[0m             \u001b[38;5;27mTFX5_Hydrocortisone\u001b[0m\n",
      "\u001b[38;5;27mInput5_20x\u001b[0m       \u001b[38;5;27mTFX3_CORT108297\u001b[0m      \u001b[38;5;27mTFX4_DMSO\u001b[0m            \u001b[38;5;27mTFX5_Mapracorat\u001b[0m\n",
      "\u001b[38;5;27mTFX2_AZD2906\u001b[0m     \u001b[38;5;27mTFX3_CpdA\u001b[0m            \u001b[38;5;27mTFX4_GW870086\u001b[0m        \u001b[38;5;27mTFX5_RU486\u001b[0m\n",
      "\u001b[38;5;27mTFX2_AZD9567\u001b[0m     \u001b[38;5;27mTFX3_Dex\u001b[0m             \u001b[38;5;27mTFX4_Hydrocortisone\u001b[0m  \u001b[38;5;27mTFX5_ZK216348\u001b[0m\n",
      "\u001b[38;5;27mTFX2_CORT108297\u001b[0m  \u001b[38;5;27mTFX3_DMSO\u001b[0m            \u001b[38;5;27mTFX4_Mapracorat\u001b[0m\n",
      "\u001b[38;5;27mTFX2_CpdA\u001b[0m        \u001b[38;5;27mTFX3_GW870086\u001b[0m        \u001b[38;5;27mTFX4_RU486\u001b[0m\n"
     ]
    }
   ],
   "source": [
    "ls ${FD_RES}/coverage"
   ]
  },
  {
   "cell_type": "markdown",
   "id": "7983313d-b926-4ae5-9ed7-f3f2c5acdd1c",
   "metadata": {},
   "source": [
    "**STARR Input**"
   ]
  },
  {
   "cell_type": "code",
   "execution_count": 3,
   "id": "3d8feb2f-30d6-4083-b0d1-7cda700ec8ee",
   "metadata": {},
   "outputs": [
    {
     "name": "stdout",
     "output_type": "stream",
     "text": [
      "/gpfs/fs1/data/reddylab/Kuei/out/proj_combeffect/coverage/Input1:\n",
      "\u001b[0m\u001b[38;5;9mchr17_perbase.tsv.gz\u001b[0m  Input1.bw             target_PER1.txt\n",
      "Input1.bedgraph       target_PER1.bedgraph\n",
      "\n",
      "/gpfs/fs1/data/reddylab/Kuei/out/proj_combeffect/coverage/Input2:\n",
      "\u001b[38;5;9mchr17_perbase.tsv.gz\u001b[0m  Input2.bedgraph  Input2.bw\n",
      "\n",
      "/gpfs/fs1/data/reddylab/Kuei/out/proj_combeffect/coverage/Input3:\n",
      "\u001b[38;5;9mchr17_perbase.tsv.gz\u001b[0m  Input3.bedgraph  Input3.bw\n",
      "\n",
      "/gpfs/fs1/data/reddylab/Kuei/out/proj_combeffect/coverage/Input4:\n",
      "\u001b[38;5;9mchr17_perbase.tsv.gz\u001b[0m  Input4.bedgraph  Input4.bw\n",
      "\n",
      "/gpfs/fs1/data/reddylab/Kuei/out/proj_combeffect/coverage/Input5:\n",
      "\u001b[38;5;9mchr17_perbase.tsv.gz\u001b[0m  Input5.bedgraph  Input5.bw\n"
     ]
    }
   ],
   "source": [
    "ls ${FD_RES}/coverage/Input?"
   ]
  },
  {
   "cell_type": "code",
   "execution_count": 4,
   "id": "c1c91866-0ab7-46e7-ba05-be25d50146e0",
   "metadata": {},
   "outputs": [
    {
     "name": "stdout",
     "output_type": "stream",
     "text": [
      "/gpfs/fs1/data/reddylab/Kuei/out/proj_combeffect/coverage/Input1_20x:\n",
      "\u001b[0m\u001b[38;5;9mchr17_perbase.tsv.gz\u001b[0m  Input1_20x.bedgraph  Input1_20x.bw\n",
      "\n",
      "/gpfs/fs1/data/reddylab/Kuei/out/proj_combeffect/coverage/Input2_20x:\n",
      "\u001b[38;5;9mchr17_perbase.tsv.gz\u001b[0m  Input2_20x.bedgraph  Input2_20x.bw\n",
      "\n",
      "/gpfs/fs1/data/reddylab/Kuei/out/proj_combeffect/coverage/Input3_20x:\n",
      "\u001b[38;5;9mchr17_perbase.tsv.gz\u001b[0m  Input3_20x.bedgraph  Input3_20x.bw\n",
      "\n",
      "/gpfs/fs1/data/reddylab/Kuei/out/proj_combeffect/coverage/Input4_20x:\n",
      "\u001b[38;5;9mchr17_perbase.tsv.gz\u001b[0m  Input4_20x.bedgraph  Input4_20x.bw\n",
      "\n",
      "/gpfs/fs1/data/reddylab/Kuei/out/proj_combeffect/coverage/Input5_20x:\n",
      "\u001b[38;5;9mchr17_perbase.tsv.gz\u001b[0m  Input5_20x.bedgraph  Input5_20x.bw\n"
     ]
    }
   ],
   "source": [
    "ls ${FD_RES}/coverage/Input?_20x"
   ]
  },
  {
   "cell_type": "markdown",
   "id": "a20c231a-2a7f-4770-a5f0-8bcb9f366850",
   "metadata": {},
   "source": [
    "**STARR Output (DMSO)**"
   ]
  },
  {
   "cell_type": "code",
   "execution_count": 5,
   "id": "d9bba7b3-148a-4660-9157-149e207fb308",
   "metadata": {},
   "outputs": [
    {
     "name": "stdout",
     "output_type": "stream",
     "text": [
      "/gpfs/fs1/data/reddylab/Kuei/out/proj_combeffect/coverage/TFX2_DMSO:\n",
      "\u001b[0m\u001b[38;5;9mchr17_perbase.tsv.gz\u001b[0m  TFX2_DMSO.bedgraph  TFX2_DMSO.bw\n",
      "\n",
      "/gpfs/fs1/data/reddylab/Kuei/out/proj_combeffect/coverage/TFX3_DMSO:\n",
      "\u001b[38;5;9mchr17_perbase.tsv.gz\u001b[0m  TFX3_DMSO.bedgraph  TFX3_DMSO.bw\n",
      "\n",
      "/gpfs/fs1/data/reddylab/Kuei/out/proj_combeffect/coverage/TFX4_DMSO:\n",
      "\u001b[38;5;9mchr17_perbase.tsv.gz\u001b[0m  TFX4_DMSO.bedgraph  TFX4_DMSO.bw\n",
      "\n",
      "/gpfs/fs1/data/reddylab/Kuei/out/proj_combeffect/coverage/TFX5_DMSO:\n",
      "\u001b[38;5;9mchr17_perbase.tsv.gz\u001b[0m  TFX5_DMSO.bedgraph  TFX5_DMSO.bw\n"
     ]
    }
   ],
   "source": [
    "ls ${FD_RES}/coverage/TFX?_DMSO"
   ]
  },
  {
   "cell_type": "markdown",
   "id": "60e72a18-1814-4c46-8aaf-f9fef4ee2df4",
   "metadata": {},
   "source": [
    "**STARR Output (Dex)**"
   ]
  },
  {
   "cell_type": "code",
   "execution_count": 6,
   "id": "ec7e0910-b965-4af3-a89a-38cfa0c838ca",
   "metadata": {},
   "outputs": [
    {
     "name": "stdout",
     "output_type": "stream",
     "text": [
      "/gpfs/fs1/data/reddylab/Kuei/out/proj_combeffect/coverage/TFX2_Dex:\n",
      "\u001b[0m\u001b[38;5;9mchr17_perbase.tsv.gz\u001b[0m  TFX2_Dex.bedgraph  TFX2_Dex.bw\n",
      "\n",
      "/gpfs/fs1/data/reddylab/Kuei/out/proj_combeffect/coverage/TFX3_Dex:\n",
      "\u001b[38;5;9mchr17_perbase.tsv.gz\u001b[0m  TFX3_Dex.bedgraph  TFX3_Dex.bw\n",
      "\n",
      "/gpfs/fs1/data/reddylab/Kuei/out/proj_combeffect/coverage/TFX4_Dex:\n",
      "\u001b[38;5;9mchr17_perbase.tsv.gz\u001b[0m  TFX4_Dex.bedgraph  TFX4_Dex.bw\n",
      "\n",
      "/gpfs/fs1/data/reddylab/Kuei/out/proj_combeffect/coverage/TFX5_Dex:\n",
      "\u001b[38;5;9mchr17_perbase.tsv.gz\u001b[0m  TFX5_Dex.bedgraph  TFX5_Dex.bw\n"
     ]
    }
   ],
   "source": [
    "ls ${FD_RES}/coverage/TFX?_Dex"
   ]
  },
  {
   "cell_type": "markdown",
   "id": "e8ec6eea-cc33-48e9-918c-a67a29e7420c",
   "metadata": {},
   "source": [
    "## Extract PER1 region"
   ]
  },
  {
   "cell_type": "code",
   "execution_count": 14,
   "id": "7543a094-ddbf-4689-b0da-bd2c43dabeea",
   "metadata": {},
   "outputs": [
    {
     "name": "stdout",
     "output_type": "stream",
     "text": [
      "chr17\t1\t0\n",
      "chr17\t2\t0\n",
      "chr17\t3\t0\n",
      "chr17\t4\t0\n",
      "chr17\t5\t0\n",
      "chr17\t6\t0\n",
      "chr17\t7\t0\n",
      "chr17\t8\t0\n",
      "chr17\t9\t0\n",
      "chr17\t10\t0\n"
     ]
    }
   ],
   "source": [
    "zcat ${FD_RES}/coverage/Input?_20x/chr17_perbase.tsv.gz | head "
   ]
  },
  {
   "cell_type": "code",
   "execution_count": 15,
   "id": "984a90cb-7fc5-41b2-9b00-e66d27560d82",
   "metadata": {},
   "outputs": [
    {
     "name": "stdout",
     "output_type": "stream",
     "text": [
      "chr17\t8148000\t501\n",
      "chr17\t8148001\t501\n",
      "chr17\t8148002\t500\n",
      "chr17\t8148003\t492\n",
      "chr17\t8148004\t495\n",
      "chr17\t8148005\t497\n",
      "chr17\t8148006\t498\n",
      "chr17\t8148007\t496\n",
      "chr17\t8148008\t497\n",
      "chr17\t8148009\t497\n"
     ]
    }
   ],
   "source": [
    "### output the filtered coverage\n",
    "zcat ${FD_RES}/coverage/Input1_20x/chr17_perbase.tsv.gz | awk -F $'\\t' '($2 >= 8148000 && $2 <= 8160000)' | head"
   ]
  },
  {
   "cell_type": "code",
   "execution_count": 24,
   "id": "e6c6cefa-6819-4dbd-bbf1-45a38284a89c",
   "metadata": {},
   "outputs": [
    {
     "name": "stdout",
     "output_type": "stream",
     "text": [
      "bash: SLURM_ARRAY_TASK_ID: unbound variable\n",
      "Time Stamp:         07-25-22+00:52:25\n",
      "\n",
      "Input  File: /gpfs/fs1/data/reddylab/Kuei/out/proj_combeffect/coverage/Input1//chr17_perbase.tsv.gz\n",
      "Output File: /gpfs/fs1/data/reddylab/Kuei/out/proj_combeffect/coverage/Input1//target_PER1_perbase.tsv.gz\n",
      "Show input file:\n",
      "chr17\t1\t0\n",
      "chr17\t2\t0\n",
      "chr17\t3\t0\n",
      "\n",
      "Show output file:\n",
      "chr17\t8148000\t10\n",
      "chr17\t8148001\t10\n",
      "chr17\t8148002\t10\n",
      "\n",
      "Input  File: /gpfs/fs1/data/reddylab/Kuei/out/proj_combeffect/coverage/Input1_20x//chr17_perbase.tsv.gz\n",
      "Output File: /gpfs/fs1/data/reddylab/Kuei/out/proj_combeffect/coverage/Input1_20x//target_PER1_perbase.tsv.gz\n",
      "Show input file:\n",
      "chr17\t1\t0\n",
      "chr17\t2\t0\n",
      "chr17\t3\t0\n",
      "\n",
      "Show output file:\n",
      "chr17\t8148000\t501\n",
      "chr17\t8148001\t501\n",
      "chr17\t8148002\t500\n",
      "\n",
      "Input  File: /gpfs/fs1/data/reddylab/Kuei/out/proj_combeffect/coverage/Input2//chr17_perbase.tsv.gz\n",
      "Output File: /gpfs/fs1/data/reddylab/Kuei/out/proj_combeffect/coverage/Input2//target_PER1_perbase.tsv.gz\n",
      "Show input file:\n",
      "chr17\t1\t0\n",
      "chr17\t2\t0\n",
      "chr17\t3\t0\n",
      "\n",
      "Show output file:\n",
      "chr17\t8148000\t13\n",
      "chr17\t8148001\t13\n",
      "chr17\t8148002\t13\n",
      "\n",
      "Input  File: /gpfs/fs1/data/reddylab/Kuei/out/proj_combeffect/coverage/Input2_20x//chr17_perbase.tsv.gz\n",
      "Output File: /gpfs/fs1/data/reddylab/Kuei/out/proj_combeffect/coverage/Input2_20x//target_PER1_perbase.tsv.gz\n",
      "Show input file:\n",
      "chr17\t1\t0\n",
      "chr17\t2\t0\n",
      "chr17\t3\t0\n",
      "\n",
      "Show output file:\n",
      "chr17\t8148000\t441\n",
      "chr17\t8148001\t443\n",
      "chr17\t8148002\t441\n",
      "\n",
      "Input  File: /gpfs/fs1/data/reddylab/Kuei/out/proj_combeffect/coverage/Input3//chr17_perbase.tsv.gz\n",
      "Output File: /gpfs/fs1/data/reddylab/Kuei/out/proj_combeffect/coverage/Input3//target_PER1_perbase.tsv.gz\n",
      "Show input file:\n",
      "chr17\t1\t0\n",
      "chr17\t2\t0\n",
      "chr17\t3\t0\n",
      "\n",
      "Show output file:\n",
      "chr17\t8148000\t19\n",
      "chr17\t8148001\t19\n",
      "chr17\t8148002\t19\n",
      "\n",
      "Input  File: /gpfs/fs1/data/reddylab/Kuei/out/proj_combeffect/coverage/Input3_20x//chr17_perbase.tsv.gz\n",
      "Output File: /gpfs/fs1/data/reddylab/Kuei/out/proj_combeffect/coverage/Input3_20x//target_PER1_perbase.tsv.gz\n",
      "Show input file:\n",
      "chr17\t1\t0\n",
      "chr17\t2\t0\n",
      "chr17\t3\t0\n",
      "\n",
      "Show output file:\n",
      "chr17\t8148000\t427\n",
      "chr17\t8148001\t428\n",
      "chr17\t8148002\t427\n",
      "\n",
      "Input  File: /gpfs/fs1/data/reddylab/Kuei/out/proj_combeffect/coverage/Input4//chr17_perbase.tsv.gz\n",
      "Output File: /gpfs/fs1/data/reddylab/Kuei/out/proj_combeffect/coverage/Input4//target_PER1_perbase.tsv.gz\n",
      "Show input file:\n",
      "chr17\t1\t0\n",
      "chr17\t2\t0\n",
      "chr17\t3\t0\n",
      "\n",
      "Show output file:\n",
      "chr17\t8148000\t21\n",
      "chr17\t8148001\t21\n",
      "chr17\t8148002\t21\n",
      "\n",
      "Input  File: /gpfs/fs1/data/reddylab/Kuei/out/proj_combeffect/coverage/Input4_20x//chr17_perbase.tsv.gz\n",
      "Output File: /gpfs/fs1/data/reddylab/Kuei/out/proj_combeffect/coverage/Input4_20x//target_PER1_perbase.tsv.gz\n",
      "Show input file:\n",
      "chr17\t1\t0\n",
      "chr17\t2\t0\n",
      "chr17\t3\t0\n",
      "\n",
      "Show output file:\n",
      "chr17\t8148000\t430\n",
      "chr17\t8148001\t431\n",
      "chr17\t8148002\t430\n",
      "\n",
      "Input  File: /gpfs/fs1/data/reddylab/Kuei/out/proj_combeffect/coverage/Input5//chr17_perbase.tsv.gz\n",
      "Output File: /gpfs/fs1/data/reddylab/Kuei/out/proj_combeffect/coverage/Input5//target_PER1_perbase.tsv.gz\n",
      "Show input file:\n",
      "chr17\t1\t0\n",
      "chr17\t2\t0\n",
      "chr17\t3\t0\n",
      "\n",
      "Show output file:\n",
      "chr17\t8148000\t11\n",
      "chr17\t8148001\t11\n",
      "chr17\t8148002\t11\n",
      "\n",
      "Input  File: /gpfs/fs1/data/reddylab/Kuei/out/proj_combeffect/coverage/Input5_20x//chr17_perbase.tsv.gz\n",
      "Output File: /gpfs/fs1/data/reddylab/Kuei/out/proj_combeffect/coverage/Input5_20x//target_PER1_perbase.tsv.gz\n",
      "Show input file:\n",
      "chr17\t1\t0\n",
      "chr17\t2\t0\n",
      "chr17\t3\t0\n",
      "\n",
      "Show output file:\n",
      "chr17\t8148000\t401\n",
      "chr17\t8148001\t402\n",
      "chr17\t8148002\t401\n",
      "\n",
      "Input  File: /gpfs/fs1/data/reddylab/Kuei/out/proj_combeffect/coverage/TFX2_Dex//chr17_perbase.tsv.gz\n",
      "Output File: /gpfs/fs1/data/reddylab/Kuei/out/proj_combeffect/coverage/TFX2_Dex//target_PER1_perbase.tsv.gz\n",
      "Show input file:\n",
      "chr17\t1\t0\n",
      "chr17\t2\t0\n",
      "chr17\t3\t0\n",
      "\n",
      "Show output file:\n",
      "chr17\t8148000\t76\n",
      "chr17\t8148001\t77\n",
      "chr17\t8148002\t77\n",
      "\n",
      "Input  File: /gpfs/fs1/data/reddylab/Kuei/out/proj_combeffect/coverage/TFX2_DMSO//chr17_perbase.tsv.gz\n",
      "Output File: /gpfs/fs1/data/reddylab/Kuei/out/proj_combeffect/coverage/TFX2_DMSO//target_PER1_perbase.tsv.gz\n",
      "Show input file:\n",
      "chr17\t1\t0\n",
      "chr17\t2\t0\n",
      "chr17\t3\t0\n",
      "\n",
      "Show output file:\n",
      "chr17\t8148000\t43\n",
      "chr17\t8148001\t44\n",
      "chr17\t8148002\t45\n",
      "\n",
      "Input  File: /gpfs/fs1/data/reddylab/Kuei/out/proj_combeffect/coverage/TFX3_Dex//chr17_perbase.tsv.gz\n",
      "Output File: /gpfs/fs1/data/reddylab/Kuei/out/proj_combeffect/coverage/TFX3_Dex//target_PER1_perbase.tsv.gz\n",
      "Show input file:\n",
      "chr17\t1\t0\n",
      "chr17\t2\t0\n",
      "chr17\t3\t0\n",
      "\n",
      "Show output file:\n",
      "chr17\t8148000\t17\n",
      "chr17\t8148001\t17\n",
      "chr17\t8148002\t17\n",
      "\n",
      "Input  File: /gpfs/fs1/data/reddylab/Kuei/out/proj_combeffect/coverage/TFX3_DMSO//chr17_perbase.tsv.gz\n",
      "Output File: /gpfs/fs1/data/reddylab/Kuei/out/proj_combeffect/coverage/TFX3_DMSO//target_PER1_perbase.tsv.gz\n",
      "Show input file:\n",
      "chr17\t1\t0\n",
      "chr17\t2\t0\n",
      "chr17\t3\t0\n",
      "\n",
      "Show output file:\n",
      "chr17\t8148000\t50\n",
      "chr17\t8148001\t50\n",
      "chr17\t8148002\t50\n",
      "\n",
      "Input  File: /gpfs/fs1/data/reddylab/Kuei/out/proj_combeffect/coverage/TFX4_Dex//chr17_perbase.tsv.gz\n",
      "Output File: /gpfs/fs1/data/reddylab/Kuei/out/proj_combeffect/coverage/TFX4_Dex//target_PER1_perbase.tsv.gz\n",
      "Show input file:\n",
      "chr17\t1\t0\n",
      "chr17\t2\t0\n",
      "chr17\t3\t0\n",
      "\n",
      "Show output file:\n",
      "chr17\t8148000\t14\n",
      "chr17\t8148001\t14\n",
      "chr17\t8148002\t14\n",
      "\n",
      "Input  File: /gpfs/fs1/data/reddylab/Kuei/out/proj_combeffect/coverage/TFX4_DMSO//chr17_perbase.tsv.gz\n",
      "Output File: /gpfs/fs1/data/reddylab/Kuei/out/proj_combeffect/coverage/TFX4_DMSO//target_PER1_perbase.tsv.gz\n",
      "Show input file:\n",
      "chr17\t1\t0\n",
      "chr17\t2\t0\n",
      "chr17\t3\t0\n",
      "\n",
      "Show output file:\n",
      "chr17\t8148000\t31\n",
      "chr17\t8148001\t31\n",
      "chr17\t8148002\t31\n",
      "\n",
      "Input  File: /gpfs/fs1/data/reddylab/Kuei/out/proj_combeffect/coverage/TFX5_Dex//chr17_perbase.tsv.gz\n",
      "Output File: /gpfs/fs1/data/reddylab/Kuei/out/proj_combeffect/coverage/TFX5_Dex//target_PER1_perbase.tsv.gz\n",
      "Show input file:\n",
      "chr17\t1\t0\n",
      "chr17\t2\t0\n",
      "chr17\t3\t0\n",
      "\n",
      "Show output file:\n",
      "chr17\t8148000\t33\n",
      "chr17\t8148001\t33\n",
      "chr17\t8148002\t33\n",
      "\n",
      "Input  File: /gpfs/fs1/data/reddylab/Kuei/out/proj_combeffect/coverage/TFX5_DMSO//chr17_perbase.tsv.gz\n",
      "Output File: /gpfs/fs1/data/reddylab/Kuei/out/proj_combeffect/coverage/TFX5_DMSO//target_PER1_perbase.tsv.gz\n",
      "Show input file:\n",
      "chr17\t1\t0\n",
      "chr17\t2\t0\n",
      "chr17\t3\t0\n",
      "\n",
      "Show output file:\n",
      "chr17\t8148000\t35\n",
      "chr17\t8148001\t35\n",
      "chr17\t8148002\t35\n",
      "\n",
      "\n",
      "Done!\n",
      "Run Time: 26 minutes and 5 seconds\n"
     ]
    }
   ],
   "source": [
    "### set global variable\n",
    "TARGET=target_PER1\n",
    "CHROM=chr17\n",
    "\n",
    "FD_COVS=($(ls -d ${FD_RES}/coverage/{Input?*,TFX?_DMSO,TFX?_Dex}/))\n",
    "FN_COV=${CHROM}_perbase.tsv.gz\n",
    "FN_OUT=${TARGET}_perbase.tsv.gz\n",
    "\n",
    "### print start message\n",
    "timer_start=`date +%s`\n",
    "echo \"Slurm Array Index: \" ${SLURM_ARRAY_TASK_ID}\n",
    "echo \"Time Stamp:        \" $(date +\"%m-%d-%y+%T\")\n",
    "echo\n",
    "\n",
    "for FD_COV in ${FD_COVS[@]}; do\n",
    "    ### print file message\n",
    "    echo \"Input  File:\" ${FD_COV}/${FN_COV} \n",
    "    echo \"Output File:\" ${FD_COV}/${FN_OUT}\n",
    "    \n",
    "    ### show input file\n",
    "    echo \"Show input file:\"\n",
    "    zcat ${FD_COV}/${FN_COV} | head -3\n",
    "    echo\n",
    "    \n",
    "    ### execute\n",
    "    zcat ${FD_COV}/${FN_COV} \\\n",
    "    | awk -F $'\\t' '($2 >= 8148000 && $2 <= 8160000)' \\\n",
    "    | gzip -c \\\n",
    "    > ${FD_COV}/${FN_OUT}\n",
    "    \n",
    "    ### show output file\n",
    "    echo \"Show output file:\"\n",
    "    zcat ${FD_COV}/${FN_OUT} | head -3\n",
    "    echo \n",
    "done\n",
    "\n",
    "### print end message\n",
    "timer=`date +%s`\n",
    "runtime=$(echo \"${timer} - ${timer_start}\" | bc -l)\n",
    "echo\n",
    "echo 'Done!'\n",
    "echo \"Run Time: $(displaytime ${runtime})\""
   ]
  },
  {
   "cell_type": "code",
   "execution_count": null,
   "id": "0837d9c1-5620-4a94-883b-a26c759f409f",
   "metadata": {},
   "outputs": [],
   "source": []
  },
  {
   "cell_type": "code",
   "execution_count": null,
   "id": "ff09f750-75dd-460a-99e3-fdedf0e2807e",
   "metadata": {},
   "outputs": [],
   "source": []
  },
  {
   "cell_type": "code",
   "execution_count": null,
   "id": "2f6328af-4109-44b2-afdf-321ca0956d26",
   "metadata": {},
   "outputs": [],
   "source": []
  },
  {
   "cell_type": "code",
   "execution_count": 5,
   "id": "7681ffa0-5fb8-457e-af05-373c612841f4",
   "metadata": {},
   "outputs": [
    {
     "name": "stdout",
     "output_type": "stream",
     "text": [
      "chr10.bedgraph     chr19_perbase.txt  chr7.bedgraph\n",
      "chr10_perbase.txt  chr1.bedgraph      chr7_perbase.txt\n",
      "chr11.bedgraph     chr1_perbase.txt   chr8.bedgraph\n",
      "chr11_perbase.txt  chr20.bedgraph     chr8_perbase.txt\n",
      "chr12.bedgraph     chr20_perbase.txt  chr9.bedgraph\n",
      "chr12_perbase.txt  chr21.bedgraph     chr9_perbase.txt\n",
      "chr13.bedgraph     chr21_perbase.txt  chrX.bedgraph\n",
      "chr13_perbase.txt  chr22.bedgraph     chrX_perbase.txt\n",
      "chr14.bedgraph     chr22_perbase.txt  chrY.bedgraph\n",
      "chr14_perbase.txt  chr2.bedgraph      chrY_perbase.txt\n",
      "chr15.bedgraph     chr2_perbase.txt   Input1.bedgraph\n",
      "chr15_perbase.txt  chr3.bedgraph      Input1.bw\n",
      "chr16.bedgraph     chr3_perbase.txt   PER1.txt\n",
      "chr16_perbase.txt  chr4.bedgraph      target_PER1.bedgraph\n",
      "chr17.bedgraph     chr4_perbase.txt   target_PER1_perbase_test1.txt\n",
      "chr17_perbase.txt  chr5.bedgraph      target_PER1_perbase_test2.txt\n",
      "chr18.bedgraph     chr5_perbase.txt   target_PER1_perbase.txt\n",
      "chr18_perbase.txt  chr6.bedgraph      target_PER1.txt\n",
      "chr19.bedgraph     chr6_perbase.txt\n"
     ]
    }
   ],
   "source": [
    "ls ${FD_RES}/coverage/Input1"
   ]
  },
  {
   "cell_type": "code",
   "execution_count": 6,
   "id": "3a04de3b-eefb-4aec-bdf0-bb907bee90fe",
   "metadata": {},
   "outputs": [
    {
     "name": "stdout",
     "output_type": "stream",
     "text": [
      "chr17\t1\t0\n",
      "chr17\t2\t0\n",
      "chr17\t3\t0\n",
      "chr17\t4\t0\n",
      "chr17\t5\t0\n",
      "chr17\t6\t0\n",
      "chr17\t7\t0\n",
      "chr17\t8\t0\n",
      "chr17\t9\t0\n",
      "chr17\t10\t0\n"
     ]
    }
   ],
   "source": [
    "head ${FD_RES}/coverage/Input1/chr17_perbase.txt"
   ]
  },
  {
   "cell_type": "code",
   "execution_count": 7,
   "id": "663f7550-27ab-4679-b1d0-ced1e27f5789",
   "metadata": {},
   "outputs": [
    {
     "name": "stdout",
     "output_type": "stream",
     "text": [
      "chr17\t83257432\t0\n",
      "chr17\t83257433\t0\n",
      "chr17\t83257434\t0\n",
      "chr17\t83257435\t0\n",
      "chr17\t83257436\t0\n",
      "chr17\t83257437\t0\n",
      "chr17\t83257438\t0\n",
      "chr17\t83257439\t0\n",
      "chr17\t83257440\t0\n",
      "chr17\t83257441\t0\n"
     ]
    }
   ],
   "source": [
    "tail ${FD_RES}/coverage/Input1/chr17_perbase.txt"
   ]
  },
  {
   "cell_type": "code",
   "execution_count": 15,
   "id": "57599c14-7886-448a-9cad-7753c417fd3a",
   "metadata": {},
   "outputs": [
    {
     "name": "stdout",
     "output_type": "stream",
     "text": [
      "/work/kk319/out/CombEffect_STARR/coverage/Input/chr17_perbase.txt\n",
      "/work/kk319/out/CombEffect_STARR/coverage/Input1/chr17_perbase.txt\n",
      "/work/kk319/out/CombEffect_STARR/coverage/Input2/chr17_perbase.txt\n",
      "/work/kk319/out/CombEffect_STARR/coverage/Input3/chr17_perbase.txt\n",
      "/work/kk319/out/CombEffect_STARR/coverage/Input4/chr17_perbase.txt\n",
      "/work/kk319/out/CombEffect_STARR/coverage/Input5/chr17_perbase.txt\n",
      "/work/kk319/out/CombEffect_STARR/coverage/TFX2_DMSO/chr17_perbase.txt\n",
      "/work/kk319/out/CombEffect_STARR/coverage/TFX2_Dex/chr17_perbase.txt\n",
      "/work/kk319/out/CombEffect_STARR/coverage/TFX3_DMSO/chr17_perbase.txt\n",
      "/work/kk319/out/CombEffect_STARR/coverage/TFX3_Dex/chr17_perbase.txt\n",
      "/work/kk319/out/CombEffect_STARR/coverage/TFX4_DMSO/chr17_perbase.txt\n",
      "/work/kk319/out/CombEffect_STARR/coverage/TFX4_Dex/chr17_perbase.txt\n",
      "/work/kk319/out/CombEffect_STARR/coverage/TFX5_DMSO/chr17_perbase.txt\n",
      "/work/kk319/out/CombEffect_STARR/coverage/TFX5_Dex/chr17_perbase.txt\n",
      "/work/kk319/out/CombEffect_STARR/coverage/TFX_DMSO/chr17_perbase.txt\n",
      "/work/kk319/out/CombEffect_STARR/coverage/TFX_Dex/chr17_perbase.txt\n"
     ]
    }
   ],
   "source": [
    "FD_COV=${FD_WRK}/coverage\n",
    "ls ${FD_COV}/*/chr17_perbase.txt"
   ]
  },
  {
   "cell_type": "code",
   "execution_count": 21,
   "id": "4f9a9d05-33e6-4d57-82eb-13839c217b58",
   "metadata": {},
   "outputs": [
    {
     "name": "stdout",
     "output_type": "stream",
     "text": [
      "/work/kk319/out/CombEffect_STARR/coverage/Input/chr17_perbase.txt\n",
      "/work/kk319/out/CombEffect_STARR/coverage/Input\n",
      "Input\n",
      "/work/kk319/out/CombEffect_STARR/coverage/Input1/chr17_perbase.txt\n",
      "/work/kk319/out/CombEffect_STARR/coverage/Input1\n",
      "Input1\n",
      "/work/kk319/out/CombEffect_STARR/coverage/Input2/chr17_perbase.txt\n",
      "/work/kk319/out/CombEffect_STARR/coverage/Input2\n",
      "Input2\n",
      "/work/kk319/out/CombEffect_STARR/coverage/Input3/chr17_perbase.txt\n",
      "/work/kk319/out/CombEffect_STARR/coverage/Input3\n",
      "Input3\n",
      "/work/kk319/out/CombEffect_STARR/coverage/Input4/chr17_perbase.txt\n",
      "/work/kk319/out/CombEffect_STARR/coverage/Input4\n",
      "Input4\n",
      "/work/kk319/out/CombEffect_STARR/coverage/Input5/chr17_perbase.txt\n",
      "/work/kk319/out/CombEffect_STARR/coverage/Input5\n",
      "Input5\n",
      "/work/kk319/out/CombEffect_STARR/coverage/TFX2_DMSO/chr17_perbase.txt\n",
      "/work/kk319/out/CombEffect_STARR/coverage/TFX2_DMSO\n",
      "TFX2_DMSO\n",
      "/work/kk319/out/CombEffect_STARR/coverage/TFX2_Dex/chr17_perbase.txt\n",
      "/work/kk319/out/CombEffect_STARR/coverage/TFX2_Dex\n",
      "TFX2_Dex\n",
      "/work/kk319/out/CombEffect_STARR/coverage/TFX3_DMSO/chr17_perbase.txt\n",
      "/work/kk319/out/CombEffect_STARR/coverage/TFX3_DMSO\n",
      "TFX3_DMSO\n",
      "/work/kk319/out/CombEffect_STARR/coverage/TFX3_Dex/chr17_perbase.txt\n",
      "/work/kk319/out/CombEffect_STARR/coverage/TFX3_Dex\n",
      "TFX3_Dex\n",
      "/work/kk319/out/CombEffect_STARR/coverage/TFX4_DMSO/chr17_perbase.txt\n",
      "/work/kk319/out/CombEffect_STARR/coverage/TFX4_DMSO\n",
      "TFX4_DMSO\n",
      "/work/kk319/out/CombEffect_STARR/coverage/TFX4_Dex/chr17_perbase.txt\n",
      "/work/kk319/out/CombEffect_STARR/coverage/TFX4_Dex\n",
      "TFX4_Dex\n",
      "/work/kk319/out/CombEffect_STARR/coverage/TFX5_DMSO/chr17_perbase.txt\n",
      "/work/kk319/out/CombEffect_STARR/coverage/TFX5_DMSO\n",
      "TFX5_DMSO\n",
      "/work/kk319/out/CombEffect_STARR/coverage/TFX5_Dex/chr17_perbase.txt\n",
      "/work/kk319/out/CombEffect_STARR/coverage/TFX5_Dex\n",
      "TFX5_Dex\n",
      "/work/kk319/out/CombEffect_STARR/coverage/TFX_DMSO/chr17_perbase.txt\n",
      "/work/kk319/out/CombEffect_STARR/coverage/TFX_DMSO\n",
      "TFX_DMSO\n",
      "/work/kk319/out/CombEffect_STARR/coverage/TFX_Dex/chr17_perbase.txt\n",
      "/work/kk319/out/CombEffect_STARR/coverage/TFX_Dex\n",
      "TFX_Dex\n"
     ]
    }
   ],
   "source": [
    "TARGET=target_PER1\n",
    "CHROM=chr17\n",
    "\n",
    "for FP_TXT in $(ls ${FD_COV}/*/${CHROM}_perbase.txt); do\n",
    "    FDIRY=$(dirname ${FP_TXT})\n",
    "    SAMPLE=$(basename ${FDIRY})\n",
    "    echo ${FP_TXT}\n",
    "    echo ${FDIRY}\n",
    "    echo ${SAMPLE}\n",
    "done"
   ]
  },
  {
   "cell_type": "code",
   "execution_count": 24,
   "id": "5e0a817e-08ac-4253-9641-f3c00e1514e6",
   "metadata": {},
   "outputs": [],
   "source": [
    "### set global variable\n",
    "TARGET=target_PER1\n",
    "CHROM=chr17\n",
    "\n",
    "### set output\n",
    "FD_OUT=${FD_WRK}/coverage/${TARGET}\n",
    "mkdir -p ${FD_OUT}\n",
    "\n",
    "for FP_TXT in $(ls ${FD_COV}/*/${CHROM}_perbase.txt); do\n",
    "    ### set variable from each input\n",
    "    FDIRY=$(dirname ${FP_TXT})\n",
    "    SAMPLE=$(basename ${FDIRY})\n",
    "    FN_OUT=${SAMPLE}_perbase.txt\n",
    "    \n",
    "    ### output the filtered coverage\n",
    "    cat ${FP_TXT} |\\\n",
    "        awk -F $'\\t' '($2 >= 8148000 && $2 <= 8160000)' > ${FD_OUT}/${FN_OUT}\n",
    "done"
   ]
  },
  {
   "cell_type": "code",
   "execution_count": 25,
   "id": "2e5ea857-2206-4b65-aa1f-69b87939c253",
   "metadata": {},
   "outputs": [
    {
     "name": "stdout",
     "output_type": "stream",
     "text": [
      "total 7.6M\n",
      "-rw-r--r--. 1 kk319 root 197K Jul 20 12:12 Input1_perbase.txt\n",
      "-rw-r--r--. 1 kk319 root 196K Jul 20 12:13 Input2_perbase.txt\n",
      "-rw-r--r--. 1 kk319 root 198K Jul 20 12:13 Input3_perbase.txt\n",
      "-rw-r--r--. 1 kk319 root 197K Jul 20 12:14 Input4_perbase.txt\n",
      "-rw-r--r--. 1 kk319 root 195K Jul 20 12:15 Input5_perbase.txt\n",
      "-rw-r--r--. 1 kk319 root 203K Jul 20 12:11 Input_perbase.txt\n",
      "-rw-r--r--. 1 kk319 root 201K Jul 20 12:16 TFX2_DMSO_perbase.txt\n",
      "-rw-r--r--. 1 kk319 root 202K Jul 20 12:16 TFX2_Dex_perbase.txt\n",
      "-rw-r--r--. 1 kk319 root 199K Jul 20 12:17 TFX3_DMSO_perbase.txt\n",
      "-rw-r--r--. 1 kk319 root 200K Jul 20 12:18 TFX3_Dex_perbase.txt\n",
      "-rw-r--r--. 1 kk319 root 199K Jul 20 12:19 TFX4_DMSO_perbase.txt\n",
      "-rw-r--r--. 1 kk319 root 202K Jul 20 12:20 TFX4_Dex_perbase.txt\n",
      "-rw-r--r--. 1 kk319 root 202K Jul 20 12:20 TFX5_DMSO_perbase.txt\n",
      "-rw-r--r--. 1 kk319 root 204K Jul 20 12:21 TFX5_Dex_perbase.txt\n",
      "-rw-r--r--. 1 kk319 root 208K Jul 20 12:22 TFX_DMSO_perbase.txt\n",
      "-rw-r--r--. 1 kk319 root 211K Jul 20 12:23 TFX_Dex_perbase.txt\n"
     ]
    }
   ],
   "source": [
    "ls -lh ${FD_OUT}"
   ]
  },
  {
   "cell_type": "markdown",
   "id": "7dbf5ca9-f7b7-44e7-af56-8cc7dca7f373",
   "metadata": {},
   "source": [
    "**Input20x**"
   ]
  },
  {
   "cell_type": "code",
   "execution_count": 16,
   "id": "a85758cd-7642-4ea5-9f03-4adfbc622a91",
   "metadata": {},
   "outputs": [
    {
     "name": "stdout",
     "output_type": "stream",
     "text": [
      "/gpfs/fs1/data/reddylab/Kuei/out/proj_combeffect/coverage/Input1_20x/chr17_perbase.tsv.gz\n",
      "/gpfs/fs1/data/reddylab/Kuei/out/proj_combeffect/coverage/target_PER1/Input1_20x_perbase.txt\n",
      "\n",
      "/gpfs/fs1/data/reddylab/Kuei/out/proj_combeffect/coverage/Input2_20x/chr17_perbase.tsv.gz\n",
      "/gpfs/fs1/data/reddylab/Kuei/out/proj_combeffect/coverage/target_PER1/Input2_20x_perbase.txt\n",
      "\n",
      "/gpfs/fs1/data/reddylab/Kuei/out/proj_combeffect/coverage/Input3_20x/chr17_perbase.tsv.gz\n",
      "/gpfs/fs1/data/reddylab/Kuei/out/proj_combeffect/coverage/target_PER1/Input3_20x_perbase.txt\n",
      "\n",
      "/gpfs/fs1/data/reddylab/Kuei/out/proj_combeffect/coverage/Input4_20x/chr17_perbase.tsv.gz\n",
      "/gpfs/fs1/data/reddylab/Kuei/out/proj_combeffect/coverage/target_PER1/Input4_20x_perbase.txt\n",
      "\n",
      "/gpfs/fs1/data/reddylab/Kuei/out/proj_combeffect/coverage/Input5_20x/chr17_perbase.tsv.gz\n",
      "/gpfs/fs1/data/reddylab/Kuei/out/proj_combeffect/coverage/target_PER1/Input5_20x_perbase.txt\n",
      "\n"
     ]
    }
   ],
   "source": [
    "### set global variable\n",
    "TARGET=target_PER1\n",
    "CHROM=chr17\n",
    "\n",
    "### set output\n",
    "FD_OUT=${FD_RES}/coverage/${TARGET}\n",
    "mkdir -p ${FD_OUT}\n",
    "\n",
    "for FP_TXT in $(ls ${FD_RES}/coverage/*/${CHROM}_perbase.tsv.gz); do\n",
    "    ### set variable from each input\n",
    "    FDIRY=$(dirname ${FP_TXT})\n",
    "    SAMPLE=$(basename ${FDIRY})\n",
    "    FN_OUT=${SAMPLE}_perbase.txt\n",
    "    \n",
    "    ### output the filtered coverage\n",
    "    echo ${FP_TXT}\n",
    "    echo ${FD_OUT}/${FN_OUT}\n",
    "    echo\n",
    "done"
   ]
  },
  {
   "cell_type": "code",
   "execution_count": 17,
   "id": "a65787f8-db06-41a9-b8eb-d18d4317a503",
   "metadata": {},
   "outputs": [
    {
     "name": "stdout",
     "output_type": "stream",
     "text": [
      "chr17\t1\t0\n",
      "chr17\t2\t0\n",
      "chr17\t3\t0\n",
      "chr17\t4\t0\n",
      "chr17\t5\t0\n",
      "chr17\t6\t0\n",
      "chr17\t7\t0\n",
      "chr17\t8\t0\n",
      "chr17\t9\t0\n",
      "chr17\t10\t0\n",
      "\n",
      "gzip: stdout: Broken pipe\n"
     ]
    }
   ],
   "source": [
    "zcat /gpfs/fs1/data/reddylab/Kuei/out/proj_combeffect/coverage/Input1_20x/chr17_perbase.tsv.gz | head"
   ]
  },
  {
   "cell_type": "code",
   "execution_count": 18,
   "id": "a101fe02-9377-4bc4-9f9b-35fdb221e1cf",
   "metadata": {},
   "outputs": [],
   "source": [
    "### set global variable\n",
    "TARGET=target_PER1\n",
    "CHROM=chr17\n",
    "\n",
    "### set output\n",
    "FD_OUT=${FD_RES}/coverage/${TARGET}\n",
    "mkdir -p ${FD_OUT}\n",
    "\n",
    "for FP_TXT in $(ls ${FD_RES}/coverage/*/${CHROM}_perbase.tsv.gz); do\n",
    "    ### set variable from each input\n",
    "    FDIRY=$(dirname ${FP_TXT})\n",
    "    SAMPLE=$(basename ${FDIRY})\n",
    "    FN_OUT=${SAMPLE}_perbase.txt\n",
    "    \n",
    "    ### output the filtered coverage\n",
    "    zcat ${FP_TXT} |\\\n",
    "        awk -F $'\\t' '($2 >= 8148000 && $2 <= 8160000)' > ${FD_OUT}/${FN_OUT}\n",
    "done"
   ]
  }
 ],
 "metadata": {
  "kernelspec": {
   "display_name": "Bash",
   "language": "bash",
   "name": "bash"
  },
  "language_info": {
   "codemirror_mode": "shell",
   "file_extension": ".sh",
   "mimetype": "text/x-sh",
   "name": "bash"
  }
 },
 "nbformat": 4,
 "nbformat_minor": 5
}
