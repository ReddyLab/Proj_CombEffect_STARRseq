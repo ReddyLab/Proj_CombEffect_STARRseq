{
 "cells": [
  {
   "cell_type": "markdown",
   "id": "331c54ae-7956-4c7c-bc6a-552a95dc6316",
   "metadata": {},
   "source": [
    "# Coverage of fragments in STARR-seq results (Input 20x)"
   ]
  },
  {
   "cell_type": "markdown",
   "id": "d38d16ee-02f9-4d85-ace8-8fd6cdecb39b",
   "metadata": {},
   "source": [
    "this is also a test for a newer code, including\n",
    "- gzip the results file\n",
    "- after updating the path names"
   ]
  },
  {
   "cell_type": "markdown",
   "id": "6e1e09af-74e8-4cee-abc0-d9867f79441e",
   "metadata": {},
   "source": [
    "**Set environment**"
   ]
  },
  {
   "cell_type": "code",
   "execution_count": 2,
   "id": "88921607-b62f-4258-9872-70ff3d34c0fc",
   "metadata": {},
   "outputs": [
    {
     "name": "stdout",
     "output_type": "stream",
     "text": [
      "You are on Duke Server: HARDAC\n",
      "BASE DIRECTORY:     /gpfs/fs1/data/reddylab/Kuei\n",
      "PATH OF SOURCE:     /gpfs/fs1/data/reddylab/Kuei/source\n",
      "PATH OF EXECUTABLE: /gpfs/fs1/data/reddylab/Kuei/exe\n",
      "PATH OF ANNOTATION: /gpfs/fs1/data/reddylab/Kuei/annotation\n",
      "PATH OF PROJECT:    /gpfs/fs1/data/reddylab/Kuei/GitRepo/Proj_CombEffect_STARRseq/notebooks\n",
      "PATH OF RESULTS:    /gpfs/fs1/data/reddylab/Kuei/out/proj_combeffect\n",
      "\n"
     ]
    }
   ],
   "source": [
    "source ../config_duke.sh -v"
   ]
  },
  {
   "cell_type": "markdown",
   "id": "4f033b99-c140-4702-985f-21aa842ab03d",
   "metadata": {},
   "source": [
    "## Test: get the input files"
   ]
  },
  {
   "cell_type": "markdown",
   "id": "ba679b56-4f7e-4104-8d05-203c0df0e7ff",
   "metadata": {},
   "source": [
    "**Input**"
   ]
  },
  {
   "cell_type": "code",
   "execution_count": 5,
   "id": "0e391a59-c9f3-448f-9fb5-3b43044766b4",
   "metadata": {},
   "outputs": [
    {
     "name": "stdout",
     "output_type": "stream",
     "text": [
      "/gpfs/fs1/data/reddylab/Kuei/out/proj_combeffect/data/Input1_20x/\n",
      "/gpfs/fs1/data/reddylab/Kuei/out/proj_combeffect/data/Input2_20x/\n",
      "/gpfs/fs1/data/reddylab/Kuei/out/proj_combeffect/data/Input3_20x/\n",
      "/gpfs/fs1/data/reddylab/Kuei/out/proj_combeffect/data/Input4_20x/\n",
      "/gpfs/fs1/data/reddylab/Kuei/out/proj_combeffect/data/Input5_20x/\n"
     ]
    }
   ],
   "source": [
    "FD_BEDS=($(ls -d ${FD_RES}/data/Input?_20x/))\n",
    "for FD_BED in ${FD_BEDS[@]}; do\n",
    "    echo ${FD_BED}\n",
    "done"
   ]
  },
  {
   "cell_type": "code",
   "execution_count": 10,
   "id": "36d4df95-c332-4a11-b433-0d8626e3e920",
   "metadata": {},
   "outputs": [
    {
     "name": "stdout",
     "output_type": "stream",
     "text": [
      "\u001b[0m\u001b[38;5;27mfasta\u001b[0m                   hg38.chrom.sizes.chr16  hg38.chrom.sizes.chr4\n",
      "hg38.chrom.sizes        hg38.chrom.sizes.chr17  hg38.chrom.sizes.chr5\n",
      "hg38.chrom.sizes.chr1   hg38.chrom.sizes.chr18  hg38.chrom.sizes.chr6\n",
      "hg38.chrom.sizes.chr10  hg38.chrom.sizes.chr19  hg38.chrom.sizes.chr7\n",
      "hg38.chrom.sizes.chr11  hg38.chrom.sizes.chr2   hg38.chrom.sizes.chr8\n",
      "hg38.chrom.sizes.chr12  hg38.chrom.sizes.chr20  hg38.chrom.sizes.chr9\n",
      "hg38.chrom.sizes.chr13  hg38.chrom.sizes.chr21  hg38.chrom.sizes.chrX\n",
      "hg38.chrom.sizes.chr14  hg38.chrom.sizes.chr22  hg38.chrom.sizes.chrY\n",
      "hg38.chrom.sizes.chr15  hg38.chrom.sizes.chr3   \u001b[38;5;13mhg38.chrom.sizes.rm\u001b[0m\n",
      "+++++++++++++++++++++++++++\n",
      "/gpfs/fs1/data/reddylab/Kuei/annotation/genome/hg38/hg38.chrom.sizes.chr17\n"
     ]
    }
   ],
   "source": [
    "CHROM=chr17\n",
    "FD_GEN=${FD_ANN}/genome/hg38\n",
    "FN_GEN=hg38.chrom.sizes.${CHROM}\n",
    "\n",
    "ls ${FD_GEN}\n",
    "echo +++++++++++++++++++++++++++\n",
    "ls ${FD_GEN}/${FN_GEN}"
   ]
  },
  {
   "cell_type": "markdown",
   "id": "e5b12bde-36ea-4f12-939a-73cc9daee7da",
   "metadata": {},
   "source": [
    "**Output**"
   ]
  },
  {
   "cell_type": "code",
   "execution_count": 11,
   "id": "ac295397-272b-4f19-976d-31f77d911931",
   "metadata": {},
   "outputs": [
    {
     "name": "stdout",
     "output_type": "stream",
     "text": [
      "\u001b[0m\u001b[38;5;27mInput\u001b[0m       \u001b[38;5;27mInput2_20x\u001b[0m  \u001b[38;5;27mInput4_20x\u001b[0m   \u001b[38;5;27mTFX2_Dex\u001b[0m   \u001b[38;5;27mTFX4_Dex\u001b[0m   \u001b[38;5;27mTFX_Dex\u001b[0m\n",
      "\u001b[38;5;27mInput1\u001b[0m      \u001b[38;5;27mInput3\u001b[0m      \u001b[38;5;27mInput5\u001b[0m       \u001b[38;5;27mTFX2_DMSO\u001b[0m  \u001b[38;5;27mTFX4_DMSO\u001b[0m  \u001b[38;5;27mTFX_DMSO\u001b[0m\n",
      "\u001b[38;5;27mInput1_20x\u001b[0m  \u001b[38;5;27mInput3_20x\u001b[0m  \u001b[38;5;27mInput5_20x\u001b[0m   \u001b[38;5;27mTFX3_Dex\u001b[0m   \u001b[38;5;27mTFX5_Dex\u001b[0m\n",
      "\u001b[38;5;27mInput2\u001b[0m      \u001b[38;5;27mInput4\u001b[0m      \u001b[38;5;27mtarget_PER1\u001b[0m  \u001b[38;5;27mTFX3_DMSO\u001b[0m  \u001b[38;5;27mTFX5_DMSO\u001b[0m\n"
     ]
    }
   ],
   "source": [
    "ls ${FD_RES}/coverage"
   ]
  },
  {
   "cell_type": "code",
   "execution_count": null,
   "id": "aec2940c-5894-4bf4-99e5-1cd221b1362c",
   "metadata": {},
   "outputs": [],
   "source": [
    "${FD_LOG}/coverage_perbase_chrom_input20x.txt"
   ]
  },
  {
   "cell_type": "markdown",
   "id": "2850fa93-d73c-46ec-9a10-9bb43aa54eaf",
   "metadata": {},
   "source": [
    "## Get coverage of chromosome chr17"
   ]
  },
  {
   "cell_type": "code",
   "execution_count": 16,
   "id": "f1f08173-7796-4937-922b-241993346afa",
   "metadata": {},
   "outputs": [
    {
     "name": "stdout",
     "output_type": "stream",
     "text": [
      "Submitted batch job 27283781\n"
     ]
    }
   ],
   "source": [
    "source ../config_duke.sh\n",
    "source ../config_load_module_bedtools.sh\n",
    "\n",
    "sbatch -p ${NODE} \\\n",
    "    --mem 8G \\\n",
    "    -o ${FD_LOG}/coverage_perbase_chrom_input20x.txt \\\n",
    "    <<'EOF'\n",
    "#!/bin/bash\n",
    "### set directories & global variables\n",
    "source ../config_duke.sh\n",
    "#CHROMS=($(seq 1 22) X Y)\n",
    "#CHROM=chr${CHROMS[${SLURM_ARRAY_TASK_ID}]}\n",
    "CHROM=chr17\n",
    "TARGET=${CHROM}\n",
    "\n",
    "### set input and output\n",
    "#FD_BEDS=($(ls -d ${FD_WRK}/data/*/))\n",
    "FD_BEDS=($(ls -d ${FD_RES}/data/Input?_20x/))\n",
    "FN_BED=${CHROM}.bed\n",
    "\n",
    "FD_GEN=${FD_ANN}/genome/hg38\n",
    "FN_GEN=hg38.chrom.sizes.${CHROM}\n",
    "\n",
    "### START Message\n",
    "timer_start=`date +%s`\n",
    "echo \"Slurm Array Index: \" ${SLURM_ARRAY_TASK_ID}\n",
    "echo \"Time Stamp:        \" $(date +\"%m-%d-%y+%T\")\n",
    "echo\n",
    "\n",
    "### loop through each sample and count each fragment of a chromosome\n",
    "echo \"RUN: loop through samples; count fragment\"\n",
    "\n",
    "for FD_BED in ${FD_BEDS[@]}; do\n",
    "    SAMPLE=$(basename ${FD_BED})\n",
    "    FD_OUT=${FD_RES}/coverage/${SAMPLE}\n",
    "    FN_OUT=${TARGET}_perbase.tsv.gz\n",
    "    \n",
    "    ### Loop START Message\n",
    "    echo ++++++++++++++++++++++++++++++++++++++++++++++++\n",
    "    echo \"Input  file: \" ${FD_BED}/${FN_BED}\n",
    "    echo \"Output file: \" ${FD_OUT}/${FN_OUT}\n",
    "    echo\n",
    "    echo \"Show the first few lines of the input file\"\n",
    "    echo ${FD_BED}/${FN_BED}\n",
    "    head -n 5 ${FD_BED}/${FN_BED}\n",
    "    echo\n",
    "    echo \"Show the last few lines of the input file\"\n",
    "    echo ${FD_BED}/${FN_BED}\n",
    "    tail -n 5 ${FD_BED}/${FN_BED}\n",
    "    echo\n",
    "    \n",
    "    ### init: create output folder if not exist\n",
    "    mkdir -p ${FD_OUT}\n",
    "    \n",
    "    ### run: Bedtools genomecov -d to get coverage per base\n",
    "    echo \"Get coverage per base\"\n",
    "    bedtools genomecov -i ${FD_BED}/${FN_BED} -g ${FD_GEN}/${FN_GEN} -d | gzip -c > ${FD_OUT}/${FN_OUT}\n",
    "    echo\n",
    "    \n",
    "    ### Loop END Message\n",
    "    echo \"Show the first few lines of the output file\"\n",
    "    echo ${FD_OUT}/${FN_OUT}\n",
    "    zcat ${FD_OUT}/${FN_OUT} | head -n 3\n",
    "    echo\n",
    "    echo \"Show the last few lines of the output file\"\n",
    "    echo ${FD_OUT}/${FN_OUT}\n",
    "    zcat ${FD_OUT}/${FN_OUT} | tail -n 3\n",
    "    echo\n",
    "\n",
    "done\n",
    "\n",
    "### END message\n",
    "timer=`date +%s`\n",
    "runtime=$(echo \"${timer} - ${timer_start}\" | bc -l)\n",
    "echo 'Done!'\n",
    "echo \"Run Time: $(displaytime ${runtime})\"\n",
    "\n",
    "EOF"
   ]
  },
  {
   "cell_type": "code",
   "execution_count": null,
   "id": "b10ee42e-2dda-4365-8615-c4ca2f8bcbb9",
   "metadata": {},
   "outputs": [],
   "source": []
  },
  {
   "cell_type": "code",
   "execution_count": null,
   "id": "f8604b88-5e0b-469b-a2fe-831efe777dce",
   "metadata": {},
   "outputs": [
    {
     "name": "stdout",
     "output_type": "stream",
     "text": [
      "Slurm Array Index: \n",
      "Time Stamp:         02-06-22+13:15:22\n",
      "\n",
      "RUN: loop through samples; count fragment\n",
      "++++++++++++++++++++++++++++++++++++++++++++++++\n",
      "Input  file:  /gpfs/fs1/data/reddylab/Kuei/out/proj_combeffect/data/Input1_20x//chr17.bed\n",
      "Output file:  /gpfs/fs1/data/reddylab/Kuei/out/proj_combeffect/coverage/Input1_20x/chr17_perbase.tsv.gz\n",
      "\n",
      "Show the first few lines of the input file\n",
      "/gpfs/fs1/data/reddylab/Kuei/out/proj_combeffect/data/Input1_20x//chr17.bed\n",
      "chr17\t107410\t108464\n",
      "chr17\t159026\t160040\n",
      "chr17\t159426\t160303\n",
      "chr17\t159510\t160362\n",
      "chr17\t159977\t160849\n",
      "\n",
      "Show the last few lines of the input file\n",
      "/gpfs/fs1/data/reddylab/Kuei/out/proj_combeffect/data/Input1_20x//chr17.bed\n",
      "chr17\t83242601\t83243570\n",
      "chr17\t83242601\t83243555\n",
      "chr17\t83244670\t83245775\n",
      "chr17\t83244681\t83245751\n",
      "chr17\t83244716\t83245595\n",
      "\n",
      "++++++++++++++++++++++++++++++++++++++++++++++++\n",
      "Input  file:  /gpfs/fs1/data/reddylab/Kuei/out/proj_combeffect/data/Input2_20x//chr17.bed\n",
      "Output file:  /gpfs/fs1/data/reddylab/Kuei/out/proj_combeffect/coverage/Input2_20x/chr17_perbase.tsv.gz\n",
      "\n",
      "Show the first few lines of the input file\n",
      "/gpfs/fs1/data/reddylab/Kuei/out/proj_combeffect/data/Input2_20x//chr17.bed\n",
      "chr17\t158043\t159067\n",
      "chr17\t159299\t160311\n",
      "chr17\t159510\t160362\n",
      "chr17\t170418\t172531\n",
      "chr17\t180525\t181456\n",
      "\n",
      "Show the last few lines of the input file\n",
      "/gpfs/fs1/data/reddylab/Kuei/out/proj_combeffect/data/Input2_20x//chr17.bed\n",
      "chr17\t83242601\t83243555\n",
      "chr17\t83242601\t83243570\n",
      "chr17\t83244691\t83245683\n",
      "chr17\t83244719\t83245714\n",
      "chr17\t83244735\t83245693\n",
      "\n",
      "++++++++++++++++++++++++++++++++++++++++++++++++\n",
      "Input  file:  /gpfs/fs1/data/reddylab/Kuei/out/proj_combeffect/data/Input3_20x//chr17.bed\n",
      "Output file:  /gpfs/fs1/data/reddylab/Kuei/out/proj_combeffect/coverage/Input3_20x/chr17_perbase.tsv.gz\n",
      "\n",
      "Show the first few lines of the input file\n",
      "/gpfs/fs1/data/reddylab/Kuei/out/proj_combeffect/data/Input3_20x//chr17.bed\n",
      "chr17\t158183\t159063\n",
      "chr17\t159026\t160041\n",
      "chr17\t159027\t160041\n",
      "chr17\t159510\t160362\n",
      "chr17\t159510\t160362\n",
      "\n",
      "Show the last few lines of the input file\n",
      "/gpfs/fs1/data/reddylab/Kuei/out/proj_combeffect/data/Input3_20x//chr17.bed\n",
      "chr17\t83242601\t83243555\n",
      "chr17\t83244660\t83245605\n",
      "chr17\t83244673\t83245582\n",
      "chr17\t83244696\t83245710\n",
      "chr17\t83244704\t83245755\n",
      "\n",
      "++++++++++++++++++++++++++++++++++++++++++++++++\n",
      "Input  file:  /gpfs/fs1/data/reddylab/Kuei/out/proj_combeffect/data/Input4_20x//chr17.bed\n",
      "Output file:  /gpfs/fs1/data/reddylab/Kuei/out/proj_combeffect/coverage/Input4_20x/chr17_perbase.tsv.gz\n",
      "\n",
      "Show the first few lines of the input file\n",
      "/gpfs/fs1/data/reddylab/Kuei/out/proj_combeffect/data/Input4_20x//chr17.bed\n",
      "chr17\t152808\t153715\n",
      "chr17\t153773\t154756\n",
      "chr17\t159493\t160416\n",
      "chr17\t180506\t181448\n",
      "chr17\t182059\t182994\n",
      "\n",
      "Show the last few lines of the input file\n",
      "/gpfs/fs1/data/reddylab/Kuei/out/proj_combeffect/data/Input4_20x//chr17.bed\n",
      "chr17\t83244673\t83245656\n",
      "chr17\t83244695\t83245756\n",
      "chr17\t83244696\t83245710\n",
      "chr17\t83244696\t83245710\n",
      "chr17\t83244708\t83245637\n",
      "\n",
      "++++++++++++++++++++++++++++++++++++++++++++++++\n",
      "Input  file:  /gpfs/fs1/data/reddylab/Kuei/out/proj_combeffect/data/Input5_20x//chr17.bed\n",
      "Output file:  /gpfs/fs1/data/reddylab/Kuei/out/proj_combeffect/coverage/Input5_20x/chr17_perbase.tsv.gz\n",
      "\n",
      "Show the first few lines of the input file\n",
      "/gpfs/fs1/data/reddylab/Kuei/out/proj_combeffect/data/Input5_20x//chr17.bed\n",
      "chr17\t120797\t122228\n",
      "chr17\t152749\t153715\n",
      "chr17\t159510\t160362\n",
      "chr17\t159941\t161088\n",
      "chr17\t179358\t180390\n",
      "\n",
      "Show the last few lines of the input file\n",
      "/gpfs/fs1/data/reddylab/Kuei/out/proj_combeffect/data/Input5_20x//chr17.bed\n",
      "chr17\t83244690\t83245657\n",
      "chr17\t83244691\t83245683\n",
      "chr17\t83244695\t83245783\n",
      "chr17\t83244696\t83245710\n",
      "chr17\t83244714\t83245711\n",
      "\n",
      "Done!\n",
      "Run Time: 1 seconds\n"
     ]
    }
   ],
   "source": [
    "cat ${FD_LOG}/coverage_perbase_chrom_input20x.txt"
   ]
  },
  {
   "cell_type": "code",
   "execution_count": null,
   "id": "9365a01e-f17b-4eac-a293-0fa785255374",
   "metadata": {},
   "outputs": [],
   "source": []
  }
 ],
 "metadata": {
  "kernelspec": {
   "display_name": "Bash",
   "language": "bash",
   "name": "bash"
  },
  "language_info": {
   "codemirror_mode": "shell",
   "file_extension": ".sh",
   "mimetype": "text/x-sh",
   "name": "bash"
  }
 },
 "nbformat": 4,
 "nbformat_minor": 5
}
