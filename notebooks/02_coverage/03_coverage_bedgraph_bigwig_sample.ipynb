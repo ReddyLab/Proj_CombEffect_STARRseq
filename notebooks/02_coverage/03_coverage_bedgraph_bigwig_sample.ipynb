{
 "cells": [
  {
   "cell_type": "markdown",
   "id": "67dd6976-ee37-4d53-a562-4acbd2b228b7",
   "metadata": {},
   "source": [
    "# Get Coverage `Bedgraph` and `BigWig` files from fragment `bed` files\n",
    "\n",
    "In this notebook, the goal is to convert bed files to Bedgraph and BigWig files in order to visualize the tracks of STARR-seq signals.\n",
    "\n",
    "**Set environment**"
   ]
  },
  {
   "cell_type": "code",
   "execution_count": 1,
   "id": "444309e4-b920-4a75-976e-30313886252e",
   "metadata": {},
   "outputs": [
    {
     "name": "stdout",
     "output_type": "stream",
     "text": [
      "You are on Duke Server: HARDAC\n",
      "BASE DIRECTORY:     /gpfs/fs1/data/reddylab/Kuei\n",
      "PATH OF SOURCE:     /gpfs/fs1/data/reddylab/Kuei/source\n",
      "PATH OF EXECUTABLE: /gpfs/fs1/data/reddylab/Kuei/exe\n",
      "PATH OF ANNOTATION: /gpfs/fs1/data/reddylab/Kuei/annotation\n",
      "PATH OF PROJECT:    /gpfs/fs1/data/reddylab/Kuei/GitRepo/Proj_CombEffect_STARRseq/notebooks\n",
      "PATH OF RESULTS:    /gpfs/fs1/data/reddylab/Kuei/out/proj_combeffect\n",
      "\n"
     ]
    }
   ],
   "source": [
    "source ../config_duke.sh -v"
   ]
  },
  {
   "cell_type": "markdown",
   "id": "04f3948a-1905-4e1f-9d0b-c7a5ce237fdb",
   "metadata": {},
   "source": [
    "**Check data: Bed files**"
   ]
  },
  {
   "cell_type": "code",
   "execution_count": 2,
   "id": "3f308e1c-9d6c-4e5e-80cd-a123f7b832f3",
   "metadata": {},
   "outputs": [
    {
     "name": "stdout",
     "output_type": "stream",
     "text": [
      "\u001b[0m\u001b[38;5;9mwhole_genome_STARRseq_bedpe.tar.gz\u001b[0m\n"
     ]
    }
   ],
   "source": [
    "ls ${FD_SRC}/whole_genome_STARRseq"
   ]
  },
  {
   "cell_type": "code",
   "execution_count": 3,
   "id": "59a249d8-5f87-486b-85ff-03a92b87a3be",
   "metadata": {},
   "outputs": [
    {
     "name": "stdout",
     "output_type": "stream",
     "text": [
      "\u001b[0m\u001b[38;5;27mInput1\u001b[0m            \u001b[38;5;27mTFX2_CpdA\u001b[0m            \u001b[38;5;27mTFX3_Hydrocortisone\u001b[0m  \u001b[38;5;27mTFX5_AZD2906\u001b[0m\n",
      "\u001b[38;5;27mInput1_20x\u001b[0m        \u001b[38;5;27mTFX2_Dex\u001b[0m             \u001b[38;5;27mTFX3_Mapracorat\u001b[0m      \u001b[38;5;27mTFX5_AZD9567\u001b[0m\n",
      "\u001b[38;5;27mInput2\u001b[0m            \u001b[38;5;27mTFX2_DMSO\u001b[0m            \u001b[38;5;27mTFX3_RU486\u001b[0m           \u001b[38;5;27mTFX5_CORT108297\u001b[0m\n",
      "\u001b[38;5;27mInput2_20x\u001b[0m        \u001b[38;5;27mTFX2_GW870086\u001b[0m        \u001b[38;5;27mTFX3_ZK216348\u001b[0m        \u001b[38;5;27mTFX5_CpdA\u001b[0m\n",
      "\u001b[38;5;27mInput3\u001b[0m            \u001b[38;5;27mTFX2_Hydrocortisone\u001b[0m  \u001b[38;5;27mTFX4_AZD2906\u001b[0m         \u001b[38;5;27mTFX5_Dex\u001b[0m\n",
      "\u001b[38;5;27mInput3_20x\u001b[0m        \u001b[38;5;27mTFX2_Mapracorat\u001b[0m      \u001b[38;5;27mTFX4_AZD9567\u001b[0m         \u001b[38;5;27mTFX5_DMSO\u001b[0m\n",
      "\u001b[38;5;27mInput4\u001b[0m            \u001b[38;5;27mTFX2_RU486\u001b[0m           \u001b[38;5;27mTFX4_CORT108297\u001b[0m      \u001b[38;5;27mTFX5_GW870086\u001b[0m\n",
      "\u001b[38;5;27mInput4_20x\u001b[0m        \u001b[38;5;27mTFX2_ZK216348\u001b[0m        \u001b[38;5;27mTFX4_CpdA\u001b[0m            \u001b[38;5;27mTFX5_Hydrocortisone\u001b[0m\n",
      "\u001b[38;5;27mInput5\u001b[0m            \u001b[38;5;27mTFX3_AZD2906\u001b[0m         \u001b[38;5;27mTFX4_Dex\u001b[0m             \u001b[38;5;27mTFX5_Mapracorat\u001b[0m\n",
      "\u001b[38;5;27mInput5_20x\u001b[0m        \u001b[38;5;27mTFX3_AZD9567\u001b[0m         \u001b[38;5;27mTFX4_DMSO\u001b[0m            \u001b[38;5;27mTFX5_RU486\u001b[0m\n",
      "library_size.tsv  \u001b[38;5;27mTFX3_CORT108297\u001b[0m      \u001b[38;5;27mTFX4_GW870086\u001b[0m        \u001b[38;5;27mTFX5_ZK216348\u001b[0m\n",
      "library_size.txt  \u001b[38;5;27mTFX3_CpdA\u001b[0m            \u001b[38;5;27mTFX4_Hydrocortisone\u001b[0m  treatment.txt\n",
      "\u001b[38;5;27mTFX2_AZD2906\u001b[0m      \u001b[38;5;27mTFX3_Dex\u001b[0m             \u001b[38;5;27mTFX4_Mapracorat\u001b[0m\n",
      "\u001b[38;5;27mTFX2_AZD9567\u001b[0m      \u001b[38;5;27mTFX3_DMSO\u001b[0m            \u001b[38;5;27mTFX4_RU486\u001b[0m\n",
      "\u001b[38;5;27mTFX2_CORT108297\u001b[0m   \u001b[38;5;27mTFX3_GW870086\u001b[0m        \u001b[38;5;27mTFX4_ZK216348\u001b[0m\n"
     ]
    }
   ],
   "source": [
    "ls ${FD_RES}/source"
   ]
  },
  {
   "cell_type": "markdown",
   "id": "e97f4b0c-3cc8-4fe3-8341-14e38bfb1fb2",
   "metadata": {},
   "source": [
    "```\n",
    "find ${FD_RES}/source/ -maxdepth 1 -type d | wc -l\n",
    "```"
   ]
  },
  {
   "cell_type": "code",
   "execution_count": 4,
   "id": "80785afd-dbe3-4c98-ab93-2c8d1c53b7d3",
   "metadata": {},
   "outputs": [
    {
     "name": "stdout",
     "output_type": "stream",
     "text": [
      "\u001b[0m\u001b[38;5;27m/gpfs/fs1/data/reddylab/Kuei/out/proj_combeffect/source/Input1\u001b[0m\n",
      "\u001b[38;5;27m/gpfs/fs1/data/reddylab/Kuei/out/proj_combeffect/source/Input1_20x\u001b[0m\n",
      "\u001b[38;5;27m/gpfs/fs1/data/reddylab/Kuei/out/proj_combeffect/source/Input2\u001b[0m\n",
      "\u001b[38;5;27m/gpfs/fs1/data/reddylab/Kuei/out/proj_combeffect/source/Input2_20x\u001b[0m\n",
      "\u001b[38;5;27m/gpfs/fs1/data/reddylab/Kuei/out/proj_combeffect/source/Input3\u001b[0m\n",
      "\u001b[38;5;27m/gpfs/fs1/data/reddylab/Kuei/out/proj_combeffect/source/Input3_20x\u001b[0m\n",
      "\u001b[38;5;27m/gpfs/fs1/data/reddylab/Kuei/out/proj_combeffect/source/Input4\u001b[0m\n",
      "\u001b[38;5;27m/gpfs/fs1/data/reddylab/Kuei/out/proj_combeffect/source/Input4_20x\u001b[0m\n",
      "\u001b[38;5;27m/gpfs/fs1/data/reddylab/Kuei/out/proj_combeffect/source/Input5\u001b[0m\n",
      "\u001b[38;5;27m/gpfs/fs1/data/reddylab/Kuei/out/proj_combeffect/source/Input5_20x\u001b[0m\n",
      "\u001b[38;5;27m/gpfs/fs1/data/reddylab/Kuei/out/proj_combeffect/source/TFX2_AZD2906\u001b[0m\n",
      "\u001b[38;5;27m/gpfs/fs1/data/reddylab/Kuei/out/proj_combeffect/source/TFX2_AZD9567\u001b[0m\n",
      "\u001b[38;5;27m/gpfs/fs1/data/reddylab/Kuei/out/proj_combeffect/source/TFX2_CORT108297\u001b[0m\n",
      "\u001b[38;5;27m/gpfs/fs1/data/reddylab/Kuei/out/proj_combeffect/source/TFX2_CpdA\u001b[0m\n",
      "\u001b[38;5;27m/gpfs/fs1/data/reddylab/Kuei/out/proj_combeffect/source/TFX2_Dex\u001b[0m\n",
      "\u001b[38;5;27m/gpfs/fs1/data/reddylab/Kuei/out/proj_combeffect/source/TFX2_DMSO\u001b[0m\n",
      "\u001b[38;5;27m/gpfs/fs1/data/reddylab/Kuei/out/proj_combeffect/source/TFX2_GW870086\u001b[0m\n",
      "\u001b[38;5;27m/gpfs/fs1/data/reddylab/Kuei/out/proj_combeffect/source/TFX2_Hydrocortisone\u001b[0m\n",
      "\u001b[38;5;27m/gpfs/fs1/data/reddylab/Kuei/out/proj_combeffect/source/TFX2_Mapracorat\u001b[0m\n",
      "\u001b[38;5;27m/gpfs/fs1/data/reddylab/Kuei/out/proj_combeffect/source/TFX2_RU486\u001b[0m\n",
      "\u001b[38;5;27m/gpfs/fs1/data/reddylab/Kuei/out/proj_combeffect/source/TFX2_ZK216348\u001b[0m\n",
      "\u001b[38;5;27m/gpfs/fs1/data/reddylab/Kuei/out/proj_combeffect/source/TFX3_AZD2906\u001b[0m\n",
      "\u001b[38;5;27m/gpfs/fs1/data/reddylab/Kuei/out/proj_combeffect/source/TFX3_AZD9567\u001b[0m\n",
      "\u001b[38;5;27m/gpfs/fs1/data/reddylab/Kuei/out/proj_combeffect/source/TFX3_CORT108297\u001b[0m\n",
      "\u001b[38;5;27m/gpfs/fs1/data/reddylab/Kuei/out/proj_combeffect/source/TFX3_CpdA\u001b[0m\n",
      "\u001b[38;5;27m/gpfs/fs1/data/reddylab/Kuei/out/proj_combeffect/source/TFX3_Dex\u001b[0m\n",
      "\u001b[38;5;27m/gpfs/fs1/data/reddylab/Kuei/out/proj_combeffect/source/TFX3_DMSO\u001b[0m\n",
      "\u001b[38;5;27m/gpfs/fs1/data/reddylab/Kuei/out/proj_combeffect/source/TFX3_GW870086\u001b[0m\n",
      "\u001b[38;5;27m/gpfs/fs1/data/reddylab/Kuei/out/proj_combeffect/source/TFX3_Hydrocortisone\u001b[0m\n",
      "\u001b[38;5;27m/gpfs/fs1/data/reddylab/Kuei/out/proj_combeffect/source/TFX3_Mapracorat\u001b[0m\n",
      "\u001b[38;5;27m/gpfs/fs1/data/reddylab/Kuei/out/proj_combeffect/source/TFX3_RU486\u001b[0m\n",
      "\u001b[38;5;27m/gpfs/fs1/data/reddylab/Kuei/out/proj_combeffect/source/TFX3_ZK216348\u001b[0m\n",
      "\u001b[38;5;27m/gpfs/fs1/data/reddylab/Kuei/out/proj_combeffect/source/TFX4_AZD2906\u001b[0m\n",
      "\u001b[38;5;27m/gpfs/fs1/data/reddylab/Kuei/out/proj_combeffect/source/TFX4_AZD9567\u001b[0m\n",
      "\u001b[38;5;27m/gpfs/fs1/data/reddylab/Kuei/out/proj_combeffect/source/TFX4_CORT108297\u001b[0m\n",
      "\u001b[38;5;27m/gpfs/fs1/data/reddylab/Kuei/out/proj_combeffect/source/TFX4_CpdA\u001b[0m\n",
      "\u001b[38;5;27m/gpfs/fs1/data/reddylab/Kuei/out/proj_combeffect/source/TFX4_Dex\u001b[0m\n",
      "\u001b[38;5;27m/gpfs/fs1/data/reddylab/Kuei/out/proj_combeffect/source/TFX4_DMSO\u001b[0m\n",
      "\u001b[38;5;27m/gpfs/fs1/data/reddylab/Kuei/out/proj_combeffect/source/TFX4_GW870086\u001b[0m\n",
      "\u001b[38;5;27m/gpfs/fs1/data/reddylab/Kuei/out/proj_combeffect/source/TFX4_Hydrocortisone\u001b[0m\n",
      "\u001b[38;5;27m/gpfs/fs1/data/reddylab/Kuei/out/proj_combeffect/source/TFX4_Mapracorat\u001b[0m\n",
      "\u001b[38;5;27m/gpfs/fs1/data/reddylab/Kuei/out/proj_combeffect/source/TFX4_RU486\u001b[0m\n",
      "\u001b[38;5;27m/gpfs/fs1/data/reddylab/Kuei/out/proj_combeffect/source/TFX4_ZK216348\u001b[0m\n",
      "\u001b[38;5;27m/gpfs/fs1/data/reddylab/Kuei/out/proj_combeffect/source/TFX5_AZD2906\u001b[0m\n",
      "\u001b[38;5;27m/gpfs/fs1/data/reddylab/Kuei/out/proj_combeffect/source/TFX5_AZD9567\u001b[0m\n",
      "\u001b[38;5;27m/gpfs/fs1/data/reddylab/Kuei/out/proj_combeffect/source/TFX5_CORT108297\u001b[0m\n",
      "\u001b[38;5;27m/gpfs/fs1/data/reddylab/Kuei/out/proj_combeffect/source/TFX5_CpdA\u001b[0m\n",
      "\u001b[38;5;27m/gpfs/fs1/data/reddylab/Kuei/out/proj_combeffect/source/TFX5_Dex\u001b[0m\n",
      "\u001b[38;5;27m/gpfs/fs1/data/reddylab/Kuei/out/proj_combeffect/source/TFX5_DMSO\u001b[0m\n",
      "\u001b[38;5;27m/gpfs/fs1/data/reddylab/Kuei/out/proj_combeffect/source/TFX5_GW870086\u001b[0m\n",
      "\u001b[38;5;27m/gpfs/fs1/data/reddylab/Kuei/out/proj_combeffect/source/TFX5_Hydrocortisone\u001b[0m\n",
      "\u001b[38;5;27m/gpfs/fs1/data/reddylab/Kuei/out/proj_combeffect/source/TFX5_Mapracorat\u001b[0m\n",
      "\u001b[38;5;27m/gpfs/fs1/data/reddylab/Kuei/out/proj_combeffect/source/TFX5_RU486\u001b[0m\n",
      "\u001b[38;5;27m/gpfs/fs1/data/reddylab/Kuei/out/proj_combeffect/source/TFX5_ZK216348\u001b[0m\n"
     ]
    }
   ],
   "source": [
    "ls -d ${FD_RES}/source/{Input*,TFX?_*}"
   ]
  },
  {
   "cell_type": "code",
   "execution_count": 5,
   "id": "e1e58f8b-fa87-4f17-8a06-50ee867dcc5d",
   "metadata": {},
   "outputs": [
    {
     "name": "stdout",
     "output_type": "stream",
     "text": [
      "/gpfs/fs1/data/reddylab/Kuei/out/proj_combeffect/source/Input1/Input1.bedpe\n",
      "/gpfs/fs1/data/reddylab/Kuei/out/proj_combeffect/source/Input1_20x/Input1_20x.bedpe\n",
      "/gpfs/fs1/data/reddylab/Kuei/out/proj_combeffect/source/Input2/Input2.bedpe\n",
      "/gpfs/fs1/data/reddylab/Kuei/out/proj_combeffect/source/Input2_20x/Input2_20x.bedpe\n",
      "/gpfs/fs1/data/reddylab/Kuei/out/proj_combeffect/source/Input3/Input3.bedpe\n",
      "/gpfs/fs1/data/reddylab/Kuei/out/proj_combeffect/source/Input3_20x/Input3_20x.bedpe\n",
      "/gpfs/fs1/data/reddylab/Kuei/out/proj_combeffect/source/Input4/Input4.bedpe\n",
      "/gpfs/fs1/data/reddylab/Kuei/out/proj_combeffect/source/Input4_20x/Input4_20x.bedpe\n",
      "/gpfs/fs1/data/reddylab/Kuei/out/proj_combeffect/source/Input5/Input5.bedpe\n",
      "/gpfs/fs1/data/reddylab/Kuei/out/proj_combeffect/source/Input5_20x/Input5_20x.bedpe\n",
      "/gpfs/fs1/data/reddylab/Kuei/out/proj_combeffect/source/TFX2_AZD2906/TFX2_AZD2906.bedpe\n",
      "/gpfs/fs1/data/reddylab/Kuei/out/proj_combeffect/source/TFX2_AZD9567/TFX2_AZD9567.bedpe\n",
      "/gpfs/fs1/data/reddylab/Kuei/out/proj_combeffect/source/TFX2_CORT108297/TFX2_CORT108297.bedpe\n",
      "/gpfs/fs1/data/reddylab/Kuei/out/proj_combeffect/source/TFX2_CpdA/TFX2_CpdA.bedpe\n",
      "/gpfs/fs1/data/reddylab/Kuei/out/proj_combeffect/source/TFX2_Dex/TFX2_Dex.bedpe\n",
      "/gpfs/fs1/data/reddylab/Kuei/out/proj_combeffect/source/TFX2_DMSO/TFX2_DMSO.bedpe\n",
      "/gpfs/fs1/data/reddylab/Kuei/out/proj_combeffect/source/TFX2_GW870086/TFX2_GW870086.bedpe\n",
      "/gpfs/fs1/data/reddylab/Kuei/out/proj_combeffect/source/TFX2_Hydrocortisone/TFX2_Hydrocortisone.bedpe\n",
      "/gpfs/fs1/data/reddylab/Kuei/out/proj_combeffect/source/TFX2_Mapracorat/TFX2_Mapracorat.bedpe\n",
      "/gpfs/fs1/data/reddylab/Kuei/out/proj_combeffect/source/TFX2_RU486/TFX2_RU486.bedpe\n",
      "/gpfs/fs1/data/reddylab/Kuei/out/proj_combeffect/source/TFX2_ZK216348/TFX2_ZK216348.bedpe\n",
      "/gpfs/fs1/data/reddylab/Kuei/out/proj_combeffect/source/TFX3_AZD2906/TFX3_AZD2906.bedpe\n",
      "/gpfs/fs1/data/reddylab/Kuei/out/proj_combeffect/source/TFX3_AZD9567/TFX3_AZD9567.bedpe\n",
      "/gpfs/fs1/data/reddylab/Kuei/out/proj_combeffect/source/TFX3_CORT108297/TFX3_CORT108297.bedpe\n",
      "/gpfs/fs1/data/reddylab/Kuei/out/proj_combeffect/source/TFX3_CpdA/TFX3_CpdA.bedpe\n",
      "/gpfs/fs1/data/reddylab/Kuei/out/proj_combeffect/source/TFX3_Dex/TFX3_Dex.bedpe\n",
      "/gpfs/fs1/data/reddylab/Kuei/out/proj_combeffect/source/TFX3_DMSO/TFX3_DMSO.bedpe\n",
      "/gpfs/fs1/data/reddylab/Kuei/out/proj_combeffect/source/TFX3_GW870086/TFX3_GW870086.bedpe\n",
      "/gpfs/fs1/data/reddylab/Kuei/out/proj_combeffect/source/TFX3_Hydrocortisone/TFX3_Hydrocortisone.bedpe\n",
      "/gpfs/fs1/data/reddylab/Kuei/out/proj_combeffect/source/TFX3_Mapracorat/TFX3_Mapracorat.bedpe\n",
      "/gpfs/fs1/data/reddylab/Kuei/out/proj_combeffect/source/TFX3_RU486/TFX3_RU486.bedpe\n",
      "/gpfs/fs1/data/reddylab/Kuei/out/proj_combeffect/source/TFX3_ZK216348/TFX3_ZK216348.bedpe\n",
      "/gpfs/fs1/data/reddylab/Kuei/out/proj_combeffect/source/TFX4_AZD2906/TFX4_AZD2906.bedpe\n",
      "/gpfs/fs1/data/reddylab/Kuei/out/proj_combeffect/source/TFX4_AZD9567/TFX4_AZD9567.bedpe\n",
      "/gpfs/fs1/data/reddylab/Kuei/out/proj_combeffect/source/TFX4_CORT108297/TFX4_CORT108297.bedpe\n",
      "/gpfs/fs1/data/reddylab/Kuei/out/proj_combeffect/source/TFX4_CpdA/TFX4_CpdA.bedpe\n",
      "/gpfs/fs1/data/reddylab/Kuei/out/proj_combeffect/source/TFX4_Dex/TFX4_Dex.bedpe\n",
      "/gpfs/fs1/data/reddylab/Kuei/out/proj_combeffect/source/TFX4_DMSO/TFX4_DMSO.bedpe\n",
      "/gpfs/fs1/data/reddylab/Kuei/out/proj_combeffect/source/TFX4_GW870086/TFX4_GW870086.bedpe\n",
      "/gpfs/fs1/data/reddylab/Kuei/out/proj_combeffect/source/TFX4_Hydrocortisone/TFX4_Hydrocortisone.bedpe\n",
      "/gpfs/fs1/data/reddylab/Kuei/out/proj_combeffect/source/TFX4_Mapracorat/TFX4_Mapracorat.bedpe\n",
      "/gpfs/fs1/data/reddylab/Kuei/out/proj_combeffect/source/TFX4_RU486/TFX4_RU486.bedpe\n",
      "/gpfs/fs1/data/reddylab/Kuei/out/proj_combeffect/source/TFX4_ZK216348/TFX4_ZK216348.bedpe\n",
      "/gpfs/fs1/data/reddylab/Kuei/out/proj_combeffect/source/TFX5_AZD2906/TFX5_AZD2906.bedpe\n",
      "/gpfs/fs1/data/reddylab/Kuei/out/proj_combeffect/source/TFX5_AZD9567/TFX5_AZD9567.bedpe\n",
      "/gpfs/fs1/data/reddylab/Kuei/out/proj_combeffect/source/TFX5_CORT108297/TFX5_CORT108297.bedpe\n",
      "/gpfs/fs1/data/reddylab/Kuei/out/proj_combeffect/source/TFX5_CpdA/TFX5_CpdA.bedpe\n",
      "/gpfs/fs1/data/reddylab/Kuei/out/proj_combeffect/source/TFX5_Dex/TFX5_Dex.bedpe\n",
      "/gpfs/fs1/data/reddylab/Kuei/out/proj_combeffect/source/TFX5_DMSO/TFX5_DMSO.bedpe\n",
      "/gpfs/fs1/data/reddylab/Kuei/out/proj_combeffect/source/TFX5_GW870086/TFX5_GW870086.bedpe\n",
      "/gpfs/fs1/data/reddylab/Kuei/out/proj_combeffect/source/TFX5_Hydrocortisone/TFX5_Hydrocortisone.bedpe\n",
      "/gpfs/fs1/data/reddylab/Kuei/out/proj_combeffect/source/TFX5_Mapracorat/TFX5_Mapracorat.bedpe\n",
      "/gpfs/fs1/data/reddylab/Kuei/out/proj_combeffect/source/TFX5_RU486/TFX5_RU486.bedpe\n",
      "/gpfs/fs1/data/reddylab/Kuei/out/proj_combeffect/source/TFX5_ZK216348/TFX5_ZK216348.bedpe\n"
     ]
    }
   ],
   "source": [
    "FD_BEDS=($(ls -d ${FD_RES}/source/{Input*,TFX*}))\n",
    "for FD_BED in ${FD_BEDS[@]}; do\n",
    "    ls ${FD_BED}/*bedpe\n",
    "done"
   ]
  },
  {
   "cell_type": "markdown",
   "id": "8b74b089-bb7e-457d-82b7-068a95f8c7a3",
   "metadata": {},
   "source": [
    "**Check data: Genome file**"
   ]
  },
  {
   "cell_type": "code",
   "execution_count": 6,
   "id": "b48ce43b-3097-4f28-8999-7773e64b63e3",
   "metadata": {},
   "outputs": [
    {
     "name": "stdout",
     "output_type": "stream",
     "text": [
      "\u001b[0m\u001b[38;5;27mfasta\u001b[0m                   hg38.chrom.sizes.chr16  hg38.chrom.sizes.chr4\n",
      "hg38.chrom.sizes        hg38.chrom.sizes.chr17  hg38.chrom.sizes.chr5\n",
      "hg38.chrom.sizes.chr1   hg38.chrom.sizes.chr18  hg38.chrom.sizes.chr6\n",
      "hg38.chrom.sizes.chr10  hg38.chrom.sizes.chr19  hg38.chrom.sizes.chr7\n",
      "hg38.chrom.sizes.chr11  hg38.chrom.sizes.chr2   hg38.chrom.sizes.chr8\n",
      "hg38.chrom.sizes.chr12  hg38.chrom.sizes.chr20  hg38.chrom.sizes.chr9\n",
      "hg38.chrom.sizes.chr13  hg38.chrom.sizes.chr21  hg38.chrom.sizes.chrX\n",
      "hg38.chrom.sizes.chr14  hg38.chrom.sizes.chr22  hg38.chrom.sizes.chrY\n",
      "hg38.chrom.sizes.chr15  hg38.chrom.sizes.chr3   \u001b[38;5;13mhg38.chrom.sizes.rm\u001b[0m\n"
     ]
    }
   ],
   "source": [
    "ls ${FD_ANN}/genome/hg38"
   ]
  },
  {
   "cell_type": "markdown",
   "id": "5a2bb1d3-c7ea-4c45-9111-40ea6253839e",
   "metadata": {},
   "source": [
    "## Run scripts"
   ]
  },
  {
   "cell_type": "code",
   "execution_count": 7,
   "id": "4b62a17e-4689-4c16-abad-e52971be73b2",
   "metadata": {},
   "outputs": [
    {
     "name": "stdout",
     "output_type": "stream",
     "text": [
      "(/data/common/shared_conda_envs/ucsc) "
     ]
    },
    {
     "ename": "",
     "evalue": "1",
     "output_type": "error",
     "traceback": []
    }
   ],
   "source": [
    "source ../config_duke.sh\n",
    "source ../config_load_module_bedtools.sh\n",
    "source ../config_load_module_ucsc.sh"
   ]
  },
  {
   "cell_type": "code",
   "execution_count": 23,
   "id": "9b3311ec-1b52-414a-8e00-0df7efe702b9",
   "metadata": {},
   "outputs": [
    {
     "name": "stdout",
     "output_type": "stream",
     "text": [
      "Submitted batch job 27544671\n",
      "(/data/common/shared_conda_envs/ucsc) "
     ]
    },
    {
     "ename": "",
     "evalue": "1",
     "output_type": "error",
     "traceback": []
    }
   ],
   "source": [
    "sbatch -p all \\\n",
    "    --array 1-17 \\\n",
    "    --mem 8G \\\n",
    "    -o ${FD_LOG}/bed2bedgraph2bigwig.%a.txt \\\n",
    "    <<'EOF'\n",
    "#!/bin/bash\n",
    "##############################################\n",
    "### Set directories & global variables\n",
    "##############################################\n",
    "source ../config_duke.sh -v\n",
    "\n",
    "##############################################\n",
    "### Set input and output\n",
    "##############################################\n",
    "\n",
    "### extract treatment\n",
    "IDX=${SLURM_ARRAY_TASK_ID}\n",
    "TRT=$(sed -n ${IDX}p ${FD_RES}/source/treatment.txt)\n",
    "\n",
    "### genome file\n",
    "FD_GEN=${FD_ANN}/genome/hg38\n",
    "FN_GEN=hg38.chrom.sizes\n",
    "\n",
    "### START Message\n",
    "timer_start=`date +%s`\n",
    "echo \"Slurm Array Index: \" ${SLURM_ARRAY_TASK_ID}\n",
    "echo \"Time Stamp:        \" $(date +\"%m-%d-%y+%T\")\n",
    "echo \"Treatment:         \" ${TRT}\n",
    "echo\n",
    "\n",
    "### loop through each sample and get coverage\n",
    "FD_BEDS=($(ls -d ${FD_RES}/source/*${TRT}*))\n",
    "for FD_BED in ${FD_BEDS[@]}; do\n",
    "    \n",
    "    ### extract sample name\n",
    "    SAMPLE=$(basename ${FD_BED})\n",
    "    \n",
    "    ### set input and output file/directory\n",
    "    FD_OUT=${FD_RES}/coverage/${SAMPLE}\n",
    "    FN_BED=${SAMPLE}.bedpe\n",
    "    FN_OUT_BGH=${SAMPLE}.bedgraph\n",
    "    FN_OUT_BWG=${SAMPLE}.bw\n",
    "    \n",
    "    ### Loop: START Message\n",
    "    echo +++++++++++++++++++++++++++++++++++++++++++++++++++\n",
    "    echo \"Input  file: \" ${FD_BED}/${FN_BED}\n",
    "    echo \"Output file: \" ${FD_OUT}/${FN_OUT_BGH}\n",
    "    echo \"Output file: \" ${FD_OUT}/${FN_OUT_BWG}\n",
    "    echo\n",
    "    echo \"Show the first few lines of the input file\"\n",
    "    echo ${FD_BED}/${FN_BED}\n",
    "    head -n 5 ${FD_BED}/${FN_BED}\n",
    "    echo\n",
    "    echo \"Show the last few lines of the input file\"\n",
    "    echo ${FD_BED}/${FN_BED}\n",
    "    tail -n 5 ${FD_BED}/${FN_BED}\n",
    "    echo\n",
    "    \n",
    "    ### init: create output folder if not exist\n",
    "    mkdir -p ${FD_OUT}\n",
    "    \n",
    "    ### Bedtools genomecov to get bedgraph\n",
    "    echo \"Get the bedgraph...\"\n",
    "    bedtools genomecov -i ${FD_BED}/${FN_BED} -g ${FD_GEN}/${FN_GEN} -bg > ${FD_OUT}/${FN_OUT_BGH}\n",
    "    echo \"Get the bigwig...\"\n",
    "    bedGraphToBigWig ${FD_OUT}/${FN_OUT_BGH} ${FD_GEN}/${FN_GEN} ${FD_OUT}/${FN_OUT_BWG}\n",
    "    echo\n",
    "    \n",
    "    ### END Message\n",
    "    echo \"Show the first few lines of the output file\"\n",
    "    echo ${FD_OUT}/${FN_OUT_BGH}\n",
    "    head -n 5 ${FD_OUT}/${FN_OUT_BGH}\n",
    "    echo\n",
    "    echo \"Show the last few lines of the output file\"\n",
    "    echo ${FD_OUT}/${FN_OUT_BGH}\n",
    "    tail -n 5 ${FD_OUT}/${FN_OUT_BGH}\n",
    "    echo\n",
    "done\n",
    "\n",
    "### END message\n",
    "timer=`date +%s`\n",
    "runtime=$(echo \"${timer} - ${timer_start}\" | bc -l)\n",
    "echo 'Done!'\n",
    "echo \"Run Time: $(displaytime ${runtime})\"\n",
    "\n",
    "EOF"
   ]
  },
  {
   "cell_type": "code",
   "execution_count": 42,
   "id": "da5bb93f-4182-44da-9c30-bd84af414a52",
   "metadata": {},
   "outputs": [
    {
     "name": "stdout",
     "output_type": "stream",
     "text": [
      "/gpfs/fs1/data/reddylab/Kuei/out/proj_combeffect/log/bed2bedgraph2bigwig.0.txt\n",
      "/gpfs/fs1/data/reddylab/Kuei/out/proj_combeffect/log/bed2bedgraph2bigwig.10.txt\n",
      "/gpfs/fs1/data/reddylab/Kuei/out/proj_combeffect/log/bed2bedgraph2bigwig.11.txt\n",
      "/gpfs/fs1/data/reddylab/Kuei/out/proj_combeffect/log/bed2bedgraph2bigwig.12.txt\n",
      "/gpfs/fs1/data/reddylab/Kuei/out/proj_combeffect/log/bed2bedgraph2bigwig.13.txt\n",
      "/gpfs/fs1/data/reddylab/Kuei/out/proj_combeffect/log/bed2bedgraph2bigwig.14.txt\n",
      "/gpfs/fs1/data/reddylab/Kuei/out/proj_combeffect/log/bed2bedgraph2bigwig.15.txt\n",
      "/gpfs/fs1/data/reddylab/Kuei/out/proj_combeffect/log/bed2bedgraph2bigwig.16.txt\n",
      "/gpfs/fs1/data/reddylab/Kuei/out/proj_combeffect/log/bed2bedgraph2bigwig.17.txt\n",
      "/gpfs/fs1/data/reddylab/Kuei/out/proj_combeffect/log/bed2bedgraph2bigwig.1.txt\n",
      "/gpfs/fs1/data/reddylab/Kuei/out/proj_combeffect/log/bed2bedgraph2bigwig.2.txt\n",
      "/gpfs/fs1/data/reddylab/Kuei/out/proj_combeffect/log/bed2bedgraph2bigwig.3.txt\n",
      "/gpfs/fs1/data/reddylab/Kuei/out/proj_combeffect/log/bed2bedgraph2bigwig.4.txt\n",
      "/gpfs/fs1/data/reddylab/Kuei/out/proj_combeffect/log/bed2bedgraph2bigwig.5.txt\n",
      "/gpfs/fs1/data/reddylab/Kuei/out/proj_combeffect/log/bed2bedgraph2bigwig.6.txt\n",
      "/gpfs/fs1/data/reddylab/Kuei/out/proj_combeffect/log/bed2bedgraph2bigwig.7.txt\n",
      "/gpfs/fs1/data/reddylab/Kuei/out/proj_combeffect/log/bed2bedgraph2bigwig.8.txt\n",
      "/gpfs/fs1/data/reddylab/Kuei/out/proj_combeffect/log/bed2bedgraph2bigwig.9.txt\n",
      "/gpfs/fs1/data/reddylab/Kuei/out/proj_combeffect/log/bed2bedgraph2bigwig_TFX2_Dex.txt\n",
      "(/data/common/shared_conda_envs/ucsc) "
     ]
    },
    {
     "ename": "",
     "evalue": "1",
     "output_type": "error",
     "traceback": []
    }
   ],
   "source": [
    "ls ${FD_LOG}/bed2bedgraph2bigwig*"
   ]
  },
  {
   "cell_type": "code",
   "execution_count": 13,
   "id": "cbbffe88-fdcf-4422-9637-40b2580193ad",
   "metadata": {},
   "outputs": [
    {
     "name": "stdout",
     "output_type": "stream",
     "text": [
      "You are on Duke Server: HARDAC\n",
      "BASE DIRECTORY:     /gpfs/fs1/data/reddylab/Kuei\n",
      "PATH OF SOURCE:     /gpfs/fs1/data/reddylab/Kuei/source\n",
      "PATH OF EXECUTABLE: /gpfs/fs1/data/reddylab/Kuei/exe\n",
      "PATH OF ANNOTATION: /gpfs/fs1/data/reddylab/Kuei/annotation\n",
      "PATH OF PROJECT:    /gpfs/fs1/data/reddylab/Kuei/GitRepo/Proj_CombEffect_STARRseq/notebooks\n",
      "PATH OF RESULTS:    /gpfs/fs1/data/reddylab/Kuei/out/proj_combeffect\n",
      "\n",
      "Slurm Array Index:  0\n",
      "Input  file:  /gpfs/fs1/data/reddylab/Kuei/out/proj_combeffect/source/Input1/Input1.bedpe\n",
      "Output file:  /gpfs/fs1/data/reddylab/Kuei/out/proj_combeffect/coverage/Input1/Input1.bedgraph\n",
      "Output file:  /gpfs/fs1/data/reddylab/Kuei/out/proj_combeffect/coverage/Input1/Input1.bw\n",
      "\n",
      "Show the first few lines of the input file\n",
      "/gpfs/fs1/data/reddylab/Kuei/out/proj_combeffect/source/Input1/Input1.bedpe\n",
      "chr1\t13868\t14793\n",
      "chr1\t17394\t18269\n",
      "chr1\t17394\t18268\n",
      "chr1\t17396\t18259\n",
      "chr1\t17405\t18377\n",
      "(/data/common/shared_conda_envs/ucsc) "
     ]
    },
    {
     "ename": "",
     "evalue": "1",
     "output_type": "error",
     "traceback": []
    }
   ],
   "source": [
    "head -20 ${FD_LOG}/bed2bedgraph2bigwig.0.txt"
   ]
  },
  {
   "cell_type": "code",
   "execution_count": 14,
   "id": "dad6229d-6c90-4e54-bc21-7dbb2b6a997e",
   "metadata": {},
   "outputs": [
    {
     "name": "stdout",
     "output_type": "stream",
     "text": [
      "chrY\t56885139\t56886074\n",
      "chrY\t57089240\t57090238\n",
      "\n",
      "Get the bedgraph\n",
      "\n",
      "Get the bigwig\n",
      "\n",
      "Show the first few lines of the output file\n",
      "/gpfs/fs1/data/reddylab/Kuei/out/proj_combeffect/coverage/Input1/Input1.bedgraph\n",
      "chr1\t13868\t14793\t1\n",
      "chr1\t17394\t17396\t2\n",
      "chr1\t17396\t17405\t3\n",
      "\n",
      "Show the last few lines of the output file\n",
      "/gpfs/fs1/data/reddylab/Kuei/out/proj_combeffect/coverage/Input1/Input1.bedgraph\n",
      "chrY\t56885139\t56885348\t2\n",
      "chrY\t56885348\t56886074\t1\n",
      "chrY\t57089240\t57090238\t1\n",
      "\n",
      "Done!\n",
      "(/data/common/shared_conda_envs/ucsc) "
     ]
    },
    {
     "ename": "",
     "evalue": "1",
     "output_type": "error",
     "traceback": []
    }
   ],
   "source": [
    "tail -20 ${FD_LOG}/bed2bedgraph2bigwig.0.txt"
   ]
  },
  {
   "cell_type": "code",
   "execution_count": 21,
   "id": "e8e7e1b5-0e55-45fc-8dbd-5143ff785a88",
   "metadata": {},
   "outputs": [
    {
     "name": "stdout",
     "output_type": "stream",
     "text": [
      "You are on Duke Server: HARDAC\n",
      "BASE DIRECTORY:     /gpfs/fs1/data/reddylab/Kuei\n",
      "PATH OF SOURCE:     /gpfs/fs1/data/reddylab/Kuei/source\n",
      "PATH OF EXECUTABLE: /gpfs/fs1/data/reddylab/Kuei/exe\n",
      "PATH OF ANNOTATION: /gpfs/fs1/data/reddylab/Kuei/annotation\n",
      "PATH OF PROJECT:    /gpfs/fs1/data/reddylab/Kuei/GitRepo/Proj_CombEffect_STARRseq/notebooks\n",
      "PATH OF RESULTS:    /gpfs/fs1/data/reddylab/Kuei/out/proj_combeffect\n",
      "\n",
      "Slurm Array Index:  5\n",
      "Time Stamp:         03-01-22+15:10:38\n",
      "Treatment:          CpdA\n",
      "\n",
      "+++++++++++++++++++++++++++++++++++++++++++++++++++\n",
      "Input  file:  /gpfs/fs1/data/reddylab/Kuei/out/proj_combeffect/source/TFX2_CpdA/TFX2_CpdA.bedpe\n",
      "Output file:  /gpfs/fs1/data/reddylab/Kuei/out/proj_combeffect/coverage/TFX2_CpdA/TFX2_CpdA.bedgraph\n",
      "Output file:  /gpfs/fs1/data/reddylab/Kuei/out/proj_combeffect/coverage/TFX2_CpdA/TFX2_CpdA.bw\n",
      "\n",
      "Show the first few lines of the input file\n",
      "/gpfs/fs1/data/reddylab/Kuei/out/proj_combeffect/source/TFX2_CpdA/TFX2_CpdA.bedpe\n",
      "chr1\t15318\t16277\n",
      "chr1\t15384\t16252\n",
      "chr1\t15771\t16813\n",
      "chr1\t15771\t16814\n",
      "chr1\t16202\t17097\n",
      "\n",
      "Show the last few lines of the input file\n",
      "/gpfs/fs1/data/reddylab/Kuei/out/proj_combeffect/source/TFX2_CpdA/TFX2_CpdA.bedpe\n",
      "chrY\t57089101\t57090020\n",
      "chrY\t57089611\t57090540\n",
      "chrY\t57120614\t57121644\n",
      "chrY\t57122315\t57123089\n",
      "chrY\t57122401\t57123394\n",
      "\n",
      "Get the bedgraph\n",
      "\n",
      "Get the bigwig\n",
      "\n",
      "Show the first few lines of the output file\n",
      "/gpfs/fs1/data/reddylab/Kuei/out/proj_combeffect/coverage/TFX2_CpdA/TFX2_CpdA.bedgraph\n",
      "head: cannot open ‘/gpfs/fs1/data/reddylab/Kuei/out/proj_combeffect/coverage/TFX2_CpdA/TFX2_CpdA.bedgraph’ for reading: No such file or directory\n",
      "\n",
      "Show the last few lines of the output file\n",
      "/gpfs/fs1/data/reddylab/Kuei/out/proj_combeffect/coverage/TFX2_CpdA/TFX2_CpdA.bedgraph\n",
      "tail: cannot open ‘/gpfs/fs1/data/reddylab/Kuei/out/proj_combeffect/coverage/TFX2_CpdA/TFX2_CpdA.bedgraph’ for reading: No such file or directory\n",
      "\n",
      "+++++++++++++++++++++++++++++++++++++++++++++++++++\n",
      "Input  file:  /gpfs/fs1/data/reddylab/Kuei/out/proj_combeffect/source/TFX3_CpdA/TFX3_CpdA.bedpe\n",
      "Output file:  /gpfs/fs1/data/reddylab/Kuei/out/proj_combeffect/coverage/TFX3_CpdA/TFX3_CpdA.bedgraph\n",
      "Output file:  /gpfs/fs1/data/reddylab/Kuei/out/proj_combeffect/coverage/TFX3_CpdA/TFX3_CpdA.bw\n",
      "\n",
      "Show the first few lines of the input file\n",
      "/gpfs/fs1/data/reddylab/Kuei/out/proj_combeffect/source/TFX3_CpdA/TFX3_CpdA.bedpe\n",
      "chr1\t13752\t14778\n",
      "chr1\t14436\t15527\n",
      "chr1\t14436\t15527\n",
      "chr1\t14438\t15527\n",
      "chr1\t14439\t15525\n",
      "\n",
      "Show the last few lines of the input file\n",
      "/gpfs/fs1/data/reddylab/Kuei/out/proj_combeffect/source/TFX3_CpdA/TFX3_CpdA.bedpe\n",
      "chrY\t56885213\t56886122\n",
      "chrY\t56886487\t56887591\n",
      "chrY\t56886488\t56887591\n",
      "chrY\t57040071\t57041011\n",
      "chrY\t57088156\t57090164\n",
      "\n",
      "Get the bedgraph\n",
      "\n",
      "Get the bigwig\n",
      "\n",
      "Show the first few lines of the output file\n",
      "/gpfs/fs1/data/reddylab/Kuei/out/proj_combeffect/coverage/TFX3_CpdA/TFX3_CpdA.bedgraph\n",
      "head: cannot open ‘/gpfs/fs1/data/reddylab/Kuei/out/proj_combeffect/coverage/TFX3_CpdA/TFX3_CpdA.bedgraph’ for reading: No such file or directory\n",
      "\n",
      "Show the last few lines of the output file\n",
      "/gpfs/fs1/data/reddylab/Kuei/out/proj_combeffect/coverage/TFX3_CpdA/TFX3_CpdA.bedgraph\n",
      "tail: cannot open ‘/gpfs/fs1/data/reddylab/Kuei/out/proj_combeffect/coverage/TFX3_CpdA/TFX3_CpdA.bedgraph’ for reading: No such file or directory\n",
      "\n",
      "+++++++++++++++++++++++++++++++++++++++++++++++++++\n",
      "Input  file:  /gpfs/fs1/data/reddylab/Kuei/out/proj_combeffect/source/TFX4_CpdA/TFX4_CpdA.bedpe\n",
      "Output file:  /gpfs/fs1/data/reddylab/Kuei/out/proj_combeffect/coverage/TFX4_CpdA/TFX4_CpdA.bedgraph\n",
      "Output file:  /gpfs/fs1/data/reddylab/Kuei/out/proj_combeffect/coverage/TFX4_CpdA/TFX4_CpdA.bw\n",
      "\n",
      "Show the first few lines of the input file\n",
      "/gpfs/fs1/data/reddylab/Kuei/out/proj_combeffect/source/TFX4_CpdA/TFX4_CpdA.bedpe\n",
      "chr1\t14848\t15902\n",
      "chr1\t14848\t15900\n",
      "chr1\t15530\t16529\n",
      "chr1\t17395\t18382\n",
      "chr1\t17422\t18456\n",
      "\n",
      "Show the last few lines of the input file\n",
      "/gpfs/fs1/data/reddylab/Kuei/out/proj_combeffect/source/TFX4_CpdA/TFX4_CpdA.bedpe\n",
      "chrY\t56885533\t56886462\n",
      "chrY\t56885535\t56886462\n",
      "chrY\t57089287\t57090167\n",
      "chrY\t57100043\t57101008\n",
      "chrY\t57120631\t57121672\n",
      "\n",
      "Get the bedgraph\n",
      "\n",
      "Get the bigwig\n",
      "\n",
      "Show the first few lines of the output file\n",
      "/gpfs/fs1/data/reddylab/Kuei/out/proj_combeffect/coverage/TFX4_CpdA/TFX4_CpdA.bedgraph\n",
      "head: cannot open ‘/gpfs/fs1/data/reddylab/Kuei/out/proj_combeffect/coverage/TFX4_CpdA/TFX4_CpdA.bedgraph’ for reading: No such file or directory\n",
      "\n",
      "Show the last few lines of the output file\n",
      "/gpfs/fs1/data/reddylab/Kuei/out/proj_combeffect/coverage/TFX4_CpdA/TFX4_CpdA.bedgraph\n",
      "tail: cannot open ‘/gpfs/fs1/data/reddylab/Kuei/out/proj_combeffect/coverage/TFX4_CpdA/TFX4_CpdA.bedgraph’ for reading: No such file or directory\n",
      "\n",
      "+++++++++++++++++++++++++++++++++++++++++++++++++++\n",
      "Input  file:  /gpfs/fs1/data/reddylab/Kuei/out/proj_combeffect/source/TFX5_CpdA/TFX5_CpdA.bedpe\n",
      "Output file:  /gpfs/fs1/data/reddylab/Kuei/out/proj_combeffect/coverage/TFX5_CpdA/TFX5_CpdA.bedgraph\n",
      "Output file:  /gpfs/fs1/data/reddylab/Kuei/out/proj_combeffect/coverage/TFX5_CpdA/TFX5_CpdA.bw\n",
      "\n",
      "Show the first few lines of the input file\n",
      "/gpfs/fs1/data/reddylab/Kuei/out/proj_combeffect/source/TFX5_CpdA/TFX5_CpdA.bedpe\n",
      "chr1\t13868\t14792\n",
      "chr1\t13868\t14793\n",
      "chr1\t13870\t14792\n",
      "chr1\t14671\t15508\n",
      "chr1\t16538\t17495\n",
      "\n",
      "Show the last few lines of the input file\n",
      "/gpfs/fs1/data/reddylab/Kuei/out/proj_combeffect/source/TFX5_CpdA/TFX5_CpdA.bedpe\n",
      "chrY\t57040444\t57041467\n",
      "chrY\t57089121\t57090199\n",
      "chrY\t57122412\t57123341\n",
      "chrY\t57176678\t57177556\n",
      "chrY\t57200800\t57201714\n",
      "\n",
      "Get the bedgraph\n",
      "\n",
      "Get the bigwig\n",
      "\n",
      "Show the first few lines of the output file\n",
      "/gpfs/fs1/data/reddylab/Kuei/out/proj_combeffect/coverage/TFX5_CpdA/TFX5_CpdA.bedgraph\n",
      "head: cannot open ‘/gpfs/fs1/data/reddylab/Kuei/out/proj_combeffect/coverage/TFX5_CpdA/TFX5_CpdA.bedgraph’ for reading: No such file or directory\n",
      "\n",
      "Show the last few lines of the output file\n",
      "/gpfs/fs1/data/reddylab/Kuei/out/proj_combeffect/coverage/TFX5_CpdA/TFX5_CpdA.bedgraph\n",
      "tail: cannot open ‘/gpfs/fs1/data/reddylab/Kuei/out/proj_combeffect/coverage/TFX5_CpdA/TFX5_CpdA.bedgraph’ for reading: No such file or directory\n",
      "\n",
      "Done!\n",
      "Run Time: 1 seconds\n",
      "(/data/common/shared_conda_envs/ucsc) "
     ]
    },
    {
     "ename": "",
     "evalue": "1",
     "output_type": "error",
     "traceback": []
    }
   ],
   "source": [
    "cat ${FD_LOG}/bed2bedgraph2bigwig.5.txt"
   ]
  },
  {
   "cell_type": "code",
   "execution_count": 10,
   "id": "9a1d3a09-5ac2-4c87-8bd6-6892463143f1",
   "metadata": {},
   "outputs": [
    {
     "name": "stdout",
     "output_type": "stream",
     "text": [
      "You are on Duke Server: HARDAC\n",
      "BASE DIRECTORY:     /gpfs/fs1/data/reddylab/Kuei\n",
      "PATH OF SOURCE:     /gpfs/fs1/data/reddylab/Kuei/source\n",
      "PATH OF EXECUTABLE: /gpfs/fs1/data/reddylab/Kuei/exe\n",
      "PATH OF ANNOTATION: /gpfs/fs1/data/reddylab/Kuei/annotation\n",
      "PATH OF PROJECT:    /gpfs/fs1/data/reddylab/Kuei/GitRepo/Proj_CombEffect_STARRseq/notebooks\n",
      "PATH OF RESULTS:    /gpfs/fs1/data/reddylab/Kuei/out/proj_combeffect\n",
      "\n",
      "5\n",
      "CpdA\n",
      "/gpfs/fs1/data/reddylab/Kuei/out/proj_combeffect/source/TFX2_CpdA TFX2_CpdA\n",
      "/gpfs/fs1/data/reddylab/Kuei/out/proj_combeffect/source/TFX3_CpdA TFX3_CpdA\n",
      "/gpfs/fs1/data/reddylab/Kuei/out/proj_combeffect/source/TFX4_CpdA TFX4_CpdA\n",
      "/gpfs/fs1/data/reddylab/Kuei/out/proj_combeffect/source/TFX5_CpdA TFX5_CpdA\n",
      "(/data/common/shared_conda_envs/ucsc) "
     ]
    },
    {
     "ename": "",
     "evalue": "1",
     "output_type": "error",
     "traceback": []
    }
   ],
   "source": [
    "cat ${FD_LOG}/bed2bedgraph2bigwig.5.txt"
   ]
  },
  {
   "cell_type": "code",
   "execution_count": 67,
   "id": "89852779-f49d-46dc-839c-539c4b49090c",
   "metadata": {},
   "outputs": [
    {
     "name": "stdout",
     "output_type": "stream",
     "text": [
      "(/data/common/shared_conda_envs/ucsc) (/data/common/shared_conda_envs/ucsc) (/data/common/shared_conda_envs/ucsc) (/data/common/shared_conda_envs/ucsc) Submitted batch job 26860358\n",
      "(/data/common/shared_conda_envs/ucsc) "
     ]
    },
    {
     "ename": "",
     "evalue": "1",
     "output_type": "error",
     "traceback": []
    }
   ],
   "source": [
    "source ../config_duke.sh\n",
    "source ../config_load_module_bedtools.sh\n",
    "source ../config_load_module_ucsc.sh\n",
    "\n",
    "sbatch -p all \\\n",
    "    --array 0-17 \\\n",
    "    --mem 8G \\\n",
    "    -o ${FD_LOG}/bed2bedgraph2bigwig.%a.txt \\\n",
    "    <<'EOF'\n",
    "#!/bin/bash\n",
    "##############################################\n",
    "### Set directories & global variables\n",
    "##############################################\n",
    "source ../config_duke.sh -v\n",
    "\n",
    "##############################################\n",
    "### Set input and output\n",
    "##############################################\n",
    "FD_BEDS=($(ls -d ${FD_RES}/source/{Input*,TFX?_DMSO,TFX?_Dex}))\n",
    "FD_BED=${FD_BEDS[${SLURM_ARRAY_TASK_ID}]}\n",
    "#FD_BED=${FD_RES}/source/TFX2_Dex\n",
    "\n",
    "### extract sample name\n",
    "SAMPLE=$(basename ${FD_BED})\n",
    "\n",
    "### set input and output file/directory\n",
    "FD_OUT=${FD_RES}/coverage/${SAMPLE}\n",
    "FN_BED=${SAMPLE}.bedpe\n",
    "FN_OUT_BGH=${SAMPLE}.bedgraph\n",
    "FN_OUT_BWG=${SAMPLE}.bw\n",
    "\n",
    "### genome file\n",
    "FD_GEN=${FD_ANN}/genome/hg38\n",
    "FN_GEN=hg38.chrom.sizes\n",
    "\n",
    "##############################################\n",
    "### Convert Bed file to bedgraph format\n",
    "##############################################\n",
    "\n",
    "### START Message\n",
    "echo \"Slurm Array Index: \" ${SLURM_ARRAY_TASK_ID}\n",
    "echo \"Input  file: \" ${FD_BED}/${FN_BED}\n",
    "echo \"Output file: \" ${FD_OUT}/${FN_OUT_BGH}\n",
    "echo \"Output file: \" ${FD_OUT}/${FN_OUT_BWG}\n",
    "echo\n",
    "echo \"Show the first few lines of the input file\"\n",
    "echo ${FD_BED}/${FN_BED}\n",
    "head -n 5 ${FD_BED}/${FN_BED}\n",
    "echo\n",
    "echo \"Show the last few lines of the input file\"\n",
    "echo ${FD_BED}/${FN_BED}\n",
    "tail -n 5 ${FD_BED}/${FN_BED}\n",
    "echo\n",
    "\n",
    "### init: create output folder if not exist\n",
    "mkdir -p ${FD_OUT}\n",
    "\n",
    "### Bedtools genomecov to get bedgraph\n",
    "echo \"Get the bedgraph\"\n",
    "bedtools genomecov -i ${FD_BED}/${FN_BED} -g ${FD_GEN}/${FN_GEN} -bg > ${FD_OUT}/${FN_OUT_BGH}\n",
    "echo\n",
    "echo \"Get the bigwig\"\n",
    "bedGraphToBigWig ${FD_OUT}/${FN_OUT_BGH}  ${FD_GEN}/${FN_GEN} ${FD_OUT}/${FN_OUT_BWG}\n",
    "echo\n",
    "   \n",
    "### END Message\n",
    "echo \"Show the first few lines of the output file\"\n",
    "echo ${FD_OUT}/${FN_OUT_BGH}\n",
    "head -n 3 ${FD_OUT}/${FN_OUT_BGH}\n",
    "echo\n",
    "echo \"Show the last few lines of the output file\"\n",
    "echo ${FD_OUT}/${FN_OUT_BGH}\n",
    "tail -n 3 ${FD_OUT}/${FN_OUT_BGH}\n",
    "echo\n",
    "\n",
    "echo \"Done!\"\n",
    "\n",
    "EOF"
   ]
  },
  {
   "cell_type": "code",
   "execution_count": 69,
   "id": "c1f92ba8-cb6b-4765-a881-814559183850",
   "metadata": {},
   "outputs": [
    {
     "name": "stdout",
     "output_type": "stream",
     "text": [
      "==> /gpfs/fs1/data/reddylab/Kuei/out/proj_combeffect/log/bed2bedgraph2bigwig.0.txt <==\n",
      "Done!\n",
      "\n",
      "==> /gpfs/fs1/data/reddylab/Kuei/out/proj_combeffect/log/bed2bedgraph2bigwig.10.txt <==\n",
      "Done!\n",
      "\n",
      "==> /gpfs/fs1/data/reddylab/Kuei/out/proj_combeffect/log/bed2bedgraph2bigwig.11.txt <==\n",
      "Done!\n",
      "\n",
      "==> /gpfs/fs1/data/reddylab/Kuei/out/proj_combeffect/log/bed2bedgraph2bigwig.12.txt <==\n",
      "Done!\n",
      "\n",
      "==> /gpfs/fs1/data/reddylab/Kuei/out/proj_combeffect/log/bed2bedgraph2bigwig.13.txt <==\n",
      "Done!\n",
      "\n",
      "==> /gpfs/fs1/data/reddylab/Kuei/out/proj_combeffect/log/bed2bedgraph2bigwig.14.txt <==\n",
      "Done!\n",
      "\n",
      "==> /gpfs/fs1/data/reddylab/Kuei/out/proj_combeffect/log/bed2bedgraph2bigwig.15.txt <==\n",
      "Done!\n",
      "\n",
      "==> /gpfs/fs1/data/reddylab/Kuei/out/proj_combeffect/log/bed2bedgraph2bigwig.16.txt <==\n",
      "Done!\n",
      "\n",
      "==> /gpfs/fs1/data/reddylab/Kuei/out/proj_combeffect/log/bed2bedgraph2bigwig.17.txt <==\n",
      "Done!\n",
      "\n",
      "==> /gpfs/fs1/data/reddylab/Kuei/out/proj_combeffect/log/bed2bedgraph2bigwig.1.txt <==\n",
      "Done!\n",
      "\n",
      "==> /gpfs/fs1/data/reddylab/Kuei/out/proj_combeffect/log/bed2bedgraph2bigwig.2.txt <==\n",
      "Done!\n",
      "\n",
      "==> /gpfs/fs1/data/reddylab/Kuei/out/proj_combeffect/log/bed2bedgraph2bigwig.3.txt <==\n",
      "Done!\n",
      "\n",
      "==> /gpfs/fs1/data/reddylab/Kuei/out/proj_combeffect/log/bed2bedgraph2bigwig.4.txt <==\n",
      "Done!\n",
      "\n",
      "==> /gpfs/fs1/data/reddylab/Kuei/out/proj_combeffect/log/bed2bedgraph2bigwig.5.txt <==\n",
      "Done!\n",
      "\n",
      "==> /gpfs/fs1/data/reddylab/Kuei/out/proj_combeffect/log/bed2bedgraph2bigwig.6.txt <==\n",
      "Done!\n",
      "\n",
      "==> /gpfs/fs1/data/reddylab/Kuei/out/proj_combeffect/log/bed2bedgraph2bigwig.7.txt <==\n",
      "Done!\n",
      "\n",
      "==> /gpfs/fs1/data/reddylab/Kuei/out/proj_combeffect/log/bed2bedgraph2bigwig.8.txt <==\n",
      "Done!\n",
      "\n",
      "==> /gpfs/fs1/data/reddylab/Kuei/out/proj_combeffect/log/bed2bedgraph2bigwig.9.txt <==\n",
      "Done!\n",
      "(/data/common/shared_conda_envs/ucsc) "
     ]
    },
    {
     "ename": "",
     "evalue": "1",
     "output_type": "error",
     "traceback": []
    }
   ],
   "source": [
    "tail -n 1 ${FD_LOG}/bed2bedgraph2bigwig.*.txt"
   ]
  },
  {
   "cell_type": "code",
   "execution_count": 70,
   "id": "e37e6461-158e-4f55-8461-7bad801c2ac3",
   "metadata": {},
   "outputs": [
    {
     "name": "stdout",
     "output_type": "stream",
     "text": [
      "You are on Duke Server: HARDAC\n",
      "BASE DIRECTORY:     /gpfs/fs1/data/reddylab/Kuei\n",
      "PATH OF SOURCE:     /gpfs/fs1/data/reddylab/Kuei/source\n",
      "PATH OF EXECUTABLE: /gpfs/fs1/data/reddylab/Kuei/exe\n",
      "PATH OF ANNOTATION: /gpfs/fs1/data/reddylab/Kuei/annotation\n",
      "PATH OF PROJECT:    /gpfs/fs1/data/reddylab/Kuei/GitRepo/Proj_CombEffect_STARRseq/notebooks\n",
      "PATH OF RESULTS:    /gpfs/fs1/data/reddylab/Kuei/out/proj_combeffect\n",
      "\n",
      "Slurm Array Index:  17\n",
      "Input  file:  /gpfs/fs1/data/reddylab/Kuei/out/proj_combeffect/source/TFX5_DMSO/TFX5_DMSO.bedpe\n",
      "Output file:  /gpfs/fs1/data/reddylab/Kuei/out/proj_combeffect/coverage/TFX5_DMSO/TFX5_DMSO.bedgraph\n",
      "Output file:  /gpfs/fs1/data/reddylab/Kuei/out/proj_combeffect/coverage/TFX5_DMSO/TFX5_DMSO.bw\n",
      "\n",
      "Show the first few lines of the input file\n",
      "/gpfs/fs1/data/reddylab/Kuei/out/proj_combeffect/source/TFX5_DMSO/TFX5_DMSO.bedpe\n",
      "chr1\t13684\t14776\n",
      "chr1\t14912\t15901\n",
      "chr1\t14912\t15901\n",
      "chr1\t14912\t15900\n",
      "chr1\t14913\t15901\n",
      "\n",
      "Show the last few lines of the input file\n",
      "/gpfs/fs1/data/reddylab/Kuei/out/proj_combeffect/source/TFX5_DMSO/TFX5_DMSO.bedpe\n",
      "chrY\t56881471\t56882499\n",
      "chrY\t56996499\t56997595\n",
      "chrY\t57028995\t57029901\n",
      "chrY\t57103999\t57104963\n",
      "chrY\t57121452\t57122438\n",
      "\n",
      "Get the bedgraph\n",
      "\n",
      "Get the bigwig\n",
      "\n",
      "Show the first few lines of the output file\n",
      "/gpfs/fs1/data/reddylab/Kuei/out/proj_combeffect/coverage/TFX5_DMSO/TFX5_DMSO.bedgraph\n",
      "chr1\t13684\t14776\t1\n",
      "chr1\t14912\t14913\t3\n",
      "chr1\t14913\t15900\t4\n",
      "\n",
      "Show the last few lines of the output file\n",
      "/gpfs/fs1/data/reddylab/Kuei/out/proj_combeffect/coverage/TFX5_DMSO/TFX5_DMSO.bedgraph\n",
      "chrY\t57028995\t57029901\t1\n",
      "chrY\t57103999\t57104963\t1\n",
      "chrY\t57121452\t57122438\t1\n",
      "\n",
      "Done!\n",
      "(/data/common/shared_conda_envs/ucsc) "
     ]
    },
    {
     "ename": "",
     "evalue": "1",
     "output_type": "error",
     "traceback": []
    }
   ],
   "source": [
    "cat /gpfs/fs1/data/reddylab/Kuei/out/proj_combeffect/log/bed2bedgraph2bigwig.17.txt"
   ]
  },
  {
   "cell_type": "code",
   "execution_count": null,
   "id": "63496f17-91f1-4cba-b96f-789b62f2710a",
   "metadata": {},
   "outputs": [],
   "source": []
  },
  {
   "cell_type": "code",
   "execution_count": null,
   "id": "2a6e6c79-2bb5-4050-b092-254bfff660ea",
   "metadata": {},
   "outputs": [],
   "source": []
  },
  {
   "cell_type": "code",
   "execution_count": null,
   "id": "753a7365-4961-412e-b4fa-06587eef45ba",
   "metadata": {},
   "outputs": [],
   "source": []
  },
  {
   "cell_type": "code",
   "execution_count": null,
   "id": "28348603-3a9e-4ee5-88a9-8541798a325c",
   "metadata": {},
   "outputs": [],
   "source": []
  },
  {
   "cell_type": "code",
   "execution_count": 1,
   "id": "6ef1d6c8-83ce-4c20-9709-7a94a1535176",
   "metadata": {},
   "outputs": [
    {
     "name": "stdout",
     "output_type": "stream",
     "text": [
      "You are on Duke Server: DCC\n",
      "BASE DIRECTORY:     /work/kk319\n",
      "WORK DIRECTORY:     /work/kk319/out/CombEffect_STARR\n",
      "LOG  DIRECTORY:     /work/kk319/out/CombEffect_STARR/log\n",
      "PATH OF SOURCE:     /work/kk319/source\n",
      "PATH OF EXECUTABLE: /work/kk319/exe\n",
      "PATH OF ANNOTATION: /work/kk319/annotation\n",
      "\n"
     ]
    }
   ],
   "source": [
    "source ../config_duke.sh"
   ]
  },
  {
   "cell_type": "code",
   "execution_count": 3,
   "id": "667ec86a-da34-438d-9c6f-4fc007d62961",
   "metadata": {},
   "outputs": [
    {
     "name": "stdout",
     "output_type": "stream",
     "text": [
      "/work/kk319/out/CombEffect_STARR\n"
     ]
    }
   ],
   "source": [
    "echo ${FD_WRK}"
   ]
  },
  {
   "cell_type": "code",
   "execution_count": 4,
   "id": "1c1726d5-c650-4e24-a21a-c6a42ab74c71",
   "metadata": {},
   "outputs": [
    {
     "name": "stdout",
     "output_type": "stream",
     "text": [
      "\u001b[0m\u001b[01;34mannotation_fragment\u001b[0m  \u001b[01;34mbedgraph\u001b[0m   \u001b[01;34mcount_fragment\u001b[0m  \u001b[01;34mcoverage\u001b[0m  \u001b[01;34mkmer\u001b[0m  \u001b[01;34msource\u001b[0m\n",
      "\u001b[01;34mannotation_segment\u001b[0m   \u001b[01;34mbootstrap\u001b[0m  \u001b[01;34mcount_segment\u001b[0m   \u001b[01;34mdata\u001b[0m      \u001b[01;34mlog\u001b[0m\n"
     ]
    }
   ],
   "source": [
    "ls ${FD_WRK}"
   ]
  },
  {
   "cell_type": "code",
   "execution_count": 5,
   "id": "32a228c6-23ee-47d9-b548-b3a9ed26572d",
   "metadata": {},
   "outputs": [
    {
     "name": "stdout",
     "output_type": "stream",
     "text": [
      "\u001b[0m\u001b[01;34mInput1\u001b[0m               \u001b[01;34mTFX3_AZD9567\u001b[0m         \u001b[01;34mTFX4_Hydrocortisone\u001b[0m\n",
      "\u001b[01;34mInput2\u001b[0m               \u001b[01;34mTFX3_CORT108297\u001b[0m      \u001b[01;34mTFX4_Mapracorat\u001b[0m\n",
      "\u001b[01;34mInput3\u001b[0m               \u001b[01;34mTFX3_CpdA\u001b[0m            \u001b[01;34mTFX4_RU486\u001b[0m\n",
      "\u001b[01;34mInput4\u001b[0m               \u001b[01;34mTFX3_DMSO\u001b[0m            \u001b[01;34mTFX4_ZK216348\u001b[0m\n",
      "\u001b[01;34mInput5\u001b[0m               \u001b[01;34mTFX3_Dex\u001b[0m             \u001b[01;34mTFX5_AZD2906\u001b[0m\n",
      "\u001b[01;34mTFX2_AZD2906\u001b[0m         \u001b[01;34mTFX3_GW870086\u001b[0m        \u001b[01;34mTFX5_AZD9567\u001b[0m\n",
      "\u001b[01;34mTFX2_AZD9567\u001b[0m         \u001b[01;34mTFX3_Hydrocortisone\u001b[0m  \u001b[01;34mTFX5_CORT108297\u001b[0m\n",
      "\u001b[01;34mTFX2_CORT108297\u001b[0m      \u001b[01;34mTFX3_Mapracorat\u001b[0m      \u001b[01;34mTFX5_CpdA\u001b[0m\n",
      "\u001b[01;34mTFX2_CpdA\u001b[0m            \u001b[01;34mTFX3_RU486\u001b[0m           \u001b[01;34mTFX5_DMSO\u001b[0m\n",
      "\u001b[01;34mTFX2_DMSO\u001b[0m            \u001b[01;34mTFX3_ZK216348\u001b[0m        \u001b[01;34mTFX5_Dex\u001b[0m\n",
      "\u001b[01;34mTFX2_Dex\u001b[0m             \u001b[01;34mTFX4_AZD2906\u001b[0m         \u001b[01;34mTFX5_GW870086\u001b[0m\n",
      "\u001b[01;34mTFX2_GW870086\u001b[0m        \u001b[01;34mTFX4_AZD9567\u001b[0m         \u001b[01;34mTFX5_Hydrocortisone\u001b[0m\n",
      "\u001b[01;34mTFX2_Hydrocortisone\u001b[0m  \u001b[01;34mTFX4_CORT108297\u001b[0m      \u001b[01;34mTFX5_Mapracorat\u001b[0m\n",
      "\u001b[01;34mTFX2_Mapracorat\u001b[0m      \u001b[01;34mTFX4_CpdA\u001b[0m            \u001b[01;34mTFX5_RU486\u001b[0m\n",
      "\u001b[01;34mTFX2_RU486\u001b[0m           \u001b[01;34mTFX4_DMSO\u001b[0m            \u001b[01;34mTFX5_ZK216348\u001b[0m\n",
      "\u001b[01;34mTFX2_ZK216348\u001b[0m        \u001b[01;34mTFX4_Dex\u001b[0m             library_size.txt\n",
      "\u001b[01;34mTFX3_AZD2906\u001b[0m         \u001b[01;34mTFX4_GW870086\u001b[0m\n"
     ]
    }
   ],
   "source": [
    "ls ${FD_WRK}/source"
   ]
  },
  {
   "cell_type": "code",
   "execution_count": 7,
   "id": "ee2e297b-5e88-4693-9b5d-3af8df0bea35",
   "metadata": {},
   "outputs": [
    {
     "name": "stdout",
     "output_type": "stream",
     "text": [
      "\u001b[0m\u001b[01;34m/work/kk319/out/CombEffect_STARR/source/Input1\u001b[0m\n",
      "\u001b[01;34m/work/kk319/out/CombEffect_STARR/source/Input2\u001b[0m\n",
      "\u001b[01;34m/work/kk319/out/CombEffect_STARR/source/Input3\u001b[0m\n",
      "\u001b[01;34m/work/kk319/out/CombEffect_STARR/source/Input4\u001b[0m\n",
      "\u001b[01;34m/work/kk319/out/CombEffect_STARR/source/Input5\u001b[0m\n"
     ]
    }
   ],
   "source": [
    "ls -d ${FD_WRK}/source/Input?"
   ]
  },
  {
   "cell_type": "code",
   "execution_count": 8,
   "id": "4d68b811-b3da-4511-88a5-5604d09c34da",
   "metadata": {},
   "outputs": [
    {
     "name": "stdout",
     "output_type": "stream",
     "text": [
      "\u001b[0m\u001b[01;34m/work/kk319/out/CombEffect_STARR/source/TFX2_DMSO\u001b[0m\n",
      "\u001b[01;34m/work/kk319/out/CombEffect_STARR/source/TFX3_DMSO\u001b[0m\n",
      "\u001b[01;34m/work/kk319/out/CombEffect_STARR/source/TFX4_DMSO\u001b[0m\n",
      "\u001b[01;34m/work/kk319/out/CombEffect_STARR/source/TFX5_DMSO\u001b[0m\n"
     ]
    }
   ],
   "source": [
    "ls -d ${FD_WRK}/source/TFX?_DMSO"
   ]
  },
  {
   "cell_type": "code",
   "execution_count": 9,
   "id": "df6fc575-f8e1-4792-b5ca-bc0b44bd20b8",
   "metadata": {},
   "outputs": [
    {
     "name": "stdout",
     "output_type": "stream",
     "text": [
      "\u001b[0m\u001b[01;34m/work/kk319/out/CombEffect_STARR/source/TFX2_Dex\u001b[0m\n",
      "\u001b[01;34m/work/kk319/out/CombEffect_STARR/source/TFX3_Dex\u001b[0m\n",
      "\u001b[01;34m/work/kk319/out/CombEffect_STARR/source/TFX4_Dex\u001b[0m\n",
      "\u001b[01;34m/work/kk319/out/CombEffect_STARR/source/TFX5_Dex\u001b[0m\n"
     ]
    }
   ],
   "source": [
    "ls -d ${FD_WRK}/source/TFX?_Dex"
   ]
  },
  {
   "cell_type": "code",
   "execution_count": 17,
   "id": "34c5a01b-7cc6-4f82-86ad-093af21ea551",
   "metadata": {},
   "outputs": [
    {
     "name": "stdout",
     "output_type": "stream",
     "text": [
      "\u001b[0m\u001b[01;34m/work/kk319/out/CombEffect_STARR/source/Input1\u001b[0m\n",
      "\u001b[01;34m/work/kk319/out/CombEffect_STARR/source/Input2\u001b[0m\n",
      "\u001b[01;34m/work/kk319/out/CombEffect_STARR/source/Input3\u001b[0m\n",
      "\u001b[01;34m/work/kk319/out/CombEffect_STARR/source/Input4\u001b[0m\n",
      "\u001b[01;34m/work/kk319/out/CombEffect_STARR/source/Input5\u001b[0m\n",
      "\u001b[01;34m/work/kk319/out/CombEffect_STARR/source/TFX2_DMSO\u001b[0m\n",
      "\u001b[01;34m/work/kk319/out/CombEffect_STARR/source/TFX2_Dex\u001b[0m\n",
      "\u001b[01;34m/work/kk319/out/CombEffect_STARR/source/TFX3_DMSO\u001b[0m\n",
      "\u001b[01;34m/work/kk319/out/CombEffect_STARR/source/TFX3_Dex\u001b[0m\n",
      "\u001b[01;34m/work/kk319/out/CombEffect_STARR/source/TFX4_DMSO\u001b[0m\n",
      "\u001b[01;34m/work/kk319/out/CombEffect_STARR/source/TFX4_Dex\u001b[0m\n",
      "\u001b[01;34m/work/kk319/out/CombEffect_STARR/source/TFX5_DMSO\u001b[0m\n",
      "\u001b[01;34m/work/kk319/out/CombEffect_STARR/source/TFX5_Dex\u001b[0m\n"
     ]
    }
   ],
   "source": [
    "ls -d ${FD_WRK}/source/{Input?,TFX?_DMSO,TFX?_Dex}"
   ]
  },
  {
   "cell_type": "code",
   "execution_count": 15,
   "id": "4188f07c-546b-4913-93b6-b45e224d9879",
   "metadata": {},
   "outputs": [
    {
     "name": "stdout",
     "output_type": "stream",
     "text": [
      "13\n"
     ]
    }
   ],
   "source": [
    "ls -d ${FD_WRK}/source/{Input?,TFX?_DMSO,TFX?_Dex} | wc -l"
   ]
  },
  {
   "cell_type": "code",
   "execution_count": 19,
   "id": "c89ef594-453a-4129-981c-7909eea4624f",
   "metadata": {},
   "outputs": [
    {
     "name": "stdout",
     "output_type": "stream",
     "text": [
      "Input1.bedpe\n"
     ]
    }
   ],
   "source": [
    "ls ${FD_WRK}/source/Input1"
   ]
  },
  {
   "cell_type": "code",
   "execution_count": 23,
   "id": "07061e61-3310-45d7-b9c4-83b76de516e1",
   "metadata": {},
   "outputs": [
    {
     "name": "stdout",
     "output_type": "stream",
     "text": [
      "/work/kk319/out/CombEffect_STARR/source/Input2\n",
      "Input2\n"
     ]
    }
   ],
   "source": [
    "FD_BEDS=($(ls -d ${FD_WRK}/source/{Input?,TFX?_DMSO,TFX?_Dex}))\n",
    "FD_BED=${FD_BEDS[1]}\n",
    "FN_BED=$(basename ${FD_BED})\n",
    "echo ${FD_BED}\n",
    "echo ${FN_BED}"
   ]
  },
  {
   "cell_type": "code",
   "execution_count": null,
   "id": "b76b89dc-e905-4ca6-a7c8-f3570226d947",
   "metadata": {},
   "outputs": [],
   "source": []
  },
  {
   "cell_type": "code",
   "execution_count": 33,
   "id": "4d7b2afd-1956-4cbd-b297-b52c140620c8",
   "metadata": {},
   "outputs": [
    {
     "name": "stdout",
     "output_type": "stream",
     "text": [
      "You are on Duke Server: DCC\n",
      "BASE DIRECTORY:     /work/kk319\n",
      "WORK DIRECTORY:     /work/kk319/out/CombEffect_STARR\n",
      "LOG  DIRECTORY:     /work/kk319/out/CombEffect_STARR/log\n",
      "PATH OF SOURCE:     /work/kk319/source\n",
      "PATH OF EXECUTABLE: /work/kk319/exe\n",
      "PATH OF ANNOTATION: /work/kk319/annotation\n",
      "\n",
      "You are on Duke Server: DCC\n",
      "Submitted batch job 15932495\n"
     ]
    }
   ],
   "source": [
    "source ../config_duke.sh\n",
    "source ../load_module_bedtools.sh\n",
    "\n",
    "sbatch -p scavenger \\\n",
    "    --array 0-12 \\\n",
    "    --mem 8G \\\n",
    "    -o ${FD_LOG}/coverage_sample.%a.txt \\\n",
    "    <<'EOF'\n",
    "#!/bin/bash\n",
    "### set directories & global variables\n",
    "source ../config_duke.sh\n",
    "### set input and output\n",
    "FD_BEDS=($(ls -d ${FD_WRK}/source/{Input?,TFX?_DMSO,TFX?_Dex}))\n",
    "FD_BED=${FD_BEDS[${SLURM_ARRAY_TASK_ID}]}\n",
    "SAMPLE=$(basename ${FD_BED})\n",
    "\n",
    "FN_BED=${SAMPLE}.bedpe\n",
    "FD_OUT=${FD_WRK}/coverage/${SAMPLE}\n",
    "FN_OUT=${SAMPLE}.bedpe\n",
    "\n",
    "FD_GEN=${FD_ANN}/genome/hg38\n",
    "FN_GEN=hg38.chrom.sizes\n",
    "\n",
    "### START Message\n",
    "echo \"Slurm Array Index: \" ${SLURM_ARRAY_TASK_ID}\n",
    "echo \"Input  file: \" ${FD_BED}/${FN_BED}\n",
    "echo \"Output file: \" ${FD_OUT}/${FN_OUT}\n",
    "echo\n",
    "echo \"Show the first few lines of the input file\"\n",
    "echo ${FD_BED}/${FN_BED}\n",
    "head -n 5 ${FD_BED}/${FN_BED}\n",
    "echo\n",
    "echo \"Show the last few lines of the input file\"\n",
    "echo ${FD_BED}/${FN_BED}\n",
    "tail -n 5 ${FD_BED}/${FN_BED}\n",
    "echo\n",
    "    \n",
    "### init: create output folder if not exist\n",
    "mkdir -p ${FD_OUT}\n",
    "    \n",
    "### Bedtools genomecov to get bedgraph\n",
    "echo \"Get the bedgraph\"\n",
    "bedtools genomecov -i ${FD_BED}/${FN_BED} -g ${FD_GEN}/${FN_GEN} -bg > ${FD_OUT}/${FN_OUT}\n",
    "echo\n",
    "   \n",
    "### END Message\n",
    "echo \"Show the first few lines of the output file\"\n",
    "echo ${FD_OUT}/${FN_OUT}\n",
    "head -n 5 ${FD_OUT}/${FN_OUT}\n",
    "echo\n",
    "echo \"Show the last few lines of the output file\"\n",
    "echo ${FD_OUT}/${FN_OUT}\n",
    "tail -n 5 ${FD_OUT}/${FN_OUT}\n",
    "echo\n",
    "echo \"Done!\"\n",
    "\n",
    "EOF"
   ]
  },
  {
   "cell_type": "code",
   "execution_count": 32,
   "id": "a1d08828-381e-4cf7-874a-626d7f85b0ce",
   "metadata": {},
   "outputs": [
    {
     "name": "stdout",
     "output_type": "stream",
     "text": [
      "/work/kk319/out/CombEffect_STARR/log/coverage_sample.0.txt\n"
     ]
    }
   ],
   "source": [
    "readlink -f ${FD_LOG}/coverage_sample.0.txt"
   ]
  },
  {
   "cell_type": "code",
   "execution_count": 25,
   "id": "1a57dbfa-ac1b-4463-ae7a-963b4e7a72ac",
   "metadata": {},
   "outputs": [
    {
     "name": "stdout",
     "output_type": "stream",
     "text": [
      "You are on Duke Server: DCC\n",
      "BASE DIRECTORY:     /work/kk319\n",
      "WORK DIRECTORY:     /work/kk319/out/CombEffect_STARR\n",
      "LOG  DIRECTORY:     /work/kk319/out/CombEffect_STARR/log\n",
      "PATH OF SOURCE:     /work/kk319/source\n",
      "PATH OF EXECUTABLE: /work/kk319/exe\n",
      "PATH OF ANNOTATION: /work/kk319/annotation\n",
      "\n",
      "Slurm Array Index:  0\n",
      "Input  file:  /work/kk319/out/CombEffect_STARR/source/Input1/Input1.bedpe\n",
      "Output file:  /work/kk319/out/CombEffect_STARR/coverage/Input1/Input1.bedpe\n",
      "\n",
      "Show the first few lines of the input file\n",
      "/work/kk319/out/CombEffect_STARR/source/Input1/Input1.bedpe\n",
      "chr1\t13868\t14793\n",
      "chr1\t17394\t18269\n",
      "chr1\t17394\t18268\n",
      "chr1\t17396\t18259\n",
      "chr1\t17405\t18377\n",
      "\n",
      "Show the last few lines of the input file\n",
      "/work/kk319/out/CombEffect_STARR/source/Input1/Input1.bedpe\n",
      "chrY\t56880288\t56881177\n",
      "chrY\t56883167\t56884086\n",
      "chrY\t56884569\t56885348\n",
      "chrY\t56885139\t56886074\n",
      "chrY\t57089240\t57090238\n",
      "\n",
      "Get the bedgraph\n",
      "\n",
      "Done!\n"
     ]
    }
   ],
   "source": [
    "cat ${FD_LOG}/coverage_sample.0.txt"
   ]
  },
  {
   "cell_type": "code",
   "execution_count": 29,
   "id": "12e3724f-9c85-4f54-ac30-45aed6d9e886",
   "metadata": {},
   "outputs": [
    {
     "name": "stdout",
     "output_type": "stream",
     "text": [
      "You are on Duke Server: DCC\n",
      "BASE DIRECTORY:     /work/kk319\n",
      "WORK DIRECTORY:     /work/kk319/out/CombEffect_STARR\n",
      "LOG  DIRECTORY:     /work/kk319/out/CombEffect_STARR/log\n",
      "PATH OF SOURCE:     /work/kk319/source\n",
      "PATH OF EXECUTABLE: /work/kk319/exe\n",
      "PATH OF ANNOTATION: /work/kk319/annotation\n",
      "\n",
      "Slurm Array Index:  12\n",
      "Input  file:  /work/kk319/out/CombEffect_STARR/source/TFX5_Dex/TFX5_Dex.bedpe\n",
      "Output file:  /work/kk319/out/CombEffect_STARR/coverage/TFX5_Dex/TFX5_Dex.bedpe\n",
      "\n",
      "Show the first few lines of the input file\n",
      "/work/kk319/out/CombEffect_STARR/source/TFX5_Dex/TFX5_Dex.bedpe\n",
      "chr1\t14449\t15491\n",
      "chr1\t14449\t15491\n",
      "chr1\t14449\t15491\n",
      "chr1\t14450\t15491\n",
      "chr1\t14710\t15703\n",
      "\n",
      "Show the last few lines of the input file\n",
      "/work/kk319/out/CombEffect_STARR/source/TFX5_Dex/TFX5_Dex.bedpe\n",
      "chrY\t56997622\t56998999\n",
      "chrY\t56997771\t56998809\n",
      "chrY\t57023245\t57024227\n",
      "chrY\t57089153\t57089936\n",
      "chrY\t57097853\t57100318\n",
      "\n",
      "Get the bedgraph\n",
      "\n",
      "Done!\n"
     ]
    }
   ],
   "source": [
    "cat ${FD_LOG}/coverage_sample.12.txt"
   ]
  },
  {
   "cell_type": "code",
   "execution_count": null,
   "id": "2db4af30-5661-4da5-ab9f-642c90e90815",
   "metadata": {},
   "outputs": [],
   "source": []
  },
  {
   "cell_type": "code",
   "execution_count": null,
   "id": "255cf2d8-c49b-4b55-9005-cd55ff9cccba",
   "metadata": {},
   "outputs": [],
   "source": [
    "source ../config_duke.sh\n",
    "source ../load_module_bedtools.sh\n",
    "\n",
    "sbatch -p scavenger \\\n",
    "    --array 0-23 \\\n",
    "    --mem 8G \\\n",
    "    -o ${FD_LOG}/coverage_chrom.%a.txt \\\n",
    "    <<'EOF'\n",
    "#!/bin/bash\n",
    "### set directories & global variables\n",
    "source ../config_duke.sh\n",
    "CHROMS=($(seq 1 22) X Y)\n",
    "CHROM=chr${CHROMS[${SLURM_ARRAY_TASK_ID}]}\n",
    "TARGET=${CHROM}\n",
    "\n",
    "### set input and output\n",
    "FD_BEDS=($(ls -d ${FD_WRK}/data/*/))\n",
    "FN_BED=${CHROM}.bed\n",
    "FD_OUT=${FD_WRK}/coverage\n",
    "\n",
    "FD_GEN=${FD_ANN}/genome/hg38\n",
    "FN_GEN=hg38.chrom.sizes\n",
    "\n",
    "### print start message\n",
    "echo \"Slurm Array Index: \" ${SLURM_ARRAY_TASK_ID}\n",
    "\n",
    "### loop through each sample and count each fragment of a chromosome\n",
    "echo \"RUN: loop through samples; count fragment\"\n",
    "\n",
    "for FD_BED in ${FD_BEDS[@]}; do\n",
    "    SAMPLE=$(basename ${FD_BED})\n",
    "    FD_OUT=${FD_WRK}/coverage/${SAMPLE}\n",
    "    FN_OUT=${TARGET}.bedgraph\n",
    "    \n",
    "    ### START Message\n",
    "    echo ++++++++++++++++++++++++++++++++++++++++++++++++\n",
    "    echo \"Input  file: \" ${FD_BED}/${FN_BED}\n",
    "    echo \"Output file: \" ${FD_OUT}/${FN_OUT}\n",
    "    echo\n",
    "    echo \"Show the first few lines of the input file\"\n",
    "    echo ${FD_BED}/${FN_BED}\n",
    "    head -n 5 ${FD_BED}/${FN_BED}\n",
    "    echo\n",
    "    echo \"Show the last few lines of the input file\"\n",
    "    echo ${FD_BED}/${FN_BED}\n",
    "    tail -n 5 ${FD_BED}/${FN_BED}\n",
    "    echo\n",
    "    \n",
    "    ### init: create output folder if not exist\n",
    "    mkdir -p ${FD_OUT}\n",
    "    \n",
    "    ### Bedtools genomecov to get bedgraph\n",
    "    echo \"Get the bedgraph\"\n",
    "    bedtools genomecov -i ${FD_BED}/${FN_BED} -g ${FD_GEN}/${FN_GEN} -bg > ${FD_OUT}/${FN_OUT}\n",
    "    echo\n",
    "    \n",
    "    ### END Message\n",
    "    echo \"Show the first few lines of the output file\"\n",
    "    echo ${FD_OUT}/${FN_OUT}\n",
    "    head -n 5 ${FD_OUT}/${FN_OUT}\n",
    "    echo\n",
    "    echo \"Show the last few lines of the output file\"\n",
    "    echo ${FD_OUT}/${FN_OUT}\n",
    "    tail -n 5 ${FD_OUT}/${FN_OUT}\n",
    "    echo\n",
    "done\n",
    "echo \"Done!\"\n",
    "\n",
    "EOF"
   ]
  }
 ],
 "metadata": {
  "kernelspec": {
   "display_name": "Bash",
   "language": "bash",
   "name": "bash"
  },
  "language_info": {
   "codemirror_mode": "shell",
   "file_extension": ".sh",
   "mimetype": "text/x-sh",
   "name": "bash"
  }
 },
 "nbformat": 4,
 "nbformat_minor": 5
}
