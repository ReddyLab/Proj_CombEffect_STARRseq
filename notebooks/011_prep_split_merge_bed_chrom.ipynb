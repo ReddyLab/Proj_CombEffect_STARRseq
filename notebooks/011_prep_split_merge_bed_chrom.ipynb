{
 "cells": [
  {
   "cell_type": "markdown",
   "metadata": {},
   "source": [
    "## Set up script to split chromosomes within a bed files"
   ]
  },
  {
   "cell_type": "code",
   "execution_count": 1,
   "metadata": {},
   "outputs": [
    {
     "name": "stdout",
     "output_type": "stream",
     "text": [
      "Overwriting splitBed.sh\n"
     ]
    }
   ],
   "source": [
    "%%writefile splitBed.sh\n",
    "#############################################\n",
    "### Usage ./splitBed.sh input.bed outdir\n",
    "#############################################\n",
    "\n",
    "### get directory from command line\n",
    "FP_IN=$1\n",
    "FD_OT=$2\n",
    "\n",
    "### loop through the input bed file and \n",
    "### grep each chromosome to a output file\n",
    "for chr in `cut -f 1 $FP_IN | sort | uniq`;\n",
    "do\n",
    "    echo $chr\n",
    "    grep -w $chr $FP_IN > $FD_OT/$chr.bed\n",
    "done"
   ]
  },
  {
   "cell_type": "code",
   "execution_count": 2,
   "metadata": {},
   "outputs": [
    {
     "name": "stdout",
     "output_type": "stream",
     "text": [
      "#############################################\n",
      "### Usage ./splitBed.sh input.bed outdir\n",
      "#############################################\n",
      "\n",
      "### get directory from command line\n",
      "FP_IN=$1\n",
      "FD_OT=$2\n",
      "\n",
      "### loop through the input bed file and \n",
      "### grep each chromosome to a output file\n",
      "for chr in `cut -f 1 $FP_IN | sort | uniq`;\n",
      "do\n",
      "    echo $chr\n",
      "    grep -w $chr $FP_IN > $FD_OT/$chr.bed\n",
      "done\n"
     ]
    }
   ],
   "source": [
    "!cat splitBed.sh"
   ]
  },
  {
   "cell_type": "markdown",
   "metadata": {},
   "source": [
    "## Input"
   ]
  },
  {
   "cell_type": "code",
   "execution_count": 7,
   "metadata": {},
   "outputs": [
    {
     "name": "stdout",
     "output_type": "stream",
     "text": [
      "/data/reddylab/gjohnson/whole_genome_STARRseq/wgss3/alignment_and_processing/alignments/Input1/\n",
      "/data/reddylab/gjohnson/whole_genome_STARRseq/wgss3/alignment_and_processing/alignments/Input2/\n",
      "/data/reddylab/gjohnson/whole_genome_STARRseq/wgss3/alignment_and_processing/alignments/Input3/\n",
      "/data/reddylab/gjohnson/whole_genome_STARRseq/wgss3/alignment_and_processing/alignments/Input4/\n",
      "/data/reddylab/gjohnson/whole_genome_STARRseq/wgss3/alignment_and_processing/alignments/Input5/\n"
     ]
    }
   ],
   "source": [
    "%%bash\n",
    "FD_ALIGN=/data/reddylab/gjohnson/whole_genome_STARRseq/wgss3/alignment_and_processing/alignments\n",
    "ls -d $FD_ALIGN/Input*/"
   ]
  },
  {
   "cell_type": "code",
   "execution_count": 3,
   "metadata": {},
   "outputs": [
    {
     "name": "stdout",
     "output_type": "stream",
     "text": [
      "Submitted batch job 25311130\n"
     ]
    }
   ],
   "source": [
    "%%bash\n",
    "### set environment\n",
    "module load perl\n",
    "module load gcc\n",
    "source /data/reddylab/software/miniconda2/bin/activate alex_dev\n",
    "export PATH=/data/reddylab/software/homer/bin/:$PATH\n",
    "\n",
    "### set log file directory\n",
    "FD_LOG=/gpfs/fs1/data/reddylab/Kuei/out/CombEffect_STARR/log\n",
    "\n",
    "### run script using sbatch\n",
    "sbatch -pnew,all \\\n",
    "    --array=0-4 \\\n",
    "    --mem 8G \\\n",
    "    -o ${FD_LOG}/prep_splitbed_input.%a.txt \\\n",
    "    <<'EOF'\n",
    "#!/bin/bash\n",
    "### set directories\n",
    "FD_ALIGN=/data/reddylab/gjohnson/whole_genome_STARRseq/wgss3/alignment_and_processing/alignments\n",
    "\n",
    "### get data directory and set output directory\n",
    "FD_DATS=($(ls -d ${FD_ALIGN}/Input*/))\n",
    "FD_DAT=${FD_DATS[${SLURM_ARRAY_TASK_ID}]}\n",
    "FD_OUT=/data/reddylab/Kuei/out/CombEffect_STARR/data/\"$(basename -- $FD_DAT)\"\n",
    "FP_DAT=${FD_DAT}/*.bedpe\n",
    "\n",
    "### create the output directory in not exist\n",
    "mkdir -p $FD_OUT\n",
    "echo \"Slurm Array Index: \" ${SLURM_ARRAY_TASK_ID}\n",
    "echo \"Input  directory:  \" ${FD_DAT}\n",
    "echo \"Input  file:       \" ${FP_DAT}\n",
    "echo \"Output directory:  \" ${FD_OUT}\n",
    "\n",
    "echo \"Show the first few lines of the input file\"\n",
    "head ${FP_DAT}\n",
    "\n",
    "### run script to split the bed file\n",
    "chmod +x splitBed.sh\n",
    "echo \"Splitting the input file\"\n",
    "./splitBed.sh ${FP_DAT} ${FD_OUT}\n",
    "echo \"Done!\"\n",
    "\n",
    "EOF"
   ]
  },
  {
   "cell_type": "markdown",
   "metadata": {},
   "source": [
    "## Output DMSO"
   ]
  },
  {
   "cell_type": "code",
   "execution_count": 9,
   "metadata": {},
   "outputs": [
    {
     "name": "stdout",
     "output_type": "stream",
     "text": [
      "/data/reddylab/gjohnson/whole_genome_STARRseq/wgss3/alignment_and_processing/alignments/TFX2_DMSO/\n",
      "/data/reddylab/gjohnson/whole_genome_STARRseq/wgss3/alignment_and_processing/alignments/TFX3_DMSO/\n",
      "/data/reddylab/gjohnson/whole_genome_STARRseq/wgss3/alignment_and_processing/alignments/TFX4_DMSO/\n",
      "/data/reddylab/gjohnson/whole_genome_STARRseq/wgss3/alignment_and_processing/alignments/TFX5_DMSO/\n"
     ]
    }
   ],
   "source": [
    "%%bash\n",
    "FD_ALIGN=/data/reddylab/gjohnson/whole_genome_STARRseq/wgss3/alignment_and_processing/alignments\n",
    "ls -d $FD_ALIGN/TFX*_DMSO/"
   ]
  },
  {
   "cell_type": "code",
   "execution_count": 11,
   "metadata": {},
   "outputs": [
    {
     "name": "stdout",
     "output_type": "stream",
     "text": [
      "Submitted batch job 25311157\n"
     ]
    }
   ],
   "source": [
    "%%bash\n",
    "### set environment\n",
    "module load perl\n",
    "module load gcc\n",
    "source /data/reddylab/software/miniconda2/bin/activate alex_dev\n",
    "export PATH=/data/reddylab/software/homer/bin/:$PATH\n",
    "\n",
    "### set log file directory\n",
    "FD_LOG=/gpfs/fs1/data/reddylab/Kuei/out/CombEffect_STARR/log\n",
    "\n",
    "### run script using sbatch\n",
    "sbatch -pnew,all \\\n",
    "    --array=0-3 \\\n",
    "    --mem 8G \\\n",
    "    -o ${FD_LOG}/prep_splitbed_dmso.%a.txt \\\n",
    "    <<'EOF'\n",
    "#!/bin/bash\n",
    "### set directories\n",
    "FD_ALIGN=/data/reddylab/gjohnson/whole_genome_STARRseq/wgss3/alignment_and_processing/alignments\n",
    "\n",
    "### get data directory and set output directory\n",
    "FD_DATS=($(ls -d ${FD_ALIGN}/TFX*_DMSO/))\n",
    "FD_DAT=${FD_DATS[${SLURM_ARRAY_TASK_ID}]}\n",
    "FD_OUT=/data/reddylab/Kuei/out/CombEffect_STARR/data/\"$(basename -- $FD_DAT)\"\n",
    "FP_DAT=${FD_DAT}/*.bedpe\n",
    "\n",
    "### create the output directory in not exist\n",
    "mkdir -p $FD_OUT\n",
    "echo \"Slurm Array Index: \" ${SLURM_ARRAY_TASK_ID}\n",
    "echo \"Input  directory:  \" ${FD_DAT}\n",
    "echo \"Input  file:       \" ${FP_DAT}\n",
    "echo \"Output directory:  \" ${FD_OUT}\n",
    "\n",
    "echo \"Show the first few lines of the input file\"\n",
    "head ${FP_DAT}\n",
    "\n",
    "### run script to split the bed file\n",
    "chmod +x splitBed.sh\n",
    "echo \"Splitting the input file\"\n",
    "./splitBed.sh ${FP_DAT} ${FD_OUT}\n",
    "echo \"Done!\"\n",
    "\n",
    "EOF"
   ]
  },
  {
   "cell_type": "markdown",
   "metadata": {},
   "source": [
    "## Output Dex"
   ]
  },
  {
   "cell_type": "code",
   "execution_count": 13,
   "metadata": {},
   "outputs": [
    {
     "name": "stdout",
     "output_type": "stream",
     "text": [
      "/data/reddylab/gjohnson/whole_genome_STARRseq/wgss3/alignment_and_processing/alignments/TFX2_Dex/\n",
      "/data/reddylab/gjohnson/whole_genome_STARRseq/wgss3/alignment_and_processing/alignments/TFX3_Dex/\n",
      "/data/reddylab/gjohnson/whole_genome_STARRseq/wgss3/alignment_and_processing/alignments/TFX4_Dex/\n",
      "/data/reddylab/gjohnson/whole_genome_STARRseq/wgss3/alignment_and_processing/alignments/TFX5_Dex/\n"
     ]
    }
   ],
   "source": [
    "%%bash\n",
    "FD_ALIGN=/data/reddylab/gjohnson/whole_genome_STARRseq/wgss3/alignment_and_processing/alignments\n",
    "ls -d $FD_ALIGN/TFX*_Dex/"
   ]
  },
  {
   "cell_type": "code",
   "execution_count": 15,
   "metadata": {},
   "outputs": [
    {
     "name": "stdout",
     "output_type": "stream",
     "text": [
      "Submitted batch job 25311210\n"
     ]
    }
   ],
   "source": [
    "%%bash\n",
    "### set environment\n",
    "module load perl\n",
    "module load gcc\n",
    "source /data/reddylab/software/miniconda2/bin/activate alex_dev\n",
    "export PATH=/data/reddylab/software/homer/bin/:$PATH\n",
    "\n",
    "### set log file directory\n",
    "FD_LOG=/gpfs/fs1/data/reddylab/Kuei/out/CombEffect_STARR/log\n",
    "\n",
    "### run script using sbatch\n",
    "sbatch -pnew,all \\\n",
    "    --array=0-3 \\\n",
    "    --mem 8G \\\n",
    "    -o ${FD_LOG}/prep_splitbed_dex.%a.txt \\\n",
    "    <<'EOF'\n",
    "#!/bin/bash\n",
    "### set directories\n",
    "FD_ALIGN=/data/reddylab/gjohnson/whole_genome_STARRseq/wgss3/alignment_and_processing/alignments\n",
    "\n",
    "### get data directory and set output directory\n",
    "FD_DATS=($(ls -d ${FD_ALIGN}/TFX*_Dex/))\n",
    "FD_DAT=${FD_DATS[${SLURM_ARRAY_TASK_ID}]}\n",
    "FD_OUT=/data/reddylab/Kuei/out/CombEffect_STARR/data/\"$(basename -- $FD_DAT)\"\n",
    "FP_DAT=${FD_DAT}/*.bedpe\n",
    "\n",
    "### create the output directory in not exist\n",
    "mkdir -p $FD_OUT\n",
    "echo \"Slurm Array Index: \" ${SLURM_ARRAY_TASK_ID}\n",
    "echo \"Input  directory:  \" ${FD_DAT}\n",
    "echo \"Input  file:       \" ${FP_DAT}\n",
    "echo \"Output directory:  \" ${FD_OUT}\n",
    "\n",
    "echo \"Show the first few lines of the input file\"\n",
    "head ${FP_DAT}\n",
    "\n",
    "### run script to split the bed file\n",
    "chmod +x splitBed.sh\n",
    "echo \"Splitting the input file\"\n",
    "./splitBed.sh ${FP_DAT} ${FD_OUT}\n",
    "echo \"Done!\"\n",
    "\n",
    "EOF"
   ]
  },
  {
   "cell_type": "markdown",
   "metadata": {},
   "source": [
    "## Merge each chromosome for each sample"
   ]
  },
  {
   "cell_type": "markdown",
   "metadata": {},
   "source": [
    "### Test looping"
   ]
  },
  {
   "cell_type": "code",
   "execution_count": 10,
   "metadata": {},
   "outputs": [
    {
     "name": "stdout",
     "output_type": "stream",
     "text": [
      "/data/reddylab/Kuei/out/CombEffect_STARR/data/Input1/\n",
      "/data/reddylab/Kuei/out/CombEffect_STARR/data/Input2/\n",
      "/data/reddylab/Kuei/out/CombEffect_STARR/data/Input3/\n",
      "/data/reddylab/Kuei/out/CombEffect_STARR/data/Input4/\n",
      "/data/reddylab/Kuei/out/CombEffect_STARR/data/Input5/\n"
     ]
    }
   ],
   "source": [
    "%%bash\n",
    "FD_WRK=/data/reddylab/Kuei/out/CombEffect_STARR\n",
    "FD_BEDS=($(ls -d ${FD_WRK}/data/Input?/))\n",
    "\n",
    "for FD_BED in ${FD_BEDS[@]}; do\n",
    "   echo ${FD_BED}\n",
    "done"
   ]
  },
  {
   "cell_type": "code",
   "execution_count": 31,
   "metadata": {},
   "outputs": [
    {
     "name": "stdout",
     "output_type": "stream",
     "text": [
      "/data/reddylab/Kuei/out/CombEffect_STARR/data/TFX2_DMSO/\n",
      "/data/reddylab/Kuei/out/CombEffect_STARR/data/TFX3_DMSO/\n",
      "/data/reddylab/Kuei/out/CombEffect_STARR/data/TFX4_DMSO/\n",
      "/data/reddylab/Kuei/out/CombEffect_STARR/data/TFX5_DMSO/\n"
     ]
    }
   ],
   "source": [
    "%%bash\n",
    "FD_WRK=/data/reddylab/Kuei/out/CombEffect_STARR\n",
    "FD_BEDS=($(ls -d ${FD_WRK}/data/TFX?_DMSO/))\n",
    "\n",
    "for FD_BED in ${FD_BEDS[@]}; do\n",
    "   echo ${FD_BED}\n",
    "done"
   ]
  },
  {
   "cell_type": "code",
   "execution_count": 33,
   "metadata": {},
   "outputs": [
    {
     "name": "stdout",
     "output_type": "stream",
     "text": [
      "/data/reddylab/Kuei/out/CombEffect_STARR/data/TFX2_Dex/\n",
      "/data/reddylab/Kuei/out/CombEffect_STARR/data/TFX3_Dex/\n",
      "/data/reddylab/Kuei/out/CombEffect_STARR/data/TFX4_Dex/\n",
      "/data/reddylab/Kuei/out/CombEffect_STARR/data/TFX5_Dex/\n"
     ]
    }
   ],
   "source": [
    "%%bash\n",
    "FD_WRK=/data/reddylab/Kuei/out/CombEffect_STARR\n",
    "FD_BEDS=($(ls -d ${FD_WRK}/data/TFX?_Dex/))\n",
    "\n",
    "for FD_BED in ${FD_BEDS[@]}; do\n",
    "   echo ${FD_BED}\n",
    "done"
   ]
  },
  {
   "cell_type": "code",
   "execution_count": 19,
   "metadata": {},
   "outputs": [
    {
     "name": "stdout",
     "output_type": "stream",
     "text": [
      "/data/reddylab/Kuei/out/CombEffect_STARR/data/Input1/chr10.bed\n",
      "/data/reddylab/Kuei/out/CombEffect_STARR/data/Input1/chr11.bed\n",
      "/data/reddylab/Kuei/out/CombEffect_STARR/data/Input1/chr12.bed\n",
      "/data/reddylab/Kuei/out/CombEffect_STARR/data/Input1/chr13.bed\n",
      "/data/reddylab/Kuei/out/CombEffect_STARR/data/Input1/chr14.bed\n",
      "/data/reddylab/Kuei/out/CombEffect_STARR/data/Input1/chr15.bed\n",
      "/data/reddylab/Kuei/out/CombEffect_STARR/data/Input1/chr16.bed\n",
      "/data/reddylab/Kuei/out/CombEffect_STARR/data/Input1/chr17.bed\n",
      "/data/reddylab/Kuei/out/CombEffect_STARR/data/Input1/chr18.bed\n",
      "/data/reddylab/Kuei/out/CombEffect_STARR/data/Input1/chr19.bed\n",
      "/data/reddylab/Kuei/out/CombEffect_STARR/data/Input1/chr1.bed\n",
      "/data/reddylab/Kuei/out/CombEffect_STARR/data/Input1/chr20.bed\n",
      "/data/reddylab/Kuei/out/CombEffect_STARR/data/Input1/chr21.bed\n",
      "/data/reddylab/Kuei/out/CombEffect_STARR/data/Input1/chr22.bed\n",
      "/data/reddylab/Kuei/out/CombEffect_STARR/data/Input1/chr2.bed\n",
      "/data/reddylab/Kuei/out/CombEffect_STARR/data/Input1/chr3.bed\n",
      "/data/reddylab/Kuei/out/CombEffect_STARR/data/Input1/chr4.bed\n",
      "/data/reddylab/Kuei/out/CombEffect_STARR/data/Input1/chr5.bed\n",
      "/data/reddylab/Kuei/out/CombEffect_STARR/data/Input1/chr6.bed\n",
      "/data/reddylab/Kuei/out/CombEffect_STARR/data/Input1/chr7.bed\n",
      "/data/reddylab/Kuei/out/CombEffect_STARR/data/Input1/chr8.bed\n",
      "/data/reddylab/Kuei/out/CombEffect_STARR/data/Input1/chr9.bed\n",
      "/data/reddylab/Kuei/out/CombEffect_STARR/data/Input1/chrX.bed\n",
      "/data/reddylab/Kuei/out/CombEffect_STARR/data/Input1/chrY.bed\n"
     ]
    }
   ],
   "source": [
    "ls /data/reddylab/Kuei/out/CombEffect_STARR/data/Input1/chr*.bed"
   ]
  },
  {
   "cell_type": "code",
   "execution_count": 28,
   "metadata": {},
   "outputs": [
    {
     "name": "stdout",
     "output_type": "stream",
     "text": [
      "1\n",
      "2\n",
      "3\n",
      "4\n",
      "5\n",
      "6\n",
      "7\n",
      "8\n",
      "9\n",
      "10\n",
      "11\n",
      "12\n",
      "13\n",
      "14\n",
      "15\n",
      "16\n",
      "17\n",
      "18\n",
      "19\n",
      "20\n",
      "21\n",
      "22\n",
      "X\n",
      "Y\n"
     ]
    }
   ],
   "source": [
    "%%bash\n",
    "CHROMS=({1..22} X Y)\n",
    "for CHROM in ${CHROMS[@]}; do\n",
    "    echo ${CHROM}\n",
    "done"
   ]
  },
  {
   "cell_type": "markdown",
   "metadata": {},
   "source": [
    "### Merge each chromosome for Inputs"
   ]
  },
  {
   "cell_type": "code",
   "execution_count": 29,
   "metadata": {},
   "outputs": [
    {
     "name": "stdout",
     "output_type": "stream",
     "text": [
      "Submitted batch job 25422007\n"
     ]
    }
   ],
   "source": [
    "%%bash\n",
    "### set environment\n",
    "module load perl\n",
    "module load gcc\n",
    "source /data/reddylab/software/miniconda2/bin/activate alex_dev\n",
    "export PATH=/data/reddylab/software/homer/bin/:$PATH\n",
    "\n",
    "### set log file directory\n",
    "FD_LOG=/gpfs/fs1/data/reddylab/Kuei/out/CombEffect_STARR/log\n",
    "\n",
    "### run script using sbatch\n",
    "sbatch -pnew,all \\\n",
    "    --mem 8G \\\n",
    "    -o ${FD_LOG}/prep_merge_input.txt \\\n",
    "    <<'EOF'\n",
    "#!/bin/bash\n",
    "### set directories\n",
    "FD_WRK=/data/reddylab/Kuei/out/CombEffect_STARR\n",
    "FD_BEDS=($(ls -d ${FD_WRK}/data/Input?/))\n",
    "FD_OUT=${FD_WRK}/data/Input\n",
    "\n",
    "### create merged directory\n",
    "mkdir -p ${FD_OUT}\n",
    "\n",
    "### merge for each chromosome\n",
    "CHROMS=({1..22} X Y)\n",
    "for CHROM in ${CHROMS[@]}; do\n",
    "    ### init: create new file\n",
    "    FN_OUT=chr${CHROM}.bed\n",
    "    echo -n \"\" > ${FD_OUT}/${FN_OUT}\n",
    "    \n",
    "    ### merging\n",
    "    for FD_BED in ${FD_BEDS[@]}; do\n",
    "        ### count each file before merged\n",
    "        wc -l ${FD_BED}/${FN_OUT}\n",
    "        \n",
    "        ### merge files\n",
    "        cat   ${FD_BED}/${FN_OUT} >> ${FD_OUT}/${FN_OUT}\n",
    "    done\n",
    "    \n",
    "    ### count file after merged\n",
    "    wc -l ${FD_OUT}/${FN_OUT}\n",
    "    echo\n",
    "done\n",
    "\n",
    "echo Done\n",
    "\n",
    "EOF"
   ]
  },
  {
   "cell_type": "code",
   "execution_count": 30,
   "metadata": {},
   "outputs": [
    {
     "name": "stdout",
     "output_type": "stream",
     "text": [
      "1586763 /data/reddylab/Kuei/out/CombEffect_STARR/data/Input1//chr1.bed\n",
      "1719418 /data/reddylab/Kuei/out/CombEffect_STARR/data/Input2//chr1.bed\n",
      "1985257 /data/reddylab/Kuei/out/CombEffect_STARR/data/Input3//chr1.bed\n",
      "1619069 /data/reddylab/Kuei/out/CombEffect_STARR/data/Input4//chr1.bed\n",
      "1300621 /data/reddylab/Kuei/out/CombEffect_STARR/data/Input5//chr1.bed\n",
      "8211128 /data/reddylab/Kuei/out/CombEffect_STARR/data/Input/chr1.bed\n",
      "\n",
      "1517981 /data/reddylab/Kuei/out/CombEffect_STARR/data/Input1//chr2.bed\n",
      "1639757 /data/reddylab/Kuei/out/CombEffect_STARR/data/Input2//chr2.bed\n",
      "1890272 /data/reddylab/Kuei/out/CombEffect_STARR/data/Input3//chr2.bed\n",
      "1547377 /data/reddylab/Kuei/out/CombEffect_STARR/data/Input4//chr2.bed\n",
      "1249993 /data/reddylab/Kuei/out/CombEffect_STARR/data/Input5//chr2.bed\n",
      "7845380 /data/reddylab/Kuei/out/CombEffect_STARR/data/Input/chr2.bed\n",
      "\n",
      "1232997 /data/reddylab/Kuei/out/CombEffect_STARR/data/Input1//chr3.bed\n",
      "1329924 /data/reddylab/Kuei/out/CombEffect_STARR/data/Input2//chr3.bed\n",
      "1531280 /data/reddylab/Kuei/out/CombEffect_STARR/data/Input3//chr3.bed\n",
      "1257485 /data/reddylab/Kuei/out/CombEffect_STARR/data/Input4//chr3.bed\n",
      "1016006 /data/reddylab/Kuei/out/CombEffect_STARR/data/Input5//chr3.bed\n",
      "6367692 /data/reddylab/Kuei/out/CombEffect_STARR/data/Input/chr3.bed\n",
      "\n",
      "983838 /data/reddylab/Kuei/out/CombEffect_STARR/data/Input1//chr4.bed\n",
      "1065151 /data/reddylab/Kuei/out/CombEffect_STARR/data/Input2//chr4.bed\n",
      "1218607 /data/reddylab/Kuei/out/CombEffect_STARR/data/Input3//chr4.bed\n",
      "1006240 /data/reddylab/Kuei/out/CombEffect_STARR/data/Input4//chr4.bed\n",
      "812380 /data/reddylab/Kuei/out/CombEffect_STARR/data/Input5//chr4.bed\n",
      "5086216 /data/reddylab/Kuei/out/CombEffect_STARR/data/Input/chr4.bed\n",
      "\n",
      "1081054 /data/reddylab/Kuei/out/CombEffect_STARR/data/Input1//chr5.bed\n",
      "1166439 /data/reddylab/Kuei/out/CombEffect_STARR/data/Input2//chr5.bed\n",
      "1345305 /data/reddylab/Kuei/out/CombEffect_STARR/data/Input3//chr5.bed\n",
      "1102672 /data/reddylab/Kuei/out/CombEffect_STARR/data/Input4//chr5.bed\n",
      "892181 /data/reddylab/Kuei/out/CombEffect_STARR/data/Input5//chr5.bed\n",
      "5587651 /data/reddylab/Kuei/out/CombEffect_STARR/data/Input/chr5.bed\n",
      "\n",
      "979759 /data/reddylab/Kuei/out/CombEffect_STARR/data/Input1//chr6.bed\n",
      "1057833 /data/reddylab/Kuei/out/CombEffect_STARR/data/Input2//chr6.bed\n",
      "1214172 /data/reddylab/Kuei/out/CombEffect_STARR/data/Input3//chr6.bed\n",
      "1000846 /data/reddylab/Kuei/out/CombEffect_STARR/data/Input4//chr6.bed\n",
      "809275 /data/reddylab/Kuei/out/CombEffect_STARR/data/Input5//chr6.bed\n",
      "5061885 /data/reddylab/Kuei/out/CombEffect_STARR/data/Input/chr6.bed\n",
      "\n",
      "971505 /data/reddylab/Kuei/out/CombEffect_STARR/data/Input1//chr7.bed\n",
      "1048293 /data/reddylab/Kuei/out/CombEffect_STARR/data/Input2//chr7.bed\n",
      "1212560 /data/reddylab/Kuei/out/CombEffect_STARR/data/Input3//chr7.bed\n",
      "988489 /data/reddylab/Kuei/out/CombEffect_STARR/data/Input4//chr7.bed\n",
      "799006 /data/reddylab/Kuei/out/CombEffect_STARR/data/Input5//chr7.bed\n",
      "5019853 /data/reddylab/Kuei/out/CombEffect_STARR/data/Input/chr7.bed\n",
      "\n",
      "889714 /data/reddylab/Kuei/out/CombEffect_STARR/data/Input1//chr8.bed\n",
      "959714 /data/reddylab/Kuei/out/CombEffect_STARR/data/Input2//chr8.bed\n",
      "1104922 /data/reddylab/Kuei/out/CombEffect_STARR/data/Input3//chr8.bed\n",
      "905089 /data/reddylab/Kuei/out/CombEffect_STARR/data/Input4//chr8.bed\n",
      "732261 /data/reddylab/Kuei/out/CombEffect_STARR/data/Input5//chr8.bed\n",
      "4591700 /data/reddylab/Kuei/out/CombEffect_STARR/data/Input/chr8.bed\n",
      "\n",
      "798518 /data/reddylab/Kuei/out/CombEffect_STARR/data/Input1//chr9.bed\n",
      "862095 /data/reddylab/Kuei/out/CombEffect_STARR/data/Input2//chr9.bed\n",
      "996504 /data/reddylab/Kuei/out/CombEffect_STARR/data/Input3//chr9.bed\n",
      "811942 /data/reddylab/Kuei/out/CombEffect_STARR/data/Input4//chr9.bed\n",
      "653039 /data/reddylab/Kuei/out/CombEffect_STARR/data/Input5//chr9.bed\n",
      "4122098 /data/reddylab/Kuei/out/CombEffect_STARR/data/Input/chr9.bed\n",
      "\n",
      "949984 /data/reddylab/Kuei/out/CombEffect_STARR/data/Input1//chr10.bed\n",
      "1027221 /data/reddylab/Kuei/out/CombEffect_STARR/data/Input2//chr10.bed\n",
      "1189352 /data/reddylab/Kuei/out/CombEffect_STARR/data/Input3//chr10.bed\n",
      "968546 /data/reddylab/Kuei/out/CombEffect_STARR/data/Input4//chr10.bed\n",
      "781405 /data/reddylab/Kuei/out/CombEffect_STARR/data/Input5//chr10.bed\n",
      "4916508 /data/reddylab/Kuei/out/CombEffect_STARR/data/Input/chr10.bed\n",
      "\n",
      "957067 /data/reddylab/Kuei/out/CombEffect_STARR/data/Input1//chr11.bed\n",
      "1034427 /data/reddylab/Kuei/out/CombEffect_STARR/data/Input2//chr11.bed\n",
      "1196757 /data/reddylab/Kuei/out/CombEffect_STARR/data/Input3//chr11.bed\n",
      "970893 /data/reddylab/Kuei/out/CombEffect_STARR/data/Input4//chr11.bed\n",
      "782531 /data/reddylab/Kuei/out/CombEffect_STARR/data/Input5//chr11.bed\n",
      "4941675 /data/reddylab/Kuei/out/CombEffect_STARR/data/Input/chr11.bed\n",
      "\n",
      "864820 /data/reddylab/Kuei/out/CombEffect_STARR/data/Input1//chr12.bed\n",
      "933694 /data/reddylab/Kuei/out/CombEffect_STARR/data/Input2//chr12.bed\n",
      "1075624 /data/reddylab/Kuei/out/CombEffect_STARR/data/Input3//chr12.bed\n",
      "881904 /data/reddylab/Kuei/out/CombEffect_STARR/data/Input4//chr12.bed\n",
      "711212 /data/reddylab/Kuei/out/CombEffect_STARR/data/Input5//chr12.bed\n",
      "4467254 /data/reddylab/Kuei/out/CombEffect_STARR/data/Input/chr12.bed\n",
      "\n",
      "518479 /data/reddylab/Kuei/out/CombEffect_STARR/data/Input1//chr13.bed\n",
      "559385 /data/reddylab/Kuei/out/CombEffect_STARR/data/Input2//chr13.bed\n",
      "642504 /data/reddylab/Kuei/out/CombEffect_STARR/data/Input3//chr13.bed\n",
      "529497 /data/reddylab/Kuei/out/CombEffect_STARR/data/Input4//chr13.bed\n",
      "428178 /data/reddylab/Kuei/out/CombEffect_STARR/data/Input5//chr13.bed\n",
      "2678043 /data/reddylab/Kuei/out/CombEffect_STARR/data/Input/chr13.bed\n",
      "\n",
      "569802 /data/reddylab/Kuei/out/CombEffect_STARR/data/Input1//chr14.bed\n",
      "615763 /data/reddylab/Kuei/out/CombEffect_STARR/data/Input2//chr14.bed\n",
      "709936 /data/reddylab/Kuei/out/CombEffect_STARR/data/Input3//chr14.bed\n",
      "579104 /data/reddylab/Kuei/out/CombEffect_STARR/data/Input4//chr14.bed\n",
      "468025 /data/reddylab/Kuei/out/CombEffect_STARR/data/Input5//chr14.bed\n",
      "2942630 /data/reddylab/Kuei/out/CombEffect_STARR/data/Input/chr14.bed\n",
      "\n",
      "552557 /data/reddylab/Kuei/out/CombEffect_STARR/data/Input1//chr15.bed\n",
      "595310 /data/reddylab/Kuei/out/CombEffect_STARR/data/Input2//chr15.bed\n",
      "690881 /data/reddylab/Kuei/out/CombEffect_STARR/data/Input3//chr15.bed\n",
      "563511 /data/reddylab/Kuei/out/CombEffect_STARR/data/Input4//chr15.bed\n",
      "453047 /data/reddylab/Kuei/out/CombEffect_STARR/data/Input5//chr15.bed\n",
      "2855306 /data/reddylab/Kuei/out/CombEffect_STARR/data/Input/chr15.bed\n",
      "\n",
      "642853 /data/reddylab/Kuei/out/CombEffect_STARR/data/Input1//chr16.bed\n",
      "696240 /data/reddylab/Kuei/out/CombEffect_STARR/data/Input2//chr16.bed\n",
      "806990 /data/reddylab/Kuei/out/CombEffect_STARR/data/Input3//chr16.bed\n",
      "653448 /data/reddylab/Kuei/out/CombEffect_STARR/data/Input4//chr16.bed\n",
      "522952 /data/reddylab/Kuei/out/CombEffect_STARR/data/Input5//chr16.bed\n",
      "3322483 /data/reddylab/Kuei/out/CombEffect_STARR/data/Input/chr16.bed\n",
      "\n",
      "630820 /data/reddylab/Kuei/out/CombEffect_STARR/data/Input1//chr17.bed\n",
      "681369 /data/reddylab/Kuei/out/CombEffect_STARR/data/Input2//chr17.bed\n",
      "792970 /data/reddylab/Kuei/out/CombEffect_STARR/data/Input3//chr17.bed\n",
      "636501 /data/reddylab/Kuei/out/CombEffect_STARR/data/Input4//chr17.bed\n",
      "510585 /data/reddylab/Kuei/out/CombEffect_STARR/data/Input5//chr17.bed\n",
      "3252245 /data/reddylab/Kuei/out/CombEffect_STARR/data/Input/chr17.bed\n",
      "\n",
      "456513 /data/reddylab/Kuei/out/CombEffect_STARR/data/Input1//chr18.bed\n",
      "494415 /data/reddylab/Kuei/out/CombEffect_STARR/data/Input2//chr18.bed\n",
      "570451 /data/reddylab/Kuei/out/CombEffect_STARR/data/Input3//chr18.bed\n",
      "467433 /data/reddylab/Kuei/out/CombEffect_STARR/data/Input4//chr18.bed\n",
      "377124 /data/reddylab/Kuei/out/CombEffect_STARR/data/Input5//chr18.bed\n",
      "2365936 /data/reddylab/Kuei/out/CombEffect_STARR/data/Input/chr18.bed\n",
      "\n",
      "490817 /data/reddylab/Kuei/out/CombEffect_STARR/data/Input1//chr19.bed\n",
      "531273 /data/reddylab/Kuei/out/CombEffect_STARR/data/Input2//chr19.bed\n",
      "619413 /data/reddylab/Kuei/out/CombEffect_STARR/data/Input3//chr19.bed\n",
      "491916 /data/reddylab/Kuei/out/CombEffect_STARR/data/Input4//chr19.bed\n",
      "394874 /data/reddylab/Kuei/out/CombEffect_STARR/data/Input5//chr19.bed\n",
      "2528293 /data/reddylab/Kuei/out/CombEffect_STARR/data/Input/chr19.bed\n",
      "\n",
      "530862 /data/reddylab/Kuei/out/CombEffect_STARR/data/Input1//chr20.bed\n",
      "572838 /data/reddylab/Kuei/out/CombEffect_STARR/data/Input2//chr20.bed\n",
      "664880 /data/reddylab/Kuei/out/CombEffect_STARR/data/Input3//chr20.bed\n",
      "537177 /data/reddylab/Kuei/out/CombEffect_STARR/data/Input4//chr20.bed\n",
      "432228 /data/reddylab/Kuei/out/CombEffect_STARR/data/Input5//chr20.bed\n",
      "2737985 /data/reddylab/Kuei/out/CombEffect_STARR/data/Input/chr20.bed\n",
      "\n",
      "226692 /data/reddylab/Kuei/out/CombEffect_STARR/data/Input1//chr21.bed\n",
      "244943 /data/reddylab/Kuei/out/CombEffect_STARR/data/Input2//chr21.bed\n",
      "283622 /data/reddylab/Kuei/out/CombEffect_STARR/data/Input3//chr21.bed\n",
      "231133 /data/reddylab/Kuei/out/CombEffect_STARR/data/Input4//chr21.bed\n",
      "185963 /data/reddylab/Kuei/out/CombEffect_STARR/data/Input5//chr21.bed\n",
      "1172353 /data/reddylab/Kuei/out/CombEffect_STARR/data/Input/chr21.bed\n",
      "\n",
      "345218 /data/reddylab/Kuei/out/CombEffect_STARR/data/Input1//chr22.bed\n",
      "375146 /data/reddylab/Kuei/out/CombEffect_STARR/data/Input2//chr22.bed\n",
      "439461 /data/reddylab/Kuei/out/CombEffect_STARR/data/Input3//chr22.bed\n",
      "348482 /data/reddylab/Kuei/out/CombEffect_STARR/data/Input4//chr22.bed\n",
      "279621 /data/reddylab/Kuei/out/CombEffect_STARR/data/Input5//chr22.bed\n",
      "1787928 /data/reddylab/Kuei/out/CombEffect_STARR/data/Input/chr22.bed\n",
      "\n",
      "886405 /data/reddylab/Kuei/out/CombEffect_STARR/data/Input1//chrX.bed\n",
      "955632 /data/reddylab/Kuei/out/CombEffect_STARR/data/Input2//chrX.bed\n",
      "1097324 /data/reddylab/Kuei/out/CombEffect_STARR/data/Input3//chrX.bed\n",
      "903599 /data/reddylab/Kuei/out/CombEffect_STARR/data/Input4//chrX.bed\n",
      "731131 /data/reddylab/Kuei/out/CombEffect_STARR/data/Input5//chrX.bed\n",
      "4574091 /data/reddylab/Kuei/out/CombEffect_STARR/data/Input/chrX.bed\n",
      "\n",
      "1612 /data/reddylab/Kuei/out/CombEffect_STARR/data/Input1//chrY.bed\n",
      "1644 /data/reddylab/Kuei/out/CombEffect_STARR/data/Input2//chrY.bed\n",
      "1944 /data/reddylab/Kuei/out/CombEffect_STARR/data/Input3//chrY.bed\n",
      "1585 /data/reddylab/Kuei/out/CombEffect_STARR/data/Input4//chrY.bed\n",
      "1378 /data/reddylab/Kuei/out/CombEffect_STARR/data/Input5//chrY.bed\n",
      "8163 /data/reddylab/Kuei/out/CombEffect_STARR/data/Input/chrY.bed\n",
      "\n",
      "Done\n"
     ]
    }
   ],
   "source": [
    "%%bash\n",
    "FD_LOG=/gpfs/fs1/data/reddylab/Kuei/out/CombEffect_STARR/log\n",
    "cat ${FD_LOG}/prep_merge_input.txt"
   ]
  },
  {
   "cell_type": "markdown",
   "metadata": {},
   "source": [
    "### Merge each chromosome for Output (DMSO)"
   ]
  },
  {
   "cell_type": "code",
   "execution_count": 36,
   "metadata": {},
   "outputs": [
    {
     "name": "stdout",
     "output_type": "stream",
     "text": [
      "Submitted batch job 25422073\n"
     ]
    }
   ],
   "source": [
    "%%bash\n",
    "### set environment\n",
    "module load perl\n",
    "module load gcc\n",
    "source /data/reddylab/software/miniconda2/bin/activate alex_dev\n",
    "export PATH=/data/reddylab/software/homer/bin/:$PATH\n",
    "\n",
    "### set log file directory\n",
    "FD_LOG=/gpfs/fs1/data/reddylab/Kuei/out/CombEffect_STARR/log\n",
    "\n",
    "### run script using sbatch\n",
    "sbatch -pnew,all \\\n",
    "    --mem 8G \\\n",
    "    -o ${FD_LOG}/prep_merge_output_dmso.txt \\\n",
    "    <<'EOF'\n",
    "#!/bin/bash\n",
    "### set directories\n",
    "FD_WRK=/data/reddylab/Kuei/out/CombEffect_STARR\n",
    "FD_BEDS=($(ls -d ${FD_WRK}/data/TFX?_DMSO/))\n",
    "FD_OUT=${FD_WRK}/data/TFX_DMSO\n",
    "\n",
    "### create merged directory\n",
    "mkdir -p ${FD_OUT}\n",
    "\n",
    "### merge for each chromosome\n",
    "CHROMS=({1..22} X Y)\n",
    "for CHROM in ${CHROMS[@]}; do\n",
    "    ### init: create new file\n",
    "    FN_OUT=chr${CHROM}.bed\n",
    "    echo -n \"\" > ${FD_OUT}/${FN_OUT}\n",
    "    \n",
    "    ### merging\n",
    "    for FD_BED in ${FD_BEDS[@]}; do\n",
    "        ### count each file before merged\n",
    "        wc -l ${FD_BED}/${FN_OUT}\n",
    "        \n",
    "        ### merge files\n",
    "        cat   ${FD_BED}/${FN_OUT} >> ${FD_OUT}/${FN_OUT}\n",
    "    done\n",
    "    \n",
    "    ### count file after merged\n",
    "    wc -l ${FD_OUT}/${FN_OUT}\n",
    "    echo\n",
    "done\n",
    "\n",
    "echo Done\n",
    "\n",
    "EOF"
   ]
  },
  {
   "cell_type": "code",
   "execution_count": 39,
   "metadata": {},
   "outputs": [
    {
     "name": "stdout",
     "output_type": "stream",
     "text": [
      "3848855 /data/reddylab/Kuei/out/CombEffect_STARR/data/TFX2_DMSO//chr1.bed\n",
      "2345265 /data/reddylab/Kuei/out/CombEffect_STARR/data/TFX3_DMSO//chr1.bed\n",
      "2702080 /data/reddylab/Kuei/out/CombEffect_STARR/data/TFX4_DMSO//chr1.bed\n",
      "2531183 /data/reddylab/Kuei/out/CombEffect_STARR/data/TFX5_DMSO//chr1.bed\n",
      "11427383 /data/reddylab/Kuei/out/CombEffect_STARR/data/TFX_DMSO/chr1.bed\n",
      "\n",
      "3391586 /data/reddylab/Kuei/out/CombEffect_STARR/data/TFX2_DMSO//chr2.bed\n",
      "2091450 /data/reddylab/Kuei/out/CombEffect_STARR/data/TFX3_DMSO//chr2.bed\n",
      "2421659 /data/reddylab/Kuei/out/CombEffect_STARR/data/TFX4_DMSO//chr2.bed\n",
      "2239378 /data/reddylab/Kuei/out/CombEffect_STARR/data/TFX5_DMSO//chr2.bed\n",
      "10144073 /data/reddylab/Kuei/out/CombEffect_STARR/data/TFX_DMSO/chr2.bed\n",
      "\n",
      "2643287 /data/reddylab/Kuei/out/CombEffect_STARR/data/TFX2_DMSO//chr3.bed\n",
      "1625019 /data/reddylab/Kuei/out/CombEffect_STARR/data/TFX3_DMSO//chr3.bed\n",
      "1865831 /data/reddylab/Kuei/out/CombEffect_STARR/data/TFX4_DMSO//chr3.bed\n",
      "1710389 /data/reddylab/Kuei/out/CombEffect_STARR/data/TFX5_DMSO//chr3.bed\n",
      "7844526 /data/reddylab/Kuei/out/CombEffect_STARR/data/TFX_DMSO/chr3.bed\n",
      "\n",
      "2070858 /data/reddylab/Kuei/out/CombEffect_STARR/data/TFX2_DMSO//chr4.bed\n",
      "1278933 /data/reddylab/Kuei/out/CombEffect_STARR/data/TFX3_DMSO//chr4.bed\n",
      "1468358 /data/reddylab/Kuei/out/CombEffect_STARR/data/TFX4_DMSO//chr4.bed\n",
      "1354280 /data/reddylab/Kuei/out/CombEffect_STARR/data/TFX5_DMSO//chr4.bed\n",
      "6172429 /data/reddylab/Kuei/out/CombEffect_STARR/data/TFX_DMSO/chr4.bed\n",
      "\n",
      "2333700 /data/reddylab/Kuei/out/CombEffect_STARR/data/TFX2_DMSO//chr5.bed\n",
      "1437468 /data/reddylab/Kuei/out/CombEffect_STARR/data/TFX3_DMSO//chr5.bed\n",
      "1657997 /data/reddylab/Kuei/out/CombEffect_STARR/data/TFX4_DMSO//chr5.bed\n",
      "1532302 /data/reddylab/Kuei/out/CombEffect_STARR/data/TFX5_DMSO//chr5.bed\n",
      "6961467 /data/reddylab/Kuei/out/CombEffect_STARR/data/TFX_DMSO/chr5.bed\n",
      "\n",
      "2102048 /data/reddylab/Kuei/out/CombEffect_STARR/data/TFX2_DMSO//chr6.bed\n",
      "1295144 /data/reddylab/Kuei/out/CombEffect_STARR/data/TFX3_DMSO//chr6.bed\n",
      "1493646 /data/reddylab/Kuei/out/CombEffect_STARR/data/TFX4_DMSO//chr6.bed\n",
      "1373134 /data/reddylab/Kuei/out/CombEffect_STARR/data/TFX5_DMSO//chr6.bed\n",
      "6263972 /data/reddylab/Kuei/out/CombEffect_STARR/data/TFX_DMSO/chr6.bed\n",
      "\n",
      "2237661 /data/reddylab/Kuei/out/CombEffect_STARR/data/TFX2_DMSO//chr7.bed\n",
      "1368829 /data/reddylab/Kuei/out/CombEffect_STARR/data/TFX3_DMSO//chr7.bed\n",
      "1579237 /data/reddylab/Kuei/out/CombEffect_STARR/data/TFX4_DMSO//chr7.bed\n",
      "1471286 /data/reddylab/Kuei/out/CombEffect_STARR/data/TFX5_DMSO//chr7.bed\n",
      "6657013 /data/reddylab/Kuei/out/CombEffect_STARR/data/TFX_DMSO/chr7.bed\n",
      "\n",
      "1977456 /data/reddylab/Kuei/out/CombEffect_STARR/data/TFX2_DMSO//chr8.bed\n",
      "1219020 /data/reddylab/Kuei/out/CombEffect_STARR/data/TFX3_DMSO//chr8.bed\n",
      "1405972 /data/reddylab/Kuei/out/CombEffect_STARR/data/TFX4_DMSO//chr8.bed\n",
      "1296540 /data/reddylab/Kuei/out/CombEffect_STARR/data/TFX5_DMSO//chr8.bed\n",
      "5898988 /data/reddylab/Kuei/out/CombEffect_STARR/data/TFX_DMSO/chr8.bed\n",
      "\n",
      "1957452 /data/reddylab/Kuei/out/CombEffect_STARR/data/TFX2_DMSO//chr9.bed\n",
      "1198413 /data/reddylab/Kuei/out/CombEffect_STARR/data/TFX3_DMSO//chr9.bed\n",
      "1388692 /data/reddylab/Kuei/out/CombEffect_STARR/data/TFX4_DMSO//chr9.bed\n",
      "1304326 /data/reddylab/Kuei/out/CombEffect_STARR/data/TFX5_DMSO//chr9.bed\n",
      "5848883 /data/reddylab/Kuei/out/CombEffect_STARR/data/TFX_DMSO/chr9.bed\n",
      "\n",
      "2243310 /data/reddylab/Kuei/out/CombEffect_STARR/data/TFX2_DMSO//chr10.bed\n",
      "1382065 /data/reddylab/Kuei/out/CombEffect_STARR/data/TFX3_DMSO//chr10.bed\n",
      "1610599 /data/reddylab/Kuei/out/CombEffect_STARR/data/TFX4_DMSO//chr10.bed\n",
      "1502738 /data/reddylab/Kuei/out/CombEffect_STARR/data/TFX5_DMSO//chr10.bed\n",
      "6738712 /data/reddylab/Kuei/out/CombEffect_STARR/data/TFX_DMSO/chr10.bed\n",
      "\n",
      "2347313 /data/reddylab/Kuei/out/CombEffect_STARR/data/TFX2_DMSO//chr11.bed\n",
      "1434499 /data/reddylab/Kuei/out/CombEffect_STARR/data/TFX3_DMSO//chr11.bed\n",
      "1650401 /data/reddylab/Kuei/out/CombEffect_STARR/data/TFX4_DMSO//chr11.bed\n",
      "1545331 /data/reddylab/Kuei/out/CombEffect_STARR/data/TFX5_DMSO//chr11.bed\n",
      "6977544 /data/reddylab/Kuei/out/CombEffect_STARR/data/TFX_DMSO/chr11.bed\n",
      "\n",
      "2003361 /data/reddylab/Kuei/out/CombEffect_STARR/data/TFX2_DMSO//chr12.bed\n",
      "1215509 /data/reddylab/Kuei/out/CombEffect_STARR/data/TFX3_DMSO//chr12.bed\n",
      "1399463 /data/reddylab/Kuei/out/CombEffect_STARR/data/TFX4_DMSO//chr12.bed\n",
      "1295858 /data/reddylab/Kuei/out/CombEffect_STARR/data/TFX5_DMSO//chr12.bed\n",
      "5914191 /data/reddylab/Kuei/out/CombEffect_STARR/data/TFX_DMSO/chr12.bed\n",
      "\n",
      "1083348 /data/reddylab/Kuei/out/CombEffect_STARR/data/TFX2_DMSO//chr13.bed\n",
      "678468 /data/reddylab/Kuei/out/CombEffect_STARR/data/TFX3_DMSO//chr13.bed\n",
      "780908 /data/reddylab/Kuei/out/CombEffect_STARR/data/TFX4_DMSO//chr13.bed\n",
      "715758 /data/reddylab/Kuei/out/CombEffect_STARR/data/TFX5_DMSO//chr13.bed\n",
      "3258482 /data/reddylab/Kuei/out/CombEffect_STARR/data/TFX_DMSO/chr13.bed\n",
      "\n",
      "1324360 /data/reddylab/Kuei/out/CombEffect_STARR/data/TFX2_DMSO//chr14.bed\n",
      "807616 /data/reddylab/Kuei/out/CombEffect_STARR/data/TFX3_DMSO//chr14.bed\n",
      "940471 /data/reddylab/Kuei/out/CombEffect_STARR/data/TFX4_DMSO//chr14.bed\n",
      "870541 /data/reddylab/Kuei/out/CombEffect_STARR/data/TFX5_DMSO//chr14.bed\n",
      "3942988 /data/reddylab/Kuei/out/CombEffect_STARR/data/TFX_DMSO/chr14.bed\n",
      "\n",
      "1290084 /data/reddylab/Kuei/out/CombEffect_STARR/data/TFX2_DMSO//chr15.bed\n",
      "786492 /data/reddylab/Kuei/out/CombEffect_STARR/data/TFX3_DMSO//chr15.bed\n",
      "909762 /data/reddylab/Kuei/out/CombEffect_STARR/data/TFX4_DMSO//chr15.bed\n",
      "851819 /data/reddylab/Kuei/out/CombEffect_STARR/data/TFX5_DMSO//chr15.bed\n",
      "3838157 /data/reddylab/Kuei/out/CombEffect_STARR/data/TFX_DMSO/chr15.bed\n",
      "\n",
      "1767214 /data/reddylab/Kuei/out/CombEffect_STARR/data/TFX2_DMSO//chr16.bed\n",
      "1073465 /data/reddylab/Kuei/out/CombEffect_STARR/data/TFX3_DMSO//chr16.bed\n",
      "1238567 /data/reddylab/Kuei/out/CombEffect_STARR/data/TFX4_DMSO//chr16.bed\n",
      "1180131 /data/reddylab/Kuei/out/CombEffect_STARR/data/TFX5_DMSO//chr16.bed\n",
      "5259377 /data/reddylab/Kuei/out/CombEffect_STARR/data/TFX_DMSO/chr16.bed\n",
      "\n",
      "1814517 /data/reddylab/Kuei/out/CombEffect_STARR/data/TFX2_DMSO//chr17.bed\n",
      "1088938 /data/reddylab/Kuei/out/CombEffect_STARR/data/TFX3_DMSO//chr17.bed\n",
      "1256096 /data/reddylab/Kuei/out/CombEffect_STARR/data/TFX4_DMSO//chr17.bed\n",
      "1203754 /data/reddylab/Kuei/out/CombEffect_STARR/data/TFX5_DMSO//chr17.bed\n",
      "5363305 /data/reddylab/Kuei/out/CombEffect_STARR/data/TFX_DMSO/chr17.bed\n",
      "\n",
      "964099 /data/reddylab/Kuei/out/CombEffect_STARR/data/TFX2_DMSO//chr18.bed\n",
      "595624 /data/reddylab/Kuei/out/CombEffect_STARR/data/TFX3_DMSO//chr18.bed\n",
      "688609 /data/reddylab/Kuei/out/CombEffect_STARR/data/TFX4_DMSO//chr18.bed\n",
      "637817 /data/reddylab/Kuei/out/CombEffect_STARR/data/TFX5_DMSO//chr18.bed\n",
      "2886149 /data/reddylab/Kuei/out/CombEffect_STARR/data/TFX_DMSO/chr18.bed\n",
      "\n",
      "1585007 /data/reddylab/Kuei/out/CombEffect_STARR/data/TFX2_DMSO//chr19.bed\n",
      "919687 /data/reddylab/Kuei/out/CombEffect_STARR/data/TFX3_DMSO//chr19.bed\n",
      "1055859 /data/reddylab/Kuei/out/CombEffect_STARR/data/TFX4_DMSO//chr19.bed\n",
      "1016818 /data/reddylab/Kuei/out/CombEffect_STARR/data/TFX5_DMSO//chr19.bed\n",
      "4577371 /data/reddylab/Kuei/out/CombEffect_STARR/data/TFX_DMSO/chr19.bed\n",
      "\n",
      "1365506 /data/reddylab/Kuei/out/CombEffect_STARR/data/TFX2_DMSO//chr20.bed\n",
      "834179 /data/reddylab/Kuei/out/CombEffect_STARR/data/TFX3_DMSO//chr20.bed\n",
      "969954 /data/reddylab/Kuei/out/CombEffect_STARR/data/TFX4_DMSO//chr20.bed\n",
      "915795 /data/reddylab/Kuei/out/CombEffect_STARR/data/TFX5_DMSO//chr20.bed\n",
      "4085434 /data/reddylab/Kuei/out/CombEffect_STARR/data/TFX_DMSO/chr20.bed\n",
      "\n",
      "575955 /data/reddylab/Kuei/out/CombEffect_STARR/data/TFX2_DMSO//chr21.bed\n",
      "359463 /data/reddylab/Kuei/out/CombEffect_STARR/data/TFX3_DMSO//chr21.bed\n",
      "415586 /data/reddylab/Kuei/out/CombEffect_STARR/data/TFX4_DMSO//chr21.bed\n",
      "394159 /data/reddylab/Kuei/out/CombEffect_STARR/data/TFX5_DMSO//chr21.bed\n",
      "1745163 /data/reddylab/Kuei/out/CombEffect_STARR/data/TFX_DMSO/chr21.bed\n",
      "\n",
      "1074723 /data/reddylab/Kuei/out/CombEffect_STARR/data/TFX2_DMSO//chr22.bed\n",
      "652294 /data/reddylab/Kuei/out/CombEffect_STARR/data/TFX3_DMSO//chr22.bed\n",
      "758428 /data/reddylab/Kuei/out/CombEffect_STARR/data/TFX4_DMSO//chr22.bed\n",
      "738930 /data/reddylab/Kuei/out/CombEffect_STARR/data/TFX5_DMSO//chr22.bed\n",
      "3224375 /data/reddylab/Kuei/out/CombEffect_STARR/data/TFX_DMSO/chr22.bed\n",
      "\n",
      "1837604 /data/reddylab/Kuei/out/CombEffect_STARR/data/TFX2_DMSO//chrX.bed\n",
      "1129273 /data/reddylab/Kuei/out/CombEffect_STARR/data/TFX3_DMSO//chrX.bed\n",
      "1290600 /data/reddylab/Kuei/out/CombEffect_STARR/data/TFX4_DMSO//chrX.bed\n",
      "1174329 /data/reddylab/Kuei/out/CombEffect_STARR/data/TFX5_DMSO//chrX.bed\n",
      "5431806 /data/reddylab/Kuei/out/CombEffect_STARR/data/TFX_DMSO/chrX.bed\n",
      "\n",
      "5302 /data/reddylab/Kuei/out/CombEffect_STARR/data/TFX2_DMSO//chrY.bed\n",
      "2456 /data/reddylab/Kuei/out/CombEffect_STARR/data/TFX3_DMSO//chrY.bed\n",
      "2758 /data/reddylab/Kuei/out/CombEffect_STARR/data/TFX4_DMSO//chrY.bed\n",
      "2555 /data/reddylab/Kuei/out/CombEffect_STARR/data/TFX5_DMSO//chrY.bed\n",
      "13071 /data/reddylab/Kuei/out/CombEffect_STARR/data/TFX_DMSO/chrY.bed\n",
      "\n",
      "Done\n"
     ]
    }
   ],
   "source": [
    "%%bash\n",
    "FD_LOG=/gpfs/fs1/data/reddylab/Kuei/out/CombEffect_STARR/log\n",
    "cat ${FD_LOG}/prep_merge_output_dmso.txt"
   ]
  },
  {
   "cell_type": "code",
   "execution_count": 42,
   "metadata": {},
   "outputs": [
    {
     "data": {
      "text/plain": [
       "13071"
      ]
     },
     "execution_count": 42,
     "metadata": {},
     "output_type": "execute_result"
    }
   ],
   "source": [
    "5302 + 2456 + 2758 + 2555\n",
    "#13071"
   ]
  },
  {
   "cell_type": "markdown",
   "metadata": {},
   "source": [
    "### Merge each chromosome for Output (Dex)"
   ]
  },
  {
   "cell_type": "code",
   "execution_count": 37,
   "metadata": {},
   "outputs": [
    {
     "name": "stdout",
     "output_type": "stream",
     "text": [
      "Submitted batch job 25422074\n"
     ]
    }
   ],
   "source": [
    "%%bash\n",
    "### set environment\n",
    "module load perl\n",
    "module load gcc\n",
    "source /data/reddylab/software/miniconda2/bin/activate alex_dev\n",
    "export PATH=/data/reddylab/software/homer/bin/:$PATH\n",
    "\n",
    "### set log file directory\n",
    "FD_LOG=/gpfs/fs1/data/reddylab/Kuei/out/CombEffect_STARR/log\n",
    "\n",
    "### run script using sbatch\n",
    "sbatch -pnew,all \\\n",
    "    --mem 8G \\\n",
    "    -o ${FD_LOG}/prep_merge_output_dex.txt \\\n",
    "    <<'EOF'\n",
    "#!/bin/bash\n",
    "### set directories\n",
    "FD_WRK=/data/reddylab/Kuei/out/CombEffect_STARR\n",
    "FD_BEDS=($(ls -d ${FD_WRK}/data/TFX?_Dex/))\n",
    "FD_OUT=${FD_WRK}/data/TFX_Dex\n",
    "\n",
    "### create merged directory\n",
    "mkdir -p ${FD_OUT}\n",
    "\n",
    "### merge for each chromosome\n",
    "CHROMS=({1..22} X Y)\n",
    "for CHROM in ${CHROMS[@]}; do\n",
    "    ### init: create new file\n",
    "    FN_OUT=chr${CHROM}.bed\n",
    "    echo -n \"\" > ${FD_OUT}/${FN_OUT}\n",
    "    \n",
    "    ### merging\n",
    "    for FD_BED in ${FD_BEDS[@]}; do\n",
    "        ### count each file before merged\n",
    "        wc -l ${FD_BED}/${FN_OUT}\n",
    "        \n",
    "        ### merge files\n",
    "        cat   ${FD_BED}/${FN_OUT} >> ${FD_OUT}/${FN_OUT}\n",
    "    done\n",
    "    \n",
    "    ### count file after merged\n",
    "    wc -l ${FD_OUT}/${FN_OUT}\n",
    "    echo\n",
    "done\n",
    "\n",
    "echo Done\n",
    "\n",
    "EOF"
   ]
  },
  {
   "cell_type": "code",
   "execution_count": 40,
   "metadata": {},
   "outputs": [
    {
     "name": "stdout",
     "output_type": "stream",
     "text": [
      "3991734 /data/reddylab/Kuei/out/CombEffect_STARR/data/TFX2_Dex//chr1.bed\n",
      "2316427 /data/reddylab/Kuei/out/CombEffect_STARR/data/TFX3_Dex//chr1.bed\n",
      "3039977 /data/reddylab/Kuei/out/CombEffect_STARR/data/TFX4_Dex//chr1.bed\n",
      "3715191 /data/reddylab/Kuei/out/CombEffect_STARR/data/TFX5_Dex//chr1.bed\n",
      "13063329 /data/reddylab/Kuei/out/CombEffect_STARR/data/TFX_Dex/chr1.bed\n",
      "\n",
      "3529288 /data/reddylab/Kuei/out/CombEffect_STARR/data/TFX2_Dex//chr2.bed\n",
      "2054980 /data/reddylab/Kuei/out/CombEffect_STARR/data/TFX3_Dex//chr2.bed\n",
      "2695597 /data/reddylab/Kuei/out/CombEffect_STARR/data/TFX4_Dex//chr2.bed\n",
      "3298694 /data/reddylab/Kuei/out/CombEffect_STARR/data/TFX5_Dex//chr2.bed\n",
      "11578559 /data/reddylab/Kuei/out/CombEffect_STARR/data/TFX_Dex/chr2.bed\n",
      "\n",
      "2707973 /data/reddylab/Kuei/out/CombEffect_STARR/data/TFX2_Dex//chr3.bed\n",
      "1562721 /data/reddylab/Kuei/out/CombEffect_STARR/data/TFX3_Dex//chr3.bed\n",
      "2040708 /data/reddylab/Kuei/out/CombEffect_STARR/data/TFX4_Dex//chr3.bed\n",
      "2491843 /data/reddylab/Kuei/out/CombEffect_STARR/data/TFX5_Dex//chr3.bed\n",
      "8803245 /data/reddylab/Kuei/out/CombEffect_STARR/data/TFX_Dex/chr3.bed\n",
      "\n",
      "2100616 /data/reddylab/Kuei/out/CombEffect_STARR/data/TFX2_Dex//chr4.bed\n",
      "1229454 /data/reddylab/Kuei/out/CombEffect_STARR/data/TFX3_Dex//chr4.bed\n",
      "1590335 /data/reddylab/Kuei/out/CombEffect_STARR/data/TFX4_Dex//chr4.bed\n",
      "1943391 /data/reddylab/Kuei/out/CombEffect_STARR/data/TFX5_Dex//chr4.bed\n",
      "6863796 /data/reddylab/Kuei/out/CombEffect_STARR/data/TFX_Dex/chr4.bed\n",
      "\n",
      "2410762 /data/reddylab/Kuei/out/CombEffect_STARR/data/TFX2_Dex//chr5.bed\n",
      "1400110 /data/reddylab/Kuei/out/CombEffect_STARR/data/TFX3_Dex//chr5.bed\n",
      "1821084 /data/reddylab/Kuei/out/CombEffect_STARR/data/TFX4_Dex//chr5.bed\n",
      "2222550 /data/reddylab/Kuei/out/CombEffect_STARR/data/TFX5_Dex//chr5.bed\n",
      "7854506 /data/reddylab/Kuei/out/CombEffect_STARR/data/TFX_Dex/chr5.bed\n",
      "\n",
      "2173127 /data/reddylab/Kuei/out/CombEffect_STARR/data/TFX2_Dex//chr6.bed\n",
      "1260749 /data/reddylab/Kuei/out/CombEffect_STARR/data/TFX3_Dex//chr6.bed\n",
      "1645360 /data/reddylab/Kuei/out/CombEffect_STARR/data/TFX4_Dex//chr6.bed\n",
      "2005637 /data/reddylab/Kuei/out/CombEffect_STARR/data/TFX5_Dex//chr6.bed\n",
      "7084873 /data/reddylab/Kuei/out/CombEffect_STARR/data/TFX_Dex/chr6.bed\n",
      "\n",
      "2314805 /data/reddylab/Kuei/out/CombEffect_STARR/data/TFX2_Dex//chr7.bed\n",
      "1343019 /data/reddylab/Kuei/out/CombEffect_STARR/data/TFX3_Dex//chr7.bed\n",
      "1756956 /data/reddylab/Kuei/out/CombEffect_STARR/data/TFX4_Dex//chr7.bed\n",
      "2157164 /data/reddylab/Kuei/out/CombEffect_STARR/data/TFX5_Dex//chr7.bed\n",
      "7571944 /data/reddylab/Kuei/out/CombEffect_STARR/data/TFX_Dex/chr7.bed\n",
      "\n",
      "2038915 /data/reddylab/Kuei/out/CombEffect_STARR/data/TFX2_Dex//chr8.bed\n",
      "1191789 /data/reddylab/Kuei/out/CombEffect_STARR/data/TFX3_Dex//chr8.bed\n",
      "1549161 /data/reddylab/Kuei/out/CombEffect_STARR/data/TFX4_Dex//chr8.bed\n",
      "1897953 /data/reddylab/Kuei/out/CombEffect_STARR/data/TFX5_Dex//chr8.bed\n",
      "6677818 /data/reddylab/Kuei/out/CombEffect_STARR/data/TFX_Dex/chr8.bed\n",
      "\n",
      "2025798 /data/reddylab/Kuei/out/CombEffect_STARR/data/TFX2_Dex//chr9.bed\n",
      "1184097 /data/reddylab/Kuei/out/CombEffect_STARR/data/TFX3_Dex//chr9.bed\n",
      "1553876 /data/reddylab/Kuei/out/CombEffect_STARR/data/TFX4_Dex//chr9.bed\n",
      "1903169 /data/reddylab/Kuei/out/CombEffect_STARR/data/TFX5_Dex//chr9.bed\n",
      "6666940 /data/reddylab/Kuei/out/CombEffect_STARR/data/TFX_Dex/chr9.bed\n",
      "\n",
      "2360081 /data/reddylab/Kuei/out/CombEffect_STARR/data/TFX2_Dex//chr10.bed\n",
      "1378963 /data/reddylab/Kuei/out/CombEffect_STARR/data/TFX3_Dex//chr10.bed\n",
      "1799446 /data/reddylab/Kuei/out/CombEffect_STARR/data/TFX4_Dex//chr10.bed\n",
      "2207005 /data/reddylab/Kuei/out/CombEffect_STARR/data/TFX5_Dex//chr10.bed\n",
      "7745495 /data/reddylab/Kuei/out/CombEffect_STARR/data/TFX_Dex/chr10.bed\n",
      "\n",
      "2431134 /data/reddylab/Kuei/out/CombEffect_STARR/data/TFX2_Dex//chr11.bed\n",
      "1408509 /data/reddylab/Kuei/out/CombEffect_STARR/data/TFX3_Dex//chr11.bed\n",
      "1851293 /data/reddylab/Kuei/out/CombEffect_STARR/data/TFX4_Dex//chr11.bed\n",
      "2262348 /data/reddylab/Kuei/out/CombEffect_STARR/data/TFX5_Dex//chr11.bed\n",
      "7953284 /data/reddylab/Kuei/out/CombEffect_STARR/data/TFX_Dex/chr11.bed\n",
      "\n",
      "2049805 /data/reddylab/Kuei/out/CombEffect_STARR/data/TFX2_Dex//chr12.bed\n",
      "1178179 /data/reddylab/Kuei/out/CombEffect_STARR/data/TFX3_Dex//chr12.bed\n",
      "1550156 /data/reddylab/Kuei/out/CombEffect_STARR/data/TFX4_Dex//chr12.bed\n",
      "1897113 /data/reddylab/Kuei/out/CombEffect_STARR/data/TFX5_Dex//chr12.bed\n",
      "6675253 /data/reddylab/Kuei/out/CombEffect_STARR/data/TFX_Dex/chr12.bed\n",
      "\n",
      "1132470 /data/reddylab/Kuei/out/CombEffect_STARR/data/TFX2_Dex//chr13.bed\n",
      "665904 /data/reddylab/Kuei/out/CombEffect_STARR/data/TFX3_Dex//chr13.bed\n",
      "861985 /data/reddylab/Kuei/out/CombEffect_STARR/data/TFX4_Dex//chr13.bed\n",
      "1054432 /data/reddylab/Kuei/out/CombEffect_STARR/data/TFX5_Dex//chr13.bed\n",
      "3714791 /data/reddylab/Kuei/out/CombEffect_STARR/data/TFX_Dex/chr13.bed\n",
      "\n",
      "1371032 /data/reddylab/Kuei/out/CombEffect_STARR/data/TFX2_Dex//chr14.bed\n",
      "793975 /data/reddylab/Kuei/out/CombEffect_STARR/data/TFX3_Dex//chr14.bed\n",
      "1043092 /data/reddylab/Kuei/out/CombEffect_STARR/data/TFX4_Dex//chr14.bed\n",
      "1269668 /data/reddylab/Kuei/out/CombEffect_STARR/data/TFX5_Dex//chr14.bed\n",
      "4477767 /data/reddylab/Kuei/out/CombEffect_STARR/data/TFX_Dex/chr14.bed\n",
      "\n",
      "1343198 /data/reddylab/Kuei/out/CombEffect_STARR/data/TFX2_Dex//chr15.bed\n",
      "775366 /data/reddylab/Kuei/out/CombEffect_STARR/data/TFX3_Dex//chr15.bed\n",
      "1017385 /data/reddylab/Kuei/out/CombEffect_STARR/data/TFX4_Dex//chr15.bed\n",
      "1241087 /data/reddylab/Kuei/out/CombEffect_STARR/data/TFX5_Dex//chr15.bed\n",
      "4377036 /data/reddylab/Kuei/out/CombEffect_STARR/data/TFX_Dex/chr15.bed\n",
      "\n",
      "1853373 /data/reddylab/Kuei/out/CombEffect_STARR/data/TFX2_Dex//chr16.bed\n",
      "1079698 /data/reddylab/Kuei/out/CombEffect_STARR/data/TFX3_Dex//chr16.bed\n",
      "1424531 /data/reddylab/Kuei/out/CombEffect_STARR/data/TFX4_Dex//chr16.bed\n",
      "1747874 /data/reddylab/Kuei/out/CombEffect_STARR/data/TFX5_Dex//chr16.bed\n",
      "6105476 /data/reddylab/Kuei/out/CombEffect_STARR/data/TFX_Dex/chr16.bed\n",
      "\n",
      "1892453 /data/reddylab/Kuei/out/CombEffect_STARR/data/TFX2_Dex//chr17.bed\n",
      "1102681 /data/reddylab/Kuei/out/CombEffect_STARR/data/TFX3_Dex//chr17.bed\n",
      "1459086 /data/reddylab/Kuei/out/CombEffect_STARR/data/TFX4_Dex//chr17.bed\n",
      "1785438 /data/reddylab/Kuei/out/CombEffect_STARR/data/TFX5_Dex//chr17.bed\n",
      "6239658 /data/reddylab/Kuei/out/CombEffect_STARR/data/TFX_Dex/chr17.bed\n",
      "\n",
      "1006420 /data/reddylab/Kuei/out/CombEffect_STARR/data/TFX2_Dex//chr18.bed\n",
      "587217 /data/reddylab/Kuei/out/CombEffect_STARR/data/TFX3_Dex//chr18.bed\n",
      "764959 /data/reddylab/Kuei/out/CombEffect_STARR/data/TFX4_Dex//chr18.bed\n",
      "936585 /data/reddylab/Kuei/out/CombEffect_STARR/data/TFX5_Dex//chr18.bed\n",
      "3295181 /data/reddylab/Kuei/out/CombEffect_STARR/data/TFX_Dex/chr18.bed\n",
      "\n",
      "1593681 /data/reddylab/Kuei/out/CombEffect_STARR/data/TFX2_Dex//chr19.bed\n",
      "920546 /data/reddylab/Kuei/out/CombEffect_STARR/data/TFX3_Dex//chr19.bed\n",
      "1204360 /data/reddylab/Kuei/out/CombEffect_STARR/data/TFX4_Dex//chr19.bed\n",
      "1488561 /data/reddylab/Kuei/out/CombEffect_STARR/data/TFX5_Dex//chr19.bed\n",
      "5207148 /data/reddylab/Kuei/out/CombEffect_STARR/data/TFX_Dex/chr19.bed\n",
      "\n",
      "1456030 /data/reddylab/Kuei/out/CombEffect_STARR/data/TFX2_Dex//chr20.bed\n",
      "847040 /data/reddylab/Kuei/out/CombEffect_STARR/data/TFX3_Dex//chr20.bed\n",
      "1120912 /data/reddylab/Kuei/out/CombEffect_STARR/data/TFX4_Dex//chr20.bed\n",
      "1375101 /data/reddylab/Kuei/out/CombEffect_STARR/data/TFX5_Dex//chr20.bed\n",
      "4799083 /data/reddylab/Kuei/out/CombEffect_STARR/data/TFX_Dex/chr20.bed\n",
      "\n",
      "625038 /data/reddylab/Kuei/out/CombEffect_STARR/data/TFX2_Dex//chr21.bed\n",
      "373600 /data/reddylab/Kuei/out/CombEffect_STARR/data/TFX3_Dex//chr21.bed\n",
      "489993 /data/reddylab/Kuei/out/CombEffect_STARR/data/TFX4_Dex//chr21.bed\n",
      "596889 /data/reddylab/Kuei/out/CombEffect_STARR/data/TFX5_Dex//chr21.bed\n",
      "2085520 /data/reddylab/Kuei/out/CombEffect_STARR/data/TFX_Dex/chr21.bed\n",
      "\n",
      "1148006 /data/reddylab/Kuei/out/CombEffect_STARR/data/TFX2_Dex//chr22.bed\n",
      "679514 /data/reddylab/Kuei/out/CombEffect_STARR/data/TFX3_Dex//chr22.bed\n",
      "913222 /data/reddylab/Kuei/out/CombEffect_STARR/data/TFX4_Dex//chr22.bed\n",
      "1110057 /data/reddylab/Kuei/out/CombEffect_STARR/data/TFX5_Dex//chr22.bed\n",
      "3850799 /data/reddylab/Kuei/out/CombEffect_STARR/data/TFX_Dex/chr22.bed\n",
      "\n",
      "1851070 /data/reddylab/Kuei/out/CombEffect_STARR/data/TFX2_Dex//chrX.bed\n",
      "1063229 /data/reddylab/Kuei/out/CombEffect_STARR/data/TFX3_Dex//chrX.bed\n",
      "1392801 /data/reddylab/Kuei/out/CombEffect_STARR/data/TFX4_Dex//chrX.bed\n",
      "1697529 /data/reddylab/Kuei/out/CombEffect_STARR/data/TFX5_Dex//chrX.bed\n",
      "6004629 /data/reddylab/Kuei/out/CombEffect_STARR/data/TFX_Dex/chrX.bed\n",
      "\n",
      "6730 /data/reddylab/Kuei/out/CombEffect_STARR/data/TFX2_Dex//chrY.bed\n",
      "2904 /data/reddylab/Kuei/out/CombEffect_STARR/data/TFX3_Dex//chrY.bed\n",
      "3811 /data/reddylab/Kuei/out/CombEffect_STARR/data/TFX4_Dex//chrY.bed\n",
      "4970 /data/reddylab/Kuei/out/CombEffect_STARR/data/TFX5_Dex//chrY.bed\n",
      "18415 /data/reddylab/Kuei/out/CombEffect_STARR/data/TFX_Dex/chrY.bed\n",
      "\n",
      "Done\n"
     ]
    }
   ],
   "source": [
    "%%bash\n",
    "FD_LOG=/gpfs/fs1/data/reddylab/Kuei/out/CombEffect_STARR/log\n",
    "cat ${FD_LOG}/prep_merge_output_dex.txt"
   ]
  },
  {
   "cell_type": "code",
   "execution_count": 41,
   "metadata": {},
   "outputs": [
    {
     "data": {
      "text/plain": [
       "18415"
      ]
     },
     "execution_count": 41,
     "metadata": {},
     "output_type": "execute_result"
    }
   ],
   "source": [
    "6730 + 2904 + 3811 + 4970\n",
    "#18415"
   ]
  },
  {
   "cell_type": "code",
   "execution_count": null,
   "metadata": {},
   "outputs": [],
   "source": []
  }
 ],
 "metadata": {
  "kernelspec": {
   "display_name": "Python 3",
   "language": "python",
   "name": "python3"
  },
  "language_info": {
   "codemirror_mode": {
    "name": "ipython",
    "version": 3
   },
   "file_extension": ".py",
   "mimetype": "text/x-python",
   "name": "python",
   "nbconvert_exporter": "python",
   "pygments_lexer": "ipython3",
   "version": "3.7.3"
  }
 },
 "nbformat": 4,
 "nbformat_minor": 4
}
