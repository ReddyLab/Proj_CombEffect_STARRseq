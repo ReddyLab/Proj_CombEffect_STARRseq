{
 "cells": [
  {
   "cell_type": "code",
   "execution_count": 8,
   "metadata": {},
   "outputs": [],
   "source": [
    "import numpy as np\n",
    "import itertools as it"
   ]
  },
  {
   "cell_type": "code",
   "execution_count": 1,
   "metadata": {},
   "outputs": [
    {
     "name": "stdout",
     "output_type": "stream",
     "text": [
      "0\n",
      "2\n",
      "4\n",
      "6\n",
      "8\n"
     ]
    }
   ],
   "source": [
    "for i in range(0, 10, 2):\n",
    "    print(i)"
   ]
  },
  {
   "cell_type": "code",
   "execution_count": 2,
   "metadata": {},
   "outputs": [
    {
     "name": "stdout",
     "output_type": "stream",
     "text": [
      "10\n",
      "12\n",
      "14\n",
      "16\n",
      "18\n",
      "20\n",
      "22\n",
      "24\n",
      "26\n",
      "28\n",
      "30\n",
      "32\n",
      "34\n",
      "36\n",
      "38\n",
      "40\n",
      "42\n",
      "44\n",
      "46\n",
      "48\n"
     ]
    }
   ],
   "source": [
    "for i in range(10, 50, 2):\n",
    "    print(i)"
   ]
  },
  {
   "cell_type": "code",
   "execution_count": 4,
   "metadata": {},
   "outputs": [
    {
     "name": "stdout",
     "output_type": "stream",
     "text": [
      "0 10\n",
      "2 12\n",
      "4 14\n",
      "6 16\n",
      "8 18\n",
      "10 20\n",
      "12 22\n",
      "14 24\n",
      "16 26\n",
      "18 28\n",
      "20 30\n",
      "22 32\n",
      "24 34\n",
      "26 36\n",
      "28 38\n",
      "30 40\n",
      "32 42\n",
      "34 44\n",
      "36 46\n",
      "38 48\n"
     ]
    }
   ],
   "source": [
    "\n",
    "n_gap  = 2\n",
    "n_seg  = 10\n",
    "starts = range(0,     50, n_gap)\n",
    "ends   = range(n_seg, 50, n_gap)\n",
    "\n",
    "for i, j in zip(starts, ends):\n",
    "    print(i, j)"
   ]
  },
  {
   "cell_type": "code",
   "execution_count": 9,
   "metadata": {},
   "outputs": [
    {
     "name": "stdout",
     "output_type": "stream",
     "text": [
      "0 10\n",
      "2 12\n",
      "4 14\n",
      "6 16\n",
      "8 18\n",
      "10 20\n",
      "12 22\n",
      "14 24\n",
      "16 26\n",
      "18 28\n",
      "20 30\n",
      "22 32\n",
      "24 34\n",
      "26 36\n",
      "28 38\n",
      "30 40\n",
      "32 42\n",
      "34 44\n",
      "36 46\n",
      "38 48\n",
      "40 50\n",
      "42 52\n",
      "44 54\n",
      "46 56\n",
      "48 58\n",
      "50 60\n",
      "52 62\n",
      "54 64\n",
      "56 66\n",
      "58 68\n",
      "60 70\n",
      "62 72\n",
      "64 74\n",
      "66 76\n",
      "68 78\n",
      "70 80\n",
      "72 82\n",
      "74 84\n",
      "76 86\n",
      "78 88\n",
      "80 90\n",
      "82 92\n",
      "84 94\n",
      "86 96\n",
      "88 98\n"
     ]
    }
   ],
   "source": [
    "arr    = np.arange(0, 100)\n",
    "starts = it.islice(arr, 0,     None, n_gap)\n",
    "ends   = it.islice(arr, n_seg, None, n_gap)\n",
    "\n",
    "for i, j in zip(starts, ends):\n",
    "    print(i, j)"
   ]
  },
  {
   "cell_type": "markdown",
   "metadata": {},
   "source": [
    "-----"
   ]
  },
  {
   "cell_type": "code",
   "execution_count": 1,
   "metadata": {},
   "outputs": [],
   "source": [
    "import numpy as np\n",
    "import itertools as it\n",
    "import os"
   ]
  },
  {
   "cell_type": "code",
   "execution_count": 2,
   "metadata": {},
   "outputs": [
    {
     "name": "stdout",
     "output_type": "stream",
     "text": [
      "/work/kk319\n"
     ]
    }
   ],
   "source": [
    "fpath = \"/hpc/home/kk319\"\n",
    "if \"/hpc\" in fpath:\n",
    "    print(\"/work/kk319\")\n",
    "if \"/gpfs/fs1\" in fpath:\n",
    "    print(\"/data/reddylab/Kuei\")"
   ]
  },
  {
   "cell_type": "code",
   "execution_count": 3,
   "metadata": {},
   "outputs": [
    {
     "name": "stdout",
     "output_type": "stream",
     "text": [
      "/data/reddylab/Kuei\n"
     ]
    }
   ],
   "source": [
    "fpath = \"/gpfs/fs1/data/reddylab/Kuei\"\n",
    "if \"/hpc\" in fpath:\n",
    "    print(\"/work/kk319\")\n",
    "if \"/gpfs/fs1\" in fpath:\n",
    "    print(\"/data/reddylab/Kuei\")"
   ]
  },
  {
   "cell_type": "code",
   "execution_count": 4,
   "metadata": {},
   "outputs": [
    {
     "data": {
      "text/plain": [
       "'/hpc/home/kk319/GitRepo/Proj_CombEffect_STARRseq/notebooks'"
      ]
     },
     "execution_count": 4,
     "metadata": {},
     "output_type": "execute_result"
    }
   ],
   "source": [
    "cwd = os.getcwd()\n",
    "cwd"
   ]
  },
  {
   "cell_type": "code",
   "execution_count": 5,
   "metadata": {},
   "outputs": [
    {
     "name": "stdout",
     "output_type": "stream",
     "text": [
      "/work/kk319\n"
     ]
    }
   ],
   "source": [
    "fpath = os.getcwd()\n",
    "if \"/hpc\" in fpath:\n",
    "    FD_WRK=\"/work/kk319\"\n",
    "if \"/gpfs/fs1\" in fpath:\n",
    "    FD_WRK=\"/data/reddylab/Kuei\"\n",
    "print(FD_WRK)"
   ]
  },
  {
   "cell_type": "code",
   "execution_count": 6,
   "metadata": {},
   "outputs": [],
   "source": [
    "### \"/data/reddylab/Kuei/out/CombEffect_STARR/data/TFX_DMSO\"\n",
    "FD_DAT = os.path.join(FD_WRK, \"out/CombEffect_STARR/count_segment/TFX_DMSO\")\n",
    "fpath  = os.path.join(FD_DAT, \"seg_PER1.bed\")"
   ]
  },
  {
   "cell_type": "code",
   "execution_count": 7,
   "metadata": {},
   "outputs": [
    {
     "name": "stdout",
     "output_type": "stream",
     "text": [
      "0 ['chr17', '8149037', '8149038']\n",
      "1 ['chr17', '8149038', '8149072']\n",
      "2 ['chr17', '8149072', '8149073']\n",
      "3 ['chr17', '8149073', '8149121']\n",
      "4 ['chr17', '8149121', '8149177']\n",
      "5 ['chr17', '8149177', '8149178']\n",
      "6 ['chr17', '8149178', '8149179']\n",
      "7 ['chr17', '8149179', '8149180']\n",
      "8 ['chr17', '8149180', '8149187']\n",
      "9 ['chr17', '8149187', '8149194']\n"
     ]
    }
   ],
   "source": [
    "with open(fpath, \"r\") as fp:\n",
    "    gen = it.islice(fp, 10)\n",
    "    for idx, x in enumerate(gen):\n",
    "        print(idx, x.strip().split(\"\\t\"))"
   ]
  },
  {
   "cell_type": "code",
   "execution_count": 8,
   "metadata": {},
   "outputs": [
    {
     "name": "stdout",
     "output_type": "stream",
     "text": [
      "0 ['chr17', '8149037', '8149038']\n",
      "2 ['chr17', '8149072', '8149073']\n",
      "4 ['chr17', '8149121', '8149177']\n",
      "6 ['chr17', '8149178', '8149179']\n",
      "8 ['chr17', '8149180', '8149187']\n"
     ]
    }
   ],
   "source": [
    "n_gap = 2\n",
    "n_seg = 5\n",
    "with open(fpath, \"r\") as fp:\n",
    "    gen = enumerate(fp)\n",
    "    starts = it.islice(gen, 0, 10, n_gap)\n",
    "    for i, x in starts:\n",
    "        print(i, x.strip().split(\"\\t\"))"
   ]
  },
  {
   "cell_type": "code",
   "execution_count": 9,
   "metadata": {},
   "outputs": [
    {
     "name": "stdout",
     "output_type": "stream",
     "text": [
      "4 ['chr17', '8149121', '8149177']\n",
      "6 ['chr17', '8149178', '8149179']\n",
      "8 ['chr17', '8149180', '8149187']\n"
     ]
    }
   ],
   "source": [
    "n_gap = 2\n",
    "n_seg = 5\n",
    "with open(fpath, \"r\") as fp:\n",
    "    gen = enumerate(fp)\n",
    "    ends = it.islice(gen, n_seg-1, 10, n_gap)\n",
    "    for i,x in ends:\n",
    "        print(i, x.strip().split(\"\\t\"))"
   ]
  },
  {
   "cell_type": "code",
   "execution_count": 10,
   "metadata": {},
   "outputs": [
    {
     "name": "stdout",
     "output_type": "stream",
     "text": [
      "  0 ['chr17', '8149037', '8149038']\n",
      "  4 ['chr17', '8149121', '8149177']\n",
      "new ['chr17', '8149037', '8149177']\n",
      "+++++++++++++++++++\n",
      "  2 ['chr17', '8149072', '8149073']\n",
      "  6 ['chr17', '8149178', '8149179']\n",
      "new ['chr17', '8149072', '8149179']\n",
      "+++++++++++++++++++\n",
      "  4 ['chr17', '8149121', '8149177']\n",
      "  8 ['chr17', '8149180', '8149187']\n",
      "new ['chr17', '8149121', '8149187']\n",
      "+++++++++++++++++++\n"
     ]
    }
   ],
   "source": [
    "n_gap = 2\n",
    "n_seg = 5\n",
    "\n",
    "with open(fpath, \"r\") as file1, open(fpath, \"r\") as file2:\n",
    "    gen    = enumerate(file1)\n",
    "    starts = it.islice(gen, 0, 10, n_gap)\n",
    "    gen    = enumerate(file2)\n",
    "    ends   = it.islice(gen, n_seg-1, 10, n_gap)\n",
    "\n",
    "    for (i,x), (j,y) in zip(starts, ends):\n",
    "        frag1 = x.strip().split(\"\\t\")\n",
    "        frag2 = y.strip().split(\"\\t\")\n",
    "        fragn = ['chr17', frag1[1], frag2[2]]\n",
    "        print(\"  {}\".format(i), frag1)\n",
    "        print(\"  {}\".format(j), frag2)\n",
    "        print(\"new\", fragn)\n",
    "        print(\"+++++++++++++++++++\")"
   ]
  },
  {
   "cell_type": "code",
   "execution_count": null,
   "metadata": {},
   "outputs": [],
   "source": []
  }
 ],
 "metadata": {
  "kernelspec": {
   "display_name": "Python 3",
   "language": "python",
   "name": "python3"
  },
  "language_info": {
   "codemirror_mode": {
    "name": "ipython",
    "version": 3
   },
   "file_extension": ".py",
   "mimetype": "text/x-python",
   "name": "python",
   "nbconvert_exporter": "python",
   "pygments_lexer": "ipython3",
   "version": "3.7.3"
  }
 },
 "nbformat": 4,
 "nbformat_minor": 4
}
