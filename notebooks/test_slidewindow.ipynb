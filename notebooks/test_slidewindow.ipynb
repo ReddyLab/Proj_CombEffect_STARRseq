{
 "cells": [
  {
   "cell_type": "code",
   "execution_count": 8,
   "metadata": {},
   "outputs": [],
   "source": [
    "import numpy as np\n",
    "import itertools as it"
   ]
  },
  {
   "cell_type": "code",
   "execution_count": 1,
   "metadata": {},
   "outputs": [
    {
     "name": "stdout",
     "output_type": "stream",
     "text": [
      "0\n",
      "2\n",
      "4\n",
      "6\n",
      "8\n"
     ]
    }
   ],
   "source": [
    "for i in range(0, 10, 2):\n",
    "    print(i)"
   ]
  },
  {
   "cell_type": "code",
   "execution_count": 2,
   "metadata": {},
   "outputs": [
    {
     "name": "stdout",
     "output_type": "stream",
     "text": [
      "10\n",
      "12\n",
      "14\n",
      "16\n",
      "18\n",
      "20\n",
      "22\n",
      "24\n",
      "26\n",
      "28\n",
      "30\n",
      "32\n",
      "34\n",
      "36\n",
      "38\n",
      "40\n",
      "42\n",
      "44\n",
      "46\n",
      "48\n"
     ]
    }
   ],
   "source": [
    "for i in range(10, 50, 2):\n",
    "    print(i)"
   ]
  },
  {
   "cell_type": "code",
   "execution_count": 4,
   "metadata": {},
   "outputs": [
    {
     "name": "stdout",
     "output_type": "stream",
     "text": [
      "0 10\n",
      "2 12\n",
      "4 14\n",
      "6 16\n",
      "8 18\n",
      "10 20\n",
      "12 22\n",
      "14 24\n",
      "16 26\n",
      "18 28\n",
      "20 30\n",
      "22 32\n",
      "24 34\n",
      "26 36\n",
      "28 38\n",
      "30 40\n",
      "32 42\n",
      "34 44\n",
      "36 46\n",
      "38 48\n"
     ]
    }
   ],
   "source": [
    "\n",
    "n_gap  = 2\n",
    "n_seg  = 10\n",
    "starts = range(0,     50, n_gap)\n",
    "ends   = range(n_seg, 50, n_gap)\n",
    "\n",
    "for i, j in zip(starts, ends):\n",
    "    print(i, j)"
   ]
  },
  {
   "cell_type": "code",
   "execution_count": 9,
   "metadata": {},
   "outputs": [
    {
     "name": "stdout",
     "output_type": "stream",
     "text": [
      "0 10\n",
      "2 12\n",
      "4 14\n",
      "6 16\n",
      "8 18\n",
      "10 20\n",
      "12 22\n",
      "14 24\n",
      "16 26\n",
      "18 28\n",
      "20 30\n",
      "22 32\n",
      "24 34\n",
      "26 36\n",
      "28 38\n",
      "30 40\n",
      "32 42\n",
      "34 44\n",
      "36 46\n",
      "38 48\n",
      "40 50\n",
      "42 52\n",
      "44 54\n",
      "46 56\n",
      "48 58\n",
      "50 60\n",
      "52 62\n",
      "54 64\n",
      "56 66\n",
      "58 68\n",
      "60 70\n",
      "62 72\n",
      "64 74\n",
      "66 76\n",
      "68 78\n",
      "70 80\n",
      "72 82\n",
      "74 84\n",
      "76 86\n",
      "78 88\n",
      "80 90\n",
      "82 92\n",
      "84 94\n",
      "86 96\n",
      "88 98\n"
     ]
    }
   ],
   "source": [
    "arr    = np.arange(0, 100)\n",
    "starts = it.islice(arr, 0,     None, n_gap)\n",
    "ends   = it.islice(arr, n_seg, None, n_gap)\n",
    "\n",
    "for i, j in zip(starts, ends):\n",
    "    print(i, j)"
   ]
  },
  {
   "cell_type": "code",
   "execution_count": null,
   "metadata": {},
   "outputs": [],
   "source": []
  }
 ],
 "metadata": {
  "kernelspec": {
   "display_name": "Python 3",
   "language": "python",
   "name": "python3"
  },
  "language_info": {
   "codemirror_mode": {
    "name": "ipython",
    "version": 3
   },
   "file_extension": ".py",
   "mimetype": "text/x-python",
   "name": "python",
   "nbconvert_exporter": "python",
   "pygments_lexer": "ipython3",
   "version": "3.6.12"
  }
 },
 "nbformat": 4,
 "nbformat_minor": 4
}
