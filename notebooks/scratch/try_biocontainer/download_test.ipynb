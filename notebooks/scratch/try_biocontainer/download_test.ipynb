{
 "cells": [
  {
   "cell_type": "markdown",
   "id": "b8a01091-9793-4284-97d1-3456da59d15e",
   "metadata": {},
   "source": [
    "## download from library"
   ]
  },
  {
   "cell_type": "code",
   "execution_count": 1,
   "id": "8fef5f88-b9b1-4a96-bbce-8da637e114c5",
   "metadata": {},
   "outputs": [
    {
     "name": "stdout",
     "output_type": "stream",
     "text": [
      "download.ipynb\n"
     ]
    }
   ],
   "source": [
    "ls"
   ]
  },
  {
   "cell_type": "code",
   "execution_count": 2,
   "id": "4482c21d-6889-41ae-9fde-f5a5191523ee",
   "metadata": {},
   "outputs": [
    {
     "name": "stdout",
     "output_type": "stream",
     "text": [
      "\u001b[34mINFO:   \u001b[0m Using cached image\n"
     ]
    }
   ],
   "source": [
    "singularity pull alpine.sif library://alpine:latest"
   ]
  },
  {
   "cell_type": "code",
   "execution_count": 3,
   "id": "0af0cdf9-1ef5-4d53-b81a-64fdeff6ac07",
   "metadata": {},
   "outputs": [
    {
     "name": "stdout",
     "output_type": "stream",
     "text": [
      "\u001b[0m\u001b[38;5;34malpine.sif\u001b[0m  download.ipynb\n"
     ]
    }
   ],
   "source": [
    "ls"
   ]
  },
  {
   "cell_type": "code",
   "execution_count": 4,
   "id": "184e292d-d845-43a7-86ba-87db003b0814",
   "metadata": {},
   "outputs": [
    {
     "name": "stdout",
     "output_type": "stream",
     "text": [
      "\u001b[0m\u001b[38;5;27mdata\u001b[0m          \u001b[38;5;27mtry_biocontainer\u001b[0m  \u001b[38;5;27mtry_glm\u001b[0m   \u001b[38;5;27mtry_sqlite\u001b[0m\n",
      "\u001b[38;5;27mtry_bedtools\u001b[0m  \u001b[38;5;27mtry_deseq2\u001b[0m        \u001b[38;5;27mtry_shap\u001b[0m  \u001b[38;5;27mtry_xgboost\u001b[0m\n"
     ]
    }
   ],
   "source": [
    "ls ../"
   ]
  },
  {
   "cell_type": "code",
   "execution_count": 5,
   "id": "49a3dc7c-7a93-40ef-ad2b-6897a2d5841a",
   "metadata": {},
   "outputs": [
    {
     "name": "stdout",
     "output_type": "stream",
     "text": [
      "\u001b[34mINFO:   \u001b[0m Using cached image\n"
     ]
    }
   ],
   "source": [
    "singularity pull ../alpine.sif library://alpine:latest"
   ]
  },
  {
   "cell_type": "code",
   "execution_count": 6,
   "id": "ff71675b-6f62-4e23-92aa-611d1c66f4ba",
   "metadata": {},
   "outputs": [
    {
     "name": "stdout",
     "output_type": "stream",
     "text": [
      "\u001b[0m\u001b[38;5;34malpine.sif\u001b[0m  \u001b[38;5;27mtry_bedtools\u001b[0m      \u001b[38;5;27mtry_deseq2\u001b[0m  \u001b[38;5;27mtry_shap\u001b[0m    \u001b[38;5;27mtry_xgboost\u001b[0m\n",
      "\u001b[38;5;27mdata\u001b[0m        \u001b[38;5;27mtry_biocontainer\u001b[0m  \u001b[38;5;27mtry_glm\u001b[0m     \u001b[38;5;27mtry_sqlite\u001b[0m\n"
     ]
    }
   ],
   "source": [
    "ls ../"
   ]
  },
  {
   "cell_type": "code",
   "execution_count": 7,
   "id": "a8eb3fda-9d53-4ecd-bf97-816f73343474",
   "metadata": {},
   "outputs": [],
   "source": [
    "rm  ./alpine.sif\n",
    "rm ../alpine.sif"
   ]
  },
  {
   "cell_type": "markdown",
   "id": "11c8d059-69e7-4aad-9f29-7a94d2a52245",
   "metadata": {},
   "source": [
    "**test**"
   ]
  },
  {
   "cell_type": "code",
   "execution_count": 8,
   "id": "99fb5ef6-bf1f-46dc-bd45-662f02258753",
   "metadata": {},
   "outputs": [
    {
     "name": "stdout",
     "output_type": "stream",
     "text": [
      "\u001b[34mINFO:   \u001b[0m Using cached image\n"
     ]
    }
   ],
   "source": [
    "singularity pull library://alpine:latest"
   ]
  },
  {
   "cell_type": "code",
   "execution_count": 9,
   "id": "9fbce024-3f5b-44c9-8b8c-622f967953ea",
   "metadata": {},
   "outputs": [
    {
     "name": "stdout",
     "output_type": "stream",
     "text": [
      "\u001b[0m\u001b[38;5;34malpine_latest.sif\u001b[0m  download_containers.ipynb  download_test.ipynb\n"
     ]
    }
   ],
   "source": [
    "ls"
   ]
  },
  {
   "cell_type": "code",
   "execution_count": 10,
   "id": "327d8209-dbba-42be-a2cc-3345e792cdcf",
   "metadata": {},
   "outputs": [
    {
     "name": "stdout",
     "output_type": "stream",
     "text": [
      "\u001b[31mFATAL:  \u001b[0m Image file already exists: \"../\" - will not overwrite\n"
     ]
    },
    {
     "ename": "",
     "evalue": "255",
     "output_type": "error",
     "traceback": []
    }
   ],
   "source": [
    "singularity pull ../ library://alpine:latest"
   ]
  },
  {
   "cell_type": "code",
   "execution_count": null,
   "id": "6351ff7b-d244-4404-af3c-125d96178ad4",
   "metadata": {},
   "outputs": [],
   "source": []
  },
  {
   "cell_type": "markdown",
   "id": "88d0e8c9-a615-4bf3-8f37-0e16939a734d",
   "metadata": {},
   "source": [
    "## download from biocontainer"
   ]
  },
  {
   "cell_type": "code",
   "execution_count": null,
   "id": "115580d7-7a9c-448e-9f17-fd991e3ef371",
   "metadata": {},
   "outputs": [],
   "source": [
    "singularity run https://depot.galaxyproject.org/singularity/bedtools:2.30.0--h468198e_3"
   ]
  },
  {
   "cell_type": "code",
   "execution_count": null,
   "id": "3660192e-2b1a-489c-a79a-3cdbb1baf3e6",
   "metadata": {},
   "outputs": [],
   "source": []
  }
 ],
 "metadata": {
  "kernelspec": {
   "display_name": "Bash",
   "language": "bash",
   "name": "bash"
  },
  "language_info": {
   "codemirror_mode": "shell",
   "file_extension": ".sh",
   "mimetype": "text/x-sh",
   "name": "bash"
  }
 },
 "nbformat": 4,
 "nbformat_minor": 5
}
