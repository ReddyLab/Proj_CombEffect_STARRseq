{
 "cells": [
  {
   "cell_type": "markdown",
   "id": "7a878780",
   "metadata": {},
   "source": [
    "# [Tutorial: WSBIM2122 Chapter 05](https://uclouvain-cbio.github.io/WSBIM2122/sec-rnaseq.html)"
   ]
  },
  {
   "cell_type": "markdown",
   "id": "d9cdc098",
   "metadata": {},
   "source": [
    "**Set environment**"
   ]
  },
  {
   "cell_type": "code",
   "execution_count": 1,
   "id": "fbe5d06a",
   "metadata": {},
   "outputs": [],
   "source": [
    "source(\"config_sing.R\")\n",
    "fun_suppress(library(\"tidyverse\"))\n",
    "fun_suppress(library(\"DESeq2\"))"
   ]
  },
  {
   "cell_type": "markdown",
   "id": "e5568152",
   "metadata": {},
   "source": [
    "## Import data"
   ]
  },
  {
   "cell_type": "code",
   "execution_count": 2,
   "id": "879953fe",
   "metadata": {},
   "outputs": [],
   "source": [
    "### load the count matrix and the sample metadata\n",
    "fpath = file.path(FD_RES, \"wsbim2122_data/deseq2/counts.rda\")\n",
    "load(fpath)\n",
    "fpath = file.path(FD_RES, \"wsbim2122_data/deseq2/coldata.rda\")\n",
    "load(fpath)"
   ]
  },
  {
   "cell_type": "markdown",
   "id": "84ccf20b",
   "metadata": {},
   "source": [
    "**Check data**"
   ]
  },
  {
   "cell_type": "code",
   "execution_count": 3,
   "id": "14203b50",
   "metadata": {},
   "outputs": [
    {
     "data": {
      "text/html": [
       "<table class=\"dataframe\">\n",
       "<caption>A data.frame: 6 × 3</caption>\n",
       "<thead>\n",
       "\t<tr><th></th><th scope=col>Cell</th><th scope=col>Type</th><th scope=col>Condition</th></tr>\n",
       "\t<tr><th></th><th scope=col>&lt;chr&gt;</th><th scope=col>&lt;chr&gt;</th><th scope=col>&lt;chr&gt;</th></tr>\n",
       "</thead>\n",
       "<tbody>\n",
       "\t<tr><th scope=row>sample1</th><td>Cell1</td><td>Epithelial</td><td>mock</td></tr>\n",
       "\t<tr><th scope=row>sample2</th><td>Cell1</td><td>Epithelial</td><td>mock</td></tr>\n",
       "\t<tr><th scope=row>sample3</th><td>Cell1</td><td>Epithelial</td><td>mock</td></tr>\n",
       "\t<tr><th scope=row>sample4</th><td>Cell1</td><td>Epithelial</td><td>KD  </td></tr>\n",
       "\t<tr><th scope=row>sample5</th><td>Cell1</td><td>Epithelial</td><td>KD  </td></tr>\n",
       "\t<tr><th scope=row>sample6</th><td>Cell1</td><td>Epithelial</td><td>KD  </td></tr>\n",
       "</tbody>\n",
       "</table>\n"
      ],
      "text/latex": [
       "A data.frame: 6 × 3\n",
       "\\begin{tabular}{r|lll}\n",
       "  & Cell & Type & Condition\\\\\n",
       "  & <chr> & <chr> & <chr>\\\\\n",
       "\\hline\n",
       "\tsample1 & Cell1 & Epithelial & mock\\\\\n",
       "\tsample2 & Cell1 & Epithelial & mock\\\\\n",
       "\tsample3 & Cell1 & Epithelial & mock\\\\\n",
       "\tsample4 & Cell1 & Epithelial & KD  \\\\\n",
       "\tsample5 & Cell1 & Epithelial & KD  \\\\\n",
       "\tsample6 & Cell1 & Epithelial & KD  \\\\\n",
       "\\end{tabular}\n"
      ],
      "text/markdown": [
       "\n",
       "A data.frame: 6 × 3\n",
       "\n",
       "| <!--/--> | Cell &lt;chr&gt; | Type &lt;chr&gt; | Condition &lt;chr&gt; |\n",
       "|---|---|---|---|\n",
       "| sample1 | Cell1 | Epithelial | mock |\n",
       "| sample2 | Cell1 | Epithelial | mock |\n",
       "| sample3 | Cell1 | Epithelial | mock |\n",
       "| sample4 | Cell1 | Epithelial | KD   |\n",
       "| sample5 | Cell1 | Epithelial | KD   |\n",
       "| sample6 | Cell1 | Epithelial | KD   |\n",
       "\n"
      ],
      "text/plain": [
       "        Cell  Type       Condition\n",
       "sample1 Cell1 Epithelial mock     \n",
       "sample2 Cell1 Epithelial mock     \n",
       "sample3 Cell1 Epithelial mock     \n",
       "sample4 Cell1 Epithelial KD       \n",
       "sample5 Cell1 Epithelial KD       \n",
       "sample6 Cell1 Epithelial KD       "
      ]
     },
     "metadata": {},
     "output_type": "display_data"
    }
   ],
   "source": [
    "coldata"
   ]
  },
  {
   "cell_type": "code",
   "execution_count": 4,
   "id": "555cc367",
   "metadata": {},
   "outputs": [
    {
     "data": {
      "text/html": [
       "<table class=\"dataframe\">\n",
       "<caption>A data.frame: 6 × 6</caption>\n",
       "<thead>\n",
       "\t<tr><th></th><th scope=col>sample1</th><th scope=col>sample2</th><th scope=col>sample3</th><th scope=col>sample4</th><th scope=col>sample5</th><th scope=col>sample6</th></tr>\n",
       "\t<tr><th></th><th scope=col>&lt;dbl&gt;</th><th scope=col>&lt;dbl&gt;</th><th scope=col>&lt;dbl&gt;</th><th scope=col>&lt;dbl&gt;</th><th scope=col>&lt;dbl&gt;</th><th scope=col>&lt;dbl&gt;</th></tr>\n",
       "</thead>\n",
       "<tbody>\n",
       "\t<tr><th scope=row>ENSG00000223972</th><td> 0</td><td> 0</td><td> 0</td><td> 0</td><td> 0</td><td> 1</td></tr>\n",
       "\t<tr><th scope=row>ENSG00000227232</th><td>14</td><td>28</td><td>17</td><td>40</td><td>16</td><td>13</td></tr>\n",
       "\t<tr><th scope=row>ENSG00000278267</th><td> 8</td><td> 4</td><td> 3</td><td> 1</td><td> 1</td><td> 6</td></tr>\n",
       "\t<tr><th scope=row>ENSG00000243485</th><td> 0</td><td> 0</td><td> 0</td><td> 0</td><td> 0</td><td> 0</td></tr>\n",
       "\t<tr><th scope=row>ENSG00000284332</th><td> 0</td><td> 0</td><td> 0</td><td> 0</td><td> 0</td><td> 0</td></tr>\n",
       "\t<tr><th scope=row>ENSG00000237613</th><td> 0</td><td> 0</td><td> 0</td><td> 0</td><td> 0</td><td> 0</td></tr>\n",
       "</tbody>\n",
       "</table>\n"
      ],
      "text/latex": [
       "A data.frame: 6 × 6\n",
       "\\begin{tabular}{r|llllll}\n",
       "  & sample1 & sample2 & sample3 & sample4 & sample5 & sample6\\\\\n",
       "  & <dbl> & <dbl> & <dbl> & <dbl> & <dbl> & <dbl>\\\\\n",
       "\\hline\n",
       "\tENSG00000223972 &  0 &  0 &  0 &  0 &  0 &  1\\\\\n",
       "\tENSG00000227232 & 14 & 28 & 17 & 40 & 16 & 13\\\\\n",
       "\tENSG00000278267 &  8 &  4 &  3 &  1 &  1 &  6\\\\\n",
       "\tENSG00000243485 &  0 &  0 &  0 &  0 &  0 &  0\\\\\n",
       "\tENSG00000284332 &  0 &  0 &  0 &  0 &  0 &  0\\\\\n",
       "\tENSG00000237613 &  0 &  0 &  0 &  0 &  0 &  0\\\\\n",
       "\\end{tabular}\n"
      ],
      "text/markdown": [
       "\n",
       "A data.frame: 6 × 6\n",
       "\n",
       "| <!--/--> | sample1 &lt;dbl&gt; | sample2 &lt;dbl&gt; | sample3 &lt;dbl&gt; | sample4 &lt;dbl&gt; | sample5 &lt;dbl&gt; | sample6 &lt;dbl&gt; |\n",
       "|---|---|---|---|---|---|---|\n",
       "| ENSG00000223972 |  0 |  0 |  0 |  0 |  0 |  1 |\n",
       "| ENSG00000227232 | 14 | 28 | 17 | 40 | 16 | 13 |\n",
       "| ENSG00000278267 |  8 |  4 |  3 |  1 |  1 |  6 |\n",
       "| ENSG00000243485 |  0 |  0 |  0 |  0 |  0 |  0 |\n",
       "| ENSG00000284332 |  0 |  0 |  0 |  0 |  0 |  0 |\n",
       "| ENSG00000237613 |  0 |  0 |  0 |  0 |  0 |  0 |\n",
       "\n"
      ],
      "text/plain": [
       "                sample1 sample2 sample3 sample4 sample5 sample6\n",
       "ENSG00000223972  0       0       0       0       0       1     \n",
       "ENSG00000227232 14      28      17      40      16      13     \n",
       "ENSG00000278267  8       4       3       1       1       6     \n",
       "ENSG00000243485  0       0       0       0       0       0     \n",
       "ENSG00000284332  0       0       0       0       0       0     \n",
       "ENSG00000237613  0       0       0       0       0       0     "
      ]
     },
     "metadata": {},
     "output_type": "display_data"
    }
   ],
   "source": [
    "head(counts)"
   ]
  },
  {
   "cell_type": "code",
   "execution_count": 5,
   "id": "9307c666",
   "metadata": {},
   "outputs": [
    {
     "data": {
      "text/html": [
       "<style>\n",
       ".list-inline {list-style: none; margin:0; padding: 0}\n",
       ".list-inline>li {display: inline-block}\n",
       ".list-inline>li:not(:last-child)::after {content: \"\\00b7\"; padding: 0 .5ex}\n",
       "</style>\n",
       "<ol class=list-inline><li>58735</li><li>6</li></ol>\n"
      ],
      "text/latex": [
       "\\begin{enumerate*}\n",
       "\\item 58735\n",
       "\\item 6\n",
       "\\end{enumerate*}\n"
      ],
      "text/markdown": [
       "1. 58735\n",
       "2. 6\n",
       "\n",
       "\n"
      ],
      "text/plain": [
       "[1] 58735     6"
      ]
     },
     "metadata": {},
     "output_type": "display_data"
    }
   ],
   "source": [
    "dim(counts)"
   ]
  },
  {
   "cell_type": "markdown",
   "id": "e79c152e",
   "metadata": {},
   "source": [
    "## Create DESeqDataSet"
   ]
  },
  {
   "cell_type": "code",
   "execution_count": 6,
   "id": "1e22533b",
   "metadata": {},
   "outputs": [
    {
     "name": "stderr",
     "output_type": "stream",
     "text": [
      "converting counts to integer mode\n",
      "\n",
      "Warning message in DESeqDataSet(se, design = design, ignoreRank):\n",
      "“some variables in design formula are characters, converting to factors”\n"
     ]
    }
   ],
   "source": [
    "dds = DESeqDataSetFromMatrix(\n",
    "    countData = counts,\n",
    "    colData   = coldata,\n",
    "    design    = ~Condition)"
   ]
  },
  {
   "cell_type": "code",
   "execution_count": 7,
   "id": "a18560e7",
   "metadata": {},
   "outputs": [
    {
     "data": {
      "text/plain": [
       "class: DESeqDataSet \n",
       "dim: 58735 6 \n",
       "metadata(1): version\n",
       "assays(1): counts\n",
       "rownames(58735): ENSG00000223972 ENSG00000227232 ... ENSG00000277475\n",
       "  ENSG00000268674\n",
       "rowData names(0):\n",
       "colnames(6): sample1 sample2 ... sample5 sample6\n",
       "colData names(3): Cell Type Condition"
      ]
     },
     "metadata": {},
     "output_type": "display_data"
    }
   ],
   "source": [
    "dds"
   ]
  },
  {
   "cell_type": "markdown",
   "id": "f3c1c718",
   "metadata": {},
   "source": [
    "**Access the count data from the dds object**"
   ]
  },
  {
   "cell_type": "code",
   "execution_count": 17,
   "id": "70bacf72",
   "metadata": {},
   "outputs": [
    {
     "name": "stdout",
     "output_type": "stream",
     "text": [
      "[1] \"matrix\" \"array\" \n",
      "[1] \"integer\"\n",
      "++++++++++++++++++++++++++++++++++\n",
      "                sample1 sample2 sample3 sample4 sample5 sample6\n",
      "ENSG00000223972       0       0       0       0       0       1\n",
      "ENSG00000227232      14      28      17      40      16      13\n",
      "ENSG00000278267       8       4       3       1       1       6\n",
      "ENSG00000243485       0       0       0       0       0       0\n",
      "ENSG00000284332       0       0       0       0       0       0\n",
      "ENSG00000237613       0       0       0       0       0       0\n"
     ]
    }
   ],
   "source": [
    "x = counts(dds)\n",
    "\n",
    "print(class(x))\n",
    "print(type(x))\n",
    "cat(\"++++++++++++++++++++++++++++++++++\\n\")\n",
    "print(head(x))"
   ]
  },
  {
   "cell_type": "code",
   "execution_count": 27,
   "id": "3609841a",
   "metadata": {},
   "outputs": [
    {
     "name": "stdout",
     "output_type": "stream",
     "text": [
      "[1] \"matrix\" \"array\" \n",
      "[1] \"integer\"\n",
      "++++++++++++++++++++++++++++++++++\n",
      "                sample1 sample2 sample3 sample4 sample5 sample6\n",
      "ENSG00000223972       0       0       0       0       0       1\n",
      "ENSG00000227232      14      28      17      40      16      13\n",
      "ENSG00000278267       8       4       3       1       1       6\n",
      "ENSG00000243485       0       0       0       0       0       0\n",
      "ENSG00000284332       0       0       0       0       0       0\n",
      "ENSG00000237613       0       0       0       0       0       0\n"
     ]
    }
   ],
   "source": [
    "x = assay(dds)\n",
    "\n",
    "print(class(x))\n",
    "print(type(x))\n",
    "cat(\"++++++++++++++++++++++++++++++++++\\n\")\n",
    "print(head(x))"
   ]
  },
  {
   "cell_type": "markdown",
   "id": "2b1b0a21",
   "metadata": {},
   "source": [
    "**Plot the counts distributions of each sample**"
   ]
  },
  {
   "cell_type": "code",
   "execution_count": 32,
   "id": "c2c41277",
   "metadata": {},
   "outputs": [
    {
     "data": {
      "image/png": "[encoded data removed]",
      "text/plain": [
       "plot without title"
      ]
     },
     "metadata": {
      "image/png": {
       "height": 240,
       "width": 540
      }
     },
     "output_type": "display_data"
    }
   ],
   "source": [
    "x = counts(dds)\n",
    "x = data.frame(x) %>% gather(Sample, Value)\n",
    "\n",
    "gpt = ggplot(x, aes(x=log2(Value+1), fill=Sample)) + \n",
    "    geom_histogram(bins=20) + \n",
    "    facet_wrap(~Sample) +\n",
    "    theme_bw()\n",
    "\n",
    "options(repr.plot.width=9, repr.plot.height=4)\n",
    "print(gpt)"
   ]
  },
  {
   "cell_type": "markdown",
   "id": "e463c387",
   "metadata": {},
   "source": [
    "## Run DESeq2"
   ]
  },
  {
   "cell_type": "code",
   "execution_count": 33,
   "id": "c18a7d1c",
   "metadata": {},
   "outputs": [
    {
     "name": "stderr",
     "output_type": "stream",
     "text": [
      "estimating size factors\n",
      "\n",
      "estimating dispersions\n",
      "\n",
      "gene-wise dispersion estimates\n",
      "\n",
      "mean-dispersion relationship\n",
      "\n",
      "final dispersion estimates\n",
      "\n",
      "fitting model and testing\n",
      "\n"
     ]
    }
   ],
   "source": [
    "dds = DESeq(dds)"
   ]
  },
  {
   "cell_type": "markdown",
   "id": "997b43b6",
   "metadata": {},
   "source": [
    "## PCA"
   ]
  },
  {
   "cell_type": "markdown",
   "id": "5ccd5ec0",
   "metadata": {},
   "source": [
    "- [plotPCA: Sample PCA plot for transformed data](https://www.rdocumentation.org/packages/DESeq2/versions/1.12.3/topics/plotPCA)\n",
    "- [Analyzing RNA-seq data with DESeq2](http://bioconductor.org/packages/devel/bioc/vignettes/DESeq2/inst/doc/DESeq2.html)"
   ]
  },
  {
   "cell_type": "markdown",
   "id": "3b6b51fc",
   "metadata": {},
   "source": [
    "**Using plotPCA**"
   ]
  },
  {
   "cell_type": "code",
   "execution_count": 41,
   "id": "99b6c216",
   "metadata": {},
   "outputs": [
    {
     "name": "stdout",
     "output_type": "stream",
     "text": [
      "Function: plotPCA (package BiocGenerics)\n",
      "object=\"DESeqTransform\"\n",
      "\n"
     ]
    }
   ],
   "source": [
    "showMethods(\"plotPCA\")"
   ]
  },
  {
   "cell_type": "code",
   "execution_count": 46,
   "id": "3f4b9188",
   "metadata": {},
   "outputs": [
    {
     "data": {
      "text/plain": [
       "class: DESeqTransform \n",
       "dim: 58735 6 \n",
       "metadata(1): version\n",
       "assays(4): counts mu H cooks\n",
       "rownames(58735): ENSG00000223972 ENSG00000227232 ... ENSG00000277475\n",
       "  ENSG00000268674\n",
       "rowData names(22): baseMean baseVar ... deviance maxCooks\n",
       "colnames(6): sample1 sample2 ... sample5 sample6\n",
       "colData names(4): Cell Type Condition sizeFactor"
      ]
     },
     "metadata": {},
     "output_type": "display_data"
    }
   ],
   "source": [
    "dst = DESeqTransform(dds)\n",
    "#vsd = vst(dds, blind=FALSE)\n",
    "#rld = rlog(dds, blind=FALSE)\n",
    "dst"
   ]
  },
  {
   "cell_type": "code",
   "execution_count": 52,
   "id": "79efd377",
   "metadata": {},
   "outputs": [
    {
     "data": {
      "text/html": [
       "TRUE"
      ],
      "text/latex": [
       "TRUE"
      ],
      "text/markdown": [
       "TRUE"
      ],
      "text/plain": [
       "[1] TRUE"
      ]
     },
     "metadata": {},
     "output_type": "display_data"
    }
   ],
   "source": [
    "all(assay(dst) == assay(dds))"
   ]
  },
  {
   "cell_type": "code",
   "execution_count": 75,
   "id": "46badfe9",
   "metadata": {},
   "outputs": [
    {
     "data": {
      "image/png": "[encoded data removed]",
      "text/plain": [
       "plot without title"
      ]
     },
     "metadata": {
      "image/png": {
       "height": 240,
       "width": 540
      }
     },
     "output_type": "display_data"
    }
   ],
   "source": [
    "options(repr.plot.width=9, repr.plot.height=4)\n",
    "plotPCA(dst, intgroup=c(\"Condition\")) + theme_bw()"
   ]
  },
  {
   "cell_type": "markdown",
   "id": "f69cfe75",
   "metadata": {},
   "source": [
    "**Manual**"
   ]
  },
  {
   "cell_type": "code",
   "execution_count": 103,
   "id": "e8bd489e",
   "metadata": {},
   "outputs": [
    {
     "data": {
      "text/plain": [
       "Standard deviations (1, .., p=6):\n",
       "[1] 4609.49843  459.77499  329.97703  189.50952  102.34381   57.73399\n",
       "\n",
       "Rotation (n x k) = (6 x 6):\n",
       "              PC1         PC2           PC3        PC4         PC5         PC6\n",
       "sample1 0.3045478  0.07038075 -0.5205791743  0.4210127 -0.65013489 -0.17710844\n",
       "sample2 0.4545490  0.62990272 -0.0784945554 -0.5330027  0.08460945 -0.31495348\n",
       "sample3 0.4160018  0.34200379  0.0004236134  0.4767143  0.38220701  0.58020429\n",
       "sample4 0.4513590 -0.62954081 -0.4656206813 -0.2555653  0.34171484  0.03268209\n",
       "sample5 0.3950594 -0.19959318  0.4648703434 -0.3169555 -0.53594848  0.44753167\n",
       "sample6 0.4096113 -0.21246988  0.5384502702  0.3816089  0.14168224 -0.57571449"
      ]
     },
     "metadata": {},
     "output_type": "display_data"
    }
   ],
   "source": [
    "#cnt = counts(dds, normalized=TRUE)\n",
    "cnt = counts(dds)\n",
    "\n",
    "res = prcomp(cnt, center = TRUE, scale. = FALSE)\n",
    "res"
   ]
  },
  {
   "cell_type": "code",
   "execution_count": 106,
   "id": "ddc3b6e4",
   "metadata": {},
   "outputs": [
    {
     "data": {
      "image/png": "[encoded data removed]",
      "text/plain": [
       "plot without title"
      ]
     },
     "metadata": {
      "image/png": {
       "height": 240,
       "width": 300
      }
     },
     "output_type": "display_data"
    }
   ],
   "source": [
    "dat = data.frame(res$rotation)\n",
    "dat$Group = coldata$Condition\n",
    "\n",
    "gpt = ggplot(dat, aes(x=PC1, y=PC2, color=Group)) + \n",
    "    geom_point(size=3) + \n",
    "    theme_bw()\n",
    "\n",
    "options(repr.plot.width=5, repr.plot.height=4)\n",
    "print(gpt)"
   ]
  },
  {
   "cell_type": "markdown",
   "id": "b2445692",
   "metadata": {},
   "source": [
    "**Solution**"
   ]
  },
  {
   "cell_type": "code",
   "execution_count": 107,
   "id": "aef58244",
   "metadata": {},
   "outputs": [],
   "source": [
    "rld = rlogTransformation(dds)"
   ]
  },
  {
   "cell_type": "code",
   "execution_count": 116,
   "id": "d05a0b79",
   "metadata": {},
   "outputs": [
    {
     "data": {
      "image/png": "[encoded data removed]",
      "text/plain": [
       "plot without title"
      ]
     },
     "metadata": {
      "image/png": {
       "height": 240,
       "width": 540
      }
     },
     "output_type": "display_data"
    }
   ],
   "source": [
    "options(repr.plot.width=9, repr.plot.height=4)\n",
    "plotPCA(rld, intgroup = \"Condition\") + theme_bw()"
   ]
  },
  {
   "cell_type": "code",
   "execution_count": 117,
   "id": "7e0803c8",
   "metadata": {},
   "outputs": [
    {
     "data": {
      "text/html": [
       "<table class=\"dataframe\">\n",
       "<caption>A data.frame: 6 × 5</caption>\n",
       "<thead>\n",
       "\t<tr><th></th><th scope=col>PC1</th><th scope=col>PC2</th><th scope=col>group</th><th scope=col>Condition</th><th scope=col>name</th></tr>\n",
       "\t<tr><th></th><th scope=col>&lt;dbl&gt;</th><th scope=col>&lt;dbl&gt;</th><th scope=col>&lt;fct&gt;</th><th scope=col>&lt;fct&gt;</th><th scope=col>&lt;chr&gt;</th></tr>\n",
       "</thead>\n",
       "<tbody>\n",
       "\t<tr><th scope=row>sample1</th><td> -9.255547</td><td> 2.574003</td><td>mock</td><td>mock</td><td>sample1</td></tr>\n",
       "\t<tr><th scope=row>sample2</th><td>-14.268017</td><td>-1.047978</td><td>mock</td><td>mock</td><td>sample2</td></tr>\n",
       "\t<tr><th scope=row>sample3</th><td> -8.216937</td><td>-1.328574</td><td>mock</td><td>mock</td><td>sample3</td></tr>\n",
       "\t<tr><th scope=row>sample4</th><td> 10.591838</td><td> 4.149401</td><td>KD  </td><td>KD  </td><td>sample4</td></tr>\n",
       "\t<tr><th scope=row>sample5</th><td> 10.398083</td><td>-2.087520</td><td>KD  </td><td>KD  </td><td>sample5</td></tr>\n",
       "\t<tr><th scope=row>sample6</th><td> 10.750579</td><td>-2.259333</td><td>KD  </td><td>KD  </td><td>sample6</td></tr>\n",
       "</tbody>\n",
       "</table>\n"
      ],
      "text/latex": [
       "A data.frame: 6 × 5\n",
       "\\begin{tabular}{r|lllll}\n",
       "  & PC1 & PC2 & group & Condition & name\\\\\n",
       "  & <dbl> & <dbl> & <fct> & <fct> & <chr>\\\\\n",
       "\\hline\n",
       "\tsample1 &  -9.255547 &  2.574003 & mock & mock & sample1\\\\\n",
       "\tsample2 & -14.268017 & -1.047978 & mock & mock & sample2\\\\\n",
       "\tsample3 &  -8.216937 & -1.328574 & mock & mock & sample3\\\\\n",
       "\tsample4 &  10.591838 &  4.149401 & KD   & KD   & sample4\\\\\n",
       "\tsample5 &  10.398083 & -2.087520 & KD   & KD   & sample5\\\\\n",
       "\tsample6 &  10.750579 & -2.259333 & KD   & KD   & sample6\\\\\n",
       "\\end{tabular}\n"
      ],
      "text/markdown": [
       "\n",
       "A data.frame: 6 × 5\n",
       "\n",
       "| <!--/--> | PC1 &lt;dbl&gt; | PC2 &lt;dbl&gt; | group &lt;fct&gt; | Condition &lt;fct&gt; | name &lt;chr&gt; |\n",
       "|---|---|---|---|---|---|\n",
       "| sample1 |  -9.255547 |  2.574003 | mock | mock | sample1 |\n",
       "| sample2 | -14.268017 | -1.047978 | mock | mock | sample2 |\n",
       "| sample3 |  -8.216937 | -1.328574 | mock | mock | sample3 |\n",
       "| sample4 |  10.591838 |  4.149401 | KD   | KD   | sample4 |\n",
       "| sample5 |  10.398083 | -2.087520 | KD   | KD   | sample5 |\n",
       "| sample6 |  10.750579 | -2.259333 | KD   | KD   | sample6 |\n",
       "\n"
      ],
      "text/plain": [
       "        PC1        PC2       group Condition name   \n",
       "sample1  -9.255547  2.574003 mock  mock      sample1\n",
       "sample2 -14.268017 -1.047978 mock  mock      sample2\n",
       "sample3  -8.216937 -1.328574 mock  mock      sample3\n",
       "sample4  10.591838  4.149401 KD    KD        sample4\n",
       "sample5  10.398083 -2.087520 KD    KD        sample5\n",
       "sample6  10.750579 -2.259333 KD    KD        sample6"
      ]
     },
     "metadata": {},
     "output_type": "display_data"
    }
   ],
   "source": [
    "pca_data <- plotPCA(rld, intgroup = \"Condition\", returnData = TRUE)\n",
    "pca_data"
   ]
  },
  {
   "cell_type": "code",
   "execution_count": 121,
   "id": "f4ef1964",
   "metadata": {},
   "outputs": [
    {
     "data": {
      "image/png": "[encoded data removed]",
      "text/plain": [
       "plot without title"
      ]
     },
     "metadata": {
      "image/png": {
       "height": 240,
       "width": 300
      }
     },
     "output_type": "display_data"
    }
   ],
   "source": [
    "gpt = ggplot(pca_data, aes(x = PC1, y = PC2, color = Condition, label = name)) +\n",
    "  geom_point() +\n",
    "  geom_text()\n",
    "\n",
    "options(repr.plot.width=5, repr.plot.height=4)\n",
    "print(gpt)"
   ]
  },
  {
   "cell_type": "markdown",
   "id": "c6177cc7",
   "metadata": {},
   "source": [
    "## Inspecting size factors"
   ]
  },
  {
   "cell_type": "code",
   "execution_count": 123,
   "id": "73d1f423",
   "metadata": {},
   "outputs": [
    {
     "name": "stdout",
     "output_type": "stream",
     "text": [
      "  sample1   sample2   sample3   sample4   sample5   sample6 \n",
      "0.7268826 1.3086639 1.0773676 0.9660247 1.0421106 1.0126638 \n"
     ]
    }
   ],
   "source": [
    "print(sizeFactors(dds))"
   ]
  },
  {
   "cell_type": "markdown",
   "id": "e5158057",
   "metadata": {},
   "source": [
    "**Manual**"
   ]
  },
  {
   "cell_type": "code",
   "execution_count": 172,
   "id": "bce82aec",
   "metadata": {},
   "outputs": [
    {
     "name": "stdout",
     "output_type": "stream",
     "text": [
      "  sample1   sample2   sample3   sample4   sample5   sample6 \n",
      "0.7268826 1.3086639 1.0773676 0.9660247 1.0421106 1.0126638 \n"
     ]
    }
   ],
   "source": [
    "### init\n",
    "cnt = counts(dds)\n",
    "\n",
    "### calculate Pseudo-reference\n",
    "fun  = function(x){exp(mean(log(x)))}\n",
    "pcnt = apply(cnt, 1, fun)\n",
    "\n",
    "### skipping the genes with genometric mean of zero\n",
    "idx = which(pcnt != 0)\n",
    "cnt  = cnt[idx,]\n",
    "pcnt = pcnt[idx]\n",
    "\n",
    "### calculate size factors\n",
    "fun  = function(x){median(x/pcnt, na.rm = TRUE)}\n",
    "size = apply(cnt, 2, fun)\n",
    "\n",
    "### show results\n",
    "print(size)"
   ]
  },
  {
   "cell_type": "markdown",
   "id": "31253e46",
   "metadata": {},
   "source": [
    "**Normalize count**"
   ]
  },
  {
   "cell_type": "code",
   "execution_count": 237,
   "id": "3e6c724d",
   "metadata": {},
   "outputs": [
    {
     "data": {
      "text/html": [
       "<table class=\"dataframe\">\n",
       "<caption>A matrix: 6 × 6 of type dbl</caption>\n",
       "<thead>\n",
       "\t<tr><th></th><th scope=col>sample1</th><th scope=col>sample2</th><th scope=col>sample3</th><th scope=col>sample4</th><th scope=col>sample5</th><th scope=col>sample6</th></tr>\n",
       "</thead>\n",
       "<tbody>\n",
       "\t<tr><th scope=row>ENSG00000223972</th><td> 0.00000</td><td> 0.000000</td><td> 0.000000</td><td> 0.00000</td><td> 0.000000</td><td> 0.9874946</td></tr>\n",
       "\t<tr><th scope=row>ENSG00000227232</th><td>19.26033</td><td>21.395868</td><td>15.779201</td><td>41.40681</td><td>15.353457</td><td>12.8374296</td></tr>\n",
       "\t<tr><th scope=row>ENSG00000278267</th><td>11.00590</td><td> 3.056553</td><td> 2.784565</td><td> 1.03517</td><td> 0.959591</td><td> 5.9249675</td></tr>\n",
       "\t<tr><th scope=row>ENSG00000243485</th><td> 0.00000</td><td> 0.000000</td><td> 0.000000</td><td> 0.00000</td><td> 0.000000</td><td> 0.0000000</td></tr>\n",
       "\t<tr><th scope=row>ENSG00000284332</th><td> 0.00000</td><td> 0.000000</td><td> 0.000000</td><td> 0.00000</td><td> 0.000000</td><td> 0.0000000</td></tr>\n",
       "\t<tr><th scope=row>ENSG00000237613</th><td> 0.00000</td><td> 0.000000</td><td> 0.000000</td><td> 0.00000</td><td> 0.000000</td><td> 0.0000000</td></tr>\n",
       "</tbody>\n",
       "</table>\n"
      ],
      "text/latex": [
       "A matrix: 6 × 6 of type dbl\n",
       "\\begin{tabular}{r|llllll}\n",
       "  & sample1 & sample2 & sample3 & sample4 & sample5 & sample6\\\\\n",
       "\\hline\n",
       "\tENSG00000223972 &  0.00000 &  0.000000 &  0.000000 &  0.00000 &  0.000000 &  0.9874946\\\\\n",
       "\tENSG00000227232 & 19.26033 & 21.395868 & 15.779201 & 41.40681 & 15.353457 & 12.8374296\\\\\n",
       "\tENSG00000278267 & 11.00590 &  3.056553 &  2.784565 &  1.03517 &  0.959591 &  5.9249675\\\\\n",
       "\tENSG00000243485 &  0.00000 &  0.000000 &  0.000000 &  0.00000 &  0.000000 &  0.0000000\\\\\n",
       "\tENSG00000284332 &  0.00000 &  0.000000 &  0.000000 &  0.00000 &  0.000000 &  0.0000000\\\\\n",
       "\tENSG00000237613 &  0.00000 &  0.000000 &  0.000000 &  0.00000 &  0.000000 &  0.0000000\\\\\n",
       "\\end{tabular}\n"
      ],
      "text/markdown": [
       "\n",
       "A matrix: 6 × 6 of type dbl\n",
       "\n",
       "| <!--/--> | sample1 | sample2 | sample3 | sample4 | sample5 | sample6 |\n",
       "|---|---|---|---|---|---|---|\n",
       "| ENSG00000223972 |  0.00000 |  0.000000 |  0.000000 |  0.00000 |  0.000000 |  0.9874946 |\n",
       "| ENSG00000227232 | 19.26033 | 21.395868 | 15.779201 | 41.40681 | 15.353457 | 12.8374296 |\n",
       "| ENSG00000278267 | 11.00590 |  3.056553 |  2.784565 |  1.03517 |  0.959591 |  5.9249675 |\n",
       "| ENSG00000243485 |  0.00000 |  0.000000 |  0.000000 |  0.00000 |  0.000000 |  0.0000000 |\n",
       "| ENSG00000284332 |  0.00000 |  0.000000 |  0.000000 |  0.00000 |  0.000000 |  0.0000000 |\n",
       "| ENSG00000237613 |  0.00000 |  0.000000 |  0.000000 |  0.00000 |  0.000000 |  0.0000000 |\n",
       "\n"
      ],
      "text/plain": [
       "                sample1  sample2   sample3   sample4  sample5   sample6   \n",
       "ENSG00000223972  0.00000  0.000000  0.000000  0.00000  0.000000  0.9874946\n",
       "ENSG00000227232 19.26033 21.395868 15.779201 41.40681 15.353457 12.8374296\n",
       "ENSG00000278267 11.00590  3.056553  2.784565  1.03517  0.959591  5.9249675\n",
       "ENSG00000243485  0.00000  0.000000  0.000000  0.00000  0.000000  0.0000000\n",
       "ENSG00000284332  0.00000  0.000000  0.000000  0.00000  0.000000  0.0000000\n",
       "ENSG00000237613  0.00000  0.000000  0.000000  0.00000  0.000000  0.0000000"
      ]
     },
     "metadata": {},
     "output_type": "display_data"
    }
   ],
   "source": [
    "fun = function(x){x/size}\n",
    "cnt = counts(dds)\n",
    "mat = apply(cnt, 1, fun)\n",
    "mat = t(mat)\n",
    "head(mat)"
   ]
  },
  {
   "cell_type": "code",
   "execution_count": 238,
   "id": "34e1c4f3",
   "metadata": {},
   "outputs": [
    {
     "data": {
      "text/html": [
       "<table class=\"dataframe\">\n",
       "<caption>A matrix: 6 × 6 of type dbl</caption>\n",
       "<thead>\n",
       "\t<tr><th></th><th scope=col>sample1</th><th scope=col>sample2</th><th scope=col>sample3</th><th scope=col>sample4</th><th scope=col>sample5</th><th scope=col>sample6</th></tr>\n",
       "</thead>\n",
       "<tbody>\n",
       "\t<tr><th scope=row>ENSG00000223972</th><td> 0.00000</td><td> 0.000000</td><td> 0.000000</td><td> 0.00000</td><td> 0.000000</td><td> 0.9874946</td></tr>\n",
       "\t<tr><th scope=row>ENSG00000227232</th><td>19.26033</td><td>21.395868</td><td>15.779201</td><td>41.40681</td><td>15.353457</td><td>12.8374296</td></tr>\n",
       "\t<tr><th scope=row>ENSG00000278267</th><td>11.00590</td><td> 3.056553</td><td> 2.784565</td><td> 1.03517</td><td> 0.959591</td><td> 5.9249675</td></tr>\n",
       "\t<tr><th scope=row>ENSG00000243485</th><td> 0.00000</td><td> 0.000000</td><td> 0.000000</td><td> 0.00000</td><td> 0.000000</td><td> 0.0000000</td></tr>\n",
       "\t<tr><th scope=row>ENSG00000284332</th><td> 0.00000</td><td> 0.000000</td><td> 0.000000</td><td> 0.00000</td><td> 0.000000</td><td> 0.0000000</td></tr>\n",
       "\t<tr><th scope=row>ENSG00000237613</th><td> 0.00000</td><td> 0.000000</td><td> 0.000000</td><td> 0.00000</td><td> 0.000000</td><td> 0.0000000</td></tr>\n",
       "</tbody>\n",
       "</table>\n"
      ],
      "text/latex": [
       "A matrix: 6 × 6 of type dbl\n",
       "\\begin{tabular}{r|llllll}\n",
       "  & sample1 & sample2 & sample3 & sample4 & sample5 & sample6\\\\\n",
       "\\hline\n",
       "\tENSG00000223972 &  0.00000 &  0.000000 &  0.000000 &  0.00000 &  0.000000 &  0.9874946\\\\\n",
       "\tENSG00000227232 & 19.26033 & 21.395868 & 15.779201 & 41.40681 & 15.353457 & 12.8374296\\\\\n",
       "\tENSG00000278267 & 11.00590 &  3.056553 &  2.784565 &  1.03517 &  0.959591 &  5.9249675\\\\\n",
       "\tENSG00000243485 &  0.00000 &  0.000000 &  0.000000 &  0.00000 &  0.000000 &  0.0000000\\\\\n",
       "\tENSG00000284332 &  0.00000 &  0.000000 &  0.000000 &  0.00000 &  0.000000 &  0.0000000\\\\\n",
       "\tENSG00000237613 &  0.00000 &  0.000000 &  0.000000 &  0.00000 &  0.000000 &  0.0000000\\\\\n",
       "\\end{tabular}\n"
      ],
      "text/markdown": [
       "\n",
       "A matrix: 6 × 6 of type dbl\n",
       "\n",
       "| <!--/--> | sample1 | sample2 | sample3 | sample4 | sample5 | sample6 |\n",
       "|---|---|---|---|---|---|---|\n",
       "| ENSG00000223972 |  0.00000 |  0.000000 |  0.000000 |  0.00000 |  0.000000 |  0.9874946 |\n",
       "| ENSG00000227232 | 19.26033 | 21.395868 | 15.779201 | 41.40681 | 15.353457 | 12.8374296 |\n",
       "| ENSG00000278267 | 11.00590 |  3.056553 |  2.784565 |  1.03517 |  0.959591 |  5.9249675 |\n",
       "| ENSG00000243485 |  0.00000 |  0.000000 |  0.000000 |  0.00000 |  0.000000 |  0.0000000 |\n",
       "| ENSG00000284332 |  0.00000 |  0.000000 |  0.000000 |  0.00000 |  0.000000 |  0.0000000 |\n",
       "| ENSG00000237613 |  0.00000 |  0.000000 |  0.000000 |  0.00000 |  0.000000 |  0.0000000 |\n",
       "\n"
      ],
      "text/plain": [
       "                sample1  sample2   sample3   sample4  sample5   sample6   \n",
       "ENSG00000223972  0.00000  0.000000  0.000000  0.00000  0.000000  0.9874946\n",
       "ENSG00000227232 19.26033 21.395868 15.779201 41.40681 15.353457 12.8374296\n",
       "ENSG00000278267 11.00590  3.056553  2.784565  1.03517  0.959591  5.9249675\n",
       "ENSG00000243485  0.00000  0.000000  0.000000  0.00000  0.000000  0.0000000\n",
       "ENSG00000284332  0.00000  0.000000  0.000000  0.00000  0.000000  0.0000000\n",
       "ENSG00000237613  0.00000  0.000000  0.000000  0.00000  0.000000  0.0000000"
      ]
     },
     "metadata": {},
     "output_type": "display_data"
    }
   ],
   "source": [
    "cnt = counts(dds, normalize=TRUE)\n",
    "head(cnt)"
   ]
  },
  {
   "cell_type": "code",
   "execution_count": 243,
   "id": "f833020b",
   "metadata": {},
   "outputs": [
    {
     "data": {
      "text/html": [
       "TRUE"
      ],
      "text/latex": [
       "TRUE"
      ],
      "text/markdown": [
       "TRUE"
      ],
      "text/plain": [
       "[1] TRUE"
      ]
     },
     "metadata": {},
     "output_type": "display_data"
    }
   ],
   "source": [
    "all((mat - cnt) < 10^(-10))"
   ]
  },
  {
   "cell_type": "markdown",
   "id": "4b136c65",
   "metadata": {},
   "source": [
    "**Compare Size Factors to sequencing depth.**"
   ]
  },
  {
   "cell_type": "code",
   "execution_count": 174,
   "id": "5a9e706c",
   "metadata": {},
   "outputs": [],
   "source": [
    "cnt = counts(dds)\n",
    "lib = apply(cnt, 2, sum)"
   ]
  },
  {
   "cell_type": "code",
   "execution_count": 177,
   "id": "dfc9c398",
   "metadata": {},
   "outputs": [
    {
     "data": {
      "image/png": "[encoded data removed]",
      "text/plain": [
       "plot without title"
      ]
     },
     "metadata": {
      "image/png": {
       "height": 240,
       "width": 300
      }
     },
     "output_type": "display_data"
    }
   ],
   "source": [
    "options(repr.plot.width=5, repr.plot.height=4)\n",
    "plot(size, lib, pch=20, xlab = \"Size Factor\", ylab = \"Library Size\")"
   ]
  },
  {
   "cell_type": "markdown",
   "id": "84320a0b",
   "metadata": {},
   "source": [
    "## Dispersion plot"
   ]
  },
  {
   "cell_type": "code",
   "execution_count": 182,
   "id": "1b6fb2b8",
   "metadata": {},
   "outputs": [
    {
     "data": {
      "image/png": "[encoded data removed]",
      "text/plain": [
       "plot without title"
      ]
     },
     "metadata": {
      "image/png": {
       "height": 360,
       "width": 420
      }
     },
     "output_type": "display_data"
    }
   ],
   "source": [
    "options(repr.plot.width=7, repr.plot.height=6)\n",
    "plotDispEsts(dds)"
   ]
  },
  {
   "cell_type": "markdown",
   "id": "b92ace00",
   "metadata": {},
   "source": [
    "## DESeq2 results"
   ]
  },
  {
   "cell_type": "markdown",
   "id": "fdf218e7",
   "metadata": {},
   "source": [
    "[log2FoldChange calculation in DESeq2 output](https://support.bioconductor.org/p/77021/#77022)"
   ]
  },
  {
   "cell_type": "code",
   "execution_count": 183,
   "id": "8a7e0a53",
   "metadata": {},
   "outputs": [
    {
     "data": {
      "text/html": [
       "<style>\n",
       ".list-inline {list-style: none; margin:0; padding: 0}\n",
       ".list-inline>li {display: inline-block}\n",
       ".list-inline>li:not(:last-child)::after {content: \"\\00b7\"; padding: 0 .5ex}\n",
       "</style>\n",
       "<ol class=list-inline><li>'Intercept'</li><li>'Condition_mock_vs_KD'</li></ol>\n"
      ],
      "text/latex": [
       "\\begin{enumerate*}\n",
       "\\item 'Intercept'\n",
       "\\item 'Condition\\_mock\\_vs\\_KD'\n",
       "\\end{enumerate*}\n"
      ],
      "text/markdown": [
       "1. 'Intercept'\n",
       "2. 'Condition_mock_vs_KD'\n",
       "\n",
       "\n"
      ],
      "text/plain": [
       "[1] \"Intercept\"            \"Condition_mock_vs_KD\""
      ]
     },
     "metadata": {},
     "output_type": "display_data"
    }
   ],
   "source": [
    "resultsNames(dds)"
   ]
  },
  {
   "cell_type": "code",
   "execution_count": 184,
   "id": "5c336cb9",
   "metadata": {},
   "outputs": [
    {
     "data": {
      "text/html": [
       "<style>\n",
       ".list-inline {list-style: none; margin:0; padding: 0}\n",
       ".list-inline>li {display: inline-block}\n",
       ".list-inline>li:not(:last-child)::after {content: \"\\00b7\"; padding: 0 .5ex}\n",
       "</style>\n",
       "<ol class=list-inline><li>mock</li><li>mock</li><li>mock</li><li>KD</li><li>KD</li><li>KD</li></ol>\n",
       "\n",
       "<details>\n",
       "\t<summary style=display:list-item;cursor:pointer>\n",
       "\t\t<strong>Levels</strong>:\n",
       "\t</summary>\n",
       "\t<style>\n",
       "\t.list-inline {list-style: none; margin:0; padding: 0}\n",
       "\t.list-inline>li {display: inline-block}\n",
       "\t.list-inline>li:not(:last-child)::after {content: \"\\00b7\"; padding: 0 .5ex}\n",
       "\t</style>\n",
       "\t<ol class=list-inline><li>'KD'</li><li>'mock'</li></ol>\n",
       "</details>"
      ],
      "text/latex": [
       "\\begin{enumerate*}\n",
       "\\item mock\n",
       "\\item mock\n",
       "\\item mock\n",
       "\\item KD\n",
       "\\item KD\n",
       "\\item KD\n",
       "\\end{enumerate*}\n",
       "\n",
       "\\emph{Levels}: \\begin{enumerate*}\n",
       "\\item 'KD'\n",
       "\\item 'mock'\n",
       "\\end{enumerate*}\n"
      ],
      "text/markdown": [
       "1. mock\n",
       "2. mock\n",
       "3. mock\n",
       "4. KD\n",
       "5. KD\n",
       "6. KD\n",
       "\n",
       "\n",
       "\n",
       "**Levels**: 1. 'KD'\n",
       "2. 'mock'\n",
       "\n",
       "\n"
      ],
      "text/plain": [
       "[1] mock mock mock KD   KD   KD  \n",
       "Levels: KD mock"
      ]
     },
     "metadata": {},
     "output_type": "display_data"
    }
   ],
   "source": [
    "dds$Condition"
   ]
  },
  {
   "cell_type": "code",
   "execution_count": 185,
   "id": "ee3156bc",
   "metadata": {},
   "outputs": [
    {
     "name": "stderr",
     "output_type": "stream",
     "text": [
      "using pre-existing size factors\n",
      "\n",
      "estimating dispersions\n",
      "\n",
      "found already estimated dispersions, replacing these\n",
      "\n",
      "gene-wise dispersion estimates\n",
      "\n",
      "mean-dispersion relationship\n",
      "\n",
      "final dispersion estimates\n",
      "\n",
      "fitting model and testing\n",
      "\n"
     ]
    },
    {
     "data": {
      "text/html": [
       "<style>\n",
       ".list-inline {list-style: none; margin:0; padding: 0}\n",
       ".list-inline>li {display: inline-block}\n",
       ".list-inline>li:not(:last-child)::after {content: \"\\00b7\"; padding: 0 .5ex}\n",
       "</style>\n",
       "<ol class=list-inline><li>'Intercept'</li><li>'Condition_KD_vs_mock'</li></ol>\n"
      ],
      "text/latex": [
       "\\begin{enumerate*}\n",
       "\\item 'Intercept'\n",
       "\\item 'Condition\\_KD\\_vs\\_mock'\n",
       "\\end{enumerate*}\n"
      ],
      "text/markdown": [
       "1. 'Intercept'\n",
       "2. 'Condition_KD_vs_mock'\n",
       "\n",
       "\n"
      ],
      "text/plain": [
       "[1] \"Intercept\"            \"Condition_KD_vs_mock\""
      ]
     },
     "metadata": {},
     "output_type": "display_data"
    }
   ],
   "source": [
    "dds$Condition <- relevel(dds$Condition, ref = \"mock\")\n",
    "dds <- DESeq(dds)\n",
    "resultsNames(dds)"
   ]
  },
  {
   "cell_type": "code",
   "execution_count": 187,
   "id": "ef50c8c8",
   "metadata": {},
   "outputs": [
    {
     "data": {
      "text/html": [
       "<table class=\"dataframe\">\n",
       "<caption>A tibble: 6 × 7</caption>\n",
       "<thead>\n",
       "\t<tr><th scope=col>ENSEMBL</th><th scope=col>baseMean</th><th scope=col>log2FoldChange</th><th scope=col>lfcSE</th><th scope=col>stat</th><th scope=col>pvalue</th><th scope=col>padj</th></tr>\n",
       "\t<tr><th scope=col>&lt;chr&gt;</th><th scope=col>&lt;dbl&gt;</th><th scope=col>&lt;dbl&gt;</th><th scope=col>&lt;dbl&gt;</th><th scope=col>&lt;dbl&gt;</th><th scope=col>&lt;dbl&gt;</th><th scope=col>&lt;dbl&gt;</th></tr>\n",
       "</thead>\n",
       "<tbody>\n",
       "\t<tr><td>ENSG00000223972</td><td> 0.1645824</td><td> 0.9642948</td><td>4.0804729</td><td> 0.2363194</td><td>0.8131849</td><td>       NA</td></tr>\n",
       "\t<tr><td>ENSG00000227232</td><td>21.0055160</td><td> 0.2959775</td><td>0.5398165</td><td> 0.5482928</td><td>0.5834909</td><td>0.7405315</td></tr>\n",
       "\t<tr><td>ENSG00000278267</td><td> 4.1277918</td><td>-1.0352320</td><td>1.1421509</td><td>-0.9063882</td><td>0.3647304</td><td>0.5557903</td></tr>\n",
       "\t<tr><td>ENSG00000243485</td><td> 0.0000000</td><td>        NA</td><td>       NA</td><td>        NA</td><td>       NA</td><td>       NA</td></tr>\n",
       "\t<tr><td>ENSG00000284332</td><td> 0.0000000</td><td>        NA</td><td>       NA</td><td>        NA</td><td>       NA</td><td>       NA</td></tr>\n",
       "\t<tr><td>ENSG00000237613</td><td> 0.0000000</td><td>        NA</td><td>       NA</td><td>        NA</td><td>       NA</td><td>       NA</td></tr>\n",
       "</tbody>\n",
       "</table>\n"
      ],
      "text/latex": [
       "A tibble: 6 × 7\n",
       "\\begin{tabular}{lllllll}\n",
       " ENSEMBL & baseMean & log2FoldChange & lfcSE & stat & pvalue & padj\\\\\n",
       " <chr> & <dbl> & <dbl> & <dbl> & <dbl> & <dbl> & <dbl>\\\\\n",
       "\\hline\n",
       "\t ENSG00000223972 &  0.1645824 &  0.9642948 & 4.0804729 &  0.2363194 & 0.8131849 &        NA\\\\\n",
       "\t ENSG00000227232 & 21.0055160 &  0.2959775 & 0.5398165 &  0.5482928 & 0.5834909 & 0.7405315\\\\\n",
       "\t ENSG00000278267 &  4.1277918 & -1.0352320 & 1.1421509 & -0.9063882 & 0.3647304 & 0.5557903\\\\\n",
       "\t ENSG00000243485 &  0.0000000 &         NA &        NA &         NA &        NA &        NA\\\\\n",
       "\t ENSG00000284332 &  0.0000000 &         NA &        NA &         NA &        NA &        NA\\\\\n",
       "\t ENSG00000237613 &  0.0000000 &         NA &        NA &         NA &        NA &        NA\\\\\n",
       "\\end{tabular}\n"
      ],
      "text/markdown": [
       "\n",
       "A tibble: 6 × 7\n",
       "\n",
       "| ENSEMBL &lt;chr&gt; | baseMean &lt;dbl&gt; | log2FoldChange &lt;dbl&gt; | lfcSE &lt;dbl&gt; | stat &lt;dbl&gt; | pvalue &lt;dbl&gt; | padj &lt;dbl&gt; |\n",
       "|---|---|---|---|---|---|---|\n",
       "| ENSG00000223972 |  0.1645824 |  0.9642948 | 4.0804729 |  0.2363194 | 0.8131849 |        NA |\n",
       "| ENSG00000227232 | 21.0055160 |  0.2959775 | 0.5398165 |  0.5482928 | 0.5834909 | 0.7405315 |\n",
       "| ENSG00000278267 |  4.1277918 | -1.0352320 | 1.1421509 | -0.9063882 | 0.3647304 | 0.5557903 |\n",
       "| ENSG00000243485 |  0.0000000 |         NA |        NA |         NA |        NA |        NA |\n",
       "| ENSG00000284332 |  0.0000000 |         NA |        NA |         NA |        NA |        NA |\n",
       "| ENSG00000237613 |  0.0000000 |         NA |        NA |         NA |        NA |        NA |\n",
       "\n"
      ],
      "text/plain": [
       "  ENSEMBL         baseMean   log2FoldChange lfcSE     stat       pvalue   \n",
       "1 ENSG00000223972  0.1645824  0.9642948     4.0804729  0.2363194 0.8131849\n",
       "2 ENSG00000227232 21.0055160  0.2959775     0.5398165  0.5482928 0.5834909\n",
       "3 ENSG00000278267  4.1277918 -1.0352320     1.1421509 -0.9063882 0.3647304\n",
       "4 ENSG00000243485  0.0000000         NA            NA         NA        NA\n",
       "5 ENSG00000284332  0.0000000         NA            NA         NA        NA\n",
       "6 ENSG00000237613  0.0000000         NA            NA         NA        NA\n",
       "  padj     \n",
       "1        NA\n",
       "2 0.7405315\n",
       "3 0.5557903\n",
       "4        NA\n",
       "5        NA\n",
       "6        NA"
      ]
     },
     "metadata": {},
     "output_type": "display_data"
    }
   ],
   "source": [
    "res = results(dds, name = \"Condition_KD_vs_mock\")\n",
    "res_tbl = as_tibble(res, rownames = \"ENSEMBL\")\n",
    "head(res_tbl)"
   ]
  },
  {
   "cell_type": "code",
   "execution_count": null,
   "id": "3cac8755",
   "metadata": {},
   "outputs": [],
   "source": []
  },
  {
   "cell_type": "code",
   "execution_count": 245,
   "id": "e0ed7c52",
   "metadata": {},
   "outputs": [
    {
     "name": "stderr",
     "output_type": "stream",
     "text": [
      "using pre-existing size factors\n",
      "\n",
      "estimating dispersions\n",
      "\n",
      "found already estimated dispersions, replacing these\n",
      "\n",
      "gene-wise dispersion estimates\n",
      "\n",
      "mean-dispersion relationship\n",
      "\n",
      "final dispersion estimates\n",
      "\n",
      "fitting model and testing\n",
      "\n"
     ]
    }
   ],
   "source": [
    "dds_no_prior = DESeq(dds, betaPrior=FALSE)"
   ]
  },
  {
   "cell_type": "code",
   "execution_count": 246,
   "id": "062ad895",
   "metadata": {},
   "outputs": [
    {
     "data": {
      "text/html": [
       "<table class=\"dataframe\">\n",
       "<caption>A tibble: 6 × 7</caption>\n",
       "<thead>\n",
       "\t<tr><th scope=col>ENSEMBL</th><th scope=col>baseMean</th><th scope=col>log2FoldChange</th><th scope=col>lfcSE</th><th scope=col>stat</th><th scope=col>pvalue</th><th scope=col>padj</th></tr>\n",
       "\t<tr><th scope=col>&lt;chr&gt;</th><th scope=col>&lt;dbl&gt;</th><th scope=col>&lt;dbl&gt;</th><th scope=col>&lt;dbl&gt;</th><th scope=col>&lt;dbl&gt;</th><th scope=col>&lt;dbl&gt;</th><th scope=col>&lt;dbl&gt;</th></tr>\n",
       "</thead>\n",
       "<tbody>\n",
       "\t<tr><td>ENSG00000223972</td><td> 0.1645824</td><td> 0.9642948</td><td>4.0804729</td><td> 0.2363194</td><td>0.8131849</td><td>       NA</td></tr>\n",
       "\t<tr><td>ENSG00000227232</td><td>21.0055160</td><td> 0.2959775</td><td>0.5398165</td><td> 0.5482928</td><td>0.5834909</td><td>0.7405315</td></tr>\n",
       "\t<tr><td>ENSG00000278267</td><td> 4.1277918</td><td>-1.0352320</td><td>1.1421509</td><td>-0.9063882</td><td>0.3647304</td><td>0.5557903</td></tr>\n",
       "\t<tr><td>ENSG00000243485</td><td> 0.0000000</td><td>        NA</td><td>       NA</td><td>        NA</td><td>       NA</td><td>       NA</td></tr>\n",
       "\t<tr><td>ENSG00000284332</td><td> 0.0000000</td><td>        NA</td><td>       NA</td><td>        NA</td><td>       NA</td><td>       NA</td></tr>\n",
       "\t<tr><td>ENSG00000237613</td><td> 0.0000000</td><td>        NA</td><td>       NA</td><td>        NA</td><td>       NA</td><td>       NA</td></tr>\n",
       "</tbody>\n",
       "</table>\n"
      ],
      "text/latex": [
       "A tibble: 6 × 7\n",
       "\\begin{tabular}{lllllll}\n",
       " ENSEMBL & baseMean & log2FoldChange & lfcSE & stat & pvalue & padj\\\\\n",
       " <chr> & <dbl> & <dbl> & <dbl> & <dbl> & <dbl> & <dbl>\\\\\n",
       "\\hline\n",
       "\t ENSG00000223972 &  0.1645824 &  0.9642948 & 4.0804729 &  0.2363194 & 0.8131849 &        NA\\\\\n",
       "\t ENSG00000227232 & 21.0055160 &  0.2959775 & 0.5398165 &  0.5482928 & 0.5834909 & 0.7405315\\\\\n",
       "\t ENSG00000278267 &  4.1277918 & -1.0352320 & 1.1421509 & -0.9063882 & 0.3647304 & 0.5557903\\\\\n",
       "\t ENSG00000243485 &  0.0000000 &         NA &        NA &         NA &        NA &        NA\\\\\n",
       "\t ENSG00000284332 &  0.0000000 &         NA &        NA &         NA &        NA &        NA\\\\\n",
       "\t ENSG00000237613 &  0.0000000 &         NA &        NA &         NA &        NA &        NA\\\\\n",
       "\\end{tabular}\n"
      ],
      "text/markdown": [
       "\n",
       "A tibble: 6 × 7\n",
       "\n",
       "| ENSEMBL &lt;chr&gt; | baseMean &lt;dbl&gt; | log2FoldChange &lt;dbl&gt; | lfcSE &lt;dbl&gt; | stat &lt;dbl&gt; | pvalue &lt;dbl&gt; | padj &lt;dbl&gt; |\n",
       "|---|---|---|---|---|---|---|\n",
       "| ENSG00000223972 |  0.1645824 |  0.9642948 | 4.0804729 |  0.2363194 | 0.8131849 |        NA |\n",
       "| ENSG00000227232 | 21.0055160 |  0.2959775 | 0.5398165 |  0.5482928 | 0.5834909 | 0.7405315 |\n",
       "| ENSG00000278267 |  4.1277918 | -1.0352320 | 1.1421509 | -0.9063882 | 0.3647304 | 0.5557903 |\n",
       "| ENSG00000243485 |  0.0000000 |         NA |        NA |         NA |        NA |        NA |\n",
       "| ENSG00000284332 |  0.0000000 |         NA |        NA |         NA |        NA |        NA |\n",
       "| ENSG00000237613 |  0.0000000 |         NA |        NA |         NA |        NA |        NA |\n",
       "\n"
      ],
      "text/plain": [
       "  ENSEMBL         baseMean   log2FoldChange lfcSE     stat       pvalue   \n",
       "1 ENSG00000223972  0.1645824  0.9642948     4.0804729  0.2363194 0.8131849\n",
       "2 ENSG00000227232 21.0055160  0.2959775     0.5398165  0.5482928 0.5834909\n",
       "3 ENSG00000278267  4.1277918 -1.0352320     1.1421509 -0.9063882 0.3647304\n",
       "4 ENSG00000243485  0.0000000         NA            NA         NA        NA\n",
       "5 ENSG00000284332  0.0000000         NA            NA         NA        NA\n",
       "6 ENSG00000237613  0.0000000         NA            NA         NA        NA\n",
       "  padj     \n",
       "1        NA\n",
       "2 0.7405315\n",
       "3 0.5557903\n",
       "4        NA\n",
       "5        NA\n",
       "6        NA"
      ]
     },
     "metadata": {},
     "output_type": "display_data"
    }
   ],
   "source": [
    "res_np     = results(dds_no_prior, name = \"Condition_KD_vs_mock\")\n",
    "res_np_tbl = as_tibble(res, rownames = \"ENSEMBL\")\n",
    "head(res_np_tbl)"
   ]
  },
  {
   "cell_type": "markdown",
   "id": "095fad56",
   "metadata": {},
   "source": [
    "**Manual | BaseMean**"
   ]
  },
  {
   "cell_type": "code",
   "execution_count": 192,
   "id": "83ade053",
   "metadata": {},
   "outputs": [
    {
     "data": {
      "text/html": [
       "<table class=\"dataframe\">\n",
       "<caption>A matrix: 6 × 6 of type dbl</caption>\n",
       "<thead>\n",
       "\t<tr><th></th><th scope=col>sample1</th><th scope=col>sample2</th><th scope=col>sample3</th><th scope=col>sample4</th><th scope=col>sample5</th><th scope=col>sample6</th></tr>\n",
       "</thead>\n",
       "<tbody>\n",
       "\t<tr><th scope=row>ENSG00000223972</th><td> 0.00000</td><td> 0.000000</td><td> 0.000000</td><td> 0.00000</td><td> 0.000000</td><td> 0.9874946</td></tr>\n",
       "\t<tr><th scope=row>ENSG00000227232</th><td>19.26033</td><td>21.395868</td><td>15.779201</td><td>41.40681</td><td>15.353457</td><td>12.8374296</td></tr>\n",
       "\t<tr><th scope=row>ENSG00000278267</th><td>11.00590</td><td> 3.056553</td><td> 2.784565</td><td> 1.03517</td><td> 0.959591</td><td> 5.9249675</td></tr>\n",
       "\t<tr><th scope=row>ENSG00000243485</th><td> 0.00000</td><td> 0.000000</td><td> 0.000000</td><td> 0.00000</td><td> 0.000000</td><td> 0.0000000</td></tr>\n",
       "\t<tr><th scope=row>ENSG00000284332</th><td> 0.00000</td><td> 0.000000</td><td> 0.000000</td><td> 0.00000</td><td> 0.000000</td><td> 0.0000000</td></tr>\n",
       "\t<tr><th scope=row>ENSG00000237613</th><td> 0.00000</td><td> 0.000000</td><td> 0.000000</td><td> 0.00000</td><td> 0.000000</td><td> 0.0000000</td></tr>\n",
       "</tbody>\n",
       "</table>\n"
      ],
      "text/latex": [
       "A matrix: 6 × 6 of type dbl\n",
       "\\begin{tabular}{r|llllll}\n",
       "  & sample1 & sample2 & sample3 & sample4 & sample5 & sample6\\\\\n",
       "\\hline\n",
       "\tENSG00000223972 &  0.00000 &  0.000000 &  0.000000 &  0.00000 &  0.000000 &  0.9874946\\\\\n",
       "\tENSG00000227232 & 19.26033 & 21.395868 & 15.779201 & 41.40681 & 15.353457 & 12.8374296\\\\\n",
       "\tENSG00000278267 & 11.00590 &  3.056553 &  2.784565 &  1.03517 &  0.959591 &  5.9249675\\\\\n",
       "\tENSG00000243485 &  0.00000 &  0.000000 &  0.000000 &  0.00000 &  0.000000 &  0.0000000\\\\\n",
       "\tENSG00000284332 &  0.00000 &  0.000000 &  0.000000 &  0.00000 &  0.000000 &  0.0000000\\\\\n",
       "\tENSG00000237613 &  0.00000 &  0.000000 &  0.000000 &  0.00000 &  0.000000 &  0.0000000\\\\\n",
       "\\end{tabular}\n"
      ],
      "text/markdown": [
       "\n",
       "A matrix: 6 × 6 of type dbl\n",
       "\n",
       "| <!--/--> | sample1 | sample2 | sample3 | sample4 | sample5 | sample6 |\n",
       "|---|---|---|---|---|---|---|\n",
       "| ENSG00000223972 |  0.00000 |  0.000000 |  0.000000 |  0.00000 |  0.000000 |  0.9874946 |\n",
       "| ENSG00000227232 | 19.26033 | 21.395868 | 15.779201 | 41.40681 | 15.353457 | 12.8374296 |\n",
       "| ENSG00000278267 | 11.00590 |  3.056553 |  2.784565 |  1.03517 |  0.959591 |  5.9249675 |\n",
       "| ENSG00000243485 |  0.00000 |  0.000000 |  0.000000 |  0.00000 |  0.000000 |  0.0000000 |\n",
       "| ENSG00000284332 |  0.00000 |  0.000000 |  0.000000 |  0.00000 |  0.000000 |  0.0000000 |\n",
       "| ENSG00000237613 |  0.00000 |  0.000000 |  0.000000 |  0.00000 |  0.000000 |  0.0000000 |\n",
       "\n"
      ],
      "text/plain": [
       "                sample1  sample2   sample3   sample4  sample5   sample6   \n",
       "ENSG00000223972  0.00000  0.000000  0.000000  0.00000  0.000000  0.9874946\n",
       "ENSG00000227232 19.26033 21.395868 15.779201 41.40681 15.353457 12.8374296\n",
       "ENSG00000278267 11.00590  3.056553  2.784565  1.03517  0.959591  5.9249675\n",
       "ENSG00000243485  0.00000  0.000000  0.000000  0.00000  0.000000  0.0000000\n",
       "ENSG00000284332  0.00000  0.000000  0.000000  0.00000  0.000000  0.0000000\n",
       "ENSG00000237613  0.00000  0.000000  0.000000  0.00000  0.000000  0.0000000"
      ]
     },
     "metadata": {},
     "output_type": "display_data"
    }
   ],
   "source": [
    "cnt = counts(dds, normalize=TRUE)\n",
    "head(cnt)"
   ]
  },
  {
   "cell_type": "code",
   "execution_count": 191,
   "id": "4d53dac1",
   "metadata": {},
   "outputs": [
    {
     "name": "stdout",
     "output_type": "stream",
     "text": [
      "ENSG00000223972 ENSG00000227232 ENSG00000278267 ENSG00000243485 ENSG00000284332 \n",
      "      0.1645824      21.0055160       4.1277918       0.0000000       0.0000000 \n",
      "ENSG00000237613 \n",
      "      0.0000000 \n",
      "+++++++++++++++++++++++++\n",
      "[1] TRUE\n"
     ]
    }
   ],
   "source": [
    "cnt = counts(dds, normalize=TRUE)\n",
    "x   = apply(cnt, 1, mean)\n",
    "\n",
    "print(head(x))\n",
    "cat(\"+++++++++++++++++++++++++\\n\")\n",
    "print(all(x == res_tbl$baseMean))"
   ]
  },
  {
   "cell_type": "markdown",
   "id": "4430c1e5",
   "metadata": {},
   "source": [
    "**Manual | Log2FC**\n",
    "\n",
    "- [How does DESeq2 handle zero counts in one condition?](https://support.bioconductor.org/p/64014/#64016)"
   ]
  },
  {
   "cell_type": "markdown",
   "id": "57800110",
   "metadata": {},
   "source": [
    "calculate the Log2FC of non-zero counts"
   ]
  },
  {
   "cell_type": "code",
   "execution_count": 230,
   "id": "5ec4d772",
   "metadata": {},
   "outputs": [],
   "source": [
    "### init\n",
    "cnt = counts(dds, normalize=TRUE)\n",
    "\n",
    "### calculate Pseudo-reference\n",
    "fun  = function(x){exp(mean(log(x)))}\n",
    "pcnt = apply(cnt, 1, fun)\n",
    "\n",
    "### get the genes with no zero\n",
    "idx = which(pcnt != 0)\n",
    "cnt = cnt[idx,]\n",
    "\n",
    "### calculate log2FC\n",
    "fun = function(x){median(log2(x[4:6])) - median(log2(x[1:3]))}\n",
    "lg2fc = apply(cnt, 1, fun)"
   ]
  },
  {
   "cell_type": "code",
   "execution_count": 226,
   "id": "648a358c",
   "metadata": {},
   "outputs": [
    {
     "data": {
      "text/html": [
       "<table class=\"dataframe\">\n",
       "<caption>A matrix: 6 × 6 of type int</caption>\n",
       "<thead>\n",
       "\t<tr><th></th><th scope=col>sample1</th><th scope=col>sample2</th><th scope=col>sample3</th><th scope=col>sample4</th><th scope=col>sample5</th><th scope=col>sample6</th></tr>\n",
       "</thead>\n",
       "<tbody>\n",
       "\t<tr><th scope=row>ENSG00000223972</th><td> 0</td><td> 0</td><td> 0</td><td> 0</td><td> 0</td><td> 1</td></tr>\n",
       "\t<tr><th scope=row>ENSG00000227232</th><td>14</td><td>28</td><td>17</td><td>40</td><td>16</td><td>13</td></tr>\n",
       "\t<tr><th scope=row>ENSG00000278267</th><td> 8</td><td> 4</td><td> 3</td><td> 1</td><td> 1</td><td> 6</td></tr>\n",
       "\t<tr><th scope=row>ENSG00000243485</th><td> 0</td><td> 0</td><td> 0</td><td> 0</td><td> 0</td><td> 0</td></tr>\n",
       "\t<tr><th scope=row>ENSG00000284332</th><td> 0</td><td> 0</td><td> 0</td><td> 0</td><td> 0</td><td> 0</td></tr>\n",
       "\t<tr><th scope=row>ENSG00000237613</th><td> 0</td><td> 0</td><td> 0</td><td> 0</td><td> 0</td><td> 0</td></tr>\n",
       "</tbody>\n",
       "</table>\n"
      ],
      "text/latex": [
       "A matrix: 6 × 6 of type int\n",
       "\\begin{tabular}{r|llllll}\n",
       "  & sample1 & sample2 & sample3 & sample4 & sample5 & sample6\\\\\n",
       "\\hline\n",
       "\tENSG00000223972 &  0 &  0 &  0 &  0 &  0 &  1\\\\\n",
       "\tENSG00000227232 & 14 & 28 & 17 & 40 & 16 & 13\\\\\n",
       "\tENSG00000278267 &  8 &  4 &  3 &  1 &  1 &  6\\\\\n",
       "\tENSG00000243485 &  0 &  0 &  0 &  0 &  0 &  0\\\\\n",
       "\tENSG00000284332 &  0 &  0 &  0 &  0 &  0 &  0\\\\\n",
       "\tENSG00000237613 &  0 &  0 &  0 &  0 &  0 &  0\\\\\n",
       "\\end{tabular}\n"
      ],
      "text/markdown": [
       "\n",
       "A matrix: 6 × 6 of type int\n",
       "\n",
       "| <!--/--> | sample1 | sample2 | sample3 | sample4 | sample5 | sample6 |\n",
       "|---|---|---|---|---|---|---|\n",
       "| ENSG00000223972 |  0 |  0 |  0 |  0 |  0 |  1 |\n",
       "| ENSG00000227232 | 14 | 28 | 17 | 40 | 16 | 13 |\n",
       "| ENSG00000278267 |  8 |  4 |  3 |  1 |  1 |  6 |\n",
       "| ENSG00000243485 |  0 |  0 |  0 |  0 |  0 |  0 |\n",
       "| ENSG00000284332 |  0 |  0 |  0 |  0 |  0 |  0 |\n",
       "| ENSG00000237613 |  0 |  0 |  0 |  0 |  0 |  0 |\n",
       "\n"
      ],
      "text/plain": [
       "                sample1 sample2 sample3 sample4 sample5 sample6\n",
       "ENSG00000223972  0       0       0       0       0       1     \n",
       "ENSG00000227232 14      28      17      40      16      13     \n",
       "ENSG00000278267  8       4       3       1       1       6     \n",
       "ENSG00000243485  0       0       0       0       0       0     \n",
       "ENSG00000284332  0       0       0       0       0       0     \n",
       "ENSG00000237613  0       0       0       0       0       0     "
      ]
     },
     "metadata": {},
     "output_type": "display_data"
    }
   ],
   "source": [
    "head(counts(dds, normalize=FALSE))"
   ]
  },
  {
   "cell_type": "code",
   "execution_count": 225,
   "id": "c6573d46",
   "metadata": {},
   "outputs": [
    {
     "data": {
      "text/html": [
       "<table class=\"dataframe\">\n",
       "<caption>A matrix: 6 × 6 of type dbl</caption>\n",
       "<thead>\n",
       "\t<tr><th></th><th scope=col>sample1</th><th scope=col>sample2</th><th scope=col>sample3</th><th scope=col>sample4</th><th scope=col>sample5</th><th scope=col>sample6</th></tr>\n",
       "</thead>\n",
       "<tbody>\n",
       "\t<tr><th scope=row>ENSG00000223972</th><td> 0.00000</td><td> 0.000000</td><td> 0.000000</td><td> 0.00000</td><td> 0.000000</td><td> 0.9874946</td></tr>\n",
       "\t<tr><th scope=row>ENSG00000227232</th><td>19.26033</td><td>21.395868</td><td>15.779201</td><td>41.40681</td><td>15.353457</td><td>12.8374296</td></tr>\n",
       "\t<tr><th scope=row>ENSG00000278267</th><td>11.00590</td><td> 3.056553</td><td> 2.784565</td><td> 1.03517</td><td> 0.959591</td><td> 5.9249675</td></tr>\n",
       "\t<tr><th scope=row>ENSG00000243485</th><td> 0.00000</td><td> 0.000000</td><td> 0.000000</td><td> 0.00000</td><td> 0.000000</td><td> 0.0000000</td></tr>\n",
       "\t<tr><th scope=row>ENSG00000284332</th><td> 0.00000</td><td> 0.000000</td><td> 0.000000</td><td> 0.00000</td><td> 0.000000</td><td> 0.0000000</td></tr>\n",
       "\t<tr><th scope=row>ENSG00000237613</th><td> 0.00000</td><td> 0.000000</td><td> 0.000000</td><td> 0.00000</td><td> 0.000000</td><td> 0.0000000</td></tr>\n",
       "</tbody>\n",
       "</table>\n"
      ],
      "text/latex": [
       "A matrix: 6 × 6 of type dbl\n",
       "\\begin{tabular}{r|llllll}\n",
       "  & sample1 & sample2 & sample3 & sample4 & sample5 & sample6\\\\\n",
       "\\hline\n",
       "\tENSG00000223972 &  0.00000 &  0.000000 &  0.000000 &  0.00000 &  0.000000 &  0.9874946\\\\\n",
       "\tENSG00000227232 & 19.26033 & 21.395868 & 15.779201 & 41.40681 & 15.353457 & 12.8374296\\\\\n",
       "\tENSG00000278267 & 11.00590 &  3.056553 &  2.784565 &  1.03517 &  0.959591 &  5.9249675\\\\\n",
       "\tENSG00000243485 &  0.00000 &  0.000000 &  0.000000 &  0.00000 &  0.000000 &  0.0000000\\\\\n",
       "\tENSG00000284332 &  0.00000 &  0.000000 &  0.000000 &  0.00000 &  0.000000 &  0.0000000\\\\\n",
       "\tENSG00000237613 &  0.00000 &  0.000000 &  0.000000 &  0.00000 &  0.000000 &  0.0000000\\\\\n",
       "\\end{tabular}\n"
      ],
      "text/markdown": [
       "\n",
       "A matrix: 6 × 6 of type dbl\n",
       "\n",
       "| <!--/--> | sample1 | sample2 | sample3 | sample4 | sample5 | sample6 |\n",
       "|---|---|---|---|---|---|---|\n",
       "| ENSG00000223972 |  0.00000 |  0.000000 |  0.000000 |  0.00000 |  0.000000 |  0.9874946 |\n",
       "| ENSG00000227232 | 19.26033 | 21.395868 | 15.779201 | 41.40681 | 15.353457 | 12.8374296 |\n",
       "| ENSG00000278267 | 11.00590 |  3.056553 |  2.784565 |  1.03517 |  0.959591 |  5.9249675 |\n",
       "| ENSG00000243485 |  0.00000 |  0.000000 |  0.000000 |  0.00000 |  0.000000 |  0.0000000 |\n",
       "| ENSG00000284332 |  0.00000 |  0.000000 |  0.000000 |  0.00000 |  0.000000 |  0.0000000 |\n",
       "| ENSG00000237613 |  0.00000 |  0.000000 |  0.000000 |  0.00000 |  0.000000 |  0.0000000 |\n",
       "\n"
      ],
      "text/plain": [
       "                sample1  sample2   sample3   sample4  sample5   sample6   \n",
       "ENSG00000223972  0.00000  0.000000  0.000000  0.00000  0.000000  0.9874946\n",
       "ENSG00000227232 19.26033 21.395868 15.779201 41.40681 15.353457 12.8374296\n",
       "ENSG00000278267 11.00590  3.056553  2.784565  1.03517  0.959591  5.9249675\n",
       "ENSG00000243485  0.00000  0.000000  0.000000  0.00000  0.000000  0.0000000\n",
       "ENSG00000284332  0.00000  0.000000  0.000000  0.00000  0.000000  0.0000000\n",
       "ENSG00000237613  0.00000  0.000000  0.000000  0.00000  0.000000  0.0000000"
      ]
     },
     "metadata": {},
     "output_type": "display_data"
    }
   ],
   "source": [
    "head(counts(dds, normalize=TRUE))"
   ]
  },
  {
   "cell_type": "code",
   "execution_count": 231,
   "id": "4c870b01",
   "metadata": {},
   "outputs": [
    {
     "name": "stdout",
     "output_type": "stream",
     "text": [
      "ENSG00000227232 ENSG00000278267 ENSG00000233750 ENSG00000268903 ENSG00000269981 \n",
      "     -0.3270692      -1.5620374      -0.6300607      -1.5369512      -0.7319624 \n",
      "ENSG00000279457 \n",
      "      0.1480139 \n"
     ]
    }
   ],
   "source": [
    "print(head(lg2fc))"
   ]
  },
  {
   "cell_type": "code",
   "execution_count": 229,
   "id": "1a0019c9",
   "metadata": {},
   "outputs": [
    {
     "data": {
      "text/html": [
       "<table class=\"dataframe\">\n",
       "<caption>A tibble: 6 × 7</caption>\n",
       "<thead>\n",
       "\t<tr><th scope=col>ENSEMBL</th><th scope=col>baseMean</th><th scope=col>log2FoldChange</th><th scope=col>lfcSE</th><th scope=col>stat</th><th scope=col>pvalue</th><th scope=col>padj</th></tr>\n",
       "\t<tr><th scope=col>&lt;chr&gt;</th><th scope=col>&lt;dbl&gt;</th><th scope=col>&lt;dbl&gt;</th><th scope=col>&lt;dbl&gt;</th><th scope=col>&lt;dbl&gt;</th><th scope=col>&lt;dbl&gt;</th><th scope=col>&lt;dbl&gt;</th></tr>\n",
       "</thead>\n",
       "<tbody>\n",
       "\t<tr><td>ENSG00000227232</td><td>21.005516</td><td> 0.29597748</td><td>0.5398165</td><td> 0.5482928</td><td>0.58349088</td><td>0.7405315</td></tr>\n",
       "\t<tr><td>ENSG00000278267</td><td> 4.127792</td><td>-1.03523202</td><td>1.1421509</td><td>-0.9063882</td><td>0.36473044</td><td>0.5557903</td></tr>\n",
       "\t<tr><td>ENSG00000233750</td><td>10.212787</td><td>-0.51943355</td><td>0.7024934</td><td>-0.7394142</td><td>0.45965554</td><td>0.6433337</td></tr>\n",
       "\t<tr><td>ENSG00000268903</td><td>19.416360</td><td>-0.63024257</td><td>0.6058769</td><td>-1.0402156</td><td>0.29823973</td><td>0.4901969</td></tr>\n",
       "\t<tr><td>ENSG00000269981</td><td>18.100110</td><td>-1.18718159</td><td>0.5607867</td><td>-2.1169930</td><td>0.03426044</td><td>0.1042930</td></tr>\n",
       "\t<tr><td>ENSG00000279457</td><td>44.425914</td><td> 0.06298354</td><td>0.3338448</td><td> 0.1886611</td><td>0.85035841</td><td>0.9192674</td></tr>\n",
       "</tbody>\n",
       "</table>\n"
      ],
      "text/latex": [
       "A tibble: 6 × 7\n",
       "\\begin{tabular}{lllllll}\n",
       " ENSEMBL & baseMean & log2FoldChange & lfcSE & stat & pvalue & padj\\\\\n",
       " <chr> & <dbl> & <dbl> & <dbl> & <dbl> & <dbl> & <dbl>\\\\\n",
       "\\hline\n",
       "\t ENSG00000227232 & 21.005516 &  0.29597748 & 0.5398165 &  0.5482928 & 0.58349088 & 0.7405315\\\\\n",
       "\t ENSG00000278267 &  4.127792 & -1.03523202 & 1.1421509 & -0.9063882 & 0.36473044 & 0.5557903\\\\\n",
       "\t ENSG00000233750 & 10.212787 & -0.51943355 & 0.7024934 & -0.7394142 & 0.45965554 & 0.6433337\\\\\n",
       "\t ENSG00000268903 & 19.416360 & -0.63024257 & 0.6058769 & -1.0402156 & 0.29823973 & 0.4901969\\\\\n",
       "\t ENSG00000269981 & 18.100110 & -1.18718159 & 0.5607867 & -2.1169930 & 0.03426044 & 0.1042930\\\\\n",
       "\t ENSG00000279457 & 44.425914 &  0.06298354 & 0.3338448 &  0.1886611 & 0.85035841 & 0.9192674\\\\\n",
       "\\end{tabular}\n"
      ],
      "text/markdown": [
       "\n",
       "A tibble: 6 × 7\n",
       "\n",
       "| ENSEMBL &lt;chr&gt; | baseMean &lt;dbl&gt; | log2FoldChange &lt;dbl&gt; | lfcSE &lt;dbl&gt; | stat &lt;dbl&gt; | pvalue &lt;dbl&gt; | padj &lt;dbl&gt; |\n",
       "|---|---|---|---|---|---|---|\n",
       "| ENSG00000227232 | 21.005516 |  0.29597748 | 0.5398165 |  0.5482928 | 0.58349088 | 0.7405315 |\n",
       "| ENSG00000278267 |  4.127792 | -1.03523202 | 1.1421509 | -0.9063882 | 0.36473044 | 0.5557903 |\n",
       "| ENSG00000233750 | 10.212787 | -0.51943355 | 0.7024934 | -0.7394142 | 0.45965554 | 0.6433337 |\n",
       "| ENSG00000268903 | 19.416360 | -0.63024257 | 0.6058769 | -1.0402156 | 0.29823973 | 0.4901969 |\n",
       "| ENSG00000269981 | 18.100110 | -1.18718159 | 0.5607867 | -2.1169930 | 0.03426044 | 0.1042930 |\n",
       "| ENSG00000279457 | 44.425914 |  0.06298354 | 0.3338448 |  0.1886611 | 0.85035841 | 0.9192674 |\n",
       "\n"
      ],
      "text/plain": [
       "  ENSEMBL         baseMean  log2FoldChange lfcSE     stat       pvalue    \n",
       "1 ENSG00000227232 21.005516  0.29597748    0.5398165  0.5482928 0.58349088\n",
       "2 ENSG00000278267  4.127792 -1.03523202    1.1421509 -0.9063882 0.36473044\n",
       "3 ENSG00000233750 10.212787 -0.51943355    0.7024934 -0.7394142 0.45965554\n",
       "4 ENSG00000268903 19.416360 -0.63024257    0.6058769 -1.0402156 0.29823973\n",
       "5 ENSG00000269981 18.100110 -1.18718159    0.5607867 -2.1169930 0.03426044\n",
       "6 ENSG00000279457 44.425914  0.06298354    0.3338448  0.1886611 0.85035841\n",
       "  padj     \n",
       "1 0.7405315\n",
       "2 0.5557903\n",
       "3 0.6433337\n",
       "4 0.4901969\n",
       "5 0.1042930\n",
       "6 0.9192674"
      ]
     },
     "metadata": {},
     "output_type": "display_data"
    }
   ],
   "source": [
    "dat = res_tbl[idx,]\n",
    "head(dat)"
   ]
  },
  {
   "cell_type": "code",
   "execution_count": 196,
   "id": "4416a510",
   "metadata": {},
   "outputs": [
    {
     "data": {
      "text/html": [
       "<table class=\"dataframe\">\n",
       "<caption>A data.frame: 5 × 6</caption>\n",
       "<thead>\n",
       "\t<tr><th></th><th scope=col>sample1</th><th scope=col>sample2</th><th scope=col>sample3</th><th scope=col>sample4</th><th scope=col>sample5</th><th scope=col>sample6</th></tr>\n",
       "\t<tr><th></th><th scope=col>&lt;dbl&gt;</th><th scope=col>&lt;dbl&gt;</th><th scope=col>&lt;dbl&gt;</th><th scope=col>&lt;dbl&gt;</th><th scope=col>&lt;dbl&gt;</th><th scope=col>&lt;dbl&gt;</th></tr>\n",
       "</thead>\n",
       "<tbody>\n",
       "\t<tr><th scope=row>ENSG00000259003</th><td>0</td><td>0.000000</td><td>0</td><td>1.03517</td><td>0.000000</td><td>0</td></tr>\n",
       "\t<tr><th scope=row>ENSG00000270618</th><td>0</td><td>0.000000</td><td>0</td><td>0.00000</td><td>0.000000</td><td>0</td></tr>\n",
       "\t<tr><th scope=row>ENSG00000258983</th><td>0</td><td>3.820691</td><td>0</td><td>1.03517</td><td>0.959591</td><td>0</td></tr>\n",
       "\t<tr><th scope=row>ENSG00000206912</th><td>0</td><td>0.000000</td><td>0</td><td>0.00000</td><td>0.000000</td><td>0</td></tr>\n",
       "\t<tr><th scope=row>ENSG00000227737</th><td>0</td><td>0.000000</td><td>0</td><td>0.00000</td><td>0.000000</td><td>0</td></tr>\n",
       "</tbody>\n",
       "</table>\n"
      ],
      "text/latex": [
       "A data.frame: 5 × 6\n",
       "\\begin{tabular}{r|llllll}\n",
       "  & sample1 & sample2 & sample3 & sample4 & sample5 & sample6\\\\\n",
       "  & <dbl> & <dbl> & <dbl> & <dbl> & <dbl> & <dbl>\\\\\n",
       "\\hline\n",
       "\tENSG00000259003 & 0 & 0.000000 & 0 & 1.03517 & 0.000000 & 0\\\\\n",
       "\tENSG00000270618 & 0 & 0.000000 & 0 & 0.00000 & 0.000000 & 0\\\\\n",
       "\tENSG00000258983 & 0 & 3.820691 & 0 & 1.03517 & 0.959591 & 0\\\\\n",
       "\tENSG00000206912 & 0 & 0.000000 & 0 & 0.00000 & 0.000000 & 0\\\\\n",
       "\tENSG00000227737 & 0 & 0.000000 & 0 & 0.00000 & 0.000000 & 0\\\\\n",
       "\\end{tabular}\n"
      ],
      "text/markdown": [
       "\n",
       "A data.frame: 5 × 6\n",
       "\n",
       "| <!--/--> | sample1 &lt;dbl&gt; | sample2 &lt;dbl&gt; | sample3 &lt;dbl&gt; | sample4 &lt;dbl&gt; | sample5 &lt;dbl&gt; | sample6 &lt;dbl&gt; |\n",
       "|---|---|---|---|---|---|---|\n",
       "| ENSG00000259003 | 0 | 0.000000 | 0 | 1.03517 | 0.000000 | 0 |\n",
       "| ENSG00000270618 | 0 | 0.000000 | 0 | 0.00000 | 0.000000 | 0 |\n",
       "| ENSG00000258983 | 0 | 3.820691 | 0 | 1.03517 | 0.959591 | 0 |\n",
       "| ENSG00000206912 | 0 | 0.000000 | 0 | 0.00000 | 0.000000 | 0 |\n",
       "| ENSG00000227737 | 0 | 0.000000 | 0 | 0.00000 | 0.000000 | 0 |\n",
       "\n"
      ],
      "text/plain": [
       "                sample1 sample2  sample3 sample4 sample5  sample6\n",
       "ENSG00000259003 0       0.000000 0       1.03517 0.000000 0      \n",
       "ENSG00000270618 0       0.000000 0       0.00000 0.000000 0      \n",
       "ENSG00000258983 0       3.820691 0       1.03517 0.959591 0      \n",
       "ENSG00000206912 0       0.000000 0       0.00000 0.000000 0      \n",
       "ENSG00000227737 0       0.000000 0       0.00000 0.000000 0      "
      ]
     },
     "metadata": {},
     "output_type": "display_data"
    }
   ],
   "source": [
    "cnt = counts(dds, normalize=TRUE)\n",
    "\n",
    "set.seed(123)\n",
    "mat = data.frame(cnt) %>% sample_n(5)\n",
    "mat"
   ]
  },
  {
   "cell_type": "code",
   "execution_count": null,
   "id": "c1be864f",
   "metadata": {},
   "outputs": [],
   "source": []
  },
  {
   "cell_type": "code",
   "execution_count": null,
   "id": "28440e2b",
   "metadata": {},
   "outputs": [],
   "source": []
  },
  {
   "cell_type": "code",
   "execution_count": null,
   "id": "9f36643b",
   "metadata": {},
   "outputs": [],
   "source": []
  },
  {
   "cell_type": "code",
   "execution_count": 148,
   "id": "632e2095",
   "metadata": {},
   "outputs": [
    {
     "name": "stdout",
     "output_type": "stream",
     "text": [
      "[1] 58735\n"
     ]
    }
   ],
   "source": [
    "print(length(pcnt))"
   ]
  },
  {
   "cell_type": "code",
   "execution_count": 149,
   "id": "f703e6af",
   "metadata": {},
   "outputs": [
    {
     "data": {
      "text/html": [
       "<style>\n",
       ".list-inline {list-style: none; margin:0; padding: 0}\n",
       ".list-inline>li {display: inline-block}\n",
       ".list-inline>li:not(:last-child)::after {content: \"\\00b7\"; padding: 0 .5ex}\n",
       "</style>\n",
       "<ol class=list-inline><li>58735</li><li>6</li></ol>\n"
      ],
      "text/latex": [
       "\\begin{enumerate*}\n",
       "\\item 58735\n",
       "\\item 6\n",
       "\\end{enumerate*}\n"
      ],
      "text/markdown": [
       "1. 58735\n",
       "2. 6\n",
       "\n",
       "\n"
      ],
      "text/plain": [
       "[1] 58735     6"
      ]
     },
     "metadata": {},
     "output_type": "display_data"
    }
   ],
   "source": [
    "dim(cnt)"
   ]
  },
  {
   "cell_type": "code",
   "execution_count": 150,
   "id": "8c3febac",
   "metadata": {},
   "outputs": [
    {
     "data": {
      "text/html": [
       "<table class=\"dataframe\">\n",
       "<caption>A matrix: 6 × 6 of type int</caption>\n",
       "<thead>\n",
       "\t<tr><th></th><th scope=col>sample1</th><th scope=col>sample2</th><th scope=col>sample3</th><th scope=col>sample4</th><th scope=col>sample5</th><th scope=col>sample6</th></tr>\n",
       "</thead>\n",
       "<tbody>\n",
       "\t<tr><th scope=row>ENSG00000223972</th><td> 0</td><td> 0</td><td> 0</td><td> 0</td><td> 0</td><td> 1</td></tr>\n",
       "\t<tr><th scope=row>ENSG00000227232</th><td>14</td><td>28</td><td>17</td><td>40</td><td>16</td><td>13</td></tr>\n",
       "\t<tr><th scope=row>ENSG00000278267</th><td> 8</td><td> 4</td><td> 3</td><td> 1</td><td> 1</td><td> 6</td></tr>\n",
       "\t<tr><th scope=row>ENSG00000243485</th><td> 0</td><td> 0</td><td> 0</td><td> 0</td><td> 0</td><td> 0</td></tr>\n",
       "\t<tr><th scope=row>ENSG00000284332</th><td> 0</td><td> 0</td><td> 0</td><td> 0</td><td> 0</td><td> 0</td></tr>\n",
       "\t<tr><th scope=row>ENSG00000237613</th><td> 0</td><td> 0</td><td> 0</td><td> 0</td><td> 0</td><td> 0</td></tr>\n",
       "</tbody>\n",
       "</table>\n"
      ],
      "text/latex": [
       "A matrix: 6 × 6 of type int\n",
       "\\begin{tabular}{r|llllll}\n",
       "  & sample1 & sample2 & sample3 & sample4 & sample5 & sample6\\\\\n",
       "\\hline\n",
       "\tENSG00000223972 &  0 &  0 &  0 &  0 &  0 &  1\\\\\n",
       "\tENSG00000227232 & 14 & 28 & 17 & 40 & 16 & 13\\\\\n",
       "\tENSG00000278267 &  8 &  4 &  3 &  1 &  1 &  6\\\\\n",
       "\tENSG00000243485 &  0 &  0 &  0 &  0 &  0 &  0\\\\\n",
       "\tENSG00000284332 &  0 &  0 &  0 &  0 &  0 &  0\\\\\n",
       "\tENSG00000237613 &  0 &  0 &  0 &  0 &  0 &  0\\\\\n",
       "\\end{tabular}\n"
      ],
      "text/markdown": [
       "\n",
       "A matrix: 6 × 6 of type int\n",
       "\n",
       "| <!--/--> | sample1 | sample2 | sample3 | sample4 | sample5 | sample6 |\n",
       "|---|---|---|---|---|---|---|\n",
       "| ENSG00000223972 |  0 |  0 |  0 |  0 |  0 |  1 |\n",
       "| ENSG00000227232 | 14 | 28 | 17 | 40 | 16 | 13 |\n",
       "| ENSG00000278267 |  8 |  4 |  3 |  1 |  1 |  6 |\n",
       "| ENSG00000243485 |  0 |  0 |  0 |  0 |  0 |  0 |\n",
       "| ENSG00000284332 |  0 |  0 |  0 |  0 |  0 |  0 |\n",
       "| ENSG00000237613 |  0 |  0 |  0 |  0 |  0 |  0 |\n",
       "\n"
      ],
      "text/plain": [
       "                sample1 sample2 sample3 sample4 sample5 sample6\n",
       "ENSG00000223972  0       0       0       0       0       1     \n",
       "ENSG00000227232 14      28      17      40      16      13     \n",
       "ENSG00000278267  8       4       3       1       1       6     \n",
       "ENSG00000243485  0       0       0       0       0       0     \n",
       "ENSG00000284332  0       0       0       0       0       0     \n",
       "ENSG00000237613  0       0       0       0       0       0     "
      ]
     },
     "metadata": {},
     "output_type": "display_data"
    }
   ],
   "source": [
    "head(cnt)"
   ]
  },
  {
   "cell_type": "code",
   "execution_count": 161,
   "id": "0c42ab26",
   "metadata": {},
   "outputs": [],
   "source": [
    "idx = c(\n",
    "    \"ENSG00000021355\", \n",
    "    \"ENSG00000048140\", \n",
    "    \"ENSG00000087302\", \n",
    "    \"ENSG00000117419\", \n",
    "    \"ENSG00000127129\", \n",
    "    \"ENSG00000176101\" \n",
    ")"
   ]
  },
  {
   "cell_type": "code",
   "execution_count": 162,
   "id": "e2eed242",
   "metadata": {},
   "outputs": [
    {
     "data": {
      "text/html": [
       "<table class=\"dataframe\">\n",
       "<caption>A matrix: 6 × 6 of type int</caption>\n",
       "<thead>\n",
       "\t<tr><th></th><th scope=col>sample1</th><th scope=col>sample2</th><th scope=col>sample3</th><th scope=col>sample4</th><th scope=col>sample5</th><th scope=col>sample6</th></tr>\n",
       "</thead>\n",
       "<tbody>\n",
       "\t<tr><th scope=row>ENSG00000021355</th><td> 807</td><td>1240</td><td>1080</td><td>1182</td><td>1004</td><td> 883</td></tr>\n",
       "\t<tr><th scope=row>ENSG00000048140</th><td>1267</td><td>2093</td><td>1816</td><td>1552</td><td>1794</td><td>1717</td></tr>\n",
       "\t<tr><th scope=row>ENSG00000087302</th><td>1434</td><td>2467</td><td>1902</td><td>2159</td><td>1811</td><td>1672</td></tr>\n",
       "\t<tr><th scope=row>ENSG00000117419</th><td>1098</td><td>1776</td><td>1429</td><td>1561</td><td>1383</td><td>1263</td></tr>\n",
       "\t<tr><th scope=row>ENSG00000127129</th><td>   0</td><td>   0</td><td>   0</td><td>   7</td><td>  14</td><td>  13</td></tr>\n",
       "\t<tr><th scope=row>ENSG00000176101</th><td>1091</td><td>1762</td><td>1371</td><td>1652</td><td>1213</td><td>1261</td></tr>\n",
       "</tbody>\n",
       "</table>\n"
      ],
      "text/latex": [
       "A matrix: 6 × 6 of type int\n",
       "\\begin{tabular}{r|llllll}\n",
       "  & sample1 & sample2 & sample3 & sample4 & sample5 & sample6\\\\\n",
       "\\hline\n",
       "\tENSG00000021355 &  807 & 1240 & 1080 & 1182 & 1004 &  883\\\\\n",
       "\tENSG00000048140 & 1267 & 2093 & 1816 & 1552 & 1794 & 1717\\\\\n",
       "\tENSG00000087302 & 1434 & 2467 & 1902 & 2159 & 1811 & 1672\\\\\n",
       "\tENSG00000117419 & 1098 & 1776 & 1429 & 1561 & 1383 & 1263\\\\\n",
       "\tENSG00000127129 &    0 &    0 &    0 &    7 &   14 &   13\\\\\n",
       "\tENSG00000176101 & 1091 & 1762 & 1371 & 1652 & 1213 & 1261\\\\\n",
       "\\end{tabular}\n"
      ],
      "text/markdown": [
       "\n",
       "A matrix: 6 × 6 of type int\n",
       "\n",
       "| <!--/--> | sample1 | sample2 | sample3 | sample4 | sample5 | sample6 |\n",
       "|---|---|---|---|---|---|---|\n",
       "| ENSG00000021355 |  807 | 1240 | 1080 | 1182 | 1004 |  883 |\n",
       "| ENSG00000048140 | 1267 | 2093 | 1816 | 1552 | 1794 | 1717 |\n",
       "| ENSG00000087302 | 1434 | 2467 | 1902 | 2159 | 1811 | 1672 |\n",
       "| ENSG00000117419 | 1098 | 1776 | 1429 | 1561 | 1383 | 1263 |\n",
       "| ENSG00000127129 |    0 |    0 |    0 |    7 |   14 |   13 |\n",
       "| ENSG00000176101 | 1091 | 1762 | 1371 | 1652 | 1213 | 1261 |\n",
       "\n"
      ],
      "text/plain": [
       "                sample1 sample2 sample3 sample4 sample5 sample6\n",
       "ENSG00000021355  807    1240    1080    1182    1004     883   \n",
       "ENSG00000048140 1267    2093    1816    1552    1794    1717   \n",
       "ENSG00000087302 1434    2467    1902    2159    1811    1672   \n",
       "ENSG00000117419 1098    1776    1429    1561    1383    1263   \n",
       "ENSG00000127129    0       0       0       7      14      13   \n",
       "ENSG00000176101 1091    1762    1371    1652    1213    1261   "
      ]
     },
     "metadata": {},
     "output_type": "display_data"
    }
   ],
   "source": [
    "cnt[idx,]"
   ]
  },
  {
   "cell_type": "code",
   "execution_count": 164,
   "id": "d36bb8ff",
   "metadata": {},
   "outputs": [
    {
     "name": "stdout",
     "output_type": "stream",
     "text": [
      "ENSG00000021355 ENSG00000048140 ENSG00000087302 ENSG00000117419 ENSG00000127129 \n",
      "       1020.952        1686.648        1878.838        1402.117           0.000 \n",
      "ENSG00000176101 \n",
      "       1371.647 \n"
     ]
    }
   ],
   "source": [
    "fun  = function(x){exp(mean(log(x)))}\n",
    "mat  = cnt[idx,]\n",
    "pcnt = apply(mat, 1, fun)\n",
    "print(pcnt)"
   ]
  },
  {
   "cell_type": "code",
   "execution_count": 157,
   "id": "28d888e6",
   "metadata": {},
   "outputs": [
    {
     "data": {
      "text/html": [
       "17803"
      ],
      "text/latex": [
       "17803"
      ],
      "text/markdown": [
       "17803"
      ],
      "text/plain": [
       "[1] 17803"
      ]
     },
     "metadata": {},
     "output_type": "display_data"
    }
   ],
   "source": [
    "which(rownames(cnt) == \"ENSG00000021355\")"
   ]
  },
  {
   "cell_type": "code",
   "execution_count": 165,
   "id": "9178b916",
   "metadata": {},
   "outputs": [
    {
     "data": {
      "text/html": [
       "<table class=\"dataframe\">\n",
       "<caption>A matrix: 6 × 6 of type dbl</caption>\n",
       "<thead>\n",
       "\t<tr><th></th><th scope=col>sample1</th><th scope=col>sample2</th><th scope=col>sample3</th><th scope=col>sample4</th><th scope=col>sample5</th><th scope=col>sample6</th></tr>\n",
       "</thead>\n",
       "<tbody>\n",
       "\t<tr><th scope=row>ENSG00000021355</th><td>0.7904391</td><td>1.214553</td><td>1.0578367</td><td>1.1577434</td><td>0.9833963</td><td>0.8648794</td></tr>\n",
       "\t<tr><th scope=row>ENSG00000048140</th><td>0.7511943</td><td>1.240923</td><td>1.0766920</td><td>0.9201685</td><td>1.0636484</td><td>1.0179957</td></tr>\n",
       "\t<tr><th scope=row>ENSG00000087302</th><td>0.7632377</td><td>1.313046</td><td>1.0123278</td><td>1.1491144</td><td>0.9638936</td><td>0.8899117</td></tr>\n",
       "\t<tr><th scope=row>ENSG00000117419</th><td>0.7831014</td><td>1.266656</td><td>1.0191730</td><td>1.1133163</td><td>0.9863655</td><td>0.9007806</td></tr>\n",
       "\t<tr><th scope=row>ENSG00000127129</th><td>      NaN</td><td>     NaN</td><td>      NaN</td><td>      Inf</td><td>      Inf</td><td>      Inf</td></tr>\n",
       "\t<tr><th scope=row>ENSG00000176101</th><td>0.7953942</td><td>1.284587</td><td>0.9995283</td><td>1.2043916</td><td>0.8843384</td><td>0.9193328</td></tr>\n",
       "</tbody>\n",
       "</table>\n"
      ],
      "text/latex": [
       "A matrix: 6 × 6 of type dbl\n",
       "\\begin{tabular}{r|llllll}\n",
       "  & sample1 & sample2 & sample3 & sample4 & sample5 & sample6\\\\\n",
       "\\hline\n",
       "\tENSG00000021355 & 0.7904391 & 1.214553 & 1.0578367 & 1.1577434 & 0.9833963 & 0.8648794\\\\\n",
       "\tENSG00000048140 & 0.7511943 & 1.240923 & 1.0766920 & 0.9201685 & 1.0636484 & 1.0179957\\\\\n",
       "\tENSG00000087302 & 0.7632377 & 1.313046 & 1.0123278 & 1.1491144 & 0.9638936 & 0.8899117\\\\\n",
       "\tENSG00000117419 & 0.7831014 & 1.266656 & 1.0191730 & 1.1133163 & 0.9863655 & 0.9007806\\\\\n",
       "\tENSG00000127129 &       NaN &      NaN &       NaN &       Inf &       Inf &       Inf\\\\\n",
       "\tENSG00000176101 & 0.7953942 & 1.284587 & 0.9995283 & 1.2043916 & 0.8843384 & 0.9193328\\\\\n",
       "\\end{tabular}\n"
      ],
      "text/markdown": [
       "\n",
       "A matrix: 6 × 6 of type dbl\n",
       "\n",
       "| <!--/--> | sample1 | sample2 | sample3 | sample4 | sample5 | sample6 |\n",
       "|---|---|---|---|---|---|---|\n",
       "| ENSG00000021355 | 0.7904391 | 1.214553 | 1.0578367 | 1.1577434 | 0.9833963 | 0.8648794 |\n",
       "| ENSG00000048140 | 0.7511943 | 1.240923 | 1.0766920 | 0.9201685 | 1.0636484 | 1.0179957 |\n",
       "| ENSG00000087302 | 0.7632377 | 1.313046 | 1.0123278 | 1.1491144 | 0.9638936 | 0.8899117 |\n",
       "| ENSG00000117419 | 0.7831014 | 1.266656 | 1.0191730 | 1.1133163 | 0.9863655 | 0.9007806 |\n",
       "| ENSG00000127129 |       NaN |      NaN |       NaN |       Inf |       Inf |       Inf |\n",
       "| ENSG00000176101 | 0.7953942 | 1.284587 | 0.9995283 | 1.2043916 | 0.8843384 | 0.9193328 |\n",
       "\n"
      ],
      "text/plain": [
       "                sample1   sample2  sample3   sample4   sample5   sample6  \n",
       "ENSG00000021355 0.7904391 1.214553 1.0578367 1.1577434 0.9833963 0.8648794\n",
       "ENSG00000048140 0.7511943 1.240923 1.0766920 0.9201685 1.0636484 1.0179957\n",
       "ENSG00000087302 0.7632377 1.313046 1.0123278 1.1491144 0.9638936 0.8899117\n",
       "ENSG00000117419 0.7831014 1.266656 1.0191730 1.1133163 0.9863655 0.9007806\n",
       "ENSG00000127129       NaN      NaN       NaN       Inf       Inf       Inf\n",
       "ENSG00000176101 0.7953942 1.284587 0.9995283 1.2043916 0.8843384 0.9193328"
      ]
     },
     "metadata": {},
     "output_type": "display_data"
    }
   ],
   "source": [
    "fun  = function(x){x/pcnt}\n",
    "apply(mat, 2, fun)"
   ]
  },
  {
   "cell_type": "code",
   "execution_count": 166,
   "id": "d616865e",
   "metadata": {},
   "outputs": [
    {
     "data": {
      "text/html": [
       "<style>\n",
       ".dl-inline {width: auto; margin:0; padding: 0}\n",
       ".dl-inline>dt, .dl-inline>dd {float: none; width: auto; display: inline-block}\n",
       ".dl-inline>dt::after {content: \":\\0020\"; padding-right: .5ex}\n",
       ".dl-inline>dt:not(:first-of-type) {padding-left: .5ex}\n",
       "</style><dl class=dl-inline><dt>ENSG00000021355</dt><dd>1020.95157798064</dd><dt>ENSG00000048140</dt><dd>1686.64761433023</dd><dt>ENSG00000087302</dt><dd>1878.83812058744</dd><dt>ENSG00000117419</dt><dd>1402.11723371886</dd><dt>ENSG00000127129</dt><dd>0</dd><dt>ENSG00000176101</dt><dd>1371.64694320724</dd></dl>\n"
      ],
      "text/latex": [
       "\\begin{description*}\n",
       "\\item[ENSG00000021355] 1020.95157798064\n",
       "\\item[ENSG00000048140] 1686.64761433023\n",
       "\\item[ENSG00000087302] 1878.83812058744\n",
       "\\item[ENSG00000117419] 1402.11723371886\n",
       "\\item[ENSG00000127129] 0\n",
       "\\item[ENSG00000176101] 1371.64694320724\n",
       "\\end{description*}\n"
      ],
      "text/markdown": [
       "ENSG00000021355\n",
       ":   1020.95157798064ENSG00000048140\n",
       ":   1686.64761433023ENSG00000087302\n",
       ":   1878.83812058744ENSG00000117419\n",
       ":   1402.11723371886ENSG00000127129\n",
       ":   0ENSG00000176101\n",
       ":   1371.64694320724\n",
       "\n"
      ],
      "text/plain": [
       "ENSG00000021355 ENSG00000048140 ENSG00000087302 ENSG00000117419 ENSG00000127129 \n",
       "       1020.952        1686.648        1878.838        1402.117           0.000 \n",
       "ENSG00000176101 \n",
       "       1371.647 "
      ]
     },
     "metadata": {},
     "output_type": "display_data"
    }
   ],
   "source": [
    "pcnt"
   ]
  },
  {
   "cell_type": "code",
   "execution_count": 169,
   "id": "d9808622",
   "metadata": {},
   "outputs": [
    {
     "name": "stdout",
     "output_type": "stream",
     "text": [
      "ENSG00000021355 ENSG00000048140 ENSG00000087302 ENSG00000117419 ENSG00000176101 \n",
      "              1               2               3               4               6 \n"
     ]
    }
   ],
   "source": [
    "print(which(pcnt != 0))"
   ]
  },
  {
   "cell_type": "code",
   "execution_count": null,
   "id": "e673d56b",
   "metadata": {},
   "outputs": [],
   "source": []
  }
 ],
 "metadata": {
  "kernelspec": {
   "display_name": "R",
   "language": "R",
   "name": "ir"
  },
  "language_info": {
   "codemirror_mode": "r",
   "file_extension": ".r",
   "mimetype": "text/x-r-source",
   "name": "R",
   "pygments_lexer": "r",
   "version": "4.2.0"
  }
 },
 "nbformat": 4,
 "nbformat_minor": 5
}
