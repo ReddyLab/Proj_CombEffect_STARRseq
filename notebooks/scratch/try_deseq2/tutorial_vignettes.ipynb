{
 "cells": [
  {
   "cell_type": "markdown",
   "id": "6c866aba",
   "metadata": {},
   "source": [
    "# [Analyzing RNA-seq data with DESeq2](https://bioconductor.org/packages/release/bioc/vignettes/DESeq2/inst/doc/DESeq2.html)\n",
    "\n",
    "Author: Michael I. Love, Simon Anders, and Wolfgang Huber"
   ]
  },
  {
   "cell_type": "code",
   "execution_count": 2,
   "id": "3b9c0838",
   "metadata": {},
   "outputs": [
    {
     "ename": "ERROR",
     "evalue": "Error in library(\"tximport\"): there is no package called ‘tximport’\n",
     "output_type": "error",
     "traceback": [
      "Error in library(\"tximport\"): there is no package called ‘tximport’\nTraceback:\n",
      "1. library(\"tximport\")"
     ]
    }
   ],
   "source": [
    "library(\"tximport\")"
   ]
  },
  {
   "cell_type": "code",
   "execution_count": 3,
   "id": "faf7366b",
   "metadata": {},
   "outputs": [],
   "source": [
    "library(\"readr\")"
   ]
  },
  {
   "cell_type": "code",
   "execution_count": 4,
   "id": "0d047a55",
   "metadata": {},
   "outputs": [
    {
     "ename": "ERROR",
     "evalue": "Error in library(\"tximportData\"): there is no package called ‘tximportData’\n",
     "output_type": "error",
     "traceback": [
      "Error in library(\"tximportData\"): there is no package called ‘tximportData’\nTraceback:\n",
      "1. library(\"tximportData\")"
     ]
    }
   ],
   "source": [
    "library(\"tximportData\")"
   ]
  },
  {
   "cell_type": "code",
   "execution_count": null,
   "id": "64ac94ac",
   "metadata": {},
   "outputs": [],
   "source": []
  }
 ],
 "metadata": {
  "kernelspec": {
   "display_name": "R",
   "language": "R",
   "name": "ir"
  },
  "language_info": {
   "codemirror_mode": "r",
   "file_extension": ".r",
   "mimetype": "text/x-r-source",
   "name": "R",
   "pygments_lexer": "r",
   "version": "4.2.0"
  }
 },
 "nbformat": 4,
 "nbformat_minor": 5
}
