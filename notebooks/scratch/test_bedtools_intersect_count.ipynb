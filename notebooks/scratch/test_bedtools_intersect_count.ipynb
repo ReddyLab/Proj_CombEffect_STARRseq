{
 "cells": [
  {
   "cell_type": "markdown",
   "id": "5ee57433-a27b-41f7-afeb-837d14bd322e",
   "metadata": {},
   "source": [
    "**Set environment**"
   ]
  },
  {
   "cell_type": "code",
   "execution_count": 1,
   "id": "28d6c83e-d77a-4ad1-b3fb-90c738799bc6",
   "metadata": {},
   "outputs": [
    {
     "name": "stdout",
     "output_type": "stream",
     "text": [
      "You are on Duke Server: HARDAC\n",
      "BASE DIRECTORY:     /gpfs/fs1/data/reddylab/Kuei\n",
      "PATH OF SOURCE:     /gpfs/fs1/data/reddylab/Kuei/source\n",
      "PATH OF EXECUTABLE: /gpfs/fs1/data/reddylab/Kuei/exe\n",
      "PATH OF ANNOTATION: /gpfs/fs1/data/reddylab/Kuei/annotation\n",
      "PATH OF PROJECT:    /gpfs/fs1/data/reddylab/Kuei/GitRepo/Proj_CombEffect_STARRseq/notebooks\n",
      "PATH OF RESULTS:    /gpfs/fs1/data/reddylab/Kuei/out/proj_combeffect\n",
      "\n"
     ]
    }
   ],
   "source": [
    "source ../config_duke.sh -v"
   ]
  },
  {
   "cell_type": "code",
   "execution_count": 2,
   "id": "accaa80b-bceb-4dc8-8b85-ef0b1e868d85",
   "metadata": {},
   "outputs": [],
   "source": [
    "source ../config_load_module_bedtools.sh"
   ]
  },
  {
   "cell_type": "markdown",
   "id": "3259c44c-00ba-4672-87a3-880777c97f67",
   "metadata": {},
   "source": [
    "Check version: `current version == 2.30.0`"
   ]
  },
  {
   "cell_type": "code",
   "execution_count": 3,
   "id": "537f7a7f-06b5-4510-9521-98bd6ef8c68c",
   "metadata": {},
   "outputs": [
    {
     "name": "stdout",
     "output_type": "stream",
     "text": [
      "bedtools v2.25.0\n"
     ]
    }
   ],
   "source": [
    "bedtools -version"
   ]
  },
  {
   "cell_type": "markdown",
   "id": "758e5c73-efab-4265-9c83-268cb2a798ed",
   "metadata": {},
   "source": [
    "## Test"
   ]
  },
  {
   "cell_type": "code",
   "execution_count": 4,
   "id": "207880b0-c275-42b7-95d8-14ac1595913b",
   "metadata": {},
   "outputs": [],
   "source": [
    "TAB=\"$(printf '\\t')\""
   ]
  },
  {
   "cell_type": "code",
   "execution_count": 5,
   "id": "610843fe-372c-4486-a159-7a7b9d717826",
   "metadata": {},
   "outputs": [],
   "source": [
    "cat > A.bed << EOF\n",
    "chr1${TAB}10${TAB}20${TAB}1\n",
    "chr1${TAB}30${TAB}40${TAB}2\n",
    "EOF\n",
    "\n",
    "cat > B.bed << EOF\n",
    "chr1${TAB}15${TAB}20\n",
    "chr1${TAB}18${TAB}25\n",
    "EOF\n",
    "\n",
    "cat > C.bed << EOF\n",
    "chr1${TAB}16${TAB}21\n",
    "chr1${TAB}19${TAB}26\n",
    "EOF"
   ]
  },
  {
   "cell_type": "code",
   "execution_count": 6,
   "id": "566267f3-5f4b-4e5e-993d-c89e4de99838",
   "metadata": {},
   "outputs": [
    {
     "name": "stdout",
     "output_type": "stream",
     "text": [
      "chr1\t10\t20\t1\n",
      "chr1\t30\t40\t2\n",
      "\n",
      "chr1\t15\t20\n",
      "chr1\t18\t25\n",
      "\n",
      "chr1\t16\t21\n",
      "chr1\t19\t26\n"
     ]
    }
   ],
   "source": [
    "cat A.bed\n",
    "echo \n",
    "cat B.bed\n",
    "echo \n",
    "cat C.bed"
   ]
  },
  {
   "cell_type": "code",
   "execution_count": 7,
   "id": "3b19b40b-3675-42c8-a25e-8ff1d74aa77d",
   "metadata": {},
   "outputs": [
    {
     "name": "stdout",
     "output_type": "stream",
     "text": [
      "chr1\t10\t20\t1\t2\n",
      "chr1\t30\t40\t2\t0\n"
     ]
    }
   ],
   "source": [
    "bedtools intersect -a A.bed -b B.bed -c"
   ]
  },
  {
   "cell_type": "code",
   "execution_count": 8,
   "id": "a3afbc6a-9da6-4639-ae02-86ddab59a8f5",
   "metadata": {},
   "outputs": [
    {
     "name": "stdout",
     "output_type": "stream",
     "text": [
      "chr1\t10\t20\t1\t4\n",
      "chr1\t30\t40\t2\t0\n"
     ]
    }
   ],
   "source": [
    "bedtools intersect -a A.bed -b B.bed C.bed -c"
   ]
  },
  {
   "cell_type": "code",
   "execution_count": 9,
   "id": "1dbe906c-2667-4f5c-b280-06f68f37e8b1",
   "metadata": {},
   "outputs": [
    {
     "name": "stdout",
     "output_type": "stream",
     "text": [
      "chr1\t15\t16\t1\t1\t1\t0\n",
      "chr1\t16\t25\t2\t1,2\t1\t1\n",
      "chr1\t25\t26\t1\t2\t0\t1\n"
     ]
    }
   ],
   "source": [
    "multiIntersectBed -a A.bed -i B.bed C.bed -wo"
   ]
  },
  {
   "cell_type": "code",
   "execution_count": 41,
   "id": "ea6e9aa7-9d48-48bf-9f67-a21ccd9cc25a",
   "metadata": {},
   "outputs": [],
   "source": [
    "cat > A.bed << EOF\n",
    "chr1${TAB}100${TAB}200\n",
    "EOF\n",
    "\n",
    "cat > B.bed << EOF\n",
    "chr1${TAB}130${TAB}201\n",
    "chr1${TAB}150${TAB}200000\n",
    "EOF"
   ]
  },
  {
   "cell_type": "code",
   "execution_count": 42,
   "id": "b5625ac2-6659-4bcd-ac69-3ce5d65e92f3",
   "metadata": {},
   "outputs": [
    {
     "name": "stdout",
     "output_type": "stream",
     "text": [
      "chr1\t100\t200\n",
      "\n",
      "chr1\t130\t201\n",
      "chr1\t150\t200000\n"
     ]
    }
   ],
   "source": [
    "cat A.bed\n",
    "echo \n",
    "cat B.bed"
   ]
  },
  {
   "cell_type": "code",
   "execution_count": 48,
   "id": "013d3b56-778b-4f76-b6a1-f2da74d085be",
   "metadata": {},
   "outputs": [
    {
     "name": "stdout",
     "output_type": "stream",
     "text": [
      "chr1\t100\t200\tchr1\t130\t201\n",
      "chr1\t100\t200\tchr1\t150\t200000\n"
     ]
    }
   ],
   "source": [
    "bedtools intersect -a A.bed -b B.bed -f 0.50 -r -wa -wb"
   ]
  },
  {
   "cell_type": "code",
   "execution_count": 49,
   "id": "2e6b7138-607c-4542-ab07-b37119ca5b38",
   "metadata": {},
   "outputs": [
    {
     "name": "stdout",
     "output_type": "stream",
     "text": [
      "chr1\t100\t200\t2\n",
      "\n",
      "chr1\t100\t200\t1\n",
      "\n",
      "chr1\t100\t200\t0\n"
     ]
    }
   ],
   "source": [
    "bedtools intersect -a A.bed -b B.bed -f 0.50 -r -c\n",
    "echo\n",
    "bedtools intersect -a A.bed -b B.bed -f 0.70 -r -c\n",
    "echo\n",
    "bedtools intersect -a A.bed -b B.bed -f 0.90 -r -c"
   ]
  },
  {
   "cell_type": "code",
   "execution_count": null,
   "id": "6668550b-f048-458b-965e-77964d7935b5",
   "metadata": {},
   "outputs": [],
   "source": []
  },
  {
   "cell_type": "code",
   "execution_count": null,
   "id": "94c49a8f-8076-4624-82b1-466a5c5525e2",
   "metadata": {},
   "outputs": [],
   "source": []
  },
  {
   "cell_type": "code",
   "execution_count": 51,
   "id": "0742e2d8-8552-432a-a92e-8b204ef2700c",
   "metadata": {},
   "outputs": [
    {
     "name": "stdout",
     "output_type": "stream",
     "text": [
      "0.50\n"
     ]
    }
   ],
   "source": [
    "FRAC=0.50\n",
    "echo ${FRAC}"
   ]
  },
  {
   "cell_type": "code",
   "execution_count": 54,
   "id": "1ae294ce-a896-4b3c-ac3d-6c5c99cfd5ae",
   "metadata": {},
   "outputs": [
    {
     "name": "stdout",
     "output_type": "stream",
     "text": [
      "\u001b[0m\u001b[38;5;27mInput\u001b[0m       \u001b[38;5;27mInput2\u001b[0m      \u001b[38;5;27mInput3_20x\u001b[0m  \u001b[38;5;27mInput5\u001b[0m      \u001b[38;5;27mTFX2_DMSO\u001b[0m  \u001b[38;5;27mTFX4_Dex\u001b[0m   \u001b[38;5;27mTFX5_DMSO\u001b[0m\n",
      "\u001b[38;5;27mInput1\u001b[0m      \u001b[38;5;27mInput2_20x\u001b[0m  \u001b[38;5;27mInput4\u001b[0m      \u001b[38;5;27mInput5_20x\u001b[0m  \u001b[38;5;27mTFX3_Dex\u001b[0m   \u001b[38;5;27mTFX4_DMSO\u001b[0m  \u001b[38;5;27mTFX_Dex\u001b[0m\n",
      "\u001b[38;5;27mInput1_20x\u001b[0m  \u001b[38;5;27mInput3\u001b[0m      \u001b[38;5;27mInput4_20x\u001b[0m  \u001b[38;5;27mTFX2_Dex\u001b[0m    \u001b[38;5;27mTFX3_DMSO\u001b[0m  \u001b[38;5;27mTFX5_Dex\u001b[0m   \u001b[38;5;27mTFX_DMSO\u001b[0m\n"
     ]
    }
   ],
   "source": [
    "ls ${FD_RES}/data/Input"
   ]
  },
  {
   "cell_type": "code",
   "execution_count": 55,
   "id": "9df209cf-6f6f-47bd-b3c5-b3785e518548",
   "metadata": {},
   "outputs": [
    {
     "name": "stdout",
     "output_type": "stream",
     "text": [
      "/gpfs/fs1/data/reddylab/Kuei/out/proj_combeffect/data/Input1/\n",
      "/gpfs/fs1/data/reddylab/Kuei/out/proj_combeffect/data/Input1_20x/\n",
      "/gpfs/fs1/data/reddylab/Kuei/out/proj_combeffect/data/Input2/\n",
      "/gpfs/fs1/data/reddylab/Kuei/out/proj_combeffect/data/Input2_20x/\n",
      "/gpfs/fs1/data/reddylab/Kuei/out/proj_combeffect/data/Input3/\n",
      "/gpfs/fs1/data/reddylab/Kuei/out/proj_combeffect/data/Input3_20x/\n",
      "/gpfs/fs1/data/reddylab/Kuei/out/proj_combeffect/data/Input4/\n",
      "/gpfs/fs1/data/reddylab/Kuei/out/proj_combeffect/data/Input4_20x/\n",
      "/gpfs/fs1/data/reddylab/Kuei/out/proj_combeffect/data/Input5/\n",
      "/gpfs/fs1/data/reddylab/Kuei/out/proj_combeffect/data/Input5_20x/\n"
     ]
    }
   ],
   "source": [
    "FD_INPS=($(ls -d ${FD_RES}/data/Input?*/))\n",
    "for FD_INP in ${FD_INPS[@]}; do\n",
    "    echo ${FD_INP}\n",
    "done"
   ]
  },
  {
   "cell_type": "code",
   "execution_count": 56,
   "id": "efd03469-99c0-4dbb-a2c6-539346cd6527",
   "metadata": {},
   "outputs": [
    {
     "name": "stdout",
     "output_type": "stream",
     "text": [
      "/gpfs/fs1/data/reddylab/Kuei/out/proj_combeffect/data/Input1/\n",
      "/gpfs/fs1/data/reddylab/Kuei/out/proj_combeffect/data/Input1_20x/\n",
      "/gpfs/fs1/data/reddylab/Kuei/out/proj_combeffect/data/Input2/\n",
      "/gpfs/fs1/data/reddylab/Kuei/out/proj_combeffect/data/Input2_20x/\n",
      "/gpfs/fs1/data/reddylab/Kuei/out/proj_combeffect/data/Input3/\n",
      "/gpfs/fs1/data/reddylab/Kuei/out/proj_combeffect/data/Input3_20x/\n",
      "/gpfs/fs1/data/reddylab/Kuei/out/proj_combeffect/data/Input4/\n",
      "/gpfs/fs1/data/reddylab/Kuei/out/proj_combeffect/data/Input4_20x/\n",
      "/gpfs/fs1/data/reddylab/Kuei/out/proj_combeffect/data/Input5/\n",
      "/gpfs/fs1/data/reddylab/Kuei/out/proj_combeffect/data/Input5_20x/\n",
      "/gpfs/fs1/data/reddylab/Kuei/out/proj_combeffect/data/TFX2_Dex/\n",
      "/gpfs/fs1/data/reddylab/Kuei/out/proj_combeffect/data/TFX2_DMSO/\n",
      "/gpfs/fs1/data/reddylab/Kuei/out/proj_combeffect/data/TFX3_Dex/\n",
      "/gpfs/fs1/data/reddylab/Kuei/out/proj_combeffect/data/TFX3_DMSO/\n",
      "/gpfs/fs1/data/reddylab/Kuei/out/proj_combeffect/data/TFX4_Dex/\n",
      "/gpfs/fs1/data/reddylab/Kuei/out/proj_combeffect/data/TFX4_DMSO/\n",
      "/gpfs/fs1/data/reddylab/Kuei/out/proj_combeffect/data/TFX5_Dex/\n",
      "/gpfs/fs1/data/reddylab/Kuei/out/proj_combeffect/data/TFX5_DMSO/\n"
     ]
    }
   ],
   "source": [
    "FD_BEDS=($(ls -d ${FD_RES}/data/{Input?*,TFX?_DMSO,TFX?_Dex}/))\n",
    "for FD_BED in ${FD_BEDS[@]}; do\n",
    "    echo ${FD_BED}\n",
    "done"
   ]
  },
  {
   "cell_type": "code",
   "execution_count": 62,
   "id": "57a10eb8-6d64-4a9b-91b2-89309cde0f55",
   "metadata": {},
   "outputs": [
    {
     "name": "stdout",
     "output_type": "stream",
     "text": [
      "Slurm Array Index: \n",
      "Time Stamp:         02-04-22+14:14:43\n",
      "\n",
      "++++++++++++++++++++++++++++++++++++++++++++++++\n",
      "Input  file:  /gpfs/fs1/data/reddylab/Kuei/out/proj_combeffect/data/Input1//target_PER1.bed.gz\n",
      "\n",
      "Output file:  /gpfs/fs1/data/reddylab/Kuei/out/proj_combeffect/Input1/target_PER1_f50_Input1.bed.gz\n",
      "Output file:  /gpfs/fs1/data/reddylab/Kuei/out/proj_combeffect/Input1/target_PER1_f50_Input1_20x.bed.gz\n",
      "Output file:  /gpfs/fs1/data/reddylab/Kuei/out/proj_combeffect/Input1/target_PER1_f50_Input2.bed.gz\n",
      "Output file:  /gpfs/fs1/data/reddylab/Kuei/out/proj_combeffect/Input1/target_PER1_f50_Input2_20x.bed.gz\n",
      "Output file:  /gpfs/fs1/data/reddylab/Kuei/out/proj_combeffect/Input1/target_PER1_f50_Input3.bed.gz\n",
      "Output file:  /gpfs/fs1/data/reddylab/Kuei/out/proj_combeffect/Input1/target_PER1_f50_Input3_20x.bed.gz\n",
      "Output file:  /gpfs/fs1/data/reddylab/Kuei/out/proj_combeffect/Input1/target_PER1_f50_Input4.bed.gz\n",
      "Output file:  /gpfs/fs1/data/reddylab/Kuei/out/proj_combeffect/Input1/target_PER1_f50_Input4_20x.bed.gz\n",
      "Output file:  /gpfs/fs1/data/reddylab/Kuei/out/proj_combeffect/Input1/target_PER1_f50_Input5.bed.gz\n",
      "Output file:  /gpfs/fs1/data/reddylab/Kuei/out/proj_combeffect/Input1/target_PER1_f50_Input5_20x.bed.gz\n",
      "++++++++++++++++++++++++++++++++++++++++++++++++\n",
      "Input  file:  /gpfs/fs1/data/reddylab/Kuei/out/proj_combeffect/data/Input1_20x//target_PER1.bed.gz\n",
      "\n",
      "Output file:  /gpfs/fs1/data/reddylab/Kuei/out/proj_combeffect/Input1_20x/target_PER1_f50_Input1.bed.gz\n",
      "Output file:  /gpfs/fs1/data/reddylab/Kuei/out/proj_combeffect/Input1_20x/target_PER1_f50_Input1_20x.bed.gz\n",
      "Output file:  /gpfs/fs1/data/reddylab/Kuei/out/proj_combeffect/Input1_20x/target_PER1_f50_Input2.bed.gz\n",
      "Output file:  /gpfs/fs1/data/reddylab/Kuei/out/proj_combeffect/Input1_20x/target_PER1_f50_Input2_20x.bed.gz\n",
      "Output file:  /gpfs/fs1/data/reddylab/Kuei/out/proj_combeffect/Input1_20x/target_PER1_f50_Input3.bed.gz\n",
      "Output file:  /gpfs/fs1/data/reddylab/Kuei/out/proj_combeffect/Input1_20x/target_PER1_f50_Input3_20x.bed.gz\n",
      "Output file:  /gpfs/fs1/data/reddylab/Kuei/out/proj_combeffect/Input1_20x/target_PER1_f50_Input4.bed.gz\n",
      "Output file:  /gpfs/fs1/data/reddylab/Kuei/out/proj_combeffect/Input1_20x/target_PER1_f50_Input4_20x.bed.gz\n",
      "Output file:  /gpfs/fs1/data/reddylab/Kuei/out/proj_combeffect/Input1_20x/target_PER1_f50_Input5.bed.gz\n",
      "Output file:  /gpfs/fs1/data/reddylab/Kuei/out/proj_combeffect/Input1_20x/target_PER1_f50_Input5_20x.bed.gz\n",
      "++++++++++++++++++++++++++++++++++++++++++++++++\n",
      "Input  file:  /gpfs/fs1/data/reddylab/Kuei/out/proj_combeffect/data/Input2//target_PER1.bed.gz\n",
      "\n",
      "Output file:  /gpfs/fs1/data/reddylab/Kuei/out/proj_combeffect/Input2/target_PER1_f50_Input1.bed.gz\n",
      "Output file:  /gpfs/fs1/data/reddylab/Kuei/out/proj_combeffect/Input2/target_PER1_f50_Input1_20x.bed.gz\n",
      "Output file:  /gpfs/fs1/data/reddylab/Kuei/out/proj_combeffect/Input2/target_PER1_f50_Input2.bed.gz\n",
      "Output file:  /gpfs/fs1/data/reddylab/Kuei/out/proj_combeffect/Input2/target_PER1_f50_Input2_20x.bed.gz\n",
      "Output file:  /gpfs/fs1/data/reddylab/Kuei/out/proj_combeffect/Input2/target_PER1_f50_Input3.bed.gz\n",
      "Output file:  /gpfs/fs1/data/reddylab/Kuei/out/proj_combeffect/Input2/target_PER1_f50_Input3_20x.bed.gz\n",
      "Output file:  /gpfs/fs1/data/reddylab/Kuei/out/proj_combeffect/Input2/target_PER1_f50_Input4.bed.gz\n",
      "Output file:  /gpfs/fs1/data/reddylab/Kuei/out/proj_combeffect/Input2/target_PER1_f50_Input4_20x.bed.gz\n",
      "Output file:  /gpfs/fs1/data/reddylab/Kuei/out/proj_combeffect/Input2/target_PER1_f50_Input5.bed.gz\n",
      "Output file:  /gpfs/fs1/data/reddylab/Kuei/out/proj_combeffect/Input2/target_PER1_f50_Input5_20x.bed.gz\n",
      "++++++++++++++++++++++++++++++++++++++++++++++++\n",
      "Input  file:  /gpfs/fs1/data/reddylab/Kuei/out/proj_combeffect/data/Input2_20x//target_PER1.bed.gz\n",
      "\n",
      "Output file:  /gpfs/fs1/data/reddylab/Kuei/out/proj_combeffect/Input2_20x/target_PER1_f50_Input1.bed.gz\n",
      "Output file:  /gpfs/fs1/data/reddylab/Kuei/out/proj_combeffect/Input2_20x/target_PER1_f50_Input1_20x.bed.gz\n",
      "Output file:  /gpfs/fs1/data/reddylab/Kuei/out/proj_combeffect/Input2_20x/target_PER1_f50_Input2.bed.gz\n",
      "Output file:  /gpfs/fs1/data/reddylab/Kuei/out/proj_combeffect/Input2_20x/target_PER1_f50_Input2_20x.bed.gz\n",
      "Output file:  /gpfs/fs1/data/reddylab/Kuei/out/proj_combeffect/Input2_20x/target_PER1_f50_Input3.bed.gz\n",
      "Output file:  /gpfs/fs1/data/reddylab/Kuei/out/proj_combeffect/Input2_20x/target_PER1_f50_Input3_20x.bed.gz\n",
      "Output file:  /gpfs/fs1/data/reddylab/Kuei/out/proj_combeffect/Input2_20x/target_PER1_f50_Input4.bed.gz\n",
      "Output file:  /gpfs/fs1/data/reddylab/Kuei/out/proj_combeffect/Input2_20x/target_PER1_f50_Input4_20x.bed.gz\n",
      "Output file:  /gpfs/fs1/data/reddylab/Kuei/out/proj_combeffect/Input2_20x/target_PER1_f50_Input5.bed.gz\n",
      "Output file:  /gpfs/fs1/data/reddylab/Kuei/out/proj_combeffect/Input2_20x/target_PER1_f50_Input5_20x.bed.gz\n",
      "++++++++++++++++++++++++++++++++++++++++++++++++\n",
      "Input  file:  /gpfs/fs1/data/reddylab/Kuei/out/proj_combeffect/data/Input3//target_PER1.bed.gz\n",
      "\n",
      "Output file:  /gpfs/fs1/data/reddylab/Kuei/out/proj_combeffect/Input3/target_PER1_f50_Input1.bed.gz\n",
      "Output file:  /gpfs/fs1/data/reddylab/Kuei/out/proj_combeffect/Input3/target_PER1_f50_Input1_20x.bed.gz\n",
      "Output file:  /gpfs/fs1/data/reddylab/Kuei/out/proj_combeffect/Input3/target_PER1_f50_Input2.bed.gz\n",
      "Output file:  /gpfs/fs1/data/reddylab/Kuei/out/proj_combeffect/Input3/target_PER1_f50_Input2_20x.bed.gz\n",
      "Output file:  /gpfs/fs1/data/reddylab/Kuei/out/proj_combeffect/Input3/target_PER1_f50_Input3.bed.gz\n",
      "Output file:  /gpfs/fs1/data/reddylab/Kuei/out/proj_combeffect/Input3/target_PER1_f50_Input3_20x.bed.gz\n",
      "Output file:  /gpfs/fs1/data/reddylab/Kuei/out/proj_combeffect/Input3/target_PER1_f50_Input4.bed.gz\n",
      "Output file:  /gpfs/fs1/data/reddylab/Kuei/out/proj_combeffect/Input3/target_PER1_f50_Input4_20x.bed.gz\n",
      "Output file:  /gpfs/fs1/data/reddylab/Kuei/out/proj_combeffect/Input3/target_PER1_f50_Input5.bed.gz\n",
      "Output file:  /gpfs/fs1/data/reddylab/Kuei/out/proj_combeffect/Input3/target_PER1_f50_Input5_20x.bed.gz\n",
      "++++++++++++++++++++++++++++++++++++++++++++++++\n",
      "Input  file:  /gpfs/fs1/data/reddylab/Kuei/out/proj_combeffect/data/Input3_20x//target_PER1.bed.gz\n",
      "\n",
      "Output file:  /gpfs/fs1/data/reddylab/Kuei/out/proj_combeffect/Input3_20x/target_PER1_f50_Input1.bed.gz\n",
      "Output file:  /gpfs/fs1/data/reddylab/Kuei/out/proj_combeffect/Input3_20x/target_PER1_f50_Input1_20x.bed.gz\n",
      "Output file:  /gpfs/fs1/data/reddylab/Kuei/out/proj_combeffect/Input3_20x/target_PER1_f50_Input2.bed.gz\n",
      "Output file:  /gpfs/fs1/data/reddylab/Kuei/out/proj_combeffect/Input3_20x/target_PER1_f50_Input2_20x.bed.gz\n",
      "Output file:  /gpfs/fs1/data/reddylab/Kuei/out/proj_combeffect/Input3_20x/target_PER1_f50_Input3.bed.gz\n",
      "Output file:  /gpfs/fs1/data/reddylab/Kuei/out/proj_combeffect/Input3_20x/target_PER1_f50_Input3_20x.bed.gz\n",
      "Output file:  /gpfs/fs1/data/reddylab/Kuei/out/proj_combeffect/Input3_20x/target_PER1_f50_Input4.bed.gz\n",
      "Output file:  /gpfs/fs1/data/reddylab/Kuei/out/proj_combeffect/Input3_20x/target_PER1_f50_Input4_20x.bed.gz\n",
      "Output file:  /gpfs/fs1/data/reddylab/Kuei/out/proj_combeffect/Input3_20x/target_PER1_f50_Input5.bed.gz\n",
      "Output file:  /gpfs/fs1/data/reddylab/Kuei/out/proj_combeffect/Input3_20x/target_PER1_f50_Input5_20x.bed.gz\n",
      "++++++++++++++++++++++++++++++++++++++++++++++++\n",
      "Input  file:  /gpfs/fs1/data/reddylab/Kuei/out/proj_combeffect/data/Input4//target_PER1.bed.gz\n",
      "\n",
      "Output file:  /gpfs/fs1/data/reddylab/Kuei/out/proj_combeffect/Input4/target_PER1_f50_Input1.bed.gz\n",
      "Output file:  /gpfs/fs1/data/reddylab/Kuei/out/proj_combeffect/Input4/target_PER1_f50_Input1_20x.bed.gz\n",
      "Output file:  /gpfs/fs1/data/reddylab/Kuei/out/proj_combeffect/Input4/target_PER1_f50_Input2.bed.gz\n",
      "Output file:  /gpfs/fs1/data/reddylab/Kuei/out/proj_combeffect/Input4/target_PER1_f50_Input2_20x.bed.gz\n",
      "Output file:  /gpfs/fs1/data/reddylab/Kuei/out/proj_combeffect/Input4/target_PER1_f50_Input3.bed.gz\n",
      "Output file:  /gpfs/fs1/data/reddylab/Kuei/out/proj_combeffect/Input4/target_PER1_f50_Input3_20x.bed.gz\n",
      "Output file:  /gpfs/fs1/data/reddylab/Kuei/out/proj_combeffect/Input4/target_PER1_f50_Input4.bed.gz\n",
      "Output file:  /gpfs/fs1/data/reddylab/Kuei/out/proj_combeffect/Input4/target_PER1_f50_Input4_20x.bed.gz\n",
      "Output file:  /gpfs/fs1/data/reddylab/Kuei/out/proj_combeffect/Input4/target_PER1_f50_Input5.bed.gz\n",
      "Output file:  /gpfs/fs1/data/reddylab/Kuei/out/proj_combeffect/Input4/target_PER1_f50_Input5_20x.bed.gz\n",
      "++++++++++++++++++++++++++++++++++++++++++++++++\n",
      "Input  file:  /gpfs/fs1/data/reddylab/Kuei/out/proj_combeffect/data/Input4_20x//target_PER1.bed.gz\n",
      "\n",
      "Output file:  /gpfs/fs1/data/reddylab/Kuei/out/proj_combeffect/Input4_20x/target_PER1_f50_Input1.bed.gz\n",
      "Output file:  /gpfs/fs1/data/reddylab/Kuei/out/proj_combeffect/Input4_20x/target_PER1_f50_Input1_20x.bed.gz\n",
      "Output file:  /gpfs/fs1/data/reddylab/Kuei/out/proj_combeffect/Input4_20x/target_PER1_f50_Input2.bed.gz\n",
      "Output file:  /gpfs/fs1/data/reddylab/Kuei/out/proj_combeffect/Input4_20x/target_PER1_f50_Input2_20x.bed.gz\n",
      "Output file:  /gpfs/fs1/data/reddylab/Kuei/out/proj_combeffect/Input4_20x/target_PER1_f50_Input3.bed.gz\n",
      "Output file:  /gpfs/fs1/data/reddylab/Kuei/out/proj_combeffect/Input4_20x/target_PER1_f50_Input3_20x.bed.gz\n",
      "Output file:  /gpfs/fs1/data/reddylab/Kuei/out/proj_combeffect/Input4_20x/target_PER1_f50_Input4.bed.gz\n",
      "Output file:  /gpfs/fs1/data/reddylab/Kuei/out/proj_combeffect/Input4_20x/target_PER1_f50_Input4_20x.bed.gz\n",
      "Output file:  /gpfs/fs1/data/reddylab/Kuei/out/proj_combeffect/Input4_20x/target_PER1_f50_Input5.bed.gz\n",
      "Output file:  /gpfs/fs1/data/reddylab/Kuei/out/proj_combeffect/Input4_20x/target_PER1_f50_Input5_20x.bed.gz\n",
      "++++++++++++++++++++++++++++++++++++++++++++++++\n",
      "Input  file:  /gpfs/fs1/data/reddylab/Kuei/out/proj_combeffect/data/Input5//target_PER1.bed.gz\n",
      "\n",
      "Output file:  /gpfs/fs1/data/reddylab/Kuei/out/proj_combeffect/Input5/target_PER1_f50_Input1.bed.gz\n",
      "Output file:  /gpfs/fs1/data/reddylab/Kuei/out/proj_combeffect/Input5/target_PER1_f50_Input1_20x.bed.gz\n",
      "Output file:  /gpfs/fs1/data/reddylab/Kuei/out/proj_combeffect/Input5/target_PER1_f50_Input2.bed.gz\n",
      "Output file:  /gpfs/fs1/data/reddylab/Kuei/out/proj_combeffect/Input5/target_PER1_f50_Input2_20x.bed.gz\n",
      "Output file:  /gpfs/fs1/data/reddylab/Kuei/out/proj_combeffect/Input5/target_PER1_f50_Input3.bed.gz\n",
      "Output file:  /gpfs/fs1/data/reddylab/Kuei/out/proj_combeffect/Input5/target_PER1_f50_Input3_20x.bed.gz\n",
      "Output file:  /gpfs/fs1/data/reddylab/Kuei/out/proj_combeffect/Input5/target_PER1_f50_Input4.bed.gz\n",
      "Output file:  /gpfs/fs1/data/reddylab/Kuei/out/proj_combeffect/Input5/target_PER1_f50_Input4_20x.bed.gz\n",
      "Output file:  /gpfs/fs1/data/reddylab/Kuei/out/proj_combeffect/Input5/target_PER1_f50_Input5.bed.gz\n",
      "Output file:  /gpfs/fs1/data/reddylab/Kuei/out/proj_combeffect/Input5/target_PER1_f50_Input5_20x.bed.gz\n",
      "++++++++++++++++++++++++++++++++++++++++++++++++\n",
      "Input  file:  /gpfs/fs1/data/reddylab/Kuei/out/proj_combeffect/data/Input5_20x//target_PER1.bed.gz\n",
      "\n",
      "Output file:  /gpfs/fs1/data/reddylab/Kuei/out/proj_combeffect/Input5_20x/target_PER1_f50_Input1.bed.gz\n",
      "Output file:  /gpfs/fs1/data/reddylab/Kuei/out/proj_combeffect/Input5_20x/target_PER1_f50_Input1_20x.bed.gz\n",
      "Output file:  /gpfs/fs1/data/reddylab/Kuei/out/proj_combeffect/Input5_20x/target_PER1_f50_Input2.bed.gz\n",
      "Output file:  /gpfs/fs1/data/reddylab/Kuei/out/proj_combeffect/Input5_20x/target_PER1_f50_Input2_20x.bed.gz\n",
      "Output file:  /gpfs/fs1/data/reddylab/Kuei/out/proj_combeffect/Input5_20x/target_PER1_f50_Input3.bed.gz\n",
      "Output file:  /gpfs/fs1/data/reddylab/Kuei/out/proj_combeffect/Input5_20x/target_PER1_f50_Input3_20x.bed.gz\n",
      "Output file:  /gpfs/fs1/data/reddylab/Kuei/out/proj_combeffect/Input5_20x/target_PER1_f50_Input4.bed.gz\n",
      "Output file:  /gpfs/fs1/data/reddylab/Kuei/out/proj_combeffect/Input5_20x/target_PER1_f50_Input4_20x.bed.gz\n",
      "Output file:  /gpfs/fs1/data/reddylab/Kuei/out/proj_combeffect/Input5_20x/target_PER1_f50_Input5.bed.gz\n",
      "Output file:  /gpfs/fs1/data/reddylab/Kuei/out/proj_combeffect/Input5_20x/target_PER1_f50_Input5_20x.bed.gz\n",
      "++++++++++++++++++++++++++++++++++++++++++++++++\n",
      "Input  file:  /gpfs/fs1/data/reddylab/Kuei/out/proj_combeffect/data/TFX2_Dex//target_PER1.bed.gz\n",
      "\n",
      "Output file:  /gpfs/fs1/data/reddylab/Kuei/out/proj_combeffect/TFX2_Dex/target_PER1_f50_Input1.bed.gz\n",
      "Output file:  /gpfs/fs1/data/reddylab/Kuei/out/proj_combeffect/TFX2_Dex/target_PER1_f50_Input1_20x.bed.gz\n",
      "Output file:  /gpfs/fs1/data/reddylab/Kuei/out/proj_combeffect/TFX2_Dex/target_PER1_f50_Input2.bed.gz\n",
      "Output file:  /gpfs/fs1/data/reddylab/Kuei/out/proj_combeffect/TFX2_Dex/target_PER1_f50_Input2_20x.bed.gz\n",
      "Output file:  /gpfs/fs1/data/reddylab/Kuei/out/proj_combeffect/TFX2_Dex/target_PER1_f50_Input3.bed.gz\n",
      "Output file:  /gpfs/fs1/data/reddylab/Kuei/out/proj_combeffect/TFX2_Dex/target_PER1_f50_Input3_20x.bed.gz\n",
      "Output file:  /gpfs/fs1/data/reddylab/Kuei/out/proj_combeffect/TFX2_Dex/target_PER1_f50_Input4.bed.gz\n",
      "Output file:  /gpfs/fs1/data/reddylab/Kuei/out/proj_combeffect/TFX2_Dex/target_PER1_f50_Input4_20x.bed.gz\n",
      "Output file:  /gpfs/fs1/data/reddylab/Kuei/out/proj_combeffect/TFX2_Dex/target_PER1_f50_Input5.bed.gz\n",
      "Output file:  /gpfs/fs1/data/reddylab/Kuei/out/proj_combeffect/TFX2_Dex/target_PER1_f50_Input5_20x.bed.gz\n",
      "++++++++++++++++++++++++++++++++++++++++++++++++\n",
      "Input  file:  /gpfs/fs1/data/reddylab/Kuei/out/proj_combeffect/data/TFX2_DMSO//target_PER1.bed.gz\n",
      "\n",
      "Output file:  /gpfs/fs1/data/reddylab/Kuei/out/proj_combeffect/TFX2_DMSO/target_PER1_f50_Input1.bed.gz\n",
      "Output file:  /gpfs/fs1/data/reddylab/Kuei/out/proj_combeffect/TFX2_DMSO/target_PER1_f50_Input1_20x.bed.gz\n",
      "Output file:  /gpfs/fs1/data/reddylab/Kuei/out/proj_combeffect/TFX2_DMSO/target_PER1_f50_Input2.bed.gz\n",
      "Output file:  /gpfs/fs1/data/reddylab/Kuei/out/proj_combeffect/TFX2_DMSO/target_PER1_f50_Input2_20x.bed.gz\n",
      "Output file:  /gpfs/fs1/data/reddylab/Kuei/out/proj_combeffect/TFX2_DMSO/target_PER1_f50_Input3.bed.gz\n",
      "Output file:  /gpfs/fs1/data/reddylab/Kuei/out/proj_combeffect/TFX2_DMSO/target_PER1_f50_Input3_20x.bed.gz\n",
      "Output file:  /gpfs/fs1/data/reddylab/Kuei/out/proj_combeffect/TFX2_DMSO/target_PER1_f50_Input4.bed.gz\n",
      "Output file:  /gpfs/fs1/data/reddylab/Kuei/out/proj_combeffect/TFX2_DMSO/target_PER1_f50_Input4_20x.bed.gz\n",
      "Output file:  /gpfs/fs1/data/reddylab/Kuei/out/proj_combeffect/TFX2_DMSO/target_PER1_f50_Input5.bed.gz\n",
      "Output file:  /gpfs/fs1/data/reddylab/Kuei/out/proj_combeffect/TFX2_DMSO/target_PER1_f50_Input5_20x.bed.gz\n",
      "++++++++++++++++++++++++++++++++++++++++++++++++\n",
      "Input  file:  /gpfs/fs1/data/reddylab/Kuei/out/proj_combeffect/data/TFX3_Dex//target_PER1.bed.gz\n",
      "\n",
      "Output file:  /gpfs/fs1/data/reddylab/Kuei/out/proj_combeffect/TFX3_Dex/target_PER1_f50_Input1.bed.gz\n",
      "Output file:  /gpfs/fs1/data/reddylab/Kuei/out/proj_combeffect/TFX3_Dex/target_PER1_f50_Input1_20x.bed.gz\n",
      "Output file:  /gpfs/fs1/data/reddylab/Kuei/out/proj_combeffect/TFX3_Dex/target_PER1_f50_Input2.bed.gz\n",
      "Output file:  /gpfs/fs1/data/reddylab/Kuei/out/proj_combeffect/TFX3_Dex/target_PER1_f50_Input2_20x.bed.gz\n",
      "Output file:  /gpfs/fs1/data/reddylab/Kuei/out/proj_combeffect/TFX3_Dex/target_PER1_f50_Input3.bed.gz\n",
      "Output file:  /gpfs/fs1/data/reddylab/Kuei/out/proj_combeffect/TFX3_Dex/target_PER1_f50_Input3_20x.bed.gz\n",
      "Output file:  /gpfs/fs1/data/reddylab/Kuei/out/proj_combeffect/TFX3_Dex/target_PER1_f50_Input4.bed.gz\n",
      "Output file:  /gpfs/fs1/data/reddylab/Kuei/out/proj_combeffect/TFX3_Dex/target_PER1_f50_Input4_20x.bed.gz\n",
      "Output file:  /gpfs/fs1/data/reddylab/Kuei/out/proj_combeffect/TFX3_Dex/target_PER1_f50_Input5.bed.gz\n",
      "Output file:  /gpfs/fs1/data/reddylab/Kuei/out/proj_combeffect/TFX3_Dex/target_PER1_f50_Input5_20x.bed.gz\n",
      "++++++++++++++++++++++++++++++++++++++++++++++++\n",
      "Input  file:  /gpfs/fs1/data/reddylab/Kuei/out/proj_combeffect/data/TFX3_DMSO//target_PER1.bed.gz\n",
      "\n",
      "Output file:  /gpfs/fs1/data/reddylab/Kuei/out/proj_combeffect/TFX3_DMSO/target_PER1_f50_Input1.bed.gz\n",
      "Output file:  /gpfs/fs1/data/reddylab/Kuei/out/proj_combeffect/TFX3_DMSO/target_PER1_f50_Input1_20x.bed.gz\n",
      "Output file:  /gpfs/fs1/data/reddylab/Kuei/out/proj_combeffect/TFX3_DMSO/target_PER1_f50_Input2.bed.gz\n",
      "Output file:  /gpfs/fs1/data/reddylab/Kuei/out/proj_combeffect/TFX3_DMSO/target_PER1_f50_Input2_20x.bed.gz\n",
      "Output file:  /gpfs/fs1/data/reddylab/Kuei/out/proj_combeffect/TFX3_DMSO/target_PER1_f50_Input3.bed.gz\n",
      "Output file:  /gpfs/fs1/data/reddylab/Kuei/out/proj_combeffect/TFX3_DMSO/target_PER1_f50_Input3_20x.bed.gz\n",
      "Output file:  /gpfs/fs1/data/reddylab/Kuei/out/proj_combeffect/TFX3_DMSO/target_PER1_f50_Input4.bed.gz\n",
      "Output file:  /gpfs/fs1/data/reddylab/Kuei/out/proj_combeffect/TFX3_DMSO/target_PER1_f50_Input4_20x.bed.gz\n",
      "Output file:  /gpfs/fs1/data/reddylab/Kuei/out/proj_combeffect/TFX3_DMSO/target_PER1_f50_Input5.bed.gz\n",
      "Output file:  /gpfs/fs1/data/reddylab/Kuei/out/proj_combeffect/TFX3_DMSO/target_PER1_f50_Input5_20x.bed.gz\n",
      "++++++++++++++++++++++++++++++++++++++++++++++++\n",
      "Input  file:  /gpfs/fs1/data/reddylab/Kuei/out/proj_combeffect/data/TFX4_Dex//target_PER1.bed.gz\n",
      "\n",
      "Output file:  /gpfs/fs1/data/reddylab/Kuei/out/proj_combeffect/TFX4_Dex/target_PER1_f50_Input1.bed.gz\n",
      "Output file:  /gpfs/fs1/data/reddylab/Kuei/out/proj_combeffect/TFX4_Dex/target_PER1_f50_Input1_20x.bed.gz\n",
      "Output file:  /gpfs/fs1/data/reddylab/Kuei/out/proj_combeffect/TFX4_Dex/target_PER1_f50_Input2.bed.gz\n",
      "Output file:  /gpfs/fs1/data/reddylab/Kuei/out/proj_combeffect/TFX4_Dex/target_PER1_f50_Input2_20x.bed.gz\n",
      "Output file:  /gpfs/fs1/data/reddylab/Kuei/out/proj_combeffect/TFX4_Dex/target_PER1_f50_Input3.bed.gz\n",
      "Output file:  /gpfs/fs1/data/reddylab/Kuei/out/proj_combeffect/TFX4_Dex/target_PER1_f50_Input3_20x.bed.gz\n",
      "Output file:  /gpfs/fs1/data/reddylab/Kuei/out/proj_combeffect/TFX4_Dex/target_PER1_f50_Input4.bed.gz\n",
      "Output file:  /gpfs/fs1/data/reddylab/Kuei/out/proj_combeffect/TFX4_Dex/target_PER1_f50_Input4_20x.bed.gz\n",
      "Output file:  /gpfs/fs1/data/reddylab/Kuei/out/proj_combeffect/TFX4_Dex/target_PER1_f50_Input5.bed.gz\n",
      "Output file:  /gpfs/fs1/data/reddylab/Kuei/out/proj_combeffect/TFX4_Dex/target_PER1_f50_Input5_20x.bed.gz\n",
      "++++++++++++++++++++++++++++++++++++++++++++++++\n",
      "Input  file:  /gpfs/fs1/data/reddylab/Kuei/out/proj_combeffect/data/TFX4_DMSO//target_PER1.bed.gz\n",
      "\n",
      "Output file:  /gpfs/fs1/data/reddylab/Kuei/out/proj_combeffect/TFX4_DMSO/target_PER1_f50_Input1.bed.gz\n",
      "Output file:  /gpfs/fs1/data/reddylab/Kuei/out/proj_combeffect/TFX4_DMSO/target_PER1_f50_Input1_20x.bed.gz\n",
      "Output file:  /gpfs/fs1/data/reddylab/Kuei/out/proj_combeffect/TFX4_DMSO/target_PER1_f50_Input2.bed.gz\n",
      "Output file:  /gpfs/fs1/data/reddylab/Kuei/out/proj_combeffect/TFX4_DMSO/target_PER1_f50_Input2_20x.bed.gz\n",
      "Output file:  /gpfs/fs1/data/reddylab/Kuei/out/proj_combeffect/TFX4_DMSO/target_PER1_f50_Input3.bed.gz\n",
      "Output file:  /gpfs/fs1/data/reddylab/Kuei/out/proj_combeffect/TFX4_DMSO/target_PER1_f50_Input3_20x.bed.gz\n",
      "Output file:  /gpfs/fs1/data/reddylab/Kuei/out/proj_combeffect/TFX4_DMSO/target_PER1_f50_Input4.bed.gz\n",
      "Output file:  /gpfs/fs1/data/reddylab/Kuei/out/proj_combeffect/TFX4_DMSO/target_PER1_f50_Input4_20x.bed.gz\n",
      "Output file:  /gpfs/fs1/data/reddylab/Kuei/out/proj_combeffect/TFX4_DMSO/target_PER1_f50_Input5.bed.gz\n",
      "Output file:  /gpfs/fs1/data/reddylab/Kuei/out/proj_combeffect/TFX4_DMSO/target_PER1_f50_Input5_20x.bed.gz\n",
      "++++++++++++++++++++++++++++++++++++++++++++++++\n",
      "Input  file:  /gpfs/fs1/data/reddylab/Kuei/out/proj_combeffect/data/TFX5_Dex//target_PER1.bed.gz\n",
      "\n",
      "Output file:  /gpfs/fs1/data/reddylab/Kuei/out/proj_combeffect/TFX5_Dex/target_PER1_f50_Input1.bed.gz\n",
      "Output file:  /gpfs/fs1/data/reddylab/Kuei/out/proj_combeffect/TFX5_Dex/target_PER1_f50_Input1_20x.bed.gz\n",
      "Output file:  /gpfs/fs1/data/reddylab/Kuei/out/proj_combeffect/TFX5_Dex/target_PER1_f50_Input2.bed.gz\n",
      "Output file:  /gpfs/fs1/data/reddylab/Kuei/out/proj_combeffect/TFX5_Dex/target_PER1_f50_Input2_20x.bed.gz\n",
      "Output file:  /gpfs/fs1/data/reddylab/Kuei/out/proj_combeffect/TFX5_Dex/target_PER1_f50_Input3.bed.gz\n",
      "Output file:  /gpfs/fs1/data/reddylab/Kuei/out/proj_combeffect/TFX5_Dex/target_PER1_f50_Input3_20x.bed.gz\n",
      "Output file:  /gpfs/fs1/data/reddylab/Kuei/out/proj_combeffect/TFX5_Dex/target_PER1_f50_Input4.bed.gz\n",
      "Output file:  /gpfs/fs1/data/reddylab/Kuei/out/proj_combeffect/TFX5_Dex/target_PER1_f50_Input4_20x.bed.gz\n",
      "Output file:  /gpfs/fs1/data/reddylab/Kuei/out/proj_combeffect/TFX5_Dex/target_PER1_f50_Input5.bed.gz\n",
      "Output file:  /gpfs/fs1/data/reddylab/Kuei/out/proj_combeffect/TFX5_Dex/target_PER1_f50_Input5_20x.bed.gz\n",
      "++++++++++++++++++++++++++++++++++++++++++++++++\n",
      "Input  file:  /gpfs/fs1/data/reddylab/Kuei/out/proj_combeffect/data/TFX5_DMSO//target_PER1.bed.gz\n",
      "\n",
      "Output file:  /gpfs/fs1/data/reddylab/Kuei/out/proj_combeffect/TFX5_DMSO/target_PER1_f50_Input1.bed.gz\n",
      "Output file:  /gpfs/fs1/data/reddylab/Kuei/out/proj_combeffect/TFX5_DMSO/target_PER1_f50_Input1_20x.bed.gz\n",
      "Output file:  /gpfs/fs1/data/reddylab/Kuei/out/proj_combeffect/TFX5_DMSO/target_PER1_f50_Input2.bed.gz\n",
      "Output file:  /gpfs/fs1/data/reddylab/Kuei/out/proj_combeffect/TFX5_DMSO/target_PER1_f50_Input2_20x.bed.gz\n",
      "Output file:  /gpfs/fs1/data/reddylab/Kuei/out/proj_combeffect/TFX5_DMSO/target_PER1_f50_Input3.bed.gz\n",
      "Output file:  /gpfs/fs1/data/reddylab/Kuei/out/proj_combeffect/TFX5_DMSO/target_PER1_f50_Input3_20x.bed.gz\n",
      "Output file:  /gpfs/fs1/data/reddylab/Kuei/out/proj_combeffect/TFX5_DMSO/target_PER1_f50_Input4.bed.gz\n",
      "Output file:  /gpfs/fs1/data/reddylab/Kuei/out/proj_combeffect/TFX5_DMSO/target_PER1_f50_Input4_20x.bed.gz\n",
      "Output file:  /gpfs/fs1/data/reddylab/Kuei/out/proj_combeffect/TFX5_DMSO/target_PER1_f50_Input5.bed.gz\n",
      "Output file:  /gpfs/fs1/data/reddylab/Kuei/out/proj_combeffect/TFX5_DMSO/target_PER1_f50_Input5_20x.bed.gz\n"
     ]
    }
   ],
   "source": [
    "### set directories & global variables\n",
    "source ../config_duke.sh\n",
    "#CHROMS=($(seq 1 22) X Y)\n",
    "#CHROM=${CHROMS[${SLURM_ARRAY_TASK_ID}]}\n",
    "#TARGET=chr${CHROM}\n",
    "CHROM=chr17\n",
    "TARGET=target_PER1\n",
    "\n",
    "FRAC=0.50\n",
    "SUFFIX=f50\n",
    "\n",
    "FD_BEDS=($(ls -d ${FD_RES}/data/{Input?*,TFX?_DMSO,TFX?_Dex}/))\n",
    "FD_INPS=($(ls -d ${FD_RES}/data/Input?*/))\n",
    "FD_CNT=${FD_RES}\n",
    "\n",
    "FN_BED=${TARGET}.bed.gz\n",
    "FN_INP=${CHROM}.bed.gz\n",
    "\n",
    "\n",
    "### START Message\n",
    "timer_start=`date +%s`\n",
    "echo \"Slurm Array Index: \" ${SLURM_ARRAY_TASK_ID}\n",
    "echo \"Time Stamp:        \" $(date +\"%m-%d-%y+%T\")\n",
    "echo\n",
    "\n",
    "for FD_BED in ${FD_BEDS[@]}; do\n",
    "    SAMPLE=$(basename ${FD_BED})\n",
    "    FD_OUT=${FD_CNT}/${SAMPLE}\n",
    "    \n",
    "    ### Loop START Message\n",
    "    echo ++++++++++++++++++++++++++++++++++++++++++++++++\n",
    "    echo \"Input  file: \" ${FD_BED}/${FN_BED}\n",
    "    echo\n",
    "    #echo \"Show the first few lines of the input file\"\n",
    "    #echo ${FD_BED}/${FN_BED}\n",
    "    #zcat ${FD_BED}/${FN_BED} | head -n 3\n",
    "    #echo\n",
    "    \n",
    "    for FD_INP in ${FD_INPS[@]}; do\n",
    "        INPUT=$(basename ${FD_INP})\n",
    "        FN_OUT=${TARGET}_${SUFFIX}_${INPUT}.bed.gz\n",
    "        echo \"Output file: \" ${FD_OUT}/${FN_OUT}\n",
    "        \n",
    "        #bedtools intersect \\\n",
    "        #    -a ${FD_BED}/${FN_BED} \\\n",
    "        #    -b ${FD_INP}/${FN_INP} \\\n",
    "        #    -f ${FRAC} -r -c |\\\n",
    "        #gzip -c > ${FD_OUT}/${FN_OUT}\n",
    "    done\n",
    "done"
   ]
  },
  {
   "cell_type": "code",
   "execution_count": null,
   "id": "e66f49e2-b405-4f24-985c-ec51cf502256",
   "metadata": {},
   "outputs": [],
   "source": []
  }
 ],
 "metadata": {
  "kernelspec": {
   "display_name": "Bash",
   "language": "bash",
   "name": "bash"
  },
  "language_info": {
   "codemirror_mode": "shell",
   "file_extension": ".sh",
   "mimetype": "text/x-sh",
   "name": "bash"
  }
 },
 "nbformat": 4,
 "nbformat_minor": 5
}
