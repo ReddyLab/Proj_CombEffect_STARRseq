{
 "cells": [
  {
   "cell_type": "code",
   "execution_count": 1,
   "metadata": {},
   "outputs": [],
   "source": [
    "from pyjaspar import jaspardb"
   ]
  },
  {
   "cell_type": "code",
   "execution_count": 2,
   "metadata": {},
   "outputs": [
    {
     "name": "stdout",
     "output_type": "stream",
     "text": [
      "JASPAR2018\n"
     ]
    }
   ],
   "source": [
    "jdb_obj = jaspardb(release='JASPAR2018')\n",
    "print(jdb_obj.release)"
   ]
  },
  {
   "cell_type": "code",
   "execution_count": 4,
   "metadata": {},
   "outputs": [
    {
     "name": "stdout",
     "output_type": "stream",
     "text": [
      "TF name\tAr\n",
      "Matrix ID\tMA0007.3\n",
      "Collection\tCORE\n",
      "TF class\t['Nuclear receptors with C4 zinc fingers']\n",
      "TF family\t['Steroid hormone receptors (NR3)']\n",
      "Species\t10090\n",
      "Taxonomic group\tvertebrates\n",
      "Accession\t['P19091']\n",
      "Data type used\tHT-SELEX\n",
      "Medline\t20943813\n",
      "Comments\tData is from Taipale HTSELEX DBD (2013)\n",
      "Matrix:\n",
      "        0      1      2      3      4      5      6      7      8      9     10     11     12     13     14     15     16\n",
      "A: 1094.00 939.00   8.00 1197.00 2167.00   4.00 1997.00 199.00 561.00 755.00  33.00   0.00  22.00 1195.00   7.00  32.00 430.00\n",
      "C: 167.00  17.00   0.00 291.00   5.00 2189.00  20.00 1228.00 611.00 250.00 277.00   4.00   4.00 112.00 2166.00 1542.00 1092.00\n",
      "G: 1555.00 2221.00 3837.00 184.00   3.00   5.00 273.00 328.00 991.00 1673.00   8.00 3618.00   0.00 230.00   0.00   2.00 343.00\n",
      "T: 286.00  19.00   6.00 1027.00   3.00   2.00  11.00 712.00 509.00 207.00 2529.00   1.00 2768.00 1094.00   8.00 829.00 913.00\n",
      "\n",
      "\n",
      "\n"
     ]
    }
   ],
   "source": [
    "motif = jdb_obj.fetch_motif_by_id('MA0007.3')\n",
    "print(motif)"
   ]
  },
  {
   "cell_type": "code",
   "execution_count": 5,
   "metadata": {},
   "outputs": [
    {
     "data": {
      "text/plain": [
       "['10090']"
      ]
     },
     "execution_count": 5,
     "metadata": {},
     "output_type": "execute_result"
    }
   ],
   "source": [
    "motif.species"
   ]
  },
  {
   "cell_type": "code",
   "execution_count": 6,
   "metadata": {},
   "outputs": [
    {
     "name": "stdout",
     "output_type": "stream",
     "text": [
      "TF name\tNR3C2\n",
      "Matrix ID\tMA0727.1\n",
      "Collection\tCORE\n",
      "TF class\t['Nuclear receptors with C4 zinc fingers']\n",
      "TF family\t['Steroid hormone receptors (NR3)']\n",
      "Species\t9606\n",
      "Taxonomic group\tvertebrates\n",
      "Accession\t['P08235']\n",
      "Data type used\tHT-SELEX\n",
      "Medline\t15563547\n",
      "PAZAR ID\tTF0000702\n",
      "Comments\tData is from Taipale HTSELEX DBD (2013)\n",
      "Matrix:\n",
      "        0      1      2      3      4      5      6      7      8      9     10     11     12     13     14     15     16\n",
      "A: 8406.00 15033.00  57.00 17523.00 30042.00   0.00 33515.00 7347.00 17996.00 22920.00 401.00   0.00   4.00 13789.00  16.00 560.00 9074.00\n",
      "C: 6688.00 226.00   8.00 1377.00  15.00 49953.00  28.00 18273.00 4833.00 1933.00 996.00   9.00  23.00 7366.00 42687.00 25680.00 17397.00\n",
      "G: 20193.00 26931.00 55731.00 6650.00  13.00   5.00 1053.00 3144.00 8538.00 14022.00  22.00 58888.00   3.00 1346.00   9.00 582.00 7774.00\n",
      "T: 12758.00 535.00  60.00 13654.00   9.00   0.00 221.00 16489.00 11062.00 4023.00 43465.00   0.00 44513.00 18547.00  83.00 16504.00 8792.00\n",
      "\n",
      "\n",
      "\n"
     ]
    }
   ],
   "source": [
    "motif = jdb_obj.fetch_motif_by_id('MA0727.1')\n",
    "print(motif)"
   ]
  },
  {
   "cell_type": "code",
   "execution_count": 7,
   "metadata": {},
   "outputs": [
    {
     "data": {
      "text/plain": [
       "['9606']"
      ]
     },
     "execution_count": 7,
     "metadata": {},
     "output_type": "execute_result"
    }
   ],
   "source": [
    "motif.species"
   ]
  },
  {
   "cell_type": "code",
   "execution_count": 8,
   "metadata": {},
   "outputs": [
    {
     "name": "stdout",
     "output_type": "stream",
     "text": [
      "TF name\tNR3C1\n",
      "Matrix ID\tMA0113.3\n",
      "Collection\tCORE\n",
      "TF class\t['Nuclear receptors with C4 zinc fingers']\n",
      "TF family\t['Steroid hormone receptors (NR3)']\n",
      "Species\t9606\n",
      "Taxonomic group\tvertebrates\n",
      "Accession\t['P04150']\n",
      "Data type used\tHT-SELEX\n",
      "Medline\t15563547\n",
      "PAZAR ID\tTF0000126\n",
      "Comments\tData is from Taipale HTSELEX DBD (2013)\n",
      "Matrix:\n",
      "        0      1      2      3      4      5      6      7      8      9     10     11     12     13     14     15     16\n",
      "A: 6520.00 8885.00  40.00 8932.00 18207.00   0.00 18421.00 2470.00 7736.00 11413.00  81.00   0.00   8.00 8832.00  33.00 234.00 6219.00\n",
      "C: 2274.00 107.00   7.00 599.00   8.00 24481.00  18.00 9569.00 3656.00 964.00 565.00  11.00   9.00 3149.00 24380.00 14665.00 8912.00\n",
      "G: 9169.00 12768.00 27337.00 2854.00   9.00  14.00 698.00 1583.00 5589.00 7861.00  50.00 27160.00  50.00 648.00   5.00 188.00 3101.00\n",
      "T: 4861.00 225.00  38.00 10448.00  10.00   0.00  71.00 10711.00 5972.00 1822.00 23751.00   5.00 24434.00 10375.00  58.00 9821.00 5075.00\n",
      "\n",
      "\n",
      "\n"
     ]
    }
   ],
   "source": [
    "motif = jdb_obj.fetch_motif_by_id('MA0113.3')\n",
    "print(motif)"
   ]
  },
  {
   "cell_type": "code",
   "execution_count": 9,
   "metadata": {},
   "outputs": [
    {
     "data": {
      "text/plain": [
       "['9606']"
      ]
     },
     "execution_count": 9,
     "metadata": {},
     "output_type": "execute_result"
    }
   ],
   "source": [
    "motif.species"
   ]
  },
  {
   "cell_type": "code",
   "execution_count": null,
   "metadata": {},
   "outputs": [],
   "source": []
  },
  {
   "cell_type": "code",
   "execution_count": 4,
   "metadata": {},
   "outputs": [],
   "source": [
    "jdb_obj = jaspardb()"
   ]
  },
  {
   "cell_type": "code",
   "execution_count": 5,
   "metadata": {},
   "outputs": [
    {
     "name": "stdout",
     "output_type": "stream",
     "text": [
      "JASPAR2022\n"
     ]
    }
   ],
   "source": [
    "print(jdb_obj.release)"
   ]
  },
  {
   "cell_type": "code",
   "execution_count": 6,
   "metadata": {},
   "outputs": [
    {
     "name": "stdout",
     "output_type": "stream",
     "text": [
      "['JASPAR2022', 'JASPAR2020', 'JASPAR2018', 'JASPAR2016', 'JASPAR2014']\n"
     ]
    }
   ],
   "source": [
    "print(jdb_obj.get_releases())"
   ]
  },
  {
   "cell_type": "code",
   "execution_count": 7,
   "metadata": {},
   "outputs": [],
   "source": [
    "motif = jdb_obj.fetch_motif_by_id('MA0095.2')"
   ]
  },
  {
   "cell_type": "code",
   "execution_count": 8,
   "metadata": {},
   "outputs": [
    {
     "name": "stdout",
     "output_type": "stream",
     "text": [
      "TF name\tYY1\n",
      "Matrix ID\tMA0095.2\n",
      "Collection\tCORE\n",
      "TF class\t['C2H2 zinc finger factors']\n",
      "TF family\t['More than 3 adjacent zinc fingers']\n",
      "Species\t9606\n",
      "Taxonomic group\tvertebrates\n",
      "Accession\t['P25490']\n",
      "Data type used\tChIP-seq\n",
      "Medline\t18950698\n",
      "Matrix:\n",
      "        0      1      2      3      4      5      6      7      8      9     10     11\n",
      "A: 1126.00 6975.00 6741.00 2506.00 7171.00   0.00  11.00  13.00 812.00 867.00 899.00 1332.00\n",
      "C: 4583.00   0.00  99.00 1117.00   0.00  12.00   0.00   0.00 5637.00 1681.00 875.00 4568.00\n",
      "G: 801.00 181.00 268.00 3282.00   0.00   0.00 7160.00 7158.00  38.00 2765.00 4655.00 391.00\n",
      "T: 661.00  15.00  63.00 266.00   0.00 7159.00   0.00   0.00 684.00 1858.00 742.00 880.00\n",
      "\n",
      "\n",
      "\n"
     ]
    }
   ],
   "source": [
    "print(motif)"
   ]
  },
  {
   "cell_type": "code",
   "execution_count": 9,
   "metadata": {},
   "outputs": [
    {
     "name": "stdout",
     "output_type": "stream",
     "text": [
      "        0      1      2      3      4      5      6      7      8      9     10     11\n",
      "A: 1126.00 6975.00 6741.00 2506.00 7171.00   0.00  11.00  13.00 812.00 867.00 899.00 1332.00\n",
      "C: 4583.00   0.00  99.00 1117.00   0.00  12.00   0.00   0.00 5637.00 1681.00 875.00 4568.00\n",
      "G: 801.00 181.00 268.00 3282.00   0.00   0.00 7160.00 7158.00  38.00 2765.00 4655.00 391.00\n",
      "T: 661.00  15.00  63.00 266.00   0.00 7159.00   0.00   0.00 684.00 1858.00 742.00 880.00\n",
      "\n"
     ]
    }
   ],
   "source": [
    "print(motif.counts)"
   ]
  },
  {
   "cell_type": "code",
   "execution_count": 10,
   "metadata": {},
   "outputs": [],
   "source": [
    "motif = jdb_obj.fetch_motif_by_id('MA0727.1')"
   ]
  },
  {
   "cell_type": "code",
   "execution_count": 12,
   "metadata": {},
   "outputs": [
    {
     "name": "stdout",
     "output_type": "stream",
     "text": [
      "        0      1      2      3      4      5      6      7      8      9     10     11     12     13     14     15     16\n",
      "A:   0.17   0.35   0.00   0.45   1.00   0.00   0.96   0.16   0.42   0.53   0.01   0.00   0.00   0.34   0.00   0.01   0.21\n",
      "C:   0.14   0.01   0.00   0.04   0.00   1.00   0.00   0.40   0.11   0.05   0.02   0.00   0.00   0.18   1.00   0.59   0.40\n",
      "G:   0.42   0.63   1.00   0.17   0.00   0.00   0.03   0.07   0.20   0.33   0.00   1.00   0.00   0.03   0.00   0.01   0.18\n",
      "T:   0.27   0.01   0.00   0.35   0.00   0.00   0.01   0.36   0.26   0.09   0.97   0.00   1.00   0.45   0.00   0.38   0.20\n",
      "\n"
     ]
    }
   ],
   "source": [
    "print(motif.pwm)"
   ]
  },
  {
   "cell_type": "code",
   "execution_count": 13,
   "metadata": {},
   "outputs": [
    {
     "name": "stdout",
     "output_type": "stream",
     "text": [
      "TF name\tNR3C1\n",
      "Matrix ID\tMA0113.1\n",
      "Collection\tCORE\n",
      "TF class\t['Nuclear receptors with C4 zinc fingers']\n",
      "TF family\t['Steroid hormone receptors (NR3)']\n",
      "Species\t8022,9031,9606,10090,10116\n",
      "Taxonomic group\tvertebrates\n",
      "Accession\t['P04150']\n",
      "Data type used\tCOMPILED\n",
      "Medline\t15563547\n",
      "Matrix:\n",
      "        0      1      2      3      4      5      6      7      8      9     10     11     12     13     14     15     16     17\n",
      "A:   3.00   4.00   3.00   7.00   6.00   1.00   8.00   2.00   3.00   5.00   1.00   0.00   1.00   2.00   0.00   1.00   4.00   3.00\n",
      "C:   2.00   0.00   0.00   0.00   1.00   6.00   0.00   0.00   2.00   3.00   3.00   0.00   0.00   4.00   8.00   2.00   0.00   1.00\n",
      "G:   4.00   5.00   6.00   1.00   1.00   2.00   1.00   2.00   0.00   0.00   0.00   8.00   0.00   0.00   1.00   1.00   4.00   2.00\n",
      "T:   0.00   0.00   0.00   1.00   1.00   0.00   0.00   5.00   4.00   1.00   5.00   1.00   8.00   3.00   0.00   5.00   1.00   3.00\n",
      "\n",
      "\n",
      "\n"
     ]
    }
   ],
   "source": [
    "motif = jdb_obj.fetch_motif_by_id('MA0113.1')\n",
    "print(motif)"
   ]
  },
  {
   "cell_type": "code",
   "execution_count": null,
   "metadata": {},
   "outputs": [],
   "source": []
  }
 ],
 "metadata": {
  "kernelspec": {
   "display_name": "Python 3",
   "language": "python",
   "name": "python3"
  },
  "language_info": {
   "codemirror_mode": {
    "name": "ipython",
    "version": 3
   },
   "file_extension": ".py",
   "mimetype": "text/x-python",
   "name": "python",
   "nbconvert_exporter": "python",
   "pygments_lexer": "ipython3",
   "version": "3.7.6"
  }
 },
 "nbformat": 4,
 "nbformat_minor": 4
}
