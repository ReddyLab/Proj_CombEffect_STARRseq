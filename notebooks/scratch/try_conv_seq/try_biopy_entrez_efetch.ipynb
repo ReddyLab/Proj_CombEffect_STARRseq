{
 "cells": [
  {
   "cell_type": "code",
   "execution_count": 1,
   "metadata": {},
   "outputs": [],
   "source": [
    "from Bio import Entrez, SeqIO"
   ]
  },
  {
   "cell_type": "code",
   "execution_count": 2,
   "metadata": {},
   "outputs": [],
   "source": [
    "Entrez.email = \"kuei.yueh.ko@duke.edu\"     # Always tell NCBI who you are"
   ]
  },
  {
   "cell_type": "code",
   "execution_count": 3,
   "metadata": {},
   "outputs": [],
   "source": [
    "handle = Entrez.efetch(db=\"nucleotide\", \n",
    "                       id=\"307603377\", \n",
    "                       rettype=\"fasta\", \n",
    "                       strand=1, \n",
    "                       seq_start=4000100, \n",
    "                       seq_stop=4000200)"
   ]
  },
  {
   "cell_type": "code",
   "execution_count": 4,
   "metadata": {},
   "outputs": [
    {
     "data": {
      "text/plain": [
       "<_io.TextIOWrapper encoding='UTF-8'>"
      ]
     },
     "execution_count": 4,
     "metadata": {},
     "output_type": "execute_result"
    }
   ],
   "source": [
    "handle"
   ]
  },
  {
   "cell_type": "code",
   "execution_count": 5,
   "metadata": {},
   "outputs": [],
   "source": [
    "record = SeqIO.read(handle, \"fasta\")"
   ]
  },
  {
   "cell_type": "code",
   "execution_count": 6,
   "metadata": {},
   "outputs": [],
   "source": [
    "handle.close()"
   ]
  },
  {
   "cell_type": "code",
   "execution_count": 7,
   "metadata": {},
   "outputs": [
    {
     "name": "stdout",
     "output_type": "stream",
     "text": [
      "ATTAAAAGCTTTCAAAATTAATAACAAAATAAACATTTACTTTTTTTAAAAAAATCAAACTTTGGGCTACAAGAAAGTTCAAAATATTGTGCTAATGGAAT\n"
     ]
    }
   ],
   "source": [
    "print(record.seq)"
   ]
  },
  {
   "cell_type": "markdown",
   "metadata": {},
   "source": [
    "Human chr17 GI number: `568,815,581`\n",
    "\n",
    "testing: \n",
    "- chr17:8,156,500-8,156,510\n",
    "- TTCTCATTGGT"
   ]
  },
  {
   "cell_type": "code",
   "execution_count": 9,
   "metadata": {},
   "outputs": [
    {
     "name": "stdout",
     "output_type": "stream",
     "text": [
      "TTCTCATTGGT\n"
     ]
    }
   ],
   "source": [
    "### init\n",
    "gid = 568815581\n",
    "\n",
    "### setup\n",
    "handle = Entrez.efetch(\n",
    "    db        = \"nucleotide\", \n",
    "    id        = gid, \n",
    "    rettype   = \"fasta\", \n",
    "    strand    = 1, \n",
    "    seq_start = 8_156_500, \n",
    "    seq_stop  = 8_156_510)\n",
    "\n",
    "### query\n",
    "record = SeqIO.read(handle, \"fasta\")\n",
    "handle.close()\n",
    "\n",
    "### show results\n",
    "print(record.seq)"
   ]
  },
  {
   "cell_type": "code",
   "execution_count": 10,
   "metadata": {},
   "outputs": [
    {
     "name": "stdout",
     "output_type": "stream",
     "text": [
      "GCCTCCAAGGCCTCGGAGCAGGAGGTGAGCTGGTCGCCTCCTATATTTAGGCCTCCAGGCTAATTTTATCCGGGGGCGGTGCCACCCCCGCTGCACATGCGCGCCGACGTGCGCGGCCCCACCACGCGCTTCCGCCGCCGCCACGGTCGCCAGGGAAACCGACGTCAGCTGCTGAGCTCAGCGGTTGCTGGAGGGACCACAGGAGGGCGGGAGGAGCGACCCCTCCCCCATTTCCCGGCGGAAGTGGGGGAACGGCCCACTCTCACACTGGTGGGCGCGGCCGGGGGGGTCACGCATCCCTTACATATCCCCAGTCCCAGGATGGCTCGGTGGCCGTAAGAAGTGGGACGGCCTATTAGGATCCCAGGGTTGGTCCTGGCTTCCCCAGGACGAAGCACAACGGCCACTGCCCTCGGCGCAAAAGCCCCTCAACCTGACTCTCGCCTGGATCCCAGTCATTCTGGTCAAGACAACACAACCTTTCCTTCTTTAGCCCCTGCGCTGCTTCCCCACCACAAGGACCGAAGCCGGCAACCTGCCATCGTCAAGGACCCGAGGATCCTCTCTCTTCAGTCCCCTACTTTTCTGGCCAGACCCCCCCACCAACCCCAAGCCTTGGGCAGAAGACACACAACAGCCAACAGATCTTTCTTCCCCTACTCCCCGTCCAACCACACCCCTACTACTGAGCATTTTCTGAGCGCCAGGGGAAAAGGGAAGGTTGTGGCCAACAGCAGGAACCAGCGCTGGGAACGGGATGTTCTAGTCCGAAGTGGGCTGACATCACAGGCGGCGCAGGGCCAGGGACTGGAGAACAGAGACACGGGGAGCGCTGAAAGCCTAATAGGGTCCTGGTACCGGGGCAAACCTGGGGCCCCTCGAGTAACGAGCAAGAAGACCGG\n"
     ]
    }
   ],
   "source": [
    "### init\n",
    "gid = 568815581\n",
    "loc_start = 8_151_163\n",
    "loc_stop  = 8_152_064\n",
    "\n",
    "### setup\n",
    "handle = Entrez.efetch(\n",
    "    db        = \"nucleotide\", \n",
    "    id        = gid, \n",
    "    rettype   = \"fasta\", \n",
    "    strand    = 1, \n",
    "    seq_start = loc_start, \n",
    "    seq_stop  = loc_stop)\n",
    "\n",
    "### query\n",
    "record = SeqIO.read(handle, \"fasta\")\n",
    "handle.close()\n",
    "\n",
    "### show results\n",
    "print(record.seq)"
   ]
  },
  {
   "cell_type": "code",
   "execution_count": null,
   "metadata": {},
   "outputs": [],
   "source": []
  }
 ],
 "metadata": {
  "kernelspec": {
   "display_name": "Python 3",
   "language": "python",
   "name": "python3"
  },
  "language_info": {
   "codemirror_mode": {
    "name": "ipython",
    "version": 3
   },
   "file_extension": ".py",
   "mimetype": "text/x-python",
   "name": "python",
   "nbconvert_exporter": "python",
   "pygments_lexer": "ipython3",
   "version": "3.7.6"
  }
 },
 "nbformat": 4,
 "nbformat_minor": 4
}
