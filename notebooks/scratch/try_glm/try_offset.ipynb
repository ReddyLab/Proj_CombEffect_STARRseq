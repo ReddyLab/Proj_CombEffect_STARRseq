{
 "cells": [
  {
   "cell_type": "markdown",
   "id": "cd3ed8f5",
   "metadata": {},
   "source": [
    "# [Offsetting the Model — Logic to Implementation](https://towardsdatascience.com/offsetting-the-model-logic-to-implementation-7e333bc25798)\n",
    "Importance of offset term for modeling rate and boosting other models in GLMs and Machine Learning"
   ]
  },
  {
   "cell_type": "code",
   "execution_count": 4,
   "id": "d698c99c",
   "metadata": {},
   "outputs": [
    {
     "name": "stdout",
     "output_type": "stream",
     "text": [
      "\n",
      "Function \"MASS::glm.nb\":\n",
      " <not an S4 generic function>\n"
     ]
    }
   ],
   "source": [
    "showMethods(MASS::glm.nb)"
   ]
  },
  {
   "cell_type": "markdown",
   "id": "ab4a6ef2",
   "metadata": {},
   "source": [
    "[[R] negative binomial regression](https://stat.ethz.ch/pipermail/r-help/2003-March/031350.html)\n",
    "```\n",
    "glm.nb(\n",
    "    Claims ~ District + Group + Age + offset(log(Holders)),\n",
    "    data = Insurance)\n",
    "```"
   ]
  },
  {
   "cell_type": "code",
   "execution_count": null,
   "id": "dddee1d0",
   "metadata": {},
   "outputs": [],
   "source": []
  }
 ],
 "metadata": {
  "kernelspec": {
   "display_name": "R",
   "language": "R",
   "name": "ir"
  },
  "language_info": {
   "codemirror_mode": "r",
   "file_extension": ".r",
   "mimetype": "text/x-r-source",
   "name": "R",
   "pygments_lexer": "r",
   "version": "4.2.0"
  }
 },
 "nbformat": 4,
 "nbformat_minor": 5
}
