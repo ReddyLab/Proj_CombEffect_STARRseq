{
 "cells": [
  {
   "cell_type": "markdown",
   "id": "65d5d0b9",
   "metadata": {},
   "source": [
    "# [NEGATIVE BINOMIAL REGRESSION | R DATA ANALYSIS EXAMPLES](https://stats.oarc.ucla.edu/r/dae/negative-binomial-regression/)\n",
    "\n",
    "from UCLA Statistical Methods and Data Analytics"
   ]
  },
  {
   "cell_type": "markdown",
   "id": "8bac12e5",
   "metadata": {},
   "source": [
    "**Examples of negative binomial regression**\n",
    "- Example 1. School administrators study the **attendance behavior** of high school juniors at two schools. Predictors of the number of days of absence include the type of program in which the student is enrolled and a standardized test in math.\n",
    "\n",
    "- Example 2. A health-related researcher is studying **the number of hospital visits** in past 12 months by senior citizens in a community based on the characteristics of the individuals and the types of health plans under which each one is covered."
   ]
  },
  {
   "cell_type": "markdown",
   "id": "eed13892",
   "metadata": {},
   "source": [
    "**Set environment**"
   ]
  },
  {
   "cell_type": "code",
   "execution_count": 1,
   "id": "0bd71db4",
   "metadata": {},
   "outputs": [
    {
     "name": "stderr",
     "output_type": "stream",
     "text": [
      "Loading required package: foreign\n",
      "\n",
      "Loading required package: ggplot2\n",
      "\n",
      "Loading required package: MASS\n",
      "\n"
     ]
    }
   ],
   "source": [
    "require(foreign)\n",
    "require(ggplot2)\n",
    "require(MASS)"
   ]
  },
  {
   "cell_type": "markdown",
   "id": "f1cda962",
   "metadata": {},
   "source": [
    "## Description of the data of example 1\n",
    "- 314 hight schools junior\n",
    "- two urban high schools\n",
    "- response variable of interest: days absent `daysabs`"
   ]
  },
  {
   "cell_type": "code",
   "execution_count": 2,
   "id": "f5cad5b6",
   "metadata": {},
   "outputs": [
    {
     "data": {
      "text/plain": [
       "       id         gender         math          daysabs               prog    \n",
       " 1001   :  1   female:160   Min.   : 1.00   Min.   : 0.000   General   : 40  \n",
       " 1002   :  1   male  :154   1st Qu.:28.00   1st Qu.: 1.000   Academic  :167  \n",
       " 1003   :  1                Median :48.00   Median : 4.000   Vocational:107  \n",
       " 1004   :  1                Mean   :48.27   Mean   : 5.955                   \n",
       " 1005   :  1                3rd Qu.:70.00   3rd Qu.: 8.000                   \n",
       " 1006   :  1                Max.   :99.00   Max.   :35.000                   \n",
       " (Other):308                                                                 "
      ]
     },
     "metadata": {},
     "output_type": "display_data"
    }
   ],
   "source": [
    "dat <- read.dta(\"https://stats.idre.ucla.edu/stat/stata/dae/nb_data.dta\")\n",
    "dat <- within(dat, {\n",
    "    prog <- factor(prog, levels = 1:3, labels = c(\"General\", \"Academic\", \"Vocational\"))\n",
    "    id <- factor(id)\n",
    "})\n",
    "\n",
    "summary(dat)"
   ]
  },
  {
   "cell_type": "markdown",
   "id": "62b0cb48",
   "metadata": {},
   "source": [
    "## Explore the data"
   ]
  },
  {
   "cell_type": "code",
   "execution_count": 3,
   "id": "3c9893ef",
   "metadata": {},
   "outputs": [
    {
     "data": {
      "text/html": [
       "<table class=\"dataframe\">\n",
       "<caption>A data.frame: 6 × 5</caption>\n",
       "<thead>\n",
       "\t<tr><th></th><th scope=col>id</th><th scope=col>gender</th><th scope=col>math</th><th scope=col>daysabs</th><th scope=col>prog</th></tr>\n",
       "\t<tr><th></th><th scope=col>&lt;fct&gt;</th><th scope=col>&lt;fct&gt;</th><th scope=col>&lt;dbl&gt;</th><th scope=col>&lt;dbl&gt;</th><th scope=col>&lt;fct&gt;</th></tr>\n",
       "</thead>\n",
       "<tbody>\n",
       "\t<tr><th scope=row>1</th><td>1001</td><td>male  </td><td>63</td><td> 4</td><td>Academic</td></tr>\n",
       "\t<tr><th scope=row>2</th><td>1002</td><td>male  </td><td>27</td><td> 4</td><td>Academic</td></tr>\n",
       "\t<tr><th scope=row>3</th><td>1003</td><td>female</td><td>20</td><td> 2</td><td>Academic</td></tr>\n",
       "\t<tr><th scope=row>4</th><td>1004</td><td>female</td><td>16</td><td> 3</td><td>Academic</td></tr>\n",
       "\t<tr><th scope=row>5</th><td>1005</td><td>female</td><td> 2</td><td> 3</td><td>Academic</td></tr>\n",
       "\t<tr><th scope=row>6</th><td>1006</td><td>female</td><td>71</td><td>13</td><td>Academic</td></tr>\n",
       "</tbody>\n",
       "</table>\n"
      ],
      "text/latex": [
       "A data.frame: 6 × 5\n",
       "\\begin{tabular}{r|lllll}\n",
       "  & id & gender & math & daysabs & prog\\\\\n",
       "  & <fct> & <fct> & <dbl> & <dbl> & <fct>\\\\\n",
       "\\hline\n",
       "\t1 & 1001 & male   & 63 &  4 & Academic\\\\\n",
       "\t2 & 1002 & male   & 27 &  4 & Academic\\\\\n",
       "\t3 & 1003 & female & 20 &  2 & Academic\\\\\n",
       "\t4 & 1004 & female & 16 &  3 & Academic\\\\\n",
       "\t5 & 1005 & female &  2 &  3 & Academic\\\\\n",
       "\t6 & 1006 & female & 71 & 13 & Academic\\\\\n",
       "\\end{tabular}\n"
      ],
      "text/markdown": [
       "\n",
       "A data.frame: 6 × 5\n",
       "\n",
       "| <!--/--> | id &lt;fct&gt; | gender &lt;fct&gt; | math &lt;dbl&gt; | daysabs &lt;dbl&gt; | prog &lt;fct&gt; |\n",
       "|---|---|---|---|---|---|\n",
       "| 1 | 1001 | male   | 63 |  4 | Academic |\n",
       "| 2 | 1002 | male   | 27 |  4 | Academic |\n",
       "| 3 | 1003 | female | 20 |  2 | Academic |\n",
       "| 4 | 1004 | female | 16 |  3 | Academic |\n",
       "| 5 | 1005 | female |  2 |  3 | Academic |\n",
       "| 6 | 1006 | female | 71 | 13 | Academic |\n",
       "\n"
      ],
      "text/plain": [
       "  id   gender math daysabs prog    \n",
       "1 1001 male   63    4      Academic\n",
       "2 1002 male   27    4      Academic\n",
       "3 1003 female 20    2      Academic\n",
       "4 1004 female 16    3      Academic\n",
       "5 1005 female  2    3      Academic\n",
       "6 1006 female 71   13      Academic"
      ]
     },
     "metadata": {},
     "output_type": "display_data"
    }
   ],
   "source": [
    "head(dat)"
   ]
  },
  {
   "cell_type": "code",
   "execution_count": 6,
   "id": "f8533561",
   "metadata": {},
   "outputs": [
    {
     "data": {
      "image/png": "[encoded data removed]",
      "text/plain": [
       "plot without title"
      ]
     },
     "metadata": {
      "image/png": {
       "height": 360,
       "width": 360
      }
     },
     "output_type": "display_data"
    }
   ],
   "source": [
    "gpt = ggplot(dat, aes(daysabs, fill = prog)) + \n",
    "    geom_histogram(binwidth = 1) + \n",
    "    theme_bw() +\n",
    "    facet_grid(\n",
    "        prog ~ ., \n",
    "        margins = TRUE, \n",
    "        scales = \"free\")\n",
    "\n",
    "options(repr.plot.width=6, repr.plot.height=6)\n",
    "print(gpt)"
   ]
  },
  {
   "cell_type": "code",
   "execution_count": 11,
   "id": "33f233b5",
   "metadata": {},
   "outputs": [
    {
     "name": "stdout",
     "output_type": "stream",
     "text": [
      "                General                Academic              Vocational \n",
      "\"M (SD) = 10.65 (8.20)\"  \"M (SD) = 6.93 (7.45)\"  \"M (SD) = 2.67 (3.73)\" \n"
     ]
    }
   ],
   "source": [
    "res = with(dat, tapply(daysabs, prog, function(x) {\n",
    "    sprintf(\"M (SD) = %1.2f (%1.2f)\", mean(x), sd(x))\n",
    "}))\n",
    "print(res)"
   ]
  },
  {
   "cell_type": "markdown",
   "id": "142259f5",
   "metadata": {},
   "source": [
    "## Analysis methods you might consider\n",
    "- Negative binomial regression\n",
    "- Poisson regression\n",
    "- Zero-inflated regression model\n",
    "    - two kinds of zeros are thought to exist\n",
    "- OLS regression\n",
    "    - log transfromed of count"
   ]
  },
  {
   "cell_type": "markdown",
   "id": "2904a64d",
   "metadata": {},
   "source": [
    "## Negative binomial regression analysis\n",
    "Below we use the glm.nb function from the MASS package to estimate a negative binomial regression."
   ]
  },
  {
   "cell_type": "code",
   "execution_count": 13,
   "id": "33ef7152",
   "metadata": {},
   "outputs": [
    {
     "data": {
      "text/plain": [
       "       id         gender         math          daysabs               prog    \n",
       " 1001   :  1   female:160   Min.   : 1.00   Min.   : 0.000   General   : 40  \n",
       " 1002   :  1   male  :154   1st Qu.:28.00   1st Qu.: 1.000   Academic  :167  \n",
       " 1003   :  1                Median :48.00   Median : 4.000   Vocational:107  \n",
       " 1004   :  1                Mean   :48.27   Mean   : 5.955                   \n",
       " 1005   :  1                3rd Qu.:70.00   3rd Qu.: 8.000                   \n",
       " 1006   :  1                Max.   :99.00   Max.   :35.000                   \n",
       " (Other):308                                                                 "
      ]
     },
     "metadata": {},
     "output_type": "display_data"
    }
   ],
   "source": [
    "summary(dat)"
   ]
  },
  {
   "cell_type": "code",
   "execution_count": 12,
   "id": "408e6548",
   "metadata": {},
   "outputs": [
    {
     "data": {
      "text/plain": [
       "\n",
       "Call:\n",
       "glm.nb(formula = daysabs ~ math + prog, data = dat, init.theta = 1.032713156, \n",
       "    link = log)\n",
       "\n",
       "Deviance Residuals: \n",
       "    Min       1Q   Median       3Q      Max  \n",
       "-2.1547  -1.0192  -0.3694   0.2285   2.5273  \n",
       "\n",
       "Coefficients:\n",
       "                Estimate Std. Error z value Pr(>|z|)    \n",
       "(Intercept)     2.615265   0.197460  13.245  < 2e-16 ***\n",
       "math           -0.005993   0.002505  -2.392   0.0167 *  \n",
       "progAcademic   -0.440760   0.182610  -2.414   0.0158 *  \n",
       "progVocational -1.278651   0.200720  -6.370 1.89e-10 ***\n",
       "---\n",
       "Signif. codes:  0 ‘***’ 0.001 ‘**’ 0.01 ‘*’ 0.05 ‘.’ 0.1 ‘ ’ 1\n",
       "\n",
       "(Dispersion parameter for Negative Binomial(1.0327) family taken to be 1)\n",
       "\n",
       "    Null deviance: 427.54  on 313  degrees of freedom\n",
       "Residual deviance: 358.52  on 310  degrees of freedom\n",
       "AIC: 1741.3\n",
       "\n",
       "Number of Fisher Scoring iterations: 1\n",
       "\n",
       "\n",
       "              Theta:  1.033 \n",
       "          Std. Err.:  0.106 \n",
       "\n",
       " 2 x log-likelihood:  -1731.258 "
      ]
     },
     "metadata": {},
     "output_type": "display_data"
    }
   ],
   "source": [
    "m1 = glm.nb(daysabs ~ math + prog, data = dat)\n",
    "summary(m1)"
   ]
  },
  {
   "cell_type": "code",
   "execution_count": 14,
   "id": "0273b233",
   "metadata": {},
   "outputs": [
    {
     "data": {
      "text/plain": [
       "\n",
       "Call:\n",
       "glm.nb(formula = daysabs ~ math, data = dat, init.theta = 0.8558564931, \n",
       "    link = log)\n",
       "\n",
       "Deviance Residuals: \n",
       "    Min       1Q   Median       3Q      Max  \n",
       "-2.0601  -1.1140  -0.3448   0.2499   2.3074  \n",
       "\n",
       "Coefficients:\n",
       "            Estimate Std. Error z value Pr(>|z|)    \n",
       "(Intercept)  2.24663    0.13916  16.145  < 2e-16 ***\n",
       "math        -0.01034    0.00259  -3.991 6.58e-05 ***\n",
       "---\n",
       "Signif. codes:  0 ‘***’ 0.001 ‘**’ 0.01 ‘*’ 0.05 ‘.’ 0.1 ‘ ’ 1\n",
       "\n",
       "(Dispersion parameter for Negative Binomial(0.8559) family taken to be 1)\n",
       "\n",
       "    Null deviance: 375.05  on 313  degrees of freedom\n",
       "Residual deviance: 357.90  on 312  degrees of freedom\n",
       "AIC: 1782.3\n",
       "\n",
       "Number of Fisher Scoring iterations: 1\n",
       "\n",
       "\n",
       "              Theta:  0.8559 \n",
       "          Std. Err.:  0.0829 \n",
       "\n",
       " 2 x log-likelihood:  -1776.3060 "
      ]
     },
     "metadata": {},
     "output_type": "display_data"
    }
   ],
   "source": [
    "m2 = update(m1, . ~ . - prog)\n",
    "summary(m2)"
   ]
  },
  {
   "cell_type": "code",
   "execution_count": 16,
   "id": "63d43123",
   "metadata": {},
   "outputs": [
    {
     "data": {
      "text/html": [
       "<table class=\"dataframe\">\n",
       "<caption>A Anova: 2 × 8</caption>\n",
       "<thead>\n",
       "\t<tr><th scope=col>Model</th><th scope=col>theta</th><th scope=col>Resid. df</th><th scope=col>   2 x log-lik.</th><th scope=col>Test</th><th scope=col>   df</th><th scope=col>LR stat.</th><th scope=col>Pr(Chi)</th></tr>\n",
       "\t<tr><th scope=col>&lt;chr&gt;</th><th scope=col>&lt;dbl&gt;</th><th scope=col>&lt;int&gt;</th><th scope=col>&lt;dbl&gt;</th><th scope=col>&lt;chr&gt;</th><th scope=col>&lt;int&gt;</th><th scope=col>&lt;dbl&gt;</th><th scope=col>&lt;dbl&gt;</th></tr>\n",
       "</thead>\n",
       "<tbody>\n",
       "\t<tr><td>math       </td><td>0.8558565</td><td>312</td><td>-1776.306</td><td>      </td><td>NA</td><td>      NA</td><td>         NA</td></tr>\n",
       "\t<tr><td>math + prog</td><td>1.0327132</td><td>310</td><td>-1731.258</td><td>1 vs 2</td><td> 2</td><td>45.04798</td><td>1.65179e-10</td></tr>\n",
       "</tbody>\n",
       "</table>\n"
      ],
      "text/latex": [
       "A Anova: 2 × 8\n",
       "\\begin{tabular}{llllllll}\n",
       " Model & theta & Resid. df &    2 x log-lik. & Test &    df & LR stat. & Pr(Chi)\\\\\n",
       " <chr> & <dbl> & <int> & <dbl> & <chr> & <int> & <dbl> & <dbl>\\\\\n",
       "\\hline\n",
       "\t math        & 0.8558565 & 312 & -1776.306 &        & NA &       NA &          NA\\\\\n",
       "\t math + prog & 1.0327132 & 310 & -1731.258 & 1 vs 2 &  2 & 45.04798 & 1.65179e-10\\\\\n",
       "\\end{tabular}\n"
      ],
      "text/markdown": [
       "\n",
       "A Anova: 2 × 8\n",
       "\n",
       "| Model &lt;chr&gt; | theta &lt;dbl&gt; | Resid. df &lt;int&gt; |    2 x log-lik. &lt;dbl&gt; | Test &lt;chr&gt; |    df &lt;int&gt; | LR stat. &lt;dbl&gt; | Pr(Chi) &lt;dbl&gt; |\n",
       "|---|---|---|---|---|---|---|---|\n",
       "| math        | 0.8558565 | 312 | -1776.306 | <!----> | NA |       NA |          NA |\n",
       "| math + prog | 1.0327132 | 310 | -1731.258 | 1 vs 2 |  2 | 45.04798 | 1.65179e-10 |\n",
       "\n"
      ],
      "text/plain": [
       "  Model       theta     Resid. df    2 x log-lik. Test      df LR stat.\n",
       "1 math        0.8558565 312       -1776.306              NA          NA\n",
       "2 math + prog 1.0327132 310       -1731.258       1 vs 2  2    45.04798\n",
       "  Pr(Chi)    \n",
       "1          NA\n",
       "2 1.65179e-10"
      ]
     },
     "metadata": {},
     "output_type": "display_data"
    }
   ],
   "source": [
    "anova(m1, m2)"
   ]
  },
  {
   "cell_type": "markdown",
   "id": "84e4ada3",
   "metadata": {},
   "source": [
    "## Checking model assumption"
   ]
  },
  {
   "cell_type": "code",
   "execution_count": 18,
   "id": "201bf522",
   "metadata": {},
   "outputs": [
    {
     "data": {
      "text/plain": [
       "'log Lik.' 2.157298e-203 (df=5)"
      ]
     },
     "metadata": {},
     "output_type": "display_data"
    }
   ],
   "source": [
    "m3 = glm(daysabs ~ math + prog, family = \"poisson\", data = dat)\n",
    "pchisq(2 * (logLik(m1) - logLik(m3)), df = 1, lower.tail = FALSE)"
   ]
  },
  {
   "cell_type": "code",
   "execution_count": 19,
   "id": "86a58b81",
   "metadata": {},
   "outputs": [
    {
     "name": "stderr",
     "output_type": "stream",
     "text": [
      "Waiting for profiling to be done...\n",
      "\n"
     ]
    },
    {
     "data": {
      "text/html": [
       "<table class=\"dataframe\">\n",
       "<caption>A matrix: 4 × 3 of type dbl</caption>\n",
       "<thead>\n",
       "\t<tr><th></th><th scope=col>Estimate</th><th scope=col>2.5 %</th><th scope=col>97.5 %</th></tr>\n",
       "</thead>\n",
       "<tbody>\n",
       "\t<tr><th scope=row>(Intercept)</th><td> 2.615265446</td><td> 2.24205576</td><td> 3.012935926</td></tr>\n",
       "\t<tr><th scope=row>math</th><td>-0.005992988</td><td>-0.01090086</td><td>-0.001066615</td></tr>\n",
       "\t<tr><th scope=row>progAcademic</th><td>-0.440760012</td><td>-0.81006586</td><td>-0.092643481</td></tr>\n",
       "\t<tr><th scope=row>progVocational</th><td>-1.278650721</td><td>-1.68348970</td><td>-0.890077623</td></tr>\n",
       "</tbody>\n",
       "</table>\n"
      ],
      "text/latex": [
       "A matrix: 4 × 3 of type dbl\n",
       "\\begin{tabular}{r|lll}\n",
       "  & Estimate & 2.5 \\% & 97.5 \\%\\\\\n",
       "\\hline\n",
       "\t(Intercept) &  2.615265446 &  2.24205576 &  3.012935926\\\\\n",
       "\tmath & -0.005992988 & -0.01090086 & -0.001066615\\\\\n",
       "\tprogAcademic & -0.440760012 & -0.81006586 & -0.092643481\\\\\n",
       "\tprogVocational & -1.278650721 & -1.68348970 & -0.890077623\\\\\n",
       "\\end{tabular}\n"
      ],
      "text/markdown": [
       "\n",
       "A matrix: 4 × 3 of type dbl\n",
       "\n",
       "| <!--/--> | Estimate | 2.5 % | 97.5 % |\n",
       "|---|---|---|---|\n",
       "| (Intercept) |  2.615265446 |  2.24205576 |  3.012935926 |\n",
       "| math | -0.005992988 | -0.01090086 | -0.001066615 |\n",
       "| progAcademic | -0.440760012 | -0.81006586 | -0.092643481 |\n",
       "| progVocational | -1.278650721 | -1.68348970 | -0.890077623 |\n",
       "\n"
      ],
      "text/plain": [
       "               Estimate     2.5 %       97.5 %      \n",
       "(Intercept)     2.615265446  2.24205576  3.012935926\n",
       "math           -0.005992988 -0.01090086 -0.001066615\n",
       "progAcademic   -0.440760012 -0.81006586 -0.092643481\n",
       "progVocational -1.278650721 -1.68348970 -0.890077623"
      ]
     },
     "metadata": {},
     "output_type": "display_data"
    }
   ],
   "source": [
    "(est <- cbind(Estimate = coef(m1), confint(m1)))"
   ]
  },
  {
   "cell_type": "code",
   "execution_count": 20,
   "id": "e1131557",
   "metadata": {},
   "outputs": [
    {
     "data": {
      "text/html": [
       "<table class=\"dataframe\">\n",
       "<caption>A matrix: 4 × 3 of type dbl</caption>\n",
       "<thead>\n",
       "\t<tr><th></th><th scope=col>Estimate</th><th scope=col>2.5 %</th><th scope=col>97.5 %</th></tr>\n",
       "</thead>\n",
       "<tbody>\n",
       "\t<tr><th scope=row>(Intercept)</th><td>13.6708448</td><td>9.4126616</td><td>20.3470498</td></tr>\n",
       "\t<tr><th scope=row>math</th><td> 0.9940249</td><td>0.9891583</td><td> 0.9989340</td></tr>\n",
       "\t<tr><th scope=row>progAcademic</th><td> 0.6435471</td><td>0.4448288</td><td> 0.9115184</td></tr>\n",
       "\t<tr><th scope=row>progVocational</th><td> 0.2784127</td><td>0.1857247</td><td> 0.4106239</td></tr>\n",
       "</tbody>\n",
       "</table>\n"
      ],
      "text/latex": [
       "A matrix: 4 × 3 of type dbl\n",
       "\\begin{tabular}{r|lll}\n",
       "  & Estimate & 2.5 \\% & 97.5 \\%\\\\\n",
       "\\hline\n",
       "\t(Intercept) & 13.6708448 & 9.4126616 & 20.3470498\\\\\n",
       "\tmath &  0.9940249 & 0.9891583 &  0.9989340\\\\\n",
       "\tprogAcademic &  0.6435471 & 0.4448288 &  0.9115184\\\\\n",
       "\tprogVocational &  0.2784127 & 0.1857247 &  0.4106239\\\\\n",
       "\\end{tabular}\n"
      ],
      "text/markdown": [
       "\n",
       "A matrix: 4 × 3 of type dbl\n",
       "\n",
       "| <!--/--> | Estimate | 2.5 % | 97.5 % |\n",
       "|---|---|---|---|\n",
       "| (Intercept) | 13.6708448 | 9.4126616 | 20.3470498 |\n",
       "| math |  0.9940249 | 0.9891583 |  0.9989340 |\n",
       "| progAcademic |  0.6435471 | 0.4448288 |  0.9115184 |\n",
       "| progVocational |  0.2784127 | 0.1857247 |  0.4106239 |\n",
       "\n"
      ],
      "text/plain": [
       "               Estimate   2.5 %     97.5 %    \n",
       "(Intercept)    13.6708448 9.4126616 20.3470498\n",
       "math            0.9940249 0.9891583  0.9989340\n",
       "progAcademic    0.6435471 0.4448288  0.9115184\n",
       "progVocational  0.2784127 0.1857247  0.4106239"
      ]
     },
     "metadata": {},
     "output_type": "display_data"
    }
   ],
   "source": [
    "exp(est)"
   ]
  },
  {
   "cell_type": "code",
   "execution_count": null,
   "id": "c195a09b",
   "metadata": {},
   "outputs": [],
   "source": []
  }
 ],
 "metadata": {
  "kernelspec": {
   "display_name": "R",
   "language": "R",
   "name": "ir"
  },
  "language_info": {
   "codemirror_mode": "r",
   "file_extension": ".r",
   "mimetype": "text/x-r-source",
   "name": "R",
   "pygments_lexer": "r",
   "version": "4.2.0"
  }
 },
 "nbformat": 4,
 "nbformat_minor": 5
}
