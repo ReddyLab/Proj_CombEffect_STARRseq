{
 "cells": [
  {
   "cell_type": "markdown",
   "id": "84008253",
   "metadata": {},
   "source": [
    "# [A GLM Example](https://www.stat.umn.edu/geyer/5931/mle/seed2.pdf)"
   ]
  },
  {
   "cell_type": "markdown",
   "id": "80afbd88",
   "metadata": {},
   "source": [
    "data: https://www.stat.umn.edu/geyer/5931/mle/seeds.txt"
   ]
  },
  {
   "cell_type": "code",
   "execution_count": 9,
   "id": "5de071b3",
   "metadata": {},
   "outputs": [
    {
     "data": {
      "text/plain": [
       "         vegtype   burn01    burn02    burn03      totalseeds   \n",
       " lab         :15   lab: 15   lab: 15   lab: 15   Min.   : 96.0  \n",
       " oldfieldcool:72   no :102   no :114   no :126   1st Qu.:100.0  \n",
       " oldfieldwarm:18   yes: 60   yes: 48   yes: 36   Median :100.0  \n",
       " plantcool   :36                                 Mean   :100.2  \n",
       " plantwarm   :36                                 3rd Qu.:100.0  \n",
       "                                                 Max.   :111.0  \n",
       "   seedlings     \n",
       " Min.   : 0.000  \n",
       " 1st Qu.: 0.000  \n",
       " Median : 1.000  \n",
       " Mean   : 3.475  \n",
       " 3rd Qu.: 4.000  \n",
       " Max.   :29.000  "
      ]
     },
     "metadata": {},
     "output_type": "display_data"
    }
   ],
   "source": [
    "mydata = read.table(\"./data/seeds.txt\")\n",
    "mydata = within(dat, {\n",
    "    vegtype = factor(vegtype)\n",
    "    burn01  = factor(burn01)\n",
    "    burn02  = factor(burn02)\n",
    "    burn03  = factor(burn03)\n",
    "})\n",
    "summary(mydata)"
   ]
  },
  {
   "cell_type": "code",
   "execution_count": 10,
   "id": "419bab02",
   "metadata": {},
   "outputs": [
    {
     "data": {
      "text/html": [
       "<table class=\"dataframe\">\n",
       "<caption>A data.frame: 6 × 6</caption>\n",
       "<thead>\n",
       "\t<tr><th></th><th scope=col>vegtype</th><th scope=col>burn01</th><th scope=col>burn02</th><th scope=col>burn03</th><th scope=col>totalseeds</th><th scope=col>seedlings</th></tr>\n",
       "\t<tr><th></th><th scope=col>&lt;fct&gt;</th><th scope=col>&lt;fct&gt;</th><th scope=col>&lt;fct&gt;</th><th scope=col>&lt;fct&gt;</th><th scope=col>&lt;int&gt;</th><th scope=col>&lt;int&gt;</th></tr>\n",
       "</thead>\n",
       "<tbody>\n",
       "\t<tr><th scope=row>1</th><td>oldfieldcool</td><td>yes</td><td>no</td><td>no</td><td>100</td><td>5</td></tr>\n",
       "\t<tr><th scope=row>2</th><td>oldfieldcool</td><td>yes</td><td>no</td><td>no</td><td>100</td><td>3</td></tr>\n",
       "\t<tr><th scope=row>3</th><td>oldfieldcool</td><td>yes</td><td>no</td><td>no</td><td>100</td><td>4</td></tr>\n",
       "\t<tr><th scope=row>4</th><td>oldfieldcool</td><td>no </td><td>no</td><td>no</td><td>100</td><td>0</td></tr>\n",
       "\t<tr><th scope=row>5</th><td>oldfieldcool</td><td>no </td><td>no</td><td>no</td><td>100</td><td>3</td></tr>\n",
       "\t<tr><th scope=row>6</th><td>oldfieldcool</td><td>no </td><td>no</td><td>no</td><td>100</td><td>1</td></tr>\n",
       "</tbody>\n",
       "</table>\n"
      ],
      "text/latex": [
       "A data.frame: 6 × 6\n",
       "\\begin{tabular}{r|llllll}\n",
       "  & vegtype & burn01 & burn02 & burn03 & totalseeds & seedlings\\\\\n",
       "  & <fct> & <fct> & <fct> & <fct> & <int> & <int>\\\\\n",
       "\\hline\n",
       "\t1 & oldfieldcool & yes & no & no & 100 & 5\\\\\n",
       "\t2 & oldfieldcool & yes & no & no & 100 & 3\\\\\n",
       "\t3 & oldfieldcool & yes & no & no & 100 & 4\\\\\n",
       "\t4 & oldfieldcool & no  & no & no & 100 & 0\\\\\n",
       "\t5 & oldfieldcool & no  & no & no & 100 & 3\\\\\n",
       "\t6 & oldfieldcool & no  & no & no & 100 & 1\\\\\n",
       "\\end{tabular}\n"
      ],
      "text/markdown": [
       "\n",
       "A data.frame: 6 × 6\n",
       "\n",
       "| <!--/--> | vegtype &lt;fct&gt; | burn01 &lt;fct&gt; | burn02 &lt;fct&gt; | burn03 &lt;fct&gt; | totalseeds &lt;int&gt; | seedlings &lt;int&gt; |\n",
       "|---|---|---|---|---|---|---|\n",
       "| 1 | oldfieldcool | yes | no | no | 100 | 5 |\n",
       "| 2 | oldfieldcool | yes | no | no | 100 | 3 |\n",
       "| 3 | oldfieldcool | yes | no | no | 100 | 4 |\n",
       "| 4 | oldfieldcool | no  | no | no | 100 | 0 |\n",
       "| 5 | oldfieldcool | no  | no | no | 100 | 3 |\n",
       "| 6 | oldfieldcool | no  | no | no | 100 | 1 |\n",
       "\n"
      ],
      "text/plain": [
       "  vegtype      burn01 burn02 burn03 totalseeds seedlings\n",
       "1 oldfieldcool yes    no     no     100        5        \n",
       "2 oldfieldcool yes    no     no     100        3        \n",
       "3 oldfieldcool yes    no     no     100        4        \n",
       "4 oldfieldcool no     no     no     100        0        \n",
       "5 oldfieldcool no     no     no     100        3        \n",
       "6 oldfieldcool no     no     no     100        1        "
      ]
     },
     "metadata": {},
     "output_type": "display_data"
    }
   ],
   "source": [
    "head(mydata)"
   ]
  },
  {
   "cell_type": "markdown",
   "id": "ed46e297",
   "metadata": {},
   "source": [
    "- Description\n",
    "    - `seedling` the number of seedlings that sprouted\n",
    "    - `vegtype`: type of field\n",
    "        - `oldfield`\n",
    "        - warm\n",
    "        - cool\n",
    "        - `lab`: plants grown in the lab\n",
    "    - burn\n",
    "        - `burn01` a field was burned in 2001\n",
    "        - `burn02` a field was burned in 2002\n",
    "        - `burn03` a field was burned in 2003\n",
    "            - Owing to a mistake in the experimental design `burn03` is completely confounded with vegtype and hence **has been omitted from the analysis** (this isn’t right, but it is not clear what else to do).\n",
    "- regression thinking: \n",
    "    - response variable and assume to be $\\text{Poisson}(n\\lambda)$\n",
    "    - predictor: `vegtype` and three `burn` variables\n",
    "- Poisson regression\n",
    "    - log link\n",
    "    - $\\eta = \\log(n) + \\log(\\lambda)$\n",
    "    - $\\log(n)$ is just a known constant\n",
    "        - $n = \\text{totalseeds}$\n",
    "        - in R, set as offset: `offset(log(totalseeds)).`\n",
    "        \n",
    "       "
   ]
  },
  {
   "cell_type": "markdown",
   "id": "959ea105",
   "metadata": {},
   "source": [
    "## Fitting Poisson Regression Models"
   ]
  },
  {
   "cell_type": "code",
   "execution_count": 11,
   "id": "93eb7e6a",
   "metadata": {},
   "outputs": [
    {
     "data": {
      "text/plain": [
       "\n",
       "Call:\n",
       "glm(formula = seedlings ~ vegtype + burn01 + burn02 + offset(log(totalseeds)), \n",
       "    family = poisson, data = mydata)\n",
       "\n",
       "Deviance Residuals: \n",
       "    Min       1Q   Median       3Q      Max  \n",
       "-2.7099  -1.7682  -0.7277   0.7292   4.7376  \n",
       "\n",
       "Coefficients: (2 not defined because of singularities)\n",
       "                    Estimate Std. Error z value Pr(>|z|)    \n",
       "(Intercept)         -1.63528    0.05793 -28.229  < 2e-16 ***\n",
       "vegtypeoldfieldcool -1.11844    0.19266  -5.805 6.43e-09 ***\n",
       "vegtypeoldfieldwarm -0.98491    0.22438  -4.390 1.14e-05 ***\n",
       "vegtypeplantcool    -2.53154    0.27442  -9.225  < 2e-16 ***\n",
       "vegtypeplantwarm    -1.72796    0.22884  -7.551 4.32e-14 ***\n",
       "burn01no            -0.68432    0.15289  -4.476 7.61e-06 ***\n",
       "burn01yes                 NA         NA      NA       NA    \n",
       "burn02no            -0.72038    0.15623  -4.611 4.01e-06 ***\n",
       "burn02yes                 NA         NA      NA       NA    \n",
       "---\n",
       "Signif. codes:  0 ‘***’ 0.001 ‘**’ 0.01 ‘*’ 0.05 ‘.’ 0.1 ‘ ’ 1\n",
       "\n",
       "(Dispersion parameter for poisson family taken to be 1)\n",
       "\n",
       "    Null deviance: 1268.00  on 176  degrees of freedom\n",
       "Residual deviance:  501.15  on 170  degrees of freedom\n",
       "AIC: 834.22\n",
       "\n",
       "Number of Fisher Scoring iterations: 6\n"
      ]
     },
     "metadata": {},
     "output_type": "display_data"
    }
   ],
   "source": [
    "out = glm(\n",
    "    seedlings ~ vegtype + burn01 + burn02 + offset(log(totalseeds)),\n",
    "    data = mydata,\n",
    "    family = poisson\n",
    ")\n",
    "\n",
    "summary(out)"
   ]
  },
  {
   "cell_type": "code",
   "execution_count": 13,
   "id": "c8f55dd3",
   "metadata": {},
   "outputs": [
    {
     "data": {
      "text/plain": [
       "\n",
       "Call:\n",
       "glm(formula = seedlings ~ vegtype + burn01 + burn02, family = poisson, \n",
       "    data = mydata, offset = log(totalseeds))\n",
       "\n",
       "Deviance Residuals: \n",
       "    Min       1Q   Median       3Q      Max  \n",
       "-2.7099  -1.7682  -0.7277   0.7292   4.7376  \n",
       "\n",
       "Coefficients: (2 not defined because of singularities)\n",
       "                    Estimate Std. Error z value Pr(>|z|)    \n",
       "(Intercept)         -1.63528    0.05793 -28.229  < 2e-16 ***\n",
       "vegtypeoldfieldcool -1.11844    0.19266  -5.805 6.43e-09 ***\n",
       "vegtypeoldfieldwarm -0.98491    0.22438  -4.390 1.14e-05 ***\n",
       "vegtypeplantcool    -2.53154    0.27442  -9.225  < 2e-16 ***\n",
       "vegtypeplantwarm    -1.72796    0.22884  -7.551 4.32e-14 ***\n",
       "burn01no            -0.68432    0.15289  -4.476 7.61e-06 ***\n",
       "burn01yes                 NA         NA      NA       NA    \n",
       "burn02no            -0.72038    0.15623  -4.611 4.01e-06 ***\n",
       "burn02yes                 NA         NA      NA       NA    \n",
       "---\n",
       "Signif. codes:  0 ‘***’ 0.001 ‘**’ 0.01 ‘*’ 0.05 ‘.’ 0.1 ‘ ’ 1\n",
       "\n",
       "(Dispersion parameter for poisson family taken to be 1)\n",
       "\n",
       "    Null deviance: 1268.00  on 176  degrees of freedom\n",
       "Residual deviance:  501.15  on 170  degrees of freedom\n",
       "AIC: 834.22\n",
       "\n",
       "Number of Fisher Scoring iterations: 6\n"
      ]
     },
     "metadata": {},
     "output_type": "display_data"
    }
   ],
   "source": [
    "#An alternative way to deal with the “offset” is to use the offset optional\n",
    "#argument to the glm function, rather than using the offset function in the\n",
    "#formula\n",
    "\n",
    "out.too = glm(\n",
    "    seedlings ~ vegtype + burn01 + burn02, \n",
    "    offset = log(totalseeds),\n",
    "    data = mydata, family = poisson)\n",
    "\n",
    "all.equal(coefficients(out), coefficients(out.too))"
   ]
  },
  {
   "cell_type": "markdown",
   "id": "0431f016",
   "metadata": {},
   "source": [
    "## More Model Fitting"
   ]
  },
  {
   "cell_type": "code",
   "execution_count": 14,
   "id": "7d0d3ef8",
   "metadata": {},
   "outputs": [
    {
     "data": {
      "text/plain": [
       "\n",
       "Call:\n",
       "glm(formula = seedlings ~ burn02 + burn01 + offset(log(totalseeds)), \n",
       "    family = poisson, data = mydata)\n",
       "\n",
       "Deviance Residuals: \n",
       "    Min       1Q   Median       3Q      Max  \n",
       "-2.2267  -1.5275  -1.0689   0.4755   5.7121  \n",
       "\n",
       "Coefficients: (1 not defined because of singularities)\n",
       "            Estimate Std. Error z value Pr(>|z|)    \n",
       "(Intercept) -1.63528    0.05793 -28.229  < 2e-16 ***\n",
       "burn02no    -2.15896    0.10375 -20.810  < 2e-16 ***\n",
       "burn02yes   -1.40519    0.18719  -7.507 6.06e-14 ***\n",
       "burn01no    -0.65678    0.15258  -4.305 1.67e-05 ***\n",
       "burn01yes         NA         NA      NA       NA    \n",
       "---\n",
       "Signif. codes:  0 ‘***’ 0.001 ‘**’ 0.01 ‘*’ 0.05 ‘.’ 0.1 ‘ ’ 1\n",
       "\n",
       "(Dispersion parameter for poisson family taken to be 1)\n",
       "\n",
       "    Null deviance: 1268.0  on 176  degrees of freedom\n",
       "Residual deviance:  573.4  on 173  degrees of freedom\n",
       "AIC: 900.47\n",
       "\n",
       "Number of Fisher Scoring iterations: 6\n"
      ]
     },
     "metadata": {},
     "output_type": "display_data"
    }
   ],
   "source": [
    "out.noveg <- glm(\n",
    "    seedlings ~ burn02 + burn01 + offset(log(totalseeds)),\n",
    "    data = mydata, family = poisson)\n",
    "summary(out.noveg)"
   ]
  },
  {
   "cell_type": "code",
   "execution_count": 15,
   "id": "e01240a4",
   "metadata": {},
   "outputs": [
    {
     "data": {
      "text/html": [
       "<table class=\"dataframe\">\n",
       "<caption>A anova: 2 × 5</caption>\n",
       "<thead>\n",
       "\t<tr><th></th><th scope=col>Resid. Df</th><th scope=col>Resid. Dev</th><th scope=col>Df</th><th scope=col>Deviance</th><th scope=col>Pr(&gt;Chi)</th></tr>\n",
       "\t<tr><th></th><th scope=col>&lt;dbl&gt;</th><th scope=col>&lt;dbl&gt;</th><th scope=col>&lt;dbl&gt;</th><th scope=col>&lt;dbl&gt;</th><th scope=col>&lt;dbl&gt;</th></tr>\n",
       "</thead>\n",
       "<tbody>\n",
       "\t<tr><th scope=row>1</th><td>173</td><td>573.4023</td><td>NA</td><td>     NA</td><td>          NA</td></tr>\n",
       "\t<tr><th scope=row>2</th><td>170</td><td>501.1547</td><td> 3</td><td>72.2476</td><td>1.408888e-15</td></tr>\n",
       "</tbody>\n",
       "</table>\n"
      ],
      "text/latex": [
       "A anova: 2 × 5\n",
       "\\begin{tabular}{r|lllll}\n",
       "  & Resid. Df & Resid. Dev & Df & Deviance & Pr(>Chi)\\\\\n",
       "  & <dbl> & <dbl> & <dbl> & <dbl> & <dbl>\\\\\n",
       "\\hline\n",
       "\t1 & 173 & 573.4023 & NA &      NA &           NA\\\\\n",
       "\t2 & 170 & 501.1547 &  3 & 72.2476 & 1.408888e-15\\\\\n",
       "\\end{tabular}\n"
      ],
      "text/markdown": [
       "\n",
       "A anova: 2 × 5\n",
       "\n",
       "| <!--/--> | Resid. Df &lt;dbl&gt; | Resid. Dev &lt;dbl&gt; | Df &lt;dbl&gt; | Deviance &lt;dbl&gt; | Pr(&gt;Chi) &lt;dbl&gt; |\n",
       "|---|---|---|---|---|---|\n",
       "| 1 | 173 | 573.4023 | NA |      NA |           NA |\n",
       "| 2 | 170 | 501.1547 |  3 | 72.2476 | 1.408888e-15 |\n",
       "\n"
      ],
      "text/plain": [
       "  Resid. Df Resid. Dev Df Deviance Pr(>Chi)    \n",
       "1 173       573.4023   NA      NA            NA\n",
       "2 170       501.1547    3 72.2476  1.408888e-15"
      ]
     },
     "metadata": {},
     "output_type": "display_data"
    }
   ],
   "source": [
    "anova(out.noveg, out, test = \"Chisq\")"
   ]
  },
  {
   "cell_type": "markdown",
   "id": "5d621800",
   "metadata": {},
   "source": [
    "**From the analysis of deviance test (also called, likelihood ratio test) we cannot\n",
    "drop vegtype**"
   ]
  },
  {
   "cell_type": "code",
   "execution_count": null,
   "id": "481206c5",
   "metadata": {},
   "outputs": [],
   "source": []
  }
 ],
 "metadata": {
  "kernelspec": {
   "display_name": "R",
   "language": "R",
   "name": "ir"
  },
  "language_info": {
   "codemirror_mode": "r",
   "file_extension": ".r",
   "mimetype": "text/x-r-source",
   "name": "R",
   "pygments_lexer": "r",
   "version": "4.2.0"
  }
 },
 "nbformat": 4,
 "nbformat_minor": 5
}
