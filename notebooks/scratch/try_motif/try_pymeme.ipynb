{
 "cells": [
  {
   "cell_type": "code",
   "execution_count": 1,
   "metadata": {},
   "outputs": [],
   "source": [
    "from pymemesuite.common import MotifFile"
   ]
  },
  {
   "cell_type": "code",
   "execution_count": 11,
   "metadata": {},
   "outputs": [],
   "source": [
    "with MotifFile(\"MA0727.1.meme\") as motif_file:\n",
    "    motif = motif_file.read()"
   ]
  },
  {
   "cell_type": "code",
   "execution_count": 12,
   "metadata": {},
   "outputs": [
    {
     "data": {
      "text/plain": [
       "<pymemesuite.common.Motif at 0x7f75a2d03690>"
      ]
     },
     "execution_count": 12,
     "metadata": {},
     "output_type": "execute_result"
    }
   ],
   "source": [
    "motif"
   ]
  },
  {
   "cell_type": "code",
   "execution_count": 13,
   "metadata": {},
   "outputs": [
    {
     "name": "stdout",
     "output_type": "stream",
     "text": [
      "NR3C2\n",
      "KRGWACAYWRTGTWCYH\n"
     ]
    }
   ],
   "source": [
    "print(motif.name.decode())\n",
    "print(motif.consensus)"
   ]
  },
  {
   "cell_type": "code",
   "execution_count": 14,
   "metadata": {},
   "outputs": [],
   "source": [
    "fpath = \"JASPAR2018_CORE_vertebrates_non-redundant_pfms.meme.txt\"\n",
    "with MotifFile(fpath) as motif_file:\n",
    "    motif = motif_file.read()"
   ]
  },
  {
   "cell_type": "code",
   "execution_count": 15,
   "metadata": {},
   "outputs": [
    {
     "name": "stdout",
     "output_type": "stream",
     "text": [
      "\n",
      "CACGTG\n"
     ]
    }
   ],
   "source": [
    "print(motif.name.decode())\n",
    "print(motif.consensus)"
   ]
  },
  {
   "cell_type": "code",
   "execution_count": 10,
   "metadata": {},
   "outputs": [
    {
     "data": {
      "text/plain": [
       "b''"
      ]
     },
     "execution_count": 10,
     "metadata": {},
     "output_type": "execute_result"
    }
   ],
   "source": [
    "motif.name"
   ]
  },
  {
   "cell_type": "code",
   "execution_count": 16,
   "metadata": {},
   "outputs": [
    {
     "name": "stdout",
     "output_type": "stream",
     "text": [
      "0.20 0.80 0.00 0.00\n",
      "0.95 0.00 0.05 0.00\n",
      "0.00 1.00 0.00 0.00\n",
      "0.00 0.00 1.00 0.00\n",
      "0.00 0.00 0.00 1.00\n",
      "0.00 0.00 1.00 0.00\n"
     ]
    }
   ],
   "source": [
    "for row in motif.frequencies:\n",
    "    print(\" \".join(f'{freq:.2f}' for freq in row))"
   ]
  },
  {
   "cell_type": "code",
   "execution_count": 17,
   "metadata": {},
   "outputs": [
    {
     "data": {
      "text/plain": [
       "pymemesuite.common.Matrix([[0.20040683550473695, 0.7971244778903477, 0.0011386867773528133, 0.0013299998275625338], [0.9466754922211548, 0.001104577392835264, 0.050889930558447344, 0.0013299998275625338], [0.0014018603803588412, 0.9961294530147258, 0.0011386867773528133, 0.0013299998275625338], [0.0014018603803588412, 0.001104577392835264, 0.9961635623992433, 0.0013299998275625338], [0.0014018603803588412, 0.001104577392835264, 0.0011386867773528133, 0.9963548754494531], [0.0014018603803588412, 0.001104577392835264, 0.9961635623992433, 0.0013299998275625338]])"
      ]
     },
     "execution_count": 17,
     "metadata": {},
     "output_type": "execute_result"
    }
   ],
   "source": [
    "motif.frequencies"
   ]
  },
  {
   "cell_type": "code",
   "execution_count": null,
   "metadata": {},
   "outputs": [],
   "source": []
  }
 ],
 "metadata": {
  "kernelspec": {
   "display_name": "Python 3",
   "language": "python",
   "name": "python3"
  },
  "language_info": {
   "codemirror_mode": {
    "name": "ipython",
    "version": 3
   },
   "file_extension": ".py",
   "mimetype": "text/x-python",
   "name": "python",
   "nbconvert_exporter": "python",
   "pygments_lexer": "ipython3",
   "version": "3.7.6"
  }
 },
 "nbformat": 4,
 "nbformat_minor": 4
}
