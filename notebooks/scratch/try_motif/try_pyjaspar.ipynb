{
 "cells": [
  {
   "cell_type": "code",
   "execution_count": 1,
   "metadata": {},
   "outputs": [],
   "source": [
    "from pyjaspar import jaspardb"
   ]
  },
  {
   "cell_type": "code",
   "execution_count": 2,
   "metadata": {},
   "outputs": [],
   "source": [
    "jdb_obj = jaspardb(release='JASPAR2018')"
   ]
  },
  {
   "cell_type": "code",
   "execution_count": 3,
   "metadata": {},
   "outputs": [
    {
     "name": "stdout",
     "output_type": "stream",
     "text": [
      "JASPAR2018\n"
     ]
    }
   ],
   "source": [
    "print(jdb_obj.release)"
   ]
  },
  {
   "cell_type": "code",
   "execution_count": 4,
   "metadata": {},
   "outputs": [],
   "source": [
    "jdb_obj = jaspardb()"
   ]
  },
  {
   "cell_type": "code",
   "execution_count": 5,
   "metadata": {},
   "outputs": [
    {
     "name": "stdout",
     "output_type": "stream",
     "text": [
      "JASPAR2022\n"
     ]
    }
   ],
   "source": [
    "print(jdb_obj.release)"
   ]
  },
  {
   "cell_type": "code",
   "execution_count": 6,
   "metadata": {},
   "outputs": [
    {
     "name": "stdout",
     "output_type": "stream",
     "text": [
      "['JASPAR2022', 'JASPAR2020', 'JASPAR2018', 'JASPAR2016', 'JASPAR2014']\n"
     ]
    }
   ],
   "source": [
    "print(jdb_obj.get_releases())"
   ]
  },
  {
   "cell_type": "code",
   "execution_count": 7,
   "metadata": {},
   "outputs": [],
   "source": [
    "motif = jdb_obj.fetch_motif_by_id('MA0095.2')"
   ]
  },
  {
   "cell_type": "code",
   "execution_count": 8,
   "metadata": {},
   "outputs": [
    {
     "name": "stdout",
     "output_type": "stream",
     "text": [
      "TF name\tYY1\n",
      "Matrix ID\tMA0095.2\n",
      "Collection\tCORE\n",
      "TF class\t['C2H2 zinc finger factors']\n",
      "TF family\t['More than 3 adjacent zinc fingers']\n",
      "Species\t9606\n",
      "Taxonomic group\tvertebrates\n",
      "Accession\t['P25490']\n",
      "Data type used\tChIP-seq\n",
      "Medline\t18950698\n",
      "Matrix:\n",
      "        0      1      2      3      4      5      6      7      8      9     10     11\n",
      "A: 1126.00 6975.00 6741.00 2506.00 7171.00   0.00  11.00  13.00 812.00 867.00 899.00 1332.00\n",
      "C: 4583.00   0.00  99.00 1117.00   0.00  12.00   0.00   0.00 5637.00 1681.00 875.00 4568.00\n",
      "G: 801.00 181.00 268.00 3282.00   0.00   0.00 7160.00 7158.00  38.00 2765.00 4655.00 391.00\n",
      "T: 661.00  15.00  63.00 266.00   0.00 7159.00   0.00   0.00 684.00 1858.00 742.00 880.00\n",
      "\n",
      "\n",
      "\n"
     ]
    }
   ],
   "source": [
    "print(motif)"
   ]
  },
  {
   "cell_type": "code",
   "execution_count": 9,
   "metadata": {},
   "outputs": [
    {
     "name": "stdout",
     "output_type": "stream",
     "text": [
      "        0      1      2      3      4      5      6      7      8      9     10     11\n",
      "A: 1126.00 6975.00 6741.00 2506.00 7171.00   0.00  11.00  13.00 812.00 867.00 899.00 1332.00\n",
      "C: 4583.00   0.00  99.00 1117.00   0.00  12.00   0.00   0.00 5637.00 1681.00 875.00 4568.00\n",
      "G: 801.00 181.00 268.00 3282.00   0.00   0.00 7160.00 7158.00  38.00 2765.00 4655.00 391.00\n",
      "T: 661.00  15.00  63.00 266.00   0.00 7159.00   0.00   0.00 684.00 1858.00 742.00 880.00\n",
      "\n"
     ]
    }
   ],
   "source": [
    "print(motif.counts)"
   ]
  },
  {
   "cell_type": "code",
   "execution_count": 10,
   "metadata": {},
   "outputs": [],
   "source": [
    "motif = jdb_obj.fetch_motif_by_id('MA0727.1')"
   ]
  },
  {
   "cell_type": "code",
   "execution_count": 12,
   "metadata": {},
   "outputs": [
    {
     "name": "stdout",
     "output_type": "stream",
     "text": [
      "        0      1      2      3      4      5      6      7      8      9     10     11     12     13     14     15     16\n",
      "A:   0.17   0.35   0.00   0.45   1.00   0.00   0.96   0.16   0.42   0.53   0.01   0.00   0.00   0.34   0.00   0.01   0.21\n",
      "C:   0.14   0.01   0.00   0.04   0.00   1.00   0.00   0.40   0.11   0.05   0.02   0.00   0.00   0.18   1.00   0.59   0.40\n",
      "G:   0.42   0.63   1.00   0.17   0.00   0.00   0.03   0.07   0.20   0.33   0.00   1.00   0.00   0.03   0.00   0.01   0.18\n",
      "T:   0.27   0.01   0.00   0.35   0.00   0.00   0.01   0.36   0.26   0.09   0.97   0.00   1.00   0.45   0.00   0.38   0.20\n",
      "\n"
     ]
    }
   ],
   "source": [
    "print(motif.pwm)"
   ]
  },
  {
   "cell_type": "code",
   "execution_count": 13,
   "metadata": {},
   "outputs": [
    {
     "name": "stdout",
     "output_type": "stream",
     "text": [
      "TF name\tNR3C1\n",
      "Matrix ID\tMA0113.1\n",
      "Collection\tCORE\n",
      "TF class\t['Nuclear receptors with C4 zinc fingers']\n",
      "TF family\t['Steroid hormone receptors (NR3)']\n",
      "Species\t8022,9031,9606,10090,10116\n",
      "Taxonomic group\tvertebrates\n",
      "Accession\t['P04150']\n",
      "Data type used\tCOMPILED\n",
      "Medline\t15563547\n",
      "Matrix:\n",
      "        0      1      2      3      4      5      6      7      8      9     10     11     12     13     14     15     16     17\n",
      "A:   3.00   4.00   3.00   7.00   6.00   1.00   8.00   2.00   3.00   5.00   1.00   0.00   1.00   2.00   0.00   1.00   4.00   3.00\n",
      "C:   2.00   0.00   0.00   0.00   1.00   6.00   0.00   0.00   2.00   3.00   3.00   0.00   0.00   4.00   8.00   2.00   0.00   1.00\n",
      "G:   4.00   5.00   6.00   1.00   1.00   2.00   1.00   2.00   0.00   0.00   0.00   8.00   0.00   0.00   1.00   1.00   4.00   2.00\n",
      "T:   0.00   0.00   0.00   1.00   1.00   0.00   0.00   5.00   4.00   1.00   5.00   1.00   8.00   3.00   0.00   5.00   1.00   3.00\n",
      "\n",
      "\n",
      "\n"
     ]
    }
   ],
   "source": [
    "motif = jdb_obj.fetch_motif_by_id('MA0113.1')\n",
    "print(motif)"
   ]
  },
  {
   "cell_type": "code",
   "execution_count": null,
   "metadata": {},
   "outputs": [],
   "source": []
  }
 ],
 "metadata": {
  "kernelspec": {
   "display_name": "Python 3",
   "language": "python",
   "name": "python3"
  },
  "language_info": {
   "codemirror_mode": {
    "name": "ipython",
    "version": 3
   },
   "file_extension": ".py",
   "mimetype": "text/x-python",
   "name": "python",
   "nbconvert_exporter": "python",
   "pygments_lexer": "ipython3",
   "version": "3.7.6"
  }
 },
 "nbformat": 4,
 "nbformat_minor": 4
}
