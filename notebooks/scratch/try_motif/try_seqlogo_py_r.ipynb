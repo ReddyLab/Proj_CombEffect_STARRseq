{
 "cells": [
  {
   "cell_type": "code",
   "execution_count": null,
   "metadata": {},
   "outputs": [],
   "source": []
  },
  {
   "cell_type": "markdown",
   "metadata": {},
   "source": [
    "https://github.com/betteridiot/seqlogo\n",
    "```\n",
    "Note: TRANSFAC matrix and MEME Motif formats are not directly supported.\n",
    "```"
   ]
  },
  {
   "cell_type": "code",
   "execution_count": 17,
   "metadata": {},
   "outputs": [],
   "source": [
    "import numpy as np\n",
    "import pandas as pd\n",
    "import seqlogo"
   ]
  },
  {
   "cell_type": "code",
   "execution_count": 18,
   "metadata": {},
   "outputs": [],
   "source": [
    "np.random.seed(42)"
   ]
  },
  {
   "cell_type": "code",
   "execution_count": 20,
   "metadata": {},
   "outputs": [
    {
     "ename": "OSError",
     "evalue": "Scalable Vector Graphics (SVG) format requires the program'pdf2svg'.",
     "output_type": "error",
     "traceback": [
      "\u001b[0;31m---------------------------------------------------------------------------\u001b[0m",
      "\u001b[0;31mOSError\u001b[0m                                   Traceback (most recent call last)",
      "\u001b[0;32m<ipython-input-20-da83030c8c15>\u001b[0m in \u001b[0;36m<module>\u001b[0;34m\u001b[0m\n\u001b[1;32m      1\u001b[0m \u001b[0mrandom_ppm\u001b[0m \u001b[0;34m=\u001b[0m \u001b[0mnp\u001b[0m\u001b[0;34m.\u001b[0m\u001b[0mrandom\u001b[0m\u001b[0;34m.\u001b[0m\u001b[0mdirichlet\u001b[0m\u001b[0;34m(\u001b[0m\u001b[0mnp\u001b[0m\u001b[0;34m.\u001b[0m\u001b[0mones\u001b[0m\u001b[0;34m(\u001b[0m\u001b[0;36m4\u001b[0m\u001b[0;34m)\u001b[0m\u001b[0;34m,\u001b[0m \u001b[0msize\u001b[0m\u001b[0;34m=\u001b[0m\u001b[0;36m6\u001b[0m\u001b[0;34m)\u001b[0m\u001b[0;34m\u001b[0m\u001b[0;34m\u001b[0m\u001b[0m\n\u001b[1;32m      2\u001b[0m \u001b[0mppm\u001b[0m \u001b[0;34m=\u001b[0m \u001b[0mseqlogo\u001b[0m\u001b[0;34m.\u001b[0m\u001b[0mPpm\u001b[0m\u001b[0;34m(\u001b[0m\u001b[0mrandom_ppm\u001b[0m\u001b[0;34m)\u001b[0m\u001b[0;34m\u001b[0m\u001b[0;34m\u001b[0m\u001b[0m\n\u001b[0;32m----> 3\u001b[0;31m \u001b[0mseqlogo\u001b[0m\u001b[0;34m.\u001b[0m\u001b[0mseqlogo\u001b[0m\u001b[0;34m(\u001b[0m\u001b[0mppm\u001b[0m\u001b[0;34m,\u001b[0m \u001b[0mic_scale\u001b[0m \u001b[0;34m=\u001b[0m \u001b[0;32mFalse\u001b[0m\u001b[0;34m,\u001b[0m \u001b[0msize\u001b[0m \u001b[0;34m=\u001b[0m \u001b[0;34m'medium'\u001b[0m\u001b[0;34m)\u001b[0m\u001b[0;34m\u001b[0m\u001b[0;34m\u001b[0m\u001b[0m\n\u001b[0m",
      "\u001b[0;32m/opt/conda/lib/python3.7/site-packages/seqlogo/seqlogo.py\u001b[0m in \u001b[0;36mseqlogo\u001b[0;34m(pm, ic_scale, color_scheme, size, format, filename, **kwargs)\u001b[0m\n\u001b[1;32m     89\u001b[0m     \u001b[0mlogo_format\u001b[0m \u001b[0;34m=\u001b[0m \u001b[0mwl\u001b[0m\u001b[0;34m.\u001b[0m\u001b[0mLogoFormat\u001b[0m\u001b[0;34m(\u001b[0m\u001b[0mpm\u001b[0m\u001b[0;34m,\u001b[0m \u001b[0moptions\u001b[0m\u001b[0;34m)\u001b[0m\u001b[0;34m\u001b[0m\u001b[0;34m\u001b[0m\u001b[0m\n\u001b[1;32m     90\u001b[0m \u001b[0;34m\u001b[0m\u001b[0m\n\u001b[0;32m---> 91\u001b[0;31m     \u001b[0mout\u001b[0m \u001b[0;34m=\u001b[0m \u001b[0mout_format\u001b[0m\u001b[0;34m(\u001b[0m\u001b[0mpm\u001b[0m\u001b[0;34m,\u001b[0m \u001b[0mlogo_format\u001b[0m\u001b[0;34m)\u001b[0m\u001b[0;34m\u001b[0m\u001b[0;34m\u001b[0m\u001b[0m\n\u001b[0m\u001b[1;32m     92\u001b[0m \u001b[0;34m\u001b[0m\u001b[0m\n\u001b[1;32m     93\u001b[0m     \u001b[0;31m# Create the file if the user supplied an filename\u001b[0m\u001b[0;34m\u001b[0m\u001b[0;34m\u001b[0m\u001b[0;34m\u001b[0m\u001b[0m\n",
      "\u001b[0;32m/opt/conda/lib/python3.7/site-packages/weblogo/logo_formatter.py\u001b[0m in \u001b[0;36msvg_formatter\u001b[0;34m(logodata, logoformat)\u001b[0m\n\u001b[1;32m     77\u001b[0m     \u001b[0;32mif\u001b[0m \u001b[0mcommand\u001b[0m \u001b[0;32mis\u001b[0m \u001b[0;32mNone\u001b[0m\u001b[0;34m:\u001b[0m\u001b[0;34m\u001b[0m\u001b[0;34m\u001b[0m\u001b[0m\n\u001b[1;32m     78\u001b[0m         raise EnvironmentError(\n\u001b[0;32m---> 79\u001b[0;31m             \u001b[0;34m\"Scalable Vector Graphics (SVG) format requires the program\"\u001b[0m \u001b[0;34m\"'pdf2svg'.\"\u001b[0m\u001b[0;34m\u001b[0m\u001b[0;34m\u001b[0m\u001b[0m\n\u001b[0m\u001b[1;32m     80\u001b[0m         )  # pragma: no cover\n\u001b[1;32m     81\u001b[0m \u001b[0;34m\u001b[0m\u001b[0m\n",
      "\u001b[0;31mOSError\u001b[0m: Scalable Vector Graphics (SVG) format requires the program'pdf2svg'."
     ]
    }
   ],
   "source": [
    "random_ppm = np.random.dirichlet(np.ones(4), size=6)\n",
    "ppm = seqlogo.Ppm(random_ppm)\n",
    "seqlogo.seqlogo(ppm, ic_scale = False, format = 'svg', size = 'medium')"
   ]
  },
  {
   "cell_type": "markdown",
   "metadata": {},
   "source": [
    "https://bioconductor.org/packages/release/bioc/vignettes/seqLogo/inst/doc/seqLogo.html"
   ]
  },
  {
   "cell_type": "code",
   "execution_count": 1,
   "metadata": {},
   "outputs": [],
   "source": [
    "%load_ext rpy2.ipython"
   ]
  },
  {
   "cell_type": "code",
   "execution_count": 3,
   "metadata": {},
   "outputs": [
    {
     "name": "stderr",
     "output_type": "stream",
     "text": [
      "R[write to console]: Loading required package: grid\n",
      "\n"
     ]
    }
   ],
   "source": [
    "%%R\n",
    "library(seqLogo)"
   ]
  },
  {
   "cell_type": "code",
   "execution_count": 4,
   "metadata": {},
   "outputs": [
    {
     "name": "stdout",
     "output_type": "stream",
     "text": [
      "   V1  V2  V3  V4  V5  V6  V7  V8\n",
      "1 0.0 0.0 0.0 0.3 0.2 0.0 0.0 0.0\n",
      "2 0.8 0.2 0.8 0.3 0.4 0.2 0.8 0.2\n",
      "3 0.2 0.8 0.2 0.4 0.3 0.8 0.2 0.8\n",
      "4 0.0 0.0 0.0 0.0 0.1 0.0 0.0 0.0\n"
     ]
    }
   ],
   "source": [
    "%%R\n",
    "mFile <- system.file(\"extdata/pwm1\", package=\"seqLogo\")\n",
    "m <- read.table(mFile)\n",
    "m"
   ]
  },
  {
   "cell_type": "code",
   "execution_count": 6,
   "metadata": {},
   "outputs": [
    {
     "name": "stdout",
     "output_type": "stream",
     "text": [
      "[1] \"pwm\"       \"width\"     \"ic\"        \"alphabet\"  \"consensus\"\n"
     ]
    }
   ],
   "source": [
    "%%R\n",
    "p <- makePWM(m)\n",
    "slotNames(p)"
   ]
  },
  {
   "cell_type": "code",
   "execution_count": 12,
   "metadata": {},
   "outputs": [
    {
     "name": "stdout",
     "output_type": "stream",
     "text": [
      "    1   2   3   4   5   6   7   8\n",
      "A 0.0 0.0 0.0 0.3 0.2 0.0 0.0 0.0\n",
      "C 0.8 0.2 0.8 0.3 0.4 0.2 0.8 0.2\n",
      "G 0.2 0.8 0.2 0.4 0.3 0.8 0.2 0.8\n",
      "T 0.0 0.0 0.0 0.0 0.1 0.0 0.0 0.0\n",
      "++++++++++++++++++++++++\n",
      "[1] 1.2780719 1.2780719 1.2780719 0.4290494 0.1535607 1.2780719 1.2780719\n",
      "[8] 1.2780719\n",
      "++++++++++++++++++++++++\n",
      "[1] \"CGCGCGCG\"\n"
     ]
    }
   ],
   "source": [
    "%%R\n",
    "print(pwm(p))\n",
    "cat(\"++++++++++++++++++++++++\\n\")\n",
    "print(ic(p))\n",
    "cat(\"++++++++++++++++++++++++\\n\")\n",
    "print(consensus(p))"
   ]
  },
  {
   "cell_type": "code",
   "execution_count": 13,
   "metadata": {},
   "outputs": [
    {
     "data": {
      "image/png": "[encoded data removed]"
     },
     "metadata": {},
     "output_type": "display_data"
    }
   ],
   "source": [
    "%%R\n",
    "seqLogo(p)"
   ]
  },
  {
   "cell_type": "code",
   "execution_count": 14,
   "metadata": {},
   "outputs": [
    {
     "data": {
      "image/png": "[encoded data removed]"
     },
     "metadata": {},
     "output_type": "display_data"
    }
   ],
   "source": [
    "%%R\n",
    "seqLogo(p, ic.scale=FALSE)"
   ]
  },
  {
   "cell_type": "code",
   "execution_count": 15,
   "metadata": {},
   "outputs": [
    {
     "data": {
      "image/png": "[encoded data removed]"
     },
     "metadata": {},
     "output_type": "display_data"
    }
   ],
   "source": [
    "%%R\n",
    "seqLogo(p, fill=c(A=\"#4daf4a\", C=\"#377eb8\", G=\"#ffd92f\", T=\"#e41a1c\"), ic.scale=FALSE)"
   ]
  },
  {
   "cell_type": "code",
   "execution_count": 16,
   "metadata": {},
   "outputs": [
    {
     "data": {
      "image/png": "[encoded data removed]"
     },
     "metadata": {},
     "output_type": "display_data"
    }
   ],
   "source": [
    "%%R\n",
    "r <- makePWM(m, alphabet=\"RNA\")\n",
    "seqLogo(r, ic.scale=FALSE)"
   ]
  },
  {
   "cell_type": "code",
   "execution_count": null,
   "metadata": {},
   "outputs": [],
   "source": []
  }
 ],
 "metadata": {
  "kernelspec": {
   "display_name": "Python 3",
   "language": "python",
   "name": "python3"
  },
  "language_info": {
   "codemirror_mode": {
    "name": "ipython",
    "version": 3
   },
   "file_extension": ".py",
   "mimetype": "text/x-python",
   "name": "python",
   "nbconvert_exporter": "python",
   "pygments_lexer": "ipython3",
   "version": "3.7.6"
  }
 },
 "nbformat": 4,
 "nbformat_minor": 4
}
