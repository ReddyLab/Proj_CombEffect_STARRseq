{
 "cells": [
  {
   "cell_type": "code",
   "execution_count": 1,
   "metadata": {},
   "outputs": [
    {
     "name": "stdout",
     "output_type": "stream",
     "text": [
      "[1] 1\n"
     ]
    }
   ],
   "source": [
    "print(1)"
   ]
  },
  {
   "cell_type": "code",
   "execution_count": 2,
   "metadata": {},
   "outputs": [],
   "source": [
    "library(ggplot2)"
   ]
  },
  {
   "cell_type": "code",
   "execution_count": 3,
   "metadata": {},
   "outputs": [],
   "source": [
    "library(ggseqlogo)"
   ]
  },
  {
   "cell_type": "code",
   "execution_count": 4,
   "metadata": {},
   "outputs": [],
   "source": [
    "data(ggseqlogo_sample)"
   ]
  },
  {
   "cell_type": "code",
   "execution_count": 7,
   "metadata": {},
   "outputs": [
    {
     "data": {
      "text/html": [
       "<style>\n",
       ".list-inline {list-style: none; margin:0; padding: 0}\n",
       ".list-inline>li {display: inline-block}\n",
       ".list-inline>li:not(:last-child)::after {content: \"\\00b7\"; padding: 0 .5ex}\n",
       "</style>\n",
       "<ol class=list-inline><li>'MA0001.1'</li><li>'MA0002.1'</li><li>'MA0004.1'</li><li>'MA0005.1'</li><li>'MA0006.1'</li><li>'MA0007.1'</li><li>'MA0008.1'</li><li>'MA0009.1'</li><li>'MA0010.1'</li><li>'MA0011.1'</li><li>'MA0012.1'</li><li>'MA0013.1'</li></ol>\n"
      ],
      "text/latex": [
       "\\begin{enumerate*}\n",
       "\\item 'MA0001.1'\n",
       "\\item 'MA0002.1'\n",
       "\\item 'MA0004.1'\n",
       "\\item 'MA0005.1'\n",
       "\\item 'MA0006.1'\n",
       "\\item 'MA0007.1'\n",
       "\\item 'MA0008.1'\n",
       "\\item 'MA0009.1'\n",
       "\\item 'MA0010.1'\n",
       "\\item 'MA0011.1'\n",
       "\\item 'MA0012.1'\n",
       "\\item 'MA0013.1'\n",
       "\\end{enumerate*}\n"
      ],
      "text/markdown": [
       "1. 'MA0001.1'\n",
       "2. 'MA0002.1'\n",
       "3. 'MA0004.1'\n",
       "4. 'MA0005.1'\n",
       "5. 'MA0006.1'\n",
       "6. 'MA0007.1'\n",
       "7. 'MA0008.1'\n",
       "8. 'MA0009.1'\n",
       "9. 'MA0010.1'\n",
       "10. 'MA0011.1'\n",
       "11. 'MA0012.1'\n",
       "12. 'MA0013.1'\n",
       "\n",
       "\n"
      ],
      "text/plain": [
       " [1] \"MA0001.1\" \"MA0002.1\" \"MA0004.1\" \"MA0005.1\" \"MA0006.1\" \"MA0007.1\"\n",
       " [7] \"MA0008.1\" \"MA0009.1\" \"MA0010.1\" \"MA0011.1\" \"MA0012.1\" \"MA0013.1\""
      ]
     },
     "metadata": {},
     "output_type": "display_data"
    }
   ],
   "source": [
    "names(seqs_dna)"
   ]
  },
  {
   "cell_type": "code",
   "execution_count": 6,
   "metadata": {},
   "outputs": [
    {
     "data": {
      "text/html": [
       "<style>\n",
       ".list-inline {list-style: none; margin:0; padding: 0}\n",
       ".list-inline>li {display: inline-block}\n",
       ".list-inline>li:not(:last-child)::after {content: \"\\00b7\"; padding: 0 .5ex}\n",
       "</style>\n",
       "<ol class=list-inline><li>'CCATATATAG'</li><li>'CCATATATAG'</li><li>'CCATAAATAG'</li><li>'CCATAAATAG'</li><li>'CCATAAATAG'</li><li>'CCATAAATAG'</li><li>'CCATAAATAG'</li><li>'CCATATATGG'</li><li>'CCATATATGG'</li><li>'CCAAATATAG'</li><li>'CCAAATATAG'</li><li>'CCAAATATAG'</li><li>'CCATAAATGG'</li><li>'CCATAAATGG'</li><li>'CCATAAATGG'</li><li>'CCATAAATGG'</li><li>'CCAAAAATAG'</li><li>'CCAAAAATAG'</li><li>'CCAAAAATAG'</li><li>'CCAAAAATAG'</li><li>'CCAAAAATAG'</li><li>'CCAAATATGG'</li><li>'CCAAAAATGG'</li><li>'CCAAAAATGG'</li><li>'CCATTTATAG'</li><li>'CCATTTATAG'</li><li>'CCATTTATAG'</li><li>'CCATTAATAG'</li><li>'CCATTAATAG'</li><li>'CCATTAATAG'</li><li>'CCAATTATAG'</li><li>'CCATTAATGG'</li><li>'CCAATAATAG'</li><li>'CCAATTATGG'</li><li>'CCAAAATTAG'</li><li>'CCAAAATTAG'</li><li>'CCAAAATTAG'</li><li>'CCACATATAG'</li><li>'CCATTTTTAG'</li><li>'CCATTTTTAG'</li><li>'CCATTTTTAG'</li><li>'CCATAAGTGG'</li><li>'CTATATATAG'</li><li>'CCATACATGG'</li><li>'CTATAAATAG'</li><li>'CTATAAATAG'</li><li>'CCTAATATAG'</li><li>'CCTAATATAG'</li><li>'CCTAATATAG'</li><li>'CCAAAACTAG'</li><li>'CTAAATATAG'</li><li>'CTAAATATAG'</li><li>'CCATAAACAG'</li><li>'CTAAAAATAG'</li><li>'CTAAAAATAG'</li><li>'CCTAAAATGG'</li><li>'CCTAAAATGG'</li><li>'CCAGATTTAG'</li><li>'CCTTTTATAG'</li><li>'CCTTTTATAG'</li><li>'CCAAAAAAAG'</li><li>'CCAAATAAGG'</li><li>'CCAGAATTAG'</li><li>'CCATTTCTGG'</li><li>'CTAAATTTAG'</li><li>'CCCGATATAG'</li><li>'CCAAAAATAC'</li><li>'CCATATTGGG'</li><li>'CCGTTTTTAG'</li><li>'CAATTTATAG'</li><li>'CTAAAAGTAG'</li><li>'CTAAAAGTAG'</li><li>'CCATTTTAAG'</li><li>'CCATTTTAAG'</li><li>'CCATTTATGT'</li><li>'CTGTAAATAG'</li><li>'CCATTTTGGG'</li><li>'CAATAATTAG'</li><li>'CTCAAAATAG'</li><li>'CCAATTTAGG'</li><li>'CCAATTTAGG'</li><li>'CCTAATACGG'</li><li>'CTATATTAAG'</li><li>'CTATAAATGT'</li><li>'CCTTTTATGT'</li><li>'CCCTTTTTCG'</li><li>'CTAAAAGAAG'</li><li>'CTATATTTGT'</li><li>'CTATAATTGT'</li><li>'CTACTTAAAG'</li><li>'CCGAAAAATG'</li><li>'CCTAAAGTGT'</li><li>'CCTTTTCTAC'</li><li>'CCCTCACAAG'</li><li>'TAATTTCTCG'</li><li>'GCACACAGAC'</li><li>'TTAGGATTCG'</li></ol>\n"
      ],
      "text/latex": [
       "\\begin{enumerate*}\n",
       "\\item 'CCATATATAG'\n",
       "\\item 'CCATATATAG'\n",
       "\\item 'CCATAAATAG'\n",
       "\\item 'CCATAAATAG'\n",
       "\\item 'CCATAAATAG'\n",
       "\\item 'CCATAAATAG'\n",
       "\\item 'CCATAAATAG'\n",
       "\\item 'CCATATATGG'\n",
       "\\item 'CCATATATGG'\n",
       "\\item 'CCAAATATAG'\n",
       "\\item 'CCAAATATAG'\n",
       "\\item 'CCAAATATAG'\n",
       "\\item 'CCATAAATGG'\n",
       "\\item 'CCATAAATGG'\n",
       "\\item 'CCATAAATGG'\n",
       "\\item 'CCATAAATGG'\n",
       "\\item 'CCAAAAATAG'\n",
       "\\item 'CCAAAAATAG'\n",
       "\\item 'CCAAAAATAG'\n",
       "\\item 'CCAAAAATAG'\n",
       "\\item 'CCAAAAATAG'\n",
       "\\item 'CCAAATATGG'\n",
       "\\item 'CCAAAAATGG'\n",
       "\\item 'CCAAAAATGG'\n",
       "\\item 'CCATTTATAG'\n",
       "\\item 'CCATTTATAG'\n",
       "\\item 'CCATTTATAG'\n",
       "\\item 'CCATTAATAG'\n",
       "\\item 'CCATTAATAG'\n",
       "\\item 'CCATTAATAG'\n",
       "\\item 'CCAATTATAG'\n",
       "\\item 'CCATTAATGG'\n",
       "\\item 'CCAATAATAG'\n",
       "\\item 'CCAATTATGG'\n",
       "\\item 'CCAAAATTAG'\n",
       "\\item 'CCAAAATTAG'\n",
       "\\item 'CCAAAATTAG'\n",
       "\\item 'CCACATATAG'\n",
       "\\item 'CCATTTTTAG'\n",
       "\\item 'CCATTTTTAG'\n",
       "\\item 'CCATTTTTAG'\n",
       "\\item 'CCATAAGTGG'\n",
       "\\item 'CTATATATAG'\n",
       "\\item 'CCATACATGG'\n",
       "\\item 'CTATAAATAG'\n",
       "\\item 'CTATAAATAG'\n",
       "\\item 'CCTAATATAG'\n",
       "\\item 'CCTAATATAG'\n",
       "\\item 'CCTAATATAG'\n",
       "\\item 'CCAAAACTAG'\n",
       "\\item 'CTAAATATAG'\n",
       "\\item 'CTAAATATAG'\n",
       "\\item 'CCATAAACAG'\n",
       "\\item 'CTAAAAATAG'\n",
       "\\item 'CTAAAAATAG'\n",
       "\\item 'CCTAAAATGG'\n",
       "\\item 'CCTAAAATGG'\n",
       "\\item 'CCAGATTTAG'\n",
       "\\item 'CCTTTTATAG'\n",
       "\\item 'CCTTTTATAG'\n",
       "\\item 'CCAAAAAAAG'\n",
       "\\item 'CCAAATAAGG'\n",
       "\\item 'CCAGAATTAG'\n",
       "\\item 'CCATTTCTGG'\n",
       "\\item 'CTAAATTTAG'\n",
       "\\item 'CCCGATATAG'\n",
       "\\item 'CCAAAAATAC'\n",
       "\\item 'CCATATTGGG'\n",
       "\\item 'CCGTTTTTAG'\n",
       "\\item 'CAATTTATAG'\n",
       "\\item 'CTAAAAGTAG'\n",
       "\\item 'CTAAAAGTAG'\n",
       "\\item 'CCATTTTAAG'\n",
       "\\item 'CCATTTTAAG'\n",
       "\\item 'CCATTTATGT'\n",
       "\\item 'CTGTAAATAG'\n",
       "\\item 'CCATTTTGGG'\n",
       "\\item 'CAATAATTAG'\n",
       "\\item 'CTCAAAATAG'\n",
       "\\item 'CCAATTTAGG'\n",
       "\\item 'CCAATTTAGG'\n",
       "\\item 'CCTAATACGG'\n",
       "\\item 'CTATATTAAG'\n",
       "\\item 'CTATAAATGT'\n",
       "\\item 'CCTTTTATGT'\n",
       "\\item 'CCCTTTTTCG'\n",
       "\\item 'CTAAAAGAAG'\n",
       "\\item 'CTATATTTGT'\n",
       "\\item 'CTATAATTGT'\n",
       "\\item 'CTACTTAAAG'\n",
       "\\item 'CCGAAAAATG'\n",
       "\\item 'CCTAAAGTGT'\n",
       "\\item 'CCTTTTCTAC'\n",
       "\\item 'CCCTCACAAG'\n",
       "\\item 'TAATTTCTCG'\n",
       "\\item 'GCACACAGAC'\n",
       "\\item 'TTAGGATTCG'\n",
       "\\end{enumerate*}\n"
      ],
      "text/markdown": [
       "1. 'CCATATATAG'\n",
       "2. 'CCATATATAG'\n",
       "3. 'CCATAAATAG'\n",
       "4. 'CCATAAATAG'\n",
       "5. 'CCATAAATAG'\n",
       "6. 'CCATAAATAG'\n",
       "7. 'CCATAAATAG'\n",
       "8. 'CCATATATGG'\n",
       "9. 'CCATATATGG'\n",
       "10. 'CCAAATATAG'\n",
       "11. 'CCAAATATAG'\n",
       "12. 'CCAAATATAG'\n",
       "13. 'CCATAAATGG'\n",
       "14. 'CCATAAATGG'\n",
       "15. 'CCATAAATGG'\n",
       "16. 'CCATAAATGG'\n",
       "17. 'CCAAAAATAG'\n",
       "18. 'CCAAAAATAG'\n",
       "19. 'CCAAAAATAG'\n",
       "20. 'CCAAAAATAG'\n",
       "21. 'CCAAAAATAG'\n",
       "22. 'CCAAATATGG'\n",
       "23. 'CCAAAAATGG'\n",
       "24. 'CCAAAAATGG'\n",
       "25. 'CCATTTATAG'\n",
       "26. 'CCATTTATAG'\n",
       "27. 'CCATTTATAG'\n",
       "28. 'CCATTAATAG'\n",
       "29. 'CCATTAATAG'\n",
       "30. 'CCATTAATAG'\n",
       "31. 'CCAATTATAG'\n",
       "32. 'CCATTAATGG'\n",
       "33. 'CCAATAATAG'\n",
       "34. 'CCAATTATGG'\n",
       "35. 'CCAAAATTAG'\n",
       "36. 'CCAAAATTAG'\n",
       "37. 'CCAAAATTAG'\n",
       "38. 'CCACATATAG'\n",
       "39. 'CCATTTTTAG'\n",
       "40. 'CCATTTTTAG'\n",
       "41. 'CCATTTTTAG'\n",
       "42. 'CCATAAGTGG'\n",
       "43. 'CTATATATAG'\n",
       "44. 'CCATACATGG'\n",
       "45. 'CTATAAATAG'\n",
       "46. 'CTATAAATAG'\n",
       "47. 'CCTAATATAG'\n",
       "48. 'CCTAATATAG'\n",
       "49. 'CCTAATATAG'\n",
       "50. 'CCAAAACTAG'\n",
       "51. 'CTAAATATAG'\n",
       "52. 'CTAAATATAG'\n",
       "53. 'CCATAAACAG'\n",
       "54. 'CTAAAAATAG'\n",
       "55. 'CTAAAAATAG'\n",
       "56. 'CCTAAAATGG'\n",
       "57. 'CCTAAAATGG'\n",
       "58. 'CCAGATTTAG'\n",
       "59. 'CCTTTTATAG'\n",
       "60. 'CCTTTTATAG'\n",
       "61. 'CCAAAAAAAG'\n",
       "62. 'CCAAATAAGG'\n",
       "63. 'CCAGAATTAG'\n",
       "64. 'CCATTTCTGG'\n",
       "65. 'CTAAATTTAG'\n",
       "66. 'CCCGATATAG'\n",
       "67. 'CCAAAAATAC'\n",
       "68. 'CCATATTGGG'\n",
       "69. 'CCGTTTTTAG'\n",
       "70. 'CAATTTATAG'\n",
       "71. 'CTAAAAGTAG'\n",
       "72. 'CTAAAAGTAG'\n",
       "73. 'CCATTTTAAG'\n",
       "74. 'CCATTTTAAG'\n",
       "75. 'CCATTTATGT'\n",
       "76. 'CTGTAAATAG'\n",
       "77. 'CCATTTTGGG'\n",
       "78. 'CAATAATTAG'\n",
       "79. 'CTCAAAATAG'\n",
       "80. 'CCAATTTAGG'\n",
       "81. 'CCAATTTAGG'\n",
       "82. 'CCTAATACGG'\n",
       "83. 'CTATATTAAG'\n",
       "84. 'CTATAAATGT'\n",
       "85. 'CCTTTTATGT'\n",
       "86. 'CCCTTTTTCG'\n",
       "87. 'CTAAAAGAAG'\n",
       "88. 'CTATATTTGT'\n",
       "89. 'CTATAATTGT'\n",
       "90. 'CTACTTAAAG'\n",
       "91. 'CCGAAAAATG'\n",
       "92. 'CCTAAAGTGT'\n",
       "93. 'CCTTTTCTAC'\n",
       "94. 'CCCTCACAAG'\n",
       "95. 'TAATTTCTCG'\n",
       "96. 'GCACACAGAC'\n",
       "97. 'TTAGGATTCG'\n",
       "\n",
       "\n"
      ],
      "text/plain": [
       " [1] \"CCATATATAG\" \"CCATATATAG\" \"CCATAAATAG\" \"CCATAAATAG\" \"CCATAAATAG\"\n",
       " [6] \"CCATAAATAG\" \"CCATAAATAG\" \"CCATATATGG\" \"CCATATATGG\" \"CCAAATATAG\"\n",
       "[11] \"CCAAATATAG\" \"CCAAATATAG\" \"CCATAAATGG\" \"CCATAAATGG\" \"CCATAAATGG\"\n",
       "[16] \"CCATAAATGG\" \"CCAAAAATAG\" \"CCAAAAATAG\" \"CCAAAAATAG\" \"CCAAAAATAG\"\n",
       "[21] \"CCAAAAATAG\" \"CCAAATATGG\" \"CCAAAAATGG\" \"CCAAAAATGG\" \"CCATTTATAG\"\n",
       "[26] \"CCATTTATAG\" \"CCATTTATAG\" \"CCATTAATAG\" \"CCATTAATAG\" \"CCATTAATAG\"\n",
       "[31] \"CCAATTATAG\" \"CCATTAATGG\" \"CCAATAATAG\" \"CCAATTATGG\" \"CCAAAATTAG\"\n",
       "[36] \"CCAAAATTAG\" \"CCAAAATTAG\" \"CCACATATAG\" \"CCATTTTTAG\" \"CCATTTTTAG\"\n",
       "[41] \"CCATTTTTAG\" \"CCATAAGTGG\" \"CTATATATAG\" \"CCATACATGG\" \"CTATAAATAG\"\n",
       "[46] \"CTATAAATAG\" \"CCTAATATAG\" \"CCTAATATAG\" \"CCTAATATAG\" \"CCAAAACTAG\"\n",
       "[51] \"CTAAATATAG\" \"CTAAATATAG\" \"CCATAAACAG\" \"CTAAAAATAG\" \"CTAAAAATAG\"\n",
       "[56] \"CCTAAAATGG\" \"CCTAAAATGG\" \"CCAGATTTAG\" \"CCTTTTATAG\" \"CCTTTTATAG\"\n",
       "[61] \"CCAAAAAAAG\" \"CCAAATAAGG\" \"CCAGAATTAG\" \"CCATTTCTGG\" \"CTAAATTTAG\"\n",
       "[66] \"CCCGATATAG\" \"CCAAAAATAC\" \"CCATATTGGG\" \"CCGTTTTTAG\" \"CAATTTATAG\"\n",
       "[71] \"CTAAAAGTAG\" \"CTAAAAGTAG\" \"CCATTTTAAG\" \"CCATTTTAAG\" \"CCATTTATGT\"\n",
       "[76] \"CTGTAAATAG\" \"CCATTTTGGG\" \"CAATAATTAG\" \"CTCAAAATAG\" \"CCAATTTAGG\"\n",
       "[81] \"CCAATTTAGG\" \"CCTAATACGG\" \"CTATATTAAG\" \"CTATAAATGT\" \"CCTTTTATGT\"\n",
       "[86] \"CCCTTTTTCG\" \"CTAAAAGAAG\" \"CTATATTTGT\" \"CTATAATTGT\" \"CTACTTAAAG\"\n",
       "[91] \"CCGAAAAATG\" \"CCTAAAGTGT\" \"CCTTTTCTAC\" \"CCCTCACAAG\" \"TAATTTCTCG\"\n",
       "[96] \"GCACACAGAC\" \"TTAGGATTCG\""
      ]
     },
     "metadata": {},
     "output_type": "display_data"
    }
   ],
   "source": [
    "seqs_dna$MA0001.1"
   ]
  },
  {
   "cell_type": "code",
   "execution_count": 8,
   "metadata": {},
   "outputs": [
    {
     "name": "stderr",
     "output_type": "stream",
     "text": [
      "Warning message:\n",
      "“`guides(<scale> = FALSE)` is deprecated. Please use `guides(<scale> = \"none\")` instead.”\n"
     ]
    },
    {
     "data": {
      "image/png": "[encoded data removed]",
      "text/plain": [
       "plot without title"
      ]
     },
     "metadata": {
      "image/png": {
       "height": 420,
       "width": 420
      }
     },
     "output_type": "display_data"
    }
   ],
   "source": [
    "ggplot() + geom_logo( seqs_dna$MA0001.1 ) + theme_logo()"
   ]
  },
  {
   "cell_type": "code",
   "execution_count": 9,
   "metadata": {},
   "outputs": [
    {
     "name": "stderr",
     "output_type": "stream",
     "text": [
      "Warning message:\n",
      "“`guides(<scale> = FALSE)` is deprecated. Please use `guides(<scale> = \"none\")` instead.”\n"
     ]
    },
    {
     "data": {
      "image/png": "[encoded data removed]",
      "text/plain": [
       "plot without title"
      ]
     },
     "metadata": {
      "image/png": {
       "height": 420,
       "width": 420
      }
     },
     "output_type": "display_data"
    }
   ],
   "source": [
    "ggseqlogo( seqs_dna$MA0001.1 )"
   ]
  },
  {
   "cell_type": "code",
   "execution_count": null,
   "metadata": {},
   "outputs": [],
   "source": []
  }
 ],
 "metadata": {
  "kernelspec": {
   "display_name": "R",
   "language": "R",
   "name": "ir"
  },
  "language_info": {
   "codemirror_mode": "r",
   "file_extension": ".r",
   "mimetype": "text/x-r-source",
   "name": "R",
   "pygments_lexer": "r",
   "version": "4.2.1"
  }
 },
 "nbformat": 4,
 "nbformat_minor": 4
}
