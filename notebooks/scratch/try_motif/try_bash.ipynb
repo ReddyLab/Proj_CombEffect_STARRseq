{
 "cells": [
  {
   "cell_type": "code",
   "execution_count": 1,
   "metadata": {},
   "outputs": [
    {
     "name": "stdout",
     "output_type": "stream",
     "text": [
      "GCR_HUMAN.H11MO.0.A.pcm  MA0727.1.pfm\t\t    try_ggseqlogo.ipynb\n",
      "GCR_HUMAN.H11MO.0.A.pwm  try_bash.ipynb\t\t    try_ggseqlogo_r.ipynb\n",
      "MA0727.1.meme\t\t try_biopython_motif.ipynb  try_seqlogo_py_r.ipynb\n"
     ]
    }
   ],
   "source": [
    "ls"
   ]
  },
  {
   "cell_type": "code",
   "execution_count": null,
   "metadata": {},
   "outputs": [],
   "source": []
  }
 ],
 "metadata": {
  "kernelspec": {
   "display_name": "Bash",
   "language": "bash",
   "name": "bash"
  },
  "language_info": {
   "codemirror_mode": "shell",
   "file_extension": ".sh",
   "mimetype": "text/x-sh",
   "name": "bash"
  }
 },
 "nbformat": 4,
 "nbformat_minor": 4
}
