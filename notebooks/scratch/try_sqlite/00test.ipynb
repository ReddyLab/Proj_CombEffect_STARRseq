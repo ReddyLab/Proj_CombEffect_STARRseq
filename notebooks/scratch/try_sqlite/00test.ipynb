{
 "cells": [
  {
   "cell_type": "markdown",
   "id": "4ba88d75",
   "metadata": {},
   "source": [
    "# Optimize insert strategy and measure its performance"
   ]
  },
  {
   "cell_type": "code",
   "execution_count": 1,
   "id": "85d93ac3",
   "metadata": {},
   "outputs": [],
   "source": [
    "#######################################################\n",
    "### Set environment\n",
    "###++++++++++++++++++++++++++++++++++++++++++++++++++++\n",
    "\n",
    "### import common packages\n",
    "import numpy  as np\n",
    "import itertools as it\n",
    "import sys, os, gzip\n",
    "from   functools import reduce\n",
    "\n",
    "### update print\n",
    "from functools import partial\n",
    "print = partial(print, flush=True)\n",
    "\n",
    "### set working directories\n",
    "sys.path.append('/mount/project')\n",
    "from config_sing_path import *\n",
    "\n",
    "### import specific packages\n",
    "import sqlite3\n",
    "# https://stackoverflow.com/questions/49456158/integer-in-python-pandas-becomes-blob-binary-in-sqlite\n",
    "sqlite3.register_adapter(np.int64, lambda val: int(val))\n",
    "sqlite3.register_adapter(np.int32, lambda val: int(val))\n",
    "\n",
    "\n",
    "### import packages for benchmark performance\n",
    "import cProfile, pstats, time, timeit\n",
    "import matplotlib.pyplot as plt"
   ]
  },
  {
   "cell_type": "code",
   "execution_count": 2,
   "id": "b2c05fd4",
   "metadata": {},
   "outputs": [
    {
     "name": "stdout",
     "output_type": "stream",
     "text": [
      "Global variables:\n",
      "Chromsome:  chr17\n",
      "Database:   /mount/work/out/proj_combeffect/database/test_insert_chr17.db\n",
      "Input file directory: /mount/work/out/proj_combeffect/nuc\n",
      "\n"
     ]
    }
   ],
   "source": [
    "### parse arguments\n",
    "CHROM   = \"chr17\"                          #args.chrom\n",
    "FD_OUT  = os.path.join(FD_RES, \"database\") #args.fout\n",
    "FD_INP  = os.path.join(FD_RES, \"nuc\")      #args.finp\n",
    "PREFIX  = \"test_insert\"                    #args.prefix\n",
    "VERBOSE = True                             #args.verbose\n",
    "\n",
    "#######################################################\n",
    "### Global varialbes and I/O\n",
    "###++++++++++++++++++++++++++++++++++++++++++++++++++++\n",
    "\n",
    "### file path of fragment database\n",
    "fdiry  = FD_OUT\n",
    "fname  = f\"{PREFIX}_{CHROM}.db\"\n",
    "FP_DTB = os.path.join(fdiry, fname)\n",
    "\n",
    "### Set Samples\n",
    "fun = np.core.defchararray.add\n",
    "idx = np.arange(1,6).astype(\"str\")\n",
    "\n",
    "INPUT    = reduce(fun, [\"Input\", idx])\n",
    "INPUT20X = reduce(fun, [\"Input\", idx,     \"_20x\"])\n",
    "TFX_DMSO = reduce(fun, [\"TFX\",   idx[1:], \"_DMSO\"])\n",
    "TFX_DEX  = reduce(fun, [\"TFX\",   idx[1:], \"_Dex\"])\n",
    "SAMPLES  = np.concatenate([INPUT, INPUT20X, TFX_DMSO, TFX_DEX])\n",
    "\n",
    "### show info\n",
    "if (VERBOSE):\n",
    "    print(\"Global variables:\")\n",
    "    print(\"Chromsome: \", CHROM)\n",
    "    print(\"Database:  \", FP_DTB)\n",
    "    print(\"Input file directory:\", FD_INP)\n",
    "    print()"
   ]
  },
  {
   "cell_type": "code",
   "execution_count": 1,
   "id": "8c1553f1",
   "metadata": {},
   "outputs": [
    {
     "name": "stdout",
     "output_type": "stream",
     "text": [
      "9004451\n"
     ]
    }
   ],
   "source": [
    "!zcat /mount/work/out/proj_combeffect/nuc/Input1_20x/chr17.bed.gz | wc -l"
   ]
  },
  {
   "cell_type": "code",
   "execution_count": 2,
   "id": "d7913c6c",
   "metadata": {},
   "outputs": [
    {
     "name": "stdout",
     "output_type": "stream",
     "text": [
      "1760234725\n"
     ]
    }
   ],
   "source": [
    "!zcat /mount/work/out/proj_combeffect/annotation/Input1_20x/chr17.bed.gz | wc -l"
   ]
  },
  {
   "cell_type": "code",
   "execution_count": 5,
   "id": "e3655afd",
   "metadata": {},
   "outputs": [],
   "source": [
    "##################################################\n",
    "### Helper functions\n",
    "### ++++++++++++++++++++++++++++++++++++++++++++++\n",
    "\n",
    "### helper function to process each row\n",
    "def prep_line(line):\n",
    "    \"\"\"Function to process each line\"\"\"\n",
    "    ### Decode\n",
    "    lst = line.decode('ASCII').strip().split('\\t') \n",
    "\n",
    "    ### parse info\n",
    "    key = \"_\".join(lst[0:3])\n",
    "    val = lst[0:3] + lst[4:-1]\n",
    "    return [key] + val\n",
    "\n",
    "### helper function to get a chunk of file\n",
    "def get_chunks(gen, rows=10000):\n",
    "    \"\"\"Divides the data into 10000 rows each \"\"\"\n",
    "    iterable = iter(gen)\n",
    "    while True:\n",
    "        x = list(it.islice(iterable, rows))\n",
    "        if not x:\n",
    "            return\n",
    "        yield x"
   ]
  },
  {
   "cell_type": "code",
   "execution_count": 6,
   "id": "faa794ea",
   "metadata": {},
   "outputs": [],
   "source": [
    "##################################################\n",
    "### Set SQL query\n",
    "### ++++++++++++++++++++++++++++++++++++++++++++++\n",
    "\n",
    "query_reset_table = \"DROP TABLE IF EXISTS Fragment\"\n",
    "query_reset_index = \"DROP INDEX IF EXISTS idx_frag_loc\"\n",
    "\n",
    "query_table = (\"\"\"\n",
    "    CREATE TABLE IF NOT EXISTS Fragment(\n",
    "        fragment TEXT PRIMARY KEY, \n",
    "        chrom    TEXT,\n",
    "        start    INTEGER,\n",
    "        end      INTEGER,\n",
    "        pct_at   REAL,\n",
    "        pct_gc   REAL,\n",
    "        num_A    INTEGER,\n",
    "        num_C    INTEGER,\n",
    "        num_G    INTEGER,\n",
    "        num_T    INTEGER,\n",
    "        num_N    INTEGER,\n",
    "        num_oth  INTEGER\n",
    "    );\"\"\")\n",
    "\n",
    "query_index  = \"\"\"CREATE INDEX idx_frag_loc ON Fragment (start, end)\"\"\"\n",
    "query_insert = (\"\"\"\n",
    "    INSERT OR IGNORE INTO Fragment\n",
    "        (fragment, chrom, start, end, pct_at, pct_gc,\n",
    "         num_A, num_C, num_G, num_T, num_N, num_oth) \n",
    "    VALUES \n",
    "        (?,?,?,?,?,?,?,?,?,?,?,?)\n",
    "    \"\"\")"
   ]
  },
  {
   "cell_type": "code",
   "execution_count": 43,
   "id": "4ef2cdff",
   "metadata": {},
   "outputs": [],
   "source": [
    "def check_results(n_lines=5):\n",
    "    with sqlite3.connect(FP_DTB) as conn:\n",
    "        ### init\n",
    "        cursor = conn.cursor()\n",
    "        ### check number of lines\n",
    "        query  = \"select count(*) from Fragment\"\n",
    "        cursor = cursor.execute(query)\n",
    "        counts = cursor.fetchall()\n",
    "        \n",
    "        ### check first 10 results\n",
    "        query  = \"SELECT * from Fragment\"\n",
    "        cursor = cursor.execute(query)\n",
    "        lines  = list(it.islice(cursor, n_lines))\n",
    "    return counts[0][0], lines"
   ]
  },
  {
   "cell_type": "code",
   "execution_count": 8,
   "id": "e1778514",
   "metadata": {},
   "outputs": [],
   "source": [
    "def refresh():\n",
    "    with sqlite3.connect(FP_DTB) as conn:\n",
    "        ### init\n",
    "        cursor = conn.cursor()\n",
    "\n",
    "        ### reset table\n",
    "        query  = query_reset_table\n",
    "        cursor = cursor.execute(query)\n",
    "\n",
    "        ### create table\n",
    "        query  = query_table\n",
    "        cursor = cursor.execute(query)"
   ]
  },
  {
   "cell_type": "code",
   "execution_count": 17,
   "id": "0ead3091",
   "metadata": {},
   "outputs": [],
   "source": [
    "def insert_line_by_line(n_lines = 10):\n",
    "    ### init table\n",
    "    refresh()\n",
    "    query = query_insert\n",
    "\n",
    "    with sqlite3.connect(FP_DTB) as conn:\n",
    "        ### init: set cursor\n",
    "        cursor = conn.cursor()\n",
    "\n",
    "        #for sample in samples:\n",
    "        sample = \"Input1_20x\"\n",
    "        fdiry  = os.path.join(FD_INP, sample)\n",
    "        fname  = \"chr17.bed.gz\"\n",
    "        fpath  = os.path.join(fdiry, fname)\n",
    "\n",
    "        with gzip.open(fpath, \"rb\") as file:\n",
    "\n",
    "            ### remove file header\n",
    "            header = file.readline()\n",
    "\n",
    "            ### set lines\n",
    "            lines = file\n",
    "            lines = it.islice(lines, n_lines)\n",
    "            fun   = prep_line\n",
    "            lines = map(fun, lines)\n",
    "\n",
    "            ### insert line by line\n",
    "            for line in lines:\n",
    "                cursor.execute(query, line)"
   ]
  },
  {
   "cell_type": "code",
   "execution_count": 118,
   "id": "cb056f69",
   "metadata": {},
   "outputs": [],
   "source": [
    "def insert_batch_v1(n_chunksize, n_lines = 10):\n",
    "    ### init table\n",
    "    refresh()\n",
    "    query = query_insert\n",
    "\n",
    "    with sqlite3.connect(FP_DTB) as conn:\n",
    "        ### init: set cursor\n",
    "        cursor = conn.cursor()\n",
    "\n",
    "        #for sample in samples:\n",
    "        sample = \"Input1_20x\"\n",
    "        fdiry  = os.path.join(FD_INP, sample)\n",
    "        fname  = \"chr17.bed.gz\"\n",
    "        fpath  = os.path.join(fdiry, fname)\n",
    "\n",
    "        with gzip.open(fpath, \"rb\") as file:\n",
    "\n",
    "            ### remove file header\n",
    "            header = file.readline()\n",
    "\n",
    "            ### set lines\n",
    "            lines = file\n",
    "            lines = it.islice(lines, n_lines)\n",
    "            \n",
    "            ### set chunks\n",
    "            chunks  = get_chunks(lines, rows=n_chunksize)\n",
    "\n",
    "            ### insert chunk by chunk\n",
    "            for chunk in chunks:\n",
    "                \n",
    "                ### preprocess lines\n",
    "                fun = prep_line\n",
    "                lst = list(map(fun, chunk))\n",
    "                \n",
    "                ### insert\n",
    "                cursor.executemany(query, lst)"
   ]
  },
  {
   "cell_type": "code",
   "execution_count": null,
   "id": "830d12d1",
   "metadata": {},
   "outputs": [],
   "source": [
    "def insert_batch_v2(n_chunksize, n_lines = 10):\n",
    "    ### init table\n",
    "    refresh()\n",
    "    query = query_insert\n",
    "\n",
    "    with sqlite3.connect(FP_DTB) as conn:\n",
    "        ### init: set cursor\n",
    "        cursor = conn.cursor()\n",
    "\n",
    "        #for sample in samples:\n",
    "        sample = \"Input1_20x\"\n",
    "        fdiry  = os.path.join(FD_INP, sample)\n",
    "        fname  = \"chr17.bed.gz\"\n",
    "        fpath  = os.path.join(fdiry, fname)\n",
    "\n",
    "        with gzip.open(fpath, \"rb\") as file:\n",
    "\n",
    "            ### remove file header\n",
    "            header = file.readline()\n",
    "\n",
    "            ### set lines\n",
    "            lines = file\n",
    "            lines = it.islice(lines, n_lines)\n",
    "            fun   = prep_line\n",
    "            lines = map(fun, lines)\n",
    "            \n",
    "            ### set chunks\n",
    "            chunks  = get_chunks(lines, rows=n_chunksize)\n",
    "\n",
    "            ### insert chunk by chunk\n",
    "            for chunk in chunks:\n",
    "                cursor.executemany(query, chunk)"
   ]
  },
  {
   "cell_type": "code",
   "execution_count": 19,
   "id": "c4e65696",
   "metadata": {},
   "outputs": [],
   "source": [
    "def insert_batch_v2(n_chunksize, n_lines = 10):\n",
    "    ### init table\n",
    "    refresh()\n",
    "    query = query_insert\n",
    "\n",
    "    with sqlite3.connect(FP_DTB) as conn:\n",
    "        ### init: set cursor\n",
    "        cursor = conn.cursor()\n",
    "\n",
    "        #for sample in samples:\n",
    "        sample = \"Input1_20x\"\n",
    "        fdiry  = os.path.join(FD_INP, sample)\n",
    "        fname  = \"chr17.bed.gz\"\n",
    "        fpath  = os.path.join(fdiry, fname)\n",
    "\n",
    "        with gzip.open(fpath, \"rb\") as file:\n",
    "\n",
    "            ### remove file header\n",
    "            header = file.readline()\n",
    "\n",
    "            ### set lines\n",
    "            lines = file\n",
    "            lines = it.islice(lines, n_lines)\n",
    "            fun   = prep_line\n",
    "            lines = map(fun, lines)\n",
    "            \n",
    "            ### set chunks\n",
    "            chunks  = get_chunks(lines, rows=n_chunksize)\n",
    "\n",
    "            ### insert chunk by chunk\n",
    "            for chunk in chunks:\n",
    "                cursor.execute('BEGIN TRANSACTION')\n",
    "                cursor.executemany(query, chunk)\n",
    "                cursor.execute('COMMIT')"
   ]
  },
  {
   "cell_type": "code",
   "execution_count": 14,
   "id": "6b1782ea",
   "metadata": {},
   "outputs": [],
   "source": [
    "def insert_batch_v3(n_chunksize, n_lines = 10):\n",
    "    ### init table\n",
    "    refresh()\n",
    "    query = query_insert\n",
    "\n",
    "    with sqlite3.connect(FP_DTB) as conn:\n",
    "        ### init: set cursor\n",
    "        cursor = conn.cursor()\n",
    "\n",
    "        #for sample in samples:\n",
    "        sample = \"Input1_20x\"\n",
    "        fdiry  = os.path.join(FD_INP, sample)\n",
    "        fname  = \"chr17.bed.gz\"\n",
    "        fpath  = os.path.join(fdiry, fname)\n",
    "\n",
    "        with gzip.open(fpath, \"rb\") as file:\n",
    "\n",
    "            ### remove file header\n",
    "            header = file.readline()\n",
    "\n",
    "            ### set lines\n",
    "            lines = file\n",
    "            lines = it.islice(lines, n_lines)\n",
    "            fun   = prep_line\n",
    "            lines = map(fun, lines)\n",
    "            \n",
    "            ### set chunks\n",
    "            chunks  = get_chunks(lines, rows=n_chunksize)\n",
    "\n",
    "            ### insert chunk by chunk\n",
    "            for chunk in chunks:\n",
    "                cursor.execute('BEGIN TRANSACTION')\n",
    "                for line in chunk:\n",
    "                    cursor.execute(query, line)\n",
    "                cursor.execute('COMMIT')"
   ]
  },
  {
   "cell_type": "code",
   "execution_count": 15,
   "id": "6f29f09d",
   "metadata": {},
   "outputs": [],
   "source": [
    "def insert_whole(n_lines = 10):\n",
    "    ### init table\n",
    "    refresh()\n",
    "    query = query_insert\n",
    "\n",
    "    with sqlite3.connect(FP_DTB) as conn:\n",
    "        ### init: set cursor\n",
    "        cursor = conn.cursor()\n",
    "\n",
    "        #for sample in samples:\n",
    "        sample = \"Input1_20x\"\n",
    "        fdiry  = os.path.join(FD_INP, sample)\n",
    "        fname  = \"chr17.bed.gz\"\n",
    "        fpath  = os.path.join(fdiry, fname)\n",
    "\n",
    "        with gzip.open(fpath, \"rb\") as file:\n",
    "\n",
    "            ### remove file header\n",
    "            header = file.readline()\n",
    "\n",
    "            ### set lines\n",
    "            lines = file\n",
    "            lines = it.islice(lines, n_lines)\n",
    "            fun   = prep_line\n",
    "            lines = map(fun, lines)\n",
    "            \n",
    "            ### insert all\n",
    "            cursor.executemany(query, lines)"
   ]
  },
  {
   "cell_type": "markdown",
   "id": "c40b46ad",
   "metadata": {},
   "source": [
    "**Test**"
   ]
  },
  {
   "cell_type": "code",
   "execution_count": 123,
   "id": "8c908a0e",
   "metadata": {},
   "outputs": [],
   "source": [
    "insert_line_by_line(n_lines = 10)\n",
    "counts, lines = check_results()\n",
    "results = lines"
   ]
  },
  {
   "cell_type": "code",
   "execution_count": 124,
   "id": "d6514940",
   "metadata": {},
   "outputs": [
    {
     "name": "stdout",
     "output_type": "stream",
     "text": [
      "Quick Test: Passed\n",
      "Quick Test: Passed\n",
      "Quick Test: Passed\n"
     ]
    }
   ],
   "source": [
    "for n_lines in (10, 20, 30):\n",
    "    insert_line_by_line(n_lines = n_lines)\n",
    "    count, lines = check_results()\n",
    "    \n",
    "    if (np.all(np.array(results) == np.array(lines)) and (count == n_lines)):\n",
    "        print(\"Quick Test: Passed\")\n",
    "    else:\n",
    "        print(\"Quick Test: Failed\")\n",
    "        print(results)\n",
    "        print(lines)"
   ]
  },
  {
   "cell_type": "code",
   "execution_count": 125,
   "id": "7e133d7c",
   "metadata": {},
   "outputs": [
    {
     "name": "stdout",
     "output_type": "stream",
     "text": [
      "Quick Test: Passed\n",
      "Quick Test: Passed\n",
      "Quick Test: Passed\n"
     ]
    }
   ],
   "source": [
    "for n_lines in (10, 20, 30):\n",
    "    insert_batch_v1(3, n_lines = n_lines)\n",
    "    count, lines = check_results()\n",
    "    \n",
    "    if (np.all(np.array(results) == np.array(lines)) and (count == n_lines)):\n",
    "        print(\"Quick Test: Passed\")\n",
    "    else:\n",
    "        print(\"Quick Test: Failed\")"
   ]
  },
  {
   "cell_type": "code",
   "execution_count": 49,
   "id": "aa50f07b",
   "metadata": {},
   "outputs": [
    {
     "name": "stdout",
     "output_type": "stream",
     "text": [
      "Quick Test: Passed\n",
      "Quick Test: Passed\n",
      "Quick Test: Passed\n"
     ]
    }
   ],
   "source": [
    "for n_lines in (10, 20, 30):\n",
    "    insert_batch_v2(3, n_lines = n_lines)\n",
    "    count, lines = check_results()\n",
    "    \n",
    "    if (np.all(np.array(results) == np.array(lines)) and (count == n_lines)):\n",
    "        print(\"Quick Test: Passed\")\n",
    "    else:\n",
    "        print(\"Quick Test: Failed\")"
   ]
  },
  {
   "cell_type": "code",
   "execution_count": 47,
   "id": "46d7e7a4",
   "metadata": {},
   "outputs": [
    {
     "name": "stdout",
     "output_type": "stream",
     "text": [
      "Quick Test: Passed\n",
      "Quick Test: Passed\n",
      "Quick Test: Passed\n"
     ]
    }
   ],
   "source": [
    "for n_lines in (10, 20, 30):\n",
    "    insert_batch_v3(3, n_lines = n_lines)\n",
    "    count, lines = check_results()\n",
    "    \n",
    "    if (np.all(np.array(results) == np.array(lines)) and (count == n_lines)):\n",
    "        print(\"Quick Test: Passed\")\n",
    "    else:\n",
    "        print(\"Quick Test: Failed\")"
   ]
  },
  {
   "cell_type": "code",
   "execution_count": 48,
   "id": "854f5314",
   "metadata": {},
   "outputs": [
    {
     "name": "stdout",
     "output_type": "stream",
     "text": [
      "Quick Test: Passed\n",
      "Quick Test: Passed\n",
      "Quick Test: Passed\n"
     ]
    }
   ],
   "source": [
    "for n_lines in (10, 20, 30):\n",
    "    insert_whole(n_lines = n_lines)\n",
    "    count, lines = check_results()\n",
    "    \n",
    "    if (np.all(np.array(results) == np.array(lines)) and (count == n_lines)):\n",
    "        print(\"Quick Test: Passed\")\n",
    "    else:\n",
    "        print(\"Quick Test: Failed\")"
   ]
  },
  {
   "cell_type": "markdown",
   "id": "937abde3",
   "metadata": {},
   "source": [
    "## Measure performance\n",
    "\n",
    "https://erickmccollum.com/2021/10/31/three-ways-to-measure-python-performance.html\n",
    "\n",
    "https://www.machinelearningplus.com/python/cprofile-how-to-profile-your-python-code/\n",
    "\n",
    "https://docs.python.org/3/library/timeit.html"
   ]
  },
  {
   "cell_type": "code",
   "execution_count": 126,
   "id": "6fbaff65",
   "metadata": {},
   "outputs": [
    {
     "name": "stdout",
     "output_type": "stream",
     "text": [
      "CPU times: user 1.63 ms, sys: 88 µs, total: 1.72 ms\n",
      "Wall time: 2 s\n"
     ]
    }
   ],
   "source": [
    "%%time\n",
    "time.sleep(2)"
   ]
  },
  {
   "cell_type": "code",
   "execution_count": 127,
   "id": "af9679e8",
   "metadata": {},
   "outputs": [],
   "source": [
    "N = 10\n",
    "R = 2\n",
    "n_lines = [10, 100, 1000, 2000, 5000, 10000, 50000, 100000]"
   ]
  },
  {
   "cell_type": "code",
   "execution_count": 128,
   "id": "be03a275",
   "metadata": {},
   "outputs": [
    {
     "name": "stdout",
     "output_type": "stream",
     "text": [
      "CPU times: user 2.87 s, sys: 260 ms, total: 3.13 s\n",
      "Wall time: 7.2 s\n"
     ]
    }
   ],
   "source": [
    "%%time\n",
    "res = list()\n",
    "\n",
    "for n in n_lines:\n",
    "    fun = lambda: insert_line_by_line(n_lines=n)\n",
    "    lst = timeit.repeat(fun, number=1, repeat=R)\n",
    "    res.append(np.min(lst))   \n",
    "    \n",
    "res_line = res"
   ]
  },
  {
   "cell_type": "code",
   "execution_count": 129,
   "id": "358dec60",
   "metadata": {},
   "outputs": [
    {
     "name": "stdout",
     "output_type": "stream",
     "text": [
      "CPU times: user 2.57 s, sys: 321 ms, total: 2.89 s\n",
      "Wall time: 7.55 s\n"
     ]
    }
   ],
   "source": [
    "%%time\n",
    "res = list()\n",
    "\n",
    "for n in n_lines:\n",
    "    fun = lambda: insert_whole(n_lines=n)\n",
    "    lst = timeit.repeat(fun, number=1, repeat=R)\n",
    "    res.append(np.min(lst))   \n",
    "    \n",
    "res_whole = res"
   ]
  },
  {
   "cell_type": "code",
   "execution_count": 130,
   "id": "c960d684",
   "metadata": {},
   "outputs": [
    {
     "name": "stdout",
     "output_type": "stream",
     "text": [
      "CPU times: user 3.32 s, sys: 328 ms, total: 3.65 s\n",
      "Wall time: 8.14 s\n"
     ]
    }
   ],
   "source": [
    "%%time\n",
    "res = list()\n",
    "n_chunksize = 1\n",
    "\n",
    "for n in n_lines:\n",
    "    fun = lambda: insert_batch_v1(n_chunksize, n_lines=n)\n",
    "    lst = timeit.repeat(fun, number=1, repeat=R)\n",
    "    res.append(np.min(lst))   \n",
    "\n",
    "res_batch1_chunk1 = res"
   ]
  },
  {
   "cell_type": "code",
   "execution_count": 131,
   "id": "b9d7e5b8",
   "metadata": {},
   "outputs": [
    {
     "name": "stdout",
     "output_type": "stream",
     "text": [
      "CPU times: user 2.49 s, sys: 329 ms, total: 2.82 s\n",
      "Wall time: 7.16 s\n"
     ]
    }
   ],
   "source": [
    "%%time\n",
    "res = list()\n",
    "n_chunksize = 10\n",
    "\n",
    "for n in n_lines:\n",
    "    fun = lambda: insert_batch_v1(n_chunksize, n_lines=n)\n",
    "    lst = timeit.repeat(fun, number=1, repeat=R)\n",
    "    res.append(np.min(lst))   \n",
    "\n",
    "res_batch1_chunk10 = res"
   ]
  },
  {
   "cell_type": "code",
   "execution_count": 132,
   "id": "c0da1e65",
   "metadata": {},
   "outputs": [
    {
     "name": "stdout",
     "output_type": "stream",
     "text": [
      "CPU times: user 2.34 s, sys: 339 ms, total: 2.68 s\n",
      "Wall time: 7.26 s\n"
     ]
    }
   ],
   "source": [
    "%%time\n",
    "res = list()\n",
    "n_chunksize = 100\n",
    "\n",
    "for n in n_lines:\n",
    "    fun = lambda: insert_batch_v1(n_chunksize, n_lines=n)\n",
    "    lst = timeit.repeat(fun, number=1, repeat=R)\n",
    "    res.append(np.min(lst))    \n",
    "    \n",
    "res_batch1_chunk100 = res"
   ]
  },
  {
   "cell_type": "code",
   "execution_count": 133,
   "id": "3387ea94",
   "metadata": {},
   "outputs": [
    {
     "name": "stdout",
     "output_type": "stream",
     "text": [
      "CPU times: user 2.28 s, sys: 300 ms, total: 2.58 s\n",
      "Wall time: 6.72 s\n"
     ]
    }
   ],
   "source": [
    "%%time\n",
    "res = list()\n",
    "n_chunksize = 1000\n",
    "\n",
    "for n in n_lines:\n",
    "    fun = lambda: insert_batch_v1(n_chunksize, n_lines=n)\n",
    "    lst = timeit.repeat(fun, number=1, repeat=R)\n",
    "    res.append(np.min(lst))    \n",
    "    \n",
    "res_batch1_chunk1000 = res"
   ]
  },
  {
   "cell_type": "code",
   "execution_count": 134,
   "id": "39d89504",
   "metadata": {},
   "outputs": [
    {
     "name": "stdout",
     "output_type": "stream",
     "text": [
      "CPU times: user 2.37 s, sys: 408 ms, total: 2.78 s\n",
      "Wall time: 6.95 s\n"
     ]
    }
   ],
   "source": [
    "%%time\n",
    "res = list()\n",
    "n_chunksize = 10000\n",
    "\n",
    "for n in n_lines:\n",
    "    fun = lambda: insert_batch_v1(n_chunksize, n_lines=n)\n",
    "    lst = timeit.repeat(fun, number=1, repeat=R)\n",
    "    res.append(np.min(lst))    \n",
    "    \n",
    "res_batch1_chunk10000 = res"
   ]
  },
  {
   "cell_type": "code",
   "execution_count": 135,
   "id": "2216cfdb",
   "metadata": {},
   "outputs": [
    {
     "data": {
      "image/png": "[encoded data removed]",
      "text/plain": [
       "<Figure size 432x288 with 1 Axes>"
      ]
     },
     "metadata": {
      "needs_background": "light"
     },
     "output_type": "display_data"
    }
   ],
   "source": [
    "results = (res_line, \n",
    "           res_batch1_chunk1,\n",
    "           res_batch1_chunk10,\n",
    "           res_batch1_chunk100,\n",
    "           res_batch1_chunk1000,\n",
    "           res_batch1_chunk10000,\n",
    "           res_whole)\n",
    "labels  = (\"Line_by_Line\", \n",
    "           \"Batch1 (Chunk size = 1)\", \n",
    "           \"Batch1 (Chunk size = 10)\", \n",
    "           \"Batch1 (Chunk size = 100)\",\n",
    "           \"Batch1 (Chunk size = 1000)\", \n",
    "           \"Batch1 (Chunk size = 10000)\", \n",
    "           \"Whole\")\n",
    "\n",
    "for res, lab in zip(results, labels):\n",
    "    plt.plot(np.log10(n_lines), np.log10(res), \"-o\", label=lab)\n",
    "plt.legend()\n",
    "plt.xlabel(\"log10 (#Lines)\")\n",
    "plt.ylabel(\"log10 Time (sec)\")\n",
    "plt.show()"
   ]
  },
  {
   "cell_type": "code",
   "execution_count": null,
   "id": "5ea2407f",
   "metadata": {},
   "outputs": [],
   "source": []
  },
  {
   "cell_type": "code",
   "execution_count": 72,
   "id": "3f82c102",
   "metadata": {},
   "outputs": [
    {
     "name": "stdout",
     "output_type": "stream",
     "text": [
      "CPU times: user 246 ms, sys: 462 ms, total: 707 ms\n",
      "Wall time: 10.3 s\n"
     ]
    }
   ],
   "source": [
    "%%time\n",
    "res = list()\n",
    "n_chunksize = 10\n",
    "\n",
    "for i in range(1,N):\n",
    "    n_lines = 10**i\n",
    "    fun = lambda: insert_batch_v2(n_chunksize, n_lines=n_lines)\n",
    "    lst = timeit.repeat(fun, number=1, repeat=R)\n",
    "    res.append(np.min(lst))   \n",
    "\n",
    "res_batch2_chunk10 = res"
   ]
  },
  {
   "cell_type": "code",
   "execution_count": 73,
   "id": "9e358221",
   "metadata": {},
   "outputs": [
    {
     "name": "stdout",
     "output_type": "stream",
     "text": [
      "CPU times: user 499 ms, sys: 368 ms, total: 867 ms\n",
      "Wall time: 6.75 s\n"
     ]
    }
   ],
   "source": [
    "%%time\n",
    "res = list()\n",
    "n_chunksize = 100\n",
    "\n",
    "for i in range(1,N):\n",
    "    n_lines = 10**i\n",
    "    fun = lambda: insert_batch_v2(n_chunksize, n_lines=n_lines)\n",
    "    lst = timeit.repeat(fun, number=1, repeat=5)\n",
    "    res.append(np.min(lst))    \n",
    "    \n",
    "res_batch2_chunk100 = res"
   ]
  },
  {
   "cell_type": "code",
   "execution_count": 74,
   "id": "29b79d77",
   "metadata": {},
   "outputs": [
    {
     "name": "stdout",
     "output_type": "stream",
     "text": [
      "CPU times: user 243 ms, sys: 467 ms, total: 710 ms\n",
      "Wall time: 10.3 s\n"
     ]
    }
   ],
   "source": [
    "%%time\n",
    "res = list()\n",
    "n_chunksize = 10\n",
    "\n",
    "for i in range(1,N):\n",
    "    n_lines = 10**i\n",
    "    fun = lambda: insert_batch_v3(n_chunksize, n_lines=n_lines)\n",
    "    lst = timeit.repeat(fun, number=1, repeat=R)\n",
    "    res.append(np.min(lst))   \n",
    "\n",
    "res_batch3_chunk10 = res"
   ]
  },
  {
   "cell_type": "code",
   "execution_count": 75,
   "id": "71981633",
   "metadata": {},
   "outputs": [
    {
     "name": "stdout",
     "output_type": "stream",
     "text": [
      "CPU times: user 581 ms, sys: 317 ms, total: 899 ms\n",
      "Wall time: 6.75 s\n"
     ]
    }
   ],
   "source": [
    "%%time\n",
    "res = list()\n",
    "n_chunksize = 100\n",
    "\n",
    "for i in range(1,N):\n",
    "    n_lines = 10**i\n",
    "    fun = lambda: insert_batch_v3(n_chunksize, n_lines=n_lines)\n",
    "    lst = timeit.repeat(fun, number=1, repeat=5)\n",
    "    res.append(np.min(lst))    \n",
    "    \n",
    "res_batch3_chunk100 = res"
   ]
  },
  {
   "cell_type": "code",
   "execution_count": 77,
   "id": "7f0d404a",
   "metadata": {},
   "outputs": [
    {
     "data": {
      "image/png": "[encoded data removed]",
      "text/plain": [
       "<Figure size 432x288 with 1 Axes>"
      ]
     },
     "metadata": {
      "needs_background": "light"
     },
     "output_type": "display_data"
    }
   ],
   "source": [
    "results = (res_line, \n",
    "           res_batch1_chunk1,\n",
    "           res_batch1_chunk10,\n",
    "           res_batch1_chunk100,\n",
    "           res_batch2_chunk10,\n",
    "           res_batch2_chunk100,\n",
    "           res_batch3_chunk10,\n",
    "           res_batch3_chunk100,\n",
    "           res_whole)\n",
    "labels  = (\"Line_by_Line\", \n",
    "           \"Batch1 (Chunk size = 1)\", \n",
    "           \"Batch1 (Chunk size = 10)\", \n",
    "           \"Batch1 (Chunk size = 100)\", \n",
    "           \"Batch2 (Chunk size = 10)\", \n",
    "           \"Batch2 (Chunk size = 100)\", \n",
    "           \"Batch3 (Chunk size = 10)\", \n",
    "           \"Batch3 (Chunk size = 100)\",\n",
    "           \"Whole\")\n",
    "\n",
    "for res, lab in zip(results, labels):\n",
    "    plt.plot(range(1,N), np.log10(res), \"-o\", label=lab)\n",
    "plt.legend()\n",
    "plt.xlabel(\"log10 (#Lines)\")\n",
    "plt.ylabel(\"log10 Time (sec)\")\n",
    "plt.show()"
   ]
  },
  {
   "cell_type": "code",
   "execution_count": null,
   "id": "6ca0902b",
   "metadata": {},
   "outputs": [],
   "source": []
  },
  {
   "cell_type": "code",
   "execution_count": 105,
   "id": "cf4973fe",
   "metadata": {},
   "outputs": [
    {
     "data": {
      "image/png": "[encoded data removed]",
      "text/plain": [
       "<Figure size 432x288 with 1 Axes>"
      ]
     },
     "metadata": {
      "needs_background": "light"
     },
     "output_type": "display_data"
    }
   ],
   "source": [
    "results = (res_line, \n",
    "           res_batch1_chunk1,\n",
    "           res_batch1_chunk10,\n",
    "           res_batch1_chunk100,\n",
    "           res_batch1_chunk1000,\n",
    "           res_batch1_chunk10000,\n",
    "           res_whole)\n",
    "labels  = (\"Line_by_Line\", \n",
    "           \"Batch1 (Chunk size = 1)\", \n",
    "           \"Batch1 (Chunk size = 10)\", \n",
    "           \"Batch1 (Chunk size = 100)\",\n",
    "           \"Batch1 (Chunk size = 1000)\", \n",
    "           \"Batch1 (Chunk size = 10000)\", \n",
    "           \"Whole\")\n",
    "\n",
    "for res, lab in zip(results, labels):\n",
    "    plt.plot(np.log10(n_lines), np.log10(res), \"-o\", label=lab)\n",
    "plt.legend()\n",
    "plt.xlabel(\"log10 (#Lines)\")\n",
    "plt.ylabel(\"log10 Time (sec)\")\n",
    "plt.show()"
   ]
  },
  {
   "cell_type": "code",
   "execution_count": null,
   "id": "316350ed",
   "metadata": {},
   "outputs": [],
   "source": []
  },
  {
   "cell_type": "code",
   "execution_count": null,
   "id": "39dc9877",
   "metadata": {},
   "outputs": [],
   "source": []
  },
  {
   "cell_type": "code",
   "execution_count": 59,
   "id": "0d8889c8",
   "metadata": {},
   "outputs": [
    {
     "data": {
      "image/png": "[encoded data removed]",
      "text/plain": [
       "<Figure size 432x288 with 1 Axes>"
      ]
     },
     "metadata": {
      "needs_background": "light"
     },
     "output_type": "display_data"
    }
   ],
   "source": [
    "results = (res_line, \n",
    "           res_batch1_chunk10,\n",
    "           res_batch1_chunk100)\n",
    "           #res_batch2_chunk10,\n",
    "           #res_batch2_chunk100,\n",
    "           #res_batch3_chunk10,\n",
    "           #res_batch3_chunk100,\n",
    "           #res_whole)\n",
    "labels  = (\"Line_by_Line\", \n",
    "           \"Batch1 (Chunk size = 10)\", \n",
    "           \"Batch1 (Chunk size = 100)\") \n",
    "           #\"Batch2 (Chunk size = 10)\", \n",
    "           #\"Batch2 (Chunk size = 100)\", \n",
    "           #\"Batch3 (Chunk size = 10)\", \n",
    "           #\"Batch3 (Chunk size = 100)\",\n",
    "           #\"Whole\")\n",
    "\n",
    "for res, lab in zip(results, labels):\n",
    "    plt.plot(range(N), np.log10(res), \"-o\", label=lab)\n",
    "plt.legend()\n",
    "plt.xlabel(\"log10 (#Lines)\")\n",
    "plt.ylabel(\"log10 Time (sec)\")\n",
    "plt.show()"
   ]
  },
  {
   "cell_type": "code",
   "execution_count": 24,
   "id": "8a9b20db",
   "metadata": {},
   "outputs": [
    {
     "data": {
      "image/png": "[encoded data removed]",
      "text/plain": [
       "<Figure size 432x288 with 1 Axes>"
      ]
     },
     "metadata": {
      "needs_background": "light"
     },
     "output_type": "display_data"
    }
   ],
   "source": [
    "results = (res_line, res_chunk10, res_chunk100, res_whole)\n",
    "labels  = (\"Line_by_Line\", \"Chunk size = 10\", \"Chunk size = 100\", \"Whole\")\n",
    "for res, lab in zip(results, labels):\n",
    "    plt.plot(range(N), res, \"-o\", label=lab)\n",
    "plt.legend()\n",
    "plt.xlabel(\"log10 (#Lines)\")\n",
    "plt.ylabel(\"Time (sec)\")\n",
    "plt.show()"
   ]
  },
  {
   "cell_type": "code",
   "execution_count": 58,
   "id": "1bd9fcb5",
   "metadata": {},
   "outputs": [
    {
     "name": "stdout",
     "output_type": "stream",
     "text": [
      "33.3 ms ± 1.57 ms per loop (mean ± std. dev. of 7 runs, 10 loops each)\n"
     ]
    }
   ],
   "source": [
    "a%%timeit\n"
   ]
  },
  {
   "cell_type": "code",
   "execution_count": 59,
   "id": "7e584611",
   "metadata": {},
   "outputs": [
    {
     "name": "stdout",
     "output_type": "stream",
     "text": [
      "34 ms ± 1.22 ms per loop (mean ± std. dev. of 7 runs, 10 loops each)\n"
     ]
    }
   ],
   "source": [
    "%%timeit\n",
    "insert_batch_v1(1, n_lines = 100)"
   ]
  },
  {
   "cell_type": "code",
   "execution_count": 60,
   "id": "f484de62",
   "metadata": {},
   "outputs": [
    {
     "name": "stdout",
     "output_type": "stream",
     "text": [
      "35.6 ms ± 1.22 ms per loop (mean ± std. dev. of 7 runs, 10 loops each)\n"
     ]
    }
   ],
   "source": [
    "%%timeit\n",
    "insert_batch_v2(10, n_lines = 100)"
   ]
  },
  {
   "cell_type": "code",
   "execution_count": null,
   "id": "c8ee3db1",
   "metadata": {},
   "outputs": [],
   "source": []
  },
  {
   "cell_type": "code",
   "execution_count": null,
   "id": "283f17ed",
   "metadata": {},
   "outputs": [],
   "source": []
  },
  {
   "cell_type": "code",
   "execution_count": 21,
   "id": "b44c386a",
   "metadata": {},
   "outputs": [
    {
     "name": "stdout",
     "output_type": "stream",
     "text": [
      "The execution time is: 0.038371577858924866\n"
     ]
    }
   ],
   "source": [
    "timer_start = time.perf_counter()\n",
    "    \n",
    "insert_line_by_line()\n",
    "\n",
    "timer_stop = time.perf_counter()\n",
    "    \n",
    "execution_time = timer_stop - timer_start\n",
    "print(f\"The execution time is: {execution_time}\")"
   ]
  },
  {
   "cell_type": "code",
   "execution_count": 32,
   "id": "14dc3311",
   "metadata": {},
   "outputs": [
    {
     "data": {
      "text/plain": [
       "[0.0412672758102417,\n",
       " 0.03143090009689331,\n",
       " 0.04026203602552414,\n",
       " 0.029946409165859222,\n",
       " 0.03648265451192856]"
      ]
     },
     "execution_count": 32,
     "metadata": {},
     "output_type": "execute_result"
    }
   ],
   "source": [
    "timeit.repeat(lambda: insert_line_by_line(), number=1, repeat=5)"
   ]
  },
  {
   "cell_type": "code",
   "execution_count": 24,
   "id": "e26ef4c3",
   "metadata": {},
   "outputs": [
    {
     "name": "stdout",
     "output_type": "stream",
     "text": [
      "31.7 ms ± 1.16 ms per loop (mean ± std. dev. of 7 runs, 10 loops each)\n"
     ]
    }
   ],
   "source": [
    "%%timeit\n",
    "insert_line_by_line()"
   ]
  },
  {
   "cell_type": "code",
   "execution_count": 36,
   "id": "c2bb86a0",
   "metadata": {},
   "outputs": [
    {
     "name": "stdout",
     "output_type": "stream",
     "text": [
      "('chr17_107410_108464', 'chr17', 107410, 108464, 0.512334, 0.487666, 342, 243, 271, 198, 0, 0)\n",
      "('chr17_159026_160040', 'chr17', 159026, 160040, 0.506903, 0.493097, 286, 259, 241, 228, 0, 0)\n",
      "('chr17_159426_160303', 'chr17', 159426, 160303, 0.491448, 0.508552, 224, 247, 199, 207, 0, 0)\n",
      "('chr17_159510_160362', 'chr17', 159510, 160362, 0.497653, 0.502347, 222, 231, 197, 202, 0, 0)\n",
      "('chr17_159977_160849', 'chr17', 159977, 160849, 0.458716, 0.541284, 198, 229, 243, 202, 0, 0)\n",
      "('chr17_174938_176057', 'chr17', 174938, 176057, 0.468275, 0.531725, 294, 300, 295, 230, 0, 0)\n",
      "('chr17_175103_176248', 'chr17', 175103, 176248, 0.468122, 0.531878, 282, 308, 301, 254, 0, 0)\n",
      "('chr17_177613_178563', 'chr17', 177613, 178563, 0.454737, 0.545263, 221, 256, 262, 211, 0, 0)\n",
      "('chr17_180289_181411', 'chr17', 180289, 181411, 0.223708, 0.776292, 139, 381, 490, 112, 0, 0)\n",
      "('chr17_197552_198593', 'chr17', 197552, 198593, 0.430355, 0.569645, 248, 323, 270, 200, 0, 0)\n"
     ]
    }
   ],
   "source": []
  },
  {
   "cell_type": "code",
   "execution_count": 40,
   "id": "6c85a16b",
   "metadata": {},
   "outputs": [
    {
     "name": "stdout",
     "output_type": "stream",
     "text": [
      "b'chr17\\t107410\\t108464\\t1\\t0.512334\\t0.487666\\t342\\t243\\t271\\t198\\t0\\t0\\t1054\\n'\n",
      "b'chr17\\t159026\\t160040\\t1\\t0.506903\\t0.493097\\t286\\t259\\t241\\t228\\t0\\t0\\t1014\\n'\n",
      "b'chr17\\t159426\\t160303\\t1\\t0.491448\\t0.508552\\t224\\t247\\t199\\t207\\t0\\t0\\t877\\n'\n",
      "b'chr17\\t159510\\t160362\\t1\\t0.497653\\t0.502347\\t222\\t231\\t197\\t202\\t0\\t0\\t852\\n'\n",
      "b'chr17\\t159977\\t160849\\t1\\t0.458716\\t0.541284\\t198\\t229\\t243\\t202\\t0\\t0\\t872\\n'\n",
      "\n",
      "b'chr17\\t174938\\t176057\\t1\\t0.468275\\t0.531725\\t294\\t300\\t295\\t230\\t0\\t0\\t1119\\n'\n",
      "b'chr17\\t175103\\t176248\\t1\\t0.468122\\t0.531878\\t282\\t308\\t301\\t254\\t0\\t0\\t1145\\n'\n",
      "b'chr17\\t177613\\t178563\\t1\\t0.454737\\t0.545263\\t221\\t256\\t262\\t211\\t0\\t0\\t950\\n'\n",
      "b'chr17\\t180289\\t181411\\t1\\t0.223708\\t0.776292\\t139\\t381\\t490\\t112\\t0\\t0\\t1122\\n'\n",
      "b'chr17\\t197552\\t198593\\t1\\t0.430355\\t0.569645\\t248\\t323\\t270\\t200\\t0\\t0\\t1041\\n'\n",
      "\n"
     ]
    }
   ],
   "source": [
    "### init table\n",
    "refresh()\n",
    "query = query_insert\n",
    "n_lines = 10\n",
    "n_chunksize = 5\n",
    "\n",
    "with sqlite3.connect(FP_DTB) as conn:\n",
    "    ### init: set cursor\n",
    "    cursor = conn.cursor()\n",
    "\n",
    "    #for sample in samples:\n",
    "    sample = \"Input1_20x\"\n",
    "    fdiry  = os.path.join(FD_INP, sample)\n",
    "    fname  = \"chr17.bed.gz\"\n",
    "    fpath  = os.path.join(fdiry, fname)\n",
    "\n",
    "    with gzip.open(fpath, \"rb\") as file:\n",
    "\n",
    "        ### remove file header\n",
    "        header = file.readline()\n",
    "\n",
    "        ### set lines\n",
    "        lines = file\n",
    "        lines = it.islice(lines, n_lines)\n",
    "\n",
    "        ### set chunks\n",
    "        chunks  = get_chunks(lines, rows=n_chunksize)\n",
    "\n",
    "        ### insert chunk by chunk\n",
    "        for chunk in chunks:\n",
    "            for line in chunk:\n",
    "                print(line)\n",
    "            print()"
   ]
  },
  {
   "cell_type": "code",
   "execution_count": 19,
   "id": "a870ddd0",
   "metadata": {},
   "outputs": [
    {
     "ename": "AttributeError",
     "evalue": "__enter__",
     "output_type": "error",
     "traceback": [
      "\u001b[0;31m---------------------------------------------------------------------------\u001b[0m",
      "\u001b[0;31mAttributeError\u001b[0m                            Traceback (most recent call last)",
      "\u001b[0;32m<ipython-input-19-9cbdb589a7ba>\u001b[0m in \u001b[0;36m<module>\u001b[0;34m\u001b[0m\n\u001b[0;32m----> 1\u001b[0;31m \u001b[0;32mwith\u001b[0m \u001b[0mcProfile\u001b[0m\u001b[0;34m.\u001b[0m\u001b[0mProfile\u001b[0m\u001b[0;34m(\u001b[0m\u001b[0;34m)\u001b[0m \u001b[0;32mas\u001b[0m \u001b[0mpr\u001b[0m\u001b[0;34m:\u001b[0m\u001b[0;34m\u001b[0m\u001b[0;34m\u001b[0m\u001b[0m\n\u001b[0m\u001b[1;32m      2\u001b[0m     \u001b[0mrefresh\u001b[0m\u001b[0;34m(\u001b[0m\u001b[0;34m)\u001b[0m\u001b[0;34m\u001b[0m\u001b[0;34m\u001b[0m\u001b[0m\n\u001b[1;32m      3\u001b[0m     \u001b[0mquery\u001b[0m \u001b[0;34m=\u001b[0m \u001b[0mquery_insert\u001b[0m\u001b[0;34m\u001b[0m\u001b[0;34m\u001b[0m\u001b[0m\n\u001b[1;32m      4\u001b[0m \u001b[0;34m\u001b[0m\u001b[0m\n\u001b[1;32m      5\u001b[0m     \u001b[0;32mwith\u001b[0m \u001b[0msqlite3\u001b[0m\u001b[0;34m.\u001b[0m\u001b[0mconnect\u001b[0m\u001b[0;34m(\u001b[0m\u001b[0mFP_DTB\u001b[0m\u001b[0;34m)\u001b[0m \u001b[0;32mas\u001b[0m \u001b[0mconn\u001b[0m\u001b[0;34m:\u001b[0m\u001b[0;34m\u001b[0m\u001b[0;34m\u001b[0m\u001b[0m\n",
      "\u001b[0;31mAttributeError\u001b[0m: __enter__"
     ]
    }
   ],
   "source": [
    "with cProfile.Profile() as pr:\n",
    "    refresh()\n",
    "    query = query_insert\n",
    "\n",
    "    with sqlite3.connect(FP_DTB) as conn:\n",
    "        #for sample in samples:\n",
    "        sample = \"Input1_20x\"\n",
    "        fdiry  = os.path.join(FD_INP, sample)\n",
    "        fname  = \"chr17.bed.gz\"\n",
    "        fpath  = os.path.join(fdiry, fname)\n",
    "\n",
    "        with gzip.open(fpath, \"rb\") as file:\n",
    "\n",
    "            ### remove file header\n",
    "            header = file.readline()\n",
    "\n",
    "            ### set lines\n",
    "            lines = file\n",
    "            lines = it.islice(lines, 10)\n",
    "            lines = map(prep_line, lines)\n",
    "            ### insert line by line\n",
    "            for line in lines:\n",
    "                print(line)\n",
    "                #cursor.execute(query, line)"
   ]
  },
  {
   "cell_type": "code",
   "execution_count": 7,
   "id": "d5c61902",
   "metadata": {},
   "outputs": [
    {
     "name": "stdout",
     "output_type": "stream",
     "text": [
      "['chr17_107410_108464', 'chr17', '107410', '108464', '0.512334', '0.487666', '342', '243', '271', '198', '0', '0']\n",
      "['chr17_159026_160040', 'chr17', '159026', '160040', '0.506903', '0.493097', '286', '259', '241', '228', '0', '0']\n",
      "['chr17_159426_160303', 'chr17', '159426', '160303', '0.491448', '0.508552', '224', '247', '199', '207', '0', '0']\n",
      "\n",
      "['chr17_159510_160362', 'chr17', '159510', '160362', '0.497653', '0.502347', '222', '231', '197', '202', '0', '0']\n",
      "['chr17_159977_160849', 'chr17', '159977', '160849', '0.458716', '0.541284', '198', '229', '243', '202', '0', '0']\n",
      "['chr17_174938_176057', 'chr17', '174938', '176057', '0.468275', '0.531725', '294', '300', '295', '230', '0', '0']\n",
      "\n",
      "['chr17_175103_176248', 'chr17', '175103', '176248', '0.468122', '0.531878', '282', '308', '301', '254', '0', '0']\n",
      "['chr17_177613_178563', 'chr17', '177613', '178563', '0.454737', '0.545263', '221', '256', '262', '211', '0', '0']\n",
      "['chr17_180289_181411', 'chr17', '180289', '181411', '0.223708', '0.776292', '139', '381', '490', '112', '0', '0']\n",
      "\n",
      "['chr17_197552_198593', 'chr17', '197552', '198593', '0.430355', '0.569645', '248', '323', '270', '200', '0', '0']\n",
      "\n"
     ]
    }
   ],
   "source": [
    "\n",
    "        \n",
    "        \n",
    "        \n",
    "        \n",
    "        chunks = get_chunks(lines, rows=3)\n",
    "\n",
    "        ###\n",
    "        for chunk in chunks:\n",
    "            fun = prep_line\n",
    "            gen = map(fun, chunk)\n",
    "\n",
    "            for line in gen:\n",
    "                print(line)\n",
    "            print()"
   ]
  },
  {
   "cell_type": "code",
   "execution_count": 6,
   "id": "797f77f9",
   "metadata": {},
   "outputs": [
    {
     "name": "stdout",
     "output_type": "stream",
     "text": [
      "['chr17_8148003_8148983', 'chr17', '8148003', '8148983', '0.411224', '0.588776', '213', '288', '289', '190', '0', '0']\n",
      "['chr17_8148004_8148925', 'chr17', '8148004', '8148925', '0.412595', '0.587405', '200', '272', '269', '180', '0', '0']\n",
      "['chr17_8148004_8148962', 'chr17', '8148004', '8148962', '0.412317', '0.587683', '208', '283', '280', '187', '0', '0']\n",
      "['chr17_8148004_8148963', 'chr17', '8148004', '8148963', '0.411887', '0.588113', '208', '284', '280', '187', '0', '0']\n",
      "['chr17_8148005_8149014', 'chr17', '8148005', '8149014', '0.412289', '0.587711', '222', '297', '296', '194', '0', '0']\n",
      "\n",
      "['chr17_8148005_8149015', 'chr17', '8148005', '8149015', '0.411881', '0.588119', '222', '298', '296', '194', '0', '0']\n",
      "['chr17_8148007_8149010', 'chr17', '8148007', '8149010', '0.411765', '0.588235', '219', '296', '294', '194', '0', '0']\n",
      "['chr17_8148014_8149071', 'chr17', '8148014', '8149071', '0.417219', '0.582781', '234', '309', '307', '207', '0', '0']\n",
      "['chr17_8148016_8148955', 'chr17', '8148016', '8148955', '0.413206', '0.586794', '203', '279', '272', '185', '0', '0']\n",
      "['chr17_8148017_8148955', 'chr17', '8148017', '8148955', '0.412580', '0.587420', '202', '279', '272', '185', '0', '0']\n",
      "\n",
      "['chr17_8148018_8148882', 'chr17', '8148018', '8148882', '0.417824', '0.582176', '187', '261', '242', '174', '0', '0']\n",
      "['chr17_8148021_8149055', 'chr17', '8148021', '8149055', '0.416828', '0.583172', '229', '303', '300', '202', '0', '0']\n",
      "['chr17_8148022_8149055', 'chr17', '8148022', '8149055', '0.417231', '0.582769', '229', '303', '299', '202', '0', '0']\n",
      "['chr17_8148041_8148915', 'chr17', '8148041', '8148915', '0.414188', '0.585812', '191', '261', '251', '171', '0', '0']\n",
      "['chr17_8148042_8148916', 'chr17', '8148042', '8148916', '0.414188', '0.585812', '191', '262', '250', '171', '0', '0']\n",
      "\n"
     ]
    }
   ],
   "source": [
    "##################################################\n",
    "### \n",
    "### ++++++++++++++++++++++++++++++++++++++++++++++\n",
    "\n",
    "\n",
    "n_lines  = 5\n",
    "n_chunks = 3\n",
    "\n"
   ]
  },
  {
   "cell_type": "code",
   "execution_count": null,
   "id": "134ba2a9",
   "metadata": {},
   "outputs": [],
   "source": []
  }
 ],
 "metadata": {
  "kernelspec": {
   "display_name": "Python 3",
   "language": "python",
   "name": "python3"
  },
  "language_info": {
   "codemirror_mode": {
    "name": "ipython",
    "version": 3
   },
   "file_extension": ".py",
   "mimetype": "text/x-python",
   "name": "python",
   "nbconvert_exporter": "python",
   "pygments_lexer": "ipython3",
   "version": "3.7.6"
  }
 },
 "nbformat": 4,
 "nbformat_minor": 5
}
