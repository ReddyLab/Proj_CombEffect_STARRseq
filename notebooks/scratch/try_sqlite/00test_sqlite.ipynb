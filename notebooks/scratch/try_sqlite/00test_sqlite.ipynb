{
 "cells": [
  {
   "cell_type": "markdown",
   "id": "47631a30-6c4e-47e7-9618-919512826c0c",
   "metadata": {},
   "source": [
    "[How to improve SQLite insert performance in Python 3.6? - Ask Codes](https://askcodes.net/questions/how-to-improve-sqlite-insert-performance-in-python-3-6-)"
   ]
  },
  {
   "cell_type": "code",
   "execution_count": 1,
   "id": "4093ddca-32fe-4bdd-a229-c251b544f9db",
   "metadata": {},
   "outputs": [
    {
     "name": "stdout",
     "output_type": "stream",
     "text": [
      "CREATE TABLE tbl (col1 int, col2 int)\n",
      "BEGIN \n",
      "INSERT INTO tbl (col1, col2) VALUES (1, 2)\n",
      "INSERT INTO tbl (col1, col2) VALUES (3, 4)\n",
      "INSERT INTO tbl (col1, col2) VALUES (5, 6)\n",
      "COMMIT\n"
     ]
    }
   ],
   "source": [
    "import sqlite3\n",
    "\n",
    "conn = sqlite3.connect(':memory:')\n",
    "# Print each statement, for demonstration purposes.\n",
    "conn.set_trace_callback(print)\n",
    "\n",
    "conn.execute(\"\"\"CREATE TABLE tbl (col1 int, col2 int)\"\"\")\n",
    "\n",
    "values = [(1, 2), (3, 4), (5, 6)]\n",
    "conn.executemany(\"\"\"INSERT INTO tbl (col1, col2) VALUES (?, ?)\"\"\", values)\n",
    "conn.commit()"
   ]
  },
  {
   "cell_type": "code",
   "execution_count": 2,
   "id": "ec204123-5a33-47b0-bf46-a12f746ee8c3",
   "metadata": {},
   "outputs": [
    {
     "name": "stdout",
     "output_type": "stream",
     "text": [
      "BEGIN \n",
      "INSERT INTO tbl (col1, col2) VALUES (1, 2), (3, 4), (5, 6)\n",
      "COMMIT\n"
     ]
    }
   ],
   "source": [
    "flattened_values = [x for tpl in values for x in tpl]\n",
    "base_stmt = \"\"\"INSERT INTO tbl (col1, col2) VALUES \"\"\"\n",
    "values_clause = ', '.join(['(?, ?)' for _ in range(len(flattened_values) // 2)])\n",
    "\n",
    "stmt = base_stmt + values_clause\n",
    "conn.execute(stmt, flattened_values)\n",
    "conn.commit()"
   ]
  },
  {
   "cell_type": "code",
   "execution_count": 3,
   "id": "bad4ab42-5fe4-4fef-aa42-caafb064cf0e",
   "metadata": {},
   "outputs": [
    {
     "data": {
      "text/plain": [
       "[1, 2, 3, 4, 5, 6]"
      ]
     },
     "execution_count": 3,
     "metadata": {},
     "output_type": "execute_result"
    }
   ],
   "source": [
    "flattened_values"
   ]
  },
  {
   "cell_type": "code",
   "execution_count": 5,
   "id": "5ee4fe0a-cc76-4127-8a71-1e6dfe0b4c3e",
   "metadata": {},
   "outputs": [
    {
     "name": "stdout",
     "output_type": "stream",
     "text": [
      "CREATE TABLE tbl (col1 int, col2 int)\n",
      "BEGIN TRANSACTION\n",
      "INSERT INTO tbl (col1, col2) VALUES (1, 2)\n",
      "INSERT INTO tbl (col1, col2) VALUES (3, 4)\n",
      "INSERT INTO tbl (col1, col2) VALUES (5, 6)\n",
      "COMMIT\n"
     ]
    }
   ],
   "source": [
    "#import sqlite3\n",
    "\n",
    "conn=sqlite3.connect(':memory:')\n",
    "conn.set_trace_callback(print)\n",
    "curs=conn.cursor()\n",
    "\n",
    "#curs.execute(\"PRAGMA synchronous = OFF\")\n",
    "\n",
    "\n",
    "#Perform a series of UPDATE or INSERT operations.\n",
    "conn.execute(\"\"\"CREATE TABLE tbl (col1 int, col2 int)\"\"\")\n",
    "curs.execute(\"BEGIN TRANSACTION\")\n",
    "values = [(1, 2), (3, 4), (5, 6)]\n",
    "conn.executemany(\"\"\"INSERT INTO tbl (col1, col2) VALUES (?, ?)\"\"\", values)\n",
    "\n",
    "conn.commit()\n",
    "conn.close()"
   ]
  },
  {
   "cell_type": "markdown",
   "id": "57c56368-67b9-4626-8012-2954d1dafde3",
   "metadata": {},
   "source": [
    "**pragma**"
   ]
  },
  {
   "cell_type": "code",
   "execution_count": 14,
   "id": "daf3f717-549a-40e6-a549-bd6f69b9a05d",
   "metadata": {},
   "outputs": [
    {
     "name": "stdout",
     "output_type": "stream",
     "text": [
      "[('delete',)]\n",
      "[(2,)]\n"
     ]
    }
   ],
   "source": [
    "conn   = sqlite3.connect('./test.db')\n",
    "cursor = conn.cursor()\n",
    "\n",
    "# Journal model\n",
    "# DELETE | TRUNCATE | PERSIST | MEMORY | WAL | OFF    \n",
    "cursor = cursor.execute(\"PRAGMA journal_mode;\")\n",
    "print(cursor.fetchall())\n",
    "\n",
    "\n",
    "# synchronous\n",
    "#     0 | OFF | \n",
    "#     1 | NORMAL | \n",
    "#     2 | FULL | \n",
    "#     3 | EXTRA\n",
    "cursor = cursor.execute(\"PRAGMA synchronous;\")\n",
    "print(cursor.fetchall())\n",
    "conn.close()"
   ]
  },
  {
   "cell_type": "markdown",
   "id": "79e7fbb2-4ec8-4eba-9cf6-8b5f7c0cc2cb",
   "metadata": {},
   "source": [
    "The `DELETE journaling mode` is the normal behavior. \n",
    "In the DELETE mode, the rollback journal is deleted at the conclusion of each transaction. \n",
    "Indeed, the delete operation is the action that causes the transaction to commit. (See the document titled Atomic Commit In SQLite for additional detail.)"
   ]
  },
  {
   "cell_type": "code",
   "execution_count": 9,
   "id": "2c55306f-3b7c-49ed-b55f-114c50c5233c",
   "metadata": {},
   "outputs": [
    {
     "name": "stdout",
     "output_type": "stream",
     "text": [
      "[]\n"
     ]
    }
   ],
   "source": [
    "with sqlite3.connect(':memory:') as conn:\n",
    "    cursor = conn.cursor()\n",
    "    cursor = cursor.execute(\"PRAGMA pragma_name;\")\n",
    "    print(cursor.fetchall())"
   ]
  },
  {
   "cell_type": "markdown",
   "id": "b5687833-3b93-4c26-a84c-9cbf43fdf88b",
   "metadata": {},
   "source": [
    "https://docs.python.org/3/library/sqlite3.html\n",
    "```\n",
    "The INSERT statement implicitly opens a transaction, which needs to be committed before changes are saved in the database (see Transaction control for details). Call con.commit() on the connection object to commit the transaction:\n",
    "```"
   ]
  },
  {
   "cell_type": "code",
   "execution_count": 1,
   "id": "8fab3ef9-2be6-49ee-8450-45c252528389",
   "metadata": {},
   "outputs": [],
   "source": [
    "import sqlite3"
   ]
  },
  {
   "cell_type": "code",
   "execution_count": 2,
   "id": "3f58dbb9-4d97-4cde-9433-cab8aee89022",
   "metadata": {},
   "outputs": [
    {
     "data": {
      "text/plain": [
       "('movie',)"
      ]
     },
     "execution_count": 2,
     "metadata": {},
     "output_type": "execute_result"
    }
   ],
   "source": [
    "con = sqlite3.connect(\"tutorial.db\", isolation_level = None)\n",
    "con.execute('pragma journal_mode=wal;')\n",
    "cur = con.cursor()\n",
    "\n",
    "cur = cur.execute(\"DROP TABLE IF EXISTS Movie\")\n",
    "cur = cur.execute(\"CREATE TABLE movie(title, year, score)\")\n",
    "\n",
    "res = cur.execute(\"SELECT name FROM sqlite_master\")\n",
    "res.fetchone()"
   ]
  },
  {
   "cell_type": "code",
   "execution_count": 3,
   "id": "7e69f413-cd37-44fb-8f55-671a14d4de08",
   "metadata": {},
   "outputs": [
    {
     "data": {
      "text/plain": [
       "[]"
      ]
     },
     "execution_count": 3,
     "metadata": {},
     "output_type": "execute_result"
    }
   ],
   "source": [
    "res = cur.execute(\"SELECT * FROM movie\")\n",
    "res.fetchall()"
   ]
  },
  {
   "cell_type": "code",
   "execution_count": 4,
   "id": "da5a9bd9-9853-4b57-ab0c-53667623c929",
   "metadata": {},
   "outputs": [],
   "source": [
    "#cur = cur.execute(\"BEGIN TRANSACTION\")\n",
    "cur = cur.execute(\"\"\"\n",
    "    INSERT INTO movie VALUES\n",
    "        ('Monty Python and the Holy Grail', 1975, 8.2),\n",
    "        ('And Now for Something Completely Different', 1971, 7.5)\n",
    "\"\"\")"
   ]
  },
  {
   "cell_type": "code",
   "execution_count": 5,
   "id": "4af7ad3c-db0f-46d9-a283-8a047ef46ca5",
   "metadata": {},
   "outputs": [
    {
     "data": {
      "text/plain": [
       "[('Monty Python and the Holy Grail', 1975, 8.2),\n",
       " ('And Now for Something Completely Different', 1971, 7.5)]"
      ]
     },
     "execution_count": 5,
     "metadata": {},
     "output_type": "execute_result"
    }
   ],
   "source": [
    "res = cur.execute(\"SELECT * FROM movie\")\n",
    "res.fetchall()"
   ]
  },
  {
   "cell_type": "code",
   "execution_count": 6,
   "id": "0cb83f06-581b-4e8b-9f1b-a4d5909e8527",
   "metadata": {},
   "outputs": [],
   "source": [
    "con.close()"
   ]
  },
  {
   "cell_type": "code",
   "execution_count": null,
   "id": "c207ae69-9f45-431f-85a9-8fc808691d76",
   "metadata": {},
   "outputs": [],
   "source": []
  },
  {
   "cell_type": "code",
   "execution_count": null,
   "id": "fca950bf-8e0a-446d-8653-d885361ff077",
   "metadata": {},
   "outputs": [],
   "source": []
  },
  {
   "cell_type": "code",
   "execution_count": 5,
   "id": "11f436ff-e03a-4995-834b-1de61bd54663",
   "metadata": {},
   "outputs": [
    {
     "data": {
      "text/plain": [
       "True"
      ]
     },
     "execution_count": 5,
     "metadata": {},
     "output_type": "execute_result"
    }
   ],
   "source": [
    "res = cur.execute(\"SELECT name FROM sqlite_master WHERE name='spam'\")\n",
    "res.fetchone() is None"
   ]
  },
  {
   "cell_type": "code",
   "execution_count": 6,
   "id": "0939fdad-f2ba-48de-8564-e5b19b3f28d4",
   "metadata": {},
   "outputs": [
    {
     "data": {
      "text/plain": [
       "<sqlite3.Cursor at 0x7f21302f5b90>"
      ]
     },
     "execution_count": 6,
     "metadata": {},
     "output_type": "execute_result"
    }
   ],
   "source": [
    "cur.execute(\"\"\"\n",
    "    INSERT INTO movie VALUES\n",
    "        ('Monty Python and the Holy Grail', 1975, 8.2),\n",
    "        ('And Now for Something Completely Different', 1971, 7.5)\n",
    "\"\"\")"
   ]
  },
  {
   "cell_type": "code",
   "execution_count": 9,
   "id": "f93e5237-0ba5-415f-9ecd-bf595387ef34",
   "metadata": {},
   "outputs": [],
   "source": [
    "res = cur.execute(\"SELECT * FROM movie\")"
   ]
  },
  {
   "cell_type": "code",
   "execution_count": 10,
   "id": "0720ffd1-56eb-4763-a6ab-d5478214491e",
   "metadata": {},
   "outputs": [
    {
     "data": {
      "text/plain": [
       "[('Monty Python and the Holy Grail', 1975, 8.2),\n",
       " ('And Now for Something Completely Different', 1971, 7.5)]"
      ]
     },
     "execution_count": 10,
     "metadata": {},
     "output_type": "execute_result"
    }
   ],
   "source": [
    "res.fetchall()"
   ]
  },
  {
   "cell_type": "markdown",
   "id": "7a5b30e7-2ac0-46b8-80ca-f39a1a2a176e",
   "metadata": {},
   "source": [
    "I don't even need commit to do it"
   ]
  },
  {
   "cell_type": "code",
   "execution_count": 11,
   "id": "9fa3bf7b-9d56-480b-86a6-d59b151b3b9a",
   "metadata": {},
   "outputs": [],
   "source": [
    "con.close()"
   ]
  },
  {
   "cell_type": "code",
   "execution_count": null,
   "id": "667605c8-9578-4451-a8ed-0b85d8c29479",
   "metadata": {},
   "outputs": [],
   "source": []
  }
 ],
 "metadata": {
  "kernelspec": {
   "display_name": "Python 3 (ipykernel)",
   "language": "python",
   "name": "python3"
  },
  "language_info": {
   "codemirror_mode": {
    "name": "ipython",
    "version": 3
   },
   "file_extension": ".py",
   "mimetype": "text/x-python",
   "name": "python",
   "nbconvert_exporter": "python",
   "pygments_lexer": "ipython3",
   "version": "3.7.4"
  }
 },
 "nbformat": 4,
 "nbformat_minor": 5
}
