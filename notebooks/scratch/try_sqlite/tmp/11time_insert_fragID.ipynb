{
 "cells": [
  {
   "cell_type": "markdown",
   "id": "12bd90bb",
   "metadata": {},
   "source": [
    "# Measure preformance of insertion using fragment ID as primary key"
   ]
  },
  {
   "cell_type": "markdown",
   "id": "25c1df66",
   "metadata": {},
   "source": [
    "**Set environment**"
   ]
  },
  {
   "cell_type": "code",
   "execution_count": 1,
   "id": "5932ad50",
   "metadata": {},
   "outputs": [],
   "source": [
    "#######################################################\n",
    "### Set environment\n",
    "###++++++++++++++++++++++++++++++++++++++++++++++++++++\n",
    "\n",
    "### import common packages\n",
    "import numpy  as np\n",
    "import itertools as it\n",
    "import sys, os, gzip\n",
    "from   functools import reduce\n",
    "\n",
    "### update print\n",
    "from functools import partial\n",
    "print = partial(print, flush=True)\n",
    "\n",
    "### set working directories\n",
    "FD_RES = \"/gpfs/fs1/data/reddylab/Kuei/out/proj_combeffect\"\n",
    "\n",
    "### import specific packages\n",
    "import sqlite3\n",
    "# https://stackoverflow.com/questions/49456158/integer-in-python-pandas-becomes-blob-binary-in-sqlite\n",
    "sqlite3.register_adapter(np.int64, lambda val: int(val))\n",
    "sqlite3.register_adapter(np.int32, lambda val: int(val))\n",
    "\n",
    "\n",
    "### import packages for benchmark performance\n",
    "import cProfile, pstats, time, timeit\n",
    "import matplotlib.pyplot as plt"
   ]
  },
  {
   "cell_type": "markdown",
   "id": "2eff0f05",
   "metadata": {},
   "source": [
    "**Global variables of database and file**"
   ]
  },
  {
   "cell_type": "code",
   "execution_count": 2,
   "id": "e49eb406",
   "metadata": {},
   "outputs": [
    {
     "name": "stdout",
     "output_type": "stream",
     "text": [
      "Global variables:\n",
      "Chromsome:   chr17\n",
      "Database:    /gpfs/fs1/data/reddylab/Kuei/out/proj_combeffect/database/test_insert_chr17.db\n",
      "Input file:  /gpfs/fs1/data/reddylab/Kuei/out/proj_combeffect/nuc/Input1_20x/chr17.bed.gz\n",
      "\n"
     ]
    }
   ],
   "source": [
    "#######################################################\n",
    "### parse arguments\n",
    "###++++++++++++++++++++++++++++++++++++++++++++++++++++\n",
    "CHROM   = \"chr17\"                          #args.chrom\n",
    "FD_OUT  = os.path.join(FD_RES, \"database\") #args.fout\n",
    "FD_INP  = os.path.join(FD_RES, \"nuc\")      #args.finp\n",
    "PREFIX  = \"test_insert\"                    #args.prefix\n",
    "VERBOSE = True                             #args.verbose\n",
    "\n",
    "#######################################################\n",
    "### Global varialbes and I/O\n",
    "###++++++++++++++++++++++++++++++++++++++++++++++++++++\n",
    "\n",
    "### file path of fragment database\n",
    "fdiry  = FD_OUT\n",
    "fname  = f\"{PREFIX}_{CHROM}.db\"\n",
    "FP_DTB = os.path.join(fdiry, fname)\n",
    "\n",
    "### file path of fragment table\n",
    "sample  = \"Input1_20x\"\n",
    "fdiry   = os.path.join(FD_INP, sample)\n",
    "fname   = \"chr17.bed.gz\"\n",
    "FP_FRG  = os.path.join(fdiry, fname)\n",
    "\n",
    "### show info\n",
    "if (VERBOSE):\n",
    "    print(\"Global variables:\")\n",
    "    print(\"Chromsome:  \", CHROM)\n",
    "    print(\"Database:   \", FP_DTB)\n",
    "    print(\"Input file: \", FP_FRG)\n",
    "    print()"
   ]
  },
  {
   "cell_type": "markdown",
   "id": "0bb9b012",
   "metadata": {},
   "source": [
    "## Setup helper function for reading files"
   ]
  },
  {
   "cell_type": "code",
   "execution_count": 3,
   "id": "ae416130",
   "metadata": {},
   "outputs": [],
   "source": [
    "##################################################\n",
    "### Helper functions\n",
    "### ++++++++++++++++++++++++++++++++++++++++++++++\n",
    "\n",
    "### helper function to get a chunk of file\n",
    "def get_chunks(gen, rows=10):\n",
    "    \"\"\"Divides the data into chunks with size as rows\"\"\"\n",
    "    iterable = iter(gen)\n",
    "    while True:\n",
    "        x = list(it.islice(iterable, rows))\n",
    "        if not x:\n",
    "            return\n",
    "        yield x\n",
    "\n",
    "### helper function to process each row\n",
    "def prep_line(line):\n",
    "    \"\"\"Function to process each line\"\"\"\n",
    "    ### Decode\n",
    "    lst = line.decode('ASCII').strip().split('\\t') \n",
    "\n",
    "    ### parse info\n",
    "    key = \"_\".join(lst[0:3])\n",
    "    val = lst[0:3] + lst[4:-1]\n",
    "    return [key] + val\n",
    "\n",
    "def gen_line(file, n_chunksize=None, n_lines=None):\n",
    "    \"\"\"generate lines or chunks of lines from the file\"\"\"\n",
    "    ### remove file header\n",
    "    header = file.readline()\n",
    "    lines  = file\n",
    "    \n",
    "    ### preprocess each line\n",
    "    fun = prep_line\n",
    "    gen = map(fun, lines)\n",
    "    \n",
    "    ### set number of lines read if specified\n",
    "    if n_lines is not None:\n",
    "        gen = it.islice(gen, n_lines)\n",
    "    \n",
    "    ### set chunks if specified\n",
    "    if n_chunksize is not None:\n",
    "        gen = get_chunks(gen, n_chunksize)\n",
    "\n",
    "    return gen"
   ]
  },
  {
   "cell_type": "markdown",
   "id": "e5e3cb1e",
   "metadata": {},
   "source": [
    "## Setup SQL query and functions for creating and inserting into fragment table"
   ]
  },
  {
   "cell_type": "code",
   "execution_count": 4,
   "id": "0585bdd9",
   "metadata": {},
   "outputs": [],
   "source": [
    "##################################################\n",
    "### Set SQL query\n",
    "### ++++++++++++++++++++++++++++++++++++++++++++++\n",
    "\n",
    "query_reset_table = \"DROP TABLE IF EXISTS Fragment\"\n",
    "\n",
    "query_table_frag = (\"\"\"\n",
    "    CREATE TABLE IF NOT EXISTS Fragment(\n",
    "        fragment TEXT PRIMARY KEY, \n",
    "        chrom    TEXT,\n",
    "        start    INTEGER,\n",
    "        end      INTEGER,\n",
    "        pct_at   REAL,\n",
    "        pct_gc   REAL,\n",
    "        num_A    INTEGER,\n",
    "        num_C    INTEGER,\n",
    "        num_G    INTEGER,\n",
    "        num_T    INTEGER,\n",
    "        num_N    INTEGER,\n",
    "        num_oth  INTEGER\n",
    "    );\"\"\")\n",
    "\n",
    "query_table_auto = (\"\"\"\n",
    "    CREATE TABLE IF NOT EXISTS Fragment(\n",
    "        fragment TEXT, \n",
    "        chrom    TEXT,\n",
    "        start    INTEGER,\n",
    "        end      INTEGER,\n",
    "        pct_at   REAL,\n",
    "        pct_gc   REAL,\n",
    "        num_A    INTEGER,\n",
    "        num_C    INTEGER,\n",
    "        num_G    INTEGER,\n",
    "        num_T    INTEGER,\n",
    "        num_N    INTEGER,\n",
    "        num_oth  INTEGER\n",
    "    );\"\"\")\n",
    "\n",
    "query_insert = (\"\"\"\n",
    "    INSERT OR IGNORE INTO Fragment\n",
    "        (fragment, chrom, start, end, pct_at, pct_gc,\n",
    "         num_A, num_C, num_G, num_T, num_N, num_oth) \n",
    "    VALUES \n",
    "        (?,?,?,?,?,?,?,?,?,?,?,?)\n",
    "    \"\"\")"
   ]
  },
  {
   "cell_type": "code",
   "execution_count": 5,
   "id": "de530c43",
   "metadata": {},
   "outputs": [],
   "source": [
    "##################################################\n",
    "### Set database function\n",
    "### ++++++++++++++++++++++++++++++++++++++++++++++\n",
    "\n",
    "def refresh(query_table, fpath_database):\n",
    "    \"\"\"\n",
    "    Helper function to refresh the database by \n",
    "    deleting original table and create a new one\n",
    "    \"\"\"\n",
    "    with sqlite3.connect(fpath_database) as conn:\n",
    "        ### init\n",
    "        cursor = conn.cursor()\n",
    "\n",
    "        ### reset table\n",
    "        query  = query_reset_table\n",
    "        cursor = cursor.execute(query)\n",
    "\n",
    "        ### create table\n",
    "        query  = query_table\n",
    "        cursor = cursor.execute(query)\n",
    "        \n",
    "def insert_line_by_line(n_lines, query_table, fpath_database, fpath_table):\n",
    "    \"\"\"Helper function to insert rows into table line by line\"\"\"\n",
    "    \n",
    "    ### init a new table\n",
    "    refresh(query_table, fpath_database)\n",
    "    \n",
    "    with sqlite3.connect(fpath_database) as conn:\n",
    "        ### initiation\n",
    "        cursor = conn.cursor()\n",
    "        query  = query_insert\n",
    "        \n",
    "        ### read file\n",
    "        with gzip.open(fpath_table, \"rb\") as file:\n",
    "            \n",
    "            ### generate lines\n",
    "            lines = gen_line(file, n_lines=n_lines)\n",
    "\n",
    "            ### insert line by line\n",
    "            for line in lines:\n",
    "                cursor.execute(query, line)\n",
    "                \n",
    "def insert_line_by_chunk(n_lines, n_chunksize, query_table, fpath_database, fpath_table):\n",
    "    \"\"\"Helper function to insert rows into table by chunk\"\"\"\n",
    "    ### init a new table\n",
    "    refresh(query_table, fpath_database)\n",
    "    \n",
    "    with sqlite3.connect(fpath_database) as conn:\n",
    "        ### initiation\n",
    "        cursor = conn.cursor()\n",
    "        query  = query_insert\n",
    "        \n",
    "        ### read file\n",
    "        with gzip.open(fpath_table, \"rb\") as file:\n",
    "            \n",
    "            ### generate chunks\n",
    "            chunks = gen_line(file, n_chunksize=n_chunksize, n_lines=n_lines)\n",
    "            \n",
    "            ### insert chunk by chunk\n",
    "            for chunk in chunks:\n",
    "                cursor.executemany(query, chunk)"
   ]
  },
  {
   "cell_type": "code",
   "execution_count": 6,
   "id": "3b517f61",
   "metadata": {},
   "outputs": [],
   "source": [
    "def check_table_size(n_lines, fpath_database=FP_DTB):\n",
    "    \"\"\"count the number of rows/lines in a table created in a database\"\"\"\n",
    "    with sqlite3.connect(fpath_database) as conn:\n",
    "        ### initiation\n",
    "        cursor = conn.cursor()\n",
    "        query  = \"select count(*) from Fragment\"\n",
    "        \n",
    "        ### get the table size of table\n",
    "        cursor = cursor.execute(query)\n",
    "        counts = cursor.fetchall()\n",
    "        counts = counts[0][0]\n",
    "    \n",
    "    if counts == n_lines:\n",
    "        print(\"Check table size:  passed!\")    \n",
    "    else:\n",
    "        print(\"Check table size:  failed.\")\n",
    "    \n",
    "\n",
    "def check_table_lines(fpath_database=FP_DTB, fpath_table=FP_FRG):\n",
    "    \"\"\"check the integrity of the table creation\"\"\"\n",
    "    \n",
    "    def get_line_from_database():\n",
    "        \"\"\"generator of lines from database\"\"\"\n",
    "        with sqlite3.connect(fpath_database) as conn:\n",
    "            ### initiation\n",
    "            cursor = conn.cursor()\n",
    "            query  = \"select * from Fragment\"\n",
    "\n",
    "            ### get the table size of table\n",
    "            cursor = cursor.execute(query)\n",
    "            for line in cursor:\n",
    "                yield line\n",
    "                \n",
    "    def get_line_from_file():    \n",
    "        \"\"\"generator of lines from file\"\"\"\n",
    "        with gzip.open(fpath_table, \"rb\") as file:\n",
    "            lines = gen_line(file)\n",
    "            for line in lines:\n",
    "                yield line\n",
    "    \n",
    "    ### compare line by line\n",
    "    lines_base = get_line_from_database()\n",
    "    lines_file = get_line_from_file()\n",
    "    fun = lambda x, y: str(x) == str(y)\n",
    "    \n",
    "    for line_base, line_file in zip(lines_base, lines_file):\n",
    "        ### compare elements for each pair of lines and \n",
    "        ### return a list of true/false whether each pair of elements are equal\n",
    "        res = list(it.starmap(fun, zip(line_base, line_file)))\n",
    "        \n",
    "        ### if all elements are equal for each line, continue\n",
    "        ### if not, exit the function and print the failed message\n",
    "        if all(res):\n",
    "            continue\n",
    "        else:\n",
    "            print(\"Check table lines: failed.\")\n",
    "            return\n",
    "        \n",
    "    ### all lines are equal\n",
    "    print(\"Check table lines: passed!\")    "
   ]
  },
  {
   "cell_type": "markdown",
   "id": "acda4fe2",
   "metadata": {},
   "source": [
    "## Measure performance"
   ]
  },
  {
   "cell_type": "code",
   "execution_count": 7,
   "id": "c4dc6dde",
   "metadata": {},
   "outputs": [
    {
     "name": "stdout",
     "output_type": "stream",
     "text": [
      "CPU times: user 1.39 ms, sys: 1.16 ms, total: 2.55 ms\n",
      "Wall time: 2 s\n"
     ]
    }
   ],
   "source": [
    "%%time\n",
    "time.sleep(2)"
   ]
  },
  {
   "cell_type": "markdown",
   "id": "ea81805e-1a54-4f2b-80fc-caf162448f7c",
   "metadata": {},
   "source": [
    "**Initialization**"
   ]
  },
  {
   "cell_type": "code",
   "execution_count": 8,
   "id": "cd6fe032",
   "metadata": {},
   "outputs": [],
   "source": [
    "N = 1\n",
    "R = 2\n",
    "\n",
    "n_lines     = [10, 100, 1000, 5000, 10000, 50000, 100000]\n",
    "n_chunksize = [1, 10, 100, 1000]\n",
    "\n",
    "fpath_database = FP_DTB\n",
    "fpath_table    = FP_FRG\n",
    "query_table    = query_table_frag"
   ]
  },
  {
   "cell_type": "markdown",
   "id": "b8229788-8b7a-4e26-91dd-02d3f86d8026",
   "metadata": {},
   "source": [
    "**Measure time for insert line by line**"
   ]
  },
  {
   "cell_type": "code",
   "execution_count": 9,
   "id": "a790ab70",
   "metadata": {},
   "outputs": [
    {
     "name": "stdout",
     "output_type": "stream",
     "text": [
      "CPU times: user 3.43 s, sys: 349 ms, total: 3.78 s\n",
      "Wall time: 6.72 s\n"
     ]
    }
   ],
   "source": [
    "%%time\n",
    "res = list()\n",
    "\n",
    "for n in n_lines:\n",
    "    fun = lambda: insert_line_by_line(n, query_table, fpath_database, fpath_table)\n",
    "    lst = timeit.repeat(fun, number=N, repeat=R)\n",
    "    res.append(np.min(lst))   \n",
    "    \n",
    "res_line = res"
   ]
  },
  {
   "cell_type": "markdown",
   "id": "8e209bf1-1d52-4a0a-8cdf-e13ce01a695c",
   "metadata": {},
   "source": [
    "**Measure time for insert line by chunk**"
   ]
  },
  {
   "cell_type": "code",
   "execution_count": 10,
   "id": "2e21191c",
   "metadata": {},
   "outputs": [
    {
     "name": "stdout",
     "output_type": "stream",
     "text": [
      "#Lines: 10; #Chunksize: 1\n",
      "#Lines: 100; #Chunksize: 1\n",
      "#Lines: 1000; #Chunksize: 1\n",
      "#Lines: 5000; #Chunksize: 1\n",
      "#Lines: 10000; #Chunksize: 1\n",
      "#Lines: 50000; #Chunksize: 1\n",
      "#Lines: 100000; #Chunksize: 1\n",
      "#Lines: 10; #Chunksize: 10\n",
      "#Lines: 100; #Chunksize: 10\n",
      "#Lines: 1000; #Chunksize: 10\n",
      "#Lines: 5000; #Chunksize: 10\n",
      "#Lines: 10000; #Chunksize: 10\n",
      "#Lines: 50000; #Chunksize: 10\n",
      "#Lines: 100000; #Chunksize: 10\n",
      "#Lines: 10; #Chunksize: 100\n",
      "#Lines: 100; #Chunksize: 100\n",
      "#Lines: 1000; #Chunksize: 100\n",
      "#Lines: 5000; #Chunksize: 100\n",
      "#Lines: 10000; #Chunksize: 100\n",
      "#Lines: 50000; #Chunksize: 100\n",
      "#Lines: 100000; #Chunksize: 100\n",
      "#Lines: 10; #Chunksize: 1000\n",
      "#Lines: 100; #Chunksize: 1000\n",
      "#Lines: 1000; #Chunksize: 1000\n",
      "#Lines: 5000; #Chunksize: 1000\n",
      "#Lines: 10000; #Chunksize: 1000\n",
      "#Lines: 50000; #Chunksize: 1000\n",
      "#Lines: 100000; #Chunksize: 1000\n",
      "CPU times: user 12.4 s, sys: 1.63 s, total: 14 s\n",
      "Wall time: 29 s\n"
     ]
    }
   ],
   "source": [
    "%%time\n",
    "mat = list()\n",
    "\n",
    "for c in n_chunksize:\n",
    "    res = list()\n",
    "    for n in n_lines:\n",
    "        print(f\"#Lines: {n}; #Chunksize: {c}\")\n",
    "        fun = lambda: insert_line_by_chunk(n, c, query_table, fpath_database, fpath_table)\n",
    "        lst = timeit.repeat(fun, number=N, repeat=R)\n",
    "        res.append(np.min(lst))\n",
    "    mat.append(res)\n",
    "    \n",
    "mat_chunk = mat"
   ]
  },
  {
   "cell_type": "markdown",
   "id": "8f3bcd09-09ab-41c5-9eb3-f42c189b0a9f",
   "metadata": {},
   "source": [
    "**Results visualization**"
   ]
  },
  {
   "cell_type": "code",
   "execution_count": 11,
   "id": "93b46f84-2bd7-47c5-9610-ae13f326aa46",
   "metadata": {},
   "outputs": [],
   "source": [
    "### results\n",
    "results = [res_line] + mat_chunk"
   ]
  },
  {
   "cell_type": "code",
   "execution_count": 12,
   "id": "c70765ec",
   "metadata": {},
   "outputs": [
    {
     "name": "stdout",
     "output_type": "stream",
     "text": [
      "['Line_by_Line' 'Chunk (size=1)' 'Chunk (size=10)' 'Chunk (size=100)'\n",
      " 'Chunk (size=1000)']\n"
     ]
    }
   ],
   "source": [
    "### labels for each result\n",
    "fun = np.core.defchararray.add\n",
    "idx = np.array(n_chunksize).astype(\"str\")\n",
    "\n",
    "labels = reduce(fun, [\"Chunk (size=\", idx, \")\"])\n",
    "labels = np.r_[[\"Line_by_Line\"], labels]\n",
    "print(labels)"
   ]
  },
  {
   "cell_type": "code",
   "execution_count": 13,
   "id": "4f7f9c44",
   "metadata": {},
   "outputs": [
    {
     "data": {
      "image/png": "[encoded data removed]",
      "text/plain": [
       "<Figure size 432x288 with 1 Axes>"
      ]
     },
     "metadata": {
      "needs_background": "light"
     },
     "output_type": "display_data"
    }
   ],
   "source": [
    "### plot the time vs number lines insert into the database\n",
    "for res, lab in zip(results, labels):\n",
    "    plt.plot(np.log10(n_lines), np.log10(res), \"-o\", label=lab)\n",
    "plt.legend()\n",
    "plt.xlabel(\"log10 (#Lines)\")\n",
    "plt.ylabel(\"log10 Time (sec)\")\n",
    "plt.show()"
   ]
  },
  {
   "cell_type": "code",
   "execution_count": null,
   "id": "b4dacc60",
   "metadata": {},
   "outputs": [],
   "source": []
  }
 ],
 "metadata": {
  "kernelspec": {
   "display_name": "Python 3 (ipykernel)",
   "language": "python",
   "name": "python3"
  },
  "language_info": {
   "codemirror_mode": {
    "name": "ipython",
    "version": 3
   },
   "file_extension": ".py",
   "mimetype": "text/x-python",
   "name": "python",
   "nbconvert_exporter": "python",
   "pygments_lexer": "ipython3",
   "version": "3.7.4"
  }
 },
 "nbformat": 4,
 "nbformat_minor": 5
}
