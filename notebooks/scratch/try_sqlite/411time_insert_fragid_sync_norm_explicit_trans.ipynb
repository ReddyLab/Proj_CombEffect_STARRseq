{
 "cells": [
  {
   "cell_type": "markdown",
   "id": "95e17a60-8023-4ac9-bb31-cba8be05b25c",
   "metadata": {},
   "source": [
    "# Measure preformance of insertion \n",
    "- using fragment ID as primary key\n",
    "- try changing synchronous to normal"
   ]
  },
  {
   "cell_type": "markdown",
   "id": "1b89d7b2-e368-46de-819f-9690623f34f7",
   "metadata": {},
   "source": [
    "**Set environment**"
   ]
  },
  {
   "cell_type": "code",
   "execution_count": 1,
   "id": "c88c6524-0096-49dd-b9d7-a5b5918f041c",
   "metadata": {},
   "outputs": [],
   "source": [
    "from prep_insert import *"
   ]
  },
  {
   "cell_type": "code",
   "execution_count": 2,
   "id": "5df75b2f-192a-434c-b114-1c4dffc5e33f",
   "metadata": {},
   "outputs": [
    {
     "name": "stdout",
     "output_type": "stream",
     "text": [
      "Global variables:\n",
      "Chromsome:   chr17\n",
      "Database:    /gpfs/fs1/data/reddylab/Kuei/out/proj_combeffect/database/test_insert_chr17_fragid_sync_off_.db\n",
      "Input file:  /gpfs/fs1/data/reddylab/Kuei/out/proj_combeffect/nuc/Input1_20x/chr17.bed.gz\n",
      "\n"
     ]
    }
   ],
   "source": [
    "#######################################################\n",
    "### parse arguments\n",
    "###++++++++++++++++++++++++++++++++++++++++++++++++++++\n",
    "CHROM   = \"chr17\"                          #args.chrom\n",
    "FD_OUT  = os.path.join(FD_RES, \"database\") #args.fout\n",
    "FD_INP  = os.path.join(FD_RES, \"nuc\")      #args.finp\n",
    "PREFIX  = \"test_insert\"                    #args.prefix\n",
    "SUFFIX  = \"fragid_sync_norm\"\n",
    "VERBOSE = True                             #args.verbose\n",
    "\n",
    "#######################################################\n",
    "### Set global varialbes and I/O\n",
    "###++++++++++++++++++++++++++++++++++++++++++++++++++++\n",
    "\n",
    "### file path of fragment database\n",
    "fdiry  = FD_OUT\n",
    "fname  = f\"{PREFIX}_{CHROM}_{SUFFIX}.db\"\n",
    "FP_DTB = os.path.join(fdiry, fname)\n",
    "\n",
    "### file path of fragment table\n",
    "sample  = \"Input1_20x\"\n",
    "fdiry   = os.path.join(FD_INP, sample)\n",
    "fname   = \"chr17.bed.gz\"\n",
    "FP_FRG  = os.path.join(fdiry, fname)\n",
    "\n",
    "### show info\n",
    "if (VERBOSE):\n",
    "    print(\"Global variables:\")\n",
    "    print(\"Chromsome:  \", CHROM)\n",
    "    print(\"Database:   \", FP_DTB)\n",
    "    print(\"Input file: \", FP_FRG)\n",
    "    print()"
   ]
  },
  {
   "cell_type": "markdown",
   "id": "3bec8e3e-6539-4d42-afaf-7855b9a9e93d",
   "metadata": {},
   "source": [
    "## Set database function for insertion"
   ]
  },
  {
   "cell_type": "code",
   "execution_count": 3,
   "id": "96c429e3-fb6d-4700-9e7d-9867865d65aa",
   "metadata": {},
   "outputs": [],
   "source": [
    "def insert_line_by_line(n_lines, query_table, fpath_database, fpath_table):\n",
    "    \"\"\"Helper function to insert rows into table line by line\"\"\"\n",
    "    \n",
    "    ### init a new table\n",
    "    refresh(query_table, fpath_database)\n",
    "    \n",
    "    with sqlite3.connect(fpath_database) as conn:\n",
    "        ### initiation\n",
    "        cursor = conn.cursor()\n",
    "        \n",
    "        ### read file\n",
    "        with gzip.open(fpath_table, \"rb\") as file:\n",
    "            \n",
    "            ### generate lines\n",
    "            lines = gen_line(file, n_lines=n_lines)\n",
    "\n",
    "            ### insert line by line\n",
    "            for line in lines:\n",
    "                cursor.execute(query_insert, line)\n",
    "                \n",
    "def insert_line_by_chunk(n_lines, n_chunksize, query_table, fpath_database, fpath_table):\n",
    "    \"\"\"Helper function to insert rows into table by chunk\"\"\"\n",
    "    ### init a new table\n",
    "    refresh(query_table, fpath_database)\n",
    "    \n",
    "    with sqlite3.connect(fpath_database) as conn:\n",
    "        ### initiation\n",
    "        cursor = conn.cursor()\n",
    "        cursor = cursor.execute(\"PRAGMA synchronous = normal\")\n",
    "        ### read file\n",
    "        with gzip.open(fpath_table, \"rb\") as file:\n",
    "            \n",
    "            ### generate chunks\n",
    "            chunks = gen_line(file, n_chunksize=n_chunksize, n_lines=n_lines)\n",
    "            \n",
    "            ### insert chunk by chunk\n",
    "            for chunk in chunks:\n",
    "                cursor.executemany(query_insert, chunk)"
   ]
  },
  {
   "cell_type": "markdown",
   "id": "547f575e-ae0d-4063-968a-05707ffa1888",
   "metadata": {},
   "source": [
    "## Measure performance"
   ]
  },
  {
   "cell_type": "code",
   "execution_count": 4,
   "id": "6160c0fb-8c02-4e7c-ace6-c13e0ab18331",
   "metadata": {},
   "outputs": [
    {
     "name": "stdout",
     "output_type": "stream",
     "text": [
      "CPU times: user 1.6 ms, sys: 875 µs, total: 2.47 ms\n",
      "Wall time: 2 s\n"
     ]
    }
   ],
   "source": [
    "%%time\n",
    "time.sleep(2)"
   ]
  },
  {
   "cell_type": "markdown",
   "id": "8f9ed8c0-200b-4e36-8bae-726505b967ba",
   "metadata": {},
   "source": [
    "**Initialization**"
   ]
  },
  {
   "cell_type": "code",
   "execution_count": 5,
   "id": "4da4d9e9-af68-46fc-a6da-fa2f4121f014",
   "metadata": {},
   "outputs": [],
   "source": [
    "N = 1\n",
    "R = 2\n",
    "\n",
    "n_lines     = [10, 100, 1000, 5000, 10000, 50000, 100000]\n",
    "n_chunksize = [1, 10, 100, 1000]\n",
    "\n",
    "fpath_database = FP_DTB\n",
    "fpath_table    = FP_FRG\n",
    "query_table    = query_table_frag"
   ]
  },
  {
   "cell_type": "markdown",
   "id": "fb675a14-684d-45e1-8360-4ed905b6eb19",
   "metadata": {},
   "source": [
    "**Measure time for insert line by line**"
   ]
  },
  {
   "cell_type": "code",
   "execution_count": 6,
   "id": "823ac7fc-9bb1-4f69-955a-78fbd110817c",
   "metadata": {},
   "outputs": [
    {
     "name": "stdout",
     "output_type": "stream",
     "text": [
      "CPU times: user 3.38 s, sys: 383 ms, total: 3.76 s\n",
      "Wall time: 5.76 s\n"
     ]
    }
   ],
   "source": [
    "%%time\n",
    "res = list()\n",
    "\n",
    "for n in n_lines:\n",
    "    fun = lambda: insert_line_by_line(n, query_table, fpath_database, fpath_table)\n",
    "    lst = timeit.repeat(fun, number=N, repeat=R)\n",
    "    res.append(np.min(lst))   \n",
    "    \n",
    "res_line = res"
   ]
  },
  {
   "cell_type": "markdown",
   "id": "ca65b3ed-c7f5-471e-a53c-c578aa5e837b",
   "metadata": {},
   "source": [
    "**Measure time for insert line by chunk**"
   ]
  },
  {
   "cell_type": "code",
   "execution_count": 7,
   "id": "3081dd81-241b-4f38-a248-140c3b7918c0",
   "metadata": {},
   "outputs": [
    {
     "name": "stdout",
     "output_type": "stream",
     "text": [
      "#Lines: 10; #Chunksize: 1\n",
      "#Lines: 100; #Chunksize: 1\n",
      "#Lines: 1000; #Chunksize: 1\n",
      "#Lines: 5000; #Chunksize: 1\n",
      "#Lines: 10000; #Chunksize: 1\n",
      "#Lines: 50000; #Chunksize: 1\n",
      "#Lines: 100000; #Chunksize: 1\n",
      "#Lines: 10; #Chunksize: 10\n",
      "#Lines: 100; #Chunksize: 10\n",
      "#Lines: 1000; #Chunksize: 10\n",
      "#Lines: 5000; #Chunksize: 10\n",
      "#Lines: 10000; #Chunksize: 10\n",
      "#Lines: 50000; #Chunksize: 10\n",
      "#Lines: 100000; #Chunksize: 10\n",
      "#Lines: 10; #Chunksize: 100\n",
      "#Lines: 100; #Chunksize: 100\n",
      "#Lines: 1000; #Chunksize: 100\n",
      "#Lines: 5000; #Chunksize: 100\n",
      "#Lines: 10000; #Chunksize: 100\n",
      "#Lines: 50000; #Chunksize: 100\n",
      "#Lines: 100000; #Chunksize: 100\n",
      "#Lines: 10; #Chunksize: 1000\n",
      "#Lines: 100; #Chunksize: 1000\n",
      "#Lines: 1000; #Chunksize: 1000\n",
      "#Lines: 5000; #Chunksize: 1000\n",
      "#Lines: 10000; #Chunksize: 1000\n",
      "#Lines: 50000; #Chunksize: 1000\n",
      "#Lines: 100000; #Chunksize: 1000\n",
      "CPU times: user 11.9 s, sys: 1.53 s, total: 13.4 s\n",
      "Wall time: 21.1 s\n"
     ]
    }
   ],
   "source": [
    "%%time\n",
    "mat = list()\n",
    "\n",
    "for c in n_chunksize:\n",
    "    res = list()\n",
    "    for n in n_lines:\n",
    "        print(f\"#Lines: {n}; #Chunksize: {c}\")\n",
    "        fun = lambda: insert_line_by_chunk(n, c, query_table, fpath_database, fpath_table)\n",
    "        lst = timeit.repeat(fun, number=N, repeat=R)\n",
    "        res.append(np.min(lst))\n",
    "    mat.append(res)\n",
    "    \n",
    "mat_chunk = mat"
   ]
  },
  {
   "cell_type": "markdown",
   "id": "6d5c24fd-8e57-4928-8c49-255173c8f256",
   "metadata": {},
   "source": [
    "**Results visualization**"
   ]
  },
  {
   "cell_type": "code",
   "execution_count": 8,
   "id": "134f39f3-95f8-4f32-a377-fd0c0cab8876",
   "metadata": {},
   "outputs": [
    {
     "data": {
      "image/png": "[encoded data removed]",
      "text/plain": [
       "<Figure size 432x288 with 1 Axes>"
      ]
     },
     "metadata": {
      "needs_background": "light"
     },
     "output_type": "display_data"
    }
   ],
   "source": [
    "### results\n",
    "results = [res_line] + mat_chunk\n",
    "\n",
    "### labels for each result\n",
    "fun = np.core.defchararray.add\n",
    "idx = np.array(n_chunksize).astype(\"str\")\n",
    "\n",
    "labels = reduce(fun, [\"Chunk (size=\", idx, \")\"])\n",
    "labels = np.r_[[\"Line_by_Line\"], labels]\n",
    "\n",
    "### plot the time vs number lines insert into the database\n",
    "for res, lab in zip(results, labels):\n",
    "    plt.plot(np.log10(n_lines), np.log10(res), \"-o\", label=lab)\n",
    "plt.legend()\n",
    "plt.xlabel(\"log10 (#Lines)\")\n",
    "plt.ylabel(\"log10 Time (sec)\")\n",
    "plt.show()"
   ]
  },
  {
   "cell_type": "code",
   "execution_count": null,
   "id": "d1f9daad-5ecf-43b2-841d-ca4a99e1dd89",
   "metadata": {},
   "outputs": [],
   "source": []
  }
 ],
 "metadata": {
  "kernelspec": {
   "display_name": "Python 3 (ipykernel)",
   "language": "python",
   "name": "python3"
  },
  "language_info": {
   "codemirror_mode": {
    "name": "ipython",
    "version": 3
   },
   "file_extension": ".py",
   "mimetype": "text/x-python",
   "name": "python",
   "nbconvert_exporter": "python",
   "pygments_lexer": "ipython3",
   "version": "3.7.4"
  }
 },
 "nbformat": 4,
 "nbformat_minor": 5
}
