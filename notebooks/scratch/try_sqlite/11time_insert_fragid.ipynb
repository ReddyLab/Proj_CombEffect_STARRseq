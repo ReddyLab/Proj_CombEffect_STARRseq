{
 "cells": [
  {
   "cell_type": "markdown",
   "id": "4afdbf2d",
   "metadata": {},
   "source": [
    "# Measure preformance of insertion \n",
    "- using fragment ID as primary key"
   ]
  },
  {
   "cell_type": "markdown",
   "id": "a28e2b17",
   "metadata": {},
   "source": [
    "**Set environment**"
   ]
  },
  {
   "cell_type": "code",
   "execution_count": 1,
   "id": "b80355b0",
   "metadata": {},
   "outputs": [],
   "source": [
    "from prep_insert import *"
   ]
  },
  {
   "cell_type": "code",
   "execution_count": 2,
   "id": "1eb5c9e6",
   "metadata": {},
   "outputs": [
    {
     "name": "stdout",
     "output_type": "stream",
     "text": [
      "Global variables:\n",
      "Chromsome:   chr17\n",
      "Database:    /gpfs/fs1/data/reddylab/Kuei/out/proj_combeffect/database/test_insert_chr17_fragid.db\n",
      "Input file:  /gpfs/fs1/data/reddylab/Kuei/out/proj_combeffect/nuc/Input1_20x/chr17.bed.gz\n",
      "\n"
     ]
    }
   ],
   "source": [
    "#######################################################\n",
    "### parse arguments\n",
    "###++++++++++++++++++++++++++++++++++++++++++++++++++++\n",
    "CHROM   = \"chr17\"                          #args.chrom\n",
    "FD_OUT  = os.path.join(FD_RES, \"database\") #args.fout\n",
    "FD_INP  = os.path.join(FD_RES, \"nuc\")      #args.finp\n",
    "PREFIX  = \"test_insert\"                    #args.prefix\n",
    "SUFFIX  = \"fragid\"\n",
    "VERBOSE = True                             #args.verbose\n",
    "\n",
    "#######################################################\n",
    "### Set global varialbes and I/O\n",
    "###++++++++++++++++++++++++++++++++++++++++++++++++++++\n",
    "\n",
    "### file path of fragment database\n",
    "fdiry  = FD_OUT\n",
    "fname  = f\"{PREFIX}_{CHROM}_{SUFFIX}.db\"\n",
    "FP_DTB = os.path.join(fdiry, fname)\n",
    "\n",
    "### file path of fragment table\n",
    "sample  = \"Input1_20x\"\n",
    "fdiry   = os.path.join(FD_INP, sample)\n",
    "fname   = \"chr17.bed.gz\"\n",
    "FP_FRG  = os.path.join(fdiry, fname)\n",
    "\n",
    "### show info\n",
    "if (VERBOSE):\n",
    "    print(\"Global variables:\")\n",
    "    print(\"Chromsome:  \", CHROM)\n",
    "    print(\"Database:   \", FP_DTB)\n",
    "    print(\"Input file: \", FP_FRG)\n",
    "    print()"
   ]
  },
  {
   "cell_type": "markdown",
   "id": "b2903764",
   "metadata": {},
   "source": [
    "## Set database function for insertion"
   ]
  },
  {
   "cell_type": "code",
   "execution_count": 3,
   "id": "4d53d4a0",
   "metadata": {},
   "outputs": [],
   "source": [
    "def insert_line_by_line(n_lines, query_table, fpath_database, fpath_table):\n",
    "    \"\"\"Helper function to insert rows into table line by line\"\"\"\n",
    "    \n",
    "    ### init a new table\n",
    "    refresh(query_table, fpath_database)\n",
    "    \n",
    "    with sqlite3.connect(fpath_database) as conn:\n",
    "        ### initiation\n",
    "        cursor = conn.cursor()\n",
    "        \n",
    "        ### read file\n",
    "        with gzip.open(fpath_table, \"rb\") as file:\n",
    "            \n",
    "            ### generate lines\n",
    "            lines = gen_line(file, n_lines=n_lines)\n",
    "\n",
    "            ### insert line by line\n",
    "            for line in lines:\n",
    "                cursor.execute(query_insert, line)\n",
    "                \n",
    "def insert_line_by_chunk(n_lines, n_chunksize, query_table, fpath_database, fpath_table):\n",
    "    \"\"\"Helper function to insert rows into table by chunk\"\"\"\n",
    "    ### init a new table\n",
    "    refresh(query_table, fpath_database)\n",
    "    \n",
    "    with sqlite3.connect(fpath_database) as conn:\n",
    "        ### initiation\n",
    "        cursor = conn.cursor()\n",
    "        \n",
    "        ### read file\n",
    "        with gzip.open(fpath_table, \"rb\") as file:\n",
    "            \n",
    "            ### generate chunks\n",
    "            chunks = gen_line(file, n_chunksize=n_chunksize, n_lines=n_lines)\n",
    "            \n",
    "            ### insert chunk by chunk\n",
    "            for chunk in chunks:\n",
    "                cursor.executemany(query_insert, chunk)"
   ]
  },
  {
   "cell_type": "markdown",
   "id": "8236a404",
   "metadata": {},
   "source": [
    "## Measure performance"
   ]
  },
  {
   "cell_type": "code",
   "execution_count": 4,
   "id": "ce748b7b",
   "metadata": {},
   "outputs": [
    {
     "name": "stdout",
     "output_type": "stream",
     "text": [
      "CPU times: user 0 ns, sys: 1.76 ms, total: 1.76 ms\n",
      "Wall time: 2 s\n"
     ]
    }
   ],
   "source": [
    "%%time\n",
    "time.sleep(2)"
   ]
  },
  {
   "cell_type": "markdown",
   "id": "00876c29",
   "metadata": {},
   "source": [
    "**Initialization**"
   ]
  },
  {
   "cell_type": "code",
   "execution_count": 5,
   "id": "2f9a66ca",
   "metadata": {},
   "outputs": [],
   "source": [
    "N = 1\n",
    "R = 2\n",
    "\n",
    "n_lines     = [10, 100, 1000, 5000, 10000, 50000, 100000]\n",
    "n_chunksize = [1, 10, 100, 1000]\n",
    "\n",
    "fpath_database = FP_DTB\n",
    "fpath_table    = FP_FRG\n",
    "query_table    = query_table_frag"
   ]
  },
  {
   "cell_type": "markdown",
   "id": "10834ba7",
   "metadata": {},
   "source": [
    "**Measure time for insert line by line**"
   ]
  },
  {
   "cell_type": "code",
   "execution_count": 6,
   "id": "16019b39",
   "metadata": {},
   "outputs": [
    {
     "name": "stdout",
     "output_type": "stream",
     "text": [
      "CPU times: user 3.52 s, sys: 458 ms, total: 3.98 s\n",
      "Wall time: 6.34 s\n"
     ]
    }
   ],
   "source": [
    "%%time\n",
    "res = list()\n",
    "\n",
    "for n in n_lines:\n",
    "    fun = lambda: insert_line_by_line(n, query_table, fpath_database, fpath_table)\n",
    "    lst = timeit.repeat(fun, number=N, repeat=R)\n",
    "    res.append(np.min(lst))   \n",
    "    \n",
    "res_line = res"
   ]
  },
  {
   "cell_type": "markdown",
   "id": "cfba3b67",
   "metadata": {},
   "source": [
    "**Measure time for insert line by chunk**"
   ]
  },
  {
   "cell_type": "code",
   "execution_count": 7,
   "id": "dd8f1a65",
   "metadata": {},
   "outputs": [
    {
     "name": "stdout",
     "output_type": "stream",
     "text": [
      "#Lines: 10; #Chunksize: 1\n",
      "#Lines: 100; #Chunksize: 1\n",
      "#Lines: 1000; #Chunksize: 1\n",
      "#Lines: 5000; #Chunksize: 1\n",
      "#Lines: 10000; #Chunksize: 1\n",
      "#Lines: 50000; #Chunksize: 1\n",
      "#Lines: 100000; #Chunksize: 1\n",
      "#Lines: 10; #Chunksize: 10\n",
      "#Lines: 100; #Chunksize: 10\n",
      "#Lines: 1000; #Chunksize: 10\n",
      "#Lines: 5000; #Chunksize: 10\n",
      "#Lines: 10000; #Chunksize: 10\n",
      "#Lines: 50000; #Chunksize: 10\n",
      "#Lines: 100000; #Chunksize: 10\n",
      "#Lines: 10; #Chunksize: 100\n",
      "#Lines: 100; #Chunksize: 100\n",
      "#Lines: 1000; #Chunksize: 100\n",
      "#Lines: 5000; #Chunksize: 100\n",
      "#Lines: 10000; #Chunksize: 100\n",
      "#Lines: 50000; #Chunksize: 100\n",
      "#Lines: 100000; #Chunksize: 100\n",
      "#Lines: 10; #Chunksize: 1000\n",
      "#Lines: 100; #Chunksize: 1000\n",
      "#Lines: 1000; #Chunksize: 1000\n",
      "#Lines: 5000; #Chunksize: 1000\n",
      "#Lines: 10000; #Chunksize: 1000\n",
      "#Lines: 50000; #Chunksize: 1000\n",
      "#Lines: 100000; #Chunksize: 1000\n",
      "CPU times: user 12.9 s, sys: 1.76 s, total: 14.7 s\n",
      "Wall time: 21.6 s\n"
     ]
    }
   ],
   "source": [
    "%%time\n",
    "mat = list()\n",
    "\n",
    "for c in n_chunksize:\n",
    "    res = list()\n",
    "    for n in n_lines:\n",
    "        print(f\"#Lines: {n}; #Chunksize: {c}\")\n",
    "        fun = lambda: insert_line_by_chunk(n, c, query_table, fpath_database, fpath_table)\n",
    "        lst = timeit.repeat(fun, number=N, repeat=R)\n",
    "        res.append(np.min(lst))\n",
    "    mat.append(res)\n",
    "    \n",
    "mat_chunk = mat"
   ]
  },
  {
   "cell_type": "markdown",
   "id": "7b145c91",
   "metadata": {},
   "source": [
    "**Results visualization**"
   ]
  },
  {
   "cell_type": "code",
   "execution_count": 8,
   "id": "155161db",
   "metadata": {},
   "outputs": [
    {
     "data": {
      "image/png": "[encoded data removed]",
      "text/plain": [
       "<Figure size 432x288 with 1 Axes>"
      ]
     },
     "metadata": {
      "needs_background": "light"
     },
     "output_type": "display_data"
    }
   ],
   "source": [
    "### results\n",
    "results = [res_line] + mat_chunk\n",
    "\n",
    "### labels for each result\n",
    "fun = np.core.defchararray.add\n",
    "idx = np.array(n_chunksize).astype(\"str\")\n",
    "\n",
    "labels = reduce(fun, [\"Chunk (size=\", idx, \")\"])\n",
    "labels = np.r_[[\"Line_by_Line\"], labels]\n",
    "\n",
    "### plot the time vs number lines insert into the database\n",
    "for res, lab in zip(results, labels):\n",
    "    plt.plot(np.log10(n_lines), np.log10(res), \"-o\", label=lab)\n",
    "plt.legend()\n",
    "plt.xlabel(\"log10 (#Lines)\")\n",
    "plt.ylabel(\"log10 Time (sec)\")\n",
    "plt.title(\"Primary Key: FragID\")\n",
    "plt.show()"
   ]
  },
  {
   "cell_type": "code",
   "execution_count": null,
   "id": "6d51eb3b",
   "metadata": {},
   "outputs": [],
   "source": []
  }
 ],
 "metadata": {
  "kernelspec": {
   "display_name": "Python 3 (ipykernel)",
   "language": "python",
   "name": "python3"
  },
  "language_info": {
   "codemirror_mode": {
    "name": "ipython",
    "version": 3
   },
   "file_extension": ".py",
   "mimetype": "text/x-python",
   "name": "python",
   "nbconvert_exporter": "python",
   "pygments_lexer": "ipython3",
   "version": "3.7.4"
  }
 },
 "nbformat": 4,
 "nbformat_minor": 5
}
