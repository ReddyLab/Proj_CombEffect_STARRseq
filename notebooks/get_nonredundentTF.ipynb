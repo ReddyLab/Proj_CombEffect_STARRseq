{
 "cells": [
  {
   "cell_type": "code",
   "execution_count": 1,
   "id": "e8392f5c-fd37-4431-b15f-8491666b9be3",
   "metadata": {},
   "outputs": [],
   "source": [
    "source config.sh"
   ]
  },
  {
   "cell_type": "code",
   "execution_count": 2,
   "id": "8d651944-f630-4b5b-a0d9-640d598be174",
   "metadata": {},
   "outputs": [
    {
     "name": "stdout",
     "output_type": "stream",
     "text": [
      "/work/kk319/out/CombEffect_STARR\n"
     ]
    }
   ],
   "source": [
    "echo $FD_WRK"
   ]
  },
  {
   "cell_type": "code",
   "execution_count": 3,
   "id": "d3b41bc3-7728-4fb3-842a-735befa4194a",
   "metadata": {},
   "outputs": [
    {
     "name": "stdout",
     "output_type": "stream",
     "text": [
      "/work/kk319\n"
     ]
    }
   ],
   "source": [
    "echo $FD_BASE"
   ]
  },
  {
   "cell_type": "code",
   "execution_count": 5,
   "id": "5b16ce0d-3513-4eee-a42a-a5021f87b293",
   "metadata": {},
   "outputs": [],
   "source": [
    "FD_ANN=${FD_BASE}/annotation/motif_cluster_jvierstra\n",
    "ls ${FD_ANN}"
   ]
  },
  {
   "cell_type": "markdown",
   "id": "0801816c-bc39-4a93-bf2c-2fb57cffbf3f",
   "metadata": {},
   "source": [
    "[How to specify the download location with wget?](https://stackoverflow.com/questions/1078524/how-to-specify-the-download-location-with-wget)\n",
    "```\n",
    "-O is the option to specify the path of the file you want to download to:\n",
    "\n",
    "wget <uri> -O /path/to/file.ext\n",
    "\n",
    "-P is prefix where it will download the file in the directory:\n",
    "\n",
    "wget <uri> -P /path/to/folder\n",
    "```"
   ]
  },
  {
   "cell_type": "code",
   "execution_count": 6,
   "id": "f1160580-9fbf-45f2-9bea-9716f889f6b2",
   "metadata": {},
   "outputs": [
    {
     "name": "stdout",
     "output_type": "stream",
     "text": [
      "--2021-06-03 23:22:11--  https://resources.altius.org/~jvierstra/projects/motif-clustering/releases/v1.0/hub.txt\n",
      "Resolving resources.altius.org (resources.altius.org)... 204.8.236.79\n",
      "Connecting to resources.altius.org (resources.altius.org)|204.8.236.79|:443... connected.\n",
      "HTTP request sent, awaiting response... 200 OK\n",
      "Length: 216 [text/plain]\n",
      "Saving to: ‘/work/kk319/annotation/motif_cluster_jvierstra/hub.txt’\n",
      "\n",
      "hub.txt             100%[===================>]     216  --.-KB/s    in 0s      \n",
      "\n",
      "2021-06-03 23:22:12 (6.21 MB/s) - ‘/work/kk319/annotation/motif_cluster_jvierstra/hub.txt’ saved [216/216]\n",
      "\n"
     ]
    }
   ],
   "source": [
    "URL=https://resources.altius.org/~jvierstra/projects/motif-clustering/releases/v1.0/hub.txt\n",
    "wget ${URL} -P ${FD_ANN}"
   ]
  },
  {
   "cell_type": "code",
   "execution_count": 7,
   "id": "25393fb7-2fba-4735-89eb-d446d7ac7cc1",
   "metadata": {},
   "outputs": [
    {
     "name": "stdout",
     "output_type": "stream",
     "text": [
      "hub.txt\n"
     ]
    }
   ],
   "source": [
    "ls ${FD_ANN}"
   ]
  },
  {
   "cell_type": "code",
   "execution_count": 8,
   "id": "a18b15a6-018d-4490-9191-747857ce5948",
   "metadata": {},
   "outputs": [
    {
     "name": "stdout",
     "output_type": "stream",
     "text": [
      "hub Non-redundant archetype motif clusters (version 1.0)\n",
      "shortLabel Non-redundant archetype motif clusters\n",
      "longLabel Non-redundant archetype motif clusters\n",
      "genomesFile trackhub/genomes.txt\n",
      "email jvierstra@altius.org\n"
     ]
    }
   ],
   "source": [
    "cat ${FD_ANN}/hub.txt"
   ]
  },
  {
   "cell_type": "code",
   "execution_count": 9,
   "id": "b30fa140-ddc3-428e-836c-684403ee3d60",
   "metadata": {},
   "outputs": [
    {
     "name": "stdout",
     "output_type": "stream",
     "text": [
      "--2021-06-03 23:25:11--  https://resources.altius.org/~jvierstra/projects/motif-clustering/releases/v1.0/hg38.all_motifs.v1.0.bed.gz\n",
      "Resolving resources.altius.org (resources.altius.org)... 204.8.236.79\n",
      "Connecting to resources.altius.org (resources.altius.org)|204.8.236.79|:443... connected.\n",
      "HTTP request sent, awaiting response... 200 OK\n",
      "Length: 36436119622 (34G) [application/x-gzip]\n",
      "Saving to: ‘/work/kk319/annotation/motif_cluster_jvierstra/hg38.all_motifs.v1.0.bed.gz’\n",
      "\n",
      "hg38.all_motifs.v1. 100%[===================>]  33.93G  20.2MB/s    in 24m 32s \n",
      "\n",
      "2021-06-03 23:49:43 (23.6 MB/s) - ‘/work/kk319/annotation/motif_cluster_jvierstra/hg38.all_motifs.v1.0.bed.gz’ saved [36436119622/36436119622]\n",
      "\n"
     ]
    }
   ],
   "source": [
    "URL=https://resources.altius.org/~jvierstra/projects/motif-clustering/releases/v1.0/hg38.all_motifs.v1.0.bed.gz\n",
    "wget ${URL} -P ${FD_ANN}"
   ]
  },
  {
   "cell_type": "code",
   "execution_count": 10,
   "id": "1ba7adbb-7d25-45a5-be2e-0e4ca9148511",
   "metadata": {},
   "outputs": [
    {
     "name": "stdout",
     "output_type": "stream",
     "text": [
      "--2021-06-03 23:49:44--  https://resources.altius.org/~jvierstra/projects/motif-clustering/releases/v1.0/hg38.archetype_motifs.v1.0.bed.gz\n",
      "Resolving resources.altius.org (resources.altius.org)... 204.8.236.79\n",
      "Connecting to resources.altius.org (resources.altius.org)|204.8.236.79|:443... connected.\n",
      "HTTP request sent, awaiting response... 200 OK\n",
      "Length: 12148566243 (11G) [application/x-gzip]\n",
      "Saving to: ‘/work/kk319/annotation/motif_cluster_jvierstra/hg38.archetype_motifs.v1.0.bed.gz’\n",
      "\n",
      "hg38.archetype_moti 100%[===================>]  11.31G  29.5MB/s    in 9m 59s  \n",
      "\n",
      "2021-06-03 23:59:44 (19.3 MB/s) - ‘/work/kk319/annotation/motif_cluster_jvierstra/hg38.archetype_motifs.v1.0.bed.gz’ saved [12148566243/12148566243]\n",
      "\n"
     ]
    }
   ],
   "source": [
    "URL=https://resources.altius.org/~jvierstra/projects/motif-clustering/releases/v1.0/hg38.archetype_motifs.v1.0.bed.gz\n",
    "wget ${URL} -P ${FD_ANN}"
   ]
  },
  {
   "cell_type": "code",
   "execution_count": 11,
   "id": "0f7de0e0-15bf-4ec4-958a-5bd165e9252f",
   "metadata": {},
   "outputs": [
    {
     "name": "stdout",
     "output_type": "stream",
     "text": [
      "total 52G\n",
      "-rw-r--r--. 1 kk319 root 34G Oct 22  2018 \u001b[0m\u001b[01;31mhg38.all_motifs.v1.0.bed.gz\u001b[0m\n",
      "-rw-r--r--. 1 kk319 root 12G Apr 15  2020 \u001b[01;31mhg38.archetype_motifs.v1.0.bed.gz\u001b[0m\n",
      "-rw-r--r--. 1 kk319 root 216 May 27  2020 hub.txt\n"
     ]
    }
   ],
   "source": [
    "ls -lh ${FD_ANN}"
   ]
  },
  {
   "cell_type": "code",
   "execution_count": null,
   "id": "307976ac-bb1a-4266-8976-ae6cd0711d70",
   "metadata": {},
   "outputs": [],
   "source": []
  }
 ],
 "metadata": {
  "kernelspec": {
   "display_name": "Bash",
   "language": "bash",
   "name": "bash"
  },
  "language_info": {
   "codemirror_mode": "shell",
   "file_extension": ".sh",
   "mimetype": "text/x-sh",
   "name": "bash"
  }
 },
 "nbformat": 4,
 "nbformat_minor": 5
}
