{
 "cells": [
  {
   "cell_type": "code",
   "execution_count": 2,
   "metadata": {},
   "outputs": [
    {
     "name": "stdout",
     "output_type": "stream",
     "text": [
      "You are in singularity_proj_combeffect\n",
      "BASE DIRECTORY:     /mount/work\n",
      "PATH OF SOURCE:     /mount/work/source\n",
      "PATH OF EXECUTABLE: /mount/work/exe\n",
      "PATH OF ANNOTATION: /mount/work/annotation\n",
      "PATH OF PROJECT:    /mount/project\n",
      "PATH OF RESULTS:    /mount/work/out/proj_combeffect\n",
      "\n"
     ]
    }
   ],
   "source": [
    "source ../config_sing.sh -v"
   ]
  },
  {
   "cell_type": "markdown",
   "metadata": {},
   "source": [
    "`/data/reddylab/Alex/encode4_duke/ipynbs/jamborees/20211025_MPRA_STARR_Jamboree/data/gata1_myc/mpra/`"
   ]
  },
  {
   "cell_type": "code",
   "execution_count": 10,
   "metadata": {},
   "outputs": [],
   "source": [
    "FD_ALEX=${FD_RLAB}/Alex/encode4_duke/ipynbs/jamborees/20211025_MPRA_STARR_Jamboree/data/gata1_myc/mpra/"
   ]
  },
  {
   "cell_type": "code",
   "execution_count": 5,
   "metadata": {},
   "outputs": [
    {
     "name": "stdout",
     "output_type": "stream",
     "text": [
      "GATA-MYC_Tile_K562_K562_20210130.hg38.bed\n"
     ]
    }
   ],
   "source": [
    "ls ${FD_RES}/source/MRPA_Tewhey"
   ]
  },
  {
   "cell_type": "code",
   "execution_count": 11,
   "metadata": {},
   "outputs": [
    {
     "name": "stdout",
     "output_type": "stream",
     "text": [
      "ENCFF348WYK.Ahituv.lentiMPRA.MYC.bed\n",
      "ENCFF348WYK.bed\n",
      "ENCFF348WYK.GATA1.bed\n",
      "ENCFF348WYK.MYC.bed\n",
      "files_to_upload.tsv\n",
      "GATA-MYC_Tile_K562_K562_20210130.hg38.bed\n",
      "GATA-MYC_Tile_K562_K562_20210130.hg38.cleaned.bed\n",
      "GATA-MYC_Tile_K562_K562_20210130.hg38.cleaned.GATA1.bed\n",
      "GATA-MYC_Tile_K562_K562_20210130.hg38.cleaned.GATA1.in_astarr_de_frags.bed\n",
      "GATA-MYC_Tile_K562_K562_20210130.hg38.cleaned.MYC.bed\n"
     ]
    }
   ],
   "source": [
    "ls ${FD_ALEX}"
   ]
  },
  {
   "cell_type": "code",
   "execution_count": 15,
   "metadata": {},
   "outputs": [
    {
     "name": "stdout",
     "output_type": "stream",
     "text": [
      "chr\tstart\tstop\tid\tscore\tstrand\tlog2fc\tinput-count\toutput-count\tlog10pval\tlog10fdr\tlfc-se\n",
      "1\tNA\tNA\t1:10437778:C:T:R:wC\t.\t+\t2.38642090193675\t883.092934703281\t4616.08256005733\t106.737138191871\t105.572680362196\t0.108372623188431\n",
      "1\tNA\tNA\t1:10451799:C:T:R:wC\t.\t+\t0.163269738241717\t404.448967317715\t452.617975315935\t0.695386164226944\t0.506974721975921\t0.127869739155127\n",
      "1\tNA\tNA\t1:110198727:C:G:R:wC\t.\t+\t6.89424539341897\t310.545187848859\t36945.0097348854\tInf\tInf\t0.104426773888206\n",
      "1\tNA\tNA\t1:110881742:NA:NA\t.\t+\t5.22848485875197\t616.381200954704\t23111.0119614214\tInf\tInf\t0.0959084252416604\n",
      "1\tNA\tNA\t1:111838694:C:T:R:wC\t.\t+\t6.35937752212173\t322.74333240842\t26498.6022797483\tInf\tInf\t0.086444832956566\n",
      "1\tNA\tNA\t1:113047064:NA:NA\t.\t+\t0.11466895070617\t915.545423110096\t990.342692631558\t0.531636965525838\t0.377689908637539\t0.109274716168586\n",
      "1\tNA\tNA\t1:119063648:C:T:R:wC\t.\t+\t-0.267643729197052\t425.509782706038\t352.474171291422\t0.914512026836881\t0.685783680494351\t0.172958174820022\n",
      "1\tNA\tNA\t1:171893999:A:T:R:wC\t.\t+\t0.595625236142614\t723.096170889478\t1094.54535686017\t7.18072564066262\t6.58072499612539\t0.110263302544157\n",
      "1\tNA\tNA\t1:180811729:NA:NA\t.\t+\t0.159631235442215\t752.975856352507\t840.552978397217\t0.831434132608584\t0.617441385170644\t0.110189796054746\n"
     ]
    }
   ],
   "source": [
    "head ${FD_RES}/source/MRPA_Tewhey/GATA-MYC_Tile_K562_K562_20210130.hg38.bed"
   ]
  },
  {
   "cell_type": "code",
   "execution_count": 12,
   "metadata": {},
   "outputs": [
    {
     "name": "stdout",
     "output_type": "stream",
     "text": [
      "chr\tstart\tstop\tid\tscore\tstrand\tlog2fc\tinput-count\toutput-count\tlog10pval\tlog10fdr\tlfc-se\n",
      "1\tNA\tNA\t1:10437778:C:T:R:wC\t.\t+\t2.38642090193675\t883.092934703281\t4616.08256005733\t106.737138191871\t105.572680362196\t0.108372623188431\n",
      "1\tNA\tNA\t1:10451799:C:T:R:wC\t.\t+\t0.163269738241717\t404.448967317715\t452.617975315935\t0.695386164226944\t0.506974721975921\t0.127869739155127\n",
      "1\tNA\tNA\t1:110198727:C:G:R:wC\t.\t+\t6.89424539341897\t310.545187848859\t36945.0097348854\tInf\tInf\t0.104426773888206\n",
      "1\tNA\tNA\t1:110881742:NA:NA\t.\t+\t5.22848485875197\t616.381200954704\t23111.0119614214\tInf\tInf\t0.0959084252416604\n",
      "1\tNA\tNA\t1:111838694:C:T:R:wC\t.\t+\t6.35937752212173\t322.74333240842\t26498.6022797483\tInf\tInf\t0.086444832956566\n",
      "1\tNA\tNA\t1:113047064:NA:NA\t.\t+\t0.11466895070617\t915.545423110096\t990.342692631558\t0.531636965525838\t0.377689908637539\t0.109274716168586\n",
      "1\tNA\tNA\t1:119063648:C:T:R:wC\t.\t+\t-0.267643729197052\t425.509782706038\t352.474171291422\t0.914512026836881\t0.685783680494351\t0.172958174820022\n",
      "1\tNA\tNA\t1:171893999:A:T:R:wC\t.\t+\t0.595625236142614\t723.096170889478\t1094.54535686017\t7.18072564066262\t6.58072499612539\t0.110263302544157\n",
      "1\tNA\tNA\t1:180811729:NA:NA\t.\t+\t0.159631235442215\t752.975856352507\t840.552978397217\t0.831434132608584\t0.617441385170644\t0.110189796054746\n"
     ]
    }
   ],
   "source": [
    "head ${FD_ALEX}/GATA-MYC_Tile_K562_K562_20210130.hg38.bed"
   ]
  },
  {
   "cell_type": "code",
   "execution_count": 13,
   "metadata": {},
   "outputs": [
    {
     "name": "stdout",
     "output_type": "stream",
     "text": [
      "chrX\t47786401\t47786600\tX:47786401-47786600\t.\t+\t2.30593934460149\t2117.78684083014\t10474.868702612\t112.11265261617\t110.931130790033\t0.102147903305184\n",
      "chrX\t47786451\t47786650\tX:47786451-47786650\t.\t+\t0.783056057422144\t1386.00739237509\t2387.11896574661\t11.3173883956403\t10.6425168461249\t0.113307047070907\n",
      "chrX\t47786501\t47786700\tX:47786501-47786700\t.\t+\t-0.128731962724311\t1955.62553108109\t1788.23614005802\t0.845069660219201\t0.628722618349189\t0.0878596785422427\n",
      "chrX\t47786551\t47786750\tX:47786551-47786750\t.\t+\t0.588295148181817\t2388.99664261419\t3591.26381774846\t11.2404554080035\t10.5666788666818\t0.0854366059937647\n",
      "chrX\t47786601\t47786800\tX:47786601-47786800\t.\t+\t0.0667001449192146\t2102.91633517956\t2202.38454860936\t0.309589962802377\t0.21047015199996\t0.096677408925751\n",
      "chrX\t47786651\t47786850\tX:47786651-47786850\t.\t+\t-0.0296770285855712\t1571.25883312174\t1537.47500511577\t0.10093990529751\t0.0645309864135248\t0.11287405577848\n",
      "chrX\t47786701\t47786900\tX:47786701-47786900\t.\t+\t-0.14075229487499\t1203.48578659625\t1091.84377528483\t0.825108335723858\t0.612237990840887\t0.0976771932403185\n",
      "chrX\t47786751\t47786950\tX:47786751-47786950\t.\t+\t-0.0885922350756983\t353.512101989425\t332.442633189546\t0.253160744492879\t0.1696398049799\t0.151330371648385\n",
      "chrX\t47786801\t47787000\tX:47786801-47787000\t.\t+\t0.0391523438172218\t579.598940974745\t594.330606996562\t0.0990177524483432\t0.0632252218092235\t0.151540085938414\n",
      "chrX\t47786851\t47787050\tX:47786851-47787050\t.\t+\t-0.180031837594759\t1441.753500779\t1272.18932724085\t0.993521192614518\t0.751361305586954\t0.109935692261477\n"
     ]
    }
   ],
   "source": [
    "head ${FD_ALEX}/GATA-MYC_Tile_K562_K562_20210130.hg38.cleaned.GATA1.bed"
   ]
  },
  {
   "cell_type": "code",
   "execution_count": null,
   "metadata": {},
   "outputs": [],
   "source": []
  }
 ],
 "metadata": {
  "kernelspec": {
   "display_name": "Bash",
   "language": "bash",
   "name": "bash"
  },
  "language_info": {
   "codemirror_mode": "shell",
   "file_extension": ".sh",
   "mimetype": "text/x-sh",
   "name": "bash"
  }
 },
 "nbformat": 4,
 "nbformat_minor": 4
}
