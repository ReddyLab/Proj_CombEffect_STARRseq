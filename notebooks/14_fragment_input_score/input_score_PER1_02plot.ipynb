{
 "cells": [
  {
   "cell_type": "code",
   "execution_count": 2,
   "metadata": {},
   "outputs": [
    {
     "name": "stdout",
     "output_type": "stream",
     "text": [
      "You are in singularity_proj_combeffect \n",
      "BASE DIRECTORY:     /mount/work \n",
      "PATH OF SOURCE:     /mount/work/source \n",
      "PATH OF EXECUTABLE: /mount/work/exe \n",
      "PATH OF ANNOTATION: /mount/work/annotation \n",
      "PATH OF PROJECT:    /mount/project \n",
      "PATH OF RESULTS:    /mount/work/out/proj_combeffect \n"
     ]
    }
   ],
   "source": [
    "suppressMessages(source(\"../config_sing.R\"))"
   ]
  },
  {
   "cell_type": "code",
   "execution_count": 3,
   "metadata": {},
   "outputs": [],
   "source": [
    "fdiry = file.path(FD_RES, \"input_score\", \"Input1_20x\")\n",
    "fname = \"target_PER1_f50_Input1_20x.bed.gz\"\n",
    "fpath = file.path(fdiry, fname)"
   ]
  },
  {
   "cell_type": "code",
   "execution_count": 10,
   "metadata": {},
   "outputs": [
    {
     "name": "stderr",
     "output_type": "stream",
     "text": [
      "\u001b[1mRows: \u001b[22m\u001b[34m4428\u001b[39m \u001b[1mColumns: \u001b[22m\u001b[34m4\u001b[39m\n",
      "\n",
      "\u001b[36m──\u001b[39m \u001b[1mColumn specification\u001b[22m \u001b[36m─────────────────────────────────────────────────────────────────────────────────\u001b[39m\n",
      "\u001b[1mDelimiter:\u001b[22m \"\\t\"\n",
      "\u001b[31mchr\u001b[39m (1): Chrom\n",
      "\u001b[32mdbl\u001b[39m (3): Start, End, Count\n",
      "\n",
      "\n",
      "\u001b[36mℹ\u001b[39m Use \u001b[30m\u001b[47m\u001b[30m\u001b[47m`spec()`\u001b[47m\u001b[30m\u001b[49m\u001b[39m to retrieve the full column specification for this data.\n",
      "\u001b[36mℹ\u001b[39m Specify the column types or set \u001b[30m\u001b[47m\u001b[30m\u001b[47m`show_col_types = FALSE`\u001b[47m\u001b[30m\u001b[49m\u001b[39m to quiet this message.\n",
      "\n"
     ]
    },
    {
     "data": {
      "text/html": [
       "<table class=\"dataframe\">\n",
       "<caption>A tibble: 6 × 4</caption>\n",
       "<thead>\n",
       "\t<tr><th scope=col>Chrom</th><th scope=col>Start</th><th scope=col>End</th><th scope=col>Count</th></tr>\n",
       "\t<tr><th scope=col>&lt;chr&gt;</th><th scope=col>&lt;dbl&gt;</th><th scope=col>&lt;dbl&gt;</th><th scope=col>&lt;dbl&gt;</th></tr>\n",
       "</thead>\n",
       "<tbody>\n",
       "\t<tr><td>chr17</td><td>8148003</td><td>8148983</td><td>353</td></tr>\n",
       "\t<tr><td>chr17</td><td>8148003</td><td>8148983</td><td>353</td></tr>\n",
       "\t<tr><td>chr17</td><td>8148003</td><td>8148983</td><td>353</td></tr>\n",
       "\t<tr><td>chr17</td><td>8148004</td><td>8148963</td><td>356</td></tr>\n",
       "\t<tr><td>chr17</td><td>8148004</td><td>8148962</td><td>361</td></tr>\n",
       "\t<tr><td>chr17</td><td>8148004</td><td>8148925</td><td>381</td></tr>\n",
       "</tbody>\n",
       "</table>\n"
      ],
      "text/latex": [
       "A tibble: 6 × 4\n",
       "\\begin{tabular}{llll}\n",
       " Chrom & Start & End & Count\\\\\n",
       " <chr> & <dbl> & <dbl> & <dbl>\\\\\n",
       "\\hline\n",
       "\t chr17 & 8148003 & 8148983 & 353\\\\\n",
       "\t chr17 & 8148003 & 8148983 & 353\\\\\n",
       "\t chr17 & 8148003 & 8148983 & 353\\\\\n",
       "\t chr17 & 8148004 & 8148963 & 356\\\\\n",
       "\t chr17 & 8148004 & 8148962 & 361\\\\\n",
       "\t chr17 & 8148004 & 8148925 & 381\\\\\n",
       "\\end{tabular}\n"
      ],
      "text/markdown": [
       "\n",
       "A tibble: 6 × 4\n",
       "\n",
       "| Chrom &lt;chr&gt; | Start &lt;dbl&gt; | End &lt;dbl&gt; | Count &lt;dbl&gt; |\n",
       "|---|---|---|---|\n",
       "| chr17 | 8148003 | 8148983 | 353 |\n",
       "| chr17 | 8148003 | 8148983 | 353 |\n",
       "| chr17 | 8148003 | 8148983 | 353 |\n",
       "| chr17 | 8148004 | 8148963 | 356 |\n",
       "| chr17 | 8148004 | 8148962 | 361 |\n",
       "| chr17 | 8148004 | 8148925 | 381 |\n",
       "\n"
      ],
      "text/plain": [
       "  Chrom Start   End     Count\n",
       "1 chr17 8148003 8148983 353  \n",
       "2 chr17 8148003 8148983 353  \n",
       "3 chr17 8148003 8148983 353  \n",
       "4 chr17 8148004 8148963 356  \n",
       "5 chr17 8148004 8148962 361  \n",
       "6 chr17 8148004 8148925 381  "
      ]
     },
     "metadata": {},
     "output_type": "display_data"
    }
   ],
   "source": [
    "dat = read_tsv(fpath, col_names = c(\"Chrom\", \"Start\", \"End\", \"Count\"))\n",
    "head(dat)"
   ]
  },
  {
   "cell_type": "code",
   "execution_count": 11,
   "metadata": {},
   "outputs": [
    {
     "data": {
      "text/html": [
       "<table class=\"dataframe\">\n",
       "<caption>A tibble: 6 × 5</caption>\n",
       "<thead>\n",
       "\t<tr><th scope=col>Chrom</th><th scope=col>Start</th><th scope=col>End</th><th scope=col>Count</th><th scope=col>Mid</th></tr>\n",
       "\t<tr><th scope=col>&lt;chr&gt;</th><th scope=col>&lt;dbl&gt;</th><th scope=col>&lt;dbl&gt;</th><th scope=col>&lt;dbl&gt;</th><th scope=col>&lt;dbl&gt;</th></tr>\n",
       "</thead>\n",
       "<tbody>\n",
       "\t<tr><td>chr17</td><td>8148003</td><td>8148983</td><td>353</td><td>8148493</td></tr>\n",
       "\t<tr><td>chr17</td><td>8148004</td><td>8148963</td><td>356</td><td>8148484</td></tr>\n",
       "\t<tr><td>chr17</td><td>8148004</td><td>8148962</td><td>361</td><td>8148483</td></tr>\n",
       "\t<tr><td>chr17</td><td>8148004</td><td>8148925</td><td>381</td><td>8148464</td></tr>\n",
       "\t<tr><td>chr17</td><td>8148005</td><td>8149014</td><td>339</td><td>8148510</td></tr>\n",
       "\t<tr><td>chr17</td><td>8148005</td><td>8149015</td><td>339</td><td>8148510</td></tr>\n",
       "</tbody>\n",
       "</table>\n"
      ],
      "text/latex": [
       "A tibble: 6 × 5\n",
       "\\begin{tabular}{lllll}\n",
       " Chrom & Start & End & Count & Mid\\\\\n",
       " <chr> & <dbl> & <dbl> & <dbl> & <dbl>\\\\\n",
       "\\hline\n",
       "\t chr17 & 8148003 & 8148983 & 353 & 8148493\\\\\n",
       "\t chr17 & 8148004 & 8148963 & 356 & 8148484\\\\\n",
       "\t chr17 & 8148004 & 8148962 & 361 & 8148483\\\\\n",
       "\t chr17 & 8148004 & 8148925 & 381 & 8148464\\\\\n",
       "\t chr17 & 8148005 & 8149014 & 339 & 8148510\\\\\n",
       "\t chr17 & 8148005 & 8149015 & 339 & 8148510\\\\\n",
       "\\end{tabular}\n"
      ],
      "text/markdown": [
       "\n",
       "A tibble: 6 × 5\n",
       "\n",
       "| Chrom &lt;chr&gt; | Start &lt;dbl&gt; | End &lt;dbl&gt; | Count &lt;dbl&gt; | Mid &lt;dbl&gt; |\n",
       "|---|---|---|---|---|\n",
       "| chr17 | 8148003 | 8148983 | 353 | 8148493 |\n",
       "| chr17 | 8148004 | 8148963 | 356 | 8148484 |\n",
       "| chr17 | 8148004 | 8148962 | 361 | 8148483 |\n",
       "| chr17 | 8148004 | 8148925 | 381 | 8148464 |\n",
       "| chr17 | 8148005 | 8149014 | 339 | 8148510 |\n",
       "| chr17 | 8148005 | 8149015 | 339 | 8148510 |\n",
       "\n"
      ],
      "text/plain": [
       "  Chrom Start   End     Count Mid    \n",
       "1 chr17 8148003 8148983 353   8148493\n",
       "2 chr17 8148004 8148963 356   8148484\n",
       "3 chr17 8148004 8148962 361   8148483\n",
       "4 chr17 8148004 8148925 381   8148464\n",
       "5 chr17 8148005 8149014 339   8148510\n",
       "6 chr17 8148005 8149015 339   8148510"
      ]
     },
     "metadata": {},
     "output_type": "display_data"
    }
   ],
   "source": [
    "tmp = dat %>% mutate(Mid = (End + Start) / 2) %>% distinct()\n",
    "head(tmp)"
   ]
  },
  {
   "cell_type": "code",
   "execution_count": 14,
   "metadata": {},
   "outputs": [
    {
     "data": {
      "image/png": "[encoded data removed]",
      "text/plain": [
       "plot without title"
      ]
     },
     "metadata": {
      "image/png": {
       "height": 180,
       "width": 300
      }
     },
     "output_type": "display_data"
    }
   ],
   "source": [
    "options(repr.plot.height=3, repr.plot.width=5)\n",
    "gpt = ggplot(tmp, aes(x=Mid, y=Count)) + geom_point(size=1) + theme_bw()\n",
    "print(gpt)"
   ]
  },
  {
   "cell_type": "code",
   "execution_count": null,
   "metadata": {},
   "outputs": [],
   "source": []
  }
 ],
 "metadata": {
  "kernelspec": {
   "display_name": "R",
   "language": "R",
   "name": "ir"
  },
  "language_info": {
   "codemirror_mode": "r",
   "file_extension": ".r",
   "mimetype": "text/x-r-source",
   "name": "R",
   "pygments_lexer": "r",
   "version": "4.1.2"
  }
 },
 "nbformat": 4,
 "nbformat_minor": 4
}
