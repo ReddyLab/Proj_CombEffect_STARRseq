{
 "cells": [
  {
   "cell_type": "markdown",
   "metadata": {},
   "source": [
    "**Set environment**"
   ]
  },
  {
   "cell_type": "code",
   "execution_count": 1,
   "metadata": {},
   "outputs": [
    {
     "name": "stdout",
     "output_type": "stream",
     "text": [
      "You are in singularity_proj_combeffect \n",
      "BASE DIRECTORY:     /mount/work \n",
      "PATH OF SOURCE:     /mount/work/source \n",
      "PATH OF EXECUTABLE: /mount/work/exe \n",
      "PATH OF ANNOTATION: /mount/work/annotation \n",
      "PATH OF PROJECT:    /mount/project \n",
      "PATH OF RESULTS:    /mount/work/out/proj_combeffect \n"
     ]
    }
   ],
   "source": [
    "suppressMessages(source(\"../config_sing.R\"))"
   ]
  },
  {
   "cell_type": "markdown",
   "metadata": {},
   "source": [
    "## Import library size"
   ]
  },
  {
   "cell_type": "code",
   "execution_count": 2,
   "metadata": {},
   "outputs": [
    {
     "data": {
      "text/html": [
       "<table class=\"dataframe\">\n",
       "<caption>A tibble: 6 × 3</caption>\n",
       "<thead>\n",
       "\t<tr><th scope=col>Sample</th><th scope=col>Group</th><th scope=col>Size</th></tr>\n",
       "\t<tr><th scope=col>&lt;chr&gt;</th><th scope=col>&lt;chr&gt;</th><th scope=col>&lt;dbl&gt;</th></tr>\n",
       "</thead>\n",
       "<tbody>\n",
       "\t<tr><td>Input1_20x</td><td>Input_20x</td><td>371718546</td></tr>\n",
       "\t<tr><td>Input1    </td><td>Input    </td><td> 18666630</td></tr>\n",
       "\t<tr><td>Input2_20x</td><td>Input_20x</td><td>347635732</td></tr>\n",
       "\t<tr><td>Input2    </td><td>Input    </td><td> 20167924</td></tr>\n",
       "\t<tr><td>Input3_20x</td><td>Input_20x</td><td>349994051</td></tr>\n",
       "\t<tr><td>Input3    </td><td>Input    </td><td> 23280988</td></tr>\n",
       "</tbody>\n",
       "</table>\n"
      ],
      "text/latex": [
       "A tibble: 6 × 3\n",
       "\\begin{tabular}{lll}\n",
       " Sample & Group & Size\\\\\n",
       " <chr> & <chr> & <dbl>\\\\\n",
       "\\hline\n",
       "\t Input1\\_20x & Input\\_20x & 371718546\\\\\n",
       "\t Input1     & Input     &  18666630\\\\\n",
       "\t Input2\\_20x & Input\\_20x & 347635732\\\\\n",
       "\t Input2     & Input     &  20167924\\\\\n",
       "\t Input3\\_20x & Input\\_20x & 349994051\\\\\n",
       "\t Input3     & Input     &  23280988\\\\\n",
       "\\end{tabular}\n"
      ],
      "text/markdown": [
       "\n",
       "A tibble: 6 × 3\n",
       "\n",
       "| Sample &lt;chr&gt; | Group &lt;chr&gt; | Size &lt;dbl&gt; |\n",
       "|---|---|---|\n",
       "| Input1_20x | Input_20x | 371718546 |\n",
       "| Input1     | Input     |  18666630 |\n",
       "| Input2_20x | Input_20x | 347635732 |\n",
       "| Input2     | Input     |  20167924 |\n",
       "| Input3_20x | Input_20x | 349994051 |\n",
       "| Input3     | Input     |  23280988 |\n",
       "\n"
      ],
      "text/plain": [
       "  Sample     Group     Size     \n",
       "1 Input1_20x Input_20x 371718546\n",
       "2 Input1     Input      18666630\n",
       "3 Input2_20x Input_20x 347635732\n",
       "4 Input2     Input      20167924\n",
       "5 Input3_20x Input_20x 349994051\n",
       "6 Input3     Input      23280988"
      ]
     },
     "metadata": {},
     "output_type": "display_data"
    }
   ],
   "source": [
    "fdiry = file.path(FD_RES, \"source\")\n",
    "fname = \"library_size.tsv\"\n",
    "fpath = file.path(fdiry, fname)\n",
    "\n",
    "dat_lib = read_tsv(fpath, show_col_types = FALSE)\n",
    "head(dat_lib)"
   ]
  },
  {
   "cell_type": "code",
   "execution_count": 5,
   "metadata": {},
   "outputs": [
    {
     "data": {
      "text/html": [
       "<style>\n",
       ".dl-inline {width: auto; margin:0; padding: 0}\n",
       ".dl-inline>dt, .dl-inline>dd {float: none; width: auto; display: inline-block}\n",
       ".dl-inline>dt::after {content: \":\\0020\"; padding-right: .5ex}\n",
       ".dl-inline>dt:not(:first-of-type) {padding-left: .5ex}\n",
       "</style><dl class=dl-inline><dt>Input1_20x</dt><dd>371718546</dd><dt>Input1</dt><dd>18666630</dd><dt>Input2_20x</dt><dd>347635732</dd><dt>Input2</dt><dd>20167924</dd><dt>Input3_20x</dt><dd>349994051</dd><dt>Input3</dt><dd>23280988</dd></dl>\n"
      ],
      "text/latex": [
       "\\begin{description*}\n",
       "\\item[Input1\\textbackslash{}\\_20x] 371718546\n",
       "\\item[Input1] 18666630\n",
       "\\item[Input2\\textbackslash{}\\_20x] 347635732\n",
       "\\item[Input2] 20167924\n",
       "\\item[Input3\\textbackslash{}\\_20x] 349994051\n",
       "\\item[Input3] 23280988\n",
       "\\end{description*}\n"
      ],
      "text/markdown": [
       "Input1_20x\n",
       ":   371718546Input1\n",
       ":   18666630Input2_20x\n",
       ":   347635732Input2\n",
       ":   20167924Input3_20x\n",
       ":   349994051Input3\n",
       ":   23280988\n",
       "\n"
      ],
      "text/plain": [
       "Input1_20x     Input1 Input2_20x     Input2 Input3_20x     Input3 \n",
       " 371718546   18666630  347635732   20167924  349994051   23280988 "
      ]
     },
     "metadata": {},
     "output_type": "display_data"
    }
   ],
   "source": [
    "vec_lib = dat_lib$Size\n",
    "names(vec_lib) = dat_lib$Sample\n",
    "head(vec_lib)"
   ]
  },
  {
   "cell_type": "code",
   "execution_count": 7,
   "metadata": {},
   "outputs": [
    {
     "data": {
      "text/html": [
       "<table class=\"dataframe\">\n",
       "<caption>A tibble: 6 × 4</caption>\n",
       "<thead>\n",
       "\t<tr><th scope=col>Chrom</th><th scope=col>Start</th><th scope=col>End</th><th scope=col>Count</th></tr>\n",
       "\t<tr><th scope=col>&lt;chr&gt;</th><th scope=col>&lt;dbl&gt;</th><th scope=col>&lt;dbl&gt;</th><th scope=col>&lt;dbl&gt;</th></tr>\n",
       "</thead>\n",
       "<tbody>\n",
       "\t<tr><td>chr17</td><td>8148117</td><td>8149012</td><td>1</td></tr>\n",
       "\t<tr><td>chr17</td><td>8148122</td><td>8149107</td><td>1</td></tr>\n",
       "\t<tr><td>chr17</td><td>8148178</td><td>8149194</td><td>1</td></tr>\n",
       "\t<tr><td>chr17</td><td>8148188</td><td>8149154</td><td>1</td></tr>\n",
       "\t<tr><td>chr17</td><td>8148190</td><td>8149151</td><td>1</td></tr>\n",
       "\t<tr><td>chr17</td><td>8148220</td><td>8149108</td><td>1</td></tr>\n",
       "</tbody>\n",
       "</table>\n"
      ],
      "text/latex": [
       "A tibble: 6 × 4\n",
       "\\begin{tabular}{llll}\n",
       " Chrom & Start & End & Count\\\\\n",
       " <chr> & <dbl> & <dbl> & <dbl>\\\\\n",
       "\\hline\n",
       "\t chr17 & 8148117 & 8149012 & 1\\\\\n",
       "\t chr17 & 8148122 & 8149107 & 1\\\\\n",
       "\t chr17 & 8148178 & 8149194 & 1\\\\\n",
       "\t chr17 & 8148188 & 8149154 & 1\\\\\n",
       "\t chr17 & 8148190 & 8149151 & 1\\\\\n",
       "\t chr17 & 8148220 & 8149108 & 1\\\\\n",
       "\\end{tabular}\n"
      ],
      "text/markdown": [
       "\n",
       "A tibble: 6 × 4\n",
       "\n",
       "| Chrom &lt;chr&gt; | Start &lt;dbl&gt; | End &lt;dbl&gt; | Count &lt;dbl&gt; |\n",
       "|---|---|---|---|\n",
       "| chr17 | 8148117 | 8149012 | 1 |\n",
       "| chr17 | 8148122 | 8149107 | 1 |\n",
       "| chr17 | 8148178 | 8149194 | 1 |\n",
       "| chr17 | 8148188 | 8149154 | 1 |\n",
       "| chr17 | 8148190 | 8149151 | 1 |\n",
       "| chr17 | 8148220 | 8149108 | 1 |\n",
       "\n"
      ],
      "text/plain": [
       "  Chrom Start   End     Count\n",
       "1 chr17 8148117 8149012 1    \n",
       "2 chr17 8148122 8149107 1    \n",
       "3 chr17 8148178 8149194 1    \n",
       "4 chr17 8148188 8149154 1    \n",
       "5 chr17 8148190 8149151 1    \n",
       "6 chr17 8148220 8149108 1    "
      ]
     },
     "metadata": {},
     "output_type": "display_data"
    }
   ],
   "source": [
    "ctypes = c(col_character(), col_integer(), col_integer(), col_integer())\n",
    "cnames = c(\"Chrom\", \"Start\", \"End\", \"Count\")\n",
    "\n",
    "fdiry = file.path(FD_RES, \"count_fragment\", \"Input1\")\n",
    "fname = \"target_PER1.bed.gz\"\n",
    "fpath = file.path(fdiry, fname)\n",
    "\n",
    "dat_inp = read_tsv(fpath, col_types = ctypes, col_names = cnames)\n",
    "head(dat_inp)"
   ]
  },
  {
   "cell_type": "code",
   "execution_count": 4,
   "metadata": {},
   "outputs": [
    {
     "data": {
      "text/html": [
       "<table class=\"dataframe\">\n",
       "<caption>A tibble: 6 × 3</caption>\n",
       "<thead>\n",
       "\t<tr><th scope=col>Chrom</th><th scope=col>Loc</th><th scope=col>Depth</th></tr>\n",
       "\t<tr><th scope=col>&lt;chr&gt;</th><th scope=col>&lt;dbl&gt;</th><th scope=col>&lt;dbl&gt;</th></tr>\n",
       "</thead>\n",
       "<tbody>\n",
       "\t<tr><td>chr17</td><td>8148000</td><td>501</td></tr>\n",
       "\t<tr><td>chr17</td><td>8148001</td><td>501</td></tr>\n",
       "\t<tr><td>chr17</td><td>8148002</td><td>500</td></tr>\n",
       "\t<tr><td>chr17</td><td>8148003</td><td>492</td></tr>\n",
       "\t<tr><td>chr17</td><td>8148004</td><td>495</td></tr>\n",
       "\t<tr><td>chr17</td><td>8148005</td><td>497</td></tr>\n",
       "</tbody>\n",
       "</table>\n"
      ],
      "text/latex": [
       "A tibble: 6 × 3\n",
       "\\begin{tabular}{lll}\n",
       " Chrom & Loc & Depth\\\\\n",
       " <chr> & <dbl> & <dbl>\\\\\n",
       "\\hline\n",
       "\t chr17 & 8148000 & 501\\\\\n",
       "\t chr17 & 8148001 & 501\\\\\n",
       "\t chr17 & 8148002 & 500\\\\\n",
       "\t chr17 & 8148003 & 492\\\\\n",
       "\t chr17 & 8148004 & 495\\\\\n",
       "\t chr17 & 8148005 & 497\\\\\n",
       "\\end{tabular}\n"
      ],
      "text/markdown": [
       "\n",
       "A tibble: 6 × 3\n",
       "\n",
       "| Chrom &lt;chr&gt; | Loc &lt;dbl&gt; | Depth &lt;dbl&gt; |\n",
       "|---|---|---|\n",
       "| chr17 | 8148000 | 501 |\n",
       "| chr17 | 8148001 | 501 |\n",
       "| chr17 | 8148002 | 500 |\n",
       "| chr17 | 8148003 | 492 |\n",
       "| chr17 | 8148004 | 495 |\n",
       "| chr17 | 8148005 | 497 |\n",
       "\n"
      ],
      "text/plain": [
       "  Chrom Loc     Depth\n",
       "1 chr17 8148000 501  \n",
       "2 chr17 8148001 501  \n",
       "3 chr17 8148002 500  \n",
       "4 chr17 8148003 492  \n",
       "5 chr17 8148004 495  \n",
       "6 chr17 8148005 497  "
      ]
     },
     "metadata": {},
     "output_type": "display_data"
    }
   ],
   "source": [
    "ctypes = c(col_character(), col_integer(), col_integer())\n",
    "cnames = c(\"Chrom\", \"Loc\", \"Depth\")\n",
    "\n",
    "fdiry = file.path(FD_RES, \"coverage\", \"target_PER1\")\n",
    "fname = \"Input1_20x_perbase.txt\"\n",
    "fpath = file.path(fdiry, fname)\n",
    "\n",
    "dat_inp = read_tsv(fpath, col_types = ctypes, col_names = cnames)\n",
    "head(dat_inp)"
   ]
  },
  {
   "cell_type": "code",
   "execution_count": 6,
   "metadata": {},
   "outputs": [
    {
     "data": {
      "text/html": [
       "<strong>Input1_20x:</strong> 371718546"
      ],
      "text/latex": [
       "\\textbf{Input1\\textbackslash{}\\_20x:} 371718546"
      ],
      "text/markdown": [
       "**Input1_20x:** 371718546"
      ],
      "text/plain": [
       "Input1_20x \n",
       " 371718546 "
      ]
     },
     "metadata": {},
     "output_type": "display_data"
    }
   ],
   "source": [
    "vec_lib[\"Input1_20x\"]"
   ]
  },
  {
   "cell_type": "code",
   "execution_count": 26,
   "metadata": {},
   "outputs": [
    {
     "data": {
      "text/html": [
       "<table class=\"dataframe\">\n",
       "<caption>A tibble: 6 × 4</caption>\n",
       "<thead>\n",
       "\t<tr><th scope=col>Chrom</th><th scope=col>Loc</th><th scope=col>Depth</th><th scope=col>Depth_Norm</th></tr>\n",
       "\t<tr><th scope=col>&lt;chr&gt;</th><th scope=col>&lt;dbl&gt;</th><th scope=col>&lt;dbl&gt;</th><th scope=col>&lt;dbl&gt;</th></tr>\n",
       "</thead>\n",
       "<tbody>\n",
       "\t<tr><td>chr17</td><td>8148000</td><td>501</td><td>-19.50097</td></tr>\n",
       "\t<tr><td>chr17</td><td>8148001</td><td>501</td><td>-19.50097</td></tr>\n",
       "\t<tr><td>chr17</td><td>8148002</td><td>500</td><td>-19.50385</td></tr>\n",
       "\t<tr><td>chr17</td><td>8148003</td><td>492</td><td>-19.52712</td></tr>\n",
       "\t<tr><td>chr17</td><td>8148004</td><td>495</td><td>-19.51835</td></tr>\n",
       "\t<tr><td>chr17</td><td>8148005</td><td>497</td><td>-19.51253</td></tr>\n",
       "</tbody>\n",
       "</table>\n"
      ],
      "text/latex": [
       "A tibble: 6 × 4\n",
       "\\begin{tabular}{llll}\n",
       " Chrom & Loc & Depth & Depth\\_Norm\\\\\n",
       " <chr> & <dbl> & <dbl> & <dbl>\\\\\n",
       "\\hline\n",
       "\t chr17 & 8148000 & 501 & -19.50097\\\\\n",
       "\t chr17 & 8148001 & 501 & -19.50097\\\\\n",
       "\t chr17 & 8148002 & 500 & -19.50385\\\\\n",
       "\t chr17 & 8148003 & 492 & -19.52712\\\\\n",
       "\t chr17 & 8148004 & 495 & -19.51835\\\\\n",
       "\t chr17 & 8148005 & 497 & -19.51253\\\\\n",
       "\\end{tabular}\n"
      ],
      "text/markdown": [
       "\n",
       "A tibble: 6 × 4\n",
       "\n",
       "| Chrom &lt;chr&gt; | Loc &lt;dbl&gt; | Depth &lt;dbl&gt; | Depth_Norm &lt;dbl&gt; |\n",
       "|---|---|---|---|\n",
       "| chr17 | 8148000 | 501 | -19.50097 |\n",
       "| chr17 | 8148001 | 501 | -19.50097 |\n",
       "| chr17 | 8148002 | 500 | -19.50385 |\n",
       "| chr17 | 8148003 | 492 | -19.52712 |\n",
       "| chr17 | 8148004 | 495 | -19.51835 |\n",
       "| chr17 | 8148005 | 497 | -19.51253 |\n",
       "\n"
      ],
      "text/plain": [
       "  Chrom Loc     Depth Depth_Norm\n",
       "1 chr17 8148000 501   -19.50097 \n",
       "2 chr17 8148001 501   -19.50097 \n",
       "3 chr17 8148002 500   -19.50385 \n",
       "4 chr17 8148003 492   -19.52712 \n",
       "5 chr17 8148004 495   -19.51835 \n",
       "6 chr17 8148005 497   -19.51253 "
      ]
     },
     "metadata": {},
     "output_type": "display_data"
    }
   ],
   "source": [
    "dat = dat_inp\n",
    "dat = dat %>% mutate(Depth_Norm = log2(Depth) - log2(vec_lib[\"Input1_20x\"]))\n",
    "head(dat)"
   ]
  },
  {
   "cell_type": "code",
   "execution_count": 27,
   "metadata": {},
   "outputs": [
    {
     "data": {
      "image/png": "[encoded data removed]",
      "text/plain": [
       "plot without title"
      ]
     },
     "metadata": {
      "image/png": {
       "height": 180,
       "width": 300
      }
     },
     "output_type": "display_data"
    }
   ],
   "source": [
    "options(repr.plot.height=3, repr.plot.width=5)\n",
    "gpt = ggplot(dat, aes(x=Loc, y=Depth_Norm)) + geom_line() + theme_bw()\n",
    "print(gpt)"
   ]
  },
  {
   "cell_type": "markdown",
   "metadata": {},
   "source": [
    "## Input score (Input1_20x:Input1_20x)"
   ]
  },
  {
   "cell_type": "code",
   "execution_count": 11,
   "metadata": {},
   "outputs": [
    {
     "data": {
      "text/html": [
       "<table class=\"dataframe\">\n",
       "<caption>A tibble: 6 × 5</caption>\n",
       "<thead>\n",
       "\t<tr><th scope=col>Chrom</th><th scope=col>Start</th><th scope=col>End</th><th scope=col>Count</th><th scope=col>Score</th></tr>\n",
       "\t<tr><th scope=col>&lt;chr&gt;</th><th scope=col>&lt;dbl&gt;</th><th scope=col>&lt;dbl&gt;</th><th scope=col>&lt;dbl&gt;</th><th scope=col>&lt;dbl&gt;</th></tr>\n",
       "</thead>\n",
       "<tbody>\n",
       "\t<tr><td>chr17</td><td>8148003</td><td>8148983</td><td>3</td><td>353</td></tr>\n",
       "\t<tr><td>chr17</td><td>8148004</td><td>8148925</td><td>1</td><td>381</td></tr>\n",
       "\t<tr><td>chr17</td><td>8148004</td><td>8148962</td><td>1</td><td>361</td></tr>\n",
       "\t<tr><td>chr17</td><td>8148004</td><td>8148963</td><td>1</td><td>356</td></tr>\n",
       "\t<tr><td>chr17</td><td>8148005</td><td>8149014</td><td>1</td><td>339</td></tr>\n",
       "\t<tr><td>chr17</td><td>8148005</td><td>8149015</td><td>1</td><td>339</td></tr>\n",
       "</tbody>\n",
       "</table>\n"
      ],
      "text/latex": [
       "A tibble: 6 × 5\n",
       "\\begin{tabular}{lllll}\n",
       " Chrom & Start & End & Count & Score\\\\\n",
       " <chr> & <dbl> & <dbl> & <dbl> & <dbl>\\\\\n",
       "\\hline\n",
       "\t chr17 & 8148003 & 8148983 & 3 & 353\\\\\n",
       "\t chr17 & 8148004 & 8148925 & 1 & 381\\\\\n",
       "\t chr17 & 8148004 & 8148962 & 1 & 361\\\\\n",
       "\t chr17 & 8148004 & 8148963 & 1 & 356\\\\\n",
       "\t chr17 & 8148005 & 8149014 & 1 & 339\\\\\n",
       "\t chr17 & 8148005 & 8149015 & 1 & 339\\\\\n",
       "\\end{tabular}\n"
      ],
      "text/markdown": [
       "\n",
       "A tibble: 6 × 5\n",
       "\n",
       "| Chrom &lt;chr&gt; | Start &lt;dbl&gt; | End &lt;dbl&gt; | Count &lt;dbl&gt; | Score &lt;dbl&gt; |\n",
       "|---|---|---|---|---|\n",
       "| chr17 | 8148003 | 8148983 | 3 | 353 |\n",
       "| chr17 | 8148004 | 8148925 | 1 | 381 |\n",
       "| chr17 | 8148004 | 8148962 | 1 | 361 |\n",
       "| chr17 | 8148004 | 8148963 | 1 | 356 |\n",
       "| chr17 | 8148005 | 8149014 | 1 | 339 |\n",
       "| chr17 | 8148005 | 8149015 | 1 | 339 |\n",
       "\n"
      ],
      "text/plain": [
       "  Chrom Start   End     Count Score\n",
       "1 chr17 8148003 8148983 3     353  \n",
       "2 chr17 8148004 8148925 1     381  \n",
       "3 chr17 8148004 8148962 1     361  \n",
       "4 chr17 8148004 8148963 1     356  \n",
       "5 chr17 8148005 8149014 1     339  \n",
       "6 chr17 8148005 8149015 1     339  "
      ]
     },
     "metadata": {},
     "output_type": "display_data"
    }
   ],
   "source": [
    "fdiry = file.path(FD_RES, \"input_score\", \"Input1_20x\")\n",
    "fname = \"target_PER1_f50_Input1_20x.bed.gz\"\n",
    "fpath = file.path(fdiry, fname)\n",
    "dat_isc_inp1_f50 = read_tsv(fpath, col_names = c(\"Chrom\", \"Start\", \"End\", \"Count\", \"Score\"), show_col_types = FALSE)\n",
    "head(dat_isc_inp1_f50)"
   ]
  },
  {
   "cell_type": "code",
   "execution_count": 23,
   "metadata": {},
   "outputs": [
    {
     "data": {
      "text/html": [
       "<table class=\"dataframe\">\n",
       "<caption>A tibble: 6 × 7</caption>\n",
       "<thead>\n",
       "\t<tr><th scope=col>Chrom</th><th scope=col>Start</th><th scope=col>End</th><th scope=col>Count</th><th scope=col>Score</th><th scope=col>Loc</th><th scope=col>Score_Norm</th></tr>\n",
       "\t<tr><th scope=col>&lt;chr&gt;</th><th scope=col>&lt;dbl&gt;</th><th scope=col>&lt;dbl&gt;</th><th scope=col>&lt;dbl&gt;</th><th scope=col>&lt;dbl&gt;</th><th scope=col>&lt;dbl&gt;</th><th scope=col>&lt;dbl&gt;</th></tr>\n",
       "</thead>\n",
       "<tbody>\n",
       "\t<tr><td>chr17</td><td>8148003</td><td>8148983</td><td>3</td><td>353</td><td>8148493</td><td>-20.00611</td></tr>\n",
       "\t<tr><td>chr17</td><td>8148004</td><td>8148925</td><td>1</td><td>381</td><td>8148464</td><td>-19.89599</td></tr>\n",
       "\t<tr><td>chr17</td><td>8148004</td><td>8148962</td><td>1</td><td>361</td><td>8148483</td><td>-19.97378</td></tr>\n",
       "\t<tr><td>chr17</td><td>8148004</td><td>8148963</td><td>1</td><td>356</td><td>8148484</td><td>-19.99390</td></tr>\n",
       "\t<tr><td>chr17</td><td>8148005</td><td>8149014</td><td>1</td><td>339</td><td>8148510</td><td>-20.06449</td></tr>\n",
       "\t<tr><td>chr17</td><td>8148005</td><td>8149015</td><td>1</td><td>339</td><td>8148510</td><td>-20.06449</td></tr>\n",
       "</tbody>\n",
       "</table>\n"
      ],
      "text/latex": [
       "A tibble: 6 × 7\n",
       "\\begin{tabular}{lllllll}\n",
       " Chrom & Start & End & Count & Score & Loc & Score\\_Norm\\\\\n",
       " <chr> & <dbl> & <dbl> & <dbl> & <dbl> & <dbl> & <dbl>\\\\\n",
       "\\hline\n",
       "\t chr17 & 8148003 & 8148983 & 3 & 353 & 8148493 & -20.00611\\\\\n",
       "\t chr17 & 8148004 & 8148925 & 1 & 381 & 8148464 & -19.89599\\\\\n",
       "\t chr17 & 8148004 & 8148962 & 1 & 361 & 8148483 & -19.97378\\\\\n",
       "\t chr17 & 8148004 & 8148963 & 1 & 356 & 8148484 & -19.99390\\\\\n",
       "\t chr17 & 8148005 & 8149014 & 1 & 339 & 8148510 & -20.06449\\\\\n",
       "\t chr17 & 8148005 & 8149015 & 1 & 339 & 8148510 & -20.06449\\\\\n",
       "\\end{tabular}\n"
      ],
      "text/markdown": [
       "\n",
       "A tibble: 6 × 7\n",
       "\n",
       "| Chrom &lt;chr&gt; | Start &lt;dbl&gt; | End &lt;dbl&gt; | Count &lt;dbl&gt; | Score &lt;dbl&gt; | Loc &lt;dbl&gt; | Score_Norm &lt;dbl&gt; |\n",
       "|---|---|---|---|---|---|---|\n",
       "| chr17 | 8148003 | 8148983 | 3 | 353 | 8148493 | -20.00611 |\n",
       "| chr17 | 8148004 | 8148925 | 1 | 381 | 8148464 | -19.89599 |\n",
       "| chr17 | 8148004 | 8148962 | 1 | 361 | 8148483 | -19.97378 |\n",
       "| chr17 | 8148004 | 8148963 | 1 | 356 | 8148484 | -19.99390 |\n",
       "| chr17 | 8148005 | 8149014 | 1 | 339 | 8148510 | -20.06449 |\n",
       "| chr17 | 8148005 | 8149015 | 1 | 339 | 8148510 | -20.06449 |\n",
       "\n"
      ],
      "text/plain": [
       "  Chrom Start   End     Count Score Loc     Score_Norm\n",
       "1 chr17 8148003 8148983 3     353   8148493 -20.00611 \n",
       "2 chr17 8148004 8148925 1     381   8148464 -19.89599 \n",
       "3 chr17 8148004 8148962 1     361   8148483 -19.97378 \n",
       "4 chr17 8148004 8148963 1     356   8148484 -19.99390 \n",
       "5 chr17 8148005 8149014 1     339   8148510 -20.06449 \n",
       "6 chr17 8148005 8149015 1     339   8148510 -20.06449 "
      ]
     },
     "metadata": {},
     "output_type": "display_data"
    }
   ],
   "source": [
    "dat = dat_isc_inp1_f50\n",
    "dat = dat %>% mutate(\n",
    "    Loc = (Start + End) / 2, \n",
    "    Score_Norm = log2(Score) - log2(vec_lib[\"Input1_20x\"]))\n",
    "head(dat)"
   ]
  },
  {
   "cell_type": "code",
   "execution_count": 24,
   "metadata": {},
   "outputs": [
    {
     "data": {
      "image/png": "[encoded data removed]",
      "text/plain": [
       "plot without title"
      ]
     },
     "metadata": {
      "image/png": {
       "height": 180,
       "width": 300
      }
     },
     "output_type": "display_data"
    }
   ],
   "source": [
    "options(repr.plot.height=3, repr.plot.width=5)\n",
    "gpt = ggplot(dat, aes(x=Loc, y=Score_Norm)) + geom_point(size=1) + theme_bw()\n",
    "print(gpt)"
   ]
  },
  {
   "cell_type": "markdown",
   "metadata": {},
   "source": [
    "## Input score TFX2_Dex:Input1_20x)"
   ]
  },
  {
   "cell_type": "code",
   "execution_count": 17,
   "metadata": {},
   "outputs": [
    {
     "data": {
      "text/html": [
       "<table class=\"dataframe\">\n",
       "<caption>A tibble: 6 × 5</caption>\n",
       "<thead>\n",
       "\t<tr><th scope=col>Chrom</th><th scope=col>Start</th><th scope=col>End</th><th scope=col>Count</th><th scope=col>Score</th></tr>\n",
       "\t<tr><th scope=col>&lt;chr&gt;</th><th scope=col>&lt;dbl&gt;</th><th scope=col>&lt;dbl&gt;</th><th scope=col>&lt;dbl&gt;</th><th scope=col>&lt;dbl&gt;</th></tr>\n",
       "</thead>\n",
       "<tbody>\n",
       "\t<tr><td>chr17</td><td>8148000</td><td>8148888</td><td>1</td><td>398</td></tr>\n",
       "\t<tr><td>chr17</td><td>8148097</td><td>8149186</td><td>1</td><td>341</td></tr>\n",
       "\t<tr><td>chr17</td><td>8148180</td><td>8149106</td><td>1</td><td>341</td></tr>\n",
       "\t<tr><td>chr17</td><td>8148267</td><td>8149280</td><td>1</td><td>326</td></tr>\n",
       "\t<tr><td>chr17</td><td>8148267</td><td>8149281</td><td>1</td><td>326</td></tr>\n",
       "\t<tr><td>chr17</td><td>8148267</td><td>8149282</td><td>2</td><td>326</td></tr>\n",
       "</tbody>\n",
       "</table>\n"
      ],
      "text/latex": [
       "A tibble: 6 × 5\n",
       "\\begin{tabular}{lllll}\n",
       " Chrom & Start & End & Count & Score\\\\\n",
       " <chr> & <dbl> & <dbl> & <dbl> & <dbl>\\\\\n",
       "\\hline\n",
       "\t chr17 & 8148000 & 8148888 & 1 & 398\\\\\n",
       "\t chr17 & 8148097 & 8149186 & 1 & 341\\\\\n",
       "\t chr17 & 8148180 & 8149106 & 1 & 341\\\\\n",
       "\t chr17 & 8148267 & 8149280 & 1 & 326\\\\\n",
       "\t chr17 & 8148267 & 8149281 & 1 & 326\\\\\n",
       "\t chr17 & 8148267 & 8149282 & 2 & 326\\\\\n",
       "\\end{tabular}\n"
      ],
      "text/markdown": [
       "\n",
       "A tibble: 6 × 5\n",
       "\n",
       "| Chrom &lt;chr&gt; | Start &lt;dbl&gt; | End &lt;dbl&gt; | Count &lt;dbl&gt; | Score &lt;dbl&gt; |\n",
       "|---|---|---|---|---|\n",
       "| chr17 | 8148000 | 8148888 | 1 | 398 |\n",
       "| chr17 | 8148097 | 8149186 | 1 | 341 |\n",
       "| chr17 | 8148180 | 8149106 | 1 | 341 |\n",
       "| chr17 | 8148267 | 8149280 | 1 | 326 |\n",
       "| chr17 | 8148267 | 8149281 | 1 | 326 |\n",
       "| chr17 | 8148267 | 8149282 | 2 | 326 |\n",
       "\n"
      ],
      "text/plain": [
       "  Chrom Start   End     Count Score\n",
       "1 chr17 8148000 8148888 1     398  \n",
       "2 chr17 8148097 8149186 1     341  \n",
       "3 chr17 8148180 8149106 1     341  \n",
       "4 chr17 8148267 8149280 1     326  \n",
       "5 chr17 8148267 8149281 1     326  \n",
       "6 chr17 8148267 8149282 2     326  "
      ]
     },
     "metadata": {},
     "output_type": "display_data"
    }
   ],
   "source": [
    "fdiry = file.path(FD_RES, \"input_score\", \"TFX2_Dex\")\n",
    "fname = \"target_PER1_f50_Input1_20x.bed.gz\"\n",
    "fpath = file.path(fdiry, fname)\n",
    "dat_isc_dex1_f50 = read_tsv(fpath, col_names = c(\"Chrom\", \"Start\", \"End\", \"Count\", \"Score\"), show_col_types = FALSE)\n",
    "head(dat_isc_dex1_f50)"
   ]
  },
  {
   "cell_type": "code",
   "execution_count": 21,
   "metadata": {},
   "outputs": [
    {
     "data": {
      "text/html": [
       "<table class=\"dataframe\">\n",
       "<caption>A tibble: 6 × 7</caption>\n",
       "<thead>\n",
       "\t<tr><th scope=col>Chrom</th><th scope=col>Start</th><th scope=col>End</th><th scope=col>Count</th><th scope=col>Score</th><th scope=col>Loc</th><th scope=col>Score_Norm</th></tr>\n",
       "\t<tr><th scope=col>&lt;chr&gt;</th><th scope=col>&lt;dbl&gt;</th><th scope=col>&lt;dbl&gt;</th><th scope=col>&lt;dbl&gt;</th><th scope=col>&lt;dbl&gt;</th><th scope=col>&lt;dbl&gt;</th><th scope=col>&lt;dbl&gt;</th></tr>\n",
       "</thead>\n",
       "<tbody>\n",
       "\t<tr><td>chr17</td><td>8148000</td><td>8148888</td><td>1</td><td>398</td><td>8148444</td><td>-16.79999</td></tr>\n",
       "\t<tr><td>chr17</td><td>8148097</td><td>8149186</td><td>1</td><td>341</td><td>8148642</td><td>-17.02299</td></tr>\n",
       "\t<tr><td>chr17</td><td>8148180</td><td>8149106</td><td>1</td><td>341</td><td>8148643</td><td>-17.02299</td></tr>\n",
       "\t<tr><td>chr17</td><td>8148267</td><td>8149280</td><td>1</td><td>326</td><td>8148774</td><td>-17.08789</td></tr>\n",
       "\t<tr><td>chr17</td><td>8148267</td><td>8149281</td><td>1</td><td>326</td><td>8148774</td><td>-17.08789</td></tr>\n",
       "\t<tr><td>chr17</td><td>8148267</td><td>8149282</td><td>2</td><td>326</td><td>8148774</td><td>-17.08789</td></tr>\n",
       "</tbody>\n",
       "</table>\n"
      ],
      "text/latex": [
       "A tibble: 6 × 7\n",
       "\\begin{tabular}{lllllll}\n",
       " Chrom & Start & End & Count & Score & Loc & Score\\_Norm\\\\\n",
       " <chr> & <dbl> & <dbl> & <dbl> & <dbl> & <dbl> & <dbl>\\\\\n",
       "\\hline\n",
       "\t chr17 & 8148000 & 8148888 & 1 & 398 & 8148444 & -16.79999\\\\\n",
       "\t chr17 & 8148097 & 8149186 & 1 & 341 & 8148642 & -17.02299\\\\\n",
       "\t chr17 & 8148180 & 8149106 & 1 & 341 & 8148643 & -17.02299\\\\\n",
       "\t chr17 & 8148267 & 8149280 & 1 & 326 & 8148774 & -17.08789\\\\\n",
       "\t chr17 & 8148267 & 8149281 & 1 & 326 & 8148774 & -17.08789\\\\\n",
       "\t chr17 & 8148267 & 8149282 & 2 & 326 & 8148774 & -17.08789\\\\\n",
       "\\end{tabular}\n"
      ],
      "text/markdown": [
       "\n",
       "A tibble: 6 × 7\n",
       "\n",
       "| Chrom &lt;chr&gt; | Start &lt;dbl&gt; | End &lt;dbl&gt; | Count &lt;dbl&gt; | Score &lt;dbl&gt; | Loc &lt;dbl&gt; | Score_Norm &lt;dbl&gt; |\n",
       "|---|---|---|---|---|---|---|\n",
       "| chr17 | 8148000 | 8148888 | 1 | 398 | 8148444 | -16.79999 |\n",
       "| chr17 | 8148097 | 8149186 | 1 | 341 | 8148642 | -17.02299 |\n",
       "| chr17 | 8148180 | 8149106 | 1 | 341 | 8148643 | -17.02299 |\n",
       "| chr17 | 8148267 | 8149280 | 1 | 326 | 8148774 | -17.08789 |\n",
       "| chr17 | 8148267 | 8149281 | 1 | 326 | 8148774 | -17.08789 |\n",
       "| chr17 | 8148267 | 8149282 | 2 | 326 | 8148774 | -17.08789 |\n",
       "\n"
      ],
      "text/plain": [
       "  Chrom Start   End     Count Score Loc     Score_Norm\n",
       "1 chr17 8148000 8148888 1     398   8148444 -16.79999 \n",
       "2 chr17 8148097 8149186 1     341   8148642 -17.02299 \n",
       "3 chr17 8148180 8149106 1     341   8148643 -17.02299 \n",
       "4 chr17 8148267 8149280 1     326   8148774 -17.08789 \n",
       "5 chr17 8148267 8149281 1     326   8148774 -17.08789 \n",
       "6 chr17 8148267 8149282 2     326   8148774 -17.08789 "
      ]
     },
     "metadata": {},
     "output_type": "display_data"
    }
   ],
   "source": [
    "dat = dat_isc_dex1_f50\n",
    "dat = dat %>% mutate(\n",
    "    Loc = (Start + End) / 2, \n",
    "    Score_Norm = log2(Score) - log2(vec_lib[\"TFX2_Dex\"]))\n",
    "head(dat)"
   ]
  },
  {
   "cell_type": "code",
   "execution_count": 22,
   "metadata": {},
   "outputs": [
    {
     "data": {
      "image/png": "[encoded data removed]",
      "text/plain": [
       "plot without title"
      ]
     },
     "metadata": {
      "image/png": {
       "height": 180,
       "width": 300
      }
     },
     "output_type": "display_data"
    }
   ],
   "source": [
    "options(repr.plot.height=3, repr.plot.width=5)\n",
    "gpt = ggplot(dat, aes(x=Loc, y=Score_Norm)) + geom_point(size=1) + theme_bw()\n",
    "print(gpt)"
   ]
  },
  {
   "cell_type": "markdown",
   "metadata": {},
   "source": [
    "## Overlay"
   ]
  },
  {
   "cell_type": "code",
   "execution_count": 50,
   "metadata": {},
   "outputs": [
    {
     "data": {
      "text/html": [
       "<table class=\"dataframe\">\n",
       "<caption>A tibble: 6 × 9</caption>\n",
       "<thead>\n",
       "\t<tr><th scope=col>Chrom</th><th scope=col>Start</th><th scope=col>End</th><th scope=col>Count</th><th scope=col>Score</th><th scope=col>Sample</th><th scope=col>Len</th><th scope=col>Loc</th><th scope=col>Score_Norm</th></tr>\n",
       "\t<tr><th scope=col>&lt;chr&gt;</th><th scope=col>&lt;dbl&gt;</th><th scope=col>&lt;dbl&gt;</th><th scope=col>&lt;dbl&gt;</th><th scope=col>&lt;dbl&gt;</th><th scope=col>&lt;chr&gt;</th><th scope=col>&lt;dbl&gt;</th><th scope=col>&lt;dbl&gt;</th><th scope=col>&lt;dbl&gt;</th></tr>\n",
       "</thead>\n",
       "<tbody>\n",
       "\t<tr><td>chr17</td><td>8148003</td><td>8148983</td><td>3</td><td>353</td><td>Input1_20x</td><td> 980</td><td>8148493</td><td>-29.94275</td></tr>\n",
       "\t<tr><td>chr17</td><td>8148004</td><td>8148925</td><td>1</td><td>381</td><td>Input1_20x</td><td> 921</td><td>8148464</td><td>-29.74305</td></tr>\n",
       "\t<tr><td>chr17</td><td>8148004</td><td>8148962</td><td>1</td><td>361</td><td>Input1_20x</td><td> 958</td><td>8148483</td><td>-29.87766</td></tr>\n",
       "\t<tr><td>chr17</td><td>8148004</td><td>8148963</td><td>1</td><td>356</td><td>Input1_20x</td><td> 959</td><td>8148484</td><td>-29.89929</td></tr>\n",
       "\t<tr><td>chr17</td><td>8148005</td><td>8149014</td><td>1</td><td>339</td><td>Input1_20x</td><td>1009</td><td>8148510</td><td>-30.04320</td></tr>\n",
       "\t<tr><td>chr17</td><td>8148005</td><td>8149015</td><td>1</td><td>339</td><td>Input1_20x</td><td>1010</td><td>8148510</td><td>-30.04463</td></tr>\n",
       "</tbody>\n",
       "</table>\n"
      ],
      "text/latex": [
       "A tibble: 6 × 9\n",
       "\\begin{tabular}{lllllllll}\n",
       " Chrom & Start & End & Count & Score & Sample & Len & Loc & Score\\_Norm\\\\\n",
       " <chr> & <dbl> & <dbl> & <dbl> & <dbl> & <chr> & <dbl> & <dbl> & <dbl>\\\\\n",
       "\\hline\n",
       "\t chr17 & 8148003 & 8148983 & 3 & 353 & Input1\\_20x &  980 & 8148493 & -29.94275\\\\\n",
       "\t chr17 & 8148004 & 8148925 & 1 & 381 & Input1\\_20x &  921 & 8148464 & -29.74305\\\\\n",
       "\t chr17 & 8148004 & 8148962 & 1 & 361 & Input1\\_20x &  958 & 8148483 & -29.87766\\\\\n",
       "\t chr17 & 8148004 & 8148963 & 1 & 356 & Input1\\_20x &  959 & 8148484 & -29.89929\\\\\n",
       "\t chr17 & 8148005 & 8149014 & 1 & 339 & Input1\\_20x & 1009 & 8148510 & -30.04320\\\\\n",
       "\t chr17 & 8148005 & 8149015 & 1 & 339 & Input1\\_20x & 1010 & 8148510 & -30.04463\\\\\n",
       "\\end{tabular}\n"
      ],
      "text/markdown": [
       "\n",
       "A tibble: 6 × 9\n",
       "\n",
       "| Chrom &lt;chr&gt; | Start &lt;dbl&gt; | End &lt;dbl&gt; | Count &lt;dbl&gt; | Score &lt;dbl&gt; | Sample &lt;chr&gt; | Len &lt;dbl&gt; | Loc &lt;dbl&gt; | Score_Norm &lt;dbl&gt; |\n",
       "|---|---|---|---|---|---|---|---|---|\n",
       "| chr17 | 8148003 | 8148983 | 3 | 353 | Input1_20x |  980 | 8148493 | -29.94275 |\n",
       "| chr17 | 8148004 | 8148925 | 1 | 381 | Input1_20x |  921 | 8148464 | -29.74305 |\n",
       "| chr17 | 8148004 | 8148962 | 1 | 361 | Input1_20x |  958 | 8148483 | -29.87766 |\n",
       "| chr17 | 8148004 | 8148963 | 1 | 356 | Input1_20x |  959 | 8148484 | -29.89929 |\n",
       "| chr17 | 8148005 | 8149014 | 1 | 339 | Input1_20x | 1009 | 8148510 | -30.04320 |\n",
       "| chr17 | 8148005 | 8149015 | 1 | 339 | Input1_20x | 1010 | 8148510 | -30.04463 |\n",
       "\n"
      ],
      "text/plain": [
       "  Chrom Start   End     Count Score Sample     Len  Loc     Score_Norm\n",
       "1 chr17 8148003 8148983 3     353   Input1_20x  980 8148493 -29.94275 \n",
       "2 chr17 8148004 8148925 1     381   Input1_20x  921 8148464 -29.74305 \n",
       "3 chr17 8148004 8148962 1     361   Input1_20x  958 8148483 -29.87766 \n",
       "4 chr17 8148004 8148963 1     356   Input1_20x  959 8148484 -29.89929 \n",
       "5 chr17 8148005 8149014 1     339   Input1_20x 1009 8148510 -30.04320 \n",
       "6 chr17 8148005 8149015 1     339   Input1_20x 1010 8148510 -30.04463 "
      ]
     },
     "metadata": {},
     "output_type": "display_data"
    }
   ],
   "source": [
    "df1 = dat_isc_inp1_f50  %>% \n",
    "    mutate(Sample = \"Input1_20x\") %>% \n",
    "    mutate(\n",
    "        Len = End - Start,\n",
    "        Loc = (Start + End) / 2, \n",
    "        Score_Norm = log2(Score) - log2(Len) - log2(vec_lib[\"Input1_20x\"]))\n",
    "\n",
    "df2 = dat_isc_dex1_f50 %>% \n",
    "    mutate(Sample = \"TFX2_Dex\") %>% \n",
    "    mutate(\n",
    "        Len = End - Start,\n",
    "        Loc = (Start + End) / 2, \n",
    "        Score_Norm = log2(Score) - log2(Len) - log2(vec_lib[\"Input1_20x\"]))\n",
    "\n",
    "dat_isc = bind_rows(df1, df2)\n",
    "head(dat_isc)"
   ]
  },
  {
   "cell_type": "code",
   "execution_count": 51,
   "metadata": {},
   "outputs": [
    {
     "data": {
      "text/html": [
       "<table class=\"dataframe\">\n",
       "<caption>A tibble: 6 × 4</caption>\n",
       "<thead>\n",
       "\t<tr><th scope=col>Chrom</th><th scope=col>Loc</th><th scope=col>Depth</th><th scope=col>Depth_Norm</th></tr>\n",
       "\t<tr><th scope=col>&lt;chr&gt;</th><th scope=col>&lt;dbl&gt;</th><th scope=col>&lt;dbl&gt;</th><th scope=col>&lt;dbl&gt;</th></tr>\n",
       "</thead>\n",
       "<tbody>\n",
       "\t<tr><td>chr17</td><td>8148000</td><td>501</td><td>-19.50097</td></tr>\n",
       "\t<tr><td>chr17</td><td>8148001</td><td>501</td><td>-19.50097</td></tr>\n",
       "\t<tr><td>chr17</td><td>8148002</td><td>500</td><td>-19.50385</td></tr>\n",
       "\t<tr><td>chr17</td><td>8148003</td><td>492</td><td>-19.52712</td></tr>\n",
       "\t<tr><td>chr17</td><td>8148004</td><td>495</td><td>-19.51835</td></tr>\n",
       "\t<tr><td>chr17</td><td>8148005</td><td>497</td><td>-19.51253</td></tr>\n",
       "</tbody>\n",
       "</table>\n"
      ],
      "text/latex": [
       "A tibble: 6 × 4\n",
       "\\begin{tabular}{llll}\n",
       " Chrom & Loc & Depth & Depth\\_Norm\\\\\n",
       " <chr> & <dbl> & <dbl> & <dbl>\\\\\n",
       "\\hline\n",
       "\t chr17 & 8148000 & 501 & -19.50097\\\\\n",
       "\t chr17 & 8148001 & 501 & -19.50097\\\\\n",
       "\t chr17 & 8148002 & 500 & -19.50385\\\\\n",
       "\t chr17 & 8148003 & 492 & -19.52712\\\\\n",
       "\t chr17 & 8148004 & 495 & -19.51835\\\\\n",
       "\t chr17 & 8148005 & 497 & -19.51253\\\\\n",
       "\\end{tabular}\n"
      ],
      "text/markdown": [
       "\n",
       "A tibble: 6 × 4\n",
       "\n",
       "| Chrom &lt;chr&gt; | Loc &lt;dbl&gt; | Depth &lt;dbl&gt; | Depth_Norm &lt;dbl&gt; |\n",
       "|---|---|---|---|\n",
       "| chr17 | 8148000 | 501 | -19.50097 |\n",
       "| chr17 | 8148001 | 501 | -19.50097 |\n",
       "| chr17 | 8148002 | 500 | -19.50385 |\n",
       "| chr17 | 8148003 | 492 | -19.52712 |\n",
       "| chr17 | 8148004 | 495 | -19.51835 |\n",
       "| chr17 | 8148005 | 497 | -19.51253 |\n",
       "\n"
      ],
      "text/plain": [
       "  Chrom Loc     Depth Depth_Norm\n",
       "1 chr17 8148000 501   -19.50097 \n",
       "2 chr17 8148001 501   -19.50097 \n",
       "3 chr17 8148002 500   -19.50385 \n",
       "4 chr17 8148003 492   -19.52712 \n",
       "5 chr17 8148004 495   -19.51835 \n",
       "6 chr17 8148005 497   -19.51253 "
      ]
     },
     "metadata": {},
     "output_type": "display_data"
    }
   ],
   "source": [
    "dat = dat_inp\n",
    "dat = dat %>% mutate(Depth_Norm = log2(Depth) - log2(vec_lib[\"Input1_20x\"]))\n",
    "head(dat)"
   ]
  },
  {
   "cell_type": "code",
   "execution_count": 52,
   "metadata": {},
   "outputs": [
    {
     "data": {
      "image/png": "[encoded data removed]",
      "text/plain": [
       "plot without title"
      ]
     },
     "metadata": {
      "image/png": {
       "height": 180,
       "width": 420
      }
     },
     "output_type": "display_data"
    }
   ],
   "source": [
    "options(repr.plot.height=3, repr.plot.width=7)\n",
    "gpt = ggplot() + \n",
    "    geom_point(\n",
    "        data = dat_isc, \n",
    "        aes(x=Loc, y=Score_Norm, color=Sample),\n",
    "        size=1, alpha=0.5) + \n",
    "    geom_line(\n",
    "        data=dat, \n",
    "        aes(x=Loc, y=Depth_Norm)) +\n",
    "    labs(x=\"Location\", y=\"Normalized Value\") +\n",
    "    theme_bw()\n",
    "print(gpt)"
   ]
  },
  {
   "cell_type": "code",
   "execution_count": null,
   "metadata": {},
   "outputs": [],
   "source": []
  },
  {
   "cell_type": "code",
   "execution_count": null,
   "metadata": {},
   "outputs": [],
   "source": []
  },
  {
   "cell_type": "code",
   "execution_count": null,
   "metadata": {},
   "outputs": [],
   "source": [
    "target = \"target_PER1\""
   ]
  },
  {
   "cell_type": "code",
   "execution_count": null,
   "metadata": {},
   "outputs": [],
   "source": [
    "ctypes = c(col_character(), col_integer(), col_integer())\n",
    "cnames = c(\"Chrom\", \"Loc\", \"Depth\")\n",
    "target = \"target_PER1\"\n",
    "fdiry  = file.path(FD_WRK, \"coverage\", target)\n",
    "\n",
    "fname  = \"Input?_perbase.txt\"\n",
    "lst_input = lapply(Sys.glob(file.path(fdiry, fname)), function(fpath){\n",
    "    sid = str_remove(basename(fpath), \"_perbase.txt\")\n",
    "    dat = read_tsv(\n",
    "        fpath, \n",
    "        col_types = ctypes, \n",
    "        col_names = cnames)\n",
    "    dat$Sample = sid\n",
    "    return(dat)\n",
    "})"
   ]
  }
 ],
 "metadata": {
  "kernelspec": {
   "display_name": "R",
   "language": "R",
   "name": "ir"
  },
  "language_info": {
   "codemirror_mode": "r",
   "file_extension": ".r",
   "mimetype": "text/x-r-source",
   "name": "R",
   "pygments_lexer": "r",
   "version": "4.1.2"
  }
 },
 "nbformat": 4,
 "nbformat_minor": 4
}
