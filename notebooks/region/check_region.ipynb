{
 "cells": [
  {
   "cell_type": "code",
   "execution_count": 2,
   "id": "d57d21d4",
   "metadata": {},
   "outputs": [
    {
     "name": "stdout",
     "output_type": "stream",
     "text": [
      "You are in Singularity: singularity_proj_combeffect \n",
      "BASE DIRECTORY:     /mount/work \n",
      "PATH OF SOURCE:     /mount/work/source \n",
      "PATH OF EXECUTABLE: /mount/work/exe \n",
      "PATH OF ANNOTATION: /mount/work/annotation \n",
      "PATH OF PROJECT:    /mount/project \n",
      "PATH OF RESULTS:    /mount/work/out/proj_combeffect \n"
     ]
    }
   ],
   "source": [
    "suppressWarnings(suppressMessages(source(\"../config_sing.R\")))\n",
    "show_env()"
   ]
  },
  {
   "cell_type": "code",
   "execution_count": 7,
   "id": "64d02029",
   "metadata": {},
   "outputs": [
    {
     "name": "stderr",
     "output_type": "stream",
     "text": [
      "\u001b[1mRows: \u001b[22m\u001b[34m3452\u001b[39m \u001b[1mColumns: \u001b[22m\u001b[34m11\u001b[39m\n",
      "\u001b[36m──\u001b[39m \u001b[1mColumn specification\u001b[22m \u001b[36m──────────────────────────────────────────────────────────────────────\u001b[39m\n",
      "\u001b[1mDelimiter:\u001b[22m \"\\t\"\n",
      "\u001b[31mchr\u001b[39m (5): Chrom, Region_Chrom, Region_Name, Region_Score, Region_Strand\n",
      "\u001b[32mdbl\u001b[39m (6): Start, End, Count, Region_Start, Region_End, Overlap\n",
      "\n",
      "\u001b[36mℹ\u001b[39m Use `spec()` to retrieve the full column specification for this data.\n",
      "\u001b[36mℹ\u001b[39m Specify the column types or set `show_col_types = FALSE` to quiet this message.\n"
     ]
    },
    {
     "name": "stdout",
     "output_type": "stream",
     "text": [
      "[1] 3452   12\n"
     ]
    },
    {
     "data": {
      "text/html": [
       "<table class=\"dataframe\">\n",
       "<caption>A tibble: 6 × 12</caption>\n",
       "<thead>\n",
       "\t<tr><th scope=col>Chrom</th><th scope=col>Start</th><th scope=col>End</th><th scope=col>Count</th><th scope=col>Region_Chrom</th><th scope=col>Region_Start</th><th scope=col>Region_End</th><th scope=col>Region_Name</th><th scope=col>Region_Score</th><th scope=col>Region_Strand</th><th scope=col>Overlap</th><th scope=col>Region</th></tr>\n",
       "\t<tr><th scope=col>&lt;chr&gt;</th><th scope=col>&lt;dbl&gt;</th><th scope=col>&lt;dbl&gt;</th><th scope=col>&lt;dbl&gt;</th><th scope=col>&lt;chr&gt;</th><th scope=col>&lt;dbl&gt;</th><th scope=col>&lt;dbl&gt;</th><th scope=col>&lt;chr&gt;</th><th scope=col>&lt;chr&gt;</th><th scope=col>&lt;chr&gt;</th><th scope=col>&lt;dbl&gt;</th><th scope=col>&lt;chr&gt;</th></tr>\n",
       "</thead>\n",
       "<tbody>\n",
       "\t<tr><td>chr17</td><td>6001570</td><td>6002624</td><td>2</td><td>chr17</td><td>6002561</td><td>6003866</td><td>chr17:6002561-6003866</td><td>.</td><td>.</td><td> 63</td><td>chr17_6002561_6003866</td></tr>\n",
       "\t<tr><td>chr17</td><td>6001571</td><td>6002624</td><td>1</td><td>chr17</td><td>6002561</td><td>6003866</td><td>chr17:6002561-6003866</td><td>.</td><td>.</td><td> 63</td><td>chr17_6002561_6003866</td></tr>\n",
       "\t<tr><td>chr17</td><td>6001762</td><td>6002691</td><td>2</td><td>chr17</td><td>6002561</td><td>6003866</td><td>chr17:6002561-6003866</td><td>.</td><td>.</td><td>130</td><td>chr17_6002561_6003866</td></tr>\n",
       "\t<tr><td>chr17</td><td>6001762</td><td>6002692</td><td>1</td><td>chr17</td><td>6002561</td><td>6003866</td><td>chr17:6002561-6003866</td><td>.</td><td>.</td><td>131</td><td>chr17_6002561_6003866</td></tr>\n",
       "\t<tr><td>chr17</td><td>6001763</td><td>6002692</td><td>1</td><td>chr17</td><td>6002561</td><td>6003866</td><td>chr17:6002561-6003866</td><td>.</td><td>.</td><td>131</td><td>chr17_6002561_6003866</td></tr>\n",
       "\t<tr><td>chr17</td><td>6001765</td><td>6002692</td><td>1</td><td>chr17</td><td>6002561</td><td>6003866</td><td>chr17:6002561-6003866</td><td>.</td><td>.</td><td>131</td><td>chr17_6002561_6003866</td></tr>\n",
       "</tbody>\n",
       "</table>\n"
      ],
      "text/latex": [
       "A tibble: 6 × 12\n",
       "\\begin{tabular}{llllllllllll}\n",
       " Chrom & Start & End & Count & Region\\_Chrom & Region\\_Start & Region\\_End & Region\\_Name & Region\\_Score & Region\\_Strand & Overlap & Region\\\\\n",
       " <chr> & <dbl> & <dbl> & <dbl> & <chr> & <dbl> & <dbl> & <chr> & <chr> & <chr> & <dbl> & <chr>\\\\\n",
       "\\hline\n",
       "\t chr17 & 6001570 & 6002624 & 2 & chr17 & 6002561 & 6003866 & chr17:6002561-6003866 & . & . &  63 & chr17\\_6002561\\_6003866\\\\\n",
       "\t chr17 & 6001571 & 6002624 & 1 & chr17 & 6002561 & 6003866 & chr17:6002561-6003866 & . & . &  63 & chr17\\_6002561\\_6003866\\\\\n",
       "\t chr17 & 6001762 & 6002691 & 2 & chr17 & 6002561 & 6003866 & chr17:6002561-6003866 & . & . & 130 & chr17\\_6002561\\_6003866\\\\\n",
       "\t chr17 & 6001762 & 6002692 & 1 & chr17 & 6002561 & 6003866 & chr17:6002561-6003866 & . & . & 131 & chr17\\_6002561\\_6003866\\\\\n",
       "\t chr17 & 6001763 & 6002692 & 1 & chr17 & 6002561 & 6003866 & chr17:6002561-6003866 & . & . & 131 & chr17\\_6002561\\_6003866\\\\\n",
       "\t chr17 & 6001765 & 6002692 & 1 & chr17 & 6002561 & 6003866 & chr17:6002561-6003866 & . & . & 131 & chr17\\_6002561\\_6003866\\\\\n",
       "\\end{tabular}\n"
      ],
      "text/markdown": [
       "\n",
       "A tibble: 6 × 12\n",
       "\n",
       "| Chrom &lt;chr&gt; | Start &lt;dbl&gt; | End &lt;dbl&gt; | Count &lt;dbl&gt; | Region_Chrom &lt;chr&gt; | Region_Start &lt;dbl&gt; | Region_End &lt;dbl&gt; | Region_Name &lt;chr&gt; | Region_Score &lt;chr&gt; | Region_Strand &lt;chr&gt; | Overlap &lt;dbl&gt; | Region &lt;chr&gt; |\n",
       "|---|---|---|---|---|---|---|---|---|---|---|---|\n",
       "| chr17 | 6001570 | 6002624 | 2 | chr17 | 6002561 | 6003866 | chr17:6002561-6003866 | . | . |  63 | chr17_6002561_6003866 |\n",
       "| chr17 | 6001571 | 6002624 | 1 | chr17 | 6002561 | 6003866 | chr17:6002561-6003866 | . | . |  63 | chr17_6002561_6003866 |\n",
       "| chr17 | 6001762 | 6002691 | 2 | chr17 | 6002561 | 6003866 | chr17:6002561-6003866 | . | . | 130 | chr17_6002561_6003866 |\n",
       "| chr17 | 6001762 | 6002692 | 1 | chr17 | 6002561 | 6003866 | chr17:6002561-6003866 | . | . | 131 | chr17_6002561_6003866 |\n",
       "| chr17 | 6001763 | 6002692 | 1 | chr17 | 6002561 | 6003866 | chr17:6002561-6003866 | . | . | 131 | chr17_6002561_6003866 |\n",
       "| chr17 | 6001765 | 6002692 | 1 | chr17 | 6002561 | 6003866 | chr17:6002561-6003866 | . | . | 131 | chr17_6002561_6003866 |\n",
       "\n"
      ],
      "text/plain": [
       "  Chrom Start   End     Count Region_Chrom Region_Start Region_End\n",
       "1 chr17 6001570 6002624 2     chr17        6002561      6003866   \n",
       "2 chr17 6001571 6002624 1     chr17        6002561      6003866   \n",
       "3 chr17 6001762 6002691 2     chr17        6002561      6003866   \n",
       "4 chr17 6001762 6002692 1     chr17        6002561      6003866   \n",
       "5 chr17 6001763 6002692 1     chr17        6002561      6003866   \n",
       "6 chr17 6001765 6002692 1     chr17        6002561      6003866   \n",
       "  Region_Name           Region_Score Region_Strand Overlap\n",
       "1 chr17:6002561-6003866 .            .              63    \n",
       "2 chr17:6002561-6003866 .            .              63    \n",
       "3 chr17:6002561-6003866 .            .             130    \n",
       "4 chr17:6002561-6003866 .            .             131    \n",
       "5 chr17:6002561-6003866 .            .             131    \n",
       "6 chr17:6002561-6003866 .            .             131    \n",
       "  Region               \n",
       "1 chr17_6002561_6003866\n",
       "2 chr17_6002561_6003866\n",
       "3 chr17_6002561_6003866\n",
       "4 chr17_6002561_6003866\n",
       "5 chr17_6002561_6003866\n",
       "6 chr17_6002561_6003866"
      ]
     },
     "metadata": {},
     "output_type": "display_data"
    }
   ],
   "source": [
    "fdiry = file.path(FD_RES, \"count_fragment\", \"TFX2_DMSO\")\n",
    "fname = \"region_dex_GR_P300_dnase_chr17.bed\"\n",
    "fpath = file.path(fdiry, fname)\n",
    "\n",
    "cnames = c(\n",
    "    \"Chrom\", \"Start\", \"End\", \"Count\", \n",
    "    \"Region_Chrom\", \n",
    "    \"Region_Start\", \n",
    "    \"Region_End\",\n",
    "    \"Region_Name\", \n",
    "    \"Region_Score\",\n",
    "    \"Region_Strand\",\n",
    "    \"Overlap\")\n",
    "dat = read_tsv(fpath, col_names = cnames) \n",
    "dat = dat %>% mutate(Region = paste(Region_Chrom, Region_Start, Region_End, sep=\"_\"))\n",
    "\n",
    "### assign\n",
    "dat_dmso = dat\n",
    "print(dim(dat))\n",
    "head(dat)"
   ]
  },
  {
   "cell_type": "code",
   "execution_count": 13,
   "id": "2922e6bf",
   "metadata": {},
   "outputs": [
    {
     "name": "stdout",
     "output_type": "stream",
     "text": [
      "[1] 29  3\n"
     ]
    },
    {
     "data": {
      "text/html": [
       "<table class=\"dataframe\">\n",
       "<caption>A tibble: 29 × 3</caption>\n",
       "<thead>\n",
       "\t<tr><th scope=col>Region</th><th scope=col>Count</th><th scope=col>Length</th></tr>\n",
       "\t<tr><th scope=col>&lt;chr&gt;</th><th scope=col>&lt;int&gt;</th><th scope=col>&lt;dbl&gt;</th></tr>\n",
       "</thead>\n",
       "<tbody>\n",
       "\t<tr><td>chr17_14737711_14738911</td><td>118</td><td>1200</td></tr>\n",
       "\t<tr><td>chr17_20103411_20104207</td><td> 81</td><td> 796</td></tr>\n",
       "\t<tr><td>chr17_28808780_28809299</td><td> 49</td><td> 519</td></tr>\n",
       "\t<tr><td>chr17_30363374_30364236</td><td> 65</td><td> 862</td></tr>\n",
       "\t<tr><td>chr17_35022219_35023480</td><td> 94</td><td>1261</td></tr>\n",
       "\t<tr><td>chr17_40021080_40022280</td><td>178</td><td>1200</td></tr>\n",
       "\t<tr><td>chr17_45292530_45293830</td><td>203</td><td>1300</td></tr>\n",
       "\t<tr><td>chr17_47955613_47956380</td><td> 73</td><td> 767</td></tr>\n",
       "\t<tr><td>chr17_49836430_49836780</td><td> 30</td><td> 350</td></tr>\n",
       "\t<tr><td>chr17_57879380_57880025</td><td> 58</td><td> 645</td></tr>\n",
       "\t<tr><td>chr17_6002561_6003866  </td><td>122</td><td>1305</td></tr>\n",
       "\t<tr><td>chr17_62819880_62820448</td><td>100</td><td> 568</td></tr>\n",
       "\t<tr><td>chr17_6591570_6592361  </td><td> 69</td><td> 791</td></tr>\n",
       "\t<tr><td>chr17_67490440_67491480</td><td>153</td><td>1040</td></tr>\n",
       "\t<tr><td>chr17_68377463_68379180</td><td>277</td><td>1717</td></tr>\n",
       "\t<tr><td>chr17_73796828_73797330</td><td> 42</td><td> 502</td></tr>\n",
       "\t<tr><td>chr17_73859880_73861430</td><td>149</td><td>1550</td></tr>\n",
       "\t<tr><td>chr17_74192667_74194030</td><td>164</td><td>1363</td></tr>\n",
       "\t<tr><td>chr17_75680030_75680280</td><td> 59</td><td> 250</td></tr>\n",
       "\t<tr><td>chr17_75693480_75694630</td><td>182</td><td>1150</td></tr>\n",
       "\t<tr><td>chr17_76251480_76252930</td><td>150</td><td>1450</td></tr>\n",
       "\t<tr><td>chr17_77365880_77366830</td><td>199</td><td> 950</td></tr>\n",
       "\t<tr><td>chr17_77508180_77508780</td><td> 64</td><td> 600</td></tr>\n",
       "\t<tr><td>chr17_79562530_79564080</td><td>285</td><td>1550</td></tr>\n",
       "\t<tr><td>chr17_80063604_80064645</td><td> 74</td><td>1041</td></tr>\n",
       "\t<tr><td>chr17_80505130_80505880</td><td> 52</td><td> 750</td></tr>\n",
       "\t<tr><td>chr17_8154011_8155261  </td><td>158</td><td>1250</td></tr>\n",
       "\t<tr><td>chr17_82133724_82134684</td><td> 38</td><td> 960</td></tr>\n",
       "\t<tr><td>chr17_82267433_82268133</td><td>166</td><td> 700</td></tr>\n",
       "</tbody>\n",
       "</table>\n"
      ],
      "text/latex": [
       "A tibble: 29 × 3\n",
       "\\begin{tabular}{lll}\n",
       " Region & Count & Length\\\\\n",
       " <chr> & <int> & <dbl>\\\\\n",
       "\\hline\n",
       "\t chr17\\_14737711\\_14738911 & 118 & 1200\\\\\n",
       "\t chr17\\_20103411\\_20104207 &  81 &  796\\\\\n",
       "\t chr17\\_28808780\\_28809299 &  49 &  519\\\\\n",
       "\t chr17\\_30363374\\_30364236 &  65 &  862\\\\\n",
       "\t chr17\\_35022219\\_35023480 &  94 & 1261\\\\\n",
       "\t chr17\\_40021080\\_40022280 & 178 & 1200\\\\\n",
       "\t chr17\\_45292530\\_45293830 & 203 & 1300\\\\\n",
       "\t chr17\\_47955613\\_47956380 &  73 &  767\\\\\n",
       "\t chr17\\_49836430\\_49836780 &  30 &  350\\\\\n",
       "\t chr17\\_57879380\\_57880025 &  58 &  645\\\\\n",
       "\t chr17\\_6002561\\_6003866   & 122 & 1305\\\\\n",
       "\t chr17\\_62819880\\_62820448 & 100 &  568\\\\\n",
       "\t chr17\\_6591570\\_6592361   &  69 &  791\\\\\n",
       "\t chr17\\_67490440\\_67491480 & 153 & 1040\\\\\n",
       "\t chr17\\_68377463\\_68379180 & 277 & 1717\\\\\n",
       "\t chr17\\_73796828\\_73797330 &  42 &  502\\\\\n",
       "\t chr17\\_73859880\\_73861430 & 149 & 1550\\\\\n",
       "\t chr17\\_74192667\\_74194030 & 164 & 1363\\\\\n",
       "\t chr17\\_75680030\\_75680280 &  59 &  250\\\\\n",
       "\t chr17\\_75693480\\_75694630 & 182 & 1150\\\\\n",
       "\t chr17\\_76251480\\_76252930 & 150 & 1450\\\\\n",
       "\t chr17\\_77365880\\_77366830 & 199 &  950\\\\\n",
       "\t chr17\\_77508180\\_77508780 &  64 &  600\\\\\n",
       "\t chr17\\_79562530\\_79564080 & 285 & 1550\\\\\n",
       "\t chr17\\_80063604\\_80064645 &  74 & 1041\\\\\n",
       "\t chr17\\_80505130\\_80505880 &  52 &  750\\\\\n",
       "\t chr17\\_8154011\\_8155261   & 158 & 1250\\\\\n",
       "\t chr17\\_82133724\\_82134684 &  38 &  960\\\\\n",
       "\t chr17\\_82267433\\_82268133 & 166 &  700\\\\\n",
       "\\end{tabular}\n"
      ],
      "text/markdown": [
       "\n",
       "A tibble: 29 × 3\n",
       "\n",
       "| Region &lt;chr&gt; | Count &lt;int&gt; | Length &lt;dbl&gt; |\n",
       "|---|---|---|\n",
       "| chr17_14737711_14738911 | 118 | 1200 |\n",
       "| chr17_20103411_20104207 |  81 |  796 |\n",
       "| chr17_28808780_28809299 |  49 |  519 |\n",
       "| chr17_30363374_30364236 |  65 |  862 |\n",
       "| chr17_35022219_35023480 |  94 | 1261 |\n",
       "| chr17_40021080_40022280 | 178 | 1200 |\n",
       "| chr17_45292530_45293830 | 203 | 1300 |\n",
       "| chr17_47955613_47956380 |  73 |  767 |\n",
       "| chr17_49836430_49836780 |  30 |  350 |\n",
       "| chr17_57879380_57880025 |  58 |  645 |\n",
       "| chr17_6002561_6003866   | 122 | 1305 |\n",
       "| chr17_62819880_62820448 | 100 |  568 |\n",
       "| chr17_6591570_6592361   |  69 |  791 |\n",
       "| chr17_67490440_67491480 | 153 | 1040 |\n",
       "| chr17_68377463_68379180 | 277 | 1717 |\n",
       "| chr17_73796828_73797330 |  42 |  502 |\n",
       "| chr17_73859880_73861430 | 149 | 1550 |\n",
       "| chr17_74192667_74194030 | 164 | 1363 |\n",
       "| chr17_75680030_75680280 |  59 |  250 |\n",
       "| chr17_75693480_75694630 | 182 | 1150 |\n",
       "| chr17_76251480_76252930 | 150 | 1450 |\n",
       "| chr17_77365880_77366830 | 199 |  950 |\n",
       "| chr17_77508180_77508780 |  64 |  600 |\n",
       "| chr17_79562530_79564080 | 285 | 1550 |\n",
       "| chr17_80063604_80064645 |  74 | 1041 |\n",
       "| chr17_80505130_80505880 |  52 |  750 |\n",
       "| chr17_8154011_8155261   | 158 | 1250 |\n",
       "| chr17_82133724_82134684 |  38 |  960 |\n",
       "| chr17_82267433_82268133 | 166 |  700 |\n",
       "\n"
      ],
      "text/plain": [
       "   Region                  Count Length\n",
       "1  chr17_14737711_14738911 118   1200  \n",
       "2  chr17_20103411_20104207  81    796  \n",
       "3  chr17_28808780_28809299  49    519  \n",
       "4  chr17_30363374_30364236  65    862  \n",
       "5  chr17_35022219_35023480  94   1261  \n",
       "6  chr17_40021080_40022280 178   1200  \n",
       "7  chr17_45292530_45293830 203   1300  \n",
       "8  chr17_47955613_47956380  73    767  \n",
       "9  chr17_49836430_49836780  30    350  \n",
       "10 chr17_57879380_57880025  58    645  \n",
       "11 chr17_6002561_6003866   122   1305  \n",
       "12 chr17_62819880_62820448 100    568  \n",
       "13 chr17_6591570_6592361    69    791  \n",
       "14 chr17_67490440_67491480 153   1040  \n",
       "15 chr17_68377463_68379180 277   1717  \n",
       "16 chr17_73796828_73797330  42    502  \n",
       "17 chr17_73859880_73861430 149   1550  \n",
       "18 chr17_74192667_74194030 164   1363  \n",
       "19 chr17_75680030_75680280  59    250  \n",
       "20 chr17_75693480_75694630 182   1150  \n",
       "21 chr17_76251480_76252930 150   1450  \n",
       "22 chr17_77365880_77366830 199    950  \n",
       "23 chr17_77508180_77508780  64    600  \n",
       "24 chr17_79562530_79564080 285   1550  \n",
       "25 chr17_80063604_80064645  74   1041  \n",
       "26 chr17_80505130_80505880  52    750  \n",
       "27 chr17_8154011_8155261   158   1250  \n",
       "28 chr17_82133724_82134684  38    960  \n",
       "29 chr17_82267433_82268133 166    700  "
      ]
     },
     "metadata": {},
     "output_type": "display_data"
    }
   ],
   "source": [
    "dat = dat_dmso\n",
    "dat = dat %>% \n",
    "    group_by(Region) %>% \n",
    "    summarize(\n",
    "        Count   = n(), \n",
    "        Length  = Region_End - Region_Start, \n",
    "        .groups = \"drop\") %>%\n",
    "    distinct\n",
    "\n",
    "print(dim(dat))\n",
    "dat"
   ]
  },
  {
   "cell_type": "code",
   "execution_count": null,
   "id": "903457cd",
   "metadata": {},
   "outputs": [],
   "source": [
    "gpt = ggplot(dat, aes(x=Length, y=Count)) + geom_point() + theme_cowplot()\n",
    "\n",
    "options(repr.plot.height=4, repr.plot.width=6)\n",
    "print(gpt)"
   ]
  },
  {
   "cell_type": "code",
   "execution_count": null,
   "id": "97598c31",
   "metadata": {},
   "outputs": [],
   "source": [
    "fdiry = file.path(FD_RES, \"count_fragment\", \"TFX2_Dex\")"
   ]
  },
  {
   "cell_type": "code",
   "execution_count": null,
   "id": "1b96fd1e",
   "metadata": {},
   "outputs": [],
   "source": [
    "region_dex_GR_P300_dnase_chr17.bed"
   ]
  }
 ],
 "metadata": {
  "kernelspec": {
   "display_name": "R",
   "language": "R",
   "name": "ir"
  },
  "language_info": {
   "codemirror_mode": "r",
   "file_extension": ".r",
   "mimetype": "text/x-r-source",
   "name": "R",
   "pygments_lexer": "r",
   "version": "4.2.0"
  }
 },
 "nbformat": 4,
 "nbformat_minor": 5
}
