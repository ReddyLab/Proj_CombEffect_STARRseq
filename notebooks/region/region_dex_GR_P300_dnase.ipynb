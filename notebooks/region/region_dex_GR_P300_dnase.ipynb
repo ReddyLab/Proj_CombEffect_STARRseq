{
 "cells": [
  {
   "cell_type": "markdown",
   "id": "4d086158-7bad-4da4-bd9f-c1c1eb4fad56",
   "metadata": {},
   "source": [
    "**Set environment**"
   ]
  },
  {
   "cell_type": "code",
   "execution_count": 1,
   "id": "c481aaaf-7f50-4ff6-9563-dbb66d4ea719",
   "metadata": {},
   "outputs": [
    {
     "name": "stdout",
     "output_type": "stream",
     "text": [
      "You are on Duke Server: HARDAC\n",
      "BASE DIRECTORY:     /gpfs/fs1/data/reddylab/Kuei\n",
      "PATH OF SOURCE:     /gpfs/fs1/data/reddylab/Kuei/source\n",
      "PATH OF EXECUTABLE: /gpfs/fs1/data/reddylab/Kuei/exe\n",
      "PATH OF ANNOTATION: /gpfs/fs1/data/reddylab/Kuei/annotation\n",
      "PATH OF PROJECT:    /gpfs/fs1/data/reddylab/Kuei/GitRepo/Proj_CombEffect_STARRseq/notebooks\n",
      "PATH OF RESULTS:    /gpfs/fs1/data/reddylab/Kuei/out/proj_combeffect\n",
      "\n"
     ]
    }
   ],
   "source": [
    "source ../config_duke.sh; show_env"
   ]
  },
  {
   "cell_type": "markdown",
   "id": "27b669b4-ded0-46d4-a4fc-e4503e1b99a5",
   "metadata": {},
   "source": [
    "**Check data**"
   ]
  },
  {
   "cell_type": "code",
   "execution_count": 19,
   "id": "57a672cd-7f98-4d39-8b34-f0a3a590ba5a",
   "metadata": {},
   "outputs": [
    {
     "name": "stdout",
     "output_type": "stream",
     "text": [
      "delme.bed\n",
      "dex_induced_starrseq_peaks_overlapping_GR_P300_and_dnase_peaks.bed\n",
      "dex_induced_starrseq_peaks_overlapping_GR_P300_and_dnase_peaks_with_headers.txt\n",
      "region_dex_GR_P300_dnase.bed\n",
      "\u001b[0m\u001b[38;5;27mscripts\u001b[0m\n"
     ]
    }
   ],
   "source": [
    "ls ${FD_RES}/source/region_dex_GR_P300_dnase"
   ]
  },
  {
   "cell_type": "code",
   "execution_count": 5,
   "id": "8b4a7b31-ba5d-47db-b163-52342c6d1a99",
   "metadata": {},
   "outputs": [
    {
     "name": "stdout",
     "output_type": "stream",
     "text": [
      "chr\tstart\tend\tname\tscore\tstrand\teffectSize\tinputCount\toutputCount\t-log(pvalue)\t-log(qvalue)\tcohen's_d\tpeusdoLog2FC\n",
      "chr1\t8004337\t8005840\tchr1:8004337-8005840\t.\t.\t7970\t3497\t11467\t4.05\t3.5\t6.18789884425633\t1.5669520441040579\n",
      "chr1\t8258845\t8259970\tchr1:8258845-8259970\t.\t.\t6073\t537\t6611\t6.86\t6.04\t14.05391575666002\t3.1229519333537006\n",
      "chr1\t8343090\t8344290\tchr1:8343090-8344290\t.\t.\t5436\t1637\t7073\t3.53\t3.25\t4.916070803907268\t1.6243462212850903\n",
      "chr1\t8347990\t8349475\tchr1:8347990-8349475\t.\t.\t7779\t35\t7815\t5.11\t4.37\t6.131302096244827\t2.871574480830077\n",
      "chr1\t8396590\t8397529\tchr1:8396590-8397529\t.\t.\t2365\t381\t2746\t6.4\t5.2\t12.313543361675785\t2.4656348841967364\n",
      "chr1\t15355934\t15356609\tchr1:15355934-15356609\t.\t.\t1377\t620\t1997\t6.21\t5.25\t9.131806963602909\t1.4030627585707602\n",
      "chr1\t15799984\t15800884\tchr1:15799984-15800884\t.\t.\t2937\t1601\t4538\t4.75\t3.68\t5.89014239687125\t1.0470704571549048\n",
      "chr1\t20301863\t20302963\tchr1:20301863-20302963\t.\t.\t4264\t1014\t5278\t4.43\t3.77\t6.461888373972799\t1.6782631439221904\n",
      "chr1\t24294059\t24294513\tchr1:24294059-24294513\t.\t.\t1723\t882\t2606\t3.65\t2.55\t4.596433524842081\t1.287519939194024\n"
     ]
    }
   ],
   "source": [
    "FDIRY=${FD_RES}/source/region_dex_GR_P300_dnase\n",
    "FNAME=dex_induced_starrseq_peaks_overlapping_GR_P300_and_dnase_peaks_with_headers.txt\n",
    "\n",
    "head ${FDIRY}/${FNAME}"
   ]
  },
  {
   "cell_type": "code",
   "execution_count": 23,
   "id": "b7a7a0fa-4204-4658-b7f5-e4670aaaca24",
   "metadata": {},
   "outputs": [
    {
     "name": "stdout",
     "output_type": "stream",
     "text": [
      "chr1\t8004337\t8005840\tchr1:8004337-8005840\t.\t.\t7970\t3497\t11467\t4.05\t3.5\t6.18789884425633\t1.5669520441040579\n",
      "chr1\t8258845\t8259970\tchr1:8258845-8259970\t.\t.\t6073\t537\t6611\t6.86\t6.04\t14.05391575666002\t3.1229519333537006\n",
      "chr1\t8343090\t8344290\tchr1:8343090-8344290\t.\t.\t5436\t1637\t7073\t3.53\t3.25\t4.916070803907268\t1.6243462212850903\n",
      "chr1\t8347990\t8349475\tchr1:8347990-8349475\t.\t.\t7779\t35\t7815\t5.11\t4.37\t6.131302096244827\t2.871574480830077\n",
      "chr1\t8396590\t8397529\tchr1:8396590-8397529\t.\t.\t2365\t381\t2746\t6.4\t5.2\t12.313543361675785\t2.4656348841967364\n",
      "chr1\t15355934\t15356609\tchr1:15355934-15356609\t.\t.\t1377\t620\t1997\t6.21\t5.25\t9.131806963602909\t1.4030627585707602\n",
      "chr1\t15799984\t15800884\tchr1:15799984-15800884\t.\t.\t2937\t1601\t4538\t4.75\t3.68\t5.89014239687125\t1.0470704571549048\n",
      "chr1\t20301863\t20302963\tchr1:20301863-20302963\t.\t.\t4264\t1014\t5278\t4.43\t3.77\t6.461888373972799\t1.6782631439221904\n",
      "chr1\t24294059\t24294513\tchr1:24294059-24294513\t.\t.\t1723\t882\t2606\t3.65\t2.55\t4.596433524842081\t1.287519939194024\n",
      "chr1\t26999063\t27000463\tchr1:26999063-27000463\t.\t.\t3441\t1118\t4559\t4.28\t3.53\t5.226882430560587\t1.6697567976368872\n"
     ]
    }
   ],
   "source": [
    "FDIRY=${FD_RES}/source/region_dex_GR_P300_dnase\n",
    "FNAME=dex_induced_starrseq_peaks_overlapping_GR_P300_and_dnase_peaks.bed\n",
    "\n",
    "head ${FDIRY}/${FNAME}"
   ]
  },
  {
   "cell_type": "code",
   "execution_count": 27,
   "id": "f90ba446-daa6-4a75-8d6e-30cd81844c15",
   "metadata": {},
   "outputs": [
    {
     "name": "stdout",
     "output_type": "stream",
     "text": [
      "chr1           8004337        8005840        chr1:8004337-8005840          .              .\n",
      "chr1           8258845        8259970        chr1:8258845-8259970          .              .\n",
      "chr1           8343090        8344290        chr1:8343090-8344290          .              .\n",
      "chr1           8347990        8349475        chr1:8347990-8349475          .              .\n",
      "chr1           8396590        8397529        chr1:8396590-8397529          .              .\n",
      "chr1           15355934       15356609       chr1:15355934-15356609        .              .\n",
      "chr1           15799984       15800884       chr1:15799984-15800884        .              .\n",
      "chr1           20301863       20302963       chr1:20301863-20302963        .              .\n",
      "chr1           24294059       24294513       chr1:24294059-24294513        .              .\n",
      "chr1           26999063       27000463       chr1:26999063-27000463        .              .\n"
     ]
    }
   ],
   "source": [
    "cut -f1-6 ${FDIRY}/${FNAME} | head | expand -t 15"
   ]
  },
  {
   "cell_type": "code",
   "execution_count": 28,
   "id": "91acbda0-092e-48e0-b5c3-a96a94d95a7e",
   "metadata": {},
   "outputs": [],
   "source": [
    "FDIRY=${FD_RES}/source/region_dex_GR_P300_dnase\n",
    "FNAME=dex_induced_starrseq_peaks_overlapping_GR_P300_and_dnase_peaks.bed\n",
    "FP_INP=${FDIRY}/${FNAME}\n",
    "\n",
    "FDIRY=${FD_RES}/region\n",
    "FNAME=region_dex_GR_P300_dnase.bed\n",
    "FP_OUT=${FDIRY}/${FNAME}\n",
    "\n",
    "cut -f1-6 ${FP_INP} > ${FP_OUT}"
   ]
  },
  {
   "cell_type": "code",
   "execution_count": 29,
   "id": "78c90216-8bd5-48bc-aeca-992aadfe87c5",
   "metadata": {},
   "outputs": [
    {
     "name": "stdout",
     "output_type": "stream",
     "text": [
      "region_dex_GR_P300_dnase.bed\n"
     ]
    }
   ],
   "source": [
    "ls ${FD_RES}/region"
   ]
  },
  {
   "cell_type": "code",
   "execution_count": 30,
   "id": "3de86a43-bda5-4ca0-a196-3acd93433490",
   "metadata": {},
   "outputs": [
    {
     "name": "stdout",
     "output_type": "stream",
     "text": [
      "chr1\t8004337\t8005840\tchr1:8004337-8005840\t.\t.\n",
      "chr1\t8258845\t8259970\tchr1:8258845-8259970\t.\t.\n",
      "chr1\t8343090\t8344290\tchr1:8343090-8344290\t.\t.\n",
      "chr1\t8347990\t8349475\tchr1:8347990-8349475\t.\t.\n",
      "chr1\t8396590\t8397529\tchr1:8396590-8397529\t.\t.\n",
      "chr1\t15355934\t15356609\tchr1:15355934-15356609\t.\t.\n",
      "chr1\t15799984\t15800884\tchr1:15799984-15800884\t.\t.\n",
      "chr1\t20301863\t20302963\tchr1:20301863-20302963\t.\t.\n",
      "chr1\t24294059\t24294513\tchr1:24294059-24294513\t.\t.\n",
      "chr1\t26999063\t27000463\tchr1:26999063-27000463\t.\t.\n"
     ]
    }
   ],
   "source": [
    "head ${FP_OUT}"
   ]
  },
  {
   "cell_type": "markdown",
   "id": "a7240777-85d5-4b10-9021-22d7ea47ef8e",
   "metadata": {},
   "source": [
    "## split into different chromosomes"
   ]
  },
  {
   "cell_type": "code",
   "execution_count": 38,
   "id": "f603ba7e-2c56-4e43-b81b-ac034a345a12",
   "metadata": {},
   "outputs": [
    {
     "name": "stdout",
     "output_type": "stream",
     "text": [
      "chr1\n",
      "chr10\n",
      "chr11\n",
      "chr12\n",
      "chr13\n",
      "chr14\n",
      "chr15\n",
      "chr16\n",
      "chr17\n",
      "chr18\n",
      "chr19\n",
      "chr2\n",
      "chr20\n",
      "chr21\n",
      "chr22\n",
      "chr3\n",
      "chr4\n",
      "chr5\n",
      "chr6\n",
      "chr7\n",
      "chr8\n",
      "chr9\n",
      "chrX\n"
     ]
    }
   ],
   "source": [
    "FDIRY=${FD_RES}/region\n",
    "\n",
    "cut -f1 ${FDIRY}/region_dex_GR_P300_dnase.bed | uniq > ${FDIRY}/region_dex_GR_P300_dnase_chrom.txt\n",
    "cat ${FDIRY}/region_dex_GR_P300_dnase_chrom.txt"
   ]
  },
  {
   "cell_type": "code",
   "execution_count": 44,
   "id": "c82d152c-752d-4e29-98dd-049e3d8b2b50",
   "metadata": {},
   "outputs": [
    {
     "name": "stdout",
     "output_type": "stream",
     "text": [
      "chr1\n",
      "chr10\n",
      "chr11\n",
      "chr12\n",
      "chr13\n",
      "chr14\n",
      "chr15\n",
      "chr16\n",
      "chr17\n",
      "chr18\n",
      "chr19\n",
      "chr2\n",
      "chr20\n",
      "chr21\n",
      "chr22\n",
      "chr3\n",
      "chr4\n",
      "chr5\n",
      "chr6\n",
      "chr7\n",
      "chr8\n",
      "chr9\n",
      "chrX\n"
     ]
    }
   ],
   "source": [
    "CHROMS=($(cat ${FDIRY}/region_dex_GR_P300_dnase_chrom.txt))\n",
    "for CHROM in ${CHROMS[@]}; do\n",
    "    echo ${CHROM}\n",
    "done"
   ]
  },
  {
   "cell_type": "code",
   "execution_count": 60,
   "id": "11b413c8-d069-48ee-b5f0-a58d162905d6",
   "metadata": {},
   "outputs": [
    {
     "name": "stdout",
     "output_type": "stream",
     "text": [
      "chr1\t8004337\t8005840\tchr1:8004337-8005840\t.\t.\n",
      "chr1\t8258845\t8259970\tchr1:8258845-8259970\t.\t.\n",
      "chr1\t8343090\t8344290\tchr1:8343090-8344290\t.\t.\n",
      "chr1\t8347990\t8349475\tchr1:8347990-8349475\t.\t.\n",
      "chr1\t8396590\t8397529\tchr1:8396590-8397529\t.\t.\n",
      "chr1\t15355934\t15356609\tchr1:15355934-15356609\t.\t.\n",
      "chr1\t15799984\t15800884\tchr1:15799984-15800884\t.\t.\n",
      "chr1\t20301863\t20302963\tchr1:20301863-20302963\t.\t.\n",
      "chr1\t24294059\t24294513\tchr1:24294059-24294513\t.\t.\n",
      "chr1\t26999063\t27000463\tchr1:26999063-27000463\t.\t.\n"
     ]
    }
   ],
   "source": [
    "cat ${FDIRY}/region_dex_GR_P300_dnase.bed | awk '{if ($1 == \"chr1\") {print}}' | head"
   ]
  },
  {
   "cell_type": "code",
   "execution_count": 54,
   "id": "937cf386-73b6-4e1e-a562-d7f7bee11372",
   "metadata": {},
   "outputs": [
    {
     "name": "stdout",
     "output_type": "stream",
     "text": [
      "hello\n"
     ]
    }
   ],
   "source": [
    "awk -v myvar=\"hello\" 'BEGIN {print myvar}'"
   ]
  },
  {
   "cell_type": "code",
   "execution_count": 55,
   "id": "5d073b38-c0fd-4479-94f3-c39c09049a8f",
   "metadata": {},
   "outputs": [
    {
     "name": "stdout",
     "output_type": "stream",
     "text": [
      "chr1\n",
      "chr1\n",
      "chr10\n",
      "chr10\n",
      "chr11\n",
      "chr11\n",
      "chr12\n",
      "chr12\n",
      "chr13\n",
      "chr13\n"
     ]
    }
   ],
   "source": [
    "CHROMS=($(cat ${FDIRY}/region_dex_GR_P300_dnase_chrom.txt))\n",
    "for CHROM in ${CHROMS[@]:0:5}; do\n",
    "    echo ${CHROM}\n",
    "    awk -v CHR=${CHROM} 'BEGIN {print CHR}'\n",
    "done"
   ]
  },
  {
   "cell_type": "code",
   "execution_count": 63,
   "id": "4f9871db-94f4-47af-90cf-3d8cb47ed14a",
   "metadata": {},
   "outputs": [
    {
     "name": "stdout",
     "output_type": "stream",
     "text": [
      "chr1\n",
      "^^^^^^^^^^^^^^^^^^^^^^^^^^^^^^^^^^\n",
      "chr1\t8004337\t8005840\tchr1:8004337-8005840\t.\t.\n",
      "chr1\t8258845\t8259970\tchr1:8258845-8259970\t.\t.\n",
      "chr1\t8343090\t8344290\tchr1:8343090-8344290\t.\t.\n",
      "++++++++++++++++++++++++++++++++++\n",
      "chr10\n",
      "^^^^^^^^^^^^^^^^^^^^^^^^^^^^^^^^^^\n",
      "chr10\t264150\t265500\tchr10:264150-265500\t.\t.\n",
      "chr10\t3809800\t3811012\tchr10:3809800-3811012\t.\t.\n",
      "chr10\t3852000\t3852550\tchr10:3852000-3852550\t.\t.\n",
      "++++++++++++++++++++++++++++++++++\n",
      "chr11\n",
      "^^^^^^^^^^^^^^^^^^^^^^^^^^^^^^^^^^\n",
      "chr11\t3123900\t3125200\tchr11:3123900-3125200\t.\t.\n",
      "chr11\t12070076\t12071409\tchr11:12070076-12071409\t.\t.\n",
      "chr11\t12853575\t12853856\tchr11:12853575-12853856\t.\t.\n",
      "++++++++++++++++++++++++++++++++++\n",
      "chr12\n",
      "^^^^^^^^^^^^^^^^^^^^^^^^^^^^^^^^^^\n",
      "chr12\t1659500\t1660336\tchr12:1659500-1660336\t.\t.\n",
      "chr12\t6376149\t6377123\tchr12:6376149-6377123\t.\t.\n",
      "chr12\t13102050\t13102414\tchr12:13102050-13102414\t.\t.\n",
      "++++++++++++++++++++++++++++++++++\n",
      "chr13\n",
      "^^^^^^^^^^^^^^^^^^^^^^^^^^^^^^^^^^\n",
      "chr13\t30743033\t30744656\tchr13:30743033-30744656\t.\t.\n",
      "chr13\t33235902\t33236706\tchr13:33235902-33236706\t.\t.\n",
      "chr13\t33642556\t33643906\tchr13:33642556-33643906\t.\t.\n",
      "++++++++++++++++++++++++++++++++++\n"
     ]
    }
   ],
   "source": [
    "CHROMS=($(cat ${FDIRY}/region_dex_GR_P300_dnase_chrom.txt))\n",
    "for CHROM in ${CHROMS[@]:0:5}; do\n",
    "    echo ${CHROM}\n",
    "    echo ^^^^^^^^^^^^^^^^^^^^^^^^^^^^^^^^^^\n",
    "    cat ${FDIRY}/region_dex_GR_P300_dnase.bed \\\n",
    "    | awk -v CHROM=${CHROM} '{if ($1 == CHROM) {print}}' \\\n",
    "    | head -n 3\n",
    "    echo ++++++++++++++++++++++++++++++++++\n",
    "done"
   ]
  },
  {
   "cell_type": "code",
   "execution_count": 70,
   "id": "5811313a-aca5-403d-9c52-bd5712241bfe",
   "metadata": {},
   "outputs": [
    {
     "name": "stdout",
     "output_type": "stream",
     "text": [
      "chr1\n",
      "^^^^^^^^^^^^^^^^^^^^^^^^^^^^^^^^^^\n",
      "chr1\t8004337\t8005840\tchr1:8004337-8005840\t.\t.\n",
      "chr1\t8258845\t8259970\tchr1:8258845-8259970\t.\t.\n",
      "\n",
      "chr1\t234986847\t234987864\tchr1:234986847-234987864\t.\t.\n",
      "chr1\t234996736\t234998314\tchr1:234996736-234998314\t.\t.\n",
      "++++++++++++++++++++++++++++++++++\n",
      "chr10\n",
      "^^^^^^^^^^^^^^^^^^^^^^^^^^^^^^^^^^\n",
      "chr10\t264150\t265500\tchr10:264150-265500\t.\t.\n",
      "chr10\t3809800\t3811012\tchr10:3809800-3811012\t.\t.\n",
      "\n",
      "chr10\t118869955\t118871271\tchr10:118869955-118871271\t.\t.\n",
      "chr10\t131997330\t131998430\tchr10:131997330-131998430\t.\t.\n",
      "++++++++++++++++++++++++++++++++++\n",
      "chr11\n",
      "^^^^^^^^^^^^^^^^^^^^^^^^^^^^^^^^^^\n",
      "chr11\t3123900\t3125200\tchr11:3123900-3125200\t.\t.\n",
      "chr11\t12070076\t12071409\tchr11:12070076-12071409\t.\t.\n",
      "\n",
      "chr11\t114171000\t114172200\tchr11:114171000-114172200\t.\t.\n",
      "chr11\t114315716\t114316363\tchr11:114315716-114316363\t.\t.\n",
      "++++++++++++++++++++++++++++++++++\n",
      "chr12\n",
      "^^^^^^^^^^^^^^^^^^^^^^^^^^^^^^^^^^\n",
      "chr12\t1659500\t1660336\tchr12:1659500-1660336\t.\t.\n",
      "chr12\t6376149\t6377123\tchr12:6376149-6377123\t.\t.\n",
      "\n",
      "chr12\t124927677\t124929028\tchr12:124927677-124929028\t.\t.\n",
      "chr12\t127125578\t127126998\tchr12:127125578-127126998\t.\t.\n",
      "++++++++++++++++++++++++++++++++++\n",
      "chr13\n",
      "^^^^^^^^^^^^^^^^^^^^^^^^^^^^^^^^^^\n",
      "chr13\t30743033\t30744656\tchr13:30743033-30744656\t.\t.\n",
      "chr13\t33235902\t33236706\tchr13:33235902-33236706\t.\t.\n",
      "\n",
      "chr13\t110011529\t110013232\tchr13:110011529-110013232\t.\t.\n",
      "chr13\t110094029\t110095279\tchr13:110094029-110095279\t.\t.\n",
      "++++++++++++++++++++++++++++++++++\n",
      "chr14\n",
      "^^^^^^^^^^^^^^^^^^^^^^^^^^^^^^^^^^\n",
      "chr14\t23145956\t23146663\tchr14:23145956-23146663\t.\t.\n",
      "chr14\t35390518\t35391362\tchr14:35390518-35391362\t.\t.\n",
      "\n",
      "chr14\t98953413\t98954113\tchr14:98953413-98954113\t.\t.\n",
      "chr14\t103070813\t103072463\tchr14:103070813-103072463\t.\t.\n",
      "++++++++++++++++++++++++++++++++++\n",
      "chr15\n",
      "^^^^^^^^^^^^^^^^^^^^^^^^^^^^^^^^^^\n",
      "chr15\t39274470\t39274673\tchr15:39274470-39274673\t.\t.\n",
      "chr15\t41544474\t41544912\tchr15:41544474-41544912\t.\t.\n",
      "\n",
      "chr15\t101439316\t101440241\tchr15:101439316-101440241\t.\t.\n",
      "chr15\t101527716\t101528766\tchr15:101527716-101528766\t.\t.\n",
      "++++++++++++++++++++++++++++++++++\n",
      "chr16\n",
      "^^^^^^^^^^^^^^^^^^^^^^^^^^^^^^^^^^\n",
      "chr16\t10601250\t10602598\tchr16:10601250-10602598\t.\t.\n",
      "chr16\t11016777\t11017208\tchr16:11016777-11017208\t.\t.\n",
      "\n",
      "chr16\t86663670\t86665320\tchr16:86663670-86665320\t.\t.\n",
      "chr16\t86951720\t86952870\tchr16:86951720-86952870\t.\t.\n",
      "++++++++++++++++++++++++++++++++++\n",
      "chr17\n",
      "^^^^^^^^^^^^^^^^^^^^^^^^^^^^^^^^^^\n",
      "chr17\t6002561\t6003866\tchr17:6002561-6003866\t.\t.\n",
      "chr17\t6591570\t6592361\tchr17:6591570-6592361\t.\t.\n",
      "\n",
      "chr17\t82133724\t82134684\tchr17:82133724-82134684\t.\t.\n",
      "chr17\t82267433\t82268133\tchr17:82267433-82268133\t.\t.\n",
      "++++++++++++++++++++++++++++++++++\n",
      "chr18\n",
      "^^^^^^^^^^^^^^^^^^^^^^^^^^^^^^^^^^\n",
      "chr18\t3449400\t3450700\tchr18:3449400-3450700\t.\t.\n",
      "chr18\t7414326\t7415241\tchr18:7414326-7415241\t.\t.\n",
      "\n",
      "chr18\t73848509\t73848926\tchr18:73848509-73848926\t.\t.\n",
      "chr18\t79791428\t79792428\tchr18:79791428-79792428\t.\t.\n",
      "++++++++++++++++++++++++++++++++++\n",
      "chr19\n",
      "^^^^^^^^^^^^^^^^^^^^^^^^^^^^^^^^^^\n",
      "chr19\t2490900\t2491950\tchr19:2490900-2491950\t.\t.\n",
      "chr19\t2528800\t2529550\tchr19:2528800-2529550\t.\t.\n",
      "\n",
      "chr19\t46300791\t46301397\tchr19:46300791-46301397\t.\t.\n",
      "chr19\t55581774\t55582324\tchr19:55581774-55582324\t.\t.\n",
      "++++++++++++++++++++++++++++++++++\n",
      "chr2\n",
      "^^^^^^^^^^^^^^^^^^^^^^^^^^^^^^^^^^\n",
      "chr2\t6186450\t6187529\tchr2:6186450-6187529\t.\t.\n",
      "chr2\t8628000\t8628950\tchr2:8628000-8628950\t.\t.\n",
      "\n",
      "chr2\t237502456\t237502927\tchr2:237502456-237502927\t.\t.\n",
      "chr2\t240250747\t240252141\tchr2:240250747-240252141\t.\t.\n",
      "++++++++++++++++++++++++++++++++++\n",
      "chr20\n",
      "^^^^^^^^^^^^^^^^^^^^^^^^^^^^^^^^^^\n",
      "chr20\t396185\t397226\tchr20:396185-397226\t.\t.\n",
      "chr20\t4170790\t4171835\tchr20:4170790-4171835\t.\t.\n",
      "\n",
      "chr20\t59826480\t59827525\tchr20:59826480-59827525\t.\t.\n",
      "chr20\t61185875\t61186825\tchr20:61185875-61186825\t.\t.\n",
      "++++++++++++++++++++++++++++++++++\n",
      "chr21\n",
      "^^^^^^^^^^^^^^^^^^^^^^^^^^^^^^^^^^\n",
      "chr21\t34836508\t34836958\tchr21:34836508-34836958\t.\t.\n",
      "chr21\t34965176\t34965908\tchr21:34965176-34965908\t.\t.\n",
      "\n",
      "chr21\t43342612\t43343962\tchr21:43342612-43343962\t.\t.\n",
      "chr21\t43585569\t43586462\tchr21:43585569-43586462\t.\t.\n",
      "++++++++++++++++++++++++++++++++++\n",
      "chr22\n",
      "^^^^^^^^^^^^^^^^^^^^^^^^^^^^^^^^^^\n",
      "chr22\t22703014\t22704664\tchr22:22703014-22704664\t.\t.\n",
      "chr22\t27456929\t27457714\tchr22:27456929-27457714\t.\t.\n",
      "\n",
      "chr22\t46104964\t46106464\tchr22:46104964-46106464\t.\t.\n",
      "chr22\t49948864\t49950120\tchr22:49948864-49950120\t.\t.\n",
      "++++++++++++++++++++++++++++++++++\n",
      "chr3\n",
      "^^^^^^^^^^^^^^^^^^^^^^^^^^^^^^^^^^\n",
      "chr3\t9878402\t9879187\tchr3:9878402-9879187\t.\t.\n",
      "chr3\t16059700\t16060900\tchr3:16059700-16060900\t.\t.\n",
      "\n",
      "chr3\t189304481\t189305374\tchr3:189304481-189305374\t.\t.\n",
      "chr3\t194870674\t194872024\tchr3:194870674-194872024\t.\t.\n",
      "++++++++++++++++++++++++++++++++++\n",
      "chr4\n",
      "^^^^^^^^^^^^^^^^^^^^^^^^^^^^^^^^^^\n",
      "chr4\t6632582\t6633893\tchr4:6632582-6633893\t.\t.\n",
      "chr4\t6750452\t6751208\tchr4:6750452-6751208\t.\t.\n",
      "\n",
      "chr4\t184812669\t184814121\tchr4:184812669-184814121\t.\t.\n",
      "chr4\t184898481\t184899931\tchr4:184898481-184899931\t.\t.\n",
      "++++++++++++++++++++++++++++++++++\n",
      "chr5\n",
      "^^^^^^^^^^^^^^^^^^^^^^^^^^^^^^^^^^\n",
      "chr5\t2093671\t2095305\tchr5:2093671-2095305\t.\t.\n",
      "chr5\t5349600\t5350732\tchr5:5349600-5350732\t.\t.\n",
      "\n",
      "chr5\t175809224\t175810426\tchr5:175809224-175810426\t.\t.\n",
      "chr5\t175867974\t175868426\tchr5:175867974-175868426\t.\t.\n",
      "++++++++++++++++++++++++++++++++++\n",
      "chr6\n",
      "^^^^^^^^^^^^^^^^^^^^^^^^^^^^^^^^^^\n",
      "chr6\t11218500\t11219100\tchr6:11218500-11219100\t.\t.\n",
      "chr6\t11364694\t11365321\tchr6:11364694-11365321\t.\t.\n",
      "\n",
      "chr6\t162056727\t162057311\tchr6:162056727-162057311\t.\t.\n",
      "chr6\t169292293\t169292943\tchr6:169292293-169292943\t.\t.\n",
      "++++++++++++++++++++++++++++++++++\n",
      "chr7\n",
      "^^^^^^^^^^^^^^^^^^^^^^^^^^^^^^^^^^\n",
      "chr7\t2309342\t2310773\tchr7:2309342-2310773\t.\t.\n",
      "chr7\t4631139\t4632706\tchr7:4631139-4632706\t.\t.\n",
      "\n",
      "chr7\t151797474\t151798638\tchr7:151797474-151798638\t.\t.\n",
      "chr7\t151923254\t151924454\tchr7:151923254-151924454\t.\t.\n",
      "++++++++++++++++++++++++++++++++++\n",
      "chr8\n",
      "^^^^^^^^^^^^^^^^^^^^^^^^^^^^^^^^^^\n",
      "chr8\t9448077\t9449126\tchr8:9448077-9449126\t.\t.\n",
      "chr8\t18666145\t18666545\tchr8:18666145-18666545\t.\t.\n",
      "\n",
      "chr8\t142677172\t142678322\tchr8:142677172-142678322\t.\t.\n",
      "chr8\t142681522\t142682722\tchr8:142681522-142682722\t.\t.\n",
      "++++++++++++++++++++++++++++++++++\n",
      "chr9\n",
      "^^^^^^^^^^^^^^^^^^^^^^^^^^^^^^^^^^\n",
      "chr9\t12817502\t12818075\tchr9:12817502-12818075\t.\t.\n",
      "chr9\t12818149\t12818553\tchr9:12818149-12818553\t.\t.\n",
      "\n",
      "chr9\t130946802\t130947752\tchr9:130946802-130947752\t.\t.\n",
      "chr9\t137056536\t137057222\tchr9:137056536-137057222\t.\t.\n",
      "++++++++++++++++++++++++++++++++++\n",
      "chrX\n",
      "^^^^^^^^^^^^^^^^^^^^^^^^^^^^^^^^^^\n",
      "chrX\t9865810\t9866688\tchrX:9865810-9866688\t.\t.\n",
      "chrX\t10052003\t10052688\tchrX:10052003-10052688\t.\t.\n",
      "\n",
      "chrX\t120672166\t120673271\tchrX:120672166-120673271\t.\t.\n",
      "chrX\t134512095\t134513177\tchrX:134512095-134513177\t.\t.\n",
      "++++++++++++++++++++++++++++++++++\n"
     ]
    }
   ],
   "source": [
    "FDIRY=${FD_RES}/region\n",
    "FNAME=region_dex_GR_P300_dnase.bed\n",
    "FP_INP=${FDIRY}/${FNAME}\n",
    "CHROMS=($(cat ${FDIRY}/region_dex_GR_P300_dnase_chrom.txt))\n",
    "\n",
    "for CHROM in ${CHROMS[@]}; do\n",
    "    echo ${CHROM}\n",
    "    echo ^^^^^^^^^^^^^^^^^^^^^^^^^^^^^^^^^^\n",
    "    \n",
    "    ###\n",
    "    FP_OUT=${FDIRY}/${CHROM}/${FNAME}\n",
    "    mkdir -p ${FDIRY}/${CHROM}\n",
    "    \n",
    "    ###\n",
    "    cat  ${FP_INP} \\\n",
    "    | awk -v CHROM=${CHROM} '{if ($1 == CHROM) {print}}' \\\n",
    "    > ${FP_OUT}\n",
    "    \n",
    "    ###\n",
    "    head -n 2 ${FP_OUT}\n",
    "    echo\n",
    "    tail -n 2 ${FP_OUT}\n",
    "    echo ++++++++++++++++++++++++++++++++++\n",
    "done"
   ]
  },
  {
   "cell_type": "code",
   "execution_count": 71,
   "id": "c19e6bc1-b3d9-45fb-ae21-640ba0f9bcf1",
   "metadata": {},
   "outputs": [
    {
     "name": "stdout",
     "output_type": "stream",
     "text": [
      "/gpfs/fs1/data/reddylab/Kuei/out/proj_combeffect/region/region_dex_GR_P300_dnase.bed\n",
      "/gpfs/fs1/data/reddylab/Kuei/out/proj_combeffect/region/region_dex_GR_P300_dnase_chrom.txt\n",
      "+++++++++++++++++++++++++++++\n",
      "/gpfs/fs1/data/reddylab/Kuei/out/proj_combeffect/region/chr10/region_dex_GR_P300_dnase.bed\n",
      "/gpfs/fs1/data/reddylab/Kuei/out/proj_combeffect/region/chr11/region_dex_GR_P300_dnase.bed\n",
      "/gpfs/fs1/data/reddylab/Kuei/out/proj_combeffect/region/chr12/region_dex_GR_P300_dnase.bed\n",
      "/gpfs/fs1/data/reddylab/Kuei/out/proj_combeffect/region/chr13/region_dex_GR_P300_dnase.bed\n",
      "/gpfs/fs1/data/reddylab/Kuei/out/proj_combeffect/region/chr14/region_dex_GR_P300_dnase.bed\n",
      "/gpfs/fs1/data/reddylab/Kuei/out/proj_combeffect/region/chr15/region_dex_GR_P300_dnase.bed\n",
      "/gpfs/fs1/data/reddylab/Kuei/out/proj_combeffect/region/chr16/region_dex_GR_P300_dnase.bed\n",
      "/gpfs/fs1/data/reddylab/Kuei/out/proj_combeffect/region/chr17/region_dex_GR_P300_dnase.bed\n",
      "/gpfs/fs1/data/reddylab/Kuei/out/proj_combeffect/region/chr18/region_dex_GR_P300_dnase.bed\n",
      "/gpfs/fs1/data/reddylab/Kuei/out/proj_combeffect/region/chr19/region_dex_GR_P300_dnase.bed\n",
      "/gpfs/fs1/data/reddylab/Kuei/out/proj_combeffect/region/chr1/region_dex_GR_P300_dnase.bed\n",
      "/gpfs/fs1/data/reddylab/Kuei/out/proj_combeffect/region/chr20/region_dex_GR_P300_dnase.bed\n",
      "/gpfs/fs1/data/reddylab/Kuei/out/proj_combeffect/region/chr21/region_dex_GR_P300_dnase.bed\n",
      "/gpfs/fs1/data/reddylab/Kuei/out/proj_combeffect/region/chr22/region_dex_GR_P300_dnase.bed\n",
      "/gpfs/fs1/data/reddylab/Kuei/out/proj_combeffect/region/chr2/region_dex_GR_P300_dnase.bed\n",
      "/gpfs/fs1/data/reddylab/Kuei/out/proj_combeffect/region/chr3/region_dex_GR_P300_dnase.bed\n",
      "/gpfs/fs1/data/reddylab/Kuei/out/proj_combeffect/region/chr4/region_dex_GR_P300_dnase.bed\n",
      "/gpfs/fs1/data/reddylab/Kuei/out/proj_combeffect/region/chr5/region_dex_GR_P300_dnase.bed\n",
      "/gpfs/fs1/data/reddylab/Kuei/out/proj_combeffect/region/chr6/region_dex_GR_P300_dnase.bed\n",
      "/gpfs/fs1/data/reddylab/Kuei/out/proj_combeffect/region/chr7/region_dex_GR_P300_dnase.bed\n",
      "/gpfs/fs1/data/reddylab/Kuei/out/proj_combeffect/region/chr8/region_dex_GR_P300_dnase.bed\n",
      "/gpfs/fs1/data/reddylab/Kuei/out/proj_combeffect/region/chr9/region_dex_GR_P300_dnase.bed\n",
      "/gpfs/fs1/data/reddylab/Kuei/out/proj_combeffect/region/chrX/region_dex_GR_P300_dnase.bed\n"
     ]
    }
   ],
   "source": [
    "FDIRY=${FD_RES}/region\n",
    "FNAME=region_dex_GR_P300_dnase.bed\n",
    "\n",
    "ls ${FDIRY}/region*\n",
    "echo +++++++++++++++++++++++++++++\n",
    "ls ${FDIRY}/*/${FNAME}"
   ]
  },
  {
   "cell_type": "markdown",
   "id": "fe12117b-9e18-4091-95f0-0d39cbcb81e2",
   "metadata": {},
   "source": [
    "## split by region"
   ]
  },
  {
   "cell_type": "code",
   "execution_count": 4,
   "id": "dd123a37-2d77-45ee-a835-ec064ecd4356",
   "metadata": {},
   "outputs": [
    {
     "name": "stdout",
     "output_type": "stream",
     "text": [
      "/gpfs/fs1/data/reddylab/Kuei/out/proj_combeffect/region/region_dex_GR_P300_dnase.bed\n",
      "+++++++++++++++++++++++++++++\n",
      "\u001b[0m\u001b[38;5;27m/gpfs/fs1/data/reddylab/Kuei/out/proj_combeffect/region/region_dex_GR_P300_dnase\u001b[0m\n",
      "+++++++++++++++++++++++++++++\n",
      "chr1\t8004337\t8005840\tchr1:8004337-8005840\t.\t.\n",
      "chr1\t8258845\t8259970\tchr1:8258845-8259970\t.\t.\n",
      "chr1\t8343090\t8344290\tchr1:8343090-8344290\t.\t.\n",
      "chr1\t8347990\t8349475\tchr1:8347990-8349475\t.\t.\n",
      "chr1\t8396590\t8397529\tchr1:8396590-8397529\t.\t.\n",
      "chr1\t15355934\t15356609\tchr1:15355934-15356609\t.\t.\n",
      "chr1\t15799984\t15800884\tchr1:15799984-15800884\t.\t.\n",
      "chr1\t20301863\t20302963\tchr1:20301863-20302963\t.\t.\n",
      "chr1\t24294059\t24294513\tchr1:24294059-24294513\t.\t.\n",
      "chr1\t26999063\t27000463\tchr1:26999063-27000463\t.\t.\n"
     ]
    }
   ],
   "source": [
    "FDIRY=${FD_RES}/region\n",
    "FNAME=region_dex_GR_P300_dnase.bed\n",
    "\n",
    "ls ${FDIRY}/${FNAME}\n",
    "echo +++++++++++++++++++++++++++++\n",
    "ls -d ${FDIRY}/region_dex_GR_P300_dnase\n",
    "echo +++++++++++++++++++++++++++++\n",
    "head ${FDIRY}/${FNAME}"
   ]
  },
  {
   "cell_type": "code",
   "execution_count": null,
   "id": "ac96eec7-e515-4a81-baeb-56cb981892de",
   "metadata": {},
   "outputs": [],
   "source": []
  }
 ],
 "metadata": {
  "kernelspec": {
   "display_name": "Bash",
   "language": "bash",
   "name": "bash"
  },
  "language_info": {
   "codemirror_mode": "shell",
   "file_extension": ".sh",
   "mimetype": "text/x-sh",
   "name": "bash"
  }
 },
 "nbformat": 4,
 "nbformat_minor": 5
}
