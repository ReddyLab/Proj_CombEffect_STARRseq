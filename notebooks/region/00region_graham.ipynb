{
 "cells": [
  {
   "cell_type": "code",
   "execution_count": 2,
   "id": "7ea58415-ab8f-4ad8-990d-b932a140187d",
   "metadata": {},
   "outputs": [
    {
     "name": "stdout",
     "output_type": "stream",
     "text": [
      "delme.bed\n",
      "dex_induced_starrseq_peaks_overlapping_GR_P300_and_dnase_peaks.bed\n",
      "dex_induced_starrseq_peaks_overlapping_GR_P300_and_dnase_peaks_with_headers.txt\n",
      "\u001b[0m\u001b[38;5;27mscripts\u001b[0m\n"
     ]
    }
   ],
   "source": [
    "FDIRY=/data/reddylab/gjohnson/whole_genome_STARRseq/wgss3/epigenome_comparisons/files_for_Kuei\n",
    "ls ${FDIRY}"
   ]
  },
  {
   "cell_type": "code",
   "execution_count": 3,
   "id": "c5e92174-9856-4644-816f-9085c6b6ac60",
   "metadata": {},
   "outputs": [
    {
     "name": "stdout",
     "output_type": "stream",
     "text": [
      "dex_induced_enhancers_for_Kuei.sh\n"
     ]
    }
   ],
   "source": [
    "ls ${FDIRY}/scripts"
   ]
  },
  {
   "cell_type": "code",
   "execution_count": 20,
   "id": "01a671c3-dee4-4a41-8fa7-485d6a762e7c",
   "metadata": {},
   "outputs": [
    {
     "name": "stdout",
     "output_type": "stream",
     "text": [
      "/data/reddylab/gjohnson/whole_genome_STARRseq/wgss3/epigenome_comparisons/files_for_Kuei/scripts/dex_induced_enhancers_for_Kuei.sh\n",
      "#!/bin/bash\n",
      "#\n",
      "#SBATCH --mem=5G\n",
      "#SBATCH -J dex_induced_enhancers_for_Kuei\n",
      "#SBATCH -o dex_induced_enhancers_for_Kuei.%J.output\n",
      "#SBATCH -e dex_induced_enhancers_for_Kuei.%J.error\n",
      "#SBATCH --array=1\n",
      "#SBATCH --cpus-per-task=1\n",
      "#SBATCH --mail-user=graham.johnson@duke.edu\n",
      "#SBATCH --mail-type=FAIL,END\n",
      "\n",
      "#LOAD SOFTWARE\n",
      "module load bedtools2\n",
      "\n",
      "#SET VARIABLES\n",
      "\n",
      "#INTERSECT DEX INDUCED STARR-SEQ PEAKS WITH OTHER EPIGENOMIC DATA TO PRODUCE A BED FILE OF PUTATIVE DEX INDUCED ENHANCERS\n",
      "\n",
      "bedtools intersect \\\n",
      "\t-wa \\\n",
      "\t-a /data/reddylab/gjohnson/whole_genome_STARRseq/wgss3/peak_calls/cradle/callPeak_against_DMSO/Dex_vs_DMSO/Dex_vs_DMSO_induced_peaks_fc2.bed \\\n",
      "\t-b /data/reddylab/projects/ggr/data/chip_seq/peaks/A549.GR.dex_full.04h.union.selected_samples.bed \\\n",
      "| bedtools intersect \\\n",
      "\t-wa \\\n",
      "\t-a stdin \\\n",
      "\t-b /data/reddylab/projects/ggr/data/chip_seq/peaks/A549.EP300.dex_full.04h.union.selected_samples.bed \\\n",
      "| bedtools intersect \\\n",
      "\t-wa \\\n",
      "\t-a stdin \\\n",
      "\t-b /data/reddylab/projects/ggr/data/dnase_seq/peaks/A549.dnase_seq.dex.04h.union.selected_samples.bed \\\n",
      "| sort -k1,1 -k2,2n \\\n",
      "| uniq > dex_induced_starrseq_peaks_overlapping_GR_P300_and_dnase_peaks.bed\n",
      "\n",
      "\n",
      "cat \\\n",
      "\t<( head -1 /data/reddylab/gjohnson/whole_genome_STARRseq/wgss3/peak_calls/cradle/callPeak_against_DMSO/Dex_vs_DMSO/CRADLE_peaks) \\\n",
      "\t<( cat dex_induced_starrseq_peaks_overlapping_GR_P300_and_dnase_peaks.bed ) > dex_induced_starrseq_peaks_overlapping_GR_P300_and_dnase_peaks_with_headers.txt\n"
     ]
    }
   ],
   "source": [
    "FDIRY=/data/reddylab/gjohnson/whole_genome_STARRseq/wgss3/epigenome_comparisons/files_for_Kuei\n",
    "echo ${FDIRY}/scripts/dex_induced_enhancers_for_Kuei.sh \n",
    "cat ${FDIRY}/scripts/dex_induced_enhancers_for_Kuei.sh"
   ]
  },
  {
   "cell_type": "code",
   "execution_count": 5,
   "id": "ef6342ac-041e-4a5e-8055-fdab32195019",
   "metadata": {},
   "outputs": [
    {
     "name": "stdout",
     "output_type": "stream",
     "text": [
      "\u001b[0m\u001b[38;5;27mcallPeak\u001b[0m               delme.sh                      \u001b[38;5;27mjammy_relative_to_input\u001b[0m\n",
      "\u001b[38;5;27mcallPeak_against_DMSO\u001b[0m  delme.txt                     \u001b[38;5;27molder_files\u001b[0m\n",
      "\u001b[38;5;27mcomparisons_to_Dex\u001b[0m     \u001b[38;5;27meffect_of_mi\u001b[0m                  \u001b[38;5;27mscripts\u001b[0m\n",
      "\u001b[38;5;27mcomparisons_to_DMSO\u001b[0m    \u001b[38;5;27mfc_relative_to_input_bigwigs\u001b[0m\n"
     ]
    }
   ],
   "source": [
    "ls /data/reddylab/gjohnson/whole_genome_STARRseq/wgss3/peak_calls/cradle"
   ]
  },
  {
   "cell_type": "code",
   "execution_count": 6,
   "id": "16255767-b3b8-4078-aa14-881c98bb94b2",
   "metadata": {},
   "outputs": [
    {
     "name": "stdout",
     "output_type": "stream",
     "text": [
      "all_treatments_annotation.pdf\n",
      "all_treatments_annotation.txtAZD2906.annotated.txt\n",
      "all_treatments_annotation.txtAZD9567.annotated.txt\n",
      "all_treatments_annotation.txtCORT108297.annotated.txt\n",
      "all_treatments_annotation.txtCpdA.annotated.txt\n",
      "all_treatments_annotation.txtDex.annotated.txt\n",
      "all_treatments_annotation.txtDMSO.annotated.txt\n",
      "all_treatments_annotation.txtGW870086.annotated.txt\n",
      "all_treatments_annotation.txtHydrocortisone.annotated.txt\n",
      "all_treatments_annotation.txtMapracorat.annotated.txt\n",
      "all_treatments_annotation.txtRU486.annotated.txt\n",
      "all_treatments_annotation.txtZK216348.annotated.txt\n",
      "\u001b[0m\u001b[38;5;27mAZD2906_vs_input\u001b[0m\n",
      "\u001b[38;5;27mAZD9567_vs_input\u001b[0m\n",
      "\u001b[38;5;27mCORT108297_vs_input\u001b[0m\n",
      "\u001b[38;5;27mCpdA_vs_input\u001b[0m\n",
      "delme\n",
      "\u001b[38;5;27mDex_vs_input\u001b[0m\n",
      "\u001b[38;5;27mDMSO_vs_input\u001b[0m\n",
      "\u001b[38;5;27mGW870086_vs_input\u001b[0m\n",
      "\u001b[38;5;27mHydrocortisone_vs_input\u001b[0m\n",
      "\u001b[38;5;27mMapracorat_vs_input\u001b[0m\n",
      "peak_counts.csv\n",
      "peak_counts.pdf\n",
      "\u001b[38;5;27mRU486_vs_input\u001b[0m\n",
      "\u001b[38;5;27mslurm_files\u001b[0m\n",
      "\u001b[38;5;27mZK216348_vs_input\u001b[0m\n"
     ]
    }
   ],
   "source": [
    "ls /data/reddylab/gjohnson/whole_genome_STARRseq/wgss3/peak_calls/cradle/callPeak"
   ]
  },
  {
   "cell_type": "code",
   "execution_count": 7,
   "id": "165c0feb-e840-41c8-8ed2-487efbc5d5f8",
   "metadata": {},
   "outputs": [
    {
     "name": "stdout",
     "output_type": "stream",
     "text": [
      "CRADLE_peaks\n",
      "DMSO_active_peaks.bed\n",
      "DMSO_active_peaks_fc2_annotation.pdf\n",
      "DMSO_active_peaks_fc2_annotation.txt?FALSE\n",
      "DMSO_active_peaks_fc2.bed\n",
      "DMSO_active_peaks_fc2.fa\n",
      "DMSO_active_peaks_fc2.IGV.bed\n",
      "DMSO_peak_characterization.pdf\n",
      "DMSO_peak_cohenD_by_type.csv\n",
      "DMSO_peak_cohenD_summary.txt\n",
      "DMSO_peak_FCs_by_type.csv\n",
      "DMSO_peak_FCs_summary.txt\n",
      "DMSO_peak_lengths_by_type.csv\n",
      "DMSO_peak_lengths_summary.txt\n",
      "DMSO_peak_negLog10FDR_by_type.csv\n",
      "DMSO_peak_negLog10FDR_summary.txt\n",
      "DMSO_repressed_peaks.bed\n",
      "DMSO_repressed_peaks_fc2.bed\n",
      "frag.bed\n",
      "\u001b[0m\u001b[38;5;27mfragments_overlapping_two_peaks_analysis\u001b[0m\n",
      "peaks.bed\n"
     ]
    }
   ],
   "source": [
    "ls /data/reddylab/gjohnson/whole_genome_STARRseq/wgss3/peak_calls/cradle/callPeak/DMSO_vs_input"
   ]
  },
  {
   "cell_type": "code",
   "execution_count": 15,
   "id": "610b5f0c-b7a0-4edc-8992-fd6b33bc3b45",
   "metadata": {},
   "outputs": [
    {
     "name": "stdout",
     "output_type": "stream",
     "text": [
      "chr\tstart\tend\tname\tscore\tstrand\teffectSize\tinputCount\toutputCount\t-log(pvalue)\t-log(qvalue)\tcohen's_d\tpeusdoLog2FC\n",
      "chr1\t826692\t827569\tchr1:826692-827569\t.\t.\t634\t41\t676\t3.54\t2.99\t3.8222769327274544\t1.5521810896230643\n",
      "chr1\t855138\t855338\tchr1:855138-855338\t.\t.\t-645\t332\t-312\t4.63\t3.6\t-5.9612229567186725\t-1.130890068039107\n",
      "chr1\t873788\t873988\tchr1:873788-873988\t.\t.\t373\t-49\t324\t5.21\t4.34\t7.332422439857387\t0.42996594360935786\n",
      "chr1\t912250\t912450\tchr1:912250-912450\t.\t.\t292\t-361\t-68\t3.84\t2.78\t4.54848704345102\t0.5033759572832853\n"
     ]
    }
   ],
   "source": [
    "FDIRY=/data/reddylab/gjohnson/whole_genome_STARRseq/wgss3/peak_calls/cradle/callPeak\n",
    "head -5 ${FDIRY}/DMSO_vs_input/CRADLE_peaks"
   ]
  },
  {
   "cell_type": "code",
   "execution_count": 17,
   "id": "a42980eb-8374-478c-a0cc-0bbc4a7eb254",
   "metadata": {},
   "outputs": [
    {
     "name": "stdout",
     "output_type": "stream",
     "text": [
      "chr1\t826692\t827569\tchr1:826692-827569\t.\t.\t634\t41\t676\t3.54\t2.99\t3.8222769327274544\t1.5521810896230643\n",
      "chr1\t873788\t873988\tchr1:873788-873988\t.\t.\t373\t-49\t324\t5.21\t4.34\t7.332422439857387\t0.42996594360935786\n",
      "chr1\t912250\t912450\tchr1:912250-912450\t.\t.\t292\t-361\t-68\t3.84\t2.78\t4.54848704345102\t0.5033759572832853\n",
      "chr1\t936576\t937226\tchr1:936576-937226\t.\t.\t981\t-157\t823\t4.38\t3.54\t5.809725381268675\t0.8830432298513189\n",
      "chr1\t942408\t943588\tchr1:942408-943588\t.\t.\t2563\t11\t2574\t4.68\t3.87\t5.866441907339416\t1.75775449885383\n"
     ]
    }
   ],
   "source": [
    "FDIRY=/data/reddylab/gjohnson/whole_genome_STARRseq/wgss3/peak_calls/cradle/callPeak\n",
    "head -5 ${FDIRY}/DMSO_vs_input/DMSO_active_peaks.bed"
   ]
  },
  {
   "cell_type": "code",
   "execution_count": 19,
   "id": "460e5593-ca9d-4bbd-95ce-7ccc053c0f0f",
   "metadata": {},
   "outputs": [
    {
     "name": "stdout",
     "output_type": "stream",
     "text": [
      "chr1\t826692\t827569\tchr1:826692-827569\t.\t.\t634\t41\t676\t3.54\t2.99\t3.8222769327274544\t1.5521810896230643\n",
      "chr1\t942408\t943588\tchr1:942408-943588\t.\t.\t2563\t11\t2574\t4.68\t3.87\t5.866441907339416\t1.75775449885383\n",
      "chr1\t958888\t959938\tchr1:958888-959938\t.\t.\t1436\t9\t1446\t8.39\t7.56\t14.332188195961761\t1.142121943997983\n",
      "chr1\t999938\t1001188\tchr1:999938-1001188\t.\t.\t4294\t212\t4506\t7.21\t6.52\t12.394842346067144\t2.0631365845655836\n",
      "chr1\t1005813\t1007438\tchr1:1005813-1007438\t.\t.\t3646\t-11\t3635\t5.02\t4.54\t5.103553527273011\t2.049003322717588\n"
     ]
    }
   ],
   "source": [
    "FDIRY=/data/reddylab/gjohnson/whole_genome_STARRseq/wgss3/peak_calls/cradle/callPeak\n",
    "head -5 ${FDIRY}/DMSO_vs_input/DMSO_active_peaks_fc2.bed"
   ]
  },
  {
   "cell_type": "code",
   "execution_count": null,
   "id": "ec8cb283-241a-42b1-9866-1edeec382f0d",
   "metadata": {},
   "outputs": [],
   "source": []
  }
 ],
 "metadata": {
  "kernelspec": {
   "display_name": "Bash",
   "language": "bash",
   "name": "bash"
  },
  "language_info": {
   "codemirror_mode": "shell",
   "file_extension": ".sh",
   "mimetype": "text/x-sh",
   "name": "bash"
  }
 },
 "nbformat": 4,
 "nbformat_minor": 5
}
