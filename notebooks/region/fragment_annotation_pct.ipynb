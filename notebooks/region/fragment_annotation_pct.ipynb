{
 "cells": [
  {
   "cell_type": "code",
   "execution_count": 1,
   "id": "53ec5574",
   "metadata": {},
   "outputs": [
    {
     "name": "stdout",
     "output_type": "stream",
     "text": [
      "You are in: Singularity | singularity_proj_combeffect\n",
      "    BASE DIRECTORY:     /mount/work\n",
      "    PATH OF SOURCE:     /mount/work/source\n",
      "    PATH OF EXECUTABLE: /mount/work/exe\n",
      "    PATH OF ANNOTATION: /mount/work/annotation\n",
      "    PATH OF PROJECT:    /mount/project\n",
      "    PATH OF RESULTS:    /mount/work/out/proj_combeffect\n",
      "\n",
      "Library imported:\n",
      "    numpy, pandas, matplotlib.pyplot\n",
      "    os, sys, time, gzip, glob\n",
      "\n"
     ]
    }
   ],
   "source": [
    "import sys\n",
    "sys.path.append('../')\n",
    "from config_sing import *\n",
    "show_env()"
   ]
  },
  {
   "cell_type": "code",
   "execution_count": 2,
   "id": "b6732e45",
   "metadata": {},
   "outputs": [],
   "source": [
    "import sqlite3\n",
    "import itertools as it\n",
    "from collections import defaultdict\n",
    "import matplotlib as mpl\n",
    "from matplotlib.lines import Line2D\n",
    "from mpl_toolkits.axes_grid1 import make_axes_locatable\n",
    "plt.style.use(\"seaborn-whitegrid\")\n",
    "\n",
    "import math\n",
    "import random\n",
    "import json\n",
    "from sklearn.manifold import TSNE\n",
    "from functools import partial, reduce\n",
    "print = partial(print, flush=True)\n",
    "\n",
    "### Set Samples\n",
    "fun = np.core.defchararray.add\n",
    "idx = np.arange(1,6).astype(\"str\")\n",
    "\n",
    "INPUT    = reduce(fun, [\"Input\", idx])\n",
    "INPUT20X = reduce(fun, [\"Input\", idx,     \"_20x\"])\n",
    "TFX_DMSO = reduce(fun, [\"TFX\",   idx[1:], \"_DMSO\"])\n",
    "TFX_DEX  = reduce(fun, [\"TFX\",   idx[1:], \"_Dex\"])\n",
    "SAMPLES  = np.concatenate([INPUT20X, TFX_DMSO, TFX_DEX])\n",
    "SAMPLES_OUT = np.concatenate([TFX_DMSO, TFX_DEX])\n",
    "GROUPS   = [\"Input\", \"Input_20x\", \"TFX_DMSO\", \"TFX_Dex\"]\n",
    "\n",
    "### file path of database\n",
    "fdiry = os.path.join(FD_RES, 'database')\n",
    "fname = \"fragment_chr17.db\"\n",
    "FPATH_DB = os.path.join(fdiry, fname)"
   ]
  },
  {
   "cell_type": "markdown",
   "id": "4aa3269c",
   "metadata": {},
   "source": [
    "## Test streaming fragments"
   ]
  },
  {
   "cell_type": "code",
   "execution_count": 3,
   "id": "cc88eaf9",
   "metadata": {},
   "outputs": [],
   "source": [
    "def prep_line(line):\n",
    "    cnames = (\n",
    "        \"Frag_Chrom\", \n",
    "        \"Frag_Start\", \n",
    "        \"Frag_End\", \n",
    "        \"Frag_Count\", \n",
    "        \"Region_Chrom\", \n",
    "        \"Region_Start\", \n",
    "        \"Region_End\",\n",
    "        \"Region_Name\", \n",
    "        \"Region_Score\",\n",
    "        \"Region_Strand\",\n",
    "        \"Overlap\")\n",
    "    lst = line.decode('ASCII').strip().split('\\t')  \n",
    "    dct = dict(zip(cnames, lst))\n",
    "    fragment = \"_\".join([dct[\"Frag_Chrom\"],   dct[\"Frag_Start\"],   dct[\"Frag_End\"]]) \n",
    "    region   = \"_\".join([dct[\"Region_Chrom\"], dct[\"Region_Start\"], dct[\"Region_End\"]]) \n",
    "    return fragment, region\n",
    "\n",
    "### helper function to get a chunk of file\n",
    "def get_chunks(gen, rows=10):\n",
    "    \"\"\"Divides the data into #rows in each list\"\"\"\n",
    "    iterable = iter(gen)\n",
    "    while True:\n",
    "        x = list(it.islice(iterable, rows))\n",
    "        if not x:\n",
    "            return\n",
    "        yield x"
   ]
  },
  {
   "cell_type": "code",
   "execution_count": 4,
   "id": "da206b02",
   "metadata": {},
   "outputs": [
    {
     "name": "stdout",
     "output_type": "stream",
     "text": [
      "/mount/work/out/proj_combeffect/count_fragment/TFX2_DMSO/region_dex_GR_P300_dnase_chr17.bed.gz\n",
      "b'chr17\\t6001570\\t6002624\\t2\\tchr17\\t6002561\\t6003866\\tchr17:6002561-6003866\\t.\\t.\\t63\\n'\n",
      "b'chr17\\t6001571\\t6002624\\t1\\tchr17\\t6002561\\t6003866\\tchr17:6002561-6003866\\t.\\t.\\t63\\n'\n",
      "b'chr17\\t6001762\\t6002691\\t2\\tchr17\\t6002561\\t6003866\\tchr17:6002561-6003866\\t.\\t.\\t130\\n'\n",
      "b'chr17\\t6001762\\t6002692\\t1\\tchr17\\t6002561\\t6003866\\tchr17:6002561-6003866\\t.\\t.\\t131\\n'\n",
      "b'chr17\\t6001763\\t6002692\\t1\\tchr17\\t6002561\\t6003866\\tchr17:6002561-6003866\\t.\\t.\\t131\\n'\n",
      "b'chr17\\t6001765\\t6002692\\t1\\tchr17\\t6002561\\t6003866\\tchr17:6002561-6003866\\t.\\t.\\t131\\n'\n",
      "b'chr17\\t6001969\\t6002895\\t1\\tchr17\\t6002561\\t6003866\\tchr17:6002561-6003866\\t.\\t.\\t334\\n'\n",
      "b'chr17\\t6001969\\t6002896\\t1\\tchr17\\t6002561\\t6003866\\tchr17:6002561-6003866\\t.\\t.\\t335\\n'\n",
      "b'chr17\\t6001970\\t6002896\\t1\\tchr17\\t6002561\\t6003866\\tchr17:6002561-6003866\\t.\\t.\\t335\\n'\n",
      "b'chr17\\t6002054\\t6002943\\t2\\tchr17\\t6002561\\t6003866\\tchr17:6002561-6003866\\t.\\t.\\t382\\n'\n"
     ]
    },
    {
     "data": {
      "text/plain": [
       "['chr17_6001570_6002624',\n",
       " 'chr17_6001571_6002624',\n",
       " 'chr17_6001762_6002691',\n",
       " 'chr17_6001762_6002692',\n",
       " 'chr17_6001763_6002692',\n",
       " 'chr17_6001765_6002692',\n",
       " 'chr17_6001969_6002895',\n",
       " 'chr17_6001969_6002896',\n",
       " 'chr17_6001970_6002896',\n",
       " 'chr17_6002054_6002943']"
      ]
     },
     "execution_count": 4,
     "metadata": {},
     "output_type": "execute_result"
    }
   ],
   "source": [
    "fdiry = os.path.join(FD_RES, \"count_fragment\", \"TFX2_DMSO\")\n",
    "fname = \"region_dex_GR_P300_dnase_chr17.bed.gz\"\n",
    "fpath = os.path.join(fdiry, fname)\n",
    "print(fpath)\n",
    "\n",
    "frgs = []\n",
    "with gzip.open(fpath, 'rb') as file:\n",
    "    chunks = get_chunks(file)\n",
    "    chunk  = next(chunks)\n",
    "    for line in chunk:\n",
    "        print(line)\n",
    "        frg, reg = prep_line(line)\n",
    "        frgs.append(frg)\n",
    "        \n",
    "frgs"
   ]
  },
  {
   "cell_type": "markdown",
   "id": "9fc7f942",
   "metadata": {},
   "source": [
    "## Annotation: GC content"
   ]
  },
  {
   "cell_type": "code",
   "execution_count": 14,
   "id": "60213350",
   "metadata": {},
   "outputs": [],
   "source": [
    "def get_pct(frgs, fpath_db=FPATH_DB):\n",
    "    \"\"\"get GC content of the given fragments\"\"\"\n",
    "    ### set query\n",
    "    txt   = ', '.join('?' for _ in frgs)\n",
    "    query = f\"\"\"\n",
    "        SELECT   Frg.fragment, Frg.pct_gc\n",
    "        FROM     Fragment Frg\n",
    "        WHERE    Frg.fragment IN ({txt})\n",
    "        ORDER BY Frg.fragment\n",
    "        \"\"\"\n",
    "    \n",
    "    ### query out from database\n",
    "    with sqlite3.connect(fpath_db) as conn:\n",
    "        cursor = conn.cursor()\n",
    "        cursor = cursor.execute(query, frgs)\n",
    "    \n",
    "    ### generate each row\n",
    "    for row in cursor:\n",
    "        yield row"
   ]
  },
  {
   "cell_type": "code",
   "execution_count": 6,
   "id": "ddd52648",
   "metadata": {},
   "outputs": [
    {
     "data": {
      "text/plain": [
       "[('chr17_6001570_6002624', 0.541746),\n",
       " ('chr17_6001571_6002624', 0.54226),\n",
       " ('chr17_6001762_6002691', 0.528525),\n",
       " ('chr17_6001762_6002692', 0.527957),\n",
       " ('chr17_6001763_6002692', 0.528525),\n",
       " ('chr17_6001765_6002692', 0.528587),\n",
       " ('chr17_6001969_6002895', 0.534557),\n",
       " ('chr17_6001969_6002896', 0.533981),\n",
       " ('chr17_6001970_6002896', 0.533477),\n",
       " ('chr17_6002054_6002943', 0.524184)]"
      ]
     },
     "execution_count": 6,
     "metadata": {},
     "output_type": "execute_result"
    }
   ],
   "source": [
    "gen = get_pct(frgs)\n",
    "list(gen)"
   ]
  },
  {
   "cell_type": "code",
   "execution_count": 9,
   "id": "19a9ef17",
   "metadata": {},
   "outputs": [
    {
     "name": "stdout",
     "output_type": "stream",
     "text": [
      "/mount/work/out/proj_combeffect/count_fragment/TFX2_DMSO/region_dex_GR_P300_dnase_chr17.bed.gz\n",
      "/mount/work/out/proj_combeffect/scratch/region_dex_GR_P300_dnase_chr17/TFX2_DMSO_pct.tsv\n",
      "/mount/work/out/proj_combeffect/count_fragment/TFX3_DMSO/region_dex_GR_P300_dnase_chr17.bed.gz\n",
      "/mount/work/out/proj_combeffect/scratch/region_dex_GR_P300_dnase_chr17/TFX3_DMSO_pct.tsv\n",
      "/mount/work/out/proj_combeffect/count_fragment/TFX4_DMSO/region_dex_GR_P300_dnase_chr17.bed.gz\n",
      "/mount/work/out/proj_combeffect/scratch/region_dex_GR_P300_dnase_chr17/TFX4_DMSO_pct.tsv\n",
      "/mount/work/out/proj_combeffect/count_fragment/TFX5_DMSO/region_dex_GR_P300_dnase_chr17.bed.gz\n",
      "/mount/work/out/proj_combeffect/scratch/region_dex_GR_P300_dnase_chr17/TFX5_DMSO_pct.tsv\n",
      "/mount/work/out/proj_combeffect/count_fragment/TFX2_Dex/region_dex_GR_P300_dnase_chr17.bed.gz\n",
      "/mount/work/out/proj_combeffect/scratch/region_dex_GR_P300_dnase_chr17/TFX2_Dex_pct.tsv\n",
      "/mount/work/out/proj_combeffect/count_fragment/TFX3_Dex/region_dex_GR_P300_dnase_chr17.bed.gz\n",
      "/mount/work/out/proj_combeffect/scratch/region_dex_GR_P300_dnase_chr17/TFX3_Dex_pct.tsv\n",
      "/mount/work/out/proj_combeffect/count_fragment/TFX4_Dex/region_dex_GR_P300_dnase_chr17.bed.gz\n",
      "/mount/work/out/proj_combeffect/scratch/region_dex_GR_P300_dnase_chr17/TFX4_Dex_pct.tsv\n",
      "/mount/work/out/proj_combeffect/count_fragment/TFX5_Dex/region_dex_GR_P300_dnase_chr17.bed.gz\n",
      "/mount/work/out/proj_combeffect/scratch/region_dex_GR_P300_dnase_chr17/TFX5_Dex_pct.tsv\n",
      "CPU times: user 2.68 s, sys: 1.6 s, total: 4.28 s\n",
      "Wall time: 2min 13s\n"
     ]
    }
   ],
   "source": [
    "%%time\n",
    "\n",
    "for sample in SAMPLES_OUT:\n",
    "\n",
    "    ### input file\n",
    "    fdiry = os.path.join(FD_RES, \"count_fragment\", sample)\n",
    "    fname = \"region_dex_GR_P300_dnase_chr17.bed.gz\"\n",
    "    fpath_inp = os.path.join(fdiry, fname)\n",
    "\n",
    "    ### output file\n",
    "    fdiry = os.path.join(FD_RES, \"scratch\", \"region_dex_GR_P300_dnase_chr17\")\n",
    "    fname = f\"{sample}_pct.tsv\"\n",
    "    fpath_out = os.path.join(fdiry, fname)\n",
    "\n",
    "    ### show file IO\n",
    "    print(fpath_inp)\n",
    "    print(fpath_out)\n",
    "\n",
    "    with gzip.open(fpath_inp, 'rb') as finp, open(fpath_out, 'w') as fout:\n",
    "        ### set chunks\n",
    "        chunks = get_chunks(finp)\n",
    "\n",
    "        ### loop through each chunk\n",
    "        for chunk in chunks:\n",
    "            ### get fragments\n",
    "            frgs   = []\n",
    "            for line in chunk:\n",
    "                frg, reg = prep_line(line)\n",
    "                frgs.append(frg)\n",
    "\n",
    "            ### get pct from database\n",
    "            gen = get_pct(frgs)\n",
    "            for row in gen:\n",
    "                frg, pct = row\n",
    "                line = \"\\t\".join([frg, str(pct)])\n",
    "                #print(line)\n",
    "                fout.write(line + \"\\n\")\n",
    "            #break"
   ]
  },
  {
   "cell_type": "code",
   "execution_count": null,
   "id": "b752f079",
   "metadata": {},
   "outputs": [],
   "source": []
  }
 ],
 "metadata": {
  "kernelspec": {
   "display_name": "Python 3",
   "language": "python",
   "name": "python3"
  },
  "language_info": {
   "codemirror_mode": {
    "name": "ipython",
    "version": 3
   },
   "file_extension": ".py",
   "mimetype": "text/x-python",
   "name": "python",
   "nbconvert_exporter": "python",
   "pygments_lexer": "ipython3",
   "version": "3.7.6"
  }
 },
 "nbformat": 4,
 "nbformat_minor": 5
}
