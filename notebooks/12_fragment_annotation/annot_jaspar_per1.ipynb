{
 "cells": [
  {
   "cell_type": "code",
   "execution_count": 1,
   "id": "bae991b7-06b1-4df0-9c93-cf5e8331be61",
   "metadata": {},
   "outputs": [
    {
     "name": "stdout",
     "output_type": "stream",
     "text": [
      "You are on Duke Server: DCC\n",
      "BASE DIRECTORY:     /work/kk319\n",
      "WORK DIRECTORY:     /work/kk319/out/CombEffect_STARR\n",
      "LOG  DIRECTORY:     /work/kk319/out/CombEffect_STARR/log\n",
      "PATH OF SOURCE:     /work/kk319/source\n",
      "PATH OF EXECUTABLE: /work/kk319/exe\n",
      "PATH OF ANNOTATION: /work/kk319/annotation\n",
      "\n"
     ]
    }
   ],
   "source": [
    "source ../config_duke.sh"
   ]
  },
  {
   "cell_type": "code",
   "execution_count": 5,
   "id": "0b7588fd-476d-4a7a-9938-4b30a352fbd4",
   "metadata": {},
   "outputs": [
    {
     "name": "stdout",
     "output_type": "stream",
     "text": [
      "/work/kk319/out/CombEffect_STARR/count_fragment/Input1/target_PER1.bed\n",
      "/work/kk319/annotation/motif_jaspar_2020/MA0113.3.tsv\n"
     ]
    }
   ],
   "source": [
    "CHROM=chr17\n",
    "TARGET=target_PER1\n",
    "MOTIF=MA0113.3\n",
    "FP_BED=${FD_WRK}/count_fragment/Input1/${TARGET}.bed\n",
    "FP_MTF=${FD_ANN}/motif_jaspar_2020/${MOTIF}.tsv\n",
    "ls ${FP_BED}\n",
    "ls ${FP_MTF}"
   ]
  },
  {
   "cell_type": "code",
   "execution_count": 7,
   "id": "b7018ef0-5be9-4415-a863-96c697c38b6e",
   "metadata": {},
   "outputs": [
    {
     "name": "stdout",
     "output_type": "stream",
     "text": [
      "You are on Duke Server: DCC\n",
      "BASE DIRECTORY:     /work/kk319\n",
      "WORK DIRECTORY:     /work/kk319/out/CombEffect_STARR\n",
      "LOG  DIRECTORY:     /work/kk319/out/CombEffect_STARR/log\n",
      "PATH OF SOURCE:     /work/kk319/source\n",
      "PATH OF EXECUTABLE: /work/kk319/exe\n",
      "PATH OF ANNOTATION: /work/kk319/annotation\n",
      "\n",
      "You are on Duke Server: DCC\n",
      "chr17\t8150924\t8151934\tchr17\t8151910\t8151927\tNR3C1\t910\t547\t+\t17\n",
      "chr17\t8150924\t8151934\tchr17\t8151910\t8151927\tNR3C1\t887\t501\t-\t17\n",
      "chr17\t8150967\t8152017\tchr17\t8151910\t8151927\tNR3C1\t910\t547\t+\t17\n",
      "chr17\t8150967\t8152017\tchr17\t8151910\t8151927\tNR3C1\t887\t501\t-\t17\n",
      "chr17\t8151036\t8151950\tchr17\t8151910\t8151927\tNR3C1\t910\t547\t+\t17\n",
      "chr17\t8151036\t8151950\tchr17\t8151910\t8151927\tNR3C1\t887\t501\t-\t17\n",
      "chr17\t8151038\t8152053\tchr17\t8151910\t8151927\tNR3C1\t910\t547\t+\t17\n",
      "chr17\t8151038\t8152053\tchr17\t8151910\t8151927\tNR3C1\t887\t501\t-\t17\n",
      "chr17\t8151125\t8152088\tchr17\t8151910\t8151927\tNR3C1\t910\t547\t+\t17\n",
      "chr17\t8151125\t8152088\tchr17\t8151910\t8151927\tNR3C1\t887\t501\t-\t17\n"
     ]
    }
   ],
   "source": [
    "source ../config_duke.sh\n",
    "source ../load_module_bedtools.sh\n",
    "\n",
    "CHROM=chr17\n",
    "TARGET=target_PER1\n",
    "MOTIF=MA0113.3\n",
    "\n",
    "FP_BED=${FD_WRK}/data/Input1/${TARGET}.bed\n",
    "FP_MTF=${FD_ANN}/motif_jaspar_2020/${MOTIF}.tsv\n",
    "bedtools intersect -a ${FP_BED} -b ${FP_MTF} -wo | head"
   ]
  },
  {
   "cell_type": "code",
   "execution_count": 9,
   "id": "b48c4e63-d9b7-4ef0-8c8e-56844cdcff83",
   "metadata": {},
   "outputs": [
    {
     "name": "stdout",
     "output_type": "stream",
     "text": [
      "/work/kk319/annotation/motif_jaspar_2020/MA0099.3.tsv\n",
      "/work/kk319/annotation/motif_jaspar_2020/MA0113.3.tsv\n"
     ]
    }
   ],
   "source": [
    "FD_MTF=${FD_ANN}/motif_jaspar_2020\n",
    "ls ${FD_MTF}/*.tsv"
   ]
  },
  {
   "cell_type": "code",
   "execution_count": 13,
   "id": "9311416e-e3a3-4ba4-bc15-d3af9defe9f6",
   "metadata": {},
   "outputs": [
    {
     "name": "stdout",
     "output_type": "stream",
     "text": [
      "MA0099.3.tsv\n",
      "MA0099.3\n",
      "MA0113.3.tsv\n",
      "MA0113.3\n"
     ]
    }
   ],
   "source": [
    "for FP_MTF in $(ls ${FD_MTF}/*.tsv); do\n",
    "    ### get motif and specify output file\n",
    "    FNAME=$(basename ${FP_MTF})\n",
    "    MOTIF=\"${FNAME%*.*}\"\n",
    "    echo ${FNAME}\n",
    "    echo ${MOTIF}\n",
    "done"
   ]
  },
  {
   "cell_type": "code",
   "execution_count": 14,
   "id": "accc7c56-44e4-4b50-b57a-9bf14403c35a",
   "metadata": {},
   "outputs": [
    {
     "name": "stdout",
     "output_type": "stream",
     "text": [
      "You are on Duke Server: DCC\n",
      "BASE DIRECTORY:     /work/kk319\n",
      "WORK DIRECTORY:     /work/kk319/out/CombEffect_STARR\n",
      "LOG  DIRECTORY:     /work/kk319/out/CombEffect_STARR/log\n",
      "PATH OF SOURCE:     /work/kk319/source\n",
      "PATH OF EXECUTABLE: /work/kk319/exe\n",
      "PATH OF ANNOTATION: /work/kk319/annotation\n",
      "\n",
      "You are on Duke Server: DCC\n",
      "Submitted batch job 15715619\n"
     ]
    }
   ],
   "source": [
    "source ../config_duke.sh\n",
    "source ../load_module_bedtools.sh\n",
    "\n",
    "### run script using sbatch\n",
    "sbatch -p scavenger \\\n",
    "    --array=0-15 \\\n",
    "    --mem 8G \\\n",
    "    -o ${FD_LOG}/annot_fragment_per1_jaspar.%a.txt \\\n",
    "    <<'EOF'\n",
    "#!/bin/bash\n",
    "### set directories and global parameters\n",
    "source config.sh\n",
    "CHROM=chr17\n",
    "TARGET=target_PER1\n",
    "\n",
    "### set input and output files\n",
    "# input count files\n",
    "FD_BEDS=($(ls -d ${FD_WRK}/data/*/))\n",
    "FD_BED=${FD_BEDS[${SLURM_ARRAY_TASK_ID}]}\n",
    "FN_BED=${TARGET}.bed\n",
    "\n",
    "# motif annotation\n",
    "#FD_MTF=${FD_ANN}/motif_cluster_jvierstra/hg38_archetype_motifs_v1/${CHROM}\n",
    "FD_MTF=${FD_ANN}/motif_jaspar_2020\n",
    "\n",
    "# output\n",
    "SAMPLE=$(basename ${FD_CNT})\n",
    "FD_OUT=${FD_WRK}/annotation_fragment/${SAMPLE}\n",
    "\n",
    "### print start message\n",
    "echo \"Slurm Array Index: \" ${SLURM_ARRAY_TASK_ID}\n",
    "echo \"Input  file:       \" ${FD_BED}/${FN_BED}\n",
    "echo\n",
    "echo \"Show the first few lines of the input file\"\n",
    "echo ${FD_BED}/${FN_BED}\n",
    "head ${FD_BED}/${FN_BED}\n",
    "\n",
    "### annotation fragments\n",
    "for FP_MTF in $(ls ${FD_MTF}/*.tsv); do\n",
    "    ### get motif and specify output file\n",
    "    FNAME=$(basename ${FP_MTF})\n",
    "    MOTIF=\"${FNAME%*.*}\"\n",
    "    FN_OUT=${TARGET}_${MOTIF}.bed\n",
    "    \n",
    "    ### annotation using intersect\n",
    "    echo \"Motif  file: \" ${FP_MTF}\n",
    "    echo \"Output file: \" ${FD_OUT}/${FN_OUT}\n",
    "    echo \"Output file: \" ${FD_OUT}/${FN_NUC}\n",
    "    bedtools intersect -a ${FD_BED}/${FN_BED} -b ${FP_MTF} -wo > ${FD_OUT}/${FN_OUT}\n",
    "    \n",
    "    ### print end message\n",
    "    head -n 3 ${FD_OUT}/${FN_OUT}\n",
    "done\n",
    "\n",
    "echo \"Done!\"\n",
    "\n",
    "EOF"
   ]
  },
  {
   "cell_type": "code",
   "execution_count": 15,
   "id": "a361b0ae-e74d-4a32-bb5d-23955966ba1d",
   "metadata": {},
   "outputs": [
    {
     "name": "stdout",
     "output_type": "stream",
     "text": [
      "basename: missing operand\n",
      "Try 'basename --help' for more information.\n",
      "Slurm Array Index:  0\n",
      "Input  file:        /work/kk319/out/CombEffect_STARR/data/Input//target_PER1.bed\n",
      "\n",
      "Show the first few lines of the input file\n",
      "/work/kk319/out/CombEffect_STARR/data/Input//target_PER1.bed\n",
      "chr17\t8148117\t8149012\n",
      "chr17\t8148122\t8149107\n",
      "chr17\t8148178\t8149194\n",
      "chr17\t8148188\t8149154\n",
      "chr17\t8148190\t8149151\n",
      "chr17\t8148220\t8149108\n",
      "chr17\t8148280\t8149232\n",
      "chr17\t8148401\t8149372\n",
      "chr17\t8148548\t8149585\n",
      "chr17\t8148913\t8149953\n",
      "Motif  file:  /work/kk319/annotation/motif_jaspar_2020/MA0099.3.tsv\n",
      "Output file:  /work/kk319/out/CombEffect_STARR/annotation_fragment//target_PER1_MA0099.3.bed\n",
      "Output file:  /work/kk319/out/CombEffect_STARR/annotation_fragment//\n",
      "chr17\t8148117\t8149012\tchr17\t8148258\t8148268\tFOS::JUN\t843\t323\t-\t10\n",
      "chr17\t8148117\t8149012\tchr17\t8148424\t8148434\tFOS::JUN\t804\t282\t-\t10\n",
      "chr17\t8148117\t8149012\tchr17\t8148916\t8148926\tFOS::JUN\t831\t311\t-\t10\n",
      "Motif  file:  /work/kk319/annotation/motif_jaspar_2020/MA0113.3.tsv\n",
      "Output file:  /work/kk319/out/CombEffect_STARR/annotation_fragment//target_PER1_MA0113.3.bed\n",
      "Output file:  /work/kk319/out/CombEffect_STARR/annotation_fragment//\n",
      "chr17\t8150924\t8151934\tchr17\t8151910\t8151927\tNR3C1\t910\t547\t+\t17\n",
      "chr17\t8150924\t8151934\tchr17\t8151910\t8151927\tNR3C1\t887\t501\t-\t17\n",
      "chr17\t8150967\t8152017\tchr17\t8151910\t8151927\tNR3C1\t910\t547\t+\t17\n",
      "Done!\n"
     ]
    }
   ],
   "source": [
    "cat ${FD_LOG}/annot_fragment_per1_jaspar.0.txt"
   ]
  }
 ],
 "metadata": {
  "kernelspec": {
   "display_name": "Bash",
   "language": "bash",
   "name": "bash"
  },
  "language_info": {
   "codemirror_mode": "shell",
   "file_extension": ".sh",
   "mimetype": "text/x-sh",
   "name": "bash"
  }
 },
 "nbformat": 4,
 "nbformat_minor": 5
}
