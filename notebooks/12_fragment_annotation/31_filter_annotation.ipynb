{
 "cells": [
  {
   "cell_type": "code",
   "execution_count": 1,
   "id": "3ea7da27-7ce8-481a-a79f-6c5006046876",
   "metadata": {},
   "outputs": [
    {
     "name": "stdout",
     "output_type": "stream",
     "text": [
      "You are on Duke Server: DCC\n",
      "BASE DIRECTORY:     /work/kk319\n",
      "PATH OF SOURCE:     /work/kk319/source\n",
      "PATH OF EXECUTABLE: /work/kk319/exe\n",
      "PATH OF ANNOTATION: /work/kk319/annotation\n",
      "PATH OF PROJECT:    /hpc/home/kk319/GitRepo/Proj_CombEffect_STARRseq/notebooks\n",
      "PATH OF RESULTS:    /work/kk319/out/proj_combeffect\n",
      "\n"
     ]
    }
   ],
   "source": [
    "source ../config_duke.sh -v"
   ]
  },
  {
   "cell_type": "code",
   "execution_count": 2,
   "id": "b3732137-18a0-43ee-85bc-e438d18bd7b9",
   "metadata": {},
   "outputs": [
    {
     "name": "stdout",
     "output_type": "stream",
     "text": [
      "\u001b[0m\u001b[01;34mannotation_fragment\u001b[0m  \u001b[01;34mbedgraph\u001b[0m   \u001b[01;34mcount_fragment\u001b[0m  \u001b[01;34mcoverage\u001b[0m  \u001b[01;34mkmer\u001b[0m  \u001b[01;34mmodel_linear\u001b[0m\n",
      "\u001b[01;34mannotation_segment\u001b[0m   \u001b[01;34mbootstrap\u001b[0m  \u001b[01;34mcount_segment\u001b[0m   \u001b[01;34mdata\u001b[0m      \u001b[01;34mlog\u001b[0m   \u001b[01;34msource\u001b[0m\n"
     ]
    }
   ],
   "source": [
    "ls ${FD_RES}"
   ]
  },
  {
   "cell_type": "code",
   "execution_count": 3,
   "id": "2ceab925-2428-49ab-bfac-e5e872d67f4f",
   "metadata": {},
   "outputs": [
    {
     "name": "stdout",
     "output_type": "stream",
     "text": [
      "\u001b[0m\u001b[01;34mInput\u001b[0m   \u001b[01;34mInput5\u001b[0m                          \u001b[01;34mTFX2_Dex\u001b[0m   \u001b[01;34mTFX4_DMSO\u001b[0m\n",
      "\u001b[01;34mInput1\u001b[0m  motif_annotation_chr21_090.bed  \u001b[01;34mTFX2_DMSO\u001b[0m  \u001b[01;34mTFX5_Dex\u001b[0m\n",
      "\u001b[01;34mInput2\u001b[0m  motif_annotation_chr21_095.bed  \u001b[01;34mTFX3_Dex\u001b[0m   \u001b[01;34mTFX5_DMSO\u001b[0m\n",
      "\u001b[01;34mInput3\u001b[0m  target_PER1_MA0099.3.bed        \u001b[01;34mTFX3_DMSO\u001b[0m  \u001b[01;34mTFX_Dex\u001b[0m\n",
      "\u001b[01;34mInput4\u001b[0m  target_PER1_MA0113.3.bed        \u001b[01;34mTFX4_Dex\u001b[0m   \u001b[01;34mTFX_DMSO\u001b[0m\n"
     ]
    }
   ],
   "source": [
    "ls ${FD_RES}/annotation_fragment"
   ]
  },
  {
   "cell_type": "code",
   "execution_count": 4,
   "id": "799f15a5-f82d-4ee0-8686-4727f40ae3dc",
   "metadata": {},
   "outputs": [
    {
     "name": "stdout",
     "output_type": "stream",
     "text": [
      "19G Jul 19 01:54 /work/kk319/out/proj_combeffect/annotation_fragment/Input1/chr1.bed\n",
      "20G Jul 19 02:16 /work/kk319/out/proj_combeffect/annotation_fragment/Input2/chr1.bed\n",
      "23G Jul 19 02:39 /work/kk319/out/proj_combeffect/annotation_fragment/Input3/chr1.bed\n",
      "19G Jul 19 02:59 /work/kk319/out/proj_combeffect/annotation_fragment/Input4/chr1.bed\n",
      "15G Jul 19 03:15 /work/kk319/out/proj_combeffect/annotation_fragment/Input5/chr1.bed\n",
      "96\n"
     ]
    }
   ],
   "source": [
    "dir ${FD_RES}/annotation_fragment/Input?/chr1.bed"
   ]
  },
  {
   "cell_type": "code",
   "execution_count": 5,
   "id": "c72178c5-52e5-4412-8b18-036132f44351",
   "metadata": {},
   "outputs": [
    {
     "name": "stdout",
     "output_type": "stream",
     "text": [
      "41G Jul 19 03:55 /work/kk319/out/proj_combeffect/annotation_fragment/TFX2_DMSO/chr1.bed\n",
      "26G Jul 19 05:02 /work/kk319/out/proj_combeffect/annotation_fragment/TFX3_DMSO/chr1.bed\n",
      "30G Jul 19 06:00 /work/kk319/out/proj_combeffect/annotation_fragment/TFX4_DMSO/chr1.bed\n",
      "28G Jul 19 07:09 /work/kk319/out/proj_combeffect/annotation_fragment/TFX5_DMSO/chr1.bed\n",
      "125\n"
     ]
    }
   ],
   "source": [
    "dir ${FD_RES}/annotation_fragment/TFX?_DMSO/chr1.bed"
   ]
  },
  {
   "cell_type": "code",
   "execution_count": 6,
   "id": "7a410326-e614-4b31-89d7-554be8ac6daf",
   "metadata": {},
   "outputs": [
    {
     "name": "stdout",
     "output_type": "stream",
     "text": [
      "41G Jul 19 04:36 /work/kk319/out/proj_combeffect/annotation_fragment/TFX2_Dex/chr1.bed\n",
      "25G Jul 19 05:27 /work/kk319/out/proj_combeffect/annotation_fragment/TFX3_Dex/chr1.bed\n",
      "33G Jul 19 06:41 /work/kk319/out/proj_combeffect/annotation_fragment/TFX4_Dex/chr1.bed\n",
      "41G Jul 19 07:52 /work/kk319/out/proj_combeffect/annotation_fragment/TFX5_Dex/chr1.bed\n",
      "140\n"
     ]
    }
   ],
   "source": [
    "dir ${FD_RES}/annotation_fragment/TFX?_Dex/chr1.bed"
   ]
  },
  {
   "cell_type": "code",
   "execution_count": 12,
   "id": "d8c90ea7-3113-4703-a7d7-402881242282",
   "metadata": {},
   "outputs": [
    {
     "name": "stdout",
     "output_type": "stream",
     "text": [
      "chr1         13868        14793        1            chr1         13881        13895        NR/13        5.862        14\n",
      "chr1         13868        14793        1            chr1         13881        13894        NR/1         3.4599       13\n",
      "chr1         13868        14793        1            chr1         13881        13895        NR/3         10.4257      14\n",
      "chr1         13868        14793        1            chr1         13890        13899        KLF/SP/3     10.0719      9\n",
      "chr1         13868        14793        1            chr1         13891        13899        MFZ1         7.6422       8\n",
      "chr1         13868        14793        1            chr1         13914        13921        REL-halfsite 7.5453       7\n",
      "chr1         13868        14793        1            chr1         13914        13974        GC-tract     8.75194      60\n",
      "chr1         13868        14793        1            chr1         13915        13934        ZNF143       5.9268       19\n",
      "chr1         13868        14793        1            chr1         13915        13928        NR/11        7.6638       13\n",
      "chr1         13868        14793        1            chr1         13915        13929        RFX/1        10.5127      14\n"
     ]
    }
   ],
   "source": [
    "head ${FD_RES}/annotation_fragment/Input1/chr1.bed | expand -t 13"
   ]
  },
  {
   "cell_type": "code",
   "execution_count": 15,
   "id": "603b16d3-9ce8-4780-af3c-46205e64b333",
   "metadata": {},
   "outputs": [
    {
     "name": "stdout",
     "output_type": "stream",
     "text": [
      "scavenger\n",
      "/work/kk319/out/proj_combeffect/log\n"
     ]
    }
   ],
   "source": [
    "echo ${NODE}\n",
    "echo ${FD_LOG}"
   ]
  },
  {
   "cell_type": "code",
   "execution_count": null,
   "id": "28f3da61-a953-4eaa-a023-f0d58a8472cd",
   "metadata": {},
   "outputs": [],
   "source": [
    "### run script using sbatch\n",
    "sbatch -p ${NODE} \\\n",
    "    --mem 8G \\\n",
    "    --array 0-22 \\\n",
    "    -o ${FD_LOG}/annotation_fragment_filter95.txt \\\n",
    "    <<'EOF'\n",
    "#!/bin/bash\n",
    "### set directories\n",
    "source ../config_duke.sh\n",
    "\n",
    "EOF"
   ]
  }
 ],
 "metadata": {
  "kernelspec": {
   "display_name": "Bash",
   "language": "bash",
   "name": "bash"
  },
  "language_info": {
   "codemirror_mode": "shell",
   "file_extension": ".sh",
   "mimetype": "text/x-sh",
   "name": "bash"
  }
 },
 "nbformat": 4,
 "nbformat_minor": 5
}
