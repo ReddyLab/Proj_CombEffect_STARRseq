{
 "cells": [
  {
   "cell_type": "markdown",
   "id": "bd0f8322-3ebe-4216-b250-4e32e77cf5a4",
   "metadata": {},
   "source": [
    "# Filter annotation fragments based on motif score"
   ]
  },
  {
   "cell_type": "code",
   "execution_count": 1,
   "id": "11c15415-478c-46cc-9d60-98f36ea317ea",
   "metadata": {},
   "outputs": [
    {
     "name": "stdout",
     "output_type": "stream",
     "text": [
      "You are on Duke Server: HARDAC\n",
      "BASE DIRECTORY:     /gpfs/fs1/data/reddylab/Kuei\n",
      "PATH OF SOURCE:     /gpfs/fs1/data/reddylab/Kuei/source\n",
      "PATH OF EXECUTABLE: /gpfs/fs1/data/reddylab/Kuei/exe\n",
      "PATH OF ANNOTATION: /gpfs/fs1/data/reddylab/Kuei/annotation\n",
      "PATH OF PROJECT:    /gpfs/fs1/data/reddylab/Kuei/GitRepo/Proj_CombEffect_STARRseq/notebooks\n",
      "PATH OF RESULTS:    /gpfs/fs1/data/reddylab/Kuei/out/proj_combeffect\n",
      "\n"
     ]
    }
   ],
   "source": [
    "source ../config_duke.sh -v"
   ]
  },
  {
   "cell_type": "markdown",
   "id": "0a66e0cd-4f14-49d9-9ea9-01bb65424ca4",
   "metadata": {},
   "source": [
    "## Check files"
   ]
  },
  {
   "cell_type": "code",
   "execution_count": 2,
   "id": "0b563414-0101-4396-af09-3b6f163fac21",
   "metadata": {},
   "outputs": [
    {
     "name": "stdout",
     "output_type": "stream",
     "text": [
      "\u001b[0m\u001b[38;5;27mannotation_fragment\u001b[0m  \u001b[38;5;27mcount_fragment\u001b[0m  \u001b[38;5;27mcoverage\u001b[0m  \u001b[38;5;27mdata\u001b[0m  \u001b[38;5;27mlog\u001b[0m\n"
     ]
    }
   ],
   "source": [
    "ls ${FD_RES}"
   ]
  },
  {
   "cell_type": "code",
   "execution_count": 3,
   "id": "cc73d678-dc6d-4323-9ed1-9743118c9897",
   "metadata": {},
   "outputs": [
    {
     "name": "stdout",
     "output_type": "stream",
     "text": [
      "\u001b[0m\u001b[38;5;27mInput1\u001b[0m  \u001b[38;5;27mInput5\u001b[0m                    \u001b[38;5;27mTFX2_DMSO\u001b[0m  \u001b[38;5;27mTFX4_DMSO\u001b[0m\n",
      "\u001b[38;5;27mInput2\u001b[0m  target_PER1_MA0099.3.bed  \u001b[38;5;27mTFX3_Dex\u001b[0m   \u001b[38;5;27mTFX5_Dex\u001b[0m\n",
      "\u001b[38;5;27mInput3\u001b[0m  target_PER1_MA0113.3.bed  \u001b[38;5;27mTFX3_DMSO\u001b[0m  \u001b[38;5;27mTFX5_DMSO\u001b[0m\n",
      "\u001b[38;5;27mInput4\u001b[0m  \u001b[38;5;27mTFX2_Dex\u001b[0m                  \u001b[38;5;27mTFX4_Dex\u001b[0m\n"
     ]
    }
   ],
   "source": [
    "ls ${FD_RES}/annotation_fragment"
   ]
  },
  {
   "cell_type": "code",
   "execution_count": 4,
   "id": "2ad948b4-fbc4-4b8f-86f0-5c26ee280dd7",
   "metadata": {},
   "outputs": [
    {
     "name": "stdout",
     "output_type": "stream",
     "text": [
      "19G Sep  1 17:23 /gpfs/fs1/data/reddylab/Kuei/out/proj_combeffect/annotation_fragment/Input1/chr1.bed\n",
      "20G Sep  1 14:48 /gpfs/fs1/data/reddylab/Kuei/out/proj_combeffect/annotation_fragment/Input2/chr1.bed\n",
      "23G Sep  1 04:45 /gpfs/fs1/data/reddylab/Kuei/out/proj_combeffect/annotation_fragment/Input3/chr1.bed\n",
      "19G Sep  1 14:08 /gpfs/fs1/data/reddylab/Kuei/out/proj_combeffect/annotation_fragment/Input4/chr1.bed\n",
      "15G Sep  1 23:12 /gpfs/fs1/data/reddylab/Kuei/out/proj_combeffect/annotation_fragment/Input5/chr1.bed\n",
      "41G Sep 10 18:42 /gpfs/fs1/data/reddylab/Kuei/out/proj_combeffect/annotation_fragment/TFX2_Dex/chr1.bed\n",
      "41G Sep  1 15:40 /gpfs/fs1/data/reddylab/Kuei/out/proj_combeffect/annotation_fragment/TFX2_DMSO/chr1.bed\n",
      "25G Sep  1 16:23 /gpfs/fs1/data/reddylab/Kuei/out/proj_combeffect/annotation_fragment/TFX3_Dex/chr1.bed\n",
      "26G Sep  1 03:16 /gpfs/fs1/data/reddylab/Kuei/out/proj_combeffect/annotation_fragment/TFX3_DMSO/chr1.bed\n",
      "33G Sep  1 22:42 /gpfs/fs1/data/reddylab/Kuei/out/proj_combeffect/annotation_fragment/TFX4_Dex/chr1.bed\n",
      "30G Sep  1 13:20 /gpfs/fs1/data/reddylab/Kuei/out/proj_combeffect/annotation_fragment/TFX4_DMSO/chr1.bed\n",
      "41G Sep  1 02:04 /gpfs/fs1/data/reddylab/Kuei/out/proj_combeffect/annotation_fragment/TFX5_Dex/chr1.bed\n",
      "28G Sep  1 21:22 /gpfs/fs1/data/reddylab/Kuei/out/proj_combeffect/annotation_fragment/TFX5_DMSO/chr1.bed\n",
      "361\n"
     ]
    }
   ],
   "source": [
    "dir -lh ${FD_RES}/annotation_fragment/*/chr1.bed"
   ]
  },
  {
   "cell_type": "code",
   "execution_count": 5,
   "id": "2685437b-b291-4114-afc2-dea3b2665c46",
   "metadata": {},
   "outputs": [
    {
     "name": "stdout",
     "output_type": "stream",
     "text": [
      "7.1G Sep  1 17:05 /gpfs/fs1/data/reddylab/Kuei/out/proj_combeffect/annotation_fragment/Input1/chr17.bed\n",
      "7.7G Sep  1 14:37 /gpfs/fs1/data/reddylab/Kuei/out/proj_combeffect/annotation_fragment/Input2/chr17.bed\n",
      "9.0G Sep  1 04:26 /gpfs/fs1/data/reddylab/Kuei/out/proj_combeffect/annotation_fragment/Input3/chr17.bed\n",
      "7.2G Sep  1 14:07 /gpfs/fs1/data/reddylab/Kuei/out/proj_combeffect/annotation_fragment/Input4/chr17.bed\n",
      "5.8G Sep  1 23:12 /gpfs/fs1/data/reddylab/Kuei/out/proj_combeffect/annotation_fragment/Input5/chr17.bed\n",
      " 19G Sep 10 18:16 /gpfs/fs1/data/reddylab/Kuei/out/proj_combeffect/annotation_fragment/TFX2_Dex/chr17.bed\n",
      " 19G Sep  1 15:26 /gpfs/fs1/data/reddylab/Kuei/out/proj_combeffect/annotation_fragment/TFX2_DMSO/chr17.bed\n",
      " 12G Sep  1 16:27 /gpfs/fs1/data/reddylab/Kuei/out/proj_combeffect/annotation_fragment/TFX3_Dex/chr17.bed\n",
      " 12G Sep  1 03:27 /gpfs/fs1/data/reddylab/Kuei/out/proj_combeffect/annotation_fragment/TFX3_DMSO/chr17.bed\n",
      " 16G Sep  1 22:24 /gpfs/fs1/data/reddylab/Kuei/out/proj_combeffect/annotation_fragment/TFX4_Dex/chr17.bed\n",
      " 14G Sep  1 13:14 /gpfs/fs1/data/reddylab/Kuei/out/proj_combeffect/annotation_fragment/TFX4_DMSO/chr17.bed\n",
      " 19G Sep  1 01:47 /gpfs/fs1/data/reddylab/Kuei/out/proj_combeffect/annotation_fragment/TFX5_Dex/chr17.bed\n",
      " 13G Sep  1 21:25 /gpfs/fs1/data/reddylab/Kuei/out/proj_combeffect/annotation_fragment/TFX5_DMSO/chr17.bed\n",
      "160.8\n"
     ]
    }
   ],
   "source": [
    "dir -lh ${FD_RES}/annotation_fragment/*/chr17.bed"
   ]
  },
  {
   "cell_type": "markdown",
   "id": "01ef4e00-7570-4c57-881e-d1fde60594a6",
   "metadata": {},
   "source": [
    "## Test code for filteration"
   ]
  },
  {
   "cell_type": "code",
   "execution_count": 6,
   "id": "7fd268d4-43b0-4f72-b0f3-8595444f6e35",
   "metadata": {},
   "outputs": [
    {
     "name": "stdout",
     "output_type": "stream",
     "text": [
      "chr17       201123      201925      1           chr17       201116      201126      NFKB/1      9.0328      3\n",
      "chr17       201123      201925      1           chr17       201136      201152      MZF1        9.0967      16\n",
      "chr17       201123      201925      1           chr17       201138      201148      NFKB/1      8.1413      10\n",
      "chr17       201123      201925      1           chr17       201141      201154      SPDEF/1     4.4219      13\n",
      "chr17       201123      201925      1           chr17       201145      201160      CENBP       9.3664      15\n"
     ]
    }
   ],
   "source": [
    "head -5 ${FD_RES}/annotation_fragment/Input1/chr17.bed | expand -t 12"
   ]
  },
  {
   "cell_type": "code",
   "execution_count": 7,
   "id": "a623da41-6531-4460-aaee-a06d8c679249",
   "metadata": {},
   "outputs": [
    {
     "name": "stdout",
     "output_type": "stream",
     "text": [
      "chr17       201123      201925      1           chr17       201116      201126      NFKB/1      9.0328      3\n",
      "chr17       201123      201925      1           chr17       201136      201152      MZF1        9.0967      16\n",
      "chr17       201123      201925      1           chr17       201138      201148      NFKB/1      8.1413      10\n",
      "chr17       201123      201925      1           chr17       201145      201160      CENBP       9.3664      15\n"
     ]
    }
   ],
   "source": [
    "head -5 ${FD_RES}/annotation_fragment/Input1/chr17.bed | awk '$9>8' | expand -t 12"
   ]
  },
  {
   "cell_type": "code",
   "execution_count": 8,
   "id": "dfa14efa-12d6-4fa9-9307-73fa0a71493d",
   "metadata": {},
   "outputs": [
    {
     "name": "stdout",
     "output_type": "stream",
     "text": [
      "chr17       201123      201925      1           chr17       201145      201160      CENBP       9.3664      15\n"
     ]
    }
   ],
   "source": [
    "head -5 ${FD_RES}/annotation_fragment/Input1/chr17.bed | awk '$9>9.3' | expand -t 12"
   ]
  },
  {
   "cell_type": "markdown",
   "id": "2f44f517-6189-4b5b-9029-6a0213033a86",
   "metadata": {},
   "source": [
    "## Test run with slurm "
   ]
  },
  {
   "cell_type": "code",
   "execution_count": 9,
   "id": "a747ca63-0ad6-4ab8-a83b-a791e4cc9428",
   "metadata": {},
   "outputs": [
    {
     "name": "stdout",
     "output_type": "stream",
     "text": [
      "all\n",
      "/gpfs/fs1/data/reddylab/Kuei/out/proj_combeffect/log\n"
     ]
    }
   ],
   "source": [
    "echo ${NODE}\n",
    "echo ${FD_LOG}"
   ]
  },
  {
   "cell_type": "code",
   "execution_count": 11,
   "id": "dcb6985e-e90c-46ba-a128-cfc9a8adf538",
   "metadata": {},
   "outputs": [
    {
     "name": "stdout",
     "output_type": "stream",
     "text": [
      "\u001b[0m\u001b[38;5;27m/gpfs/fs1/data/reddylab/Kuei/out/proj_combeffect/log\u001b[0m\n"
     ]
    }
   ],
   "source": [
    "ls -d ${FD_LOG}"
   ]
  },
  {
   "cell_type": "code",
   "execution_count": 40,
   "id": "b5ee2b64-a41f-494c-9e48-6e631494206b",
   "metadata": {},
   "outputs": [
    {
     "name": "stdout",
     "output_type": "stream",
     "text": [
      "/gpfs/fs1/data/reddylab/Kuei/out/proj_combeffect/annotation_fragment/filter_motif_score095/\n",
      "/gpfs/fs1/data/reddylab/Kuei/out/proj_combeffect/annotation_fragment/Input1/\n",
      "/gpfs/fs1/data/reddylab/Kuei/out/proj_combeffect/annotation_fragment/Input2/\n",
      "/gpfs/fs1/data/reddylab/Kuei/out/proj_combeffect/annotation_fragment/Input3/\n",
      "/gpfs/fs1/data/reddylab/Kuei/out/proj_combeffect/annotation_fragment/Input4/\n",
      "/gpfs/fs1/data/reddylab/Kuei/out/proj_combeffect/annotation_fragment/Input5/\n",
      "/gpfs/fs1/data/reddylab/Kuei/out/proj_combeffect/annotation_fragment/TFX2_Dex/\n",
      "/gpfs/fs1/data/reddylab/Kuei/out/proj_combeffect/annotation_fragment/TFX2_DMSO/\n",
      "/gpfs/fs1/data/reddylab/Kuei/out/proj_combeffect/annotation_fragment/TFX3_Dex/\n",
      "/gpfs/fs1/data/reddylab/Kuei/out/proj_combeffect/annotation_fragment/TFX3_DMSO/\n",
      "/gpfs/fs1/data/reddylab/Kuei/out/proj_combeffect/annotation_fragment/TFX4_Dex/\n",
      "/gpfs/fs1/data/reddylab/Kuei/out/proj_combeffect/annotation_fragment/TFX4_DMSO/\n",
      "/gpfs/fs1/data/reddylab/Kuei/out/proj_combeffect/annotation_fragment/TFX5_Dex/\n",
      "/gpfs/fs1/data/reddylab/Kuei/out/proj_combeffect/annotation_fragment/TFX5_DMSO/\n"
     ]
    }
   ],
   "source": [
    "FD_BEDS=($(ls -d ${FD_RES}/annotation_fragment/*/))\n",
    "for FD_BED in ${FD_BEDS[@]}; do\n",
    "    echo ${FD_BED}\n",
    "done"
   ]
  },
  {
   "cell_type": "code",
   "execution_count": 49,
   "id": "ccd65140-9469-4eea-8bf4-9cf475c866a2",
   "metadata": {},
   "outputs": [
    {
     "name": "stdout",
     "output_type": "stream",
     "text": [
      "/gpfs/fs1/data/reddylab/Kuei/out/proj_combeffect/annotation_fragment/Input1\n",
      "/gpfs/fs1/data/reddylab/Kuei/out/proj_combeffect/annotation_fragment/Input2\n",
      "/gpfs/fs1/data/reddylab/Kuei/out/proj_combeffect/annotation_fragment/Input3\n",
      "/gpfs/fs1/data/reddylab/Kuei/out/proj_combeffect/annotation_fragment/Input4\n",
      "/gpfs/fs1/data/reddylab/Kuei/out/proj_combeffect/annotation_fragment/Input5\n",
      "/gpfs/fs1/data/reddylab/Kuei/out/proj_combeffect/annotation_fragment/TFX2_Dex\n",
      "/gpfs/fs1/data/reddylab/Kuei/out/proj_combeffect/annotation_fragment/TFX2_DMSO\n",
      "/gpfs/fs1/data/reddylab/Kuei/out/proj_combeffect/annotation_fragment/TFX3_Dex\n",
      "/gpfs/fs1/data/reddylab/Kuei/out/proj_combeffect/annotation_fragment/TFX3_DMSO\n",
      "/gpfs/fs1/data/reddylab/Kuei/out/proj_combeffect/annotation_fragment/TFX4_Dex\n",
      "/gpfs/fs1/data/reddylab/Kuei/out/proj_combeffect/annotation_fragment/TFX4_DMSO\n",
      "/gpfs/fs1/data/reddylab/Kuei/out/proj_combeffect/annotation_fragment/TFX5_Dex\n",
      "/gpfs/fs1/data/reddylab/Kuei/out/proj_combeffect/annotation_fragment/TFX5_DMSO\n"
     ]
    }
   ],
   "source": [
    "FD_BEDS=($(find ${FD_RES}/annotation_fragment \\\n",
    "    -maxdepth 1 \\\n",
    "    -name 'Input?'    -o \\\n",
    "    -name 'TFX?_DMSO' -o \\\n",
    "    -name 'TFX?_Dex' |\\\n",
    "    sort))\n",
    "for FD_BED in ${FD_BEDS[@]}; do\n",
    "    echo ${FD_BED}\n",
    "done"
   ]
  },
  {
   "cell_type": "code",
   "execution_count": 53,
   "id": "34c2f7bf-eb0b-4c47-8cc4-166ae9fe76f0",
   "metadata": {},
   "outputs": [
    {
     "name": "stdout",
     "output_type": "stream",
     "text": [
      "Submitted batch job 26081243\n"
     ]
    }
   ],
   "source": [
    "source ../config_duke.sh\n",
    "\n",
    "sbatch -p ${NODE} \\\n",
    "    --array 0-23 \\\n",
    "    --mem 8G \\\n",
    "    -o ${FD_LOG}/filter_annotate_fragment_chrom.%a.txt \\\n",
    "    <<'EOF'\n",
    "#!/bin/bash\n",
    "### set directories & global variables\n",
    "source ../config_duke.sh\n",
    "CHROMS=($(seq 1 22) X Y)\n",
    "CHROM=chr${CHROMS[${SLURM_ARRAY_TASK_ID}]}\n",
    "TARGET=${CHROM}\n",
    "\n",
    "### set input and output\n",
    "FD_BEDS=($(find ${FD_RES}/annotation_fragment \\\n",
    "    -maxdepth 1 \\\n",
    "    -name 'Input?'    -o \\\n",
    "    -name 'TFX?_DMSO' -o \\\n",
    "    -name 'TFX?_Dex' |\\\n",
    "    sort))\n",
    "FN_BED=${TARGET}.bed\n",
    "\n",
    "### print start message\n",
    "echo \"Slurm Array Index: \" ${SLURM_ARRAY_TASK_ID}\n",
    "\n",
    "### loop through each sample and count each fragment of a chromosome\n",
    "echo \"RUN: loop through samples; annotate fragment\"\n",
    "\n",
    "for FD_BED in ${FD_BEDS[@]}; do\n",
    "    SAMPLE=$(basename ${FD_BED})\n",
    "    FD_OUT=${FD_RES}/annotation_fragment/filter_motif_score095/${SAMPLE}\n",
    "    FN_OUT=${TARGET}.bed.gz\n",
    "    \n",
    "    ### START Message\n",
    "    echo ++++++++++++++++++++++++++++++++++++++++++++++++\n",
    "    echo \"Input  file: \" ${FD_BED}/${FN_BED}\n",
    "    echo \"Output file: \" ${FD_OUT}/${FN_OUT}\n",
    "    echo\n",
    "    echo \"Show the first few lines of the input file\"\n",
    "    echo ${FD_BED}/${FN_BED}\n",
    "    head -n 3 ${FD_BED}/${FN_BED}\n",
    "    echo\n",
    "    \n",
    "    ### init: create output folder if not exist\n",
    "    #mkdir -p ${FD_OUT}\n",
    "done\n",
    "\n",
    "echo \"Done\"\n",
    "EOF"
   ]
  },
  {
   "cell_type": "code",
   "execution_count": null,
   "id": "8c463c7a-28e3-4a94-87f5-0ef9dfbda97e",
   "metadata": {},
   "outputs": [],
   "source": [
    "s"
   ]
  },
  {
   "cell_type": "code",
   "execution_count": 54,
   "id": "e65b0970-26a6-4f44-bb57-63d5deaed989",
   "metadata": {},
   "outputs": [
    {
     "name": "stdout",
     "output_type": "stream",
     "text": [
      "\u001b[0m\u001b[38;5;27mInput1\u001b[0m  \u001b[38;5;27mInput3\u001b[0m  \u001b[38;5;27mInput5\u001b[0m    \u001b[38;5;27mTFX2_DMSO\u001b[0m  \u001b[38;5;27mTFX3_DMSO\u001b[0m  \u001b[38;5;27mTFX4_DMSO\u001b[0m  \u001b[38;5;27mTFX5_DMSO\u001b[0m\n",
      "\u001b[38;5;27mInput2\u001b[0m  \u001b[38;5;27mInput4\u001b[0m  \u001b[38;5;27mTFX2_Dex\u001b[0m  \u001b[38;5;27mTFX3_Dex\u001b[0m   \u001b[38;5;27mTFX4_Dex\u001b[0m   \u001b[38;5;27mTFX5_Dex\u001b[0m\n"
     ]
    }
   ],
   "source": [
    "ls ${FD_RES}/annotation_fragment/filter_motif_score095"
   ]
  },
  {
   "cell_type": "code",
   "execution_count": 55,
   "id": "6a134bdf-c70e-47f1-8488-eea537d19359",
   "metadata": {
    "collapsed": true,
    "jupyter": {
     "outputs_hidden": true
    },
    "tags": []
   },
   "outputs": [
    {
     "name": "stdout",
     "output_type": "stream",
     "text": [
      "Slurm Array Index:  0\n",
      "RUN: loop through samples; annotate fragment\n",
      "++++++++++++++++++++++++++++++++++++++++++++++++\n",
      "Input  file:  /gpfs/fs1/data/reddylab/Kuei/out/proj_combeffect/annotation_fragment/Input1/chr1.bed\n",
      "Output file:  /gpfs/fs1/data/reddylab/Kuei/out/proj_combeffect/annotation_fragment/filter_motif_score095/Input1/chr1.bed.gz\n",
      "\n",
      "Show the first few lines of the input file\n",
      "/gpfs/fs1/data/reddylab/Kuei/out/proj_combeffect/annotation_fragment/Input1/chr1.bed\n",
      "chr1\t13868\t14793\t1\tchr1\t13881\t13895\tNR/13\t5.862\t14\n",
      "chr1\t13868\t14793\t1\tchr1\t13881\t13894\tNR/1\t3.4599\t13\n",
      "chr1\t13868\t14793\t1\tchr1\t13881\t13895\tNR/3\t10.4257\t14\n",
      "\n",
      "++++++++++++++++++++++++++++++++++++++++++++++++\n",
      "Input  file:  /gpfs/fs1/data/reddylab/Kuei/out/proj_combeffect/annotation_fragment/Input2/chr1.bed\n",
      "Output file:  /gpfs/fs1/data/reddylab/Kuei/out/proj_combeffect/annotation_fragment/filter_motif_score095/Input2/chr1.bed.gz\n",
      "\n",
      "Show the first few lines of the input file\n",
      "/gpfs/fs1/data/reddylab/Kuei/out/proj_combeffect/annotation_fragment/Input2/chr1.bed\n",
      "chr1\t14843\t15828\t1\tchr1\t14821\t14859\tGC-tract\t7.207066667\t16\n",
      "chr1\t14843\t15828\t1\tchr1\t14832\t14846\tNR/3\t7.1391\t3\n",
      "chr1\t14843\t15828\t1\tchr1\t14834\t14862\tKLF/SP/2\t9.049475\t19\n",
      "\n",
      "++++++++++++++++++++++++++++++++++++++++++++++++\n",
      "Input  file:  /gpfs/fs1/data/reddylab/Kuei/out/proj_combeffect/annotation_fragment/Input3/chr1.bed\n",
      "Output file:  /gpfs/fs1/data/reddylab/Kuei/out/proj_combeffect/annotation_fragment/filter_motif_score095/Input3/chr1.bed.gz\n",
      "\n",
      "Show the first few lines of the input file\n",
      "/gpfs/fs1/data/reddylab/Kuei/out/proj_combeffect/annotation_fragment/Input3/chr1.bed\n",
      "chr1\t14868\t15889\t1\tchr1\t14852\t14874\tZNF143\t5.79395\t6\n",
      "chr1\t14868\t15889\t1\tchr1\t14856\t14869\tRFX/2\t8.0017\t1\n",
      "chr1\t14868\t15889\t1\tchr1\t14860\t14869\tRBPJ\t9.157\t1\n",
      "\n",
      "++++++++++++++++++++++++++++++++++++++++++++++++\n",
      "Input  file:  /gpfs/fs1/data/reddylab/Kuei/out/proj_combeffect/annotation_fragment/Input4/chr1.bed\n",
      "Output file:  /gpfs/fs1/data/reddylab/Kuei/out/proj_combeffect/annotation_fragment/filter_motif_score095/Input4/chr1.bed.gz\n",
      "\n",
      "Show the first few lines of the input file\n",
      "/gpfs/fs1/data/reddylab/Kuei/out/proj_combeffect/annotation_fragment/Input4/chr1.bed\n",
      "chr1\t17394\t18269\t1\tchr1\t17381\t17397\tMZF1\t7.5809\t3\n",
      "chr1\t17394\t18269\t1\tchr1\t17384\t17395\tSMAD\t8.5892\t1\n",
      "chr1\t17394\t18269\t1\tchr1\t17385\t17424\tNR/16\t9.212333333\t30\n",
      "\n",
      "++++++++++++++++++++++++++++++++++++++++++++++++\n",
      "Input  file:  /gpfs/fs1/data/reddylab/Kuei/out/proj_combeffect/annotation_fragment/Input5/chr1.bed\n",
      "Output file:  /gpfs/fs1/data/reddylab/Kuei/out/proj_combeffect/annotation_fragment/filter_motif_score095/Input5/chr1.bed.gz\n",
      "\n",
      "Show the first few lines of the input file\n",
      "/gpfs/fs1/data/reddylab/Kuei/out/proj_combeffect/annotation_fragment/Input5/chr1.bed\n",
      "chr1\t17394\t18225\t1\tchr1\t17381\t17397\tMZF1\t7.5809\t3\n",
      "chr1\t17394\t18225\t1\tchr1\t17384\t17395\tSMAD\t8.5892\t1\n",
      "chr1\t17394\t18225\t1\tchr1\t17385\t17424\tNR/16\t9.212333333\t30\n",
      "\n",
      "++++++++++++++++++++++++++++++++++++++++++++++++\n",
      "Input  file:  /gpfs/fs1/data/reddylab/Kuei/out/proj_combeffect/annotation_fragment/TFX2_Dex/chr1.bed\n",
      "Output file:  /gpfs/fs1/data/reddylab/Kuei/out/proj_combeffect/annotation_fragment/filter_motif_score095/TFX2_Dex/chr1.bed.gz\n",
      "\n",
      "Show the first few lines of the input file\n",
      "/gpfs/fs1/data/reddylab/Kuei/out/proj_combeffect/annotation_fragment/TFX2_Dex/chr1.bed\n",
      "chr1\t13622\t14491\t1\tchr1\t13611\t13625\tRFX/1\t8.5771\t3\n",
      "chr1\t13622\t14491\t1\tchr1\t13616\t13633\tZNF708\t7.6174\t11\n",
      "chr1\t13622\t14491\t1\tchr1\t13626\t13651\tZNF354\t13.1557\t25\n",
      "\n",
      "++++++++++++++++++++++++++++++++++++++++++++++++\n",
      "Input  file:  /gpfs/fs1/data/reddylab/Kuei/out/proj_combeffect/annotation_fragment/TFX2_DMSO/chr1.bed\n",
      "Output file:  /gpfs/fs1/data/reddylab/Kuei/out/proj_combeffect/annotation_fragment/filter_motif_score095/TFX2_DMSO/chr1.bed.gz\n",
      "\n",
      "Show the first few lines of the input file\n",
      "/gpfs/fs1/data/reddylab/Kuei/out/proj_combeffect/annotation_fragment/TFX2_DMSO/chr1.bed\n",
      "chr1\t13616\t14781\t1\tchr1\t13610\t13617\tHIC/2\t7.8022\t1\n",
      "chr1\t13616\t14781\t1\tchr1\t13611\t13625\tRFX/1\t8.5771\t9\n",
      "chr1\t13616\t14781\t1\tchr1\t13616\t13633\tZNF708\t7.6174\t17\n",
      "\n",
      "++++++++++++++++++++++++++++++++++++++++++++++++\n",
      "Input  file:  /gpfs/fs1/data/reddylab/Kuei/out/proj_combeffect/annotation_fragment/TFX3_Dex/chr1.bed\n",
      "Output file:  /gpfs/fs1/data/reddylab/Kuei/out/proj_combeffect/annotation_fragment/filter_motif_score095/TFX3_Dex/chr1.bed.gz\n",
      "\n",
      "Show the first few lines of the input file\n",
      "/gpfs/fs1/data/reddylab/Kuei/out/proj_combeffect/annotation_fragment/TFX3_Dex/chr1.bed\n",
      "chr1\t14903\t15879\t1\tchr1\t14896\t14915\tZNF680\t8.4443\t12\n",
      "chr1\t14903\t15879\t1\tchr1\t14898\t14910\tSPI\t7.3948\t7\n",
      "chr1\t14903\t15879\t1\tchr1\t14898\t14914\tIRF/2\t7.8247\t11\n",
      "\n",
      "++++++++++++++++++++++++++++++++++++++++++++++++\n",
      "Input  file:  /gpfs/fs1/data/reddylab/Kuei/out/proj_combeffect/annotation_fragment/TFX3_DMSO/chr1.bed\n",
      "Output file:  /gpfs/fs1/data/reddylab/Kuei/out/proj_combeffect/annotation_fragment/filter_motif_score095/TFX3_DMSO/chr1.bed.gz\n",
      "\n",
      "Show the first few lines of the input file\n",
      "/gpfs/fs1/data/reddylab/Kuei/out/proj_combeffect/annotation_fragment/TFX3_DMSO/chr1.bed\n",
      "chr1\t13444\t14495\t1\tchr1\t13432\t13445\tSOX/1\t8.3464\t1\n",
      "chr1\t13444\t14495\t1\tchr1\t13434\t13448\tNR/3\t9.0991\t4\n",
      "chr1\t13444\t14495\t1\tchr1\t13434\t13447\tNR/2\t8.6779\t3\n",
      "\n",
      "++++++++++++++++++++++++++++++++++++++++++++++++\n",
      "Input  file:  /gpfs/fs1/data/reddylab/Kuei/out/proj_combeffect/annotation_fragment/TFX4_Dex/chr1.bed\n",
      "Output file:  /gpfs/fs1/data/reddylab/Kuei/out/proj_combeffect/annotation_fragment/filter_motif_score095/TFX4_Dex/chr1.bed.gz\n",
      "\n",
      "Show the first few lines of the input file\n",
      "/gpfs/fs1/data/reddylab/Kuei/out/proj_combeffect/annotation_fragment/TFX4_Dex/chr1.bed\n",
      "chr1\t15143\t16267\t1\tchr1\t15133\t15146\tSOX/1\t8.0519\t3\n",
      "chr1\t15143\t16267\t1\tchr1\t15133\t15152\tZFN121\t6.5655\t9\n",
      "chr1\t15143\t16267\t1\tchr1\t15133\t15148\tNR/17\t7.7208\t5\n",
      "\n",
      "++++++++++++++++++++++++++++++++++++++++++++++++\n",
      "Input  file:  /gpfs/fs1/data/reddylab/Kuei/out/proj_combeffect/annotation_fragment/TFX4_DMSO/chr1.bed\n",
      "Output file:  /gpfs/fs1/data/reddylab/Kuei/out/proj_combeffect/annotation_fragment/filter_motif_score095/TFX4_DMSO/chr1.bed.gz\n",
      "\n",
      "Show the first few lines of the input file\n",
      "/gpfs/fs1/data/reddylab/Kuei/out/proj_combeffect/annotation_fragment/TFX4_DMSO/chr1.bed\n",
      "chr1\t13752\t14778\t1\tchr1\t13744\t13782\tGC-tract\t8.9562\t30\n",
      "chr1\t13752\t14778\t1\tchr1\t13747\t13758\tEGR\t8.4972\t6\n",
      "chr1\t13752\t14778\t1\tchr1\t13750\t13765\tNFI/1\t9.43615\t13\n",
      "\n",
      "++++++++++++++++++++++++++++++++++++++++++++++++\n",
      "Input  file:  /gpfs/fs1/data/reddylab/Kuei/out/proj_combeffect/annotation_fragment/TFX5_Dex/chr1.bed\n",
      "Output file:  /gpfs/fs1/data/reddylab/Kuei/out/proj_combeffect/annotation_fragment/filter_motif_score095/TFX5_Dex/chr1.bed.gz\n",
      "\n",
      "Show the first few lines of the input file\n",
      "/gpfs/fs1/data/reddylab/Kuei/out/proj_combeffect/annotation_fragment/TFX5_Dex/chr1.bed\n",
      "chr1\t14449\t15491\t3\tchr1\t14458\t14472\tZKSCAN1\t6.7698\t14\n",
      "chr1\t14449\t15491\t3\tchr1\t14461\t14472\tNR/19\t8.5131\t11\n",
      "chr1\t14449\t15491\t3\tchr1\t14461\t14492\tGC-tract\t7.14565\t31\n",
      "\n",
      "++++++++++++++++++++++++++++++++++++++++++++++++\n",
      "Input  file:  /gpfs/fs1/data/reddylab/Kuei/out/proj_combeffect/annotation_fragment/TFX5_DMSO/chr1.bed\n",
      "Output file:  /gpfs/fs1/data/reddylab/Kuei/out/proj_combeffect/annotation_fragment/filter_motif_score095/TFX5_DMSO/chr1.bed.gz\n",
      "\n",
      "Show the first few lines of the input file\n",
      "/gpfs/fs1/data/reddylab/Kuei/out/proj_combeffect/annotation_fragment/TFX5_DMSO/chr1.bed\n",
      "chr1\t13684\t14776\t1\tchr1\t13674\t13691\tKLF/SP/2\t8.516\t7\n",
      "chr1\t13684\t14776\t1\tchr1\t13677\t13691\tNFI/1\t3.562\t7\n",
      "chr1\t13684\t14776\t1\tchr1\t13677\t13690\tNFI/3\t7.9741\t6\n",
      "\n",
      "Done\n"
     ]
    }
   ],
   "source": [
    "cat ${FD_LOG}/filter_annotate_fragment_chrom.0.txt"
   ]
  },
  {
   "cell_type": "code",
   "execution_count": 26,
   "id": "12cb428e-8caf-4d46-b177-b6db40a08a69",
   "metadata": {
    "collapsed": true,
    "jupyter": {
     "outputs_hidden": true
    },
    "tags": []
   },
   "outputs": [
    {
     "name": "stdout",
     "output_type": "stream",
     "text": [
      "Slurm Array Index:  23\n",
      "RUN: loop through samples; annotate fragment\n",
      "++++++++++++++++++++++++++++++++++++++++++++++++\n",
      "Input  file:  /gpfs/fs1/data/reddylab/Kuei/out/proj_combeffect/annotation_fragment/Input1//chrY.bed\n",
      "Output file:  /gpfs/fs1/data/reddylab/Kuei/out/proj_combeffect/annotation_fragment/filter_motif_score095/Input1/chrY.bed.gz\n",
      "\n",
      "Show the first few lines of the input file\n",
      "/gpfs/fs1/data/reddylab/Kuei/out/proj_combeffect/annotation_fragment/Input1//chrY.bed\n",
      "chrY\t3234097\t3235060\t1\tchrY\t3234090\t3234104\tE2F/1\t3.6833\t7\n",
      "chrY\t3234097\t3235060\t1\tchrY\t3234091\t3234103\tE2F/3\t5.6107\t6\n",
      "chrY\t3234097\t3235060\t1\tchrY\t3234104\t3234111\tEbox/CACCTG\t8.205\t7\n",
      "\n",
      "++++++++++++++++++++++++++++++++++++++++++++++++\n",
      "Input  file:  /gpfs/fs1/data/reddylab/Kuei/out/proj_combeffect/annotation_fragment/Input2//chrY.bed\n",
      "Output file:  /gpfs/fs1/data/reddylab/Kuei/out/proj_combeffect/annotation_fragment/filter_motif_score095/Input2/chrY.bed.gz\n",
      "\n",
      "Show the first few lines of the input file\n",
      "/gpfs/fs1/data/reddylab/Kuei/out/proj_combeffect/annotation_fragment/Input2//chrY.bed\n",
      "chrY\t3088323\t3089345\t1\tchrY\t3088308\t3088327\tZNF143\t8.4038\t4\n",
      "chrY\t3088323\t3089345\t1\tchrY\t3088313\t3088352\tGC-tract\t8.693894444\t29\n",
      "chrY\t3088323\t3089345\t1\tchrY\t3088315\t3088352\tKLF/SP/2\t9.53176\t29\n",
      "\n",
      "++++++++++++++++++++++++++++++++++++++++++++++++\n",
      "Input  file:  /gpfs/fs1/data/reddylab/Kuei/out/proj_combeffect/annotation_fragment/Input3//chrY.bed\n",
      "Output file:  /gpfs/fs1/data/reddylab/Kuei/out/proj_combeffect/annotation_fragment/filter_motif_score095/Input3/chrY.bed.gz\n",
      "\n",
      "Show the first few lines of the input file\n",
      "/gpfs/fs1/data/reddylab/Kuei/out/proj_combeffect/annotation_fragment/Input3//chrY.bed\n",
      "chrY\t2921138\t2923049\t1\tchrY\t2921155\t2921161\tNR2E3\t7.6438\t6\n",
      "chrY\t2921138\t2923049\t1\tchrY\t2921157\t2921176\tZNF680\t3.2273\t19\n",
      "chrY\t2921138\t2923049\t1\tchrY\t2921167\t2921189\tZNF136\t16.2802\t22\n",
      "\n",
      "++++++++++++++++++++++++++++++++++++++++++++++++\n",
      "Input  file:  /gpfs/fs1/data/reddylab/Kuei/out/proj_combeffect/annotation_fragment/Input4//chrY.bed\n",
      "Output file:  /gpfs/fs1/data/reddylab/Kuei/out/proj_combeffect/annotation_fragment/filter_motif_score095/Input4/chrY.bed.gz\n",
      "\n",
      "Show the first few lines of the input file\n",
      "/gpfs/fs1/data/reddylab/Kuei/out/proj_combeffect/annotation_fragment/Input4//chrY.bed\n",
      "chrY\t3234946\t3235817\t1\tchrY\t3234943\t3234954\tSMAD\t8.7395\t8\n",
      "chrY\t3234946\t3235817\t1\tchrY\t3234960\t3234976\tNR/16\t10.1617\t16\n",
      "chrY\t3234946\t3235817\t1\tchrY\t3234976\t3234984\tHD/2\t8.707\t8\n",
      "\n",
      "++++++++++++++++++++++++++++++++++++++++++++++++\n",
      "Input  file:  /gpfs/fs1/data/reddylab/Kuei/out/proj_combeffect/annotation_fragment/Input5//chrY.bed\n",
      "Output file:  /gpfs/fs1/data/reddylab/Kuei/out/proj_combeffect/annotation_fragment/filter_motif_score095/Input5/chrY.bed.gz\n",
      "\n",
      "Show the first few lines of the input file\n",
      "/gpfs/fs1/data/reddylab/Kuei/out/proj_combeffect/annotation_fragment/Input5//chrY.bed\n",
      "chrY\t3049984\t3050870\t1\tchrY\t3049973\t3050004\tZNF146\t13.1868\t20\n",
      "chrY\t3049984\t3050870\t1\tchrY\t3049981\t3049996\tNFAT/2\t7.5869\t12\n",
      "chrY\t3049984\t3050870\t1\tchrY\t3049990\t3050002\tNFAT/4\t4.3949\t12\n",
      "\n",
      "++++++++++++++++++++++++++++++++++++++++++++++++\n",
      "Input  file:  /gpfs/fs1/data/reddylab/Kuei/out/proj_combeffect/annotation_fragment/TFX2_Dex//chrY.bed\n",
      "Output file:  /gpfs/fs1/data/reddylab/Kuei/out/proj_combeffect/annotation_fragment/filter_motif_score095/TFX2_Dex/chrY.bed.gz\n",
      "\n",
      "Show the first few lines of the input file\n",
      "/gpfs/fs1/data/reddylab/Kuei/out/proj_combeffect/annotation_fragment/TFX2_Dex//chrY.bed\n",
      "chrY\t2902065\t2903367\t1\tchrY\t2902057\t2902074\tHD/3\t1.5535\t9\n",
      "chrY\t2902065\t2903367\t1\tchrY\t2902090\t2902104\tBATF\t7.2524\t14\n",
      "chrY\t2902065\t2903367\t1\tchrY\t2902101\t2902114\tSOX/1\t7.5363\t13\n",
      "\n",
      "++++++++++++++++++++++++++++++++++++++++++++++++\n",
      "Input  file:  /gpfs/fs1/data/reddylab/Kuei/out/proj_combeffect/annotation_fragment/TFX2_DMSO//chrY.bed\n",
      "Output file:  /gpfs/fs1/data/reddylab/Kuei/out/proj_combeffect/annotation_fragment/filter_motif_score095/TFX2_DMSO/chrY.bed.gz\n",
      "\n",
      "Show the first few lines of the input file\n",
      "/gpfs/fs1/data/reddylab/Kuei/out/proj_combeffect/annotation_fragment/TFX2_DMSO//chrY.bed\n",
      "chrY\t2806410\t2807378\t1\tchrY\t2806387\t2806412\tZNF354\t7.1435\t2\n",
      "chrY\t2806410\t2807378\t1\tchrY\t2806403\t2806419\tFOX/5\t12.0464\t9\n",
      "chrY\t2806410\t2807378\t1\tchrY\t2806408\t2806418\tFOX/4\t9.0766\t8\n",
      "\n",
      "++++++++++++++++++++++++++++++++++++++++++++++++\n",
      "Input  file:  /gpfs/fs1/data/reddylab/Kuei/out/proj_combeffect/annotation_fragment/TFX3_Dex//chrY.bed\n",
      "Output file:  /gpfs/fs1/data/reddylab/Kuei/out/proj_combeffect/annotation_fragment/filter_motif_score095/TFX3_Dex/chrY.bed.gz\n",
      "\n",
      "Show the first few lines of the input file\n",
      "/gpfs/fs1/data/reddylab/Kuei/out/proj_combeffect/annotation_fragment/TFX3_Dex//chrY.bed\n",
      "chrY\t3029637\t3030651\t1\tchrY\t3029632\t3029646\tFOX/2\t5.6977\t9\n",
      "chrY\t3029637\t3030651\t1\tchrY\t3029637\t3029659\tZNF136\t2.8397\t22\n",
      "chrY\t3029637\t3030651\t1\tchrY\t3029639\t3029649\tFOX/4\t7.6805\t10\n",
      "\n",
      "++++++++++++++++++++++++++++++++++++++++++++++++\n",
      "Input  file:  /gpfs/fs1/data/reddylab/Kuei/out/proj_combeffect/annotation_fragment/TFX3_DMSO//chrY.bed\n",
      "Output file:  /gpfs/fs1/data/reddylab/Kuei/out/proj_combeffect/annotation_fragment/filter_motif_score095/TFX3_DMSO/chrY.bed.gz\n",
      "\n",
      "Show the first few lines of the input file\n",
      "/gpfs/fs1/data/reddylab/Kuei/out/proj_combeffect/annotation_fragment/TFX3_DMSO//chrY.bed\n",
      "chrY\t2997989\t2998900\t1\tchrY\t2997988\t2998007\tZNF320\t6.6375\t18\n",
      "chrY\t2997989\t2998900\t1\tchrY\t2997988\t2997997\tNFAT/1\t7.8139\t8\n",
      "chrY\t2997989\t2998900\t1\tchrY\t2997989\t2998004\tNR/7\t3.5434\t15\n",
      "\n",
      "++++++++++++++++++++++++++++++++++++++++++++++++\n",
      "Input  file:  /gpfs/fs1/data/reddylab/Kuei/out/proj_combeffect/annotation_fragment/TFX4_Dex//chrY.bed\n",
      "Output file:  /gpfs/fs1/data/reddylab/Kuei/out/proj_combeffect/annotation_fragment/filter_motif_score095/TFX4_Dex/chrY.bed.gz\n",
      "\n",
      "Show the first few lines of the input file\n",
      "/gpfs/fs1/data/reddylab/Kuei/out/proj_combeffect/annotation_fragment/TFX4_Dex//chrY.bed\n",
      "chrY\t3165665\t3166733\t1\tchrY\t3165650\t3165671\tZNF85\t2.4301\t6\n",
      "chrY\t3165665\t3166733\t1\tchrY\t3165652\t3165669\tKLF/SP/2\t5.6278\t4\n",
      "chrY\t3165665\t3166733\t1\tchrY\t3165656\t3165668\tZBTB6\t8.5976\t3\n",
      "\n",
      "++++++++++++++++++++++++++++++++++++++++++++++++\n",
      "Input  file:  /gpfs/fs1/data/reddylab/Kuei/out/proj_combeffect/annotation_fragment/TFX4_DMSO//chrY.bed\n",
      "Output file:  /gpfs/fs1/data/reddylab/Kuei/out/proj_combeffect/annotation_fragment/filter_motif_score095/TFX4_DMSO/chrY.bed.gz\n",
      "\n",
      "Show the first few lines of the input file\n",
      "/gpfs/fs1/data/reddylab/Kuei/out/proj_combeffect/annotation_fragment/TFX4_DMSO//chrY.bed\n",
      "chrY\t3120527\t3121436\t1\tchrY\t3120519\t3120531\tMIES\t8.2483\t4\n",
      "chrY\t3120527\t3121436\t1\tchrY\t3120519\t3120532\tZSCAN4\t3.8741\t5\n",
      "chrY\t3120527\t3121436\t1\tchrY\t3120522\t3120533\tKLF/SP/1\t8.591\t6\n",
      "\n",
      "++++++++++++++++++++++++++++++++++++++++++++++++\n",
      "Input  file:  /gpfs/fs1/data/reddylab/Kuei/out/proj_combeffect/annotation_fragment/TFX5_Dex//chrY.bed\n",
      "Output file:  /gpfs/fs1/data/reddylab/Kuei/out/proj_combeffect/annotation_fragment/filter_motif_score095/TFX5_Dex/chrY.bed.gz\n",
      "\n",
      "Show the first few lines of the input file\n",
      "/gpfs/fs1/data/reddylab/Kuei/out/proj_combeffect/annotation_fragment/TFX5_Dex//chrY.bed\n",
      "chrY\t3072957\t3073836\t1\tchrY\t3072963\t3072973\tNFY\t12.6395\t10\n",
      "chrY\t3072957\t3073836\t1\tchrY\t3072982\t3072996\tHD/7\t8.1729\t14\n",
      "chrY\t3072957\t3073836\t1\tchrY\t3072986\t3073001\tMAF\t7.3206\t15\n",
      "\n",
      "++++++++++++++++++++++++++++++++++++++++++++++++\n",
      "Input  file:  /gpfs/fs1/data/reddylab/Kuei/out/proj_combeffect/annotation_fragment/TFX5_DMSO//chrY.bed\n",
      "Output file:  /gpfs/fs1/data/reddylab/Kuei/out/proj_combeffect/annotation_fragment/filter_motif_score095/TFX5_DMSO/chrY.bed.gz\n",
      "\n",
      "Show the first few lines of the input file\n",
      "/gpfs/fs1/data/reddylab/Kuei/out/proj_combeffect/annotation_fragment/TFX5_DMSO//chrY.bed\n",
      "chrY\t2926653\t2927529\t1\tchrY\t2926649\t2926662\tZSCAN4\t5.0061\t9\n",
      "chrY\t2926653\t2927529\t1\tchrY\t2926654\t2926670\tFOX/5\t9.3006\t16\n",
      "chrY\t2926653\t2927529\t1\tchrY\t2926659\t2926669\tFOX/4\t8.0591\t10\n",
      "\n",
      "Done\n"
     ]
    }
   ],
   "source": [
    "cat ${FD_LOG}/filter_annotate_fragment_chrom.23.txt"
   ]
  },
  {
   "cell_type": "markdown",
   "id": "37a6c4a8-ef40-4cb3-b5ab-41a580f615c6",
   "metadata": {
    "tags": []
   },
   "source": [
    "## Run filteration"
   ]
  },
  {
   "cell_type": "code",
   "execution_count": 118,
   "id": "24a7076f-0fc1-4b33-8243-13d8786b8fea",
   "metadata": {},
   "outputs": [
    {
     "name": "stdout",
     "output_type": "stream",
     "text": [
      "Submitted batch job 26081694\n"
     ]
    }
   ],
   "source": [
    "source ../config_duke.sh\n",
    "\n",
    "sbatch -p ${NODE} \\\n",
    "    --array 0-23 \\\n",
    "    --mem 8G \\\n",
    "    -o ${FD_LOG}/filter_annotate_fragment_chrom.%a.txt \\\n",
    "    <<'EOF'\n",
    "#!/bin/bash\n",
    "### set directories & global variables\n",
    "source ../config_duke.sh\n",
    "CHROMS=($(seq 1 22) X Y)\n",
    "CHROM=chr${CHROMS[${SLURM_ARRAY_TASK_ID}]}\n",
    "TARGET=${CHROM}\n",
    "\n",
    "### set input and output\n",
    "FD_BEDS=($(find ${FD_RES}/annotation_fragment \\\n",
    "    -maxdepth 1 \\\n",
    "    -name 'Input?'    -o \\\n",
    "    -name 'TFX?_DMSO' -o \\\n",
    "    -name 'TFX?_Dex' |\\\n",
    "    sort))\n",
    "FN_BED=${TARGET}.bed\n",
    "\n",
    "### print start message\n",
    "echo \"Slurm Array Index: \" ${SLURM_ARRAY_TASK_ID}\n",
    "\n",
    "### loop through each sample and count each fragment of a chromosome\n",
    "echo \"RUN: loop through samples; annotate fragment\"\n",
    "\n",
    "for FD_BED in ${FD_BEDS[@]}; do\n",
    "    SAMPLE=$(basename ${FD_BED})\n",
    "    FD_OUT=${FD_RES}/annotation_fragment/filter_motif_score095/${SAMPLE}\n",
    "    FN_OUT=${TARGET}.bed.gz\n",
    "    \n",
    "    ### START Message\n",
    "    echo ++++++++++++++++++++++++++++++++++++++++++++++++\n",
    "    echo \"Input  file: \" ${FD_BED}/${FN_BED}\n",
    "    echo \"Output file: \" ${FD_OUT}/${FN_OUT}\n",
    "    echo\n",
    "    echo \"Show the first few lines of the input file\"\n",
    "    echo ${FD_BED}/${FN_BED}\n",
    "    cat  ${FD_BED}/${FN_BED} | head -3\n",
    "    echo\n",
    "    \n",
    "    ### init: create output folder if not exist\n",
    "    mkdir -p ${FD_OUT}\n",
    "    \n",
    "    ### filteration\n",
    "    cat ${FD_BED}/${FN_BED} | awk '$9>10.81' | gzip > ${FD_OUT}/${FN_OUT}\n",
    "    \n",
    "    ### END Message\n",
    "    echo \"Show the first few lines of the output file\"\n",
    "    echo ${FD_OUT}/${FN_OUT}\n",
    "    zcat ${FD_OUT}/${FN_OUT} | head -3\n",
    "    echo\n",
    "done\n",
    "\n",
    "echo \"Done\"\n",
    "EOF"
   ]
  },
  {
   "cell_type": "code",
   "execution_count": 120,
   "id": "465487bc-39de-4147-94c0-ee5d91e02c35",
   "metadata": {},
   "outputs": [
    {
     "name": "stdout",
     "output_type": "stream",
     "text": [
      "\u001b[0m\u001b[38;5;27mfilter_motif_score095\u001b[0m  \u001b[38;5;27mInput4\u001b[0m                    \u001b[38;5;27mTFX2_Dex\u001b[0m   \u001b[38;5;27mTFX4_Dex\u001b[0m\n",
      "\u001b[38;5;27mInput1\u001b[0m                 \u001b[38;5;27mInput5\u001b[0m                    \u001b[38;5;27mTFX2_DMSO\u001b[0m  \u001b[38;5;27mTFX4_DMSO\u001b[0m\n",
      "\u001b[38;5;27mInput2\u001b[0m                 target_PER1_MA0099.3.bed  \u001b[38;5;27mTFX3_Dex\u001b[0m   \u001b[38;5;27mTFX5_Dex\u001b[0m\n",
      "\u001b[38;5;27mInput3\u001b[0m                 target_PER1_MA0113.3.bed  \u001b[38;5;27mTFX3_DMSO\u001b[0m  \u001b[38;5;27mTFX5_DMSO\u001b[0m\n"
     ]
    }
   ],
   "source": [
    "ls ${FD_RES}/annotation_fragment"
   ]
  },
  {
   "cell_type": "code",
   "execution_count": 121,
   "id": "740e57e2-5f9f-4dff-8e46-73df52d172d8",
   "metadata": {},
   "outputs": [
    {
     "name": "stdout",
     "output_type": "stream",
     "text": [
      "\u001b[0m\u001b[38;5;27mInput1\u001b[0m  \u001b[38;5;27mInput3\u001b[0m  \u001b[38;5;27mInput5\u001b[0m    \u001b[38;5;27mTFX2_DMSO\u001b[0m  \u001b[38;5;27mTFX3_DMSO\u001b[0m  \u001b[38;5;27mTFX4_DMSO\u001b[0m  \u001b[38;5;27mTFX5_DMSO\u001b[0m\n",
      "\u001b[38;5;27mInput2\u001b[0m  \u001b[38;5;27mInput4\u001b[0m  \u001b[38;5;27mTFX2_Dex\u001b[0m  \u001b[38;5;27mTFX3_Dex\u001b[0m   \u001b[38;5;27mTFX4_Dex\u001b[0m   \u001b[38;5;27mTFX5_Dex\u001b[0m\n"
     ]
    }
   ],
   "source": [
    "ls ${FD_RES}/annotation_fragment/filter_motif_score095"
   ]
  },
  {
   "cell_type": "code",
   "execution_count": 122,
   "id": "549722c6-3d42-48f6-a269-f9922a476fc7",
   "metadata": {},
   "outputs": [
    {
     "name": "stdout",
     "output_type": "stream",
     "text": [
      "\u001b[0m\u001b[38;5;9mchr10.bed.gz\u001b[0m  \u001b[38;5;9mchr15.bed.gz\u001b[0m  \u001b[38;5;9mchr1.bed.gz\u001b[0m   \u001b[38;5;9mchr3.bed.gz\u001b[0m  \u001b[38;5;9mchr8.bed.gz\u001b[0m\n",
      "\u001b[38;5;9mchr11.bed.gz\u001b[0m  \u001b[38;5;9mchr16.bed.gz\u001b[0m  \u001b[38;5;9mchr20.bed.gz\u001b[0m  \u001b[38;5;9mchr4.bed.gz\u001b[0m  \u001b[38;5;9mchr9.bed.gz\u001b[0m\n",
      "\u001b[38;5;9mchr12.bed.gz\u001b[0m  \u001b[38;5;9mchr17.bed.gz\u001b[0m  \u001b[38;5;9mchr21.bed.gz\u001b[0m  \u001b[38;5;9mchr5.bed.gz\u001b[0m  \u001b[38;5;9mchrX.bed.gz\u001b[0m\n",
      "\u001b[38;5;9mchr13.bed.gz\u001b[0m  \u001b[38;5;9mchr18.bed.gz\u001b[0m  \u001b[38;5;9mchr22.bed.gz\u001b[0m  \u001b[38;5;9mchr6.bed.gz\u001b[0m  \u001b[38;5;9mchrY.bed.gz\u001b[0m\n",
      "\u001b[38;5;9mchr14.bed.gz\u001b[0m  \u001b[38;5;9mchr19.bed.gz\u001b[0m  \u001b[38;5;9mchr2.bed.gz\u001b[0m   \u001b[38;5;9mchr7.bed.gz\u001b[0m\n"
     ]
    }
   ],
   "source": [
    "ls ${FD_RES}/annotation_fragment/filter_motif_score095/Input1"
   ]
  },
  {
   "cell_type": "code",
   "execution_count": 126,
   "id": "98481c34-c1f0-47a1-8896-d8bc77bf996d",
   "metadata": {},
   "outputs": [
    {
     "name": "stdout",
     "output_type": "stream",
     "text": [
      "chr1\t13868\t14793\t1\tchr1\t13937\t13949\tINSM1\t11.5497\t12\n",
      "chr1\t13868\t14793\t1\tchr1\t13971\t13980\tAP1/1\t10.9638\t9\n",
      "chr1\t13868\t14793\t1\tchr1\t14035\t14050\tNFI/1\t13.4934\t15\n",
      "chr1\t13868\t14793\t1\tchr1\t14036\t14049\tNFI/3\t12.8788\t13\n",
      "chr1\t13868\t14793\t1\tchr1\t14229\t14243\tEbox/CAGATGG\t11.5031\t14\n",
      "chr1\t13868\t14793\t1\tchr1\t14438\t14448\tSTAT/1\t11.1149\t10\n",
      "chr1\t13868\t14793\t1\tchr1\t14694\t14713\tZNF143\t11.8141\t19\n",
      "chr1\t13868\t14793\t1\tchr1\t14730\t14744\tRUNX/2\t12.5486\t14\n",
      "chr1\t13868\t14793\t1\tchr1\t14745\t14764\tZNF324\t13.3489\t19\n",
      "chr1\t17394\t18268\t1\tchr1\t17469\t17487\tZNF667\t10.8444\t18\n",
      "\n",
      "gzip: stdout: Broken pipe\n"
     ]
    }
   ],
   "source": [
    "zcat ${FD_RES}/annotation_fragment/filter_motif_score095/Input1/chr1.bed.gz | head"
   ]
  },
  {
   "cell_type": "code",
   "execution_count": 119,
   "id": "e0dfb890-629e-434e-b116-991fbb0d5722",
   "metadata": {},
   "outputs": [
    {
     "name": "stdout",
     "output_type": "stream",
     "text": [
      "/gpfs/fs1/data/reddylab/Kuei/out/proj_combeffect/log/filter_annotate_fragment_chrom.0.txt\n"
     ]
    }
   ],
   "source": [
    "echo ${FD_LOG}/filter_annotate_fragment_chrom.0.txt"
   ]
  },
  {
   "cell_type": "code",
   "execution_count": 117,
   "id": "4eadcec7-6ca3-4167-92fb-276120aa8949",
   "metadata": {
    "collapsed": true,
    "jupyter": {
     "outputs_hidden": true
    },
    "tags": []
   },
   "outputs": [
    {
     "name": "stdout",
     "output_type": "stream",
     "text": [
      "Slurm Array Index:  0\n",
      "RUN: loop through samples; annotate fragment\n",
      "++++++++++++++++++++++++++++++++++++++++++++++++\n",
      "Input  file:  /gpfs/fs1/data/reddylab/Kuei/out/proj_combeffect/annotation_fragment/Input1/chr1.bed\n",
      "Output file:  /gpfs/fs1/data/reddylab/Kuei/out/proj_combeffect/annotation_fragment/filter_motif_score095/Input1/chr1.bed.gz\n",
      "\n",
      "Show the first few lines of the input file\n",
      "/gpfs/fs1/data/reddylab/Kuei/out/proj_combeffect/annotation_fragment/Input1/chr1.bed\n",
      "chr1\t13868\t14793\t1\tchr1\t13881\t13895\tNR/13\t5.862\t14\n",
      "chr1\t13868\t14793\t1\tchr1\t13881\t13894\tNR/1\t3.4599\t13\n",
      "chr1\t13868\t14793\t1\tchr1\t13881\t13895\tNR/3\t10.4257\t14\n",
      "\n",
      "Show the first few lines of the output file\n",
      "/gpfs/fs1/data/reddylab/Kuei/out/proj_combeffect/annotation_fragment/filter_motif_score095/Input1/chr1.bed.gz\n",
      "chr1\t13868\t14793\t1\tchr1\t13881\t13895\tNR/13\t5.862\t14\n",
      "chr1\t13868\t14793\t1\tchr1\t13881\t13895\tNR/3\t10.4257\t14\n",
      "chr1\t13868\t14793\t1\tchr1\t13890\t13899\tKLF/SP/3\t10.0719\t9\n",
      "\n",
      "++++++++++++++++++++++++++++++++++++++++++++++++\n",
      "Input  file:  /gpfs/fs1/data/reddylab/Kuei/out/proj_combeffect/annotation_fragment/Input2/chr1.bed\n",
      "Output file:  /gpfs/fs1/data/reddylab/Kuei/out/proj_combeffect/annotation_fragment/filter_motif_score095/Input2/chr1.bed.gz\n",
      "\n",
      "Show the first few lines of the input file\n",
      "/gpfs/fs1/data/reddylab/Kuei/out/proj_combeffect/annotation_fragment/Input2/chr1.bed\n",
      "chr1\t14843\t15828\t1\tchr1\t14821\t14859\tGC-tract\t7.207066667\t16\n",
      "chr1\t14843\t15828\t1\tchr1\t14832\t14846\tNR/3\t7.1391\t3\n",
      "chr1\t14843\t15828\t1\tchr1\t14834\t14862\tKLF/SP/2\t9.049475\t19\n",
      "\n",
      "Show the first few lines of the output file\n",
      "/gpfs/fs1/data/reddylab/Kuei/out/proj_combeffect/annotation_fragment/filter_motif_score095/Input2/chr1.bed.gz\n",
      "chr1\t14843\t15828\t1\tchr1\t14821\t14859\tGC-tract\t7.207066667\t16\n",
      "chr1\t14843\t15828\t1\tchr1\t14832\t14846\tNR/3\t7.1391\t3\n",
      "chr1\t14843\t15828\t1\tchr1\t14834\t14862\tKLF/SP/2\t9.049475\t19\n",
      "\n",
      "++++++++++++++++++++++++++++++++++++++++++++++++\n",
      "Input  file:  /gpfs/fs1/data/reddylab/Kuei/out/proj_combeffect/annotation_fragment/Input3/chr1.bed\n",
      "Output file:  /gpfs/fs1/data/reddylab/Kuei/out/proj_combeffect/annotation_fragment/filter_motif_score095/Input3/chr1.bed.gz\n",
      "\n",
      "Show the first few lines of the input file\n",
      "/gpfs/fs1/data/reddylab/Kuei/out/proj_combeffect/annotation_fragment/Input3/chr1.bed\n",
      "chr1\t14868\t15889\t1\tchr1\t14852\t14874\tZNF143\t5.79395\t6\n",
      "chr1\t14868\t15889\t1\tchr1\t14856\t14869\tRFX/2\t8.0017\t1\n",
      "chr1\t14868\t15889\t1\tchr1\t14860\t14869\tRBPJ\t9.157\t1\n",
      "\n",
      "Show the first few lines of the output file\n",
      "/gpfs/fs1/data/reddylab/Kuei/out/proj_combeffect/annotation_fragment/filter_motif_score095/Input3/chr1.bed.gz\n",
      "chr1\t14868\t15889\t1\tchr1\t14852\t14874\tZNF143\t5.79395\t6\n",
      "chr1\t14868\t15889\t1\tchr1\t14856\t14869\tRFX/2\t8.0017\t1\n",
      "chr1\t14868\t15889\t1\tchr1\t14860\t14869\tRBPJ\t9.157\t1\n",
      "\n",
      "++++++++++++++++++++++++++++++++++++++++++++++++\n",
      "Input  file:  /gpfs/fs1/data/reddylab/Kuei/out/proj_combeffect/annotation_fragment/Input4/chr1.bed\n",
      "Output file:  /gpfs/fs1/data/reddylab/Kuei/out/proj_combeffect/annotation_fragment/filter_motif_score095/Input4/chr1.bed.gz\n",
      "\n",
      "Show the first few lines of the input file\n",
      "/gpfs/fs1/data/reddylab/Kuei/out/proj_combeffect/annotation_fragment/Input4/chr1.bed\n",
      "chr1\t17394\t18269\t1\tchr1\t17381\t17397\tMZF1\t7.5809\t3\n",
      "chr1\t17394\t18269\t1\tchr1\t17384\t17395\tSMAD\t8.5892\t1\n",
      "chr1\t17394\t18269\t1\tchr1\t17385\t17424\tNR/16\t9.212333333\t30\n",
      "\n",
      "Show the first few lines of the output file\n",
      "/gpfs/fs1/data/reddylab/Kuei/out/proj_combeffect/annotation_fragment/filter_motif_score095/Input4/chr1.bed.gz\n",
      "chr1\t17394\t18269\t1\tchr1\t17381\t17397\tMZF1\t7.5809\t3\n",
      "chr1\t17394\t18269\t1\tchr1\t17384\t17395\tSMAD\t8.5892\t1\n",
      "chr1\t17394\t18269\t1\tchr1\t17385\t17424\tNR/16\t9.212333333\t30\n",
      "\n",
      "++++++++++++++++++++++++++++++++++++++++++++++++\n",
      "Input  file:  /gpfs/fs1/data/reddylab/Kuei/out/proj_combeffect/annotation_fragment/Input5/chr1.bed\n",
      "Output file:  /gpfs/fs1/data/reddylab/Kuei/out/proj_combeffect/annotation_fragment/filter_motif_score095/Input5/chr1.bed.gz\n",
      "\n",
      "Show the first few lines of the input file\n",
      "/gpfs/fs1/data/reddylab/Kuei/out/proj_combeffect/annotation_fragment/Input5/chr1.bed\n",
      "chr1\t17394\t18225\t1\tchr1\t17381\t17397\tMZF1\t7.5809\t3\n",
      "chr1\t17394\t18225\t1\tchr1\t17384\t17395\tSMAD\t8.5892\t1\n",
      "chr1\t17394\t18225\t1\tchr1\t17385\t17424\tNR/16\t9.212333333\t30\n",
      "\n",
      "Show the first few lines of the output file\n",
      "/gpfs/fs1/data/reddylab/Kuei/out/proj_combeffect/annotation_fragment/filter_motif_score095/Input5/chr1.bed.gz\n",
      "chr1\t17394\t18225\t1\tchr1\t17381\t17397\tMZF1\t7.5809\t3\n",
      "chr1\t17394\t18225\t1\tchr1\t17384\t17395\tSMAD\t8.5892\t1\n",
      "chr1\t17394\t18225\t1\tchr1\t17385\t17424\tNR/16\t9.212333333\t30\n",
      "\n",
      "++++++++++++++++++++++++++++++++++++++++++++++++\n",
      "Input  file:  /gpfs/fs1/data/reddylab/Kuei/out/proj_combeffect/annotation_fragment/TFX2_Dex/chr1.bed\n",
      "Output file:  /gpfs/fs1/data/reddylab/Kuei/out/proj_combeffect/annotation_fragment/filter_motif_score095/TFX2_Dex/chr1.bed.gz\n",
      "\n",
      "Show the first few lines of the input file\n",
      "/gpfs/fs1/data/reddylab/Kuei/out/proj_combeffect/annotation_fragment/TFX2_Dex/chr1.bed\n",
      "chr1\t13622\t14491\t1\tchr1\t13611\t13625\tRFX/1\t8.5771\t3\n",
      "chr1\t13622\t14491\t1\tchr1\t13616\t13633\tZNF708\t7.6174\t11\n",
      "chr1\t13622\t14491\t1\tchr1\t13626\t13651\tZNF354\t13.1557\t25\n",
      "\n",
      "Show the first few lines of the output file\n",
      "/gpfs/fs1/data/reddylab/Kuei/out/proj_combeffect/annotation_fragment/filter_motif_score095/TFX2_Dex/chr1.bed.gz\n",
      "chr1\t13622\t14491\t1\tchr1\t13611\t13625\tRFX/1\t8.5771\t3\n",
      "chr1\t13622\t14491\t1\tchr1\t13616\t13633\tZNF708\t7.6174\t11\n",
      "chr1\t13622\t14491\t1\tchr1\t13626\t13651\tZNF354\t13.1557\t25\n",
      "\n",
      "++++++++++++++++++++++++++++++++++++++++++++++++\n",
      "Input  file:  /gpfs/fs1/data/reddylab/Kuei/out/proj_combeffect/annotation_fragment/TFX2_DMSO/chr1.bed\n",
      "Output file:  /gpfs/fs1/data/reddylab/Kuei/out/proj_combeffect/annotation_fragment/filter_motif_score095/TFX2_DMSO/chr1.bed.gz\n",
      "\n",
      "Show the first few lines of the input file\n",
      "/gpfs/fs1/data/reddylab/Kuei/out/proj_combeffect/annotation_fragment/TFX2_DMSO/chr1.bed\n",
      "chr1\t13616\t14781\t1\tchr1\t13610\t13617\tHIC/2\t7.8022\t1\n",
      "chr1\t13616\t14781\t1\tchr1\t13611\t13625\tRFX/1\t8.5771\t9\n",
      "chr1\t13616\t14781\t1\tchr1\t13616\t13633\tZNF708\t7.6174\t17\n",
      "\n",
      "Show the first few lines of the output file\n",
      "/gpfs/fs1/data/reddylab/Kuei/out/proj_combeffect/annotation_fragment/filter_motif_score095/TFX2_DMSO/chr1.bed.gz\n",
      "chr1\t13616\t14781\t1\tchr1\t13610\t13617\tHIC/2\t7.8022\t1\n",
      "chr1\t13616\t14781\t1\tchr1\t13611\t13625\tRFX/1\t8.5771\t9\n",
      "chr1\t13616\t14781\t1\tchr1\t13616\t13633\tZNF708\t7.6174\t17\n",
      "\n",
      "++++++++++++++++++++++++++++++++++++++++++++++++\n",
      "Input  file:  /gpfs/fs1/data/reddylab/Kuei/out/proj_combeffect/annotation_fragment/TFX3_Dex/chr1.bed\n",
      "Output file:  /gpfs/fs1/data/reddylab/Kuei/out/proj_combeffect/annotation_fragment/filter_motif_score095/TFX3_Dex/chr1.bed.gz\n",
      "\n",
      "Show the first few lines of the input file\n",
      "/gpfs/fs1/data/reddylab/Kuei/out/proj_combeffect/annotation_fragment/TFX3_Dex/chr1.bed\n",
      "chr1\t14903\t15879\t1\tchr1\t14896\t14915\tZNF680\t8.4443\t12\n",
      "chr1\t14903\t15879\t1\tchr1\t14898\t14910\tSPI\t7.3948\t7\n",
      "chr1\t14903\t15879\t1\tchr1\t14898\t14914\tIRF/2\t7.8247\t11\n",
      "\n",
      "Show the first few lines of the output file\n",
      "/gpfs/fs1/data/reddylab/Kuei/out/proj_combeffect/annotation_fragment/filter_motif_score095/TFX3_Dex/chr1.bed.gz\n",
      "chr1\t14903\t15879\t1\tchr1\t14896\t14915\tZNF680\t8.4443\t12\n",
      "chr1\t14903\t15879\t1\tchr1\t14898\t14910\tSPI\t7.3948\t7\n",
      "chr1\t14903\t15879\t1\tchr1\t14898\t14914\tIRF/2\t7.8247\t11\n",
      "\n",
      "++++++++++++++++++++++++++++++++++++++++++++++++\n",
      "Input  file:  /gpfs/fs1/data/reddylab/Kuei/out/proj_combeffect/annotation_fragment/TFX3_DMSO/chr1.bed\n",
      "Output file:  /gpfs/fs1/data/reddylab/Kuei/out/proj_combeffect/annotation_fragment/filter_motif_score095/TFX3_DMSO/chr1.bed.gz\n",
      "\n",
      "Show the first few lines of the input file\n",
      "/gpfs/fs1/data/reddylab/Kuei/out/proj_combeffect/annotation_fragment/TFX3_DMSO/chr1.bed\n",
      "chr1\t13444\t14495\t1\tchr1\t13432\t13445\tSOX/1\t8.3464\t1\n",
      "chr1\t13444\t14495\t1\tchr1\t13434\t13448\tNR/3\t9.0991\t4\n",
      "chr1\t13444\t14495\t1\tchr1\t13434\t13447\tNR/2\t8.6779\t3\n",
      "\n",
      "Show the first few lines of the output file\n",
      "/gpfs/fs1/data/reddylab/Kuei/out/proj_combeffect/annotation_fragment/filter_motif_score095/TFX3_DMSO/chr1.bed.gz\n",
      "chr1\t13444\t14495\t1\tchr1\t13432\t13445\tSOX/1\t8.3464\t1\n",
      "chr1\t13444\t14495\t1\tchr1\t13434\t13448\tNR/3\t9.0991\t4\n",
      "chr1\t13444\t14495\t1\tchr1\t13434\t13447\tNR/2\t8.6779\t3\n",
      "\n",
      "++++++++++++++++++++++++++++++++++++++++++++++++\n",
      "Input  file:  /gpfs/fs1/data/reddylab/Kuei/out/proj_combeffect/annotation_fragment/TFX4_Dex/chr1.bed\n",
      "Output file:  /gpfs/fs1/data/reddylab/Kuei/out/proj_combeffect/annotation_fragment/filter_motif_score095/TFX4_Dex/chr1.bed.gz\n",
      "\n",
      "Show the first few lines of the input file\n",
      "/gpfs/fs1/data/reddylab/Kuei/out/proj_combeffect/annotation_fragment/TFX4_Dex/chr1.bed\n",
      "chr1\t15143\t16267\t1\tchr1\t15133\t15146\tSOX/1\t8.0519\t3\n",
      "chr1\t15143\t16267\t1\tchr1\t15133\t15152\tZFN121\t6.5655\t9\n",
      "chr1\t15143\t16267\t1\tchr1\t15133\t15148\tNR/17\t7.7208\t5\n",
      "\n",
      "Show the first few lines of the output file\n",
      "/gpfs/fs1/data/reddylab/Kuei/out/proj_combeffect/annotation_fragment/filter_motif_score095/TFX4_Dex/chr1.bed.gz\n",
      "chr1\t15143\t16267\t1\tchr1\t15133\t15146\tSOX/1\t8.0519\t3\n",
      "chr1\t15143\t16267\t1\tchr1\t15133\t15152\tZFN121\t6.5655\t9\n",
      "chr1\t15143\t16267\t1\tchr1\t15133\t15148\tNR/17\t7.7208\t5\n",
      "\n",
      "++++++++++++++++++++++++++++++++++++++++++++++++\n",
      "Input  file:  /gpfs/fs1/data/reddylab/Kuei/out/proj_combeffect/annotation_fragment/TFX4_DMSO/chr1.bed\n",
      "Output file:  /gpfs/fs1/data/reddylab/Kuei/out/proj_combeffect/annotation_fragment/filter_motif_score095/TFX4_DMSO/chr1.bed.gz\n",
      "\n",
      "Show the first few lines of the input file\n",
      "/gpfs/fs1/data/reddylab/Kuei/out/proj_combeffect/annotation_fragment/TFX4_DMSO/chr1.bed\n",
      "chr1\t13752\t14778\t1\tchr1\t13744\t13782\tGC-tract\t8.9562\t30\n",
      "chr1\t13752\t14778\t1\tchr1\t13747\t13758\tEGR\t8.4972\t6\n",
      "chr1\t13752\t14778\t1\tchr1\t13750\t13765\tNFI/1\t9.43615\t13\n",
      "\n",
      "Show the first few lines of the output file\n",
      "/gpfs/fs1/data/reddylab/Kuei/out/proj_combeffect/annotation_fragment/filter_motif_score095/TFX4_DMSO/chr1.bed.gz\n",
      "chr1\t13752\t14778\t1\tchr1\t13744\t13782\tGC-tract\t8.9562\t30\n",
      "chr1\t13752\t14778\t1\tchr1\t13747\t13758\tEGR\t8.4972\t6\n",
      "chr1\t13752\t14778\t1\tchr1\t13750\t13765\tNFI/1\t9.43615\t13\n",
      "\n",
      "++++++++++++++++++++++++++++++++++++++++++++++++\n",
      "Input  file:  /gpfs/fs1/data/reddylab/Kuei/out/proj_combeffect/annotation_fragment/TFX5_Dex/chr1.bed\n",
      "Output file:  /gpfs/fs1/data/reddylab/Kuei/out/proj_combeffect/annotation_fragment/filter_motif_score095/TFX5_Dex/chr1.bed.gz\n",
      "\n",
      "Show the first few lines of the input file\n",
      "/gpfs/fs1/data/reddylab/Kuei/out/proj_combeffect/annotation_fragment/TFX5_Dex/chr1.bed\n",
      "chr1\t14449\t15491\t3\tchr1\t14458\t14472\tZKSCAN1\t6.7698\t14\n",
      "chr1\t14449\t15491\t3\tchr1\t14461\t14472\tNR/19\t8.5131\t11\n",
      "chr1\t14449\t15491\t3\tchr1\t14461\t14492\tGC-tract\t7.14565\t31\n",
      "\n",
      "Show the first few lines of the output file\n",
      "/gpfs/fs1/data/reddylab/Kuei/out/proj_combeffect/annotation_fragment/filter_motif_score095/TFX5_Dex/chr1.bed.gz\n",
      "chr1\t14449\t15491\t3\tchr1\t14458\t14472\tZKSCAN1\t6.7698\t14\n",
      "chr1\t14449\t15491\t3\tchr1\t14461\t14472\tNR/19\t8.5131\t11\n",
      "chr1\t14449\t15491\t3\tchr1\t14461\t14492\tGC-tract\t7.14565\t31\n",
      "\n",
      "++++++++++++++++++++++++++++++++++++++++++++++++\n",
      "Input  file:  /gpfs/fs1/data/reddylab/Kuei/out/proj_combeffect/annotation_fragment/TFX5_DMSO/chr1.bed\n",
      "Output file:  /gpfs/fs1/data/reddylab/Kuei/out/proj_combeffect/annotation_fragment/filter_motif_score095/TFX5_DMSO/chr1.bed.gz\n",
      "\n",
      "Show the first few lines of the input file\n",
      "/gpfs/fs1/data/reddylab/Kuei/out/proj_combeffect/annotation_fragment/TFX5_DMSO/chr1.bed\n",
      "chr1\t13684\t14776\t1\tchr1\t13674\t13691\tKLF/SP/2\t8.516\t7\n",
      "chr1\t13684\t14776\t1\tchr1\t13677\t13691\tNFI/1\t3.562\t7\n",
      "chr1\t13684\t14776\t1\tchr1\t13677\t13690\tNFI/3\t7.9741\t6\n",
      "\n",
      "Show the first few lines of the output file\n",
      "/gpfs/fs1/data/reddylab/Kuei/out/proj_combeffect/annotation_fragment/filter_motif_score095/TFX5_DMSO/chr1.bed.gz\n",
      "chr1\t13684\t14776\t1\tchr1\t13674\t13691\tKLF/SP/2\t8.516\t7\n",
      "chr1\t13684\t14776\t1\tchr1\t13677\t13690\tNFI/3\t7.9741\t6\n",
      "chr1\t13684\t14776\t1\tchr1\t13694\t13713\tZNF143\t7.7488\t19\n",
      "\n",
      "Done\n"
     ]
    }
   ],
   "source": [
    "cat ${FD_LOG}/filter_annotate_fragment_chrom.0.txt"
   ]
  },
  {
   "cell_type": "code",
   "execution_count": 127,
   "id": "fdd66f7e-2c3f-4347-ba4e-7d7b64a05ea2",
   "metadata": {},
   "outputs": [
    {
     "name": "stdout",
     "output_type": "stream",
     "text": [
      "\u001b[0m\u001b[38;5;27mInput1\u001b[0m  \u001b[38;5;27mInput3\u001b[0m  \u001b[38;5;27mInput5\u001b[0m    \u001b[38;5;27mTFX2_DMSO\u001b[0m  \u001b[38;5;27mTFX3_DMSO\u001b[0m  \u001b[38;5;27mTFX4_DMSO\u001b[0m  \u001b[38;5;27mTFX5_DMSO\u001b[0m\n",
      "\u001b[38;5;27mInput2\u001b[0m  \u001b[38;5;27mInput4\u001b[0m  \u001b[38;5;27mTFX2_Dex\u001b[0m  \u001b[38;5;27mTFX3_Dex\u001b[0m   \u001b[38;5;27mTFX4_Dex\u001b[0m   \u001b[38;5;27mTFX5_Dex\u001b[0m\n"
     ]
    }
   ],
   "source": [
    "ls /data/reddylab/Kuei/out/proj_combeffect/annotation_fragment/filter_motif_score095"
   ]
  },
  {
   "cell_type": "code",
   "execution_count": 128,
   "id": "1656ab6c-734b-404e-a417-6c92350c01b0",
   "metadata": {},
   "outputs": [
    {
     "name": "stdout",
     "output_type": "stream",
     "text": [
      "\u001b[0m\u001b[38;5;9mchr10.bed.gz\u001b[0m  \u001b[38;5;9mchr15.bed.gz\u001b[0m  \u001b[38;5;9mchr1.bed.gz\u001b[0m   \u001b[38;5;9mchr3.bed.gz\u001b[0m  \u001b[38;5;9mchr8.bed.gz\u001b[0m\n",
      "\u001b[38;5;9mchr11.bed.gz\u001b[0m  \u001b[38;5;9mchr16.bed.gz\u001b[0m  \u001b[38;5;9mchr20.bed.gz\u001b[0m  \u001b[38;5;9mchr4.bed.gz\u001b[0m  \u001b[38;5;9mchr9.bed.gz\u001b[0m\n",
      "\u001b[38;5;9mchr12.bed.gz\u001b[0m  \u001b[38;5;9mchr17.bed.gz\u001b[0m  \u001b[38;5;9mchr21.bed.gz\u001b[0m  \u001b[38;5;9mchr5.bed.gz\u001b[0m  \u001b[38;5;9mchrX.bed.gz\u001b[0m\n",
      "\u001b[38;5;9mchr13.bed.gz\u001b[0m  \u001b[38;5;9mchr18.bed.gz\u001b[0m  \u001b[38;5;9mchr22.bed.gz\u001b[0m  \u001b[38;5;9mchr6.bed.gz\u001b[0m  \u001b[38;5;9mchrY.bed.gz\u001b[0m\n",
      "\u001b[38;5;9mchr14.bed.gz\u001b[0m  \u001b[38;5;9mchr19.bed.gz\u001b[0m  \u001b[38;5;9mchr2.bed.gz\u001b[0m   \u001b[38;5;9mchr7.bed.gz\u001b[0m\n"
     ]
    }
   ],
   "source": [
    "ls /data/reddylab/Kuei/out/proj_combeffect/annotation_fragment/filter_motif_score095/TFX3_DMSO"
   ]
  },
  {
   "cell_type": "code",
   "execution_count": null,
   "id": "ea3389a5-bc08-43fd-a868-0b58ad770bae",
   "metadata": {},
   "outputs": [],
   "source": []
  },
  {
   "cell_type": "code",
   "execution_count": null,
   "id": "23749c04-adf0-4bcf-bba1-b210567255e2",
   "metadata": {},
   "outputs": [],
   "source": []
  },
  {
   "cell_type": "code",
   "execution_count": null,
   "id": "572290d0-485d-4347-a388-ee24d74355eb",
   "metadata": {},
   "outputs": [],
   "source": []
  },
  {
   "cell_type": "code",
   "execution_count": null,
   "id": "b8b9f74e-81f5-4b5d-b703-0fd667cf9201",
   "metadata": {},
   "outputs": [],
   "source": []
  },
  {
   "cell_type": "code",
   "execution_count": null,
   "id": "acedb602-7974-4e37-a9ea-e86aac47151a",
   "metadata": {},
   "outputs": [],
   "source": []
  },
  {
   "cell_type": "code",
   "execution_count": null,
   "id": "a0b3724b-91e5-4052-8f29-0223279f2248",
   "metadata": {},
   "outputs": [],
   "source": []
  },
  {
   "cell_type": "code",
   "execution_count": 18,
   "id": "6d4a25aa-7355-4027-adf9-b1639d903751",
   "metadata": {},
   "outputs": [
    {
     "name": "stdout",
     "output_type": "stream",
     "text": [
      "Submitted batch job 26080215\n"
     ]
    }
   ],
   "source": [
    "source ../config_duke.sh\n",
    "\n",
    "sbatch -p ${NODE} \\\n",
    "    --array 0-23 \\\n",
    "    --mem 8G \\\n",
    "    -o ${FD_LOG}/filter_annotate_fragment_chrom.%a.txt \\\n",
    "    <<'EOF'\n",
    "#!/bin/bash\n",
    "### set directories & global variables\n",
    "source ../config_duke.sh\n",
    "CHROMS=($(seq 1 22) X Y)\n",
    "CHROM=chr${CHROMS[${SLURM_ARRAY_TASK_ID}]}\n",
    "TARGET=${CHROM}\n",
    "\n",
    "### set input and output\n",
    "FD_BEDS=($(ls -d ${FD_RES}/count_fragment/*/))\n",
    "FN_BED=${TARGET}.bed\n",
    "\n",
    "### print start message\n",
    "echo \"Slurm Array Index: \" ${SLURM_ARRAY_TASK_ID}\n",
    "\n",
    "### loop through each sample and count each fragment of a chromosome\n",
    "echo \"RUN: loop through samples; annotate fragment\"\n",
    "\n",
    "for FD_BED in ${FD_BEDS[@]}; do\n",
    "    SAMPLE=$(basename ${FD_BED})\n",
    "    FD_OUT=${FD_RES}/annotation_fragment/filter_motif_score095/${SAMPLE}\n",
    "    FN_OUT=${TARGET}.bed.gz\n",
    "    \n",
    "    ### START Message\n",
    "    echo ++++++++++++++++++++++++++++++++++++++++++++++++\n",
    "    echo \"Input  file: \" ${FD_BED}/${FN_BED}\n",
    "    echo \"Output file: \" ${FD_OUT}/${FN_OUT}\n",
    "    echo\n",
    "    echo \"Show the first few lines of the input file\"\n",
    "    echo ${FD_BED}/${FN_BED}\n",
    "    head -n 3 ${FD_BED}/${FN_BED}\n",
    "    echo\n",
    "    \n",
    "    ### init: create output folder if not exist\n",
    "    #mkdir -p ${FD_OUT}\n",
    "    \n",
    "    ### annotation using intersect\n",
    "    #bedtools intersect -a ${FD_BED}/${FN_BED} -b ${FD_MTF}/${FN_MTF} -wo > ${FD_OUT}/${FN_OUT}\n",
    "    #bedtools nuc -fi ${FD_GEN}/${FN_GEN} -bed ${FD_OUT}/${FN_OUT}        > ${FD_OUT}/${FN_NUC}\n",
    "    \n",
    "    ### END Message\n",
    "    #echo \"Show the first few lines of the output file\"\n",
    "    #echo ${FD_OUT}/${FN_OUT}\n",
    "    #head -n 3 ${FD_OUT}/${FN_OUT}\n",
    "    #echo\n",
    "done\n",
    "echo \"Done!\"\n",
    "\n",
    "EOF"
   ]
  },
  {
   "cell_type": "code",
   "execution_count": 24,
   "id": "54dc36b4-5ed9-46c0-8bf7-37b139d0bea3",
   "metadata": {},
   "outputs": [
    {
     "name": "stdout",
     "output_type": "stream",
     "text": [
      "cat: /gpfs/fs1/data/reddylab/Kuei/out/proj_combeffect/log/filter_annotate_fragment_chrom.0.txt: No such file or directory\n"
     ]
    },
    {
     "ename": "",
     "evalue": "1",
     "output_type": "error",
     "traceback": []
    }
   ],
   "source": [
    "cat ${FD_LOG}/filter_annotate_fragment_chrom.0.txt"
   ]
  },
  {
   "cell_type": "code",
   "execution_count": null,
   "id": "60c76778-7afd-41fe-bb4c-6cb15505eb8d",
   "metadata": {},
   "outputs": [],
   "source": [
    "source ../config_duke.sh\n",
    "source ../load_module_bedtools.sh\n",
    "\n",
    "sbatch -p scavenger \\\n",
    "    --array 0-23 \\\n",
    "    --mem 20G \\\n",
    "    -o ${FD_LOG}/annotate_fragment_chrom.%a.txt \\\n",
    "    <<'EOF'\n",
    "#!/bin/bash\n",
    "### set directories & global variables\n",
    "source ../config_duke.sh\n",
    "CHROMS=($(seq 1 22) X Y)\n",
    "CHROM=chr${CHROMS[${SLURM_ARRAY_TASK_ID}]}\n",
    "TARGET=${CHROM}\n",
    "\n",
    "### set input and output\n",
    "FD_BEDS=($(ls -d ${FD_WRK}/count_fragment/*/))\n",
    "FN_BED=${TARGET}.bed\n",
    "\n",
    "### motif annotation\n",
    "FD_MTF=${FD_ANN}/motif_cluster_jvierstra/hg38_archetype_motifs_v1\n",
    "FN_MTF=${CHROM}_rm_mouse_merge.bed.gz\n",
    "\n",
    "### genome annotation\n",
    "FD_GEN=${FD_ANN}/genome/hg38/fasta\n",
    "FN_GEN=${CHROM}.fa\n",
    "\n",
    "### print start message\n",
    "echo \"Slurm Array Index: \" ${SLURM_ARRAY_TASK_ID}\n",
    "\n",
    "### loop through each sample and count each fragment of a chromosome\n",
    "echo \"RUN: loop through samples; annotate fragment\"\n",
    "\n",
    "for FD_BED in ${FD_BEDS[@]}; do\n",
    "    SAMPLE=$(basename ${FD_BED})\n",
    "    FD_OUT=${FD_WRK}/annotation_fragment/${SAMPLE}\n",
    "    FN_OUT=${TARGET}.bed\n",
    "    #FN_NUC=${TARGET}_nuc.bed\n",
    "    ### START Message\n",
    "    echo ++++++++++++++++++++++++++++++++++++++++++++++++\n",
    "    echo \"Input  file: \" ${FD_BED}/${FN_BED}\n",
    "    echo \"Output file: \" ${FD_OUT}/${FN_OUT}\n",
    "    echo\n",
    "    echo \"Show the first few lines of the input file\"\n",
    "    echo ${FD_BED}/${FN_BED}\n",
    "    head -n 3 ${FD_BED}/${FN_BED}\n",
    "    echo\n",
    "    \n",
    "    ### init: create output folder if not exist\n",
    "    mkdir -p ${FD_OUT}\n",
    "    \n",
    "    ### annotation using intersect\n",
    "    bedtools intersect -a ${FD_BED}/${FN_BED} -b ${FD_MTF}/${FN_MTF} -wo > ${FD_OUT}/${FN_OUT}\n",
    "    #bedtools nuc -fi ${FD_GEN}/${FN_GEN} -bed ${FD_OUT}/${FN_OUT}        > ${FD_OUT}/${FN_NUC}\n",
    "    \n",
    "    ### END Message\n",
    "    echo \"Show the first few lines of the output file\"\n",
    "    echo ${FD_OUT}/${FN_OUT}\n",
    "    head -n 3 ${FD_OUT}/${FN_OUT}\n",
    "    echo\n",
    "    #echo \"Show the first few lines of the output file\"\n",
    "    #echo ${FD_OUT}/${FN_NUC}\n",
    "    #head -n 3 ${FD_OUT}/${FN_NUC}\n",
    "    #echo\n",
    "done\n",
    "echo \"Done!\"\n",
    "\n",
    "EOF"
   ]
  },
  {
   "cell_type": "code",
   "execution_count": null,
   "id": "44606f21-a8cd-4e0d-8e79-30cdc519f394",
   "metadata": {},
   "outputs": [],
   "source": [
    "mkdir -p ${FD_RES}/annotation_fragment/filter_motif_score095"
   ]
  }
 ],
 "metadata": {
  "kernelspec": {
   "display_name": "Bash",
   "language": "bash",
   "name": "bash"
  },
  "language_info": {
   "codemirror_mode": "shell",
   "file_extension": ".sh",
   "mimetype": "text/x-sh",
   "name": "bash"
  }
 },
 "nbformat": 4,
 "nbformat_minor": 5
}
