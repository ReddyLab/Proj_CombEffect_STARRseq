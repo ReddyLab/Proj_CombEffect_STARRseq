{
 "cells": [
  {
   "cell_type": "markdown",
   "id": "8383950e-f748-4366-91ca-381cfdab97ca",
   "metadata": {},
   "source": [
    "# Filter annotation fragments based on motif score (input 20x)"
   ]
  },
  {
   "cell_type": "code",
   "execution_count": 1,
   "id": "403fdeb8-005d-4d5b-966e-f979f7598f49",
   "metadata": {},
   "outputs": [
    {
     "name": "stdout",
     "output_type": "stream",
     "text": [
      "You are on Duke Server: HARDAC\n",
      "BASE DIRECTORY:     /gpfs/fs1/data/reddylab/Kuei\n",
      "PATH OF SOURCE:     /gpfs/fs1/data/reddylab/Kuei/source\n",
      "PATH OF EXECUTABLE: /gpfs/fs1/data/reddylab/Kuei/exe\n",
      "PATH OF ANNOTATION: /gpfs/fs1/data/reddylab/Kuei/annotation\n",
      "PATH OF PROJECT:    /gpfs/fs1/data/reddylab/Kuei/GitRepo/Proj_CombEffect_STARRseq/notebooks\n",
      "PATH OF RESULTS:    /gpfs/fs1/data/reddylab/Kuei/out/proj_combeffect\n",
      "\n"
     ]
    }
   ],
   "source": [
    "source ../config_duke.sh -v"
   ]
  },
  {
   "cell_type": "markdown",
   "id": "16adbff7-9af8-44c9-aba3-449e1fb7a032",
   "metadata": {},
   "source": [
    "**Check**"
   ]
  },
  {
   "cell_type": "code",
   "execution_count": 3,
   "id": "6ac40a20-4918-4348-87cf-0ff6d128ed53",
   "metadata": {},
   "outputs": [
    {
     "name": "stdout",
     "output_type": "stream",
     "text": [
      "\u001b[0m\u001b[38;5;9mchr10.bed.gz\u001b[0m  \u001b[38;5;9mchr15.bed.gz\u001b[0m  \u001b[38;5;9mchr1.bed.gz\u001b[0m   \u001b[38;5;9mchr3.bed.gz\u001b[0m  \u001b[38;5;9mchr8.bed.gz\u001b[0m\n",
      "\u001b[38;5;9mchr11.bed.gz\u001b[0m  \u001b[38;5;9mchr16.bed.gz\u001b[0m  \u001b[38;5;9mchr20.bed.gz\u001b[0m  \u001b[38;5;9mchr4.bed.gz\u001b[0m  \u001b[38;5;9mchr9.bed.gz\u001b[0m\n",
      "\u001b[38;5;9mchr12.bed.gz\u001b[0m  \u001b[38;5;9mchr17.bed.gz\u001b[0m  \u001b[38;5;9mchr21.bed.gz\u001b[0m  \u001b[38;5;9mchr5.bed.gz\u001b[0m  \u001b[38;5;9mchrX.bed.gz\u001b[0m\n",
      "\u001b[38;5;9mchr13.bed.gz\u001b[0m  \u001b[38;5;9mchr18.bed.gz\u001b[0m  \u001b[38;5;9mchr22.bed.gz\u001b[0m  \u001b[38;5;9mchr6.bed.gz\u001b[0m  \u001b[38;5;9mchrY.bed.gz\u001b[0m\n",
      "\u001b[38;5;9mchr14.bed.gz\u001b[0m  \u001b[38;5;9mchr19.bed.gz\u001b[0m  \u001b[38;5;9mchr2.bed.gz\u001b[0m   \u001b[38;5;9mchr7.bed.gz\u001b[0m  \u001b[38;5;9mtarget_PER1.bed.gz\u001b[0m\n"
     ]
    }
   ],
   "source": [
    "ls ${FD_RES}/annotation_fragment/Input1_20x"
   ]
  },
  {
   "cell_type": "code",
   "execution_count": 2,
   "id": "99eb395b-7262-4cc9-a64c-83fc00089358",
   "metadata": {},
   "outputs": [
    {
     "name": "stdout",
     "output_type": "stream",
     "text": [
      "\u001b[0m\u001b[38;5;9m/gpfs/fs1/data/reddylab/Kuei/out/proj_combeffect/annotation_fragment/Input1_20x/chr17.bed.gz\u001b[0m\u001b[K\n"
     ]
    }
   ],
   "source": [
    "ls ${FD_RES}/annotation_fragment/Input1_20x/chr17.bed.gz"
   ]
  },
  {
   "cell_type": "code",
   "execution_count": 4,
   "id": "20512d7e-7ccb-4181-ad1d-4f71638d2807",
   "metadata": {},
   "outputs": [
    {
     "name": "stdout",
     "output_type": "stream",
     "text": [
      "chr17       107410      108464      1           chr17       107391      107414      TBX/4       8.2847      4\n",
      "chr17       107410      108464      1           chr17       107408      107426      ZNF250      2.3414      16\n",
      "chr17       107410      108464      1           chr17       107416      107435      ZNF143      8.6671      19\n",
      "chr17       107410      108464      1           chr17       107422      107452      GC-tract    11.2233     30\n",
      "chr17       107410      108464      1           chr17       107422      107432      GLI         7.9971      10\n",
      "\n",
      "gzip: stdout: Broken pipe\n"
     ]
    }
   ],
   "source": [
    "zcat ${FD_RES}/annotation_fragment/Input1_20x/chr17.bed.gz | head -5 | expand -t 12"
   ]
  },
  {
   "cell_type": "code",
   "execution_count": 5,
   "id": "c47a4f5b-d204-4fd1-8b34-dff5990a01c1",
   "metadata": {},
   "outputs": [
    {
     "name": "stdout",
     "output_type": "stream",
     "text": [
      "\n",
      "gzip: stdout: Broken pipe\n",
      "chr17       107410      108464      1           chr17       107391      107414      TBX/4       8.2847      4\n",
      "chr17       107410      108464      1           chr17       107416      107435      ZNF143      8.6671      19\n",
      "chr17       107410      108464      1           chr17       107422      107452      GC-tract    11.2233     30\n"
     ]
    }
   ],
   "source": [
    "zcat ${FD_RES}/annotation_fragment/Input1_20x/chr17.bed.gz |\\\n",
    "    head -5 |\\\n",
    "    awk '$9>8' |\\\n",
    "    expand -t 12"
   ]
  },
  {
   "cell_type": "code",
   "execution_count": null,
   "id": "e2d0c9de-6a99-46d1-a6a4-73e43ef6474b",
   "metadata": {},
   "outputs": [],
   "source": []
  },
  {
   "cell_type": "code",
   "execution_count": 14,
   "id": "26b6d856-bb05-4685-9233-13c2ded28633",
   "metadata": {},
   "outputs": [
    {
     "name": "stdout",
     "output_type": "stream",
     "text": [
      "Submitted batch job 26237332\n"
     ]
    }
   ],
   "source": [
    "source ../config_duke.sh\n",
    "\n",
    "sbatch -p ${NODE} \\\n",
    "    --array 0-23 \\\n",
    "    --mem 8G \\\n",
    "    -o ${FD_LOG}/filter_annotate_fragment_chrom_input20x.%a.txt \\\n",
    "    <<'EOF'\n",
    "#!/bin/bash\n",
    "### set directories & global variables\n",
    "source ../config_duke.sh\n",
    "CHROMS=($(seq 1 22) X Y)\n",
    "CHROM=chr${CHROMS[${SLURM_ARRAY_TASK_ID}]}\n",
    "TARGET=${CHROM}\n",
    "\n",
    "### set input and output\n",
    "FD_BEDS=($(ls -d ${FD_RES}/annotation_fragment/Input?_20x/))\n",
    "FN_BED=${TARGET}.bed.gz\n",
    "\n",
    "### print start message\n",
    "timer_start=`date +%s`\n",
    "echo \"Slurm Array Index: \" ${SLURM_ARRAY_TASK_ID}\n",
    "echo \"Time Stamp:        \" $(date +\"%m-%d-%y+%T\")\n",
    "echo\n",
    "\n",
    "### loop through each sample and count each fragment of a chromosome\n",
    "echo \"RUN: loop through samples; annotate fragment\"\n",
    "\n",
    "for FD_BED in ${FD_BEDS[@]}; do\n",
    "    SAMPLE=$(basename ${FD_BED})\n",
    "    FD_OUT=${FD_RES}/annotation_fragment/filter_motif_score095/${SAMPLE}\n",
    "    FN_OUT=${TARGET}.bed.gz\n",
    "    \n",
    "    ### START Message\n",
    "    echo ++++++++++++++++++++++++++++++++++++++++++++++++\n",
    "    echo \"Input  file: \" ${FD_BED}/${FN_BED}\n",
    "    echo \"Output file: \" ${FD_OUT}/${FN_OUT}\n",
    "    echo\n",
    "    echo \"Show the first few lines of the input file\"\n",
    "    echo ${FD_BED}/${FN_BED}\n",
    "    zcat ${FD_BED}/${FN_BED} | head -n 3\n",
    "    echo\n",
    "    \n",
    "    ### init: create output folder if not exist\n",
    "    mkdir -p ${FD_OUT}\n",
    "    \n",
    "    ### filteration\n",
    "    #zcat ${FD_BED}/${FN_BED} | head -10 | awk '$9>8' | gzip > ${FD_OUT}/${FN_OUT}\n",
    "    zcat ${FD_BED}/${FN_BED} | awk '$9>10.81' | gzip > ${FD_OUT}/${FN_OUT}\n",
    "    \n",
    "    ### END Message\n",
    "    echo \"Show the first few lines of the output file\"\n",
    "    echo ${FD_OUT}/${FN_OUT}\n",
    "    zcat ${FD_OUT}/${FN_OUT} | head -3\n",
    "    echo\n",
    "done\n",
    "\n",
    "### print end message\n",
    "timer=`date +%s`\n",
    "runtime=$(echo \"${timer} - ${timer_start}\" | bc -l)\n",
    "echo 'Done!'\n",
    "echo \"Run Time: $(displaytime ${runtime})\"\n",
    "\n",
    "EOF"
   ]
  },
  {
   "cell_type": "code",
   "execution_count": 15,
   "id": "08a89b10-493d-44c6-8a14-4f16bb3ca788",
   "metadata": {},
   "outputs": [
    {
     "name": "stdout",
     "output_type": "stream",
     "text": [
      "Slurm Array Index:  0\n",
      "Time Stamp:         10-02-21+14:56:02\n",
      "\n",
      "RUN: loop through samples; annotate fragment\n",
      "++++++++++++++++++++++++++++++++++++++++++++++++\n",
      "Input  file:  /gpfs/fs1/data/reddylab/Kuei/out/proj_combeffect/annotation_fragment/Input1_20x//chr1.bed.gz\n",
      "Output file:  /gpfs/fs1/data/reddylab/Kuei/out/proj_combeffect/annotation_fragment/filter_motif_score095/Input1_20x/chr1.bed.gz\n",
      "\n",
      "Show the first few lines of the input file\n",
      "/gpfs/fs1/data/reddylab/Kuei/out/proj_combeffect/annotation_fragment/Input1_20x//chr1.bed.gz\n",
      "chr1\t13802\t14757\t1\tchr1\t13790\t13810\tZNF335\t6.8996\t8\n",
      "chr1\t13802\t14757\t1\tchr1\t13792\t13806\tNR/3\t8.1207\t4\n",
      "chr1\t13802\t14757\t1\tchr1\t13794\t13814\tGC-tract\t6.2461\t12\n",
      "\n",
      "Show the first few lines of the output file\n",
      "/gpfs/fs1/data/reddylab/Kuei/out/proj_combeffect/annotation_fragment/filter_motif_score095/Input1_20x/chr1.bed.gz\n",
      "chr1\t13802\t14757\t1\tchr1\t13937\t13949\tINSM1\t11.5497\t12\n",
      "chr1\t13802\t14757\t1\tchr1\t13971\t13980\tAP1/1\t10.9638\t9\n",
      "chr1\t13802\t14757\t1\tchr1\t14035\t14050\tNFI/1\t13.4934\t15\n",
      "\n",
      "++++++++++++++++++++++++++++++++++++++++++++++++\n",
      "Input  file:  /gpfs/fs1/data/reddylab/Kuei/out/proj_combeffect/annotation_fragment/Input2_20x//chr1.bed.gz\n",
      "Output file:  /gpfs/fs1/data/reddylab/Kuei/out/proj_combeffect/annotation_fragment/filter_motif_score095/Input2_20x/chr1.bed.gz\n",
      "\n",
      "Show the first few lines of the input file\n",
      "/gpfs/fs1/data/reddylab/Kuei/out/proj_combeffect/annotation_fragment/Input2_20x//chr1.bed.gz\n",
      "chr1\t13616\t14780\t1\tchr1\t13610\t13617\tHIC/2\t7.8022\t1\n",
      "chr1\t13616\t14780\t1\tchr1\t13611\t13625\tRFX/1\t8.5771\t9\n",
      "chr1\t13616\t14780\t1\tchr1\t13616\t13633\tZNF708\t7.6174\t17\n",
      "\n",
      "Show the first few lines of the output file\n",
      "/gpfs/fs1/data/reddylab/Kuei/out/proj_combeffect/annotation_fragment/filter_motif_score095/Input2_20x/chr1.bed.gz\n",
      "chr1\t13616\t14780\t1\tchr1\t13626\t13651\tZNF354\t13.1557\t25\n",
      "chr1\t13616\t14780\t1\tchr1\t13751\t13764\tNFI/3\t13.204\t13\n",
      "chr1\t13616\t14780\t1\tchr1\t13937\t13949\tINSM1\t11.5497\t12\n",
      "\n",
      "++++++++++++++++++++++++++++++++++++++++++++++++\n",
      "Input  file:  /gpfs/fs1/data/reddylab/Kuei/out/proj_combeffect/annotation_fragment/Input3_20x//chr1.bed.gz\n",
      "Output file:  /gpfs/fs1/data/reddylab/Kuei/out/proj_combeffect/annotation_fragment/filter_motif_score095/Input3_20x/chr1.bed.gz\n",
      "\n",
      "Show the first few lines of the input file\n",
      "/gpfs/fs1/data/reddylab/Kuei/out/proj_combeffect/annotation_fragment/Input3_20x//chr1.bed.gz\n",
      "chr1\t13622\t14491\t1\tchr1\t13611\t13625\tRFX/1\t8.5771\t3\n",
      "chr1\t13622\t14491\t1\tchr1\t13616\t13633\tZNF708\t7.6174\t11\n",
      "chr1\t13622\t14491\t1\tchr1\t13626\t13651\tZNF354\t13.1557\t25\n",
      "\n",
      "Show the first few lines of the output file\n",
      "/gpfs/fs1/data/reddylab/Kuei/out/proj_combeffect/annotation_fragment/filter_motif_score095/Input3_20x/chr1.bed.gz\n",
      "chr1\t13622\t14491\t1\tchr1\t13626\t13651\tZNF354\t13.1557\t25\n",
      "chr1\t13622\t14491\t1\tchr1\t13751\t13764\tNFI/3\t13.204\t13\n",
      "chr1\t13622\t14491\t1\tchr1\t13937\t13949\tINSM1\t11.5497\t12\n",
      "\n",
      "++++++++++++++++++++++++++++++++++++++++++++++++\n",
      "Input  file:  /gpfs/fs1/data/reddylab/Kuei/out/proj_combeffect/annotation_fragment/Input4_20x//chr1.bed.gz\n",
      "Output file:  /gpfs/fs1/data/reddylab/Kuei/out/proj_combeffect/annotation_fragment/filter_motif_score095/Input4_20x/chr1.bed.gz\n",
      "\n",
      "Show the first few lines of the input file\n",
      "/gpfs/fs1/data/reddylab/Kuei/out/proj_combeffect/annotation_fragment/Input4_20x//chr1.bed.gz\n",
      "chr1\t13622\t14491\t1\tchr1\t13611\t13625\tRFX/1\t8.5771\t3\n",
      "chr1\t13622\t14491\t1\tchr1\t13616\t13633\tZNF708\t7.6174\t11\n",
      "chr1\t13622\t14491\t1\tchr1\t13626\t13651\tZNF354\t13.1557\t25\n",
      "\n"
     ]
    }
   ],
   "source": [
    "cat ${FD_LOG}/filter_annotate_fragment_chrom_input20x.0.txt"
   ]
  },
  {
   "cell_type": "code",
   "execution_count": 16,
   "id": "f416a608-ba3a-4eca-869c-5d84f4d1c8c3",
   "metadata": {},
   "outputs": [
    {
     "name": "stdout",
     "output_type": "stream",
     "text": [
      "\u001b[0m\u001b[38;5;27mfilter_motif_score095\u001b[0m  \u001b[38;5;27mInput3\u001b[0m      target_PER1_MA0099.3.bed  \u001b[38;5;27mTFX4_Dex\u001b[0m\n",
      "\u001b[38;5;27mInput\u001b[0m                  \u001b[38;5;27mInput3_20x\u001b[0m  target_PER1_MA0113.3.bed  \u001b[38;5;27mTFX4_DMSO\u001b[0m\n",
      "\u001b[38;5;27mInput1\u001b[0m                 \u001b[38;5;27mInput4\u001b[0m      \u001b[38;5;27mTFX2_Dex\u001b[0m                  \u001b[38;5;27mTFX5_Dex\u001b[0m\n",
      "\u001b[38;5;27mInput1_20x\u001b[0m             \u001b[38;5;27mInput4_20x\u001b[0m  \u001b[38;5;27mTFX2_DMSO\u001b[0m                 \u001b[38;5;27mTFX5_DMSO\u001b[0m\n",
      "\u001b[38;5;27mInput2\u001b[0m                 \u001b[38;5;27mInput5\u001b[0m      \u001b[38;5;27mTFX3_Dex\u001b[0m                  \u001b[38;5;27mTFX_Dex\u001b[0m\n",
      "\u001b[38;5;27mInput2_20x\u001b[0m             \u001b[38;5;27mInput5_20x\u001b[0m  \u001b[38;5;27mTFX3_DMSO\u001b[0m                 \u001b[38;5;27mTFX_DMSO\u001b[0m\n"
     ]
    }
   ],
   "source": [
    "ls ${FD_RES}/annotation_fragment"
   ]
  },
  {
   "cell_type": "code",
   "execution_count": 17,
   "id": "00244619-d719-4daa-8c21-fccffe745d02",
   "metadata": {},
   "outputs": [
    {
     "name": "stdout",
     "output_type": "stream",
     "text": [
      "\u001b[0m\u001b[38;5;27mInput1\u001b[0m      \u001b[38;5;27mInput2_20x\u001b[0m  \u001b[38;5;27mInput4\u001b[0m      \u001b[38;5;27mInput5_20x\u001b[0m  \u001b[38;5;27mTFX3_Dex\u001b[0m   \u001b[38;5;27mTFX4_DMSO\u001b[0m\n",
      "\u001b[38;5;27mInput1_20x\u001b[0m  \u001b[38;5;27mInput3\u001b[0m      \u001b[38;5;27mInput4_20x\u001b[0m  \u001b[38;5;27mTFX2_Dex\u001b[0m    \u001b[38;5;27mTFX3_DMSO\u001b[0m  \u001b[38;5;27mTFX5_Dex\u001b[0m\n",
      "\u001b[38;5;27mInput2\u001b[0m      \u001b[38;5;27mInput3_20x\u001b[0m  \u001b[38;5;27mInput5\u001b[0m      \u001b[38;5;27mTFX2_DMSO\u001b[0m   \u001b[38;5;27mTFX4_Dex\u001b[0m   \u001b[38;5;27mTFX5_DMSO\u001b[0m\n"
     ]
    }
   ],
   "source": [
    "ls ${FD_RES}/annotation_fragment/filter_motif_score095"
   ]
  },
  {
   "cell_type": "code",
   "execution_count": null,
   "id": "ca4b7e6b-6229-4f91-8900-29f8c1bfce0d",
   "metadata": {},
   "outputs": [],
   "source": []
  }
 ],
 "metadata": {
  "kernelspec": {
   "display_name": "Bash",
   "language": "bash",
   "name": "bash"
  },
  "language_info": {
   "codemirror_mode": "shell",
   "file_extension": ".sh",
   "mimetype": "text/x-sh",
   "name": "bash"
  }
 },
 "nbformat": 4,
 "nbformat_minor": 5
}
