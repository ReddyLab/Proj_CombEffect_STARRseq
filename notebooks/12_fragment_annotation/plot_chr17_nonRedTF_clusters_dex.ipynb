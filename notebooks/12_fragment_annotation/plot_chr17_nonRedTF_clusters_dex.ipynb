{
 "cells": [
  {
   "cell_type": "code",
   "execution_count": 1,
   "metadata": {},
   "outputs": [
    {
     "name": "stdout",
     "output_type": "stream",
     "text": [
      "You are on Duke Server: DCC\n",
      "BASE DIRECTORY:     /work/kk319 \n",
      "WORK DIRECTORY:     /work/kk319/out/CombEffect_STARR \n",
      "LOG  DIRECTORY:     /work/kk319/out/CombEffect_STARR/log \n",
      "PATH OF SOURCE:     /work/kk319/source \n",
      "PATH OF EXECUTABLE: /work/kk319/exe \n",
      "PATH OF ANNOTATION: /work/kk319/annotation \n"
     ]
    }
   ],
   "source": [
    "suppressMessages(suppressWarnings(source(\"config.R\")))"
   ]
  },
  {
   "cell_type": "code",
   "execution_count": 2,
   "metadata": {},
   "outputs": [
    {
     "data": {
      "text/html": [
       "<ol class=list-inline>\n",
       "\t<li>'/work/kk319/out/CombEffect_STARR/annotation_fragment/Input/'</li>\n",
       "\t<li>'/work/kk319/out/CombEffect_STARR/annotation_fragment/Input1/'</li>\n",
       "\t<li>'/work/kk319/out/CombEffect_STARR/annotation_fragment/Input2/'</li>\n",
       "\t<li>'/work/kk319/out/CombEffect_STARR/annotation_fragment/Input3/'</li>\n",
       "\t<li>'/work/kk319/out/CombEffect_STARR/annotation_fragment/Input4/'</li>\n",
       "\t<li>'/work/kk319/out/CombEffect_STARR/annotation_fragment/Input5/'</li>\n",
       "\t<li>'/work/kk319/out/CombEffect_STARR/annotation_fragment/TFX2_DMSO/'</li>\n",
       "\t<li>'/work/kk319/out/CombEffect_STARR/annotation_fragment/TFX2_Dex/'</li>\n",
       "\t<li>'/work/kk319/out/CombEffect_STARR/annotation_fragment/TFX3_DMSO/'</li>\n",
       "\t<li>'/work/kk319/out/CombEffect_STARR/annotation_fragment/TFX3_Dex/'</li>\n",
       "\t<li>'/work/kk319/out/CombEffect_STARR/annotation_fragment/TFX4_DMSO/'</li>\n",
       "\t<li>'/work/kk319/out/CombEffect_STARR/annotation_fragment/TFX4_Dex/'</li>\n",
       "\t<li>'/work/kk319/out/CombEffect_STARR/annotation_fragment/TFX5_DMSO/'</li>\n",
       "\t<li>'/work/kk319/out/CombEffect_STARR/annotation_fragment/TFX5_Dex/'</li>\n",
       "\t<li>'/work/kk319/out/CombEffect_STARR/annotation_fragment/TFX_DMSO/'</li>\n",
       "\t<li>'/work/kk319/out/CombEffect_STARR/annotation_fragment/TFX_Dex/'</li>\n",
       "</ol>\n"
      ],
      "text/latex": [
       "\\begin{enumerate*}\n",
       "\\item '/work/kk319/out/CombEffect\\_STARR/annotation\\_fragment/Input/'\n",
       "\\item '/work/kk319/out/CombEffect\\_STARR/annotation\\_fragment/Input1/'\n",
       "\\item '/work/kk319/out/CombEffect\\_STARR/annotation\\_fragment/Input2/'\n",
       "\\item '/work/kk319/out/CombEffect\\_STARR/annotation\\_fragment/Input3/'\n",
       "\\item '/work/kk319/out/CombEffect\\_STARR/annotation\\_fragment/Input4/'\n",
       "\\item '/work/kk319/out/CombEffect\\_STARR/annotation\\_fragment/Input5/'\n",
       "\\item '/work/kk319/out/CombEffect\\_STARR/annotation\\_fragment/TFX2\\_DMSO/'\n",
       "\\item '/work/kk319/out/CombEffect\\_STARR/annotation\\_fragment/TFX2\\_Dex/'\n",
       "\\item '/work/kk319/out/CombEffect\\_STARR/annotation\\_fragment/TFX3\\_DMSO/'\n",
       "\\item '/work/kk319/out/CombEffect\\_STARR/annotation\\_fragment/TFX3\\_Dex/'\n",
       "\\item '/work/kk319/out/CombEffect\\_STARR/annotation\\_fragment/TFX4\\_DMSO/'\n",
       "\\item '/work/kk319/out/CombEffect\\_STARR/annotation\\_fragment/TFX4\\_Dex/'\n",
       "\\item '/work/kk319/out/CombEffect\\_STARR/annotation\\_fragment/TFX5\\_DMSO/'\n",
       "\\item '/work/kk319/out/CombEffect\\_STARR/annotation\\_fragment/TFX5\\_Dex/'\n",
       "\\item '/work/kk319/out/CombEffect\\_STARR/annotation\\_fragment/TFX\\_DMSO/'\n",
       "\\item '/work/kk319/out/CombEffect\\_STARR/annotation\\_fragment/TFX\\_Dex/'\n",
       "\\end{enumerate*}\n"
      ],
      "text/markdown": [
       "1. '/work/kk319/out/CombEffect_STARR/annotation_fragment/Input/'\n",
       "2. '/work/kk319/out/CombEffect_STARR/annotation_fragment/Input1/'\n",
       "3. '/work/kk319/out/CombEffect_STARR/annotation_fragment/Input2/'\n",
       "4. '/work/kk319/out/CombEffect_STARR/annotation_fragment/Input3/'\n",
       "5. '/work/kk319/out/CombEffect_STARR/annotation_fragment/Input4/'\n",
       "6. '/work/kk319/out/CombEffect_STARR/annotation_fragment/Input5/'\n",
       "7. '/work/kk319/out/CombEffect_STARR/annotation_fragment/TFX2_DMSO/'\n",
       "8. '/work/kk319/out/CombEffect_STARR/annotation_fragment/TFX2_Dex/'\n",
       "9. '/work/kk319/out/CombEffect_STARR/annotation_fragment/TFX3_DMSO/'\n",
       "10. '/work/kk319/out/CombEffect_STARR/annotation_fragment/TFX3_Dex/'\n",
       "11. '/work/kk319/out/CombEffect_STARR/annotation_fragment/TFX4_DMSO/'\n",
       "12. '/work/kk319/out/CombEffect_STARR/annotation_fragment/TFX4_Dex/'\n",
       "13. '/work/kk319/out/CombEffect_STARR/annotation_fragment/TFX5_DMSO/'\n",
       "14. '/work/kk319/out/CombEffect_STARR/annotation_fragment/TFX5_Dex/'\n",
       "15. '/work/kk319/out/CombEffect_STARR/annotation_fragment/TFX_DMSO/'\n",
       "16. '/work/kk319/out/CombEffect_STARR/annotation_fragment/TFX_Dex/'\n",
       "\n",
       "\n"
      ],
      "text/plain": [
       " [1] \"/work/kk319/out/CombEffect_STARR/annotation_fragment/Input/\"    \n",
       " [2] \"/work/kk319/out/CombEffect_STARR/annotation_fragment/Input1/\"   \n",
       " [3] \"/work/kk319/out/CombEffect_STARR/annotation_fragment/Input2/\"   \n",
       " [4] \"/work/kk319/out/CombEffect_STARR/annotation_fragment/Input3/\"   \n",
       " [5] \"/work/kk319/out/CombEffect_STARR/annotation_fragment/Input4/\"   \n",
       " [6] \"/work/kk319/out/CombEffect_STARR/annotation_fragment/Input5/\"   \n",
       " [7] \"/work/kk319/out/CombEffect_STARR/annotation_fragment/TFX2_DMSO/\"\n",
       " [8] \"/work/kk319/out/CombEffect_STARR/annotation_fragment/TFX2_Dex/\" \n",
       " [9] \"/work/kk319/out/CombEffect_STARR/annotation_fragment/TFX3_DMSO/\"\n",
       "[10] \"/work/kk319/out/CombEffect_STARR/annotation_fragment/TFX3_Dex/\" \n",
       "[11] \"/work/kk319/out/CombEffect_STARR/annotation_fragment/TFX4_DMSO/\"\n",
       "[12] \"/work/kk319/out/CombEffect_STARR/annotation_fragment/TFX4_Dex/\" \n",
       "[13] \"/work/kk319/out/CombEffect_STARR/annotation_fragment/TFX5_DMSO/\"\n",
       "[14] \"/work/kk319/out/CombEffect_STARR/annotation_fragment/TFX5_Dex/\" \n",
       "[15] \"/work/kk319/out/CombEffect_STARR/annotation_fragment/TFX_DMSO/\" \n",
       "[16] \"/work/kk319/out/CombEffect_STARR/annotation_fragment/TFX_Dex/\"  "
      ]
     },
     "metadata": {},
     "output_type": "display_data"
    }
   ],
   "source": [
    "FD_DAT = file.path(FD_WRK, \"annotation_fragment\")\n",
    "system(paste0(\"ls -d \", FD_DAT, \"/*/\"), intern=TRUE)"
   ]
  },
  {
   "cell_type": "code",
   "execution_count": 4,
   "metadata": {},
   "outputs": [
    {
     "data": {
      "text/html": [
       "<ol class=list-inline>\n",
       "\t<li>'-rw-r--r--. 1 kk319 root 19G Jul 19 01:12 /work/kk319/out/CombEffect_STARR/annotation_fragment/TFX2_Dex/chr17.bed'</li>\n",
       "\t<li>'-rw-r--r--. 1 kk319 root 12G Jul 19 01:25 /work/kk319/out/CombEffect_STARR/annotation_fragment/TFX3_Dex/chr17.bed'</li>\n",
       "\t<li>'-rw-r--r--. 1 kk319 root 16G Jul 19 01:41 /work/kk319/out/CombEffect_STARR/annotation_fragment/TFX4_Dex/chr17.bed'</li>\n",
       "\t<li>'-rw-r--r--. 1 kk319 root 19G Jul 19 01:58 /work/kk319/out/CombEffect_STARR/annotation_fragment/TFX5_Dex/chr17.bed'</li>\n",
       "\t<li>'-rw-r--r--. 1 kk319 root 59G Jul 19 02:55 /work/kk319/out/CombEffect_STARR/annotation_fragment/TFX_Dex/chr17.bed'</li>\n",
       "</ol>\n"
      ],
      "text/latex": [
       "\\begin{enumerate*}\n",
       "\\item '-rw-r--r--. 1 kk319 root 19G Jul 19 01:12 /work/kk319/out/CombEffect\\_STARR/annotation\\_fragment/TFX2\\_Dex/chr17.bed'\n",
       "\\item '-rw-r--r--. 1 kk319 root 12G Jul 19 01:25 /work/kk319/out/CombEffect\\_STARR/annotation\\_fragment/TFX3\\_Dex/chr17.bed'\n",
       "\\item '-rw-r--r--. 1 kk319 root 16G Jul 19 01:41 /work/kk319/out/CombEffect\\_STARR/annotation\\_fragment/TFX4\\_Dex/chr17.bed'\n",
       "\\item '-rw-r--r--. 1 kk319 root 19G Jul 19 01:58 /work/kk319/out/CombEffect\\_STARR/annotation\\_fragment/TFX5\\_Dex/chr17.bed'\n",
       "\\item '-rw-r--r--. 1 kk319 root 59G Jul 19 02:55 /work/kk319/out/CombEffect\\_STARR/annotation\\_fragment/TFX\\_Dex/chr17.bed'\n",
       "\\end{enumerate*}\n"
      ],
      "text/markdown": [
       "1. '-rw-r--r--. 1 kk319 root 19G Jul 19 01:12 /work/kk319/out/CombEffect_STARR/annotation_fragment/TFX2_Dex/chr17.bed'\n",
       "2. '-rw-r--r--. 1 kk319 root 12G Jul 19 01:25 /work/kk319/out/CombEffect_STARR/annotation_fragment/TFX3_Dex/chr17.bed'\n",
       "3. '-rw-r--r--. 1 kk319 root 16G Jul 19 01:41 /work/kk319/out/CombEffect_STARR/annotation_fragment/TFX4_Dex/chr17.bed'\n",
       "4. '-rw-r--r--. 1 kk319 root 19G Jul 19 01:58 /work/kk319/out/CombEffect_STARR/annotation_fragment/TFX5_Dex/chr17.bed'\n",
       "5. '-rw-r--r--. 1 kk319 root 59G Jul 19 02:55 /work/kk319/out/CombEffect_STARR/annotation_fragment/TFX_Dex/chr17.bed'\n",
       "\n",
       "\n"
      ],
      "text/plain": [
       "[1] \"-rw-r--r--. 1 kk319 root 19G Jul 19 01:12 /work/kk319/out/CombEffect_STARR/annotation_fragment/TFX2_Dex/chr17.bed\"\n",
       "[2] \"-rw-r--r--. 1 kk319 root 12G Jul 19 01:25 /work/kk319/out/CombEffect_STARR/annotation_fragment/TFX3_Dex/chr17.bed\"\n",
       "[3] \"-rw-r--r--. 1 kk319 root 16G Jul 19 01:41 /work/kk319/out/CombEffect_STARR/annotation_fragment/TFX4_Dex/chr17.bed\"\n",
       "[4] \"-rw-r--r--. 1 kk319 root 19G Jul 19 01:58 /work/kk319/out/CombEffect_STARR/annotation_fragment/TFX5_Dex/chr17.bed\"\n",
       "[5] \"-rw-r--r--. 1 kk319 root 59G Jul 19 02:55 /work/kk319/out/CombEffect_STARR/annotation_fragment/TFX_Dex/chr17.bed\" "
      ]
     },
     "metadata": {},
     "output_type": "display_data"
    }
   ],
   "source": [
    "FD_DAT = file.path(FD_WRK, \"annotation_fragment\")\n",
    "system(paste0(\"ls -lh \", FD_DAT, \"/*Dex/chr17.bed\"), intern=TRUE)"
   ]
  },
  {
   "cell_type": "code",
   "execution_count": 3,
   "metadata": {},
   "outputs": [
    {
     "data": {
      "text/html": [
       "<ol class=list-inline>\n",
       "\t<li>'Input1'</li>\n",
       "\t<li>'Input2'</li>\n",
       "\t<li>'Input3'</li>\n",
       "\t<li>'Input4'</li>\n",
       "\t<li>'Input5'</li>\n",
       "\t<li>'TFX2_DMSO'</li>\n",
       "\t<li>'TFX3_DMSO'</li>\n",
       "\t<li>'TFX4_DMSO'</li>\n",
       "\t<li>'TFX5_DMSO'</li>\n",
       "\t<li>'TFX2_Dex'</li>\n",
       "\t<li>'TFX3_Dex'</li>\n",
       "\t<li>'TFX4_Dex'</li>\n",
       "\t<li>'TFX5_Dex'</li>\n",
       "</ol>\n"
      ],
      "text/latex": [
       "\\begin{enumerate*}\n",
       "\\item 'Input1'\n",
       "\\item 'Input2'\n",
       "\\item 'Input3'\n",
       "\\item 'Input4'\n",
       "\\item 'Input5'\n",
       "\\item 'TFX2\\_DMSO'\n",
       "\\item 'TFX3\\_DMSO'\n",
       "\\item 'TFX4\\_DMSO'\n",
       "\\item 'TFX5\\_DMSO'\n",
       "\\item 'TFX2\\_Dex'\n",
       "\\item 'TFX3\\_Dex'\n",
       "\\item 'TFX4\\_Dex'\n",
       "\\item 'TFX5\\_Dex'\n",
       "\\end{enumerate*}\n"
      ],
      "text/markdown": [
       "1. 'Input1'\n",
       "2. 'Input2'\n",
       "3. 'Input3'\n",
       "4. 'Input4'\n",
       "5. 'Input5'\n",
       "6. 'TFX2_DMSO'\n",
       "7. 'TFX3_DMSO'\n",
       "8. 'TFX4_DMSO'\n",
       "9. 'TFX5_DMSO'\n",
       "10. 'TFX2_Dex'\n",
       "11. 'TFX3_Dex'\n",
       "12. 'TFX4_Dex'\n",
       "13. 'TFX5_Dex'\n",
       "\n",
       "\n"
      ],
      "text/plain": [
       " [1] \"Input1\"    \"Input2\"    \"Input3\"    \"Input4\"    \"Input5\"    \"TFX2_DMSO\"\n",
       " [7] \"TFX3_DMSO\" \"TFX4_DMSO\" \"TFX5_DMSO\" \"TFX2_Dex\"  \"TFX3_Dex\"  \"TFX4_Dex\" \n",
       "[13] \"TFX5_Dex\" "
      ]
     },
     "metadata": {},
     "output_type": "display_data"
    }
   ],
   "source": [
    "idn_samples = c(\n",
    "    paste0(\"Input\", 1:5),\n",
    "    paste0(\"TFX\", 2:5, \"_DMSO\"),\n",
    "    paste0(\"TFX\", 2:5, \"_Dex\"))\n",
    "idn_samples"
   ]
  },
  {
   "cell_type": "code",
   "execution_count": 6,
   "metadata": {},
   "outputs": [],
   "source": [
    "ctypes = c(col_character(), col_integer(), col_integer(), col_integer(),\n",
    "           col_character(), col_integer(), col_integer(), col_character(),\n",
    "           col_double(), col_integer())\n",
    "cnames = c(\"Chrom_Frag\",  \"Start_Frag\",  \"End_Frag\",  \"Count_Frag\", \n",
    "           \"Chrom_Motif\", \"Start_Motif\", \"End_Motif\", \"Motif\", \"Score\", \n",
    "           \"Overlap\")\n",
    "\n",
    "fpath = \"/work/kk319/out/CombEffect_STARR/annotation_fragment/TFX2_Dex/chr17.bed\"\n",
    "dat   = read_tsv(fpath, col_types=ctypes, col_names=cnames)"
   ]
  },
  {
   "cell_type": "code",
   "execution_count": null,
   "metadata": {},
   "outputs": [],
   "source": [
    "head(dat)"
   ]
  },
  {
   "cell_type": "code",
   "execution_count": null,
   "metadata": {},
   "outputs": [],
   "source": []
  },
  {
   "cell_type": "code",
   "execution_count": null,
   "metadata": {},
   "outputs": [],
   "source": []
  },
  {
   "cell_type": "code",
   "execution_count": null,
   "metadata": {},
   "outputs": [],
   "source": []
  },
  {
   "cell_type": "code",
   "execution_count": null,
   "metadata": {},
   "outputs": [],
   "source": []
  },
  {
   "cell_type": "code",
   "execution_count": null,
   "metadata": {},
   "outputs": [],
   "source": []
  },
  {
   "cell_type": "code",
   "execution_count": null,
   "metadata": {},
   "outputs": [],
   "source": []
  },
  {
   "cell_type": "code",
   "execution_count": 5,
   "metadata": {},
   "outputs": [
    {
     "name": "stdout",
     "output_type": "stream",
     "text": [
      "[1] \"/work/kk319/out/CombEffect_STARR/annotation_fragment/TFX2_Dex/target_PER1_NR_20.bed\"\n"
     ]
    }
   ],
   "source": [
    "ctypes = c(col_character(), col_integer(), col_integer(), col_integer(),\n",
    "           col_character(), col_integer(), col_integer(), col_character(),\n",
    "           col_double(), col_integer())\n",
    "cnames = c(\"Chrom_Frag\",  \"Start_Frag\",  \"End_Frag\",  \"Count_Frag\", \n",
    "           \"Chrom_Motif\", \"Start_Motif\", \"End_Motif\", \"Motif\", \"Score\", \n",
    "           \"Overlap\")\n",
    "\n",
    "target = \"target_PER1\"\n",
    "motif  = \"NR_20\"\n",
    "\n",
    "idn_sample = \"TFX2_Dex\"\n",
    "fdiry = file.path(FD_DAT, idn_sample)\n",
    "fname = paste0(target, \"_\", motif, \".bed\")\n",
    "fpath = file.path(fdiry, fname)\n",
    "print(fpath)\n",
    "dat   = read_tsv(fpath, col_types=ctypes, col_names=cnames)"
   ]
  },
  {
   "cell_type": "code",
   "execution_count": 5,
   "metadata": {},
   "outputs": [
    {
     "data": {
      "text/html": [
       "<table>\n",
       "<thead><tr><th scope=col>Chrom_Frag</th><th scope=col>Start_Frag</th><th scope=col>End_Frag</th><th scope=col>Count_Frag</th><th scope=col>Chrom_Motif</th><th scope=col>Start_Motif</th><th scope=col>End_Motif</th><th scope=col>Motif</th><th scope=col>Score</th><th scope=col>Overlap</th></tr></thead>\n",
       "<tbody>\n",
       "\t<tr><td>chr17  </td><td>8149351</td><td>8150361</td><td>1      </td><td>chr17  </td><td>8150232</td><td>8150246</td><td>NR/20  </td><td>8.3256 </td><td>14     </td></tr>\n",
       "\t<tr><td>chr17  </td><td>8149418</td><td>8150427</td><td>1      </td><td>chr17  </td><td>8150232</td><td>8150246</td><td>NR/20  </td><td>8.3256 </td><td>14     </td></tr>\n",
       "\t<tr><td>chr17  </td><td>8149468</td><td>8150589</td><td>1      </td><td>chr17  </td><td>8150232</td><td>8150246</td><td>NR/20  </td><td>8.3256 </td><td>14     </td></tr>\n",
       "\t<tr><td>chr17  </td><td>8149606</td><td>8150634</td><td>1      </td><td>chr17  </td><td>8150232</td><td>8150246</td><td>NR/20  </td><td>8.3256 </td><td>14     </td></tr>\n",
       "\t<tr><td>chr17  </td><td>8149661</td><td>8150552</td><td>1      </td><td>chr17  </td><td>8150232</td><td>8150246</td><td>NR/20  </td><td>8.3256 </td><td>14     </td></tr>\n",
       "\t<tr><td>chr17  </td><td>8149759</td><td>8150629</td><td>1      </td><td>chr17  </td><td>8150232</td><td>8150246</td><td>NR/20  </td><td>8.3256 </td><td>14     </td></tr>\n",
       "</tbody>\n",
       "</table>\n"
      ],
      "text/latex": [
       "\\begin{tabular}{r|llllllllll}\n",
       " Chrom\\_Frag & Start\\_Frag & End\\_Frag & Count\\_Frag & Chrom\\_Motif & Start\\_Motif & End\\_Motif & Motif & Score & Overlap\\\\\n",
       "\\hline\n",
       "\t chr17   & 8149351 & 8150361 & 1       & chr17   & 8150232 & 8150246 & NR/20   & 8.3256  & 14     \\\\\n",
       "\t chr17   & 8149418 & 8150427 & 1       & chr17   & 8150232 & 8150246 & NR/20   & 8.3256  & 14     \\\\\n",
       "\t chr17   & 8149468 & 8150589 & 1       & chr17   & 8150232 & 8150246 & NR/20   & 8.3256  & 14     \\\\\n",
       "\t chr17   & 8149606 & 8150634 & 1       & chr17   & 8150232 & 8150246 & NR/20   & 8.3256  & 14     \\\\\n",
       "\t chr17   & 8149661 & 8150552 & 1       & chr17   & 8150232 & 8150246 & NR/20   & 8.3256  & 14     \\\\\n",
       "\t chr17   & 8149759 & 8150629 & 1       & chr17   & 8150232 & 8150246 & NR/20   & 8.3256  & 14     \\\\\n",
       "\\end{tabular}\n"
      ],
      "text/markdown": [
       "\n",
       "| Chrom_Frag | Start_Frag | End_Frag | Count_Frag | Chrom_Motif | Start_Motif | End_Motif | Motif | Score | Overlap |\n",
       "|---|---|---|---|---|---|---|---|---|---|\n",
       "| chr17   | 8149351 | 8150361 | 1       | chr17   | 8150232 | 8150246 | NR/20   | 8.3256  | 14      |\n",
       "| chr17   | 8149418 | 8150427 | 1       | chr17   | 8150232 | 8150246 | NR/20   | 8.3256  | 14      |\n",
       "| chr17   | 8149468 | 8150589 | 1       | chr17   | 8150232 | 8150246 | NR/20   | 8.3256  | 14      |\n",
       "| chr17   | 8149606 | 8150634 | 1       | chr17   | 8150232 | 8150246 | NR/20   | 8.3256  | 14      |\n",
       "| chr17   | 8149661 | 8150552 | 1       | chr17   | 8150232 | 8150246 | NR/20   | 8.3256  | 14      |\n",
       "| chr17   | 8149759 | 8150629 | 1       | chr17   | 8150232 | 8150246 | NR/20   | 8.3256  | 14      |\n",
       "\n"
      ],
      "text/plain": [
       "  Chrom_Frag Start_Frag End_Frag Count_Frag Chrom_Motif Start_Motif End_Motif\n",
       "1 chr17      8149351    8150361  1          chr17       8150232     8150246  \n",
       "2 chr17      8149418    8150427  1          chr17       8150232     8150246  \n",
       "3 chr17      8149468    8150589  1          chr17       8150232     8150246  \n",
       "4 chr17      8149606    8150634  1          chr17       8150232     8150246  \n",
       "5 chr17      8149661    8150552  1          chr17       8150232     8150246  \n",
       "6 chr17      8149759    8150629  1          chr17       8150232     8150246  \n",
       "  Motif Score  Overlap\n",
       "1 NR/20 8.3256 14     \n",
       "2 NR/20 8.3256 14     \n",
       "3 NR/20 8.3256 14     \n",
       "4 NR/20 8.3256 14     \n",
       "5 NR/20 8.3256 14     \n",
       "6 NR/20 8.3256 14     "
      ]
     },
     "metadata": {},
     "output_type": "display_data"
    }
   ],
   "source": [
    "head(dat)"
   ]
  },
  {
   "cell_type": "markdown",
   "metadata": {},
   "source": [
    "```\n",
    "#1_usercol      2_usercol       3_usercol       4_usercol       5_usercol       6_usercol       7_usercol       8_usercol       9_usercol       10_usercol      11_pct_at\n",
    "12_pct_gc       13_num_A        14_num_C        15_num_G        16_num_T        17_num_N        18_num_oth      19_seq_len\n",
    "```"
   ]
  },
  {
   "cell_type": "code",
   "execution_count": 7,
   "metadata": {},
   "outputs": [],
   "source": [
    "ctypes_nuc = c(\n",
    "    col_double(), col_double(),\n",
    "    rep(col_integer(), 6),\n",
    "    col_integer())\n",
    "cnames_nuc = c(\n",
    "    \"Pct_AT\", \"Pct_GC\", \n",
    "    \"Num_A\", \"Num_C\", \"Num_G\", \"Num_T\", \"Num_N\", \"Num_O\", \n",
    "    \"Len\")"
   ]
  },
  {
   "cell_type": "code",
   "execution_count": 12,
   "metadata": {},
   "outputs": [
    {
     "name": "stdout",
     "output_type": "stream",
     "text": [
      "[1] \"/work/kk319/out/CombEffect_STARR/annotation_fragment/Input1/target_PER1_NR_20_nuc.bed\"\n"
     ]
    }
   ],
   "source": [
    "ctypes = c(col_character(), col_integer(), col_integer(), col_integer(),\n",
    "           col_character(), col_integer(), col_integer(), col_character(),\n",
    "           col_double(), col_integer(), \n",
    "           ctypes_nuc)\n",
    "cnames = c(\"Chrom_Frag\",  \"Start_Frag\",  \"End_Frag\",  \"Count_Frag\", \n",
    "           \"Chrom_Motif\", \"Start_Motif\", \"End_Motif\", \"Motif\", \"Score\", \n",
    "           \"Overlap\",\n",
    "           cnames_nuc)\n",
    "\n",
    "target = \"target_PER1\"\n",
    "motif  = \"NR_20\"\n",
    "\n",
    "idn_sample = \"Input1\"\n",
    "fdiry = file.path(FD_DAT, idn_sample)\n",
    "fname = paste0(target, \"_\", motif, \"_nuc.bed\")\n",
    "fpath = file.path(fdiry, fname)\n",
    "print(fpath)\n",
    "dat_nuc = read_tsv(fpath, col_types=ctypes, col_names=cnames, comment = \"#\")"
   ]
  },
  {
   "cell_type": "code",
   "execution_count": 13,
   "metadata": {},
   "outputs": [
    {
     "data": {
      "text/html": [
       "<table>\n",
       "<thead><tr><th scope=col>Chrom_Frag</th><th scope=col>Start_Frag</th><th scope=col>End_Frag</th><th scope=col>Count_Frag</th><th scope=col>Chrom_Motif</th><th scope=col>Start_Motif</th><th scope=col>End_Motif</th><th scope=col>Motif</th><th scope=col>Score</th><th scope=col>Overlap</th><th scope=col>Pct_AT</th><th scope=col>Pct_GC</th><th scope=col>Num_A</th><th scope=col>Num_C</th><th scope=col>Num_G</th><th scope=col>Num_T</th><th scope=col>Num_N</th><th scope=col>Num_O</th><th scope=col>Len</th></tr></thead>\n",
       "<tbody>\n",
       "\t<tr><td>chr17   </td><td>8149351 </td><td>8150361 </td><td>1       </td><td>chr17   </td><td>8150232 </td><td>8150246 </td><td>NR/20   </td><td>8.3256  </td><td>14      </td><td>0.387129</td><td>0.612871</td><td>207     </td><td>291     </td><td>328     </td><td>184     </td><td>0       </td><td>0       </td><td>1010    </td></tr>\n",
       "\t<tr><td>chr17   </td><td>8149418 </td><td>8150427 </td><td>1       </td><td>chr17   </td><td>8150232 </td><td>8150246 </td><td>NR/20   </td><td>8.3256  </td><td>14      </td><td>0.387512</td><td>0.612488</td><td>209     </td><td>298     </td><td>320     </td><td>182     </td><td>0       </td><td>0       </td><td>1009    </td></tr>\n",
       "\t<tr><td>chr17   </td><td>8149468 </td><td>8150589 </td><td>1       </td><td>chr17   </td><td>8150232 </td><td>8150246 </td><td>NR/20   </td><td>8.3256  </td><td>14      </td><td>0.393399</td><td>0.606601</td><td>226     </td><td>325     </td><td>355     </td><td>215     </td><td>0       </td><td>0       </td><td>1121    </td></tr>\n",
       "\t<tr><td>chr17   </td><td>8149606 </td><td>8150634 </td><td>1       </td><td>chr17   </td><td>8150232 </td><td>8150246 </td><td>NR/20   </td><td>8.3256  </td><td>14      </td><td>0.392996</td><td>0.607004</td><td>200     </td><td>292     </td><td>332     </td><td>204     </td><td>0       </td><td>0       </td><td>1028    </td></tr>\n",
       "\t<tr><td>chr17   </td><td>8149661 </td><td>8150552 </td><td>1       </td><td>chr17   </td><td>8150232 </td><td>8150246 </td><td>NR/20   </td><td>8.3256  </td><td>14      </td><td>0.396184</td><td>0.603816</td><td>172     </td><td>259     </td><td>279     </td><td>181     </td><td>0       </td><td>0       </td><td> 891    </td></tr>\n",
       "\t<tr><td>chr17   </td><td>8149759 </td><td>8150629 </td><td>1       </td><td>chr17   </td><td>8150232 </td><td>8150246 </td><td>NR/20   </td><td>8.3256  </td><td>14      </td><td>0.394253</td><td>0.605747</td><td>160     </td><td>259     </td><td>268     </td><td>183     </td><td>0       </td><td>0       </td><td> 870    </td></tr>\n",
       "</tbody>\n",
       "</table>\n"
      ],
      "text/latex": [
       "\\begin{tabular}{r|lllllllllllllllllll}\n",
       " Chrom\\_Frag & Start\\_Frag & End\\_Frag & Count\\_Frag & Chrom\\_Motif & Start\\_Motif & End\\_Motif & Motif & Score & Overlap & Pct\\_AT & Pct\\_GC & Num\\_A & Num\\_C & Num\\_G & Num\\_T & Num\\_N & Num\\_O & Len\\\\\n",
       "\\hline\n",
       "\t chr17    & 8149351  & 8150361  & 1        & chr17    & 8150232  & 8150246  & NR/20    & 8.3256   & 14       & 0.387129 & 0.612871 & 207      & 291      & 328      & 184      & 0        & 0        & 1010    \\\\\n",
       "\t chr17    & 8149418  & 8150427  & 1        & chr17    & 8150232  & 8150246  & NR/20    & 8.3256   & 14       & 0.387512 & 0.612488 & 209      & 298      & 320      & 182      & 0        & 0        & 1009    \\\\\n",
       "\t chr17    & 8149468  & 8150589  & 1        & chr17    & 8150232  & 8150246  & NR/20    & 8.3256   & 14       & 0.393399 & 0.606601 & 226      & 325      & 355      & 215      & 0        & 0        & 1121    \\\\\n",
       "\t chr17    & 8149606  & 8150634  & 1        & chr17    & 8150232  & 8150246  & NR/20    & 8.3256   & 14       & 0.392996 & 0.607004 & 200      & 292      & 332      & 204      & 0        & 0        & 1028    \\\\\n",
       "\t chr17    & 8149661  & 8150552  & 1        & chr17    & 8150232  & 8150246  & NR/20    & 8.3256   & 14       & 0.396184 & 0.603816 & 172      & 259      & 279      & 181      & 0        & 0        &  891    \\\\\n",
       "\t chr17    & 8149759  & 8150629  & 1        & chr17    & 8150232  & 8150246  & NR/20    & 8.3256   & 14       & 0.394253 & 0.605747 & 160      & 259      & 268      & 183      & 0        & 0        &  870    \\\\\n",
       "\\end{tabular}\n"
      ],
      "text/markdown": [
       "\n",
       "| Chrom_Frag | Start_Frag | End_Frag | Count_Frag | Chrom_Motif | Start_Motif | End_Motif | Motif | Score | Overlap | Pct_AT | Pct_GC | Num_A | Num_C | Num_G | Num_T | Num_N | Num_O | Len |\n",
       "|---|---|---|---|---|---|---|---|---|---|---|---|---|---|---|---|---|---|---|\n",
       "| chr17    | 8149351  | 8150361  | 1        | chr17    | 8150232  | 8150246  | NR/20    | 8.3256   | 14       | 0.387129 | 0.612871 | 207      | 291      | 328      | 184      | 0        | 0        | 1010     |\n",
       "| chr17    | 8149418  | 8150427  | 1        | chr17    | 8150232  | 8150246  | NR/20    | 8.3256   | 14       | 0.387512 | 0.612488 | 209      | 298      | 320      | 182      | 0        | 0        | 1009     |\n",
       "| chr17    | 8149468  | 8150589  | 1        | chr17    | 8150232  | 8150246  | NR/20    | 8.3256   | 14       | 0.393399 | 0.606601 | 226      | 325      | 355      | 215      | 0        | 0        | 1121     |\n",
       "| chr17    | 8149606  | 8150634  | 1        | chr17    | 8150232  | 8150246  | NR/20    | 8.3256   | 14       | 0.392996 | 0.607004 | 200      | 292      | 332      | 204      | 0        | 0        | 1028     |\n",
       "| chr17    | 8149661  | 8150552  | 1        | chr17    | 8150232  | 8150246  | NR/20    | 8.3256   | 14       | 0.396184 | 0.603816 | 172      | 259      | 279      | 181      | 0        | 0        |  891     |\n",
       "| chr17    | 8149759  | 8150629  | 1        | chr17    | 8150232  | 8150246  | NR/20    | 8.3256   | 14       | 0.394253 | 0.605747 | 160      | 259      | 268      | 183      | 0        | 0        |  870     |\n",
       "\n"
      ],
      "text/plain": [
       "  Chrom_Frag Start_Frag End_Frag Count_Frag Chrom_Motif Start_Motif End_Motif\n",
       "1 chr17      8149351    8150361  1          chr17       8150232     8150246  \n",
       "2 chr17      8149418    8150427  1          chr17       8150232     8150246  \n",
       "3 chr17      8149468    8150589  1          chr17       8150232     8150246  \n",
       "4 chr17      8149606    8150634  1          chr17       8150232     8150246  \n",
       "5 chr17      8149661    8150552  1          chr17       8150232     8150246  \n",
       "6 chr17      8149759    8150629  1          chr17       8150232     8150246  \n",
       "  Motif Score  Overlap Pct_AT   Pct_GC   Num_A Num_C Num_G Num_T Num_N Num_O\n",
       "1 NR/20 8.3256 14      0.387129 0.612871 207   291   328   184   0     0    \n",
       "2 NR/20 8.3256 14      0.387512 0.612488 209   298   320   182   0     0    \n",
       "3 NR/20 8.3256 14      0.393399 0.606601 226   325   355   215   0     0    \n",
       "4 NR/20 8.3256 14      0.392996 0.607004 200   292   332   204   0     0    \n",
       "5 NR/20 8.3256 14      0.396184 0.603816 172   259   279   181   0     0    \n",
       "6 NR/20 8.3256 14      0.394253 0.605747 160   259   268   183   0     0    \n",
       "  Len \n",
       "1 1010\n",
       "2 1009\n",
       "3 1121\n",
       "4 1028\n",
       "5  891\n",
       "6  870"
      ]
     },
     "metadata": {},
     "output_type": "display_data"
    }
   ],
   "source": [
    "head(dat_nuc)"
   ]
  },
  {
   "cell_type": "markdown",
   "metadata": {},
   "source": [
    "## Count"
   ]
  },
  {
   "cell_type": "code",
   "execution_count": 16,
   "metadata": {},
   "outputs": [
    {
     "data": {
      "text/plain": [
       "\n",
       " 1 \n",
       "98 "
      ]
     },
     "metadata": {},
     "output_type": "display_data"
    }
   ],
   "source": [
    "table(dat$Count_Frag)"
   ]
  },
  {
   "cell_type": "code",
   "execution_count": 17,
   "metadata": {
    "collapsed": true,
    "jupyter": {
     "outputs_hidden": true
    },
    "tags": []
   },
   "outputs": [
    {
     "name": "stderr",
     "output_type": "stream",
     "text": [
      "`summarise()` has grouped output by 'Chrom_Frag', 'Start_Frag', 'End_Frag', 'Count_Frag'. You can override using the `.groups` argument.\n"
     ]
    },
    {
     "data": {
      "text/html": [
       "<table>\n",
       "<thead><tr><th scope=col>Chrom_Frag</th><th scope=col>Start_Frag</th><th scope=col>End_Frag</th><th scope=col>Count_Frag</th><th scope=col>Motif</th><th scope=col>Count_Motif</th></tr></thead>\n",
       "<tbody>\n",
       "\t<tr><td>chr17  </td><td>8149351</td><td>8150361</td><td>1      </td><td>NR/20  </td><td>1      </td></tr>\n",
       "\t<tr><td>chr17  </td><td>8149418</td><td>8150427</td><td>1      </td><td>NR/20  </td><td>1      </td></tr>\n",
       "\t<tr><td>chr17  </td><td>8149468</td><td>8150589</td><td>1      </td><td>NR/20  </td><td>1      </td></tr>\n",
       "\t<tr><td>chr17  </td><td>8149606</td><td>8150634</td><td>1      </td><td>NR/20  </td><td>1      </td></tr>\n",
       "\t<tr><td>chr17  </td><td>8149661</td><td>8150552</td><td>1      </td><td>NR/20  </td><td>1      </td></tr>\n",
       "\t<tr><td>chr17  </td><td>8149759</td><td>8150629</td><td>1      </td><td>NR/20  </td><td>1      </td></tr>\n",
       "\t<tr><td>chr17  </td><td>8149760</td><td>8150629</td><td>1      </td><td>NR/20  </td><td>1      </td></tr>\n",
       "\t<tr><td>chr17  </td><td>8149776</td><td>8150701</td><td>1      </td><td>NR/20  </td><td>1      </td></tr>\n",
       "\t<tr><td>chr17  </td><td>8149807</td><td>8150828</td><td>1      </td><td>NR/20  </td><td>1      </td></tr>\n",
       "\t<tr><td>chr17  </td><td>8149867</td><td>8150835</td><td>1      </td><td>NR/20  </td><td>2      </td></tr>\n",
       "\t<tr><td>chr17  </td><td>8149892</td><td>8150882</td><td>1      </td><td>NR/20  </td><td>2      </td></tr>\n",
       "\t<tr><td>chr17  </td><td>8149982</td><td>8150963</td><td>1      </td><td>NR/20  </td><td>2      </td></tr>\n",
       "\t<tr><td>chr17  </td><td>8149999</td><td>8150959</td><td>1      </td><td>NR/20  </td><td>2      </td></tr>\n",
       "\t<tr><td>chr17  </td><td>8150002</td><td>8150977</td><td>1      </td><td>NR/20  </td><td>2      </td></tr>\n",
       "\t<tr><td>chr17  </td><td>8150062</td><td>8151047</td><td>1      </td><td>NR/20  </td><td>2      </td></tr>\n",
       "\t<tr><td>chr17  </td><td>8150087</td><td>8151099</td><td>1      </td><td>NR/20  </td><td>2      </td></tr>\n",
       "\t<tr><td>chr17  </td><td>8150097</td><td>8151053</td><td>1      </td><td>NR/20  </td><td>2      </td></tr>\n",
       "\t<tr><td>chr17  </td><td>8150098</td><td>8151111</td><td>1      </td><td>NR/20  </td><td>2      </td></tr>\n",
       "\t<tr><td>chr17  </td><td>8150134</td><td>8151015</td><td>1      </td><td>NR/20  </td><td>2      </td></tr>\n",
       "\t<tr><td>chr17  </td><td>8150143</td><td>8151082</td><td>1      </td><td>NR/20  </td><td>2      </td></tr>\n",
       "\t<tr><td>chr17  </td><td>8150166</td><td>8151054</td><td>1      </td><td>NR/20  </td><td>2      </td></tr>\n",
       "\t<tr><td>chr17  </td><td>8150170</td><td>8151089</td><td>1      </td><td>NR/20  </td><td>2      </td></tr>\n",
       "\t<tr><td>chr17  </td><td>8150171</td><td>8151112</td><td>1      </td><td>NR/20  </td><td>2      </td></tr>\n",
       "\t<tr><td>chr17  </td><td>8150329</td><td>8151343</td><td>1      </td><td>NR/20  </td><td>1      </td></tr>\n",
       "\t<tr><td>chr17  </td><td>8150402</td><td>8151376</td><td>1      </td><td>NR/20  </td><td>1      </td></tr>\n",
       "\t<tr><td>chr17  </td><td>8150410</td><td>8151356</td><td>1      </td><td>NR/20  </td><td>1      </td></tr>\n",
       "\t<tr><td>chr17  </td><td>8150421</td><td>8151368</td><td>1      </td><td>NR/20  </td><td>1      </td></tr>\n",
       "\t<tr><td>chr17  </td><td>8150585</td><td>8151628</td><td>1      </td><td>NR/20  </td><td>1      </td></tr>\n",
       "\t<tr><td>chr17  </td><td>8150681</td><td>8151651</td><td>1      </td><td>NR/20  </td><td>1      </td></tr>\n",
       "\t<tr><td>chr17  </td><td>8150924</td><td>8151934</td><td>1      </td><td>NR/20  </td><td>1      </td></tr>\n",
       "\t<tr><td>...</td><td>...</td><td>...</td><td>...</td><td>...</td><td>...</td></tr>\n",
       "\t<tr><td>chr17  </td><td>8151525</td><td>8152432</td><td>1      </td><td>NR/20  </td><td>1      </td></tr>\n",
       "\t<tr><td>chr17  </td><td>8151570</td><td>8152513</td><td>1      </td><td>NR/20  </td><td>1      </td></tr>\n",
       "\t<tr><td>chr17  </td><td>8151571</td><td>8152513</td><td>1      </td><td>NR/20  </td><td>1      </td></tr>\n",
       "\t<tr><td>chr17  </td><td>8151583</td><td>8152453</td><td>1      </td><td>NR/20  </td><td>1      </td></tr>\n",
       "\t<tr><td>chr17  </td><td>8151605</td><td>8152607</td><td>1      </td><td>NR/20  </td><td>1      </td></tr>\n",
       "\t<tr><td>chr17  </td><td>8151674</td><td>8152601</td><td>1      </td><td>NR/20  </td><td>1      </td></tr>\n",
       "\t<tr><td>chr17  </td><td>8151724</td><td>8152705</td><td>1      </td><td>NR/20  </td><td>1      </td></tr>\n",
       "\t<tr><td>chr17  </td><td>8151803</td><td>8152658</td><td>1      </td><td>NR/20  </td><td>1      </td></tr>\n",
       "\t<tr><td>chr17  </td><td>8151809</td><td>8152695</td><td>1      </td><td>NR/20  </td><td>1      </td></tr>\n",
       "\t<tr><td>chr17  </td><td>8153433</td><td>8154497</td><td>1      </td><td>NR/20  </td><td>1      </td></tr>\n",
       "\t<tr><td>chr17  </td><td>8153498</td><td>8154497</td><td>1      </td><td>NR/20  </td><td>1      </td></tr>\n",
       "\t<tr><td>chr17  </td><td>8153554</td><td>8154588</td><td>1      </td><td>NR/20  </td><td>1      </td></tr>\n",
       "\t<tr><td>chr17  </td><td>8153571</td><td>8154547</td><td>1      </td><td>NR/20  </td><td>1      </td></tr>\n",
       "\t<tr><td>chr17  </td><td>8153580</td><td>8154507</td><td>1      </td><td>NR/20  </td><td>1      </td></tr>\n",
       "\t<tr><td>chr17  </td><td>8153649</td><td>8154541</td><td>1      </td><td>NR/20  </td><td>1      </td></tr>\n",
       "\t<tr><td>chr17  </td><td>8153840</td><td>8154896</td><td>1      </td><td>NR/20  </td><td>2      </td></tr>\n",
       "\t<tr><td>chr17  </td><td>8153900</td><td>8154868</td><td>1      </td><td>NR/20  </td><td>2      </td></tr>\n",
       "\t<tr><td>chr17  </td><td>8153927</td><td>8154865</td><td>1      </td><td>NR/20  </td><td>2      </td></tr>\n",
       "\t<tr><td>chr17  </td><td>8153980</td><td>8154819</td><td>1      </td><td>NR/20  </td><td>2      </td></tr>\n",
       "\t<tr><td>chr17  </td><td>8154004</td><td>8155019</td><td>1      </td><td>NR/20  </td><td>2      </td></tr>\n",
       "\t<tr><td>chr17  </td><td>8154109</td><td>8154966</td><td>1      </td><td>NR/20  </td><td>2      </td></tr>\n",
       "\t<tr><td>chr17  </td><td>8154147</td><td>8155142</td><td>1      </td><td>NR/20  </td><td>2      </td></tr>\n",
       "\t<tr><td>chr17  </td><td>8154149</td><td>8155118</td><td>1      </td><td>NR/20  </td><td>2      </td></tr>\n",
       "\t<tr><td>chr17  </td><td>8154194</td><td>8155132</td><td>1      </td><td>NR/20  </td><td>2      </td></tr>\n",
       "\t<tr><td>chr17  </td><td>8154280</td><td>8155196</td><td>1      </td><td>NR/20  </td><td>2      </td></tr>\n",
       "\t<tr><td>chr17  </td><td>8154307</td><td>8155326</td><td>1      </td><td>NR/20  </td><td>2      </td></tr>\n",
       "\t<tr><td>chr17  </td><td>8154511</td><td>8155392</td><td>1      </td><td>NR/20  </td><td>1      </td></tr>\n",
       "\t<tr><td>chr17  </td><td>8154527</td><td>8155545</td><td>1      </td><td>NR/20  </td><td>1      </td></tr>\n",
       "\t<tr><td>chr17  </td><td>8154540</td><td>8155505</td><td>1      </td><td>NR/20  </td><td>1      </td></tr>\n",
       "\t<tr><td>chr17  </td><td>8154564</td><td>8155516</td><td>1      </td><td>NR/20  </td><td>1      </td></tr>\n",
       "</tbody>\n",
       "</table>\n"
      ],
      "text/latex": [
       "\\begin{tabular}{r|llllll}\n",
       " Chrom\\_Frag & Start\\_Frag & End\\_Frag & Count\\_Frag & Motif & Count\\_Motif\\\\\n",
       "\\hline\n",
       "\t chr17   & 8149351 & 8150361 & 1       & NR/20   & 1      \\\\\n",
       "\t chr17   & 8149418 & 8150427 & 1       & NR/20   & 1      \\\\\n",
       "\t chr17   & 8149468 & 8150589 & 1       & NR/20   & 1      \\\\\n",
       "\t chr17   & 8149606 & 8150634 & 1       & NR/20   & 1      \\\\\n",
       "\t chr17   & 8149661 & 8150552 & 1       & NR/20   & 1      \\\\\n",
       "\t chr17   & 8149759 & 8150629 & 1       & NR/20   & 1      \\\\\n",
       "\t chr17   & 8149760 & 8150629 & 1       & NR/20   & 1      \\\\\n",
       "\t chr17   & 8149776 & 8150701 & 1       & NR/20   & 1      \\\\\n",
       "\t chr17   & 8149807 & 8150828 & 1       & NR/20   & 1      \\\\\n",
       "\t chr17   & 8149867 & 8150835 & 1       & NR/20   & 2      \\\\\n",
       "\t chr17   & 8149892 & 8150882 & 1       & NR/20   & 2      \\\\\n",
       "\t chr17   & 8149982 & 8150963 & 1       & NR/20   & 2      \\\\\n",
       "\t chr17   & 8149999 & 8150959 & 1       & NR/20   & 2      \\\\\n",
       "\t chr17   & 8150002 & 8150977 & 1       & NR/20   & 2      \\\\\n",
       "\t chr17   & 8150062 & 8151047 & 1       & NR/20   & 2      \\\\\n",
       "\t chr17   & 8150087 & 8151099 & 1       & NR/20   & 2      \\\\\n",
       "\t chr17   & 8150097 & 8151053 & 1       & NR/20   & 2      \\\\\n",
       "\t chr17   & 8150098 & 8151111 & 1       & NR/20   & 2      \\\\\n",
       "\t chr17   & 8150134 & 8151015 & 1       & NR/20   & 2      \\\\\n",
       "\t chr17   & 8150143 & 8151082 & 1       & NR/20   & 2      \\\\\n",
       "\t chr17   & 8150166 & 8151054 & 1       & NR/20   & 2      \\\\\n",
       "\t chr17   & 8150170 & 8151089 & 1       & NR/20   & 2      \\\\\n",
       "\t chr17   & 8150171 & 8151112 & 1       & NR/20   & 2      \\\\\n",
       "\t chr17   & 8150329 & 8151343 & 1       & NR/20   & 1      \\\\\n",
       "\t chr17   & 8150402 & 8151376 & 1       & NR/20   & 1      \\\\\n",
       "\t chr17   & 8150410 & 8151356 & 1       & NR/20   & 1      \\\\\n",
       "\t chr17   & 8150421 & 8151368 & 1       & NR/20   & 1      \\\\\n",
       "\t chr17   & 8150585 & 8151628 & 1       & NR/20   & 1      \\\\\n",
       "\t chr17   & 8150681 & 8151651 & 1       & NR/20   & 1      \\\\\n",
       "\t chr17   & 8150924 & 8151934 & 1       & NR/20   & 1      \\\\\n",
       "\t ... & ... & ... & ... & ... & ...\\\\\n",
       "\t chr17   & 8151525 & 8152432 & 1       & NR/20   & 1      \\\\\n",
       "\t chr17   & 8151570 & 8152513 & 1       & NR/20   & 1      \\\\\n",
       "\t chr17   & 8151571 & 8152513 & 1       & NR/20   & 1      \\\\\n",
       "\t chr17   & 8151583 & 8152453 & 1       & NR/20   & 1      \\\\\n",
       "\t chr17   & 8151605 & 8152607 & 1       & NR/20   & 1      \\\\\n",
       "\t chr17   & 8151674 & 8152601 & 1       & NR/20   & 1      \\\\\n",
       "\t chr17   & 8151724 & 8152705 & 1       & NR/20   & 1      \\\\\n",
       "\t chr17   & 8151803 & 8152658 & 1       & NR/20   & 1      \\\\\n",
       "\t chr17   & 8151809 & 8152695 & 1       & NR/20   & 1      \\\\\n",
       "\t chr17   & 8153433 & 8154497 & 1       & NR/20   & 1      \\\\\n",
       "\t chr17   & 8153498 & 8154497 & 1       & NR/20   & 1      \\\\\n",
       "\t chr17   & 8153554 & 8154588 & 1       & NR/20   & 1      \\\\\n",
       "\t chr17   & 8153571 & 8154547 & 1       & NR/20   & 1      \\\\\n",
       "\t chr17   & 8153580 & 8154507 & 1       & NR/20   & 1      \\\\\n",
       "\t chr17   & 8153649 & 8154541 & 1       & NR/20   & 1      \\\\\n",
       "\t chr17   & 8153840 & 8154896 & 1       & NR/20   & 2      \\\\\n",
       "\t chr17   & 8153900 & 8154868 & 1       & NR/20   & 2      \\\\\n",
       "\t chr17   & 8153927 & 8154865 & 1       & NR/20   & 2      \\\\\n",
       "\t chr17   & 8153980 & 8154819 & 1       & NR/20   & 2      \\\\\n",
       "\t chr17   & 8154004 & 8155019 & 1       & NR/20   & 2      \\\\\n",
       "\t chr17   & 8154109 & 8154966 & 1       & NR/20   & 2      \\\\\n",
       "\t chr17   & 8154147 & 8155142 & 1       & NR/20   & 2      \\\\\n",
       "\t chr17   & 8154149 & 8155118 & 1       & NR/20   & 2      \\\\\n",
       "\t chr17   & 8154194 & 8155132 & 1       & NR/20   & 2      \\\\\n",
       "\t chr17   & 8154280 & 8155196 & 1       & NR/20   & 2      \\\\\n",
       "\t chr17   & 8154307 & 8155326 & 1       & NR/20   & 2      \\\\\n",
       "\t chr17   & 8154511 & 8155392 & 1       & NR/20   & 1      \\\\\n",
       "\t chr17   & 8154527 & 8155545 & 1       & NR/20   & 1      \\\\\n",
       "\t chr17   & 8154540 & 8155505 & 1       & NR/20   & 1      \\\\\n",
       "\t chr17   & 8154564 & 8155516 & 1       & NR/20   & 1      \\\\\n",
       "\\end{tabular}\n"
      ],
      "text/markdown": [
       "\n",
       "| Chrom_Frag | Start_Frag | End_Frag | Count_Frag | Motif | Count_Motif |\n",
       "|---|---|---|---|---|---|\n",
       "| chr17   | 8149351 | 8150361 | 1       | NR/20   | 1       |\n",
       "| chr17   | 8149418 | 8150427 | 1       | NR/20   | 1       |\n",
       "| chr17   | 8149468 | 8150589 | 1       | NR/20   | 1       |\n",
       "| chr17   | 8149606 | 8150634 | 1       | NR/20   | 1       |\n",
       "| chr17   | 8149661 | 8150552 | 1       | NR/20   | 1       |\n",
       "| chr17   | 8149759 | 8150629 | 1       | NR/20   | 1       |\n",
       "| chr17   | 8149760 | 8150629 | 1       | NR/20   | 1       |\n",
       "| chr17   | 8149776 | 8150701 | 1       | NR/20   | 1       |\n",
       "| chr17   | 8149807 | 8150828 | 1       | NR/20   | 1       |\n",
       "| chr17   | 8149867 | 8150835 | 1       | NR/20   | 2       |\n",
       "| chr17   | 8149892 | 8150882 | 1       | NR/20   | 2       |\n",
       "| chr17   | 8149982 | 8150963 | 1       | NR/20   | 2       |\n",
       "| chr17   | 8149999 | 8150959 | 1       | NR/20   | 2       |\n",
       "| chr17   | 8150002 | 8150977 | 1       | NR/20   | 2       |\n",
       "| chr17   | 8150062 | 8151047 | 1       | NR/20   | 2       |\n",
       "| chr17   | 8150087 | 8151099 | 1       | NR/20   | 2       |\n",
       "| chr17   | 8150097 | 8151053 | 1       | NR/20   | 2       |\n",
       "| chr17   | 8150098 | 8151111 | 1       | NR/20   | 2       |\n",
       "| chr17   | 8150134 | 8151015 | 1       | NR/20   | 2       |\n",
       "| chr17   | 8150143 | 8151082 | 1       | NR/20   | 2       |\n",
       "| chr17   | 8150166 | 8151054 | 1       | NR/20   | 2       |\n",
       "| chr17   | 8150170 | 8151089 | 1       | NR/20   | 2       |\n",
       "| chr17   | 8150171 | 8151112 | 1       | NR/20   | 2       |\n",
       "| chr17   | 8150329 | 8151343 | 1       | NR/20   | 1       |\n",
       "| chr17   | 8150402 | 8151376 | 1       | NR/20   | 1       |\n",
       "| chr17   | 8150410 | 8151356 | 1       | NR/20   | 1       |\n",
       "| chr17   | 8150421 | 8151368 | 1       | NR/20   | 1       |\n",
       "| chr17   | 8150585 | 8151628 | 1       | NR/20   | 1       |\n",
       "| chr17   | 8150681 | 8151651 | 1       | NR/20   | 1       |\n",
       "| chr17   | 8150924 | 8151934 | 1       | NR/20   | 1       |\n",
       "| ... | ... | ... | ... | ... | ... |\n",
       "| chr17   | 8151525 | 8152432 | 1       | NR/20   | 1       |\n",
       "| chr17   | 8151570 | 8152513 | 1       | NR/20   | 1       |\n",
       "| chr17   | 8151571 | 8152513 | 1       | NR/20   | 1       |\n",
       "| chr17   | 8151583 | 8152453 | 1       | NR/20   | 1       |\n",
       "| chr17   | 8151605 | 8152607 | 1       | NR/20   | 1       |\n",
       "| chr17   | 8151674 | 8152601 | 1       | NR/20   | 1       |\n",
       "| chr17   | 8151724 | 8152705 | 1       | NR/20   | 1       |\n",
       "| chr17   | 8151803 | 8152658 | 1       | NR/20   | 1       |\n",
       "| chr17   | 8151809 | 8152695 | 1       | NR/20   | 1       |\n",
       "| chr17   | 8153433 | 8154497 | 1       | NR/20   | 1       |\n",
       "| chr17   | 8153498 | 8154497 | 1       | NR/20   | 1       |\n",
       "| chr17   | 8153554 | 8154588 | 1       | NR/20   | 1       |\n",
       "| chr17   | 8153571 | 8154547 | 1       | NR/20   | 1       |\n",
       "| chr17   | 8153580 | 8154507 | 1       | NR/20   | 1       |\n",
       "| chr17   | 8153649 | 8154541 | 1       | NR/20   | 1       |\n",
       "| chr17   | 8153840 | 8154896 | 1       | NR/20   | 2       |\n",
       "| chr17   | 8153900 | 8154868 | 1       | NR/20   | 2       |\n",
       "| chr17   | 8153927 | 8154865 | 1       | NR/20   | 2       |\n",
       "| chr17   | 8153980 | 8154819 | 1       | NR/20   | 2       |\n",
       "| chr17   | 8154004 | 8155019 | 1       | NR/20   | 2       |\n",
       "| chr17   | 8154109 | 8154966 | 1       | NR/20   | 2       |\n",
       "| chr17   | 8154147 | 8155142 | 1       | NR/20   | 2       |\n",
       "| chr17   | 8154149 | 8155118 | 1       | NR/20   | 2       |\n",
       "| chr17   | 8154194 | 8155132 | 1       | NR/20   | 2       |\n",
       "| chr17   | 8154280 | 8155196 | 1       | NR/20   | 2       |\n",
       "| chr17   | 8154307 | 8155326 | 1       | NR/20   | 2       |\n",
       "| chr17   | 8154511 | 8155392 | 1       | NR/20   | 1       |\n",
       "| chr17   | 8154527 | 8155545 | 1       | NR/20   | 1       |\n",
       "| chr17   | 8154540 | 8155505 | 1       | NR/20   | 1       |\n",
       "| chr17   | 8154564 | 8155516 | 1       | NR/20   | 1       |\n",
       "\n"
      ],
      "text/plain": [
       "    Chrom_Frag Start_Frag End_Frag Count_Frag Motif Count_Motif\n",
       "1   chr17      8149351    8150361  1          NR/20 1          \n",
       "2   chr17      8149418    8150427  1          NR/20 1          \n",
       "3   chr17      8149468    8150589  1          NR/20 1          \n",
       "4   chr17      8149606    8150634  1          NR/20 1          \n",
       "5   chr17      8149661    8150552  1          NR/20 1          \n",
       "6   chr17      8149759    8150629  1          NR/20 1          \n",
       "7   chr17      8149760    8150629  1          NR/20 1          \n",
       "8   chr17      8149776    8150701  1          NR/20 1          \n",
       "9   chr17      8149807    8150828  1          NR/20 1          \n",
       "10  chr17      8149867    8150835  1          NR/20 2          \n",
       "11  chr17      8149892    8150882  1          NR/20 2          \n",
       "12  chr17      8149982    8150963  1          NR/20 2          \n",
       "13  chr17      8149999    8150959  1          NR/20 2          \n",
       "14  chr17      8150002    8150977  1          NR/20 2          \n",
       "15  chr17      8150062    8151047  1          NR/20 2          \n",
       "16  chr17      8150087    8151099  1          NR/20 2          \n",
       "17  chr17      8150097    8151053  1          NR/20 2          \n",
       "18  chr17      8150098    8151111  1          NR/20 2          \n",
       "19  chr17      8150134    8151015  1          NR/20 2          \n",
       "20  chr17      8150143    8151082  1          NR/20 2          \n",
       "21  chr17      8150166    8151054  1          NR/20 2          \n",
       "22  chr17      8150170    8151089  1          NR/20 2          \n",
       "23  chr17      8150171    8151112  1          NR/20 2          \n",
       "24  chr17      8150329    8151343  1          NR/20 1          \n",
       "25  chr17      8150402    8151376  1          NR/20 1          \n",
       "26  chr17      8150410    8151356  1          NR/20 1          \n",
       "27  chr17      8150421    8151368  1          NR/20 1          \n",
       "28  chr17      8150585    8151628  1          NR/20 1          \n",
       "29  chr17      8150681    8151651  1          NR/20 1          \n",
       "30  chr17      8150924    8151934  1          NR/20 1          \n",
       "... ...        ...        ...      ...        ...   ...        \n",
       "44  chr17      8151525    8152432  1          NR/20 1          \n",
       "45  chr17      8151570    8152513  1          NR/20 1          \n",
       "46  chr17      8151571    8152513  1          NR/20 1          \n",
       "47  chr17      8151583    8152453  1          NR/20 1          \n",
       "48  chr17      8151605    8152607  1          NR/20 1          \n",
       "49  chr17      8151674    8152601  1          NR/20 1          \n",
       "50  chr17      8151724    8152705  1          NR/20 1          \n",
       "51  chr17      8151803    8152658  1          NR/20 1          \n",
       "52  chr17      8151809    8152695  1          NR/20 1          \n",
       "53  chr17      8153433    8154497  1          NR/20 1          \n",
       "54  chr17      8153498    8154497  1          NR/20 1          \n",
       "55  chr17      8153554    8154588  1          NR/20 1          \n",
       "56  chr17      8153571    8154547  1          NR/20 1          \n",
       "57  chr17      8153580    8154507  1          NR/20 1          \n",
       "58  chr17      8153649    8154541  1          NR/20 1          \n",
       "59  chr17      8153840    8154896  1          NR/20 2          \n",
       "60  chr17      8153900    8154868  1          NR/20 2          \n",
       "61  chr17      8153927    8154865  1          NR/20 2          \n",
       "62  chr17      8153980    8154819  1          NR/20 2          \n",
       "63  chr17      8154004    8155019  1          NR/20 2          \n",
       "64  chr17      8154109    8154966  1          NR/20 2          \n",
       "65  chr17      8154147    8155142  1          NR/20 2          \n",
       "66  chr17      8154149    8155118  1          NR/20 2          \n",
       "67  chr17      8154194    8155132  1          NR/20 2          \n",
       "68  chr17      8154280    8155196  1          NR/20 2          \n",
       "69  chr17      8154307    8155326  1          NR/20 2          \n",
       "70  chr17      8154511    8155392  1          NR/20 1          \n",
       "71  chr17      8154527    8155545  1          NR/20 1          \n",
       "72  chr17      8154540    8155505  1          NR/20 1          \n",
       "73  chr17      8154564    8155516  1          NR/20 1          "
      ]
     },
     "metadata": {},
     "output_type": "display_data"
    }
   ],
   "source": [
    "tmp = dat %>% \n",
    "    group_by(Chrom_Frag, Start_Frag, End_Frag, Count_Frag, Motif) %>% \n",
    "    summarize(Count_Motif = n())\n",
    "tmp"
   ]
  },
  {
   "cell_type": "code",
   "execution_count": 18,
   "metadata": {},
   "outputs": [
    {
     "name": "stderr",
     "output_type": "stream",
     "text": [
      "`summarise()` has grouped output by 'Chrom_Frag', 'Start_Frag', 'End_Frag', 'Count_Frag'. You can override using the `.groups` argument.\n",
      "`summarise()` has grouped output by 'Motif'. You can override using the `.groups` argument.\n"
     ]
    },
    {
     "data": {
      "text/html": [
       "<table>\n",
       "<thead><tr><th scope=col>Motif</th><th scope=col>Count_Motif</th><th scope=col>Total_Frag</th></tr></thead>\n",
       "<tbody>\n",
       "\t<tr><td>NR/20</td><td>1    </td><td>48   </td></tr>\n",
       "\t<tr><td>NR/20</td><td>2    </td><td>25   </td></tr>\n",
       "</tbody>\n",
       "</table>\n"
      ],
      "text/latex": [
       "\\begin{tabular}{r|lll}\n",
       " Motif & Count\\_Motif & Total\\_Frag\\\\\n",
       "\\hline\n",
       "\t NR/20 & 1     & 48   \\\\\n",
       "\t NR/20 & 2     & 25   \\\\\n",
       "\\end{tabular}\n"
      ],
      "text/markdown": [
       "\n",
       "| Motif | Count_Motif | Total_Frag |\n",
       "|---|---|---|\n",
       "| NR/20 | 1     | 48    |\n",
       "| NR/20 | 2     | 25    |\n",
       "\n"
      ],
      "text/plain": [
       "  Motif Count_Motif Total_Frag\n",
       "1 NR/20 1           48        \n",
       "2 NR/20 2           25        "
      ]
     },
     "metadata": {},
     "output_type": "display_data"
    }
   ],
   "source": [
    "tmp = dat %>% \n",
    "    group_by(Chrom_Frag, Start_Frag, End_Frag, Count_Frag, Motif) %>% \n",
    "    summarize(Count_Motif = n())\n",
    "tmp = tmp %>% group_by(Motif, Count_Motif) %>% \n",
    "    summarize(Total_Frag = sum(Count_Frag))\n",
    "tmp"
   ]
  },
  {
   "cell_type": "markdown",
   "metadata": {},
   "source": [
    "## Count 2"
   ]
  },
  {
   "cell_type": "code",
   "execution_count": 16,
   "metadata": {},
   "outputs": [
    {
     "data": {
      "text/html": [
       "<table>\n",
       "<thead><tr><th scope=col>Chrom_Frag</th><th scope=col>Start_Frag</th><th scope=col>End_Frag</th><th scope=col>Count_Frag</th><th scope=col>Chrom_Motif</th><th scope=col>Start_Motif</th><th scope=col>End_Motif</th><th scope=col>Motif</th><th scope=col>Score</th><th scope=col>Overlap</th><th scope=col>...</th><th scope=col>Pct_GC</th><th scope=col>Num_A</th><th scope=col>Num_C</th><th scope=col>Num_G</th><th scope=col>Num_T</th><th scope=col>Num_N</th><th scope=col>Num_O</th><th scope=col>Len</th><th scope=col>Cat_GC</th><th scope=col>Cat_Len</th></tr></thead>\n",
       "<tbody>\n",
       "\t<tr><td>chr17   </td><td>8149351 </td><td>8150361 </td><td>1       </td><td>chr17   </td><td>8150232 </td><td>8150246 </td><td>NR/20   </td><td>8.3256  </td><td>14      </td><td>...     </td><td>0.612871</td><td>207     </td><td>291     </td><td>328     </td><td>184     </td><td>0       </td><td>0       </td><td>1010    </td><td>0.6     </td><td>1000    </td></tr>\n",
       "\t<tr><td>chr17   </td><td>8149418 </td><td>8150427 </td><td>1       </td><td>chr17   </td><td>8150232 </td><td>8150246 </td><td>NR/20   </td><td>8.3256  </td><td>14      </td><td>...     </td><td>0.612488</td><td>209     </td><td>298     </td><td>320     </td><td>182     </td><td>0       </td><td>0       </td><td>1009    </td><td>0.6     </td><td>1000    </td></tr>\n",
       "\t<tr><td>chr17   </td><td>8149468 </td><td>8150589 </td><td>1       </td><td>chr17   </td><td>8150232 </td><td>8150246 </td><td>NR/20   </td><td>8.3256  </td><td>14      </td><td>...     </td><td>0.606601</td><td>226     </td><td>325     </td><td>355     </td><td>215     </td><td>0       </td><td>0       </td><td>1121    </td><td>0.6     </td><td>1100    </td></tr>\n",
       "\t<tr><td>chr17   </td><td>8149606 </td><td>8150634 </td><td>1       </td><td>chr17   </td><td>8150232 </td><td>8150246 </td><td>NR/20   </td><td>8.3256  </td><td>14      </td><td>...     </td><td>0.607004</td><td>200     </td><td>292     </td><td>332     </td><td>204     </td><td>0       </td><td>0       </td><td>1028    </td><td>0.6     </td><td>1000    </td></tr>\n",
       "\t<tr><td>chr17   </td><td>8149661 </td><td>8150552 </td><td>1       </td><td>chr17   </td><td>8150232 </td><td>8150246 </td><td>NR/20   </td><td>8.3256  </td><td>14      </td><td>...     </td><td>0.603816</td><td>172     </td><td>259     </td><td>279     </td><td>181     </td><td>0       </td><td>0       </td><td> 891    </td><td>0.6     </td><td> 900    </td></tr>\n",
       "\t<tr><td>chr17   </td><td>8149759 </td><td>8150629 </td><td>1       </td><td>chr17   </td><td>8150232 </td><td>8150246 </td><td>NR/20   </td><td>8.3256  </td><td>14      </td><td>...     </td><td>0.605747</td><td>160     </td><td>259     </td><td>268     </td><td>183     </td><td>0       </td><td>0       </td><td> 870    </td><td>0.6     </td><td> 900    </td></tr>\n",
       "</tbody>\n",
       "</table>\n"
      ],
      "text/latex": [
       "\\begin{tabular}{r|lllllllllllllllllllll}\n",
       " Chrom\\_Frag & Start\\_Frag & End\\_Frag & Count\\_Frag & Chrom\\_Motif & Start\\_Motif & End\\_Motif & Motif & Score & Overlap & ... & Pct\\_GC & Num\\_A & Num\\_C & Num\\_G & Num\\_T & Num\\_N & Num\\_O & Len & Cat\\_GC & Cat\\_Len\\\\\n",
       "\\hline\n",
       "\t chr17    & 8149351  & 8150361  & 1        & chr17    & 8150232  & 8150246  & NR/20    & 8.3256   & 14       & ...      & 0.612871 & 207      & 291      & 328      & 184      & 0        & 0        & 1010     & 0.6      & 1000    \\\\\n",
       "\t chr17    & 8149418  & 8150427  & 1        & chr17    & 8150232  & 8150246  & NR/20    & 8.3256   & 14       & ...      & 0.612488 & 209      & 298      & 320      & 182      & 0        & 0        & 1009     & 0.6      & 1000    \\\\\n",
       "\t chr17    & 8149468  & 8150589  & 1        & chr17    & 8150232  & 8150246  & NR/20    & 8.3256   & 14       & ...      & 0.606601 & 226      & 325      & 355      & 215      & 0        & 0        & 1121     & 0.6      & 1100    \\\\\n",
       "\t chr17    & 8149606  & 8150634  & 1        & chr17    & 8150232  & 8150246  & NR/20    & 8.3256   & 14       & ...      & 0.607004 & 200      & 292      & 332      & 204      & 0        & 0        & 1028     & 0.6      & 1000    \\\\\n",
       "\t chr17    & 8149661  & 8150552  & 1        & chr17    & 8150232  & 8150246  & NR/20    & 8.3256   & 14       & ...      & 0.603816 & 172      & 259      & 279      & 181      & 0        & 0        &  891     & 0.6      &  900    \\\\\n",
       "\t chr17    & 8149759  & 8150629  & 1        & chr17    & 8150232  & 8150246  & NR/20    & 8.3256   & 14       & ...      & 0.605747 & 160      & 259      & 268      & 183      & 0        & 0        &  870     & 0.6      &  900    \\\\\n",
       "\\end{tabular}\n"
      ],
      "text/markdown": [
       "\n",
       "| Chrom_Frag | Start_Frag | End_Frag | Count_Frag | Chrom_Motif | Start_Motif | End_Motif | Motif | Score | Overlap | ... | Pct_GC | Num_A | Num_C | Num_G | Num_T | Num_N | Num_O | Len | Cat_GC | Cat_Len |\n",
       "|---|---|---|---|---|---|---|---|---|---|---|---|---|---|---|---|---|---|---|---|---|\n",
       "| chr17    | 8149351  | 8150361  | 1        | chr17    | 8150232  | 8150246  | NR/20    | 8.3256   | 14       | ...      | 0.612871 | 207      | 291      | 328      | 184      | 0        | 0        | 1010     | 0.6      | 1000     |\n",
       "| chr17    | 8149418  | 8150427  | 1        | chr17    | 8150232  | 8150246  | NR/20    | 8.3256   | 14       | ...      | 0.612488 | 209      | 298      | 320      | 182      | 0        | 0        | 1009     | 0.6      | 1000     |\n",
       "| chr17    | 8149468  | 8150589  | 1        | chr17    | 8150232  | 8150246  | NR/20    | 8.3256   | 14       | ...      | 0.606601 | 226      | 325      | 355      | 215      | 0        | 0        | 1121     | 0.6      | 1100     |\n",
       "| chr17    | 8149606  | 8150634  | 1        | chr17    | 8150232  | 8150246  | NR/20    | 8.3256   | 14       | ...      | 0.607004 | 200      | 292      | 332      | 204      | 0        | 0        | 1028     | 0.6      | 1000     |\n",
       "| chr17    | 8149661  | 8150552  | 1        | chr17    | 8150232  | 8150246  | NR/20    | 8.3256   | 14       | ...      | 0.603816 | 172      | 259      | 279      | 181      | 0        | 0        |  891     | 0.6      |  900     |\n",
       "| chr17    | 8149759  | 8150629  | 1        | chr17    | 8150232  | 8150246  | NR/20    | 8.3256   | 14       | ...      | 0.605747 | 160      | 259      | 268      | 183      | 0        | 0        |  870     | 0.6      |  900     |\n",
       "\n"
      ],
      "text/plain": [
       "  Chrom_Frag Start_Frag End_Frag Count_Frag Chrom_Motif Start_Motif End_Motif\n",
       "1 chr17      8149351    8150361  1          chr17       8150232     8150246  \n",
       "2 chr17      8149418    8150427  1          chr17       8150232     8150246  \n",
       "3 chr17      8149468    8150589  1          chr17       8150232     8150246  \n",
       "4 chr17      8149606    8150634  1          chr17       8150232     8150246  \n",
       "5 chr17      8149661    8150552  1          chr17       8150232     8150246  \n",
       "6 chr17      8149759    8150629  1          chr17       8150232     8150246  \n",
       "  Motif Score  Overlap ... Pct_GC   Num_A Num_C Num_G Num_T Num_N Num_O Len \n",
       "1 NR/20 8.3256 14      ... 0.612871 207   291   328   184   0     0     1010\n",
       "2 NR/20 8.3256 14      ... 0.612488 209   298   320   182   0     0     1009\n",
       "3 NR/20 8.3256 14      ... 0.606601 226   325   355   215   0     0     1121\n",
       "4 NR/20 8.3256 14      ... 0.607004 200   292   332   204   0     0     1028\n",
       "5 NR/20 8.3256 14      ... 0.603816 172   259   279   181   0     0      891\n",
       "6 NR/20 8.3256 14      ... 0.605747 160   259   268   183   0     0      870\n",
       "  Cat_GC Cat_Len\n",
       "1 0.6    1000   \n",
       "2 0.6    1000   \n",
       "3 0.6    1100   \n",
       "4 0.6    1000   \n",
       "5 0.6     900   \n",
       "6 0.6     900   "
      ]
     },
     "metadata": {},
     "output_type": "display_data"
    }
   ],
   "source": [
    "tmp = dat_nuc %>% mutate(\n",
    "    Cat_GC  = round(Pct_GC, digits =  1),\n",
    "    Cat_Len = round(Len,    digits = -2))\n",
    "head(tmp)"
   ]
  },
  {
   "cell_type": "code",
   "execution_count": 19,
   "metadata": {},
   "outputs": [
    {
     "name": "stderr",
     "output_type": "stream",
     "text": [
      "`summarise()` has grouped output by 'Chrom_Frag', 'Start_Frag', 'End_Frag', 'Count_Frag', 'Motif', 'Cat_GC'. You can override using the `.groups` argument.\n"
     ]
    },
    {
     "data": {
      "text/html": [
       "<table>\n",
       "<thead><tr><th scope=col>Chrom_Frag</th><th scope=col>Start_Frag</th><th scope=col>End_Frag</th><th scope=col>Count_Frag</th><th scope=col>Motif</th><th scope=col>Cat_GC</th><th scope=col>Cat_Len</th><th scope=col>Count_Motif</th></tr></thead>\n",
       "<tbody>\n",
       "\t<tr><td>chr17  </td><td>8149351</td><td>8150361</td><td>1      </td><td>NR/20  </td><td>0.6    </td><td>1000   </td><td>1      </td></tr>\n",
       "\t<tr><td>chr17  </td><td>8149418</td><td>8150427</td><td>1      </td><td>NR/20  </td><td>0.6    </td><td>1000   </td><td>1      </td></tr>\n",
       "\t<tr><td>chr17  </td><td>8149468</td><td>8150589</td><td>1      </td><td>NR/20  </td><td>0.6    </td><td>1100   </td><td>1      </td></tr>\n",
       "\t<tr><td>chr17  </td><td>8149606</td><td>8150634</td><td>1      </td><td>NR/20  </td><td>0.6    </td><td>1000   </td><td>1      </td></tr>\n",
       "\t<tr><td>chr17  </td><td>8149661</td><td>8150552</td><td>1      </td><td>NR/20  </td><td>0.6    </td><td> 900   </td><td>1      </td></tr>\n",
       "\t<tr><td>chr17  </td><td>8149759</td><td>8150629</td><td>1      </td><td>NR/20  </td><td>0.6    </td><td> 900   </td><td>1      </td></tr>\n",
       "</tbody>\n",
       "</table>\n"
      ],
      "text/latex": [
       "\\begin{tabular}{r|llllllll}\n",
       " Chrom\\_Frag & Start\\_Frag & End\\_Frag & Count\\_Frag & Motif & Cat\\_GC & Cat\\_Len & Count\\_Motif\\\\\n",
       "\\hline\n",
       "\t chr17   & 8149351 & 8150361 & 1       & NR/20   & 0.6     & 1000    & 1      \\\\\n",
       "\t chr17   & 8149418 & 8150427 & 1       & NR/20   & 0.6     & 1000    & 1      \\\\\n",
       "\t chr17   & 8149468 & 8150589 & 1       & NR/20   & 0.6     & 1100    & 1      \\\\\n",
       "\t chr17   & 8149606 & 8150634 & 1       & NR/20   & 0.6     & 1000    & 1      \\\\\n",
       "\t chr17   & 8149661 & 8150552 & 1       & NR/20   & 0.6     &  900    & 1      \\\\\n",
       "\t chr17   & 8149759 & 8150629 & 1       & NR/20   & 0.6     &  900    & 1      \\\\\n",
       "\\end{tabular}\n"
      ],
      "text/markdown": [
       "\n",
       "| Chrom_Frag | Start_Frag | End_Frag | Count_Frag | Motif | Cat_GC | Cat_Len | Count_Motif |\n",
       "|---|---|---|---|---|---|---|---|\n",
       "| chr17   | 8149351 | 8150361 | 1       | NR/20   | 0.6     | 1000    | 1       |\n",
       "| chr17   | 8149418 | 8150427 | 1       | NR/20   | 0.6     | 1000    | 1       |\n",
       "| chr17   | 8149468 | 8150589 | 1       | NR/20   | 0.6     | 1100    | 1       |\n",
       "| chr17   | 8149606 | 8150634 | 1       | NR/20   | 0.6     | 1000    | 1       |\n",
       "| chr17   | 8149661 | 8150552 | 1       | NR/20   | 0.6     |  900    | 1       |\n",
       "| chr17   | 8149759 | 8150629 | 1       | NR/20   | 0.6     |  900    | 1       |\n",
       "\n"
      ],
      "text/plain": [
       "  Chrom_Frag Start_Frag End_Frag Count_Frag Motif Cat_GC Cat_Len Count_Motif\n",
       "1 chr17      8149351    8150361  1          NR/20 0.6    1000    1          \n",
       "2 chr17      8149418    8150427  1          NR/20 0.6    1000    1          \n",
       "3 chr17      8149468    8150589  1          NR/20 0.6    1100    1          \n",
       "4 chr17      8149606    8150634  1          NR/20 0.6    1000    1          \n",
       "5 chr17      8149661    8150552  1          NR/20 0.6     900    1          \n",
       "6 chr17      8149759    8150629  1          NR/20 0.6     900    1          "
      ]
     },
     "metadata": {},
     "output_type": "display_data"
    }
   ],
   "source": [
    "tmp = dat_nuc %>% mutate(\n",
    "    Cat_GC  = round(Pct_GC, digits =  1),\n",
    "    Cat_Len = round(Len,    digits = -2))\n",
    "\n",
    "tmp = tmp %>% \n",
    "    group_by(Chrom_Frag, Start_Frag, End_Frag, Count_Frag, Motif, Cat_GC, Cat_Len) %>% \n",
    "    summarize(Count_Motif = n())\n",
    "\n",
    "head(tmp)"
   ]
  },
  {
   "cell_type": "code",
   "execution_count": 22,
   "metadata": {},
   "outputs": [
    {
     "name": "stderr",
     "output_type": "stream",
     "text": [
      "`summarise()` has grouped output by 'Chrom_Frag', 'Start_Frag', 'End_Frag', 'Count_Frag', 'Motif', 'Cat_GC'. You can override using the `.groups` argument.\n",
      "`summarise()` has grouped output by 'Motif', 'Count_Motif', 'Cat_GC'. You can override using the `.groups` argument.\n"
     ]
    },
    {
     "data": {
      "text/html": [
       "<table>\n",
       "<thead><tr><th scope=col>Motif</th><th scope=col>Count_Motif</th><th scope=col>Cat_GC</th><th scope=col>Cat_Len</th><th scope=col>Total_Frag</th></tr></thead>\n",
       "<tbody>\n",
       "\t<tr><td>NR/20</td><td>1    </td><td>0.5  </td><td> 900 </td><td> 1   </td></tr>\n",
       "\t<tr><td>NR/20</td><td>1    </td><td>0.5  </td><td>1000 </td><td> 3   </td></tr>\n",
       "\t<tr><td>NR/20</td><td>1    </td><td>0.5  </td><td>1100 </td><td> 1   </td></tr>\n",
       "\t<tr><td>NR/20</td><td>1    </td><td>0.6  </td><td> 900 </td><td>21   </td></tr>\n",
       "\t<tr><td>NR/20</td><td>1    </td><td>0.6  </td><td>1000 </td><td>20   </td></tr>\n",
       "\t<tr><td>NR/20</td><td>1    </td><td>0.6  </td><td>1100 </td><td> 2   </td></tr>\n",
       "\t<tr><td>NR/20</td><td>2    </td><td>0.5  </td><td>1000 </td><td> 1   </td></tr>\n",
       "\t<tr><td>NR/20</td><td>2    </td><td>0.6  </td><td> 800 </td><td> 1   </td></tr>\n",
       "\t<tr><td>NR/20</td><td>2    </td><td>0.6  </td><td> 900 </td><td> 9   </td></tr>\n",
       "\t<tr><td>NR/20</td><td>2    </td><td>0.6  </td><td>1000 </td><td>13   </td></tr>\n",
       "\t<tr><td>NR/20</td><td>2    </td><td>0.6  </td><td>1100 </td><td> 1   </td></tr>\n",
       "</tbody>\n",
       "</table>\n"
      ],
      "text/latex": [
       "\\begin{tabular}{r|lllll}\n",
       " Motif & Count\\_Motif & Cat\\_GC & Cat\\_Len & Total\\_Frag\\\\\n",
       "\\hline\n",
       "\t NR/20 & 1     & 0.5   &  900  &  1   \\\\\n",
       "\t NR/20 & 1     & 0.5   & 1000  &  3   \\\\\n",
       "\t NR/20 & 1     & 0.5   & 1100  &  1   \\\\\n",
       "\t NR/20 & 1     & 0.6   &  900  & 21   \\\\\n",
       "\t NR/20 & 1     & 0.6   & 1000  & 20   \\\\\n",
       "\t NR/20 & 1     & 0.6   & 1100  &  2   \\\\\n",
       "\t NR/20 & 2     & 0.5   & 1000  &  1   \\\\\n",
       "\t NR/20 & 2     & 0.6   &  800  &  1   \\\\\n",
       "\t NR/20 & 2     & 0.6   &  900  &  9   \\\\\n",
       "\t NR/20 & 2     & 0.6   & 1000  & 13   \\\\\n",
       "\t NR/20 & 2     & 0.6   & 1100  &  1   \\\\\n",
       "\\end{tabular}\n"
      ],
      "text/markdown": [
       "\n",
       "| Motif | Count_Motif | Cat_GC | Cat_Len | Total_Frag |\n",
       "|---|---|---|---|---|\n",
       "| NR/20 | 1     | 0.5   |  900  |  1    |\n",
       "| NR/20 | 1     | 0.5   | 1000  |  3    |\n",
       "| NR/20 | 1     | 0.5   | 1100  |  1    |\n",
       "| NR/20 | 1     | 0.6   |  900  | 21    |\n",
       "| NR/20 | 1     | 0.6   | 1000  | 20    |\n",
       "| NR/20 | 1     | 0.6   | 1100  |  2    |\n",
       "| NR/20 | 2     | 0.5   | 1000  |  1    |\n",
       "| NR/20 | 2     | 0.6   |  800  |  1    |\n",
       "| NR/20 | 2     | 0.6   |  900  |  9    |\n",
       "| NR/20 | 2     | 0.6   | 1000  | 13    |\n",
       "| NR/20 | 2     | 0.6   | 1100  |  1    |\n",
       "\n"
      ],
      "text/plain": [
       "   Motif Count_Motif Cat_GC Cat_Len Total_Frag\n",
       "1  NR/20 1           0.5     900     1        \n",
       "2  NR/20 1           0.5    1000     3        \n",
       "3  NR/20 1           0.5    1100     1        \n",
       "4  NR/20 1           0.6     900    21        \n",
       "5  NR/20 1           0.6    1000    20        \n",
       "6  NR/20 1           0.6    1100     2        \n",
       "7  NR/20 2           0.5    1000     1        \n",
       "8  NR/20 2           0.6     800     1        \n",
       "9  NR/20 2           0.6     900     9        \n",
       "10 NR/20 2           0.6    1000    13        \n",
       "11 NR/20 2           0.6    1100     1        "
      ]
     },
     "metadata": {},
     "output_type": "display_data"
    }
   ],
   "source": [
    "tmp = dat_nuc %>% mutate(\n",
    "    Cat_GC  = round(Pct_GC, digits =  1),\n",
    "    Cat_Len = round(Len,    digits = -2))\n",
    "\n",
    "tmp = tmp %>% \n",
    "    group_by(Chrom_Frag, Start_Frag, End_Frag, Count_Frag, Motif, Cat_GC, Cat_Len) %>% \n",
    "    summarize(Count_Motif = n())\n",
    "\n",
    "tmp = tmp %>% group_by(Motif, Count_Motif, Cat_GC, Cat_Len) %>% \n",
    "    summarize(Total_Frag = sum(Count_Frag))\n",
    "\n",
    "tmp"
   ]
  },
  {
   "cell_type": "code",
   "execution_count": null,
   "metadata": {},
   "outputs": [],
   "source": []
  },
  {
   "cell_type": "code",
   "execution_count": null,
   "metadata": {},
   "outputs": [],
   "source": []
  },
  {
   "cell_type": "code",
   "execution_count": null,
   "metadata": {},
   "outputs": [],
   "source": []
  },
  {
   "cell_type": "code",
   "execution_count": 23,
   "metadata": {},
   "outputs": [],
   "source": [
    "ctypes = c(col_character(), col_integer(), col_integer(), col_integer(),\n",
    "           col_character(), col_integer(), col_integer(), col_character(),\n",
    "           col_double(), col_integer())\n",
    "cnames = c(\"Chrom_Frag\",  \"Start_Frag\",  \"End_Frag\",  \"Count_Frag\", \n",
    "           \"Chrom_Motif\", \"Start_Motif\", \"End_Motif\", \"Motif\", \"Score\", \n",
    "           \"Overlap\")\n",
    "\n",
    "target = \"target_PER1\"\n",
    "motif  = \"NR_20\"\n",
    "\n",
    "lst_dat = lapply(idn_samples, function(idn_sample){\n",
    "    fdiry = file.path(FD_DAT, idn_sample)\n",
    "    fname = paste0(target, \"_\", motif, \".bed\")\n",
    "    fpath = file.path(fdiry, fname)\n",
    "    dat   = read_tsv(fpath, col_types=ctypes, col_names=cnames)\n",
    "    dat   = dat %>% mutate(SID = idn_sample)\n",
    "    return(dat)\n",
    "})"
   ]
  },
  {
   "cell_type": "code",
   "execution_count": 24,
   "metadata": {},
   "outputs": [
    {
     "name": "stderr",
     "output_type": "stream",
     "text": [
      "`summarise()` has grouped output by 'Chrom_Frag', 'Start_Frag', 'End_Frag', 'Count_Frag', 'Motif'. You can override using the `.groups` argument.\n",
      "`summarise()` has grouped output by 'SID', 'Motif'. You can override using the `.groups` argument.\n"
     ]
    },
    {
     "data": {
      "text/html": [
       "<table>\n",
       "<thead><tr><th scope=col>SID</th><th scope=col>Motif</th><th scope=col>Count_Motif</th><th scope=col>Total_Frag</th></tr></thead>\n",
       "<tbody>\n",
       "\t<tr><td>Input1   </td><td>NR/20    </td><td>1        </td><td>  48     </td></tr>\n",
       "\t<tr><td>Input1   </td><td>NR/20    </td><td>2        </td><td>  25     </td></tr>\n",
       "\t<tr><td>Input2   </td><td>NR/20    </td><td>1        </td><td>  55     </td></tr>\n",
       "\t<tr><td>Input2   </td><td>NR/20    </td><td>2        </td><td>  24     </td></tr>\n",
       "\t<tr><td>Input3   </td><td>NR/20    </td><td>1        </td><td>  77     </td></tr>\n",
       "\t<tr><td>Input3   </td><td>NR/20    </td><td>2        </td><td>  46     </td></tr>\n",
       "\t<tr><td>Input4   </td><td>NR/20    </td><td>1        </td><td>  62     </td></tr>\n",
       "\t<tr><td>Input4   </td><td>NR/20    </td><td>2        </td><td>  20     </td></tr>\n",
       "\t<tr><td>Input5   </td><td>NR/20    </td><td>1        </td><td>  38     </td></tr>\n",
       "\t<tr><td>Input5   </td><td>NR/20    </td><td>2        </td><td>  18     </td></tr>\n",
       "\t<tr><td>TFX2_Dex </td><td>NR/20    </td><td>1        </td><td>1213     </td></tr>\n",
       "\t<tr><td>TFX2_Dex </td><td>NR/20    </td><td>2        </td><td> 915     </td></tr>\n",
       "\t<tr><td>TFX2_DMSO</td><td>NR/20    </td><td>1        </td><td> 310     </td></tr>\n",
       "\t<tr><td>TFX2_DMSO</td><td>NR/20    </td><td>2        </td><td> 131     </td></tr>\n",
       "\t<tr><td>TFX3_Dex </td><td>NR/20    </td><td>1        </td><td> 727     </td></tr>\n",
       "\t<tr><td>TFX3_Dex </td><td>NR/20    </td><td>2        </td><td> 655     </td></tr>\n",
       "\t<tr><td>TFX3_DMSO</td><td>NR/20    </td><td>1        </td><td> 232     </td></tr>\n",
       "\t<tr><td>TFX3_DMSO</td><td>NR/20    </td><td>2        </td><td>  98     </td></tr>\n",
       "\t<tr><td>TFX4_Dex </td><td>NR/20    </td><td>1        </td><td> 970     </td></tr>\n",
       "\t<tr><td>TFX4_Dex </td><td>NR/20    </td><td>2        </td><td> 843     </td></tr>\n",
       "\t<tr><td>TFX4_DMSO</td><td>NR/20    </td><td>1        </td><td> 169     </td></tr>\n",
       "\t<tr><td>TFX4_DMSO</td><td>NR/20    </td><td>2        </td><td> 111     </td></tr>\n",
       "\t<tr><td>TFX5_Dex </td><td>NR/20    </td><td>1        </td><td>1194     </td></tr>\n",
       "\t<tr><td>TFX5_Dex </td><td>NR/20    </td><td>2        </td><td>1244     </td></tr>\n",
       "\t<tr><td>TFX5_DMSO</td><td>NR/20    </td><td>1        </td><td> 302     </td></tr>\n",
       "\t<tr><td>TFX5_DMSO</td><td>NR/20    </td><td>2        </td><td> 180     </td></tr>\n",
       "</tbody>\n",
       "</table>\n"
      ],
      "text/latex": [
       "\\begin{tabular}{r|llll}\n",
       " SID & Motif & Count\\_Motif & Total\\_Frag\\\\\n",
       "\\hline\n",
       "\t Input1    & NR/20     & 1         &   48     \\\\\n",
       "\t Input1    & NR/20     & 2         &   25     \\\\\n",
       "\t Input2    & NR/20     & 1         &   55     \\\\\n",
       "\t Input2    & NR/20     & 2         &   24     \\\\\n",
       "\t Input3    & NR/20     & 1         &   77     \\\\\n",
       "\t Input3    & NR/20     & 2         &   46     \\\\\n",
       "\t Input4    & NR/20     & 1         &   62     \\\\\n",
       "\t Input4    & NR/20     & 2         &   20     \\\\\n",
       "\t Input5    & NR/20     & 1         &   38     \\\\\n",
       "\t Input5    & NR/20     & 2         &   18     \\\\\n",
       "\t TFX2\\_Dex  & NR/20       & 1           & 1213       \\\\\n",
       "\t TFX2\\_Dex  & NR/20       & 2           &  915       \\\\\n",
       "\t TFX2\\_DMSO & NR/20       & 1           &  310       \\\\\n",
       "\t TFX2\\_DMSO & NR/20       & 2           &  131       \\\\\n",
       "\t TFX3\\_Dex  & NR/20       & 1           &  727       \\\\\n",
       "\t TFX3\\_Dex  & NR/20       & 2           &  655       \\\\\n",
       "\t TFX3\\_DMSO & NR/20       & 1           &  232       \\\\\n",
       "\t TFX3\\_DMSO & NR/20       & 2           &   98       \\\\\n",
       "\t TFX4\\_Dex  & NR/20       & 1           &  970       \\\\\n",
       "\t TFX4\\_Dex  & NR/20       & 2           &  843       \\\\\n",
       "\t TFX4\\_DMSO & NR/20       & 1           &  169       \\\\\n",
       "\t TFX4\\_DMSO & NR/20       & 2           &  111       \\\\\n",
       "\t TFX5\\_Dex  & NR/20       & 1           & 1194       \\\\\n",
       "\t TFX5\\_Dex  & NR/20       & 2           & 1244       \\\\\n",
       "\t TFX5\\_DMSO & NR/20       & 1           &  302       \\\\\n",
       "\t TFX5\\_DMSO & NR/20       & 2           &  180       \\\\\n",
       "\\end{tabular}\n"
      ],
      "text/markdown": [
       "\n",
       "| SID | Motif | Count_Motif | Total_Frag |\n",
       "|---|---|---|---|\n",
       "| Input1    | NR/20     | 1         |   48      |\n",
       "| Input1    | NR/20     | 2         |   25      |\n",
       "| Input2    | NR/20     | 1         |   55      |\n",
       "| Input2    | NR/20     | 2         |   24      |\n",
       "| Input3    | NR/20     | 1         |   77      |\n",
       "| Input3    | NR/20     | 2         |   46      |\n",
       "| Input4    | NR/20     | 1         |   62      |\n",
       "| Input4    | NR/20     | 2         |   20      |\n",
       "| Input5    | NR/20     | 1         |   38      |\n",
       "| Input5    | NR/20     | 2         |   18      |\n",
       "| TFX2_Dex  | NR/20     | 1         | 1213      |\n",
       "| TFX2_Dex  | NR/20     | 2         |  915      |\n",
       "| TFX2_DMSO | NR/20     | 1         |  310      |\n",
       "| TFX2_DMSO | NR/20     | 2         |  131      |\n",
       "| TFX3_Dex  | NR/20     | 1         |  727      |\n",
       "| TFX3_Dex  | NR/20     | 2         |  655      |\n",
       "| TFX3_DMSO | NR/20     | 1         |  232      |\n",
       "| TFX3_DMSO | NR/20     | 2         |   98      |\n",
       "| TFX4_Dex  | NR/20     | 1         |  970      |\n",
       "| TFX4_Dex  | NR/20     | 2         |  843      |\n",
       "| TFX4_DMSO | NR/20     | 1         |  169      |\n",
       "| TFX4_DMSO | NR/20     | 2         |  111      |\n",
       "| TFX5_Dex  | NR/20     | 1         | 1194      |\n",
       "| TFX5_Dex  | NR/20     | 2         | 1244      |\n",
       "| TFX5_DMSO | NR/20     | 1         |  302      |\n",
       "| TFX5_DMSO | NR/20     | 2         |  180      |\n",
       "\n"
      ],
      "text/plain": [
       "   SID       Motif Count_Motif Total_Frag\n",
       "1  Input1    NR/20 1             48      \n",
       "2  Input1    NR/20 2             25      \n",
       "3  Input2    NR/20 1             55      \n",
       "4  Input2    NR/20 2             24      \n",
       "5  Input3    NR/20 1             77      \n",
       "6  Input3    NR/20 2             46      \n",
       "7  Input4    NR/20 1             62      \n",
       "8  Input4    NR/20 2             20      \n",
       "9  Input5    NR/20 1             38      \n",
       "10 Input5    NR/20 2             18      \n",
       "11 TFX2_Dex  NR/20 1           1213      \n",
       "12 TFX2_Dex  NR/20 2            915      \n",
       "13 TFX2_DMSO NR/20 1            310      \n",
       "14 TFX2_DMSO NR/20 2            131      \n",
       "15 TFX3_Dex  NR/20 1            727      \n",
       "16 TFX3_Dex  NR/20 2            655      \n",
       "17 TFX3_DMSO NR/20 1            232      \n",
       "18 TFX3_DMSO NR/20 2             98      \n",
       "19 TFX4_Dex  NR/20 1            970      \n",
       "20 TFX4_Dex  NR/20 2            843      \n",
       "21 TFX4_DMSO NR/20 1            169      \n",
       "22 TFX4_DMSO NR/20 2            111      \n",
       "23 TFX5_Dex  NR/20 1           1194      \n",
       "24 TFX5_Dex  NR/20 2           1244      \n",
       "25 TFX5_DMSO NR/20 1            302      \n",
       "26 TFX5_DMSO NR/20 2            180      "
      ]
     },
     "metadata": {},
     "output_type": "display_data"
    }
   ],
   "source": [
    "dat = bind_rows(lst_dat)\n",
    "dat = dat %>% \n",
    "    group_by(Chrom_Frag, Start_Frag, End_Frag, Count_Frag, Motif, SID) %>% \n",
    "    summarize(Count_Motif = n())\n",
    "dat = dat %>% group_by(SID, Motif, Count_Motif) %>% \n",
    "    summarize(Total_Frag = sum(Count_Frag))\n",
    "dat"
   ]
  },
  {
   "cell_type": "code",
   "execution_count": 25,
   "metadata": {},
   "outputs": [],
   "source": [
    "get_sample = function(idn){\n",
    "    if(grepl(pattern = \"Input\", x = idn)){return(\"Input\")}\n",
    "    if(grepl(pattern = \"DMSO\",  x = idn)){return(\"DMSO\")}\n",
    "    if(grepl(pattern = \"Dex\",   x = idn)){return(\"Dex\")}\n",
    "}"
   ]
  },
  {
   "cell_type": "code",
   "execution_count": 26,
   "metadata": {},
   "outputs": [
    {
     "data": {
      "text/html": [
       "<table>\n",
       "<thead><tr><th scope=col>SID</th><th scope=col>Motif</th><th scope=col>Count_Motif</th><th scope=col>Total_Frag</th><th scope=col>Sample</th></tr></thead>\n",
       "<tbody>\n",
       "\t<tr><td>Input1   </td><td>NR/20    </td><td>1        </td><td>  48     </td><td>Input    </td></tr>\n",
       "\t<tr><td>Input1   </td><td>NR/20    </td><td>2        </td><td>  25     </td><td>Input    </td></tr>\n",
       "\t<tr><td>Input2   </td><td>NR/20    </td><td>1        </td><td>  55     </td><td>Input    </td></tr>\n",
       "\t<tr><td>Input2   </td><td>NR/20    </td><td>2        </td><td>  24     </td><td>Input    </td></tr>\n",
       "\t<tr><td>Input3   </td><td>NR/20    </td><td>1        </td><td>  77     </td><td>Input    </td></tr>\n",
       "\t<tr><td>Input3   </td><td>NR/20    </td><td>2        </td><td>  46     </td><td>Input    </td></tr>\n",
       "\t<tr><td>Input4   </td><td>NR/20    </td><td>1        </td><td>  62     </td><td>Input    </td></tr>\n",
       "\t<tr><td>Input4   </td><td>NR/20    </td><td>2        </td><td>  20     </td><td>Input    </td></tr>\n",
       "\t<tr><td>Input5   </td><td>NR/20    </td><td>1        </td><td>  38     </td><td>Input    </td></tr>\n",
       "\t<tr><td>Input5   </td><td>NR/20    </td><td>2        </td><td>  18     </td><td>Input    </td></tr>\n",
       "\t<tr><td>TFX2_Dex </td><td>NR/20    </td><td>1        </td><td>1213     </td><td>Dex      </td></tr>\n",
       "\t<tr><td>TFX2_Dex </td><td>NR/20    </td><td>2        </td><td> 915     </td><td>Dex      </td></tr>\n",
       "\t<tr><td>TFX2_DMSO</td><td>NR/20    </td><td>1        </td><td> 310     </td><td>DMSO     </td></tr>\n",
       "\t<tr><td>TFX2_DMSO</td><td>NR/20    </td><td>2        </td><td> 131     </td><td>DMSO     </td></tr>\n",
       "\t<tr><td>TFX3_Dex </td><td>NR/20    </td><td>1        </td><td> 727     </td><td>Dex      </td></tr>\n",
       "\t<tr><td>TFX3_Dex </td><td>NR/20    </td><td>2        </td><td> 655     </td><td>Dex      </td></tr>\n",
       "\t<tr><td>TFX3_DMSO</td><td>NR/20    </td><td>1        </td><td> 232     </td><td>DMSO     </td></tr>\n",
       "\t<tr><td>TFX3_DMSO</td><td>NR/20    </td><td>2        </td><td>  98     </td><td>DMSO     </td></tr>\n",
       "\t<tr><td>TFX4_Dex </td><td>NR/20    </td><td>1        </td><td> 970     </td><td>Dex      </td></tr>\n",
       "\t<tr><td>TFX4_Dex </td><td>NR/20    </td><td>2        </td><td> 843     </td><td>Dex      </td></tr>\n",
       "\t<tr><td>TFX4_DMSO</td><td>NR/20    </td><td>1        </td><td> 169     </td><td>DMSO     </td></tr>\n",
       "\t<tr><td>TFX4_DMSO</td><td>NR/20    </td><td>2        </td><td> 111     </td><td>DMSO     </td></tr>\n",
       "\t<tr><td>TFX5_Dex </td><td>NR/20    </td><td>1        </td><td>1194     </td><td>Dex      </td></tr>\n",
       "\t<tr><td>TFX5_Dex </td><td>NR/20    </td><td>2        </td><td>1244     </td><td>Dex      </td></tr>\n",
       "\t<tr><td>TFX5_DMSO</td><td>NR/20    </td><td>1        </td><td> 302     </td><td>DMSO     </td></tr>\n",
       "\t<tr><td>TFX5_DMSO</td><td>NR/20    </td><td>2        </td><td> 180     </td><td>DMSO     </td></tr>\n",
       "</tbody>\n",
       "</table>\n"
      ],
      "text/latex": [
       "\\begin{tabular}{r|lllll}\n",
       " SID & Motif & Count\\_Motif & Total\\_Frag & Sample\\\\\n",
       "\\hline\n",
       "\t Input1    & NR/20     & 1         &   48      & Input    \\\\\n",
       "\t Input1    & NR/20     & 2         &   25      & Input    \\\\\n",
       "\t Input2    & NR/20     & 1         &   55      & Input    \\\\\n",
       "\t Input2    & NR/20     & 2         &   24      & Input    \\\\\n",
       "\t Input3    & NR/20     & 1         &   77      & Input    \\\\\n",
       "\t Input3    & NR/20     & 2         &   46      & Input    \\\\\n",
       "\t Input4    & NR/20     & 1         &   62      & Input    \\\\\n",
       "\t Input4    & NR/20     & 2         &   20      & Input    \\\\\n",
       "\t Input5    & NR/20     & 1         &   38      & Input    \\\\\n",
       "\t Input5    & NR/20     & 2         &   18      & Input    \\\\\n",
       "\t TFX2\\_Dex  & NR/20       & 1           & 1213        & Dex        \\\\\n",
       "\t TFX2\\_Dex  & NR/20       & 2           &  915        & Dex        \\\\\n",
       "\t TFX2\\_DMSO & NR/20       & 1           &  310        & DMSO       \\\\\n",
       "\t TFX2\\_DMSO & NR/20       & 2           &  131        & DMSO       \\\\\n",
       "\t TFX3\\_Dex  & NR/20       & 1           &  727        & Dex        \\\\\n",
       "\t TFX3\\_Dex  & NR/20       & 2           &  655        & Dex        \\\\\n",
       "\t TFX3\\_DMSO & NR/20       & 1           &  232        & DMSO       \\\\\n",
       "\t TFX3\\_DMSO & NR/20       & 2           &   98        & DMSO       \\\\\n",
       "\t TFX4\\_Dex  & NR/20       & 1           &  970        & Dex        \\\\\n",
       "\t TFX4\\_Dex  & NR/20       & 2           &  843        & Dex        \\\\\n",
       "\t TFX4\\_DMSO & NR/20       & 1           &  169        & DMSO       \\\\\n",
       "\t TFX4\\_DMSO & NR/20       & 2           &  111        & DMSO       \\\\\n",
       "\t TFX5\\_Dex  & NR/20       & 1           & 1194        & Dex        \\\\\n",
       "\t TFX5\\_Dex  & NR/20       & 2           & 1244        & Dex        \\\\\n",
       "\t TFX5\\_DMSO & NR/20       & 1           &  302        & DMSO       \\\\\n",
       "\t TFX5\\_DMSO & NR/20       & 2           &  180        & DMSO       \\\\\n",
       "\\end{tabular}\n"
      ],
      "text/markdown": [
       "\n",
       "| SID | Motif | Count_Motif | Total_Frag | Sample |\n",
       "|---|---|---|---|---|\n",
       "| Input1    | NR/20     | 1         |   48      | Input     |\n",
       "| Input1    | NR/20     | 2         |   25      | Input     |\n",
       "| Input2    | NR/20     | 1         |   55      | Input     |\n",
       "| Input2    | NR/20     | 2         |   24      | Input     |\n",
       "| Input3    | NR/20     | 1         |   77      | Input     |\n",
       "| Input3    | NR/20     | 2         |   46      | Input     |\n",
       "| Input4    | NR/20     | 1         |   62      | Input     |\n",
       "| Input4    | NR/20     | 2         |   20      | Input     |\n",
       "| Input5    | NR/20     | 1         |   38      | Input     |\n",
       "| Input5    | NR/20     | 2         |   18      | Input     |\n",
       "| TFX2_Dex  | NR/20     | 1         | 1213      | Dex       |\n",
       "| TFX2_Dex  | NR/20     | 2         |  915      | Dex       |\n",
       "| TFX2_DMSO | NR/20     | 1         |  310      | DMSO      |\n",
       "| TFX2_DMSO | NR/20     | 2         |  131      | DMSO      |\n",
       "| TFX3_Dex  | NR/20     | 1         |  727      | Dex       |\n",
       "| TFX3_Dex  | NR/20     | 2         |  655      | Dex       |\n",
       "| TFX3_DMSO | NR/20     | 1         |  232      | DMSO      |\n",
       "| TFX3_DMSO | NR/20     | 2         |   98      | DMSO      |\n",
       "| TFX4_Dex  | NR/20     | 1         |  970      | Dex       |\n",
       "| TFX4_Dex  | NR/20     | 2         |  843      | Dex       |\n",
       "| TFX4_DMSO | NR/20     | 1         |  169      | DMSO      |\n",
       "| TFX4_DMSO | NR/20     | 2         |  111      | DMSO      |\n",
       "| TFX5_Dex  | NR/20     | 1         | 1194      | Dex       |\n",
       "| TFX5_Dex  | NR/20     | 2         | 1244      | Dex       |\n",
       "| TFX5_DMSO | NR/20     | 1         |  302      | DMSO      |\n",
       "| TFX5_DMSO | NR/20     | 2         |  180      | DMSO      |\n",
       "\n"
      ],
      "text/plain": [
       "   SID       Motif Count_Motif Total_Frag Sample\n",
       "1  Input1    NR/20 1             48       Input \n",
       "2  Input1    NR/20 2             25       Input \n",
       "3  Input2    NR/20 1             55       Input \n",
       "4  Input2    NR/20 2             24       Input \n",
       "5  Input3    NR/20 1             77       Input \n",
       "6  Input3    NR/20 2             46       Input \n",
       "7  Input4    NR/20 1             62       Input \n",
       "8  Input4    NR/20 2             20       Input \n",
       "9  Input5    NR/20 1             38       Input \n",
       "10 Input5    NR/20 2             18       Input \n",
       "11 TFX2_Dex  NR/20 1           1213       Dex   \n",
       "12 TFX2_Dex  NR/20 2            915       Dex   \n",
       "13 TFX2_DMSO NR/20 1            310       DMSO  \n",
       "14 TFX2_DMSO NR/20 2            131       DMSO  \n",
       "15 TFX3_Dex  NR/20 1            727       Dex   \n",
       "16 TFX3_Dex  NR/20 2            655       Dex   \n",
       "17 TFX3_DMSO NR/20 1            232       DMSO  \n",
       "18 TFX3_DMSO NR/20 2             98       DMSO  \n",
       "19 TFX4_Dex  NR/20 1            970       Dex   \n",
       "20 TFX4_Dex  NR/20 2            843       Dex   \n",
       "21 TFX4_DMSO NR/20 1            169       DMSO  \n",
       "22 TFX4_DMSO NR/20 2            111       DMSO  \n",
       "23 TFX5_Dex  NR/20 1           1194       Dex   \n",
       "24 TFX5_Dex  NR/20 2           1244       Dex   \n",
       "25 TFX5_DMSO NR/20 1            302       DMSO  \n",
       "26 TFX5_DMSO NR/20 2            180       DMSO  "
      ]
     },
     "metadata": {},
     "output_type": "display_data"
    }
   ],
   "source": [
    "tmp = dat %>% rowwise() %>% mutate(Sample = get_sample(SID))\n",
    "tmp"
   ]
  },
  {
   "cell_type": "code",
   "execution_count": 36,
   "metadata": {},
   "outputs": [
    {
     "data": {
      "image/png": "[encoded data removed]",
      "text/plain": [
       "plot without title"
      ]
     },
     "metadata": {},
     "output_type": "display_data"
    }
   ],
   "source": [
    "options(repr.plot.height=3, repr.plot.width=8)\n",
    "ggplot(tmp, aes(x=Count_Motif, y=Total_Frag)) + \n",
    "    geom_jitter(width = 0.1) + \n",
    "    scale_x_continuous(breaks = c(0, 1, 2)) +\n",
    "    facet_grid(.~Sample) + \n",
    "    theme_bw()"
   ]
  },
  {
   "cell_type": "code",
   "execution_count": null,
   "metadata": {},
   "outputs": [],
   "source": []
  }
 ],
 "metadata": {
  "kernelspec": {
   "display_name": "R",
   "language": "R",
   "name": "ir"
  },
  "language_info": {
   "codemirror_mode": "r",
   "file_extension": ".r",
   "mimetype": "text/x-r-source",
   "name": "R",
   "pygments_lexer": "r",
   "version": "4.1.1"
  }
 },
 "nbformat": 4,
 "nbformat_minor": 5
}
