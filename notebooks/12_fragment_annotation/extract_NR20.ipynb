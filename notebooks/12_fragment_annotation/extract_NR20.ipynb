{
 "cells": [
  {
   "cell_type": "code",
   "execution_count": 1,
   "id": "0b2c887b-f690-4f21-a8ed-926c90e0feb9",
   "metadata": {},
   "outputs": [
    {
     "name": "stdout",
     "output_type": "stream",
     "text": [
      "You are on Duke Server: DCC\n",
      "BASE DIRECTORY:     /work/kk319\n",
      "WORK DIRECTORY:     /work/kk319/out/CombEffect_STARR\n",
      "LOG  DIRECTORY:     /work/kk319/out/CombEffect_STARR/log\n",
      "PATH OF SOURCE:     /work/kk319/source\n",
      "PATH OF EXECUTABLE: /work/kk319/exe\n",
      "PATH OF ANNOTATION: /work/kk319/annotation\n",
      "\n"
     ]
    }
   ],
   "source": [
    "source ../config_duke.sh"
   ]
  },
  {
   "cell_type": "code",
   "execution_count": 4,
   "id": "ad1d00ca-43bc-4443-9801-ecda7e3e5333",
   "metadata": {},
   "outputs": [
    {
     "name": "stdout",
     "output_type": "stream",
     "text": [
      "\u001b[0m\u001b[01;34mInput\u001b[0m   \u001b[01;34mInput2\u001b[0m  \u001b[01;34mInput4\u001b[0m  \u001b[01;34mTFX2_DMSO\u001b[0m  \u001b[01;34mTFX3_DMSO\u001b[0m  \u001b[01;34mTFX4_DMSO\u001b[0m  \u001b[01;34mTFX5_DMSO\u001b[0m  \u001b[01;34mTFX_DMSO\u001b[0m\n",
      "\u001b[01;34mInput1\u001b[0m  \u001b[01;34mInput3\u001b[0m  \u001b[01;34mInput5\u001b[0m  \u001b[01;34mTFX2_Dex\u001b[0m   \u001b[01;34mTFX3_Dex\u001b[0m   \u001b[01;34mTFX4_Dex\u001b[0m   \u001b[01;34mTFX5_Dex\u001b[0m   \u001b[01;34mTFX_Dex\u001b[0m\n"
     ]
    }
   ],
   "source": [
    "ls ${FD_WRK}/annotation_fragment"
   ]
  },
  {
   "cell_type": "code",
   "execution_count": 6,
   "id": "9a4ed98d-3afe-4221-8e42-09eacb0314a3",
   "metadata": {},
   "outputs": [
    {
     "name": "stdout",
     "output_type": "stream",
     "text": [
      "/work/kk319/out/CombEffect_STARR/annotation_fragment/Input1/chr1.bed\n",
      "/work/kk319/out/CombEffect_STARR/annotation_fragment/Input1/chr10.bed\n",
      "/work/kk319/out/CombEffect_STARR/annotation_fragment/Input1/chr11.bed\n",
      "/work/kk319/out/CombEffect_STARR/annotation_fragment/Input1/chr12.bed\n",
      "/work/kk319/out/CombEffect_STARR/annotation_fragment/Input1/chr13.bed\n",
      "/work/kk319/out/CombEffect_STARR/annotation_fragment/Input1/chr14.bed\n",
      "/work/kk319/out/CombEffect_STARR/annotation_fragment/Input1/chr15.bed\n",
      "/work/kk319/out/CombEffect_STARR/annotation_fragment/Input1/chr16.bed\n",
      "/work/kk319/out/CombEffect_STARR/annotation_fragment/Input1/chr17.bed\n",
      "\u001b[0m\u001b[01;31m/work/kk319/out/CombEffect_STARR/annotation_fragment/Input1/chr17.bed.gz\u001b[0m\n",
      "/work/kk319/out/CombEffect_STARR/annotation_fragment/Input1/chr18.bed\n",
      "/work/kk319/out/CombEffect_STARR/annotation_fragment/Input1/chr19.bed\n",
      "/work/kk319/out/CombEffect_STARR/annotation_fragment/Input1/chr2.bed\n",
      "/work/kk319/out/CombEffect_STARR/annotation_fragment/Input1/chr20.bed\n",
      "/work/kk319/out/CombEffect_STARR/annotation_fragment/Input1/chr21.bed\n",
      "/work/kk319/out/CombEffect_STARR/annotation_fragment/Input1/chr22.bed\n",
      "/work/kk319/out/CombEffect_STARR/annotation_fragment/Input1/chr3.bed\n",
      "/work/kk319/out/CombEffect_STARR/annotation_fragment/Input1/chr4.bed\n",
      "/work/kk319/out/CombEffect_STARR/annotation_fragment/Input1/chr5.bed\n",
      "/work/kk319/out/CombEffect_STARR/annotation_fragment/Input1/chr6.bed\n",
      "/work/kk319/out/CombEffect_STARR/annotation_fragment/Input1/chr7.bed\n",
      "/work/kk319/out/CombEffect_STARR/annotation_fragment/Input1/chr8.bed\n",
      "/work/kk319/out/CombEffect_STARR/annotation_fragment/Input1/chr9.bed\n",
      "/work/kk319/out/CombEffect_STARR/annotation_fragment/Input1/chrX.bed\n",
      "/work/kk319/out/CombEffect_STARR/annotation_fragment/Input1/chrY.bed\n"
     ]
    }
   ],
   "source": [
    "ls ${FD_WRK}/annotation_fragment/Input1/chr*"
   ]
  },
  {
   "cell_type": "code",
   "execution_count": 7,
   "id": "d055fe60-6a9c-4f65-9f0d-c93d06341f47",
   "metadata": {},
   "outputs": [
    {
     "name": "stdout",
     "output_type": "stream",
     "text": [
      "chr17\t201123\t201925\t1\tchr17\t201116\t201126\tNFKB/1\t9.0328\t3\n",
      "chr17\t201123\t201925\t1\tchr17\t201136\t201152\tMZF1\t9.0967\t16\n",
      "chr17\t201123\t201925\t1\tchr17\t201138\t201148\tNFKB/1\t8.1413\t10\n",
      "chr17\t201123\t201925\t1\tchr17\t201141\t201154\tSPDEF/1\t4.4219\t13\n",
      "chr17\t201123\t201925\t1\tchr17\t201145\t201160\tCENBP\t9.3664\t15\n",
      "chr17\t201123\t201925\t1\tchr17\t201150\t201171\tGRHL\t7.965733333\t21\n",
      "chr17\t201123\t201925\t1\tchr17\t201153\t201162\tCCAAT/CEBP\t7.8645\t9\n",
      "chr17\t201123\t201925\t1\tchr17\t201168\t201179\tBCL6/2\t8.3878\t11\n",
      "chr17\t201123\t201925\t1\tchr17\t201171\t201183\tNFAC/2\t7.809\t12\n",
      "chr17\t201123\t201925\t1\tchr17\t201173\t201182\tNFAT/1\t9.5126\t9\n"
     ]
    }
   ],
   "source": [
    "head ${FD_WRK}/annotation_fragment/Input1/chr17.bed"
   ]
  },
  {
   "cell_type": "code",
   "execution_count": null,
   "id": "70f0512c-1b05-462c-b40a-d80f2f603595",
   "metadata": {},
   "outputs": [],
   "source": [
    "CHROM=chr17\n",
    "FD_BEDS=($(ls -d ${FD_WRK}/annotation_fragment/*/))"
   ]
  },
  {
   "cell_type": "code",
   "execution_count": null,
   "id": "6c19ec22-d6c6-44c0-86f7-6772f37d8b26",
   "metadata": {},
   "outputs": [],
   "source": []
  },
  {
   "cell_type": "code",
   "execution_count": null,
   "id": "77a18093-45ab-4a2e-8d14-e20b2a0c19af",
   "metadata": {},
   "outputs": [],
   "source": []
  },
  {
   "cell_type": "code",
   "execution_count": null,
   "id": "18b47e31-ea95-42e2-8ff7-acd1ddbc25c6",
   "metadata": {},
   "outputs": [],
   "source": [
    "awk -F $'\\t' '($2 >= 8148000 && $2 <= 8160000)'"
   ]
  },
  {
   "cell_type": "code",
   "execution_count": null,
   "id": "33834caf-0a64-4770-a8dc-b93dc764adc4",
   "metadata": {},
   "outputs": [],
   "source": []
  },
  {
   "cell_type": "code",
   "execution_count": 9,
   "id": "93147793-077c-4bd1-a76d-b7cf6ffc21e8",
   "metadata": {},
   "outputs": [
    {
     "name": "stdout",
     "output_type": "stream",
     "text": [
      "NFKB/1\n",
      "NFKB_1\n",
      "chr17\t201123\t201925\t1\tchr17\t201116\t201126\tNFKB/1\t9.0328\t3\n",
      "chr17\t201123\t201925\t1\tchr17\t201138\t201148\tNFKB/1\t8.1413\t10\n"
     ]
    }
   ],
   "source": [
    "MOTIF=NFKB/1\n",
    "FNAME=$(echo ${MOTIF} | sed -e 's/\\//_/g')\n",
    "echo ${MOTIF}\n",
    "echo ${FNAME}\n",
    "head ${FD_WRK}/annotation_fragment/Input1/chr17.bed |\\\n",
    "    awk -F $'\\t' -v MOTIF=${MOTIF} '($8 == MOTIF)'"
   ]
  },
  {
   "cell_type": "code",
   "execution_count": null,
   "id": "77900221-24f1-46d0-ae77-eb89348aaef4",
   "metadata": {},
   "outputs": [],
   "source": []
  },
  {
   "cell_type": "code",
   "execution_count": null,
   "id": "672650b1-e04f-4d18-aa17-007f0303a582",
   "metadata": {},
   "outputs": [],
   "source": []
  },
  {
   "cell_type": "code",
   "execution_count": 10,
   "id": "c5df2e35-97c0-4200-b7c2-8af20c5a59e8",
   "metadata": {},
   "outputs": [
    {
     "name": "stdout",
     "output_type": "stream",
     "text": [
      "You are on Duke Server: DCC\n",
      "BASE DIRECTORY:     /work/kk319\n",
      "WORK DIRECTORY:     /work/kk319/out/CombEffect_STARR\n",
      "LOG  DIRECTORY:     /work/kk319/out/CombEffect_STARR/log\n",
      "PATH OF SOURCE:     /work/kk319/source\n",
      "PATH OF EXECUTABLE: /work/kk319/exe\n",
      "PATH OF ANNOTATION: /work/kk319/annotation\n",
      "\n",
      "You are on Duke Server: DCC\n",
      "Bedtools 2.27.1\u001b[m\n",
      "\u001b[K\u001b[?1l\u001b>Submitted batch job 15214030\n"
     ]
    }
   ],
   "source": [
    "source ../config_duke.sh\n",
    "source ../load_module_bedtools.sh\n",
    "\n",
    "sbatch -p scavenger \\\n",
    "    --array 0-23 \\\n",
    "    --mem 8G \\\n",
    "    -o ${FD_LOG}/filter_annotation_fragment_chrom_NR20.%a.txt \\\n",
    "    <<'EOF'\n",
    "#!/bin/bash\n",
    "### set directories & global variables\n",
    "source ../config_duke.sh\n",
    "CHROMS=($(seq 1 22) X Y)\n",
    "CHROM=chr${CHROMS[${SLURM_ARRAY_TASK_ID}]}\n",
    "MOTIF=NR/20\n",
    "FNAME=$(echo ${MOTIF} | sed -e 's/\\//_/g')\n",
    "\n",
    "### set input and output\n",
    "FD_BEDS=($(ls -d ${FD_WRK}/annotation_fragment/*/))\n",
    "FN_BED=${CHROM}.bed\n",
    "\n",
    "### print start message\n",
    "echo \"Slurm Array Index: \" ${SLURM_ARRAY_TASK_ID}\n",
    "\n",
    "### loop through each sample and count each fragment of a chromosome\n",
    "echo \"RUN: loop through samples; count fragment\"\n",
    "\n",
    "for FD_BED in ${FD_BEDS[@]}; do\n",
    "    #SAMPLE=$(basename ${FD_BED})\n",
    "    #FD_OUT=${FD_WRK}/coverage/${SAMPLE}\n",
    "    FD_OUT=${FD_BED}\n",
    "    FN_OUT=${FNAME}_${CHROM}.txt\n",
    "    \n",
    "    ### START Message\n",
    "    echo ++++++++++++++++++++++++++++++++++++++++++++++++\n",
    "    echo \"Input  file: \" ${FD_BED}/${FN_BED}\n",
    "    echo \"Output file: \" ${FD_OUT}/${FN_OUT}\n",
    "    echo\n",
    "    echo \"Show the first few lines of the input file\"\n",
    "    echo ${FD_BED}/${FN_BED}\n",
    "    head -n 3 ${FD_BED}/${FN_BED}\n",
    "    echo\n",
    "    echo \"Show the last few lines of the input file\"\n",
    "    echo ${FD_BED}/${FN_BED}\n",
    "    tail -n 3 ${FD_BED}/${FN_BED}\n",
    "    echo\n",
    "    \n",
    "    ### filter out the specified motif and given chromosome for each sample\n",
    "    cat ${FD_BED}/${FN_BED} | awk -F $'\\t' -v MOTIF=${MOTIF} '($8 == MOTIF)' > ${FD_OUT}/${FN_OUT}\n",
    "    \n",
    "    ### END Message\n",
    "    echo\n",
    "    echo \"Show the first few lines of the output file\"\n",
    "    echo ${FD_OUT}/${FN_OUT}\n",
    "    head -n 3 ${FD_OUT}/${FN_OUT}\n",
    "    echo\n",
    "    echo \"Show the last few lines of the output file\"\n",
    "    echo ${FD_OUT}/${FN_OUT}\n",
    "    tail -n 3 ${FD_OUT}/${FN_OUT}\n",
    "    echo\n",
    "done\n",
    "echo Done!\n",
    "EOF"
   ]
  },
  {
   "cell_type": "code",
   "execution_count": 12,
   "id": "9ce744af-1d82-43d8-a050-7036fc5ef73f",
   "metadata": {},
   "outputs": [
    {
     "name": "stdout",
     "output_type": "stream",
     "text": [
      "/work/kk319/out/CombEffect_STARR/log/filter_annotation_fragment_chrom_NR20.23.txt\n"
     ]
    }
   ],
   "source": [
    "readlink -f ${FD_LOG}/filter_annotation_fragment_chrom_NR20.23.txt"
   ]
  },
  {
   "cell_type": "code",
   "execution_count": null,
   "id": "d1dc945a-322b-466d-9024-75ba9fb1b280",
   "metadata": {},
   "outputs": [],
   "source": []
  },
  {
   "cell_type": "code",
   "execution_count": 1,
   "id": "0d19477f-b6b2-42e8-a16f-dfc0ba01aa22",
   "metadata": {},
   "outputs": [
    {
     "name": "stdout",
     "output_type": "stream",
     "text": [
      "You are on Duke Server: DCC\n",
      "BASE DIRECTORY:     /work/kk319\n",
      "WORK DIRECTORY:     /work/kk319/out/CombEffect_STARR\n",
      "LOG  DIRECTORY:     /work/kk319/out/CombEffect_STARR/log\n",
      "PATH OF SOURCE:     /work/kk319/source\n",
      "PATH OF EXECUTABLE: /work/kk319/exe\n",
      "PATH OF ANNOTATION: /work/kk319/annotation\n",
      "\n"
     ]
    }
   ],
   "source": [
    "source ../config_duke.sh"
   ]
  },
  {
   "cell_type": "code",
   "execution_count": 2,
   "id": "a0679e25-fe2e-4c52-b328-5d291c0ccaa2",
   "metadata": {},
   "outputs": [],
   "source": [
    "FD_BED=${FD_WRK}/annotation_fragment/Input1"
   ]
  },
  {
   "cell_type": "code",
   "execution_count": 3,
   "id": "09312ac3-56a3-4347-a677-1e337ee163c1",
   "metadata": {},
   "outputs": [
    {
     "name": "stdout",
     "output_type": "stream",
     "text": [
      "/work/kk319/out/CombEffect_STARR/annotation_fragment/Input1/NR_20_chr1.txt\n",
      "/work/kk319/out/CombEffect_STARR/annotation_fragment/Input1/NR_20_chr10.txt\n",
      "/work/kk319/out/CombEffect_STARR/annotation_fragment/Input1/NR_20_chr11.txt\n",
      "/work/kk319/out/CombEffect_STARR/annotation_fragment/Input1/NR_20_chr12.txt\n",
      "/work/kk319/out/CombEffect_STARR/annotation_fragment/Input1/NR_20_chr13.txt\n",
      "/work/kk319/out/CombEffect_STARR/annotation_fragment/Input1/NR_20_chr14.txt\n",
      "/work/kk319/out/CombEffect_STARR/annotation_fragment/Input1/NR_20_chr15.txt\n",
      "/work/kk319/out/CombEffect_STARR/annotation_fragment/Input1/NR_20_chr16.txt\n",
      "/work/kk319/out/CombEffect_STARR/annotation_fragment/Input1/NR_20_chr17.txt\n",
      "/work/kk319/out/CombEffect_STARR/annotation_fragment/Input1/NR_20_chr18.txt\n",
      "/work/kk319/out/CombEffect_STARR/annotation_fragment/Input1/NR_20_chr19.txt\n",
      "/work/kk319/out/CombEffect_STARR/annotation_fragment/Input1/NR_20_chr2.txt\n",
      "/work/kk319/out/CombEffect_STARR/annotation_fragment/Input1/NR_20_chr20.txt\n",
      "/work/kk319/out/CombEffect_STARR/annotation_fragment/Input1/NR_20_chr21.txt\n",
      "/work/kk319/out/CombEffect_STARR/annotation_fragment/Input1/NR_20_chr22.txt\n",
      "/work/kk319/out/CombEffect_STARR/annotation_fragment/Input1/NR_20_chr3.txt\n",
      "/work/kk319/out/CombEffect_STARR/annotation_fragment/Input1/NR_20_chr4.txt\n",
      "/work/kk319/out/CombEffect_STARR/annotation_fragment/Input1/NR_20_chr5.txt\n",
      "/work/kk319/out/CombEffect_STARR/annotation_fragment/Input1/NR_20_chr6.txt\n",
      "/work/kk319/out/CombEffect_STARR/annotation_fragment/Input1/NR_20_chr7.txt\n",
      "/work/kk319/out/CombEffect_STARR/annotation_fragment/Input1/NR_20_chr8.txt\n",
      "/work/kk319/out/CombEffect_STARR/annotation_fragment/Input1/NR_20_chr9.txt\n",
      "/work/kk319/out/CombEffect_STARR/annotation_fragment/Input1/NR_20_chrX.txt\n",
      "/work/kk319/out/CombEffect_STARR/annotation_fragment/Input1/NR_20_chrY.txt\n"
     ]
    }
   ],
   "source": [
    "ls ${FD_BED}/NR_20*                                                                "
   ]
  },
  {
   "cell_type": "code",
   "execution_count": 4,
   "id": "ed14d259-5dd0-46a3-892f-3f97e9d93472",
   "metadata": {},
   "outputs": [
    {
     "name": "stdout",
     "output_type": "stream",
     "text": [
      "-rw-r--r--. 1 kk319 root  40M Jul 21 18:06 /work/kk319/out/CombEffect_STARR/annotation_fragment/Input1/NR_20_chr1.txt\n",
      "-rw-r--r--. 1 kk319 root  25M Jul 21 17:27 /work/kk319/out/CombEffect_STARR/annotation_fragment/Input1/NR_20_chr10.txt\n",
      "-rw-r--r--. 1 kk319 root  25M Jul 21 17:00 /work/kk319/out/CombEffect_STARR/annotation_fragment/Input1/NR_20_chr11.txt\n",
      "-rw-r--r--. 1 kk319 root  22M Jul 21 17:00 /work/kk319/out/CombEffect_STARR/annotation_fragment/Input1/NR_20_chr12.txt\n",
      "-rw-r--r--. 1 kk319 root  14M Jul 21 16:50 /work/kk319/out/CombEffect_STARR/annotation_fragment/Input1/NR_20_chr13.txt\n",
      "-rw-r--r--. 1 kk319 root  15M Jul 21 16:48 /work/kk319/out/CombEffect_STARR/annotation_fragment/Input1/NR_20_chr14.txt\n",
      "-rw-r--r--. 1 kk319 root  14M Jul 21 16:52 /work/kk319/out/CombEffect_STARR/annotation_fragment/Input1/NR_20_chr15.txt\n",
      "-rw-r--r--. 1 kk319 root  16M Jul 21 16:49 /work/kk319/out/CombEffect_STARR/annotation_fragment/Input1/NR_20_chr16.txt\n",
      "-rw-r--r--. 1 kk319 root  15M Jul 21 16:50 /work/kk319/out/CombEffect_STARR/annotation_fragment/Input1/NR_20_chr17.txt\n",
      "-rw-r--r--. 1 kk319 root  12M Jul 21 16:59 /work/kk319/out/CombEffect_STARR/annotation_fragment/Input1/NR_20_chr18.txt\n",
      "-rw-r--r--. 1 kk319 root  11M Jul 21 16:38 /work/kk319/out/CombEffect_STARR/annotation_fragment/Input1/NR_20_chr19.txt\n",
      "-rw-r--r--. 1 kk319 root  39M Jul 21 17:57 /work/kk319/out/CombEffect_STARR/annotation_fragment/Input1/NR_20_chr2.txt\n",
      "-rw-r--r--. 1 kk319 root  14M Jul 21 16:40 /work/kk319/out/CombEffect_STARR/annotation_fragment/Input1/NR_20_chr20.txt\n",
      "-rw-r--r--. 1 kk319 root 6.1M Jul 21 16:38 /work/kk319/out/CombEffect_STARR/annotation_fragment/Input1/NR_20_chr21.txt\n",
      "-rw-r--r--. 1 kk319 root 8.3M Jul 21 16:51 /work/kk319/out/CombEffect_STARR/annotation_fragment/Input1/NR_20_chr22.txt\n",
      "-rw-r--r--. 1 kk319 root  32M Jul 21 18:06 /work/kk319/out/CombEffect_STARR/annotation_fragment/Input1/NR_20_chr3.txt\n",
      "-rw-r--r--. 1 kk319 root  26M Jul 21 17:27 /work/kk319/out/CombEffect_STARR/annotation_fragment/Input1/NR_20_chr4.txt\n",
      "-rw-r--r--. 1 kk319 root  28M Jul 21 17:31 /work/kk319/out/CombEffect_STARR/annotation_fragment/Input1/NR_20_chr5.txt\n",
      "-rw-r--r--. 1 kk319 root  25M Jul 21 17:25 /work/kk319/out/CombEffect_STARR/annotation_fragment/Input1/NR_20_chr6.txt\n",
      "-rw-r--r--. 1 kk319 root  25M Jul 21 17:25 /work/kk319/out/CombEffect_STARR/annotation_fragment/Input1/NR_20_chr7.txt\n",
      "-rw-r--r--. 1 kk319 root  23M Jul 21 17:38 /work/kk319/out/CombEffect_STARR/annotation_fragment/Input1/NR_20_chr8.txt\n",
      "-rw-r--r--. 1 kk319 root  21M Jul 21 17:18 /work/kk319/out/CombEffect_STARR/annotation_fragment/Input1/NR_20_chr9.txt\n",
      "-rw-r--r--. 1 kk319 root  22M Jul 21 17:18 /work/kk319/out/CombEffect_STARR/annotation_fragment/Input1/NR_20_chrX.txt\n",
      "-rw-r--r--. 1 kk319 root  17K Jul 21 16:24 /work/kk319/out/CombEffect_STARR/annotation_fragment/Input1/NR_20_chrY.txt\n"
     ]
    }
   ],
   "source": [
    "ls -lh ${FD_BED}/NR_20*  "
   ]
  },
  {
   "cell_type": "code",
   "execution_count": null,
   "id": "a35ca2db-9263-4658-ad4c-bb5226ab8646",
   "metadata": {},
   "outputs": [],
   "source": []
  }
 ],
 "metadata": {
  "kernelspec": {
   "display_name": "Bash",
   "language": "bash",
   "name": "bash"
  },
  "language_info": {
   "codemirror_mode": "shell",
   "file_extension": ".sh",
   "mimetype": "text/x-sh",
   "name": "bash"
  }
 },
 "nbformat": 4,
 "nbformat_minor": 5
}
