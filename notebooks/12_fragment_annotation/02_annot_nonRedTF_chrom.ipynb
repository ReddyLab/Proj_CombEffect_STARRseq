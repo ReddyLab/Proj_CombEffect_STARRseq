{
 "cells": [
  {
   "cell_type": "markdown",
   "id": "03132854-f889-4089-be8a-f1cfbe3d0941",
   "metadata": {},
   "source": [
    "**Set environment**"
   ]
  },
  {
   "cell_type": "code",
   "execution_count": 2,
   "id": "1f1df8f6-6158-45a1-9c0d-5ffc560a32f5",
   "metadata": {},
   "outputs": [
    {
     "name": "stdout",
     "output_type": "stream",
     "text": [
      "You are on Duke Server: DCC\n",
      "BASE DIRECTORY:     /work/kk319\n",
      "WORK DIRECTORY:     /work/kk319/out/CombEffect_STARR\n",
      "LOG  DIRECTORY:     /work/kk319/out/CombEffect_STARR/log\n",
      "PATH OF SOURCE:     /work/kk319/source\n",
      "PATH OF EXECUTABLE: /work/kk319/exe\n",
      "PATH OF ANNOTATION: /work/kk319/annotation\n",
      "\n"
     ]
    }
   ],
   "source": [
    "source ../config_duke.sh"
   ]
  },
  {
   "cell_type": "markdown",
   "id": "2ab0f6a8-812f-49e6-b691-206362a9f624",
   "metadata": {},
   "source": [
    "**Input**"
   ]
  },
  {
   "cell_type": "code",
   "execution_count": 3,
   "id": "b74e8f64-4c5d-42fe-b997-d784ba18f0e6",
   "metadata": {},
   "outputs": [
    {
     "name": "stdout",
     "output_type": "stream",
     "text": [
      "\u001b[0m\u001b[01;34m/work/kk319/out/CombEffect_STARR/count_fragment/Input/\u001b[0m\n",
      "\u001b[01;34m/work/kk319/out/CombEffect_STARR/count_fragment/Input1/\u001b[0m\n",
      "\u001b[01;34m/work/kk319/out/CombEffect_STARR/count_fragment/Input2/\u001b[0m\n",
      "\u001b[01;34m/work/kk319/out/CombEffect_STARR/count_fragment/Input3/\u001b[0m\n",
      "\u001b[01;34m/work/kk319/out/CombEffect_STARR/count_fragment/Input4/\u001b[0m\n",
      "\u001b[01;34m/work/kk319/out/CombEffect_STARR/count_fragment/Input5/\u001b[0m\n",
      "\u001b[01;34m/work/kk319/out/CombEffect_STARR/count_fragment/TFX2_DMSO/\u001b[0m\n",
      "\u001b[01;34m/work/kk319/out/CombEffect_STARR/count_fragment/TFX2_Dex/\u001b[0m\n",
      "\u001b[01;34m/work/kk319/out/CombEffect_STARR/count_fragment/TFX3_DMSO/\u001b[0m\n",
      "\u001b[01;34m/work/kk319/out/CombEffect_STARR/count_fragment/TFX3_Dex/\u001b[0m\n",
      "\u001b[01;34m/work/kk319/out/CombEffect_STARR/count_fragment/TFX4_DMSO/\u001b[0m\n",
      "\u001b[01;34m/work/kk319/out/CombEffect_STARR/count_fragment/TFX4_Dex/\u001b[0m\n",
      "\u001b[01;34m/work/kk319/out/CombEffect_STARR/count_fragment/TFX5_DMSO/\u001b[0m\n",
      "\u001b[01;34m/work/kk319/out/CombEffect_STARR/count_fragment/TFX5_Dex/\u001b[0m\n",
      "\u001b[01;34m/work/kk319/out/CombEffect_STARR/count_fragment/TFX_DMSO/\u001b[0m\n",
      "\u001b[01;34m/work/kk319/out/CombEffect_STARR/count_fragment/TFX_Dex/\u001b[0m\n"
     ]
    }
   ],
   "source": [
    "ls -d ${FD_WRK}/count_fragment/*/"
   ]
  },
  {
   "cell_type": "markdown",
   "id": "99946d29-7cbf-4b0d-8ce1-98bc2ce19a99",
   "metadata": {},
   "source": [
    "**Output**"
   ]
  },
  {
   "cell_type": "code",
   "execution_count": 4,
   "id": "2ca929d8-855a-4e27-94bf-3de24833fb5e",
   "metadata": {},
   "outputs": [
    {
     "name": "stdout",
     "output_type": "stream",
     "text": [
      "\u001b[0m\u001b[01;34m/work/kk319/out/CombEffect_STARR/annotation_fragment/Input/\u001b[0m\n",
      "\u001b[01;34m/work/kk319/out/CombEffect_STARR/annotation_fragment/Input1/\u001b[0m\n",
      "\u001b[01;34m/work/kk319/out/CombEffect_STARR/annotation_fragment/Input2/\u001b[0m\n",
      "\u001b[01;34m/work/kk319/out/CombEffect_STARR/annotation_fragment/Input3/\u001b[0m\n",
      "\u001b[01;34m/work/kk319/out/CombEffect_STARR/annotation_fragment/Input4/\u001b[0m\n",
      "\u001b[01;34m/work/kk319/out/CombEffect_STARR/annotation_fragment/Input5/\u001b[0m\n",
      "\u001b[01;34m/work/kk319/out/CombEffect_STARR/annotation_fragment/TFX2_DMSO/\u001b[0m\n",
      "\u001b[01;34m/work/kk319/out/CombEffect_STARR/annotation_fragment/TFX2_Dex/\u001b[0m\n",
      "\u001b[01;34m/work/kk319/out/CombEffect_STARR/annotation_fragment/TFX3_DMSO/\u001b[0m\n",
      "\u001b[01;34m/work/kk319/out/CombEffect_STARR/annotation_fragment/TFX3_Dex/\u001b[0m\n",
      "\u001b[01;34m/work/kk319/out/CombEffect_STARR/annotation_fragment/TFX4_DMSO/\u001b[0m\n",
      "\u001b[01;34m/work/kk319/out/CombEffect_STARR/annotation_fragment/TFX4_Dex/\u001b[0m\n",
      "\u001b[01;34m/work/kk319/out/CombEffect_STARR/annotation_fragment/TFX5_DMSO/\u001b[0m\n",
      "\u001b[01;34m/work/kk319/out/CombEffect_STARR/annotation_fragment/TFX5_Dex/\u001b[0m\n",
      "\u001b[01;34m/work/kk319/out/CombEffect_STARR/annotation_fragment/TFX_DMSO/\u001b[0m\n",
      "\u001b[01;34m/work/kk319/out/CombEffect_STARR/annotation_fragment/TFX_Dex/\u001b[0m\n"
     ]
    }
   ],
   "source": [
    "ls -d ${FD_WRK}/annotation_fragment/*/"
   ]
  },
  {
   "cell_type": "markdown",
   "id": "70eba36b-f62a-424a-950c-04656f4e175f",
   "metadata": {},
   "source": [
    "**TEST**"
   ]
  },
  {
   "cell_type": "code",
   "execution_count": 5,
   "id": "399e8a5a-1e0f-4ef7-b4e6-d38c137425a9",
   "metadata": {},
   "outputs": [
    {
     "name": "stdout",
     "output_type": "stream",
     "text": [
      "/work/kk319/annotation/genome/hg38/fasta/chr17.fa\n"
     ]
    }
   ],
   "source": [
    "CHROM=chr17\n",
    "FD_GEN=${FD_ANN}/genome/hg38/fasta\n",
    "FN_GEN=${CHROM}.fa\n",
    "ls ${FD_GEN}/${FN_GEN}"
   ]
  },
  {
   "cell_type": "markdown",
   "id": "78b11a69-02d5-4c85-890b-2534cdbea872",
   "metadata": {},
   "source": [
    "**RUN**"
   ]
  },
  {
   "cell_type": "code",
   "execution_count": 16,
   "id": "4cc31067-9766-4f50-83cf-76543a6ab181",
   "metadata": {},
   "outputs": [
    {
     "name": "stdout",
     "output_type": "stream",
     "text": [
      "You are on Duke Server: DCC\n",
      "BASE DIRECTORY:     /work/kk319\n",
      "WORK DIRECTORY:     /work/kk319/out/CombEffect_STARR\n",
      "LOG  DIRECTORY:     /work/kk319/out/CombEffect_STARR/log\n",
      "PATH OF SOURCE:     /work/kk319/source\n",
      "PATH OF EXECUTABLE: /work/kk319/exe\n",
      "PATH OF ANNOTATION: /work/kk319/annotation\n",
      "\n",
      "You are on Duke Server: DCC\n",
      "Submitted batch job 14905797\n"
     ]
    }
   ],
   "source": [
    "source ../config_duke.sh\n",
    "source ../load_module_bedtools.sh\n",
    "\n",
    "sbatch -p scavenger \\\n",
    "    --array 0-23 \\\n",
    "    --mem 20G \\\n",
    "    -o ${FD_LOG}/annotate_fragment_chrom.%a.txt \\\n",
    "    <<'EOF'\n",
    "#!/bin/bash\n",
    "### set directories & global variables\n",
    "source ../config_duke.sh\n",
    "CHROMS=($(seq 1 22) X Y)\n",
    "CHROM=chr${CHROMS[${SLURM_ARRAY_TASK_ID}]}\n",
    "TARGET=${CHROM}\n",
    "\n",
    "### set input and output\n",
    "FD_BEDS=($(ls -d ${FD_WRK}/count_fragment/*/))\n",
    "FN_BED=${TARGET}.bed\n",
    "\n",
    "### motif annotation\n",
    "FD_MTF=${FD_ANN}/motif_cluster_jvierstra/hg38_archetype_motifs_v1\n",
    "FN_MTF=${CHROM}_rm_mouse_merge.bed.gz\n",
    "\n",
    "### genome annotation\n",
    "FD_GEN=${FD_ANN}/genome/hg38/fasta\n",
    "FN_GEN=${CHROM}.fa\n",
    "\n",
    "### print start message\n",
    "echo \"Slurm Array Index: \" ${SLURM_ARRAY_TASK_ID}\n",
    "\n",
    "### loop through each sample and count each fragment of a chromosome\n",
    "echo \"RUN: loop through samples; annotate fragment\"\n",
    "\n",
    "for FD_BED in ${FD_BEDS[@]}; do\n",
    "    SAMPLE=$(basename ${FD_BED})\n",
    "    FD_OUT=${FD_WRK}/annotation_fragment/${SAMPLE}\n",
    "    FN_OUT=${TARGET}.bed\n",
    "    #FN_NUC=${TARGET}_nuc.bed\n",
    "    ### START Message\n",
    "    echo ++++++++++++++++++++++++++++++++++++++++++++++++\n",
    "    echo \"Input  file: \" ${FD_BED}/${FN_BED}\n",
    "    echo \"Output file: \" ${FD_OUT}/${FN_OUT}\n",
    "    echo\n",
    "    echo \"Show the first few lines of the input file\"\n",
    "    echo ${FD_BED}/${FN_BED}\n",
    "    head -n 3 ${FD_BED}/${FN_BED}\n",
    "    echo\n",
    "    \n",
    "    ### init: create output folder if not exist\n",
    "    mkdir -p ${FD_OUT}\n",
    "    \n",
    "    ### annotation using intersect\n",
    "    bedtools intersect -a ${FD_BED}/${FN_BED} -b ${FD_MTF}/${FN_MTF} -wo > ${FD_OUT}/${FN_OUT}\n",
    "    #bedtools nuc -fi ${FD_GEN}/${FN_GEN} -bed ${FD_OUT}/${FN_OUT}        > ${FD_OUT}/${FN_NUC}\n",
    "    \n",
    "    ### END Message\n",
    "    echo \"Show the first few lines of the output file\"\n",
    "    echo ${FD_OUT}/${FN_OUT}\n",
    "    head -n 3 ${FD_OUT}/${FN_OUT}\n",
    "    echo\n",
    "    #echo \"Show the first few lines of the output file\"\n",
    "    #echo ${FD_OUT}/${FN_NUC}\n",
    "    #head -n 3 ${FD_OUT}/${FN_NUC}\n",
    "    #echo\n",
    "done\n",
    "echo \"Done!\"\n",
    "\n",
    "EOF"
   ]
  },
  {
   "cell_type": "markdown",
   "id": "e1f078ce-eb03-4745-9887-f1c137dea98e",
   "metadata": {},
   "source": [
    "**CHECK**"
   ]
  },
  {
   "cell_type": "code",
   "execution_count": 12,
   "id": "1c3afa36-129b-4d27-8afb-2d9b02874a03",
   "metadata": {},
   "outputs": [
    {
     "name": "stdout",
     "output_type": "stream",
     "text": [
      "/work/kk319/out/CombEffect_STARR/log/annotate_fragment_chrom.0.txt\n"
     ]
    }
   ],
   "source": [
    "readlink -f ${FD_LOG}/annotate_fragment_chrom.0.txt"
   ]
  },
  {
   "cell_type": "code",
   "execution_count": 5,
   "id": "e45c5023-2395-4177-a6c0-bb65103b3c08",
   "metadata": {},
   "outputs": [
    {
     "name": "stdout",
     "output_type": "stream",
     "text": [
      "You are on Duke Server: DCC\n",
      "BASE DIRECTORY:     /work/kk319\n",
      "WORK DIRECTORY:     /work/kk319/out/CombEffect_STARR\n",
      "LOG  DIRECTORY:     /work/kk319/out/CombEffect_STARR/log\n",
      "PATH OF SOURCE:     /work/kk319/source\n",
      "PATH OF EXECUTABLE: /work/kk319/exe\n",
      "PATH OF ANNOTATION: /work/kk319/annotation\n",
      "\n",
      "Slurm Array Index:  1\n",
      "RUN: loop through samples; annotate fragment\n",
      "++++++++++++++++++++++++++++++++++++++++++++++++\n",
      "Input  file:  /work/kk319/out/CombEffect_STARR/count_fragment/Input//chr2.bed\n",
      "Output file:  /work/kk319/out/CombEffect_STARR/annotation_fragment/Input/chr2.bed\n",
      "\n",
      "Show the first few lines of the input file\n",
      "/work/kk319/out/CombEffect_STARR/count_fragment/Input//chr2.bed\n",
      "chr2\t11223\t12149\t1\n",
      "chr2\t11224\t12142\t1\n",
      "chr2\t11234\t12150\t2\n",
      "\n",
      "Show the first few lines of the output file\n",
      "/work/kk319/out/CombEffect_STARR/annotation_fragment/Input/chr2.bed\n",
      "chr2\t11223\t12149\t1\tchr2\t10835\t11299\tGC-tract\t7.420186207\t76\n",
      "chr2\t11223\t12149\t1\tchr2\t11198\t11225\tNRF1\t11.8977\t2\n",
      "chr2\t11223\t12149\t1\tchr2\t11213\t11227\tZKSCAN1\t6.72\t4\n",
      "\n",
      "++++++++++++++++++++++++++++++++++++++++++++++++\n",
      "Input  file:  /work/kk319/out/CombEffect_STARR/count_fragment/Input1//chr2.bed\n",
      "Output file:  /work/kk319/out/CombEffect_STARR/annotation_fragment/Input1/chr2.bed\n",
      "\n",
      "Show the first few lines of the input file\n",
      "/work/kk319/out/CombEffect_STARR/count_fragment/Input1//chr2.bed\n",
      "chr2\t11224\t12142\t1\n",
      "chr2\t11234\t12150\t1\n",
      "chr2\t11323\t12247\t1\n",
      "\n",
      "Show the first few lines of the output file\n",
      "/work/kk319/out/CombEffect_STARR/annotation_fragment/Input1/chr2.bed\n",
      "chr2\t11224\t12142\t1\tchr2\t10835\t11299\tGC-tract\t7.420186207\t75\n",
      "chr2\t11224\t12142\t1\tchr2\t11198\t11225\tNRF1\t11.8977\t1\n",
      "chr2\t11224\t12142\t1\tchr2\t11213\t11227\tZKSCAN1\t6.72\t3\n",
      "\n",
      "++++++++++++++++++++++++++++++++++++++++++++++++\n",
      "Input  file:  /work/kk319/out/CombEffect_STARR/count_fragment/Input2//chr2.bed\n",
      "Output file:  /work/kk319/out/CombEffect_STARR/annotation_fragment/Input2/chr2.bed\n",
      "\n",
      "Show the first few lines of the input file\n",
      "/work/kk319/out/CombEffect_STARR/count_fragment/Input2//chr2.bed\n",
      "chr2\t11237\t12290\t1\n",
      "chr2\t11290\t12139\t1\n",
      "chr2\t11373\t12207\t1\n",
      "\n",
      "Show the first few lines of the output file\n",
      "/work/kk319/out/CombEffect_STARR/annotation_fragment/Input2/chr2.bed\n",
      "chr2\t11237\t12290\t1\tchr2\t10835\t11299\tGC-tract\t7.420186207\t62\n",
      "chr2\t11237\t12290\t1\tchr2\t11225\t11244\tZNF563\t9.4311\t7\n",
      "chr2\t11237\t12290\t1\tchr2\t11225\t11242\tEGR\t6.4544\t5\n",
      "\n",
      "++++++++++++++++++++++++++++++++++++++++++++++++\n",
      "Input  file:  /work/kk319/out/CombEffect_STARR/count_fragment/Input3//chr2.bed\n",
      "Output file:  /work/kk319/out/CombEffect_STARR/annotation_fragment/Input3/chr2.bed\n",
      "\n",
      "Show the first few lines of the input file\n",
      "/work/kk319/out/CombEffect_STARR/count_fragment/Input3//chr2.bed\n",
      "chr2\t11223\t12149\t1\n",
      "chr2\t11234\t12150\t1\n",
      "chr2\t11254\t12148\t1\n",
      "\n",
      "Show the first few lines of the output file\n",
      "/work/kk319/out/CombEffect_STARR/annotation_fragment/Input3/chr2.bed\n",
      "chr2\t11223\t12149\t1\tchr2\t10835\t11299\tGC-tract\t7.420186207\t76\n",
      "chr2\t11223\t12149\t1\tchr2\t11198\t11225\tNRF1\t11.8977\t2\n",
      "chr2\t11223\t12149\t1\tchr2\t11213\t11227\tZKSCAN1\t6.72\t4\n",
      "\n",
      "++++++++++++++++++++++++++++++++++++++++++++++++\n",
      "Input  file:  /work/kk319/out/CombEffect_STARR/count_fragment/Input4//chr2.bed\n",
      "Output file:  /work/kk319/out/CombEffect_STARR/annotation_fragment/Input4/chr2.bed\n",
      "\n",
      "Show the first few lines of the input file\n",
      "/work/kk319/out/CombEffect_STARR/count_fragment/Input4//chr2.bed\n",
      "chr2\t11267\t12179\t1\n",
      "chr2\t11275\t12287\t1\n",
      "chr2\t11323\t12247\t1\n",
      "\n",
      "Show the first few lines of the output file\n",
      "/work/kk319/out/CombEffect_STARR/annotation_fragment/Input4/chr2.bed\n",
      "chr2\t11267\t12179\t1\tchr2\t10835\t11299\tGC-tract\t7.420186207\t32\n",
      "chr2\t11267\t12179\t1\tchr2\t11254\t11273\tZNF563\t9.4311\t6\n",
      "chr2\t11267\t12179\t1\tchr2\t11254\t11271\tEGR\t6.4544\t4\n",
      "\n",
      "++++++++++++++++++++++++++++++++++++++++++++++++\n",
      "Input  file:  /work/kk319/out/CombEffect_STARR/count_fragment/Input5//chr2.bed\n",
      "Output file:  /work/kk319/out/CombEffect_STARR/annotation_fragment/Input5/chr2.bed\n",
      "\n",
      "Show the first few lines of the input file\n",
      "/work/kk319/out/CombEffect_STARR/count_fragment/Input5//chr2.bed\n",
      "chr2\t11272\t12295\t1\n",
      "chr2\t11351\t12290\t1\n",
      "chr2\t11393\t12307\t1\n",
      "\n",
      "Show the first few lines of the output file\n",
      "/work/kk319/out/CombEffect_STARR/annotation_fragment/Input5/chr2.bed\n",
      "chr2\t11272\t12295\t1\tchr2\t10835\t11299\tGC-tract\t7.420186207\t27\n",
      "chr2\t11272\t12295\t1\tchr2\t11254\t11273\tZNF563\t9.4311\t1\n",
      "chr2\t11272\t12295\t1\tchr2\t11255\t11277\tKLF/SP/2\t7.2955\t5\n",
      "\n",
      "++++++++++++++++++++++++++++++++++++++++++++++++\n",
      "Input  file:  /work/kk319/out/CombEffect_STARR/count_fragment/TFX2_DMSO//chr2.bed\n",
      "Output file:  /work/kk319/out/CombEffect_STARR/annotation_fragment/TFX2_DMSO/chr2.bed\n",
      "\n",
      "Show the first few lines of the input file\n",
      "/work/kk319/out/CombEffect_STARR/count_fragment/TFX2_DMSO//chr2.bed\n",
      "chr2\t11214\t12031\t1\n",
      "chr2\t11214\t12032\t2\n",
      "chr2\t11215\t12032\t2\n",
      "\n",
      "Show the first few lines of the output file\n",
      "/work/kk319/out/CombEffect_STARR/annotation_fragment/TFX2_DMSO/chr2.bed\n",
      "chr2\t11214\t12031\t1\tchr2\t10835\t11299\tGC-tract\t7.420186207\t85\n",
      "chr2\t11214\t12031\t1\tchr2\t11196\t11215\tZNF563\t9.4311\t1\n",
      "chr2\t11214\t12031\t1\tchr2\t11197\t11219\tKLF/SP/2\t7.2955\t5\n",
      "\n",
      "++++++++++++++++++++++++++++++++++++++++++++++++\n",
      "Input  file:  /work/kk319/out/CombEffect_STARR/count_fragment/TFX2_Dex//chr2.bed\n",
      "Output file:  /work/kk319/out/CombEffect_STARR/annotation_fragment/TFX2_Dex/chr2.bed\n",
      "\n",
      "Show the first few lines of the input file\n",
      "/work/kk319/out/CombEffect_STARR/count_fragment/TFX2_Dex//chr2.bed\n",
      "chr2\t11366\t12297\t1\n",
      "chr2\t11366\t12300\t1\n",
      "chr2\t11367\t12300\t2\n",
      "\n",
      "Show the first few lines of the output file\n",
      "/work/kk319/out/CombEffect_STARR/annotation_fragment/TFX2_Dex/chr2.bed\n",
      "chr2\t11366\t12297\t1\tchr2\t11363\t11380\tRUNX/1\t7.13655\t14\n",
      "chr2\t11366\t12297\t1\tchr2\t11365\t11379\tNFI/1\t3.7913\t13\n",
      "chr2\t11366\t12297\t1\tchr2\t11365\t11400\tTBX/3\t7.191566667\t34\n",
      "\n",
      "++++++++++++++++++++++++++++++++++++++++++++++++\n",
      "Input  file:  /work/kk319/out/CombEffect_STARR/count_fragment/TFX3_DMSO//chr2.bed\n",
      "Output file:  /work/kk319/out/CombEffect_STARR/annotation_fragment/TFX3_DMSO/chr2.bed\n",
      "\n",
      "Show the first few lines of the input file\n",
      "/work/kk319/out/CombEffect_STARR/count_fragment/TFX3_DMSO//chr2.bed\n",
      "chr2\t11247\t12157\t1\n",
      "chr2\t11247\t12158\t1\n",
      "chr2\t11248\t12155\t1\n",
      "\n",
      "Show the first few lines of the output file\n",
      "/work/kk319/out/CombEffect_STARR/annotation_fragment/TFX3_DMSO/chr2.bed\n",
      "chr2\t11247\t12157\t1\tchr2\t10835\t11299\tGC-tract\t7.420186207\t52\n",
      "chr2\t11247\t12157\t1\tchr2\t11226\t11248\tKLF/SP/2\t7.2955\t1\n",
      "chr2\t11247\t12157\t1\tchr2\t11227\t11254\tNRF1\t11.8977\t7\n",
      "\n",
      "++++++++++++++++++++++++++++++++++++++++++++++++\n",
      "Input  file:  /work/kk319/out/CombEffect_STARR/count_fragment/TFX3_Dex//chr2.bed\n",
      "Output file:  /work/kk319/out/CombEffect_STARR/annotation_fragment/TFX3_Dex/chr2.bed\n",
      "\n",
      "Show the first few lines of the input file\n",
      "/work/kk319/out/CombEffect_STARR/count_fragment/TFX3_Dex//chr2.bed\n",
      "chr2\t11271\t12239\t3\n",
      "chr2\t11272\t12239\t1\n",
      "chr2\t12763\t13735\t1\n",
      "\n",
      "Show the first few lines of the output file\n",
      "/work/kk319/out/CombEffect_STARR/annotation_fragment/TFX3_Dex/chr2.bed\n",
      "chr2\t11271\t12239\t3\tchr2\t10835\t11299\tGC-tract\t7.420186207\t28\n",
      "chr2\t11271\t12239\t3\tchr2\t11254\t11273\tZNF563\t9.4311\t2\n",
      "chr2\t11271\t12239\t3\tchr2\t11255\t11277\tKLF/SP/2\t7.2955\t6\n",
      "\n",
      "++++++++++++++++++++++++++++++++++++++++++++++++\n",
      "Input  file:  /work/kk319/out/CombEffect_STARR/count_fragment/TFX4_DMSO//chr2.bed\n",
      "Output file:  /work/kk319/out/CombEffect_STARR/annotation_fragment/TFX4_DMSO/chr2.bed\n",
      "\n",
      "Show the first few lines of the input file\n",
      "/work/kk319/out/CombEffect_STARR/count_fragment/TFX4_DMSO//chr2.bed\n",
      "chr2\t11086\t11877\t1\n",
      "chr2\t11093\t12011\t1\n",
      "chr2\t11396\t12267\t1\n",
      "\n",
      "Show the first few lines of the output file\n",
      "/work/kk319/out/CombEffect_STARR/annotation_fragment/TFX4_DMSO/chr2.bed\n",
      "chr2\t11086\t11877\t1\tchr2\t10835\t11299\tGC-tract\t7.420186207\t213\n",
      "chr2\t11086\t11877\t1\tchr2\t10849\t11161\tKLF/SP/2\t7.934545455\t75\n",
      "chr2\t11086\t11877\t1\tchr2\t11074\t11089\tNR/17\t7.6728\t3\n",
      "\n",
      "++++++++++++++++++++++++++++++++++++++++++++++++\n",
      "Input  file:  /work/kk319/out/CombEffect_STARR/count_fragment/TFX4_Dex//chr2.bed\n",
      "Output file:  /work/kk319/out/CombEffect_STARR/annotation_fragment/TFX4_Dex/chr2.bed\n",
      "\n",
      "Show the first few lines of the input file\n",
      "/work/kk319/out/CombEffect_STARR/count_fragment/TFX4_Dex//chr2.bed\n",
      "chr2\t11360\t12264\t2\n",
      "chr2\t11360\t12265\t1\n",
      "chr2\t11361\t12265\t1\n",
      "\n",
      "Show the first few lines of the output file\n",
      "/work/kk319/out/CombEffect_STARR/annotation_fragment/TFX4_Dex/chr2.bed\n",
      "chr2\t11360\t12264\t2\tchr2\t11351\t11362\tNRF1\t6.8618\t2\n",
      "chr2\t11360\t12264\t2\tchr2\t11363\t11380\tRUNX/1\t7.13655\t17\n",
      "chr2\t11360\t12264\t2\tchr2\t11365\t11379\tNFI/1\t3.7913\t14\n",
      "\n",
      "++++++++++++++++++++++++++++++++++++++++++++++++\n",
      "Input  file:  /work/kk319/out/CombEffect_STARR/count_fragment/TFX5_DMSO//chr2.bed\n",
      "Output file:  /work/kk319/out/CombEffect_STARR/annotation_fragment/TFX5_DMSO/chr2.bed\n",
      "\n",
      "Show the first few lines of the input file\n",
      "/work/kk319/out/CombEffect_STARR/count_fragment/TFX5_DMSO//chr2.bed\n",
      "chr2\t11099\t12078\t1\n",
      "chr2\t11376\t12263\t1\n",
      "chr2\t11376\t12264\t1\n",
      "\n",
      "Show the first few lines of the output file\n",
      "/work/kk319/out/CombEffect_STARR/annotation_fragment/TFX5_DMSO/chr2.bed\n",
      "chr2\t11099\t12078\t1\tchr2\t10835\t11299\tGC-tract\t7.420186207\t200\n",
      "chr2\t11099\t12078\t1\tchr2\t10849\t11161\tKLF/SP/2\t7.934545455\t62\n",
      "chr2\t11099\t12078\t1\tchr2\t11084\t11100\tZBTB49\t3.4574\t1\n",
      "\n",
      "++++++++++++++++++++++++++++++++++++++++++++++++\n",
      "Input  file:  /work/kk319/out/CombEffect_STARR/count_fragment/TFX5_Dex//chr2.bed\n",
      "Output file:  /work/kk319/out/CombEffect_STARR/annotation_fragment/TFX5_Dex/chr2.bed\n",
      "\n",
      "Show the first few lines of the input file\n",
      "/work/kk319/out/CombEffect_STARR/count_fragment/TFX5_Dex//chr2.bed\n",
      "chr2\t11263\t12276\t1\n",
      "chr2\t11263\t12277\t1\n",
      "chr2\t11264\t12277\t1\n",
      "\n",
      "Show the first few lines of the output file\n",
      "/work/kk319/out/CombEffect_STARR/annotation_fragment/TFX5_Dex/chr2.bed\n",
      "chr2\t11263\t12276\t1\tchr2\t10835\t11299\tGC-tract\t7.420186207\t36\n",
      "chr2\t11263\t12276\t1\tchr2\t11245\t11264\tZNF320\t6.1941\t1\n",
      "chr2\t11263\t12276\t1\tchr2\t11248\t11265\tNR/18\t6.8911\t2\n",
      "\n",
      "++++++++++++++++++++++++++++++++++++++++++++++++\n",
      "Input  file:  /work/kk319/out/CombEffect_STARR/count_fragment/TFX_DMSO//chr2.bed\n",
      "Output file:  /work/kk319/out/CombEffect_STARR/annotation_fragment/TFX_DMSO/chr2.bed\n",
      "\n",
      "Show the first few lines of the input file\n",
      "/work/kk319/out/CombEffect_STARR/count_fragment/TFX_DMSO//chr2.bed\n",
      "chr2\t11086\t11877\t1\n",
      "chr2\t11093\t12011\t1\n",
      "chr2\t11099\t12078\t1\n",
      "\n",
      "Show the first few lines of the output file\n",
      "/work/kk319/out/CombEffect_STARR/annotation_fragment/TFX_DMSO/chr2.bed\n",
      "chr2\t11086\t11877\t1\tchr2\t10835\t11299\tGC-tract\t7.420186207\t213\n",
      "chr2\t11086\t11877\t1\tchr2\t10849\t11161\tKLF/SP/2\t7.934545455\t75\n",
      "chr2\t11086\t11877\t1\tchr2\t11074\t11089\tNR/17\t7.6728\t3\n",
      "\n",
      "++++++++++++++++++++++++++++++++++++++++++++++++\n",
      "Input  file:  /work/kk319/out/CombEffect_STARR/count_fragment/TFX_Dex//chr2.bed\n",
      "Output file:  /work/kk319/out/CombEffect_STARR/annotation_fragment/TFX_Dex/chr2.bed\n",
      "\n",
      "Show the first few lines of the input file\n",
      "/work/kk319/out/CombEffect_STARR/count_fragment/TFX_Dex//chr2.bed\n",
      "chr2\t11263\t12276\t1\n",
      "chr2\t11263\t12277\t1\n",
      "chr2\t11264\t12277\t1\n",
      "\n",
      "Show the first few lines of the output file\n",
      "/work/kk319/out/CombEffect_STARR/annotation_fragment/TFX_Dex/chr2.bed\n",
      "chr2\t11263\t12276\t1\tchr2\t10835\t11299\tGC-tract\t7.420186207\t36\n",
      "chr2\t11263\t12276\t1\tchr2\t11245\t11264\tZNF320\t6.1941\t1\n",
      "chr2\t11263\t12276\t1\tchr2\t11248\t11265\tNR/18\t6.8911\t2\n",
      "\n",
      "Done!\n"
     ]
    }
   ],
   "source": [
    "cat ${FD_LOG}/annotate_fragment_chrom.1.txt"
   ]
  },
  {
   "cell_type": "markdown",
   "id": "badd446c-be82-4a71-b642-57229dfa89ce",
   "metadata": {},
   "source": [
    "## Get file size"
   ]
  },
  {
   "cell_type": "code",
   "execution_count": 1,
   "id": "073a3322-120d-4c33-ae07-b25fa4b5c803",
   "metadata": {},
   "outputs": [
    {
     "name": "stdout",
     "output_type": "stream",
     "text": [
      "You are on Duke Server: DCC\n",
      "BASE DIRECTORY:     /work/kk319\n",
      "WORK DIRECTORY:     /work/kk319/out/CombEffect_STARR\n",
      "LOG  DIRECTORY:     /work/kk319/out/CombEffect_STARR/log\n",
      "PATH OF SOURCE:     /work/kk319/source\n",
      "PATH OF EXECUTABLE: /work/kk319/exe\n",
      "PATH OF ANNOTATION: /work/kk319/annotation\n",
      "\n"
     ]
    }
   ],
   "source": [
    "source ../config_duke.sh"
   ]
  },
  {
   "cell_type": "code",
   "execution_count": 2,
   "id": "1120887f-f53f-4d37-848b-9cb08edcfd65",
   "metadata": {},
   "outputs": [
    {
     "name": "stdout",
     "output_type": "stream",
     "text": [
      "-rw-r--r--. 1 kk319 root  90G Jul 19 01:34 /work/kk319/out/CombEffect_STARR/annotation_fragment/Input/chr1.bed\n",
      "-rw-r--r--. 1 kk319 root  19G Jul 19 01:54 /work/kk319/out/CombEffect_STARR/annotation_fragment/Input1/chr1.bed\n",
      "-rw-r--r--. 1 kk319 root  20G Jul 19 02:16 /work/kk319/out/CombEffect_STARR/annotation_fragment/Input2/chr1.bed\n",
      "-rw-r--r--. 1 kk319 root  23G Jul 19 02:39 /work/kk319/out/CombEffect_STARR/annotation_fragment/Input3/chr1.bed\n",
      "-rw-r--r--. 1 kk319 root  19G Jul 19 02:59 /work/kk319/out/CombEffect_STARR/annotation_fragment/Input4/chr1.bed\n",
      "-rw-r--r--. 1 kk319 root  15G Jul 19 03:15 /work/kk319/out/CombEffect_STARR/annotation_fragment/Input5/chr1.bed\n",
      "-rw-r--r--. 1 kk319 root  41G Jul 19 03:55 /work/kk319/out/CombEffect_STARR/annotation_fragment/TFX2_DMSO/chr1.bed\n",
      "-rw-r--r--. 1 kk319 root  41G Jul 19 04:36 /work/kk319/out/CombEffect_STARR/annotation_fragment/TFX2_Dex/chr1.bed\n",
      "-rw-r--r--. 1 kk319 root  26G Jul 19 05:02 /work/kk319/out/CombEffect_STARR/annotation_fragment/TFX3_DMSO/chr1.bed\n",
      "-rw-r--r--. 1 kk319 root  25G Jul 19 05:27 /work/kk319/out/CombEffect_STARR/annotation_fragment/TFX3_Dex/chr1.bed\n",
      "-rw-r--r--. 1 kk319 root  30G Jul 19 06:00 /work/kk319/out/CombEffect_STARR/annotation_fragment/TFX4_DMSO/chr1.bed\n",
      "-rw-r--r--. 1 kk319 root  33G Jul 19 06:41 /work/kk319/out/CombEffect_STARR/annotation_fragment/TFX4_Dex/chr1.bed\n",
      "-rw-r--r--. 1 kk319 root  28G Jul 19 07:09 /work/kk319/out/CombEffect_STARR/annotation_fragment/TFX5_DMSO/chr1.bed\n",
      "-rw-r--r--. 1 kk319 root  41G Jul 19 07:52 /work/kk319/out/CombEffect_STARR/annotation_fragment/TFX5_Dex/chr1.bed\n",
      "-rw-r--r--. 1 kk319 root 118G Jul 19 09:55 /work/kk319/out/CombEffect_STARR/annotation_fragment/TFX_DMSO/chr1.bed\n",
      "-rw-r--r--. 1 kk319 root 131G Jul 19 11:50 /work/kk319/out/CombEffect_STARR/annotation_fragment/TFX_Dex/chr1.bed\n"
     ]
    }
   ],
   "source": [
    "ls -lh ${FD_WRK}/annotation_fragment/*/chr1.bed"
   ]
  },
  {
   "cell_type": "code",
   "execution_count": 3,
   "id": "1321f9f1-f174-4031-9887-b6d404314d1e",
   "metadata": {},
   "outputs": [
    {
     "name": "stdout",
     "output_type": "stream",
     "text": [
      "-rw-r--r--. 1 kk319 root  35G Jul 19 00:25 /work/kk319/out/CombEffect_STARR/annotation_fragment/Input/chr17.bed\n",
      "-rw-r--r--. 1 kk319 root 7.1G Jul 19 00:30 /work/kk319/out/CombEffect_STARR/annotation_fragment/Input1/chr17.bed\n",
      "-rw-r--r--. 1 kk319 root 7.7G Jul 19 00:35 /work/kk319/out/CombEffect_STARR/annotation_fragment/Input2/chr17.bed\n",
      "-rw-r--r--. 1 kk319 root 9.0G Jul 19 00:42 /work/kk319/out/CombEffect_STARR/annotation_fragment/Input3/chr17.bed\n",
      "-rw-r--r--. 1 kk319 root 7.2G Jul 19 00:46 /work/kk319/out/CombEffect_STARR/annotation_fragment/Input4/chr17.bed\n",
      "-rw-r--r--. 1 kk319 root 5.8G Jul 19 00:50 /work/kk319/out/CombEffect_STARR/annotation_fragment/Input5/chr17.bed\n",
      "-rw-r--r--. 1 kk319 root  19G Jul 19 01:01 /work/kk319/out/CombEffect_STARR/annotation_fragment/TFX2_DMSO/chr17.bed\n",
      "-rw-r--r--. 1 kk319 root  19G Jul 19 01:12 /work/kk319/out/CombEffect_STARR/annotation_fragment/TFX2_Dex/chr17.bed\n",
      "-rw-r--r--. 1 kk319 root  12G Jul 19 01:18 /work/kk319/out/CombEffect_STARR/annotation_fragment/TFX3_DMSO/chr17.bed\n",
      "-rw-r--r--. 1 kk319 root  12G Jul 19 01:25 /work/kk319/out/CombEffect_STARR/annotation_fragment/TFX3_Dex/chr17.bed\n",
      "-rw-r--r--. 1 kk319 root  14G Jul 19 01:32 /work/kk319/out/CombEffect_STARR/annotation_fragment/TFX4_DMSO/chr17.bed\n",
      "-rw-r--r--. 1 kk319 root  16G Jul 19 01:41 /work/kk319/out/CombEffect_STARR/annotation_fragment/TFX4_Dex/chr17.bed\n",
      "-rw-r--r--. 1 kk319 root  13G Jul 19 01:48 /work/kk319/out/CombEffect_STARR/annotation_fragment/TFX5_DMSO/chr17.bed\n",
      "-rw-r--r--. 1 kk319 root  19G Jul 19 01:58 /work/kk319/out/CombEffect_STARR/annotation_fragment/TFX5_Dex/chr17.bed\n",
      "-rw-r--r--. 1 kk319 root  53G Jul 19 02:25 /work/kk319/out/CombEffect_STARR/annotation_fragment/TFX_DMSO/chr17.bed\n",
      "-rw-r--r--. 1 kk319 root  59G Jul 19 02:55 /work/kk319/out/CombEffect_STARR/annotation_fragment/TFX_Dex/chr17.bed\n"
     ]
    }
   ],
   "source": [
    "ls -lh ${FD_WRK}/annotation_fragment/*/chr17.bed"
   ]
  },
  {
   "cell_type": "code",
   "execution_count": null,
   "id": "655efe69-0ebb-4ac7-ba5d-8e3df0cd39d7",
   "metadata": {},
   "outputs": [],
   "source": []
  }
 ],
 "metadata": {
  "kernelspec": {
   "display_name": "Bash",
   "language": "bash",
   "name": "bash"
  },
  "language_info": {
   "codemirror_mode": "shell",
   "file_extension": ".sh",
   "mimetype": "text/x-sh",
   "name": "bash"
  }
 },
 "nbformat": 4,
 "nbformat_minor": 5
}
