{
 "cells": [
  {
   "cell_type": "code",
   "execution_count": 1,
   "id": "828667e1-59d0-460a-8fde-baa3081a5893",
   "metadata": {},
   "outputs": [
    {
     "name": "stdout",
     "output_type": "stream",
     "text": [
      "You are on Duke Server: HARDAC\n",
      "BASE DIRECTORY:     /gpfs/fs1/data/reddylab/Kuei\n",
      "PATH OF SOURCE:     /gpfs/fs1/data/reddylab/Kuei/source\n",
      "PATH OF EXECUTABLE: /gpfs/fs1/data/reddylab/Kuei/exe\n",
      "PATH OF ANNOTATION: /gpfs/fs1/data/reddylab/Kuei/annotation\n",
      "PATH OF PROJECT:    /gpfs/fs1/data/reddylab/Kuei/GitRepo/Proj_CombEffect_STARRseq/notebooks\n",
      "PATH OF RESULTS:    /gpfs/fs1/data/reddylab/Kuei/out/proj_combeffect\n",
      "\n"
     ]
    }
   ],
   "source": [
    "source ../config_duke.sh -v"
   ]
  },
  {
   "cell_type": "code",
   "execution_count": 9,
   "id": "d10e339a-3f53-4d8b-bcfb-d3c280d6e0d4",
   "metadata": {},
   "outputs": [],
   "source": [
    "cleanup () {\n",
    "    :\n",
    "}\n",
    "\n",
    "trap \"cleanup\" SIGPIPE"
   ]
  },
  {
   "cell_type": "code",
   "execution_count": 4,
   "id": "c55adbe9-f9e8-40f4-a634-3adad790f560",
   "metadata": {},
   "outputs": [
    {
     "name": "stdout",
     "output_type": "stream",
     "text": [
      "\u001b[0m\u001b[38;5;9m/gpfs/fs1/data/reddylab/Kuei/out/proj_combeffect/count_fragment/Input1/chr17.bed.gz\u001b[0m\u001b[K\n",
      "\u001b[38;5;9m/gpfs/fs1/data/reddylab/Kuei/out/proj_combeffect/count_fragment/Input2/chr17.bed.gz\u001b[0m\u001b[K\n",
      "\u001b[38;5;9m/gpfs/fs1/data/reddylab/Kuei/out/proj_combeffect/count_fragment/Input3/chr17.bed.gz\u001b[0m\u001b[K\n",
      "\u001b[38;5;9m/gpfs/fs1/data/reddylab/Kuei/out/proj_combeffect/count_fragment/Input4/chr17.bed.gz\u001b[0m\u001b[K\n",
      "\u001b[38;5;9m/gpfs/fs1/data/reddylab/Kuei/out/proj_combeffect/count_fragment/Input5/chr17.bed.gz\u001b[0m\u001b[K\n"
     ]
    }
   ],
   "source": [
    "ls -d ${FD_RES}/count_fragment/Input?/chr17.bed.gz"
   ]
  },
  {
   "cell_type": "code",
   "execution_count": 3,
   "id": "112060b3-5606-4b71-b693-2aad2e6e6399",
   "metadata": {},
   "outputs": [
    {
     "name": "stdout",
     "output_type": "stream",
     "text": [
      "\u001b[0m\u001b[38;5;9m/gpfs/fs1/data/reddylab/Kuei/out/proj_combeffect/count_fragment/Input1_20x/chr17.bed.gz\u001b[0m\u001b[K\n",
      "\u001b[38;5;9m/gpfs/fs1/data/reddylab/Kuei/out/proj_combeffect/count_fragment/Input2_20x/chr17.bed.gz\u001b[0m\u001b[K\n",
      "\u001b[38;5;9m/gpfs/fs1/data/reddylab/Kuei/out/proj_combeffect/count_fragment/Input3_20x/chr17.bed.gz\u001b[0m\u001b[K\n",
      "\u001b[38;5;9m/gpfs/fs1/data/reddylab/Kuei/out/proj_combeffect/count_fragment/Input4_20x/chr17.bed.gz\u001b[0m\u001b[K\n",
      "\u001b[38;5;9m/gpfs/fs1/data/reddylab/Kuei/out/proj_combeffect/count_fragment/Input5_20x/chr17.bed.gz\u001b[0m\u001b[K\n"
     ]
    }
   ],
   "source": [
    "ls -d ${FD_RES}/count_fragment/Input?_20x/chr17.bed.gz"
   ]
  },
  {
   "cell_type": "code",
   "execution_count": 5,
   "id": "7fa774de-5bae-4ad8-b787-19cba9c1fec8",
   "metadata": {},
   "outputs": [
    {
     "name": "stdout",
     "output_type": "stream",
     "text": [
      "\u001b[0m\u001b[38;5;9m/gpfs/fs1/data/reddylab/Kuei/out/proj_combeffect/count_fragment/TFX2_DMSO/chr17.bed.gz\u001b[0m\u001b[K\n",
      "\u001b[38;5;9m/gpfs/fs1/data/reddylab/Kuei/out/proj_combeffect/count_fragment/TFX3_DMSO/chr17.bed.gz\u001b[0m\u001b[K\n",
      "\u001b[38;5;9m/gpfs/fs1/data/reddylab/Kuei/out/proj_combeffect/count_fragment/TFX4_DMSO/chr17.bed.gz\u001b[0m\u001b[K\n",
      "\u001b[38;5;9m/gpfs/fs1/data/reddylab/Kuei/out/proj_combeffect/count_fragment/TFX5_DMSO/chr17.bed.gz\u001b[0m\u001b[K\n"
     ]
    }
   ],
   "source": [
    "ls -d ${FD_RES}/count_fragment/TFX?_DMSO/chr17.bed.gz"
   ]
  },
  {
   "cell_type": "code",
   "execution_count": 6,
   "id": "253c72f6-6427-47a7-8576-f5796286f341",
   "metadata": {},
   "outputs": [
    {
     "name": "stdout",
     "output_type": "stream",
     "text": [
      "\u001b[0m\u001b[38;5;9m/gpfs/fs1/data/reddylab/Kuei/out/proj_combeffect/count_fragment/TFX2_Dex/chr17.bed.gz\u001b[0m\u001b[K\n",
      "\u001b[38;5;9m/gpfs/fs1/data/reddylab/Kuei/out/proj_combeffect/count_fragment/TFX3_Dex/chr17.bed.gz\u001b[0m\u001b[K\n",
      "\u001b[38;5;9m/gpfs/fs1/data/reddylab/Kuei/out/proj_combeffect/count_fragment/TFX4_Dex/chr17.bed.gz\u001b[0m\u001b[K\n",
      "\u001b[38;5;9m/gpfs/fs1/data/reddylab/Kuei/out/proj_combeffect/count_fragment/TFX5_Dex/chr17.bed.gz\u001b[0m\u001b[K\n"
     ]
    }
   ],
   "source": [
    "ls -d ${FD_RES}/count_fragment/TFX?_Dex/chr17.bed.gz"
   ]
  },
  {
   "cell_type": "code",
   "execution_count": 11,
   "id": "983f865a-acb7-4e80-aa54-fc194013741c",
   "metadata": {},
   "outputs": [
    {
     "name": "stdout",
     "output_type": "stream",
     "text": [
      "chr17\t8148117\t8149012\t1\tchr17\t8148107\t8148124\tKLF/SP/2\t9.0318\t7\n",
      "chr17\t8148117\t8149012\t1\tchr17\t8148109\t8148121\tINSM1\t6.1647\t4\n",
      "chr17\t8148117\t8149012\t1\tchr17\t8148109\t8148129\tGC-tract\t8.3277\t12\n",
      "\n",
      "chr17\t8148003\t8148983\t3\tchr17\t8147990\t8148009\tZNF680\t7.6684\t6\n",
      "chr17\t8148003\t8148983\t3\tchr17\t8147994\t8148004\tSMARCA1\t7.8445\t1\n",
      "chr17\t8148003\t8148983\t3\tchr17\t8148012\t8148026\tGLIS\t2.5027\t14\n",
      "\n",
      "chr17\t8148003\t8149020\t1\tchr17\t8147990\t8148009\tZNF680\t7.6684\t6\n",
      "chr17\t8148003\t8149020\t1\tchr17\t8147994\t8148004\tSMARCA1\t7.8445\t1\n",
      "chr17\t8148003\t8149020\t1\tchr17\t8148012\t8148026\tGLIS\t2.5027\t14\n",
      "\n",
      "chr17\t8148000\t8148887\t1\tchr17\t8147988\t8148002\tNR/20\t8.3188\t2\n",
      "chr17\t8148000\t8148887\t1\tchr17\t8147990\t8148009\tZNF680\t7.6684\t9\n",
      "chr17\t8148000\t8148887\t1\tchr17\t8147994\t8148004\tSMARCA1\t7.8445\t4\n",
      "\n",
      "chr17\t8148017\t8148918\t1\tchr17\t8148012\t8148026\tGLIS\t2.5027\t9\n",
      "chr17\t8148017\t8148918\t1\tchr17\t8148035\t8148055\tGC-tract\t7.8208\t20\n",
      "chr17\t8148017\t8148918\t1\tchr17\t8148040\t8148059\tZNF680\t5.3763\t19\n",
      "\n",
      "chr17\t8148000\t8148888\t1\tchr17\t8147988\t8148002\tNR/20\t8.3188\t2\n",
      "chr17\t8148000\t8148888\t1\tchr17\t8147990\t8148009\tZNF680\t7.6684\t9\n",
      "chr17\t8148000\t8148888\t1\tchr17\t8147994\t8148004\tSMARCA1\t7.8445\t4\n",
      "\n",
      "chr17\t8148003\t8149021\t1\tchr17\t8147990\t8148009\tZNF680\t7.6684\t6\n",
      "chr17\t8148003\t8149021\t1\tchr17\t8147994\t8148004\tSMARCA1\t7.8445\t1\n",
      "chr17\t8148003\t8149021\t1\tchr17\t8148012\t8148026\tGLIS\t2.5027\t14\n",
      "\n",
      "chr17\t8148000\t8148993\t1\tchr17\t8147988\t8148002\tNR/20\t8.3188\t2\n",
      "chr17\t8148000\t8148993\t1\tchr17\t8147990\t8148009\tZNF680\t7.6684\t9\n",
      "chr17\t8148000\t8148993\t1\tchr17\t8147994\t8148004\tSMARCA1\t7.8445\t4\n",
      "\n",
      "chr17\t8148099\t8148969\t1\tchr17\t8148081\t8148100\tZNF324\t8.3351\t1\n",
      "chr17\t8148099\t8148969\t1\tchr17\t8148086\t8148102\tZNF549\t7.9856\t3\n",
      "chr17\t8148099\t8148969\t1\tchr17\t8148087\t8148112\tZNF354\t8.3634\t13\n",
      "\n",
      "chr17\t8148000\t8148888\t2\tchr17\t8147988\t8148002\tNR/20\t8.3188\t2\n",
      "chr17\t8148000\t8148888\t2\tchr17\t8147990\t8148009\tZNF680\t7.6684\t9\n",
      "chr17\t8148000\t8148888\t2\tchr17\t8147994\t8148004\tSMARCA1\t7.8445\t4\n",
      "\n",
      "chr17\t8148000\t8148888\t1\tchr17\t8147988\t8148002\tNR/20\t8.3188\t2\n",
      "chr17\t8148000\t8148888\t1\tchr17\t8147990\t8148009\tZNF680\t7.6684\t9\n",
      "chr17\t8148000\t8148888\t1\tchr17\t8147994\t8148004\tSMARCA1\t7.8445\t4\n",
      "\n",
      "chr17\t8148000\t8148888\t1\tchr17\t8147988\t8148002\tNR/20\t8.3188\t2\n",
      "chr17\t8148000\t8148888\t1\tchr17\t8147990\t8148009\tZNF680\t7.6684\t9\n",
      "chr17\t8148000\t8148888\t1\tchr17\t8147994\t8148004\tSMARCA1\t7.8445\t4\n",
      "\n",
      "chr17\t8148069\t8149187\t1\tchr17\t8148052\t8148071\tZNF143\t8.3023\t2\n",
      "chr17\t8148069\t8149187\t1\tchr17\t8148053\t8148072\tZFN121\t4.971\t3\n",
      "chr17\t8148069\t8149187\t1\tchr17\t8148056\t8148070\tCTCF\t9.5399\t1\n",
      "\n",
      "chr17\t8148055\t8149134\t1\tchr17\t8148040\t8148059\tZNF680\t5.3763\t4\n",
      "chr17\t8148055\t8149134\t1\tchr17\t8148050\t8148061\tGCM\t7.5087\t6\n",
      "chr17\t8148055\t8149134\t1\tchr17\t8148050\t8148061\tNR/19\t8.2681\t6\n",
      "\n",
      "chr17\t8148178\t8149108\t1\tchr17\t8148162\t8148184\tZNF41\t6.7295\t6\n",
      "chr17\t8148178\t8149108\t1\tchr17\t8148165\t8148182\tNR/9\t5.3954\t4\n",
      "chr17\t8148178\t8149108\t1\tchr17\t8148174\t8148194\tGC-tract\t7.2037\t16\n",
      "\n",
      "chr17\t8148012\t8149137\t1\tchr17\t8148012\t8148026\tGLIS\t2.5027\t14\n",
      "chr17\t8148012\t8149137\t1\tchr17\t8148035\t8148055\tGC-tract\t7.8208\t20\n",
      "chr17\t8148012\t8149137\t1\tchr17\t8148040\t8148059\tZNF680\t5.3763\t19\n",
      "\n",
      "chr17\t8148018\t8148882\t1\tchr17\t8148012\t8148026\tGLIS\t2.5027\t8\n",
      "chr17\t8148018\t8148882\t1\tchr17\t8148035\t8148055\tGC-tract\t7.8208\t20\n",
      "chr17\t8148018\t8148882\t1\tchr17\t8148040\t8148059\tZNF680\t5.3763\t19\n",
      "\n",
      "chr17\t8148045\t8148998\t1\tchr17\t8148035\t8148055\tGC-tract\t7.8208\t10\n",
      "chr17\t8148045\t8148998\t1\tchr17\t8148040\t8148059\tZNF680\t5.3763\t14\n",
      "chr17\t8148045\t8148998\t1\tchr17\t8148050\t8148061\tGCM\t7.5087\t11\n",
      "\n"
     ]
    }
   ],
   "source": [
    "FNAME=\"target_PER1.bed.gz\"\n",
    "FD_BEDS=($(ls -d ${FD_RES}/annotation_fragment/{Input?,Input?_20x,TFX?_DMSO,TFX?_Dex}/))\n",
    "for FD_BED in ${FD_BEDS[@]}; do\n",
    "    zcat ${FD_BED}/${FNAME} | head -3\n",
    "    echo\n",
    "done"
   ]
  },
  {
   "cell_type": "code",
   "execution_count": 14,
   "id": "0a9b8590-afd1-4405-a9ad-f3402ac9cf67",
   "metadata": {},
   "outputs": [
    {
     "name": "stdout",
     "output_type": "stream",
     "text": [
      "/gpfs/fs1/data/reddylab/Kuei/out/proj_combeffect/annotation_fragment/Input1/\n",
      "chr17\t10000160\t10001059\t1\tchr17\t10000157\t10000171\tCTCF\t8.7678\t-\tCTCF_MA0139.1\t3\t11\n",
      "chr17\t10000160\t10001059\t1\tchr17\t10000161\t10000171\tEBF1\t8.3601\t-\tCOE1_HUMAN.H11MO.0.A\t2\t10\n",
      "chr17\t10000160\t10001059\t1\tchr17\t10000164\t10000174\tSMAD\t8.0924\t-\tSMAD3_HUMAN.H11MO.0.B\t2\t10\n",
      "\n",
      "/gpfs/fs1/data/reddylab/Kuei/out/proj_combeffect/annotation_fragment/Input1_20x/\n",
      "chr17\t107410\t108464\t1\tchr17\t107391\t107414\tTBX/4\t8.2847\t4\n",
      "chr17\t107410\t108464\t1\tchr17\t107408\t107426\tZNF250\t2.3414\t16\n",
      "chr17\t107410\t108464\t1\tchr17\t107416\t107435\tZNF143\t8.6671\t19\n",
      "\n",
      "/gpfs/fs1/data/reddylab/Kuei/out/proj_combeffect/annotation_fragment/Input2/\n",
      "chr17\t10000104\t10001051\t1\tchr17\t10000096\t10000110\tBATF\t9.6792\t+\tBATF3_HUMAN.H11MO.0.B\t2\t6\n",
      "chr17\t10000104\t10001051\t1\tchr17\t10000157\t10000171\tCTCF\t8.7678\t-\tCTCF_MA0139.1\t3\t14\n",
      "chr17\t10000104\t10001051\t1\tchr17\t10000161\t10000171\tEBF1\t8.3601\t-\tCOE1_HUMAN.H11MO.0.A\t2\t10\n",
      "\n",
      "/gpfs/fs1/data/reddylab/Kuei/out/proj_combeffect/annotation_fragment/Input2_20x/\n",
      "chr17\t158043\t159067\t1\tchr17\t158036\t158049\tHSF\t10.8122\t6\n",
      "chr17\t158043\t159067\t1\tchr17\t158040\t158050\tNFKB/1\t7.6681\t7\n",
      "chr17\t158043\t159067\t1\tchr17\t158043\t158056\tTEAD\t9.1744\t13\n",
      "\n",
      "/gpfs/fs1/data/reddylab/Kuei/out/proj_combeffect/annotation_fragment/Input3/\n",
      "chr17\t10000097\t10001138\t1\tchr17\t10000096\t10000110\tBATF\t9.6792\t+\tBATF3_HUMAN.H11MO.0.B\t2\t13\n",
      "chr17\t10000097\t10001138\t1\tchr17\t10000157\t10000171\tCTCF\t8.7678\t-\tCTCF_MA0139.1\t3\t14\n",
      "chr17\t10000097\t10001138\t1\tchr17\t10000161\t10000171\tEBF1\t8.3601\t-\tCOE1_HUMAN.H11MO.0.A\t2\t10\n",
      "\n",
      "/gpfs/fs1/data/reddylab/Kuei/out/proj_combeffect/annotation_fragment/Input3_20x/\n",
      "chr17\t158183\t159063\t1\tchr17\t158174\t158193\tSMARCA5\t5.2238\t10\n",
      "chr17\t158183\t159063\t1\tchr17\t158177\t158202\tZNF354\t7.0919\t19\n",
      "chr17\t158183\t159063\t1\tchr17\t158177\t158201\tGC-tract\t9.864625\t18\n",
      "\n",
      "/gpfs/fs1/data/reddylab/Kuei/out/proj_combeffect/annotation_fragment/Input4/\n",
      "chr17\t10000131\t10001070\t1\tchr17\t10000157\t10000171\tCTCF\t8.7678\t-\tCTCF_MA0139.1\t3\t14\n",
      "chr17\t10000131\t10001070\t1\tchr17\t10000161\t10000171\tEBF1\t8.3601\t-\tCOE1_HUMAN.H11MO.0.A\t2\t10\n",
      "chr17\t10000131\t10001070\t1\tchr17\t10000164\t10000174\tSMAD\t8.0924\t-\tSMAD3_HUMAN.H11MO.0.B\t2\t10\n",
      "\n",
      "/gpfs/fs1/data/reddylab/Kuei/out/proj_combeffect/annotation_fragment/Input4_20x/\n",
      "chr17\t152808\t153715\t1\tchr17\t152792\t152810\tFOX/5\t8.2329\t2\n",
      "chr17\t152808\t153715\t1\tchr17\t152815\t152828\tNR/2\t7.4607\t13\n",
      "chr17\t152808\t153715\t1\tchr17\t152817\t152830\tSOX/1\t8.3464\t13\n",
      "\n",
      "/gpfs/fs1/data/reddylab/Kuei/out/proj_combeffect/annotation_fragment/Input5/\n",
      "chr17\t10000001\t10000909\t1\tchr17\t10000008\t10000028\tZNF134\t7.0903\t+\tZN134_HUMAN.H11MO.0.C\t1\t20\n",
      "chr17\t10000001\t10000909\t1\tchr17\t10000019\t10000031\tGRHL\t7.0060\t-\tGRHL1_CP2_1\t1\t12\n",
      "chr17\t10000001\t10000909\t1\tchr17\t10000023\t10000030\tHD/21\t8.7180\t+\tNKX28_HUMAN.H11MO.0.C\t2\t7\n",
      "\n",
      "/gpfs/fs1/data/reddylab/Kuei/out/proj_combeffect/annotation_fragment/Input5_20x/\n",
      "chr17\t120797\t122228\t1\tchr17\t120788\t120798\tMEF2\t6.9162\t1\n",
      "chr17\t120797\t122228\t1\tchr17\t120791\t120800\tCCAAT/CEBP\t7.8821\t3\n",
      "chr17\t120797\t122228\t1\tchr17\t120799\t120808\tDDIT3+CEBPA\t7.9509\t9\n",
      "\n",
      "/gpfs/fs1/data/reddylab/Kuei/out/proj_combeffect/annotation_fragment/TFX2_Dex/\n",
      "chr17\t10000156\t10001172\t2\tchr17\t10000157\t10000171\tCTCF\t8.7678\t-\tCTCF_MA0139.1\t3\t14\n",
      "chr17\t10000156\t10001172\t2\tchr17\t10000161\t10000171\tEBF1\t8.3601\t-\tCOE1_HUMAN.H11MO.0.A\t2\t10\n",
      "chr17\t10000156\t10001172\t2\tchr17\t10000164\t10000174\tSMAD\t8.0924\t-\tSMAD3_HUMAN.H11MO.0.B\t2\t10\n",
      "\n",
      "/gpfs/fs1/data/reddylab/Kuei/out/proj_combeffect/annotation_fragment/TFX2_DMSO/\n",
      "chr17\t10000013\t10001044\t1\tchr17\t10000008\t10000028\tZNF134\t7.0903\t+\tZN134_HUMAN.H11MO.0.C\t1\t15\n",
      "chr17\t10000013\t10001044\t1\tchr17\t10000019\t10000031\tGRHL\t7.0060\t-\tGRHL1_CP2_1\t1\t12\n",
      "chr17\t10000013\t10001044\t1\tchr17\t10000023\t10000030\tHD/21\t8.7180\t+\tNKX28_HUMAN.H11MO.0.C\t2\t7\n",
      "\n",
      "/gpfs/fs1/data/reddylab/Kuei/out/proj_combeffect/annotation_fragment/TFX3_Dex/\n",
      "chr17\t10000197\t10001241\t1\tchr17\t10000199\t10000207\tMFZ1\t7.9392\t-\tMZF1_MA0057.1\t1\t8\n",
      "chr17\t10000197\t10001241\t1\tchr17\t10000209\t10000223\tBATF\t7.6111\t+\tBATF3_HUMAN.H11MO.0.B\t2\t14\n",
      "chr17\t10000197\t10001241\t1\tchr17\t10000224\t10000236\tINSM1\t9.2337\t+\tINSM1_MA0155.1\t1\t12\n",
      "\n",
      "/gpfs/fs1/data/reddylab/Kuei/out/proj_combeffect/annotation_fragment/TFX3_DMSO/\n",
      "chr17\t10000160\t10001055\t1\tchr17\t10000157\t10000171\tCTCF\t8.7678\t-\tCTCF_MA0139.1\t3\t11\n",
      "chr17\t10000160\t10001055\t1\tchr17\t10000161\t10000171\tEBF1\t8.3601\t-\tCOE1_HUMAN.H11MO.0.A\t2\t10\n",
      "chr17\t10000160\t10001055\t1\tchr17\t10000164\t10000174\tSMAD\t8.0924\t-\tSMAD3_HUMAN.H11MO.0.B\t2\t10\n",
      "\n",
      "/gpfs/fs1/data/reddylab/Kuei/out/proj_combeffect/annotation_fragment/TFX4_Dex/\n",
      "chr17\t10000013\t10001044\t1\tchr17\t10000008\t10000028\tZNF134\t7.0903\t+\tZN134_HUMAN.H11MO.0.C\t1\t15\n",
      "chr17\t10000013\t10001044\t1\tchr17\t10000019\t10000031\tGRHL\t7.0060\t-\tGRHL1_CP2_1\t1\t12\n",
      "chr17\t10000013\t10001044\t1\tchr17\t10000023\t10000030\tHD/21\t8.7180\t+\tNKX28_HUMAN.H11MO.0.C\t2\t7\n",
      "\n",
      "/gpfs/fs1/data/reddylab/Kuei/out/proj_combeffect/annotation_fragment/TFX4_DMSO/\n",
      "chr17\t10000026\t10001091\t1\tchr17\t10000008\t10000028\tZNF134\t7.0903\t+\tZN134_HUMAN.H11MO.0.C\t1\t2\n",
      "chr17\t10000026\t10001091\t1\tchr17\t10000019\t10000031\tGRHL\t7.0060\t-\tGRHL1_CP2_1\t1\t5\n",
      "chr17\t10000026\t10001091\t1\tchr17\t10000023\t10000030\tHD/21\t8.7180\t+\tNKX28_HUMAN.H11MO.0.C\t2\t4\n",
      "\n",
      "/gpfs/fs1/data/reddylab/Kuei/out/proj_combeffect/annotation_fragment/TFX5_Dex/\n",
      "chr17\t10000013\t10001045\t1\tchr17\t10000008\t10000028\tZNF134\t7.0903\t+\tZN134_HUMAN.H11MO.0.C\t1\t15\n",
      "chr17\t10000013\t10001045\t1\tchr17\t10000019\t10000031\tGRHL\t7.0060\t-\tGRHL1_CP2_1\t1\t12\n",
      "chr17\t10000013\t10001045\t1\tchr17\t10000023\t10000030\tHD/21\t8.7180\t+\tNKX28_HUMAN.H11MO.0.C\t2\t7\n",
      "\n",
      "/gpfs/fs1/data/reddylab/Kuei/out/proj_combeffect/annotation_fragment/TFX5_DMSO/\n",
      "chr17\t10000120\t10001029\t1\tchr17\t10000157\t10000171\tCTCF\t8.7678\t-\tCTCF_MA0139.1\t3\t14\n",
      "chr17\t10000120\t10001029\t1\tchr17\t10000161\t10000171\tEBF1\t8.3601\t-\tCOE1_HUMAN.H11MO.0.A\t2\t10\n",
      "chr17\t10000120\t10001029\t1\tchr17\t10000164\t10000174\tSMAD\t8.0924\t-\tSMAD3_HUMAN.H11MO.0.B\t2\t10\n",
      "\n"
     ]
    }
   ],
   "source": [
    "FNAME=\"chr17.bed.gz\"\n",
    "FD_BEDS=($(ls -d ${FD_RES}/annotation_fragment/{Input?,Input?_20x,TFX?_DMSO,TFX?_Dex}/))\n",
    "for FD_BED in ${FD_BEDS[@]}; do\n",
    "    echo ${FD_BED}\n",
    "    zcat ${FD_BED}/${FNAME} | head -3\n",
    "    echo\n",
    "done"
   ]
  },
  {
   "cell_type": "code",
   "execution_count": null,
   "id": "e4ae5672-fe49-480d-9e92-f9ddecb2b0da",
   "metadata": {},
   "outputs": [],
   "source": [
    "/gpfs/fs1/data/reddylab/Kuei/out/proj_combeffect/annotation_fragment/Input1/\n",
    "chr17\t10000160\t10001059\t1\tchr17\t10000157\t10000171\tCTCF\t8.7678\t-\tCTCF_MA0139.1\t3\t11\n",
    "chr17\t10000160\t10001059\t1\tchr17\t10000161\t10000171\tEBF1\t8.3601\t-\tCOE1_HUMAN.H11MO.0.A\t2\t10\n",
    "chr17\t10000160\t10001059\t1\tchr17\t10000164\t10000174\tSMAD\t8.0924\t-\tSMAD3_HUMAN.H11MO.0.B\t2\t10"
   ]
  },
  {
   "cell_type": "code",
   "execution_count": 18,
   "id": "ed72bbfb-dc2a-4960-a38d-cb9adadeaf1a",
   "metadata": {},
   "outputs": [
    {
     "name": "stdout",
     "output_type": "stream",
     "text": [
      "/gpfs/fs1/data/reddylab/Kuei/out/proj_combeffect/annotation_fragment/Input1/\n",
      "chr17\t201123\t201925\t1\tchr17\t201116\t201126\tNFKB/1\t9.0328\t3\n",
      "chr17\t201123\t201925\t1\tchr17\t201136\t201152\tMZF1\t9.0967\t16\n",
      "chr17\t201123\t201925\t1\tchr17\t201138\t201148\tNFKB/1\t8.1413\t10\n",
      "\n",
      "/gpfs/fs1/data/reddylab/Kuei/out/proj_combeffect/annotation_fragment/Input2/\n",
      "chr17\t159510\t160362\t1\tchr17\t159506\t159517\tOSR2\t10.2882\t7\n",
      "chr17\t159510\t160362\t1\tchr17\t159510\t159528\tTBX/3\t7.9212\t18\n",
      "chr17\t159510\t160362\t1\tchr17\t159516\t159535\tZNF547\t7.0429\t19\n",
      "\n",
      "/gpfs/fs1/data/reddylab/Kuei/out/proj_combeffect/annotation_fragment/Input3/\n",
      "chr17\t201190\t202046\t1\tchr17\t201187\t201204\tMAF\t7.6715\t14\n",
      "chr17\t201190\t202046\t1\tchr17\t201190\t201209\tZNF547\t7.088\t19\n",
      "chr17\t201190\t202046\t1\tchr17\t201198\t201212\tZNF418\t7.8161\t14\n",
      "\n",
      "/gpfs/fs1/data/reddylab/Kuei/out/proj_combeffect/annotation_fragment/Input4/\n",
      "chr17\t182115\t183108\t1\tchr17\t182104\t182121\tKLF/SP/2\t3.8217\t6\n",
      "chr17\t182115\t183108\t1\tchr17\t182111\t182125\tZNF143\t9.6206\t10\n",
      "chr17\t182115\t183108\t1\tchr17\t182119\t182131\tNRF1\t9.82435\t12\n",
      "\n",
      "/gpfs/fs1/data/reddylab/Kuei/out/proj_combeffect/annotation_fragment/Input5/\n",
      "chr17\t197679\t198597\t1\tchr17\t197668\t197680\tFOX/5\t6.563\t1\n",
      "chr17\t197679\t198597\t1\tchr17\t197673\t197683\tFOX/4\t7.1176\t4\n",
      "chr17\t197679\t198597\t1\tchr17\t197677\t197689\tNRF1\t8.38115\t10\n",
      "\n",
      "/gpfs/fs1/data/reddylab/Kuei/out/proj_combeffect/annotation_fragment/TFX2_Dex/\n",
      "chr17\t83638\t84547\t1\tchr17\t83629\t83643\tZKSCAN1\t7.719\t5\n",
      "chr17\t83638\t84547\t1\tchr17\t83652\t83659\tDMRT3\t8.8098\t7\n",
      "chr17\t83638\t84547\t1\tchr17\t83663\t83682\tZNF324\t8.5382\t19\n",
      "\n",
      "/gpfs/fs1/data/reddylab/Kuei/out/proj_combeffect/annotation_fragment/TFX2_DMSO/\n",
      "chr17\t87067\t87989\t1\tchr17\t87059\t87068\tHD/14\t7.9416\t1\n",
      "chr17\t87067\t87989\t1\tchr17\t87073\t87098\tZNF354\t8.8252\t25\n",
      "chr17\t87067\t87989\t1\tchr17\t87086\t87102\tIRF/2\t9.2578\t16\n",
      "\n",
      "/gpfs/fs1/data/reddylab/Kuei/out/proj_combeffect/annotation_fragment/TFX3_Dex/\n",
      "chr17\t120738\t123102\t1\tchr17\t120732\t120754\tFOX/5\t6.3039\t16\n",
      "chr17\t120738\t123102\t1\tchr17\t120737\t120747\tFOX/4\t8.2352\t9\n",
      "chr17\t120738\t123102\t1\tchr17\t120739\t120747\tHD/25\t7.5426\t8\n",
      "\n",
      "/gpfs/fs1/data/reddylab/Kuei/out/proj_combeffect/annotation_fragment/TFX3_DMSO/\n",
      "chr17\t159962\t160793\t1\tchr17\t159944\t159963\tZNF680\t4.6141\t1\n",
      "chr17\t159962\t160793\t1\tchr17\t159951\t159965\tNR/3\t8.0111\t3\n",
      "chr17\t159962\t160793\t1\tchr17\t159961\t159970\tZNF449\t7.962\t8\n",
      "\n",
      "/gpfs/fs1/data/reddylab/Kuei/out/proj_combeffect/annotation_fragment/TFX4_Dex/\n",
      "chr17\t160133\t161194\t1\tchr17\t160126\t160151\tKLF/SP/2\t7.129633333\t18\n",
      "chr17\t160133\t161194\t1\tchr17\t160130\t160145\tNR/15\t9.1659\t12\n",
      "chr17\t160133\t161194\t1\tchr17\t160132\t160142\tZIC/2\t8.9673\t9\n",
      "\n",
      "/gpfs/fs1/data/reddylab/Kuei/out/proj_combeffect/annotation_fragment/TFX4_DMSO/\n",
      "chr17\t201155\t201962\t1\tchr17\t201145\t201160\tCENBP\t9.3664\t5\n",
      "chr17\t201155\t201962\t1\tchr17\t201150\t201171\tGRHL\t7.965733333\t16\n",
      "chr17\t201155\t201962\t1\tchr17\t201153\t201162\tCCAAT/CEBP\t7.8645\t7\n",
      "\n",
      "/gpfs/fs1/data/reddylab/Kuei/out/proj_combeffect/annotation_fragment/TFX5_Dex/\n",
      "chr17\t70104\t71559\t1\tchr17\t70098\t70117\tZFN121\t20.4942\t13\n",
      "chr17\t70104\t71559\t1\tchr17\t70100\t70117\tPAX/2\t13.5395\t13\n",
      "chr17\t70104\t71559\t1\tchr17\t70113\t70120\tZBTB7A\t8.6482\t7\n",
      "\n",
      "/gpfs/fs1/data/reddylab/Kuei/out/proj_combeffect/annotation_fragment/TFX5_DMSO/\n",
      "chr17\t101601\t102522\t1\tchr17\t101573\t101621\tGC-tract\t9.74405\t20\n",
      "chr17\t101601\t102522\t1\tchr17\t101575\t101620\tKLF/SP/2\t10.68161111\t19\n",
      "chr17\t101601\t102522\t1\tchr17\t101583\t101602\tZNF331\t5.9492\t1\n",
      "\n"
     ]
    }
   ],
   "source": [
    "FNAME=\"chr17.bed\"\n",
    "FD_BEDS=($(ls -d ${FD_RES}/annotation_fragment/{Input?,TFX?_DMSO,TFX?_Dex}/))\n",
    "for FD_BED in ${FD_BEDS[@]}; do\n",
    "    echo ${FD_BED}\n",
    "    cat ${FD_BED}/${FNAME} | head -3\n",
    "    echo\n",
    "done"
   ]
  },
  {
   "cell_type": "code",
   "execution_count": 17,
   "id": "7027a69f-0a98-45c8-a1be-de663b7aa44f",
   "metadata": {},
   "outputs": [
    {
     "name": "stdout",
     "output_type": "stream",
     "text": [
      "chr17\t235139\t236157\t1\tchr17\t236149\t236163\tNR/20\t9.709\t8\n",
      "chr17\t235153\t236234\t1\tchr17\t236149\t236163\tNR/20\t9.709\t14\n",
      "chr17\t235228\t236185\t1\tchr17\t236149\t236163\tNR/20\t9.709\t14\n",
      "\n",
      "chr17\t174938\t176057\t1\tchr17\t175700\t175714\tNR/20\t7.3894\t14\n",
      "chr17\t174938\t176057\t1\tchr17\t175776\t175790\tNR/20\t8.5107\t14\n",
      "chr17\t175103\t176248\t1\tchr17\t175700\t175714\tNR/20\t7.3894\t14\n",
      "\n",
      "chr17\t235207\t236308\t1\tchr17\t236149\t236163\tNR/20\t9.709\t14\n",
      "chr17\t235539\t236513\t1\tchr17\t236149\t236163\tNR/20\t9.709\t14\n",
      "chr17\t235610\t236665\t1\tchr17\t236149\t236163\tNR/20\t9.709\t14\n",
      "\n",
      "chr17\t182039\t183141\t1\tchr17\t182253\t182267\tNR/20\t5.7792\t14\n",
      "chr17\t204462\t205387\t1\tchr17\t205254\t205268\tNR/20\t7.7571\t14\n",
      "chr17\t204463\t205428\t1\tchr17\t205254\t205268\tNR/20\t7.7571\t14\n",
      "\n",
      "chr17\t235188\t236247\t1\tchr17\t236149\t236163\tNR/20\t9.709\t14\n",
      "chr17\t235480\t236442\t1\tchr17\t236149\t236163\tNR/20\t9.709\t14\n",
      "chr17\t235691\t236671\t1\tchr17\t236149\t236163\tNR/20\t9.709\t14\n",
      "\n",
      "chr17\t182051\t183103\t1\tchr17\t182253\t182267\tNR/20\t5.7792\t14\n",
      "chr17\t182064\t183065\t1\tchr17\t182253\t182267\tNR/20\t5.7792\t14\n",
      "chr17\t204456\t205492\t1\tchr17\t205254\t205268\tNR/20\t7.7571\t14\n",
      "\n",
      "chr17\t182115\t183108\t1\tchr17\t182253\t182267\tNR/20\t5.7792\t14\n",
      "chr17\t235153\t236233\t1\tchr17\t236149\t236163\tNR/20\t9.709\t14\n",
      "chr17\t235461\t236435\t1\tchr17\t236149\t236163\tNR/20\t9.709\t14\n",
      "\n",
      "chr17\t153773\t154756\t1\tchr17\t154594\t154608\tNR/20\t7.1821\t14\n",
      "chr17\t182059\t182994\t1\tchr17\t182253\t182267\tNR/20\t5.7792\t14\n",
      "chr17\t182066\t182946\t1\tchr17\t182253\t182267\tNR/20\t5.7792\t14\n",
      "\n",
      "chr17\t235495\t236550\t1\tchr17\t236149\t236163\tNR/20\t9.709\t14\n",
      "chr17\t235908\t236801\t1\tchr17\t236149\t236163\tNR/20\t9.709\t14\n",
      "chr17\t235941\t237021\t1\tchr17\t236149\t236163\tNR/20\t9.709\t14\n",
      "\n",
      "chr17\t179358\t180390\t1\tchr17\t179620\t179634\tNR/20\t7.6458\t14\n",
      "chr17\t182053\t183107\t1\tchr17\t182253\t182267\tNR/20\t5.7792\t14\n",
      "chr17\t182086\t183159\t1\tchr17\t182253\t182267\tNR/20\t5.7792\t14\n",
      "\n",
      "chr17\t174388\t175345\t1\tchr17\t174508\t174522\tNR/20\t7.6673\t14\n",
      "chr17\t174388\t175346\t1\tchr17\t174508\t174522\tNR/20\t7.6673\t14\n",
      "chr17\t204449\t205513\t1\tchr17\t205254\t205268\tNR/20\t7.7571\t14\n",
      "\n",
      "chr17\t204458\t205338\t1\tchr17\t205254\t205268\tNR/20\t7.7571\t14\n",
      "chr17\t204459\t205298\t1\tchr17\t205254\t205268\tNR/20\t7.7571\t14\n",
      "chr17\t204463\t205428\t1\tchr17\t205254\t205268\tNR/20\t7.7571\t14\n",
      "\n",
      "chr17\t182083\t183038\t1\tchr17\t182253\t182267\tNR/20\t5.7792\t14\n",
      "chr17\t235458\t236494\t1\tchr17\t236149\t236163\tNR/20\t9.709\t14\n",
      "chr17\t235458\t236497\t1\tchr17\t236149\t236163\tNR/20\t9.709\t14\n",
      "\n",
      "chr17\t235175\t236197\t1\tchr17\t236149\t236163\tNR/20\t9.709\t14\n",
      "chr17\t235380\t236209\t1\tchr17\t236149\t236163\tNR/20\t9.709\t14\n",
      "chr17\t235382\t236208\t1\tchr17\t236149\t236163\tNR/20\t9.709\t14\n",
      "\n",
      "chr17\t235072\t236173\t1\tchr17\t236149\t236163\tNR/20\t9.709\t14\n",
      "chr17\t235075\t236174\t1\tchr17\t236149\t236163\tNR/20\t9.709\t14\n",
      "chr17\t235494\t236525\t1\tchr17\t236149\t236163\tNR/20\t9.709\t14\n",
      "\n",
      "chr17\t235401\t236461\t1\tchr17\t236149\t236163\tNR/20\t9.709\t14\n",
      "chr17\t235402\t236461\t1\tchr17\t236149\t236163\tNR/20\t9.709\t14\n",
      "chr17\t235496\t236468\t1\tchr17\t236149\t236163\tNR/20\t9.709\t14\n",
      "\n",
      "chr17\t235217\t236215\t1\tchr17\t236149\t236163\tNR/20\t9.709\t14\n",
      "chr17\t235521\t236507\t1\tchr17\t236149\t236163\tNR/20\t9.709\t14\n",
      "chr17\t235521\t236508\t1\tchr17\t236149\t236163\tNR/20\t9.709\t14\n",
      "\n",
      "chr17\t161009\t161941\t1\tchr17\t161497\t161511\tNR/20\t8.1439\t14\n",
      "chr17\t161009\t161941\t1\tchr17\t161562\t161576\tNR/20\t10.761\t14\n",
      "chr17\t204465\t205428\t1\tchr17\t205254\t205268\tNR/20\t7.7571\t14\n",
      "\n"
     ]
    }
   ],
   "source": [
    "FNAME=\"chr17/NR_20_merge.bed.gz\"\n",
    "FD_BEDS=($(ls -d ${FD_RES}/annotation_fragment/{Input?,Input?_20x,TFX?_DMSO,TFX?_Dex}/))\n",
    "for FD_BED in ${FD_BEDS[@]}; do\n",
    "    zcat ${FD_BED}/${FNAME} | head -3\n",
    "    echo\n",
    "done"
   ]
  },
  {
   "cell_type": "code",
   "execution_count": 8,
   "id": "f9c5cc91-ad55-4c96-afdf-c8b7b46cb44a",
   "metadata": {},
   "outputs": [
    {
     "name": "stdout",
     "output_type": "stream",
     "text": [
      "chr17\t10000160\t10001059\t1\tchr17\t10000157\t10000171\tCTCF\t8.7678\t-\tCTCF_MA0139.1\t3\t11\n",
      "chr17\t10000160\t10001059\t1\tchr17\t10000161\t10000171\tEBF1\t8.3601\t-\tCOE1_HUMAN.H11MO.0.A\t2\t10\n",
      "chr17\t10000160\t10001059\t1\tchr17\t10000164\t10000174\tSMAD\t8.0924\t-\tSMAD3_HUMAN.H11MO.0.B\t2\t10\n",
      "\n",
      "gzip: stdout: Broken pipe\n"
     ]
    }
   ],
   "source": [
    "FDIRY=\"/gpfs/fs1/data/reddylab/Kuei/out/proj_combeffect/annotation_fragment\"\n",
    "SAMPLE=\"Input1\"\n",
    "FNAME=\"chr17.bed.gz\"\n",
    "FPATH=${FDIRY}/${SAMPLE}/${FNAME}\n",
    "zcat ${FPATH} | head -3"
   ]
  }
 ],
 "metadata": {
  "kernelspec": {
   "display_name": "Bash",
   "language": "bash",
   "name": "bash"
  },
  "language_info": {
   "codemirror_mode": "shell",
   "file_extension": ".sh",
   "mimetype": "text/x-sh",
   "name": "bash"
  }
 },
 "nbformat": 4,
 "nbformat_minor": 5
}
