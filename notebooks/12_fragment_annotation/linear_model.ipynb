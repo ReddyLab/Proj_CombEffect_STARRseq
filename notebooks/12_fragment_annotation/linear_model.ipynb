{
 "cells": [
  {
   "cell_type": "code",
   "execution_count": 1,
   "id": "03f0143a-eedb-4db7-9feb-517ef46062f6",
   "metadata": {},
   "outputs": [
    {
     "name": "stdout",
     "output_type": "stream",
     "text": [
      "You are on Duke Server: DCC\n",
      "BASE DIRECTORY:     /work/kk319 \n",
      "WORK DIRECTORY:     /work/kk319/out/CombEffect_STARR \n",
      "LOG  DIRECTORY:     /work/kk319/out/CombEffect_STARR/log \n",
      "PATH OF SOURCE:     /work/kk319/source \n",
      "PATH OF EXECUTABLE: /work/kk319/exe \n",
      "PATH OF ANNOTATION: /work/kk319/annotation \n"
     ]
    }
   ],
   "source": [
    "suppressMessages(suppressWarnings(source(\"config.R\")))"
   ]
  },
  {
   "cell_type": "code",
   "execution_count": 10,
   "id": "6e7613e6-7213-4400-af48-04e335109873",
   "metadata": {},
   "outputs": [
    {
     "data": {
      "text/html": [
       "<ol class=list-inline>\n",
       "\t<li>'/work/kk319/out/CombEffect_STARR/annotation_fragment/Input1/NR_20_chr1.txt'</li>\n",
       "\t<li>'/work/kk319/out/CombEffect_STARR/annotation_fragment/Input1/NR_20_chr10.txt'</li>\n",
       "\t<li>'/work/kk319/out/CombEffect_STARR/annotation_fragment/Input1/NR_20_chr11.txt'</li>\n",
       "\t<li>'/work/kk319/out/CombEffect_STARR/annotation_fragment/Input1/NR_20_chr12.txt'</li>\n",
       "\t<li>'/work/kk319/out/CombEffect_STARR/annotation_fragment/Input1/NR_20_chr13.txt'</li>\n",
       "\t<li>'/work/kk319/out/CombEffect_STARR/annotation_fragment/Input1/NR_20_chr14.txt'</li>\n",
       "\t<li>'/work/kk319/out/CombEffect_STARR/annotation_fragment/Input1/NR_20_chr15.txt'</li>\n",
       "\t<li>'/work/kk319/out/CombEffect_STARR/annotation_fragment/Input1/NR_20_chr16.txt'</li>\n",
       "\t<li>'/work/kk319/out/CombEffect_STARR/annotation_fragment/Input1/NR_20_chr17.txt'</li>\n",
       "\t<li>'/work/kk319/out/CombEffect_STARR/annotation_fragment/Input1/NR_20_chr18.txt'</li>\n",
       "\t<li>'/work/kk319/out/CombEffect_STARR/annotation_fragment/Input1/NR_20_chr19.txt'</li>\n",
       "\t<li>'/work/kk319/out/CombEffect_STARR/annotation_fragment/Input1/NR_20_chr2.txt'</li>\n",
       "\t<li>'/work/kk319/out/CombEffect_STARR/annotation_fragment/Input1/NR_20_chr20.txt'</li>\n",
       "\t<li>'/work/kk319/out/CombEffect_STARR/annotation_fragment/Input1/NR_20_chr21.txt'</li>\n",
       "\t<li>'/work/kk319/out/CombEffect_STARR/annotation_fragment/Input1/NR_20_chr22.txt'</li>\n",
       "\t<li>'/work/kk319/out/CombEffect_STARR/annotation_fragment/Input1/NR_20_chr3.txt'</li>\n",
       "\t<li>'/work/kk319/out/CombEffect_STARR/annotation_fragment/Input1/NR_20_chr4.txt'</li>\n",
       "\t<li>'/work/kk319/out/CombEffect_STARR/annotation_fragment/Input1/NR_20_chr5.txt'</li>\n",
       "\t<li>'/work/kk319/out/CombEffect_STARR/annotation_fragment/Input1/NR_20_chr6.txt'</li>\n",
       "\t<li>'/work/kk319/out/CombEffect_STARR/annotation_fragment/Input1/NR_20_chr7.txt'</li>\n",
       "\t<li>'/work/kk319/out/CombEffect_STARR/annotation_fragment/Input1/NR_20_chr8.txt'</li>\n",
       "\t<li>'/work/kk319/out/CombEffect_STARR/annotation_fragment/Input1/NR_20_chr9.txt'</li>\n",
       "\t<li>'/work/kk319/out/CombEffect_STARR/annotation_fragment/Input1/NR_20_chrX.txt'</li>\n",
       "\t<li>'/work/kk319/out/CombEffect_STARR/annotation_fragment/Input1/NR_20_chrY.txt'</li>\n",
       "</ol>\n"
      ],
      "text/latex": [
       "\\begin{enumerate*}\n",
       "\\item '/work/kk319/out/CombEffect\\_STARR/annotation\\_fragment/Input1/NR\\_20\\_chr1.txt'\n",
       "\\item '/work/kk319/out/CombEffect\\_STARR/annotation\\_fragment/Input1/NR\\_20\\_chr10.txt'\n",
       "\\item '/work/kk319/out/CombEffect\\_STARR/annotation\\_fragment/Input1/NR\\_20\\_chr11.txt'\n",
       "\\item '/work/kk319/out/CombEffect\\_STARR/annotation\\_fragment/Input1/NR\\_20\\_chr12.txt'\n",
       "\\item '/work/kk319/out/CombEffect\\_STARR/annotation\\_fragment/Input1/NR\\_20\\_chr13.txt'\n",
       "\\item '/work/kk319/out/CombEffect\\_STARR/annotation\\_fragment/Input1/NR\\_20\\_chr14.txt'\n",
       "\\item '/work/kk319/out/CombEffect\\_STARR/annotation\\_fragment/Input1/NR\\_20\\_chr15.txt'\n",
       "\\item '/work/kk319/out/CombEffect\\_STARR/annotation\\_fragment/Input1/NR\\_20\\_chr16.txt'\n",
       "\\item '/work/kk319/out/CombEffect\\_STARR/annotation\\_fragment/Input1/NR\\_20\\_chr17.txt'\n",
       "\\item '/work/kk319/out/CombEffect\\_STARR/annotation\\_fragment/Input1/NR\\_20\\_chr18.txt'\n",
       "\\item '/work/kk319/out/CombEffect\\_STARR/annotation\\_fragment/Input1/NR\\_20\\_chr19.txt'\n",
       "\\item '/work/kk319/out/CombEffect\\_STARR/annotation\\_fragment/Input1/NR\\_20\\_chr2.txt'\n",
       "\\item '/work/kk319/out/CombEffect\\_STARR/annotation\\_fragment/Input1/NR\\_20\\_chr20.txt'\n",
       "\\item '/work/kk319/out/CombEffect\\_STARR/annotation\\_fragment/Input1/NR\\_20\\_chr21.txt'\n",
       "\\item '/work/kk319/out/CombEffect\\_STARR/annotation\\_fragment/Input1/NR\\_20\\_chr22.txt'\n",
       "\\item '/work/kk319/out/CombEffect\\_STARR/annotation\\_fragment/Input1/NR\\_20\\_chr3.txt'\n",
       "\\item '/work/kk319/out/CombEffect\\_STARR/annotation\\_fragment/Input1/NR\\_20\\_chr4.txt'\n",
       "\\item '/work/kk319/out/CombEffect\\_STARR/annotation\\_fragment/Input1/NR\\_20\\_chr5.txt'\n",
       "\\item '/work/kk319/out/CombEffect\\_STARR/annotation\\_fragment/Input1/NR\\_20\\_chr6.txt'\n",
       "\\item '/work/kk319/out/CombEffect\\_STARR/annotation\\_fragment/Input1/NR\\_20\\_chr7.txt'\n",
       "\\item '/work/kk319/out/CombEffect\\_STARR/annotation\\_fragment/Input1/NR\\_20\\_chr8.txt'\n",
       "\\item '/work/kk319/out/CombEffect\\_STARR/annotation\\_fragment/Input1/NR\\_20\\_chr9.txt'\n",
       "\\item '/work/kk319/out/CombEffect\\_STARR/annotation\\_fragment/Input1/NR\\_20\\_chrX.txt'\n",
       "\\item '/work/kk319/out/CombEffect\\_STARR/annotation\\_fragment/Input1/NR\\_20\\_chrY.txt'\n",
       "\\end{enumerate*}\n"
      ],
      "text/markdown": [
       "1. '/work/kk319/out/CombEffect_STARR/annotation_fragment/Input1/NR_20_chr1.txt'\n",
       "2. '/work/kk319/out/CombEffect_STARR/annotation_fragment/Input1/NR_20_chr10.txt'\n",
       "3. '/work/kk319/out/CombEffect_STARR/annotation_fragment/Input1/NR_20_chr11.txt'\n",
       "4. '/work/kk319/out/CombEffect_STARR/annotation_fragment/Input1/NR_20_chr12.txt'\n",
       "5. '/work/kk319/out/CombEffect_STARR/annotation_fragment/Input1/NR_20_chr13.txt'\n",
       "6. '/work/kk319/out/CombEffect_STARR/annotation_fragment/Input1/NR_20_chr14.txt'\n",
       "7. '/work/kk319/out/CombEffect_STARR/annotation_fragment/Input1/NR_20_chr15.txt'\n",
       "8. '/work/kk319/out/CombEffect_STARR/annotation_fragment/Input1/NR_20_chr16.txt'\n",
       "9. '/work/kk319/out/CombEffect_STARR/annotation_fragment/Input1/NR_20_chr17.txt'\n",
       "10. '/work/kk319/out/CombEffect_STARR/annotation_fragment/Input1/NR_20_chr18.txt'\n",
       "11. '/work/kk319/out/CombEffect_STARR/annotation_fragment/Input1/NR_20_chr19.txt'\n",
       "12. '/work/kk319/out/CombEffect_STARR/annotation_fragment/Input1/NR_20_chr2.txt'\n",
       "13. '/work/kk319/out/CombEffect_STARR/annotation_fragment/Input1/NR_20_chr20.txt'\n",
       "14. '/work/kk319/out/CombEffect_STARR/annotation_fragment/Input1/NR_20_chr21.txt'\n",
       "15. '/work/kk319/out/CombEffect_STARR/annotation_fragment/Input1/NR_20_chr22.txt'\n",
       "16. '/work/kk319/out/CombEffect_STARR/annotation_fragment/Input1/NR_20_chr3.txt'\n",
       "17. '/work/kk319/out/CombEffect_STARR/annotation_fragment/Input1/NR_20_chr4.txt'\n",
       "18. '/work/kk319/out/CombEffect_STARR/annotation_fragment/Input1/NR_20_chr5.txt'\n",
       "19. '/work/kk319/out/CombEffect_STARR/annotation_fragment/Input1/NR_20_chr6.txt'\n",
       "20. '/work/kk319/out/CombEffect_STARR/annotation_fragment/Input1/NR_20_chr7.txt'\n",
       "21. '/work/kk319/out/CombEffect_STARR/annotation_fragment/Input1/NR_20_chr8.txt'\n",
       "22. '/work/kk319/out/CombEffect_STARR/annotation_fragment/Input1/NR_20_chr9.txt'\n",
       "23. '/work/kk319/out/CombEffect_STARR/annotation_fragment/Input1/NR_20_chrX.txt'\n",
       "24. '/work/kk319/out/CombEffect_STARR/annotation_fragment/Input1/NR_20_chrY.txt'\n",
       "\n",
       "\n"
      ],
      "text/plain": [
       " [1] \"/work/kk319/out/CombEffect_STARR/annotation_fragment/Input1/NR_20_chr1.txt\" \n",
       " [2] \"/work/kk319/out/CombEffect_STARR/annotation_fragment/Input1/NR_20_chr10.txt\"\n",
       " [3] \"/work/kk319/out/CombEffect_STARR/annotation_fragment/Input1/NR_20_chr11.txt\"\n",
       " [4] \"/work/kk319/out/CombEffect_STARR/annotation_fragment/Input1/NR_20_chr12.txt\"\n",
       " [5] \"/work/kk319/out/CombEffect_STARR/annotation_fragment/Input1/NR_20_chr13.txt\"\n",
       " [6] \"/work/kk319/out/CombEffect_STARR/annotation_fragment/Input1/NR_20_chr14.txt\"\n",
       " [7] \"/work/kk319/out/CombEffect_STARR/annotation_fragment/Input1/NR_20_chr15.txt\"\n",
       " [8] \"/work/kk319/out/CombEffect_STARR/annotation_fragment/Input1/NR_20_chr16.txt\"\n",
       " [9] \"/work/kk319/out/CombEffect_STARR/annotation_fragment/Input1/NR_20_chr17.txt\"\n",
       "[10] \"/work/kk319/out/CombEffect_STARR/annotation_fragment/Input1/NR_20_chr18.txt\"\n",
       "[11] \"/work/kk319/out/CombEffect_STARR/annotation_fragment/Input1/NR_20_chr19.txt\"\n",
       "[12] \"/work/kk319/out/CombEffect_STARR/annotation_fragment/Input1/NR_20_chr2.txt\" \n",
       "[13] \"/work/kk319/out/CombEffect_STARR/annotation_fragment/Input1/NR_20_chr20.txt\"\n",
       "[14] \"/work/kk319/out/CombEffect_STARR/annotation_fragment/Input1/NR_20_chr21.txt\"\n",
       "[15] \"/work/kk319/out/CombEffect_STARR/annotation_fragment/Input1/NR_20_chr22.txt\"\n",
       "[16] \"/work/kk319/out/CombEffect_STARR/annotation_fragment/Input1/NR_20_chr3.txt\" \n",
       "[17] \"/work/kk319/out/CombEffect_STARR/annotation_fragment/Input1/NR_20_chr4.txt\" \n",
       "[18] \"/work/kk319/out/CombEffect_STARR/annotation_fragment/Input1/NR_20_chr5.txt\" \n",
       "[19] \"/work/kk319/out/CombEffect_STARR/annotation_fragment/Input1/NR_20_chr6.txt\" \n",
       "[20] \"/work/kk319/out/CombEffect_STARR/annotation_fragment/Input1/NR_20_chr7.txt\" \n",
       "[21] \"/work/kk319/out/CombEffect_STARR/annotation_fragment/Input1/NR_20_chr8.txt\" \n",
       "[22] \"/work/kk319/out/CombEffect_STARR/annotation_fragment/Input1/NR_20_chr9.txt\" \n",
       "[23] \"/work/kk319/out/CombEffect_STARR/annotation_fragment/Input1/NR_20_chrX.txt\" \n",
       "[24] \"/work/kk319/out/CombEffect_STARR/annotation_fragment/Input1/NR_20_chrY.txt\" "
      ]
     },
     "metadata": {},
     "output_type": "display_data"
    }
   ],
   "source": [
    "FD_DAT = file.path(FD_WRK, \"annotation_fragment\")\n",
    "system(paste0(\"ls \", FD_DAT, \"/Input1/NR_20*\"), intern=TRUE)"
   ]
  },
  {
   "cell_type": "code",
   "execution_count": 8,
   "id": "ce7d4f42-3e4e-41bd-8e45-36428642e070",
   "metadata": {},
   "outputs": [
    {
     "data": {
      "text/html": [
       "'ls/work/kk319/out/CombEffect_STARR/annotation_fragment/Input1'"
      ],
      "text/latex": [
       "'ls/work/kk319/out/CombEffect\\_STARR/annotation\\_fragment/Input1'"
      ],
      "text/markdown": [
       "'ls/work/kk319/out/CombEffect_STARR/annotation_fragment/Input1'"
      ],
      "text/plain": [
       "[1] \"ls/work/kk319/out/CombEffect_STARR/annotation_fragment/Input1\""
      ]
     },
     "metadata": {},
     "output_type": "display_data"
    }
   ],
   "source": [
    "paste0(\"ls\", FD_DAT, \"/Input1\")"
   ]
  },
  {
   "cell_type": "code",
   "execution_count": 14,
   "id": "8734af51-e567-410d-99b2-165083b8b751",
   "metadata": {},
   "outputs": [
    {
     "data": {
      "text/html": [
       "<ol class=list-inline>\n",
       "\t<li>'/work/kk319/out/CombEffect_STARR/annotation_fragment/Input1/NR_20_chr17.txt'</li>\n",
       "\t<li>'/work/kk319/out/CombEffect_STARR/annotation_fragment/Input2/NR_20_chr17.txt'</li>\n",
       "\t<li>'/work/kk319/out/CombEffect_STARR/annotation_fragment/Input3/NR_20_chr17.txt'</li>\n",
       "\t<li>'/work/kk319/out/CombEffect_STARR/annotation_fragment/Input4/NR_20_chr17.txt'</li>\n",
       "\t<li>'/work/kk319/out/CombEffect_STARR/annotation_fragment/Input5/NR_20_chr17.txt'</li>\n",
       "</ol>\n"
      ],
      "text/latex": [
       "\\begin{enumerate*}\n",
       "\\item '/work/kk319/out/CombEffect\\_STARR/annotation\\_fragment/Input1/NR\\_20\\_chr17.txt'\n",
       "\\item '/work/kk319/out/CombEffect\\_STARR/annotation\\_fragment/Input2/NR\\_20\\_chr17.txt'\n",
       "\\item '/work/kk319/out/CombEffect\\_STARR/annotation\\_fragment/Input3/NR\\_20\\_chr17.txt'\n",
       "\\item '/work/kk319/out/CombEffect\\_STARR/annotation\\_fragment/Input4/NR\\_20\\_chr17.txt'\n",
       "\\item '/work/kk319/out/CombEffect\\_STARR/annotation\\_fragment/Input5/NR\\_20\\_chr17.txt'\n",
       "\\end{enumerate*}\n"
      ],
      "text/markdown": [
       "1. '/work/kk319/out/CombEffect_STARR/annotation_fragment/Input1/NR_20_chr17.txt'\n",
       "2. '/work/kk319/out/CombEffect_STARR/annotation_fragment/Input2/NR_20_chr17.txt'\n",
       "3. '/work/kk319/out/CombEffect_STARR/annotation_fragment/Input3/NR_20_chr17.txt'\n",
       "4. '/work/kk319/out/CombEffect_STARR/annotation_fragment/Input4/NR_20_chr17.txt'\n",
       "5. '/work/kk319/out/CombEffect_STARR/annotation_fragment/Input5/NR_20_chr17.txt'\n",
       "\n",
       "\n"
      ],
      "text/plain": [
       "[1] \"/work/kk319/out/CombEffect_STARR/annotation_fragment/Input1/NR_20_chr17.txt\"\n",
       "[2] \"/work/kk319/out/CombEffect_STARR/annotation_fragment/Input2/NR_20_chr17.txt\"\n",
       "[3] \"/work/kk319/out/CombEffect_STARR/annotation_fragment/Input3/NR_20_chr17.txt\"\n",
       "[4] \"/work/kk319/out/CombEffect_STARR/annotation_fragment/Input4/NR_20_chr17.txt\"\n",
       "[5] \"/work/kk319/out/CombEffect_STARR/annotation_fragment/Input5/NR_20_chr17.txt\""
      ]
     },
     "metadata": {},
     "output_type": "display_data"
    }
   ],
   "source": [
    "Sys.glob(file.path(FD_DAT, \"Input?\", \"NR_20_chr17.txt\"))"
   ]
  },
  {
   "cell_type": "code",
   "execution_count": 15,
   "id": "a82695fb-6b09-4809-9e6e-0fe4527ac0d7",
   "metadata": {},
   "outputs": [
    {
     "name": "stderr",
     "output_type": "stream",
     "text": [
      "Warning message:\n",
      "“Duplicated column names deduplicated: 'chr17' => 'chr17_1' [5]”Parsed with column specification:\n",
      "cols(\n",
      "  chr17 = col_character(),\n",
      "  `235139` = col_double(),\n",
      "  `236157` = col_double(),\n",
      "  `1` = col_double(),\n",
      "  chr17_1 = col_character(),\n",
      "  `236149` = col_double(),\n",
      "  `236163` = col_double(),\n",
      "  `NR/20` = col_character(),\n",
      "  `9.709` = col_double(),\n",
      "  `8` = col_double()\n",
      ")\n"
     ]
    }
   ],
   "source": [
    "fpath = '/work/kk319/out/CombEffect_STARR/annotation_fragment/Input1/NR_20_chr17.txt'\n",
    "dat = read_tsv(fpath)"
   ]
  },
  {
   "cell_type": "code",
   "execution_count": null,
   "id": "8bb6edf4-8823-46e6-a25d-765b60e18a8d",
   "metadata": {},
   "outputs": [],
   "source": []
  },
  {
   "cell_type": "code",
   "execution_count": 22,
   "id": "d8526f4c-788a-4fcd-bc83-c6304484826b",
   "metadata": {},
   "outputs": [],
   "source": [
    "ctypes = c(col_character(), col_integer(), col_integer(), col_integer(),\n",
    "           col_character(), col_integer(), col_integer(), col_character(),\n",
    "           col_double(), col_integer())\n",
    "cnames = c(\"Chrom_Frag\",  \"Start_Frag\",  \"End_Frag\",  \"Count_Frag\", \n",
    "           \"Chrom_Motif\", \"Start_Motif\", \"End_Motif\", \"Motif\", \"Score\", \n",
    "           \"Overlap\")\n",
    "\n",
    "fpaths  = Sys.glob(file.path(FD_DAT, \"Input?\", \"NR_20_chr17.txt\"))\n",
    "lst_bed_inp = lapply(fpaths, function(fpath){\n",
    "    dat = read_tsv(fpath, col_types=ctypes, col_names=cnames)\n",
    "    return(dat)\n",
    "})"
   ]
  },
  {
   "cell_type": "code",
   "execution_count": 23,
   "id": "f30c75b4-ce8e-4742-a7a1-19901ce76842",
   "metadata": {},
   "outputs": [],
   "source": [
    "ctypes = c(col_character(), col_integer(), col_integer(), col_integer(),\n",
    "           col_character(), col_integer(), col_integer(), col_character(),\n",
    "           col_double(), col_integer())\n",
    "cnames = c(\"Chrom_Frag\",  \"Start_Frag\",  \"End_Frag\",  \"Count_Frag\", \n",
    "           \"Chrom_Motif\", \"Start_Motif\", \"End_Motif\", \"Motif\", \"Score\", \n",
    "           \"Overlap\")\n",
    "\n",
    "fpaths  = Sys.glob(file.path(FD_DAT, \"TFX?_DMSO\", \"NR_20_chr17.txt\"))\n",
    "lst_bed_dmso = lapply(fpaths, function(fpath){\n",
    "    dat = read_tsv(fpath, col_types=ctypes, col_names=cnames)\n",
    "    return(dat)\n",
    "})"
   ]
  },
  {
   "cell_type": "code",
   "execution_count": 24,
   "id": "3396a5f6-f831-42a6-b635-2ccab2d55b56",
   "metadata": {},
   "outputs": [],
   "source": [
    "ctypes = c(col_character(), col_integer(), col_integer(), col_integer(),\n",
    "           col_character(), col_integer(), col_integer(), col_character(),\n",
    "           col_double(), col_integer())\n",
    "cnames = c(\"Chrom_Frag\",  \"Start_Frag\",  \"End_Frag\",  \"Count_Frag\", \n",
    "           \"Chrom_Motif\", \"Start_Motif\", \"End_Motif\", \"Motif\", \"Score\", \n",
    "           \"Overlap\")\n",
    "\n",
    "fpaths  = Sys.glob(file.path(FD_DAT, \"TFX?_Dex\", \"NR_20_chr17.txt\"))\n",
    "lst_bed_dex = lapply(fpaths, function(fpath){\n",
    "    dat = read_tsv(fpath, col_types=ctypes, col_names=cnames)\n",
    "    return(dat)\n",
    "})"
   ]
  },
  {
   "cell_type": "code",
   "execution_count": 17,
   "id": "c9b9c32f-8be9-46ee-b416-aa801cbe99fa",
   "metadata": {},
   "outputs": [
    {
     "data": {
      "text/html": [
       "<table>\n",
       "<thead><tr><th scope=col>Chrom_Frag</th><th scope=col>Start_Frag</th><th scope=col>End_Frag</th><th scope=col>Count_Frag</th><th scope=col>Chrom_Motif</th><th scope=col>Start_Motif</th><th scope=col>End_Motif</th><th scope=col>Motif</th><th scope=col>Score</th><th scope=col>Overlap</th></tr></thead>\n",
       "<tbody>\n",
       "\t<tr><td>chr17 </td><td>235139</td><td>236157</td><td>1     </td><td>chr17 </td><td>236149</td><td>236163</td><td>NR/20 </td><td>9.7090</td><td> 8    </td></tr>\n",
       "\t<tr><td>chr17 </td><td>235153</td><td>236234</td><td>1     </td><td>chr17 </td><td>236149</td><td>236163</td><td>NR/20 </td><td>9.7090</td><td>14    </td></tr>\n",
       "\t<tr><td>chr17 </td><td>235228</td><td>236185</td><td>1     </td><td>chr17 </td><td>236149</td><td>236163</td><td>NR/20 </td><td>9.7090</td><td>14    </td></tr>\n",
       "\t<tr><td>chr17 </td><td>235539</td><td>236513</td><td>1     </td><td>chr17 </td><td>236149</td><td>236163</td><td>NR/20 </td><td>9.7090</td><td>14    </td></tr>\n",
       "\t<tr><td>chr17 </td><td>235930</td><td>236950</td><td>1     </td><td>chr17 </td><td>236149</td><td>236163</td><td>NR/20 </td><td>9.7090</td><td>14    </td></tr>\n",
       "\t<tr><td>chr17 </td><td>404679</td><td>405594</td><td>1     </td><td>chr17 </td><td>405453</td><td>405467</td><td>NR/20 </td><td>8.0088</td><td>14    </td></tr>\n",
       "</tbody>\n",
       "</table>\n"
      ],
      "text/latex": [
       "\\begin{tabular}{r|llllllllll}\n",
       " Chrom\\_Frag & Start\\_Frag & End\\_Frag & Count\\_Frag & Chrom\\_Motif & Start\\_Motif & End\\_Motif & Motif & Score & Overlap\\\\\n",
       "\\hline\n",
       "\t chr17  & 235139 & 236157 & 1      & chr17  & 236149 & 236163 & NR/20  & 9.7090 &  8    \\\\\n",
       "\t chr17  & 235153 & 236234 & 1      & chr17  & 236149 & 236163 & NR/20  & 9.7090 & 14    \\\\\n",
       "\t chr17  & 235228 & 236185 & 1      & chr17  & 236149 & 236163 & NR/20  & 9.7090 & 14    \\\\\n",
       "\t chr17  & 235539 & 236513 & 1      & chr17  & 236149 & 236163 & NR/20  & 9.7090 & 14    \\\\\n",
       "\t chr17  & 235930 & 236950 & 1      & chr17  & 236149 & 236163 & NR/20  & 9.7090 & 14    \\\\\n",
       "\t chr17  & 404679 & 405594 & 1      & chr17  & 405453 & 405467 & NR/20  & 8.0088 & 14    \\\\\n",
       "\\end{tabular}\n"
      ],
      "text/markdown": [
       "\n",
       "| Chrom_Frag | Start_Frag | End_Frag | Count_Frag | Chrom_Motif | Start_Motif | End_Motif | Motif | Score | Overlap |\n",
       "|---|---|---|---|---|---|---|---|---|---|\n",
       "| chr17  | 235139 | 236157 | 1      | chr17  | 236149 | 236163 | NR/20  | 9.7090 |  8     |\n",
       "| chr17  | 235153 | 236234 | 1      | chr17  | 236149 | 236163 | NR/20  | 9.7090 | 14     |\n",
       "| chr17  | 235228 | 236185 | 1      | chr17  | 236149 | 236163 | NR/20  | 9.7090 | 14     |\n",
       "| chr17  | 235539 | 236513 | 1      | chr17  | 236149 | 236163 | NR/20  | 9.7090 | 14     |\n",
       "| chr17  | 235930 | 236950 | 1      | chr17  | 236149 | 236163 | NR/20  | 9.7090 | 14     |\n",
       "| chr17  | 404679 | 405594 | 1      | chr17  | 405453 | 405467 | NR/20  | 8.0088 | 14     |\n",
       "\n"
      ],
      "text/plain": [
       "  Chrom_Frag Start_Frag End_Frag Count_Frag Chrom_Motif Start_Motif End_Motif\n",
       "1 chr17      235139     236157   1          chr17       236149      236163   \n",
       "2 chr17      235153     236234   1          chr17       236149      236163   \n",
       "3 chr17      235228     236185   1          chr17       236149      236163   \n",
       "4 chr17      235539     236513   1          chr17       236149      236163   \n",
       "5 chr17      235930     236950   1          chr17       236149      236163   \n",
       "6 chr17      404679     405594   1          chr17       405453      405467   \n",
       "  Motif Score  Overlap\n",
       "1 NR/20 9.7090  8     \n",
       "2 NR/20 9.7090 14     \n",
       "3 NR/20 9.7090 14     \n",
       "4 NR/20 9.7090 14     \n",
       "5 NR/20 9.7090 14     \n",
       "6 NR/20 8.0088 14     "
      ]
     },
     "metadata": {},
     "output_type": "display_data"
    }
   ],
   "source": [
    "dat = lst_inp[[1]]\n",
    "head(dat)"
   ]
  },
  {
   "cell_type": "code",
   "execution_count": 18,
   "id": "407b3392-8e44-44b9-a9bd-fdadfd177338",
   "metadata": {},
   "outputs": [],
   "source": [
    "lst_inp = lst_bed_inp\n",
    "lst_inp = lapply(lst_inp, function(dat){\n",
    "    tmp = dat %>% dplyr::select(Chrom_Frag, Start_Frag, End_Frag, Count_Frag) %>% distinct\n",
    "    return(tmp)\n",
    "})"
   ]
  },
  {
   "cell_type": "code",
   "execution_count": 25,
   "id": "20003330-8db0-45c7-a093-c4c97e96854b",
   "metadata": {},
   "outputs": [],
   "source": [
    "lst_dmso = lst_bed_dmso\n",
    "lst_dmso = lapply(lst_dmso, function(dat){\n",
    "    tmp = dat %>% dplyr::select(Chrom_Frag, Start_Frag, End_Frag, Count_Frag) %>% distinct\n",
    "    return(tmp)\n",
    "})"
   ]
  },
  {
   "cell_type": "code",
   "execution_count": 26,
   "id": "035e4afb-098c-4b33-86b6-1f42626505b7",
   "metadata": {},
   "outputs": [],
   "source": [
    "lst_dex = lst_bed_dex\n",
    "lst_dex = lapply(lst_dex, function(dat){\n",
    "    tmp = dat %>% dplyr::select(Chrom_Frag, Start_Frag, End_Frag, Count_Frag) %>% distinct\n",
    "    return(tmp)\n",
    "})"
   ]
  },
  {
   "cell_type": "code",
   "execution_count": 33,
   "id": "0fb39bfd-4eea-4fed-afa8-3189752daf70",
   "metadata": {},
   "outputs": [],
   "source": [
    "dat = data.frame(\n",
    "    Sample = c(rep(\"Input\", 5), rep(\"DMSO\", 4), rep(\"Dex\", 4)),\n",
    "    Value  = c(\n",
    "        unlist(lapply(lst_inp,  nrow)),\n",
    "        unlist(lapply(lst_dmso, nrow)),\n",
    "        unlist(lapply(lst_dex,  nrow))\n",
    "))\n",
    "\n",
    "dat$Sample = factor(dat$Sample, levels=c(\"Input\", \"DMSO\", \"Dex\"))"
   ]
  },
  {
   "cell_type": "code",
   "execution_count": 59,
   "id": "e762b49e-f989-4dec-a4c3-0c24577b4795",
   "metadata": {},
   "outputs": [
    {
     "data": {
      "image/png": "[encoded data removed]",
      "text/plain": [
       "plot without title"
      ]
     },
     "metadata": {},
     "output_type": "display_data"
    }
   ],
   "source": [
    "options(repr.plot.height=3, repr.plot.width=4)\n",
    "set.seed(123)\n",
    "ggplot(dat, aes(x=Sample, y=Value)) + geom_jitter(width=0.1) + theme_bw()"
   ]
  },
  {
   "cell_type": "code",
   "execution_count": 83,
   "id": "7363f8a6-cec2-4c78-8b56-7384f941acce",
   "metadata": {},
   "outputs": [
    {
     "data": {
      "image/png": "[encoded data removed]",
      "text/plain": [
       "plot without title"
      ]
     },
     "metadata": {},
     "output_type": "display_data"
    }
   ],
   "source": [
    "set.seed(123)\n",
    "tmp = dat %>% dplyr::filter(Sample != \"Dex\")\n",
    "tmp$Sample = factor(tmp$Sample, levels=c(\"Input\", \"DMSO\"))\n",
    "gp1 = ggplot(tmp, aes(x=Sample, y=Value)) + \n",
    "    geom_jitter(width=0.1) + \n",
    "    theme_bw() + \n",
    "    ylim(150000, 600000) +\n",
    "    geom_smooth(\n",
    "        aes(x=as.numeric(Sample), y=Value),\n",
    "        method = lm, se = FALSE, color=\"blue\")\n",
    "\n",
    "set.seed(123)\n",
    "tmp = dat %>% dplyr::filter(Sample != \"DMSO\")\n",
    "tmp$Sample = factor(tmp$Sample, levels=c(\"Input\", \"Dex\"))\n",
    "gp2 = ggplot(tmp, aes(x=Sample, y=Value)) + \n",
    "    geom_jitter(width=0.1) + \n",
    "    theme_bw() + \n",
    "    ylim(150000, 600000) +\n",
    "    geom_smooth(\n",
    "        aes(x=as.numeric(Sample), y=Value),\n",
    "        method = lm, se = FALSE, color=\"red\")\n",
    "\n",
    "options(repr.plot.height=3, repr.plot.width=8)\n",
    "grid.arrange(gp1, gp2, ncol=2)"
   ]
  },
  {
   "cell_type": "code",
   "execution_count": 54,
   "id": "80d7e4e1-85f2-498c-9662-37e5d0c7ded2",
   "metadata": {},
   "outputs": [
    {
     "data": {
      "text/html": [
       "<table>\n",
       "<thead><tr><th scope=col>(Intercept)</th><th scope=col>SampleDMSO</th><th scope=col>SampleDex</th></tr></thead>\n",
       "<tbody>\n",
       "\t<tr><td>1</td><td>0</td><td>0</td></tr>\n",
       "\t<tr><td>1</td><td>0</td><td>0</td></tr>\n",
       "\t<tr><td>1</td><td>0</td><td>0</td></tr>\n",
       "\t<tr><td>1</td><td>0</td><td>0</td></tr>\n",
       "\t<tr><td>1</td><td>0</td><td>0</td></tr>\n",
       "\t<tr><td>1</td><td>1</td><td>0</td></tr>\n",
       "\t<tr><td>1</td><td>1</td><td>0</td></tr>\n",
       "\t<tr><td>1</td><td>1</td><td>0</td></tr>\n",
       "\t<tr><td>1</td><td>1</td><td>0</td></tr>\n",
       "\t<tr><td>1</td><td>1</td><td>1</td></tr>\n",
       "\t<tr><td>1</td><td>1</td><td>1</td></tr>\n",
       "\t<tr><td>1</td><td>1</td><td>1</td></tr>\n",
       "\t<tr><td>1</td><td>1</td><td>1</td></tr>\n",
       "</tbody>\n",
       "</table>\n"
      ],
      "text/latex": [
       "\\begin{tabular}{r|lll}\n",
       " (Intercept) & SampleDMSO & SampleDex\\\\\n",
       "\\hline\n",
       "\t 1 & 0 & 0\\\\\n",
       "\t 1 & 0 & 0\\\\\n",
       "\t 1 & 0 & 0\\\\\n",
       "\t 1 & 0 & 0\\\\\n",
       "\t 1 & 0 & 0\\\\\n",
       "\t 1 & 1 & 0\\\\\n",
       "\t 1 & 1 & 0\\\\\n",
       "\t 1 & 1 & 0\\\\\n",
       "\t 1 & 1 & 0\\\\\n",
       "\t 1 & 1 & 1\\\\\n",
       "\t 1 & 1 & 1\\\\\n",
       "\t 1 & 1 & 1\\\\\n",
       "\t 1 & 1 & 1\\\\\n",
       "\\end{tabular}\n"
      ],
      "text/markdown": [
       "\n",
       "| (Intercept) | SampleDMSO | SampleDex |\n",
       "|---|---|---|\n",
       "| 1 | 0 | 0 |\n",
       "| 1 | 0 | 0 |\n",
       "| 1 | 0 | 0 |\n",
       "| 1 | 0 | 0 |\n",
       "| 1 | 0 | 0 |\n",
       "| 1 | 1 | 0 |\n",
       "| 1 | 1 | 0 |\n",
       "| 1 | 1 | 0 |\n",
       "| 1 | 1 | 0 |\n",
       "| 1 | 1 | 1 |\n",
       "| 1 | 1 | 1 |\n",
       "| 1 | 1 | 1 |\n",
       "| 1 | 1 | 1 |\n",
       "\n"
      ],
      "text/plain": [
       "   (Intercept) SampleDMSO SampleDex\n",
       "1  1           0          0        \n",
       "2  1           0          0        \n",
       "3  1           0          0        \n",
       "4  1           0          0        \n",
       "5  1           0          0        \n",
       "6  1           1          0        \n",
       "7  1           1          0        \n",
       "8  1           1          0        \n",
       "9  1           1          0        \n",
       "10 1           1          1        \n",
       "11 1           1          1        \n",
       "12 1           1          1        \n",
       "13 1           1          1        "
      ]
     },
     "metadata": {},
     "output_type": "display_data"
    }
   ],
   "source": [
    "X = model.matrix(~ Sample, dat)\n",
    "X[,\"SampleDMSO\"] = X[,\"SampleDMSO\"] + X[,\"SampleDex\"]\n",
    "X"
   ]
  },
  {
   "cell_type": "code",
   "execution_count": 51,
   "id": "1aaa6c19-8fad-437c-86b1-0f39ea31fbfe",
   "metadata": {},
   "outputs": [
    {
     "data": {
      "text/html": [
       "<ol class=list-inline>\n",
       "\t<li>235113</li>\n",
       "\t<li>254911</li>\n",
       "\t<li>297499</li>\n",
       "\t<li>238601</li>\n",
       "\t<li>191470</li>\n",
       "\t<li>475733</li>\n",
       "\t<li>298238</li>\n",
       "\t<li>349944</li>\n",
       "\t<li>327486</li>\n",
       "\t<li>570016</li>\n",
       "\t<li>356395</li>\n",
       "\t<li>489276</li>\n",
       "\t<li>589068</li>\n",
       "</ol>\n"
      ],
      "text/latex": [
       "\\begin{enumerate*}\n",
       "\\item 235113\n",
       "\\item 254911\n",
       "\\item 297499\n",
       "\\item 238601\n",
       "\\item 191470\n",
       "\\item 475733\n",
       "\\item 298238\n",
       "\\item 349944\n",
       "\\item 327486\n",
       "\\item 570016\n",
       "\\item 356395\n",
       "\\item 489276\n",
       "\\item 589068\n",
       "\\end{enumerate*}\n"
      ],
      "text/markdown": [
       "1. 235113\n",
       "2. 254911\n",
       "3. 297499\n",
       "4. 238601\n",
       "5. 191470\n",
       "6. 475733\n",
       "7. 298238\n",
       "8. 349944\n",
       "9. 327486\n",
       "10. 570016\n",
       "11. 356395\n",
       "12. 489276\n",
       "13. 589068\n",
       "\n",
       "\n"
      ],
      "text/plain": [
       " [1] 235113 254911 297499 238601 191470 475733 298238 349944 327486 570016\n",
       "[11] 356395 489276 589068"
      ]
     },
     "metadata": {},
     "output_type": "display_data"
    }
   ],
   "source": [
    "y = dat$Value\n",
    "y"
   ]
  },
  {
   "cell_type": "code",
   "execution_count": 55,
   "id": "8d36e09a-96e6-4bf5-a7f9-4146bb9c548a",
   "metadata": {},
   "outputs": [
    {
     "name": "stdout",
     "output_type": "stream",
     "text": [
      "\n",
      "Call:\n",
      "lm(formula = y ~ X + 0)\n",
      "\n",
      "Coefficients:\n",
      "X(Intercept)   XSampleDMSO    XSampleDex  \n",
      "      243519        119331        138338  \n",
      "\n"
     ]
    }
   ],
   "source": [
    "fit = lm(y ~ X + 0)\n",
    "print(fit)"
   ]
  },
  {
   "cell_type": "code",
   "execution_count": 56,
   "id": "052b28c2-51b6-4295-88f4-2b86adf98510",
   "metadata": {},
   "outputs": [
    {
     "name": "stdout",
     "output_type": "stream",
     "text": [
      "\n",
      "Call:\n",
      "lm(formula = y ~ X + 0)\n",
      "\n",
      "Residuals:\n",
      "    Min      1Q  Median      3Q     Max \n",
      "-144794  -35364   -8406   53980  112883 \n",
      "\n",
      "Coefficients:\n",
      "             Estimate Std. Error t value Pr(>|t|)    \n",
      "X(Intercept)   243519      33985   7.165 3.05e-05 ***\n",
      "XSampleDMSO    119331      50978   2.341   0.0413 *  \n",
      "XSampleDex     138338      53735   2.574   0.0277 *  \n",
      "---\n",
      "Signif. codes:  0 ‘***’ 0.001 ‘**’ 0.01 ‘*’ 0.05 ‘.’ 0.1 ‘ ’ 1\n",
      "\n",
      "Residual standard error: 75990 on 10 degrees of freedom\n",
      "Multiple R-squared:  0.9694,\tAdjusted R-squared:  0.9602 \n",
      "F-statistic: 105.5 on 3 and 10 DF,  p-value: 7.199e-08\n",
      "\n"
     ]
    }
   ],
   "source": [
    "res = summary(fit)\n",
    "print(res)"
   ]
  },
  {
   "cell_type": "code",
   "execution_count": null,
   "id": "3c199482-6a77-4a59-acc0-4897ba5db366",
   "metadata": {},
   "outputs": [],
   "source": []
  }
 ],
 "metadata": {
  "kernelspec": {
   "display_name": "R",
   "language": "R",
   "name": "ir"
  },
  "language_info": {
   "codemirror_mode": "r",
   "file_extension": ".r",
   "mimetype": "text/x-r-source",
   "name": "R",
   "pygments_lexer": "r",
   "version": "3.6.1"
  }
 },
 "nbformat": 4,
 "nbformat_minor": 5
}
