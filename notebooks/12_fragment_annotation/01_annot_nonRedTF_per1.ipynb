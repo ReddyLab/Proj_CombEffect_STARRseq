{
 "cells": [
  {
   "cell_type": "markdown",
   "id": "be40fb29-eb7b-4142-b534-b56aab13f2dc",
   "metadata": {},
   "source": [
    "# Annotate fragment using nonRedundant TF archetype"
   ]
  },
  {
   "cell_type": "markdown",
   "id": "03132854-f889-4089-be8a-f1cfbe3d0941",
   "metadata": {},
   "source": [
    "**Set environment**"
   ]
  },
  {
   "cell_type": "code",
   "execution_count": 1,
   "id": "1f1df8f6-6158-45a1-9c0d-5ffc560a32f5",
   "metadata": {},
   "outputs": [
    {
     "name": "stdout",
     "output_type": "stream",
     "text": [
      "You are on Duke Server: HARDAC\n",
      "BASE DIRECTORY:     /gpfs/fs1/data/reddylab/Kuei\n",
      "PATH OF SOURCE:     /gpfs/fs1/data/reddylab/Kuei/source\n",
      "PATH OF EXECUTABLE: /gpfs/fs1/data/reddylab/Kuei/exe\n",
      "PATH OF ANNOTATION: /gpfs/fs1/data/reddylab/Kuei/annotation\n",
      "PATH OF PROJECT:    /gpfs/fs1/data/reddylab/Kuei/GitRepo/Proj_CombEffect_STARRseq/notebooks\n",
      "PATH OF RESULTS:    /gpfs/fs1/data/reddylab/Kuei/out/proj_combeffect\n",
      "\n"
     ]
    }
   ],
   "source": [
    "source ../config_duke.sh -v"
   ]
  },
  {
   "cell_type": "markdown",
   "id": "2ab0f6a8-812f-49e6-b691-206362a9f624",
   "metadata": {},
   "source": [
    "**Input**"
   ]
  },
  {
   "cell_type": "code",
   "execution_count": 21,
   "id": "93c2f50f-348e-4c03-8fbc-1adce028c110",
   "metadata": {},
   "outputs": [
    {
     "name": "stdout",
     "output_type": "stream",
     "text": [
      "\u001b[0m\u001b[38;5;27m/gpfs/fs1/data/reddylab/Kuei/out/proj_combeffect/count_fragment/Input1/\u001b[0m\n",
      "\u001b[38;5;27m/gpfs/fs1/data/reddylab/Kuei/out/proj_combeffect/count_fragment/Input1_20x/\u001b[0m\n",
      "\u001b[38;5;27m/gpfs/fs1/data/reddylab/Kuei/out/proj_combeffect/count_fragment/Input2/\u001b[0m\n",
      "\u001b[38;5;27m/gpfs/fs1/data/reddylab/Kuei/out/proj_combeffect/count_fragment/Input2_20x/\u001b[0m\n",
      "\u001b[38;5;27m/gpfs/fs1/data/reddylab/Kuei/out/proj_combeffect/count_fragment/Input3/\u001b[0m\n",
      "\u001b[38;5;27m/gpfs/fs1/data/reddylab/Kuei/out/proj_combeffect/count_fragment/Input3_20x/\u001b[0m\n",
      "\u001b[38;5;27m/gpfs/fs1/data/reddylab/Kuei/out/proj_combeffect/count_fragment/Input4/\u001b[0m\n",
      "\u001b[38;5;27m/gpfs/fs1/data/reddylab/Kuei/out/proj_combeffect/count_fragment/Input4_20x/\u001b[0m\n",
      "\u001b[38;5;27m/gpfs/fs1/data/reddylab/Kuei/out/proj_combeffect/count_fragment/Input5/\u001b[0m\n",
      "\u001b[38;5;27m/gpfs/fs1/data/reddylab/Kuei/out/proj_combeffect/count_fragment/Input5_20x/\u001b[0m\n",
      "\u001b[38;5;27m/gpfs/fs1/data/reddylab/Kuei/out/proj_combeffect/count_fragment/TFX2_Dex/\u001b[0m\n",
      "\u001b[38;5;27m/gpfs/fs1/data/reddylab/Kuei/out/proj_combeffect/count_fragment/TFX2_DMSO/\u001b[0m\n",
      "\u001b[38;5;27m/gpfs/fs1/data/reddylab/Kuei/out/proj_combeffect/count_fragment/TFX3_Dex/\u001b[0m\n",
      "\u001b[38;5;27m/gpfs/fs1/data/reddylab/Kuei/out/proj_combeffect/count_fragment/TFX3_DMSO/\u001b[0m\n",
      "\u001b[38;5;27m/gpfs/fs1/data/reddylab/Kuei/out/proj_combeffect/count_fragment/TFX4_Dex/\u001b[0m\n",
      "\u001b[38;5;27m/gpfs/fs1/data/reddylab/Kuei/out/proj_combeffect/count_fragment/TFX4_DMSO/\u001b[0m\n",
      "\u001b[38;5;27m/gpfs/fs1/data/reddylab/Kuei/out/proj_combeffect/count_fragment/TFX5_Dex/\u001b[0m\n",
      "\u001b[38;5;27m/gpfs/fs1/data/reddylab/Kuei/out/proj_combeffect/count_fragment/TFX5_DMSO/\u001b[0m\n"
     ]
    }
   ],
   "source": [
    "ls -d ${FD_RES}/count_fragment/{Input?*,TFX?_DMSO,TFX?_Dex}/"
   ]
  },
  {
   "cell_type": "code",
   "execution_count": 19,
   "id": "9fb102dc-b40a-4208-b900-0d2202616ec2",
   "metadata": {},
   "outputs": [
    {
     "name": "stdout",
     "output_type": "stream",
     "text": [
      "\u001b[0m\u001b[38;5;9m/gpfs/fs1/data/reddylab/Kuei/out/proj_combeffect/count_fragment/Input1_20x/target_PER1.bed.gz\u001b[0m\u001b[K\n",
      "\u001b[38;5;9m/gpfs/fs1/data/reddylab/Kuei/out/proj_combeffect/count_fragment/Input1/target_PER1.bed.gz\u001b[0m\u001b[K\n",
      "\u001b[38;5;9m/gpfs/fs1/data/reddylab/Kuei/out/proj_combeffect/count_fragment/Input2_20x/target_PER1.bed.gz\u001b[0m\u001b[K\n",
      "\u001b[38;5;9m/gpfs/fs1/data/reddylab/Kuei/out/proj_combeffect/count_fragment/Input2/target_PER1.bed.gz\u001b[0m\u001b[K\n",
      "\u001b[38;5;9m/gpfs/fs1/data/reddylab/Kuei/out/proj_combeffect/count_fragment/Input3_20x/target_PER1.bed.gz\u001b[0m\u001b[K\n",
      "\u001b[38;5;9m/gpfs/fs1/data/reddylab/Kuei/out/proj_combeffect/count_fragment/Input3/target_PER1.bed.gz\u001b[0m\u001b[K\n",
      "\u001b[38;5;9m/gpfs/fs1/data/reddylab/Kuei/out/proj_combeffect/count_fragment/Input4_20x/target_PER1.bed.gz\u001b[0m\u001b[K\n",
      "\u001b[38;5;9m/gpfs/fs1/data/reddylab/Kuei/out/proj_combeffect/count_fragment/Input4/target_PER1.bed.gz\u001b[0m\u001b[K\n",
      "\u001b[38;5;9m/gpfs/fs1/data/reddylab/Kuei/out/proj_combeffect/count_fragment/Input5_20x/target_PER1.bed.gz\u001b[0m\u001b[K\n",
      "\u001b[38;5;9m/gpfs/fs1/data/reddylab/Kuei/out/proj_combeffect/count_fragment/Input5/target_PER1.bed.gz\u001b[0m\u001b[K\n",
      "\u001b[38;5;9m/gpfs/fs1/data/reddylab/Kuei/out/proj_combeffect/count_fragment/TFX2_Dex/target_PER1.bed.gz\u001b[0m\u001b[K\n",
      "\u001b[38;5;9m/gpfs/fs1/data/reddylab/Kuei/out/proj_combeffect/count_fragment/TFX2_DMSO/target_PER1.bed.gz\u001b[0m\u001b[K\n",
      "\u001b[38;5;9m/gpfs/fs1/data/reddylab/Kuei/out/proj_combeffect/count_fragment/TFX3_Dex/target_PER1.bed.gz\u001b[0m\u001b[K\n",
      "\u001b[38;5;9m/gpfs/fs1/data/reddylab/Kuei/out/proj_combeffect/count_fragment/TFX3_DMSO/target_PER1.bed.gz\u001b[0m\u001b[K\n",
      "\u001b[38;5;9m/gpfs/fs1/data/reddylab/Kuei/out/proj_combeffect/count_fragment/TFX4_Dex/target_PER1.bed.gz\u001b[0m\u001b[K\n",
      "\u001b[38;5;9m/gpfs/fs1/data/reddylab/Kuei/out/proj_combeffect/count_fragment/TFX4_DMSO/target_PER1.bed.gz\u001b[0m\u001b[K\n",
      "\u001b[38;5;9m/gpfs/fs1/data/reddylab/Kuei/out/proj_combeffect/count_fragment/TFX5_Dex/target_PER1.bed.gz\u001b[0m\u001b[K\n",
      "\u001b[38;5;9m/gpfs/fs1/data/reddylab/Kuei/out/proj_combeffect/count_fragment/TFX5_DMSO/target_PER1.bed.gz\u001b[0m\u001b[K\n"
     ]
    }
   ],
   "source": [
    "ls ${FD_RES}/count_fragment/{Input?*,TFX?_DMSO,TFX?_Dex}/target_PER1.bed.gz"
   ]
  },
  {
   "cell_type": "markdown",
   "id": "99946d29-7cbf-4b0d-8ce1-98bc2ce19a99",
   "metadata": {},
   "source": [
    "**Output**"
   ]
  },
  {
   "cell_type": "code",
   "execution_count": 4,
   "id": "2ca929d8-855a-4e27-94bf-3de24833fb5e",
   "metadata": {},
   "outputs": [
    {
     "name": "stdout",
     "output_type": "stream",
     "text": [
      "\u001b[0m\u001b[38;5;27m/gpfs/fs1/data/reddylab/Kuei/out/proj_combeffect/annotation_fragment/filter_motif_score095/\u001b[0m\u001b[K\n",
      "\u001b[38;5;27m/gpfs/fs1/data/reddylab/Kuei/out/proj_combeffect/annotation_fragment/Input1/\u001b[0m\n",
      "\u001b[38;5;27m/gpfs/fs1/data/reddylab/Kuei/out/proj_combeffect/annotation_fragment/Input2/\u001b[0m\n",
      "\u001b[38;5;27m/gpfs/fs1/data/reddylab/Kuei/out/proj_combeffect/annotation_fragment/Input3/\u001b[0m\n",
      "\u001b[38;5;27m/gpfs/fs1/data/reddylab/Kuei/out/proj_combeffect/annotation_fragment/Input4/\u001b[0m\n",
      "\u001b[38;5;27m/gpfs/fs1/data/reddylab/Kuei/out/proj_combeffect/annotation_fragment/Input5/\u001b[0m\n",
      "\u001b[38;5;27m/gpfs/fs1/data/reddylab/Kuei/out/proj_combeffect/annotation_fragment/TFX2_Dex/\u001b[0m\n",
      "\u001b[38;5;27m/gpfs/fs1/data/reddylab/Kuei/out/proj_combeffect/annotation_fragment/TFX2_DMSO/\u001b[0m\n",
      "\u001b[38;5;27m/gpfs/fs1/data/reddylab/Kuei/out/proj_combeffect/annotation_fragment/TFX3_Dex/\u001b[0m\n",
      "\u001b[38;5;27m/gpfs/fs1/data/reddylab/Kuei/out/proj_combeffect/annotation_fragment/TFX3_DMSO/\u001b[0m\n",
      "\u001b[38;5;27m/gpfs/fs1/data/reddylab/Kuei/out/proj_combeffect/annotation_fragment/TFX4_Dex/\u001b[0m\n",
      "\u001b[38;5;27m/gpfs/fs1/data/reddylab/Kuei/out/proj_combeffect/annotation_fragment/TFX4_DMSO/\u001b[0m\n",
      "\u001b[38;5;27m/gpfs/fs1/data/reddylab/Kuei/out/proj_combeffect/annotation_fragment/TFX5_Dex/\u001b[0m\n",
      "\u001b[38;5;27m/gpfs/fs1/data/reddylab/Kuei/out/proj_combeffect/annotation_fragment/TFX5_DMSO/\u001b[0m\n"
     ]
    }
   ],
   "source": [
    "ls -d ${FD_RES}/annotation_fragment/*/"
   ]
  },
  {
   "cell_type": "markdown",
   "id": "70eba36b-f62a-424a-950c-04656f4e175f",
   "metadata": {},
   "source": [
    "**TEST**"
   ]
  },
  {
   "cell_type": "code",
   "execution_count": 6,
   "id": "399e8a5a-1e0f-4ef7-b4e6-d38c137425a9",
   "metadata": {},
   "outputs": [
    {
     "name": "stdout",
     "output_type": "stream",
     "text": [
      "/gpfs/fs1/data/reddylab/Kuei/annotation/genome/hg38/fasta/chr17.fa\n"
     ]
    }
   ],
   "source": [
    "CHROM=chr17\n",
    "FD_GEN=${FD_ANN}/genome/hg38/fasta\n",
    "FN_GEN=${CHROM}.fa\n",
    "ls ${FD_GEN}/${FN_GEN}"
   ]
  },
  {
   "cell_type": "markdown",
   "id": "78b11a69-02d5-4c85-890b-2534cdbea872",
   "metadata": {},
   "source": [
    "**RUN**"
   ]
  },
  {
   "cell_type": "code",
   "execution_count": 8,
   "id": "89712e9b-7f32-45ff-8a5b-b4beaabed38e",
   "metadata": {},
   "outputs": [
    {
     "name": "stdout",
     "output_type": "stream",
     "text": [
      "\u001b[0m\u001b[38;5;27m/gpfs/fs1/data/reddylab/Kuei/out/proj_combeffect/log\u001b[0m\n",
      "all\n"
     ]
    }
   ],
   "source": [
    "ls -d ${FD_LOG}\n",
    "echo ${NODE}"
   ]
  },
  {
   "cell_type": "code",
   "execution_count": 24,
   "id": "f3528469-d140-4373-b3e3-c4efa50e56b0",
   "metadata": {},
   "outputs": [
    {
     "name": "stdout",
     "output_type": "stream",
     "text": [
      "Submitted batch job 26142862\n"
     ]
    }
   ],
   "source": [
    "### set env\n",
    "source ../config_duke.sh\n",
    "source ../config_load_module_bedtools.sh\n",
    "\n",
    "sbatch -p ${NODE} \\\n",
    "    --mem 20G \\\n",
    "    -o ${FD_LOG}/annotate_fragment_per1.txt \\\n",
    "    <<'EOF'\n",
    "#!/bin/bash\n",
    "### set directories & global variables\n",
    "source ../config_duke.sh\n",
    "#CHROMS=($(seq 1 22) X Y)\n",
    "#CHROM=chr${CHROMS[${SLURM_ARRAY_TASK_ID}]}\n",
    "#TARGET=${CHROM}\n",
    "CHROM=chr17\n",
    "TARGET=target_PER1\n",
    "\n",
    "### set input and output\n",
    "FD_BEDS=($(ls -d ${FD_RES}/count_fragment/{Input?*,TFX?_DMSO,TFX?_Dex}/))\n",
    "FN_BED=${TARGET}.bed.gz\n",
    "\n",
    "### motif annotation\n",
    "FD_MTF=${FD_ANN}/motif_cluster_jvierstra/hg38_archetype_motifs_v1\n",
    "FN_MTF=${CHROM}_rm_mouse_merge.bed.gz\n",
    "\n",
    "### print start message\n",
    "echo \"Slurm Array Index: \" ${SLURM_ARRAY_TASK_ID}\n",
    "\n",
    "### loop through each sample and count each fragment of a chromosome\n",
    "echo \"RUN: loop through samples; annotate fragment\"\n",
    "\n",
    "for FD_BED in ${FD_BEDS[@]}; do\n",
    "    SAMPLE=$(basename ${FD_BED})\n",
    "    FD_OUT=${FD_RES}/annotation_fragment/${SAMPLE}\n",
    "    FN_OUT=${TARGET}.bed.gz\n",
    "    \n",
    "    ### START Message\n",
    "    echo ++++++++++++++++++++++++++++++++++++++++++++++++\n",
    "    echo \"Input  file: \" ${FD_BED}/${FN_BED}\n",
    "    echo \"Output file: \" ${FD_OUT}/${FN_OUT}\n",
    "    echo\n",
    "    echo \"Show the first few lines of the input file\"\n",
    "    echo ${FD_BED}/${FN_BED}\n",
    "    zcat ${FD_BED}/${FN_BED} | head -n 3 \n",
    "    echo\n",
    "    \n",
    "    ### init: create output folder if not exist\n",
    "    mkdir -p ${FD_OUT}\n",
    "    \n",
    "    ### annotation using intersect\n",
    "    bedtools intersect -a ${FD_BED}/${FN_BED} -b ${FD_MTF}/${FN_MTF} -wo |\\\n",
    "        gzip -c > ${FD_OUT}/${FN_OUT}\n",
    "    \n",
    "    ### END Message\n",
    "    echo \"Show the first few lines of the output file\"\n",
    "    echo ${FD_OUT}/${FN_OUT}\n",
    "    zcat ${FD_OUT}/${FN_OUT} | head -n 3\n",
    "    echo\n",
    "done\n",
    "echo \"Done!\"\n",
    "\n",
    "EOF"
   ]
  },
  {
   "cell_type": "markdown",
   "id": "e1f078ce-eb03-4745-9887-f1c137dea98e",
   "metadata": {},
   "source": [
    "**CHECK**"
   ]
  },
  {
   "cell_type": "code",
   "execution_count": 25,
   "id": "99d33301-66c9-4a5c-ad6e-4a6ca8b5adb6",
   "metadata": {
    "collapsed": true,
    "jupyter": {
     "outputs_hidden": true
    },
    "tags": []
   },
   "outputs": [
    {
     "name": "stdout",
     "output_type": "stream",
     "text": [
      "Slurm Array Index: \n",
      "RUN: loop through samples; annotate fragment\n",
      "++++++++++++++++++++++++++++++++++++++++++++++++\n",
      "Input  file:  /gpfs/fs1/data/reddylab/Kuei/out/proj_combeffect/count_fragment/Input1//target_PER1.bed.gz\n",
      "Output file:  /gpfs/fs1/data/reddylab/Kuei/out/proj_combeffect/annotation_fragment/Input1/target_PER1.bed.gz\n",
      "\n",
      "Show the first few lines of the input file\n",
      "/gpfs/fs1/data/reddylab/Kuei/out/proj_combeffect/count_fragment/Input1//target_PER1.bed.gz\n",
      "chr17\t8148117\t8149012\t1\n",
      "chr17\t8148122\t8149107\t1\n",
      "chr17\t8148178\t8149194\t1\n",
      "\n",
      "Show the first few lines of the output file\n",
      "/gpfs/fs1/data/reddylab/Kuei/out/proj_combeffect/annotation_fragment/Input1/target_PER1.bed.gz\n",
      "chr17\t8148117\t8149012\t1\tchr17\t8148107\t8148124\tKLF/SP/2\t9.0318\t7\n",
      "chr17\t8148117\t8149012\t1\tchr17\t8148109\t8148121\tINSM1\t6.1647\t4\n",
      "chr17\t8148117\t8149012\t1\tchr17\t8148109\t8148129\tGC-tract\t8.3277\t12\n",
      "\n",
      "++++++++++++++++++++++++++++++++++++++++++++++++\n",
      "Input  file:  /gpfs/fs1/data/reddylab/Kuei/out/proj_combeffect/count_fragment/Input1_20x//target_PER1.bed.gz\n",
      "Output file:  /gpfs/fs1/data/reddylab/Kuei/out/proj_combeffect/annotation_fragment/Input1_20x/target_PER1.bed.gz\n",
      "\n",
      "Show the first few lines of the input file\n",
      "/gpfs/fs1/data/reddylab/Kuei/out/proj_combeffect/count_fragment/Input1_20x//target_PER1.bed.gz\n",
      "chr17\t8148003\t8148983\t3\n",
      "chr17\t8148004\t8148925\t1\n",
      "chr17\t8148004\t8148962\t1\n",
      "\n",
      "Show the first few lines of the output file\n",
      "/gpfs/fs1/data/reddylab/Kuei/out/proj_combeffect/annotation_fragment/Input1_20x/target_PER1.bed.gz\n",
      "chr17\t8148003\t8148983\t3\tchr17\t8147990\t8148009\tZNF680\t7.6684\t6\n",
      "chr17\t8148003\t8148983\t3\tchr17\t8147994\t8148004\tSMARCA1\t7.8445\t1\n",
      "chr17\t8148003\t8148983\t3\tchr17\t8148012\t8148026\tGLIS\t2.5027\t14\n",
      "\n",
      "++++++++++++++++++++++++++++++++++++++++++++++++\n",
      "Input  file:  /gpfs/fs1/data/reddylab/Kuei/out/proj_combeffect/count_fragment/Input2//target_PER1.bed.gz\n",
      "Output file:  /gpfs/fs1/data/reddylab/Kuei/out/proj_combeffect/annotation_fragment/Input2/target_PER1.bed.gz\n",
      "\n",
      "Show the first few lines of the input file\n",
      "/gpfs/fs1/data/reddylab/Kuei/out/proj_combeffect/count_fragment/Input2//target_PER1.bed.gz\n",
      "chr17\t8148003\t8149020\t1\n",
      "chr17\t8148016\t8148955\t2\n",
      "chr17\t8148186\t8149141\t1\n",
      "\n",
      "Show the first few lines of the output file\n",
      "/gpfs/fs1/data/reddylab/Kuei/out/proj_combeffect/annotation_fragment/Input2/target_PER1.bed.gz\n",
      "chr17\t8148003\t8149020\t1\tchr17\t8147990\t8148009\tZNF680\t7.6684\t6\n",
      "chr17\t8148003\t8149020\t1\tchr17\t8147994\t8148004\tSMARCA1\t7.8445\t1\n",
      "chr17\t8148003\t8149020\t1\tchr17\t8148012\t8148026\tGLIS\t2.5027\t14\n",
      "\n",
      "++++++++++++++++++++++++++++++++++++++++++++++++\n",
      "Input  file:  /gpfs/fs1/data/reddylab/Kuei/out/proj_combeffect/count_fragment/Input2_20x//target_PER1.bed.gz\n",
      "Output file:  /gpfs/fs1/data/reddylab/Kuei/out/proj_combeffect/annotation_fragment/Input2_20x/target_PER1.bed.gz\n",
      "\n",
      "Show the first few lines of the input file\n",
      "/gpfs/fs1/data/reddylab/Kuei/out/proj_combeffect/count_fragment/Input2_20x//target_PER1.bed.gz\n",
      "chr17\t8148000\t8148887\t1\n",
      "chr17\t8148000\t8148888\t1\n",
      "chr17\t8148002\t8149023\t1\n",
      "\n",
      "Show the first few lines of the output file\n",
      "/gpfs/fs1/data/reddylab/Kuei/out/proj_combeffect/annotation_fragment/Input2_20x/target_PER1.bed.gz\n",
      "chr17\t8148000\t8148887\t1\tchr17\t8147988\t8148002\tNR/20\t8.3188\t2\n",
      "chr17\t8148000\t8148887\t1\tchr17\t8147990\t8148009\tZNF680\t7.6684\t9\n",
      "chr17\t8148000\t8148887\t1\tchr17\t8147994\t8148004\tSMARCA1\t7.8445\t4\n",
      "\n",
      "++++++++++++++++++++++++++++++++++++++++++++++++\n",
      "Input  file:  /gpfs/fs1/data/reddylab/Kuei/out/proj_combeffect/count_fragment/Input3//target_PER1.bed.gz\n",
      "Output file:  /gpfs/fs1/data/reddylab/Kuei/out/proj_combeffect/annotation_fragment/Input3/target_PER1.bed.gz\n",
      "\n",
      "Show the first few lines of the input file\n",
      "/gpfs/fs1/data/reddylab/Kuei/out/proj_combeffect/count_fragment/Input3//target_PER1.bed.gz\n",
      "chr17\t8148017\t8148918\t1\n",
      "chr17\t8148022\t8149011\t1\n",
      "chr17\t8148153\t8149179\t1\n",
      "\n",
      "Show the first few lines of the output file\n",
      "/gpfs/fs1/data/reddylab/Kuei/out/proj_combeffect/annotation_fragment/Input3/target_PER1.bed.gz\n",
      "chr17\t8148017\t8148918\t1\tchr17\t8148012\t8148026\tGLIS\t2.5027\t9\n",
      "chr17\t8148017\t8148918\t1\tchr17\t8148035\t8148055\tGC-tract\t7.8208\t20\n",
      "chr17\t8148017\t8148918\t1\tchr17\t8148040\t8148059\tZNF680\t5.3763\t19\n",
      "\n",
      "++++++++++++++++++++++++++++++++++++++++++++++++\n",
      "Input  file:  /gpfs/fs1/data/reddylab/Kuei/out/proj_combeffect/count_fragment/Input3_20x//target_PER1.bed.gz\n",
      "Output file:  /gpfs/fs1/data/reddylab/Kuei/out/proj_combeffect/annotation_fragment/Input3_20x/target_PER1.bed.gz\n",
      "\n",
      "Show the first few lines of the input file\n",
      "/gpfs/fs1/data/reddylab/Kuei/out/proj_combeffect/count_fragment/Input3_20x//target_PER1.bed.gz\n",
      "chr17\t8148000\t8148888\t1\n",
      "chr17\t8148002\t8148836\t1\n",
      "chr17\t8148002\t8149023\t1\n",
      "\n",
      "Show the first few lines of the output file\n",
      "/gpfs/fs1/data/reddylab/Kuei/out/proj_combeffect/annotation_fragment/Input3_20x/target_PER1.bed.gz\n",
      "chr17\t8148000\t8148888\t1\tchr17\t8147988\t8148002\tNR/20\t8.3188\t2\n",
      "chr17\t8148000\t8148888\t1\tchr17\t8147990\t8148009\tZNF680\t7.6684\t9\n",
      "chr17\t8148000\t8148888\t1\tchr17\t8147994\t8148004\tSMARCA1\t7.8445\t4\n",
      "\n",
      "++++++++++++++++++++++++++++++++++++++++++++++++\n",
      "Input  file:  /gpfs/fs1/data/reddylab/Kuei/out/proj_combeffect/count_fragment/Input4//target_PER1.bed.gz\n",
      "Output file:  /gpfs/fs1/data/reddylab/Kuei/out/proj_combeffect/annotation_fragment/Input4/target_PER1.bed.gz\n",
      "\n",
      "Show the first few lines of the input file\n",
      "/gpfs/fs1/data/reddylab/Kuei/out/proj_combeffect/count_fragment/Input4//target_PER1.bed.gz\n",
      "chr17\t8148003\t8149021\t1\n",
      "chr17\t8148068\t8149029\t1\n",
      "chr17\t8148308\t8149342\t1\n",
      "\n",
      "Show the first few lines of the output file\n",
      "/gpfs/fs1/data/reddylab/Kuei/out/proj_combeffect/annotation_fragment/Input4/target_PER1.bed.gz\n",
      "chr17\t8148003\t8149021\t1\tchr17\t8147990\t8148009\tZNF680\t7.6684\t6\n",
      "chr17\t8148003\t8149021\t1\tchr17\t8147994\t8148004\tSMARCA1\t7.8445\t1\n",
      "chr17\t8148003\t8149021\t1\tchr17\t8148012\t8148026\tGLIS\t2.5027\t14\n",
      "\n",
      "++++++++++++++++++++++++++++++++++++++++++++++++\n",
      "Input  file:  /gpfs/fs1/data/reddylab/Kuei/out/proj_combeffect/count_fragment/Input4_20x//target_PER1.bed.gz\n",
      "Output file:  /gpfs/fs1/data/reddylab/Kuei/out/proj_combeffect/annotation_fragment/Input4_20x/target_PER1.bed.gz\n",
      "\n",
      "Show the first few lines of the input file\n",
      "/gpfs/fs1/data/reddylab/Kuei/out/proj_combeffect/count_fragment/Input4_20x//target_PER1.bed.gz\n",
      "chr17\t8148000\t8148993\t1\n",
      "chr17\t8148002\t8149066\t1\n",
      "chr17\t8148002\t8149072\t1\n",
      "\n",
      "Show the first few lines of the output file\n",
      "/gpfs/fs1/data/reddylab/Kuei/out/proj_combeffect/annotation_fragment/Input4_20x/target_PER1.bed.gz\n",
      "chr17\t8148000\t8148993\t1\tchr17\t8147988\t8148002\tNR/20\t8.3188\t2\n",
      "chr17\t8148000\t8148993\t1\tchr17\t8147990\t8148009\tZNF680\t7.6684\t9\n",
      "chr17\t8148000\t8148993\t1\tchr17\t8147994\t8148004\tSMARCA1\t7.8445\t4\n",
      "\n",
      "++++++++++++++++++++++++++++++++++++++++++++++++\n",
      "Input  file:  /gpfs/fs1/data/reddylab/Kuei/out/proj_combeffect/count_fragment/Input5//target_PER1.bed.gz\n",
      "Output file:  /gpfs/fs1/data/reddylab/Kuei/out/proj_combeffect/annotation_fragment/Input5/target_PER1.bed.gz\n",
      "\n",
      "Show the first few lines of the input file\n",
      "/gpfs/fs1/data/reddylab/Kuei/out/proj_combeffect/count_fragment/Input5//target_PER1.bed.gz\n",
      "chr17\t8148099\t8148969\t1\n",
      "chr17\t8148165\t8149437\t1\n",
      "chr17\t8148217\t8149265\t1\n",
      "\n",
      "Show the first few lines of the output file\n",
      "/gpfs/fs1/data/reddylab/Kuei/out/proj_combeffect/annotation_fragment/Input5/target_PER1.bed.gz\n",
      "chr17\t8148099\t8148969\t1\tchr17\t8148081\t8148100\tZNF324\t8.3351\t1\n",
      "chr17\t8148099\t8148969\t1\tchr17\t8148086\t8148102\tZNF549\t7.9856\t3\n",
      "chr17\t8148099\t8148969\t1\tchr17\t8148087\t8148112\tZNF354\t8.3634\t13\n",
      "\n",
      "++++++++++++++++++++++++++++++++++++++++++++++++\n",
      "Input  file:  /gpfs/fs1/data/reddylab/Kuei/out/proj_combeffect/count_fragment/Input5_20x//target_PER1.bed.gz\n",
      "Output file:  /gpfs/fs1/data/reddylab/Kuei/out/proj_combeffect/annotation_fragment/Input5_20x/target_PER1.bed.gz\n",
      "\n",
      "Show the first few lines of the input file\n",
      "/gpfs/fs1/data/reddylab/Kuei/out/proj_combeffect/count_fragment/Input5_20x//target_PER1.bed.gz\n",
      "chr17\t8148000\t8148888\t2\n",
      "chr17\t8148002\t8149066\t2\n",
      "chr17\t8148003\t8149021\t4\n",
      "\n",
      "Show the first few lines of the output file\n",
      "/gpfs/fs1/data/reddylab/Kuei/out/proj_combeffect/annotation_fragment/Input5_20x/target_PER1.bed.gz\n",
      "chr17\t8148000\t8148888\t2\tchr17\t8147988\t8148002\tNR/20\t8.3188\t2\n",
      "chr17\t8148000\t8148888\t2\tchr17\t8147990\t8148009\tZNF680\t7.6684\t9\n",
      "chr17\t8148000\t8148888\t2\tchr17\t8147994\t8148004\tSMARCA1\t7.8445\t4\n",
      "\n",
      "++++++++++++++++++++++++++++++++++++++++++++++++\n",
      "Input  file:  /gpfs/fs1/data/reddylab/Kuei/out/proj_combeffect/count_fragment/TFX2_Dex//target_PER1.bed.gz\n",
      "Output file:  /gpfs/fs1/data/reddylab/Kuei/out/proj_combeffect/annotation_fragment/TFX2_Dex/target_PER1.bed.gz\n",
      "\n",
      "Show the first few lines of the input file\n",
      "/gpfs/fs1/data/reddylab/Kuei/out/proj_combeffect/count_fragment/TFX2_Dex//target_PER1.bed.gz\n",
      "chr17\t8148000\t8148888\t1\n",
      "chr17\t8148097\t8149186\t1\n",
      "chr17\t8148180\t8149106\t1\n",
      "\n",
      "Show the first few lines of the output file\n",
      "/gpfs/fs1/data/reddylab/Kuei/out/proj_combeffect/annotation_fragment/TFX2_Dex/target_PER1.bed.gz\n",
      "chr17\t8148000\t8148888\t1\tchr17\t8147988\t8148002\tNR/20\t8.3188\t2\n",
      "chr17\t8148000\t8148888\t1\tchr17\t8147990\t8148009\tZNF680\t7.6684\t9\n",
      "chr17\t8148000\t8148888\t1\tchr17\t8147994\t8148004\tSMARCA1\t7.8445\t4\n",
      "\n",
      "++++++++++++++++++++++++++++++++++++++++++++++++\n",
      "Input  file:  /gpfs/fs1/data/reddylab/Kuei/out/proj_combeffect/count_fragment/TFX2_DMSO//target_PER1.bed.gz\n",
      "Output file:  /gpfs/fs1/data/reddylab/Kuei/out/proj_combeffect/annotation_fragment/TFX2_DMSO/target_PER1.bed.gz\n",
      "\n",
      "Show the first few lines of the input file\n",
      "/gpfs/fs1/data/reddylab/Kuei/out/proj_combeffect/count_fragment/TFX2_DMSO//target_PER1.bed.gz\n",
      "chr17\t8148000\t8148888\t1\n",
      "chr17\t8148001\t8148888\t1\n",
      "chr17\t8148049\t8148884\t1\n",
      "\n",
      "Show the first few lines of the output file\n",
      "/gpfs/fs1/data/reddylab/Kuei/out/proj_combeffect/annotation_fragment/TFX2_DMSO/target_PER1.bed.gz\n",
      "chr17\t8148000\t8148888\t1\tchr17\t8147988\t8148002\tNR/20\t8.3188\t2\n",
      "chr17\t8148000\t8148888\t1\tchr17\t8147990\t8148009\tZNF680\t7.6684\t9\n",
      "chr17\t8148000\t8148888\t1\tchr17\t8147994\t8148004\tSMARCA1\t7.8445\t4\n",
      "\n",
      "++++++++++++++++++++++++++++++++++++++++++++++++\n",
      "Input  file:  /gpfs/fs1/data/reddylab/Kuei/out/proj_combeffect/count_fragment/TFX3_Dex//target_PER1.bed.gz\n",
      "Output file:  /gpfs/fs1/data/reddylab/Kuei/out/proj_combeffect/annotation_fragment/TFX3_Dex/target_PER1.bed.gz\n",
      "\n",
      "Show the first few lines of the input file\n",
      "/gpfs/fs1/data/reddylab/Kuei/out/proj_combeffect/count_fragment/TFX3_Dex//target_PER1.bed.gz\n",
      "chr17\t8148069\t8149187\t1\n",
      "chr17\t8148070\t8149187\t1\n",
      "chr17\t8148205\t8149252\t1\n",
      "\n",
      "Show the first few lines of the output file\n",
      "/gpfs/fs1/data/reddylab/Kuei/out/proj_combeffect/annotation_fragment/TFX3_Dex/target_PER1.bed.gz\n",
      "chr17\t8148069\t8149187\t1\tchr17\t8148052\t8148071\tZNF143\t8.3023\t2\n",
      "chr17\t8148069\t8149187\t1\tchr17\t8148053\t8148072\tZFN121\t4.971\t3\n",
      "chr17\t8148069\t8149187\t1\tchr17\t8148056\t8148070\tCTCF\t9.5399\t1\n",
      "\n",
      "++++++++++++++++++++++++++++++++++++++++++++++++\n",
      "Input  file:  /gpfs/fs1/data/reddylab/Kuei/out/proj_combeffect/count_fragment/TFX3_DMSO//target_PER1.bed.gz\n",
      "Output file:  /gpfs/fs1/data/reddylab/Kuei/out/proj_combeffect/annotation_fragment/TFX3_DMSO/target_PER1.bed.gz\n",
      "\n",
      "Show the first few lines of the input file\n",
      "/gpfs/fs1/data/reddylab/Kuei/out/proj_combeffect/count_fragment/TFX3_DMSO//target_PER1.bed.gz\n",
      "chr17\t8148055\t8149134\t1\n",
      "chr17\t8148055\t8149135\t1\n",
      "chr17\t8148055\t8149136\t1\n",
      "\n",
      "Show the first few lines of the output file\n",
      "/gpfs/fs1/data/reddylab/Kuei/out/proj_combeffect/annotation_fragment/TFX3_DMSO/target_PER1.bed.gz\n",
      "chr17\t8148055\t8149134\t1\tchr17\t8148040\t8148059\tZNF680\t5.3763\t4\n",
      "chr17\t8148055\t8149134\t1\tchr17\t8148050\t8148061\tGCM\t7.5087\t6\n",
      "chr17\t8148055\t8149134\t1\tchr17\t8148050\t8148061\tNR/19\t8.2681\t6\n",
      "\n",
      "++++++++++++++++++++++++++++++++++++++++++++++++\n",
      "Input  file:  /gpfs/fs1/data/reddylab/Kuei/out/proj_combeffect/count_fragment/TFX4_Dex//target_PER1.bed.gz\n",
      "Output file:  /gpfs/fs1/data/reddylab/Kuei/out/proj_combeffect/annotation_fragment/TFX4_Dex/target_PER1.bed.gz\n",
      "\n",
      "Show the first few lines of the input file\n",
      "/gpfs/fs1/data/reddylab/Kuei/out/proj_combeffect/count_fragment/TFX4_Dex//target_PER1.bed.gz\n",
      "chr17\t8148178\t8149108\t1\n",
      "chr17\t8148178\t8149109\t1\n",
      "chr17\t8148180\t8149109\t1\n",
      "\n",
      "Show the first few lines of the output file\n",
      "/gpfs/fs1/data/reddylab/Kuei/out/proj_combeffect/annotation_fragment/TFX4_Dex/target_PER1.bed.gz\n",
      "chr17\t8148178\t8149108\t1\tchr17\t8148162\t8148184\tZNF41\t6.7295\t6\n",
      "chr17\t8148178\t8149108\t1\tchr17\t8148165\t8148182\tNR/9\t5.3954\t4\n",
      "chr17\t8148178\t8149108\t1\tchr17\t8148174\t8148194\tGC-tract\t7.2037\t16\n",
      "\n",
      "++++++++++++++++++++++++++++++++++++++++++++++++\n",
      "Input  file:  /gpfs/fs1/data/reddylab/Kuei/out/proj_combeffect/count_fragment/TFX4_DMSO//target_PER1.bed.gz\n",
      "Output file:  /gpfs/fs1/data/reddylab/Kuei/out/proj_combeffect/annotation_fragment/TFX4_DMSO/target_PER1.bed.gz\n",
      "\n",
      "Show the first few lines of the input file\n",
      "/gpfs/fs1/data/reddylab/Kuei/out/proj_combeffect/count_fragment/TFX4_DMSO//target_PER1.bed.gz\n",
      "chr17\t8148012\t8149137\t1\n",
      "chr17\t8148012\t8149138\t1\n",
      "chr17\t8148013\t8149138\t1\n",
      "\n",
      "Show the first few lines of the output file\n",
      "/gpfs/fs1/data/reddylab/Kuei/out/proj_combeffect/annotation_fragment/TFX4_DMSO/target_PER1.bed.gz\n",
      "chr17\t8148012\t8149137\t1\tchr17\t8148012\t8148026\tGLIS\t2.5027\t14\n",
      "chr17\t8148012\t8149137\t1\tchr17\t8148035\t8148055\tGC-tract\t7.8208\t20\n",
      "chr17\t8148012\t8149137\t1\tchr17\t8148040\t8148059\tZNF680\t5.3763\t19\n",
      "\n",
      "++++++++++++++++++++++++++++++++++++++++++++++++\n",
      "Input  file:  /gpfs/fs1/data/reddylab/Kuei/out/proj_combeffect/count_fragment/TFX5_Dex//target_PER1.bed.gz\n",
      "Output file:  /gpfs/fs1/data/reddylab/Kuei/out/proj_combeffect/annotation_fragment/TFX5_Dex/target_PER1.bed.gz\n",
      "\n",
      "Show the first few lines of the input file\n",
      "/gpfs/fs1/data/reddylab/Kuei/out/proj_combeffect/count_fragment/TFX5_Dex//target_PER1.bed.gz\n",
      "chr17\t8148018\t8148882\t1\n",
      "chr17\t8148019\t8148882\t1\n",
      "chr17\t8148056\t8149063\t1\n",
      "\n",
      "Show the first few lines of the output file\n",
      "/gpfs/fs1/data/reddylab/Kuei/out/proj_combeffect/annotation_fragment/TFX5_Dex/target_PER1.bed.gz\n",
      "chr17\t8148018\t8148882\t1\tchr17\t8148012\t8148026\tGLIS\t2.5027\t8\n",
      "chr17\t8148018\t8148882\t1\tchr17\t8148035\t8148055\tGC-tract\t7.8208\t20\n",
      "chr17\t8148018\t8148882\t1\tchr17\t8148040\t8148059\tZNF680\t5.3763\t19\n",
      "\n",
      "++++++++++++++++++++++++++++++++++++++++++++++++\n",
      "Input  file:  /gpfs/fs1/data/reddylab/Kuei/out/proj_combeffect/count_fragment/TFX5_DMSO//target_PER1.bed.gz\n",
      "Output file:  /gpfs/fs1/data/reddylab/Kuei/out/proj_combeffect/annotation_fragment/TFX5_DMSO/target_PER1.bed.gz\n",
      "\n",
      "Show the first few lines of the input file\n",
      "/gpfs/fs1/data/reddylab/Kuei/out/proj_combeffect/count_fragment/TFX5_DMSO//target_PER1.bed.gz\n",
      "chr17\t8148045\t8148998\t1\n",
      "chr17\t8148045\t8149000\t1\n",
      "chr17\t8148046\t8148999\t1\n",
      "\n",
      "Show the first few lines of the output file\n",
      "/gpfs/fs1/data/reddylab/Kuei/out/proj_combeffect/annotation_fragment/TFX5_DMSO/target_PER1.bed.gz\n",
      "chr17\t8148045\t8148998\t1\tchr17\t8148035\t8148055\tGC-tract\t7.8208\t10\n",
      "chr17\t8148045\t8148998\t1\tchr17\t8148040\t8148059\tZNF680\t5.3763\t14\n",
      "chr17\t8148045\t8148998\t1\tchr17\t8148050\t8148061\tGCM\t7.5087\t11\n",
      "\n",
      "Done!\n"
     ]
    }
   ],
   "source": [
    "cat ${FD_LOG}/annotate_fragment_per1.txt"
   ]
  },
  {
   "cell_type": "code",
   "execution_count": 3,
   "id": "9ba6c0f0-e743-4961-81a8-566205f72fdc",
   "metadata": {},
   "outputs": [
    {
     "name": "stdout",
     "output_type": "stream",
     "text": [
      "-rw-rw-r-- 1 kk319 reddylab 3.1M Sep 23 23:04 \u001b[0m\u001b[38;5;9m/gpfs/fs1/data/reddylab/Kuei/out/proj_combeffect/annotation_fragment/Input1_20x/target_PER1.bed.gz\u001b[0m\u001b[K\n",
      "-rw-rw-r-- 1 kk319 reddylab 187K Sep 23 23:04 \u001b[38;5;9m/gpfs/fs1/data/reddylab/Kuei/out/proj_combeffect/annotation_fragment/Input1/target_PER1.bed.gz\u001b[0m\u001b[K\n",
      "-rw-rw-r-- 1 kk319 reddylab 3.0M Sep 23 23:05 \u001b[38;5;9m/gpfs/fs1/data/reddylab/Kuei/out/proj_combeffect/annotation_fragment/Input2_20x/target_PER1.bed.gz\u001b[0m\u001b[K\n",
      "-rw-rw-r-- 1 kk319 reddylab 218K Sep 23 23:05 \u001b[38;5;9m/gpfs/fs1/data/reddylab/Kuei/out/proj_combeffect/annotation_fragment/Input2/target_PER1.bed.gz\u001b[0m\u001b[K\n",
      "-rw-rw-r-- 1 kk319 reddylab 3.1M Sep 23 23:06 \u001b[38;5;9m/gpfs/fs1/data/reddylab/Kuei/out/proj_combeffect/annotation_fragment/Input3_20x/target_PER1.bed.gz\u001b[0m\u001b[K\n",
      "-rw-rw-r-- 1 kk319 reddylab 280K Sep 23 23:06 \u001b[38;5;9m/gpfs/fs1/data/reddylab/Kuei/out/proj_combeffect/annotation_fragment/Input3/target_PER1.bed.gz\u001b[0m\u001b[K\n",
      "-rw-rw-r-- 1 kk319 reddylab 3.4M Sep 23 23:07 \u001b[38;5;9m/gpfs/fs1/data/reddylab/Kuei/out/proj_combeffect/annotation_fragment/Input4_20x/target_PER1.bed.gz\u001b[0m\u001b[K\n",
      "-rw-rw-r-- 1 kk319 reddylab 199K Sep 23 23:07 \u001b[38;5;9m/gpfs/fs1/data/reddylab/Kuei/out/proj_combeffect/annotation_fragment/Input4/target_PER1.bed.gz\u001b[0m\u001b[K\n",
      "-rw-rw-r-- 1 kk319 reddylab 2.9M Sep 23 23:08 \u001b[38;5;9m/gpfs/fs1/data/reddylab/Kuei/out/proj_combeffect/annotation_fragment/Input5_20x/target_PER1.bed.gz\u001b[0m\u001b[K\n",
      "-rw-rw-r-- 1 kk319 reddylab 150K Sep 23 23:08 \u001b[38;5;9m/gpfs/fs1/data/reddylab/Kuei/out/proj_combeffect/annotation_fragment/Input5/target_PER1.bed.gz\u001b[0m\u001b[K\n",
      "-rw-rw-r-- 1 kk319 reddylab 1.9M Sep 23 23:09 \u001b[38;5;9m/gpfs/fs1/data/reddylab/Kuei/out/proj_combeffect/annotation_fragment/TFX2_Dex/target_PER1.bed.gz\u001b[0m\u001b[K\n",
      "-rw-rw-r-- 1 kk319 reddylab 769K Sep 23 23:09 \u001b[38;5;9m/gpfs/fs1/data/reddylab/Kuei/out/proj_combeffect/annotation_fragment/TFX2_DMSO/target_PER1.bed.gz\u001b[0m\u001b[K\n",
      "-rw-rw-r-- 1 kk319 reddylab 1.3M Sep 23 23:10 \u001b[38;5;9m/gpfs/fs1/data/reddylab/Kuei/out/proj_combeffect/annotation_fragment/TFX3_Dex/target_PER1.bed.gz\u001b[0m\u001b[K\n",
      "-rw-rw-r-- 1 kk319 reddylab 524K Sep 23 23:10 \u001b[38;5;9m/gpfs/fs1/data/reddylab/Kuei/out/proj_combeffect/annotation_fragment/TFX3_DMSO/target_PER1.bed.gz\u001b[0m\u001b[K\n",
      "-rw-rw-r-- 1 kk319 reddylab 1.7M Sep 23 23:11 \u001b[38;5;9m/gpfs/fs1/data/reddylab/Kuei/out/proj_combeffect/annotation_fragment/TFX4_Dex/target_PER1.bed.gz\u001b[0m\u001b[K\n",
      "-rw-rw-r-- 1 kk319 reddylab 545K Sep 23 23:11 \u001b[38;5;9m/gpfs/fs1/data/reddylab/Kuei/out/proj_combeffect/annotation_fragment/TFX4_DMSO/target_PER1.bed.gz\u001b[0m\u001b[K\n",
      "-rw-rw-r-- 1 kk319 reddylab 2.0M Sep 23 23:12 \u001b[38;5;9m/gpfs/fs1/data/reddylab/Kuei/out/proj_combeffect/annotation_fragment/TFX5_Dex/target_PER1.bed.gz\u001b[0m\u001b[K\n",
      "-rw-rw-r-- 1 kk319 reddylab 681K Sep 23 23:12 \u001b[38;5;9m/gpfs/fs1/data/reddylab/Kuei/out/proj_combeffect/annotation_fragment/TFX5_DMSO/target_PER1.bed.gz\u001b[0m\u001b[K\n"
     ]
    }
   ],
   "source": [
    "ls -lh ${FD_RES}/annotation_fragment/*/target_PER1.bed.gz"
   ]
  },
  {
   "cell_type": "markdown",
   "id": "badd446c-be82-4a71-b642-57229dfa89ce",
   "metadata": {},
   "source": [
    "## Get file size"
   ]
  },
  {
   "cell_type": "code",
   "execution_count": 1,
   "id": "073a3322-120d-4c33-ae07-b25fa4b5c803",
   "metadata": {},
   "outputs": [
    {
     "name": "stdout",
     "output_type": "stream",
     "text": [
      "You are on Duke Server: DCC\n",
      "BASE DIRECTORY:     /work/kk319\n",
      "WORK DIRECTORY:     /work/kk319/out/CombEffect_STARR\n",
      "LOG  DIRECTORY:     /work/kk319/out/CombEffect_STARR/log\n",
      "PATH OF SOURCE:     /work/kk319/source\n",
      "PATH OF EXECUTABLE: /work/kk319/exe\n",
      "PATH OF ANNOTATION: /work/kk319/annotation\n",
      "\n"
     ]
    }
   ],
   "source": [
    "source ../config_duke.sh"
   ]
  },
  {
   "cell_type": "code",
   "execution_count": 2,
   "id": "1120887f-f53f-4d37-848b-9cb08edcfd65",
   "metadata": {},
   "outputs": [
    {
     "name": "stdout",
     "output_type": "stream",
     "text": [
      "-rw-r--r--. 1 kk319 root  90G Jul 19 01:34 /work/kk319/out/CombEffect_STARR/annotation_fragment/Input/chr1.bed\n",
      "-rw-r--r--. 1 kk319 root  19G Jul 19 01:54 /work/kk319/out/CombEffect_STARR/annotation_fragment/Input1/chr1.bed\n",
      "-rw-r--r--. 1 kk319 root  20G Jul 19 02:16 /work/kk319/out/CombEffect_STARR/annotation_fragment/Input2/chr1.bed\n",
      "-rw-r--r--. 1 kk319 root  23G Jul 19 02:39 /work/kk319/out/CombEffect_STARR/annotation_fragment/Input3/chr1.bed\n",
      "-rw-r--r--. 1 kk319 root  19G Jul 19 02:59 /work/kk319/out/CombEffect_STARR/annotation_fragment/Input4/chr1.bed\n",
      "-rw-r--r--. 1 kk319 root  15G Jul 19 03:15 /work/kk319/out/CombEffect_STARR/annotation_fragment/Input5/chr1.bed\n",
      "-rw-r--r--. 1 kk319 root  41G Jul 19 03:55 /work/kk319/out/CombEffect_STARR/annotation_fragment/TFX2_DMSO/chr1.bed\n",
      "-rw-r--r--. 1 kk319 root  41G Jul 19 04:36 /work/kk319/out/CombEffect_STARR/annotation_fragment/TFX2_Dex/chr1.bed\n",
      "-rw-r--r--. 1 kk319 root  26G Jul 19 05:02 /work/kk319/out/CombEffect_STARR/annotation_fragment/TFX3_DMSO/chr1.bed\n",
      "-rw-r--r--. 1 kk319 root  25G Jul 19 05:27 /work/kk319/out/CombEffect_STARR/annotation_fragment/TFX3_Dex/chr1.bed\n",
      "-rw-r--r--. 1 kk319 root  30G Jul 19 06:00 /work/kk319/out/CombEffect_STARR/annotation_fragment/TFX4_DMSO/chr1.bed\n",
      "-rw-r--r--. 1 kk319 root  33G Jul 19 06:41 /work/kk319/out/CombEffect_STARR/annotation_fragment/TFX4_Dex/chr1.bed\n",
      "-rw-r--r--. 1 kk319 root  28G Jul 19 07:09 /work/kk319/out/CombEffect_STARR/annotation_fragment/TFX5_DMSO/chr1.bed\n",
      "-rw-r--r--. 1 kk319 root  41G Jul 19 07:52 /work/kk319/out/CombEffect_STARR/annotation_fragment/TFX5_Dex/chr1.bed\n",
      "-rw-r--r--. 1 kk319 root 118G Jul 19 09:55 /work/kk319/out/CombEffect_STARR/annotation_fragment/TFX_DMSO/chr1.bed\n",
      "-rw-r--r--. 1 kk319 root 131G Jul 19 11:50 /work/kk319/out/CombEffect_STARR/annotation_fragment/TFX_Dex/chr1.bed\n"
     ]
    }
   ],
   "source": [
    "ls -lh ${FD_WRK}/annotation_fragment/*/chr1.bed"
   ]
  },
  {
   "cell_type": "code",
   "execution_count": 3,
   "id": "1321f9f1-f174-4031-9887-b6d404314d1e",
   "metadata": {},
   "outputs": [
    {
     "name": "stdout",
     "output_type": "stream",
     "text": [
      "-rw-r--r--. 1 kk319 root  35G Jul 19 00:25 /work/kk319/out/CombEffect_STARR/annotation_fragment/Input/chr17.bed\n",
      "-rw-r--r--. 1 kk319 root 7.1G Jul 19 00:30 /work/kk319/out/CombEffect_STARR/annotation_fragment/Input1/chr17.bed\n",
      "-rw-r--r--. 1 kk319 root 7.7G Jul 19 00:35 /work/kk319/out/CombEffect_STARR/annotation_fragment/Input2/chr17.bed\n",
      "-rw-r--r--. 1 kk319 root 9.0G Jul 19 00:42 /work/kk319/out/CombEffect_STARR/annotation_fragment/Input3/chr17.bed\n",
      "-rw-r--r--. 1 kk319 root 7.2G Jul 19 00:46 /work/kk319/out/CombEffect_STARR/annotation_fragment/Input4/chr17.bed\n",
      "-rw-r--r--. 1 kk319 root 5.8G Jul 19 00:50 /work/kk319/out/CombEffect_STARR/annotation_fragment/Input5/chr17.bed\n",
      "-rw-r--r--. 1 kk319 root  19G Jul 19 01:01 /work/kk319/out/CombEffect_STARR/annotation_fragment/TFX2_DMSO/chr17.bed\n",
      "-rw-r--r--. 1 kk319 root  19G Jul 19 01:12 /work/kk319/out/CombEffect_STARR/annotation_fragment/TFX2_Dex/chr17.bed\n",
      "-rw-r--r--. 1 kk319 root  12G Jul 19 01:18 /work/kk319/out/CombEffect_STARR/annotation_fragment/TFX3_DMSO/chr17.bed\n",
      "-rw-r--r--. 1 kk319 root  12G Jul 19 01:25 /work/kk319/out/CombEffect_STARR/annotation_fragment/TFX3_Dex/chr17.bed\n",
      "-rw-r--r--. 1 kk319 root  14G Jul 19 01:32 /work/kk319/out/CombEffect_STARR/annotation_fragment/TFX4_DMSO/chr17.bed\n",
      "-rw-r--r--. 1 kk319 root  16G Jul 19 01:41 /work/kk319/out/CombEffect_STARR/annotation_fragment/TFX4_Dex/chr17.bed\n",
      "-rw-r--r--. 1 kk319 root  13G Jul 19 01:48 /work/kk319/out/CombEffect_STARR/annotation_fragment/TFX5_DMSO/chr17.bed\n",
      "-rw-r--r--. 1 kk319 root  19G Jul 19 01:58 /work/kk319/out/CombEffect_STARR/annotation_fragment/TFX5_Dex/chr17.bed\n",
      "-rw-r--r--. 1 kk319 root  53G Jul 19 02:25 /work/kk319/out/CombEffect_STARR/annotation_fragment/TFX_DMSO/chr17.bed\n",
      "-rw-r--r--. 1 kk319 root  59G Jul 19 02:55 /work/kk319/out/CombEffect_STARR/annotation_fragment/TFX_Dex/chr17.bed\n"
     ]
    }
   ],
   "source": [
    "ls -lh ${FD_WRK}/annotation_fragment/*/chr17.bed"
   ]
  },
  {
   "cell_type": "code",
   "execution_count": null,
   "id": "655efe69-0ebb-4ac7-ba5d-8e3df0cd39d7",
   "metadata": {},
   "outputs": [],
   "source": []
  }
 ],
 "metadata": {
  "kernelspec": {
   "display_name": "Bash",
   "language": "bash",
   "name": "bash"
  },
  "language_info": {
   "codemirror_mode": "shell",
   "file_extension": ".sh",
   "mimetype": "text/x-sh",
   "name": "bash"
  }
 },
 "nbformat": 4,
 "nbformat_minor": 5
}
