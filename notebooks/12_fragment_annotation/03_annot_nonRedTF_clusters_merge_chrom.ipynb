{
 "cells": [
  {
   "cell_type": "markdown",
   "id": "42326211-eb59-4122-9683-5d80d231e930",
   "metadata": {},
   "source": [
    "**Set environment**"
   ]
  },
  {
   "cell_type": "code",
   "execution_count": 1,
   "id": "d4b7708b-1e74-45b3-b53f-737c0763bc36",
   "metadata": {},
   "outputs": [
    {
     "name": "stdout",
     "output_type": "stream",
     "text": [
      "You are on Duke Server: HARDAC\n",
      "BASE DIRECTORY:     /gpfs/fs1/data/reddylab/Kuei\n",
      "PATH OF SOURCE:     /gpfs/fs1/data/reddylab/Kuei/source\n",
      "PATH OF EXECUTABLE: /gpfs/fs1/data/reddylab/Kuei/exe\n",
      "PATH OF ANNOTATION: /gpfs/fs1/data/reddylab/Kuei/annotation\n",
      "PATH OF PROJECT:    /gpfs/fs1/data/reddylab/Kuei/GitRepo/Proj_CombEffect_STARRseq/notebooks\n",
      "PATH OF RESULTS:    /gpfs/fs1/data/reddylab/Kuei/out/proj_combeffect\n",
      "\n"
     ]
    }
   ],
   "source": [
    "source ../config_duke.sh -v"
   ]
  },
  {
   "cell_type": "markdown",
   "id": "e08bfe76-2c5f-4495-aa4f-90a617bb1387",
   "metadata": {},
   "source": [
    "**Check Input: clusters**"
   ]
  },
  {
   "cell_type": "code",
   "execution_count": null,
   "id": "50946532-7773-4205-8d54-9784b1d32c24",
   "metadata": {},
   "outputs": [],
   "source": [
    "/{Input?*,TFX?_DMSO,TFX?_Dex}/"
   ]
  },
  {
   "cell_type": "code",
   "execution_count": null,
   "id": "0b85dd32-d363-4392-9729-0cfeb293722c",
   "metadata": {},
   "outputs": [],
   "source": [
    "FNAME=AHR_merge.bed.gz\n",
    "CHROM=\n",
    "FD_OUT=\"${FD_RES}/annotation_fragment/merge\"\n"
   ]
  },
  {
   "cell_type": "code",
   "execution_count": 5,
   "id": "582507cc-5328-4354-8622-8c29eaef412a",
   "metadata": {},
   "outputs": [
    {
     "name": "stdout",
     "output_type": "stream",
     "text": [
      "\u001b[0m\u001b[38;5;9mAHR_merge.bed.gz\u001b[0m            \u001b[38;5;9mHLTF_merge.bed.gz\u001b[0m          \u001b[38;5;9mSNAI2_merge.bed.gz\u001b[0m\n",
      "\u001b[38;5;9mAIRE_merge.bed.gz\u001b[0m           \u001b[38;5;9mHOMEZ_merge.bed.gz\u001b[0m         \u001b[38;5;9mSOX_1_merge.bed.gz\u001b[0m\n",
      "\u001b[38;5;9mAP1_1_merge.bed.gz\u001b[0m          \u001b[38;5;9mHSF_merge.bed.gz\u001b[0m           \u001b[38;5;9mSOX_2_merge.bed.gz\u001b[0m\n",
      "\u001b[38;5;9mAP1_2_merge.bed.gz\u001b[0m          \u001b[38;5;9mHSFY2_merge.bed.gz\u001b[0m         \u001b[38;5;9mSOX_3_merge.bed.gz\u001b[0m\n",
      "\u001b[38;5;9mARI5A_merge.bed.gz\u001b[0m          \u001b[38;5;9mINSM1_merge.bed.gz\u001b[0m         \u001b[38;5;9mSOX_4_merge.bed.gz\u001b[0m\n",
      "\u001b[38;5;9mARI5B_merge.bed.gz\u001b[0m          \u001b[38;5;9mIRF_1_merge.bed.gz\u001b[0m         \u001b[38;5;9mSOX_5_merge.bed.gz\u001b[0m\n",
      "\u001b[38;5;9mBATF_merge.bed.gz\u001b[0m           \u001b[38;5;9mIRF_2_merge.bed.gz\u001b[0m         \u001b[38;5;9mSOX_6_merge.bed.gz\u001b[0m\n",
      "\u001b[38;5;9mBCL6_1_merge.bed.gz\u001b[0m         \u001b[38;5;9mIRF_3_merge.bed.gz\u001b[0m         \u001b[38;5;9mSOX_7_merge.bed.gz\u001b[0m\n",
      "\u001b[38;5;9mBCL6_2_merge.bed.gz\u001b[0m         \u001b[38;5;9mIRF_4_merge.bed.gz\u001b[0m         \u001b[38;5;9mSOX_8_merge.bed.gz\u001b[0m\n",
      "\u001b[38;5;9mCCAAT_CEBP_merge.bed.gz\u001b[0m     \u001b[38;5;9mKAISO_merge.bed.gz\u001b[0m         \u001b[38;5;9mSPDEF_1_merge.bed.gz\u001b[0m\n",
      "\u001b[38;5;9mCENBP_merge.bed.gz\u001b[0m          \u001b[38;5;9mKLF_SP_1_merge.bed.gz\u001b[0m      \u001b[38;5;9mSPDEF_2_merge.bed.gz\u001b[0m\n",
      "\u001b[38;5;9mCPEB1_merge.bed.gz\u001b[0m          \u001b[38;5;9mKLF_SP_2_merge.bed.gz\u001b[0m      \u001b[38;5;9mSPI_merge.bed.gz\u001b[0m\n",
      "\u001b[38;5;9mCREB3_XBP1_merge.bed.gz\u001b[0m     \u001b[38;5;9mKLF_SP_3_merge.bed.gz\u001b[0m      \u001b[38;5;9mSPZ1_merge.bed.gz\u001b[0m\n",
      "\u001b[38;5;9mCREB_ATF_1_merge.bed.gz\u001b[0m     \u001b[38;5;9mLEF1_merge.bed.gz\u001b[0m          \u001b[38;5;9mSREBF1_merge.bed.gz\u001b[0m\n",
      "\u001b[38;5;9mCREB_ATF_2_merge.bed.gz\u001b[0m     \u001b[38;5;9mLIN54_merge.bed.gz\u001b[0m         \u001b[38;5;9mSRF_merge.bed.gz\u001b[0m\n",
      "\u001b[38;5;9mCREB_ATF_3_merge.bed.gz\u001b[0m     \u001b[38;5;9mMAF_merge.bed.gz\u001b[0m           \u001b[38;5;9mSTAT_1_merge.bed.gz\u001b[0m\n",
      "\u001b[38;5;9mCTCF_merge.bed.gz\u001b[0m           \u001b[38;5;9mMBD2_merge.bed.gz\u001b[0m          \u001b[38;5;9mSTAT_2_merge.bed.gz\u001b[0m\n",
      "\u001b[38;5;9mCUX_1_merge.bed.gz\u001b[0m          \u001b[38;5;9mMECP2_merge.bed.gz\u001b[0m         \u001b[38;5;9mTATA_merge.bed.gz\u001b[0m\n",
      "\u001b[38;5;9mCUX_2_merge.bed.gz\u001b[0m          \u001b[38;5;9mMEF2_merge.bed.gz\u001b[0m          \u001b[38;5;9mTBX_1_merge.bed.gz\u001b[0m\n",
      "\u001b[38;5;9mCUX_3_merge.bed.gz\u001b[0m          \u001b[38;5;9mMFZ1_merge.bed.gz\u001b[0m          \u001b[38;5;9mTBX_2_merge.bed.gz\u001b[0m\n",
      "\u001b[38;5;9mDDIT3+CEBPA_merge.bed.gz\u001b[0m    \u001b[38;5;9mMIES_merge.bed.gz\u001b[0m          \u001b[38;5;9mTBX_3_merge.bed.gz\u001b[0m\n",
      "\u001b[38;5;9mDMRT3_merge.bed.gz\u001b[0m          \u001b[38;5;9mMTF1_merge.bed.gz\u001b[0m          \u001b[38;5;9mTBX_4_merge.bed.gz\u001b[0m\n",
      "\u001b[38;5;9mE2F_1_merge.bed.gz\u001b[0m          \u001b[38;5;9mMYB_1_merge.bed.gz\u001b[0m         \u001b[38;5;9mTCF_LEF_merge.bed.gz\u001b[0m\n",
      "\u001b[38;5;9mE2F_2_merge.bed.gz\u001b[0m          \u001b[38;5;9mMYB_2_merge.bed.gz\u001b[0m         \u001b[38;5;9mTEAD_merge.bed.gz\u001b[0m\n",
      "\u001b[38;5;9mE2F_3_merge.bed.gz\u001b[0m          \u001b[38;5;9mMYB_3_merge.bed.gz\u001b[0m         \u001b[38;5;9mTFAP2_1_merge.bed.gz\u001b[0m\n",
      "\u001b[38;5;9mE2F_4_merge.bed.gz\u001b[0m          \u001b[38;5;9mMYB_4_merge.bed.gz\u001b[0m         \u001b[38;5;9mTFAP2_2_merge.bed.gz\u001b[0m\n",
      "\u001b[38;5;9mEBF1_merge.bed.gz\u001b[0m           \u001b[38;5;9mMYB_5_merge.bed.gz\u001b[0m         \u001b[38;5;9mTFCP2_merge.bed.gz\u001b[0m\n",
      "\u001b[38;5;9mEbox_CACCTG_merge.bed.gz\u001b[0m    \u001b[38;5;9mMZF1_merge.bed.gz\u001b[0m          \u001b[38;5;9mTHAP1_merge.bed.gz\u001b[0m\n",
      "\u001b[38;5;9mEbox_CACGTG_1_merge.bed.gz\u001b[0m  \u001b[38;5;9mNFAC_2_merge.bed.gz\u001b[0m        \u001b[38;5;9mYY1_merge.bed.gz\u001b[0m\n",
      "\u001b[38;5;9mEbox_CACGTG_2_merge.bed.gz\u001b[0m  \u001b[38;5;9mNFAT_1_merge.bed.gz\u001b[0m        \u001b[38;5;9mZBED1_merge.bed.gz\u001b[0m\n",
      "\u001b[38;5;9mEbox_CAGATGG_merge.bed.gz\u001b[0m   \u001b[38;5;9mNFAT_2_merge.bed.gz\u001b[0m        \u001b[38;5;9mZBTB14_merge.bed.gz\u001b[0m\n",
      "\u001b[38;5;9mEbox_CAGCTG_merge.bed.gz\u001b[0m    \u001b[38;5;9mNFAT_3_merge.bed.gz\u001b[0m        \u001b[38;5;9mZBTB48_merge.bed.gz\u001b[0m\n",
      "\u001b[38;5;9mEbox_CATATG_merge.bed.gz\u001b[0m    \u001b[38;5;9mNFAT_4_merge.bed.gz\u001b[0m        \u001b[38;5;9mZBTB49_merge.bed.gz\u001b[0m\n",
      "\u001b[38;5;9mEGR_merge.bed.gz\u001b[0m            \u001b[38;5;9mNFI_1_merge.bed.gz\u001b[0m         \u001b[38;5;9mZBTB6_merge.bed.gz\u001b[0m\n",
      "\u001b[38;5;9mETS_1_merge.bed.gz\u001b[0m          \u001b[38;5;9mNFI_2_merge.bed.gz\u001b[0m         \u001b[38;5;9mZBTB7A_merge.bed.gz\u001b[0m\n",
      "\u001b[38;5;9mETS_2_merge.bed.gz\u001b[0m          \u001b[38;5;9mNFI_3_merge.bed.gz\u001b[0m         \u001b[38;5;9mZFN121_merge.bed.gz\u001b[0m\n",
      "\u001b[38;5;9mEVI1_MECOM_merge.bed.gz\u001b[0m     \u001b[38;5;9mNFKB_1_merge.bed.gz\u001b[0m        \u001b[38;5;9mZFX_merge.bed.gz\u001b[0m\n",
      "\u001b[38;5;9mEWSR1_FLI1_merge.bed.gz\u001b[0m     \u001b[38;5;9mNFKB_2_merge.bed.gz\u001b[0m        \u001b[38;5;9mZIC_2_merge.bed.gz\u001b[0m\n",
      "\u001b[38;5;9mFEZF1_merge.bed.gz\u001b[0m          \u001b[38;5;9mNFKB_3_merge.bed.gz\u001b[0m        \u001b[38;5;9mZIC_merge.bed.gz\u001b[0m\n",
      "\u001b[38;5;9mFOX_1_merge.bed.gz\u001b[0m          \u001b[38;5;9mNFY_merge.bed.gz\u001b[0m           \u001b[38;5;9mZIM3_merge.bed.gz\u001b[0m\n",
      "\u001b[38;5;9mFOX_2_merge.bed.gz\u001b[0m          \u001b[38;5;9mNR_10_merge.bed.gz\u001b[0m         \u001b[38;5;9mZKSCAN1_merge.bed.gz\u001b[0m\n",
      "\u001b[38;5;9mFOX_3_merge.bed.gz\u001b[0m          \u001b[38;5;9mNR_11_merge.bed.gz\u001b[0m         \u001b[38;5;9mZNF134_merge.bed.gz\u001b[0m\n",
      "\u001b[38;5;9mFOX_4_merge.bed.gz\u001b[0m          \u001b[38;5;9mNR_12_merge.bed.gz\u001b[0m         \u001b[38;5;9mZNF136_merge.bed.gz\u001b[0m\n",
      "\u001b[38;5;9mFOX_5_merge.bed.gz\u001b[0m          \u001b[38;5;9mNR_13_merge.bed.gz\u001b[0m         \u001b[38;5;9mZNF140_merge.bed.gz\u001b[0m\n",
      "\u001b[38;5;9mFOX_6_merge.bed.gz\u001b[0m          \u001b[38;5;9mNR_14_merge.bed.gz\u001b[0m         \u001b[38;5;9mZNF143_merge.bed.gz\u001b[0m\n",
      "\u001b[38;5;9mFOX_7_merge.bed.gz\u001b[0m          \u001b[38;5;9mNR_15_merge.bed.gz\u001b[0m         \u001b[38;5;9mZNF146_merge.bed.gz\u001b[0m\n",
      "\u001b[38;5;9mFOX_8_merge.bed.gz\u001b[0m          \u001b[38;5;9mNR_16_merge.bed.gz\u001b[0m         \u001b[38;5;9mZNF232_merge.bed.gz\u001b[0m\n",
      "\u001b[38;5;9mFOX_9_merge.bed.gz\u001b[0m          \u001b[38;5;9mNR_17_merge.bed.gz\u001b[0m         \u001b[38;5;9mZNF24_merge.bed.gz\u001b[0m\n",
      "\u001b[38;5;9mGATA_merge.bed.gz\u001b[0m           \u001b[38;5;9mNR_18_merge.bed.gz\u001b[0m         \u001b[38;5;9mZNF250_merge.bed.gz\u001b[0m\n",
      "\u001b[38;5;9mGCM_merge.bed.gz\u001b[0m            \u001b[38;5;9mNR_19_merge.bed.gz\u001b[0m         \u001b[38;5;9mZNF257_merge.bed.gz\u001b[0m\n",
      "\u001b[38;5;9mGC-tract_merge.bed.gz\u001b[0m       \u001b[38;5;9mNR_1_merge.bed.gz\u001b[0m          \u001b[38;5;9mZNF274_merge.bed.gz\u001b[0m\n",
      "\u001b[38;5;9mGFI_merge.bed.gz\u001b[0m            \u001b[38;5;9mNR_20_merge.bed.gz\u001b[0m         \u001b[38;5;9mZNF282_merge.bed.gz\u001b[0m\n",
      "\u001b[38;5;9mGLI_merge.bed.gz\u001b[0m            \u001b[38;5;9mNR2E3_merge.bed.gz\u001b[0m         \u001b[38;5;9mZNF28_merge.bed.gz\u001b[0m\n",
      "\u001b[38;5;9mGLIS_merge.bed.gz\u001b[0m           \u001b[38;5;9mNR_2_merge.bed.gz\u001b[0m          \u001b[38;5;9mZNF306_merge.bed.gz\u001b[0m\n",
      "\u001b[38;5;9mGMEB2_1_merge.bed.gz\u001b[0m        \u001b[38;5;9mNR_3_merge.bed.gz\u001b[0m          \u001b[38;5;9mZNF317_merge.bed.gz\u001b[0m\n",
      "\u001b[38;5;9mGMEB2_2_merge.bed.gz\u001b[0m        \u001b[38;5;9mNR_4_merge.bed.gz\u001b[0m          \u001b[38;5;9mZNF320_merge.bed.gz\u001b[0m\n",
      "\u001b[38;5;9mGMEB2_3_merge.bed.gz\u001b[0m        \u001b[38;5;9mNR_5_merge.bed.gz\u001b[0m          \u001b[38;5;9mZNF324_merge.bed.gz\u001b[0m\n",
      "\u001b[38;5;9mGRHL_merge.bed.gz\u001b[0m           \u001b[38;5;9mNR_6_merge.bed.gz\u001b[0m          \u001b[38;5;9mZNF329_merge.bed.gz\u001b[0m\n",
      "\u001b[38;5;9mHAND1_merge.bed.gz\u001b[0m          \u001b[38;5;9mNR_7_merge.bed.gz\u001b[0m          \u001b[38;5;9mZNF331_merge.bed.gz\u001b[0m\n",
      "\u001b[38;5;9mHD_10_merge.bed.gz\u001b[0m          \u001b[38;5;9mNR_8_merge.bed.gz\u001b[0m          \u001b[38;5;9mZNF332_merge.bed.gz\u001b[0m\n",
      "\u001b[38;5;9mHD_11_merge.bed.gz\u001b[0m          \u001b[38;5;9mNR_9_merge.bed.gz\u001b[0m          \u001b[38;5;9mZNF335_merge.bed.gz\u001b[0m\n",
      "\u001b[38;5;9mHD_12_merge.bed.gz\u001b[0m          \u001b[38;5;9mNRF1_merge.bed.gz\u001b[0m          \u001b[38;5;9mZNF354_merge.bed.gz\u001b[0m\n",
      "\u001b[38;5;9mHD_13_merge.bed.gz\u001b[0m          \u001b[38;5;9mOCT4+SOX2_merge.bed.gz\u001b[0m     \u001b[38;5;9mZNF382_merge.bed.gz\u001b[0m\n",
      "\u001b[38;5;9mHD_14_merge.bed.gz\u001b[0m          \u001b[38;5;9mOSR2_merge.bed.gz\u001b[0m          \u001b[38;5;9mZNF384_1_merge.bed.gz\u001b[0m\n",
      "\u001b[38;5;9mHD_15_merge.bed.gz\u001b[0m          \u001b[38;5;9mOVOL1_merge.bed.gz\u001b[0m         \u001b[38;5;9mZNF384_2_merge.bed.gz\u001b[0m\n",
      "\u001b[38;5;9mHD_16_merge.bed.gz\u001b[0m          \u001b[38;5;9mP53-like_1_merge.bed.gz\u001b[0m    \u001b[38;5;9mZNF410_merge.bed.gz\u001b[0m\n",
      "\u001b[38;5;9mHD_17_merge.bed.gz\u001b[0m          \u001b[38;5;9mPAX_1_merge.bed.gz\u001b[0m         \u001b[38;5;9mZNF418_merge.bed.gz\u001b[0m\n",
      "\u001b[38;5;9mHD_18_merge.bed.gz\u001b[0m          \u001b[38;5;9mPAX_2_merge.bed.gz\u001b[0m         \u001b[38;5;9mZNF41_merge.bed.gz\u001b[0m\n",
      "\u001b[38;5;9mHD_19_merge.bed.gz\u001b[0m          \u001b[38;5;9mPAX-halfsite_merge.bed.gz\u001b[0m  \u001b[38;5;9mZNF423_merge.bed.gz\u001b[0m\n",
      "\u001b[38;5;9mHD_1_merge.bed.gz\u001b[0m           \u001b[38;5;9mPLAG1_merge.bed.gz\u001b[0m         \u001b[38;5;9mZNF435_merge.bed.gz\u001b[0m\n",
      "\u001b[38;5;9mHD_20_merge.bed.gz\u001b[0m          \u001b[38;5;9mPOU_1_merge.bed.gz\u001b[0m         \u001b[38;5;9mZNF436_merge.bed.gz\u001b[0m\n",
      "\u001b[38;5;9mHD_21_merge.bed.gz\u001b[0m          \u001b[38;5;9mPOU_2_merge.bed.gz\u001b[0m         \u001b[38;5;9mZNF449_merge.bed.gz\u001b[0m\n",
      "\u001b[38;5;9mHD_22_merge.bed.gz\u001b[0m          \u001b[38;5;9mPOU_3_merge.bed.gz\u001b[0m         \u001b[38;5;9mZNF490_merge.bed.gz\u001b[0m\n",
      "\u001b[38;5;9mHD_23_merge.bed.gz\u001b[0m          \u001b[38;5;9mPRDM14_merge.bed.gz\u001b[0m        \u001b[38;5;9mZNF524_merge.bed.gz\u001b[0m\n",
      "\u001b[38;5;9mHD_24_merge.bed.gz\u001b[0m          \u001b[38;5;9mPRDM1_merge.bed.gz\u001b[0m         \u001b[38;5;9mZNF528_merge.bed.gz\u001b[0m\n",
      "\u001b[38;5;9mHD_25_merge.bed.gz\u001b[0m          \u001b[38;5;9mPRDM4_merge.bed.gz\u001b[0m         \u001b[38;5;9mZNF53_merge.bed.gz\u001b[0m\n",
      "\u001b[38;5;9mHD_2_merge.bed.gz\u001b[0m           \u001b[38;5;9mPROX1_merge.bed.gz\u001b[0m         \u001b[38;5;9mZNF547_merge.bed.gz\u001b[0m\n",
      "\u001b[38;5;9mHD_3_merge.bed.gz\u001b[0m           \u001b[38;5;9mRBPJ_merge.bed.gz\u001b[0m          \u001b[38;5;9mZNF549_merge.bed.gz\u001b[0m\n",
      "\u001b[38;5;9mHD_4_merge.bed.gz\u001b[0m           \u001b[38;5;9mREL-halfsite_merge.bed.gz\u001b[0m  \u001b[38;5;9mZNF554_merge.bed.gz\u001b[0m\n",
      "\u001b[38;5;9mHD_5_merge.bed.gz\u001b[0m           \u001b[38;5;9mREST_NRSF_merge.bed.gz\u001b[0m     \u001b[38;5;9mZNF563_merge.bed.gz\u001b[0m\n",
      "\u001b[38;5;9mHD_6_merge.bed.gz\u001b[0m           \u001b[38;5;9mRFX_1_merge.bed.gz\u001b[0m         \u001b[38;5;9mZNF586_merge.bed.gz\u001b[0m\n",
      "\u001b[38;5;9mHD_7_merge.bed.gz\u001b[0m           \u001b[38;5;9mRFX_2_merge.bed.gz\u001b[0m         \u001b[38;5;9mZNF667_merge.bed.gz\u001b[0m\n",
      "\u001b[38;5;9mHD_8_merge.bed.gz\u001b[0m           \u001b[38;5;9mRFX_3_merge.bed.gz\u001b[0m         \u001b[38;5;9mZNF680_merge.bed.gz\u001b[0m\n",
      "\u001b[38;5;9mHD_9_merge.bed.gz\u001b[0m           \u001b[38;5;9mRUNX_1_merge.bed.gz\u001b[0m        \u001b[38;5;9mZNF708_merge.bed.gz\u001b[0m\n",
      "\u001b[38;5;9mHEN1_merge.bed.gz\u001b[0m           \u001b[38;5;9mRUNX_2_merge.bed.gz\u001b[0m        \u001b[38;5;9mZNF713_merge.bed.gz\u001b[0m\n",
      "\u001b[38;5;9mHIC_1_merge.bed.gz\u001b[0m          \u001b[38;5;9mSCRT1_merge.bed.gz\u001b[0m         \u001b[38;5;9mZNF768_merge.bed.gz\u001b[0m\n",
      "\u001b[38;5;9mHIC_2_merge.bed.gz\u001b[0m          \u001b[38;5;9mSIX_1_merge.bed.gz\u001b[0m         \u001b[38;5;9mZNF784_merge.bed.gz\u001b[0m\n",
      "\u001b[38;5;9mHIF_merge.bed.gz\u001b[0m            \u001b[38;5;9mSIX_2_merge.bed.gz\u001b[0m         \u001b[38;5;9mZNF85_merge.bed.gz\u001b[0m\n",
      "\u001b[38;5;9mHINFP1_1_merge.bed.gz\u001b[0m       \u001b[38;5;9mSMAD_merge.bed.gz\u001b[0m          \u001b[38;5;9mZSCAN3_merge.bed.gz\u001b[0m\n",
      "\u001b[38;5;9mHINFP1_2_merge.bed.gz\u001b[0m       \u001b[38;5;9mSMARCA1_merge.bed.gz\u001b[0m       \u001b[38;5;9mZSCAN4_merge.bed.gz\u001b[0m\n",
      "\u001b[38;5;9mHINFP1_3_merge.bed.gz\u001b[0m       \u001b[38;5;9mSMARCA5_merge.bed.gz\u001b[0m\n"
     ]
    }
   ],
   "source": [
    "fnames=$(ls ${FD_RES}/annotation_fragment/Input1/chr1)\n"
   ]
  },
  {
   "cell_type": "code",
   "execution_count": null,
   "id": "86a5a9e4-72b9-4d4f-89ee-910a022cbb3b",
   "metadata": {},
   "outputs": [],
   "source": []
  },
  {
   "cell_type": "code",
   "execution_count": null,
   "id": "de8c7832-9f2e-42bf-9e4e-49221b66bc95",
   "metadata": {},
   "outputs": [],
   "source": []
  }
 ],
 "metadata": {
  "kernelspec": {
   "display_name": "Bash",
   "language": "bash",
   "name": "bash"
  },
  "language_info": {
   "codemirror_mode": "shell",
   "file_extension": ".sh",
   "mimetype": "text/x-sh",
   "name": "bash"
  }
 },
 "nbformat": 4,
 "nbformat_minor": 5
}
