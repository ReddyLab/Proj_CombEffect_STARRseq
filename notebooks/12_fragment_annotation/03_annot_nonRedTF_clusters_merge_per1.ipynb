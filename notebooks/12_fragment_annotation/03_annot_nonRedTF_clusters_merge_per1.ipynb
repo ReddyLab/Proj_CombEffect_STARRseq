{
 "cells": [
  {
   "cell_type": "markdown",
   "id": "aea80f8e-e736-45e5-9ecd-8d0c43372763",
   "metadata": {},
   "source": [
    "**Set environment**"
   ]
  },
  {
   "cell_type": "code",
   "execution_count": 1,
   "id": "2507d653-9ca8-43c1-81ba-bf6030c188b2",
   "metadata": {},
   "outputs": [
    {
     "name": "stdout",
     "output_type": "stream",
     "text": [
      "You are on Duke Server: HARDAC\n",
      "BASE DIRECTORY:     /gpfs/fs1/data/reddylab/Kuei\n",
      "PATH OF SOURCE:     /gpfs/fs1/data/reddylab/Kuei/source\n",
      "PATH OF EXECUTABLE: /gpfs/fs1/data/reddylab/Kuei/exe\n",
      "PATH OF ANNOTATION: /gpfs/fs1/data/reddylab/Kuei/annotation\n",
      "PATH OF PROJECT:    /gpfs/fs1/data/reddylab/Kuei/GitRepo/Proj_CombEffect_STARRseq/notebooks\n",
      "PATH OF RESULTS:    /gpfs/fs1/data/reddylab/Kuei/out/proj_combeffect\n",
      "\n"
     ]
    }
   ],
   "source": [
    "source ../config_duke.sh -v"
   ]
  },
  {
   "cell_type": "code",
   "execution_count": 2,
   "id": "cc7fa84a-b3c4-4c12-a98f-d64cc8f4f494",
   "metadata": {},
   "outputs": [
    {
     "name": "stdout",
     "output_type": "stream",
     "text": [
      "\u001b[0m\u001b[38;5;27mfilter_motif_score095\u001b[0m  \u001b[38;5;27mInput4_20x\u001b[0m                \u001b[38;5;27mTFX3_DMSO\u001b[0m\n",
      "\u001b[38;5;27mInput\u001b[0m                  \u001b[38;5;27mInput5\u001b[0m                    \u001b[38;5;27mTFX4_Dex\u001b[0m\n",
      "\u001b[38;5;27mInput1\u001b[0m                 \u001b[38;5;27mInput5_20x\u001b[0m                \u001b[38;5;27mTFX4_DMSO\u001b[0m\n",
      "\u001b[38;5;27mInput1_20x\u001b[0m             \u001b[38;5;27mmerge\u001b[0m                     \u001b[38;5;27mTFX5_Dex\u001b[0m\n",
      "\u001b[38;5;27mInput2\u001b[0m                 target_PER1_MA0099.3.bed  \u001b[38;5;27mTFX5_DMSO\u001b[0m\n",
      "\u001b[38;5;27mInput2_20x\u001b[0m             target_PER1_MA0113.3.bed  \u001b[38;5;27mTFX_Dex\u001b[0m\n",
      "\u001b[38;5;27mInput3\u001b[0m                 \u001b[38;5;27mTFX2_Dex\u001b[0m                  \u001b[38;5;27mTFX_DMSO\u001b[0m\n",
      "\u001b[38;5;27mInput3_20x\u001b[0m             \u001b[38;5;27mTFX2_DMSO\u001b[0m\n",
      "\u001b[38;5;27mInput4\u001b[0m                 \u001b[38;5;27mTFX3_Dex\u001b[0m\n"
     ]
    }
   ],
   "source": [
    "ls ${FD_RES}/annotation_fragment"
   ]
  },
  {
   "cell_type": "code",
   "execution_count": 6,
   "id": "3d4b8414-ac2b-4e28-97b3-e0dbb62a13dd",
   "metadata": {},
   "outputs": [
    {
     "name": "stdout",
     "output_type": "stream",
     "text": [
      "\u001b[0m\u001b[38;5;27mchr1\u001b[0m          \u001b[38;5;9mchr14.bed.gz\u001b[0m  \u001b[38;5;9mchr19.bed.gz\u001b[0m  \u001b[38;5;27mchr3\u001b[0m         \u001b[38;5;27mchr8\u001b[0m\n",
      "\u001b[38;5;27mchr10\u001b[0m         \u001b[38;5;27mchr15\u001b[0m         \u001b[38;5;9mchr1.bed.gz\u001b[0m   \u001b[38;5;9mchr3.bed.gz\u001b[0m  \u001b[38;5;9mchr8.bed.gz\u001b[0m\n",
      "\u001b[38;5;9mchr10.bed.gz\u001b[0m  \u001b[38;5;9mchr15.bed.gz\u001b[0m  \u001b[38;5;27mchr2\u001b[0m          \u001b[38;5;27mchr4\u001b[0m         \u001b[38;5;27mchr9\u001b[0m\n",
      "\u001b[38;5;27mchr11\u001b[0m         \u001b[38;5;27mchr16\u001b[0m         \u001b[38;5;27mchr20\u001b[0m         \u001b[38;5;9mchr4.bed.gz\u001b[0m  \u001b[38;5;9mchr9.bed.gz\u001b[0m\n",
      "\u001b[38;5;9mchr11.bed.gz\u001b[0m  \u001b[38;5;9mchr16.bed.gz\u001b[0m  \u001b[38;5;9mchr20.bed.gz\u001b[0m  \u001b[38;5;27mchr5\u001b[0m         \u001b[38;5;27mchrX\u001b[0m\n",
      "\u001b[38;5;27mchr12\u001b[0m         \u001b[38;5;27mchr17\u001b[0m         \u001b[38;5;27mchr21\u001b[0m         \u001b[38;5;9mchr5.bed.gz\u001b[0m  \u001b[38;5;9mchrX.bed.gz\u001b[0m\n",
      "\u001b[38;5;9mchr12.bed.gz\u001b[0m  \u001b[38;5;9mchr17.bed.gz\u001b[0m  \u001b[38;5;9mchr21.bed.gz\u001b[0m  \u001b[38;5;27mchr6\u001b[0m         \u001b[38;5;27mchrY\u001b[0m\n",
      "\u001b[38;5;27mchr13\u001b[0m         \u001b[38;5;27mchr18\u001b[0m         \u001b[38;5;27mchr22\u001b[0m         \u001b[38;5;9mchr6.bed.gz\u001b[0m  \u001b[38;5;9mchrY.bed.gz\u001b[0m\n",
      "\u001b[38;5;9mchr13.bed.gz\u001b[0m  \u001b[38;5;9mchr18.bed.gz\u001b[0m  \u001b[38;5;9mchr22.bed.gz\u001b[0m  \u001b[38;5;27mchr7\u001b[0m         \u001b[38;5;27mtarget_PER1\u001b[0m\n",
      "\u001b[38;5;27mchr14\u001b[0m         \u001b[38;5;27mchr19\u001b[0m         \u001b[38;5;9mchr2.bed.gz\u001b[0m   \u001b[38;5;9mchr7.bed.gz\u001b[0m  \u001b[38;5;9mtarget_PER1.bed.gz\u001b[0m\n"
     ]
    }
   ],
   "source": [
    "ls ${FD_RES}/annotation_fragment/Input1_20x"
   ]
  },
  {
   "cell_type": "code",
   "execution_count": null,
   "id": "098cc6c6-167f-4bca-83cf-69ac127c45bd",
   "metadata": {},
   "outputs": [],
   "source": [
    "FNAME=AHR_merge.bed.gz\n",
    "TARGET=target_PER1\n",
    "FD_OUT=\"${FD_RES}/annotation_fragment/merge/${TARGET}\""
   ]
  },
  {
   "cell_type": "code",
   "execution_count": null,
   "id": "b5f05c34-cdc8-4229-9acd-682dc8687ddc",
   "metadata": {},
   "outputs": [],
   "source": []
  },
  {
   "cell_type": "code",
   "execution_count": 8,
   "id": "3aa5a4fa-5584-43ae-a055-47a301a8f18f",
   "metadata": {
    "collapsed": true,
    "jupyter": {
     "outputs_hidden": true
    },
    "tags": []
   },
   "outputs": [
    {
     "name": "stdout",
     "output_type": "stream",
     "text": [
      "AHR_merge.bed.gz\n",
      "AIRE_merge.bed.gz\n",
      "AP1_1_merge.bed.gz\n",
      "AP1_2_merge.bed.gz\n",
      "ARI5A_merge.bed.gz\n",
      "ARI5B_merge.bed.gz\n",
      "BATF_merge.bed.gz\n",
      "BCL6_1_merge.bed.gz\n",
      "BCL6_2_merge.bed.gz\n",
      "CCAAT_CEBP_merge.bed.gz\n",
      "CENBP_merge.bed.gz\n",
      "CPEB1_merge.bed.gz\n",
      "CREB3_XBP1_merge.bed.gz\n",
      "CREB_ATF_1_merge.bed.gz\n",
      "CREB_ATF_2_merge.bed.gz\n",
      "CREB_ATF_3_merge.bed.gz\n",
      "CTCF_merge.bed.gz\n",
      "CUX_1_merge.bed.gz\n",
      "CUX_2_merge.bed.gz\n",
      "CUX_3_merge.bed.gz\n",
      "DDIT3+CEBPA_merge.bed.gz\n",
      "DMRT3_merge.bed.gz\n",
      "E2F_1_merge.bed.gz\n",
      "E2F_2_merge.bed.gz\n",
      "E2F_3_merge.bed.gz\n",
      "E2F_4_merge.bed.gz\n",
      "EBF1_merge.bed.gz\n",
      "Ebox_CACCTG_merge.bed.gz\n",
      "Ebox_CACGTG_1_merge.bed.gz\n",
      "Ebox_CACGTG_2_merge.bed.gz\n",
      "Ebox_CAGATGG_merge.bed.gz\n",
      "Ebox_CAGCTG_merge.bed.gz\n",
      "Ebox_CATATG_merge.bed.gz\n",
      "EGR_merge.bed.gz\n",
      "ETS_1_merge.bed.gz\n",
      "ETS_2_merge.bed.gz\n",
      "EVI1_MECOM_merge.bed.gz\n",
      "EWSR1_FLI1_merge.bed.gz\n",
      "FEZF1_merge.bed.gz\n",
      "FOX_1_merge.bed.gz\n",
      "FOX_2_merge.bed.gz\n",
      "FOX_3_merge.bed.gz\n",
      "FOX_4_merge.bed.gz\n",
      "FOX_5_merge.bed.gz\n",
      "FOX_6_merge.bed.gz\n",
      "FOX_7_merge.bed.gz\n",
      "FOX_8_merge.bed.gz\n",
      "FOX_9_merge.bed.gz\n",
      "GATA_merge.bed.gz\n",
      "GCM_merge.bed.gz\n",
      "GC-tract_merge.bed.gz\n",
      "GFI_merge.bed.gz\n",
      "GLI_merge.bed.gz\n",
      "GLIS_merge.bed.gz\n",
      "GMEB2_1_merge.bed.gz\n",
      "GMEB2_2_merge.bed.gz\n",
      "GMEB2_3_merge.bed.gz\n",
      "GRHL_merge.bed.gz\n",
      "HAND1_merge.bed.gz\n",
      "HD_10_merge.bed.gz\n",
      "HD_11_merge.bed.gz\n",
      "HD_12_merge.bed.gz\n",
      "HD_13_merge.bed.gz\n",
      "HD_14_merge.bed.gz\n",
      "HD_15_merge.bed.gz\n",
      "HD_16_merge.bed.gz\n",
      "HD_17_merge.bed.gz\n",
      "HD_18_merge.bed.gz\n",
      "HD_19_merge.bed.gz\n",
      "HD_1_merge.bed.gz\n",
      "HD_20_merge.bed.gz\n",
      "HD_21_merge.bed.gz\n",
      "HD_22_merge.bed.gz\n",
      "HD_23_merge.bed.gz\n",
      "HD_24_merge.bed.gz\n",
      "HD_25_merge.bed.gz\n",
      "HD_2_merge.bed.gz\n",
      "HD_3_merge.bed.gz\n",
      "HD_4_merge.bed.gz\n",
      "HD_5_merge.bed.gz\n",
      "HD_6_merge.bed.gz\n",
      "HD_7_merge.bed.gz\n",
      "HD_8_merge.bed.gz\n",
      "HD_9_merge.bed.gz\n",
      "HEN1_merge.bed.gz\n",
      "HIC_1_merge.bed.gz\n",
      "HIC_2_merge.bed.gz\n",
      "HIF_merge.bed.gz\n",
      "HINFP1_1_merge.bed.gz\n",
      "HINFP1_2_merge.bed.gz\n",
      "HINFP1_3_merge.bed.gz\n",
      "HLTF_merge.bed.gz\n",
      "HOMEZ_merge.bed.gz\n",
      "HSF_merge.bed.gz\n",
      "HSFY2_merge.bed.gz\n",
      "INSM1_merge.bed.gz\n",
      "IRF_1_merge.bed.gz\n",
      "IRF_2_merge.bed.gz\n",
      "IRF_3_merge.bed.gz\n",
      "IRF_4_merge.bed.gz\n",
      "KAISO_merge.bed.gz\n",
      "KLF_SP_1_merge.bed.gz\n",
      "KLF_SP_2_merge.bed.gz\n",
      "KLF_SP_3_merge.bed.gz\n",
      "LEF1_merge.bed.gz\n",
      "LIN54_merge.bed.gz\n",
      "MAF_merge.bed.gz\n",
      "MBD2_merge.bed.gz\n",
      "MECP2_merge.bed.gz\n",
      "MEF2_merge.bed.gz\n",
      "MFZ1_merge.bed.gz\n",
      "MIES_merge.bed.gz\n",
      "MTF1_merge.bed.gz\n",
      "MYB_1_merge.bed.gz\n",
      "MYB_2_merge.bed.gz\n",
      "MYB_3_merge.bed.gz\n",
      "MYB_4_merge.bed.gz\n",
      "MYB_5_merge.bed.gz\n",
      "MZF1_merge.bed.gz\n",
      "NFAC_2_merge.bed.gz\n",
      "NFAT_1_merge.bed.gz\n",
      "NFAT_2_merge.bed.gz\n",
      "NFAT_3_merge.bed.gz\n",
      "NFAT_4_merge.bed.gz\n",
      "NFI_1_merge.bed.gz\n",
      "NFI_2_merge.bed.gz\n",
      "NFI_3_merge.bed.gz\n",
      "NFKB_1_merge.bed.gz\n",
      "NFKB_2_merge.bed.gz\n",
      "NFKB_3_merge.bed.gz\n",
      "NFY_merge.bed.gz\n",
      "NR_10_merge.bed.gz\n",
      "NR_11_merge.bed.gz\n",
      "NR_12_merge.bed.gz\n",
      "NR_13_merge.bed.gz\n",
      "NR_14_merge.bed.gz\n",
      "NR_15_merge.bed.gz\n",
      "NR_16_merge.bed.gz\n",
      "NR_17_merge.bed.gz\n",
      "NR_18_merge.bed.gz\n",
      "NR_19_merge.bed.gz\n",
      "NR_1_merge.bed.gz\n",
      "NR_20_merge.bed.gz\n",
      "NR2E3_merge.bed.gz\n",
      "NR_2_merge.bed.gz\n",
      "NR_3_merge.bed.gz\n",
      "NR_4_merge.bed.gz\n",
      "NR_5_merge.bed.gz\n",
      "NR_6_merge.bed.gz\n",
      "NR_7_merge.bed.gz\n",
      "NR_8_merge.bed.gz\n",
      "NR_9_merge.bed.gz\n",
      "NRF1_merge.bed.gz\n",
      "OCT4+SOX2_merge.bed.gz\n",
      "OSR2_merge.bed.gz\n",
      "OVOL1_merge.bed.gz\n",
      "P53-like_1_merge.bed.gz\n",
      "PAX_1_merge.bed.gz\n",
      "PAX_2_merge.bed.gz\n",
      "PAX-halfsite_merge.bed.gz\n",
      "PLAG1_merge.bed.gz\n",
      "POU_1_merge.bed.gz\n",
      "POU_2_merge.bed.gz\n",
      "POU_3_merge.bed.gz\n",
      "PRDM14_merge.bed.gz\n",
      "PRDM1_merge.bed.gz\n",
      "PRDM4_merge.bed.gz\n",
      "PROX1_merge.bed.gz\n",
      "RBPJ_merge.bed.gz\n",
      "REL-halfsite_merge.bed.gz\n",
      "REST_NRSF_merge.bed.gz\n",
      "RFX_1_merge.bed.gz\n",
      "RFX_2_merge.bed.gz\n",
      "RFX_3_merge.bed.gz\n",
      "RUNX_1_merge.bed.gz\n",
      "RUNX_2_merge.bed.gz\n",
      "SCRT1_merge.bed.gz\n",
      "SIX_1_merge.bed.gz\n",
      "SIX_2_merge.bed.gz\n",
      "SMAD_merge.bed.gz\n",
      "SMARCA1_merge.bed.gz\n",
      "SMARCA5_merge.bed.gz\n",
      "SNAI2_merge.bed.gz\n",
      "SOX_1_merge.bed.gz\n",
      "SOX_2_merge.bed.gz\n",
      "SOX_3_merge.bed.gz\n",
      "SOX_4_merge.bed.gz\n",
      "SOX_5_merge.bed.gz\n",
      "SOX_6_merge.bed.gz\n",
      "SOX_7_merge.bed.gz\n",
      "SOX_8_merge.bed.gz\n",
      "SPDEF_1_merge.bed.gz\n",
      "SPDEF_2_merge.bed.gz\n",
      "SPI_merge.bed.gz\n",
      "SPZ1_merge.bed.gz\n",
      "SREBF1_merge.bed.gz\n",
      "SRF_merge.bed.gz\n",
      "STAT_1_merge.bed.gz\n",
      "STAT_2_merge.bed.gz\n",
      "TATA_merge.bed.gz\n",
      "TBX_1_merge.bed.gz\n",
      "TBX_2_merge.bed.gz\n",
      "TBX_3_merge.bed.gz\n",
      "TBX_4_merge.bed.gz\n",
      "TCF_LEF_merge.bed.gz\n",
      "TEAD_merge.bed.gz\n",
      "TFAP2_1_merge.bed.gz\n",
      "TFAP2_2_merge.bed.gz\n",
      "TFCP2_merge.bed.gz\n",
      "THAP1_merge.bed.gz\n",
      "YY1_merge.bed.gz\n",
      "ZBED1_merge.bed.gz\n",
      "ZBTB14_merge.bed.gz\n",
      "ZBTB48_merge.bed.gz\n",
      "ZBTB49_merge.bed.gz\n",
      "ZBTB6_merge.bed.gz\n",
      "ZBTB7A_merge.bed.gz\n",
      "ZFN121_merge.bed.gz\n",
      "ZFX_merge.bed.gz\n",
      "ZIC_2_merge.bed.gz\n",
      "ZIC_merge.bed.gz\n",
      "ZIM3_merge.bed.gz\n",
      "ZKSCAN1_merge.bed.gz\n",
      "ZNF134_merge.bed.gz\n",
      "ZNF136_merge.bed.gz\n",
      "ZNF140_merge.bed.gz\n",
      "ZNF143_merge.bed.gz\n",
      "ZNF146_merge.bed.gz\n",
      "ZNF232_merge.bed.gz\n",
      "ZNF24_merge.bed.gz\n",
      "ZNF250_merge.bed.gz\n",
      "ZNF257_merge.bed.gz\n",
      "ZNF274_merge.bed.gz\n",
      "ZNF282_merge.bed.gz\n",
      "ZNF28_merge.bed.gz\n",
      "ZNF306_merge.bed.gz\n",
      "ZNF317_merge.bed.gz\n",
      "ZNF320_merge.bed.gz\n",
      "ZNF324_merge.bed.gz\n",
      "ZNF329_merge.bed.gz\n",
      "ZNF331_merge.bed.gz\n",
      "ZNF332_merge.bed.gz\n",
      "ZNF335_merge.bed.gz\n",
      "ZNF354_merge.bed.gz\n",
      "ZNF382_merge.bed.gz\n",
      "ZNF384_1_merge.bed.gz\n",
      "ZNF384_2_merge.bed.gz\n",
      "ZNF410_merge.bed.gz\n",
      "ZNF418_merge.bed.gz\n",
      "ZNF41_merge.bed.gz\n",
      "ZNF423_merge.bed.gz\n",
      "ZNF435_merge.bed.gz\n",
      "ZNF436_merge.bed.gz\n",
      "ZNF449_merge.bed.gz\n",
      "ZNF490_merge.bed.gz\n",
      "ZNF524_merge.bed.gz\n",
      "ZNF528_merge.bed.gz\n",
      "ZNF53_merge.bed.gz\n",
      "ZNF547_merge.bed.gz\n",
      "ZNF549_merge.bed.gz\n",
      "ZNF554_merge.bed.gz\n",
      "ZNF563_merge.bed.gz\n",
      "ZNF586_merge.bed.gz\n",
      "ZNF667_merge.bed.gz\n",
      "ZNF680_merge.bed.gz\n",
      "ZNF708_merge.bed.gz\n",
      "ZNF713_merge.bed.gz\n",
      "ZNF768_merge.bed.gz\n",
      "ZNF784_merge.bed.gz\n",
      "ZNF85_merge.bed.gz\n",
      "ZSCAN3_merge.bed.gz\n",
      "ZSCAN4_merge.bed.gz\n"
     ]
    }
   ],
   "source": [
    "TARGET=target_PER1\n",
    "FNAMES=$(ls ${FD_RES}/annotation_fragment/Input1_20x/${TARGET})\n",
    "for FNAME in ${FNAMES[@]}; do\n",
    "    echo ${FNAME}\n",
    "done"
   ]
  },
  {
   "cell_type": "code",
   "execution_count": 35,
   "id": "aab8e544-6e54-43ce-a5ee-c6e52936dfb8",
   "metadata": {},
   "outputs": [
    {
     "name": "stdout",
     "output_type": "stream",
     "text": [
      "chr17\t8150329\t8151343\t1\tchr17\t8151284\t8151290\tAHR\t7.9331\t6\n",
      "chr17\t8150402\t8151376\t1\tchr17\t8151284\t8151290\tAHR\t7.9331\t6\n",
      "chr17\t8150410\t8151356\t1\tchr17\t8151284\t8151290\tAHR\t7.9331\t6\n",
      "chr17\t8150421\t8151368\t1\tchr17\t8151284\t8151290\tAHR\t7.9331\t6\n",
      "chr17\t8150585\t8151628\t1\tchr17\t8151284\t8151290\tAHR\t7.9331\t6\n",
      "chr17\t8150681\t8151651\t1\tchr17\t8151284\t8151290\tAHR\t7.9331\t6\n",
      "chr17\t8150924\t8151934\t1\tchr17\t8151284\t8151290\tAHR\t7.9331\t6\n",
      "chr17\t8150967\t8152017\t1\tchr17\t8151284\t8151290\tAHR\t7.9331\t6\n",
      "chr17\t8151036\t8151950\t1\tchr17\t8151284\t8151290\tAHR\t7.9331\t6\n",
      "chr17\t8151038\t8152053\t1\tchr17\t8151284\t8151290\tAHR\t7.9331\t6\n"
     ]
    }
   ],
   "source": [
    "head /gpfs/fs1/data/reddylab/Kuei/out/proj_combeffect/annotation_fragment/Input1/target_PER1/AHR_merge.bed"
   ]
  },
  {
   "cell_type": "code",
   "execution_count": 51,
   "id": "63c5aacd-f2d9-44ef-a490-ee56b5b901b8",
   "metadata": {},
   "outputs": [
    {
     "name": "stdout",
     "output_type": "stream",
     "text": [
      "-rw-rw-r-- 1 kk319 reddylab 84K Oct 17 23:28 /data/reddylab/Kuei/out/proj_combeffect/annotation_fragment/Input1_20x/target_PER1/AHR_merge.bed\n"
     ]
    }
   ],
   "source": [
    "ls -hl /data/reddylab/Kuei/out/proj_combeffect/annotation_fragment/Input1_20x/target_PER1/*bed"
   ]
  },
  {
   "cell_type": "code",
   "execution_count": 53,
   "id": "8f4cdf89-a9a8-4b70-a113-753fa02f1115",
   "metadata": {},
   "outputs": [
    {
     "name": "stdout",
     "output_type": "stream",
     "text": [
      "chr17\t8150289\t8151402\t1\tchr17\t8151284\t8151290\tAHR\t7.9331\t6\n",
      "chr17\t8150291\t8151379\t1\tchr17\t8151284\t8151290\tAHR\t7.9331\t6\n",
      "chr17\t8150308\t8151314\t1\tchr17\t8151284\t8151290\tAHR\t7.9331\t6\n",
      "chr17\t8150320\t8151356\t3\tchr17\t8151284\t8151290\tAHR\t7.9331\t6\n",
      "chr17\t8150321\t8151356\t2\tchr17\t8151284\t8151290\tAHR\t7.9331\t6\n",
      "chr17\t8150323\t8151287\t1\tchr17\t8151284\t8151290\tAHR\t7.9331\t3\n",
      "chr17\t8150329\t8151343\t2\tchr17\t8151284\t8151290\tAHR\t7.9331\t6\n",
      "chr17\t8150340\t8151389\t1\tchr17\t8151284\t8151290\tAHR\t7.9331\t6\n",
      "chr17\t8150343\t8151325\t3\tchr17\t8151284\t8151290\tAHR\t7.9331\t6\n",
      "chr17\t8150343\t8151460\t3\tchr17\t8151284\t8151290\tAHR\t7.9331\t6\n"
     ]
    }
   ],
   "source": [
    "head /data/reddylab/Kuei/out/proj_combeffect/annotation_fragment/Input1_20x/target_PER1/AHR_merge.bed"
   ]
  },
  {
   "cell_type": "code",
   "execution_count": 49,
   "id": "3f18e950-cad5-4739-86dd-6783c2789bc5",
   "metadata": {
    "tags": []
   },
   "outputs": [
    {
     "name": "stdout",
     "output_type": "stream",
     "text": [
      "-rw-rw-r-- 1 kk319 reddylab 1.5G Oct 17 23:27 /gpfs/fs1/data/reddylab/Kuei/out/proj_combeffect/annotation_fragment/Input1_20x/chr1/AP1_2_merge.bed\n"
     ]
    }
   ],
   "source": [
    "ls -hl /gpfs/fs1/data/reddylab/Kuei/out/proj_combeffect/annotation_fragment/Input1_20x/chr1/*bed"
   ]
  },
  {
   "cell_type": "code",
   "execution_count": 45,
   "id": "70a4352a-0017-4a1e-985a-50d718282c5f",
   "metadata": {
    "tags": []
   },
   "outputs": [
    {
     "name": "stdout",
     "output_type": "stream",
     "text": [
      "/gpfs/fs1/data/reddylab/Kuei/out/proj_combeffect/annotation_fragment/Input1//target_PER1/AHR_merge.bed.gz\n",
      "AHR_merge.bed.gz\n",
      "AHR_merge.bed\n",
      "/gpfs/fs1/data/reddylab/Kuei/out/proj_combeffect/annotation_fragment/Input1_20x//target_PER1/AHR_merge.bed.gz\n",
      "AHR_merge.bed.gz\n",
      "AHR_merge.bed\n",
      "/gpfs/fs1/data/reddylab/Kuei/out/proj_combeffect/annotation_fragment/Input2//target_PER1/AHR_merge.bed.gz\n",
      "AHR_merge.bed.gz\n",
      "AHR_merge.bed\n",
      "/gpfs/fs1/data/reddylab/Kuei/out/proj_combeffect/annotation_fragment/Input2_20x//target_PER1/AHR_merge.bed.gz\n",
      "AHR_merge.bed.gz\n",
      "AHR_merge.bed\n",
      "/gpfs/fs1/data/reddylab/Kuei/out/proj_combeffect/annotation_fragment/Input3//target_PER1/AHR_merge.bed.gz\n",
      "AHR_merge.bed.gz\n",
      "AHR_merge.bed\n"
     ]
    }
   ],
   "source": [
    "TARGET=target_PER1\n",
    "FD_BEDS=($(ls -d ${FD_RES}/annotation_fragment/{Input?*,TFX?_DMSO,TFX?_Dex}/))\n",
    "\n",
    "for FD_BED in ${FD_BEDS[@]:0:5}; do\n",
    "    #echo ${FD_BED}/${TARGET}\n",
    "    \n",
    "    FPATHS=$(ls ${FD_BED}/${TARGET}/AHR_merge.bed.gz)\n",
    "    for FPATH in ${FPATHS[@]}; do\n",
    "        FNAME=$(basename ${FPATH})\n",
    "        FN_OUT=${FNAME%.*}\n",
    "        echo ${FPATH}\n",
    "        echo ${FNAME}\n",
    "        echo ${FN_OUT}\n",
    "        #gunzip -k \n",
    "        gunzip -c ${FPATH} > ${FD_BED}/${TARGET}/${FN_OUT}\n",
    "    done\n",
    "done"
   ]
  },
  {
   "cell_type": "code",
   "execution_count": 43,
   "id": "7c4ad5bf-8f2e-41c8-98ba-492103e033b5",
   "metadata": {},
   "outputs": [
    {
     "name": "stdout",
     "output_type": "stream",
     "text": [
      "Submitted batch job 26606574\n"
     ]
    }
   ],
   "source": [
    "### set env\n",
    "source ../config_duke.sh\n",
    "source ../config_load_module_bedtools.sh\n",
    "\n",
    "sbatch -p ${NODE} \\\n",
    "    --array 0-23 \\\n",
    "    --mem 20G \\\n",
    "    -o ${FD_LOG}/annotate_fragment_chrom_decompress.%a.txt \\\n",
    "    <<'EOF'\n",
    "#!/bin/bash\n",
    "### set directories & global variables\n",
    "source ../config_duke.sh -v\n",
    "CHROMS=($(seq 1 22) X Y)\n",
    "CHROM=chr${CHROMS[${SLURM_ARRAY_TASK_ID}]}\n",
    "TARGET=${CHROM}\n",
    "\n",
    "### set input directory\n",
    "FD_BEDS=($(ls -d ${FD_RES}/annotation_fragment/{Input?*,TFX?_DMSO,TFX?_Dex}/))\n",
    "\n",
    "for FD_BED in ${FD_BEDS[@]}; do\n",
    "    \n",
    "    FPATHS=$(ls ${FD_BED}/${TARGET}/AP1_2_merge.bed.gz)\n",
    "    \n",
    "    for FPATH in ${FPATHS[@]}; do\n",
    "        FNAME=$(basename ${FPATH})\n",
    "        FN_OUT=${FNAME%.*}\n",
    "        \n",
    "        echo ${FPATH}\n",
    "        echo ${FNAME}\n",
    "        echo ${FN_OUT}\n",
    "        \n",
    "        gunzip -c ${FPATH} > ${FD_BED}/${TARGET}/${FN_OUT}\n",
    "    done\n",
    "done\n",
    "\n",
    "\n",
    "\n",
    "EOF"
   ]
  },
  {
   "cell_type": "code",
   "execution_count": null,
   "id": "87c6eecc-6eb2-40b3-8cfe-d77b73843295",
   "metadata": {},
   "outputs": [],
   "source": []
  },
  {
   "cell_type": "code",
   "execution_count": 47,
   "id": "e9a2a345-678f-4687-b9ab-89e00b6ef45a",
   "metadata": {},
   "outputs": [
    {
     "name": "stdout",
     "output_type": "stream",
     "text": [
      "You are on Duke Server: HARDAC\n",
      "BASE DIRECTORY:     /gpfs/fs1/data/reddylab/Kuei\n",
      "PATH OF SOURCE:     /gpfs/fs1/data/reddylab/Kuei/source\n",
      "PATH OF EXECUTABLE: /gpfs/fs1/data/reddylab/Kuei/exe\n",
      "PATH OF ANNOTATION: /gpfs/fs1/data/reddylab/Kuei/annotation\n",
      "PATH OF PROJECT:    /gpfs/fs1/data/reddylab/Kuei/GitRepo/Proj_CombEffect_STARRseq/notebooks\n",
      "PATH OF RESULTS:    /gpfs/fs1/data/reddylab/Kuei/out/proj_combeffect\n",
      "\n",
      "/gpfs/fs1/data/reddylab/Kuei/out/proj_combeffect/annotation_fragment/Input1//chr2/AP1_2_merge.bed.gz\n",
      "AP1_2_merge.bed.gz\n",
      "AP1_2_merge.bed\n",
      "/gpfs/fs1/data/reddylab/Kuei/out/proj_combeffect/annotation_fragment/Input1_20x//chr2/AP1_2_merge.bed.gz\n",
      "AP1_2_merge.bed.gz\n",
      "AP1_2_merge.bed\n",
      "/gpfs/fs1/data/reddylab/Kuei/out/proj_combeffect/annotation_fragment/Input2//chr2/AP1_2_merge.bed.gz\n",
      "AP1_2_merge.bed.gz\n",
      "AP1_2_merge.bed\n",
      "/gpfs/fs1/data/reddylab/Kuei/out/proj_combeffect/annotation_fragment/Input2_20x//chr2/AP1_2_merge.bed.gz\n",
      "AP1_2_merge.bed.gz\n",
      "AP1_2_merge.bed\n",
      "/gpfs/fs1/data/reddylab/Kuei/out/proj_combeffect/annotation_fragment/Input3//chr2/AP1_2_merge.bed.gz\n",
      "AP1_2_merge.bed.gz\n",
      "AP1_2_merge.bed\n",
      "/gpfs/fs1/data/reddylab/Kuei/out/proj_combeffect/annotation_fragment/Input3_20x//chr2/AP1_2_merge.bed.gz\n",
      "AP1_2_merge.bed.gz\n",
      "AP1_2_merge.bed\n",
      "/gpfs/fs1/data/reddylab/Kuei/out/proj_combeffect/annotation_fragment/Input4//chr2/AP1_2_merge.bed.gz\n",
      "AP1_2_merge.bed.gz\n",
      "AP1_2_merge.bed\n",
      "/gpfs/fs1/data/reddylab/Kuei/out/proj_combeffect/annotation_fragment/Input4_20x//chr2/AP1_2_merge.bed.gz\n",
      "AP1_2_merge.bed.gz\n",
      "AP1_2_merge.bed\n",
      "/gpfs/fs1/data/reddylab/Kuei/out/proj_combeffect/annotation_fragment/Input5//chr2/AP1_2_merge.bed.gz\n",
      "AP1_2_merge.bed.gz\n",
      "AP1_2_merge.bed\n",
      "/gpfs/fs1/data/reddylab/Kuei/out/proj_combeffect/annotation_fragment/Input5_20x//chr2/AP1_2_merge.bed.gz\n",
      "AP1_2_merge.bed.gz\n",
      "AP1_2_merge.bed\n",
      "/gpfs/fs1/data/reddylab/Kuei/out/proj_combeffect/annotation_fragment/TFX2_Dex//chr2/AP1_2_merge.bed.gz\n",
      "AP1_2_merge.bed.gz\n",
      "AP1_2_merge.bed\n",
      "/gpfs/fs1/data/reddylab/Kuei/out/proj_combeffect/annotation_fragment/TFX2_DMSO//chr2/AP1_2_merge.bed.gz\n",
      "AP1_2_merge.bed.gz\n",
      "AP1_2_merge.bed\n",
      "/gpfs/fs1/data/reddylab/Kuei/out/proj_combeffect/annotation_fragment/TFX3_Dex//chr2/AP1_2_merge.bed.gz\n",
      "AP1_2_merge.bed.gz\n",
      "AP1_2_merge.bed\n",
      "/gpfs/fs1/data/reddylab/Kuei/out/proj_combeffect/annotation_fragment/TFX3_DMSO//chr2/AP1_2_merge.bed.gz\n",
      "AP1_2_merge.bed.gz\n",
      "AP1_2_merge.bed\n",
      "/gpfs/fs1/data/reddylab/Kuei/out/proj_combeffect/annotation_fragment/TFX4_Dex//chr2/AP1_2_merge.bed.gz\n",
      "AP1_2_merge.bed.gz\n",
      "AP1_2_merge.bed\n",
      "/gpfs/fs1/data/reddylab/Kuei/out/proj_combeffect/annotation_fragment/TFX4_DMSO//chr2/AP1_2_merge.bed.gz\n",
      "AP1_2_merge.bed.gz\n",
      "AP1_2_merge.bed\n",
      "/gpfs/fs1/data/reddylab/Kuei/out/proj_combeffect/annotation_fragment/TFX5_Dex//chr2/AP1_2_merge.bed.gz\n",
      "AP1_2_merge.bed.gz\n",
      "AP1_2_merge.bed\n",
      "/gpfs/fs1/data/reddylab/Kuei/out/proj_combeffect/annotation_fragment/TFX5_DMSO//chr2/AP1_2_merge.bed.gz\n",
      "AP1_2_merge.bed.gz\n",
      "AP1_2_merge.bed\n"
     ]
    }
   ],
   "source": [
    "cat ${FD_LOG}/annotate_fragment_chrom_decompress.1.txt"
   ]
  },
  {
   "cell_type": "code",
   "execution_count": null,
   "id": "60eae0b2-6ece-4ca0-ab30-92b2860356a9",
   "metadata": {},
   "outputs": [],
   "source": []
  }
 ],
 "metadata": {
  "kernelspec": {
   "display_name": "Bash",
   "language": "bash",
   "name": "bash"
  },
  "language_info": {
   "codemirror_mode": "shell",
   "file_extension": ".sh",
   "mimetype": "text/x-sh",
   "name": "bash"
  }
 },
 "nbformat": 4,
 "nbformat_minor": 5
}
