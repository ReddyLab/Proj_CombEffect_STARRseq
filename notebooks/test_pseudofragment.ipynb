{
 "cells": [
  {
   "cell_type": "code",
   "execution_count": 1,
   "metadata": {},
   "outputs": [],
   "source": [
    "import numpy as np\n",
    "import itertools as it\n",
    "import os"
   ]
  },
  {
   "cell_type": "code",
   "execution_count": 2,
   "metadata": {},
   "outputs": [
    {
     "name": "stdout",
     "output_type": "stream",
     "text": [
      "/work/kk319\n"
     ]
    }
   ],
   "source": [
    "fpath = os.getcwd()\n",
    "if \"/hpc\" in fpath:\n",
    "    FD_WRK=\"/work/kk319\"\n",
    "if \"/gpfs/fs1\" in fpath:\n",
    "    FD_WRK=\"/data/reddylab/Kuei\"\n",
    "print(FD_WRK)"
   ]
  },
  {
   "cell_type": "code",
   "execution_count": 3,
   "metadata": {},
   "outputs": [
    {
     "name": "stdout",
     "output_type": "stream",
     "text": [
      "/work/kk319/out/CombEffect_STARR/count_segment/TFX_DMSO/seg_PER1.bed\n"
     ]
    }
   ],
   "source": [
    "### \"/data/reddylab/Kuei/out/CombEffect_STARR/data/TFX_DMSO\"\n",
    "FD_DAT = os.path.join(FD_WRK, \"out/CombEffect_STARR/count_segment/TFX_DMSO\")\n",
    "fpath  = os.path.join(FD_DAT, \"seg_PER1.bed\")\n",
    "print(fpath)"
   ]
  },
  {
   "cell_type": "code",
   "execution_count": 6,
   "metadata": {},
   "outputs": [
    {
     "name": "stdout",
     "output_type": "stream",
     "text": [
      "2182 /work/kk319/out/CombEffect_STARR/count_segment/TFX_DMSO/seg_PER1.bed\n"
     ]
    }
   ],
   "source": [
    "%%bash \n",
    "wc -l /work/kk319/out/CombEffect_STARR/count_segment/TFX_DMSO/seg_PER1.bed"
   ]
  },
  {
   "cell_type": "code",
   "execution_count": 12,
   "metadata": {},
   "outputs": [
    {
     "name": "stdout",
     "output_type": "stream",
     "text": [
      "   0 ['chr17', '8149037', '8149038']\n",
      " 999 ['chr17', '8152957', '8152964']\n",
      " new ['chr17', '8149037', '8152964']\n",
      "+++++++++++++++++++\n",
      "   5 ['chr17', '8149177', '8149178']\n",
      "1004 ['chr17', '8153004', '8153005']\n",
      " new ['chr17', '8149177', '8153005']\n",
      "+++++++++++++++++++\n",
      "  10 ['chr17', '8149194', '8149196']\n",
      "1009 ['chr17', '8153051', '8153052']\n",
      " new ['chr17', '8149194', '8153052']\n",
      "+++++++++++++++++++\n"
     ]
    }
   ],
   "source": [
    "n_gap   = 5\n",
    "n_seg   = 1000\n",
    "n_total = 1010\n",
    "with open(fpath, \"r\") as file1, open(fpath, \"r\") as file2:\n",
    "    gen    = enumerate(file1)\n",
    "    starts = it.islice(gen, 0, n_total, n_gap)\n",
    "    gen    = enumerate(file2)\n",
    "    ends   = it.islice(gen, n_seg-1, n_total, n_gap)\n",
    "\n",
    "    for (i,x), (j,y) in zip(starts, ends):\n",
    "        frag1 = x.strip().split(\"\\t\")\n",
    "        frag2 = y.strip().split(\"\\t\")\n",
    "        fragn = ['chr17', frag1[1], frag2[2]]\n",
    "        print(\"{:>4}\".format(i), frag1)\n",
    "        print(\"{:>4}\".format(j), frag2)\n",
    "        print(\" new\", fragn)\n",
    "        print(\"+++++++++++++++++++\")"
   ]
  },
  {
   "cell_type": "code",
   "execution_count": 17,
   "metadata": {},
   "outputs": [
    {
     "name": "stdout",
     "output_type": "stream",
     "text": [
      "/work/kk319/out/CombEffect_STARR/count_segment/TFX_DMSO/seg_PER1.bed\n",
      "/work/kk319/out/CombEffect_STARR/count_segment/TFX_DMSO/pseudo_PER1.bed\n"
     ]
    }
   ],
   "source": [
    "FD_DAT   = os.path.join(FD_WRK, \"out/CombEffect_STARR/count_segment/TFX_DMSO\")\n",
    "fpath_in = os.path.join(FD_DAT, \"seg_PER1.bed\")\n",
    "fpath_ot = os.path.join(FD_DAT, \"pseudo_PER1.bed\")\n",
    "print(fpath_in)\n",
    "print(fpath_ot)"
   ]
  },
  {
   "cell_type": "code",
   "execution_count": 18,
   "metadata": {},
   "outputs": [
    {
     "name": "stdout",
     "output_type": "stream",
     "text": [
      "   0 chr17\t8149037\t8149038\n",
      " 999 chr17\t8152957\t8152964\n",
      " new chr17\t8149037\t8152964\n",
      "+++++++++++++++++++\n",
      "   5 chr17\t8149177\t8149178\n",
      "1004 chr17\t8153004\t8153005\n",
      " new chr17\t8149177\t8153005\n",
      "+++++++++++++++++++\n",
      "  10 chr17\t8149194\t8149196\n",
      "1009 chr17\t8153051\t8153052\n",
      " new chr17\t8149194\t8153052\n",
      "+++++++++++++++++++\n"
     ]
    }
   ],
   "source": [
    "n_gap   = 5\n",
    "n_seg   = 1000\n",
    "n_total = 1010\n",
    "with open(fpath_in, \"r\") as fin1, open(fpath_in, \"r\") as fin2, open(fpath_ot, 'w') as fout:\n",
    "    gen    = enumerate(fin1)\n",
    "    starts = it.islice(gen, 0, n_total, n_gap)\n",
    "    gen    = enumerate(fin2)\n",
    "    ends   = it.islice(gen, n_seg-1, n_total, n_gap)\n",
    "\n",
    "    for (i,x), (j,y) in zip(starts, ends):\n",
    "        frag1 = x.strip().split(\"\\t\")\n",
    "        frag2 = y.strip().split(\"\\t\")\n",
    "        fragn = ['chr17', frag1[1], frag2[2]]\n",
    "        fout.write(\"\\t\".join(fragn) + \"\\n\")\n",
    "        \n",
    "        print(\"{:>4}\".format(i), \"\\t\".join(frag1))\n",
    "        print(\"{:>4}\".format(j), \"\\t\".join(frag2))\n",
    "        print(\" new\",            \"\\t\".join(fragn))\n",
    "        print(\"+++++++++++++++++++\")"
   ]
  },
  {
   "cell_type": "code",
   "execution_count": 19,
   "metadata": {},
   "outputs": [
    {
     "name": "stdout",
     "output_type": "stream",
     "text": [
      "chr17\t8149037\t8152964\n",
      "chr17\t8149177\t8153005\n",
      "chr17\t8149194\t8153052\n"
     ]
    }
   ],
   "source": [
    "!head /work/kk319/out/CombEffect_STARR/count_segment/TFX_DMSO/pseudo_PER1.bed"
   ]
  },
  {
   "cell_type": "code",
   "execution_count": 21,
   "metadata": {},
   "outputs": [
    {
     "data": {
      "text/plain": [
       "11"
      ]
     },
     "execution_count": 21,
     "metadata": {},
     "output_type": "execute_result"
    }
   ],
   "source": [
    "1011 % 100"
   ]
  },
  {
   "cell_type": "code",
   "execution_count": 23,
   "metadata": {},
   "outputs": [
    {
     "name": "stdout",
     "output_type": "stream",
     "text": [
      "0 999\n",
      "100 1099\n",
      "200 1199\n",
      "300 1299\n",
      "400 1399\n",
      "500 1499\n",
      "600 1599\n",
      "700 1699\n",
      "800 1799\n",
      "900 1899\n",
      "1000 1999\n",
      "1100 2099\n",
      "CPU times: user 6.32 ms, sys: 2.9 ms, total: 9.22 ms\n",
      "Wall time: 10.7 ms\n"
     ]
    }
   ],
   "source": [
    "%%time\n",
    "\n",
    "n_gap   = 5\n",
    "n_seg   = 1000\n",
    "n_total = None\n",
    "with open(fpath_in, \"r\") as fin1, open(fpath_in, \"r\") as fin2, open(fpath_ot, 'w') as fout:\n",
    "    ### initiation\n",
    "    gen    = enumerate(fin1)\n",
    "    starts = it.islice(gen, 0, n_total, n_gap)\n",
    "    gen    = enumerate(fin2)\n",
    "    ends   = it.islice(gen, n_seg-1, n_total, n_gap)\n",
    "\n",
    "    ### generate pseudo fragments\n",
    "    for (i,x), (j,y) in zip(starts, ends):\n",
    "        ### showing progress\n",
    "        if (i % 100 == 0):\n",
    "            print(i,j)\n",
    "        \n",
    "        ### extract locations\n",
    "        frag1 = x.strip().split(\"\\t\")\n",
    "        frag2 = y.strip().split(\"\\t\")\n",
    "        \n",
    "        ### build new fragment and output\n",
    "        fragn = ['chr17', frag1[1], frag2[2]]\n",
    "        fout.write(\"\\t\".join(fragn) + \"\\n\")"
   ]
  },
  {
   "cell_type": "code",
   "execution_count": 24,
   "metadata": {},
   "outputs": [
    {
     "name": "stdout",
     "output_type": "stream",
     "text": [
      "660 /work/kk319/out/CombEffect_STARR/count_fragment/TFX2_DMSO/cnt_PER1.bed\n",
      "237 /work/kk319/out/CombEffect_STARR/count_segment/TFX_DMSO/pseudo_PER1.bed\n"
     ]
    }
   ],
   "source": [
    "%%bash\n",
    "wc -l /work/kk319/out/CombEffect_STARR/count_fragment/TFX2_DMSO/cnt_PER1.bed\n",
    "wc -l /work/kk319/out/CombEffect_STARR/count_segment/TFX_DMSO/pseudo_PER1.bed"
   ]
  },
  {
   "cell_type": "code",
   "execution_count": null,
   "metadata": {},
   "outputs": [],
   "source": []
  }
 ],
 "metadata": {
  "kernelspec": {
   "display_name": "Python 3",
   "language": "python",
   "name": "python3"
  },
  "language_info": {
   "codemirror_mode": {
    "name": "ipython",
    "version": 3
   },
   "file_extension": ".py",
   "mimetype": "text/x-python",
   "name": "python",
   "nbconvert_exporter": "python",
   "pygments_lexer": "ipython3",
   "version": "3.7.3"
  }
 },
 "nbformat": 4,
 "nbformat_minor": 4
}
