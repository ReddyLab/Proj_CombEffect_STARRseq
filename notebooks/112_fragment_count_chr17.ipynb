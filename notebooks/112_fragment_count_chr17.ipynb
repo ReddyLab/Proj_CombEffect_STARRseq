{
 "cells": [
  {
   "cell_type": "markdown",
   "metadata": {},
   "source": [
    "## Show directories"
   ]
  },
  {
   "cell_type": "markdown",
   "metadata": {},
   "source": [
    "**input directory**"
   ]
  },
  {
   "cell_type": "code",
   "execution_count": 1,
   "metadata": {},
   "outputs": [
    {
     "name": "stdout",
     "output_type": "stream",
     "text": [
      "\u001b[0m\u001b[01;34m/data/reddylab/Kuei/out/CombEffect_STARR/data/Input/\u001b[0m/\n",
      "\u001b[01;34m/data/reddylab/Kuei/out/CombEffect_STARR/data/Input1/\u001b[0m/\n",
      "\u001b[01;34m/data/reddylab/Kuei/out/CombEffect_STARR/data/Input2/\u001b[0m/\n",
      "\u001b[01;34m/data/reddylab/Kuei/out/CombEffect_STARR/data/Input3/\u001b[0m/\n",
      "\u001b[01;34m/data/reddylab/Kuei/out/CombEffect_STARR/data/Input4/\u001b[0m/\n",
      "\u001b[01;34m/data/reddylab/Kuei/out/CombEffect_STARR/data/Input5/\u001b[0m/\n",
      "\u001b[01;34m/data/reddylab/Kuei/out/CombEffect_STARR/data/TFX2_Dex/\u001b[0m/\n",
      "\u001b[01;34m/data/reddylab/Kuei/out/CombEffect_STARR/data/TFX2_DMSO/\u001b[0m/\n",
      "\u001b[01;34m/data/reddylab/Kuei/out/CombEffect_STARR/data/TFX3_Dex/\u001b[0m/\n",
      "\u001b[01;34m/data/reddylab/Kuei/out/CombEffect_STARR/data/TFX3_DMSO/\u001b[0m/\n",
      "\u001b[01;34m/data/reddylab/Kuei/out/CombEffect_STARR/data/TFX4_Dex/\u001b[0m/\n",
      "\u001b[01;34m/data/reddylab/Kuei/out/CombEffect_STARR/data/TFX4_DMSO/\u001b[0m/\n",
      "\u001b[01;34m/data/reddylab/Kuei/out/CombEffect_STARR/data/TFX5_Dex/\u001b[0m/\n",
      "\u001b[01;34m/data/reddylab/Kuei/out/CombEffect_STARR/data/TFX5_DMSO/\u001b[0m/\n",
      "\u001b[01;34m/data/reddylab/Kuei/out/CombEffect_STARR/data/TFX_Dex/\u001b[0m/\n",
      "\u001b[01;34m/data/reddylab/Kuei/out/CombEffect_STARR/data/TFX_DMSO/\u001b[0m/\n",
      "\u001b[m"
     ]
    }
   ],
   "source": [
    "ls -d /data/reddylab/Kuei/out/CombEffect_STARR/data/*/"
   ]
  },
  {
   "cell_type": "markdown",
   "metadata": {},
   "source": [
    "**Output directory**"
   ]
  },
  {
   "cell_type": "code",
   "execution_count": 2,
   "metadata": {},
   "outputs": [
    {
     "name": "stdout",
     "output_type": "stream",
     "text": [
      "\u001b[0m\u001b[01;34m/data/reddylab/Kuei/out/CombEffect_STARR/count/\u001b[0m/\n",
      "\u001b[m"
     ]
    }
   ],
   "source": [
    "ls -d /data/reddylab/Kuei/out/CombEffect_STARR/count/"
   ]
  },
  {
   "cell_type": "markdown",
   "metadata": {},
   "source": [
    "**Check total number of fragments for an input for each chromosome**"
   ]
  },
  {
   "cell_type": "code",
   "execution_count": 3,
   "metadata": {},
   "outputs": [
    {
     "name": "stdout",
     "output_type": "stream",
     "text": [
      "   949984 /data/reddylab/Kuei/out/CombEffect_STARR/data/Input1/chr10.bed\n",
      "   957067 /data/reddylab/Kuei/out/CombEffect_STARR/data/Input1/chr11.bed\n",
      "   864820 /data/reddylab/Kuei/out/CombEffect_STARR/data/Input1/chr12.bed\n",
      "   518479 /data/reddylab/Kuei/out/CombEffect_STARR/data/Input1/chr13.bed\n",
      "   569802 /data/reddylab/Kuei/out/CombEffect_STARR/data/Input1/chr14.bed\n",
      "   552557 /data/reddylab/Kuei/out/CombEffect_STARR/data/Input1/chr15.bed\n",
      "   642853 /data/reddylab/Kuei/out/CombEffect_STARR/data/Input1/chr16.bed\n",
      "   630820 /data/reddylab/Kuei/out/CombEffect_STARR/data/Input1/chr17.bed\n",
      "   456513 /data/reddylab/Kuei/out/CombEffect_STARR/data/Input1/chr18.bed\n",
      "   490817 /data/reddylab/Kuei/out/CombEffect_STARR/data/Input1/chr19.bed\n",
      "  1586763 /data/reddylab/Kuei/out/CombEffect_STARR/data/Input1/chr1.bed\n",
      "   530862 /data/reddylab/Kuei/out/CombEffect_STARR/data/Input1/chr20.bed\n",
      "   226692 /data/reddylab/Kuei/out/CombEffect_STARR/data/Input1/chr21.bed\n",
      "   345218 /data/reddylab/Kuei/out/CombEffect_STARR/data/Input1/chr22.bed\n",
      "  1517981 /data/reddylab/Kuei/out/CombEffect_STARR/data/Input1/chr2.bed\n",
      "  1232997 /data/reddylab/Kuei/out/CombEffect_STARR/data/Input1/chr3.bed\n",
      "   983838 /data/reddylab/Kuei/out/CombEffect_STARR/data/Input1/chr4.bed\n",
      "  1081054 /data/reddylab/Kuei/out/CombEffect_STARR/data/Input1/chr5.bed\n",
      "   979759 /data/reddylab/Kuei/out/CombEffect_STARR/data/Input1/chr6.bed\n",
      "   971505 /data/reddylab/Kuei/out/CombEffect_STARR/data/Input1/chr7.bed\n",
      "   889714 /data/reddylab/Kuei/out/CombEffect_STARR/data/Input1/chr8.bed\n",
      "   798518 /data/reddylab/Kuei/out/CombEffect_STARR/data/Input1/chr9.bed\n",
      "   886405 /data/reddylab/Kuei/out/CombEffect_STARR/data/Input1/chrX.bed\n",
      "     1612 /data/reddylab/Kuei/out/CombEffect_STARR/data/Input1/chrY.bed\n",
      " 18666630 total\n"
     ]
    }
   ],
   "source": [
    "%%bash\n",
    "wc -l /data/reddylab/Kuei/out/CombEffect_STARR/data/Input1/*"
   ]
  },
  {
   "cell_type": "markdown",
   "metadata": {},
   "source": [
    "## Count fragments for Input"
   ]
  },
  {
   "cell_type": "markdown",
   "metadata": {},
   "source": [
    "### Test looping input directories"
   ]
  },
  {
   "cell_type": "code",
   "execution_count": 4,
   "metadata": {},
   "outputs": [
    {
     "name": "stdout",
     "output_type": "stream",
     "text": [
      "Input\n",
      "/data/reddylab/Kuei/out/CombEffect_STARR/data/Input/\n",
      "/data/reddylab/Kuei/out/CombEffect_STARR/count/Input\n",
      "Input1\n",
      "/data/reddylab/Kuei/out/CombEffect_STARR/data/Input1/\n",
      "/data/reddylab/Kuei/out/CombEffect_STARR/count/Input1\n",
      "Input2\n",
      "/data/reddylab/Kuei/out/CombEffect_STARR/data/Input2/\n",
      "/data/reddylab/Kuei/out/CombEffect_STARR/count/Input2\n",
      "Input3\n",
      "/data/reddylab/Kuei/out/CombEffect_STARR/data/Input3/\n",
      "/data/reddylab/Kuei/out/CombEffect_STARR/count/Input3\n",
      "Input4\n",
      "/data/reddylab/Kuei/out/CombEffect_STARR/data/Input4/\n",
      "/data/reddylab/Kuei/out/CombEffect_STARR/count/Input4\n",
      "Input5\n",
      "/data/reddylab/Kuei/out/CombEffect_STARR/data/Input5/\n",
      "/data/reddylab/Kuei/out/CombEffect_STARR/count/Input5\n"
     ]
    }
   ],
   "source": [
    "%%bash\n",
    "FD_WRK=/data/reddylab/Kuei/out/CombEffect_STARR\n",
    "FD_BEDS=($(ls -d ${FD_WRK}/data/Input*/))\n",
    "FD_CNT=${FD_WRK}/count\n",
    "for FD_BED in ${FD_BEDS[@]}; do\n",
    "    echo $(basename ${FD_BED})\n",
    "    echo ${FD_BED}\n",
    "    echo ${FD_CNT}/$(basename ${FD_BED})\n",
    "done"
   ]
  },
  {
   "cell_type": "markdown",
   "metadata": {},
   "source": [
    "### Get counts for each input chr17"
   ]
  },
  {
   "cell_type": "code",
   "execution_count": 5,
   "metadata": {},
   "outputs": [
    {
     "name": "stdout",
     "output_type": "stream",
     "text": [
      "Submitted batch job 25434957\n"
     ]
    }
   ],
   "source": [
    "%%bash\n",
    "### set environment\n",
    "module load perl\n",
    "module load gcc\n",
    "source /data/reddylab/software/miniconda2/bin/activate alex_dev\n",
    "export PATH=/data/reddylab/software/homer/bin/:$PATH\n",
    "\n",
    "### set log file directory\n",
    "FD_LOG=/gpfsa/fs1/data/reddylab/Kuei/out/CombEffect_STARR/log\n",
    "\n",
    "### run script using sbatch\n",
    "sbatch -pnew,all \\\n",
    "    --array=0-5 \\\n",
    "    --mem 8G \\\n",
    "    -o ${FD_LOG}/prep_count_input.%a.txt \\\n",
    "    <<'EOF'\n",
    "#!/bin/bash\n",
    "### set directories and global parameters\n",
    "FD_WRK=/data/reddylab/Kuei/out/CombEffect_STARR\n",
    "FD_BEDS=($(ls -d ${FD_WRK}/data/Input*/))\n",
    "FD_CNT=${FD_WRK}/count\n",
    "CHROM=chr17\n",
    "\n",
    "### set input files\n",
    "FD_BED=${FD_BEDS[${SLURM_ARRAY_TASK_ID}]}\n",
    "FN_BED=${CHROM}.bed\n",
    "\n",
    "### set output files\n",
    "FN_CNT1=cnt_PER1.bed\n",
    "FN_CNT2=cnt_${CHROM}.bed\n",
    "\n",
    "### print start message\n",
    "echo \"Slurm Array Index: \" ${SLURM_ARRAY_TASK_ID}\n",
    "echo \"Input  file:       \" ${FD_BED}/${FN_BED}\n",
    "echo \"Output file:       \" ${FD_CNT}/$(basename ${FD_BED})/${FN_CNT1}\n",
    "echo \"Output file:       \" ${FD_CNT}/$(basename ${FD_BED})/${FN_CNT2}\n",
    "echo\n",
    "echo \"Show the first few lines of the input file\"\n",
    "echo ${FD_BED}/${FN_BED}\n",
    "head ${FD_BED}/${FN_BED}\n",
    "\n",
    "### init: create folder\n",
    "mkdir -p ${FD_CNT}/$(basename ${FD_BED})\n",
    "\n",
    "### count the fragments and arrange output to a proper bed file (chr17:PER1)\n",
    "awk -F $'\\t' '($2 >= 8148987 && $2 <= 8159379)' ${FD_BED}/${FN_BED} |\\\n",
    "    sort    |\\\n",
    "    uniq -c |\\\n",
    "    awk '{$(NF+1)=$1;$1=\"\"}1'   |\\\n",
    "    sed -e 's/^[[:space:]]*//'  |\\\n",
    "    sed -e 's/[[:space:]]/\\t/g'  \\\n",
    "    > ${FD_CNT}/$(basename ${FD_BED})/${FN_CNT1}\n",
    "\n",
    "### count the fragments and arrange output to a proper bed file (chr17 total)\n",
    "cat ${FD_BED}/${FN_BED} |\\\n",
    "    sort    |\\\n",
    "    uniq -c |\\\n",
    "    awk '{$(NF+1)=$1;$1=\"\"}1'   |\\\n",
    "    sed -e 's/^[[:space:]]*//'  |\\\n",
    "    sed -e 's/[[:space:]]/\\t/g'  \\\n",
    "    > ${FD_CNT}/$(basename ${FD_BED})/${FN_CNT2}\n",
    "\n",
    "### print end message\n",
    "echo\n",
    "echo \"Show the first few lines of the output file\"\n",
    "echo ${FD_CNT}/$(basename ${FD_BED})/${FN_CNT1}\n",
    "head ${FD_CNT}/$(basename ${FD_BED})/${FN_CNT1}\n",
    "echo\n",
    "echo \"Show the first few lines of the output file\"\n",
    "echo ${FD_CNT}/$(basename ${FD_BED})/${FN_CNT2}\n",
    "head ${FD_CNT}/$(basename ${FD_BED})/${FN_CNT2}\n",
    "\n",
    "EOF"
   ]
  },
  {
   "cell_type": "markdown",
   "metadata": {},
   "source": [
    "**Check log file**"
   ]
  },
  {
   "cell_type": "code",
   "execution_count": 10,
   "metadata": {},
   "outputs": [
    {
     "name": "stdout",
     "output_type": "stream",
     "text": [
      "Slurm Array Index:  0\n",
      "Input  file:        /data/reddylab/Kuei/out/CombEffect_STARR/data/Input//chr17.bed\n",
      "Output file:        /data/reddylab/Kuei/out/CombEffect_STARR/count/Input/cnt_PER1.bed\n",
      "Output file:        /data/reddylab/Kuei/out/CombEffect_STARR/count/Input/cnt_chr17.bed\n",
      "\n",
      "Show the first few lines of the input file\n",
      "/data/reddylab/Kuei/out/CombEffect_STARR/data/Input//chr17.bed\n",
      "chr17\t201123\t201925\n",
      "chr17\t201160\t201968\n",
      "chr17\t201202\t202074\n",
      "chr17\t201259\t202052\n",
      "chr17\t201366\t202130\n",
      "chr17\t206174\t207307\n",
      "chr17\t206269\t207286\n",
      "chr17\t206283\t207194\n",
      "chr17\t206324\t207359\n",
      "chr17\t206326\t207274\n",
      "\n",
      "Show the first few lines of the output file\n",
      "/data/reddylab/Kuei/out/CombEffect_STARR/count/Input/cnt_PER1.bed\n",
      "chr17\t8148989\t8149875\t1\n",
      "chr17\t8148991\t8149950\t1\n",
      "chr17\t8148991\t8149951\t2\n",
      "chr17\t8148992\t8149951\t1\n",
      "chr17\t8148999\t8149919\t1\n",
      "chr17\t8149006\t8149923\t1\n",
      "chr17\t8149008\t8150003\t1\n",
      "chr17\t8149008\t8150057\t1\n",
      "chr17\t8149012\t8150052\t1\n",
      "chr17\t8149022\t8149951\t1\n",
      "\n",
      "Show the first few lines of the output file\n",
      "/data/reddylab/Kuei/out/CombEffect_STARR/count/Input/cnt_chr17.bed\n",
      "chr17\t10000001\t10000909\t1\n",
      "chr17\t10000097\t10001138\t1\n",
      "chr17\t10000104\t10001051\t1\n",
      "chr17\t10000112\t10000955\t1\n",
      "chr17\t10000131\t10001070\t2\n",
      "chr17\t10000134\t10001169\t1\n",
      "chr17\t10000150\t10001133\t1\n",
      "chr17\t10000153\t10001218\t1\n",
      "chr17\t10000160\t10001059\t1\n",
      "chr17\t10000162\t10001116\t1\n"
     ]
    }
   ],
   "source": [
    "%%bash\n",
    "FD_LOG=/gpfs/fs1/data/reddylab/Kuei/out/CombEffect_STARR/log\n",
    "cat ${FD_LOG}/prep_count_input.0.txt"
   ]
  },
  {
   "cell_type": "markdown",
   "metadata": {},
   "source": [
    "## Count fragments for output (DMSO)"
   ]
  },
  {
   "cell_type": "markdown",
   "metadata": {},
   "source": [
    "### Test looping DMSO directories"
   ]
  },
  {
   "cell_type": "code",
   "execution_count": 6,
   "metadata": {},
   "outputs": [
    {
     "name": "stdout",
     "output_type": "stream",
     "text": [
      "TFX2_DMSO\n",
      "/data/reddylab/Kuei/out/CombEffect_STARR/data/TFX2_DMSO/\n",
      "/data/reddylab/Kuei/out/CombEffect_STARR/count/TFX2_DMSO\n",
      "TFX3_DMSO\n",
      "/data/reddylab/Kuei/out/CombEffect_STARR/data/TFX3_DMSO/\n",
      "/data/reddylab/Kuei/out/CombEffect_STARR/count/TFX3_DMSO\n",
      "TFX4_DMSO\n",
      "/data/reddylab/Kuei/out/CombEffect_STARR/data/TFX4_DMSO/\n",
      "/data/reddylab/Kuei/out/CombEffect_STARR/count/TFX4_DMSO\n",
      "TFX5_DMSO\n",
      "/data/reddylab/Kuei/out/CombEffect_STARR/data/TFX5_DMSO/\n",
      "/data/reddylab/Kuei/out/CombEffect_STARR/count/TFX5_DMSO\n",
      "TFX_DMSO\n",
      "/data/reddylab/Kuei/out/CombEffect_STARR/data/TFX_DMSO/\n",
      "/data/reddylab/Kuei/out/CombEffect_STARR/count/TFX_DMSO\n"
     ]
    }
   ],
   "source": [
    "%%bash\n",
    "FD_WRK=/data/reddylab/Kuei/out/CombEffect_STARR\n",
    "FD_BEDS=($(ls -d ${FD_WRK}/data/TFX*_DMSO/))\n",
    "FD_CNT=${FD_WRK}/count\n",
    "for FD_BED in ${FD_BEDS[@]}; do\n",
    "    echo $(basename ${FD_BED})\n",
    "    echo ${FD_BED}\n",
    "    echo ${FD_CNT}/$(basename ${FD_BED})\n",
    "done"
   ]
  },
  {
   "cell_type": "markdown",
   "metadata": {},
   "source": [
    "### Get counts for each DMSO chr17"
   ]
  },
  {
   "cell_type": "code",
   "execution_count": 7,
   "metadata": {},
   "outputs": [
    {
     "name": "stdout",
     "output_type": "stream",
     "text": [
      "Submitted batch job 25434963\n"
     ]
    }
   ],
   "source": [
    "%%bash\n",
    "### set environment\n",
    "module load perl\n",
    "module load gcc\n",
    "source /data/reddylab/software/miniconda2/bin/activate alex_dev\n",
    "export PATH=/data/reddylab/software/homer/bin/:$PATH\n",
    "\n",
    "### set log file directory\n",
    "FD_LOG=/gpfs/fs1/data/reddylab/Kuei/out/CombEffect_STARR/log\n",
    "\n",
    "### run script using sbatch\n",
    "sbatch -pnew,all \\\n",
    "    --array=0-4 \\\n",
    "    --mem 8G \\\n",
    "    -o ${FD_LOG}/prep_count_output_dmso.%a.txt \\\n",
    "    <<'EOF'\n",
    "#!/bin/bash\n",
    "### set directories and global parameters\n",
    "FD_WRK=/data/reddylab/Kuei/out/CombEffect_STARR\n",
    "FD_BEDS=($(ls -d ${FD_WRK}/data/TFX*_DMSO/))\n",
    "FD_CNT=${FD_WRK}/count\n",
    "CHROM=chr17\n",
    "\n",
    "### set input files\n",
    "FD_BED=${FD_BEDS[${SLURM_ARRAY_TASK_ID}]}\n",
    "FN_BED=${CHROM}.bed\n",
    "\n",
    "### set output files\n",
    "FN_CNT1=cnt_PER1.bed\n",
    "FN_CNT2=cnt_${CHROM}.bed\n",
    "\n",
    "### print start message\n",
    "echo \"Slurm Array Index: \" ${SLURM_ARRAY_TASK_ID}\n",
    "echo \"Input  file:       \" ${FD_BED}/${FN_BED}\n",
    "echo \"Output file:       \" ${FD_CNT}/$(basename ${FD_BED})/${FN_CNT1}\n",
    "echo \"Output file:       \" ${FD_CNT}/$(basename ${FD_BED})/${FN_CNT2}\n",
    "echo\n",
    "echo \"Show the first few lines of the input file\"\n",
    "echo ${FD_BED}/${FN_BED}\n",
    "head ${FD_BED}/${FN_BED}\n",
    "\n",
    "### init: create folder\n",
    "mkdir -p ${FD_CNT}/$(basename ${FD_BED})\n",
    "\n",
    "### count the fragments and arrange output to a proper bed file (chr17:PER1)\n",
    "awk -F $'\\t' '($2 >= 8148987 && $2 <= 8159379)' ${FD_BED}/${FN_BED} |\\\n",
    "    sort    |\\\n",
    "    uniq -c |\\\n",
    "    awk '{$(NF+1)=$1;$1=\"\"}1'   |\\\n",
    "    sed -e 's/^[[:space:]]*//'  |\\\n",
    "    sed -e 's/[[:space:]]/\\t/g'  \\\n",
    "    > ${FD_CNT}/$(basename ${FD_BED})/${FN_CNT1}\n",
    "\n",
    "### count the fragments and arrange output to a proper bed file (chr17 total)\n",
    "cat ${FD_BED}/${FN_BED} |\\\n",
    "    sort    |\\\n",
    "    uniq -c |\\\n",
    "    awk '{$(NF+1)=$1;$1=\"\"}1'   |\\\n",
    "    sed -e 's/^[[:space:]]*//'  |\\\n",
    "    sed -e 's/[[:space:]]/\\t/g'  \\\n",
    "    > ${FD_CNT}/$(basename ${FD_BED})/${FN_CNT2}\n",
    "\n",
    "### print end message\n",
    "echo\n",
    "echo \"Show the first few lines of the output file\"\n",
    "echo ${FD_CNT}/$(basename ${FD_BED})/${FN_CNT1}\n",
    "head ${FD_CNT}/$(basename ${FD_BED})/${FN_CNT1}\n",
    "echo\n",
    "echo \"Show the first few lines of the output file\"\n",
    "echo ${FD_CNT}/$(basename ${FD_BED})/${FN_CNT2}\n",
    "head ${FD_CNT}/$(basename ${FD_BED})/${FN_CNT2}\n",
    "\n",
    "EOF"
   ]
  },
  {
   "cell_type": "markdown",
   "metadata": {},
   "source": [
    "**Check log file**"
   ]
  },
  {
   "cell_type": "code",
   "execution_count": 11,
   "metadata": {},
   "outputs": [
    {
     "name": "stdout",
     "output_type": "stream",
     "text": [
      "Slurm Array Index:  4\n",
      "Input  file:        /data/reddylab/Kuei/out/CombEffect_STARR/data/TFX_DMSO//chr17.bed\n",
      "Output file:        /data/reddylab/Kuei/out/CombEffect_STARR/count/TFX_DMSO/cnt_PER1.bed\n",
      "Output file:        /data/reddylab/Kuei/out/CombEffect_STARR/count/TFX_DMSO/cnt_chr17.bed\n",
      "\n",
      "Show the first few lines of the input file\n",
      "/data/reddylab/Kuei/out/CombEffect_STARR/data/TFX_DMSO//chr17.bed\n",
      "chr17\t87067\t87989\n",
      "chr17\t158043\t159067\n",
      "chr17\t158043\t159066\n",
      "chr17\t159137\t160020\n",
      "chr17\t170572\t172531\n",
      "chr17\t172392\t173515\n",
      "chr17\t172393\t173515\n",
      "chr17\t172396\t173514\n",
      "chr17\t197679\t198597\n",
      "chr17\t197681\t198597\n",
      "\n",
      "Show the first few lines of the output file\n",
      "/data/reddylab/Kuei/out/CombEffect_STARR/count/TFX_DMSO/cnt_PER1.bed\n",
      "chr17\t8149037\t8150068\t1\n",
      "chr17\t8149037\t8150069\t1\n",
      "chr17\t8149037\t8150070\t1\n",
      "chr17\t8149037\t8150071\t1\n",
      "chr17\t8149038\t8150070\t1\n",
      "chr17\t8149038\t8150071\t1\n",
      "chr17\t8149072\t8150073\t1\n",
      "chr17\t8149072\t8150075\t1\n",
      "chr17\t8149073\t8150075\t1\n",
      "chr17\t8149121\t8150080\t2\n",
      "\n",
      "Show the first few lines of the output file\n",
      "/data/reddylab/Kuei/out/CombEffect_STARR/count/TFX_DMSO/cnt_chr17.bed\n",
      "chr17\t10000013\t10001044\t1\n",
      "chr17\t10000013\t10001045\t1\n",
      "chr17\t10000026\t10001091\t1\n",
      "chr17\t10000120\t10001029\t1\n",
      "chr17\t10000120\t10001031\t1\n",
      "chr17\t10000120\t10001032\t1\n",
      "chr17\t10000120\t10001033\t2\n",
      "chr17\t10000122\t10001032\t1\n",
      "chr17\t10000122\t10001033\t1\n",
      "chr17\t10000160\t10001055\t1\n"
     ]
    }
   ],
   "source": [
    "%%bash\n",
    "FD_LOG=/gpfs/fs1/data/reddylab/Kuei/out/CombEffect_STARR/log\n",
    "cat ${FD_LOG}/prep_count_output_dmso.4.txt"
   ]
  },
  {
   "cell_type": "markdown",
   "metadata": {},
   "source": [
    "## Count fragments for output (Dex)"
   ]
  },
  {
   "cell_type": "markdown",
   "metadata": {},
   "source": [
    "### Test looping Dex directories"
   ]
  },
  {
   "cell_type": "code",
   "execution_count": 8,
   "metadata": {},
   "outputs": [
    {
     "name": "stdout",
     "output_type": "stream",
     "text": [
      "TFX2_Dex\n",
      "/data/reddylab/Kuei/out/CombEffect_STARR/data/TFX2_Dex/\n",
      "/data/reddylab/Kuei/out/CombEffect_STARR/count/TFX2_Dex\n",
      "TFX3_Dex\n",
      "/data/reddylab/Kuei/out/CombEffect_STARR/data/TFX3_Dex/\n",
      "/data/reddylab/Kuei/out/CombEffect_STARR/count/TFX3_Dex\n",
      "TFX4_Dex\n",
      "/data/reddylab/Kuei/out/CombEffect_STARR/data/TFX4_Dex/\n",
      "/data/reddylab/Kuei/out/CombEffect_STARR/count/TFX4_Dex\n",
      "TFX5_Dex\n",
      "/data/reddylab/Kuei/out/CombEffect_STARR/data/TFX5_Dex/\n",
      "/data/reddylab/Kuei/out/CombEffect_STARR/count/TFX5_Dex\n",
      "TFX_Dex\n",
      "/data/reddylab/Kuei/out/CombEffect_STARR/data/TFX_Dex/\n",
      "/data/reddylab/Kuei/out/CombEffect_STARR/count/TFX_Dex\n"
     ]
    }
   ],
   "source": [
    "%%bash\n",
    "FD_WRK=/data/reddylab/Kuei/out/CombEffect_STARR\n",
    "FD_BEDS=($(ls -d ${FD_WRK}/data/TFX*_Dex/))\n",
    "FD_CNT=${FD_WRK}/count\n",
    "for FD_BED in ${FD_BEDS[@]}; do\n",
    "    echo $(basename ${FD_BED})\n",
    "    echo ${FD_BED}\n",
    "    echo ${FD_CNT}/$(basename ${FD_BED})\n",
    "done"
   ]
  },
  {
   "cell_type": "markdown",
   "metadata": {},
   "source": [
    "### Get counts for each Dex chr17"
   ]
  },
  {
   "cell_type": "code",
   "execution_count": 9,
   "metadata": {},
   "outputs": [
    {
     "name": "stdout",
     "output_type": "stream",
     "text": [
      "Submitted batch job 25434968\n"
     ]
    }
   ],
   "source": [
    "%%bash\n",
    "### set environment\n",
    "module load perl\n",
    "module load gcc\n",
    "source /data/reddylab/software/miniconda2/bin/activate alex_dev\n",
    "export PATH=/data/reddylab/software/homer/bin/:$PATH\n",
    "\n",
    "### set log file directory\n",
    "FD_LOG=/gpfs/fs1/data/reddylab/Kuei/out/CombEffect_STARR/log\n",
    "\n",
    "### run script using sbatch\n",
    "sbatch -pnew,all \\\n",
    "    --array=0-4 \\\n",
    "    --mem 8G \\\n",
    "    -o ${FD_LOG}/prep_count_output_dex.%a.txt \\\n",
    "    <<'EOF'\n",
    "#!/bin/bash\n",
    "### set directories and global parameters\n",
    "FD_WRK=/data/reddylab/Kuei/out/CombEffect_STARR\n",
    "FD_BEDS=($(ls -d ${FD_WRK}/data/TFX*_Dex/))\n",
    "FD_CNT=${FD_WRK}/count\n",
    "CHROM=chr17\n",
    "\n",
    "### set input files\n",
    "FD_BED=${FD_BEDS[${SLURM_ARRAY_TASK_ID}]}\n",
    "FN_BED=${CHROM}.bed\n",
    "\n",
    "### set output files\n",
    "FN_CNT1=cnt_PER1.bed\n",
    "FN_CNT2=cnt_${CHROM}.bed\n",
    "\n",
    "### print start message\n",
    "echo \"Slurm Array Index: \" ${SLURM_ARRAY_TASK_ID}\n",
    "echo \"Input  file:       \" ${FD_BED}/${FN_BED}\n",
    "echo \"Output file:       \" ${FD_CNT}/$(basename ${FD_BED})/${FN_CNT1}\n",
    "echo \"Output file:       \" ${FD_CNT}/$(basename ${FD_BED})/${FN_CNT2}\n",
    "echo\n",
    "echo \"Show the first few lines of the input file\"\n",
    "echo ${FD_BED}/${FN_BED}\n",
    "head ${FD_BED}/${FN_BED}\n",
    "\n",
    "### init: create folder\n",
    "mkdir -p ${FD_CNT}/$(basename ${FD_BED})\n",
    "\n",
    "### count the fragments and arrange output to a proper bed file (chr17:PER1)\n",
    "awk -F $'\\t' '($2 >= 8148987 && $2 <= 8159379)' ${FD_BED}/${FN_BED} |\\\n",
    "    sort    |\\\n",
    "    uniq -c |\\\n",
    "    awk '{$(NF+1)=$1;$1=\"\"}1'   |\\\n",
    "    sed -e 's/^[[:space:]]*//'  |\\\n",
    "    sed -e 's/[[:space:]]/\\t/g'  \\\n",
    "    > ${FD_CNT}/$(basename ${FD_BED})/${FN_CNT1}\n",
    "\n",
    "### count the fragments and arrange output to a proper bed file (chr17 total)\n",
    "cat ${FD_BED}/${FN_BED} |\\\n",
    "    sort    |\\\n",
    "    uniq -c |\\\n",
    "    awk '{$(NF+1)=$1;$1=\"\"}1'   |\\\n",
    "    sed -e 's/^[[:space:]]*//'  |\\\n",
    "    sed -e 's/[[:space:]]/\\t/g'  \\\n",
    "    > ${FD_CNT}/$(basename ${FD_BED})/${FN_CNT2}\n",
    "\n",
    "### print end message\n",
    "echo\n",
    "echo \"Show the first few lines of the output file\"\n",
    "echo ${FD_CNT}/$(basename ${FD_BED})/${FN_CNT1}\n",
    "head ${FD_CNT}/$(basename ${FD_BED})/${FN_CNT1}\n",
    "echo\n",
    "echo \"Show the first few lines of the output file\"\n",
    "echo ${FD_CNT}/$(basename ${FD_BED})/${FN_CNT2}\n",
    "head ${FD_CNT}/$(basename ${FD_BED})/${FN_CNT2}\n",
    "\n",
    "EOF"
   ]
  },
  {
   "cell_type": "markdown",
   "metadata": {},
   "source": [
    "**Check log file**"
   ]
  },
  {
   "cell_type": "code",
   "execution_count": 12,
   "metadata": {},
   "outputs": [
    {
     "name": "stdout",
     "output_type": "stream",
     "text": [
      "Slurm Array Index:  4\n",
      "Input  file:        /data/reddylab/Kuei/out/CombEffect_STARR/data/TFX_Dex//chr17.bed\n",
      "Output file:        /data/reddylab/Kuei/out/CombEffect_STARR/count/TFX_Dex/cnt_PER1.bed\n",
      "Output file:        /data/reddylab/Kuei/out/CombEffect_STARR/count/TFX_Dex/cnt_chr17.bed\n",
      "\n",
      "Show the first few lines of the input file\n",
      "/data/reddylab/Kuei/out/CombEffect_STARR/data/TFX_Dex//chr17.bed\n",
      "chr17\t83638\t84547\n",
      "chr17\t92503\t93508\n",
      "chr17\t152590\t153715\n",
      "chr17\t159027\t160041\n",
      "chr17\t173500\t174429\n",
      "chr17\t174388\t175345\n",
      "chr17\t174388\t175346\n",
      "chr17\t197582\t198583\n",
      "chr17\t201248\t202059\n",
      "chr17\t201249\t202059\n",
      "\n",
      "Show the first few lines of the output file\n",
      "/data/reddylab/Kuei/out/CombEffect_STARR/count/TFX_Dex/cnt_PER1.bed\n",
      "chr17\t8148987\t8150011\t1\n",
      "chr17\t8148987\t8150013\t1\n",
      "chr17\t8148987\t8150014\t2\n",
      "chr17\t8148987\t8150015\t3\n",
      "chr17\t8148988\t8150014\t1\n",
      "chr17\t8148988\t8150015\t1\n",
      "chr17\t8149016\t8150080\t2\n",
      "chr17\t8149016\t8150081\t2\n",
      "chr17\t8149018\t8150117\t1\n",
      "chr17\t8149019\t8150117\t1\n",
      "\n",
      "Show the first few lines of the output file\n",
      "/data/reddylab/Kuei/out/CombEffect_STARR/count/TFX_Dex/cnt_chr17.bed\n",
      "chr17\t10000013\t10001044\t1\n",
      "chr17\t10000013\t10001045\t2\n",
      "chr17\t10000014\t10001044\t1\n",
      "chr17\t10000014\t10001045\t1\n",
      "chr17\t10000026\t10001090\t1\n",
      "chr17\t10000090\t10001098\t1\n",
      "chr17\t10000091\t10001100\t1\n",
      "chr17\t10000103\t10001181\t1\n",
      "chr17\t10000140\t10001107\t1\n",
      "chr17\t10000140\t10001110\t1\n"
     ]
    }
   ],
   "source": [
    "%%bash\n",
    "FD_LOG=/gpfs/fs1/data/reddylab/Kuei/out/CombEffect_STARR/log\n",
    "cat ${FD_LOG}/prep_count_output_dex.4.txt"
   ]
  },
  {
   "cell_type": "code",
   "execution_count": null,
   "metadata": {},
   "outputs": [],
   "source": []
  }
 ],
 "metadata": {
  "kernelspec": {
   "display_name": "Python 3",
   "language": "python",
   "name": "python3"
  },
  "language_info": {
   "codemirror_mode": {
    "name": "ipython",
    "version": 3
   },
   "file_extension": ".py",
   "mimetype": "text/x-python",
   "name": "python",
   "nbconvert_exporter": "python",
   "pygments_lexer": "ipython3",
   "version": "3.7.3"
  }
 },
 "nbformat": 4,
 "nbformat_minor": 4
}
