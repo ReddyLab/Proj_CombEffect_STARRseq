{
 "cells": [
  {
   "cell_type": "code",
   "execution_count": 2,
   "metadata": {},
   "outputs": [],
   "source": [
    "import numpy as np\n",
    "import itertools as it\n",
    "import os"
   ]
  },
  {
   "cell_type": "code",
   "execution_count": 3,
   "metadata": {},
   "outputs": [],
   "source": [
    "FD_DAT=\"/data/reddylab/Kuei/out/CombEffect_STARR/data/TFX_Dex\"\n",
    "fpath = os.path.join(FD_DAT, \"seg_chr17.bed\")"
   ]
  },
  {
   "cell_type": "code",
   "execution_count": 9,
   "metadata": {},
   "outputs": [
    {
     "name": "stdout",
     "output_type": "stream",
     "text": [
      "0 ['chr17', '8148987', '8148988']\n",
      "1 ['chr17', '8148988', '8149016']\n",
      "2 ['chr17', '8149016', '8149018']\n",
      "3 ['chr17', '8149018', '8149019']\n",
      "4 ['chr17', '8149019', '8149023']\n",
      "5 ['chr17', '8149023', '8149029']\n",
      "6 ['chr17', '8149029', '8149050']\n",
      "7 ['chr17', '8149050', '8149051']\n",
      "8 ['chr17', '8149051', '8149062']\n",
      "9 ['chr17', '8149062', '8149063']\n"
     ]
    }
   ],
   "source": [
    "with open(fpath, \"r\") as fp:\n",
    "    gen = it.islice(fp, 10)\n",
    "    for idx, x in enumerate(gen):\n",
    "        print(idx, x.strip().split(\"\\t\"))"
   ]
  },
  {
   "cell_type": "code",
   "execution_count": 11,
   "metadata": {},
   "outputs": [
    {
     "name": "stdout",
     "output_type": "stream",
     "text": [
      "['chr17', '8148987', '8148988']\n",
      "['chr17', '8149016', '8149018']\n",
      "['chr17', '8149019', '8149023']\n",
      "['chr17', '8149029', '8149050']\n",
      "['chr17', '8149051', '8149062']\n"
     ]
    }
   ],
   "source": [
    "n_gap = 2\n",
    "n_seg = 5\n",
    "with open(fpath, \"r\") as fp:\n",
    "    starts = it.islice(fp, 0, 10, n_gap)\n",
    "    for x in starts:\n",
    "        print(x.strip().split(\"\\t\"))"
   ]
  },
  {
   "cell_type": "code",
   "execution_count": 13,
   "metadata": {},
   "outputs": [
    {
     "name": "stdout",
     "output_type": "stream",
     "text": [
      "['chr17', '8149023', '8149029']\n",
      "['chr17', '8149050', '8149051']\n",
      "['chr17', '8149062', '8149063']\n"
     ]
    }
   ],
   "source": [
    "n_gap = 2\n",
    "n_seg = 5\n",
    "with open(fpath, \"r\") as fp:\n",
    "    ends   = it.islice(fp, n_seg, 10, n_gap)\n",
    "    for x in ends:\n",
    "        print(x.strip().split(\"\\t\"))"
   ]
  },
  {
   "cell_type": "code",
   "execution_count": 8,
   "metadata": {},
   "outputs": [
    {
     "name": "stdout",
     "output_type": "stream",
     "text": [
      "['chr17', '8148987', '8148988']\n",
      "['chr17', '8149029', '8149050']\n",
      "+++++++++++++++++++\n",
      "['chr17', '8149051', '8149062']\n",
      "['chr17', '8149063', '8149072']\n",
      "+++++++++++++++++++\n",
      "['chr17', '8149101', '8149102']\n",
      "['chr17', '8149121', '8149132']\n",
      "+++++++++++++++++++\n"
     ]
    }
   ],
   "source": [
    "n_gap = 2\n",
    "n_seg = 5\n",
    "with open(fpath, \"r\") as fp:\n",
    "    starts = it.islice(fp, 0, 10, n_gap)\n",
    "    ends   = it.islice(fp, n_seg, 10, n_gap)\n",
    "    for x, y in zip(starts, ends):\n",
    "        print(x.strip().split(\"\\t\"))\n",
    "        print(y.strip().split(\"\\t\"))\n",
    "        print(\"+++++++++++++++++++\")"
   ]
  },
  {
   "cell_type": "code",
   "execution_count": 18,
   "metadata": {},
   "outputs": [
    {
     "name": "stdout",
     "output_type": "stream",
     "text": [
      "['chr17', '8148987', '8148988']\n",
      "['chr17', '8149023', '8149029']\n",
      "+++++++++++++++++++\n",
      "['chr17', '8149016', '8149018']\n",
      "['chr17', '8149050', '8149051']\n",
      "+++++++++++++++++++\n",
      "['chr17', '8149019', '8149023']\n",
      "['chr17', '8149062', '8149063']\n",
      "+++++++++++++++++++\n"
     ]
    }
   ],
   "source": [
    "n_gap = 2\n",
    "n_seg = 5\n",
    "\n",
    "with open(fpath, \"r\") as f1, open(fpath, \"r\") as f2:\n",
    "    starts = it.islice(f1, 0, 10, n_gap)\n",
    "    ends   = it.islice(f2, n_seg, 10, n_gap)\n",
    "\n",
    "    for x, y in zip(starts, ends):\n",
    "        print(x.strip().split(\"\\t\"))\n",
    "        print(y.strip().split(\"\\t\"))\n",
    "        print(\"+++++++++++++++++++\")"
   ]
  },
  {
   "cell_type": "code",
   "execution_count": 22,
   "metadata": {},
   "outputs": [
    {
     "name": "stdout",
     "output_type": "stream",
     "text": [
      "chr17\t8148987\t8149029\n",
      "+++++++++++++++++++\n",
      "chr17\t8149016\t8149051\n",
      "+++++++++++++++++++\n",
      "chr17\t8149019\t8149063\n",
      "+++++++++++++++++++\n"
     ]
    }
   ],
   "source": [
    "n_gap = 2\n",
    "n_seg = 5\n",
    "\n",
    "with open(fpath, \"r\") as f1, open(fpath, \"r\") as f2, open(\"test.bed\", \"w\") as fout:\n",
    "    starts = it.islice(f1, 0, 10, n_gap)\n",
    "    ends   = it.islice(f2, n_seg, 10, n_gap)\n",
    "\n",
    "    for x, y in zip(starts, ends):\n",
    "        frag1 = x.strip().split(\"\\t\")\n",
    "        frag2 = y.strip().split(\"\\t\")\n",
    "        frag_out = [\"chr17\", frag1[1], frag2[2]]\n",
    "        frag_out = \"\\t\".join(frag_out)\n",
    "        print(frag_out)\n",
    "        fout.write\n",
    "        print(\"+++++++++++++++++++\")"
   ]
  },
  {
   "cell_type": "code",
   "execution_count": null,
   "metadata": {},
   "outputs": [],
   "source": []
  }
 ],
 "metadata": {
  "kernelspec": {
   "display_name": "Python 3",
   "language": "python",
   "name": "python3"
  },
  "language_info": {
   "codemirror_mode": {
    "name": "ipython",
    "version": 3
   },
   "file_extension": ".py",
   "mimetype": "text/x-python",
   "name": "python",
   "nbconvert_exporter": "python",
   "pygments_lexer": "ipython3",
   "version": "3.6.12"
  }
 },
 "nbformat": 4,
 "nbformat_minor": 4
}
