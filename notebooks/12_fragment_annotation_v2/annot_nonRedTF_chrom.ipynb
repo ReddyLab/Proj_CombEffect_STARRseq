{
 "cells": [
  {
   "cell_type": "markdown",
   "id": "a303b5a8-fd12-4ca0-95ad-87811b2f21b0",
   "metadata": {},
   "source": [
    "# Annotate fragment using nonRedundant TF archetype\n",
    "\n",
    "**Set environment**"
   ]
  },
  {
   "cell_type": "code",
   "execution_count": 1,
   "id": "0ef9ace1-3064-42a5-9bf1-ddf7aeb97d5e",
   "metadata": {},
   "outputs": [
    {
     "name": "stdout",
     "output_type": "stream",
     "text": [
      "You are on Duke Server: HARDAC\n",
      "BASE DIRECTORY:     /gpfs/fs1/data/reddylab/Kuei\n",
      "PATH OF SOURCE:     /gpfs/fs1/data/reddylab/Kuei/source\n",
      "PATH OF EXECUTABLE: /gpfs/fs1/data/reddylab/Kuei/exe\n",
      "PATH OF ANNOTATION: /gpfs/fs1/data/reddylab/Kuei/annotation\n",
      "PATH OF PROJECT:    /gpfs/fs1/data/reddylab/Kuei/GitRepo/Proj_CombEffect_STARRseq/notebooks\n",
      "PATH OF RESULTS:    /gpfs/fs1/data/reddylab/Kuei/out/proj_combeffect\n",
      "\n"
     ]
    }
   ],
   "source": [
    "source ../config_duke.sh -v"
   ]
  },
  {
   "cell_type": "markdown",
   "id": "bdb80ba8-c2ef-47f6-b361-73bddbd5ed24",
   "metadata": {},
   "source": [
    "**Check data**"
   ]
  },
  {
   "cell_type": "code",
   "execution_count": 5,
   "id": "42bb836e-bda4-4cae-b6ef-ff32d93049c5",
   "metadata": {},
   "outputs": [
    {
     "name": "stdout",
     "output_type": "stream",
     "text": [
      "SAM:Input1; BED: /gpfs/fs1/data/reddylab/Kuei/out/proj_combeffect/count_fragment/Input1/\n",
      "SAM:Input1_20x; BED: /gpfs/fs1/data/reddylab/Kuei/out/proj_combeffect/count_fragment/Input1_20x/\n",
      "SAM:Input2; BED: /gpfs/fs1/data/reddylab/Kuei/out/proj_combeffect/count_fragment/Input2/\n",
      "SAM:Input2_20x; BED: /gpfs/fs1/data/reddylab/Kuei/out/proj_combeffect/count_fragment/Input2_20x/\n",
      "SAM:Input3; BED: /gpfs/fs1/data/reddylab/Kuei/out/proj_combeffect/count_fragment/Input3/\n",
      "SAM:Input3_20x; BED: /gpfs/fs1/data/reddylab/Kuei/out/proj_combeffect/count_fragment/Input3_20x/\n",
      "SAM:Input4; BED: /gpfs/fs1/data/reddylab/Kuei/out/proj_combeffect/count_fragment/Input4/\n",
      "SAM:Input4_20x; BED: /gpfs/fs1/data/reddylab/Kuei/out/proj_combeffect/count_fragment/Input4_20x/\n",
      "SAM:Input5; BED: /gpfs/fs1/data/reddylab/Kuei/out/proj_combeffect/count_fragment/Input5/\n",
      "SAM:Input5_20x; BED: /gpfs/fs1/data/reddylab/Kuei/out/proj_combeffect/count_fragment/Input5_20x/\n",
      "SAM:TFX2_Dex; BED: /gpfs/fs1/data/reddylab/Kuei/out/proj_combeffect/count_fragment/TFX2_Dex/\n",
      "SAM:TFX2_DMSO; BED: /gpfs/fs1/data/reddylab/Kuei/out/proj_combeffect/count_fragment/TFX2_DMSO/\n",
      "SAM:TFX3_Dex; BED: /gpfs/fs1/data/reddylab/Kuei/out/proj_combeffect/count_fragment/TFX3_Dex/\n",
      "SAM:TFX3_DMSO; BED: /gpfs/fs1/data/reddylab/Kuei/out/proj_combeffect/count_fragment/TFX3_DMSO/\n",
      "SAM:TFX4_Dex; BED: /gpfs/fs1/data/reddylab/Kuei/out/proj_combeffect/count_fragment/TFX4_Dex/\n",
      "SAM:TFX4_DMSO; BED: /gpfs/fs1/data/reddylab/Kuei/out/proj_combeffect/count_fragment/TFX4_DMSO/\n",
      "SAM:TFX5_Dex; BED: /gpfs/fs1/data/reddylab/Kuei/out/proj_combeffect/count_fragment/TFX5_Dex/\n",
      "SAM:TFX5_DMSO; BED: /gpfs/fs1/data/reddylab/Kuei/out/proj_combeffect/count_fragment/TFX5_DMSO/\n"
     ]
    }
   ],
   "source": [
    "### Loop folders\n",
    "FD_BEDS=($(ls -d ${FD_RES}/count_fragment/{Input?,Input?_20x,TFX?_DMSO,TFX?_Dex}/))\n",
    "for FD_BED in ${FD_BEDS[@]}; do\n",
    "    SAMPLE=$(basename ${FD_BED})\n",
    "    echo \"SAM:${SAMPLE}; BED: ${FD_BED}\"\n",
    "done"
   ]
  },
  {
   "cell_type": "markdown",
   "id": "ee8cdf51-d4d2-421a-b89b-b0b4463f8dbe",
   "metadata": {},
   "source": [
    "**RUN**"
   ]
  },
  {
   "cell_type": "code",
   "execution_count": 4,
   "id": "a817d178-81b6-477c-8d5f-3acf87967383",
   "metadata": {},
   "outputs": [
    {
     "name": "stdout",
     "output_type": "stream",
     "text": [
      "\u001b[0m\u001b[38;5;27m/gpfs/fs1/data/reddylab/Kuei/out/proj_combeffect/log\u001b[0m\n",
      "all\n"
     ]
    }
   ],
   "source": [
    "ls -d ${FD_LOG}\n",
    "echo ${NODE}"
   ]
  },
  {
   "cell_type": "code",
   "execution_count": 8,
   "id": "9f39d348-187f-4ac2-90e0-ff070a2c2ff8",
   "metadata": {},
   "outputs": [
    {
     "name": "stdout",
     "output_type": "stream",
     "text": [
      "Submitted batch job 27381192\n"
     ]
    }
   ],
   "source": [
    "### set env\n",
    "source ../config_duke.sh\n",
    "source ../config_load_module_bedtools.sh\n",
    "\n",
    "sbatch -p ${NODE} \\\n",
    "    --array 0-23 \\\n",
    "    --mem 20G \\\n",
    "    -o ${FD_LOG}/annotate_fragment_chrom.%a.txt \\\n",
    "    <<'EOF'\n",
    "#!/bin/bash\n",
    "### set directories & global variables\n",
    "source ../config_duke.sh\n",
    "CHROMS=($(seq 1 22) X Y)\n",
    "CHROM=chr${CHROMS[${SLURM_ARRAY_TASK_ID}]}\n",
    "TARGET=${CHROM}\n",
    "\n",
    "### set input and output\n",
    "FD_BEDS=($(ls -d ${FD_RES}/count_fragment/{Input?,Input?_20x,TFX?_DMSO,TFX?_Dex}/))\n",
    "FN_BED=${TARGET}.bed.gz\n",
    "\n",
    "### motif annotation\n",
    "FD_MTF=${FD_ANN}/motif_cluster_jvierstra/hg38_archetype_motifs_v1\n",
    "FN_MTF=${CHROM}_rm_mouse_merge.bed.gz\n",
    "\n",
    "### print start message\n",
    "timer_start=`date +%s`\n",
    "echo \"Slurm Array Index: \" ${SLURM_ARRAY_TASK_ID}\n",
    "echo \"Time Stamp:        \" $(date +\"%m-%d-%y+%T\")\n",
    "echo\n",
    "\n",
    "### loop through each sample and count each fragment of a chromosome\n",
    "echo \"RUN: loop through samples; annotate fragment\"\n",
    "\n",
    "for FD_BED in ${FD_BEDS[@]}; do\n",
    "    SAMPLE=$(basename ${FD_BED})\n",
    "    FD_OUT=${FD_RES}/annotation/${SAMPLE}\n",
    "    FN_OUT=${TARGET}.bed.gz\n",
    "    \n",
    "    ### START Message\n",
    "    echo ++++++++++++++++++++++++++++++++++++++++++++++++\n",
    "    echo \"Input  file: \" ${FD_BED}/${FN_BED}\n",
    "    echo \"Output file: \" ${FD_OUT}/${FN_OUT}\n",
    "    echo\n",
    "    echo \"Show the first few lines of the input file\"\n",
    "    echo ${FD_BED}/${FN_BED}\n",
    "    zcat ${FD_BED}/${FN_BED} | head -n 3 \n",
    "    echo\n",
    "    \n",
    "    ### init: create output folder if not exist\n",
    "    mkdir -p ${FD_OUT}\n",
    "    \n",
    "    ### annotation using intersect\n",
    "    bedtools intersect -a ${FD_BED}/${FN_BED} -b ${FD_MTF}/${FN_MTF} -wo |\\\n",
    "        gzip -c > ${FD_OUT}/${FN_OUT}\n",
    "    \n",
    "    ### END Message\n",
    "    echo \"Show the first few lines of the output file\"\n",
    "    echo ${FD_OUT}/${FN_OUT}\n",
    "    zcat ${FD_OUT}/${FN_OUT} | head -n 3\n",
    "    echo\n",
    "done\n",
    "\n",
    "### print end message\n",
    "timer=`date +%s`\n",
    "runtime=$(echo \"${timer} - ${timer_start}\" | bc -l)\n",
    "echo 'Done!'\n",
    "echo \"Run Time: $(displaytime ${runtime})\"\n",
    "\n",
    "EOF"
   ]
  },
  {
   "cell_type": "code",
   "execution_count": 9,
   "id": "9b0dfe51-870d-4ad8-a6ac-6097165f27cb",
   "metadata": {},
   "outputs": [
    {
     "name": "stdout",
     "output_type": "stream",
     "text": [
      "Slurm Array Index:  0\n",
      "Time Stamp:         10-01-21+17:55:26\n",
      "\n",
      "RUN: loop through samples; annotate fragment\n",
      "++++++++++++++++++++++++++++++++++++++++++++++++\n",
      "Input  file:  /gpfs/fs1/data/reddylab/Kuei/out/proj_combeffect/count_fragment/Input1_20x//chr1.bed.gz\n",
      "Output file:  /gpfs/fs1/data/reddylab/Kuei/out/proj_combeffect/annotation_fragment/Input1_20x/chr1.bed.gz\n",
      "\n",
      "Show the first few lines of the input file\n",
      "/gpfs/fs1/data/reddylab/Kuei/out/proj_combeffect/count_fragment/Input1_20x//chr1.bed.gz\n",
      "chr1\t13802\t14757\t1\n",
      "chr1\t13802\t14759\t2\n",
      "chr1\t13868\t14793\t2\n",
      "\n",
      "Show the first few lines of the output file\n",
      "/gpfs/fs1/data/reddylab/Kuei/out/proj_combeffect/annotation_fragment/Input1_20x/chr1.bed.gz\n",
      "chr1\t13802\t14757\t1\tchr1\t13790\t13810\tZNF335\t6.8996\t8\n",
      "chr1\t13802\t14757\t1\tchr1\t13792\t13806\tNR/3\t8.1207\t4\n",
      "chr1\t13802\t14757\t1\tchr1\t13794\t13814\tGC-tract\t6.2461\t12\n",
      "\n",
      "++++++++++++++++++++++++++++++++++++++++++++++++\n",
      "Input  file:  /gpfs/fs1/data/reddylab/Kuei/out/proj_combeffect/count_fragment/Input2_20x//chr1.bed.gz\n",
      "Output file:  /gpfs/fs1/data/reddylab/Kuei/out/proj_combeffect/annotation_fragment/Input2_20x/chr1.bed.gz\n",
      "\n",
      "Show the first few lines of the input file\n",
      "/gpfs/fs1/data/reddylab/Kuei/out/proj_combeffect/count_fragment/Input2_20x//chr1.bed.gz\n",
      "chr1\t13616\t14780\t1\n",
      "chr1\t13809\t14798\t1\n",
      "chr1\t14416\t15496\t1\n",
      "\n",
      "Show the first few lines of the output file\n",
      "/gpfs/fs1/data/reddylab/Kuei/out/proj_combeffect/annotation_fragment/Input2_20x/chr1.bed.gz\n",
      "chr1\t13616\t14780\t1\tchr1\t13610\t13617\tHIC/2\t7.8022\t1\n",
      "chr1\t13616\t14780\t1\tchr1\t13611\t13625\tRFX/1\t8.5771\t9\n",
      "chr1\t13616\t14780\t1\tchr1\t13616\t13633\tZNF708\t7.6174\t17\n",
      "\n",
      "++++++++++++++++++++++++++++++++++++++++++++++++\n",
      "Input  file:  /gpfs/fs1/data/reddylab/Kuei/out/proj_combeffect/count_fragment/Input3_20x//chr1.bed.gz\n",
      "Output file:  /gpfs/fs1/data/reddylab/Kuei/out/proj_combeffect/annotation_fragment/Input3_20x/chr1.bed.gz\n",
      "\n",
      "Show the first few lines of the input file\n",
      "/gpfs/fs1/data/reddylab/Kuei/out/proj_combeffect/count_fragment/Input3_20x//chr1.bed.gz\n",
      "chr1\t13622\t14491\t1\n",
      "chr1\t13802\t14759\t1\n",
      "chr1\t13835\t14792\t1\n",
      "\n",
      "Show the first few lines of the output file\n",
      "/gpfs/fs1/data/reddylab/Kuei/out/proj_combeffect/annotation_fragment/Input3_20x/chr1.bed.gz\n",
      "chr1\t13622\t14491\t1\tchr1\t13611\t13625\tRFX/1\t8.5771\t3\n",
      "chr1\t13622\t14491\t1\tchr1\t13616\t13633\tZNF708\t7.6174\t11\n",
      "chr1\t13622\t14491\t1\tchr1\t13626\t13651\tZNF354\t13.1557\t25\n",
      "\n",
      "++++++++++++++++++++++++++++++++++++++++++++++++\n",
      "Input  file:  /gpfs/fs1/data/reddylab/Kuei/out/proj_combeffect/count_fragment/Input4_20x//chr1.bed.gz\n",
      "Output file:  /gpfs/fs1/data/reddylab/Kuei/out/proj_combeffect/annotation_fragment/Input4_20x/chr1.bed.gz\n",
      "\n",
      "Show the first few lines of the input file\n",
      "/gpfs/fs1/data/reddylab/Kuei/out/proj_combeffect/count_fragment/Input4_20x//chr1.bed.gz\n",
      "chr1\t13622\t14491\t1\n",
      "chr1\t13655\t14504\t1\n",
      "chr1\t13767\t14799\t1\n",
      "\n",
      "Show the first few lines of the output file\n",
      "/gpfs/fs1/data/reddylab/Kuei/out/proj_combeffect/annotation_fragment/Input4_20x/chr1.bed.gz\n",
      "chr1\t13622\t14491\t1\tchr1\t13611\t13625\tRFX/1\t8.5771\t3\n",
      "chr1\t13622\t14491\t1\tchr1\t13616\t13633\tZNF708\t7.6174\t11\n",
      "chr1\t13622\t14491\t1\tchr1\t13626\t13651\tZNF354\t13.1557\t25\n",
      "\n",
      "++++++++++++++++++++++++++++++++++++++++++++++++\n",
      "Input  file:  /gpfs/fs1/data/reddylab/Kuei/out/proj_combeffect/count_fragment/Input5_20x//chr1.bed.gz\n",
      "Output file:  /gpfs/fs1/data/reddylab/Kuei/out/proj_combeffect/annotation_fragment/Input5_20x/chr1.bed.gz\n",
      "\n",
      "Show the first few lines of the input file\n",
      "/gpfs/fs1/data/reddylab/Kuei/out/proj_combeffect/count_fragment/Input5_20x//chr1.bed.gz\n",
      "chr1\t12225\t13098\t1\n",
      "chr1\t13627\t14515\t2\n",
      "chr1\t13868\t14793\t1\n",
      "\n",
      "Show the first few lines of the output file\n",
      "/gpfs/fs1/data/reddylab/Kuei/out/proj_combeffect/annotation_fragment/Input5_20x/chr1.bed.gz\n",
      "chr1\t12225\t13098\t1\tchr1\t12209\t12228\tZFN121\t4.4991\t3\n",
      "chr1\t12225\t13098\t1\tchr1\t12213\t12227\tNR/3\t7.5332\t2\n",
      "chr1\t12225\t13098\t1\tchr1\t12213\t12231\tREST/NRSF\t4.8498\t6\n",
      "\n",
      "Done!\n",
      "Run Time: 13 hours 25 minutes and 30 seconds\n"
     ]
    }
   ],
   "source": [
    "cat ${FD_LOG}/annotate_fragment_chrom_input20x.0.txt"
   ]
  },
  {
   "cell_type": "code",
   "execution_count": null,
   "id": "63ec2b8f-9c1f-414e-af99-d97f70b758d0",
   "metadata": {},
   "outputs": [],
   "source": []
  }
 ],
 "metadata": {
  "kernelspec": {
   "display_name": "Bash",
   "language": "bash",
   "name": "bash"
  },
  "language_info": {
   "codemirror_mode": "shell",
   "file_extension": ".sh",
   "mimetype": "text/x-sh",
   "name": "bash"
  }
 },
 "nbformat": 4,
 "nbformat_minor": 5
}
