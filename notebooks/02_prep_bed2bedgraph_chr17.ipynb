{
 "cells": [
  {
   "cell_type": "markdown",
   "metadata": {},
   "source": [
    "# Convert bed files into bedgraphs\n",
    "\n",
    "So that I can visualize the histogram of fragments in IGV and compare to the results"
   ]
  },
  {
   "cell_type": "markdown",
   "metadata": {},
   "source": [
    "## Reference: Bedtools genomecov"
   ]
  },
  {
   "cell_type": "markdown",
   "metadata": {},
   "source": [
    "https://bedtools.readthedocs.io/en/latest/content/tools/genomecov.html"
   ]
  },
  {
   "cell_type": "markdown",
   "metadata": {},
   "source": [
    "```\n",
    "$ cat A.bed\n",
    "chr1  10  20\n",
    "chr1  20  30\n",
    "chr2  0   500\n",
    "\n",
    "$ cat my.genome\n",
    "chr1  1000\n",
    "chr2  500\n",
    "\n",
    "$ bedtools genomecov -i A.bed -g my.genome\n",
    "chr1   0  980  1000  0.98\n",
    "chr1   1  20   1000  0.02\n",
    "chr2   1  500  500   1\n",
    "genome 0  980  1500  0.653333\n",
    "genome 1  520  1500  0.346667\n",
    "```"
   ]
  },
  {
   "cell_type": "markdown",
   "metadata": {},
   "source": [
    "## Reference: Genome"
   ]
  },
  {
   "cell_type": "markdown",
   "metadata": {},
   "source": [
    "**Reference directory**"
   ]
  },
  {
   "cell_type": "code",
   "execution_count": 1,
   "metadata": {},
   "outputs": [
    {
     "name": "stdout",
     "output_type": "stream",
     "text": [
      "Anshul_Hg19UltraHighSignalArtifactRegions.bed\n",
      "Duke_Hg19SignalRepeatArtifactRegions.bed\n",
      "generate_hg19_filter_out_bed.sh\n",
      "generate_hg38_filter_out_bed.sh\n",
      "generate_masked_ranges.py\n",
      "GRCh38_EBV.chrom.sizes.tsv\n",
      "hg19.1.bt2\n",
      "hg19.2.bt2\n",
      "hg19.3.bt2\n",
      "hg19.4.bt2\n",
      "hg19_chrom_sizes.txt\n",
      "hg19_filter_out.bed\n",
      "hg19_gaps.bed\n",
      "hg19.genome.bed\n",
      "hg19_genome_file_chr_notation.txt\n",
      "hg19_genome_file.txt\n",
      "hg19.rev.1.bt2\n",
      "hg19.rev.2.bt2\n",
      "hg38.1.bt2\n",
      "hg38.2.bt2\n",
      "hg38.3.bt2\n",
      "hg38.4.bt2\n",
      "hg38_all.genome.file\n",
      "hg38_and_extra_contigs.genome.file\n",
      "hg38_blacklist.bed\n",
      "hg38_centromeres.bed\n",
      "hg38_filter_out.bed\n",
      "hg38_gap.bed\n",
      "hg38.genome_autosomes.bed\n",
      "hg38.genome.bed\n",
      "hg38.genome.file\n",
      "hg38.rev.1.bt2\n",
      "hg38.rev.2.bt2\n",
      "human_g1k_v37.fasta\n",
      "human_g1k_v37.fasta.fai\n",
      "make_hg38_filter_out.interactive\n",
      "trimmomatic_48index.fa\n",
      "trimmomatic_MHPS.fa\n",
      "trimmomatic_UMI.fa\n",
      "wgEncodeHg19ConsensusSignalArtifactRegions.bed\n"
     ]
    }
   ],
   "source": [
    "ls /data/reddylab/gjohnson/reference_data"
   ]
  },
  {
   "cell_type": "markdown",
   "metadata": {},
   "source": [
    "**According to Graham's script this is the genome file Graham used during the alignment**"
   ]
  },
  {
   "cell_type": "code",
   "execution_count": 2,
   "metadata": {},
   "outputs": [
    {
     "name": "stdout",
     "output_type": "stream",
     "text": [
      "24 /data/reddylab/gjohnson/reference_data/hg38.genome.file\n",
      "chr1\t248956422\n",
      "chr10\t133797422\n",
      "chr11\t135086622\n",
      "chr12\t133275309\n",
      "chr13\t114364328\n",
      "chr14\t107043718\n",
      "chr15\t101991189\n",
      "chr16\t90338345\n",
      "chr17\t83257441\n",
      "chr18\t80373285\n",
      "chr19\t58617616\n",
      "chr2\t242193529\n",
      "chr20\t64444167\n",
      "chr21\t46709983\n",
      "chr22\t50818468\n",
      "chr3\t198295559\n",
      "chr4\t190214555\n",
      "chr5\t181538259\n",
      "chr6\t170805979\n",
      "chr7\t159345973\n",
      "chr8\t145138636\n",
      "chr9\t138394717\n",
      "chrX\t156040895\n",
      "chrY\t57227415\n"
     ]
    }
   ],
   "source": [
    "%%bash\n",
    "wc -l /data/reddylab/gjohnson/reference_data/hg38.genome.file\n",
    "cat   /data/reddylab/gjohnson/reference_data/hg38.genome.file"
   ]
  },
  {
   "cell_type": "markdown",
   "metadata": {},
   "source": [
    "## Test: Convert a bed file to bedgraph"
   ]
  },
  {
   "cell_type": "code",
   "execution_count": 46,
   "metadata": {},
   "outputs": [],
   "source": [
    "%%bash\n",
    "### set environment\n",
    "module load bedtools2\n",
    "FD_WRK=/data/reddylab/Kuei/out/CombEffect_STARR\n",
    "FD_REF=/data/reddylab/gjohnson/reference_data\n",
    "FN_GEN=hg38.genome.file\n",
    "\n",
    "FD_OUT=${FD_WRK}/data/Input1\n",
    "FN_DAT=chr17.bed\n",
    "FN_OUT=chr17.bedgraph\n",
    "\n",
    "bedtools genomecov -i ${FD_OUT}/${FN_DAT} -g ${FD_REF}/${FN_GEN} -bg > ${FD_OUT}/${FN_OUT}"
   ]
  },
  {
   "cell_type": "code",
   "execution_count": 48,
   "metadata": {},
   "outputs": [
    {
     "name": "stdout",
     "output_type": "stream",
     "text": [
      "chr17\t201123\t201160\t1\n",
      "chr17\t201160\t201202\t2\n",
      "chr17\t201202\t201259\t3\n",
      "chr17\t201259\t201366\t4\n",
      "chr17\t201366\t201925\t5\n",
      "chr17\t201925\t201968\t4\n",
      "chr17\t201968\t202052\t3\n",
      "chr17\t202052\t202074\t2\n",
      "chr17\t202074\t202130\t1\n",
      "chr17\t206174\t206269\t1\n"
     ]
    }
   ],
   "source": [
    "%%bash\n",
    "FD_WRK=/data/reddylab/Kuei/out/CombEffect_STARR\n",
    "FD_OUT=${FD_WRK}/data/Input1\n",
    "FN_DAT=chr17.bed\n",
    "FN_OUT=chr17.bedgraph\n",
    "\n",
    "head ${FD_OUT}/${FN_OUT}"
   ]
  },
  {
   "cell_type": "markdown",
   "metadata": {},
   "source": [
    "## Convert all Input bed files into bedgraph files"
   ]
  },
  {
   "cell_type": "markdown",
   "metadata": {},
   "source": [
    "**Test loop**"
   ]
  },
  {
   "cell_type": "code",
   "execution_count": 3,
   "metadata": {},
   "outputs": [
    {
     "name": "stdout",
     "output_type": "stream",
     "text": [
      "/data/reddylab/gjohnson/whole_genome_STARRseq/wgss3/alignment_and_processing/alignments/Input1/\n",
      "Input1\n",
      "/data/reddylab/gjohnson/whole_genome_STARRseq/wgss3/alignment_and_processing/alignments/Input2/\n",
      "Input2\n",
      "/data/reddylab/gjohnson/whole_genome_STARRseq/wgss3/alignment_and_processing/alignments/Input3/\n",
      "Input3\n",
      "/data/reddylab/gjohnson/whole_genome_STARRseq/wgss3/alignment_and_processing/alignments/Input4/\n",
      "Input4\n",
      "/data/reddylab/gjohnson/whole_genome_STARRseq/wgss3/alignment_and_processing/alignments/Input5/\n",
      "Input5\n"
     ]
    }
   ],
   "source": [
    "%%bash\n",
    "FD_ALIGN=/data/reddylab/gjohnson/whole_genome_STARRseq/wgss3/alignment_and_processing/alignments\n",
    "FD_BEDS=($(ls -d ${FD_ALIGN}/Input*/))\n",
    "for FD_BED in \"${FD_BEDS[@]}\"; do\n",
    "    echo  ${FD_BED}\n",
    "    echo \"$(basename -- $FD_BED)\"\n",
    "done"
   ]
  },
  {
   "cell_type": "code",
   "execution_count": 6,
   "metadata": {},
   "outputs": [
    {
     "name": "stdout",
     "output_type": "stream",
     "text": [
      "/data/reddylab/Kuei/out/CombEffect_STARR/data/Input1/\n",
      "Input1\n",
      "/data/reddylab/Kuei/out/CombEffect_STARR/data/Input2/\n",
      "Input2\n",
      "/data/reddylab/Kuei/out/CombEffect_STARR/data/Input3/\n",
      "Input3\n",
      "/data/reddylab/Kuei/out/CombEffect_STARR/data/Input4/\n",
      "Input4\n",
      "/data/reddylab/Kuei/out/CombEffect_STARR/data/Input5/\n",
      "Input5\n"
     ]
    }
   ],
   "source": [
    "%%bash\n",
    "FD_WRK=/data/reddylab/Kuei/out/CombEffect_STARR\n",
    "FD_BEDS=($(ls -d ${FD_WRK}/data/Input?/))\n",
    "for FD_BED in \"${FD_BEDS[@]}\"; do\n",
    "    echo  ${FD_BED}\n",
    "    echo \"$(basename -- $FD_BED)\"\n",
    "done"
   ]
  },
  {
   "cell_type": "code",
   "execution_count": 5,
   "metadata": {},
   "outputs": [
    {
     "name": "stdout",
     "output_type": "stream",
     "text": [
      "/data/reddylab/Kuei/out/CombEffect_STARR/data/Input/\n",
      "Input\n",
      "/data/reddylab/Kuei/out/CombEffect_STARR/data/Input1/\n",
      "Input1\n",
      "/data/reddylab/Kuei/out/CombEffect_STARR/data/Input2/\n",
      "Input2\n",
      "/data/reddylab/Kuei/out/CombEffect_STARR/data/Input3/\n",
      "Input3\n",
      "/data/reddylab/Kuei/out/CombEffect_STARR/data/Input4/\n",
      "Input4\n",
      "/data/reddylab/Kuei/out/CombEffect_STARR/data/Input5/\n",
      "Input5\n"
     ]
    }
   ],
   "source": [
    "%%bash\n",
    "FD_WRK=/data/reddylab/Kuei/out/CombEffect_STARR\n",
    "FD_BEDS=($(ls -d ${FD_WRK}/data/Input*/))\n",
    "for FD_BED in \"${FD_BEDS[@]}\"; do\n",
    "    echo  ${FD_BED}\n",
    "    echo \"$(basename -- $FD_BED)\"\n",
    "done"
   ]
  },
  {
   "cell_type": "markdown",
   "metadata": {},
   "source": [
    "**Bed to Bedgraphs**"
   ]
  },
  {
   "cell_type": "code",
   "execution_count": 11,
   "metadata": {},
   "outputs": [
    {
     "name": "stdout",
     "output_type": "stream",
     "text": [
      "Submitted batch job 25435792\n"
     ]
    }
   ],
   "source": [
    "%%bash\n",
    "### set environment\n",
    "module load bedtools2\n",
    "module load perl\n",
    "module load gcc\n",
    "source /data/reddylab/software/miniconda2/bin/activate alex_dev\n",
    "export PATH=/data/reddylab/software/homer/bin/:$PATH\n",
    "\n",
    "### set log file directory\n",
    "FD_LOG=/gpfs/fs1/data/reddylab/Kuei/out/CombEffect_STARR/log\n",
    "\n",
    "### run script using sbatch\n",
    "sbatch -pnew,all \\\n",
    "    --array=0-5 \\\n",
    "    --mem 8G \\\n",
    "    -o ${FD_LOG}/prep_bed2bedgraph_input_chr17.%a.txt \\\n",
    "    <<'EOF'\n",
    "#!/bin/bash\n",
    "### set directories & global variables\n",
    "FD_WRK=/data/reddylab/Kuei/out/CombEffect_STARR\n",
    "FD_REF=/data/reddylab/gjohnson/reference_data\n",
    "FN_GEN=hg38.genome.file\n",
    "CHROM=\"chr17\"\n",
    "\n",
    "### set input & output directory\n",
    "FD_BEDS=($(ls -d ${FD_WRK}/data/Input*/))\n",
    "FD_BED=${FD_BEDS[${SLURM_ARRAY_TASK_ID}]}\n",
    "FN_BED=${CHROM}.bed\n",
    "FD_BGH=${FD_WRK}/bedgraph/$(basename ${FD_BED})\n",
    "FN_BGH=${CHROM}.bedgraph\n",
    "\n",
    "### print start message\n",
    "echo \"Slurm Array Index: \" ${SLURM_ARRAY_TASK_ID}\n",
    "echo \"Input  file:       \" ${FD_BED}/${FN_BED}\n",
    "echo \"Output file:       \" ${FD_BGH}/${FN_BGH}\n",
    "echo\n",
    "echo \"Show the first few lines of the input file\"\n",
    "head ${FD_BED}/${FN_BED}\n",
    "\n",
    "### init: create folder\n",
    "mkdir -p ${FD_BGH}\n",
    "\n",
    "### convert bed file to bedgraph\n",
    "bedtools genomecov -i ${FD_BED}/${FN_BED} -g ${FD_REF}/${FN_GEN} -bg > ${FD_BGH}/${FN_BGH}\n",
    "\n",
    "### print end message\n",
    "echo\n",
    "echo \"Show the first few lines of the output file\"\n",
    "head ${FD_BGH}/${FN_BGH}\n",
    "\n",
    "EOF"
   ]
  },
  {
   "cell_type": "markdown",
   "metadata": {},
   "source": [
    "**Check results**"
   ]
  },
  {
   "cell_type": "code",
   "execution_count": 12,
   "metadata": {},
   "outputs": [
    {
     "name": "stdout",
     "output_type": "stream",
     "text": [
      "Slurm Array Index:  0\n",
      "Input  file:        /data/reddylab/Kuei/out/CombEffect_STARR/data/Input//chr17.bed\n",
      "Output file:        /data/reddylab/Kuei/out/CombEffect_STARR/bedgraph/Input/chr17.bedgraph\n",
      "\n",
      "Show the first few lines of the input file\n",
      "chr17\t201123\t201925\n",
      "chr17\t201160\t201968\n",
      "chr17\t201202\t202074\n",
      "chr17\t201259\t202052\n",
      "chr17\t201366\t202130\n",
      "chr17\t206174\t207307\n",
      "chr17\t206269\t207286\n",
      "chr17\t206283\t207194\n",
      "chr17\t206324\t207359\n",
      "chr17\t206326\t207274\n",
      "\n",
      "Show the first few lines of the output file\n",
      "chr17\t159510\t160362\t1\n",
      "chr17\t182115\t183108\t1\n",
      "chr17\t197679\t198597\t1\n",
      "chr17\t201123\t201133\t1\n",
      "chr17\t201133\t201145\t2\n",
      "chr17\t201145\t201155\t3\n",
      "chr17\t201155\t201160\t6\n",
      "chr17\t201160\t201174\t7\n",
      "chr17\t201174\t201190\t8\n",
      "chr17\t201190\t201202\t9\n"
     ]
    }
   ],
   "source": [
    "%%bash\n",
    "FD_LOG=/gpfs/fs1/data/reddylab/Kuei/out/CombEffect_STARR/log\n",
    "cat ${FD_LOG}/prep_bed2bedgraph_input_chr17.0.txt"
   ]
  },
  {
   "cell_type": "markdown",
   "metadata": {},
   "source": [
    "## Ouptut (DMSO)"
   ]
  },
  {
   "cell_type": "markdown",
   "metadata": {},
   "source": [
    "**Test loop**"
   ]
  },
  {
   "cell_type": "code",
   "execution_count": 13,
   "metadata": {},
   "outputs": [
    {
     "name": "stdout",
     "output_type": "stream",
     "text": [
      "/data/reddylab/Kuei/out/CombEffect_STARR/data/TFX2_DMSO/\n",
      "TFX2_DMSO\n",
      "/data/reddylab/Kuei/out/CombEffect_STARR/data/TFX3_DMSO/\n",
      "TFX3_DMSO\n",
      "/data/reddylab/Kuei/out/CombEffect_STARR/data/TFX4_DMSO/\n",
      "TFX4_DMSO\n",
      "/data/reddylab/Kuei/out/CombEffect_STARR/data/TFX5_DMSO/\n",
      "TFX5_DMSO\n"
     ]
    }
   ],
   "source": [
    "%%bash\n",
    "FD_WRK=/data/reddylab/Kuei/out/CombEffect_STARR\n",
    "FD_BEDS=($(ls -d ${FD_WRK}/data/TFX?_DMSO/))\n",
    "for FD_BED in \"${FD_BEDS[@]}\"; do\n",
    "    echo  ${FD_BED}\n",
    "    echo \"$(basename -- $FD_BED)\"\n",
    "done"
   ]
  },
  {
   "cell_type": "code",
   "execution_count": 14,
   "metadata": {},
   "outputs": [
    {
     "name": "stdout",
     "output_type": "stream",
     "text": [
      "/data/reddylab/Kuei/out/CombEffect_STARR/data/TFX2_DMSO/\n",
      "TFX2_DMSO\n",
      "/data/reddylab/Kuei/out/CombEffect_STARR/data/TFX3_DMSO/\n",
      "TFX3_DMSO\n",
      "/data/reddylab/Kuei/out/CombEffect_STARR/data/TFX4_DMSO/\n",
      "TFX4_DMSO\n",
      "/data/reddylab/Kuei/out/CombEffect_STARR/data/TFX5_DMSO/\n",
      "TFX5_DMSO\n",
      "/data/reddylab/Kuei/out/CombEffect_STARR/data/TFX_DMSO/\n",
      "TFX_DMSO\n"
     ]
    }
   ],
   "source": [
    "%%bash\n",
    "FD_WRK=/data/reddylab/Kuei/out/CombEffect_STARR\n",
    "FD_BEDS=($(ls -d ${FD_WRK}/data/TFX*_DMSO/))\n",
    "for FD_BED in \"${FD_BEDS[@]}\"; do\n",
    "    echo  ${FD_BED}\n",
    "    echo \"$(basename -- $FD_BED)\"\n",
    "done"
   ]
  },
  {
   "cell_type": "markdown",
   "metadata": {},
   "source": [
    "**Bed to Bedgraph**"
   ]
  },
  {
   "cell_type": "code",
   "execution_count": 15,
   "metadata": {},
   "outputs": [
    {
     "name": "stdout",
     "output_type": "stream",
     "text": [
      "Submitted batch job 25435798\n"
     ]
    }
   ],
   "source": [
    "%%bash\n",
    "### set environment\n",
    "module load bedtools2\n",
    "module load perl\n",
    "module load gcc\n",
    "source /data/reddylab/software/miniconda2/bin/activate alex_dev\n",
    "export PATH=/data/reddylab/software/homer/bin/:$PATH\n",
    "\n",
    "### set log file directory\n",
    "FD_LOG=/gpfs/fs1/data/reddylab/Kuei/out/CombEffect_STARR/log\n",
    "\n",
    "### run script using sbatch\n",
    "sbatch -pnew,all \\\n",
    "    --array=0-4 \\\n",
    "    --mem 8G \\\n",
    "    -o ${FD_LOG}/prep_bed2bedgraph_output_dmso_chr17.%a.txt \\\n",
    "    <<'EOF'\n",
    "#!/bin/bash\n",
    "### set directories & global variables\n",
    "FD_WRK=/data/reddylab/Kuei/out/CombEffect_STARR\n",
    "FD_REF=/data/reddylab/gjohnson/reference_data\n",
    "FN_GEN=hg38.genome.file\n",
    "CHROM=\"chr17\"\n",
    "\n",
    "### set input & output directory\n",
    "FD_BEDS=($(ls -d ${FD_WRK}/data/TFX*_DMSO/))\n",
    "FD_BED=${FD_BEDS[${SLURM_ARRAY_TASK_ID}]}\n",
    "FN_BED=${CHROM}.bed\n",
    "FD_BGH=${FD_WRK}/bedgraph/$(basename ${FD_BED})\n",
    "FN_BGH=${CHROM}.bedgraph\n",
    "\n",
    "### print start message\n",
    "echo \"Slurm Array Index: \" ${SLURM_ARRAY_TASK_ID}\n",
    "echo \"Input  file:       \" ${FD_BED}/${FN_BED}\n",
    "echo \"Output file:       \" ${FD_BGH}/${FN_BGH}\n",
    "echo\n",
    "echo \"Show the first few lines of the input file\"\n",
    "head ${FD_BED}/${FN_BED}\n",
    "\n",
    "### init: create folder\n",
    "mkdir -p ${FD_BGH}\n",
    "\n",
    "### convert bed file to bedgraph\n",
    "bedtools genomecov -i ${FD_BED}/${FN_BED} -g ${FD_REF}/${FN_GEN} -bg > ${FD_BGH}/${FN_BGH}\n",
    "\n",
    "### print end message\n",
    "echo\n",
    "echo \"Show the first few lines of the output file\"\n",
    "head ${FD_BGH}/${FN_BGH}\n",
    "\n",
    "EOF"
   ]
  },
  {
   "cell_type": "markdown",
   "metadata": {},
   "source": [
    "**Check results**"
   ]
  },
  {
   "cell_type": "code",
   "execution_count": 16,
   "metadata": {},
   "outputs": [
    {
     "name": "stdout",
     "output_type": "stream",
     "text": [
      "Slurm Array Index:  0\n",
      "Input  file:        /data/reddylab/Kuei/out/CombEffect_STARR/data/TFX2_DMSO//chr17.bed\n",
      "Output file:        /data/reddylab/Kuei/out/CombEffect_STARR/bedgraph/TFX2_DMSO/chr17.bedgraph\n",
      "\n",
      "Show the first few lines of the input file\n",
      "chr17\t87067\t87989\n",
      "chr17\t158043\t159067\n",
      "chr17\t158043\t159066\n",
      "chr17\t159137\t160020\n",
      "chr17\t170572\t172531\n",
      "chr17\t172392\t173515\n",
      "chr17\t172393\t173515\n",
      "chr17\t172396\t173514\n",
      "chr17\t197679\t198597\n",
      "chr17\t197681\t198597\n",
      "\n",
      "Show the first few lines of the output file\n",
      "chr17\t87067\t87989\t1\n",
      "chr17\t158043\t159066\t2\n",
      "chr17\t159066\t159067\t1\n",
      "chr17\t159137\t160020\t1\n",
      "chr17\t170572\t172392\t1\n",
      "chr17\t172392\t172393\t2\n",
      "chr17\t172393\t172396\t3\n",
      "chr17\t172396\t172531\t4\n",
      "chr17\t172531\t173514\t3\n",
      "chr17\t173514\t173515\t2\n"
     ]
    }
   ],
   "source": [
    "%%bash\n",
    "FD_LOG=/gpfs/fs1/data/reddylab/Kuei/out/CombEffect_STARR/log\n",
    "cat ${FD_LOG}/prep_bed2bedgraph_output_dmso_chr17.0.txt"
   ]
  },
  {
   "cell_type": "markdown",
   "metadata": {},
   "source": [
    "## Output (Dex)"
   ]
  },
  {
   "cell_type": "markdown",
   "metadata": {},
   "source": [
    "**Test loop**"
   ]
  },
  {
   "cell_type": "code",
   "execution_count": 17,
   "metadata": {},
   "outputs": [
    {
     "name": "stdout",
     "output_type": "stream",
     "text": [
      "/data/reddylab/Kuei/out/CombEffect_STARR/data/TFX2_Dex/\n",
      "TFX2_Dex\n",
      "/data/reddylab/Kuei/out/CombEffect_STARR/data/TFX3_Dex/\n",
      "TFX3_Dex\n",
      "/data/reddylab/Kuei/out/CombEffect_STARR/data/TFX4_Dex/\n",
      "TFX4_Dex\n",
      "/data/reddylab/Kuei/out/CombEffect_STARR/data/TFX5_Dex/\n",
      "TFX5_Dex\n"
     ]
    }
   ],
   "source": [
    "%%bash\n",
    "FD_WRK=/data/reddylab/Kuei/out/CombEffect_STARR\n",
    "FD_BEDS=($(ls -d ${FD_WRK}/data/TFX?_Dex/))\n",
    "for FD_BED in \"${FD_BEDS[@]}\"; do\n",
    "    echo  ${FD_BED}\n",
    "    echo \"$(basename -- $FD_BED)\"\n",
    "done"
   ]
  },
  {
   "cell_type": "code",
   "execution_count": 18,
   "metadata": {},
   "outputs": [
    {
     "name": "stdout",
     "output_type": "stream",
     "text": [
      "/data/reddylab/Kuei/out/CombEffect_STARR/data/TFX2_Dex/\n",
      "TFX2_Dex\n",
      "/data/reddylab/Kuei/out/CombEffect_STARR/data/TFX3_Dex/\n",
      "TFX3_Dex\n",
      "/data/reddylab/Kuei/out/CombEffect_STARR/data/TFX4_Dex/\n",
      "TFX4_Dex\n",
      "/data/reddylab/Kuei/out/CombEffect_STARR/data/TFX5_Dex/\n",
      "TFX5_Dex\n",
      "/data/reddylab/Kuei/out/CombEffect_STARR/data/TFX_Dex/\n",
      "TFX_Dex\n"
     ]
    }
   ],
   "source": [
    "%%bash\n",
    "FD_WRK=/data/reddylab/Kuei/out/CombEffect_STARR\n",
    "FD_BEDS=($(ls -d ${FD_WRK}/data/TFX*_Dex/))\n",
    "for FD_BED in \"${FD_BEDS[@]}\"; do\n",
    "    echo  ${FD_BED}\n",
    "    echo \"$(basename -- $FD_BED)\"\n",
    "done"
   ]
  },
  {
   "cell_type": "markdown",
   "metadata": {},
   "source": [
    "**Bed to Bedgraph**"
   ]
  },
  {
   "cell_type": "code",
   "execution_count": 19,
   "metadata": {},
   "outputs": [
    {
     "name": "stdout",
     "output_type": "stream",
     "text": [
      "Submitted batch job 25435803\n"
     ]
    }
   ],
   "source": [
    "%%bash\n",
    "### set environment\n",
    "module load bedtools2\n",
    "module load perl\n",
    "module load gcc\n",
    "source /data/reddylab/software/miniconda2/bin/activate alex_dev\n",
    "export PATH=/data/reddylab/software/homer/bin/:$PATH\n",
    "\n",
    "### set log file directory\n",
    "FD_LOG=/gpfs/fs1/data/reddylab/Kuei/out/CombEffect_STARR/log\n",
    "\n",
    "### run script using sbatch\n",
    "sbatch -pnew,all \\\n",
    "    --array=0-4 \\\n",
    "    --mem 8G \\\n",
    "    -o ${FD_LOG}/prep_bed2bedgraph_output_dex_chr17.%a.txt \\\n",
    "    <<'EOF'\n",
    "#!/bin/bash\n",
    "### set directories & global variables\n",
    "FD_WRK=/data/reddylab/Kuei/out/CombEffect_STARR\n",
    "FD_REF=/data/reddylab/gjohnson/reference_data\n",
    "FN_GEN=hg38.genome.file\n",
    "CHROM=\"chr17\"\n",
    "\n",
    "### set input & output directory\n",
    "FD_BEDS=($(ls -d ${FD_WRK}/data/TFX*_Dex/))\n",
    "FD_BED=${FD_BEDS[${SLURM_ARRAY_TASK_ID}]}\n",
    "FN_BED=${CHROM}.bed\n",
    "FD_BGH=${FD_WRK}/bedgraph/$(basename ${FD_BED})\n",
    "FN_BGH=${CHROM}.bedgraph\n",
    "\n",
    "### print start message\n",
    "echo \"Slurm Array Index: \" ${SLURM_ARRAY_TASK_ID}\n",
    "echo \"Input  file:       \" ${FD_BED}/${FN_BED}\n",
    "echo \"Output file:       \" ${FD_BGH}/${FN_BGH}\n",
    "echo\n",
    "echo \"Show the first few lines of the input file\"\n",
    "head ${FD_BED}/${FN_BED}\n",
    "\n",
    "### init: create folder\n",
    "mkdir -p ${FD_BGH}\n",
    "\n",
    "### convert bed file to bedgraph\n",
    "bedtools genomecov -i ${FD_BED}/${FN_BED} -g ${FD_REF}/${FN_GEN} -bg > ${FD_BGH}/${FN_BGH}\n",
    "\n",
    "### print end message\n",
    "echo\n",
    "echo \"Show the first few lines of the output file\"\n",
    "head ${FD_BGH}/${FN_BGH}\n",
    "\n",
    "EOF"
   ]
  },
  {
   "cell_type": "markdown",
   "metadata": {},
   "source": [
    "**Check results**"
   ]
  },
  {
   "cell_type": "code",
   "execution_count": 20,
   "metadata": {},
   "outputs": [
    {
     "name": "stdout",
     "output_type": "stream",
     "text": [
      "Slurm Array Index:  0\n",
      "Input  file:        /data/reddylab/Kuei/out/CombEffect_STARR/data/TFX2_Dex//chr17.bed\n",
      "Output file:        /data/reddylab/Kuei/out/CombEffect_STARR/bedgraph/TFX2_Dex/chr17.bedgraph\n",
      "\n",
      "Show the first few lines of the input file\n",
      "chr17\t83638\t84547\n",
      "chr17\t92503\t93508\n",
      "chr17\t152590\t153715\n",
      "chr17\t159027\t160041\n",
      "chr17\t173500\t174429\n",
      "chr17\t174388\t175345\n",
      "chr17\t174388\t175346\n",
      "chr17\t197582\t198583\n",
      "chr17\t201248\t202059\n",
      "chr17\t201249\t202059\n",
      "\n",
      "Show the first few lines of the output file\n",
      "chr17\t83638\t84547\t1\n",
      "chr17\t92503\t93508\t1\n",
      "chr17\t152590\t153715\t1\n",
      "chr17\t159027\t160041\t1\n",
      "chr17\t173500\t174388\t1\n",
      "chr17\t174388\t174429\t3\n",
      "chr17\t174429\t175345\t2\n",
      "chr17\t175345\t175346\t1\n",
      "chr17\t197582\t198583\t1\n",
      "chr17\t201248\t201249\t1\n"
     ]
    }
   ],
   "source": [
    "%%bash\n",
    "FD_LOG=/gpfs/fs1/data/reddylab/Kuei/out/CombEffect_STARR/log\n",
    "cat ${FD_LOG}/prep_bed2bedgraph_output_dex_chr17.0.txt"
   ]
  },
  {
   "cell_type": "code",
   "execution_count": 21,
   "metadata": {},
   "outputs": [
    {
     "name": "stdout",
     "output_type": "stream",
     "text": [
      "\u001b[0m\u001b[01;34mInput\u001b[0m/\n",
      "\u001b[01;34mInput1\u001b[0m/\n",
      "\u001b[01;34mInput2\u001b[0m/\n",
      "\u001b[01;34mInput3\u001b[0m/\n",
      "\u001b[01;34mInput4\u001b[0m/\n",
      "\u001b[01;34mInput5\u001b[0m/\n",
      "\u001b[01;34mTFX2_Dex\u001b[0m/\n",
      "\u001b[01;34mTFX2_DMSO\u001b[0m/\n",
      "\u001b[01;34mTFX3_Dex\u001b[0m/\n",
      "\u001b[01;34mTFX3_DMSO\u001b[0m/\n",
      "\u001b[01;34mTFX4_Dex\u001b[0m/\n",
      "\u001b[01;34mTFX4_DMSO\u001b[0m/\n",
      "\u001b[01;34mTFX5_Dex\u001b[0m/\n",
      "\u001b[01;34mTFX5_DMSO\u001b[0m/\n",
      "\u001b[01;34mTFX_Dex\u001b[0m/\n",
      "\u001b[01;34mTFX_DMSO\u001b[0m/\n",
      "\u001b[m"
     ]
    }
   ],
   "source": [
    "ls -1 /data/reddylab/Kuei/out/CombEffect_STARR/bedgraph"
   ]
  },
  {
   "cell_type": "code",
   "execution_count": 25,
   "metadata": {},
   "outputs": [
    {
     "name": "stdout",
     "output_type": "stream",
     "text": [
      "/data/reddylab/Kuei/out/CombEffect_STARR/bedgraph/Input1/chr17.bedgraph\n",
      "/data/reddylab/Kuei/out/CombEffect_STARR/bedgraph/Input2/chr17.bedgraph\n",
      "/data/reddylab/Kuei/out/CombEffect_STARR/bedgraph/Input3/chr17.bedgraph\n",
      "/data/reddylab/Kuei/out/CombEffect_STARR/bedgraph/Input4/chr17.bedgraph\n",
      "/data/reddylab/Kuei/out/CombEffect_STARR/bedgraph/Input5/chr17.bedgraph\n",
      "/data/reddylab/Kuei/out/CombEffect_STARR/bedgraph/Input/chr17.bedgraph\n",
      "/data/reddylab/Kuei/out/CombEffect_STARR/bedgraph/TFX2_Dex/chr17.bedgraph\n",
      "/data/reddylab/Kuei/out/CombEffect_STARR/bedgraph/TFX2_DMSO/chr17.bedgraph\n",
      "/data/reddylab/Kuei/out/CombEffect_STARR/bedgraph/TFX3_Dex/chr17.bedgraph\n",
      "/data/reddylab/Kuei/out/CombEffect_STARR/bedgraph/TFX3_DMSO/chr17.bedgraph\n",
      "/data/reddylab/Kuei/out/CombEffect_STARR/bedgraph/TFX4_Dex/chr17.bedgraph\n",
      "/data/reddylab/Kuei/out/CombEffect_STARR/bedgraph/TFX4_DMSO/chr17.bedgraph\n",
      "/data/reddylab/Kuei/out/CombEffect_STARR/bedgraph/TFX5_Dex/chr17.bedgraph\n",
      "/data/reddylab/Kuei/out/CombEffect_STARR/bedgraph/TFX5_DMSO/chr17.bedgraph\n",
      "/data/reddylab/Kuei/out/CombEffect_STARR/bedgraph/TFX_Dex/chr17.bedgraph\n",
      "/data/reddylab/Kuei/out/CombEffect_STARR/bedgraph/TFX_DMSO/chr17.bedgraph\n"
     ]
    }
   ],
   "source": [
    "ls -1 /data/reddylab/Kuei/out/CombEffect_STARR/bedgraph/*/*bedgraph"
   ]
  },
  {
   "cell_type": "code",
   "execution_count": null,
   "metadata": {},
   "outputs": [],
   "source": []
  }
 ],
 "metadata": {
  "kernelspec": {
   "display_name": "Python 3",
   "language": "python",
   "name": "python3"
  },
  "language_info": {
   "codemirror_mode": {
    "name": "ipython",
    "version": 3
   },
   "file_extension": ".py",
   "mimetype": "text/x-python",
   "name": "python",
   "nbconvert_exporter": "python",
   "pygments_lexer": "ipython3",
   "version": "3.6.12"
  }
 },
 "nbformat": 4,
 "nbformat_minor": 4
}
