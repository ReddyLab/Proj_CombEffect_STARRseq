{
 "cells": [
  {
   "cell_type": "code",
   "execution_count": 1,
   "id": "a11098ea-20ea-4c6f-a3bf-91bf7e26e744",
   "metadata": {},
   "outputs": [
    {
     "name": "stdout",
     "output_type": "stream",
     "text": [
      "1\n",
      "2\n",
      "3\n",
      "4\n",
      "5\n",
      "6\n",
      "7\n",
      "8\n",
      "9\n",
      "10\n",
      "11\n",
      "12\n",
      "13\n",
      "14\n",
      "15\n",
      "16\n",
      "17\n",
      "18\n",
      "19\n",
      "20\n",
      "21\n",
      "22\n",
      "X\n",
      "Y\n"
     ]
    }
   ],
   "source": [
    "CHROMS=({1..22} X Y)\n",
    "for CHROM in ${CHROMS[@]}; do\n",
    "    echo $CHROM\n",
    "done"
   ]
  },
  {
   "cell_type": "code",
   "execution_count": 7,
   "id": "589f65b4-3f13-4c7f-8775-4881c3e74211",
   "metadata": {},
   "outputs": [
    {
     "name": "stdout",
     "output_type": "stream",
     "text": [
      "1\n",
      "2\n",
      "3\n",
      "4\n",
      "5\n",
      "6\n",
      "7\n",
      "8\n",
      "9\n",
      "10\n",
      "11\n",
      "12\n",
      "13\n",
      "14\n",
      "15\n",
      "16\n",
      "17\n",
      "18\n",
      "19\n",
      "20\n",
      "21\n",
      "22\n",
      "X\n",
      "Y\n"
     ]
    }
   ],
   "source": [
    "cat /dev/null > test_chrom.txt\n",
    "\n",
    "CHROMS=({1..22} X Y)\n",
    "for CHROM in ${CHROMS[@]}; do\n",
    "    echo $CHROM >> test_chrom.txt\n",
    "done\n",
    "\n",
    "cat test_chrom.txt"
   ]
  },
  {
   "cell_type": "code",
   "execution_count": 4,
   "id": "0583c53a-0d8b-47d2-a335-13537071b9fa",
   "metadata": {},
   "outputs": [
    {
     "name": "stdout",
     "output_type": "stream",
     "text": [
      "1\n",
      "2\n",
      "Y\n",
      "\n"
     ]
    }
   ],
   "source": [
    "CHROMS=({1..22} X Y)\n",
    "echo ${CHROMS[0]}\n",
    "echo ${CHROMS[1]}\n",
    "echo ${CHROMS[23]}\n",
    "echo ${CHROMS[24]}"
   ]
  },
  {
   "cell_type": "code",
   "execution_count": 5,
   "id": "761e019d-b23f-4bbd-96ab-6d588a4a6bcc",
   "metadata": {},
   "outputs": [
    {
     "name": "stdout",
     "output_type": "stream",
     "text": [
      "chr1\n",
      "chr2\n",
      "chrY\n",
      "chr\n"
     ]
    }
   ],
   "source": [
    "CHROMS=({1..22} X Y)\n",
    "echo chr${CHROMS[0]}\n",
    "echo chr${CHROMS[1]}\n",
    "echo chr${CHROMS[23]}\n",
    "echo chr${CHROMS[24]}"
   ]
  },
  {
   "cell_type": "code",
   "execution_count": null,
   "id": "38ce823d-22ca-475c-8219-0367c3895938",
   "metadata": {},
   "outputs": [],
   "source": []
  }
 ],
 "metadata": {
  "kernelspec": {
   "display_name": "Bash",
   "language": "bash",
   "name": "bash"
  },
  "language_info": {
   "codemirror_mode": "shell",
   "file_extension": ".sh",
   "mimetype": "text/x-sh",
   "name": "bash"
  }
 },
 "nbformat": 4,
 "nbformat_minor": 5
}
