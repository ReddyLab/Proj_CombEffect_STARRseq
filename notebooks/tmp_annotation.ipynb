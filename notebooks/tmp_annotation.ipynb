{
 "cells": [
  {
   "cell_type": "code",
   "execution_count": 6,
   "id": "ede91770-5a65-4b77-9c38-3a606ede09d0",
   "metadata": {},
   "outputs": [
    {
     "name": "stdout",
     "output_type": "stream",
     "text": [
      "chr17\t60004\t60022\tZNF140\t5.6897\t+\tZN140_HUMAN.H11MO.0.C\t1\n",
      "chr17\t60004\t60022\tZNF667\t8.0240\t-\tZN667_HUMAN.H11MO.0.C\t1\n",
      "chr17\t60006\t60015\tEbox/CAGCTG\t7.9275\t+\tMYOD1_HUMAN.H11MO.0.A\t1\n",
      "chr17\t60011\t60031\tGC-tract\t12.1220\t-\tZN341_HUMAN.H11MO.0.C\t1\n",
      "chr17\t60012\t60025\tPRDM4\t1.3083\t+\tPRDM4_C2H2_1\t1\n",
      "chr17\t60017\t60028\tNR/19\t9.6680\t-\tNR1D1_HUMAN.H11MO.0.B\t2\n",
      "chr17\t60019\t60035\tHEN1\t5.5854\t-\tHEN1_HUMAN.H11MO.0.C\t2\n",
      "chr17\t60023\t60042\tZNF680\t6.3901\t-\tZN680_HUMAN.H11MO.0.C\t1\n",
      "chr17\t60027\t60037\tSMARCA1\t7.5566\t-\tSMCA1_HUMAN.H11MO.0.C\t1\n",
      "chr17\t60027\t60040\tLEF1\t7.1402\t+\tZN350_HUMAN.H11MO.0.C\t1\n",
      "\n",
      "gzip: stdout: Broken pipe\n"
     ]
    }
   ],
   "source": [
    "FD_ANN=/work/kk319/annotation\n",
    "zcat $FD_ANN/motif_cluster_jvierstra/hg38_archetype_motifs_v1/chr17_rm_mouse.bed.gz | head"
   ]
  },
  {
   "cell_type": "code",
   "execution_count": 2,
   "id": "0b4fbb48-a1a5-47aa-9115-9e6dc73dd33e",
   "metadata": {},
   "outputs": [
    {
     "name": "stdout",
     "output_type": "stream",
     "text": [
      "chr17\t60017\t60028\tNR/19\t9.6680\t-\tNR1D1_HUMAN.H11MO.0.B\t2\n",
      "\n",
      "gzip: stdout: Broken pipe\n"
     ]
    }
   ],
   "source": [
    "FD_ANN=/work/kk319/annotation\n",
    "zcat $FD_ANN/motif_cluster_jvierstra/hg38_archetype_motifs_v1/chr17_rm_mouse.bed.gz | head | grep \"NR/19\""
   ]
  },
  {
   "cell_type": "code",
   "execution_count": 4,
   "id": "782de860-859b-427e-9940-0cd483c1b082",
   "metadata": {},
   "outputs": [
    {
     "name": "stdout",
     "output_type": "stream",
     "text": [
      "chr17\t60017\t60028\tNR/19\t9.6680\t-\tNR1D1_HUMAN.H11MO.0.B\t2\n",
      "\n",
      "gzip: stdout: Broken pipe\n"
     ]
    }
   ],
   "source": [
    "FD_ANN=/work/kk319/annotation\n",
    "zcat $FD_ANN/motif_cluster_jvierstra/hg38_archetype_motifs_v1/chr17_rm_mouse.bed.gz |\\\n",
    "    head |\\\n",
    "    awk -F $'\\t' '($4 == \"NR/19\")'"
   ]
  },
  {
   "cell_type": "code",
   "execution_count": 7,
   "id": "089f756a-f4bc-452f-ab07-0bf6392d8c7d",
   "metadata": {},
   "outputs": [
    {
     "name": "stdout",
     "output_type": "stream",
     "text": [
      "chr17\t60004\t60022\tZNF140\t5.6897\t+\tZN140_HUMAN.H11MO.0.C\t1\n",
      "chr17\t60004\t60022\tZNF667\t8.0240\t-\tZN667_HUMAN.H11MO.0.C\t1\n",
      "chr17\t60023\t60042\tZNF680\t6.3901\t-\tZN680_HUMAN.H11MO.0.C\t1\n",
      "\n",
      "gzip: stdout: Broken pipe\n"
     ]
    }
   ],
   "source": [
    "FD_ANN=/work/kk319/annotation\n",
    "zcat $FD_ANN/motif_cluster_jvierstra/hg38_archetype_motifs_v1/chr17_rm_mouse.bed.gz |\\\n",
    "    head |\\\n",
    "    awk -F $'\\t' '($4 ~ \"ZNF\")'"
   ]
  },
  {
   "cell_type": "code",
   "execution_count": 10,
   "id": "a23cf23b-5d14-4018-99c3-5056003ef558",
   "metadata": {},
   "outputs": [
    {
     "name": "stdout",
     "output_type": "stream",
     "text": [
      "chr17\t91074\t91088\tNR/20\t8.7154\t+\tNR3C1_MA0113.3\t6\n",
      "chr17\t238677\t238691\tNR/20\t6.5781\t+\tNR3C1_MA0113.3\t7\n",
      "chr17\t389330\t389344\tNR/20\t6.8902\t+\tNR3C1_MA0113.3\t7\n",
      "chr17\t439843\t439857\tNR/20\t4.6286\t-\tNR3C1_MA0113.3\t4\n",
      "chr17\t632684\t632698\tNR/20\t5.0658\t+\tNR3C1_MA0113.3\t4\n",
      "chr17\t689830\t689844\tNR/20\t5.2034\t-\tNR3C1_MA0113.3\t4\n",
      "chr17\t692276\t692290\tNR/20\t5.0559\t+\tNR3C1_MA0113.3\t2\n",
      "chr17\t817006\t817020\tNR/20\t8.0816\t-\tNR3C1_MA0113.3\t7\n",
      "chr17\t817007\t817021\tNR/20\t8.7468\t+\tNR3C1_MA0113.3\t11\n",
      "chr17\t874959\t874973\tNR/20\t7.7508\t+\tNR3C1_MA0113.3\t8\n",
      "chr17\t1032672\t1032686\tNR/20\t4.7975\t+\tNR3C1_MA0113.3\t4\n",
      "chr17\t1140551\t1140565\tNR/20\t6.5295\t-\tNR3C1_MA0113.3\t6\n",
      "chr17\t1431312\t1431326\tNR/20\t6.3433\t-\tNR3C1_MA0113.3\t6\n",
      "chr17\t1452303\t1452317\tNR/20\t9.7083\t-\tNR3C1_MA0113.3\t13\n",
      "chr17\t1531919\t1531933\tNR/20\t4.4813\t-\tNR3C1_MA0113.3\t2\n",
      "chr17\t1680177\t1680191\tNR/20\t4.5813\t-\tNR3C1_MA0113.3\t2\n",
      "chr17\t1816280\t1816294\tNR/20\t7.7050\t-\tNR3C1_MA0113.3\t7\n",
      "chr17\t1816281\t1816295\tNR/20\t7.3826\t+\tNR3C1_MA0113.3\t8\n",
      "chr17\t1855913\t1855927\tNR/20\t5.1437\t-\tNR3C1_MA0113.3\t4\n",
      "chr17\t2246631\t2246645\tNR/20\t8.9883\t-\tNR3C1_MA0113.3\t8\n",
      "chr17\t2341579\t2341593\tNR/20\t4.6699\t+\tNR3C1_MA0113.3\t4\n",
      "chr17\t2549573\t2549587\tNR/20\t9.9326\t+\tNR3C1_MA0113.3\t8\n",
      "chr17\t2623017\t2623031\tNR/20\t8.4993\t+\tNR3C1_MA0113.3\t8\n",
      "chr17\t2631953\t2631967\tNR/20\t4.9411\t+\tNR3C1_MA0113.3\t2\n",
      "chr17\t2642909\t2642923\tNR/20\t7.0030\t+\tNR3C1_MA0113.3\t6\n",
      "chr17\t2698466\t2698480\tNR/20\t6.3530\t-\tNR3C1_MA0113.3\t7\n",
      "chr17\t2701435\t2701449\tNR/20\t9.8640\t-\tNR3C1_MA0113.3\t12\n",
      "chr17\t2832648\t2832662\tNR/20\t5.6898\t-\tNR3C1_MA0113.3\t4\n",
      "chr17\t2832649\t2832663\tNR/20\t5.6414\t+\tNR3C1_MA0113.3\t4\n",
      "chr17\t2929752\t2929766\tNR/20\t9.5598\t-\tNR3C1_MA0113.3\t8\n",
      "chr17\t3119179\t3119193\tNR/20\t6.9297\t+\tNR3C1_MA0113.3\t7\n",
      "chr17\t3193347\t3193361\tNR/20\t7.9729\t-\tNR3C1_MA0113.3\t9\n",
      "chr17\t3198105\t3198119\tNR/20\t5.0593\t+\tNR3C1_MA0113.3\t2\n",
      "chr17\t3216207\t3216221\tNR/20\t5.0593\t+\tNR3C1_MA0113.3\t2\n",
      "chr17\t3313496\t3313510\tNR/20\t4.7650\t+\tNR3C1_MA0113.3\t4\n",
      "chr17\t3423180\t3423194\tNR/20\t4.5967\t+\tNR3C1_MA0113.3\t2\n",
      "chr17\t3484872\t3484886\tNR/20\t8.8477\t-\tNR3C1_MA0113.3\t8\n",
      "chr17\t3741748\t3741762\tNR/20\t4.4786\t+\tNR3C1_MA0113.3\t2\n",
      "chr17\t3831229\t3831243\tNR/20\t6.1472\t-\tNR3C1_MA0113.3\t4\n",
      "chr17\t3831778\t3831792\tNR/20\t4.4473\t+\tNR3C1_MA0113.3\t2\n",
      "chr17\t4058077\t4058091\tNR/20\t4.5308\t-\tNR3C1_MA0113.3\t2\n",
      "chr17\t4303318\t4303332\tNR/20\t4.9150\t-\tNR3C1_MA0113.3\t4\n",
      "chr17\t4322154\t4322168\tNR/20\t4.8397\t+\tNR3C1_MA0113.3\t2\n",
      "chr17\t4322563\t4322577\tNR/20\t4.4847\t-\tNR3C1_MA0113.3\t2\n",
      "chr17\t4510933\t4510947\tNR/20\t4.5461\t+\tNR3C1_MA0113.3\t2\n",
      "chr17\t4532811\t4532825\tNR/20\t6.8140\t-\tNR3C1_MA0113.3\t4\n",
      "chr17\t4556410\t4556424\tNR/20\t4.9473\t-\tNR3C1_MA0113.3\t2\n",
      "chr17\t4606004\t4606018\tNR/20\t4.6307\t+\tNR3C1_MA0113.3\t2\n",
      "chr17\t4693053\t4693067\tNR/20\t5.5418\t+\tNR3C1_MA0113.3\t4\n",
      "chr17\t4875149\t4875163\tNR/20\t4.4626\t-\tNR3C1_MA0113.3\t2\n",
      "\n",
      "gzip: stdout: Broken pipe\n"
     ]
    }
   ],
   "source": [
    "FD_ANN=/work/kk319/annotation\n",
    "zcat $FD_ANN/motif_cluster_jvierstra/hg38_archetype_motifs_v1/chr17_rm_mouse.bed.gz |\\\n",
    "    awk -F $'\\t' '($7 ~ \"NR3C1\")' |\\\n",
    "    head -50"
   ]
  },
  {
   "cell_type": "code",
   "execution_count": null,
   "id": "b15bf7bc-8b74-4313-a330-f2147f709ca6",
   "metadata": {},
   "outputs": [],
   "source": []
  }
 ],
 "metadata": {
  "kernelspec": {
   "display_name": "Bash",
   "language": "bash",
   "name": "bash"
  },
  "language_info": {
   "codemirror_mode": "shell",
   "file_extension": ".sh",
   "mimetype": "text/x-sh",
   "name": "bash"
  }
 },
 "nbformat": 4,
 "nbformat_minor": 5
}
