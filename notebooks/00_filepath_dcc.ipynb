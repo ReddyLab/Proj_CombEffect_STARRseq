{
 "cells": [
  {
   "cell_type": "code",
   "execution_count": 5,
   "id": "73ae1692-f6cf-4506-b4ba-a5ee9c4e87ce",
   "metadata": {},
   "outputs": [
    {
     "name": "stdout",
     "output_type": "stream",
     "text": [
      "/work/kk319\n",
      "/work/kk319/out/CombEffect_STARR\n",
      "/work/kk319/source\n"
     ]
    }
   ],
   "source": [
    "source config.sh\n",
    "\n",
    "echo ${FD_BASE}\n",
    "echo ${FD_WRK}\n",
    "echo ${FD_SRC}"
   ]
  },
  {
   "cell_type": "code",
   "execution_count": 7,
   "id": "3e717c16-05e2-45fa-a764-2e018f27439d",
   "metadata": {},
   "outputs": [
    {
     "name": "stdout",
     "output_type": "stream",
     "text": [
      "\u001b[0m\u001b[01;31mwhole_genome_STARRseq_bedpe.tar.gz\u001b[0m\n"
     ]
    }
   ],
   "source": [
    "ls ${FD_SRC}/whole_genome_STARRseq"
   ]
  },
  {
   "cell_type": "code",
   "execution_count": 9,
   "id": "e5c61f34-1a79-444b-90ac-b4a802ce6804",
   "metadata": {},
   "outputs": [
    {
     "name": "stdout",
     "output_type": "stream",
     "text": [
      "\u001b[0m\u001b[01;34mannotation_fragment\u001b[0m  \u001b[01;34mbedgraph\u001b[0m   \u001b[01;34mcount_fragment\u001b[0m  \u001b[01;34mcoverage\u001b[0m  \u001b[01;34mkmer\u001b[0m  \u001b[01;34msource\u001b[0m\n",
      "\u001b[01;34mannotation_segment\u001b[0m   \u001b[01;34mbootstrap\u001b[0m  \u001b[01;34mcount_segment\u001b[0m   \u001b[01;34mdata\u001b[0m      \u001b[01;34mlog\u001b[0m\n"
     ]
    }
   ],
   "source": [
    "ls ${FD_WRK}"
   ]
  },
  {
   "cell_type": "markdown",
   "id": "bdb2ac1c-ad80-46a1-a18d-437ac74eb340",
   "metadata": {},
   "source": [
    "## Extract the STARR-seq `tar.gz` file to my working directory\n",
    "\n",
    "[Forum: What command do I need to unzip/extract a .tar.gz file?](https://askubuntu.com/questions/25347/what-command-do-i-need-to-unzip-extract-a-tar-gz-file)\n",
    "```\n",
    "tar -xvzf community_images.tar.gz -C some_custom_folder_name\n",
    "```"
   ]
  },
  {
   "cell_type": "code",
   "execution_count": 12,
   "id": "2b4cbd31-f7a4-402e-8798-28b3525dbda0",
   "metadata": {},
   "outputs": [
    {
     "name": "stdout",
     "output_type": "stream",
     "text": [
      "./TFX2_Hydrocortisone/TFX2_Hydrocortisone.bedpe\n",
      "./TFX2_DMSO/TFX2_DMSO.bedpe\n",
      "./TFX4_GW870086/TFX4_GW870086.bedpe\n",
      "./TFX3_AZD9567/TFX3_AZD9567.bedpe\n",
      "./TFX3_CpdA/TFX3_CpdA.bedpe\n",
      "./TFX2_GW870086/TFX2_GW870086.bedpe\n",
      "./TFX5_Hydrocortisone/TFX5_Hydrocortisone.bedpe\n",
      "./TFX4_RU486/TFX4_RU486.bedpe\n",
      "./Input3/Input3.bedpe\n",
      "./TFX3_CORT108297/TFX3_CORT108297.bedpe\n",
      "./TFX5_Dex/TFX5_Dex.bedpe\n",
      "./TFX5_GW870086/TFX5_GW870086.bedpe\n",
      "./TFX2_Mapracorat/TFX2_Mapracorat.bedpe\n",
      "./TFX5_ZK216348/TFX5_ZK216348.bedpe\n",
      "./TFX5_AZD9567/TFX5_AZD9567.bedpe\n",
      "./TFX2_RU486/TFX2_RU486.bedpe\n",
      "./TFX2_CORT108297/TFX2_CORT108297.bedpe\n",
      "./TFX4_Hydrocortisone/TFX4_Hydrocortisone.bedpe\n",
      "./TFX5_CpdA/TFX5_CpdA.bedpe\n",
      "./TFX2_Dex/TFX2_Dex.bedpe\n",
      "./TFX5_DMSO/TFX5_DMSO.bedpe\n",
      "./TFX2_AZD2906/TFX2_AZD2906.bedpe\n",
      "./TFX4_Dex/TFX4_Dex.bedpe\n",
      "./TFX5_RU486/TFX5_RU486.bedpe\n",
      "./TFX3_ZK216348/TFX3_ZK216348.bedpe\n",
      "./Input4/Input4.bedpe\n",
      "./TFX4_ZK216348/TFX4_ZK216348.bedpe\n",
      "./Input5/Input5.bedpe\n",
      "./TFX2_CpdA/TFX2_CpdA.bedpe\n",
      "./TFX2_AZD9567/TFX2_AZD9567.bedpe\n",
      "./TFX4_AZD2906/TFX4_AZD2906.bedpe\n",
      "./TFX4_Mapracorat/TFX4_Mapracorat.bedpe\n",
      "./TFX4_AZD9567/TFX4_AZD9567.bedpe\n",
      "./TFX5_Mapracorat/TFX5_Mapracorat.bedpe\n",
      "./TFX2_ZK216348/TFX2_ZK216348.bedpe\n",
      "./TFX3_GW870086/TFX3_GW870086.bedpe\n",
      "./TFX4_CORT108297/TFX4_CORT108297.bedpe\n",
      "./Input1/Input1.bedpe\n",
      "./Input2/Input2.bedpe\n",
      "./TFX3_Mapracorat/TFX3_Mapracorat.bedpe\n",
      "./TFX4_CpdA/TFX4_CpdA.bedpe\n",
      "./TFX3_RU486/TFX3_RU486.bedpe\n",
      "./TFX3_Hydrocortisone/TFX3_Hydrocortisone.bedpe\n",
      "./TFX3_Dex/TFX3_Dex.bedpe\n",
      "./TFX5_CORT108297/TFX5_CORT108297.bedpe\n",
      "./TFX4_DMSO/TFX4_DMSO.bedpe\n",
      "./TFX5_AZD2906/TFX5_AZD2906.bedpe\n",
      "./TFX3_AZD2906/TFX3_AZD2906.bedpe\n",
      "./TFX3_DMSO/TFX3_DMSO.bedpe\n"
     ]
    }
   ],
   "source": [
    "FP_INP=${FD_SRC}/whole_genome_STARRseq/whole_genome_STARRseq_bedpe.tar.gz\n",
    "FD_OUT=${FD_WRK}/source\n",
    "\n",
    "tar -xvzf ${FP_INP} -C ${FD_OUT}"
   ]
  },
  {
   "cell_type": "markdown",
   "id": "de725d4d-c140-4c88-85d5-656c0e8d45ff",
   "metadata": {},
   "source": [
    "## calculate the library size"
   ]
  },
  {
   "cell_type": "code",
   "execution_count": 1,
   "id": "89cbf112-2d8a-46f6-8bf2-e809b5161e62",
   "metadata": {},
   "outputs": [
    {
     "name": "stdout",
     "output_type": "stream",
     "text": [
      "/work/kk319\n",
      "/work/kk319/out/CombEffect_STARR\n",
      "/work/kk319/source\n"
     ]
    }
   ],
   "source": [
    "source config.sh\n",
    "\n",
    "echo ${FD_BASE}\n",
    "echo ${FD_WRK}\n",
    "echo ${FD_SRC}"
   ]
  },
  {
   "cell_type": "code",
   "execution_count": 3,
   "id": "c3ab86d6-7ec4-483e-bee6-8d6f6aa87f44",
   "metadata": {},
   "outputs": [
    {
     "name": "stdout",
     "output_type": "stream",
     "text": [
      "\u001b[0m\u001b[01;34mInput1\u001b[0m               \u001b[01;34mTFX3_AZD9567\u001b[0m         \u001b[01;34mTFX4_Hydrocortisone\u001b[0m\n",
      "\u001b[01;34mInput2\u001b[0m               \u001b[01;34mTFX3_CORT108297\u001b[0m      \u001b[01;34mTFX4_Mapracorat\u001b[0m\n",
      "\u001b[01;34mInput3\u001b[0m               \u001b[01;34mTFX3_CpdA\u001b[0m            \u001b[01;34mTFX4_RU486\u001b[0m\n",
      "\u001b[01;34mInput4\u001b[0m               \u001b[01;34mTFX3_DMSO\u001b[0m            \u001b[01;34mTFX4_ZK216348\u001b[0m\n",
      "\u001b[01;34mInput5\u001b[0m               \u001b[01;34mTFX3_Dex\u001b[0m             \u001b[01;34mTFX5_AZD2906\u001b[0m\n",
      "\u001b[01;34mTFX2_AZD2906\u001b[0m         \u001b[01;34mTFX3_GW870086\u001b[0m        \u001b[01;34mTFX5_AZD9567\u001b[0m\n",
      "\u001b[01;34mTFX2_AZD9567\u001b[0m         \u001b[01;34mTFX3_Hydrocortisone\u001b[0m  \u001b[01;34mTFX5_CORT108297\u001b[0m\n",
      "\u001b[01;34mTFX2_CORT108297\u001b[0m      \u001b[01;34mTFX3_Mapracorat\u001b[0m      \u001b[01;34mTFX5_CpdA\u001b[0m\n",
      "\u001b[01;34mTFX2_CpdA\u001b[0m            \u001b[01;34mTFX3_RU486\u001b[0m           \u001b[01;34mTFX5_DMSO\u001b[0m\n",
      "\u001b[01;34mTFX2_DMSO\u001b[0m            \u001b[01;34mTFX3_ZK216348\u001b[0m        \u001b[01;34mTFX5_Dex\u001b[0m\n",
      "\u001b[01;34mTFX2_Dex\u001b[0m             \u001b[01;34mTFX4_AZD2906\u001b[0m         \u001b[01;34mTFX5_GW870086\u001b[0m\n",
      "\u001b[01;34mTFX2_GW870086\u001b[0m        \u001b[01;34mTFX4_AZD9567\u001b[0m         \u001b[01;34mTFX5_Hydrocortisone\u001b[0m\n",
      "\u001b[01;34mTFX2_Hydrocortisone\u001b[0m  \u001b[01;34mTFX4_CORT108297\u001b[0m      \u001b[01;34mTFX5_Mapracorat\u001b[0m\n",
      "\u001b[01;34mTFX2_Mapracorat\u001b[0m      \u001b[01;34mTFX4_CpdA\u001b[0m            \u001b[01;34mTFX5_RU486\u001b[0m\n",
      "\u001b[01;34mTFX2_RU486\u001b[0m           \u001b[01;34mTFX4_DMSO\u001b[0m            \u001b[01;34mTFX5_ZK216348\u001b[0m\n",
      "\u001b[01;34mTFX2_ZK216348\u001b[0m        \u001b[01;34mTFX4_Dex\u001b[0m\n",
      "\u001b[01;34mTFX3_AZD2906\u001b[0m         \u001b[01;34mTFX4_GW870086\u001b[0m\n"
     ]
    }
   ],
   "source": [
    "ls ${FD_WRK}/source"
   ]
  },
  {
   "cell_type": "code",
   "execution_count": 15,
   "id": "bbf96377-3e49-4271-a87c-9ba5b2735329",
   "metadata": {},
   "outputs": [],
   "source": [
    "wc -l ${FD_WRK}/source/*/*.bedpe |\\\n",
    "    sed 's/^ *//g' |\\\n",
    "    sed 's/[ ]+/[ ]/g' |\\\n",
    "    sed 's/[ ]/\\t/g' > ${FD_WRK}/source/library_size.txt"
   ]
  },
  {
   "cell_type": "code",
   "execution_count": 16,
   "id": "8b782a3f-05e0-4454-80ad-39701c8f9ff9",
   "metadata": {},
   "outputs": [
    {
     "name": "stdout",
     "output_type": "stream",
     "text": [
      "18666630\t/work/kk319/out/CombEffect_STARR/source/Input1/Input1.bedpe\n",
      "20167924\t/work/kk319/out/CombEffect_STARR/source/Input2/Input2.bedpe\n",
      "23280988\t/work/kk319/out/CombEffect_STARR/source/Input3/Input3.bedpe\n",
      "19003938\t/work/kk319/out/CombEffect_STARR/source/Input4/Input4.bedpe\n",
      "15325016\t/work/kk319/out/CombEffect_STARR/source/Input5/Input5.bedpe\n",
      "48376253\t/work/kk319/out/CombEffect_STARR/source/TFX2_AZD2906/TFX2_AZD2906.bedpe\n",
      "52542517\t/work/kk319/out/CombEffect_STARR/source/TFX2_AZD9567/TFX2_AZD9567.bedpe\n",
      "43646484\t/work/kk319/out/CombEffect_STARR/source/TFX2_CORT108297/TFX2_CORT108297.bedpe\n",
      "41732268\t/work/kk319/out/CombEffect_STARR/source/TFX2_CpdA/TFX2_CpdA.bedpe\n",
      "43844606\t/work/kk319/out/CombEffect_STARR/source/TFX2_DMSO/TFX2_DMSO.bedpe\n",
      "45413539\t/work/kk319/out/CombEffect_STARR/source/TFX2_Dex/TFX2_Dex.bedpe\n",
      "56207769\t/work/kk319/out/CombEffect_STARR/source/TFX2_GW870086/TFX2_GW870086.bedpe\n",
      "47829936\t/work/kk319/out/CombEffect_STARR/source/TFX2_Hydrocortisone/TFX2_Hydrocortisone.bedpe\n",
      "38120420\t/work/kk319/out/CombEffect_STARR/source/TFX2_Mapracorat/TFX2_Mapracorat.bedpe\n",
      "47687319\t/work/kk319/out/CombEffect_STARR/source/TFX2_RU486/TFX2_RU486.bedpe\n",
      "45455167\t/work/kk319/out/CombEffect_STARR/source/TFX2_ZK216348/TFX2_ZK216348.bedpe\n",
      "26840149\t/work/kk319/out/CombEffect_STARR/source/TFX3_AZD2906/TFX3_AZD2906.bedpe\n",
      "44435989\t/work/kk319/out/CombEffect_STARR/source/TFX3_AZD9567/TFX3_AZD9567.bedpe\n",
      "32701206\t/work/kk319/out/CombEffect_STARR/source/TFX3_CORT108297/TFX3_CORT108297.bedpe\n",
      "26352610\t/work/kk319/out/CombEffect_STARR/source/TFX3_CpdA/TFX3_CpdA.bedpe\n",
      "26819569\t/work/kk319/out/CombEffect_STARR/source/TFX3_DMSO/TFX3_DMSO.bedpe\n",
      "26400671\t/work/kk319/out/CombEffect_STARR/source/TFX3_Dex/TFX3_Dex.bedpe\n",
      "36774709\t/work/kk319/out/CombEffect_STARR/source/TFX3_GW870086/TFX3_GW870086.bedpe\n",
      "40293787\t/work/kk319/out/CombEffect_STARR/source/TFX3_Hydrocortisone/TFX3_Hydrocortisone.bedpe\n",
      "26384034\t/work/kk319/out/CombEffect_STARR/source/TFX3_Mapracorat/TFX3_Mapracorat.bedpe\n",
      "31454676\t/work/kk319/out/CombEffect_STARR/source/TFX3_RU486/TFX3_RU486.bedpe\n",
      "41139261\t/work/kk319/out/CombEffect_STARR/source/TFX3_ZK216348/TFX3_ZK216348.bedpe\n",
      "27175305\t/work/kk319/out/CombEffect_STARR/source/TFX4_AZD2906/TFX4_AZD2906.bedpe\n",
      "33610712\t/work/kk319/out/CombEffect_STARR/source/TFX4_AZD9567/TFX4_AZD9567.bedpe\n",
      "59429741\t/work/kk319/out/CombEffect_STARR/source/TFX4_CORT108297/TFX4_CORT108297.bedpe\n",
      "31202573\t/work/kk319/out/CombEffect_STARR/source/TFX4_CpdA/TFX4_CpdA.bedpe\n",
      "30951533\t/work/kk319/out/CombEffect_STARR/source/TFX4_DMSO/TFX4_DMSO.bedpe\n",
      "34590086\t/work/kk319/out/CombEffect_STARR/source/TFX4_Dex/TFX4_Dex.bedpe\n",
      "43395226\t/work/kk319/out/CombEffect_STARR/source/TFX4_GW870086/TFX4_GW870086.bedpe\n",
      "27190016\t/work/kk319/out/CombEffect_STARR/source/TFX4_Hydrocortisone/TFX4_Hydrocortisone.bedpe\n",
      "36460601\t/work/kk319/out/CombEffect_STARR/source/TFX4_Mapracorat/TFX4_Mapracorat.bedpe\n",
      "31196111\t/work/kk319/out/CombEffect_STARR/source/TFX4_RU486/TFX4_RU486.bedpe\n",
      "38035173\t/work/kk319/out/CombEffect_STARR/source/TFX4_ZK216348/TFX4_ZK216348.bedpe\n",
      "43862195\t/work/kk319/out/CombEffect_STARR/source/TFX5_AZD2906/TFX5_AZD2906.bedpe\n",
      "48356547\t/work/kk319/out/CombEffect_STARR/source/TFX5_AZD9567/TFX5_AZD9567.bedpe\n",
      "42880899\t/work/kk319/out/CombEffect_STARR/source/TFX5_CORT108297/TFX5_CORT108297.bedpe\n",
      "40239413\t/work/kk319/out/CombEffect_STARR/source/TFX5_CpdA/TFX5_CpdA.bedpe\n",
      "28859151\t/work/kk319/out/CombEffect_STARR/source/TFX5_DMSO/TFX5_DMSO.bedpe\n",
      "42310249\t/work/kk319/out/CombEffect_STARR/source/TFX5_Dex/TFX5_Dex.bedpe\n",
      "39710444\t/work/kk319/out/CombEffect_STARR/source/TFX5_GW870086/TFX5_GW870086.bedpe\n",
      "34580732\t/work/kk319/out/CombEffect_STARR/source/TFX5_Hydrocortisone/TFX5_Hydrocortisone.bedpe\n",
      "48311553\t/work/kk319/out/CombEffect_STARR/source/TFX5_Mapracorat/TFX5_Mapracorat.bedpe\n",
      "49785981\t/work/kk319/out/CombEffect_STARR/source/TFX5_RU486/TFX5_RU486.bedpe\n",
      "35907183\t/work/kk319/out/CombEffect_STARR/source/TFX5_ZK216348/TFX5_ZK216348.bedpe\n",
      "1814938859\ttotal\n"
     ]
    }
   ],
   "source": [
    "cat ${FD_WRK}/source/library_size.txt"
   ]
  }
 ],
 "metadata": {
  "kernelspec": {
   "display_name": "Bash",
   "language": "bash",
   "name": "bash"
  },
  "language_info": {
   "codemirror_mode": "shell",
   "file_extension": ".sh",
   "mimetype": "text/x-sh",
   "name": "bash"
  }
 },
 "nbformat": 4,
 "nbformat_minor": 5
}
