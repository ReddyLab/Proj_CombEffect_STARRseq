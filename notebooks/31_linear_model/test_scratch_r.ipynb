{
 "cells": [
  {
   "cell_type": "code",
   "execution_count": 1,
   "metadata": {},
   "outputs": [],
   "source": [
    "### split motifs into several chunks for parallel programming\n",
    "fun_chunk = function(x, n){ \n",
    "    if (n==1){ \n",
    "        lst = list(x) \n",
    "    } else {\n",
    "        lst = split(x, cut(seq_along(x), n, labels = FALSE))\n",
    "    }\n",
    "    return(lst)\n",
    "}"
   ]
  },
  {
   "cell_type": "code",
   "execution_count": 5,
   "metadata": {},
   "outputs": [
    {
     "name": "stdout",
     "output_type": "stream",
     "text": [
      "[[1]]\n",
      " [1] \"A\" \"B\" \"C\" \"D\" \"E\" \"F\" \"G\" \"H\" \"I\" \"J\" \"K\" \"L\" \"M\" \"N\" \"O\" \"P\" \"Q\" \"R\" \"S\"\n",
      "[20] \"T\" \"U\" \"V\" \"W\" \"X\" \"Y\" \"Z\"\n",
      "\n",
      "[1] \"list\"\n"
     ]
    }
   ],
   "source": [
    "print(fun_chunk(LETTERS, 1))\n",
    "print(class(fun_chunk(LETTERS, 1)))"
   ]
  },
  {
   "cell_type": "code",
   "execution_count": 6,
   "metadata": {},
   "outputs": [
    {
     "name": "stdout",
     "output_type": "stream",
     "text": [
      "$`1`\n",
      " [1] \"A\" \"B\" \"C\" \"D\" \"E\" \"F\" \"G\" \"H\" \"I\" \"J\" \"K\" \"L\" \"M\"\n",
      "\n",
      "$`2`\n",
      " [1] \"N\" \"O\" \"P\" \"Q\" \"R\" \"S\" \"T\" \"U\" \"V\" \"W\" \"X\" \"Y\" \"Z\"\n",
      "\n"
     ]
    }
   ],
   "source": [
    "print(fun_chunk(LETTERS, 2))"
   ]
  },
  {
   "cell_type": "code",
   "execution_count": 12,
   "metadata": {},
   "outputs": [],
   "source": [
    "dat_pair  = as.matrix(data.frame(x = LETTERS[1:5], y = letters[1:5]))\n",
    "lst_pair  = split(dat_pair, seq(nrow(dat_pair)))"
   ]
  },
  {
   "cell_type": "code",
   "execution_count": 13,
   "metadata": {},
   "outputs": [
    {
     "name": "stdout",
     "output_type": "stream",
     "text": [
      "$`1`\n",
      "$`1`$`1`\n",
      "[1] \"A\" \"a\"\n",
      "\n",
      "$`1`$`2`\n",
      "[1] \"B\" \"b\"\n",
      "\n",
      "$`1`$`3`\n",
      "[1] \"C\" \"c\"\n",
      "\n",
      "\n",
      "$`2`\n",
      "$`2`$`4`\n",
      "[1] \"D\" \"d\"\n",
      "\n",
      "$`2`$`5`\n",
      "[1] \"E\" \"e\"\n",
      "\n",
      "\n"
     ]
    }
   ],
   "source": [
    "lst_chunk = fun_chunk(lst_pair, 2)\n",
    "print(lst_chunk)"
   ]
  },
  {
   "cell_type": "code",
   "execution_count": 14,
   "metadata": {},
   "outputs": [
    {
     "name": "stdout",
     "output_type": "stream",
     "text": [
      "[[1]]\n",
      "[[1]]$`1`\n",
      "[1] \"A\" \"a\"\n",
      "\n",
      "[[1]]$`2`\n",
      "[1] \"B\" \"b\"\n",
      "\n",
      "[[1]]$`3`\n",
      "[1] \"C\" \"c\"\n",
      "\n",
      "[[1]]$`4`\n",
      "[1] \"D\" \"d\"\n",
      "\n",
      "[[1]]$`5`\n",
      "[1] \"E\" \"e\"\n",
      "\n",
      "\n"
     ]
    }
   ],
   "source": [
    "lst_chunk = fun_chunk(lst_pair, 1)\n",
    "print(lst_chunk)"
   ]
  },
  {
   "cell_type": "code",
   "execution_count": 15,
   "metadata": {},
   "outputs": [
    {
     "data": {
      "text/html": [
       "<pre class=language-r><code>.Primitive(\"is.null\")</code></pre>"
      ],
      "text/latex": [
       "\\begin{minted}{r}\n",
       ".Primitive(\"is.null\")\n",
       "\\end{minted}"
      ],
      "text/markdown": [
       "```r\n",
       ".Primitive(\"is.null\")\n",
       "```"
      ],
      "text/plain": [
       "function (x)  .Primitive(\"is.null\")"
      ]
     },
     "metadata": {},
     "output_type": "display_data"
    }
   ],
   "source": [
    "is.null"
   ]
  },
  {
   "cell_type": "code",
   "execution_count": null,
   "metadata": {},
   "outputs": [],
   "source": []
  }
 ],
 "metadata": {
  "kernelspec": {
   "display_name": "R (alex_py3)",
   "language": "R",
   "name": "ir_alex_py3"
  },
  "language_info": {
   "codemirror_mode": "r",
   "file_extension": ".r",
   "mimetype": "text/x-r-source",
   "name": "R",
   "pygments_lexer": "r",
   "version": "3.6.2"
  }
 },
 "nbformat": 4,
 "nbformat_minor": 4
}
