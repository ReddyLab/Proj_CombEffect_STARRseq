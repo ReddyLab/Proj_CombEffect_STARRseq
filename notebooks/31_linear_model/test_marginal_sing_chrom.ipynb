{
 "cells": [
  {
   "cell_type": "code",
   "execution_count": 1,
   "metadata": {},
   "outputs": [
    {
     "name": "stdout",
     "output_type": "stream",
     "text": [
      "[1] \"/home/mount/work\"\n",
      "[1] \"/home/mount/work/out/proj_combeffect\"\n"
     ]
    }
   ],
   "source": [
    "suppressMessages(suppressWarnings(source(\"config_sing.R\")))\n",
    "print(FD_WORK)\n",
    "print(FD_RES)"
   ]
  },
  {
   "cell_type": "code",
   "execution_count": 15,
   "metadata": {},
   "outputs": [],
   "source": [
    "### set global variables\n",
    "TARGET = \"target_PER1\"\n",
    "THRESHOLD_COVER = 10\n",
    "THRESHOLD_MOTIF =  0\n",
    "#THRESHOLD_MOTIF = 10.81\n",
    "\n",
    "SAMPLES = c(\n",
    "    paste0(\"Input\", 1:5, \"_20x\"),\n",
    "    paste0(\"TFX\",   2:5, \"_DMSO\"),\n",
    "    paste0(\"TFX\",   2:5, \"_Dex\"))\n",
    "\n",
    "### set motifs\n",
    "fdiry  = file.path(FD_RES, \"annotation_fragment\", SAMPLES[1], TARGET)\n",
    "fname  = \"*_merge.bed.gz\"\n",
    "fglob  = file.path(fdiry, fname)\n",
    "fpaths = Sys.glob(fglob)\n",
    "MOTIFS = basename(fpaths)\n",
    "\n",
    "### set column names and types\n",
    "CTYPES = c(col_character(), col_integer(), col_integer(), col_integer(),\n",
    "           col_character(), col_integer(), col_integer(),\n",
    "           col_character(), col_double(),  col_integer())\n",
    "CNAMES = c(\"Chrom_Frag\", \"Start_Frag\", \"End_Frag\", \"Count_Frag\",\n",
    "           \"Chrom_MTF\",  \"Start_MTF\",  \"End_MTF\",\n",
    "           \"Motif\", \"Score\", \"Overlap\")"
   ]
  },
  {
   "cell_type": "code",
   "execution_count": 28,
   "metadata": {},
   "outputs": [
    {
     "name": "stdout",
     "output_type": "stream",
     "text": [
      "[1] \"/home/mount/work/out/proj_combeffect/annotation_fragment/Input1_20x/target_PER1/AHR_merge.bed.gz\"\n"
     ]
    }
   ],
   "source": [
    "sam   = SAMPLES[1]\n",
    "fname = MOTIFS[1]\n",
    "\n",
    "fdiry = file.path(FD_RES, \"annotation_fragment\")\n",
    "fpath = file.path(fdiry, sam, TARGET, fname)\n",
    "print(fpath)"
   ]
  },
  {
   "cell_type": "code",
   "execution_count": 45,
   "metadata": {},
   "outputs": [
    {
     "name": "stdout",
     "output_type": "stream",
     "text": [
      "AHR Import /home/mount/work/out/proj_combeffect/annotation_fragment/Input1_20x/target_PER1/AHR_merge.bed.gz \n",
      "AHR Filter Input1_20x 1453-1450 \n"
     ]
    },
    {
     "data": {
      "text/html": [
       "<table class=\"dataframe\">\n",
       "<caption>A tibble: 6 × 13</caption>\n",
       "<thead>\n",
       "\t<tr><th scope=col>Chrom_Frag</th><th scope=col>Start_Frag</th><th scope=col>End_Frag</th><th scope=col>Count_Frag</th><th scope=col>Chrom_MTF</th><th scope=col>Start_MTF</th><th scope=col>End_MTF</th><th scope=col>Motif</th><th scope=col>Score</th><th scope=col>Overlap</th><th scope=col>Sample</th><th scope=col>Length_MTF</th><th scope=col>Length_Dif</th></tr>\n",
       "\t<tr><th scope=col>&lt;chr&gt;</th><th scope=col>&lt;dbl&gt;</th><th scope=col>&lt;dbl&gt;</th><th scope=col>&lt;dbl&gt;</th><th scope=col>&lt;chr&gt;</th><th scope=col>&lt;dbl&gt;</th><th scope=col>&lt;dbl&gt;</th><th scope=col>&lt;chr&gt;</th><th scope=col>&lt;dbl&gt;</th><th scope=col>&lt;dbl&gt;</th><th scope=col>&lt;chr&gt;</th><th scope=col>&lt;dbl&gt;</th><th scope=col>&lt;dbl&gt;</th></tr>\n",
       "</thead>\n",
       "<tbody>\n",
       "\t<tr><td>chr17</td><td>8150289</td><td>8151402</td><td>1</td><td>chr17</td><td>8151284</td><td>8151290</td><td>AHR</td><td>7.9331</td><td>6</td><td>Input1_20x</td><td>6</td><td>0</td></tr>\n",
       "\t<tr><td>chr17</td><td>8150291</td><td>8151379</td><td>1</td><td>chr17</td><td>8151284</td><td>8151290</td><td>AHR</td><td>7.9331</td><td>6</td><td>Input1_20x</td><td>6</td><td>0</td></tr>\n",
       "\t<tr><td>chr17</td><td>8150308</td><td>8151314</td><td>1</td><td>chr17</td><td>8151284</td><td>8151290</td><td>AHR</td><td>7.9331</td><td>6</td><td>Input1_20x</td><td>6</td><td>0</td></tr>\n",
       "\t<tr><td>chr17</td><td>8150320</td><td>8151356</td><td>3</td><td>chr17</td><td>8151284</td><td>8151290</td><td>AHR</td><td>7.9331</td><td>6</td><td>Input1_20x</td><td>6</td><td>0</td></tr>\n",
       "\t<tr><td>chr17</td><td>8150321</td><td>8151356</td><td>2</td><td>chr17</td><td>8151284</td><td>8151290</td><td>AHR</td><td>7.9331</td><td>6</td><td>Input1_20x</td><td>6</td><td>0</td></tr>\n",
       "\t<tr><td>chr17</td><td>8150329</td><td>8151343</td><td>2</td><td>chr17</td><td>8151284</td><td>8151290</td><td>AHR</td><td>7.9331</td><td>6</td><td>Input1_20x</td><td>6</td><td>0</td></tr>\n",
       "</tbody>\n",
       "</table>\n"
      ],
      "text/latex": [
       "A tibble: 6 × 13\n",
       "\\begin{tabular}{lllllllllllll}\n",
       " Chrom\\_Frag & Start\\_Frag & End\\_Frag & Count\\_Frag & Chrom\\_MTF & Start\\_MTF & End\\_MTF & Motif & Score & Overlap & Sample & Length\\_MTF & Length\\_Dif\\\\\n",
       " <chr> & <dbl> & <dbl> & <dbl> & <chr> & <dbl> & <dbl> & <chr> & <dbl> & <dbl> & <chr> & <dbl> & <dbl>\\\\\n",
       "\\hline\n",
       "\t chr17 & 8150289 & 8151402 & 1 & chr17 & 8151284 & 8151290 & AHR & 7.9331 & 6 & Input1\\_20x & 6 & 0\\\\\n",
       "\t chr17 & 8150291 & 8151379 & 1 & chr17 & 8151284 & 8151290 & AHR & 7.9331 & 6 & Input1\\_20x & 6 & 0\\\\\n",
       "\t chr17 & 8150308 & 8151314 & 1 & chr17 & 8151284 & 8151290 & AHR & 7.9331 & 6 & Input1\\_20x & 6 & 0\\\\\n",
       "\t chr17 & 8150320 & 8151356 & 3 & chr17 & 8151284 & 8151290 & AHR & 7.9331 & 6 & Input1\\_20x & 6 & 0\\\\\n",
       "\t chr17 & 8150321 & 8151356 & 2 & chr17 & 8151284 & 8151290 & AHR & 7.9331 & 6 & Input1\\_20x & 6 & 0\\\\\n",
       "\t chr17 & 8150329 & 8151343 & 2 & chr17 & 8151284 & 8151290 & AHR & 7.9331 & 6 & Input1\\_20x & 6 & 0\\\\\n",
       "\\end{tabular}\n"
      ],
      "text/markdown": [
       "\n",
       "A tibble: 6 × 13\n",
       "\n",
       "| Chrom_Frag &lt;chr&gt; | Start_Frag &lt;dbl&gt; | End_Frag &lt;dbl&gt; | Count_Frag &lt;dbl&gt; | Chrom_MTF &lt;chr&gt; | Start_MTF &lt;dbl&gt; | End_MTF &lt;dbl&gt; | Motif &lt;chr&gt; | Score &lt;dbl&gt; | Overlap &lt;dbl&gt; | Sample &lt;chr&gt; | Length_MTF &lt;dbl&gt; | Length_Dif &lt;dbl&gt; |\n",
       "|---|---|---|---|---|---|---|---|---|---|---|---|---|\n",
       "| chr17 | 8150289 | 8151402 | 1 | chr17 | 8151284 | 8151290 | AHR | 7.9331 | 6 | Input1_20x | 6 | 0 |\n",
       "| chr17 | 8150291 | 8151379 | 1 | chr17 | 8151284 | 8151290 | AHR | 7.9331 | 6 | Input1_20x | 6 | 0 |\n",
       "| chr17 | 8150308 | 8151314 | 1 | chr17 | 8151284 | 8151290 | AHR | 7.9331 | 6 | Input1_20x | 6 | 0 |\n",
       "| chr17 | 8150320 | 8151356 | 3 | chr17 | 8151284 | 8151290 | AHR | 7.9331 | 6 | Input1_20x | 6 | 0 |\n",
       "| chr17 | 8150321 | 8151356 | 2 | chr17 | 8151284 | 8151290 | AHR | 7.9331 | 6 | Input1_20x | 6 | 0 |\n",
       "| chr17 | 8150329 | 8151343 | 2 | chr17 | 8151284 | 8151290 | AHR | 7.9331 | 6 | Input1_20x | 6 | 0 |\n",
       "\n"
      ],
      "text/plain": [
       "  Chrom_Frag Start_Frag End_Frag Count_Frag Chrom_MTF Start_MTF End_MTF Motif\n",
       "1 chr17      8150289    8151402  1          chr17     8151284   8151290 AHR  \n",
       "2 chr17      8150291    8151379  1          chr17     8151284   8151290 AHR  \n",
       "3 chr17      8150308    8151314  1          chr17     8151284   8151290 AHR  \n",
       "4 chr17      8150320    8151356  3          chr17     8151284   8151290 AHR  \n",
       "5 chr17      8150321    8151356  2          chr17     8151284   8151290 AHR  \n",
       "6 chr17      8150329    8151343  2          chr17     8151284   8151290 AHR  \n",
       "  Score  Overlap Sample     Length_MTF Length_Dif\n",
       "1 7.9331 6       Input1_20x 6          0         \n",
       "2 7.9331 6       Input1_20x 6          0         \n",
       "3 7.9331 6       Input1_20x 6          0         \n",
       "4 7.9331 6       Input1_20x 6          0         \n",
       "5 7.9331 6       Input1_20x 6          0         \n",
       "6 7.9331 6       Input1_20x 6          0         "
      ]
     },
     "metadata": {},
     "output_type": "display_data"
    }
   ],
   "source": [
    "#lst_dat = lapply(SAMPLES, function(sam){\n",
    "### set path\n",
    "fpath = file.path(fdiry, sam, TARGET, fname)    \n",
    "msg = paste(mtf, \"Import\", fpath)\n",
    "cat(msg, \"\\n\"); flush.console()\n",
    "\n",
    "### import data\n",
    "dat = read_tsv(fpath, col_types=CTYPES, col_names=CNAMES)\n",
    "\n",
    "if (nrow(dat) == 0){\n",
    "    return(NULL)\n",
    "} else {\n",
    "    ###\n",
    "    num1 = nrow(dat)    \n",
    "    dat = dat %>% \n",
    "        mutate(Sample = sam) %>%\n",
    "        mutate(Length_MTF = End_MTF - Start_MTF)  %>%\n",
    "        mutate(Length_Dif = Length_MTF - Overlap) %>% \n",
    "        dplyr::filter(Length_Dif == 0) %>%\n",
    "        dplyr::filter(Score >= THRESHOLD_MOTIF)\n",
    "    num2 = nrow(dat)\n",
    "\n",
    "    ###\n",
    "    msg = paste(num1, num2, sep=\"-\")\n",
    "    msg = paste(mtf, \"Filter\", sam, msg)\n",
    "    cat(msg, \"\\n\"); flush.console()\n",
    "    #return(dat)\n",
    "}\n",
    "#})\n",
    "head(dat)"
   ]
  },
  {
   "cell_type": "code",
   "execution_count": 46,
   "metadata": {},
   "outputs": [
    {
     "data": {
      "text/html": [
       "<table class=\"dataframe\">\n",
       "<caption>A tibble: 6 × 7</caption>\n",
       "<thead>\n",
       "\t<tr><th scope=col>Chrom_Frag</th><th scope=col>Start_Frag</th><th scope=col>End_Frag</th><th scope=col>Count_Frag</th><th scope=col>Motif</th><th scope=col>Sample</th><th scope=col>N_Motif</th></tr>\n",
       "\t<tr><th scope=col>&lt;chr&gt;</th><th scope=col>&lt;dbl&gt;</th><th scope=col>&lt;dbl&gt;</th><th scope=col>&lt;dbl&gt;</th><th scope=col>&lt;chr&gt;</th><th scope=col>&lt;chr&gt;</th><th scope=col>&lt;int&gt;</th></tr>\n",
       "</thead>\n",
       "<tbody>\n",
       "\t<tr><td>chr17</td><td>8150289</td><td>8151402</td><td>1</td><td>AHR</td><td>Input1_20x</td><td>1</td></tr>\n",
       "\t<tr><td>chr17</td><td>8150291</td><td>8151379</td><td>1</td><td>AHR</td><td>Input1_20x</td><td>1</td></tr>\n",
       "\t<tr><td>chr17</td><td>8150308</td><td>8151314</td><td>1</td><td>AHR</td><td>Input1_20x</td><td>1</td></tr>\n",
       "\t<tr><td>chr17</td><td>8150320</td><td>8151356</td><td>3</td><td>AHR</td><td>Input1_20x</td><td>1</td></tr>\n",
       "\t<tr><td>chr17</td><td>8150321</td><td>8151356</td><td>2</td><td>AHR</td><td>Input1_20x</td><td>1</td></tr>\n",
       "\t<tr><td>chr17</td><td>8150329</td><td>8151343</td><td>2</td><td>AHR</td><td>Input1_20x</td><td>1</td></tr>\n",
       "</tbody>\n",
       "</table>\n"
      ],
      "text/latex": [
       "A tibble: 6 × 7\n",
       "\\begin{tabular}{lllllll}\n",
       " Chrom\\_Frag & Start\\_Frag & End\\_Frag & Count\\_Frag & Motif & Sample & N\\_Motif\\\\\n",
       " <chr> & <dbl> & <dbl> & <dbl> & <chr> & <chr> & <int>\\\\\n",
       "\\hline\n",
       "\t chr17 & 8150289 & 8151402 & 1 & AHR & Input1\\_20x & 1\\\\\n",
       "\t chr17 & 8150291 & 8151379 & 1 & AHR & Input1\\_20x & 1\\\\\n",
       "\t chr17 & 8150308 & 8151314 & 1 & AHR & Input1\\_20x & 1\\\\\n",
       "\t chr17 & 8150320 & 8151356 & 3 & AHR & Input1\\_20x & 1\\\\\n",
       "\t chr17 & 8150321 & 8151356 & 2 & AHR & Input1\\_20x & 1\\\\\n",
       "\t chr17 & 8150329 & 8151343 & 2 & AHR & Input1\\_20x & 1\\\\\n",
       "\\end{tabular}\n"
      ],
      "text/markdown": [
       "\n",
       "A tibble: 6 × 7\n",
       "\n",
       "| Chrom_Frag &lt;chr&gt; | Start_Frag &lt;dbl&gt; | End_Frag &lt;dbl&gt; | Count_Frag &lt;dbl&gt; | Motif &lt;chr&gt; | Sample &lt;chr&gt; | N_Motif &lt;int&gt; |\n",
       "|---|---|---|---|---|---|---|\n",
       "| chr17 | 8150289 | 8151402 | 1 | AHR | Input1_20x | 1 |\n",
       "| chr17 | 8150291 | 8151379 | 1 | AHR | Input1_20x | 1 |\n",
       "| chr17 | 8150308 | 8151314 | 1 | AHR | Input1_20x | 1 |\n",
       "| chr17 | 8150320 | 8151356 | 3 | AHR | Input1_20x | 1 |\n",
       "| chr17 | 8150321 | 8151356 | 2 | AHR | Input1_20x | 1 |\n",
       "| chr17 | 8150329 | 8151343 | 2 | AHR | Input1_20x | 1 |\n",
       "\n"
      ],
      "text/plain": [
       "  Chrom_Frag Start_Frag End_Frag Count_Frag Motif Sample     N_Motif\n",
       "1 chr17      8150289    8151402  1          AHR   Input1_20x 1      \n",
       "2 chr17      8150291    8151379  1          AHR   Input1_20x 1      \n",
       "3 chr17      8150308    8151314  1          AHR   Input1_20x 1      \n",
       "4 chr17      8150320    8151356  3          AHR   Input1_20x 1      \n",
       "5 chr17      8150321    8151356  2          AHR   Input1_20x 1      \n",
       "6 chr17      8150329    8151343  2          AHR   Input1_20x 1      "
      ]
     },
     "metadata": {},
     "output_type": "display_data"
    }
   ],
   "source": [
    "### get fragments\n",
    "dat = dat %>% \n",
    "    dplyr::group_by(Chrom_Frag, Start_Frag, End_Frag, Count_Frag, Motif, Sample) %>%\n",
    "    summarize(N_Motif = n(), .groups = 'drop') \n",
    "\n",
    "head(dat)"
   ]
  },
  {
   "cell_type": "code",
   "execution_count": 47,
   "metadata": {},
   "outputs": [
    {
     "data": {
      "text/plain": [
       "\n",
       "  1   2   3 \n",
       "534 119 226 "
      ]
     },
     "metadata": {},
     "output_type": "display_data"
    }
   ],
   "source": [
    "table(dat$N_Motif)"
   ]
  },
  {
   "cell_type": "code",
   "execution_count": 48,
   "metadata": {},
   "outputs": [
    {
     "name": "stderr",
     "output_type": "stream",
     "text": [
      "`summarise()` has grouped output by 'Sample', 'Motif'. You can override using the `.groups` argument.\n",
      "\n"
     ]
    },
    {
     "data": {
      "text/html": [
       "<table class=\"dataframe\">\n",
       "<caption>A grouped_df: 3 × 4</caption>\n",
       "<thead>\n",
       "\t<tr><th scope=col>Sample</th><th scope=col>Motif</th><th scope=col>N_Motif</th><th scope=col>Value</th></tr>\n",
       "\t<tr><th scope=col>&lt;chr&gt;</th><th scope=col>&lt;chr&gt;</th><th scope=col>&lt;int&gt;</th><th scope=col>&lt;dbl&gt;</th></tr>\n",
       "</thead>\n",
       "<tbody>\n",
       "\t<tr><td>Input1_20x</td><td>AHR</td><td>1</td><td>744</td></tr>\n",
       "\t<tr><td>Input1_20x</td><td>AHR</td><td>2</td><td>208</td></tr>\n",
       "\t<tr><td>Input1_20x</td><td>AHR</td><td>3</td><td>352</td></tr>\n",
       "</tbody>\n",
       "</table>\n"
      ],
      "text/latex": [
       "A grouped\\_df: 3 × 4\n",
       "\\begin{tabular}{llll}\n",
       " Sample & Motif & N\\_Motif & Value\\\\\n",
       " <chr> & <chr> & <int> & <dbl>\\\\\n",
       "\\hline\n",
       "\t Input1\\_20x & AHR & 1 & 744\\\\\n",
       "\t Input1\\_20x & AHR & 2 & 208\\\\\n",
       "\t Input1\\_20x & AHR & 3 & 352\\\\\n",
       "\\end{tabular}\n"
      ],
      "text/markdown": [
       "\n",
       "A grouped_df: 3 × 4\n",
       "\n",
       "| Sample &lt;chr&gt; | Motif &lt;chr&gt; | N_Motif &lt;int&gt; | Value &lt;dbl&gt; |\n",
       "|---|---|---|---|\n",
       "| Input1_20x | AHR | 1 | 744 |\n",
       "| Input1_20x | AHR | 2 | 208 |\n",
       "| Input1_20x | AHR | 3 | 352 |\n",
       "\n"
      ],
      "text/plain": [
       "  Sample     Motif N_Motif Value\n",
       "1 Input1_20x AHR   1       744  \n",
       "2 Input1_20x AHR   2       208  \n",
       "3 Input1_20x AHR   3       352  "
      ]
     },
     "metadata": {},
     "output_type": "display_data"
    }
   ],
   "source": [
    "### get count for each sample, number of the motif within a fragment\n",
    "dat = dat %>% group_by(Sample, Motif, N_Motif) %>% summarise(Value = sum(Count_Frag))\n",
    "dat"
   ]
  },
  {
   "cell_type": "code",
   "execution_count": 39,
   "metadata": {},
   "outputs": [
    {
     "data": {
      "text/html": [
       "<table class=\"dataframe\">\n",
       "<caption>A tibble: 6 × 5</caption>\n",
       "<thead>\n",
       "\t<tr><th scope=col>Chrom_Frag</th><th scope=col>Start_Frag</th><th scope=col>End_Frag</th><th scope=col>Count_Frag</th><th scope=col>Sample</th></tr>\n",
       "\t<tr><th scope=col>&lt;chr&gt;</th><th scope=col>&lt;dbl&gt;</th><th scope=col>&lt;dbl&gt;</th><th scope=col>&lt;dbl&gt;</th><th scope=col>&lt;chr&gt;</th></tr>\n",
       "</thead>\n",
       "<tbody>\n",
       "\t<tr><td>chr17</td><td>8150289</td><td>8151402</td><td>1</td><td>Input1_20x</td></tr>\n",
       "\t<tr><td>chr17</td><td>8150291</td><td>8151379</td><td>1</td><td>Input1_20x</td></tr>\n",
       "\t<tr><td>chr17</td><td>8150308</td><td>8151314</td><td>1</td><td>Input1_20x</td></tr>\n",
       "\t<tr><td>chr17</td><td>8150320</td><td>8151356</td><td>3</td><td>Input1_20x</td></tr>\n",
       "\t<tr><td>chr17</td><td>8150321</td><td>8151356</td><td>2</td><td>Input1_20x</td></tr>\n",
       "\t<tr><td>chr17</td><td>8150329</td><td>8151343</td><td>2</td><td>Input1_20x</td></tr>\n",
       "</tbody>\n",
       "</table>\n"
      ],
      "text/latex": [
       "A tibble: 6 × 5\n",
       "\\begin{tabular}{lllll}\n",
       " Chrom\\_Frag & Start\\_Frag & End\\_Frag & Count\\_Frag & Sample\\\\\n",
       " <chr> & <dbl> & <dbl> & <dbl> & <chr>\\\\\n",
       "\\hline\n",
       "\t chr17 & 8150289 & 8151402 & 1 & Input1\\_20x\\\\\n",
       "\t chr17 & 8150291 & 8151379 & 1 & Input1\\_20x\\\\\n",
       "\t chr17 & 8150308 & 8151314 & 1 & Input1\\_20x\\\\\n",
       "\t chr17 & 8150320 & 8151356 & 3 & Input1\\_20x\\\\\n",
       "\t chr17 & 8150321 & 8151356 & 2 & Input1\\_20x\\\\\n",
       "\t chr17 & 8150329 & 8151343 & 2 & Input1\\_20x\\\\\n",
       "\\end{tabular}\n"
      ],
      "text/markdown": [
       "\n",
       "A tibble: 6 × 5\n",
       "\n",
       "| Chrom_Frag &lt;chr&gt; | Start_Frag &lt;dbl&gt; | End_Frag &lt;dbl&gt; | Count_Frag &lt;dbl&gt; | Sample &lt;chr&gt; |\n",
       "|---|---|---|---|---|\n",
       "| chr17 | 8150289 | 8151402 | 1 | Input1_20x |\n",
       "| chr17 | 8150291 | 8151379 | 1 | Input1_20x |\n",
       "| chr17 | 8150308 | 8151314 | 1 | Input1_20x |\n",
       "| chr17 | 8150320 | 8151356 | 3 | Input1_20x |\n",
       "| chr17 | 8150321 | 8151356 | 2 | Input1_20x |\n",
       "| chr17 | 8150329 | 8151343 | 2 | Input1_20x |\n",
       "\n"
      ],
      "text/plain": [
       "  Chrom_Frag Start_Frag End_Frag Count_Frag Sample    \n",
       "1 chr17      8150289    8151402  1          Input1_20x\n",
       "2 chr17      8150291    8151379  1          Input1_20x\n",
       "3 chr17      8150308    8151314  1          Input1_20x\n",
       "4 chr17      8150320    8151356  3          Input1_20x\n",
       "5 chr17      8150321    8151356  2          Input1_20x\n",
       "6 chr17      8150329    8151343  2          Input1_20x"
      ]
     },
     "metadata": {},
     "output_type": "display_data"
    }
   ],
   "source": [
    "### get fragments\n",
    "dat = dat %>% \n",
    "    dplyr::select(Chrom_Frag, Start_Frag, End_Frag, Count_Frag, Sample) %>%\n",
    "    distinct()\n",
    "\n",
    "head(dat)"
   ]
  },
  {
   "cell_type": "code",
   "execution_count": 37,
   "metadata": {},
   "outputs": [
    {
     "name": "stdout",
     "output_type": "stream",
     "text": [
      "AHR Start \n",
      "AHR Import /home/mount/work/out/proj_combeffect/annotation_fragment/Input1_20x/target_PER1/AHR_merge.bed.gz \n",
      "AHR Filter Input1_20x 1453-1450 \n",
      "AHR Import /home/mount/work/out/proj_combeffect/annotation_fragment/Input2_20x/target_PER1/AHR_merge.bed.gz \n",
      "AHR Filter Input2_20x 1486-1481 \n",
      "AHR Import /home/mount/work/out/proj_combeffect/annotation_fragment/Input3_20x/target_PER1/AHR_merge.bed.gz \n",
      "AHR Filter Input3_20x 1421-1417 \n",
      "AHR Import /home/mount/work/out/proj_combeffect/annotation_fragment/Input4_20x/target_PER1/AHR_merge.bed.gz \n",
      "AHR Filter Input4_20x 1509-1505 \n",
      "AHR Import /home/mount/work/out/proj_combeffect/annotation_fragment/Input5_20x/target_PER1/AHR_merge.bed.gz \n",
      "AHR Filter Input5_20x 1359-1353 \n",
      "AHR Import /home/mount/work/out/proj_combeffect/annotation_fragment/TFX2_DMSO/target_PER1/AHR_merge.bed.gz \n",
      "AHR Filter TFX2_DMSO 563-563 \n",
      "AHR Import /home/mount/work/out/proj_combeffect/annotation_fragment/TFX3_DMSO/target_PER1/AHR_merge.bed.gz \n",
      "AHR Filter TFX3_DMSO 389-389 \n",
      "AHR Import /home/mount/work/out/proj_combeffect/annotation_fragment/TFX4_DMSO/target_PER1/AHR_merge.bed.gz \n",
      "AHR Filter TFX4_DMSO 450-443 \n",
      "AHR Import /home/mount/work/out/proj_combeffect/annotation_fragment/TFX5_DMSO/target_PER1/AHR_merge.bed.gz \n",
      "AHR Filter TFX5_DMSO 460-460 \n",
      "AHR Import /home/mount/work/out/proj_combeffect/annotation_fragment/TFX2_Dex/target_PER1/AHR_merge.bed.gz \n",
      "AHR Filter TFX2_Dex 721-721 \n",
      "AHR Import /home/mount/work/out/proj_combeffect/annotation_fragment/TFX3_Dex/target_PER1/AHR_merge.bed.gz \n",
      "AHR Filter TFX3_Dex 391-391 \n",
      "AHR Import /home/mount/work/out/proj_combeffect/annotation_fragment/TFX4_Dex/target_PER1/AHR_merge.bed.gz \n",
      "AHR Filter TFX4_Dex 603-602 \n",
      "AHR Import /home/mount/work/out/proj_combeffect/annotation_fragment/TFX5_Dex/target_PER1/AHR_merge.bed.gz \n",
      "AHR Filter TFX5_Dex 767-766 \n",
      "AHR Total 11541 \n",
      "+++++ Preprocess +++++\n",
      "+++++ Create Count Table +++++\n",
      "\u001b[90m# A tibble: 6 × 2\u001b[39m\n",
      "  Sample     Value\n",
      "  \u001b[3m\u001b[90m<chr>\u001b[39m\u001b[23m      \u001b[3m\u001b[90m<dbl>\u001b[39m\u001b[23m\n",
      "\u001b[90m1\u001b[39m Input1_20x  \u001b[4m1\u001b[24m304\n",
      "\u001b[90m2\u001b[39m Input2_20x  \u001b[4m1\u001b[24m265\n",
      "\u001b[90m3\u001b[39m Input3_20x  \u001b[4m1\u001b[24m252\n",
      "\u001b[90m4\u001b[39m Input4_20x  \u001b[4m1\u001b[24m402\n",
      "\u001b[90m5\u001b[39m Input5_20x  \u001b[4m1\u001b[24m225\n",
      "\u001b[90m6\u001b[39m TFX2_Dex     792\n"
     ]
    }
   ],
   "source": [
    "### loop through each motif to get the marginal effect\n",
    "lst_res = foreach(fname = MOTIFS[1]) %do% {\n",
    "    \n",
    "    ### start message and get the name of motif\n",
    "    mtf = str_remove_all(fname, pattern = \"_merge.bed.gz\")\n",
    "    msg = paste(mtf, \"Start\")\n",
    "    cat(msg, \"\\n\"); flush.console()\n",
    "    \n",
    "    ### import fragment annotation\n",
    "    fdiry  = file.path(FD_RES, \"annotation_fragment\")\n",
    "    lst_dat = lapply(SAMPLES, function(sam){\n",
    "        ### set path\n",
    "        fpath = file.path(fdiry, sam, TARGET, fname)    \n",
    "        msg = paste(mtf, \"Import\", fpath)\n",
    "        cat(msg, \"\\n\"); flush.console()\n",
    "        \n",
    "        ### import data\n",
    "        dat = read_tsv(fpath, col_types=CTYPES, col_names=CNAMES)\n",
    "        if (nrow(dat) == 0){\n",
    "            return(NULL)\n",
    "        } else {\n",
    "            ###\n",
    "            num1 = nrow(dat)    \n",
    "            dat = dat %>% \n",
    "                mutate(Sample = sam) %>%\n",
    "                mutate(Length_MTF = End_MTF - Start_MTF)  %>%\n",
    "                mutate(Length_Dif = Length_MTF - Overlap) %>% \n",
    "                dplyr::filter(Length_Dif == 0) %>%\n",
    "                dplyr::filter(Score >= THRESHOLD_MOTIF)\n",
    "            num2 = nrow(dat)\n",
    "            \n",
    "            ###\n",
    "            msg = paste(num1, num2, sep=\"-\")\n",
    "            msg = paste(mtf, \"Filter\", sam, msg)\n",
    "            cat(msg, \"\\n\"); flush.console()\n",
    "            return(dat)\n",
    "        }\n",
    "    })\n",
    "    \n",
    "    ### arrange data\n",
    "    #dat = bind_rows(lst_dat)\n",
    "    msg = paste(mtf, \"Total\", nrow(dat))\n",
    "    cat(msg, \"\\n\"); flush.console()\n",
    "    \n",
    "    ###################################################\n",
    "    # Preprocess\n",
    "    ###################################################\n",
    "    cat(\"+++++ Preprocess +++++\\n\")\n",
    "    \n",
    "    ### Filter out empty data\n",
    "    #if(nrow(dat) == 0){\n",
    "    #    msg = paste(mtf, \"Skip Empty\")\n",
    "    #    cat(msg, \"\\n\"); flush.console()\n",
    "    #    return(msg)\n",
    "    #}\n",
    "    \n",
    "    ### Filter: fully cover the motif and motif score\n",
    "    #num1 = nrow(dat)\n",
    "    #dat = dat %>% \n",
    "    #    dplyr::filter(Length_Dif == 0) %>%\n",
    "    #    dplyr::filter(Score >= THRESHOLD_MOTIF)\n",
    "    #num2 = nrow(dat)\n",
    "    #msg = paste(num1, num2, sep=\"-\")\n",
    "    #msg = paste(mtf, \"Filter\", msg)\n",
    "    #cat(msg, \"\\n\"); flush.console()\n",
    "    \n",
    "    ### Filter out empty data    \n",
    "    #if(nrow(dat) == 0){\n",
    "    #    msg = paste(mtf, \"Filter Empty\")\n",
    "    #    cat(msg, \"\\n\"); flush.console()\n",
    "    #    return(msg)\n",
    "    #}\n",
    "    \n",
    "    ### Filter: No/Low coverage\n",
    "    #cnt = sum(dat$Count_Frag)\n",
    "    #if(cnt <= THRESHOLD_COVER){\n",
    "    #    msg = paste(mtf, \"Filter Low_Coverage\")\n",
    "    #    cat(msg, \"\\n\"); flush.console()\n",
    "    #    return(msg)\n",
    "    #}\n",
    "    \n",
    "    ###################################################\n",
    "    # Create Count Table\n",
    "    ###################################################\n",
    "    cat(\"+++++ Create Count Table +++++\\n\")\n",
    "    \n",
    "    ### get fragments\n",
    "    dat = dat %>% \n",
    "        dplyr::select(Chrom_Frag, Start_Frag, End_Frag, Count_Frag, Sample) %>%\n",
    "        distinct()\n",
    "\n",
    "    ### get count for each sample\n",
    "    dat = dat %>% group_by(Sample) %>% summarise(Value = sum(Count_Frag))\n",
    "    \n",
    "    ### normalize counts by library size\n",
    "    #dat = dat %>% left_join(dat_lib, by=\"Sample\")\n",
    "    #dat = dat %>%\n",
    "    #    mutate(Norm_Value    = Value / Size) %>% \n",
    "    #    mutate(Lognorm_Value = log10(Value) - log10(Size)) %>%\n",
    "    #    mutate(X = Group)\n",
    "    print(head(dat)); flush.console()\n",
    "    return(mtf)\n",
    "}"
   ]
  },
  {
   "cell_type": "markdown",
   "metadata": {},
   "source": [
    "## linear model"
   ]
  },
  {
   "cell_type": "code",
   "execution_count": 49,
   "metadata": {},
   "outputs": [
    {
     "name": "stdout",
     "output_type": "stream",
     "text": [
      "\n",
      "++++++++++ Import library size ++++++++++\n"
     ]
    }
   ],
   "source": [
    "###################################################\n",
    "# Import library size\n",
    "###################################################\n",
    "cat(\"\\n++++++++++ Import library size ++++++++++\\n\")\n",
    "\n",
    "### Helper function to get\n",
    "get_group = function(idn_sample){\n",
    "    idn = idn_sample\n",
    "    \n",
    "    idn = str_replace(\n",
    "        string = idn, \n",
    "        pattern = \"Input[0-9]\", \n",
    "        replacement = \"Input\")\n",
    "    \n",
    "    idn = str_remove(\n",
    "        string = idn, \n",
    "        pattern = \"_20x\")\n",
    "    \n",
    "    idn = str_replace(\n",
    "        string = idn, \n",
    "        pattern = \"TFX[0-9]_\", \n",
    "        replacement=\"TFX_\")\n",
    "    return(idn)\n",
    "}\n",
    "\n",
    "### set path\n",
    "fdiry = file.path(FD_RES, \"source\")\n",
    "fname = \"library_size.txt\"\n",
    "fpath = file.path(fdiry, fname)\n",
    "\n",
    "### import library size\n",
    "ctypes = c(col_integer(), col_character())\n",
    "cnames = c(\"Size\", \"FPath\")\n",
    "dat_lib = read_tsv(fpath, col_types=ctypes, col_names = cnames)\n",
    "\n",
    "### remove the total size\n",
    "dat_lib = dat_lib %>% dplyr::filter(FPath != \"total\")\n",
    "\n",
    "### summarize info from the file path\n",
    "### stackoverflow: Extract only folder name right before filename from full path\n",
    "dat_lib = dat_lib %>% \n",
    "    mutate(Sample = basename(dirname(FPath))) %>%\n",
    "    mutate(Group = get_group(Sample))\n",
    "dat_lib = dat_lib %>% dplyr::select(Size, Sample, Group)"
   ]
  },
  {
   "cell_type": "code",
   "execution_count": 67,
   "metadata": {},
   "outputs": [
    {
     "data": {
      "text/html": [
       "<style>\n",
       ".list-inline {list-style: none; margin:0; padding: 0}\n",
       ".list-inline>li {display: inline-block}\n",
       ".list-inline>li:not(:last-child)::after {content: \"\\00b7\"; padding: 0 .5ex}\n",
       "</style>\n",
       "<ol class=list-inline><li>'count_AHR.tsv'</li><li>'count_AIRE.tsv'</li><li>'count_AP1_1.tsv'</li><li>'count_AP1_2.tsv'</li><li>'count_BATF.tsv'</li><li>'count_BCL6_1.tsv'</li></ol>\n"
      ],
      "text/latex": [
       "\\begin{enumerate*}\n",
       "\\item 'count\\_AHR.tsv'\n",
       "\\item 'count\\_AIRE.tsv'\n",
       "\\item 'count\\_AP1\\_1.tsv'\n",
       "\\item 'count\\_AP1\\_2.tsv'\n",
       "\\item 'count\\_BATF.tsv'\n",
       "\\item 'count\\_BCL6\\_1.tsv'\n",
       "\\end{enumerate*}\n"
      ],
      "text/markdown": [
       "1. 'count_AHR.tsv'\n",
       "2. 'count_AIRE.tsv'\n",
       "3. 'count_AP1_1.tsv'\n",
       "4. 'count_AP1_2.tsv'\n",
       "5. 'count_BATF.tsv'\n",
       "6. 'count_BCL6_1.tsv'\n",
       "\n",
       "\n"
      ],
      "text/plain": [
       "[1] \"count_AHR.tsv\"    \"count_AIRE.tsv\"   \"count_AP1_1.tsv\"  \"count_AP1_2.tsv\" \n",
       "[5] \"count_BATF.tsv\"   \"count_BCL6_1.tsv\""
      ]
     },
     "metadata": {},
     "output_type": "display_data"
    }
   ],
   "source": [
    "TARGET = \"target_PER1\"\n",
    "\n",
    "fdiry  = file.path(FD_RES, \"model_linear\", FDIRY, TARGET)\n",
    "fname  = \"count_*\"\n",
    "fglob  = file.path(fdiry, fname)\n",
    "fpaths = Sys.glob(fglob)\n",
    "MOTIFS = basename(fpaths)\n",
    "head(MOTIFS)"
   ]
  },
  {
   "cell_type": "code",
   "execution_count": 52,
   "metadata": {},
   "outputs": [
    {
     "name": "stderr",
     "output_type": "stream",
     "text": [
      "\u001b[1m\u001b[1mRows: \u001b[1m\u001b[22m\u001b[34m\u001b[34m39\u001b[34m\u001b[39m \u001b[1m\u001b[1mColumns: \u001b[1m\u001b[22m\u001b[34m\u001b[34m4\u001b[34m\u001b[39m\n",
      "\n",
      "\u001b[36m──\u001b[39m \u001b[1m\u001b[1mColumn specification\u001b[1m\u001b[22m \u001b[36m─────────────────────────────────────────────────────────────────────────────────\u001b[39m\n",
      "\u001b[1mDelimiter:\u001b[22m \"\\t\"\n",
      "\u001b[31mchr\u001b[39m (2): Sample, Motif\n",
      "\u001b[32mdbl\u001b[39m (2): N_Motif, Value\n",
      "\n",
      "\n",
      "\u001b[36mℹ\u001b[39m Use \u001b[30m\u001b[47m\u001b[30m\u001b[47m`spec()`\u001b[47m\u001b[30m\u001b[49m\u001b[39m to retrieve the full column specification for this data.\n",
      "\u001b[36mℹ\u001b[39m Specify the column types or set \u001b[30m\u001b[47m\u001b[30m\u001b[47m`show_col_types = FALSE`\u001b[47m\u001b[30m\u001b[49m\u001b[39m to quiet this message.\n",
      "\n"
     ]
    },
    {
     "data": {
      "text/html": [
       "<table class=\"dataframe\">\n",
       "<caption>A spec_tbl_df: 39 × 4</caption>\n",
       "<thead>\n",
       "\t<tr><th scope=col>Sample</th><th scope=col>Motif</th><th scope=col>N_Motif</th><th scope=col>Value</th></tr>\n",
       "\t<tr><th scope=col>&lt;chr&gt;</th><th scope=col>&lt;chr&gt;</th><th scope=col>&lt;dbl&gt;</th><th scope=col>&lt;dbl&gt;</th></tr>\n",
       "</thead>\n",
       "<tbody>\n",
       "\t<tr><td>Input1_20x</td><td>AHR</td><td>1</td><td>744</td></tr>\n",
       "\t<tr><td>Input1_20x</td><td>AHR</td><td>2</td><td>208</td></tr>\n",
       "\t<tr><td>Input1_20x</td><td>AHR</td><td>3</td><td>352</td></tr>\n",
       "\t<tr><td>Input2_20x</td><td>AHR</td><td>1</td><td>728</td></tr>\n",
       "\t<tr><td>Input2_20x</td><td>AHR</td><td>2</td><td>215</td></tr>\n",
       "\t<tr><td>Input2_20x</td><td>AHR</td><td>3</td><td>322</td></tr>\n",
       "\t<tr><td>Input3_20x</td><td>AHR</td><td>1</td><td>682</td></tr>\n",
       "\t<tr><td>Input3_20x</td><td>AHR</td><td>2</td><td>249</td></tr>\n",
       "\t<tr><td>Input3_20x</td><td>AHR</td><td>3</td><td>321</td></tr>\n",
       "\t<tr><td>Input4_20x</td><td>AHR</td><td>1</td><td>803</td></tr>\n",
       "\t<tr><td>Input4_20x</td><td>AHR</td><td>2</td><td>268</td></tr>\n",
       "\t<tr><td>Input4_20x</td><td>AHR</td><td>3</td><td>331</td></tr>\n",
       "\t<tr><td>Input5_20x</td><td>AHR</td><td>1</td><td>727</td></tr>\n",
       "\t<tr><td>Input5_20x</td><td>AHR</td><td>2</td><td>185</td></tr>\n",
       "\t<tr><td>Input5_20x</td><td>AHR</td><td>3</td><td>313</td></tr>\n",
       "\t<tr><td>TFX2_DMSO </td><td>AHR</td><td>1</td><td>193</td></tr>\n",
       "\t<tr><td>TFX2_DMSO </td><td>AHR</td><td>2</td><td> 59</td></tr>\n",
       "\t<tr><td>TFX2_DMSO </td><td>AHR</td><td>3</td><td>134</td></tr>\n",
       "\t<tr><td>TFX3_DMSO </td><td>AHR</td><td>1</td><td>195</td></tr>\n",
       "\t<tr><td>TFX3_DMSO </td><td>AHR</td><td>2</td><td> 68</td></tr>\n",
       "\t<tr><td>TFX3_DMSO </td><td>AHR</td><td>3</td><td> 59</td></tr>\n",
       "\t<tr><td>TFX4_DMSO </td><td>AHR</td><td>1</td><td>130</td></tr>\n",
       "\t<tr><td>TFX4_DMSO </td><td>AHR</td><td>2</td><td> 73</td></tr>\n",
       "\t<tr><td>TFX4_DMSO </td><td>AHR</td><td>3</td><td> 99</td></tr>\n",
       "\t<tr><td>TFX5_DMSO </td><td>AHR</td><td>1</td><td>219</td></tr>\n",
       "\t<tr><td>TFX5_DMSO </td><td>AHR</td><td>2</td><td> 73</td></tr>\n",
       "\t<tr><td>TFX5_DMSO </td><td>AHR</td><td>3</td><td> 72</td></tr>\n",
       "\t<tr><td>TFX2_Dex  </td><td>AHR</td><td>1</td><td>646</td></tr>\n",
       "\t<tr><td>TFX2_Dex  </td><td>AHR</td><td>2</td><td> 80</td></tr>\n",
       "\t<tr><td>TFX2_Dex  </td><td>AHR</td><td>3</td><td> 66</td></tr>\n",
       "\t<tr><td>TFX3_Dex  </td><td>AHR</td><td>1</td><td>326</td></tr>\n",
       "\t<tr><td>TFX3_Dex  </td><td>AHR</td><td>2</td><td> 51</td></tr>\n",
       "\t<tr><td>TFX3_Dex  </td><td>AHR</td><td>3</td><td> 32</td></tr>\n",
       "\t<tr><td>TFX4_Dex  </td><td>AHR</td><td>1</td><td>502</td></tr>\n",
       "\t<tr><td>TFX4_Dex  </td><td>AHR</td><td>2</td><td> 58</td></tr>\n",
       "\t<tr><td>TFX4_Dex  </td><td>AHR</td><td>3</td><td> 52</td></tr>\n",
       "\t<tr><td>TFX5_Dex  </td><td>AHR</td><td>1</td><td>647</td></tr>\n",
       "\t<tr><td>TFX5_Dex  </td><td>AHR</td><td>2</td><td> 52</td></tr>\n",
       "\t<tr><td>TFX5_Dex  </td><td>AHR</td><td>3</td><td>102</td></tr>\n",
       "</tbody>\n",
       "</table>\n"
      ],
      "text/latex": [
       "A spec\\_tbl\\_df: 39 × 4\n",
       "\\begin{tabular}{llll}\n",
       " Sample & Motif & N\\_Motif & Value\\\\\n",
       " <chr> & <chr> & <dbl> & <dbl>\\\\\n",
       "\\hline\n",
       "\t Input1\\_20x & AHR & 1 & 744\\\\\n",
       "\t Input1\\_20x & AHR & 2 & 208\\\\\n",
       "\t Input1\\_20x & AHR & 3 & 352\\\\\n",
       "\t Input2\\_20x & AHR & 1 & 728\\\\\n",
       "\t Input2\\_20x & AHR & 2 & 215\\\\\n",
       "\t Input2\\_20x & AHR & 3 & 322\\\\\n",
       "\t Input3\\_20x & AHR & 1 & 682\\\\\n",
       "\t Input3\\_20x & AHR & 2 & 249\\\\\n",
       "\t Input3\\_20x & AHR & 3 & 321\\\\\n",
       "\t Input4\\_20x & AHR & 1 & 803\\\\\n",
       "\t Input4\\_20x & AHR & 2 & 268\\\\\n",
       "\t Input4\\_20x & AHR & 3 & 331\\\\\n",
       "\t Input5\\_20x & AHR & 1 & 727\\\\\n",
       "\t Input5\\_20x & AHR & 2 & 185\\\\\n",
       "\t Input5\\_20x & AHR & 3 & 313\\\\\n",
       "\t TFX2\\_DMSO  & AHR & 1 & 193\\\\\n",
       "\t TFX2\\_DMSO  & AHR & 2 &  59\\\\\n",
       "\t TFX2\\_DMSO  & AHR & 3 & 134\\\\\n",
       "\t TFX3\\_DMSO  & AHR & 1 & 195\\\\\n",
       "\t TFX3\\_DMSO  & AHR & 2 &  68\\\\\n",
       "\t TFX3\\_DMSO  & AHR & 3 &  59\\\\\n",
       "\t TFX4\\_DMSO  & AHR & 1 & 130\\\\\n",
       "\t TFX4\\_DMSO  & AHR & 2 &  73\\\\\n",
       "\t TFX4\\_DMSO  & AHR & 3 &  99\\\\\n",
       "\t TFX5\\_DMSO  & AHR & 1 & 219\\\\\n",
       "\t TFX5\\_DMSO  & AHR & 2 &  73\\\\\n",
       "\t TFX5\\_DMSO  & AHR & 3 &  72\\\\\n",
       "\t TFX2\\_Dex   & AHR & 1 & 646\\\\\n",
       "\t TFX2\\_Dex   & AHR & 2 &  80\\\\\n",
       "\t TFX2\\_Dex   & AHR & 3 &  66\\\\\n",
       "\t TFX3\\_Dex   & AHR & 1 & 326\\\\\n",
       "\t TFX3\\_Dex   & AHR & 2 &  51\\\\\n",
       "\t TFX3\\_Dex   & AHR & 3 &  32\\\\\n",
       "\t TFX4\\_Dex   & AHR & 1 & 502\\\\\n",
       "\t TFX4\\_Dex   & AHR & 2 &  58\\\\\n",
       "\t TFX4\\_Dex   & AHR & 3 &  52\\\\\n",
       "\t TFX5\\_Dex   & AHR & 1 & 647\\\\\n",
       "\t TFX5\\_Dex   & AHR & 2 &  52\\\\\n",
       "\t TFX5\\_Dex   & AHR & 3 & 102\\\\\n",
       "\\end{tabular}\n"
      ],
      "text/markdown": [
       "\n",
       "A spec_tbl_df: 39 × 4\n",
       "\n",
       "| Sample &lt;chr&gt; | Motif &lt;chr&gt; | N_Motif &lt;dbl&gt; | Value &lt;dbl&gt; |\n",
       "|---|---|---|---|\n",
       "| Input1_20x | AHR | 1 | 744 |\n",
       "| Input1_20x | AHR | 2 | 208 |\n",
       "| Input1_20x | AHR | 3 | 352 |\n",
       "| Input2_20x | AHR | 1 | 728 |\n",
       "| Input2_20x | AHR | 2 | 215 |\n",
       "| Input2_20x | AHR | 3 | 322 |\n",
       "| Input3_20x | AHR | 1 | 682 |\n",
       "| Input3_20x | AHR | 2 | 249 |\n",
       "| Input3_20x | AHR | 3 | 321 |\n",
       "| Input4_20x | AHR | 1 | 803 |\n",
       "| Input4_20x | AHR | 2 | 268 |\n",
       "| Input4_20x | AHR | 3 | 331 |\n",
       "| Input5_20x | AHR | 1 | 727 |\n",
       "| Input5_20x | AHR | 2 | 185 |\n",
       "| Input5_20x | AHR | 3 | 313 |\n",
       "| TFX2_DMSO  | AHR | 1 | 193 |\n",
       "| TFX2_DMSO  | AHR | 2 |  59 |\n",
       "| TFX2_DMSO  | AHR | 3 | 134 |\n",
       "| TFX3_DMSO  | AHR | 1 | 195 |\n",
       "| TFX3_DMSO  | AHR | 2 |  68 |\n",
       "| TFX3_DMSO  | AHR | 3 |  59 |\n",
       "| TFX4_DMSO  | AHR | 1 | 130 |\n",
       "| TFX4_DMSO  | AHR | 2 |  73 |\n",
       "| TFX4_DMSO  | AHR | 3 |  99 |\n",
       "| TFX5_DMSO  | AHR | 1 | 219 |\n",
       "| TFX5_DMSO  | AHR | 2 |  73 |\n",
       "| TFX5_DMSO  | AHR | 3 |  72 |\n",
       "| TFX2_Dex   | AHR | 1 | 646 |\n",
       "| TFX2_Dex   | AHR | 2 |  80 |\n",
       "| TFX2_Dex   | AHR | 3 |  66 |\n",
       "| TFX3_Dex   | AHR | 1 | 326 |\n",
       "| TFX3_Dex   | AHR | 2 |  51 |\n",
       "| TFX3_Dex   | AHR | 3 |  32 |\n",
       "| TFX4_Dex   | AHR | 1 | 502 |\n",
       "| TFX4_Dex   | AHR | 2 |  58 |\n",
       "| TFX4_Dex   | AHR | 3 |  52 |\n",
       "| TFX5_Dex   | AHR | 1 | 647 |\n",
       "| TFX5_Dex   | AHR | 2 |  52 |\n",
       "| TFX5_Dex   | AHR | 3 | 102 |\n",
       "\n"
      ],
      "text/plain": [
       "   Sample     Motif N_Motif Value\n",
       "1  Input1_20x AHR   1       744  \n",
       "2  Input1_20x AHR   2       208  \n",
       "3  Input1_20x AHR   3       352  \n",
       "4  Input2_20x AHR   1       728  \n",
       "5  Input2_20x AHR   2       215  \n",
       "6  Input2_20x AHR   3       322  \n",
       "7  Input3_20x AHR   1       682  \n",
       "8  Input3_20x AHR   2       249  \n",
       "9  Input3_20x AHR   3       321  \n",
       "10 Input4_20x AHR   1       803  \n",
       "11 Input4_20x AHR   2       268  \n",
       "12 Input4_20x AHR   3       331  \n",
       "13 Input5_20x AHR   1       727  \n",
       "14 Input5_20x AHR   2       185  \n",
       "15 Input5_20x AHR   3       313  \n",
       "16 TFX2_DMSO  AHR   1       193  \n",
       "17 TFX2_DMSO  AHR   2        59  \n",
       "18 TFX2_DMSO  AHR   3       134  \n",
       "19 TFX3_DMSO  AHR   1       195  \n",
       "20 TFX3_DMSO  AHR   2        68  \n",
       "21 TFX3_DMSO  AHR   3        59  \n",
       "22 TFX4_DMSO  AHR   1       130  \n",
       "23 TFX4_DMSO  AHR   2        73  \n",
       "24 TFX4_DMSO  AHR   3        99  \n",
       "25 TFX5_DMSO  AHR   1       219  \n",
       "26 TFX5_DMSO  AHR   2        73  \n",
       "27 TFX5_DMSO  AHR   3        72  \n",
       "28 TFX2_Dex   AHR   1       646  \n",
       "29 TFX2_Dex   AHR   2        80  \n",
       "30 TFX2_Dex   AHR   3        66  \n",
       "31 TFX3_Dex   AHR   1       326  \n",
       "32 TFX3_Dex   AHR   2        51  \n",
       "33 TFX3_Dex   AHR   3        32  \n",
       "34 TFX4_Dex   AHR   1       502  \n",
       "35 TFX4_Dex   AHR   2        58  \n",
       "36 TFX4_Dex   AHR   3        52  \n",
       "37 TFX5_Dex   AHR   1       647  \n",
       "38 TFX5_Dex   AHR   2        52  \n",
       "39 TFX5_Dex   AHR   3       102  "
      ]
     },
     "metadata": {},
     "output_type": "display_data"
    }
   ],
   "source": [
    "TARGET = \"target_PER1\"\n",
    "FDIRY  = \"marginal_filter00_input20x\"\n",
    "fdiry  = file.path(FD_RES, \"model_linear\", FDIRY, TARGET)\n",
    "fname  = \"count_AHR.tsv\"\n",
    "fpath  = file.path(fdiry, fname)\n",
    "\n",
    "dat = read_tsv(fpath)\n",
    "dat"
   ]
  },
  {
   "cell_type": "code",
   "execution_count": 55,
   "metadata": {},
   "outputs": [
    {
     "data": {
      "text/html": [
       "<table class=\"dataframe\">\n",
       "<caption>A tibble: 13 × 7</caption>\n",
       "<thead>\n",
       "\t<tr><th scope=col>Sample</th><th scope=col>Value</th><th scope=col>Size</th><th scope=col>Group</th><th scope=col>Norm_Value</th><th scope=col>Lognorm_Value</th><th scope=col>X</th></tr>\n",
       "\t<tr><th scope=col>&lt;chr&gt;</th><th scope=col>&lt;dbl&gt;</th><th scope=col>&lt;dbl&gt;</th><th scope=col>&lt;chr&gt;</th><th scope=col>&lt;dbl&gt;</th><th scope=col>&lt;dbl&gt;</th><th scope=col>&lt;chr&gt;</th></tr>\n",
       "</thead>\n",
       "<tbody>\n",
       "\t<tr><td>Input1_20x</td><td>1304</td><td>371718546</td><td>Input   </td><td>3.508031e-06</td><td>-5.454937</td><td>Input   </td></tr>\n",
       "\t<tr><td>Input2_20x</td><td>1265</td><td>347635732</td><td>Input   </td><td>3.638866e-06</td><td>-5.439034</td><td>Input   </td></tr>\n",
       "\t<tr><td>Input3_20x</td><td>1252</td><td>349994051</td><td>Input   </td><td>3.577204e-06</td><td>-5.446456</td><td>Input   </td></tr>\n",
       "\t<tr><td>Input4_20x</td><td>1402</td><td>413508358</td><td>Input   </td><td>3.390500e-06</td><td>-5.469736</td><td>Input   </td></tr>\n",
       "\t<tr><td>Input5_20x</td><td>1225</td><td>341110487</td><td>Input   </td><td>3.591212e-06</td><td>-5.444759</td><td>Input   </td></tr>\n",
       "\t<tr><td>TFX2_Dex  </td><td> 792</td><td> 45413539</td><td>TFX_Dex </td><td>1.743973e-05</td><td>-4.758460</td><td>TFX_Dex </td></tr>\n",
       "\t<tr><td>TFX2_DMSO </td><td> 386</td><td> 43844606</td><td>TFX_DMSO</td><td>8.803820e-06</td><td>-5.055329</td><td>TFX_DMSO</td></tr>\n",
       "\t<tr><td>TFX3_Dex  </td><td> 409</td><td> 26400671</td><td>TFX_Dex </td><td>1.549203e-05</td><td>-4.809892</td><td>TFX_Dex </td></tr>\n",
       "\t<tr><td>TFX3_DMSO </td><td> 322</td><td> 26819569</td><td>TFX_DMSO</td><td>1.200616e-05</td><td>-4.920596</td><td>TFX_DMSO</td></tr>\n",
       "\t<tr><td>TFX4_Dex  </td><td> 612</td><td> 34590086</td><td>TFX_Dex </td><td>1.769293e-05</td><td>-4.752200</td><td>TFX_Dex </td></tr>\n",
       "\t<tr><td>TFX4_DMSO </td><td> 302</td><td> 30951533</td><td>TFX_DMSO</td><td>9.757190e-06</td><td>-5.010675</td><td>TFX_DMSO</td></tr>\n",
       "\t<tr><td>TFX5_Dex  </td><td> 801</td><td> 42310249</td><td>TFX_Dex </td><td>1.893158e-05</td><td>-4.722813</td><td>TFX_Dex </td></tr>\n",
       "\t<tr><td>TFX5_DMSO </td><td> 364</td><td> 28859151</td><td>TFX_DMSO</td><td>1.261298e-05</td><td>-4.899182</td><td>TFX_DMSO</td></tr>\n",
       "</tbody>\n",
       "</table>\n"
      ],
      "text/latex": [
       "A tibble: 13 × 7\n",
       "\\begin{tabular}{lllllll}\n",
       " Sample & Value & Size & Group & Norm\\_Value & Lognorm\\_Value & X\\\\\n",
       " <chr> & <dbl> & <dbl> & <chr> & <dbl> & <dbl> & <chr>\\\\\n",
       "\\hline\n",
       "\t Input1\\_20x & 1304 & 371718546 & Input    & 3.508031e-06 & -5.454937 & Input   \\\\\n",
       "\t Input2\\_20x & 1265 & 347635732 & Input    & 3.638866e-06 & -5.439034 & Input   \\\\\n",
       "\t Input3\\_20x & 1252 & 349994051 & Input    & 3.577204e-06 & -5.446456 & Input   \\\\\n",
       "\t Input4\\_20x & 1402 & 413508358 & Input    & 3.390500e-06 & -5.469736 & Input   \\\\\n",
       "\t Input5\\_20x & 1225 & 341110487 & Input    & 3.591212e-06 & -5.444759 & Input   \\\\\n",
       "\t TFX2\\_Dex   &  792 &  45413539 & TFX\\_Dex  & 1.743973e-05 & -4.758460 & TFX\\_Dex \\\\\n",
       "\t TFX2\\_DMSO  &  386 &  43844606 & TFX\\_DMSO & 8.803820e-06 & -5.055329 & TFX\\_DMSO\\\\\n",
       "\t TFX3\\_Dex   &  409 &  26400671 & TFX\\_Dex  & 1.549203e-05 & -4.809892 & TFX\\_Dex \\\\\n",
       "\t TFX3\\_DMSO  &  322 &  26819569 & TFX\\_DMSO & 1.200616e-05 & -4.920596 & TFX\\_DMSO\\\\\n",
       "\t TFX4\\_Dex   &  612 &  34590086 & TFX\\_Dex  & 1.769293e-05 & -4.752200 & TFX\\_Dex \\\\\n",
       "\t TFX4\\_DMSO  &  302 &  30951533 & TFX\\_DMSO & 9.757190e-06 & -5.010675 & TFX\\_DMSO\\\\\n",
       "\t TFX5\\_Dex   &  801 &  42310249 & TFX\\_Dex  & 1.893158e-05 & -4.722813 & TFX\\_Dex \\\\\n",
       "\t TFX5\\_DMSO  &  364 &  28859151 & TFX\\_DMSO & 1.261298e-05 & -4.899182 & TFX\\_DMSO\\\\\n",
       "\\end{tabular}\n"
      ],
      "text/markdown": [
       "\n",
       "A tibble: 13 × 7\n",
       "\n",
       "| Sample &lt;chr&gt; | Value &lt;dbl&gt; | Size &lt;dbl&gt; | Group &lt;chr&gt; | Norm_Value &lt;dbl&gt; | Lognorm_Value &lt;dbl&gt; | X &lt;chr&gt; |\n",
       "|---|---|---|---|---|---|---|\n",
       "| Input1_20x | 1304 | 371718546 | Input    | 3.508031e-06 | -5.454937 | Input    |\n",
       "| Input2_20x | 1265 | 347635732 | Input    | 3.638866e-06 | -5.439034 | Input    |\n",
       "| Input3_20x | 1252 | 349994051 | Input    | 3.577204e-06 | -5.446456 | Input    |\n",
       "| Input4_20x | 1402 | 413508358 | Input    | 3.390500e-06 | -5.469736 | Input    |\n",
       "| Input5_20x | 1225 | 341110487 | Input    | 3.591212e-06 | -5.444759 | Input    |\n",
       "| TFX2_Dex   |  792 |  45413539 | TFX_Dex  | 1.743973e-05 | -4.758460 | TFX_Dex  |\n",
       "| TFX2_DMSO  |  386 |  43844606 | TFX_DMSO | 8.803820e-06 | -5.055329 | TFX_DMSO |\n",
       "| TFX3_Dex   |  409 |  26400671 | TFX_Dex  | 1.549203e-05 | -4.809892 | TFX_Dex  |\n",
       "| TFX3_DMSO  |  322 |  26819569 | TFX_DMSO | 1.200616e-05 | -4.920596 | TFX_DMSO |\n",
       "| TFX4_Dex   |  612 |  34590086 | TFX_Dex  | 1.769293e-05 | -4.752200 | TFX_Dex  |\n",
       "| TFX4_DMSO  |  302 |  30951533 | TFX_DMSO | 9.757190e-06 | -5.010675 | TFX_DMSO |\n",
       "| TFX5_Dex   |  801 |  42310249 | TFX_Dex  | 1.893158e-05 | -4.722813 | TFX_Dex  |\n",
       "| TFX5_DMSO  |  364 |  28859151 | TFX_DMSO | 1.261298e-05 | -4.899182 | TFX_DMSO |\n",
       "\n"
      ],
      "text/plain": [
       "   Sample     Value Size      Group    Norm_Value   Lognorm_Value X       \n",
       "1  Input1_20x 1304  371718546 Input    3.508031e-06 -5.454937     Input   \n",
       "2  Input2_20x 1265  347635732 Input    3.638866e-06 -5.439034     Input   \n",
       "3  Input3_20x 1252  349994051 Input    3.577204e-06 -5.446456     Input   \n",
       "4  Input4_20x 1402  413508358 Input    3.390500e-06 -5.469736     Input   \n",
       "5  Input5_20x 1225  341110487 Input    3.591212e-06 -5.444759     Input   \n",
       "6  TFX2_Dex    792   45413539 TFX_Dex  1.743973e-05 -4.758460     TFX_Dex \n",
       "7  TFX2_DMSO   386   43844606 TFX_DMSO 8.803820e-06 -5.055329     TFX_DMSO\n",
       "8  TFX3_Dex    409   26400671 TFX_Dex  1.549203e-05 -4.809892     TFX_Dex \n",
       "9  TFX3_DMSO   322   26819569 TFX_DMSO 1.200616e-05 -4.920596     TFX_DMSO\n",
       "10 TFX4_Dex    612   34590086 TFX_Dex  1.769293e-05 -4.752200     TFX_Dex \n",
       "11 TFX4_DMSO   302   30951533 TFX_DMSO 9.757190e-06 -5.010675     TFX_DMSO\n",
       "12 TFX5_Dex    801   42310249 TFX_Dex  1.893158e-05 -4.722813     TFX_Dex \n",
       "13 TFX5_DMSO   364   28859151 TFX_DMSO 1.261298e-05 -4.899182     TFX_DMSO"
      ]
     },
     "metadata": {},
     "output_type": "display_data"
    }
   ],
   "source": [
    "dat = dat %>% group_by(Sample) %>% summarize(Value = sum(Value))\n",
    "### normalize counts by library size\n",
    "dat = dat %>% left_join(dat_lib, by=\"Sample\")\n",
    "dat = dat %>%\n",
    "    mutate(Norm_Value    = Value / Size) %>% \n",
    "    mutate(Lognorm_Value = log2(Value) - log2(Size)) %>%\n",
    "    mutate(X = Group)\n",
    "dat"
   ]
  },
  {
   "cell_type": "code",
   "execution_count": 64,
   "metadata": {},
   "outputs": [],
   "source": [
    "### create design matrix\n",
    "idxs  = c(\"Input\", \"TFX_DMSO\", \"TFX_Dex\")\n",
    "dat$X = factor(dat$X, levels=idxs)\n",
    "X = model.matrix(~X, dat)\n",
    "X[,\"XTFX_DMSO\"] = X[,\"XTFX_DMSO\"] + X[,\"XTFX_Dex\"]\n",
    "\n",
    "y = dat$Norm_Value    \n",
    "fit = lm(y ~ X + 0)"
   ]
  },
  {
   "cell_type": "code",
   "execution_count": 65,
   "metadata": {},
   "outputs": [
    {
     "data": {
      "text/html": [
       "<style>\n",
       ".list-inline {list-style: none; margin:0; padding: 0}\n",
       ".list-inline>li {display: inline-block}\n",
       ".list-inline>li:not(:last-child)::after {content: \"\\00b7\"; padding: 0 .5ex}\n",
       "</style>\n",
       "<ol class=list-inline><li>'coefficients'</li><li>'residuals'</li><li>'effects'</li><li>'rank'</li><li>'fitted.values'</li><li>'assign'</li><li>'qr'</li><li>'df.residual'</li><li>'xlevels'</li><li>'call'</li><li>'terms'</li><li>'model'</li><li>'x'</li><li>'y'</li></ol>\n"
      ],
      "text/latex": [
       "\\begin{enumerate*}\n",
       "\\item 'coefficients'\n",
       "\\item 'residuals'\n",
       "\\item 'effects'\n",
       "\\item 'rank'\n",
       "\\item 'fitted.values'\n",
       "\\item 'assign'\n",
       "\\item 'qr'\n",
       "\\item 'df.residual'\n",
       "\\item 'xlevels'\n",
       "\\item 'call'\n",
       "\\item 'terms'\n",
       "\\item 'model'\n",
       "\\item 'x'\n",
       "\\item 'y'\n",
       "\\end{enumerate*}\n"
      ],
      "text/markdown": [
       "1. 'coefficients'\n",
       "2. 'residuals'\n",
       "3. 'effects'\n",
       "4. 'rank'\n",
       "5. 'fitted.values'\n",
       "6. 'assign'\n",
       "7. 'qr'\n",
       "8. 'df.residual'\n",
       "9. 'xlevels'\n",
       "10. 'call'\n",
       "11. 'terms'\n",
       "12. 'model'\n",
       "13. 'x'\n",
       "14. 'y'\n",
       "\n",
       "\n"
      ],
      "text/plain": [
       " [1] \"coefficients\"  \"residuals\"     \"effects\"       \"rank\"         \n",
       " [5] \"fitted.values\" \"assign\"        \"qr\"            \"df.residual\"  \n",
       " [9] \"xlevels\"       \"call\"          \"terms\"         \"model\"        \n",
       "[13] \"x\"             \"y\"            "
      ]
     },
     "metadata": {},
     "output_type": "display_data"
    }
   ],
   "source": [
    "names(fit)"
   ]
  },
  {
   "cell_type": "code",
   "execution_count": 62,
   "metadata": {},
   "outputs": [
    {
     "data": {
      "text/html": [
       "<table class=\"dataframe\">\n",
       "<caption>A matrix: 13 × 3 of type dbl</caption>\n",
       "<thead>\n",
       "\t<tr><th></th><th scope=col>X(Intercept)</th><th scope=col>XXTFX_DMSO</th><th scope=col>XXTFX_Dex</th></tr>\n",
       "</thead>\n",
       "<tbody>\n",
       "\t<tr><th scope=row>1</th><td>1</td><td>0</td><td>0</td></tr>\n",
       "\t<tr><th scope=row>2</th><td>1</td><td>0</td><td>0</td></tr>\n",
       "\t<tr><th scope=row>3</th><td>1</td><td>0</td><td>0</td></tr>\n",
       "\t<tr><th scope=row>4</th><td>1</td><td>0</td><td>0</td></tr>\n",
       "\t<tr><th scope=row>5</th><td>1</td><td>0</td><td>0</td></tr>\n",
       "\t<tr><th scope=row>6</th><td>1</td><td>1</td><td>1</td></tr>\n",
       "\t<tr><th scope=row>7</th><td>1</td><td>1</td><td>0</td></tr>\n",
       "\t<tr><th scope=row>8</th><td>1</td><td>1</td><td>1</td></tr>\n",
       "\t<tr><th scope=row>9</th><td>1</td><td>1</td><td>0</td></tr>\n",
       "\t<tr><th scope=row>10</th><td>1</td><td>1</td><td>1</td></tr>\n",
       "\t<tr><th scope=row>11</th><td>1</td><td>1</td><td>0</td></tr>\n",
       "\t<tr><th scope=row>12</th><td>1</td><td>1</td><td>1</td></tr>\n",
       "\t<tr><th scope=row>13</th><td>1</td><td>1</td><td>0</td></tr>\n",
       "</tbody>\n",
       "</table>\n"
      ],
      "text/latex": [
       "A matrix: 13 × 3 of type dbl\n",
       "\\begin{tabular}{r|lll}\n",
       "  & X(Intercept) & XXTFX\\_DMSO & XXTFX\\_Dex\\\\\n",
       "\\hline\n",
       "\t1 & 1 & 0 & 0\\\\\n",
       "\t2 & 1 & 0 & 0\\\\\n",
       "\t3 & 1 & 0 & 0\\\\\n",
       "\t4 & 1 & 0 & 0\\\\\n",
       "\t5 & 1 & 0 & 0\\\\\n",
       "\t6 & 1 & 1 & 1\\\\\n",
       "\t7 & 1 & 1 & 0\\\\\n",
       "\t8 & 1 & 1 & 1\\\\\n",
       "\t9 & 1 & 1 & 0\\\\\n",
       "\t10 & 1 & 1 & 1\\\\\n",
       "\t11 & 1 & 1 & 0\\\\\n",
       "\t12 & 1 & 1 & 1\\\\\n",
       "\t13 & 1 & 1 & 0\\\\\n",
       "\\end{tabular}\n"
      ],
      "text/markdown": [
       "\n",
       "A matrix: 13 × 3 of type dbl\n",
       "\n",
       "| <!--/--> | X(Intercept) | XXTFX_DMSO | XXTFX_Dex |\n",
       "|---|---|---|---|\n",
       "| 1 | 1 | 0 | 0 |\n",
       "| 2 | 1 | 0 | 0 |\n",
       "| 3 | 1 | 0 | 0 |\n",
       "| 4 | 1 | 0 | 0 |\n",
       "| 5 | 1 | 0 | 0 |\n",
       "| 6 | 1 | 1 | 1 |\n",
       "| 7 | 1 | 1 | 0 |\n",
       "| 8 | 1 | 1 | 1 |\n",
       "| 9 | 1 | 1 | 0 |\n",
       "| 10 | 1 | 1 | 1 |\n",
       "| 11 | 1 | 1 | 0 |\n",
       "| 12 | 1 | 1 | 1 |\n",
       "| 13 | 1 | 1 | 0 |\n",
       "\n"
      ],
      "text/plain": [
       "   X(Intercept) XXTFX_DMSO XXTFX_Dex\n",
       "1  1            0          0        \n",
       "2  1            0          0        \n",
       "3  1            0          0        \n",
       "4  1            0          0        \n",
       "5  1            0          0        \n",
       "6  1            1          1        \n",
       "7  1            1          0        \n",
       "8  1            1          1        \n",
       "9  1            1          0        \n",
       "10 1            1          1        \n",
       "11 1            1          0        \n",
       "12 1            1          1        \n",
       "13 1            1          0        "
      ]
     },
     "metadata": {},
     "output_type": "display_data"
    }
   ],
   "source": [
    "fit$x"
   ]
  },
  {
   "cell_type": "code",
   "execution_count": 56,
   "metadata": {},
   "outputs": [
    {
     "ename": "ERROR",
     "evalue": "Error in parse(text = x, srcfile = src): <text>:19:5: unexpected '}'\n18:     y = dat$Norm_Value\n19:     }\n        ^\n",
     "output_type": "error",
     "traceback": [
      "Error in parse(text = x, srcfile = src): <text>:19:5: unexpected '}'\n18:     y = dat$Norm_Value\n19:     }\n        ^\nTraceback:\n"
     ]
    }
   ],
   "source": [
    " ###################################################\n",
    "    # Analyze w/ Linear Model\n",
    "    ###################################################\n",
    "    #cat(\"+++++ Analyze w/ Linear Model +++++\\n\")\n",
    "    \n",
    "    ### create design matrix\n",
    "    idxs  = c(\"Input\", \"TFX_DMSO\", \"TFX_Dex\")\n",
    "    dat$X = factor(dat$X, levels=idxs)\n",
    "    X = model.matrix(~X, dat)\n",
    "\n",
    "    ### setup design matrix\n",
    "    X[,\"XTFX_DMSO\"] = X[,\"XTFX_DMSO\"] + X[,\"XTFX_Dex\"]\n",
    "    \n",
    "    ### fit model and get the summary\n",
    "    \n",
    "    y = dat$Norm_Value    \n",
    "    fit = lm(y ~ X + 0)\n",
    "        \n",
    "    y = dat$Lognorm_Value\n",
    "    fit_log = lm(y ~ X + 0)\n",
    "    \n",
    "\n",
    "    ### arrange\n",
    "    lst = list()\n",
    "    lst$cnt     = dat\n",
    "    lst$fit     = fit\n",
    "    lst$fit_log = fit\n",
    "    lst$X       = X\n",
    "\n",
    "    ### store the results\n",
    "    fdiry = FD_OUT\n",
    "    fname = paste0(\"lm_\", mtf, \".RDS\") # str_replace(mtf, pattern = \"/\", replacement = \"_\")\n",
    "    fpath = file.path(fdiry, fname)\n",
    "    saveRDS(lst, fpath)"
   ]
  },
  {
   "cell_type": "code",
   "execution_count": null,
   "metadata": {},
   "outputs": [],
   "source": []
  }
 ],
 "metadata": {
  "kernelspec": {
   "display_name": "R",
   "language": "R",
   "name": "ir"
  },
  "language_info": {
   "codemirror_mode": "r",
   "file_extension": ".r",
   "mimetype": "text/x-r-source",
   "name": "R",
   "pygments_lexer": "r",
   "version": "4.1.1"
  }
 },
 "nbformat": 4,
 "nbformat_minor": 4
}
