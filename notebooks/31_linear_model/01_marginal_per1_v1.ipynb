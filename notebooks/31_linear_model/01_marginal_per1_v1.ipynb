{
 "cells": [
  {
   "cell_type": "markdown",
   "id": "dc2a9f77-a326-4f81-a617-97d640585f86",
   "metadata": {},
   "source": [
    "**Set environment**"
   ]
  },
  {
   "cell_type": "code",
   "execution_count": 1,
   "id": "55e84138-96d7-4b8c-b7fa-bda85be3dfbe",
   "metadata": {},
   "outputs": [
    {
     "name": "stdout",
     "output_type": "stream",
     "text": [
      "You are on Duke Server: DCC\n",
      "BASE DIRECTORY:     /work/kk319 \n",
      "WORK DIRECTORY:     /work/kk319/out/CombEffect_STARR \n",
      "LOG  DIRECTORY:     /work/kk319/out/CombEffect_STARR/log \n",
      "PATH OF SOURCE:     /work/kk319/source \n",
      "PATH OF EXECUTABLE: /work/kk319/exe \n",
      "PATH OF ANNOTATION: /work/kk319/annotation \n"
     ]
    }
   ],
   "source": [
    "suppressMessages(suppressWarnings(source(\"config.R\")))"
   ]
  },
  {
   "cell_type": "code",
   "execution_count": 2,
   "id": "46925152-8864-436e-be37-7a1ae13facac",
   "metadata": {},
   "outputs": [
    {
     "data": {
      "text/html": [
       "<ol class=list-inline>\n",
       "\t<li>'/work/kk319/out/CombEffect_STARR/annotation_fragment/Input/NR_20/target_PER1.bed'</li>\n",
       "\t<li>'/work/kk319/out/CombEffect_STARR/annotation_fragment/Input1/NR_20/target_PER1.bed'</li>\n",
       "\t<li>'/work/kk319/out/CombEffect_STARR/annotation_fragment/Input2/NR_20/target_PER1.bed'</li>\n",
       "\t<li>'/work/kk319/out/CombEffect_STARR/annotation_fragment/Input3/NR_20/target_PER1.bed'</li>\n",
       "\t<li>'/work/kk319/out/CombEffect_STARR/annotation_fragment/Input4/NR_20/target_PER1.bed'</li>\n",
       "\t<li>'/work/kk319/out/CombEffect_STARR/annotation_fragment/Input5/NR_20/target_PER1.bed'</li>\n",
       "\t<li>'/work/kk319/out/CombEffect_STARR/annotation_fragment/TFX2_DMSO/NR_20/target_PER1.bed'</li>\n",
       "\t<li>'/work/kk319/out/CombEffect_STARR/annotation_fragment/TFX2_Dex/NR_20/target_PER1.bed'</li>\n",
       "\t<li>'/work/kk319/out/CombEffect_STARR/annotation_fragment/TFX3_DMSO/NR_20/target_PER1.bed'</li>\n",
       "\t<li>'/work/kk319/out/CombEffect_STARR/annotation_fragment/TFX3_Dex/NR_20/target_PER1.bed'</li>\n",
       "\t<li>'/work/kk319/out/CombEffect_STARR/annotation_fragment/TFX4_DMSO/NR_20/target_PER1.bed'</li>\n",
       "\t<li>'/work/kk319/out/CombEffect_STARR/annotation_fragment/TFX4_Dex/NR_20/target_PER1.bed'</li>\n",
       "\t<li>'/work/kk319/out/CombEffect_STARR/annotation_fragment/TFX5_DMSO/NR_20/target_PER1.bed'</li>\n",
       "\t<li>'/work/kk319/out/CombEffect_STARR/annotation_fragment/TFX5_Dex/NR_20/target_PER1.bed'</li>\n",
       "\t<li>'/work/kk319/out/CombEffect_STARR/annotation_fragment/TFX_DMSO/NR_20/target_PER1.bed'</li>\n",
       "\t<li>'/work/kk319/out/CombEffect_STARR/annotation_fragment/TFX_Dex/NR_20/target_PER1.bed'</li>\n",
       "</ol>\n"
      ],
      "text/latex": [
       "\\begin{enumerate*}\n",
       "\\item '/work/kk319/out/CombEffect\\_STARR/annotation\\_fragment/Input/NR\\_20/target\\_PER1.bed'\n",
       "\\item '/work/kk319/out/CombEffect\\_STARR/annotation\\_fragment/Input1/NR\\_20/target\\_PER1.bed'\n",
       "\\item '/work/kk319/out/CombEffect\\_STARR/annotation\\_fragment/Input2/NR\\_20/target\\_PER1.bed'\n",
       "\\item '/work/kk319/out/CombEffect\\_STARR/annotation\\_fragment/Input3/NR\\_20/target\\_PER1.bed'\n",
       "\\item '/work/kk319/out/CombEffect\\_STARR/annotation\\_fragment/Input4/NR\\_20/target\\_PER1.bed'\n",
       "\\item '/work/kk319/out/CombEffect\\_STARR/annotation\\_fragment/Input5/NR\\_20/target\\_PER1.bed'\n",
       "\\item '/work/kk319/out/CombEffect\\_STARR/annotation\\_fragment/TFX2\\_DMSO/NR\\_20/target\\_PER1.bed'\n",
       "\\item '/work/kk319/out/CombEffect\\_STARR/annotation\\_fragment/TFX2\\_Dex/NR\\_20/target\\_PER1.bed'\n",
       "\\item '/work/kk319/out/CombEffect\\_STARR/annotation\\_fragment/TFX3\\_DMSO/NR\\_20/target\\_PER1.bed'\n",
       "\\item '/work/kk319/out/CombEffect\\_STARR/annotation\\_fragment/TFX3\\_Dex/NR\\_20/target\\_PER1.bed'\n",
       "\\item '/work/kk319/out/CombEffect\\_STARR/annotation\\_fragment/TFX4\\_DMSO/NR\\_20/target\\_PER1.bed'\n",
       "\\item '/work/kk319/out/CombEffect\\_STARR/annotation\\_fragment/TFX4\\_Dex/NR\\_20/target\\_PER1.bed'\n",
       "\\item '/work/kk319/out/CombEffect\\_STARR/annotation\\_fragment/TFX5\\_DMSO/NR\\_20/target\\_PER1.bed'\n",
       "\\item '/work/kk319/out/CombEffect\\_STARR/annotation\\_fragment/TFX5\\_Dex/NR\\_20/target\\_PER1.bed'\n",
       "\\item '/work/kk319/out/CombEffect\\_STARR/annotation\\_fragment/TFX\\_DMSO/NR\\_20/target\\_PER1.bed'\n",
       "\\item '/work/kk319/out/CombEffect\\_STARR/annotation\\_fragment/TFX\\_Dex/NR\\_20/target\\_PER1.bed'\n",
       "\\end{enumerate*}\n"
      ],
      "text/markdown": [
       "1. '/work/kk319/out/CombEffect_STARR/annotation_fragment/Input/NR_20/target_PER1.bed'\n",
       "2. '/work/kk319/out/CombEffect_STARR/annotation_fragment/Input1/NR_20/target_PER1.bed'\n",
       "3. '/work/kk319/out/CombEffect_STARR/annotation_fragment/Input2/NR_20/target_PER1.bed'\n",
       "4. '/work/kk319/out/CombEffect_STARR/annotation_fragment/Input3/NR_20/target_PER1.bed'\n",
       "5. '/work/kk319/out/CombEffect_STARR/annotation_fragment/Input4/NR_20/target_PER1.bed'\n",
       "6. '/work/kk319/out/CombEffect_STARR/annotation_fragment/Input5/NR_20/target_PER1.bed'\n",
       "7. '/work/kk319/out/CombEffect_STARR/annotation_fragment/TFX2_DMSO/NR_20/target_PER1.bed'\n",
       "8. '/work/kk319/out/CombEffect_STARR/annotation_fragment/TFX2_Dex/NR_20/target_PER1.bed'\n",
       "9. '/work/kk319/out/CombEffect_STARR/annotation_fragment/TFX3_DMSO/NR_20/target_PER1.bed'\n",
       "10. '/work/kk319/out/CombEffect_STARR/annotation_fragment/TFX3_Dex/NR_20/target_PER1.bed'\n",
       "11. '/work/kk319/out/CombEffect_STARR/annotation_fragment/TFX4_DMSO/NR_20/target_PER1.bed'\n",
       "12. '/work/kk319/out/CombEffect_STARR/annotation_fragment/TFX4_Dex/NR_20/target_PER1.bed'\n",
       "13. '/work/kk319/out/CombEffect_STARR/annotation_fragment/TFX5_DMSO/NR_20/target_PER1.bed'\n",
       "14. '/work/kk319/out/CombEffect_STARR/annotation_fragment/TFX5_Dex/NR_20/target_PER1.bed'\n",
       "15. '/work/kk319/out/CombEffect_STARR/annotation_fragment/TFX_DMSO/NR_20/target_PER1.bed'\n",
       "16. '/work/kk319/out/CombEffect_STARR/annotation_fragment/TFX_Dex/NR_20/target_PER1.bed'\n",
       "\n",
       "\n"
      ],
      "text/plain": [
       " [1] \"/work/kk319/out/CombEffect_STARR/annotation_fragment/Input/NR_20/target_PER1.bed\"    \n",
       " [2] \"/work/kk319/out/CombEffect_STARR/annotation_fragment/Input1/NR_20/target_PER1.bed\"   \n",
       " [3] \"/work/kk319/out/CombEffect_STARR/annotation_fragment/Input2/NR_20/target_PER1.bed\"   \n",
       " [4] \"/work/kk319/out/CombEffect_STARR/annotation_fragment/Input3/NR_20/target_PER1.bed\"   \n",
       " [5] \"/work/kk319/out/CombEffect_STARR/annotation_fragment/Input4/NR_20/target_PER1.bed\"   \n",
       " [6] \"/work/kk319/out/CombEffect_STARR/annotation_fragment/Input5/NR_20/target_PER1.bed\"   \n",
       " [7] \"/work/kk319/out/CombEffect_STARR/annotation_fragment/TFX2_DMSO/NR_20/target_PER1.bed\"\n",
       " [8] \"/work/kk319/out/CombEffect_STARR/annotation_fragment/TFX2_Dex/NR_20/target_PER1.bed\" \n",
       " [9] \"/work/kk319/out/CombEffect_STARR/annotation_fragment/TFX3_DMSO/NR_20/target_PER1.bed\"\n",
       "[10] \"/work/kk319/out/CombEffect_STARR/annotation_fragment/TFX3_Dex/NR_20/target_PER1.bed\" \n",
       "[11] \"/work/kk319/out/CombEffect_STARR/annotation_fragment/TFX4_DMSO/NR_20/target_PER1.bed\"\n",
       "[12] \"/work/kk319/out/CombEffect_STARR/annotation_fragment/TFX4_Dex/NR_20/target_PER1.bed\" \n",
       "[13] \"/work/kk319/out/CombEffect_STARR/annotation_fragment/TFX5_DMSO/NR_20/target_PER1.bed\"\n",
       "[14] \"/work/kk319/out/CombEffect_STARR/annotation_fragment/TFX5_Dex/NR_20/target_PER1.bed\" \n",
       "[15] \"/work/kk319/out/CombEffect_STARR/annotation_fragment/TFX_DMSO/NR_20/target_PER1.bed\" \n",
       "[16] \"/work/kk319/out/CombEffect_STARR/annotation_fragment/TFX_Dex/NR_20/target_PER1.bed\"  "
      ]
     },
     "metadata": {},
     "output_type": "display_data"
    }
   ],
   "source": [
    "fdiry = file.path(FD_WRK, \"annotation_fragment\")\n",
    "motif = \"NR_20\"\n",
    "fname = \"target_PER1.bed\"\n",
    "fglob = file.path(fdiry, \"*\", motif, fname)\n",
    "Sys.glob(fglob)"
   ]
  },
  {
   "cell_type": "markdown",
   "id": "57e7b7ef-5363-4791-b072-bca7b3723e15",
   "metadata": {},
   "source": [
    "## Import"
   ]
  },
  {
   "cell_type": "code",
   "execution_count": 9,
   "id": "84079f47-896a-400d-bac7-9b7e6d4cf734",
   "metadata": {},
   "outputs": [],
   "source": [
    "get_sample = function(idn_sample){\n",
    "    idn = idn_sample\n",
    "    idn = str_replace(\n",
    "        string = idn, \n",
    "        pattern = \"Input[0-9]\", \n",
    "        replacement = \"Input\")\n",
    "    idn = str_replace(\n",
    "        string = idn, \n",
    "        pattern = \"TFX[0-9]_\", \n",
    "        replacement=\"TFX_\")\n",
    "    return(idn)\n",
    "}"
   ]
  },
  {
   "cell_type": "code",
   "execution_count": 10,
   "id": "8b242a53-c64e-4345-b301-30eedfceafa5",
   "metadata": {},
   "outputs": [
    {
     "data": {
      "text/html": [
       "<table>\n",
       "<thead><tr><th scope=col>Size</th><th scope=col>Sample</th><th scope=col>Group</th></tr></thead>\n",
       "<tbody>\n",
       "\t<tr><td>18666630       </td><td>Input1         </td><td>Input          </td></tr>\n",
       "\t<tr><td>20167924       </td><td>Input2         </td><td>Input          </td></tr>\n",
       "\t<tr><td>23280988       </td><td>Input3         </td><td>Input          </td></tr>\n",
       "\t<tr><td>19003938       </td><td>Input4         </td><td>Input          </td></tr>\n",
       "\t<tr><td>15325016       </td><td>Input5         </td><td>Input          </td></tr>\n",
       "\t<tr><td>48376253       </td><td>TFX2_AZD2906   </td><td>TFX_AZD2906    </td></tr>\n",
       "\t<tr><td>52542517       </td><td>TFX2_AZD9567   </td><td>TFX_AZD9567    </td></tr>\n",
       "\t<tr><td>43646484       </td><td>TFX2_CORT108297</td><td>TFX_CORT108297 </td></tr>\n",
       "\t<tr><td>41732268       </td><td>TFX2_CpdA      </td><td>TFX_CpdA       </td></tr>\n",
       "\t<tr><td>43844606       </td><td>TFX2_DMSO      </td><td>TFX_DMSO       </td></tr>\n",
       "</tbody>\n",
       "</table>\n"
      ],
      "text/latex": [
       "\\begin{tabular}{r|lll}\n",
       " Size & Sample & Group\\\\\n",
       "\\hline\n",
       "\t 18666630        & Input1          & Input          \\\\\n",
       "\t 20167924        & Input2          & Input          \\\\\n",
       "\t 23280988        & Input3          & Input          \\\\\n",
       "\t 19003938        & Input4          & Input          \\\\\n",
       "\t 15325016        & Input5          & Input          \\\\\n",
       "\t 48376253          & TFX2\\_AZD2906    & TFX\\_AZD2906    \\\\\n",
       "\t 52542517          & TFX2\\_AZD9567    & TFX\\_AZD9567    \\\\\n",
       "\t 43646484          & TFX2\\_CORT108297 & TFX\\_CORT108297 \\\\\n",
       "\t 41732268          & TFX2\\_CpdA       & TFX\\_CpdA       \\\\\n",
       "\t 43844606          & TFX2\\_DMSO       & TFX\\_DMSO       \\\\\n",
       "\\end{tabular}\n"
      ],
      "text/markdown": [
       "\n",
       "| Size | Sample | Group |\n",
       "|---|---|---|\n",
       "| 18666630        | Input1          | Input           |\n",
       "| 20167924        | Input2          | Input           |\n",
       "| 23280988        | Input3          | Input           |\n",
       "| 19003938        | Input4          | Input           |\n",
       "| 15325016        | Input5          | Input           |\n",
       "| 48376253        | TFX2_AZD2906    | TFX_AZD2906     |\n",
       "| 52542517        | TFX2_AZD9567    | TFX_AZD9567     |\n",
       "| 43646484        | TFX2_CORT108297 | TFX_CORT108297  |\n",
       "| 41732268        | TFX2_CpdA       | TFX_CpdA        |\n",
       "| 43844606        | TFX2_DMSO       | TFX_DMSO        |\n",
       "\n"
      ],
      "text/plain": [
       "   Size     Sample          Group         \n",
       "1  18666630 Input1          Input         \n",
       "2  20167924 Input2          Input         \n",
       "3  23280988 Input3          Input         \n",
       "4  19003938 Input4          Input         \n",
       "5  15325016 Input5          Input         \n",
       "6  48376253 TFX2_AZD2906    TFX_AZD2906   \n",
       "7  52542517 TFX2_AZD9567    TFX_AZD9567   \n",
       "8  43646484 TFX2_CORT108297 TFX_CORT108297\n",
       "9  41732268 TFX2_CpdA       TFX_CpdA      \n",
       "10 43844606 TFX2_DMSO       TFX_DMSO      "
      ]
     },
     "metadata": {},
     "output_type": "display_data"
    }
   ],
   "source": [
    "fdiry = file.path(FD_WRK, \"source\")\n",
    "fname = \"library_size.txt\"\n",
    "fpath = file.path(fdiry, fname)\n",
    "\n",
    "ctypes = c(col_integer(), col_character())\n",
    "cnames = c(\"Size\", \"Fpath\")\n",
    "dat_lib = read_tsv(fpath, col_types=ctypes, col_names = cnames)\n",
    "dat_lib = dat_lib %>% \n",
    "    mutate(Sample = tools::file_path_sans_ext(basename(Fpath))) %>%\n",
    "    mutate(Group = get_sample(Sample))\n",
    "dat_lib = dat_lib %>% dplyr::select(Size, Sample, Group)\n",
    "head(dat_lib, 10)"
   ]
  },
  {
   "cell_type": "markdown",
   "id": "7344390f-d565-4141-8056-66bb46873fb0",
   "metadata": {},
   "source": [
    "## Import"
   ]
  },
  {
   "cell_type": "code",
   "execution_count": 11,
   "id": "f564604d-82fe-4ad6-9647-e7e7bdcf7ca6",
   "metadata": {},
   "outputs": [],
   "source": [
    "ctypes = c(col_character(), col_integer(), col_integer(), col_integer(),\n",
    "           col_character(), col_integer(), col_integer(),\n",
    "           col_character(), col_double(),  col_integer())\n",
    "cnames = c(\"Chrom_Frag\", \"Start_Frag\", \"End_Frag\", \"Count_Frag\",\n",
    "           \"Chrom_MTF\",  \"Start_MTF\",  \"End_MTF\",\n",
    "           \"Motif\", \"Score\", \"Overlap\")\n",
    "Samples=c(\n",
    "    paste0(\"Input\", 1:5),\n",
    "    paste0(\"TFX\",   2:5, \"_DMSO\"),\n",
    "    paste0(\"TFX\",   2:5, \"_Dex\"))"
   ]
  },
  {
   "cell_type": "code",
   "execution_count": 12,
   "id": "21c84e8c-de5b-454f-8d07-3f86ee408feb",
   "metadata": {},
   "outputs": [
    {
     "name": "stdout",
     "output_type": "stream",
     "text": [
      " [1] \"Input\"    \"Input\"    \"Input\"    \"Input\"    \"Input\"    \"TFX_DMSO\"\n",
      " [7] \"TFX_DMSO\" \"TFX_DMSO\" \"TFX_DMSO\" \"TFX_Dex\"  \"TFX_Dex\"  \"TFX_Dex\" \n",
      "[13] \"TFX_Dex\" \n"
     ]
    }
   ],
   "source": [
    "print(str_remove(string = Samples, pattern = \"[0-9]\"))"
   ]
  },
  {
   "cell_type": "code",
   "execution_count": 13,
   "id": "21e9cbfb-833f-4f7b-98ba-833a9884e40f",
   "metadata": {},
   "outputs": [
    {
     "name": "stdout",
     "output_type": "stream",
     "text": [
      "[1] \"/work/kk319/out/CombEffect_STARR/annotation_fragment/Input1/NR_20/target_PER1.bed\"\n",
      "[1] \"/work/kk319/out/CombEffect_STARR/annotation_fragment/Input2/NR_20/target_PER1.bed\"\n",
      "[1] \"/work/kk319/out/CombEffect_STARR/annotation_fragment/Input3/NR_20/target_PER1.bed\"\n",
      "[1] \"/work/kk319/out/CombEffect_STARR/annotation_fragment/Input4/NR_20/target_PER1.bed\"\n",
      "[1] \"/work/kk319/out/CombEffect_STARR/annotation_fragment/Input5/NR_20/target_PER1.bed\"\n",
      "[1] \"/work/kk319/out/CombEffect_STARR/annotation_fragment/TFX2_DMSO/NR_20/target_PER1.bed\"\n",
      "[1] \"/work/kk319/out/CombEffect_STARR/annotation_fragment/TFX3_DMSO/NR_20/target_PER1.bed\"\n",
      "[1] \"/work/kk319/out/CombEffect_STARR/annotation_fragment/TFX4_DMSO/NR_20/target_PER1.bed\"\n",
      "[1] \"/work/kk319/out/CombEffect_STARR/annotation_fragment/TFX5_DMSO/NR_20/target_PER1.bed\"\n",
      "[1] \"/work/kk319/out/CombEffect_STARR/annotation_fragment/TFX2_Dex/NR_20/target_PER1.bed\"\n",
      "[1] \"/work/kk319/out/CombEffect_STARR/annotation_fragment/TFX3_Dex/NR_20/target_PER1.bed\"\n",
      "[1] \"/work/kk319/out/CombEffect_STARR/annotation_fragment/TFX4_Dex/NR_20/target_PER1.bed\"\n",
      "[1] \"/work/kk319/out/CombEffect_STARR/annotation_fragment/TFX5_Dex/NR_20/target_PER1.bed\"\n"
     ]
    }
   ],
   "source": [
    "fdiry = file.path(FD_WRK, \"annotation_fragment\")\n",
    "motif = \"NR_20\"\n",
    "fname = \"target_PER1.bed\"\n",
    "fglob = file.path(fdiry, \"*\", motif, fname)\n",
    "\n",
    "lst_NR20_PER1 = lapply(Samples, function(sam){\n",
    "    ### get file\n",
    "    fglob = file.path(fdiry, sam, motif, fname)\n",
    "    fpath = Sys.glob(fglob)\n",
    "    print(fpath)\n",
    "    \n",
    "    ### import data\n",
    "    dat = read_tsv(fpath, col_types=ctypes, col_names=cnames)\n",
    "    dat$Sample = sam\n",
    "    return(dat)\n",
    "})"
   ]
  },
  {
   "cell_type": "code",
   "execution_count": 21,
   "id": "e65632d3-97dd-4777-a2d3-97e944325144",
   "metadata": {},
   "outputs": [
    {
     "data": {
      "text/html": [
       "<table>\n",
       "<thead><tr><th scope=col>Sample</th><th scope=col>Value</th><th scope=col>Size</th><th scope=col>Group</th><th scope=col>Norm_Value</th><th scope=col>Lognorm_Value</th></tr></thead>\n",
       "<tbody>\n",
       "\t<tr><td>Input1      </td><td>  73        </td><td>18666630    </td><td>Input       </td><td>3.910722e-06</td><td>-5.407743   </td></tr>\n",
       "\t<tr><td>Input2      </td><td>  79        </td><td>20167924    </td><td>Input       </td><td>3.917111e-06</td><td>-5.407034   </td></tr>\n",
       "\t<tr><td>Input3      </td><td> 123        </td><td>23280988    </td><td>Input       </td><td>5.283281e-06</td><td>-5.277096   </td></tr>\n",
       "\t<tr><td>Input4      </td><td>  82        </td><td>19003938    </td><td>Input       </td><td>4.314895e-06</td><td>-5.365030   </td></tr>\n",
       "\t<tr><td>Input5      </td><td>  56        </td><td>15325016    </td><td>Input       </td><td>3.654156e-06</td><td>-5.437213   </td></tr>\n",
       "\t<tr><td>TFX2_Dex    </td><td>2128        </td><td>45413539    </td><td>TFX_Dex     </td><td>4.685827e-05</td><td>-4.329214   </td></tr>\n",
       "\t<tr><td>TFX2_DMSO   </td><td> 441        </td><td>43844606    </td><td>TFX_DMSO    </td><td>1.005825e-05</td><td>-4.997478   </td></tr>\n",
       "\t<tr><td>TFX3_Dex    </td><td>1382        </td><td>26400671    </td><td>TFX_Dex     </td><td>5.234715e-05</td><td>-4.281107   </td></tr>\n",
       "\t<tr><td>TFX3_DMSO   </td><td> 330        </td><td>26819569    </td><td>TFX_DMSO    </td><td>1.230445e-05</td><td>-4.909938   </td></tr>\n",
       "\t<tr><td>TFX4_Dex    </td><td>1813        </td><td>34590086    </td><td>TFX_Dex     </td><td>5.241386e-05</td><td>-4.280554   </td></tr>\n",
       "\t<tr><td>TFX4_DMSO   </td><td> 280        </td><td>30951533    </td><td>TFX_DMSO    </td><td>9.046402e-06</td><td>-5.043524   </td></tr>\n",
       "\t<tr><td>TFX5_Dex    </td><td>2438        </td><td>42310249    </td><td>TFX_Dex     </td><td>5.762197e-05</td><td>-4.239412   </td></tr>\n",
       "\t<tr><td>TFX5_DMSO   </td><td> 482        </td><td>28859151    </td><td>TFX_DMSO    </td><td>1.670181e-05</td><td>-4.777237   </td></tr>\n",
       "</tbody>\n",
       "</table>\n"
      ],
      "text/latex": [
       "\\begin{tabular}{r|llllll}\n",
       " Sample & Value & Size & Group & Norm\\_Value & Lognorm\\_Value\\\\\n",
       "\\hline\n",
       "\t Input1       &   73         & 18666630     & Input        & 3.910722e-06 & -5.407743   \\\\\n",
       "\t Input2       &   79         & 20167924     & Input        & 3.917111e-06 & -5.407034   \\\\\n",
       "\t Input3       &  123         & 23280988     & Input        & 5.283281e-06 & -5.277096   \\\\\n",
       "\t Input4       &   82         & 19003938     & Input        & 4.314895e-06 & -5.365030   \\\\\n",
       "\t Input5       &   56         & 15325016     & Input        & 3.654156e-06 & -5.437213   \\\\\n",
       "\t TFX2\\_Dex   & 2128         & 45413539     & TFX\\_Dex    & 4.685827e-05 & -4.329214   \\\\\n",
       "\t TFX2\\_DMSO  &  441         & 43844606     & TFX\\_DMSO   & 1.005825e-05 & -4.997478   \\\\\n",
       "\t TFX3\\_Dex   & 1382         & 26400671     & TFX\\_Dex    & 5.234715e-05 & -4.281107   \\\\\n",
       "\t TFX3\\_DMSO  &  330         & 26819569     & TFX\\_DMSO   & 1.230445e-05 & -4.909938   \\\\\n",
       "\t TFX4\\_Dex   & 1813         & 34590086     & TFX\\_Dex    & 5.241386e-05 & -4.280554   \\\\\n",
       "\t TFX4\\_DMSO  &  280         & 30951533     & TFX\\_DMSO   & 9.046402e-06 & -5.043524   \\\\\n",
       "\t TFX5\\_Dex   & 2438         & 42310249     & TFX\\_Dex    & 5.762197e-05 & -4.239412   \\\\\n",
       "\t TFX5\\_DMSO  &  482         & 28859151     & TFX\\_DMSO   & 1.670181e-05 & -4.777237   \\\\\n",
       "\\end{tabular}\n"
      ],
      "text/markdown": [
       "\n",
       "| Sample | Value | Size | Group | Norm_Value | Lognorm_Value |\n",
       "|---|---|---|---|---|---|\n",
       "| Input1       |   73         | 18666630     | Input        | 3.910722e-06 | -5.407743    |\n",
       "| Input2       |   79         | 20167924     | Input        | 3.917111e-06 | -5.407034    |\n",
       "| Input3       |  123         | 23280988     | Input        | 5.283281e-06 | -5.277096    |\n",
       "| Input4       |   82         | 19003938     | Input        | 4.314895e-06 | -5.365030    |\n",
       "| Input5       |   56         | 15325016     | Input        | 3.654156e-06 | -5.437213    |\n",
       "| TFX2_Dex     | 2128         | 45413539     | TFX_Dex      | 4.685827e-05 | -4.329214    |\n",
       "| TFX2_DMSO    |  441         | 43844606     | TFX_DMSO     | 1.005825e-05 | -4.997478    |\n",
       "| TFX3_Dex     | 1382         | 26400671     | TFX_Dex      | 5.234715e-05 | -4.281107    |\n",
       "| TFX3_DMSO    |  330         | 26819569     | TFX_DMSO     | 1.230445e-05 | -4.909938    |\n",
       "| TFX4_Dex     | 1813         | 34590086     | TFX_Dex      | 5.241386e-05 | -4.280554    |\n",
       "| TFX4_DMSO    |  280         | 30951533     | TFX_DMSO     | 9.046402e-06 | -5.043524    |\n",
       "| TFX5_Dex     | 2438         | 42310249     | TFX_Dex      | 5.762197e-05 | -4.239412    |\n",
       "| TFX5_DMSO    |  482         | 28859151     | TFX_DMSO     | 1.670181e-05 | -4.777237    |\n",
       "\n"
      ],
      "text/plain": [
       "   Sample    Value Size     Group    Norm_Value   Lognorm_Value\n",
       "1  Input1      73  18666630 Input    3.910722e-06 -5.407743    \n",
       "2  Input2      79  20167924 Input    3.917111e-06 -5.407034    \n",
       "3  Input3     123  23280988 Input    5.283281e-06 -5.277096    \n",
       "4  Input4      82  19003938 Input    4.314895e-06 -5.365030    \n",
       "5  Input5      56  15325016 Input    3.654156e-06 -5.437213    \n",
       "6  TFX2_Dex  2128  45413539 TFX_Dex  4.685827e-05 -4.329214    \n",
       "7  TFX2_DMSO  441  43844606 TFX_DMSO 1.005825e-05 -4.997478    \n",
       "8  TFX3_Dex  1382  26400671 TFX_Dex  5.234715e-05 -4.281107    \n",
       "9  TFX3_DMSO  330  26819569 TFX_DMSO 1.230445e-05 -4.909938    \n",
       "10 TFX4_Dex  1813  34590086 TFX_Dex  5.241386e-05 -4.280554    \n",
       "11 TFX4_DMSO  280  30951533 TFX_DMSO 9.046402e-06 -5.043524    \n",
       "12 TFX5_Dex  2438  42310249 TFX_Dex  5.762197e-05 -4.239412    \n",
       "13 TFX5_DMSO  482  28859151 TFX_DMSO 1.670181e-05 -4.777237    "
      ]
     },
     "metadata": {},
     "output_type": "display_data"
    }
   ],
   "source": [
    "lst = lst_NR20_PER1\n",
    "lst = lapply(lst, function(dat){\n",
    "    dat = dat %>% \n",
    "        dplyr::select(Chrom_Frag, Start_Frag, End_Frag, Count_Frag, Sample) %>%\n",
    "        distinct()\n",
    "    return(dat)\n",
    "})\n",
    "\n",
    "dat = bind_rows(lst)\n",
    "dat = dat %>% group_by(Sample) %>% summarise(Value = sum(Count_Frag))\n",
    "dat = dat %>% left_join(dat_lib, by=\"Sample\")\n",
    "dat = dat %>% \n",
    "    mutate(Norm_Value    = Value / Size) %>% \n",
    "    mutate(Lognorm_Value = log10(Value) - log10(Size))\n",
    "#dat = dat %>% mutate(Group = str_remove(string = Sample, pattern = \"[0-9]\"))\n",
    "dat"
   ]
  },
  {
   "cell_type": "code",
   "execution_count": 22,
   "id": "7fe7d122-1f6c-451d-aa29-e36c039e63c8",
   "metadata": {},
   "outputs": [
    {
     "data": {
      "image/png": "[encoded data removed]",
      "text/plain": [
       "plot without title"
      ]
     },
     "metadata": {},
     "output_type": "display_data"
    }
   ],
   "source": [
    "options(repr.plot.height=3, repr.plot.width=4)\n",
    "set.seed(123)\n",
    "\n",
    "dat$Group = factor(dat$Group, levels=c(\"Input\", \"TFX_DMSO\", \"TFX_Dex\"))\n",
    "ggplot(dat, aes(x=Group, y=Value)) + geom_jitter(width=0.1) + theme_bw()"
   ]
  },
  {
   "cell_type": "code",
   "execution_count": 23,
   "id": "9c4b2a07-92e3-4e0f-8505-eaeefa0055c8",
   "metadata": {},
   "outputs": [
    {
     "data": {
      "image/png": "[encoded data removed]",
      "text/plain": [
       "plot without title"
      ]
     },
     "metadata": {},
     "output_type": "display_data"
    }
   ],
   "source": [
    "options(repr.plot.height=3, repr.plot.width=4)\n",
    "set.seed(123)\n",
    "\n",
    "dat$Group = factor(dat$Group, levels=c(\"Input\", \"TFX_DMSO\", \"TFX_Dex\"))\n",
    "ggplot(dat, aes(x=Group, y=Norm_Value)) + geom_jitter(width=0.1) + theme_bw()"
   ]
  },
  {
   "cell_type": "code",
   "execution_count": 24,
   "id": "87a01f3d-c67b-4d31-bbaf-84d39a6941f9",
   "metadata": {},
   "outputs": [
    {
     "data": {
      "image/png": "[encoded data removed]",
      "text/plain": [
       "plot without title"
      ]
     },
     "metadata": {},
     "output_type": "display_data"
    }
   ],
   "source": [
    "options(repr.plot.height=3, repr.plot.width=4)\n",
    "set.seed(123)\n",
    "\n",
    "dat$Group = factor(dat$Group, levels=c(\"Input\", \"TFX_DMSO\", \"TFX_Dex\"))\n",
    "ggplot(dat, aes(x=Group, y=Lognorm_Value)) + geom_jitter(width=0.1) + theme_bw()"
   ]
  },
  {
   "cell_type": "code",
   "execution_count": 25,
   "id": "6e8ff9bb-cbac-4b89-a13c-c7c028ab7428",
   "metadata": {
    "tags": []
   },
   "outputs": [
    {
     "data": {
      "image/png": "[encoded data removed]",
      "text/plain": [
       "plot without title"
      ]
     },
     "metadata": {},
     "output_type": "display_data"
    }
   ],
   "source": [
    "set.seed(123)\n",
    "tmp = dat %>% dplyr::filter(Group != \"TFX_Dex\")\n",
    "tmp$Group = factor(tmp$Group, levels=c(\"Input\", \"TFX_DMSO\"))\n",
    "gp1 = ggplot(tmp, aes(x=Group, y=Value)) + \n",
    "    geom_jitter(width=0.1) + \n",
    "    theme_bw() + \n",
    "    ylim(0, 2500) +\n",
    "    geom_smooth(\n",
    "        aes(x=as.numeric(Group), y=Value),\n",
    "        method = lm, se = FALSE, color=\"blue\")\n",
    "\n",
    "set.seed(123)\n",
    "tmp = dat %>% dplyr::filter(Group != \"TFX_DMSO\")\n",
    "tmp$Group = factor(tmp$Group, levels=c(\"Input\", \"TFX_Dex\"))\n",
    "gp2 = ggplot(tmp, aes(x=Group, y=Value)) + \n",
    "    geom_jitter(width=0.1) + \n",
    "    theme_bw() + \n",
    "    ylim(0, 2500) +\n",
    "    geom_smooth(\n",
    "        aes(x=as.numeric(Group), y=Value),\n",
    "        method = lm, se = FALSE, color=\"red\")\n",
    "\n",
    "options(repr.plot.height=3, repr.plot.width=8)\n",
    "grid.arrange(gp1, gp2, ncol=2)"
   ]
  },
  {
   "cell_type": "code",
   "execution_count": 55,
   "id": "7d0eb642-e766-4e07-8ada-64eb20c962a1",
   "metadata": {},
   "outputs": [
    {
     "data": {
      "image/png": "[encoded data removed]",
      "text/plain": [
       "plot without title"
      ]
     },
     "metadata": {},
     "output_type": "display_data"
    }
   ],
   "source": [
    "set.seed(123)\n",
    "tmp = dat %>% dplyr::filter(Group != \"TFX_Dex\")\n",
    "tmp$Group = factor(tmp$Group, levels=c(\"Input\", \"TFX_DMSO\"))\n",
    "gp1 = ggplot(tmp, aes(x=Group, y=Norm_Value)) + \n",
    "    geom_jitter(width=0.1) + \n",
    "    theme_bw() + \n",
    "    labs(y=\"Normalized Fragment Counts\\n(#Fragment / #Lib. size)\") +\n",
    "    ylim(0, 6*1e-5) +\n",
    "    geom_smooth(\n",
    "        aes(x=as.numeric(Group), y=Norm_Value),\n",
    "        method = lm, se = FALSE, color=\"blue\")\n",
    "\n",
    "set.seed(123)\n",
    "tmp = dat %>% dplyr::filter(Group != \"TFX_DMSO\")\n",
    "tmp$Group = factor(tmp$Group, levels=c(\"Input\", \"TFX_Dex\"))\n",
    "gp2 = ggplot(tmp, aes(x=Group, y=Norm_Value)) + \n",
    "    geom_jitter(width=0.1) + \n",
    "    theme_bw() + \n",
    "    labs(y=\"\") +\n",
    "    ylim(0, 6*1e-5) +\n",
    "    geom_smooth(\n",
    "        aes(x=as.numeric(Group), y=Norm_Value),\n",
    "        method = lm, se = FALSE, color=\"red\")\n",
    "\n",
    "options(repr.plot.height=3, repr.plot.width=8)\n",
    "grid.arrange(\n",
    "    gp1, gp2, ncol=2,\n",
    "    top=textGrob(\n",
    "        \"Fragment counts for NR20 motif within PER1 region\",\n",
    "        gp=gpar(fontsize=15,font=1)\n",
    "    )\n",
    ")"
   ]
  },
  {
   "cell_type": "code",
   "execution_count": 42,
   "id": "b6fb331d-1b17-4ec6-9377-c0c303498fa9",
   "metadata": {},
   "outputs": [
    {
     "data": {
      "image/png": "[encoded data removed]",
      "text/plain": [
       "plot without title"
      ]
     },
     "metadata": {},
     "output_type": "display_data"
    }
   ],
   "source": [
    "set.seed(123)\n",
    "tmp = dat %>% dplyr::filter(Group != \"TFX_Dex\")\n",
    "tmp$Group = factor(tmp$Group, levels=c(\"Input\", \"TFX_DMSO\"))\n",
    "gp1 = ggplot(tmp, aes(x=Group, y=Lognorm_Value)) + \n",
    "    geom_jitter(width=0.1) + \n",
    "    theme_bw() + \n",
    "    ylim(-5.5, -4) +\n",
    "    geom_smooth(\n",
    "        aes(x=as.numeric(Group), y=Lognorm_Value),\n",
    "        method = lm, se = FALSE, color=\"blue\")\n",
    "\n",
    "set.seed(123)\n",
    "tmp = dat %>% dplyr::filter(Group != \"TFX_DMSO\")\n",
    "tmp$Group = factor(tmp$Group, levels=c(\"Input\", \"TFX_Dex\"))\n",
    "gp2 = ggplot(tmp, aes(x=Group, y=Lognorm_Value)) + \n",
    "    geom_jitter(width=0.1) + \n",
    "    theme_bw() + \n",
    "    ylim(-5.5, -4) +\n",
    "    geom_smooth(\n",
    "        aes(x=as.numeric(Group), y=Lognorm_Value),\n",
    "        method = lm, se = FALSE, color=\"red\")\n",
    "\n",
    "options(repr.plot.height=3, repr.plot.width=8)\n",
    "grid.arrange(gp1, gp2, ncol=2)"
   ]
  },
  {
   "cell_type": "code",
   "execution_count": 32,
   "id": "46146432-0f16-4c0d-b80c-871e37559e9a",
   "metadata": {},
   "outputs": [
    {
     "data": {
      "text/html": [
       "<table>\n",
       "<thead><tr><th scope=col>(Intercept)</th><th scope=col>GroupTFX_DMSO</th><th scope=col>GroupTFX_Dex</th></tr></thead>\n",
       "<tbody>\n",
       "\t<tr><td>1</td><td>0</td><td>0</td></tr>\n",
       "\t<tr><td>1</td><td>0</td><td>0</td></tr>\n",
       "\t<tr><td>1</td><td>0</td><td>0</td></tr>\n",
       "\t<tr><td>1</td><td>0</td><td>0</td></tr>\n",
       "\t<tr><td>1</td><td>0</td><td>0</td></tr>\n",
       "\t<tr><td>1</td><td>1</td><td>1</td></tr>\n",
       "\t<tr><td>1</td><td>1</td><td>0</td></tr>\n",
       "\t<tr><td>1</td><td>1</td><td>1</td></tr>\n",
       "\t<tr><td>1</td><td>1</td><td>0</td></tr>\n",
       "\t<tr><td>1</td><td>1</td><td>1</td></tr>\n",
       "\t<tr><td>1</td><td>1</td><td>0</td></tr>\n",
       "\t<tr><td>1</td><td>1</td><td>1</td></tr>\n",
       "\t<tr><td>1</td><td>1</td><td>0</td></tr>\n",
       "</tbody>\n",
       "</table>\n"
      ],
      "text/latex": [
       "\\begin{tabular}{r|lll}\n",
       " (Intercept) & GroupTFX\\_DMSO & GroupTFX\\_Dex\\\\\n",
       "\\hline\n",
       "\t 1 & 0 & 0\\\\\n",
       "\t 1 & 0 & 0\\\\\n",
       "\t 1 & 0 & 0\\\\\n",
       "\t 1 & 0 & 0\\\\\n",
       "\t 1 & 0 & 0\\\\\n",
       "\t 1 & 1 & 1\\\\\n",
       "\t 1 & 1 & 0\\\\\n",
       "\t 1 & 1 & 1\\\\\n",
       "\t 1 & 1 & 0\\\\\n",
       "\t 1 & 1 & 1\\\\\n",
       "\t 1 & 1 & 0\\\\\n",
       "\t 1 & 1 & 1\\\\\n",
       "\t 1 & 1 & 0\\\\\n",
       "\\end{tabular}\n"
      ],
      "text/markdown": [
       "\n",
       "| (Intercept) | GroupTFX_DMSO | GroupTFX_Dex |\n",
       "|---|---|---|\n",
       "| 1 | 0 | 0 |\n",
       "| 1 | 0 | 0 |\n",
       "| 1 | 0 | 0 |\n",
       "| 1 | 0 | 0 |\n",
       "| 1 | 0 | 0 |\n",
       "| 1 | 1 | 1 |\n",
       "| 1 | 1 | 0 |\n",
       "| 1 | 1 | 1 |\n",
       "| 1 | 1 | 0 |\n",
       "| 1 | 1 | 1 |\n",
       "| 1 | 1 | 0 |\n",
       "| 1 | 1 | 1 |\n",
       "| 1 | 1 | 0 |\n",
       "\n"
      ],
      "text/plain": [
       "   (Intercept) GroupTFX_DMSO GroupTFX_Dex\n",
       "1  1           0             0           \n",
       "2  1           0             0           \n",
       "3  1           0             0           \n",
       "4  1           0             0           \n",
       "5  1           0             0           \n",
       "6  1           1             1           \n",
       "7  1           1             0           \n",
       "8  1           1             1           \n",
       "9  1           1             0           \n",
       "10 1           1             1           \n",
       "11 1           1             0           \n",
       "12 1           1             1           \n",
       "13 1           1             0           "
      ]
     },
     "metadata": {},
     "output_type": "display_data"
    }
   ],
   "source": [
    "X = model.matrix(~ Group, dat)\n",
    "X[,\"GroupTFX_DMSO\"] = X[,\"GroupTFX_DMSO\"] + X[,\"GroupTFX_Dex\"]\n",
    "X"
   ]
  },
  {
   "cell_type": "code",
   "execution_count": 33,
   "id": "1edfaeb2-a46d-4479-862f-19ff46967980",
   "metadata": {},
   "outputs": [],
   "source": [
    "y1 = dat$Value\n",
    "y2 = dat$Norm_Value\n",
    "y3 = dat$Lognorm_Value"
   ]
  },
  {
   "cell_type": "code",
   "execution_count": 35,
   "id": "9be473c2-a53a-4892-ac86-7564c00f5c79",
   "metadata": {},
   "outputs": [
    {
     "name": "stdout",
     "output_type": "stream",
     "text": [
      "\n",
      "Call:\n",
      "lm(formula = y1 ~ X + 0)\n",
      "\n",
      "Residuals:\n",
      "    Min      1Q  Median      3Q     Max \n",
      "-558.25  -53.25   -3.60   57.75  497.75 \n",
      "\n",
      "Coefficients:\n",
      "               Estimate Std. Error t value Pr(>|t|)    \n",
      "X(Intercept)       82.6      113.1   0.730    0.482    \n",
      "XGroupTFX_DMSO    300.6      169.7   1.772    0.107    \n",
      "XGroupTFX_Dex    1557.0      178.9   8.705 5.58e-06 ***\n",
      "---\n",
      "Signif. codes:  0 ‘***’ 0.001 ‘**’ 0.01 ‘*’ 0.05 ‘.’ 0.1 ‘ ’ 1\n",
      "\n",
      "Residual standard error: 253 on 10 degrees of freedom\n",
      "Multiple R-squared:  0.9608,\tAdjusted R-squared:  0.949 \n",
      "F-statistic: 81.68 on 3 and 10 DF,  p-value: 2.467e-07\n",
      "\n"
     ]
    }
   ],
   "source": [
    "fit = lm(y1 ~ X + 0)\n",
    "res = summary(fit)\n",
    "print(res)"
   ]
  },
  {
   "cell_type": "code",
   "execution_count": 36,
   "id": "7f086f91-97ee-42b5-8071-4285dbeb8d27",
   "metadata": {},
   "outputs": [
    {
     "name": "stdout",
     "output_type": "stream",
     "text": [
      "\n",
      "Call:\n",
      "lm(formula = y2 ~ X + 0)\n",
      "\n",
      "Residuals:\n",
      "       Min         1Q     Median         3Q        Max \n",
      "-5.452e-06 -5.619e-07  3.680e-08  2.767e-07  5.312e-06 \n",
      "\n",
      "Coefficients:\n",
      "                Estimate Std. Error t value Pr(>|t|)    \n",
      "X(Intercept)   4.216e-06  1.373e-06   3.070  0.01184 *  \n",
      "XGroupTFX_DMSO 7.812e-06  2.060e-06   3.792  0.00353 ** \n",
      "XGroupTFX_Dex  4.028e-05  2.171e-06  18.553 4.47e-09 ***\n",
      "---\n",
      "Signif. codes:  0 ‘***’ 0.001 ‘**’ 0.01 ‘*’ 0.05 ‘.’ 0.1 ‘ ’ 1\n",
      "\n",
      "Residual standard error: 3.071e-06 on 10 degrees of freedom\n",
      "Multiple R-squared:  0.9919,\tAdjusted R-squared:  0.9895 \n",
      "F-statistic: 410.5 on 3 and 10 DF,  p-value: 9.142e-11\n",
      "\n"
     ]
    }
   ],
   "source": [
    "fit = lm(y2 ~ X + 0)\n",
    "res = summary(fit)\n",
    "print(res)"
   ]
  },
  {
   "cell_type": "code",
   "execution_count": 37,
   "id": "f14d06f0-96f3-48e6-8a53-90bce8858877",
   "metadata": {},
   "outputs": [
    {
     "name": "stdout",
     "output_type": "stream",
     "text": [
      "\n",
      "Call:\n",
      "lm(formula = y3 ~ X + 0)\n",
      "\n",
      "Residuals:\n",
      "      Min        1Q    Median        3Q       Max \n",
      "-0.111480 -0.046642  0.001465  0.022106  0.154808 \n",
      "\n",
      "Coefficients:\n",
      "               Estimate Std. Error  t value Pr(>|t|)    \n",
      "X(Intercept)   -5.37882    0.03487 -154.263  < 2e-16 ***\n",
      "XGroupTFX_DMSO  0.44678    0.05230    8.542 6.60e-06 ***\n",
      "XGroupTFX_Dex   0.64947    0.05513   11.781 3.47e-07 ***\n",
      "---\n",
      "Signif. codes:  0 ‘***’ 0.001 ‘**’ 0.01 ‘*’ 0.05 ‘.’ 0.1 ‘ ’ 1\n",
      "\n",
      "Residual standard error: 0.07797 on 10 degrees of freedom\n",
      "Multiple R-squared:  0.9998,\tAdjusted R-squared:  0.9997 \n",
      "F-statistic: 1.729e+04 on 3 and 10 DF,  p-value: < 2.2e-16\n",
      "\n"
     ]
    }
   ],
   "source": [
    "fit = lm(y3 ~ X + 0)\n",
    "res = summary(fit)\n",
    "print(res)"
   ]
  },
  {
   "cell_type": "code",
   "execution_count": null,
   "id": "79e6698f-68a1-4ff3-acc4-632a1ecedf04",
   "metadata": {},
   "outputs": [],
   "source": []
  }
 ],
 "metadata": {
  "kernelspec": {
   "display_name": "R",
   "language": "R",
   "name": "ir"
  },
  "language_info": {
   "codemirror_mode": "r",
   "file_extension": ".r",
   "mimetype": "text/x-r-source",
   "name": "R",
   "pygments_lexer": "r",
   "version": "3.6.1"
  }
 },
 "nbformat": 4,
 "nbformat_minor": 5
}
