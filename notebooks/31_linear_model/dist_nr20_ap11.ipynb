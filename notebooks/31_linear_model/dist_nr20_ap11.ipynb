{
 "cells": [
  {
   "cell_type": "code",
   "execution_count": 1,
   "metadata": {},
   "outputs": [
    {
     "name": "stdout",
     "output_type": "stream",
     "text": [
      "[1] \"/home/mount/work\"\n",
      "[1] \"/home/mount/work/out/proj_combeffect\"\n"
     ]
    }
   ],
   "source": [
    "suppressMessages(suppressWarnings(source(\"config_sing.R\")))\n",
    "print(FD_WORK)\n",
    "print(FD_RES)"
   ]
  },
  {
   "cell_type": "markdown",
   "metadata": {},
   "source": [
    "## Import library size"
   ]
  },
  {
   "cell_type": "code",
   "execution_count": 3,
   "metadata": {},
   "outputs": [
    {
     "data": {
      "text/html": [
       "<table class=\"dataframe\">\n",
       "<caption>A tibble: 54 × 3</caption>\n",
       "<thead>\n",
       "\t<tr><th scope=col>Size</th><th scope=col>Sample</th><th scope=col>Group</th></tr>\n",
       "\t<tr><th scope=col>&lt;dbl&gt;</th><th scope=col>&lt;chr&gt;</th><th scope=col>&lt;chr&gt;</th></tr>\n",
       "</thead>\n",
       "<tbody>\n",
       "\t<tr><td>371718546</td><td>Input1_20x         </td><td>Input             </td></tr>\n",
       "\t<tr><td> 18666630</td><td>Input1             </td><td>Input             </td></tr>\n",
       "\t<tr><td>347635732</td><td>Input2_20x         </td><td>Input             </td></tr>\n",
       "\t<tr><td> 20167924</td><td>Input2             </td><td>Input             </td></tr>\n",
       "\t<tr><td>349994051</td><td>Input3_20x         </td><td>Input             </td></tr>\n",
       "\t<tr><td> 23280988</td><td>Input3             </td><td>Input             </td></tr>\n",
       "\t<tr><td>413508358</td><td>Input4_20x         </td><td>Input             </td></tr>\n",
       "\t<tr><td> 19003938</td><td>Input4             </td><td>Input             </td></tr>\n",
       "\t<tr><td>341110487</td><td>Input5_20x         </td><td>Input             </td></tr>\n",
       "\t<tr><td> 15325016</td><td>Input5             </td><td>Input             </td></tr>\n",
       "\t<tr><td> 48376253</td><td>TFX2_AZD2906       </td><td>TFX_AZD2906       </td></tr>\n",
       "\t<tr><td> 52542517</td><td>TFX2_AZD9567       </td><td>TFX_AZD9567       </td></tr>\n",
       "\t<tr><td> 43646484</td><td>TFX2_CORT108297    </td><td>TFX_CORT108297    </td></tr>\n",
       "\t<tr><td> 41732268</td><td>TFX2_CpdA          </td><td>TFX_CpdA          </td></tr>\n",
       "\t<tr><td> 45413539</td><td>TFX2_Dex           </td><td>TFX_Dex           </td></tr>\n",
       "\t<tr><td> 43844606</td><td>TFX2_DMSO          </td><td>TFX_DMSO          </td></tr>\n",
       "\t<tr><td> 56207769</td><td>TFX2_GW870086      </td><td>TFX_GW870086      </td></tr>\n",
       "\t<tr><td> 47829936</td><td>TFX2_Hydrocortisone</td><td>TFX_Hydrocortisone</td></tr>\n",
       "\t<tr><td> 38120420</td><td>TFX2_Mapracorat    </td><td>TFX_Mapracorat    </td></tr>\n",
       "\t<tr><td> 47687319</td><td>TFX2_RU486         </td><td>TFX_RU486         </td></tr>\n",
       "\t<tr><td> 45455167</td><td>TFX2_ZK216348      </td><td>TFX_ZK216348      </td></tr>\n",
       "\t<tr><td> 26840149</td><td>TFX3_AZD2906       </td><td>TFX_AZD2906       </td></tr>\n",
       "\t<tr><td> 44435989</td><td>TFX3_AZD9567       </td><td>TFX_AZD9567       </td></tr>\n",
       "\t<tr><td> 32701206</td><td>TFX3_CORT108297    </td><td>TFX_CORT108297    </td></tr>\n",
       "\t<tr><td> 26352610</td><td>TFX3_CpdA          </td><td>TFX_CpdA          </td></tr>\n",
       "\t<tr><td> 26400671</td><td>TFX3_Dex           </td><td>TFX_Dex           </td></tr>\n",
       "\t<tr><td> 26819569</td><td>TFX3_DMSO          </td><td>TFX_DMSO          </td></tr>\n",
       "\t<tr><td> 36774709</td><td>TFX3_GW870086      </td><td>TFX_GW870086      </td></tr>\n",
       "\t<tr><td> 40293787</td><td>TFX3_Hydrocortisone</td><td>TFX_Hydrocortisone</td></tr>\n",
       "\t<tr><td> 26384034</td><td>TFX3_Mapracorat    </td><td>TFX_Mapracorat    </td></tr>\n",
       "\t<tr><td> 31454676</td><td>TFX3_RU486         </td><td>TFX_RU486         </td></tr>\n",
       "\t<tr><td> 41139261</td><td>TFX3_ZK216348      </td><td>TFX_ZK216348      </td></tr>\n",
       "\t<tr><td> 27175305</td><td>TFX4_AZD2906       </td><td>TFX_AZD2906       </td></tr>\n",
       "\t<tr><td> 33610712</td><td>TFX4_AZD9567       </td><td>TFX_AZD9567       </td></tr>\n",
       "\t<tr><td> 59429741</td><td>TFX4_CORT108297    </td><td>TFX_CORT108297    </td></tr>\n",
       "\t<tr><td> 31202573</td><td>TFX4_CpdA          </td><td>TFX_CpdA          </td></tr>\n",
       "\t<tr><td> 34590086</td><td>TFX4_Dex           </td><td>TFX_Dex           </td></tr>\n",
       "\t<tr><td> 30951533</td><td>TFX4_DMSO          </td><td>TFX_DMSO          </td></tr>\n",
       "\t<tr><td> 43395226</td><td>TFX4_GW870086      </td><td>TFX_GW870086      </td></tr>\n",
       "\t<tr><td> 27190016</td><td>TFX4_Hydrocortisone</td><td>TFX_Hydrocortisone</td></tr>\n",
       "\t<tr><td> 36460601</td><td>TFX4_Mapracorat    </td><td>TFX_Mapracorat    </td></tr>\n",
       "\t<tr><td> 31196111</td><td>TFX4_RU486         </td><td>TFX_RU486         </td></tr>\n",
       "\t<tr><td> 38035173</td><td>TFX4_ZK216348      </td><td>TFX_ZK216348      </td></tr>\n",
       "\t<tr><td> 43862195</td><td>TFX5_AZD2906       </td><td>TFX_AZD2906       </td></tr>\n",
       "\t<tr><td> 48356547</td><td>TFX5_AZD9567       </td><td>TFX_AZD9567       </td></tr>\n",
       "\t<tr><td> 42880899</td><td>TFX5_CORT108297    </td><td>TFX_CORT108297    </td></tr>\n",
       "\t<tr><td> 40239413</td><td>TFX5_CpdA          </td><td>TFX_CpdA          </td></tr>\n",
       "\t<tr><td> 42310249</td><td>TFX5_Dex           </td><td>TFX_Dex           </td></tr>\n",
       "\t<tr><td> 28859151</td><td>TFX5_DMSO          </td><td>TFX_DMSO          </td></tr>\n",
       "\t<tr><td> 39710444</td><td>TFX5_GW870086      </td><td>TFX_GW870086      </td></tr>\n",
       "\t<tr><td> 34580732</td><td>TFX5_Hydrocortisone</td><td>TFX_Hydrocortisone</td></tr>\n",
       "\t<tr><td> 48311553</td><td>TFX5_Mapracorat    </td><td>TFX_Mapracorat    </td></tr>\n",
       "\t<tr><td> 49785981</td><td>TFX5_RU486         </td><td>TFX_RU486         </td></tr>\n",
       "\t<tr><td> 35907183</td><td>TFX5_ZK216348      </td><td>TFX_ZK216348      </td></tr>\n",
       "</tbody>\n",
       "</table>\n"
      ],
      "text/latex": [
       "A tibble: 54 × 3\n",
       "\\begin{tabular}{lll}\n",
       " Size & Sample & Group\\\\\n",
       " <dbl> & <chr> & <chr>\\\\\n",
       "\\hline\n",
       "\t 371718546 & Input1\\_20x          & Input             \\\\\n",
       "\t  18666630 & Input1              & Input             \\\\\n",
       "\t 347635732 & Input2\\_20x          & Input             \\\\\n",
       "\t  20167924 & Input2              & Input             \\\\\n",
       "\t 349994051 & Input3\\_20x          & Input             \\\\\n",
       "\t  23280988 & Input3              & Input             \\\\\n",
       "\t 413508358 & Input4\\_20x          & Input             \\\\\n",
       "\t  19003938 & Input4              & Input             \\\\\n",
       "\t 341110487 & Input5\\_20x          & Input             \\\\\n",
       "\t  15325016 & Input5              & Input             \\\\\n",
       "\t  48376253 & TFX2\\_AZD2906        & TFX\\_AZD2906       \\\\\n",
       "\t  52542517 & TFX2\\_AZD9567        & TFX\\_AZD9567       \\\\\n",
       "\t  43646484 & TFX2\\_CORT108297     & TFX\\_CORT108297    \\\\\n",
       "\t  41732268 & TFX2\\_CpdA           & TFX\\_CpdA          \\\\\n",
       "\t  45413539 & TFX2\\_Dex            & TFX\\_Dex           \\\\\n",
       "\t  43844606 & TFX2\\_DMSO           & TFX\\_DMSO          \\\\\n",
       "\t  56207769 & TFX2\\_GW870086       & TFX\\_GW870086      \\\\\n",
       "\t  47829936 & TFX2\\_Hydrocortisone & TFX\\_Hydrocortisone\\\\\n",
       "\t  38120420 & TFX2\\_Mapracorat     & TFX\\_Mapracorat    \\\\\n",
       "\t  47687319 & TFX2\\_RU486          & TFX\\_RU486         \\\\\n",
       "\t  45455167 & TFX2\\_ZK216348       & TFX\\_ZK216348      \\\\\n",
       "\t  26840149 & TFX3\\_AZD2906        & TFX\\_AZD2906       \\\\\n",
       "\t  44435989 & TFX3\\_AZD9567        & TFX\\_AZD9567       \\\\\n",
       "\t  32701206 & TFX3\\_CORT108297     & TFX\\_CORT108297    \\\\\n",
       "\t  26352610 & TFX3\\_CpdA           & TFX\\_CpdA          \\\\\n",
       "\t  26400671 & TFX3\\_Dex            & TFX\\_Dex           \\\\\n",
       "\t  26819569 & TFX3\\_DMSO           & TFX\\_DMSO          \\\\\n",
       "\t  36774709 & TFX3\\_GW870086       & TFX\\_GW870086      \\\\\n",
       "\t  40293787 & TFX3\\_Hydrocortisone & TFX\\_Hydrocortisone\\\\\n",
       "\t  26384034 & TFX3\\_Mapracorat     & TFX\\_Mapracorat    \\\\\n",
       "\t  31454676 & TFX3\\_RU486          & TFX\\_RU486         \\\\\n",
       "\t  41139261 & TFX3\\_ZK216348       & TFX\\_ZK216348      \\\\\n",
       "\t  27175305 & TFX4\\_AZD2906        & TFX\\_AZD2906       \\\\\n",
       "\t  33610712 & TFX4\\_AZD9567        & TFX\\_AZD9567       \\\\\n",
       "\t  59429741 & TFX4\\_CORT108297     & TFX\\_CORT108297    \\\\\n",
       "\t  31202573 & TFX4\\_CpdA           & TFX\\_CpdA          \\\\\n",
       "\t  34590086 & TFX4\\_Dex            & TFX\\_Dex           \\\\\n",
       "\t  30951533 & TFX4\\_DMSO           & TFX\\_DMSO          \\\\\n",
       "\t  43395226 & TFX4\\_GW870086       & TFX\\_GW870086      \\\\\n",
       "\t  27190016 & TFX4\\_Hydrocortisone & TFX\\_Hydrocortisone\\\\\n",
       "\t  36460601 & TFX4\\_Mapracorat     & TFX\\_Mapracorat    \\\\\n",
       "\t  31196111 & TFX4\\_RU486          & TFX\\_RU486         \\\\\n",
       "\t  38035173 & TFX4\\_ZK216348       & TFX\\_ZK216348      \\\\\n",
       "\t  43862195 & TFX5\\_AZD2906        & TFX\\_AZD2906       \\\\\n",
       "\t  48356547 & TFX5\\_AZD9567        & TFX\\_AZD9567       \\\\\n",
       "\t  42880899 & TFX5\\_CORT108297     & TFX\\_CORT108297    \\\\\n",
       "\t  40239413 & TFX5\\_CpdA           & TFX\\_CpdA          \\\\\n",
       "\t  42310249 & TFX5\\_Dex            & TFX\\_Dex           \\\\\n",
       "\t  28859151 & TFX5\\_DMSO           & TFX\\_DMSO          \\\\\n",
       "\t  39710444 & TFX5\\_GW870086       & TFX\\_GW870086      \\\\\n",
       "\t  34580732 & TFX5\\_Hydrocortisone & TFX\\_Hydrocortisone\\\\\n",
       "\t  48311553 & TFX5\\_Mapracorat     & TFX\\_Mapracorat    \\\\\n",
       "\t  49785981 & TFX5\\_RU486          & TFX\\_RU486         \\\\\n",
       "\t  35907183 & TFX5\\_ZK216348       & TFX\\_ZK216348      \\\\\n",
       "\\end{tabular}\n"
      ],
      "text/markdown": [
       "\n",
       "A tibble: 54 × 3\n",
       "\n",
       "| Size &lt;dbl&gt; | Sample &lt;chr&gt; | Group &lt;chr&gt; |\n",
       "|---|---|---|\n",
       "| 371718546 | Input1_20x          | Input              |\n",
       "|  18666630 | Input1              | Input              |\n",
       "| 347635732 | Input2_20x          | Input              |\n",
       "|  20167924 | Input2              | Input              |\n",
       "| 349994051 | Input3_20x          | Input              |\n",
       "|  23280988 | Input3              | Input              |\n",
       "| 413508358 | Input4_20x          | Input              |\n",
       "|  19003938 | Input4              | Input              |\n",
       "| 341110487 | Input5_20x          | Input              |\n",
       "|  15325016 | Input5              | Input              |\n",
       "|  48376253 | TFX2_AZD2906        | TFX_AZD2906        |\n",
       "|  52542517 | TFX2_AZD9567        | TFX_AZD9567        |\n",
       "|  43646484 | TFX2_CORT108297     | TFX_CORT108297     |\n",
       "|  41732268 | TFX2_CpdA           | TFX_CpdA           |\n",
       "|  45413539 | TFX2_Dex            | TFX_Dex            |\n",
       "|  43844606 | TFX2_DMSO           | TFX_DMSO           |\n",
       "|  56207769 | TFX2_GW870086       | TFX_GW870086       |\n",
       "|  47829936 | TFX2_Hydrocortisone | TFX_Hydrocortisone |\n",
       "|  38120420 | TFX2_Mapracorat     | TFX_Mapracorat     |\n",
       "|  47687319 | TFX2_RU486          | TFX_RU486          |\n",
       "|  45455167 | TFX2_ZK216348       | TFX_ZK216348       |\n",
       "|  26840149 | TFX3_AZD2906        | TFX_AZD2906        |\n",
       "|  44435989 | TFX3_AZD9567        | TFX_AZD9567        |\n",
       "|  32701206 | TFX3_CORT108297     | TFX_CORT108297     |\n",
       "|  26352610 | TFX3_CpdA           | TFX_CpdA           |\n",
       "|  26400671 | TFX3_Dex            | TFX_Dex            |\n",
       "|  26819569 | TFX3_DMSO           | TFX_DMSO           |\n",
       "|  36774709 | TFX3_GW870086       | TFX_GW870086       |\n",
       "|  40293787 | TFX3_Hydrocortisone | TFX_Hydrocortisone |\n",
       "|  26384034 | TFX3_Mapracorat     | TFX_Mapracorat     |\n",
       "|  31454676 | TFX3_RU486          | TFX_RU486          |\n",
       "|  41139261 | TFX3_ZK216348       | TFX_ZK216348       |\n",
       "|  27175305 | TFX4_AZD2906        | TFX_AZD2906        |\n",
       "|  33610712 | TFX4_AZD9567        | TFX_AZD9567        |\n",
       "|  59429741 | TFX4_CORT108297     | TFX_CORT108297     |\n",
       "|  31202573 | TFX4_CpdA           | TFX_CpdA           |\n",
       "|  34590086 | TFX4_Dex            | TFX_Dex            |\n",
       "|  30951533 | TFX4_DMSO           | TFX_DMSO           |\n",
       "|  43395226 | TFX4_GW870086       | TFX_GW870086       |\n",
       "|  27190016 | TFX4_Hydrocortisone | TFX_Hydrocortisone |\n",
       "|  36460601 | TFX4_Mapracorat     | TFX_Mapracorat     |\n",
       "|  31196111 | TFX4_RU486          | TFX_RU486          |\n",
       "|  38035173 | TFX4_ZK216348       | TFX_ZK216348       |\n",
       "|  43862195 | TFX5_AZD2906        | TFX_AZD2906        |\n",
       "|  48356547 | TFX5_AZD9567        | TFX_AZD9567        |\n",
       "|  42880899 | TFX5_CORT108297     | TFX_CORT108297     |\n",
       "|  40239413 | TFX5_CpdA           | TFX_CpdA           |\n",
       "|  42310249 | TFX5_Dex            | TFX_Dex            |\n",
       "|  28859151 | TFX5_DMSO           | TFX_DMSO           |\n",
       "|  39710444 | TFX5_GW870086       | TFX_GW870086       |\n",
       "|  34580732 | TFX5_Hydrocortisone | TFX_Hydrocortisone |\n",
       "|  48311553 | TFX5_Mapracorat     | TFX_Mapracorat     |\n",
       "|  49785981 | TFX5_RU486          | TFX_RU486          |\n",
       "|  35907183 | TFX5_ZK216348       | TFX_ZK216348       |\n",
       "\n"
      ],
      "text/plain": [
       "   Size      Sample              Group             \n",
       "1  371718546 Input1_20x          Input             \n",
       "2   18666630 Input1              Input             \n",
       "3  347635732 Input2_20x          Input             \n",
       "4   20167924 Input2              Input             \n",
       "5  349994051 Input3_20x          Input             \n",
       "6   23280988 Input3              Input             \n",
       "7  413508358 Input4_20x          Input             \n",
       "8   19003938 Input4              Input             \n",
       "9  341110487 Input5_20x          Input             \n",
       "10  15325016 Input5              Input             \n",
       "11  48376253 TFX2_AZD2906        TFX_AZD2906       \n",
       "12  52542517 TFX2_AZD9567        TFX_AZD9567       \n",
       "13  43646484 TFX2_CORT108297     TFX_CORT108297    \n",
       "14  41732268 TFX2_CpdA           TFX_CpdA          \n",
       "15  45413539 TFX2_Dex            TFX_Dex           \n",
       "16  43844606 TFX2_DMSO           TFX_DMSO          \n",
       "17  56207769 TFX2_GW870086       TFX_GW870086      \n",
       "18  47829936 TFX2_Hydrocortisone TFX_Hydrocortisone\n",
       "19  38120420 TFX2_Mapracorat     TFX_Mapracorat    \n",
       "20  47687319 TFX2_RU486          TFX_RU486         \n",
       "21  45455167 TFX2_ZK216348       TFX_ZK216348      \n",
       "22  26840149 TFX3_AZD2906        TFX_AZD2906       \n",
       "23  44435989 TFX3_AZD9567        TFX_AZD9567       \n",
       "24  32701206 TFX3_CORT108297     TFX_CORT108297    \n",
       "25  26352610 TFX3_CpdA           TFX_CpdA          \n",
       "26  26400671 TFX3_Dex            TFX_Dex           \n",
       "27  26819569 TFX3_DMSO           TFX_DMSO          \n",
       "28  36774709 TFX3_GW870086       TFX_GW870086      \n",
       "29  40293787 TFX3_Hydrocortisone TFX_Hydrocortisone\n",
       "30  26384034 TFX3_Mapracorat     TFX_Mapracorat    \n",
       "31  31454676 TFX3_RU486          TFX_RU486         \n",
       "32  41139261 TFX3_ZK216348       TFX_ZK216348      \n",
       "33  27175305 TFX4_AZD2906        TFX_AZD2906       \n",
       "34  33610712 TFX4_AZD9567        TFX_AZD9567       \n",
       "35  59429741 TFX4_CORT108297     TFX_CORT108297    \n",
       "36  31202573 TFX4_CpdA           TFX_CpdA          \n",
       "37  34590086 TFX4_Dex            TFX_Dex           \n",
       "38  30951533 TFX4_DMSO           TFX_DMSO          \n",
       "39  43395226 TFX4_GW870086       TFX_GW870086      \n",
       "40  27190016 TFX4_Hydrocortisone TFX_Hydrocortisone\n",
       "41  36460601 TFX4_Mapracorat     TFX_Mapracorat    \n",
       "42  31196111 TFX4_RU486          TFX_RU486         \n",
       "43  38035173 TFX4_ZK216348       TFX_ZK216348      \n",
       "44  43862195 TFX5_AZD2906        TFX_AZD2906       \n",
       "45  48356547 TFX5_AZD9567        TFX_AZD9567       \n",
       "46  42880899 TFX5_CORT108297     TFX_CORT108297    \n",
       "47  40239413 TFX5_CpdA           TFX_CpdA          \n",
       "48  42310249 TFX5_Dex            TFX_Dex           \n",
       "49  28859151 TFX5_DMSO           TFX_DMSO          \n",
       "50  39710444 TFX5_GW870086       TFX_GW870086      \n",
       "51  34580732 TFX5_Hydrocortisone TFX_Hydrocortisone\n",
       "52  48311553 TFX5_Mapracorat     TFX_Mapracorat    \n",
       "53  49785981 TFX5_RU486          TFX_RU486         \n",
       "54  35907183 TFX5_ZK216348       TFX_ZK216348      "
      ]
     },
     "metadata": {},
     "output_type": "display_data"
    }
   ],
   "source": [
    "###################################################\n",
    "# Import library size\n",
    "###################################################\n",
    "\n",
    "### Helper function to get\n",
    "get_group = function(idn_sample){\n",
    "    idn = idn_sample\n",
    "    \n",
    "    idn = str_replace(\n",
    "        string = idn, \n",
    "        pattern = \"Input[0-9]\", \n",
    "        replacement = \"Input\")\n",
    "    \n",
    "    idn = str_remove(\n",
    "        string = idn, \n",
    "        pattern = \"_20x\")\n",
    "    \n",
    "    idn = str_replace(\n",
    "        string = idn, \n",
    "        pattern = \"TFX[0-9]_\", \n",
    "        replacement=\"TFX_\")\n",
    "    return(idn)\n",
    "}\n",
    "\n",
    "### set path\n",
    "fdiry = file.path(FD_RES, \"source\")\n",
    "fname = \"library_size.txt\"\n",
    "fpath = file.path(fdiry, fname)\n",
    "\n",
    "### import library size\n",
    "ctypes = c(col_integer(), col_character())\n",
    "cnames = c(\"Size\", \"FPath\")\n",
    "dat_lib = read_tsv(fpath, col_types=ctypes, col_names = cnames)\n",
    "\n",
    "### remove the total size\n",
    "dat_lib = dat_lib %>% dplyr::filter(FPath != \"total\")\n",
    "\n",
    "### summarize info from the file path\n",
    "### stackoverflow: Extract only folder name right before filename from full path\n",
    "dat_lib = dat_lib %>% \n",
    "    #mutate(Sample = tools::file_path_sans_ext(basename(FPath))) %>%\n",
    "    mutate(Sample = basename(dirname(FPath))) %>%\n",
    "    mutate(Group = get_group(Sample))\n",
    "dat_lib = dat_lib %>% dplyr::select(Size, Sample, Group)\n",
    "dat_lib"
   ]
  },
  {
   "cell_type": "code",
   "execution_count": 4,
   "metadata": {},
   "outputs": [
    {
     "name": "stdout",
     "output_type": "stream",
     "text": [
      "Target:           target_PER1 \n",
      "Output Directory: /home/mount/work/out/proj_combeffect/model_linear/test_interactive_split_input20x/target_PER1 \n",
      "Threshold:        10 \n"
     ]
    }
   ],
   "source": [
    "### arguments\n",
    "TARGET = \"target_PER1\"\n",
    "IS_INPUT20X = TRUE\n",
    "THRESHOLD = 10\n",
    "#FDIRY  = \"test_marginal_pool\"\n",
    "FDIRY  = \"test_interactive_split\"\n",
    "\n",
    "### set samples and path\n",
    "SAMPLES_TOT = c(\n",
    "    paste0(\"Input\", 1:5),\n",
    "    paste0(\"Input\", 1:5, \"_20x\"),\n",
    "    paste0(\"TFX\",   2:5, \"_DMSO\"),\n",
    "    paste0(\"TFX\",   2:5, \"_Dex\"))\n",
    "\n",
    "SAMPLES_INP = c(\n",
    "    paste0(\"Input\", 1:5),\n",
    "    paste0(\"TFX\",   2:5, \"_DMSO\"),\n",
    "    paste0(\"TFX\",   2:5, \"_Dex\"))\n",
    "\n",
    "SAMPLES_INP20X = c(\n",
    "    paste0(\"Input\", 1:5, \"_20x\"),\n",
    "    paste0(\"TFX\",   2:5, \"_DMSO\"),\n",
    "    paste0(\"TFX\",   2:5, \"_Dex\"))\n",
    "\n",
    "if (IS_INPUT20X) {\n",
    "    SAMPLES = SAMPLES_INP20X\n",
    "    FDIRY   = paste0(FDIRY, \"_input20x\")\n",
    "} else {\n",
    "    SAMPLES = SAMPLES_INP\n",
    "}\n",
    "FD_OUT = file.path(FD_RES, \"model_linear\", FDIRY, TARGET)\n",
    "dir.create(FD_OUT, recursive = TRUE, showWarnings = FALSE)\n",
    "\n",
    "### set motifs\n",
    "fdiry  = file.path(FD_RES, \"annotation_fragment\", SAMPLES[1], TARGET)\n",
    "fname  = \"*_merge.bed.gz\"\n",
    "fglob  = file.path(fdiry, fname)\n",
    "fpaths = Sys.glob(fglob)\n",
    "MOTIFS = basename(fpaths)\n",
    "\n",
    "### set column names and types\n",
    "CTYPES = c(col_character(), col_integer(), col_integer(), col_integer(),\n",
    "           col_character(), col_integer(), col_integer(),\n",
    "           col_character(), col_double(),  col_integer())\n",
    "CNAMES = c(\"Chrom_Frag\", \"Start_Frag\", \"End_Frag\", \"Count_Frag\",\n",
    "           \"Chrom_MTF\",  \"Start_MTF\",  \"End_MTF\",\n",
    "           \"Motif\", \"Score\", \"Overlap\")\n",
    "\n",
    "### START message\n",
    "cat(\"Target:          \", TARGET, \"\\n\")\n",
    "cat(\"Output Directory:\", FD_OUT, \"\\n\")\n",
    "cat(\"Threshold:       \", THRESHOLD, \"\\n\")"
   ]
  },
  {
   "cell_type": "code",
   "execution_count": 17,
   "metadata": {},
   "outputs": [],
   "source": [
    "mtf1 = \"AP1_1_merge.bed.gz\"\n",
    "mtf2 = \"NR_20_merge.bed.gz\"\n",
    "mtfs = c(\"AP1_1\", \"NR_20\")\n",
    "motif_pair = c(mtf1, mtf2)"
   ]
  },
  {
   "cell_type": "code",
   "execution_count": 8,
   "metadata": {},
   "outputs": [
    {
     "data": {
      "text/html": [
       "'target_PER1'"
      ],
      "text/latex": [
       "'target\\_PER1'"
      ],
      "text/markdown": [
       "'target_PER1'"
      ],
      "text/plain": [
       "[1] \"target_PER1\""
      ]
     },
     "metadata": {},
     "output_type": "display_data"
    }
   ],
   "source": [
    "TARGET"
   ]
  },
  {
   "cell_type": "code",
   "execution_count": null,
   "metadata": {},
   "outputs": [],
   "source": [
    "###\n",
    "lst_dat = lapply(motif_pair, function(fname){\n",
    "    lst = lapply(SAMPLES, function(sam){\n",
    "\n",
    "        ### set path\n",
    "        fdiry  = file.path(FD_RES, \"annotation_fragment\")\n",
    "        fpath = file.path(fdiry, sam, TARGET, fname)    \n",
    "\n",
    "        ### import data\n",
    "        dat = read_tsv(fpath, col_types=CTYPES, col_names=CNAMES)\n",
    "        if (nrow(dat) == 0){\n",
    "            return(NULL)\n",
    "        } else {\n",
    "            dat = dat %>% \n",
    "                mutate(Sample = sam) %>%\n",
    "                mutate(Length_MTF = End_MTF - Start_MTF) %>%\n",
    "                mutate(Length_Dif = Length_MTF - Overlap)\n",
    "            return(dat)\n",
    "        }\n",
    "    })\n",
    "\n",
    "    ### arrange data\n",
    "    dat = bind_rows(lst)\n",
    "    return(dat)\n",
    "})"
   ]
  },
  {
   "cell_type": "code",
   "execution_count": 18,
   "metadata": {},
   "outputs": [
    {
     "name": "stdout",
     "output_type": "stream",
     "text": [
      "AP1_1 Filter_overlap 16060 15845 \n",
      "NR_20 Filter_overlap 18635 18359 \n"
     ]
    }
   ],
   "source": [
    "lst_dat = lapply(seq_along(lst_dat), function(idx){\n",
    "    mtf = mtfs[idx]\n",
    "    dat = lst_dat[[idx]]\n",
    "    \n",
    "    ### Filter: fully cover the motif\n",
    "    num1 = nrow(dat)\n",
    "    dat = dat %>% dplyr::filter(Length_Dif == 0)\n",
    "    num2 = nrow(dat)\n",
    "    msg = paste(mtf, \"Filter_overlap\", num1, num2)\n",
    "    cat(msg, \"\\n\"); flush.console()\n",
    "    return(dat)\n",
    "})"
   ]
  },
  {
   "cell_type": "code",
   "execution_count": 19,
   "metadata": {},
   "outputs": [],
   "source": [
    "df1 = lst_dat[[1]]\n",
    "df2 = lst_dat[[2]]"
   ]
  },
  {
   "cell_type": "code",
   "execution_count": 20,
   "metadata": {},
   "outputs": [
    {
     "data": {
      "text/html": [
       "<table class=\"dataframe\">\n",
       "<caption>A tibble: 3 × 13</caption>\n",
       "<thead>\n",
       "\t<tr><th scope=col>Chrom_Frag</th><th scope=col>Start_Frag</th><th scope=col>End_Frag</th><th scope=col>Count_Frag</th><th scope=col>Chrom_MTF</th><th scope=col>Start_MTF</th><th scope=col>End_MTF</th><th scope=col>Motif</th><th scope=col>Score</th><th scope=col>Overlap</th><th scope=col>Sample</th><th scope=col>Length_MTF</th><th scope=col>Length_Dif</th></tr>\n",
       "\t<tr><th scope=col>&lt;chr&gt;</th><th scope=col>&lt;dbl&gt;</th><th scope=col>&lt;dbl&gt;</th><th scope=col>&lt;dbl&gt;</th><th scope=col>&lt;chr&gt;</th><th scope=col>&lt;dbl&gt;</th><th scope=col>&lt;dbl&gt;</th><th scope=col>&lt;chr&gt;</th><th scope=col>&lt;dbl&gt;</th><th scope=col>&lt;dbl&gt;</th><th scope=col>&lt;chr&gt;</th><th scope=col>&lt;dbl&gt;</th><th scope=col>&lt;dbl&gt;</th></tr>\n",
       "</thead>\n",
       "<tbody>\n",
       "\t<tr><td>chr17</td><td>8148003</td><td>8148983</td><td>3</td><td>chr17</td><td>8148425</td><td>8148433</td><td>AP1/1</td><td>6.7321</td><td>8</td><td>Input1_20x</td><td>8</td><td>0</td></tr>\n",
       "\t<tr><td>chr17</td><td>8148003</td><td>8148983</td><td>3</td><td>chr17</td><td>8148917</td><td>8148925</td><td>AP1/1</td><td>8.0514</td><td>8</td><td>Input1_20x</td><td>8</td><td>0</td></tr>\n",
       "\t<tr><td>chr17</td><td>8148004</td><td>8148925</td><td>1</td><td>chr17</td><td>8148425</td><td>8148433</td><td>AP1/1</td><td>6.7321</td><td>8</td><td>Input1_20x</td><td>8</td><td>0</td></tr>\n",
       "</tbody>\n",
       "</table>\n"
      ],
      "text/latex": [
       "A tibble: 3 × 13\n",
       "\\begin{tabular}{lllllllllllll}\n",
       " Chrom\\_Frag & Start\\_Frag & End\\_Frag & Count\\_Frag & Chrom\\_MTF & Start\\_MTF & End\\_MTF & Motif & Score & Overlap & Sample & Length\\_MTF & Length\\_Dif\\\\\n",
       " <chr> & <dbl> & <dbl> & <dbl> & <chr> & <dbl> & <dbl> & <chr> & <dbl> & <dbl> & <chr> & <dbl> & <dbl>\\\\\n",
       "\\hline\n",
       "\t chr17 & 8148003 & 8148983 & 3 & chr17 & 8148425 & 8148433 & AP1/1 & 6.7321 & 8 & Input1\\_20x & 8 & 0\\\\\n",
       "\t chr17 & 8148003 & 8148983 & 3 & chr17 & 8148917 & 8148925 & AP1/1 & 8.0514 & 8 & Input1\\_20x & 8 & 0\\\\\n",
       "\t chr17 & 8148004 & 8148925 & 1 & chr17 & 8148425 & 8148433 & AP1/1 & 6.7321 & 8 & Input1\\_20x & 8 & 0\\\\\n",
       "\\end{tabular}\n"
      ],
      "text/markdown": [
       "\n",
       "A tibble: 3 × 13\n",
       "\n",
       "| Chrom_Frag &lt;chr&gt; | Start_Frag &lt;dbl&gt; | End_Frag &lt;dbl&gt; | Count_Frag &lt;dbl&gt; | Chrom_MTF &lt;chr&gt; | Start_MTF &lt;dbl&gt; | End_MTF &lt;dbl&gt; | Motif &lt;chr&gt; | Score &lt;dbl&gt; | Overlap &lt;dbl&gt; | Sample &lt;chr&gt; | Length_MTF &lt;dbl&gt; | Length_Dif &lt;dbl&gt; |\n",
       "|---|---|---|---|---|---|---|---|---|---|---|---|---|\n",
       "| chr17 | 8148003 | 8148983 | 3 | chr17 | 8148425 | 8148433 | AP1/1 | 6.7321 | 8 | Input1_20x | 8 | 0 |\n",
       "| chr17 | 8148003 | 8148983 | 3 | chr17 | 8148917 | 8148925 | AP1/1 | 8.0514 | 8 | Input1_20x | 8 | 0 |\n",
       "| chr17 | 8148004 | 8148925 | 1 | chr17 | 8148425 | 8148433 | AP1/1 | 6.7321 | 8 | Input1_20x | 8 | 0 |\n",
       "\n"
      ],
      "text/plain": [
       "  Chrom_Frag Start_Frag End_Frag Count_Frag Chrom_MTF Start_MTF End_MTF Motif\n",
       "1 chr17      8148003    8148983  3          chr17     8148425   8148433 AP1/1\n",
       "2 chr17      8148003    8148983  3          chr17     8148917   8148925 AP1/1\n",
       "3 chr17      8148004    8148925  1          chr17     8148425   8148433 AP1/1\n",
       "  Score  Overlap Sample     Length_MTF Length_Dif\n",
       "1 6.7321 8       Input1_20x 8          0         \n",
       "2 8.0514 8       Input1_20x 8          0         \n",
       "3 6.7321 8       Input1_20x 8          0         "
      ]
     },
     "metadata": {},
     "output_type": "display_data"
    }
   ],
   "source": [
    "head(df1, 3)"
   ]
  },
  {
   "cell_type": "code",
   "execution_count": 21,
   "metadata": {},
   "outputs": [
    {
     "data": {
      "text/html": [
       "<table class=\"dataframe\">\n",
       "<caption>A tibble: 3 × 13</caption>\n",
       "<thead>\n",
       "\t<tr><th scope=col>Chrom_Frag</th><th scope=col>Start_Frag</th><th scope=col>End_Frag</th><th scope=col>Count_Frag</th><th scope=col>Chrom_MTF</th><th scope=col>Start_MTF</th><th scope=col>End_MTF</th><th scope=col>Motif</th><th scope=col>Score</th><th scope=col>Overlap</th><th scope=col>Sample</th><th scope=col>Length_MTF</th><th scope=col>Length_Dif</th></tr>\n",
       "\t<tr><th scope=col>&lt;chr&gt;</th><th scope=col>&lt;dbl&gt;</th><th scope=col>&lt;dbl&gt;</th><th scope=col>&lt;dbl&gt;</th><th scope=col>&lt;chr&gt;</th><th scope=col>&lt;dbl&gt;</th><th scope=col>&lt;dbl&gt;</th><th scope=col>&lt;chr&gt;</th><th scope=col>&lt;dbl&gt;</th><th scope=col>&lt;dbl&gt;</th><th scope=col>&lt;chr&gt;</th><th scope=col>&lt;dbl&gt;</th><th scope=col>&lt;dbl&gt;</th></tr>\n",
       "</thead>\n",
       "<tbody>\n",
       "\t<tr><td>chr17</td><td>8149107</td><td>8150370</td><td>1</td><td>chr17</td><td>8150232</td><td>8150246</td><td>NR/20</td><td>8.3256</td><td>14</td><td>Input1_20x</td><td>14</td><td>0</td></tr>\n",
       "\t<tr><td>chr17</td><td>8149107</td><td>8150372</td><td>1</td><td>chr17</td><td>8150232</td><td>8150246</td><td>NR/20</td><td>8.3256</td><td>14</td><td>Input1_20x</td><td>14</td><td>0</td></tr>\n",
       "\t<tr><td>chr17</td><td>8149162</td><td>8150259</td><td>1</td><td>chr17</td><td>8150232</td><td>8150246</td><td>NR/20</td><td>8.3256</td><td>14</td><td>Input1_20x</td><td>14</td><td>0</td></tr>\n",
       "</tbody>\n",
       "</table>\n"
      ],
      "text/latex": [
       "A tibble: 3 × 13\n",
       "\\begin{tabular}{lllllllllllll}\n",
       " Chrom\\_Frag & Start\\_Frag & End\\_Frag & Count\\_Frag & Chrom\\_MTF & Start\\_MTF & End\\_MTF & Motif & Score & Overlap & Sample & Length\\_MTF & Length\\_Dif\\\\\n",
       " <chr> & <dbl> & <dbl> & <dbl> & <chr> & <dbl> & <dbl> & <chr> & <dbl> & <dbl> & <chr> & <dbl> & <dbl>\\\\\n",
       "\\hline\n",
       "\t chr17 & 8149107 & 8150370 & 1 & chr17 & 8150232 & 8150246 & NR/20 & 8.3256 & 14 & Input1\\_20x & 14 & 0\\\\\n",
       "\t chr17 & 8149107 & 8150372 & 1 & chr17 & 8150232 & 8150246 & NR/20 & 8.3256 & 14 & Input1\\_20x & 14 & 0\\\\\n",
       "\t chr17 & 8149162 & 8150259 & 1 & chr17 & 8150232 & 8150246 & NR/20 & 8.3256 & 14 & Input1\\_20x & 14 & 0\\\\\n",
       "\\end{tabular}\n"
      ],
      "text/markdown": [
       "\n",
       "A tibble: 3 × 13\n",
       "\n",
       "| Chrom_Frag &lt;chr&gt; | Start_Frag &lt;dbl&gt; | End_Frag &lt;dbl&gt; | Count_Frag &lt;dbl&gt; | Chrom_MTF &lt;chr&gt; | Start_MTF &lt;dbl&gt; | End_MTF &lt;dbl&gt; | Motif &lt;chr&gt; | Score &lt;dbl&gt; | Overlap &lt;dbl&gt; | Sample &lt;chr&gt; | Length_MTF &lt;dbl&gt; | Length_Dif &lt;dbl&gt; |\n",
       "|---|---|---|---|---|---|---|---|---|---|---|---|---|\n",
       "| chr17 | 8149107 | 8150370 | 1 | chr17 | 8150232 | 8150246 | NR/20 | 8.3256 | 14 | Input1_20x | 14 | 0 |\n",
       "| chr17 | 8149107 | 8150372 | 1 | chr17 | 8150232 | 8150246 | NR/20 | 8.3256 | 14 | Input1_20x | 14 | 0 |\n",
       "| chr17 | 8149162 | 8150259 | 1 | chr17 | 8150232 | 8150246 | NR/20 | 8.3256 | 14 | Input1_20x | 14 | 0 |\n",
       "\n"
      ],
      "text/plain": [
       "  Chrom_Frag Start_Frag End_Frag Count_Frag Chrom_MTF Start_MTF End_MTF Motif\n",
       "1 chr17      8149107    8150370  1          chr17     8150232   8150246 NR/20\n",
       "2 chr17      8149107    8150372  1          chr17     8150232   8150246 NR/20\n",
       "3 chr17      8149162    8150259  1          chr17     8150232   8150246 NR/20\n",
       "  Score  Overlap Sample     Length_MTF Length_Dif\n",
       "1 8.3256 14      Input1_20x 14         0         \n",
       "2 8.3256 14      Input1_20x 14         0         \n",
       "3 8.3256 14      Input1_20x 14         0         "
      ]
     },
     "metadata": {},
     "output_type": "display_data"
    }
   ],
   "source": [
    "head(df2, 3)"
   ]
  },
  {
   "cell_type": "code",
   "execution_count": 22,
   "metadata": {},
   "outputs": [],
   "source": [
    "### extract fragments\n",
    "dat1 = bind_rows(df1, df2) %>% \n",
    "    dplyr::select(Chrom_Frag, Start_Frag, End_Frag, Count_Frag, Sample) %>%\n",
    "    distinct\n",
    "dat2 = df1 %>% \n",
    "    dplyr::select(Chrom_Frag, Start_Frag, End_Frag, Count_Frag, Sample, Motif, Start_MTF, End_MTF)\n",
    "dat3 = df2 %>% \n",
    "    dplyr::select(Chrom_Frag, Start_Frag, End_Frag, Count_Frag, Sample, Motif, Start_MTF, End_MTF)\n",
    "\n",
    "### match fragments for the motif pair\n",
    "dat = dat1 %>%\n",
    "    full_join(dat2, by = c(\"Chrom_Frag\", \"Start_Frag\", \"End_Frag\", \"Count_Frag\", \"Sample\")) %>%\n",
    "    full_join(dat3, by = c(\"Chrom_Frag\", \"Start_Frag\", \"End_Frag\", \"Count_Frag\", \"Sample\")) %>%\n",
    "    mutate(Motif = paste(Motif.x, Motif.y, sep = \"_\")) %>%\n",
    "    mutate(Motif = str_remove(string=Motif, pattern=\"_NA|NA_\")) %>% \n",
    "    mutate(Group = str_remove(string = Sample, pattern = \"[0-9]\")) %>%\n",
    "    mutate(X     = paste(Group, Motif, sep=\"_\")) %>%\n",
    "    mutate(X     = ifelse(str_detect(X, \"Input\"), \"Input\", X))\n",
    "\n",
    "### count\n",
    "#dat = dat %>% \n",
    "#    group_by(Sample, X) %>% \n",
    "#    summarise(Value = sum(Count_Frag), .groups = 'drop')\n",
    "\n",
    "### normalize counts by library size\n",
    "#dat = dat %>% left_join(dat_lib, by=\"Sample\")\n",
    "#dat = dat %>%\n",
    "#    mutate(Norm_Value    = Value / Size) %>% \n",
    "#    mutate(Lognorm_Value = log10(Value) - log10(Size))"
   ]
  },
  {
   "cell_type": "code",
   "execution_count": 28,
   "metadata": {},
   "outputs": [
    {
     "data": {
      "text/html": [
       "<table class=\"dataframe\">\n",
       "<caption>A tibble: 3 × 14</caption>\n",
       "<thead>\n",
       "\t<tr><th scope=col>Chrom_Frag</th><th scope=col>Start_Frag</th><th scope=col>End_Frag</th><th scope=col>Count_Frag</th><th scope=col>Sample</th><th scope=col>Motif.x</th><th scope=col>Start_MTF.x</th><th scope=col>End_MTF.x</th><th scope=col>Motif.y</th><th scope=col>Start_MTF.y</th><th scope=col>End_MTF.y</th><th scope=col>Motif</th><th scope=col>Group</th><th scope=col>X</th></tr>\n",
       "\t<tr><th scope=col>&lt;chr&gt;</th><th scope=col>&lt;dbl&gt;</th><th scope=col>&lt;dbl&gt;</th><th scope=col>&lt;dbl&gt;</th><th scope=col>&lt;chr&gt;</th><th scope=col>&lt;chr&gt;</th><th scope=col>&lt;dbl&gt;</th><th scope=col>&lt;dbl&gt;</th><th scope=col>&lt;chr&gt;</th><th scope=col>&lt;dbl&gt;</th><th scope=col>&lt;dbl&gt;</th><th scope=col>&lt;chr&gt;</th><th scope=col>&lt;chr&gt;</th><th scope=col>&lt;chr&gt;</th></tr>\n",
       "</thead>\n",
       "<tbody>\n",
       "\t<tr><td>chr17</td><td>8148003</td><td>8148983</td><td>3</td><td>Input1_20x</td><td>AP1/1</td><td>8148425</td><td>8148433</td><td>NA</td><td>NA</td><td>NA</td><td>AP1/1</td><td>Input_20x</td><td>Input</td></tr>\n",
       "\t<tr><td>chr17</td><td>8148003</td><td>8148983</td><td>3</td><td>Input1_20x</td><td>AP1/1</td><td>8148917</td><td>8148925</td><td>NA</td><td>NA</td><td>NA</td><td>AP1/1</td><td>Input_20x</td><td>Input</td></tr>\n",
       "\t<tr><td>chr17</td><td>8148004</td><td>8148925</td><td>1</td><td>Input1_20x</td><td>AP1/1</td><td>8148425</td><td>8148433</td><td>NA</td><td>NA</td><td>NA</td><td>AP1/1</td><td>Input_20x</td><td>Input</td></tr>\n",
       "</tbody>\n",
       "</table>\n"
      ],
      "text/latex": [
       "A tibble: 3 × 14\n",
       "\\begin{tabular}{llllllllllllll}\n",
       " Chrom\\_Frag & Start\\_Frag & End\\_Frag & Count\\_Frag & Sample & Motif.x & Start\\_MTF.x & End\\_MTF.x & Motif.y & Start\\_MTF.y & End\\_MTF.y & Motif & Group & X\\\\\n",
       " <chr> & <dbl> & <dbl> & <dbl> & <chr> & <chr> & <dbl> & <dbl> & <chr> & <dbl> & <dbl> & <chr> & <chr> & <chr>\\\\\n",
       "\\hline\n",
       "\t chr17 & 8148003 & 8148983 & 3 & Input1\\_20x & AP1/1 & 8148425 & 8148433 & NA & NA & NA & AP1/1 & Input\\_20x & Input\\\\\n",
       "\t chr17 & 8148003 & 8148983 & 3 & Input1\\_20x & AP1/1 & 8148917 & 8148925 & NA & NA & NA & AP1/1 & Input\\_20x & Input\\\\\n",
       "\t chr17 & 8148004 & 8148925 & 1 & Input1\\_20x & AP1/1 & 8148425 & 8148433 & NA & NA & NA & AP1/1 & Input\\_20x & Input\\\\\n",
       "\\end{tabular}\n"
      ],
      "text/markdown": [
       "\n",
       "A tibble: 3 × 14\n",
       "\n",
       "| Chrom_Frag &lt;chr&gt; | Start_Frag &lt;dbl&gt; | End_Frag &lt;dbl&gt; | Count_Frag &lt;dbl&gt; | Sample &lt;chr&gt; | Motif.x &lt;chr&gt; | Start_MTF.x &lt;dbl&gt; | End_MTF.x &lt;dbl&gt; | Motif.y &lt;chr&gt; | Start_MTF.y &lt;dbl&gt; | End_MTF.y &lt;dbl&gt; | Motif &lt;chr&gt; | Group &lt;chr&gt; | X &lt;chr&gt; |\n",
       "|---|---|---|---|---|---|---|---|---|---|---|---|---|---|\n",
       "| chr17 | 8148003 | 8148983 | 3 | Input1_20x | AP1/1 | 8148425 | 8148433 | NA | NA | NA | AP1/1 | Input_20x | Input |\n",
       "| chr17 | 8148003 | 8148983 | 3 | Input1_20x | AP1/1 | 8148917 | 8148925 | NA | NA | NA | AP1/1 | Input_20x | Input |\n",
       "| chr17 | 8148004 | 8148925 | 1 | Input1_20x | AP1/1 | 8148425 | 8148433 | NA | NA | NA | AP1/1 | Input_20x | Input |\n",
       "\n"
      ],
      "text/plain": [
       "  Chrom_Frag Start_Frag End_Frag Count_Frag Sample     Motif.x Start_MTF.x\n",
       "1 chr17      8148003    8148983  3          Input1_20x AP1/1   8148425    \n",
       "2 chr17      8148003    8148983  3          Input1_20x AP1/1   8148917    \n",
       "3 chr17      8148004    8148925  1          Input1_20x AP1/1   8148425    \n",
       "  End_MTF.x Motif.y Start_MTF.y End_MTF.y Motif Group     X    \n",
       "1 8148433   NA      NA          NA        AP1/1 Input_20x Input\n",
       "2 8148925   NA      NA          NA        AP1/1 Input_20x Input\n",
       "3 8148433   NA      NA          NA        AP1/1 Input_20x Input"
      ]
     },
     "metadata": {},
     "output_type": "display_data"
    }
   ],
   "source": [
    "head(dat, 3)"
   ]
  },
  {
   "cell_type": "code",
   "execution_count": 30,
   "metadata": {},
   "outputs": [
    {
     "data": {
      "text/html": [
       "<table class=\"dataframe\">\n",
       "<caption>A tibble: 3 × 15</caption>\n",
       "<thead>\n",
       "\t<tr><th scope=col>Chrom_Frag</th><th scope=col>Start_Frag</th><th scope=col>End_Frag</th><th scope=col>Count_Frag</th><th scope=col>Sample</th><th scope=col>Motif.x</th><th scope=col>Start_MTF.x</th><th scope=col>End_MTF.x</th><th scope=col>Motif.y</th><th scope=col>Start_MTF.y</th><th scope=col>End_MTF.y</th><th scope=col>Motif</th><th scope=col>Group</th><th scope=col>X</th><th scope=col>Dist_MTF</th></tr>\n",
       "\t<tr><th scope=col>&lt;chr&gt;</th><th scope=col>&lt;dbl&gt;</th><th scope=col>&lt;dbl&gt;</th><th scope=col>&lt;dbl&gt;</th><th scope=col>&lt;chr&gt;</th><th scope=col>&lt;chr&gt;</th><th scope=col>&lt;dbl&gt;</th><th scope=col>&lt;dbl&gt;</th><th scope=col>&lt;chr&gt;</th><th scope=col>&lt;dbl&gt;</th><th scope=col>&lt;dbl&gt;</th><th scope=col>&lt;chr&gt;</th><th scope=col>&lt;chr&gt;</th><th scope=col>&lt;chr&gt;</th><th scope=col>&lt;dbl&gt;</th></tr>\n",
       "</thead>\n",
       "<tbody>\n",
       "\t<tr><td>chr17</td><td>8149107</td><td>8150370</td><td>1</td><td>Input1_20x</td><td>AP1/1</td><td>8149893</td><td>8149901</td><td>NR/20</td><td>8150232</td><td>8150246</td><td>AP1/1_NR/20</td><td>Input_20x</td><td>Input</td><td>339</td></tr>\n",
       "\t<tr><td>chr17</td><td>8149107</td><td>8150372</td><td>1</td><td>Input1_20x</td><td>AP1/1</td><td>8149893</td><td>8149901</td><td>NR/20</td><td>8150232</td><td>8150246</td><td>AP1/1_NR/20</td><td>Input_20x</td><td>Input</td><td>339</td></tr>\n",
       "\t<tr><td>chr17</td><td>8149162</td><td>8150259</td><td>1</td><td>Input1_20x</td><td>AP1/1</td><td>8149893</td><td>8149901</td><td>NR/20</td><td>8150232</td><td>8150246</td><td>AP1/1_NR/20</td><td>Input_20x</td><td>Input</td><td>339</td></tr>\n",
       "</tbody>\n",
       "</table>\n"
      ],
      "text/latex": [
       "A tibble: 3 × 15\n",
       "\\begin{tabular}{lllllllllllllll}\n",
       " Chrom\\_Frag & Start\\_Frag & End\\_Frag & Count\\_Frag & Sample & Motif.x & Start\\_MTF.x & End\\_MTF.x & Motif.y & Start\\_MTF.y & End\\_MTF.y & Motif & Group & X & Dist\\_MTF\\\\\n",
       " <chr> & <dbl> & <dbl> & <dbl> & <chr> & <chr> & <dbl> & <dbl> & <chr> & <dbl> & <dbl> & <chr> & <chr> & <chr> & <dbl>\\\\\n",
       "\\hline\n",
       "\t chr17 & 8149107 & 8150370 & 1 & Input1\\_20x & AP1/1 & 8149893 & 8149901 & NR/20 & 8150232 & 8150246 & AP1/1\\_NR/20 & Input\\_20x & Input & 339\\\\\n",
       "\t chr17 & 8149107 & 8150372 & 1 & Input1\\_20x & AP1/1 & 8149893 & 8149901 & NR/20 & 8150232 & 8150246 & AP1/1\\_NR/20 & Input\\_20x & Input & 339\\\\\n",
       "\t chr17 & 8149162 & 8150259 & 1 & Input1\\_20x & AP1/1 & 8149893 & 8149901 & NR/20 & 8150232 & 8150246 & AP1/1\\_NR/20 & Input\\_20x & Input & 339\\\\\n",
       "\\end{tabular}\n"
      ],
      "text/markdown": [
       "\n",
       "A tibble: 3 × 15\n",
       "\n",
       "| Chrom_Frag &lt;chr&gt; | Start_Frag &lt;dbl&gt; | End_Frag &lt;dbl&gt; | Count_Frag &lt;dbl&gt; | Sample &lt;chr&gt; | Motif.x &lt;chr&gt; | Start_MTF.x &lt;dbl&gt; | End_MTF.x &lt;dbl&gt; | Motif.y &lt;chr&gt; | Start_MTF.y &lt;dbl&gt; | End_MTF.y &lt;dbl&gt; | Motif &lt;chr&gt; | Group &lt;chr&gt; | X &lt;chr&gt; | Dist_MTF &lt;dbl&gt; |\n",
       "|---|---|---|---|---|---|---|---|---|---|---|---|---|---|---|\n",
       "| chr17 | 8149107 | 8150370 | 1 | Input1_20x | AP1/1 | 8149893 | 8149901 | NR/20 | 8150232 | 8150246 | AP1/1_NR/20 | Input_20x | Input | 339 |\n",
       "| chr17 | 8149107 | 8150372 | 1 | Input1_20x | AP1/1 | 8149893 | 8149901 | NR/20 | 8150232 | 8150246 | AP1/1_NR/20 | Input_20x | Input | 339 |\n",
       "| chr17 | 8149162 | 8150259 | 1 | Input1_20x | AP1/1 | 8149893 | 8149901 | NR/20 | 8150232 | 8150246 | AP1/1_NR/20 | Input_20x | Input | 339 |\n",
       "\n"
      ],
      "text/plain": [
       "  Chrom_Frag Start_Frag End_Frag Count_Frag Sample     Motif.x Start_MTF.x\n",
       "1 chr17      8149107    8150370  1          Input1_20x AP1/1   8149893    \n",
       "2 chr17      8149107    8150372  1          Input1_20x AP1/1   8149893    \n",
       "3 chr17      8149162    8150259  1          Input1_20x AP1/1   8149893    \n",
       "  End_MTF.x Motif.y Start_MTF.y End_MTF.y Motif       Group     X     Dist_MTF\n",
       "1 8149901   NR/20   8150232     8150246   AP1/1_NR/20 Input_20x Input 339     \n",
       "2 8149901   NR/20   8150232     8150246   AP1/1_NR/20 Input_20x Input 339     \n",
       "3 8149901   NR/20   8150232     8150246   AP1/1_NR/20 Input_20x Input 339     "
      ]
     },
     "metadata": {},
     "output_type": "display_data"
    }
   ],
   "source": [
    "tmp = dat %>% dplyr::filter(Motif == \"AP1/1_NR/20\") %>% mutate(Dist_MTF = abs(Start_MTF.x - Start_MTF.y))\n",
    "head(tmp, 3)"
   ]
  },
  {
   "cell_type": "code",
   "execution_count": 31,
   "metadata": {},
   "outputs": [
    {
     "data": {
      "text/html": [
       "<table class=\"dataframe\">\n",
       "<caption>A tibble: 6 × 4</caption>\n",
       "<thead>\n",
       "\t<tr><th scope=col>Sample</th><th scope=col>X</th><th scope=col>Dist_MTF</th><th scope=col>Value</th></tr>\n",
       "\t<tr><th scope=col>&lt;chr&gt;</th><th scope=col>&lt;chr&gt;</th><th scope=col>&lt;dbl&gt;</th><th scope=col>&lt;dbl&gt;</th></tr>\n",
       "</thead>\n",
       "<tbody>\n",
       "\t<tr><td>Input1_20x</td><td>Input</td><td>229</td><td>560</td></tr>\n",
       "\t<tr><td>Input1_20x</td><td>Input</td><td>339</td><td>383</td></tr>\n",
       "\t<tr><td>Input1_20x</td><td>Input</td><td>457</td><td>161</td></tr>\n",
       "\t<tr><td>Input1_20x</td><td>Input</td><td>640</td><td>279</td></tr>\n",
       "\t<tr><td>Input1_20x</td><td>Input</td><td>758</td><td> 83</td></tr>\n",
       "\t<tr><td>Input1_20x</td><td>Input</td><td>938</td><td> 59</td></tr>\n",
       "</tbody>\n",
       "</table>\n"
      ],
      "text/latex": [
       "A tibble: 6 × 4\n",
       "\\begin{tabular}{llll}\n",
       " Sample & X & Dist\\_MTF & Value\\\\\n",
       " <chr> & <chr> & <dbl> & <dbl>\\\\\n",
       "\\hline\n",
       "\t Input1\\_20x & Input & 229 & 560\\\\\n",
       "\t Input1\\_20x & Input & 339 & 383\\\\\n",
       "\t Input1\\_20x & Input & 457 & 161\\\\\n",
       "\t Input1\\_20x & Input & 640 & 279\\\\\n",
       "\t Input1\\_20x & Input & 758 &  83\\\\\n",
       "\t Input1\\_20x & Input & 938 &  59\\\\\n",
       "\\end{tabular}\n"
      ],
      "text/markdown": [
       "\n",
       "A tibble: 6 × 4\n",
       "\n",
       "| Sample &lt;chr&gt; | X &lt;chr&gt; | Dist_MTF &lt;dbl&gt; | Value &lt;dbl&gt; |\n",
       "|---|---|---|---|\n",
       "| Input1_20x | Input | 229 | 560 |\n",
       "| Input1_20x | Input | 339 | 383 |\n",
       "| Input1_20x | Input | 457 | 161 |\n",
       "| Input1_20x | Input | 640 | 279 |\n",
       "| Input1_20x | Input | 758 |  83 |\n",
       "| Input1_20x | Input | 938 |  59 |\n",
       "\n"
      ],
      "text/plain": [
       "  Sample     X     Dist_MTF Value\n",
       "1 Input1_20x Input 229      560  \n",
       "2 Input1_20x Input 339      383  \n",
       "3 Input1_20x Input 457      161  \n",
       "4 Input1_20x Input 640      279  \n",
       "5 Input1_20x Input 758       83  \n",
       "6 Input1_20x Input 938       59  "
      ]
     },
     "metadata": {},
     "output_type": "display_data"
    }
   ],
   "source": [
    "tmp = dat %>% dplyr::filter(Motif == \"AP1/1_NR/20\") %>% mutate(Dist_MTF = abs(Start_MTF.x - Start_MTF.y))\n",
    "tmp = tmp %>% group_by(Sample, X, Dist_MTF) %>% summarise(Value = sum(Count_Frag), .groups = 'drop')\n",
    "head(tmp)"
   ]
  },
  {
   "cell_type": "code",
   "execution_count": 32,
   "metadata": {},
   "outputs": [
    {
     "data": {
      "text/html": [
       "<style>\n",
       ".list-inline {list-style: none; margin:0; padding: 0}\n",
       ".list-inline>li {display: inline-block}\n",
       ".list-inline>li:not(:last-child)::after {content: \"\\00b7\"; padding: 0 .5ex}\n",
       "</style>\n",
       "<ol class=list-inline><li>74</li><li>4</li></ol>\n"
      ],
      "text/latex": [
       "\\begin{enumerate*}\n",
       "\\item 74\n",
       "\\item 4\n",
       "\\end{enumerate*}\n"
      ],
      "text/markdown": [
       "1. 74\n",
       "2. 4\n",
       "\n",
       "\n"
      ],
      "text/plain": [
       "[1] 74  4"
      ]
     },
     "metadata": {},
     "output_type": "display_data"
    }
   ],
   "source": [
    "dim(tmp)"
   ]
  },
  {
   "cell_type": "code",
   "execution_count": 37,
   "metadata": {},
   "outputs": [
    {
     "data": {
      "image/png": "[encoded data removed]",
      "text/plain": [
       "plot without title"
      ]
     },
     "metadata": {
      "image/png": {
       "height": 420,
       "width": 420
      }
     },
     "output_type": "display_data"
    }
   ],
   "source": [
    "gpt = ggplot(tmp, aes(x=Dist_MTF, y=Value, color=X)) + geom_point() + theme_cowplot()\n",
    "print(gpt)"
   ]
  },
  {
   "cell_type": "code",
   "execution_count": null,
   "metadata": {},
   "outputs": [],
   "source": []
  }
 ],
 "metadata": {
  "kernelspec": {
   "display_name": "R",
   "language": "R",
   "name": "ir"
  },
  "language_info": {
   "codemirror_mode": "r",
   "file_extension": ".r",
   "mimetype": "text/x-r-source",
   "name": "R",
   "pygments_lexer": "r",
   "version": "4.1.1"
  }
 },
 "nbformat": 4,
 "nbformat_minor": 4
}
