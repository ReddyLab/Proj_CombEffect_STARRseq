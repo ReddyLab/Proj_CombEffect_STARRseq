{
 "cells": [
  {
   "cell_type": "code",
   "execution_count": 1,
   "metadata": {},
   "outputs": [
    {
     "name": "stdout",
     "output_type": "stream",
     "text": [
      "[1] \"/home/mount/work\"\n",
      "[1] \"/home/mount/work/out/proj_combeffect\"\n"
     ]
    }
   ],
   "source": [
    "suppressMessages(suppressWarnings(source(\"config_sing.R\")))\n",
    "print(FD_WORK)\n",
    "print(FD_RES)"
   ]
  },
  {
   "cell_type": "code",
   "execution_count": 2,
   "metadata": {},
   "outputs": [],
   "source": [
    "### set column names and types\n",
    "CTYPES = c(col_character(), col_integer(), col_integer(), col_integer(),\n",
    "           col_character(), col_integer(), col_integer(),\n",
    "           col_character(), col_double(),  col_integer())\n",
    "CNAMES = c(\"Chrom_Frag\", \"Start_Frag\", \"End_Frag\", \"Count_Frag\",\n",
    "           \"Chrom_MTF\",  \"Start_MTF\",  \"End_MTF\",\n",
    "           \"Motif\", \"Score\", \"Overlap\")"
   ]
  },
  {
   "cell_type": "code",
   "execution_count": 3,
   "metadata": {},
   "outputs": [
    {
     "data": {
      "text/html": [
       "<table class=\"dataframe\">\n",
       "<caption>A tibble: 6 × 10</caption>\n",
       "<thead>\n",
       "\t<tr><th scope=col>Chrom_Frag</th><th scope=col>Start_Frag</th><th scope=col>End_Frag</th><th scope=col>Count_Frag</th><th scope=col>Chrom_MTF</th><th scope=col>Start_MTF</th><th scope=col>End_MTF</th><th scope=col>Motif</th><th scope=col>Score</th><th scope=col>Overlap</th></tr>\n",
       "\t<tr><th scope=col>&lt;chr&gt;</th><th scope=col>&lt;dbl&gt;</th><th scope=col>&lt;dbl&gt;</th><th scope=col>&lt;dbl&gt;</th><th scope=col>&lt;chr&gt;</th><th scope=col>&lt;dbl&gt;</th><th scope=col>&lt;dbl&gt;</th><th scope=col>&lt;chr&gt;</th><th scope=col>&lt;dbl&gt;</th><th scope=col>&lt;dbl&gt;</th></tr>\n",
       "</thead>\n",
       "<tbody>\n",
       "\t<tr><td>chr1</td><td>19150</td><td>20283</td><td>1</td><td>chr1</td><td>19486</td><td>19501</td><td>AIRE</td><td>7.6920</td><td>15</td></tr>\n",
       "\t<tr><td>chr1</td><td>19158</td><td>20265</td><td>1</td><td>chr1</td><td>19486</td><td>19501</td><td>AIRE</td><td>7.6920</td><td>15</td></tr>\n",
       "\t<tr><td>chr1</td><td>29890</td><td>30910</td><td>1</td><td>chr1</td><td>30145</td><td>30160</td><td>AIRE</td><td>8.2841</td><td>15</td></tr>\n",
       "\t<tr><td>chr1</td><td>29891</td><td>30910</td><td>1</td><td>chr1</td><td>30145</td><td>30160</td><td>AIRE</td><td>8.2841</td><td>15</td></tr>\n",
       "\t<tr><td>chr1</td><td>29928</td><td>30907</td><td>1</td><td>chr1</td><td>30145</td><td>30160</td><td>AIRE</td><td>8.2841</td><td>15</td></tr>\n",
       "\t<tr><td>chr1</td><td>29951</td><td>30906</td><td>1</td><td>chr1</td><td>30145</td><td>30160</td><td>AIRE</td><td>8.2841</td><td>15</td></tr>\n",
       "</tbody>\n",
       "</table>\n"
      ],
      "text/latex": [
       "A tibble: 6 × 10\n",
       "\\begin{tabular}{llllllllll}\n",
       " Chrom\\_Frag & Start\\_Frag & End\\_Frag & Count\\_Frag & Chrom\\_MTF & Start\\_MTF & End\\_MTF & Motif & Score & Overlap\\\\\n",
       " <chr> & <dbl> & <dbl> & <dbl> & <chr> & <dbl> & <dbl> & <chr> & <dbl> & <dbl>\\\\\n",
       "\\hline\n",
       "\t chr1 & 19150 & 20283 & 1 & chr1 & 19486 & 19501 & AIRE & 7.6920 & 15\\\\\n",
       "\t chr1 & 19158 & 20265 & 1 & chr1 & 19486 & 19501 & AIRE & 7.6920 & 15\\\\\n",
       "\t chr1 & 29890 & 30910 & 1 & chr1 & 30145 & 30160 & AIRE & 8.2841 & 15\\\\\n",
       "\t chr1 & 29891 & 30910 & 1 & chr1 & 30145 & 30160 & AIRE & 8.2841 & 15\\\\\n",
       "\t chr1 & 29928 & 30907 & 1 & chr1 & 30145 & 30160 & AIRE & 8.2841 & 15\\\\\n",
       "\t chr1 & 29951 & 30906 & 1 & chr1 & 30145 & 30160 & AIRE & 8.2841 & 15\\\\\n",
       "\\end{tabular}\n"
      ],
      "text/markdown": [
       "\n",
       "A tibble: 6 × 10\n",
       "\n",
       "| Chrom_Frag &lt;chr&gt; | Start_Frag &lt;dbl&gt; | End_Frag &lt;dbl&gt; | Count_Frag &lt;dbl&gt; | Chrom_MTF &lt;chr&gt; | Start_MTF &lt;dbl&gt; | End_MTF &lt;dbl&gt; | Motif &lt;chr&gt; | Score &lt;dbl&gt; | Overlap &lt;dbl&gt; |\n",
       "|---|---|---|---|---|---|---|---|---|---|\n",
       "| chr1 | 19150 | 20283 | 1 | chr1 | 19486 | 19501 | AIRE | 7.6920 | 15 |\n",
       "| chr1 | 19158 | 20265 | 1 | chr1 | 19486 | 19501 | AIRE | 7.6920 | 15 |\n",
       "| chr1 | 29890 | 30910 | 1 | chr1 | 30145 | 30160 | AIRE | 8.2841 | 15 |\n",
       "| chr1 | 29891 | 30910 | 1 | chr1 | 30145 | 30160 | AIRE | 8.2841 | 15 |\n",
       "| chr1 | 29928 | 30907 | 1 | chr1 | 30145 | 30160 | AIRE | 8.2841 | 15 |\n",
       "| chr1 | 29951 | 30906 | 1 | chr1 | 30145 | 30160 | AIRE | 8.2841 | 15 |\n",
       "\n"
      ],
      "text/plain": [
       "  Chrom_Frag Start_Frag End_Frag Count_Frag Chrom_MTF Start_MTF End_MTF Motif\n",
       "1 chr1       19150      20283    1          chr1      19486     19501   AIRE \n",
       "2 chr1       19158      20265    1          chr1      19486     19501   AIRE \n",
       "3 chr1       29890      30910    1          chr1      30145     30160   AIRE \n",
       "4 chr1       29891      30910    1          chr1      30145     30160   AIRE \n",
       "5 chr1       29928      30907    1          chr1      30145     30160   AIRE \n",
       "6 chr1       29951      30906    1          chr1      30145     30160   AIRE \n",
       "  Score  Overlap\n",
       "1 7.6920 15     \n",
       "2 7.6920 15     \n",
       "3 8.2841 15     \n",
       "4 8.2841 15     \n",
       "5 8.2841 15     \n",
       "6 8.2841 15     "
      ]
     },
     "metadata": {},
     "output_type": "display_data"
    }
   ],
   "source": [
    "fpath = file.path(FD_RES, \"annotation_fragment/Input1_20x/chr1/AIRE_merge.bed.gz\")\n",
    "dat1 = read_tsv(fpath, col_types=CTYPES, col_names=CNAMES)\n",
    "head(dat1)"
   ]
  },
  {
   "cell_type": "code",
   "execution_count": 4,
   "metadata": {},
   "outputs": [],
   "source": [
    "dat2 = dat1 %>% dplyr::filter(Score >= 10.81)"
   ]
  },
  {
   "cell_type": "code",
   "execution_count": 5,
   "metadata": {},
   "outputs": [
    {
     "name": "stderr",
     "output_type": "stream",
     "text": [
      "Loading required package: gsubfn\n",
      "\n",
      "Loading required package: proto\n",
      "\n",
      "Warning message:\n",
      "“no DISPLAY variable so Tk is not available”\n",
      "Loading required package: RSQLite\n",
      "\n"
     ]
    }
   ],
   "source": [
    "library(sqldf)"
   ]
  },
  {
   "cell_type": "code",
   "execution_count": 8,
   "metadata": {},
   "outputs": [
    {
     "ename": "ERROR",
     "evalue": "Error in connection_import_file(conn@ptr, name, value, sep, eol, skip): RS_sqlite_import: /home/mount/work/out/proj_combeffect/annotation_fragment/Input1_20x/chr1/AIRE_merge.bed.gz line 1 expected 10 columns of data but found 1\n",
     "output_type": "error",
     "traceback": [
      "Error in connection_import_file(conn@ptr, name, value, sep, eol, skip): RS_sqlite_import: /home/mount/work/out/proj_combeffect/annotation_fragment/Input1_20x/chr1/AIRE_merge.bed.gz line 1 expected 10 columns of data but found 1\nTraceback:\n",
      "1. read.csv.sql(file = fpath, sql = \"select * from file where v8 >= 10.81\", \n .     header = FALSE, sep = \"\\t\")",
      "2. sqldf(sql, envir = p, file.format = file.format, dbname = dbname, \n .     drv = drv, ...)",
      "3. do.call(\"dbWriteTable\", args)",
      "4. dbWriteTable(conn = new(\"SQLiteConnection\", ptr = <pointer: 0x562145b63050>, \n .     dbname = \"/tmp/RtmpB4BYjO/file9a1950aae4f6\", loadable.extensions = TRUE, \n .     flags = 70L, vfs = \"\", ref = <environment>, bigint = \"integer64\", \n .     extended_types = FALSE), name = \"file\", value = \"/home/mount/work/out/proj_combeffect/annotation_fragment/Input1_20x/chr1/AIRE_merge.bed.gz\", \n .     eol = \"\\n\", header = FALSE, sep = \"\\t\")",
      "5. dbWriteTable(conn = new(\"SQLiteConnection\", ptr = <pointer: 0x562145b63050>, \n .     dbname = \"/tmp/RtmpB4BYjO/file9a1950aae4f6\", loadable.extensions = TRUE, \n .     flags = 70L, vfs = \"\", ref = <environment>, bigint = \"integer64\", \n .     extended_types = FALSE), name = \"file\", value = \"/home/mount/work/out/proj_combeffect/annotation_fragment/Input1_20x/chr1/AIRE_merge.bed.gz\", \n .     eol = \"\\n\", header = FALSE, sep = \"\\t\")",
      "6. .local(conn, name, value, ...)",
      "7. connection_import_file(conn@ptr, name, value, sep, eol, skip)"
     ]
    }
   ],
   "source": [
    "dat3 = read.csv.sql(\n",
    "    file   = fpath, \n",
    "    sql    = \"select * from file where v8 >= 10.81\",\n",
    "    header = FALSE,\n",
    "    sep    = \"\\t\"  )"
   ]
  },
  {
   "cell_type": "code",
   "execution_count": null,
   "metadata": {},
   "outputs": [],
   "source": [
    "print(nrow(dat1), nrow(dat2), nrow(dat3))"
   ]
  }
 ],
 "metadata": {
  "kernelspec": {
   "display_name": "R",
   "language": "R",
   "name": "ir"
  },
  "language_info": {
   "codemirror_mode": "r",
   "file_extension": ".r",
   "mimetype": "text/x-r-source",
   "name": "R",
   "pygments_lexer": "r",
   "version": "4.1.1"
  }
 },
 "nbformat": 4,
 "nbformat_minor": 4
}
