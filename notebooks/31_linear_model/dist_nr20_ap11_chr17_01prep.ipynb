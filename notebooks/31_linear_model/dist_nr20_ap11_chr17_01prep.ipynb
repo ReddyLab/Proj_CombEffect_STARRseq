{
 "cells": [
  {
   "cell_type": "code",
   "execution_count": 1,
   "metadata": {},
   "outputs": [
    {
     "name": "stdout",
     "output_type": "stream",
     "text": [
      "[1] \"/home/mount/work\"\n",
      "[1] \"/home/mount/work/out/proj_combeffect\"\n"
     ]
    }
   ],
   "source": [
    "suppressMessages(suppressWarnings(source(\"config_sing.R\")))\n",
    "print(FD_WORK)\n",
    "print(FD_RES)"
   ]
  },
  {
   "cell_type": "code",
   "execution_count": 2,
   "metadata": {},
   "outputs": [
    {
     "data": {
      "text/html": [
       "<table class=\"dataframe\">\n",
       "<caption>A tibble: 54 × 3</caption>\n",
       "<thead>\n",
       "\t<tr><th scope=col>Size</th><th scope=col>Sample</th><th scope=col>Group</th></tr>\n",
       "\t<tr><th scope=col>&lt;dbl&gt;</th><th scope=col>&lt;chr&gt;</th><th scope=col>&lt;chr&gt;</th></tr>\n",
       "</thead>\n",
       "<tbody>\n",
       "\t<tr><td>371718546</td><td>Input1_20x         </td><td>Input             </td></tr>\n",
       "\t<tr><td> 18666630</td><td>Input1             </td><td>Input             </td></tr>\n",
       "\t<tr><td>347635732</td><td>Input2_20x         </td><td>Input             </td></tr>\n",
       "\t<tr><td> 20167924</td><td>Input2             </td><td>Input             </td></tr>\n",
       "\t<tr><td>349994051</td><td>Input3_20x         </td><td>Input             </td></tr>\n",
       "\t<tr><td> 23280988</td><td>Input3             </td><td>Input             </td></tr>\n",
       "\t<tr><td>413508358</td><td>Input4_20x         </td><td>Input             </td></tr>\n",
       "\t<tr><td> 19003938</td><td>Input4             </td><td>Input             </td></tr>\n",
       "\t<tr><td>341110487</td><td>Input5_20x         </td><td>Input             </td></tr>\n",
       "\t<tr><td> 15325016</td><td>Input5             </td><td>Input             </td></tr>\n",
       "\t<tr><td> 48376253</td><td>TFX2_AZD2906       </td><td>TFX_AZD2906       </td></tr>\n",
       "\t<tr><td> 52542517</td><td>TFX2_AZD9567       </td><td>TFX_AZD9567       </td></tr>\n",
       "\t<tr><td> 43646484</td><td>TFX2_CORT108297    </td><td>TFX_CORT108297    </td></tr>\n",
       "\t<tr><td> 41732268</td><td>TFX2_CpdA          </td><td>TFX_CpdA          </td></tr>\n",
       "\t<tr><td> 45413539</td><td>TFX2_Dex           </td><td>TFX_Dex           </td></tr>\n",
       "\t<tr><td> 43844606</td><td>TFX2_DMSO          </td><td>TFX_DMSO          </td></tr>\n",
       "\t<tr><td> 56207769</td><td>TFX2_GW870086      </td><td>TFX_GW870086      </td></tr>\n",
       "\t<tr><td> 47829936</td><td>TFX2_Hydrocortisone</td><td>TFX_Hydrocortisone</td></tr>\n",
       "\t<tr><td> 38120420</td><td>TFX2_Mapracorat    </td><td>TFX_Mapracorat    </td></tr>\n",
       "\t<tr><td> 47687319</td><td>TFX2_RU486         </td><td>TFX_RU486         </td></tr>\n",
       "\t<tr><td> 45455167</td><td>TFX2_ZK216348      </td><td>TFX_ZK216348      </td></tr>\n",
       "\t<tr><td> 26840149</td><td>TFX3_AZD2906       </td><td>TFX_AZD2906       </td></tr>\n",
       "\t<tr><td> 44435989</td><td>TFX3_AZD9567       </td><td>TFX_AZD9567       </td></tr>\n",
       "\t<tr><td> 32701206</td><td>TFX3_CORT108297    </td><td>TFX_CORT108297    </td></tr>\n",
       "\t<tr><td> 26352610</td><td>TFX3_CpdA          </td><td>TFX_CpdA          </td></tr>\n",
       "\t<tr><td> 26400671</td><td>TFX3_Dex           </td><td>TFX_Dex           </td></tr>\n",
       "\t<tr><td> 26819569</td><td>TFX3_DMSO          </td><td>TFX_DMSO          </td></tr>\n",
       "\t<tr><td> 36774709</td><td>TFX3_GW870086      </td><td>TFX_GW870086      </td></tr>\n",
       "\t<tr><td> 40293787</td><td>TFX3_Hydrocortisone</td><td>TFX_Hydrocortisone</td></tr>\n",
       "\t<tr><td> 26384034</td><td>TFX3_Mapracorat    </td><td>TFX_Mapracorat    </td></tr>\n",
       "\t<tr><td> 31454676</td><td>TFX3_RU486         </td><td>TFX_RU486         </td></tr>\n",
       "\t<tr><td> 41139261</td><td>TFX3_ZK216348      </td><td>TFX_ZK216348      </td></tr>\n",
       "\t<tr><td> 27175305</td><td>TFX4_AZD2906       </td><td>TFX_AZD2906       </td></tr>\n",
       "\t<tr><td> 33610712</td><td>TFX4_AZD9567       </td><td>TFX_AZD9567       </td></tr>\n",
       "\t<tr><td> 59429741</td><td>TFX4_CORT108297    </td><td>TFX_CORT108297    </td></tr>\n",
       "\t<tr><td> 31202573</td><td>TFX4_CpdA          </td><td>TFX_CpdA          </td></tr>\n",
       "\t<tr><td> 34590086</td><td>TFX4_Dex           </td><td>TFX_Dex           </td></tr>\n",
       "\t<tr><td> 30951533</td><td>TFX4_DMSO          </td><td>TFX_DMSO          </td></tr>\n",
       "\t<tr><td> 43395226</td><td>TFX4_GW870086      </td><td>TFX_GW870086      </td></tr>\n",
       "\t<tr><td> 27190016</td><td>TFX4_Hydrocortisone</td><td>TFX_Hydrocortisone</td></tr>\n",
       "\t<tr><td> 36460601</td><td>TFX4_Mapracorat    </td><td>TFX_Mapracorat    </td></tr>\n",
       "\t<tr><td> 31196111</td><td>TFX4_RU486         </td><td>TFX_RU486         </td></tr>\n",
       "\t<tr><td> 38035173</td><td>TFX4_ZK216348      </td><td>TFX_ZK216348      </td></tr>\n",
       "\t<tr><td> 43862195</td><td>TFX5_AZD2906       </td><td>TFX_AZD2906       </td></tr>\n",
       "\t<tr><td> 48356547</td><td>TFX5_AZD9567       </td><td>TFX_AZD9567       </td></tr>\n",
       "\t<tr><td> 42880899</td><td>TFX5_CORT108297    </td><td>TFX_CORT108297    </td></tr>\n",
       "\t<tr><td> 40239413</td><td>TFX5_CpdA          </td><td>TFX_CpdA          </td></tr>\n",
       "\t<tr><td> 42310249</td><td>TFX5_Dex           </td><td>TFX_Dex           </td></tr>\n",
       "\t<tr><td> 28859151</td><td>TFX5_DMSO          </td><td>TFX_DMSO          </td></tr>\n",
       "\t<tr><td> 39710444</td><td>TFX5_GW870086      </td><td>TFX_GW870086      </td></tr>\n",
       "\t<tr><td> 34580732</td><td>TFX5_Hydrocortisone</td><td>TFX_Hydrocortisone</td></tr>\n",
       "\t<tr><td> 48311553</td><td>TFX5_Mapracorat    </td><td>TFX_Mapracorat    </td></tr>\n",
       "\t<tr><td> 49785981</td><td>TFX5_RU486         </td><td>TFX_RU486         </td></tr>\n",
       "\t<tr><td> 35907183</td><td>TFX5_ZK216348      </td><td>TFX_ZK216348      </td></tr>\n",
       "</tbody>\n",
       "</table>\n"
      ],
      "text/latex": [
       "A tibble: 54 × 3\n",
       "\\begin{tabular}{lll}\n",
       " Size & Sample & Group\\\\\n",
       " <dbl> & <chr> & <chr>\\\\\n",
       "\\hline\n",
       "\t 371718546 & Input1\\_20x          & Input             \\\\\n",
       "\t  18666630 & Input1              & Input             \\\\\n",
       "\t 347635732 & Input2\\_20x          & Input             \\\\\n",
       "\t  20167924 & Input2              & Input             \\\\\n",
       "\t 349994051 & Input3\\_20x          & Input             \\\\\n",
       "\t  23280988 & Input3              & Input             \\\\\n",
       "\t 413508358 & Input4\\_20x          & Input             \\\\\n",
       "\t  19003938 & Input4              & Input             \\\\\n",
       "\t 341110487 & Input5\\_20x          & Input             \\\\\n",
       "\t  15325016 & Input5              & Input             \\\\\n",
       "\t  48376253 & TFX2\\_AZD2906        & TFX\\_AZD2906       \\\\\n",
       "\t  52542517 & TFX2\\_AZD9567        & TFX\\_AZD9567       \\\\\n",
       "\t  43646484 & TFX2\\_CORT108297     & TFX\\_CORT108297    \\\\\n",
       "\t  41732268 & TFX2\\_CpdA           & TFX\\_CpdA          \\\\\n",
       "\t  45413539 & TFX2\\_Dex            & TFX\\_Dex           \\\\\n",
       "\t  43844606 & TFX2\\_DMSO           & TFX\\_DMSO          \\\\\n",
       "\t  56207769 & TFX2\\_GW870086       & TFX\\_GW870086      \\\\\n",
       "\t  47829936 & TFX2\\_Hydrocortisone & TFX\\_Hydrocortisone\\\\\n",
       "\t  38120420 & TFX2\\_Mapracorat     & TFX\\_Mapracorat    \\\\\n",
       "\t  47687319 & TFX2\\_RU486          & TFX\\_RU486         \\\\\n",
       "\t  45455167 & TFX2\\_ZK216348       & TFX\\_ZK216348      \\\\\n",
       "\t  26840149 & TFX3\\_AZD2906        & TFX\\_AZD2906       \\\\\n",
       "\t  44435989 & TFX3\\_AZD9567        & TFX\\_AZD9567       \\\\\n",
       "\t  32701206 & TFX3\\_CORT108297     & TFX\\_CORT108297    \\\\\n",
       "\t  26352610 & TFX3\\_CpdA           & TFX\\_CpdA          \\\\\n",
       "\t  26400671 & TFX3\\_Dex            & TFX\\_Dex           \\\\\n",
       "\t  26819569 & TFX3\\_DMSO           & TFX\\_DMSO          \\\\\n",
       "\t  36774709 & TFX3\\_GW870086       & TFX\\_GW870086      \\\\\n",
       "\t  40293787 & TFX3\\_Hydrocortisone & TFX\\_Hydrocortisone\\\\\n",
       "\t  26384034 & TFX3\\_Mapracorat     & TFX\\_Mapracorat    \\\\\n",
       "\t  31454676 & TFX3\\_RU486          & TFX\\_RU486         \\\\\n",
       "\t  41139261 & TFX3\\_ZK216348       & TFX\\_ZK216348      \\\\\n",
       "\t  27175305 & TFX4\\_AZD2906        & TFX\\_AZD2906       \\\\\n",
       "\t  33610712 & TFX4\\_AZD9567        & TFX\\_AZD9567       \\\\\n",
       "\t  59429741 & TFX4\\_CORT108297     & TFX\\_CORT108297    \\\\\n",
       "\t  31202573 & TFX4\\_CpdA           & TFX\\_CpdA          \\\\\n",
       "\t  34590086 & TFX4\\_Dex            & TFX\\_Dex           \\\\\n",
       "\t  30951533 & TFX4\\_DMSO           & TFX\\_DMSO          \\\\\n",
       "\t  43395226 & TFX4\\_GW870086       & TFX\\_GW870086      \\\\\n",
       "\t  27190016 & TFX4\\_Hydrocortisone & TFX\\_Hydrocortisone\\\\\n",
       "\t  36460601 & TFX4\\_Mapracorat     & TFX\\_Mapracorat    \\\\\n",
       "\t  31196111 & TFX4\\_RU486          & TFX\\_RU486         \\\\\n",
       "\t  38035173 & TFX4\\_ZK216348       & TFX\\_ZK216348      \\\\\n",
       "\t  43862195 & TFX5\\_AZD2906        & TFX\\_AZD2906       \\\\\n",
       "\t  48356547 & TFX5\\_AZD9567        & TFX\\_AZD9567       \\\\\n",
       "\t  42880899 & TFX5\\_CORT108297     & TFX\\_CORT108297    \\\\\n",
       "\t  40239413 & TFX5\\_CpdA           & TFX\\_CpdA          \\\\\n",
       "\t  42310249 & TFX5\\_Dex            & TFX\\_Dex           \\\\\n",
       "\t  28859151 & TFX5\\_DMSO           & TFX\\_DMSO          \\\\\n",
       "\t  39710444 & TFX5\\_GW870086       & TFX\\_GW870086      \\\\\n",
       "\t  34580732 & TFX5\\_Hydrocortisone & TFX\\_Hydrocortisone\\\\\n",
       "\t  48311553 & TFX5\\_Mapracorat     & TFX\\_Mapracorat    \\\\\n",
       "\t  49785981 & TFX5\\_RU486          & TFX\\_RU486         \\\\\n",
       "\t  35907183 & TFX5\\_ZK216348       & TFX\\_ZK216348      \\\\\n",
       "\\end{tabular}\n"
      ],
      "text/markdown": [
       "\n",
       "A tibble: 54 × 3\n",
       "\n",
       "| Size &lt;dbl&gt; | Sample &lt;chr&gt; | Group &lt;chr&gt; |\n",
       "|---|---|---|\n",
       "| 371718546 | Input1_20x          | Input              |\n",
       "|  18666630 | Input1              | Input              |\n",
       "| 347635732 | Input2_20x          | Input              |\n",
       "|  20167924 | Input2              | Input              |\n",
       "| 349994051 | Input3_20x          | Input              |\n",
       "|  23280988 | Input3              | Input              |\n",
       "| 413508358 | Input4_20x          | Input              |\n",
       "|  19003938 | Input4              | Input              |\n",
       "| 341110487 | Input5_20x          | Input              |\n",
       "|  15325016 | Input5              | Input              |\n",
       "|  48376253 | TFX2_AZD2906        | TFX_AZD2906        |\n",
       "|  52542517 | TFX2_AZD9567        | TFX_AZD9567        |\n",
       "|  43646484 | TFX2_CORT108297     | TFX_CORT108297     |\n",
       "|  41732268 | TFX2_CpdA           | TFX_CpdA           |\n",
       "|  45413539 | TFX2_Dex            | TFX_Dex            |\n",
       "|  43844606 | TFX2_DMSO           | TFX_DMSO           |\n",
       "|  56207769 | TFX2_GW870086       | TFX_GW870086       |\n",
       "|  47829936 | TFX2_Hydrocortisone | TFX_Hydrocortisone |\n",
       "|  38120420 | TFX2_Mapracorat     | TFX_Mapracorat     |\n",
       "|  47687319 | TFX2_RU486          | TFX_RU486          |\n",
       "|  45455167 | TFX2_ZK216348       | TFX_ZK216348       |\n",
       "|  26840149 | TFX3_AZD2906        | TFX_AZD2906        |\n",
       "|  44435989 | TFX3_AZD9567        | TFX_AZD9567        |\n",
       "|  32701206 | TFX3_CORT108297     | TFX_CORT108297     |\n",
       "|  26352610 | TFX3_CpdA           | TFX_CpdA           |\n",
       "|  26400671 | TFX3_Dex            | TFX_Dex            |\n",
       "|  26819569 | TFX3_DMSO           | TFX_DMSO           |\n",
       "|  36774709 | TFX3_GW870086       | TFX_GW870086       |\n",
       "|  40293787 | TFX3_Hydrocortisone | TFX_Hydrocortisone |\n",
       "|  26384034 | TFX3_Mapracorat     | TFX_Mapracorat     |\n",
       "|  31454676 | TFX3_RU486          | TFX_RU486          |\n",
       "|  41139261 | TFX3_ZK216348       | TFX_ZK216348       |\n",
       "|  27175305 | TFX4_AZD2906        | TFX_AZD2906        |\n",
       "|  33610712 | TFX4_AZD9567        | TFX_AZD9567        |\n",
       "|  59429741 | TFX4_CORT108297     | TFX_CORT108297     |\n",
       "|  31202573 | TFX4_CpdA           | TFX_CpdA           |\n",
       "|  34590086 | TFX4_Dex            | TFX_Dex            |\n",
       "|  30951533 | TFX4_DMSO           | TFX_DMSO           |\n",
       "|  43395226 | TFX4_GW870086       | TFX_GW870086       |\n",
       "|  27190016 | TFX4_Hydrocortisone | TFX_Hydrocortisone |\n",
       "|  36460601 | TFX4_Mapracorat     | TFX_Mapracorat     |\n",
       "|  31196111 | TFX4_RU486          | TFX_RU486          |\n",
       "|  38035173 | TFX4_ZK216348       | TFX_ZK216348       |\n",
       "|  43862195 | TFX5_AZD2906        | TFX_AZD2906        |\n",
       "|  48356547 | TFX5_AZD9567        | TFX_AZD9567        |\n",
       "|  42880899 | TFX5_CORT108297     | TFX_CORT108297     |\n",
       "|  40239413 | TFX5_CpdA           | TFX_CpdA           |\n",
       "|  42310249 | TFX5_Dex            | TFX_Dex            |\n",
       "|  28859151 | TFX5_DMSO           | TFX_DMSO           |\n",
       "|  39710444 | TFX5_GW870086       | TFX_GW870086       |\n",
       "|  34580732 | TFX5_Hydrocortisone | TFX_Hydrocortisone |\n",
       "|  48311553 | TFX5_Mapracorat     | TFX_Mapracorat     |\n",
       "|  49785981 | TFX5_RU486          | TFX_RU486          |\n",
       "|  35907183 | TFX5_ZK216348       | TFX_ZK216348       |\n",
       "\n"
      ],
      "text/plain": [
       "   Size      Sample              Group             \n",
       "1  371718546 Input1_20x          Input             \n",
       "2   18666630 Input1              Input             \n",
       "3  347635732 Input2_20x          Input             \n",
       "4   20167924 Input2              Input             \n",
       "5  349994051 Input3_20x          Input             \n",
       "6   23280988 Input3              Input             \n",
       "7  413508358 Input4_20x          Input             \n",
       "8   19003938 Input4              Input             \n",
       "9  341110487 Input5_20x          Input             \n",
       "10  15325016 Input5              Input             \n",
       "11  48376253 TFX2_AZD2906        TFX_AZD2906       \n",
       "12  52542517 TFX2_AZD9567        TFX_AZD9567       \n",
       "13  43646484 TFX2_CORT108297     TFX_CORT108297    \n",
       "14  41732268 TFX2_CpdA           TFX_CpdA          \n",
       "15  45413539 TFX2_Dex            TFX_Dex           \n",
       "16  43844606 TFX2_DMSO           TFX_DMSO          \n",
       "17  56207769 TFX2_GW870086       TFX_GW870086      \n",
       "18  47829936 TFX2_Hydrocortisone TFX_Hydrocortisone\n",
       "19  38120420 TFX2_Mapracorat     TFX_Mapracorat    \n",
       "20  47687319 TFX2_RU486          TFX_RU486         \n",
       "21  45455167 TFX2_ZK216348       TFX_ZK216348      \n",
       "22  26840149 TFX3_AZD2906        TFX_AZD2906       \n",
       "23  44435989 TFX3_AZD9567        TFX_AZD9567       \n",
       "24  32701206 TFX3_CORT108297     TFX_CORT108297    \n",
       "25  26352610 TFX3_CpdA           TFX_CpdA          \n",
       "26  26400671 TFX3_Dex            TFX_Dex           \n",
       "27  26819569 TFX3_DMSO           TFX_DMSO          \n",
       "28  36774709 TFX3_GW870086       TFX_GW870086      \n",
       "29  40293787 TFX3_Hydrocortisone TFX_Hydrocortisone\n",
       "30  26384034 TFX3_Mapracorat     TFX_Mapracorat    \n",
       "31  31454676 TFX3_RU486          TFX_RU486         \n",
       "32  41139261 TFX3_ZK216348       TFX_ZK216348      \n",
       "33  27175305 TFX4_AZD2906        TFX_AZD2906       \n",
       "34  33610712 TFX4_AZD9567        TFX_AZD9567       \n",
       "35  59429741 TFX4_CORT108297     TFX_CORT108297    \n",
       "36  31202573 TFX4_CpdA           TFX_CpdA          \n",
       "37  34590086 TFX4_Dex            TFX_Dex           \n",
       "38  30951533 TFX4_DMSO           TFX_DMSO          \n",
       "39  43395226 TFX4_GW870086       TFX_GW870086      \n",
       "40  27190016 TFX4_Hydrocortisone TFX_Hydrocortisone\n",
       "41  36460601 TFX4_Mapracorat     TFX_Mapracorat    \n",
       "42  31196111 TFX4_RU486          TFX_RU486         \n",
       "43  38035173 TFX4_ZK216348       TFX_ZK216348      \n",
       "44  43862195 TFX5_AZD2906        TFX_AZD2906       \n",
       "45  48356547 TFX5_AZD9567        TFX_AZD9567       \n",
       "46  42880899 TFX5_CORT108297     TFX_CORT108297    \n",
       "47  40239413 TFX5_CpdA           TFX_CpdA          \n",
       "48  42310249 TFX5_Dex            TFX_Dex           \n",
       "49  28859151 TFX5_DMSO           TFX_DMSO          \n",
       "50  39710444 TFX5_GW870086       TFX_GW870086      \n",
       "51  34580732 TFX5_Hydrocortisone TFX_Hydrocortisone\n",
       "52  48311553 TFX5_Mapracorat     TFX_Mapracorat    \n",
       "53  49785981 TFX5_RU486          TFX_RU486         \n",
       "54  35907183 TFX5_ZK216348       TFX_ZK216348      "
      ]
     },
     "metadata": {},
     "output_type": "display_data"
    }
   ],
   "source": [
    "###################################################\n",
    "# Import library size\n",
    "###################################################\n",
    "\n",
    "### Helper function to get\n",
    "get_group = function(idn_sample){\n",
    "    idn = idn_sample\n",
    "    \n",
    "    idn = str_replace(\n",
    "        string = idn, \n",
    "        pattern = \"Input[0-9]\", \n",
    "        replacement = \"Input\")\n",
    "    \n",
    "    idn = str_remove(\n",
    "        string = idn, \n",
    "        pattern = \"_20x\")\n",
    "    \n",
    "    idn = str_replace(\n",
    "        string = idn, \n",
    "        pattern = \"TFX[0-9]_\", \n",
    "        replacement=\"TFX_\")\n",
    "    return(idn)\n",
    "}\n",
    "\n",
    "### set path\n",
    "fdiry = file.path(FD_RES, \"source\")\n",
    "fname = \"library_size.txt\"\n",
    "fpath = file.path(fdiry, fname)\n",
    "\n",
    "### import library size\n",
    "ctypes = c(col_integer(), col_character())\n",
    "cnames = c(\"Size\", \"FPath\")\n",
    "dat_lib = read_tsv(fpath, col_types=ctypes, col_names = cnames)\n",
    "\n",
    "### remove the total size\n",
    "dat_lib = dat_lib %>% dplyr::filter(FPath != \"total\")\n",
    "\n",
    "### summarize info from the file path\n",
    "### stackoverflow: Extract only folder name right before filename from full path\n",
    "dat_lib = dat_lib %>% \n",
    "    #mutate(Sample = tools::file_path_sans_ext(basename(FPath))) %>%\n",
    "    mutate(Sample = basename(dirname(FPath))) %>%\n",
    "    mutate(Group = get_group(Sample))\n",
    "dat_lib = dat_lib %>% dplyr::select(Size, Sample, Group)\n",
    "dat_lib"
   ]
  },
  {
   "cell_type": "code",
   "execution_count": 3,
   "metadata": {},
   "outputs": [],
   "source": [
    "### set samples and path\n",
    "SAMPLES_TOT = c(\n",
    "    paste0(\"Input\", 1:5),\n",
    "    paste0(\"Input\", 1:5, \"_20x\"),\n",
    "    paste0(\"TFX\",   2:5, \"_DMSO\"),\n",
    "    paste0(\"TFX\",   2:5, \"_Dex\"))\n",
    "\n",
    "SAMPLES_INP = c(\n",
    "    paste0(\"Input\", 1:5),\n",
    "    paste0(\"TFX\",   2:5, \"_DMSO\"),\n",
    "    paste0(\"TFX\",   2:5, \"_Dex\"))\n",
    "\n",
    "SAMPLES_INP20X = c(\n",
    "    paste0(\"Input\", 1:5, \"_20x\"),\n",
    "    paste0(\"TFX\",   2:5, \"_DMSO\"),\n",
    "    paste0(\"TFX\",   2:5, \"_Dex\"))\n",
    "\n",
    "### set column names and types\n",
    "CTYPES = c(col_character(), col_integer(), col_integer(), col_integer(),\n",
    "           col_character(), col_integer(), col_integer(),\n",
    "           col_character(), col_double(),  col_integer())\n",
    "CNAMES = c(\"Chrom_Frag\", \"Start_Frag\", \"End_Frag\", \"Count_Frag\",\n",
    "           \"Chrom_MTF\",  \"Start_MTF\",  \"End_MTF\",\n",
    "           \"Motif\", \"Score\", \"Overlap\")"
   ]
  },
  {
   "cell_type": "code",
   "execution_count": 4,
   "metadata": {},
   "outputs": [],
   "source": [
    "mtf1 = \"AP1_1_merge.bed.gz\"\n",
    "mtf2 = \"NR_20_merge.bed.gz\"\n",
    "mtfs = c(\"AP1_1\", \"NR_20\")\n",
    "motif_pair = c(mtf1, mtf2)"
   ]
  },
  {
   "cell_type": "code",
   "execution_count": 6,
   "metadata": {},
   "outputs": [
    {
     "name": "stdout",
     "output_type": "stream",
     "text": [
      "AP1_1 Import /home/mount/work/out/proj_combeffect/annotation_fragment/Input1_20x/chr17/AP1_1_merge.bed.gz \n",
      "AP1_1 Filter 9624900 9493533 \n",
      "AP1_1 Import /home/mount/work/out/proj_combeffect/annotation_fragment/Input2_20x/chr17/AP1_1_merge.bed.gz \n",
      "AP1_1 Filter 9163291 9038862 \n",
      "AP1_1 Import /home/mount/work/out/proj_combeffect/annotation_fragment/Input3_20x/chr17/AP1_1_merge.bed.gz \n",
      "AP1_1 Filter 9233671 9108283 \n",
      "AP1_1 Import /home/mount/work/out/proj_combeffect/annotation_fragment/Input4_20x/chr17/AP1_1_merge.bed.gz \n",
      "AP1_1 Filter 10647035 10503454 \n",
      "AP1_1 Import /home/mount/work/out/proj_combeffect/annotation_fragment/Input5_20x/chr17/AP1_1_merge.bed.gz \n",
      "AP1_1 Filter 9074018 8951209 \n",
      "AP1_1 Import /home/mount/work/out/proj_combeffect/annotation_fragment/TFX2_DMSO/chr17/AP1_1_merge.bed.gz \n",
      "AP1_1 Filter 1529653 1509314 \n",
      "AP1_1 Import /home/mount/work/out/proj_combeffect/annotation_fragment/TFX3_DMSO/chr17/AP1_1_merge.bed.gz \n",
      "AP1_1 Filter 952900 940175 \n",
      "AP1_1 Import /home/mount/work/out/proj_combeffect/annotation_fragment/TFX4_DMSO/chr17/AP1_1_merge.bed.gz \n",
      "AP1_1 Filter 1117439 1102491 \n",
      "AP1_1 Import /home/mount/work/out/proj_combeffect/annotation_fragment/TFX5_DMSO/chr17/AP1_1_merge.bed.gz \n",
      "AP1_1 Filter 1033667 1019854 \n",
      "AP1_1 Import /home/mount/work/out/proj_combeffect/annotation_fragment/TFX2_Dex/chr17/AP1_1_merge.bed.gz \n",
      "AP1_1 Filter 1567864 1546811 \n",
      "AP1_1 Import /home/mount/work/out/proj_combeffect/annotation_fragment/TFX3_Dex/chr17/AP1_1_merge.bed.gz \n",
      "AP1_1 Filter 948151 935769 \n",
      "AP1_1 Import /home/mount/work/out/proj_combeffect/annotation_fragment/TFX4_Dex/chr17/AP1_1_merge.bed.gz \n",
      "AP1_1 Filter 1279258 1262768 \n",
      "AP1_1 Import /home/mount/work/out/proj_combeffect/annotation_fragment/TFX5_Dex/chr17/AP1_1_merge.bed.gz \n",
      "AP1_1 Filter 1565118 1544466 \n",
      "NR_20 Import /home/mount/work/out/proj_combeffect/annotation_fragment/Input1_20x/chr17/NR_20_merge.bed.gz \n",
      "NR_20 Filter 3584102 3494075 \n",
      "NR_20 Import /home/mount/work/out/proj_combeffect/annotation_fragment/Input2_20x/chr17/NR_20_merge.bed.gz \n",
      "NR_20 Filter 3409964 3324668 \n",
      "NR_20 Import /home/mount/work/out/proj_combeffect/annotation_fragment/Input3_20x/chr17/NR_20_merge.bed.gz \n",
      "NR_20 Filter 3442306 3355763 \n",
      "NR_20 Import /home/mount/work/out/proj_combeffect/annotation_fragment/Input4_20x/chr17/NR_20_merge.bed.gz \n",
      "NR_20 Filter 3933109 3835036 \n",
      "NR_20 Import /home/mount/work/out/proj_combeffect/annotation_fragment/Input5_20x/chr17/NR_20_merge.bed.gz \n",
      "NR_20 Filter 3362165 3277997 \n",
      "NR_20 Import /home/mount/work/out/proj_combeffect/annotation_fragment/TFX2_DMSO/chr17/NR_20_merge.bed.gz \n",
      "NR_20 Filter 590124 575318 \n",
      "NR_20 Import /home/mount/work/out/proj_combeffect/annotation_fragment/TFX3_DMSO/chr17/NR_20_merge.bed.gz \n",
      "NR_20 Filter 369835 360249 \n",
      "NR_20 Import /home/mount/work/out/proj_combeffect/annotation_fragment/TFX4_DMSO/chr17/NR_20_merge.bed.gz \n",
      "NR_20 Filter 435691 424660 \n",
      "NR_20 Import /home/mount/work/out/proj_combeffect/annotation_fragment/TFX5_DMSO/chr17/NR_20_merge.bed.gz \n",
      "NR_20 Filter 407037 396709 \n",
      "NR_20 Import /home/mount/work/out/proj_combeffect/annotation_fragment/TFX2_Dex/chr17/NR_20_merge.bed.gz \n",
      "NR_20 Filter 752384 736329 \n",
      "NR_20 Import /home/mount/work/out/proj_combeffect/annotation_fragment/TFX3_Dex/chr17/NR_20_merge.bed.gz \n",
      "NR_20 Filter 476305 466531 \n",
      "NR_20 Import /home/mount/work/out/proj_combeffect/annotation_fragment/TFX4_Dex/chr17/NR_20_merge.bed.gz \n",
      "NR_20 Filter 657027 643805 \n",
      "NR_20 Import /home/mount/work/out/proj_combeffect/annotation_fragment/TFX5_Dex/chr17/NR_20_merge.bed.gz \n",
      "NR_20 Filter 790228 773740 \n"
     ]
    }
   ],
   "source": [
    "###\n",
    "SAMPLES = SAMPLES_INP20X\n",
    "TARGET = \"chr17\"\n",
    "\n",
    "lst_dat = lapply(motif_pair, function(fname){\n",
    "    lst = lapply(SAMPLES, function(sam){\n",
    "\n",
    "        \n",
    "        ### INIT\n",
    "        fdiry = file.path(FD_RES, \"annotation_fragment\")\n",
    "        fpath = file.path(fdiry, sam, TARGET, fname)    \n",
    "        mtf   = str_remove(fname, \"_merge.bed.gz\")\n",
    "        msg   = paste(mtf, \"Import\", fpath)\n",
    "        cat(msg, \"\\n\"); flush.console()\n",
    "        \n",
    "        ### import data\n",
    "        dat = read_tsv(fpath, col_types=CTYPES, col_names=CNAMES)\n",
    "        if (nrow(dat) == 0){\n",
    "            return(NULL)\n",
    "        } else {\n",
    "            ### filtering\n",
    "            num1 = nrow(dat)\n",
    "            dat  = dat %>% \n",
    "                mutate(Sample = sam) %>%\n",
    "                mutate(Length_MTF = End_MTF - Start_MTF) %>%\n",
    "                mutate(Length_Dif = Length_MTF - Overlap) %>%\n",
    "                dplyr::filter(Length_Dif == 0)\n",
    "            \n",
    "            ### PRINT: message\n",
    "            num2 = nrow(dat)\n",
    "            msg  = paste(mtf, \"Filter\", num1, num2)\n",
    "            cat(msg, \"\\n\"); flush.console()\n",
    "            return(dat)\n",
    "        } # end if-else\n",
    "    }) # end lapply\n",
    "\n",
    "    ### arrange data\n",
    "    dat = bind_rows(lst)\n",
    "    return(dat)\n",
    "})"
   ]
  },
  {
   "cell_type": "code",
   "execution_count": 60,
   "metadata": {},
   "outputs": [
    {
     "data": {
      "text/html": [
       "<table class=\"dataframe\">\n",
       "<caption>A tibble: 6 × 13</caption>\n",
       "<thead>\n",
       "\t<tr><th scope=col>Chrom_Frag</th><th scope=col>Start_Frag</th><th scope=col>End_Frag</th><th scope=col>Count_Frag</th><th scope=col>Chrom_MTF</th><th scope=col>Start_MTF</th><th scope=col>End_MTF</th><th scope=col>Motif</th><th scope=col>Score</th><th scope=col>Overlap</th><th scope=col>Sample</th><th scope=col>Length_MTF</th><th scope=col>Length_Dif</th></tr>\n",
       "\t<tr><th scope=col>&lt;chr&gt;</th><th scope=col>&lt;dbl&gt;</th><th scope=col>&lt;dbl&gt;</th><th scope=col>&lt;dbl&gt;</th><th scope=col>&lt;chr&gt;</th><th scope=col>&lt;dbl&gt;</th><th scope=col>&lt;dbl&gt;</th><th scope=col>&lt;chr&gt;</th><th scope=col>&lt;dbl&gt;</th><th scope=col>&lt;dbl&gt;</th><th scope=col>&lt;chr&gt;</th><th scope=col>&lt;dbl&gt;</th><th scope=col>&lt;dbl&gt;</th></tr>\n",
       "</thead>\n",
       "<tbody>\n",
       "\t<tr><td>chr17</td><td>107410</td><td>108464</td><td>1</td><td>chr17</td><td>107530</td><td>107539</td><td>AP1/1</td><td>7.1681</td><td>9</td><td>Input1_20x</td><td>9</td><td>0</td></tr>\n",
       "\t<tr><td>chr17</td><td>107410</td><td>108464</td><td>1</td><td>chr17</td><td>107990</td><td>107998</td><td>AP1/1</td><td>7.5606</td><td>8</td><td>Input1_20x</td><td>8</td><td>0</td></tr>\n",
       "\t<tr><td>chr17</td><td>159426</td><td>160303</td><td>1</td><td>chr17</td><td>160217</td><td>160226</td><td>AP1/1</td><td>7.2250</td><td>9</td><td>Input1_20x</td><td>9</td><td>0</td></tr>\n",
       "\t<tr><td>chr17</td><td>159510</td><td>160362</td><td>1</td><td>chr17</td><td>160217</td><td>160226</td><td>AP1/1</td><td>7.2250</td><td>9</td><td>Input1_20x</td><td>9</td><td>0</td></tr>\n",
       "\t<tr><td>chr17</td><td>159510</td><td>160362</td><td>1</td><td>chr17</td><td>160301</td><td>160309</td><td>AP1/1</td><td>7.7069</td><td>8</td><td>Input1_20x</td><td>8</td><td>0</td></tr>\n",
       "\t<tr><td>chr17</td><td>159977</td><td>160849</td><td>1</td><td>chr17</td><td>160217</td><td>160226</td><td>AP1/1</td><td>7.2250</td><td>9</td><td>Input1_20x</td><td>9</td><td>0</td></tr>\n",
       "</tbody>\n",
       "</table>\n"
      ],
      "text/latex": [
       "A tibble: 6 × 13\n",
       "\\begin{tabular}{lllllllllllll}\n",
       " Chrom\\_Frag & Start\\_Frag & End\\_Frag & Count\\_Frag & Chrom\\_MTF & Start\\_MTF & End\\_MTF & Motif & Score & Overlap & Sample & Length\\_MTF & Length\\_Dif\\\\\n",
       " <chr> & <dbl> & <dbl> & <dbl> & <chr> & <dbl> & <dbl> & <chr> & <dbl> & <dbl> & <chr> & <dbl> & <dbl>\\\\\n",
       "\\hline\n",
       "\t chr17 & 107410 & 108464 & 1 & chr17 & 107530 & 107539 & AP1/1 & 7.1681 & 9 & Input1\\_20x & 9 & 0\\\\\n",
       "\t chr17 & 107410 & 108464 & 1 & chr17 & 107990 & 107998 & AP1/1 & 7.5606 & 8 & Input1\\_20x & 8 & 0\\\\\n",
       "\t chr17 & 159426 & 160303 & 1 & chr17 & 160217 & 160226 & AP1/1 & 7.2250 & 9 & Input1\\_20x & 9 & 0\\\\\n",
       "\t chr17 & 159510 & 160362 & 1 & chr17 & 160217 & 160226 & AP1/1 & 7.2250 & 9 & Input1\\_20x & 9 & 0\\\\\n",
       "\t chr17 & 159510 & 160362 & 1 & chr17 & 160301 & 160309 & AP1/1 & 7.7069 & 8 & Input1\\_20x & 8 & 0\\\\\n",
       "\t chr17 & 159977 & 160849 & 1 & chr17 & 160217 & 160226 & AP1/1 & 7.2250 & 9 & Input1\\_20x & 9 & 0\\\\\n",
       "\\end{tabular}\n"
      ],
      "text/markdown": [
       "\n",
       "A tibble: 6 × 13\n",
       "\n",
       "| Chrom_Frag &lt;chr&gt; | Start_Frag &lt;dbl&gt; | End_Frag &lt;dbl&gt; | Count_Frag &lt;dbl&gt; | Chrom_MTF &lt;chr&gt; | Start_MTF &lt;dbl&gt; | End_MTF &lt;dbl&gt; | Motif &lt;chr&gt; | Score &lt;dbl&gt; | Overlap &lt;dbl&gt; | Sample &lt;chr&gt; | Length_MTF &lt;dbl&gt; | Length_Dif &lt;dbl&gt; |\n",
       "|---|---|---|---|---|---|---|---|---|---|---|---|---|\n",
       "| chr17 | 107410 | 108464 | 1 | chr17 | 107530 | 107539 | AP1/1 | 7.1681 | 9 | Input1_20x | 9 | 0 |\n",
       "| chr17 | 107410 | 108464 | 1 | chr17 | 107990 | 107998 | AP1/1 | 7.5606 | 8 | Input1_20x | 8 | 0 |\n",
       "| chr17 | 159426 | 160303 | 1 | chr17 | 160217 | 160226 | AP1/1 | 7.2250 | 9 | Input1_20x | 9 | 0 |\n",
       "| chr17 | 159510 | 160362 | 1 | chr17 | 160217 | 160226 | AP1/1 | 7.2250 | 9 | Input1_20x | 9 | 0 |\n",
       "| chr17 | 159510 | 160362 | 1 | chr17 | 160301 | 160309 | AP1/1 | 7.7069 | 8 | Input1_20x | 8 | 0 |\n",
       "| chr17 | 159977 | 160849 | 1 | chr17 | 160217 | 160226 | AP1/1 | 7.2250 | 9 | Input1_20x | 9 | 0 |\n",
       "\n"
      ],
      "text/plain": [
       "  Chrom_Frag Start_Frag End_Frag Count_Frag Chrom_MTF Start_MTF End_MTF Motif\n",
       "1 chr17      107410     108464   1          chr17     107530    107539  AP1/1\n",
       "2 chr17      107410     108464   1          chr17     107990    107998  AP1/1\n",
       "3 chr17      159426     160303   1          chr17     160217    160226  AP1/1\n",
       "4 chr17      159510     160362   1          chr17     160217    160226  AP1/1\n",
       "5 chr17      159510     160362   1          chr17     160301    160309  AP1/1\n",
       "6 chr17      159977     160849   1          chr17     160217    160226  AP1/1\n",
       "  Score  Overlap Sample     Length_MTF Length_Dif\n",
       "1 7.1681 9       Input1_20x 9          0         \n",
       "2 7.5606 8       Input1_20x 8          0         \n",
       "3 7.2250 9       Input1_20x 9          0         \n",
       "4 7.2250 9       Input1_20x 9          0         \n",
       "5 7.7069 8       Input1_20x 8          0         \n",
       "6 7.2250 9       Input1_20x 9          0         "
      ]
     },
     "metadata": {},
     "output_type": "display_data"
    }
   ],
   "source": [
    "head(lst_dat[[1]])"
   ]
  },
  {
   "cell_type": "code",
   "execution_count": 61,
   "metadata": {},
   "outputs": [
    {
     "data": {
      "text/html": [
       "<table class=\"dataframe\">\n",
       "<caption>A tibble: 6 × 16</caption>\n",
       "<thead>\n",
       "\t<tr><th scope=col>Chrom_Frag</th><th scope=col>Start_Frag</th><th scope=col>End_Frag</th><th scope=col>Count_Frag</th><th scope=col>Sample</th><th scope=col>Motif.x</th><th scope=col>Start_MTF.x</th><th scope=col>End_MTF.x</th><th scope=col>Score.x</th><th scope=col>Motif.y</th><th scope=col>Start_MTF.y</th><th scope=col>End_MTF.y</th><th scope=col>Score.y</th><th scope=col>Motif</th><th scope=col>Group</th><th scope=col>X</th></tr>\n",
       "\t<tr><th scope=col>&lt;chr&gt;</th><th scope=col>&lt;dbl&gt;</th><th scope=col>&lt;dbl&gt;</th><th scope=col>&lt;dbl&gt;</th><th scope=col>&lt;chr&gt;</th><th scope=col>&lt;chr&gt;</th><th scope=col>&lt;dbl&gt;</th><th scope=col>&lt;dbl&gt;</th><th scope=col>&lt;dbl&gt;</th><th scope=col>&lt;chr&gt;</th><th scope=col>&lt;dbl&gt;</th><th scope=col>&lt;dbl&gt;</th><th scope=col>&lt;dbl&gt;</th><th scope=col>&lt;chr&gt;</th><th scope=col>&lt;chr&gt;</th><th scope=col>&lt;chr&gt;</th></tr>\n",
       "</thead>\n",
       "<tbody>\n",
       "\t<tr><td>chr17</td><td>107410</td><td>108464</td><td>1</td><td>Input1_20x</td><td>AP1/1</td><td>107530</td><td>107539</td><td>7.1681</td><td>NA</td><td>NA</td><td>NA</td><td>NA</td><td>AP1/1</td><td>Input</td><td>Input</td></tr>\n",
       "\t<tr><td>chr17</td><td>107410</td><td>108464</td><td>1</td><td>Input1_20x</td><td>AP1/1</td><td>107990</td><td>107998</td><td>7.5606</td><td>NA</td><td>NA</td><td>NA</td><td>NA</td><td>AP1/1</td><td>Input</td><td>Input</td></tr>\n",
       "\t<tr><td>chr17</td><td>159426</td><td>160303</td><td>1</td><td>Input1_20x</td><td>AP1/1</td><td>160217</td><td>160226</td><td>7.2250</td><td>NA</td><td>NA</td><td>NA</td><td>NA</td><td>AP1/1</td><td>Input</td><td>Input</td></tr>\n",
       "\t<tr><td>chr17</td><td>159510</td><td>160362</td><td>1</td><td>Input1_20x</td><td>AP1/1</td><td>160217</td><td>160226</td><td>7.2250</td><td>NA</td><td>NA</td><td>NA</td><td>NA</td><td>AP1/1</td><td>Input</td><td>Input</td></tr>\n",
       "\t<tr><td>chr17</td><td>159510</td><td>160362</td><td>1</td><td>Input1_20x</td><td>AP1/1</td><td>160301</td><td>160309</td><td>7.7069</td><td>NA</td><td>NA</td><td>NA</td><td>NA</td><td>AP1/1</td><td>Input</td><td>Input</td></tr>\n",
       "\t<tr><td>chr17</td><td>159977</td><td>160849</td><td>1</td><td>Input1_20x</td><td>AP1/1</td><td>160217</td><td>160226</td><td>7.2250</td><td>NA</td><td>NA</td><td>NA</td><td>NA</td><td>AP1/1</td><td>Input</td><td>Input</td></tr>\n",
       "</tbody>\n",
       "</table>\n"
      ],
      "text/latex": [
       "A tibble: 6 × 16\n",
       "\\begin{tabular}{llllllllllllllll}\n",
       " Chrom\\_Frag & Start\\_Frag & End\\_Frag & Count\\_Frag & Sample & Motif.x & Start\\_MTF.x & End\\_MTF.x & Score.x & Motif.y & Start\\_MTF.y & End\\_MTF.y & Score.y & Motif & Group & X\\\\\n",
       " <chr> & <dbl> & <dbl> & <dbl> & <chr> & <chr> & <dbl> & <dbl> & <dbl> & <chr> & <dbl> & <dbl> & <dbl> & <chr> & <chr> & <chr>\\\\\n",
       "\\hline\n",
       "\t chr17 & 107410 & 108464 & 1 & Input1\\_20x & AP1/1 & 107530 & 107539 & 7.1681 & NA & NA & NA & NA & AP1/1 & Input & Input\\\\\n",
       "\t chr17 & 107410 & 108464 & 1 & Input1\\_20x & AP1/1 & 107990 & 107998 & 7.5606 & NA & NA & NA & NA & AP1/1 & Input & Input\\\\\n",
       "\t chr17 & 159426 & 160303 & 1 & Input1\\_20x & AP1/1 & 160217 & 160226 & 7.2250 & NA & NA & NA & NA & AP1/1 & Input & Input\\\\\n",
       "\t chr17 & 159510 & 160362 & 1 & Input1\\_20x & AP1/1 & 160217 & 160226 & 7.2250 & NA & NA & NA & NA & AP1/1 & Input & Input\\\\\n",
       "\t chr17 & 159510 & 160362 & 1 & Input1\\_20x & AP1/1 & 160301 & 160309 & 7.7069 & NA & NA & NA & NA & AP1/1 & Input & Input\\\\\n",
       "\t chr17 & 159977 & 160849 & 1 & Input1\\_20x & AP1/1 & 160217 & 160226 & 7.2250 & NA & NA & NA & NA & AP1/1 & Input & Input\\\\\n",
       "\\end{tabular}\n"
      ],
      "text/markdown": [
       "\n",
       "A tibble: 6 × 16\n",
       "\n",
       "| Chrom_Frag &lt;chr&gt; | Start_Frag &lt;dbl&gt; | End_Frag &lt;dbl&gt; | Count_Frag &lt;dbl&gt; | Sample &lt;chr&gt; | Motif.x &lt;chr&gt; | Start_MTF.x &lt;dbl&gt; | End_MTF.x &lt;dbl&gt; | Score.x &lt;dbl&gt; | Motif.y &lt;chr&gt; | Start_MTF.y &lt;dbl&gt; | End_MTF.y &lt;dbl&gt; | Score.y &lt;dbl&gt; | Motif &lt;chr&gt; | Group &lt;chr&gt; | X &lt;chr&gt; |\n",
       "|---|---|---|---|---|---|---|---|---|---|---|---|---|---|---|---|\n",
       "| chr17 | 107410 | 108464 | 1 | Input1_20x | AP1/1 | 107530 | 107539 | 7.1681 | NA | NA | NA | NA | AP1/1 | Input | Input |\n",
       "| chr17 | 107410 | 108464 | 1 | Input1_20x | AP1/1 | 107990 | 107998 | 7.5606 | NA | NA | NA | NA | AP1/1 | Input | Input |\n",
       "| chr17 | 159426 | 160303 | 1 | Input1_20x | AP1/1 | 160217 | 160226 | 7.2250 | NA | NA | NA | NA | AP1/1 | Input | Input |\n",
       "| chr17 | 159510 | 160362 | 1 | Input1_20x | AP1/1 | 160217 | 160226 | 7.2250 | NA | NA | NA | NA | AP1/1 | Input | Input |\n",
       "| chr17 | 159510 | 160362 | 1 | Input1_20x | AP1/1 | 160301 | 160309 | 7.7069 | NA | NA | NA | NA | AP1/1 | Input | Input |\n",
       "| chr17 | 159977 | 160849 | 1 | Input1_20x | AP1/1 | 160217 | 160226 | 7.2250 | NA | NA | NA | NA | AP1/1 | Input | Input |\n",
       "\n"
      ],
      "text/plain": [
       "  Chrom_Frag Start_Frag End_Frag Count_Frag Sample     Motif.x Start_MTF.x\n",
       "1 chr17      107410     108464   1          Input1_20x AP1/1   107530     \n",
       "2 chr17      107410     108464   1          Input1_20x AP1/1   107990     \n",
       "3 chr17      159426     160303   1          Input1_20x AP1/1   160217     \n",
       "4 chr17      159510     160362   1          Input1_20x AP1/1   160217     \n",
       "5 chr17      159510     160362   1          Input1_20x AP1/1   160301     \n",
       "6 chr17      159977     160849   1          Input1_20x AP1/1   160217     \n",
       "  End_MTF.x Score.x Motif.y Start_MTF.y End_MTF.y Score.y Motif Group X    \n",
       "1 107539    7.1681  NA      NA          NA        NA      AP1/1 Input Input\n",
       "2 107998    7.5606  NA      NA          NA        NA      AP1/1 Input Input\n",
       "3 160226    7.2250  NA      NA          NA        NA      AP1/1 Input Input\n",
       "4 160226    7.2250  NA      NA          NA        NA      AP1/1 Input Input\n",
       "5 160309    7.7069  NA      NA          NA        NA      AP1/1 Input Input\n",
       "6 160226    7.2250  NA      NA          NA        NA      AP1/1 Input Input"
      ]
     },
     "metadata": {},
     "output_type": "display_data"
    }
   ],
   "source": [
    "###\n",
    "df1 = lst_dat[[1]]\n",
    "df2 = lst_dat[[2]]\n",
    "\n",
    "### extract fragments\n",
    "dat1 = bind_rows(df1, df2) %>% \n",
    "    dplyr::select(Chrom_Frag, Start_Frag, End_Frag, Count_Frag, Sample) %>%\n",
    "    distinct\n",
    "dat2 = df1 %>% \n",
    "    dplyr::select(Chrom_Frag, Start_Frag, End_Frag, Count_Frag, Sample, Motif, Start_MTF, End_MTF, Score)\n",
    "dat3 = df2 %>% \n",
    "    dplyr::select(Chrom_Frag, Start_Frag, End_Frag, Count_Frag, Sample, Motif, Start_MTF, End_MTF, Score)\n",
    "\n",
    "### match fragments for the motif pair\n",
    "dat = dat1 %>%\n",
    "    full_join(dat2, by = c(\"Chrom_Frag\", \"Start_Frag\", \"End_Frag\", \"Count_Frag\", \"Sample\")) %>%\n",
    "    full_join(dat3, by = c(\"Chrom_Frag\", \"Start_Frag\", \"End_Frag\", \"Count_Frag\", \"Sample\")) %>%\n",
    "    mutate(Motif = paste(Motif.x, Motif.y, sep = \"_\")) %>%\n",
    "    mutate(Motif = str_remove(string=Motif, pattern=\"_NA|NA_\")) %>% \n",
    "    mutate(Group = get_group(Sample)) %>%\n",
    "    mutate(X     = paste(Group, Motif, sep=\"_\")) %>%\n",
    "    mutate(X     = ifelse(str_detect(X, \"Input\"), \"Input\", X))\n",
    "\n",
    "###\n",
    "df1 = NULL\n",
    "df2 = NULL\n",
    "head(dat)"
   ]
  },
  {
   "cell_type": "code",
   "execution_count": 64,
   "metadata": {},
   "outputs": [
    {
     "data": {
      "text/html": [
       "<table class=\"dataframe\">\n",
       "<caption>A tibble: 6 × 16</caption>\n",
       "<thead>\n",
       "\t<tr><th scope=col>Chrom_Frag</th><th scope=col>Start_Frag</th><th scope=col>End_Frag</th><th scope=col>Count_Frag</th><th scope=col>Sample</th><th scope=col>Motif.x</th><th scope=col>Start_MTF.x</th><th scope=col>End_MTF.x</th><th scope=col>Score.x</th><th scope=col>Motif.y</th><th scope=col>Start_MTF.y</th><th scope=col>End_MTF.y</th><th scope=col>Score.y</th><th scope=col>Motif</th><th scope=col>Group</th><th scope=col>X</th></tr>\n",
       "\t<tr><th scope=col>&lt;chr&gt;</th><th scope=col>&lt;dbl&gt;</th><th scope=col>&lt;dbl&gt;</th><th scope=col>&lt;dbl&gt;</th><th scope=col>&lt;chr&gt;</th><th scope=col>&lt;chr&gt;</th><th scope=col>&lt;dbl&gt;</th><th scope=col>&lt;dbl&gt;</th><th scope=col>&lt;dbl&gt;</th><th scope=col>&lt;chr&gt;</th><th scope=col>&lt;dbl&gt;</th><th scope=col>&lt;dbl&gt;</th><th scope=col>&lt;dbl&gt;</th><th scope=col>&lt;chr&gt;</th><th scope=col>&lt;chr&gt;</th><th scope=col>&lt;chr&gt;</th></tr>\n",
       "</thead>\n",
       "<tbody>\n",
       "\t<tr><td>chr17</td><td>174938</td><td>176057</td><td>1</td><td>Input1_20x</td><td>AP1/1</td><td>174968</td><td>174976</td><td>8.0116</td><td>NR/20</td><td>175700</td><td>175714</td><td>7.3894</td><td>AP1/1_NR/20</td><td>Input</td><td>Input</td></tr>\n",
       "\t<tr><td>chr17</td><td>174938</td><td>176057</td><td>1</td><td>Input1_20x</td><td>AP1/1</td><td>174968</td><td>174976</td><td>8.0116</td><td>NR/20</td><td>175776</td><td>175790</td><td>8.5107</td><td>AP1/1_NR/20</td><td>Input</td><td>Input</td></tr>\n",
       "\t<tr><td>chr17</td><td>174938</td><td>176057</td><td>1</td><td>Input1_20x</td><td>AP1/1</td><td>175271</td><td>175279</td><td>7.6685</td><td>NR/20</td><td>175700</td><td>175714</td><td>7.3894</td><td>AP1/1_NR/20</td><td>Input</td><td>Input</td></tr>\n",
       "\t<tr><td>chr17</td><td>174938</td><td>176057</td><td>1</td><td>Input1_20x</td><td>AP1/1</td><td>175271</td><td>175279</td><td>7.6685</td><td>NR/20</td><td>175776</td><td>175790</td><td>8.5107</td><td>AP1/1_NR/20</td><td>Input</td><td>Input</td></tr>\n",
       "\t<tr><td>chr17</td><td>174938</td><td>176057</td><td>1</td><td>Input1_20x</td><td>AP1/1</td><td>175919</td><td>175927</td><td>7.8941</td><td>NR/20</td><td>175700</td><td>175714</td><td>7.3894</td><td>AP1/1_NR/20</td><td>Input</td><td>Input</td></tr>\n",
       "\t<tr><td>chr17</td><td>174938</td><td>176057</td><td>1</td><td>Input1_20x</td><td>AP1/1</td><td>175919</td><td>175927</td><td>7.8941</td><td>NR/20</td><td>175776</td><td>175790</td><td>8.5107</td><td>AP1/1_NR/20</td><td>Input</td><td>Input</td></tr>\n",
       "</tbody>\n",
       "</table>\n"
      ],
      "text/latex": [
       "A tibble: 6 × 16\n",
       "\\begin{tabular}{llllllllllllllll}\n",
       " Chrom\\_Frag & Start\\_Frag & End\\_Frag & Count\\_Frag & Sample & Motif.x & Start\\_MTF.x & End\\_MTF.x & Score.x & Motif.y & Start\\_MTF.y & End\\_MTF.y & Score.y & Motif & Group & X\\\\\n",
       " <chr> & <dbl> & <dbl> & <dbl> & <chr> & <chr> & <dbl> & <dbl> & <dbl> & <chr> & <dbl> & <dbl> & <dbl> & <chr> & <chr> & <chr>\\\\\n",
       "\\hline\n",
       "\t chr17 & 174938 & 176057 & 1 & Input1\\_20x & AP1/1 & 174968 & 174976 & 8.0116 & NR/20 & 175700 & 175714 & 7.3894 & AP1/1\\_NR/20 & Input & Input\\\\\n",
       "\t chr17 & 174938 & 176057 & 1 & Input1\\_20x & AP1/1 & 174968 & 174976 & 8.0116 & NR/20 & 175776 & 175790 & 8.5107 & AP1/1\\_NR/20 & Input & Input\\\\\n",
       "\t chr17 & 174938 & 176057 & 1 & Input1\\_20x & AP1/1 & 175271 & 175279 & 7.6685 & NR/20 & 175700 & 175714 & 7.3894 & AP1/1\\_NR/20 & Input & Input\\\\\n",
       "\t chr17 & 174938 & 176057 & 1 & Input1\\_20x & AP1/1 & 175271 & 175279 & 7.6685 & NR/20 & 175776 & 175790 & 8.5107 & AP1/1\\_NR/20 & Input & Input\\\\\n",
       "\t chr17 & 174938 & 176057 & 1 & Input1\\_20x & AP1/1 & 175919 & 175927 & 7.8941 & NR/20 & 175700 & 175714 & 7.3894 & AP1/1\\_NR/20 & Input & Input\\\\\n",
       "\t chr17 & 174938 & 176057 & 1 & Input1\\_20x & AP1/1 & 175919 & 175927 & 7.8941 & NR/20 & 175776 & 175790 & 8.5107 & AP1/1\\_NR/20 & Input & Input\\\\\n",
       "\\end{tabular}\n"
      ],
      "text/markdown": [
       "\n",
       "A tibble: 6 × 16\n",
       "\n",
       "| Chrom_Frag &lt;chr&gt; | Start_Frag &lt;dbl&gt; | End_Frag &lt;dbl&gt; | Count_Frag &lt;dbl&gt; | Sample &lt;chr&gt; | Motif.x &lt;chr&gt; | Start_MTF.x &lt;dbl&gt; | End_MTF.x &lt;dbl&gt; | Score.x &lt;dbl&gt; | Motif.y &lt;chr&gt; | Start_MTF.y &lt;dbl&gt; | End_MTF.y &lt;dbl&gt; | Score.y &lt;dbl&gt; | Motif &lt;chr&gt; | Group &lt;chr&gt; | X &lt;chr&gt; |\n",
       "|---|---|---|---|---|---|---|---|---|---|---|---|---|---|---|---|\n",
       "| chr17 | 174938 | 176057 | 1 | Input1_20x | AP1/1 | 174968 | 174976 | 8.0116 | NR/20 | 175700 | 175714 | 7.3894 | AP1/1_NR/20 | Input | Input |\n",
       "| chr17 | 174938 | 176057 | 1 | Input1_20x | AP1/1 | 174968 | 174976 | 8.0116 | NR/20 | 175776 | 175790 | 8.5107 | AP1/1_NR/20 | Input | Input |\n",
       "| chr17 | 174938 | 176057 | 1 | Input1_20x | AP1/1 | 175271 | 175279 | 7.6685 | NR/20 | 175700 | 175714 | 7.3894 | AP1/1_NR/20 | Input | Input |\n",
       "| chr17 | 174938 | 176057 | 1 | Input1_20x | AP1/1 | 175271 | 175279 | 7.6685 | NR/20 | 175776 | 175790 | 8.5107 | AP1/1_NR/20 | Input | Input |\n",
       "| chr17 | 174938 | 176057 | 1 | Input1_20x | AP1/1 | 175919 | 175927 | 7.8941 | NR/20 | 175700 | 175714 | 7.3894 | AP1/1_NR/20 | Input | Input |\n",
       "| chr17 | 174938 | 176057 | 1 | Input1_20x | AP1/1 | 175919 | 175927 | 7.8941 | NR/20 | 175776 | 175790 | 8.5107 | AP1/1_NR/20 | Input | Input |\n",
       "\n"
      ],
      "text/plain": [
       "  Chrom_Frag Start_Frag End_Frag Count_Frag Sample     Motif.x Start_MTF.x\n",
       "1 chr17      174938     176057   1          Input1_20x AP1/1   174968     \n",
       "2 chr17      174938     176057   1          Input1_20x AP1/1   174968     \n",
       "3 chr17      174938     176057   1          Input1_20x AP1/1   175271     \n",
       "4 chr17      174938     176057   1          Input1_20x AP1/1   175271     \n",
       "5 chr17      174938     176057   1          Input1_20x AP1/1   175919     \n",
       "6 chr17      174938     176057   1          Input1_20x AP1/1   175919     \n",
       "  End_MTF.x Score.x Motif.y Start_MTF.y End_MTF.y Score.y Motif       Group\n",
       "1 174976    8.0116  NR/20   175700      175714    7.3894  AP1/1_NR/20 Input\n",
       "2 174976    8.0116  NR/20   175776      175790    8.5107  AP1/1_NR/20 Input\n",
       "3 175279    7.6685  NR/20   175700      175714    7.3894  AP1/1_NR/20 Input\n",
       "4 175279    7.6685  NR/20   175776      175790    8.5107  AP1/1_NR/20 Input\n",
       "5 175927    7.8941  NR/20   175700      175714    7.3894  AP1/1_NR/20 Input\n",
       "6 175927    7.8941  NR/20   175776      175790    8.5107  AP1/1_NR/20 Input\n",
       "  X    \n",
       "1 Input\n",
       "2 Input\n",
       "3 Input\n",
       "4 Input\n",
       "5 Input\n",
       "6 Input"
      ]
     },
     "metadata": {},
     "output_type": "display_data"
    }
   ],
   "source": [
    "dat_mtf_dist = dat %>% dplyr::filter(Motif == \"AP1/1_NR/20\")\n",
    "head(dat_mtf_dist)"
   ]
  },
  {
   "cell_type": "code",
   "execution_count": 65,
   "metadata": {},
   "outputs": [
    {
     "data": {
      "text/html": [
       "<table class=\"dataframe\">\n",
       "<caption>A tibble: 13 × 3</caption>\n",
       "<thead>\n",
       "\t<tr><th scope=col>Sample</th><th scope=col>Group</th><th scope=col>X</th></tr>\n",
       "\t<tr><th scope=col>&lt;chr&gt;</th><th scope=col>&lt;chr&gt;</th><th scope=col>&lt;chr&gt;</th></tr>\n",
       "</thead>\n",
       "<tbody>\n",
       "\t<tr><td>Input1_20x</td><td>Input   </td><td>Input               </td></tr>\n",
       "\t<tr><td>Input2_20x</td><td>Input   </td><td>Input               </td></tr>\n",
       "\t<tr><td>Input3_20x</td><td>Input   </td><td>Input               </td></tr>\n",
       "\t<tr><td>Input4_20x</td><td>Input   </td><td>Input               </td></tr>\n",
       "\t<tr><td>Input5_20x</td><td>Input   </td><td>Input               </td></tr>\n",
       "\t<tr><td>TFX2_DMSO </td><td>TFX_DMSO</td><td>TFX_DMSO_AP1/1_NR/20</td></tr>\n",
       "\t<tr><td>TFX3_DMSO </td><td>TFX_DMSO</td><td>TFX_DMSO_AP1/1_NR/20</td></tr>\n",
       "\t<tr><td>TFX4_DMSO </td><td>TFX_DMSO</td><td>TFX_DMSO_AP1/1_NR/20</td></tr>\n",
       "\t<tr><td>TFX5_DMSO </td><td>TFX_DMSO</td><td>TFX_DMSO_AP1/1_NR/20</td></tr>\n",
       "\t<tr><td>TFX2_Dex  </td><td>TFX_Dex </td><td>TFX_Dex_AP1/1_NR/20 </td></tr>\n",
       "\t<tr><td>TFX3_Dex  </td><td>TFX_Dex </td><td>TFX_Dex_AP1/1_NR/20 </td></tr>\n",
       "\t<tr><td>TFX4_Dex  </td><td>TFX_Dex </td><td>TFX_Dex_AP1/1_NR/20 </td></tr>\n",
       "\t<tr><td>TFX5_Dex  </td><td>TFX_Dex </td><td>TFX_Dex_AP1/1_NR/20 </td></tr>\n",
       "</tbody>\n",
       "</table>\n"
      ],
      "text/latex": [
       "A tibble: 13 × 3\n",
       "\\begin{tabular}{lll}\n",
       " Sample & Group & X\\\\\n",
       " <chr> & <chr> & <chr>\\\\\n",
       "\\hline\n",
       "\t Input1\\_20x & Input    & Input               \\\\\n",
       "\t Input2\\_20x & Input    & Input               \\\\\n",
       "\t Input3\\_20x & Input    & Input               \\\\\n",
       "\t Input4\\_20x & Input    & Input               \\\\\n",
       "\t Input5\\_20x & Input    & Input               \\\\\n",
       "\t TFX2\\_DMSO  & TFX\\_DMSO & TFX\\_DMSO\\_AP1/1\\_NR/20\\\\\n",
       "\t TFX3\\_DMSO  & TFX\\_DMSO & TFX\\_DMSO\\_AP1/1\\_NR/20\\\\\n",
       "\t TFX4\\_DMSO  & TFX\\_DMSO & TFX\\_DMSO\\_AP1/1\\_NR/20\\\\\n",
       "\t TFX5\\_DMSO  & TFX\\_DMSO & TFX\\_DMSO\\_AP1/1\\_NR/20\\\\\n",
       "\t TFX2\\_Dex   & TFX\\_Dex  & TFX\\_Dex\\_AP1/1\\_NR/20 \\\\\n",
       "\t TFX3\\_Dex   & TFX\\_Dex  & TFX\\_Dex\\_AP1/1\\_NR/20 \\\\\n",
       "\t TFX4\\_Dex   & TFX\\_Dex  & TFX\\_Dex\\_AP1/1\\_NR/20 \\\\\n",
       "\t TFX5\\_Dex   & TFX\\_Dex  & TFX\\_Dex\\_AP1/1\\_NR/20 \\\\\n",
       "\\end{tabular}\n"
      ],
      "text/markdown": [
       "\n",
       "A tibble: 13 × 3\n",
       "\n",
       "| Sample &lt;chr&gt; | Group &lt;chr&gt; | X &lt;chr&gt; |\n",
       "|---|---|---|\n",
       "| Input1_20x | Input    | Input                |\n",
       "| Input2_20x | Input    | Input                |\n",
       "| Input3_20x | Input    | Input                |\n",
       "| Input4_20x | Input    | Input                |\n",
       "| Input5_20x | Input    | Input                |\n",
       "| TFX2_DMSO  | TFX_DMSO | TFX_DMSO_AP1/1_NR/20 |\n",
       "| TFX3_DMSO  | TFX_DMSO | TFX_DMSO_AP1/1_NR/20 |\n",
       "| TFX4_DMSO  | TFX_DMSO | TFX_DMSO_AP1/1_NR/20 |\n",
       "| TFX5_DMSO  | TFX_DMSO | TFX_DMSO_AP1/1_NR/20 |\n",
       "| TFX2_Dex   | TFX_Dex  | TFX_Dex_AP1/1_NR/20  |\n",
       "| TFX3_Dex   | TFX_Dex  | TFX_Dex_AP1/1_NR/20  |\n",
       "| TFX4_Dex   | TFX_Dex  | TFX_Dex_AP1/1_NR/20  |\n",
       "| TFX5_Dex   | TFX_Dex  | TFX_Dex_AP1/1_NR/20  |\n",
       "\n"
      ],
      "text/plain": [
       "   Sample     Group    X                   \n",
       "1  Input1_20x Input    Input               \n",
       "2  Input2_20x Input    Input               \n",
       "3  Input3_20x Input    Input               \n",
       "4  Input4_20x Input    Input               \n",
       "5  Input5_20x Input    Input               \n",
       "6  TFX2_DMSO  TFX_DMSO TFX_DMSO_AP1/1_NR/20\n",
       "7  TFX3_DMSO  TFX_DMSO TFX_DMSO_AP1/1_NR/20\n",
       "8  TFX4_DMSO  TFX_DMSO TFX_DMSO_AP1/1_NR/20\n",
       "9  TFX5_DMSO  TFX_DMSO TFX_DMSO_AP1/1_NR/20\n",
       "10 TFX2_Dex   TFX_Dex  TFX_Dex_AP1/1_NR/20 \n",
       "11 TFX3_Dex   TFX_Dex  TFX_Dex_AP1/1_NR/20 \n",
       "12 TFX4_Dex   TFX_Dex  TFX_Dex_AP1/1_NR/20 \n",
       "13 TFX5_Dex   TFX_Dex  TFX_Dex_AP1/1_NR/20 "
      ]
     },
     "metadata": {},
     "output_type": "display_data"
    }
   ],
   "source": [
    "dat_mtf_dist %>% dplyr::select(Sample, Group, X) %>% distinct"
   ]
  },
  {
   "cell_type": "code",
   "execution_count": 67,
   "metadata": {},
   "outputs": [
    {
     "name": "stdout",
     "output_type": "stream",
     "text": [
      "[1] \"/home/mount/work/out/proj_combeffect/model_linear/distance/chr17/frag_AP1_1_NR_20.tsv\"\n"
     ]
    }
   ],
   "source": [
    "fdiry = file.path(FD_RES, 'model_linear', 'distance', 'chr17')\n",
    "fname = \"frag_AP1_1_NR_20.tsv\"\n",
    "fpath = file.path(fdiry, fname)\n",
    "print(fpath)\n",
    "\n",
    "write_tsv(dat_mtf_dist, fpath)"
   ]
  },
  {
   "cell_type": "code",
   "execution_count": null,
   "metadata": {},
   "outputs": [],
   "source": []
  },
  {
   "cell_type": "code",
   "execution_count": null,
   "metadata": {},
   "outputs": [],
   "source": []
  },
  {
   "cell_type": "code",
   "execution_count": null,
   "metadata": {},
   "outputs": [],
   "source": []
  },
  {
   "cell_type": "code",
   "execution_count": null,
   "metadata": {},
   "outputs": [],
   "source": []
  },
  {
   "cell_type": "code",
   "execution_count": null,
   "metadata": {},
   "outputs": [],
   "source": []
  },
  {
   "cell_type": "code",
   "execution_count": null,
   "metadata": {},
   "outputs": [],
   "source": []
  },
  {
   "cell_type": "code",
   "execution_count": null,
   "metadata": {},
   "outputs": [],
   "source": []
  },
  {
   "cell_type": "code",
   "execution_count": null,
   "metadata": {},
   "outputs": [],
   "source": []
  },
  {
   "cell_type": "code",
   "execution_count": 8,
   "metadata": {},
   "outputs": [
    {
     "data": {
      "text/html": [
       "<table class=\"dataframe\">\n",
       "<caption>A tibble: 6 × 4</caption>\n",
       "<thead>\n",
       "\t<tr><th scope=col>Sample</th><th scope=col>X</th><th scope=col>Dist_MTF</th><th scope=col>Value</th></tr>\n",
       "\t<tr><th scope=col>&lt;chr&gt;</th><th scope=col>&lt;chr&gt;</th><th scope=col>&lt;dbl&gt;</th><th scope=col>&lt;dbl&gt;</th></tr>\n",
       "</thead>\n",
       "<tbody>\n",
       "\t<tr><td>Input1_20x</td><td>Input</td><td>0</td><td> 676</td></tr>\n",
       "\t<tr><td>Input1_20x</td><td>Input</td><td>1</td><td> 914</td></tr>\n",
       "\t<tr><td>Input1_20x</td><td>Input</td><td>2</td><td>6681</td></tr>\n",
       "\t<tr><td>Input1_20x</td><td>Input</td><td>3</td><td>6468</td></tr>\n",
       "\t<tr><td>Input1_20x</td><td>Input</td><td>4</td><td>4062</td></tr>\n",
       "\t<tr><td>Input1_20x</td><td>Input</td><td>5</td><td>1579</td></tr>\n",
       "</tbody>\n",
       "</table>\n"
      ],
      "text/latex": [
       "A tibble: 6 × 4\n",
       "\\begin{tabular}{llll}\n",
       " Sample & X & Dist\\_MTF & Value\\\\\n",
       " <chr> & <chr> & <dbl> & <dbl>\\\\\n",
       "\\hline\n",
       "\t Input1\\_20x & Input & 0 &  676\\\\\n",
       "\t Input1\\_20x & Input & 1 &  914\\\\\n",
       "\t Input1\\_20x & Input & 2 & 6681\\\\\n",
       "\t Input1\\_20x & Input & 3 & 6468\\\\\n",
       "\t Input1\\_20x & Input & 4 & 4062\\\\\n",
       "\t Input1\\_20x & Input & 5 & 1579\\\\\n",
       "\\end{tabular}\n"
      ],
      "text/markdown": [
       "\n",
       "A tibble: 6 × 4\n",
       "\n",
       "| Sample &lt;chr&gt; | X &lt;chr&gt; | Dist_MTF &lt;dbl&gt; | Value &lt;dbl&gt; |\n",
       "|---|---|---|---|\n",
       "| Input1_20x | Input | 0 |  676 |\n",
       "| Input1_20x | Input | 1 |  914 |\n",
       "| Input1_20x | Input | 2 | 6681 |\n",
       "| Input1_20x | Input | 3 | 6468 |\n",
       "| Input1_20x | Input | 4 | 4062 |\n",
       "| Input1_20x | Input | 5 | 1579 |\n",
       "\n"
      ],
      "text/plain": [
       "  Sample     X     Dist_MTF Value\n",
       "1 Input1_20x Input 0         676 \n",
       "2 Input1_20x Input 1         914 \n",
       "3 Input1_20x Input 2        6681 \n",
       "4 Input1_20x Input 3        6468 \n",
       "5 Input1_20x Input 4        4062 \n",
       "6 Input1_20x Input 5        1579 "
      ]
     },
     "metadata": {},
     "output_type": "display_data"
    }
   ],
   "source": [
    "tmp = dat %>% dplyr::filter(Motif == \"AP1/1_NR/20\") %>% mutate(Dist_MTF = abs(Start_MTF.x - Start_MTF.y))\n",
    "tmp = tmp %>% group_by(Sample, X, Dist_MTF) %>% summarise(Value = sum(Count_Frag), .groups = 'drop')\n",
    "head(tmp)"
   ]
  },
  {
   "cell_type": "code",
   "execution_count": 9,
   "metadata": {},
   "outputs": [
    {
     "data": {
      "image/png": "[encoded data removed]",
      "text/plain": [
       "plot without title"
      ]
     },
     "metadata": {
      "image/png": {
       "height": 420,
       "width": 420
      }
     },
     "output_type": "display_data"
    }
   ],
   "source": [
    "gpt = ggplot(tmp, aes(x=Dist_MTF, y=Value, color=X)) + geom_point() + theme_cowplot()\n",
    "print(gpt)"
   ]
  },
  {
   "cell_type": "code",
   "execution_count": 17,
   "metadata": {},
   "outputs": [],
   "source": [
    "dat_mtf_dist = dat %>% \n",
    "    dplyr::filter(Motif == \"AP1/1_NR/20\") %>% \n",
    "    mutate(Dist_MTF_val = abs(Start_MTF.x - Start_MTF.y)) %>%\n",
    "    mutate(Dist_MTF_cat = cut(Dist_MTF_val, breaks = seq(0, 2400, by = 100)))"
   ]
  },
  {
   "cell_type": "code",
   "execution_count": 23,
   "metadata": {},
   "outputs": [
    {
     "data": {
      "text/html": [
       "<table class=\"dataframe\">\n",
       "<caption>A tibble: 6 × 16</caption>\n",
       "<thead>\n",
       "\t<tr><th scope=col>Chrom_Frag</th><th scope=col>Start_Frag</th><th scope=col>End_Frag</th><th scope=col>Count_Frag</th><th scope=col>Sample</th><th scope=col>Motif.x</th><th scope=col>Start_MTF.x</th><th scope=col>End_MTF.x</th><th scope=col>Motif.y</th><th scope=col>Start_MTF.y</th><th scope=col>End_MTF.y</th><th scope=col>Motif</th><th scope=col>Group</th><th scope=col>X</th><th scope=col>Dist_MTF_val</th><th scope=col>Dist_MTF_cat</th></tr>\n",
       "\t<tr><th scope=col>&lt;chr&gt;</th><th scope=col>&lt;dbl&gt;</th><th scope=col>&lt;dbl&gt;</th><th scope=col>&lt;dbl&gt;</th><th scope=col>&lt;chr&gt;</th><th scope=col>&lt;chr&gt;</th><th scope=col>&lt;dbl&gt;</th><th scope=col>&lt;dbl&gt;</th><th scope=col>&lt;chr&gt;</th><th scope=col>&lt;dbl&gt;</th><th scope=col>&lt;dbl&gt;</th><th scope=col>&lt;chr&gt;</th><th scope=col>&lt;chr&gt;</th><th scope=col>&lt;chr&gt;</th><th scope=col>&lt;dbl&gt;</th><th scope=col>&lt;fct&gt;</th></tr>\n",
       "</thead>\n",
       "<tbody>\n",
       "\t<tr><td>chr17</td><td>174938</td><td>176057</td><td>1</td><td>Input1_20x</td><td>AP1/1</td><td>174968</td><td>174976</td><td>NR/20</td><td>175700</td><td>175714</td><td>AP1/1_NR/20</td><td>Input_20x</td><td>Input</td><td>732</td><td>(700,800]</td></tr>\n",
       "\t<tr><td>chr17</td><td>174938</td><td>176057</td><td>1</td><td>Input1_20x</td><td>AP1/1</td><td>174968</td><td>174976</td><td>NR/20</td><td>175776</td><td>175790</td><td>AP1/1_NR/20</td><td>Input_20x</td><td>Input</td><td>808</td><td>(800,900]</td></tr>\n",
       "\t<tr><td>chr17</td><td>174938</td><td>176057</td><td>1</td><td>Input1_20x</td><td>AP1/1</td><td>175271</td><td>175279</td><td>NR/20</td><td>175700</td><td>175714</td><td>AP1/1_NR/20</td><td>Input_20x</td><td>Input</td><td>429</td><td>(400,500]</td></tr>\n",
       "\t<tr><td>chr17</td><td>174938</td><td>176057</td><td>1</td><td>Input1_20x</td><td>AP1/1</td><td>175271</td><td>175279</td><td>NR/20</td><td>175776</td><td>175790</td><td>AP1/1_NR/20</td><td>Input_20x</td><td>Input</td><td>505</td><td>(500,600]</td></tr>\n",
       "\t<tr><td>chr17</td><td>174938</td><td>176057</td><td>1</td><td>Input1_20x</td><td>AP1/1</td><td>175919</td><td>175927</td><td>NR/20</td><td>175700</td><td>175714</td><td>AP1/1_NR/20</td><td>Input_20x</td><td>Input</td><td>219</td><td>(200,300]</td></tr>\n",
       "\t<tr><td>chr17</td><td>174938</td><td>176057</td><td>1</td><td>Input1_20x</td><td>AP1/1</td><td>175919</td><td>175927</td><td>NR/20</td><td>175776</td><td>175790</td><td>AP1/1_NR/20</td><td>Input_20x</td><td>Input</td><td>143</td><td>(100,200]</td></tr>\n",
       "</tbody>\n",
       "</table>\n"
      ],
      "text/latex": [
       "A tibble: 6 × 16\n",
       "\\begin{tabular}{llllllllllllllll}\n",
       " Chrom\\_Frag & Start\\_Frag & End\\_Frag & Count\\_Frag & Sample & Motif.x & Start\\_MTF.x & End\\_MTF.x & Motif.y & Start\\_MTF.y & End\\_MTF.y & Motif & Group & X & Dist\\_MTF\\_val & Dist\\_MTF\\_cat\\\\\n",
       " <chr> & <dbl> & <dbl> & <dbl> & <chr> & <chr> & <dbl> & <dbl> & <chr> & <dbl> & <dbl> & <chr> & <chr> & <chr> & <dbl> & <fct>\\\\\n",
       "\\hline\n",
       "\t chr17 & 174938 & 176057 & 1 & Input1\\_20x & AP1/1 & 174968 & 174976 & NR/20 & 175700 & 175714 & AP1/1\\_NR/20 & Input\\_20x & Input & 732 & (700,800{]}\\\\\n",
       "\t chr17 & 174938 & 176057 & 1 & Input1\\_20x & AP1/1 & 174968 & 174976 & NR/20 & 175776 & 175790 & AP1/1\\_NR/20 & Input\\_20x & Input & 808 & (800,900{]}\\\\\n",
       "\t chr17 & 174938 & 176057 & 1 & Input1\\_20x & AP1/1 & 175271 & 175279 & NR/20 & 175700 & 175714 & AP1/1\\_NR/20 & Input\\_20x & Input & 429 & (400,500{]}\\\\\n",
       "\t chr17 & 174938 & 176057 & 1 & Input1\\_20x & AP1/1 & 175271 & 175279 & NR/20 & 175776 & 175790 & AP1/1\\_NR/20 & Input\\_20x & Input & 505 & (500,600{]}\\\\\n",
       "\t chr17 & 174938 & 176057 & 1 & Input1\\_20x & AP1/1 & 175919 & 175927 & NR/20 & 175700 & 175714 & AP1/1\\_NR/20 & Input\\_20x & Input & 219 & (200,300{]}\\\\\n",
       "\t chr17 & 174938 & 176057 & 1 & Input1\\_20x & AP1/1 & 175919 & 175927 & NR/20 & 175776 & 175790 & AP1/1\\_NR/20 & Input\\_20x & Input & 143 & (100,200{]}\\\\\n",
       "\\end{tabular}\n"
      ],
      "text/markdown": [
       "\n",
       "A tibble: 6 × 16\n",
       "\n",
       "| Chrom_Frag &lt;chr&gt; | Start_Frag &lt;dbl&gt; | End_Frag &lt;dbl&gt; | Count_Frag &lt;dbl&gt; | Sample &lt;chr&gt; | Motif.x &lt;chr&gt; | Start_MTF.x &lt;dbl&gt; | End_MTF.x &lt;dbl&gt; | Motif.y &lt;chr&gt; | Start_MTF.y &lt;dbl&gt; | End_MTF.y &lt;dbl&gt; | Motif &lt;chr&gt; | Group &lt;chr&gt; | X &lt;chr&gt; | Dist_MTF_val &lt;dbl&gt; | Dist_MTF_cat &lt;fct&gt; |\n",
       "|---|---|---|---|---|---|---|---|---|---|---|---|---|---|---|---|\n",
       "| chr17 | 174938 | 176057 | 1 | Input1_20x | AP1/1 | 174968 | 174976 | NR/20 | 175700 | 175714 | AP1/1_NR/20 | Input_20x | Input | 732 | (700,800] |\n",
       "| chr17 | 174938 | 176057 | 1 | Input1_20x | AP1/1 | 174968 | 174976 | NR/20 | 175776 | 175790 | AP1/1_NR/20 | Input_20x | Input | 808 | (800,900] |\n",
       "| chr17 | 174938 | 176057 | 1 | Input1_20x | AP1/1 | 175271 | 175279 | NR/20 | 175700 | 175714 | AP1/1_NR/20 | Input_20x | Input | 429 | (400,500] |\n",
       "| chr17 | 174938 | 176057 | 1 | Input1_20x | AP1/1 | 175271 | 175279 | NR/20 | 175776 | 175790 | AP1/1_NR/20 | Input_20x | Input | 505 | (500,600] |\n",
       "| chr17 | 174938 | 176057 | 1 | Input1_20x | AP1/1 | 175919 | 175927 | NR/20 | 175700 | 175714 | AP1/1_NR/20 | Input_20x | Input | 219 | (200,300] |\n",
       "| chr17 | 174938 | 176057 | 1 | Input1_20x | AP1/1 | 175919 | 175927 | NR/20 | 175776 | 175790 | AP1/1_NR/20 | Input_20x | Input | 143 | (100,200] |\n",
       "\n"
      ],
      "text/plain": [
       "  Chrom_Frag Start_Frag End_Frag Count_Frag Sample     Motif.x Start_MTF.x\n",
       "1 chr17      174938     176057   1          Input1_20x AP1/1   174968     \n",
       "2 chr17      174938     176057   1          Input1_20x AP1/1   174968     \n",
       "3 chr17      174938     176057   1          Input1_20x AP1/1   175271     \n",
       "4 chr17      174938     176057   1          Input1_20x AP1/1   175271     \n",
       "5 chr17      174938     176057   1          Input1_20x AP1/1   175919     \n",
       "6 chr17      174938     176057   1          Input1_20x AP1/1   175919     \n",
       "  End_MTF.x Motif.y Start_MTF.y End_MTF.y Motif       Group     X    \n",
       "1 174976    NR/20   175700      175714    AP1/1_NR/20 Input_20x Input\n",
       "2 174976    NR/20   175776      175790    AP1/1_NR/20 Input_20x Input\n",
       "3 175279    NR/20   175700      175714    AP1/1_NR/20 Input_20x Input\n",
       "4 175279    NR/20   175776      175790    AP1/1_NR/20 Input_20x Input\n",
       "5 175927    NR/20   175700      175714    AP1/1_NR/20 Input_20x Input\n",
       "6 175927    NR/20   175776      175790    AP1/1_NR/20 Input_20x Input\n",
       "  Dist_MTF_val Dist_MTF_cat\n",
       "1 732          (700,800]   \n",
       "2 808          (800,900]   \n",
       "3 429          (400,500]   \n",
       "4 505          (500,600]   \n",
       "5 219          (200,300]   \n",
       "6 143          (100,200]   "
      ]
     },
     "metadata": {},
     "output_type": "display_data"
    }
   ],
   "source": [
    "head(dat_mtf_dist)"
   ]
  },
  {
   "cell_type": "code",
   "execution_count": 59,
   "metadata": {},
   "outputs": [
    {
     "data": {
      "text/html": [
       "<table class=\"dataframe\">\n",
       "<caption>A tibble: 6 × 16</caption>\n",
       "<thead>\n",
       "\t<tr><th scope=col>Chrom_Frag</th><th scope=col>Start_Frag</th><th scope=col>End_Frag</th><th scope=col>Count_Frag</th><th scope=col>Sample</th><th scope=col>Motif.x</th><th scope=col>Start_MTF.x</th><th scope=col>End_MTF.x</th><th scope=col>Motif.y</th><th scope=col>Start_MTF.y</th><th scope=col>End_MTF.y</th><th scope=col>Motif</th><th scope=col>Group</th><th scope=col>X</th><th scope=col>Dist_MTF_val</th><th scope=col>Dist_MTF_cat</th></tr>\n",
       "\t<tr><th scope=col>&lt;chr&gt;</th><th scope=col>&lt;dbl&gt;</th><th scope=col>&lt;dbl&gt;</th><th scope=col>&lt;dbl&gt;</th><th scope=col>&lt;chr&gt;</th><th scope=col>&lt;chr&gt;</th><th scope=col>&lt;dbl&gt;</th><th scope=col>&lt;dbl&gt;</th><th scope=col>&lt;chr&gt;</th><th scope=col>&lt;dbl&gt;</th><th scope=col>&lt;dbl&gt;</th><th scope=col>&lt;chr&gt;</th><th scope=col>&lt;chr&gt;</th><th scope=col>&lt;chr&gt;</th><th scope=col>&lt;dbl&gt;</th><th scope=col>&lt;fct&gt;</th></tr>\n",
       "</thead>\n",
       "<tbody>\n",
       "\t<tr><td>chr17</td><td>8915663</td><td>8916721</td><td>1</td><td>Input1_20x</td><td>AP1/1</td><td>8916590</td><td>8916598</td><td>NR/20</td><td>8916590</td><td>8916604</td><td>AP1/1_NR/20</td><td>Input_20x</td><td>Input</td><td>0</td><td>NA</td></tr>\n",
       "\t<tr><td>chr17</td><td>8915678</td><td>8916771</td><td>1</td><td>Input1_20x</td><td>AP1/1</td><td>8916590</td><td>8916598</td><td>NR/20</td><td>8916590</td><td>8916604</td><td>AP1/1_NR/20</td><td>Input_20x</td><td>Input</td><td>0</td><td>NA</td></tr>\n",
       "\t<tr><td>chr17</td><td>8915689</td><td>8916695</td><td>1</td><td>Input1_20x</td><td>AP1/1</td><td>8916590</td><td>8916598</td><td>NR/20</td><td>8916590</td><td>8916604</td><td>AP1/1_NR/20</td><td>Input_20x</td><td>Input</td><td>0</td><td>NA</td></tr>\n",
       "\t<tr><td>chr17</td><td>8915693</td><td>8916728</td><td>1</td><td>Input1_20x</td><td>AP1/1</td><td>8916590</td><td>8916598</td><td>NR/20</td><td>8916590</td><td>8916604</td><td>AP1/1_NR/20</td><td>Input_20x</td><td>Input</td><td>0</td><td>NA</td></tr>\n",
       "\t<tr><td>chr17</td><td>8915696</td><td>8916711</td><td>1</td><td>Input1_20x</td><td>AP1/1</td><td>8916590</td><td>8916598</td><td>NR/20</td><td>8916590</td><td>8916604</td><td>AP1/1_NR/20</td><td>Input_20x</td><td>Input</td><td>0</td><td>NA</td></tr>\n",
       "\t<tr><td>chr17</td><td>8915706</td><td>8916685</td><td>1</td><td>Input1_20x</td><td>AP1/1</td><td>8916590</td><td>8916598</td><td>NR/20</td><td>8916590</td><td>8916604</td><td>AP1/1_NR/20</td><td>Input_20x</td><td>Input</td><td>0</td><td>NA</td></tr>\n",
       "</tbody>\n",
       "</table>\n"
      ],
      "text/latex": [
       "A tibble: 6 × 16\n",
       "\\begin{tabular}{llllllllllllllll}\n",
       " Chrom\\_Frag & Start\\_Frag & End\\_Frag & Count\\_Frag & Sample & Motif.x & Start\\_MTF.x & End\\_MTF.x & Motif.y & Start\\_MTF.y & End\\_MTF.y & Motif & Group & X & Dist\\_MTF\\_val & Dist\\_MTF\\_cat\\\\\n",
       " <chr> & <dbl> & <dbl> & <dbl> & <chr> & <chr> & <dbl> & <dbl> & <chr> & <dbl> & <dbl> & <chr> & <chr> & <chr> & <dbl> & <fct>\\\\\n",
       "\\hline\n",
       "\t chr17 & 8915663 & 8916721 & 1 & Input1\\_20x & AP1/1 & 8916590 & 8916598 & NR/20 & 8916590 & 8916604 & AP1/1\\_NR/20 & Input\\_20x & Input & 0 & NA\\\\\n",
       "\t chr17 & 8915678 & 8916771 & 1 & Input1\\_20x & AP1/1 & 8916590 & 8916598 & NR/20 & 8916590 & 8916604 & AP1/1\\_NR/20 & Input\\_20x & Input & 0 & NA\\\\\n",
       "\t chr17 & 8915689 & 8916695 & 1 & Input1\\_20x & AP1/1 & 8916590 & 8916598 & NR/20 & 8916590 & 8916604 & AP1/1\\_NR/20 & Input\\_20x & Input & 0 & NA\\\\\n",
       "\t chr17 & 8915693 & 8916728 & 1 & Input1\\_20x & AP1/1 & 8916590 & 8916598 & NR/20 & 8916590 & 8916604 & AP1/1\\_NR/20 & Input\\_20x & Input & 0 & NA\\\\\n",
       "\t chr17 & 8915696 & 8916711 & 1 & Input1\\_20x & AP1/1 & 8916590 & 8916598 & NR/20 & 8916590 & 8916604 & AP1/1\\_NR/20 & Input\\_20x & Input & 0 & NA\\\\\n",
       "\t chr17 & 8915706 & 8916685 & 1 & Input1\\_20x & AP1/1 & 8916590 & 8916598 & NR/20 & 8916590 & 8916604 & AP1/1\\_NR/20 & Input\\_20x & Input & 0 & NA\\\\\n",
       "\\end{tabular}\n"
      ],
      "text/markdown": [
       "\n",
       "A tibble: 6 × 16\n",
       "\n",
       "| Chrom_Frag &lt;chr&gt; | Start_Frag &lt;dbl&gt; | End_Frag &lt;dbl&gt; | Count_Frag &lt;dbl&gt; | Sample &lt;chr&gt; | Motif.x &lt;chr&gt; | Start_MTF.x &lt;dbl&gt; | End_MTF.x &lt;dbl&gt; | Motif.y &lt;chr&gt; | Start_MTF.y &lt;dbl&gt; | End_MTF.y &lt;dbl&gt; | Motif &lt;chr&gt; | Group &lt;chr&gt; | X &lt;chr&gt; | Dist_MTF_val &lt;dbl&gt; | Dist_MTF_cat &lt;fct&gt; |\n",
       "|---|---|---|---|---|---|---|---|---|---|---|---|---|---|---|---|\n",
       "| chr17 | 8915663 | 8916721 | 1 | Input1_20x | AP1/1 | 8916590 | 8916598 | NR/20 | 8916590 | 8916604 | AP1/1_NR/20 | Input_20x | Input | 0 | NA |\n",
       "| chr17 | 8915678 | 8916771 | 1 | Input1_20x | AP1/1 | 8916590 | 8916598 | NR/20 | 8916590 | 8916604 | AP1/1_NR/20 | Input_20x | Input | 0 | NA |\n",
       "| chr17 | 8915689 | 8916695 | 1 | Input1_20x | AP1/1 | 8916590 | 8916598 | NR/20 | 8916590 | 8916604 | AP1/1_NR/20 | Input_20x | Input | 0 | NA |\n",
       "| chr17 | 8915693 | 8916728 | 1 | Input1_20x | AP1/1 | 8916590 | 8916598 | NR/20 | 8916590 | 8916604 | AP1/1_NR/20 | Input_20x | Input | 0 | NA |\n",
       "| chr17 | 8915696 | 8916711 | 1 | Input1_20x | AP1/1 | 8916590 | 8916598 | NR/20 | 8916590 | 8916604 | AP1/1_NR/20 | Input_20x | Input | 0 | NA |\n",
       "| chr17 | 8915706 | 8916685 | 1 | Input1_20x | AP1/1 | 8916590 | 8916598 | NR/20 | 8916590 | 8916604 | AP1/1_NR/20 | Input_20x | Input | 0 | NA |\n",
       "\n"
      ],
      "text/plain": [
       "  Chrom_Frag Start_Frag End_Frag Count_Frag Sample     Motif.x Start_MTF.x\n",
       "1 chr17      8915663    8916721  1          Input1_20x AP1/1   8916590    \n",
       "2 chr17      8915678    8916771  1          Input1_20x AP1/1   8916590    \n",
       "3 chr17      8915689    8916695  1          Input1_20x AP1/1   8916590    \n",
       "4 chr17      8915693    8916728  1          Input1_20x AP1/1   8916590    \n",
       "5 chr17      8915696    8916711  1          Input1_20x AP1/1   8916590    \n",
       "6 chr17      8915706    8916685  1          Input1_20x AP1/1   8916590    \n",
       "  End_MTF.x Motif.y Start_MTF.y End_MTF.y Motif       Group     X    \n",
       "1 8916598   NR/20   8916590     8916604   AP1/1_NR/20 Input_20x Input\n",
       "2 8916598   NR/20   8916590     8916604   AP1/1_NR/20 Input_20x Input\n",
       "3 8916598   NR/20   8916590     8916604   AP1/1_NR/20 Input_20x Input\n",
       "4 8916598   NR/20   8916590     8916604   AP1/1_NR/20 Input_20x Input\n",
       "5 8916598   NR/20   8916590     8916604   AP1/1_NR/20 Input_20x Input\n",
       "6 8916598   NR/20   8916590     8916604   AP1/1_NR/20 Input_20x Input\n",
       "  Dist_MTF_val Dist_MTF_cat\n",
       "1 0            NA          \n",
       "2 0            NA          \n",
       "3 0            NA          \n",
       "4 0            NA          \n",
       "5 0            NA          \n",
       "6 0            NA          "
      ]
     },
     "metadata": {},
     "output_type": "display_data"
    }
   ],
   "source": [
    "dat_mtf_dist %>% dplyr::filter(is.na(Dist_MTF_cat)) %>% dplyr::select(Dist_MTF_val, Dist_MTF_cat) "
   ]
  },
  {
   "cell_type": "code",
   "execution_count": 32,
   "metadata": {},
   "outputs": [
    {
     "data": {
      "text/html": [
       "<table class=\"dataframe\">\n",
       "<caption>A tibble: 6 × 7</caption>\n",
       "<thead>\n",
       "\t<tr><th scope=col>Sample</th><th scope=col>Dist_MTF_cat</th><th scope=col>Value</th><th scope=col>Size</th><th scope=col>Group</th><th scope=col>Norm_Value</th><th scope=col>Lognorm_Value</th></tr>\n",
       "\t<tr><th scope=col>&lt;chr&gt;</th><th scope=col>&lt;fct&gt;</th><th scope=col>&lt;dbl&gt;</th><th scope=col>&lt;dbl&gt;</th><th scope=col>&lt;chr&gt;</th><th scope=col>&lt;dbl&gt;</th><th scope=col>&lt;dbl&gt;</th></tr>\n",
       "</thead>\n",
       "<tbody>\n",
       "\t<tr><td>Input1_20x</td><td>(0,100]  </td><td>878483</td><td>371718546</td><td>Input</td><td>0.002363302</td><td>-8.724981</td></tr>\n",
       "\t<tr><td>Input1_20x</td><td>(100,200]</td><td>834133</td><td>371718546</td><td>Input</td><td>0.002243991</td><td>-8.799718</td></tr>\n",
       "\t<tr><td>Input1_20x</td><td>(200,300]</td><td>729946</td><td>371718546</td><td>Input</td><td>0.001963706</td><td>-8.992205</td></tr>\n",
       "\t<tr><td>Input1_20x</td><td>(300,400]</td><td>673387</td><td>371718546</td><td>Input</td><td>0.001811551</td><td>-9.108559</td></tr>\n",
       "\t<tr><td>Input1_20x</td><td>(400,500]</td><td>574005</td><td>371718546</td><td>Input</td><td>0.001544193</td><td>-9.338932</td></tr>\n",
       "\t<tr><td>Input1_20x</td><td>(500,600]</td><td>456278</td><td>371718546</td><td>Input</td><td>0.001227482</td><td>-9.670082</td></tr>\n",
       "</tbody>\n",
       "</table>\n"
      ],
      "text/latex": [
       "A tibble: 6 × 7\n",
       "\\begin{tabular}{lllllll}\n",
       " Sample & Dist\\_MTF\\_cat & Value & Size & Group & Norm\\_Value & Lognorm\\_Value\\\\\n",
       " <chr> & <fct> & <dbl> & <dbl> & <chr> & <dbl> & <dbl>\\\\\n",
       "\\hline\n",
       "\t Input1\\_20x & (0,100{]}   & 878483 & 371718546 & Input & 0.002363302 & -8.724981\\\\\n",
       "\t Input1\\_20x & (100,200{]} & 834133 & 371718546 & Input & 0.002243991 & -8.799718\\\\\n",
       "\t Input1\\_20x & (200,300{]} & 729946 & 371718546 & Input & 0.001963706 & -8.992205\\\\\n",
       "\t Input1\\_20x & (300,400{]} & 673387 & 371718546 & Input & 0.001811551 & -9.108559\\\\\n",
       "\t Input1\\_20x & (400,500{]} & 574005 & 371718546 & Input & 0.001544193 & -9.338932\\\\\n",
       "\t Input1\\_20x & (500,600{]} & 456278 & 371718546 & Input & 0.001227482 & -9.670082\\\\\n",
       "\\end{tabular}\n"
      ],
      "text/markdown": [
       "\n",
       "A tibble: 6 × 7\n",
       "\n",
       "| Sample &lt;chr&gt; | Dist_MTF_cat &lt;fct&gt; | Value &lt;dbl&gt; | Size &lt;dbl&gt; | Group &lt;chr&gt; | Norm_Value &lt;dbl&gt; | Lognorm_Value &lt;dbl&gt; |\n",
       "|---|---|---|---|---|---|---|\n",
       "| Input1_20x | (0,100]   | 878483 | 371718546 | Input | 0.002363302 | -8.724981 |\n",
       "| Input1_20x | (100,200] | 834133 | 371718546 | Input | 0.002243991 | -8.799718 |\n",
       "| Input1_20x | (200,300] | 729946 | 371718546 | Input | 0.001963706 | -8.992205 |\n",
       "| Input1_20x | (300,400] | 673387 | 371718546 | Input | 0.001811551 | -9.108559 |\n",
       "| Input1_20x | (400,500] | 574005 | 371718546 | Input | 0.001544193 | -9.338932 |\n",
       "| Input1_20x | (500,600] | 456278 | 371718546 | Input | 0.001227482 | -9.670082 |\n",
       "\n"
      ],
      "text/plain": [
       "  Sample     Dist_MTF_cat Value  Size      Group Norm_Value  Lognorm_Value\n",
       "1 Input1_20x (0,100]      878483 371718546 Input 0.002363302 -8.724981    \n",
       "2 Input1_20x (100,200]    834133 371718546 Input 0.002243991 -8.799718    \n",
       "3 Input1_20x (200,300]    729946 371718546 Input 0.001963706 -8.992205    \n",
       "4 Input1_20x (300,400]    673387 371718546 Input 0.001811551 -9.108559    \n",
       "5 Input1_20x (400,500]    574005 371718546 Input 0.001544193 -9.338932    \n",
       "6 Input1_20x (500,600]    456278 371718546 Input 0.001227482 -9.670082    "
      ]
     },
     "metadata": {},
     "output_type": "display_data"
    }
   ],
   "source": [
    "### summarize into counts\n",
    "dat = dat_mtf_dist\n",
    "dat = dat %>% \n",
    "    group_by(Sample, Group, Dist_MTF_cat) %>% \n",
    "    summarise(Value = sum(Count_Frag), .groups = 'drop') %>%\n",
    "    dplyr::select(-Group)\n",
    "\n",
    "### normalize counts by library size\n",
    "dat = dat %>% left_join(dat_lib, by=\"Sample\")\n",
    "dat = dat %>%\n",
    "    mutate(Norm_Value    = Value / Size) %>% \n",
    "    mutate(Lognorm_Value = log2(Value) - log2(Size))\n",
    "\n",
    "head(dat)"
   ]
  },
  {
   "cell_type": "code",
   "execution_count": 33,
   "metadata": {},
   "outputs": [
    {
     "data": {
      "image/png": "[encoded data removed]",
      "text/plain": [
       "plot without title"
      ]
     },
     "metadata": {
      "image/png": {
       "height": 420,
       "width": 420
      }
     },
     "output_type": "display_data"
    }
   ],
   "source": [
    "gpt = ggplot(dat, aes(x=Dist_MTF_cat, y=Lognorm_Value, color=Group)) + geom_point() + theme_cowplot()\n",
    "print(gpt)"
   ]
  },
  {
   "cell_type": "code",
   "execution_count": 42,
   "metadata": {},
   "outputs": [],
   "source": [
    "tmp1 = dat %>% \n",
    "    dplyr::filter(Group == \"Input\") %>% \n",
    "    group_by(Dist_MTF_cat) %>% \n",
    "    summarize(Norm_Value_Input = mean(Norm_Value), .groups = 'drop') \n",
    "\n",
    "tmp2 = dat %>% \n",
    "    dplyr::filter(Group == \"TFX_DMSO\") %>% \n",
    "    group_by(Dist_MTF_cat) %>% \n",
    "    summarize(Norm_Value_DMSO = mean(Norm_Value), .groups = 'drop') \n",
    "\n",
    "tmp3 = dat %>% \n",
    "    dplyr::filter(Group == \"TFX_Dex\") %>% \n",
    "    group_by(Dist_MTF_cat) %>% \n",
    "    summarize(Norm_Value_Dex = mean(Norm_Value), .groups = 'drop') "
   ]
  },
  {
   "cell_type": "code",
   "execution_count": 43,
   "metadata": {},
   "outputs": [
    {
     "name": "stdout",
     "output_type": "stream",
     "text": [
      "\u001b[90m# A tibble: 3 × 2\u001b[39m\n",
      "  Dist_MTF_cat Norm_Value_Input\n",
      "  \u001b[3m\u001b[90m<fct>\u001b[39m\u001b[23m                   \u001b[3m\u001b[90m<dbl>\u001b[39m\u001b[23m\n",
      "\u001b[90m1\u001b[39m (0,100]               0.002\u001b[4m3\u001b[24m\u001b[4m5\u001b[24m\n",
      "\u001b[90m2\u001b[39m (100,200]             0.002\u001b[4m2\u001b[24m\u001b[4m3\u001b[24m\n",
      "\u001b[90m3\u001b[39m (200,300]             0.001\u001b[4m9\u001b[24m\u001b[4m5\u001b[24m\n",
      "\u001b[90m# A tibble: 3 × 2\u001b[39m\n",
      "  Dist_MTF_cat Norm_Value_DMSO\n",
      "  \u001b[3m\u001b[90m<fct>\u001b[39m\u001b[23m                  \u001b[3m\u001b[90m<dbl>\u001b[39m\u001b[23m\n",
      "\u001b[90m1\u001b[39m (0,100]              0.002\u001b[4m9\u001b[24m\u001b[4m9\u001b[24m\n",
      "\u001b[90m2\u001b[39m (100,200]            0.002\u001b[4m9\u001b[24m\u001b[4m1\u001b[24m\n",
      "\u001b[90m3\u001b[39m (200,300]            0.002\u001b[4m6\u001b[24m\u001b[4m4\u001b[24m\n",
      "\u001b[90m# A tibble: 3 × 2\u001b[39m\n",
      "  Dist_MTF_cat Norm_Value_Dex\n",
      "  \u001b[3m\u001b[90m<fct>\u001b[39m\u001b[23m                 \u001b[3m\u001b[90m<dbl>\u001b[39m\u001b[23m\n",
      "\u001b[90m1\u001b[39m (0,100]             0.004\u001b[4m4\u001b[24m\u001b[4m6\u001b[24m\n",
      "\u001b[90m2\u001b[39m (100,200]           0.004\u001b[4m0\u001b[24m\u001b[4m7\u001b[24m\n",
      "\u001b[90m3\u001b[39m (200,300]           0.003\u001b[4m5\u001b[24m\u001b[4m8\u001b[24m\n"
     ]
    }
   ],
   "source": [
    "print(head(tmp1, 3))\n",
    "print(head(tmp2, 3))\n",
    "print(head(tmp3, 3))"
   ]
  },
  {
   "cell_type": "code",
   "execution_count": 45,
   "metadata": {},
   "outputs": [
    {
     "data": {
      "text/html": [
       "<table class=\"dataframe\">\n",
       "<caption>A tibble: 6 × 6</caption>\n",
       "<thead>\n",
       "\t<tr><th scope=col>Dist_MTF_cat</th><th scope=col>Norm_Value_Input</th><th scope=col>Norm_Value_DMSO</th><th scope=col>Norm_Value_Dex</th><th scope=col>Ratio_DMSO</th><th scope=col>Ratio_Dex</th></tr>\n",
       "\t<tr><th scope=col>&lt;fct&gt;</th><th scope=col>&lt;dbl&gt;</th><th scope=col>&lt;dbl&gt;</th><th scope=col>&lt;dbl&gt;</th><th scope=col>&lt;dbl&gt;</th><th scope=col>&lt;dbl&gt;</th></tr>\n",
       "</thead>\n",
       "<tbody>\n",
       "\t<tr><td>(0,100]  </td><td>0.002350507</td><td>0.002994893</td><td>0.004461885</td><td>1.274147</td><td>1.898265</td></tr>\n",
       "\t<tr><td>(100,200]</td><td>0.002232529</td><td>0.002913752</td><td>0.004067408</td><td>1.305135</td><td>1.821883</td></tr>\n",
       "\t<tr><td>(200,300]</td><td>0.001954258</td><td>0.002635313</td><td>0.003575475</td><td>1.348498</td><td>1.829582</td></tr>\n",
       "\t<tr><td>(300,400]</td><td>0.001803077</td><td>0.002417254</td><td>0.003423487</td><td>1.340627</td><td>1.898691</td></tr>\n",
       "\t<tr><td>(400,500]</td><td>0.001540275</td><td>0.001975971</td><td>0.002755910</td><td>1.282869</td><td>1.789232</td></tr>\n",
       "\t<tr><td>(500,600]</td><td>0.001223697</td><td>0.001584873</td><td>0.002176306</td><td>1.295152</td><td>1.778468</td></tr>\n",
       "</tbody>\n",
       "</table>\n"
      ],
      "text/latex": [
       "A tibble: 6 × 6\n",
       "\\begin{tabular}{llllll}\n",
       " Dist\\_MTF\\_cat & Norm\\_Value\\_Input & Norm\\_Value\\_DMSO & Norm\\_Value\\_Dex & Ratio\\_DMSO & Ratio\\_Dex\\\\\n",
       " <fct> & <dbl> & <dbl> & <dbl> & <dbl> & <dbl>\\\\\n",
       "\\hline\n",
       "\t (0,100{]}   & 0.002350507 & 0.002994893 & 0.004461885 & 1.274147 & 1.898265\\\\\n",
       "\t (100,200{]} & 0.002232529 & 0.002913752 & 0.004067408 & 1.305135 & 1.821883\\\\\n",
       "\t (200,300{]} & 0.001954258 & 0.002635313 & 0.003575475 & 1.348498 & 1.829582\\\\\n",
       "\t (300,400{]} & 0.001803077 & 0.002417254 & 0.003423487 & 1.340627 & 1.898691\\\\\n",
       "\t (400,500{]} & 0.001540275 & 0.001975971 & 0.002755910 & 1.282869 & 1.789232\\\\\n",
       "\t (500,600{]} & 0.001223697 & 0.001584873 & 0.002176306 & 1.295152 & 1.778468\\\\\n",
       "\\end{tabular}\n"
      ],
      "text/markdown": [
       "\n",
       "A tibble: 6 × 6\n",
       "\n",
       "| Dist_MTF_cat &lt;fct&gt; | Norm_Value_Input &lt;dbl&gt; | Norm_Value_DMSO &lt;dbl&gt; | Norm_Value_Dex &lt;dbl&gt; | Ratio_DMSO &lt;dbl&gt; | Ratio_Dex &lt;dbl&gt; |\n",
       "|---|---|---|---|---|---|\n",
       "| (0,100]   | 0.002350507 | 0.002994893 | 0.004461885 | 1.274147 | 1.898265 |\n",
       "| (100,200] | 0.002232529 | 0.002913752 | 0.004067408 | 1.305135 | 1.821883 |\n",
       "| (200,300] | 0.001954258 | 0.002635313 | 0.003575475 | 1.348498 | 1.829582 |\n",
       "| (300,400] | 0.001803077 | 0.002417254 | 0.003423487 | 1.340627 | 1.898691 |\n",
       "| (400,500] | 0.001540275 | 0.001975971 | 0.002755910 | 1.282869 | 1.789232 |\n",
       "| (500,600] | 0.001223697 | 0.001584873 | 0.002176306 | 1.295152 | 1.778468 |\n",
       "\n"
      ],
      "text/plain": [
       "  Dist_MTF_cat Norm_Value_Input Norm_Value_DMSO Norm_Value_Dex Ratio_DMSO\n",
       "1 (0,100]      0.002350507      0.002994893     0.004461885    1.274147  \n",
       "2 (100,200]    0.002232529      0.002913752     0.004067408    1.305135  \n",
       "3 (200,300]    0.001954258      0.002635313     0.003575475    1.348498  \n",
       "4 (300,400]    0.001803077      0.002417254     0.003423487    1.340627  \n",
       "5 (400,500]    0.001540275      0.001975971     0.002755910    1.282869  \n",
       "6 (500,600]    0.001223697      0.001584873     0.002176306    1.295152  \n",
       "  Ratio_Dex\n",
       "1 1.898265 \n",
       "2 1.821883 \n",
       "3 1.829582 \n",
       "4 1.898691 \n",
       "5 1.789232 \n",
       "6 1.778468 "
      ]
     },
     "metadata": {},
     "output_type": "display_data"
    }
   ],
   "source": [
    "tmp = tmp1 %>% left_join(tmp2, by=\"Dist_MTF_cat\") %>% left_join(tmp3, by=\"Dist_MTF_cat\")\n",
    "tmp = tmp  %>% \n",
    "    mutate(Ratio_DMSO = Norm_Value_DMSO / Norm_Value_Input) %>%\n",
    "    mutate(Ratio_Dex  = Norm_Value_Dex  / Norm_Value_Input)\n",
    "head(tmp)"
   ]
  },
  {
   "cell_type": "code",
   "execution_count": 56,
   "metadata": {},
   "outputs": [
    {
     "data": {
      "text/html": [
       "<table class=\"dataframe\">\n",
       "<caption>A tibble: 6 × 6</caption>\n",
       "<thead>\n",
       "\t<tr><th scope=col>Dist_MTF_cat</th><th scope=col>Norm_Value_Input</th><th scope=col>Norm_Value_DMSO</th><th scope=col>Norm_Value_Dex</th><th scope=col>Ratio_DMSO</th><th scope=col>Ratio_Dex</th></tr>\n",
       "\t<tr><th scope=col>&lt;fct&gt;</th><th scope=col>&lt;dbl&gt;</th><th scope=col>&lt;dbl&gt;</th><th scope=col>&lt;dbl&gt;</th><th scope=col>&lt;dbl&gt;</th><th scope=col>&lt;dbl&gt;</th></tr>\n",
       "</thead>\n",
       "<tbody>\n",
       "\t<tr><td>(1.9e+03,2e+03]  </td><td>6.308994e-08</td><td>1.738841e-07</td><td>2.143570e-07</td><td> 2.756130</td><td> 3.397641</td></tr>\n",
       "\t<tr><td>(2e+03,2.1e+03]  </td><td>9.879923e-08</td><td>2.445408e-07</td><td>1.157152e-07</td><td> 2.475129</td><td> 1.171216</td></tr>\n",
       "\t<tr><td>(2.1e+03,2.2e+03]</td><td>4.124988e-08</td><td>8.633465e-08</td><td>8.694801e-08</td><td> 2.092967</td><td> 2.107837</td></tr>\n",
       "\t<tr><td>(2.2e+03,2.3e+03]</td><td>5.381148e-08</td><td>          NA</td><td>2.000894e-07</td><td>       NA</td><td> 3.718340</td></tr>\n",
       "\t<tr><td>(2.3e+03,2.4e+03]</td><td>2.418331e-09</td><td>3.230858e-08</td><td>4.257385e-08</td><td>13.359867</td><td>17.604642</td></tr>\n",
       "\t<tr><td>NA               </td><td>1.878223e-06</td><td>5.500243e-06</td><td>4.282522e-06</td><td> 2.928429</td><td> 2.280093</td></tr>\n",
       "</tbody>\n",
       "</table>\n"
      ],
      "text/latex": [
       "A tibble: 6 × 6\n",
       "\\begin{tabular}{llllll}\n",
       " Dist\\_MTF\\_cat & Norm\\_Value\\_Input & Norm\\_Value\\_DMSO & Norm\\_Value\\_Dex & Ratio\\_DMSO & Ratio\\_Dex\\\\\n",
       " <fct> & <dbl> & <dbl> & <dbl> & <dbl> & <dbl>\\\\\n",
       "\\hline\n",
       "\t (1.9e+03,2e+03{]}   & 6.308994e-08 & 1.738841e-07 & 2.143570e-07 &  2.756130 &  3.397641\\\\\n",
       "\t (2e+03,2.1e+03{]}   & 9.879923e-08 & 2.445408e-07 & 1.157152e-07 &  2.475129 &  1.171216\\\\\n",
       "\t (2.1e+03,2.2e+03{]} & 4.124988e-08 & 8.633465e-08 & 8.694801e-08 &  2.092967 &  2.107837\\\\\n",
       "\t (2.2e+03,2.3e+03{]} & 5.381148e-08 &           NA & 2.000894e-07 &        NA &  3.718340\\\\\n",
       "\t (2.3e+03,2.4e+03{]} & 2.418331e-09 & 3.230858e-08 & 4.257385e-08 & 13.359867 & 17.604642\\\\\n",
       "\t NA                & 1.878223e-06 & 5.500243e-06 & 4.282522e-06 &  2.928429 &  2.280093\\\\\n",
       "\\end{tabular}\n"
      ],
      "text/markdown": [
       "\n",
       "A tibble: 6 × 6\n",
       "\n",
       "| Dist_MTF_cat &lt;fct&gt; | Norm_Value_Input &lt;dbl&gt; | Norm_Value_DMSO &lt;dbl&gt; | Norm_Value_Dex &lt;dbl&gt; | Ratio_DMSO &lt;dbl&gt; | Ratio_Dex &lt;dbl&gt; |\n",
       "|---|---|---|---|---|---|\n",
       "| (1.9e+03,2e+03]   | 6.308994e-08 | 1.738841e-07 | 2.143570e-07 |  2.756130 |  3.397641 |\n",
       "| (2e+03,2.1e+03]   | 9.879923e-08 | 2.445408e-07 | 1.157152e-07 |  2.475129 |  1.171216 |\n",
       "| (2.1e+03,2.2e+03] | 4.124988e-08 | 8.633465e-08 | 8.694801e-08 |  2.092967 |  2.107837 |\n",
       "| (2.2e+03,2.3e+03] | 5.381148e-08 |           NA | 2.000894e-07 |        NA |  3.718340 |\n",
       "| (2.3e+03,2.4e+03] | 2.418331e-09 | 3.230858e-08 | 4.257385e-08 | 13.359867 | 17.604642 |\n",
       "| NA                | 1.878223e-06 | 5.500243e-06 | 4.282522e-06 |  2.928429 |  2.280093 |\n",
       "\n"
      ],
      "text/plain": [
       "  Dist_MTF_cat      Norm_Value_Input Norm_Value_DMSO Norm_Value_Dex Ratio_DMSO\n",
       "1 (1.9e+03,2e+03]   6.308994e-08     1.738841e-07    2.143570e-07    2.756130 \n",
       "2 (2e+03,2.1e+03]   9.879923e-08     2.445408e-07    1.157152e-07    2.475129 \n",
       "3 (2.1e+03,2.2e+03] 4.124988e-08     8.633465e-08    8.694801e-08    2.092967 \n",
       "4 (2.2e+03,2.3e+03] 5.381148e-08               NA    2.000894e-07          NA \n",
       "5 (2.3e+03,2.4e+03] 2.418331e-09     3.230858e-08    4.257385e-08   13.359867 \n",
       "6 NA                1.878223e-06     5.500243e-06    4.282522e-06    2.928429 \n",
       "  Ratio_Dex\n",
       "1  3.397641\n",
       "2  1.171216\n",
       "3  2.107837\n",
       "4  3.718340\n",
       "5 17.604642\n",
       "6  2.280093"
      ]
     },
     "metadata": {},
     "output_type": "display_data"
    }
   ],
   "source": [
    "tail(tmp)"
   ]
  },
  {
   "cell_type": "code",
   "execution_count": 50,
   "metadata": {},
   "outputs": [
    {
     "data": {
      "text/html": [
       "<table class=\"dataframe\">\n",
       "<caption>A tibble: 6 × 3</caption>\n",
       "<thead>\n",
       "\t<tr><th scope=col>Dist_MTF_cat</th><th scope=col>Group</th><th scope=col>Value</th></tr>\n",
       "\t<tr><th scope=col>&lt;fct&gt;</th><th scope=col>&lt;chr&gt;</th><th scope=col>&lt;dbl&gt;</th></tr>\n",
       "</thead>\n",
       "<tbody>\n",
       "\t<tr><td>(0,100]  </td><td>Ratio_DMSO</td><td>1.274147</td></tr>\n",
       "\t<tr><td>(100,200]</td><td>Ratio_DMSO</td><td>1.305135</td></tr>\n",
       "\t<tr><td>(200,300]</td><td>Ratio_DMSO</td><td>1.348498</td></tr>\n",
       "\t<tr><td>(300,400]</td><td>Ratio_DMSO</td><td>1.340627</td></tr>\n",
       "\t<tr><td>(400,500]</td><td>Ratio_DMSO</td><td>1.282869</td></tr>\n",
       "\t<tr><td>(500,600]</td><td>Ratio_DMSO</td><td>1.295152</td></tr>\n",
       "</tbody>\n",
       "</table>\n"
      ],
      "text/latex": [
       "A tibble: 6 × 3\n",
       "\\begin{tabular}{lll}\n",
       " Dist\\_MTF\\_cat & Group & Value\\\\\n",
       " <fct> & <chr> & <dbl>\\\\\n",
       "\\hline\n",
       "\t (0,100{]}   & Ratio\\_DMSO & 1.274147\\\\\n",
       "\t (100,200{]} & Ratio\\_DMSO & 1.305135\\\\\n",
       "\t (200,300{]} & Ratio\\_DMSO & 1.348498\\\\\n",
       "\t (300,400{]} & Ratio\\_DMSO & 1.340627\\\\\n",
       "\t (400,500{]} & Ratio\\_DMSO & 1.282869\\\\\n",
       "\t (500,600{]} & Ratio\\_DMSO & 1.295152\\\\\n",
       "\\end{tabular}\n"
      ],
      "text/markdown": [
       "\n",
       "A tibble: 6 × 3\n",
       "\n",
       "| Dist_MTF_cat &lt;fct&gt; | Group &lt;chr&gt; | Value &lt;dbl&gt; |\n",
       "|---|---|---|\n",
       "| (0,100]   | Ratio_DMSO | 1.274147 |\n",
       "| (100,200] | Ratio_DMSO | 1.305135 |\n",
       "| (200,300] | Ratio_DMSO | 1.348498 |\n",
       "| (300,400] | Ratio_DMSO | 1.340627 |\n",
       "| (400,500] | Ratio_DMSO | 1.282869 |\n",
       "| (500,600] | Ratio_DMSO | 1.295152 |\n",
       "\n"
      ],
      "text/plain": [
       "  Dist_MTF_cat Group      Value   \n",
       "1 (0,100]      Ratio_DMSO 1.274147\n",
       "2 (100,200]    Ratio_DMSO 1.305135\n",
       "3 (200,300]    Ratio_DMSO 1.348498\n",
       "4 (300,400]    Ratio_DMSO 1.340627\n",
       "5 (400,500]    Ratio_DMSO 1.282869\n",
       "6 (500,600]    Ratio_DMSO 1.295152"
      ]
     },
     "metadata": {},
     "output_type": "display_data"
    }
   ],
   "source": [
    "dat = tmp %>% \n",
    "    dplyr::select(Dist_MTF_cat, Ratio_DMSO, Ratio_Dex) %>% \n",
    "    gather(Group, Value, -Dist_MTF_cat)\n",
    "head(dat)"
   ]
  },
  {
   "cell_type": "code",
   "execution_count": 55,
   "metadata": {},
   "outputs": [
    {
     "data": {
      "text/html": [
       "<table class=\"dataframe\">\n",
       "<caption>A tibble: 6 × 3</caption>\n",
       "<thead>\n",
       "\t<tr><th scope=col>Dist_MTF_cat</th><th scope=col>Group</th><th scope=col>Value</th></tr>\n",
       "\t<tr><th scope=col>&lt;fct&gt;</th><th scope=col>&lt;chr&gt;</th><th scope=col>&lt;dbl&gt;</th></tr>\n",
       "</thead>\n",
       "<tbody>\n",
       "\t<tr><td>(1.9e+03,2e+03]  </td><td>Ratio_Dex</td><td> 3.397641</td></tr>\n",
       "\t<tr><td>(2e+03,2.1e+03]  </td><td>Ratio_Dex</td><td> 1.171216</td></tr>\n",
       "\t<tr><td>(2.1e+03,2.2e+03]</td><td>Ratio_Dex</td><td> 2.107837</td></tr>\n",
       "\t<tr><td>(2.2e+03,2.3e+03]</td><td>Ratio_Dex</td><td> 3.718340</td></tr>\n",
       "\t<tr><td>(2.3e+03,2.4e+03]</td><td>Ratio_Dex</td><td>17.604642</td></tr>\n",
       "\t<tr><td>NA               </td><td>Ratio_Dex</td><td> 2.280093</td></tr>\n",
       "</tbody>\n",
       "</table>\n"
      ],
      "text/latex": [
       "A tibble: 6 × 3\n",
       "\\begin{tabular}{lll}\n",
       " Dist\\_MTF\\_cat & Group & Value\\\\\n",
       " <fct> & <chr> & <dbl>\\\\\n",
       "\\hline\n",
       "\t (1.9e+03,2e+03{]}   & Ratio\\_Dex &  3.397641\\\\\n",
       "\t (2e+03,2.1e+03{]}   & Ratio\\_Dex &  1.171216\\\\\n",
       "\t (2.1e+03,2.2e+03{]} & Ratio\\_Dex &  2.107837\\\\\n",
       "\t (2.2e+03,2.3e+03{]} & Ratio\\_Dex &  3.718340\\\\\n",
       "\t (2.3e+03,2.4e+03{]} & Ratio\\_Dex & 17.604642\\\\\n",
       "\t NA                & Ratio\\_Dex &  2.280093\\\\\n",
       "\\end{tabular}\n"
      ],
      "text/markdown": [
       "\n",
       "A tibble: 6 × 3\n",
       "\n",
       "| Dist_MTF_cat &lt;fct&gt; | Group &lt;chr&gt; | Value &lt;dbl&gt; |\n",
       "|---|---|---|\n",
       "| (1.9e+03,2e+03]   | Ratio_Dex |  3.397641 |\n",
       "| (2e+03,2.1e+03]   | Ratio_Dex |  1.171216 |\n",
       "| (2.1e+03,2.2e+03] | Ratio_Dex |  2.107837 |\n",
       "| (2.2e+03,2.3e+03] | Ratio_Dex |  3.718340 |\n",
       "| (2.3e+03,2.4e+03] | Ratio_Dex | 17.604642 |\n",
       "| NA                | Ratio_Dex |  2.280093 |\n",
       "\n"
      ],
      "text/plain": [
       "  Dist_MTF_cat      Group     Value    \n",
       "1 (1.9e+03,2e+03]   Ratio_Dex  3.397641\n",
       "2 (2e+03,2.1e+03]   Ratio_Dex  1.171216\n",
       "3 (2.1e+03,2.2e+03] Ratio_Dex  2.107837\n",
       "4 (2.2e+03,2.3e+03] Ratio_Dex  3.718340\n",
       "5 (2.3e+03,2.4e+03] Ratio_Dex 17.604642\n",
       "6 NA                Ratio_Dex  2.280093"
      ]
     },
     "metadata": {},
     "output_type": "display_data"
    }
   ],
   "source": [
    "tail(dat)"
   ]
  },
  {
   "cell_type": "code",
   "execution_count": 54,
   "metadata": {},
   "outputs": [
    {
     "name": "stderr",
     "output_type": "stream",
     "text": [
      "Warning message:\n",
      "“Removed 1 rows containing missing values (geom_point).”\n"
     ]
    },
    {
     "data": {
      "image/png": "[encoded data removed]",
      "text/plain": [
       "plot without title"
      ]
     },
     "metadata": {
      "image/png": {
       "height": 420,
       "width": 420
      }
     },
     "output_type": "display_data"
    }
   ],
   "source": [
    "gpt = ggplot(dat, aes(x=Dist_MTF_cat, y=Value, color=Group)) + \n",
    "    geom_point() + \n",
    "    theme_cowplot() + \n",
    "    theme(axis.text.x = element_text(angle=90))\n",
    "print(gpt)"
   ]
  },
  {
   "cell_type": "code",
   "execution_count": 12,
   "metadata": {},
   "outputs": [
    {
     "name": "stdout",
     "output_type": "stream",
     "text": [
      "[1]    0 2329\n"
     ]
    }
   ],
   "source": [
    "print(range(tmp$Dist_MTF))"
   ]
  },
  {
   "cell_type": "code",
   "execution_count": 13,
   "metadata": {},
   "outputs": [
    {
     "data": {
      "text/html": [
       "<style>\n",
       ".list-inline {list-style: none; margin:0; padding: 0}\n",
       ".list-inline>li {display: inline-block}\n",
       ".list-inline>li:not(:last-child)::after {content: \"\\00b7\"; padding: 0 .5ex}\n",
       "</style>\n",
       "<ol class=list-inline><li>0</li><li>50</li><li>100</li><li>150</li><li>200</li></ol>\n"
      ],
      "text/latex": [
       "\\begin{enumerate*}\n",
       "\\item 0\n",
       "\\item 50\n",
       "\\item 100\n",
       "\\item 150\n",
       "\\item 200\n",
       "\\end{enumerate*}\n"
      ],
      "text/markdown": [
       "1. 0\n",
       "2. 50\n",
       "3. 100\n",
       "4. 150\n",
       "5. 200\n",
       "\n",
       "\n"
      ],
      "text/plain": [
       "[1]   0  50 100 150 200"
      ]
     },
     "metadata": {},
     "output_type": "display_data"
    }
   ],
   "source": [
    "seq(0, 200, by = 50)"
   ]
  },
  {
   "cell_type": "code",
   "execution_count": 16,
   "metadata": {},
   "outputs": [
    {
     "data": {
      "text/html": [
       "<style>\n",
       ".list-inline {list-style: none; margin:0; padding: 0}\n",
       ".list-inline>li {display: inline-block}\n",
       ".list-inline>li:not(:last-child)::after {content: \"\\00b7\"; padding: 0 .5ex}\n",
       "</style>\n",
       "<ol class=list-inline><li>(700,800]</li><li>(800,900]</li><li>(400,500]</li><li>(500,600]</li><li>(200,300]</li><li>(100,200]</li><li>(400,500]</li><li>(500,600]</li><li>(200,300]</li><li>(100,200]</li><li>(600,700]</li><li>(500,600]</li><li>(600,700]</li><li>(500,600]</li><li>(600,700]</li><li>(500,600]</li><li>(0,100]</li><li>(0,100]</li><li>(100,200]</li><li>(500,600]</li></ol>\n",
       "\n",
       "<details>\n",
       "\t<summary style=display:list-item;cursor:pointer>\n",
       "\t\t<strong>Levels</strong>:\n",
       "\t</summary>\n",
       "\t<style>\n",
       "\t.list-inline {list-style: none; margin:0; padding: 0}\n",
       "\t.list-inline>li {display: inline-block}\n",
       "\t.list-inline>li:not(:last-child)::after {content: \"\\00b7\"; padding: 0 .5ex}\n",
       "\t</style>\n",
       "\t<ol class=list-inline><li>'(0,100]'</li><li>'(100,200]'</li><li>'(200,300]'</li><li>'(300,400]'</li><li>'(400,500]'</li><li>'(500,600]'</li><li>'(600,700]'</li><li>'(700,800]'</li><li>'(800,900]'</li><li>'(900,1e+03]'</li></ol>\n",
       "</details>"
      ],
      "text/latex": [
       "\\begin{enumerate*}\n",
       "\\item (700,800{]}\n",
       "\\item (800,900{]}\n",
       "\\item (400,500{]}\n",
       "\\item (500,600{]}\n",
       "\\item (200,300{]}\n",
       "\\item (100,200{]}\n",
       "\\item (400,500{]}\n",
       "\\item (500,600{]}\n",
       "\\item (200,300{]}\n",
       "\\item (100,200{]}\n",
       "\\item (600,700{]}\n",
       "\\item (500,600{]}\n",
       "\\item (600,700{]}\n",
       "\\item (500,600{]}\n",
       "\\item (600,700{]}\n",
       "\\item (500,600{]}\n",
       "\\item (0,100{]}\n",
       "\\item (0,100{]}\n",
       "\\item (100,200{]}\n",
       "\\item (500,600{]}\n",
       "\\end{enumerate*}\n",
       "\n",
       "\\emph{Levels}: \\begin{enumerate*}\n",
       "\\item '(0,100{]}'\n",
       "\\item '(100,200{]}'\n",
       "\\item '(200,300{]}'\n",
       "\\item '(300,400{]}'\n",
       "\\item '(400,500{]}'\n",
       "\\item '(500,600{]}'\n",
       "\\item '(600,700{]}'\n",
       "\\item '(700,800{]}'\n",
       "\\item '(800,900{]}'\n",
       "\\item '(900,1e+03{]}'\n",
       "\\end{enumerate*}\n"
      ],
      "text/markdown": [
       "1. (700,800]\n",
       "2. (800,900]\n",
       "3. (400,500]\n",
       "4. (500,600]\n",
       "5. (200,300]\n",
       "6. (100,200]\n",
       "7. (400,500]\n",
       "8. (500,600]\n",
       "9. (200,300]\n",
       "10. (100,200]\n",
       "11. (600,700]\n",
       "12. (500,600]\n",
       "13. (600,700]\n",
       "14. (500,600]\n",
       "15. (600,700]\n",
       "16. (500,600]\n",
       "17. (0,100]\n",
       "18. (0,100]\n",
       "19. (100,200]\n",
       "20. (500,600]\n",
       "\n",
       "\n",
       "\n",
       "**Levels**: 1. '(0,100]'\n",
       "2. '(100,200]'\n",
       "3. '(200,300]'\n",
       "4. '(300,400]'\n",
       "5. '(400,500]'\n",
       "6. '(500,600]'\n",
       "7. '(600,700]'\n",
       "8. '(700,800]'\n",
       "9. '(800,900]'\n",
       "10. '(900,1e+03]'\n",
       "\n",
       "\n"
      ],
      "text/plain": [
       " [1] (700,800] (800,900] (400,500] (500,600] (200,300] (100,200] (400,500]\n",
       " [8] (500,600] (200,300] (100,200] (600,700] (500,600] (600,700] (500,600]\n",
       "[15] (600,700] (500,600] (0,100]   (0,100]   (100,200] (500,600]\n",
       "10 Levels: (0,100] (100,200] (200,300] (300,400] (400,500] ... (900,1e+03]"
      ]
     },
     "metadata": {},
     "output_type": "display_data"
    }
   ],
   "source": [
    "cut(head(tmp$Dist_MTF, 20), breaks = seq(0, 1000, by = 100))"
   ]
  },
  {
   "cell_type": "code",
   "execution_count": null,
   "metadata": {},
   "outputs": [],
   "source": []
  }
 ],
 "metadata": {
  "kernelspec": {
   "display_name": "R",
   "language": "R",
   "name": "ir"
  },
  "language_info": {
   "codemirror_mode": "r",
   "file_extension": ".r",
   "mimetype": "text/x-r-source",
   "name": "R",
   "pygments_lexer": "r",
   "version": "4.1.1"
  }
 },
 "nbformat": 4,
 "nbformat_minor": 4
}
