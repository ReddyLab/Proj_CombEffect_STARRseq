{
 "cells": [
  {
   "cell_type": "code",
   "execution_count": 1,
   "id": "8489ffd9-c2c3-4800-850f-76262f572d61",
   "metadata": {},
   "outputs": [
    {
     "name": "stdout",
     "output_type": "stream",
     "text": [
      "01_marginal_per1_v1.ipynb         12_interactive_per1_multiple.ipynb  config.R\n",
      "01_marginal_per1_v2.ipynb         13_interactive_per1_plot.ipynb\n",
      "11_interactive_per1_single.ipynb  14_interactive_chr17.ipynb\n"
     ]
    }
   ],
   "source": [
    "ls"
   ]
  },
  {
   "cell_type": "code",
   "execution_count": 18,
   "id": "132e7747-679d-4bdf-b0fa-d5be1c5b7564",
   "metadata": {},
   "outputs": [
    {
     "name": "stdout",
     "output_type": "stream",
     "text": [
      "You are on Duke Server: DCC\n",
      "BASE DIRECTORY:     /work/kk319\n",
      "PATH OF SOURCE:     /work/kk319/source\n",
      "PATH OF EXECUTABLE: /work/kk319/exe\n",
      "PATH OF ANNOTATION: /work/kk319/annotation\n",
      "PATH OF PROJECT:    /hpc/home/kk319/GitRepo/Proj_CombEffect_STARRseq/notebooks\n",
      "PATH OF RESULTS:    /work/kk319/out/CombEffect_STARR\n",
      "\n"
     ]
    }
   ],
   "source": [
    "source ../config_duke.sh"
   ]
  },
  {
   "cell_type": "code",
   "execution_count": 45,
   "id": "3addb71e-66cc-44ea-a249-576c3a146a84",
   "metadata": {},
   "outputs": [
    {
     "name": "stdout",
     "output_type": "stream",
     "text": [
      "/hpc/home/kk319/GitRepo/Proj_CombEffect_STARRseq/notebooks/config_duke.sh\n"
     ]
    }
   ],
   "source": [
    "readlink -f ../config_duke.sh"
   ]
  },
  {
   "cell_type": "code",
   "execution_count": 3,
   "id": "8ca019c4-5738-465e-b2d8-f375c8a77eb6",
   "metadata": {},
   "outputs": [
    {
     "name": "stdout",
     "output_type": "stream",
     "text": [
      "\u001b[0m\u001b[01;34mannotation_fragment\u001b[0m  \u001b[01;34mbedgraph\u001b[0m   \u001b[01;34mcount_fragment\u001b[0m  \u001b[01;34mcoverage\u001b[0m  \u001b[01;34mkmer\u001b[0m  \u001b[01;34mmodel_linear\u001b[0m\n",
      "\u001b[01;34mannotation_segment\u001b[0m   \u001b[01;34mbootstrap\u001b[0m  \u001b[01;34mcount_segment\u001b[0m   \u001b[01;34mdata\u001b[0m      \u001b[01;34mlog\u001b[0m   \u001b[01;34msource\u001b[0m\n"
     ]
    }
   ],
   "source": [
    "ls ${FD_RES}"
   ]
  },
  {
   "cell_type": "code",
   "execution_count": 46,
   "id": "04d014c2-05c0-4529-8f05-41bf568c21f3",
   "metadata": {},
   "outputs": [
    {
     "name": "stdout",
     "output_type": "stream",
     "text": [
      "\u001b[0m\u001b[01;34mInput\u001b[0m   \u001b[01;34mInput3\u001b[0m  target_PER1_MA0099.3.bed  \u001b[01;34mTFX2_DMSO\u001b[0m  \u001b[01;34mTFX4_Dex\u001b[0m   \u001b[01;34mTFX5_DMSO\u001b[0m\n",
      "\u001b[01;34mInput1\u001b[0m  \u001b[01;34mInput4\u001b[0m  target_PER1_MA0113.3.bed  \u001b[01;34mTFX3_Dex\u001b[0m   \u001b[01;34mTFX4_DMSO\u001b[0m  \u001b[01;34mTFX_Dex\u001b[0m\n",
      "\u001b[01;34mInput2\u001b[0m  \u001b[01;34mInput5\u001b[0m  \u001b[01;34mTFX2_Dex\u001b[0m                  \u001b[01;34mTFX3_DMSO\u001b[0m  \u001b[01;34mTFX5_Dex\u001b[0m   \u001b[01;34mTFX_DMSO\u001b[0m\n"
     ]
    }
   ],
   "source": [
    "ls ${FD_RES}/annotation_fragment"
   ]
  },
  {
   "cell_type": "code",
   "execution_count": 43,
   "id": "4e674461-5b41-4f8b-a6ce-2d089b51a8d0",
   "metadata": {},
   "outputs": [
    {
     "name": "stdout",
     "output_type": "stream",
     "text": [
      "2.7G Jul 19 00:13 /work/kk319/out/CombEffect_STARR/annotation_fragment/Input1/chr21.bed\n",
      "2.9G Jul 19 00:15 /work/kk319/out/CombEffect_STARR/annotation_fragment/Input2/chr21.bed\n",
      "3.4G Jul 19 00:18 /work/kk319/out/CombEffect_STARR/annotation_fragment/Input3/chr21.bed\n",
      "2.7G Jul 19 00:19 /work/kk319/out/CombEffect_STARR/annotation_fragment/Input4/chr21.bed\n",
      "2.2G Jul 19 00:21 /work/kk319/out/CombEffect_STARR/annotation_fragment/Input5/chr21.bed\n",
      "13.9\n"
     ]
    }
   ],
   "source": [
    "dir ${FD_RES}/annotation_fragment/Input?/chr21.bed"
   ]
  },
  {
   "cell_type": "code",
   "execution_count": 44,
   "id": "456cbd06-eefc-401f-beee-fa08b0dfab99",
   "metadata": {},
   "outputs": [
    {
     "name": "stdout",
     "output_type": "stream",
     "text": [
      "6.3G Jul 19 00:26 /work/kk319/out/CombEffect_STARR/annotation_fragment/TFX2_DMSO/chr21.bed\n",
      "4.1G Jul 19 00:33 /work/kk319/out/CombEffect_STARR/annotation_fragment/TFX3_DMSO/chr21.bed\n",
      "4.8G Jul 19 00:39 /work/kk319/out/CombEffect_STARR/annotation_fragment/TFX4_DMSO/chr21.bed\n",
      "4.5G Jul 19 00:46 /work/kk319/out/CombEffect_STARR/annotation_fragment/TFX5_DMSO/chr21.bed\n",
      "19.7\n"
     ]
    }
   ],
   "source": [
    "dir ${FD_RES}/annotation_fragment/TFX?_DMSO/chr21.bed"
   ]
  },
  {
   "cell_type": "code",
   "execution_count": 37,
   "id": "44741b67-7a99-45aa-9eaa-e383ae54e199",
   "metadata": {},
   "outputs": [
    {
     "name": "stdout",
     "output_type": "stream",
     "text": [
      "6.7G Jul 19 00:31 /work/kk319/out/CombEffect_STARR/annotation_fragment/TFX2_Dex/chr21.bed\n",
      "4.2G Jul 19 00:36 /work/kk319/out/CombEffect_STARR/annotation_fragment/TFX3_Dex/chr21.bed\n",
      "5.6G Jul 19 00:43 /work/kk319/out/CombEffect_STARR/annotation_fragment/TFX4_Dex/chr21.bed\n",
      "6.8G Jul 19 00:50 /work/kk319/out/CombEffect_STARR/annotation_fragment/TFX5_Dex/chr21.bed\n",
      "23.3\n"
     ]
    }
   ],
   "source": [
    "dir ${FD_RES}/annotation_fragment/TFX?_Dex/chr21.bed"
   ]
  },
  {
   "cell_type": "code",
   "execution_count": 38,
   "id": "6375e886-3307-4eab-a929-4ec9357d024c",
   "metadata": {},
   "outputs": [
    {
     "name": "stdout",
     "output_type": "stream",
     "text": [
      "13.899999999999999\n",
      "56.900000000000006\n"
     ]
    }
   ],
   "source": [
    "python -c \"print(2.7 + 2.9 + 3.4 + 2.7 + 2.2)\"\n",
    "python -c \"print(13.9 + 19.7 + 23.3)\""
   ]
  },
  {
   "cell_type": "code",
   "execution_count": 4,
   "id": "8914ce47-88df-4252-a8a0-fb88e4948b16",
   "metadata": {},
   "outputs": [
    {
     "name": "stdout",
     "output_type": "stream",
     "text": [
      "7.1G Jul 19 00:30 /work/kk319/out/CombEffect_STARR/annotation_fragment/Input1/chr17.bed\n",
      "7.7G Jul 19 00:35 /work/kk319/out/CombEffect_STARR/annotation_fragment/Input2/chr17.bed\n",
      "9.0G Jul 19 00:42 /work/kk319/out/CombEffect_STARR/annotation_fragment/Input3/chr17.bed\n",
      "7.2G Jul 19 00:46 /work/kk319/out/CombEffect_STARR/annotation_fragment/Input4/chr17.bed\n",
      "5.8G Jul 19 00:50 /work/kk319/out/CombEffect_STARR/annotation_fragment/Input5/chr17.bed\n",
      "36.8\n"
     ]
    }
   ],
   "source": [
    "dir ${FD_RES}/annotation_fragment/Input?/chr17.bed"
   ]
  },
  {
   "cell_type": "code",
   "execution_count": 5,
   "id": "852fa812-7e7f-4109-811a-ece0cae4273e",
   "metadata": {},
   "outputs": [
    {
     "name": "stdout",
     "output_type": "stream",
     "text": [
      "19G Jul 19 01:01 /work/kk319/out/CombEffect_STARR/annotation_fragment/TFX2_DMSO/chr17.bed\n",
      "12G Jul 19 01:18 /work/kk319/out/CombEffect_STARR/annotation_fragment/TFX3_DMSO/chr17.bed\n",
      "14G Jul 19 01:32 /work/kk319/out/CombEffect_STARR/annotation_fragment/TFX4_DMSO/chr17.bed\n",
      "13G Jul 19 01:48 /work/kk319/out/CombEffect_STARR/annotation_fragment/TFX5_DMSO/chr17.bed\n",
      "58\n"
     ]
    }
   ],
   "source": [
    "dir ${FD_RES}/annotation_fragment/TFX?_DMSO/chr17.bed"
   ]
  },
  {
   "cell_type": "code",
   "execution_count": 6,
   "id": "4463e1c8-04ac-4944-b5a9-e95f20b43395",
   "metadata": {},
   "outputs": [
    {
     "name": "stdout",
     "output_type": "stream",
     "text": [
      "19G Jul 19 01:12 /work/kk319/out/CombEffect_STARR/annotation_fragment/TFX2_Dex/chr17.bed\n",
      "12G Jul 19 01:25 /work/kk319/out/CombEffect_STARR/annotation_fragment/TFX3_Dex/chr17.bed\n",
      "16G Jul 19 01:41 /work/kk319/out/CombEffect_STARR/annotation_fragment/TFX4_Dex/chr17.bed\n",
      "19G Jul 19 01:58 /work/kk319/out/CombEffect_STARR/annotation_fragment/TFX5_Dex/chr17.bed\n",
      "66\n"
     ]
    }
   ],
   "source": [
    "dir ${FD_RES}/annotation_fragment/TFX?_Dex/chr17.bed"
   ]
  },
  {
   "cell_type": "code",
   "execution_count": 7,
   "id": "d4e809eb-0b57-48cb-84f3-d65a1d3e993d",
   "metadata": {},
   "outputs": [
    {
     "name": "stdout",
     "output_type": "stream",
     "text": [
      "36.8\n"
     ]
    }
   ],
   "source": [
    "python -c \"print(7.1 + 7.7 + 9.0 + 7.2 + 5.8)\""
   ]
  },
  {
   "cell_type": "code",
   "execution_count": 8,
   "id": "b6a5596f-883d-46e5-85e0-b3df979a5f1c",
   "metadata": {},
   "outputs": [
    {
     "name": "stdout",
     "output_type": "stream",
     "text": [
      "160.8\n"
     ]
    }
   ],
   "source": [
    "python -c \"print(36.8 + 58 + 66)\""
   ]
  },
  {
   "cell_type": "code",
   "execution_count": 9,
   "id": "331d6055-e803-468a-afb3-f8790bf1bce1",
   "metadata": {},
   "outputs": [
    {
     "name": "stdout",
     "output_type": "stream",
     "text": [
      "You are on Duke Server: DCC\n",
      "BASE DIRECTORY:     /work/kk319\n",
      "PATH OF SOURCE:     /work/kk319/source\n",
      "PATH OF EXECUTABLE: /work/kk319/exe\n",
      "PATH OF ANNOTATION: /work/kk319/annotation\n",
      "PATH OF PROJECT:    /hpc/home/kk319/GitRepo/Proj_CombEffect_STARRseq/notebooks\n",
      "PATH OF RESULTS:    /work/kk319/out/CombEffect_STARR\n",
      "\n",
      "01_marginal_per1_v1.ipynb\t  12_interactive_per1_multiple.ipynb  config.R\n",
      "01_marginal_per1_v2.ipynb\t  13_interactive_per1_plot.ipynb      mount\n",
      "11_interactive_per1_single.ipynb  14_interactive_chr17.ipynb\n"
     ]
    }
   ],
   "source": [
    "${FD_PRJ}/sing_proj_combeffect.sh ls"
   ]
  },
  {
   "cell_type": "code",
   "execution_count": 10,
   "id": "54d1c1e9-9334-45ff-b604-86be8031b232",
   "metadata": {},
   "outputs": [
    {
     "name": "stdout",
     "output_type": "stream",
     "text": [
      "You are on Duke Server: DCC\n",
      "BASE DIRECTORY:     /work/kk319\n",
      "PATH OF SOURCE:     /work/kk319/source\n",
      "PATH OF EXECUTABLE: /work/kk319/exe\n",
      "PATH OF ANNOTATION: /work/kk319/annotation\n",
      "PATH OF PROJECT:    /hpc/home/kk319/GitRepo/Proj_CombEffect_STARRseq/notebooks\n",
      "PATH OF RESULTS:    /work/kk319/out/CombEffect_STARR\n",
      "\n",
      "project  reddylab  work\n"
     ]
    }
   ],
   "source": [
    "${FD_PRJ}/sing_proj_combeffect.sh ls ./mount"
   ]
  },
  {
   "cell_type": "code",
   "execution_count": 12,
   "id": "66461168-bd7b-4efb-869d-a07e5a152626",
   "metadata": {},
   "outputs": [
    {
     "name": "stdout",
     "output_type": "stream",
     "text": [
      "You are on Duke Server: DCC\n",
      "BASE DIRECTORY:     /work/kk319\n",
      "PATH OF SOURCE:     /work/kk319/source\n",
      "PATH OF EXECUTABLE: /work/kk319/exe\n",
      "PATH OF ANNOTATION: /work/kk319/annotation\n",
      "PATH OF PROJECT:    /hpc/home/kk319/GitRepo/Proj_CombEffect_STARRseq/notebooks\n",
      "PATH OF RESULTS:    /work/kk319/out/CombEffect_STARR\n",
      "\n",
      "You are within a singularity image\n",
      "BASE DIRECTORY:     /home/mount/work\n",
      "PATH OF SOURCE:     /home/mount/work/source\n",
      "PATH OF EXECUTABLE: /home/mount/work/exe\n",
      "PATH OF ANNOTATION: /home/mount/work/annotation\n",
      "PATH OF PROJECT:    /home/mount/project\n",
      "PATH OF RESULTS:    /home/mount/work/out/CombEffect_STARR\n",
      "\n",
      "annotation  exe  out  source\n",
      "++++++++++++++++++++++++++++\n",
      "CRADLE\tKuei  scarlett\n"
     ]
    }
   ],
   "source": [
    "${FD_PRJ}/sing_proj_combeffect.sh bash << 'EOF'\n",
    "#!/bin/bash\n",
    "source ./mount/project/config_sing.sh\n",
    "ls ${FD_WORK}\n",
    "echo ++++++++++++++++++++++++++++\n",
    "ls ${FD_RLAB}\n",
    "EOF"
   ]
  },
  {
   "cell_type": "code",
   "execution_count": 13,
   "id": "2a22004b-9d5d-451a-8593-fc6e35679e9a",
   "metadata": {},
   "outputs": [
    {
     "name": "stdout",
     "output_type": "stream",
     "text": [
      "\u001b[0m\u001b[01;34mannotation_fragment\u001b[0m  \u001b[01;34mbedgraph\u001b[0m   \u001b[01;34mcount_fragment\u001b[0m  \u001b[01;34mcoverage\u001b[0m  \u001b[01;34mkmer\u001b[0m  \u001b[01;34mmodel_linear\u001b[0m\n",
      "\u001b[01;34mannotation_segment\u001b[0m   \u001b[01;34mbootstrap\u001b[0m  \u001b[01;34mcount_segment\u001b[0m   \u001b[01;34mdata\u001b[0m      \u001b[01;34mlog\u001b[0m   \u001b[01;34msource\u001b[0m\n"
     ]
    }
   ],
   "source": [
    "ls ${FD_RES}"
   ]
  },
  {
   "cell_type": "code",
   "execution_count": 16,
   "id": "17fb23e0-af10-4833-b8a5-aa5bf70b13df",
   "metadata": {},
   "outputs": [
    {
     "name": "stdout",
     "output_type": "stream",
     "text": [
      "annotate_fragment_chrom.0.txt\n",
      "annotate_fragment_chrom.10.txt\n",
      "annotate_fragment_chrom.11.txt\n",
      "annotate_fragment_chrom.12.txt\n",
      "annotate_fragment_chrom.13.txt\n",
      "annotate_fragment_chrom.14.txt\n",
      "annotate_fragment_chrom.15.txt\n",
      "annotate_fragment_chrom.16.txt\n",
      "annotate_fragment_chrom.17.txt\n",
      "annotate_fragment_chrom.18.txt\n",
      "ls: write error: Broken pipe\n"
     ]
    }
   ],
   "source": [
    "ls ${FD_LOG} | head"
   ]
  },
  {
   "cell_type": "code",
   "execution_count": 19,
   "id": "42346dfc-bd5c-4ebf-8023-6e6bff0fbf37",
   "metadata": {},
   "outputs": [
    {
     "name": "stdout",
     "output_type": "stream",
     "text": [
      "scavenger\n"
     ]
    }
   ],
   "source": [
    "#NODE_NAME=scavenger\n",
    "echo ${NODE_NAME}"
   ]
  },
  {
   "cell_type": "code",
   "execution_count": 32,
   "id": "f1c618e9-7def-464a-87ae-aa99d698987b",
   "metadata": {},
   "outputs": [
    {
     "name": "stdout",
     "output_type": "stream",
     "text": [
      "chr17\t201123\t201925\t1\tchr17\t201116\t201126\tNFKB/1\t9.0328\t3\n",
      "chr17\t201123\t201925\t1\tchr17\t201136\t201152\tMZF1\t9.0967\t16\n",
      "chr17\t201123\t201925\t1\tchr17\t201138\t201148\tNFKB/1\t8.1413\t10\n"
     ]
    }
   ],
   "source": [
    "head -3 /work/kk319/out/CombEffect_STARR/annotation_fragment/Input1/chr17.bed"
   ]
  },
  {
   "cell_type": "code",
   "execution_count": 33,
   "id": "47933d89-8816-48ac-ba4c-ee9c432fdd4b",
   "metadata": {},
   "outputs": [],
   "source": [
    "cat > motif_interaction.R << 'EOF'\n",
    "### set env\n",
    "source(\"/home/mount/project/config_sing.R\")\n",
    "#print(dir(FD_WORK))\n",
    "#print(dir(FD_RES))\n",
    "\n",
    "### import\n",
    "ctypes = c(col_character(), col_integer(), col_integer(), col_integer(),\n",
    "           col_character(), col_integer(), col_integer(),\n",
    "           col_character(), col_double(),  col_integer())\n",
    "cnames = c(\"Chrom_Frag\", \"Start_Frag\", \"End_Frag\", \"Count_Frag\",\n",
    "           \"Chrom_MTF\",  \"Start_MTF\",  \"End_MTF\",\n",
    "           \"Motif\", \"Score\", \"Overlap\")\n",
    "\n",
    "fdiry = file.path(FD_RES, \"annotation_fragment\", \"Input1\")\n",
    "fname = \"chr17.bed\"\n",
    "fpath = file.path(fdiry, fname)\n",
    "\n",
    "dat = read_tsv(fpath, col_types=ctypes, col_names=cnames)\n",
    "print(head(dat, 3))\n",
    "\n",
    "EOF"
   ]
  },
  {
   "cell_type": "code",
   "execution_count": 34,
   "id": "60b3bcf6-4dca-453e-863b-c672d6064377",
   "metadata": {},
   "outputs": [
    {
     "name": "stdout",
     "output_type": "stream",
     "text": [
      "Submitted batch job 17810368\n"
     ]
    }
   ],
   "source": [
    "### set log file directory\n",
    "sbatch -p ${NODE_NAME} \\\n",
    "    --mem=10G \\\n",
    "    -o ${FD_LOG}/motif_interaction_chr17.txt \\\n",
    "    <<'EOF'\n",
    "#!/bin/bash\n",
    "source ../config_duke.sh\n",
    "${FD_PRJ}/sing_proj_combeffect.sh Rscript motif_interaction.R\n",
    "\n",
    "EOF"
   ]
  },
  {
   "cell_type": "code",
   "execution_count": 23,
   "id": "104dfb93-a5be-4a1e-b1df-ee97dc19660b",
   "metadata": {},
   "outputs": [
    {
     "name": "stdout",
     "output_type": "stream",
     "text": [
      "/work/kk319/out/CombEffect_STARR/log/motif_interaction_chr17.txt\n"
     ]
    }
   ],
   "source": [
    "echo ${FD_LOG}/motif_interaction_chr17.txt"
   ]
  },
  {
   "cell_type": "code",
   "execution_count": 93,
   "id": "cfc6b757-8023-47a8-bada-cac48cb9e218",
   "metadata": {},
   "outputs": [
    {
     "name": "stdout",
     "output_type": "stream",
     "text": [
      "You are on Duke Server: DCC\n",
      "BASE DIRECTORY:     /work/kk319\n",
      "PATH OF SOURCE:     /work/kk319/source\n",
      "PATH OF EXECUTABLE: /work/kk319/exe\n",
      "PATH OF ANNOTATION: /work/kk319/annotation\n",
      "PATH OF PROJ:       /hpc/home/kk319/GitRepo/Proj_CombEffect_STARRseq/notebooks\n",
      "PATH OF OUTPUT:     /work/kk319/out/CombEffect_STARR\n",
      "\n",
      "/hpc/home/kk319/GitRepo/Proj_CombEffect_STARRseq/notebooks/sing_proj_combeffect.sh: line 3: config_duke.sh: No such file or directory\n",
      "Error for command \"exec\": requires at least 2 arg(s), only received 1\n",
      "\n",
      "Usage:\n",
      "  singularity [global options...] exec [exec options...] <container> <command>\n",
      "\n",
      "Run 'singularity --help' for more detailed usage information.\n"
     ]
    }
   ],
   "source": [
    "cat ${FD_LOG}/test.txt"
   ]
  },
  {
   "cell_type": "code",
   "execution_count": 51,
   "id": "2ddc5f8a-5ff7-401f-874e-d87e1c2c52f5",
   "metadata": {},
   "outputs": [
    {
     "name": "stdout",
     "output_type": "stream",
     "text": [
      "-rw-r--r--. 1 kk319 root 4.8G Sep  6 12:43 /work/kk319/out/CombEffect_STARR/annotation_fragment/motif_annotation_chr21_090.bed\n"
     ]
    }
   ],
   "source": [
    "ls -lh ${FD_RES}/annotation_fragment/motif_annotation_chr21_090.bed"
   ]
  },
  {
   "cell_type": "code",
   "execution_count": 50,
   "id": "85766ce8-b6ba-4cfb-96a1-e3db6589bd8a",
   "metadata": {},
   "outputs": [
    {
     "name": "stdout",
     "output_type": "stream",
     "text": [
      "-rw-r--r--. 1 kk319 root 1.9G Sep  6 11:29 /work/kk319/out/CombEffect_STARR/annotation_fragment/motif_annotation_chr21_095.bed\n"
     ]
    }
   ],
   "source": [
    "ls -lh ${FD_RES}/annotation_fragment/motif_annotation_chr21_095.bed"
   ]
  },
  {
   "cell_type": "code",
   "execution_count": null,
   "id": "3f58c96f-2c28-4bcb-a60e-b19eb5f8d436",
   "metadata": {},
   "outputs": [],
   "source": []
  }
 ],
 "metadata": {
  "kernelspec": {
   "display_name": "Bash",
   "language": "bash",
   "name": "bash"
  },
  "language_info": {
   "codemirror_mode": "shell",
   "file_extension": ".sh",
   "mimetype": "text/x-sh",
   "name": "bash"
  }
 },
 "nbformat": 4,
 "nbformat_minor": 5
}
