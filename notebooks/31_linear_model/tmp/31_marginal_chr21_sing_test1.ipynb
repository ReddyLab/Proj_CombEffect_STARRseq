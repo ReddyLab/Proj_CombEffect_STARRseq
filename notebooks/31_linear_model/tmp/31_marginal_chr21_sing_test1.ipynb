{
 "cells": [
  {
   "cell_type": "code",
   "execution_count": 1,
   "metadata": {},
   "outputs": [
    {
     "name": "stderr",
     "output_type": "stream",
     "text": [
      "── \u001b[1mAttaching packages\u001b[22m ──────────────────────────────────────────────────────────────── tidyverse 1.3.1 ──\n",
      "\n",
      "\u001b[32m✔\u001b[39m \u001b[34mggplot2\u001b[39m 3.3.5     \u001b[32m✔\u001b[39m \u001b[34mpurrr  \u001b[39m 0.3.4\n",
      "\u001b[32m✔\u001b[39m \u001b[34mtibble \u001b[39m 3.1.4     \u001b[32m✔\u001b[39m \u001b[34mdplyr  \u001b[39m 1.0.7\n",
      "\u001b[32m✔\u001b[39m \u001b[34mtidyr  \u001b[39m 1.1.3     \u001b[32m✔\u001b[39m \u001b[34mstringr\u001b[39m 1.4.0\n",
      "\u001b[32m✔\u001b[39m \u001b[34mreadr  \u001b[39m 2.0.1     \u001b[32m✔\u001b[39m \u001b[34mforcats\u001b[39m 0.5.1\n",
      "\n",
      "── \u001b[1mConflicts\u001b[22m ─────────────────────────────────────────────────────────────────── tidyverse_conflicts() ──\n",
      "\u001b[31m✖\u001b[39m \u001b[34mdplyr\u001b[39m::\u001b[32mfilter()\u001b[39m masks \u001b[34mstats\u001b[39m::filter()\n",
      "\u001b[31m✖\u001b[39m \u001b[34mdplyr\u001b[39m::\u001b[32mlag()\u001b[39m    masks \u001b[34mstats\u001b[39m::lag()\n",
      "\n",
      "\n",
      "Attaching package: ‘gridExtra’\n",
      "\n",
      "\n",
      "The following object is masked from ‘package:dplyr’:\n",
      "\n",
      "    combine\n",
      "\n",
      "\n"
     ]
    }
   ],
   "source": [
    "source(\"/home/mount/project/config_sing.R\")"
   ]
  },
  {
   "cell_type": "code",
   "execution_count": 70,
   "metadata": {},
   "outputs": [],
   "source": [
    "CHROM = \"chr17\""
   ]
  },
  {
   "cell_type": "code",
   "execution_count": 71,
   "metadata": {},
   "outputs": [
    {
     "data": {
      "text/html": [
       "<table class=\"dataframe\">\n",
       "<caption>A tibble: 6 × 3</caption>\n",
       "<thead>\n",
       "\t<tr><th scope=col>Size</th><th scope=col>Sample</th><th scope=col>Group</th></tr>\n",
       "\t<tr><th scope=col>&lt;dbl&gt;</th><th scope=col>&lt;chr&gt;</th><th scope=col>&lt;chr&gt;</th></tr>\n",
       "</thead>\n",
       "<tbody>\n",
       "\t<tr><td>18666630</td><td>Input1      </td><td>Input      </td></tr>\n",
       "\t<tr><td>20167924</td><td>Input2      </td><td>Input      </td></tr>\n",
       "\t<tr><td>23280988</td><td>Input3      </td><td>Input      </td></tr>\n",
       "\t<tr><td>19003938</td><td>Input4      </td><td>Input      </td></tr>\n",
       "\t<tr><td>15325016</td><td>Input5      </td><td>Input      </td></tr>\n",
       "\t<tr><td>48376253</td><td>TFX2_AZD2906</td><td>TFX_AZD2906</td></tr>\n",
       "</tbody>\n",
       "</table>\n"
      ],
      "text/latex": [
       "A tibble: 6 × 3\n",
       "\\begin{tabular}{lll}\n",
       " Size & Sample & Group\\\\\n",
       " <dbl> & <chr> & <chr>\\\\\n",
       "\\hline\n",
       "\t 18666630 & Input1       & Input      \\\\\n",
       "\t 20167924 & Input2       & Input      \\\\\n",
       "\t 23280988 & Input3       & Input      \\\\\n",
       "\t 19003938 & Input4       & Input      \\\\\n",
       "\t 15325016 & Input5       & Input      \\\\\n",
       "\t 48376253 & TFX2\\_AZD2906 & TFX\\_AZD2906\\\\\n",
       "\\end{tabular}\n"
      ],
      "text/markdown": [
       "\n",
       "A tibble: 6 × 3\n",
       "\n",
       "| Size &lt;dbl&gt; | Sample &lt;chr&gt; | Group &lt;chr&gt; |\n",
       "|---|---|---|\n",
       "| 18666630 | Input1       | Input       |\n",
       "| 20167924 | Input2       | Input       |\n",
       "| 23280988 | Input3       | Input       |\n",
       "| 19003938 | Input4       | Input       |\n",
       "| 15325016 | Input5       | Input       |\n",
       "| 48376253 | TFX2_AZD2906 | TFX_AZD2906 |\n",
       "\n"
      ],
      "text/plain": [
       "  Size     Sample       Group      \n",
       "1 18666630 Input1       Input      \n",
       "2 20167924 Input2       Input      \n",
       "3 23280988 Input3       Input      \n",
       "4 19003938 Input4       Input      \n",
       "5 15325016 Input5       Input      \n",
       "6 48376253 TFX2_AZD2906 TFX_AZD2906"
      ]
     },
     "metadata": {},
     "output_type": "display_data"
    }
   ],
   "source": [
    "###################################################\n",
    "# Import library size\n",
    "###################################################\n",
    "\n",
    "### Helper function to get\n",
    "get_sample = function(idn_sample){\n",
    "    idn = idn_sample\n",
    "    idn = str_replace(\n",
    "        string = idn, \n",
    "        pattern = \"Input[0-9]\", \n",
    "        replacement = \"Input\")\n",
    "    idn = str_replace(\n",
    "        string = idn, \n",
    "        pattern = \"TFX[0-9]_\", \n",
    "        replacement=\"TFX_\")\n",
    "    return(idn)\n",
    "}\n",
    "\n",
    "### set path\n",
    "fdiry = file.path(FD_RES, \"source\")\n",
    "fname = \"library_size.txt\"\n",
    "fpath = file.path(fdiry, fname)\n",
    "\n",
    "### import library size\n",
    "ctypes = c(col_integer(), col_character())\n",
    "cnames = c(\"Size\", \"Fpath\")\n",
    "dat_lib = read_tsv(fpath, col_types=ctypes, col_names = cnames)\n",
    "dat_lib = dat_lib %>% \n",
    "    mutate(Sample = tools::file_path_sans_ext(basename(Fpath))) %>%\n",
    "    mutate(Group = get_sample(Sample))\n",
    "dat_lib = dat_lib %>% dplyr::select(Size, Sample, Group)\n",
    "head(dat_lib)"
   ]
  },
  {
   "cell_type": "code",
   "execution_count": 72,
   "metadata": {},
   "outputs": [
    {
     "name": "stdout",
     "output_type": "stream",
     "text": [
      "[1] \"/home/mount/work/out/proj_combeffect/annotation_fragment/filter_motif_score095/Input1/chr17.bed.gz\"\n",
      "[1] \"/home/mount/work/out/proj_combeffect/annotation_fragment/filter_motif_score095/Input2/chr17.bed.gz\"\n",
      "[1] \"/home/mount/work/out/proj_combeffect/annotation_fragment/filter_motif_score095/Input3/chr17.bed.gz\"\n",
      "[1] \"/home/mount/work/out/proj_combeffect/annotation_fragment/filter_motif_score095/Input4/chr17.bed.gz\"\n",
      "[1] \"/home/mount/work/out/proj_combeffect/annotation_fragment/filter_motif_score095/Input5/chr17.bed.gz\"\n",
      "[1] \"/home/mount/work/out/proj_combeffect/annotation_fragment/filter_motif_score095/TFX2_DMSO/chr17.bed.gz\"\n",
      "[1] \"/home/mount/work/out/proj_combeffect/annotation_fragment/filter_motif_score095/TFX3_DMSO/chr17.bed.gz\"\n",
      "[1] \"/home/mount/work/out/proj_combeffect/annotation_fragment/filter_motif_score095/TFX4_DMSO/chr17.bed.gz\"\n",
      "[1] \"/home/mount/work/out/proj_combeffect/annotation_fragment/filter_motif_score095/TFX5_DMSO/chr17.bed.gz\"\n",
      "[1] \"/home/mount/work/out/proj_combeffect/annotation_fragment/filter_motif_score095/TFX2_Dex/chr17.bed.gz\"\n",
      "[1] \"/home/mount/work/out/proj_combeffect/annotation_fragment/filter_motif_score095/TFX3_Dex/chr17.bed.gz\"\n",
      "[1] \"/home/mount/work/out/proj_combeffect/annotation_fragment/filter_motif_score095/TFX4_Dex/chr17.bed.gz\"\n",
      "[1] \"/home/mount/work/out/proj_combeffect/annotation_fragment/filter_motif_score095/TFX5_Dex/chr17.bed.gz\"\n"
     ]
    },
    {
     "data": {
      "text/html": [
       "<table class=\"dataframe\">\n",
       "<caption>A tibble: 3 × 11</caption>\n",
       "<thead>\n",
       "\t<tr><th scope=col>Chrom_Frag</th><th scope=col>Start_Frag</th><th scope=col>End_Frag</th><th scope=col>Count_Frag</th><th scope=col>Chrom_MTF</th><th scope=col>Start_MTF</th><th scope=col>End_MTF</th><th scope=col>Motif</th><th scope=col>Score</th><th scope=col>Overlap</th><th scope=col>Sample</th></tr>\n",
       "\t<tr><th scope=col>&lt;chr&gt;</th><th scope=col>&lt;dbl&gt;</th><th scope=col>&lt;dbl&gt;</th><th scope=col>&lt;dbl&gt;</th><th scope=col>&lt;chr&gt;</th><th scope=col>&lt;dbl&gt;</th><th scope=col>&lt;dbl&gt;</th><th scope=col>&lt;chr&gt;</th><th scope=col>&lt;dbl&gt;</th><th scope=col>&lt;dbl&gt;</th><th scope=col>&lt;chr&gt;</th></tr>\n",
       "</thead>\n",
       "<tbody>\n",
       "\t<tr><td>chr17</td><td>201123</td><td>201925</td><td>1</td><td>chr17</td><td>201304</td><td>201315</td><td>ZFX  </td><td>10.9102</td><td>11</td><td>Input1</td></tr>\n",
       "\t<tr><td>chr17</td><td>201123</td><td>201925</td><td>1</td><td>chr17</td><td>201497</td><td>201505</td><td>FOX/1</td><td>11.1330</td><td> 8</td><td>Input1</td></tr>\n",
       "\t<tr><td>chr17</td><td>201123</td><td>201925</td><td>1</td><td>chr17</td><td>201580</td><td>201588</td><td>FOX/1</td><td>11.1330</td><td> 8</td><td>Input1</td></tr>\n",
       "</tbody>\n",
       "</table>\n"
      ],
      "text/latex": [
       "A tibble: 3 × 11\n",
       "\\begin{tabular}{lllllllllll}\n",
       " Chrom\\_Frag & Start\\_Frag & End\\_Frag & Count\\_Frag & Chrom\\_MTF & Start\\_MTF & End\\_MTF & Motif & Score & Overlap & Sample\\\\\n",
       " <chr> & <dbl> & <dbl> & <dbl> & <chr> & <dbl> & <dbl> & <chr> & <dbl> & <dbl> & <chr>\\\\\n",
       "\\hline\n",
       "\t chr17 & 201123 & 201925 & 1 & chr17 & 201304 & 201315 & ZFX   & 10.9102 & 11 & Input1\\\\\n",
       "\t chr17 & 201123 & 201925 & 1 & chr17 & 201497 & 201505 & FOX/1 & 11.1330 &  8 & Input1\\\\\n",
       "\t chr17 & 201123 & 201925 & 1 & chr17 & 201580 & 201588 & FOX/1 & 11.1330 &  8 & Input1\\\\\n",
       "\\end{tabular}\n"
      ],
      "text/markdown": [
       "\n",
       "A tibble: 3 × 11\n",
       "\n",
       "| Chrom_Frag &lt;chr&gt; | Start_Frag &lt;dbl&gt; | End_Frag &lt;dbl&gt; | Count_Frag &lt;dbl&gt; | Chrom_MTF &lt;chr&gt; | Start_MTF &lt;dbl&gt; | End_MTF &lt;dbl&gt; | Motif &lt;chr&gt; | Score &lt;dbl&gt; | Overlap &lt;dbl&gt; | Sample &lt;chr&gt; |\n",
       "|---|---|---|---|---|---|---|---|---|---|---|\n",
       "| chr17 | 201123 | 201925 | 1 | chr17 | 201304 | 201315 | ZFX   | 10.9102 | 11 | Input1 |\n",
       "| chr17 | 201123 | 201925 | 1 | chr17 | 201497 | 201505 | FOX/1 | 11.1330 |  8 | Input1 |\n",
       "| chr17 | 201123 | 201925 | 1 | chr17 | 201580 | 201588 | FOX/1 | 11.1330 |  8 | Input1 |\n",
       "\n"
      ],
      "text/plain": [
       "  Chrom_Frag Start_Frag End_Frag Count_Frag Chrom_MTF Start_MTF End_MTF Motif\n",
       "1 chr17      201123     201925   1          chr17     201304    201315  ZFX  \n",
       "2 chr17      201123     201925   1          chr17     201497    201505  FOX/1\n",
       "3 chr17      201123     201925   1          chr17     201580    201588  FOX/1\n",
       "  Score   Overlap Sample\n",
       "1 10.9102 11      Input1\n",
       "2 11.1330  8      Input1\n",
       "3 11.1330  8      Input1"
      ]
     },
     "metadata": {},
     "output_type": "display_data"
    },
    {
     "name": "stdout",
     "output_type": "stream",
     "text": [
      " [1] \"Chrom_Frag\" \"Start_Frag\" \"End_Frag\"   \"Count_Frag\" \"Chrom_MTF\" \n",
      " [6] \"Start_MTF\"  \"End_MTF\"    \"Motif\"      \"Score\"      \"Overlap\"   \n",
      "[11] \"Sample\"    \n",
      "[1] \"Dimension\"\n",
      "[1] 113443263        11\n",
      "[1] \"Size\"\n",
      "9520.6 Mb\n"
     ]
    }
   ],
   "source": [
    "###################################################\n",
    "# Import annotated fragments\n",
    "###################################################\n",
    "\n",
    "### set column names and types\n",
    "ctypes = c(col_character(), col_integer(), col_integer(), col_integer(),\n",
    "           col_character(), col_integer(), col_integer(),\n",
    "           col_character(), col_double(),  col_integer())\n",
    "cnames = c(\"Chrom_Frag\", \"Start_Frag\", \"End_Frag\", \"Count_Frag\",\n",
    "           \"Chrom_MTF\",  \"Start_MTF\",  \"End_MTF\",\n",
    "           \"Motif\", \"Score\", \"Overlap\")\n",
    "\n",
    "### set samples\n",
    "SAMPLES = c(\n",
    "    paste0(\"Input\", 1:5),\n",
    "    paste0(\"TFX\",   2:5, \"_DMSO\"),\n",
    "    paste0(\"TFX\",   2:5, \"_Dex\"))\n",
    "\n",
    "### import bed files for each sample \n",
    "fdiry = file.path(FD_RES, \"annotation_fragment\", \"filter_motif_score095\")\n",
    "fname = paste0(CHROM, \".bed\", \".gz\") \n",
    "\n",
    "lst_dat = lapply(SAMPLES, function(sam){\n",
    "    ### set path\n",
    "    fpath = file.path(fdiry, sam, fname)\n",
    "    print(fpath)\n",
    "    \n",
    "    ### import data\n",
    "    dat = read_tsv(fpath, col_types=ctypes, col_names=cnames) %>% mutate(Sample = sam)\n",
    "    return(dat)\n",
    "})\n",
    "\n",
    "### arrange data\n",
    "dat_ann_frag = bind_rows(lst_dat)\n",
    "lst_dat = NULL\n",
    "\n",
    "### check point: print message\n",
    "head(dat_ann_frag, 3)\n",
    "print(colnames(dat_ann_frag))\n",
    "\n",
    "print(\"Dimension\")\n",
    "print(dim(dat_ann_frag))\n",
    "\n",
    "print(\"Size\")\n",
    "print(object.size(dat_ann_frag), units=\"Mb\")"
   ]
  },
  {
   "cell_type": "code",
   "execution_count": 73,
   "metadata": {},
   "outputs": [],
   "source": [
    "###################################################\n",
    "# Preprocess\n",
    "###################################################\n",
    "\n",
    "### grouped by motif cluster and \n",
    "### split the annotated fragments into list\n",
    "dat    = dat_ann_frag\n",
    "lst    = dat %>% group_by(Motif) %>% group_split\n",
    "motifs = lapply(lst, function(dat){unique(dat$Motif)}) %>% unlist\n",
    "names(lst) = motifs\n",
    "\n",
    "### get the list\n",
    "lst_frag = lapply(lst, function(dat){\n",
    "    tmp = dat %>% \n",
    "        dplyr::select(Chrom_Frag, Start_Frag, End_Frag, Count_Frag, Motif, Sample) %>%\n",
    "        distinct()\n",
    "    return(tmp)\n",
    "})"
   ]
  },
  {
   "cell_type": "code",
   "execution_count": 66,
   "metadata": {},
   "outputs": [
    {
     "data": {
      "text/html": [
       "<table class=\"dataframe\">\n",
       "<caption>A tibble: 6 × 6</caption>\n",
       "<thead>\n",
       "\t<tr><th scope=col>Chrom_Frag</th><th scope=col>Start_Frag</th><th scope=col>End_Frag</th><th scope=col>Count_Frag</th><th scope=col>Motif</th><th scope=col>Sample</th></tr>\n",
       "\t<tr><th scope=col>&lt;chr&gt;</th><th scope=col>&lt;dbl&gt;</th><th scope=col>&lt;dbl&gt;</th><th scope=col>&lt;dbl&gt;</th><th scope=col>&lt;chr&gt;</th><th scope=col>&lt;chr&gt;</th></tr>\n",
       "</thead>\n",
       "<tbody>\n",
       "\t<tr><td>chrY</td><td>11096035</td><td>11097300</td><td>1</td><td>AP1/1</td><td>Input1</td></tr>\n",
       "\t<tr><td>chrY</td><td>11096699</td><td>11097734</td><td>1</td><td>AP1/1</td><td>Input1</td></tr>\n",
       "\t<tr><td>chrY</td><td>11096727</td><td>11097722</td><td>1</td><td>AP1/1</td><td>Input1</td></tr>\n",
       "\t<tr><td>chrY</td><td>11102283</td><td>11103258</td><td>1</td><td>AP1/1</td><td>Input1</td></tr>\n",
       "\t<tr><td>chrY</td><td>56859582</td><td>56860521</td><td>1</td><td>AP1/1</td><td>Input1</td></tr>\n",
       "\t<tr><td>chrY</td><td>56883167</td><td>56884086</td><td>1</td><td>AP1/1</td><td>Input1</td></tr>\n",
       "</tbody>\n",
       "</table>\n"
      ],
      "text/latex": [
       "A tibble: 6 × 6\n",
       "\\begin{tabular}{llllll}\n",
       " Chrom\\_Frag & Start\\_Frag & End\\_Frag & Count\\_Frag & Motif & Sample\\\\\n",
       " <chr> & <dbl> & <dbl> & <dbl> & <chr> & <chr>\\\\\n",
       "\\hline\n",
       "\t chrY & 11096035 & 11097300 & 1 & AP1/1 & Input1\\\\\n",
       "\t chrY & 11096699 & 11097734 & 1 & AP1/1 & Input1\\\\\n",
       "\t chrY & 11096727 & 11097722 & 1 & AP1/1 & Input1\\\\\n",
       "\t chrY & 11102283 & 11103258 & 1 & AP1/1 & Input1\\\\\n",
       "\t chrY & 56859582 & 56860521 & 1 & AP1/1 & Input1\\\\\n",
       "\t chrY & 56883167 & 56884086 & 1 & AP1/1 & Input1\\\\\n",
       "\\end{tabular}\n"
      ],
      "text/markdown": [
       "\n",
       "A tibble: 6 × 6\n",
       "\n",
       "| Chrom_Frag &lt;chr&gt; | Start_Frag &lt;dbl&gt; | End_Frag &lt;dbl&gt; | Count_Frag &lt;dbl&gt; | Motif &lt;chr&gt; | Sample &lt;chr&gt; |\n",
       "|---|---|---|---|---|---|\n",
       "| chrY | 11096035 | 11097300 | 1 | AP1/1 | Input1 |\n",
       "| chrY | 11096699 | 11097734 | 1 | AP1/1 | Input1 |\n",
       "| chrY | 11096727 | 11097722 | 1 | AP1/1 | Input1 |\n",
       "| chrY | 11102283 | 11103258 | 1 | AP1/1 | Input1 |\n",
       "| chrY | 56859582 | 56860521 | 1 | AP1/1 | Input1 |\n",
       "| chrY | 56883167 | 56884086 | 1 | AP1/1 | Input1 |\n",
       "\n"
      ],
      "text/plain": [
       "  Chrom_Frag Start_Frag End_Frag Count_Frag Motif Sample\n",
       "1 chrY       11096035   11097300 1          AP1/1 Input1\n",
       "2 chrY       11096699   11097734 1          AP1/1 Input1\n",
       "3 chrY       11096727   11097722 1          AP1/1 Input1\n",
       "4 chrY       11102283   11103258 1          AP1/1 Input1\n",
       "5 chrY       56859582   56860521 1          AP1/1 Input1\n",
       "6 chrY       56883167   56884086 1          AP1/1 Input1"
      ]
     },
     "metadata": {},
     "output_type": "display_data"
    }
   ],
   "source": [
    "head(lst_frag[[2]])"
   ]
  },
  {
   "cell_type": "code",
   "execution_count": 67,
   "metadata": {},
   "outputs": [
    {
     "data": {
      "text/html": [
       "217"
      ],
      "text/latex": [
       "217"
      ],
      "text/markdown": [
       "217"
      ],
      "text/plain": [
       "[1] 217"
      ]
     },
     "metadata": {},
     "output_type": "display_data"
    }
   ],
   "source": [
    "length(lst_frag)"
   ]
  },
  {
   "cell_type": "code",
   "execution_count": 74,
   "metadata": {},
   "outputs": [
    {
     "name": "stdout",
     "output_type": "stream",
     "text": [
      "+++++ Preprocess: filter motifs +++++\n",
      "Before filteration: #Motifs = 242 \n",
      "Threshold = 10 \n",
      "After filteration: #Motifs = 242 \n"
     ]
    }
   ],
   "source": [
    "### filter out motifs that have almost no fragment in total\n",
    "cat(\"+++++ Preprocess: filter motifs +++++\\n\")\n",
    "cat(\"Before filteration: #Motifs =\", length(lst_frag), \"\\n\")\n",
    "\n",
    "THRESHOLD = 10\n",
    "lst = lst_frag\n",
    "cnt = lapply(lst, function(dat){sum(dat$Count_Frag)})\n",
    "lst = lst[cnt > 10]\n",
    "lst_frag = lst\n",
    "\n",
    "cat(\"Threshold =\", THRESHOLD, \"\\n\")\n",
    "cat(\"After filteration: #Motifs =\", length(lst_frag), \"\\n\")"
   ]
  },
  {
   "cell_type": "code",
   "execution_count": 78,
   "metadata": {},
   "outputs": [
    {
     "data": {
      "text/plain": [
       "   Min. 1st Qu.  Median    Mean 3rd Qu.    Max. \n",
       "     93   41060  157206  482728  571668 7243033 "
      ]
     },
     "metadata": {},
     "output_type": "display_data"
    }
   ],
   "source": [
    "tmp = unlist(cnt)\n",
    "summary(tmp)"
   ]
  },
  {
   "cell_type": "code",
   "execution_count": 80,
   "metadata": {},
   "outputs": [
    {
     "data": {
      "text/html": [
       "1"
      ],
      "text/latex": [
       "1"
      ],
      "text/markdown": [
       "1"
      ],
      "text/plain": [
       "[1] 1"
      ]
     },
     "metadata": {},
     "output_type": "display_data"
    }
   ],
   "source": [
    "sum(cnt < 100)"
   ]
  },
  {
   "cell_type": "code",
   "execution_count": 68,
   "metadata": {},
   "outputs": [
    {
     "data": {
      "text/html": [
       "<dl>\n",
       "\t<dt>$AIRE</dt>\n",
       "\t\t<dd>1</dd>\n",
       "\t<dt>$`AP1/1`</dt>\n",
       "\t\t<dd>228</dd>\n",
       "\t<dt>$`AP1/2`</dt>\n",
       "\t\t<dd>477</dd>\n",
       "\t<dt>$BATF</dt>\n",
       "\t\t<dd>10</dd>\n",
       "\t<dt>$`BCL6/1`</dt>\n",
       "\t\t<dd>1</dd>\n",
       "\t<dt>$`BCL6/2`</dt>\n",
       "\t\t<dd>17</dd>\n",
       "</dl>\n"
      ],
      "text/latex": [
       "\\begin{description}\n",
       "\\item[\\$AIRE] 1\n",
       "\\item[\\$`AP1/1`] 228\n",
       "\\item[\\$`AP1/2`] 477\n",
       "\\item[\\$BATF] 10\n",
       "\\item[\\$`BCL6/1`] 1\n",
       "\\item[\\$`BCL6/2`] 17\n",
       "\\end{description}\n"
      ],
      "text/markdown": [
       "$AIRE\n",
       ":   1\n",
       "$`AP1/1`\n",
       ":   228\n",
       "$`AP1/2`\n",
       ":   477\n",
       "$BATF\n",
       ":   10\n",
       "$`BCL6/1`\n",
       ":   1\n",
       "$`BCL6/2`\n",
       ":   17\n",
       "\n",
       "\n"
      ],
      "text/plain": [
       "$AIRE\n",
       "[1] 1\n",
       "\n",
       "$`AP1/1`\n",
       "[1] 228\n",
       "\n",
       "$`AP1/2`\n",
       "[1] 477\n",
       "\n",
       "$BATF\n",
       "[1] 10\n",
       "\n",
       "$`BCL6/1`\n",
       "[1] 1\n",
       "\n",
       "$`BCL6/2`\n",
       "[1] 17\n"
      ]
     },
     "metadata": {},
     "output_type": "display_data"
    }
   ],
   "source": [
    "tmp = head(lst_frag)\n",
    "lapply(tmp, function(dat){sum(dat$Count_Frag)})"
   ]
  },
  {
   "cell_type": "code",
   "execution_count": 60,
   "metadata": {},
   "outputs": [
    {
     "data": {
      "text/html": [
       "<dl>\n",
       "\t<dt>$`AP1/1`</dt>\n",
       "\t\t<dd>216</dd>\n",
       "\t<dt>$`AP1/2`</dt>\n",
       "\t\t<dd>422</dd>\n",
       "\t<dt>$`BCL6/2`</dt>\n",
       "\t\t<dd>17</dd>\n",
       "</dl>\n"
      ],
      "text/latex": [
       "\\begin{description}\n",
       "\\item[\\$`AP1/1`] 216\n",
       "\\item[\\$`AP1/2`] 422\n",
       "\\item[\\$`BCL6/2`] 17\n",
       "\\end{description}\n"
      ],
      "text/markdown": [
       "$`AP1/1`\n",
       ":   216\n",
       "$`AP1/2`\n",
       ":   422\n",
       "$`BCL6/2`\n",
       ":   17\n",
       "\n",
       "\n"
      ],
      "text/plain": [
       "$`AP1/1`\n",
       "[1] 216\n",
       "\n",
       "$`AP1/2`\n",
       "[1] 422\n",
       "\n",
       "$`BCL6/2`\n",
       "[1] 17\n"
      ]
     },
     "metadata": {},
     "output_type": "display_data"
    }
   ],
   "source": [
    "lapply(tmp, nrow)"
   ]
  },
  {
   "cell_type": "code",
   "execution_count": 64,
   "metadata": {},
   "outputs": [
    {
     "data": {
      "text/html": [
       "173"
      ],
      "text/latex": [
       "173"
      ],
      "text/markdown": [
       "173"
      ],
      "text/plain": [
       "[1] 173"
      ]
     },
     "metadata": {},
     "output_type": "display_data"
    }
   ],
   "source": [
    "length(tmp)"
   ]
  },
  {
   "cell_type": "code",
   "execution_count": 9,
   "metadata": {
    "collapsed": true,
    "jupyter": {
     "outputs_hidden": true
    }
   },
   "outputs": [
    {
     "data": {
      "text/html": [
       "<dl>\n",
       "\t<dt>$AIRE</dt>\n",
       "\t\t<dd><table class=\"dataframe\">\n",
       "<caption>A tibble: 1 × 6</caption>\n",
       "<thead>\n",
       "\t<tr><th scope=col>Chrom_Frag</th><th scope=col>Start_Frag</th><th scope=col>End_Frag</th><th scope=col>Count_Frag</th><th scope=col>Motif</th><th scope=col>Sample</th></tr>\n",
       "\t<tr><th scope=col>&lt;chr&gt;</th><th scope=col>&lt;dbl&gt;</th><th scope=col>&lt;dbl&gt;</th><th scope=col>&lt;dbl&gt;</th><th scope=col>&lt;chr&gt;</th><th scope=col>&lt;chr&gt;</th></tr>\n",
       "</thead>\n",
       "<tbody>\n",
       "\t<tr><td>chrY</td><td>11428494</td><td>11429537</td><td>1</td><td>AIRE</td><td>TFX2_DMSO</td></tr>\n",
       "</tbody>\n",
       "</table>\n",
       "</dd>\n",
       "\t<dt>$`AP1/1`</dt>\n",
       "\t\t<dd><table class=\"dataframe\">\n",
       "<caption>A tibble: 6 × 6</caption>\n",
       "<thead>\n",
       "\t<tr><th scope=col>Chrom_Frag</th><th scope=col>Start_Frag</th><th scope=col>End_Frag</th><th scope=col>Count_Frag</th><th scope=col>Motif</th><th scope=col>Sample</th></tr>\n",
       "\t<tr><th scope=col>&lt;chr&gt;</th><th scope=col>&lt;dbl&gt;</th><th scope=col>&lt;dbl&gt;</th><th scope=col>&lt;dbl&gt;</th><th scope=col>&lt;chr&gt;</th><th scope=col>&lt;chr&gt;</th></tr>\n",
       "</thead>\n",
       "<tbody>\n",
       "\t<tr><td>chrY</td><td>11096035</td><td>11097300</td><td>1</td><td>AP1/1</td><td>Input1</td></tr>\n",
       "\t<tr><td>chrY</td><td>11096699</td><td>11097734</td><td>1</td><td>AP1/1</td><td>Input1</td></tr>\n",
       "\t<tr><td>chrY</td><td>11096727</td><td>11097722</td><td>1</td><td>AP1/1</td><td>Input1</td></tr>\n",
       "\t<tr><td>chrY</td><td>11102283</td><td>11103258</td><td>1</td><td>AP1/1</td><td>Input1</td></tr>\n",
       "\t<tr><td>chrY</td><td>56859582</td><td>56860521</td><td>1</td><td>AP1/1</td><td>Input1</td></tr>\n",
       "\t<tr><td>chrY</td><td>56883167</td><td>56884086</td><td>1</td><td>AP1/1</td><td>Input1</td></tr>\n",
       "</tbody>\n",
       "</table>\n",
       "</dd>\n",
       "\t<dt>$`AP1/2`</dt>\n",
       "\t\t<dd><table class=\"dataframe\">\n",
       "<caption>A tibble: 6 × 6</caption>\n",
       "<thead>\n",
       "\t<tr><th scope=col>Chrom_Frag</th><th scope=col>Start_Frag</th><th scope=col>End_Frag</th><th scope=col>Count_Frag</th><th scope=col>Motif</th><th scope=col>Sample</th></tr>\n",
       "\t<tr><th scope=col>&lt;chr&gt;</th><th scope=col>&lt;dbl&gt;</th><th scope=col>&lt;dbl&gt;</th><th scope=col>&lt;dbl&gt;</th><th scope=col>&lt;chr&gt;</th><th scope=col>&lt;chr&gt;</th></tr>\n",
       "</thead>\n",
       "<tbody>\n",
       "\t<tr><td>chrY</td><td>56863585</td><td>56864555</td><td>1</td><td>AP1/2</td><td>Input1</td></tr>\n",
       "\t<tr><td>chrY</td><td>56863669</td><td>56864589</td><td>1</td><td>AP1/2</td><td>Input1</td></tr>\n",
       "\t<tr><td>chrY</td><td>56863790</td><td>56864847</td><td>1</td><td>AP1/2</td><td>Input1</td></tr>\n",
       "\t<tr><td>chrY</td><td>56863802</td><td>56864909</td><td>1</td><td>AP1/2</td><td>Input1</td></tr>\n",
       "\t<tr><td>chrY</td><td>56863825</td><td>56864807</td><td>1</td><td>AP1/2</td><td>Input1</td></tr>\n",
       "\t<tr><td>chrY</td><td>56863855</td><td>56864865</td><td>1</td><td>AP1/2</td><td>Input1</td></tr>\n",
       "</tbody>\n",
       "</table>\n",
       "</dd>\n",
       "\t<dt>$BATF</dt>\n",
       "\t\t<dd><table class=\"dataframe\">\n",
       "<caption>A tibble: 6 × 6</caption>\n",
       "<thead>\n",
       "\t<tr><th scope=col>Chrom_Frag</th><th scope=col>Start_Frag</th><th scope=col>End_Frag</th><th scope=col>Count_Frag</th><th scope=col>Motif</th><th scope=col>Sample</th></tr>\n",
       "\t<tr><th scope=col>&lt;chr&gt;</th><th scope=col>&lt;dbl&gt;</th><th scope=col>&lt;dbl&gt;</th><th scope=col>&lt;dbl&gt;</th><th scope=col>&lt;chr&gt;</th><th scope=col>&lt;chr&gt;</th></tr>\n",
       "</thead>\n",
       "<tbody>\n",
       "\t<tr><td>chrY</td><td>23144677</td><td>23145741</td><td>1</td><td>BATF</td><td>TFX2_DMSO</td></tr>\n",
       "\t<tr><td>chrY</td><td>23263018</td><td>23264069</td><td>1</td><td>BATF</td><td>TFX2_DMSO</td></tr>\n",
       "\t<tr><td>chrY</td><td>25243561</td><td>25244969</td><td>1</td><td>BATF</td><td>TFX2_DMSO</td></tr>\n",
       "\t<tr><td>chrY</td><td>23144675</td><td>23145739</td><td>1</td><td>BATF</td><td>TFX5_DMSO</td></tr>\n",
       "\t<tr><td>chrY</td><td> 3280361</td><td> 3281285</td><td>1</td><td>BATF</td><td>TFX2_Dex </td></tr>\n",
       "\t<tr><td>chrY</td><td> 3280362</td><td> 3281285</td><td>2</td><td>BATF</td><td>TFX2_Dex </td></tr>\n",
       "</tbody>\n",
       "</table>\n",
       "</dd>\n",
       "\t<dt>$`BCL6/1`</dt>\n",
       "\t\t<dd><table class=\"dataframe\">\n",
       "<caption>A tibble: 1 × 6</caption>\n",
       "<thead>\n",
       "\t<tr><th scope=col>Chrom_Frag</th><th scope=col>Start_Frag</th><th scope=col>End_Frag</th><th scope=col>Count_Frag</th><th scope=col>Motif</th><th scope=col>Sample</th></tr>\n",
       "\t<tr><th scope=col>&lt;chr&gt;</th><th scope=col>&lt;dbl&gt;</th><th scope=col>&lt;dbl&gt;</th><th scope=col>&lt;dbl&gt;</th><th scope=col>&lt;chr&gt;</th><th scope=col>&lt;chr&gt;</th></tr>\n",
       "</thead>\n",
       "<tbody>\n",
       "\t<tr><td>chrY</td><td>26433290</td><td>26434296</td><td>1</td><td>BCL6/1</td><td>TFX4_Dex</td></tr>\n",
       "</tbody>\n",
       "</table>\n",
       "</dd>\n",
       "\t<dt>$`BCL6/2`</dt>\n",
       "\t\t<dd><table class=\"dataframe\">\n",
       "<caption>A tibble: 6 × 6</caption>\n",
       "<thead>\n",
       "\t<tr><th scope=col>Chrom_Frag</th><th scope=col>Start_Frag</th><th scope=col>End_Frag</th><th scope=col>Count_Frag</th><th scope=col>Motif</th><th scope=col>Sample</th></tr>\n",
       "\t<tr><th scope=col>&lt;chr&gt;</th><th scope=col>&lt;dbl&gt;</th><th scope=col>&lt;dbl&gt;</th><th scope=col>&lt;dbl&gt;</th><th scope=col>&lt;chr&gt;</th><th scope=col>&lt;chr&gt;</th></tr>\n",
       "</thead>\n",
       "<tbody>\n",
       "\t<tr><td>chrY</td><td>11219924</td><td>11220841</td><td>1</td><td>BCL6/2</td><td>Input1   </td></tr>\n",
       "\t<tr><td>chrY</td><td>11219754</td><td>11220799</td><td>1</td><td>BCL6/2</td><td>Input4   </td></tr>\n",
       "\t<tr><td>chrY</td><td>11220101</td><td>11221090</td><td>1</td><td>BCL6/2</td><td>TFX2_DMSO</td></tr>\n",
       "\t<tr><td>chrY</td><td>11220101</td><td>11221091</td><td>1</td><td>BCL6/2</td><td>TFX2_DMSO</td></tr>\n",
       "\t<tr><td>chrY</td><td>11236514</td><td>11237520</td><td>1</td><td>BCL6/2</td><td>TFX2_DMSO</td></tr>\n",
       "\t<tr><td>chrY</td><td>11236514</td><td>11237521</td><td>1</td><td>BCL6/2</td><td>TFX2_DMSO</td></tr>\n",
       "</tbody>\n",
       "</table>\n",
       "</dd>\n",
       "</dl>\n"
      ],
      "text/latex": [
       "\\begin{description}\n",
       "\\item[\\$AIRE] A tibble: 1 × 6\n",
       "\\begin{tabular}{llllll}\n",
       " Chrom\\_Frag & Start\\_Frag & End\\_Frag & Count\\_Frag & Motif & Sample\\\\\n",
       " <chr> & <dbl> & <dbl> & <dbl> & <chr> & <chr>\\\\\n",
       "\\hline\n",
       "\t chrY & 11428494 & 11429537 & 1 & AIRE & TFX2\\_DMSO\\\\\n",
       "\\end{tabular}\n",
       "\n",
       "\\item[\\$`AP1/1`] A tibble: 6 × 6\n",
       "\\begin{tabular}{llllll}\n",
       " Chrom\\_Frag & Start\\_Frag & End\\_Frag & Count\\_Frag & Motif & Sample\\\\\n",
       " <chr> & <dbl> & <dbl> & <dbl> & <chr> & <chr>\\\\\n",
       "\\hline\n",
       "\t chrY & 11096035 & 11097300 & 1 & AP1/1 & Input1\\\\\n",
       "\t chrY & 11096699 & 11097734 & 1 & AP1/1 & Input1\\\\\n",
       "\t chrY & 11096727 & 11097722 & 1 & AP1/1 & Input1\\\\\n",
       "\t chrY & 11102283 & 11103258 & 1 & AP1/1 & Input1\\\\\n",
       "\t chrY & 56859582 & 56860521 & 1 & AP1/1 & Input1\\\\\n",
       "\t chrY & 56883167 & 56884086 & 1 & AP1/1 & Input1\\\\\n",
       "\\end{tabular}\n",
       "\n",
       "\\item[\\$`AP1/2`] A tibble: 6 × 6\n",
       "\\begin{tabular}{llllll}\n",
       " Chrom\\_Frag & Start\\_Frag & End\\_Frag & Count\\_Frag & Motif & Sample\\\\\n",
       " <chr> & <dbl> & <dbl> & <dbl> & <chr> & <chr>\\\\\n",
       "\\hline\n",
       "\t chrY & 56863585 & 56864555 & 1 & AP1/2 & Input1\\\\\n",
       "\t chrY & 56863669 & 56864589 & 1 & AP1/2 & Input1\\\\\n",
       "\t chrY & 56863790 & 56864847 & 1 & AP1/2 & Input1\\\\\n",
       "\t chrY & 56863802 & 56864909 & 1 & AP1/2 & Input1\\\\\n",
       "\t chrY & 56863825 & 56864807 & 1 & AP1/2 & Input1\\\\\n",
       "\t chrY & 56863855 & 56864865 & 1 & AP1/2 & Input1\\\\\n",
       "\\end{tabular}\n",
       "\n",
       "\\item[\\$BATF] A tibble: 6 × 6\n",
       "\\begin{tabular}{llllll}\n",
       " Chrom\\_Frag & Start\\_Frag & End\\_Frag & Count\\_Frag & Motif & Sample\\\\\n",
       " <chr> & <dbl> & <dbl> & <dbl> & <chr> & <chr>\\\\\n",
       "\\hline\n",
       "\t chrY & 23144677 & 23145741 & 1 & BATF & TFX2\\_DMSO\\\\\n",
       "\t chrY & 23263018 & 23264069 & 1 & BATF & TFX2\\_DMSO\\\\\n",
       "\t chrY & 25243561 & 25244969 & 1 & BATF & TFX2\\_DMSO\\\\\n",
       "\t chrY & 23144675 & 23145739 & 1 & BATF & TFX5\\_DMSO\\\\\n",
       "\t chrY &  3280361 &  3281285 & 1 & BATF & TFX2\\_Dex \\\\\n",
       "\t chrY &  3280362 &  3281285 & 2 & BATF & TFX2\\_Dex \\\\\n",
       "\\end{tabular}\n",
       "\n",
       "\\item[\\$`BCL6/1`] A tibble: 1 × 6\n",
       "\\begin{tabular}{llllll}\n",
       " Chrom\\_Frag & Start\\_Frag & End\\_Frag & Count\\_Frag & Motif & Sample\\\\\n",
       " <chr> & <dbl> & <dbl> & <dbl> & <chr> & <chr>\\\\\n",
       "\\hline\n",
       "\t chrY & 26433290 & 26434296 & 1 & BCL6/1 & TFX4\\_Dex\\\\\n",
       "\\end{tabular}\n",
       "\n",
       "\\item[\\$`BCL6/2`] A tibble: 6 × 6\n",
       "\\begin{tabular}{llllll}\n",
       " Chrom\\_Frag & Start\\_Frag & End\\_Frag & Count\\_Frag & Motif & Sample\\\\\n",
       " <chr> & <dbl> & <dbl> & <dbl> & <chr> & <chr>\\\\\n",
       "\\hline\n",
       "\t chrY & 11219924 & 11220841 & 1 & BCL6/2 & Input1   \\\\\n",
       "\t chrY & 11219754 & 11220799 & 1 & BCL6/2 & Input4   \\\\\n",
       "\t chrY & 11220101 & 11221090 & 1 & BCL6/2 & TFX2\\_DMSO\\\\\n",
       "\t chrY & 11220101 & 11221091 & 1 & BCL6/2 & TFX2\\_DMSO\\\\\n",
       "\t chrY & 11236514 & 11237520 & 1 & BCL6/2 & TFX2\\_DMSO\\\\\n",
       "\t chrY & 11236514 & 11237521 & 1 & BCL6/2 & TFX2\\_DMSO\\\\\n",
       "\\end{tabular}\n",
       "\n",
       "\\end{description}\n"
      ],
      "text/markdown": [
       "$AIRE\n",
       ":   \n",
       "A tibble: 1 × 6\n",
       "\n",
       "| Chrom_Frag &lt;chr&gt; | Start_Frag &lt;dbl&gt; | End_Frag &lt;dbl&gt; | Count_Frag &lt;dbl&gt; | Motif &lt;chr&gt; | Sample &lt;chr&gt; |\n",
       "|---|---|---|---|---|---|\n",
       "| chrY | 11428494 | 11429537 | 1 | AIRE | TFX2_DMSO |\n",
       "\n",
       "\n",
       "$`AP1/1`\n",
       ":   \n",
       "A tibble: 6 × 6\n",
       "\n",
       "| Chrom_Frag &lt;chr&gt; | Start_Frag &lt;dbl&gt; | End_Frag &lt;dbl&gt; | Count_Frag &lt;dbl&gt; | Motif &lt;chr&gt; | Sample &lt;chr&gt; |\n",
       "|---|---|---|---|---|---|\n",
       "| chrY | 11096035 | 11097300 | 1 | AP1/1 | Input1 |\n",
       "| chrY | 11096699 | 11097734 | 1 | AP1/1 | Input1 |\n",
       "| chrY | 11096727 | 11097722 | 1 | AP1/1 | Input1 |\n",
       "| chrY | 11102283 | 11103258 | 1 | AP1/1 | Input1 |\n",
       "| chrY | 56859582 | 56860521 | 1 | AP1/1 | Input1 |\n",
       "| chrY | 56883167 | 56884086 | 1 | AP1/1 | Input1 |\n",
       "\n",
       "\n",
       "$`AP1/2`\n",
       ":   \n",
       "A tibble: 6 × 6\n",
       "\n",
       "| Chrom_Frag &lt;chr&gt; | Start_Frag &lt;dbl&gt; | End_Frag &lt;dbl&gt; | Count_Frag &lt;dbl&gt; | Motif &lt;chr&gt; | Sample &lt;chr&gt; |\n",
       "|---|---|---|---|---|---|\n",
       "| chrY | 56863585 | 56864555 | 1 | AP1/2 | Input1 |\n",
       "| chrY | 56863669 | 56864589 | 1 | AP1/2 | Input1 |\n",
       "| chrY | 56863790 | 56864847 | 1 | AP1/2 | Input1 |\n",
       "| chrY | 56863802 | 56864909 | 1 | AP1/2 | Input1 |\n",
       "| chrY | 56863825 | 56864807 | 1 | AP1/2 | Input1 |\n",
       "| chrY | 56863855 | 56864865 | 1 | AP1/2 | Input1 |\n",
       "\n",
       "\n",
       "$BATF\n",
       ":   \n",
       "A tibble: 6 × 6\n",
       "\n",
       "| Chrom_Frag &lt;chr&gt; | Start_Frag &lt;dbl&gt; | End_Frag &lt;dbl&gt; | Count_Frag &lt;dbl&gt; | Motif &lt;chr&gt; | Sample &lt;chr&gt; |\n",
       "|---|---|---|---|---|---|\n",
       "| chrY | 23144677 | 23145741 | 1 | BATF | TFX2_DMSO |\n",
       "| chrY | 23263018 | 23264069 | 1 | BATF | TFX2_DMSO |\n",
       "| chrY | 25243561 | 25244969 | 1 | BATF | TFX2_DMSO |\n",
       "| chrY | 23144675 | 23145739 | 1 | BATF | TFX5_DMSO |\n",
       "| chrY |  3280361 |  3281285 | 1 | BATF | TFX2_Dex  |\n",
       "| chrY |  3280362 |  3281285 | 2 | BATF | TFX2_Dex  |\n",
       "\n",
       "\n",
       "$`BCL6/1`\n",
       ":   \n",
       "A tibble: 1 × 6\n",
       "\n",
       "| Chrom_Frag &lt;chr&gt; | Start_Frag &lt;dbl&gt; | End_Frag &lt;dbl&gt; | Count_Frag &lt;dbl&gt; | Motif &lt;chr&gt; | Sample &lt;chr&gt; |\n",
       "|---|---|---|---|---|---|\n",
       "| chrY | 26433290 | 26434296 | 1 | BCL6/1 | TFX4_Dex |\n",
       "\n",
       "\n",
       "$`BCL6/2`\n",
       ":   \n",
       "A tibble: 6 × 6\n",
       "\n",
       "| Chrom_Frag &lt;chr&gt; | Start_Frag &lt;dbl&gt; | End_Frag &lt;dbl&gt; | Count_Frag &lt;dbl&gt; | Motif &lt;chr&gt; | Sample &lt;chr&gt; |\n",
       "|---|---|---|---|---|---|\n",
       "| chrY | 11219924 | 11220841 | 1 | BCL6/2 | Input1    |\n",
       "| chrY | 11219754 | 11220799 | 1 | BCL6/2 | Input4    |\n",
       "| chrY | 11220101 | 11221090 | 1 | BCL6/2 | TFX2_DMSO |\n",
       "| chrY | 11220101 | 11221091 | 1 | BCL6/2 | TFX2_DMSO |\n",
       "| chrY | 11236514 | 11237520 | 1 | BCL6/2 | TFX2_DMSO |\n",
       "| chrY | 11236514 | 11237521 | 1 | BCL6/2 | TFX2_DMSO |\n",
       "\n",
       "\n",
       "\n",
       "\n"
      ],
      "text/plain": [
       "$AIRE\n",
       "\u001b[90m# A tibble: 1 × 6\u001b[39m\n",
       "  Chrom_Frag Start_Frag End_Frag Count_Frag Motif Sample   \n",
       "  \u001b[3m\u001b[90m<chr>\u001b[39m\u001b[23m           \u001b[3m\u001b[90m<dbl>\u001b[39m\u001b[23m    \u001b[3m\u001b[90m<dbl>\u001b[39m\u001b[23m      \u001b[3m\u001b[90m<dbl>\u001b[39m\u001b[23m \u001b[3m\u001b[90m<chr>\u001b[39m\u001b[23m \u001b[3m\u001b[90m<chr>\u001b[39m\u001b[23m    \n",
       "\u001b[90m1\u001b[39m chrY         11\u001b[4m4\u001b[24m\u001b[4m2\u001b[24m\u001b[4m8\u001b[24m494 11\u001b[4m4\u001b[24m\u001b[4m2\u001b[24m\u001b[4m9\u001b[24m537          1 AIRE  TFX2_DMSO\n",
       "\n",
       "$`AP1/1`\n",
       "\u001b[90m# A tibble: 6 × 6\u001b[39m\n",
       "  Chrom_Frag Start_Frag End_Frag Count_Frag Motif Sample\n",
       "  \u001b[3m\u001b[90m<chr>\u001b[39m\u001b[23m           \u001b[3m\u001b[90m<dbl>\u001b[39m\u001b[23m    \u001b[3m\u001b[90m<dbl>\u001b[39m\u001b[23m      \u001b[3m\u001b[90m<dbl>\u001b[39m\u001b[23m \u001b[3m\u001b[90m<chr>\u001b[39m\u001b[23m \u001b[3m\u001b[90m<chr>\u001b[39m\u001b[23m \n",
       "\u001b[90m1\u001b[39m chrY         11\u001b[4m0\u001b[24m\u001b[4m9\u001b[24m\u001b[4m6\u001b[24m035 11\u001b[4m0\u001b[24m\u001b[4m9\u001b[24m\u001b[4m7\u001b[24m300          1 AP1/1 Input1\n",
       "\u001b[90m2\u001b[39m chrY         11\u001b[4m0\u001b[24m\u001b[4m9\u001b[24m\u001b[4m6\u001b[24m699 11\u001b[4m0\u001b[24m\u001b[4m9\u001b[24m\u001b[4m7\u001b[24m734          1 AP1/1 Input1\n",
       "\u001b[90m3\u001b[39m chrY         11\u001b[4m0\u001b[24m\u001b[4m9\u001b[24m\u001b[4m6\u001b[24m727 11\u001b[4m0\u001b[24m\u001b[4m9\u001b[24m\u001b[4m7\u001b[24m722          1 AP1/1 Input1\n",
       "\u001b[90m4\u001b[39m chrY         11\u001b[4m1\u001b[24m\u001b[4m0\u001b[24m\u001b[4m2\u001b[24m283 11\u001b[4m1\u001b[24m\u001b[4m0\u001b[24m\u001b[4m3\u001b[24m258          1 AP1/1 Input1\n",
       "\u001b[90m5\u001b[39m chrY         56\u001b[4m8\u001b[24m\u001b[4m5\u001b[24m\u001b[4m9\u001b[24m582 56\u001b[4m8\u001b[24m\u001b[4m6\u001b[24m\u001b[4m0\u001b[24m521          1 AP1/1 Input1\n",
       "\u001b[90m6\u001b[39m chrY         56\u001b[4m8\u001b[24m\u001b[4m8\u001b[24m\u001b[4m3\u001b[24m167 56\u001b[4m8\u001b[24m\u001b[4m8\u001b[24m\u001b[4m4\u001b[24m086          1 AP1/1 Input1\n",
       "\n",
       "$`AP1/2`\n",
       "\u001b[90m# A tibble: 6 × 6\u001b[39m\n",
       "  Chrom_Frag Start_Frag End_Frag Count_Frag Motif Sample\n",
       "  \u001b[3m\u001b[90m<chr>\u001b[39m\u001b[23m           \u001b[3m\u001b[90m<dbl>\u001b[39m\u001b[23m    \u001b[3m\u001b[90m<dbl>\u001b[39m\u001b[23m      \u001b[3m\u001b[90m<dbl>\u001b[39m\u001b[23m \u001b[3m\u001b[90m<chr>\u001b[39m\u001b[23m \u001b[3m\u001b[90m<chr>\u001b[39m\u001b[23m \n",
       "\u001b[90m1\u001b[39m chrY         56\u001b[4m8\u001b[24m\u001b[4m6\u001b[24m\u001b[4m3\u001b[24m585 56\u001b[4m8\u001b[24m\u001b[4m6\u001b[24m\u001b[4m4\u001b[24m555          1 AP1/2 Input1\n",
       "\u001b[90m2\u001b[39m chrY         56\u001b[4m8\u001b[24m\u001b[4m6\u001b[24m\u001b[4m3\u001b[24m669 56\u001b[4m8\u001b[24m\u001b[4m6\u001b[24m\u001b[4m4\u001b[24m589          1 AP1/2 Input1\n",
       "\u001b[90m3\u001b[39m chrY         56\u001b[4m8\u001b[24m\u001b[4m6\u001b[24m\u001b[4m3\u001b[24m790 56\u001b[4m8\u001b[24m\u001b[4m6\u001b[24m\u001b[4m4\u001b[24m847          1 AP1/2 Input1\n",
       "\u001b[90m4\u001b[39m chrY         56\u001b[4m8\u001b[24m\u001b[4m6\u001b[24m\u001b[4m3\u001b[24m802 56\u001b[4m8\u001b[24m\u001b[4m6\u001b[24m\u001b[4m4\u001b[24m909          1 AP1/2 Input1\n",
       "\u001b[90m5\u001b[39m chrY         56\u001b[4m8\u001b[24m\u001b[4m6\u001b[24m\u001b[4m3\u001b[24m825 56\u001b[4m8\u001b[24m\u001b[4m6\u001b[24m\u001b[4m4\u001b[24m807          1 AP1/2 Input1\n",
       "\u001b[90m6\u001b[39m chrY         56\u001b[4m8\u001b[24m\u001b[4m6\u001b[24m\u001b[4m3\u001b[24m855 56\u001b[4m8\u001b[24m\u001b[4m6\u001b[24m\u001b[4m4\u001b[24m865          1 AP1/2 Input1\n",
       "\n",
       "$BATF\n",
       "\u001b[90m# A tibble: 6 × 6\u001b[39m\n",
       "  Chrom_Frag Start_Frag End_Frag Count_Frag Motif Sample   \n",
       "  \u001b[3m\u001b[90m<chr>\u001b[39m\u001b[23m           \u001b[3m\u001b[90m<dbl>\u001b[39m\u001b[23m    \u001b[3m\u001b[90m<dbl>\u001b[39m\u001b[23m      \u001b[3m\u001b[90m<dbl>\u001b[39m\u001b[23m \u001b[3m\u001b[90m<chr>\u001b[39m\u001b[23m \u001b[3m\u001b[90m<chr>\u001b[39m\u001b[23m    \n",
       "\u001b[90m1\u001b[39m chrY         23\u001b[4m1\u001b[24m\u001b[4m4\u001b[24m\u001b[4m4\u001b[24m677 23\u001b[4m1\u001b[24m\u001b[4m4\u001b[24m\u001b[4m5\u001b[24m741          1 BATF  TFX2_DMSO\n",
       "\u001b[90m2\u001b[39m chrY         23\u001b[4m2\u001b[24m\u001b[4m6\u001b[24m\u001b[4m3\u001b[24m018 23\u001b[4m2\u001b[24m\u001b[4m6\u001b[24m\u001b[4m4\u001b[24m069          1 BATF  TFX2_DMSO\n",
       "\u001b[90m3\u001b[39m chrY         25\u001b[4m2\u001b[24m\u001b[4m4\u001b[24m\u001b[4m3\u001b[24m561 25\u001b[4m2\u001b[24m\u001b[4m4\u001b[24m\u001b[4m4\u001b[24m969          1 BATF  TFX2_DMSO\n",
       "\u001b[90m4\u001b[39m chrY         23\u001b[4m1\u001b[24m\u001b[4m4\u001b[24m\u001b[4m4\u001b[24m675 23\u001b[4m1\u001b[24m\u001b[4m4\u001b[24m\u001b[4m5\u001b[24m739          1 BATF  TFX5_DMSO\n",
       "\u001b[90m5\u001b[39m chrY          3\u001b[4m2\u001b[24m\u001b[4m8\u001b[24m\u001b[4m0\u001b[24m361  3\u001b[4m2\u001b[24m\u001b[4m8\u001b[24m\u001b[4m1\u001b[24m285          1 BATF  TFX2_Dex \n",
       "\u001b[90m6\u001b[39m chrY          3\u001b[4m2\u001b[24m\u001b[4m8\u001b[24m\u001b[4m0\u001b[24m362  3\u001b[4m2\u001b[24m\u001b[4m8\u001b[24m\u001b[4m1\u001b[24m285          2 BATF  TFX2_Dex \n",
       "\n",
       "$`BCL6/1`\n",
       "\u001b[90m# A tibble: 1 × 6\u001b[39m\n",
       "  Chrom_Frag Start_Frag End_Frag Count_Frag Motif  Sample  \n",
       "  \u001b[3m\u001b[90m<chr>\u001b[39m\u001b[23m           \u001b[3m\u001b[90m<dbl>\u001b[39m\u001b[23m    \u001b[3m\u001b[90m<dbl>\u001b[39m\u001b[23m      \u001b[3m\u001b[90m<dbl>\u001b[39m\u001b[23m \u001b[3m\u001b[90m<chr>\u001b[39m\u001b[23m  \u001b[3m\u001b[90m<chr>\u001b[39m\u001b[23m   \n",
       "\u001b[90m1\u001b[39m chrY         26\u001b[4m4\u001b[24m\u001b[4m3\u001b[24m\u001b[4m3\u001b[24m290 26\u001b[4m4\u001b[24m\u001b[4m3\u001b[24m\u001b[4m4\u001b[24m296          1 BCL6/1 TFX4_Dex\n",
       "\n",
       "$`BCL6/2`\n",
       "\u001b[90m# A tibble: 6 × 6\u001b[39m\n",
       "  Chrom_Frag Start_Frag End_Frag Count_Frag Motif  Sample   \n",
       "  \u001b[3m\u001b[90m<chr>\u001b[39m\u001b[23m           \u001b[3m\u001b[90m<dbl>\u001b[39m\u001b[23m    \u001b[3m\u001b[90m<dbl>\u001b[39m\u001b[23m      \u001b[3m\u001b[90m<dbl>\u001b[39m\u001b[23m \u001b[3m\u001b[90m<chr>\u001b[39m\u001b[23m  \u001b[3m\u001b[90m<chr>\u001b[39m\u001b[23m    \n",
       "\u001b[90m1\u001b[39m chrY         11\u001b[4m2\u001b[24m\u001b[4m1\u001b[24m\u001b[4m9\u001b[24m924 11\u001b[4m2\u001b[24m\u001b[4m2\u001b[24m\u001b[4m0\u001b[24m841          1 BCL6/2 Input1   \n",
       "\u001b[90m2\u001b[39m chrY         11\u001b[4m2\u001b[24m\u001b[4m1\u001b[24m\u001b[4m9\u001b[24m754 11\u001b[4m2\u001b[24m\u001b[4m2\u001b[24m\u001b[4m0\u001b[24m799          1 BCL6/2 Input4   \n",
       "\u001b[90m3\u001b[39m chrY         11\u001b[4m2\u001b[24m\u001b[4m2\u001b[24m\u001b[4m0\u001b[24m101 11\u001b[4m2\u001b[24m\u001b[4m2\u001b[24m\u001b[4m1\u001b[24m090          1 BCL6/2 TFX2_DMSO\n",
       "\u001b[90m4\u001b[39m chrY         11\u001b[4m2\u001b[24m\u001b[4m2\u001b[24m\u001b[4m0\u001b[24m101 11\u001b[4m2\u001b[24m\u001b[4m2\u001b[24m\u001b[4m1\u001b[24m091          1 BCL6/2 TFX2_DMSO\n",
       "\u001b[90m5\u001b[39m chrY         11\u001b[4m2\u001b[24m\u001b[4m3\u001b[24m\u001b[4m6\u001b[24m514 11\u001b[4m2\u001b[24m\u001b[4m3\u001b[24m\u001b[4m7\u001b[24m520          1 BCL6/2 TFX2_DMSO\n",
       "\u001b[90m6\u001b[39m chrY         11\u001b[4m2\u001b[24m\u001b[4m3\u001b[24m\u001b[4m6\u001b[24m514 11\u001b[4m2\u001b[24m\u001b[4m3\u001b[24m\u001b[4m7\u001b[24m521          1 BCL6/2 TFX2_DMSO\n"
      ]
     },
     "metadata": {},
     "output_type": "display_data"
    }
   ],
   "source": [
    "lapply(head(lst_frag), head)"
   ]
  },
  {
   "cell_type": "code",
   "execution_count": 11,
   "metadata": {},
   "outputs": [
    {
     "name": "stdout",
     "output_type": "stream",
     "text": [
      "[1] 1 6\n"
     ]
    },
    {
     "data": {
      "text/html": [
       "<table class=\"dataframe\">\n",
       "<caption>A tibble: 1 × 6</caption>\n",
       "<thead>\n",
       "\t<tr><th scope=col>Chrom_Frag</th><th scope=col>Start_Frag</th><th scope=col>End_Frag</th><th scope=col>Count_Frag</th><th scope=col>Motif</th><th scope=col>Sample</th></tr>\n",
       "\t<tr><th scope=col>&lt;chr&gt;</th><th scope=col>&lt;dbl&gt;</th><th scope=col>&lt;dbl&gt;</th><th scope=col>&lt;dbl&gt;</th><th scope=col>&lt;chr&gt;</th><th scope=col>&lt;chr&gt;</th></tr>\n",
       "</thead>\n",
       "<tbody>\n",
       "\t<tr><td>chrY</td><td>11428494</td><td>11429537</td><td>1</td><td>AIRE</td><td>TFX2_DMSO</td></tr>\n",
       "</tbody>\n",
       "</table>\n"
      ],
      "text/latex": [
       "A tibble: 1 × 6\n",
       "\\begin{tabular}{llllll}\n",
       " Chrom\\_Frag & Start\\_Frag & End\\_Frag & Count\\_Frag & Motif & Sample\\\\\n",
       " <chr> & <dbl> & <dbl> & <dbl> & <chr> & <chr>\\\\\n",
       "\\hline\n",
       "\t chrY & 11428494 & 11429537 & 1 & AIRE & TFX2\\_DMSO\\\\\n",
       "\\end{tabular}\n"
      ],
      "text/markdown": [
       "\n",
       "A tibble: 1 × 6\n",
       "\n",
       "| Chrom_Frag &lt;chr&gt; | Start_Frag &lt;dbl&gt; | End_Frag &lt;dbl&gt; | Count_Frag &lt;dbl&gt; | Motif &lt;chr&gt; | Sample &lt;chr&gt; |\n",
       "|---|---|---|---|---|---|\n",
       "| chrY | 11428494 | 11429537 | 1 | AIRE | TFX2_DMSO |\n",
       "\n"
      ],
      "text/plain": [
       "  Chrom_Frag Start_Frag End_Frag Count_Frag Motif Sample   \n",
       "1 chrY       11428494   11429537 1          AIRE  TFX2_DMSO"
      ]
     },
     "metadata": {},
     "output_type": "display_data"
    }
   ],
   "source": [
    "dat = lst_frag[[1]]\n",
    "print(dim(dat))\n",
    "head(dat)"
   ]
  },
  {
   "cell_type": "code",
   "execution_count": null,
   "metadata": {},
   "outputs": [],
   "source": [
    "lapply()"
   ]
  },
  {
   "cell_type": "code",
   "execution_count": 12,
   "metadata": {},
   "outputs": [
    {
     "name": "stdout",
     "output_type": "stream",
     "text": [
      "[1] 216   6\n"
     ]
    },
    {
     "data": {
      "text/html": [
       "<table class=\"dataframe\">\n",
       "<caption>A tibble: 6 × 6</caption>\n",
       "<thead>\n",
       "\t<tr><th scope=col>Chrom_Frag</th><th scope=col>Start_Frag</th><th scope=col>End_Frag</th><th scope=col>Count_Frag</th><th scope=col>Motif</th><th scope=col>Sample</th></tr>\n",
       "\t<tr><th scope=col>&lt;chr&gt;</th><th scope=col>&lt;dbl&gt;</th><th scope=col>&lt;dbl&gt;</th><th scope=col>&lt;dbl&gt;</th><th scope=col>&lt;chr&gt;</th><th scope=col>&lt;chr&gt;</th></tr>\n",
       "</thead>\n",
       "<tbody>\n",
       "\t<tr><td>chrY</td><td>11096035</td><td>11097300</td><td>1</td><td>AP1/1</td><td>Input1</td></tr>\n",
       "\t<tr><td>chrY</td><td>11096699</td><td>11097734</td><td>1</td><td>AP1/1</td><td>Input1</td></tr>\n",
       "\t<tr><td>chrY</td><td>11096727</td><td>11097722</td><td>1</td><td>AP1/1</td><td>Input1</td></tr>\n",
       "\t<tr><td>chrY</td><td>11102283</td><td>11103258</td><td>1</td><td>AP1/1</td><td>Input1</td></tr>\n",
       "\t<tr><td>chrY</td><td>56859582</td><td>56860521</td><td>1</td><td>AP1/1</td><td>Input1</td></tr>\n",
       "\t<tr><td>chrY</td><td>56883167</td><td>56884086</td><td>1</td><td>AP1/1</td><td>Input1</td></tr>\n",
       "</tbody>\n",
       "</table>\n"
      ],
      "text/latex": [
       "A tibble: 6 × 6\n",
       "\\begin{tabular}{llllll}\n",
       " Chrom\\_Frag & Start\\_Frag & End\\_Frag & Count\\_Frag & Motif & Sample\\\\\n",
       " <chr> & <dbl> & <dbl> & <dbl> & <chr> & <chr>\\\\\n",
       "\\hline\n",
       "\t chrY & 11096035 & 11097300 & 1 & AP1/1 & Input1\\\\\n",
       "\t chrY & 11096699 & 11097734 & 1 & AP1/1 & Input1\\\\\n",
       "\t chrY & 11096727 & 11097722 & 1 & AP1/1 & Input1\\\\\n",
       "\t chrY & 11102283 & 11103258 & 1 & AP1/1 & Input1\\\\\n",
       "\t chrY & 56859582 & 56860521 & 1 & AP1/1 & Input1\\\\\n",
       "\t chrY & 56883167 & 56884086 & 1 & AP1/1 & Input1\\\\\n",
       "\\end{tabular}\n"
      ],
      "text/markdown": [
       "\n",
       "A tibble: 6 × 6\n",
       "\n",
       "| Chrom_Frag &lt;chr&gt; | Start_Frag &lt;dbl&gt; | End_Frag &lt;dbl&gt; | Count_Frag &lt;dbl&gt; | Motif &lt;chr&gt; | Sample &lt;chr&gt; |\n",
       "|---|---|---|---|---|---|\n",
       "| chrY | 11096035 | 11097300 | 1 | AP1/1 | Input1 |\n",
       "| chrY | 11096699 | 11097734 | 1 | AP1/1 | Input1 |\n",
       "| chrY | 11096727 | 11097722 | 1 | AP1/1 | Input1 |\n",
       "| chrY | 11102283 | 11103258 | 1 | AP1/1 | Input1 |\n",
       "| chrY | 56859582 | 56860521 | 1 | AP1/1 | Input1 |\n",
       "| chrY | 56883167 | 56884086 | 1 | AP1/1 | Input1 |\n",
       "\n"
      ],
      "text/plain": [
       "  Chrom_Frag Start_Frag End_Frag Count_Frag Motif Sample\n",
       "1 chrY       11096035   11097300 1          AP1/1 Input1\n",
       "2 chrY       11096699   11097734 1          AP1/1 Input1\n",
       "3 chrY       11096727   11097722 1          AP1/1 Input1\n",
       "4 chrY       11102283   11103258 1          AP1/1 Input1\n",
       "5 chrY       56859582   56860521 1          AP1/1 Input1\n",
       "6 chrY       56883167   56884086 1          AP1/1 Input1"
      ]
     },
     "metadata": {},
     "output_type": "display_data"
    }
   ],
   "source": [
    "dat = lst_frag[[2]]\n",
    "print(dim(dat))\n",
    "head(dat)"
   ]
  },
  {
   "cell_type": "code",
   "execution_count": 46,
   "metadata": {},
   "outputs": [],
   "source": [
    "    dat = lst_frag[[1]]\n",
    "\n",
    "    ### get fragments\n",
    "    dat = dat %>% \n",
    "        dplyr::select(Chrom_Frag, Start_Frag, End_Frag, Count_Frag, Sample) %>%\n",
    "        distinct()\n",
    "\n",
    "    ### count\n",
    "    dat = dat %>% group_by(Sample) %>% summarise(Value = sum(Count_Frag))\n",
    "\n",
    "    ### normalize counts by library size\n",
    "    tmp = dat %>% left_join(dat_lib, by=\"Sample\")\n",
    "    tmp = tmp %>%\n",
    "        mutate(Norm_Value    = Value / Size) %>% \n",
    "        mutate(Lognorm_Value = log10(Value) - log10(Size)) %>%\n",
    "        mutate(X = Group)\n",
    "\n",
    "    idxs  = c(\"Input\", \"TFX_DMSO\", \"TFX_Dex\")\n",
    "    tmp$X = factor(tmp$X, levels=idxs)\n",
    "    X = model.matrix(~X, tmp)\n",
    "    X[,\"XTFX_DMSO\"] = X[,\"XTFX_DMSO\"] + X[,\"XTFX_Dex\"]\n",
    "    y = tmp$Norm_Value\n",
    "\n",
    "    ### fit model and get the summary\n",
    "    fit = lm(y ~ X + 0)\n",
    "    res = summary(fit)"
   ]
  },
  {
   "cell_type": "code",
   "execution_count": 47,
   "metadata": {},
   "outputs": [
    {
     "data": {
      "text/html": [
       "<table class=\"dataframe\">\n",
       "<caption>A tibble: 1 × 7</caption>\n",
       "<thead>\n",
       "\t<tr><th scope=col>Sample</th><th scope=col>Value</th><th scope=col>Size</th><th scope=col>Group</th><th scope=col>Norm_Value</th><th scope=col>Lognorm_Value</th><th scope=col>X</th></tr>\n",
       "\t<tr><th scope=col>&lt;chr&gt;</th><th scope=col>&lt;dbl&gt;</th><th scope=col>&lt;dbl&gt;</th><th scope=col>&lt;chr&gt;</th><th scope=col>&lt;dbl&gt;</th><th scope=col>&lt;dbl&gt;</th><th scope=col>&lt;fct&gt;</th></tr>\n",
       "</thead>\n",
       "<tbody>\n",
       "\t<tr><td>TFX2_DMSO</td><td>1</td><td>43844606</td><td>TFX_DMSO</td><td>2.280782e-08</td><td>-7.641916</td><td>TFX_DMSO</td></tr>\n",
       "</tbody>\n",
       "</table>\n"
      ],
      "text/latex": [
       "A tibble: 1 × 7\n",
       "\\begin{tabular}{lllllll}\n",
       " Sample & Value & Size & Group & Norm\\_Value & Lognorm\\_Value & X\\\\\n",
       " <chr> & <dbl> & <dbl> & <chr> & <dbl> & <dbl> & <fct>\\\\\n",
       "\\hline\n",
       "\t TFX2\\_DMSO & 1 & 43844606 & TFX\\_DMSO & 2.280782e-08 & -7.641916 & TFX\\_DMSO\\\\\n",
       "\\end{tabular}\n"
      ],
      "text/markdown": [
       "\n",
       "A tibble: 1 × 7\n",
       "\n",
       "| Sample &lt;chr&gt; | Value &lt;dbl&gt; | Size &lt;dbl&gt; | Group &lt;chr&gt; | Norm_Value &lt;dbl&gt; | Lognorm_Value &lt;dbl&gt; | X &lt;fct&gt; |\n",
       "|---|---|---|---|---|---|---|\n",
       "| TFX2_DMSO | 1 | 43844606 | TFX_DMSO | 2.280782e-08 | -7.641916 | TFX_DMSO |\n",
       "\n"
      ],
      "text/plain": [
       "  Sample    Value Size     Group    Norm_Value   Lognorm_Value X       \n",
       "1 TFX2_DMSO 1     43844606 TFX_DMSO 2.280782e-08 -7.641916     TFX_DMSO"
      ]
     },
     "metadata": {},
     "output_type": "display_data"
    }
   ],
   "source": [
    "tmp"
   ]
  },
  {
   "cell_type": "code",
   "execution_count": 48,
   "metadata": {},
   "outputs": [
    {
     "data": {
      "text/html": [
       "<table class=\"dataframe\">\n",
       "<caption>A matrix: 1 × 3 of type dbl</caption>\n",
       "<thead>\n",
       "\t<tr><th></th><th scope=col>(Intercept)</th><th scope=col>XTFX_DMSO</th><th scope=col>XTFX_Dex</th></tr>\n",
       "</thead>\n",
       "<tbody>\n",
       "\t<tr><th scope=row>1</th><td>1</td><td>1</td><td>0</td></tr>\n",
       "</tbody>\n",
       "</table>\n"
      ],
      "text/latex": [
       "A matrix: 1 × 3 of type dbl\n",
       "\\begin{tabular}{r|lll}\n",
       "  & (Intercept) & XTFX\\_DMSO & XTFX\\_Dex\\\\\n",
       "\\hline\n",
       "\t1 & 1 & 1 & 0\\\\\n",
       "\\end{tabular}\n"
      ],
      "text/markdown": [
       "\n",
       "A matrix: 1 × 3 of type dbl\n",
       "\n",
       "| <!--/--> | (Intercept) | XTFX_DMSO | XTFX_Dex |\n",
       "|---|---|---|---|\n",
       "| 1 | 1 | 1 | 0 |\n",
       "\n"
      ],
      "text/plain": [
       "  (Intercept) XTFX_DMSO XTFX_Dex\n",
       "1 1           1         0       "
      ]
     },
     "metadata": {},
     "output_type": "display_data"
    }
   ],
   "source": [
    "X"
   ]
  },
  {
   "cell_type": "code",
   "execution_count": 49,
   "metadata": {},
   "outputs": [
    {
     "data": {
      "text/html": [
       "2.28078227000147e-08"
      ],
      "text/latex": [
       "2.28078227000147e-08"
      ],
      "text/markdown": [
       "2.28078227000147e-08"
      ],
      "text/plain": [
       "[1] 2.280782e-08"
      ]
     },
     "metadata": {},
     "output_type": "display_data"
    }
   ],
   "source": [
    "y"
   ]
  },
  {
   "cell_type": "code",
   "execution_count": 50,
   "metadata": {},
   "outputs": [
    {
     "data": {
      "text/plain": [
       "\n",
       "Call:\n",
       "lm(formula = y ~ X + 0)\n",
       "\n",
       "Coefficients:\n",
       "X(Intercept)    XXTFX_DMSO     XXTFX_Dex  \n",
       "   2.281e-08            NA            NA  \n"
      ]
     },
     "metadata": {},
     "output_type": "display_data"
    }
   ],
   "source": [
    "fit"
   ]
  },
  {
   "cell_type": "code",
   "execution_count": 51,
   "metadata": {},
   "outputs": [
    {
     "data": {
      "text/plain": [
       "\n",
       "Call:\n",
       "lm(formula = y ~ X + 0)\n",
       "\n",
       "Residuals:\n",
       "ALL 1 residuals are 0: no residual degrees of freedom!\n",
       "\n",
       "Coefficients: (2 not defined because of singularities)\n",
       "              Estimate Std. Error t value Pr(>|t|)\n",
       "X(Intercept) 2.281e-08        NaN     NaN      NaN\n",
       "XXTFX_DMSO          NA         NA      NA       NA\n",
       "XXTFX_Dex           NA         NA      NA       NA\n",
       "\n",
       "Residual standard error: NaN on 0 degrees of freedom\n",
       "Multiple R-squared:      1,\tAdjusted R-squared:    NaN \n",
       "F-statistic:   NaN on 1 and 0 DF,  p-value: NA\n"
      ]
     },
     "metadata": {},
     "output_type": "display_data"
    }
   ],
   "source": [
    "res"
   ]
  },
  {
   "cell_type": "code",
   "execution_count": null,
   "metadata": {},
   "outputs": [],
   "source": []
  }
 ],
 "metadata": {
  "kernelspec": {
   "display_name": "R",
   "language": "R",
   "name": "ir"
  },
  "language_info": {
   "codemirror_mode": "r",
   "file_extension": ".r",
   "mimetype": "text/x-r-source",
   "name": "R",
   "pygments_lexer": "r",
   "version": "4.1.1"
  }
 },
 "nbformat": 4,
 "nbformat_minor": 4
}
