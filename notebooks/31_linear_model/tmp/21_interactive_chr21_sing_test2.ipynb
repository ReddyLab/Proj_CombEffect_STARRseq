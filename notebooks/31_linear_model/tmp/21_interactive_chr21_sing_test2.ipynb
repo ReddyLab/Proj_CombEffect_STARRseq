{
 "cells": [
  {
   "cell_type": "code",
   "execution_count": 1,
   "metadata": {},
   "outputs": [
    {
     "name": "stderr",
     "output_type": "stream",
     "text": [
      "── \u001b[1mAttaching packages\u001b[22m ─────────────────────────────────────────────────────── tidyverse 1.3.1 ──\n",
      "\n",
      "\u001b[32m✔\u001b[39m \u001b[34mggplot2\u001b[39m 3.3.5     \u001b[32m✔\u001b[39m \u001b[34mpurrr  \u001b[39m 0.3.4\n",
      "\u001b[32m✔\u001b[39m \u001b[34mtibble \u001b[39m 3.1.3     \u001b[32m✔\u001b[39m \u001b[34mdplyr  \u001b[39m 1.0.7\n",
      "\u001b[32m✔\u001b[39m \u001b[34mtidyr  \u001b[39m 1.1.3     \u001b[32m✔\u001b[39m \u001b[34mstringr\u001b[39m 1.4.0\n",
      "\u001b[32m✔\u001b[39m \u001b[34mreadr  \u001b[39m 2.0.1     \u001b[32m✔\u001b[39m \u001b[34mforcats\u001b[39m 0.5.1\n",
      "\n",
      "── \u001b[1mConflicts\u001b[22m ────────────────────────────────────────────────────────── tidyverse_conflicts() ──\n",
      "\u001b[31m✖\u001b[39m \u001b[34mdplyr\u001b[39m::\u001b[32mfilter()\u001b[39m masks \u001b[34mstats\u001b[39m::filter()\n",
      "\u001b[31m✖\u001b[39m \u001b[34mdplyr\u001b[39m::\u001b[32mlag()\u001b[39m    masks \u001b[34mstats\u001b[39m::lag()\n",
      "\n"
     ]
    }
   ],
   "source": [
    "source(\"/home/mount/project/config_sing.R\")"
   ]
  },
  {
   "cell_type": "code",
   "execution_count": 2,
   "metadata": {},
   "outputs": [
    {
     "data": {
      "text/html": [
       "<style>\n",
       ".list-inline {list-style: none; margin:0; padding: 0}\n",
       ".list-inline>li {display: inline-block}\n",
       ".list-inline>li:not(:last-child)::after {content: \"\\00b7\"; padding: 0 .5ex}\n",
       "</style>\n",
       "<ol class=list-inline><li>'annotation_fragment'</li><li>'annotation_segment'</li><li>'bedgraph'</li><li>'bootstrap'</li><li>'count_fragment'</li><li>'count_segment'</li><li>'coverage'</li><li>'data'</li><li>'kmer'</li><li>'log'</li><li>'model_linear'</li><li>'source'</li></ol>\n"
      ],
      "text/latex": [
       "\\begin{enumerate*}\n",
       "\\item 'annotation\\_fragment'\n",
       "\\item 'annotation\\_segment'\n",
       "\\item 'bedgraph'\n",
       "\\item 'bootstrap'\n",
       "\\item 'count\\_fragment'\n",
       "\\item 'count\\_segment'\n",
       "\\item 'coverage'\n",
       "\\item 'data'\n",
       "\\item 'kmer'\n",
       "\\item 'log'\n",
       "\\item 'model\\_linear'\n",
       "\\item 'source'\n",
       "\\end{enumerate*}\n"
      ],
      "text/markdown": [
       "1. 'annotation_fragment'\n",
       "2. 'annotation_segment'\n",
       "3. 'bedgraph'\n",
       "4. 'bootstrap'\n",
       "5. 'count_fragment'\n",
       "6. 'count_segment'\n",
       "7. 'coverage'\n",
       "8. 'data'\n",
       "9. 'kmer'\n",
       "10. 'log'\n",
       "11. 'model_linear'\n",
       "12. 'source'\n",
       "\n",
       "\n"
      ],
      "text/plain": [
       " [1] \"annotation_fragment\" \"annotation_segment\"  \"bedgraph\"           \n",
       " [4] \"bootstrap\"           \"count_fragment\"      \"count_segment\"      \n",
       " [7] \"coverage\"            \"data\"                \"kmer\"               \n",
       "[10] \"log\"                 \"model_linear\"        \"source\"             "
      ]
     },
     "metadata": {},
     "output_type": "display_data"
    }
   ],
   "source": [
    "dir(FD_RES)"
   ]
  },
  {
   "cell_type": "markdown",
   "metadata": {},
   "source": [
    "## Import library size"
   ]
  },
  {
   "cell_type": "code",
   "execution_count": 3,
   "metadata": {},
   "outputs": [],
   "source": [
    "get_sample = function(idn_sample){\n",
    "    idn = idn_sample\n",
    "    idn = str_replace(\n",
    "        string = idn, \n",
    "        pattern = \"Input[0-9]\", \n",
    "        replacement = \"Input\")\n",
    "    idn = str_replace(\n",
    "        string = idn, \n",
    "        pattern = \"TFX[0-9]_\", \n",
    "        replacement=\"TFX_\")\n",
    "    return(idn)\n",
    "}"
   ]
  },
  {
   "cell_type": "code",
   "execution_count": 4,
   "metadata": {},
   "outputs": [
    {
     "data": {
      "text/html": [
       "<table class=\"dataframe\">\n",
       "<caption>A tibble: 10 × 3</caption>\n",
       "<thead>\n",
       "\t<tr><th scope=col>Size</th><th scope=col>Sample</th><th scope=col>Group</th></tr>\n",
       "\t<tr><th scope=col>&lt;dbl&gt;</th><th scope=col>&lt;chr&gt;</th><th scope=col>&lt;chr&gt;</th></tr>\n",
       "</thead>\n",
       "<tbody>\n",
       "\t<tr><td>18666630</td><td>Input1         </td><td>Input         </td></tr>\n",
       "\t<tr><td>20167924</td><td>Input2         </td><td>Input         </td></tr>\n",
       "\t<tr><td>23280988</td><td>Input3         </td><td>Input         </td></tr>\n",
       "\t<tr><td>19003938</td><td>Input4         </td><td>Input         </td></tr>\n",
       "\t<tr><td>15325016</td><td>Input5         </td><td>Input         </td></tr>\n",
       "\t<tr><td>48376253</td><td>TFX2_AZD2906   </td><td>TFX_AZD2906   </td></tr>\n",
       "\t<tr><td>52542517</td><td>TFX2_AZD9567   </td><td>TFX_AZD9567   </td></tr>\n",
       "\t<tr><td>43646484</td><td>TFX2_CORT108297</td><td>TFX_CORT108297</td></tr>\n",
       "\t<tr><td>41732268</td><td>TFX2_CpdA      </td><td>TFX_CpdA      </td></tr>\n",
       "\t<tr><td>43844606</td><td>TFX2_DMSO      </td><td>TFX_DMSO      </td></tr>\n",
       "</tbody>\n",
       "</table>\n"
      ],
      "text/latex": [
       "A tibble: 10 × 3\n",
       "\\begin{tabular}{lll}\n",
       " Size & Sample & Group\\\\\n",
       " <dbl> & <chr> & <chr>\\\\\n",
       "\\hline\n",
       "\t 18666630 & Input1          & Input         \\\\\n",
       "\t 20167924 & Input2          & Input         \\\\\n",
       "\t 23280988 & Input3          & Input         \\\\\n",
       "\t 19003938 & Input4          & Input         \\\\\n",
       "\t 15325016 & Input5          & Input         \\\\\n",
       "\t 48376253 & TFX2\\_AZD2906    & TFX\\_AZD2906   \\\\\n",
       "\t 52542517 & TFX2\\_AZD9567    & TFX\\_AZD9567   \\\\\n",
       "\t 43646484 & TFX2\\_CORT108297 & TFX\\_CORT108297\\\\\n",
       "\t 41732268 & TFX2\\_CpdA       & TFX\\_CpdA      \\\\\n",
       "\t 43844606 & TFX2\\_DMSO       & TFX\\_DMSO      \\\\\n",
       "\\end{tabular}\n"
      ],
      "text/markdown": [
       "\n",
       "A tibble: 10 × 3\n",
       "\n",
       "| Size &lt;dbl&gt; | Sample &lt;chr&gt; | Group &lt;chr&gt; |\n",
       "|---|---|---|\n",
       "| 18666630 | Input1          | Input          |\n",
       "| 20167924 | Input2          | Input          |\n",
       "| 23280988 | Input3          | Input          |\n",
       "| 19003938 | Input4          | Input          |\n",
       "| 15325016 | Input5          | Input          |\n",
       "| 48376253 | TFX2_AZD2906    | TFX_AZD2906    |\n",
       "| 52542517 | TFX2_AZD9567    | TFX_AZD9567    |\n",
       "| 43646484 | TFX2_CORT108297 | TFX_CORT108297 |\n",
       "| 41732268 | TFX2_CpdA       | TFX_CpdA       |\n",
       "| 43844606 | TFX2_DMSO       | TFX_DMSO       |\n",
       "\n"
      ],
      "text/plain": [
       "   Size     Sample          Group         \n",
       "1  18666630 Input1          Input         \n",
       "2  20167924 Input2          Input         \n",
       "3  23280988 Input3          Input         \n",
       "4  19003938 Input4          Input         \n",
       "5  15325016 Input5          Input         \n",
       "6  48376253 TFX2_AZD2906    TFX_AZD2906   \n",
       "7  52542517 TFX2_AZD9567    TFX_AZD9567   \n",
       "8  43646484 TFX2_CORT108297 TFX_CORT108297\n",
       "9  41732268 TFX2_CpdA       TFX_CpdA      \n",
       "10 43844606 TFX2_DMSO       TFX_DMSO      "
      ]
     },
     "metadata": {},
     "output_type": "display_data"
    }
   ],
   "source": [
    "fdiry = file.path(FD_RES, \"source\")\n",
    "fname = \"library_size.txt\"\n",
    "fpath = file.path(fdiry, fname)\n",
    "\n",
    "ctypes = c(col_integer(), col_character())\n",
    "cnames = c(\"Size\", \"Fpath\")\n",
    "dat_lib = read_tsv(fpath, col_types=ctypes, col_names = cnames)\n",
    "dat_lib = dat_lib %>% \n",
    "    mutate(Sample = tools::file_path_sans_ext(basename(Fpath))) %>%\n",
    "    mutate(Group = get_sample(Sample))\n",
    "dat_lib = dat_lib %>% dplyr::select(Size, Sample, Group)\n",
    "head(dat_lib, 10)"
   ]
  },
  {
   "cell_type": "markdown",
   "metadata": {},
   "source": [
    "## Import data"
   ]
  },
  {
   "cell_type": "code",
   "execution_count": 5,
   "metadata": {},
   "outputs": [],
   "source": [
    "### import\n",
    "ctypes = c(col_character(), col_integer(), col_integer(), col_integer(),\n",
    "           col_character(), col_integer(), col_integer(),\n",
    "           col_character(), col_double(),  col_integer(),\n",
    "           col_character())\n",
    "cnames = c(\"Chrom_Frag\", \"Start_Frag\", \"End_Frag\", \"Count_Frag\",\n",
    "           \"Chrom_MTF\",  \"Start_MTF\",  \"End_MTF\",\n",
    "           \"Motif\", \"Score\", \"Overlap\", \n",
    "           \"Sample\")"
   ]
  },
  {
   "cell_type": "code",
   "execution_count": 6,
   "metadata": {},
   "outputs": [],
   "source": [
    "### set samples\n",
    "Samples=c(\n",
    "    paste0(\"Input\", 1:5),\n",
    "    paste0(\"TFX\",   2:5, \"_DMSO\"),\n",
    "    paste0(\"TFX\",   2:5, \"_Dex\")\n",
    ")"
   ]
  },
  {
   "cell_type": "code",
   "execution_count": 7,
   "metadata": {},
   "outputs": [
    {
     "data": {
      "text/html": [
       "<table class=\"dataframe\">\n",
       "<caption>A tibble: 2 × 11</caption>\n",
       "<thead>\n",
       "\t<tr><th scope=col>Chrom_Frag</th><th scope=col>Start_Frag</th><th scope=col>End_Frag</th><th scope=col>Count_Frag</th><th scope=col>Chrom_MTF</th><th scope=col>Start_MTF</th><th scope=col>End_MTF</th><th scope=col>Motif</th><th scope=col>Score</th><th scope=col>Overlap</th><th scope=col>Sample</th></tr>\n",
       "\t<tr><th scope=col>&lt;chr&gt;</th><th scope=col>&lt;dbl&gt;</th><th scope=col>&lt;dbl&gt;</th><th scope=col>&lt;dbl&gt;</th><th scope=col>&lt;chr&gt;</th><th scope=col>&lt;dbl&gt;</th><th scope=col>&lt;dbl&gt;</th><th scope=col>&lt;chr&gt;</th><th scope=col>&lt;dbl&gt;</th><th scope=col>&lt;dbl&gt;</th><th scope=col>&lt;chr&gt;</th></tr>\n",
       "</thead>\n",
       "<tbody>\n",
       "\t<tr><td>chr21</td><td>5032566</td><td>5033537</td><td>1</td><td>chr21</td><td>5032581</td><td>5032600</td><td>ZFN121</td><td>19.3355</td><td>19</td><td>Input1</td></tr>\n",
       "\t<tr><td>chr21</td><td>5032566</td><td>5033537</td><td>1</td><td>chr21</td><td>5032583</td><td>5032600</td><td>PAX_2 </td><td>17.0397</td><td>17</td><td>Input1</td></tr>\n",
       "</tbody>\n",
       "</table>\n"
      ],
      "text/latex": [
       "A tibble: 2 × 11\n",
       "\\begin{tabular}{lllllllllll}\n",
       " Chrom\\_Frag & Start\\_Frag & End\\_Frag & Count\\_Frag & Chrom\\_MTF & Start\\_MTF & End\\_MTF & Motif & Score & Overlap & Sample\\\\\n",
       " <chr> & <dbl> & <dbl> & <dbl> & <chr> & <dbl> & <dbl> & <chr> & <dbl> & <dbl> & <chr>\\\\\n",
       "\\hline\n",
       "\t chr21 & 5032566 & 5033537 & 1 & chr21 & 5032581 & 5032600 & ZFN121 & 19.3355 & 19 & Input1\\\\\n",
       "\t chr21 & 5032566 & 5033537 & 1 & chr21 & 5032583 & 5032600 & PAX\\_2  & 17.0397 & 17 & Input1\\\\\n",
       "\\end{tabular}\n"
      ],
      "text/markdown": [
       "\n",
       "A tibble: 2 × 11\n",
       "\n",
       "| Chrom_Frag &lt;chr&gt; | Start_Frag &lt;dbl&gt; | End_Frag &lt;dbl&gt; | Count_Frag &lt;dbl&gt; | Chrom_MTF &lt;chr&gt; | Start_MTF &lt;dbl&gt; | End_MTF &lt;dbl&gt; | Motif &lt;chr&gt; | Score &lt;dbl&gt; | Overlap &lt;dbl&gt; | Sample &lt;chr&gt; |\n",
       "|---|---|---|---|---|---|---|---|---|---|---|\n",
       "| chr21 | 5032566 | 5033537 | 1 | chr21 | 5032581 | 5032600 | ZFN121 | 19.3355 | 19 | Input1 |\n",
       "| chr21 | 5032566 | 5033537 | 1 | chr21 | 5032583 | 5032600 | PAX_2  | 17.0397 | 17 | Input1 |\n",
       "\n"
      ],
      "text/plain": [
       "  Chrom_Frag Start_Frag End_Frag Count_Frag Chrom_MTF Start_MTF End_MTF Motif \n",
       "1 chr21      5032566    5033537  1          chr21     5032581   5032600 ZFN121\n",
       "2 chr21      5032566    5033537  1          chr21     5032583   5032600 PAX_2 \n",
       "  Score   Overlap Sample\n",
       "1 19.3355 19      Input1\n",
       "2 17.0397 17      Input1"
      ]
     },
     "metadata": {},
     "output_type": "display_data"
    }
   ],
   "source": [
    "fdiry = file.path(FD_RES, \"annotation_fragment\")\n",
    "fname = \"motif_annotation_chr21_095.bed\"\n",
    "fpath = file.path(fdiry, fname)\n",
    "\n",
    "dat_chr21_95 = read_tsv(fpath, col_types=ctypes)\n",
    "head(dat_chr21_95, 2)"
   ]
  },
  {
   "cell_type": "code",
   "execution_count": 8,
   "metadata": {},
   "outputs": [
    {
     "data": {
      "text/html": [
       "<style>\n",
       ".list-inline {list-style: none; margin:0; padding: 0}\n",
       ".list-inline>li {display: inline-block}\n",
       ".list-inline>li:not(:last-child)::after {content: \"\\00b7\"; padding: 0 .5ex}\n",
       "</style>\n",
       "<ol class=list-inline><li>26003205</li><li>11</li></ol>\n"
      ],
      "text/latex": [
       "\\begin{enumerate*}\n",
       "\\item 26003205\n",
       "\\item 11\n",
       "\\end{enumerate*}\n"
      ],
      "text/markdown": [
       "1. 26003205\n",
       "2. 11\n",
       "\n",
       "\n"
      ],
      "text/plain": [
       "[1] 26003205       11"
      ]
     },
     "metadata": {},
     "output_type": "display_data"
    }
   ],
   "source": [
    "dim(dat_chr21_95)"
   ]
  },
  {
   "cell_type": "markdown",
   "metadata": {},
   "source": [
    "## Preprocess"
   ]
  },
  {
   "cell_type": "code",
   "execution_count": 9,
   "metadata": {},
   "outputs": [],
   "source": [
    "dat = dat_chr21_95\n",
    "lst = dat %>% group_by(Motif) %>% group_split"
   ]
  },
  {
   "cell_type": "code",
   "execution_count": 10,
   "metadata": {},
   "outputs": [
    {
     "name": "stdout",
     "output_type": "stream",
     "text": [
      "NULL\n",
      "[1] 241\n"
     ]
    }
   ],
   "source": [
    "print(head(names(lst)))\n",
    "print(length(lst))"
   ]
  },
  {
   "cell_type": "code",
   "execution_count": 11,
   "metadata": {},
   "outputs": [
    {
     "name": "stdout",
     "output_type": "stream",
     "text": [
      "[1] \"AIRE\"   \"AP1_1\"  \"AP1_2\"  \"BATF\"   \"BCL6_1\" \"BCL6_2\"\n",
      "[1] 241\n"
     ]
    }
   ],
   "source": [
    "motifs = lapply(lst, function(dat){unique(dat$Motif)}) %>% unlist\n",
    "print(head(motifs))\n",
    "print(length(motifs))"
   ]
  },
  {
   "cell_type": "code",
   "execution_count": 12,
   "metadata": {},
   "outputs": [],
   "source": [
    "names(lst) = motifs"
   ]
  },
  {
   "cell_type": "code",
   "execution_count": 13,
   "metadata": {},
   "outputs": [
    {
     "data": {
      "text/html": [
       "<dl>\n",
       "\t<dt>$AIRE</dt>\n",
       "\t\t<dd>1278</dd>\n",
       "\t<dt>$AP1_1</dt>\n",
       "\t\t<dd>161201</dd>\n",
       "\t<dt>$AP1_2</dt>\n",
       "\t\t<dd>186241</dd>\n",
       "\t<dt>$BATF</dt>\n",
       "\t\t<dd>18322</dd>\n",
       "\t<dt>$BCL6_1</dt>\n",
       "\t\t<dd>2565</dd>\n",
       "\t<dt>$BCL6_2</dt>\n",
       "\t\t<dd>62540</dd>\n",
       "</dl>\n"
      ],
      "text/latex": [
       "\\begin{description}\n",
       "\\item[\\$AIRE] 1278\n",
       "\\item[\\$AP1\\_1] 161201\n",
       "\\item[\\$AP1\\_2] 186241\n",
       "\\item[\\$BATF] 18322\n",
       "\\item[\\$BCL6\\_1] 2565\n",
       "\\item[\\$BCL6\\_2] 62540\n",
       "\\end{description}\n"
      ],
      "text/markdown": [
       "$AIRE\n",
       ":   1278\n",
       "$AP1_1\n",
       ":   161201\n",
       "$AP1_2\n",
       ":   186241\n",
       "$BATF\n",
       ":   18322\n",
       "$BCL6_1\n",
       ":   2565\n",
       "$BCL6_2\n",
       ":   62540\n",
       "\n",
       "\n"
      ],
      "text/plain": [
       "$AIRE\n",
       "[1] 1278\n",
       "\n",
       "$AP1_1\n",
       "[1] 161201\n",
       "\n",
       "$AP1_2\n",
       "[1] 186241\n",
       "\n",
       "$BATF\n",
       "[1] 18322\n",
       "\n",
       "$BCL6_1\n",
       "[1] 2565\n",
       "\n",
       "$BCL6_2\n",
       "[1] 62540\n"
      ]
     },
     "metadata": {},
     "output_type": "display_data"
    }
   ],
   "source": [
    "lapply(lst, nrow) %>% head"
   ]
  },
  {
   "cell_type": "code",
   "execution_count": 14,
   "metadata": {},
   "outputs": [],
   "source": [
    "lst_frag = lapply(lst, function(dat){\n",
    "    tmp = dat %>% \n",
    "        dplyr::select(Chrom_Frag, Start_Frag, End_Frag, Count_Frag, Motif, Sample) %>%\n",
    "        distinct()\n",
    "    return(tmp)\n",
    "})"
   ]
  },
  {
   "cell_type": "code",
   "execution_count": 15,
   "metadata": {},
   "outputs": [
    {
     "data": {
      "text/html": [
       "<dl>\n",
       "\t<dt>$AIRE</dt>\n",
       "\t\t<dd>1278</dd>\n",
       "\t<dt>$AP1_1</dt>\n",
       "\t\t<dd>157196</dd>\n",
       "\t<dt>$AP1_2</dt>\n",
       "\t\t<dd>178665</dd>\n",
       "\t<dt>$BATF</dt>\n",
       "\t\t<dd>18249</dd>\n",
       "\t<dt>$BCL6_1</dt>\n",
       "\t\t<dd>2565</dd>\n",
       "\t<dt>$BCL6_2</dt>\n",
       "\t\t<dd>60695</dd>\n",
       "</dl>\n"
      ],
      "text/latex": [
       "\\begin{description}\n",
       "\\item[\\$AIRE] 1278\n",
       "\\item[\\$AP1\\_1] 157196\n",
       "\\item[\\$AP1\\_2] 178665\n",
       "\\item[\\$BATF] 18249\n",
       "\\item[\\$BCL6\\_1] 2565\n",
       "\\item[\\$BCL6\\_2] 60695\n",
       "\\end{description}\n"
      ],
      "text/markdown": [
       "$AIRE\n",
       ":   1278\n",
       "$AP1_1\n",
       ":   157196\n",
       "$AP1_2\n",
       ":   178665\n",
       "$BATF\n",
       ":   18249\n",
       "$BCL6_1\n",
       ":   2565\n",
       "$BCL6_2\n",
       ":   60695\n",
       "\n",
       "\n"
      ],
      "text/plain": [
       "$AIRE\n",
       "[1] 1278\n",
       "\n",
       "$AP1_1\n",
       "[1] 157196\n",
       "\n",
       "$AP1_2\n",
       "[1] 178665\n",
       "\n",
       "$BATF\n",
       "[1] 18249\n",
       "\n",
       "$BCL6_1\n",
       "[1] 2565\n",
       "\n",
       "$BCL6_2\n",
       "[1] 60695\n"
      ]
     },
     "metadata": {},
     "output_type": "display_data"
    }
   ],
   "source": [
    "lapply(lst_frag, nrow) %>% head"
   ]
  },
  {
   "cell_type": "markdown",
   "metadata": {},
   "source": [
    "## Test pick two motifs"
   ]
  },
  {
   "cell_type": "code",
   "execution_count": 25,
   "metadata": {},
   "outputs": [
    {
     "name": "stdout",
     "output_type": "stream",
     "text": [
      "   AIRE   AP1_1 \n",
      " \"AIRE\" \"AP1_1\" \n"
     ]
    }
   ],
   "source": [
    "mtf1 = motifs[1]\n",
    "mtf2 = motifs[2]\n",
    "\n",
    "df1 = lst_frag[[mtf1]]\n",
    "df2 = lst_frag[[mtf2]]\n",
    "\n",
    "print(c(mtf1, mtf2))"
   ]
  },
  {
   "cell_type": "code",
   "execution_count": 26,
   "metadata": {},
   "outputs": [],
   "source": [
    "dat1 = bind_rows(df1, df2) %>% \n",
    "    dplyr::select(Chrom_Frag, Start_Frag, End_Frag, Count_Frag, Sample) %>%\n",
    "    distinct\n",
    "\n",
    "dat2 = df1 %>% \n",
    "    dplyr::select(Chrom_Frag, Start_Frag, End_Frag, Count_Frag, Sample, Motif)\n",
    "\n",
    "dat3 = df2 %>% \n",
    "    dplyr::select(Chrom_Frag, Start_Frag, End_Frag, Count_Frag, Sample, Motif)"
   ]
  },
  {
   "cell_type": "code",
   "execution_count": 27,
   "metadata": {},
   "outputs": [
    {
     "data": {
      "text/html": [
       "<table class=\"dataframe\">\n",
       "<caption>A tibble: 6 × 10</caption>\n",
       "<thead>\n",
       "\t<tr><th scope=col>Chrom_Frag</th><th scope=col>Start_Frag</th><th scope=col>End_Frag</th><th scope=col>Count_Frag</th><th scope=col>Sample</th><th scope=col>Motif.x</th><th scope=col>Motif.y</th><th scope=col>Motif</th><th scope=col>Group</th><th scope=col>X</th></tr>\n",
       "\t<tr><th scope=col>&lt;chr&gt;</th><th scope=col>&lt;dbl&gt;</th><th scope=col>&lt;dbl&gt;</th><th scope=col>&lt;dbl&gt;</th><th scope=col>&lt;chr&gt;</th><th scope=col>&lt;chr&gt;</th><th scope=col>&lt;chr&gt;</th><th scope=col>&lt;chr&gt;</th><th scope=col>&lt;chr&gt;</th><th scope=col>&lt;chr&gt;</th></tr>\n",
       "</thead>\n",
       "<tbody>\n",
       "\t<tr><td>chr21</td><td>13342921</td><td>13343862</td><td>1</td><td>Input1</td><td>AIRE</td><td>NA</td><td>AIRE</td><td>Input</td><td>Input</td></tr>\n",
       "\t<tr><td>chr21</td><td>13342976</td><td>13343941</td><td>1</td><td>Input1</td><td>AIRE</td><td>NA</td><td>AIRE</td><td>Input</td><td>Input</td></tr>\n",
       "\t<tr><td>chr21</td><td>13343241</td><td>13344304</td><td>1</td><td>Input1</td><td>AIRE</td><td>NA</td><td>AIRE</td><td>Input</td><td>Input</td></tr>\n",
       "\t<tr><td>chr21</td><td>13343259</td><td>13344220</td><td>1</td><td>Input1</td><td>AIRE</td><td>NA</td><td>AIRE</td><td>Input</td><td>Input</td></tr>\n",
       "\t<tr><td>chr21</td><td>13343566</td><td>13344485</td><td>1</td><td>Input1</td><td>AIRE</td><td>NA</td><td>AIRE</td><td>Input</td><td>Input</td></tr>\n",
       "\t<tr><td>chr21</td><td>13343570</td><td>13344556</td><td>1</td><td>Input1</td><td>AIRE</td><td>NA</td><td>AIRE</td><td>Input</td><td>Input</td></tr>\n",
       "</tbody>\n",
       "</table>\n"
      ],
      "text/latex": [
       "A tibble: 6 × 10\n",
       "\\begin{tabular}{llllllllll}\n",
       " Chrom\\_Frag & Start\\_Frag & End\\_Frag & Count\\_Frag & Sample & Motif.x & Motif.y & Motif & Group & X\\\\\n",
       " <chr> & <dbl> & <dbl> & <dbl> & <chr> & <chr> & <chr> & <chr> & <chr> & <chr>\\\\\n",
       "\\hline\n",
       "\t chr21 & 13342921 & 13343862 & 1 & Input1 & AIRE & NA & AIRE & Input & Input\\\\\n",
       "\t chr21 & 13342976 & 13343941 & 1 & Input1 & AIRE & NA & AIRE & Input & Input\\\\\n",
       "\t chr21 & 13343241 & 13344304 & 1 & Input1 & AIRE & NA & AIRE & Input & Input\\\\\n",
       "\t chr21 & 13343259 & 13344220 & 1 & Input1 & AIRE & NA & AIRE & Input & Input\\\\\n",
       "\t chr21 & 13343566 & 13344485 & 1 & Input1 & AIRE & NA & AIRE & Input & Input\\\\\n",
       "\t chr21 & 13343570 & 13344556 & 1 & Input1 & AIRE & NA & AIRE & Input & Input\\\\\n",
       "\\end{tabular}\n"
      ],
      "text/markdown": [
       "\n",
       "A tibble: 6 × 10\n",
       "\n",
       "| Chrom_Frag &lt;chr&gt; | Start_Frag &lt;dbl&gt; | End_Frag &lt;dbl&gt; | Count_Frag &lt;dbl&gt; | Sample &lt;chr&gt; | Motif.x &lt;chr&gt; | Motif.y &lt;chr&gt; | Motif &lt;chr&gt; | Group &lt;chr&gt; | X &lt;chr&gt; |\n",
       "|---|---|---|---|---|---|---|---|---|---|\n",
       "| chr21 | 13342921 | 13343862 | 1 | Input1 | AIRE | NA | AIRE | Input | Input |\n",
       "| chr21 | 13342976 | 13343941 | 1 | Input1 | AIRE | NA | AIRE | Input | Input |\n",
       "| chr21 | 13343241 | 13344304 | 1 | Input1 | AIRE | NA | AIRE | Input | Input |\n",
       "| chr21 | 13343259 | 13344220 | 1 | Input1 | AIRE | NA | AIRE | Input | Input |\n",
       "| chr21 | 13343566 | 13344485 | 1 | Input1 | AIRE | NA | AIRE | Input | Input |\n",
       "| chr21 | 13343570 | 13344556 | 1 | Input1 | AIRE | NA | AIRE | Input | Input |\n",
       "\n"
      ],
      "text/plain": [
       "  Chrom_Frag Start_Frag End_Frag Count_Frag Sample Motif.x Motif.y Motif Group\n",
       "1 chr21      13342921   13343862 1          Input1 AIRE    NA      AIRE  Input\n",
       "2 chr21      13342976   13343941 1          Input1 AIRE    NA      AIRE  Input\n",
       "3 chr21      13343241   13344304 1          Input1 AIRE    NA      AIRE  Input\n",
       "4 chr21      13343259   13344220 1          Input1 AIRE    NA      AIRE  Input\n",
       "5 chr21      13343566   13344485 1          Input1 AIRE    NA      AIRE  Input\n",
       "6 chr21      13343570   13344556 1          Input1 AIRE    NA      AIRE  Input\n",
       "  X    \n",
       "1 Input\n",
       "2 Input\n",
       "3 Input\n",
       "4 Input\n",
       "5 Input\n",
       "6 Input"
      ]
     },
     "metadata": {},
     "output_type": "display_data"
    }
   ],
   "source": [
    "dat = dat1 %>%\n",
    "    full_join(dat2, by = c(\"Chrom_Frag\", \"Start_Frag\", \"End_Frag\", \"Count_Frag\", \"Sample\")) %>%\n",
    "    full_join(dat3, by = c(\"Chrom_Frag\", \"Start_Frag\", \"End_Frag\", \"Count_Frag\", \"Sample\")) %>%\n",
    "    mutate(Motif = paste(Motif.x, Motif.y, sep = \"_\")) %>%\n",
    "    mutate(Motif = str_remove(string=Motif, pattern=\"_NA|NA_\")) %>% \n",
    "    mutate(Group = str_remove(string = Sample, pattern = \"[0-9]\")) %>%\n",
    "    mutate(X     = paste(Group, Motif, sep=\"_\")) %>%\n",
    "    mutate(X     = ifelse(str_detect(X, \"Input\"), \"Input\", X))\n",
    "head(dat)"
   ]
  },
  {
   "cell_type": "code",
   "execution_count": 51,
   "metadata": {},
   "outputs": [
    {
     "name": "stdout",
     "output_type": "stream",
     "text": [
      "[1] 28920     2\n"
     ]
    },
    {
     "data": {
      "text/html": [
       "<table class=\"dataframe\">\n",
       "<caption>A matrix: 6 × 2 of type chr</caption>\n",
       "<tbody>\n",
       "\t<tr><td>AIRE</td><td>AP1_1     </td></tr>\n",
       "\t<tr><td>AIRE</td><td>AP1_2     </td></tr>\n",
       "\t<tr><td>AIRE</td><td>BATF      </td></tr>\n",
       "\t<tr><td>AIRE</td><td>BCL6_1    </td></tr>\n",
       "\t<tr><td>AIRE</td><td>BCL6_2    </td></tr>\n",
       "\t<tr><td>AIRE</td><td>CCAAT_CEBP</td></tr>\n",
       "</tbody>\n",
       "</table>\n"
      ],
      "text/latex": [
       "A matrix: 6 × 2 of type chr\n",
       "\\begin{tabular}{ll}\n",
       "\t AIRE & AP1\\_1     \\\\\n",
       "\t AIRE & AP1\\_2     \\\\\n",
       "\t AIRE & BATF      \\\\\n",
       "\t AIRE & BCL6\\_1    \\\\\n",
       "\t AIRE & BCL6\\_2    \\\\\n",
       "\t AIRE & CCAAT\\_CEBP\\\\\n",
       "\\end{tabular}\n"
      ],
      "text/markdown": [
       "\n",
       "A matrix: 6 × 2 of type chr\n",
       "\n",
       "| AIRE | AP1_1      |\n",
       "| AIRE | AP1_2      |\n",
       "| AIRE | BATF       |\n",
       "| AIRE | BCL6_1     |\n",
       "| AIRE | BCL6_2     |\n",
       "| AIRE | CCAAT_CEBP |\n",
       "\n"
      ],
      "text/plain": [
       "     [,1] [,2]      \n",
       "[1,] AIRE AP1_1     \n",
       "[2,] AIRE AP1_2     \n",
       "[3,] AIRE BATF      \n",
       "[4,] AIRE BCL6_1    \n",
       "[5,] AIRE BCL6_2    \n",
       "[6,] AIRE CCAAT_CEBP"
      ]
     },
     "metadata": {},
     "output_type": "display_data"
    }
   ],
   "source": [
    "dat_comb = t(combn(names(lst_frag), 2))\n",
    "#dat_comb = head(dat_comb, 3)\n",
    "print(dim(dat_comb))\n",
    "head(dat_comb)"
   ]
  },
  {
   "cell_type": "code",
   "execution_count": 52,
   "metadata": {},
   "outputs": [
    {
     "data": {
      "text/html": [
       "<dl>\n",
       "\t<dt>$`AIRE|AP1_1`</dt>\n",
       "\t\t<dd><style>\n",
       ".list-inline {list-style: none; margin:0; padding: 0}\n",
       ".list-inline>li {display: inline-block}\n",
       ".list-inline>li:not(:last-child)::after {content: \"\\00b7\"; padding: 0 .5ex}\n",
       "</style>\n",
       "<ol class=list-inline><li>'AIRE'</li><li>'AP1_1'</li></ol>\n",
       "</dd>\n",
       "\t<dt>$`AIRE|AP1_2`</dt>\n",
       "\t\t<dd><style>\n",
       ".list-inline {list-style: none; margin:0; padding: 0}\n",
       ".list-inline>li {display: inline-block}\n",
       ".list-inline>li:not(:last-child)::after {content: \"\\00b7\"; padding: 0 .5ex}\n",
       "</style>\n",
       "<ol class=list-inline><li>'AIRE'</li><li>'AP1_2'</li></ol>\n",
       "</dd>\n",
       "\t<dt>$`AIRE|BATF`</dt>\n",
       "\t\t<dd><style>\n",
       ".list-inline {list-style: none; margin:0; padding: 0}\n",
       ".list-inline>li {display: inline-block}\n",
       ".list-inline>li:not(:last-child)::after {content: \"\\00b7\"; padding: 0 .5ex}\n",
       "</style>\n",
       "<ol class=list-inline><li>'AIRE'</li><li>'BATF'</li></ol>\n",
       "</dd>\n",
       "</dl>\n"
      ],
      "text/latex": [
       "\\begin{description}\n",
       "\\item[\\$`AIRE\\textbar{}AP1\\_1`] \\begin{enumerate*}\n",
       "\\item 'AIRE'\n",
       "\\item 'AP1\\_1'\n",
       "\\end{enumerate*}\n",
       "\n",
       "\\item[\\$`AIRE\\textbar{}AP1\\_2`] \\begin{enumerate*}\n",
       "\\item 'AIRE'\n",
       "\\item 'AP1\\_2'\n",
       "\\end{enumerate*}\n",
       "\n",
       "\\item[\\$`AIRE\\textbar{}BATF`] \\begin{enumerate*}\n",
       "\\item 'AIRE'\n",
       "\\item 'BATF'\n",
       "\\end{enumerate*}\n",
       "\n",
       "\\end{description}\n"
      ],
      "text/markdown": [
       "$`AIRE|AP1_1`\n",
       ":   1. 'AIRE'\n",
       "2. 'AP1_1'\n",
       "\n",
       "\n",
       "\n",
       "$`AIRE|AP1_2`\n",
       ":   1. 'AIRE'\n",
       "2. 'AP1_2'\n",
       "\n",
       "\n",
       "\n",
       "$`AIRE|BATF`\n",
       ":   1. 'AIRE'\n",
       "2. 'BATF'\n",
       "\n",
       "\n",
       "\n",
       "\n",
       "\n"
      ],
      "text/plain": [
       "$`AIRE|AP1_1`\n",
       "[1] \"AIRE\"  \"AP1_1\"\n",
       "\n",
       "$`AIRE|AP1_2`\n",
       "[1] \"AIRE\"  \"AP1_2\"\n",
       "\n",
       "$`AIRE|BATF`\n",
       "[1] \"AIRE\" \"BATF\"\n"
      ]
     },
     "metadata": {},
     "output_type": "display_data"
    }
   ],
   "source": [
    "lst_motif_pair = split(dat_comb, seq(nrow(dat_comb)))\n",
    "names(lst_motif_pair) = lapply(\n",
    "    lst_motif_pair, function(x){\n",
    "        mtf1 = x[1]\n",
    "        mtf2 = x[2]\n",
    "        return(paste(mtf1, mtf2, sep=\"|\"))\n",
    "    } # end fun\n",
    ") # end lapply\n",
    "\n",
    "head(lst_motif_pair, 3)"
   ]
  },
  {
   "cell_type": "code",
   "execution_count": 53,
   "metadata": {},
   "outputs": [
    {
     "data": {
      "text/html": [
       "123"
      ],
      "text/latex": [
       "123"
      ],
      "text/markdown": [
       "123"
      ],
      "text/plain": [
       "[1] 123"
      ]
     },
     "metadata": {},
     "output_type": "display_data"
    }
   ],
   "source": [
    "which(motifs == \"NR_20\")"
   ]
  },
  {
   "cell_type": "code",
   "execution_count": 54,
   "metadata": {},
   "outputs": [
    {
     "data": {
      "text/html": [
       "2"
      ],
      "text/latex": [
       "2"
      ],
      "text/markdown": [
       "2"
      ],
      "text/plain": [
       "[1] 2"
      ]
     },
     "metadata": {},
     "output_type": "display_data"
    }
   ],
   "source": [
    "which(motifs == \"AP1_1\")"
   ]
  },
  {
   "cell_type": "code",
   "execution_count": 55,
   "metadata": {},
   "outputs": [],
   "source": [
    "### https://win-vector.com/2014/05/30/trimming-the-fat-from-glm-models-in-r/\n",
    "stripGlmLR = function(cm) {\n",
    "  cm$y = c()\n",
    "  cm$model = c()\n",
    "  \n",
    "  cm$residuals = c()\n",
    "  cm$fitted.values = c()\n",
    "  cm$effects = c()\n",
    "  cm$qr$qr = c()  \n",
    "  cm$linear.predictors = c()\n",
    "  cm$weights = c()\n",
    "  cm$prior.weights = c()\n",
    "  cm$data = c()\n",
    "\n",
    "  \n",
    "  cm$family$variance = c()\n",
    "  cm$family$dev.resids = c()\n",
    "  cm$family$aic = c()\n",
    "  cm$family$validmu = c()\n",
    "  cm$family$simulate = c()\n",
    "  attr(cm$terms,\".Environment\") = c()\n",
    "  attr(cm$formula,\".Environment\") = c()\n",
    "  \n",
    "  cm\n",
    "}"
   ]
  },
  {
   "cell_type": "code",
   "execution_count": 56,
   "metadata": {},
   "outputs": [],
   "source": [
    "lst_res = lapply(lst_motif_pair, function(x){\n",
    "    ### extract fragments for each motif\n",
    "    mtf1 = x[1]\n",
    "    mtf2 = x[2]\n",
    "    df1 = lst_frag[[mtf1]]\n",
    "    df2 = lst_frag[[mtf2]]\n",
    "    \n",
    "    ### extract fragments\n",
    "    dat1 = bind_rows(df1, df2) %>% \n",
    "        dplyr::select(Chrom_Frag, Start_Frag, End_Frag, Count_Frag, Sample) %>%\n",
    "        distinct\n",
    "    dat2 = df1 %>% \n",
    "        dplyr::select(Chrom_Frag, Start_Frag, End_Frag, Count_Frag, Sample, Motif)\n",
    "    dat3 = df2 %>% \n",
    "        dplyr::select(Chrom_Frag, Start_Frag, End_Frag, Count_Frag, Sample, Motif)\n",
    "    \n",
    "    ### match fragments for the motif pair\n",
    "    dat = dat1 %>%\n",
    "        full_join(dat2, by = c(\"Chrom_Frag\", \"Start_Frag\", \"End_Frag\", \"Count_Frag\", \"Sample\")) %>%\n",
    "        full_join(dat3, by = c(\"Chrom_Frag\", \"Start_Frag\", \"End_Frag\", \"Count_Frag\", \"Sample\")) %>%\n",
    "        mutate(Motif = paste(Motif.x, Motif.y, sep = \"_\")) %>%\n",
    "        mutate(Motif = str_remove(string=Motif, pattern=\"_NA|NA_\")) %>% \n",
    "        mutate(Group = str_remove(string = Sample, pattern = \"[0-9]\")) %>%\n",
    "        mutate(X     = paste(Group, Motif, sep=\"_\")) %>%\n",
    "        mutate(X     = ifelse(str_detect(X, \"Input\"), \"Input\", X))\n",
    "    \n",
    "    ### annotate fragments based on motif annotation\n",
    "    idx11 = paste(\"TFX_DMSO\", mtf1,       sep=\"_\")\n",
    "    idx12 = paste(\"TFX_DMSO\", mtf2,       sep=\"_\")\n",
    "    idx13 = paste(\"TFX_DMSO\", mtf1, mtf2, sep=\"_\")\n",
    "    idx21 = paste(\"TFX_Dex\",  mtf1,       sep=\"_\")\n",
    "    idx22 = paste(\"TFX_Dex\",  mtf2,       sep=\"_\")\n",
    "    idx23 = paste(\"TFX_Dex\",  mtf1, mtf2, sep=\"_\")\n",
    "    idxs  = c(\"Input\", idx11, idx12, idx21, idx22, idx13, idx23)\n",
    "    tmp = dat %>% \n",
    "        group_by(Sample, X) %>% \n",
    "        summarise(Value = sum(Count_Frag), .groups = 'drop')\n",
    "    \n",
    "    ### normalize counts by library size\n",
    "    tmp = tmp %>% left_join(dat_lib, by=\"Sample\")\n",
    "    tmp = tmp %>%\n",
    "        mutate(Norm_Value    = Value / Size) %>% \n",
    "        mutate(Lognorm_Value = log10(Value) - log10(Size))\n",
    "    tmp$X = factor(tmp$X, levels=idxs)\n",
    "    X = model.matrix(~X, tmp)\n",
    "    y = tmp$Norm_Value\n",
    "    \n",
    "    ### create design matrix\n",
    "    idx11 = paste(\"XTFX_DMSO\", mtf1,       sep=\"_\")\n",
    "    idx12 = paste(\"XTFX_DMSO\", mtf2,       sep=\"_\")\n",
    "    idx13 = paste(\"XTFX_DMSO\", mtf1, mtf2, sep=\"_\")\n",
    "    idx21 = paste(\"XTFX_Dex\",  mtf1,       sep=\"_\")\n",
    "    idx22 = paste(\"XTFX_Dex\",  mtf2,       sep=\"_\")\n",
    "    idx23 = paste(\"XTFX_Dex\",  mtf1, mtf2, sep=\"_\")\n",
    "    X[,idx11] = X[,idx11] + X[,idx13] + X[,idx21] + X[,idx23]\n",
    "    X[,idx12] = X[,idx12] + X[,idx13] + X[,idx22] + X[,idx23]\n",
    "    X[,idx21] = X[,idx21] + X[,idx23]\n",
    "    X[,idx22] = X[,idx22] + X[,idx23]\n",
    "    X[,idx13] = X[,idx13] + X[,idx23]\n",
    "    \n",
    "    ### fit model and get the summary\n",
    "    fit = lm(y ~ X + 0)\n",
    "    res = summary(fit)\n",
    "    res = stripGlmLR(res)\n",
    "    \n",
    "    ### reduce the memory size\n",
    "    return(res)\n",
    "})"
   ]
  },
  {
   "cell_type": "code",
   "execution_count": 57,
   "metadata": {},
   "outputs": [
    {
     "data": {
      "text/html": [
       "<table class=\"dataframe\">\n",
       "<caption>A matrix: 10 × 1</caption>\n",
       "<tbody>\n",
       "\t<tr><th scope=row>call</th><td>168</td></tr>\n",
       "\t<tr><th scope=row>terms</th><td>722</td></tr>\n",
       "\t<tr><th scope=row>coefficients</th><td>576</td></tr>\n",
       "\t<tr><th scope=row>aliased</th><td>261</td></tr>\n",
       "\t<tr><th scope=row>sigma</th><td>39</td></tr>\n",
       "\t<tr><th scope=row>df</th><td>43</td></tr>\n",
       "\t<tr><th scope=row>r.squared</th><td>39</td></tr>\n",
       "\t<tr><th scope=row>adj.r.squared</th><td>39</td></tr>\n",
       "\t<tr><th scope=row>fstatistic</th><td>127</td></tr>\n",
       "\t<tr><th scope=row>cov.unscaled</th><td>848</td></tr>\n",
       "</tbody>\n",
       "</table>\n"
      ],
      "text/latex": [
       "A matrix: 10 × 1\n",
       "\\begin{tabular}{r|l}\n",
       "\tcall & 168\\\\\n",
       "\tterms & 722\\\\\n",
       "\tcoefficients & 576\\\\\n",
       "\taliased & 261\\\\\n",
       "\tsigma & 39\\\\\n",
       "\tdf & 43\\\\\n",
       "\tr.squared & 39\\\\\n",
       "\tadj.r.squared & 39\\\\\n",
       "\tfstatistic & 127\\\\\n",
       "\tcov.unscaled & 848\\\\\n",
       "\\end{tabular}\n"
      ],
      "text/markdown": [
       "\n",
       "A matrix: 10 × 1\n",
       "\n",
       "| call | 168 |\n",
       "| terms | 722 |\n",
       "| coefficients | 576 |\n",
       "| aliased | 261 |\n",
       "| sigma | 39 |\n",
       "| df | 43 |\n",
       "| r.squared | 39 |\n",
       "| adj.r.squared | 39 |\n",
       "| fstatistic | 127 |\n",
       "| cov.unscaled | 848 |\n",
       "\n"
      ],
      "text/plain": [
       "              [,1]\n",
       "call          168 \n",
       "terms         722 \n",
       "coefficients  576 \n",
       "aliased       261 \n",
       "sigma         39  \n",
       "df            43  \n",
       "r.squared     39  \n",
       "adj.r.squared 39  \n",
       "fstatistic    127 \n",
       "cov.unscaled  848 "
      ]
     },
     "metadata": {},
     "output_type": "display_data"
    }
   ],
   "source": [
    "as.matrix(lapply(lst_res[[1]], function(x) length(serialize(x,NULL)))) "
   ]
  },
  {
   "cell_type": "code",
   "execution_count": 34,
   "metadata": {},
   "outputs": [
    {
     "data": {
      "text/html": [
       "<table class=\"dataframe\">\n",
       "<caption>A matrix: 11 × 1</caption>\n",
       "<tbody>\n",
       "\t<tr><th scope=row>call</th><td>168</td></tr>\n",
       "\t<tr><th scope=row>terms</th><td>774</td></tr>\n",
       "\t<tr><th scope=row>residuals</th><td>441</td></tr>\n",
       "\t<tr><th scope=row>coefficients</th><td>576</td></tr>\n",
       "\t<tr><th scope=row>aliased</th><td>261</td></tr>\n",
       "\t<tr><th scope=row>sigma</th><td>39</td></tr>\n",
       "\t<tr><th scope=row>df</th><td>43</td></tr>\n",
       "\t<tr><th scope=row>r.squared</th><td>39</td></tr>\n",
       "\t<tr><th scope=row>adj.r.squared</th><td>39</td></tr>\n",
       "\t<tr><th scope=row>fstatistic</th><td>127</td></tr>\n",
       "\t<tr><th scope=row>cov.unscaled</th><td>848</td></tr>\n",
       "</tbody>\n",
       "</table>\n"
      ],
      "text/latex": [
       "A matrix: 11 × 1\n",
       "\\begin{tabular}{r|l}\n",
       "\tcall & 168\\\\\n",
       "\tterms & 774\\\\\n",
       "\tresiduals & 441\\\\\n",
       "\tcoefficients & 576\\\\\n",
       "\taliased & 261\\\\\n",
       "\tsigma & 39\\\\\n",
       "\tdf & 43\\\\\n",
       "\tr.squared & 39\\\\\n",
       "\tadj.r.squared & 39\\\\\n",
       "\tfstatistic & 127\\\\\n",
       "\tcov.unscaled & 848\\\\\n",
       "\\end{tabular}\n"
      ],
      "text/markdown": [
       "\n",
       "A matrix: 11 × 1\n",
       "\n",
       "| call | 168 |\n",
       "| terms | 774 |\n",
       "| residuals | 441 |\n",
       "| coefficients | 576 |\n",
       "| aliased | 261 |\n",
       "| sigma | 39 |\n",
       "| df | 43 |\n",
       "| r.squared | 39 |\n",
       "| adj.r.squared | 39 |\n",
       "| fstatistic | 127 |\n",
       "| cov.unscaled | 848 |\n",
       "\n"
      ],
      "text/plain": [
       "              [,1]\n",
       "call          168 \n",
       "terms         774 \n",
       "residuals     441 \n",
       "coefficients  576 \n",
       "aliased       261 \n",
       "sigma         39  \n",
       "df            43  \n",
       "r.squared     39  \n",
       "adj.r.squared 39  \n",
       "fstatistic    127 \n",
       "cov.unscaled  848 "
      ]
     },
     "metadata": {},
     "output_type": "display_data"
    }
   ],
   "source": [
    "as.matrix(lapply(lst_res[[1]], function(x) length(serialize(x,NULL)))) "
   ]
  },
  {
   "cell_type": "code",
   "execution_count": 35,
   "metadata": {},
   "outputs": [
    {
     "data": {
      "text/plain": [
       "38120 bytes"
      ]
     },
     "metadata": {},
     "output_type": "display_data"
    }
   ],
   "source": [
    "object.size(lst_res)"
   ]
  },
  {
   "cell_type": "code",
   "execution_count": 39,
   "metadata": {},
   "outputs": [],
   "source": []
  },
  {
   "cell_type": "code",
   "execution_count": null,
   "metadata": {},
   "outputs": [],
   "source": [
    "rm(list  = ls(envir = attr(fit$terms, \".Environment\")), \n",
    "       envir = attr(fit$terms, \".Environment\")) \n",
    "    #res = summary(fit)\n",
    "    #return(res)"
   ]
  },
  {
   "cell_type": "code",
   "execution_count": null,
   "metadata": {},
   "outputs": [],
   "source": [
    "print(length(lst_res))\n",
    "print(head(names(lst_res)))\n",
    "cat(\"++++++++++++++++++++++++++++++++\\n\")\n",
    "tmp = lst_res[[1]]\n",
    "print(tmp)\n",
    "cat(\"++++++++++++++++++++++++++++++++\\n\")\n",
    "print(coef(tmp))"
   ]
  },
  {
   "cell_type": "code",
   "execution_count": 58,
   "metadata": {},
   "outputs": [
    {
     "name": "stdout",
     "output_type": "stream",
     "text": [
      "[1] 28920\n",
      "[1] \"AIRE|AP1_1\"      \"AIRE|AP1_2\"      \"AIRE|BATF\"       \"AIRE|BCL6_1\"    \n",
      "[5] \"AIRE|BCL6_2\"     \"AIRE|CCAAT_CEBP\"\n",
      "++++++++++++++++++++++++++++++++\n",
      "\n",
      "Call:\n",
      "lm(formula = y ~ X + 0)\n",
      "\n",
      "Residuals:\n",
      "   Min     1Q Median     3Q    Max \n",
      "    NA     NA     NA     NA     NA \n",
      "\n",
      "Coefficients:\n",
      "                        Estimate Std. Error t value Pr(>|t|)    \n",
      "X(Intercept)           3.119e-04  5.783e-06  53.933  < 2e-16 ***\n",
      "XXTFX_DMSO_AIRE       -3.084e-04  8.674e-06 -35.553  < 2e-16 ***\n",
      "XXTFX_DMSO_AP1_1       2.468e-04  8.674e-06  28.449 8.86e-16 ***\n",
      "XXTFX_Dex_AIRE        -1.502e-07  9.143e-06  -0.016  0.98708    \n",
      "XXTFX_Dex_AP1_1        8.113e-05  9.143e-06   8.873 8.66e-08 ***\n",
      "XXTFX_DMSO_AIRE_AP1_1 -2.501e-04  1.686e-05 -14.832 3.70e-11 ***\n",
      "XXTFX_Dex_AIRE_AP1_1  -8.095e-05  2.045e-05  -3.960  0.00101 ** \n",
      "---\n",
      "Signif. codes:  0 ‘***’ 0.001 ‘**’ 0.01 ‘*’ 0.05 ‘.’ 0.1 ‘ ’ 1\n",
      "\n",
      "Residual standard error: 1.293e-05 on 17 degrees of freedom\n",
      "Multiple R-squared:  0.9992,\tAdjusted R-squared:  0.9988 \n",
      "F-statistic:  2881 on 7 and 17 DF,  p-value: < 2.2e-16\n",
      "\n",
      "++++++++++++++++++++++++++++++++\n",
      "                           Estimate   Std. Error      t value     Pr(>|t|)\n",
      "X(Intercept)           3.118809e-04 5.782715e-06  53.93330004 1.893215e-20\n",
      "XXTFX_DMSO_AIRE       -3.083859e-04 8.674073e-06 -35.55261002 2.126225e-17\n",
      "XXTFX_DMSO_AP1_1       2.467645e-04 8.674073e-06  28.44851781 8.859953e-16\n",
      "XXTFX_Dex_AIRE        -1.502296e-07 9.143276e-06  -0.01643061 9.870822e-01\n",
      "XXTFX_Dex_AP1_1        8.113099e-05 9.143276e-06   8.87329620 8.662976e-08\n",
      "XXTFX_DMSO_AIRE_AP1_1 -2.500542e-04 1.685937e-05 -14.83176856 3.702467e-11\n",
      "XXTFX_Dex_AIRE_AP1_1  -8.095292e-05 2.044499e-05  -3.95954857 1.012165e-03\n"
     ]
    }
   ],
   "source": [
    "print(length(lst_res))\n",
    "print(head(names(lst_res)))\n",
    "cat(\"++++++++++++++++++++++++++++++++\\n\")\n",
    "tmp = lst_res[[1]]\n",
    "print(tmp)\n",
    "cat(\"++++++++++++++++++++++++++++++++\\n\")\n",
    "print(coef(tmp))"
   ]
  },
  {
   "cell_type": "code",
   "execution_count": 59,
   "metadata": {},
   "outputs": [
    {
     "data": {
      "text/html": [
       "'/home/mount/work/out/CombEffect_STARR'"
      ],
      "text/latex": [
       "'/home/mount/work/out/CombEffect\\_STARR'"
      ],
      "text/markdown": [
       "'/home/mount/work/out/CombEffect_STARR'"
      ],
      "text/plain": [
       "[1] \"/home/mount/work/out/CombEffect_STARR\""
      ]
     },
     "metadata": {},
     "output_type": "display_data"
    }
   ],
   "source": [
    "FD_RES"
   ]
  },
  {
   "cell_type": "code",
   "execution_count": 60,
   "metadata": {},
   "outputs": [
    {
     "data": {
      "text/html": [
       "<style>\n",
       ".list-inline {list-style: none; margin:0; padding: 0}\n",
       ".list-inline>li {display: inline-block}\n",
       ".list-inline>li:not(:last-child)::after {content: \"\\00b7\"; padding: 0 .5ex}\n",
       "</style>\n",
       "<ol class=list-inline><li>'annotation_fragment'</li><li>'annotation_segment'</li><li>'bedgraph'</li><li>'bootstrap'</li><li>'count_fragment'</li><li>'count_segment'</li><li>'coverage'</li><li>'data'</li><li>'kmer'</li><li>'log'</li><li>'model_linear'</li><li>'source'</li></ol>\n"
      ],
      "text/latex": [
       "\\begin{enumerate*}\n",
       "\\item 'annotation\\_fragment'\n",
       "\\item 'annotation\\_segment'\n",
       "\\item 'bedgraph'\n",
       "\\item 'bootstrap'\n",
       "\\item 'count\\_fragment'\n",
       "\\item 'count\\_segment'\n",
       "\\item 'coverage'\n",
       "\\item 'data'\n",
       "\\item 'kmer'\n",
       "\\item 'log'\n",
       "\\item 'model\\_linear'\n",
       "\\item 'source'\n",
       "\\end{enumerate*}\n"
      ],
      "text/markdown": [
       "1. 'annotation_fragment'\n",
       "2. 'annotation_segment'\n",
       "3. 'bedgraph'\n",
       "4. 'bootstrap'\n",
       "5. 'count_fragment'\n",
       "6. 'count_segment'\n",
       "7. 'coverage'\n",
       "8. 'data'\n",
       "9. 'kmer'\n",
       "10. 'log'\n",
       "11. 'model_linear'\n",
       "12. 'source'\n",
       "\n",
       "\n"
      ],
      "text/plain": [
       " [1] \"annotation_fragment\" \"annotation_segment\"  \"bedgraph\"           \n",
       " [4] \"bootstrap\"           \"count_fragment\"      \"count_segment\"      \n",
       " [7] \"coverage\"            \"data\"                \"kmer\"               \n",
       "[10] \"log\"                 \"model_linear\"        \"source\"             "
      ]
     },
     "metadata": {},
     "output_type": "display_data"
    }
   ],
   "source": [
    "dir(FD_RES)"
   ]
  },
  {
   "cell_type": "code",
   "execution_count": 61,
   "metadata": {},
   "outputs": [],
   "source": [
    "fdiry = file.path(FD_RES, \"model_linear\")\n",
    "fname = \"res_interactive_chr21.rds\"\n",
    "fpath = file.path(fdiry, fname)\n",
    "saveRDS(lst_res, fpath)"
   ]
  },
  {
   "cell_type": "code",
   "execution_count": null,
   "metadata": {},
   "outputs": [],
   "source": []
  }
 ],
 "metadata": {
  "kernelspec": {
   "display_name": "R (alex_py3)",
   "language": "R",
   "name": "ir_alex_py3"
  },
  "language_info": {
   "codemirror_mode": "r",
   "file_extension": ".r",
   "mimetype": "text/x-r-source",
   "name": "R",
   "pygments_lexer": "r",
   "version": "3.6.2"
  }
 },
 "nbformat": 4,
 "nbformat_minor": 4
}
