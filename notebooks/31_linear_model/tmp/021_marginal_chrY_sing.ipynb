{
 "cells": [
  {
   "cell_type": "markdown",
   "metadata": {},
   "source": [
    "# Motif marginal effect in the chromosome Y"
   ]
  },
  {
   "cell_type": "markdown",
   "metadata": {},
   "source": [
    "**Set environment**"
   ]
  },
  {
   "cell_type": "code",
   "execution_count": 2,
   "metadata": {},
   "outputs": [
    {
     "name": "stdout",
     "output_type": "stream",
     "text": [
      "[1] \"/home/mount/work\"\n",
      "[1] \"/home/mount/work/out/proj_combeffect\"\n"
     ]
    }
   ],
   "source": [
    "suppressMessages(suppressWarnings(source(\"config_sing.R\")))\n",
    "print(FD_WORK)\n",
    "print(FD_RES)"
   ]
  },
  {
   "cell_type": "markdown",
   "metadata": {},
   "source": [
    "**Check input file**"
   ]
  },
  {
   "cell_type": "code",
   "execution_count": 3,
   "metadata": {},
   "outputs": [
    {
     "data": {
      "text/html": [
       "<style>\n",
       ".list-inline {list-style: none; margin:0; padding: 0}\n",
       ".list-inline>li {display: inline-block}\n",
       ".list-inline>li:not(:last-child)::after {content: \"\\00b7\"; padding: 0 .5ex}\n",
       "</style>\n",
       "<ol class=list-inline><li>'/home/mount/work/out/proj_combeffect/annotation_fragment/filter_motif_score095/Input1_20x/chrY.bed.gz'</li><li>'/home/mount/work/out/proj_combeffect/annotation_fragment/filter_motif_score095/Input1/chrY.bed.gz'</li><li>'/home/mount/work/out/proj_combeffect/annotation_fragment/filter_motif_score095/Input2_20x/chrY.bed.gz'</li><li>'/home/mount/work/out/proj_combeffect/annotation_fragment/filter_motif_score095/Input2/chrY.bed.gz'</li><li>'/home/mount/work/out/proj_combeffect/annotation_fragment/filter_motif_score095/Input3_20x/chrY.bed.gz'</li><li>'/home/mount/work/out/proj_combeffect/annotation_fragment/filter_motif_score095/Input3/chrY.bed.gz'</li><li>'/home/mount/work/out/proj_combeffect/annotation_fragment/filter_motif_score095/Input4_20x/chrY.bed.gz'</li><li>'/home/mount/work/out/proj_combeffect/annotation_fragment/filter_motif_score095/Input4/chrY.bed.gz'</li><li>'/home/mount/work/out/proj_combeffect/annotation_fragment/filter_motif_score095/Input5_20x/chrY.bed.gz'</li><li>'/home/mount/work/out/proj_combeffect/annotation_fragment/filter_motif_score095/Input5/chrY.bed.gz'</li><li>'/home/mount/work/out/proj_combeffect/annotation_fragment/filter_motif_score095/TFX2_Dex/chrY.bed.gz'</li><li>'/home/mount/work/out/proj_combeffect/annotation_fragment/filter_motif_score095/TFX2_DMSO/chrY.bed.gz'</li><li>'/home/mount/work/out/proj_combeffect/annotation_fragment/filter_motif_score095/TFX3_Dex/chrY.bed.gz'</li><li>'/home/mount/work/out/proj_combeffect/annotation_fragment/filter_motif_score095/TFX3_DMSO/chrY.bed.gz'</li><li>'/home/mount/work/out/proj_combeffect/annotation_fragment/filter_motif_score095/TFX4_Dex/chrY.bed.gz'</li><li>'/home/mount/work/out/proj_combeffect/annotation_fragment/filter_motif_score095/TFX4_DMSO/chrY.bed.gz'</li><li>'/home/mount/work/out/proj_combeffect/annotation_fragment/filter_motif_score095/TFX5_Dex/chrY.bed.gz'</li><li>'/home/mount/work/out/proj_combeffect/annotation_fragment/filter_motif_score095/TFX5_DMSO/chrY.bed.gz'</li></ol>\n"
      ],
      "text/latex": [
       "\\begin{enumerate*}\n",
       "\\item '/home/mount/work/out/proj\\_combeffect/annotation\\_fragment/filter\\_motif\\_score095/Input1\\_20x/chrY.bed.gz'\n",
       "\\item '/home/mount/work/out/proj\\_combeffect/annotation\\_fragment/filter\\_motif\\_score095/Input1/chrY.bed.gz'\n",
       "\\item '/home/mount/work/out/proj\\_combeffect/annotation\\_fragment/filter\\_motif\\_score095/Input2\\_20x/chrY.bed.gz'\n",
       "\\item '/home/mount/work/out/proj\\_combeffect/annotation\\_fragment/filter\\_motif\\_score095/Input2/chrY.bed.gz'\n",
       "\\item '/home/mount/work/out/proj\\_combeffect/annotation\\_fragment/filter\\_motif\\_score095/Input3\\_20x/chrY.bed.gz'\n",
       "\\item '/home/mount/work/out/proj\\_combeffect/annotation\\_fragment/filter\\_motif\\_score095/Input3/chrY.bed.gz'\n",
       "\\item '/home/mount/work/out/proj\\_combeffect/annotation\\_fragment/filter\\_motif\\_score095/Input4\\_20x/chrY.bed.gz'\n",
       "\\item '/home/mount/work/out/proj\\_combeffect/annotation\\_fragment/filter\\_motif\\_score095/Input4/chrY.bed.gz'\n",
       "\\item '/home/mount/work/out/proj\\_combeffect/annotation\\_fragment/filter\\_motif\\_score095/Input5\\_20x/chrY.bed.gz'\n",
       "\\item '/home/mount/work/out/proj\\_combeffect/annotation\\_fragment/filter\\_motif\\_score095/Input5/chrY.bed.gz'\n",
       "\\item '/home/mount/work/out/proj\\_combeffect/annotation\\_fragment/filter\\_motif\\_score095/TFX2\\_Dex/chrY.bed.gz'\n",
       "\\item '/home/mount/work/out/proj\\_combeffect/annotation\\_fragment/filter\\_motif\\_score095/TFX2\\_DMSO/chrY.bed.gz'\n",
       "\\item '/home/mount/work/out/proj\\_combeffect/annotation\\_fragment/filter\\_motif\\_score095/TFX3\\_Dex/chrY.bed.gz'\n",
       "\\item '/home/mount/work/out/proj\\_combeffect/annotation\\_fragment/filter\\_motif\\_score095/TFX3\\_DMSO/chrY.bed.gz'\n",
       "\\item '/home/mount/work/out/proj\\_combeffect/annotation\\_fragment/filter\\_motif\\_score095/TFX4\\_Dex/chrY.bed.gz'\n",
       "\\item '/home/mount/work/out/proj\\_combeffect/annotation\\_fragment/filter\\_motif\\_score095/TFX4\\_DMSO/chrY.bed.gz'\n",
       "\\item '/home/mount/work/out/proj\\_combeffect/annotation\\_fragment/filter\\_motif\\_score095/TFX5\\_Dex/chrY.bed.gz'\n",
       "\\item '/home/mount/work/out/proj\\_combeffect/annotation\\_fragment/filter\\_motif\\_score095/TFX5\\_DMSO/chrY.bed.gz'\n",
       "\\end{enumerate*}\n"
      ],
      "text/markdown": [
       "1. '/home/mount/work/out/proj_combeffect/annotation_fragment/filter_motif_score095/Input1_20x/chrY.bed.gz'\n",
       "2. '/home/mount/work/out/proj_combeffect/annotation_fragment/filter_motif_score095/Input1/chrY.bed.gz'\n",
       "3. '/home/mount/work/out/proj_combeffect/annotation_fragment/filter_motif_score095/Input2_20x/chrY.bed.gz'\n",
       "4. '/home/mount/work/out/proj_combeffect/annotation_fragment/filter_motif_score095/Input2/chrY.bed.gz'\n",
       "5. '/home/mount/work/out/proj_combeffect/annotation_fragment/filter_motif_score095/Input3_20x/chrY.bed.gz'\n",
       "6. '/home/mount/work/out/proj_combeffect/annotation_fragment/filter_motif_score095/Input3/chrY.bed.gz'\n",
       "7. '/home/mount/work/out/proj_combeffect/annotation_fragment/filter_motif_score095/Input4_20x/chrY.bed.gz'\n",
       "8. '/home/mount/work/out/proj_combeffect/annotation_fragment/filter_motif_score095/Input4/chrY.bed.gz'\n",
       "9. '/home/mount/work/out/proj_combeffect/annotation_fragment/filter_motif_score095/Input5_20x/chrY.bed.gz'\n",
       "10. '/home/mount/work/out/proj_combeffect/annotation_fragment/filter_motif_score095/Input5/chrY.bed.gz'\n",
       "11. '/home/mount/work/out/proj_combeffect/annotation_fragment/filter_motif_score095/TFX2_Dex/chrY.bed.gz'\n",
       "12. '/home/mount/work/out/proj_combeffect/annotation_fragment/filter_motif_score095/TFX2_DMSO/chrY.bed.gz'\n",
       "13. '/home/mount/work/out/proj_combeffect/annotation_fragment/filter_motif_score095/TFX3_Dex/chrY.bed.gz'\n",
       "14. '/home/mount/work/out/proj_combeffect/annotation_fragment/filter_motif_score095/TFX3_DMSO/chrY.bed.gz'\n",
       "15. '/home/mount/work/out/proj_combeffect/annotation_fragment/filter_motif_score095/TFX4_Dex/chrY.bed.gz'\n",
       "16. '/home/mount/work/out/proj_combeffect/annotation_fragment/filter_motif_score095/TFX4_DMSO/chrY.bed.gz'\n",
       "17. '/home/mount/work/out/proj_combeffect/annotation_fragment/filter_motif_score095/TFX5_Dex/chrY.bed.gz'\n",
       "18. '/home/mount/work/out/proj_combeffect/annotation_fragment/filter_motif_score095/TFX5_DMSO/chrY.bed.gz'\n",
       "\n",
       "\n"
      ],
      "text/plain": [
       " [1] \"/home/mount/work/out/proj_combeffect/annotation_fragment/filter_motif_score095/Input1_20x/chrY.bed.gz\"\n",
       " [2] \"/home/mount/work/out/proj_combeffect/annotation_fragment/filter_motif_score095/Input1/chrY.bed.gz\"    \n",
       " [3] \"/home/mount/work/out/proj_combeffect/annotation_fragment/filter_motif_score095/Input2_20x/chrY.bed.gz\"\n",
       " [4] \"/home/mount/work/out/proj_combeffect/annotation_fragment/filter_motif_score095/Input2/chrY.bed.gz\"    \n",
       " [5] \"/home/mount/work/out/proj_combeffect/annotation_fragment/filter_motif_score095/Input3_20x/chrY.bed.gz\"\n",
       " [6] \"/home/mount/work/out/proj_combeffect/annotation_fragment/filter_motif_score095/Input3/chrY.bed.gz\"    \n",
       " [7] \"/home/mount/work/out/proj_combeffect/annotation_fragment/filter_motif_score095/Input4_20x/chrY.bed.gz\"\n",
       " [8] \"/home/mount/work/out/proj_combeffect/annotation_fragment/filter_motif_score095/Input4/chrY.bed.gz\"    \n",
       " [9] \"/home/mount/work/out/proj_combeffect/annotation_fragment/filter_motif_score095/Input5_20x/chrY.bed.gz\"\n",
       "[10] \"/home/mount/work/out/proj_combeffect/annotation_fragment/filter_motif_score095/Input5/chrY.bed.gz\"    \n",
       "[11] \"/home/mount/work/out/proj_combeffect/annotation_fragment/filter_motif_score095/TFX2_Dex/chrY.bed.gz\"  \n",
       "[12] \"/home/mount/work/out/proj_combeffect/annotation_fragment/filter_motif_score095/TFX2_DMSO/chrY.bed.gz\" \n",
       "[13] \"/home/mount/work/out/proj_combeffect/annotation_fragment/filter_motif_score095/TFX3_Dex/chrY.bed.gz\"  \n",
       "[14] \"/home/mount/work/out/proj_combeffect/annotation_fragment/filter_motif_score095/TFX3_DMSO/chrY.bed.gz\" \n",
       "[15] \"/home/mount/work/out/proj_combeffect/annotation_fragment/filter_motif_score095/TFX4_Dex/chrY.bed.gz\"  \n",
       "[16] \"/home/mount/work/out/proj_combeffect/annotation_fragment/filter_motif_score095/TFX4_DMSO/chrY.bed.gz\" \n",
       "[17] \"/home/mount/work/out/proj_combeffect/annotation_fragment/filter_motif_score095/TFX5_Dex/chrY.bed.gz\"  \n",
       "[18] \"/home/mount/work/out/proj_combeffect/annotation_fragment/filter_motif_score095/TFX5_DMSO/chrY.bed.gz\" "
      ]
     },
     "metadata": {},
     "output_type": "display_data"
    }
   ],
   "source": [
    "fdiry = file.path(FD_RES, \"annotation_fragment\", \"filter_motif_score095\")\n",
    "fname = \"chrY.bed.gz\"\n",
    "fglob = file.path(fdiry, \"*\", fname)\n",
    "system(paste(\"ls\", fglob), intern = TRUE)"
   ]
  },
  {
   "cell_type": "markdown",
   "metadata": {},
   "source": [
    "## Import annotated fragment"
   ]
  },
  {
   "cell_type": "code",
   "execution_count": 4,
   "metadata": {},
   "outputs": [],
   "source": [
    "### Get argument: Chromosome\n",
    "CHROM = \"chrY\""
   ]
  },
  {
   "cell_type": "code",
   "execution_count": 5,
   "metadata": {},
   "outputs": [
    {
     "name": "stdout",
     "output_type": "stream",
     "text": [
      "[1] \"/home/mount/work/out/proj_combeffect/annotation_fragment/filter_motif_score095/Input1/chrY.bed.gz\"\n",
      "[1] \"/home/mount/work/out/proj_combeffect/annotation_fragment/filter_motif_score095/Input2/chrY.bed.gz\"\n",
      "[1] \"/home/mount/work/out/proj_combeffect/annotation_fragment/filter_motif_score095/Input3/chrY.bed.gz\"\n",
      "[1] \"/home/mount/work/out/proj_combeffect/annotation_fragment/filter_motif_score095/Input4/chrY.bed.gz\"\n",
      "[1] \"/home/mount/work/out/proj_combeffect/annotation_fragment/filter_motif_score095/Input5/chrY.bed.gz\"\n",
      "[1] \"/home/mount/work/out/proj_combeffect/annotation_fragment/filter_motif_score095/Input1_20x/chrY.bed.gz\"\n",
      "[1] \"/home/mount/work/out/proj_combeffect/annotation_fragment/filter_motif_score095/Input2_20x/chrY.bed.gz\"\n",
      "[1] \"/home/mount/work/out/proj_combeffect/annotation_fragment/filter_motif_score095/Input3_20x/chrY.bed.gz\"\n",
      "[1] \"/home/mount/work/out/proj_combeffect/annotation_fragment/filter_motif_score095/Input4_20x/chrY.bed.gz\"\n",
      "[1] \"/home/mount/work/out/proj_combeffect/annotation_fragment/filter_motif_score095/Input5_20x/chrY.bed.gz\"\n",
      "[1] \"/home/mount/work/out/proj_combeffect/annotation_fragment/filter_motif_score095/TFX2_DMSO/chrY.bed.gz\"\n",
      "[1] \"/home/mount/work/out/proj_combeffect/annotation_fragment/filter_motif_score095/TFX3_DMSO/chrY.bed.gz\"\n",
      "[1] \"/home/mount/work/out/proj_combeffect/annotation_fragment/filter_motif_score095/TFX4_DMSO/chrY.bed.gz\"\n",
      "[1] \"/home/mount/work/out/proj_combeffect/annotation_fragment/filter_motif_score095/TFX5_DMSO/chrY.bed.gz\"\n",
      "[1] \"/home/mount/work/out/proj_combeffect/annotation_fragment/filter_motif_score095/TFX2_Dex/chrY.bed.gz\"\n",
      "[1] \"/home/mount/work/out/proj_combeffect/annotation_fragment/filter_motif_score095/TFX3_Dex/chrY.bed.gz\"\n",
      "[1] \"/home/mount/work/out/proj_combeffect/annotation_fragment/filter_motif_score095/TFX4_Dex/chrY.bed.gz\"\n",
      "[1] \"/home/mount/work/out/proj_combeffect/annotation_fragment/filter_motif_score095/TFX5_Dex/chrY.bed.gz\"\n",
      "185 MB\n",
      "133 MB\n"
     ]
    }
   ],
   "source": [
    "###################################################\n",
    "# Import annotated fragments\n",
    "###################################################\n",
    "\n",
    "### set column names and types\n",
    "ctypes = c(col_character(), col_integer(), col_integer(), col_integer(),\n",
    "           col_character(), col_integer(), col_integer(),\n",
    "           col_character(), col_double(),  col_integer())\n",
    "cnames = c(\"Chrom_Frag\", \"Start_Frag\", \"End_Frag\", \"Count_Frag\",\n",
    "           \"Chrom_MTF\",  \"Start_MTF\",  \"End_MTF\",\n",
    "           \"Motif\", \"Score\", \"Overlap\")\n",
    "\n",
    "### set samples\n",
    "SAMPLES = c(\n",
    "    paste0(\"Input\", 1:5),\n",
    "    paste0(\"Input\", 1:5, \"_20x\"),\n",
    "    paste0(\"TFX\",   2:5, \"_DMSO\"),\n",
    "    paste0(\"TFX\",   2:5, \"_Dex\"))\n",
    "\n",
    "### import bed files for each sample \n",
    "fdiry = file.path(FD_RES, \"annotation_fragment\", \"filter_motif_score095\")\n",
    "fname = paste0(CHROM, \".bed.gz\")\n",
    "\n",
    "lst_dat = lapply(SAMPLES, function(sam){\n",
    "    ### set path\n",
    "    fpath = file.path(fdiry, sam, fname)\n",
    "    print(fpath); flush.console()\n",
    "    \n",
    "    ### import data\n",
    "    dat = read_tsv(fpath, col_types=ctypes, col_names=cnames) %>% mutate(Sample = sam)\n",
    "    return(dat)\n",
    "})\n",
    "\n",
    "### arrange data\n",
    "dat_ann_frag = bind_rows(lst_dat)\n",
    "\n",
    "### check environment (before release variables)\n",
    "print(mem_used())\n",
    "lst_dat = NULL\n",
    "\n",
    "### check environment (after release variables)\n",
    "print(mem_used())"
   ]
  },
  {
   "cell_type": "markdown",
   "metadata": {},
   "source": [
    "## Import library size"
   ]
  },
  {
   "cell_type": "code",
   "execution_count": 6,
   "metadata": {},
   "outputs": [
    {
     "data": {
      "text/html": [
       "<table class=\"dataframe\">\n",
       "<caption>A tibble: 20 × 3</caption>\n",
       "<thead>\n",
       "\t<tr><th scope=col>Size</th><th scope=col>Sample</th><th scope=col>Group</th></tr>\n",
       "\t<tr><th scope=col>&lt;dbl&gt;</th><th scope=col>&lt;chr&gt;</th><th scope=col>&lt;chr&gt;</th></tr>\n",
       "</thead>\n",
       "<tbody>\n",
       "\t<tr><td>371718546</td><td>Input1_20x         </td><td>Input             </td></tr>\n",
       "\t<tr><td> 18666630</td><td>Input1             </td><td>Input             </td></tr>\n",
       "\t<tr><td>347635732</td><td>Input2_20x         </td><td>Input             </td></tr>\n",
       "\t<tr><td> 20167924</td><td>Input2             </td><td>Input             </td></tr>\n",
       "\t<tr><td>349994051</td><td>Input3_20x         </td><td>Input             </td></tr>\n",
       "\t<tr><td> 23280988</td><td>Input3             </td><td>Input             </td></tr>\n",
       "\t<tr><td>413508358</td><td>Input4_20x         </td><td>Input             </td></tr>\n",
       "\t<tr><td> 19003938</td><td>Input4             </td><td>Input             </td></tr>\n",
       "\t<tr><td>341110487</td><td>Input5_20x         </td><td>Input             </td></tr>\n",
       "\t<tr><td> 15325016</td><td>Input5             </td><td>Input             </td></tr>\n",
       "\t<tr><td> 48376253</td><td>TFX2_AZD2906       </td><td>TFX_AZD2906       </td></tr>\n",
       "\t<tr><td> 52542517</td><td>TFX2_AZD9567       </td><td>TFX_AZD9567       </td></tr>\n",
       "\t<tr><td> 43646484</td><td>TFX2_CORT108297    </td><td>TFX_CORT108297    </td></tr>\n",
       "\t<tr><td> 41732268</td><td>TFX2_CpdA          </td><td>TFX_CpdA          </td></tr>\n",
       "\t<tr><td> 45413539</td><td>TFX2_Dex           </td><td>TFX_Dex           </td></tr>\n",
       "\t<tr><td> 43844606</td><td>TFX2_DMSO          </td><td>TFX_DMSO          </td></tr>\n",
       "\t<tr><td> 56207769</td><td>TFX2_GW870086      </td><td>TFX_GW870086      </td></tr>\n",
       "\t<tr><td> 47829936</td><td>TFX2_Hydrocortisone</td><td>TFX_Hydrocortisone</td></tr>\n",
       "\t<tr><td> 38120420</td><td>TFX2_Mapracorat    </td><td>TFX_Mapracorat    </td></tr>\n",
       "\t<tr><td> 47687319</td><td>TFX2_RU486         </td><td>TFX_RU486         </td></tr>\n",
       "</tbody>\n",
       "</table>\n"
      ],
      "text/latex": [
       "A tibble: 20 × 3\n",
       "\\begin{tabular}{lll}\n",
       " Size & Sample & Group\\\\\n",
       " <dbl> & <chr> & <chr>\\\\\n",
       "\\hline\n",
       "\t 371718546 & Input1\\_20x          & Input             \\\\\n",
       "\t  18666630 & Input1              & Input             \\\\\n",
       "\t 347635732 & Input2\\_20x          & Input             \\\\\n",
       "\t  20167924 & Input2              & Input             \\\\\n",
       "\t 349994051 & Input3\\_20x          & Input             \\\\\n",
       "\t  23280988 & Input3              & Input             \\\\\n",
       "\t 413508358 & Input4\\_20x          & Input             \\\\\n",
       "\t  19003938 & Input4              & Input             \\\\\n",
       "\t 341110487 & Input5\\_20x          & Input             \\\\\n",
       "\t  15325016 & Input5              & Input             \\\\\n",
       "\t  48376253 & TFX2\\_AZD2906        & TFX\\_AZD2906       \\\\\n",
       "\t  52542517 & TFX2\\_AZD9567        & TFX\\_AZD9567       \\\\\n",
       "\t  43646484 & TFX2\\_CORT108297     & TFX\\_CORT108297    \\\\\n",
       "\t  41732268 & TFX2\\_CpdA           & TFX\\_CpdA          \\\\\n",
       "\t  45413539 & TFX2\\_Dex            & TFX\\_Dex           \\\\\n",
       "\t  43844606 & TFX2\\_DMSO           & TFX\\_DMSO          \\\\\n",
       "\t  56207769 & TFX2\\_GW870086       & TFX\\_GW870086      \\\\\n",
       "\t  47829936 & TFX2\\_Hydrocortisone & TFX\\_Hydrocortisone\\\\\n",
       "\t  38120420 & TFX2\\_Mapracorat     & TFX\\_Mapracorat    \\\\\n",
       "\t  47687319 & TFX2\\_RU486          & TFX\\_RU486         \\\\\n",
       "\\end{tabular}\n"
      ],
      "text/markdown": [
       "\n",
       "A tibble: 20 × 3\n",
       "\n",
       "| Size &lt;dbl&gt; | Sample &lt;chr&gt; | Group &lt;chr&gt; |\n",
       "|---|---|---|\n",
       "| 371718546 | Input1_20x          | Input              |\n",
       "|  18666630 | Input1              | Input              |\n",
       "| 347635732 | Input2_20x          | Input              |\n",
       "|  20167924 | Input2              | Input              |\n",
       "| 349994051 | Input3_20x          | Input              |\n",
       "|  23280988 | Input3              | Input              |\n",
       "| 413508358 | Input4_20x          | Input              |\n",
       "|  19003938 | Input4              | Input              |\n",
       "| 341110487 | Input5_20x          | Input              |\n",
       "|  15325016 | Input5              | Input              |\n",
       "|  48376253 | TFX2_AZD2906        | TFX_AZD2906        |\n",
       "|  52542517 | TFX2_AZD9567        | TFX_AZD9567        |\n",
       "|  43646484 | TFX2_CORT108297     | TFX_CORT108297     |\n",
       "|  41732268 | TFX2_CpdA           | TFX_CpdA           |\n",
       "|  45413539 | TFX2_Dex            | TFX_Dex            |\n",
       "|  43844606 | TFX2_DMSO           | TFX_DMSO           |\n",
       "|  56207769 | TFX2_GW870086       | TFX_GW870086       |\n",
       "|  47829936 | TFX2_Hydrocortisone | TFX_Hydrocortisone |\n",
       "|  38120420 | TFX2_Mapracorat     | TFX_Mapracorat     |\n",
       "|  47687319 | TFX2_RU486          | TFX_RU486          |\n",
       "\n"
      ],
      "text/plain": [
       "   Size      Sample              Group             \n",
       "1  371718546 Input1_20x          Input             \n",
       "2   18666630 Input1              Input             \n",
       "3  347635732 Input2_20x          Input             \n",
       "4   20167924 Input2              Input             \n",
       "5  349994051 Input3_20x          Input             \n",
       "6   23280988 Input3              Input             \n",
       "7  413508358 Input4_20x          Input             \n",
       "8   19003938 Input4              Input             \n",
       "9  341110487 Input5_20x          Input             \n",
       "10  15325016 Input5              Input             \n",
       "11  48376253 TFX2_AZD2906        TFX_AZD2906       \n",
       "12  52542517 TFX2_AZD9567        TFX_AZD9567       \n",
       "13  43646484 TFX2_CORT108297     TFX_CORT108297    \n",
       "14  41732268 TFX2_CpdA           TFX_CpdA          \n",
       "15  45413539 TFX2_Dex            TFX_Dex           \n",
       "16  43844606 TFX2_DMSO           TFX_DMSO          \n",
       "17  56207769 TFX2_GW870086       TFX_GW870086      \n",
       "18  47829936 TFX2_Hydrocortisone TFX_Hydrocortisone\n",
       "19  38120420 TFX2_Mapracorat     TFX_Mapracorat    \n",
       "20  47687319 TFX2_RU486          TFX_RU486         "
      ]
     },
     "metadata": {},
     "output_type": "display_data"
    }
   ],
   "source": [
    "###################################################\n",
    "# Import library size\n",
    "###################################################\n",
    "\n",
    "### Helper function to get\n",
    "get_group = function(idn_sample){\n",
    "    idn = idn_sample\n",
    "    \n",
    "    idn = str_replace(\n",
    "        string = idn, \n",
    "        pattern = \"Input[0-9]\", \n",
    "        replacement = \"Input\")\n",
    "    \n",
    "    idn = str_remove(\n",
    "        string = idn, \n",
    "        pattern = \"_20x\")\n",
    "    \n",
    "    idn = str_replace(\n",
    "        string = idn, \n",
    "        pattern = \"TFX[0-9]_\", \n",
    "        replacement=\"TFX_\")\n",
    "    return(idn)\n",
    "}\n",
    "\n",
    "### set path\n",
    "fdiry = file.path(FD_RES, \"source\")\n",
    "fname = \"library_size.txt\"\n",
    "fpath = file.path(fdiry, fname)\n",
    "\n",
    "### import library size\n",
    "ctypes = c(col_integer(), col_character())\n",
    "cnames = c(\"Size\", \"FPath\")\n",
    "dat_lib = read_tsv(fpath, col_types=ctypes, col_names = cnames)\n",
    "\n",
    "### remove the total size\n",
    "dat_lib = dat_lib %>% dplyr::filter(FPath != \"total\")\n",
    "\n",
    "### summarize info from the file path\n",
    "### stackoverflow: Extract only folder name right before filename from full path\n",
    "dat_lib = dat_lib %>% \n",
    "    #mutate(Sample = tools::file_path_sans_ext(basename(FPath))) %>%\n",
    "    mutate(Sample = basename(dirname(FPath))) %>%\n",
    "    mutate(Group = get_group(Sample))\n",
    "dat_lib = dat_lib %>% dplyr::select(Size, Sample, Group)\n",
    "dat_lib %>% head(20)"
   ]
  },
  {
   "cell_type": "markdown",
   "metadata": {},
   "source": [
    "## Preprocess\n",
    "* Filter: at least 10 fragments for a motif\n",
    "* Filter: fully cover the motif"
   ]
  },
  {
   "cell_type": "code",
   "execution_count": 11,
   "metadata": {},
   "outputs": [
    {
     "name": "stdout",
     "output_type": "stream",
     "text": [
      "+++++ Preprocess +++++\n",
      "Filtering: fully cover the motif\n",
      "    Before Filter: #Motif = 220 #Annot = 593724 \n",
      "    After  Filter: #Motif = 220 #Annot = 551520 \n",
      "Filtering: filter out motifs with low fragments\n",
      "    Threshold: 10 \n",
      "    Before Filter: #Motif = 220 \n",
      "    After  Filter: #Motif = 194 \n"
     ]
    }
   ],
   "source": [
    "###################################################\n",
    "# Preprocess\n",
    "###################################################\n",
    "cat(\"+++++ Preprocess +++++\\n\")\n",
    "\n",
    "### Filter: fully cover the motif\n",
    "dat = dat_ann_frag\n",
    "dat = dat %>% \n",
    "    mutate(Length_MTF = End_MTF - Start_MTF) %>%\n",
    "    mutate(Length_Dif = Length_MTF - Overlap)\n",
    "\n",
    "cat(\"Filtering: fully cover the motif\\n\")\n",
    "cat(\"    Before Filter:\", \"#Motif =\", length(unique(dat$Motif)), \"#Annot =\", nrow(dat), \"\\n\")\n",
    "dat = dat %>% dplyr::filter(Length_Dif == 0)\n",
    "cat(\"    After  Filter:\", \"#Motif =\", length(unique(dat$Motif)), \"#Annot =\", nrow(dat), \"\\n\")\n",
    "\n",
    "### grouped by motif cluster and \n",
    "### split the annotated fragments into list\n",
    "lst    = dat %>% group_by(Motif) %>% group_split\n",
    "motifs = lapply(lst, function(x){unique(x$Motif)}) %>% unlist\n",
    "names(lst) = motifs\n",
    "\n",
    "### get the list\n",
    "lst_frag = lapply(lst, function(dat){\n",
    "    tmp = dat %>% \n",
    "        group_by(Chrom_Frag, Start_Frag, End_Frag, Count_Frag, Motif, Sample) %>%\n",
    "        summarize(N_Motif = n(), .groups = 'drop')\n",
    "    return(tmp)\n",
    "})\n",
    "\n",
    "### filter out motifs that have almost no/low fragment in total\n",
    "THRESHOLD = 10\n",
    "cat(\"Filtering: filter out motifs with low fragments\\n\")\n",
    "cat(\"    Threshold:\", THRESHOLD, \"\\n\")\n",
    "cat(\"    Before Filter:\", \"#Motif =\", length(lst_frag), \"\\n\")\n",
    "\n",
    "lst = lst_frag\n",
    "cnt = lapply(lst, function(dat){sum(dat$Count_Frag)})\n",
    "lst = lst[cnt > 10]\n",
    "lst_frag = lst\n",
    "\n",
    "cat(\"    After  Filter:\", \"#Motif =\", length(lst_frag), \"\\n\")"
   ]
  },
  {
   "cell_type": "markdown",
   "metadata": {},
   "source": [
    "### EDA: Filter: fully cover the motif"
   ]
  },
  {
   "cell_type": "code",
   "execution_count": 18,
   "metadata": {},
   "outputs": [],
   "source": [
    "dat = dat_ann_frag\n",
    "dat = dat %>% \n",
    "    mutate(Length_MTF = End_MTF - Start_MTF) %>%\n",
    "    mutate(Length_Dif = Length_MTF - Overlap)"
   ]
  },
  {
   "cell_type": "code",
   "execution_count": 19,
   "metadata": {},
   "outputs": [
    {
     "name": "stderr",
     "output_type": "stream",
     "text": [
      "Warning message:\n",
      "“Transformation introduced infinite values in continuous y-axis”\n",
      "Warning message:\n",
      "“Removed 1023 rows containing missing values (geom_bar).”\n"
     ]
    },
    {
     "data": {
      "image/png": "[encoded data removed]",
      "text/plain": [
       "plot without title"
      ]
     },
     "metadata": {
      "image/png": {
       "height": 180,
       "width": 300
      }
     },
     "output_type": "display_data"
    }
   ],
   "source": [
    "gpt = ggplot(dat, aes(x=Length_Dif)) + \n",
    "    geom_histogram(binwidth = 1) + \n",
    "    labs(x = \"Length Difference\", y = \"Count\") +\n",
    "    scale_y_log10() +\n",
    "    theme_cowplot() + \n",
    "    background_grid()\n",
    "\n",
    "options(repr.plot.height=3, repr.plot.width=5)\n",
    "print(gpt)"
   ]
  },
  {
   "cell_type": "code",
   "execution_count": 20,
   "metadata": {},
   "outputs": [
    {
     "data": {
      "image/png": "[encoded data removed]",
      "text/plain": [
       "plot without title"
      ]
     },
     "metadata": {
      "image/png": {
       "height": 300,
       "width": 300
      }
     },
     "output_type": "display_data"
    }
   ],
   "source": [
    "set.seed(123)\n",
    "tmp = dat %>% dplyr::sample_n(100000)\n",
    "gpt = ggplot(tmp, aes(x=Length_MTF, y=Overlap)) + \n",
    "    geom_point(size=1) + \n",
    "    geom_abline(slope = 1, intercept = 0, color=\"grey50\") +\n",
    "    labs(x = \"Motif Length\", y = \"Overlap\") +\n",
    "    theme_cowplot() + \n",
    "    background_grid()\n",
    "\n",
    "options(repr.plot.height=5, repr.plot.width=5)\n",
    "print(gpt)"
   ]
  },
  {
   "cell_type": "markdown",
   "metadata": {},
   "source": [
    "### EDA: filter motif with no fragment"
   ]
  },
  {
   "cell_type": "code",
   "execution_count": 12,
   "metadata": {},
   "outputs": [
    {
     "data": {
      "text/plain": [
       "    Min.  1st Qu.   Median     Mean  3rd Qu.     Max. \n",
       "    1.00    40.75   570.50  2529.68  3390.25 47849.00 "
      ]
     },
     "metadata": {},
     "output_type": "display_data"
    }
   ],
   "source": [
    "summary(unlist(cnt))"
   ]
  },
  {
   "cell_type": "code",
   "execution_count": 16,
   "metadata": {},
   "outputs": [
    {
     "name": "stderr",
     "output_type": "stream",
     "text": [
      "`stat_bin()` using `bins = 30`. Pick better value with `binwidth`.\n",
      "\n"
     ]
    },
    {
     "data": {
      "image/png": "[encoded data removed]",
      "text/plain": [
       "plot without title"
      ]
     },
     "metadata": {
      "image/png": {
       "height": 180,
       "width": 300
      }
     },
     "output_type": "display_data"
    }
   ],
   "source": [
    "options(repr.plot.height=3, repr.plot.width=5)\n",
    "qplot(x=unlist(cnt)) + \n",
    "    scale_x_log10() + \n",
    "    labs(x=\"#Fragment on each motif\", y=\"Count\") +\n",
    "    theme_cowplot() + \n",
    "    background_grid()"
   ]
  },
  {
   "cell_type": "markdown",
   "metadata": {},
   "source": [
    "## Cofounding factors"
   ]
  },
  {
   "cell_type": "code",
   "execution_count": 21,
   "metadata": {},
   "outputs": [
    {
     "data": {
      "text/html": [
       "<style>\n",
       ".list-inline {list-style: none; margin:0; padding: 0}\n",
       ".list-inline>li {display: inline-block}\n",
       ".list-inline>li:not(:last-child)::after {content: \"\\00b7\"; padding: 0 .5ex}\n",
       "</style>\n",
       "<ol class=list-inline><li>'AP1/1'</li><li>'AP1/2'</li><li>'BATF'</li><li>'BCL6/2'</li><li>'CCAAT/CEBP'</li><li>'CENBP'</li></ol>\n"
      ],
      "text/latex": [
       "\\begin{enumerate*}\n",
       "\\item 'AP1/1'\n",
       "\\item 'AP1/2'\n",
       "\\item 'BATF'\n",
       "\\item 'BCL6/2'\n",
       "\\item 'CCAAT/CEBP'\n",
       "\\item 'CENBP'\n",
       "\\end{enumerate*}\n"
      ],
      "text/markdown": [
       "1. 'AP1/1'\n",
       "2. 'AP1/2'\n",
       "3. 'BATF'\n",
       "4. 'BCL6/2'\n",
       "5. 'CCAAT/CEBP'\n",
       "6. 'CENBP'\n",
       "\n",
       "\n"
      ],
      "text/plain": [
       "[1] \"AP1/1\"      \"AP1/2\"      \"BATF\"       \"BCL6/2\"     \"CCAAT/CEBP\"\n",
       "[6] \"CENBP\"     "
      ]
     },
     "metadata": {},
     "output_type": "display_data"
    }
   ],
   "source": [
    "head(names(lst_frag))"
   ]
  },
  {
   "cell_type": "code",
   "execution_count": 23,
   "metadata": {},
   "outputs": [
    {
     "data": {
      "text/html": [
       "<table class=\"dataframe\">\n",
       "<caption>A tibble: 3 × 7</caption>\n",
       "<thead>\n",
       "\t<tr><th scope=col>Chrom_Frag</th><th scope=col>Start_Frag</th><th scope=col>End_Frag</th><th scope=col>Count_Frag</th><th scope=col>Motif</th><th scope=col>Sample</th><th scope=col>N_Motif</th></tr>\n",
       "\t<tr><th scope=col>&lt;chr&gt;</th><th scope=col>&lt;dbl&gt;</th><th scope=col>&lt;dbl&gt;</th><th scope=col>&lt;dbl&gt;</th><th scope=col>&lt;chr&gt;</th><th scope=col>&lt;chr&gt;</th><th scope=col>&lt;int&gt;</th></tr>\n",
       "</thead>\n",
       "<tbody>\n",
       "\t<tr><td>chrY</td><td>4589108</td><td>4590120</td><td>1</td><td>NR/20</td><td>TFX2_Dex  </td><td>1</td></tr>\n",
       "\t<tr><td>chrY</td><td>5797445</td><td>5798466</td><td>1</td><td>NR/20</td><td>TFX3_Dex  </td><td>1</td></tr>\n",
       "\t<tr><td>chrY</td><td>5797578</td><td>5798454</td><td>1</td><td>NR/20</td><td>Input1_20x</td><td>1</td></tr>\n",
       "</tbody>\n",
       "</table>\n"
      ],
      "text/latex": [
       "A tibble: 3 × 7\n",
       "\\begin{tabular}{lllllll}\n",
       " Chrom\\_Frag & Start\\_Frag & End\\_Frag & Count\\_Frag & Motif & Sample & N\\_Motif\\\\\n",
       " <chr> & <dbl> & <dbl> & <dbl> & <chr> & <chr> & <int>\\\\\n",
       "\\hline\n",
       "\t chrY & 4589108 & 4590120 & 1 & NR/20 & TFX2\\_Dex   & 1\\\\\n",
       "\t chrY & 5797445 & 5798466 & 1 & NR/20 & TFX3\\_Dex   & 1\\\\\n",
       "\t chrY & 5797578 & 5798454 & 1 & NR/20 & Input1\\_20x & 1\\\\\n",
       "\\end{tabular}\n"
      ],
      "text/markdown": [
       "\n",
       "A tibble: 3 × 7\n",
       "\n",
       "| Chrom_Frag &lt;chr&gt; | Start_Frag &lt;dbl&gt; | End_Frag &lt;dbl&gt; | Count_Frag &lt;dbl&gt; | Motif &lt;chr&gt; | Sample &lt;chr&gt; | N_Motif &lt;int&gt; |\n",
       "|---|---|---|---|---|---|---|\n",
       "| chrY | 4589108 | 4590120 | 1 | NR/20 | TFX2_Dex   | 1 |\n",
       "| chrY | 5797445 | 5798466 | 1 | NR/20 | TFX3_Dex   | 1 |\n",
       "| chrY | 5797578 | 5798454 | 1 | NR/20 | Input1_20x | 1 |\n",
       "\n"
      ],
      "text/plain": [
       "  Chrom_Frag Start_Frag End_Frag Count_Frag Motif Sample     N_Motif\n",
       "1 chrY       4589108    4590120  1          NR/20 TFX2_Dex   1      \n",
       "2 chrY       5797445    5798466  1          NR/20 TFX3_Dex   1      \n",
       "3 chrY       5797578    5798454  1          NR/20 Input1_20x 1      "
      ]
     },
     "metadata": {},
     "output_type": "display_data"
    }
   ],
   "source": [
    "dat = lst_frag[[\"NR/20\"]]\n",
    "head(dat, 3)"
   ]
  },
  {
   "cell_type": "code",
   "execution_count": 24,
   "metadata": {},
   "outputs": [
    {
     "data": {
      "text/plain": [
       "\n",
       "  1   2 \n",
       "114   8 "
      ]
     },
     "metadata": {},
     "output_type": "display_data"
    }
   ],
   "source": [
    "table(dat$N_Motif)"
   ]
  },
  {
   "cell_type": "code",
   "execution_count": 25,
   "metadata": {},
   "outputs": [
    {
     "data": {
      "image/png": "[encoded data removed]",
      "text/plain": [
       "plot without title"
      ]
     },
     "metadata": {
      "image/png": {
       "height": 480,
       "width": 900
      }
     },
     "output_type": "display_data"
    }
   ],
   "source": [
    "options(repr.plot.height=8, repr.plot.width=15)\n",
    "tmp = dat %>% mutate(N_Motif = as.character(N_Motif))\n",
    "gpt = ggplot(tmp, aes(x=Count_Frag, group=N_Motif, color=N_Motif, fill=N_Motif)) + \n",
    "    geom_histogram(binwidth=1, alpha=0.5, position = 'identity') +\n",
    "    #scale_y_log10() +\n",
    "    #expand_limits(y=0) +\n",
    "    theme_cowplot() + \n",
    "    background_grid() +\n",
    "    facet_wrap(~Sample, scale=\"free_y\")\n",
    "print(gpt)"
   ]
  },
  {
   "cell_type": "markdown",
   "metadata": {},
   "source": [
    "## Set up linear model"
   ]
  },
  {
   "cell_type": "code",
   "execution_count": 26,
   "metadata": {},
   "outputs": [],
   "source": [
    "### Helper function\n",
    "### https://win-vector.com/2014/05/30/trimming-the-fat-from-glm-models-in-r/\n",
    "stripGlmLR = function(cm) {\n",
    "  cm$y = c()\n",
    "  cm$model = c()\n",
    "  \n",
    "  cm$residuals = c()\n",
    "  cm$fitted.values = c()\n",
    "  cm$effects = c()\n",
    "  cm$qr$qr = c()  \n",
    "  cm$linear.predictors = c()\n",
    "  cm$weights = c()\n",
    "  cm$prior.weights = c()\n",
    "  cm$data = c()\n",
    "\n",
    "  cm$family$variance = c()\n",
    "  cm$family$dev.resids = c()\n",
    "  cm$family$aic = c()\n",
    "  cm$family$validmu = c()\n",
    "  cm$family$simulate = c()\n",
    "  attr(cm$terms,\".Environment\") = c()\n",
    "  attr(cm$formula,\".Environment\") = c()\n",
    "  \n",
    "  return(cm)\n",
    "}"
   ]
  },
  {
   "cell_type": "code",
   "execution_count": 27,
   "metadata": {},
   "outputs": [],
   "source": [
    "### set samples\n",
    "SAMPLES0 = c(\n",
    "    paste0(\"Input\", 1:5),\n",
    "    paste0(\"Input\", 1:5, \"_20x\"),\n",
    "    paste0(\"TFX\",   2:5, \"_DMSO\"),\n",
    "    paste0(\"TFX\",   2:5, \"_Dex\"))\n",
    "\n",
    "SAMPLES1 = c(\n",
    "    paste0(\"Input\", 1:5),\n",
    "    paste0(\"TFX\",   2:5, \"_DMSO\"),\n",
    "    paste0(\"TFX\",   2:5, \"_Dex\"))\n",
    "\n",
    "SAMPLES2 = c(\n",
    "    paste0(\"Input\", 1:5, \"_20x\"),\n",
    "    paste0(\"TFX\",   2:5, \"_DMSO\"),\n",
    "    paste0(\"TFX\",   2:5, \"_Dex\"))"
   ]
  },
  {
   "cell_type": "code",
   "execution_count": 28,
   "metadata": {},
   "outputs": [
    {
     "data": {
      "text/html": [
       "<style>\n",
       ".list-inline {list-style: none; margin:0; padding: 0}\n",
       ".list-inline>li {display: inline-block}\n",
       ".list-inline>li:not(:last-child)::after {content: \"\\00b7\"; padding: 0 .5ex}\n",
       "</style>\n",
       "<ol class=list-inline><li>'example'</li><li>'fit_interactive_target_PER1.rds'</li><li>'fit_marginal_target_PER1.rds'</li><li>'res_interactive_chr17.rds'</li><li>'res_interactive_chr17.tsv'</li><li>'res_interactive_chr20.rds'</li><li>'res_interactive_chr20.tsv'</li><li>'res_interactive_chr21.rds'</li><li>'res_interactive_chr21.tsv'</li><li>'res_interactive_chr22.rds'</li><li>'res_interactive_chrX.rds'</li><li>'res_interactive_chrX.tsv'</li><li>'res_interactive_chrY.rds'</li><li>'res_interactive_target_PER1.rds'</li><li>'res_marginal_chr13.rds'</li><li>'res_marginal_chr14.rds'</li><li>'res_marginal_chr15.rds'</li><li>'res_marginal_chr17.rds'</li><li>'res_marginal_chr17.tsv'</li><li>'res_marginal_chr18.rds'</li><li>'res_marginal_chr20.rds'</li><li>'res_marginal_chr20.tsv'</li><li>'res_marginal_chr21.rds'</li><li>'res_marginal_chr21.tsv'</li><li>'res_marginal_chr4.rds'</li><li>'res_marginal_chrX.rds'</li><li>'res_marginal_chrX.tsv'</li><li>'res_marginal_chrY.rds'</li><li>'target_PER1'</li></ol>\n"
      ],
      "text/latex": [
       "\\begin{enumerate*}\n",
       "\\item 'example'\n",
       "\\item 'fit\\_interactive\\_target\\_PER1.rds'\n",
       "\\item 'fit\\_marginal\\_target\\_PER1.rds'\n",
       "\\item 'res\\_interactive\\_chr17.rds'\n",
       "\\item 'res\\_interactive\\_chr17.tsv'\n",
       "\\item 'res\\_interactive\\_chr20.rds'\n",
       "\\item 'res\\_interactive\\_chr20.tsv'\n",
       "\\item 'res\\_interactive\\_chr21.rds'\n",
       "\\item 'res\\_interactive\\_chr21.tsv'\n",
       "\\item 'res\\_interactive\\_chr22.rds'\n",
       "\\item 'res\\_interactive\\_chrX.rds'\n",
       "\\item 'res\\_interactive\\_chrX.tsv'\n",
       "\\item 'res\\_interactive\\_chrY.rds'\n",
       "\\item 'res\\_interactive\\_target\\_PER1.rds'\n",
       "\\item 'res\\_marginal\\_chr13.rds'\n",
       "\\item 'res\\_marginal\\_chr14.rds'\n",
       "\\item 'res\\_marginal\\_chr15.rds'\n",
       "\\item 'res\\_marginal\\_chr17.rds'\n",
       "\\item 'res\\_marginal\\_chr17.tsv'\n",
       "\\item 'res\\_marginal\\_chr18.rds'\n",
       "\\item 'res\\_marginal\\_chr20.rds'\n",
       "\\item 'res\\_marginal\\_chr20.tsv'\n",
       "\\item 'res\\_marginal\\_chr21.rds'\n",
       "\\item 'res\\_marginal\\_chr21.tsv'\n",
       "\\item 'res\\_marginal\\_chr4.rds'\n",
       "\\item 'res\\_marginal\\_chrX.rds'\n",
       "\\item 'res\\_marginal\\_chrX.tsv'\n",
       "\\item 'res\\_marginal\\_chrY.rds'\n",
       "\\item 'target\\_PER1'\n",
       "\\end{enumerate*}\n"
      ],
      "text/markdown": [
       "1. 'example'\n",
       "2. 'fit_interactive_target_PER1.rds'\n",
       "3. 'fit_marginal_target_PER1.rds'\n",
       "4. 'res_interactive_chr17.rds'\n",
       "5. 'res_interactive_chr17.tsv'\n",
       "6. 'res_interactive_chr20.rds'\n",
       "7. 'res_interactive_chr20.tsv'\n",
       "8. 'res_interactive_chr21.rds'\n",
       "9. 'res_interactive_chr21.tsv'\n",
       "10. 'res_interactive_chr22.rds'\n",
       "11. 'res_interactive_chrX.rds'\n",
       "12. 'res_interactive_chrX.tsv'\n",
       "13. 'res_interactive_chrY.rds'\n",
       "14. 'res_interactive_target_PER1.rds'\n",
       "15. 'res_marginal_chr13.rds'\n",
       "16. 'res_marginal_chr14.rds'\n",
       "17. 'res_marginal_chr15.rds'\n",
       "18. 'res_marginal_chr17.rds'\n",
       "19. 'res_marginal_chr17.tsv'\n",
       "20. 'res_marginal_chr18.rds'\n",
       "21. 'res_marginal_chr20.rds'\n",
       "22. 'res_marginal_chr20.tsv'\n",
       "23. 'res_marginal_chr21.rds'\n",
       "24. 'res_marginal_chr21.tsv'\n",
       "25. 'res_marginal_chr4.rds'\n",
       "26. 'res_marginal_chrX.rds'\n",
       "27. 'res_marginal_chrX.tsv'\n",
       "28. 'res_marginal_chrY.rds'\n",
       "29. 'target_PER1'\n",
       "\n",
       "\n"
      ],
      "text/plain": [
       " [1] \"example\"                         \"fit_interactive_target_PER1.rds\"\n",
       " [3] \"fit_marginal_target_PER1.rds\"    \"res_interactive_chr17.rds\"      \n",
       " [5] \"res_interactive_chr17.tsv\"       \"res_interactive_chr20.rds\"      \n",
       " [7] \"res_interactive_chr20.tsv\"       \"res_interactive_chr21.rds\"      \n",
       " [9] \"res_interactive_chr21.tsv\"       \"res_interactive_chr22.rds\"      \n",
       "[11] \"res_interactive_chrX.rds\"        \"res_interactive_chrX.tsv\"       \n",
       "[13] \"res_interactive_chrY.rds\"        \"res_interactive_target_PER1.rds\"\n",
       "[15] \"res_marginal_chr13.rds\"          \"res_marginal_chr14.rds\"         \n",
       "[17] \"res_marginal_chr15.rds\"          \"res_marginal_chr17.rds\"         \n",
       "[19] \"res_marginal_chr17.tsv\"          \"res_marginal_chr18.rds\"         \n",
       "[21] \"res_marginal_chr20.rds\"          \"res_marginal_chr20.tsv\"         \n",
       "[23] \"res_marginal_chr21.rds\"          \"res_marginal_chr21.tsv\"         \n",
       "[25] \"res_marginal_chr4.rds\"           \"res_marginal_chrX.rds\"          \n",
       "[27] \"res_marginal_chrX.tsv\"           \"res_marginal_chrY.rds\"          \n",
       "[29] \"target_PER1\"                    "
      ]
     },
     "metadata": {},
     "output_type": "display_data"
    }
   ],
   "source": [
    "fdiry = file.path(FD_RES, \"model_linear\")\n",
    "dir(fdiry)"
   ]
  },
  {
   "cell_type": "code",
   "execution_count": 32,
   "metadata": {},
   "outputs": [],
   "source": [
    "SAMPLES = SAMPLES1\n",
    "FD_OUT  = \"marginal_filter95\""
   ]
  },
  {
   "cell_type": "code",
   "execution_count": null,
   "metadata": {},
   "outputs": [],
   "source": [
    "SAMPLES = SAMPLES2\n",
    "FD_OUT  = \"marginal_filter95_input20x\"\n"
   ]
  },
  {
   "cell_type": "code",
   "execution_count": 30,
   "metadata": {},
   "outputs": [
    {
     "data": {
      "text/html": [
       "<table class=\"dataframe\">\n",
       "<caption>A tibble: 6 × 7</caption>\n",
       "<thead>\n",
       "\t<tr><th scope=col>Chrom_Frag</th><th scope=col>Start_Frag</th><th scope=col>End_Frag</th><th scope=col>Count_Frag</th><th scope=col>Motif</th><th scope=col>Sample</th><th scope=col>N_Motif</th></tr>\n",
       "\t<tr><th scope=col>&lt;chr&gt;</th><th scope=col>&lt;dbl&gt;</th><th scope=col>&lt;dbl&gt;</th><th scope=col>&lt;dbl&gt;</th><th scope=col>&lt;chr&gt;</th><th scope=col>&lt;chr&gt;</th><th scope=col>&lt;int&gt;</th></tr>\n",
       "</thead>\n",
       "<tbody>\n",
       "\t<tr><td>chrY</td><td>3607139</td><td>3608051</td><td>1</td><td>AP1/1</td><td>TFX5_DMSO </td><td>1</td></tr>\n",
       "\t<tr><td>chrY</td><td>3960670</td><td>3961677</td><td>1</td><td>AP1/1</td><td>Input2_20x</td><td>1</td></tr>\n",
       "\t<tr><td>chrY</td><td>3960689</td><td>3961704</td><td>1</td><td>AP1/1</td><td>TFX2_Dex  </td><td>1</td></tr>\n",
       "\t<tr><td>chrY</td><td>4998521</td><td>4999579</td><td>1</td><td>AP1/1</td><td>Input3_20x</td><td>1</td></tr>\n",
       "\t<tr><td>chrY</td><td>4998521</td><td>4999580</td><td>1</td><td>AP1/1</td><td>Input1_20x</td><td>1</td></tr>\n",
       "\t<tr><td>chrY</td><td>4998521</td><td>4999580</td><td>1</td><td>AP1/1</td><td>Input3_20x</td><td>1</td></tr>\n",
       "</tbody>\n",
       "</table>\n"
      ],
      "text/latex": [
       "A tibble: 6 × 7\n",
       "\\begin{tabular}{lllllll}\n",
       " Chrom\\_Frag & Start\\_Frag & End\\_Frag & Count\\_Frag & Motif & Sample & N\\_Motif\\\\\n",
       " <chr> & <dbl> & <dbl> & <dbl> & <chr> & <chr> & <int>\\\\\n",
       "\\hline\n",
       "\t chrY & 3607139 & 3608051 & 1 & AP1/1 & TFX5\\_DMSO  & 1\\\\\n",
       "\t chrY & 3960670 & 3961677 & 1 & AP1/1 & Input2\\_20x & 1\\\\\n",
       "\t chrY & 3960689 & 3961704 & 1 & AP1/1 & TFX2\\_Dex   & 1\\\\\n",
       "\t chrY & 4998521 & 4999579 & 1 & AP1/1 & Input3\\_20x & 1\\\\\n",
       "\t chrY & 4998521 & 4999580 & 1 & AP1/1 & Input1\\_20x & 1\\\\\n",
       "\t chrY & 4998521 & 4999580 & 1 & AP1/1 & Input3\\_20x & 1\\\\\n",
       "\\end{tabular}\n"
      ],
      "text/markdown": [
       "\n",
       "A tibble: 6 × 7\n",
       "\n",
       "| Chrom_Frag &lt;chr&gt; | Start_Frag &lt;dbl&gt; | End_Frag &lt;dbl&gt; | Count_Frag &lt;dbl&gt; | Motif &lt;chr&gt; | Sample &lt;chr&gt; | N_Motif &lt;int&gt; |\n",
       "|---|---|---|---|---|---|---|\n",
       "| chrY | 3607139 | 3608051 | 1 | AP1/1 | TFX5_DMSO  | 1 |\n",
       "| chrY | 3960670 | 3961677 | 1 | AP1/1 | Input2_20x | 1 |\n",
       "| chrY | 3960689 | 3961704 | 1 | AP1/1 | TFX2_Dex   | 1 |\n",
       "| chrY | 4998521 | 4999579 | 1 | AP1/1 | Input3_20x | 1 |\n",
       "| chrY | 4998521 | 4999580 | 1 | AP1/1 | Input1_20x | 1 |\n",
       "| chrY | 4998521 | 4999580 | 1 | AP1/1 | Input3_20x | 1 |\n",
       "\n"
      ],
      "text/plain": [
       "  Chrom_Frag Start_Frag End_Frag Count_Frag Motif Sample     N_Motif\n",
       "1 chrY       3607139    3608051  1          AP1/1 TFX5_DMSO  1      \n",
       "2 chrY       3960670    3961677  1          AP1/1 Input2_20x 1      \n",
       "3 chrY       3960689    3961704  1          AP1/1 TFX2_Dex   1      \n",
       "4 chrY       4998521    4999579  1          AP1/1 Input3_20x 1      \n",
       "5 chrY       4998521    4999580  1          AP1/1 Input1_20x 1      \n",
       "6 chrY       4998521    4999580  1          AP1/1 Input3_20x 1      "
      ]
     },
     "metadata": {},
     "output_type": "display_data"
    }
   ],
   "source": [
    "head(lst_frag[[1]])"
   ]
  },
  {
   "cell_type": "code",
   "execution_count": null,
   "metadata": {},
   "outputs": [],
   "source": [
    "names(lst_frag)"
   ]
  },
  {
   "cell_type": "code",
   "execution_count": 37,
   "metadata": {},
   "outputs": [
    {
     "name": "stdout",
     "output_type": "stream",
     "text": [
      "[1] \"ATF_2\"\n"
     ]
    }
   ],
   "source": [
    "idn = \"ATF/2\"\n",
    "mtf   = str_replace(idn, pattern = \"/\", replacement = \"_\")\n",
    "print(mtf)"
   ]
  },
  {
   "cell_type": "code",
   "execution_count": 43,
   "metadata": {},
   "outputs": [
    {
     "name": "stdout",
     "output_type": "stream",
     "text": [
      "Done!\n",
      "Time difference of 7.65693 secs\n"
     ]
    }
   ],
   "source": [
    "### start\n",
    "#registerDoParallel(10)\n",
    "timer_start = Sys.time()\n",
    "\n",
    "lst_tmp = lst_frag #head(lst_frag, 10)\n",
    "lst_tmp = foreach(idn = names(lst_tmp), .combine = append) %do% {\n",
    "    ### set environment\n",
    "    #require(tidyverse)\n",
    "    \n",
    "    ### extract\n",
    "    dat = lst_tmp[[idn]]\n",
    "    \n",
    "    ### get fragments\n",
    "    dat = dat %>% \n",
    "        dplyr::select(Chrom_Frag, Start_Frag, End_Frag, Count_Frag, Sample) %>%\n",
    "        distinct()\n",
    "\n",
    "    ### count\n",
    "    dat = dat %>% group_by(Sample) %>% summarise(Value = sum(Count_Frag))\n",
    "    \n",
    "    ### choose\n",
    "    dat = dat %>% dplyr::filter(Sample %in% SAMPLES)\n",
    "    \n",
    "    ### normalize counts by library size\n",
    "    dat = dat %>% left_join(dat_lib, by=\"Sample\")\n",
    "    dat = dat %>%\n",
    "        mutate(Norm_Value    = Value / Size) %>% \n",
    "        mutate(Lognorm_Value = log10(Value) - log10(Size)) %>%\n",
    "        mutate(X = Group)\n",
    "\n",
    "    ### create design matrix\n",
    "    idxs  = c(\"Input\", \"TFX_DMSO\", \"TFX_Dex\")\n",
    "    dat$X = factor(dat$X, levels=idxs)\n",
    "    X = model.matrix(~X, dat)\n",
    "    X[,\"XTFX_DMSO\"] = X[,\"XTFX_DMSO\"] + X[,\"XTFX_Dex\"]\n",
    "    y = dat$Norm_Value\n",
    "\n",
    "    ### fit model and reduce the memory size\n",
    "    fit = lm(y ~ X + 0)\n",
    "    fit = stripGlmLR(fit)\n",
    "    \n",
    "    ### arrange\n",
    "    #lst = list()\n",
    "    #lst[[idn]] = list()\n",
    "    #lst[[idn]]$fit = fit\n",
    "    #lst[[idn]]$cnt = dat\n",
    "    #lst[[idn]]$X   = X\n",
    "    #lst[[idn]]$y   = y\n",
    "    lst = list()\n",
    "    lst$fit = fit\n",
    "    lst$cnt = dat\n",
    "    lst$X   = X\n",
    "    lst$y   = y\n",
    "    \n",
    "    ### store the results\n",
    "    mtf   = str_replace_all(idn, pattern = \"/\", replacement = \"_\")\n",
    "    fdiry = file.path(FD_RES, \"model_linear\", FD_OUT, CHROM)\n",
    "    fname = paste0(\"motif_\", mtf, \".RDS\")\n",
    "    fpath = file.path(fdiry, fname)\n",
    "    \n",
    "    #print(c(idn, mtf)); flush.console()\n",
    "    dir.create(fdiry, recursive = TRUE, showWarnings = FALSE)\n",
    "    saveRDS(lst, fpath)\n",
    "    #idn\n",
    "}\n",
    "\n",
    "### print end message\n",
    "timer = Sys.time()\n",
    "cat(\"Done!\\n\")\n",
    "print(timer - timer_start)"
   ]
  },
  {
   "cell_type": "code",
   "execution_count": 46,
   "metadata": {},
   "outputs": [
    {
     "name": "stdout",
     "output_type": "stream",
     "text": [
      "Done!\n",
      "Time difference of 7.413731 secs\n"
     ]
    }
   ],
   "source": [
    "### start\n",
    "registerDoParallel(20)\n",
    "timer_start = Sys.time()\n",
    "\n",
    "lst_tmp = lst_frag #head(lst_frag, 10)\n",
    "lst_tmp = foreach(idn = names(lst_tmp)) %dopar% {\n",
    "    ### set environment\n",
    "    #require(tidyverse)\n",
    "    \n",
    "    ### extract\n",
    "    dat = lst_tmp[[idn]]\n",
    "    \n",
    "    ### get fragments\n",
    "    dat = dat %>% \n",
    "        dplyr::select(Chrom_Frag, Start_Frag, End_Frag, Count_Frag, Sample) %>%\n",
    "        distinct()\n",
    "\n",
    "    ### count\n",
    "    dat = dat %>% group_by(Sample) %>% summarise(Value = sum(Count_Frag))\n",
    "    \n",
    "    ### choose\n",
    "    dat = dat %>% dplyr::filter(Sample %in% SAMPLES)\n",
    "    \n",
    "    ### normalize counts by library size\n",
    "    dat = dat %>% left_join(dat_lib, by=\"Sample\")\n",
    "    dat = dat %>%\n",
    "        mutate(Norm_Value    = Value / Size) %>% \n",
    "        mutate(Lognorm_Value = log10(Value) - log10(Size)) %>%\n",
    "        mutate(X = Group)\n",
    "\n",
    "    ### create design matrix\n",
    "    idxs  = c(\"Input\", \"TFX_DMSO\", \"TFX_Dex\")\n",
    "    dat$X = factor(dat$X, levels=idxs)\n",
    "    X = model.matrix(~X, dat)\n",
    "    X[,\"XTFX_DMSO\"] = X[,\"XTFX_DMSO\"] + X[,\"XTFX_Dex\"]\n",
    "    y = dat$Norm_Value\n",
    "\n",
    "    ### fit model and reduce the memory size\n",
    "    fit = lm(y ~ X + 0)\n",
    "    fit = stripGlmLR(fit)\n",
    "    \n",
    "    ### arrange\n",
    "    #lst = list()\n",
    "    #lst[[idn]] = list()\n",
    "    #lst[[idn]]$fit = fit\n",
    "    #lst[[idn]]$cnt = dat\n",
    "    #lst[[idn]]$X   = X\n",
    "    #lst[[idn]]$y   = y\n",
    "    lst = list()\n",
    "    lst$fit = fit\n",
    "    lst$cnt = dat\n",
    "    lst$X   = X\n",
    "    lst$y   = y\n",
    "    \n",
    "    ### store the results\n",
    "    mtf   = str_replace_all(idn, pattern = \"/\", replacement = \"_\")\n",
    "    fdiry = file.path(FD_RES, \"model_linear\", FD_OUT, CHROM)\n",
    "    fname = paste0(\"motif_\", mtf, \".RDS\")\n",
    "    fpath = file.path(fdiry, fname)\n",
    "    \n",
    "    #print(c(idn, mtf)); flush.console()\n",
    "    dir.create(fdiry, recursive = TRUE, showWarnings = FALSE)\n",
    "    saveRDS(lst, fpath)\n",
    "    #idn\n",
    "}\n",
    "\n",
    "### print end message\n",
    "timer = Sys.time()\n",
    "cat(\"Done!\\n\")\n",
    "print(timer - timer_start)"
   ]
  },
  {
   "cell_type": "code",
   "execution_count": null,
   "metadata": {},
   "outputs": [],
   "source": []
  }
 ],
 "metadata": {
  "kernelspec": {
   "display_name": "R (alex_py3)",
   "language": "R",
   "name": "ir_alex_py3"
  },
  "language_info": {
   "codemirror_mode": "r",
   "file_extension": ".r",
   "mimetype": "text/x-r-source",
   "name": "R",
   "pygments_lexer": "r",
   "version": "3.6.2"
  }
 },
 "nbformat": 4,
 "nbformat_minor": 4
}
