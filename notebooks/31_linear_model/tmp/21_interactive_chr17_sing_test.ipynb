{
 "cells": [
  {
   "cell_type": "code",
   "execution_count": 1,
   "metadata": {},
   "outputs": [
    {
     "name": "stdout",
     "output_type": "stream",
     "text": [
      "[1] \"/home/mount/work\"\n",
      "[1] \"/home/mount/work/out/proj_combeffect\"\n"
     ]
    }
   ],
   "source": [
    "suppressMessages(suppressWarnings(source(\"config_sing.R\")))\n",
    "\n",
    "print(FD_WORK)\n",
    "print(FD_RES)"
   ]
  },
  {
   "cell_type": "code",
   "execution_count": 2,
   "metadata": {},
   "outputs": [
    {
     "data": {
      "text/html": [
       "<style>\n",
       ".list-inline {list-style: none; margin:0; padding: 0}\n",
       ".list-inline>li {display: inline-block}\n",
       ".list-inline>li:not(:last-child)::after {content: \"\\00b7\"; padding: 0 .5ex}\n",
       "</style>\n",
       "<ol class=list-inline><li>'annotation_fragment'</li><li>'count_fragment'</li><li>'coverage'</li><li>'data'</li><li>'log'</li><li>'model_linear'</li><li>'source'</li></ol>\n"
      ],
      "text/latex": [
       "\\begin{enumerate*}\n",
       "\\item 'annotation\\_fragment'\n",
       "\\item 'count\\_fragment'\n",
       "\\item 'coverage'\n",
       "\\item 'data'\n",
       "\\item 'log'\n",
       "\\item 'model\\_linear'\n",
       "\\item 'source'\n",
       "\\end{enumerate*}\n"
      ],
      "text/markdown": [
       "1. 'annotation_fragment'\n",
       "2. 'count_fragment'\n",
       "3. 'coverage'\n",
       "4. 'data'\n",
       "5. 'log'\n",
       "6. 'model_linear'\n",
       "7. 'source'\n",
       "\n",
       "\n"
      ],
      "text/plain": [
       "[1] \"annotation_fragment\" \"count_fragment\"      \"coverage\"           \n",
       "[4] \"data\"                \"log\"                 \"model_linear\"       \n",
       "[7] \"source\"             "
      ]
     },
     "metadata": {},
     "output_type": "display_data"
    }
   ],
   "source": [
    "dir(FD_RES)"
   ]
  },
  {
   "cell_type": "code",
   "execution_count": 5,
   "metadata": {},
   "outputs": [
    {
     "data": {
      "text/html": [
       "<style>\n",
       ".list-inline {list-style: none; margin:0; padding: 0}\n",
       ".list-inline>li {display: inline-block}\n",
       ".list-inline>li:not(:last-child)::after {content: \"\\00b7\"; padding: 0 .5ex}\n",
       "</style>\n",
       "<ol class=list-inline><li>'Input1'</li><li>'Input2'</li><li>'Input3'</li><li>'Input4'</li><li>'Input5'</li><li>'TFX2_Dex'</li><li>'TFX2_DMSO'</li><li>'TFX3_Dex'</li><li>'TFX3_DMSO'</li><li>'TFX4_Dex'</li><li>'TFX4_DMSO'</li><li>'TFX5_Dex'</li><li>'TFX5_DMSO'</li></ol>\n"
      ],
      "text/latex": [
       "\\begin{enumerate*}\n",
       "\\item 'Input1'\n",
       "\\item 'Input2'\n",
       "\\item 'Input3'\n",
       "\\item 'Input4'\n",
       "\\item 'Input5'\n",
       "\\item 'TFX2\\_Dex'\n",
       "\\item 'TFX2\\_DMSO'\n",
       "\\item 'TFX3\\_Dex'\n",
       "\\item 'TFX3\\_DMSO'\n",
       "\\item 'TFX4\\_Dex'\n",
       "\\item 'TFX4\\_DMSO'\n",
       "\\item 'TFX5\\_Dex'\n",
       "\\item 'TFX5\\_DMSO'\n",
       "\\end{enumerate*}\n"
      ],
      "text/markdown": [
       "1. 'Input1'\n",
       "2. 'Input2'\n",
       "3. 'Input3'\n",
       "4. 'Input4'\n",
       "5. 'Input5'\n",
       "6. 'TFX2_Dex'\n",
       "7. 'TFX2_DMSO'\n",
       "8. 'TFX3_Dex'\n",
       "9. 'TFX3_DMSO'\n",
       "10. 'TFX4_Dex'\n",
       "11. 'TFX4_DMSO'\n",
       "12. 'TFX5_Dex'\n",
       "13. 'TFX5_DMSO'\n",
       "\n",
       "\n"
      ],
      "text/plain": [
       " [1] \"Input1\"    \"Input2\"    \"Input3\"    \"Input4\"    \"Input5\"    \"TFX2_Dex\" \n",
       " [7] \"TFX2_DMSO\" \"TFX3_Dex\"  \"TFX3_DMSO\" \"TFX4_Dex\"  \"TFX4_DMSO\" \"TFX5_Dex\" \n",
       "[13] \"TFX5_DMSO\""
      ]
     },
     "metadata": {},
     "output_type": "display_data"
    }
   ],
   "source": [
    "fdiry = file.path(FD_RES, \"annotation_fragment\", \"filter_motif_score095\")\n",
    "dir(fdiry)"
   ]
  },
  {
   "cell_type": "code",
   "execution_count": 9,
   "metadata": {},
   "outputs": [
    {
     "data": {
      "text/html": [
       "<style>\n",
       ".list-inline {list-style: none; margin:0; padding: 0}\n",
       ".list-inline>li {display: inline-block}\n",
       ".list-inline>li:not(:last-child)::after {content: \"\\00b7\"; padding: 0 .5ex}\n",
       "</style>\n",
       "<ol class=list-inline><li>'chr1.bed.gz'</li><li>'chr10.bed.gz'</li><li>'chr11.bed.gz'</li><li>'chr12.bed.gz'</li><li>'chr13.bed.gz'</li><li>'chr14.bed.gz'</li><li>'chr15.bed.gz'</li><li>'chr16.bed.gz'</li><li>'chr17.bed.gz'</li><li>'chr18.bed.gz'</li><li>'chr19.bed.gz'</li><li>'chr2.bed.gz'</li><li>'chr20.bed.gz'</li><li>'chr21.bed.gz'</li><li>'chr22.bed.gz'</li><li>'chr3.bed.gz'</li><li>'chr4.bed.gz'</li><li>'chr5.bed.gz'</li><li>'chr6.bed.gz'</li><li>'chr7.bed.gz'</li><li>'chr8.bed.gz'</li><li>'chr9.bed.gz'</li><li>'chrX.bed.gz'</li><li>'chrY.bed.gz'</li></ol>\n"
      ],
      "text/latex": [
       "\\begin{enumerate*}\n",
       "\\item 'chr1.bed.gz'\n",
       "\\item 'chr10.bed.gz'\n",
       "\\item 'chr11.bed.gz'\n",
       "\\item 'chr12.bed.gz'\n",
       "\\item 'chr13.bed.gz'\n",
       "\\item 'chr14.bed.gz'\n",
       "\\item 'chr15.bed.gz'\n",
       "\\item 'chr16.bed.gz'\n",
       "\\item 'chr17.bed.gz'\n",
       "\\item 'chr18.bed.gz'\n",
       "\\item 'chr19.bed.gz'\n",
       "\\item 'chr2.bed.gz'\n",
       "\\item 'chr20.bed.gz'\n",
       "\\item 'chr21.bed.gz'\n",
       "\\item 'chr22.bed.gz'\n",
       "\\item 'chr3.bed.gz'\n",
       "\\item 'chr4.bed.gz'\n",
       "\\item 'chr5.bed.gz'\n",
       "\\item 'chr6.bed.gz'\n",
       "\\item 'chr7.bed.gz'\n",
       "\\item 'chr8.bed.gz'\n",
       "\\item 'chr9.bed.gz'\n",
       "\\item 'chrX.bed.gz'\n",
       "\\item 'chrY.bed.gz'\n",
       "\\end{enumerate*}\n"
      ],
      "text/markdown": [
       "1. 'chr1.bed.gz'\n",
       "2. 'chr10.bed.gz'\n",
       "3. 'chr11.bed.gz'\n",
       "4. 'chr12.bed.gz'\n",
       "5. 'chr13.bed.gz'\n",
       "6. 'chr14.bed.gz'\n",
       "7. 'chr15.bed.gz'\n",
       "8. 'chr16.bed.gz'\n",
       "9. 'chr17.bed.gz'\n",
       "10. 'chr18.bed.gz'\n",
       "11. 'chr19.bed.gz'\n",
       "12. 'chr2.bed.gz'\n",
       "13. 'chr20.bed.gz'\n",
       "14. 'chr21.bed.gz'\n",
       "15. 'chr22.bed.gz'\n",
       "16. 'chr3.bed.gz'\n",
       "17. 'chr4.bed.gz'\n",
       "18. 'chr5.bed.gz'\n",
       "19. 'chr6.bed.gz'\n",
       "20. 'chr7.bed.gz'\n",
       "21. 'chr8.bed.gz'\n",
       "22. 'chr9.bed.gz'\n",
       "23. 'chrX.bed.gz'\n",
       "24. 'chrY.bed.gz'\n",
       "\n",
       "\n"
      ],
      "text/plain": [
       " [1] \"chr1.bed.gz\"  \"chr10.bed.gz\" \"chr11.bed.gz\" \"chr12.bed.gz\" \"chr13.bed.gz\"\n",
       " [6] \"chr14.bed.gz\" \"chr15.bed.gz\" \"chr16.bed.gz\" \"chr17.bed.gz\" \"chr18.bed.gz\"\n",
       "[11] \"chr19.bed.gz\" \"chr2.bed.gz\"  \"chr20.bed.gz\" \"chr21.bed.gz\" \"chr22.bed.gz\"\n",
       "[16] \"chr3.bed.gz\"  \"chr4.bed.gz\"  \"chr5.bed.gz\"  \"chr6.bed.gz\"  \"chr7.bed.gz\" \n",
       "[21] \"chr8.bed.gz\"  \"chr9.bed.gz\"  \"chrX.bed.gz\"  \"chrY.bed.gz\" "
      ]
     },
     "metadata": {},
     "output_type": "display_data"
    }
   ],
   "source": [
    "fdiry = file.path(FD_RES, \"annotation_fragment\", \"filter_motif_score095\", \"Input1\")\n",
    "dir(fdiry)"
   ]
  },
  {
   "cell_type": "markdown",
   "metadata": {},
   "source": [
    "## Import bed files"
   ]
  },
  {
   "cell_type": "code",
   "execution_count": 12,
   "metadata": {},
   "outputs": [],
   "source": [
    "CHROM = \"chr17\""
   ]
  },
  {
   "cell_type": "code",
   "execution_count": 13,
   "metadata": {},
   "outputs": [
    {
     "name": "stdout",
     "output_type": "stream",
     "text": [
      "[1] \"/home/mount/work/out/proj_combeffect/annotation_fragment/filter_motif_score095/Input1/chr17.bed.gz\"\n",
      "[1] \"/home/mount/work/out/proj_combeffect/annotation_fragment/filter_motif_score095/Input2/chr17.bed.gz\"\n",
      "[1] \"/home/mount/work/out/proj_combeffect/annotation_fragment/filter_motif_score095/Input3/chr17.bed.gz\"\n",
      "[1] \"/home/mount/work/out/proj_combeffect/annotation_fragment/filter_motif_score095/Input4/chr17.bed.gz\"\n",
      "[1] \"/home/mount/work/out/proj_combeffect/annotation_fragment/filter_motif_score095/Input5/chr17.bed.gz\"\n",
      "[1] \"/home/mount/work/out/proj_combeffect/annotation_fragment/filter_motif_score095/TFX2_DMSO/chr17.bed.gz\"\n",
      "[1] \"/home/mount/work/out/proj_combeffect/annotation_fragment/filter_motif_score095/TFX3_DMSO/chr17.bed.gz\"\n",
      "[1] \"/home/mount/work/out/proj_combeffect/annotation_fragment/filter_motif_score095/TFX4_DMSO/chr17.bed.gz\"\n",
      "[1] \"/home/mount/work/out/proj_combeffect/annotation_fragment/filter_motif_score095/TFX5_DMSO/chr17.bed.gz\"\n",
      "[1] \"/home/mount/work/out/proj_combeffect/annotation_fragment/filter_motif_score095/TFX2_Dex/chr17.bed.gz\"\n",
      "[1] \"/home/mount/work/out/proj_combeffect/annotation_fragment/filter_motif_score095/TFX3_Dex/chr17.bed.gz\"\n",
      "[1] \"/home/mount/work/out/proj_combeffect/annotation_fragment/filter_motif_score095/TFX4_Dex/chr17.bed.gz\"\n",
      "[1] \"/home/mount/work/out/proj_combeffect/annotation_fragment/filter_motif_score095/TFX5_Dex/chr17.bed.gz\"\n"
     ]
    }
   ],
   "source": [
    "###################################################\n",
    "# Import annotated fragments\n",
    "###################################################\n",
    "\n",
    "### set column names and types\n",
    "ctypes = c(col_character(), col_integer(), col_integer(), col_integer(),\n",
    "           col_character(), col_integer(), col_integer(),\n",
    "           col_character(), col_double(),  col_integer())\n",
    "cnames = c(\"Chrom_Frag\", \"Start_Frag\", \"End_Frag\", \"Count_Frag\",\n",
    "           \"Chrom_MTF\",  \"Start_MTF\",  \"End_MTF\",\n",
    "           \"Motif\", \"Score\", \"Overlap\")\n",
    "\n",
    "### set samples\n",
    "SAMPLES = c(\n",
    "    paste0(\"Input\", 1:5),\n",
    "    paste0(\"TFX\",   2:5, \"_DMSO\"),\n",
    "    paste0(\"TFX\",   2:5, \"_Dex\"))\n",
    "\n",
    "### import bed files for each sample \n",
    "fdiry = file.path(FD_RES, \"annotation_fragment\", \"filter_motif_score095\")\n",
    "fname = paste0(CHROM, \".bed\", \".gz\") \n",
    "\n",
    "lst_dat = lapply(SAMPLES, function(sam){\n",
    "    ### set path\n",
    "    fpath = file.path(fdiry, sam, fname)\n",
    "    print(fpath)\n",
    "    \n",
    "    ### import data\n",
    "    dat = read_tsv(fpath, col_types=ctypes, col_names=cnames) %>% mutate(Sample = sam)\n",
    "    return(dat)\n",
    "})\n",
    "\n",
    "### arrange data\n",
    "dat_ann_frag = bind_rows(lst_dat)\n",
    "lst_dat = NULL"
   ]
  },
  {
   "cell_type": "markdown",
   "metadata": {},
   "source": [
    "## Import library depth"
   ]
  },
  {
   "cell_type": "code",
   "execution_count": 6,
   "metadata": {},
   "outputs": [
    {
     "data": {
      "text/html": [
       "<table class=\"dataframe\">\n",
       "<caption>A tibble: 10 × 3</caption>\n",
       "<thead>\n",
       "\t<tr><th scope=col>Size</th><th scope=col>Sample</th><th scope=col>Group</th></tr>\n",
       "\t<tr><th scope=col>&lt;dbl&gt;</th><th scope=col>&lt;chr&gt;</th><th scope=col>&lt;chr&gt;</th></tr>\n",
       "</thead>\n",
       "<tbody>\n",
       "\t<tr><td>18666630</td><td>Input1         </td><td>Input         </td></tr>\n",
       "\t<tr><td>20167924</td><td>Input2         </td><td>Input         </td></tr>\n",
       "\t<tr><td>23280988</td><td>Input3         </td><td>Input         </td></tr>\n",
       "\t<tr><td>19003938</td><td>Input4         </td><td>Input         </td></tr>\n",
       "\t<tr><td>15325016</td><td>Input5         </td><td>Input         </td></tr>\n",
       "\t<tr><td>48376253</td><td>TFX2_AZD2906   </td><td>TFX_AZD2906   </td></tr>\n",
       "\t<tr><td>52542517</td><td>TFX2_AZD9567   </td><td>TFX_AZD9567   </td></tr>\n",
       "\t<tr><td>43646484</td><td>TFX2_CORT108297</td><td>TFX_CORT108297</td></tr>\n",
       "\t<tr><td>41732268</td><td>TFX2_CpdA      </td><td>TFX_CpdA      </td></tr>\n",
       "\t<tr><td>43844606</td><td>TFX2_DMSO      </td><td>TFX_DMSO      </td></tr>\n",
       "</tbody>\n",
       "</table>\n"
      ],
      "text/latex": [
       "A tibble: 10 × 3\n",
       "\\begin{tabular}{lll}\n",
       " Size & Sample & Group\\\\\n",
       " <dbl> & <chr> & <chr>\\\\\n",
       "\\hline\n",
       "\t 18666630 & Input1          & Input         \\\\\n",
       "\t 20167924 & Input2          & Input         \\\\\n",
       "\t 23280988 & Input3          & Input         \\\\\n",
       "\t 19003938 & Input4          & Input         \\\\\n",
       "\t 15325016 & Input5          & Input         \\\\\n",
       "\t 48376253 & TFX2\\_AZD2906    & TFX\\_AZD2906   \\\\\n",
       "\t 52542517 & TFX2\\_AZD9567    & TFX\\_AZD9567   \\\\\n",
       "\t 43646484 & TFX2\\_CORT108297 & TFX\\_CORT108297\\\\\n",
       "\t 41732268 & TFX2\\_CpdA       & TFX\\_CpdA      \\\\\n",
       "\t 43844606 & TFX2\\_DMSO       & TFX\\_DMSO      \\\\\n",
       "\\end{tabular}\n"
      ],
      "text/markdown": [
       "\n",
       "A tibble: 10 × 3\n",
       "\n",
       "| Size &lt;dbl&gt; | Sample &lt;chr&gt; | Group &lt;chr&gt; |\n",
       "|---|---|---|\n",
       "| 18666630 | Input1          | Input          |\n",
       "| 20167924 | Input2          | Input          |\n",
       "| 23280988 | Input3          | Input          |\n",
       "| 19003938 | Input4          | Input          |\n",
       "| 15325016 | Input5          | Input          |\n",
       "| 48376253 | TFX2_AZD2906    | TFX_AZD2906    |\n",
       "| 52542517 | TFX2_AZD9567    | TFX_AZD9567    |\n",
       "| 43646484 | TFX2_CORT108297 | TFX_CORT108297 |\n",
       "| 41732268 | TFX2_CpdA       | TFX_CpdA       |\n",
       "| 43844606 | TFX2_DMSO       | TFX_DMSO       |\n",
       "\n"
      ],
      "text/plain": [
       "   Size     Sample          Group         \n",
       "1  18666630 Input1          Input         \n",
       "2  20167924 Input2          Input         \n",
       "3  23280988 Input3          Input         \n",
       "4  19003938 Input4          Input         \n",
       "5  15325016 Input5          Input         \n",
       "6  48376253 TFX2_AZD2906    TFX_AZD2906   \n",
       "7  52542517 TFX2_AZD9567    TFX_AZD9567   \n",
       "8  43646484 TFX2_CORT108297 TFX_CORT108297\n",
       "9  41732268 TFX2_CpdA       TFX_CpdA      \n",
       "10 43844606 TFX2_DMSO       TFX_DMSO      "
      ]
     },
     "metadata": {},
     "output_type": "display_data"
    }
   ],
   "source": [
    "### helper function to get the group of sample\n",
    "get_sample = function(idn_sample){\n",
    "    idn = idn_sample\n",
    "    idn = str_replace(\n",
    "        string = idn, \n",
    "        pattern = \"Input[0-9]\", \n",
    "        replacement = \"Input\")\n",
    "    idn = str_replace(\n",
    "        string = idn, \n",
    "        pattern = \"TFX[0-9]_\", \n",
    "        replacement=\"TFX_\")\n",
    "    return(idn)\n",
    "}\n",
    "\n",
    "### set path\n",
    "fdiry = file.path(FD_RES, \"source\")\n",
    "fname = \"library_size.txt\"\n",
    "fpath = file.path(fdiry, fname)\n",
    "\n",
    "### import data\n",
    "ctypes = c(col_integer(), col_character())\n",
    "cnames = c(\"Size\", \"Fpath\")\n",
    "dat_lib = read_tsv(fpath, col_types=ctypes, col_names = cnames)\n",
    "dat_lib = dat_lib %>% \n",
    "    mutate(Sample = tools::file_path_sans_ext(basename(Fpath))) %>%\n",
    "    mutate(Group = get_sample(Sample))\n",
    "dat_lib = dat_lib %>% dplyr::select(Size, Sample, Group)\n",
    "head(dat_lib, 10)"
   ]
  },
  {
   "cell_type": "markdown",
   "metadata": {},
   "source": [
    "## Preprocess"
   ]
  },
  {
   "cell_type": "code",
   "execution_count": 14,
   "metadata": {},
   "outputs": [
    {
     "name": "stdout",
     "output_type": "stream",
     "text": [
      "+++++ Preprocess +++++\n",
      "+++++ Preprocess: filter motifs +++++\n",
      "Before filteration: #Motifs = 242 \n",
      "Threshold = 10 \n",
      "After filteration: #Motifs = 242 \n"
     ]
    }
   ],
   "source": [
    "###################################################\n",
    "# Preprocess\n",
    "###################################################\n",
    "cat(\"+++++ Preprocess +++++\\n\")\n",
    "\n",
    "### grouped by motif cluster and \n",
    "### split the annotated fragments into list\n",
    "dat    = dat_ann_frag\n",
    "lst    = dat %>% group_by(Motif) %>% group_split\n",
    "motifs = lapply(lst, function(dat){unique(dat$Motif)}) %>% unlist\n",
    "names(lst) = motifs\n",
    "\n",
    "### get the list\n",
    "lst_frag = lapply(lst, function(dat){\n",
    "    tmp = dat %>% \n",
    "        dplyr::select(Chrom_Frag, Start_Frag, End_Frag, Count_Frag, Motif, Sample) %>%\n",
    "        distinct()\n",
    "    return(tmp)\n",
    "})\n",
    "\n",
    "### filter out motifs that have almost no fragment in total\n",
    "cat(\"+++++ Preprocess: filter motifs +++++\\n\")\n",
    "cat(\"Before filteration: #Motifs =\", length(lst_frag), \"\\n\")\n",
    "\n",
    "THRESHOLD = 10\n",
    "lst = lst_frag\n",
    "cnt = lapply(lst, function(dat){sum(dat$Count_Frag)})\n",
    "lst = lst[cnt > 10]\n",
    "lst_frag = lst\n",
    "\n",
    "cat(\"Threshold =\", THRESHOLD, \"\\n\")\n",
    "cat(\"After filteration: #Motifs =\", length(lst_frag), \"\\n\")"
   ]
  },
  {
   "cell_type": "markdown",
   "metadata": {},
   "source": [
    "## Set all pairs of motifs"
   ]
  },
  {
   "cell_type": "code",
   "execution_count": 21,
   "metadata": {},
   "outputs": [
    {
     "data": {
      "text/html": [
       "<strong>$`AP1/1|NR/20`</strong> = <style>\n",
       ".list-inline {list-style: none; margin:0; padding: 0}\n",
       ".list-inline>li {display: inline-block}\n",
       ".list-inline>li:not(:last-child)::after {content: \"\\00b7\"; padding: 0 .5ex}\n",
       "</style>\n",
       "<ol class=list-inline><li>'AP1/1'</li><li>'NR/20'</li></ol>\n"
      ],
      "text/latex": [
       "\\textbf{\\$`AP1/1\\textbar{}NR/20`} = \\begin{enumerate*}\n",
       "\\item 'AP1/1'\n",
       "\\item 'NR/20'\n",
       "\\end{enumerate*}\n"
      ],
      "text/markdown": [
       "**$`AP1/1|NR/20`** = 1. 'AP1/1'\n",
       "2. 'NR/20'\n",
       "\n",
       "\n"
      ],
      "text/plain": [
       "$`AP1/1|NR/20`\n",
       "[1] \"AP1/1\" \"NR/20\"\n"
      ]
     },
     "metadata": {},
     "output_type": "display_data"
    }
   ],
   "source": [
    "lst_motif_pair = list(\"AP1/1|NR/20\" = c(\"AP1/1\", \"NR/20\"))\n",
    "lst_motif_pair"
   ]
  },
  {
   "cell_type": "markdown",
   "metadata": {},
   "source": [
    "## Get interactive effects"
   ]
  },
  {
   "cell_type": "code",
   "execution_count": 17,
   "metadata": {},
   "outputs": [
    {
     "name": "stdout",
     "output_type": "stream",
     "text": [
      "+++++ Get interactive effects +++++\n"
     ]
    }
   ],
   "source": [
    "###################################################\n",
    "# Get interactive effects\n",
    "###################################################\n",
    "cat(\"+++++ Get interactive effects +++++\\n\")"
   ]
  },
  {
   "cell_type": "markdown",
   "metadata": {},
   "source": [
    "```\n",
    "### Helper function\n",
    "### https://win-vector.com/2014/05/30/trimming-the-fat-from-glm-models-in-r/\n",
    "stripGlmLR = function(cm) {\n",
    "  cm$y = c()\n",
    "  cm$model = c()\n",
    "  \n",
    "  cm$residuals = c()\n",
    "  cm$fitted.values = c()\n",
    "  cm$effects = c()\n",
    "  cm$qr$qr = c()  \n",
    "  cm$linear.predictors = c()\n",
    "  cm$weights = c()\n",
    "  cm$prior.weights = c()\n",
    "  cm$data = c()\n",
    "\n",
    "  cm$family$variance = c()\n",
    "  cm$family$dev.resids = c()\n",
    "  cm$family$aic = c()\n",
    "  cm$family$validmu = c()\n",
    "  cm$family$simulate = c()\n",
    "  attr(cm$terms,\".Environment\") = c()\n",
    "  attr(cm$formula,\".Environment\") = c()\n",
    "  \n",
    "  return(cm)\n",
    "}\n",
    "\n",
    "```"
   ]
  },
  {
   "cell_type": "code",
   "execution_count": 31,
   "metadata": {},
   "outputs": [],
   "source": [
    "### loop through each pair of motifs\n",
    "### estimate interaction effect of each motif pair\n",
    "lst_res = lapply(lst_motif_pair, function(x){\n",
    "\n",
    "    ### extract fragments for each motif\n",
    "    mtf1 = x[1]\n",
    "    mtf2 = x[2]\n",
    "    df1 = lst_frag[[mtf1]]\n",
    "    df2 = lst_frag[[mtf2]]\n",
    "    \n",
    "    ### extract fragments\n",
    "    dat1 = bind_rows(df1, df2) %>% \n",
    "        dplyr::select(Chrom_Frag, Start_Frag, End_Frag, Count_Frag, Sample) %>%\n",
    "        distinct\n",
    "    dat2 = df1 %>% \n",
    "        dplyr::select(Chrom_Frag, Start_Frag, End_Frag, Count_Frag, Sample, Motif)\n",
    "    dat3 = df2 %>% \n",
    "        dplyr::select(Chrom_Frag, Start_Frag, End_Frag, Count_Frag, Sample, Motif)\n",
    "    \n",
    "    ### match fragments for the motif pair\n",
    "    dat = dat1 %>%\n",
    "        full_join(dat2, by = c(\"Chrom_Frag\", \"Start_Frag\", \"End_Frag\", \"Count_Frag\", \"Sample\")) %>%\n",
    "        full_join(dat3, by = c(\"Chrom_Frag\", \"Start_Frag\", \"End_Frag\", \"Count_Frag\", \"Sample\")) %>%\n",
    "        mutate(Motif = paste(Motif.x, Motif.y, sep = \"_\")) %>%\n",
    "        mutate(Motif = str_remove(string=Motif, pattern=\"_NA|NA_\")) %>% \n",
    "        mutate(Group = str_remove(string = Sample, pattern = \"[0-9]\")) %>%\n",
    "        mutate(X     = paste(Group, Motif, sep=\"_\")) %>%\n",
    "        mutate(X     = ifelse(str_detect(X, \"Input\"), \"Input\", X))\n",
    "    \n",
    "    ### annotate fragments based on motif annotation\n",
    "    idx11 = paste(\"TFX_DMSO\", mtf1,       sep=\"_\")\n",
    "    idx12 = paste(\"TFX_DMSO\", mtf2,       sep=\"_\")\n",
    "    idx13 = paste(\"TFX_DMSO\", mtf1, mtf2, sep=\"_\")\n",
    "    idx21 = paste(\"TFX_Dex\",  mtf1,       sep=\"_\")\n",
    "    idx22 = paste(\"TFX_Dex\",  mtf2,       sep=\"_\")\n",
    "    idx23 = paste(\"TFX_Dex\",  mtf1, mtf2, sep=\"_\")\n",
    "    idxs  = c(\"Input\", idx11, idx12, idx21, idx22, idx13, idx23)\n",
    "    tmp = dat %>% \n",
    "        group_by(Sample, X) %>% \n",
    "        summarise(Value = sum(Count_Frag), .groups = 'drop')\n",
    "    \n",
    "    ### normalize counts by library size\n",
    "    tmp = tmp %>% left_join(dat_lib, by=\"Sample\")\n",
    "    tmp = tmp %>%\n",
    "        mutate(Norm_Value    = Value / Size) %>% \n",
    "        mutate(Lognorm_Value = log10(Value) - log10(Size))\n",
    "    tmp$X = factor(tmp$X, levels=idxs)\n",
    "    X = model.matrix(~X, tmp)\n",
    "    y = tmp$Norm_Value\n",
    "    \n",
    "    ### create design matrix\n",
    "    idx11 = paste(\"XTFX_DMSO\", mtf1,       sep=\"_\")\n",
    "    idx12 = paste(\"XTFX_DMSO\", mtf2,       sep=\"_\")\n",
    "    idx13 = paste(\"XTFX_DMSO\", mtf1, mtf2, sep=\"_\")\n",
    "    idx21 = paste(\"XTFX_Dex\",  mtf1,       sep=\"_\")\n",
    "    idx22 = paste(\"XTFX_Dex\",  mtf2,       sep=\"_\")\n",
    "    idx23 = paste(\"XTFX_Dex\",  mtf1, mtf2, sep=\"_\")\n",
    "    X[,idx11] = X[,idx11] + X[,idx13] + X[,idx21] + X[,idx23]\n",
    "    X[,idx12] = X[,idx12] + X[,idx13] + X[,idx22] + X[,idx23]\n",
    "    X[,idx21] = X[,idx21] + X[,idx23]\n",
    "    X[,idx22] = X[,idx22] + X[,idx23]\n",
    "    X[,idx13] = X[,idx13] + X[,idx23]\n",
    "    \n",
    "    ### fit model and get the summary\n",
    "    fit = lm(y ~ X + 0)\n",
    "    #res = summary(fit)\n",
    "    \n",
    "    ### reduce the memory size\n",
    "    #res = stripGlmLR(res)\n",
    "    lst = list(fit=fit, X=X, y=y, data=tmp)\n",
    "    return(lst)\n",
    "})"
   ]
  },
  {
   "cell_type": "code",
   "execution_count": 32,
   "metadata": {},
   "outputs": [
    {
     "name": "stdout",
     "output_type": "stream",
     "text": [
      "\n",
      "Call:\n",
      "lm(formula = y ~ X + 0)\n",
      "\n",
      "Coefficients:\n",
      "          X(Intercept)        XXTFX_DMSO_AP1/1        XXTFX_DMSO_NR/20  \n",
      "             0.0012337               0.0005389              -0.0007765  \n",
      "       XXTFX_Dex_AP1/1         XXTFX_Dex_NR/20  XXTFX_DMSO_AP1/1_NR/20  \n",
      "             0.0001037               0.0007412              -0.0009681  \n",
      " XXTFX_Dex_AP1/1_NR/20  \n",
      "            -0.0007509  \n",
      "\n"
     ]
    }
   ],
   "source": [
    "lst = lst_res[[1]]\n",
    "dat = lst$data\n",
    "fit = lst$fit\n",
    "X   = lst$X\n",
    "y   = lst$y\n",
    "print(fit)"
   ]
  },
  {
   "cell_type": "code",
   "execution_count": 35,
   "metadata": {},
   "outputs": [
    {
     "data": {
      "text/html": [
       "<table class=\"dataframe\">\n",
       "<caption>A tibble: 29 × 7</caption>\n",
       "<thead>\n",
       "\t<tr><th scope=col>Sample</th><th scope=col>Group</th><th scope=col>Size</th><th scope=col>X</th><th scope=col>Value</th><th scope=col>Norm_Value</th><th scope=col>Lognorm_Value</th></tr>\n",
       "\t<tr><th scope=col>&lt;chr&gt;</th><th scope=col>&lt;chr&gt;</th><th scope=col>&lt;dbl&gt;</th><th scope=col>&lt;fct&gt;</th><th scope=col>&lt;dbl&gt;</th><th scope=col>&lt;dbl&gt;</th><th scope=col>&lt;dbl&gt;</th></tr>\n",
       "</thead>\n",
       "<tbody>\n",
       "\t<tr><td>Input1   </td><td>Input   </td><td>18666630</td><td>Input               </td><td>22921</td><td>1.227913e-03</td><td>-2.910832</td></tr>\n",
       "\t<tr><td>Input2   </td><td>Input   </td><td>20167924</td><td>Input               </td><td>25078</td><td>1.243460e-03</td><td>-2.905368</td></tr>\n",
       "\t<tr><td>Input3   </td><td>Input   </td><td>23280988</td><td>Input               </td><td>29145</td><td>1.251880e-03</td><td>-2.902437</td></tr>\n",
       "\t<tr><td>Input4   </td><td>Input   </td><td>19003938</td><td>Input               </td><td>23532</td><td>1.238270e-03</td><td>-2.907185</td></tr>\n",
       "\t<tr><td>Input5   </td><td>Input   </td><td>15325016</td><td>Input               </td><td>18495</td><td>1.206850e-03</td><td>-2.918347</td></tr>\n",
       "\t<tr><td>TFX2_Dex </td><td>TFX_Dex </td><td>45413539</td><td>TFX_Dex_AP1/1       </td><td>83606</td><td>1.840993e-03</td><td>-2.734948</td></tr>\n",
       "\t<tr><td>TFX2_Dex </td><td>TFX_Dex </td><td>45413539</td><td>TFX_Dex_AP1/1_NR/20 </td><td> 4835</td><td>1.064660e-04</td><td>-3.972789</td></tr>\n",
       "\t<tr><td>TFX2_Dex </td><td>TFX_Dex </td><td>45413539</td><td>TFX_Dex_NR/20       </td><td>49704</td><td>1.094475e-03</td><td>-2.960794</td></tr>\n",
       "\t<tr><td>TFX2_DMSO</td><td>TFX_DMSO</td><td>43844606</td><td>TFX_DMSO_AP1/1      </td><td>77196</td><td>1.760673e-03</td><td>-2.754321</td></tr>\n",
       "\t<tr><td>TFX2_DMSO</td><td>TFX_DMSO</td><td>43844606</td><td>TFX_DMSO_AP1/1_NR/20</td><td> 1116</td><td>2.545353e-05</td><td>-4.594252</td></tr>\n",
       "\t<tr><td>TFX2_DMSO</td><td>TFX_DMSO</td><td>43844606</td><td>TFX_DMSO_NR/20      </td><td>18973</td><td>4.327328e-04</td><td>-3.363780</td></tr>\n",
       "\t<tr><td>TFX3_Dex </td><td>TFX_Dex </td><td>26400671</td><td>TFX_Dex_AP1/1       </td><td>48390</td><td>1.832908e-03</td><td>-2.736859</td></tr>\n",
       "\t<tr><td>TFX3_Dex </td><td>TFX_Dex </td><td>26400671</td><td>TFX_Dex_AP1/1_NR/20 </td><td> 3010</td><td>1.140123e-04</td><td>-3.943048</td></tr>\n",
       "\t<tr><td>TFX3_Dex </td><td>TFX_Dex </td><td>26400671</td><td>TFX_Dex_NR/20       </td><td>30196</td><td>1.143759e-03</td><td>-2.941666</td></tr>\n",
       "\t<tr><td>TFX3_DMSO</td><td>TFX_DMSO</td><td>26819569</td><td>TFX_DMSO_AP1/1      </td><td>46628</td><td>1.738581e-03</td><td>-2.759805</td></tr>\n",
       "\t<tr><td>TFX3_DMSO</td><td>TFX_DMSO</td><td>26819569</td><td>TFX_DMSO_AP1/1_NR/20</td><td>  603</td><td>2.248358e-05</td><td>-4.648134</td></tr>\n",
       "\t<tr><td>TFX3_DMSO</td><td>TFX_DMSO</td><td>26819569</td><td>TFX_DMSO_NR/20      </td><td>11784</td><td>4.393807e-04</td><td>-3.357159</td></tr>\n",
       "\t<tr><td>TFX4_Dex </td><td>TFX_Dex </td><td>34590086</td><td>TFX_Dex_AP1/1       </td><td>65683</td><td>1.898897e-03</td><td>-2.721499</td></tr>\n",
       "\t<tr><td>TFX4_Dex </td><td>TFX_Dex </td><td>34590086</td><td>TFX_Dex_AP1/1_NR/20 </td><td> 4621</td><td>1.335932e-04</td><td>-3.874216</td></tr>\n",
       "\t<tr><td>TFX4_Dex </td><td>TFX_Dex </td><td>34590086</td><td>TFX_Dex_NR/20       </td><td>44701</td><td>1.292307e-03</td><td>-2.888634</td></tr>\n",
       "\t<tr><td>TFX4_DMSO</td><td>TFX_DMSO</td><td>30951533</td><td>TFX_DMSO_AP1/1      </td><td>54197</td><td>1.751028e-03</td><td>-2.756707</td></tr>\n",
       "\t<tr><td>TFX4_DMSO</td><td>TFX_DMSO</td><td>30951533</td><td>TFX_DMSO_AP1/1_NR/20</td><td>  925</td><td>2.988543e-05</td><td>-4.524540</td></tr>\n",
       "\t<tr><td>TFX4_DMSO</td><td>TFX_DMSO</td><td>30951533</td><td>TFX_DMSO_NR/20      </td><td>14210</td><td>4.591049e-04</td><td>-3.338088</td></tr>\n",
       "\t<tr><td>TFX5_Dex </td><td>TFX_Dex </td><td>42310249</td><td>TFX_Dex_AP1/1       </td><td>81758</td><td>1.932345e-03</td><td>-2.713915</td></tr>\n",
       "\t<tr><td>TFX5_Dex </td><td>TFX_Dex </td><td>42310249</td><td>TFX_Dex_AP1/1_NR/20 </td><td> 5658</td><td>1.337265e-04</td><td>-3.873783</td></tr>\n",
       "\t<tr><td>TFX5_Dex </td><td>TFX_Dex </td><td>42310249</td><td>TFX_Dex_NR/20       </td><td>53426</td><td>1.262720e-03</td><td>-2.898693</td></tr>\n",
       "\t<tr><td>TFX5_DMSO</td><td>TFX_DMSO</td><td>28859151</td><td>TFX_DMSO_AP1/1      </td><td>53105</td><td>1.840144e-03</td><td>-2.735148</td></tr>\n",
       "\t<tr><td>TFX5_DMSO</td><td>TFX_DMSO</td><td>28859151</td><td>TFX_DMSO_AP1/1_NR/20</td><td>  985</td><td>3.413129e-05</td><td>-4.466847</td></tr>\n",
       "\t<tr><td>TFX5_DMSO</td><td>TFX_DMSO</td><td>28859151</td><td>TFX_DMSO_NR/20      </td><td>14354</td><td>4.973812e-04</td><td>-3.303311</td></tr>\n",
       "</tbody>\n",
       "</table>\n"
      ],
      "text/latex": [
       "A tibble: 29 × 7\n",
       "\\begin{tabular}{lllllll}\n",
       " Sample & Group & Size & X & Value & Norm\\_Value & Lognorm\\_Value\\\\\n",
       " <chr> & <chr> & <dbl> & <fct> & <dbl> & <dbl> & <dbl>\\\\\n",
       "\\hline\n",
       "\t Input1    & Input    & 18666630 & Input                & 22921 & 1.227913e-03 & -2.910832\\\\\n",
       "\t Input2    & Input    & 20167924 & Input                & 25078 & 1.243460e-03 & -2.905368\\\\\n",
       "\t Input3    & Input    & 23280988 & Input                & 29145 & 1.251880e-03 & -2.902437\\\\\n",
       "\t Input4    & Input    & 19003938 & Input                & 23532 & 1.238270e-03 & -2.907185\\\\\n",
       "\t Input5    & Input    & 15325016 & Input                & 18495 & 1.206850e-03 & -2.918347\\\\\n",
       "\t TFX2\\_Dex  & TFX\\_Dex  & 45413539 & TFX\\_Dex\\_AP1/1        & 83606 & 1.840993e-03 & -2.734948\\\\\n",
       "\t TFX2\\_Dex  & TFX\\_Dex  & 45413539 & TFX\\_Dex\\_AP1/1\\_NR/20  &  4835 & 1.064660e-04 & -3.972789\\\\\n",
       "\t TFX2\\_Dex  & TFX\\_Dex  & 45413539 & TFX\\_Dex\\_NR/20        & 49704 & 1.094475e-03 & -2.960794\\\\\n",
       "\t TFX2\\_DMSO & TFX\\_DMSO & 43844606 & TFX\\_DMSO\\_AP1/1       & 77196 & 1.760673e-03 & -2.754321\\\\\n",
       "\t TFX2\\_DMSO & TFX\\_DMSO & 43844606 & TFX\\_DMSO\\_AP1/1\\_NR/20 &  1116 & 2.545353e-05 & -4.594252\\\\\n",
       "\t TFX2\\_DMSO & TFX\\_DMSO & 43844606 & TFX\\_DMSO\\_NR/20       & 18973 & 4.327328e-04 & -3.363780\\\\\n",
       "\t TFX3\\_Dex  & TFX\\_Dex  & 26400671 & TFX\\_Dex\\_AP1/1        & 48390 & 1.832908e-03 & -2.736859\\\\\n",
       "\t TFX3\\_Dex  & TFX\\_Dex  & 26400671 & TFX\\_Dex\\_AP1/1\\_NR/20  &  3010 & 1.140123e-04 & -3.943048\\\\\n",
       "\t TFX3\\_Dex  & TFX\\_Dex  & 26400671 & TFX\\_Dex\\_NR/20        & 30196 & 1.143759e-03 & -2.941666\\\\\n",
       "\t TFX3\\_DMSO & TFX\\_DMSO & 26819569 & TFX\\_DMSO\\_AP1/1       & 46628 & 1.738581e-03 & -2.759805\\\\\n",
       "\t TFX3\\_DMSO & TFX\\_DMSO & 26819569 & TFX\\_DMSO\\_AP1/1\\_NR/20 &   603 & 2.248358e-05 & -4.648134\\\\\n",
       "\t TFX3\\_DMSO & TFX\\_DMSO & 26819569 & TFX\\_DMSO\\_NR/20       & 11784 & 4.393807e-04 & -3.357159\\\\\n",
       "\t TFX4\\_Dex  & TFX\\_Dex  & 34590086 & TFX\\_Dex\\_AP1/1        & 65683 & 1.898897e-03 & -2.721499\\\\\n",
       "\t TFX4\\_Dex  & TFX\\_Dex  & 34590086 & TFX\\_Dex\\_AP1/1\\_NR/20  &  4621 & 1.335932e-04 & -3.874216\\\\\n",
       "\t TFX4\\_Dex  & TFX\\_Dex  & 34590086 & TFX\\_Dex\\_NR/20        & 44701 & 1.292307e-03 & -2.888634\\\\\n",
       "\t TFX4\\_DMSO & TFX\\_DMSO & 30951533 & TFX\\_DMSO\\_AP1/1       & 54197 & 1.751028e-03 & -2.756707\\\\\n",
       "\t TFX4\\_DMSO & TFX\\_DMSO & 30951533 & TFX\\_DMSO\\_AP1/1\\_NR/20 &   925 & 2.988543e-05 & -4.524540\\\\\n",
       "\t TFX4\\_DMSO & TFX\\_DMSO & 30951533 & TFX\\_DMSO\\_NR/20       & 14210 & 4.591049e-04 & -3.338088\\\\\n",
       "\t TFX5\\_Dex  & TFX\\_Dex  & 42310249 & TFX\\_Dex\\_AP1/1        & 81758 & 1.932345e-03 & -2.713915\\\\\n",
       "\t TFX5\\_Dex  & TFX\\_Dex  & 42310249 & TFX\\_Dex\\_AP1/1\\_NR/20  &  5658 & 1.337265e-04 & -3.873783\\\\\n",
       "\t TFX5\\_Dex  & TFX\\_Dex  & 42310249 & TFX\\_Dex\\_NR/20        & 53426 & 1.262720e-03 & -2.898693\\\\\n",
       "\t TFX5\\_DMSO & TFX\\_DMSO & 28859151 & TFX\\_DMSO\\_AP1/1       & 53105 & 1.840144e-03 & -2.735148\\\\\n",
       "\t TFX5\\_DMSO & TFX\\_DMSO & 28859151 & TFX\\_DMSO\\_AP1/1\\_NR/20 &   985 & 3.413129e-05 & -4.466847\\\\\n",
       "\t TFX5\\_DMSO & TFX\\_DMSO & 28859151 & TFX\\_DMSO\\_NR/20       & 14354 & 4.973812e-04 & -3.303311\\\\\n",
       "\\end{tabular}\n"
      ],
      "text/markdown": [
       "\n",
       "A tibble: 29 × 7\n",
       "\n",
       "| Sample &lt;chr&gt; | Group &lt;chr&gt; | Size &lt;dbl&gt; | X &lt;fct&gt; | Value &lt;dbl&gt; | Norm_Value &lt;dbl&gt; | Lognorm_Value &lt;dbl&gt; |\n",
       "|---|---|---|---|---|---|---|\n",
       "| Input1    | Input    | 18666630 | Input                | 22921 | 1.227913e-03 | -2.910832 |\n",
       "| Input2    | Input    | 20167924 | Input                | 25078 | 1.243460e-03 | -2.905368 |\n",
       "| Input3    | Input    | 23280988 | Input                | 29145 | 1.251880e-03 | -2.902437 |\n",
       "| Input4    | Input    | 19003938 | Input                | 23532 | 1.238270e-03 | -2.907185 |\n",
       "| Input5    | Input    | 15325016 | Input                | 18495 | 1.206850e-03 | -2.918347 |\n",
       "| TFX2_Dex  | TFX_Dex  | 45413539 | TFX_Dex_AP1/1        | 83606 | 1.840993e-03 | -2.734948 |\n",
       "| TFX2_Dex  | TFX_Dex  | 45413539 | TFX_Dex_AP1/1_NR/20  |  4835 | 1.064660e-04 | -3.972789 |\n",
       "| TFX2_Dex  | TFX_Dex  | 45413539 | TFX_Dex_NR/20        | 49704 | 1.094475e-03 | -2.960794 |\n",
       "| TFX2_DMSO | TFX_DMSO | 43844606 | TFX_DMSO_AP1/1       | 77196 | 1.760673e-03 | -2.754321 |\n",
       "| TFX2_DMSO | TFX_DMSO | 43844606 | TFX_DMSO_AP1/1_NR/20 |  1116 | 2.545353e-05 | -4.594252 |\n",
       "| TFX2_DMSO | TFX_DMSO | 43844606 | TFX_DMSO_NR/20       | 18973 | 4.327328e-04 | -3.363780 |\n",
       "| TFX3_Dex  | TFX_Dex  | 26400671 | TFX_Dex_AP1/1        | 48390 | 1.832908e-03 | -2.736859 |\n",
       "| TFX3_Dex  | TFX_Dex  | 26400671 | TFX_Dex_AP1/1_NR/20  |  3010 | 1.140123e-04 | -3.943048 |\n",
       "| TFX3_Dex  | TFX_Dex  | 26400671 | TFX_Dex_NR/20        | 30196 | 1.143759e-03 | -2.941666 |\n",
       "| TFX3_DMSO | TFX_DMSO | 26819569 | TFX_DMSO_AP1/1       | 46628 | 1.738581e-03 | -2.759805 |\n",
       "| TFX3_DMSO | TFX_DMSO | 26819569 | TFX_DMSO_AP1/1_NR/20 |   603 | 2.248358e-05 | -4.648134 |\n",
       "| TFX3_DMSO | TFX_DMSO | 26819569 | TFX_DMSO_NR/20       | 11784 | 4.393807e-04 | -3.357159 |\n",
       "| TFX4_Dex  | TFX_Dex  | 34590086 | TFX_Dex_AP1/1        | 65683 | 1.898897e-03 | -2.721499 |\n",
       "| TFX4_Dex  | TFX_Dex  | 34590086 | TFX_Dex_AP1/1_NR/20  |  4621 | 1.335932e-04 | -3.874216 |\n",
       "| TFX4_Dex  | TFX_Dex  | 34590086 | TFX_Dex_NR/20        | 44701 | 1.292307e-03 | -2.888634 |\n",
       "| TFX4_DMSO | TFX_DMSO | 30951533 | TFX_DMSO_AP1/1       | 54197 | 1.751028e-03 | -2.756707 |\n",
       "| TFX4_DMSO | TFX_DMSO | 30951533 | TFX_DMSO_AP1/1_NR/20 |   925 | 2.988543e-05 | -4.524540 |\n",
       "| TFX4_DMSO | TFX_DMSO | 30951533 | TFX_DMSO_NR/20       | 14210 | 4.591049e-04 | -3.338088 |\n",
       "| TFX5_Dex  | TFX_Dex  | 42310249 | TFX_Dex_AP1/1        | 81758 | 1.932345e-03 | -2.713915 |\n",
       "| TFX5_Dex  | TFX_Dex  | 42310249 | TFX_Dex_AP1/1_NR/20  |  5658 | 1.337265e-04 | -3.873783 |\n",
       "| TFX5_Dex  | TFX_Dex  | 42310249 | TFX_Dex_NR/20        | 53426 | 1.262720e-03 | -2.898693 |\n",
       "| TFX5_DMSO | TFX_DMSO | 28859151 | TFX_DMSO_AP1/1       | 53105 | 1.840144e-03 | -2.735148 |\n",
       "| TFX5_DMSO | TFX_DMSO | 28859151 | TFX_DMSO_AP1/1_NR/20 |   985 | 3.413129e-05 | -4.466847 |\n",
       "| TFX5_DMSO | TFX_DMSO | 28859151 | TFX_DMSO_NR/20       | 14354 | 4.973812e-04 | -3.303311 |\n",
       "\n"
      ],
      "text/plain": [
       "   Sample    Group    Size     X                    Value Norm_Value  \n",
       "1  Input1    Input    18666630 Input                22921 1.227913e-03\n",
       "2  Input2    Input    20167924 Input                25078 1.243460e-03\n",
       "3  Input3    Input    23280988 Input                29145 1.251880e-03\n",
       "4  Input4    Input    19003938 Input                23532 1.238270e-03\n",
       "5  Input5    Input    15325016 Input                18495 1.206850e-03\n",
       "6  TFX2_Dex  TFX_Dex  45413539 TFX_Dex_AP1/1        83606 1.840993e-03\n",
       "7  TFX2_Dex  TFX_Dex  45413539 TFX_Dex_AP1/1_NR/20   4835 1.064660e-04\n",
       "8  TFX2_Dex  TFX_Dex  45413539 TFX_Dex_NR/20        49704 1.094475e-03\n",
       "9  TFX2_DMSO TFX_DMSO 43844606 TFX_DMSO_AP1/1       77196 1.760673e-03\n",
       "10 TFX2_DMSO TFX_DMSO 43844606 TFX_DMSO_AP1/1_NR/20  1116 2.545353e-05\n",
       "11 TFX2_DMSO TFX_DMSO 43844606 TFX_DMSO_NR/20       18973 4.327328e-04\n",
       "12 TFX3_Dex  TFX_Dex  26400671 TFX_Dex_AP1/1        48390 1.832908e-03\n",
       "13 TFX3_Dex  TFX_Dex  26400671 TFX_Dex_AP1/1_NR/20   3010 1.140123e-04\n",
       "14 TFX3_Dex  TFX_Dex  26400671 TFX_Dex_NR/20        30196 1.143759e-03\n",
       "15 TFX3_DMSO TFX_DMSO 26819569 TFX_DMSO_AP1/1       46628 1.738581e-03\n",
       "16 TFX3_DMSO TFX_DMSO 26819569 TFX_DMSO_AP1/1_NR/20   603 2.248358e-05\n",
       "17 TFX3_DMSO TFX_DMSO 26819569 TFX_DMSO_NR/20       11784 4.393807e-04\n",
       "18 TFX4_Dex  TFX_Dex  34590086 TFX_Dex_AP1/1        65683 1.898897e-03\n",
       "19 TFX4_Dex  TFX_Dex  34590086 TFX_Dex_AP1/1_NR/20   4621 1.335932e-04\n",
       "20 TFX4_Dex  TFX_Dex  34590086 TFX_Dex_NR/20        44701 1.292307e-03\n",
       "21 TFX4_DMSO TFX_DMSO 30951533 TFX_DMSO_AP1/1       54197 1.751028e-03\n",
       "22 TFX4_DMSO TFX_DMSO 30951533 TFX_DMSO_AP1/1_NR/20   925 2.988543e-05\n",
       "23 TFX4_DMSO TFX_DMSO 30951533 TFX_DMSO_NR/20       14210 4.591049e-04\n",
       "24 TFX5_Dex  TFX_Dex  42310249 TFX_Dex_AP1/1        81758 1.932345e-03\n",
       "25 TFX5_Dex  TFX_Dex  42310249 TFX_Dex_AP1/1_NR/20   5658 1.337265e-04\n",
       "26 TFX5_Dex  TFX_Dex  42310249 TFX_Dex_NR/20        53426 1.262720e-03\n",
       "27 TFX5_DMSO TFX_DMSO 28859151 TFX_DMSO_AP1/1       53105 1.840144e-03\n",
       "28 TFX5_DMSO TFX_DMSO 28859151 TFX_DMSO_AP1/1_NR/20   985 3.413129e-05\n",
       "29 TFX5_DMSO TFX_DMSO 28859151 TFX_DMSO_NR/20       14354 4.973812e-04\n",
       "   Lognorm_Value\n",
       "1  -2.910832    \n",
       "2  -2.905368    \n",
       "3  -2.902437    \n",
       "4  -2.907185    \n",
       "5  -2.918347    \n",
       "6  -2.734948    \n",
       "7  -3.972789    \n",
       "8  -2.960794    \n",
       "9  -2.754321    \n",
       "10 -4.594252    \n",
       "11 -3.363780    \n",
       "12 -2.736859    \n",
       "13 -3.943048    \n",
       "14 -2.941666    \n",
       "15 -2.759805    \n",
       "16 -4.648134    \n",
       "17 -3.357159    \n",
       "18 -2.721499    \n",
       "19 -3.874216    \n",
       "20 -2.888634    \n",
       "21 -2.756707    \n",
       "22 -4.524540    \n",
       "23 -3.338088    \n",
       "24 -2.713915    \n",
       "25 -3.873783    \n",
       "26 -2.898693    \n",
       "27 -2.735148    \n",
       "28 -4.466847    \n",
       "29 -3.303311    "
      ]
     },
     "metadata": {},
     "output_type": "display_data"
    }
   ],
   "source": [
    "dat = dat %>% dplyr::select(Sample, Group, Size, X, Value, Norm_Value, Lognorm_Value)\n",
    "dat"
   ]
  },
  {
   "cell_type": "code",
   "execution_count": 57,
   "metadata": {},
   "outputs": [
    {
     "data": {
      "text/html": [
       "<table class=\"dataframe\">\n",
       "<caption>A data.frame: 29 × 8</caption>\n",
       "<thead>\n",
       "\t<tr><th></th><th scope=col>response</th><th scope=col>Intercept</th><th scope=col>XTFX_DMSO_AP1/1</th><th scope=col>XTFX_DMSO_NR/20</th><th scope=col>XTFX_Dex_AP1/1</th><th scope=col>XTFX_Dex_NR/20</th><th scope=col>XTFX_DMSO_AP1/1_NR/20</th><th scope=col>XTFX_Dex_AP1/1_NR/20</th></tr>\n",
       "\t<tr><th></th><th scope=col>&lt;dbl&gt;</th><th scope=col>&lt;dbl&gt;</th><th scope=col>&lt;dbl&gt;</th><th scope=col>&lt;dbl&gt;</th><th scope=col>&lt;dbl&gt;</th><th scope=col>&lt;dbl&gt;</th><th scope=col>&lt;dbl&gt;</th><th scope=col>&lt;dbl&gt;</th></tr>\n",
       "</thead>\n",
       "<tbody>\n",
       "\t<tr><th scope=row>1</th><td>1.227913e-03</td><td>1</td><td>0</td><td>0</td><td>0</td><td>0</td><td>0</td><td>0</td></tr>\n",
       "\t<tr><th scope=row>2</th><td>1.243460e-03</td><td>1</td><td>0</td><td>0</td><td>0</td><td>0</td><td>0</td><td>0</td></tr>\n",
       "\t<tr><th scope=row>3</th><td>1.251880e-03</td><td>1</td><td>0</td><td>0</td><td>0</td><td>0</td><td>0</td><td>0</td></tr>\n",
       "\t<tr><th scope=row>4</th><td>1.238270e-03</td><td>1</td><td>0</td><td>0</td><td>0</td><td>0</td><td>0</td><td>0</td></tr>\n",
       "\t<tr><th scope=row>5</th><td>1.206850e-03</td><td>1</td><td>0</td><td>0</td><td>0</td><td>0</td><td>0</td><td>0</td></tr>\n",
       "\t<tr><th scope=row>6</th><td>1.840993e-03</td><td>1</td><td>1</td><td>0</td><td>1</td><td>0</td><td>0</td><td>0</td></tr>\n",
       "\t<tr><th scope=row>7</th><td>1.064660e-04</td><td>1</td><td>1</td><td>1</td><td>1</td><td>1</td><td>1</td><td>1</td></tr>\n",
       "\t<tr><th scope=row>8</th><td>1.094475e-03</td><td>1</td><td>0</td><td>1</td><td>0</td><td>1</td><td>0</td><td>0</td></tr>\n",
       "\t<tr><th scope=row>9</th><td>1.760673e-03</td><td>1</td><td>1</td><td>0</td><td>0</td><td>0</td><td>0</td><td>0</td></tr>\n",
       "\t<tr><th scope=row>10</th><td>2.545353e-05</td><td>1</td><td>1</td><td>1</td><td>0</td><td>0</td><td>1</td><td>0</td></tr>\n",
       "\t<tr><th scope=row>11</th><td>4.327328e-04</td><td>1</td><td>0</td><td>1</td><td>0</td><td>0</td><td>0</td><td>0</td></tr>\n",
       "\t<tr><th scope=row>12</th><td>1.832908e-03</td><td>1</td><td>1</td><td>0</td><td>1</td><td>0</td><td>0</td><td>0</td></tr>\n",
       "\t<tr><th scope=row>13</th><td>1.140123e-04</td><td>1</td><td>1</td><td>1</td><td>1</td><td>1</td><td>1</td><td>1</td></tr>\n",
       "\t<tr><th scope=row>14</th><td>1.143759e-03</td><td>1</td><td>0</td><td>1</td><td>0</td><td>1</td><td>0</td><td>0</td></tr>\n",
       "\t<tr><th scope=row>15</th><td>1.738581e-03</td><td>1</td><td>1</td><td>0</td><td>0</td><td>0</td><td>0</td><td>0</td></tr>\n",
       "\t<tr><th scope=row>16</th><td>2.248358e-05</td><td>1</td><td>1</td><td>1</td><td>0</td><td>0</td><td>1</td><td>0</td></tr>\n",
       "\t<tr><th scope=row>17</th><td>4.393807e-04</td><td>1</td><td>0</td><td>1</td><td>0</td><td>0</td><td>0</td><td>0</td></tr>\n",
       "\t<tr><th scope=row>18</th><td>1.898897e-03</td><td>1</td><td>1</td><td>0</td><td>1</td><td>0</td><td>0</td><td>0</td></tr>\n",
       "\t<tr><th scope=row>19</th><td>1.335932e-04</td><td>1</td><td>1</td><td>1</td><td>1</td><td>1</td><td>1</td><td>1</td></tr>\n",
       "\t<tr><th scope=row>20</th><td>1.292307e-03</td><td>1</td><td>0</td><td>1</td><td>0</td><td>1</td><td>0</td><td>0</td></tr>\n",
       "\t<tr><th scope=row>21</th><td>1.751028e-03</td><td>1</td><td>1</td><td>0</td><td>0</td><td>0</td><td>0</td><td>0</td></tr>\n",
       "\t<tr><th scope=row>22</th><td>2.988543e-05</td><td>1</td><td>1</td><td>1</td><td>0</td><td>0</td><td>1</td><td>0</td></tr>\n",
       "\t<tr><th scope=row>23</th><td>4.591049e-04</td><td>1</td><td>0</td><td>1</td><td>0</td><td>0</td><td>0</td><td>0</td></tr>\n",
       "\t<tr><th scope=row>24</th><td>1.932345e-03</td><td>1</td><td>1</td><td>0</td><td>1</td><td>0</td><td>0</td><td>0</td></tr>\n",
       "\t<tr><th scope=row>25</th><td>1.337265e-04</td><td>1</td><td>1</td><td>1</td><td>1</td><td>1</td><td>1</td><td>1</td></tr>\n",
       "\t<tr><th scope=row>26</th><td>1.262720e-03</td><td>1</td><td>0</td><td>1</td><td>0</td><td>1</td><td>0</td><td>0</td></tr>\n",
       "\t<tr><th scope=row>27</th><td>1.840144e-03</td><td>1</td><td>1</td><td>0</td><td>0</td><td>0</td><td>0</td><td>0</td></tr>\n",
       "\t<tr><th scope=row>28</th><td>3.413129e-05</td><td>1</td><td>1</td><td>1</td><td>0</td><td>0</td><td>1</td><td>0</td></tr>\n",
       "\t<tr><th scope=row>29</th><td>4.973812e-04</td><td>1</td><td>0</td><td>1</td><td>0</td><td>0</td><td>0</td><td>0</td></tr>\n",
       "</tbody>\n",
       "</table>\n"
      ],
      "text/latex": [
       "A data.frame: 29 × 8\n",
       "\\begin{tabular}{r|llllllll}\n",
       "  & response & Intercept & XTFX\\_DMSO\\_AP1/1 & XTFX\\_DMSO\\_NR/20 & XTFX\\_Dex\\_AP1/1 & XTFX\\_Dex\\_NR/20 & XTFX\\_DMSO\\_AP1/1\\_NR/20 & XTFX\\_Dex\\_AP1/1\\_NR/20\\\\\n",
       "  & <dbl> & <dbl> & <dbl> & <dbl> & <dbl> & <dbl> & <dbl> & <dbl>\\\\\n",
       "\\hline\n",
       "\t1 & 1.227913e-03 & 1 & 0 & 0 & 0 & 0 & 0 & 0\\\\\n",
       "\t2 & 1.243460e-03 & 1 & 0 & 0 & 0 & 0 & 0 & 0\\\\\n",
       "\t3 & 1.251880e-03 & 1 & 0 & 0 & 0 & 0 & 0 & 0\\\\\n",
       "\t4 & 1.238270e-03 & 1 & 0 & 0 & 0 & 0 & 0 & 0\\\\\n",
       "\t5 & 1.206850e-03 & 1 & 0 & 0 & 0 & 0 & 0 & 0\\\\\n",
       "\t6 & 1.840993e-03 & 1 & 1 & 0 & 1 & 0 & 0 & 0\\\\\n",
       "\t7 & 1.064660e-04 & 1 & 1 & 1 & 1 & 1 & 1 & 1\\\\\n",
       "\t8 & 1.094475e-03 & 1 & 0 & 1 & 0 & 1 & 0 & 0\\\\\n",
       "\t9 & 1.760673e-03 & 1 & 1 & 0 & 0 & 0 & 0 & 0\\\\\n",
       "\t10 & 2.545353e-05 & 1 & 1 & 1 & 0 & 0 & 1 & 0\\\\\n",
       "\t11 & 4.327328e-04 & 1 & 0 & 1 & 0 & 0 & 0 & 0\\\\\n",
       "\t12 & 1.832908e-03 & 1 & 1 & 0 & 1 & 0 & 0 & 0\\\\\n",
       "\t13 & 1.140123e-04 & 1 & 1 & 1 & 1 & 1 & 1 & 1\\\\\n",
       "\t14 & 1.143759e-03 & 1 & 0 & 1 & 0 & 1 & 0 & 0\\\\\n",
       "\t15 & 1.738581e-03 & 1 & 1 & 0 & 0 & 0 & 0 & 0\\\\\n",
       "\t16 & 2.248358e-05 & 1 & 1 & 1 & 0 & 0 & 1 & 0\\\\\n",
       "\t17 & 4.393807e-04 & 1 & 0 & 1 & 0 & 0 & 0 & 0\\\\\n",
       "\t18 & 1.898897e-03 & 1 & 1 & 0 & 1 & 0 & 0 & 0\\\\\n",
       "\t19 & 1.335932e-04 & 1 & 1 & 1 & 1 & 1 & 1 & 1\\\\\n",
       "\t20 & 1.292307e-03 & 1 & 0 & 1 & 0 & 1 & 0 & 0\\\\\n",
       "\t21 & 1.751028e-03 & 1 & 1 & 0 & 0 & 0 & 0 & 0\\\\\n",
       "\t22 & 2.988543e-05 & 1 & 1 & 1 & 0 & 0 & 1 & 0\\\\\n",
       "\t23 & 4.591049e-04 & 1 & 0 & 1 & 0 & 0 & 0 & 0\\\\\n",
       "\t24 & 1.932345e-03 & 1 & 1 & 0 & 1 & 0 & 0 & 0\\\\\n",
       "\t25 & 1.337265e-04 & 1 & 1 & 1 & 1 & 1 & 1 & 1\\\\\n",
       "\t26 & 1.262720e-03 & 1 & 0 & 1 & 0 & 1 & 0 & 0\\\\\n",
       "\t27 & 1.840144e-03 & 1 & 1 & 0 & 0 & 0 & 0 & 0\\\\\n",
       "\t28 & 3.413129e-05 & 1 & 1 & 1 & 0 & 0 & 1 & 0\\\\\n",
       "\t29 & 4.973812e-04 & 1 & 0 & 1 & 0 & 0 & 0 & 0\\\\\n",
       "\\end{tabular}\n"
      ],
      "text/markdown": [
       "\n",
       "A data.frame: 29 × 8\n",
       "\n",
       "| <!--/--> | response &lt;dbl&gt; | Intercept &lt;dbl&gt; | XTFX_DMSO_AP1/1 &lt;dbl&gt; | XTFX_DMSO_NR/20 &lt;dbl&gt; | XTFX_Dex_AP1/1 &lt;dbl&gt; | XTFX_Dex_NR/20 &lt;dbl&gt; | XTFX_DMSO_AP1/1_NR/20 &lt;dbl&gt; | XTFX_Dex_AP1/1_NR/20 &lt;dbl&gt; |\n",
       "|---|---|---|---|---|---|---|---|---|\n",
       "| 1 | 1.227913e-03 | 1 | 0 | 0 | 0 | 0 | 0 | 0 |\n",
       "| 2 | 1.243460e-03 | 1 | 0 | 0 | 0 | 0 | 0 | 0 |\n",
       "| 3 | 1.251880e-03 | 1 | 0 | 0 | 0 | 0 | 0 | 0 |\n",
       "| 4 | 1.238270e-03 | 1 | 0 | 0 | 0 | 0 | 0 | 0 |\n",
       "| 5 | 1.206850e-03 | 1 | 0 | 0 | 0 | 0 | 0 | 0 |\n",
       "| 6 | 1.840993e-03 | 1 | 1 | 0 | 1 | 0 | 0 | 0 |\n",
       "| 7 | 1.064660e-04 | 1 | 1 | 1 | 1 | 1 | 1 | 1 |\n",
       "| 8 | 1.094475e-03 | 1 | 0 | 1 | 0 | 1 | 0 | 0 |\n",
       "| 9 | 1.760673e-03 | 1 | 1 | 0 | 0 | 0 | 0 | 0 |\n",
       "| 10 | 2.545353e-05 | 1 | 1 | 1 | 0 | 0 | 1 | 0 |\n",
       "| 11 | 4.327328e-04 | 1 | 0 | 1 | 0 | 0 | 0 | 0 |\n",
       "| 12 | 1.832908e-03 | 1 | 1 | 0 | 1 | 0 | 0 | 0 |\n",
       "| 13 | 1.140123e-04 | 1 | 1 | 1 | 1 | 1 | 1 | 1 |\n",
       "| 14 | 1.143759e-03 | 1 | 0 | 1 | 0 | 1 | 0 | 0 |\n",
       "| 15 | 1.738581e-03 | 1 | 1 | 0 | 0 | 0 | 0 | 0 |\n",
       "| 16 | 2.248358e-05 | 1 | 1 | 1 | 0 | 0 | 1 | 0 |\n",
       "| 17 | 4.393807e-04 | 1 | 0 | 1 | 0 | 0 | 0 | 0 |\n",
       "| 18 | 1.898897e-03 | 1 | 1 | 0 | 1 | 0 | 0 | 0 |\n",
       "| 19 | 1.335932e-04 | 1 | 1 | 1 | 1 | 1 | 1 | 1 |\n",
       "| 20 | 1.292307e-03 | 1 | 0 | 1 | 0 | 1 | 0 | 0 |\n",
       "| 21 | 1.751028e-03 | 1 | 1 | 0 | 0 | 0 | 0 | 0 |\n",
       "| 22 | 2.988543e-05 | 1 | 1 | 1 | 0 | 0 | 1 | 0 |\n",
       "| 23 | 4.591049e-04 | 1 | 0 | 1 | 0 | 0 | 0 | 0 |\n",
       "| 24 | 1.932345e-03 | 1 | 1 | 0 | 1 | 0 | 0 | 0 |\n",
       "| 25 | 1.337265e-04 | 1 | 1 | 1 | 1 | 1 | 1 | 1 |\n",
       "| 26 | 1.262720e-03 | 1 | 0 | 1 | 0 | 1 | 0 | 0 |\n",
       "| 27 | 1.840144e-03 | 1 | 1 | 0 | 0 | 0 | 0 | 0 |\n",
       "| 28 | 3.413129e-05 | 1 | 1 | 1 | 0 | 0 | 1 | 0 |\n",
       "| 29 | 4.973812e-04 | 1 | 0 | 1 | 0 | 0 | 0 | 0 |\n",
       "\n"
      ],
      "text/plain": [
       "   response     Intercept XTFX_DMSO_AP1/1 XTFX_DMSO_NR/20 XTFX_Dex_AP1/1\n",
       "1  1.227913e-03 1         0               0               0             \n",
       "2  1.243460e-03 1         0               0               0             \n",
       "3  1.251880e-03 1         0               0               0             \n",
       "4  1.238270e-03 1         0               0               0             \n",
       "5  1.206850e-03 1         0               0               0             \n",
       "6  1.840993e-03 1         1               0               1             \n",
       "7  1.064660e-04 1         1               1               1             \n",
       "8  1.094475e-03 1         0               1               0             \n",
       "9  1.760673e-03 1         1               0               0             \n",
       "10 2.545353e-05 1         1               1               0             \n",
       "11 4.327328e-04 1         0               1               0             \n",
       "12 1.832908e-03 1         1               0               1             \n",
       "13 1.140123e-04 1         1               1               1             \n",
       "14 1.143759e-03 1         0               1               0             \n",
       "15 1.738581e-03 1         1               0               0             \n",
       "16 2.248358e-05 1         1               1               0             \n",
       "17 4.393807e-04 1         0               1               0             \n",
       "18 1.898897e-03 1         1               0               1             \n",
       "19 1.335932e-04 1         1               1               1             \n",
       "20 1.292307e-03 1         0               1               0             \n",
       "21 1.751028e-03 1         1               0               0             \n",
       "22 2.988543e-05 1         1               1               0             \n",
       "23 4.591049e-04 1         0               1               0             \n",
       "24 1.932345e-03 1         1               0               1             \n",
       "25 1.337265e-04 1         1               1               1             \n",
       "26 1.262720e-03 1         0               1               0             \n",
       "27 1.840144e-03 1         1               0               0             \n",
       "28 3.413129e-05 1         1               1               0             \n",
       "29 4.973812e-04 1         0               1               0             \n",
       "   XTFX_Dex_NR/20 XTFX_DMSO_AP1/1_NR/20 XTFX_Dex_AP1/1_NR/20\n",
       "1  0              0                     0                   \n",
       "2  0              0                     0                   \n",
       "3  0              0                     0                   \n",
       "4  0              0                     0                   \n",
       "5  0              0                     0                   \n",
       "6  0              0                     0                   \n",
       "7  1              1                     1                   \n",
       "8  1              0                     0                   \n",
       "9  0              0                     0                   \n",
       "10 0              1                     0                   \n",
       "11 0              0                     0                   \n",
       "12 0              0                     0                   \n",
       "13 1              1                     1                   \n",
       "14 1              0                     0                   \n",
       "15 0              0                     0                   \n",
       "16 0              1                     0                   \n",
       "17 0              0                     0                   \n",
       "18 0              0                     0                   \n",
       "19 1              1                     1                   \n",
       "20 1              0                     0                   \n",
       "21 0              0                     0                   \n",
       "22 0              1                     0                   \n",
       "23 0              0                     0                   \n",
       "24 0              0                     0                   \n",
       "25 1              1                     1                   \n",
       "26 1              0                     0                   \n",
       "27 0              0                     0                   \n",
       "28 0              1                     0                   \n",
       "29 0              0                     0                   "
      ]
     },
     "metadata": {},
     "output_type": "display_data"
    }
   ],
   "source": [
    "mat = cbind(y)\n",
    "mat = cbind(mat, X)\n",
    "mat = as.data.frame(mat)\n",
    "colnames(mat)[1] = \"response\"\n",
    "colnames(mat)[2] = \"Intercept\"\n",
    "mat"
   ]
  },
  {
   "cell_type": "markdown",
   "metadata": {},
   "source": [
    "**Export**"
   ]
  },
  {
   "cell_type": "code",
   "execution_count": 52,
   "metadata": {},
   "outputs": [
    {
     "data": {
      "text/html": [
       "<style>\n",
       ".list-inline {list-style: none; margin:0; padding: 0}\n",
       ".list-inline>li {display: inline-block}\n",
       ".list-inline>li:not(:last-child)::after {content: \"\\00b7\"; padding: 0 .5ex}\n",
       "</style>\n",
       "<ol class=list-inline><li>'example'</li><li>'fit_interactive_target_PER1.rds'</li><li>'fit_marginal_target_PER1.rds'</li><li>'res_interactive_chr17.rds'</li><li>'res_interactive_chr17.tsv'</li><li>'res_interactive_chr20.rds'</li><li>'res_interactive_chr20.tsv'</li><li>'res_interactive_chr21.rds'</li><li>'res_interactive_chr21.tsv'</li><li>'res_interactive_chr22.rds'</li><li>'res_interactive_chrX.rds'</li><li>'res_interactive_chrX.tsv'</li><li>'res_interactive_chrY.rds'</li><li>'res_interactive_target_PER1.rds'</li><li>'res_marginal_chr13.rds'</li><li>'res_marginal_chr14.rds'</li><li>'res_marginal_chr15.rds'</li><li>'res_marginal_chr17.rds'</li><li>'res_marginal_chr17.tsv'</li><li>'res_marginal_chr18.rds'</li><li>'res_marginal_chr20.rds'</li><li>'res_marginal_chr20.tsv'</li><li>'res_marginal_chr21.rds'</li><li>'res_marginal_chr21.tsv'</li><li>'res_marginal_chr4.rds'</li><li>'res_marginal_chrX.rds'</li><li>'res_marginal_chrX.tsv'</li><li>'res_marginal_chrY.rds'</li></ol>\n"
      ],
      "text/latex": [
       "\\begin{enumerate*}\n",
       "\\item 'example'\n",
       "\\item 'fit\\_interactive\\_target\\_PER1.rds'\n",
       "\\item 'fit\\_marginal\\_target\\_PER1.rds'\n",
       "\\item 'res\\_interactive\\_chr17.rds'\n",
       "\\item 'res\\_interactive\\_chr17.tsv'\n",
       "\\item 'res\\_interactive\\_chr20.rds'\n",
       "\\item 'res\\_interactive\\_chr20.tsv'\n",
       "\\item 'res\\_interactive\\_chr21.rds'\n",
       "\\item 'res\\_interactive\\_chr21.tsv'\n",
       "\\item 'res\\_interactive\\_chr22.rds'\n",
       "\\item 'res\\_interactive\\_chrX.rds'\n",
       "\\item 'res\\_interactive\\_chrX.tsv'\n",
       "\\item 'res\\_interactive\\_chrY.rds'\n",
       "\\item 'res\\_interactive\\_target\\_PER1.rds'\n",
       "\\item 'res\\_marginal\\_chr13.rds'\n",
       "\\item 'res\\_marginal\\_chr14.rds'\n",
       "\\item 'res\\_marginal\\_chr15.rds'\n",
       "\\item 'res\\_marginal\\_chr17.rds'\n",
       "\\item 'res\\_marginal\\_chr17.tsv'\n",
       "\\item 'res\\_marginal\\_chr18.rds'\n",
       "\\item 'res\\_marginal\\_chr20.rds'\n",
       "\\item 'res\\_marginal\\_chr20.tsv'\n",
       "\\item 'res\\_marginal\\_chr21.rds'\n",
       "\\item 'res\\_marginal\\_chr21.tsv'\n",
       "\\item 'res\\_marginal\\_chr4.rds'\n",
       "\\item 'res\\_marginal\\_chrX.rds'\n",
       "\\item 'res\\_marginal\\_chrX.tsv'\n",
       "\\item 'res\\_marginal\\_chrY.rds'\n",
       "\\end{enumerate*}\n"
      ],
      "text/markdown": [
       "1. 'example'\n",
       "2. 'fit_interactive_target_PER1.rds'\n",
       "3. 'fit_marginal_target_PER1.rds'\n",
       "4. 'res_interactive_chr17.rds'\n",
       "5. 'res_interactive_chr17.tsv'\n",
       "6. 'res_interactive_chr20.rds'\n",
       "7. 'res_interactive_chr20.tsv'\n",
       "8. 'res_interactive_chr21.rds'\n",
       "9. 'res_interactive_chr21.tsv'\n",
       "10. 'res_interactive_chr22.rds'\n",
       "11. 'res_interactive_chrX.rds'\n",
       "12. 'res_interactive_chrX.tsv'\n",
       "13. 'res_interactive_chrY.rds'\n",
       "14. 'res_interactive_target_PER1.rds'\n",
       "15. 'res_marginal_chr13.rds'\n",
       "16. 'res_marginal_chr14.rds'\n",
       "17. 'res_marginal_chr15.rds'\n",
       "18. 'res_marginal_chr17.rds'\n",
       "19. 'res_marginal_chr17.tsv'\n",
       "20. 'res_marginal_chr18.rds'\n",
       "21. 'res_marginal_chr20.rds'\n",
       "22. 'res_marginal_chr20.tsv'\n",
       "23. 'res_marginal_chr21.rds'\n",
       "24. 'res_marginal_chr21.tsv'\n",
       "25. 'res_marginal_chr4.rds'\n",
       "26. 'res_marginal_chrX.rds'\n",
       "27. 'res_marginal_chrX.tsv'\n",
       "28. 'res_marginal_chrY.rds'\n",
       "\n",
       "\n"
      ],
      "text/plain": [
       " [1] \"example\"                         \"fit_interactive_target_PER1.rds\"\n",
       " [3] \"fit_marginal_target_PER1.rds\"    \"res_interactive_chr17.rds\"      \n",
       " [5] \"res_interactive_chr17.tsv\"       \"res_interactive_chr20.rds\"      \n",
       " [7] \"res_interactive_chr20.tsv\"       \"res_interactive_chr21.rds\"      \n",
       " [9] \"res_interactive_chr21.tsv\"       \"res_interactive_chr22.rds\"      \n",
       "[11] \"res_interactive_chrX.rds\"        \"res_interactive_chrX.tsv\"       \n",
       "[13] \"res_interactive_chrY.rds\"        \"res_interactive_target_PER1.rds\"\n",
       "[15] \"res_marginal_chr13.rds\"          \"res_marginal_chr14.rds\"         \n",
       "[17] \"res_marginal_chr15.rds\"          \"res_marginal_chr17.rds\"         \n",
       "[19] \"res_marginal_chr17.tsv\"          \"res_marginal_chr18.rds\"         \n",
       "[21] \"res_marginal_chr20.rds\"          \"res_marginal_chr20.tsv\"         \n",
       "[23] \"res_marginal_chr21.rds\"          \"res_marginal_chr21.tsv\"         \n",
       "[25] \"res_marginal_chr4.rds\"           \"res_marginal_chrX.rds\"          \n",
       "[27] \"res_marginal_chrX.tsv\"           \"res_marginal_chrY.rds\"          "
      ]
     },
     "metadata": {},
     "output_type": "display_data"
    }
   ],
   "source": [
    "fdiry = file.path(FD_RES, \"model_linear\")\n",
    "dir(fdiry)"
   ]
  },
  {
   "cell_type": "code",
   "execution_count": 53,
   "metadata": {},
   "outputs": [
    {
     "name": "stderr",
     "output_type": "stream",
     "text": [
      "Warning message in dir.create(fdiry):\n",
      "“'/home/mount/work/out/proj_combeffect/model_linear/example' already exists”\n"
     ]
    }
   ],
   "source": [
    "fdiry = file.path(FD_RES, \"model_linear\", \"example\")\n",
    "dir.create(fdiry)"
   ]
  },
  {
   "cell_type": "code",
   "execution_count": 54,
   "metadata": {},
   "outputs": [],
   "source": [
    "fname = \"chr17_count_table.tsv\"\n",
    "fpath = file.path(fdiry, fname)\n",
    "write_tsv(dat, fpath)"
   ]
  },
  {
   "cell_type": "code",
   "execution_count": 58,
   "metadata": {},
   "outputs": [],
   "source": [
    "fname = \"chr17_design_matrix.tsv\"\n",
    "fpath = file.path(fdiry, fname)\n",
    "write_tsv(mat, fpath)"
   ]
  },
  {
   "cell_type": "code",
   "execution_count": 61,
   "metadata": {},
   "outputs": [
    {
     "name": "stdout",
     "output_type": "stream",
     "text": [
      "\n",
      "Call:\n",
      "lm(formula = y ~ X + 0)\n",
      "\n",
      "Coefficients:\n",
      "          X(Intercept)        XXTFX_DMSO_AP1/1        XXTFX_DMSO_NR/20  \n",
      "             0.0012337               0.0005389              -0.0007765  \n",
      "       XXTFX_Dex_AP1/1         XXTFX_Dex_NR/20  XXTFX_DMSO_AP1/1_NR/20  \n",
      "             0.0001037               0.0007412              -0.0009681  \n",
      " XXTFX_Dex_AP1/1_NR/20  \n",
      "            -0.0007509  \n",
      "\n"
     ]
    }
   ],
   "source": [
    "tmp = lm(y~X + 0)\n",
    "print(tmp)"
   ]
  },
  {
   "cell_type": "code",
   "execution_count": 62,
   "metadata": {},
   "outputs": [
    {
     "name": "stdout",
     "output_type": "stream",
     "text": [
      "\n",
      "Call:\n",
      "lm(formula = y ~ X + 0)\n",
      "\n",
      "Coefficients:\n",
      "          X(Intercept)        XXTFX_DMSO_AP1/1        XXTFX_DMSO_NR/20  \n",
      "             0.0012337               0.0005389              -0.0007765  \n",
      "       XXTFX_Dex_AP1/1         XXTFX_Dex_NR/20  XXTFX_DMSO_AP1/1_NR/20  \n",
      "             0.0001037               0.0007412              -0.0009681  \n",
      " XXTFX_Dex_AP1/1_NR/20  \n",
      "            -0.0007509  \n",
      "\n"
     ]
    }
   ],
   "source": [
    "print(fit)"
   ]
  },
  {
   "cell_type": "code",
   "execution_count": null,
   "metadata": {},
   "outputs": [],
   "source": []
  }
 ],
 "metadata": {
  "kernelspec": {
   "display_name": "R",
   "language": "R",
   "name": "ir"
  },
  "language_info": {
   "codemirror_mode": "r",
   "file_extension": ".r",
   "mimetype": "text/x-r-source",
   "name": "R",
   "pygments_lexer": "r",
   "version": "4.1.1"
  }
 },
 "nbformat": 4,
 "nbformat_minor": 4
}
