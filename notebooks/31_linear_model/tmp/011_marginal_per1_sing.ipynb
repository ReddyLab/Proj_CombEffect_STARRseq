{
 "cells": [
  {
   "cell_type": "markdown",
   "metadata": {},
   "source": [
    "# Motif marginal effect in the upstream of PER1 region"
   ]
  },
  {
   "cell_type": "markdown",
   "metadata": {},
   "source": [
    "**Set environment**"
   ]
  },
  {
   "cell_type": "code",
   "execution_count": 1,
   "metadata": {},
   "outputs": [
    {
     "name": "stdout",
     "output_type": "stream",
     "text": [
      "[1] \"/home/mount/work\"\n",
      "[1] \"/home/mount/work/out/proj_combeffect\"\n"
     ]
    }
   ],
   "source": [
    "suppressMessages(suppressWarnings(source(\"config_sing.R\")))\n",
    "print(FD_WORK)\n",
    "print(FD_RES)"
   ]
  },
  {
   "cell_type": "markdown",
   "metadata": {},
   "source": [
    "**Check input file**"
   ]
  },
  {
   "cell_type": "code",
   "execution_count": 2,
   "metadata": {},
   "outputs": [
    {
     "data": {
      "text/html": [
       "<style>\n",
       ".list-inline {list-style: none; margin:0; padding: 0}\n",
       ".list-inline>li {display: inline-block}\n",
       ".list-inline>li:not(:last-child)::after {content: \"\\00b7\"; padding: 0 .5ex}\n",
       "</style>\n",
       "<ol class=list-inline><li>'-rw-rw-r-- 1 kk319 reddylab 3.1M Sep 23 23:04 /home/mount/work/out/proj_combeffect/annotation_fragment/Input1_20x/target_PER1.bed.gz'</li><li>'-rw-rw-r-- 1 kk319 reddylab 187K Sep 23 23:04 /home/mount/work/out/proj_combeffect/annotation_fragment/Input1/target_PER1.bed.gz'</li><li>'-rw-rw-r-- 1 kk319 reddylab 3.0M Sep 23 23:05 /home/mount/work/out/proj_combeffect/annotation_fragment/Input2_20x/target_PER1.bed.gz'</li><li>'-rw-rw-r-- 1 kk319 reddylab 218K Sep 23 23:05 /home/mount/work/out/proj_combeffect/annotation_fragment/Input2/target_PER1.bed.gz'</li><li>'-rw-rw-r-- 1 kk319 reddylab 3.1M Sep 23 23:06 /home/mount/work/out/proj_combeffect/annotation_fragment/Input3_20x/target_PER1.bed.gz'</li><li>'-rw-rw-r-- 1 kk319 reddylab 280K Sep 23 23:06 /home/mount/work/out/proj_combeffect/annotation_fragment/Input3/target_PER1.bed.gz'</li><li>'-rw-rw-r-- 1 kk319 reddylab 3.4M Sep 23 23:07 /home/mount/work/out/proj_combeffect/annotation_fragment/Input4_20x/target_PER1.bed.gz'</li><li>'-rw-rw-r-- 1 kk319 reddylab 199K Sep 23 23:07 /home/mount/work/out/proj_combeffect/annotation_fragment/Input4/target_PER1.bed.gz'</li><li>'-rw-rw-r-- 1 kk319 reddylab 2.9M Sep 23 23:08 /home/mount/work/out/proj_combeffect/annotation_fragment/Input5_20x/target_PER1.bed.gz'</li><li>'-rw-rw-r-- 1 kk319 reddylab 150K Sep 23 23:08 /home/mount/work/out/proj_combeffect/annotation_fragment/Input5/target_PER1.bed.gz'</li><li>'-rw-rw-r-- 1 kk319 reddylab 1.9M Sep 23 23:09 /home/mount/work/out/proj_combeffect/annotation_fragment/TFX2_Dex/target_PER1.bed.gz'</li><li>'-rw-rw-r-- 1 kk319 reddylab 769K Sep 23 23:09 /home/mount/work/out/proj_combeffect/annotation_fragment/TFX2_DMSO/target_PER1.bed.gz'</li><li>'-rw-rw-r-- 1 kk319 reddylab 1.3M Sep 23 23:10 /home/mount/work/out/proj_combeffect/annotation_fragment/TFX3_Dex/target_PER1.bed.gz'</li><li>'-rw-rw-r-- 1 kk319 reddylab 524K Sep 23 23:10 /home/mount/work/out/proj_combeffect/annotation_fragment/TFX3_DMSO/target_PER1.bed.gz'</li><li>'-rw-rw-r-- 1 kk319 reddylab 1.7M Sep 23 23:11 /home/mount/work/out/proj_combeffect/annotation_fragment/TFX4_Dex/target_PER1.bed.gz'</li><li>'-rw-rw-r-- 1 kk319 reddylab 545K Sep 23 23:11 /home/mount/work/out/proj_combeffect/annotation_fragment/TFX4_DMSO/target_PER1.bed.gz'</li><li>'-rw-rw-r-- 1 kk319 reddylab 2.0M Sep 23 23:12 /home/mount/work/out/proj_combeffect/annotation_fragment/TFX5_Dex/target_PER1.bed.gz'</li><li>'-rw-rw-r-- 1 kk319 reddylab 681K Sep 23 23:12 /home/mount/work/out/proj_combeffect/annotation_fragment/TFX5_DMSO/target_PER1.bed.gz'</li></ol>\n"
      ],
      "text/latex": [
       "\\begin{enumerate*}\n",
       "\\item '-rw-rw-r-- 1 kk319 reddylab 3.1M Sep 23 23:04 /home/mount/work/out/proj\\_combeffect/annotation\\_fragment/Input1\\_20x/target\\_PER1.bed.gz'\n",
       "\\item '-rw-rw-r-- 1 kk319 reddylab 187K Sep 23 23:04 /home/mount/work/out/proj\\_combeffect/annotation\\_fragment/Input1/target\\_PER1.bed.gz'\n",
       "\\item '-rw-rw-r-- 1 kk319 reddylab 3.0M Sep 23 23:05 /home/mount/work/out/proj\\_combeffect/annotation\\_fragment/Input2\\_20x/target\\_PER1.bed.gz'\n",
       "\\item '-rw-rw-r-- 1 kk319 reddylab 218K Sep 23 23:05 /home/mount/work/out/proj\\_combeffect/annotation\\_fragment/Input2/target\\_PER1.bed.gz'\n",
       "\\item '-rw-rw-r-- 1 kk319 reddylab 3.1M Sep 23 23:06 /home/mount/work/out/proj\\_combeffect/annotation\\_fragment/Input3\\_20x/target\\_PER1.bed.gz'\n",
       "\\item '-rw-rw-r-- 1 kk319 reddylab 280K Sep 23 23:06 /home/mount/work/out/proj\\_combeffect/annotation\\_fragment/Input3/target\\_PER1.bed.gz'\n",
       "\\item '-rw-rw-r-- 1 kk319 reddylab 3.4M Sep 23 23:07 /home/mount/work/out/proj\\_combeffect/annotation\\_fragment/Input4\\_20x/target\\_PER1.bed.gz'\n",
       "\\item '-rw-rw-r-- 1 kk319 reddylab 199K Sep 23 23:07 /home/mount/work/out/proj\\_combeffect/annotation\\_fragment/Input4/target\\_PER1.bed.gz'\n",
       "\\item '-rw-rw-r-- 1 kk319 reddylab 2.9M Sep 23 23:08 /home/mount/work/out/proj\\_combeffect/annotation\\_fragment/Input5\\_20x/target\\_PER1.bed.gz'\n",
       "\\item '-rw-rw-r-- 1 kk319 reddylab 150K Sep 23 23:08 /home/mount/work/out/proj\\_combeffect/annotation\\_fragment/Input5/target\\_PER1.bed.gz'\n",
       "\\item '-rw-rw-r-- 1 kk319 reddylab 1.9M Sep 23 23:09 /home/mount/work/out/proj\\_combeffect/annotation\\_fragment/TFX2\\_Dex/target\\_PER1.bed.gz'\n",
       "\\item '-rw-rw-r-- 1 kk319 reddylab 769K Sep 23 23:09 /home/mount/work/out/proj\\_combeffect/annotation\\_fragment/TFX2\\_DMSO/target\\_PER1.bed.gz'\n",
       "\\item '-rw-rw-r-- 1 kk319 reddylab 1.3M Sep 23 23:10 /home/mount/work/out/proj\\_combeffect/annotation\\_fragment/TFX3\\_Dex/target\\_PER1.bed.gz'\n",
       "\\item '-rw-rw-r-- 1 kk319 reddylab 524K Sep 23 23:10 /home/mount/work/out/proj\\_combeffect/annotation\\_fragment/TFX3\\_DMSO/target\\_PER1.bed.gz'\n",
       "\\item '-rw-rw-r-- 1 kk319 reddylab 1.7M Sep 23 23:11 /home/mount/work/out/proj\\_combeffect/annotation\\_fragment/TFX4\\_Dex/target\\_PER1.bed.gz'\n",
       "\\item '-rw-rw-r-- 1 kk319 reddylab 545K Sep 23 23:11 /home/mount/work/out/proj\\_combeffect/annotation\\_fragment/TFX4\\_DMSO/target\\_PER1.bed.gz'\n",
       "\\item '-rw-rw-r-- 1 kk319 reddylab 2.0M Sep 23 23:12 /home/mount/work/out/proj\\_combeffect/annotation\\_fragment/TFX5\\_Dex/target\\_PER1.bed.gz'\n",
       "\\item '-rw-rw-r-- 1 kk319 reddylab 681K Sep 23 23:12 /home/mount/work/out/proj\\_combeffect/annotation\\_fragment/TFX5\\_DMSO/target\\_PER1.bed.gz'\n",
       "\\end{enumerate*}\n"
      ],
      "text/markdown": [
       "1. '-rw-rw-r-- 1 kk319 reddylab 3.1M Sep 23 23:04 /home/mount/work/out/proj_combeffect/annotation_fragment/Input1_20x/target_PER1.bed.gz'\n",
       "2. '-rw-rw-r-- 1 kk319 reddylab 187K Sep 23 23:04 /home/mount/work/out/proj_combeffect/annotation_fragment/Input1/target_PER1.bed.gz'\n",
       "3. '-rw-rw-r-- 1 kk319 reddylab 3.0M Sep 23 23:05 /home/mount/work/out/proj_combeffect/annotation_fragment/Input2_20x/target_PER1.bed.gz'\n",
       "4. '-rw-rw-r-- 1 kk319 reddylab 218K Sep 23 23:05 /home/mount/work/out/proj_combeffect/annotation_fragment/Input2/target_PER1.bed.gz'\n",
       "5. '-rw-rw-r-- 1 kk319 reddylab 3.1M Sep 23 23:06 /home/mount/work/out/proj_combeffect/annotation_fragment/Input3_20x/target_PER1.bed.gz'\n",
       "6. '-rw-rw-r-- 1 kk319 reddylab 280K Sep 23 23:06 /home/mount/work/out/proj_combeffect/annotation_fragment/Input3/target_PER1.bed.gz'\n",
       "7. '-rw-rw-r-- 1 kk319 reddylab 3.4M Sep 23 23:07 /home/mount/work/out/proj_combeffect/annotation_fragment/Input4_20x/target_PER1.bed.gz'\n",
       "8. '-rw-rw-r-- 1 kk319 reddylab 199K Sep 23 23:07 /home/mount/work/out/proj_combeffect/annotation_fragment/Input4/target_PER1.bed.gz'\n",
       "9. '-rw-rw-r-- 1 kk319 reddylab 2.9M Sep 23 23:08 /home/mount/work/out/proj_combeffect/annotation_fragment/Input5_20x/target_PER1.bed.gz'\n",
       "10. '-rw-rw-r-- 1 kk319 reddylab 150K Sep 23 23:08 /home/mount/work/out/proj_combeffect/annotation_fragment/Input5/target_PER1.bed.gz'\n",
       "11. '-rw-rw-r-- 1 kk319 reddylab 1.9M Sep 23 23:09 /home/mount/work/out/proj_combeffect/annotation_fragment/TFX2_Dex/target_PER1.bed.gz'\n",
       "12. '-rw-rw-r-- 1 kk319 reddylab 769K Sep 23 23:09 /home/mount/work/out/proj_combeffect/annotation_fragment/TFX2_DMSO/target_PER1.bed.gz'\n",
       "13. '-rw-rw-r-- 1 kk319 reddylab 1.3M Sep 23 23:10 /home/mount/work/out/proj_combeffect/annotation_fragment/TFX3_Dex/target_PER1.bed.gz'\n",
       "14. '-rw-rw-r-- 1 kk319 reddylab 524K Sep 23 23:10 /home/mount/work/out/proj_combeffect/annotation_fragment/TFX3_DMSO/target_PER1.bed.gz'\n",
       "15. '-rw-rw-r-- 1 kk319 reddylab 1.7M Sep 23 23:11 /home/mount/work/out/proj_combeffect/annotation_fragment/TFX4_Dex/target_PER1.bed.gz'\n",
       "16. '-rw-rw-r-- 1 kk319 reddylab 545K Sep 23 23:11 /home/mount/work/out/proj_combeffect/annotation_fragment/TFX4_DMSO/target_PER1.bed.gz'\n",
       "17. '-rw-rw-r-- 1 kk319 reddylab 2.0M Sep 23 23:12 /home/mount/work/out/proj_combeffect/annotation_fragment/TFX5_Dex/target_PER1.bed.gz'\n",
       "18. '-rw-rw-r-- 1 kk319 reddylab 681K Sep 23 23:12 /home/mount/work/out/proj_combeffect/annotation_fragment/TFX5_DMSO/target_PER1.bed.gz'\n",
       "\n",
       "\n"
      ],
      "text/plain": [
       " [1] \"-rw-rw-r-- 1 kk319 reddylab 3.1M Sep 23 23:04 /home/mount/work/out/proj_combeffect/annotation_fragment/Input1_20x/target_PER1.bed.gz\"\n",
       " [2] \"-rw-rw-r-- 1 kk319 reddylab 187K Sep 23 23:04 /home/mount/work/out/proj_combeffect/annotation_fragment/Input1/target_PER1.bed.gz\"    \n",
       " [3] \"-rw-rw-r-- 1 kk319 reddylab 3.0M Sep 23 23:05 /home/mount/work/out/proj_combeffect/annotation_fragment/Input2_20x/target_PER1.bed.gz\"\n",
       " [4] \"-rw-rw-r-- 1 kk319 reddylab 218K Sep 23 23:05 /home/mount/work/out/proj_combeffect/annotation_fragment/Input2/target_PER1.bed.gz\"    \n",
       " [5] \"-rw-rw-r-- 1 kk319 reddylab 3.1M Sep 23 23:06 /home/mount/work/out/proj_combeffect/annotation_fragment/Input3_20x/target_PER1.bed.gz\"\n",
       " [6] \"-rw-rw-r-- 1 kk319 reddylab 280K Sep 23 23:06 /home/mount/work/out/proj_combeffect/annotation_fragment/Input3/target_PER1.bed.gz\"    \n",
       " [7] \"-rw-rw-r-- 1 kk319 reddylab 3.4M Sep 23 23:07 /home/mount/work/out/proj_combeffect/annotation_fragment/Input4_20x/target_PER1.bed.gz\"\n",
       " [8] \"-rw-rw-r-- 1 kk319 reddylab 199K Sep 23 23:07 /home/mount/work/out/proj_combeffect/annotation_fragment/Input4/target_PER1.bed.gz\"    \n",
       " [9] \"-rw-rw-r-- 1 kk319 reddylab 2.9M Sep 23 23:08 /home/mount/work/out/proj_combeffect/annotation_fragment/Input5_20x/target_PER1.bed.gz\"\n",
       "[10] \"-rw-rw-r-- 1 kk319 reddylab 150K Sep 23 23:08 /home/mount/work/out/proj_combeffect/annotation_fragment/Input5/target_PER1.bed.gz\"    \n",
       "[11] \"-rw-rw-r-- 1 kk319 reddylab 1.9M Sep 23 23:09 /home/mount/work/out/proj_combeffect/annotation_fragment/TFX2_Dex/target_PER1.bed.gz\"  \n",
       "[12] \"-rw-rw-r-- 1 kk319 reddylab 769K Sep 23 23:09 /home/mount/work/out/proj_combeffect/annotation_fragment/TFX2_DMSO/target_PER1.bed.gz\" \n",
       "[13] \"-rw-rw-r-- 1 kk319 reddylab 1.3M Sep 23 23:10 /home/mount/work/out/proj_combeffect/annotation_fragment/TFX3_Dex/target_PER1.bed.gz\"  \n",
       "[14] \"-rw-rw-r-- 1 kk319 reddylab 524K Sep 23 23:10 /home/mount/work/out/proj_combeffect/annotation_fragment/TFX3_DMSO/target_PER1.bed.gz\" \n",
       "[15] \"-rw-rw-r-- 1 kk319 reddylab 1.7M Sep 23 23:11 /home/mount/work/out/proj_combeffect/annotation_fragment/TFX4_Dex/target_PER1.bed.gz\"  \n",
       "[16] \"-rw-rw-r-- 1 kk319 reddylab 545K Sep 23 23:11 /home/mount/work/out/proj_combeffect/annotation_fragment/TFX4_DMSO/target_PER1.bed.gz\" \n",
       "[17] \"-rw-rw-r-- 1 kk319 reddylab 2.0M Sep 23 23:12 /home/mount/work/out/proj_combeffect/annotation_fragment/TFX5_Dex/target_PER1.bed.gz\"  \n",
       "[18] \"-rw-rw-r-- 1 kk319 reddylab 681K Sep 23 23:12 /home/mount/work/out/proj_combeffect/annotation_fragment/TFX5_DMSO/target_PER1.bed.gz\" "
      ]
     },
     "metadata": {},
     "output_type": "display_data"
    }
   ],
   "source": [
    "fdiry = file.path(FD_RES, \"annotation_fragment\")\n",
    "fname = \"target_PER1.bed.gz\"\n",
    "fglob = file.path(fdiry, \"*\", fname)\n",
    "system(paste(\"ls -lh\", fglob), intern = TRUE)"
   ]
  },
  {
   "cell_type": "markdown",
   "metadata": {},
   "source": [
    "**Check environment**"
   ]
  },
  {
   "cell_type": "code",
   "execution_count": 3,
   "metadata": {},
   "outputs": [
    {
     "data": {
      "text/html": [
       "56"
      ],
      "text/latex": [
       "56"
      ],
      "text/markdown": [
       "56"
      ],
      "text/plain": [
       "[1] 56"
      ]
     },
     "metadata": {},
     "output_type": "display_data"
    }
   ],
   "source": [
    "detectCores()"
   ]
  },
  {
   "cell_type": "code",
   "execution_count": 4,
   "metadata": {},
   "outputs": [
    {
     "data": {
      "text/plain": [
       "76.9 MB"
      ]
     },
     "metadata": {},
     "output_type": "display_data"
    }
   ],
   "source": [
    "mem_used()"
   ]
  },
  {
   "cell_type": "markdown",
   "metadata": {},
   "source": [
    "## Import annotated fragment"
   ]
  },
  {
   "cell_type": "code",
   "execution_count": 5,
   "metadata": {},
   "outputs": [
    {
     "name": "stdout",
     "output_type": "stream",
     "text": [
      "[1] \"/home/mount/work/out/proj_combeffect/annotation_fragment/Input1/target_PER1.bed.gz\"\n",
      "[1] \"/home/mount/work/out/proj_combeffect/annotation_fragment/Input2/target_PER1.bed.gz\"\n",
      "[1] \"/home/mount/work/out/proj_combeffect/annotation_fragment/Input3/target_PER1.bed.gz\"\n",
      "[1] \"/home/mount/work/out/proj_combeffect/annotation_fragment/Input4/target_PER1.bed.gz\"\n",
      "[1] \"/home/mount/work/out/proj_combeffect/annotation_fragment/Input5/target_PER1.bed.gz\"\n",
      "[1] \"/home/mount/work/out/proj_combeffect/annotation_fragment/Input1_20x/target_PER1.bed.gz\"\n",
      "[1] \"/home/mount/work/out/proj_combeffect/annotation_fragment/Input2_20x/target_PER1.bed.gz\"\n",
      "[1] \"/home/mount/work/out/proj_combeffect/annotation_fragment/Input3_20x/target_PER1.bed.gz\"\n",
      "[1] \"/home/mount/work/out/proj_combeffect/annotation_fragment/Input4_20x/target_PER1.bed.gz\"\n",
      "[1] \"/home/mount/work/out/proj_combeffect/annotation_fragment/Input5_20x/target_PER1.bed.gz\"\n",
      "[1] \"/home/mount/work/out/proj_combeffect/annotation_fragment/TFX2_DMSO/target_PER1.bed.gz\"\n",
      "[1] \"/home/mount/work/out/proj_combeffect/annotation_fragment/TFX3_DMSO/target_PER1.bed.gz\"\n",
      "[1] \"/home/mount/work/out/proj_combeffect/annotation_fragment/TFX4_DMSO/target_PER1.bed.gz\"\n",
      "[1] \"/home/mount/work/out/proj_combeffect/annotation_fragment/TFX5_DMSO/target_PER1.bed.gz\"\n",
      "[1] \"/home/mount/work/out/proj_combeffect/annotation_fragment/TFX2_Dex/target_PER1.bed.gz\"\n",
      "[1] \"/home/mount/work/out/proj_combeffect/annotation_fragment/TFX3_Dex/target_PER1.bed.gz\"\n",
      "[1] \"/home/mount/work/out/proj_combeffect/annotation_fragment/TFX4_Dex/target_PER1.bed.gz\"\n",
      "[1] \"/home/mount/work/out/proj_combeffect/annotation_fragment/TFX5_Dex/target_PER1.bed.gz\"\n",
      "1.13 GB\n",
      "606 MB\n"
     ]
    }
   ],
   "source": [
    "###################################################\n",
    "# Import annotated fragments\n",
    "###################################################\n",
    "\n",
    "### set column names and types\n",
    "ctypes = c(col_character(), col_integer(), col_integer(), col_integer(),\n",
    "           col_character(), col_integer(), col_integer(),\n",
    "           col_character(), col_double(),  col_integer())\n",
    "cnames = c(\"Chrom_Frag\", \"Start_Frag\", \"End_Frag\", \"Count_Frag\",\n",
    "           \"Chrom_MTF\",  \"Start_MTF\",  \"End_MTF\",\n",
    "           \"Motif\", \"Score\", \"Overlap\")\n",
    "\n",
    "### set samples\n",
    "SAMPLES = c(\n",
    "    paste0(\"Input\", 1:5),\n",
    "    paste0(\"Input\", 1:5, \"_20x\"),\n",
    "    paste0(\"TFX\",   2:5, \"_DMSO\"),\n",
    "    paste0(\"TFX\",   2:5, \"_Dex\"))\n",
    "\n",
    "### import bed files for each sample \n",
    "fdiry = file.path(FD_RES, \"annotation_fragment\")\n",
    "fname = \"target_PER1.bed.gz\"\n",
    "\n",
    "lst_dat = lapply(SAMPLES, function(sam){\n",
    "    ### set path\n",
    "    fpath = file.path(fdiry, sam, fname)\n",
    "    print(fpath); flush.console()\n",
    "    \n",
    "    ### import data\n",
    "    dat = read_tsv(fpath, col_types=ctypes, col_names=cnames) %>% mutate(Sample = sam)\n",
    "    return(dat)\n",
    "})\n",
    "\n",
    "### arrange data\n",
    "dat_ann_frag = bind_rows(lst_dat)\n",
    "\n",
    "### check environment (before release variables)\n",
    "print(mem_used())\n",
    "lst_dat = NULL\n",
    "\n",
    "### check environment (after release variables)\n",
    "print(mem_used())"
   ]
  },
  {
   "cell_type": "code",
   "execution_count": 6,
   "metadata": {},
   "outputs": [
    {
     "data": {
      "text/html": [
       "<table class=\"dataframe\">\n",
       "<caption>A tibble: 6 × 11</caption>\n",
       "<thead>\n",
       "\t<tr><th scope=col>Chrom_Frag</th><th scope=col>Start_Frag</th><th scope=col>End_Frag</th><th scope=col>Count_Frag</th><th scope=col>Chrom_MTF</th><th scope=col>Start_MTF</th><th scope=col>End_MTF</th><th scope=col>Motif</th><th scope=col>Score</th><th scope=col>Overlap</th><th scope=col>Sample</th></tr>\n",
       "\t<tr><th scope=col>&lt;chr&gt;</th><th scope=col>&lt;dbl&gt;</th><th scope=col>&lt;dbl&gt;</th><th scope=col>&lt;dbl&gt;</th><th scope=col>&lt;chr&gt;</th><th scope=col>&lt;dbl&gt;</th><th scope=col>&lt;dbl&gt;</th><th scope=col>&lt;chr&gt;</th><th scope=col>&lt;dbl&gt;</th><th scope=col>&lt;dbl&gt;</th><th scope=col>&lt;chr&gt;</th></tr>\n",
       "</thead>\n",
       "<tbody>\n",
       "\t<tr><td>chr17</td><td>8148117</td><td>8149012</td><td>1</td><td>chr17</td><td>8148107</td><td>8148124</td><td>KLF/SP/2</td><td> 9.0318</td><td> 7</td><td>Input1</td></tr>\n",
       "\t<tr><td>chr17</td><td>8148117</td><td>8149012</td><td>1</td><td>chr17</td><td>8148109</td><td>8148121</td><td>INSM1   </td><td> 6.1647</td><td> 4</td><td>Input1</td></tr>\n",
       "\t<tr><td>chr17</td><td>8148117</td><td>8149012</td><td>1</td><td>chr17</td><td>8148109</td><td>8148129</td><td>GC-tract</td><td> 8.3277</td><td>12</td><td>Input1</td></tr>\n",
       "\t<tr><td>chr17</td><td>8148117</td><td>8149012</td><td>1</td><td>chr17</td><td>8148123</td><td>8148133</td><td>GLI     </td><td> 7.4318</td><td>10</td><td>Input1</td></tr>\n",
       "\t<tr><td>chr17</td><td>8148117</td><td>8149012</td><td>1</td><td>chr17</td><td>8148124</td><td>8148139</td><td>NR/17   </td><td> 7.8649</td><td>15</td><td>Input1</td></tr>\n",
       "\t<tr><td>chr17</td><td>8148117</td><td>8149012</td><td>1</td><td>chr17</td><td>8148126</td><td>8148137</td><td>KLF/SP/1</td><td>11.3678</td><td>11</td><td>Input1</td></tr>\n",
       "</tbody>\n",
       "</table>\n"
      ],
      "text/latex": [
       "A tibble: 6 × 11\n",
       "\\begin{tabular}{lllllllllll}\n",
       " Chrom\\_Frag & Start\\_Frag & End\\_Frag & Count\\_Frag & Chrom\\_MTF & Start\\_MTF & End\\_MTF & Motif & Score & Overlap & Sample\\\\\n",
       " <chr> & <dbl> & <dbl> & <dbl> & <chr> & <dbl> & <dbl> & <chr> & <dbl> & <dbl> & <chr>\\\\\n",
       "\\hline\n",
       "\t chr17 & 8148117 & 8149012 & 1 & chr17 & 8148107 & 8148124 & KLF/SP/2 &  9.0318 &  7 & Input1\\\\\n",
       "\t chr17 & 8148117 & 8149012 & 1 & chr17 & 8148109 & 8148121 & INSM1    &  6.1647 &  4 & Input1\\\\\n",
       "\t chr17 & 8148117 & 8149012 & 1 & chr17 & 8148109 & 8148129 & GC-tract &  8.3277 & 12 & Input1\\\\\n",
       "\t chr17 & 8148117 & 8149012 & 1 & chr17 & 8148123 & 8148133 & GLI      &  7.4318 & 10 & Input1\\\\\n",
       "\t chr17 & 8148117 & 8149012 & 1 & chr17 & 8148124 & 8148139 & NR/17    &  7.8649 & 15 & Input1\\\\\n",
       "\t chr17 & 8148117 & 8149012 & 1 & chr17 & 8148126 & 8148137 & KLF/SP/1 & 11.3678 & 11 & Input1\\\\\n",
       "\\end{tabular}\n"
      ],
      "text/markdown": [
       "\n",
       "A tibble: 6 × 11\n",
       "\n",
       "| Chrom_Frag &lt;chr&gt; | Start_Frag &lt;dbl&gt; | End_Frag &lt;dbl&gt; | Count_Frag &lt;dbl&gt; | Chrom_MTF &lt;chr&gt; | Start_MTF &lt;dbl&gt; | End_MTF &lt;dbl&gt; | Motif &lt;chr&gt; | Score &lt;dbl&gt; | Overlap &lt;dbl&gt; | Sample &lt;chr&gt; |\n",
       "|---|---|---|---|---|---|---|---|---|---|---|\n",
       "| chr17 | 8148117 | 8149012 | 1 | chr17 | 8148107 | 8148124 | KLF/SP/2 |  9.0318 |  7 | Input1 |\n",
       "| chr17 | 8148117 | 8149012 | 1 | chr17 | 8148109 | 8148121 | INSM1    |  6.1647 |  4 | Input1 |\n",
       "| chr17 | 8148117 | 8149012 | 1 | chr17 | 8148109 | 8148129 | GC-tract |  8.3277 | 12 | Input1 |\n",
       "| chr17 | 8148117 | 8149012 | 1 | chr17 | 8148123 | 8148133 | GLI      |  7.4318 | 10 | Input1 |\n",
       "| chr17 | 8148117 | 8149012 | 1 | chr17 | 8148124 | 8148139 | NR/17    |  7.8649 | 15 | Input1 |\n",
       "| chr17 | 8148117 | 8149012 | 1 | chr17 | 8148126 | 8148137 | KLF/SP/1 | 11.3678 | 11 | Input1 |\n",
       "\n"
      ],
      "text/plain": [
       "  Chrom_Frag Start_Frag End_Frag Count_Frag Chrom_MTF Start_MTF End_MTF\n",
       "1 chr17      8148117    8149012  1          chr17     8148107   8148124\n",
       "2 chr17      8148117    8149012  1          chr17     8148109   8148121\n",
       "3 chr17      8148117    8149012  1          chr17     8148109   8148129\n",
       "4 chr17      8148117    8149012  1          chr17     8148123   8148133\n",
       "5 chr17      8148117    8149012  1          chr17     8148124   8148139\n",
       "6 chr17      8148117    8149012  1          chr17     8148126   8148137\n",
       "  Motif    Score   Overlap Sample\n",
       "1 KLF/SP/2  9.0318  7      Input1\n",
       "2 INSM1     6.1647  4      Input1\n",
       "3 GC-tract  8.3277 12      Input1\n",
       "4 GLI       7.4318 10      Input1\n",
       "5 NR/17     7.8649 15      Input1\n",
       "6 KLF/SP/1 11.3678 11      Input1"
      ]
     },
     "metadata": {},
     "output_type": "display_data"
    }
   ],
   "source": [
    "head(dat_ann_frag)"
   ]
  },
  {
   "cell_type": "markdown",
   "metadata": {},
   "source": [
    "## Import library size"
   ]
  },
  {
   "cell_type": "code",
   "execution_count": 7,
   "metadata": {
    "collapsed": true,
    "jupyter": {
     "outputs_hidden": true
    }
   },
   "outputs": [
    {
     "data": {
      "text/html": [
       "<table class=\"dataframe\">\n",
       "<caption>A tibble: 54 × 3</caption>\n",
       "<thead>\n",
       "\t<tr><th scope=col>Size</th><th scope=col>Sample</th><th scope=col>Group</th></tr>\n",
       "\t<tr><th scope=col>&lt;dbl&gt;</th><th scope=col>&lt;chr&gt;</th><th scope=col>&lt;chr&gt;</th></tr>\n",
       "</thead>\n",
       "<tbody>\n",
       "\t<tr><td>371718546</td><td>Input1_20x         </td><td>Input             </td></tr>\n",
       "\t<tr><td> 18666630</td><td>Input1             </td><td>Input             </td></tr>\n",
       "\t<tr><td>347635732</td><td>Input2_20x         </td><td>Input             </td></tr>\n",
       "\t<tr><td> 20167924</td><td>Input2             </td><td>Input             </td></tr>\n",
       "\t<tr><td>349994051</td><td>Input3_20x         </td><td>Input             </td></tr>\n",
       "\t<tr><td> 23280988</td><td>Input3             </td><td>Input             </td></tr>\n",
       "\t<tr><td>413508358</td><td>Input4_20x         </td><td>Input             </td></tr>\n",
       "\t<tr><td> 19003938</td><td>Input4             </td><td>Input             </td></tr>\n",
       "\t<tr><td>341110487</td><td>Input5_20x         </td><td>Input             </td></tr>\n",
       "\t<tr><td> 15325016</td><td>Input5             </td><td>Input             </td></tr>\n",
       "\t<tr><td> 48376253</td><td>TFX2_AZD2906       </td><td>TFX_AZD2906       </td></tr>\n",
       "\t<tr><td> 52542517</td><td>TFX2_AZD9567       </td><td>TFX_AZD9567       </td></tr>\n",
       "\t<tr><td> 43646484</td><td>TFX2_CORT108297    </td><td>TFX_CORT108297    </td></tr>\n",
       "\t<tr><td> 41732268</td><td>TFX2_CpdA          </td><td>TFX_CpdA          </td></tr>\n",
       "\t<tr><td> 45413539</td><td>TFX2_Dex           </td><td>TFX_Dex           </td></tr>\n",
       "\t<tr><td> 43844606</td><td>TFX2_DMSO          </td><td>TFX_DMSO          </td></tr>\n",
       "\t<tr><td> 56207769</td><td>TFX2_GW870086      </td><td>TFX_GW870086      </td></tr>\n",
       "\t<tr><td> 47829936</td><td>TFX2_Hydrocortisone</td><td>TFX_Hydrocortisone</td></tr>\n",
       "\t<tr><td> 38120420</td><td>TFX2_Mapracorat    </td><td>TFX_Mapracorat    </td></tr>\n",
       "\t<tr><td> 47687319</td><td>TFX2_RU486         </td><td>TFX_RU486         </td></tr>\n",
       "\t<tr><td> 45455167</td><td>TFX2_ZK216348      </td><td>TFX_ZK216348      </td></tr>\n",
       "\t<tr><td> 26840149</td><td>TFX3_AZD2906       </td><td>TFX_AZD2906       </td></tr>\n",
       "\t<tr><td> 44435989</td><td>TFX3_AZD9567       </td><td>TFX_AZD9567       </td></tr>\n",
       "\t<tr><td> 32701206</td><td>TFX3_CORT108297    </td><td>TFX_CORT108297    </td></tr>\n",
       "\t<tr><td> 26352610</td><td>TFX3_CpdA          </td><td>TFX_CpdA          </td></tr>\n",
       "\t<tr><td> 26400671</td><td>TFX3_Dex           </td><td>TFX_Dex           </td></tr>\n",
       "\t<tr><td> 26819569</td><td>TFX3_DMSO          </td><td>TFX_DMSO          </td></tr>\n",
       "\t<tr><td> 36774709</td><td>TFX3_GW870086      </td><td>TFX_GW870086      </td></tr>\n",
       "\t<tr><td> 40293787</td><td>TFX3_Hydrocortisone</td><td>TFX_Hydrocortisone</td></tr>\n",
       "\t<tr><td> 26384034</td><td>TFX3_Mapracorat    </td><td>TFX_Mapracorat    </td></tr>\n",
       "\t<tr><td> 31454676</td><td>TFX3_RU486         </td><td>TFX_RU486         </td></tr>\n",
       "\t<tr><td> 41139261</td><td>TFX3_ZK216348      </td><td>TFX_ZK216348      </td></tr>\n",
       "\t<tr><td> 27175305</td><td>TFX4_AZD2906       </td><td>TFX_AZD2906       </td></tr>\n",
       "\t<tr><td> 33610712</td><td>TFX4_AZD9567       </td><td>TFX_AZD9567       </td></tr>\n",
       "\t<tr><td> 59429741</td><td>TFX4_CORT108297    </td><td>TFX_CORT108297    </td></tr>\n",
       "\t<tr><td> 31202573</td><td>TFX4_CpdA          </td><td>TFX_CpdA          </td></tr>\n",
       "\t<tr><td> 34590086</td><td>TFX4_Dex           </td><td>TFX_Dex           </td></tr>\n",
       "\t<tr><td> 30951533</td><td>TFX4_DMSO          </td><td>TFX_DMSO          </td></tr>\n",
       "\t<tr><td> 43395226</td><td>TFX4_GW870086      </td><td>TFX_GW870086      </td></tr>\n",
       "\t<tr><td> 27190016</td><td>TFX4_Hydrocortisone</td><td>TFX_Hydrocortisone</td></tr>\n",
       "\t<tr><td> 36460601</td><td>TFX4_Mapracorat    </td><td>TFX_Mapracorat    </td></tr>\n",
       "\t<tr><td> 31196111</td><td>TFX4_RU486         </td><td>TFX_RU486         </td></tr>\n",
       "\t<tr><td> 38035173</td><td>TFX4_ZK216348      </td><td>TFX_ZK216348      </td></tr>\n",
       "\t<tr><td> 43862195</td><td>TFX5_AZD2906       </td><td>TFX_AZD2906       </td></tr>\n",
       "\t<tr><td> 48356547</td><td>TFX5_AZD9567       </td><td>TFX_AZD9567       </td></tr>\n",
       "\t<tr><td> 42880899</td><td>TFX5_CORT108297    </td><td>TFX_CORT108297    </td></tr>\n",
       "\t<tr><td> 40239413</td><td>TFX5_CpdA          </td><td>TFX_CpdA          </td></tr>\n",
       "\t<tr><td> 42310249</td><td>TFX5_Dex           </td><td>TFX_Dex           </td></tr>\n",
       "\t<tr><td> 28859151</td><td>TFX5_DMSO          </td><td>TFX_DMSO          </td></tr>\n",
       "\t<tr><td> 39710444</td><td>TFX5_GW870086      </td><td>TFX_GW870086      </td></tr>\n",
       "\t<tr><td> 34580732</td><td>TFX5_Hydrocortisone</td><td>TFX_Hydrocortisone</td></tr>\n",
       "\t<tr><td> 48311553</td><td>TFX5_Mapracorat    </td><td>TFX_Mapracorat    </td></tr>\n",
       "\t<tr><td> 49785981</td><td>TFX5_RU486         </td><td>TFX_RU486         </td></tr>\n",
       "\t<tr><td> 35907183</td><td>TFX5_ZK216348      </td><td>TFX_ZK216348      </td></tr>\n",
       "</tbody>\n",
       "</table>\n"
      ],
      "text/latex": [
       "A tibble: 54 × 3\n",
       "\\begin{tabular}{lll}\n",
       " Size & Sample & Group\\\\\n",
       " <dbl> & <chr> & <chr>\\\\\n",
       "\\hline\n",
       "\t 371718546 & Input1\\_20x          & Input             \\\\\n",
       "\t  18666630 & Input1              & Input             \\\\\n",
       "\t 347635732 & Input2\\_20x          & Input             \\\\\n",
       "\t  20167924 & Input2              & Input             \\\\\n",
       "\t 349994051 & Input3\\_20x          & Input             \\\\\n",
       "\t  23280988 & Input3              & Input             \\\\\n",
       "\t 413508358 & Input4\\_20x          & Input             \\\\\n",
       "\t  19003938 & Input4              & Input             \\\\\n",
       "\t 341110487 & Input5\\_20x          & Input             \\\\\n",
       "\t  15325016 & Input5              & Input             \\\\\n",
       "\t  48376253 & TFX2\\_AZD2906        & TFX\\_AZD2906       \\\\\n",
       "\t  52542517 & TFX2\\_AZD9567        & TFX\\_AZD9567       \\\\\n",
       "\t  43646484 & TFX2\\_CORT108297     & TFX\\_CORT108297    \\\\\n",
       "\t  41732268 & TFX2\\_CpdA           & TFX\\_CpdA          \\\\\n",
       "\t  45413539 & TFX2\\_Dex            & TFX\\_Dex           \\\\\n",
       "\t  43844606 & TFX2\\_DMSO           & TFX\\_DMSO          \\\\\n",
       "\t  56207769 & TFX2\\_GW870086       & TFX\\_GW870086      \\\\\n",
       "\t  47829936 & TFX2\\_Hydrocortisone & TFX\\_Hydrocortisone\\\\\n",
       "\t  38120420 & TFX2\\_Mapracorat     & TFX\\_Mapracorat    \\\\\n",
       "\t  47687319 & TFX2\\_RU486          & TFX\\_RU486         \\\\\n",
       "\t  45455167 & TFX2\\_ZK216348       & TFX\\_ZK216348      \\\\\n",
       "\t  26840149 & TFX3\\_AZD2906        & TFX\\_AZD2906       \\\\\n",
       "\t  44435989 & TFX3\\_AZD9567        & TFX\\_AZD9567       \\\\\n",
       "\t  32701206 & TFX3\\_CORT108297     & TFX\\_CORT108297    \\\\\n",
       "\t  26352610 & TFX3\\_CpdA           & TFX\\_CpdA          \\\\\n",
       "\t  26400671 & TFX3\\_Dex            & TFX\\_Dex           \\\\\n",
       "\t  26819569 & TFX3\\_DMSO           & TFX\\_DMSO          \\\\\n",
       "\t  36774709 & TFX3\\_GW870086       & TFX\\_GW870086      \\\\\n",
       "\t  40293787 & TFX3\\_Hydrocortisone & TFX\\_Hydrocortisone\\\\\n",
       "\t  26384034 & TFX3\\_Mapracorat     & TFX\\_Mapracorat    \\\\\n",
       "\t  31454676 & TFX3\\_RU486          & TFX\\_RU486         \\\\\n",
       "\t  41139261 & TFX3\\_ZK216348       & TFX\\_ZK216348      \\\\\n",
       "\t  27175305 & TFX4\\_AZD2906        & TFX\\_AZD2906       \\\\\n",
       "\t  33610712 & TFX4\\_AZD9567        & TFX\\_AZD9567       \\\\\n",
       "\t  59429741 & TFX4\\_CORT108297     & TFX\\_CORT108297    \\\\\n",
       "\t  31202573 & TFX4\\_CpdA           & TFX\\_CpdA          \\\\\n",
       "\t  34590086 & TFX4\\_Dex            & TFX\\_Dex           \\\\\n",
       "\t  30951533 & TFX4\\_DMSO           & TFX\\_DMSO          \\\\\n",
       "\t  43395226 & TFX4\\_GW870086       & TFX\\_GW870086      \\\\\n",
       "\t  27190016 & TFX4\\_Hydrocortisone & TFX\\_Hydrocortisone\\\\\n",
       "\t  36460601 & TFX4\\_Mapracorat     & TFX\\_Mapracorat    \\\\\n",
       "\t  31196111 & TFX4\\_RU486          & TFX\\_RU486         \\\\\n",
       "\t  38035173 & TFX4\\_ZK216348       & TFX\\_ZK216348      \\\\\n",
       "\t  43862195 & TFX5\\_AZD2906        & TFX\\_AZD2906       \\\\\n",
       "\t  48356547 & TFX5\\_AZD9567        & TFX\\_AZD9567       \\\\\n",
       "\t  42880899 & TFX5\\_CORT108297     & TFX\\_CORT108297    \\\\\n",
       "\t  40239413 & TFX5\\_CpdA           & TFX\\_CpdA          \\\\\n",
       "\t  42310249 & TFX5\\_Dex            & TFX\\_Dex           \\\\\n",
       "\t  28859151 & TFX5\\_DMSO           & TFX\\_DMSO          \\\\\n",
       "\t  39710444 & TFX5\\_GW870086       & TFX\\_GW870086      \\\\\n",
       "\t  34580732 & TFX5\\_Hydrocortisone & TFX\\_Hydrocortisone\\\\\n",
       "\t  48311553 & TFX5\\_Mapracorat     & TFX\\_Mapracorat    \\\\\n",
       "\t  49785981 & TFX5\\_RU486          & TFX\\_RU486         \\\\\n",
       "\t  35907183 & TFX5\\_ZK216348       & TFX\\_ZK216348      \\\\\n",
       "\\end{tabular}\n"
      ],
      "text/markdown": [
       "\n",
       "A tibble: 54 × 3\n",
       "\n",
       "| Size &lt;dbl&gt; | Sample &lt;chr&gt; | Group &lt;chr&gt; |\n",
       "|---|---|---|\n",
       "| 371718546 | Input1_20x          | Input              |\n",
       "|  18666630 | Input1              | Input              |\n",
       "| 347635732 | Input2_20x          | Input              |\n",
       "|  20167924 | Input2              | Input              |\n",
       "| 349994051 | Input3_20x          | Input              |\n",
       "|  23280988 | Input3              | Input              |\n",
       "| 413508358 | Input4_20x          | Input              |\n",
       "|  19003938 | Input4              | Input              |\n",
       "| 341110487 | Input5_20x          | Input              |\n",
       "|  15325016 | Input5              | Input              |\n",
       "|  48376253 | TFX2_AZD2906        | TFX_AZD2906        |\n",
       "|  52542517 | TFX2_AZD9567        | TFX_AZD9567        |\n",
       "|  43646484 | TFX2_CORT108297     | TFX_CORT108297     |\n",
       "|  41732268 | TFX2_CpdA           | TFX_CpdA           |\n",
       "|  45413539 | TFX2_Dex            | TFX_Dex            |\n",
       "|  43844606 | TFX2_DMSO           | TFX_DMSO           |\n",
       "|  56207769 | TFX2_GW870086       | TFX_GW870086       |\n",
       "|  47829936 | TFX2_Hydrocortisone | TFX_Hydrocortisone |\n",
       "|  38120420 | TFX2_Mapracorat     | TFX_Mapracorat     |\n",
       "|  47687319 | TFX2_RU486          | TFX_RU486          |\n",
       "|  45455167 | TFX2_ZK216348       | TFX_ZK216348       |\n",
       "|  26840149 | TFX3_AZD2906        | TFX_AZD2906        |\n",
       "|  44435989 | TFX3_AZD9567        | TFX_AZD9567        |\n",
       "|  32701206 | TFX3_CORT108297     | TFX_CORT108297     |\n",
       "|  26352610 | TFX3_CpdA           | TFX_CpdA           |\n",
       "|  26400671 | TFX3_Dex            | TFX_Dex            |\n",
       "|  26819569 | TFX3_DMSO           | TFX_DMSO           |\n",
       "|  36774709 | TFX3_GW870086       | TFX_GW870086       |\n",
       "|  40293787 | TFX3_Hydrocortisone | TFX_Hydrocortisone |\n",
       "|  26384034 | TFX3_Mapracorat     | TFX_Mapracorat     |\n",
       "|  31454676 | TFX3_RU486          | TFX_RU486          |\n",
       "|  41139261 | TFX3_ZK216348       | TFX_ZK216348       |\n",
       "|  27175305 | TFX4_AZD2906        | TFX_AZD2906        |\n",
       "|  33610712 | TFX4_AZD9567        | TFX_AZD9567        |\n",
       "|  59429741 | TFX4_CORT108297     | TFX_CORT108297     |\n",
       "|  31202573 | TFX4_CpdA           | TFX_CpdA           |\n",
       "|  34590086 | TFX4_Dex            | TFX_Dex            |\n",
       "|  30951533 | TFX4_DMSO           | TFX_DMSO           |\n",
       "|  43395226 | TFX4_GW870086       | TFX_GW870086       |\n",
       "|  27190016 | TFX4_Hydrocortisone | TFX_Hydrocortisone |\n",
       "|  36460601 | TFX4_Mapracorat     | TFX_Mapracorat     |\n",
       "|  31196111 | TFX4_RU486          | TFX_RU486          |\n",
       "|  38035173 | TFX4_ZK216348       | TFX_ZK216348       |\n",
       "|  43862195 | TFX5_AZD2906        | TFX_AZD2906        |\n",
       "|  48356547 | TFX5_AZD9567        | TFX_AZD9567        |\n",
       "|  42880899 | TFX5_CORT108297     | TFX_CORT108297     |\n",
       "|  40239413 | TFX5_CpdA           | TFX_CpdA           |\n",
       "|  42310249 | TFX5_Dex            | TFX_Dex            |\n",
       "|  28859151 | TFX5_DMSO           | TFX_DMSO           |\n",
       "|  39710444 | TFX5_GW870086       | TFX_GW870086       |\n",
       "|  34580732 | TFX5_Hydrocortisone | TFX_Hydrocortisone |\n",
       "|  48311553 | TFX5_Mapracorat     | TFX_Mapracorat     |\n",
       "|  49785981 | TFX5_RU486          | TFX_RU486          |\n",
       "|  35907183 | TFX5_ZK216348       | TFX_ZK216348       |\n",
       "\n"
      ],
      "text/plain": [
       "   Size      Sample              Group             \n",
       "1  371718546 Input1_20x          Input             \n",
       "2   18666630 Input1              Input             \n",
       "3  347635732 Input2_20x          Input             \n",
       "4   20167924 Input2              Input             \n",
       "5  349994051 Input3_20x          Input             \n",
       "6   23280988 Input3              Input             \n",
       "7  413508358 Input4_20x          Input             \n",
       "8   19003938 Input4              Input             \n",
       "9  341110487 Input5_20x          Input             \n",
       "10  15325016 Input5              Input             \n",
       "11  48376253 TFX2_AZD2906        TFX_AZD2906       \n",
       "12  52542517 TFX2_AZD9567        TFX_AZD9567       \n",
       "13  43646484 TFX2_CORT108297     TFX_CORT108297    \n",
       "14  41732268 TFX2_CpdA           TFX_CpdA          \n",
       "15  45413539 TFX2_Dex            TFX_Dex           \n",
       "16  43844606 TFX2_DMSO           TFX_DMSO          \n",
       "17  56207769 TFX2_GW870086       TFX_GW870086      \n",
       "18  47829936 TFX2_Hydrocortisone TFX_Hydrocortisone\n",
       "19  38120420 TFX2_Mapracorat     TFX_Mapracorat    \n",
       "20  47687319 TFX2_RU486          TFX_RU486         \n",
       "21  45455167 TFX2_ZK216348       TFX_ZK216348      \n",
       "22  26840149 TFX3_AZD2906        TFX_AZD2906       \n",
       "23  44435989 TFX3_AZD9567        TFX_AZD9567       \n",
       "24  32701206 TFX3_CORT108297     TFX_CORT108297    \n",
       "25  26352610 TFX3_CpdA           TFX_CpdA          \n",
       "26  26400671 TFX3_Dex            TFX_Dex           \n",
       "27  26819569 TFX3_DMSO           TFX_DMSO          \n",
       "28  36774709 TFX3_GW870086       TFX_GW870086      \n",
       "29  40293787 TFX3_Hydrocortisone TFX_Hydrocortisone\n",
       "30  26384034 TFX3_Mapracorat     TFX_Mapracorat    \n",
       "31  31454676 TFX3_RU486          TFX_RU486         \n",
       "32  41139261 TFX3_ZK216348       TFX_ZK216348      \n",
       "33  27175305 TFX4_AZD2906        TFX_AZD2906       \n",
       "34  33610712 TFX4_AZD9567        TFX_AZD9567       \n",
       "35  59429741 TFX4_CORT108297     TFX_CORT108297    \n",
       "36  31202573 TFX4_CpdA           TFX_CpdA          \n",
       "37  34590086 TFX4_Dex            TFX_Dex           \n",
       "38  30951533 TFX4_DMSO           TFX_DMSO          \n",
       "39  43395226 TFX4_GW870086       TFX_GW870086      \n",
       "40  27190016 TFX4_Hydrocortisone TFX_Hydrocortisone\n",
       "41  36460601 TFX4_Mapracorat     TFX_Mapracorat    \n",
       "42  31196111 TFX4_RU486          TFX_RU486         \n",
       "43  38035173 TFX4_ZK216348       TFX_ZK216348      \n",
       "44  43862195 TFX5_AZD2906        TFX_AZD2906       \n",
       "45  48356547 TFX5_AZD9567        TFX_AZD9567       \n",
       "46  42880899 TFX5_CORT108297     TFX_CORT108297    \n",
       "47  40239413 TFX5_CpdA           TFX_CpdA          \n",
       "48  42310249 TFX5_Dex            TFX_Dex           \n",
       "49  28859151 TFX5_DMSO           TFX_DMSO          \n",
       "50  39710444 TFX5_GW870086       TFX_GW870086      \n",
       "51  34580732 TFX5_Hydrocortisone TFX_Hydrocortisone\n",
       "52  48311553 TFX5_Mapracorat     TFX_Mapracorat    \n",
       "53  49785981 TFX5_RU486          TFX_RU486         \n",
       "54  35907183 TFX5_ZK216348       TFX_ZK216348      "
      ]
     },
     "metadata": {},
     "output_type": "display_data"
    }
   ],
   "source": [
    "###################################################\n",
    "# Import library size\n",
    "###################################################\n",
    "\n",
    "### Helper function to get\n",
    "get_group = function(idn_sample){\n",
    "    idn = idn_sample\n",
    "    \n",
    "    idn = str_replace(\n",
    "        string = idn, \n",
    "        pattern = \"Input[0-9]\", \n",
    "        replacement = \"Input\")\n",
    "    \n",
    "    idn = str_remove(\n",
    "        string = idn, \n",
    "        pattern = \"_20x\")\n",
    "    \n",
    "    idn = str_replace(\n",
    "        string = idn, \n",
    "        pattern = \"TFX[0-9]_\", \n",
    "        replacement=\"TFX_\")\n",
    "    return(idn)\n",
    "}\n",
    "\n",
    "### set path\n",
    "fdiry = file.path(FD_RES, \"source\")\n",
    "fname = \"library_size.txt\"\n",
    "fpath = file.path(fdiry, fname)\n",
    "\n",
    "### import library size\n",
    "ctypes = c(col_integer(), col_character())\n",
    "cnames = c(\"Size\", \"FPath\")\n",
    "dat_lib = read_tsv(fpath, col_types=ctypes, col_names = cnames)\n",
    "\n",
    "### remove the total size\n",
    "dat_lib = dat_lib %>% dplyr::filter(FPath != \"total\")\n",
    "\n",
    "### summarize info from the file path\n",
    "### stackoverflow: Extract only folder name right before filename from full path\n",
    "dat_lib = dat_lib %>% \n",
    "    #mutate(Sample = tools::file_path_sans_ext(basename(FPath))) %>%\n",
    "    mutate(Sample = basename(dirname(FPath))) %>%\n",
    "    mutate(Group = get_group(Sample))\n",
    "dat_lib = dat_lib %>% dplyr::select(Size, Sample, Group)\n",
    "dat_lib"
   ]
  },
  {
   "cell_type": "markdown",
   "metadata": {},
   "source": [
    "## Preprocess\n",
    "* Filter: at least 10 fragments for a motif\n",
    "* Filter: fully cover the motif"
   ]
  },
  {
   "cell_type": "code",
   "execution_count": 8,
   "metadata": {},
   "outputs": [
    {
     "name": "stdout",
     "output_type": "stream",
     "text": [
      "+++++ Preprocess +++++\n",
      "Filtering: fully cover the motif\n",
      "    Before Filter: #Motif = 240 #Annot = 5970091 \n",
      "    After  Filter: #Motif = 240 #Annot = 5817178 \n",
      "Filtering: filter out motifs with low fragments\n",
      "    Threshold: 10 \n",
      "    Before Filter: #Motif = 240 \n",
      "    After  Filter: #Motif = 240 \n"
     ]
    }
   ],
   "source": [
    "###################################################\n",
    "# Preprocess\n",
    "###################################################\n",
    "cat(\"+++++ Preprocess +++++\\n\")\n",
    "\n",
    "### Filter: fully cover the motif\n",
    "dat = dat_ann_frag\n",
    "dat = dat %>% \n",
    "    mutate(Length_MTF = End_MTF - Start_MTF) %>%\n",
    "    mutate(Length_Dif = Length_MTF - Overlap)\n",
    "\n",
    "cat(\"Filtering: fully cover the motif\\n\")\n",
    "cat(\"    Before Filter:\", \"#Motif =\", length(unique(dat$Motif)), \"#Annot =\", nrow(dat), \"\\n\")\n",
    "dat = dat %>% dplyr::filter(Length_Dif == 0)\n",
    "cat(\"    After  Filter:\", \"#Motif =\", length(unique(dat$Motif)), \"#Annot =\", nrow(dat), \"\\n\")\n",
    "\n",
    "### grouped by motif cluster and \n",
    "### split the annotated fragments into list\n",
    "lst    = dat %>% group_by(Motif) %>% group_split\n",
    "motifs = lapply(lst, function(x){unique(x$Motif)}) %>% unlist\n",
    "names(lst) = motifs\n",
    "\n",
    "### get the list\n",
    "lst_frag = lapply(lst, function(dat){\n",
    "    tmp = dat %>% \n",
    "        group_by(Chrom_Frag, Start_Frag, End_Frag, Count_Frag, Motif, Sample) %>%\n",
    "        summarize(N_Motif = n(), .groups = 'drop')\n",
    "    return(tmp)\n",
    "})\n",
    "\n",
    "### filter out motifs that have almost no/low fragment in total\n",
    "THRESHOLD = 10\n",
    "cat(\"Filtering: filter out motifs with low fragments\\n\")\n",
    "cat(\"    Threshold:\", THRESHOLD, \"\\n\")\n",
    "cat(\"    Before Filter:\", \"#Motif =\", length(lst_frag), \"\\n\")\n",
    "\n",
    "lst = lst_frag\n",
    "cnt = lapply(lst, function(dat){sum(dat$Count_Frag)})\n",
    "lst = lst[cnt > 10]\n",
    "lst_frag = lst\n",
    "\n",
    "cat(\"    After  Filter:\", \"#Motif =\", length(lst_frag), \"\\n\")"
   ]
  },
  {
   "cell_type": "markdown",
   "metadata": {},
   "source": [
    "## Run Analysis"
   ]
  },
  {
   "cell_type": "code",
   "execution_count": 9,
   "metadata": {},
   "outputs": [
    {
     "name": "stdout",
     "output_type": "stream",
     "text": [
      "Target:           target_PER1 \n",
      "Output Directory: /home/mount/work/out/proj_combeffect/model_linear/test_marginal_pool_input20x/target_PER1 \n",
      "Threshold:        10 \n"
     ]
    }
   ],
   "source": [
    "### arguments\n",
    "TARGET = \"target_PER1\"\n",
    "IS_INPUT20X = TRUE\n",
    "THRESHOLD = 10\n",
    "FDIRY  = \"test_marginal_pool\"\n",
    "#FDIRY  = \"test_marginal_split\"\n",
    "\n",
    "### set samples and path\n",
    "SAMPLES_TOT = c(\n",
    "    paste0(\"Input\", 1:5),\n",
    "    paste0(\"Input\", 1:5, \"_20x\"),\n",
    "    paste0(\"TFX\",   2:5, \"_DMSO\"),\n",
    "    paste0(\"TFX\",   2:5, \"_Dex\"))\n",
    "\n",
    "SAMPLES_INP = c(\n",
    "    paste0(\"Input\", 1:5),\n",
    "    paste0(\"TFX\",   2:5, \"_DMSO\"),\n",
    "    paste0(\"TFX\",   2:5, \"_Dex\"))\n",
    "\n",
    "SAMPLES_INP20X = c(\n",
    "    paste0(\"Input\", 1:5, \"_20x\"),\n",
    "    paste0(\"TFX\",   2:5, \"_DMSO\"),\n",
    "    paste0(\"TFX\",   2:5, \"_Dex\"))\n",
    "\n",
    "if (IS_INPUT20X) {\n",
    "    SAMPLES = SAMPLES_INP20X\n",
    "    FDIRY   = paste0(FDIRY, \"_input20x\")\n",
    "} else {\n",
    "    SAMPLES = SAMPLES_INP\n",
    "}\n",
    "FD_OUT = file.path(FD_RES, \"model_linear\", FDIRY, TARGET)\n",
    "dir.create(FD_OUT, recursive = TRUE)\n",
    "\n",
    "### set motifs\n",
    "fdiry  = file.path(FD_RES, \"annotation_fragment\", SAMPLES[1], TARGET)\n",
    "fname  = \"*_merge.bed.gz\"\n",
    "fglob  = file.path(fdiry, fname)\n",
    "fpaths = Sys.glob(fglob)\n",
    "MOTIFS = basename(fpaths)\n",
    "\n",
    "### set column names and types\n",
    "CTYPES = c(col_character(), col_integer(), col_integer(), col_integer(),\n",
    "           col_character(), col_integer(), col_integer(),\n",
    "           col_character(), col_double(),  col_integer())\n",
    "CNAMES = c(\"Chrom_Frag\", \"Start_Frag\", \"End_Frag\", \"Count_Frag\",\n",
    "           \"Chrom_MTF\",  \"Start_MTF\",  \"End_MTF\",\n",
    "           \"Motif\", \"Score\", \"Overlap\")\n",
    "\n",
    "### START message\n",
    "cat(\"Target:          \", TARGET, \"\\n\")\n",
    "cat(\"Output Directory:\", FD_OUT, \"\\n\")\n",
    "cat(\"Threshold:       \", THRESHOLD, \"\\n\")"
   ]
  },
  {
   "cell_type": "markdown",
   "metadata": {},
   "source": [
    "**RUN**"
   ]
  },
  {
   "cell_type": "code",
   "execution_count": 10,
   "metadata": {},
   "outputs": [
    {
     "data": {
      "text/html": [
       "<style>\n",
       ".list-inline {list-style: none; margin:0; padding: 0}\n",
       ".list-inline>li {display: inline-block}\n",
       ".list-inline>li:not(:last-child)::after {content: \"\\00b7\"; padding: 0 .5ex}\n",
       "</style>\n",
       "<ol class=list-inline><li>'AHR'</li><li>'AIRE'</li><li>'AP1/1'</li><li>'AP1/2'</li><li>'BATF'</li><li>'BCL6/1'</li></ol>\n"
      ],
      "text/latex": [
       "\\begin{enumerate*}\n",
       "\\item 'AHR'\n",
       "\\item 'AIRE'\n",
       "\\item 'AP1/1'\n",
       "\\item 'AP1/2'\n",
       "\\item 'BATF'\n",
       "\\item 'BCL6/1'\n",
       "\\end{enumerate*}\n"
      ],
      "text/markdown": [
       "1. 'AHR'\n",
       "2. 'AIRE'\n",
       "3. 'AP1/1'\n",
       "4. 'AP1/2'\n",
       "5. 'BATF'\n",
       "6. 'BCL6/1'\n",
       "\n",
       "\n"
      ],
      "text/plain": [
       "[1] \"AHR\"    \"AIRE\"   \"AP1/1\"  \"AP1/2\"  \"BATF\"   \"BCL6/1\""
      ]
     },
     "metadata": {},
     "output_type": "display_data"
    }
   ],
   "source": [
    "head(names(lst_frag))"
   ]
  },
  {
   "cell_type": "code",
   "execution_count": 14,
   "metadata": {},
   "outputs": [
    {
     "name": "stdout",
     "output_type": "stream",
     "text": [
      "Done!\n",
      "Time difference of 0.2221425 secs\n"
     ]
    }
   ],
   "source": [
    "### start\n",
    "#registerDoParallel(10)\n",
    "timer_start = Sys.time()\n",
    "\n",
    "lst_tmp = head(lst_frag, 5)\n",
    "lst_tmp = foreach(idn = names(lst_tmp), .combine = append) %do% {\n",
    "    \n",
    "    ### extract\n",
    "    dat = lst_tmp[[idn]]\n",
    "    \n",
    "    ### get fragments\n",
    "    dat = dat %>% \n",
    "        dplyr::select(Chrom_Frag, Start_Frag, End_Frag, Count_Frag, Sample) %>%\n",
    "        distinct()\n",
    "\n",
    "    ### count\n",
    "    dat = dat %>% group_by(Sample) %>% summarise(Value = sum(Count_Frag))\n",
    "    \n",
    "    ### choose\n",
    "    dat = dat %>% dplyr::filter(Sample %in% SAMPLES)\n",
    "    \n",
    "    ### normalize counts by library size\n",
    "    dat = dat %>% left_join(dat_lib, by=\"Sample\")\n",
    "    dat = dat %>%\n",
    "        mutate(Norm_Value    = Value / Size) %>% \n",
    "        mutate(Lognorm_Value = log10(Value) - log10(Size)) %>%\n",
    "        mutate(X = Group)\n",
    "\n",
    "    ### create design matrix\n",
    "    idxs  = c(\"Input\", \"TFX_DMSO\", \"TFX_Dex\")\n",
    "    dat$X = factor(dat$X, levels=idxs)\n",
    "    X = model.matrix(~X, dat)\n",
    "    X[,\"XTFX_DMSO\"] = X[,\"XTFX_DMSO\"] + X[,\"XTFX_Dex\"]\n",
    "    y = dat$Norm_Value\n",
    "\n",
    "    ### fit model and get the summary\n",
    "    fit = lm(y ~ X + 0)\n",
    "    #res = summary(fit)\n",
    "    \n",
    "    ### reduce the memory size\n",
    "    #res = stripGlmLR(res)\n",
    "    \n",
    "    ### arrange\n",
    "    lst = list()\n",
    "    lst$fit = fit\n",
    "    lst$cnt = dat\n",
    "    lst$X   = X\n",
    "    lst$y   = y\n",
    "    \n",
    "    ### store the results\n",
    "    fdiry = FD_OUT\n",
    "    fname = str_replace(idn, pattern = \"/\", replacement = \"_\")\n",
    "    fname = paste0(fname, \".RDS\")\n",
    "    fpath = file.path(fdiry, fname)\n",
    "    saveRDS(lst, fpath)\n",
    "    idn\n",
    "}\n",
    "\n",
    "### print end message\n",
    "timer = Sys.time()\n",
    "cat(\"Done!\\n\")\n",
    "print(timer - timer_start)"
   ]
  },
  {
   "cell_type": "markdown",
   "metadata": {},
   "source": [
    "## Compare old input and new input (deeper)"
   ]
  },
  {
   "cell_type": "code",
   "execution_count": null,
   "metadata": {},
   "outputs": [],
   "source": [
    "### start\n",
    "#registerDoParallel(10)\n",
    "timer_start = Sys.time()\n",
    "\n",
    "###\n",
    "lst_tmp     = lst_frag #head(lst_frag, 10)\n",
    "lst_res_old = foreach(idn = names(lst_tmp), .combine = append) %do% {\n",
    "    ### set environment\n",
    "    require(tidyverse)\n",
    "    \n",
    "    ### extract\n",
    "    dat = lst_tmp[[idn]]\n",
    "    \n",
    "    ### get fragments\n",
    "    dat = dat %>% \n",
    "        dplyr::select(Chrom_Frag, Start_Frag, End_Frag, Count_Frag, Sample) %>%\n",
    "        distinct()\n",
    "\n",
    "    ### count\n",
    "    dat = dat %>% group_by(Sample) %>% summarise(Value = sum(Count_Frag))\n",
    "    \n",
    "    ### choose\n",
    "    dat = dat %>% dplyr::filter(Sample %in% SAMPLES1)\n",
    "    \n",
    "    ### normalize counts by library size\n",
    "    dat = dat %>% left_join(dat_lib, by=\"Sample\")\n",
    "    dat = dat %>%\n",
    "        mutate(Norm_Value    = Value / Size) %>% \n",
    "        mutate(Lognorm_Value = log10(Value) - log10(Size)) %>%\n",
    "        mutate(X = Group)\n",
    "\n",
    "    ### create design matrix\n",
    "    idxs  = c(\"Input\", \"TFX_DMSO\", \"TFX_Dex\")\n",
    "    dat$X = factor(dat$X, levels=idxs)\n",
    "    X = model.matrix(~X, dat)\n",
    "    X[,\"XTFX_DMSO\"] = X[,\"XTFX_DMSO\"] + X[,\"XTFX_Dex\"]\n",
    "    y = dat$Norm_Value\n",
    "\n",
    "    ### fit model and get the summary\n",
    "    fit = lm(y ~ X + 0)\n",
    "    res = summary(fit)\n",
    "    \n",
    "    ### reduce the memory size\n",
    "    res = stripGlmLR(res)\n",
    "    \n",
    "    ### arrange\n",
    "    lst = list()\n",
    "    lst[[idn]] = res\n",
    "    #lst[[idn]] = list()\n",
    "    #lst[[idn]]$res = res\n",
    "    #lst[[idn]]$cnt = dat\n",
    "    #lst[[idn]]$X   = X\n",
    "    #lst[[idn]]$y   = y\n",
    "    lst\n",
    "}\n",
    "\n",
    "### print end message\n",
    "timer = Sys.time()\n",
    "cat(\"Done!\\n\")\n",
    "print(timer - timer_start)"
   ]
  },
  {
   "cell_type": "code",
   "execution_count": null,
   "metadata": {},
   "outputs": [],
   "source": [
    "### start\n",
    "#registerDoParallel(10)\n",
    "timer_start = Sys.time()\n",
    "\n",
    "###\n",
    "lst_tmp     = lst_frag #head(lst_frag, 10)\n",
    "lst_res_new = foreach(idn = names(lst_tmp), .combine = append) %do% {\n",
    "    ### set environment\n",
    "    require(tidyverse)\n",
    "    \n",
    "    ### extract\n",
    "    dat = lst_tmp[[idn]]\n",
    "    \n",
    "    ### get fragments\n",
    "    dat = dat %>% \n",
    "        dplyr::select(Chrom_Frag, Start_Frag, End_Frag, Count_Frag, Sample) %>%\n",
    "        distinct()\n",
    "\n",
    "    ### count\n",
    "    dat = dat %>% group_by(Sample) %>% summarise(Value = sum(Count_Frag))\n",
    "    \n",
    "    ### choose\n",
    "    dat = dat %>% dplyr::filter(Sample %in% SAMPLES2)\n",
    "    \n",
    "    ### normalize counts by library size\n",
    "    dat = dat %>% left_join(dat_lib, by=\"Sample\")\n",
    "    dat = dat %>%\n",
    "        mutate(Norm_Value    = Value / Size) %>% \n",
    "        mutate(Lognorm_Value = log10(Value) - log10(Size)) %>%\n",
    "        mutate(X = Group)\n",
    "\n",
    "    ### create design matrix\n",
    "    idxs  = c(\"Input\", \"TFX_DMSO\", \"TFX_Dex\")\n",
    "    dat$X = factor(dat$X, levels=idxs)\n",
    "    X = model.matrix(~X, dat)\n",
    "    X[,\"XTFX_DMSO\"] = X[,\"XTFX_DMSO\"] + X[,\"XTFX_Dex\"]\n",
    "    y = dat$Norm_Value\n",
    "\n",
    "    ### fit model and get the summary\n",
    "    fit = lm(y ~ X + 0)\n",
    "    res = summary(fit)\n",
    "    \n",
    "    ### reduce the memory size\n",
    "    res = stripGlmLR(res)\n",
    "    \n",
    "    ### arrange\n",
    "    lst = list()\n",
    "    lst[[idn]] = res\n",
    "    #lst[[idn]] = list()\n",
    "    #lst[[idn]]$res = res\n",
    "    #lst[[idn]]$cnt = dat\n",
    "    #lst[[idn]]$X   = X\n",
    "    #lst[[idn]]$y   = y\n",
    "    lst\n",
    "}\n",
    "\n",
    "### print end message\n",
    "timer = Sys.time()\n",
    "cat(\"Done!\\n\")\n",
    "print(timer - timer_start)"
   ]
  },
  {
   "cell_type": "markdown",
   "metadata": {},
   "source": [
    "## Visualize"
   ]
  },
  {
   "cell_type": "code",
   "execution_count": null,
   "metadata": {},
   "outputs": [],
   "source": [
    "fun = function(motifs){\n",
    "    res = sapply(motifs, function(motif){\n",
    "        if (motif == \"NR/20\"){ return(\"red\") }\n",
    "        if (motif == \"AP1/1\"){ return(\"blue\") }\n",
    "        return(\"grey50\")\n",
    "    })\n",
    "    return(res)\n",
    "}"
   ]
  },
  {
   "cell_type": "code",
   "execution_count": null,
   "metadata": {},
   "outputs": [],
   "source": [
    "lst_dat = list(lst_res_old, lst_res_new)\n",
    "lst_dat = lapply(lst_dat, function(lst_res){\n",
    "    ###\n",
    "    lst = lapply(names(lst_res), function(mtf){\n",
    "        res = lst_res[[mtf]]\n",
    "        dat = as.data.frame(coef(res))\n",
    "        dat = rownames_to_column(dat, var=\"X\")\n",
    "        dat$Motif = mtf\n",
    "        return(dat)\n",
    "    })\n",
    "    \n",
    "    ###\n",
    "    dat = bind_rows(lst)\n",
    "    dat = dat %>% dplyr::filter(str_detect(X, \"Intercept\", negate = TRUE))\n",
    "    dat$Color = fun(dat$Motif)\n",
    "    dat$X = factor(dat$X, levels=c(\"XXTFX_DMSO\", \"XXTFX_Dex\"))\n",
    "    return(dat)\n",
    "})"
   ]
  },
  {
   "cell_type": "code",
   "execution_count": null,
   "metadata": {},
   "outputs": [],
   "source": [
    "lst_dat = lapply(lst_dat, function(dat){\n",
    "    dat$adj_pval = p.adjust(dat$`Pr(>|t|)`, method = \"BH\")\n",
    "    return(dat)\n",
    "})"
   ]
  },
  {
   "cell_type": "code",
   "execution_count": null,
   "metadata": {},
   "outputs": [],
   "source": [
    "head(lst_dat[[1]])"
   ]
  },
  {
   "cell_type": "code",
   "execution_count": null,
   "metadata": {},
   "outputs": [],
   "source": [
    "lst_gpt = lapply(lst_dat, function(dat){\n",
    "    gpt = ggplot(dat, aes(x=Estimate, y=-log10(`Pr(>|t|)`))) + \n",
    "        geom_point(size=0.7, color=dat$Color) + \n",
    "        geom_hline(yintercept = 2, color=\"red\", alpha=0.5) +\n",
    "        labs(x=\"Estimate\", y=\"-log10(adj. p-value (BH))\") +\n",
    "        theme_bw() + \n",
    "        facet_wrap(~X)\n",
    "    return(gpt)\n",
    "})\n",
    "lst_gpt[[1]] = lst_gpt[[1]] + ggtitle(\"Old Input\")\n",
    "lst_gpt[[2]] = lst_gpt[[2]] + ggtitle(\"New Input (Deeper)\")"
   ]
  },
  {
   "cell_type": "code",
   "execution_count": null,
   "metadata": {},
   "outputs": [],
   "source": [
    "options(repr.plot.height=7, repr.plot.width=8)\n",
    "grid.arrange(grobs = lst_gpt, ncol = 1)"
   ]
  },
  {
   "cell_type": "code",
   "execution_count": 1,
   "metadata": {},
   "outputs": [
    {
     "ename": "ERROR",
     "evalue": "Error in grid.arrange(grobs = lst_gpt, ncol = 1): could not find function \"grid.arrange\"\n",
     "output_type": "error",
     "traceback": [
      "Error in grid.arrange(grobs = lst_gpt, ncol = 1): could not find function \"grid.arrange\"\nTraceback:\n"
     ]
    }
   ],
   "source": [
    "options(repr.plot.height=7, repr.plot.width=8)\n",
    "grid.arrange(grobs = lst_gpt, ncol = 1)"
   ]
  },
  {
   "cell_type": "code",
   "execution_count": null,
   "metadata": {},
   "outputs": [],
   "source": []
  }
 ],
 "metadata": {
  "kernelspec": {
   "display_name": "R (alex_py3)",
   "language": "R",
   "name": "ir_alex_py3"
  },
  "language_info": {
   "codemirror_mode": "r",
   "file_extension": ".r",
   "mimetype": "text/x-r-source",
   "name": "R",
   "pygments_lexer": "r",
   "version": "3.6.2"
  }
 },
 "nbformat": 4,
 "nbformat_minor": 4
}
