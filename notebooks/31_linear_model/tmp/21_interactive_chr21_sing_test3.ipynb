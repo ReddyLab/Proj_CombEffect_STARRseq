{
 "cells": [
  {
   "cell_type": "code",
   "execution_count": 1,
   "id": "5ee04836",
   "metadata": {},
   "outputs": [],
   "source": [
    "suppressMessages(suppressWarnings(source(\"../config_sing.R\")))"
   ]
  },
  {
   "cell_type": "code",
   "execution_count": 2,
   "id": "a9b82f7e",
   "metadata": {},
   "outputs": [
    {
     "data": {
      "text/html": [
       "'/home/mount/work/out/proj_combeffect'"
      ],
      "text/latex": [
       "'/home/mount/work/out/proj\\_combeffect'"
      ],
      "text/markdown": [
       "'/home/mount/work/out/proj_combeffect'"
      ],
      "text/plain": [
       "[1] \"/home/mount/work/out/proj_combeffect\""
      ]
     },
     "metadata": {},
     "output_type": "display_data"
    }
   ],
   "source": [
    "FD_RES"
   ]
  },
  {
   "cell_type": "code",
   "execution_count": 2,
   "id": "7be2a120",
   "metadata": {},
   "outputs": [
    {
     "data": {
      "text/html": [
       "<style>\n",
       ".list-inline {list-style: none; margin:0; padding: 0}\n",
       ".list-inline>li {display: inline-block}\n",
       ".list-inline>li:not(:last-child)::after {content: \"\\00b7\"; padding: 0 .5ex}\n",
       "</style>\n",
       "<ol class=list-inline><li>'annotation_fragment'</li><li>'count_fragment'</li><li>'coverage'</li><li>'data'</li><li>'log'</li></ol>\n"
      ],
      "text/latex": [
       "\\begin{enumerate*}\n",
       "\\item 'annotation\\_fragment'\n",
       "\\item 'count\\_fragment'\n",
       "\\item 'coverage'\n",
       "\\item 'data'\n",
       "\\item 'log'\n",
       "\\end{enumerate*}\n"
      ],
      "text/markdown": [
       "1. 'annotation_fragment'\n",
       "2. 'count_fragment'\n",
       "3. 'coverage'\n",
       "4. 'data'\n",
       "5. 'log'\n",
       "\n",
       "\n"
      ],
      "text/plain": [
       "[1] \"annotation_fragment\" \"count_fragment\"      \"coverage\"           \n",
       "[4] \"data\"                \"log\"                "
      ]
     },
     "metadata": {},
     "output_type": "display_data"
    }
   ],
   "source": [
    "dir(FD_RES)"
   ]
  },
  {
   "cell_type": "code",
   "execution_count": 9,
   "id": "34c1afe7",
   "metadata": {},
   "outputs": [
    {
     "data": {
      "text/html": [
       "<style>\n",
       ".list-inline {list-style: none; margin:0; padding: 0}\n",
       ".list-inline>li {display: inline-block}\n",
       ".list-inline>li:not(:last-child)::after {content: \"\\00b7\"; padding: 0 .5ex}\n",
       "</style>\n",
       "<ol class=list-inline><li>'Input1'</li><li>'Input2'</li><li>'Input3'</li><li>'Input4'</li><li>'Input5'</li><li>'TFX2_Dex'</li><li>'TFX2_DMSO'</li><li>'TFX3_Dex'</li><li>'TFX3_DMSO'</li><li>'TFX4_Dex'</li><li>'TFX4_DMSO'</li><li>'TFX5_Dex'</li><li>'TFX5_DMSO'</li></ol>\n"
      ],
      "text/latex": [
       "\\begin{enumerate*}\n",
       "\\item 'Input1'\n",
       "\\item 'Input2'\n",
       "\\item 'Input3'\n",
       "\\item 'Input4'\n",
       "\\item 'Input5'\n",
       "\\item 'TFX2\\_Dex'\n",
       "\\item 'TFX2\\_DMSO'\n",
       "\\item 'TFX3\\_Dex'\n",
       "\\item 'TFX3\\_DMSO'\n",
       "\\item 'TFX4\\_Dex'\n",
       "\\item 'TFX4\\_DMSO'\n",
       "\\item 'TFX5\\_Dex'\n",
       "\\item 'TFX5\\_DMSO'\n",
       "\\end{enumerate*}\n"
      ],
      "text/markdown": [
       "1. 'Input1'\n",
       "2. 'Input2'\n",
       "3. 'Input3'\n",
       "4. 'Input4'\n",
       "5. 'Input5'\n",
       "6. 'TFX2_Dex'\n",
       "7. 'TFX2_DMSO'\n",
       "8. 'TFX3_Dex'\n",
       "9. 'TFX3_DMSO'\n",
       "10. 'TFX4_Dex'\n",
       "11. 'TFX4_DMSO'\n",
       "12. 'TFX5_Dex'\n",
       "13. 'TFX5_DMSO'\n",
       "\n",
       "\n"
      ],
      "text/plain": [
       " [1] \"Input1\"    \"Input2\"    \"Input3\"    \"Input4\"    \"Input5\"    \"TFX2_Dex\" \n",
       " [7] \"TFX2_DMSO\" \"TFX3_Dex\"  \"TFX3_DMSO\" \"TFX4_Dex\"  \"TFX4_DMSO\" \"TFX5_Dex\" \n",
       "[13] \"TFX5_DMSO\""
      ]
     },
     "metadata": {},
     "output_type": "display_data"
    }
   ],
   "source": [
    "fdiry = file.path(FD_RES, \"annotation_fragment\", \"filter_motif_score095\")\n",
    "dir(fdiry)"
   ]
  },
  {
   "cell_type": "code",
   "execution_count": null,
   "id": "b2c831f3",
   "metadata": {},
   "outputs": [],
   "source": []
  },
  {
   "cell_type": "code",
   "execution_count": 3,
   "id": "68cf299b",
   "metadata": {},
   "outputs": [
    {
     "data": {
      "text/html": [
       "<style>\n",
       ".list-inline {list-style: none; margin:0; padding: 0}\n",
       ".list-inline>li {display: inline-block}\n",
       ".list-inline>li:not(:last-child)::after {content: \"\\00b7\"; padding: 0 .5ex}\n",
       "</style>\n",
       "<ol class=list-inline><li>'chr1.bed.gz'</li><li>'chr10.bed.gz'</li><li>'chr11.bed.gz'</li><li>'chr12.bed.gz'</li><li>'chr13.bed.gz'</li><li>'chr14.bed.gz'</li><li>'chr15.bed.gz'</li><li>'chr16.bed.gz'</li><li>'chr17.bed.gz'</li><li>'chr18.bed.gz'</li><li>'chr19.bed.gz'</li><li>'chr2.bed.gz'</li><li>'chr20.bed.gz'</li><li>'chr21.bed.gz'</li><li>'chr22.bed.gz'</li><li>'chr3.bed.gz'</li><li>'chr4.bed.gz'</li><li>'chr5.bed.gz'</li><li>'chr6.bed.gz'</li><li>'chr7.bed.gz'</li><li>'chr8.bed.gz'</li><li>'chr9.bed.gz'</li><li>'chrX.bed.gz'</li><li>'chrY.bed.gz'</li></ol>\n"
      ],
      "text/latex": [
       "\\begin{enumerate*}\n",
       "\\item 'chr1.bed.gz'\n",
       "\\item 'chr10.bed.gz'\n",
       "\\item 'chr11.bed.gz'\n",
       "\\item 'chr12.bed.gz'\n",
       "\\item 'chr13.bed.gz'\n",
       "\\item 'chr14.bed.gz'\n",
       "\\item 'chr15.bed.gz'\n",
       "\\item 'chr16.bed.gz'\n",
       "\\item 'chr17.bed.gz'\n",
       "\\item 'chr18.bed.gz'\n",
       "\\item 'chr19.bed.gz'\n",
       "\\item 'chr2.bed.gz'\n",
       "\\item 'chr20.bed.gz'\n",
       "\\item 'chr21.bed.gz'\n",
       "\\item 'chr22.bed.gz'\n",
       "\\item 'chr3.bed.gz'\n",
       "\\item 'chr4.bed.gz'\n",
       "\\item 'chr5.bed.gz'\n",
       "\\item 'chr6.bed.gz'\n",
       "\\item 'chr7.bed.gz'\n",
       "\\item 'chr8.bed.gz'\n",
       "\\item 'chr9.bed.gz'\n",
       "\\item 'chrX.bed.gz'\n",
       "\\item 'chrY.bed.gz'\n",
       "\\end{enumerate*}\n"
      ],
      "text/markdown": [
       "1. 'chr1.bed.gz'\n",
       "2. 'chr10.bed.gz'\n",
       "3. 'chr11.bed.gz'\n",
       "4. 'chr12.bed.gz'\n",
       "5. 'chr13.bed.gz'\n",
       "6. 'chr14.bed.gz'\n",
       "7. 'chr15.bed.gz'\n",
       "8. 'chr16.bed.gz'\n",
       "9. 'chr17.bed.gz'\n",
       "10. 'chr18.bed.gz'\n",
       "11. 'chr19.bed.gz'\n",
       "12. 'chr2.bed.gz'\n",
       "13. 'chr20.bed.gz'\n",
       "14. 'chr21.bed.gz'\n",
       "15. 'chr22.bed.gz'\n",
       "16. 'chr3.bed.gz'\n",
       "17. 'chr4.bed.gz'\n",
       "18. 'chr5.bed.gz'\n",
       "19. 'chr6.bed.gz'\n",
       "20. 'chr7.bed.gz'\n",
       "21. 'chr8.bed.gz'\n",
       "22. 'chr9.bed.gz'\n",
       "23. 'chrX.bed.gz'\n",
       "24. 'chrY.bed.gz'\n",
       "\n",
       "\n"
      ],
      "text/plain": [
       " [1] \"chr1.bed.gz\"  \"chr10.bed.gz\" \"chr11.bed.gz\" \"chr12.bed.gz\" \"chr13.bed.gz\"\n",
       " [6] \"chr14.bed.gz\" \"chr15.bed.gz\" \"chr16.bed.gz\" \"chr17.bed.gz\" \"chr18.bed.gz\"\n",
       "[11] \"chr19.bed.gz\" \"chr2.bed.gz\"  \"chr20.bed.gz\" \"chr21.bed.gz\" \"chr22.bed.gz\"\n",
       "[16] \"chr3.bed.gz\"  \"chr4.bed.gz\"  \"chr5.bed.gz\"  \"chr6.bed.gz\"  \"chr7.bed.gz\" \n",
       "[21] \"chr8.bed.gz\"  \"chr9.bed.gz\"  \"chrX.bed.gz\"  \"chrY.bed.gz\" "
      ]
     },
     "metadata": {},
     "output_type": "display_data"
    }
   ],
   "source": [
    "sam   = \"Input1\"\n",
    "fdiry = file.path(FD_RES, \"annotation_fragment\", \"filter_motif_score095\", sam)\n",
    "dir(fdiry)"
   ]
  },
  {
   "cell_type": "code",
   "execution_count": 4,
   "id": "bfbf290c",
   "metadata": {},
   "outputs": [
    {
     "data": {
      "text/html": [
       "'/home/mount/work/out/proj_combeffect/annotation_fragment/filter_motif_score095/Input1/chr21.bed.gz'"
      ],
      "text/latex": [
       "'/home/mount/work/out/proj\\_combeffect/annotation\\_fragment/filter\\_motif\\_score095/Input1/chr21.bed.gz'"
      ],
      "text/markdown": [
       "'/home/mount/work/out/proj_combeffect/annotation_fragment/filter_motif_score095/Input1/chr21.bed.gz'"
      ],
      "text/plain": [
       "[1] \"/home/mount/work/out/proj_combeffect/annotation_fragment/filter_motif_score095/Input1/chr21.bed.gz\""
      ]
     },
     "metadata": {},
     "output_type": "display_data"
    }
   ],
   "source": [
    "fname = \"chr21.bed.gz\"\n",
    "fpath = file.path(fdiry, fname)\n",
    "fpath"
   ]
  },
  {
   "cell_type": "code",
   "execution_count": 5,
   "id": "a77b2459",
   "metadata": {},
   "outputs": [],
   "source": [
    "### import\n",
    "ctypes = c(col_character(), col_integer(), col_integer(), col_integer(),\n",
    "           col_character(), col_integer(), col_integer(),\n",
    "           col_character(), col_double(),  col_integer(),\n",
    "           col_character())\n",
    "cnames = c(\"Chrom_Frag\", \"Start_Frag\", \"End_Frag\", \"Count_Frag\",\n",
    "           \"Chrom_MTF\",  \"Start_MTF\",  \"End_MTF\",\n",
    "           \"Motif\", \"Score\", \"Overlap\", \n",
    "           \"Sample\")"
   ]
  },
  {
   "cell_type": "code",
   "execution_count": 6,
   "id": "87f19080",
   "metadata": {},
   "outputs": [],
   "source": [
    "dat = read_tsv(fpath, col_types=ctypes, col_names=cnames)"
   ]
  },
  {
   "cell_type": "code",
   "execution_count": 7,
   "id": "301d1835",
   "metadata": {},
   "outputs": [
    {
     "data": {
      "text/html": [
       "<table class=\"dataframe\">\n",
       "<caption>A tibble: 6 × 10</caption>\n",
       "<thead>\n",
       "\t<tr><th scope=col>Chrom_Frag</th><th scope=col>Start_Frag</th><th scope=col>End_Frag</th><th scope=col>Count_Frag</th><th scope=col>Chrom_MTF</th><th scope=col>Start_MTF</th><th scope=col>End_MTF</th><th scope=col>Motif</th><th scope=col>Score</th><th scope=col>Overlap</th></tr>\n",
       "\t<tr><th scope=col>&lt;chr&gt;</th><th scope=col>&lt;dbl&gt;</th><th scope=col>&lt;dbl&gt;</th><th scope=col>&lt;dbl&gt;</th><th scope=col>&lt;chr&gt;</th><th scope=col>&lt;dbl&gt;</th><th scope=col>&lt;dbl&gt;</th><th scope=col>&lt;chr&gt;</th><th scope=col>&lt;dbl&gt;</th><th scope=col>&lt;dbl&gt;</th></tr>\n",
       "</thead>\n",
       "<tbody>\n",
       "\t<tr><td>chr21</td><td>5032566</td><td>5033537</td><td>1</td><td>chr21</td><td>5032581</td><td>5032600</td><td>ZFN121       </td><td>19.3355</td><td>19</td></tr>\n",
       "\t<tr><td>chr21</td><td>5032566</td><td>5033537</td><td>1</td><td>chr21</td><td>5032583</td><td>5032600</td><td>PAX/2        </td><td>17.0397</td><td>17</td></tr>\n",
       "\t<tr><td>chr21</td><td>5032566</td><td>5033537</td><td>1</td><td>chr21</td><td>5032810</td><td>5032820</td><td>STAT/1       </td><td>11.4910</td><td>10</td></tr>\n",
       "\t<tr><td>chr21</td><td>5032566</td><td>5033537</td><td>1</td><td>chr21</td><td>5033055</td><td>5033066</td><td>OSR2         </td><td>10.9401</td><td>11</td></tr>\n",
       "\t<tr><td>chr21</td><td>5032566</td><td>5033537</td><td>1</td><td>chr21</td><td>5033233</td><td>5033243</td><td>Ebox/CACGTG/2</td><td>12.5042</td><td>10</td></tr>\n",
       "\t<tr><td>chr21</td><td>5032566</td><td>5033537</td><td>1</td><td>chr21</td><td>5033234</td><td>5033243</td><td>Ebox/CACGTG/1</td><td>12.2494</td><td> 9</td></tr>\n",
       "</tbody>\n",
       "</table>\n"
      ],
      "text/latex": [
       "A tibble: 6 × 10\n",
       "\\begin{tabular}{llllllllll}\n",
       " Chrom\\_Frag & Start\\_Frag & End\\_Frag & Count\\_Frag & Chrom\\_MTF & Start\\_MTF & End\\_MTF & Motif & Score & Overlap\\\\\n",
       " <chr> & <dbl> & <dbl> & <dbl> & <chr> & <dbl> & <dbl> & <chr> & <dbl> & <dbl>\\\\\n",
       "\\hline\n",
       "\t chr21 & 5032566 & 5033537 & 1 & chr21 & 5032581 & 5032600 & ZFN121        & 19.3355 & 19\\\\\n",
       "\t chr21 & 5032566 & 5033537 & 1 & chr21 & 5032583 & 5032600 & PAX/2         & 17.0397 & 17\\\\\n",
       "\t chr21 & 5032566 & 5033537 & 1 & chr21 & 5032810 & 5032820 & STAT/1        & 11.4910 & 10\\\\\n",
       "\t chr21 & 5032566 & 5033537 & 1 & chr21 & 5033055 & 5033066 & OSR2          & 10.9401 & 11\\\\\n",
       "\t chr21 & 5032566 & 5033537 & 1 & chr21 & 5033233 & 5033243 & Ebox/CACGTG/2 & 12.5042 & 10\\\\\n",
       "\t chr21 & 5032566 & 5033537 & 1 & chr21 & 5033234 & 5033243 & Ebox/CACGTG/1 & 12.2494 &  9\\\\\n",
       "\\end{tabular}\n"
      ],
      "text/markdown": [
       "\n",
       "A tibble: 6 × 10\n",
       "\n",
       "| Chrom_Frag &lt;chr&gt; | Start_Frag &lt;dbl&gt; | End_Frag &lt;dbl&gt; | Count_Frag &lt;dbl&gt; | Chrom_MTF &lt;chr&gt; | Start_MTF &lt;dbl&gt; | End_MTF &lt;dbl&gt; | Motif &lt;chr&gt; | Score &lt;dbl&gt; | Overlap &lt;dbl&gt; |\n",
       "|---|---|---|---|---|---|---|---|---|---|\n",
       "| chr21 | 5032566 | 5033537 | 1 | chr21 | 5032581 | 5032600 | ZFN121        | 19.3355 | 19 |\n",
       "| chr21 | 5032566 | 5033537 | 1 | chr21 | 5032583 | 5032600 | PAX/2         | 17.0397 | 17 |\n",
       "| chr21 | 5032566 | 5033537 | 1 | chr21 | 5032810 | 5032820 | STAT/1        | 11.4910 | 10 |\n",
       "| chr21 | 5032566 | 5033537 | 1 | chr21 | 5033055 | 5033066 | OSR2          | 10.9401 | 11 |\n",
       "| chr21 | 5032566 | 5033537 | 1 | chr21 | 5033233 | 5033243 | Ebox/CACGTG/2 | 12.5042 | 10 |\n",
       "| chr21 | 5032566 | 5033537 | 1 | chr21 | 5033234 | 5033243 | Ebox/CACGTG/1 | 12.2494 |  9 |\n",
       "\n"
      ],
      "text/plain": [
       "  Chrom_Frag Start_Frag End_Frag Count_Frag Chrom_MTF Start_MTF End_MTF\n",
       "1 chr21      5032566    5033537  1          chr21     5032581   5032600\n",
       "2 chr21      5032566    5033537  1          chr21     5032583   5032600\n",
       "3 chr21      5032566    5033537  1          chr21     5032810   5032820\n",
       "4 chr21      5032566    5033537  1          chr21     5033055   5033066\n",
       "5 chr21      5032566    5033537  1          chr21     5033233   5033243\n",
       "6 chr21      5032566    5033537  1          chr21     5033234   5033243\n",
       "  Motif         Score   Overlap\n",
       "1 ZFN121        19.3355 19     \n",
       "2 PAX/2         17.0397 17     \n",
       "3 STAT/1        11.4910 10     \n",
       "4 OSR2          10.9401 11     \n",
       "5 Ebox/CACGTG/2 12.5042 10     \n",
       "6 Ebox/CACGTG/1 12.2494  9     "
      ]
     },
     "metadata": {},
     "output_type": "display_data"
    }
   ],
   "source": [
    "head(dat)"
   ]
  },
  {
   "cell_type": "code",
   "execution_count": 8,
   "id": "c5ab5361",
   "metadata": {},
   "outputs": [
    {
     "data": {
      "text/plain": [
       "95664064 bytes"
      ]
     },
     "metadata": {},
     "output_type": "display_data"
    }
   ],
   "source": [
    "object.size(dat)"
   ]
  },
  {
   "cell_type": "code",
   "execution_count": null,
   "id": "2feabe54",
   "metadata": {},
   "outputs": [],
   "source": [
    "100 * 13"
   ]
  },
  {
   "cell_type": "markdown",
   "id": "025a2c81",
   "metadata": {},
   "source": [
    "95,664,064 ~ 100 * 13 = "
   ]
  },
  {
   "cell_type": "code",
   "execution_count": 11,
   "id": "8ecf351f",
   "metadata": {},
   "outputs": [
    {
     "data": {
      "text/html": [
       "<table class=\"dataframe\">\n",
       "<caption>A tibble: 10 × 3</caption>\n",
       "<thead>\n",
       "\t<tr><th scope=col>Size</th><th scope=col>Sample</th><th scope=col>Group</th></tr>\n",
       "\t<tr><th scope=col>&lt;dbl&gt;</th><th scope=col>&lt;chr&gt;</th><th scope=col>&lt;chr&gt;</th></tr>\n",
       "</thead>\n",
       "<tbody>\n",
       "\t<tr><td>18666630</td><td>Input1         </td><td>Input         </td></tr>\n",
       "\t<tr><td>20167924</td><td>Input2         </td><td>Input         </td></tr>\n",
       "\t<tr><td>23280988</td><td>Input3         </td><td>Input         </td></tr>\n",
       "\t<tr><td>19003938</td><td>Input4         </td><td>Input         </td></tr>\n",
       "\t<tr><td>15325016</td><td>Input5         </td><td>Input         </td></tr>\n",
       "\t<tr><td>48376253</td><td>TFX2_AZD2906   </td><td>TFX_AZD2906   </td></tr>\n",
       "\t<tr><td>52542517</td><td>TFX2_AZD9567   </td><td>TFX_AZD9567   </td></tr>\n",
       "\t<tr><td>43646484</td><td>TFX2_CORT108297</td><td>TFX_CORT108297</td></tr>\n",
       "\t<tr><td>41732268</td><td>TFX2_CpdA      </td><td>TFX_CpdA      </td></tr>\n",
       "\t<tr><td>43844606</td><td>TFX2_DMSO      </td><td>TFX_DMSO      </td></tr>\n",
       "</tbody>\n",
       "</table>\n"
      ],
      "text/latex": [
       "A tibble: 10 × 3\n",
       "\\begin{tabular}{lll}\n",
       " Size & Sample & Group\\\\\n",
       " <dbl> & <chr> & <chr>\\\\\n",
       "\\hline\n",
       "\t 18666630 & Input1          & Input         \\\\\n",
       "\t 20167924 & Input2          & Input         \\\\\n",
       "\t 23280988 & Input3          & Input         \\\\\n",
       "\t 19003938 & Input4          & Input         \\\\\n",
       "\t 15325016 & Input5          & Input         \\\\\n",
       "\t 48376253 & TFX2\\_AZD2906    & TFX\\_AZD2906   \\\\\n",
       "\t 52542517 & TFX2\\_AZD9567    & TFX\\_AZD9567   \\\\\n",
       "\t 43646484 & TFX2\\_CORT108297 & TFX\\_CORT108297\\\\\n",
       "\t 41732268 & TFX2\\_CpdA       & TFX\\_CpdA      \\\\\n",
       "\t 43844606 & TFX2\\_DMSO       & TFX\\_DMSO      \\\\\n",
       "\\end{tabular}\n"
      ],
      "text/markdown": [
       "\n",
       "A tibble: 10 × 3\n",
       "\n",
       "| Size &lt;dbl&gt; | Sample &lt;chr&gt; | Group &lt;chr&gt; |\n",
       "|---|---|---|\n",
       "| 18666630 | Input1          | Input          |\n",
       "| 20167924 | Input2          | Input          |\n",
       "| 23280988 | Input3          | Input          |\n",
       "| 19003938 | Input4          | Input          |\n",
       "| 15325016 | Input5          | Input          |\n",
       "| 48376253 | TFX2_AZD2906    | TFX_AZD2906    |\n",
       "| 52542517 | TFX2_AZD9567    | TFX_AZD9567    |\n",
       "| 43646484 | TFX2_CORT108297 | TFX_CORT108297 |\n",
       "| 41732268 | TFX2_CpdA       | TFX_CpdA       |\n",
       "| 43844606 | TFX2_DMSO       | TFX_DMSO       |\n",
       "\n"
      ],
      "text/plain": [
       "   Size     Sample          Group         \n",
       "1  18666630 Input1          Input         \n",
       "2  20167924 Input2          Input         \n",
       "3  23280988 Input3          Input         \n",
       "4  19003938 Input4          Input         \n",
       "5  15325016 Input5          Input         \n",
       "6  48376253 TFX2_AZD2906    TFX_AZD2906   \n",
       "7  52542517 TFX2_AZD9567    TFX_AZD9567   \n",
       "8  43646484 TFX2_CORT108297 TFX_CORT108297\n",
       "9  41732268 TFX2_CpdA       TFX_CpdA      \n",
       "10 43844606 TFX2_DMSO       TFX_DMSO      "
      ]
     },
     "metadata": {},
     "output_type": "display_data"
    }
   ],
   "source": [
    "get_sample = function(idn_sample){\n",
    "    idn = idn_sample\n",
    "    idn = str_replace(\n",
    "        string = idn, \n",
    "        pattern = \"Input[0-9]\", \n",
    "        replacement = \"Input\")\n",
    "    idn = str_replace(\n",
    "        string = idn, \n",
    "        pattern = \"TFX[0-9]_\", \n",
    "        replacement=\"TFX_\")\n",
    "    return(idn)\n",
    "}\n",
    "\n",
    "fdiry = file.path(FD_RES, \"source\")\n",
    "fname = \"library_size.txt\"\n",
    "fpath = file.path(fdiry, fname)\n",
    "\n",
    "ctypes = c(col_integer(), col_character())\n",
    "cnames = c(\"Size\", \"Fpath\")\n",
    "dat_lib = read_tsv(fpath, col_types=ctypes, col_names = cnames)\n",
    "dat_lib = dat_lib %>% \n",
    "    mutate(Sample = tools::file_path_sans_ext(basename(Fpath))) %>%\n",
    "    mutate(Group = get_sample(Sample))\n",
    "dat_lib = dat_lib %>% dplyr::select(Size, Sample, Group)\n",
    "head(dat_lib, 10)"
   ]
  },
  {
   "cell_type": "code",
   "execution_count": null,
   "id": "ac9c0764",
   "metadata": {},
   "outputs": [],
   "source": []
  }
 ],
 "metadata": {
  "kernelspec": {
   "display_name": "R (alex_py3)",
   "language": "R",
   "name": "ir_alex_py3"
  },
  "language_info": {
   "codemirror_mode": "r",
   "file_extension": ".r",
   "mimetype": "text/x-r-source",
   "name": "R",
   "pygments_lexer": "r",
   "version": "3.6.2"
  }
 },
 "nbformat": 4,
 "nbformat_minor": 5
}
