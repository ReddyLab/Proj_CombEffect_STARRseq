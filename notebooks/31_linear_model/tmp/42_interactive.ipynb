{
 "cells": [
  {
   "cell_type": "markdown",
   "id": "f61abfea-a9a9-4715-9a17-e1b522652266",
   "metadata": {},
   "source": [
    "## Run on HARDAC"
   ]
  },
  {
   "cell_type": "code",
   "execution_count": 5,
   "id": "bb79299a-4fd1-440d-9f11-f6048d6825a8",
   "metadata": {},
   "outputs": [
    {
     "name": "stdout",
     "output_type": "stream",
     "text": [
      "You are on Duke Server: HARDAC\n",
      "BASE DIRECTORY:     /gpfs/fs1/data/reddylab/Kuei\n",
      "PATH OF SOURCE:     /gpfs/fs1/data/reddylab/Kuei/source\n",
      "PATH OF EXECUTABLE: /gpfs/fs1/data/reddylab/Kuei/exe\n",
      "PATH OF ANNOTATION: /gpfs/fs1/data/reddylab/Kuei/annotation\n",
      "PATH OF PROJECT:    /gpfs/fs1/data/reddylab/Kuei/GitRepo/Proj_CombEffect_STARRseq/notebooks\n",
      "PATH OF RESULTS:    /gpfs/fs1/data/reddylab/Kuei/out/proj_combeffect\n",
      "\n"
     ]
    }
   ],
   "source": [
    "source ../config_duke.sh -v"
   ]
  },
  {
   "cell_type": "code",
   "execution_count": 6,
   "id": "47299eeb-e19f-4b3c-b553-eaaeb965db2e",
   "metadata": {},
   "outputs": [
    {
     "name": "stdout",
     "output_type": "stream",
     "text": [
      "\u001b[0m\u001b[38;5;27mannotation_fragment\u001b[0m  \u001b[38;5;27mcount_fragment\u001b[0m  \u001b[38;5;27mcoverage\u001b[0m  \u001b[38;5;27mdata\u001b[0m  \u001b[38;5;27mlog\u001b[0m  \u001b[38;5;27mmodel_linear\u001b[0m  \u001b[38;5;27msource\u001b[0m\n"
     ]
    }
   ],
   "source": [
    "ls ${FD_RES}"
   ]
  },
  {
   "cell_type": "code",
   "execution_count": 7,
   "id": "041e61a4-7991-4715-99d3-642f25094ea0",
   "metadata": {},
   "outputs": [
    {
     "name": "stdout",
     "output_type": "stream",
     "text": [
      "\u001b[0m\u001b[38;5;27mfilter_motif_score095\u001b[0m  \u001b[38;5;27mInput4\u001b[0m                    \u001b[38;5;27mTFX2_Dex\u001b[0m   \u001b[38;5;27mTFX4_Dex\u001b[0m\n",
      "\u001b[38;5;27mInput1\u001b[0m                 \u001b[38;5;27mInput5\u001b[0m                    \u001b[38;5;27mTFX2_DMSO\u001b[0m  \u001b[38;5;27mTFX4_DMSO\u001b[0m\n",
      "\u001b[38;5;27mInput2\u001b[0m                 target_PER1_MA0099.3.bed  \u001b[38;5;27mTFX3_Dex\u001b[0m   \u001b[38;5;27mTFX5_Dex\u001b[0m\n",
      "\u001b[38;5;27mInput3\u001b[0m                 target_PER1_MA0113.3.bed  \u001b[38;5;27mTFX3_DMSO\u001b[0m  \u001b[38;5;27mTFX5_DMSO\u001b[0m\n"
     ]
    }
   ],
   "source": [
    "ls ${FD_RES}/annotation_fragment"
   ]
  },
  {
   "cell_type": "code",
   "execution_count": 8,
   "id": "5f73324d-e8a3-4a58-8a83-eff32b515bb8",
   "metadata": {},
   "outputs": [
    {
     "name": "stdout",
     "output_type": "stream",
     "text": [
      "2.7G Sep  1 17:19 /gpfs/fs1/data/reddylab/Kuei/out/proj_combeffect/annotation_fragment/Input1/chr21.bed\n",
      "2.9G Sep  1 14:54 /gpfs/fs1/data/reddylab/Kuei/out/proj_combeffect/annotation_fragment/Input2/chr21.bed\n",
      "3.4G Sep  1 04:56 /gpfs/fs1/data/reddylab/Kuei/out/proj_combeffect/annotation_fragment/Input3/chr21.bed\n",
      "2.7G Sep  1 14:16 /gpfs/fs1/data/reddylab/Kuei/out/proj_combeffect/annotation_fragment/Input4/chr21.bed\n",
      "2.2G Sep  1 23:24 /gpfs/fs1/data/reddylab/Kuei/out/proj_combeffect/annotation_fragment/Input5/chr21.bed\n",
      "13.9\n"
     ]
    }
   ],
   "source": [
    "dir ${FD_RES}/annotation_fragment/Input?/chr21.bed"
   ]
  },
  {
   "cell_type": "code",
   "execution_count": 9,
   "id": "96d5de59-2bd0-47d9-90cf-7328c17b3d4f",
   "metadata": {},
   "outputs": [
    {
     "name": "stdout",
     "output_type": "stream",
     "text": [
      "6.3G Sep  1 15:49 /gpfs/fs1/data/reddylab/Kuei/out/proj_combeffect/annotation_fragment/TFX2_DMSO/chr21.bed\n",
      "4.1G Sep  1 03:38 /gpfs/fs1/data/reddylab/Kuei/out/proj_combeffect/annotation_fragment/TFX3_DMSO/chr21.bed\n",
      "4.8G Sep  1 13:41 /gpfs/fs1/data/reddylab/Kuei/out/proj_combeffect/annotation_fragment/TFX4_DMSO/chr21.bed\n",
      "4.5G Sep  1 21:46 /gpfs/fs1/data/reddylab/Kuei/out/proj_combeffect/annotation_fragment/TFX5_DMSO/chr21.bed\n",
      "19.7\n"
     ]
    }
   ],
   "source": [
    "dir ${FD_RES}/annotation_fragment/TFX?_DMSO/chr21.bed"
   ]
  },
  {
   "cell_type": "code",
   "execution_count": 11,
   "id": "45626d35-7225-4850-905b-ebf88cddac37",
   "metadata": {},
   "outputs": [
    {
     "name": "stdout",
     "output_type": "stream",
     "text": [
      "6.7G Sep 10 18:40 /gpfs/fs1/data/reddylab/Kuei/out/proj_combeffect/annotation_fragment/TFX2_Dex/chr21.bed\n",
      "4.2G Sep  1 16:42 /gpfs/fs1/data/reddylab/Kuei/out/proj_combeffect/annotation_fragment/TFX3_Dex/chr21.bed\n",
      "5.6G Sep  1 22:44 /gpfs/fs1/data/reddylab/Kuei/out/proj_combeffect/annotation_fragment/TFX4_Dex/chr21.bed\n",
      "6.8G Sep  1 02:40 /gpfs/fs1/data/reddylab/Kuei/out/proj_combeffect/annotation_fragment/TFX5_Dex/chr21.bed\n",
      "23.3\n"
     ]
    }
   ],
   "source": [
    "dir ${FD_RES}/annotation_fragment/TFX?_Dex/chr21.bed"
   ]
  },
  {
   "cell_type": "code",
   "execution_count": 12,
   "id": "7ffed4ec-6514-4fd9-8bb7-86a5c961a76d",
   "metadata": {},
   "outputs": [
    {
     "name": "stdout",
     "output_type": "stream",
     "text": [
      "\u001b[0m\u001b[38;5;27mInput1\u001b[0m  \u001b[38;5;27mInput3\u001b[0m  \u001b[38;5;27mInput5\u001b[0m    \u001b[38;5;27mTFX2_DMSO\u001b[0m  \u001b[38;5;27mTFX3_DMSO\u001b[0m  \u001b[38;5;27mTFX4_DMSO\u001b[0m  \u001b[38;5;27mTFX5_DMSO\u001b[0m\n",
      "\u001b[38;5;27mInput2\u001b[0m  \u001b[38;5;27mInput4\u001b[0m  \u001b[38;5;27mTFX2_Dex\u001b[0m  \u001b[38;5;27mTFX3_Dex\u001b[0m   \u001b[38;5;27mTFX4_Dex\u001b[0m   \u001b[38;5;27mTFX5_Dex\u001b[0m\n"
     ]
    }
   ],
   "source": [
    "ls ${FD_RES}/annotation_fragment/filter_motif_score095"
   ]
  },
  {
   "cell_type": "code",
   "execution_count": 13,
   "id": "9e0e3afd-e4a1-45ff-a490-7d97cbbbfc3a",
   "metadata": {},
   "outputs": [
    {
     "name": "stdout",
     "output_type": "stream",
     "text": [
      "6.9M Sep 14 14:03 \u001b[0m\u001b[38;5;9m/gpfs/fs1/data/reddylab/Kuei/out/proj_combeffect/annotation_fragment/filter_motif_score095/Input1/chr21.bed.gz\u001b[0m\u001b[K\n",
      "7.3M Sep 14 14:03 \u001b[38;5;9m/gpfs/fs1/data/reddylab/Kuei/out/proj_combeffect/annotation_fragment/filter_motif_score095/Input2/chr21.bed.gz\u001b[0m\u001b[K\n",
      "8.2M Sep 14 14:04 \u001b[38;5;9m/gpfs/fs1/data/reddylab/Kuei/out/proj_combeffect/annotation_fragment/filter_motif_score095/Input3/chr21.bed.gz\u001b[0m\u001b[K\n",
      "7.0M Sep 14 14:05 \u001b[38;5;9m/gpfs/fs1/data/reddylab/Kuei/out/proj_combeffect/annotation_fragment/filter_motif_score095/Input4/chr21.bed.gz\u001b[0m\u001b[K\n",
      "5.9M Sep 14 14:05 \u001b[38;5;9m/gpfs/fs1/data/reddylab/Kuei/out/proj_combeffect/annotation_fragment/filter_motif_score095/Input5/chr21.bed.gz\u001b[0m\u001b[K\n",
      "35.3\n"
     ]
    }
   ],
   "source": [
    "dir ${FD_RES}/annotation_fragment/filter_motif_score095/Input?/chr21.bed.gz"
   ]
  },
  {
   "cell_type": "markdown",
   "id": "5877e9f6-2944-45e0-a711-7e61b5d3ccfe",
   "metadata": {},
   "source": [
    "## Run interaction"
   ]
  },
  {
   "cell_type": "code",
   "execution_count": 28,
   "id": "bf193925-1bdc-4f5f-833f-7dbfffc0edaf",
   "metadata": {},
   "outputs": [],
   "source": [
    "cat > motif_interaction.R << 'EOF'\n",
    "### set env\n",
    "source(\"/home/mount/project/config_sing.R\")\n",
    "cat(\"###################################################\\n\\n\")\n",
    "\n",
    "### Get argument: Chromomsome\n",
    "ARGS  = commandArgs(trailingOnly=TRUE)\n",
    "CHROM = ARGS[1]\n",
    "print(CHROM)\n",
    "\n",
    "###################################################\n",
    "# Import library size\n",
    "###################################################\n",
    "cat(\"+++++ Import library size +++++\\n\")\n",
    "\n",
    "### Helper function to get\n",
    "get_sample = function(idn_sample){\n",
    "    idn = idn_sample\n",
    "    idn = str_replace(\n",
    "        string = idn, \n",
    "        pattern = \"Input[0-9]\", \n",
    "        replacement = \"Input\")\n",
    "    idn = str_replace(\n",
    "        string = idn, \n",
    "        pattern = \"TFX[0-9]_\", \n",
    "        replacement=\"TFX_\")\n",
    "    return(idn)\n",
    "}\n",
    "\n",
    "### set path\n",
    "fdiry = file.path(FD_RES, \"source\")\n",
    "fname = \"library_size.txt\"\n",
    "fpath = file.path(fdiry, fname)\n",
    "\n",
    "### import library size\n",
    "ctypes = c(col_integer(), col_character())\n",
    "cnames = c(\"Size\", \"Fpath\")\n",
    "dat_lib = read_tsv(fpath, col_types=ctypes, col_names = cnames)\n",
    "dat_lib = dat_lib %>% \n",
    "    mutate(Sample = tools::file_path_sans_ext(basename(Fpath))) %>%\n",
    "    mutate(Group = get_sample(Sample))\n",
    "dat_lib = dat_lib %>% dplyr::select(Size, Sample, Group)\n",
    "\n",
    "###################################################\n",
    "# Import annotated fragments\n",
    "###################################################\n",
    "cat(\"+++++ Import annotated fragments +++++\\n\")\n",
    "\n",
    "### set column names and types\n",
    "ctypes = c(col_character(), col_integer(), col_integer(), col_integer(),\n",
    "           col_character(), col_integer(), col_integer(),\n",
    "           col_character(), col_double(),  col_integer())\n",
    "cnames = c(\"Chrom_Frag\", \"Start_Frag\", \"End_Frag\", \"Count_Frag\",\n",
    "           \"Chrom_MTF\",  \"Start_MTF\",  \"End_MTF\",\n",
    "           \"Motif\", \"Score\", \"Overlap\")\n",
    "\n",
    "### set samples\n",
    "SAMPLES = c(\n",
    "    paste0(\"Input\", 1:5),\n",
    "    paste0(\"TFX\",   2:5, \"_DMSO\"),\n",
    "    paste0(\"TFX\",   2:5, \"_Dex\"))\n",
    "\n",
    "### import bed files for each sample \n",
    "fdiry = file.path(FD_RES, \"annotation_fragment\", \"filter_motif_score095\")\n",
    "fname = paste0(CHROM, \".bed\", \".gz\") \n",
    "\n",
    "lst_dat = lapply(SAMPLES, function(sam){\n",
    "    ### set path\n",
    "    fpath = file.path(fdiry, sam, fname)\n",
    "    print(fpath)\n",
    "    \n",
    "    ### import data\n",
    "    dat = read_tsv(fpath, col_types=ctypes, col_names=cnames) %>% mutate(Sample = sam)\n",
    "    return(dat)\n",
    "})\n",
    "\n",
    "### arrange data & clean memory\n",
    "dat_ann_frag = bind_rows(lst_dat)\n",
    "lst_dat = NULL\n",
    "\n",
    "### check point: print message\n",
    "head(dat_ann_frag, 3)\n",
    "print(colnames(dat_ann_frag))\n",
    "\n",
    "print(\"Dimension\")\n",
    "print(dim(dat_ann_frag))\n",
    "\n",
    "print(\"Size\")\n",
    "print(object.size(dat_ann_frag), units=\"Mb\")\n",
    "\n",
    "###################################################\n",
    "# Preprocess\n",
    "###################################################\n",
    "\n",
    "### grouped by motif cluster and \n",
    "### split the annotated fragments into list\n",
    "cat(\"+++++ Preprocess: get motifs +++++\\n\")\n",
    "dat    = dat_ann_frag\n",
    "lst    = dat %>% group_by(Motif) %>% group_split\n",
    "motifs = lapply(lst, function(dat){unique(dat$Motif)}) %>% unlist\n",
    "names(lst) = motifs\n",
    "\n",
    "### get the list\n",
    "cat(\"+++++ Preprocess: get lst_frag +++++\\n\")\n",
    "lst_frag = lapply(lst, function(dat){\n",
    "    tmp = dat %>% \n",
    "        dplyr::select(Chrom_Frag, Start_Frag, End_Frag, Count_Frag, Motif, Sample) %>%\n",
    "        distinct()\n",
    "    return(tmp)\n",
    "})\n",
    "\n",
    "### filter out motifs that have almost no fragment in total\n",
    "cat(\"+++++ Preprocess: filter motifs +++++\\n\")\n",
    "cat(\"Before filteration: #Motifs =\", length(lst_frag), \"\\n\")\n",
    "\n",
    "THRESHOLD = 10\n",
    "lst = lst_frag\n",
    "cnt = lapply(lst, function(dat){sum(dat$Count_Frag)})\n",
    "lst = lst[cnt > 10]\n",
    "lst_frag = lst\n",
    "\n",
    "cat(\"Threshold =\", THRESHOLD, \"\\n\")\n",
    "cat(\"After filteration: #Motifs =\", length(lst_frag), \"\\n\")\n",
    "\n",
    "###################################################\n",
    "# Set all pairs of motifs\n",
    "###################################################\n",
    "cat(\"+++++ Set all pairs of motifs +++++\\n\")\n",
    "\n",
    "### combination of motifs\n",
    "dat_comb = t(combn(names(lst_frag), 2))\n",
    "\n",
    "### convert motif pairs into a list\n",
    "lst_motif_pair = split(dat_comb, seq(nrow(dat_comb)))\n",
    "names(lst_motif_pair) = lapply(\n",
    "    lst_motif_pair, function(x){\n",
    "        mtf1 = x[1]\n",
    "        mtf2 = x[2]\n",
    "        return(paste(mtf1, mtf2, sep=\"|\"))\n",
    "    } # end fun\n",
    ") # end lapply\n",
    "\n",
    "###################################################\n",
    "# Get interactive effects\n",
    "###################################################\n",
    "cat(\"+++++ Get interactive effects +++++\\n\")\n",
    "\n",
    "### Helper function\n",
    "### https://win-vector.com/2014/05/30/trimming-the-fat-from-glm-models-in-r/\n",
    "stripGlmLR = function(cm) {\n",
    "  cm$y = c()\n",
    "  cm$model = c()\n",
    "  \n",
    "  cm$residuals = c()\n",
    "  cm$fitted.values = c()\n",
    "  cm$effects = c()\n",
    "  cm$qr$qr = c()  \n",
    "  cm$linear.predictors = c()\n",
    "  cm$weights = c()\n",
    "  cm$prior.weights = c()\n",
    "  cm$data = c()\n",
    "\n",
    "  cm$family$variance = c()\n",
    "  cm$family$dev.resids = c()\n",
    "  cm$family$aic = c()\n",
    "  cm$family$validmu = c()\n",
    "  cm$family$simulate = c()\n",
    "  attr(cm$terms,\".Environment\") = c()\n",
    "  attr(cm$formula,\".Environment\") = c()\n",
    "  \n",
    "  return(cm)\n",
    "}\n",
    "\n",
    "### loop through each pair of motifs\n",
    "### estimate interaction effect of each motif pair\n",
    "lst_res = lapply(lst_motif_pair, function(x){\n",
    "\n",
    "    ### extract fragments for each motif\n",
    "    mtf1 = x[1]\n",
    "    mtf2 = x[2]\n",
    "    df1 = lst_frag[[mtf1]]\n",
    "    df2 = lst_frag[[mtf2]]\n",
    "    \n",
    "    ### extract fragments\n",
    "    dat1 = bind_rows(df1, df2) %>% \n",
    "        dplyr::select(Chrom_Frag, Start_Frag, End_Frag, Count_Frag, Sample) %>%\n",
    "        distinct\n",
    "    dat2 = df1 %>% \n",
    "        dplyr::select(Chrom_Frag, Start_Frag, End_Frag, Count_Frag, Sample, Motif)\n",
    "    dat3 = df2 %>% \n",
    "        dplyr::select(Chrom_Frag, Start_Frag, End_Frag, Count_Frag, Sample, Motif)\n",
    "    \n",
    "    ### match fragments for the motif pair\n",
    "    dat = dat1 %>%\n",
    "        full_join(dat2, by = c(\"Chrom_Frag\", \"Start_Frag\", \"End_Frag\", \"Count_Frag\", \"Sample\")) %>%\n",
    "        full_join(dat3, by = c(\"Chrom_Frag\", \"Start_Frag\", \"End_Frag\", \"Count_Frag\", \"Sample\")) %>%\n",
    "        mutate(Motif = paste(Motif.x, Motif.y, sep = \"_\")) %>%\n",
    "        mutate(Motif = str_remove(string=Motif, pattern=\"_NA|NA_\")) %>% \n",
    "        mutate(Group = str_remove(string = Sample, pattern = \"[0-9]\")) %>%\n",
    "        mutate(X     = paste(Group, Motif, sep=\"_\")) %>%\n",
    "        mutate(X     = ifelse(str_detect(X, \"Input\"), \"Input\", X))\n",
    "    \n",
    "    ### annotate fragments based on motif annotation\n",
    "    idx11 = paste(\"TFX_DMSO\", mtf1,       sep=\"_\")\n",
    "    idx12 = paste(\"TFX_DMSO\", mtf2,       sep=\"_\")\n",
    "    idx13 = paste(\"TFX_DMSO\", mtf1, mtf2, sep=\"_\")\n",
    "    idx21 = paste(\"TFX_Dex\",  mtf1,       sep=\"_\")\n",
    "    idx22 = paste(\"TFX_Dex\",  mtf2,       sep=\"_\")\n",
    "    idx23 = paste(\"TFX_Dex\",  mtf1, mtf2, sep=\"_\")\n",
    "    idxs  = c(\"Input\", idx11, idx12, idx21, idx22, idx13, idx23)\n",
    "    tmp = dat %>% \n",
    "        group_by(Sample, X) %>% \n",
    "        summarise(Value = sum(Count_Frag), .groups = 'drop')\n",
    "    \n",
    "    ### normalize counts by library size\n",
    "    tmp = tmp %>% left_join(dat_lib, by=\"Sample\")\n",
    "    tmp = tmp %>%\n",
    "        mutate(Norm_Value    = Value / Size) %>% \n",
    "        mutate(Lognorm_Value = log10(Value) - log10(Size))\n",
    "    tmp$X = factor(tmp$X, levels=idxs)\n",
    "    X = model.matrix(~X, tmp)\n",
    "    y = tmp$Norm_Value\n",
    "    \n",
    "    ### create design matrix\n",
    "    idx11 = paste(\"XTFX_DMSO\", mtf1,       sep=\"_\")\n",
    "    idx12 = paste(\"XTFX_DMSO\", mtf2,       sep=\"_\")\n",
    "    idx13 = paste(\"XTFX_DMSO\", mtf1, mtf2, sep=\"_\")\n",
    "    idx21 = paste(\"XTFX_Dex\",  mtf1,       sep=\"_\")\n",
    "    idx22 = paste(\"XTFX_Dex\",  mtf2,       sep=\"_\")\n",
    "    idx23 = paste(\"XTFX_Dex\",  mtf1, mtf2, sep=\"_\")\n",
    "    X[,idx11] = X[,idx11] + X[,idx13] + X[,idx21] + X[,idx23]\n",
    "    X[,idx12] = X[,idx12] + X[,idx13] + X[,idx22] + X[,idx23]\n",
    "    X[,idx21] = X[,idx21] + X[,idx23]\n",
    "    X[,idx22] = X[,idx22] + X[,idx23]\n",
    "    X[,idx13] = X[,idx13] + X[,idx23]\n",
    "    \n",
    "    ### fit model and get the summary\n",
    "    fit = lm(y ~ X + 0)\n",
    "    res = summary(fit)\n",
    "    \n",
    "    ### reduce the memory size\n",
    "    res = stripGlmLR(res)\n",
    "    return(res)\n",
    "})\n",
    "\n",
    "###################################################\n",
    "# Save the results\n",
    "###################################################\n",
    "\n",
    "fdiry = file.path(FD_RES, \"model_linear\")\n",
    "fname = paste0(\"res_interactive_\", CHROM, \".rds\") # fname=\"res_interactive_chr21.rds\"\n",
    "fpath = file.path(fdiry, fname)\n",
    "saveRDS(lst_res, fpath)\n",
    "print(\"Done\")\n",
    "\n",
    "EOF"
   ]
  },
  {
   "cell_type": "code",
   "execution_count": 15,
   "id": "bbfc6321-ecf2-48ce-81fc-c881b87e12a0",
   "metadata": {
    "collapsed": true,
    "jupyter": {
     "outputs_hidden": true
    },
    "tags": []
   },
   "outputs": [
    {
     "name": "stdout",
     "output_type": "stream",
     "text": [
      "### set env\n",
      "source(\"/home/mount/project/config_sing.R\")\n",
      "cat(\"###################################################\\n\\n\")\n",
      "\n",
      "### Get argument: Chromomsome\n",
      "ARGS  = commandArgs(trailingOnly=TRUE)\n",
      "CHROM = ARGS[1]\n",
      "print(CHROM)\n",
      "\n",
      "###################################################\n",
      "# Import library size\n",
      "###################################################\n",
      "cat(\"+++++ Import library size +++++\\n\")\n",
      "\n",
      "### Helper function to get\n",
      "get_sample = function(idn_sample){\n",
      "    idn = idn_sample\n",
      "    idn = str_replace(\n",
      "        string = idn, \n",
      "        pattern = \"Input[0-9]\", \n",
      "        replacement = \"Input\")\n",
      "    idn = str_replace(\n",
      "        string = idn, \n",
      "        pattern = \"TFX[0-9]_\", \n",
      "        replacement=\"TFX_\")\n",
      "    return(idn)\n",
      "}\n",
      "\n",
      "### set path\n",
      "fdiry = file.path(FD_RES, \"source\")\n",
      "fname = \"library_size.txt\"\n",
      "fpath = file.path(fdiry, fname)\n",
      "\n",
      "### import library size\n",
      "ctypes = c(col_integer(), col_character())\n",
      "cnames = c(\"Size\", \"Fpath\")\n",
      "dat_lib = read_tsv(fpath, col_types=ctypes, col_names = cnames)\n",
      "dat_lib = dat_lib %>% \n",
      "    mutate(Sample = tools::file_path_sans_ext(basename(Fpath))) %>%\n",
      "    mutate(Group = get_sample(Sample))\n",
      "dat_lib = dat_lib %>% dplyr::select(Size, Sample, Group)\n",
      "\n",
      "###################################################\n",
      "# Import annotated fragments\n",
      "###################################################\n",
      "cat(\"+++++ Import annotated fragments +++++\\n\")\n",
      "\n",
      "### set column names and types\n",
      "ctypes = c(col_character(), col_integer(), col_integer(), col_integer(),\n",
      "           col_character(), col_integer(), col_integer(),\n",
      "           col_character(), col_double(),  col_integer())\n",
      "cnames = c(\"Chrom_Frag\", \"Start_Frag\", \"End_Frag\", \"Count_Frag\",\n",
      "           \"Chrom_MTF\",  \"Start_MTF\",  \"End_MTF\",\n",
      "           \"Motif\", \"Score\", \"Overlap\")\n",
      "\n",
      "### set samples\n",
      "SAMPLES = c(\n",
      "    paste0(\"Input\", 1:5),\n",
      "    paste0(\"TFX\",   2:5, \"_DMSO\"),\n",
      "    paste0(\"TFX\",   2:5, \"_Dex\"))\n",
      "\n",
      "### import bed files for each sample \n",
      "fdiry = file.path(FD_RES, \"annotation_fragment\", \"filter_motif_score095\")\n",
      "fname = paste0(CHROM, \".bed\", \".gz\") \n",
      "\n",
      "lst_dat = lapply(SAMPLES, function(sam){\n",
      "    ### set path\n",
      "    fpath = file.path(fdiry, sam, fname)\n",
      "    print(fpath)\n",
      "    \n",
      "    ### import data\n",
      "    dat = read_tsv(fpath, col_types=ctypes, col_names=cnames) %>% mutate(Sample = sam)\n",
      "    return(dat)\n",
      "})\n",
      "\n",
      "### arrange data & clean memory\n",
      "dat_ann_frag = bind_rows(lst_dat)\n",
      "lst_dat = NULL\n",
      "\n",
      "### check point: print message\n",
      "head(dat_ann_frag, 3)\n",
      "print(colnames(dat_ann_frag))\n",
      "\n",
      "print(\"Dimension\")\n",
      "print(dim(dat_ann_frag))\n",
      "\n",
      "print(\"Size\")\n",
      "print(object.size(dat_ann_frag))\n",
      "\n",
      "###################################################\n",
      "# Preprocess\n",
      "###################################################\n",
      "cat(\"+++++ Preprocess: get motifs +++++\\n\")\n",
      "\n",
      "### grouped by motif cluster and \n",
      "### split the annotated fragments into list\n",
      "dat    = dat_ann_frag\n",
      "lst    = dat %>% group_by(Motif) %>% group_split\n",
      "motifs = lapply(lst, function(dat){unique(dat$Motif)}) %>% unlist\n",
      "names(lst) = motifs\n",
      "\n",
      "cat(\"+++++ Preprocess: get lst_frag +++++\\n\")\n",
      "### get the list\n",
      "lst_frag = lapply(lst, function(dat){\n",
      "    tmp = dat %>% \n",
      "        dplyr::select(Chrom_Frag, Start_Frag, End_Frag, Count_Frag, Motif, Sample) %>%\n",
      "        distinct()\n",
      "    return(tmp)\n",
      "})\n",
      "\n",
      "###################################################\n",
      "# Set all pairs of motifs\n",
      "###################################################\n",
      "cat(\"+++++ Set all pairs of motifs +++++\\n\")\n",
      "\n",
      "### combination of motifs\n",
      "dat_comb = t(combn(names(lst_frag), 2))\n",
      "\n",
      "### convert motif pairs into a list\n",
      "lst_motif_pair = split(dat_comb, seq(nrow(dat_comb)))\n",
      "names(lst_motif_pair) = lapply(\n",
      "    lst_motif_pair, function(x){\n",
      "        mtf1 = x[1]\n",
      "        mtf2 = x[2]\n",
      "        return(paste(mtf1, mtf2, sep=\"|\"))\n",
      "    } # end fun\n",
      ") # end lapply\n",
      "\n",
      "###################################################\n",
      "# Get interactive effects\n",
      "###################################################\n",
      "cat(\"+++++ Get interactive effects +++++\\n\")\n",
      "\n",
      "### Helper function\n",
      "### https://win-vector.com/2014/05/30/trimming-the-fat-from-glm-models-in-r/\n",
      "stripGlmLR = function(cm) {\n",
      "  cm$y = c()\n",
      "  cm$model = c()\n",
      "  \n",
      "  cm$residuals = c()\n",
      "  cm$fitted.values = c()\n",
      "  cm$effects = c()\n",
      "  cm$qr$qr = c()  \n",
      "  cm$linear.predictors = c()\n",
      "  cm$weights = c()\n",
      "  cm$prior.weights = c()\n",
      "  cm$data = c()\n",
      "\n",
      "  cm$family$variance = c()\n",
      "  cm$family$dev.resids = c()\n",
      "  cm$family$aic = c()\n",
      "  cm$family$validmu = c()\n",
      "  cm$family$simulate = c()\n",
      "  attr(cm$terms,\".Environment\") = c()\n",
      "  attr(cm$formula,\".Environment\") = c()\n",
      "  \n",
      "  return(cm)\n",
      "}\n",
      "\n",
      "### loop through each pair of motifs\n",
      "### estimate interaction effect of each motif pair\n",
      "lst_res = lapply(lst_motif_pair, function(x){\n",
      "\n",
      "    ### extract fragments for each motif\n",
      "    mtf1 = x[1]\n",
      "    mtf2 = x[2]\n",
      "    df1 = lst_frag[[mtf1]]\n",
      "    df2 = lst_frag[[mtf2]]\n",
      "    \n",
      "    ### extract fragments\n",
      "    dat1 = bind_rows(df1, df2) %>% \n",
      "        dplyr::select(Chrom_Frag, Start_Frag, End_Frag, Count_Frag, Sample) %>%\n",
      "        distinct\n",
      "    dat2 = df1 %>% \n",
      "        dplyr::select(Chrom_Frag, Start_Frag, End_Frag, Count_Frag, Sample, Motif)\n",
      "    dat3 = df2 %>% \n",
      "        dplyr::select(Chrom_Frag, Start_Frag, End_Frag, Count_Frag, Sample, Motif)\n",
      "    \n",
      "    ### match fragments for the motif pair\n",
      "    dat = dat1 %>%\n",
      "        full_join(dat2, by = c(\"Chrom_Frag\", \"Start_Frag\", \"End_Frag\", \"Count_Frag\", \"Sample\")) %>%\n",
      "        full_join(dat3, by = c(\"Chrom_Frag\", \"Start_Frag\", \"End_Frag\", \"Count_Frag\", \"Sample\")) %>%\n",
      "        mutate(Motif = paste(Motif.x, Motif.y, sep = \"_\")) %>%\n",
      "        mutate(Motif = str_remove(string=Motif, pattern=\"_NA|NA_\")) %>% \n",
      "        mutate(Group = str_remove(string = Sample, pattern = \"[0-9]\")) %>%\n",
      "        mutate(X     = paste(Group, Motif, sep=\"_\")) %>%\n",
      "        mutate(X     = ifelse(str_detect(X, \"Input\"), \"Input\", X))\n",
      "    \n",
      "    ### annotate fragments based on motif annotation\n",
      "    idx11 = paste(\"TFX_DMSO\", mtf1,       sep=\"_\")\n",
      "    idx12 = paste(\"TFX_DMSO\", mtf2,       sep=\"_\")\n",
      "    idx13 = paste(\"TFX_DMSO\", mtf1, mtf2, sep=\"_\")\n",
      "    idx21 = paste(\"TFX_Dex\",  mtf1,       sep=\"_\")\n",
      "    idx22 = paste(\"TFX_Dex\",  mtf2,       sep=\"_\")\n",
      "    idx23 = paste(\"TFX_Dex\",  mtf1, mtf2, sep=\"_\")\n",
      "    idxs  = c(\"Input\", idx11, idx12, idx21, idx22, idx13, idx23)\n",
      "    tmp = dat %>% \n",
      "        group_by(Sample, X) %>% \n",
      "        summarise(Value = sum(Count_Frag), .groups = 'drop')\n",
      "    \n",
      "    ### normalize counts by library size\n",
      "    tmp = tmp %>% left_join(dat_lib, by=\"Sample\")\n",
      "    tmp = tmp %>%\n",
      "        mutate(Norm_Value    = Value / Size) %>% \n",
      "        mutate(Lognorm_Value = log10(Value) - log10(Size))\n",
      "    tmp$X = factor(tmp$X, levels=idxs)\n",
      "    X = model.matrix(~X, tmp)\n",
      "    y = tmp$Norm_Value\n",
      "    \n",
      "    ### create design matrix\n",
      "    idx11 = paste(\"XTFX_DMSO\", mtf1,       sep=\"_\")\n",
      "    idx12 = paste(\"XTFX_DMSO\", mtf2,       sep=\"_\")\n",
      "    idx13 = paste(\"XTFX_DMSO\", mtf1, mtf2, sep=\"_\")\n",
      "    idx21 = paste(\"XTFX_Dex\",  mtf1,       sep=\"_\")\n",
      "    idx22 = paste(\"XTFX_Dex\",  mtf2,       sep=\"_\")\n",
      "    idx23 = paste(\"XTFX_Dex\",  mtf1, mtf2, sep=\"_\")\n",
      "    X[,idx11] = X[,idx11] + X[,idx13] + X[,idx21] + X[,idx23]\n",
      "    X[,idx12] = X[,idx12] + X[,idx13] + X[,idx22] + X[,idx23]\n",
      "    X[,idx21] = X[,idx21] + X[,idx23]\n",
      "    X[,idx22] = X[,idx22] + X[,idx23]\n",
      "    X[,idx13] = X[,idx13] + X[,idx23]\n",
      "    \n",
      "    ### fit model and get the summary\n",
      "    fit = lm(y ~ X + 0)\n",
      "    res = summary(fit)\n",
      "    \n",
      "    ### reduce the memory size\n",
      "    res = stripGlmLR(res)\n",
      "    return(res)\n",
      "})\n",
      "\n",
      "###################################################\n",
      "# Save the results\n",
      "###################################################\n",
      "\n",
      "fdiry = file.path(FD_RES, \"model_linear\")\n",
      "fname = paste0(\"res_interactive_\", CHROM, \".rds\") # fname=\"res_interactive_chr21.rds\"\n",
      "fpath = file.path(fdiry, fname)\n",
      "saveRDS(lst_res, fpath)\n",
      "print(\"Done\")\n",
      "\n"
     ]
    }
   ],
   "source": [
    "cat motif_interaction.R"
   ]
  },
  {
   "cell_type": "code",
   "execution_count": 23,
   "id": "1225a4ed-fbfb-49ca-b12b-826535f92a6f",
   "metadata": {},
   "outputs": [
    {
     "name": "stdout",
     "output_type": "stream",
     "text": [
      "all\n",
      "/gpfs/fs1/data/reddylab/Kuei/out/proj_combeffect/log\n"
     ]
    }
   ],
   "source": [
    "echo $NODE\n",
    "echo $FD_LOG"
   ]
  },
  {
   "cell_type": "markdown",
   "id": "3376bcff-3da4-45a6-b6b9-e7bf967b81e9",
   "metadata": {},
   "source": [
    "## Run on single chromosome"
   ]
  },
  {
   "cell_type": "code",
   "execution_count": 24,
   "id": "a6f68562-53a2-4196-a6b6-2b53f4a0bca4",
   "metadata": {},
   "outputs": [
    {
     "name": "stdout",
     "output_type": "stream",
     "text": [
      "Submitted batch job 26086261\n"
     ]
    }
   ],
   "source": [
    "### set log file directory\n",
    "sbatch -p ${NODE} \\\n",
    "    --mem=30G \\\n",
    "    -o ${FD_LOG}/motif_interaction_095_chrY.txt \\\n",
    "    <<'EOF'\n",
    "#!/bin/bash\n",
    "### set directories & global variables\n",
    "source ../config_duke.sh\n",
    "#CHROMS=($(seq 1 22) X Y)\n",
    "#CHROM=chr${CHROMS[${SLURM_ARRAY_TASK_ID}]}\n",
    "CHROM=chrY\n",
    "\n",
    "###\n",
    "${FD_PRJ}/sing_proj_combeffect.sh Rscript motif_interaction.R ${CHROM}\n",
    "\n",
    "EOF"
   ]
  },
  {
   "cell_type": "code",
   "execution_count": 27,
   "id": "d3a1312e-c8d2-437b-a437-2bd4eda63d12",
   "metadata": {},
   "outputs": [
    {
     "name": "stdout",
     "output_type": "stream",
     "text": [
      "Submitted batch job 26086264\n"
     ]
    }
   ],
   "source": [
    "### set log file directory\n",
    "sbatch -p ${NODE} \\\n",
    "    --mem=30G \\\n",
    "    -o ${FD_LOG}/motif_interaction_095_chr20.txt \\\n",
    "    <<'EOF'\n",
    "#!/bin/bash\n",
    "### set directories & global variables\n",
    "source ../config_duke.sh\n",
    "#CHROMS=($(seq 1 22) X Y)\n",
    "#CHROM=chr${CHROMS[${SLURM_ARRAY_TASK_ID}]}\n",
    "CHROM=chr20\n",
    "\n",
    "###\n",
    "${FD_PRJ}/sing_proj_combeffect.sh Rscript motif_interaction.R ${CHROM}\n",
    "\n",
    "EOF"
   ]
  },
  {
   "cell_type": "code",
   "execution_count": 26,
   "id": "87423c40-acaa-4599-b681-f01839cdaf49",
   "metadata": {},
   "outputs": [
    {
     "name": "stdout",
     "output_type": "stream",
     "text": [
      "Submitted batch job 26086263\n"
     ]
    }
   ],
   "source": [
    "### set log file directory\n",
    "sbatch -p ${NODE} \\\n",
    "    --mem=30G \\\n",
    "    -o ${FD_LOG}/motif_interaction_095_chr21.txt \\\n",
    "    <<'EOF'\n",
    "#!/bin/bash\n",
    "### set directories & global variables\n",
    "source ../config_duke.sh\n",
    "#CHROMS=($(seq 1 22) X Y)\n",
    "#CHROM=chr${CHROMS[${SLURM_ARRAY_TASK_ID}]}\n",
    "CHROM=chr21\n",
    "\n",
    "###\n",
    "${FD_PRJ}/sing_proj_combeffect.sh Rscript motif_interaction.R ${CHROM}\n",
    "\n",
    "EOF"
   ]
  },
  {
   "cell_type": "code",
   "execution_count": 29,
   "id": "bea7442e-4899-4e0b-aeac-05d4ba1c9d01",
   "metadata": {},
   "outputs": [
    {
     "name": "stdout",
     "output_type": "stream",
     "text": [
      "Submitted batch job 26086265\n"
     ]
    }
   ],
   "source": [
    "### set log file directory\n",
    "sbatch -p ${NODE} \\\n",
    "    --mem=30G \\\n",
    "    -o ${FD_LOG}/motif_interaction_095_chr22.txt \\\n",
    "    <<'EOF'\n",
    "#!/bin/bash\n",
    "### set directories & global variables\n",
    "source ../config_duke.sh\n",
    "#CHROMS=($(seq 1 22) X Y)\n",
    "#CHROM=chr${CHROMS[${SLURM_ARRAY_TASK_ID}]}\n",
    "CHROM=chr22\n",
    "\n",
    "###\n",
    "${FD_PRJ}/sing_proj_combeffect.sh Rscript motif_interaction.R ${CHROM}\n",
    "\n",
    "EOF"
   ]
  },
  {
   "cell_type": "code",
   "execution_count": 39,
   "id": "9c0a2edf-e5d3-448f-9f6c-558ae029ecc1",
   "metadata": {},
   "outputs": [
    {
     "name": "stdout",
     "output_type": "stream",
     "text": [
      "all\n"
     ]
    }
   ],
   "source": [
    "echo $NODE"
   ]
  },
  {
   "cell_type": "code",
   "execution_count": 40,
   "id": "48c6f9ab-6480-457e-8f00-95ff25e7e457",
   "metadata": {},
   "outputs": [
    {
     "name": "stdout",
     "output_type": "stream",
     "text": [
      "Submitted batch job 26098575\n"
     ]
    }
   ],
   "source": [
    "### set log file directory\n",
    "sbatch -p ${NODE} \\\n",
    "    --mem=50G \\\n",
    "    -o ${FD_LOG}/motif_interaction_095_chr17.txt \\\n",
    "    <<'EOF'\n",
    "#!/bin/bash\n",
    "### set directories & global variables\n",
    "source ../config_duke.sh\n",
    "#CHROMS=($(seq 1 22) X Y)\n",
    "#CHROM=chr${CHROMS[${SLURM_ARRAY_TASK_ID}]}\n",
    "CHROM=chr17\n",
    "\n",
    "###\n",
    "${FD_PRJ}/sing_proj_combeffect.sh Rscript motif_interaction.R ${CHROM}\n",
    "\n",
    "EOF"
   ]
  },
  {
   "cell_type": "markdown",
   "id": "7e674954-fa70-4090-bb0b-ef9938f223cd",
   "metadata": {},
   "source": [
    "-----"
   ]
  },
  {
   "cell_type": "markdown",
   "id": "eca4d343-f458-4e1d-9647-983320a476c0",
   "metadata": {},
   "source": [
    "## Run all at the same time"
   ]
  },
  {
   "cell_type": "code",
   "execution_count": 93,
   "id": "636d186c-dcce-49f2-ac69-e3b30c42c4a9",
   "metadata": {},
   "outputs": [
    {
     "name": "stdout",
     "output_type": "stream",
     "text": [
      "Submitted batch job 26083009\n"
     ]
    }
   ],
   "source": [
    "### set log file directory\n",
    "sbatch -p ${NODE} \\\n",
    "    --array=0-23 \\\n",
    "    --mem=20G \\\n",
    "    -o ${FD_LOG}/motif_interaction_095.%a.txt \\\n",
    "    <<'EOF'\n",
    "#!/bin/bash\n",
    "### set directories & global variables\n",
    "source ../config_duke.sh\n",
    "CHROMS=($(seq 1 22) X Y)\n",
    "CHROM=chr${CHROMS[${SLURM_ARRAY_TASK_ID}]}\n",
    "\n",
    "###\n",
    "${FD_PRJ}/sing_proj_combeffect.sh Rscript motif_interaction.R ${CHROM}\n",
    "\n",
    "EOF"
   ]
  },
  {
   "cell_type": "markdown",
   "id": "509b8d60-ac35-4e2d-b874-cf109d3ec4ac",
   "metadata": {},
   "source": [
    "scancel 26083009"
   ]
  },
  {
   "cell_type": "markdown",
   "id": "7a8b82a3-4027-4005-9104-93c55095be8b",
   "metadata": {},
   "source": [
    "#./watching.sh /gpfs/fs1/data/reddylab/Kuei/out/proj_combeffect/log/motif_interaction_095.0.txt\n",
    "#./watching.sh /gpfs/fs1/data/reddylab/Kuei/out/proj_combeffect/log/motif_interaction_095.23.txt"
   ]
  },
  {
   "cell_type": "code",
   "execution_count": 76,
   "id": "575866cc-ce6c-47c7-9c41-c1fae5b518c4",
   "metadata": {
    "collapsed": true,
    "jupyter": {
     "outputs_hidden": true
    },
    "tags": []
   },
   "outputs": [
    {
     "name": "stdout",
     "output_type": "stream",
     "text": [
      "── Attaching packages ─────────────────────────────────────── tidyverse 1.3.1 ──\n",
      "✔ ggplot2 3.3.5     ✔ purrr   0.3.4\n",
      "✔ tibble  3.1.4     ✔ dplyr   1.0.7\n",
      "✔ tidyr   1.1.3     ✔ stringr 1.4.0\n",
      "✔ readr   2.0.1     ✔ forcats 0.5.1\n",
      "── Conflicts ────────────────────────────────────────── tidyverse_conflicts() ──\n",
      "✖ dplyr::filter() masks stats::filter()\n",
      "✖ dplyr::lag()    masks stats::lag()\n",
      "\n",
      "Attaching package: ‘gridExtra’\n",
      "\n",
      "The following object is masked from ‘package:dplyr’:\n",
      "\n",
      "    combine\n",
      "\n",
      "###################################################\n",
      "\n",
      "[1] \"chr1\"\n",
      "[1] \"/home/mount/work/out/proj_combeffect/annotation_fragment/filter_motif_score095/Input1/chr1.bed.gz\"\n",
      "[1] \"/home/mount/work/out/proj_combeffect/annotation_fragment/filter_motif_score095/Input2/chr1.bed.gz\"\n",
      "[1] \"/home/mount/work/out/proj_combeffect/annotation_fragment/filter_motif_score095/Input3/chr1.bed.gz\"\n",
      "[1] \"/home/mount/work/out/proj_combeffect/annotation_fragment/filter_motif_score095/Input4/chr1.bed.gz\"\n",
      "[1] \"/home/mount/work/out/proj_combeffect/annotation_fragment/filter_motif_score095/Input5/chr1.bed.gz\"\n",
      "[1] \"/home/mount/work/out/proj_combeffect/annotation_fragment/filter_motif_score095/TFX2_DMSO/chr1.bed.gz\"\n",
      "[1] \"/home/mount/work/out/proj_combeffect/annotation_fragment/filter_motif_score095/TFX3_DMSO/chr1.bed.gz\"\n",
      "Error: '/home/mount/work/out/proj_combeffect/annotation_fragment/filter_motif_score095/TFX3_DMSO/chr1.bed.gz' does not exist.\n",
      "Execution halted\n"
     ]
    }
   ],
   "source": [
    "cat ${FD_LOG}/motif_interaction_095.0.txt"
   ]
  },
  {
   "cell_type": "code",
   "execution_count": 18,
   "id": "8a63a47a-fe50-4c2f-968c-a7c171c712a1",
   "metadata": {
    "collapsed": true,
    "jupyter": {
     "outputs_hidden": true
    },
    "tags": []
   },
   "outputs": [
    {
     "name": "stdout",
     "output_type": "stream",
     "text": [
      "── Attaching packages ─────────────────────────────────────── tidyverse 1.3.1 ──\n",
      "✔ ggplot2 3.3.5     ✔ purrr   0.3.4\n",
      "✔ tibble  3.1.4     ✔ dplyr   1.0.7\n",
      "✔ tidyr   1.1.3     ✔ stringr 1.4.0\n",
      "✔ readr   2.0.1     ✔ forcats 0.5.1\n",
      "── Conflicts ────────────────────────────────────────── tidyverse_conflicts() ──\n",
      "✖ dplyr::filter() masks stats::filter()\n",
      "✖ dplyr::lag()    masks stats::lag()\n",
      "\n",
      "Attaching package: ‘gridExtra’\n",
      "\n",
      "The following object is masked from ‘package:dplyr’:\n",
      "\n",
      "    combine\n",
      "\n",
      "###################################################\n",
      "\n",
      "[1] \"chr14\"\n",
      "[1] \"/home/mount/work/out/proj_combeffect/annotation_fragment/filter_motif_score095/Input1/chr14.bed.gz\"\n",
      "[1] \"/home/mount/work/out/proj_combeffect/annotation_fragment/filter_motif_score095/Input2/chr14.bed.gz\"\n",
      "[1] \"/home/mount/work/out/proj_combeffect/annotation_fragment/filter_motif_score095/Input3/chr14.bed.gz\"\n",
      "[1] \"/home/mount/work/out/proj_combeffect/annotation_fragment/filter_motif_score095/Input4/chr14.bed.gz\"\n",
      "[1] \"/home/mount/work/out/proj_combeffect/annotation_fragment/filter_motif_score095/Input5/chr14.bed.gz\"\n",
      "[1] \"/home/mount/work/out/proj_combeffect/annotation_fragment/filter_motif_score095/TFX2_DMSO/chr14.bed.gz\"\n",
      "[1] \"/home/mount/work/out/proj_combeffect/annotation_fragment/filter_motif_score095/TFX3_DMSO/chr14.bed.gz\"\n",
      "[1] \"/home/mount/work/out/proj_combeffect/annotation_fragment/filter_motif_score095/TFX4_DMSO/chr14.bed.gz\"\n",
      "[1] \"/home/mount/work/out/proj_combeffect/annotation_fragment/filter_motif_score095/TFX5_DMSO/chr14.bed.gz\"\n",
      "[1] \"/home/mount/work/out/proj_combeffect/annotation_fragment/filter_motif_score095/TFX2_Dex/chr14.bed.gz\"\n",
      "[1] \"/home/mount/work/out/proj_combeffect/annotation_fragment/filter_motif_score095/TFX3_Dex/chr14.bed.gz\"\n",
      "[1] \"/home/mount/work/out/proj_combeffect/annotation_fragment/filter_motif_score095/TFX4_Dex/chr14.bed.gz\"\n",
      "[1] \"/home/mount/work/out/proj_combeffect/annotation_fragment/filter_motif_score095/TFX5_Dex/chr14.bed.gz\"\n",
      "# A tibble: 3 × 11\n",
      "  Chrom_Frag Start_Frag End_Frag Count_Frag Chrom_MTF Start_MTF  End_MTF Motif \n",
      "  <chr>           <dbl>    <dbl>      <dbl> <chr>         <dbl>    <dbl> <chr> \n",
      "1 chr14        16025238 16026208          1 chr14      16025266 16025275 ZNF449\n",
      "2 chr14        16025238 16026208          1 chr14      16025912 16025931 ZNF143\n",
      "3 chr14        16055964 16056926          1 chr14      16055979 16055989 GLI   \n",
      "# … with 3 more variables: Score <dbl>, Overlap <dbl>, Sample <chr>\n",
      " [1] \"Chrom_Frag\" \"Start_Frag\" \"End_Frag\"   \"Count_Frag\" \"Chrom_MTF\" \n",
      " [6] \"Start_MTF\"  \"End_MTF\"    \"Motif\"      \"Score\"      \"Overlap\"   \n",
      "[11] \"Sample\"    \n",
      "[1] \"Dimension\"\n",
      "[1] 58489624       11\n",
      "[1] \"Size\"\n",
      "5147109952 bytes\n"
     ]
    }
   ],
   "source": [
    "cat ${FD_LOG}/motif_interaction_095.13.txt"
   ]
  },
  {
   "cell_type": "code",
   "execution_count": 38,
   "id": "995b2c3f-817d-47b4-bad2-2391457bfdfe",
   "metadata": {},
   "outputs": [
    {
     "name": "stdout",
     "output_type": "stream",
     "text": [
      "── Attaching packages ─────────────────────────────────────── tidyverse 1.3.1 ──\n",
      "✔ ggplot2 3.3.5     ✔ purrr   0.3.4\n",
      "✔ tibble  3.1.4     ✔ dplyr   1.0.7\n",
      "✔ tidyr   1.1.3     ✔ stringr 1.4.0\n",
      "✔ readr   2.0.1     ✔ forcats 0.5.1\n",
      "── Conflicts ────────────────────────────────────────── tidyverse_conflicts() ──\n",
      "✖ dplyr::filter() masks stats::filter()\n",
      "✖ dplyr::lag()    masks stats::lag()\n",
      "\n",
      "Attaching package: ‘gridExtra’\n",
      "\n",
      "The following object is masked from ‘package:dplyr’:\n",
      "\n",
      "    combine\n",
      "\n",
      "###################################################\n",
      "\n",
      "[1] \"chrX\"\n",
      "[1] \"/home/mount/work/out/proj_combeffect/annotation_fragment/filter_motif_score095/Input1/chrX.bed.gz\"\n",
      "[1] \"/home/mount/work/out/proj_combeffect/annotation_fragment/filter_motif_score095/Input2/chrX.bed.gz\"\n",
      "[1] \"/home/mount/work/out/proj_combeffect/annotation_fragment/filter_motif_score095/Input3/chrX.bed.gz\"\n",
      "[1] \"/home/mount/work/out/proj_combeffect/annotation_fragment/filter_motif_score095/Input4/chrX.bed.gz\"\n",
      "[1] \"/home/mount/work/out/proj_combeffect/annotation_fragment/filter_motif_score095/Input5/chrX.bed.gz\"\n",
      "[1] \"/home/mount/work/out/proj_combeffect/annotation_fragment/filter_motif_score095/TFX2_DMSO/chrX.bed.gz\"\n",
      "[1] \"/home/mount/work/out/proj_combeffect/annotation_fragment/filter_motif_score095/TFX3_DMSO/chrX.bed.gz\"\n",
      "[1] \"/home/mount/work/out/proj_combeffect/annotation_fragment/filter_motif_score095/TFX4_DMSO/chrX.bed.gz\"\n",
      "[1] \"/home/mount/work/out/proj_combeffect/annotation_fragment/filter_motif_score095/TFX5_DMSO/chrX.bed.gz\"\n",
      "[1] \"/home/mount/work/out/proj_combeffect/annotation_fragment/filter_motif_score095/TFX2_Dex/chrX.bed.gz\"\n",
      "[1] \"/home/mount/work/out/proj_combeffect/annotation_fragment/filter_motif_score095/TFX3_Dex/chrX.bed.gz\"\n",
      "[1] \"/home/mount/work/out/proj_combeffect/annotation_fragment/filter_motif_score095/TFX4_Dex/chrX.bed.gz\"\n",
      "[1] \"/home/mount/work/out/proj_combeffect/annotation_fragment/filter_motif_score095/TFX5_Dex/chrX.bed.gz\"\n",
      "# A tibble: 3 × 11\n",
      "  Chrom_Frag Start_Frag End_Frag Count_Frag Chrom_MTF Start_MTF End_MTF Motif\n",
      "  <chr>           <dbl>    <dbl>      <dbl> <chr>         <dbl>   <dbl> <chr>\n",
      "1 chrX            34046    34953          1 chrX          34118   34135 NR/12\n",
      "2 chrX           344235   345242          1 chrX         344317  344329 E2F/2\n",
      "3 chrX           344235   345242          1 chrX         344515  344529 NR/3 \n",
      "# … with 3 more variables: Score <dbl>, Overlap <dbl>, Sample <chr>\n",
      " [1] \"Chrom_Frag\" \"Start_Frag\" \"End_Frag\"   \"Count_Frag\" \"Chrom_MTF\" \n",
      " [6] \"Start_MTF\"  \"End_MTF\"    \"Motif\"      \"Score\"      \"Overlap\"   \n",
      "[11] \"Sample\"    \n",
      "[1] \"Dimension\"\n",
      "[1] 65850137       11\n",
      "[1] \"Size\"\n",
      "5794835152 bytes\n",
      "[1] \"Done\"\n",
      "Error: unexpected symbol in \"ave the\"\n",
      "Execution halted\n"
     ]
    }
   ],
   "source": [
    "cat ${FD_LOG}/motif_interaction_095.22.txt"
   ]
  },
  {
   "cell_type": "code",
   "execution_count": 30,
   "id": "9e23cce4-e41a-4240-ac32-8ecdcaa4104a",
   "metadata": {},
   "outputs": [
    {
     "name": "stdout",
     "output_type": "stream",
     "text": [
      "fit_interactive_target_PER1.rds  res_interactive_chrX.rds\n",
      "fit_marginal_target_PER1.rds     res_interactive_chrY.rds\n",
      "res_interactive_chr20.rds        res_interactive_target_PER1.rds\n",
      "res_interactive_chr21.rds\n"
     ]
    }
   ],
   "source": [
    "ls ${FD_RES}/model_linear"
   ]
  },
  {
   "cell_type": "markdown",
   "id": "82b02575-082b-4d78-ad82-85bba44cf2b3",
   "metadata": {
    "tags": []
   },
   "source": [
    "## Run on DCC"
   ]
  },
  {
   "cell_type": "code",
   "execution_count": 45,
   "id": "3addb71e-66cc-44ea-a249-576c3a146a84",
   "metadata": {},
   "outputs": [
    {
     "name": "stdout",
     "output_type": "stream",
     "text": [
      "/hpc/home/kk319/GitRepo/Proj_CombEffect_STARRseq/notebooks/config_duke.sh\n"
     ]
    }
   ],
   "source": [
    "readlink -f ../config_duke.sh"
   ]
  },
  {
   "cell_type": "code",
   "execution_count": 3,
   "id": "8ca019c4-5738-465e-b2d8-f375c8a77eb6",
   "metadata": {},
   "outputs": [
    {
     "name": "stdout",
     "output_type": "stream",
     "text": [
      "\u001b[0m\u001b[01;34mannotation_fragment\u001b[0m  \u001b[01;34mbedgraph\u001b[0m   \u001b[01;34mcount_fragment\u001b[0m  \u001b[01;34mcoverage\u001b[0m  \u001b[01;34mkmer\u001b[0m  \u001b[01;34mmodel_linear\u001b[0m\n",
      "\u001b[01;34mannotation_segment\u001b[0m   \u001b[01;34mbootstrap\u001b[0m  \u001b[01;34mcount_segment\u001b[0m   \u001b[01;34mdata\u001b[0m      \u001b[01;34mlog\u001b[0m   \u001b[01;34msource\u001b[0m\n"
     ]
    }
   ],
   "source": [
    "ls ${FD_RES}"
   ]
  },
  {
   "cell_type": "code",
   "execution_count": 46,
   "id": "04d014c2-05c0-4529-8f05-41bf568c21f3",
   "metadata": {},
   "outputs": [
    {
     "name": "stdout",
     "output_type": "stream",
     "text": [
      "\u001b[0m\u001b[01;34mInput\u001b[0m   \u001b[01;34mInput3\u001b[0m  target_PER1_MA0099.3.bed  \u001b[01;34mTFX2_DMSO\u001b[0m  \u001b[01;34mTFX4_Dex\u001b[0m   \u001b[01;34mTFX5_DMSO\u001b[0m\n",
      "\u001b[01;34mInput1\u001b[0m  \u001b[01;34mInput4\u001b[0m  target_PER1_MA0113.3.bed  \u001b[01;34mTFX3_Dex\u001b[0m   \u001b[01;34mTFX4_DMSO\u001b[0m  \u001b[01;34mTFX_Dex\u001b[0m\n",
      "\u001b[01;34mInput2\u001b[0m  \u001b[01;34mInput5\u001b[0m  \u001b[01;34mTFX2_Dex\u001b[0m                  \u001b[01;34mTFX3_DMSO\u001b[0m  \u001b[01;34mTFX5_Dex\u001b[0m   \u001b[01;34mTFX_DMSO\u001b[0m\n"
     ]
    }
   ],
   "source": [
    "ls ${FD_RES}/annotation_fragment"
   ]
  },
  {
   "cell_type": "code",
   "execution_count": 43,
   "id": "4e674461-5b41-4f8b-a6ce-2d089b51a8d0",
   "metadata": {},
   "outputs": [
    {
     "name": "stdout",
     "output_type": "stream",
     "text": [
      "2.7G Jul 19 00:13 /work/kk319/out/CombEffect_STARR/annotation_fragment/Input1/chr21.bed\n",
      "2.9G Jul 19 00:15 /work/kk319/out/CombEffect_STARR/annotation_fragment/Input2/chr21.bed\n",
      "3.4G Jul 19 00:18 /work/kk319/out/CombEffect_STARR/annotation_fragment/Input3/chr21.bed\n",
      "2.7G Jul 19 00:19 /work/kk319/out/CombEffect_STARR/annotation_fragment/Input4/chr21.bed\n",
      "2.2G Jul 19 00:21 /work/kk319/out/CombEffect_STARR/annotation_fragment/Input5/chr21.bed\n",
      "13.9\n"
     ]
    }
   ],
   "source": [
    "dir ${FD_RES}/annotation_fragment/Input?/chr21.bed"
   ]
  },
  {
   "cell_type": "code",
   "execution_count": 44,
   "id": "456cbd06-eefc-401f-beee-fa08b0dfab99",
   "metadata": {},
   "outputs": [
    {
     "name": "stdout",
     "output_type": "stream",
     "text": [
      "6.3G Jul 19 00:26 /work/kk319/out/CombEffect_STARR/annotation_fragment/TFX2_DMSO/chr21.bed\n",
      "4.1G Jul 19 00:33 /work/kk319/out/CombEffect_STARR/annotation_fragment/TFX3_DMSO/chr21.bed\n",
      "4.8G Jul 19 00:39 /work/kk319/out/CombEffect_STARR/annotation_fragment/TFX4_DMSO/chr21.bed\n",
      "4.5G Jul 19 00:46 /work/kk319/out/CombEffect_STARR/annotation_fragment/TFX5_DMSO/chr21.bed\n",
      "19.7\n"
     ]
    }
   ],
   "source": [
    "dir ${FD_RES}/annotation_fragment/TFX?_DMSO/chr21.bed"
   ]
  },
  {
   "cell_type": "code",
   "execution_count": 37,
   "id": "44741b67-7a99-45aa-9eaa-e383ae54e199",
   "metadata": {},
   "outputs": [
    {
     "name": "stdout",
     "output_type": "stream",
     "text": [
      "6.7G Jul 19 00:31 /work/kk319/out/CombEffect_STARR/annotation_fragment/TFX2_Dex/chr21.bed\n",
      "4.2G Jul 19 00:36 /work/kk319/out/CombEffect_STARR/annotation_fragment/TFX3_Dex/chr21.bed\n",
      "5.6G Jul 19 00:43 /work/kk319/out/CombEffect_STARR/annotation_fragment/TFX4_Dex/chr21.bed\n",
      "6.8G Jul 19 00:50 /work/kk319/out/CombEffect_STARR/annotation_fragment/TFX5_Dex/chr21.bed\n",
      "23.3\n"
     ]
    }
   ],
   "source": [
    "dir ${FD_RES}/annotation_fragment/TFX?_Dex/chr21.bed"
   ]
  },
  {
   "cell_type": "code",
   "execution_count": 38,
   "id": "6375e886-3307-4eab-a929-4ec9357d024c",
   "metadata": {},
   "outputs": [
    {
     "name": "stdout",
     "output_type": "stream",
     "text": [
      "13.899999999999999\n",
      "56.900000000000006\n"
     ]
    }
   ],
   "source": [
    "python -c \"print(2.7 + 2.9 + 3.4 + 2.7 + 2.2)\"\n",
    "python -c \"print(13.9 + 19.7 + 23.3)\""
   ]
  },
  {
   "cell_type": "code",
   "execution_count": 4,
   "id": "8914ce47-88df-4252-a8a0-fb88e4948b16",
   "metadata": {},
   "outputs": [
    {
     "name": "stdout",
     "output_type": "stream",
     "text": [
      "7.1G Jul 19 00:30 /work/kk319/out/CombEffect_STARR/annotation_fragment/Input1/chr17.bed\n",
      "7.7G Jul 19 00:35 /work/kk319/out/CombEffect_STARR/annotation_fragment/Input2/chr17.bed\n",
      "9.0G Jul 19 00:42 /work/kk319/out/CombEffect_STARR/annotation_fragment/Input3/chr17.bed\n",
      "7.2G Jul 19 00:46 /work/kk319/out/CombEffect_STARR/annotation_fragment/Input4/chr17.bed\n",
      "5.8G Jul 19 00:50 /work/kk319/out/CombEffect_STARR/annotation_fragment/Input5/chr17.bed\n",
      "36.8\n"
     ]
    }
   ],
   "source": [
    "dir ${FD_RES}/annotation_fragment/Input?/chr17.bed"
   ]
  },
  {
   "cell_type": "code",
   "execution_count": 5,
   "id": "852fa812-7e7f-4109-811a-ece0cae4273e",
   "metadata": {},
   "outputs": [
    {
     "name": "stdout",
     "output_type": "stream",
     "text": [
      "19G Jul 19 01:01 /work/kk319/out/CombEffect_STARR/annotation_fragment/TFX2_DMSO/chr17.bed\n",
      "12G Jul 19 01:18 /work/kk319/out/CombEffect_STARR/annotation_fragment/TFX3_DMSO/chr17.bed\n",
      "14G Jul 19 01:32 /work/kk319/out/CombEffect_STARR/annotation_fragment/TFX4_DMSO/chr17.bed\n",
      "13G Jul 19 01:48 /work/kk319/out/CombEffect_STARR/annotation_fragment/TFX5_DMSO/chr17.bed\n",
      "58\n"
     ]
    }
   ],
   "source": [
    "dir ${FD_RES}/annotation_fragment/TFX?_DMSO/chr17.bed"
   ]
  },
  {
   "cell_type": "code",
   "execution_count": 6,
   "id": "4463e1c8-04ac-4944-b5a9-e95f20b43395",
   "metadata": {},
   "outputs": [
    {
     "name": "stdout",
     "output_type": "stream",
     "text": [
      "19G Jul 19 01:12 /work/kk319/out/CombEffect_STARR/annotation_fragment/TFX2_Dex/chr17.bed\n",
      "12G Jul 19 01:25 /work/kk319/out/CombEffect_STARR/annotation_fragment/TFX3_Dex/chr17.bed\n",
      "16G Jul 19 01:41 /work/kk319/out/CombEffect_STARR/annotation_fragment/TFX4_Dex/chr17.bed\n",
      "19G Jul 19 01:58 /work/kk319/out/CombEffect_STARR/annotation_fragment/TFX5_Dex/chr17.bed\n",
      "66\n"
     ]
    }
   ],
   "source": [
    "dir ${FD_RES}/annotation_fragment/TFX?_Dex/chr17.bed"
   ]
  },
  {
   "cell_type": "code",
   "execution_count": 7,
   "id": "d4e809eb-0b57-48cb-84f3-d65a1d3e993d",
   "metadata": {},
   "outputs": [
    {
     "name": "stdout",
     "output_type": "stream",
     "text": [
      "36.8\n"
     ]
    }
   ],
   "source": [
    "python -c \"print(7.1 + 7.7 + 9.0 + 7.2 + 5.8)\""
   ]
  },
  {
   "cell_type": "code",
   "execution_count": 8,
   "id": "b6a5596f-883d-46e5-85e0-b3df979a5f1c",
   "metadata": {},
   "outputs": [
    {
     "name": "stdout",
     "output_type": "stream",
     "text": [
      "160.8\n"
     ]
    }
   ],
   "source": [
    "python -c \"print(36.8 + 58 + 66)\""
   ]
  },
  {
   "cell_type": "code",
   "execution_count": 9,
   "id": "331d6055-e803-468a-afb3-f8790bf1bce1",
   "metadata": {},
   "outputs": [
    {
     "name": "stdout",
     "output_type": "stream",
     "text": [
      "You are on Duke Server: DCC\n",
      "BASE DIRECTORY:     /work/kk319\n",
      "PATH OF SOURCE:     /work/kk319/source\n",
      "PATH OF EXECUTABLE: /work/kk319/exe\n",
      "PATH OF ANNOTATION: /work/kk319/annotation\n",
      "PATH OF PROJECT:    /hpc/home/kk319/GitRepo/Proj_CombEffect_STARRseq/notebooks\n",
      "PATH OF RESULTS:    /work/kk319/out/CombEffect_STARR\n",
      "\n",
      "01_marginal_per1_v1.ipynb\t  12_interactive_per1_multiple.ipynb  config.R\n",
      "01_marginal_per1_v2.ipynb\t  13_interactive_per1_plot.ipynb      mount\n",
      "11_interactive_per1_single.ipynb  14_interactive_chr17.ipynb\n"
     ]
    }
   ],
   "source": [
    "${FD_PRJ}/sing_proj_combeffect.sh ls"
   ]
  },
  {
   "cell_type": "code",
   "execution_count": 10,
   "id": "54d1c1e9-9334-45ff-b604-86be8031b232",
   "metadata": {},
   "outputs": [
    {
     "name": "stdout",
     "output_type": "stream",
     "text": [
      "You are on Duke Server: DCC\n",
      "BASE DIRECTORY:     /work/kk319\n",
      "PATH OF SOURCE:     /work/kk319/source\n",
      "PATH OF EXECUTABLE: /work/kk319/exe\n",
      "PATH OF ANNOTATION: /work/kk319/annotation\n",
      "PATH OF PROJECT:    /hpc/home/kk319/GitRepo/Proj_CombEffect_STARRseq/notebooks\n",
      "PATH OF RESULTS:    /work/kk319/out/CombEffect_STARR\n",
      "\n",
      "project  reddylab  work\n"
     ]
    }
   ],
   "source": [
    "${FD_PRJ}/sing_proj_combeffect.sh ls ./mount"
   ]
  },
  {
   "cell_type": "code",
   "execution_count": 12,
   "id": "66461168-bd7b-4efb-869d-a07e5a152626",
   "metadata": {},
   "outputs": [
    {
     "name": "stdout",
     "output_type": "stream",
     "text": [
      "You are on Duke Server: DCC\n",
      "BASE DIRECTORY:     /work/kk319\n",
      "PATH OF SOURCE:     /work/kk319/source\n",
      "PATH OF EXECUTABLE: /work/kk319/exe\n",
      "PATH OF ANNOTATION: /work/kk319/annotation\n",
      "PATH OF PROJECT:    /hpc/home/kk319/GitRepo/Proj_CombEffect_STARRseq/notebooks\n",
      "PATH OF RESULTS:    /work/kk319/out/CombEffect_STARR\n",
      "\n",
      "You are within a singularity image\n",
      "BASE DIRECTORY:     /home/mount/work\n",
      "PATH OF SOURCE:     /home/mount/work/source\n",
      "PATH OF EXECUTABLE: /home/mount/work/exe\n",
      "PATH OF ANNOTATION: /home/mount/work/annotation\n",
      "PATH OF PROJECT:    /home/mount/project\n",
      "PATH OF RESULTS:    /home/mount/work/out/CombEffect_STARR\n",
      "\n",
      "annotation  exe  out  source\n",
      "++++++++++++++++++++++++++++\n",
      "CRADLE\tKuei  scarlett\n"
     ]
    }
   ],
   "source": [
    "${FD_PRJ}/sing_proj_combeffect.sh bash << 'EOF'\n",
    "#!/bin/bash\n",
    "source ./mount/project/config_sing.sh\n",
    "ls ${FD_WORK}\n",
    "echo ++++++++++++++++++++++++++++\n",
    "ls ${FD_RLAB}\n",
    "EOF"
   ]
  },
  {
   "cell_type": "code",
   "execution_count": 13,
   "id": "2a22004b-9d5d-451a-8593-fc6e35679e9a",
   "metadata": {},
   "outputs": [
    {
     "name": "stdout",
     "output_type": "stream",
     "text": [
      "\u001b[0m\u001b[01;34mannotation_fragment\u001b[0m  \u001b[01;34mbedgraph\u001b[0m   \u001b[01;34mcount_fragment\u001b[0m  \u001b[01;34mcoverage\u001b[0m  \u001b[01;34mkmer\u001b[0m  \u001b[01;34mmodel_linear\u001b[0m\n",
      "\u001b[01;34mannotation_segment\u001b[0m   \u001b[01;34mbootstrap\u001b[0m  \u001b[01;34mcount_segment\u001b[0m   \u001b[01;34mdata\u001b[0m      \u001b[01;34mlog\u001b[0m   \u001b[01;34msource\u001b[0m\n"
     ]
    }
   ],
   "source": [
    "ls ${FD_RES}"
   ]
  },
  {
   "cell_type": "code",
   "execution_count": 16,
   "id": "17fb23e0-af10-4833-b8a5-aa5bf70b13df",
   "metadata": {},
   "outputs": [
    {
     "name": "stdout",
     "output_type": "stream",
     "text": [
      "annotate_fragment_chrom.0.txt\n",
      "annotate_fragment_chrom.10.txt\n",
      "annotate_fragment_chrom.11.txt\n",
      "annotate_fragment_chrom.12.txt\n",
      "annotate_fragment_chrom.13.txt\n",
      "annotate_fragment_chrom.14.txt\n",
      "annotate_fragment_chrom.15.txt\n",
      "annotate_fragment_chrom.16.txt\n",
      "annotate_fragment_chrom.17.txt\n",
      "annotate_fragment_chrom.18.txt\n",
      "ls: write error: Broken pipe\n"
     ]
    }
   ],
   "source": [
    "ls ${FD_LOG} | head"
   ]
  },
  {
   "cell_type": "code",
   "execution_count": 19,
   "id": "42346dfc-bd5c-4ebf-8023-6e6bff0fbf37",
   "metadata": {},
   "outputs": [
    {
     "name": "stdout",
     "output_type": "stream",
     "text": [
      "scavenger\n"
     ]
    }
   ],
   "source": [
    "#NODE_NAME=scavenger\n",
    "echo ${NODE_NAME}"
   ]
  },
  {
   "cell_type": "code",
   "execution_count": 32,
   "id": "f1c618e9-7def-464a-87ae-aa99d698987b",
   "metadata": {},
   "outputs": [
    {
     "name": "stdout",
     "output_type": "stream",
     "text": [
      "chr17\t201123\t201925\t1\tchr17\t201116\t201126\tNFKB/1\t9.0328\t3\n",
      "chr17\t201123\t201925\t1\tchr17\t201136\t201152\tMZF1\t9.0967\t16\n",
      "chr17\t201123\t201925\t1\tchr17\t201138\t201148\tNFKB/1\t8.1413\t10\n"
     ]
    }
   ],
   "source": [
    "head -3 /work/kk319/out/CombEffect_STARR/annotation_fragment/Input1/chr17.bed"
   ]
  },
  {
   "cell_type": "code",
   "execution_count": 33,
   "id": "47933d89-8816-48ac-ba4c-ee9c432fdd4b",
   "metadata": {},
   "outputs": [],
   "source": [
    "cat > motif_interaction.R << 'EOF'\n",
    "### set env\n",
    "source(\"/home/mount/project/config_sing.R\")\n",
    "#print(dir(FD_WORK))\n",
    "#print(dir(FD_RES))\n",
    "\n",
    "### import\n",
    "ctypes = c(col_character(), col_integer(), col_integer(), col_integer(),\n",
    "           col_character(), col_integer(), col_integer(),\n",
    "           col_character(), col_double(),  col_integer())\n",
    "cnames = c(\"Chrom_Frag\", \"Start_Frag\", \"End_Frag\", \"Count_Frag\",\n",
    "           \"Chrom_MTF\",  \"Start_MTF\",  \"End_MTF\",\n",
    "           \"Motif\", \"Score\", \"Overlap\")\n",
    "\n",
    "fdiry = file.path(FD_RES, \"annotation_fragment\", \"Input1\")\n",
    "fname = \"chr17.bed\"\n",
    "fpath = file.path(fdiry, fname)\n",
    "\n",
    "dat = read_tsv(fpath, col_types=ctypes, col_names=cnames)\n",
    "print(head(dat, 3))\n",
    "\n",
    "EOF"
   ]
  },
  {
   "cell_type": "code",
   "execution_count": 34,
   "id": "60b3bcf6-4dca-453e-863b-c672d6064377",
   "metadata": {},
   "outputs": [
    {
     "name": "stdout",
     "output_type": "stream",
     "text": [
      "Submitted batch job 17810368\n"
     ]
    }
   ],
   "source": [
    "### set log file directory\n",
    "sbatch -p ${NODE_NAME} \\\n",
    "    --mem=10G \\\n",
    "    -o ${FD_LOG}/motif_interaction_chr17.txt \\\n",
    "    <<'EOF'\n",
    "#!/bin/bash\n",
    "source ../config_duke.sh\n",
    "${FD_PRJ}/sing_proj_combeffect.sh Rscript motif_interaction.R\n",
    "\n",
    "EOF"
   ]
  },
  {
   "cell_type": "code",
   "execution_count": 23,
   "id": "104dfb93-a5be-4a1e-b1df-ee97dc19660b",
   "metadata": {},
   "outputs": [
    {
     "name": "stdout",
     "output_type": "stream",
     "text": [
      "/work/kk319/out/CombEffect_STARR/log/motif_interaction_chr17.txt\n"
     ]
    }
   ],
   "source": [
    "echo ${FD_LOG}/motif_interaction_chr17.txt"
   ]
  },
  {
   "cell_type": "code",
   "execution_count": 93,
   "id": "cfc6b757-8023-47a8-bada-cac48cb9e218",
   "metadata": {},
   "outputs": [
    {
     "name": "stdout",
     "output_type": "stream",
     "text": [
      "You are on Duke Server: DCC\n",
      "BASE DIRECTORY:     /work/kk319\n",
      "PATH OF SOURCE:     /work/kk319/source\n",
      "PATH OF EXECUTABLE: /work/kk319/exe\n",
      "PATH OF ANNOTATION: /work/kk319/annotation\n",
      "PATH OF PROJ:       /hpc/home/kk319/GitRepo/Proj_CombEffect_STARRseq/notebooks\n",
      "PATH OF OUTPUT:     /work/kk319/out/CombEffect_STARR\n",
      "\n",
      "/hpc/home/kk319/GitRepo/Proj_CombEffect_STARRseq/notebooks/sing_proj_combeffect.sh: line 3: config_duke.sh: No such file or directory\n",
      "Error for command \"exec\": requires at least 2 arg(s), only received 1\n",
      "\n",
      "Usage:\n",
      "  singularity [global options...] exec [exec options...] <container> <command>\n",
      "\n",
      "Run 'singularity --help' for more detailed usage information.\n"
     ]
    }
   ],
   "source": [
    "cat ${FD_LOG}/test.txt"
   ]
  },
  {
   "cell_type": "code",
   "execution_count": 51,
   "id": "2ddc5f8a-5ff7-401f-874e-d87e1c2c52f5",
   "metadata": {},
   "outputs": [
    {
     "name": "stdout",
     "output_type": "stream",
     "text": [
      "-rw-r--r--. 1 kk319 root 4.8G Sep  6 12:43 /work/kk319/out/CombEffect_STARR/annotation_fragment/motif_annotation_chr21_090.bed\n"
     ]
    }
   ],
   "source": [
    "ls -lh ${FD_RES}/annotation_fragment/motif_annotation_chr21_090.bed"
   ]
  },
  {
   "cell_type": "code",
   "execution_count": 50,
   "id": "85766ce8-b6ba-4cfb-96a1-e3db6589bd8a",
   "metadata": {},
   "outputs": [
    {
     "name": "stdout",
     "output_type": "stream",
     "text": [
      "-rw-r--r--. 1 kk319 root 1.9G Sep  6 11:29 /work/kk319/out/CombEffect_STARR/annotation_fragment/motif_annotation_chr21_095.bed\n"
     ]
    }
   ],
   "source": [
    "ls -lh ${FD_RES}/annotation_fragment/motif_annotation_chr21_095.bed"
   ]
  },
  {
   "cell_type": "code",
   "execution_count": null,
   "id": "3f58c96f-2c28-4bcb-a60e-b19eb5f8d436",
   "metadata": {},
   "outputs": [],
   "source": []
  }
 ],
 "metadata": {
  "kernelspec": {
   "display_name": "Bash",
   "language": "bash",
   "name": "bash"
  },
  "language_info": {
   "codemirror_mode": "shell",
   "file_extension": ".sh",
   "mimetype": "text/x-sh",
   "name": "bash"
  }
 },
 "nbformat": 4,
 "nbformat_minor": 5
}
