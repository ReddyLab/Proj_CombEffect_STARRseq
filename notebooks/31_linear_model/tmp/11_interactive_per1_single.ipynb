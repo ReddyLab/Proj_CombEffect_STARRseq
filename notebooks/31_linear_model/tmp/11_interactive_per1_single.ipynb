{
 "cells": [
  {
   "cell_type": "markdown",
   "id": "c98d85c9-5337-45d2-b9d2-70f75a55eca9",
   "metadata": {},
   "source": [
    "**Set Environment**"
   ]
  },
  {
   "cell_type": "code",
   "execution_count": 1,
   "id": "d81b0912-9098-4abe-acc9-0fe52f4057f3",
   "metadata": {},
   "outputs": [
    {
     "name": "stdout",
     "output_type": "stream",
     "text": [
      "You are on Duke Server: DCC\n",
      "BASE DIRECTORY:     /work/kk319 \n",
      "WORK DIRECTORY:     /work/kk319/out/CombEffect_STARR \n",
      "LOG  DIRECTORY:     /work/kk319/out/CombEffect_STARR/log \n",
      "PATH OF SOURCE:     /work/kk319/source \n",
      "PATH OF EXECUTABLE: /work/kk319/exe \n",
      "PATH OF ANNOTATION: /work/kk319/annotation \n"
     ]
    }
   ],
   "source": [
    "suppressMessages(suppressWarnings(source(\"config.R\")))"
   ]
  },
  {
   "cell_type": "code",
   "execution_count": 2,
   "id": "748332a4-a8bf-4791-b70a-37b8113b0df1",
   "metadata": {},
   "outputs": [
    {
     "data": {
      "text/html": [
       "<ol class=list-inline>\n",
       "\t<li>'/work/kk319/out/CombEffect_STARR/annotation_fragment/Input/NR_20/target_PER1.bed'</li>\n",
       "\t<li>'/work/kk319/out/CombEffect_STARR/annotation_fragment/Input1/NR_20/target_PER1.bed'</li>\n",
       "\t<li>'/work/kk319/out/CombEffect_STARR/annotation_fragment/Input2/NR_20/target_PER1.bed'</li>\n",
       "\t<li>'/work/kk319/out/CombEffect_STARR/annotation_fragment/Input3/NR_20/target_PER1.bed'</li>\n",
       "\t<li>'/work/kk319/out/CombEffect_STARR/annotation_fragment/Input4/NR_20/target_PER1.bed'</li>\n",
       "\t<li>'/work/kk319/out/CombEffect_STARR/annotation_fragment/Input5/NR_20/target_PER1.bed'</li>\n",
       "\t<li>'/work/kk319/out/CombEffect_STARR/annotation_fragment/TFX2_DMSO/NR_20/target_PER1.bed'</li>\n",
       "\t<li>'/work/kk319/out/CombEffect_STARR/annotation_fragment/TFX2_Dex/NR_20/target_PER1.bed'</li>\n",
       "\t<li>'/work/kk319/out/CombEffect_STARR/annotation_fragment/TFX3_DMSO/NR_20/target_PER1.bed'</li>\n",
       "\t<li>'/work/kk319/out/CombEffect_STARR/annotation_fragment/TFX3_Dex/NR_20/target_PER1.bed'</li>\n",
       "\t<li>'/work/kk319/out/CombEffect_STARR/annotation_fragment/TFX4_DMSO/NR_20/target_PER1.bed'</li>\n",
       "\t<li>'/work/kk319/out/CombEffect_STARR/annotation_fragment/TFX4_Dex/NR_20/target_PER1.bed'</li>\n",
       "\t<li>'/work/kk319/out/CombEffect_STARR/annotation_fragment/TFX5_DMSO/NR_20/target_PER1.bed'</li>\n",
       "\t<li>'/work/kk319/out/CombEffect_STARR/annotation_fragment/TFX5_Dex/NR_20/target_PER1.bed'</li>\n",
       "\t<li>'/work/kk319/out/CombEffect_STARR/annotation_fragment/TFX_DMSO/NR_20/target_PER1.bed'</li>\n",
       "\t<li>'/work/kk319/out/CombEffect_STARR/annotation_fragment/TFX_Dex/NR_20/target_PER1.bed'</li>\n",
       "</ol>\n"
      ],
      "text/latex": [
       "\\begin{enumerate*}\n",
       "\\item '/work/kk319/out/CombEffect\\_STARR/annotation\\_fragment/Input/NR\\_20/target\\_PER1.bed'\n",
       "\\item '/work/kk319/out/CombEffect\\_STARR/annotation\\_fragment/Input1/NR\\_20/target\\_PER1.bed'\n",
       "\\item '/work/kk319/out/CombEffect\\_STARR/annotation\\_fragment/Input2/NR\\_20/target\\_PER1.bed'\n",
       "\\item '/work/kk319/out/CombEffect\\_STARR/annotation\\_fragment/Input3/NR\\_20/target\\_PER1.bed'\n",
       "\\item '/work/kk319/out/CombEffect\\_STARR/annotation\\_fragment/Input4/NR\\_20/target\\_PER1.bed'\n",
       "\\item '/work/kk319/out/CombEffect\\_STARR/annotation\\_fragment/Input5/NR\\_20/target\\_PER1.bed'\n",
       "\\item '/work/kk319/out/CombEffect\\_STARR/annotation\\_fragment/TFX2\\_DMSO/NR\\_20/target\\_PER1.bed'\n",
       "\\item '/work/kk319/out/CombEffect\\_STARR/annotation\\_fragment/TFX2\\_Dex/NR\\_20/target\\_PER1.bed'\n",
       "\\item '/work/kk319/out/CombEffect\\_STARR/annotation\\_fragment/TFX3\\_DMSO/NR\\_20/target\\_PER1.bed'\n",
       "\\item '/work/kk319/out/CombEffect\\_STARR/annotation\\_fragment/TFX3\\_Dex/NR\\_20/target\\_PER1.bed'\n",
       "\\item '/work/kk319/out/CombEffect\\_STARR/annotation\\_fragment/TFX4\\_DMSO/NR\\_20/target\\_PER1.bed'\n",
       "\\item '/work/kk319/out/CombEffect\\_STARR/annotation\\_fragment/TFX4\\_Dex/NR\\_20/target\\_PER1.bed'\n",
       "\\item '/work/kk319/out/CombEffect\\_STARR/annotation\\_fragment/TFX5\\_DMSO/NR\\_20/target\\_PER1.bed'\n",
       "\\item '/work/kk319/out/CombEffect\\_STARR/annotation\\_fragment/TFX5\\_Dex/NR\\_20/target\\_PER1.bed'\n",
       "\\item '/work/kk319/out/CombEffect\\_STARR/annotation\\_fragment/TFX\\_DMSO/NR\\_20/target\\_PER1.bed'\n",
       "\\item '/work/kk319/out/CombEffect\\_STARR/annotation\\_fragment/TFX\\_Dex/NR\\_20/target\\_PER1.bed'\n",
       "\\end{enumerate*}\n"
      ],
      "text/markdown": [
       "1. '/work/kk319/out/CombEffect_STARR/annotation_fragment/Input/NR_20/target_PER1.bed'\n",
       "2. '/work/kk319/out/CombEffect_STARR/annotation_fragment/Input1/NR_20/target_PER1.bed'\n",
       "3. '/work/kk319/out/CombEffect_STARR/annotation_fragment/Input2/NR_20/target_PER1.bed'\n",
       "4. '/work/kk319/out/CombEffect_STARR/annotation_fragment/Input3/NR_20/target_PER1.bed'\n",
       "5. '/work/kk319/out/CombEffect_STARR/annotation_fragment/Input4/NR_20/target_PER1.bed'\n",
       "6. '/work/kk319/out/CombEffect_STARR/annotation_fragment/Input5/NR_20/target_PER1.bed'\n",
       "7. '/work/kk319/out/CombEffect_STARR/annotation_fragment/TFX2_DMSO/NR_20/target_PER1.bed'\n",
       "8. '/work/kk319/out/CombEffect_STARR/annotation_fragment/TFX2_Dex/NR_20/target_PER1.bed'\n",
       "9. '/work/kk319/out/CombEffect_STARR/annotation_fragment/TFX3_DMSO/NR_20/target_PER1.bed'\n",
       "10. '/work/kk319/out/CombEffect_STARR/annotation_fragment/TFX3_Dex/NR_20/target_PER1.bed'\n",
       "11. '/work/kk319/out/CombEffect_STARR/annotation_fragment/TFX4_DMSO/NR_20/target_PER1.bed'\n",
       "12. '/work/kk319/out/CombEffect_STARR/annotation_fragment/TFX4_Dex/NR_20/target_PER1.bed'\n",
       "13. '/work/kk319/out/CombEffect_STARR/annotation_fragment/TFX5_DMSO/NR_20/target_PER1.bed'\n",
       "14. '/work/kk319/out/CombEffect_STARR/annotation_fragment/TFX5_Dex/NR_20/target_PER1.bed'\n",
       "15. '/work/kk319/out/CombEffect_STARR/annotation_fragment/TFX_DMSO/NR_20/target_PER1.bed'\n",
       "16. '/work/kk319/out/CombEffect_STARR/annotation_fragment/TFX_Dex/NR_20/target_PER1.bed'\n",
       "\n",
       "\n"
      ],
      "text/plain": [
       " [1] \"/work/kk319/out/CombEffect_STARR/annotation_fragment/Input/NR_20/target_PER1.bed\"    \n",
       " [2] \"/work/kk319/out/CombEffect_STARR/annotation_fragment/Input1/NR_20/target_PER1.bed\"   \n",
       " [3] \"/work/kk319/out/CombEffect_STARR/annotation_fragment/Input2/NR_20/target_PER1.bed\"   \n",
       " [4] \"/work/kk319/out/CombEffect_STARR/annotation_fragment/Input3/NR_20/target_PER1.bed\"   \n",
       " [5] \"/work/kk319/out/CombEffect_STARR/annotation_fragment/Input4/NR_20/target_PER1.bed\"   \n",
       " [6] \"/work/kk319/out/CombEffect_STARR/annotation_fragment/Input5/NR_20/target_PER1.bed\"   \n",
       " [7] \"/work/kk319/out/CombEffect_STARR/annotation_fragment/TFX2_DMSO/NR_20/target_PER1.bed\"\n",
       " [8] \"/work/kk319/out/CombEffect_STARR/annotation_fragment/TFX2_Dex/NR_20/target_PER1.bed\" \n",
       " [9] \"/work/kk319/out/CombEffect_STARR/annotation_fragment/TFX3_DMSO/NR_20/target_PER1.bed\"\n",
       "[10] \"/work/kk319/out/CombEffect_STARR/annotation_fragment/TFX3_Dex/NR_20/target_PER1.bed\" \n",
       "[11] \"/work/kk319/out/CombEffect_STARR/annotation_fragment/TFX4_DMSO/NR_20/target_PER1.bed\"\n",
       "[12] \"/work/kk319/out/CombEffect_STARR/annotation_fragment/TFX4_Dex/NR_20/target_PER1.bed\" \n",
       "[13] \"/work/kk319/out/CombEffect_STARR/annotation_fragment/TFX5_DMSO/NR_20/target_PER1.bed\"\n",
       "[14] \"/work/kk319/out/CombEffect_STARR/annotation_fragment/TFX5_Dex/NR_20/target_PER1.bed\" \n",
       "[15] \"/work/kk319/out/CombEffect_STARR/annotation_fragment/TFX_DMSO/NR_20/target_PER1.bed\" \n",
       "[16] \"/work/kk319/out/CombEffect_STARR/annotation_fragment/TFX_Dex/NR_20/target_PER1.bed\"  "
      ]
     },
     "metadata": {},
     "output_type": "display_data"
    }
   ],
   "source": [
    "fdiry = file.path(FD_WRK, \"annotation_fragment\")\n",
    "motif = \"NR_20\"\n",
    "fname = \"target_PER1.bed\"\n",
    "fglob = file.path(fdiry, \"*\", motif, fname)\n",
    "Sys.glob(fglob)"
   ]
  },
  {
   "cell_type": "markdown",
   "id": "5d3232ef-62df-4359-9e72-73011c8e1e9b",
   "metadata": {},
   "source": [
    "## Import"
   ]
  },
  {
   "cell_type": "code",
   "execution_count": 3,
   "id": "ae658bc1-03d1-49cd-9b32-1beeac95af3e",
   "metadata": {},
   "outputs": [],
   "source": [
    "get_sample = function(idn_sample){\n",
    "    idn = idn_sample\n",
    "    idn = str_replace(\n",
    "        string = idn, \n",
    "        pattern = \"Input[0-9]\", \n",
    "        replacement = \"Input\")\n",
    "    idn = str_replace(\n",
    "        string = idn, \n",
    "        pattern = \"TFX[0-9]_\", \n",
    "        replacement=\"TFX_\")\n",
    "    return(idn)\n",
    "}"
   ]
  },
  {
   "cell_type": "code",
   "execution_count": 4,
   "id": "854f0e25-c1aa-41ed-8e0a-df5ba13d3d36",
   "metadata": {},
   "outputs": [
    {
     "data": {
      "text/html": [
       "<table>\n",
       "<thead><tr><th scope=col>Size</th><th scope=col>Sample</th><th scope=col>Group</th></tr></thead>\n",
       "<tbody>\n",
       "\t<tr><td>18666630       </td><td>Input1         </td><td>Input          </td></tr>\n",
       "\t<tr><td>20167924       </td><td>Input2         </td><td>Input          </td></tr>\n",
       "\t<tr><td>23280988       </td><td>Input3         </td><td>Input          </td></tr>\n",
       "\t<tr><td>19003938       </td><td>Input4         </td><td>Input          </td></tr>\n",
       "\t<tr><td>15325016       </td><td>Input5         </td><td>Input          </td></tr>\n",
       "\t<tr><td>48376253       </td><td>TFX2_AZD2906   </td><td>TFX_AZD2906    </td></tr>\n",
       "\t<tr><td>52542517       </td><td>TFX2_AZD9567   </td><td>TFX_AZD9567    </td></tr>\n",
       "\t<tr><td>43646484       </td><td>TFX2_CORT108297</td><td>TFX_CORT108297 </td></tr>\n",
       "\t<tr><td>41732268       </td><td>TFX2_CpdA      </td><td>TFX_CpdA       </td></tr>\n",
       "\t<tr><td>43844606       </td><td>TFX2_DMSO      </td><td>TFX_DMSO       </td></tr>\n",
       "</tbody>\n",
       "</table>\n"
      ],
      "text/latex": [
       "\\begin{tabular}{r|lll}\n",
       " Size & Sample & Group\\\\\n",
       "\\hline\n",
       "\t 18666630        & Input1          & Input          \\\\\n",
       "\t 20167924        & Input2          & Input          \\\\\n",
       "\t 23280988        & Input3          & Input          \\\\\n",
       "\t 19003938        & Input4          & Input          \\\\\n",
       "\t 15325016        & Input5          & Input          \\\\\n",
       "\t 48376253          & TFX2\\_AZD2906    & TFX\\_AZD2906    \\\\\n",
       "\t 52542517          & TFX2\\_AZD9567    & TFX\\_AZD9567    \\\\\n",
       "\t 43646484          & TFX2\\_CORT108297 & TFX\\_CORT108297 \\\\\n",
       "\t 41732268          & TFX2\\_CpdA       & TFX\\_CpdA       \\\\\n",
       "\t 43844606          & TFX2\\_DMSO       & TFX\\_DMSO       \\\\\n",
       "\\end{tabular}\n"
      ],
      "text/markdown": [
       "\n",
       "| Size | Sample | Group |\n",
       "|---|---|---|\n",
       "| 18666630        | Input1          | Input           |\n",
       "| 20167924        | Input2          | Input           |\n",
       "| 23280988        | Input3          | Input           |\n",
       "| 19003938        | Input4          | Input           |\n",
       "| 15325016        | Input5          | Input           |\n",
       "| 48376253        | TFX2_AZD2906    | TFX_AZD2906     |\n",
       "| 52542517        | TFX2_AZD9567    | TFX_AZD9567     |\n",
       "| 43646484        | TFX2_CORT108297 | TFX_CORT108297  |\n",
       "| 41732268        | TFX2_CpdA       | TFX_CpdA        |\n",
       "| 43844606        | TFX2_DMSO       | TFX_DMSO        |\n",
       "\n"
      ],
      "text/plain": [
       "   Size     Sample          Group         \n",
       "1  18666630 Input1          Input         \n",
       "2  20167924 Input2          Input         \n",
       "3  23280988 Input3          Input         \n",
       "4  19003938 Input4          Input         \n",
       "5  15325016 Input5          Input         \n",
       "6  48376253 TFX2_AZD2906    TFX_AZD2906   \n",
       "7  52542517 TFX2_AZD9567    TFX_AZD9567   \n",
       "8  43646484 TFX2_CORT108297 TFX_CORT108297\n",
       "9  41732268 TFX2_CpdA       TFX_CpdA      \n",
       "10 43844606 TFX2_DMSO       TFX_DMSO      "
      ]
     },
     "metadata": {},
     "output_type": "display_data"
    }
   ],
   "source": [
    "fdiry = file.path(FD_WRK, \"source\")\n",
    "fname = \"library_size.txt\"\n",
    "fpath = file.path(fdiry, fname)\n",
    "\n",
    "ctypes = c(col_integer(), col_character())\n",
    "cnames = c(\"Size\", \"Fpath\")\n",
    "dat_lib = read_tsv(fpath, col_types=ctypes, col_names = cnames)\n",
    "dat_lib = dat_lib %>% \n",
    "    mutate(Sample = tools::file_path_sans_ext(basename(Fpath))) %>%\n",
    "    mutate(Group = get_sample(Sample))\n",
    "dat_lib = dat_lib %>% dplyr::select(Size, Sample, Group)\n",
    "head(dat_lib, 10)"
   ]
  },
  {
   "cell_type": "markdown",
   "id": "92669c24-b015-4e49-8b91-fecda219df91",
   "metadata": {},
   "source": [
    "## Import"
   ]
  },
  {
   "cell_type": "code",
   "execution_count": 5,
   "id": "503d4af3-dd22-4913-9ebb-48b7811b4d05",
   "metadata": {},
   "outputs": [],
   "source": [
    "Samples=c(\n",
    "    paste0(\"Input\", 1:5),\n",
    "    paste0(\"TFX\",   2:5, \"_DMSO\"),\n",
    "    paste0(\"TFX\",   2:5, \"_Dex\")\n",
    ")"
   ]
  },
  {
   "cell_type": "code",
   "execution_count": 6,
   "id": "a7fbefe9-2b98-40b2-9668-c7a920077cf9",
   "metadata": {},
   "outputs": [],
   "source": [
    "fpaths = list.dirs(\"/work/kk319/out/CombEffect_STARR/annotation_fragment/Input1\")\n",
    "motifs = basename(fpaths)\n",
    "motifs = grep(pattern = paste(c(Samples, \"ipynb\"), collapse=\"|\"),\n",
    "     x       = motifs, \n",
    "     invert  = TRUE,\n",
    "     value   = TRUE)"
   ]
  },
  {
   "cell_type": "code",
   "execution_count": 42,
   "id": "c06fdb2f-b690-412b-93c8-c55678d2b1d5",
   "metadata": {},
   "outputs": [],
   "source": [
    "mtf1 = \"NR_20\"\n",
    "mtf2 = \"AP1_1\"\n",
    "motifs = c(mtf1, mtf2)"
   ]
  },
  {
   "cell_type": "code",
   "execution_count": 52,
   "id": "ae04ccc5-3cec-4281-9285-fb8cad603d26",
   "metadata": {},
   "outputs": [
    {
     "name": "stdout",
     "output_type": "stream",
     "text": [
      "[1] \"/work/kk319/out/CombEffect_STARR/annotation_fragment/Input1/NR_20/target_PER1.bed\"\n",
      "[1] \"/work/kk319/out/CombEffect_STARR/annotation_fragment/Input2/NR_20/target_PER1.bed\"\n",
      "[1] \"/work/kk319/out/CombEffect_STARR/annotation_fragment/Input3/NR_20/target_PER1.bed\"\n",
      "[1] \"/work/kk319/out/CombEffect_STARR/annotation_fragment/Input4/NR_20/target_PER1.bed\"\n",
      "[1] \"/work/kk319/out/CombEffect_STARR/annotation_fragment/Input5/NR_20/target_PER1.bed\"\n",
      "[1] \"/work/kk319/out/CombEffect_STARR/annotation_fragment/TFX2_DMSO/NR_20/target_PER1.bed\"\n",
      "[1] \"/work/kk319/out/CombEffect_STARR/annotation_fragment/TFX3_DMSO/NR_20/target_PER1.bed\"\n",
      "[1] \"/work/kk319/out/CombEffect_STARR/annotation_fragment/TFX4_DMSO/NR_20/target_PER1.bed\"\n",
      "[1] \"/work/kk319/out/CombEffect_STARR/annotation_fragment/TFX5_DMSO/NR_20/target_PER1.bed\"\n",
      "[1] \"/work/kk319/out/CombEffect_STARR/annotation_fragment/TFX2_Dex/NR_20/target_PER1.bed\"\n",
      "[1] \"/work/kk319/out/CombEffect_STARR/annotation_fragment/TFX3_Dex/NR_20/target_PER1.bed\"\n",
      "[1] \"/work/kk319/out/CombEffect_STARR/annotation_fragment/TFX4_Dex/NR_20/target_PER1.bed\"\n",
      "[1] \"/work/kk319/out/CombEffect_STARR/annotation_fragment/TFX5_Dex/NR_20/target_PER1.bed\"\n",
      "[1] \"++++++++++++++++++++++++++++++++++++++++++++++++++\"\n",
      "[1] \"/work/kk319/out/CombEffect_STARR/annotation_fragment/Input1/AP1_1/target_PER1.bed\"\n",
      "[1] \"/work/kk319/out/CombEffect_STARR/annotation_fragment/Input2/AP1_1/target_PER1.bed\"\n",
      "[1] \"/work/kk319/out/CombEffect_STARR/annotation_fragment/Input3/AP1_1/target_PER1.bed\"\n",
      "[1] \"/work/kk319/out/CombEffect_STARR/annotation_fragment/Input4/AP1_1/target_PER1.bed\"\n",
      "[1] \"/work/kk319/out/CombEffect_STARR/annotation_fragment/Input5/AP1_1/target_PER1.bed\"\n",
      "[1] \"/work/kk319/out/CombEffect_STARR/annotation_fragment/TFX2_DMSO/AP1_1/target_PER1.bed\"\n",
      "[1] \"/work/kk319/out/CombEffect_STARR/annotation_fragment/TFX3_DMSO/AP1_1/target_PER1.bed\"\n",
      "[1] \"/work/kk319/out/CombEffect_STARR/annotation_fragment/TFX4_DMSO/AP1_1/target_PER1.bed\"\n",
      "[1] \"/work/kk319/out/CombEffect_STARR/annotation_fragment/TFX5_DMSO/AP1_1/target_PER1.bed\"\n",
      "[1] \"/work/kk319/out/CombEffect_STARR/annotation_fragment/TFX2_Dex/AP1_1/target_PER1.bed\"\n",
      "[1] \"/work/kk319/out/CombEffect_STARR/annotation_fragment/TFX3_Dex/AP1_1/target_PER1.bed\"\n",
      "[1] \"/work/kk319/out/CombEffect_STARR/annotation_fragment/TFX4_Dex/AP1_1/target_PER1.bed\"\n",
      "[1] \"/work/kk319/out/CombEffect_STARR/annotation_fragment/TFX5_Dex/AP1_1/target_PER1.bed\"\n",
      "[1] \"++++++++++++++++++++++++++++++++++++++++++++++++++\"\n"
     ]
    }
   ],
   "source": [
    "ctypes = c(col_character(), col_integer(), col_integer(), col_integer(),\n",
    "           col_character(), col_integer(), col_integer(),\n",
    "           col_character(), col_double(),  col_integer())\n",
    "cnames = c(\"Chrom_Frag\", \"Start_Frag\", \"End_Frag\", \"Count_Frag\",\n",
    "           \"Chrom_MTF\",  \"Start_MTF\",  \"End_MTF\",\n",
    "           \"Motif\", \"Score\", \"Overlap\")\n",
    "fname = \"target_PER1.bed\"\n",
    "\n",
    "lst_dat = lapply(motifs, function(motif){\n",
    "    lst = lapply(Samples, function(sam){\n",
    "        ### get file\n",
    "        fdiry = file.path(FD_WRK, \"annotation_fragment\", sam, motif)\n",
    "        fpath = file.path(fdiry, fname)\n",
    "        print(fpath)\n",
    "        \n",
    "        ### import data\n",
    "        dat = read_tsv(fpath, col_types=ctypes, col_names=cnames)\n",
    "        dat$Sample = sam\n",
    "        return(dat)\n",
    "    })\n",
    "    print(\"++++++++++++++++++++++++++++++++++++++++++++++++++\")\n",
    "    dat = bind_rows(lst)\n",
    "    return(dat)\n",
    "})\n",
    "names(lst_dat) = motifs\n",
    "\n",
    "\n",
    "fun = function(dat){nrow(dat) != 0}\n",
    "lst_dat = Filter(fun, lst_dat)\n",
    "\n",
    "lst_dat = lapply(lst_dat, function(dat){\n",
    "    dat$Motif = str_replace_all(\n",
    "        string  = dat$Motif, \n",
    "        pattern = \"/\", \n",
    "        replacement = \"_\")\n",
    "    return(dat)\n",
    "})"
   ]
  },
  {
   "cell_type": "code",
   "execution_count": 54,
   "id": "51647b32-d81f-4a2f-8301-d606e591d999",
   "metadata": {},
   "outputs": [],
   "source": [
    "lst_frag = lapply(lst_dat, function(dat){\n",
    "    tmp = dat %>% \n",
    "        dplyr::select(Chrom_Frag, Start_Frag, End_Frag, Count_Frag, Motif, Sample) %>%\n",
    "        distinct()\n",
    "    return(tmp)\n",
    "})"
   ]
  },
  {
   "cell_type": "code",
   "execution_count": 59,
   "id": "6805d512-99e0-4e79-91c5-898c9f5ffa01",
   "metadata": {},
   "outputs": [],
   "source": [
    "dat1 = bind_rows(lst_frag) %>% \n",
    "    dplyr::select(Chrom_Frag, Start_Frag, End_Frag, Count_Frag, Sample) %>%\n",
    "    distinct\n",
    "\n",
    "dat2 = lst_frag[[\"NR_20\"]] %>% \n",
    "    dplyr::filter(Motif == \"NR_20\") %>% \n",
    "    dplyr::select(Chrom_Frag, Start_Frag, End_Frag, Count_Frag, Sample, Motif)\n",
    "\n",
    "dat3 = lst_frag[[\"AP1_1\"]] %>% \n",
    "    dplyr::filter(Motif == \"AP1_1\") %>% \n",
    "    dplyr::select(Chrom_Frag, Start_Frag, End_Frag, Count_Frag, Sample, Motif)"
   ]
  },
  {
   "cell_type": "code",
   "execution_count": 60,
   "id": "93a2d4da-6d17-4b1b-921d-d1d357eda7d5",
   "metadata": {},
   "outputs": [
    {
     "data": {
      "text/html": [
       "<table>\n",
       "<thead><tr><th scope=col>Chrom_Frag</th><th scope=col>Start_Frag</th><th scope=col>End_Frag</th><th scope=col>Count_Frag</th><th scope=col>Sample</th></tr></thead>\n",
       "<tbody>\n",
       "\t<tr><td>chr17  </td><td>8149351</td><td>8150361</td><td>1      </td><td>Input1 </td></tr>\n",
       "\t<tr><td>chr17  </td><td>8149418</td><td>8150427</td><td>1      </td><td>Input1 </td></tr>\n",
       "\t<tr><td>chr17  </td><td>8149468</td><td>8150589</td><td>1      </td><td>Input1 </td></tr>\n",
       "</tbody>\n",
       "</table>\n"
      ],
      "text/latex": [
       "\\begin{tabular}{r|lllll}\n",
       " Chrom\\_Frag & Start\\_Frag & End\\_Frag & Count\\_Frag & Sample\\\\\n",
       "\\hline\n",
       "\t chr17   & 8149351 & 8150361 & 1       & Input1 \\\\\n",
       "\t chr17   & 8149418 & 8150427 & 1       & Input1 \\\\\n",
       "\t chr17   & 8149468 & 8150589 & 1       & Input1 \\\\\n",
       "\\end{tabular}\n"
      ],
      "text/markdown": [
       "\n",
       "| Chrom_Frag | Start_Frag | End_Frag | Count_Frag | Sample |\n",
       "|---|---|---|---|---|\n",
       "| chr17   | 8149351 | 8150361 | 1       | Input1  |\n",
       "| chr17   | 8149418 | 8150427 | 1       | Input1  |\n",
       "| chr17   | 8149468 | 8150589 | 1       | Input1  |\n",
       "\n"
      ],
      "text/plain": [
       "  Chrom_Frag Start_Frag End_Frag Count_Frag Sample\n",
       "1 chr17      8149351    8150361  1          Input1\n",
       "2 chr17      8149418    8150427  1          Input1\n",
       "3 chr17      8149468    8150589  1          Input1"
      ]
     },
     "metadata": {},
     "output_type": "display_data"
    }
   ],
   "source": [
    "head(dat1, 3)"
   ]
  },
  {
   "cell_type": "code",
   "execution_count": 61,
   "id": "c6f12e2f-9152-4968-adac-56469a045866",
   "metadata": {},
   "outputs": [
    {
     "data": {
      "text/html": [
       "<table>\n",
       "<thead><tr><th scope=col>Chrom_Frag</th><th scope=col>Start_Frag</th><th scope=col>End_Frag</th><th scope=col>Count_Frag</th><th scope=col>Sample</th><th scope=col>Motif</th></tr></thead>\n",
       "<tbody>\n",
       "\t<tr><td>chr17  </td><td>8149351</td><td>8150361</td><td>1      </td><td>Input1 </td><td>NR_20  </td></tr>\n",
       "\t<tr><td>chr17  </td><td>8149418</td><td>8150427</td><td>1      </td><td>Input1 </td><td>NR_20  </td></tr>\n",
       "\t<tr><td>chr17  </td><td>8149468</td><td>8150589</td><td>1      </td><td>Input1 </td><td>NR_20  </td></tr>\n",
       "</tbody>\n",
       "</table>\n"
      ],
      "text/latex": [
       "\\begin{tabular}{r|llllll}\n",
       " Chrom\\_Frag & Start\\_Frag & End\\_Frag & Count\\_Frag & Sample & Motif\\\\\n",
       "\\hline\n",
       "\t chr17   & 8149351 & 8150361 & 1       & Input1  & NR\\_20\\\\\n",
       "\t chr17   & 8149418 & 8150427 & 1       & Input1  & NR\\_20\\\\\n",
       "\t chr17   & 8149468 & 8150589 & 1       & Input1  & NR\\_20\\\\\n",
       "\\end{tabular}\n"
      ],
      "text/markdown": [
       "\n",
       "| Chrom_Frag | Start_Frag | End_Frag | Count_Frag | Sample | Motif |\n",
       "|---|---|---|---|---|---|\n",
       "| chr17   | 8149351 | 8150361 | 1       | Input1  | NR_20   |\n",
       "| chr17   | 8149418 | 8150427 | 1       | Input1  | NR_20   |\n",
       "| chr17   | 8149468 | 8150589 | 1       | Input1  | NR_20   |\n",
       "\n"
      ],
      "text/plain": [
       "  Chrom_Frag Start_Frag End_Frag Count_Frag Sample Motif\n",
       "1 chr17      8149351    8150361  1          Input1 NR_20\n",
       "2 chr17      8149418    8150427  1          Input1 NR_20\n",
       "3 chr17      8149468    8150589  1          Input1 NR_20"
      ]
     },
     "metadata": {},
     "output_type": "display_data"
    }
   ],
   "source": [
    "head(dat2, 3)"
   ]
  },
  {
   "cell_type": "code",
   "execution_count": 62,
   "id": "b3b1840d-9252-459b-9846-2e18e8179b5c",
   "metadata": {},
   "outputs": [
    {
     "data": {
      "text/html": [
       "<table>\n",
       "<thead><tr><th scope=col>Chrom_Frag</th><th scope=col>Start_Frag</th><th scope=col>End_Frag</th><th scope=col>Count_Frag</th><th scope=col>Sample</th><th scope=col>Motif</th></tr></thead>\n",
       "<tbody>\n",
       "\t<tr><td>chr17  </td><td>8148117</td><td>8149012</td><td>1      </td><td>Input1 </td><td>AP1_1  </td></tr>\n",
       "\t<tr><td>chr17  </td><td>8148122</td><td>8149107</td><td>1      </td><td>Input1 </td><td>AP1_1  </td></tr>\n",
       "\t<tr><td>chr17  </td><td>8148178</td><td>8149194</td><td>1      </td><td>Input1 </td><td>AP1_1  </td></tr>\n",
       "</tbody>\n",
       "</table>\n"
      ],
      "text/latex": [
       "\\begin{tabular}{r|llllll}\n",
       " Chrom\\_Frag & Start\\_Frag & End\\_Frag & Count\\_Frag & Sample & Motif\\\\\n",
       "\\hline\n",
       "\t chr17   & 8148117 & 8149012 & 1       & Input1  & AP1\\_1\\\\\n",
       "\t chr17   & 8148122 & 8149107 & 1       & Input1  & AP1\\_1\\\\\n",
       "\t chr17   & 8148178 & 8149194 & 1       & Input1  & AP1\\_1\\\\\n",
       "\\end{tabular}\n"
      ],
      "text/markdown": [
       "\n",
       "| Chrom_Frag | Start_Frag | End_Frag | Count_Frag | Sample | Motif |\n",
       "|---|---|---|---|---|---|\n",
       "| chr17   | 8148117 | 8149012 | 1       | Input1  | AP1_1   |\n",
       "| chr17   | 8148122 | 8149107 | 1       | Input1  | AP1_1   |\n",
       "| chr17   | 8148178 | 8149194 | 1       | Input1  | AP1_1   |\n",
       "\n"
      ],
      "text/plain": [
       "  Chrom_Frag Start_Frag End_Frag Count_Frag Sample Motif\n",
       "1 chr17      8148117    8149012  1          Input1 AP1_1\n",
       "2 chr17      8148122    8149107  1          Input1 AP1_1\n",
       "3 chr17      8148178    8149194  1          Input1 AP1_1"
      ]
     },
     "metadata": {},
     "output_type": "display_data"
    }
   ],
   "source": [
    "head(dat3, 3)"
   ]
  },
  {
   "cell_type": "code",
   "execution_count": 63,
   "id": "8e5d3d12-de35-40e8-a806-3ef2387c62b8",
   "metadata": {},
   "outputs": [],
   "source": [
    "dat = dat1 %>%\n",
    "        full_join(dat2, by = c(\"Chrom_Frag\", \"Start_Frag\", \"End_Frag\", \"Count_Frag\", \"Sample\")) %>%\n",
    "        full_join(dat3, by = c(\"Chrom_Frag\", \"Start_Frag\", \"End_Frag\", \"Count_Frag\", \"Sample\")) %>%\n",
    "        mutate(Motif = paste(Motif.x, Motif.y, sep = \"_\")) %>%\n",
    "        mutate(Motif = str_remove(string=Motif, pattern=\"_NA|NA_\")) %>% \n",
    "        mutate(Group = str_remove(string = Sample, pattern = \"[0-9]\")) %>%\n",
    "        mutate(X     = paste(Group, Motif, sep=\"_\")) %>%\n",
    "        mutate(X     = ifelse(str_detect(X, \"Input\"), \"Input\", X))"
   ]
  },
  {
   "cell_type": "code",
   "execution_count": 66,
   "id": "2d46e7ac-4b4d-401a-9c11-b3f00bf1e5bf",
   "metadata": {},
   "outputs": [
    {
     "data": {
      "text/html": [
       "<table>\n",
       "<thead><tr><th scope=col>Chrom_Frag</th><th scope=col>Start_Frag</th><th scope=col>End_Frag</th><th scope=col>Count_Frag</th><th scope=col>Sample</th><th scope=col>Motif.x</th><th scope=col>Motif.y</th><th scope=col>Motif</th><th scope=col>Group</th><th scope=col>X</th></tr></thead>\n",
       "<tbody>\n",
       "\t<tr><td>chr17      </td><td>8149351    </td><td>8150361    </td><td>1          </td><td>Input1     </td><td>NR_20      </td><td>AP1_1      </td><td>NR_20_AP1_1</td><td>Input      </td><td>Input      </td></tr>\n",
       "\t<tr><td>chr17      </td><td>8149418    </td><td>8150427    </td><td>1          </td><td>Input1     </td><td>NR_20      </td><td>AP1_1      </td><td>NR_20_AP1_1</td><td>Input      </td><td>Input      </td></tr>\n",
       "\t<tr><td>chr17      </td><td>8149468    </td><td>8150589    </td><td>1          </td><td>Input1     </td><td>NR_20      </td><td>AP1_1      </td><td>NR_20_AP1_1</td><td>Input      </td><td>Input      </td></tr>\n",
       "</tbody>\n",
       "</table>\n"
      ],
      "text/latex": [
       "\\begin{tabular}{r|llllllllll}\n",
       " Chrom\\_Frag & Start\\_Frag & End\\_Frag & Count\\_Frag & Sample & Motif.x & Motif.y & Motif & Group & X\\\\\n",
       "\\hline\n",
       "\t chr17             & 8149351           & 8150361           & 1                 & Input1            & NR\\_20           & AP1\\_1           & NR\\_20\\_AP1\\_1 & Input             & Input            \\\\\n",
       "\t chr17             & 8149418           & 8150427           & 1                 & Input1            & NR\\_20           & AP1\\_1           & NR\\_20\\_AP1\\_1 & Input             & Input            \\\\\n",
       "\t chr17             & 8149468           & 8150589           & 1                 & Input1            & NR\\_20           & AP1\\_1           & NR\\_20\\_AP1\\_1 & Input             & Input            \\\\\n",
       "\\end{tabular}\n"
      ],
      "text/markdown": [
       "\n",
       "| Chrom_Frag | Start_Frag | End_Frag | Count_Frag | Sample | Motif.x | Motif.y | Motif | Group | X |\n",
       "|---|---|---|---|---|---|---|---|---|---|\n",
       "| chr17       | 8149351     | 8150361     | 1           | Input1      | NR_20       | AP1_1       | NR_20_AP1_1 | Input       | Input       |\n",
       "| chr17       | 8149418     | 8150427     | 1           | Input1      | NR_20       | AP1_1       | NR_20_AP1_1 | Input       | Input       |\n",
       "| chr17       | 8149468     | 8150589     | 1           | Input1      | NR_20       | AP1_1       | NR_20_AP1_1 | Input       | Input       |\n",
       "\n"
      ],
      "text/plain": [
       "  Chrom_Frag Start_Frag End_Frag Count_Frag Sample Motif.x Motif.y Motif      \n",
       "1 chr17      8149351    8150361  1          Input1 NR_20   AP1_1   NR_20_AP1_1\n",
       "2 chr17      8149418    8150427  1          Input1 NR_20   AP1_1   NR_20_AP1_1\n",
       "3 chr17      8149468    8150589  1          Input1 NR_20   AP1_1   NR_20_AP1_1\n",
       "  Group X    \n",
       "1 Input Input\n",
       "2 Input Input\n",
       "3 Input Input"
      ]
     },
     "metadata": {},
     "output_type": "display_data"
    }
   ],
   "source": [
    "head(dat,3)"
   ]
  },
  {
   "cell_type": "code",
   "execution_count": 67,
   "id": "368c9a13-241a-410b-a9bf-e9eb5b13f105",
   "metadata": {},
   "outputs": [
    {
     "data": {
      "text/html": [
       "<table>\n",
       "<thead><tr><th scope=col>Chrom_Frag</th><th scope=col>Start_Frag</th><th scope=col>End_Frag</th><th scope=col>Count_Frag</th><th scope=col>Sample</th><th scope=col>Motif.x</th><th scope=col>Motif.y</th><th scope=col>Motif</th><th scope=col>Group</th><th scope=col>X</th></tr></thead>\n",
       "<tbody>\n",
       "\t<tr><td>chr17        </td><td>8158178      </td><td>8159105      </td><td>1            </td><td>TFX5_Dex     </td><td>NA           </td><td>AP1_1        </td><td>AP1_1        </td><td>TFX_Dex      </td><td>TFX_Dex_AP1_1</td></tr>\n",
       "\t<tr><td>chr17        </td><td>8158179      </td><td>8159105      </td><td>1            </td><td>TFX5_Dex     </td><td>NA           </td><td>AP1_1        </td><td>AP1_1        </td><td>TFX_Dex      </td><td>TFX_Dex_AP1_1</td></tr>\n",
       "\t<tr><td>chr17        </td><td>8158224      </td><td>8159128      </td><td>1            </td><td>TFX5_Dex     </td><td>NA           </td><td>AP1_1        </td><td>AP1_1        </td><td>TFX_Dex      </td><td>TFX_Dex_AP1_1</td></tr>\n",
       "</tbody>\n",
       "</table>\n"
      ],
      "text/latex": [
       "\\begin{tabular}{r|llllllllll}\n",
       " Chrom\\_Frag & Start\\_Frag & End\\_Frag & Count\\_Frag & Sample & Motif.x & Motif.y & Motif & Group & X\\\\\n",
       "\\hline\n",
       "\t chr17               & 8158178             & 8159105             & 1                   & TFX5\\_Dex          & NA                  & AP1\\_1             & AP1\\_1             & TFX\\_Dex           & TFX\\_Dex\\_AP1\\_1\\\\\n",
       "\t chr17               & 8158179             & 8159105             & 1                   & TFX5\\_Dex          & NA                  & AP1\\_1             & AP1\\_1             & TFX\\_Dex           & TFX\\_Dex\\_AP1\\_1\\\\\n",
       "\t chr17               & 8158224             & 8159128             & 1                   & TFX5\\_Dex          & NA                  & AP1\\_1             & AP1\\_1             & TFX\\_Dex           & TFX\\_Dex\\_AP1\\_1\\\\\n",
       "\\end{tabular}\n"
      ],
      "text/markdown": [
       "\n",
       "| Chrom_Frag | Start_Frag | End_Frag | Count_Frag | Sample | Motif.x | Motif.y | Motif | Group | X |\n",
       "|---|---|---|---|---|---|---|---|---|---|\n",
       "| chr17         | 8158178       | 8159105       | 1             | TFX5_Dex      | NA            | AP1_1         | AP1_1         | TFX_Dex       | TFX_Dex_AP1_1 |\n",
       "| chr17         | 8158179       | 8159105       | 1             | TFX5_Dex      | NA            | AP1_1         | AP1_1         | TFX_Dex       | TFX_Dex_AP1_1 |\n",
       "| chr17         | 8158224       | 8159128       | 1             | TFX5_Dex      | NA            | AP1_1         | AP1_1         | TFX_Dex       | TFX_Dex_AP1_1 |\n",
       "\n"
      ],
      "text/plain": [
       "  Chrom_Frag Start_Frag End_Frag Count_Frag Sample   Motif.x Motif.y Motif\n",
       "1 chr17      8158178    8159105  1          TFX5_Dex NA      AP1_1   AP1_1\n",
       "2 chr17      8158179    8159105  1          TFX5_Dex NA      AP1_1   AP1_1\n",
       "3 chr17      8158224    8159128  1          TFX5_Dex NA      AP1_1   AP1_1\n",
       "  Group   X            \n",
       "1 TFX_Dex TFX_Dex_AP1_1\n",
       "2 TFX_Dex TFX_Dex_AP1_1\n",
       "3 TFX_Dex TFX_Dex_AP1_1"
      ]
     },
     "metadata": {},
     "output_type": "display_data"
    }
   ],
   "source": [
    "tail(dat,3)"
   ]
  },
  {
   "cell_type": "code",
   "execution_count": 68,
   "id": "968025ae-6712-48ee-9ca9-14307c7a7220",
   "metadata": {},
   "outputs": [],
   "source": [
    "tmp = dat %>% \n",
    "    group_by(Sample, X) %>% \n",
    "    summarise(Value = sum(Count_Frag), .groups = 'drop')\n",
    "tmp = tmp %>% left_join(dat_lib, by=\"Sample\")\n",
    "tmp = tmp %>%\n",
    "    mutate(Norm_Value    = Value / Size) %>% \n",
    "    mutate(Lognorm_Value = log10(Value) - log10(Size))\n",
    "\n",
    "idx11 = paste(\"TFX_DMSO\", mtf1,       sep=\"_\")\n",
    "idx12 = paste(\"TFX_DMSO\", mtf2,       sep=\"_\")\n",
    "idx13 = paste(\"TFX_DMSO\", mtf1, mtf2, sep=\"_\")\n",
    "idx21 = paste(\"TFX_Dex\",  mtf1,       sep=\"_\")\n",
    "idx22 = paste(\"TFX_Dex\",  mtf2,       sep=\"_\")\n",
    "idx23 = paste(\"TFX_Dex\",  mtf1, mtf2, sep=\"_\")\n",
    "idxs  = c(\"Input\", idx11, idx12, idx21, idx22, idx13, idx23)\n",
    "tmp$X = factor(tmp$X, levels=idxs)"
   ]
  },
  {
   "cell_type": "code",
   "execution_count": 69,
   "id": "4089a69a-5160-452f-9d9c-7857af2bf082",
   "metadata": {},
   "outputs": [
    {
     "name": "stdout",
     "output_type": "stream",
     "text": [
      "[1] 29  7\n"
     ]
    },
    {
     "data": {
      "text/html": [
       "<table>\n",
       "<thead><tr><th scope=col>Sample</th><th scope=col>X</th><th scope=col>Value</th><th scope=col>Size</th><th scope=col>Group</th><th scope=col>Norm_Value</th><th scope=col>Lognorm_Value</th></tr></thead>\n",
       "<tbody>\n",
       "\t<tr><td>Input1      </td><td>Input       </td><td>138         </td><td>18666630    </td><td>Input       </td><td>7.392872e-06</td><td>-5.131187   </td></tr>\n",
       "\t<tr><td>Input2      </td><td>Input       </td><td>144         </td><td>20167924    </td><td>Input       </td><td>7.140051e-06</td><td>-5.146299   </td></tr>\n",
       "\t<tr><td>Input3      </td><td>Input       </td><td>200         </td><td>23280988    </td><td>Input       </td><td>8.590701e-06</td><td>-5.065971   </td></tr>\n",
       "</tbody>\n",
       "</table>\n"
      ],
      "text/latex": [
       "\\begin{tabular}{r|lllllll}\n",
       " Sample & X & Value & Size & Group & Norm\\_Value & Lognorm\\_Value\\\\\n",
       "\\hline\n",
       "\t Input1       & Input        & 138          & 18666630     & Input        & 7.392872e-06 & -5.131187   \\\\\n",
       "\t Input2       & Input        & 144          & 20167924     & Input        & 7.140051e-06 & -5.146299   \\\\\n",
       "\t Input3       & Input        & 200          & 23280988     & Input        & 8.590701e-06 & -5.065971   \\\\\n",
       "\\end{tabular}\n"
      ],
      "text/markdown": [
       "\n",
       "| Sample | X | Value | Size | Group | Norm_Value | Lognorm_Value |\n",
       "|---|---|---|---|---|---|---|\n",
       "| Input1       | Input        | 138          | 18666630     | Input        | 7.392872e-06 | -5.131187    |\n",
       "| Input2       | Input        | 144          | 20167924     | Input        | 7.140051e-06 | -5.146299    |\n",
       "| Input3       | Input        | 200          | 23280988     | Input        | 8.590701e-06 | -5.065971    |\n",
       "\n"
      ],
      "text/plain": [
       "  Sample X     Value Size     Group Norm_Value   Lognorm_Value\n",
       "1 Input1 Input 138   18666630 Input 7.392872e-06 -5.131187    \n",
       "2 Input2 Input 144   20167924 Input 7.140051e-06 -5.146299    \n",
       "3 Input3 Input 200   23280988 Input 8.590701e-06 -5.065971    "
      ]
     },
     "metadata": {},
     "output_type": "display_data"
    }
   ],
   "source": [
    "print(dim(tmp))\n",
    "head(tmp, 3)"
   ]
  },
  {
   "cell_type": "code",
   "execution_count": 70,
   "id": "5d9424a5-1372-4f13-82e0-467c47a21393",
   "metadata": {},
   "outputs": [
    {
     "name": "stdout",
     "output_type": "stream",
     "text": [
      "[1] 29  7\n"
     ]
    }
   ],
   "source": [
    "X = model.matrix(~X, tmp)\n",
    "print(dim(X))"
   ]
  },
  {
   "cell_type": "code",
   "execution_count": 71,
   "id": "c7b0e21f-8b5d-4204-8c7b-a097db66bf97",
   "metadata": {},
   "outputs": [],
   "source": [
    "idx11 = paste(\"XTFX_DMSO\", mtf1,       sep=\"_\")\n",
    "idx12 = paste(\"XTFX_DMSO\", mtf2,       sep=\"_\")\n",
    "idx13 = paste(\"XTFX_DMSO\", mtf1, mtf2, sep=\"_\")\n",
    "idx21 = paste(\"XTFX_Dex\",  mtf1,       sep=\"_\")\n",
    "idx22 = paste(\"XTFX_Dex\",  mtf2,       sep=\"_\")\n",
    "idx23 = paste(\"XTFX_Dex\",  mtf1, mtf2, sep=\"_\")\n",
    "\n",
    "X = model.matrix(~X, tmp)\n",
    "X[,idx11] = X[,idx11] + X[,idx13] + X[,idx21] + X[,idx23]\n",
    "X[,idx12] = X[,idx12] + X[,idx13] + X[,idx22] + X[,idx23]\n",
    "X[,idx21] = X[,idx21] + X[,idx23]\n",
    "X[,idx22] = X[,idx22] + X[,idx23]\n",
    "X[,idx13] = X[,idx13] + X[,idx23]"
   ]
  },
  {
   "cell_type": "code",
   "execution_count": 76,
   "id": "34bdd5c5-1ea2-4c34-a444-7c1c0b6e5db7",
   "metadata": {},
   "outputs": [
    {
     "data": {
      "text/html": [
       "<table>\n",
       "<thead><tr><th></th><th scope=col>(Intercept)</th><th scope=col>XTFX_DMSO_NR_20</th><th scope=col>XTFX_DMSO_AP1_1</th><th scope=col>XTFX_Dex_NR_20</th><th scope=col>XTFX_Dex_AP1_1</th><th scope=col>XTFX_DMSO_NR_20_AP1_1</th><th scope=col>XTFX_Dex_NR_20_AP1_1</th><th scope=col>V8</th></tr></thead>\n",
       "<tbody>\n",
       "\t<tr><th scope=row>1</th><td>1                   </td><td>0                   </td><td>0                   </td><td>0                   </td><td>0                   </td><td>0                   </td><td>0                   </td><td>Input               </td></tr>\n",
       "\t<tr><th scope=row>6</th><td>1                   </td><td>0                   </td><td>1                   </td><td>0                   </td><td>1                   </td><td>0                   </td><td>0                   </td><td>TFX_Dex_AP1_1       </td></tr>\n",
       "\t<tr><th scope=row>7</th><td>1                   </td><td>1                   </td><td>0                   </td><td>1                   </td><td>0                   </td><td>0                   </td><td>0                   </td><td>TFX_Dex_NR_20       </td></tr>\n",
       "\t<tr><th scope=row>8</th><td>1                   </td><td>1                   </td><td>1                   </td><td>1                   </td><td>1                   </td><td>1                   </td><td>1                   </td><td>TFX_Dex_NR_20_AP1_1 </td></tr>\n",
       "\t<tr><th scope=row>9</th><td>1                   </td><td>0                   </td><td>1                   </td><td>0                   </td><td>0                   </td><td>0                   </td><td>0                   </td><td>TFX_DMSO_AP1_1      </td></tr>\n",
       "\t<tr><th scope=row>10</th><td>1                   </td><td>1                   </td><td>0                   </td><td>0                   </td><td>0                   </td><td>0                   </td><td>0                   </td><td>TFX_DMSO_NR_20      </td></tr>\n",
       "\t<tr><th scope=row>11</th><td>1                   </td><td>1                   </td><td>1                   </td><td>0                   </td><td>0                   </td><td>1                   </td><td>0                   </td><td>TFX_DMSO_NR_20_AP1_1</td></tr>\n",
       "</tbody>\n",
       "</table>\n"
      ],
      "text/latex": [
       "\\begin{tabular}{r|llllllll}\n",
       "  & (Intercept) & XTFX\\_DMSO\\_NR\\_20 & XTFX\\_DMSO\\_AP1\\_1 & XTFX\\_Dex\\_NR\\_20 & XTFX\\_Dex\\_AP1\\_1 & XTFX\\_DMSO\\_NR\\_20\\_AP1\\_1 & XTFX\\_Dex\\_NR\\_20\\_AP1\\_1 & V8\\\\\n",
       "\\hline\n",
       "\t1 & 1                    & 0                    & 0                    & 0                    & 0                    & 0                    & 0                    & Input               \\\\\n",
       "\t6 & 1                          & 0                          & 1                          & 0                          & 1                          & 0                          & 0                          & TFX\\_Dex\\_AP1\\_1       \\\\\n",
       "\t7 & 1                          & 1                          & 0                          & 1                          & 0                          & 0                          & 0                          & TFX\\_Dex\\_NR\\_20       \\\\\n",
       "\t8 & 1                              & 1                              & 1                              & 1                              & 1                              & 1                              & 1                              & TFX\\_Dex\\_NR\\_20\\_AP1\\_1 \\\\\n",
       "\t9 & 1                          & 0                          & 1                          & 0                          & 0                          & 0                          & 0                          & TFX\\_DMSO\\_AP1\\_1      \\\\\n",
       "\t10 & 1                          & 1                          & 0                          & 0                          & 0                          & 0                          & 0                          & TFX\\_DMSO\\_NR\\_20      \\\\\n",
       "\t11 & 1                              & 1                              & 1                              & 0                              & 0                              & 1                              & 0                              & TFX\\_DMSO\\_NR\\_20\\_AP1\\_1\\\\\n",
       "\\end{tabular}\n"
      ],
      "text/markdown": [
       "\n",
       "| <!--/--> | (Intercept) | XTFX_DMSO_NR_20 | XTFX_DMSO_AP1_1 | XTFX_Dex_NR_20 | XTFX_Dex_AP1_1 | XTFX_DMSO_NR_20_AP1_1 | XTFX_Dex_NR_20_AP1_1 | V8 |\n",
       "|---|---|---|---|---|---|---|---|---|\n",
       "| 1 | 1                    | 0                    | 0                    | 0                    | 0                    | 0                    | 0                    | Input                |\n",
       "| 6 | 1                    | 0                    | 1                    | 0                    | 1                    | 0                    | 0                    | TFX_Dex_AP1_1        |\n",
       "| 7 | 1                    | 1                    | 0                    | 1                    | 0                    | 0                    | 0                    | TFX_Dex_NR_20        |\n",
       "| 8 | 1                    | 1                    | 1                    | 1                    | 1                    | 1                    | 1                    | TFX_Dex_NR_20_AP1_1  |\n",
       "| 9 | 1                    | 0                    | 1                    | 0                    | 0                    | 0                    | 0                    | TFX_DMSO_AP1_1       |\n",
       "| 10 | 1                    | 1                    | 0                    | 0                    | 0                    | 0                    | 0                    | TFX_DMSO_NR_20       |\n",
       "| 11 | 1                    | 1                    | 1                    | 0                    | 0                    | 1                    | 0                    | TFX_DMSO_NR_20_AP1_1 |\n",
       "\n"
      ],
      "text/plain": [
       "   (Intercept) XTFX_DMSO_NR_20 XTFX_DMSO_AP1_1 XTFX_Dex_NR_20 XTFX_Dex_AP1_1\n",
       "1  1           0               0               0              0             \n",
       "6  1           0               1               0              1             \n",
       "7  1           1               0               1              0             \n",
       "8  1           1               1               1              1             \n",
       "9  1           0               1               0              0             \n",
       "10 1           1               0               0              0             \n",
       "11 1           1               1               0              0             \n",
       "   XTFX_DMSO_NR_20_AP1_1 XTFX_Dex_NR_20_AP1_1 V8                  \n",
       "1  0                     0                    Input               \n",
       "6  0                     0                    TFX_Dex_AP1_1       \n",
       "7  0                     0                    TFX_Dex_NR_20       \n",
       "8  1                     1                    TFX_Dex_NR_20_AP1_1 \n",
       "9  0                     0                    TFX_DMSO_AP1_1      \n",
       "10 0                     0                    TFX_DMSO_NR_20      \n",
       "11 1                     0                    TFX_DMSO_NR_20_AP1_1"
      ]
     },
     "metadata": {},
     "output_type": "display_data"
    }
   ],
   "source": [
    "cbind(X, as.character(tmp$X)) %>% as.data.frame %>% distinct"
   ]
  },
  {
   "cell_type": "code",
   "execution_count": 79,
   "id": "15128822-a335-4802-b1b6-0ebcc301f5b3",
   "metadata": {},
   "outputs": [
    {
     "name": "stdout",
     "output_type": "stream",
     "text": [
      "\n",
      "Call:\n",
      "lm(formula = y ~ X + 0)\n",
      "\n",
      "Residuals:\n",
      "       Min         1Q     Median         3Q        Max \n",
      "-3.019e-06 -7.286e-07 -6.300e-08  4.118e-07  5.841e-06 \n",
      "\n",
      "Coefficients:\n",
      "                         Estimate Std. Error t value Pr(>|t|)    \n",
      "X(Intercept)            7.290e-06  8.841e-07   8.246 3.56e-08 ***\n",
      "XXTFX_DMSO_NR_20       -9.442e-08  1.326e-06  -0.071   0.9439    \n",
      "XXTFX_DMSO_AP1_1       -2.871e-06  1.326e-06  -2.165   0.0415 *  \n",
      "XXTFX_Dex_NR_20         2.381e-05  1.398e-06  17.032 3.71e-14 ***\n",
      "XXTFX_Dex_AP1_1        -1.073e-06  1.398e-06  -0.767   0.4510    \n",
      "XXTFX_DMSO_NR_20_AP1_1  5.069e-07  1.927e-06   0.263   0.7949    \n",
      "XXTFX_Dex_NR_20_AP1_1  -6.264e-06  2.421e-06  -2.587   0.0168 *  \n",
      "---\n",
      "Signif. codes:  0 ‘***’ 0.001 ‘**’ 0.01 ‘*’ 0.05 ‘.’ 0.1 ‘ ’ 1\n",
      "\n",
      "Residual standard error: 1.977e-06 on 22 degrees of freedom\n",
      "Multiple R-squared:  0.9866,\tAdjusted R-squared:  0.9824 \n",
      "F-statistic: 232.1 on 7 and 22 DF,  p-value: < 2.2e-16\n",
      "\n"
     ]
    }
   ],
   "source": [
    "y = tmp$Norm_Value\n",
    "fit = lm(y ~ X + 0)\n",
    "res = summary(fit)\n",
    "print(res)"
   ]
  },
  {
   "cell_type": "code",
   "execution_count": null,
   "id": "38db9710-ca17-40dd-af7f-f861b402df39",
   "metadata": {},
   "outputs": [],
   "source": []
  }
 ],
 "metadata": {
  "kernelspec": {
   "display_name": "R (alex_py3)",
   "language": "R",
   "name": "ir_alex_py3"
  },
  "language_info": {
   "codemirror_mode": "r",
   "file_extension": ".r",
   "mimetype": "text/x-r-source",
   "name": "R",
   "pygments_lexer": "r",
   "version": "3.6.2"
  }
 },
 "nbformat": 4,
 "nbformat_minor": 5
}
