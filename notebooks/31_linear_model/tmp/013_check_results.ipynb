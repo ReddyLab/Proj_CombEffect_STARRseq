{
 "cells": [
  {
   "cell_type": "markdown",
   "metadata": {},
   "source": [
    "**Set environment**"
   ]
  },
  {
   "cell_type": "code",
   "execution_count": 11,
   "metadata": {},
   "outputs": [
    {
     "name": "stdout",
     "output_type": "stream",
     "text": [
      "[1] \"/home/mount/work\"\n",
      "[1] \"/home/mount/work/out/proj_combeffect\"\n"
     ]
    }
   ],
   "source": [
    "suppressMessages(suppressWarnings(source(\"config_sing.R\")))\n",
    "print(FD_WORK)\n",
    "print(FD_RES)"
   ]
  },
  {
   "cell_type": "code",
   "execution_count": 12,
   "metadata": {},
   "outputs": [
    {
     "data": {
      "text/html": [
       "<style>\n",
       ".list-inline {list-style: none; margin:0; padding: 0}\n",
       ".list-inline>li {display: inline-block}\n",
       ".list-inline>li:not(:last-child)::after {content: \"\\00b7\"; padding: 0 .5ex}\n",
       "</style>\n",
       "<ol class=list-inline><li>'AHR.RDS'</li><li>'AIRE.RDS'</li><li>'AP1_1.RDS'</li><li>'AP1_2.RDS'</li></ol>\n"
      ],
      "text/latex": [
       "\\begin{enumerate*}\n",
       "\\item 'AHR.RDS'\n",
       "\\item 'AIRE.RDS'\n",
       "\\item 'AP1\\_1.RDS'\n",
       "\\item 'AP1\\_2.RDS'\n",
       "\\end{enumerate*}\n"
      ],
      "text/markdown": [
       "1. 'AHR.RDS'\n",
       "2. 'AIRE.RDS'\n",
       "3. 'AP1_1.RDS'\n",
       "4. 'AP1_2.RDS'\n",
       "\n",
       "\n"
      ],
      "text/plain": [
       "[1] \"AHR.RDS\"   \"AIRE.RDS\"  \"AP1_1.RDS\" \"AP1_2.RDS\""
      ]
     },
     "metadata": {},
     "output_type": "display_data"
    }
   ],
   "source": [
    "fdiry = file.path(FD_RES, \"model_linear\", \"test_marginal_split_input20x\", \"target_PER1\")\n",
    "dir(fdiry)"
   ]
  },
  {
   "cell_type": "code",
   "execution_count": 13,
   "metadata": {},
   "outputs": [
    {
     "data": {
      "text/html": [
       "<style>\n",
       ".list-inline {list-style: none; margin:0; padding: 0}\n",
       ".list-inline>li {display: inline-block}\n",
       ".list-inline>li:not(:last-child)::after {content: \"\\00b7\"; padding: 0 .5ex}\n",
       "</style>\n",
       "<ol class=list-inline><li>'AHR.RDS'</li><li>'AIRE.RDS'</li><li>'AP1_1.RDS'</li><li>'AP1_2.RDS'</li><li>'BATF.RDS'</li></ol>\n"
      ],
      "text/latex": [
       "\\begin{enumerate*}\n",
       "\\item 'AHR.RDS'\n",
       "\\item 'AIRE.RDS'\n",
       "\\item 'AP1\\_1.RDS'\n",
       "\\item 'AP1\\_2.RDS'\n",
       "\\item 'BATF.RDS'\n",
       "\\end{enumerate*}\n"
      ],
      "text/markdown": [
       "1. 'AHR.RDS'\n",
       "2. 'AIRE.RDS'\n",
       "3. 'AP1_1.RDS'\n",
       "4. 'AP1_2.RDS'\n",
       "5. 'BATF.RDS'\n",
       "\n",
       "\n"
      ],
      "text/plain": [
       "[1] \"AHR.RDS\"   \"AIRE.RDS\"  \"AP1_1.RDS\" \"AP1_2.RDS\" \"BATF.RDS\" "
      ]
     },
     "metadata": {},
     "output_type": "display_data"
    }
   ],
   "source": [
    "fdiry = file.path(FD_RES, \"model_linear\", \"test_marginal_pool_input20x\", \"target_PER1\")\n",
    "dir(fdiry)"
   ]
  },
  {
   "cell_type": "code",
   "execution_count": 14,
   "metadata": {},
   "outputs": [],
   "source": [
    "fdiry = file.path(FD_RES, \"model_linear\", \"test_marginal_pool_input20x\", \"target_PER1\")\n",
    "fnames = dir(fdiry)\n",
    "lst_dat_pool = lapply(fnames, function(fname){\n",
    "    fpath = file.path(fdiry, fname)\n",
    "    lst = readRDS(fpath)\n",
    "    return(lst)\n",
    "})"
   ]
  },
  {
   "cell_type": "code",
   "execution_count": 15,
   "metadata": {},
   "outputs": [],
   "source": [
    "fdiry = file.path(FD_RES, \"model_linear\", \"test_marginal_split_input20x\", \"target_PER1\")\n",
    "fnames = dir(fdiry)\n",
    "lst_dat_split = lapply(fnames, function(fname){\n",
    "    fpath = file.path(fdiry, fname)\n",
    "    lst = readRDS(fpath)\n",
    "    return(lst)\n",
    "})"
   ]
  },
  {
   "cell_type": "code",
   "execution_count": 16,
   "metadata": {},
   "outputs": [
    {
     "data": {
      "text/plain": [
       "\n",
       "Call:\n",
       "lm(formula = y ~ X + 0)\n",
       "\n",
       "Coefficients:\n",
       "X(Intercept)    XXTFX_DMSO     XXTFX_Dex  \n",
       "   3.541e-06     7.254e-06     6.594e-06  \n"
      ]
     },
     "metadata": {},
     "output_type": "display_data"
    }
   ],
   "source": [
    "lst_dat_pool[[1]]$fit"
   ]
  },
  {
   "cell_type": "code",
   "execution_count": 17,
   "metadata": {},
   "outputs": [
    {
     "data": {
      "text/plain": [
       "\n",
       "Call:\n",
       "lm(formula = y ~ X + 0)\n",
       "\n",
       "Coefficients:\n",
       "X(Intercept)    XXTFX_DMSO     XXTFX_Dex  \n",
       "   3.541e-06     7.254e-06     6.594e-06  \n"
      ]
     },
     "metadata": {},
     "output_type": "display_data"
    }
   ],
   "source": [
    "lst_dat_split[[1]]$fit"
   ]
  },
  {
   "cell_type": "code",
   "execution_count": 18,
   "metadata": {},
   "outputs": [
    {
     "data": {
      "text/plain": [
       "\n",
       "Call:\n",
       "lm(formula = y ~ X + 0)\n",
       "\n",
       "Coefficients:\n",
       "X(Intercept)    XXTFX_DMSO     XXTFX_Dex  \n",
       "   7.808e-07    -5.480e-07    -9.053e-08  \n"
      ]
     },
     "metadata": {},
     "output_type": "display_data"
    }
   ],
   "source": [
    "lst_dat_pool[[2]]$fit"
   ]
  },
  {
   "cell_type": "code",
   "execution_count": 19,
   "metadata": {},
   "outputs": [
    {
     "data": {
      "text/plain": [
       "\n",
       "Call:\n",
       "lm(formula = y ~ X + 0)\n",
       "\n",
       "Coefficients:\n",
       "X(Intercept)    XXTFX_DMSO     XXTFX_Dex  \n",
       "   7.808e-07    -5.480e-07    -9.053e-08  \n"
      ]
     },
     "metadata": {},
     "output_type": "display_data"
    }
   ],
   "source": [
    "lst_dat_split[[2]]$fit"
   ]
  },
  {
   "cell_type": "code",
   "execution_count": null,
   "metadata": {},
   "outputs": [],
   "source": []
  }
 ],
 "metadata": {
  "kernelspec": {
   "display_name": "R (alex_py3)",
   "language": "R",
   "name": "ir_alex_py3"
  },
  "language_info": {
   "codemirror_mode": "r",
   "file_extension": ".r",
   "mimetype": "text/x-r-source",
   "name": "R",
   "pygments_lexer": "r",
   "version": "3.6.2"
  }
 },
 "nbformat": 4,
 "nbformat_minor": 4
}
