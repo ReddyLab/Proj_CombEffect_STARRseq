{
 "cells": [
  {
   "cell_type": "code",
   "execution_count": 49,
   "metadata": {},
   "outputs": [
    {
     "data": {
      "text/plain": [
       "169 MB"
      ]
     },
     "metadata": {},
     "output_type": "display_data"
    }
   ],
   "source": [
    "mem_used()"
   ]
  },
  {
   "cell_type": "markdown",
   "metadata": {},
   "source": [
    "# Motif interactive effect in the chromosome Y"
   ]
  },
  {
   "cell_type": "markdown",
   "metadata": {},
   "source": [
    "**Set environment**"
   ]
  },
  {
   "cell_type": "code",
   "execution_count": 2,
   "metadata": {},
   "outputs": [
    {
     "name": "stdout",
     "output_type": "stream",
     "text": [
      "[1] \"/home/mount/work\"\n",
      "[1] \"/home/mount/work/out/proj_combeffect\"\n"
     ]
    }
   ],
   "source": [
    "suppressMessages(suppressWarnings(source(\"config_sing.R\")))\n",
    "print(FD_WORK)\n",
    "print(FD_RES)"
   ]
  },
  {
   "cell_type": "markdown",
   "metadata": {},
   "source": [
    "**Check input file**"
   ]
  },
  {
   "cell_type": "code",
   "execution_count": 3,
   "metadata": {},
   "outputs": [
    {
     "data": {
      "text/html": [
       "<style>\n",
       ".list-inline {list-style: none; margin:0; padding: 0}\n",
       ".list-inline>li {display: inline-block}\n",
       ".list-inline>li:not(:last-child)::after {content: \"\\00b7\"; padding: 0 .5ex}\n",
       "</style>\n",
       "<ol class=list-inline><li>'/home/mount/work/out/proj_combeffect/annotation_fragment/filter_motif_score095/Input1_20x/chrY.bed.gz'</li><li>'/home/mount/work/out/proj_combeffect/annotation_fragment/filter_motif_score095/Input1/chrY.bed.gz'</li><li>'/home/mount/work/out/proj_combeffect/annotation_fragment/filter_motif_score095/Input2_20x/chrY.bed.gz'</li><li>'/home/mount/work/out/proj_combeffect/annotation_fragment/filter_motif_score095/Input2/chrY.bed.gz'</li><li>'/home/mount/work/out/proj_combeffect/annotation_fragment/filter_motif_score095/Input3_20x/chrY.bed.gz'</li><li>'/home/mount/work/out/proj_combeffect/annotation_fragment/filter_motif_score095/Input3/chrY.bed.gz'</li><li>'/home/mount/work/out/proj_combeffect/annotation_fragment/filter_motif_score095/Input4_20x/chrY.bed.gz'</li><li>'/home/mount/work/out/proj_combeffect/annotation_fragment/filter_motif_score095/Input4/chrY.bed.gz'</li><li>'/home/mount/work/out/proj_combeffect/annotation_fragment/filter_motif_score095/Input5_20x/chrY.bed.gz'</li><li>'/home/mount/work/out/proj_combeffect/annotation_fragment/filter_motif_score095/Input5/chrY.bed.gz'</li><li>'/home/mount/work/out/proj_combeffect/annotation_fragment/filter_motif_score095/TFX2_Dex/chrY.bed.gz'</li><li>'/home/mount/work/out/proj_combeffect/annotation_fragment/filter_motif_score095/TFX2_DMSO/chrY.bed.gz'</li><li>'/home/mount/work/out/proj_combeffect/annotation_fragment/filter_motif_score095/TFX3_Dex/chrY.bed.gz'</li><li>'/home/mount/work/out/proj_combeffect/annotation_fragment/filter_motif_score095/TFX3_DMSO/chrY.bed.gz'</li><li>'/home/mount/work/out/proj_combeffect/annotation_fragment/filter_motif_score095/TFX4_Dex/chrY.bed.gz'</li><li>'/home/mount/work/out/proj_combeffect/annotation_fragment/filter_motif_score095/TFX4_DMSO/chrY.bed.gz'</li><li>'/home/mount/work/out/proj_combeffect/annotation_fragment/filter_motif_score095/TFX5_Dex/chrY.bed.gz'</li><li>'/home/mount/work/out/proj_combeffect/annotation_fragment/filter_motif_score095/TFX5_DMSO/chrY.bed.gz'</li></ol>\n"
      ],
      "text/latex": [
       "\\begin{enumerate*}\n",
       "\\item '/home/mount/work/out/proj\\_combeffect/annotation\\_fragment/filter\\_motif\\_score095/Input1\\_20x/chrY.bed.gz'\n",
       "\\item '/home/mount/work/out/proj\\_combeffect/annotation\\_fragment/filter\\_motif\\_score095/Input1/chrY.bed.gz'\n",
       "\\item '/home/mount/work/out/proj\\_combeffect/annotation\\_fragment/filter\\_motif\\_score095/Input2\\_20x/chrY.bed.gz'\n",
       "\\item '/home/mount/work/out/proj\\_combeffect/annotation\\_fragment/filter\\_motif\\_score095/Input2/chrY.bed.gz'\n",
       "\\item '/home/mount/work/out/proj\\_combeffect/annotation\\_fragment/filter\\_motif\\_score095/Input3\\_20x/chrY.bed.gz'\n",
       "\\item '/home/mount/work/out/proj\\_combeffect/annotation\\_fragment/filter\\_motif\\_score095/Input3/chrY.bed.gz'\n",
       "\\item '/home/mount/work/out/proj\\_combeffect/annotation\\_fragment/filter\\_motif\\_score095/Input4\\_20x/chrY.bed.gz'\n",
       "\\item '/home/mount/work/out/proj\\_combeffect/annotation\\_fragment/filter\\_motif\\_score095/Input4/chrY.bed.gz'\n",
       "\\item '/home/mount/work/out/proj\\_combeffect/annotation\\_fragment/filter\\_motif\\_score095/Input5\\_20x/chrY.bed.gz'\n",
       "\\item '/home/mount/work/out/proj\\_combeffect/annotation\\_fragment/filter\\_motif\\_score095/Input5/chrY.bed.gz'\n",
       "\\item '/home/mount/work/out/proj\\_combeffect/annotation\\_fragment/filter\\_motif\\_score095/TFX2\\_Dex/chrY.bed.gz'\n",
       "\\item '/home/mount/work/out/proj\\_combeffect/annotation\\_fragment/filter\\_motif\\_score095/TFX2\\_DMSO/chrY.bed.gz'\n",
       "\\item '/home/mount/work/out/proj\\_combeffect/annotation\\_fragment/filter\\_motif\\_score095/TFX3\\_Dex/chrY.bed.gz'\n",
       "\\item '/home/mount/work/out/proj\\_combeffect/annotation\\_fragment/filter\\_motif\\_score095/TFX3\\_DMSO/chrY.bed.gz'\n",
       "\\item '/home/mount/work/out/proj\\_combeffect/annotation\\_fragment/filter\\_motif\\_score095/TFX4\\_Dex/chrY.bed.gz'\n",
       "\\item '/home/mount/work/out/proj\\_combeffect/annotation\\_fragment/filter\\_motif\\_score095/TFX4\\_DMSO/chrY.bed.gz'\n",
       "\\item '/home/mount/work/out/proj\\_combeffect/annotation\\_fragment/filter\\_motif\\_score095/TFX5\\_Dex/chrY.bed.gz'\n",
       "\\item '/home/mount/work/out/proj\\_combeffect/annotation\\_fragment/filter\\_motif\\_score095/TFX5\\_DMSO/chrY.bed.gz'\n",
       "\\end{enumerate*}\n"
      ],
      "text/markdown": [
       "1. '/home/mount/work/out/proj_combeffect/annotation_fragment/filter_motif_score095/Input1_20x/chrY.bed.gz'\n",
       "2. '/home/mount/work/out/proj_combeffect/annotation_fragment/filter_motif_score095/Input1/chrY.bed.gz'\n",
       "3. '/home/mount/work/out/proj_combeffect/annotation_fragment/filter_motif_score095/Input2_20x/chrY.bed.gz'\n",
       "4. '/home/mount/work/out/proj_combeffect/annotation_fragment/filter_motif_score095/Input2/chrY.bed.gz'\n",
       "5. '/home/mount/work/out/proj_combeffect/annotation_fragment/filter_motif_score095/Input3_20x/chrY.bed.gz'\n",
       "6. '/home/mount/work/out/proj_combeffect/annotation_fragment/filter_motif_score095/Input3/chrY.bed.gz'\n",
       "7. '/home/mount/work/out/proj_combeffect/annotation_fragment/filter_motif_score095/Input4_20x/chrY.bed.gz'\n",
       "8. '/home/mount/work/out/proj_combeffect/annotation_fragment/filter_motif_score095/Input4/chrY.bed.gz'\n",
       "9. '/home/mount/work/out/proj_combeffect/annotation_fragment/filter_motif_score095/Input5_20x/chrY.bed.gz'\n",
       "10. '/home/mount/work/out/proj_combeffect/annotation_fragment/filter_motif_score095/Input5/chrY.bed.gz'\n",
       "11. '/home/mount/work/out/proj_combeffect/annotation_fragment/filter_motif_score095/TFX2_Dex/chrY.bed.gz'\n",
       "12. '/home/mount/work/out/proj_combeffect/annotation_fragment/filter_motif_score095/TFX2_DMSO/chrY.bed.gz'\n",
       "13. '/home/mount/work/out/proj_combeffect/annotation_fragment/filter_motif_score095/TFX3_Dex/chrY.bed.gz'\n",
       "14. '/home/mount/work/out/proj_combeffect/annotation_fragment/filter_motif_score095/TFX3_DMSO/chrY.bed.gz'\n",
       "15. '/home/mount/work/out/proj_combeffect/annotation_fragment/filter_motif_score095/TFX4_Dex/chrY.bed.gz'\n",
       "16. '/home/mount/work/out/proj_combeffect/annotation_fragment/filter_motif_score095/TFX4_DMSO/chrY.bed.gz'\n",
       "17. '/home/mount/work/out/proj_combeffect/annotation_fragment/filter_motif_score095/TFX5_Dex/chrY.bed.gz'\n",
       "18. '/home/mount/work/out/proj_combeffect/annotation_fragment/filter_motif_score095/TFX5_DMSO/chrY.bed.gz'\n",
       "\n",
       "\n"
      ],
      "text/plain": [
       " [1] \"/home/mount/work/out/proj_combeffect/annotation_fragment/filter_motif_score095/Input1_20x/chrY.bed.gz\"\n",
       " [2] \"/home/mount/work/out/proj_combeffect/annotation_fragment/filter_motif_score095/Input1/chrY.bed.gz\"    \n",
       " [3] \"/home/mount/work/out/proj_combeffect/annotation_fragment/filter_motif_score095/Input2_20x/chrY.bed.gz\"\n",
       " [4] \"/home/mount/work/out/proj_combeffect/annotation_fragment/filter_motif_score095/Input2/chrY.bed.gz\"    \n",
       " [5] \"/home/mount/work/out/proj_combeffect/annotation_fragment/filter_motif_score095/Input3_20x/chrY.bed.gz\"\n",
       " [6] \"/home/mount/work/out/proj_combeffect/annotation_fragment/filter_motif_score095/Input3/chrY.bed.gz\"    \n",
       " [7] \"/home/mount/work/out/proj_combeffect/annotation_fragment/filter_motif_score095/Input4_20x/chrY.bed.gz\"\n",
       " [8] \"/home/mount/work/out/proj_combeffect/annotation_fragment/filter_motif_score095/Input4/chrY.bed.gz\"    \n",
       " [9] \"/home/mount/work/out/proj_combeffect/annotation_fragment/filter_motif_score095/Input5_20x/chrY.bed.gz\"\n",
       "[10] \"/home/mount/work/out/proj_combeffect/annotation_fragment/filter_motif_score095/Input5/chrY.bed.gz\"    \n",
       "[11] \"/home/mount/work/out/proj_combeffect/annotation_fragment/filter_motif_score095/TFX2_Dex/chrY.bed.gz\"  \n",
       "[12] \"/home/mount/work/out/proj_combeffect/annotation_fragment/filter_motif_score095/TFX2_DMSO/chrY.bed.gz\" \n",
       "[13] \"/home/mount/work/out/proj_combeffect/annotation_fragment/filter_motif_score095/TFX3_Dex/chrY.bed.gz\"  \n",
       "[14] \"/home/mount/work/out/proj_combeffect/annotation_fragment/filter_motif_score095/TFX3_DMSO/chrY.bed.gz\" \n",
       "[15] \"/home/mount/work/out/proj_combeffect/annotation_fragment/filter_motif_score095/TFX4_Dex/chrY.bed.gz\"  \n",
       "[16] \"/home/mount/work/out/proj_combeffect/annotation_fragment/filter_motif_score095/TFX4_DMSO/chrY.bed.gz\" \n",
       "[17] \"/home/mount/work/out/proj_combeffect/annotation_fragment/filter_motif_score095/TFX5_Dex/chrY.bed.gz\"  \n",
       "[18] \"/home/mount/work/out/proj_combeffect/annotation_fragment/filter_motif_score095/TFX5_DMSO/chrY.bed.gz\" "
      ]
     },
     "metadata": {},
     "output_type": "display_data"
    }
   ],
   "source": [
    "fdiry = file.path(FD_RES, \"annotation_fragment\", \"filter_motif_score095\")\n",
    "fname = \"chrY.bed.gz\"\n",
    "fglob = file.path(fdiry, \"*\", fname)\n",
    "system(paste(\"ls\", fglob), intern = TRUE)"
   ]
  },
  {
   "cell_type": "markdown",
   "metadata": {},
   "source": [
    "**test vroom**"
   ]
  },
  {
   "cell_type": "code",
   "execution_count": 4,
   "metadata": {},
   "outputs": [],
   "source": [
    "fpath = \"/home/mount/work/out/proj_combeffect/annotation_fragment/filter_motif_score095/Input1/chrY.bed.gz\"\n",
    "### set column names and types\n",
    "ctypes = c(col_character(), col_integer(), col_integer(), col_integer(),\n",
    "           col_character(), col_integer(), col_integer(),\n",
    "           col_character(), col_double(),  col_integer())\n",
    "cnames = c(\"Chrom_Frag\", \"Start_Frag\", \"End_Frag\", \"Count_Frag\",\n",
    "           \"Chrom_MTF\",  \"Start_MTF\",  \"End_MTF\",\n",
    "           \"Motif\", \"Score\", \"Overlap\")\n",
    "\n",
    "\n",
    "dat1 = read_tsv(fpath, col_types=ctypes, col_names=cnames) \n",
    "dat2 = vroom(fpath, col_types=ctypes, col_names=cnames)"
   ]
  },
  {
   "cell_type": "code",
   "execution_count": 5,
   "metadata": {},
   "outputs": [
    {
     "data": {
      "text/plain": [
       "78.9 MB"
      ]
     },
     "metadata": {},
     "output_type": "display_data"
    }
   ],
   "source": [
    "mem_used()"
   ]
  },
  {
   "cell_type": "code",
   "execution_count": 6,
   "metadata": {},
   "outputs": [
    {
     "data": {
      "text/html": [
       "<table class=\"dataframe\">\n",
       "<caption>A tibble: 6 × 10</caption>\n",
       "<thead>\n",
       "\t<tr><th scope=col>Chrom_Frag</th><th scope=col>Start_Frag</th><th scope=col>End_Frag</th><th scope=col>Count_Frag</th><th scope=col>Chrom_MTF</th><th scope=col>Start_MTF</th><th scope=col>End_MTF</th><th scope=col>Motif</th><th scope=col>Score</th><th scope=col>Overlap</th></tr>\n",
       "\t<tr><th scope=col>&lt;chr&gt;</th><th scope=col>&lt;dbl&gt;</th><th scope=col>&lt;dbl&gt;</th><th scope=col>&lt;dbl&gt;</th><th scope=col>&lt;chr&gt;</th><th scope=col>&lt;dbl&gt;</th><th scope=col>&lt;dbl&gt;</th><th scope=col>&lt;chr&gt;</th><th scope=col>&lt;dbl&gt;</th><th scope=col>&lt;dbl&gt;</th></tr>\n",
       "</thead>\n",
       "<tbody>\n",
       "\t<tr><td>chrY</td><td>3234097</td><td>3235060</td><td>1</td><td>chrY</td><td>3234506</td><td>3234515</td><td>HD/14   </td><td>12.30170</td><td> 9</td></tr>\n",
       "\t<tr><td>chrY</td><td>3234097</td><td>3235060</td><td>1</td><td>chrY</td><td>3234621</td><td>3234630</td><td>SREBF1  </td><td>10.90320</td><td> 9</td></tr>\n",
       "\t<tr><td>chrY</td><td>3234097</td><td>3235060</td><td>1</td><td>chrY</td><td>3234681</td><td>3234711</td><td>GC-tract</td><td>12.00452</td><td>30</td></tr>\n",
       "\t<tr><td>chrY</td><td>3234097</td><td>3235060</td><td>1</td><td>chrY</td><td>3234816</td><td>3234846</td><td>GC-tract</td><td>11.64118</td><td>30</td></tr>\n",
       "\t<tr><td>chrY</td><td>3234097</td><td>3235060</td><td>1</td><td>chrY</td><td>3234862</td><td>3234880</td><td>TBX/2   </td><td>13.14250</td><td>18</td></tr>\n",
       "\t<tr><td>chrY</td><td>3234097</td><td>3235060</td><td>1</td><td>chrY</td><td>3235042</td><td>3235055</td><td>NR/1    </td><td>11.42680</td><td>13</td></tr>\n",
       "</tbody>\n",
       "</table>\n"
      ],
      "text/latex": [
       "A tibble: 6 × 10\n",
       "\\begin{tabular}{llllllllll}\n",
       " Chrom\\_Frag & Start\\_Frag & End\\_Frag & Count\\_Frag & Chrom\\_MTF & Start\\_MTF & End\\_MTF & Motif & Score & Overlap\\\\\n",
       " <chr> & <dbl> & <dbl> & <dbl> & <chr> & <dbl> & <dbl> & <chr> & <dbl> & <dbl>\\\\\n",
       "\\hline\n",
       "\t chrY & 3234097 & 3235060 & 1 & chrY & 3234506 & 3234515 & HD/14    & 12.30170 &  9\\\\\n",
       "\t chrY & 3234097 & 3235060 & 1 & chrY & 3234621 & 3234630 & SREBF1   & 10.90320 &  9\\\\\n",
       "\t chrY & 3234097 & 3235060 & 1 & chrY & 3234681 & 3234711 & GC-tract & 12.00452 & 30\\\\\n",
       "\t chrY & 3234097 & 3235060 & 1 & chrY & 3234816 & 3234846 & GC-tract & 11.64118 & 30\\\\\n",
       "\t chrY & 3234097 & 3235060 & 1 & chrY & 3234862 & 3234880 & TBX/2    & 13.14250 & 18\\\\\n",
       "\t chrY & 3234097 & 3235060 & 1 & chrY & 3235042 & 3235055 & NR/1     & 11.42680 & 13\\\\\n",
       "\\end{tabular}\n"
      ],
      "text/markdown": [
       "\n",
       "A tibble: 6 × 10\n",
       "\n",
       "| Chrom_Frag &lt;chr&gt; | Start_Frag &lt;dbl&gt; | End_Frag &lt;dbl&gt; | Count_Frag &lt;dbl&gt; | Chrom_MTF &lt;chr&gt; | Start_MTF &lt;dbl&gt; | End_MTF &lt;dbl&gt; | Motif &lt;chr&gt; | Score &lt;dbl&gt; | Overlap &lt;dbl&gt; |\n",
       "|---|---|---|---|---|---|---|---|---|---|\n",
       "| chrY | 3234097 | 3235060 | 1 | chrY | 3234506 | 3234515 | HD/14    | 12.30170 |  9 |\n",
       "| chrY | 3234097 | 3235060 | 1 | chrY | 3234621 | 3234630 | SREBF1   | 10.90320 |  9 |\n",
       "| chrY | 3234097 | 3235060 | 1 | chrY | 3234681 | 3234711 | GC-tract | 12.00452 | 30 |\n",
       "| chrY | 3234097 | 3235060 | 1 | chrY | 3234816 | 3234846 | GC-tract | 11.64118 | 30 |\n",
       "| chrY | 3234097 | 3235060 | 1 | chrY | 3234862 | 3234880 | TBX/2    | 13.14250 | 18 |\n",
       "| chrY | 3234097 | 3235060 | 1 | chrY | 3235042 | 3235055 | NR/1     | 11.42680 | 13 |\n",
       "\n"
      ],
      "text/plain": [
       "  Chrom_Frag Start_Frag End_Frag Count_Frag Chrom_MTF Start_MTF End_MTF\n",
       "1 chrY       3234097    3235060  1          chrY      3234506   3234515\n",
       "2 chrY       3234097    3235060  1          chrY      3234621   3234630\n",
       "3 chrY       3234097    3235060  1          chrY      3234681   3234711\n",
       "4 chrY       3234097    3235060  1          chrY      3234816   3234846\n",
       "5 chrY       3234097    3235060  1          chrY      3234862   3234880\n",
       "6 chrY       3234097    3235060  1          chrY      3235042   3235055\n",
       "  Motif    Score    Overlap\n",
       "1 HD/14    12.30170  9     \n",
       "2 SREBF1   10.90320  9     \n",
       "3 GC-tract 12.00452 30     \n",
       "4 GC-tract 11.64118 30     \n",
       "5 TBX/2    13.14250 18     \n",
       "6 NR/1     11.42680 13     "
      ]
     },
     "metadata": {},
     "output_type": "display_data"
    }
   ],
   "source": [
    "head(dat1)"
   ]
  },
  {
   "cell_type": "code",
   "execution_count": 7,
   "metadata": {},
   "outputs": [
    {
     "data": {
      "text/html": [
       "<table class=\"dataframe\">\n",
       "<caption>A tibble: 6 × 10</caption>\n",
       "<thead>\n",
       "\t<tr><th scope=col>Chrom_Frag</th><th scope=col>Start_Frag</th><th scope=col>End_Frag</th><th scope=col>Count_Frag</th><th scope=col>Chrom_MTF</th><th scope=col>Start_MTF</th><th scope=col>End_MTF</th><th scope=col>Motif</th><th scope=col>Score</th><th scope=col>Overlap</th></tr>\n",
       "\t<tr><th scope=col>&lt;chr&gt;</th><th scope=col>&lt;dbl&gt;</th><th scope=col>&lt;dbl&gt;</th><th scope=col>&lt;dbl&gt;</th><th scope=col>&lt;chr&gt;</th><th scope=col>&lt;dbl&gt;</th><th scope=col>&lt;dbl&gt;</th><th scope=col>&lt;chr&gt;</th><th scope=col>&lt;dbl&gt;</th><th scope=col>&lt;dbl&gt;</th></tr>\n",
       "</thead>\n",
       "<tbody>\n",
       "\t<tr><td>chrY</td><td>3234097</td><td>3235060</td><td>1</td><td>chrY</td><td>3234506</td><td>3234515</td><td>HD/14   </td><td>12.30170</td><td> 9</td></tr>\n",
       "\t<tr><td>chrY</td><td>3234097</td><td>3235060</td><td>1</td><td>chrY</td><td>3234621</td><td>3234630</td><td>SREBF1  </td><td>10.90320</td><td> 9</td></tr>\n",
       "\t<tr><td>chrY</td><td>3234097</td><td>3235060</td><td>1</td><td>chrY</td><td>3234681</td><td>3234711</td><td>GC-tract</td><td>12.00452</td><td>30</td></tr>\n",
       "\t<tr><td>chrY</td><td>3234097</td><td>3235060</td><td>1</td><td>chrY</td><td>3234816</td><td>3234846</td><td>GC-tract</td><td>11.64118</td><td>30</td></tr>\n",
       "\t<tr><td>chrY</td><td>3234097</td><td>3235060</td><td>1</td><td>chrY</td><td>3234862</td><td>3234880</td><td>TBX/2   </td><td>13.14250</td><td>18</td></tr>\n",
       "\t<tr><td>chrY</td><td>3234097</td><td>3235060</td><td>1</td><td>chrY</td><td>3235042</td><td>3235055</td><td>NR/1    </td><td>11.42680</td><td>13</td></tr>\n",
       "</tbody>\n",
       "</table>\n"
      ],
      "text/latex": [
       "A tibble: 6 × 10\n",
       "\\begin{tabular}{llllllllll}\n",
       " Chrom\\_Frag & Start\\_Frag & End\\_Frag & Count\\_Frag & Chrom\\_MTF & Start\\_MTF & End\\_MTF & Motif & Score & Overlap\\\\\n",
       " <chr> & <dbl> & <dbl> & <dbl> & <chr> & <dbl> & <dbl> & <chr> & <dbl> & <dbl>\\\\\n",
       "\\hline\n",
       "\t chrY & 3234097 & 3235060 & 1 & chrY & 3234506 & 3234515 & HD/14    & 12.30170 &  9\\\\\n",
       "\t chrY & 3234097 & 3235060 & 1 & chrY & 3234621 & 3234630 & SREBF1   & 10.90320 &  9\\\\\n",
       "\t chrY & 3234097 & 3235060 & 1 & chrY & 3234681 & 3234711 & GC-tract & 12.00452 & 30\\\\\n",
       "\t chrY & 3234097 & 3235060 & 1 & chrY & 3234816 & 3234846 & GC-tract & 11.64118 & 30\\\\\n",
       "\t chrY & 3234097 & 3235060 & 1 & chrY & 3234862 & 3234880 & TBX/2    & 13.14250 & 18\\\\\n",
       "\t chrY & 3234097 & 3235060 & 1 & chrY & 3235042 & 3235055 & NR/1     & 11.42680 & 13\\\\\n",
       "\\end{tabular}\n"
      ],
      "text/markdown": [
       "\n",
       "A tibble: 6 × 10\n",
       "\n",
       "| Chrom_Frag &lt;chr&gt; | Start_Frag &lt;dbl&gt; | End_Frag &lt;dbl&gt; | Count_Frag &lt;dbl&gt; | Chrom_MTF &lt;chr&gt; | Start_MTF &lt;dbl&gt; | End_MTF &lt;dbl&gt; | Motif &lt;chr&gt; | Score &lt;dbl&gt; | Overlap &lt;dbl&gt; |\n",
       "|---|---|---|---|---|---|---|---|---|---|\n",
       "| chrY | 3234097 | 3235060 | 1 | chrY | 3234506 | 3234515 | HD/14    | 12.30170 |  9 |\n",
       "| chrY | 3234097 | 3235060 | 1 | chrY | 3234621 | 3234630 | SREBF1   | 10.90320 |  9 |\n",
       "| chrY | 3234097 | 3235060 | 1 | chrY | 3234681 | 3234711 | GC-tract | 12.00452 | 30 |\n",
       "| chrY | 3234097 | 3235060 | 1 | chrY | 3234816 | 3234846 | GC-tract | 11.64118 | 30 |\n",
       "| chrY | 3234097 | 3235060 | 1 | chrY | 3234862 | 3234880 | TBX/2    | 13.14250 | 18 |\n",
       "| chrY | 3234097 | 3235060 | 1 | chrY | 3235042 | 3235055 | NR/1     | 11.42680 | 13 |\n",
       "\n"
      ],
      "text/plain": [
       "  Chrom_Frag Start_Frag End_Frag Count_Frag Chrom_MTF Start_MTF End_MTF\n",
       "1 chrY       3234097    3235060  1          chrY      3234506   3234515\n",
       "2 chrY       3234097    3235060  1          chrY      3234621   3234630\n",
       "3 chrY       3234097    3235060  1          chrY      3234681   3234711\n",
       "4 chrY       3234097    3235060  1          chrY      3234816   3234846\n",
       "5 chrY       3234097    3235060  1          chrY      3234862   3234880\n",
       "6 chrY       3234097    3235060  1          chrY      3235042   3235055\n",
       "  Motif    Score    Overlap\n",
       "1 HD/14    12.30170  9     \n",
       "2 SREBF1   10.90320  9     \n",
       "3 GC-tract 12.00452 30     \n",
       "4 GC-tract 11.64118 30     \n",
       "5 TBX/2    13.14250 18     \n",
       "6 NR/1     11.42680 13     "
      ]
     },
     "metadata": {},
     "output_type": "display_data"
    }
   ],
   "source": [
    "head(dat2)"
   ]
  },
  {
   "cell_type": "markdown",
   "metadata": {},
   "source": [
    "## Import annotated fragment"
   ]
  },
  {
   "cell_type": "code",
   "execution_count": 3,
   "metadata": {},
   "outputs": [],
   "source": [
    "### Get argument: Chromosome\n",
    "CHROM = \"chrY\""
   ]
  },
  {
   "cell_type": "code",
   "execution_count": 4,
   "metadata": {},
   "outputs": [
    {
     "name": "stdout",
     "output_type": "stream",
     "text": [
      "[1] \"/home/mount/work/out/proj_combeffect/annotation_fragment/filter_motif_score095/Input1/chrY.bed.gz\"\n",
      "[1] \"/home/mount/work/out/proj_combeffect/annotation_fragment/filter_motif_score095/Input2/chrY.bed.gz\"\n",
      "[1] \"/home/mount/work/out/proj_combeffect/annotation_fragment/filter_motif_score095/Input3/chrY.bed.gz\"\n",
      "[1] \"/home/mount/work/out/proj_combeffect/annotation_fragment/filter_motif_score095/Input4/chrY.bed.gz\"\n",
      "[1] \"/home/mount/work/out/proj_combeffect/annotation_fragment/filter_motif_score095/Input5/chrY.bed.gz\"\n",
      "[1] \"/home/mount/work/out/proj_combeffect/annotation_fragment/filter_motif_score095/Input1_20x/chrY.bed.gz\"\n",
      "[1] \"/home/mount/work/out/proj_combeffect/annotation_fragment/filter_motif_score095/Input2_20x/chrY.bed.gz\"\n",
      "[1] \"/home/mount/work/out/proj_combeffect/annotation_fragment/filter_motif_score095/Input3_20x/chrY.bed.gz\"\n",
      "[1] \"/home/mount/work/out/proj_combeffect/annotation_fragment/filter_motif_score095/Input4_20x/chrY.bed.gz\"\n",
      "[1] \"/home/mount/work/out/proj_combeffect/annotation_fragment/filter_motif_score095/Input5_20x/chrY.bed.gz\"\n",
      "[1] \"/home/mount/work/out/proj_combeffect/annotation_fragment/filter_motif_score095/TFX2_DMSO/chrY.bed.gz\"\n",
      "[1] \"/home/mount/work/out/proj_combeffect/annotation_fragment/filter_motif_score095/TFX3_DMSO/chrY.bed.gz\"\n",
      "[1] \"/home/mount/work/out/proj_combeffect/annotation_fragment/filter_motif_score095/TFX4_DMSO/chrY.bed.gz\"\n",
      "[1] \"/home/mount/work/out/proj_combeffect/annotation_fragment/filter_motif_score095/TFX5_DMSO/chrY.bed.gz\"\n",
      "[1] \"/home/mount/work/out/proj_combeffect/annotation_fragment/filter_motif_score095/TFX2_Dex/chrY.bed.gz\"\n",
      "[1] \"/home/mount/work/out/proj_combeffect/annotation_fragment/filter_motif_score095/TFX3_Dex/chrY.bed.gz\"\n",
      "[1] \"/home/mount/work/out/proj_combeffect/annotation_fragment/filter_motif_score095/TFX4_Dex/chrY.bed.gz\"\n",
      "[1] \"/home/mount/work/out/proj_combeffect/annotation_fragment/filter_motif_score095/TFX5_Dex/chrY.bed.gz\"\n",
      "185 MB\n",
      "133 MB\n"
     ]
    }
   ],
   "source": [
    "###################################################\n",
    "# Import annotated fragments\n",
    "###################################################\n",
    "\n",
    "### set column names and types\n",
    "ctypes = c(col_character(), col_integer(), col_integer(), col_integer(),\n",
    "           col_character(), col_integer(), col_integer(),\n",
    "           col_character(), col_double(),  col_integer())\n",
    "cnames = c(\"Chrom_Frag\", \"Start_Frag\", \"End_Frag\", \"Count_Frag\",\n",
    "           \"Chrom_MTF\",  \"Start_MTF\",  \"End_MTF\",\n",
    "           \"Motif\", \"Score\", \"Overlap\")\n",
    "\n",
    "### set samples\n",
    "SAMPLES = c(\n",
    "    paste0(\"Input\", 1:5),\n",
    "    paste0(\"Input\", 1:5, \"_20x\"),\n",
    "    paste0(\"TFX\",   2:5, \"_DMSO\"),\n",
    "    paste0(\"TFX\",   2:5, \"_Dex\"))\n",
    "\n",
    "### import bed files for each sample \n",
    "fdiry = file.path(FD_RES, \"annotation_fragment\", \"filter_motif_score095\")\n",
    "fname = paste0(CHROM, \".bed.gz\")\n",
    "\n",
    "lst_dat = lapply(SAMPLES, function(sam){\n",
    "    ### set path\n",
    "    fpath = file.path(fdiry, sam, fname)\n",
    "    print(fpath); flush.console()\n",
    "    \n",
    "    ### import data\n",
    "    dat = read_tsv(fpath, col_types=ctypes, col_names=cnames) %>% mutate(Sample = sam)\n",
    "    return(dat)\n",
    "})\n",
    "\n",
    "### arrange data\n",
    "dat_ann_frag = bind_rows(lst_dat)\n",
    "\n",
    "### check environment (before release variables)\n",
    "print(mem_used())\n",
    "lst_dat = NULL\n",
    "\n",
    "### check environment (after release variables)\n",
    "print(mem_used())"
   ]
  },
  {
   "cell_type": "markdown",
   "metadata": {},
   "source": [
    "## Import library size"
   ]
  },
  {
   "cell_type": "code",
   "execution_count": 5,
   "metadata": {},
   "outputs": [
    {
     "data": {
      "text/html": [
       "<table class=\"dataframe\">\n",
       "<caption>A tibble: 20 × 3</caption>\n",
       "<thead>\n",
       "\t<tr><th scope=col>Size</th><th scope=col>Sample</th><th scope=col>Group</th></tr>\n",
       "\t<tr><th scope=col>&lt;dbl&gt;</th><th scope=col>&lt;chr&gt;</th><th scope=col>&lt;chr&gt;</th></tr>\n",
       "</thead>\n",
       "<tbody>\n",
       "\t<tr><td>371718546</td><td>Input1_20x         </td><td>Input             </td></tr>\n",
       "\t<tr><td> 18666630</td><td>Input1             </td><td>Input             </td></tr>\n",
       "\t<tr><td>347635732</td><td>Input2_20x         </td><td>Input             </td></tr>\n",
       "\t<tr><td> 20167924</td><td>Input2             </td><td>Input             </td></tr>\n",
       "\t<tr><td>349994051</td><td>Input3_20x         </td><td>Input             </td></tr>\n",
       "\t<tr><td> 23280988</td><td>Input3             </td><td>Input             </td></tr>\n",
       "\t<tr><td>413508358</td><td>Input4_20x         </td><td>Input             </td></tr>\n",
       "\t<tr><td> 19003938</td><td>Input4             </td><td>Input             </td></tr>\n",
       "\t<tr><td>341110487</td><td>Input5_20x         </td><td>Input             </td></tr>\n",
       "\t<tr><td> 15325016</td><td>Input5             </td><td>Input             </td></tr>\n",
       "\t<tr><td> 48376253</td><td>TFX2_AZD2906       </td><td>TFX_AZD2906       </td></tr>\n",
       "\t<tr><td> 52542517</td><td>TFX2_AZD9567       </td><td>TFX_AZD9567       </td></tr>\n",
       "\t<tr><td> 43646484</td><td>TFX2_CORT108297    </td><td>TFX_CORT108297    </td></tr>\n",
       "\t<tr><td> 41732268</td><td>TFX2_CpdA          </td><td>TFX_CpdA          </td></tr>\n",
       "\t<tr><td> 45413539</td><td>TFX2_Dex           </td><td>TFX_Dex           </td></tr>\n",
       "\t<tr><td> 43844606</td><td>TFX2_DMSO          </td><td>TFX_DMSO          </td></tr>\n",
       "\t<tr><td> 56207769</td><td>TFX2_GW870086      </td><td>TFX_GW870086      </td></tr>\n",
       "\t<tr><td> 47829936</td><td>TFX2_Hydrocortisone</td><td>TFX_Hydrocortisone</td></tr>\n",
       "\t<tr><td> 38120420</td><td>TFX2_Mapracorat    </td><td>TFX_Mapracorat    </td></tr>\n",
       "\t<tr><td> 47687319</td><td>TFX2_RU486         </td><td>TFX_RU486         </td></tr>\n",
       "</tbody>\n",
       "</table>\n"
      ],
      "text/latex": [
       "A tibble: 20 × 3\n",
       "\\begin{tabular}{lll}\n",
       " Size & Sample & Group\\\\\n",
       " <dbl> & <chr> & <chr>\\\\\n",
       "\\hline\n",
       "\t 371718546 & Input1\\_20x          & Input             \\\\\n",
       "\t  18666630 & Input1              & Input             \\\\\n",
       "\t 347635732 & Input2\\_20x          & Input             \\\\\n",
       "\t  20167924 & Input2              & Input             \\\\\n",
       "\t 349994051 & Input3\\_20x          & Input             \\\\\n",
       "\t  23280988 & Input3              & Input             \\\\\n",
       "\t 413508358 & Input4\\_20x          & Input             \\\\\n",
       "\t  19003938 & Input4              & Input             \\\\\n",
       "\t 341110487 & Input5\\_20x          & Input             \\\\\n",
       "\t  15325016 & Input5              & Input             \\\\\n",
       "\t  48376253 & TFX2\\_AZD2906        & TFX\\_AZD2906       \\\\\n",
       "\t  52542517 & TFX2\\_AZD9567        & TFX\\_AZD9567       \\\\\n",
       "\t  43646484 & TFX2\\_CORT108297     & TFX\\_CORT108297    \\\\\n",
       "\t  41732268 & TFX2\\_CpdA           & TFX\\_CpdA          \\\\\n",
       "\t  45413539 & TFX2\\_Dex            & TFX\\_Dex           \\\\\n",
       "\t  43844606 & TFX2\\_DMSO           & TFX\\_DMSO          \\\\\n",
       "\t  56207769 & TFX2\\_GW870086       & TFX\\_GW870086      \\\\\n",
       "\t  47829936 & TFX2\\_Hydrocortisone & TFX\\_Hydrocortisone\\\\\n",
       "\t  38120420 & TFX2\\_Mapracorat     & TFX\\_Mapracorat    \\\\\n",
       "\t  47687319 & TFX2\\_RU486          & TFX\\_RU486         \\\\\n",
       "\\end{tabular}\n"
      ],
      "text/markdown": [
       "\n",
       "A tibble: 20 × 3\n",
       "\n",
       "| Size &lt;dbl&gt; | Sample &lt;chr&gt; | Group &lt;chr&gt; |\n",
       "|---|---|---|\n",
       "| 371718546 | Input1_20x          | Input              |\n",
       "|  18666630 | Input1              | Input              |\n",
       "| 347635732 | Input2_20x          | Input              |\n",
       "|  20167924 | Input2              | Input              |\n",
       "| 349994051 | Input3_20x          | Input              |\n",
       "|  23280988 | Input3              | Input              |\n",
       "| 413508358 | Input4_20x          | Input              |\n",
       "|  19003938 | Input4              | Input              |\n",
       "| 341110487 | Input5_20x          | Input              |\n",
       "|  15325016 | Input5              | Input              |\n",
       "|  48376253 | TFX2_AZD2906        | TFX_AZD2906        |\n",
       "|  52542517 | TFX2_AZD9567        | TFX_AZD9567        |\n",
       "|  43646484 | TFX2_CORT108297     | TFX_CORT108297     |\n",
       "|  41732268 | TFX2_CpdA           | TFX_CpdA           |\n",
       "|  45413539 | TFX2_Dex            | TFX_Dex            |\n",
       "|  43844606 | TFX2_DMSO           | TFX_DMSO           |\n",
       "|  56207769 | TFX2_GW870086       | TFX_GW870086       |\n",
       "|  47829936 | TFX2_Hydrocortisone | TFX_Hydrocortisone |\n",
       "|  38120420 | TFX2_Mapracorat     | TFX_Mapracorat     |\n",
       "|  47687319 | TFX2_RU486          | TFX_RU486          |\n",
       "\n"
      ],
      "text/plain": [
       "   Size      Sample              Group             \n",
       "1  371718546 Input1_20x          Input             \n",
       "2   18666630 Input1              Input             \n",
       "3  347635732 Input2_20x          Input             \n",
       "4   20167924 Input2              Input             \n",
       "5  349994051 Input3_20x          Input             \n",
       "6   23280988 Input3              Input             \n",
       "7  413508358 Input4_20x          Input             \n",
       "8   19003938 Input4              Input             \n",
       "9  341110487 Input5_20x          Input             \n",
       "10  15325016 Input5              Input             \n",
       "11  48376253 TFX2_AZD2906        TFX_AZD2906       \n",
       "12  52542517 TFX2_AZD9567        TFX_AZD9567       \n",
       "13  43646484 TFX2_CORT108297     TFX_CORT108297    \n",
       "14  41732268 TFX2_CpdA           TFX_CpdA          \n",
       "15  45413539 TFX2_Dex            TFX_Dex           \n",
       "16  43844606 TFX2_DMSO           TFX_DMSO          \n",
       "17  56207769 TFX2_GW870086       TFX_GW870086      \n",
       "18  47829936 TFX2_Hydrocortisone TFX_Hydrocortisone\n",
       "19  38120420 TFX2_Mapracorat     TFX_Mapracorat    \n",
       "20  47687319 TFX2_RU486          TFX_RU486         "
      ]
     },
     "metadata": {},
     "output_type": "display_data"
    }
   ],
   "source": [
    "###################################################\n",
    "# Import library size\n",
    "###################################################\n",
    "\n",
    "### Helper function to get\n",
    "get_group = function(idn_sample){\n",
    "    idn = idn_sample\n",
    "    \n",
    "    idn = str_replace(\n",
    "        string = idn, \n",
    "        pattern = \"Input[0-9]\", \n",
    "        replacement = \"Input\")\n",
    "    \n",
    "    idn = str_remove(\n",
    "        string = idn, \n",
    "        pattern = \"_20x\")\n",
    "    \n",
    "    idn = str_replace(\n",
    "        string = idn, \n",
    "        pattern = \"TFX[0-9]_\", \n",
    "        replacement=\"TFX_\")\n",
    "    return(idn)\n",
    "}\n",
    "\n",
    "### set path\n",
    "fdiry = file.path(FD_RES, \"source\")\n",
    "fname = \"library_size.txt\"\n",
    "fpath = file.path(fdiry, fname)\n",
    "\n",
    "### import library size\n",
    "ctypes = c(col_integer(), col_character())\n",
    "cnames = c(\"Size\", \"FPath\")\n",
    "dat_lib = read_tsv(fpath, col_types=ctypes, col_names = cnames)\n",
    "\n",
    "### remove the total size\n",
    "dat_lib = dat_lib %>% dplyr::filter(FPath != \"total\")\n",
    "\n",
    "### summarize info from the file path\n",
    "### stackoverflow: Extract only folder name right before filename from full path\n",
    "dat_lib = dat_lib %>% \n",
    "    #mutate(Sample = tools::file_path_sans_ext(basename(FPath))) %>%\n",
    "    mutate(Sample = basename(dirname(FPath))) %>%\n",
    "    mutate(Group = get_group(Sample))\n",
    "dat_lib = dat_lib %>% dplyr::select(Size, Sample, Group)\n",
    "dat_lib %>% head(20)"
   ]
  },
  {
   "cell_type": "markdown",
   "metadata": {},
   "source": [
    "## Preprocess\n",
    "* Filter: at least 10 fragments for a motif\n",
    "* Filter: fully cover the motif"
   ]
  },
  {
   "cell_type": "code",
   "execution_count": 6,
   "metadata": {},
   "outputs": [
    {
     "name": "stdout",
     "output_type": "stream",
     "text": [
      "+++++ Preprocess +++++\n",
      "Filtering: fully cover the motif\n",
      "    Before Filter: #Motif = 220 #Annot = 593724 \n",
      "    After  Filter: #Motif = 220 #Annot = 551520 \n",
      "Filtering: filter out motifs with low fragments\n",
      "    Threshold: 10 \n",
      "    Before Filter: #Motif = 220 \n",
      "    After  Filter: #Motif = 194 \n"
     ]
    }
   ],
   "source": [
    "###################################################\n",
    "# Preprocess\n",
    "###################################################\n",
    "cat(\"+++++ Preprocess +++++\\n\")\n",
    "\n",
    "### Filter: fully cover the motif\n",
    "dat = dat_ann_frag\n",
    "dat = dat %>% \n",
    "    mutate(Length_MTF = End_MTF - Start_MTF) %>%\n",
    "    mutate(Length_Dif = Length_MTF - Overlap)\n",
    "\n",
    "cat(\"Filtering: fully cover the motif\\n\")\n",
    "cat(\"    Before Filter:\", \"#Motif =\", length(unique(dat$Motif)), \"#Annot =\", nrow(dat), \"\\n\")\n",
    "dat = dat %>% dplyr::filter(Length_Dif == 0)\n",
    "cat(\"    After  Filter:\", \"#Motif =\", length(unique(dat$Motif)), \"#Annot =\", nrow(dat), \"\\n\")\n",
    "\n",
    "### grouped by motif cluster and split the annotated fragments into list\n",
    "lst    = dat %>% group_by(Motif) %>% group_split\n",
    "motifs = lapply(lst, function(x){unique(x$Motif)}) %>% unlist\n",
    "names(lst) = motifs\n",
    "\n",
    "lst_frag = lapply(lst, function(dat){\n",
    "    tmp = dat %>% \n",
    "        group_by(Chrom_Frag, Start_Frag, End_Frag, Count_Frag, Motif, Sample) %>%\n",
    "        summarize(N_Motif = n(), .groups = 'drop')\n",
    "    return(tmp)\n",
    "})\n",
    "\n",
    "### filter out motifs that have almost no/low fragment in total\n",
    "THRESHOLD = 10\n",
    "cat(\"Filtering: filter out motifs with low fragments\\n\")\n",
    "cat(\"    Threshold:\", THRESHOLD, \"\\n\")\n",
    "cat(\"    Before Filter:\", \"#Motif =\", length(lst_frag), \"\\n\")\n",
    "\n",
    "lst = lst_frag\n",
    "cnt = lapply(lst, function(dat){sum(dat$Count_Frag)})\n",
    "lst = lst[cnt > 10]\n",
    "lst_frag = lst\n",
    "\n",
    "cat(\"    After  Filter:\", \"#Motif =\", length(lst_frag), \"\\n\")"
   ]
  },
  {
   "cell_type": "markdown",
   "metadata": {},
   "source": [
    "## Set up linear model"
   ]
  },
  {
   "cell_type": "markdown",
   "metadata": {},
   "source": [
    "**Helper function**"
   ]
  },
  {
   "cell_type": "code",
   "execution_count": 7,
   "metadata": {},
   "outputs": [],
   "source": [
    "### Helper function\n",
    "### https://win-vector.com/2014/05/30/trimming-the-fat-from-glm-models-in-r/\n",
    "stripGlmLR = function(cm) {\n",
    "  cm$y = c()\n",
    "  cm$model = c()\n",
    "  \n",
    "  cm$residuals = c()\n",
    "  cm$fitted.values = c()\n",
    "  cm$effects = c()\n",
    "  cm$qr$qr = c()  \n",
    "  cm$linear.predictors = c()\n",
    "  cm$weights = c()\n",
    "  cm$prior.weights = c()\n",
    "  cm$data = c()\n",
    "\n",
    "  cm$family$variance = c()\n",
    "  cm$family$dev.resids = c()\n",
    "  cm$family$aic = c()\n",
    "  cm$family$validmu = c()\n",
    "  cm$family$simulate = c()\n",
    "  attr(cm$terms,\".Environment\") = c()\n",
    "  attr(cm$formula,\".Environment\") = c()\n",
    "  \n",
    "  return(cm)\n",
    "}"
   ]
  },
  {
   "cell_type": "markdown",
   "metadata": {},
   "source": [
    "**Samples**"
   ]
  },
  {
   "cell_type": "code",
   "execution_count": 46,
   "metadata": {},
   "outputs": [
    {
     "name": "stdout",
     "output_type": "stream",
     "text": [
      "[1] \"TRUE\"\n",
      "[1] TRUE\n"
     ]
    }
   ],
   "source": [
    "txt = \"TRUE\"\n",
    "print(txt)\n",
    "print(as.logical(txt))"
   ]
  },
  {
   "cell_type": "code",
   "execution_count": 8,
   "metadata": {},
   "outputs": [],
   "source": [
    "### set samples\n",
    "SAMPLES0 = c(\n",
    "    paste0(\"Input\", 1:5),\n",
    "    paste0(\"Input\", 1:5, \"_20x\"),\n",
    "    paste0(\"TFX\",   2:5, \"_DMSO\"),\n",
    "    paste0(\"TFX\",   2:5, \"_Dex\"))\n",
    "\n",
    "SAMPLES1 = c(\n",
    "    paste0(\"Input\", 1:5),\n",
    "    paste0(\"TFX\",   2:5, \"_DMSO\"),\n",
    "    paste0(\"TFX\",   2:5, \"_Dex\"))\n",
    "\n",
    "SAMPLES2 = c(\n",
    "    paste0(\"Input\", 1:5, \"_20x\"),\n",
    "    paste0(\"TFX\",   2:5, \"_DMSO\"),\n",
    "    paste0(\"TFX\",   2:5, \"_Dex\"))"
   ]
  },
  {
   "cell_type": "markdown",
   "metadata": {},
   "source": [
    "**Motif pair**"
   ]
  },
  {
   "cell_type": "code",
   "execution_count": 11,
   "metadata": {},
   "outputs": [
    {
     "name": "stdout",
     "output_type": "stream",
     "text": [
      "     [,1]    [,2]        \n",
      "[1,] \"AP1/1\" \"AP1/2\"     \n",
      "[2,] \"AP1/1\" \"BATF\"      \n",
      "[3,] \"AP1/1\" \"BCL6/2\"    \n",
      "[4,] \"AP1/1\" \"CCAAT/CEBP\"\n",
      "[5,] \"AP1/1\" \"CENBP\"     \n",
      "[6,] \"AP1/1\" \"CREB/ATF/2\"\n",
      "++++++++++++++++++++++++++++++\n",
      "[1] \"AP1/1\" \"AP1/2\"\n"
     ]
    }
   ],
   "source": [
    "### combination of motifs\n",
    "dat_comb = t(combn(names(lst_frag), 2))\n",
    "print(head(dat_comb))\n",
    "cat(\"++++++++++++++++++++++++++++++\\n\")\n",
    "\n",
    "### convert motif pairs into a list\n",
    "lst_motif_pair = split(dat_comb, seq(nrow(dat_comb)))\n",
    "print(lst_motif_pair[[1]])"
   ]
  },
  {
   "cell_type": "markdown",
   "metadata": {},
   "source": [
    "**RUN loop**"
   ]
  },
  {
   "cell_type": "code",
   "execution_count": 12,
   "metadata": {},
   "outputs": [
    {
     "data": {
      "text/html": [
       "<table class=\"dataframe\">\n",
       "<caption>A tibble: 6 × 10</caption>\n",
       "<thead>\n",
       "\t<tr><th scope=col>Chrom_Frag</th><th scope=col>Start_Frag</th><th scope=col>End_Frag</th><th scope=col>Count_Frag</th><th scope=col>Sample</th><th scope=col>Motif.x</th><th scope=col>Motif.y</th><th scope=col>Motif</th><th scope=col>Group</th><th scope=col>X</th></tr>\n",
       "\t<tr><th scope=col>&lt;chr&gt;</th><th scope=col>&lt;dbl&gt;</th><th scope=col>&lt;dbl&gt;</th><th scope=col>&lt;dbl&gt;</th><th scope=col>&lt;chr&gt;</th><th scope=col>&lt;chr&gt;</th><th scope=col>&lt;chr&gt;</th><th scope=col>&lt;chr&gt;</th><th scope=col>&lt;chr&gt;</th><th scope=col>&lt;chr&gt;</th></tr>\n",
       "</thead>\n",
       "<tbody>\n",
       "\t<tr><td>chrY</td><td>3607139</td><td>3608051</td><td>1</td><td>TFX5_DMSO </td><td>AP1/1</td><td>NA</td><td>AP1/1</td><td>TFX_DMSO </td><td>TFX_DMSO_AP1/1</td></tr>\n",
       "\t<tr><td>chrY</td><td>3960670</td><td>3961677</td><td>1</td><td>Input2_20x</td><td>AP1/1</td><td>NA</td><td>AP1/1</td><td>Input_20x</td><td>Input         </td></tr>\n",
       "\t<tr><td>chrY</td><td>3960689</td><td>3961704</td><td>1</td><td>TFX2_Dex  </td><td>AP1/1</td><td>NA</td><td>AP1/1</td><td>TFX_Dex  </td><td>TFX_Dex_AP1/1 </td></tr>\n",
       "\t<tr><td>chrY</td><td>4998521</td><td>4999579</td><td>1</td><td>Input3_20x</td><td>AP1/1</td><td>NA</td><td>AP1/1</td><td>Input_20x</td><td>Input         </td></tr>\n",
       "\t<tr><td>chrY</td><td>4998521</td><td>4999580</td><td>1</td><td>Input1_20x</td><td>AP1/1</td><td>NA</td><td>AP1/1</td><td>Input_20x</td><td>Input         </td></tr>\n",
       "\t<tr><td>chrY</td><td>4998521</td><td>4999580</td><td>1</td><td>Input3_20x</td><td>AP1/1</td><td>NA</td><td>AP1/1</td><td>Input_20x</td><td>Input         </td></tr>\n",
       "</tbody>\n",
       "</table>\n"
      ],
      "text/latex": [
       "A tibble: 6 × 10\n",
       "\\begin{tabular}{llllllllll}\n",
       " Chrom\\_Frag & Start\\_Frag & End\\_Frag & Count\\_Frag & Sample & Motif.x & Motif.y & Motif & Group & X\\\\\n",
       " <chr> & <dbl> & <dbl> & <dbl> & <chr> & <chr> & <chr> & <chr> & <chr> & <chr>\\\\\n",
       "\\hline\n",
       "\t chrY & 3607139 & 3608051 & 1 & TFX5\\_DMSO  & AP1/1 & NA & AP1/1 & TFX\\_DMSO  & TFX\\_DMSO\\_AP1/1\\\\\n",
       "\t chrY & 3960670 & 3961677 & 1 & Input2\\_20x & AP1/1 & NA & AP1/1 & Input\\_20x & Input         \\\\\n",
       "\t chrY & 3960689 & 3961704 & 1 & TFX2\\_Dex   & AP1/1 & NA & AP1/1 & TFX\\_Dex   & TFX\\_Dex\\_AP1/1 \\\\\n",
       "\t chrY & 4998521 & 4999579 & 1 & Input3\\_20x & AP1/1 & NA & AP1/1 & Input\\_20x & Input         \\\\\n",
       "\t chrY & 4998521 & 4999580 & 1 & Input1\\_20x & AP1/1 & NA & AP1/1 & Input\\_20x & Input         \\\\\n",
       "\t chrY & 4998521 & 4999580 & 1 & Input3\\_20x & AP1/1 & NA & AP1/1 & Input\\_20x & Input         \\\\\n",
       "\\end{tabular}\n"
      ],
      "text/markdown": [
       "\n",
       "A tibble: 6 × 10\n",
       "\n",
       "| Chrom_Frag &lt;chr&gt; | Start_Frag &lt;dbl&gt; | End_Frag &lt;dbl&gt; | Count_Frag &lt;dbl&gt; | Sample &lt;chr&gt; | Motif.x &lt;chr&gt; | Motif.y &lt;chr&gt; | Motif &lt;chr&gt; | Group &lt;chr&gt; | X &lt;chr&gt; |\n",
       "|---|---|---|---|---|---|---|---|---|---|\n",
       "| chrY | 3607139 | 3608051 | 1 | TFX5_DMSO  | AP1/1 | NA | AP1/1 | TFX_DMSO  | TFX_DMSO_AP1/1 |\n",
       "| chrY | 3960670 | 3961677 | 1 | Input2_20x | AP1/1 | NA | AP1/1 | Input_20x | Input          |\n",
       "| chrY | 3960689 | 3961704 | 1 | TFX2_Dex   | AP1/1 | NA | AP1/1 | TFX_Dex   | TFX_Dex_AP1/1  |\n",
       "| chrY | 4998521 | 4999579 | 1 | Input3_20x | AP1/1 | NA | AP1/1 | Input_20x | Input          |\n",
       "| chrY | 4998521 | 4999580 | 1 | Input1_20x | AP1/1 | NA | AP1/1 | Input_20x | Input          |\n",
       "| chrY | 4998521 | 4999580 | 1 | Input3_20x | AP1/1 | NA | AP1/1 | Input_20x | Input          |\n",
       "\n"
      ],
      "text/plain": [
       "  Chrom_Frag Start_Frag End_Frag Count_Frag Sample     Motif.x Motif.y Motif\n",
       "1 chrY       3607139    3608051  1          TFX5_DMSO  AP1/1   NA      AP1/1\n",
       "2 chrY       3960670    3961677  1          Input2_20x AP1/1   NA      AP1/1\n",
       "3 chrY       3960689    3961704  1          TFX2_Dex   AP1/1   NA      AP1/1\n",
       "4 chrY       4998521    4999579  1          Input3_20x AP1/1   NA      AP1/1\n",
       "5 chrY       4998521    4999580  1          Input1_20x AP1/1   NA      AP1/1\n",
       "6 chrY       4998521    4999580  1          Input3_20x AP1/1   NA      AP1/1\n",
       "  Group     X             \n",
       "1 TFX_DMSO  TFX_DMSO_AP1/1\n",
       "2 Input_20x Input         \n",
       "3 TFX_Dex   TFX_Dex_AP1/1 \n",
       "4 Input_20x Input         \n",
       "5 Input_20x Input         \n",
       "6 Input_20x Input         "
      ]
     },
     "metadata": {},
     "output_type": "display_data"
    }
   ],
   "source": [
    "x = lst_motif_pair[[1]]\n",
    "\n",
    "    ### extract fragments for each motif\n",
    "    mtf1 = x[1]\n",
    "    mtf2 = x[2]\n",
    "    df1 = lst_frag[[mtf1]]\n",
    "    df2 = lst_frag[[mtf2]]\n",
    "    \n",
    "    ### extract fragments\n",
    "    dat1 = bind_rows(df1, df2) %>% \n",
    "        dplyr::select(Chrom_Frag, Start_Frag, End_Frag, Count_Frag, Sample) %>%\n",
    "        distinct\n",
    "    dat2 = df1 %>% \n",
    "        dplyr::select(Chrom_Frag, Start_Frag, End_Frag, Count_Frag, Sample, Motif)\n",
    "    dat3 = df2 %>% \n",
    "        dplyr::select(Chrom_Frag, Start_Frag, End_Frag, Count_Frag, Sample, Motif)\n",
    "    \n",
    "    ### match fragments for the motif pair\n",
    "    dat = dat1 %>%\n",
    "        full_join(dat2, by = c(\"Chrom_Frag\", \"Start_Frag\", \"End_Frag\", \"Count_Frag\", \"Sample\")) %>%\n",
    "        full_join(dat3, by = c(\"Chrom_Frag\", \"Start_Frag\", \"End_Frag\", \"Count_Frag\", \"Sample\")) %>%\n",
    "        mutate(Motif = paste(Motif.x, Motif.y, sep = \"_\")) %>%\n",
    "        mutate(Motif = str_remove(string=Motif, pattern=\"_NA|NA_\")) %>% \n",
    "        mutate(Group = str_remove(string = Sample, pattern = \"[0-9]\")) %>%\n",
    "        mutate(X     = paste(Group, Motif, sep=\"_\")) %>%\n",
    "        mutate(X     = ifelse(str_detect(X, \"Input\"), \"Input\", X))\n",
    "head(dat)"
   ]
  },
  {
   "cell_type": "code",
   "execution_count": 14,
   "metadata": {},
   "outputs": [
    {
     "data": {
      "text/html": [
       "<style>\n",
       ".list-inline {list-style: none; margin:0; padding: 0}\n",
       ".list-inline>li {display: inline-block}\n",
       ".list-inline>li:not(:last-child)::after {content: \"\\00b7\"; padding: 0 .5ex}\n",
       "</style>\n",
       "<ol class=list-inline><li>'AP1/1'</li><li>'AP1/1_AP1/2'</li><li>'AP1/2'</li></ol>\n"
      ],
      "text/latex": [
       "\\begin{enumerate*}\n",
       "\\item 'AP1/1'\n",
       "\\item 'AP1/1\\_AP1/2'\n",
       "\\item 'AP1/2'\n",
       "\\end{enumerate*}\n"
      ],
      "text/markdown": [
       "1. 'AP1/1'\n",
       "2. 'AP1/1_AP1/2'\n",
       "3. 'AP1/2'\n",
       "\n",
       "\n"
      ],
      "text/plain": [
       "[1] \"AP1/1\"       \"AP1/1_AP1/2\" \"AP1/2\"      "
      ]
     },
     "metadata": {},
     "output_type": "display_data"
    }
   ],
   "source": [
    "unique(dat$Motif)"
   ]
  },
  {
   "cell_type": "code",
   "execution_count": 15,
   "metadata": {},
   "outputs": [],
   "source": [
    "### count\n",
    "    dat = dat %>% \n",
    "        group_by(Sample, X) %>% \n",
    "        summarise(Value = sum(Count_Frag), .groups = 'drop')\n",
    "    \n",
    "    ### normalize counts by library size\n",
    "    dat = dat %>% left_join(dat_lib, by=\"Sample\")\n",
    "    dat = dat %>%\n",
    "        mutate(Norm_Value    = Value / Size) %>% \n",
    "        mutate(Lognorm_Value = log10(Value) - log10(Size))"
   ]
  },
  {
   "cell_type": "code",
   "execution_count": 33,
   "metadata": {},
   "outputs": [
    {
     "data": {
      "text/html": [
       "<table class=\"dataframe\">\n",
       "<caption>A tibble: 27 × 7</caption>\n",
       "<thead>\n",
       "\t<tr><th scope=col>Sample</th><th scope=col>X</th><th scope=col>Value</th><th scope=col>Size</th><th scope=col>Group</th><th scope=col>Norm_Value</th><th scope=col>Lognorm_Value</th></tr>\n",
       "\t<tr><th scope=col>&lt;chr&gt;</th><th scope=col>&lt;fct&gt;</th><th scope=col>&lt;dbl&gt;</th><th scope=col>&lt;dbl&gt;</th><th scope=col>&lt;chr&gt;</th><th scope=col>&lt;dbl&gt;</th><th scope=col>&lt;dbl&gt;</th></tr>\n",
       "</thead>\n",
       "<tbody>\n",
       "\t<tr><td>Input1    </td><td>Input               </td><td> 31</td><td> 18666630</td><td>Input   </td><td>1.660718e-06</td><td>-5.779704</td></tr>\n",
       "\t<tr><td>Input1_20x</td><td>Input               </td><td>620</td><td>371718546</td><td>Input   </td><td>1.667929e-06</td><td>-5.777823</td></tr>\n",
       "\t<tr><td>Input2    </td><td>Input               </td><td> 28</td><td> 20167924</td><td>Input   </td><td>1.388343e-06</td><td>-5.857503</td></tr>\n",
       "\t<tr><td>Input2_20x</td><td>Input               </td><td>656</td><td>347635732</td><td>Input   </td><td>1.887033e-06</td><td>-5.724221</td></tr>\n",
       "\t<tr><td>Input3    </td><td>Input               </td><td> 38</td><td> 23280988</td><td>Input   </td><td>1.632233e-06</td><td>-5.787218</td></tr>\n",
       "\t<tr><td>Input3_20x</td><td>Input               </td><td>586</td><td>349994051</td><td>Input   </td><td>1.674314e-06</td><td>-5.776163</td></tr>\n",
       "\t<tr><td>Input4    </td><td>Input               </td><td> 30</td><td> 19003938</td><td>Input   </td><td>1.578620e-06</td><td>-5.801722</td></tr>\n",
       "\t<tr><td>Input4_20x</td><td>Input               </td><td>773</td><td>413508358</td><td>Input   </td><td>1.869370e-06</td><td>-5.728305</td></tr>\n",
       "\t<tr><td>Input5    </td><td>Input               </td><td> 25</td><td> 15325016</td><td>Input   </td><td>1.631320e-06</td><td>-5.787461</td></tr>\n",
       "\t<tr><td>Input5_20x</td><td>Input               </td><td>594</td><td>341110487</td><td>Input   </td><td>1.741371e-06</td><td>-5.759109</td></tr>\n",
       "\t<tr><td>TFX2_Dex  </td><td>TFX_Dex_AP1/1       </td><td> 41</td><td> 45413539</td><td>TFX_Dex </td><td>9.028145e-07</td><td>-6.044401</td></tr>\n",
       "\t<tr><td>TFX2_Dex  </td><td>TFX_Dex_AP1/2       </td><td> 55</td><td> 45413539</td><td>TFX_Dex </td><td>1.211093e-06</td><td>-5.916823</td></tr>\n",
       "\t<tr><td>TFX2_DMSO </td><td>TFX_DMSO_AP1/1      </td><td> 52</td><td> 43844606</td><td>TFX_DMSO</td><td>1.186007e-06</td><td>-5.925913</td></tr>\n",
       "\t<tr><td>TFX2_DMSO </td><td>TFX_DMSO_AP1/2      </td><td> 36</td><td> 43844606</td><td>TFX_DMSO</td><td>8.210816e-07</td><td>-6.085614</td></tr>\n",
       "\t<tr><td>TFX3_Dex  </td><td>TFX_Dex_AP1/1       </td><td> 17</td><td> 26400671</td><td>TFX_Dex </td><td>6.439230e-07</td><td>-6.191166</td></tr>\n",
       "\t<tr><td>TFX3_Dex  </td><td>TFX_Dex_AP1/2       </td><td> 43</td><td> 26400671</td><td>TFX_Dex </td><td>1.628746e-06</td><td>-5.788147</td></tr>\n",
       "\t<tr><td>TFX3_DMSO </td><td>TFX_DMSO_AP1/1      </td><td> 15</td><td> 26819569</td><td>TFX_DMSO</td><td>5.592931e-07</td><td>-6.252361</td></tr>\n",
       "\t<tr><td>TFX3_DMSO </td><td>TFX_DMSO_AP1/2      </td><td> 28</td><td> 26819569</td><td>TFX_DMSO</td><td>1.044014e-06</td><td>-5.981294</td></tr>\n",
       "\t<tr><td>TFX4_Dex  </td><td>TFX_Dex_AP1/1       </td><td> 25</td><td> 34590086</td><td>TFX_Dex </td><td>7.227504e-07</td><td>-6.141012</td></tr>\n",
       "\t<tr><td>TFX4_Dex  </td><td>TFX_Dex_AP1/2       </td><td> 69</td><td> 34590086</td><td>TFX_Dex </td><td>1.994791e-06</td><td>-5.700103</td></tr>\n",
       "\t<tr><td>TFX4_DMSO </td><td>TFX_DMSO_AP1/1      </td><td>  9</td><td> 30951533</td><td>TFX_DMSO</td><td>2.907772e-07</td><td>-6.536440</td></tr>\n",
       "\t<tr><td>TFX4_DMSO </td><td>TFX_DMSO_AP1/2      </td><td> 46</td><td> 30951533</td><td>TFX_DMSO</td><td>1.486195e-06</td><td>-5.827924</td></tr>\n",
       "\t<tr><td>TFX5_Dex  </td><td>TFX_Dex_AP1/1       </td><td> 13</td><td> 42310249</td><td>TFX_Dex </td><td>3.072542e-07</td><td>-6.512502</td></tr>\n",
       "\t<tr><td>TFX5_Dex  </td><td>TFX_Dex_AP1/2       </td><td> 63</td><td> 42310249</td><td>TFX_Dex </td><td>1.489001e-06</td><td>-5.827105</td></tr>\n",
       "\t<tr><td>TFX5_DMSO </td><td>TFX_DMSO_AP1/1      </td><td> 13</td><td> 28859151</td><td>TFX_DMSO</td><td>4.504637e-07</td><td>-6.346340</td></tr>\n",
       "\t<tr><td>TFX5_DMSO </td><td>TFX_DMSO_AP1/1_AP1/2</td><td>  1</td><td> 28859151</td><td>TFX_DMSO</td><td>3.465105e-08</td><td>-7.460284</td></tr>\n",
       "\t<tr><td>TFX5_DMSO </td><td>TFX_DMSO_AP1/2      </td><td> 16</td><td> 28859151</td><td>TFX_DMSO</td><td>5.544169e-07</td><td>-6.256164</td></tr>\n",
       "</tbody>\n",
       "</table>\n"
      ],
      "text/latex": [
       "A tibble: 27 × 7\n",
       "\\begin{tabular}{lllllll}\n",
       " Sample & X & Value & Size & Group & Norm\\_Value & Lognorm\\_Value\\\\\n",
       " <chr> & <fct> & <dbl> & <dbl> & <chr> & <dbl> & <dbl>\\\\\n",
       "\\hline\n",
       "\t Input1     & Input                &  31 &  18666630 & Input    & 1.660718e-06 & -5.779704\\\\\n",
       "\t Input1\\_20x & Input                & 620 & 371718546 & Input    & 1.667929e-06 & -5.777823\\\\\n",
       "\t Input2     & Input                &  28 &  20167924 & Input    & 1.388343e-06 & -5.857503\\\\\n",
       "\t Input2\\_20x & Input                & 656 & 347635732 & Input    & 1.887033e-06 & -5.724221\\\\\n",
       "\t Input3     & Input                &  38 &  23280988 & Input    & 1.632233e-06 & -5.787218\\\\\n",
       "\t Input3\\_20x & Input                & 586 & 349994051 & Input    & 1.674314e-06 & -5.776163\\\\\n",
       "\t Input4     & Input                &  30 &  19003938 & Input    & 1.578620e-06 & -5.801722\\\\\n",
       "\t Input4\\_20x & Input                & 773 & 413508358 & Input    & 1.869370e-06 & -5.728305\\\\\n",
       "\t Input5     & Input                &  25 &  15325016 & Input    & 1.631320e-06 & -5.787461\\\\\n",
       "\t Input5\\_20x & Input                & 594 & 341110487 & Input    & 1.741371e-06 & -5.759109\\\\\n",
       "\t TFX2\\_Dex   & TFX\\_Dex\\_AP1/1        &  41 &  45413539 & TFX\\_Dex  & 9.028145e-07 & -6.044401\\\\\n",
       "\t TFX2\\_Dex   & TFX\\_Dex\\_AP1/2        &  55 &  45413539 & TFX\\_Dex  & 1.211093e-06 & -5.916823\\\\\n",
       "\t TFX2\\_DMSO  & TFX\\_DMSO\\_AP1/1       &  52 &  43844606 & TFX\\_DMSO & 1.186007e-06 & -5.925913\\\\\n",
       "\t TFX2\\_DMSO  & TFX\\_DMSO\\_AP1/2       &  36 &  43844606 & TFX\\_DMSO & 8.210816e-07 & -6.085614\\\\\n",
       "\t TFX3\\_Dex   & TFX\\_Dex\\_AP1/1        &  17 &  26400671 & TFX\\_Dex  & 6.439230e-07 & -6.191166\\\\\n",
       "\t TFX3\\_Dex   & TFX\\_Dex\\_AP1/2        &  43 &  26400671 & TFX\\_Dex  & 1.628746e-06 & -5.788147\\\\\n",
       "\t TFX3\\_DMSO  & TFX\\_DMSO\\_AP1/1       &  15 &  26819569 & TFX\\_DMSO & 5.592931e-07 & -6.252361\\\\\n",
       "\t TFX3\\_DMSO  & TFX\\_DMSO\\_AP1/2       &  28 &  26819569 & TFX\\_DMSO & 1.044014e-06 & -5.981294\\\\\n",
       "\t TFX4\\_Dex   & TFX\\_Dex\\_AP1/1        &  25 &  34590086 & TFX\\_Dex  & 7.227504e-07 & -6.141012\\\\\n",
       "\t TFX4\\_Dex   & TFX\\_Dex\\_AP1/2        &  69 &  34590086 & TFX\\_Dex  & 1.994791e-06 & -5.700103\\\\\n",
       "\t TFX4\\_DMSO  & TFX\\_DMSO\\_AP1/1       &   9 &  30951533 & TFX\\_DMSO & 2.907772e-07 & -6.536440\\\\\n",
       "\t TFX4\\_DMSO  & TFX\\_DMSO\\_AP1/2       &  46 &  30951533 & TFX\\_DMSO & 1.486195e-06 & -5.827924\\\\\n",
       "\t TFX5\\_Dex   & TFX\\_Dex\\_AP1/1        &  13 &  42310249 & TFX\\_Dex  & 3.072542e-07 & -6.512502\\\\\n",
       "\t TFX5\\_Dex   & TFX\\_Dex\\_AP1/2        &  63 &  42310249 & TFX\\_Dex  & 1.489001e-06 & -5.827105\\\\\n",
       "\t TFX5\\_DMSO  & TFX\\_DMSO\\_AP1/1       &  13 &  28859151 & TFX\\_DMSO & 4.504637e-07 & -6.346340\\\\\n",
       "\t TFX5\\_DMSO  & TFX\\_DMSO\\_AP1/1\\_AP1/2 &   1 &  28859151 & TFX\\_DMSO & 3.465105e-08 & -7.460284\\\\\n",
       "\t TFX5\\_DMSO  & TFX\\_DMSO\\_AP1/2       &  16 &  28859151 & TFX\\_DMSO & 5.544169e-07 & -6.256164\\\\\n",
       "\\end{tabular}\n"
      ],
      "text/markdown": [
       "\n",
       "A tibble: 27 × 7\n",
       "\n",
       "| Sample &lt;chr&gt; | X &lt;fct&gt; | Value &lt;dbl&gt; | Size &lt;dbl&gt; | Group &lt;chr&gt; | Norm_Value &lt;dbl&gt; | Lognorm_Value &lt;dbl&gt; |\n",
       "|---|---|---|---|---|---|---|\n",
       "| Input1     | Input                |  31 |  18666630 | Input    | 1.660718e-06 | -5.779704 |\n",
       "| Input1_20x | Input                | 620 | 371718546 | Input    | 1.667929e-06 | -5.777823 |\n",
       "| Input2     | Input                |  28 |  20167924 | Input    | 1.388343e-06 | -5.857503 |\n",
       "| Input2_20x | Input                | 656 | 347635732 | Input    | 1.887033e-06 | -5.724221 |\n",
       "| Input3     | Input                |  38 |  23280988 | Input    | 1.632233e-06 | -5.787218 |\n",
       "| Input3_20x | Input                | 586 | 349994051 | Input    | 1.674314e-06 | -5.776163 |\n",
       "| Input4     | Input                |  30 |  19003938 | Input    | 1.578620e-06 | -5.801722 |\n",
       "| Input4_20x | Input                | 773 | 413508358 | Input    | 1.869370e-06 | -5.728305 |\n",
       "| Input5     | Input                |  25 |  15325016 | Input    | 1.631320e-06 | -5.787461 |\n",
       "| Input5_20x | Input                | 594 | 341110487 | Input    | 1.741371e-06 | -5.759109 |\n",
       "| TFX2_Dex   | TFX_Dex_AP1/1        |  41 |  45413539 | TFX_Dex  | 9.028145e-07 | -6.044401 |\n",
       "| TFX2_Dex   | TFX_Dex_AP1/2        |  55 |  45413539 | TFX_Dex  | 1.211093e-06 | -5.916823 |\n",
       "| TFX2_DMSO  | TFX_DMSO_AP1/1       |  52 |  43844606 | TFX_DMSO | 1.186007e-06 | -5.925913 |\n",
       "| TFX2_DMSO  | TFX_DMSO_AP1/2       |  36 |  43844606 | TFX_DMSO | 8.210816e-07 | -6.085614 |\n",
       "| TFX3_Dex   | TFX_Dex_AP1/1        |  17 |  26400671 | TFX_Dex  | 6.439230e-07 | -6.191166 |\n",
       "| TFX3_Dex   | TFX_Dex_AP1/2        |  43 |  26400671 | TFX_Dex  | 1.628746e-06 | -5.788147 |\n",
       "| TFX3_DMSO  | TFX_DMSO_AP1/1       |  15 |  26819569 | TFX_DMSO | 5.592931e-07 | -6.252361 |\n",
       "| TFX3_DMSO  | TFX_DMSO_AP1/2       |  28 |  26819569 | TFX_DMSO | 1.044014e-06 | -5.981294 |\n",
       "| TFX4_Dex   | TFX_Dex_AP1/1        |  25 |  34590086 | TFX_Dex  | 7.227504e-07 | -6.141012 |\n",
       "| TFX4_Dex   | TFX_Dex_AP1/2        |  69 |  34590086 | TFX_Dex  | 1.994791e-06 | -5.700103 |\n",
       "| TFX4_DMSO  | TFX_DMSO_AP1/1       |   9 |  30951533 | TFX_DMSO | 2.907772e-07 | -6.536440 |\n",
       "| TFX4_DMSO  | TFX_DMSO_AP1/2       |  46 |  30951533 | TFX_DMSO | 1.486195e-06 | -5.827924 |\n",
       "| TFX5_Dex   | TFX_Dex_AP1/1        |  13 |  42310249 | TFX_Dex  | 3.072542e-07 | -6.512502 |\n",
       "| TFX5_Dex   | TFX_Dex_AP1/2        |  63 |  42310249 | TFX_Dex  | 1.489001e-06 | -5.827105 |\n",
       "| TFX5_DMSO  | TFX_DMSO_AP1/1       |  13 |  28859151 | TFX_DMSO | 4.504637e-07 | -6.346340 |\n",
       "| TFX5_DMSO  | TFX_DMSO_AP1/1_AP1/2 |   1 |  28859151 | TFX_DMSO | 3.465105e-08 | -7.460284 |\n",
       "| TFX5_DMSO  | TFX_DMSO_AP1/2       |  16 |  28859151 | TFX_DMSO | 5.544169e-07 | -6.256164 |\n",
       "\n"
      ],
      "text/plain": [
       "   Sample     X                    Value Size      Group    Norm_Value  \n",
       "1  Input1     Input                 31    18666630 Input    1.660718e-06\n",
       "2  Input1_20x Input                620   371718546 Input    1.667929e-06\n",
       "3  Input2     Input                 28    20167924 Input    1.388343e-06\n",
       "4  Input2_20x Input                656   347635732 Input    1.887033e-06\n",
       "5  Input3     Input                 38    23280988 Input    1.632233e-06\n",
       "6  Input3_20x Input                586   349994051 Input    1.674314e-06\n",
       "7  Input4     Input                 30    19003938 Input    1.578620e-06\n",
       "8  Input4_20x Input                773   413508358 Input    1.869370e-06\n",
       "9  Input5     Input                 25    15325016 Input    1.631320e-06\n",
       "10 Input5_20x Input                594   341110487 Input    1.741371e-06\n",
       "11 TFX2_Dex   TFX_Dex_AP1/1         41    45413539 TFX_Dex  9.028145e-07\n",
       "12 TFX2_Dex   TFX_Dex_AP1/2         55    45413539 TFX_Dex  1.211093e-06\n",
       "13 TFX2_DMSO  TFX_DMSO_AP1/1        52    43844606 TFX_DMSO 1.186007e-06\n",
       "14 TFX2_DMSO  TFX_DMSO_AP1/2        36    43844606 TFX_DMSO 8.210816e-07\n",
       "15 TFX3_Dex   TFX_Dex_AP1/1         17    26400671 TFX_Dex  6.439230e-07\n",
       "16 TFX3_Dex   TFX_Dex_AP1/2         43    26400671 TFX_Dex  1.628746e-06\n",
       "17 TFX3_DMSO  TFX_DMSO_AP1/1        15    26819569 TFX_DMSO 5.592931e-07\n",
       "18 TFX3_DMSO  TFX_DMSO_AP1/2        28    26819569 TFX_DMSO 1.044014e-06\n",
       "19 TFX4_Dex   TFX_Dex_AP1/1         25    34590086 TFX_Dex  7.227504e-07\n",
       "20 TFX4_Dex   TFX_Dex_AP1/2         69    34590086 TFX_Dex  1.994791e-06\n",
       "21 TFX4_DMSO  TFX_DMSO_AP1/1         9    30951533 TFX_DMSO 2.907772e-07\n",
       "22 TFX4_DMSO  TFX_DMSO_AP1/2        46    30951533 TFX_DMSO 1.486195e-06\n",
       "23 TFX5_Dex   TFX_Dex_AP1/1         13    42310249 TFX_Dex  3.072542e-07\n",
       "24 TFX5_Dex   TFX_Dex_AP1/2         63    42310249 TFX_Dex  1.489001e-06\n",
       "25 TFX5_DMSO  TFX_DMSO_AP1/1        13    28859151 TFX_DMSO 4.504637e-07\n",
       "26 TFX5_DMSO  TFX_DMSO_AP1/1_AP1/2   1    28859151 TFX_DMSO 3.465105e-08\n",
       "27 TFX5_DMSO  TFX_DMSO_AP1/2        16    28859151 TFX_DMSO 5.544169e-07\n",
       "   Lognorm_Value\n",
       "1  -5.779704    \n",
       "2  -5.777823    \n",
       "3  -5.857503    \n",
       "4  -5.724221    \n",
       "5  -5.787218    \n",
       "6  -5.776163    \n",
       "7  -5.801722    \n",
       "8  -5.728305    \n",
       "9  -5.787461    \n",
       "10 -5.759109    \n",
       "11 -6.044401    \n",
       "12 -5.916823    \n",
       "13 -5.925913    \n",
       "14 -6.085614    \n",
       "15 -6.191166    \n",
       "16 -5.788147    \n",
       "17 -6.252361    \n",
       "18 -5.981294    \n",
       "19 -6.141012    \n",
       "20 -5.700103    \n",
       "21 -6.536440    \n",
       "22 -5.827924    \n",
       "23 -6.512502    \n",
       "24 -5.827105    \n",
       "25 -6.346340    \n",
       "26 -7.460284    \n",
       "27 -6.256164    "
      ]
     },
     "metadata": {},
     "output_type": "display_data"
    }
   ],
   "source": [
    "dat"
   ]
  },
  {
   "cell_type": "code",
   "execution_count": 29,
   "metadata": {},
   "outputs": [],
   "source": [
    "idx11 = paste(\"TFX_DMSO\", mtf1,       sep=\"_\")\n",
    "    idx12 = paste(\"TFX_DMSO\", mtf2,       sep=\"_\")\n",
    "    idx13 = paste(\"TFX_DMSO\", mtf1, mtf2, sep=\"_\")\n",
    "    idx21 = paste(\"TFX_Dex\",  mtf1,       sep=\"_\")\n",
    "    idx22 = paste(\"TFX_Dex\",  mtf2,       sep=\"_\")\n",
    "    idx23 = paste(\"TFX_Dex\",  mtf1, mtf2, sep=\"_\")\n",
    "    idxs  = c(\"Input\", idx11, idx12, idx21, idx22, idx13, idx23)\n",
    "    dat$X = factor(dat$X, levels=idxs)\n",
    "    X = model.matrix(~X, dat)\n",
    "    y = dat$Lognorm_Value#Norm_Value\n",
    " idx11 = paste(\"XTFX_DMSO\", mtf1,       sep=\"_\")\n",
    "    idx12 = paste(\"XTFX_DMSO\", mtf2,       sep=\"_\")\n",
    "    idx13 = paste(\"XTFX_DMSO\", mtf1, mtf2, sep=\"_\")\n",
    "    idx21 = paste(\"XTFX_Dex\",  mtf1,       sep=\"_\")\n",
    "    idx22 = paste(\"XTFX_Dex\",  mtf2,       sep=\"_\")\n",
    "    idx23 = paste(\"XTFX_Dex\",  mtf1, mtf2, sep=\"_\")\n",
    "    X[,idx11] = X[,idx11] + X[,idx13] + X[,idx21] + X[,idx23]\n",
    "    X[,idx12] = X[,idx12] + X[,idx13] + X[,idx22] + X[,idx23]\n",
    "    X[,idx21] = X[,idx21] + X[,idx23]\n",
    "    X[,idx22] = X[,idx22] + X[,idx23]\n",
    "    X[,idx13] = X[,idx13] + X[,idx23]"
   ]
  },
  {
   "cell_type": "code",
   "execution_count": 30,
   "metadata": {},
   "outputs": [],
   "source": [
    "fit = lm(y ~ X + 0)\n",
    "    #fit = stripGlmLR(fit)"
   ]
  },
  {
   "cell_type": "code",
   "execution_count": 31,
   "metadata": {},
   "outputs": [
    {
     "data": {
      "text/plain": [
       "\n",
       "Call:\n",
       "lm(formula = y ~ X + 0)\n",
       "\n",
       "Coefficients:\n",
       "          X(Intercept)        XXTFX_DMSO_AP1/1        XXTFX_DMSO_AP1/2  \n",
       "              -5.77792                -0.48734                -0.25983  \n",
       "       XXTFX_Dex_AP1/1         XXTFX_Dex_AP1/2  XXTFX_DMSO_AP1/1_AP1/2  \n",
       "               0.04299                 0.22970                -0.93519  \n",
       " XXTFX_Dex_AP1/1_AP1/2  \n",
       "                    NA  \n"
      ]
     },
     "metadata": {},
     "output_type": "display_data"
    }
   ],
   "source": [
    "fit"
   ]
  },
  {
   "cell_type": "code",
   "execution_count": 37,
   "metadata": {},
   "outputs": [],
   "source": [
    "SAMPLES = SAMPLES1\n",
    "FD_OUT  = \"interactive_filter95\""
   ]
  },
  {
   "cell_type": "code",
   "execution_count": 38,
   "metadata": {},
   "outputs": [
    {
     "data": {
      "text/html": [
       "18721"
      ],
      "text/latex": [
       "18721"
      ],
      "text/markdown": [
       "18721"
      ],
      "text/plain": [
       "[1] 18721"
      ]
     },
     "metadata": {},
     "output_type": "display_data"
    }
   ],
   "source": [
    "length(lst_motif_pair)"
   ]
  },
  {
   "cell_type": "code",
   "execution_count": 42,
   "metadata": {},
   "outputs": [
    {
     "name": "stdout",
     "output_type": "stream",
     "text": [
      "Done!\n",
      "Time difference of 15.0069 secs\n"
     ]
    }
   ],
   "source": [
    "### start\n",
    "#registerDoParallel(10)\n",
    "timer_start = Sys.time()\n",
    "\n",
    "### loop through each pair of motifs\n",
    "### estimate interaction effect of each motif pair\n",
    "#lst_res = foreach(i = 1:length(lst_motif_pair)) %do% {\n",
    "lst_res = foreach(i = 1:200) %do% {\n",
    "    ### extract fragments for each motif\n",
    "    x    = lst_motif_pair[[i]]\n",
    "    mtf1 = x[1]\n",
    "    mtf2 = x[2]\n",
    "    df1  = lst_frag[[mtf1]]\n",
    "    df2  = lst_frag[[mtf2]]\n",
    "    \n",
    "    ### extract fragments\n",
    "    dat1 = bind_rows(df1, df2) %>% \n",
    "        dplyr::select(Chrom_Frag, Start_Frag, End_Frag, Count_Frag, Sample) %>%\n",
    "        distinct\n",
    "    dat2 = df1 %>% \n",
    "        dplyr::select(Chrom_Frag, Start_Frag, End_Frag, Count_Frag, Sample, Motif)\n",
    "    dat3 = df2 %>% \n",
    "        dplyr::select(Chrom_Frag, Start_Frag, End_Frag, Count_Frag, Sample, Motif)\n",
    "    \n",
    "    ### match fragments for the motif pair\n",
    "    dat = dat1 %>%\n",
    "        full_join(dat2, by = c(\"Chrom_Frag\", \"Start_Frag\", \"End_Frag\", \"Count_Frag\", \"Sample\")) %>%\n",
    "        full_join(dat3, by = c(\"Chrom_Frag\", \"Start_Frag\", \"End_Frag\", \"Count_Frag\", \"Sample\")) %>%\n",
    "        mutate(Motif = paste(Motif.x, Motif.y, sep = \"_\")) %>%\n",
    "        mutate(Motif = str_remove(string=Motif, pattern=\"_NA|NA_\")) %>% \n",
    "        mutate(Group = str_remove(string = Sample, pattern = \"[0-9]\")) %>%\n",
    "        mutate(X     = paste(Group, Motif, sep=\"_\")) %>%\n",
    "        mutate(X     = ifelse(str_detect(X, \"Input\"), \"Input\", X))\n",
    "    \n",
    "    ### count\n",
    "    dat = dat %>% \n",
    "        group_by(Sample, X) %>% \n",
    "        summarise(Value = sum(Count_Frag), .groups = 'drop')\n",
    "    \n",
    "    ### normalize counts by library size\n",
    "    dat = dat %>% left_join(dat_lib, by=\"Sample\")\n",
    "    dat = dat %>%\n",
    "        mutate(Norm_Value    = Value / Size) %>% \n",
    "        mutate(Lognorm_Value = log10(Value) - log10(Size))\n",
    "    \n",
    "    ### choose which input\n",
    "    dat = dat %>% dplyr::filter(Sample %in% SAMPLES) \n",
    "    \n",
    "    ### create design matrix\n",
    "    idx11 = paste(\"TFX_DMSO\", mtf1,       sep=\"_\")\n",
    "    idx12 = paste(\"TFX_DMSO\", mtf2,       sep=\"_\")\n",
    "    idx13 = paste(\"TFX_DMSO\", mtf1, mtf2, sep=\"_\")\n",
    "    idx21 = paste(\"TFX_Dex\",  mtf1,       sep=\"_\")\n",
    "    idx22 = paste(\"TFX_Dex\",  mtf2,       sep=\"_\")\n",
    "    idx23 = paste(\"TFX_Dex\",  mtf1, mtf2, sep=\"_\")\n",
    "    idxs  = c(\"Input\", idx11, idx12, idx21, idx22, idx13, idx23)\n",
    "    dat$X = factor(dat$X, levels=idxs)\n",
    "    X = model.matrix(~X, dat)\n",
    "    y = dat$Norm_Value\n",
    "    \n",
    "    ### setup design matrix\n",
    "    idx11 = paste(\"XTFX_DMSO\", mtf1,       sep=\"_\")\n",
    "    idx12 = paste(\"XTFX_DMSO\", mtf2,       sep=\"_\")\n",
    "    idx13 = paste(\"XTFX_DMSO\", mtf1, mtf2, sep=\"_\")\n",
    "    idx21 = paste(\"XTFX_Dex\",  mtf1,       sep=\"_\")\n",
    "    idx22 = paste(\"XTFX_Dex\",  mtf2,       sep=\"_\")\n",
    "    idx23 = paste(\"XTFX_Dex\",  mtf1, mtf2, sep=\"_\")\n",
    "    X[,idx11] = X[,idx11] + X[,idx13] + X[,idx21] + X[,idx23]\n",
    "    X[,idx12] = X[,idx12] + X[,idx13] + X[,idx22] + X[,idx23]\n",
    "    X[,idx21] = X[,idx21] + X[,idx23]\n",
    "    X[,idx22] = X[,idx22] + X[,idx23]\n",
    "    X[,idx13] = X[,idx13] + X[,idx23]\n",
    "    \n",
    "    ### fit model and reduce the memory size\n",
    "    fit = lm(y ~ X + 0)\n",
    "    fit = stripGlmLR(fit)\n",
    "    \n",
    "    ### arrange the results\n",
    "    lst = list()\n",
    "    lst$fit = fit\n",
    "    lst$cnt = dat\n",
    "    lst$X   = X\n",
    "    lst$y   = y\n",
    "    \n",
    "    ### store the results\n",
    "    mtf1  = str_replace_all(mtf1, pattern = \"/\", replacement = \"_\")\n",
    "    mtf2  = str_replace_all(mtf2, pattern = \"/\", replacement = \"_\")\n",
    "    fdiry = file.path(FD_RES, \"model_linear\", FD_OUT, CHROM)\n",
    "    fname = paste0(\"motif_\", mtf1, \"_\", mtf2, \".RDS\")\n",
    "    fpath = file.path(fdiry, fname)\n",
    "    \n",
    "    #print(c(idn, mtf)); flush.console()\n",
    "    dir.create(fdiry, recursive = TRUE, showWarnings = FALSE)\n",
    "    saveRDS(lst, fpath)\n",
    "    fname\n",
    "}\n",
    "\n",
    "### print end message\n",
    "timer = Sys.time()\n",
    "cat(\"Done!\\n\")\n",
    "print(timer - timer_start)"
   ]
  },
  {
   "cell_type": "code",
   "execution_count": 44,
   "metadata": {},
   "outputs": [
    {
     "data": {
      "text/html": [
       "0.075"
      ],
      "text/latex": [
       "0.075"
      ],
      "text/markdown": [
       "0.075"
      ],
      "text/plain": [
       "[1] 0.075"
      ]
     },
     "metadata": {},
     "output_type": "display_data"
    }
   ],
   "source": [
    "15/200"
   ]
  },
  {
   "cell_type": "code",
   "execution_count": 43,
   "metadata": {},
   "outputs": [
    {
     "name": "stdout",
     "output_type": "stream",
     "text": [
      "Done!\n",
      "Time difference of 14.74029 secs\n"
     ]
    }
   ],
   "source": [
    "### start\n",
    "registerDoParallel(20)\n",
    "timer_start = Sys.time()\n",
    "\n",
    "### loop through each pair of motifs\n",
    "### estimate interaction effect of each motif pair\n",
    "#lst_res = foreach(i = 1:length(lst_motif_pair)) %do% {\n",
    "lst_res = foreach(i = 1:200) %dopar% {\n",
    "    ### extract fragments for each motif\n",
    "    x    = lst_motif_pair[[i]]\n",
    "    mtf1 = x[1]\n",
    "    mtf2 = x[2]\n",
    "    df1  = lst_frag[[mtf1]]\n",
    "    df2  = lst_frag[[mtf2]]\n",
    "    \n",
    "    ### extract fragments\n",
    "    dat1 = bind_rows(df1, df2) %>% \n",
    "        dplyr::select(Chrom_Frag, Start_Frag, End_Frag, Count_Frag, Sample) %>%\n",
    "        distinct\n",
    "    dat2 = df1 %>% \n",
    "        dplyr::select(Chrom_Frag, Start_Frag, End_Frag, Count_Frag, Sample, Motif)\n",
    "    dat3 = df2 %>% \n",
    "        dplyr::select(Chrom_Frag, Start_Frag, End_Frag, Count_Frag, Sample, Motif)\n",
    "    \n",
    "    ### match fragments for the motif pair\n",
    "    dat = dat1 %>%\n",
    "        full_join(dat2, by = c(\"Chrom_Frag\", \"Start_Frag\", \"End_Frag\", \"Count_Frag\", \"Sample\")) %>%\n",
    "        full_join(dat3, by = c(\"Chrom_Frag\", \"Start_Frag\", \"End_Frag\", \"Count_Frag\", \"Sample\")) %>%\n",
    "        mutate(Motif = paste(Motif.x, Motif.y, sep = \"_\")) %>%\n",
    "        mutate(Motif = str_remove(string=Motif, pattern=\"_NA|NA_\")) %>% \n",
    "        mutate(Group = str_remove(string = Sample, pattern = \"[0-9]\")) %>%\n",
    "        mutate(X     = paste(Group, Motif, sep=\"_\")) %>%\n",
    "        mutate(X     = ifelse(str_detect(X, \"Input\"), \"Input\", X))\n",
    "    \n",
    "    ### count\n",
    "    dat = dat %>% \n",
    "        group_by(Sample, X) %>% \n",
    "        summarise(Value = sum(Count_Frag), .groups = 'drop')\n",
    "    \n",
    "    ### normalize counts by library size\n",
    "    dat = dat %>% left_join(dat_lib, by=\"Sample\")\n",
    "    dat = dat %>%\n",
    "        mutate(Norm_Value    = Value / Size) %>% \n",
    "        mutate(Lognorm_Value = log10(Value) - log10(Size))\n",
    "    \n",
    "    ### choose which input\n",
    "    dat = dat %>% dplyr::filter(Sample %in% SAMPLES) \n",
    "    \n",
    "    ### create design matrix\n",
    "    idx11 = paste(\"TFX_DMSO\", mtf1,       sep=\"_\")\n",
    "    idx12 = paste(\"TFX_DMSO\", mtf2,       sep=\"_\")\n",
    "    idx13 = paste(\"TFX_DMSO\", mtf1, mtf2, sep=\"_\")\n",
    "    idx21 = paste(\"TFX_Dex\",  mtf1,       sep=\"_\")\n",
    "    idx22 = paste(\"TFX_Dex\",  mtf2,       sep=\"_\")\n",
    "    idx23 = paste(\"TFX_Dex\",  mtf1, mtf2, sep=\"_\")\n",
    "    idxs  = c(\"Input\", idx11, idx12, idx21, idx22, idx13, idx23)\n",
    "    dat$X = factor(dat$X, levels=idxs)\n",
    "    X = model.matrix(~X, dat)\n",
    "    y = dat$Norm_Value\n",
    "    \n",
    "    ### setup design matrix\n",
    "    idx11 = paste(\"XTFX_DMSO\", mtf1,       sep=\"_\")\n",
    "    idx12 = paste(\"XTFX_DMSO\", mtf2,       sep=\"_\")\n",
    "    idx13 = paste(\"XTFX_DMSO\", mtf1, mtf2, sep=\"_\")\n",
    "    idx21 = paste(\"XTFX_Dex\",  mtf1,       sep=\"_\")\n",
    "    idx22 = paste(\"XTFX_Dex\",  mtf2,       sep=\"_\")\n",
    "    idx23 = paste(\"XTFX_Dex\",  mtf1, mtf2, sep=\"_\")\n",
    "    X[,idx11] = X[,idx11] + X[,idx13] + X[,idx21] + X[,idx23]\n",
    "    X[,idx12] = X[,idx12] + X[,idx13] + X[,idx22] + X[,idx23]\n",
    "    X[,idx21] = X[,idx21] + X[,idx23]\n",
    "    X[,idx22] = X[,idx22] + X[,idx23]\n",
    "    X[,idx13] = X[,idx13] + X[,idx23]\n",
    "    \n",
    "    ### fit model and reduce the memory size\n",
    "    fit = lm(y ~ X + 0)\n",
    "    fit = stripGlmLR(fit)\n",
    "    \n",
    "    ### arrange the results\n",
    "    lst = list()\n",
    "    lst$fit = fit\n",
    "    lst$cnt = dat\n",
    "    lst$X   = X\n",
    "    lst$y   = y\n",
    "    \n",
    "    ### store the results\n",
    "    mtf1  = str_replace_all(mtf1, pattern = \"/\", replacement = \"_\")\n",
    "    mtf2  = str_replace_all(mtf2, pattern = \"/\", replacement = \"_\")\n",
    "    fdiry = file.path(FD_RES, \"model_linear\", FD_OUT, CHROM)\n",
    "    fname = paste0(\"motif_\", mtf1, \"_\", mtf2, \".RDS\")\n",
    "    fpath = file.path(fdiry, fname)\n",
    "    \n",
    "    #print(c(idn, mtf)); flush.console()\n",
    "    dir.create(fdiry, recursive = TRUE, showWarnings = FALSE)\n",
    "    saveRDS(lst, fpath)\n",
    "    fname\n",
    "}\n",
    "\n",
    "### print end message\n",
    "timer = Sys.time()\n",
    "cat(\"Done!\\n\")\n",
    "print(timer - timer_start)"
   ]
  },
  {
   "cell_type": "code",
   "execution_count": null,
   "metadata": {},
   "outputs": [],
   "source": []
  }
 ],
 "metadata": {
  "kernelspec": {
   "display_name": "R",
   "language": "R",
   "name": "ir"
  },
  "language_info": {
   "codemirror_mode": "r",
   "file_extension": ".r",
   "mimetype": "text/x-r-source",
   "name": "R",
   "pygments_lexer": "r",
   "version": "4.1.1"
  }
 },
 "nbformat": 4,
 "nbformat_minor": 4
}
