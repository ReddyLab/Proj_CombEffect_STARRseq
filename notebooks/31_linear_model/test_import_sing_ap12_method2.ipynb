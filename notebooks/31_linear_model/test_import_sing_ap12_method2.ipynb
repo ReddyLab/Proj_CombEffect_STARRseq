{
 "cells": [
  {
   "cell_type": "code",
   "execution_count": 1,
   "metadata": {},
   "outputs": [
    {
     "name": "stdout",
     "output_type": "stream",
     "text": [
      "[1] \"/home/mount/work\"\n",
      "[1] \"/home/mount/work/out/proj_combeffect\"\n"
     ]
    }
   ],
   "source": [
    "suppressMessages(suppressWarnings(source(\"config_sing.R\")))\n",
    "print(FD_WORK)\n",
    "print(FD_RES)"
   ]
  },
  {
   "cell_type": "code",
   "execution_count": 2,
   "metadata": {},
   "outputs": [
    {
     "name": "stderr",
     "output_type": "stream",
     "text": [
      "Loading required package: gsubfn\n",
      "\n",
      "Loading required package: proto\n",
      "\n",
      "Warning message:\n",
      "“no DISPLAY variable so Tk is not available”\n",
      "Loading required package: RSQLite\n",
      "\n"
     ]
    }
   ],
   "source": [
    "library(sqldf)"
   ]
  },
  {
   "cell_type": "code",
   "execution_count": 15,
   "metadata": {},
   "outputs": [
    {
     "name": "stdout",
     "output_type": "stream",
     "text": [
      "Target:            chr1 \n",
      "Threshold (Cover): 10 \n",
      "Threshold (Motif): 10.81 \n"
     ]
    }
   ],
   "source": [
    "TARGET=\"chr1\"\n",
    "\n",
    "SAMPLES_INP20X = c(\n",
    "    paste0(\"Input\", 1:5, \"_20x\"),\n",
    "    paste0(\"TFX\",   2:5, \"_DMSO\"),\n",
    "    paste0(\"TFX\",   2:5, \"_Dex\"))\n",
    "SAMPLES = SAMPLES_INP20X\n",
    "\n",
    "### set column names and types\n",
    "CTYPES = c(col_character(), col_integer(), col_integer(), col_integer(),\n",
    "           col_character(), col_integer(), col_integer(),\n",
    "           col_character(), col_double(),  col_integer())\n",
    "CNAMES = c(\"Chrom_Frag\", \"Start_Frag\", \"End_Frag\", \"Count_Frag\",\n",
    "           \"Chrom_MTF\",  \"Start_MTF\",  \"End_MTF\",\n",
    "           \"Motif\", \"Score\", \"Overlap\")\n",
    "\n",
    "THRESHOLD_COVER = 10\n",
    "THRESHOLD_MOTIF = 10.81\n",
    "\n",
    "### print start message\n",
    "cat(\"Target:           \", TARGET,          \"\\n\")\n",
    "cat(\"Threshold (Cover):\", THRESHOLD_COVER, \"\\n\")\n",
    "cat(\"Threshold (Motif):\", THRESHOLD_MOTIF, \"\\n\")\n",
    "\n",
    "fname = \"AP1_2_merge.bed\"\n",
    "fdiry  = file.path(FD_RES, \"annotation_fragment\")"
   ]
  },
  {
   "cell_type": "code",
   "execution_count": 8,
   "metadata": {},
   "outputs": [
    {
     "name": "stderr",
     "output_type": "stream",
     "text": [
      "\u001b[1m\u001b[1mRows: \u001b[1m\u001b[22m\u001b[34m\u001b[34m1453\u001b[34m\u001b[39m \u001b[1m\u001b[1mColumns: \u001b[1m\u001b[22m\u001b[34m\u001b[34m10\u001b[34m\u001b[39m\n",
      "\n",
      "\u001b[36m──\u001b[39m \u001b[1m\u001b[1mColumn specification\u001b[1m\u001b[22m \u001b[36m─────────────────────────────────────────────────────────────────────────────────\u001b[39m\n",
      "\u001b[1mDelimiter:\u001b[22m \"\\t\"\n",
      "\u001b[31mchr\u001b[39m (3): X1, X5, X8\n",
      "\u001b[32mdbl\u001b[39m (7): X2, X3, X4, X6, X7, X9, X10\n",
      "\n",
      "\n",
      "\u001b[36mℹ\u001b[39m Use \u001b[30m\u001b[47m\u001b[30m\u001b[47m`spec()`\u001b[47m\u001b[30m\u001b[49m\u001b[39m to retrieve the full column specification for this data.\n",
      "\u001b[36mℹ\u001b[39m Specify the column types or set \u001b[30m\u001b[47m\u001b[30m\u001b[47m`show_col_types = FALSE`\u001b[47m\u001b[30m\u001b[49m\u001b[39m to quiet this message.\n",
      "\n"
     ]
    },
    {
     "data": {
      "text/html": [
       "<table class=\"dataframe\">\n",
       "<caption>A tibble: 6 × 10</caption>\n",
       "<thead>\n",
       "\t<tr><th scope=col>X1</th><th scope=col>X2</th><th scope=col>X3</th><th scope=col>X4</th><th scope=col>X5</th><th scope=col>X6</th><th scope=col>X7</th><th scope=col>X8</th><th scope=col>X9</th><th scope=col>X10</th></tr>\n",
       "\t<tr><th scope=col>&lt;chr&gt;</th><th scope=col>&lt;dbl&gt;</th><th scope=col>&lt;dbl&gt;</th><th scope=col>&lt;dbl&gt;</th><th scope=col>&lt;chr&gt;</th><th scope=col>&lt;dbl&gt;</th><th scope=col>&lt;dbl&gt;</th><th scope=col>&lt;chr&gt;</th><th scope=col>&lt;dbl&gt;</th><th scope=col>&lt;dbl&gt;</th></tr>\n",
       "</thead>\n",
       "<tbody>\n",
       "\t<tr><td>chr17</td><td>8150289</td><td>8151402</td><td>1</td><td>chr17</td><td>8151284</td><td>8151290</td><td>AHR</td><td>7.9331</td><td>6</td></tr>\n",
       "\t<tr><td>chr17</td><td>8150291</td><td>8151379</td><td>1</td><td>chr17</td><td>8151284</td><td>8151290</td><td>AHR</td><td>7.9331</td><td>6</td></tr>\n",
       "\t<tr><td>chr17</td><td>8150308</td><td>8151314</td><td>1</td><td>chr17</td><td>8151284</td><td>8151290</td><td>AHR</td><td>7.9331</td><td>6</td></tr>\n",
       "\t<tr><td>chr17</td><td>8150320</td><td>8151356</td><td>3</td><td>chr17</td><td>8151284</td><td>8151290</td><td>AHR</td><td>7.9331</td><td>6</td></tr>\n",
       "\t<tr><td>chr17</td><td>8150321</td><td>8151356</td><td>2</td><td>chr17</td><td>8151284</td><td>8151290</td><td>AHR</td><td>7.9331</td><td>6</td></tr>\n",
       "\t<tr><td>chr17</td><td>8150323</td><td>8151287</td><td>1</td><td>chr17</td><td>8151284</td><td>8151290</td><td>AHR</td><td>7.9331</td><td>3</td></tr>\n",
       "</tbody>\n",
       "</table>\n"
      ],
      "text/latex": [
       "A tibble: 6 × 10\n",
       "\\begin{tabular}{llllllllll}\n",
       " X1 & X2 & X3 & X4 & X5 & X6 & X7 & X8 & X9 & X10\\\\\n",
       " <chr> & <dbl> & <dbl> & <dbl> & <chr> & <dbl> & <dbl> & <chr> & <dbl> & <dbl>\\\\\n",
       "\\hline\n",
       "\t chr17 & 8150289 & 8151402 & 1 & chr17 & 8151284 & 8151290 & AHR & 7.9331 & 6\\\\\n",
       "\t chr17 & 8150291 & 8151379 & 1 & chr17 & 8151284 & 8151290 & AHR & 7.9331 & 6\\\\\n",
       "\t chr17 & 8150308 & 8151314 & 1 & chr17 & 8151284 & 8151290 & AHR & 7.9331 & 6\\\\\n",
       "\t chr17 & 8150320 & 8151356 & 3 & chr17 & 8151284 & 8151290 & AHR & 7.9331 & 6\\\\\n",
       "\t chr17 & 8150321 & 8151356 & 2 & chr17 & 8151284 & 8151290 & AHR & 7.9331 & 6\\\\\n",
       "\t chr17 & 8150323 & 8151287 & 1 & chr17 & 8151284 & 8151290 & AHR & 7.9331 & 3\\\\\n",
       "\\end{tabular}\n"
      ],
      "text/markdown": [
       "\n",
       "A tibble: 6 × 10\n",
       "\n",
       "| X1 &lt;chr&gt; | X2 &lt;dbl&gt; | X3 &lt;dbl&gt; | X4 &lt;dbl&gt; | X5 &lt;chr&gt; | X6 &lt;dbl&gt; | X7 &lt;dbl&gt; | X8 &lt;chr&gt; | X9 &lt;dbl&gt; | X10 &lt;dbl&gt; |\n",
       "|---|---|---|---|---|---|---|---|---|---|\n",
       "| chr17 | 8150289 | 8151402 | 1 | chr17 | 8151284 | 8151290 | AHR | 7.9331 | 6 |\n",
       "| chr17 | 8150291 | 8151379 | 1 | chr17 | 8151284 | 8151290 | AHR | 7.9331 | 6 |\n",
       "| chr17 | 8150308 | 8151314 | 1 | chr17 | 8151284 | 8151290 | AHR | 7.9331 | 6 |\n",
       "| chr17 | 8150320 | 8151356 | 3 | chr17 | 8151284 | 8151290 | AHR | 7.9331 | 6 |\n",
       "| chr17 | 8150321 | 8151356 | 2 | chr17 | 8151284 | 8151290 | AHR | 7.9331 | 6 |\n",
       "| chr17 | 8150323 | 8151287 | 1 | chr17 | 8151284 | 8151290 | AHR | 7.9331 | 3 |\n",
       "\n"
      ],
      "text/plain": [
       "  X1    X2      X3      X4 X5    X6      X7      X8  X9     X10\n",
       "1 chr17 8150289 8151402 1  chr17 8151284 8151290 AHR 7.9331 6  \n",
       "2 chr17 8150291 8151379 1  chr17 8151284 8151290 AHR 7.9331 6  \n",
       "3 chr17 8150308 8151314 1  chr17 8151284 8151290 AHR 7.9331 6  \n",
       "4 chr17 8150320 8151356 3  chr17 8151284 8151290 AHR 7.9331 6  \n",
       "5 chr17 8150321 8151356 2  chr17 8151284 8151290 AHR 7.9331 6  \n",
       "6 chr17 8150323 8151287 1  chr17 8151284 8151290 AHR 7.9331 3  "
      ]
     },
     "metadata": {},
     "output_type": "display_data"
    }
   ],
   "source": [
    "fpath = file.path(FD_RES, \"/annotation_fragment/Input1_20x/target_PER1/AHR_merge.bed\")\n",
    "dat = read_tsv(fpath, col_names = FALSE)\n",
    "head(dat)"
   ]
  },
  {
   "cell_type": "code",
   "execution_count": 13,
   "metadata": {},
   "outputs": [
    {
     "data": {
      "text/html": [
       "<table class=\"dataframe\">\n",
       "<caption>A data.frame: 6 × 10</caption>\n",
       "<thead>\n",
       "\t<tr><th></th><th scope=col>V1</th><th scope=col>V2</th><th scope=col>V3</th><th scope=col>V4</th><th scope=col>V5</th><th scope=col>V6</th><th scope=col>V7</th><th scope=col>V8</th><th scope=col>V9</th><th scope=col>V10</th></tr>\n",
       "\t<tr><th></th><th scope=col>&lt;chr&gt;</th><th scope=col>&lt;int&gt;</th><th scope=col>&lt;int&gt;</th><th scope=col>&lt;int&gt;</th><th scope=col>&lt;chr&gt;</th><th scope=col>&lt;int&gt;</th><th scope=col>&lt;int&gt;</th><th scope=col>&lt;chr&gt;</th><th scope=col>&lt;dbl&gt;</th><th scope=col>&lt;int&gt;</th></tr>\n",
       "</thead>\n",
       "<tbody>\n",
       "\t<tr><th scope=row>1</th><td>chr17</td><td>8155200</td><td>8156359</td><td>1</td><td>chr17</td><td>8156317</td><td>8156323</td><td>AHR</td><td>8.5157</td><td>6</td></tr>\n",
       "\t<tr><th scope=row>2</th><td>chr17</td><td>8155227</td><td>8156354</td><td>1</td><td>chr17</td><td>8156317</td><td>8156323</td><td>AHR</td><td>8.5157</td><td>6</td></tr>\n",
       "\t<tr><th scope=row>3</th><td>chr17</td><td>8155304</td><td>8156340</td><td>1</td><td>chr17</td><td>8156317</td><td>8156323</td><td>AHR</td><td>8.5157</td><td>6</td></tr>\n",
       "\t<tr><th scope=row>4</th><td>chr17</td><td>8155321</td><td>8156342</td><td>1</td><td>chr17</td><td>8156317</td><td>8156323</td><td>AHR</td><td>8.5157</td><td>6</td></tr>\n",
       "\t<tr><th scope=row>5</th><td>chr17</td><td>8155346</td><td>8156408</td><td>2</td><td>chr17</td><td>8156317</td><td>8156323</td><td>AHR</td><td>8.5157</td><td>6</td></tr>\n",
       "\t<tr><th scope=row>6</th><td>chr17</td><td>8155376</td><td>8156338</td><td>1</td><td>chr17</td><td>8156317</td><td>8156323</td><td>AHR</td><td>8.5157</td><td>6</td></tr>\n",
       "</tbody>\n",
       "</table>\n"
      ],
      "text/latex": [
       "A data.frame: 6 × 10\n",
       "\\begin{tabular}{r|llllllllll}\n",
       "  & V1 & V2 & V3 & V4 & V5 & V6 & V7 & V8 & V9 & V10\\\\\n",
       "  & <chr> & <int> & <int> & <int> & <chr> & <int> & <int> & <chr> & <dbl> & <int>\\\\\n",
       "\\hline\n",
       "\t1 & chr17 & 8155200 & 8156359 & 1 & chr17 & 8156317 & 8156323 & AHR & 8.5157 & 6\\\\\n",
       "\t2 & chr17 & 8155227 & 8156354 & 1 & chr17 & 8156317 & 8156323 & AHR & 8.5157 & 6\\\\\n",
       "\t3 & chr17 & 8155304 & 8156340 & 1 & chr17 & 8156317 & 8156323 & AHR & 8.5157 & 6\\\\\n",
       "\t4 & chr17 & 8155321 & 8156342 & 1 & chr17 & 8156317 & 8156323 & AHR & 8.5157 & 6\\\\\n",
       "\t5 & chr17 & 8155346 & 8156408 & 2 & chr17 & 8156317 & 8156323 & AHR & 8.5157 & 6\\\\\n",
       "\t6 & chr17 & 8155376 & 8156338 & 1 & chr17 & 8156317 & 8156323 & AHR & 8.5157 & 6\\\\\n",
       "\\end{tabular}\n"
      ],
      "text/markdown": [
       "\n",
       "A data.frame: 6 × 10\n",
       "\n",
       "| <!--/--> | V1 &lt;chr&gt; | V2 &lt;int&gt; | V3 &lt;int&gt; | V4 &lt;int&gt; | V5 &lt;chr&gt; | V6 &lt;int&gt; | V7 &lt;int&gt; | V8 &lt;chr&gt; | V9 &lt;dbl&gt; | V10 &lt;int&gt; |\n",
       "|---|---|---|---|---|---|---|---|---|---|---|\n",
       "| 1 | chr17 | 8155200 | 8156359 | 1 | chr17 | 8156317 | 8156323 | AHR | 8.5157 | 6 |\n",
       "| 2 | chr17 | 8155227 | 8156354 | 1 | chr17 | 8156317 | 8156323 | AHR | 8.5157 | 6 |\n",
       "| 3 | chr17 | 8155304 | 8156340 | 1 | chr17 | 8156317 | 8156323 | AHR | 8.5157 | 6 |\n",
       "| 4 | chr17 | 8155321 | 8156342 | 1 | chr17 | 8156317 | 8156323 | AHR | 8.5157 | 6 |\n",
       "| 5 | chr17 | 8155346 | 8156408 | 2 | chr17 | 8156317 | 8156323 | AHR | 8.5157 | 6 |\n",
       "| 6 | chr17 | 8155376 | 8156338 | 1 | chr17 | 8156317 | 8156323 | AHR | 8.5157 | 6 |\n",
       "\n"
      ],
      "text/plain": [
       "  V1    V2      V3      V4 V5    V6      V7      V8  V9     V10\n",
       "1 chr17 8155200 8156359 1  chr17 8156317 8156323 AHR 8.5157 6  \n",
       "2 chr17 8155227 8156354 1  chr17 8156317 8156323 AHR 8.5157 6  \n",
       "3 chr17 8155304 8156340 1  chr17 8156317 8156323 AHR 8.5157 6  \n",
       "4 chr17 8155321 8156342 1  chr17 8156317 8156323 AHR 8.5157 6  \n",
       "5 chr17 8155346 8156408 2  chr17 8156317 8156323 AHR 8.5157 6  \n",
       "6 chr17 8155376 8156338 1  chr17 8156317 8156323 AHR 8.5157 6  "
      ]
     },
     "metadata": {},
     "output_type": "display_data"
    }
   ],
   "source": [
    "fpath = file.path(FD_RES, \"/annotation_fragment/Input1_20x/target_PER1/AHR_merge.bed\")\n",
    "dat = read.csv.sql(\n",
    "        file   = fpath,\n",
    "        sql    = \"select * from file where V9 >= 8.00\",\n",
    "        header = FALSE,\n",
    "        sep    = \"\\t\"  )\n",
    "head(dat)"
   ]
  },
  {
   "cell_type": "code",
   "execution_count": 17,
   "metadata": {},
   "outputs": [
    {
     "name": "stdout",
     "output_type": "stream",
     "text": [
      "AP1_2_merge.bed Start \n",
      "AP1_2_merge.bed Import /home/mount/work/out/proj_combeffect/annotation_fragment/Input1_20x/chr1/AP1_2_merge.bed \n",
      "AP1_2_merge.bed Filter Input1_20x 792929-780112 \n",
      "AP1_2_merge.bed Import /home/mount/work/out/proj_combeffect/annotation_fragment/Input2_20x/chr1/AP1_2_merge.bed \n",
      "AP1_2_merge.bed Filter Input2_20x 754125-742146 \n",
      "AP1_2_merge.bed Import /home/mount/work/out/proj_combeffect/annotation_fragment/Input3_20x/chr1/AP1_2_merge.bed \n",
      "AP1_2_merge.bed Filter Input3_20x 760020-748012 \n",
      "AP1_2_merge.bed Import /home/mount/work/out/proj_combeffect/annotation_fragment/Input4_20x/chr1/AP1_2_merge.bed \n",
      "AP1_2_merge.bed Filter Input4_20x 879740-865834 \n",
      "AP1_2_merge.bed Import /home/mount/work/out/proj_combeffect/annotation_fragment/Input5_20x/chr1/AP1_2_merge.bed \n",
      "AP1_2_merge.bed Filter Input5_20x 748054-736095 \n",
      "Time difference of 10.82412 mins\n"
     ]
    }
   ],
   "source": [
    "timer = Sys.time()\n",
    "### start message and get the name of motif\n",
    "mtf = str_remove_all(fname, pattern = \"_merge.bed.gz\")\n",
    "msg = paste(mtf, \"Start\")\n",
    "cat(msg, \"\\n\"); flush.console()\n",
    "\n",
    "lst_dat = lapply(SAMPLES[1:5], function(sam){\n",
    "    ### set path\n",
    "    fpath = file.path(fdiry, sam, TARGET, fname)    \n",
    "    msg   = paste(mtf, \"Import\", fpath)\n",
    "    cat(msg, \"\\n\"); flush.console()\n",
    "    \n",
    "    ### import data\n",
    "    #dat = read_tsv(fpath, col_types=CTYPES, col_names=CNAMES)\n",
    "    dat = read.csv.sql(\n",
    "        file   = fpath, \n",
    "        sql    = \"select * from file where V9 >= 10.81\",\n",
    "        header = FALSE,\n",
    "        sep    = \"\\t\"  )\n",
    "    colnames(dat) = CNAMES\n",
    "    if (nrow(dat) == 0){\n",
    "        return(NULL)\n",
    "    } else {\n",
    "        ###\n",
    "        num1 = nrow(dat)    \n",
    "        dat = dat %>% \n",
    "            mutate(Sample = sam) %>%\n",
    "            mutate(Length_MTF = End_MTF - Start_MTF)  %>%\n",
    "            mutate(Length_Dif = Length_MTF - Overlap) %>% \n",
    "            dplyr::filter(Length_Dif == 0) %>%\n",
    "            dplyr::filter(Score >= THRESHOLD_MOTIF)\n",
    "        num2 = nrow(dat)\n",
    "\n",
    "        ###\n",
    "        msg = paste(num1, num2, sep=\"-\")\n",
    "        msg = paste(mtf, \"Filter\", sam, msg)\n",
    "        cat(msg, \"\\n\"); flush.console()\n",
    "        return(dat)\n",
    "    }\n",
    "})\n",
    "\n",
    "print(Sys.time() - timer)"
   ]
  },
  {
   "cell_type": "code",
   "execution_count": null,
   "metadata": {},
   "outputs": [],
   "source": []
  }
 ],
 "metadata": {
  "kernelspec": {
   "display_name": "R",
   "language": "R",
   "name": "ir"
  },
  "language_info": {
   "codemirror_mode": "r",
   "file_extension": ".r",
   "mimetype": "text/x-r-source",
   "name": "R",
   "pygments_lexer": "r",
   "version": "4.1.1"
  }
 },
 "nbformat": 4,
 "nbformat_minor": 4
}
