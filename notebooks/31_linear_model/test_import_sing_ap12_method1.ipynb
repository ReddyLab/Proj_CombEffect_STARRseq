{
 "cells": [
  {
   "cell_type": "code",
   "execution_count": 1,
   "metadata": {},
   "outputs": [
    {
     "name": "stdout",
     "output_type": "stream",
     "text": [
      "[1] \"/home/mount/work\"\n",
      "[1] \"/home/mount/work/out/proj_combeffect\"\n"
     ]
    }
   ],
   "source": [
    "suppressMessages(suppressWarnings(source(\"config_sing.R\")))\n",
    "print(FD_WORK)\n",
    "print(FD_RES)"
   ]
  },
  {
   "cell_type": "code",
   "execution_count": 9,
   "metadata": {},
   "outputs": [
    {
     "name": "stdout",
     "output_type": "stream",
     "text": [
      "Target:            chr1 \n",
      "Threshold (Cover): 10 \n",
      "Threshold (Motif): 10.81 \n"
     ]
    }
   ],
   "source": [
    "TARGET=\"chr1\"\n",
    "\n",
    "SAMPLES_INP20X = c(\n",
    "    paste0(\"Input\", 1:5, \"_20x\"),\n",
    "    paste0(\"TFX\",   2:5, \"_DMSO\"),\n",
    "    paste0(\"TFX\",   2:5, \"_Dex\"))\n",
    "SAMPLES = SAMPLES_INP20X\n",
    "\n",
    "### set column names and types\n",
    "CTYPES = c(col_character(), col_integer(), col_integer(), col_integer(),\n",
    "           col_character(), col_integer(), col_integer(),\n",
    "           col_character(), col_double(),  col_integer())\n",
    "CNAMES = c(\"Chrom_Frag\", \"Start_Frag\", \"End_Frag\", \"Count_Frag\",\n",
    "           \"Chrom_MTF\",  \"Start_MTF\",  \"End_MTF\",\n",
    "           \"Motif\", \"Score\", \"Overlap\")\n",
    "\n",
    "THRESHOLD_COVER = 10\n",
    "THRESHOLD_MOTIF = 10.81\n",
    "\n",
    "### print start message\n",
    "cat(\"Target:           \", TARGET,          \"\\n\")\n",
    "cat(\"Threshold (Cover):\", THRESHOLD_COVER, \"\\n\")\n",
    "cat(\"Threshold (Motif):\", THRESHOLD_MOTIF, \"\\n\")\n",
    "\n",
    "fname = \"AP1_2_merge.bed.gz\"\n",
    "fdiry  = file.path(FD_RES, \"annotation_fragment\")"
   ]
  },
  {
   "cell_type": "code",
   "execution_count": 8,
   "metadata": {},
   "outputs": [
    {
     "name": "stdout",
     "output_type": "stream",
     "text": [
      "AP1_2_merge.bed Start \n",
      "AP1_2_merge.bed Import /home/mount/work/out/proj_combeffect/annotation_fragment/Input1_20x/chr1/AP1_2_merge.bed \n",
      "AP1_2_merge.bed Filter Input1_20x 23733960-780112 \n",
      "AP1_2_merge.bed Import /home/mount/work/out/proj_combeffect/annotation_fragment/Input2_20x/chr1/AP1_2_merge.bed \n",
      "AP1_2_merge.bed Filter Input2_20x 22582536-742146 \n",
      "AP1_2_merge.bed Import /home/mount/work/out/proj_combeffect/annotation_fragment/Input3_20x/chr1/AP1_2_merge.bed \n",
      "AP1_2_merge.bed Filter Input3_20x 22763411-748012 \n",
      "AP1_2_merge.bed Import /home/mount/work/out/proj_combeffect/annotation_fragment/Input4_20x/chr1/AP1_2_merge.bed \n",
      "AP1_2_merge.bed Filter Input4_20x 26233440-865834 \n",
      "AP1_2_merge.bed Import /home/mount/work/out/proj_combeffect/annotation_fragment/Input5_20x/chr1/AP1_2_merge.bed \n",
      "AP1_2_merge.bed Filter Input5_20x 22369860-736095 \n",
      "Time difference of 2.635614 mins\n"
     ]
    }
   ],
   "source": [
    "timer = Sys.time()\n",
    "### start message and get the name of motif\n",
    "mtf = str_remove_all(fname, pattern = \"_merge.bed.gz\")\n",
    "msg = paste(mtf, \"Start\")\n",
    "cat(msg, \"\\n\"); flush.console()\n",
    "\n",
    "lst_dat = lapply(SAMPLES[1:5], function(sam){\n",
    "    ### set path\n",
    "    fpath = file.path(fdiry, sam, TARGET, fname)    \n",
    "    msg   = paste(mtf, \"Import\", fpath)\n",
    "    cat(msg, \"\\n\"); flush.console()\n",
    "    \n",
    "    ### import data\n",
    "    dat = read_tsv(fpath, col_types=CTYPES, col_names=CNAMES)\n",
    "    if (nrow(dat) == 0){\n",
    "        return(NULL)\n",
    "    } else {\n",
    "        ###\n",
    "        num1 = nrow(dat)    \n",
    "        dat = dat %>% \n",
    "            mutate(Sample = sam) %>%\n",
    "            mutate(Length_MTF = End_MTF - Start_MTF)  %>%\n",
    "            mutate(Length_Dif = Length_MTF - Overlap) %>% \n",
    "            dplyr::filter(Length_Dif == 0) %>%\n",
    "            dplyr::filter(Score >= THRESHOLD_MOTIF)\n",
    "        num2 = nrow(dat)\n",
    "\n",
    "        ###\n",
    "        msg = paste(num1, num2, sep=\"-\")\n",
    "        msg = paste(mtf, \"Filter\", sam, msg)\n",
    "        cat(msg, \"\\n\"); flush.console()\n",
    "        return(dat)\n",
    "    }\n",
    "})\n",
    "\n",
    "print(Sys.time() - timer)"
   ]
  },
  {
   "cell_type": "code",
   "execution_count": 10,
   "metadata": {},
   "outputs": [
    {
     "name": "stdout",
     "output_type": "stream",
     "text": [
      "AP1_2 Start \n",
      "AP1_2 Import /home/mount/work/out/proj_combeffect/annotation_fragment/Input1_20x/chr1/AP1_2_merge.bed.gz \n",
      "AP1_2 Filter Input1_20x 23733960-780112 \n",
      "AP1_2 Import /home/mount/work/out/proj_combeffect/annotation_fragment/Input2_20x/chr1/AP1_2_merge.bed.gz \n",
      "AP1_2 Filter Input2_20x 22582536-742146 \n",
      "AP1_2 Import /home/mount/work/out/proj_combeffect/annotation_fragment/Input3_20x/chr1/AP1_2_merge.bed.gz \n",
      "AP1_2 Filter Input3_20x 22763411-748012 \n",
      "AP1_2 Import /home/mount/work/out/proj_combeffect/annotation_fragment/Input4_20x/chr1/AP1_2_merge.bed.gz \n",
      "AP1_2 Filter Input4_20x 26233440-865834 \n",
      "AP1_2 Import /home/mount/work/out/proj_combeffect/annotation_fragment/Input5_20x/chr1/AP1_2_merge.bed.gz \n",
      "AP1_2 Filter Input5_20x 22369860-736095 \n",
      "Time difference of 3.931366 mins\n"
     ]
    }
   ],
   "source": [
    "timer = Sys.time()\n",
    "### start message and get the name of motif\n",
    "mtf = str_remove_all(fname, pattern = \"_merge.bed.gz\")\n",
    "msg = paste(mtf, \"Start\")\n",
    "cat(msg, \"\\n\"); flush.console()\n",
    "\n",
    "lst_dat = lapply(SAMPLES[1:5], function(sam){\n",
    "    ### set path\n",
    "    fpath = file.path(fdiry, sam, TARGET, fname)    \n",
    "    msg   = paste(mtf, \"Import\", fpath)\n",
    "    cat(msg, \"\\n\"); flush.console()\n",
    "    \n",
    "    ### import data\n",
    "    dat = read_tsv(fpath, col_types=CTYPES, col_names=CNAMES)\n",
    "    if (nrow(dat) == 0){\n",
    "        return(NULL)\n",
    "    } else {\n",
    "        ###\n",
    "        num1 = nrow(dat)    \n",
    "        dat = dat %>% \n",
    "            mutate(Sample = sam) %>%\n",
    "            mutate(Length_MTF = End_MTF - Start_MTF)  %>%\n",
    "            mutate(Length_Dif = Length_MTF - Overlap) %>% \n",
    "            dplyr::filter(Length_Dif == 0) %>%\n",
    "            dplyr::filter(Score >= THRESHOLD_MOTIF)\n",
    "        num2 = nrow(dat)\n",
    "\n",
    "        ###\n",
    "        msg = paste(num1, num2, sep=\"-\")\n",
    "        msg = paste(mtf, \"Filter\", sam, msg)\n",
    "        cat(msg, \"\\n\"); flush.console()\n",
    "        return(dat)\n",
    "    }\n",
    "})\n",
    "\n",
    "print(Sys.time() - timer)"
   ]
  },
  {
   "cell_type": "code",
   "execution_count": 5,
   "metadata": {},
   "outputs": [
    {
     "data": {
      "text/html": [
       "<style>\n",
       ".list-inline {list-style: none; margin:0; padding: 0}\n",
       ".list-inline>li {display: inline-block}\n",
       ".list-inline>li:not(:last-child)::after {content: \"\\00b7\"; padding: 0 .5ex}\n",
       "</style>\n",
       "<ol class=list-inline><li>780112</li><li>13</li></ol>\n"
      ],
      "text/latex": [
       "\\begin{enumerate*}\n",
       "\\item 780112\n",
       "\\item 13\n",
       "\\end{enumerate*}\n"
      ],
      "text/markdown": [
       "1. 780112\n",
       "2. 13\n",
       "\n",
       "\n"
      ],
      "text/plain": [
       "[1] 780112     13"
      ]
     },
     "metadata": {},
     "output_type": "display_data"
    }
   ],
   "source": [
    "dim(lst_dat[[1]])"
   ]
  },
  {
   "cell_type": "code",
   "execution_count": 6,
   "metadata": {},
   "outputs": [
    {
     "data": {
      "text/html": [
       "<table class=\"dataframe\">\n",
       "<caption>A tibble: 6 × 13</caption>\n",
       "<thead>\n",
       "\t<tr><th scope=col>Chrom_Frag</th><th scope=col>Start_Frag</th><th scope=col>End_Frag</th><th scope=col>Count_Frag</th><th scope=col>Chrom_MTF</th><th scope=col>Start_MTF</th><th scope=col>End_MTF</th><th scope=col>Motif</th><th scope=col>Score</th><th scope=col>Overlap</th><th scope=col>Sample</th><th scope=col>Length_MTF</th><th scope=col>Length_Dif</th></tr>\n",
       "\t<tr><th scope=col>&lt;chr&gt;</th><th scope=col>&lt;dbl&gt;</th><th scope=col>&lt;dbl&gt;</th><th scope=col>&lt;dbl&gt;</th><th scope=col>&lt;chr&gt;</th><th scope=col>&lt;dbl&gt;</th><th scope=col>&lt;dbl&gt;</th><th scope=col>&lt;chr&gt;</th><th scope=col>&lt;dbl&gt;</th><th scope=col>&lt;dbl&gt;</th><th scope=col>&lt;chr&gt;</th><th scope=col>&lt;dbl&gt;</th><th scope=col>&lt;dbl&gt;</th></tr>\n",
       "</thead>\n",
       "<tbody>\n",
       "\t<tr><td>chr1</td><td>14376</td><td>15250</td><td>1</td><td>chr1</td><td>15176</td><td>15187</td><td>AP1/2</td><td>12.1785</td><td>11</td><td>Input1_20x</td><td>11</td><td>0</td></tr>\n",
       "\t<tr><td>chr1</td><td>14424</td><td>15516</td><td>1</td><td>chr1</td><td>15176</td><td>15187</td><td>AP1/2</td><td>12.1785</td><td>11</td><td>Input1_20x</td><td>11</td><td>0</td></tr>\n",
       "\t<tr><td>chr1</td><td>14448</td><td>15495</td><td>1</td><td>chr1</td><td>15176</td><td>15187</td><td>AP1/2</td><td>12.1785</td><td>11</td><td>Input1_20x</td><td>11</td><td>0</td></tr>\n",
       "\t<tr><td>chr1</td><td>14449</td><td>15491</td><td>1</td><td>chr1</td><td>15176</td><td>15187</td><td>AP1/2</td><td>12.1785</td><td>11</td><td>Input1_20x</td><td>11</td><td>0</td></tr>\n",
       "\t<tr><td>chr1</td><td>14713</td><td>15705</td><td>2</td><td>chr1</td><td>15176</td><td>15187</td><td>AP1/2</td><td>12.1785</td><td>11</td><td>Input1_20x</td><td>11</td><td>0</td></tr>\n",
       "\t<tr><td>chr1</td><td>14784</td><td>15828</td><td>2</td><td>chr1</td><td>15176</td><td>15187</td><td>AP1/2</td><td>12.1785</td><td>11</td><td>Input1_20x</td><td>11</td><td>0</td></tr>\n",
       "</tbody>\n",
       "</table>\n"
      ],
      "text/latex": [
       "A tibble: 6 × 13\n",
       "\\begin{tabular}{lllllllllllll}\n",
       " Chrom\\_Frag & Start\\_Frag & End\\_Frag & Count\\_Frag & Chrom\\_MTF & Start\\_MTF & End\\_MTF & Motif & Score & Overlap & Sample & Length\\_MTF & Length\\_Dif\\\\\n",
       " <chr> & <dbl> & <dbl> & <dbl> & <chr> & <dbl> & <dbl> & <chr> & <dbl> & <dbl> & <chr> & <dbl> & <dbl>\\\\\n",
       "\\hline\n",
       "\t chr1 & 14376 & 15250 & 1 & chr1 & 15176 & 15187 & AP1/2 & 12.1785 & 11 & Input1\\_20x & 11 & 0\\\\\n",
       "\t chr1 & 14424 & 15516 & 1 & chr1 & 15176 & 15187 & AP1/2 & 12.1785 & 11 & Input1\\_20x & 11 & 0\\\\\n",
       "\t chr1 & 14448 & 15495 & 1 & chr1 & 15176 & 15187 & AP1/2 & 12.1785 & 11 & Input1\\_20x & 11 & 0\\\\\n",
       "\t chr1 & 14449 & 15491 & 1 & chr1 & 15176 & 15187 & AP1/2 & 12.1785 & 11 & Input1\\_20x & 11 & 0\\\\\n",
       "\t chr1 & 14713 & 15705 & 2 & chr1 & 15176 & 15187 & AP1/2 & 12.1785 & 11 & Input1\\_20x & 11 & 0\\\\\n",
       "\t chr1 & 14784 & 15828 & 2 & chr1 & 15176 & 15187 & AP1/2 & 12.1785 & 11 & Input1\\_20x & 11 & 0\\\\\n",
       "\\end{tabular}\n"
      ],
      "text/markdown": [
       "\n",
       "A tibble: 6 × 13\n",
       "\n",
       "| Chrom_Frag &lt;chr&gt; | Start_Frag &lt;dbl&gt; | End_Frag &lt;dbl&gt; | Count_Frag &lt;dbl&gt; | Chrom_MTF &lt;chr&gt; | Start_MTF &lt;dbl&gt; | End_MTF &lt;dbl&gt; | Motif &lt;chr&gt; | Score &lt;dbl&gt; | Overlap &lt;dbl&gt; | Sample &lt;chr&gt; | Length_MTF &lt;dbl&gt; | Length_Dif &lt;dbl&gt; |\n",
       "|---|---|---|---|---|---|---|---|---|---|---|---|---|\n",
       "| chr1 | 14376 | 15250 | 1 | chr1 | 15176 | 15187 | AP1/2 | 12.1785 | 11 | Input1_20x | 11 | 0 |\n",
       "| chr1 | 14424 | 15516 | 1 | chr1 | 15176 | 15187 | AP1/2 | 12.1785 | 11 | Input1_20x | 11 | 0 |\n",
       "| chr1 | 14448 | 15495 | 1 | chr1 | 15176 | 15187 | AP1/2 | 12.1785 | 11 | Input1_20x | 11 | 0 |\n",
       "| chr1 | 14449 | 15491 | 1 | chr1 | 15176 | 15187 | AP1/2 | 12.1785 | 11 | Input1_20x | 11 | 0 |\n",
       "| chr1 | 14713 | 15705 | 2 | chr1 | 15176 | 15187 | AP1/2 | 12.1785 | 11 | Input1_20x | 11 | 0 |\n",
       "| chr1 | 14784 | 15828 | 2 | chr1 | 15176 | 15187 | AP1/2 | 12.1785 | 11 | Input1_20x | 11 | 0 |\n",
       "\n"
      ],
      "text/plain": [
       "  Chrom_Frag Start_Frag End_Frag Count_Frag Chrom_MTF Start_MTF End_MTF Motif\n",
       "1 chr1       14376      15250    1          chr1      15176     15187   AP1/2\n",
       "2 chr1       14424      15516    1          chr1      15176     15187   AP1/2\n",
       "3 chr1       14448      15495    1          chr1      15176     15187   AP1/2\n",
       "4 chr1       14449      15491    1          chr1      15176     15187   AP1/2\n",
       "5 chr1       14713      15705    2          chr1      15176     15187   AP1/2\n",
       "6 chr1       14784      15828    2          chr1      15176     15187   AP1/2\n",
       "  Score   Overlap Sample     Length_MTF Length_Dif\n",
       "1 12.1785 11      Input1_20x 11         0         \n",
       "2 12.1785 11      Input1_20x 11         0         \n",
       "3 12.1785 11      Input1_20x 11         0         \n",
       "4 12.1785 11      Input1_20x 11         0         \n",
       "5 12.1785 11      Input1_20x 11         0         \n",
       "6 12.1785 11      Input1_20x 11         0         "
      ]
     },
     "metadata": {},
     "output_type": "display_data"
    }
   ],
   "source": [
    "head(lst_dat[[1]])"
   ]
  },
  {
   "cell_type": "code",
   "execution_count": null,
   "metadata": {},
   "outputs": [],
   "source": []
  }
 ],
 "metadata": {
  "kernelspec": {
   "display_name": "R (alex_py3)",
   "language": "R",
   "name": "ir_alex_py3"
  },
  "language_info": {
   "codemirror_mode": "r",
   "file_extension": ".r",
   "mimetype": "text/x-r-source",
   "name": "R",
   "pygments_lexer": "r",
   "version": "3.6.2"
  }
 },
 "nbformat": 4,
 "nbformat_minor": 4
}
