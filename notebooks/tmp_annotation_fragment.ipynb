{
 "cells": [
  {
   "cell_type": "code",
   "execution_count": 2,
   "id": "f4fbfeac-af98-443f-b2f2-811cca433c81",
   "metadata": {},
   "outputs": [],
   "source": [
    "suppressMessages(suppressWarnings(source(\"config.R\")))"
   ]
  },
  {
   "cell_type": "code",
   "execution_count": 24,
   "id": "34a503ef-f990-4e8b-9054-91c186263ed7",
   "metadata": {},
   "outputs": [],
   "source": [
    "ctypes = c(\n",
    "    col_character(), col_double(), col_double(),    col_double(),\n",
    "    col_character(), col_double(), col_double(),\n",
    "    col_character(), col_double(), col_character(), col_character(),\n",
    "    col_double(),    col_double())\n",
    "cnames = c(\n",
    "    \"chrom_frag\", \"start_frag\", \"end_frag\", \"count_frag\", \n",
    "    \"chrom_ann\",  \"start_ann\",  \"end_ann\",\n",
    "    \"archetype\",  \"score\",      \"strand\",   \"motif\",\n",
    "    \"x\", \"overlap\")\n",
    "\n",
    "FD_OUT=\"/work/kk319/out/CombEffect_STARR/annotation_fragment/TFX_Dex\"\n",
    "dat1 = read_tsv(file.path(FD_OUT, \"cluster248.bed\"), col_names=cnames, col_types=ctypes)\n",
    "dat2 = read_tsv(file.path(FD_OUT, \"cluster049.bed\"), col_names=cnames, col_types=ctypes)\n",
    "dat3 = read_tsv(file.path(FD_OUT, \"cluster050.bed\"), col_names=cnames, col_types=ctypes)\n",
    "dat4 = read_tsv(file.path(FD_OUT, \"cluster054.bed\"), col_names=cnames, col_types=ctypes)"
   ]
  },
  {
   "cell_type": "code",
   "execution_count": 2,
   "id": "3958b6be-6079-433a-a3d5-f09623c5b279",
   "metadata": {},
   "outputs": [],
   "source": [
    "ctypes = c(\n",
    "    col_character(), col_double(), col_double(),    col_double(),\n",
    "    col_character(), col_double(), col_double(),\n",
    "    col_character(), col_double(), col_character(), col_character(),\n",
    "    col_double(),    col_double())\n",
    "cnames = c(\n",
    "    \"chrom_frag\", \"start_frag\", \"end_frag\", \"count_frag\", \n",
    "    \"chrom_ann\",  \"start_ann\",  \"end_ann\",\n",
    "    \"archetype\",  \"score\",      \"strand\",   \"motif\",\n",
    "    \"x\", \"overlap\")\n",
    "\n",
    "FD_OUT=\"/work/kk319/out/CombEffect_STARR/annotation_fragment/Input\"\n",
    "dat_input_c248 = read_tsv(file.path(FD_OUT, \"cluster248.bed\"), col_names=cnames, col_types=ctypes)\n",
    "dat_input_c054 = read_tsv(file.path(FD_OUT, \"cluster054.bed\"), col_names=cnames, col_types=ctypes)\n",
    "\n",
    "FD_OUT=\"/work/kk319/out/CombEffect_STARR/annotation_fragment/TFX_DMSO\"\n",
    "dat_dmso_c248 = read_tsv(file.path(FD_OUT, \"cluster248.bed\"), col_names=cnames, col_types=ctypes)\n",
    "dat_dmso_c054 = read_tsv(file.path(FD_OUT, \"cluster054.bed\"), col_names=cnames, col_types=ctypes)\n",
    "\n",
    "FD_OUT=\"/work/kk319/out/CombEffect_STARR/annotation_fragment/TFX_Dex\"\n",
    "dat_dex_c248 = read_tsv(file.path(FD_OUT, \"cluster248.bed\"), col_names=cnames, col_types=ctypes)\n",
    "dat_dex_c054 = read_tsv(file.path(FD_OUT, \"cluster054.bed\"), col_names=cnames, col_types=ctypes)"
   ]
  },
  {
   "cell_type": "code",
   "execution_count": 3,
   "id": "45c3a88b-d9c7-40a0-97df-791ff9a68c51",
   "metadata": {},
   "outputs": [],
   "source": [
    "ctypes = c(\n",
    "    col_character(), col_double(), col_double(),    col_double(),\n",
    "    col_character(), col_double(), col_double(),\n",
    "    col_character(), col_double(), col_character(), col_character(),\n",
    "    col_double(),    col_double())\n",
    "cnames = c(\n",
    "    \"chrom_frag\", \"start_frag\", \"end_frag\", \"count_frag\", \n",
    "    \"chrom_ann\",  \"start_ann\",  \"end_ann\",\n",
    "    \"archetype\",  \"score\",      \"strand\",   \"motif\",\n",
    "    \"x\", \"overlap\")\n",
    "\n",
    "FD_OUT=\"/work/kk319/out/CombEffect_STARR/annotation_fragment/TFX_Dex\"\n",
    "dat_input_c248 = read_tsv(file.path(FD_OUT, \"cluster248.bed\"), col_names=cnames, col_types=ctypes)\n",
    "dat_input_c054 = read_tsv(file.path(FD_OUT, \"cluster054.bed\"), col_names=cnames, col_types=ctypes)"
   ]
  },
  {
   "cell_type": "code",
   "execution_count": 4,
   "id": "2679d26e-0df4-4fa8-bdcb-967e130c076e",
   "metadata": {},
   "outputs": [
    {
     "data": {
      "text/html": [
       "<table>\n",
       "<thead><tr><th scope=col>chrom_frag</th><th scope=col>start_frag</th><th scope=col>end_frag</th><th scope=col>count_frag</th><th scope=col>chrom_ann</th><th scope=col>start_ann</th><th scope=col>end_ann</th><th scope=col>archetype</th><th scope=col>score</th><th scope=col>strand</th><th scope=col>motif</th><th scope=col>x</th><th scope=col>overlap</th></tr></thead>\n",
       "<tbody>\n",
       "\t<tr><td>chr17               </td><td>10000013            </td><td>10001044            </td><td>1                   </td><td>chr17               </td><td>10000767            </td><td>10000781            </td><td>NR/20               </td><td>10.2126             </td><td>+                   </td><td>PRGR_HUMAN.H11MO.0.A</td><td>5                   </td><td>14                  </td></tr>\n",
       "\t<tr><td>chr17               </td><td>10000013            </td><td>10001045            </td><td>2                   </td><td>chr17               </td><td>10000767            </td><td>10000781            </td><td>NR/20               </td><td>10.2126             </td><td>+                   </td><td>PRGR_HUMAN.H11MO.0.A</td><td>5                   </td><td>14                  </td></tr>\n",
       "\t<tr><td>chr17               </td><td>10000014            </td><td>10001044            </td><td>1                   </td><td>chr17               </td><td>10000767            </td><td>10000781            </td><td>NR/20               </td><td>10.2126             </td><td>+                   </td><td>PRGR_HUMAN.H11MO.0.A</td><td>5                   </td><td>14                  </td></tr>\n",
       "\t<tr><td>chr17               </td><td>10000014            </td><td>10001045            </td><td>1                   </td><td>chr17               </td><td>10000767            </td><td>10000781            </td><td>NR/20               </td><td>10.2126             </td><td>+                   </td><td>PRGR_HUMAN.H11MO.0.A</td><td>5                   </td><td>14                  </td></tr>\n",
       "\t<tr><td>chr17               </td><td>10000026            </td><td>10001090            </td><td>1                   </td><td>chr17               </td><td>10000767            </td><td>10000781            </td><td>NR/20               </td><td>10.2126             </td><td>+                   </td><td>PRGR_HUMAN.H11MO.0.A</td><td>5                   </td><td>14                  </td></tr>\n",
       "\t<tr><td>chr17               </td><td>10000090            </td><td>10001098            </td><td>1                   </td><td>chr17               </td><td>10000767            </td><td>10000781            </td><td>NR/20               </td><td>10.2126             </td><td>+                   </td><td>PRGR_HUMAN.H11MO.0.A</td><td>5                   </td><td>14                  </td></tr>\n",
       "\t<tr><td>chr17               </td><td>10000091            </td><td>10001100            </td><td>1                   </td><td>chr17               </td><td>10000767            </td><td>10000781            </td><td>NR/20               </td><td>10.2126             </td><td>+                   </td><td>PRGR_HUMAN.H11MO.0.A</td><td>5                   </td><td>14                  </td></tr>\n",
       "\t<tr><td>chr17               </td><td>10000103            </td><td>10001181            </td><td>1                   </td><td>chr17               </td><td>10000767            </td><td>10000781            </td><td>NR/20               </td><td>10.2126             </td><td>+                   </td><td>PRGR_HUMAN.H11MO.0.A</td><td>5                   </td><td>14                  </td></tr>\n",
       "\t<tr><td>chr17               </td><td>10000140            </td><td>10001107            </td><td>1                   </td><td>chr17               </td><td>10000767            </td><td>10000781            </td><td>NR/20               </td><td>10.2126             </td><td>+                   </td><td>PRGR_HUMAN.H11MO.0.A</td><td>5                   </td><td>14                  </td></tr>\n",
       "\t<tr><td>chr17               </td><td>10000140            </td><td>10001110            </td><td>1                   </td><td>chr17               </td><td>10000767            </td><td>10000781            </td><td>NR/20               </td><td>10.2126             </td><td>+                   </td><td>PRGR_HUMAN.H11MO.0.A</td><td>5                   </td><td>14                  </td></tr>\n",
       "\t<tr><td>chr17               </td><td>10000156            </td><td>10001172            </td><td>2                   </td><td>chr17               </td><td>10000767            </td><td>10000781            </td><td>NR/20               </td><td>10.2126             </td><td>+                   </td><td>PRGR_HUMAN.H11MO.0.A</td><td>5                   </td><td>14                  </td></tr>\n",
       "\t<tr><td>chr17               </td><td>10000156            </td><td>10001173            </td><td>1                   </td><td>chr17               </td><td>10000767            </td><td>10000781            </td><td>NR/20               </td><td>10.2126             </td><td>+                   </td><td>PRGR_HUMAN.H11MO.0.A</td><td>5                   </td><td>14                  </td></tr>\n",
       "\t<tr><td>chr17               </td><td>10000157            </td><td>10001172            </td><td>1                   </td><td>chr17               </td><td>10000767            </td><td>10000781            </td><td>NR/20               </td><td>10.2126             </td><td>+                   </td><td>PRGR_HUMAN.H11MO.0.A</td><td>5                   </td><td>14                  </td></tr>\n",
       "\t<tr><td>chr17               </td><td>10000157            </td><td>10001173            </td><td>1                   </td><td>chr17               </td><td>10000767            </td><td>10000781            </td><td>NR/20               </td><td>10.2126             </td><td>+                   </td><td>PRGR_HUMAN.H11MO.0.A</td><td>5                   </td><td>14                  </td></tr>\n",
       "\t<tr><td>chr17               </td><td>10000158            </td><td>10001173            </td><td>1                   </td><td>chr17               </td><td>10000767            </td><td>10000781            </td><td>NR/20               </td><td>10.2126             </td><td>+                   </td><td>PRGR_HUMAN.H11MO.0.A</td><td>5                   </td><td>14                  </td></tr>\n",
       "\t<tr><td>chr17               </td><td>10000197            </td><td>10001241            </td><td>1                   </td><td>chr17               </td><td>10000767            </td><td>10000781            </td><td>NR/20               </td><td>10.2126             </td><td>+                   </td><td>PRGR_HUMAN.H11MO.0.A</td><td>5                   </td><td>14                  </td></tr>\n",
       "\t<tr><td>chr17               </td><td>10000205            </td><td>10001200            </td><td>1                   </td><td>chr17               </td><td>10000767            </td><td>10000781            </td><td>NR/20               </td><td>10.2126             </td><td>+                   </td><td>PRGR_HUMAN.H11MO.0.A</td><td>5                   </td><td>14                  </td></tr>\n",
       "\t<tr><td>chr17               </td><td>10000206            </td><td>10001200            </td><td>1                   </td><td>chr17               </td><td>10000767            </td><td>10000781            </td><td>NR/20               </td><td>10.2126             </td><td>+                   </td><td>PRGR_HUMAN.H11MO.0.A</td><td>5                   </td><td>14                  </td></tr>\n",
       "\t<tr><td>chr17               </td><td>10000238            </td><td>10001166            </td><td>1                   </td><td>chr17               </td><td>10000767            </td><td>10000781            </td><td>NR/20               </td><td>10.2126             </td><td>+                   </td><td>PRGR_HUMAN.H11MO.0.A</td><td>5                   </td><td>14                  </td></tr>\n",
       "\t<tr><td>chr17               </td><td>10000238            </td><td>10001167            </td><td>1                   </td><td>chr17               </td><td>10000767            </td><td>10000781            </td><td>NR/20               </td><td>10.2126             </td><td>+                   </td><td>PRGR_HUMAN.H11MO.0.A</td><td>5                   </td><td>14                  </td></tr>\n",
       "</tbody>\n",
       "</table>\n"
      ],
      "text/latex": [
       "\\begin{tabular}{r|lllllllllllll}\n",
       " chrom\\_frag & start\\_frag & end\\_frag & count\\_frag & chrom\\_ann & start\\_ann & end\\_ann & archetype & score & strand & motif & x & overlap\\\\\n",
       "\\hline\n",
       "\t chr17                  & 10000013               & 10001044               & 1                      & chr17                  & 10000767               & 10000781               & NR/20                  & 10.2126                & +                      & PRGR\\_HUMAN.H11MO.0.A & 5                      & 14                    \\\\\n",
       "\t chr17                  & 10000013               & 10001045               & 2                      & chr17                  & 10000767               & 10000781               & NR/20                  & 10.2126                & +                      & PRGR\\_HUMAN.H11MO.0.A & 5                      & 14                    \\\\\n",
       "\t chr17                  & 10000014               & 10001044               & 1                      & chr17                  & 10000767               & 10000781               & NR/20                  & 10.2126                & +                      & PRGR\\_HUMAN.H11MO.0.A & 5                      & 14                    \\\\\n",
       "\t chr17                  & 10000014               & 10001045               & 1                      & chr17                  & 10000767               & 10000781               & NR/20                  & 10.2126                & +                      & PRGR\\_HUMAN.H11MO.0.A & 5                      & 14                    \\\\\n",
       "\t chr17                  & 10000026               & 10001090               & 1                      & chr17                  & 10000767               & 10000781               & NR/20                  & 10.2126                & +                      & PRGR\\_HUMAN.H11MO.0.A & 5                      & 14                    \\\\\n",
       "\t chr17                  & 10000090               & 10001098               & 1                      & chr17                  & 10000767               & 10000781               & NR/20                  & 10.2126                & +                      & PRGR\\_HUMAN.H11MO.0.A & 5                      & 14                    \\\\\n",
       "\t chr17                  & 10000091               & 10001100               & 1                      & chr17                  & 10000767               & 10000781               & NR/20                  & 10.2126                & +                      & PRGR\\_HUMAN.H11MO.0.A & 5                      & 14                    \\\\\n",
       "\t chr17                  & 10000103               & 10001181               & 1                      & chr17                  & 10000767               & 10000781               & NR/20                  & 10.2126                & +                      & PRGR\\_HUMAN.H11MO.0.A & 5                      & 14                    \\\\\n",
       "\t chr17                  & 10000140               & 10001107               & 1                      & chr17                  & 10000767               & 10000781               & NR/20                  & 10.2126                & +                      & PRGR\\_HUMAN.H11MO.0.A & 5                      & 14                    \\\\\n",
       "\t chr17                  & 10000140               & 10001110               & 1                      & chr17                  & 10000767               & 10000781               & NR/20                  & 10.2126                & +                      & PRGR\\_HUMAN.H11MO.0.A & 5                      & 14                    \\\\\n",
       "\t chr17                  & 10000156               & 10001172               & 2                      & chr17                  & 10000767               & 10000781               & NR/20                  & 10.2126                & +                      & PRGR\\_HUMAN.H11MO.0.A & 5                      & 14                    \\\\\n",
       "\t chr17                  & 10000156               & 10001173               & 1                      & chr17                  & 10000767               & 10000781               & NR/20                  & 10.2126                & +                      & PRGR\\_HUMAN.H11MO.0.A & 5                      & 14                    \\\\\n",
       "\t chr17                  & 10000157               & 10001172               & 1                      & chr17                  & 10000767               & 10000781               & NR/20                  & 10.2126                & +                      & PRGR\\_HUMAN.H11MO.0.A & 5                      & 14                    \\\\\n",
       "\t chr17                  & 10000157               & 10001173               & 1                      & chr17                  & 10000767               & 10000781               & NR/20                  & 10.2126                & +                      & PRGR\\_HUMAN.H11MO.0.A & 5                      & 14                    \\\\\n",
       "\t chr17                  & 10000158               & 10001173               & 1                      & chr17                  & 10000767               & 10000781               & NR/20                  & 10.2126                & +                      & PRGR\\_HUMAN.H11MO.0.A & 5                      & 14                    \\\\\n",
       "\t chr17                  & 10000197               & 10001241               & 1                      & chr17                  & 10000767               & 10000781               & NR/20                  & 10.2126                & +                      & PRGR\\_HUMAN.H11MO.0.A & 5                      & 14                    \\\\\n",
       "\t chr17                  & 10000205               & 10001200               & 1                      & chr17                  & 10000767               & 10000781               & NR/20                  & 10.2126                & +                      & PRGR\\_HUMAN.H11MO.0.A & 5                      & 14                    \\\\\n",
       "\t chr17                  & 10000206               & 10001200               & 1                      & chr17                  & 10000767               & 10000781               & NR/20                  & 10.2126                & +                      & PRGR\\_HUMAN.H11MO.0.A & 5                      & 14                    \\\\\n",
       "\t chr17                  & 10000238               & 10001166               & 1                      & chr17                  & 10000767               & 10000781               & NR/20                  & 10.2126                & +                      & PRGR\\_HUMAN.H11MO.0.A & 5                      & 14                    \\\\\n",
       "\t chr17                  & 10000238               & 10001167               & 1                      & chr17                  & 10000767               & 10000781               & NR/20                  & 10.2126                & +                      & PRGR\\_HUMAN.H11MO.0.A & 5                      & 14                    \\\\\n",
       "\\end{tabular}\n"
      ],
      "text/markdown": [
       "\n",
       "| chrom_frag | start_frag | end_frag | count_frag | chrom_ann | start_ann | end_ann | archetype | score | strand | motif | x | overlap |\n",
       "|---|---|---|---|---|---|---|---|---|---|---|---|---|\n",
       "| chr17                | 10000013             | 10001044             | 1                    | chr17                | 10000767             | 10000781             | NR/20                | 10.2126              | +                    | PRGR_HUMAN.H11MO.0.A | 5                    | 14                   |\n",
       "| chr17                | 10000013             | 10001045             | 2                    | chr17                | 10000767             | 10000781             | NR/20                | 10.2126              | +                    | PRGR_HUMAN.H11MO.0.A | 5                    | 14                   |\n",
       "| chr17                | 10000014             | 10001044             | 1                    | chr17                | 10000767             | 10000781             | NR/20                | 10.2126              | +                    | PRGR_HUMAN.H11MO.0.A | 5                    | 14                   |\n",
       "| chr17                | 10000014             | 10001045             | 1                    | chr17                | 10000767             | 10000781             | NR/20                | 10.2126              | +                    | PRGR_HUMAN.H11MO.0.A | 5                    | 14                   |\n",
       "| chr17                | 10000026             | 10001090             | 1                    | chr17                | 10000767             | 10000781             | NR/20                | 10.2126              | +                    | PRGR_HUMAN.H11MO.0.A | 5                    | 14                   |\n",
       "| chr17                | 10000090             | 10001098             | 1                    | chr17                | 10000767             | 10000781             | NR/20                | 10.2126              | +                    | PRGR_HUMAN.H11MO.0.A | 5                    | 14                   |\n",
       "| chr17                | 10000091             | 10001100             | 1                    | chr17                | 10000767             | 10000781             | NR/20                | 10.2126              | +                    | PRGR_HUMAN.H11MO.0.A | 5                    | 14                   |\n",
       "| chr17                | 10000103             | 10001181             | 1                    | chr17                | 10000767             | 10000781             | NR/20                | 10.2126              | +                    | PRGR_HUMAN.H11MO.0.A | 5                    | 14                   |\n",
       "| chr17                | 10000140             | 10001107             | 1                    | chr17                | 10000767             | 10000781             | NR/20                | 10.2126              | +                    | PRGR_HUMAN.H11MO.0.A | 5                    | 14                   |\n",
       "| chr17                | 10000140             | 10001110             | 1                    | chr17                | 10000767             | 10000781             | NR/20                | 10.2126              | +                    | PRGR_HUMAN.H11MO.0.A | 5                    | 14                   |\n",
       "| chr17                | 10000156             | 10001172             | 2                    | chr17                | 10000767             | 10000781             | NR/20                | 10.2126              | +                    | PRGR_HUMAN.H11MO.0.A | 5                    | 14                   |\n",
       "| chr17                | 10000156             | 10001173             | 1                    | chr17                | 10000767             | 10000781             | NR/20                | 10.2126              | +                    | PRGR_HUMAN.H11MO.0.A | 5                    | 14                   |\n",
       "| chr17                | 10000157             | 10001172             | 1                    | chr17                | 10000767             | 10000781             | NR/20                | 10.2126              | +                    | PRGR_HUMAN.H11MO.0.A | 5                    | 14                   |\n",
       "| chr17                | 10000157             | 10001173             | 1                    | chr17                | 10000767             | 10000781             | NR/20                | 10.2126              | +                    | PRGR_HUMAN.H11MO.0.A | 5                    | 14                   |\n",
       "| chr17                | 10000158             | 10001173             | 1                    | chr17                | 10000767             | 10000781             | NR/20                | 10.2126              | +                    | PRGR_HUMAN.H11MO.0.A | 5                    | 14                   |\n",
       "| chr17                | 10000197             | 10001241             | 1                    | chr17                | 10000767             | 10000781             | NR/20                | 10.2126              | +                    | PRGR_HUMAN.H11MO.0.A | 5                    | 14                   |\n",
       "| chr17                | 10000205             | 10001200             | 1                    | chr17                | 10000767             | 10000781             | NR/20                | 10.2126              | +                    | PRGR_HUMAN.H11MO.0.A | 5                    | 14                   |\n",
       "| chr17                | 10000206             | 10001200             | 1                    | chr17                | 10000767             | 10000781             | NR/20                | 10.2126              | +                    | PRGR_HUMAN.H11MO.0.A | 5                    | 14                   |\n",
       "| chr17                | 10000238             | 10001166             | 1                    | chr17                | 10000767             | 10000781             | NR/20                | 10.2126              | +                    | PRGR_HUMAN.H11MO.0.A | 5                    | 14                   |\n",
       "| chr17                | 10000238             | 10001167             | 1                    | chr17                | 10000767             | 10000781             | NR/20                | 10.2126              | +                    | PRGR_HUMAN.H11MO.0.A | 5                    | 14                   |\n",
       "\n"
      ],
      "text/plain": [
       "   chrom_frag start_frag end_frag count_frag chrom_ann start_ann end_ann \n",
       "1  chr17      10000013   10001044 1          chr17     10000767  10000781\n",
       "2  chr17      10000013   10001045 2          chr17     10000767  10000781\n",
       "3  chr17      10000014   10001044 1          chr17     10000767  10000781\n",
       "4  chr17      10000014   10001045 1          chr17     10000767  10000781\n",
       "5  chr17      10000026   10001090 1          chr17     10000767  10000781\n",
       "6  chr17      10000090   10001098 1          chr17     10000767  10000781\n",
       "7  chr17      10000091   10001100 1          chr17     10000767  10000781\n",
       "8  chr17      10000103   10001181 1          chr17     10000767  10000781\n",
       "9  chr17      10000140   10001107 1          chr17     10000767  10000781\n",
       "10 chr17      10000140   10001110 1          chr17     10000767  10000781\n",
       "11 chr17      10000156   10001172 2          chr17     10000767  10000781\n",
       "12 chr17      10000156   10001173 1          chr17     10000767  10000781\n",
       "13 chr17      10000157   10001172 1          chr17     10000767  10000781\n",
       "14 chr17      10000157   10001173 1          chr17     10000767  10000781\n",
       "15 chr17      10000158   10001173 1          chr17     10000767  10000781\n",
       "16 chr17      10000197   10001241 1          chr17     10000767  10000781\n",
       "17 chr17      10000205   10001200 1          chr17     10000767  10000781\n",
       "18 chr17      10000206   10001200 1          chr17     10000767  10000781\n",
       "19 chr17      10000238   10001166 1          chr17     10000767  10000781\n",
       "20 chr17      10000238   10001167 1          chr17     10000767  10000781\n",
       "   archetype score   strand motif                x overlap\n",
       "1  NR/20     10.2126 +      PRGR_HUMAN.H11MO.0.A 5 14     \n",
       "2  NR/20     10.2126 +      PRGR_HUMAN.H11MO.0.A 5 14     \n",
       "3  NR/20     10.2126 +      PRGR_HUMAN.H11MO.0.A 5 14     \n",
       "4  NR/20     10.2126 +      PRGR_HUMAN.H11MO.0.A 5 14     \n",
       "5  NR/20     10.2126 +      PRGR_HUMAN.H11MO.0.A 5 14     \n",
       "6  NR/20     10.2126 +      PRGR_HUMAN.H11MO.0.A 5 14     \n",
       "7  NR/20     10.2126 +      PRGR_HUMAN.H11MO.0.A 5 14     \n",
       "8  NR/20     10.2126 +      PRGR_HUMAN.H11MO.0.A 5 14     \n",
       "9  NR/20     10.2126 +      PRGR_HUMAN.H11MO.0.A 5 14     \n",
       "10 NR/20     10.2126 +      PRGR_HUMAN.H11MO.0.A 5 14     \n",
       "11 NR/20     10.2126 +      PRGR_HUMAN.H11MO.0.A 5 14     \n",
       "12 NR/20     10.2126 +      PRGR_HUMAN.H11MO.0.A 5 14     \n",
       "13 NR/20     10.2126 +      PRGR_HUMAN.H11MO.0.A 5 14     \n",
       "14 NR/20     10.2126 +      PRGR_HUMAN.H11MO.0.A 5 14     \n",
       "15 NR/20     10.2126 +      PRGR_HUMAN.H11MO.0.A 5 14     \n",
       "16 NR/20     10.2126 +      PRGR_HUMAN.H11MO.0.A 5 14     \n",
       "17 NR/20     10.2126 +      PRGR_HUMAN.H11MO.0.A 5 14     \n",
       "18 NR/20     10.2126 +      PRGR_HUMAN.H11MO.0.A 5 14     \n",
       "19 NR/20     10.2126 +      PRGR_HUMAN.H11MO.0.A 5 14     \n",
       "20 NR/20     10.2126 +      PRGR_HUMAN.H11MO.0.A 5 14     "
      ]
     },
     "metadata": {},
     "output_type": "display_data"
    }
   ],
   "source": [
    "head(dat_input_c248, 20)"
   ]
  },
  {
   "cell_type": "code",
   "execution_count": null,
   "id": "530412bc-7ee4-4074-90d2-f298c29ad309",
   "metadata": {},
   "outputs": [],
   "source": []
  },
  {
   "cell_type": "code",
   "execution_count": null,
   "id": "70864ec0-0460-4215-a695-f17421babcef",
   "metadata": {},
   "outputs": [],
   "source": []
  },
  {
   "cell_type": "code",
   "execution_count": 5,
   "id": "8cee3fd7-07bd-40b5-a9bf-8cc4d093f68a",
   "metadata": {},
   "outputs": [
    {
     "name": "stderr",
     "output_type": "stream",
     "text": [
      "`summarise()` has grouped output by 'chrom_frag', 'start_frag', 'end_frag'. You can override using the `.groups` argument.\n"
     ]
    }
   ],
   "source": [
    "dat1 = dat_input_c248 %>% dplyr::select(\"chrom_frag\", \"start_frag\", \"end_frag\", \"count_frag\", \"archetype\") %>% distinct\n",
    "dat2 = dat_input_c054 %>% dplyr::select(\"chrom_frag\", \"start_frag\", \"end_frag\", \"count_frag\", \"archetype\") %>% distinct\n",
    "\n",
    "dat_input = bind_rows(dat1, dat2) %>% \n",
    "    group_by(chrom_frag, start_frag, end_frag, count_frag) %>% \n",
    "    summarize(\n",
    "        combination = paste(archetype, collapse = '|')\n",
    "    )"
   ]
  },
  {
   "cell_type": "code",
   "execution_count": 6,
   "id": "71b21817-ac7d-4176-a17e-53271dcbfc8b",
   "metadata": {},
   "outputs": [
    {
     "data": {
      "text/html": [
       "<table>\n",
       "<thead><tr><th scope=col>combination</th><th scope=col>count</th></tr></thead>\n",
       "<tbody>\n",
       "\t<tr><td>AP1/1      </td><td>1507794    </td></tr>\n",
       "\t<tr><td>NR/20      </td><td> 372340    </td></tr>\n",
       "\t<tr><td>NR/20|AP1/1</td><td> 642145    </td></tr>\n",
       "</tbody>\n",
       "</table>\n"
      ],
      "text/latex": [
       "\\begin{tabular}{r|ll}\n",
       " combination & count\\\\\n",
       "\\hline\n",
       "\t AP1/1       & 1507794    \\\\\n",
       "\t NR/20       &  372340    \\\\\n",
       "\t NR/20\\textbar{}AP1/1 &  642145              \\\\\n",
       "\\end{tabular}\n"
      ],
      "text/markdown": [
       "\n",
       "| combination | count |\n",
       "|---|---|\n",
       "| AP1/1       | 1507794     |\n",
       "| NR/20       |  372340     |\n",
       "| NR/20|AP1/1 |  642145     |\n",
       "\n"
      ],
      "text/plain": [
       "  combination count  \n",
       "1 AP1/1       1507794\n",
       "2 NR/20        372340\n",
       "3 NR/20|AP1/1  642145"
      ]
     },
     "metadata": {},
     "output_type": "display_data"
    }
   ],
   "source": [
    "tmp = dat_input %>% group_by(combination) %>% summarise(count=sum(count_frag))\n",
    "tmp"
   ]
  },
  {
   "cell_type": "code",
   "execution_count": 7,
   "id": "783e9760-fa41-481f-9af5-e19ea6548496",
   "metadata": {},
   "outputs": [
    {
     "name": "stderr",
     "output_type": "stream",
     "text": [
      "`summarise()` has grouped output by 'chrom_frag', 'start_frag', 'end_frag'. You can override using the `.groups` argument.\n"
     ]
    }
   ],
   "source": [
    "dat1 = dat_dmso_c248 %>% dplyr::select(\"chrom_frag\", \"start_frag\", \"end_frag\", \"count_frag\", \"archetype\") %>% distinct\n",
    "dat2 = dat_dmso_c054 %>% dplyr::select(\"chrom_frag\", \"start_frag\", \"end_frag\", \"count_frag\", \"archetype\") %>% distinct\n",
    "\n",
    "dat_dmso = bind_rows(dat1, dat2) %>% \n",
    "    group_by(chrom_frag, start_frag, end_frag, count_frag) %>% \n",
    "    summarize(\n",
    "        combination = paste(archetype, collapse = '|')\n",
    "    )"
   ]
  },
  {
   "cell_type": "code",
   "execution_count": 8,
   "id": "521cb2c5-a565-4f69-8aa7-4b4b503923e9",
   "metadata": {},
   "outputs": [
    {
     "data": {
      "text/html": [
       "<table>\n",
       "<thead><tr><th scope=col>combination</th><th scope=col>count</th></tr></thead>\n",
       "<tbody>\n",
       "\t<tr><td>AP1/1      </td><td>2337011    </td></tr>\n",
       "\t<tr><td>NR/20      </td><td> 683178    </td></tr>\n",
       "\t<tr><td>NR/20|AP1/1</td><td>1140816    </td></tr>\n",
       "</tbody>\n",
       "</table>\n"
      ],
      "text/latex": [
       "\\begin{tabular}{r|ll}\n",
       " combination & count\\\\\n",
       "\\hline\n",
       "\t AP1/1       & 2337011    \\\\\n",
       "\t NR/20       &  683178    \\\\\n",
       "\t NR/20\\textbar{}AP1/1 & 1140816              \\\\\n",
       "\\end{tabular}\n"
      ],
      "text/markdown": [
       "\n",
       "| combination | count |\n",
       "|---|---|\n",
       "| AP1/1       | 2337011     |\n",
       "| NR/20       |  683178     |\n",
       "| NR/20|AP1/1 | 1140816     |\n",
       "\n"
      ],
      "text/plain": [
       "  combination count  \n",
       "1 AP1/1       2337011\n",
       "2 NR/20        683178\n",
       "3 NR/20|AP1/1 1140816"
      ]
     },
     "metadata": {},
     "output_type": "display_data"
    }
   ],
   "source": [
    "tmp = dat_dmso %>% group_by(combination) %>% summarise(count=sum(count_frag))\n",
    "tmp"
   ]
  },
  {
   "cell_type": "code",
   "execution_count": 9,
   "id": "a0bf6659-d211-489e-9f79-7a729b1a7eb0",
   "metadata": {},
   "outputs": [
    {
     "name": "stderr",
     "output_type": "stream",
     "text": [
      "`summarise()` has grouped output by 'chrom_frag', 'start_frag', 'end_frag'. You can override using the `.groups` argument.\n"
     ]
    }
   ],
   "source": [
    "dat1 = dat_dex_c248 %>% dplyr::select(\"chrom_frag\", \"start_frag\", \"end_frag\", \"count_frag\", \"archetype\") %>% distinct\n",
    "dat2 = dat_dex_c054 %>% dplyr::select(\"chrom_frag\", \"start_frag\", \"end_frag\", \"count_frag\", \"archetype\") %>% distinct\n",
    "\n",
    "dat_dex = bind_rows(dat1, dat2) %>% \n",
    "    group_by(chrom_frag, start_frag, end_frag, count_frag) %>% \n",
    "    summarize(\n",
    "        combination = paste(archetype, collapse = '|')\n",
    "    )"
   ]
  },
  {
   "cell_type": "code",
   "execution_count": 10,
   "id": "8ec0545b-6a33-4973-b5b3-538cd3dc9077",
   "metadata": {},
   "outputs": [
    {
     "data": {
      "text/html": [
       "<table>\n",
       "<thead><tr><th scope=col>combination</th><th scope=col>count</th></tr></thead>\n",
       "<tbody>\n",
       "\t<tr><td>AP1/1      </td><td>2434090    </td></tr>\n",
       "\t<tr><td>NR/20      </td><td> 920920    </td></tr>\n",
       "\t<tr><td>NR/20|AP1/1</td><td>1673474    </td></tr>\n",
       "</tbody>\n",
       "</table>\n"
      ],
      "text/latex": [
       "\\begin{tabular}{r|ll}\n",
       " combination & count\\\\\n",
       "\\hline\n",
       "\t AP1/1       & 2434090    \\\\\n",
       "\t NR/20       &  920920    \\\\\n",
       "\t NR/20\\textbar{}AP1/1 & 1673474              \\\\\n",
       "\\end{tabular}\n"
      ],
      "text/markdown": [
       "\n",
       "| combination | count |\n",
       "|---|---|\n",
       "| AP1/1       | 2434090     |\n",
       "| NR/20       |  920920     |\n",
       "| NR/20|AP1/1 | 1673474     |\n",
       "\n"
      ],
      "text/plain": [
       "  combination count  \n",
       "1 AP1/1       2434090\n",
       "2 NR/20        920920\n",
       "3 NR/20|AP1/1 1673474"
      ]
     },
     "metadata": {},
     "output_type": "display_data"
    }
   ],
   "source": [
    "tmp = dat_dex %>% group_by(combination) %>% summarise(count=sum(count_frag))\n",
    "tmp"
   ]
  },
  {
   "cell_type": "code",
   "execution_count": null,
   "id": "e9dae84d-d235-41fb-b4b7-f856763298f8",
   "metadata": {},
   "outputs": [],
   "source": []
  },
  {
   "cell_type": "code",
   "execution_count": null,
   "id": "38d908b8-5e73-4772-b10c-62cf86ad9503",
   "metadata": {},
   "outputs": [],
   "source": []
  },
  {
   "cell_type": "code",
   "execution_count": null,
   "id": "b7d6c40a-640c-4e16-be3b-67bda2228b67",
   "metadata": {},
   "outputs": [],
   "source": [
    "dat_input_c248 = dat_input_c248 %>% dplyr::select(\"chrom_frag\", \"start_frag\", \"end_frag\", \"count_frag\", \"archetype\") %>% distinct\n",
    "dat_input_c054 = dat_input_c248 %>% dplyr::select(\"chrom_frag\", \"start_frag\", \"end_frag\", \"count_frag\", \"archetype\") %>% distinct\n",
    "\n",
    "dat_dmso_c248 = read_tsv(file.path(FD_OUT, \"cluster248.bed\"), col_names=cnames, col_types=ctypes)\n",
    "dat_dmso_c054 = read_tsv(file.path(FD_OUT, \"cluster054.bed\"), col_names=cnames, col_types=ctypes)\n",
    "\n",
    "dat_dex_c248 = read_tsv(file.path(FD_OUT, \"cluster248.bed\"), col_names=cnames, col_types=ctypes)\n",
    "dat_dex_c054 = read_tsv(file.path(FD_OUT, \"cluster054.bed\"), col_names=cnames, col_types=ctypes)"
   ]
  },
  {
   "cell_type": "code",
   "execution_count": null,
   "id": "e7663248-6fec-42da-90e4-807d7c31efb7",
   "metadata": {},
   "outputs": [],
   "source": [
    "dat1 = dat1 %>% dplyr::select(\"chrom_frag\", \"start_frag\", \"end_frag\", \"count_frag\", \"archetype\") %>% distinct\n",
    "dat2 = dat2 %>% dplyr::select(\"chrom_frag\", \"start_frag\", \"end_frag\", \"count_frag\", \"archetype\") %>% distinct\n",
    "dat3 = dat3 %>% dplyr::select(\"chrom_frag\", \"start_frag\", \"end_frag\", \"count_frag\", \"archetype\") %>% distinct\n",
    "dat4 = dat4 %>% dplyr::select(\"chrom_frag\", \"start_frag\", \"end_frag\", \"count_frag\", \"archetype\") %>% distinct\n",
    "\n",
    "dat = bind_rows(dat1, dat2, dat3, dat4) %>% \n",
    "    group_by(chrom_frag, start_frag, end_frag, count_frag) %>% \n",
    "    summarize(\n",
    "        combination = paste(archetype, collapse = '|')\n",
    "    )"
   ]
  },
  {
   "cell_type": "code",
   "execution_count": null,
   "id": "4414eafd-bb5e-47e4-887f-1cfff52b4dab",
   "metadata": {},
   "outputs": [],
   "source": []
  },
  {
   "cell_type": "code",
   "execution_count": null,
   "id": "af0ec6c1-064a-4d47-8979-84e9049108ee",
   "metadata": {},
   "outputs": [],
   "source": []
  },
  {
   "cell_type": "code",
   "execution_count": null,
   "id": "60ac3e53-fd29-49b4-8f4b-5d3a872bd352",
   "metadata": {},
   "outputs": [],
   "source": []
  },
  {
   "cell_type": "code",
   "execution_count": null,
   "id": "3766ca29-d89b-458e-b963-76996eba7be5",
   "metadata": {},
   "outputs": [],
   "source": []
  },
  {
   "cell_type": "code",
   "execution_count": null,
   "id": "0f33f7d8-e3f1-493e-b9bb-4eb63755d595",
   "metadata": {},
   "outputs": [],
   "source": []
  },
  {
   "cell_type": "code",
   "execution_count": null,
   "id": "babf5064-4f81-4623-93e3-ebbf2708869a",
   "metadata": {},
   "outputs": [],
   "source": []
  },
  {
   "cell_type": "code",
   "execution_count": null,
   "id": "6bc3b974-da53-485c-8a4d-d67f52a68f6b",
   "metadata": {},
   "outputs": [],
   "source": []
  },
  {
   "cell_type": "code",
   "execution_count": 9,
   "id": "a5126fe7-a6c0-4afe-a4c1-098668efffbc",
   "metadata": {},
   "outputs": [
    {
     "name": "stdout",
     "output_type": "stream",
     "text": [
      "[1] 2732502      13\n"
     ]
    },
    {
     "data": {
      "text/html": [
       "<table>\n",
       "<thead><tr><th scope=col>chrom_frag</th><th scope=col>start_frag</th><th scope=col>end_frag</th><th scope=col>count_frag</th><th scope=col>chrom_ann</th><th scope=col>start_ann</th><th scope=col>end_ann</th><th scope=col>archetype</th><th scope=col>score</th><th scope=col>strand</th><th scope=col>motif</th><th scope=col>x</th><th scope=col>overlap</th></tr></thead>\n",
       "<tbody>\n",
       "\t<tr><td>chr17               </td><td>10000013            </td><td>10001044            </td><td>1                   </td><td>chr17               </td><td>10000767            </td><td>10000781            </td><td>NR/20               </td><td>10.2126             </td><td>+                   </td><td>PRGR_HUMAN.H11MO.0.A</td><td>5                   </td><td>14                  </td></tr>\n",
       "\t<tr><td>chr17               </td><td>10000013            </td><td>10001045            </td><td>2                   </td><td>chr17               </td><td>10000767            </td><td>10000781            </td><td>NR/20               </td><td>10.2126             </td><td>+                   </td><td>PRGR_HUMAN.H11MO.0.A</td><td>5                   </td><td>14                  </td></tr>\n",
       "\t<tr><td>chr17               </td><td>10000014            </td><td>10001044            </td><td>1                   </td><td>chr17               </td><td>10000767            </td><td>10000781            </td><td>NR/20               </td><td>10.2126             </td><td>+                   </td><td>PRGR_HUMAN.H11MO.0.A</td><td>5                   </td><td>14                  </td></tr>\n",
       "\t<tr><td>chr17               </td><td>10000014            </td><td>10001045            </td><td>1                   </td><td>chr17               </td><td>10000767            </td><td>10000781            </td><td>NR/20               </td><td>10.2126             </td><td>+                   </td><td>PRGR_HUMAN.H11MO.0.A</td><td>5                   </td><td>14                  </td></tr>\n",
       "\t<tr><td>chr17               </td><td>10000026            </td><td>10001090            </td><td>1                   </td><td>chr17               </td><td>10000767            </td><td>10000781            </td><td>NR/20               </td><td>10.2126             </td><td>+                   </td><td>PRGR_HUMAN.H11MO.0.A</td><td>5                   </td><td>14                  </td></tr>\n",
       "\t<tr><td>chr17               </td><td>10000090            </td><td>10001098            </td><td>1                   </td><td>chr17               </td><td>10000767            </td><td>10000781            </td><td>NR/20               </td><td>10.2126             </td><td>+                   </td><td>PRGR_HUMAN.H11MO.0.A</td><td>5                   </td><td>14                  </td></tr>\n",
       "</tbody>\n",
       "</table>\n"
      ],
      "text/latex": [
       "\\begin{tabular}{r|lllllllllllll}\n",
       " chrom\\_frag & start\\_frag & end\\_frag & count\\_frag & chrom\\_ann & start\\_ann & end\\_ann & archetype & score & strand & motif & x & overlap\\\\\n",
       "\\hline\n",
       "\t chr17                  & 10000013               & 10001044               & 1                      & chr17                  & 10000767               & 10000781               & NR/20                  & 10.2126                & +                      & PRGR\\_HUMAN.H11MO.0.A & 5                      & 14                    \\\\\n",
       "\t chr17                  & 10000013               & 10001045               & 2                      & chr17                  & 10000767               & 10000781               & NR/20                  & 10.2126                & +                      & PRGR\\_HUMAN.H11MO.0.A & 5                      & 14                    \\\\\n",
       "\t chr17                  & 10000014               & 10001044               & 1                      & chr17                  & 10000767               & 10000781               & NR/20                  & 10.2126                & +                      & PRGR\\_HUMAN.H11MO.0.A & 5                      & 14                    \\\\\n",
       "\t chr17                  & 10000014               & 10001045               & 1                      & chr17                  & 10000767               & 10000781               & NR/20                  & 10.2126                & +                      & PRGR\\_HUMAN.H11MO.0.A & 5                      & 14                    \\\\\n",
       "\t chr17                  & 10000026               & 10001090               & 1                      & chr17                  & 10000767               & 10000781               & NR/20                  & 10.2126                & +                      & PRGR\\_HUMAN.H11MO.0.A & 5                      & 14                    \\\\\n",
       "\t chr17                  & 10000090               & 10001098               & 1                      & chr17                  & 10000767               & 10000781               & NR/20                  & 10.2126                & +                      & PRGR\\_HUMAN.H11MO.0.A & 5                      & 14                    \\\\\n",
       "\\end{tabular}\n"
      ],
      "text/markdown": [
       "\n",
       "| chrom_frag | start_frag | end_frag | count_frag | chrom_ann | start_ann | end_ann | archetype | score | strand | motif | x | overlap |\n",
       "|---|---|---|---|---|---|---|---|---|---|---|---|---|\n",
       "| chr17                | 10000013             | 10001044             | 1                    | chr17                | 10000767             | 10000781             | NR/20                | 10.2126              | +                    | PRGR_HUMAN.H11MO.0.A | 5                    | 14                   |\n",
       "| chr17                | 10000013             | 10001045             | 2                    | chr17                | 10000767             | 10000781             | NR/20                | 10.2126              | +                    | PRGR_HUMAN.H11MO.0.A | 5                    | 14                   |\n",
       "| chr17                | 10000014             | 10001044             | 1                    | chr17                | 10000767             | 10000781             | NR/20                | 10.2126              | +                    | PRGR_HUMAN.H11MO.0.A | 5                    | 14                   |\n",
       "| chr17                | 10000014             | 10001045             | 1                    | chr17                | 10000767             | 10000781             | NR/20                | 10.2126              | +                    | PRGR_HUMAN.H11MO.0.A | 5                    | 14                   |\n",
       "| chr17                | 10000026             | 10001090             | 1                    | chr17                | 10000767             | 10000781             | NR/20                | 10.2126              | +                    | PRGR_HUMAN.H11MO.0.A | 5                    | 14                   |\n",
       "| chr17                | 10000090             | 10001098             | 1                    | chr17                | 10000767             | 10000781             | NR/20                | 10.2126              | +                    | PRGR_HUMAN.H11MO.0.A | 5                    | 14                   |\n",
       "\n"
      ],
      "text/plain": [
       "  chrom_frag start_frag end_frag count_frag chrom_ann start_ann end_ann \n",
       "1 chr17      10000013   10001044 1          chr17     10000767  10000781\n",
       "2 chr17      10000013   10001045 2          chr17     10000767  10000781\n",
       "3 chr17      10000014   10001044 1          chr17     10000767  10000781\n",
       "4 chr17      10000014   10001045 1          chr17     10000767  10000781\n",
       "5 chr17      10000026   10001090 1          chr17     10000767  10000781\n",
       "6 chr17      10000090   10001098 1          chr17     10000767  10000781\n",
       "  archetype score   strand motif                x overlap\n",
       "1 NR/20     10.2126 +      PRGR_HUMAN.H11MO.0.A 5 14     \n",
       "2 NR/20     10.2126 +      PRGR_HUMAN.H11MO.0.A 5 14     \n",
       "3 NR/20     10.2126 +      PRGR_HUMAN.H11MO.0.A 5 14     \n",
       "4 NR/20     10.2126 +      PRGR_HUMAN.H11MO.0.A 5 14     \n",
       "5 NR/20     10.2126 +      PRGR_HUMAN.H11MO.0.A 5 14     \n",
       "6 NR/20     10.2126 +      PRGR_HUMAN.H11MO.0.A 5 14     "
      ]
     },
     "metadata": {},
     "output_type": "display_data"
    }
   ],
   "source": [
    "print(dim(dat1))\n",
    "head(dat1)"
   ]
  },
  {
   "cell_type": "code",
   "execution_count": 14,
   "id": "509ffb99-c640-407e-970d-b1704c041395",
   "metadata": {},
   "outputs": [
    {
     "name": "stdout",
     "output_type": "stream",
     "text": [
      "[1] 2391209       6\n"
     ]
    },
    {
     "data": {
      "text/html": [
       "<table>\n",
       "<thead><tr><th scope=col>chrom_frag</th><th scope=col>start_frag</th><th scope=col>end_frag</th><th scope=col>count_frag</th><th scope=col>archetype</th><th scope=col>motif</th></tr></thead>\n",
       "<tbody>\n",
       "\t<tr><td>chr17               </td><td>10000013            </td><td>10001044            </td><td>1                   </td><td>NR/20               </td><td>PRGR_HUMAN.H11MO.0.A</td></tr>\n",
       "\t<tr><td>chr17               </td><td>10000013            </td><td>10001045            </td><td>2                   </td><td>NR/20               </td><td>PRGR_HUMAN.H11MO.0.A</td></tr>\n",
       "\t<tr><td>chr17               </td><td>10000014            </td><td>10001044            </td><td>1                   </td><td>NR/20               </td><td>PRGR_HUMAN.H11MO.0.A</td></tr>\n",
       "\t<tr><td>chr17               </td><td>10000014            </td><td>10001045            </td><td>1                   </td><td>NR/20               </td><td>PRGR_HUMAN.H11MO.0.A</td></tr>\n",
       "\t<tr><td>chr17               </td><td>10000026            </td><td>10001090            </td><td>1                   </td><td>NR/20               </td><td>PRGR_HUMAN.H11MO.0.A</td></tr>\n",
       "\t<tr><td>chr17               </td><td>10000090            </td><td>10001098            </td><td>1                   </td><td>NR/20               </td><td>PRGR_HUMAN.H11MO.0.A</td></tr>\n",
       "</tbody>\n",
       "</table>\n"
      ],
      "text/latex": [
       "\\begin{tabular}{r|llllll}\n",
       " chrom\\_frag & start\\_frag & end\\_frag & count\\_frag & archetype & motif\\\\\n",
       "\\hline\n",
       "\t chr17                  & 10000013               & 10001044               & 1                      & NR/20                  & PRGR\\_HUMAN.H11MO.0.A\\\\\n",
       "\t chr17                  & 10000013               & 10001045               & 2                      & NR/20                  & PRGR\\_HUMAN.H11MO.0.A\\\\\n",
       "\t chr17                  & 10000014               & 10001044               & 1                      & NR/20                  & PRGR\\_HUMAN.H11MO.0.A\\\\\n",
       "\t chr17                  & 10000014               & 10001045               & 1                      & NR/20                  & PRGR\\_HUMAN.H11MO.0.A\\\\\n",
       "\t chr17                  & 10000026               & 10001090               & 1                      & NR/20                  & PRGR\\_HUMAN.H11MO.0.A\\\\\n",
       "\t chr17                  & 10000090               & 10001098               & 1                      & NR/20                  & PRGR\\_HUMAN.H11MO.0.A\\\\\n",
       "\\end{tabular}\n"
      ],
      "text/markdown": [
       "\n",
       "| chrom_frag | start_frag | end_frag | count_frag | archetype | motif |\n",
       "|---|---|---|---|---|---|\n",
       "| chr17                | 10000013             | 10001044             | 1                    | NR/20                | PRGR_HUMAN.H11MO.0.A |\n",
       "| chr17                | 10000013             | 10001045             | 2                    | NR/20                | PRGR_HUMAN.H11MO.0.A |\n",
       "| chr17                | 10000014             | 10001044             | 1                    | NR/20                | PRGR_HUMAN.H11MO.0.A |\n",
       "| chr17                | 10000014             | 10001045             | 1                    | NR/20                | PRGR_HUMAN.H11MO.0.A |\n",
       "| chr17                | 10000026             | 10001090             | 1                    | NR/20                | PRGR_HUMAN.H11MO.0.A |\n",
       "| chr17                | 10000090             | 10001098             | 1                    | NR/20                | PRGR_HUMAN.H11MO.0.A |\n",
       "\n"
      ],
      "text/plain": [
       "  chrom_frag start_frag end_frag count_frag archetype motif               \n",
       "1 chr17      10000013   10001044 1          NR/20     PRGR_HUMAN.H11MO.0.A\n",
       "2 chr17      10000013   10001045 2          NR/20     PRGR_HUMAN.H11MO.0.A\n",
       "3 chr17      10000014   10001044 1          NR/20     PRGR_HUMAN.H11MO.0.A\n",
       "4 chr17      10000014   10001045 1          NR/20     PRGR_HUMAN.H11MO.0.A\n",
       "5 chr17      10000026   10001090 1          NR/20     PRGR_HUMAN.H11MO.0.A\n",
       "6 chr17      10000090   10001098 1          NR/20     PRGR_HUMAN.H11MO.0.A"
      ]
     },
     "metadata": {},
     "output_type": "display_data"
    }
   ],
   "source": [
    "tmp = dat1 %>% dplyr::select(\"chrom_frag\", \"start_frag\", \"end_frag\", \"count_frag\", \"archetype\", \"motif\") %>% distinct\n",
    "print(dim(tmp))\n",
    "head(tmp)"
   ]
  },
  {
   "cell_type": "code",
   "execution_count": 13,
   "id": "f98bb1ea-39d3-4252-a467-015a4e9ec39e",
   "metadata": {},
   "outputs": [
    {
     "name": "stdout",
     "output_type": "stream",
     "text": [
      "[1] 1873175       6\n"
     ]
    },
    {
     "data": {
      "text/html": [
       "<table>\n",
       "<thead><tr><th scope=col>chrom_frag</th><th scope=col>start_frag</th><th scope=col>end_frag</th><th scope=col>count_frag</th><th scope=col>archetype</th><th scope=col>overlap</th></tr></thead>\n",
       "<tbody>\n",
       "\t<tr><td>chr17   </td><td>10000013</td><td>10001044</td><td>1       </td><td>NR/20   </td><td>14      </td></tr>\n",
       "\t<tr><td>chr17   </td><td>10000013</td><td>10001045</td><td>2       </td><td>NR/20   </td><td>14      </td></tr>\n",
       "\t<tr><td>chr17   </td><td>10000014</td><td>10001044</td><td>1       </td><td>NR/20   </td><td>14      </td></tr>\n",
       "\t<tr><td>chr17   </td><td>10000014</td><td>10001045</td><td>1       </td><td>NR/20   </td><td>14      </td></tr>\n",
       "\t<tr><td>chr17   </td><td>10000026</td><td>10001090</td><td>1       </td><td>NR/20   </td><td>14      </td></tr>\n",
       "\t<tr><td>chr17   </td><td>10000090</td><td>10001098</td><td>1       </td><td>NR/20   </td><td>14      </td></tr>\n",
       "</tbody>\n",
       "</table>\n"
      ],
      "text/latex": [
       "\\begin{tabular}{r|llllll}\n",
       " chrom\\_frag & start\\_frag & end\\_frag & count\\_frag & archetype & overlap\\\\\n",
       "\\hline\n",
       "\t chr17    & 10000013 & 10001044 & 1        & NR/20    & 14      \\\\\n",
       "\t chr17    & 10000013 & 10001045 & 2        & NR/20    & 14      \\\\\n",
       "\t chr17    & 10000014 & 10001044 & 1        & NR/20    & 14      \\\\\n",
       "\t chr17    & 10000014 & 10001045 & 1        & NR/20    & 14      \\\\\n",
       "\t chr17    & 10000026 & 10001090 & 1        & NR/20    & 14      \\\\\n",
       "\t chr17    & 10000090 & 10001098 & 1        & NR/20    & 14      \\\\\n",
       "\\end{tabular}\n"
      ],
      "text/markdown": [
       "\n",
       "| chrom_frag | start_frag | end_frag | count_frag | archetype | overlap |\n",
       "|---|---|---|---|---|---|\n",
       "| chr17    | 10000013 | 10001044 | 1        | NR/20    | 14       |\n",
       "| chr17    | 10000013 | 10001045 | 2        | NR/20    | 14       |\n",
       "| chr17    | 10000014 | 10001044 | 1        | NR/20    | 14       |\n",
       "| chr17    | 10000014 | 10001045 | 1        | NR/20    | 14       |\n",
       "| chr17    | 10000026 | 10001090 | 1        | NR/20    | 14       |\n",
       "| chr17    | 10000090 | 10001098 | 1        | NR/20    | 14       |\n",
       "\n"
      ],
      "text/plain": [
       "  chrom_frag start_frag end_frag count_frag archetype overlap\n",
       "1 chr17      10000013   10001044 1          NR/20     14     \n",
       "2 chr17      10000013   10001045 2          NR/20     14     \n",
       "3 chr17      10000014   10001044 1          NR/20     14     \n",
       "4 chr17      10000014   10001045 1          NR/20     14     \n",
       "5 chr17      10000026   10001090 1          NR/20     14     \n",
       "6 chr17      10000090   10001098 1          NR/20     14     "
      ]
     },
     "metadata": {},
     "output_type": "display_data"
    }
   ],
   "source": [
    "tmp = dat1 %>% dplyr::select(\"chrom_frag\", \"start_frag\", \"end_frag\", \"count_frag\", \"archetype\", \"overlap\") %>% distinct\n",
    "print(dim(tmp))\n",
    "head(tmp)"
   ]
  },
  {
   "cell_type": "code",
   "execution_count": 15,
   "id": "1664bd84-13a8-4157-b4f0-73d8925f6541",
   "metadata": {},
   "outputs": [
    {
     "name": "stdout",
     "output_type": "stream",
     "text": [
      "[1] 1845682       5\n"
     ]
    },
    {
     "data": {
      "text/html": [
       "<table>\n",
       "<thead><tr><th scope=col>chrom_frag</th><th scope=col>start_frag</th><th scope=col>end_frag</th><th scope=col>count_frag</th><th scope=col>archetype</th></tr></thead>\n",
       "<tbody>\n",
       "\t<tr><td>chr17   </td><td>10000013</td><td>10001044</td><td>1       </td><td>NR/20   </td></tr>\n",
       "\t<tr><td>chr17   </td><td>10000013</td><td>10001045</td><td>2       </td><td>NR/20   </td></tr>\n",
       "\t<tr><td>chr17   </td><td>10000014</td><td>10001044</td><td>1       </td><td>NR/20   </td></tr>\n",
       "\t<tr><td>chr17   </td><td>10000014</td><td>10001045</td><td>1       </td><td>NR/20   </td></tr>\n",
       "\t<tr><td>chr17   </td><td>10000026</td><td>10001090</td><td>1       </td><td>NR/20   </td></tr>\n",
       "\t<tr><td>chr17   </td><td>10000090</td><td>10001098</td><td>1       </td><td>NR/20   </td></tr>\n",
       "</tbody>\n",
       "</table>\n"
      ],
      "text/latex": [
       "\\begin{tabular}{r|lllll}\n",
       " chrom\\_frag & start\\_frag & end\\_frag & count\\_frag & archetype\\\\\n",
       "\\hline\n",
       "\t chr17    & 10000013 & 10001044 & 1        & NR/20   \\\\\n",
       "\t chr17    & 10000013 & 10001045 & 2        & NR/20   \\\\\n",
       "\t chr17    & 10000014 & 10001044 & 1        & NR/20   \\\\\n",
       "\t chr17    & 10000014 & 10001045 & 1        & NR/20   \\\\\n",
       "\t chr17    & 10000026 & 10001090 & 1        & NR/20   \\\\\n",
       "\t chr17    & 10000090 & 10001098 & 1        & NR/20   \\\\\n",
       "\\end{tabular}\n"
      ],
      "text/markdown": [
       "\n",
       "| chrom_frag | start_frag | end_frag | count_frag | archetype |\n",
       "|---|---|---|---|---|\n",
       "| chr17    | 10000013 | 10001044 | 1        | NR/20    |\n",
       "| chr17    | 10000013 | 10001045 | 2        | NR/20    |\n",
       "| chr17    | 10000014 | 10001044 | 1        | NR/20    |\n",
       "| chr17    | 10000014 | 10001045 | 1        | NR/20    |\n",
       "| chr17    | 10000026 | 10001090 | 1        | NR/20    |\n",
       "| chr17    | 10000090 | 10001098 | 1        | NR/20    |\n",
       "\n"
      ],
      "text/plain": [
       "  chrom_frag start_frag end_frag count_frag archetype\n",
       "1 chr17      10000013   10001044 1          NR/20    \n",
       "2 chr17      10000013   10001045 2          NR/20    \n",
       "3 chr17      10000014   10001044 1          NR/20    \n",
       "4 chr17      10000014   10001045 1          NR/20    \n",
       "5 chr17      10000026   10001090 1          NR/20    \n",
       "6 chr17      10000090   10001098 1          NR/20    "
      ]
     },
     "metadata": {},
     "output_type": "display_data"
    }
   ],
   "source": [
    "tmp = dat1 %>% dplyr::select(\"chrom_frag\", \"start_frag\", \"end_frag\", \"count_frag\", \"archetype\") %>% distinct\n",
    "print(dim(tmp))\n",
    "head(tmp)"
   ]
  },
  {
   "cell_type": "markdown",
   "id": "9465e2cc-ec52-41f1-9794-dd69df51eb9e",
   "metadata": {},
   "source": [
    "### Summarize"
   ]
  },
  {
   "cell_type": "code",
   "execution_count": 25,
   "id": "bf044e1d-9aa3-4d3a-af06-e956a8e421de",
   "metadata": {},
   "outputs": [
    {
     "name": "stderr",
     "output_type": "stream",
     "text": [
      "`summarise()` has grouped output by 'chrom_frag', 'start_frag', 'end_frag'. You can override using the `.groups` argument.\n"
     ]
    }
   ],
   "source": [
    "dat1 = dat1 %>% dplyr::select(\"chrom_frag\", \"start_frag\", \"end_frag\", \"count_frag\", \"archetype\") %>% distinct\n",
    "dat2 = dat2 %>% dplyr::select(\"chrom_frag\", \"start_frag\", \"end_frag\", \"count_frag\", \"archetype\") %>% distinct\n",
    "dat3 = dat3 %>% dplyr::select(\"chrom_frag\", \"start_frag\", \"end_frag\", \"count_frag\", \"archetype\") %>% distinct\n",
    "dat4 = dat4 %>% dplyr::select(\"chrom_frag\", \"start_frag\", \"end_frag\", \"count_frag\", \"archetype\") %>% distinct\n",
    "\n",
    "dat = bind_rows(dat1, dat2, dat3, dat4) %>% \n",
    "    group_by(chrom_frag, start_frag, end_frag, count_frag) %>% \n",
    "    summarize(\n",
    "        combination = paste(archetype, collapse = '|')\n",
    "    )"
   ]
  },
  {
   "cell_type": "code",
   "execution_count": 26,
   "id": "a49e27bc-736d-4f5b-8aa0-ae09cb147c28",
   "metadata": {},
   "outputs": [
    {
     "data": {
      "text/html": [
       "<table>\n",
       "<thead><tr><th scope=col>chrom_frag</th><th scope=col>start_frag</th><th scope=col>end_frag</th><th scope=col>count_frag</th><th scope=col>combination</th></tr></thead>\n",
       "<tbody>\n",
       "\t<tr><td>chr17           </td><td> 70104          </td><td> 71559          </td><td>1               </td><td>AP1/1           </td></tr>\n",
       "\t<tr><td>chr17           </td><td> 83638          </td><td> 84547          </td><td>1               </td><td>AP1/1           </td></tr>\n",
       "\t<tr><td>chr17           </td><td> 92503          </td><td> 93508          </td><td>1               </td><td>AP1/1           </td></tr>\n",
       "\t<tr><td>chr17           </td><td>120738          </td><td>123102          </td><td>1               </td><td>AP1/1           </td></tr>\n",
       "\t<tr><td>chr17           </td><td>152554          </td><td>153491          </td><td>1               </td><td>CREB/ATF/1|AP1/1</td></tr>\n",
       "\t<tr><td>chr17           </td><td>152590          </td><td>153715          </td><td>1               </td><td>CREB/ATF/1|AP1/1</td></tr>\n",
       "</tbody>\n",
       "</table>\n"
      ],
      "text/latex": [
       "\\begin{tabular}{r|lllll}\n",
       " chrom\\_frag & start\\_frag & end\\_frag & count\\_frag & combination\\\\\n",
       "\\hline\n",
       "\t chr17            &  70104           &  71559           & 1                & AP1/1           \\\\\n",
       "\t chr17            &  83638           &  84547           & 1                & AP1/1           \\\\\n",
       "\t chr17            &  92503           &  93508           & 1                & AP1/1           \\\\\n",
       "\t chr17            & 120738           & 123102           & 1                & AP1/1           \\\\\n",
       "\t chr17                      & 152554                     & 153491                     & 1                          & CREB/ATF/1\\textbar{}AP1/1\\\\\n",
       "\t chr17                      & 152590                     & 153715                     & 1                          & CREB/ATF/1\\textbar{}AP1/1\\\\\n",
       "\\end{tabular}\n"
      ],
      "text/markdown": [
       "\n",
       "| chrom_frag | start_frag | end_frag | count_frag | combination |\n",
       "|---|---|---|---|---|\n",
       "| chr17            |  70104           |  71559           | 1                | AP1/1            |\n",
       "| chr17            |  83638           |  84547           | 1                | AP1/1            |\n",
       "| chr17            |  92503           |  93508           | 1                | AP1/1            |\n",
       "| chr17            | 120738           | 123102           | 1                | AP1/1            |\n",
       "| chr17            | 152554           | 153491           | 1                | CREB/ATF/1|AP1/1 |\n",
       "| chr17            | 152590           | 153715           | 1                | CREB/ATF/1|AP1/1 |\n",
       "\n"
      ],
      "text/plain": [
       "  chrom_frag start_frag end_frag count_frag combination     \n",
       "1 chr17       70104      71559   1          AP1/1           \n",
       "2 chr17       83638      84547   1          AP1/1           \n",
       "3 chr17       92503      93508   1          AP1/1           \n",
       "4 chr17      120738     123102   1          AP1/1           \n",
       "5 chr17      152554     153491   1          CREB/ATF/1|AP1/1\n",
       "6 chr17      152590     153715   1          CREB/ATF/1|AP1/1"
      ]
     },
     "metadata": {},
     "output_type": "display_data"
    }
   ],
   "source": [
    "head(dat)"
   ]
  },
  {
   "cell_type": "code",
   "execution_count": 27,
   "id": "c8a86411-a67f-4cdd-b68b-11be04124a5e",
   "metadata": {},
   "outputs": [
    {
     "data": {
      "text/html": [
       "<table>\n",
       "<thead><tr><th scope=col>combination</th><th scope=col>count</th></tr></thead>\n",
       "<tbody>\n",
       "\t<tr><td>AP1/1                            </td><td>957143                           </td></tr>\n",
       "\t<tr><td>CREB/ATF/1                       </td><td>285288                           </td></tr>\n",
       "\t<tr><td>CREB/ATF/1|AP1/1                 </td><td>697889                           </td></tr>\n",
       "\t<tr><td>CREB/ATF/1|CREB/ATF/2            </td><td>300358                           </td></tr>\n",
       "\t<tr><td>CREB/ATF/1|CREB/ATF/2|AP1/1      </td><td>641665                           </td></tr>\n",
       "\t<tr><td>CREB/ATF/2                       </td><td> 74856                           </td></tr>\n",
       "\t<tr><td>CREB/ATF/2|AP1/1                 </td><td>137393                           </td></tr>\n",
       "\t<tr><td>NR/20                            </td><td>396620                           </td></tr>\n",
       "\t<tr><td>NR/20|AP1/1                      </td><td>635504                           </td></tr>\n",
       "\t<tr><td>NR/20|CREB/ATF/1                 </td><td>216334                           </td></tr>\n",
       "\t<tr><td>NR/20|CREB/ATF/1|AP1/1           </td><td>451778                           </td></tr>\n",
       "\t<tr><td>NR/20|CREB/ATF/1|CREB/ATF/2      </td><td>244811                           </td></tr>\n",
       "\t<tr><td>NR/20|CREB/ATF/1|CREB/ATF/2|AP1/1</td><td>479812                           </td></tr>\n",
       "\t<tr><td>NR/20|CREB/ATF/2                 </td><td> 63155                           </td></tr>\n",
       "\t<tr><td>NR/20|CREB/ATF/2|AP1/1           </td><td>106380                           </td></tr>\n",
       "</tbody>\n",
       "</table>\n"
      ],
      "text/latex": [
       "\\begin{tabular}{r|ll}\n",
       " combination & count\\\\\n",
       "\\hline\n",
       "\t AP1/1                             & 957143                           \\\\\n",
       "\t CREB/ATF/1                        & 285288                           \\\\\n",
       "\t CREB/ATF/1\\textbar{}AP1/1                  & 697889                                     \\\\\n",
       "\t CREB/ATF/1\\textbar{}CREB/ATF/2             & 300358                                     \\\\\n",
       "\t CREB/ATF/1\\textbar{}CREB/ATF/2\\textbar{}AP1/1       & 641665                                               \\\\\n",
       "\t CREB/ATF/2                        &  74856                           \\\\\n",
       "\t CREB/ATF/2\\textbar{}AP1/1                  & 137393                                     \\\\\n",
       "\t NR/20                             & 396620                           \\\\\n",
       "\t NR/20\\textbar{}AP1/1                       & 635504                                     \\\\\n",
       "\t NR/20\\textbar{}CREB/ATF/1                  & 216334                                     \\\\\n",
       "\t NR/20\\textbar{}CREB/ATF/1\\textbar{}AP1/1            & 451778                                               \\\\\n",
       "\t NR/20\\textbar{}CREB/ATF/1\\textbar{}CREB/ATF/2       & 244811                                               \\\\\n",
       "\t NR/20\\textbar{}CREB/ATF/1\\textbar{}CREB/ATF/2\\textbar{}AP1/1 & 479812                                                         \\\\\n",
       "\t NR/20\\textbar{}CREB/ATF/2                  &  63155                                     \\\\\n",
       "\t NR/20\\textbar{}CREB/ATF/2\\textbar{}AP1/1            & 106380                                               \\\\\n",
       "\\end{tabular}\n"
      ],
      "text/markdown": [
       "\n",
       "| combination | count |\n",
       "|---|---|\n",
       "| AP1/1                             | 957143                            |\n",
       "| CREB/ATF/1                        | 285288                            |\n",
       "| CREB/ATF/1|AP1/1                  | 697889                            |\n",
       "| CREB/ATF/1|CREB/ATF/2             | 300358                            |\n",
       "| CREB/ATF/1|CREB/ATF/2|AP1/1       | 641665                            |\n",
       "| CREB/ATF/2                        |  74856                            |\n",
       "| CREB/ATF/2|AP1/1                  | 137393                            |\n",
       "| NR/20                             | 396620                            |\n",
       "| NR/20|AP1/1                       | 635504                            |\n",
       "| NR/20|CREB/ATF/1                  | 216334                            |\n",
       "| NR/20|CREB/ATF/1|AP1/1            | 451778                            |\n",
       "| NR/20|CREB/ATF/1|CREB/ATF/2       | 244811                            |\n",
       "| NR/20|CREB/ATF/1|CREB/ATF/2|AP1/1 | 479812                            |\n",
       "| NR/20|CREB/ATF/2                  |  63155                            |\n",
       "| NR/20|CREB/ATF/2|AP1/1            | 106380                            |\n",
       "\n"
      ],
      "text/plain": [
       "   combination                       count \n",
       "1  AP1/1                             957143\n",
       "2  CREB/ATF/1                        285288\n",
       "3  CREB/ATF/1|AP1/1                  697889\n",
       "4  CREB/ATF/1|CREB/ATF/2             300358\n",
       "5  CREB/ATF/1|CREB/ATF/2|AP1/1       641665\n",
       "6  CREB/ATF/2                         74856\n",
       "7  CREB/ATF/2|AP1/1                  137393\n",
       "8  NR/20                             396620\n",
       "9  NR/20|AP1/1                       635504\n",
       "10 NR/20|CREB/ATF/1                  216334\n",
       "11 NR/20|CREB/ATF/1|AP1/1            451778\n",
       "12 NR/20|CREB/ATF/1|CREB/ATF/2       244811\n",
       "13 NR/20|CREB/ATF/1|CREB/ATF/2|AP1/1 479812\n",
       "14 NR/20|CREB/ATF/2                   63155\n",
       "15 NR/20|CREB/ATF/2|AP1/1            106380"
      ]
     },
     "metadata": {},
     "output_type": "display_data"
    }
   ],
   "source": [
    "tmp = dat %>% group_by(combination) %>% summarise(count=sum(count_frag))\n",
    "tmp"
   ]
  },
  {
   "cell_type": "code",
   "execution_count": null,
   "id": "107504be-135e-4672-ad77-fca2d3a2a884",
   "metadata": {},
   "outputs": [],
   "source": [
    "df1 = dat1 %>%\n",
    "df2 = dat2 %>%"
   ]
  }
 ],
 "metadata": {
  "kernelspec": {
   "display_name": "R",
   "language": "R",
   "name": "ir"
  },
  "language_info": {
   "codemirror_mode": "r",
   "file_extension": ".r",
   "mimetype": "text/x-r-source",
   "name": "R",
   "pygments_lexer": "r",
   "version": "3.6.1"
  }
 },
 "nbformat": 4,
 "nbformat_minor": 5
}
