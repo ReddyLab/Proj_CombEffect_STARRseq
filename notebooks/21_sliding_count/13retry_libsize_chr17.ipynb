{
 "cells": [
  {
   "cell_type": "markdown",
   "id": "da0348be",
   "metadata": {},
   "source": [
    "**Set environment**"
   ]
  },
  {
   "cell_type": "code",
   "execution_count": 1,
   "id": "768b7f6f",
   "metadata": {},
   "outputs": [
    {
     "name": "stdout",
     "output_type": "stream",
     "text": [
      "You are in Singularity: singularity_proj_combeffect \n",
      "BASE DIRECTORY:     /mount/work \n",
      "PATH OF SOURCE:     /mount/work/source \n",
      "PATH OF EXECUTABLE: /mount/work/exe \n",
      "PATH OF ANNOTATION: /mount/work/annotation \n",
      "PATH OF PROJECT:    /mount/project \n",
      "PATH OF RESULTS:    /mount/work/out/proj_combeffect \n"
     ]
    }
   ],
   "source": [
    "suppressMessages(source(\"../config_sing.R\"))\n",
    "show_env()"
   ]
  },
  {
   "cell_type": "code",
   "execution_count": 2,
   "id": "39f0b198",
   "metadata": {},
   "outputs": [],
   "source": [
    "SAMPLES = c(\n",
    "    paste0(\"Input\", 1:5),\n",
    "    paste0(\"Input\", 1:5, \"_20x\"),\n",
    "    paste0(\"TFX\", 2:5, \"_DMSO\"),\n",
    "    paste0(\"TFX\", 2:5, \"_Dex\"))"
   ]
  },
  {
   "cell_type": "markdown",
   "id": "3670a19d",
   "metadata": {},
   "source": [
    "## Library size: sliding_chr17_len_1kb_gap_100bp"
   ]
  },
  {
   "cell_type": "code",
   "execution_count": 4,
   "id": "ed0c2bc9",
   "metadata": {},
   "outputs": [
    {
     "name": "stdout",
     "output_type": "stream",
     "text": [
      "[1] 12457031        5\n"
     ]
    },
    {
     "data": {
      "text/html": [
       "<table class=\"dataframe\">\n",
       "<caption>A tibble: 6 × 5</caption>\n",
       "<thead>\n",
       "\t<tr><th scope=col>Chrom</th><th scope=col>Start</th><th scope=col>End</th><th scope=col>Count</th><th scope=col>Sample</th></tr>\n",
       "\t<tr><th scope=col>&lt;chr&gt;</th><th scope=col>&lt;dbl&gt;</th><th scope=col>&lt;dbl&gt;</th><th scope=col>&lt;dbl&gt;</th><th scope=col>&lt;chr&gt;</th></tr>\n",
       "</thead>\n",
       "<tbody>\n",
       "\t<tr><td>chr17</td><td>200200</td><td>201200</td><td>2</td><td>Input1</td></tr>\n",
       "\t<tr><td>chr17</td><td>200300</td><td>201300</td><td>4</td><td>Input1</td></tr>\n",
       "\t<tr><td>chr17</td><td>200400</td><td>201400</td><td>5</td><td>Input1</td></tr>\n",
       "\t<tr><td>chr17</td><td>200500</td><td>201500</td><td>5</td><td>Input1</td></tr>\n",
       "\t<tr><td>chr17</td><td>200600</td><td>201600</td><td>5</td><td>Input1</td></tr>\n",
       "\t<tr><td>chr17</td><td>200700</td><td>201700</td><td>5</td><td>Input1</td></tr>\n",
       "</tbody>\n",
       "</table>\n"
      ],
      "text/latex": [
       "A tibble: 6 × 5\n",
       "\\begin{tabular}{lllll}\n",
       " Chrom & Start & End & Count & Sample\\\\\n",
       " <chr> & <dbl> & <dbl> & <dbl> & <chr>\\\\\n",
       "\\hline\n",
       "\t chr17 & 200200 & 201200 & 2 & Input1\\\\\n",
       "\t chr17 & 200300 & 201300 & 4 & Input1\\\\\n",
       "\t chr17 & 200400 & 201400 & 5 & Input1\\\\\n",
       "\t chr17 & 200500 & 201500 & 5 & Input1\\\\\n",
       "\t chr17 & 200600 & 201600 & 5 & Input1\\\\\n",
       "\t chr17 & 200700 & 201700 & 5 & Input1\\\\\n",
       "\\end{tabular}\n"
      ],
      "text/markdown": [
       "\n",
       "A tibble: 6 × 5\n",
       "\n",
       "| Chrom &lt;chr&gt; | Start &lt;dbl&gt; | End &lt;dbl&gt; | Count &lt;dbl&gt; | Sample &lt;chr&gt; |\n",
       "|---|---|---|---|---|\n",
       "| chr17 | 200200 | 201200 | 2 | Input1 |\n",
       "| chr17 | 200300 | 201300 | 4 | Input1 |\n",
       "| chr17 | 200400 | 201400 | 5 | Input1 |\n",
       "| chr17 | 200500 | 201500 | 5 | Input1 |\n",
       "| chr17 | 200600 | 201600 | 5 | Input1 |\n",
       "| chr17 | 200700 | 201700 | 5 | Input1 |\n",
       "\n"
      ],
      "text/plain": [
       "  Chrom Start  End    Count Sample\n",
       "1 chr17 200200 201200 2     Input1\n",
       "2 chr17 200300 201300 4     Input1\n",
       "3 chr17 200400 201400 5     Input1\n",
       "4 chr17 200500 201500 5     Input1\n",
       "5 chr17 200600 201600 5     Input1\n",
       "6 chr17 200700 201700 5     Input1"
      ]
     },
     "metadata": {},
     "output_type": "display_data"
    }
   ],
   "source": [
    "fname = \"chr17_count.bed.gz\"\n",
    "cname = c(\"Chrom\", \"Start\", \"End\", \"Count\")\n",
    "ctype = c(col_character(), col_integer(), col_integer(), col_integer())\n",
    "\n",
    "lst = lapply(SAMPLES, function(SAMPLE){\n",
    "    \n",
    "    ### set file path\n",
    "    fdiry = file.path(FD_RES, \"sliding_window\", \"sliding_chr17_len_1kb_gap_100bp\", SAMPLE)     \n",
    "    fpath = file.path(fdiry, fname)\n",
    "    \n",
    "    ### import data\n",
    "    dat = read_tsv(fpath, col_types = ctype, col_names = cname)\n",
    "    dat$Sample = SAMPLE\n",
    "    return(dat)\n",
    "})\n",
    "\n",
    "###\n",
    "dat = bind_rows(lst)\n",
    "\n",
    "###\n",
    "dat_win_cnt = dat\n",
    "print(dim(dat))\n",
    "head(dat)"
   ]
  },
  {
   "cell_type": "code",
   "execution_count": 10,
   "id": "2d9e5f10",
   "metadata": {},
   "outputs": [
    {
     "name": "stdout",
     "output_type": "stream",
     "text": [
      "[1] 18  3\n"
     ]
    },
    {
     "data": {
      "text/html": [
       "<table class=\"dataframe\">\n",
       "<caption>A tibble: 18 × 3</caption>\n",
       "<thead>\n",
       "\t<tr><th scope=col>Sample</th><th scope=col>Group</th><th scope=col>Size</th></tr>\n",
       "\t<tr><th scope=col>&lt;chr&gt;</th><th scope=col>&lt;chr&gt;</th><th scope=col>&lt;dbl&gt;</th></tr>\n",
       "</thead>\n",
       "<tbody>\n",
       "\t<tr><td>Input1    </td><td>Input    </td><td> 12361285</td></tr>\n",
       "\t<tr><td>Input1_20x</td><td>Input_20x</td><td>258504625</td></tr>\n",
       "\t<tr><td>Input2    </td><td>Input    </td><td> 13353781</td></tr>\n",
       "\t<tr><td>Input2_20x</td><td>Input_20x</td><td>241310871</td></tr>\n",
       "\t<tr><td>Input3    </td><td>Input    </td><td> 15549291</td></tr>\n",
       "\t<tr><td>Input3_20x</td><td>Input_20x</td><td>244400402</td></tr>\n",
       "\t<tr><td>Input4    </td><td>Input    </td><td> 12493205</td></tr>\n",
       "\t<tr><td>Input4_20x</td><td>Input_20x</td><td>283480692</td></tr>\n",
       "\t<tr><td>Input5    </td><td>Input    </td><td> 10033023</td></tr>\n",
       "\t<tr><td>Input5_20x</td><td>Input_20x</td><td>235179525</td></tr>\n",
       "\t<tr><td>TFX2_Dex  </td><td>TFX_Dex  </td><td> 37281525</td></tr>\n",
       "\t<tr><td>TFX2_DMSO </td><td>TFX_DMSO </td><td> 35688655</td></tr>\n",
       "\t<tr><td>TFX3_Dex  </td><td>TFX_Dex  </td><td> 21743341</td></tr>\n",
       "\t<tr><td>TFX3_DMSO </td><td>TFX_DMSO </td><td> 21438742</td></tr>\n",
       "\t<tr><td>TFX4_Dex  </td><td>TFX_Dex  </td><td> 28731440</td></tr>\n",
       "\t<tr><td>TFX4_DMSO </td><td>TFX_DMSO </td><td> 24752052</td></tr>\n",
       "\t<tr><td>TFX5_Dex  </td><td>TFX_Dex  </td><td> 35164913</td></tr>\n",
       "\t<tr><td>TFX5_DMSO </td><td>TFX_DMSO </td><td> 23711627</td></tr>\n",
       "</tbody>\n",
       "</table>\n"
      ],
      "text/latex": [
       "A tibble: 18 × 3\n",
       "\\begin{tabular}{lll}\n",
       " Sample & Group & Size\\\\\n",
       " <chr> & <chr> & <dbl>\\\\\n",
       "\\hline\n",
       "\t Input1     & Input     &  12361285\\\\\n",
       "\t Input1\\_20x & Input\\_20x & 258504625\\\\\n",
       "\t Input2     & Input     &  13353781\\\\\n",
       "\t Input2\\_20x & Input\\_20x & 241310871\\\\\n",
       "\t Input3     & Input     &  15549291\\\\\n",
       "\t Input3\\_20x & Input\\_20x & 244400402\\\\\n",
       "\t Input4     & Input     &  12493205\\\\\n",
       "\t Input4\\_20x & Input\\_20x & 283480692\\\\\n",
       "\t Input5     & Input     &  10033023\\\\\n",
       "\t Input5\\_20x & Input\\_20x & 235179525\\\\\n",
       "\t TFX2\\_Dex   & TFX\\_Dex   &  37281525\\\\\n",
       "\t TFX2\\_DMSO  & TFX\\_DMSO  &  35688655\\\\\n",
       "\t TFX3\\_Dex   & TFX\\_Dex   &  21743341\\\\\n",
       "\t TFX3\\_DMSO  & TFX\\_DMSO  &  21438742\\\\\n",
       "\t TFX4\\_Dex   & TFX\\_Dex   &  28731440\\\\\n",
       "\t TFX4\\_DMSO  & TFX\\_DMSO  &  24752052\\\\\n",
       "\t TFX5\\_Dex   & TFX\\_Dex   &  35164913\\\\\n",
       "\t TFX5\\_DMSO  & TFX\\_DMSO  &  23711627\\\\\n",
       "\\end{tabular}\n"
      ],
      "text/markdown": [
       "\n",
       "A tibble: 18 × 3\n",
       "\n",
       "| Sample &lt;chr&gt; | Group &lt;chr&gt; | Size &lt;dbl&gt; |\n",
       "|---|---|---|\n",
       "| Input1     | Input     |  12361285 |\n",
       "| Input1_20x | Input_20x | 258504625 |\n",
       "| Input2     | Input     |  13353781 |\n",
       "| Input2_20x | Input_20x | 241310871 |\n",
       "| Input3     | Input     |  15549291 |\n",
       "| Input3_20x | Input_20x | 244400402 |\n",
       "| Input4     | Input     |  12493205 |\n",
       "| Input4_20x | Input_20x | 283480692 |\n",
       "| Input5     | Input     |  10033023 |\n",
       "| Input5_20x | Input_20x | 235179525 |\n",
       "| TFX2_Dex   | TFX_Dex   |  37281525 |\n",
       "| TFX2_DMSO  | TFX_DMSO  |  35688655 |\n",
       "| TFX3_Dex   | TFX_Dex   |  21743341 |\n",
       "| TFX3_DMSO  | TFX_DMSO  |  21438742 |\n",
       "| TFX4_Dex   | TFX_Dex   |  28731440 |\n",
       "| TFX4_DMSO  | TFX_DMSO  |  24752052 |\n",
       "| TFX5_Dex   | TFX_Dex   |  35164913 |\n",
       "| TFX5_DMSO  | TFX_DMSO  |  23711627 |\n",
       "\n"
      ],
      "text/plain": [
       "   Sample     Group     Size     \n",
       "1  Input1     Input      12361285\n",
       "2  Input1_20x Input_20x 258504625\n",
       "3  Input2     Input      13353781\n",
       "4  Input2_20x Input_20x 241310871\n",
       "5  Input3     Input      15549291\n",
       "6  Input3_20x Input_20x 244400402\n",
       "7  Input4     Input      12493205\n",
       "8  Input4_20x Input_20x 283480692\n",
       "9  Input5     Input      10033023\n",
       "10 Input5_20x Input_20x 235179525\n",
       "11 TFX2_Dex   TFX_Dex    37281525\n",
       "12 TFX2_DMSO  TFX_DMSO   35688655\n",
       "13 TFX3_Dex   TFX_Dex    21743341\n",
       "14 TFX3_DMSO  TFX_DMSO   21438742\n",
       "15 TFX4_Dex   TFX_Dex    28731440\n",
       "16 TFX4_DMSO  TFX_DMSO   24752052\n",
       "17 TFX5_Dex   TFX_Dex    35164913\n",
       "18 TFX5_DMSO  TFX_DMSO   23711627"
      ]
     },
     "metadata": {},
     "output_type": "display_data"
    }
   ],
   "source": [
    "dat = dat_win_cnt\n",
    "dat = dat %>% \n",
    "    mutate(Group = str_remove(Sample, \"[0-9]\")) %>%\n",
    "    group_by(Sample, Group) %>% \n",
    "    summarize(Size=sum(Count), .groups = \"drop\")\n",
    "\n",
    "dat_lib = dat\n",
    "print(dim(dat))\n",
    "dat"
   ]
  },
  {
   "cell_type": "code",
   "execution_count": 11,
   "id": "7cb440b1",
   "metadata": {},
   "outputs": [],
   "source": [
    "fdiry = file.path(FD_RES, \"sliding_window\", \"sliding_chr17_len_1kb_gap_100bp\")     \n",
    "fname = \"dat_libsize.tsv\"\n",
    "fpath = file.path(fdiry, fname)\n",
    "\n",
    "dat = dat_lib\n",
    "write_tsv(dat, fpath)"
   ]
  },
  {
   "cell_type": "markdown",
   "id": "ed483a23",
   "metadata": {},
   "source": [
    "## Library size: sliding_chr17_len_1kb_gap_100bp_f50_OR_F50"
   ]
  },
  {
   "cell_type": "code",
   "execution_count": 12,
   "id": "39b38bd8",
   "metadata": {},
   "outputs": [
    {
     "name": "stdout",
     "output_type": "stream",
     "text": [
      "[1] 11416245        5\n"
     ]
    },
    {
     "data": {
      "text/html": [
       "<table class=\"dataframe\">\n",
       "<caption>A tibble: 6 × 5</caption>\n",
       "<thead>\n",
       "\t<tr><th scope=col>Chrom</th><th scope=col>Start</th><th scope=col>End</th><th scope=col>Count</th><th scope=col>Sample</th></tr>\n",
       "\t<tr><th scope=col>&lt;chr&gt;</th><th scope=col>&lt;dbl&gt;</th><th scope=col>&lt;dbl&gt;</th><th scope=col>&lt;dbl&gt;</th><th scope=col>&lt;chr&gt;</th></tr>\n",
       "</thead>\n",
       "<tbody>\n",
       "\t<tr><td>chr17</td><td>200600</td><td>201600</td><td>2</td><td>Input1</td></tr>\n",
       "\t<tr><td>chr17</td><td>200700</td><td>201700</td><td>4</td><td>Input1</td></tr>\n",
       "\t<tr><td>chr17</td><td>200800</td><td>201800</td><td>5</td><td>Input1</td></tr>\n",
       "\t<tr><td>chr17</td><td>200900</td><td>201900</td><td>5</td><td>Input1</td></tr>\n",
       "\t<tr><td>chr17</td><td>201000</td><td>202000</td><td>5</td><td>Input1</td></tr>\n",
       "\t<tr><td>chr17</td><td>201100</td><td>202100</td><td>5</td><td>Input1</td></tr>\n",
       "</tbody>\n",
       "</table>\n"
      ],
      "text/latex": [
       "A tibble: 6 × 5\n",
       "\\begin{tabular}{lllll}\n",
       " Chrom & Start & End & Count & Sample\\\\\n",
       " <chr> & <dbl> & <dbl> & <dbl> & <chr>\\\\\n",
       "\\hline\n",
       "\t chr17 & 200600 & 201600 & 2 & Input1\\\\\n",
       "\t chr17 & 200700 & 201700 & 4 & Input1\\\\\n",
       "\t chr17 & 200800 & 201800 & 5 & Input1\\\\\n",
       "\t chr17 & 200900 & 201900 & 5 & Input1\\\\\n",
       "\t chr17 & 201000 & 202000 & 5 & Input1\\\\\n",
       "\t chr17 & 201100 & 202100 & 5 & Input1\\\\\n",
       "\\end{tabular}\n"
      ],
      "text/markdown": [
       "\n",
       "A tibble: 6 × 5\n",
       "\n",
       "| Chrom &lt;chr&gt; | Start &lt;dbl&gt; | End &lt;dbl&gt; | Count &lt;dbl&gt; | Sample &lt;chr&gt; |\n",
       "|---|---|---|---|---|\n",
       "| chr17 | 200600 | 201600 | 2 | Input1 |\n",
       "| chr17 | 200700 | 201700 | 4 | Input1 |\n",
       "| chr17 | 200800 | 201800 | 5 | Input1 |\n",
       "| chr17 | 200900 | 201900 | 5 | Input1 |\n",
       "| chr17 | 201000 | 202000 | 5 | Input1 |\n",
       "| chr17 | 201100 | 202100 | 5 | Input1 |\n",
       "\n"
      ],
      "text/plain": [
       "  Chrom Start  End    Count Sample\n",
       "1 chr17 200600 201600 2     Input1\n",
       "2 chr17 200700 201700 4     Input1\n",
       "3 chr17 200800 201800 5     Input1\n",
       "4 chr17 200900 201900 5     Input1\n",
       "5 chr17 201000 202000 5     Input1\n",
       "6 chr17 201100 202100 5     Input1"
      ]
     },
     "metadata": {},
     "output_type": "display_data"
    }
   ],
   "source": [
    "fname = \"chr17_count.bed.gz\"\n",
    "cname = c(\"Chrom\", \"Start\", \"End\", \"Count\")\n",
    "ctype = c(col_character(), col_integer(), col_integer(), col_integer())\n",
    "\n",
    "lst = lapply(SAMPLES, function(SAMPLE){\n",
    "    \n",
    "    ### set file path\n",
    "    fdiry = file.path(FD_RES, \"sliding_window\", \"sliding_chr17_len_1kb_gap_100bp_f50_OR_F50\", SAMPLE)     \n",
    "    fpath = file.path(fdiry, fname)\n",
    "    \n",
    "    ### import data\n",
    "    dat = read_tsv(fpath, col_types = ctype, col_names = cname)\n",
    "    dat$Sample = SAMPLE\n",
    "    return(dat)\n",
    "})\n",
    "\n",
    "###\n",
    "dat = bind_rows(lst)\n",
    "\n",
    "###\n",
    "dat_win_cnt = dat\n",
    "print(dim(dat))\n",
    "head(dat)"
   ]
  },
  {
   "cell_type": "code",
   "execution_count": 13,
   "id": "c58a8ecb",
   "metadata": {},
   "outputs": [
    {
     "name": "stdout",
     "output_type": "stream",
     "text": [
      "[1] 18  3\n"
     ]
    },
    {
     "data": {
      "text/html": [
       "<table class=\"dataframe\">\n",
       "<caption>A tibble: 18 × 3</caption>\n",
       "<thead>\n",
       "\t<tr><th scope=col>Sample</th><th scope=col>Group</th><th scope=col>Size</th></tr>\n",
       "\t<tr><th scope=col>&lt;chr&gt;</th><th scope=col>&lt;chr&gt;</th><th scope=col>&lt;dbl&gt;</th></tr>\n",
       "</thead>\n",
       "<tbody>\n",
       "\t<tr><td>Input1    </td><td>Input    </td><td>  6401682</td></tr>\n",
       "\t<tr><td>Input1_20x</td><td>Input_20x</td><td>133509811</td></tr>\n",
       "\t<tr><td>Input2    </td><td>Input    </td><td>  6915620</td></tr>\n",
       "\t<tr><td>Input2_20x</td><td>Input_20x</td><td>124654780</td></tr>\n",
       "\t<tr><td>Input3    </td><td>Input    </td><td>  8051137</td></tr>\n",
       "\t<tr><td>Input3_20x</td><td>Input_20x</td><td>126243490</td></tr>\n",
       "\t<tr><td>Input4    </td><td>Input    </td><td>  6465460</td></tr>\n",
       "\t<tr><td>Input4_20x</td><td>Input_20x</td><td>146376882</td></tr>\n",
       "\t<tr><td>Input5    </td><td>Input    </td><td>  5189219</td></tr>\n",
       "\t<tr><td>Input5_20x</td><td>Input_20x</td><td>121371084</td></tr>\n",
       "\t<tr><td>TFX2_Dex  </td><td>TFX_Dex  </td><td> 19292553</td></tr>\n",
       "\t<tr><td>TFX2_DMSO </td><td>TFX_DMSO </td><td> 18483347</td></tr>\n",
       "\t<tr><td>TFX3_Dex  </td><td>TFX_Dex  </td><td> 11248582</td></tr>\n",
       "\t<tr><td>TFX3_DMSO </td><td>TFX_DMSO </td><td> 11098288</td></tr>\n",
       "\t<tr><td>TFX4_Dex  </td><td>TFX_Dex  </td><td> 14870105</td></tr>\n",
       "\t<tr><td>TFX4_DMSO </td><td>TFX_DMSO </td><td> 12803844</td></tr>\n",
       "\t<tr><td>TFX5_Dex  </td><td>TFX_Dex  </td><td> 18198657</td></tr>\n",
       "\t<tr><td>TFX5_DMSO </td><td>TFX_DMSO </td><td> 12267753</td></tr>\n",
       "</tbody>\n",
       "</table>\n"
      ],
      "text/latex": [
       "A tibble: 18 × 3\n",
       "\\begin{tabular}{lll}\n",
       " Sample & Group & Size\\\\\n",
       " <chr> & <chr> & <dbl>\\\\\n",
       "\\hline\n",
       "\t Input1     & Input     &   6401682\\\\\n",
       "\t Input1\\_20x & Input\\_20x & 133509811\\\\\n",
       "\t Input2     & Input     &   6915620\\\\\n",
       "\t Input2\\_20x & Input\\_20x & 124654780\\\\\n",
       "\t Input3     & Input     &   8051137\\\\\n",
       "\t Input3\\_20x & Input\\_20x & 126243490\\\\\n",
       "\t Input4     & Input     &   6465460\\\\\n",
       "\t Input4\\_20x & Input\\_20x & 146376882\\\\\n",
       "\t Input5     & Input     &   5189219\\\\\n",
       "\t Input5\\_20x & Input\\_20x & 121371084\\\\\n",
       "\t TFX2\\_Dex   & TFX\\_Dex   &  19292553\\\\\n",
       "\t TFX2\\_DMSO  & TFX\\_DMSO  &  18483347\\\\\n",
       "\t TFX3\\_Dex   & TFX\\_Dex   &  11248582\\\\\n",
       "\t TFX3\\_DMSO  & TFX\\_DMSO  &  11098288\\\\\n",
       "\t TFX4\\_Dex   & TFX\\_Dex   &  14870105\\\\\n",
       "\t TFX4\\_DMSO  & TFX\\_DMSO  &  12803844\\\\\n",
       "\t TFX5\\_Dex   & TFX\\_Dex   &  18198657\\\\\n",
       "\t TFX5\\_DMSO  & TFX\\_DMSO  &  12267753\\\\\n",
       "\\end{tabular}\n"
      ],
      "text/markdown": [
       "\n",
       "A tibble: 18 × 3\n",
       "\n",
       "| Sample &lt;chr&gt; | Group &lt;chr&gt; | Size &lt;dbl&gt; |\n",
       "|---|---|---|\n",
       "| Input1     | Input     |   6401682 |\n",
       "| Input1_20x | Input_20x | 133509811 |\n",
       "| Input2     | Input     |   6915620 |\n",
       "| Input2_20x | Input_20x | 124654780 |\n",
       "| Input3     | Input     |   8051137 |\n",
       "| Input3_20x | Input_20x | 126243490 |\n",
       "| Input4     | Input     |   6465460 |\n",
       "| Input4_20x | Input_20x | 146376882 |\n",
       "| Input5     | Input     |   5189219 |\n",
       "| Input5_20x | Input_20x | 121371084 |\n",
       "| TFX2_Dex   | TFX_Dex   |  19292553 |\n",
       "| TFX2_DMSO  | TFX_DMSO  |  18483347 |\n",
       "| TFX3_Dex   | TFX_Dex   |  11248582 |\n",
       "| TFX3_DMSO  | TFX_DMSO  |  11098288 |\n",
       "| TFX4_Dex   | TFX_Dex   |  14870105 |\n",
       "| TFX4_DMSO  | TFX_DMSO  |  12803844 |\n",
       "| TFX5_Dex   | TFX_Dex   |  18198657 |\n",
       "| TFX5_DMSO  | TFX_DMSO  |  12267753 |\n",
       "\n"
      ],
      "text/plain": [
       "   Sample     Group     Size     \n",
       "1  Input1     Input       6401682\n",
       "2  Input1_20x Input_20x 133509811\n",
       "3  Input2     Input       6915620\n",
       "4  Input2_20x Input_20x 124654780\n",
       "5  Input3     Input       8051137\n",
       "6  Input3_20x Input_20x 126243490\n",
       "7  Input4     Input       6465460\n",
       "8  Input4_20x Input_20x 146376882\n",
       "9  Input5     Input       5189219\n",
       "10 Input5_20x Input_20x 121371084\n",
       "11 TFX2_Dex   TFX_Dex    19292553\n",
       "12 TFX2_DMSO  TFX_DMSO   18483347\n",
       "13 TFX3_Dex   TFX_Dex    11248582\n",
       "14 TFX3_DMSO  TFX_DMSO   11098288\n",
       "15 TFX4_Dex   TFX_Dex    14870105\n",
       "16 TFX4_DMSO  TFX_DMSO   12803844\n",
       "17 TFX5_Dex   TFX_Dex    18198657\n",
       "18 TFX5_DMSO  TFX_DMSO   12267753"
      ]
     },
     "metadata": {},
     "output_type": "display_data"
    }
   ],
   "source": [
    "dat = dat_win_cnt\n",
    "dat = dat %>% \n",
    "    mutate(Group = str_remove(Sample, \"[0-9]\")) %>%\n",
    "    group_by(Sample, Group) %>% \n",
    "    summarize(Size=sum(Count), .groups = \"drop\")\n",
    "\n",
    "dat_lib = dat\n",
    "print(dim(dat))\n",
    "dat"
   ]
  },
  {
   "cell_type": "code",
   "execution_count": 14,
   "id": "e0613b0e",
   "metadata": {},
   "outputs": [],
   "source": [
    "fdiry = file.path(FD_RES, \"sliding_window\", \"sliding_chr17_len_1kb_gap_100bp_f50_OR_F50\")     \n",
    "fname = \"dat_libsize.tsv\"\n",
    "fpath = file.path(fdiry, fname)\n",
    "\n",
    "dat = dat_lib\n",
    "write_tsv(dat, fpath)"
   ]
  },
  {
   "cell_type": "code",
   "execution_count": null,
   "id": "d8e373a5",
   "metadata": {},
   "outputs": [],
   "source": []
  }
 ],
 "metadata": {
  "kernelspec": {
   "display_name": "R",
   "language": "R",
   "name": "ir"
  },
  "language_info": {
   "codemirror_mode": "r",
   "file_extension": ".r",
   "mimetype": "text/x-r-source",
   "name": "R",
   "pygments_lexer": "r",
   "version": "4.2.0"
  }
 },
 "nbformat": 4,
 "nbformat_minor": 5
}
