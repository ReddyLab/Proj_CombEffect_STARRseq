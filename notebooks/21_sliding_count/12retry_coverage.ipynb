{
 "cells": [
  {
   "cell_type": "markdown",
   "id": "237be35e-a4d5-474a-aaf5-19202e61260a",
   "metadata": {},
   "source": [
    "**Set environment**"
   ]
  },
  {
   "cell_type": "code",
   "execution_count": 1,
   "id": "24503eb8-7a52-40eb-bb50-401c19c82a8d",
   "metadata": {},
   "outputs": [
    {
     "name": "stdout",
     "output_type": "stream",
     "text": [
      "You are on Duke Server: HARDAC\n",
      "BASE DIRECTORY:     /gpfs/fs1/data/reddylab/Kuei\n",
      "PATH OF SOURCE:     /gpfs/fs1/data/reddylab/Kuei/source\n",
      "PATH OF EXECUTABLE: /gpfs/fs1/data/reddylab/Kuei/exe\n",
      "PATH OF ANNOTATION: /gpfs/fs1/data/reddylab/Kuei/annotation\n",
      "PATH OF PROJECT:    /gpfs/fs1/data/reddylab/Kuei/GitRepo/Proj_CombEffect_STARRseq/notebooks\n",
      "PATH OF RESULTS:    /gpfs/fs1/data/reddylab/Kuei/out/proj_combeffect\n",
      "\n"
     ]
    }
   ],
   "source": [
    "source ../config_duke.sh; show_env\n",
    "source ../config_load_module_bedtools.sh"
   ]
  },
  {
   "cell_type": "markdown",
   "id": "2d6a4862-a19c-47fd-995e-6f47ca4d5a8c",
   "metadata": {},
   "source": [
    "## Set region\n",
    "```\n",
    "chr17: 8148000-8160000\n",
    "```"
   ]
  },
  {
   "cell_type": "markdown",
   "id": "1236305b-4f29-40a0-bf0b-858b0278057a",
   "metadata": {},
   "source": [
    "**Set region by range**"
   ]
  },
  {
   "cell_type": "code",
   "execution_count": 2,
   "id": "ba7f22f2-99b6-4495-af0d-49f27af36f86",
   "metadata": {},
   "outputs": [
    {
     "name": "stdout",
     "output_type": "stream",
     "text": [
      "chr17\t8148000\t8160000\n"
     ]
    }
   ],
   "source": [
    "CHROM=chr17\n",
    "START=8148000\n",
    "END=8160000\n",
    "\n",
    "FP_OUT=${FD_RES}/sliding_window/region_PER1.bed\n",
    "cat /dev/null > ${FP_OUT}\n",
    "echo -e \"${CHROM}\\\\t${START}\\\\t${END}\" >> ${FP_OUT}\n",
    "\n",
    "cat ${FP_OUT}"
   ]
  },
  {
   "cell_type": "markdown",
   "id": "7165b61b-8eb2-4c4c-b266-7a860d2a23ef",
   "metadata": {},
   "source": [
    "**Set region by base**"
   ]
  },
  {
   "cell_type": "code",
   "execution_count": 3,
   "id": "d063c61e-76cc-41de-874f-cfbd0bba68b4",
   "metadata": {},
   "outputs": [
    {
     "name": "stdout",
     "output_type": "stream",
     "text": [
      "chr17\t8148000\t8148001\n",
      "chr17\t8148001\t8148002\n",
      "chr17\t8148002\t8148003\n",
      "chr17\t8148003\t8148004\n",
      "chr17\t8148004\t8148005\n",
      "chr17\t8148005\t8148006\n",
      "chr17\t8148006\t8148007\n",
      "chr17\t8148007\t8148008\n",
      "chr17\t8148008\t8148009\n",
      "chr17\t8148009\t8148010\n"
     ]
    }
   ],
   "source": [
    "CHROM=chr17\n",
    "START=8148000\n",
    "END=8160000\n",
    "\n",
    "FP_OUT=${FD_RES}/sliding_window/region_PER1_perbase.bed\n",
    "cat /dev/null > ${FP_OUT}\n",
    "for LOC in $(seq ${START} ${END}); do\n",
    "    echo -e \"${CHROM}\\\\t${LOC}\\\\t$((${LOC} + 1))\" >> ${FP_OUT}\n",
    "done\n",
    "\n",
    "head ${FP_OUT}"
   ]
  },
  {
   "cell_type": "markdown",
   "id": "eee0f20b-0e8c-4150-9bb2-fb9a24c25a8b",
   "metadata": {},
   "source": [
    "## get the coverage of sliding window"
   ]
  },
  {
   "cell_type": "markdown",
   "id": "a7e74915-ba31-45c9-99ac-86cfa248e911",
   "metadata": {},
   "source": [
    "**test loop**"
   ]
  },
  {
   "cell_type": "code",
   "execution_count": 5,
   "id": "d6abde53-b167-4db8-b858-7bdab409be4b",
   "metadata": {},
   "outputs": [
    {
     "name": "stdout",
     "output_type": "stream",
     "text": [
      "dat_mu_var.tsv  \u001b[0m\u001b[38;5;27mInput3\u001b[0m      \u001b[38;5;27mInput5_20x\u001b[0m            \u001b[38;5;27mTFX3_Dex\u001b[0m   \u001b[38;5;27mTFX5_DMSO\u001b[0m\n",
      "\u001b[38;5;27mInput1\u001b[0m          \u001b[38;5;27mInput3_20x\u001b[0m  lowess_input_20x.rds  \u001b[38;5;27mTFX3_DMSO\u001b[0m\n",
      "\u001b[38;5;27mInput1_20x\u001b[0m      \u001b[38;5;27mInput4\u001b[0m      lowess_tfx_dmso.rds   \u001b[38;5;27mTFX4_Dex\u001b[0m\n",
      "\u001b[38;5;27mInput2\u001b[0m          \u001b[38;5;27mInput4_20x\u001b[0m  \u001b[38;5;27mTFX2_Dex\u001b[0m              \u001b[38;5;27mTFX4_DMSO\u001b[0m\n",
      "\u001b[38;5;27mInput2_20x\u001b[0m      \u001b[38;5;27mInput5\u001b[0m      \u001b[38;5;27mTFX2_DMSO\u001b[0m             \u001b[38;5;27mTFX5_Dex\u001b[0m\n"
     ]
    }
   ],
   "source": [
    "WINDOW=sliding_chr17_len_1kb_gap_100bp\n",
    "FD_WIN=${FD_RES}/sliding_window\n",
    "\n",
    "ls ${FD_WIN}/${WINDOW}"
   ]
  },
  {
   "cell_type": "code",
   "execution_count": 8,
   "id": "ad3628de-08ab-4ed2-83b9-3b715d602c27",
   "metadata": {},
   "outputs": [
    {
     "name": "stdout",
     "output_type": "stream",
     "text": [
      "\u001b[0m\u001b[38;5;9m/gpfs/fs1/data/reddylab/Kuei/out/proj_combeffect/sliding_window/sliding_chr17_len_1kb_gap_100bp/Input1//chr17_count.bed.gz\u001b[0m\u001b[K\n",
      "\u001b[0m\u001b[38;5;9m/gpfs/fs1/data/reddylab/Kuei/out/proj_combeffect/sliding_window/sliding_chr17_len_1kb_gap_100bp/Input1_20x//chr17_count.bed.gz\u001b[0m\u001b[K\n",
      "\u001b[0m\u001b[38;5;9m/gpfs/fs1/data/reddylab/Kuei/out/proj_combeffect/sliding_window/sliding_chr17_len_1kb_gap_100bp/Input2//chr17_count.bed.gz\u001b[0m\u001b[K\n",
      "\u001b[0m\u001b[38;5;9m/gpfs/fs1/data/reddylab/Kuei/out/proj_combeffect/sliding_window/sliding_chr17_len_1kb_gap_100bp/Input2_20x//chr17_count.bed.gz\u001b[0m\u001b[K\n",
      "\u001b[0m\u001b[38;5;9m/gpfs/fs1/data/reddylab/Kuei/out/proj_combeffect/sliding_window/sliding_chr17_len_1kb_gap_100bp/Input3//chr17_count.bed.gz\u001b[0m\u001b[K\n",
      "\u001b[0m\u001b[38;5;9m/gpfs/fs1/data/reddylab/Kuei/out/proj_combeffect/sliding_window/sliding_chr17_len_1kb_gap_100bp/Input3_20x//chr17_count.bed.gz\u001b[0m\u001b[K\n",
      "\u001b[0m\u001b[38;5;9m/gpfs/fs1/data/reddylab/Kuei/out/proj_combeffect/sliding_window/sliding_chr17_len_1kb_gap_100bp/Input4//chr17_count.bed.gz\u001b[0m\u001b[K\n",
      "\u001b[0m\u001b[38;5;9m/gpfs/fs1/data/reddylab/Kuei/out/proj_combeffect/sliding_window/sliding_chr17_len_1kb_gap_100bp/Input4_20x//chr17_count.bed.gz\u001b[0m\u001b[K\n",
      "\u001b[0m\u001b[38;5;9m/gpfs/fs1/data/reddylab/Kuei/out/proj_combeffect/sliding_window/sliding_chr17_len_1kb_gap_100bp/Input5//chr17_count.bed.gz\u001b[0m\u001b[K\n",
      "\u001b[0m\u001b[38;5;9m/gpfs/fs1/data/reddylab/Kuei/out/proj_combeffect/sliding_window/sliding_chr17_len_1kb_gap_100bp/Input5_20x//chr17_count.bed.gz\u001b[0m\u001b[K\n",
      "\u001b[0m\u001b[38;5;9m/gpfs/fs1/data/reddylab/Kuei/out/proj_combeffect/sliding_window/sliding_chr17_len_1kb_gap_100bp/TFX2_Dex//chr17_count.bed.gz\u001b[0m\u001b[K\n",
      "\u001b[0m\u001b[38;5;9m/gpfs/fs1/data/reddylab/Kuei/out/proj_combeffect/sliding_window/sliding_chr17_len_1kb_gap_100bp/TFX2_DMSO//chr17_count.bed.gz\u001b[0m\u001b[K\n",
      "\u001b[0m\u001b[38;5;9m/gpfs/fs1/data/reddylab/Kuei/out/proj_combeffect/sliding_window/sliding_chr17_len_1kb_gap_100bp/TFX3_Dex//chr17_count.bed.gz\u001b[0m\u001b[K\n",
      "\u001b[0m\u001b[38;5;9m/gpfs/fs1/data/reddylab/Kuei/out/proj_combeffect/sliding_window/sliding_chr17_len_1kb_gap_100bp/TFX3_DMSO//chr17_count.bed.gz\u001b[0m\u001b[K\n",
      "\u001b[0m\u001b[38;5;9m/gpfs/fs1/data/reddylab/Kuei/out/proj_combeffect/sliding_window/sliding_chr17_len_1kb_gap_100bp/TFX4_Dex//chr17_count.bed.gz\u001b[0m\u001b[K\n",
      "\u001b[0m\u001b[38;5;9m/gpfs/fs1/data/reddylab/Kuei/out/proj_combeffect/sliding_window/sliding_chr17_len_1kb_gap_100bp/TFX4_DMSO//chr17_count.bed.gz\u001b[0m\u001b[K\n",
      "\u001b[0m\u001b[38;5;9m/gpfs/fs1/data/reddylab/Kuei/out/proj_combeffect/sliding_window/sliding_chr17_len_1kb_gap_100bp/TFX5_Dex//chr17_count.bed.gz\u001b[0m\u001b[K\n",
      "\u001b[0m\u001b[38;5;9m/gpfs/fs1/data/reddylab/Kuei/out/proj_combeffect/sliding_window/sliding_chr17_len_1kb_gap_100bp/TFX5_DMSO//chr17_count.bed.gz\u001b[0m\u001b[K\n"
     ]
    }
   ],
   "source": [
    "WINDOW=sliding_chr17_len_1kb_gap_100bp\n",
    "FD_WIN=${FD_RES}/sliding_window\n",
    "\n",
    "FD_BEDS=($(ls -d ${FD_WIN}/${WINDOW}/{Input?*,TFX?_DMSO,TFX?_Dex}/))\n",
    "#FD_BED=${FD_BEDS[${SLURM_ARRAY_TASK_ID}]}\n",
    "FN_BED=chr17_count.bed.gz\n",
    "\n",
    "for FD_BED in ${FD_BEDS[@]}; do\n",
    "    ls ${FD_BED}/${FN_BED}\n",
    "done"
   ]
  },
  {
   "cell_type": "code",
   "execution_count": 9,
   "id": "3700755f-c6d6-4e08-a2a1-acf2a269775b",
   "metadata": {},
   "outputs": [
    {
     "name": "stdout",
     "output_type": "stream",
     "text": [
      "18\n"
     ]
    }
   ],
   "source": [
    "ls -d ${FD_WIN}/${WINDOW}/{Input?*,TFX?_DMSO,TFX?_Dex}/ | wc -l"
   ]
  },
  {
   "cell_type": "code",
   "execution_count": 10,
   "id": "065f096a-c395-4254-abe1-e238be089b11",
   "metadata": {},
   "outputs": [
    {
     "name": "stdout",
     "output_type": "stream",
     "text": [
      "region_PER1.bed                      \u001b[0m\u001b[38;5;27msliding_chr17_len_1kb_gap_100bp_f50_OR_F50\u001b[0m\n",
      "region_PER1_perbase.bed              \u001b[38;5;27msliding_PER1_len_1kb_gap_100bp\u001b[0m\n",
      "\u001b[38;5;27msliding_chr17_len_1kb_gap_100bp\u001b[0m      sliding_PER1_len_1kb_gap_100bp.bed\n",
      "sliding_chr17_len_1kb_gap_100bp.bed\n"
     ]
    }
   ],
   "source": [
    "ls ${FD_WIN}"
   ]
  },
  {
   "cell_type": "markdown",
   "id": "298e20a8-e388-44b4-aa21-5a891d380d64",
   "metadata": {},
   "source": [
    "**Run**"
   ]
  },
  {
   "cell_type": "code",
   "execution_count": 23,
   "id": "3597e735-fd7b-4815-a13b-749dfeeba387",
   "metadata": {},
   "outputs": [
    {
     "name": "stdout",
     "output_type": "stream",
     "text": [
      "Submitted batch job 28684348\n"
     ]
    }
   ],
   "source": [
    "sbatch -p ${NODE} \\\n",
    "    --array 0-17 \\\n",
    "    --mem 10G \\\n",
    "    -o ${FD_LOG}/coverage_sliding_windows_PER1.%a.txt \\\n",
    "    <<'EOF'\n",
    "#!/bin/bash\n",
    "### set directories & global variables\n",
    "source ../config_duke.sh\n",
    "#CHROMS=($(seq 1 22) X Y)\n",
    "#CHROM=chr${CHROMS[${SLURM_ARRAY_TASK_ID}]}\n",
    "CHROM=chr17\n",
    "\n",
    "### print start message\n",
    "timer_start=`date +%s`\n",
    "echo \"Slurm Array Index: \" ${SLURM_ARRAY_TASK_ID}\n",
    "echo \"Time Stamp:        \" $(date +\"%m-%d-%y+%T\")\n",
    "echo\n",
    "\n",
    "### set file IO\n",
    "WINDOW=sliding_chr17_len_1kb_gap_100bp\n",
    "FD_WIN=${FD_RES}/sliding_window\n",
    "FN_REG=region_PER1_perbase.bed\n",
    "\n",
    "FD_BEDS=($(ls -d ${FD_WIN}/${WINDOW}/{Input?*,TFX?_DMSO,TFX?_Dex}/))\n",
    "FD_BED=${FD_BEDS[${SLURM_ARRAY_TASK_ID}]}\n",
    "FN_BED=chr17_count.bed.gz\n",
    "FN_OUT=target_PER1_coverage.bed.gz\n",
    "\n",
    "### print input Message\n",
    "echo ++++++++++++++++++++++++++++++++++++++++++++++++\n",
    "echo \"SAMPLE:      \" ${SAMPLE}\n",
    "echo \"Input  file: \" ${FD_BED}/${FN_BED}\n",
    "echo \"Input  file: \" ${FD_WIN}/${FN_REG}\n",
    "echo \"Output file: \" ${FD_BED}/${FN_OUT}\n",
    "echo\n",
    "echo \"Show the first few lines of the input file\"\n",
    "echo ${FD_BED}/${FN_BED}\n",
    "zcat ${FD_BED}/${FN_BED} | head -n 3 \n",
    "echo\n",
    "echo ${FD_WIN}/${FN_REG}\n",
    "cat  ${FD_WIN}/${FN_REG} | head -n 3 \n",
    "echo\n",
    "\n",
    "### run: get the coverage of sliding window\n",
    "bedtools map \\\n",
    "    -a ${FD_WIN}/${FN_REG} \\\n",
    "    -b ${FD_BED}/${FN_BED} \\\n",
    "    -c 4 \\\n",
    "    -o sum |\\\n",
    "    gzip -c \\\n",
    "    > ${FD_BED}/${FN_OUT}\n",
    "\n",
    "### print output Message\n",
    "echo \"Show the first few lines of the output file\"\n",
    "echo ${FD_BED}/${FN_OUT}\n",
    "zcat ${FD_BED}/${FN_OUT} | head -n 3\n",
    "echo\n",
    "\n",
    "### print end message\n",
    "timer=`date +%s`\n",
    "runtime=$(echo \"${timer} - ${timer_start}\" | bc -l)\n",
    "echo\n",
    "echo 'Done!'\n",
    "echo \"Run Time: $(displaytime ${runtime})\"\n",
    "\n",
    "EOF"
   ]
  },
  {
   "cell_type": "code",
   "execution_count": 24,
   "id": "1aa2322b-6945-4c75-be7f-a4f8280ea5a1",
   "metadata": {},
   "outputs": [
    {
     "name": "stdout",
     "output_type": "stream",
     "text": [
      "Slurm Array Index:  0\n",
      "Time Stamp:         07-26-22+23:44:54\n",
      "\n",
      "++++++++++++++++++++++++++++++++++++++++++++++++\n",
      "SAMPLE:      \n",
      "Input  file:  /gpfs/fs1/data/reddylab/Kuei/out/proj_combeffect/sliding_window/sliding_chr17_len_1kb_gap_100bp/Input1//chr17_count.bed.gz\n",
      "Input  file:  /gpfs/fs1/data/reddylab/Kuei/out/proj_combeffect/sliding_window/region_PER1_perbase.bed\n",
      "Output file:  /gpfs/fs1/data/reddylab/Kuei/out/proj_combeffect/sliding_window/sliding_chr17_len_1kb_gap_100bp/Input1//target_PER1_coverage.bed.gz\n",
      "\n",
      "Show the first few lines of the input file\n",
      "/gpfs/fs1/data/reddylab/Kuei/out/proj_combeffect/sliding_window/sliding_chr17_len_1kb_gap_100bp/Input1//chr17_count.bed.gz\n",
      "chr17\t200200\t201200\t2\n",
      "chr17\t200300\t201300\t4\n",
      "chr17\t200400\t201400\t5\n",
      "\n",
      "/gpfs/fs1/data/reddylab/Kuei/out/proj_combeffect/sliding_window/region_PER1_perbase.bed\n",
      "chr17\t8148000\t8148001\n",
      "chr17\t8148001\t8148002\n",
      "chr17\t8148002\t8148003\n",
      "\n",
      "Show the first few lines of the output file\n",
      "/gpfs/fs1/data/reddylab/Kuei/out/proj_combeffect/sliding_window/sliding_chr17_len_1kb_gap_100bp/Input1//target_PER1_coverage.bed.gz\n",
      "chr17\t8148000\t8148001\t189\n",
      "chr17\t8148001\t8148002\t189\n",
      "chr17\t8148002\t8148003\t189\n",
      "\n",
      "\n",
      "Done!\n",
      "Run Time: 1 seconds\n"
     ]
    }
   ],
   "source": [
    "cat ${FD_LOG}/coverage_sliding_windows_PER1.0.txt"
   ]
  },
  {
   "cell_type": "code",
   "execution_count": 25,
   "id": "c3dd932b-72ff-4a9e-8ddd-ec9eb58603b8",
   "metadata": {},
   "outputs": [
    {
     "name": "stdout",
     "output_type": "stream",
     "text": [
      "Slurm Array Index:  10\n",
      "Time Stamp:         07-26-22+23:44:54\n",
      "\n",
      "++++++++++++++++++++++++++++++++++++++++++++++++\n",
      "SAMPLE:      \n",
      "Input  file:  /gpfs/fs1/data/reddylab/Kuei/out/proj_combeffect/sliding_window/sliding_chr17_len_1kb_gap_100bp/TFX2_Dex//chr17_count.bed.gz\n",
      "Input  file:  /gpfs/fs1/data/reddylab/Kuei/out/proj_combeffect/sliding_window/region_PER1_perbase.bed\n",
      "Output file:  /gpfs/fs1/data/reddylab/Kuei/out/proj_combeffect/sliding_window/sliding_chr17_len_1kb_gap_100bp/TFX2_Dex//target_PER1_coverage.bed.gz\n",
      "\n",
      "Show the first few lines of the input file\n",
      "/gpfs/fs1/data/reddylab/Kuei/out/proj_combeffect/sliding_window/sliding_chr17_len_1kb_gap_100bp/TFX2_Dex//chr17_count.bed.gz\n",
      "chr17\t82700\t83700\t1\n",
      "chr17\t82800\t83800\t1\n",
      "chr17\t82900\t83900\t1\n",
      "\n",
      "/gpfs/fs1/data/reddylab/Kuei/out/proj_combeffect/sliding_window/region_PER1_perbase.bed\n",
      "chr17\t8148000\t8148001\n",
      "chr17\t8148001\t8148002\n",
      "chr17\t8148002\t8148003\n",
      "\n",
      "Show the first few lines of the output file\n",
      "/gpfs/fs1/data/reddylab/Kuei/out/proj_combeffect/sliding_window/sliding_chr17_len_1kb_gap_100bp/TFX2_Dex//target_PER1_coverage.bed.gz\n",
      "chr17\t8148000\t8148001\t1198\n",
      "chr17\t8148001\t8148002\t1198\n",
      "chr17\t8148002\t8148003\t1198\n",
      "\n",
      "\n",
      "Done!\n",
      "Run Time: 1 seconds\n"
     ]
    }
   ],
   "source": [
    "cat ${FD_LOG}/coverage_sliding_windows_PER1.10.txt"
   ]
  },
  {
   "cell_type": "code",
   "execution_count": null,
   "id": "07fa8e73-6e83-4f90-ad78-686682e73495",
   "metadata": {},
   "outputs": [],
   "source": []
  },
  {
   "cell_type": "code",
   "execution_count": 26,
   "id": "45eb51e3-8852-44c9-92b9-6ed0a625560b",
   "metadata": {},
   "outputs": [
    {
     "name": "stdout",
     "output_type": "stream",
     "text": [
      "Submitted batch job 28684366\n"
     ]
    }
   ],
   "source": [
    "sbatch -p ${NODE} \\\n",
    "    --array 0-17 \\\n",
    "    --mem 10G \\\n",
    "    -o ${FD_LOG}/coverage_sliding_windows_f50_PER1.%a.txt \\\n",
    "    <<'EOF'\n",
    "#!/bin/bash\n",
    "### set directories & global variables\n",
    "source ../config_duke.sh\n",
    "#CHROMS=($(seq 1 22) X Y)\n",
    "#CHROM=chr${CHROMS[${SLURM_ARRAY_TASK_ID}]}\n",
    "CHROM=chr17\n",
    "\n",
    "### print start message\n",
    "timer_start=`date +%s`\n",
    "echo \"Slurm Array Index: \" ${SLURM_ARRAY_TASK_ID}\n",
    "echo \"Time Stamp:        \" $(date +\"%m-%d-%y+%T\")\n",
    "echo\n",
    "\n",
    "### set file IO\n",
    "WINDOW=sliding_chr17_len_1kb_gap_100bp_f50_OR_F50\n",
    "FD_WIN=${FD_RES}/sliding_window\n",
    "FN_REG=region_PER1_perbase.bed\n",
    "\n",
    "FD_BEDS=($(ls -d ${FD_WIN}/${WINDOW}/{Input?*,TFX?_DMSO,TFX?_Dex}/))\n",
    "FD_BED=${FD_BEDS[${SLURM_ARRAY_TASK_ID}]}\n",
    "FN_BED=chr17_count.bed.gz\n",
    "FN_OUT=target_PER1_coverage.bed.gz\n",
    "\n",
    "### print input Message\n",
    "echo ++++++++++++++++++++++++++++++++++++++++++++++++\n",
    "echo \"SAMPLE:      \" ${SAMPLE}\n",
    "echo \"Input  file: \" ${FD_BED}/${FN_BED}\n",
    "echo \"Input  file: \" ${FD_WIN}/${FN_REG}\n",
    "echo \"Output file: \" ${FD_BED}/${FN_OUT}\n",
    "echo\n",
    "echo \"Show the first few lines of the input file\"\n",
    "echo ${FD_BED}/${FN_BED}\n",
    "zcat ${FD_BED}/${FN_BED} | head -n 3 \n",
    "echo\n",
    "echo ${FD_WIN}/${FN_REG}\n",
    "cat  ${FD_WIN}/${FN_REG} | head -n 3 \n",
    "echo\n",
    "\n",
    "### run: get the coverage of sliding window\n",
    "bedtools map \\\n",
    "    -a ${FD_WIN}/${FN_REG} \\\n",
    "    -b ${FD_BED}/${FN_BED} \\\n",
    "    -c 4 \\\n",
    "    -o sum |\\\n",
    "    gzip -c \\\n",
    "    > ${FD_BED}/${FN_OUT}\n",
    "\n",
    "### print output Message\n",
    "echo \"Show the first few lines of the output file\"\n",
    "echo ${FD_BED}/${FN_OUT}\n",
    "zcat ${FD_BED}/${FN_OUT} | head -n 3\n",
    "echo\n",
    "\n",
    "### print end message\n",
    "timer=`date +%s`\n",
    "runtime=$(echo \"${timer} - ${timer_start}\" | bc -l)\n",
    "echo\n",
    "echo 'Done!'\n",
    "echo \"Run Time: $(displaytime ${runtime})\"\n",
    "\n",
    "EOF"
   ]
  },
  {
   "cell_type": "code",
   "execution_count": null,
   "id": "2f4ccbfc-a7b2-41bf-a1be-8494c0145164",
   "metadata": {},
   "outputs": [],
   "source": []
  },
  {
   "cell_type": "code",
   "execution_count": null,
   "id": "38b34a68-5610-4487-9e02-02293a9da569",
   "metadata": {},
   "outputs": [],
   "source": []
  },
  {
   "cell_type": "code",
   "execution_count": null,
   "id": "f335cc2c-11f3-4432-bac9-496e9677a5fd",
   "metadata": {},
   "outputs": [],
   "source": []
  }
 ],
 "metadata": {
  "kernelspec": {
   "display_name": "Bash",
   "language": "bash",
   "name": "bash"
  },
  "language_info": {
   "codemirror_mode": "shell",
   "file_extension": ".sh",
   "mimetype": "text/x-sh",
   "name": "bash"
  }
 },
 "nbformat": 4,
 "nbformat_minor": 5
}
