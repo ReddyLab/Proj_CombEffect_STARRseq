{
 "cells": [
  {
   "cell_type": "code",
   "execution_count": 1,
   "id": "ad338781-e82e-4387-ba57-a7b6e0f08e44",
   "metadata": {},
   "outputs": [],
   "source": [
    "### set environment\n",
    "source ../config_duke.sh\n",
    "source ../config_load_module_bedtools.sh"
   ]
  },
  {
   "cell_type": "code",
   "execution_count": 5,
   "id": "08ca5aa0-25b3-46a4-82f6-9c3ef20cd94a",
   "metadata": {},
   "outputs": [
    {
     "name": "stdout",
     "output_type": "stream",
     "text": [
      "chr17\t8148000\t8149000\n",
      "chr17\t8148001\t8149001\n",
      "chr17\t8148002\t8149002\n",
      "chr17\t8148003\t8149003\n",
      "chr17\t8148004\t8149004\n",
      "chr17\t8148005\t8149005\n",
      "chr17\t8148006\t8149006\n",
      "chr17\t8148007\t8149007\n",
      "chr17\t8148008\t8149008\n",
      "chr17\t8148009\t8149009\n"
     ]
    }
   ],
   "source": [
    "head ${FD_RES}/sliding_window/sliding_PER1_len_1kb_gap_100bp.bed"
   ]
  },
  {
   "cell_type": "code",
   "execution_count": 10,
   "id": "09049f7e-f605-4eb4-9115-2bdb8711c1a9",
   "metadata": {},
   "outputs": [
    {
     "name": "stdout",
     "output_type": "stream",
     "text": [
      ">chr17\n",
      "NNNNNNNNNNNNNNNNNNNNNNNNNNNNNNNNNNNNNNNNNNNNNNNNNN\n",
      "NNNNNNNNNNNNNNNNNNNNNNNNNNNNNNNNNNNNNNNNNNNNNNNNNN\n",
      "cat: write error: Broken pipe\n"
     ]
    }
   ],
   "source": [
    "CHROM=chr17\n",
    "FD_GEN=${FD_ANN}/genome/hg38/fasta\n",
    "FN_GEN=${CHROM}.fa\n",
    "\n",
    "cat ${FD_GEN}/${FN_GEN} | head -n 3"
   ]
  },
  {
   "cell_type": "code",
   "execution_count": 16,
   "id": "1dfd12d2-ce60-45bb-b9a3-f5788e55ceff",
   "metadata": {},
   "outputs": [
    {
     "name": "stdout",
     "output_type": "stream",
     "text": [
      "Submitted batch job 28752748\n"
     ]
    }
   ],
   "source": [
    "sbatch -p ${NODE} \\\n",
    "    --mem 8G \\\n",
    "    -o ${FD_LOG}/nuc_sliding_window_chr17.txt \\\n",
    "    <<'EOF'\n",
    "#!/bin/bash\n",
    "\n",
    "### set directories & global variables\n",
    "source ../config_duke.sh\n",
    "\n",
    "### print start message\n",
    "timer_start=`date +%s`\n",
    "echo \"Slurm Array Index: \" ${SLURM_ARRAY_TASK_ID}\n",
    "echo \"Time Stamp:        \" $(date +\"%m-%d-%y+%T\")\n",
    "echo    \n",
    "\n",
    "### set file IO: global variables\n",
    "CHROM=chr17\n",
    "WINDOW=sliding_chr17_len_1kb_gap_100bp\n",
    "\n",
    "### set file IO: genome annotation\n",
    "FD_GEN=${FD_ANN}/genome/hg38/fasta\n",
    "FN_GEN=${CHROM}.fa\n",
    "\n",
    "### set file IO: sliding windows\n",
    "FD_BED=${FD_RES}/sliding_window\n",
    "FN_BED=${WINDOW}.bed\n",
    "\n",
    "### set file IO: output files\n",
    "FD_OUT=${FD_BED}\n",
    "FN_OUT=${WINDOW}.nuc.bed.gz\n",
    "\n",
    "### print input/output file names\n",
    "echo \"Input  file: \" ${FD_GEN}/${FN_GEN}\n",
    "echo \"Input  file: \" ${FD_BED}/${FN_BED}\n",
    "echo \"Output file: \" ${FD_OUT}/${FN_OUT}\n",
    "echo\n",
    "\n",
    "### show input files\n",
    "echo \"Show the first few lines of input file\"\n",
    "echo ${FD_GEN}/${FN_GEN}\n",
    "cat  ${FD_GEN}/${FN_GEN} | head -n 3 \n",
    "echo\n",
    "echo ${FD_BED}/${FN_BED}\n",
    "cat  ${FD_BED}/${FN_BED} | head -n 3 \n",
    "echo\n",
    "\n",
    "### calculate the GC content of sliding windows\n",
    "bedtools nuc \\\n",
    "    -fi  ${FD_GEN}/${FN_GEN} \\\n",
    "    -bed ${FD_BED}/${FN_BED} |\\\n",
    "    gzip -c > ${FD_OUT}/${FN_OUT}\n",
    "    \n",
    "### show output files\n",
    "echo \"Show the first few lines of output file\"\n",
    "echo ${FD_OUT}/${FN_OUT}\n",
    "zcat ${FD_OUT}/${FN_OUT} | head -n 3 \n",
    "echo\n",
    "\n",
    "### print end message\n",
    "timer=`date +%s`\n",
    "runtime=$(echo \"${timer} - ${timer_start}\" | bc -l)\n",
    "echo\n",
    "echo 'Done!'\n",
    "echo \"Run Time: $(displaytime ${runtime})\"\n",
    "\n",
    "EOF"
   ]
  },
  {
   "cell_type": "code",
   "execution_count": 17,
   "id": "b4a03e3a-219a-4dd7-8bdf-6aed486bf8c6",
   "metadata": {},
   "outputs": [
    {
     "name": "stdout",
     "output_type": "stream",
     "text": [
      "Slurm Array Index: \n",
      "Time Stamp:         08-09-22+07:15:58\n",
      "\n",
      "Input  file:  /gpfs/fs1/data/reddylab/Kuei/annotation/genome/hg38/fasta/chr17.fa\n",
      "Input  file:  /gpfs/fs1/data/reddylab/Kuei/out/proj_combeffect/sliding_window/sliding_chr17_len_1kb_gap_100bp.bed\n",
      "Output file:  /gpfs/fs1/data/reddylab/Kuei/out/proj_combeffect/sliding_window/sliding_chr17_len_1kb_gap_100bp.nuc.bed.gz\n",
      "\n",
      "Show the first few lines of input file\n",
      "/gpfs/fs1/data/reddylab/Kuei/annotation/genome/hg38/fasta/chr17.fa\n",
      ">chr17\n",
      "NNNNNNNNNNNNNNNNNNNNNNNNNNNNNNNNNNNNNNNNNNNNNNNNNN\n",
      "NNNNNNNNNNNNNNNNNNNNNNNNNNNNNNNNNNNNNNNNNNNNNNNNNN\n",
      "\n",
      "/gpfs/fs1/data/reddylab/Kuei/out/proj_combeffect/sliding_window/sliding_chr17_len_1kb_gap_100bp.bed\n",
      "chr17\t0\t1000\n",
      "chr17\t100\t1100\n",
      "chr17\t200\t1200\n",
      "\n",
      "Show the first few lines of output file\n",
      "/gpfs/fs1/data/reddylab/Kuei/out/proj_combeffect/sliding_window/sliding_chr17_len_1kb_gap_100bp.nuc.bed.gz\n",
      "#1_usercol\t2_usercol\t3_usercol\t4_pct_at\t5_pct_gc\t6_num_A\t7_num_C\t8_num_G\t9_num_T\t10_num_N\t11_num_oth\t12_seq_len\n",
      "chr17\t0\t1000\t0.000000\t0.000000\t0\t0\t0\t0\t1000\t0\t1000\n",
      "chr17\t100\t1100\t0.000000\t0.000000\t0\t0\t0\t0\t1000\t0\t1000\n",
      "\n",
      "\n",
      "Done!\n",
      "Run Time: 14 seconds\n"
     ]
    }
   ],
   "source": [
    "cat ${FD_LOG}/nuc_sliding_window_chr17.txt"
   ]
  },
  {
   "cell_type": "code",
   "execution_count": null,
   "id": "842812c4-8909-4ef7-91a6-ca7bc939acbf",
   "metadata": {},
   "outputs": [],
   "source": []
  }
 ],
 "metadata": {
  "kernelspec": {
   "display_name": "Bash",
   "language": "bash",
   "name": "bash"
  },
  "language_info": {
   "codemirror_mode": "shell",
   "file_extension": ".sh",
   "mimetype": "text/x-sh",
   "name": "bash"
  }
 },
 "nbformat": 4,
 "nbformat_minor": 5
}
