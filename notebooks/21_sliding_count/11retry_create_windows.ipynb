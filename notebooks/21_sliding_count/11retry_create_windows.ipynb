{
 "cells": [
  {
   "cell_type": "markdown",
   "id": "b3f09688",
   "metadata": {},
   "source": [
    "**Set environment**"
   ]
  },
  {
   "cell_type": "code",
   "execution_count": 2,
   "id": "3ff7a607",
   "metadata": {},
   "outputs": [
    {
     "name": "stdout",
     "output_type": "stream",
     "text": [
      "You are on Duke Server: HARDAC\n",
      "BASE DIRECTORY:     /gpfs/fs1/data/reddylab/Kuei\n",
      "PATH OF SOURCE:     /gpfs/fs1/data/reddylab/Kuei/source\n",
      "PATH OF EXECUTABLE: /gpfs/fs1/data/reddylab/Kuei/exe\n",
      "PATH OF ANNOTATION: /gpfs/fs1/data/reddylab/Kuei/annotation\n",
      "PATH OF PROJECT:    /gpfs/fs1/data/reddylab/Kuei/GitRepo/Proj_CombEffect_STARRseq/notebooks\n",
      "PATH OF RESULTS:    /gpfs/fs1/data/reddylab/Kuei/out/proj_combeffect\n",
      "\n"
     ]
    }
   ],
   "source": [
    "source ../config_duke.sh; show_env"
   ]
  },
  {
   "cell_type": "markdown",
   "id": "4c901e2b",
   "metadata": {
    "tags": []
   },
   "source": [
    "## Scratch: Steps\n",
    "- generate windows\n",
    "- count fragments and normalize the counts\n",
    "- calculate mean variance relationship\n",
    "- perform simulation using Negative binomial distribution"
   ]
  },
  {
   "cell_type": "markdown",
   "id": "7e89cced",
   "metadata": {},
   "source": [
    "## Generate fragments"
   ]
  },
  {
   "cell_type": "code",
   "execution_count": 7,
   "id": "cf585abd",
   "metadata": {},
   "outputs": [
    {
     "name": "stdout",
     "output_type": "stream",
     "text": [
      "0\n",
      "5\n",
      "10\n",
      "15\n",
      "20\n"
     ]
    }
   ],
   "source": [
    "for LOC in {0..20..5}; do\n",
    "    echo ${LOC}\n",
    "done"
   ]
  },
  {
   "cell_type": "code",
   "execution_count": 17,
   "id": "41a5b801",
   "metadata": {},
   "outputs": [
    {
     "name": "stdout",
     "output_type": "stream",
     "text": [
      "0\n",
      "5\n",
      "10\n",
      "15\n",
      "20\n"
     ]
    }
   ],
   "source": [
    "START=0\n",
    "END=20\n",
    "GAP=5\n",
    "\n",
    "for LOC in $(seq ${START} ${GAP} ${END}); do\n",
    "    echo ${LOC}\n",
    "done"
   ]
  },
  {
   "cell_type": "code",
   "execution_count": 12,
   "id": "bcd7d6fd",
   "metadata": {},
   "outputs": [
    {
     "name": "stdout",
     "output_type": "stream",
     "text": [
      "chr17\t0\t10\n",
      "chr17\t5\t15\n",
      "chr17\t10\t20\n",
      "chr17\t15\t25\n",
      "chr17\t20\t30\n"
     ]
    }
   ],
   "source": [
    "CHROM=chr17\n",
    "START=0\n",
    "END=20\n",
    "LEN=10\n",
    "GAP=5\n",
    "\n",
    "for LOC in $(seq ${START} ${GAP} ${END}); do\n",
    "    echo -e \"${CHROM}\\\\t${LOC}\\\\t$((${LOC} + ${LEN}))\"\n",
    "done"
   ]
  },
  {
   "cell_type": "markdown",
   "id": "ba9691ce",
   "metadata": {},
   "source": [
    "**Chr17: 8148000-8160000 (Upstream of PER1)**"
   ]
  },
  {
   "cell_type": "code",
   "execution_count": 19,
   "id": "2c793351",
   "metadata": {},
   "outputs": [],
   "source": [
    "CHROM=chr17\n",
    "START=8148000\n",
    "END=8160000\n",
    "LEN=1000\n",
    "GAP=100\n",
    "\n",
    "FP_OUT=${FD_RES}/sliding_window/sliding_PER1_len_1kb_gap_100bp.bed\n",
    "cat /dev/null > ${FP_OUT}\n",
    "\n",
    "for LOC in $(seq ${START} ${END}); do\n",
    "    echo -e \"${CHROM}\\\\t${LOC}\\\\t$((${LOC} + ${LEN}))\" >> ${FP_OUT}\n",
    "done"
   ]
  },
  {
   "cell_type": "markdown",
   "id": "7742ccae",
   "metadata": {},
   "source": [
    "**Chr17**"
   ]
  },
  {
   "cell_type": "code",
   "execution_count": 10,
   "id": "7abdab27-5a45-4cb3-877c-bdc72ecaee3e",
   "metadata": {},
   "outputs": [
    {
     "name": "stdout",
     "output_type": "stream",
     "text": [
      "chr17\t83257441\n"
     ]
    }
   ],
   "source": [
    "cat ${FD_ANN}/genome/hg38/hg38.chrom.sizes.chr17"
   ]
  },
  {
   "cell_type": "code",
   "execution_count": 13,
   "id": "ea70123f-5ad1-48a9-93e9-ac0ea63e8e0f",
   "metadata": {},
   "outputs": [],
   "source": [
    "### set parameters\n",
    "CHROM=chr17\n",
    "START=0\n",
    "END=83257441\n",
    "LEN=1000\n",
    "GAP=100\n",
    "\n",
    "### set windows start and end\n",
    "LOC1=${START}\n",
    "LOC2=$((${END} - ${LEN}))\n",
    "\n",
    "### create windows\n",
    "FP_OUT=${FD_RES}/sliding_window/sliding_chr17_len_1kb_gap_100bp.bed\n",
    "cat /dev/null > ${FP_OUT}\n",
    "for LOC in $(seq ${LOC1} ${GAP} ${LOC2}); do\n",
    "    echo -e \"${CHROM}\\\\t${LOC}\\\\t$((${LOC} + ${LEN}))\" >> ${FP_OUT}\n",
    "done"
   ]
  },
  {
   "cell_type": "code",
   "execution_count": 14,
   "id": "3f076cdd-6703-4c93-b3da-baef392977c0",
   "metadata": {},
   "outputs": [
    {
     "name": "stdout",
     "output_type": "stream",
     "text": [
      "chr17\t0\t1000\n",
      "chr17\t100\t1100\n",
      "chr17\t200\t1200\n",
      "chr17\t300\t1300\n",
      "chr17\t400\t1400\n",
      "chr17\t500\t1500\n",
      "chr17\t600\t1600\n",
      "chr17\t700\t1700\n",
      "chr17\t800\t1800\n",
      "chr17\t900\t1900\n",
      "++++++++++++++++++++++++++++++\n",
      "chr17\t83255500\t83256500\n",
      "chr17\t83255600\t83256600\n",
      "chr17\t83255700\t83256700\n",
      "chr17\t83255800\t83256800\n",
      "chr17\t83255900\t83256900\n",
      "chr17\t83256000\t83257000\n",
      "chr17\t83256100\t83257100\n",
      "chr17\t83256200\t83257200\n",
      "chr17\t83256300\t83257300\n",
      "chr17\t83256400\t83257400\n"
     ]
    }
   ],
   "source": [
    "FP_OUT=${FD_RES}/sliding_window/sliding_chr17_len_1kb_gap_100bp.bed\n",
    "head ${FP_OUT}\n",
    "echo ++++++++++++++++++++++++++++++\n",
    "tail ${FP_OUT}"
   ]
  },
  {
   "cell_type": "code",
   "execution_count": null,
   "id": "08a9bbf6-ae9f-4c10-8bd5-ed89ed82dd48",
   "metadata": {},
   "outputs": [],
   "source": []
  }
 ],
 "metadata": {
  "kernelspec": {
   "display_name": "Bash",
   "language": "bash",
   "name": "bash"
  },
  "language_info": {
   "codemirror_mode": "shell",
   "file_extension": ".sh",
   "mimetype": "text/x-sh",
   "name": "bash"
  }
 },
 "nbformat": 4,
 "nbformat_minor": 5
}
