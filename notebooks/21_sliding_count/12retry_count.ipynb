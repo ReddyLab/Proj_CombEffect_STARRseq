{
 "cells": [
  {
   "cell_type": "markdown",
   "id": "fdb798e0-9374-4d71-b030-35f53d691222",
   "metadata": {},
   "source": [
    "**Set environment**"
   ]
  },
  {
   "cell_type": "code",
   "execution_count": 1,
   "id": "f1826c5e-e4b7-4126-85f4-12ceba997557",
   "metadata": {},
   "outputs": [
    {
     "name": "stdout",
     "output_type": "stream",
     "text": [
      "You are on Duke Server: HARDAC\n",
      "BASE DIRECTORY:     /gpfs/fs1/data/reddylab/Kuei\n",
      "PATH OF SOURCE:     /gpfs/fs1/data/reddylab/Kuei/source\n",
      "PATH OF EXECUTABLE: /gpfs/fs1/data/reddylab/Kuei/exe\n",
      "PATH OF ANNOTATION: /gpfs/fs1/data/reddylab/Kuei/annotation\n",
      "PATH OF PROJECT:    /gpfs/fs1/data/reddylab/Kuei/GitRepo/Proj_CombEffect_STARRseq/notebooks\n",
      "PATH OF RESULTS:    /gpfs/fs1/data/reddylab/Kuei/out/proj_combeffect\n",
      "\n"
     ]
    }
   ],
   "source": [
    "source ../config_duke.sh; show_env\n",
    "source ../config_load_module_bedtools.sh"
   ]
  },
  {
   "cell_type": "markdown",
   "id": "61390f5e-aaa9-4133-bf7d-f0bae647c726",
   "metadata": {},
   "source": [
    "## Intersect sliding windows with fragments and count"
   ]
  },
  {
   "cell_type": "markdown",
   "id": "564368bb-2bdf-4238-8ea8-23997b5cc7f2",
   "metadata": {},
   "source": [
    "**Test loop**"
   ]
  },
  {
   "cell_type": "code",
   "execution_count": 2,
   "id": "c9bc089d-43b1-43e3-aa36-659fc2058bce",
   "metadata": {},
   "outputs": [
    {
     "name": "stdout",
     "output_type": "stream",
     "text": [
      "/gpfs/fs1/data/reddylab/Kuei/out/proj_combeffect/data/Input1_20x/target_PER1.bed\n",
      "/gpfs/fs1/data/reddylab/Kuei/out/proj_combeffect/data/Input1/target_PER1.bed\n",
      "/gpfs/fs1/data/reddylab/Kuei/out/proj_combeffect/data/Input2_20x/target_PER1.bed\n",
      "/gpfs/fs1/data/reddylab/Kuei/out/proj_combeffect/data/Input2/target_PER1.bed\n",
      "/gpfs/fs1/data/reddylab/Kuei/out/proj_combeffect/data/Input3_20x/target_PER1.bed\n",
      "/gpfs/fs1/data/reddylab/Kuei/out/proj_combeffect/data/Input3/target_PER1.bed\n",
      "/gpfs/fs1/data/reddylab/Kuei/out/proj_combeffect/data/Input4_20x/target_PER1.bed\n",
      "/gpfs/fs1/data/reddylab/Kuei/out/proj_combeffect/data/Input4/target_PER1.bed\n",
      "/gpfs/fs1/data/reddylab/Kuei/out/proj_combeffect/data/Input5_20x/target_PER1.bed\n",
      "/gpfs/fs1/data/reddylab/Kuei/out/proj_combeffect/data/Input5/target_PER1.bed\n",
      "/gpfs/fs1/data/reddylab/Kuei/out/proj_combeffect/data/Input/target_PER1.bed\n",
      "/gpfs/fs1/data/reddylab/Kuei/out/proj_combeffect/data/TFX2_Dex/target_PER1.bed\n",
      "/gpfs/fs1/data/reddylab/Kuei/out/proj_combeffect/data/TFX2_DMSO/target_PER1.bed\n",
      "/gpfs/fs1/data/reddylab/Kuei/out/proj_combeffect/data/TFX3_Dex/target_PER1.bed\n",
      "/gpfs/fs1/data/reddylab/Kuei/out/proj_combeffect/data/TFX3_DMSO/target_PER1.bed\n",
      "/gpfs/fs1/data/reddylab/Kuei/out/proj_combeffect/data/TFX4_Dex/target_PER1.bed\n",
      "/gpfs/fs1/data/reddylab/Kuei/out/proj_combeffect/data/TFX4_DMSO/target_PER1.bed\n",
      "/gpfs/fs1/data/reddylab/Kuei/out/proj_combeffect/data/TFX5_Dex/target_PER1.bed\n",
      "/gpfs/fs1/data/reddylab/Kuei/out/proj_combeffect/data/TFX5_DMSO/target_PER1.bed\n",
      "/gpfs/fs1/data/reddylab/Kuei/out/proj_combeffect/data/TFX_Dex/target_PER1.bed\n",
      "/gpfs/fs1/data/reddylab/Kuei/out/proj_combeffect/data/TFX_DMSO/target_PER1.bed\n"
     ]
    }
   ],
   "source": [
    "ls -d ${FD_RES}/data/*/target_PER1.bed"
   ]
  },
  {
   "cell_type": "code",
   "execution_count": 3,
   "id": "8f4ef59e-fbfb-47d2-9ec7-477d3a985c4b",
   "metadata": {},
   "outputs": [
    {
     "name": "stdout",
     "output_type": "stream",
     "text": [
      "/gpfs/fs1/data/reddylab/Kuei/out/proj_combeffect/data/Input1_20x/chr17.bed\n",
      "/gpfs/fs1/data/reddylab/Kuei/out/proj_combeffect/data/Input1/chr17.bed\n",
      "/gpfs/fs1/data/reddylab/Kuei/out/proj_combeffect/data/Input2_20x/chr17.bed\n",
      "/gpfs/fs1/data/reddylab/Kuei/out/proj_combeffect/data/Input2/chr17.bed\n",
      "/gpfs/fs1/data/reddylab/Kuei/out/proj_combeffect/data/Input3_20x/chr17.bed\n",
      "/gpfs/fs1/data/reddylab/Kuei/out/proj_combeffect/data/Input3/chr17.bed\n",
      "/gpfs/fs1/data/reddylab/Kuei/out/proj_combeffect/data/Input4_20x/chr17.bed\n",
      "/gpfs/fs1/data/reddylab/Kuei/out/proj_combeffect/data/Input4/chr17.bed\n",
      "/gpfs/fs1/data/reddylab/Kuei/out/proj_combeffect/data/Input5_20x/chr17.bed\n",
      "/gpfs/fs1/data/reddylab/Kuei/out/proj_combeffect/data/Input5/chr17.bed\n",
      "/gpfs/fs1/data/reddylab/Kuei/out/proj_combeffect/data/Input/chr17.bed\n",
      "/gpfs/fs1/data/reddylab/Kuei/out/proj_combeffect/data/TFX2_Dex/chr17.bed\n",
      "/gpfs/fs1/data/reddylab/Kuei/out/proj_combeffect/data/TFX2_DMSO/chr17.bed\n",
      "/gpfs/fs1/data/reddylab/Kuei/out/proj_combeffect/data/TFX3_Dex/chr17.bed\n",
      "/gpfs/fs1/data/reddylab/Kuei/out/proj_combeffect/data/TFX3_DMSO/chr17.bed\n",
      "/gpfs/fs1/data/reddylab/Kuei/out/proj_combeffect/data/TFX4_Dex/chr17.bed\n",
      "/gpfs/fs1/data/reddylab/Kuei/out/proj_combeffect/data/TFX4_DMSO/chr17.bed\n",
      "/gpfs/fs1/data/reddylab/Kuei/out/proj_combeffect/data/TFX5_Dex/chr17.bed\n",
      "/gpfs/fs1/data/reddylab/Kuei/out/proj_combeffect/data/TFX5_DMSO/chr17.bed\n",
      "/gpfs/fs1/data/reddylab/Kuei/out/proj_combeffect/data/TFX_Dex/chr17.bed\n",
      "/gpfs/fs1/data/reddylab/Kuei/out/proj_combeffect/data/TFX_DMSO/chr17.bed\n"
     ]
    }
   ],
   "source": [
    "ls -d ${FD_RES}/data/*/chr17.bed"
   ]
  },
  {
   "cell_type": "code",
   "execution_count": 4,
   "id": "dbe62d4e-4d38-4e4a-9cd8-f41a5b218912",
   "metadata": {},
   "outputs": [
    {
     "name": "stdout",
     "output_type": "stream",
     "text": [
      "\u001b[0m\u001b[38;5;27m/gpfs/fs1/data/reddylab/Kuei/out/proj_combeffect/data/Input1\u001b[0m\n",
      "\u001b[38;5;27m/gpfs/fs1/data/reddylab/Kuei/out/proj_combeffect/data/Input1_20x\u001b[0m\n",
      "\u001b[38;5;27m/gpfs/fs1/data/reddylab/Kuei/out/proj_combeffect/data/Input2\u001b[0m\n",
      "\u001b[38;5;27m/gpfs/fs1/data/reddylab/Kuei/out/proj_combeffect/data/Input2_20x\u001b[0m\n",
      "\u001b[38;5;27m/gpfs/fs1/data/reddylab/Kuei/out/proj_combeffect/data/Input3\u001b[0m\n",
      "\u001b[38;5;27m/gpfs/fs1/data/reddylab/Kuei/out/proj_combeffect/data/Input3_20x\u001b[0m\n",
      "\u001b[38;5;27m/gpfs/fs1/data/reddylab/Kuei/out/proj_combeffect/data/Input4\u001b[0m\n",
      "\u001b[38;5;27m/gpfs/fs1/data/reddylab/Kuei/out/proj_combeffect/data/Input4_20x\u001b[0m\n",
      "\u001b[38;5;27m/gpfs/fs1/data/reddylab/Kuei/out/proj_combeffect/data/Input5\u001b[0m\n",
      "\u001b[38;5;27m/gpfs/fs1/data/reddylab/Kuei/out/proj_combeffect/data/Input5_20x\u001b[0m\n",
      "\u001b[38;5;27m/gpfs/fs1/data/reddylab/Kuei/out/proj_combeffect/data/TFX2_Dex\u001b[0m\n",
      "\u001b[38;5;27m/gpfs/fs1/data/reddylab/Kuei/out/proj_combeffect/data/TFX2_DMSO\u001b[0m\n",
      "\u001b[38;5;27m/gpfs/fs1/data/reddylab/Kuei/out/proj_combeffect/data/TFX3_Dex\u001b[0m\n",
      "\u001b[38;5;27m/gpfs/fs1/data/reddylab/Kuei/out/proj_combeffect/data/TFX3_DMSO\u001b[0m\n",
      "\u001b[38;5;27m/gpfs/fs1/data/reddylab/Kuei/out/proj_combeffect/data/TFX4_Dex\u001b[0m\n",
      "\u001b[38;5;27m/gpfs/fs1/data/reddylab/Kuei/out/proj_combeffect/data/TFX4_DMSO\u001b[0m\n",
      "\u001b[38;5;27m/gpfs/fs1/data/reddylab/Kuei/out/proj_combeffect/data/TFX5_Dex\u001b[0m\n",
      "\u001b[38;5;27m/gpfs/fs1/data/reddylab/Kuei/out/proj_combeffect/data/TFX5_DMSO\u001b[0m\n"
     ]
    }
   ],
   "source": [
    "ls -d ${FD_RES}/data/{Input?*,TFX?_DMSO,TFX?_Dex}"
   ]
  },
  {
   "cell_type": "code",
   "execution_count": 9,
   "id": "f2e97237-8443-4643-a68f-99cb6d5f561c",
   "metadata": {},
   "outputs": [
    {
     "name": "stdout",
     "output_type": "stream",
     "text": [
      "18\n"
     ]
    }
   ],
   "source": [
    "ls -d ${FD_RES}/data/{Input?*,TFX?_DMSO,TFX?_Dex} | wc -l"
   ]
  },
  {
   "cell_type": "markdown",
   "id": "cb4666eb-63a5-42b4-a845-86426b64369b",
   "metadata": {},
   "source": [
    "## Intersect PER1"
   ]
  },
  {
   "cell_type": "code",
   "execution_count": 43,
   "id": "5838f328-9f26-4753-bb77-f6c7999eb41c",
   "metadata": {},
   "outputs": [
    {
     "name": "stdout",
     "output_type": "stream",
     "text": [
      "Submitted batch job 28618440\n"
     ]
    }
   ],
   "source": [
    "sbatch -p ${NODE} \\\n",
    "    --mem 10G \\\n",
    "    -o ${FD_LOG}/sliding_windows_per1.txt \\\n",
    "    <<'EOF'\n",
    "#!/bin/bash\n",
    "### set directories & global variables\n",
    "source ../config_duke.sh\n",
    "#CHROMS=($(seq 1 22) X Y)\n",
    "#CHROM=chr${CHROMS[${SLURM_ARRAY_TASK_ID}]}\n",
    "#TARGET=${CHROM}\n",
    "CHROM=chr17\n",
    "TARGET=target_PER1\n",
    "\n",
    "### fragments\n",
    "FD_BEDS=($(ls -d ${FD_RES}/data/{Input?*,TFX?_DMSO,TFX?_Dex}/))\n",
    "FN_BED=${TARGET}.bed\n",
    "\n",
    "### sliding windows\n",
    "FD_WIN=${FD_RES}/sliding_window\n",
    "FN_WIN=sliding_PER1_len_1kb_gap_100bp.bed\n",
    "\n",
    "### print start message\n",
    "echo \"Slurm Array Index: \" ${SLURM_ARRAY_TASK_ID}\n",
    "\n",
    "### loop through each sample and count each fragment of a chromosome\n",
    "echo \"RUN: loop through samples; intersect fragment and sliding windows\"\n",
    "\n",
    "for FD_BED in ${FD_BEDS[@]}; do\n",
    "    SAMPLE=$(basename ${FD_BED})\n",
    "    FD_OUT=${FD_WIN}/sliding_PER1_len_1kb_gap_100bp/${SAMPLE}\n",
    "    FN_OUT_FRG=${TARGET}_fragment.bed.gz\n",
    "    FN_OUT_CNT=${TARGET}_count.bed.gz\n",
    "    \n",
    "    ### START Message\n",
    "    echo ++++++++++++++++++++++++++++++++++++++++++++++++\n",
    "    echo \"Input  file: \" ${FD_BED}/${FN_BED}\n",
    "    echo \"Input  file: \" ${FD_WIN}/${FN_WIN}\n",
    "    echo \"Output file: \" ${FD_OUT}/${FN_OUT}\n",
    "    echo\n",
    "    echo \"Show the first few lines of the input file\"\n",
    "    echo ${FD_BED}/${FN_BED}\n",
    "    cat  ${FD_BED}/${FN_BED} | head -n 3 \n",
    "    echo\n",
    "    \n",
    "    ### init: create output folder if not exist\n",
    "    mkdir -p ${FD_OUT}\n",
    "    \n",
    "    ### intersect sliding window and fragments\n",
    "    bedtools intersect -a ${FD_WIN}/${FN_WIN} -b ${FD_BED}/${FN_BED} -wo |\\\n",
    "        gzip -c > ${FD_OUT}/${FN_OUT_FRG}\n",
    "    \n",
    "    ### count the fragments foreach sliding window\n",
    "    zcat ${FD_OUT}/${FN_OUT_FRG} |\\\n",
    "        cut -f1-3 |\\\n",
    "        sort -k 1,1 -k2,2n |\\\n",
    "        uniq -c |\\\n",
    "        awk '{$(NF+1)=$1;$1=\"\"}1'   |\\\n",
    "        sed -e 's/^[[:space:]]*//'  |\\\n",
    "        sed -e 's/[[:space:]]/\\t/g' |\\\n",
    "        gzip -c \\\n",
    "        > ${FD_OUT}/${FN_OUT_CNT}\n",
    "        \n",
    "    ### END Message\n",
    "    echo \"Show the first few lines of the output file\"\n",
    "    echo ${FD_OUT}/${FN_OUT_FRG}\n",
    "    zcat ${FD_OUT}/${FN_OUT_FRG} | head -n 3\n",
    "    echo\n",
    "    echo ${FD_OUT}/${FN_OUT_CNT}\n",
    "    zcat ${FD_OUT}/${FN_OUT_CNT} | head -n 3\n",
    "    echo\n",
    "done\n",
    "echo \"Done!\"\n",
    "\n",
    "EOF"
   ]
  },
  {
   "cell_type": "markdown",
   "id": "85980b34-cb2b-46c0-a9ec-cabc76fbaec8",
   "metadata": {},
   "source": [
    "## Intersect Chr17 (No restriction)"
   ]
  },
  {
   "cell_type": "code",
   "execution_count": 27,
   "id": "679bf862-7e13-4883-8c95-9c8ee245617e",
   "metadata": {},
   "outputs": [
    {
     "name": "stdout",
     "output_type": "stream",
     "text": [
      "Submitted batch job 28646043\n"
     ]
    }
   ],
   "source": [
    "sbatch -p ${NODE} \\\n",
    "    --array 0-17 \\\n",
    "    --mem 10G \\\n",
    "    -o ${FD_LOG}/sliding_windows_chr17.%a.txt \\\n",
    "    <<'EOF'\n",
    "#!/bin/bash\n",
    "### set directories & global variables\n",
    "source ../config_duke.sh\n",
    "#CHROMS=($(seq 1 22) X Y)\n",
    "#CHROM=chr${CHROMS[${SLURM_ARRAY_TASK_ID}]}\n",
    "#TARGET=${CHROM}\n",
    "CHROM=chr17\n",
    "TARGET=chr17\n",
    "\n",
    "### print start message\n",
    "timer_start=`date +%s`\n",
    "echo \"Slurm Array Index: \" ${SLURM_ARRAY_TASK_ID}\n",
    "echo \"Time Stamp:        \" $(date +\"%m-%d-%y+%T\")\n",
    "echo\n",
    "\n",
    "### sliding windows\n",
    "WINDOW=sliding_chr17_len_1kb_gap_100bp\n",
    "FD_WIN=${FD_RES}/sliding_window\n",
    "FN_WIN=${WINDOW}.bed\n",
    "\n",
    "### fragments\n",
    "FD_BEDS=($(ls -d ${FD_RES}/data/{Input?*,TFX?_DMSO,TFX?_Dex}/))\n",
    "FD_BED=${FD_BEDS[${SLURM_ARRAY_TASK_ID}]}\n",
    "FN_BED=${TARGET}.bed\n",
    "\n",
    "### output\n",
    "SAMPLE=$(basename ${FD_BED})\n",
    "FD_OUT=${FD_WIN}/${WINDOW}/${SAMPLE}\n",
    "FN_OUT_FRG=${TARGET}_fragment.bed.gz\n",
    "FN_OUT_CNT=${TARGET}_count.bed.gz\n",
    "\n",
    "### print input Message\n",
    "echo ++++++++++++++++++++++++++++++++++++++++++++++++\n",
    "echo \"SAMPLE:      \" ${SAMPLE}\n",
    "echo \"Input  file: \" ${FD_BED}/${FN_BED}\n",
    "echo \"Input  file: \" ${FD_WIN}/${FN_WIN}\n",
    "echo \"Output file: \" ${FD_OUT}/${FN_OUT_FRG}\n",
    "echo \"Output file: \" ${FD_OUT}/${FN_OUT_CNT}\n",
    "echo\n",
    "echo \"Show the first few lines of the input file\"\n",
    "echo ${FD_BED}/${FN_BED}\n",
    "cat  ${FD_BED}/${FN_BED} | head -n 3 \n",
    "echo\n",
    "echo ${FD_WIN}/${FN_WIN}\n",
    "cat  ${FD_WIN}/${FN_WIN} | head -n 3 \n",
    "\n",
    "### init: create output folder if not exist\n",
    "mkdir -p ${FD_OUT}\n",
    "\n",
    "### intersect sliding window and fragments\n",
    "bedtools intersect -a ${FD_WIN}/${FN_WIN} -b ${FD_BED}/${FN_BED} -wo |\\\n",
    "    gzip -c > ${FD_OUT}/${FN_OUT_FRG}\n",
    "\n",
    "### count the fragments foreach sliding window\n",
    "zcat ${FD_OUT}/${FN_OUT_FRG} |\\\n",
    "    cut -f1-3 |\\\n",
    "    sort -k 1,1 -k2,2n |\\\n",
    "    uniq -c |\\\n",
    "    awk '{$(NF+1)=$1;$1=\"\"}1'   |\\\n",
    "    sed -e 's/^[[:space:]]*//'  |\\\n",
    "    sed -e 's/[[:space:]]/\\t/g' |\\\n",
    "    gzip -c \\\n",
    "    > ${FD_OUT}/${FN_OUT_CNT}\n",
    "\n",
    "### print output Message\n",
    "echo \"Show the first few lines of the output file\"\n",
    "echo ${FD_OUT}/${FN_OUT_FRG}\n",
    "zcat ${FD_OUT}/${FN_OUT_FRG} | head -n 3\n",
    "echo\n",
    "echo ${FD_OUT}/${FN_OUT_CNT}\n",
    "zcat ${FD_OUT}/${FN_OUT_CNT} | head -n 3\n",
    "echo\n",
    "\n",
    "### print end message\n",
    "timer=`date +%s`\n",
    "runtime=$(echo \"${timer} - ${timer_start}\" | bc -l)\n",
    "echo\n",
    "echo 'Done!'\n",
    "echo \"Run Time: $(displaytime ${runtime})\"\n",
    "\n",
    "EOF"
   ]
  },
  {
   "cell_type": "code",
   "execution_count": 32,
   "id": "cf89d5d3-bfe8-46d6-8be5-9d2986e43e98",
   "metadata": {},
   "outputs": [
    {
     "name": "stdout",
     "output_type": "stream",
     "text": [
      "Slurm Array Index:  1\n",
      "Time Stamp:         07-19-22+04:55:53\n",
      "\n",
      "++++++++++++++++++++++++++++++++++++++++++++++++\n",
      "SAMPLE:       Input1_20x\n",
      "Input  file:  /gpfs/fs1/data/reddylab/Kuei/out/proj_combeffect/data/Input1_20x//chr17.bed\n",
      "Input  file:  /gpfs/fs1/data/reddylab/Kuei/out/proj_combeffect/sliding_window/sliding_chr17_len_1kb_gap_100bp.bed\n",
      "Output file:  /gpfs/fs1/data/reddylab/Kuei/out/proj_combeffect/sliding_window/sliding_chr17_len_1kb_gap_100bp/Input1_20x/chr17_fragment.bed.gz\n",
      "Output file:  /gpfs/fs1/data/reddylab/Kuei/out/proj_combeffect/sliding_window/sliding_chr17_len_1kb_gap_100bp/Input1_20x/chr17_count.bed.gz\n",
      "\n",
      "Show the first few lines of the input file\n",
      "/gpfs/fs1/data/reddylab/Kuei/out/proj_combeffect/data/Input1_20x//chr17.bed\n",
      "chr17\t107410\t108464\n",
      "chr17\t159026\t160040\n",
      "chr17\t159426\t160303\n",
      "\n",
      "/gpfs/fs1/data/reddylab/Kuei/out/proj_combeffect/sliding_window/sliding_chr17_len_1kb_gap_100bp.bed\n",
      "chr17\t0\t1000\n",
      "chr17\t100\t1100\n",
      "chr17\t200\t1200\n",
      "Show the first few lines of the output file\n",
      "/gpfs/fs1/data/reddylab/Kuei/out/proj_combeffect/sliding_window/sliding_chr17_len_1kb_gap_100bp/Input1_20x/chr17_fragment.bed.gz\n",
      "chr17\t106500\t107500\tchr17\t107410\t108464\t90\n",
      "chr17\t106600\t107600\tchr17\t107410\t108464\t190\n",
      "chr17\t106700\t107700\tchr17\t107410\t108464\t290\n",
      "\n",
      "/gpfs/fs1/data/reddylab/Kuei/out/proj_combeffect/sliding_window/sliding_chr17_len_1kb_gap_100bp/Input1_20x/chr17_count.bed.gz\n",
      "chr17\t106500\t107500\t1\n",
      "chr17\t106600\t107600\t1\n",
      "chr17\t106700\t107700\t1\n",
      "\n",
      "\n",
      "Done!\n",
      "Run Time: 1 hours 28 minutes and 58 seconds\n"
     ]
    }
   ],
   "source": [
    "cat ${FD_LOG}/sliding_windows_chr17.1.txt"
   ]
  },
  {
   "cell_type": "markdown",
   "id": "3d94222f-bff9-40f5-a4cd-b7887d5fa5ae",
   "metadata": {},
   "source": [
    "## Intersect Chr17 (filter reciprocal 50%)"
   ]
  },
  {
   "cell_type": "code",
   "execution_count": 33,
   "id": "fb6b3e61-91e5-48c5-8d00-d2f1ab6ecfc6",
   "metadata": {},
   "outputs": [
    {
     "name": "stdout",
     "output_type": "stream",
     "text": [
      "Submitted batch job 28670058\n"
     ]
    }
   ],
   "source": [
    "sbatch -p ${NODE} \\\n",
    "    --array 0-17 \\\n",
    "    --mem 10G \\\n",
    "    -o ${FD_LOG}/sliding_windows_chr17.%a.txt \\\n",
    "    <<'EOF'\n",
    "#!/bin/bash\n",
    "### set directories & global variables\n",
    "source ../config_duke.sh\n",
    "#CHROMS=($(seq 1 22) X Y)\n",
    "#CHROM=chr${CHROMS[${SLURM_ARRAY_TASK_ID}]}\n",
    "#TARGET=${CHROM}\n",
    "CHROM=chr17\n",
    "TARGET=chr17\n",
    "\n",
    "### print start message\n",
    "timer_start=`date +%s`\n",
    "echo \"Slurm Array Index: \" ${SLURM_ARRAY_TASK_ID}\n",
    "echo \"Time Stamp:        \" $(date +\"%m-%d-%y+%T\")\n",
    "echo\n",
    "\n",
    "### sliding windows\n",
    "WINDOW=sliding_chr17_len_1kb_gap_100bp\n",
    "FD_WIN=${FD_RES}/sliding_window\n",
    "FN_WIN=${WINDOW}.bed\n",
    "\n",
    "### fragments\n",
    "FD_BEDS=($(ls -d ${FD_RES}/data/{Input?*,TFX?_DMSO,TFX?_Dex}/))\n",
    "FD_BED=${FD_BEDS[${SLURM_ARRAY_TASK_ID}]}\n",
    "FN_BED=${TARGET}.bed\n",
    "\n",
    "### output\n",
    "###     intersect requirement: A _OR_ B: \n",
    "###     either 50% of A is covered OR 50% of B is covered\n",
    "SAMPLE=$(basename ${FD_BED})\n",
    "FD_OUT=${FD_WIN}/${WINDOW}_f50_OR_F50/${SAMPLE}\n",
    "FN_OUT_FRG=${TARGET}_fragment.bed.gz\n",
    "FN_OUT_CNT=${TARGET}_count.bed.gz\n",
    "\n",
    "### print input Message\n",
    "echo ++++++++++++++++++++++++++++++++++++++++++++++++\n",
    "echo \"SAMPLE:      \" ${SAMPLE}\n",
    "echo \"Input  file: \" ${FD_BED}/${FN_BED}\n",
    "echo \"Input  file: \" ${FD_WIN}/${FN_WIN}\n",
    "echo \"Output file: \" ${FD_OUT}/${FN_OUT_FRG}\n",
    "echo \"Output file: \" ${FD_OUT}/${FN_OUT_CNT}\n",
    "echo\n",
    "echo \"Show the first few lines of the input file\"\n",
    "echo ${FD_BED}/${FN_BED}\n",
    "cat  ${FD_BED}/${FN_BED} | head -n 3 \n",
    "echo\n",
    "echo ${FD_WIN}/${FN_WIN}\n",
    "cat  ${FD_WIN}/${FN_WIN} | head -n 3 \n",
    "\n",
    "### init: create output folder if not exist\n",
    "mkdir -p ${FD_OUT}\n",
    "\n",
    "### intersect sliding window and fragments\n",
    "bedtools intersect -a ${FD_WIN}/${FN_WIN} -b ${FD_BED}/${FN_BED} -wo -f 0.5 -F 0.5 -e |\\\n",
    "    gzip -c > ${FD_OUT}/${FN_OUT_FRG}\n",
    "\n",
    "### count the fragments foreach sliding window\n",
    "zcat ${FD_OUT}/${FN_OUT_FRG} |\\\n",
    "    cut -f1-3 |\\\n",
    "    sort -k 1,1 -k2,2n |\\\n",
    "    uniq -c |\\\n",
    "    awk '{$(NF+1)=$1;$1=\"\"}1'   |\\\n",
    "    sed -e 's/^[[:space:]]*//'  |\\\n",
    "    sed -e 's/[[:space:]]/\\t/g' |\\\n",
    "    gzip -c \\\n",
    "    > ${FD_OUT}/${FN_OUT_CNT}\n",
    "\n",
    "### print output Message\n",
    "echo \"Show the first few lines of the output file\"\n",
    "echo ${FD_OUT}/${FN_OUT_FRG}\n",
    "zcat ${FD_OUT}/${FN_OUT_FRG} | head -n 3\n",
    "echo\n",
    "echo ${FD_OUT}/${FN_OUT_CNT}\n",
    "zcat ${FD_OUT}/${FN_OUT_CNT} | head -n 3\n",
    "echo\n",
    "\n",
    "### print end message\n",
    "timer=`date +%s`\n",
    "runtime=$(echo \"${timer} - ${timer_start}\" | bc -l)\n",
    "echo\n",
    "echo 'Done!'\n",
    "echo \"Run Time: $(displaytime ${runtime})\"\n",
    "\n",
    "EOF"
   ]
  },
  {
   "cell_type": "code",
   "execution_count": 34,
   "id": "39c5f971-6684-4b34-bfa1-7bcaafbdb0f1",
   "metadata": {},
   "outputs": [
    {
     "name": "stdout",
     "output_type": "stream",
     "text": [
      "Slurm Array Index:  1\n",
      "Time Stamp:         07-24-22+04:18:37\n",
      "\n",
      "++++++++++++++++++++++++++++++++++++++++++++++++\n",
      "SAMPLE:       Input1_20x\n",
      "Input  file:  /gpfs/fs1/data/reddylab/Kuei/out/proj_combeffect/data/Input1_20x//chr17.bed\n",
      "Input  file:  /gpfs/fs1/data/reddylab/Kuei/out/proj_combeffect/sliding_window/sliding_chr17_len_1kb_gap_100bp.bed\n",
      "Output file:  /gpfs/fs1/data/reddylab/Kuei/out/proj_combeffect/sliding_window/sliding_chr17_len_1kb_gap_100bp_f50_OR_F50/Input1_20x/chr17_fragment.bed.gz\n",
      "Output file:  /gpfs/fs1/data/reddylab/Kuei/out/proj_combeffect/sliding_window/sliding_chr17_len_1kb_gap_100bp_f50_OR_F50/Input1_20x/chr17_count.bed.gz\n",
      "\n",
      "Show the first few lines of the input file\n",
      "/gpfs/fs1/data/reddylab/Kuei/out/proj_combeffect/data/Input1_20x//chr17.bed\n",
      "chr17\t107410\t108464\n",
      "chr17\t159026\t160040\n",
      "chr17\t159426\t160303\n",
      "\n",
      "/gpfs/fs1/data/reddylab/Kuei/out/proj_combeffect/sliding_window/sliding_chr17_len_1kb_gap_100bp.bed\n",
      "chr17\t0\t1000\n",
      "chr17\t100\t1100\n",
      "chr17\t200\t1200\n"
     ]
    }
   ],
   "source": [
    "cat ${FD_LOG}/sliding_windows_chr17.1.txt"
   ]
  },
  {
   "cell_type": "code",
   "execution_count": null,
   "id": "a995ad26-e271-4052-abae-1bf5ef87677a",
   "metadata": {},
   "outputs": [],
   "source": []
  }
 ],
 "metadata": {
  "kernelspec": {
   "display_name": "Bash",
   "language": "bash",
   "name": "bash"
  },
  "language_info": {
   "codemirror_mode": "shell",
   "file_extension": ".sh",
   "mimetype": "text/x-sh",
   "name": "bash"
  }
 },
 "nbformat": 4,
 "nbformat_minor": 5
}
