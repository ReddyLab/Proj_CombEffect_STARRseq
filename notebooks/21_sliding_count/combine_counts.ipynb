{
 "cells": [
  {
   "cell_type": "code",
   "execution_count": 3,
   "id": "aaf82808-662f-465e-97fe-4ad24a05e20e",
   "metadata": {},
   "outputs": [],
   "source": [
    "suppressMessages(suppressWarnings(source(\"config.R\")))"
   ]
  },
  {
   "cell_type": "code",
   "execution_count": 4,
   "id": "c6a88854-0f50-4777-8b3e-ac79db7cd78d",
   "metadata": {},
   "outputs": [
    {
     "name": "stdout",
     "output_type": "stream",
     "text": [
      "/work/kk319 \n",
      "/work/kk319/out/CombEffect_STARR \n"
     ]
    }
   ],
   "source": [
    "cat(FD_BASE, \"\\n\")\n",
    "cat(FD_WRK,  \"\\n\")"
   ]
  },
  {
   "cell_type": "code",
   "execution_count": 5,
   "id": "0e41577a-0f9e-41bd-9da4-3edf5c1c648f",
   "metadata": {},
   "outputs": [],
   "source": [
    "FD_KMR=file.path(FD_WRK, \"kmer\", \"PER1\")"
   ]
  },
  {
   "cell_type": "code",
   "execution_count": 6,
   "id": "0de5629e-f923-44ec-9feb-27298acec34a",
   "metadata": {},
   "outputs": [
    {
     "data": {
      "text/html": [
       "<ol class=list-inline>\n",
       "\t<li>'Input1'</li>\n",
       "\t<li>'Input2'</li>\n",
       "\t<li>'Input3'</li>\n",
       "\t<li>'Input4'</li>\n",
       "\t<li>'Input5'</li>\n",
       "\t<li>'TFX2_DMSO'</li>\n",
       "\t<li>'TFX3_DMSO'</li>\n",
       "\t<li>'TFX4_DMSO'</li>\n",
       "\t<li>'TFX5_DMSO'</li>\n",
       "\t<li>'TFX2_Dex'</li>\n",
       "\t<li>'TFX3_Dex'</li>\n",
       "\t<li>'TFX4_Dex'</li>\n",
       "\t<li>'TFX5_Dex'</li>\n",
       "</ol>\n"
      ],
      "text/latex": [
       "\\begin{enumerate*}\n",
       "\\item 'Input1'\n",
       "\\item 'Input2'\n",
       "\\item 'Input3'\n",
       "\\item 'Input4'\n",
       "\\item 'Input5'\n",
       "\\item 'TFX2\\_DMSO'\n",
       "\\item 'TFX3\\_DMSO'\n",
       "\\item 'TFX4\\_DMSO'\n",
       "\\item 'TFX5\\_DMSO'\n",
       "\\item 'TFX2\\_Dex'\n",
       "\\item 'TFX3\\_Dex'\n",
       "\\item 'TFX4\\_Dex'\n",
       "\\item 'TFX5\\_Dex'\n",
       "\\end{enumerate*}\n"
      ],
      "text/markdown": [
       "1. 'Input1'\n",
       "2. 'Input2'\n",
       "3. 'Input3'\n",
       "4. 'Input4'\n",
       "5. 'Input5'\n",
       "6. 'TFX2_DMSO'\n",
       "7. 'TFX3_DMSO'\n",
       "8. 'TFX4_DMSO'\n",
       "9. 'TFX5_DMSO'\n",
       "10. 'TFX2_Dex'\n",
       "11. 'TFX3_Dex'\n",
       "12. 'TFX4_Dex'\n",
       "13. 'TFX5_Dex'\n",
       "\n",
       "\n"
      ],
      "text/plain": [
       " [1] \"Input1\"    \"Input2\"    \"Input3\"    \"Input4\"    \"Input5\"    \"TFX2_DMSO\"\n",
       " [7] \"TFX3_DMSO\" \"TFX4_DMSO\" \"TFX5_DMSO\" \"TFX2_Dex\"  \"TFX3_Dex\"  \"TFX4_Dex\" \n",
       "[13] \"TFX5_Dex\" "
      ]
     },
     "metadata": {},
     "output_type": "display_data"
    }
   ],
   "source": [
    "idn_samples = c(\n",
    "    paste0(\"Input\", 1:5),\n",
    "    paste0(\"TFX\", 2:5, \"_DMSO\"),\n",
    "    paste0(\"TFX\", 2:5, \"_Dex\"))\n",
    "idn_samples"
   ]
  },
  {
   "cell_type": "code",
   "execution_count": 32,
   "id": "d915721a-c9de-4829-a513-ab8bdce70e79",
   "metadata": {},
   "outputs": [
    {
     "data": {
      "text/html": [
       "<table>\n",
       "<thead><tr><th scope=col>Chrom</th><th scope=col>Start</th><th scope=col>End</th></tr></thead>\n",
       "<tbody>\n",
       "\t<tr><td>chr17  </td><td>8148000</td><td>8148750</td></tr>\n",
       "\t<tr><td>chr17  </td><td>8148005</td><td>8148755</td></tr>\n",
       "\t<tr><td>chr17  </td><td>8148010</td><td>8148760</td></tr>\n",
       "\t<tr><td>chr17  </td><td>8148015</td><td>8148765</td></tr>\n",
       "\t<tr><td>chr17  </td><td>8148020</td><td>8148770</td></tr>\n",
       "\t<tr><td>chr17  </td><td>8148025</td><td>8148775</td></tr>\n",
       "</tbody>\n",
       "</table>\n"
      ],
      "text/latex": [
       "\\begin{tabular}{r|lll}\n",
       " Chrom & Start & End\\\\\n",
       "\\hline\n",
       "\t chr17   & 8148000 & 8148750\\\\\n",
       "\t chr17   & 8148005 & 8148755\\\\\n",
       "\t chr17   & 8148010 & 8148760\\\\\n",
       "\t chr17   & 8148015 & 8148765\\\\\n",
       "\t chr17   & 8148020 & 8148770\\\\\n",
       "\t chr17   & 8148025 & 8148775\\\\\n",
       "\\end{tabular}\n"
      ],
      "text/markdown": [
       "\n",
       "| Chrom | Start | End |\n",
       "|---|---|---|\n",
       "| chr17   | 8148000 | 8148750 |\n",
       "| chr17   | 8148005 | 8148755 |\n",
       "| chr17   | 8148010 | 8148760 |\n",
       "| chr17   | 8148015 | 8148765 |\n",
       "| chr17   | 8148020 | 8148770 |\n",
       "| chr17   | 8148025 | 8148775 |\n",
       "\n"
      ],
      "text/plain": [
       "  Chrom Start   End    \n",
       "1 chr17 8148000 8148750\n",
       "2 chr17 8148005 8148755\n",
       "3 chr17 8148010 8148760\n",
       "4 chr17 8148015 8148765\n",
       "5 chr17 8148020 8148770\n",
       "6 chr17 8148025 8148775"
      ]
     },
     "metadata": {},
     "output_type": "display_data"
    }
   ],
   "source": [
    "ctypes = c(col_character(), col_integer(), col_integer())\n",
    "cnames = c(\"Chrom\", \"Start\", \"End\")\n",
    "\n",
    "dat_kmr = read_tsv(\n",
    "    file.path(FD_KMR, \"kmer_PER1.bed\"), \n",
    "    col_types=ctypes, \n",
    "    col_names=cnames)\n",
    "head(dat_kmr)"
   ]
  },
  {
   "cell_type": "code",
   "execution_count": 36,
   "id": "3307b615-fa47-4bb6-8ab7-aecac2625654",
   "metadata": {
    "tags": []
   },
   "outputs": [],
   "source": [
    "idn_samples = paste0(\"Input\", 1:5)\n",
    "ctypes = c(col_character(), col_integer(), col_integer(), col_integer())\n",
    "cnames = c(\"Chrom\", \"Start\", \"End\")\n",
    "\n",
    "fun = function(df1, df2){\n",
    "    dat = full_join(df1, df2, by=c(\"Chrom\", \"Start\", \"End\"))\n",
    "    return(dat)\n",
    "}\n",
    "\n",
    "lst_dat = lapply(idn_samples, function(idn_sample){\n",
    "    fdiry=file.path(FD_KMR, idn_sample)\n",
    "    fname=\"*_count.bed\"\n",
    "    fpaths=Sys.glob(file.path(fdiry, fname))\n",
    "    \n",
    "    tmp = lapply(fpaths, function(fpath){\n",
    "        idn = str_match(string = fpath, pattern=\"(B.*)_count\")[1,2]\n",
    "        idn = paste(idn_sample, idn, sep=\"_\")\n",
    "        idn = c(cnames, idn)\n",
    "        \n",
    "        dat = read_tsv(fpath, col_types=ctypes, col_names=idn)\n",
    "        return(dat)\n",
    "    })\n",
    "    \n",
    "    tmp = Reduce(fun, tmp)\n",
    "    return(tmp)\n",
    "})"
   ]
  },
  {
   "cell_type": "code",
   "execution_count": 38,
   "id": "d7a25cea-6acb-474d-bb28-e32f55ee7913",
   "metadata": {},
   "outputs": [
    {
     "data": {
      "text/html": [
       "<table>\n",
       "<thead><tr><th scope=col>Chrom</th><th scope=col>Start</th><th scope=col>End</th><th scope=col>Input1_B10</th><th scope=col>Input1_B1</th><th scope=col>Input1_B2</th><th scope=col>Input1_B3</th><th scope=col>Input1_B4</th><th scope=col>Input1_B5</th><th scope=col>Input1_B6</th><th scope=col>Input1_B7</th><th scope=col>Input1_B8</th><th scope=col>Input1_B9</th></tr></thead>\n",
       "<tbody>\n",
       "\t<tr><td>chr17  </td><td>8148120</td><td>8148870</td><td>1      </td><td>NA     </td><td>2      </td><td>1      </td><td>1      </td><td>NA     </td><td>3      </td><td>NA     </td><td>NA     </td><td>1      </td></tr>\n",
       "\t<tr><td>chr17  </td><td>8148125</td><td>8148875</td><td>4      </td><td> 2     </td><td>2      </td><td>1      </td><td>2      </td><td> 1     </td><td>6      </td><td> 2     </td><td> 3     </td><td>2      </td></tr>\n",
       "\t<tr><td>chr17  </td><td>8148130</td><td>8148880</td><td>4      </td><td> 2     </td><td>2      </td><td>1      </td><td>2      </td><td> 1     </td><td>6      </td><td> 2     </td><td> 3     </td><td>2      </td></tr>\n",
       "\t<tr><td>chr17  </td><td>8148135</td><td>8148885</td><td>4      </td><td> 2     </td><td>2      </td><td>1      </td><td>2      </td><td> 1     </td><td>6      </td><td> 2     </td><td> 3     </td><td>2      </td></tr>\n",
       "\t<tr><td>chr17  </td><td>8148140</td><td>8148890</td><td>4      </td><td> 2     </td><td>2      </td><td>1      </td><td>2      </td><td> 1     </td><td>6      </td><td> 2     </td><td> 3     </td><td>2      </td></tr>\n",
       "\t<tr><td>chr17  </td><td>8148145</td><td>8148895</td><td>4      </td><td> 2     </td><td>2      </td><td>1      </td><td>2      </td><td> 1     </td><td>6      </td><td> 2     </td><td> 3     </td><td>2      </td></tr>\n",
       "</tbody>\n",
       "</table>\n"
      ],
      "text/latex": [
       "\\begin{tabular}{r|lllllllllllll}\n",
       " Chrom & Start & End & Input1\\_B10 & Input1\\_B1 & Input1\\_B2 & Input1\\_B3 & Input1\\_B4 & Input1\\_B5 & Input1\\_B6 & Input1\\_B7 & Input1\\_B8 & Input1\\_B9\\\\\n",
       "\\hline\n",
       "\t chr17   & 8148120 & 8148870 & 1       & NA      & 2       & 1       & 1       & NA      & 3       & NA      & NA      & 1      \\\\\n",
       "\t chr17   & 8148125 & 8148875 & 4       &  2      & 2       & 1       & 2       &  1      & 6       &  2      &  3      & 2      \\\\\n",
       "\t chr17   & 8148130 & 8148880 & 4       &  2      & 2       & 1       & 2       &  1      & 6       &  2      &  3      & 2      \\\\\n",
       "\t chr17   & 8148135 & 8148885 & 4       &  2      & 2       & 1       & 2       &  1      & 6       &  2      &  3      & 2      \\\\\n",
       "\t chr17   & 8148140 & 8148890 & 4       &  2      & 2       & 1       & 2       &  1      & 6       &  2      &  3      & 2      \\\\\n",
       "\t chr17   & 8148145 & 8148895 & 4       &  2      & 2       & 1       & 2       &  1      & 6       &  2      &  3      & 2      \\\\\n",
       "\\end{tabular}\n"
      ],
      "text/markdown": [
       "\n",
       "| Chrom | Start | End | Input1_B10 | Input1_B1 | Input1_B2 | Input1_B3 | Input1_B4 | Input1_B5 | Input1_B6 | Input1_B7 | Input1_B8 | Input1_B9 |\n",
       "|---|---|---|---|---|---|---|---|---|---|---|---|---|\n",
       "| chr17   | 8148120 | 8148870 | 1       | NA      | 2       | 1       | 1       | NA      | 3       | NA      | NA      | 1       |\n",
       "| chr17   | 8148125 | 8148875 | 4       |  2      | 2       | 1       | 2       |  1      | 6       |  2      |  3      | 2       |\n",
       "| chr17   | 8148130 | 8148880 | 4       |  2      | 2       | 1       | 2       |  1      | 6       |  2      |  3      | 2       |\n",
       "| chr17   | 8148135 | 8148885 | 4       |  2      | 2       | 1       | 2       |  1      | 6       |  2      |  3      | 2       |\n",
       "| chr17   | 8148140 | 8148890 | 4       |  2      | 2       | 1       | 2       |  1      | 6       |  2      |  3      | 2       |\n",
       "| chr17   | 8148145 | 8148895 | 4       |  2      | 2       | 1       | 2       |  1      | 6       |  2      |  3      | 2       |\n",
       "\n"
      ],
      "text/plain": [
       "  Chrom Start   End     Input1_B10 Input1_B1 Input1_B2 Input1_B3 Input1_B4\n",
       "1 chr17 8148120 8148870 1          NA        2         1         1        \n",
       "2 chr17 8148125 8148875 4           2        2         1         2        \n",
       "3 chr17 8148130 8148880 4           2        2         1         2        \n",
       "4 chr17 8148135 8148885 4           2        2         1         2        \n",
       "5 chr17 8148140 8148890 4           2        2         1         2        \n",
       "6 chr17 8148145 8148895 4           2        2         1         2        \n",
       "  Input1_B5 Input1_B6 Input1_B7 Input1_B8 Input1_B9\n",
       "1 NA        3         NA        NA        1        \n",
       "2  1        6          2         3        2        \n",
       "3  1        6          2         3        2        \n",
       "4  1        6          2         3        2        \n",
       "5  1        6          2         3        2        \n",
       "6  1        6          2         3        2        "
      ]
     },
     "metadata": {},
     "output_type": "display_data"
    }
   ],
   "source": [
    "lst_dat[[1]] %>% head"
   ]
  },
  {
   "cell_type": "code",
   "execution_count": 40,
   "id": "314abe96-8952-4278-9d38-83fbd7e0778a",
   "metadata": {},
   "outputs": [
    {
     "data": {
      "text/html": [
       "<table>\n",
       "<thead><tr><th scope=col>Chrom</th><th scope=col>Start</th><th scope=col>End</th><th scope=col>Input1_B10</th><th scope=col>Input1_B1</th><th scope=col>Input1_B2</th><th scope=col>Input1_B3</th><th scope=col>Input1_B4</th><th scope=col>Input1_B5</th><th scope=col>Input1_B6</th><th scope=col>Input1_B7</th><th scope=col>Input1_B8</th><th scope=col>Input1_B9</th></tr></thead>\n",
       "<tbody>\n",
       "\t<tr><td>chr17  </td><td>8148120</td><td>8148870</td><td>1      </td><td>NA     </td><td>2      </td><td>1      </td><td>1      </td><td>NA     </td><td>3      </td><td>NA     </td><td>NA     </td><td>1      </td></tr>\n",
       "\t<tr><td>chr17  </td><td>8148125</td><td>8148875</td><td>4      </td><td> 2     </td><td>2      </td><td>1      </td><td>2      </td><td> 1     </td><td>6      </td><td> 2     </td><td> 3     </td><td>2      </td></tr>\n",
       "\t<tr><td>chr17  </td><td>8148130</td><td>8148880</td><td>4      </td><td> 2     </td><td>2      </td><td>1      </td><td>2      </td><td> 1     </td><td>6      </td><td> 2     </td><td> 3     </td><td>2      </td></tr>\n",
       "</tbody>\n",
       "</table>\n"
      ],
      "text/latex": [
       "\\begin{tabular}{r|lllllllllllll}\n",
       " Chrom & Start & End & Input1\\_B10 & Input1\\_B1 & Input1\\_B2 & Input1\\_B3 & Input1\\_B4 & Input1\\_B5 & Input1\\_B6 & Input1\\_B7 & Input1\\_B8 & Input1\\_B9\\\\\n",
       "\\hline\n",
       "\t chr17   & 8148120 & 8148870 & 1       & NA      & 2       & 1       & 1       & NA      & 3       & NA      & NA      & 1      \\\\\n",
       "\t chr17   & 8148125 & 8148875 & 4       &  2      & 2       & 1       & 2       &  1      & 6       &  2      &  3      & 2      \\\\\n",
       "\t chr17   & 8148130 & 8148880 & 4       &  2      & 2       & 1       & 2       &  1      & 6       &  2      &  3      & 2      \\\\\n",
       "\\end{tabular}\n"
      ],
      "text/markdown": [
       "\n",
       "| Chrom | Start | End | Input1_B10 | Input1_B1 | Input1_B2 | Input1_B3 | Input1_B4 | Input1_B5 | Input1_B6 | Input1_B7 | Input1_B8 | Input1_B9 |\n",
       "|---|---|---|---|---|---|---|---|---|---|---|---|---|\n",
       "| chr17   | 8148120 | 8148870 | 1       | NA      | 2       | 1       | 1       | NA      | 3       | NA      | NA      | 1       |\n",
       "| chr17   | 8148125 | 8148875 | 4       |  2      | 2       | 1       | 2       |  1      | 6       |  2      |  3      | 2       |\n",
       "| chr17   | 8148130 | 8148880 | 4       |  2      | 2       | 1       | 2       |  1      | 6       |  2      |  3      | 2       |\n",
       "\n"
      ],
      "text/plain": [
       "  Chrom Start   End     Input1_B10 Input1_B1 Input1_B2 Input1_B3 Input1_B4\n",
       "1 chr17 8148120 8148870 1          NA        2         1         1        \n",
       "2 chr17 8148125 8148875 4           2        2         1         2        \n",
       "3 chr17 8148130 8148880 4           2        2         1         2        \n",
       "  Input1_B5 Input1_B6 Input1_B7 Input1_B8 Input1_B9\n",
       "1 NA        3         NA        NA        1        \n",
       "2  1        6          2         3        2        \n",
       "3  1        6          2         3        2        "
      ]
     },
     "metadata": {},
     "output_type": "display_data"
    }
   ],
   "source": [
    "dat = lst_dat[[1]]\n",
    "head(dat, 3)"
   ]
  },
  {
   "cell_type": "code",
   "execution_count": null,
   "id": "cb5e88f9-1ce6-4b8e-a390-c390af9f4df3",
   "metadata": {},
   "outputs": [],
   "source": [
    "mat = dat %>% "
   ]
  },
  {
   "cell_type": "code",
   "execution_count": null,
   "id": "33f6ee3e-4bc5-44db-b3cf-1b88356b5190",
   "metadata": {},
   "outputs": [],
   "source": [
    "tmp = left_join(dat_kmr, tmp, by=c(\"Chrom\", \"Start\", \"End\"))"
   ]
  },
  {
   "cell_type": "code",
   "execution_count": 7,
   "id": "62f2daf3-a545-472b-aa1e-3df6254d99a0",
   "metadata": {},
   "outputs": [
    {
     "data": {
      "text/html": [
       "<ol class=list-inline>\n",
       "\t<li>'/work/kk319/out/CombEffect_STARR/kmer/PER1/Input1/target_PER1_B10_count.bed'</li>\n",
       "\t<li>'/work/kk319/out/CombEffect_STARR/kmer/PER1/Input1/target_PER1_B1_count.bed'</li>\n",
       "\t<li>'/work/kk319/out/CombEffect_STARR/kmer/PER1/Input1/target_PER1_B2_count.bed'</li>\n",
       "\t<li>'/work/kk319/out/CombEffect_STARR/kmer/PER1/Input1/target_PER1_B3_count.bed'</li>\n",
       "\t<li>'/work/kk319/out/CombEffect_STARR/kmer/PER1/Input1/target_PER1_B4_count.bed'</li>\n",
       "\t<li>'/work/kk319/out/CombEffect_STARR/kmer/PER1/Input1/target_PER1_B5_count.bed'</li>\n",
       "\t<li>'/work/kk319/out/CombEffect_STARR/kmer/PER1/Input1/target_PER1_B6_count.bed'</li>\n",
       "\t<li>'/work/kk319/out/CombEffect_STARR/kmer/PER1/Input1/target_PER1_B7_count.bed'</li>\n",
       "\t<li>'/work/kk319/out/CombEffect_STARR/kmer/PER1/Input1/target_PER1_B8_count.bed'</li>\n",
       "\t<li>'/work/kk319/out/CombEffect_STARR/kmer/PER1/Input1/target_PER1_B9_count.bed'</li>\n",
       "</ol>\n"
      ],
      "text/latex": [
       "\\begin{enumerate*}\n",
       "\\item '/work/kk319/out/CombEffect\\_STARR/kmer/PER1/Input1/target\\_PER1\\_B10\\_count.bed'\n",
       "\\item '/work/kk319/out/CombEffect\\_STARR/kmer/PER1/Input1/target\\_PER1\\_B1\\_count.bed'\n",
       "\\item '/work/kk319/out/CombEffect\\_STARR/kmer/PER1/Input1/target\\_PER1\\_B2\\_count.bed'\n",
       "\\item '/work/kk319/out/CombEffect\\_STARR/kmer/PER1/Input1/target\\_PER1\\_B3\\_count.bed'\n",
       "\\item '/work/kk319/out/CombEffect\\_STARR/kmer/PER1/Input1/target\\_PER1\\_B4\\_count.bed'\n",
       "\\item '/work/kk319/out/CombEffect\\_STARR/kmer/PER1/Input1/target\\_PER1\\_B5\\_count.bed'\n",
       "\\item '/work/kk319/out/CombEffect\\_STARR/kmer/PER1/Input1/target\\_PER1\\_B6\\_count.bed'\n",
       "\\item '/work/kk319/out/CombEffect\\_STARR/kmer/PER1/Input1/target\\_PER1\\_B7\\_count.bed'\n",
       "\\item '/work/kk319/out/CombEffect\\_STARR/kmer/PER1/Input1/target\\_PER1\\_B8\\_count.bed'\n",
       "\\item '/work/kk319/out/CombEffect\\_STARR/kmer/PER1/Input1/target\\_PER1\\_B9\\_count.bed'\n",
       "\\end{enumerate*}\n"
      ],
      "text/markdown": [
       "1. '/work/kk319/out/CombEffect_STARR/kmer/PER1/Input1/target_PER1_B10_count.bed'\n",
       "2. '/work/kk319/out/CombEffect_STARR/kmer/PER1/Input1/target_PER1_B1_count.bed'\n",
       "3. '/work/kk319/out/CombEffect_STARR/kmer/PER1/Input1/target_PER1_B2_count.bed'\n",
       "4. '/work/kk319/out/CombEffect_STARR/kmer/PER1/Input1/target_PER1_B3_count.bed'\n",
       "5. '/work/kk319/out/CombEffect_STARR/kmer/PER1/Input1/target_PER1_B4_count.bed'\n",
       "6. '/work/kk319/out/CombEffect_STARR/kmer/PER1/Input1/target_PER1_B5_count.bed'\n",
       "7. '/work/kk319/out/CombEffect_STARR/kmer/PER1/Input1/target_PER1_B6_count.bed'\n",
       "8. '/work/kk319/out/CombEffect_STARR/kmer/PER1/Input1/target_PER1_B7_count.bed'\n",
       "9. '/work/kk319/out/CombEffect_STARR/kmer/PER1/Input1/target_PER1_B8_count.bed'\n",
       "10. '/work/kk319/out/CombEffect_STARR/kmer/PER1/Input1/target_PER1_B9_count.bed'\n",
       "\n",
       "\n"
      ],
      "text/plain": [
       " [1] \"/work/kk319/out/CombEffect_STARR/kmer/PER1/Input1/target_PER1_B10_count.bed\"\n",
       " [2] \"/work/kk319/out/CombEffect_STARR/kmer/PER1/Input1/target_PER1_B1_count.bed\" \n",
       " [3] \"/work/kk319/out/CombEffect_STARR/kmer/PER1/Input1/target_PER1_B2_count.bed\" \n",
       " [4] \"/work/kk319/out/CombEffect_STARR/kmer/PER1/Input1/target_PER1_B3_count.bed\" \n",
       " [5] \"/work/kk319/out/CombEffect_STARR/kmer/PER1/Input1/target_PER1_B4_count.bed\" \n",
       " [6] \"/work/kk319/out/CombEffect_STARR/kmer/PER1/Input1/target_PER1_B5_count.bed\" \n",
       " [7] \"/work/kk319/out/CombEffect_STARR/kmer/PER1/Input1/target_PER1_B6_count.bed\" \n",
       " [8] \"/work/kk319/out/CombEffect_STARR/kmer/PER1/Input1/target_PER1_B7_count.bed\" \n",
       " [9] \"/work/kk319/out/CombEffect_STARR/kmer/PER1/Input1/target_PER1_B8_count.bed\" \n",
       "[10] \"/work/kk319/out/CombEffect_STARR/kmer/PER1/Input1/target_PER1_B9_count.bed\" "
      ]
     },
     "metadata": {},
     "output_type": "display_data"
    }
   ],
   "source": [
    "fdiry=file.path(FD_KMR, \"Input1\")\n",
    "fname=\"*_count.bed\"\n",
    "fpath=file.path(fdiry, fname)\n",
    "Sys.glob(fpath)"
   ]
  },
  {
   "cell_type": "code",
   "execution_count": 16,
   "id": "0bb7015e-64b2-478d-997f-0bba02ca41d2",
   "metadata": {},
   "outputs": [
    {
     "data": {
      "text/html": [
       "'B10'"
      ],
      "text/latex": [
       "'B10'"
      ],
      "text/markdown": [
       "'B10'"
      ],
      "text/plain": [
       "[1] \"B10\""
      ]
     },
     "metadata": {},
     "output_type": "display_data"
    }
   ],
   "source": [
    "fpath = '/work/kk319/out/CombEffect_STARR/kmer/PER1/Input1/target_PER1_B10_count.bed'\n",
    "str_match(string = fpath, pattern=\"(B.*)_count\")[1,2]"
   ]
  },
  {
   "cell_type": "code",
   "execution_count": null,
   "id": "d1a7baa4-9f49-4c5d-b218-f9b80b3ca2bb",
   "metadata": {},
   "outputs": [],
   "source": []
  }
 ],
 "metadata": {
  "kernelspec": {
   "display_name": "R",
   "language": "R",
   "name": "ir"
  },
  "language_info": {
   "codemirror_mode": "r",
   "file_extension": ".r",
   "mimetype": "text/x-r-source",
   "name": "R",
   "pygments_lexer": "r",
   "version": "3.6.1"
  }
 },
 "nbformat": 4,
 "nbformat_minor": 5
}
