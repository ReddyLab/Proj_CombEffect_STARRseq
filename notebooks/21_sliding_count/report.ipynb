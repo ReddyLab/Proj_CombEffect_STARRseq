{
 "cells": [
  {
   "cell_type": "markdown",
   "id": "3e05140b",
   "metadata": {},
   "source": [
    "**Set environment**"
   ]
  },
  {
   "cell_type": "code",
   "execution_count": 1,
   "id": "bf36a114",
   "metadata": {},
   "outputs": [
    {
     "name": "stdout",
     "output_type": "stream",
     "text": [
      "You are in Singularity: singularity_proj_combeffect \n",
      "BASE DIRECTORY:     /mount/work \n",
      "PATH OF SOURCE:     /mount/work/source \n",
      "PATH OF EXECUTABLE: /mount/work/exe \n",
      "PATH OF ANNOTATION: /mount/work/annotation \n",
      "PATH OF PROJECT:    /mount/project \n",
      "PATH OF RESULTS:    /mount/work/out/proj_combeffect \n"
     ]
    }
   ],
   "source": [
    "suppressMessages(source(\"../config_sing.R\"))\n",
    "show_env()"
   ]
  },
  {
   "cell_type": "markdown",
   "id": "9d4feaba",
   "metadata": {},
   "source": [
    "## Motif location"
   ]
  },
  {
   "cell_type": "code",
   "execution_count": 2,
   "id": "9776d972",
   "metadata": {},
   "outputs": [],
   "source": [
    "FD_MTF = file.path(FD_ANN, \"motif_cluster_jvierstra\", \"hg38_archetype_motifs_v1\")"
   ]
  },
  {
   "cell_type": "code",
   "execution_count": 3,
   "id": "eac6d6cb",
   "metadata": {},
   "outputs": [
    {
     "data": {
      "text/html": [
       "<table class=\"dataframe\">\n",
       "<caption>A tibble: 6 × 5</caption>\n",
       "<thead>\n",
       "\t<tr><th scope=col>Chrom</th><th scope=col>Start</th><th scope=col>End</th><th scope=col>Motif</th><th scope=col>Score</th></tr>\n",
       "\t<tr><th scope=col>&lt;chr&gt;</th><th scope=col>&lt;dbl&gt;</th><th scope=col>&lt;dbl&gt;</th><th scope=col>&lt;chr&gt;</th><th scope=col>&lt;dbl&gt;</th></tr>\n",
       "</thead>\n",
       "<tbody>\n",
       "\t<tr><td>chr17</td><td>60454</td><td>60468</td><td>NR/20</td><td>8.3104</td></tr>\n",
       "\t<tr><td>chr17</td><td>60718</td><td>60732</td><td>NR/20</td><td>8.8112</td></tr>\n",
       "\t<tr><td>chr17</td><td>63497</td><td>63512</td><td>NR/20</td><td>7.7355</td></tr>\n",
       "\t<tr><td>chr17</td><td>64716</td><td>64731</td><td>NR/20</td><td>7.7355</td></tr>\n",
       "\t<tr><td>chr17</td><td>68541</td><td>68555</td><td>NR/20</td><td>8.0613</td></tr>\n",
       "\t<tr><td>chr17</td><td>71948</td><td>71962</td><td>NR/20</td><td>8.0613</td></tr>\n",
       "</tbody>\n",
       "</table>\n"
      ],
      "text/latex": [
       "A tibble: 6 × 5\n",
       "\\begin{tabular}{lllll}\n",
       " Chrom & Start & End & Motif & Score\\\\\n",
       " <chr> & <dbl> & <dbl> & <chr> & <dbl>\\\\\n",
       "\\hline\n",
       "\t chr17 & 60454 & 60468 & NR/20 & 8.3104\\\\\n",
       "\t chr17 & 60718 & 60732 & NR/20 & 8.8112\\\\\n",
       "\t chr17 & 63497 & 63512 & NR/20 & 7.7355\\\\\n",
       "\t chr17 & 64716 & 64731 & NR/20 & 7.7355\\\\\n",
       "\t chr17 & 68541 & 68555 & NR/20 & 8.0613\\\\\n",
       "\t chr17 & 71948 & 71962 & NR/20 & 8.0613\\\\\n",
       "\\end{tabular}\n"
      ],
      "text/markdown": [
       "\n",
       "A tibble: 6 × 5\n",
       "\n",
       "| Chrom &lt;chr&gt; | Start &lt;dbl&gt; | End &lt;dbl&gt; | Motif &lt;chr&gt; | Score &lt;dbl&gt; |\n",
       "|---|---|---|---|---|\n",
       "| chr17 | 60454 | 60468 | NR/20 | 8.3104 |\n",
       "| chr17 | 60718 | 60732 | NR/20 | 8.8112 |\n",
       "| chr17 | 63497 | 63512 | NR/20 | 7.7355 |\n",
       "| chr17 | 64716 | 64731 | NR/20 | 7.7355 |\n",
       "| chr17 | 68541 | 68555 | NR/20 | 8.0613 |\n",
       "| chr17 | 71948 | 71962 | NR/20 | 8.0613 |\n",
       "\n"
      ],
      "text/plain": [
       "  Chrom Start End   Motif Score \n",
       "1 chr17 60454 60468 NR/20 8.3104\n",
       "2 chr17 60718 60732 NR/20 8.8112\n",
       "3 chr17 63497 63512 NR/20 7.7355\n",
       "4 chr17 64716 64731 NR/20 7.7355\n",
       "5 chr17 68541 68555 NR/20 8.0613\n",
       "6 chr17 71948 71962 NR/20 8.0613"
      ]
     },
     "metadata": {},
     "output_type": "display_data"
    }
   ],
   "source": [
    "ctypes = c(col_character(), col_integer(), col_integer(), col_character(), col_double())\n",
    "cnames = c(\"Chrom\", \"Start\", \"End\", \"Motif\", \"Score\")\n",
    "chrom = \"chr17\"\n",
    "\n",
    "fdiry = file.path(FD_MTF, chrom)\n",
    "fname = \"NR_20_merge.bed\"\n",
    "\n",
    "dat_mtf_nr20 = read_tsv(\n",
    "    file.path(fdiry, fname), \n",
    "    col_types = ctypes, \n",
    "    col_names = cnames)\n",
    "\n",
    "head(dat_mtf_nr20)"
   ]
  },
  {
   "cell_type": "code",
   "execution_count": 4,
   "id": "5a6c7792",
   "metadata": {},
   "outputs": [
    {
     "data": {
      "text/html": [
       "<table class=\"dataframe\">\n",
       "<caption>A spec_tbl_df: 5 × 5</caption>\n",
       "<thead>\n",
       "\t<tr><th scope=col>Chrom</th><th scope=col>Start</th><th scope=col>End</th><th scope=col>Motif</th><th scope=col>Score</th></tr>\n",
       "\t<tr><th scope=col>&lt;chr&gt;</th><th scope=col>&lt;dbl&gt;</th><th scope=col>&lt;dbl&gt;</th><th scope=col>&lt;chr&gt;</th><th scope=col>&lt;dbl&gt;</th></tr>\n",
       "</thead>\n",
       "<tbody>\n",
       "\t<tr><td>chr17</td><td>8150232</td><td>8150246</td><td>NR/20</td><td> 8.32560</td></tr>\n",
       "\t<tr><td>chr17</td><td>8150831</td><td>8150845</td><td>NR/20</td><td> 7.34290</td></tr>\n",
       "\t<tr><td>chr17</td><td>8151912</td><td>8151926</td><td>NR/20</td><td>11.86410</td></tr>\n",
       "\t<tr><td>chr17</td><td>8154459</td><td>8154474</td><td>NR/20</td><td>15.34770</td></tr>\n",
       "\t<tr><td>chr17</td><td>8154760</td><td>8154775</td><td>NR/20</td><td> 8.20005</td></tr>\n",
       "</tbody>\n",
       "</table>\n"
      ],
      "text/latex": [
       "A spec\\_tbl\\_df: 5 × 5\n",
       "\\begin{tabular}{lllll}\n",
       " Chrom & Start & End & Motif & Score\\\\\n",
       " <chr> & <dbl> & <dbl> & <chr> & <dbl>\\\\\n",
       "\\hline\n",
       "\t chr17 & 8150232 & 8150246 & NR/20 &  8.32560\\\\\n",
       "\t chr17 & 8150831 & 8150845 & NR/20 &  7.34290\\\\\n",
       "\t chr17 & 8151912 & 8151926 & NR/20 & 11.86410\\\\\n",
       "\t chr17 & 8154459 & 8154474 & NR/20 & 15.34770\\\\\n",
       "\t chr17 & 8154760 & 8154775 & NR/20 &  8.20005\\\\\n",
       "\\end{tabular}\n"
      ],
      "text/markdown": [
       "\n",
       "A spec_tbl_df: 5 × 5\n",
       "\n",
       "| Chrom &lt;chr&gt; | Start &lt;dbl&gt; | End &lt;dbl&gt; | Motif &lt;chr&gt; | Score &lt;dbl&gt; |\n",
       "|---|---|---|---|---|\n",
       "| chr17 | 8150232 | 8150246 | NR/20 |  8.32560 |\n",
       "| chr17 | 8150831 | 8150845 | NR/20 |  7.34290 |\n",
       "| chr17 | 8151912 | 8151926 | NR/20 | 11.86410 |\n",
       "| chr17 | 8154459 | 8154474 | NR/20 | 15.34770 |\n",
       "| chr17 | 8154760 | 8154775 | NR/20 |  8.20005 |\n",
       "\n"
      ],
      "text/plain": [
       "  Chrom Start   End     Motif Score   \n",
       "1 chr17 8150232 8150246 NR/20  8.32560\n",
       "2 chr17 8150831 8150845 NR/20  7.34290\n",
       "3 chr17 8151912 8151926 NR/20 11.86410\n",
       "4 chr17 8154459 8154474 NR/20 15.34770\n",
       "5 chr17 8154760 8154775 NR/20  8.20005"
      ]
     },
     "metadata": {},
     "output_type": "display_data"
    }
   ],
   "source": [
    "dat_mtf_nr20_per1 = dat_mtf_nr20 %>% dplyr::filter(Start >= 8148000, End <= 8160000)\n",
    "dat_mtf_nr20_per1"
   ]
  },
  {
   "cell_type": "code",
   "execution_count": null,
   "id": "7425cd4a",
   "metadata": {},
   "outputs": [],
   "source": []
  }
 ],
 "metadata": {
  "kernelspec": {
   "display_name": "R",
   "language": "R",
   "name": "ir"
  },
  "language_info": {
   "codemirror_mode": "r",
   "file_extension": ".r",
   "mimetype": "text/x-r-source",
   "name": "R",
   "pygments_lexer": "r",
   "version": "4.2.0"
  }
 },
 "nbformat": 4,
 "nbformat_minor": 5
}
