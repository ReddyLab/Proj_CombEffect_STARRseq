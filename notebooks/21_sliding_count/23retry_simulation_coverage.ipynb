{
 "cells": [
  {
   "cell_type": "code",
   "execution_count": 1,
   "id": "78e1a8d5-4dce-4b6d-ae26-a444e3ff113a",
   "metadata": {},
   "outputs": [
    {
     "name": "stdout",
     "output_type": "stream",
     "text": [
      "You are on Duke Server: HARDAC\n",
      "BASE DIRECTORY:     /gpfs/fs1/data/reddylab/Kuei\n",
      "PATH OF SOURCE:     /gpfs/fs1/data/reddylab/Kuei/source\n",
      "PATH OF EXECUTABLE: /gpfs/fs1/data/reddylab/Kuei/exe\n",
      "PATH OF ANNOTATION: /gpfs/fs1/data/reddylab/Kuei/annotation\n",
      "PATH OF PROJECT:    /gpfs/fs1/data/reddylab/Kuei/GitRepo/Proj_CombEffect_STARRseq/notebooks\n",
      "PATH OF RESULTS:    /gpfs/fs1/data/reddylab/Kuei/out/proj_combeffect\n",
      "\n"
     ]
    }
   ],
   "source": [
    "source ../config_duke.sh; show_env\n",
    "source ../config_load_module_bedtools.sh"
   ]
  },
  {
   "cell_type": "code",
   "execution_count": 3,
   "id": "5233a247-640c-434f-83d8-44d64575a051",
   "metadata": {},
   "outputs": [
    {
     "name": "stdout",
     "output_type": "stream",
     "text": [
      "dat_sim_input_20x.tsv\n"
     ]
    }
   ],
   "source": [
    "WINDOW=sliding_chr17_len_1kb_gap_100bp\n",
    "FD_WIN=${FD_RES}/sliding_window/${WINDOW}/simulation\n",
    "ls ${FD_WIN}"
   ]
  },
  {
   "cell_type": "code",
   "execution_count": 12,
   "id": "4f8c752a-d663-4593-bfc9-9217e378589b",
   "metadata": {},
   "outputs": [
    {
     "name": "stdout",
     "output_type": "stream",
     "text": [
      "Submitted batch job 28684442\n"
     ]
    }
   ],
   "source": [
    "sbatch -p ${NODE} \\\n",
    "    --mem 10G \\\n",
    "    -o ${FD_LOG}/coverage_simulation_PER1.txt \\\n",
    "    <<'EOF'\n",
    "#!/bin/bash\n",
    "### set directories & global variables\n",
    "source ../config_duke.sh\n",
    "#CHROMS=($(seq 1 22) X Y)\n",
    "#CHROM=chr${CHROMS[${SLURM_ARRAY_TASK_ID}]}\n",
    "CHROM=chr17\n",
    "\n",
    "### print start message\n",
    "timer_start=`date +%s`\n",
    "echo \"Slurm Array Index: \" ${SLURM_ARRAY_TASK_ID}\n",
    "echo \"Time Stamp:        \" $(date +\"%m-%d-%y+%T\")\n",
    "echo\n",
    "\n",
    "### set file IO\n",
    "WINDOW=sliding_chr17_len_1kb_gap_100bp\n",
    "FD_WIN=${FD_RES}/sliding_window\n",
    "FN_REG=region_PER1_perbase.bed\n",
    "\n",
    "FD_SIM=${FD_RES}/sliding_window/${WINDOW}/simulation\n",
    "FN_SIM=dat_sim_input_20x.bed\n",
    "\n",
    "FD_OUT=${FD_SIM}\n",
    "\n",
    "for idx_col in $(seq 4 13); do\n",
    "    ###\n",
    "    FN_OUT=dat_sim_input_20x_coverage_sim${idx_col}.bed.gz\n",
    "    echo ${FN_OUT}\n",
    "    echo ${idx_col}\n",
    "    \n",
    "    ### run: get the coverage of sliding window\n",
    "    bedtools map \\\n",
    "        -a ${FD_WIN}/${FN_REG} \\\n",
    "        -b ${FD_SIM}/${FN_SIM} \\\n",
    "        -c ${idx_col} \\\n",
    "        -o sum |\\\n",
    "        gzip -c \\\n",
    "        > ${FD_OUT}/${FN_OUT}\n",
    "done\n",
    "\n",
    "### print end message\n",
    "timer=`date +%s`\n",
    "runtime=$(echo \"${timer} - ${timer_start}\" | bc -l)\n",
    "echo\n",
    "echo 'Done!'\n",
    "echo \"Run Time: $(displaytime ${runtime})\"\n",
    "\n",
    "EOF"
   ]
  },
  {
   "cell_type": "code",
   "execution_count": 11,
   "id": "35e446f5-f5e1-42df-bb78-b61721a1bc1c",
   "metadata": {},
   "outputs": [
    {
     "name": "stdout",
     "output_type": "stream",
     "text": [
      "Slurm Array Index: \n",
      "Time Stamp:         07-27-22+08:55:55\n",
      "\n",
      "dat_sim_input_20x_coverage_sim4.bed.gz\n",
      "4\n",
      "/var/spool/slurmd/job28684441/slurm_script: line 36: /dat_sim_input_20x_coverage_sim4.bed.gz: Permission denied\n",
      "dat_sim_input_20x_coverage_sim5.bed.gz\n",
      "5\n",
      "/var/spool/slurmd/job28684441/slurm_script: line 36: /dat_sim_input_20x_coverage_sim5.bed.gz: Permission denied\n",
      "dat_sim_input_20x_coverage_sim6.bed.gz\n",
      "6\n",
      "/var/spool/slurmd/job28684441/slurm_script: line 36: /dat_sim_input_20x_coverage_sim6.bed.gz: Permission denied\n",
      "dat_sim_input_20x_coverage_sim7.bed.gz\n",
      "7\n",
      "/var/spool/slurmd/job28684441/slurm_script: line 36: /dat_sim_input_20x_coverage_sim7.bed.gz: Permission denied\n",
      "dat_sim_input_20x_coverage_sim8.bed.gz\n",
      "8\n",
      "/var/spool/slurmd/job28684441/slurm_script: line 36: /dat_sim_input_20x_coverage_sim8.bed.gz: Permission denied\n",
      "dat_sim_input_20x_coverage_sim9.bed.gz\n",
      "9\n",
      "/var/spool/slurmd/job28684441/slurm_script: line 36: /dat_sim_input_20x_coverage_sim9.bed.gz: Permission denied\n",
      "dat_sim_input_20x_coverage_sim10.bed.gz\n",
      "10\n",
      "/var/spool/slurmd/job28684441/slurm_script: line 36: /dat_sim_input_20x_coverage_sim10.bed.gz: Permission denied\n",
      "dat_sim_input_20x_coverage_sim11.bed.gz\n",
      "11\n",
      "/var/spool/slurmd/job28684441/slurm_script: line 36: /dat_sim_input_20x_coverage_sim11.bed.gz: Permission denied\n",
      "dat_sim_input_20x_coverage_sim12.bed.gz\n",
      "12\n",
      "/var/spool/slurmd/job28684441/slurm_script: line 36: /dat_sim_input_20x_coverage_sim12.bed.gz: Permission denied\n",
      "dat_sim_input_20x_coverage_sim13.bed.gz\n",
      "13\n",
      "/var/spool/slurmd/job28684441/slurm_script: line 36: /dat_sim_input_20x_coverage_sim13.bed.gz: Permission denied\n",
      "\n",
      "Done!\n",
      "Run Time: 1 seconds\n"
     ]
    }
   ],
   "source": [
    "cat ${FD_LOG}/coverage_simulation_PER1.txt"
   ]
  },
  {
   "cell_type": "code",
   "execution_count": 13,
   "id": "8e593f30-dc40-4b79-984a-0a5bd1c17917",
   "metadata": {},
   "outputs": [
    {
     "name": "stdout",
     "output_type": "stream",
     "text": [
      "Submitted batch job 28684483\n"
     ]
    }
   ],
   "source": [
    "sbatch -p ${NODE} \\\n",
    "    --mem 10G \\\n",
    "    -o ${FD_LOG}/coverage_simulation_dmso_PER1.txt \\\n",
    "    <<'EOF'\n",
    "#!/bin/bash\n",
    "### set directories & global variables\n",
    "source ../config_duke.sh\n",
    "#CHROMS=($(seq 1 22) X Y)\n",
    "#CHROM=chr${CHROMS[${SLURM_ARRAY_TASK_ID}]}\n",
    "CHROM=chr17\n",
    "\n",
    "### print start message\n",
    "timer_start=`date +%s`\n",
    "echo \"Slurm Array Index: \" ${SLURM_ARRAY_TASK_ID}\n",
    "echo \"Time Stamp:        \" $(date +\"%m-%d-%y+%T\")\n",
    "echo\n",
    "\n",
    "### set file IO\n",
    "WINDOW=sliding_chr17_len_1kb_gap_100bp\n",
    "FD_WIN=${FD_RES}/sliding_window\n",
    "FN_REG=region_PER1_perbase.bed\n",
    "\n",
    "FD_SIM=${FD_RES}/sliding_window/${WINDOW}/simulation\n",
    "FN_SIM=dat_sim_dmso.bed\n",
    "\n",
    "FD_OUT=${FD_SIM}\n",
    "\n",
    "for idx_col in $(seq 4 13); do\n",
    "    ###\n",
    "    FN_OUT=dat_sim_dmso_coverage_sim${idx_col}.bed.gz\n",
    "    echo ${FN_OUT}\n",
    "    echo ${idx_col}\n",
    "    \n",
    "    ### run: get the coverage of sliding window\n",
    "    bedtools map \\\n",
    "        -a ${FD_WIN}/${FN_REG} \\\n",
    "        -b ${FD_SIM}/${FN_SIM} \\\n",
    "        -c ${idx_col} \\\n",
    "        -o sum |\\\n",
    "        gzip -c \\\n",
    "        > ${FD_OUT}/${FN_OUT}\n",
    "done\n",
    "\n",
    "### print end message\n",
    "timer=`date +%s`\n",
    "runtime=$(echo \"${timer} - ${timer_start}\" | bc -l)\n",
    "echo\n",
    "echo 'Done!'\n",
    "echo \"Run Time: $(displaytime ${runtime})\"\n",
    "\n",
    "EOF"
   ]
  },
  {
   "cell_type": "code",
   "execution_count": null,
   "id": "634c5ce5-9d92-4134-8b12-aeeb526fc0ef",
   "metadata": {},
   "outputs": [],
   "source": []
  }
 ],
 "metadata": {
  "kernelspec": {
   "display_name": "Bash",
   "language": "bash",
   "name": "bash"
  },
  "language_info": {
   "codemirror_mode": "shell",
   "file_extension": ".sh",
   "mimetype": "text/x-sh",
   "name": "bash"
  }
 },
 "nbformat": 4,
 "nbformat_minor": 5
}
