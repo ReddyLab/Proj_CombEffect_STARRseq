{
 "cells": [
  {
   "cell_type": "code",
   "execution_count": 1,
   "id": "defcc7de",
   "metadata": {},
   "outputs": [],
   "source": [
    "suppressMessages(source(\"../config_sing.R\"))"
   ]
  },
  {
   "cell_type": "markdown",
   "id": "34e60fbd",
   "metadata": {},
   "source": [
    "## Helper function"
   ]
  },
  {
   "cell_type": "markdown",
   "id": "a9abe6e8",
   "metadata": {},
   "source": [
    "**Negative binomial**"
   ]
  },
  {
   "cell_type": "code",
   "execution_count": 2,
   "id": "f56ed076",
   "metadata": {},
   "outputs": [],
   "source": [
    "fun_rnegbin = function(n, mu, sigma2){\n",
    "    theta = mu^2 / (sigma2 - mu)\n",
    "    x = MASS::rnegbin(n, mu, theta)\n",
    "    return(x)\n",
    "}"
   ]
  },
  {
   "cell_type": "code",
   "execution_count": 3,
   "id": "16c35523",
   "metadata": {},
   "outputs": [
    {
     "name": "stdout",
     "output_type": "stream",
     "text": [
      "[1] 100.000000   2.600000   7.454545\n",
      "[1] 1000.000000    2.934000    9.967612\n",
      "[1] 10000.000000     2.953100     9.716872\n",
      "[1] 100000.00000      3.01060     10.05281\n"
     ]
    }
   ],
   "source": [
    "set.seed(123)\n",
    "for (n in c(100, 1000, 10000, 100000)){\n",
    "    x = fun_rnegbin(n, 3, 10)\n",
    "    print(c(n, mean(x), var(x)))\n",
    "}"
   ]
  },
  {
   "cell_type": "markdown",
   "id": "eeb12b1f",
   "metadata": {},
   "source": [
    "**Mean-Variance relationship**"
   ]
  },
  {
   "cell_type": "code",
   "execution_count": 4,
   "id": "09fe76dd",
   "metadata": {},
   "outputs": [
    {
     "name": "stdout",
     "output_type": "stream",
     "text": [
      "[1] \"list\"\n",
      "[1] \"x\" \"y\"\n",
      "[1] 734347\n"
     ]
    }
   ],
   "source": [
    "fdiry = file.path(FD_RES, \"sliding_window\", \"sliding_chr17_len_1kb_gap_100bp\")\n",
    "fname = \"lowess_input_20x.rds\"\n",
    "fpath = file.path(fdiry, fname)\n",
    "\n",
    "fit_inp20x = readRDS(fpath)\n",
    "print(class(fit_inp20x))\n",
    "print(names(fit_inp20x))\n",
    "print(length(fit_inp20x$x))"
   ]
  },
  {
   "cell_type": "code",
   "execution_count": 5,
   "id": "bad497d2",
   "metadata": {},
   "outputs": [
    {
     "name": "stdout",
     "output_type": "stream",
     "text": [
      "[1] \"list\"\n",
      "[1] \"x\" \"y\"\n",
      "[1] 691738\n"
     ]
    }
   ],
   "source": [
    "fdiry = file.path(FD_RES, \"sliding_window\", \"sliding_chr17_len_1kb_gap_100bp\")\n",
    "fname = \"lowess_tfx_dmso.rds\"\n",
    "fpath = file.path(fdiry, fname)\n",
    "\n",
    "fit_dmso = readRDS(fpath)\n",
    "print(class(fit_dmso))\n",
    "print(names(fit_dmso))\n",
    "print(length(fit_dmso$x))"
   ]
  },
  {
   "cell_type": "code",
   "execution_count": 22,
   "id": "2249f0b2",
   "metadata": {},
   "outputs": [],
   "source": [
    "fun_predict = function(fit, x_new){\n",
    "    y_new = approx(fit$x, fit$y, xout=x_new, ties=mean)$y\n",
    "    return(y_new)\n",
    "}\n",
    "\n",
    "get_var = function(fit, mu){\n",
    "    log10mu  = log10(mu)\n",
    "    log10var = fun_predict(fit, log10mu)\n",
    "    return(10^log10var)\n",
    "}"
   ]
  },
  {
   "cell_type": "code",
   "execution_count": 10,
   "id": "693fa04c",
   "metadata": {},
   "outputs": [
    {
     "data": {
      "text/html": [
       "<style>\n",
       ".list-inline {list-style: none; margin:0; padding: 0}\n",
       ".list-inline>li {display: inline-block}\n",
       ".list-inline>li:not(:last-child)::after {content: \"\\00b7\"; padding: 0 .5ex}\n",
       "</style>\n",
       "<ol class=list-inline><li>-0.0317776131750328</li><li>3.55048016744013</li></ol>\n"
      ],
      "text/latex": [
       "\\begin{enumerate*}\n",
       "\\item -0.0317776131750328\n",
       "\\item 3.55048016744013\n",
       "\\end{enumerate*}\n"
      ],
      "text/markdown": [
       "1. -0.0317776131750328\n",
       "2. 3.55048016744013\n",
       "\n",
       "\n"
      ],
      "text/plain": [
       "[1] -0.03177761  3.55048017"
      ]
     },
     "metadata": {},
     "output_type": "display_data"
    }
   ],
   "source": [
    "range(fit$x)"
   ]
  },
  {
   "cell_type": "code",
   "execution_count": 12,
   "id": "94326b2b",
   "metadata": {},
   "outputs": [
    {
     "data": {
      "image/png": "[encoded data removed]",
      "text/plain": [
       "plot without title"
      ]
     },
     "metadata": {
      "image/png": {
       "height": 420,
       "width": 420
      }
     },
     "output_type": "display_data"
    }
   ],
   "source": [
    "fit = fit_inp20x\n",
    "x = 1\n",
    "y = fun_predict(fit, x)\n",
    "\n",
    "plot(NULL, xlim=range(fit$x), ylim=range(fit$y), ylab=\"y label\", xlab=\"x lablel\")\n",
    "lines(fit)\n",
    "points(x, y)"
   ]
  },
  {
   "cell_type": "code",
   "execution_count": 13,
   "id": "3ec7c8b3",
   "metadata": {},
   "outputs": [
    {
     "data": {
      "image/png": "[encoded data removed]",
      "text/plain": [
       "plot without title"
      ]
     },
     "metadata": {
      "image/png": {
       "height": 420,
       "width": 420
      }
     },
     "output_type": "display_data"
    }
   ],
   "source": [
    "fit = fit_dmso\n",
    "x = 1\n",
    "y = fun_predict(fit, x)\n",
    "\n",
    "plot(NULL, xlim=range(fit$x), ylim=range(fit$y), ylab=\"y label\", xlab=\"x lablel\")\n",
    "lines(fit)\n",
    "points(x, y)"
   ]
  },
  {
   "cell_type": "markdown",
   "id": "fc132a4f",
   "metadata": {},
   "source": [
    "## Import library size"
   ]
  },
  {
   "cell_type": "code",
   "execution_count": 14,
   "id": "1774857d",
   "metadata": {},
   "outputs": [
    {
     "name": "stdout",
     "output_type": "stream",
     "text": [
      "[1] 54  4\n"
     ]
    },
    {
     "data": {
      "text/html": [
       "<table class=\"dataframe\">\n",
       "<caption>A grouped_df: 6 × 4</caption>\n",
       "<thead>\n",
       "\t<tr><th scope=col>Sample</th><th scope=col>Group</th><th scope=col>Size</th><th scope=col>Size_Group</th></tr>\n",
       "\t<tr><th scope=col>&lt;chr&gt;</th><th scope=col>&lt;chr&gt;</th><th scope=col>&lt;dbl&gt;</th><th scope=col>&lt;dbl&gt;</th></tr>\n",
       "</thead>\n",
       "<tbody>\n",
       "\t<tr><td>Input1_20x</td><td>Input_20x</td><td>371718546</td><td>363877945</td></tr>\n",
       "\t<tr><td>Input1    </td><td>Input    </td><td> 18666630</td><td> 19115894</td></tr>\n",
       "\t<tr><td>Input2_20x</td><td>Input_20x</td><td>347635732</td><td>363877945</td></tr>\n",
       "\t<tr><td>Input2    </td><td>Input    </td><td> 20167924</td><td> 19115894</td></tr>\n",
       "\t<tr><td>Input3_20x</td><td>Input_20x</td><td>349994051</td><td>363877945</td></tr>\n",
       "\t<tr><td>Input3    </td><td>Input    </td><td> 23280988</td><td> 19115894</td></tr>\n",
       "</tbody>\n",
       "</table>\n"
      ],
      "text/latex": [
       "A grouped\\_df: 6 × 4\n",
       "\\begin{tabular}{llll}\n",
       " Sample & Group & Size & Size\\_Group\\\\\n",
       " <chr> & <chr> & <dbl> & <dbl>\\\\\n",
       "\\hline\n",
       "\t Input1\\_20x & Input\\_20x & 371718546 & 363877945\\\\\n",
       "\t Input1     & Input     &  18666630 &  19115894\\\\\n",
       "\t Input2\\_20x & Input\\_20x & 347635732 & 363877945\\\\\n",
       "\t Input2     & Input     &  20167924 &  19115894\\\\\n",
       "\t Input3\\_20x & Input\\_20x & 349994051 & 363877945\\\\\n",
       "\t Input3     & Input     &  23280988 &  19115894\\\\\n",
       "\\end{tabular}\n"
      ],
      "text/markdown": [
       "\n",
       "A grouped_df: 6 × 4\n",
       "\n",
       "| Sample &lt;chr&gt; | Group &lt;chr&gt; | Size &lt;dbl&gt; | Size_Group &lt;dbl&gt; |\n",
       "|---|---|---|---|\n",
       "| Input1_20x | Input_20x | 371718546 | 363877945 |\n",
       "| Input1     | Input     |  18666630 |  19115894 |\n",
       "| Input2_20x | Input_20x | 347635732 | 363877945 |\n",
       "| Input2     | Input     |  20167924 |  19115894 |\n",
       "| Input3_20x | Input_20x | 349994051 | 363877945 |\n",
       "| Input3     | Input     |  23280988 |  19115894 |\n",
       "\n"
      ],
      "text/plain": [
       "  Sample     Group     Size      Size_Group\n",
       "1 Input1_20x Input_20x 371718546 363877945 \n",
       "2 Input1     Input      18666630  19115894 \n",
       "3 Input2_20x Input_20x 347635732 363877945 \n",
       "4 Input2     Input      20167924  19115894 \n",
       "5 Input3_20x Input_20x 349994051 363877945 \n",
       "6 Input3     Input      23280988  19115894 "
      ]
     },
     "metadata": {},
     "output_type": "display_data"
    }
   ],
   "source": [
    "fdiry = file.path(FD_RES, \"source\")\n",
    "fname = \"library_size.tsv\"\n",
    "fpath = file.path(fdiry, fname)\n",
    "\n",
    "###\n",
    "fun = function(x){exp(mean(log(x)))}\n",
    "dat = read_tsv(fpath, show_col_types = FALSE)\n",
    "dat = dat %>% \n",
    "    group_by(Group) %>% \n",
    "    mutate(Size_Group = fun(Size))\n",
    "\n",
    "###\n",
    "dat_lib = dat\n",
    "print(dim(dat))\n",
    "head(dat)"
   ]
  },
  {
   "cell_type": "code",
   "execution_count": 15,
   "id": "95b7f04d",
   "metadata": {},
   "outputs": [
    {
     "data": {
      "text/html": [
       "<table class=\"dataframe\">\n",
       "<caption>A grouped_df: 9 × 4</caption>\n",
       "<thead>\n",
       "\t<tr><th scope=col>Sample</th><th scope=col>Group</th><th scope=col>Size</th><th scope=col>Size_Group</th></tr>\n",
       "\t<tr><th scope=col>&lt;chr&gt;</th><th scope=col>&lt;chr&gt;</th><th scope=col>&lt;dbl&gt;</th><th scope=col>&lt;dbl&gt;</th></tr>\n",
       "</thead>\n",
       "<tbody>\n",
       "\t<tr><td>Input1_20x</td><td>Input_20x</td><td>371718546</td><td>363877945</td></tr>\n",
       "\t<tr><td>Input2_20x</td><td>Input_20x</td><td>347635732</td><td>363877945</td></tr>\n",
       "\t<tr><td>Input3_20x</td><td>Input_20x</td><td>349994051</td><td>363877945</td></tr>\n",
       "\t<tr><td>Input4_20x</td><td>Input_20x</td><td>413508358</td><td>363877945</td></tr>\n",
       "\t<tr><td>Input5_20x</td><td>Input_20x</td><td>341110487</td><td>363877945</td></tr>\n",
       "\t<tr><td>TFX2_DMSO </td><td>TFX_DMSO </td><td> 43844606</td><td> 32013519</td></tr>\n",
       "\t<tr><td>TFX3_DMSO </td><td>TFX_DMSO </td><td> 26819569</td><td> 32013519</td></tr>\n",
       "\t<tr><td>TFX4_DMSO </td><td>TFX_DMSO </td><td> 30951533</td><td> 32013519</td></tr>\n",
       "\t<tr><td>TFX5_DMSO </td><td>TFX_DMSO </td><td> 28859151</td><td> 32013519</td></tr>\n",
       "</tbody>\n",
       "</table>\n"
      ],
      "text/latex": [
       "A grouped\\_df: 9 × 4\n",
       "\\begin{tabular}{llll}\n",
       " Sample & Group & Size & Size\\_Group\\\\\n",
       " <chr> & <chr> & <dbl> & <dbl>\\\\\n",
       "\\hline\n",
       "\t Input1\\_20x & Input\\_20x & 371718546 & 363877945\\\\\n",
       "\t Input2\\_20x & Input\\_20x & 347635732 & 363877945\\\\\n",
       "\t Input3\\_20x & Input\\_20x & 349994051 & 363877945\\\\\n",
       "\t Input4\\_20x & Input\\_20x & 413508358 & 363877945\\\\\n",
       "\t Input5\\_20x & Input\\_20x & 341110487 & 363877945\\\\\n",
       "\t TFX2\\_DMSO  & TFX\\_DMSO  &  43844606 &  32013519\\\\\n",
       "\t TFX3\\_DMSO  & TFX\\_DMSO  &  26819569 &  32013519\\\\\n",
       "\t TFX4\\_DMSO  & TFX\\_DMSO  &  30951533 &  32013519\\\\\n",
       "\t TFX5\\_DMSO  & TFX\\_DMSO  &  28859151 &  32013519\\\\\n",
       "\\end{tabular}\n"
      ],
      "text/markdown": [
       "\n",
       "A grouped_df: 9 × 4\n",
       "\n",
       "| Sample &lt;chr&gt; | Group &lt;chr&gt; | Size &lt;dbl&gt; | Size_Group &lt;dbl&gt; |\n",
       "|---|---|---|---|\n",
       "| Input1_20x | Input_20x | 371718546 | 363877945 |\n",
       "| Input2_20x | Input_20x | 347635732 | 363877945 |\n",
       "| Input3_20x | Input_20x | 349994051 | 363877945 |\n",
       "| Input4_20x | Input_20x | 413508358 | 363877945 |\n",
       "| Input5_20x | Input_20x | 341110487 | 363877945 |\n",
       "| TFX2_DMSO  | TFX_DMSO  |  43844606 |  32013519 |\n",
       "| TFX3_DMSO  | TFX_DMSO  |  26819569 |  32013519 |\n",
       "| TFX4_DMSO  | TFX_DMSO  |  30951533 |  32013519 |\n",
       "| TFX5_DMSO  | TFX_DMSO  |  28859151 |  32013519 |\n",
       "\n"
      ],
      "text/plain": [
       "  Sample     Group     Size      Size_Group\n",
       "1 Input1_20x Input_20x 371718546 363877945 \n",
       "2 Input2_20x Input_20x 347635732 363877945 \n",
       "3 Input3_20x Input_20x 349994051 363877945 \n",
       "4 Input4_20x Input_20x 413508358 363877945 \n",
       "5 Input5_20x Input_20x 341110487 363877945 \n",
       "6 TFX2_DMSO  TFX_DMSO   43844606  32013519 \n",
       "7 TFX3_DMSO  TFX_DMSO   26819569  32013519 \n",
       "8 TFX4_DMSO  TFX_DMSO   30951533  32013519 \n",
       "9 TFX5_DMSO  TFX_DMSO   28859151  32013519 "
      ]
     },
     "metadata": {},
     "output_type": "display_data"
    }
   ],
   "source": [
    "dat = dat_lib\n",
    "dat = dat %>% dplyr::filter(str_detect(Sample, \"_20x|DMSO\"))\n",
    "dat"
   ]
  },
  {
   "cell_type": "code",
   "execution_count": 64,
   "id": "e20301ec",
   "metadata": {},
   "outputs": [],
   "source": [
    "LIBSIZE_INP20X = 363877945\n",
    "LIBSIZE_TFX_DMSO   = 32013519"
   ]
  },
  {
   "cell_type": "markdown",
   "id": "6ed30f14",
   "metadata": {},
   "source": [
    "## Import data"
   ]
  },
  {
   "cell_type": "code",
   "execution_count": 17,
   "id": "d5349aae",
   "metadata": {},
   "outputs": [
    {
     "name": "stdout",
     "output_type": "stream",
     "text": [
      "[1] 2911211      10\n"
     ]
    },
    {
     "data": {
      "text/html": [
       "<table class=\"dataframe\">\n",
       "<caption>A tibble: 6 × 10</caption>\n",
       "<thead>\n",
       "\t<tr><th scope=col>Chrom</th><th scope=col>Start</th><th scope=col>End</th><th scope=col>Group</th><th scope=col>Cpm_Mean</th><th scope=col>Cpm_Var</th><th scope=col>Cpm_Std</th><th scope=col>Cnt_Mean</th><th scope=col>Cnt_Var</th><th scope=col>Cnt_Std</th></tr>\n",
       "\t<tr><th scope=col>&lt;chr&gt;</th><th scope=col>&lt;dbl&gt;</th><th scope=col>&lt;dbl&gt;</th><th scope=col>&lt;chr&gt;</th><th scope=col>&lt;dbl&gt;</th><th scope=col>&lt;dbl&gt;</th><th scope=col>&lt;dbl&gt;</th><th scope=col>&lt;dbl&gt;</th><th scope=col>&lt;dbl&gt;</th><th scope=col>&lt;dbl&gt;</th></tr>\n",
       "</thead>\n",
       "<tbody>\n",
       "\t<tr><td>chr17</td><td>69200</td><td>70200</td><td>TFX_Dex</td><td>0.02363494</td><td>NA</td><td>NA</td><td>0.8602086</td><td>NA</td><td>NA</td></tr>\n",
       "\t<tr><td>chr17</td><td>69300</td><td>70300</td><td>TFX_Dex</td><td>0.02363494</td><td>NA</td><td>NA</td><td>0.8602086</td><td>NA</td><td>NA</td></tr>\n",
       "\t<tr><td>chr17</td><td>69400</td><td>70400</td><td>TFX_Dex</td><td>0.02363494</td><td>NA</td><td>NA</td><td>0.8602086</td><td>NA</td><td>NA</td></tr>\n",
       "\t<tr><td>chr17</td><td>69500</td><td>70500</td><td>TFX_Dex</td><td>0.02363494</td><td>NA</td><td>NA</td><td>0.8602086</td><td>NA</td><td>NA</td></tr>\n",
       "\t<tr><td>chr17</td><td>69600</td><td>70600</td><td>TFX_Dex</td><td>0.02363494</td><td>NA</td><td>NA</td><td>0.8602086</td><td>NA</td><td>NA</td></tr>\n",
       "\t<tr><td>chr17</td><td>69700</td><td>70700</td><td>TFX_Dex</td><td>0.02363494</td><td>NA</td><td>NA</td><td>0.8602086</td><td>NA</td><td>NA</td></tr>\n",
       "</tbody>\n",
       "</table>\n"
      ],
      "text/latex": [
       "A tibble: 6 × 10\n",
       "\\begin{tabular}{llllllllll}\n",
       " Chrom & Start & End & Group & Cpm\\_Mean & Cpm\\_Var & Cpm\\_Std & Cnt\\_Mean & Cnt\\_Var & Cnt\\_Std\\\\\n",
       " <chr> & <dbl> & <dbl> & <chr> & <dbl> & <dbl> & <dbl> & <dbl> & <dbl> & <dbl>\\\\\n",
       "\\hline\n",
       "\t chr17 & 69200 & 70200 & TFX\\_Dex & 0.02363494 & NA & NA & 0.8602086 & NA & NA\\\\\n",
       "\t chr17 & 69300 & 70300 & TFX\\_Dex & 0.02363494 & NA & NA & 0.8602086 & NA & NA\\\\\n",
       "\t chr17 & 69400 & 70400 & TFX\\_Dex & 0.02363494 & NA & NA & 0.8602086 & NA & NA\\\\\n",
       "\t chr17 & 69500 & 70500 & TFX\\_Dex & 0.02363494 & NA & NA & 0.8602086 & NA & NA\\\\\n",
       "\t chr17 & 69600 & 70600 & TFX\\_Dex & 0.02363494 & NA & NA & 0.8602086 & NA & NA\\\\\n",
       "\t chr17 & 69700 & 70700 & TFX\\_Dex & 0.02363494 & NA & NA & 0.8602086 & NA & NA\\\\\n",
       "\\end{tabular}\n"
      ],
      "text/markdown": [
       "\n",
       "A tibble: 6 × 10\n",
       "\n",
       "| Chrom &lt;chr&gt; | Start &lt;dbl&gt; | End &lt;dbl&gt; | Group &lt;chr&gt; | Cpm_Mean &lt;dbl&gt; | Cpm_Var &lt;dbl&gt; | Cpm_Std &lt;dbl&gt; | Cnt_Mean &lt;dbl&gt; | Cnt_Var &lt;dbl&gt; | Cnt_Std &lt;dbl&gt; |\n",
       "|---|---|---|---|---|---|---|---|---|---|\n",
       "| chr17 | 69200 | 70200 | TFX_Dex | 0.02363494 | NA | NA | 0.8602086 | NA | NA |\n",
       "| chr17 | 69300 | 70300 | TFX_Dex | 0.02363494 | NA | NA | 0.8602086 | NA | NA |\n",
       "| chr17 | 69400 | 70400 | TFX_Dex | 0.02363494 | NA | NA | 0.8602086 | NA | NA |\n",
       "| chr17 | 69500 | 70500 | TFX_Dex | 0.02363494 | NA | NA | 0.8602086 | NA | NA |\n",
       "| chr17 | 69600 | 70600 | TFX_Dex | 0.02363494 | NA | NA | 0.8602086 | NA | NA |\n",
       "| chr17 | 69700 | 70700 | TFX_Dex | 0.02363494 | NA | NA | 0.8602086 | NA | NA |\n",
       "\n"
      ],
      "text/plain": [
       "  Chrom Start End   Group   Cpm_Mean   Cpm_Var Cpm_Std Cnt_Mean  Cnt_Var\n",
       "1 chr17 69200 70200 TFX_Dex 0.02363494 NA      NA      0.8602086 NA     \n",
       "2 chr17 69300 70300 TFX_Dex 0.02363494 NA      NA      0.8602086 NA     \n",
       "3 chr17 69400 70400 TFX_Dex 0.02363494 NA      NA      0.8602086 NA     \n",
       "4 chr17 69500 70500 TFX_Dex 0.02363494 NA      NA      0.8602086 NA     \n",
       "5 chr17 69600 70600 TFX_Dex 0.02363494 NA      NA      0.8602086 NA     \n",
       "6 chr17 69700 70700 TFX_Dex 0.02363494 NA      NA      0.8602086 NA     \n",
       "  Cnt_Std\n",
       "1 NA     \n",
       "2 NA     \n",
       "3 NA     \n",
       "4 NA     \n",
       "5 NA     \n",
       "6 NA     "
      ]
     },
     "metadata": {},
     "output_type": "display_data"
    }
   ],
   "source": [
    "###\n",
    "fdiry = file.path(FD_RES, \"sliding_window\", \"sliding_chr17_len_1kb_gap_100bp\")\n",
    "fname = \"dat_mu_var.tsv\"\n",
    "fpath = file.path(fdiry, fname)\n",
    "\n",
    "###\n",
    "dat = read_tsv(fpath, show_col_types = FALSE)\n",
    "\n",
    "###\n",
    "dat_mu_var = dat\n",
    "print(dim(dat))\n",
    "head(dat)"
   ]
  },
  {
   "cell_type": "markdown",
   "id": "02131705",
   "metadata": {},
   "source": [
    "**`Chr17:8,148,000-8,160,000`**"
   ]
  },
  {
   "cell_type": "code",
   "execution_count": 18,
   "id": "3b4ab382",
   "metadata": {},
   "outputs": [
    {
     "name": "stdout",
     "output_type": "stream",
     "text": [
      "[1] 444  10\n"
     ]
    },
    {
     "data": {
      "text/html": [
       "<table class=\"dataframe\">\n",
       "<caption>A tibble: 6 × 10</caption>\n",
       "<thead>\n",
       "\t<tr><th scope=col>Chrom</th><th scope=col>Start</th><th scope=col>End</th><th scope=col>Group</th><th scope=col>Cpm_Mean</th><th scope=col>Cpm_Var</th><th scope=col>Cpm_Std</th><th scope=col>Cnt_Mean</th><th scope=col>Cnt_Var</th><th scope=col>Cnt_Std</th></tr>\n",
       "\t<tr><th scope=col>&lt;chr&gt;</th><th scope=col>&lt;dbl&gt;</th><th scope=col>&lt;dbl&gt;</th><th scope=col>&lt;chr&gt;</th><th scope=col>&lt;dbl&gt;</th><th scope=col>&lt;dbl&gt;</th><th scope=col>&lt;dbl&gt;</th><th scope=col>&lt;dbl&gt;</th><th scope=col>&lt;dbl&gt;</th><th scope=col>&lt;dbl&gt;</th></tr>\n",
       "</thead>\n",
       "<tbody>\n",
       "\t<tr><td>chr17</td><td>8148000</td><td>8149000</td><td>Input    </td><td>1.438782</td><td>0.06613895</td><td>0.2571749</td><td> 27.50360</td><td>  24.16832</td><td> 4.916129</td></tr>\n",
       "\t<tr><td>chr17</td><td>8148000</td><td>8149000</td><td>Input_20x</td><td>2.086480</td><td>0.02407543</td><td>0.1551626</td><td>759.22407</td><td>3187.75967</td><td>56.460249</td></tr>\n",
       "\t<tr><td>chr17</td><td>8148000</td><td>8149000</td><td>TFX_Dex  </td><td>1.746624</td><td>0.39802951</td><td>0.6308958</td><td> 63.56949</td><td> 527.24691</td><td>22.961858</td></tr>\n",
       "\t<tr><td>chr17</td><td>8148000</td><td>8149000</td><td>TFX_DMSO </td><td>2.620582</td><td>0.51810780</td><td>0.7197971</td><td> 83.89405</td><td> 530.99077</td><td>23.043237</td></tr>\n",
       "\t<tr><td>chr17</td><td>8148100</td><td>8149100</td><td>Input    </td><td>1.531727</td><td>0.07160181</td><td>0.2675851</td><td> 29.28033</td><td>  26.16455</td><td> 5.115129</td></tr>\n",
       "\t<tr><td>chr17</td><td>8148100</td><td>8149100</td><td>Input_20x</td><td>2.116310</td><td>0.03109287</td><td>0.1763317</td><td>770.07860</td><td>4116.91796</td><td>64.163213</td></tr>\n",
       "</tbody>\n",
       "</table>\n"
      ],
      "text/latex": [
       "A tibble: 6 × 10\n",
       "\\begin{tabular}{llllllllll}\n",
       " Chrom & Start & End & Group & Cpm\\_Mean & Cpm\\_Var & Cpm\\_Std & Cnt\\_Mean & Cnt\\_Var & Cnt\\_Std\\\\\n",
       " <chr> & <dbl> & <dbl> & <chr> & <dbl> & <dbl> & <dbl> & <dbl> & <dbl> & <dbl>\\\\\n",
       "\\hline\n",
       "\t chr17 & 8148000 & 8149000 & Input     & 1.438782 & 0.06613895 & 0.2571749 &  27.50360 &   24.16832 &  4.916129\\\\\n",
       "\t chr17 & 8148000 & 8149000 & Input\\_20x & 2.086480 & 0.02407543 & 0.1551626 & 759.22407 & 3187.75967 & 56.460249\\\\\n",
       "\t chr17 & 8148000 & 8149000 & TFX\\_Dex   & 1.746624 & 0.39802951 & 0.6308958 &  63.56949 &  527.24691 & 22.961858\\\\\n",
       "\t chr17 & 8148000 & 8149000 & TFX\\_DMSO  & 2.620582 & 0.51810780 & 0.7197971 &  83.89405 &  530.99077 & 23.043237\\\\\n",
       "\t chr17 & 8148100 & 8149100 & Input     & 1.531727 & 0.07160181 & 0.2675851 &  29.28033 &   26.16455 &  5.115129\\\\\n",
       "\t chr17 & 8148100 & 8149100 & Input\\_20x & 2.116310 & 0.03109287 & 0.1763317 & 770.07860 & 4116.91796 & 64.163213\\\\\n",
       "\\end{tabular}\n"
      ],
      "text/markdown": [
       "\n",
       "A tibble: 6 × 10\n",
       "\n",
       "| Chrom &lt;chr&gt; | Start &lt;dbl&gt; | End &lt;dbl&gt; | Group &lt;chr&gt; | Cpm_Mean &lt;dbl&gt; | Cpm_Var &lt;dbl&gt; | Cpm_Std &lt;dbl&gt; | Cnt_Mean &lt;dbl&gt; | Cnt_Var &lt;dbl&gt; | Cnt_Std &lt;dbl&gt; |\n",
       "|---|---|---|---|---|---|---|---|---|---|\n",
       "| chr17 | 8148000 | 8149000 | Input     | 1.438782 | 0.06613895 | 0.2571749 |  27.50360 |   24.16832 |  4.916129 |\n",
       "| chr17 | 8148000 | 8149000 | Input_20x | 2.086480 | 0.02407543 | 0.1551626 | 759.22407 | 3187.75967 | 56.460249 |\n",
       "| chr17 | 8148000 | 8149000 | TFX_Dex   | 1.746624 | 0.39802951 | 0.6308958 |  63.56949 |  527.24691 | 22.961858 |\n",
       "| chr17 | 8148000 | 8149000 | TFX_DMSO  | 2.620582 | 0.51810780 | 0.7197971 |  83.89405 |  530.99077 | 23.043237 |\n",
       "| chr17 | 8148100 | 8149100 | Input     | 1.531727 | 0.07160181 | 0.2675851 |  29.28033 |   26.16455 |  5.115129 |\n",
       "| chr17 | 8148100 | 8149100 | Input_20x | 2.116310 | 0.03109287 | 0.1763317 | 770.07860 | 4116.91796 | 64.163213 |\n",
       "\n"
      ],
      "text/plain": [
       "  Chrom Start   End     Group     Cpm_Mean Cpm_Var    Cpm_Std   Cnt_Mean \n",
       "1 chr17 8148000 8149000 Input     1.438782 0.06613895 0.2571749  27.50360\n",
       "2 chr17 8148000 8149000 Input_20x 2.086480 0.02407543 0.1551626 759.22407\n",
       "3 chr17 8148000 8149000 TFX_Dex   1.746624 0.39802951 0.6308958  63.56949\n",
       "4 chr17 8148000 8149000 TFX_DMSO  2.620582 0.51810780 0.7197971  83.89405\n",
       "5 chr17 8148100 8149100 Input     1.531727 0.07160181 0.2675851  29.28033\n",
       "6 chr17 8148100 8149100 Input_20x 2.116310 0.03109287 0.1763317 770.07860\n",
       "  Cnt_Var    Cnt_Std  \n",
       "1   24.16832  4.916129\n",
       "2 3187.75967 56.460249\n",
       "3  527.24691 22.961858\n",
       "4  530.99077 23.043237\n",
       "5   26.16455  5.115129\n",
       "6 4116.91796 64.163213"
      ]
     },
     "metadata": {},
     "output_type": "display_data"
    }
   ],
   "source": [
    "###\n",
    "loc1 = 8148000\n",
    "loc2 = 8160000\n",
    "\n",
    "###\n",
    "dat = dat_mu_var\n",
    "dat = dat %>% dplyr::filter(Start >= loc1, End <= loc2)\n",
    "\n",
    "###\n",
    "dat_mu_var_per1 = dat\n",
    "print(dim(dat))\n",
    "head(dat)"
   ]
  },
  {
   "cell_type": "code",
   "execution_count": 86,
   "id": "117a0ce5",
   "metadata": {},
   "outputs": [
    {
     "name": "stdout",
     "output_type": "stream",
     "text": [
      "[1]  314.6158 1298.6585\n",
      "[1]  11.26254 247.50388\n",
      "[1]  27.6795 114.2543\n"
     ]
    }
   ],
   "source": [
    "dat_inp  = dat_mu_var_per1 %>% dplyr::filter(Group == \"Input_20x\")\n",
    "dat_dmso = dat_mu_var_per1 %>% dplyr::filter(Group == \"TFX_DMSO\")\n",
    "\n",
    "x = dat_inp$Cpm_Mean * LIBSIZE_TFX_DMSO / 10^6\n",
    "\n",
    "print(range(dat_inp$Cnt_Mean))\n",
    "print(range(dat_dmso$Cnt_Mean))\n",
    "print(range(x))"
   ]
  },
  {
   "cell_type": "code",
   "execution_count": 20,
   "id": "86c5e036",
   "metadata": {},
   "outputs": [
    {
     "data": {
      "text/html": [
       "<table class=\"dataframe\">\n",
       "<caption>A tibble: 6 × 10</caption>\n",
       "<thead>\n",
       "\t<tr><th scope=col>Chrom</th><th scope=col>Start</th><th scope=col>End</th><th scope=col>Group</th><th scope=col>Cpm_Mean</th><th scope=col>Cpm_Var</th><th scope=col>Cpm_Std</th><th scope=col>Cnt_Mean</th><th scope=col>Cnt_Var</th><th scope=col>Cnt_Std</th></tr>\n",
       "\t<tr><th scope=col>&lt;chr&gt;</th><th scope=col>&lt;dbl&gt;</th><th scope=col>&lt;dbl&gt;</th><th scope=col>&lt;chr&gt;</th><th scope=col>&lt;dbl&gt;</th><th scope=col>&lt;dbl&gt;</th><th scope=col>&lt;dbl&gt;</th><th scope=col>&lt;dbl&gt;</th><th scope=col>&lt;dbl&gt;</th><th scope=col>&lt;dbl&gt;</th></tr>\n",
       "</thead>\n",
       "<tbody>\n",
       "\t<tr><td>chr17</td><td>8148000</td><td>8149000</td><td>Input_20x</td><td>2.086480</td><td>0.02407543</td><td>0.1551626</td><td>759.2241</td><td>3187.760</td><td>56.46025</td></tr>\n",
       "\t<tr><td>chr17</td><td>8148100</td><td>8149100</td><td>Input_20x</td><td>2.116310</td><td>0.03109287</td><td>0.1763317</td><td>770.0786</td><td>4116.918</td><td>64.16321</td></tr>\n",
       "\t<tr><td>chr17</td><td>8148200</td><td>8149200</td><td>Input_20x</td><td>2.221834</td><td>0.02262202</td><td>0.1504062</td><td>808.4764</td><td>2995.318</td><td>54.72949</td></tr>\n",
       "\t<tr><td>chr17</td><td>8148300</td><td>8149300</td><td>Input_20x</td><td>2.232609</td><td>0.01880972</td><td>0.1371485</td><td>812.3972</td><td>2490.542</td><td>49.90533</td></tr>\n",
       "\t<tr><td>chr17</td><td>8148400</td><td>8149400</td><td>Input_20x</td><td>2.280630</td><td>0.01380086</td><td>0.1174771</td><td>829.8709</td><td>1827.333</td><td>42.74731</td></tr>\n",
       "\t<tr><td>chr17</td><td>8148500</td><td>8149500</td><td>Input_20x</td><td>2.135200</td><td>0.01100842</td><td>0.1049210</td><td>776.9522</td><td>1457.594</td><td>38.17845</td></tr>\n",
       "</tbody>\n",
       "</table>\n"
      ],
      "text/latex": [
       "A tibble: 6 × 10\n",
       "\\begin{tabular}{llllllllll}\n",
       " Chrom & Start & End & Group & Cpm\\_Mean & Cpm\\_Var & Cpm\\_Std & Cnt\\_Mean & Cnt\\_Var & Cnt\\_Std\\\\\n",
       " <chr> & <dbl> & <dbl> & <chr> & <dbl> & <dbl> & <dbl> & <dbl> & <dbl> & <dbl>\\\\\n",
       "\\hline\n",
       "\t chr17 & 8148000 & 8149000 & Input\\_20x & 2.086480 & 0.02407543 & 0.1551626 & 759.2241 & 3187.760 & 56.46025\\\\\n",
       "\t chr17 & 8148100 & 8149100 & Input\\_20x & 2.116310 & 0.03109287 & 0.1763317 & 770.0786 & 4116.918 & 64.16321\\\\\n",
       "\t chr17 & 8148200 & 8149200 & Input\\_20x & 2.221834 & 0.02262202 & 0.1504062 & 808.4764 & 2995.318 & 54.72949\\\\\n",
       "\t chr17 & 8148300 & 8149300 & Input\\_20x & 2.232609 & 0.01880972 & 0.1371485 & 812.3972 & 2490.542 & 49.90533\\\\\n",
       "\t chr17 & 8148400 & 8149400 & Input\\_20x & 2.280630 & 0.01380086 & 0.1174771 & 829.8709 & 1827.333 & 42.74731\\\\\n",
       "\t chr17 & 8148500 & 8149500 & Input\\_20x & 2.135200 & 0.01100842 & 0.1049210 & 776.9522 & 1457.594 & 38.17845\\\\\n",
       "\\end{tabular}\n"
      ],
      "text/markdown": [
       "\n",
       "A tibble: 6 × 10\n",
       "\n",
       "| Chrom &lt;chr&gt; | Start &lt;dbl&gt; | End &lt;dbl&gt; | Group &lt;chr&gt; | Cpm_Mean &lt;dbl&gt; | Cpm_Var &lt;dbl&gt; | Cpm_Std &lt;dbl&gt; | Cnt_Mean &lt;dbl&gt; | Cnt_Var &lt;dbl&gt; | Cnt_Std &lt;dbl&gt; |\n",
       "|---|---|---|---|---|---|---|---|---|---|\n",
       "| chr17 | 8148000 | 8149000 | Input_20x | 2.086480 | 0.02407543 | 0.1551626 | 759.2241 | 3187.760 | 56.46025 |\n",
       "| chr17 | 8148100 | 8149100 | Input_20x | 2.116310 | 0.03109287 | 0.1763317 | 770.0786 | 4116.918 | 64.16321 |\n",
       "| chr17 | 8148200 | 8149200 | Input_20x | 2.221834 | 0.02262202 | 0.1504062 | 808.4764 | 2995.318 | 54.72949 |\n",
       "| chr17 | 8148300 | 8149300 | Input_20x | 2.232609 | 0.01880972 | 0.1371485 | 812.3972 | 2490.542 | 49.90533 |\n",
       "| chr17 | 8148400 | 8149400 | Input_20x | 2.280630 | 0.01380086 | 0.1174771 | 829.8709 | 1827.333 | 42.74731 |\n",
       "| chr17 | 8148500 | 8149500 | Input_20x | 2.135200 | 0.01100842 | 0.1049210 | 776.9522 | 1457.594 | 38.17845 |\n",
       "\n"
      ],
      "text/plain": [
       "  Chrom Start   End     Group     Cpm_Mean Cpm_Var    Cpm_Std   Cnt_Mean\n",
       "1 chr17 8148000 8149000 Input_20x 2.086480 0.02407543 0.1551626 759.2241\n",
       "2 chr17 8148100 8149100 Input_20x 2.116310 0.03109287 0.1763317 770.0786\n",
       "3 chr17 8148200 8149200 Input_20x 2.221834 0.02262202 0.1504062 808.4764\n",
       "4 chr17 8148300 8149300 Input_20x 2.232609 0.01880972 0.1371485 812.3972\n",
       "5 chr17 8148400 8149400 Input_20x 2.280630 0.01380086 0.1174771 829.8709\n",
       "6 chr17 8148500 8149500 Input_20x 2.135200 0.01100842 0.1049210 776.9522\n",
       "  Cnt_Var  Cnt_Std \n",
       "1 3187.760 56.46025\n",
       "2 4116.918 64.16321\n",
       "3 2995.318 54.72949\n",
       "4 2490.542 49.90533\n",
       "5 1827.333 42.74731\n",
       "6 1457.594 38.17845"
      ]
     },
     "metadata": {},
     "output_type": "display_data"
    }
   ],
   "source": [
    "head(dat_inp)"
   ]
  },
  {
   "cell_type": "code",
   "execution_count": 21,
   "id": "4d3c7646",
   "metadata": {},
   "outputs": [
    {
     "data": {
      "text/html": [
       "<table class=\"dataframe\">\n",
       "<caption>A tibble: 6 × 10</caption>\n",
       "<thead>\n",
       "\t<tr><th scope=col>Chrom</th><th scope=col>Start</th><th scope=col>End</th><th scope=col>Group</th><th scope=col>Cpm_Mean</th><th scope=col>Cpm_Var</th><th scope=col>Cpm_Std</th><th scope=col>Cnt_Mean</th><th scope=col>Cnt_Var</th><th scope=col>Cnt_Std</th></tr>\n",
       "\t<tr><th scope=col>&lt;chr&gt;</th><th scope=col>&lt;dbl&gt;</th><th scope=col>&lt;dbl&gt;</th><th scope=col>&lt;chr&gt;</th><th scope=col>&lt;dbl&gt;</th><th scope=col>&lt;dbl&gt;</th><th scope=col>&lt;dbl&gt;</th><th scope=col>&lt;dbl&gt;</th><th scope=col>&lt;dbl&gt;</th><th scope=col>&lt;dbl&gt;</th></tr>\n",
       "</thead>\n",
       "<tbody>\n",
       "\t<tr><td>chr17</td><td>8148000</td><td>8149000</td><td>TFX_DMSO</td><td>2.620582</td><td>0.5181078</td><td>0.7197971</td><td>83.89405</td><td>530.9908</td><td>23.04324</td></tr>\n",
       "\t<tr><td>chr17</td><td>8148100</td><td>8149100</td><td>TFX_DMSO</td><td>2.542617</td><td>0.6910279</td><td>0.8312809</td><td>81.39812</td><td>708.2106</td><td>26.61223</td></tr>\n",
       "\t<tr><td>chr17</td><td>8148200</td><td>8149200</td><td>TFX_DMSO</td><td>2.698205</td><td>0.6216890</td><td>0.7884726</td><td>86.37905</td><td>637.1475</td><td>25.24178</td></tr>\n",
       "\t<tr><td>chr17</td><td>8148300</td><td>8149300</td><td>TFX_DMSO</td><td>2.826829</td><td>0.5246484</td><td>0.7243261</td><td>90.49675</td><td>537.6940</td><td>23.18823</td></tr>\n",
       "\t<tr><td>chr17</td><td>8148400</td><td>8149400</td><td>TFX_DMSO</td><td>2.905786</td><td>0.8323483</td><td>0.9123312</td><td>93.02443</td><td>853.0450</td><td>29.20693</td></tr>\n",
       "\t<tr><td>chr17</td><td>8148500</td><td>8149500</td><td>TFX_DMSO</td><td>2.770231</td><td>0.8622622</td><td>0.9285807</td><td>88.68485</td><td>883.7027</td><td>29.72714</td></tr>\n",
       "</tbody>\n",
       "</table>\n"
      ],
      "text/latex": [
       "A tibble: 6 × 10\n",
       "\\begin{tabular}{llllllllll}\n",
       " Chrom & Start & End & Group & Cpm\\_Mean & Cpm\\_Var & Cpm\\_Std & Cnt\\_Mean & Cnt\\_Var & Cnt\\_Std\\\\\n",
       " <chr> & <dbl> & <dbl> & <chr> & <dbl> & <dbl> & <dbl> & <dbl> & <dbl> & <dbl>\\\\\n",
       "\\hline\n",
       "\t chr17 & 8148000 & 8149000 & TFX\\_DMSO & 2.620582 & 0.5181078 & 0.7197971 & 83.89405 & 530.9908 & 23.04324\\\\\n",
       "\t chr17 & 8148100 & 8149100 & TFX\\_DMSO & 2.542617 & 0.6910279 & 0.8312809 & 81.39812 & 708.2106 & 26.61223\\\\\n",
       "\t chr17 & 8148200 & 8149200 & TFX\\_DMSO & 2.698205 & 0.6216890 & 0.7884726 & 86.37905 & 637.1475 & 25.24178\\\\\n",
       "\t chr17 & 8148300 & 8149300 & TFX\\_DMSO & 2.826829 & 0.5246484 & 0.7243261 & 90.49675 & 537.6940 & 23.18823\\\\\n",
       "\t chr17 & 8148400 & 8149400 & TFX\\_DMSO & 2.905786 & 0.8323483 & 0.9123312 & 93.02443 & 853.0450 & 29.20693\\\\\n",
       "\t chr17 & 8148500 & 8149500 & TFX\\_DMSO & 2.770231 & 0.8622622 & 0.9285807 & 88.68485 & 883.7027 & 29.72714\\\\\n",
       "\\end{tabular}\n"
      ],
      "text/markdown": [
       "\n",
       "A tibble: 6 × 10\n",
       "\n",
       "| Chrom &lt;chr&gt; | Start &lt;dbl&gt; | End &lt;dbl&gt; | Group &lt;chr&gt; | Cpm_Mean &lt;dbl&gt; | Cpm_Var &lt;dbl&gt; | Cpm_Std &lt;dbl&gt; | Cnt_Mean &lt;dbl&gt; | Cnt_Var &lt;dbl&gt; | Cnt_Std &lt;dbl&gt; |\n",
       "|---|---|---|---|---|---|---|---|---|---|\n",
       "| chr17 | 8148000 | 8149000 | TFX_DMSO | 2.620582 | 0.5181078 | 0.7197971 | 83.89405 | 530.9908 | 23.04324 |\n",
       "| chr17 | 8148100 | 8149100 | TFX_DMSO | 2.542617 | 0.6910279 | 0.8312809 | 81.39812 | 708.2106 | 26.61223 |\n",
       "| chr17 | 8148200 | 8149200 | TFX_DMSO | 2.698205 | 0.6216890 | 0.7884726 | 86.37905 | 637.1475 | 25.24178 |\n",
       "| chr17 | 8148300 | 8149300 | TFX_DMSO | 2.826829 | 0.5246484 | 0.7243261 | 90.49675 | 537.6940 | 23.18823 |\n",
       "| chr17 | 8148400 | 8149400 | TFX_DMSO | 2.905786 | 0.8323483 | 0.9123312 | 93.02443 | 853.0450 | 29.20693 |\n",
       "| chr17 | 8148500 | 8149500 | TFX_DMSO | 2.770231 | 0.8622622 | 0.9285807 | 88.68485 | 883.7027 | 29.72714 |\n",
       "\n"
      ],
      "text/plain": [
       "  Chrom Start   End     Group    Cpm_Mean Cpm_Var   Cpm_Std   Cnt_Mean Cnt_Var \n",
       "1 chr17 8148000 8149000 TFX_DMSO 2.620582 0.5181078 0.7197971 83.89405 530.9908\n",
       "2 chr17 8148100 8149100 TFX_DMSO 2.542617 0.6910279 0.8312809 81.39812 708.2106\n",
       "3 chr17 8148200 8149200 TFX_DMSO 2.698205 0.6216890 0.7884726 86.37905 637.1475\n",
       "4 chr17 8148300 8149300 TFX_DMSO 2.826829 0.5246484 0.7243261 90.49675 537.6940\n",
       "5 chr17 8148400 8149400 TFX_DMSO 2.905786 0.8323483 0.9123312 93.02443 853.0450\n",
       "6 chr17 8148500 8149500 TFX_DMSO 2.770231 0.8622622 0.9285807 88.68485 883.7027\n",
       "  Cnt_Std \n",
       "1 23.04324\n",
       "2 26.61223\n",
       "3 25.24178\n",
       "4 23.18823\n",
       "5 29.20693\n",
       "6 29.72714"
      ]
     },
     "metadata": {},
     "output_type": "display_data"
    }
   ],
   "source": [
    "head(dat_dmso)"
   ]
  },
  {
   "cell_type": "markdown",
   "id": "9bb06a8a",
   "metadata": {},
   "source": [
    "## simulation"
   ]
  },
  {
   "cell_type": "markdown",
   "id": "93e2a70d",
   "metadata": {},
   "source": [
    "**Test**"
   ]
  },
  {
   "cell_type": "code",
   "execution_count": 75,
   "id": "513c6d38",
   "metadata": {},
   "outputs": [
    {
     "name": "stdout",
     "output_type": "stream",
     "text": [
      "[1]   10 1000\n",
      " [1]  0.88  1.89  3.01  3.92  4.86  5.90  7.05  8.00  9.00 10.05\n",
      " [1] 10.81  9.32 13.77 14.60 13.17 14.65 16.18 19.68 18.84 19.90\n"
     ]
    }
   ],
   "source": [
    "set.seed(123)\n",
    "mat  = replicate(1000, fun_rnegbin(n=rep(1, 10), mu=1:10, sigma2=11:20))\n",
    "mu   = round(apply(mat, 1, mean), 2) \n",
    "sig2 = round(apply(mat, 1, var), 2)\n",
    "\n",
    "print(dim(mat))\n",
    "print(mu)\n",
    "print(sig2)"
   ]
  },
  {
   "cell_type": "markdown",
   "id": "0214aa52",
   "metadata": {},
   "source": [
    "**Simulate**"
   ]
  },
  {
   "cell_type": "code",
   "execution_count": 76,
   "id": "ec437689",
   "metadata": {},
   "outputs": [
    {
     "data": {
      "text/html": [
       "<table class=\"dataframe\">\n",
       "<caption>A tibble: 6 × 10</caption>\n",
       "<thead>\n",
       "\t<tr><th scope=col>Chrom</th><th scope=col>Start</th><th scope=col>End</th><th scope=col>Group</th><th scope=col>Cpm_Mean</th><th scope=col>Cpm_Var</th><th scope=col>Cpm_Std</th><th scope=col>Cnt_Mean</th><th scope=col>Cnt_Var</th><th scope=col>Cnt_Std</th></tr>\n",
       "\t<tr><th scope=col>&lt;chr&gt;</th><th scope=col>&lt;dbl&gt;</th><th scope=col>&lt;dbl&gt;</th><th scope=col>&lt;chr&gt;</th><th scope=col>&lt;dbl&gt;</th><th scope=col>&lt;dbl&gt;</th><th scope=col>&lt;dbl&gt;</th><th scope=col>&lt;dbl&gt;</th><th scope=col>&lt;dbl&gt;</th><th scope=col>&lt;dbl&gt;</th></tr>\n",
       "</thead>\n",
       "<tbody>\n",
       "\t<tr><td>chr17</td><td>8148000</td><td>8149000</td><td>Input_20x</td><td>2.086480</td><td>0.02407543</td><td>0.1551626</td><td>759.2241</td><td>3187.760</td><td>56.46025</td></tr>\n",
       "\t<tr><td>chr17</td><td>8148100</td><td>8149100</td><td>Input_20x</td><td>2.116310</td><td>0.03109287</td><td>0.1763317</td><td>770.0786</td><td>4116.918</td><td>64.16321</td></tr>\n",
       "\t<tr><td>chr17</td><td>8148200</td><td>8149200</td><td>Input_20x</td><td>2.221834</td><td>0.02262202</td><td>0.1504062</td><td>808.4764</td><td>2995.318</td><td>54.72949</td></tr>\n",
       "\t<tr><td>chr17</td><td>8148300</td><td>8149300</td><td>Input_20x</td><td>2.232609</td><td>0.01880972</td><td>0.1371485</td><td>812.3972</td><td>2490.542</td><td>49.90533</td></tr>\n",
       "\t<tr><td>chr17</td><td>8148400</td><td>8149400</td><td>Input_20x</td><td>2.280630</td><td>0.01380086</td><td>0.1174771</td><td>829.8709</td><td>1827.333</td><td>42.74731</td></tr>\n",
       "\t<tr><td>chr17</td><td>8148500</td><td>8149500</td><td>Input_20x</td><td>2.135200</td><td>0.01100842</td><td>0.1049210</td><td>776.9522</td><td>1457.594</td><td>38.17845</td></tr>\n",
       "</tbody>\n",
       "</table>\n"
      ],
      "text/latex": [
       "A tibble: 6 × 10\n",
       "\\begin{tabular}{llllllllll}\n",
       " Chrom & Start & End & Group & Cpm\\_Mean & Cpm\\_Var & Cpm\\_Std & Cnt\\_Mean & Cnt\\_Var & Cnt\\_Std\\\\\n",
       " <chr> & <dbl> & <dbl> & <chr> & <dbl> & <dbl> & <dbl> & <dbl> & <dbl> & <dbl>\\\\\n",
       "\\hline\n",
       "\t chr17 & 8148000 & 8149000 & Input\\_20x & 2.086480 & 0.02407543 & 0.1551626 & 759.2241 & 3187.760 & 56.46025\\\\\n",
       "\t chr17 & 8148100 & 8149100 & Input\\_20x & 2.116310 & 0.03109287 & 0.1763317 & 770.0786 & 4116.918 & 64.16321\\\\\n",
       "\t chr17 & 8148200 & 8149200 & Input\\_20x & 2.221834 & 0.02262202 & 0.1504062 & 808.4764 & 2995.318 & 54.72949\\\\\n",
       "\t chr17 & 8148300 & 8149300 & Input\\_20x & 2.232609 & 0.01880972 & 0.1371485 & 812.3972 & 2490.542 & 49.90533\\\\\n",
       "\t chr17 & 8148400 & 8149400 & Input\\_20x & 2.280630 & 0.01380086 & 0.1174771 & 829.8709 & 1827.333 & 42.74731\\\\\n",
       "\t chr17 & 8148500 & 8149500 & Input\\_20x & 2.135200 & 0.01100842 & 0.1049210 & 776.9522 & 1457.594 & 38.17845\\\\\n",
       "\\end{tabular}\n"
      ],
      "text/markdown": [
       "\n",
       "A tibble: 6 × 10\n",
       "\n",
       "| Chrom &lt;chr&gt; | Start &lt;dbl&gt; | End &lt;dbl&gt; | Group &lt;chr&gt; | Cpm_Mean &lt;dbl&gt; | Cpm_Var &lt;dbl&gt; | Cpm_Std &lt;dbl&gt; | Cnt_Mean &lt;dbl&gt; | Cnt_Var &lt;dbl&gt; | Cnt_Std &lt;dbl&gt; |\n",
       "|---|---|---|---|---|---|---|---|---|---|\n",
       "| chr17 | 8148000 | 8149000 | Input_20x | 2.086480 | 0.02407543 | 0.1551626 | 759.2241 | 3187.760 | 56.46025 |\n",
       "| chr17 | 8148100 | 8149100 | Input_20x | 2.116310 | 0.03109287 | 0.1763317 | 770.0786 | 4116.918 | 64.16321 |\n",
       "| chr17 | 8148200 | 8149200 | Input_20x | 2.221834 | 0.02262202 | 0.1504062 | 808.4764 | 2995.318 | 54.72949 |\n",
       "| chr17 | 8148300 | 8149300 | Input_20x | 2.232609 | 0.01880972 | 0.1371485 | 812.3972 | 2490.542 | 49.90533 |\n",
       "| chr17 | 8148400 | 8149400 | Input_20x | 2.280630 | 0.01380086 | 0.1174771 | 829.8709 | 1827.333 | 42.74731 |\n",
       "| chr17 | 8148500 | 8149500 | Input_20x | 2.135200 | 0.01100842 | 0.1049210 | 776.9522 | 1457.594 | 38.17845 |\n",
       "\n"
      ],
      "text/plain": [
       "  Chrom Start   End     Group     Cpm_Mean Cpm_Var    Cpm_Std   Cnt_Mean\n",
       "1 chr17 8148000 8149000 Input_20x 2.086480 0.02407543 0.1551626 759.2241\n",
       "2 chr17 8148100 8149100 Input_20x 2.116310 0.03109287 0.1763317 770.0786\n",
       "3 chr17 8148200 8149200 Input_20x 2.221834 0.02262202 0.1504062 808.4764\n",
       "4 chr17 8148300 8149300 Input_20x 2.232609 0.01880972 0.1371485 812.3972\n",
       "5 chr17 8148400 8149400 Input_20x 2.280630 0.01380086 0.1174771 829.8709\n",
       "6 chr17 8148500 8149500 Input_20x 2.135200 0.01100842 0.1049210 776.9522\n",
       "  Cnt_Var  Cnt_Std \n",
       "1 3187.760 56.46025\n",
       "2 4116.918 64.16321\n",
       "3 2995.318 54.72949\n",
       "4 2490.542 49.90533\n",
       "5 1827.333 42.74731\n",
       "6 1457.594 38.17845"
      ]
     },
     "metadata": {},
     "output_type": "display_data"
    }
   ],
   "source": [
    "dat = dat_inp\n",
    "head(dat)"
   ]
  },
  {
   "cell_type": "code",
   "execution_count": 91,
   "id": "72f90d8e",
   "metadata": {},
   "outputs": [
    {
     "name": "stdout",
     "output_type": "stream",
     "text": [
      "[1] 111   8\n",
      "[1]  388.9521 3346.6336\n",
      "[1] 124.3735 560.5057\n"
     ]
    },
    {
     "data": {
      "text/html": [
       "<table class=\"dataframe\">\n",
       "<caption>A tibble: 6 × 8</caption>\n",
       "<thead>\n",
       "\t<tr><th scope=col>Chrom</th><th scope=col>Start</th><th scope=col>End</th><th scope=col>Cpm_Mean</th><th scope=col>Cnt_Inp20x</th><th scope=col>Cnt_TFX_DMSO</th><th scope=col>Sig2_Inp20x</th><th scope=col>Sig2_TFX_DMSO</th></tr>\n",
       "\t<tr><th scope=col>&lt;chr&gt;</th><th scope=col>&lt;dbl&gt;</th><th scope=col>&lt;dbl&gt;</th><th scope=col>&lt;dbl&gt;</th><th scope=col>&lt;dbl&gt;</th><th scope=col>&lt;dbl&gt;</th><th scope=col>&lt;dbl&gt;</th><th scope=col>&lt;dbl&gt;</th></tr>\n",
       "</thead>\n",
       "<tbody>\n",
       "\t<tr><td>chr17</td><td>8148000</td><td>8149000</td><td>2.086480</td><td>759.2241</td><td>66.79557</td><td>1149.364</td><td>316.7626</td></tr>\n",
       "\t<tr><td>chr17</td><td>8148100</td><td>8149100</td><td>2.116310</td><td>770.0786</td><td>67.75054</td><td>1171.844</td><td>321.4518</td></tr>\n",
       "\t<tr><td>chr17</td><td>8148200</td><td>8149200</td><td>2.221834</td><td>808.4764</td><td>71.12873</td><td>1261.726</td><td>338.0587</td></tr>\n",
       "\t<tr><td>chr17</td><td>8148300</td><td>8149300</td><td>2.232609</td><td>812.3972</td><td>71.47368</td><td>1271.735</td><td>339.7560</td></tr>\n",
       "\t<tr><td>chr17</td><td>8148400</td><td>8149400</td><td>2.280630</td><td>829.8709</td><td>73.01099</td><td>1316.715</td><td>346.9782</td></tr>\n",
       "\t<tr><td>chr17</td><td>8148500</td><td>8149500</td><td>2.135200</td><td>776.9522</td><td>68.35527</td><td>1186.139</td><td>324.4226</td></tr>\n",
       "</tbody>\n",
       "</table>\n"
      ],
      "text/latex": [
       "A tibble: 6 × 8\n",
       "\\begin{tabular}{llllllll}\n",
       " Chrom & Start & End & Cpm\\_Mean & Cnt\\_Inp20x & Cnt\\_TFX\\_DMSO & Sig2\\_Inp20x & Sig2\\_TFX\\_DMSO\\\\\n",
       " <chr> & <dbl> & <dbl> & <dbl> & <dbl> & <dbl> & <dbl> & <dbl>\\\\\n",
       "\\hline\n",
       "\t chr17 & 8148000 & 8149000 & 2.086480 & 759.2241 & 66.79557 & 1149.364 & 316.7626\\\\\n",
       "\t chr17 & 8148100 & 8149100 & 2.116310 & 770.0786 & 67.75054 & 1171.844 & 321.4518\\\\\n",
       "\t chr17 & 8148200 & 8149200 & 2.221834 & 808.4764 & 71.12873 & 1261.726 & 338.0587\\\\\n",
       "\t chr17 & 8148300 & 8149300 & 2.232609 & 812.3972 & 71.47368 & 1271.735 & 339.7560\\\\\n",
       "\t chr17 & 8148400 & 8149400 & 2.280630 & 829.8709 & 73.01099 & 1316.715 & 346.9782\\\\\n",
       "\t chr17 & 8148500 & 8149500 & 2.135200 & 776.9522 & 68.35527 & 1186.139 & 324.4226\\\\\n",
       "\\end{tabular}\n"
      ],
      "text/markdown": [
       "\n",
       "A tibble: 6 × 8\n",
       "\n",
       "| Chrom &lt;chr&gt; | Start &lt;dbl&gt; | End &lt;dbl&gt; | Cpm_Mean &lt;dbl&gt; | Cnt_Inp20x &lt;dbl&gt; | Cnt_TFX_DMSO &lt;dbl&gt; | Sig2_Inp20x &lt;dbl&gt; | Sig2_TFX_DMSO &lt;dbl&gt; |\n",
       "|---|---|---|---|---|---|---|---|\n",
       "| chr17 | 8148000 | 8149000 | 2.086480 | 759.2241 | 66.79557 | 1149.364 | 316.7626 |\n",
       "| chr17 | 8148100 | 8149100 | 2.116310 | 770.0786 | 67.75054 | 1171.844 | 321.4518 |\n",
       "| chr17 | 8148200 | 8149200 | 2.221834 | 808.4764 | 71.12873 | 1261.726 | 338.0587 |\n",
       "| chr17 | 8148300 | 8149300 | 2.232609 | 812.3972 | 71.47368 | 1271.735 | 339.7560 |\n",
       "| chr17 | 8148400 | 8149400 | 2.280630 | 829.8709 | 73.01099 | 1316.715 | 346.9782 |\n",
       "| chr17 | 8148500 | 8149500 | 2.135200 | 776.9522 | 68.35527 | 1186.139 | 324.4226 |\n",
       "\n"
      ],
      "text/plain": [
       "  Chrom Start   End     Cpm_Mean Cnt_Inp20x Cnt_TFX_DMSO Sig2_Inp20x\n",
       "1 chr17 8148000 8149000 2.086480 759.2241   66.79557     1149.364   \n",
       "2 chr17 8148100 8149100 2.116310 770.0786   67.75054     1171.844   \n",
       "3 chr17 8148200 8149200 2.221834 808.4764   71.12873     1261.726   \n",
       "4 chr17 8148300 8149300 2.232609 812.3972   71.47368     1271.735   \n",
       "5 chr17 8148400 8149400 2.280630 829.8709   73.01099     1316.715   \n",
       "6 chr17 8148500 8149500 2.135200 776.9522   68.35527     1186.139   \n",
       "  Sig2_TFX_DMSO\n",
       "1 316.7626     \n",
       "2 321.4518     \n",
       "3 338.0587     \n",
       "4 339.7560     \n",
       "5 346.9782     \n",
       "6 324.4226     "
      ]
     },
     "metadata": {},
     "output_type": "display_data"
    }
   ],
   "source": [
    "dat = dat_inp\n",
    "dat = dat %>% dplyr::select(Chrom, Start, End, Cpm_Mean)\n",
    "\n",
    "dat = dat %>% mutate(\n",
    "    Cnt_Inp20x   = Cpm_Mean * LIBSIZE_INP20X   / 10^6,\n",
    "    Cnt_TFX_DMSO = Cpm_Mean * LIBSIZE_TFX_DMSO / 10^6)\n",
    "dat  = dat %>% mutate(\n",
    "    Sig2_Inp20x   = get_var(fit_inp20x, Cnt_Inp20x),\n",
    "    Sig2_TFX_DMSO = get_var(fit_dmso,   Cnt_TFX_DMSO)\n",
    ")\n",
    "\n",
    "print(dim(dat))\n",
    "print(range(dat$Sig2_Inp20x))\n",
    "print(range(dat$Sig2_TFX_DMSO))\n",
    "head(dat)"
   ]
  },
  {
   "cell_type": "code",
   "execution_count": 96,
   "id": "00f2a87d",
   "metadata": {},
   "outputs": [
    {
     "name": "stdout",
     "output_type": "stream",
     "text": [
      "[1] 111  13\n"
     ]
    },
    {
     "data": {
      "text/html": [
       "<table class=\"dataframe\">\n",
       "<caption>A tibble: 6 × 13</caption>\n",
       "<thead>\n",
       "\t<tr><th scope=col>Chrom</th><th scope=col>Start</th><th scope=col>End</th><th scope=col>Cnt_Sim_1</th><th scope=col>Cnt_Sim_2</th><th scope=col>Cnt_Sim_3</th><th scope=col>Cnt_Sim_4</th><th scope=col>Cnt_Sim_5</th><th scope=col>Cnt_Sim_6</th><th scope=col>Cnt_Sim_7</th><th scope=col>Cnt_Sim_8</th><th scope=col>Cnt_Sim_9</th><th scope=col>Cnt_Sim_10</th></tr>\n",
       "\t<tr><th scope=col>&lt;chr&gt;</th><th scope=col>&lt;dbl&gt;</th><th scope=col>&lt;dbl&gt;</th><th scope=col>&lt;int&gt;</th><th scope=col>&lt;int&gt;</th><th scope=col>&lt;int&gt;</th><th scope=col>&lt;int&gt;</th><th scope=col>&lt;int&gt;</th><th scope=col>&lt;int&gt;</th><th scope=col>&lt;int&gt;</th><th scope=col>&lt;int&gt;</th><th scope=col>&lt;int&gt;</th><th scope=col>&lt;int&gt;</th></tr>\n",
       "</thead>\n",
       "<tbody>\n",
       "\t<tr><td>chr17</td><td>8148000</td><td>8149000</td><td>765</td><td>771</td><td>733</td><td>674</td><td>774</td><td>747</td><td>725</td><td>737</td><td>802</td><td>772</td></tr>\n",
       "\t<tr><td>chr17</td><td>8148100</td><td>8149100</td><td>791</td><td>742</td><td>761</td><td>757</td><td>767</td><td>709</td><td>797</td><td>752</td><td>782</td><td>761</td></tr>\n",
       "\t<tr><td>chr17</td><td>8148200</td><td>8149200</td><td>792</td><td>816</td><td>836</td><td>823</td><td>809</td><td>837</td><td>787</td><td>805</td><td>783</td><td>866</td></tr>\n",
       "\t<tr><td>chr17</td><td>8148300</td><td>8149300</td><td>807</td><td>780</td><td>791</td><td>792</td><td>764</td><td>921</td><td>818</td><td>802</td><td>770</td><td>839</td></tr>\n",
       "\t<tr><td>chr17</td><td>8148400</td><td>8149400</td><td>860</td><td>847</td><td>785</td><td>789</td><td>789</td><td>803</td><td>850</td><td>790</td><td>802</td><td>807</td></tr>\n",
       "\t<tr><td>chr17</td><td>8148500</td><td>8149500</td><td>741</td><td>751</td><td>779</td><td>801</td><td>771</td><td>729</td><td>802</td><td>767</td><td>802</td><td>756</td></tr>\n",
       "</tbody>\n",
       "</table>\n"
      ],
      "text/latex": [
       "A tibble: 6 × 13\n",
       "\\begin{tabular}{lllllllllllll}\n",
       " Chrom & Start & End & Cnt\\_Sim\\_1 & Cnt\\_Sim\\_2 & Cnt\\_Sim\\_3 & Cnt\\_Sim\\_4 & Cnt\\_Sim\\_5 & Cnt\\_Sim\\_6 & Cnt\\_Sim\\_7 & Cnt\\_Sim\\_8 & Cnt\\_Sim\\_9 & Cnt\\_Sim\\_10\\\\\n",
       " <chr> & <dbl> & <dbl> & <int> & <int> & <int> & <int> & <int> & <int> & <int> & <int> & <int> & <int>\\\\\n",
       "\\hline\n",
       "\t chr17 & 8148000 & 8149000 & 765 & 771 & 733 & 674 & 774 & 747 & 725 & 737 & 802 & 772\\\\\n",
       "\t chr17 & 8148100 & 8149100 & 791 & 742 & 761 & 757 & 767 & 709 & 797 & 752 & 782 & 761\\\\\n",
       "\t chr17 & 8148200 & 8149200 & 792 & 816 & 836 & 823 & 809 & 837 & 787 & 805 & 783 & 866\\\\\n",
       "\t chr17 & 8148300 & 8149300 & 807 & 780 & 791 & 792 & 764 & 921 & 818 & 802 & 770 & 839\\\\\n",
       "\t chr17 & 8148400 & 8149400 & 860 & 847 & 785 & 789 & 789 & 803 & 850 & 790 & 802 & 807\\\\\n",
       "\t chr17 & 8148500 & 8149500 & 741 & 751 & 779 & 801 & 771 & 729 & 802 & 767 & 802 & 756\\\\\n",
       "\\end{tabular}\n"
      ],
      "text/markdown": [
       "\n",
       "A tibble: 6 × 13\n",
       "\n",
       "| Chrom &lt;chr&gt; | Start &lt;dbl&gt; | End &lt;dbl&gt; | Cnt_Sim_1 &lt;int&gt; | Cnt_Sim_2 &lt;int&gt; | Cnt_Sim_3 &lt;int&gt; | Cnt_Sim_4 &lt;int&gt; | Cnt_Sim_5 &lt;int&gt; | Cnt_Sim_6 &lt;int&gt; | Cnt_Sim_7 &lt;int&gt; | Cnt_Sim_8 &lt;int&gt; | Cnt_Sim_9 &lt;int&gt; | Cnt_Sim_10 &lt;int&gt; |\n",
       "|---|---|---|---|---|---|---|---|---|---|---|---|---|\n",
       "| chr17 | 8148000 | 8149000 | 765 | 771 | 733 | 674 | 774 | 747 | 725 | 737 | 802 | 772 |\n",
       "| chr17 | 8148100 | 8149100 | 791 | 742 | 761 | 757 | 767 | 709 | 797 | 752 | 782 | 761 |\n",
       "| chr17 | 8148200 | 8149200 | 792 | 816 | 836 | 823 | 809 | 837 | 787 | 805 | 783 | 866 |\n",
       "| chr17 | 8148300 | 8149300 | 807 | 780 | 791 | 792 | 764 | 921 | 818 | 802 | 770 | 839 |\n",
       "| chr17 | 8148400 | 8149400 | 860 | 847 | 785 | 789 | 789 | 803 | 850 | 790 | 802 | 807 |\n",
       "| chr17 | 8148500 | 8149500 | 741 | 751 | 779 | 801 | 771 | 729 | 802 | 767 | 802 | 756 |\n",
       "\n"
      ],
      "text/plain": [
       "  Chrom Start   End     Cnt_Sim_1 Cnt_Sim_2 Cnt_Sim_3 Cnt_Sim_4 Cnt_Sim_5\n",
       "1 chr17 8148000 8149000 765       771       733       674       774      \n",
       "2 chr17 8148100 8149100 791       742       761       757       767      \n",
       "3 chr17 8148200 8149200 792       816       836       823       809      \n",
       "4 chr17 8148300 8149300 807       780       791       792       764      \n",
       "5 chr17 8148400 8149400 860       847       785       789       789      \n",
       "6 chr17 8148500 8149500 741       751       779       801       771      \n",
       "  Cnt_Sim_6 Cnt_Sim_7 Cnt_Sim_8 Cnt_Sim_9 Cnt_Sim_10\n",
       "1 747       725       737       802       772       \n",
       "2 709       797       752       782       761       \n",
       "3 837       787       805       783       866       \n",
       "4 921       818       802       770       839       \n",
       "5 803       850       790       802       807       \n",
       "6 729       802       767       802       756       "
      ]
     },
     "metadata": {},
     "output_type": "display_data"
    }
   ],
   "source": [
    "tmp  = dat %>% dplyr::select(Chrom, Start, End)\n",
    "mu   = dat$Cnt_Inp20x\n",
    "sig2 = dat$Sig2_Inp20x\n",
    "\n",
    "set.seed(123)\n",
    "n    = 10\n",
    "mat  = replicate(n, fun_rnegbin(n=rep(1, length(mu)), mu=mu, sigma2=sig2))\n",
    "colnames(mat) = paste0(\"Cnt_Sim_\", 1:n)\n",
    "\n",
    "dat_sim_inp  = bind_cols(tmp, mat)\n",
    "print(dim(dat_sim_inp))\n",
    "head(dat_sim_inp)"
   ]
  },
  {
   "cell_type": "code",
   "execution_count": null,
   "id": "73cdc63b",
   "metadata": {},
   "outputs": [],
   "source": []
  }
 ],
 "metadata": {
  "kernelspec": {
   "display_name": "R",
   "language": "R",
   "name": "ir"
  },
  "language_info": {
   "codemirror_mode": "r",
   "file_extension": ".r",
   "mimetype": "text/x-r-source",
   "name": "R",
   "pygments_lexer": "r",
   "version": "4.2.0"
  }
 },
 "nbformat": 4,
 "nbformat_minor": 5
}
