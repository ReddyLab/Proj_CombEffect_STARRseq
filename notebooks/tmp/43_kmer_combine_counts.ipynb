{
 "cells": [
  {
   "cell_type": "markdown",
   "id": "7eb77448-fbe4-4212-8c7f-b6253e9bac16",
   "metadata": {},
   "source": [
    "# Combine kmer counts for PER1"
   ]
  },
  {
   "cell_type": "markdown",
   "id": "d8569fec-e8f1-40a7-a839-bbdbc02bf49a",
   "metadata": {},
   "source": [
    "**Set environment**"
   ]
  },
  {
   "cell_type": "code",
   "execution_count": 1,
   "id": "fa4dd726-4820-4ca8-aa26-abce183ddaf7",
   "metadata": {},
   "outputs": [],
   "source": [
    "suppressMessages(suppressWarnings(source(\"config.R\")))"
   ]
  },
  {
   "cell_type": "code",
   "execution_count": 2,
   "id": "bab50a92-4a16-46ab-9d51-19ee94efb25d",
   "metadata": {},
   "outputs": [
    {
     "data": {
      "text/html": [
       "'/work/kk319'"
      ],
      "text/latex": [
       "'/work/kk319'"
      ],
      "text/markdown": [
       "'/work/kk319'"
      ],
      "text/plain": [
       "[1] \"/work/kk319\""
      ]
     },
     "metadata": {},
     "output_type": "display_data"
    }
   ],
   "source": [
    "FD_WRK"
   ]
  },
  {
   "cell_type": "code",
   "execution_count": 6,
   "id": "b0548fde-596e-440f-9516-5aeadf065dae",
   "metadata": {},
   "outputs": [
    {
     "data": {
      "text/html": [
       "<ol class=list-inline>\n",
       "\t<li>'/work/kk319/out/CombEffect_STARR/kmer/Input/kmer_PER1_count.bed'</li>\n",
       "\t<li>'/work/kk319/out/CombEffect_STARR/kmer/Input1/kmer_PER1_count.bed'</li>\n",
       "\t<li>'/work/kk319/out/CombEffect_STARR/kmer/Input2/kmer_PER1_count.bed'</li>\n",
       "\t<li>'/work/kk319/out/CombEffect_STARR/kmer/Input3/kmer_PER1_count.bed'</li>\n",
       "\t<li>'/work/kk319/out/CombEffect_STARR/kmer/Input4/kmer_PER1_count.bed'</li>\n",
       "\t<li>'/work/kk319/out/CombEffect_STARR/kmer/Input5/kmer_PER1_count.bed'</li>\n",
       "\t<li>'/work/kk319/out/CombEffect_STARR/kmer/TFX2_DMSO/kmer_PER1_count.bed'</li>\n",
       "\t<li>'/work/kk319/out/CombEffect_STARR/kmer/TFX2_Dex/kmer_PER1_count.bed'</li>\n",
       "\t<li>'/work/kk319/out/CombEffect_STARR/kmer/TFX3_DMSO/kmer_PER1_count.bed'</li>\n",
       "\t<li>'/work/kk319/out/CombEffect_STARR/kmer/TFX3_Dex/kmer_PER1_count.bed'</li>\n",
       "\t<li>'/work/kk319/out/CombEffect_STARR/kmer/TFX4_DMSO/kmer_PER1_count.bed'</li>\n",
       "\t<li>'/work/kk319/out/CombEffect_STARR/kmer/TFX4_Dex/kmer_PER1_count.bed'</li>\n",
       "\t<li>'/work/kk319/out/CombEffect_STARR/kmer/TFX5_DMSO/kmer_PER1_count.bed'</li>\n",
       "\t<li>'/work/kk319/out/CombEffect_STARR/kmer/TFX5_Dex/kmer_PER1_count.bed'</li>\n",
       "\t<li>'/work/kk319/out/CombEffect_STARR/kmer/TFX_DMSO/kmer_PER1_count.bed'</li>\n",
       "\t<li>'/work/kk319/out/CombEffect_STARR/kmer/TFX_Dex/kmer_PER1_count.bed'</li>\n",
       "</ol>\n"
      ],
      "text/latex": [
       "\\begin{enumerate*}\n",
       "\\item '/work/kk319/out/CombEffect\\_STARR/kmer/Input/kmer\\_PER1\\_count.bed'\n",
       "\\item '/work/kk319/out/CombEffect\\_STARR/kmer/Input1/kmer\\_PER1\\_count.bed'\n",
       "\\item '/work/kk319/out/CombEffect\\_STARR/kmer/Input2/kmer\\_PER1\\_count.bed'\n",
       "\\item '/work/kk319/out/CombEffect\\_STARR/kmer/Input3/kmer\\_PER1\\_count.bed'\n",
       "\\item '/work/kk319/out/CombEffect\\_STARR/kmer/Input4/kmer\\_PER1\\_count.bed'\n",
       "\\item '/work/kk319/out/CombEffect\\_STARR/kmer/Input5/kmer\\_PER1\\_count.bed'\n",
       "\\item '/work/kk319/out/CombEffect\\_STARR/kmer/TFX2\\_DMSO/kmer\\_PER1\\_count.bed'\n",
       "\\item '/work/kk319/out/CombEffect\\_STARR/kmer/TFX2\\_Dex/kmer\\_PER1\\_count.bed'\n",
       "\\item '/work/kk319/out/CombEffect\\_STARR/kmer/TFX3\\_DMSO/kmer\\_PER1\\_count.bed'\n",
       "\\item '/work/kk319/out/CombEffect\\_STARR/kmer/TFX3\\_Dex/kmer\\_PER1\\_count.bed'\n",
       "\\item '/work/kk319/out/CombEffect\\_STARR/kmer/TFX4\\_DMSO/kmer\\_PER1\\_count.bed'\n",
       "\\item '/work/kk319/out/CombEffect\\_STARR/kmer/TFX4\\_Dex/kmer\\_PER1\\_count.bed'\n",
       "\\item '/work/kk319/out/CombEffect\\_STARR/kmer/TFX5\\_DMSO/kmer\\_PER1\\_count.bed'\n",
       "\\item '/work/kk319/out/CombEffect\\_STARR/kmer/TFX5\\_Dex/kmer\\_PER1\\_count.bed'\n",
       "\\item '/work/kk319/out/CombEffect\\_STARR/kmer/TFX\\_DMSO/kmer\\_PER1\\_count.bed'\n",
       "\\item '/work/kk319/out/CombEffect\\_STARR/kmer/TFX\\_Dex/kmer\\_PER1\\_count.bed'\n",
       "\\end{enumerate*}\n"
      ],
      "text/markdown": [
       "1. '/work/kk319/out/CombEffect_STARR/kmer/Input/kmer_PER1_count.bed'\n",
       "2. '/work/kk319/out/CombEffect_STARR/kmer/Input1/kmer_PER1_count.bed'\n",
       "3. '/work/kk319/out/CombEffect_STARR/kmer/Input2/kmer_PER1_count.bed'\n",
       "4. '/work/kk319/out/CombEffect_STARR/kmer/Input3/kmer_PER1_count.bed'\n",
       "5. '/work/kk319/out/CombEffect_STARR/kmer/Input4/kmer_PER1_count.bed'\n",
       "6. '/work/kk319/out/CombEffect_STARR/kmer/Input5/kmer_PER1_count.bed'\n",
       "7. '/work/kk319/out/CombEffect_STARR/kmer/TFX2_DMSO/kmer_PER1_count.bed'\n",
       "8. '/work/kk319/out/CombEffect_STARR/kmer/TFX2_Dex/kmer_PER1_count.bed'\n",
       "9. '/work/kk319/out/CombEffect_STARR/kmer/TFX3_DMSO/kmer_PER1_count.bed'\n",
       "10. '/work/kk319/out/CombEffect_STARR/kmer/TFX3_Dex/kmer_PER1_count.bed'\n",
       "11. '/work/kk319/out/CombEffect_STARR/kmer/TFX4_DMSO/kmer_PER1_count.bed'\n",
       "12. '/work/kk319/out/CombEffect_STARR/kmer/TFX4_Dex/kmer_PER1_count.bed'\n",
       "13. '/work/kk319/out/CombEffect_STARR/kmer/TFX5_DMSO/kmer_PER1_count.bed'\n",
       "14. '/work/kk319/out/CombEffect_STARR/kmer/TFX5_Dex/kmer_PER1_count.bed'\n",
       "15. '/work/kk319/out/CombEffect_STARR/kmer/TFX_DMSO/kmer_PER1_count.bed'\n",
       "16. '/work/kk319/out/CombEffect_STARR/kmer/TFX_Dex/kmer_PER1_count.bed'\n",
       "\n",
       "\n"
      ],
      "text/plain": [
       " [1] \"/work/kk319/out/CombEffect_STARR/kmer/Input/kmer_PER1_count.bed\"    \n",
       " [2] \"/work/kk319/out/CombEffect_STARR/kmer/Input1/kmer_PER1_count.bed\"   \n",
       " [3] \"/work/kk319/out/CombEffect_STARR/kmer/Input2/kmer_PER1_count.bed\"   \n",
       " [4] \"/work/kk319/out/CombEffect_STARR/kmer/Input3/kmer_PER1_count.bed\"   \n",
       " [5] \"/work/kk319/out/CombEffect_STARR/kmer/Input4/kmer_PER1_count.bed\"   \n",
       " [6] \"/work/kk319/out/CombEffect_STARR/kmer/Input5/kmer_PER1_count.bed\"   \n",
       " [7] \"/work/kk319/out/CombEffect_STARR/kmer/TFX2_DMSO/kmer_PER1_count.bed\"\n",
       " [8] \"/work/kk319/out/CombEffect_STARR/kmer/TFX2_Dex/kmer_PER1_count.bed\" \n",
       " [9] \"/work/kk319/out/CombEffect_STARR/kmer/TFX3_DMSO/kmer_PER1_count.bed\"\n",
       "[10] \"/work/kk319/out/CombEffect_STARR/kmer/TFX3_Dex/kmer_PER1_count.bed\" \n",
       "[11] \"/work/kk319/out/CombEffect_STARR/kmer/TFX4_DMSO/kmer_PER1_count.bed\"\n",
       "[12] \"/work/kk319/out/CombEffect_STARR/kmer/TFX4_Dex/kmer_PER1_count.bed\" \n",
       "[13] \"/work/kk319/out/CombEffect_STARR/kmer/TFX5_DMSO/kmer_PER1_count.bed\"\n",
       "[14] \"/work/kk319/out/CombEffect_STARR/kmer/TFX5_Dex/kmer_PER1_count.bed\" \n",
       "[15] \"/work/kk319/out/CombEffect_STARR/kmer/TFX_DMSO/kmer_PER1_count.bed\" \n",
       "[16] \"/work/kk319/out/CombEffect_STARR/kmer/TFX_Dex/kmer_PER1_count.bed\"  "
      ]
     },
     "metadata": {},
     "output_type": "display_data"
    }
   ],
   "source": [
    "FD_DAT=file.path(FD_WRK, \"out/CombEffect_STARR/kmer\")\n",
    "Sys.glob(file.path(FD_DAT, \"*/kmer_PER1_count*\"))"
   ]
  },
  {
   "cell_type": "markdown",
   "id": "cda9a6e8-fea3-4c63-ad10-892b0f6d4721",
   "metadata": {},
   "source": [
    "## Import counts and merged (Input)"
   ]
  },
  {
   "cell_type": "code",
   "execution_count": 8,
   "id": "a00fdd01-035d-4f40-b633-8daead0559e5",
   "metadata": {},
   "outputs": [],
   "source": [
    "### set column names and types\n",
    "cnames = c(\"Chrom\", \"Start\", \"End\")\n",
    "ctypes = c(col_character(), col_integer(), col_integer(), col_double())\n",
    "\n",
    "### init: set sample index\n",
    "idx_samples = paste0(\"Input\", 1:5)\n",
    "\n",
    "### loop: import counts from Input (PER1)\n",
    "fdiry = FD_DAT\n",
    "fname = \"kmer_PER1_count.bed\"\n",
    "lst_dat_per1 = lapply(idx_samples, function(idx_sample){\n",
    "    ### set file path\n",
    "    fpath = file.path(fdiry, idx_sample, fname)\n",
    "    \n",
    "    ### import data\n",
    "    dat = read_tsv(\n",
    "        fpath, \n",
    "        col_names = c(cnames, idx_sample), \n",
    "        col_types = ctypes)\n",
    "    return(dat)\n",
    "})\n",
    "\n",
    "### Joining all the data.frames\n",
    "fun = function(df1, df2){full_join(df1, df2, by=cnames)}\n",
    "dat_cnt_input_per1  = Reduce(fun, lst_dat_per1)"
   ]
  },
  {
   "cell_type": "markdown",
   "id": "6a7ceb92-9f2d-4450-9398-b666b0e6453f",
   "metadata": {},
   "source": [
    "**Check results**"
   ]
  },
  {
   "cell_type": "code",
   "execution_count": 9,
   "id": "74b37147-c874-4529-bee9-3c31f8b6a9d6",
   "metadata": {},
   "outputs": [
    {
     "name": "stdout",
     "output_type": "stream",
     "text": [
      "[1] 2236    8\n"
     ]
    },
    {
     "data": {
      "text/html": [
       "<table>\n",
       "<thead><tr><th scope=col>Chrom</th><th scope=col>Start</th><th scope=col>End</th><th scope=col>Input1</th><th scope=col>Input2</th><th scope=col>Input3</th><th scope=col>Input4</th><th scope=col>Input5</th></tr></thead>\n",
       "<tbody>\n",
       "\t<tr><td>chr17  </td><td>8148000</td><td>8148750</td><td>2      </td><td>NA     </td><td>3      </td><td>7      </td><td>4      </td></tr>\n",
       "\t<tr><td>chr17  </td><td>8148005</td><td>8148755</td><td>1      </td><td> 1     </td><td>3      </td><td>6      </td><td>4      </td></tr>\n",
       "\t<tr><td>chr17  </td><td>8148010</td><td>8148760</td><td>1      </td><td> 1     </td><td>3      </td><td>6      </td><td>3      </td></tr>\n",
       "\t<tr><td>chr17  </td><td>8148015</td><td>8148765</td><td>1      </td><td> 1     </td><td>3      </td><td>5      </td><td>3      </td></tr>\n",
       "\t<tr><td>chr17  </td><td>8148020</td><td>8148770</td><td>1      </td><td> 3     </td><td>4      </td><td>5      </td><td>3      </td></tr>\n",
       "\t<tr><td>chr17  </td><td>8148025</td><td>8148775</td><td>1      </td><td> 3     </td><td>5      </td><td>5      </td><td>3      </td></tr>\n",
       "</tbody>\n",
       "</table>\n"
      ],
      "text/latex": [
       "\\begin{tabular}{r|llllllll}\n",
       " Chrom & Start & End & Input1 & Input2 & Input3 & Input4 & Input5\\\\\n",
       "\\hline\n",
       "\t chr17   & 8148000 & 8148750 & 2       & NA      & 3       & 7       & 4      \\\\\n",
       "\t chr17   & 8148005 & 8148755 & 1       &  1      & 3       & 6       & 4      \\\\\n",
       "\t chr17   & 8148010 & 8148760 & 1       &  1      & 3       & 6       & 3      \\\\\n",
       "\t chr17   & 8148015 & 8148765 & 1       &  1      & 3       & 5       & 3      \\\\\n",
       "\t chr17   & 8148020 & 8148770 & 1       &  3      & 4       & 5       & 3      \\\\\n",
       "\t chr17   & 8148025 & 8148775 & 1       &  3      & 5       & 5       & 3      \\\\\n",
       "\\end{tabular}\n"
      ],
      "text/markdown": [
       "\n",
       "| Chrom | Start | End | Input1 | Input2 | Input3 | Input4 | Input5 |\n",
       "|---|---|---|---|---|---|---|---|\n",
       "| chr17   | 8148000 | 8148750 | 2       | NA      | 3       | 7       | 4       |\n",
       "| chr17   | 8148005 | 8148755 | 1       |  1      | 3       | 6       | 4       |\n",
       "| chr17   | 8148010 | 8148760 | 1       |  1      | 3       | 6       | 3       |\n",
       "| chr17   | 8148015 | 8148765 | 1       |  1      | 3       | 5       | 3       |\n",
       "| chr17   | 8148020 | 8148770 | 1       |  3      | 4       | 5       | 3       |\n",
       "| chr17   | 8148025 | 8148775 | 1       |  3      | 5       | 5       | 3       |\n",
       "\n"
      ],
      "text/plain": [
       "  Chrom Start   End     Input1 Input2 Input3 Input4 Input5\n",
       "1 chr17 8148000 8148750 2      NA     3      7      4     \n",
       "2 chr17 8148005 8148755 1       1     3      6      4     \n",
       "3 chr17 8148010 8148760 1       1     3      6      3     \n",
       "4 chr17 8148015 8148765 1       1     3      5      3     \n",
       "5 chr17 8148020 8148770 1       3     4      5      3     \n",
       "6 chr17 8148025 8148775 1       3     5      5      3     "
      ]
     },
     "metadata": {},
     "output_type": "display_data"
    }
   ],
   "source": [
    "dat = dat_cnt_input_per1\n",
    "print(dim(dat))\n",
    "head(dat)"
   ]
  },
  {
   "cell_type": "code",
   "execution_count": 10,
   "id": "2e7ad02d-c070-4574-9a98-6b585d31c829",
   "metadata": {},
   "outputs": [
    {
     "data": {
      "text/html": [
       "<table>\n",
       "<thead><tr><th scope=col>Chrom</th><th scope=col>Start</th><th scope=col>End</th><th scope=col>Input1</th><th scope=col>Input2</th><th scope=col>Input3</th><th scope=col>Input4</th><th scope=col>Input5</th></tr></thead>\n",
       "<tbody>\n",
       "\t<tr><td>chr17  </td><td>8158830</td><td>8159580</td><td>NA     </td><td>NA     </td><td>2      </td><td>NA     </td><td>NA     </td></tr>\n",
       "\t<tr><td>chr17  </td><td>8158835</td><td>8159585</td><td>NA     </td><td>NA     </td><td>2      </td><td> 1     </td><td>NA     </td></tr>\n",
       "\t<tr><td>chr17  </td><td>8158840</td><td>8159590</td><td>NA     </td><td>NA     </td><td>3      </td><td> 1     </td><td>NA     </td></tr>\n",
       "\t<tr><td>chr17  </td><td>8158845</td><td>8159595</td><td>NA     </td><td>NA     </td><td>3      </td><td> 1     </td><td>NA     </td></tr>\n",
       "\t<tr><td>chr17  </td><td>8158850</td><td>8159600</td><td>NA     </td><td>NA     </td><td>3      </td><td> 1     </td><td>NA     </td></tr>\n",
       "\t<tr><td>chr17  </td><td>8158855</td><td>8159605</td><td>NA     </td><td>NA     </td><td>3      </td><td> 1     </td><td>NA     </td></tr>\n",
       "</tbody>\n",
       "</table>\n"
      ],
      "text/latex": [
       "\\begin{tabular}{r|llllllll}\n",
       " Chrom & Start & End & Input1 & Input2 & Input3 & Input4 & Input5\\\\\n",
       "\\hline\n",
       "\t chr17   & 8158830 & 8159580 & NA      & NA      & 2       & NA      & NA     \\\\\n",
       "\t chr17   & 8158835 & 8159585 & NA      & NA      & 2       &  1      & NA     \\\\\n",
       "\t chr17   & 8158840 & 8159590 & NA      & NA      & 3       &  1      & NA     \\\\\n",
       "\t chr17   & 8158845 & 8159595 & NA      & NA      & 3       &  1      & NA     \\\\\n",
       "\t chr17   & 8158850 & 8159600 & NA      & NA      & 3       &  1      & NA     \\\\\n",
       "\t chr17   & 8158855 & 8159605 & NA      & NA      & 3       &  1      & NA     \\\\\n",
       "\\end{tabular}\n"
      ],
      "text/markdown": [
       "\n",
       "| Chrom | Start | End | Input1 | Input2 | Input3 | Input4 | Input5 |\n",
       "|---|---|---|---|---|---|---|---|\n",
       "| chr17   | 8158830 | 8159580 | NA      | NA      | 2       | NA      | NA      |\n",
       "| chr17   | 8158835 | 8159585 | NA      | NA      | 2       |  1      | NA      |\n",
       "| chr17   | 8158840 | 8159590 | NA      | NA      | 3       |  1      | NA      |\n",
       "| chr17   | 8158845 | 8159595 | NA      | NA      | 3       |  1      | NA      |\n",
       "| chr17   | 8158850 | 8159600 | NA      | NA      | 3       |  1      | NA      |\n",
       "| chr17   | 8158855 | 8159605 | NA      | NA      | 3       |  1      | NA      |\n",
       "\n"
      ],
      "text/plain": [
       "  Chrom Start   End     Input1 Input2 Input3 Input4 Input5\n",
       "1 chr17 8158830 8159580 NA     NA     2      NA     NA    \n",
       "2 chr17 8158835 8159585 NA     NA     2       1     NA    \n",
       "3 chr17 8158840 8159590 NA     NA     3       1     NA    \n",
       "4 chr17 8158845 8159595 NA     NA     3       1     NA    \n",
       "5 chr17 8158850 8159600 NA     NA     3       1     NA    \n",
       "6 chr17 8158855 8159605 NA     NA     3       1     NA    "
      ]
     },
     "metadata": {},
     "output_type": "display_data"
    }
   ],
   "source": [
    "tail(dat)"
   ]
  },
  {
   "cell_type": "markdown",
   "id": "2d5d9acf-9fb4-4569-97c2-1e9cd06555a8",
   "metadata": {},
   "source": [
    "## Import counts and merged (Output; DMSO)"
   ]
  },
  {
   "cell_type": "code",
   "execution_count": 11,
   "id": "3eb84bad-ee5b-46bc-9ae1-eb4879b0feba",
   "metadata": {},
   "outputs": [],
   "source": [
    "### set column names and types\n",
    "cnames = c(\"Chrom\", \"Start\", \"End\")\n",
    "ctypes = c(col_character(), col_integer(), col_integer(), col_double())\n",
    "\n",
    "### init: set sample index\n",
    "idx_samples = paste0(\"TFX\", 2:5, \"_DMSO\")\n",
    "\n",
    "### loop: import counts from Input (PER1)\n",
    "fdiry = FD_DAT\n",
    "fname = \"kmer_PER1_count.bed\"\n",
    "lst_dat_per1 = lapply(idx_samples, function(idx_sample){\n",
    "    ### set file path\n",
    "    fpath = file.path(fdiry, idx_sample, fname)\n",
    "    \n",
    "    ### import data\n",
    "    dat = read_tsv(\n",
    "        fpath, \n",
    "        col_names = c(cnames, idx_sample), \n",
    "        col_types = ctypes)\n",
    "    return(dat)\n",
    "})\n",
    "\n",
    "### Joining all the data.frames\n",
    "fun = function(df1, df2){full_join(df1, df2, by=cnames)}\n",
    "dat_cnt_dmso_per1  = Reduce(fun, lst_dat_per1)"
   ]
  },
  {
   "cell_type": "markdown",
   "id": "002ae509-fa1f-46dc-94a1-6eb1170d5aa5",
   "metadata": {},
   "source": [
    "**Check results**"
   ]
  },
  {
   "cell_type": "code",
   "execution_count": 12,
   "id": "835dc8ec-d3d8-4a4c-bdf5-efcda2cbb900",
   "metadata": {},
   "outputs": [
    {
     "name": "stdout",
     "output_type": "stream",
     "text": [
      "[1] 2019    7\n"
     ]
    },
    {
     "data": {
      "text/html": [
       "<table>\n",
       "<thead><tr><th scope=col>Chrom</th><th scope=col>Start</th><th scope=col>End</th><th scope=col>TFX2_DMSO</th><th scope=col>TFX3_DMSO</th><th scope=col>TFX4_DMSO</th><th scope=col>TFX5_DMSO</th></tr></thead>\n",
       "<tbody>\n",
       "\t<tr><td>chr17  </td><td>8148000</td><td>8148750</td><td>11     </td><td>14     </td><td>5      </td><td>4      </td></tr>\n",
       "\t<tr><td>chr17  </td><td>8148005</td><td>8148755</td><td>12     </td><td>14     </td><td>5      </td><td>4      </td></tr>\n",
       "\t<tr><td>chr17  </td><td>8148010</td><td>8148760</td><td>12     </td><td>14     </td><td>5      </td><td>4      </td></tr>\n",
       "\t<tr><td>chr17  </td><td>8148015</td><td>8148765</td><td>12     </td><td>14     </td><td>8      </td><td>4      </td></tr>\n",
       "\t<tr><td>chr17  </td><td>8148020</td><td>8148770</td><td>12     </td><td>14     </td><td>8      </td><td>4      </td></tr>\n",
       "\t<tr><td>chr17  </td><td>8148025</td><td>8148775</td><td>12     </td><td>14     </td><td>8      </td><td>4      </td></tr>\n",
       "</tbody>\n",
       "</table>\n"
      ],
      "text/latex": [
       "\\begin{tabular}{r|lllllll}\n",
       " Chrom & Start & End & TFX2\\_DMSO & TFX3\\_DMSO & TFX4\\_DMSO & TFX5\\_DMSO\\\\\n",
       "\\hline\n",
       "\t chr17   & 8148000 & 8148750 & 11      & 14      & 5       & 4      \\\\\n",
       "\t chr17   & 8148005 & 8148755 & 12      & 14      & 5       & 4      \\\\\n",
       "\t chr17   & 8148010 & 8148760 & 12      & 14      & 5       & 4      \\\\\n",
       "\t chr17   & 8148015 & 8148765 & 12      & 14      & 8       & 4      \\\\\n",
       "\t chr17   & 8148020 & 8148770 & 12      & 14      & 8       & 4      \\\\\n",
       "\t chr17   & 8148025 & 8148775 & 12      & 14      & 8       & 4      \\\\\n",
       "\\end{tabular}\n"
      ],
      "text/markdown": [
       "\n",
       "| Chrom | Start | End | TFX2_DMSO | TFX3_DMSO | TFX4_DMSO | TFX5_DMSO |\n",
       "|---|---|---|---|---|---|---|\n",
       "| chr17   | 8148000 | 8148750 | 11      | 14      | 5       | 4       |\n",
       "| chr17   | 8148005 | 8148755 | 12      | 14      | 5       | 4       |\n",
       "| chr17   | 8148010 | 8148760 | 12      | 14      | 5       | 4       |\n",
       "| chr17   | 8148015 | 8148765 | 12      | 14      | 8       | 4       |\n",
       "| chr17   | 8148020 | 8148770 | 12      | 14      | 8       | 4       |\n",
       "| chr17   | 8148025 | 8148775 | 12      | 14      | 8       | 4       |\n",
       "\n"
      ],
      "text/plain": [
       "  Chrom Start   End     TFX2_DMSO TFX3_DMSO TFX4_DMSO TFX5_DMSO\n",
       "1 chr17 8148000 8148750 11        14        5         4        \n",
       "2 chr17 8148005 8148755 12        14        5         4        \n",
       "3 chr17 8148010 8148760 12        14        5         4        \n",
       "4 chr17 8148015 8148765 12        14        8         4        \n",
       "5 chr17 8148020 8148770 12        14        8         4        \n",
       "6 chr17 8148025 8148775 12        14        8         4        "
      ]
     },
     "metadata": {},
     "output_type": "display_data"
    }
   ],
   "source": [
    "dat = dat_cnt_dmso_per1\n",
    "print(dim(dat))\n",
    "head(dat)"
   ]
  },
  {
   "cell_type": "code",
   "execution_count": 13,
   "id": "13a18874-54a3-4bd1-a6cf-67acacc2db69",
   "metadata": {},
   "outputs": [
    {
     "data": {
      "text/html": [
       "<table>\n",
       "<thead><tr><th scope=col>Chrom</th><th scope=col>Start</th><th scope=col>End</th><th scope=col>TFX2_DMSO</th><th scope=col>TFX3_DMSO</th><th scope=col>TFX4_DMSO</th><th scope=col>TFX5_DMSO</th></tr></thead>\n",
       "<tbody>\n",
       "\t<tr><td>chr17  </td><td>8159220</td><td>8159970</td><td>NA     </td><td>NA     </td><td>NA     </td><td>10     </td></tr>\n",
       "\t<tr><td>chr17  </td><td>8159225</td><td>8159975</td><td>NA     </td><td>NA     </td><td>NA     </td><td>10     </td></tr>\n",
       "\t<tr><td>chr17  </td><td>8159230</td><td>8159980</td><td>NA     </td><td>NA     </td><td>NA     </td><td>10     </td></tr>\n",
       "\t<tr><td>chr17  </td><td>8159235</td><td>8159985</td><td>NA     </td><td>NA     </td><td>NA     </td><td>10     </td></tr>\n",
       "\t<tr><td>chr17  </td><td>8159240</td><td>8159990</td><td>NA     </td><td>NA     </td><td>NA     </td><td>10     </td></tr>\n",
       "\t<tr><td>chr17  </td><td>8159245</td><td>8159995</td><td>NA     </td><td>NA     </td><td>NA     </td><td>10     </td></tr>\n",
       "</tbody>\n",
       "</table>\n"
      ],
      "text/latex": [
       "\\begin{tabular}{r|lllllll}\n",
       " Chrom & Start & End & TFX2\\_DMSO & TFX3\\_DMSO & TFX4\\_DMSO & TFX5\\_DMSO\\\\\n",
       "\\hline\n",
       "\t chr17   & 8159220 & 8159970 & NA      & NA      & NA      & 10     \\\\\n",
       "\t chr17   & 8159225 & 8159975 & NA      & NA      & NA      & 10     \\\\\n",
       "\t chr17   & 8159230 & 8159980 & NA      & NA      & NA      & 10     \\\\\n",
       "\t chr17   & 8159235 & 8159985 & NA      & NA      & NA      & 10     \\\\\n",
       "\t chr17   & 8159240 & 8159990 & NA      & NA      & NA      & 10     \\\\\n",
       "\t chr17   & 8159245 & 8159995 & NA      & NA      & NA      & 10     \\\\\n",
       "\\end{tabular}\n"
      ],
      "text/markdown": [
       "\n",
       "| Chrom | Start | End | TFX2_DMSO | TFX3_DMSO | TFX4_DMSO | TFX5_DMSO |\n",
       "|---|---|---|---|---|---|---|\n",
       "| chr17   | 8159220 | 8159970 | NA      | NA      | NA      | 10      |\n",
       "| chr17   | 8159225 | 8159975 | NA      | NA      | NA      | 10      |\n",
       "| chr17   | 8159230 | 8159980 | NA      | NA      | NA      | 10      |\n",
       "| chr17   | 8159235 | 8159985 | NA      | NA      | NA      | 10      |\n",
       "| chr17   | 8159240 | 8159990 | NA      | NA      | NA      | 10      |\n",
       "| chr17   | 8159245 | 8159995 | NA      | NA      | NA      | 10      |\n",
       "\n"
      ],
      "text/plain": [
       "  Chrom Start   End     TFX2_DMSO TFX3_DMSO TFX4_DMSO TFX5_DMSO\n",
       "1 chr17 8159220 8159970 NA        NA        NA        10       \n",
       "2 chr17 8159225 8159975 NA        NA        NA        10       \n",
       "3 chr17 8159230 8159980 NA        NA        NA        10       \n",
       "4 chr17 8159235 8159985 NA        NA        NA        10       \n",
       "5 chr17 8159240 8159990 NA        NA        NA        10       \n",
       "6 chr17 8159245 8159995 NA        NA        NA        10       "
      ]
     },
     "metadata": {},
     "output_type": "display_data"
    }
   ],
   "source": [
    "tail(dat)"
   ]
  },
  {
   "cell_type": "markdown",
   "id": "814f3677-c7d7-4d48-8ee7-eba7b6308e82",
   "metadata": {},
   "source": [
    "## Import counts and merged (Output; Dex)"
   ]
  },
  {
   "cell_type": "code",
   "execution_count": 14,
   "id": "6a283e4a-b7eb-4d04-9a7f-2d900460c266",
   "metadata": {},
   "outputs": [],
   "source": [
    "### set column names and types\n",
    "cnames = c(\"Chrom\", \"Start\", \"End\")\n",
    "ctypes = c(col_character(), col_integer(), col_integer(), col_double())\n",
    "\n",
    "### init: set sample index\n",
    "idx_samples = paste0(\"TFX\", 2:5, \"_Dex\")\n",
    "\n",
    "### loop: import counts from Input (PER1)\n",
    "fdiry = FD_DAT\n",
    "fname = \"kmer_PER1_count.bed\"\n",
    "lst_dat_per1 = lapply(idx_samples, function(idx_sample){\n",
    "    ### set file path\n",
    "    fpath = file.path(fdiry, idx_sample, fname)\n",
    "    \n",
    "    ### import data\n",
    "    dat = read_tsv(\n",
    "        fpath, \n",
    "        col_names = c(cnames, idx_sample), \n",
    "        col_types = ctypes)\n",
    "    return(dat)\n",
    "})\n",
    "\n",
    "### Joining all the data.frames\n",
    "fun = function(df1, df2){full_join(df1, df2, by=cnames)}\n",
    "dat_cnt_dex_per1  = Reduce(fun, lst_dat_per1)"
   ]
  },
  {
   "cell_type": "markdown",
   "id": "c6604100-3fca-4cb8-83d3-5c356d6a453a",
   "metadata": {},
   "source": [
    "**Check results**"
   ]
  },
  {
   "cell_type": "code",
   "execution_count": 15,
   "id": "faa18adb-277b-40e0-ad91-263c1300e64c",
   "metadata": {},
   "outputs": [
    {
     "name": "stdout",
     "output_type": "stream",
     "text": [
      "[1] 1995    7\n"
     ]
    },
    {
     "data": {
      "text/html": [
       "<table>\n",
       "<thead><tr><th scope=col>Chrom</th><th scope=col>Start</th><th scope=col>End</th><th scope=col>TFX2_Dex</th><th scope=col>TFX3_Dex</th><th scope=col>TFX4_Dex</th><th scope=col>TFX5_Dex</th></tr></thead>\n",
       "<tbody>\n",
       "\t<tr><td>chr17  </td><td>8148000</td><td>8148750</td><td>6      </td><td>NA     </td><td>NA     </td><td>6      </td></tr>\n",
       "\t<tr><td>chr17  </td><td>8148005</td><td>8148755</td><td>6      </td><td>NA     </td><td>NA     </td><td>6      </td></tr>\n",
       "\t<tr><td>chr17  </td><td>8148010</td><td>8148760</td><td>5      </td><td>NA     </td><td>NA     </td><td>6      </td></tr>\n",
       "\t<tr><td>chr17  </td><td>8148015</td><td>8148765</td><td>4      </td><td>NA     </td><td>NA     </td><td>6      </td></tr>\n",
       "\t<tr><td>chr17  </td><td>8148020</td><td>8148770</td><td>4      </td><td>NA     </td><td>NA     </td><td>8      </td></tr>\n",
       "\t<tr><td>chr17  </td><td>8148025</td><td>8148775</td><td>4      </td><td>NA     </td><td>NA     </td><td>8      </td></tr>\n",
       "</tbody>\n",
       "</table>\n"
      ],
      "text/latex": [
       "\\begin{tabular}{r|lllllll}\n",
       " Chrom & Start & End & TFX2\\_Dex & TFX3\\_Dex & TFX4\\_Dex & TFX5\\_Dex\\\\\n",
       "\\hline\n",
       "\t chr17   & 8148000 & 8148750 & 6       & NA      & NA      & 6      \\\\\n",
       "\t chr17   & 8148005 & 8148755 & 6       & NA      & NA      & 6      \\\\\n",
       "\t chr17   & 8148010 & 8148760 & 5       & NA      & NA      & 6      \\\\\n",
       "\t chr17   & 8148015 & 8148765 & 4       & NA      & NA      & 6      \\\\\n",
       "\t chr17   & 8148020 & 8148770 & 4       & NA      & NA      & 8      \\\\\n",
       "\t chr17   & 8148025 & 8148775 & 4       & NA      & NA      & 8      \\\\\n",
       "\\end{tabular}\n"
      ],
      "text/markdown": [
       "\n",
       "| Chrom | Start | End | TFX2_Dex | TFX3_Dex | TFX4_Dex | TFX5_Dex |\n",
       "|---|---|---|---|---|---|---|\n",
       "| chr17   | 8148000 | 8148750 | 6       | NA      | NA      | 6       |\n",
       "| chr17   | 8148005 | 8148755 | 6       | NA      | NA      | 6       |\n",
       "| chr17   | 8148010 | 8148760 | 5       | NA      | NA      | 6       |\n",
       "| chr17   | 8148015 | 8148765 | 4       | NA      | NA      | 6       |\n",
       "| chr17   | 8148020 | 8148770 | 4       | NA      | NA      | 8       |\n",
       "| chr17   | 8148025 | 8148775 | 4       | NA      | NA      | 8       |\n",
       "\n"
      ],
      "text/plain": [
       "  Chrom Start   End     TFX2_Dex TFX3_Dex TFX4_Dex TFX5_Dex\n",
       "1 chr17 8148000 8148750 6        NA       NA       6       \n",
       "2 chr17 8148005 8148755 6        NA       NA       6       \n",
       "3 chr17 8148010 8148760 5        NA       NA       6       \n",
       "4 chr17 8148015 8148765 4        NA       NA       6       \n",
       "5 chr17 8148020 8148770 4        NA       NA       8       \n",
       "6 chr17 8148025 8148775 4        NA       NA       8       "
      ]
     },
     "metadata": {},
     "output_type": "display_data"
    }
   ],
   "source": [
    "dat = dat_cnt_dex_per1\n",
    "print(dim(dat))\n",
    "head(dat)"
   ]
  },
  {
   "cell_type": "code",
   "execution_count": 16,
   "id": "f9c007ab-66d1-482f-9613-15ab9f0f1a48",
   "metadata": {},
   "outputs": [
    {
     "data": {
      "text/html": [
       "<table>\n",
       "<thead><tr><th scope=col>Chrom</th><th scope=col>Start</th><th scope=col>End</th><th scope=col>TFX2_Dex</th><th scope=col>TFX3_Dex</th><th scope=col>TFX4_Dex</th><th scope=col>TFX5_Dex</th></tr></thead>\n",
       "<tbody>\n",
       "\t<tr><td>chr17  </td><td>8158350</td><td>8159100</td><td>NA     </td><td>NA     </td><td>NA     </td><td>14     </td></tr>\n",
       "\t<tr><td>chr17  </td><td>8158355</td><td>8159105</td><td>NA     </td><td>NA     </td><td>NA     </td><td>12     </td></tr>\n",
       "\t<tr><td>chr17  </td><td>8158360</td><td>8159110</td><td>NA     </td><td>NA     </td><td>NA     </td><td> 9     </td></tr>\n",
       "\t<tr><td>chr17  </td><td>8158365</td><td>8159115</td><td>NA     </td><td>NA     </td><td>NA     </td><td> 1     </td></tr>\n",
       "\t<tr><td>chr17  </td><td>8158370</td><td>8159120</td><td>NA     </td><td>NA     </td><td>NA     </td><td> 1     </td></tr>\n",
       "\t<tr><td>chr17  </td><td>8158375</td><td>8159125</td><td>NA     </td><td>NA     </td><td>NA     </td><td> 1     </td></tr>\n",
       "</tbody>\n",
       "</table>\n"
      ],
      "text/latex": [
       "\\begin{tabular}{r|lllllll}\n",
       " Chrom & Start & End & TFX2\\_Dex & TFX3\\_Dex & TFX4\\_Dex & TFX5\\_Dex\\\\\n",
       "\\hline\n",
       "\t chr17   & 8158350 & 8159100 & NA      & NA      & NA      & 14     \\\\\n",
       "\t chr17   & 8158355 & 8159105 & NA      & NA      & NA      & 12     \\\\\n",
       "\t chr17   & 8158360 & 8159110 & NA      & NA      & NA      &  9     \\\\\n",
       "\t chr17   & 8158365 & 8159115 & NA      & NA      & NA      &  1     \\\\\n",
       "\t chr17   & 8158370 & 8159120 & NA      & NA      & NA      &  1     \\\\\n",
       "\t chr17   & 8158375 & 8159125 & NA      & NA      & NA      &  1     \\\\\n",
       "\\end{tabular}\n"
      ],
      "text/markdown": [
       "\n",
       "| Chrom | Start | End | TFX2_Dex | TFX3_Dex | TFX4_Dex | TFX5_Dex |\n",
       "|---|---|---|---|---|---|---|\n",
       "| chr17   | 8158350 | 8159100 | NA      | NA      | NA      | 14      |\n",
       "| chr17   | 8158355 | 8159105 | NA      | NA      | NA      | 12      |\n",
       "| chr17   | 8158360 | 8159110 | NA      | NA      | NA      |  9      |\n",
       "| chr17   | 8158365 | 8159115 | NA      | NA      | NA      |  1      |\n",
       "| chr17   | 8158370 | 8159120 | NA      | NA      | NA      |  1      |\n",
       "| chr17   | 8158375 | 8159125 | NA      | NA      | NA      |  1      |\n",
       "\n"
      ],
      "text/plain": [
       "  Chrom Start   End     TFX2_Dex TFX3_Dex TFX4_Dex TFX5_Dex\n",
       "1 chr17 8158350 8159100 NA       NA       NA       14      \n",
       "2 chr17 8158355 8159105 NA       NA       NA       12      \n",
       "3 chr17 8158360 8159110 NA       NA       NA        9      \n",
       "4 chr17 8158365 8159115 NA       NA       NA        1      \n",
       "5 chr17 8158370 8159120 NA       NA       NA        1      \n",
       "6 chr17 8158375 8159125 NA       NA       NA        1      "
      ]
     },
     "metadata": {},
     "output_type": "display_data"
    }
   ],
   "source": [
    "tail(dat)"
   ]
  },
  {
   "cell_type": "markdown",
   "id": "92e5c56c-b32a-4b1f-8f4b-d7de5ea51a06",
   "metadata": {},
   "source": [
    "## Save the table"
   ]
  },
  {
   "cell_type": "code",
   "execution_count": 17,
   "id": "fadd087e-1fa8-4988-b652-9400a417ca17",
   "metadata": {},
   "outputs": [
    {
     "data": {
      "text/html": [
       "'/work/kk319/out/CombEffect_STARR/kmer'"
      ],
      "text/latex": [
       "'/work/kk319/out/CombEffect\\_STARR/kmer'"
      ],
      "text/markdown": [
       "'/work/kk319/out/CombEffect_STARR/kmer'"
      ],
      "text/plain": [
       "[1] \"/work/kk319/out/CombEffect_STARR/kmer\""
      ]
     },
     "metadata": {},
     "output_type": "display_data"
    }
   ],
   "source": [
    "FD_DAT"
   ]
  },
  {
   "cell_type": "code",
   "execution_count": 18,
   "id": "1d6c6a77-b194-4b19-b14e-fd897887cbb7",
   "metadata": {},
   "outputs": [],
   "source": [
    "fpath = file.path(FD_DAT, \"dat_cnt_input_per1.csv\")\n",
    "write_csv(dat_cnt_input_per1, fpath)"
   ]
  },
  {
   "cell_type": "code",
   "execution_count": 19,
   "id": "547017dd-165d-4476-a95c-5b2fc8966a20",
   "metadata": {},
   "outputs": [],
   "source": [
    "fpath = file.path(FD_DAT, \"dat_cnt_dmso_per1.csv\")\n",
    "write_csv(dat_cnt_dmso_per1, fpath)"
   ]
  },
  {
   "cell_type": "code",
   "execution_count": 20,
   "id": "fe39ac9c-fdd2-45d5-afab-7e343ca44cb2",
   "metadata": {},
   "outputs": [],
   "source": [
    "fpath = file.path(FD_DAT, \"dat_cnt_dex_per1.csv\")\n",
    "write_csv(dat_cnt_dex_per1, fpath)"
   ]
  },
  {
   "cell_type": "code",
   "execution_count": 21,
   "id": "4bc8cf0d-0c56-4ba4-8fe6-a13bc6cfc901",
   "metadata": {},
   "outputs": [
    {
     "data": {
      "text/html": [
       "<ol class=list-inline>\n",
       "\t<li>'/work/kk319/out/CombEffect_STARR/kmer/dat_cnt_dex_per1.csv'</li>\n",
       "\t<li>'/work/kk319/out/CombEffect_STARR/kmer/dat_cnt_dmso_per1.csv'</li>\n",
       "\t<li>'/work/kk319/out/CombEffect_STARR/kmer/dat_cnt_input_per1.csv'</li>\n",
       "</ol>\n"
      ],
      "text/latex": [
       "\\begin{enumerate*}\n",
       "\\item '/work/kk319/out/CombEffect\\_STARR/kmer/dat\\_cnt\\_dex\\_per1.csv'\n",
       "\\item '/work/kk319/out/CombEffect\\_STARR/kmer/dat\\_cnt\\_dmso\\_per1.csv'\n",
       "\\item '/work/kk319/out/CombEffect\\_STARR/kmer/dat\\_cnt\\_input\\_per1.csv'\n",
       "\\end{enumerate*}\n"
      ],
      "text/markdown": [
       "1. '/work/kk319/out/CombEffect_STARR/kmer/dat_cnt_dex_per1.csv'\n",
       "2. '/work/kk319/out/CombEffect_STARR/kmer/dat_cnt_dmso_per1.csv'\n",
       "3. '/work/kk319/out/CombEffect_STARR/kmer/dat_cnt_input_per1.csv'\n",
       "\n",
       "\n"
      ],
      "text/plain": [
       "[1] \"/work/kk319/out/CombEffect_STARR/kmer/dat_cnt_dex_per1.csv\"  \n",
       "[2] \"/work/kk319/out/CombEffect_STARR/kmer/dat_cnt_dmso_per1.csv\" \n",
       "[3] \"/work/kk319/out/CombEffect_STARR/kmer/dat_cnt_input_per1.csv\""
      ]
     },
     "metadata": {},
     "output_type": "display_data"
    }
   ],
   "source": [
    "FD_DAT=file.path(FD_WRK, \"out/CombEffect_STARR/kmer\")\n",
    "Sys.glob(file.path(FD_DAT, \"dat_cnt*\"))"
   ]
  }
 ],
 "metadata": {
  "kernelspec": {
   "display_name": "R",
   "language": "R",
   "name": "ir"
  },
  "language_info": {
   "codemirror_mode": "r",
   "file_extension": ".r",
   "mimetype": "text/x-r-source",
   "name": "R",
   "pygments_lexer": "r",
   "version": "3.6.1"
  }
 },
 "nbformat": 4,
 "nbformat_minor": 5
}
