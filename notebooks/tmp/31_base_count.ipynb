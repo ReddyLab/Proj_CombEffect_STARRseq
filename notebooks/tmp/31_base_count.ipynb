{
 "cells": [
  {
   "cell_type": "code",
   "execution_count": 1,
   "metadata": {},
   "outputs": [
    {
     "name": "stdout",
     "output_type": "stream",
     "text": [
      "Bedtools 2.27.1\n",
      "bedtools is a powerful toolset for genome arithmetic.\n",
      "\n",
      "Version:   v2.27.1-1-gb87c465\n",
      "About:     developed in the quinlanlab.org and by many contributors worldwide.\n",
      "Docs:      http://bedtools.readthedocs.io/\n",
      "Code:      https://github.com/arq5x/bedtools2\n",
      "Mail:      https://groups.google.com/forum/#!forum/bedtools-discuss\n",
      "\n",
      "Usage:     bedtools <subcommand> [options]\n",
      "\n",
      "The bedtools sub-commands include:\n",
      "\n",
      "[ Genome arithmetic ]\n",
      "    intersect     Find overlapping intervals in various ways.\n",
      "    window        Find overlapping intervals within a window around an interval.\n",
      "    closest       Find the closest, potentially non-overlapping interval.\n",
      "    coverage      Compute the coverage over defined intervals.\n",
      "    map           Apply a function to a column for each overlapping interval.\n",
      "    genomecov     Compute the coverage over an entire genome.\n",
      "    merge         Combine overlapping/nearby intervals into a single interval.\n",
      "    cluster       Cluster (but don't merge) overlapping/nearby intervals.\n",
      "    complement    Extract intervals _not_ represented by an interval file.\n",
      "    shift         Adjust the position of intervals.\n",
      "    subtract      Remove intervals based on overlaps b/w two files.\n",
      "    slop          Adjust the size of intervals.\n",
      "    flank         Create new intervals from the flanks of existing intervals.\n",
      "    sort          Order the intervals in a file.\n",
      "    random        Generate random intervals in a genome.\n",
      "    shuffle       Randomly redistrubute intervals in a genome.\n",
      "    sample        Sample random records from file using reservoir sampling.\n",
      "    spacing       Report the gap lengths between intervals in a file.\n",
      "    annotate      Annotate coverage of features from multiple files.\n",
      "\n",
      "[ Multi-way file comparisons ]\n",
      "    multiinter    Identifies common intervals among multiple interval files.\n",
      "    unionbedg     Combines coverage intervals from multiple BEDGRAPH files.\n",
      "\n",
      "[ Paired-end manipulation ]\n",
      "    pairtobed     Find pairs that overlap intervals in various ways.\n",
      "    pairtopair    Find pairs that overlap other pairs in various ways.\n",
      "\n",
      "[ Format conversion ]\n",
      "    bamtobed      Convert BAM alignments to BED (& other) formats.\n",
      "    bedtobam      Convert intervals to BAM records.\n",
      "    bamtofastq    Convert BAM records to FASTQ records.\n",
      "    bedpetobam    Convert BEDPE intervals to BAM records.\n",
      "    bed12tobed6   Breaks BED12 intervals into discrete BED6 intervals.\n",
      "\n",
      "[ Fasta manipulation ]\n",
      "    getfasta      Use intervals to extract sequences from a FASTA file.\n",
      "    maskfasta     Use intervals to mask sequences from a FASTA file.\n",
      "    nuc           Profile the nucleotide content of intervals in a FASTA file.\n",
      "\n",
      "[ BAM focused tools ]\n",
      "    multicov      Counts coverage from multiple BAMs at specific intervals.\n",
      "    tag           Tag BAM alignments based on overlaps with interval files.\n",
      "\n",
      "[ Statistical relationships ]\n",
      "    jaccard       Calculate the Jaccard statistic b/w two sets of intervals.\n",
      "    reldist       Calculate the distribution of relative distances b/w two files.\n",
      "    fisher        Calculate Fisher statistic b/w two feature files.\n",
      "\n",
      "[ Miscellaneous tools ]\n",
      "    overlap       Computes the amount of overlap from two intervals.\n",
      "    igv           Create an IGV snapshot batch script.\n",
      "    links         Create a HTML page of links to UCSC locations.\n",
      "    makewindows   Make interval \"windows\" across a genome.\n",
      "    groupby       Group by common cols. & summarize oth. cols. (~ SQL \"groupBy\")\n",
      "    expand        Replicate lines based on lists of values in columns.\n",
      "    split         Split a file into multiple files with equal records or base pairs.\n",
      "\n",
      "[ General help ]\n",
      "    --help        Print this help menu.\n",
      "    --version     What version of bedtools are you using?.\n",
      "    --contact     Feature requests, bugs, mailing lists, etc.\n",
      "\n"
     ]
    }
   ],
   "source": [
    "%%bash\n",
    "module load Bedtools\n",
    "bedtools -h"
   ]
  },
  {
   "cell_type": "markdown",
   "metadata": {},
   "source": [
    "**[Bedtools genomecov](https://bedtools.readthedocs.io/en/latest/content/tools/genomecov.html)**\n",
    "\n",
    "`-d Report the depth at each genome position with 1-based coordinates.`\n",
    "\n",
    "Using the -d option, bedtools genomecov will compute the depth of feature coverage for each base on each chromosome in genome file provided.\n",
    "\n",
    "The “per-base” output format is as follows:\n",
    "\n",
    "- chromosome\n",
    "- chromosome position\n",
    "- depth (number) of features overlapping this chromosome position."
   ]
  },
  {
   "cell_type": "markdown",
   "metadata": {},
   "source": [
    "## Compute histogram by base pair for input"
   ]
  },
  {
   "cell_type": "markdown",
   "metadata": {},
   "source": [
    "**Test loop**"
   ]
  },
  {
   "cell_type": "code",
   "execution_count": 20,
   "metadata": {},
   "outputs": [
    {
     "name": "stdout",
     "output_type": "stream",
     "text": [
      "/work/kk319/out/CombEffect_STARR/data/Input/\n",
      "Input\n",
      "/work/kk319/out/CombEffect_STARR/data/Input1/\n",
      "Input1\n",
      "/work/kk319/out/CombEffect_STARR/data/Input2/\n",
      "Input2\n",
      "/work/kk319/out/CombEffect_STARR/data/Input3/\n",
      "Input3\n",
      "/work/kk319/out/CombEffect_STARR/data/Input4/\n",
      "Input4\n",
      "/work/kk319/out/CombEffect_STARR/data/Input5/\n",
      "Input5\n"
     ]
    }
   ],
   "source": [
    "%%bash\n",
    "source config.sh\n",
    "\n",
    "#FD_BEDS=($(ls -d ${FD_WRK}/out/CombEffect_STARR/data/Input?/))\n",
    "FD_BEDS=($(ls -d ${FD_WRK}/data/Input*/))\n",
    "for FD_BED in \"${FD_BEDS[@]}\"; do\n",
    "    echo  ${FD_BED}\n",
    "    echo \"$(basename -- $FD_BED)\"\n",
    "done"
   ]
  },
  {
   "cell_type": "markdown",
   "metadata": {},
   "source": [
    "**compute bp histogram**"
   ]
  },
  {
   "cell_type": "code",
   "execution_count": 21,
   "metadata": {},
   "outputs": [
    {
     "name": "stdout",
     "output_type": "stream",
     "text": [
      "Bedtools 2.27.1\n",
      "Submitted batch job 10701912\n"
     ]
    }
   ],
   "source": [
    "%%bash\n",
    "### set environment on HARDAC\n",
    "#module load bedtools2\n",
    "#module load perl\n",
    "#module load gcc\n",
    "#source /data/reddylab/software/miniconda2/bin/activate alex_dev\n",
    "#export PATH=/data/reddylab/software/homer/bin/:$PATH\n",
    "\n",
    "### set environment on DCC\n",
    "module load Bedtools\n",
    "source config.sh\n",
    "FD_LOG=${FD_WRK}/log\n",
    "\n",
    "### run script using sbatch\n",
    "#sbatch -pnew,all \\\n",
    "sbatch -p scavenger \\\n",
    "    --array=0-5 \\\n",
    "    --mem 8G \\\n",
    "    -o ${FD_LOG}/coverage_per_basepair_input_chr17.%a.txt \\\n",
    "    <<'EOF'\n",
    "#!/bin/bash\n",
    "### set directories & global variables\n",
    "source config.sh\n",
    "#FD_REF=/data/reddylab/gjohnson/reference_data\n",
    "FD_REF=/work/kk319/reference\n",
    "FN_GEN=hg38.genome.file.chr17\n",
    "CHROM=\"chr17\"\n",
    "\n",
    "### set input & output directory\n",
    "FD_BEDS=($(ls -d ${FD_WRK}/data/Input*/))\n",
    "FD_BED=${FD_BEDS[${SLURM_ARRAY_TASK_ID}]}\n",
    "FN_BED=${CHROM}.bed\n",
    "\n",
    "FD_OUT=${FD_WRK}/coverage/$(basename ${FD_BED})\n",
    "FN_OUT=${CHROM}.txt\n",
    "\n",
    "echo \"Slurm Array Index: \" ${SLURM_ARRAY_TASK_ID}\n",
    "echo \"Input  file:       \" ${FD_BED}/${FN_BED}\n",
    "echo \"Output file:       \" ${FD_OUT}/${FN_OUT}\n",
    "echo\n",
    "echo \"Show the first few lines of the input file\"\n",
    "head ${FD_BED}/${FN_BED}\n",
    "\n",
    "### init: create folder\n",
    "mkdir -p ${FD_OUT}\n",
    "\n",
    "### compute coverage by base pair\n",
    "bedtools genomecov -i ${FD_BED}/${FN_BED} -g ${FD_REF}/${FN_GEN} -d > ${FD_OUT}/${FN_OUT}\n",
    "\n",
    "### print end message\n",
    "echo\n",
    "echo \"Show the first few lines of the output file\"\n",
    "head ${FD_OUT}/${FN_OUT}\n",
    "\n",
    "EOF"
   ]
  },
  {
   "cell_type": "markdown",
   "metadata": {},
   "source": [
    "**Check log file**"
   ]
  },
  {
   "cell_type": "code",
   "execution_count": 18,
   "metadata": {},
   "outputs": [
    {
     "name": "stdout",
     "output_type": "stream",
     "text": [
      "Slurm Array Index:  0\n",
      "Input  file:        /work/kk319/out/CombEffect_STARR/data/Input1//chr17.bed\n",
      "Output file:        /work/kk319/out/CombEffect_STARR/coverage/Input1/PER1.txt\n",
      "\n",
      "Show the first few lines of the input file\n",
      "chr17\t201123\t201925\n",
      "chr17\t201160\t201968\n",
      "chr17\t201202\t202074\n",
      "chr17\t201259\t202052\n",
      "chr17\t201366\t202130\n",
      "chr17\t206174\t207307\n",
      "chr17\t206269\t207286\n",
      "chr17\t206283\t207194\n",
      "chr17\t206324\t207359\n",
      "chr17\t206326\t207274\n",
      "Error: The requested genome file (/work/kk319/out/CombEffect_STARR/reference/hg38.genome.file) could not be opened. Exiting!\n",
      "\n",
      "Show the first few lines of the output file\n"
     ]
    }
   ],
   "source": [
    "%%bash\n",
    "source config.sh\n",
    "FD_LOG=${FD_WRK}/log\n",
    "cat ${FD_LOG}/basepair_hist_input_chr17.0.txt"
   ]
  },
  {
   "cell_type": "markdown",
   "metadata": {},
   "source": [
    "## Compute histogram by base pair for output (DMSO)"
   ]
  },
  {
   "cell_type": "markdown",
   "metadata": {},
   "source": [
    "### Test looping DMSO directories"
   ]
  },
  {
   "cell_type": "code",
   "execution_count": 20,
   "metadata": {},
   "outputs": [
    {
     "name": "stdout",
     "output_type": "stream",
     "text": [
      "/work/kk319/out/CombEffect_STARR/data/TFX2_DMSO/\n",
      "TFX2_DMSO\n",
      "/work/kk319/out/CombEffect_STARR/data/TFX3_DMSO/\n",
      "TFX3_DMSO\n",
      "/work/kk319/out/CombEffect_STARR/data/TFX4_DMSO/\n",
      "TFX4_DMSO\n",
      "/work/kk319/out/CombEffect_STARR/data/TFX5_DMSO/\n",
      "TFX5_DMSO\n",
      "/work/kk319/out/CombEffect_STARR/data/TFX_DMSO/\n",
      "TFX_DMSO\n"
     ]
    }
   ],
   "source": [
    "%%bash\n",
    "source config.sh\n",
    "\n",
    "#FD_BEDS=($(ls -d ${FD_WRK}/out/CombEffect_STARR/data/Input?/))\n",
    "FD_BEDS=($(ls -d ${FD_WRK}/data/TFX*_DMSO/))\n",
    "for FD_BED in \"${FD_BEDS[@]}\"; do\n",
    "    echo  ${FD_BED}\n",
    "    echo \"$(basename -- $FD_BED)\"\n",
    "done"
   ]
  },
  {
   "cell_type": "markdown",
   "metadata": {},
   "source": [
    "### compute bp histogram"
   ]
  },
  {
   "cell_type": "code",
   "execution_count": 22,
   "metadata": {},
   "outputs": [
    {
     "name": "stdout",
     "output_type": "stream",
     "text": [
      "Bedtools 2.27.1\n",
      "Submitted batch job 10701920\n"
     ]
    }
   ],
   "source": [
    "%%bash\n",
    "### set environment on HARDAC\n",
    "#module load bedtools2\n",
    "#module load perl\n",
    "#module load gcc\n",
    "#source /data/reddylab/software/miniconda2/bin/activate alex_dev\n",
    "#export PATH=/data/reddylab/software/homer/bin/:$PATH\n",
    "\n",
    "### set environment on DCC\n",
    "module load Bedtools\n",
    "source config.sh\n",
    "FD_LOG=${FD_WRK}/log\n",
    "\n",
    "### run script using sbatch\n",
    "#sbatch -pnew,all \\\n",
    "sbatch -p scavenger \\\n",
    "    --array=0-4 \\\n",
    "    --mem 10G \\\n",
    "    -o ${FD_LOG}/coverage_per_basepair_output_dmso_chr17.%a.txt \\\n",
    "    <<'EOF'\n",
    "#!/bin/bash\n",
    "### set directories & global variables\n",
    "source config.sh\n",
    "#FD_REF=/data/reddylab/gjohnson/reference_data\n",
    "FD_REF=/work/kk319/reference\n",
    "FN_GEN=hg38.genome.file.chr17\n",
    "CHROM=\"chr17\"\n",
    "\n",
    "### set input & output directory\n",
    "FD_BEDS=($(ls -d ${FD_WRK}/data/TFX*_DMSO/))\n",
    "FD_BED=${FD_BEDS[${SLURM_ARRAY_TASK_ID}]}\n",
    "FN_BED=${CHROM}.bed\n",
    "\n",
    "FD_OUT=${FD_WRK}/coverage/$(basename ${FD_BED})\n",
    "FN_OUT=${CHROM}.txt\n",
    "\n",
    "echo \"Slurm Array Index: \" ${SLURM_ARRAY_TASK_ID}\n",
    "echo \"Input  file:       \" ${FD_BED}/${FN_BED}\n",
    "echo \"Output file:       \" ${FD_OUT}/${FN_OUT}\n",
    "echo\n",
    "echo \"Show the first few lines of the input file\"\n",
    "head ${FD_BED}/${FN_BED}\n",
    "\n",
    "### init: create folder\n",
    "mkdir -p ${FD_OUT}\n",
    "\n",
    "### compute coverage by base pair\n",
    "#bedtools genomecov -h\n",
    "bedtools genomecov -i ${FD_BED}/${FN_BED} -g ${FD_REF}/${FN_GEN} -d > ${FD_OUT}/${FN_OUT}\n",
    "\n",
    "### print end message\n",
    "echo\n",
    "echo \"Show the first few lines of the output file\"\n",
    "head ${FD_OUT}/${FN_OUT}\n",
    "\n",
    "EOF"
   ]
  },
  {
   "cell_type": "markdown",
   "metadata": {},
   "source": [
    "### Check log file"
   ]
  },
  {
   "cell_type": "code",
   "execution_count": 29,
   "metadata": {},
   "outputs": [
    {
     "name": "stdout",
     "output_type": "stream",
     "text": [
      "Slurm Array Index:  0\n",
      "Input  file:        /work/kk319/out/CombEffect_STARR/data/TFX2_DMSO//chr17.bed\n",
      "Output file:        /work/kk319/out/CombEffect_STARR/coverage/TFX2_DMSO/PER1.txt\n",
      "\n",
      "Show the first few lines of the input file\n",
      "chr17\t87067\t87989\n",
      "chr17\t158043\t159067\n",
      "chr17\t158043\t159066\n",
      "chr17\t159137\t160020\n",
      "chr17\t170572\t172531\n",
      "chr17\t172392\t173515\n",
      "chr17\t172393\t173515\n",
      "chr17\t172396\t173514\n",
      "chr17\t197679\t198597\n",
      "chr17\t197681\t198597\n"
     ]
    }
   ],
   "source": [
    "%%bash\n",
    "source config.sh\n",
    "FD_LOG=${FD_WRK}/log\n",
    "cat ${FD_LOG}/coverage_per_basepair_output_dmso_chr17.0.txt"
   ]
  },
  {
   "cell_type": "markdown",
   "metadata": {},
   "source": [
    "## Compute histogram by base pair for output (Dex)"
   ]
  },
  {
   "cell_type": "markdown",
   "metadata": {},
   "source": [
    "### Test looping Dex directories"
   ]
  },
  {
   "cell_type": "code",
   "execution_count": 30,
   "metadata": {},
   "outputs": [
    {
     "name": "stdout",
     "output_type": "stream",
     "text": [
      "/work/kk319/out/CombEffect_STARR/data/TFX2_Dex/\n",
      "TFX2_Dex\n",
      "/work/kk319/out/CombEffect_STARR/data/TFX3_Dex/\n",
      "TFX3_Dex\n",
      "/work/kk319/out/CombEffect_STARR/data/TFX4_Dex/\n",
      "TFX4_Dex\n",
      "/work/kk319/out/CombEffect_STARR/data/TFX5_Dex/\n",
      "TFX5_Dex\n",
      "/work/kk319/out/CombEffect_STARR/data/TFX_Dex/\n",
      "TFX_Dex\n"
     ]
    }
   ],
   "source": [
    "%%bash\n",
    "source config.sh\n",
    "\n",
    "#FD_BEDS=($(ls -d ${FD_WRK}/out/CombEffect_STARR/data/Input?/))\n",
    "FD_BEDS=($(ls -d ${FD_WRK}/data/TFX*_Dex/))\n",
    "for FD_BED in \"${FD_BEDS[@]}\"; do\n",
    "    echo  ${FD_BED}\n",
    "    echo \"$(basename -- $FD_BED)\"\n",
    "done"
   ]
  },
  {
   "cell_type": "markdown",
   "metadata": {},
   "source": [
    "### compute bp histogram"
   ]
  },
  {
   "cell_type": "code",
   "execution_count": 3,
   "metadata": {},
   "outputs": [
    {
     "name": "stdout",
     "output_type": "stream",
     "text": [
      "Bedtools 2.27.1\n",
      "Submitted batch job 10701464\n"
     ]
    }
   ],
   "source": [
    "%%bash\n",
    "### set environment on HARDAC\n",
    "#module load bedtools2\n",
    "#module load perl\n",
    "#module load gcc\n",
    "#source /data/reddylab/software/miniconda2/bin/activate alex_dev\n",
    "#export PATH=/data/reddylab/software/homer/bin/:$PATH\n",
    "\n",
    "### set environment on DCC\n",
    "module load Bedtools\n",
    "source config.sh\n",
    "FD_LOG=${FD_WRK}/log\n",
    "\n",
    "### run script using sbatch\n",
    "#sbatch -pnew,all \\\n",
    "sbatch -p scavenger \\\n",
    "    --array=0-4 \\\n",
    "    --mem 15G \\\n",
    "    -o ${FD_LOG}/coverage_per_basepair_output_dex_chr17.%a.txt \\\n",
    "    <<'EOF'\n",
    "#!/bin/bash\n",
    "### set directories & global variables\n",
    "source config.sh\n",
    "#FD_REF=/data/reddylab/gjohnson/reference_data\n",
    "FD_REF=/work/kk319/reference\n",
    "FN_GEN=hg38.genome.file.chr17\n",
    "CHROM=\"chr17\"\n",
    "\n",
    "### set input & output directory\n",
    "FD_BEDS=($(ls -d ${FD_WRK}/data/TFX*_Dex/))\n",
    "FD_BED=${FD_BEDS[${SLURM_ARRAY_TASK_ID}]}\n",
    "FN_BED=${CHROM}.bed\n",
    "\n",
    "FD_OUT=${FD_WRK}/coverage/$(basename ${FD_BED})\n",
    "FN_OUT=${CHROM}.txt\n",
    "\n",
    "echo \"Slurm Array Index: \" ${SLURM_ARRAY_TASK_ID}\n",
    "echo \"Input  file:       \" ${FD_BED}/${FN_BED}\n",
    "echo \"Output file:       \" ${FD_OUT}/${FN_OUT}\n",
    "echo\n",
    "echo \"Show the first few lines of the input file\"\n",
    "head ${FD_BED}/${FN_BED}\n",
    "\n",
    "### init: create folder\n",
    "mkdir -p ${FD_OUT}\n",
    "\n",
    "### compute coverage by base pair\n",
    "#bedtools genomecov -h\n",
    "bedtools genomecov -i ${FD_BED}/${FN_BED} -g ${FD_REF}/${FN_GEN} -d > ${FD_OUT}/${FN_OUT}\n",
    "\n",
    "### print end message\n",
    "echo\n",
    "echo \"Show the first few lines of the output file\"\n",
    "head ${FD_OUT}/${FN_OUT}\n",
    "\n",
    "EOF"
   ]
  },
  {
   "cell_type": "markdown",
   "metadata": {},
   "source": [
    "### Check log file"
   ]
  },
  {
   "cell_type": "code",
   "execution_count": 4,
   "metadata": {},
   "outputs": [
    {
     "name": "stdout",
     "output_type": "stream",
     "text": [
      "Slurm Array Index:  0\n",
      "Input  file:        /work/kk319/out/CombEffect_STARR/data/TFX2_Dex//chr17.bed\n",
      "Output file:        /work/kk319/out/CombEffect_STARR/coverage/TFX2_Dex/chr17.txt\n",
      "\n",
      "Show the first few lines of the input file\n",
      "chr17\t83638\t84547\n",
      "chr17\t92503\t93508\n",
      "chr17\t152590\t153715\n",
      "chr17\t159027\t160041\n",
      "chr17\t173500\t174429\n",
      "chr17\t174388\t175345\n",
      "chr17\t174388\t175346\n",
      "chr17\t197582\t198583\n",
      "chr17\t201248\t202059\n",
      "chr17\t201249\t202059\n",
      "\n",
      "Show the first few lines of the output file\n",
      "chr17\t1\t0\n",
      "chr17\t2\t0\n",
      "chr17\t3\t0\n",
      "chr17\t4\t0\n",
      "chr17\t5\t0\n",
      "chr17\t6\t0\n",
      "chr17\t7\t0\n",
      "chr17\t8\t0\n",
      "chr17\t9\t0\n",
      "chr17\t10\t0\n"
     ]
    }
   ],
   "source": [
    "%%bash\n",
    "source config.sh\n",
    "FD_LOG=${FD_WRK}/log\n",
    "cat ${FD_LOG}/coverage_per_basepair_output_dex_chr17.0.txt"
   ]
  },
  {
   "cell_type": "markdown",
   "metadata": {},
   "source": [
    "-----"
   ]
  },
  {
   "cell_type": "markdown",
   "metadata": {},
   "source": [
    "## Test: filtering PER1 region (Dex)"
   ]
  },
  {
   "cell_type": "code",
   "execution_count": 23,
   "metadata": {},
   "outputs": [
    {
     "name": "stdout",
     "output_type": "stream",
     "text": [
      "Submitted batch job 10702173\n"
     ]
    }
   ],
   "source": [
    "%%bash\n",
    "### set environment on DCC\n",
    "source config.sh\n",
    "FD_LOG=${FD_WRK}/log\n",
    "\n",
    "### run script using sbatch\n",
    "#sbatch -pnew,all \\\n",
    "sbatch -p scavenger \\\n",
    "    --array=0-3 \\\n",
    "    --mem 8G \\\n",
    "    -o ${FD_LOG}/test.%a.txt \\\n",
    "    <<'EOF'\n",
    "#!/bin/bash\n",
    "### set directories & global variables\n",
    "source config.sh\n",
    "\n",
    "### set input & output directory\n",
    "FD_BEDS=($(ls -d ${FD_WRK}/coverage/TFX?_Dex/))\n",
    "FD_BED=${FD_BEDS[${SLURM_ARRAY_TASK_ID}]}\n",
    "FN_BED=chr17.txt\n",
    "\n",
    "FD_OUT=${FD_WRK}/coverage/$(basename ${FD_BED})\n",
    "FN_OUT=PER1.txt\n",
    "\n",
    "\n",
    "### print start message\n",
    "echo \"Slurm Array Index: \" ${SLURM_ARRAY_TASK_ID}\n",
    "echo \"Input  file:       \" ${FD_BED}/${FN_BED}\n",
    "echo \"Output file:       \" ${FD_OUT}/${FN_OUT}\n",
    "echo\n",
    "echo \"Show the first few lines of the input file\"\n",
    "head ${FD_BED}/${FN_BED}\n",
    "\n",
    "awk -F $'\\t' '($2 >= 8148987 && $2 <= 8159379)' ${FD_BED}/${FN_BED} > ${FD_OUT}/${FN_OUT}\n",
    "\n",
    "EOF"
   ]
  },
  {
   "cell_type": "code",
   "execution_count": 26,
   "metadata": {},
   "outputs": [
    {
     "name": "stdout",
     "output_type": "stream",
     "text": [
      "Slurm Array Index:  0\n",
      "Input  file:        /work/kk319/out/CombEffect_STARR/coverage/TFX2_Dex//chr17.txt\n",
      "Output file:        /work/kk319/out/CombEffect_STARR/coverage/TFX2_Dex/PER1.txt\n",
      "\n",
      "Show the first few lines of the input file\n",
      "chr17\t1\t0\n",
      "chr17\t2\t0\n",
      "chr17\t3\t0\n",
      "chr17\t4\t0\n",
      "chr17\t5\t0\n",
      "chr17\t6\t0\n",
      "chr17\t7\t0\n",
      "chr17\t8\t0\n",
      "chr17\t9\t0\n",
      "chr17\t10\t0\n"
     ]
    }
   ],
   "source": [
    "%%bash\n",
    "source config.sh\n",
    "FD_LOG=${FD_WRK}/log\n",
    "cat ${FD_LOG}/test.0.txt"
   ]
  },
  {
   "cell_type": "code",
   "execution_count": 39,
   "metadata": {},
   "outputs": [
    {
     "name": "stdout",
     "output_type": "stream",
     "text": [
      "-rw-r--r--. 1 kk319 root 176K Jun  3 12:10 /work/kk319/out/CombEffect_STARR/coverage/TFX2_Dex/PER1.txt\n",
      "chr17\t8148987\t39\n",
      "chr17\t8148988\t39\n",
      "chr17\t8148989\t39\n",
      "chr17\t8159377\t4\n",
      "chr17\t8159378\t4\n",
      "chr17\t8159379\t4\n",
      "-rw-r--r--. 1 kk319 root 178K Jun  3 12:11 /work/kk319/out/CombEffect_STARR/coverage/TFX5_Dex/PER1.txt\n",
      "chr17\t8148987\t35\n",
      "chr17\t8148988\t35\n",
      "chr17\t8148989\t35\n",
      "chr17\t8159377\t3\n",
      "chr17\t8159378\t3\n",
      "chr17\t8159379\t3\n"
     ]
    }
   ],
   "source": [
    "%%bash\n",
    "ls -lh /work/kk319/out/CombEffect_STARR/coverage/TFX2_Dex/PER1.txt\n",
    "head -3 /work/kk319/out/CombEffect_STARR/coverage/TFX2_Dex/PER1.txt\n",
    "tail -3 /work/kk319/out/CombEffect_STARR/coverage/TFX2_Dex/PER1.txt\n",
    "\n",
    "ls -lh /work/kk319/out/CombEffect_STARR/coverage/TFX5_Dex/PER1.txt\n",
    "head -3 /work/kk319/out/CombEffect_STARR/coverage/TFX5_Dex/PER1.txt\n",
    "tail -3 /work/kk319/out/CombEffect_STARR/coverage/TFX5_Dex/PER1.txt"
   ]
  },
  {
   "cell_type": "markdown",
   "metadata": {},
   "source": [
    "## Test: filtering PER1 region (DMSO)"
   ]
  },
  {
   "cell_type": "code",
   "execution_count": 24,
   "metadata": {},
   "outputs": [
    {
     "name": "stdout",
     "output_type": "stream",
     "text": [
      "/work/kk319/out/CombEffect_STARR/coverage/TFX2_DMSO/\n",
      "TFX2_DMSO\n",
      "/work/kk319/out/CombEffect_STARR/coverage/TFX3_DMSO/\n",
      "TFX3_DMSO\n",
      "/work/kk319/out/CombEffect_STARR/coverage/TFX4_DMSO/\n",
      "TFX4_DMSO\n",
      "/work/kk319/out/CombEffect_STARR/coverage/TFX5_DMSO/\n",
      "TFX5_DMSO\n",
      "/work/kk319/out/CombEffect_STARR/coverage/TFX_DMSO/\n",
      "TFX_DMSO\n"
     ]
    }
   ],
   "source": [
    "%%bash\n",
    "source config.sh\n",
    "FD_BEDS=($(ls -d ${FD_WRK}/coverage/TFX*_DMSO/))\n",
    "for FD_BED in \"${FD_BEDS[@]}\"; do\n",
    "    echo  ${FD_BED}\n",
    "    echo \"$(basename -- $FD_BED)\"\n",
    "done"
   ]
  },
  {
   "cell_type": "code",
   "execution_count": 25,
   "metadata": {},
   "outputs": [
    {
     "name": "stdout",
     "output_type": "stream",
     "text": [
      "Submitted batch job 10702190\n"
     ]
    }
   ],
   "source": [
    "%%bash\n",
    "### set environment on DCC\n",
    "source config.sh\n",
    "FD_LOG=${FD_WRK}/log\n",
    "\n",
    "### run script using sbatch\n",
    "#sbatch -pnew,all \\\n",
    "sbatch -p scavenger \\\n",
    "    --array=0-4 \\\n",
    "    --mem 8G \\\n",
    "    -o ${FD_LOG}/test_dmso.%a.txt \\\n",
    "    <<'EOF'\n",
    "#!/bin/bash\n",
    "### set directories & global variables\n",
    "source config.sh\n",
    "\n",
    "### set input & output directory\n",
    "FD_BEDS=($(ls -d ${FD_WRK}/coverage/TFX*_DMSO/))\n",
    "FD_BED=${FD_BEDS[${SLURM_ARRAY_TASK_ID}]}\n",
    "FN_BED=chr17.txt\n",
    "\n",
    "FD_OUT=${FD_WRK}/coverage/$(basename ${FD_BED})\n",
    "FN_OUT=PER1.txt\n",
    "\n",
    "\n",
    "### print start message\n",
    "echo \"Slurm Array Index: \" ${SLURM_ARRAY_TASK_ID}\n",
    "echo \"Input  file:       \" ${FD_BED}/${FN_BED}\n",
    "echo \"Output file:       \" ${FD_OUT}/${FN_OUT}\n",
    "echo\n",
    "echo \"Show the first few lines of the input file\"\n",
    "head ${FD_BED}/${FN_BED}\n",
    "\n",
    "awk -F $'\\t' '($2 >= 8148987 && $2 <= 8159379)' ${FD_BED}/${FN_BED} > ${FD_OUT}/${FN_OUT}\n",
    "\n",
    "EOF"
   ]
  },
  {
   "cell_type": "code",
   "execution_count": 38,
   "metadata": {},
   "outputs": [
    {
     "name": "stdout",
     "output_type": "stream",
     "text": [
      "-rw-r--r--. 1 kk319 root 181K Jun  3 12:14 /work/kk319/out/CombEffect_STARR/coverage/TFX_DMSO/PER1.txt\n",
      "chr17\t8148987\t182\n",
      "chr17\t8148988\t182\n",
      "chr17\t8148989\t182\n",
      "chr17\t8159377\t13\n",
      "chr17\t8159378\t13\n",
      "chr17\t8159379\t13\n",
      "-rw-r--r--. 1 kk319 root 175K Jun  3 12:13 /work/kk319/out/CombEffect_STARR/coverage/TFX2_DMSO/PER1.txt\n",
      "chr17\t8148987\t97\n",
      "chr17\t8148988\t97\n",
      "chr17\t8148989\t97\n",
      "chr17\t8159377\t3\n",
      "chr17\t8159378\t3\n",
      "chr17\t8159379\t3\n",
      "-rw-r--r--. 1 kk319 root 175K Jun  3 12:14 /work/kk319/out/CombEffect_STARR/coverage/TFX5_DMSO/PER1.txt\n",
      "chr17\t8148987\t20\n",
      "chr17\t8148988\t20\n",
      "chr17\t8148989\t20\n",
      "chr17\t8159377\t10\n",
      "chr17\t8159378\t10\n",
      "chr17\t8159379\t10\n"
     ]
    }
   ],
   "source": [
    "%%bash\n",
    "ls -lh /work/kk319/out/CombEffect_STARR/coverage/TFX_DMSO/PER1.txt\n",
    "head -3 /work/kk319/out/CombEffect_STARR/coverage/TFX_DMSO/PER1.txt\n",
    "tail -3 /work/kk319/out/CombEffect_STARR/coverage/TFX_DMSO/PER1.txt\n",
    "\n",
    "ls -lh /work/kk319/out/CombEffect_STARR/coverage/TFX2_DMSO/PER1.txt\n",
    "head -3 /work/kk319/out/CombEffect_STARR/coverage/TFX2_DMSO/PER1.txt\n",
    "tail -3 /work/kk319/out/CombEffect_STARR/coverage/TFX2_DMSO/PER1.txt\n",
    "\n",
    "ls -lh /work/kk319/out/CombEffect_STARR/coverage/TFX5_DMSO/PER1.txt\n",
    "head -3 /work/kk319/out/CombEffect_STARR/coverage/TFX5_DMSO/PER1.txt\n",
    "tail -3 /work/kk319/out/CombEffect_STARR/coverage/TFX5_DMSO/PER1.txt"
   ]
  },
  {
   "cell_type": "markdown",
   "metadata": {},
   "source": [
    "## Test: filtering PER1 region (Input)"
   ]
  },
  {
   "cell_type": "code",
   "execution_count": 27,
   "metadata": {},
   "outputs": [
    {
     "name": "stdout",
     "output_type": "stream",
     "text": [
      "Submitted batch job 10702196\n"
     ]
    }
   ],
   "source": [
    "%%bash\n",
    "### set environment on DCC\n",
    "source config.sh\n",
    "FD_LOG=${FD_WRK}/log\n",
    "\n",
    "### run script using sbatch\n",
    "#sbatch -pnew,all \\\n",
    "sbatch -p scavenger \\\n",
    "    --array=0-5 \\\n",
    "    --mem 8G \\\n",
    "    -o ${FD_LOG}/test_input.%a.txt \\\n",
    "    <<'EOF'\n",
    "#!/bin/bash\n",
    "### set directories & global variables\n",
    "source config.sh\n",
    "\n",
    "### set input & output directory\n",
    "FD_BEDS=($(ls -d ${FD_WRK}/coverage/Input*/))\n",
    "FD_BED=${FD_BEDS[${SLURM_ARRAY_TASK_ID}]}\n",
    "FN_BED=chr17.txt\n",
    "\n",
    "FD_OUT=${FD_WRK}/coverage/$(basename ${FD_BED})\n",
    "FN_OUT=PER1.txt\n",
    "\n",
    "\n",
    "### print start message\n",
    "echo \"Slurm Array Index: \" ${SLURM_ARRAY_TASK_ID}\n",
    "echo \"Input  file:       \" ${FD_BED}/${FN_BED}\n",
    "echo \"Output file:       \" ${FD_OUT}/${FN_OUT}\n",
    "echo\n",
    "echo \"Show the first few lines of the input file\"\n",
    "head ${FD_BED}/${FN_BED}\n",
    "\n",
    "awk -F $'\\t' '($2 >= 8148987 && $2 <= 8159379)' ${FD_BED}/${FN_BED} > ${FD_OUT}/${FN_OUT}\n",
    "\n",
    "### print end message\n",
    "echo\n",
    "echo \"Show the first few lines of the output file\"\n",
    "head ${FD_OUT}/${FN_OUT}\n",
    "\n",
    "EOF"
   ]
  },
  {
   "cell_type": "code",
   "execution_count": 37,
   "metadata": {},
   "outputs": [
    {
     "name": "stdout",
     "output_type": "stream",
     "text": [
      "-rw-r--r--. 1 kk319 root 177K Jun  3 12:14 /work/kk319/out/CombEffect_STARR/coverage/Input/PER1.txt\n",
      "chr17\t8148987\t57\n",
      "chr17\t8148988\t57\n",
      "chr17\t8148989\t57\n",
      "chr17\t8159377\t46\n",
      "chr17\t8159378\t46\n",
      "chr17\t8159379\t46\n",
      "-rw-r--r--. 1 kk319 root 171K Jun  3 12:14 /work/kk319/out/CombEffect_STARR/coverage/Input1/PER1.txt\n",
      "chr17\t8148987\t10\n",
      "chr17\t8148988\t10\n",
      "chr17\t8148989\t10\n",
      "chr17\t8159377\t8\n",
      "chr17\t8159378\t8\n",
      "chr17\t8159379\t8\n",
      "-rw-r--r--. 1 kk319 root 169K Jun  3 12:15 /work/kk319/out/CombEffect_STARR/coverage/Input5/PER1.txt\n",
      "chr17\t8148987\t8\n",
      "chr17\t8148988\t8\n",
      "chr17\t8148989\t8\n",
      "chr17\t8159377\t8\n",
      "chr17\t8159378\t8\n",
      "chr17\t8159379\t8\n"
     ]
    }
   ],
   "source": [
    "%%bash\n",
    "ls -lh /work/kk319/out/CombEffect_STARR/coverage/Input/PER1.txt\n",
    "head -3 /work/kk319/out/CombEffect_STARR/coverage/Input/PER1.txt\n",
    "tail -3 /work/kk319/out/CombEffect_STARR/coverage/Input/PER1.txt\n",
    "\n",
    "ls -lh /work/kk319/out/CombEffect_STARR/coverage/Input1/PER1.txt\n",
    "head -3 /work/kk319/out/CombEffect_STARR/coverage/Input1/PER1.txt\n",
    "tail -3 /work/kk319/out/CombEffect_STARR/coverage/Input1/PER1.txt\n",
    "\n",
    "ls -lh /work/kk319/out/CombEffect_STARR/coverage/Input5/PER1.txt\n",
    "head -3 /work/kk319/out/CombEffect_STARR/coverage/Input5/PER1.txt\n",
    "tail -3 /work/kk319/out/CombEffect_STARR/coverage/Input5/PER1.txt"
   ]
  },
  {
   "cell_type": "code",
   "execution_count": null,
   "metadata": {},
   "outputs": [],
   "source": []
  },
  {
   "cell_type": "code",
   "execution_count": null,
   "metadata": {},
   "outputs": [],
   "source": []
  },
  {
   "cell_type": "code",
   "execution_count": null,
   "metadata": {},
   "outputs": [],
   "source": []
  },
  {
   "cell_type": "code",
   "execution_count": null,
   "metadata": {},
   "outputs": [],
   "source": []
  },
  {
   "cell_type": "code",
   "execution_count": null,
   "metadata": {},
   "outputs": [],
   "source": []
  },
  {
   "cell_type": "code",
   "execution_count": 6,
   "metadata": {},
   "outputs": [
    {
     "name": "stdout",
     "output_type": "stream",
     "text": [
      "chr17.txt\n",
      "chr17\t1\t0\n",
      "chr17\t2\t0\n",
      "chr17\t3\t0\n",
      "chr17\t4\t0\n",
      "chr17\t5\t0\n",
      "chr17\t6\t0\n",
      "chr17\t7\t0\n",
      "chr17\t8\t0\n",
      "chr17\t9\t0\n",
      "chr17\t10\t0\n"
     ]
    }
   ],
   "source": [
    "%%bash\n",
    "source config.sh\n",
    "ls ${FD_WRK}/coverage/TFX5_Dex\n",
    "head ${FD_WRK}/coverage/TFX5_Dex/chr17.txt"
   ]
  },
  {
   "cell_type": "code",
   "execution_count": 10,
   "metadata": {},
   "outputs": [
    {
     "name": "stdout",
     "output_type": "stream",
     "text": [
      "total 1.7G\n",
      "-rw-r--r--. 1 kk319 root 1.4G Jun  3 11:39 chr17.txt\n",
      "chr17\t83257342\t0\n",
      "chr17\t83257343\t0\n",
      "chr17\t83257344\t0\n",
      "chr17\t83257345\t0\n",
      "chr17\t83257346\t0\n",
      "chr17\t83257347\t0\n",
      "chr17\t83257348\t0\n",
      "chr17\t83257349\t0\n",
      "chr17\t83257350\t0\n",
      "chr17\t83257351\t0\n",
      "chr17\t83257352\t0\n",
      "chr17\t83257353\t0\n",
      "chr17\t83257354\t0\n",
      "chr17\t83257355\t0\n",
      "chr17\t83257356\t0\n",
      "chr17\t83257357\t0\n",
      "chr17\t83257358\t0\n",
      "chr17\t83257359\t0\n",
      "chr17\t83257360\t0\n",
      "chr17\t83257361\t0\n",
      "chr17\t83257362\t0\n",
      "chr17\t83257363\t0\n",
      "chr17\t83257364\t0\n",
      "chr17\t83257365\t0\n",
      "chr17\t83257366\t0\n",
      "chr17\t83257367\t0\n",
      "chr17\t83257368\t0\n",
      "chr17\t83257369\t0\n",
      "chr17\t83257370\t0\n",
      "chr17\t83257371\t0\n",
      "chr17\t83257372\t0\n",
      "chr17\t83257373\t0\n",
      "chr17\t83257374\t0\n",
      "chr17\t83257375\t0\n",
      "chr17\t83257376\t0\n",
      "chr17\t83257377\t0\n",
      "chr17\t83257378\t0\n",
      "chr17\t83257379\t0\n",
      "chr17\t83257380\t0\n",
      "chr17\t83257381\t0\n",
      "chr17\t83257382\t0\n",
      "chr17\t83257383\t0\n",
      "chr17\t83257384\t0\n",
      "chr17\t83257385\t0\n",
      "chr17\t83257386\t0\n",
      "chr17\t83257387\t0\n",
      "chr17\t83257388\t0\n",
      "chr17\t83257389\t0\n",
      "chr17\t83257390\t0\n",
      "chr17\t83257391\t0\n",
      "chr17\t83257392\t0\n",
      "chr17\t83257393\t0\n",
      "chr17\t83257394\t0\n",
      "chr17\t83257395\t0\n",
      "chr17\t83257396\t0\n",
      "chr17\t83257397\t0\n",
      "chr17\t83257398\t0\n",
      "chr17\t83257399\t0\n",
      "chr17\t83257400\t0\n",
      "chr17\t83257401\t0\n",
      "chr17\t83257402\t0\n",
      "chr17\t83257403\t0\n",
      "chr17\t83257404\t0\n",
      "chr17\t83257405\t0\n",
      "chr17\t83257406\t0\n",
      "chr17\t83257407\t0\n",
      "chr17\t83257408\t0\n",
      "chr17\t83257409\t0\n",
      "chr17\t83257410\t0\n",
      "chr17\t83257411\t0\n",
      "chr17\t83257412\t0\n",
      "chr17\t83257413\t0\n",
      "chr17\t83257414\t0\n",
      "chr17\t83257415\t0\n",
      "chr17\t83257416\t0\n",
      "chr17\t83257417\t0\n",
      "chr17\t83257418\t0\n",
      "chr17\t83257419\t0\n",
      "chr17\t83257420\t0\n",
      "chr17\t83257421\t0\n",
      "chr17\t83257422\t0\n",
      "chr17\t83257423\t0\n",
      "chr17\t83257424\t0\n",
      "chr17\t83257425\t0\n",
      "chr17\t83257426\t0\n",
      "chr17\t83257427\t0\n",
      "chr17\t83257428\t0\n",
      "chr17\t83257429\t0\n",
      "chr17\t83257430\t0\n",
      "chr17\t83257431\t0\n",
      "chr17\t83257432\t0\n",
      "chr17\t83257433\t0\n",
      "chr17\t83257434\t0\n",
      "chr17\t83257435\t0\n",
      "chr17\t83257436\t0\n",
      "chr17\t83257437\t0\n",
      "chr17\t83257438\t0\n",
      "chr17\t83257439\t0\n",
      "chr17\t83257440\t0\n",
      "chr17\t83257441\t0\n"
     ]
    }
   ],
   "source": [
    "%%bash\n",
    "source config.sh\n",
    "ls -lh ${FD_WRK}/coverage/TFX5_Dex\n",
    "tail -100 ${FD_WRK}/coverage/TFX5_Dex/chr17.txt"
   ]
  },
  {
   "cell_type": "code",
   "execution_count": null,
   "metadata": {},
   "outputs": [],
   "source": []
  },
  {
   "cell_type": "code",
   "execution_count": null,
   "metadata": {},
   "outputs": [],
   "source": []
  },
  {
   "cell_type": "code",
   "execution_count": null,
   "metadata": {},
   "outputs": [],
   "source": []
  },
  {
   "cell_type": "code",
   "execution_count": null,
   "metadata": {},
   "outputs": [],
   "source": []
  },
  {
   "cell_type": "code",
   "execution_count": null,
   "metadata": {},
   "outputs": [],
   "source": []
  },
  {
   "cell_type": "code",
   "execution_count": null,
   "metadata": {},
   "outputs": [],
   "source": []
  },
  {
   "cell_type": "code",
   "execution_count": null,
   "metadata": {},
   "outputs": [],
   "source": []
  },
  {
   "cell_type": "code",
   "execution_count": null,
   "metadata": {},
   "outputs": [],
   "source": []
  },
  {
   "cell_type": "code",
   "execution_count": null,
   "metadata": {},
   "outputs": [],
   "source": [
    "FN_OUT=${CHROM}.txt"
   ]
  },
  {
   "cell_type": "code",
   "execution_count": 7,
   "metadata": {},
   "outputs": [
    {
     "name": "stdout",
     "output_type": "stream",
     "text": [
      "PER1.txt\n",
      "chr17\t1\t0\n",
      "chr17\t2\t0\n",
      "chr17\t3\t0\n",
      "chr17\t4\t0\n",
      "chr17\t5\t0\n",
      "chr17\t6\t0\n",
      "chr17\t7\t0\n",
      "chr17\t8\t0\n",
      "chr17\t9\t0\n",
      "chr17\t10\t0\n"
     ]
    }
   ],
   "source": [
    "%%bash\n",
    "source config.sh\n",
    "ls ${FD_WRK}/coverage/Input1\n",
    "head ${FD_WRK}/coverage/Input1/PER1.txt"
   ]
  },
  {
   "cell_type": "code",
   "execution_count": 8,
   "metadata": {},
   "outputs": [
    {
     "name": "stdout",
     "output_type": "stream",
     "text": [
      "PER1.txt\n",
      "chrY\t57227406\t0\n",
      "chrY\t57227407\t0\n",
      "chrY\t57227408\t0\n",
      "chrY\t57227409\t0\n",
      "chrY\t57227410\t0\n",
      "chrY\t57227411\t0\n",
      "chrY\t57227412\t0\n",
      "chrY\t57227413\t0\n",
      "chrY\t57227414\t0\n",
      "chrY\t57227415\t0\n"
     ]
    }
   ],
   "source": [
    "%%bash\n",
    "source config.sh\n",
    "ls ${FD_WRK}/coverage/Input1\n",
    "tail ${FD_WRK}/coverage/Input1/PER1.txt"
   ]
  },
  {
   "cell_type": "code",
   "execution_count": null,
   "metadata": {},
   "outputs": [],
   "source": []
  },
  {
   "cell_type": "code",
   "execution_count": 5,
   "metadata": {},
   "outputs": [
    {
     "name": "stdout",
     "output_type": "stream",
     "text": [
      "PER1.txt\n",
      "chr17.txt\n",
      "chr17\t1\t0\n",
      "chr17\t2\t0\n",
      "chr17\t3\t0\n",
      "chr17\t4\t0\n",
      "chr17\t5\t0\n",
      "chr17\t6\t0\n",
      "chr17\t7\t0\n",
      "chr17\t8\t0\n",
      "chr17\t9\t0\n",
      "chr17\t10\t0\n"
     ]
    }
   ],
   "source": [
    "%%bash\n",
    "source config.sh\n",
    "ls ${FD_WRK}/coverage/TFX5_DMSO\n",
    "head ${FD_WRK}/coverage/TFX5_DMSO/PER1.txt"
   ]
  },
  {
   "cell_type": "code",
   "execution_count": 1,
   "metadata": {},
   "outputs": [
    {
     "name": "stdout",
     "output_type": "stream",
     "text": [
      "chr17.txt\n",
      "chr17\t1\t0\n",
      "chr17\t2\t0\n",
      "chr17\t3\t0\n",
      "chr17\t4\t0\n",
      "chr17\t5\t0\n",
      "chr17\t6\t0\n",
      "chr17\t7\t0\n",
      "chr17\t8\t0\n",
      "chr17\t9\t0\n",
      "chr17\t10\t0\n"
     ]
    }
   ],
   "source": [
    "%%bash\n",
    "source config.sh\n",
    "ls ${FD_WRK}/coverage/TFX5_Dex\n",
    "head ${FD_WRK}/coverage/TFX5_Dex/chr17.txt"
   ]
  },
  {
   "cell_type": "code",
   "execution_count": 2,
   "metadata": {},
   "outputs": [
    {
     "name": "stdout",
     "output_type": "stream",
     "text": [
      "chr17.txt\n",
      "chr2\t181198475\t0\n",
      "chr2\t181198476\t0\n",
      "chr2\t181198477\t0\n",
      "chr2\t181198478\t0\n",
      "chr2\t181198479\t0\n",
      "chr2\t181198480\t0\n",
      "chr2\t181198481\t0\n",
      "chr2\t181198482\t0\n",
      "chr2\t181198483\t0\n",
      "chr2\t181198484\t0\n"
     ]
    }
   ],
   "source": [
    "%%bash\n",
    "source config.sh\n",
    "ls ${FD_WRK}/coverage/TFX5_Dex\n",
    "tail ${FD_WRK}/coverage/TFX5_Dex/chr17.txt"
   ]
  },
  {
   "cell_type": "code",
   "execution_count": null,
   "metadata": {},
   "outputs": [],
   "source": []
  }
 ],
 "metadata": {
  "kernelspec": {
   "display_name": "Python 3",
   "language": "python",
   "name": "python3"
  },
  "language_info": {
   "codemirror_mode": {
    "name": "ipython",
    "version": 3
   },
   "file_extension": ".py",
   "mimetype": "text/x-python",
   "name": "python",
   "nbconvert_exporter": "python",
   "pygments_lexer": "ipython3",
   "version": "3.7.3"
  }
 },
 "nbformat": 4,
 "nbformat_minor": 4
}
