{
 "cells": [
  {
   "cell_type": "code",
   "execution_count": 80,
   "id": "292ea2e5-d60b-4d2c-83dd-9933a69be72b",
   "metadata": {},
   "outputs": [],
   "source": [
    "cat > ./model_kmer_sim/model.stan << EOF\n",
    "data {\n",
    "    int <lower=1> N_DATA;\n",
    "    int <lower=1> N_FRAG;\n",
    "    int <lower=1> N_SEG;\n",
    "    int <lower=1> N_SEG_PER_FRAG;\n",
    "    int <lower=1> N_REP;\n",
    "    \n",
    "    int <lower=0> OUTPUT[N_DATA];\n",
    "    int <lower=1> INPUT[N_DATA];\n",
    "    real <lower=0> PHI;\n",
    "}\n",
    "\n",
    "parameters {\n",
    "    real<lower=0> SEG[N_SEG];\n",
    "}\n",
    "\n",
    "model {\n",
    "    //print(\"hello\");\n",
    "    //for (j in 1:N_SEG) {\n",
    "    //    print(SEG[j]);\n",
    "    //}\n",
    "    \n",
    "    // Shrinkage priors on each effect size\n",
    "    for (j in 1:N_SEG) {\n",
    "        SEG[j] ~ lognormal(0, 0.3);\n",
    "    }\n",
    "    \n",
    "    // Likelihood\n",
    "    for (i in 1:N_FRAG) {\n",
    "    \n",
    "        // gather effect from corresponding segments\n",
    "        real seg_effect = 1;\n",
    "        for (j in i:(i + N_SEG_PER_FRAG - 1)) {\n",
    "            seg_effect *= SEG[j];\n",
    "        }\n",
    "        \n",
    "        // mean(output) := segment effect x input\n",
    "        int idx_data;\n",
    "        for (k in 1:N_REP) {\n",
    "            idx_data = N_FRAG * (i - 1) + k;\n",
    "            OUTPUT[idx_data] ~ neg_binomial_2(INPUT[idx_data] * seg_effect, PHI);\n",
    "            \n",
    "            //print(seg_effect, \" \", INPUT[idx_data], \" \", INPUT[idx_data] * seg_effect);\n",
    "        } \n",
    "    }\n",
    "}\n",
    "EOF"
   ]
  },
  {
   "cell_type": "code",
   "execution_count": 81,
   "id": "e8f917b9-7751-45b7-a988-5308f501393a",
   "metadata": {},
   "outputs": [
    {
     "name": "stdout",
     "output_type": "stream",
     "text": [
      "data {\n",
      "    int <lower=1> N_DATA;\n",
      "    int <lower=1> N_FRAG;\n",
      "    int <lower=1> N_SEG;\n",
      "    int <lower=1> N_SEG_PER_FRAG;\n",
      "    int <lower=1> N_REP;\n",
      "    \n",
      "    int <lower=0> OUTPUT[N_DATA];\n",
      "    int <lower=1> INPUT[N_DATA];\n",
      "    real <lower=0> PHI;\n",
      "}\n",
      "\n",
      "parameters {\n",
      "    real<lower=0> SEG[N_SEG];\n",
      "}\n",
      "\n",
      "model {\n",
      "    //print(\"hello\");\n",
      "    //for (j in 1:N_SEG) {\n",
      "    //    print(SEG[j]);\n",
      "    //}\n",
      "    \n",
      "    // Shrinkage priors on each effect size\n",
      "    for (j in 1:N_SEG) {\n",
      "        SEG[j] ~ lognormal(0, 0.3);\n",
      "    }\n",
      "    \n",
      "    // Likelihood\n",
      "    for (i in 1:N_FRAG) {\n",
      "    \n",
      "        // gather effect from corresponding segments\n",
      "        real seg_effect = 1;\n",
      "        for (j in i:(i + N_SEG_PER_FRAG - 1)) {\n",
      "            seg_effect *= SEG[j];\n",
      "        }\n",
      "        \n",
      "        // mean(output) := segment effect x input\n",
      "        int idx_data;\n",
      "        for (k in 1:N_REP) {\n",
      "            idx_data = N_FRAG * (i - 1) + k;\n",
      "            OUTPUT[idx_data] ~ neg_binomial_2(INPUT[idx_data] * seg_effect, PHI);\n",
      "            \n",
      "            //print(seg_effect, \" \", INPUT[idx_data], \" \", INPUT[idx_data] * seg_effect);\n",
      "        } \n",
      "    }\n",
      "}\n"
     ]
    }
   ],
   "source": [
    "cat ./model_kmer_sim/model.stan"
   ]
  },
  {
   "cell_type": "code",
   "execution_count": 82,
   "id": "e3912b7d-019c-4f89-8f20-4fa63b509336",
   "metadata": {},
   "outputs": [
    {
     "name": "stdout",
     "output_type": "stream",
     "text": [
      "make: Entering directory '/work/kk319/exe/cmdstan'\n",
      "\n",
      "--- Translating Stan model to C++ code ---\n",
      "bin/stanc  --o=/hpc/home/kk319/GitRepo/Proj_CombEffect_STARRseq/notebooks/model_kmer_sim/model.hpp /hpc/home/kk319/GitRepo/Proj_CombEffect_STARRseq/notebooks/model_kmer_sim/model.stan\n",
      "\n",
      "--- Compiling, linking C++ code ---\n",
      "g++ -std=c++1y -pthread -D_REENTRANT -Wno-sign-compare -Wno-ignored-attributes      -I stan/lib/stan_math/lib/tbb_2020.3/include   -O3 -I src -I stan/src -I lib/rapidjson_1.1.0/ -I lib/CLI11-1.9.1/ -I stan/lib/stan_math/ -I stan/lib/stan_math/lib/eigen_3.3.9 -I stan/lib/stan_math/lib/boost_1.75.0 -I stan/lib/stan_math/lib/sundials_5.7.0/include    -DBOOST_DISABLE_ASSERTS         -c -Wno-ignored-attributes   -x c++ -o /hpc/home/kk319/GitRepo/Proj_CombEffect_STARRseq/notebooks/model_kmer_sim/model.o /hpc/home/kk319/GitRepo/Proj_CombEffect_STARRseq/notebooks/model_kmer_sim/model.hpp\n",
      "g++ -std=c++1y -pthread -D_REENTRANT -Wno-sign-compare -Wno-ignored-attributes      -I stan/lib/stan_math/lib/tbb_2020.3/include   -O3 -I src -I stan/src -I lib/rapidjson_1.1.0/ -I lib/CLI11-1.9.1/ -I stan/lib/stan_math/ -I stan/lib/stan_math/lib/eigen_3.3.9 -I stan/lib/stan_math/lib/boost_1.75.0 -I stan/lib/stan_math/lib/sundials_5.7.0/include    -DBOOST_DISABLE_ASSERTS               -Wl,-L,\"/work/kk319/exe/cmdstan/stan/lib/stan_math/lib/tbb\" -Wl,-rpath,\"/work/kk319/exe/cmdstan/stan/lib/stan_math/lib/tbb\"      /hpc/home/kk319/GitRepo/Proj_CombEffect_STARRseq/notebooks/model_kmer_sim/model.o src/cmdstan/main.o        -Wl,-L,\"/work/kk319/exe/cmdstan/stan/lib/stan_math/lib/tbb\" -Wl,-rpath,\"/work/kk319/exe/cmdstan/stan/lib/stan_math/lib/tbb\"   stan/lib/stan_math/lib/sundials_5.7.0/lib/libsundials_nvecserial.a stan/lib/stan_math/lib/sundials_5.7.0/lib/libsundials_cvodes.a stan/lib/stan_math/lib/sundials_5.7.0/lib/libsundials_idas.a stan/lib/stan_math/lib/sundials_5.7.0/lib/libsundials_kinsol.a  stan/lib/stan_math/lib/tbb/libtbb.so.2 -o /hpc/home/kk319/GitRepo/Proj_CombEffect_STARRseq/notebooks/model_kmer_sim/model\n",
      "rm -f /hpc/home/kk319/GitRepo/Proj_CombEffect_STARRseq/notebooks/model_kmer_sim/model.o\n",
      "make: Leaving directory '/work/kk319/exe/cmdstan'\n"
     ]
    }
   ],
   "source": [
    "source config.sh\n",
    "FD_CUR=$(pwd)\n",
    "STAN_PATH=${FD_BASE}/exe/cmdstan\n",
    "\n",
    "make -C ${STAN_PATH} ${FD_CUR}/model_kmer_sim/model"
   ]
  },
  {
   "cell_type": "code",
   "execution_count": 84,
   "id": "1956023b-994a-4609-8f6b-f44465517eeb",
   "metadata": {},
   "outputs": [
    {
     "name": "stdout",
     "output_type": "stream",
     "text": [
      "{\"N_DATA\":100,\"N_FRAG\":10,\"N_SEG\":15,\"N_SEG_PER_FRAG\":5,\"N_REP\":10,\"OUTPUT\":[2,5,1,3,4,1,4,2,5,5,0,1,3,2,3,6,4,2,2,3,3,2,3,1,2,5,4,3,6,2,3,3,3,3,5,5,6,6,1,3,1,1,3,4,2,2,2,3,4,2,4,3,5,1,3,1,3,2,2,4,5,2,4,2,4,1,4,2,4,1,8,0,0,1,2,6,9,5,1,3,2,0,2,1,1,3,7,0,0,5,2,2,1,1,0,7,3,1,4,3],\"INPUT\":[3,3,3,3,3,3,3,3,3,3,3,3,3,3,3,3,3,3,3,3,3,3,3,3,3,3,3,3,3,3,3,3,3,3,3,3,3,3,3,3,3,3,3,3,3,3,3,3,3,3,3,3,3,3,3,3,3,3,3,3,3,3,3,3,3,3,3,3,3,3,3,3,3,3,3,3,3,3,3,3,3,3,3,3,3,3,3,3,3,3,3,3,3,3,3,3,3,3,3,3],\"PHI\":5,\"SEG_TRUE\":[1,1,1,1,1,1,1,1,1,1,1,1,1,1,1]}\n"
     ]
    }
   ],
   "source": [
    "cat ./model_kmer_sim/input_trivial_v1.json"
   ]
  },
  {
   "cell_type": "code",
   "execution_count": 85,
   "id": "36b7e658-845a-4f30-baa4-1f6d2e305081",
   "metadata": {},
   "outputs": [
    {
     "name": "stdout",
     "output_type": "stream",
     "text": [
      "{\"SEG\":[1,1,1,1,1,1,1,1,1,1,1,1,1,1,1]}\n"
     ]
    }
   ],
   "source": [
    "cat ./model_kmer_sim/init.json"
   ]
  },
  {
   "cell_type": "code",
   "execution_count": 70,
   "id": "46a43f62-6b33-437b-aabf-f6d8eb7268e2",
   "metadata": {},
   "outputs": [
    {
     "name": "stdout",
     "output_type": "stream",
     "text": [
      "Submitted batch job 11380474\n"
     ]
    }
   ],
   "source": [
    "### set environment on DCC\n",
    "FD_WRK=./model_kmer_sim\n",
    "FD_LOG=${FD_WRK}/log\n",
    "mkdir -p ${FD_LOG}\n",
    "\n",
    "sbatch -p scavenger \\\n",
    "    --mem 8G \\\n",
    "    -o ${FD_LOG}/model_trivial_v1.txt \\\n",
    "    <<'EOF'\n",
    "#!/bin/bash\n",
    "FD_WRK=./model_kmer_sim\n",
    "${FD_WRK}/model sample \\\n",
    "    thin=1 num_samples=1000 num_warmup=100 \\\n",
    "    init=${FD_WRK}/init.json \\\n",
    "    data   file=${FD_WRK}/input_trivial_v1.json \\\n",
    "    output file=${FD_WRK}/output_trivial_v1.csv\n",
    "EOF"
   ]
  },
  {
   "cell_type": "code",
   "execution_count": 86,
   "id": "0fe2f735-9951-4953-9b71-6655f0288c3e",
   "metadata": {},
   "outputs": [
    {
     "name": "stdout",
     "output_type": "stream",
     "text": [
      "Submitted batch job 11382199\n"
     ]
    }
   ],
   "source": [
    "### set environment on DCC\n",
    "FD_WRK=./model_kmer_sim\n",
    "FD_LOG=${FD_WRK}/log\n",
    "mkdir -p ${FD_LOG}\n",
    "\n",
    "sbatch -p scavenger \\\n",
    "    --mem 8G \\\n",
    "    -o ${FD_LOG}/model_trivial_v21.txt \\\n",
    "    <<'EOF'\n",
    "#!/bin/bash\n",
    "FD_WRK=./model_kmer_sim\n",
    "${FD_WRK}/model sample \\\n",
    "    thin=1 num_samples=1000 num_warmup=100 \\\n",
    "    init=${FD_WRK}/init.json \\\n",
    "    data   file=${FD_WRK}/input_trivial_v21.json \\\n",
    "    output file=${FD_WRK}/output_trivial_v21.csv\n",
    "EOF"
   ]
  },
  {
   "cell_type": "code",
   "execution_count": 87,
   "id": "e65bc1a6-c61e-4485-bfa4-c301d594f7bc",
   "metadata": {},
   "outputs": [
    {
     "name": "stdout",
     "output_type": "stream",
     "text": [
      "Submitted batch job 11382200\n"
     ]
    }
   ],
   "source": [
    "### set environment on DCC\n",
    "FD_WRK=./model_kmer_sim\n",
    "FD_LOG=${FD_WRK}/log\n",
    "mkdir -p ${FD_LOG}\n",
    "\n",
    "sbatch -p scavenger \\\n",
    "    --mem 8G \\\n",
    "    -o ${FD_LOG}/model_trivial_v22.txt \\\n",
    "    <<'EOF'\n",
    "#!/bin/bash\n",
    "FD_WRK=./model_kmer_sim\n",
    "${FD_WRK}/model sample \\\n",
    "    thin=1 num_samples=1000 num_warmup=100 \\\n",
    "    init=${FD_WRK}/init.json \\\n",
    "    data   file=${FD_WRK}/input_trivial_v22.json \\\n",
    "    output file=${FD_WRK}/output_trivial_v22.csv\n",
    "EOF"
   ]
  },
  {
   "cell_type": "code",
   "execution_count": 92,
   "id": "84f8bfaa-a614-4253-b22e-09f3dffa50ac",
   "metadata": {},
   "outputs": [
    {
     "name": "stdout",
     "output_type": "stream",
     "text": [
      "Submitted batch job 11382350\n"
     ]
    }
   ],
   "source": [
    "### set environment on DCC\n",
    "FD_WRK=./model_kmer_sim\n",
    "FD_LOG=${FD_WRK}/log\n",
    "mkdir -p ${FD_LOG}\n",
    "\n",
    "sbatch -p scavenger \\\n",
    "    --mem 8G \\\n",
    "    -o ${FD_LOG}/model_trivial_v31.txt \\\n",
    "    <<'EOF'\n",
    "#!/bin/bash\n",
    "FD_WRK=./model_kmer_sim\n",
    "${FD_WRK}/model sample \\\n",
    "    thin=1 num_samples=1000 num_warmup=1000 \\\n",
    "    init=${FD_WRK}/init.json \\\n",
    "    data   file=${FD_WRK}/input_trivial_v31.json \\\n",
    "    output file=${FD_WRK}/output_trivial_v31.csv\n",
    "EOF"
   ]
  },
  {
   "cell_type": "code",
   "execution_count": 93,
   "id": "688b2639-0550-4ab8-8384-5f54b4b181a3",
   "metadata": {},
   "outputs": [
    {
     "name": "stdout",
     "output_type": "stream",
     "text": [
      "Submitted batch job 11382351\n"
     ]
    }
   ],
   "source": [
    "### set environment on DCC\n",
    "FD_WRK=./model_kmer_sim\n",
    "FD_LOG=${FD_WRK}/log\n",
    "mkdir -p ${FD_LOG}\n",
    "\n",
    "sbatch -p scavenger \\\n",
    "    --mem 8G \\\n",
    "    -o ${FD_LOG}/model_trivial_v32.txt \\\n",
    "    <<'EOF'\n",
    "#!/bin/bash\n",
    "FD_WRK=./model_kmer_sim\n",
    "${FD_WRK}/model sample \\\n",
    "    thin=1 num_samples=1000 num_warmup=1000 \\\n",
    "    init=${FD_WRK}/init.json \\\n",
    "    data   file=${FD_WRK}/input_trivial_v32.json \\\n",
    "    output file=${FD_WRK}/output_trivial_v32.csv\n",
    "EOF"
   ]
  },
  {
   "cell_type": "code",
   "execution_count": 88,
   "id": "fee7b313-5ac4-4442-b140-f6b55ff1cd99",
   "metadata": {},
   "outputs": [
    {
     "name": "stdout",
     "output_type": "stream",
     "text": [
      "Submitted batch job 11382216\n"
     ]
    }
   ],
   "source": [
    "### set environment on DCC\n",
    "FD_WRK=./model_kmer_sim\n",
    "FD_LOG=${FD_WRK}/log\n",
    "mkdir -p ${FD_LOG}\n",
    "\n",
    "sbatch -p scavenger \\\n",
    "    --mem 8G \\\n",
    "    -o ${FD_LOG}/model_trivial_v41.txt \\\n",
    "    <<'EOF'\n",
    "#!/bin/bash\n",
    "FD_WRK=./model_kmer_sim\n",
    "${FD_WRK}/model sample \\\n",
    "    thin=1 num_samples=1000 num_warmup=1000 \\\n",
    "    init=${FD_WRK}/init.json \\\n",
    "    data   file=${FD_WRK}/input_trivial_v41.json \\\n",
    "    output file=${FD_WRK}/output_trivial_v41.csv\n",
    "EOF"
   ]
  },
  {
   "cell_type": "code",
   "execution_count": 89,
   "id": "1c8d4aca-7512-4958-a4c8-4d0e3b21d81a",
   "metadata": {},
   "outputs": [
    {
     "name": "stdout",
     "output_type": "stream",
     "text": [
      "Submitted batch job 11382217\n"
     ]
    }
   ],
   "source": [
    "### set environment on DCC\n",
    "FD_WRK=./model_kmer_sim\n",
    "FD_LOG=${FD_WRK}/log\n",
    "mkdir -p ${FD_LOG}\n",
    "\n",
    "sbatch -p scavenger \\\n",
    "    --mem 8G \\\n",
    "    -o ${FD_LOG}/model_trivial_v42.txt \\\n",
    "    <<'EOF'\n",
    "#!/bin/bash\n",
    "FD_WRK=./model_kmer_sim\n",
    "${FD_WRK}/model sample \\\n",
    "    thin=1 num_samples=1000 num_warmup=1000 \\\n",
    "    init=${FD_WRK}/init.json \\\n",
    "    data   file=${FD_WRK}/input_trivial_v42.json \\\n",
    "    output file=${FD_WRK}/output_trivial_v42.csv\n",
    "EOF"
   ]
  },
  {
   "cell_type": "code",
   "execution_count": null,
   "id": "99476d97-e7fc-4b0f-b95d-c10b981a778e",
   "metadata": {},
   "outputs": [],
   "source": []
  },
  {
   "cell_type": "code",
   "execution_count": null,
   "id": "0da19063-a9f5-4c7f-99e0-33be3e3fe934",
   "metadata": {},
   "outputs": [],
   "source": []
  },
  {
   "cell_type": "code",
   "execution_count": 45,
   "id": "502ff405-937e-4073-bae1-456c6c24f23d",
   "metadata": {},
   "outputs": [
    {
     "name": "stdout",
     "output_type": "stream",
     "text": [
      "Submitted batch job 11352221\n"
     ]
    }
   ],
   "source": [
    "### set environment on DCC\n",
    "FD_WRK=./model_kmer_sim\n",
    "FD_LOG=${FD_WRK}/log\n",
    "mkdir -p ${FD_LOG}\n",
    "\n",
    "sbatch -p scavenger \\\n",
    "    --mem 8G \\\n",
    "    -o ${FD_LOG}/model_null.txt \\\n",
    "    <<'EOF'\n",
    "#!/bin/bash\n",
    "FD_WRK=./model_kmer_sim\n",
    "${FD_WRK}/model sample \\\n",
    "    thin=1 num_samples=10 num_warmup=10 \\\n",
    "    init=${FD_WRK}/init.json \\\n",
    "    data   file=${FD_WRK}/input_null.json \\\n",
    "    output file=${FD_WRK}/output_null.csv\n",
    "EOF"
   ]
  },
  {
   "cell_type": "code",
   "execution_count": null,
   "id": "1025267d-c098-4c0b-9588-47fcbb02e1d9",
   "metadata": {},
   "outputs": [],
   "source": []
  }
 ],
 "metadata": {
  "kernelspec": {
   "display_name": "Bash",
   "language": "bash",
   "name": "bash"
  },
  "language_info": {
   "codemirror_mode": "shell",
   "file_extension": ".sh",
   "mimetype": "text/x-sh",
   "name": "bash"
  }
 },
 "nbformat": 4,
 "nbformat_minor": 5
}
