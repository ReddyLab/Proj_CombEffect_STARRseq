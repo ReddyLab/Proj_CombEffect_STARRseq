{
 "cells": [
  {
   "cell_type": "markdown",
   "id": "aaa186fe-ff10-430c-80bd-2139d9c0611d",
   "metadata": {},
   "source": [
    "## Input"
   ]
  },
  {
   "cell_type": "code",
   "execution_count": 21,
   "id": "e593222a-a1e9-44c3-91b5-60d455bc385c",
   "metadata": {},
   "outputs": [
    {
     "name": "stdout",
     "output_type": "stream",
     "text": [
      "Submitted batch job 11869503\n"
     ]
    }
   ],
   "source": [
    "### set environment on DCC\n",
    "module load Bedtools\n",
    "source config.sh\n",
    "FD_LOG=${FD_WRK}/log\n",
    "\n",
    "### run script using sbatch\n",
    "#sbatch -pnew,all \\\n",
    "sbatch -p scavenger \\\n",
    "    --array=0-5 \\\n",
    "    --mem 8G \\\n",
    "    -o ${FD_LOG}/bootstrap_input.%a.txt \\\n",
    "    <<'EOF'\n",
    "#!/bin/bash\n",
    "### set directories and global parameters\n",
    "source config.sh\n",
    "FD_BEDS=($(ls -d ${FD_WRK}/data/Input*/))\n",
    "CHROM=chr17\n",
    "SEED=123\n",
    "\n",
    "### set input\n",
    "FD_BED=${FD_BEDS[${SLURM_ARRAY_TASK_ID}]}\n",
    "FN_BED=${CHROM}.bed\n",
    "N=$(cat ${FD_BED}/${FN_BED} | wc -l)\n",
    "\n",
    "### print start message\n",
    "echo \"Slurm Array Index: \" ${SLURM_ARRAY_TASK_ID}\n",
    "echo \"Input  file:       \" ${FD_BED}/${FN_BED}\n",
    "echo \"Total #Lines:      \" ${N}\n",
    "echo\n",
    "echo \"Show the first few lines of the input file\"\n",
    "echo ${FD_BED}/${FN_BED}\n",
    "head ${FD_BED}/${FN_BED}\n",
    "\n",
    "### init: seed function\n",
    "get_seeded_random()\n",
    "{\n",
    "  seed=\"$1\";\n",
    "  openssl enc -aes-256-ctr -pass pass:\"$seed\" -nosalt </dev/zero 2>/dev/null;\n",
    "}\n",
    "\n",
    "### init: output directory\n",
    "FD_OUT=${FD_WRK}/bootstrap/$(basename $FD_BED)\n",
    "mkdir -p ${FD_OUT}\n",
    "\n",
    "### loop: bootstrapping lines in input bed files\n",
    "for i in {1..10}; do\n",
    "    ### set output & print message\n",
    "    FN_OUT=${CHROM}_B${i}.bed\n",
    "    seed=$(( $SEED + $i ))\n",
    "    echo\n",
    "    echo \"Output file: \" ${FD_OUT}/${FN_OUT}\n",
    "    echo \"Parameters:  SEED=${seed}\" \n",
    "    \n",
    "    ### random shuffle with replacement and sort\n",
    "    shuf -rn ${N} ${FD_BED}/${FN_BED} --random-source=<(get_seeded_random $seed) > ${FD_OUT}/tmp.bed\n",
    "    bedtools sort -i ${FD_OUT}/tmp.bed > ${FD_OUT}/${FN_OUT}\n",
    "    \n",
    "    ### print end message\n",
    "    echo\n",
    "    echo \"Show the first few lines of the output file\"\n",
    "    head -n 3 ${FD_OUT}/${FN_OUT}\n",
    "done\n",
    "\n",
    "echo\n",
    "echo \"Done\"\n",
    "\n",
    "EOF"
   ]
  },
  {
   "cell_type": "code",
   "execution_count": 22,
   "id": "e5fcf77c-f6d8-44cc-8d48-0914ca715125",
   "metadata": {},
   "outputs": [
    {
     "name": "stdout",
     "output_type": "stream",
     "text": [
      "Slurm Array Index:  1\n",
      "Input  file:        /work/kk319/out/CombEffect_STARR/data/Input1//chr17.bed\n",
      "Total #Lines:       630820\n",
      "\n",
      "Show the first few lines of the input file\n",
      "/work/kk319/out/CombEffect_STARR/data/Input1//chr17.bed\n",
      "chr17\t201123\t201925\n",
      "chr17\t201160\t201968\n",
      "chr17\t201202\t202074\n",
      "chr17\t201259\t202052\n",
      "chr17\t201366\t202130\n",
      "chr17\t206174\t207307\n",
      "chr17\t206269\t207286\n",
      "chr17\t206283\t207194\n",
      "chr17\t206324\t207359\n",
      "chr17\t206326\t207274\n",
      "\n",
      "Output file:  /work/kk319/out/CombEffect_STARR/bootstrap/Input1/chr17_B1.bed\n",
      "Parameters:  SEED=124\n",
      "\n",
      "Show the first few lines of the output file\n",
      "chr17\t201123\t201925\n",
      "chr17\t201123\t201925\n",
      "chr17\t201202\t202074\n",
      "\n",
      "Output file:  /work/kk319/out/CombEffect_STARR/bootstrap/Input1/chr17_B2.bed\n",
      "Parameters:  SEED=125\n",
      "\n",
      "Show the first few lines of the output file\n",
      "chr17\t201160\t201968\n",
      "chr17\t201160\t201968\n",
      "chr17\t201160\t201968\n",
      "\n",
      "Output file:  /work/kk319/out/CombEffect_STARR/bootstrap/Input1/chr17_B3.bed\n",
      "Parameters:  SEED=126\n",
      "\n",
      "Show the first few lines of the output file\n",
      "chr17\t201202\t202074\n",
      "chr17\t201366\t202130\n",
      "chr17\t206174\t207307\n",
      "\n",
      "Output file:  /work/kk319/out/CombEffect_STARR/bootstrap/Input1/chr17_B4.bed\n",
      "Parameters:  SEED=127\n",
      "\n",
      "Show the first few lines of the output file\n",
      "chr17\t201123\t201925\n",
      "chr17\t201123\t201925\n",
      "chr17\t201160\t201968\n",
      "\n",
      "Output file:  /work/kk319/out/CombEffect_STARR/bootstrap/Input1/chr17_B5.bed\n",
      "Parameters:  SEED=128\n",
      "\n",
      "Show the first few lines of the output file\n",
      "chr17\t201123\t201925\n",
      "chr17\t201123\t201925\n",
      "chr17\t201123\t201925\n",
      "\n",
      "Output file:  /work/kk319/out/CombEffect_STARR/bootstrap/Input1/chr17_B6.bed\n",
      "Parameters:  SEED=129\n",
      "\n",
      "Show the first few lines of the output file\n",
      "chr17\t201160\t201968\n",
      "chr17\t201202\t202074\n",
      "chr17\t201259\t202052\n",
      "\n",
      "Output file:  /work/kk319/out/CombEffect_STARR/bootstrap/Input1/chr17_B7.bed\n",
      "Parameters:  SEED=130\n",
      "\n",
      "Show the first few lines of the output file\n",
      "chr17\t201123\t201925\n",
      "chr17\t201123\t201925\n",
      "chr17\t201259\t202052\n",
      "\n",
      "Output file:  /work/kk319/out/CombEffect_STARR/bootstrap/Input1/chr17_B8.bed\n",
      "Parameters:  SEED=131\n",
      "\n",
      "Show the first few lines of the output file\n",
      "chr17\t201123\t201925\n",
      "chr17\t201123\t201925\n",
      "chr17\t201202\t202074\n",
      "\n",
      "Output file:  /work/kk319/out/CombEffect_STARR/bootstrap/Input1/chr17_B9.bed\n",
      "Parameters:  SEED=132\n",
      "\n",
      "Show the first few lines of the output file\n",
      "chr17\t201123\t201925\n",
      "chr17\t201123\t201925\n",
      "chr17\t201160\t201968\n",
      "\n",
      "Output file:  /work/kk319/out/CombEffect_STARR/bootstrap/Input1/chr17_B10.bed\n",
      "Parameters:  SEED=133\n",
      "\n",
      "Show the first few lines of the output file\n",
      "chr17\t201123\t201925\n",
      "chr17\t201123\t201925\n",
      "chr17\t201202\t202074\n",
      "\n",
      "Done\n"
     ]
    }
   ],
   "source": [
    "source config.sh\n",
    "FD_LOG=${FD_WRK}/log\n",
    "cat ${FD_LOG}/bootstrap_input.1.txt"
   ]
  },
  {
   "cell_type": "markdown",
   "id": "6f0b2fe3-3d14-404e-a4f6-f7f587f87953",
   "metadata": {},
   "source": [
    "## Output (DMSO)"
   ]
  },
  {
   "cell_type": "code",
   "execution_count": 23,
   "id": "37f87478-3d4f-417e-a7b8-9d1551b5d729",
   "metadata": {},
   "outputs": [
    {
     "name": "stdout",
     "output_type": "stream",
     "text": [
      "Submitted batch job 11869632\n"
     ]
    }
   ],
   "source": [
    "### set environment on DCC\n",
    "module load Bedtools\n",
    "source config.sh\n",
    "FD_LOG=${FD_WRK}/log\n",
    "\n",
    "### run script using sbatch\n",
    "#sbatch -pnew,all \\\n",
    "sbatch -p scavenger \\\n",
    "    --array=0-4 \\\n",
    "    --mem 8G \\\n",
    "    -o ${FD_LOG}/bootstrap_output_dmso.%a.txt \\\n",
    "    <<'EOF'\n",
    "#!/bin/bash\n",
    "### set directories and global parameters\n",
    "source config.sh\n",
    "FD_BEDS=($(ls -d ${FD_WRK}/data/TFX*_DMSO/))\n",
    "CHROM=chr17\n",
    "SEED=123\n",
    "\n",
    "### set input\n",
    "FD_BED=${FD_BEDS[${SLURM_ARRAY_TASK_ID}]}\n",
    "FN_BED=${CHROM}.bed\n",
    "N=$(cat ${FD_BED}/${FN_BED} | wc -l)\n",
    "\n",
    "### print start message\n",
    "echo \"Slurm Array Index: \" ${SLURM_ARRAY_TASK_ID}\n",
    "echo \"Input  file:       \" ${FD_BED}/${FN_BED}\n",
    "echo \"Total #Lines:      \" ${N}\n",
    "echo\n",
    "echo \"Show the first few lines of the input file\"\n",
    "echo ${FD_BED}/${FN_BED}\n",
    "head ${FD_BED}/${FN_BED}\n",
    "\n",
    "### init: seed function\n",
    "get_seeded_random()\n",
    "{\n",
    "  seed=\"$1\";\n",
    "  openssl enc -aes-256-ctr -pass pass:\"$seed\" -nosalt </dev/zero 2>/dev/null;\n",
    "}\n",
    "\n",
    "### init: output directory\n",
    "FD_OUT=${FD_WRK}/bootstrap/$(basename $FD_BED)\n",
    "mkdir -p ${FD_OUT}\n",
    "\n",
    "### loop: bootstrapping lines in input bed files\n",
    "for i in {1..10}; do\n",
    "    ### set output & print message\n",
    "    FN_OUT=${CHROM}_B${i}.bed\n",
    "    seed=$(( $SEED + $i ))\n",
    "    echo\n",
    "    echo \"Output file: \" ${FD_OUT}/${FN_OUT}\n",
    "    echo \"Parameters:  SEED=${seed}\" \n",
    "    \n",
    "    ### random shuffle with replacement and sort\n",
    "    shuf -rn ${N} ${FD_BED}/${FN_BED} --random-source=<(get_seeded_random $seed) > ${FD_OUT}/tmp.bed\n",
    "    bedtools sort -i ${FD_OUT}/tmp.bed > ${FD_OUT}/${FN_OUT}\n",
    "    \n",
    "    ### print end message\n",
    "    echo\n",
    "    echo \"Show the first few lines of the output file\"\n",
    "    head -n 3 ${FD_OUT}/${FN_OUT}\n",
    "done\n",
    "\n",
    "echo\n",
    "echo \"Done\"\n",
    "\n",
    "EOF"
   ]
  },
  {
   "cell_type": "code",
   "execution_count": 26,
   "id": "cd66735d-05a3-41c2-8bdb-c57261b902c5",
   "metadata": {},
   "outputs": [
    {
     "name": "stdout",
     "output_type": "stream",
     "text": [
      "Slurm Array Index:  1\n",
      "Input  file:        /work/kk319/out/CombEffect_STARR/data/TFX3_DMSO//chr17.bed\n",
      "Total #Lines:       1088938\n",
      "\n",
      "Show the first few lines of the input file\n",
      "/work/kk319/out/CombEffect_STARR/data/TFX3_DMSO//chr17.bed\n",
      "chr17\t159962\t160793\n",
      "chr17\t185415\t186343\n",
      "chr17\t201202\t202074\n",
      "chr17\t201202\t202073\n",
      "chr17\t201202\t202074\n",
      "chr17\t201205\t202074\n",
      "chr17\t201287\t202078\n",
      "chr17\t205401\t206360\n",
      "chr17\t206145\t207313\n",
      "chr17\t206145\t207313\n",
      "\n",
      "Output file:  /work/kk319/out/CombEffect_STARR/bootstrap/TFX3_DMSO/chr17_B1.bed\n",
      "Parameters:  SEED=124\n",
      "\n",
      "Show the first few lines of the output file\n",
      "chr17\t201202\t202074\n",
      "chr17\t201202\t202074\n",
      "chr17\t201202\t202074\n",
      "\n",
      "Output file:  /work/kk319/out/CombEffect_STARR/bootstrap/TFX3_DMSO/chr17_B2.bed\n",
      "Parameters:  SEED=125\n",
      "\n",
      "Show the first few lines of the output file\n",
      "chr17\t159962\t160793\n",
      "chr17\t185415\t186343\n",
      "chr17\t185415\t186343\n",
      "\n",
      "Output file:  /work/kk319/out/CombEffect_STARR/bootstrap/TFX3_DMSO/chr17_B3.bed\n",
      "Parameters:  SEED=126\n",
      "\n",
      "Show the first few lines of the output file\n",
      "chr17\t159962\t160793\n",
      "chr17\t201202\t202074\n",
      "chr17\t201202\t202074\n",
      "\n",
      "Output file:  /work/kk319/out/CombEffect_STARR/bootstrap/TFX3_DMSO/chr17_B4.bed\n",
      "Parameters:  SEED=127\n",
      "\n",
      "Show the first few lines of the output file\n",
      "chr17\t159962\t160793\n",
      "chr17\t185415\t186343\n",
      "chr17\t201202\t202073\n",
      "\n",
      "Output file:  /work/kk319/out/CombEffect_STARR/bootstrap/TFX3_DMSO/chr17_B5.bed\n",
      "Parameters:  SEED=128\n",
      "\n",
      "Show the first few lines of the output file\n",
      "chr17\t159962\t160793\n",
      "chr17\t159962\t160793\n",
      "chr17\t201202\t202074\n",
      "\n",
      "Output file:  /work/kk319/out/CombEffect_STARR/bootstrap/TFX3_DMSO/chr17_B6.bed\n",
      "Parameters:  SEED=129\n",
      "\n",
      "Show the first few lines of the output file\n",
      "chr17\t159962\t160793\n",
      "chr17\t185415\t186343\n",
      "chr17\t201202\t202073\n",
      "\n",
      "Output file:  /work/kk319/out/CombEffect_STARR/bootstrap/TFX3_DMSO/chr17_B7.bed\n",
      "Parameters:  SEED=130\n",
      "\n",
      "Show the first few lines of the output file\n",
      "chr17\t159962\t160793\n",
      "chr17\t185415\t186343\n",
      "chr17\t201202\t202074\n",
      "\n",
      "Output file:  /work/kk319/out/CombEffect_STARR/bootstrap/TFX3_DMSO/chr17_B8.bed\n",
      "Parameters:  SEED=131\n",
      "\n",
      "Show the first few lines of the output file\n",
      "chr17\t185415\t186343\n",
      "chr17\t201202\t202074\n",
      "chr17\t201202\t202073\n",
      "\n",
      "Output file:  /work/kk319/out/CombEffect_STARR/bootstrap/TFX3_DMSO/chr17_B9.bed\n",
      "Parameters:  SEED=132\n",
      "\n",
      "Show the first few lines of the output file\n",
      "chr17\t185415\t186343\n",
      "chr17\t201202\t202074\n",
      "chr17\t201202\t202074\n",
      "\n",
      "Output file:  /work/kk319/out/CombEffect_STARR/bootstrap/TFX3_DMSO/chr17_B10.bed\n",
      "Parameters:  SEED=133\n",
      "\n",
      "Show the first few lines of the output file\n",
      "chr17\t201202\t202074\n",
      "chr17\t201205\t202074\n",
      "chr17\t201287\t202078\n",
      "\n",
      "Done\n"
     ]
    }
   ],
   "source": [
    "source config.sh\n",
    "FD_LOG=${FD_WRK}/log\n",
    "cat ${FD_LOG}/bootstrap_output_dmso.1.txt"
   ]
  },
  {
   "cell_type": "markdown",
   "id": "ef145eaf-6048-4c84-844b-baaa6edc09f1",
   "metadata": {},
   "source": [
    "## Output (Dex)"
   ]
  },
  {
   "cell_type": "code",
   "execution_count": 24,
   "id": "2ae5414e-67af-428b-a535-142c8b9ca314",
   "metadata": {},
   "outputs": [
    {
     "name": "stdout",
     "output_type": "stream",
     "text": [
      "Submitted batch job 11869674\n"
     ]
    }
   ],
   "source": [
    "### set environment on DCC\n",
    "module load Bedtools\n",
    "source config.sh\n",
    "FD_LOG=${FD_WRK}/log\n",
    "\n",
    "### run script using sbatch\n",
    "#sbatch -pnew,all \\\n",
    "sbatch -p scavenger \\\n",
    "    --array=0-4 \\\n",
    "    --mem 8G \\\n",
    "    -o ${FD_LOG}/bootstrap_output_dex.%a.txt \\\n",
    "    <<'EOF'\n",
    "#!/bin/bash\n",
    "### set directories and global parameters\n",
    "source config.sh\n",
    "FD_BEDS=($(ls -d ${FD_WRK}/data/TFX*_Dex/))\n",
    "CHROM=chr17\n",
    "SEED=123\n",
    "\n",
    "### set input\n",
    "FD_BED=${FD_BEDS[${SLURM_ARRAY_TASK_ID}]}\n",
    "FN_BED=${CHROM}.bed\n",
    "N=$(cat ${FD_BED}/${FN_BED} | wc -l)\n",
    "\n",
    "### print start message\n",
    "echo \"Slurm Array Index: \" ${SLURM_ARRAY_TASK_ID}\n",
    "echo \"Input  file:       \" ${FD_BED}/${FN_BED}\n",
    "echo \"Total #Lines:      \" ${N}\n",
    "echo\n",
    "echo \"Show the first few lines of the input file\"\n",
    "echo ${FD_BED}/${FN_BED}\n",
    "head ${FD_BED}/${FN_BED}\n",
    "\n",
    "### init: seed function\n",
    "get_seeded_random()\n",
    "{\n",
    "  seed=\"$1\";\n",
    "  openssl enc -aes-256-ctr -pass pass:\"$seed\" -nosalt </dev/zero 2>/dev/null;\n",
    "}\n",
    "\n",
    "### init: output directory\n",
    "FD_OUT=${FD_WRK}/bootstrap/$(basename $FD_BED)\n",
    "mkdir -p ${FD_OUT}\n",
    "\n",
    "### loop: bootstrapping lines in input bed files\n",
    "for i in {1..10}; do\n",
    "    ### set output & print message\n",
    "    FN_OUT=${CHROM}_B${i}.bed\n",
    "    seed=$(( $SEED + $i ))\n",
    "    echo\n",
    "    echo \"Output file: \" ${FD_OUT}/${FN_OUT}\n",
    "    echo \"Parameters:  SEED=${seed}\" \n",
    "    \n",
    "    ### random shuffle with replacement and sort\n",
    "    shuf -rn ${N} ${FD_BED}/${FN_BED} --random-source=<(get_seeded_random $seed) > ${FD_OUT}/tmp.bed\n",
    "    bedtools sort -i ${FD_OUT}/tmp.bed > ${FD_OUT}/${FN_OUT}\n",
    "    \n",
    "    ### print end message\n",
    "    echo\n",
    "    echo \"Show the first few lines of the output file\"\n",
    "    head -n 3 ${FD_OUT}/${FN_OUT}\n",
    "done\n",
    "\n",
    "echo\n",
    "echo \"Done\"\n",
    "\n",
    "EOF"
   ]
  },
  {
   "cell_type": "code",
   "execution_count": 29,
   "id": "e43f1c56-ce97-452f-a069-537bc8cc1acc",
   "metadata": {},
   "outputs": [
    {
     "name": "stdout",
     "output_type": "stream",
     "text": [
      "Slurm Array Index:  1\n",
      "Input  file:        /work/kk319/out/CombEffect_STARR/data/TFX3_Dex//chr17.bed\n",
      "Total #Lines:       1102681\n",
      "\n",
      "Show the first few lines of the input file\n",
      "/work/kk319/out/CombEffect_STARR/data/TFX3_Dex//chr17.bed\n",
      "chr17\t120738\t123102\n",
      "chr17\t169749\t171139\n",
      "chr17\t182083\t183038\n",
      "chr17\t197577\t198557\n",
      "chr17\t205592\t206544\n",
      "chr17\t205592\t206545\n",
      "chr17\t205592\t206545\n",
      "chr17\t205594\t206545\n",
      "chr17\t205594\t206544\n",
      "chr17\t205646\t206631\n",
      "\n",
      "Output file:  /work/kk319/out/CombEffect_STARR/bootstrap/TFX3_Dex/chr17_B1.bed\n",
      "Parameters:  SEED=124\n",
      "\n",
      "Show the first few lines of the output file\n",
      "chr17\t120738\t123102\n",
      "chr17\t120738\t123102\n",
      "chr17\t169749\t171139\n",
      "\n",
      "Output file:  /work/kk319/out/CombEffect_STARR/bootstrap/TFX3_Dex/chr17_B2.bed\n",
      "Parameters:  SEED=125\n",
      "\n",
      "Show the first few lines of the output file\n",
      "chr17\t169749\t171139\n",
      "chr17\t169749\t171139\n",
      "chr17\t169749\t171139\n",
      "\n",
      "Output file:  /work/kk319/out/CombEffect_STARR/bootstrap/TFX3_Dex/chr17_B3.bed\n",
      "Parameters:  SEED=126\n",
      "\n",
      "Show the first few lines of the output file\n",
      "chr17\t120738\t123102\n",
      "chr17\t169749\t171139\n",
      "chr17\t205592\t206545\n",
      "\n",
      "Output file:  /work/kk319/out/CombEffect_STARR/bootstrap/TFX3_Dex/chr17_B4.bed\n",
      "Parameters:  SEED=127\n",
      "\n",
      "Show the first few lines of the output file\n",
      "chr17\t169749\t171139\n",
      "chr17\t169749\t171139\n",
      "chr17\t197577\t198557\n",
      "\n",
      "Output file:  /work/kk319/out/CombEffect_STARR/bootstrap/TFX3_Dex/chr17_B5.bed\n",
      "Parameters:  SEED=128\n",
      "\n",
      "Show the first few lines of the output file\n",
      "chr17\t169749\t171139\n",
      "chr17\t169749\t171139\n",
      "chr17\t182083\t183038\n",
      "\n",
      "Output file:  /work/kk319/out/CombEffect_STARR/bootstrap/TFX3_Dex/chr17_B6.bed\n",
      "Parameters:  SEED=129\n",
      "\n",
      "Show the first few lines of the output file\n",
      "chr17\t120738\t123102\n",
      "chr17\t120738\t123102\n",
      "chr17\t169749\t171139\n",
      "\n",
      "Output file:  /work/kk319/out/CombEffect_STARR/bootstrap/TFX3_Dex/chr17_B7.bed\n",
      "Parameters:  SEED=130\n",
      "\n",
      "Show the first few lines of the output file\n",
      "chr17\t197577\t198557\n",
      "chr17\t205592\t206545\n",
      "chr17\t205592\t206544\n",
      "\n",
      "Output file:  /work/kk319/out/CombEffect_STARR/bootstrap/TFX3_Dex/chr17_B8.bed\n",
      "Parameters:  SEED=131\n",
      "\n",
      "Show the first few lines of the output file\n",
      "chr17\t120738\t123102\n",
      "chr17\t197577\t198557\n",
      "chr17\t197577\t198557\n",
      "\n",
      "Output file:  /work/kk319/out/CombEffect_STARR/bootstrap/TFX3_Dex/chr17_B9.bed\n",
      "Parameters:  SEED=132\n"
     ]
    }
   ],
   "source": [
    "source config.sh\n",
    "FD_LOG=${FD_WRK}/log\n",
    "cat ${FD_LOG}/bootstrap_output_dex.1.txt"
   ]
  },
  {
   "cell_type": "code",
   "execution_count": null,
   "id": "8f962e74-38d2-4842-abb4-81e31ffb5904",
   "metadata": {},
   "outputs": [],
   "source": []
  },
  {
   "cell_type": "code",
   "execution_count": null,
   "id": "81c09328-c02b-469b-a6ed-87da4e8a42ae",
   "metadata": {},
   "outputs": [],
   "source": []
  },
  {
   "cell_type": "code",
   "execution_count": 6,
   "id": "8c20f32e-5b67-469d-992b-d0e5e07c5383",
   "metadata": {},
   "outputs": [
    {
     "name": "stdout",
     "output_type": "stream",
     "text": [
      "chr17\t8232434\t8233435\n",
      "chr17\t42935759\t42936631\n",
      "chr17\t79599365\t79600407\n",
      "chr17\t15433887\t15434759\n",
      "chr17\t53233301\t53234247\n",
      "chr17\t10736377\t10737276\n",
      "chr17\t42191341\t42192170\n",
      "chr17\t41433508\t41434389\n",
      "chr17\t49683106\t49684032\n",
      "chr17\t58511444\t58512366\n"
     ]
    }
   ],
   "source": [
    "head /work/kk319/out/CombEffect_STARR/bootstrap/Input1/chr17_B1.bed"
   ]
  },
  {
   "cell_type": "code",
   "execution_count": 12,
   "id": "bcbcfff3-8997-4647-9a91-b97d3e71711c",
   "metadata": {},
   "outputs": [],
   "source": [
    "head /work/kk319/out/CombEffect_STARR/bootstrap/Input1/chr17_B1.bed > test_unsort.bed"
   ]
  },
  {
   "cell_type": "code",
   "execution_count": 13,
   "id": "ae6769ef-41c6-4134-bde0-279d6b97a4f7",
   "metadata": {},
   "outputs": [
    {
     "name": "stdout",
     "output_type": "stream",
     "text": [
      "chr17\t8232434\t8233435\n",
      "chr17\t42935759\t42936631\n",
      "chr17\t79599365\t79600407\n",
      "chr17\t15433887\t15434759\n",
      "chr17\t53233301\t53234247\n",
      "chr17\t10736377\t10737276\n",
      "chr17\t42191341\t42192170\n",
      "chr17\t41433508\t41434389\n",
      "chr17\t49683106\t49684032\n",
      "chr17\t58511444\t58512366\n"
     ]
    }
   ],
   "source": [
    "cat test_unsort.bed"
   ]
  },
  {
   "cell_type": "code",
   "execution_count": 14,
   "id": "c35c1427-b9b1-4082-8359-76bdd8c600c8",
   "metadata": {},
   "outputs": [
    {
     "name": "stdout",
     "output_type": "stream",
     "text": [
      "chr17\t8232434\t8233435\n",
      "chr17\t10736377\t10737276\n",
      "chr17\t15433887\t15434759\n",
      "chr17\t41433508\t41434389\n",
      "chr17\t42191341\t42192170\n",
      "chr17\t42935759\t42936631\n",
      "chr17\t49683106\t49684032\n",
      "chr17\t53233301\t53234247\n",
      "chr17\t58511444\t58512366\n",
      "chr17\t79599365\t79600407\n"
     ]
    }
   ],
   "source": [
    "bedtools sort -i test_unsort.bed"
   ]
  },
  {
   "cell_type": "code",
   "execution_count": 15,
   "id": "de8fe53f-3a5d-45f9-8356-6a28c139b172",
   "metadata": {},
   "outputs": [],
   "source": [
    "bedtools sort -i test_unsort.bed > test_sort.bed"
   ]
  },
  {
   "cell_type": "code",
   "execution_count": 16,
   "id": "93bd2467-8247-4728-a4cb-e320c3146a4b",
   "metadata": {},
   "outputs": [
    {
     "name": "stdout",
     "output_type": "stream",
     "text": [
      "chr17\t8232434\t8233435\n",
      "chr17\t10736377\t10737276\n",
      "chr17\t15433887\t15434759\n",
      "chr17\t41433508\t41434389\n",
      "chr17\t42191341\t42192170\n",
      "chr17\t42935759\t42936631\n",
      "chr17\t49683106\t49684032\n",
      "chr17\t53233301\t53234247\n",
      "chr17\t58511444\t58512366\n",
      "chr17\t79599365\t79600407\n"
     ]
    }
   ],
   "source": [
    "cat test_sort.bed"
   ]
  },
  {
   "cell_type": "code",
   "execution_count": null,
   "id": "f6341072-d7d8-47a6-a90d-6412bc5f9720",
   "metadata": {},
   "outputs": [],
   "source": []
  },
  {
   "cell_type": "code",
   "execution_count": 3,
   "id": "113c087c-daa3-49f2-b202-975542a883e4",
   "metadata": {},
   "outputs": [
    {
     "name": "stdout",
     "output_type": "stream",
     "text": [
      "124\n",
      "125\n",
      "126\n",
      "127\n",
      "128\n"
     ]
    }
   ],
   "source": [
    "SEED=123\n",
    "for i in {1..5}; do\n",
    "    seed=$(( $SEED + $i ))\n",
    "    echo $seed\n",
    "done"
   ]
  },
  {
   "cell_type": "code",
   "execution_count": null,
   "id": "2febdeb8-80cb-4853-b813-4ac2e052c6f0",
   "metadata": {},
   "outputs": [],
   "source": []
  },
  {
   "cell_type": "code",
   "execution_count": null,
   "id": "dd3b9d9e-05c7-4cd5-9370-43623c5cacde",
   "metadata": {},
   "outputs": [],
   "source": []
  },
  {
   "cell_type": "code",
   "execution_count": null,
   "id": "79f06b7a-1067-4712-afe5-ea4fbb0dabad",
   "metadata": {},
   "outputs": [],
   "source": [
    "### set environment on DCC\n",
    "module load Bedtools\n",
    "source config.sh\n",
    "FD_LOG=${FD_WRK}/log\n",
    "\n",
    "### run script using sbatch\n",
    "#sbatch -pnew,all \\\n",
    "sbatch -p scavenger \\\n",
    "    --array=0-5 \\\n",
    "    --mem 8G \\\n",
    "    -o ${FD_LOG}/kmer_count_per1_input_chr17.%a.txt \\\n",
    "    <<'EOF'\n",
    "#!/bin/bash\n",
    "### set directories and global parameters\n",
    "source config.sh\n",
    "FD_BEDS=($(ls -d ${FD_WRK}/data/Input*/))\n",
    "CHROM=chr17\n",
    "TARGET=PER1\n",
    "\n",
    "### set input files\n",
    "FD_BED=${FD_BEDS[${SLURM_ARRAY_TASK_ID}]}\n",
    "FN_BED=${CHROM}.bed\n",
    "\n",
    "FD_KMR=${FD_WRK}/kmer\n",
    "FN_KMR=kmer_${TARGET}.bed\n",
    "\n",
    "### set output files\n",
    "FD_OUT=${FD_KMR}/$(basename ${FD_BED})\n",
    "FN_OUT=kmer_PER1.bedpe\n",
    "\n",
    "FD_CNT=${FD_KMR}/$(basename ${FD_BED})\n",
    "FN_CNT=kmer_PER1_count.bed\n",
    "\n",
    "### print start message\n",
    "echo \"Slurm Array Index: \" ${SLURM_ARRAY_TASK_ID}\n",
    "echo \"Input  file:       \" ${FD_KMR}/${FN_KMR}\n",
    "echo \"Input  file:       \" ${FD_BED}/${FN_BED}\n",
    "echo \"Output file:       \" ${FD_OUT}/${FN_OUT}\n",
    "echo \"Output file:       \" ${FD_CNT}/${FN_CNT}\n",
    "echo\n",
    "echo \"Show the first few lines of the input file\"\n",
    "echo ${FD_BED}/${FN_BED}\n",
    "head ${FD_BED}/${FN_BED}\n",
    "echo\n",
    "echo \"Show the first few lines of the input file\"\n",
    "echo ${FD_KMR}/${FN_KMR}\n",
    "head ${FD_KMR}/${FN_KMR}\n",
    "\n",
    "### init: create folder\n",
    "mkdir -p ${FD_OUT}\n",
    "\n",
    "### intersect\n",
    "FP_BED_A=${FD_KMR}/${FN_KMR}\n",
    "FP_BED_B=${FD_BED}/${FN_BED}\n",
    "FP_BED_O=${FD_OUT}/${FN_OUT}\n",
    "bedtools intersect -a ${FP_BED_A} -b ${FP_BED_B} -wo > ${FP_BED_O}\n",
    "\n",
    "### count the kmers\n",
    "cat ${FP_BED_O} |\\\n",
    "    awk -F $'\\t' '($7 == 750)' |\\\n",
    "    cut -f1-3 |\\\n",
    "    uniq -c   |\\\n",
    "    awk '{$(NF+1)=$1;$1=\"\"}1'   |\\\n",
    "    sed -e 's/^[[:space:]]*//'  |\\\n",
    "    sed -e 's/[[:space:]]/\\t/g' > ${FD_CNT}/${FN_CNT}\n",
    "\n",
    "### print end message\n",
    "echo\n",
    "echo \"Show the first few lines of the output file\"\n",
    "echo ${FD_OUT}/${FN_OUT}\n",
    "head ${FD_OUT}/${FN_OUT}\n",
    "echo\n",
    "echo \"Show the first few lines of the output file\"\n",
    "echo ${FD_CNT}/${FN_CNT}\n",
    "head ${FD_CNT}/${FN_CNT}"
   ]
  },
  {
   "cell_type": "code",
   "execution_count": null,
   "id": "78ae3b4c-143b-49d8-826a-c3b981a2955c",
   "metadata": {},
   "outputs": [],
   "source": []
  },
  {
   "cell_type": "code",
   "execution_count": null,
   "id": "5b2aa383-5fc7-4f28-a634-6487e454ed6c",
   "metadata": {},
   "outputs": [],
   "source": []
  },
  {
   "cell_type": "code",
   "execution_count": null,
   "id": "8e370a65-3b64-42d1-a1a3-449597543972",
   "metadata": {},
   "outputs": [],
   "source": []
  },
  {
   "cell_type": "code",
   "execution_count": null,
   "id": "bad7a53f-7f30-45e0-b48d-230096beeac5",
   "metadata": {},
   "outputs": [],
   "source": []
  },
  {
   "cell_type": "code",
   "execution_count": null,
   "id": "0fb9f1d8-4141-419f-814e-f854055a2a08",
   "metadata": {},
   "outputs": [],
   "source": []
  },
  {
   "cell_type": "code",
   "execution_count": 1,
   "id": "65d2ef1e-8cef-4a05-a731-939f90791cff",
   "metadata": {},
   "outputs": [],
   "source": [
    "%%bash\n",
    "cat > shuf_with_seed.sh << EOF\n",
    "#!/bin/bash\n",
    "\n",
    "# seeding adopted from https://stackoverflow.com/a/41962458/7820599\n",
    "get_seeded_random()\n",
    "{\n",
    "  seed=\"$1\";\n",
    "  openssl enc -aes-256-ctr -pass pass:\"$seed\" -nosalt \\\n",
    "    </dev/zero 2>/dev/null;\n",
    "}\n",
    "\n",
    "seed=0;\n",
    "\n",
    "# Option parsing adopted from https://stackoverflow.com/a/14203146\n",
    "REST=\"\"\n",
    "while [[ $# -gt 0 ]]\n",
    "do\n",
    "    key=\"$1\"\n",
    "    case $key in\n",
    "    -s)\n",
    "        seed=\"$2\"\n",
    "        shift\n",
    "        shift\n",
    "        ;;\n",
    "    *)    # unknown option\n",
    "        REST=\"$REST $1\"\n",
    "        shift # past argument\n",
    "        ;;\n",
    "    esac\n",
    "done\n",
    "\n",
    "shuf --random-source=<(get_seeded_random $seed) $REST\n",
    "EOF"
   ]
  },
  {
   "cell_type": "code",
   "execution_count": 2,
   "id": "37e8187e-6fd5-457d-9170-2f63df63767a",
   "metadata": {},
   "outputs": [
    {
     "name": "stdout",
     "output_type": "stream",
     "text": [
      "#!/bin/bash\n",
      "\n",
      "# seeding adopted from https://stackoverflow.com/a/41962458/7820599\n",
      "get_seeded_random()\n",
      "{\n",
      "  seed=\"\";\n",
      "  openssl enc -aes-256-ctr -pass pass:\"\" -nosalt     </dev/zero 2>/dev/null;\n",
      "}\n",
      "\n",
      "seed=0;\n",
      "\n",
      "# Option parsing adopted from https://stackoverflow.com/a/14203146\n",
      "REST=\"\"\n",
      "while [[ 0 -gt 0 ]]\n",
      "do\n",
      "    key=\"\"\n",
      "    case  in\n",
      "    -s)\n",
      "        seed=\"\"\n",
      "        shift\n",
      "        shift\n",
      "        ;;\n",
      "    *)    # unknown option\n",
      "        REST=\" \"\n",
      "        shift # past argument\n",
      "        ;;\n",
      "    esac\n",
      "done\n",
      "\n",
      "shuf --random-source=<(get_seeded_random ) \n"
     ]
    }
   ],
   "source": [
    "cat shuf_with_seed.sh"
   ]
  },
  {
   "cell_type": "code",
   "execution_count": 5,
   "id": "5d9fe360-9ed3-4b53-81a8-2a10723cb184",
   "metadata": {},
   "outputs": [
    {
     "name": "stdout",
     "output_type": "stream",
     "text": [
      "1\n",
      "2\n",
      "3\n",
      "4\n",
      "5\n"
     ]
    }
   ],
   "source": [
    "%%bash\n",
    "cat > test_shuf.txt << EOF\n",
    "1\n",
    "2\n",
    "3\n",
    "4\n",
    "5\n",
    "EOF\n",
    "\n",
    "cat test_shuf.txt"
   ]
  },
  {
   "cell_type": "code",
   "execution_count": 13,
   "id": "99fe5de4-7215-43ac-9a4e-ea1798a7b6c4",
   "metadata": {},
   "outputs": [
    {
     "name": "stdout",
     "output_type": "stream",
     "text": [
      "1\n",
      "2\n",
      "3\n",
      "4\n",
      "5\n"
     ]
    }
   ],
   "source": [
    "sort test_shuf.txt"
   ]
  },
  {
   "cell_type": "code",
   "execution_count": 11,
   "id": "81b864f5-9ea1-4beb-a43e-39063ac5d53c",
   "metadata": {},
   "outputs": [
    {
     "name": "stdout",
     "output_type": "stream",
     "text": [
      "4\n",
      "2\n",
      "4\n",
      "4\n",
      "2\n",
      "1\n",
      "1\n",
      "2\n",
      "1\n",
      "3\n"
     ]
    }
   ],
   "source": [
    "%%bash\n",
    "shuf -r -n 10 test_shuf.txt"
   ]
  },
  {
   "cell_type": "code",
   "execution_count": 18,
   "id": "1e93095e-4b37-48a0-86a5-c0bf84baac86",
   "metadata": {},
   "outputs": [
    {
     "name": "stdout",
     "output_type": "stream",
     "text": [
      "5\n"
     ]
    }
   ],
   "source": [
    "%%bash\n",
    "cat test_shuf.txt | wc -l"
   ]
  },
  {
   "cell_type": "code",
   "execution_count": 22,
   "id": "f963f563-b201-4699-a052-0d9679fe03a3",
   "metadata": {},
   "outputs": [
    {
     "name": "stdout",
     "output_type": "stream",
     "text": [
      "5\n",
      "+++++++++++++++++++++\n",
      "4\n",
      "3\n",
      "3\n",
      "1\n",
      "2\n"
     ]
    }
   ],
   "source": [
    "%%bash\n",
    "FPATH=test_shuf.txt\n",
    "N=$(cat ${FPATH} | wc -l)\n",
    "echo $N\n",
    "echo +++++++++++++++++++++\n",
    "shuf -rn $N $FPATH"
   ]
  },
  {
   "cell_type": "code",
   "execution_count": 36,
   "id": "0827382c-d67f-4e59-b38f-bcac234f4443",
   "metadata": {},
   "outputs": [
    {
     "name": "stdout",
     "output_type": "stream",
     "text": [
      "1\n",
      "2\n",
      "3\n"
     ]
    }
   ],
   "source": [
    "%%bash\n",
    "for i in {1..3}; do\n",
    "echo $i\n",
    "done"
   ]
  },
  {
   "cell_type": "code",
   "execution_count": 40,
   "id": "09f6ac4f-bcf4-4a55-b4f5-b3bc9a65c7bc",
   "metadata": {},
   "outputs": [
    {
     "name": "stdout",
     "output_type": "stream",
     "text": [
      "5\n",
      "+++++++++++ Shuf No Seed ++++++++++\n",
      "3\n",
      "2\n",
      "1\n",
      "2\n",
      "5\n",
      "+++++++++++ Shuf Seed 123 ++++++++++\n",
      "1\n",
      "5\n",
      "1\n",
      "3\n",
      "3\n",
      "+++++++++++ Shuf No Seed ++++++++++\n",
      "4\n",
      "2\n",
      "2\n",
      "5\n",
      "2\n",
      "+++++++++++ Shuf Seed 123 ++++++++++\n",
      "1\n",
      "5\n",
      "1\n",
      "3\n",
      "3\n",
      "+++++++++++ Shuf No Seed ++++++++++\n",
      "1\n",
      "4\n",
      "5\n",
      "3\n",
      "3\n",
      "+++++++++++ Shuf Seed 123 ++++++++++\n",
      "1\n",
      "5\n",
      "1\n",
      "3\n",
      "3\n"
     ]
    }
   ],
   "source": [
    "%%bash\n",
    "get_seeded_random()\n",
    "{\n",
    "  seed=\"$1\";\n",
    "  openssl enc -aes-256-ctr -pass pass:\"$seed\" -nosalt </dev/zero 2>/dev/null;\n",
    "}\n",
    "\n",
    "FPATH=test_shuf.txt\n",
    "N=$(cat ${FPATH} | wc -l)\n",
    "echo $N\n",
    "\n",
    "for i in {1..3}; do \n",
    "    echo +++++++++++ Shuf No Seed  ++++++++++\n",
    "    shuf -rn $N $FPATH\n",
    "    echo +++++++++++ Shuf Seed 123 ++++++++++\n",
    "    SEED=123\n",
    "    shuf -rn $N $FPATH --random-source=<(get_seeded_random $SEED)\n",
    "done"
   ]
  },
  {
   "cell_type": "code",
   "execution_count": 42,
   "id": "f4814180-747d-48f9-b456-4f9ed2d805a6",
   "metadata": {},
   "outputs": [
    {
     "name": "stdout",
     "output_type": "stream",
     "text": [
      "A\n",
      "B\n",
      "C\n",
      "D\n"
     ]
    }
   ],
   "source": [
    "%%bash\n",
    "cat > test_lines.txt << EOF\n",
    "A\n",
    "B\n",
    "C\n",
    "D\n",
    "EOF\n",
    "\n",
    "cat test_lines.txt"
   ]
  },
  {
   "cell_type": "code",
   "execution_count": 49,
   "id": "ed741e00-811b-4970-8c0f-2454b58697a4",
   "metadata": {},
   "outputs": [
    {
     "name": "stdout",
     "output_type": "stream",
     "text": [
      "D\n"
     ]
    }
   ],
   "source": [
    "%%bash\n",
    "ARRAY_IDX=4\n",
    "idx=$(sed -n \"${ARRAY_IDX}p\" test_lines); echo $idx"
   ]
  },
  {
   "cell_type": "code",
   "execution_count": 19,
   "id": "64aa8bc6-592e-452c-86fd-7dc34feb969b",
   "metadata": {},
   "outputs": [
    {
     "name": "stdout",
     "output_type": "stream",
     "text": [
      "1\n",
      "7\n",
      "6\n",
      "1\n",
      "3\n",
      "1\n",
      "4\n",
      "5\n",
      "9\n",
      "10\n"
     ]
    }
   ],
   "source": [
    "%%bash\n",
    "\n",
    "seq 10 > input\n",
    "shuf -rn $(cat input | wc -l) input"
   ]
  },
  {
   "cell_type": "code",
   "execution_count": null,
   "id": "3b55b05d-e914-4965-8d84-1099cd6d27cd",
   "metadata": {},
   "outputs": [],
   "source": []
  },
  {
   "cell_type": "code",
   "execution_count": null,
   "id": "50934f2c-5caa-4acf-acb6-0bb4c609cc09",
   "metadata": {},
   "outputs": [],
   "source": []
  },
  {
   "cell_type": "code",
   "execution_count": null,
   "id": "a186b294-bbd5-4336-a70c-a44b0073702a",
   "metadata": {},
   "outputs": [],
   "source": [
    "# seeding adopted from https://stackoverflow.com/a/41962458/7820599\n",
    "get_seeded_random()\n",
    "{\n",
    "  seed=\"$1\";\n",
    "  openssl enc -aes-256-ctr -pass pass:\"$seed\" -nosalt \\\n",
    "    </dev/zero 2>/dev/null;\n",
    "}\n"
   ]
  },
  {
   "cell_type": "code",
   "execution_count": null,
   "id": "6e271ca6-7d25-4418-85ae-b8d6f6aee2e4",
   "metadata": {},
   "outputs": [],
   "source": []
  },
  {
   "cell_type": "code",
   "execution_count": 8,
   "id": "e233561e-c961-465a-a2f9-d1debdbcc217",
   "metadata": {},
   "outputs": [
    {
     "name": "stderr",
     "output_type": "stream",
     "text": [
      "./shuf_with_seed.sh: line 18: syntax error near unexpected token `-s'\n",
      "./shuf_with_seed.sh: line 18: `    -s)'\n"
     ]
    },
    {
     "ename": "CalledProcessError",
     "evalue": "Command 'b'chmod +x shuf_with_seed.sh\\nSEED=123\\n./shuf_with_seed.sh $SEED -r -n 10 test_shuf.txt\\n'' returned non-zero exit status 2.",
     "output_type": "error",
     "traceback": [
      "\u001b[0;31m---------------------------------------------------------------------------\u001b[0m",
      "\u001b[0;31mCalledProcessError\u001b[0m                        Traceback (most recent call last)",
      "\u001b[0;32m<ipython-input-8-04f12ab25844>\u001b[0m in \u001b[0;36m<module>\u001b[0;34m\u001b[0m\n\u001b[0;32m----> 1\u001b[0;31m \u001b[0mget_ipython\u001b[0m\u001b[0;34m(\u001b[0m\u001b[0;34m)\u001b[0m\u001b[0;34m.\u001b[0m\u001b[0mrun_cell_magic\u001b[0m\u001b[0;34m(\u001b[0m\u001b[0;34m'bash'\u001b[0m\u001b[0;34m,\u001b[0m \u001b[0;34m''\u001b[0m\u001b[0;34m,\u001b[0m \u001b[0;34m'chmod +x shuf_with_seed.sh\\nSEED=123\\n./shuf_with_seed.sh $SEED -r -n 10 test_shuf.txt\\n'\u001b[0m\u001b[0;34m)\u001b[0m\u001b[0;34m\u001b[0m\u001b[0;34m\u001b[0m\u001b[0m\n\u001b[0m",
      "\u001b[0;32m~/venv/env_jupyter/lib/python3.7/site-packages/IPython/core/interactiveshell.py\u001b[0m in \u001b[0;36mrun_cell_magic\u001b[0;34m(self, magic_name, line, cell)\u001b[0m\n\u001b[1;32m   2401\u001b[0m             \u001b[0;32mwith\u001b[0m \u001b[0mself\u001b[0m\u001b[0;34m.\u001b[0m\u001b[0mbuiltin_trap\u001b[0m\u001b[0;34m:\u001b[0m\u001b[0;34m\u001b[0m\u001b[0;34m\u001b[0m\u001b[0m\n\u001b[1;32m   2402\u001b[0m                 \u001b[0margs\u001b[0m \u001b[0;34m=\u001b[0m \u001b[0;34m(\u001b[0m\u001b[0mmagic_arg_s\u001b[0m\u001b[0;34m,\u001b[0m \u001b[0mcell\u001b[0m\u001b[0;34m)\u001b[0m\u001b[0;34m\u001b[0m\u001b[0;34m\u001b[0m\u001b[0m\n\u001b[0;32m-> 2403\u001b[0;31m                 \u001b[0mresult\u001b[0m \u001b[0;34m=\u001b[0m \u001b[0mfn\u001b[0m\u001b[0;34m(\u001b[0m\u001b[0;34m*\u001b[0m\u001b[0margs\u001b[0m\u001b[0;34m,\u001b[0m \u001b[0;34m**\u001b[0m\u001b[0mkwargs\u001b[0m\u001b[0;34m)\u001b[0m\u001b[0;34m\u001b[0m\u001b[0;34m\u001b[0m\u001b[0m\n\u001b[0m\u001b[1;32m   2404\u001b[0m             \u001b[0;32mreturn\u001b[0m \u001b[0mresult\u001b[0m\u001b[0;34m\u001b[0m\u001b[0;34m\u001b[0m\u001b[0m\n\u001b[1;32m   2405\u001b[0m \u001b[0;34m\u001b[0m\u001b[0m\n",
      "\u001b[0;32m~/venv/env_jupyter/lib/python3.7/site-packages/IPython/core/magics/script.py\u001b[0m in \u001b[0;36mnamed_script_magic\u001b[0;34m(line, cell)\u001b[0m\n\u001b[1;32m    140\u001b[0m             \u001b[0;32melse\u001b[0m\u001b[0;34m:\u001b[0m\u001b[0;34m\u001b[0m\u001b[0;34m\u001b[0m\u001b[0m\n\u001b[1;32m    141\u001b[0m                 \u001b[0mline\u001b[0m \u001b[0;34m=\u001b[0m \u001b[0mscript\u001b[0m\u001b[0;34m\u001b[0m\u001b[0;34m\u001b[0m\u001b[0m\n\u001b[0;32m--> 142\u001b[0;31m             \u001b[0;32mreturn\u001b[0m \u001b[0mself\u001b[0m\u001b[0;34m.\u001b[0m\u001b[0mshebang\u001b[0m\u001b[0;34m(\u001b[0m\u001b[0mline\u001b[0m\u001b[0;34m,\u001b[0m \u001b[0mcell\u001b[0m\u001b[0;34m)\u001b[0m\u001b[0;34m\u001b[0m\u001b[0;34m\u001b[0m\u001b[0m\n\u001b[0m\u001b[1;32m    143\u001b[0m \u001b[0;34m\u001b[0m\u001b[0m\n\u001b[1;32m    144\u001b[0m         \u001b[0;31m# write a basic docstring:\u001b[0m\u001b[0;34m\u001b[0m\u001b[0;34m\u001b[0m\u001b[0;34m\u001b[0m\u001b[0m\n",
      "\u001b[0;32m~/venv/env_jupyter/lib/python3.7/site-packages/decorator.py\u001b[0m in \u001b[0;36mfun\u001b[0;34m(*args, **kw)\u001b[0m\n\u001b[1;32m    230\u001b[0m             \u001b[0;32mif\u001b[0m \u001b[0;32mnot\u001b[0m \u001b[0mkwsyntax\u001b[0m\u001b[0;34m:\u001b[0m\u001b[0;34m\u001b[0m\u001b[0;34m\u001b[0m\u001b[0m\n\u001b[1;32m    231\u001b[0m                 \u001b[0margs\u001b[0m\u001b[0;34m,\u001b[0m \u001b[0mkw\u001b[0m \u001b[0;34m=\u001b[0m \u001b[0mfix\u001b[0m\u001b[0;34m(\u001b[0m\u001b[0margs\u001b[0m\u001b[0;34m,\u001b[0m \u001b[0mkw\u001b[0m\u001b[0;34m,\u001b[0m \u001b[0msig\u001b[0m\u001b[0;34m)\u001b[0m\u001b[0;34m\u001b[0m\u001b[0;34m\u001b[0m\u001b[0m\n\u001b[0;32m--> 232\u001b[0;31m             \u001b[0;32mreturn\u001b[0m \u001b[0mcaller\u001b[0m\u001b[0;34m(\u001b[0m\u001b[0mfunc\u001b[0m\u001b[0;34m,\u001b[0m \u001b[0;34m*\u001b[0m\u001b[0;34m(\u001b[0m\u001b[0mextras\u001b[0m \u001b[0;34m+\u001b[0m \u001b[0margs\u001b[0m\u001b[0;34m)\u001b[0m\u001b[0;34m,\u001b[0m \u001b[0;34m**\u001b[0m\u001b[0mkw\u001b[0m\u001b[0;34m)\u001b[0m\u001b[0;34m\u001b[0m\u001b[0;34m\u001b[0m\u001b[0m\n\u001b[0m\u001b[1;32m    233\u001b[0m     \u001b[0mfun\u001b[0m\u001b[0;34m.\u001b[0m\u001b[0m__name__\u001b[0m \u001b[0;34m=\u001b[0m \u001b[0mfunc\u001b[0m\u001b[0;34m.\u001b[0m\u001b[0m__name__\u001b[0m\u001b[0;34m\u001b[0m\u001b[0;34m\u001b[0m\u001b[0m\n\u001b[1;32m    234\u001b[0m     \u001b[0mfun\u001b[0m\u001b[0;34m.\u001b[0m\u001b[0m__doc__\u001b[0m \u001b[0;34m=\u001b[0m \u001b[0mfunc\u001b[0m\u001b[0;34m.\u001b[0m\u001b[0m__doc__\u001b[0m\u001b[0;34m\u001b[0m\u001b[0;34m\u001b[0m\u001b[0m\n",
      "\u001b[0;32m~/venv/env_jupyter/lib/python3.7/site-packages/IPython/core/magic.py\u001b[0m in \u001b[0;36m<lambda>\u001b[0;34m(f, *a, **k)\u001b[0m\n\u001b[1;32m    185\u001b[0m     \u001b[0;31m# but it's overkill for just that one bit of state.\u001b[0m\u001b[0;34m\u001b[0m\u001b[0;34m\u001b[0m\u001b[0;34m\u001b[0m\u001b[0m\n\u001b[1;32m    186\u001b[0m     \u001b[0;32mdef\u001b[0m \u001b[0mmagic_deco\u001b[0m\u001b[0;34m(\u001b[0m\u001b[0marg\u001b[0m\u001b[0;34m)\u001b[0m\u001b[0;34m:\u001b[0m\u001b[0;34m\u001b[0m\u001b[0;34m\u001b[0m\u001b[0m\n\u001b[0;32m--> 187\u001b[0;31m         \u001b[0mcall\u001b[0m \u001b[0;34m=\u001b[0m \u001b[0;32mlambda\u001b[0m \u001b[0mf\u001b[0m\u001b[0;34m,\u001b[0m \u001b[0;34m*\u001b[0m\u001b[0ma\u001b[0m\u001b[0;34m,\u001b[0m \u001b[0;34m**\u001b[0m\u001b[0mk\u001b[0m\u001b[0;34m:\u001b[0m \u001b[0mf\u001b[0m\u001b[0;34m(\u001b[0m\u001b[0;34m*\u001b[0m\u001b[0ma\u001b[0m\u001b[0;34m,\u001b[0m \u001b[0;34m**\u001b[0m\u001b[0mk\u001b[0m\u001b[0;34m)\u001b[0m\u001b[0;34m\u001b[0m\u001b[0;34m\u001b[0m\u001b[0m\n\u001b[0m\u001b[1;32m    188\u001b[0m \u001b[0;34m\u001b[0m\u001b[0m\n\u001b[1;32m    189\u001b[0m         \u001b[0;32mif\u001b[0m \u001b[0mcallable\u001b[0m\u001b[0;34m(\u001b[0m\u001b[0marg\u001b[0m\u001b[0;34m)\u001b[0m\u001b[0;34m:\u001b[0m\u001b[0;34m\u001b[0m\u001b[0;34m\u001b[0m\u001b[0m\n",
      "\u001b[0;32m~/venv/env_jupyter/lib/python3.7/site-packages/IPython/core/magics/script.py\u001b[0m in \u001b[0;36mshebang\u001b[0;34m(self, line, cell)\u001b[0m\n\u001b[1;32m    243\u001b[0m             \u001b[0msys\u001b[0m\u001b[0;34m.\u001b[0m\u001b[0mstderr\u001b[0m\u001b[0;34m.\u001b[0m\u001b[0mflush\u001b[0m\u001b[0;34m(\u001b[0m\u001b[0;34m)\u001b[0m\u001b[0;34m\u001b[0m\u001b[0;34m\u001b[0m\u001b[0m\n\u001b[1;32m    244\u001b[0m         \u001b[0;32mif\u001b[0m \u001b[0margs\u001b[0m\u001b[0;34m.\u001b[0m\u001b[0mraise_error\u001b[0m \u001b[0;32mand\u001b[0m \u001b[0mp\u001b[0m\u001b[0;34m.\u001b[0m\u001b[0mreturncode\u001b[0m\u001b[0;34m!=\u001b[0m\u001b[0;36m0\u001b[0m\u001b[0;34m:\u001b[0m\u001b[0;34m\u001b[0m\u001b[0;34m\u001b[0m\u001b[0m\n\u001b[0;32m--> 245\u001b[0;31m             \u001b[0;32mraise\u001b[0m \u001b[0mCalledProcessError\u001b[0m\u001b[0;34m(\u001b[0m\u001b[0mp\u001b[0m\u001b[0;34m.\u001b[0m\u001b[0mreturncode\u001b[0m\u001b[0;34m,\u001b[0m \u001b[0mcell\u001b[0m\u001b[0;34m,\u001b[0m \u001b[0moutput\u001b[0m\u001b[0;34m=\u001b[0m\u001b[0mout\u001b[0m\u001b[0;34m,\u001b[0m \u001b[0mstderr\u001b[0m\u001b[0;34m=\u001b[0m\u001b[0merr\u001b[0m\u001b[0;34m)\u001b[0m\u001b[0;34m\u001b[0m\u001b[0;34m\u001b[0m\u001b[0m\n\u001b[0m\u001b[1;32m    246\u001b[0m \u001b[0;34m\u001b[0m\u001b[0m\n\u001b[1;32m    247\u001b[0m     \u001b[0;32mdef\u001b[0m \u001b[0m_run_script\u001b[0m\u001b[0;34m(\u001b[0m\u001b[0mself\u001b[0m\u001b[0;34m,\u001b[0m \u001b[0mp\u001b[0m\u001b[0;34m,\u001b[0m \u001b[0mcell\u001b[0m\u001b[0;34m,\u001b[0m \u001b[0mto_close\u001b[0m\u001b[0;34m)\u001b[0m\u001b[0;34m:\u001b[0m\u001b[0;34m\u001b[0m\u001b[0;34m\u001b[0m\u001b[0m\n",
      "\u001b[0;31mCalledProcessError\u001b[0m: Command 'b'chmod +x shuf_with_seed.sh\\nSEED=123\\n./shuf_with_seed.sh $SEED -r -n 10 test_shuf.txt\\n'' returned non-zero exit status 2."
     ]
    }
   ],
   "source": [
    "%%bash\n",
    "chmod +x shuf_with_seed.sh\n",
    "SEED=123\n",
    "./shuf_with_seed.sh $SEED -r -n 10 test_shuf.txt"
   ]
  },
  {
   "cell_type": "code",
   "execution_count": null,
   "id": "4597dfb6-61b2-4a91-b9bd-e0ba0d258ce1",
   "metadata": {},
   "outputs": [],
   "source": []
  }
 ],
 "metadata": {
  "kernelspec": {
   "display_name": "Bash",
   "language": "bash",
   "name": "bash"
  },
  "language_info": {
   "codemirror_mode": "shell",
   "file_extension": ".sh",
   "mimetype": "text/x-sh",
   "name": "bash"
  }
 },
 "nbformat": 4,
 "nbformat_minor": 5
}
