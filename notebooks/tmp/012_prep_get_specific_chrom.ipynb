{
 "cells": [
  {
   "cell_type": "code",
   "execution_count": 75,
   "id": "f71ee950-802c-4e02-824e-98009d492754",
   "metadata": {},
   "outputs": [
    {
     "name": "stdout",
     "output_type": "stream",
     "text": [
      "/work/kk319\n",
      "/work/kk319/out/CombEffect_STARR\n",
      "/work/kk319/source\n",
      "/work/kk319/annotation\n"
     ]
    }
   ],
   "source": [
    "source config.sh\n",
    "\n",
    "echo ${FD_BASE}\n",
    "echo ${FD_WRK}\n",
    "echo ${FD_SRC}\n",
    "echo ${FD_ANN}"
   ]
  },
  {
   "cell_type": "code",
   "execution_count": 5,
   "id": "cc006715-299c-4bea-8f15-2e21c3aa469f",
   "metadata": {},
   "outputs": [
    {
     "name": "stdout",
     "output_type": "stream",
     "text": [
      "\u001b[0m\u001b[01;34mInput1\u001b[0m               \u001b[01;34mTFX3_AZD9567\u001b[0m         \u001b[01;34mTFX4_Hydrocortisone\u001b[0m\n",
      "\u001b[01;34mInput2\u001b[0m               \u001b[01;34mTFX3_CORT108297\u001b[0m      \u001b[01;34mTFX4_Mapracorat\u001b[0m\n",
      "\u001b[01;34mInput3\u001b[0m               \u001b[01;34mTFX3_CpdA\u001b[0m            \u001b[01;34mTFX4_RU486\u001b[0m\n",
      "\u001b[01;34mInput4\u001b[0m               \u001b[01;34mTFX3_DMSO\u001b[0m            \u001b[01;34mTFX4_ZK216348\u001b[0m\n",
      "\u001b[01;34mInput5\u001b[0m               \u001b[01;34mTFX3_Dex\u001b[0m             \u001b[01;34mTFX5_AZD2906\u001b[0m\n",
      "\u001b[01;34mTFX2_AZD2906\u001b[0m         \u001b[01;34mTFX3_GW870086\u001b[0m        \u001b[01;34mTFX5_AZD9567\u001b[0m\n",
      "\u001b[01;34mTFX2_AZD9567\u001b[0m         \u001b[01;34mTFX3_Hydrocortisone\u001b[0m  \u001b[01;34mTFX5_CORT108297\u001b[0m\n",
      "\u001b[01;34mTFX2_CORT108297\u001b[0m      \u001b[01;34mTFX3_Mapracorat\u001b[0m      \u001b[01;34mTFX5_CpdA\u001b[0m\n",
      "\u001b[01;34mTFX2_CpdA\u001b[0m            \u001b[01;34mTFX3_RU486\u001b[0m           \u001b[01;34mTFX5_DMSO\u001b[0m\n",
      "\u001b[01;34mTFX2_DMSO\u001b[0m            \u001b[01;34mTFX3_ZK216348\u001b[0m        \u001b[01;34mTFX5_Dex\u001b[0m\n",
      "\u001b[01;34mTFX2_Dex\u001b[0m             \u001b[01;34mTFX4_AZD2906\u001b[0m         \u001b[01;34mTFX5_GW870086\u001b[0m\n",
      "\u001b[01;34mTFX2_GW870086\u001b[0m        \u001b[01;34mTFX4_AZD9567\u001b[0m         \u001b[01;34mTFX5_Hydrocortisone\u001b[0m\n",
      "\u001b[01;34mTFX2_Hydrocortisone\u001b[0m  \u001b[01;34mTFX4_CORT108297\u001b[0m      \u001b[01;34mTFX5_Mapracorat\u001b[0m\n",
      "\u001b[01;34mTFX2_Mapracorat\u001b[0m      \u001b[01;34mTFX4_CpdA\u001b[0m            \u001b[01;34mTFX5_RU486\u001b[0m\n",
      "\u001b[01;34mTFX2_RU486\u001b[0m           \u001b[01;34mTFX4_DMSO\u001b[0m            \u001b[01;34mTFX5_ZK216348\u001b[0m\n",
      "\u001b[01;34mTFX2_ZK216348\u001b[0m        \u001b[01;34mTFX4_Dex\u001b[0m\n",
      "\u001b[01;34mTFX3_AZD2906\u001b[0m         \u001b[01;34mTFX4_GW870086\u001b[0m\n"
     ]
    }
   ],
   "source": [
    "ls ${FD_WRK}/source"
   ]
  },
  {
   "cell_type": "markdown",
   "id": "eb232e9d-f9a6-4546-bdd7-fb4c1fdab00d",
   "metadata": {},
   "source": [
    "**Content: each line is a fragment**"
   ]
  },
  {
   "cell_type": "code",
   "execution_count": 6,
   "id": "b2695c62-64b9-4e70-bef2-c7aee8227e13",
   "metadata": {},
   "outputs": [
    {
     "name": "stdout",
     "output_type": "stream",
     "text": [
      "Input1.bedpe\n"
     ]
    }
   ],
   "source": [
    "ls ${FD_WRK}/source/Input1"
   ]
  },
  {
   "cell_type": "code",
   "execution_count": 7,
   "id": "b440c340-0d05-4e5a-8a0f-dc72bad42768",
   "metadata": {},
   "outputs": [
    {
     "name": "stdout",
     "output_type": "stream",
     "text": [
      "chr1\t13868\t14793\n",
      "chr1\t17394\t18269\n",
      "chr1\t17394\t18268\n",
      "chr1\t17396\t18259\n",
      "chr1\t17405\t18377\n",
      "chr1\t17462\t18329\n",
      "chr1\t17652\t18696\n",
      "chr1\t40593\t41536\n",
      "chr1\t51064\t51954\n",
      "chr1\t53899\t54795\n"
     ]
    }
   ],
   "source": [
    "head ${FD_WRK}/source/Input1/Input1.bedpe"
   ]
  },
  {
   "cell_type": "markdown",
   "id": "edb31038-0c43-44bc-a3b1-ba271aa51893",
   "metadata": {},
   "source": [
    "**Choose one/multiple treatments**"
   ]
  },
  {
   "cell_type": "code",
   "execution_count": 8,
   "id": "01d5f764-c10a-470f-acdc-acb9f9909b24",
   "metadata": {},
   "outputs": [
    {
     "name": "stdout",
     "output_type": "stream",
     "text": [
      "/work/kk319/out/CombEffect_STARR/source/TFX2_DMSO:\n",
      "TFX2_DMSO.bedpe\n",
      "\n",
      "/work/kk319/out/CombEffect_STARR/source/TFX3_DMSO:\n",
      "TFX3_DMSO.bedpe\n",
      "\n",
      "/work/kk319/out/CombEffect_STARR/source/TFX4_DMSO:\n",
      "TFX4_DMSO.bedpe\n",
      "\n",
      "/work/kk319/out/CombEffect_STARR/source/TFX5_DMSO:\n",
      "TFX5_DMSO.bedpe\n"
     ]
    }
   ],
   "source": [
    "ls ${FD_WRK}/source/TFX*_DMSO"
   ]
  },
  {
   "cell_type": "markdown",
   "id": "7377d0f1-2a7e-49e5-bb8c-44667e2e55f4",
   "metadata": {},
   "source": [
    "[Reference: Using OR patterns in shell wildcards](https://unix.stackexchange.com/questions/50220/using-or-patterns-in-shell-wildcards)"
   ]
  },
  {
   "cell_type": "code",
   "execution_count": 18,
   "id": "47c736b5-787b-42aa-9336-6fc7a7d60a3c",
   "metadata": {},
   "outputs": [
    {
     "name": "stdout",
     "output_type": "stream",
     "text": [
      "\u001b[0m\u001b[01;34m/work/kk319/out/CombEffect_STARR/source/Input1\u001b[0m\n",
      "\u001b[01;34m/work/kk319/out/CombEffect_STARR/source/Input2\u001b[0m\n",
      "\u001b[01;34m/work/kk319/out/CombEffect_STARR/source/Input3\u001b[0m\n",
      "\u001b[01;34m/work/kk319/out/CombEffect_STARR/source/Input4\u001b[0m\n",
      "\u001b[01;34m/work/kk319/out/CombEffect_STARR/source/Input5\u001b[0m\n",
      "\u001b[01;34m/work/kk319/out/CombEffect_STARR/source/TFX2_DMSO\u001b[0m\n",
      "\u001b[01;34m/work/kk319/out/CombEffect_STARR/source/TFX2_Dex\u001b[0m\n",
      "\u001b[01;34m/work/kk319/out/CombEffect_STARR/source/TFX3_DMSO\u001b[0m\n",
      "\u001b[01;34m/work/kk319/out/CombEffect_STARR/source/TFX3_Dex\u001b[0m\n",
      "\u001b[01;34m/work/kk319/out/CombEffect_STARR/source/TFX4_DMSO\u001b[0m\n",
      "\u001b[01;34m/work/kk319/out/CombEffect_STARR/source/TFX4_Dex\u001b[0m\n",
      "\u001b[01;34m/work/kk319/out/CombEffect_STARR/source/TFX5_DMSO\u001b[0m\n",
      "\u001b[01;34m/work/kk319/out/CombEffect_STARR/source/TFX5_Dex\u001b[0m\n"
     ]
    }
   ],
   "source": [
    "ls -d ${FD_WRK}/source/{Input*,TFX*_DMSO,TFX*_Dex}"
   ]
  },
  {
   "cell_type": "code",
   "execution_count": 25,
   "id": "ba0c95e3-c641-4457-bbfe-34b3f65178d6",
   "metadata": {},
   "outputs": [
    {
     "name": "stdout",
     "output_type": "stream",
     "text": [
      "/work/kk319/out/CombEffect_STARR/source/Input1\n",
      "/work/kk319/out/CombEffect_STARR/source/Input2\n",
      "/work/kk319/out/CombEffect_STARR/source/Input3\n",
      "/work/kk319/out/CombEffect_STARR/source/Input4\n",
      "/work/kk319/out/CombEffect_STARR/source/Input5\n",
      "/work/kk319/out/CombEffect_STARR/source/TFX2_DMSO\n",
      "/work/kk319/out/CombEffect_STARR/source/TFX2_Dex\n",
      "/work/kk319/out/CombEffect_STARR/source/TFX3_DMSO\n",
      "/work/kk319/out/CombEffect_STARR/source/TFX3_Dex\n",
      "/work/kk319/out/CombEffect_STARR/source/TFX4_DMSO\n",
      "/work/kk319/out/CombEffect_STARR/source/TFX4_Dex\n",
      "/work/kk319/out/CombEffect_STARR/source/TFX5_DMSO\n",
      "/work/kk319/out/CombEffect_STARR/source/TFX5_Dex\n"
     ]
    }
   ],
   "source": [
    "for FDIRY in $(ls -d ${FD_WRK}/source/{Input*,TFX*_DMSO,TFX*_Dex}); do\n",
    "    echo $FDIRY\n",
    "done"
   ]
  },
  {
   "cell_type": "markdown",
   "id": "edc6e3af-6adf-44d9-8300-0e76869694c9",
   "metadata": {},
   "source": [
    "**Looping through each file**"
   ]
  },
  {
   "cell_type": "code",
   "execution_count": 26,
   "id": "0b2c5f32-98ab-4c8e-8b43-fd3b8182f9ea",
   "metadata": {},
   "outputs": [
    {
     "name": "stdout",
     "output_type": "stream",
     "text": [
      "/work/kk319/out/CombEffect_STARR/source/Input1/Input1.bedpe\n",
      "Input1.bedpe\n",
      "Input1\n",
      "/work/kk319/out/CombEffect_STARR/source/Input2/Input2.bedpe\n",
      "Input2.bedpe\n",
      "Input2\n",
      "/work/kk319/out/CombEffect_STARR/source/Input3/Input3.bedpe\n",
      "Input3.bedpe\n",
      "Input3\n",
      "/work/kk319/out/CombEffect_STARR/source/Input4/Input4.bedpe\n",
      "Input4.bedpe\n",
      "Input4\n",
      "/work/kk319/out/CombEffect_STARR/source/Input5/Input5.bedpe\n",
      "Input5.bedpe\n",
      "Input5\n",
      "/work/kk319/out/CombEffect_STARR/source/TFX2_DMSO/TFX2_DMSO.bedpe\n",
      "TFX2_DMSO.bedpe\n",
      "TFX2_DMSO\n",
      "/work/kk319/out/CombEffect_STARR/source/TFX2_Dex/TFX2_Dex.bedpe\n",
      "TFX2_Dex.bedpe\n",
      "TFX2_Dex\n",
      "/work/kk319/out/CombEffect_STARR/source/TFX3_DMSO/TFX3_DMSO.bedpe\n",
      "TFX3_DMSO.bedpe\n",
      "TFX3_DMSO\n",
      "/work/kk319/out/CombEffect_STARR/source/TFX3_Dex/TFX3_Dex.bedpe\n",
      "TFX3_Dex.bedpe\n",
      "TFX3_Dex\n",
      "/work/kk319/out/CombEffect_STARR/source/TFX4_DMSO/TFX4_DMSO.bedpe\n",
      "TFX4_DMSO.bedpe\n",
      "TFX4_DMSO\n",
      "/work/kk319/out/CombEffect_STARR/source/TFX4_Dex/TFX4_Dex.bedpe\n",
      "TFX4_Dex.bedpe\n",
      "TFX4_Dex\n",
      "/work/kk319/out/CombEffect_STARR/source/TFX5_DMSO/TFX5_DMSO.bedpe\n",
      "TFX5_DMSO.bedpe\n",
      "TFX5_DMSO\n",
      "/work/kk319/out/CombEffect_STARR/source/TFX5_Dex/TFX5_Dex.bedpe\n",
      "TFX5_Dex.bedpe\n",
      "TFX5_Dex\n"
     ]
    }
   ],
   "source": [
    "for FPATH in $(ls -d ${FD_WRK}/source/{Input*,TFX*_DMSO,TFX*_Dex}/*bedpe); do\n",
    "    echo $FPATH\n",
    "    \n",
    "    FNAME=$(basename $FPATH)\n",
    "    echo $FNAME\n",
    "    \n",
    "    PREFIX=\"${FNAME%.*}\"\n",
    "    echo $PREFIX\n",
    "done"
   ]
  },
  {
   "cell_type": "markdown",
   "id": "03af4435-18cb-4d7d-827d-2b1d245310ad",
   "metadata": {},
   "source": [
    "**Select a chromosome**"
   ]
  },
  {
   "cell_type": "code",
   "execution_count": 9,
   "id": "2e756a24-4fdf-4c69-9105-332f37bd5519",
   "metadata": {},
   "outputs": [
    {
     "name": "stdout",
     "output_type": "stream",
     "text": [
      "chr1\t13868\t14793\n",
      "chr1\t17394\t18269\n",
      "chr1\t17394\t18268\n",
      "chr1\t17396\t18259\n",
      "chr1\t17405\t18377\n",
      "chr1\t17462\t18329\n",
      "chr1\t17652\t18696\n",
      "chr1\t40593\t41536\n",
      "chr1\t51064\t51954\n",
      "chr1\t53899\t54795\n"
     ]
    }
   ],
   "source": [
    "FP_BED=${FD_WRK}/source/Input1/*bedpe\n",
    "head ${FP_BED}"
   ]
  },
  {
   "cell_type": "code",
   "execution_count": 10,
   "id": "1e52d20f-2ff1-43ea-bfc8-08141f3d51f5",
   "metadata": {},
   "outputs": [
    {
     "name": "stdout",
     "output_type": "stream",
     "text": [
      "chr2\t11224\t12142\n",
      "chr2\t11234\t12150\n",
      "chr2\t11323\t12247\n",
      "chr2\t11367\t12297\n",
      "chr2\t11393\t12307\n",
      "chr2\t12361\t13305\n",
      "chr2\t13046\t14075\n",
      "chr2\t13423\t14465\n",
      "chr2\t13700\t14671\n",
      "chr2\t13729\t14762\n"
     ]
    }
   ],
   "source": [
    "awk -F \"\\t\" '{if ($1 == \"chr2\") {print}}' ${FP_BED} | head"
   ]
  },
  {
   "cell_type": "code",
   "execution_count": 11,
   "id": "276f79b0-8353-46ea-a20f-9ad4af75ae0f",
   "metadata": {},
   "outputs": [
    {
     "name": "stdout",
     "output_type": "stream",
     "text": [
      "chr17\t201123\t201925\n",
      "chr17\t201160\t201968\n",
      "chr17\t201202\t202074\n",
      "chr17\t201259\t202052\n",
      "chr17\t201366\t202130\n",
      "chr17\t206174\t207307\n",
      "chr17\t206269\t207286\n",
      "chr17\t206283\t207194\n",
      "chr17\t206324\t207359\n",
      "chr17\t206326\t207274\n"
     ]
    }
   ],
   "source": [
    "awk -F \"\\t\" '{if ($1 == \"chr17\") {print}}' ${FP_BED} | head"
   ]
  },
  {
   "cell_type": "markdown",
   "id": "66aa7556-fd89-4b7e-8b67-6807cb36562c",
   "metadata": {},
   "source": [
    "**Test having variable in awk expression**"
   ]
  },
  {
   "cell_type": "markdown",
   "id": "2817a883-a852-4c48-8d72-314d4b75eae7",
   "metadata": {},
   "source": [
    "[Bash Pass Shell Variables To Awk Script](https://www.cyberciti.biz/faq/linux-unix-appleosx-bsd-bash-passing-variables-to-awk/)"
   ]
  },
  {
   "cell_type": "code",
   "execution_count": 43,
   "id": "cd720364-ad08-499b-83f1-86a24e4b68fe",
   "metadata": {},
   "outputs": [
    {
     "name": "stdout",
     "output_type": "stream",
     "text": [
      "/work/kk319/out/CombEffect_STARR/source/Input1/Input1.bedpe\n"
     ]
    }
   ],
   "source": [
    "FP_BED=${FD_WRK}/source/Input1/*bedpe\n",
    "echo ${FP_BED}"
   ]
  },
  {
   "cell_type": "code",
   "execution_count": 30,
   "id": "4245c520-eb6b-4ad2-a369-704e4fd14ea7",
   "metadata": {},
   "outputs": [
    {
     "name": "stdout",
     "output_type": "stream",
     "text": [
      "shell variable $num value is 10\n"
     ]
    }
   ],
   "source": [
    "num=\"10\"\n",
    "echo | awk -v r=$num '{ print \"shell variable $num value is \" r}'"
   ]
  },
  {
   "cell_type": "code",
   "execution_count": 34,
   "id": "53b3be2c-88f4-43b2-b1f6-bc021cf1873c",
   "metadata": {},
   "outputs": [
    {
     "name": "stdout",
     "output_type": "stream",
     "text": [
      "chr1\t13868\t14793\n",
      "chr1\t17394\t18269\n",
      "chr1\t17394\t18268\n"
     ]
    }
   ],
   "source": [
    "CHROM=chr1\n",
    "awk -F \"\\t\" -v CHROM=$CHROM '{if ($1 == CHROM) {print}}' ${FP_BED} | head -3"
   ]
  },
  {
   "cell_type": "code",
   "execution_count": 35,
   "id": "fd5d6e44-765a-4c21-a77f-4101bd63d9ed",
   "metadata": {},
   "outputs": [
    {
     "name": "stdout",
     "output_type": "stream",
     "text": [
      "chr17\t201123\t201925\n",
      "chr17\t201160\t201968\n",
      "chr17\t201202\t202074\n"
     ]
    }
   ],
   "source": [
    "CHROM=chr17\n",
    "awk -F \"\\t\" -v CHROM=$CHROM '{if ($1 == CHROM) {print}}' ${FP_BED} | head -3"
   ]
  },
  {
   "cell_type": "markdown",
   "id": "bf41223d-ca32-4f2b-b7b3-df2b2cd07b62",
   "metadata": {},
   "source": [
    "**Looping through each file and filter the chromosome specified**"
   ]
  },
  {
   "cell_type": "code",
   "execution_count": 37,
   "id": "0dc96394-f98f-4aca-bc28-17fa06d9ff0a",
   "metadata": {},
   "outputs": [
    {
     "name": "stdout",
     "output_type": "stream",
     "text": [
      "\u001b[0m\u001b[01;34mInput\u001b[0m   \u001b[01;34mInput2\u001b[0m  \u001b[01;34mInput4\u001b[0m  \u001b[01;34mTFX2_DMSO\u001b[0m  \u001b[01;34mTFX3_DMSO\u001b[0m  \u001b[01;34mTFX4_DMSO\u001b[0m  \u001b[01;34mTFX5_DMSO\u001b[0m  \u001b[01;34mTFX_DMSO\u001b[0m\n",
      "\u001b[01;34mInput1\u001b[0m  \u001b[01;34mInput3\u001b[0m  \u001b[01;34mInput5\u001b[0m  \u001b[01;34mTFX2_Dex\u001b[0m   \u001b[01;34mTFX3_Dex\u001b[0m   \u001b[01;34mTFX4_Dex\u001b[0m   \u001b[01;34mTFX5_Dex\u001b[0m   \u001b[01;34mTFX_Dex\u001b[0m\n"
     ]
    }
   ],
   "source": [
    "FD_OUT=${FD_WRK}/data\n",
    "ls ${FD_OUT}"
   ]
  },
  {
   "cell_type": "code",
   "execution_count": 44,
   "id": "12350df0-8c14-46e2-ad5c-ca99ec42bbfa",
   "metadata": {},
   "outputs": [],
   "source": [
    "head ${FD_WRK}/data/Input1/chr17.bed"
   ]
  },
  {
   "cell_type": "code",
   "execution_count": 45,
   "id": "5d021b01-89f6-4c20-8ade-c08331d39a88",
   "metadata": {},
   "outputs": [
    {
     "name": "stdout",
     "output_type": "stream",
     "text": [
      "Input:  /work/kk319/out/CombEffect_STARR/source/Input1/Input1.bedpe\n",
      "Ouptut: /work/kk319/out/CombEffect_STARR/data/Input1/chr17.bed\n",
      "Input:  /work/kk319/out/CombEffect_STARR/source/Input2/Input2.bedpe\n",
      "Ouptut: /work/kk319/out/CombEffect_STARR/data/Input2/chr17.bed\n",
      "Input:  /work/kk319/out/CombEffect_STARR/source/Input3/Input3.bedpe\n",
      "Ouptut: /work/kk319/out/CombEffect_STARR/data/Input3/chr17.bed\n",
      "Input:  /work/kk319/out/CombEffect_STARR/source/Input4/Input4.bedpe\n",
      "Ouptut: /work/kk319/out/CombEffect_STARR/data/Input4/chr17.bed\n",
      "Input:  /work/kk319/out/CombEffect_STARR/source/Input5/Input5.bedpe\n",
      "Ouptut: /work/kk319/out/CombEffect_STARR/data/Input5/chr17.bed\n",
      "Input:  /work/kk319/out/CombEffect_STARR/source/TFX2_DMSO/TFX2_DMSO.bedpe\n",
      "Ouptut: /work/kk319/out/CombEffect_STARR/data/TFX2_DMSO/chr17.bed\n",
      "Input:  /work/kk319/out/CombEffect_STARR/source/TFX2_Dex/TFX2_Dex.bedpe\n",
      "Ouptut: /work/kk319/out/CombEffect_STARR/data/TFX2_Dex/chr17.bed\n",
      "Input:  /work/kk319/out/CombEffect_STARR/source/TFX3_DMSO/TFX3_DMSO.bedpe\n",
      "Ouptut: /work/kk319/out/CombEffect_STARR/data/TFX3_DMSO/chr17.bed\n",
      "Input:  /work/kk319/out/CombEffect_STARR/source/TFX3_Dex/TFX3_Dex.bedpe\n",
      "Ouptut: /work/kk319/out/CombEffect_STARR/data/TFX3_Dex/chr17.bed\n",
      "Input:  /work/kk319/out/CombEffect_STARR/source/TFX4_DMSO/TFX4_DMSO.bedpe\n",
      "Ouptut: /work/kk319/out/CombEffect_STARR/data/TFX4_DMSO/chr17.bed\n",
      "Input:  /work/kk319/out/CombEffect_STARR/source/TFX4_Dex/TFX4_Dex.bedpe\n",
      "Ouptut: /work/kk319/out/CombEffect_STARR/data/TFX4_Dex/chr17.bed\n",
      "Input:  /work/kk319/out/CombEffect_STARR/source/TFX5_DMSO/TFX5_DMSO.bedpe\n",
      "Ouptut: /work/kk319/out/CombEffect_STARR/data/TFX5_DMSO/chr17.bed\n",
      "Input:  /work/kk319/out/CombEffect_STARR/source/TFX5_Dex/TFX5_Dex.bedpe\n",
      "Ouptut: /work/kk319/out/CombEffect_STARR/data/TFX5_Dex/chr17.bed\n"
     ]
    }
   ],
   "source": [
    "CHROM=chr17\n",
    "for FP_BED in $(ls -d ${FD_WRK}/source/{Input*,TFX*_DMSO,TFX*_Dex}/*bedpe); do\n",
    "    FNAME=$(basename $FP_BED)\n",
    "    PREFIX=\"${FNAME%.*}\"\n",
    "    FP_OUT=${FD_WRK}/data/${PREFIX}/${CHROM}.bed\n",
    "    \n",
    "    echo \"Input: \" ${FP_BED}\n",
    "    echo \"Ouptut:\" ${FP_OUT}\n",
    "    awk -F \"\\t\" -v CHROM=$CHROM '{if ($1 == CHROM) {print}}' ${FP_BED} > ${FP_OUT}\n",
    "done"
   ]
  },
  {
   "cell_type": "code",
   "execution_count": 48,
   "id": "929e1e1c-07ab-4487-afb8-0423e10caf48",
   "metadata": {},
   "outputs": [
    {
     "name": "stdout",
     "output_type": "stream",
     "text": [
      "Input:  /work/kk319/out/CombEffect_STARR/source/Input1/Input1.bedpe\n",
      "Ouptut: /work/kk319/out/CombEffect_STARR/data/Input1/chr17.bed\n",
      "630820 /work/kk319/out/CombEffect_STARR/data/Input1/chr17.bed\n",
      "chr17\t201123\t201925\n",
      "chr17\t201160\t201968\n",
      "chr17\t201202\t202074\n",
      "+++++++++++++++++++++++++++++++++++++++\n",
      "Input:  /work/kk319/out/CombEffect_STARR/source/Input2/Input2.bedpe\n",
      "Ouptut: /work/kk319/out/CombEffect_STARR/data/Input2/chr17.bed\n",
      "681369 /work/kk319/out/CombEffect_STARR/data/Input2/chr17.bed\n",
      "chr17\t159510\t160362\n",
      "chr17\t201155\t201968\n",
      "chr17\t201155\t201968\n",
      "+++++++++++++++++++++++++++++++++++++++\n",
      "Input:  /work/kk319/out/CombEffect_STARR/source/Input3/Input3.bedpe\n",
      "Ouptut: /work/kk319/out/CombEffect_STARR/data/Input3/chr17.bed\n",
      "792970 /work/kk319/out/CombEffect_STARR/data/Input3/chr17.bed\n",
      "chr17\t201190\t202046\n",
      "chr17\t201364\t202118\n",
      "chr17\t205568\t206550\n",
      "+++++++++++++++++++++++++++++++++++++++\n",
      "Input:  /work/kk319/out/CombEffect_STARR/source/Input4/Input4.bedpe\n",
      "Ouptut: /work/kk319/out/CombEffect_STARR/data/Input4/chr17.bed\n",
      "636501 /work/kk319/out/CombEffect_STARR/data/Input4/chr17.bed\n",
      "chr17\t182115\t183108\n",
      "chr17\t201133\t201985\n",
      "chr17\t201145\t202079\n",
      "+++++++++++++++++++++++++++++++++++++++\n",
      "Input:  /work/kk319/out/CombEffect_STARR/source/Input5/Input5.bedpe\n",
      "Ouptut: /work/kk319/out/CombEffect_STARR/data/Input5/chr17.bed\n",
      "510585 /work/kk319/out/CombEffect_STARR/data/Input5/chr17.bed\n",
      "chr17\t197679\t198597\n",
      "chr17\t201155\t201967\n",
      "chr17\t201364\t202119\n",
      "+++++++++++++++++++++++++++++++++++++++\n",
      "Input:  /work/kk319/out/CombEffect_STARR/source/TFX2_DMSO/TFX2_DMSO.bedpe\n",
      "Ouptut: /work/kk319/out/CombEffect_STARR/data/TFX2_DMSO/chr17.bed\n",
      "1814517 /work/kk319/out/CombEffect_STARR/data/TFX2_DMSO/chr17.bed\n",
      "chr17\t87067\t87989\n",
      "chr17\t158043\t159067\n",
      "chr17\t158043\t159066\n",
      "+++++++++++++++++++++++++++++++++++++++\n",
      "Input:  /work/kk319/out/CombEffect_STARR/source/TFX2_Dex/TFX2_Dex.bedpe\n",
      "Ouptut: /work/kk319/out/CombEffect_STARR/data/TFX2_Dex/chr17.bed\n",
      "1892453 /work/kk319/out/CombEffect_STARR/data/TFX2_Dex/chr17.bed\n",
      "chr17\t83638\t84547\n",
      "chr17\t92503\t93508\n",
      "chr17\t152590\t153715\n",
      "+++++++++++++++++++++++++++++++++++++++\n",
      "Input:  /work/kk319/out/CombEffect_STARR/source/TFX3_DMSO/TFX3_DMSO.bedpe\n",
      "Ouptut: /work/kk319/out/CombEffect_STARR/data/TFX3_DMSO/chr17.bed\n",
      "1088938 /work/kk319/out/CombEffect_STARR/data/TFX3_DMSO/chr17.bed\n",
      "chr17\t159962\t160793\n",
      "chr17\t185415\t186343\n",
      "chr17\t201202\t202074\n",
      "+++++++++++++++++++++++++++++++++++++++\n",
      "Input:  /work/kk319/out/CombEffect_STARR/source/TFX3_Dex/TFX3_Dex.bedpe\n",
      "Ouptut: /work/kk319/out/CombEffect_STARR/data/TFX3_Dex/chr17.bed\n",
      "1102681 /work/kk319/out/CombEffect_STARR/data/TFX3_Dex/chr17.bed\n",
      "chr17\t120738\t123102\n",
      "chr17\t169749\t171139\n",
      "chr17\t182083\t183038\n",
      "+++++++++++++++++++++++++++++++++++++++\n",
      "Input:  /work/kk319/out/CombEffect_STARR/source/TFX4_DMSO/TFX4_DMSO.bedpe\n",
      "Ouptut: /work/kk319/out/CombEffect_STARR/data/TFX4_DMSO/chr17.bed\n",
      "1256096 /work/kk319/out/CombEffect_STARR/data/TFX4_DMSO/chr17.bed\n",
      "chr17\t201155\t201968\n",
      "chr17\t201155\t201967\n",
      "chr17\t201155\t201962\n",
      "+++++++++++++++++++++++++++++++++++++++\n",
      "Input:  /work/kk319/out/CombEffect_STARR/source/TFX4_Dex/TFX4_Dex.bedpe\n",
      "Ouptut: /work/kk319/out/CombEffect_STARR/data/TFX4_Dex/chr17.bed\n",
      "1459086 /work/kk319/out/CombEffect_STARR/data/TFX4_Dex/chr17.bed\n",
      "chr17\t160133\t161194\n",
      "chr17\t197659\t198568\n",
      "chr17\t201224\t202001\n",
      "+++++++++++++++++++++++++++++++++++++++\n",
      "Input:  /work/kk319/out/CombEffect_STARR/source/TFX5_DMSO/TFX5_DMSO.bedpe\n",
      "Ouptut: /work/kk319/out/CombEffect_STARR/data/TFX5_DMSO/chr17.bed\n",
      "1203754 /work/kk319/out/CombEffect_STARR/data/TFX5_DMSO/chr17.bed\n",
      "chr17\t101601\t102522\n",
      "chr17\t160263\t161262\n",
      "chr17\t161009\t161941\n",
      "+++++++++++++++++++++++++++++++++++++++\n",
      "Input:  /work/kk319/out/CombEffect_STARR/source/TFX5_Dex/TFX5_Dex.bedpe\n",
      "Ouptut: /work/kk319/out/CombEffect_STARR/data/TFX5_Dex/chr17.bed\n",
      "1785438 /work/kk319/out/CombEffect_STARR/data/TFX5_Dex/chr17.bed\n",
      "chr17\t70104\t71559\n",
      "chr17\t152554\t153491\n",
      "chr17\t201123\t201923\n",
      "+++++++++++++++++++++++++++++++++++++++\n"
     ]
    }
   ],
   "source": [
    "CHROM=chr17\n",
    "for FP_BED in $(ls -d ${FD_WRK}/source/{Input*,TFX*_DMSO,TFX*_Dex}/*bedpe); do\n",
    "    FNAME=$(basename $FP_BED)\n",
    "    PREFIX=\"${FNAME%.*}\"\n",
    "    FP_OUT=${FD_WRK}/data/${PREFIX}/${CHROM}.bed\n",
    "    \n",
    "    echo \"Input: \" ${FP_BED}\n",
    "    echo \"Ouptut:\" ${FP_OUT}\n",
    "    wc -l ${FP_OUT}\n",
    "    head -n 3 ${FP_OUT}\n",
    "    echo +++++++++++++++++++++++++++++++++++++++\n",
    "done"
   ]
  },
  {
   "cell_type": "markdown",
   "id": "bfa51ac4-5778-48ae-aa48-7ed1f438beb2",
   "metadata": {},
   "source": [
    "## Merge the bed files of the chromosome specified"
   ]
  },
  {
   "cell_type": "markdown",
   "id": "e7ea9746-9f67-4780-89eb-dfb6412d245d",
   "metadata": {},
   "source": [
    "**Input**"
   ]
  },
  {
   "cell_type": "code",
   "execution_count": 56,
   "id": "bfa9636a-a44b-48e0-8782-0c961001bad2",
   "metadata": {},
   "outputs": [
    {
     "name": "stdout",
     "output_type": "stream",
     "text": [
      "/work/kk319/out/CombEffect_STARR/data/Input1/chr17.bed\n",
      "/work/kk319/out/CombEffect_STARR/data/Input2/chr17.bed\n",
      "/work/kk319/out/CombEffect_STARR/data/Input3/chr17.bed\n",
      "/work/kk319/out/CombEffect_STARR/data/Input4/chr17.bed\n",
      "/work/kk319/out/CombEffect_STARR/data/Input5/chr17.bed\n"
     ]
    }
   ],
   "source": [
    "ls ${FD_WRK}/data/Input?/chr17.bed"
   ]
  },
  {
   "cell_type": "code",
   "execution_count": 63,
   "id": "2780c59a-bb37-46f6-bd38-a2540f32fdb6",
   "metadata": {},
   "outputs": [
    {
     "name": "stdout",
     "output_type": "stream",
     "text": [
      "INPUT:\n",
      "630820 /work/kk319/out/CombEffect_STARR/data/Input1/chr17.bed\n",
      "681369 /work/kk319/out/CombEffect_STARR/data/Input2/chr17.bed\n",
      "792970 /work/kk319/out/CombEffect_STARR/data/Input3/chr17.bed\n",
      "636501 /work/kk319/out/CombEffect_STARR/data/Input4/chr17.bed\n",
      "510585 /work/kk319/out/CombEffect_STARR/data/Input5/chr17.bed\n",
      "OUTPUT:  /work/kk319/out/CombEffect_STARR/data/Input/chr17.bed\n",
      "3252245 /work/kk319/out/CombEffect_STARR/data/Input/chr17.bed\n"
     ]
    }
   ],
   "source": [
    "CHROM=chr17\n",
    "FD_OUT=/work/kk319/out/CombEffect_STARR/data/Input\n",
    "FP_OUT=${FD_OUT}/${CHROM}.bed\n",
    "\n",
    "echo \"INPUT:\"\n",
    "cat /dev/null > ${FP_OUT}\n",
    "for FP_BED in $(ls ${FD_WRK}/data/Input?/${CHROM}.bed); do\n",
    "    echo $(wc -l ${FP_BED})\n",
    "    cat ${FP_BED} >> ${FP_OUT}\n",
    "done\n",
    "\n",
    "echo \"OUTPUT: \" ${FP_OUT}\n",
    "wc -l ${FP_OUT}"
   ]
  },
  {
   "cell_type": "code",
   "execution_count": 66,
   "id": "18fbb988-9ff5-4174-b812-202e95aa2284",
   "metadata": {},
   "outputs": [
    {
     "name": "stdout",
     "output_type": "stream",
     "text": [
      "3252245\n"
     ]
    }
   ],
   "source": [
    "num=$((630820+681369+792970+636501+510585))\n",
    "echo $num"
   ]
  },
  {
   "cell_type": "markdown",
   "id": "b4303900-9616-4a14-b11c-4b7be4b895d0",
   "metadata": {},
   "source": [
    "**DMSO**"
   ]
  },
  {
   "cell_type": "code",
   "execution_count": 67,
   "id": "674d99be-c529-4718-b1ef-3887c485abbc",
   "metadata": {},
   "outputs": [
    {
     "name": "stdout",
     "output_type": "stream",
     "text": [
      "/work/kk319/out/CombEffect_STARR/data/TFX2_DMSO/chr17.bed\n",
      "/work/kk319/out/CombEffect_STARR/data/TFX3_DMSO/chr17.bed\n",
      "/work/kk319/out/CombEffect_STARR/data/TFX4_DMSO/chr17.bed\n",
      "/work/kk319/out/CombEffect_STARR/data/TFX5_DMSO/chr17.bed\n"
     ]
    }
   ],
   "source": [
    "ls ${FD_WRK}/data/TFX?_DMSO/${CHROM}.bed"
   ]
  },
  {
   "cell_type": "code",
   "execution_count": 68,
   "id": "9c8ff0eb-9362-49ec-9b97-b731bc93a31e",
   "metadata": {},
   "outputs": [
    {
     "name": "stdout",
     "output_type": "stream",
     "text": [
      "INPUT:\n",
      "1814517 /work/kk319/out/CombEffect_STARR/data/TFX2_DMSO/chr17.bed\n",
      "1088938 /work/kk319/out/CombEffect_STARR/data/TFX3_DMSO/chr17.bed\n",
      "1256096 /work/kk319/out/CombEffect_STARR/data/TFX4_DMSO/chr17.bed\n",
      "1203754 /work/kk319/out/CombEffect_STARR/data/TFX5_DMSO/chr17.bed\n",
      "OUTPUT:  /work/kk319/out/CombEffect_STARR/data/TFX_DMSO/chr17.bed\n",
      "5363305 /work/kk319/out/CombEffect_STARR/data/TFX_DMSO/chr17.bed\n"
     ]
    }
   ],
   "source": [
    "CHROM=chr17\n",
    "FD_OUT=/work/kk319/out/CombEffect_STARR/data/TFX_DMSO\n",
    "FP_OUT=${FD_OUT}/${CHROM}.bed\n",
    "\n",
    "echo \"INPUT:\"\n",
    "cat /dev/null > ${FP_OUT}\n",
    "for FP_BED in $(ls ${FD_WRK}/data/TFX?_DMSO/${CHROM}.bed); do\n",
    "    echo $(wc -l ${FP_BED})\n",
    "    cat ${FP_BED} >> ${FP_OUT}\n",
    "done\n",
    "\n",
    "echo \"OUTPUT: \" ${FP_OUT}\n",
    "wc -l ${FP_OUT}"
   ]
  },
  {
   "cell_type": "code",
   "execution_count": 70,
   "id": "9dcf9c7c-334c-4ce5-b828-d32a2c1b6c69",
   "metadata": {},
   "outputs": [
    {
     "name": "stdout",
     "output_type": "stream",
     "text": [
      "5363305\n"
     ]
    }
   ],
   "source": [
    "echo $((1814517+1088938+1256096+1203754))"
   ]
  },
  {
   "cell_type": "markdown",
   "id": "7e130b5e-1876-4c52-85a7-97d6e9c850f6",
   "metadata": {},
   "source": [
    "**Dex**"
   ]
  },
  {
   "cell_type": "code",
   "execution_count": 71,
   "id": "35e60017-377c-4f03-86b3-9df35e85d728",
   "metadata": {},
   "outputs": [
    {
     "name": "stdout",
     "output_type": "stream",
     "text": [
      "/work/kk319/out/CombEffect_STARR/data/TFX2_Dex/chr17.bed\n",
      "/work/kk319/out/CombEffect_STARR/data/TFX3_Dex/chr17.bed\n",
      "/work/kk319/out/CombEffect_STARR/data/TFX4_Dex/chr17.bed\n",
      "/work/kk319/out/CombEffect_STARR/data/TFX5_Dex/chr17.bed\n"
     ]
    }
   ],
   "source": [
    "ls ${FD_WRK}/data/TFX?_Dex/${CHROM}.bed"
   ]
  },
  {
   "cell_type": "code",
   "execution_count": 72,
   "id": "27f18da7-05c7-4926-a37f-43178047115a",
   "metadata": {},
   "outputs": [
    {
     "name": "stdout",
     "output_type": "stream",
     "text": [
      "INPUT:\n",
      "1892453 /work/kk319/out/CombEffect_STARR/data/TFX2_Dex/chr17.bed\n",
      "1102681 /work/kk319/out/CombEffect_STARR/data/TFX3_Dex/chr17.bed\n",
      "1459086 /work/kk319/out/CombEffect_STARR/data/TFX4_Dex/chr17.bed\n",
      "1785438 /work/kk319/out/CombEffect_STARR/data/TFX5_Dex/chr17.bed\n",
      "OUTPUT:  /work/kk319/out/CombEffect_STARR/data/TFX_Dex/chr17.bed\n",
      "6239658 /work/kk319/out/CombEffect_STARR/data/TFX_Dex/chr17.bed\n"
     ]
    }
   ],
   "source": [
    "CHROM=chr17\n",
    "FD_OUT=/work/kk319/out/CombEffect_STARR/data/TFX_Dex\n",
    "FP_OUT=${FD_OUT}/${CHROM}.bed\n",
    "\n",
    "echo \"INPUT:\"\n",
    "cat /dev/null > ${FP_OUT}\n",
    "for FP_BED in $(ls ${FD_WRK}/data/TFX?_Dex/${CHROM}.bed); do\n",
    "    echo $(wc -l ${FP_BED})\n",
    "    cat ${FP_BED} >> ${FP_OUT}\n",
    "done\n",
    "\n",
    "echo \"OUTPUT: \" ${FP_OUT}\n",
    "wc -l ${FP_OUT}"
   ]
  },
  {
   "cell_type": "code",
   "execution_count": 73,
   "id": "d4fe5d35-aac8-425a-aa12-507a66f23972",
   "metadata": {},
   "outputs": [
    {
     "name": "stdout",
     "output_type": "stream",
     "text": [
      "6239658\n"
     ]
    }
   ],
   "source": [
    "echo $((1892453+1102681+1459086+1785438))"
   ]
  },
  {
   "cell_type": "code",
   "execution_count": null,
   "id": "25ca6536-0885-4568-ba9e-c9f0d9cd9b6b",
   "metadata": {},
   "outputs": [],
   "source": []
  },
  {
   "cell_type": "code",
   "execution_count": null,
   "id": "3932f1b1-943c-4b82-a8da-dfe089ab4620",
   "metadata": {},
   "outputs": [],
   "source": []
  },
  {
   "cell_type": "code",
   "execution_count": null,
   "id": "3928e21c-f6ae-4ba7-a8f5-ed07d3f176a6",
   "metadata": {},
   "outputs": [],
   "source": [
    "### init: create new file\n",
    "FN_OUT=chr${CHROM}.bed"
   ]
  },
  {
   "cell_type": "code",
   "execution_count": null,
   "id": "4faa9248-ffc3-40c1-a9a3-d66ee9684a14",
   "metadata": {},
   "outputs": [],
   "source": [
    "### init: create new file\n",
    "    FN_OUT=chr${CHROM}.bed\n",
    "    echo -n \"\" > ${FD_OUT}/${FN_OUT}\n",
    "    \n",
    "    ### merging\n",
    "    for FD_BED in ${FD_BEDS[@]}; do\n",
    "        ### count each file before merged\n",
    "        wc -l ${FD_BED}/${FN_OUT}\n",
    "        \n",
    "        ### merge files\n",
    "        cat   ${FD_BED}/${FN_OUT} >> ${FD_OUT}/${FN_OUT}\n",
    "    done"
   ]
  }
 ],
 "metadata": {
  "kernelspec": {
   "display_name": "Bash",
   "language": "bash",
   "name": "bash"
  },
  "language_info": {
   "codemirror_mode": "shell",
   "file_extension": ".sh",
   "mimetype": "text/x-sh",
   "name": "bash"
  }
 },
 "nbformat": 4,
 "nbformat_minor": 5
}
