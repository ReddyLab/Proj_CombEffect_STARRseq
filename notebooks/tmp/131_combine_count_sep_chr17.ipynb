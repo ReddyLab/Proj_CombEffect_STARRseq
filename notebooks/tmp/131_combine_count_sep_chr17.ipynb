{
 "cells": [
  {
   "cell_type": "markdown",
   "metadata": {},
   "source": [
    "# Separate counts for Chr17"
   ]
  },
  {
   "cell_type": "markdown",
   "metadata": {},
   "source": [
    "## Set environment"
   ]
  },
  {
   "cell_type": "code",
   "execution_count": 1,
   "metadata": {},
   "outputs": [],
   "source": [
    "suppressMessages(suppressWarnings(source(\"config.R\")))"
   ]
  },
  {
   "cell_type": "code",
   "execution_count": 2,
   "metadata": {},
   "outputs": [
    {
     "data": {
      "text/html": [
       "'/work/kk319'"
      ],
      "text/latex": [
       "'/work/kk319'"
      ],
      "text/markdown": [
       "'/work/kk319'"
      ],
      "text/plain": [
       "[1] \"/work/kk319\""
      ]
     },
     "metadata": {},
     "output_type": "display_data"
    }
   ],
   "source": [
    "FD_WRK"
   ]
  },
  {
   "cell_type": "code",
   "execution_count": 3,
   "metadata": {},
   "outputs": [
    {
     "data": {
      "text/html": [
       "<ol class=list-inline>\n",
       "\t<li>'/work/kk319/out/CombEffect_STARR/count_fragment/Input/cnt_PER1.bed'</li>\n",
       "\t<li>'/work/kk319/out/CombEffect_STARR/count_fragment/Input1/cnt_PER1.bed'</li>\n",
       "\t<li>'/work/kk319/out/CombEffect_STARR/count_fragment/Input2/cnt_PER1.bed'</li>\n",
       "\t<li>'/work/kk319/out/CombEffect_STARR/count_fragment/Input3/cnt_PER1.bed'</li>\n",
       "\t<li>'/work/kk319/out/CombEffect_STARR/count_fragment/Input4/cnt_PER1.bed'</li>\n",
       "\t<li>'/work/kk319/out/CombEffect_STARR/count_fragment/Input5/cnt_PER1.bed'</li>\n",
       "\t<li>'/work/kk319/out/CombEffect_STARR/count_fragment/TFX2_DMSO/cnt_PER1.bed'</li>\n",
       "\t<li>'/work/kk319/out/CombEffect_STARR/count_fragment/TFX2_Dex/cnt_PER1.bed'</li>\n",
       "\t<li>'/work/kk319/out/CombEffect_STARR/count_fragment/TFX3_DMSO/cnt_PER1.bed'</li>\n",
       "\t<li>'/work/kk319/out/CombEffect_STARR/count_fragment/TFX3_Dex/cnt_PER1.bed'</li>\n",
       "\t<li>'/work/kk319/out/CombEffect_STARR/count_fragment/TFX4_DMSO/cnt_PER1.bed'</li>\n",
       "\t<li>'/work/kk319/out/CombEffect_STARR/count_fragment/TFX4_Dex/cnt_PER1.bed'</li>\n",
       "\t<li>'/work/kk319/out/CombEffect_STARR/count_fragment/TFX5_DMSO/cnt_PER1.bed'</li>\n",
       "\t<li>'/work/kk319/out/CombEffect_STARR/count_fragment/TFX5_Dex/cnt_PER1.bed'</li>\n",
       "\t<li>'/work/kk319/out/CombEffect_STARR/count_fragment/TFX_DMSO/cnt_PER1.bed'</li>\n",
       "\t<li>'/work/kk319/out/CombEffect_STARR/count_fragment/TFX_Dex/cnt_PER1.bed'</li>\n",
       "</ol>\n"
      ],
      "text/latex": [
       "\\begin{enumerate*}\n",
       "\\item '/work/kk319/out/CombEffect\\_STARR/count\\_fragment/Input/cnt\\_PER1.bed'\n",
       "\\item '/work/kk319/out/CombEffect\\_STARR/count\\_fragment/Input1/cnt\\_PER1.bed'\n",
       "\\item '/work/kk319/out/CombEffect\\_STARR/count\\_fragment/Input2/cnt\\_PER1.bed'\n",
       "\\item '/work/kk319/out/CombEffect\\_STARR/count\\_fragment/Input3/cnt\\_PER1.bed'\n",
       "\\item '/work/kk319/out/CombEffect\\_STARR/count\\_fragment/Input4/cnt\\_PER1.bed'\n",
       "\\item '/work/kk319/out/CombEffect\\_STARR/count\\_fragment/Input5/cnt\\_PER1.bed'\n",
       "\\item '/work/kk319/out/CombEffect\\_STARR/count\\_fragment/TFX2\\_DMSO/cnt\\_PER1.bed'\n",
       "\\item '/work/kk319/out/CombEffect\\_STARR/count\\_fragment/TFX2\\_Dex/cnt\\_PER1.bed'\n",
       "\\item '/work/kk319/out/CombEffect\\_STARR/count\\_fragment/TFX3\\_DMSO/cnt\\_PER1.bed'\n",
       "\\item '/work/kk319/out/CombEffect\\_STARR/count\\_fragment/TFX3\\_Dex/cnt\\_PER1.bed'\n",
       "\\item '/work/kk319/out/CombEffect\\_STARR/count\\_fragment/TFX4\\_DMSO/cnt\\_PER1.bed'\n",
       "\\item '/work/kk319/out/CombEffect\\_STARR/count\\_fragment/TFX4\\_Dex/cnt\\_PER1.bed'\n",
       "\\item '/work/kk319/out/CombEffect\\_STARR/count\\_fragment/TFX5\\_DMSO/cnt\\_PER1.bed'\n",
       "\\item '/work/kk319/out/CombEffect\\_STARR/count\\_fragment/TFX5\\_Dex/cnt\\_PER1.bed'\n",
       "\\item '/work/kk319/out/CombEffect\\_STARR/count\\_fragment/TFX\\_DMSO/cnt\\_PER1.bed'\n",
       "\\item '/work/kk319/out/CombEffect\\_STARR/count\\_fragment/TFX\\_Dex/cnt\\_PER1.bed'\n",
       "\\end{enumerate*}\n"
      ],
      "text/markdown": [
       "1. '/work/kk319/out/CombEffect_STARR/count_fragment/Input/cnt_PER1.bed'\n",
       "2. '/work/kk319/out/CombEffect_STARR/count_fragment/Input1/cnt_PER1.bed'\n",
       "3. '/work/kk319/out/CombEffect_STARR/count_fragment/Input2/cnt_PER1.bed'\n",
       "4. '/work/kk319/out/CombEffect_STARR/count_fragment/Input3/cnt_PER1.bed'\n",
       "5. '/work/kk319/out/CombEffect_STARR/count_fragment/Input4/cnt_PER1.bed'\n",
       "6. '/work/kk319/out/CombEffect_STARR/count_fragment/Input5/cnt_PER1.bed'\n",
       "7. '/work/kk319/out/CombEffect_STARR/count_fragment/TFX2_DMSO/cnt_PER1.bed'\n",
       "8. '/work/kk319/out/CombEffect_STARR/count_fragment/TFX2_Dex/cnt_PER1.bed'\n",
       "9. '/work/kk319/out/CombEffect_STARR/count_fragment/TFX3_DMSO/cnt_PER1.bed'\n",
       "10. '/work/kk319/out/CombEffect_STARR/count_fragment/TFX3_Dex/cnt_PER1.bed'\n",
       "11. '/work/kk319/out/CombEffect_STARR/count_fragment/TFX4_DMSO/cnt_PER1.bed'\n",
       "12. '/work/kk319/out/CombEffect_STARR/count_fragment/TFX4_Dex/cnt_PER1.bed'\n",
       "13. '/work/kk319/out/CombEffect_STARR/count_fragment/TFX5_DMSO/cnt_PER1.bed'\n",
       "14. '/work/kk319/out/CombEffect_STARR/count_fragment/TFX5_Dex/cnt_PER1.bed'\n",
       "15. '/work/kk319/out/CombEffect_STARR/count_fragment/TFX_DMSO/cnt_PER1.bed'\n",
       "16. '/work/kk319/out/CombEffect_STARR/count_fragment/TFX_Dex/cnt_PER1.bed'\n",
       "\n",
       "\n"
      ],
      "text/plain": [
       " [1] \"/work/kk319/out/CombEffect_STARR/count_fragment/Input/cnt_PER1.bed\"    \n",
       " [2] \"/work/kk319/out/CombEffect_STARR/count_fragment/Input1/cnt_PER1.bed\"   \n",
       " [3] \"/work/kk319/out/CombEffect_STARR/count_fragment/Input2/cnt_PER1.bed\"   \n",
       " [4] \"/work/kk319/out/CombEffect_STARR/count_fragment/Input3/cnt_PER1.bed\"   \n",
       " [5] \"/work/kk319/out/CombEffect_STARR/count_fragment/Input4/cnt_PER1.bed\"   \n",
       " [6] \"/work/kk319/out/CombEffect_STARR/count_fragment/Input5/cnt_PER1.bed\"   \n",
       " [7] \"/work/kk319/out/CombEffect_STARR/count_fragment/TFX2_DMSO/cnt_PER1.bed\"\n",
       " [8] \"/work/kk319/out/CombEffect_STARR/count_fragment/TFX2_Dex/cnt_PER1.bed\" \n",
       " [9] \"/work/kk319/out/CombEffect_STARR/count_fragment/TFX3_DMSO/cnt_PER1.bed\"\n",
       "[10] \"/work/kk319/out/CombEffect_STARR/count_fragment/TFX3_Dex/cnt_PER1.bed\" \n",
       "[11] \"/work/kk319/out/CombEffect_STARR/count_fragment/TFX4_DMSO/cnt_PER1.bed\"\n",
       "[12] \"/work/kk319/out/CombEffect_STARR/count_fragment/TFX4_Dex/cnt_PER1.bed\" \n",
       "[13] \"/work/kk319/out/CombEffect_STARR/count_fragment/TFX5_DMSO/cnt_PER1.bed\"\n",
       "[14] \"/work/kk319/out/CombEffect_STARR/count_fragment/TFX5_Dex/cnt_PER1.bed\" \n",
       "[15] \"/work/kk319/out/CombEffect_STARR/count_fragment/TFX_DMSO/cnt_PER1.bed\" \n",
       "[16] \"/work/kk319/out/CombEffect_STARR/count_fragment/TFX_Dex/cnt_PER1.bed\"  "
      ]
     },
     "metadata": {},
     "output_type": "display_data"
    }
   ],
   "source": [
    "FD_DAT=file.path(FD_WRK, \"out/CombEffect_STARR/count_fragment\")\n",
    "Sys.glob(file.path(FD_DAT, \"*/cnt_PER1*\"))"
   ]
  },
  {
   "cell_type": "code",
   "execution_count": 4,
   "metadata": {},
   "outputs": [
    {
     "data": {
      "text/html": [
       "<ol class=list-inline>\n",
       "\t<li>'/work/kk319/out/CombEffect_STARR/count_fragment/Input/cnt_chr17.bed'</li>\n",
       "\t<li>'/work/kk319/out/CombEffect_STARR/count_fragment/Input1/cnt_chr17.bed'</li>\n",
       "\t<li>'/work/kk319/out/CombEffect_STARR/count_fragment/Input2/cnt_chr17.bed'</li>\n",
       "\t<li>'/work/kk319/out/CombEffect_STARR/count_fragment/Input3/cnt_chr17.bed'</li>\n",
       "\t<li>'/work/kk319/out/CombEffect_STARR/count_fragment/Input4/cnt_chr17.bed'</li>\n",
       "\t<li>'/work/kk319/out/CombEffect_STARR/count_fragment/Input5/cnt_chr17.bed'</li>\n",
       "\t<li>'/work/kk319/out/CombEffect_STARR/count_fragment/TFX2_DMSO/cnt_chr17.bed'</li>\n",
       "\t<li>'/work/kk319/out/CombEffect_STARR/count_fragment/TFX2_Dex/cnt_chr17.bed'</li>\n",
       "\t<li>'/work/kk319/out/CombEffect_STARR/count_fragment/TFX3_DMSO/cnt_chr17.bed'</li>\n",
       "\t<li>'/work/kk319/out/CombEffect_STARR/count_fragment/TFX3_Dex/cnt_chr17.bed'</li>\n",
       "\t<li>'/work/kk319/out/CombEffect_STARR/count_fragment/TFX4_DMSO/cnt_chr17.bed'</li>\n",
       "\t<li>'/work/kk319/out/CombEffect_STARR/count_fragment/TFX4_Dex/cnt_chr17.bed'</li>\n",
       "\t<li>'/work/kk319/out/CombEffect_STARR/count_fragment/TFX5_DMSO/cnt_chr17.bed'</li>\n",
       "\t<li>'/work/kk319/out/CombEffect_STARR/count_fragment/TFX5_Dex/cnt_chr17.bed'</li>\n",
       "\t<li>'/work/kk319/out/CombEffect_STARR/count_fragment/TFX_DMSO/cnt_chr17.bed'</li>\n",
       "\t<li>'/work/kk319/out/CombEffect_STARR/count_fragment/TFX_Dex/cnt_chr17.bed'</li>\n",
       "</ol>\n"
      ],
      "text/latex": [
       "\\begin{enumerate*}\n",
       "\\item '/work/kk319/out/CombEffect\\_STARR/count\\_fragment/Input/cnt\\_chr17.bed'\n",
       "\\item '/work/kk319/out/CombEffect\\_STARR/count\\_fragment/Input1/cnt\\_chr17.bed'\n",
       "\\item '/work/kk319/out/CombEffect\\_STARR/count\\_fragment/Input2/cnt\\_chr17.bed'\n",
       "\\item '/work/kk319/out/CombEffect\\_STARR/count\\_fragment/Input3/cnt\\_chr17.bed'\n",
       "\\item '/work/kk319/out/CombEffect\\_STARR/count\\_fragment/Input4/cnt\\_chr17.bed'\n",
       "\\item '/work/kk319/out/CombEffect\\_STARR/count\\_fragment/Input5/cnt\\_chr17.bed'\n",
       "\\item '/work/kk319/out/CombEffect\\_STARR/count\\_fragment/TFX2\\_DMSO/cnt\\_chr17.bed'\n",
       "\\item '/work/kk319/out/CombEffect\\_STARR/count\\_fragment/TFX2\\_Dex/cnt\\_chr17.bed'\n",
       "\\item '/work/kk319/out/CombEffect\\_STARR/count\\_fragment/TFX3\\_DMSO/cnt\\_chr17.bed'\n",
       "\\item '/work/kk319/out/CombEffect\\_STARR/count\\_fragment/TFX3\\_Dex/cnt\\_chr17.bed'\n",
       "\\item '/work/kk319/out/CombEffect\\_STARR/count\\_fragment/TFX4\\_DMSO/cnt\\_chr17.bed'\n",
       "\\item '/work/kk319/out/CombEffect\\_STARR/count\\_fragment/TFX4\\_Dex/cnt\\_chr17.bed'\n",
       "\\item '/work/kk319/out/CombEffect\\_STARR/count\\_fragment/TFX5\\_DMSO/cnt\\_chr17.bed'\n",
       "\\item '/work/kk319/out/CombEffect\\_STARR/count\\_fragment/TFX5\\_Dex/cnt\\_chr17.bed'\n",
       "\\item '/work/kk319/out/CombEffect\\_STARR/count\\_fragment/TFX\\_DMSO/cnt\\_chr17.bed'\n",
       "\\item '/work/kk319/out/CombEffect\\_STARR/count\\_fragment/TFX\\_Dex/cnt\\_chr17.bed'\n",
       "\\end{enumerate*}\n"
      ],
      "text/markdown": [
       "1. '/work/kk319/out/CombEffect_STARR/count_fragment/Input/cnt_chr17.bed'\n",
       "2. '/work/kk319/out/CombEffect_STARR/count_fragment/Input1/cnt_chr17.bed'\n",
       "3. '/work/kk319/out/CombEffect_STARR/count_fragment/Input2/cnt_chr17.bed'\n",
       "4. '/work/kk319/out/CombEffect_STARR/count_fragment/Input3/cnt_chr17.bed'\n",
       "5. '/work/kk319/out/CombEffect_STARR/count_fragment/Input4/cnt_chr17.bed'\n",
       "6. '/work/kk319/out/CombEffect_STARR/count_fragment/Input5/cnt_chr17.bed'\n",
       "7. '/work/kk319/out/CombEffect_STARR/count_fragment/TFX2_DMSO/cnt_chr17.bed'\n",
       "8. '/work/kk319/out/CombEffect_STARR/count_fragment/TFX2_Dex/cnt_chr17.bed'\n",
       "9. '/work/kk319/out/CombEffect_STARR/count_fragment/TFX3_DMSO/cnt_chr17.bed'\n",
       "10. '/work/kk319/out/CombEffect_STARR/count_fragment/TFX3_Dex/cnt_chr17.bed'\n",
       "11. '/work/kk319/out/CombEffect_STARR/count_fragment/TFX4_DMSO/cnt_chr17.bed'\n",
       "12. '/work/kk319/out/CombEffect_STARR/count_fragment/TFX4_Dex/cnt_chr17.bed'\n",
       "13. '/work/kk319/out/CombEffect_STARR/count_fragment/TFX5_DMSO/cnt_chr17.bed'\n",
       "14. '/work/kk319/out/CombEffect_STARR/count_fragment/TFX5_Dex/cnt_chr17.bed'\n",
       "15. '/work/kk319/out/CombEffect_STARR/count_fragment/TFX_DMSO/cnt_chr17.bed'\n",
       "16. '/work/kk319/out/CombEffect_STARR/count_fragment/TFX_Dex/cnt_chr17.bed'\n",
       "\n",
       "\n"
      ],
      "text/plain": [
       " [1] \"/work/kk319/out/CombEffect_STARR/count_fragment/Input/cnt_chr17.bed\"    \n",
       " [2] \"/work/kk319/out/CombEffect_STARR/count_fragment/Input1/cnt_chr17.bed\"   \n",
       " [3] \"/work/kk319/out/CombEffect_STARR/count_fragment/Input2/cnt_chr17.bed\"   \n",
       " [4] \"/work/kk319/out/CombEffect_STARR/count_fragment/Input3/cnt_chr17.bed\"   \n",
       " [5] \"/work/kk319/out/CombEffect_STARR/count_fragment/Input4/cnt_chr17.bed\"   \n",
       " [6] \"/work/kk319/out/CombEffect_STARR/count_fragment/Input5/cnt_chr17.bed\"   \n",
       " [7] \"/work/kk319/out/CombEffect_STARR/count_fragment/TFX2_DMSO/cnt_chr17.bed\"\n",
       " [8] \"/work/kk319/out/CombEffect_STARR/count_fragment/TFX2_Dex/cnt_chr17.bed\" \n",
       " [9] \"/work/kk319/out/CombEffect_STARR/count_fragment/TFX3_DMSO/cnt_chr17.bed\"\n",
       "[10] \"/work/kk319/out/CombEffect_STARR/count_fragment/TFX3_Dex/cnt_chr17.bed\" \n",
       "[11] \"/work/kk319/out/CombEffect_STARR/count_fragment/TFX4_DMSO/cnt_chr17.bed\"\n",
       "[12] \"/work/kk319/out/CombEffect_STARR/count_fragment/TFX4_Dex/cnt_chr17.bed\" \n",
       "[13] \"/work/kk319/out/CombEffect_STARR/count_fragment/TFX5_DMSO/cnt_chr17.bed\"\n",
       "[14] \"/work/kk319/out/CombEffect_STARR/count_fragment/TFX5_Dex/cnt_chr17.bed\" \n",
       "[15] \"/work/kk319/out/CombEffect_STARR/count_fragment/TFX_DMSO/cnt_chr17.bed\" \n",
       "[16] \"/work/kk319/out/CombEffect_STARR/count_fragment/TFX_Dex/cnt_chr17.bed\"  "
      ]
     },
     "metadata": {},
     "output_type": "display_data"
    }
   ],
   "source": [
    "FD_DAT=file.path(FD_WRK, \"out/CombEffect_STARR/count_fragment\")\n",
    "Sys.glob(file.path(FD_DAT, \"*/cnt_chr17*\"))"
   ]
  },
  {
   "cell_type": "markdown",
   "metadata": {},
   "source": [
    "## Import separate counts of Input"
   ]
  },
  {
   "cell_type": "code",
   "execution_count": 5,
   "metadata": {},
   "outputs": [],
   "source": [
    "FD_DAT=file.path(FD_WRK, \"out/CombEffect_STARR/count_fragment\")"
   ]
  },
  {
   "cell_type": "code",
   "execution_count": 6,
   "metadata": {},
   "outputs": [],
   "source": [
    "### init: set column names and types\n",
    "cnames = c(\"Chrom\", \"Start\", \"End\") #, \"Count\")\n",
    "ctypes = c(col_character(), col_double(), col_double(), col_double())\n",
    "\n",
    "### init: set sample index\n",
    "idx_samples = paste0(\"Input\", 1:5)\n",
    "\n",
    "### loop: import counts from Input (PER1)\n",
    "fdiry = FD_DAT\n",
    "fname = \"cnt_PER1.bed\"\n",
    "lst_dat_per1 = lapply(idx_samples, function(idx_sample){\n",
    "    ### set file path\n",
    "    fpath = file.path(fdiry, idx_sample, fname)\n",
    "    \n",
    "    ### import data\n",
    "    dat = read_tsv(\n",
    "        fpath, \n",
    "        col_names = c(cnames, idx_sample), \n",
    "        col_types = ctypes)\n",
    "    return(dat)\n",
    "})\n",
    "\n",
    "### loop: import counts from Input (Chr17)\n",
    "fname = \"cnt_chr17.bed\"\n",
    "lst_dat_chr17 = lapply(idx_samples, function(idx_sample){\n",
    "    ### set file path\n",
    "    fpath = file.path(fdiry, idx_sample, fname)\n",
    "    \n",
    "    ### import data\n",
    "    dat = read_tsv(\n",
    "        fpath, \n",
    "        col_names = c(cnames, idx_sample), \n",
    "        col_types = ctypes)\n",
    "    return(dat)\n",
    "})\n",
    "\n",
    "### Joining all the data.frames\n",
    "fun = function(df1, df2){full_join(df1, df2, by=cnames)}\n",
    "dat_cnt_input_per1  = Reduce(fun, lst_dat_per1)\n",
    "dat_cnt_input_chr17 = Reduce(fun, lst_dat_chr17)"
   ]
  },
  {
   "cell_type": "markdown",
   "metadata": {},
   "source": [
    "**Check results**"
   ]
  },
  {
   "cell_type": "code",
   "execution_count": 7,
   "metadata": {},
   "outputs": [
    {
     "data": {
      "text/html": [
       "<table>\n",
       "<thead><tr><th scope=col>Chrom</th><th scope=col>Start</th><th scope=col>End</th><th scope=col>Input1</th><th scope=col>Input2</th><th scope=col>Input3</th><th scope=col>Input4</th><th scope=col>Input5</th></tr></thead>\n",
       "<tbody>\n",
       "\t<tr><td>chr17  </td><td>8149040</td><td>8149982</td><td>1      </td><td>NA     </td><td>NA     </td><td> 1     </td><td>NA     </td></tr>\n",
       "\t<tr><td>chr17  </td><td>8149115</td><td>8150060</td><td>1      </td><td>NA     </td><td>NA     </td><td>NA     </td><td>NA     </td></tr>\n",
       "</tbody>\n",
       "</table>\n"
      ],
      "text/latex": [
       "\\begin{tabular}{r|llllllll}\n",
       " Chrom & Start & End & Input1 & Input2 & Input3 & Input4 & Input5\\\\\n",
       "\\hline\n",
       "\t chr17   & 8149040 & 8149982 & 1       & NA      & NA      &  1      & NA     \\\\\n",
       "\t chr17   & 8149115 & 8150060 & 1       & NA      & NA      & NA      & NA     \\\\\n",
       "\\end{tabular}\n"
      ],
      "text/markdown": [
       "\n",
       "| Chrom | Start | End | Input1 | Input2 | Input3 | Input4 | Input5 |\n",
       "|---|---|---|---|---|---|---|---|\n",
       "| chr17   | 8149040 | 8149982 | 1       | NA      | NA      |  1      | NA      |\n",
       "| chr17   | 8149115 | 8150060 | 1       | NA      | NA      | NA      | NA      |\n",
       "\n"
      ],
      "text/plain": [
       "  Chrom Start   End     Input1 Input2 Input3 Input4 Input5\n",
       "1 chr17 8149040 8149982 1      NA     NA      1     NA    \n",
       "2 chr17 8149115 8150060 1      NA     NA     NA     NA    "
      ]
     },
     "metadata": {},
     "output_type": "display_data"
    }
   ],
   "source": [
    "head(dat_cnt_input_per1, 2)"
   ]
  },
  {
   "cell_type": "code",
   "execution_count": 8,
   "metadata": {},
   "outputs": [
    {
     "data": {
      "text/html": [
       "<table>\n",
       "<thead><tr><th scope=col>Chrom</th><th scope=col>Start</th><th scope=col>End</th><th scope=col>Input1</th><th scope=col>Input2</th><th scope=col>Input3</th><th scope=col>Input4</th><th scope=col>Input5</th></tr></thead>\n",
       "<tbody>\n",
       "\t<tr><td>chr17   </td><td>10000160</td><td>10001059</td><td>1       </td><td>NA      </td><td>NA      </td><td>NA      </td><td>NA      </td></tr>\n",
       "\t<tr><td>chr17   </td><td>10000167</td><td>10001087</td><td>1       </td><td>NA      </td><td>NA      </td><td>NA      </td><td>NA      </td></tr>\n",
       "</tbody>\n",
       "</table>\n"
      ],
      "text/latex": [
       "\\begin{tabular}{r|llllllll}\n",
       " Chrom & Start & End & Input1 & Input2 & Input3 & Input4 & Input5\\\\\n",
       "\\hline\n",
       "\t chr17    & 10000160 & 10001059 & 1        & NA       & NA       & NA       & NA      \\\\\n",
       "\t chr17    & 10000167 & 10001087 & 1        & NA       & NA       & NA       & NA      \\\\\n",
       "\\end{tabular}\n"
      ],
      "text/markdown": [
       "\n",
       "| Chrom | Start | End | Input1 | Input2 | Input3 | Input4 | Input5 |\n",
       "|---|---|---|---|---|---|---|---|\n",
       "| chr17    | 10000160 | 10001059 | 1        | NA       | NA       | NA       | NA       |\n",
       "| chr17    | 10000167 | 10001087 | 1        | NA       | NA       | NA       | NA       |\n",
       "\n"
      ],
      "text/plain": [
       "  Chrom Start    End      Input1 Input2 Input3 Input4 Input5\n",
       "1 chr17 10000160 10001059 1      NA     NA     NA     NA    \n",
       "2 chr17 10000167 10001087 1      NA     NA     NA     NA    "
      ]
     },
     "metadata": {},
     "output_type": "display_data"
    }
   ],
   "source": [
    "head(dat_cnt_input_chr17, 2)"
   ]
  },
  {
   "cell_type": "markdown",
   "metadata": {},
   "source": [
    "## Import separate counts of Output (DMSO)"
   ]
  },
  {
   "cell_type": "code",
   "execution_count": 9,
   "metadata": {},
   "outputs": [],
   "source": [
    "### init: set column names and types\n",
    "cnames = c(\"Chrom\", \"Start\", \"End\") #, \"Count\")\n",
    "ctypes = c(col_character(), col_double(), col_double(), col_double())\n",
    "\n",
    "### init: set sample index\n",
    "idx_samples = paste0(\"TFX\", 2:5, \"_DMSO\")\n",
    "\n",
    "### loop: import counts from Input (PER1)\n",
    "fdiry = FD_DAT\n",
    "fname = \"cnt_PER1.bed\"\n",
    "lst_dat_per1 = lapply(idx_samples, function(idx_sample){\n",
    "    ### set file path\n",
    "    fpath = file.path(fdiry, idx_sample, fname)\n",
    "    \n",
    "    ### import data\n",
    "    dat = read_tsv(\n",
    "        fpath, \n",
    "        col_names = c(cnames, idx_sample), \n",
    "        col_types = ctypes)\n",
    "    return(dat)\n",
    "})\n",
    "\n",
    "### loop: import counts from Input (Chr17)\n",
    "fname = \"cnt_chr17.bed\"\n",
    "lst_dat_chr17 = lapply(idx_samples, function(idx_sample){\n",
    "    ### set file path\n",
    "    fpath = file.path(fdiry, idx_sample, fname)\n",
    "    \n",
    "    ### import data\n",
    "    dat = read_tsv(\n",
    "        fpath, \n",
    "        col_names = c(cnames, idx_sample), \n",
    "        col_types = ctypes)\n",
    "    return(dat)\n",
    "})\n",
    "\n",
    "### Joining all the data.frames\n",
    "fun = function(df1, df2){full_join(df1, df2, by=cnames)}\n",
    "dat_cnt_dmso_per1  = Reduce(fun, lst_dat_per1)\n",
    "dat_cnt_dmso_chr17 = Reduce(fun, lst_dat_chr17)"
   ]
  },
  {
   "cell_type": "markdown",
   "metadata": {},
   "source": [
    "**Check results**"
   ]
  },
  {
   "cell_type": "code",
   "execution_count": 15,
   "metadata": {},
   "outputs": [
    {
     "data": {
      "text/html": [
       "<table>\n",
       "<thead><tr><th scope=col>Chrom</th><th scope=col>Start</th><th scope=col>End</th><th scope=col>TFX2_DMSO</th><th scope=col>TFX3_DMSO</th><th scope=col>TFX4_DMSO</th><th scope=col>TFX5_DMSO</th></tr></thead>\n",
       "<tbody>\n",
       "\t<tr><td>chr17  </td><td>8149037</td><td>8150068</td><td>1      </td><td>NA     </td><td>NA     </td><td>NA     </td></tr>\n",
       "\t<tr><td>chr17  </td><td>8149037</td><td>8150069</td><td>1      </td><td>NA     </td><td>NA     </td><td>NA     </td></tr>\n",
       "</tbody>\n",
       "</table>\n"
      ],
      "text/latex": [
       "\\begin{tabular}{r|lllllll}\n",
       " Chrom & Start & End & TFX2\\_DMSO & TFX3\\_DMSO & TFX4\\_DMSO & TFX5\\_DMSO\\\\\n",
       "\\hline\n",
       "\t chr17   & 8149037 & 8150068 & 1       & NA      & NA      & NA     \\\\\n",
       "\t chr17   & 8149037 & 8150069 & 1       & NA      & NA      & NA     \\\\\n",
       "\\end{tabular}\n"
      ],
      "text/markdown": [
       "\n",
       "| Chrom | Start | End | TFX2_DMSO | TFX3_DMSO | TFX4_DMSO | TFX5_DMSO |\n",
       "|---|---|---|---|---|---|---|\n",
       "| chr17   | 8149037 | 8150068 | 1       | NA      | NA      | NA      |\n",
       "| chr17   | 8149037 | 8150069 | 1       | NA      | NA      | NA      |\n",
       "\n"
      ],
      "text/plain": [
       "  Chrom Start   End     TFX2_DMSO TFX3_DMSO TFX4_DMSO TFX5_DMSO\n",
       "1 chr17 8149037 8150068 1         NA        NA        NA       \n",
       "2 chr17 8149037 8150069 1         NA        NA        NA       "
      ]
     },
     "metadata": {},
     "output_type": "display_data"
    }
   ],
   "source": [
    "head(dat_cnt_dmso_per1, 2)"
   ]
  },
  {
   "cell_type": "code",
   "execution_count": 16,
   "metadata": {},
   "outputs": [
    {
     "data": {
      "text/html": [
       "<table>\n",
       "<thead><tr><th scope=col>Chrom</th><th scope=col>Start</th><th scope=col>End</th><th scope=col>TFX2_DMSO</th><th scope=col>TFX3_DMSO</th><th scope=col>TFX4_DMSO</th><th scope=col>TFX5_DMSO</th></tr></thead>\n",
       "<tbody>\n",
       "\t<tr><td>chr17   </td><td>10000013</td><td>10001044</td><td>1       </td><td>NA      </td><td>NA      </td><td>NA      </td></tr>\n",
       "\t<tr><td>chr17   </td><td>10000013</td><td>10001045</td><td>1       </td><td>NA      </td><td>NA      </td><td>NA      </td></tr>\n",
       "</tbody>\n",
       "</table>\n"
      ],
      "text/latex": [
       "\\begin{tabular}{r|lllllll}\n",
       " Chrom & Start & End & TFX2\\_DMSO & TFX3\\_DMSO & TFX4\\_DMSO & TFX5\\_DMSO\\\\\n",
       "\\hline\n",
       "\t chr17    & 10000013 & 10001044 & 1        & NA       & NA       & NA      \\\\\n",
       "\t chr17    & 10000013 & 10001045 & 1        & NA       & NA       & NA      \\\\\n",
       "\\end{tabular}\n"
      ],
      "text/markdown": [
       "\n",
       "| Chrom | Start | End | TFX2_DMSO | TFX3_DMSO | TFX4_DMSO | TFX5_DMSO |\n",
       "|---|---|---|---|---|---|---|\n",
       "| chr17    | 10000013 | 10001044 | 1        | NA       | NA       | NA       |\n",
       "| chr17    | 10000013 | 10001045 | 1        | NA       | NA       | NA       |\n",
       "\n"
      ],
      "text/plain": [
       "  Chrom Start    End      TFX2_DMSO TFX3_DMSO TFX4_DMSO TFX5_DMSO\n",
       "1 chr17 10000013 10001044 1         NA        NA        NA       \n",
       "2 chr17 10000013 10001045 1         NA        NA        NA       "
      ]
     },
     "metadata": {},
     "output_type": "display_data"
    }
   ],
   "source": [
    "head(dat_cnt_dmso_chr17, 2)"
   ]
  },
  {
   "cell_type": "markdown",
   "metadata": {},
   "source": [
    "## Import separate counts of Output (Dex)"
   ]
  },
  {
   "cell_type": "code",
   "execution_count": 12,
   "metadata": {},
   "outputs": [],
   "source": [
    "### init: set column names and types\n",
    "cnames = c(\"Chrom\", \"Start\", \"End\") #, \"Count\")\n",
    "ctypes = c(col_character(), col_double(), col_double(), col_double())\n",
    "\n",
    "### init: set sample index\n",
    "idx_samples = paste0(\"TFX\", 2:5, \"_Dex\")\n",
    "\n",
    "### loop: import counts from Input (PER1)\n",
    "fdiry = FD_DAT\n",
    "fname = \"cnt_PER1.bed\"\n",
    "lst_dat_per1 = lapply(idx_samples, function(idx_sample){\n",
    "    ### set file path\n",
    "    fpath = file.path(fdiry, idx_sample, fname)\n",
    "    \n",
    "    ### import data\n",
    "    dat = read_tsv(\n",
    "        fpath, \n",
    "        col_names = c(cnames, idx_sample), \n",
    "        col_types = ctypes)\n",
    "    return(dat)\n",
    "})\n",
    "\n",
    "### loop: import counts from Input (Chr17)\n",
    "fname = \"cnt_chr17.bed\"\n",
    "lst_dat_chr17 = lapply(idx_samples, function(idx_sample){\n",
    "    ### set file path\n",
    "    fpath = file.path(fdiry, idx_sample, fname)\n",
    "    \n",
    "    ### import data\n",
    "    dat = read_tsv(\n",
    "        fpath, \n",
    "        col_names = c(cnames, idx_sample), \n",
    "        col_types = ctypes)\n",
    "    return(dat)\n",
    "})\n",
    "\n",
    "### Joining all the data.frames\n",
    "fun = function(df1, df2){full_join(df1, df2, by=cnames)}\n",
    "dat_cnt_dex_per1  = Reduce(fun, lst_dat_per1)\n",
    "dat_cnt_dex_chr17 = Reduce(fun, lst_dat_chr17)"
   ]
  },
  {
   "cell_type": "markdown",
   "metadata": {},
   "source": [
    "**Check results**"
   ]
  },
  {
   "cell_type": "code",
   "execution_count": 17,
   "metadata": {},
   "outputs": [
    {
     "data": {
      "text/html": [
       "<table>\n",
       "<thead><tr><th scope=col>Chrom</th><th scope=col>Start</th><th scope=col>End</th><th scope=col>TFX2_Dex</th><th scope=col>TFX3_Dex</th><th scope=col>TFX4_Dex</th><th scope=col>TFX5_Dex</th></tr></thead>\n",
       "<tbody>\n",
       "\t<tr><td>chr17  </td><td>8149050</td><td>8150005</td><td>1      </td><td>NA     </td><td>NA     </td><td>NA     </td></tr>\n",
       "\t<tr><td>chr17  </td><td>8149050</td><td>8150006</td><td>1      </td><td>NA     </td><td>NA     </td><td>NA     </td></tr>\n",
       "</tbody>\n",
       "</table>\n"
      ],
      "text/latex": [
       "\\begin{tabular}{r|lllllll}\n",
       " Chrom & Start & End & TFX2\\_Dex & TFX3\\_Dex & TFX4\\_Dex & TFX5\\_Dex\\\\\n",
       "\\hline\n",
       "\t chr17   & 8149050 & 8150005 & 1       & NA      & NA      & NA     \\\\\n",
       "\t chr17   & 8149050 & 8150006 & 1       & NA      & NA      & NA     \\\\\n",
       "\\end{tabular}\n"
      ],
      "text/markdown": [
       "\n",
       "| Chrom | Start | End | TFX2_Dex | TFX3_Dex | TFX4_Dex | TFX5_Dex |\n",
       "|---|---|---|---|---|---|---|\n",
       "| chr17   | 8149050 | 8150005 | 1       | NA      | NA      | NA      |\n",
       "| chr17   | 8149050 | 8150006 | 1       | NA      | NA      | NA      |\n",
       "\n"
      ],
      "text/plain": [
       "  Chrom Start   End     TFX2_Dex TFX3_Dex TFX4_Dex TFX5_Dex\n",
       "1 chr17 8149050 8150005 1        NA       NA       NA      \n",
       "2 chr17 8149050 8150006 1        NA       NA       NA      "
      ]
     },
     "metadata": {},
     "output_type": "display_data"
    }
   ],
   "source": [
    "head(dat_cnt_dex_per1, 2)"
   ]
  },
  {
   "cell_type": "code",
   "execution_count": 18,
   "metadata": {},
   "outputs": [
    {
     "data": {
      "text/html": [
       "<table>\n",
       "<thead><tr><th scope=col>Chrom</th><th scope=col>Start</th><th scope=col>End</th><th scope=col>TFX2_Dex</th><th scope=col>TFX3_Dex</th><th scope=col>TFX4_Dex</th><th scope=col>TFX5_Dex</th></tr></thead>\n",
       "<tbody>\n",
       "\t<tr><td>chr17   </td><td>10000156</td><td>10001172</td><td>2       </td><td>NA      </td><td>NA      </td><td>NA      </td></tr>\n",
       "\t<tr><td>chr17   </td><td>10000156</td><td>10001173</td><td>1       </td><td>NA      </td><td>NA      </td><td>NA      </td></tr>\n",
       "</tbody>\n",
       "</table>\n"
      ],
      "text/latex": [
       "\\begin{tabular}{r|lllllll}\n",
       " Chrom & Start & End & TFX2\\_Dex & TFX3\\_Dex & TFX4\\_Dex & TFX5\\_Dex\\\\\n",
       "\\hline\n",
       "\t chr17    & 10000156 & 10001172 & 2        & NA       & NA       & NA      \\\\\n",
       "\t chr17    & 10000156 & 10001173 & 1        & NA       & NA       & NA      \\\\\n",
       "\\end{tabular}\n"
      ],
      "text/markdown": [
       "\n",
       "| Chrom | Start | End | TFX2_Dex | TFX3_Dex | TFX4_Dex | TFX5_Dex |\n",
       "|---|---|---|---|---|---|---|\n",
       "| chr17    | 10000156 | 10001172 | 2        | NA       | NA       | NA       |\n",
       "| chr17    | 10000156 | 10001173 | 1        | NA       | NA       | NA       |\n",
       "\n"
      ],
      "text/plain": [
       "  Chrom Start    End      TFX2_Dex TFX3_Dex TFX4_Dex TFX5_Dex\n",
       "1 chr17 10000156 10001172 2        NA       NA       NA      \n",
       "2 chr17 10000156 10001173 1        NA       NA       NA      "
      ]
     },
     "metadata": {},
     "output_type": "display_data"
    }
   ],
   "source": [
    "head(dat_cnt_dex_chr17, 2)"
   ]
  },
  {
   "cell_type": "markdown",
   "metadata": {},
   "source": [
    "## Save the table"
   ]
  },
  {
   "cell_type": "code",
   "execution_count": 19,
   "metadata": {},
   "outputs": [
    {
     "data": {
      "text/html": [
       "'/work/kk319/out/CombEffect_STARR/count_fragment'"
      ],
      "text/latex": [
       "'/work/kk319/out/CombEffect\\_STARR/count\\_fragment'"
      ],
      "text/markdown": [
       "'/work/kk319/out/CombEffect_STARR/count_fragment'"
      ],
      "text/plain": [
       "[1] \"/work/kk319/out/CombEffect_STARR/count_fragment\""
      ]
     },
     "metadata": {},
     "output_type": "display_data"
    }
   ],
   "source": [
    "FD_DAT"
   ]
  },
  {
   "cell_type": "code",
   "execution_count": 20,
   "metadata": {},
   "outputs": [],
   "source": [
    "fpath = file.path(FD_DAT, \"dat_cnt_input_per1.csv\")\n",
    "write_csv(dat_cnt_input_per1, fpath)"
   ]
  },
  {
   "cell_type": "code",
   "execution_count": 21,
   "metadata": {},
   "outputs": [],
   "source": [
    "fpath = file.path(FD_DAT, \"dat_cnt_input_chr17.csv\")\n",
    "write_csv(dat_cnt_input_chr17, fpath)"
   ]
  },
  {
   "cell_type": "code",
   "execution_count": 22,
   "metadata": {},
   "outputs": [],
   "source": [
    "fpath = file.path(FD_DAT, \"dat_cnt_dmso_per1.csv\")\n",
    "write_csv(dat_cnt_dmso_per1, fpath)"
   ]
  },
  {
   "cell_type": "code",
   "execution_count": 23,
   "metadata": {},
   "outputs": [],
   "source": [
    "fpath = file.path(FD_DAT, \"dat_cnt_dmso_chr17.csv\")\n",
    "write_csv(dat_cnt_dmso_chr17, fpath)"
   ]
  },
  {
   "cell_type": "code",
   "execution_count": 24,
   "metadata": {},
   "outputs": [],
   "source": [
    "fpath = file.path(FD_DAT, \"dat_cnt_dex_per1.csv\")\n",
    "write_csv(dat_cnt_dex_per1, fpath)"
   ]
  },
  {
   "cell_type": "code",
   "execution_count": 25,
   "metadata": {},
   "outputs": [],
   "source": [
    "fpath = file.path(FD_DAT, \"dat_cnt_dex_chr17.csv\")\n",
    "write_csv(dat_cnt_dex_chr17, fpath)"
   ]
  }
 ],
 "metadata": {
  "kernelspec": {
   "display_name": "R",
   "language": "R",
   "name": "ir"
  },
  "language_info": {
   "codemirror_mode": "r",
   "file_extension": ".r",
   "mimetype": "text/x-r-source",
   "name": "R",
   "pygments_lexer": "r",
   "version": "3.6.1"
  }
 },
 "nbformat": 4,
 "nbformat_minor": 4
}
