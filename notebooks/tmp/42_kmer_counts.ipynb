{
 "cells": [
  {
   "cell_type": "markdown",
   "id": "6398d23f-d9ed-4b8f-ac7f-e31d1720fbc3",
   "metadata": {},
   "source": [
    "# kmer count in PER1 region"
   ]
  },
  {
   "cell_type": "markdown",
   "id": "d5427f9b-ef41-479c-8068-e7afa99a658c",
   "metadata": {},
   "source": [
    "## Count fragments for Input"
   ]
  },
  {
   "cell_type": "markdown",
   "id": "aaa3a263-4b80-40f2-ad7c-da5529714f09",
   "metadata": {},
   "source": [
    "### Test looping input directories"
   ]
  },
  {
   "cell_type": "code",
   "execution_count": 2,
   "id": "1487b697-cc88-4ec8-ab17-8ad1fa9cb654",
   "metadata": {},
   "outputs": [
    {
     "name": "stdout",
     "output_type": "stream",
     "text": [
      "Input\n",
      "/work/kk319/out/CombEffect_STARR/data/Input/\n",
      "/work/kk319/out/CombEffect_STARR/kmer/kmer_PER1_Input.bed\n",
      "Input1\n",
      "/work/kk319/out/CombEffect_STARR/data/Input1/\n",
      "/work/kk319/out/CombEffect_STARR/kmer/kmer_PER1_Input1.bed\n",
      "Input2\n",
      "/work/kk319/out/CombEffect_STARR/data/Input2/\n",
      "/work/kk319/out/CombEffect_STARR/kmer/kmer_PER1_Input2.bed\n",
      "Input3\n",
      "/work/kk319/out/CombEffect_STARR/data/Input3/\n",
      "/work/kk319/out/CombEffect_STARR/kmer/kmer_PER1_Input3.bed\n",
      "Input4\n",
      "/work/kk319/out/CombEffect_STARR/data/Input4/\n",
      "/work/kk319/out/CombEffect_STARR/kmer/kmer_PER1_Input4.bed\n",
      "Input5\n",
      "/work/kk319/out/CombEffect_STARR/data/Input5/\n",
      "/work/kk319/out/CombEffect_STARR/kmer/kmer_PER1_Input5.bed\n"
     ]
    }
   ],
   "source": [
    "%%bash\n",
    "FD_BASE=/work/kk319\n",
    "FD_WRK=${FD_BASE}/out/CombEffect_STARR\n",
    "FD_BEDS=($(ls -d ${FD_WRK}/data/Input*/))\n",
    "FD_OUT=${FD_WRK}/kmer\n",
    "for FD_BED in ${FD_BEDS[@]}; do\n",
    "    echo $(basename ${FD_BED})\n",
    "    echo ${FD_BED}\n",
    "    echo ${FD_OUT}/kmer_PER1_$(basename ${FD_BED}).bed\n",
    "done"
   ]
  },
  {
   "cell_type": "markdown",
   "id": "c59bcdc0-3890-4921-bcfa-251908fe373e",
   "metadata": {},
   "source": [
    "### Intersect K-MER (PER1) and for each input (chr17)"
   ]
  },
  {
   "cell_type": "code",
   "execution_count": 35,
   "id": "67d2be2d-a9f4-4bd8-ad26-408945b1dc69",
   "metadata": {},
   "outputs": [
    {
     "name": "stdout",
     "output_type": "stream",
     "text": [
      "Bedtools 2.27.1\n",
      "Submitted batch job 11154960\n"
     ]
    }
   ],
   "source": [
    "%%bash\n",
    "### set environment on HARDAC\n",
    "#module load bedtools2\n",
    "#module load perl\n",
    "#module load gcc\n",
    "#source /data/reddylab/software/miniconda2/bin/activate alex_dev\n",
    "#export PATH=/data/reddylab/software/homer/bin/:$PATH\n",
    "\n",
    "### set environment on DCC\n",
    "module load Bedtools\n",
    "source config.sh\n",
    "FD_LOG=${FD_WRK}/log\n",
    "\n",
    "### run script using sbatch\n",
    "#sbatch -pnew,all \\\n",
    "sbatch -p scavenger \\\n",
    "    --array=0-5 \\\n",
    "    --mem 8G \\\n",
    "    -o ${FD_LOG}/kmer_count_per1_input_chr17.%a.txt \\\n",
    "    <<'EOF'\n",
    "#!/bin/bash\n",
    "### set directories and global parameters\n",
    "source config.sh\n",
    "FD_BEDS=($(ls -d ${FD_WRK}/data/Input*/))\n",
    "CHROM=chr17\n",
    "TARGET=PER1\n",
    "\n",
    "### set input files\n",
    "FD_BED=${FD_BEDS[${SLURM_ARRAY_TASK_ID}]}\n",
    "FN_BED=${CHROM}.bed\n",
    "\n",
    "FD_KMR=${FD_WRK}/kmer\n",
    "FN_KMR=kmer_${TARGET}.bed\n",
    "\n",
    "### set output files\n",
    "FD_OUT=${FD_KMR}/$(basename ${FD_BED})\n",
    "FN_OUT=kmer_PER1.bedpe\n",
    "\n",
    "FD_CNT=${FD_KMR}/$(basename ${FD_BED})\n",
    "FN_CNT=kmer_PER1_count.bed\n",
    "\n",
    "### print start message\n",
    "echo \"Slurm Array Index: \" ${SLURM_ARRAY_TASK_ID}\n",
    "echo \"Input  file:       \" ${FD_KMR}/${FN_KMR}\n",
    "echo \"Input  file:       \" ${FD_BED}/${FN_BED}\n",
    "echo \"Output file:       \" ${FD_OUT}/${FN_OUT}\n",
    "echo \"Output file:       \" ${FD_CNT}/${FN_CNT}\n",
    "echo\n",
    "echo \"Show the first few lines of the input file\"\n",
    "echo ${FD_BED}/${FN_BED}\n",
    "head ${FD_BED}/${FN_BED}\n",
    "echo\n",
    "echo \"Show the first few lines of the input file\"\n",
    "echo ${FD_KMR}/${FN_KMR}\n",
    "head ${FD_KMR}/${FN_KMR}\n",
    "\n",
    "### init: create folder\n",
    "mkdir -p ${FD_OUT}\n",
    "\n",
    "### intersect\n",
    "FP_BED_A=${FD_KMR}/${FN_KMR}\n",
    "FP_BED_B=${FD_BED}/${FN_BED}\n",
    "FP_BED_O=${FD_OUT}/${FN_OUT}\n",
    "bedtools intersect -a ${FP_BED_A} -b ${FP_BED_B} -wo > ${FP_BED_O}\n",
    "\n",
    "### count the kmers\n",
    "cat ${FP_BED_O} |\\\n",
    "    awk -F $'\\t' '($7 == 750)' |\\\n",
    "    cut -f1-3 |\\\n",
    "    uniq -c   |\\\n",
    "    awk '{$(NF+1)=$1;$1=\"\"}1'   |\\\n",
    "    sed -e 's/^[[:space:]]*//'  |\\\n",
    "    sed -e 's/[[:space:]]/\\t/g' > ${FD_CNT}/${FN_CNT}\n",
    "\n",
    "### print end message\n",
    "echo\n",
    "echo \"Show the first few lines of the output file\"\n",
    "echo ${FD_OUT}/${FN_OUT}\n",
    "head ${FD_OUT}/${FN_OUT}\n",
    "echo\n",
    "echo \"Show the first few lines of the output file\"\n",
    "echo ${FD_CNT}/${FN_CNT}\n",
    "head ${FD_CNT}/${FN_CNT}\n",
    "\n",
    "EOF"
   ]
  },
  {
   "cell_type": "markdown",
   "id": "02a32196-7a8d-49dc-be7c-b4dd1527afde",
   "metadata": {},
   "source": [
    "**Check results**"
   ]
  },
  {
   "cell_type": "code",
   "execution_count": 37,
   "id": "df7d31fe-9c5d-422b-bad2-4d720b3d984a",
   "metadata": {},
   "outputs": [
    {
     "name": "stdout",
     "output_type": "stream",
     "text": [
      "Slurm Array Index:  0\n",
      "Input  file:        /work/kk319/out/CombEffect_STARR/kmer/kmer_PER1.bed\n",
      "Input  file:        /work/kk319/out/CombEffect_STARR/data/Input//chr17.bed\n",
      "Output file:        /work/kk319/out/CombEffect_STARR/kmer/Input/kmer_PER1.bedpe\n",
      "Output file:        /work/kk319/out/CombEffect_STARR/kmer/Input/kmer_PER1_count.bed\n",
      "\n",
      "Show the first few lines of the input file\n",
      "/work/kk319/out/CombEffect_STARR/data/Input//chr17.bed\n",
      "chr17\t201123\t201925\n",
      "chr17\t201160\t201968\n",
      "chr17\t201202\t202074\n",
      "chr17\t201259\t202052\n",
      "chr17\t201366\t202130\n",
      "chr17\t206174\t207307\n",
      "chr17\t206269\t207286\n",
      "chr17\t206283\t207194\n",
      "chr17\t206324\t207359\n",
      "chr17\t206326\t207274\n",
      "\n",
      "Show the first few lines of the input file\n",
      "/work/kk319/out/CombEffect_STARR/kmer/kmer_PER1.bed\n",
      "chr17\t8148000\t8148750\n",
      "chr17\t8148005\t8148755\n",
      "chr17\t8148010\t8148760\n",
      "chr17\t8148015\t8148765\n",
      "chr17\t8148020\t8148770\n",
      "chr17\t8148025\t8148775\n",
      "chr17\t8148030\t8148780\n",
      "chr17\t8148035\t8148785\n",
      "chr17\t8148040\t8148790\n",
      "chr17\t8148045\t8148795\n",
      "\n",
      "Show the first few lines of the output file\n",
      "/work/kk319/out/CombEffect_STARR/kmer/Input/kmer_PER1.bedpe\n",
      "chr17\t8148000\t8148750\tchr17\t8147449\t8148452\t452\n",
      "chr17\t8148000\t8148750\tchr17\t8147462\t8148534\t534\n",
      "chr17\t8148000\t8148750\tchr17\t8147495\t8148385\t385\n",
      "chr17\t8148000\t8148750\tchr17\t8147539\t8148595\t595\n",
      "chr17\t8148000\t8148750\tchr17\t8147566\t8148548\t548\n",
      "chr17\t8148000\t8148750\tchr17\t8147615\t8148537\t537\n",
      "chr17\t8148000\t8148750\tchr17\t8147775\t8148598\t598\n",
      "chr17\t8148000\t8148750\tchr17\t8147787\t8148799\t750\n",
      "chr17\t8148000\t8148750\tchr17\t8147806\t8148751\t750\n",
      "chr17\t8148000\t8148750\tchr17\t8147903\t8148730\t730\n",
      "\n",
      "Show the first few lines of the output file\n",
      "/work/kk319/out/CombEffect_STARR/kmer/Input/kmer_PER1_count.bed\n",
      "chr17\t8148000\t8148750\t16\n",
      "chr17\t8148005\t8148755\t15\n",
      "chr17\t8148010\t8148760\t14\n",
      "chr17\t8148015\t8148765\t13\n",
      "chr17\t8148020\t8148770\t16\n",
      "chr17\t8148025\t8148775\t17\n",
      "chr17\t8148030\t8148780\t17\n",
      "chr17\t8148035\t8148785\t16\n",
      "chr17\t8148040\t8148790\t16\n",
      "chr17\t8148045\t8148795\t16\n"
     ]
    }
   ],
   "source": [
    "%%bash\n",
    "source config.sh\n",
    "FD_LOG=${FD_WRK}/log\n",
    "cat ${FD_LOG}/kmer_count_per1_input_chr17.0.txt "
   ]
  },
  {
   "cell_type": "code",
   "execution_count": 38,
   "id": "e8d28f54-dcd7-45ef-ac2b-978958afa997",
   "metadata": {},
   "outputs": [
    {
     "name": "stdout",
     "output_type": "stream",
     "text": [
      "Slurm Array Index:  5\n",
      "Input  file:        /work/kk319/out/CombEffect_STARR/kmer/kmer_PER1.bed\n",
      "Input  file:        /work/kk319/out/CombEffect_STARR/data/Input5//chr17.bed\n",
      "Output file:        /work/kk319/out/CombEffect_STARR/kmer/Input5/kmer_PER1.bedpe\n",
      "Output file:        /work/kk319/out/CombEffect_STARR/kmer/Input5/kmer_PER1_count.bed\n",
      "\n",
      "Show the first few lines of the input file\n",
      "/work/kk319/out/CombEffect_STARR/data/Input5//chr17.bed\n",
      "chr17\t197679\t198597\n",
      "chr17\t201155\t201967\n",
      "chr17\t201364\t202119\n",
      "chr17\t205678\t206636\n",
      "chr17\t206243\t207269\n",
      "chr17\t206253\t207246\n",
      "chr17\t206400\t207470\n",
      "chr17\t206554\t207585\n",
      "chr17\t206559\t207627\n",
      "chr17\t206945\t207728\n",
      "\n",
      "Show the first few lines of the input file\n",
      "/work/kk319/out/CombEffect_STARR/kmer/kmer_PER1.bed\n",
      "chr17\t8148000\t8148750\n",
      "chr17\t8148005\t8148755\n",
      "chr17\t8148010\t8148760\n",
      "chr17\t8148015\t8148765\n",
      "chr17\t8148020\t8148770\n",
      "chr17\t8148025\t8148775\n",
      "chr17\t8148030\t8148780\n",
      "chr17\t8148035\t8148785\n",
      "chr17\t8148040\t8148790\n",
      "chr17\t8148045\t8148795\n",
      "\n",
      "Show the first few lines of the output file\n",
      "/work/kk319/out/CombEffect_STARR/kmer/Input5/kmer_PER1.bedpe\n",
      "chr17\t8148000\t8148750\tchr17\t8147241\t8148257\t257\n",
      "chr17\t8148000\t8148750\tchr17\t8147340\t8148330\t330\n",
      "chr17\t8148000\t8148750\tchr17\t8147586\t8148522\t522\n",
      "chr17\t8148000\t8148750\tchr17\t8147586\t8148573\t573\n",
      "chr17\t8148000\t8148750\tchr17\t8147632\t8148588\t588\n",
      "chr17\t8148000\t8148750\tchr17\t8147670\t8148658\t658\n",
      "chr17\t8148000\t8148750\tchr17\t8147699\t8148591\t591\n",
      "chr17\t8148000\t8148750\tchr17\t8147785\t8148799\t750\n",
      "chr17\t8148000\t8148750\tchr17\t8147810\t8148759\t750\n",
      "chr17\t8148000\t8148750\tchr17\t8147918\t8148919\t750\n",
      "\n",
      "Show the first few lines of the output file\n",
      "/work/kk319/out/CombEffect_STARR/kmer/Input5/kmer_PER1_count.bed\n",
      "chr17\t8148000\t8148750\t4\n",
      "chr17\t8148005\t8148755\t4\n",
      "chr17\t8148010\t8148760\t3\n",
      "chr17\t8148015\t8148765\t3\n",
      "chr17\t8148020\t8148770\t3\n",
      "chr17\t8148025\t8148775\t3\n",
      "chr17\t8148030\t8148780\t3\n",
      "chr17\t8148035\t8148785\t3\n",
      "chr17\t8148040\t8148790\t3\n",
      "chr17\t8148045\t8148795\t3\n"
     ]
    }
   ],
   "source": [
    "%%bash\n",
    "source config.sh\n",
    "FD_LOG=${FD_WRK}/log\n",
    "cat ${FD_LOG}/kmer_count_per1_input_chr17.5.txt "
   ]
  },
  {
   "cell_type": "markdown",
   "id": "9faf1870-8c22-488e-b156-c0fad2f40744",
   "metadata": {},
   "source": [
    "## Test code for counting fragment"
   ]
  },
  {
   "cell_type": "code",
   "execution_count": 40,
   "id": "3c88280b-8ae0-4700-8d32-aa715bb6acdb",
   "metadata": {},
   "outputs": [
    {
     "name": "stdout",
     "output_type": "stream",
     "text": [
      "chr17\t8148000\t8148750\tchr17\t8147785\t8148799\t750\n",
      "chr17\t8148000\t8148750\tchr17\t8147810\t8148759\t750\n",
      "chr17\t8148000\t8148750\tchr17\t8147918\t8148919\t750\n",
      "chr17\t8148000\t8148750\tchr17\t8147950\t8149020\t750\n",
      "chr17\t8148005\t8148755\tchr17\t8147785\t8148799\t750\n",
      "chr17\t8148005\t8148755\tchr17\t8147810\t8148759\t750\n",
      "chr17\t8148005\t8148755\tchr17\t8147918\t8148919\t750\n",
      "chr17\t8148005\t8148755\tchr17\t8147950\t8149020\t750\n"
     ]
    }
   ],
   "source": [
    "%%bash\n",
    "fpath=/work/kk319/out/CombEffect_STARR/kmer/Input5/kmer_PER1.bedpe\n",
    "head -n 30 $fpath | awk -F $'\\t' '($7 == 750)'"
   ]
  },
  {
   "cell_type": "code",
   "execution_count": 41,
   "id": "430677c1-4450-45ef-99f9-63401f8e46ee",
   "metadata": {},
   "outputs": [
    {
     "name": "stdout",
     "output_type": "stream",
     "text": [
      "chr17\t8148000\t8148750\n",
      "chr17\t8148000\t8148750\n",
      "chr17\t8148000\t8148750\n",
      "chr17\t8148000\t8148750\n",
      "chr17\t8148005\t8148755\n",
      "chr17\t8148005\t8148755\n",
      "chr17\t8148005\t8148755\n",
      "chr17\t8148005\t8148755\n"
     ]
    }
   ],
   "source": [
    "%%bash\n",
    "fpath=/work/kk319/out/CombEffect_STARR/kmer/Input5/kmer_PER1.bedpe\n",
    "head -n 30 $fpath | awk -F $'\\t' '($7 == 750)' | cut -f1-3"
   ]
  },
  {
   "cell_type": "code",
   "execution_count": 42,
   "id": "c46bd88f-1e4f-4282-8e59-3ce135b14cbf",
   "metadata": {},
   "outputs": [
    {
     "name": "stdout",
     "output_type": "stream",
     "text": [
      "chr17\t8148000\t8148750\t4\n",
      "chr17\t8148005\t8148755\t4\n"
     ]
    }
   ],
   "source": [
    "%%bash\n",
    "fpath=/work/kk319/out/CombEffect_STARR/kmer/Input5/kmer_PER1.bedpe\n",
    "head -n 30 $fpath | awk -F $'\\t' '($7 == 750)' |\\\n",
    "    cut -f1-3 |\\\n",
    "    uniq -c   |\\\n",
    "    awk '{$(NF+1)=$1;$1=\"\"}1'   |\\\n",
    "    sed -e 's/^[[:space:]]*//'  |\\\n",
    "    sed -e 's/[[:space:]]/\\t/g'"
   ]
  },
  {
   "cell_type": "markdown",
   "id": "e68b884d-3ac8-4722-a9a9-24a87c059707",
   "metadata": {},
   "source": [
    "## Count fragments for Output (DMSO)"
   ]
  },
  {
   "cell_type": "markdown",
   "id": "f4105166-fcd9-4597-85d2-4e623960b127",
   "metadata": {},
   "source": [
    "### Test looping output (DMSO) directories"
   ]
  },
  {
   "cell_type": "code",
   "execution_count": 25,
   "id": "41acd4b1-2d4c-4db7-98a0-c2ff90ed6988",
   "metadata": {},
   "outputs": [
    {
     "name": "stdout",
     "output_type": "stream",
     "text": [
      "TFX2_DMSO\n",
      "/work/kk319/out/CombEffect_STARR/data/TFX2_DMSO/\n",
      "/work/kk319/out/CombEffect_STARR/kmer/kmer_PER1_TFX2_DMSO.bed\n",
      "TFX3_DMSO\n",
      "/work/kk319/out/CombEffect_STARR/data/TFX3_DMSO/\n",
      "/work/kk319/out/CombEffect_STARR/kmer/kmer_PER1_TFX3_DMSO.bed\n",
      "TFX4_DMSO\n",
      "/work/kk319/out/CombEffect_STARR/data/TFX4_DMSO/\n",
      "/work/kk319/out/CombEffect_STARR/kmer/kmer_PER1_TFX4_DMSO.bed\n",
      "TFX5_DMSO\n",
      "/work/kk319/out/CombEffect_STARR/data/TFX5_DMSO/\n",
      "/work/kk319/out/CombEffect_STARR/kmer/kmer_PER1_TFX5_DMSO.bed\n",
      "TFX_DMSO\n",
      "/work/kk319/out/CombEffect_STARR/data/TFX_DMSO/\n",
      "/work/kk319/out/CombEffect_STARR/kmer/kmer_PER1_TFX_DMSO.bed\n"
     ]
    }
   ],
   "source": [
    "%%bash\n",
    "FD_BASE=/work/kk319\n",
    "FD_WRK=${FD_BASE}/out/CombEffect_STARR\n",
    "FD_BEDS=($(ls -d ${FD_WRK}/data/TFX*_DMSO/))\n",
    "FD_OUT=${FD_WRK}/kmer\n",
    "for FD_BED in ${FD_BEDS[@]}; do\n",
    "    echo $(basename ${FD_BED})\n",
    "    echo ${FD_BED}\n",
    "    echo ${FD_OUT}/kmer_PER1_$(basename ${FD_BED}).bed\n",
    "done"
   ]
  },
  {
   "cell_type": "markdown",
   "id": "7460c965-8570-43a5-bd6a-7ab3aaef16c3",
   "metadata": {},
   "source": [
    "### Intersect K-MER (PER1) and for each DMSO (chr17)"
   ]
  },
  {
   "cell_type": "code",
   "execution_count": 43,
   "id": "5e5913be-d2bf-4fd5-a5f7-f6546143cc40",
   "metadata": {},
   "outputs": [
    {
     "name": "stdout",
     "output_type": "stream",
     "text": [
      "Bedtools 2.27.1\n",
      "Submitted batch job 11155346\n"
     ]
    }
   ],
   "source": [
    "%%bash\n",
    "### set environment on HARDAC\n",
    "#module load bedtools2\n",
    "#module load perl\n",
    "#module load gcc\n",
    "#source /data/reddylab/software/miniconda2/bin/activate alex_dev\n",
    "#export PATH=/data/reddylab/software/homer/bin/:$PATH\n",
    "\n",
    "### set environment on DCC\n",
    "module load Bedtools\n",
    "source config.sh\n",
    "FD_LOG=${FD_WRK}/log\n",
    "\n",
    "### run script using sbatch\n",
    "#sbatch -pnew,all \\\n",
    "sbatch -p scavenger \\\n",
    "    --array=0-4 \\\n",
    "    --mem 8G \\\n",
    "    -o ${FD_LOG}/kmer_count_per1_output_dmso_chr17.%a.txt \\\n",
    "    <<'EOF'\n",
    "#!/bin/bash\n",
    "### set directories and global parameters\n",
    "source config.sh\n",
    "FD_BEDS=($(ls -d ${FD_WRK}/data/TFX*_DMSO/))\n",
    "CHROM=chr17\n",
    "TARGET=PER1\n",
    "\n",
    "### set input files\n",
    "FD_BED=${FD_BEDS[${SLURM_ARRAY_TASK_ID}]}\n",
    "FN_BED=${CHROM}.bed\n",
    "\n",
    "FD_KMR=${FD_WRK}/kmer\n",
    "FN_KMR=kmer_${TARGET}.bed\n",
    "\n",
    "### set output files\n",
    "FD_OUT=${FD_KMR}/$(basename ${FD_BED})\n",
    "FN_OUT=kmer_PER1.bedpe\n",
    "\n",
    "FD_CNT=${FD_KMR}/$(basename ${FD_BED})\n",
    "FN_CNT=kmer_PER1_count.bed\n",
    "\n",
    "### print start message\n",
    "echo \"Slurm Array Index: \" ${SLURM_ARRAY_TASK_ID}\n",
    "echo \"Input  file:       \" ${FD_KMR}/${FN_KMR}\n",
    "echo \"Input  file:       \" ${FD_BED}/${FN_BED}\n",
    "echo \"Output file:       \" ${FD_OUT}/${FN_OUT}\n",
    "echo \"Output file:       \" ${FD_CNT}/${FN_CNT}\n",
    "echo\n",
    "echo \"Show the first few lines of the input file\"\n",
    "echo ${FD_BED}/${FN_BED}\n",
    "head ${FD_BED}/${FN_BED}\n",
    "echo\n",
    "echo \"Show the first few lines of the input file\"\n",
    "echo ${FD_KMR}/${FN_KMR}\n",
    "head ${FD_KMR}/${FN_KMR}\n",
    "\n",
    "### init: create folder\n",
    "mkdir -p ${FD_OUT}\n",
    "\n",
    "### intersect\n",
    "FP_BED_A=${FD_KMR}/${FN_KMR}\n",
    "FP_BED_B=${FD_BED}/${FN_BED}\n",
    "FP_BED_O=${FD_OUT}/${FN_OUT}\n",
    "bedtools intersect -a ${FP_BED_A} -b ${FP_BED_B} -wo > ${FP_BED_O}\n",
    "\n",
    "### count the kmers\n",
    "cat ${FP_BED_O} |\\\n",
    "    awk -F $'\\t' '($7 == 750)' |\\\n",
    "    cut -f1-3 |\\\n",
    "    uniq -c   |\\\n",
    "    awk '{$(NF+1)=$1;$1=\"\"}1'   |\\\n",
    "    sed -e 's/^[[:space:]]*//'  |\\\n",
    "    sed -e 's/[[:space:]]/\\t/g' > ${FD_CNT}/${FN_CNT}\n",
    "\n",
    "### print end message\n",
    "echo\n",
    "echo \"Show the first few lines of the output file\"\n",
    "echo ${FD_OUT}/${FN_OUT}\n",
    "head ${FD_OUT}/${FN_OUT}\n",
    "echo\n",
    "echo \"Show the first few lines of the output file\"\n",
    "echo ${FD_CNT}/${FN_CNT}\n",
    "head ${FD_CNT}/${FN_CNT}\n",
    "\n",
    "EOF"
   ]
  },
  {
   "cell_type": "markdown",
   "id": "910c2f00-eed1-469d-b5a7-dfd2fe560e56",
   "metadata": {},
   "source": [
    "**Check results**"
   ]
  },
  {
   "cell_type": "code",
   "execution_count": 45,
   "id": "081d22d3-41a4-4e8d-991e-106803de7567",
   "metadata": {},
   "outputs": [
    {
     "name": "stdout",
     "output_type": "stream",
     "text": [
      "Slurm Array Index:  0\n",
      "Input  file:        /work/kk319/out/CombEffect_STARR/kmer/kmer_PER1.bed\n",
      "Input  file:        /work/kk319/out/CombEffect_STARR/data/TFX2_DMSO//chr17.bed\n",
      "Output file:        /work/kk319/out/CombEffect_STARR/kmer/TFX2_DMSO/kmer_PER1.bedpe\n",
      "Output file:        /work/kk319/out/CombEffect_STARR/kmer/TFX2_DMSO/kmer_PER1_count.bed\n",
      "\n",
      "Show the first few lines of the input file\n",
      "/work/kk319/out/CombEffect_STARR/data/TFX2_DMSO//chr17.bed\n",
      "chr17\t87067\t87989\n",
      "chr17\t158043\t159067\n",
      "chr17\t158043\t159066\n",
      "chr17\t159137\t160020\n",
      "chr17\t170572\t172531\n",
      "chr17\t172392\t173515\n",
      "chr17\t172393\t173515\n",
      "chr17\t172396\t173514\n",
      "chr17\t197679\t198597\n",
      "chr17\t197681\t198597\n",
      "\n",
      "Show the first few lines of the input file\n",
      "/work/kk319/out/CombEffect_STARR/kmer/kmer_PER1.bed\n",
      "chr17\t8148000\t8148750\n",
      "chr17\t8148005\t8148755\n",
      "chr17\t8148010\t8148760\n",
      "chr17\t8148015\t8148765\n",
      "chr17\t8148020\t8148770\n",
      "chr17\t8148025\t8148775\n",
      "chr17\t8148030\t8148780\n",
      "chr17\t8148035\t8148785\n",
      "chr17\t8148040\t8148790\n",
      "chr17\t8148045\t8148795\n",
      "\n",
      "Show the first few lines of the output file\n",
      "/work/kk319/out/CombEffect_STARR/kmer/TFX2_DMSO/kmer_PER1.bedpe\n",
      "chr17\t8148000\t8148750\tchr17\t8146914\t8148026\t26\n",
      "chr17\t8148000\t8148750\tchr17\t8146914\t8148027\t27\n",
      "chr17\t8148000\t8148750\tchr17\t8146914\t8148025\t25\n",
      "chr17\t8148000\t8148750\tchr17\t8146915\t8148027\t27\n",
      "chr17\t8148000\t8148750\tchr17\t8146916\t8148025\t25\n",
      "chr17\t8148000\t8148750\tchr17\t8147040\t8148002\t2\n",
      "chr17\t8148000\t8148750\tchr17\t8147277\t8148213\t213\n",
      "chr17\t8148000\t8148750\tchr17\t8147292\t8148313\t313\n",
      "chr17\t8148000\t8148750\tchr17\t8147346\t8148275\t275\n",
      "chr17\t8148000\t8148750\tchr17\t8147346\t8148276\t276\n",
      "\n",
      "Show the first few lines of the output file\n",
      "/work/kk319/out/CombEffect_STARR/kmer/TFX2_DMSO/kmer_PER1_count.bed\n",
      "chr17\t8148000\t8148750\t11\n",
      "chr17\t8148005\t8148755\t12\n",
      "chr17\t8148010\t8148760\t12\n",
      "chr17\t8148015\t8148765\t12\n",
      "chr17\t8148020\t8148770\t12\n",
      "chr17\t8148025\t8148775\t12\n",
      "chr17\t8148030\t8148780\t12\n",
      "chr17\t8148035\t8148785\t12\n",
      "chr17\t8148040\t8148790\t12\n",
      "chr17\t8148045\t8148795\t12\n"
     ]
    }
   ],
   "source": [
    "%%bash\n",
    "source config.sh\n",
    "FD_LOG=${FD_WRK}/log\n",
    "cat ${FD_LOG}/kmer_count_per1_output_dmso_chr17.0.txt "
   ]
  },
  {
   "cell_type": "code",
   "execution_count": 46,
   "id": "78a51ba3-fde5-481b-a20c-5b984ce412e6",
   "metadata": {},
   "outputs": [
    {
     "name": "stdout",
     "output_type": "stream",
     "text": [
      "Slurm Array Index:  4\n",
      "Input  file:        /work/kk319/out/CombEffect_STARR/kmer/kmer_PER1.bed\n",
      "Input  file:        /work/kk319/out/CombEffect_STARR/data/TFX_DMSO//chr17.bed\n",
      "Output file:        /work/kk319/out/CombEffect_STARR/kmer/TFX_DMSO/kmer_PER1.bedpe\n",
      "Output file:        /work/kk319/out/CombEffect_STARR/kmer/TFX_DMSO/kmer_PER1_count.bed\n",
      "\n",
      "Show the first few lines of the input file\n",
      "/work/kk319/out/CombEffect_STARR/data/TFX_DMSO//chr17.bed\n",
      "chr17\t87067\t87989\n",
      "chr17\t158043\t159067\n",
      "chr17\t158043\t159066\n",
      "chr17\t159137\t160020\n",
      "chr17\t170572\t172531\n",
      "chr17\t172392\t173515\n",
      "chr17\t172393\t173515\n",
      "chr17\t172396\t173514\n",
      "chr17\t197679\t198597\n",
      "chr17\t197681\t198597\n",
      "\n",
      "Show the first few lines of the input file\n",
      "/work/kk319/out/CombEffect_STARR/kmer/kmer_PER1.bed\n",
      "chr17\t8148000\t8148750\n",
      "chr17\t8148005\t8148755\n",
      "chr17\t8148010\t8148760\n",
      "chr17\t8148015\t8148765\n",
      "chr17\t8148020\t8148770\n",
      "chr17\t8148025\t8148775\n",
      "chr17\t8148030\t8148780\n",
      "chr17\t8148035\t8148785\n",
      "chr17\t8148040\t8148790\n",
      "chr17\t8148045\t8148795\n",
      "\n",
      "Show the first few lines of the output file\n",
      "/work/kk319/out/CombEffect_STARR/kmer/TFX_DMSO/kmer_PER1.bedpe\n",
      "chr17\t8148000\t8148750\tchr17\t8146914\t8148026\t26\n",
      "chr17\t8148000\t8148750\tchr17\t8146914\t8148027\t27\n",
      "chr17\t8148000\t8148750\tchr17\t8146914\t8148025\t25\n",
      "chr17\t8148000\t8148750\tchr17\t8146915\t8148027\t27\n",
      "chr17\t8148000\t8148750\tchr17\t8146916\t8148025\t25\n",
      "chr17\t8148000\t8148750\tchr17\t8147040\t8148002\t2\n",
      "chr17\t8148000\t8148750\tchr17\t8147277\t8148213\t213\n",
      "chr17\t8148000\t8148750\tchr17\t8147292\t8148313\t313\n",
      "chr17\t8148000\t8148750\tchr17\t8147346\t8148275\t275\n",
      "chr17\t8148000\t8148750\tchr17\t8147346\t8148276\t276\n",
      "\n",
      "Show the first few lines of the output file\n",
      "/work/kk319/out/CombEffect_STARR/kmer/TFX_DMSO/kmer_PER1_count.bed\n",
      "chr17\t8148000\t8148750\t34\n",
      "chr17\t8148005\t8148755\t35\n",
      "chr17\t8148010\t8148760\t35\n",
      "chr17\t8148015\t8148765\t38\n",
      "chr17\t8148020\t8148770\t38\n",
      "chr17\t8148025\t8148775\t38\n",
      "chr17\t8148030\t8148780\t38\n",
      "chr17\t8148035\t8148785\t38\n",
      "chr17\t8148040\t8148790\t34\n",
      "chr17\t8148045\t8148795\t36\n"
     ]
    }
   ],
   "source": [
    "%%bash\n",
    "source config.sh\n",
    "FD_LOG=${FD_WRK}/log\n",
    "cat ${FD_LOG}/kmer_count_per1_output_dmso_chr17.4.txt "
   ]
  },
  {
   "cell_type": "markdown",
   "id": "d973c7e9-bb86-4ef7-84e5-f7c1810a3be0",
   "metadata": {},
   "source": [
    "## Count fragments for Output (Dex)"
   ]
  },
  {
   "cell_type": "markdown",
   "id": "83e1d478-b40c-430e-b1cf-a1fcfbe5d7c4",
   "metadata": {},
   "source": [
    "### Test looping output (Dex) directories"
   ]
  },
  {
   "cell_type": "code",
   "execution_count": 29,
   "id": "e7bb02de-8876-443d-8a1d-70c879deee69",
   "metadata": {},
   "outputs": [
    {
     "name": "stdout",
     "output_type": "stream",
     "text": [
      "TFX2_Dex\n",
      "/work/kk319/out/CombEffect_STARR/data/TFX2_Dex/\n",
      "/work/kk319/out/CombEffect_STARR/kmer/kmer_PER1_TFX2_Dex.bed\n",
      "TFX3_Dex\n",
      "/work/kk319/out/CombEffect_STARR/data/TFX3_Dex/\n",
      "/work/kk319/out/CombEffect_STARR/kmer/kmer_PER1_TFX3_Dex.bed\n",
      "TFX4_Dex\n",
      "/work/kk319/out/CombEffect_STARR/data/TFX4_Dex/\n",
      "/work/kk319/out/CombEffect_STARR/kmer/kmer_PER1_TFX4_Dex.bed\n",
      "TFX5_Dex\n",
      "/work/kk319/out/CombEffect_STARR/data/TFX5_Dex/\n",
      "/work/kk319/out/CombEffect_STARR/kmer/kmer_PER1_TFX5_Dex.bed\n",
      "TFX_Dex\n",
      "/work/kk319/out/CombEffect_STARR/data/TFX_Dex/\n",
      "/work/kk319/out/CombEffect_STARR/kmer/kmer_PER1_TFX_Dex.bed\n"
     ]
    }
   ],
   "source": [
    "%%bash\n",
    "FD_BASE=/work/kk319\n",
    "FD_WRK=${FD_BASE}/out/CombEffect_STARR\n",
    "FD_BEDS=($(ls -d ${FD_WRK}/data/TFX*_Dex/))\n",
    "FD_OUT=${FD_WRK}/kmer\n",
    "for FD_BED in ${FD_BEDS[@]}; do\n",
    "    echo $(basename ${FD_BED})\n",
    "    echo ${FD_BED}\n",
    "    echo ${FD_OUT}/kmer_PER1_$(basename ${FD_BED}).bed\n",
    "done"
   ]
  },
  {
   "cell_type": "markdown",
   "id": "0f75d46e-f1c8-483f-9748-8e8b29c813b3",
   "metadata": {},
   "source": [
    "### Intersect K-MER (PER1) and for each Dex (chr17)"
   ]
  },
  {
   "cell_type": "code",
   "execution_count": 44,
   "id": "7b0d06e7-e73c-45e8-8fae-ad5a963ee1c2",
   "metadata": {},
   "outputs": [
    {
     "name": "stdout",
     "output_type": "stream",
     "text": [
      "Bedtools 2.27.1\n",
      "Submitted batch job 11155353\n"
     ]
    }
   ],
   "source": [
    "%%bash\n",
    "### set environment on HARDAC\n",
    "#module load bedtools2\n",
    "#module load perl\n",
    "#module load gcc\n",
    "#source /data/reddylab/software/miniconda2/bin/activate alex_dev\n",
    "#export PATH=/data/reddylab/software/homer/bin/:$PATH\n",
    "\n",
    "### set environment on DCC\n",
    "module load Bedtools\n",
    "source config.sh\n",
    "FD_LOG=${FD_WRK}/log\n",
    "\n",
    "### run script using sbatch\n",
    "#sbatch -pnew,all \\\n",
    "sbatch -p scavenger \\\n",
    "    --array=0-4 \\\n",
    "    --mem 8G \\\n",
    "    -o ${FD_LOG}/kmer_count_per1_output_dex_chr17.%a.txt \\\n",
    "    <<'EOF'\n",
    "#!/bin/bash\n",
    "### set directories and global parameters\n",
    "source config.sh\n",
    "FD_BEDS=($(ls -d ${FD_WRK}/data/TFX*_Dex/))\n",
    "CHROM=chr17\n",
    "TARGET=PER1\n",
    "\n",
    "### set input files\n",
    "FD_BED=${FD_BEDS[${SLURM_ARRAY_TASK_ID}]}\n",
    "FN_BED=${CHROM}.bed\n",
    "\n",
    "FD_KMR=${FD_WRK}/kmer\n",
    "FN_KMR=kmer_${TARGET}.bed\n",
    "\n",
    "### set output files\n",
    "FD_OUT=${FD_KMR}/$(basename ${FD_BED})\n",
    "FN_OUT=kmer_PER1.bedpe\n",
    "\n",
    "FD_CNT=${FD_KMR}/$(basename ${FD_BED})\n",
    "FN_CNT=kmer_PER1_count.bed\n",
    "\n",
    "### print start message\n",
    "echo \"Slurm Array Index: \" ${SLURM_ARRAY_TASK_ID}\n",
    "echo \"Input  file:       \" ${FD_KMR}/${FN_KMR}\n",
    "echo \"Input  file:       \" ${FD_BED}/${FN_BED}\n",
    "echo \"Output file:       \" ${FD_OUT}/${FN_OUT}\n",
    "echo \"Output file:       \" ${FD_CNT}/${FN_CNT}\n",
    "echo\n",
    "echo \"Show the first few lines of the input file\"\n",
    "echo ${FD_BED}/${FN_BED}\n",
    "head ${FD_BED}/${FN_BED}\n",
    "echo\n",
    "echo \"Show the first few lines of the input file\"\n",
    "echo ${FD_KMR}/${FN_KMR}\n",
    "head ${FD_KMR}/${FN_KMR}\n",
    "\n",
    "### init: create folder\n",
    "mkdir -p ${FD_OUT}\n",
    "\n",
    "### intersect\n",
    "FP_BED_A=${FD_KMR}/${FN_KMR}\n",
    "FP_BED_B=${FD_BED}/${FN_BED}\n",
    "FP_BED_O=${FD_OUT}/${FN_OUT}\n",
    "bedtools intersect -a ${FP_BED_A} -b ${FP_BED_B} -wo > ${FP_BED_O}\n",
    "\n",
    "### count the kmers\n",
    "cat ${FP_BED_O} |\\\n",
    "    awk -F $'\\t' '($7 == 750)' |\\\n",
    "    cut -f1-3 |\\\n",
    "    uniq -c   |\\\n",
    "    awk '{$(NF+1)=$1;$1=\"\"}1'   |\\\n",
    "    sed -e 's/^[[:space:]]*//'  |\\\n",
    "    sed -e 's/[[:space:]]/\\t/g' > ${FD_CNT}/${FN_CNT}\n",
    "\n",
    "### print end message\n",
    "echo\n",
    "echo \"Show the first few lines of the output file\"\n",
    "echo ${FD_OUT}/${FN_OUT}\n",
    "head ${FD_OUT}/${FN_OUT}\n",
    "echo\n",
    "echo \"Show the first few lines of the output file\"\n",
    "echo ${FD_CNT}/${FN_CNT}\n",
    "head ${FD_CNT}/${FN_CNT}\n",
    "\n",
    "EOF"
   ]
  },
  {
   "cell_type": "markdown",
   "id": "60dc203d-8051-41db-9341-da12bc0e10fb",
   "metadata": {},
   "source": [
    "**Check results**"
   ]
  },
  {
   "cell_type": "code",
   "execution_count": 47,
   "id": "2980c7d0-4655-46fc-88ed-b59f6d9222a1",
   "metadata": {},
   "outputs": [
    {
     "name": "stdout",
     "output_type": "stream",
     "text": [
      "Slurm Array Index:  0\n",
      "Input  file:        /work/kk319/out/CombEffect_STARR/kmer/kmer_PER1.bed\n",
      "Input  file:        /work/kk319/out/CombEffect_STARR/data/TFX2_Dex//chr17.bed\n",
      "Output file:        /work/kk319/out/CombEffect_STARR/kmer/TFX2_Dex/kmer_PER1.bedpe\n",
      "Output file:        /work/kk319/out/CombEffect_STARR/kmer/TFX2_Dex/kmer_PER1_count.bed\n",
      "\n",
      "Show the first few lines of the input file\n",
      "/work/kk319/out/CombEffect_STARR/data/TFX2_Dex//chr17.bed\n",
      "chr17\t83638\t84547\n",
      "chr17\t92503\t93508\n",
      "chr17\t152590\t153715\n",
      "chr17\t159027\t160041\n",
      "chr17\t173500\t174429\n",
      "chr17\t174388\t175345\n",
      "chr17\t174388\t175346\n",
      "chr17\t197582\t198583\n",
      "chr17\t201248\t202059\n",
      "chr17\t201249\t202059\n",
      "\n",
      "Show the first few lines of the input file\n",
      "/work/kk319/out/CombEffect_STARR/kmer/kmer_PER1.bed\n",
      "chr17\t8148000\t8148750\n",
      "chr17\t8148005\t8148755\n",
      "chr17\t8148010\t8148760\n",
      "chr17\t8148015\t8148765\n",
      "chr17\t8148020\t8148770\n",
      "chr17\t8148025\t8148775\n",
      "chr17\t8148030\t8148780\n",
      "chr17\t8148035\t8148785\n",
      "chr17\t8148040\t8148790\n",
      "chr17\t8148045\t8148795\n",
      "\n",
      "Show the first few lines of the output file\n",
      "/work/kk319/out/CombEffect_STARR/kmer/TFX2_Dex/kmer_PER1.bedpe\n",
      "chr17\t8148000\t8148750\tchr17\t8146961\t8148071\t71\n",
      "chr17\t8148000\t8148750\tchr17\t8146961\t8148069\t69\n",
      "chr17\t8148000\t8148750\tchr17\t8146961\t8148070\t70\n",
      "chr17\t8148000\t8148750\tchr17\t8146962\t8148071\t71\n",
      "chr17\t8148000\t8148750\tchr17\t8146962\t8148070\t70\n",
      "chr17\t8148000\t8148750\tchr17\t8147039\t8148116\t116\n",
      "chr17\t8148000\t8148750\tchr17\t8147039\t8148117\t117\n",
      "chr17\t8148000\t8148750\tchr17\t8147040\t8148117\t117\n",
      "chr17\t8148000\t8148750\tchr17\t8147040\t8148115\t115\n",
      "chr17\t8148000\t8148750\tchr17\t8147041\t8148115\t115\n",
      "\n",
      "Show the first few lines of the output file\n",
      "/work/kk319/out/CombEffect_STARR/kmer/TFX2_Dex/kmer_PER1_count.bed\n",
      "chr17\t8148000\t8148750\t6\n",
      "chr17\t8148005\t8148755\t6\n",
      "chr17\t8148010\t8148760\t5\n",
      "chr17\t8148015\t8148765\t4\n",
      "chr17\t8148020\t8148770\t4\n",
      "chr17\t8148025\t8148775\t4\n",
      "chr17\t8148030\t8148780\t4\n",
      "chr17\t8148035\t8148785\t4\n",
      "chr17\t8148040\t8148790\t4\n",
      "chr17\t8148045\t8148795\t4\n"
     ]
    }
   ],
   "source": [
    "%%bash\n",
    "source config.sh\n",
    "FD_LOG=${FD_WRK}/log\n",
    "cat ${FD_LOG}/kmer_count_per1_output_dex_chr17.0.txt "
   ]
  },
  {
   "cell_type": "code",
   "execution_count": 48,
   "id": "9f2371d5-e484-4534-a90e-5d6e26fd2f74",
   "metadata": {},
   "outputs": [
    {
     "name": "stdout",
     "output_type": "stream",
     "text": [
      "Slurm Array Index:  4\n",
      "Input  file:        /work/kk319/out/CombEffect_STARR/kmer/kmer_PER1.bed\n",
      "Input  file:        /work/kk319/out/CombEffect_STARR/data/TFX_Dex//chr17.bed\n",
      "Output file:        /work/kk319/out/CombEffect_STARR/kmer/TFX_Dex/kmer_PER1.bedpe\n",
      "Output file:        /work/kk319/out/CombEffect_STARR/kmer/TFX_Dex/kmer_PER1_count.bed\n",
      "\n",
      "Show the first few lines of the input file\n",
      "/work/kk319/out/CombEffect_STARR/data/TFX_Dex//chr17.bed\n",
      "chr17\t83638\t84547\n",
      "chr17\t92503\t93508\n",
      "chr17\t152590\t153715\n",
      "chr17\t159027\t160041\n",
      "chr17\t173500\t174429\n",
      "chr17\t174388\t175345\n",
      "chr17\t174388\t175346\n",
      "chr17\t197582\t198583\n",
      "chr17\t201248\t202059\n",
      "chr17\t201249\t202059\n",
      "\n",
      "Show the first few lines of the input file\n",
      "/work/kk319/out/CombEffect_STARR/kmer/kmer_PER1.bed\n",
      "chr17\t8148000\t8148750\n",
      "chr17\t8148005\t8148755\n",
      "chr17\t8148010\t8148760\n",
      "chr17\t8148015\t8148765\n",
      "chr17\t8148020\t8148770\n",
      "chr17\t8148025\t8148775\n",
      "chr17\t8148030\t8148780\n",
      "chr17\t8148035\t8148785\n",
      "chr17\t8148040\t8148790\n",
      "chr17\t8148045\t8148795\n"
     ]
    }
   ],
   "source": [
    "%%bash\n",
    "source config.sh\n",
    "FD_LOG=${FD_WRK}/log\n",
    "cat ${FD_LOG}/kmer_count_per1_output_dex_chr17.4.txt "
   ]
  },
  {
   "cell_type": "code",
   "execution_count": null,
   "id": "2d8c3074-7af0-4111-bf8e-ad62ae5e4f16",
   "metadata": {},
   "outputs": [],
   "source": []
  }
 ],
 "metadata": {
  "kernelspec": {
   "display_name": "Python 3",
   "language": "python",
   "name": "python3"
  },
  "language_info": {
   "codemirror_mode": {
    "name": "ipython",
    "version": 3
   },
   "file_extension": ".py",
   "mimetype": "text/x-python",
   "name": "python",
   "nbconvert_exporter": "python",
   "pygments_lexer": "ipython3",
   "version": "3.7.3"
  }
 },
 "nbformat": 4,
 "nbformat_minor": 5
}
