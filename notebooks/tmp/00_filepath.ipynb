{
 "cells": [
  {
   "cell_type": "markdown",
   "metadata": {},
   "source": [
    "# Explore the data directories"
   ]
  },
  {
   "cell_type": "markdown",
   "metadata": {},
   "source": [
    "## All directories of input and output samples"
   ]
  },
  {
   "cell_type": "markdown",
   "metadata": {},
   "source": [
    "- Input (DNA)\n",
    "    - Input x5\n",
    "- Output (RNA)\n",
    "    - DMSO (Control)\n",
    "    - Multiple different treatment\n",
    "        - Dexamethasone\n",
    "        - AZD2906\n",
    "        - CpdA\n",
    "        - ......"
   ]
  },
  {
   "cell_type": "code",
   "execution_count": 1,
   "metadata": {},
   "outputs": [
    {
     "name": "stdout",
     "output_type": "stream",
     "text": [
      "Input1\t\t\t      TFX3_ZK216348_TechRep3\n",
      "Input2\t\t\t      TFX3_ZK216348_TechRep4\n",
      "Input3\t\t\t      TFX4_AZD2906\n",
      "Input4\t\t\t      TFX4_AZD2906_TechRep1\n",
      "Input5\t\t\t      TFX4_AZD2906_TechRep2\n",
      "TFX2_AZD2906\t\t      TFX4_AZD2906_TechRep3\n",
      "TFX2_AZD2906_TechRep1\t      TFX4_AZD2906_TechRep4\n",
      "TFX2_AZD2906_TechRep2\t      TFX4_AZD9567\n",
      "TFX2_AZD2906_TechRep3\t      TFX4_AZD9567_TechRep1\n",
      "TFX2_AZD2906_TechRep4\t      TFX4_AZD9567_TechRep2\n",
      "TFX2_AZD9567\t\t      TFX4_AZD9567_TechRep3\n",
      "TFX2_AZD9567_TechRep1\t      TFX4_AZD9567_TechRep4\n",
      "TFX2_AZD9567_TechRep2\t      TFX4_CORT108297\n",
      "TFX2_AZD9567_TechRep3\t      TFX4_CORT108297_TechRep1\n",
      "TFX2_AZD9567_TechRep4\t      TFX4_CORT108297_TechRep2\n",
      "TFX2_CORT108297\t\t      TFX4_CORT108297_TechRep3\n",
      "TFX2_CORT108297_TechRep1      TFX4_CORT108297_TechRep4\n",
      "TFX2_CORT108297_TechRep2      TFX4_CpdA\n",
      "TFX2_CORT108297_TechRep3      TFX4_CpdA_TechRep1\n",
      "TFX2_CORT108297_TechRep4      TFX4_CpdA_TechRep2\n",
      "TFX2_CpdA\t\t      TFX4_CpdA_TechRep3\n",
      "TFX2_CpdA_TechRep1\t      TFX4_CpdA_TechRep4\n",
      "TFX2_CpdA_TechRep2\t      TFX4_Dex\n",
      "TFX2_CpdA_TechRep3\t      TFX4_Dex_TechRep1\n",
      "TFX2_CpdA_TechRep4\t      TFX4_Dex_TechRep2\n",
      "TFX2_Dex\t\t      TFX4_Dex_TechRep3\n",
      "TFX2_Dex_TechRep1\t      TFX4_Dex_TechRep4\n",
      "TFX2_Dex_TechRep2\t      TFX4_DMSO\n",
      "TFX2_Dex_TechRep3\t      TFX4_DMSO_TechRep1\n",
      "TFX2_Dex_TechRep4\t      TFX4_DMSO_TechRep2\n",
      "TFX2_DMSO\t\t      TFX4_DMSO_TechRep3\n",
      "TFX2_DMSO_TechRep1\t      TFX4_DMSO_TechRep4\n",
      "TFX2_DMSO_TechRep2\t      TFX4_GW870086\n",
      "TFX2_DMSO_TechRep3\t      TFX4_GW870086_TechRep1\n",
      "TFX2_DMSO_TechRep4\t      TFX4_GW870086_TechRep2\n",
      "TFX2_GW870086\t\t      TFX4_GW870086_TechRep3\n",
      "TFX2_GW870086_TechRep1\t      TFX4_GW870086_TechRep4\n",
      "TFX2_GW870086_TechRep2\t      TFX4_Hydrocortisone\n",
      "TFX2_GW870086_TechRep3\t      TFX4_Hydrocortisone_TechRep1\n",
      "TFX2_GW870086_TechRep4\t      TFX4_Hydrocortisone_TechRep2\n",
      "TFX2_Hydrocortisone\t      TFX4_Hydrocortisone_TechRep3\n",
      "TFX2_Hydrocortisone_TechRep1  TFX4_Hydrocortisone_TechRep4\n",
      "TFX2_Hydrocortisone_TechRep2  TFX4_Mapracorat\n",
      "TFX2_Hydrocortisone_TechRep3  TFX4_Mapracorat_TechRep1\n",
      "TFX2_Hydrocortisone_TechRep4  TFX4_Mapracorat_TechRep2\n",
      "TFX2_Mapracorat\t\t      TFX4_Mapracorat_TechRep3\n",
      "TFX2_Mapracorat_TechRep1      TFX4_Mapracorat_TechRep4\n",
      "TFX2_Mapracorat_TechRep2      TFX4_RU486\n",
      "TFX2_Mapracorat_TechRep3      TFX4_RU486_TechRep1\n",
      "TFX2_Mapracorat_TechRep4      TFX4_RU486_TechRep2\n",
      "TFX2_RU486\t\t      TFX4_RU486_TechRep3\n",
      "TFX2_RU486_TechRep1\t      TFX4_RU486_TechRep4\n",
      "TFX2_RU486_TechRep2\t      TFX4_ZK216348\n",
      "TFX2_RU486_TechRep3\t      TFX4_ZK216348_TechRep1\n",
      "TFX2_RU486_TechRep4\t      TFX4_ZK216348_TechRep2\n",
      "TFX2_ZK216348\t\t      TFX4_ZK216348_TechRep3\n",
      "TFX2_ZK216348_TechRep1\t      TFX4_ZK216348_TechRep4\n",
      "TFX2_ZK216348_TechRep2\t      TFX5_AZD2906\n",
      "TFX2_ZK216348_TechRep3\t      TFX5_AZD2906_TechRep1\n",
      "TFX2_ZK216348_TechRep4\t      TFX5_AZD2906_TechRep2\n",
      "TFX3_AZD2906\t\t      TFX5_AZD2906_TechRep3\n",
      "TFX3_AZD2906_TechRep1\t      TFX5_AZD2906_TechRep4\n",
      "TFX3_AZD2906_TechRep2\t      TFX5_AZD9567\n",
      "TFX3_AZD2906_TechRep3\t      TFX5_AZD9567_TechRep1\n",
      "TFX3_AZD2906_TechRep4\t      TFX5_AZD9567_TechRep2\n",
      "TFX3_AZD9567\t\t      TFX5_AZD9567_TechRep3\n",
      "TFX3_AZD9567_TechRep1\t      TFX5_AZD9567_TechRep4\n",
      "TFX3_AZD9567_TechRep2\t      TFX5_CORT108297\n",
      "TFX3_AZD9567_TechRep3\t      TFX5_CORT108297_TechRep1\n",
      "TFX3_AZD9567_TechRep4\t      TFX5_CORT108297_TechRep2\n",
      "TFX3_CORT108297\t\t      TFX5_CORT108297_TechRep3\n",
      "TFX3_CORT108297_TechRep1      TFX5_CORT108297_TechRep4\n",
      "TFX3_CORT108297_TechRep2      TFX5_CpdA\n",
      "TFX3_CORT108297_TechRep3      TFX5_CpdA_TechRep1\n",
      "TFX3_CORT108297_TechRep4      TFX5_CpdA_TechRep2\n",
      "TFX3_CpdA\t\t      TFX5_CpdA_TechRep3\n",
      "TFX3_CpdA_TechRep1\t      TFX5_CpdA_TechRep4\n",
      "TFX3_CpdA_TechRep2\t      TFX5_Dex\n",
      "TFX3_CpdA_TechRep3\t      TFX5_Dex_TechRep1\n",
      "TFX3_CpdA_TechRep4\t      TFX5_Dex_TechRep2\n",
      "TFX3_Dex\t\t      TFX5_Dex_TechRep3\n",
      "TFX3_Dex_TechRep1\t      TFX5_Dex_TechRep4\n",
      "TFX3_Dex_TechRep2\t      TFX5_DMSO\n",
      "TFX3_Dex_TechRep3\t      TFX5_DMSO_TechRep1\n",
      "TFX3_Dex_TechRep4\t      TFX5_DMSO_TechRep2\n",
      "TFX3_DMSO\t\t      TFX5_DMSO_TechRep3\n",
      "TFX3_DMSO_TechRep1\t      TFX5_DMSO_TechRep4\n",
      "TFX3_DMSO_TechRep2\t      TFX5_GW870086\n",
      "TFX3_DMSO_TechRep3\t      TFX5_GW870086_TechRep1\n",
      "TFX3_DMSO_TechRep4\t      TFX5_GW870086_TechRep2\n",
      "TFX3_GW870086\t\t      TFX5_GW870086_TechRep3\n",
      "TFX3_GW870086_TechRep1\t      TFX5_GW870086_TechRep4\n",
      "TFX3_GW870086_TechRep2\t      TFX5_Hydrocortisone\n",
      "TFX3_GW870086_TechRep3\t      TFX5_Hydrocortisone_TechRep1\n",
      "TFX3_GW870086_TechRep4\t      TFX5_Hydrocortisone_TechRep2\n",
      "TFX3_Hydrocortisone\t      TFX5_Hydrocortisone_TechRep3\n",
      "TFX3_Hydrocortisone_TechRep1  TFX5_Hydrocortisone_TechRep4\n",
      "TFX3_Hydrocortisone_TechRep2  TFX5_Mapracorat\n",
      "TFX3_Hydrocortisone_TechRep3  TFX5_Mapracorat_TechRep1\n",
      "TFX3_Hydrocortisone_TechRep4  TFX5_Mapracorat_TechRep2\n",
      "TFX3_Mapracorat\t\t      TFX5_Mapracorat_TechRep3\n",
      "TFX3_Mapracorat_TechRep1      TFX5_Mapracorat_TechRep4\n",
      "TFX3_Mapracorat_TechRep2      TFX5_RU486\n",
      "TFX3_Mapracorat_TechRep3      TFX5_RU486_TechRep1\n",
      "TFX3_Mapracorat_TechRep4      TFX5_RU486_TechRep2\n",
      "TFX3_RU486\t\t      TFX5_RU486_TechRep3\n",
      "TFX3_RU486_TechRep1\t      TFX5_RU486_TechRep4\n",
      "TFX3_RU486_TechRep2\t      TFX5_ZK216348\n",
      "TFX3_RU486_TechRep3\t      TFX5_ZK216348_TechRep1\n",
      "TFX3_RU486_TechRep4\t      TFX5_ZK216348_TechRep2\n",
      "TFX3_ZK216348\t\t      TFX5_ZK216348_TechRep3\n",
      "TFX3_ZK216348_TechRep1\t      TFX5_ZK216348_TechRep4\n",
      "TFX3_ZK216348_TechRep2\n"
     ]
    }
   ],
   "source": [
    "FD_ALIGN=/data/reddylab/gjohnson/whole_genome_STARRseq/wgss3/alignment_and_processing/alignments\n",
    "ls $FD_ALIGN"
   ]
  },
  {
   "cell_type": "markdown",
   "metadata": {},
   "source": [
    "## Alignment results example: Input (DNA), Output (RNA; DMSO), and Output (RNA; Dex)\n",
    "- bedpe\n",
    "- bam (f3q10)\n",
    "    - indexed bam\n",
    "- bam (length filtered)\n",
    "    - indexed bam\n",
    "- bam (remove PCR duplicate effect)\n",
    "    - indexed bam"
   ]
  },
  {
   "cell_type": "code",
   "execution_count": 2,
   "metadata": {},
   "outputs": [
    {
     "name": "stdout",
     "output_type": "stream",
     "text": [
      "Input1.bedpe\n",
      "Input1.f3q10.bam\n",
      "Input1.f3q10.bam.bai\n",
      "Input1_lengthFiltered.bam\n",
      "Input1_lengthFiltered.bam.bai\n",
      "Input1_lengthFiltered_rmdup.bam\n",
      "Input1_lengthFiltered_rmdup.bam.bai\n"
     ]
    }
   ],
   "source": [
    "ls -1 $FD_ALIGN/Input1"
   ]
  },
  {
   "cell_type": "code",
   "execution_count": 3,
   "metadata": {},
   "outputs": [
    {
     "name": "stdout",
     "output_type": "stream",
     "text": [
      "TFX2_DMSO.bam\n",
      "TFX2_DMSO.bam.bai\n",
      "TFX2_DMSO.bedpe\n"
     ]
    }
   ],
   "source": [
    "ls -1 $FD_ALIGN/TFX2_DMSO"
   ]
  },
  {
   "cell_type": "code",
   "execution_count": 4,
   "metadata": {},
   "outputs": [
    {
     "name": "stdout",
     "output_type": "stream",
     "text": [
      "TFX2_Dex.bam\n",
      "TFX2_Dex.bam.bai\n",
      "TFX2_Dex.bedpe\n"
     ]
    }
   ],
   "source": [
    "ls -1 $FD_ALIGN/TFX2_Dex"
   ]
  },
  {
   "cell_type": "code",
   "execution_count": 5,
   "metadata": {},
   "outputs": [
    {
     "name": "stdout",
     "output_type": "stream",
     "text": [
      "/data/reddylab/gjohnson/whole_genome_STARRseq/wgss3/alignment_and_processing/alignments/Input1/Input1.bedpe\n",
      "/data/reddylab/gjohnson/whole_genome_STARRseq/wgss3/alignment_and_processing/alignments/Input2/Input2.bedpe\n",
      "/data/reddylab/gjohnson/whole_genome_STARRseq/wgss3/alignment_and_processing/alignments/Input3/Input3.bedpe\n",
      "/data/reddylab/gjohnson/whole_genome_STARRseq/wgss3/alignment_and_processing/alignments/Input4/Input4.bedpe\n",
      "/data/reddylab/gjohnson/whole_genome_STARRseq/wgss3/alignment_and_processing/alignments/Input5/Input5.bedpe\n"
     ]
    }
   ],
   "source": [
    "ls -1 $FD_ALIGN/Input?/*.bedpe"
   ]
  },
  {
   "cell_type": "code",
   "execution_count": 6,
   "metadata": {},
   "outputs": [
    {
     "name": "stdout",
     "output_type": "stream",
     "text": [
      "/data/reddylab/gjohnson/whole_genome_STARRseq/wgss3/alignment_and_processing/alignments/TFX2_DMSO/TFX2_DMSO.bedpe\n",
      "/data/reddylab/gjohnson/whole_genome_STARRseq/wgss3/alignment_and_processing/alignments/TFX3_DMSO/TFX3_DMSO.bedpe\n",
      "/data/reddylab/gjohnson/whole_genome_STARRseq/wgss3/alignment_and_processing/alignments/TFX4_DMSO/TFX4_DMSO.bedpe\n",
      "/data/reddylab/gjohnson/whole_genome_STARRseq/wgss3/alignment_and_processing/alignments/TFX5_DMSO/TFX5_DMSO.bedpe\n"
     ]
    }
   ],
   "source": [
    "ls -1 $FD_ALIGN/TFX?_DMSO/*.bedpe"
   ]
  },
  {
   "cell_type": "code",
   "execution_count": 7,
   "metadata": {},
   "outputs": [
    {
     "name": "stdout",
     "output_type": "stream",
     "text": [
      "/data/reddylab/gjohnson/whole_genome_STARRseq/wgss3/alignment_and_processing/alignments/TFX2_Dex/TFX2_Dex.bedpe\n",
      "/data/reddylab/gjohnson/whole_genome_STARRseq/wgss3/alignment_and_processing/alignments/TFX3_Dex/TFX3_Dex.bedpe\n",
      "/data/reddylab/gjohnson/whole_genome_STARRseq/wgss3/alignment_and_processing/alignments/TFX4_Dex/TFX4_Dex.bedpe\n",
      "/data/reddylab/gjohnson/whole_genome_STARRseq/wgss3/alignment_and_processing/alignments/TFX5_Dex/TFX5_Dex.bedpe\n"
     ]
    }
   ],
   "source": [
    "ls -1 $FD_ALIGN/TFX?_Dex/*.bedpe"
   ]
  },
  {
   "cell_type": "markdown",
   "metadata": {},
   "source": [
    "## Show example: Bedpe file\n",
    "\n",
    "> A file format based on the BED format to concisely describe disjoint genome features, such as structural variations or paired-end sequence alignments. Developed by the bedtools team; see their website for more details (https://software.broadinstitute.org/software/igv/node/296)\n",
    "\n",
    "> We have defined a new file format, the browser extensible data paired-end (BEDPE) format, in order to concisely describe disjoint genome features, such as structural variations or paired-end sequence alignments. We chose to define a new format because the existing “blocked” BED format (a.k.a. BED12) does not allow inter-chromosomal feature definitions. In addition, BED12 only has one strand field, which is insufficient for paired-end sequence alignments, especially when studying structural variation. (https://bedtools.readthedocs.io/en/latest/content/general-usage.html)\n",
    "\n",
    "Format\n",
    "\n",
    "`chrom1 start1 end1 chrom2 start2 end2 name score strand1 strand2 (optional additional columns)`\n",
    "\n",
    "Example\n",
    "\n",
    "```\n",
    "chr1  100   200   chr5  5000  5100  bedpe_example1  30   +  -\n",
    "chr9  1000  5000  chr9  3000  3800  bedpe_example2  100  +  -\n",
    "```"
   ]
  },
  {
   "cell_type": "markdown",
   "metadata": {},
   "source": [
    "Looking at a bedpe file, it only contains chrom, start and end for each fragment."
   ]
  },
  {
   "cell_type": "code",
   "execution_count": 5,
   "metadata": {},
   "outputs": [
    {
     "name": "stdout",
     "output_type": "stream",
     "text": [
      "chr1\t13868\t14793\n",
      "chr1\t17394\t18269\n",
      "chr1\t17394\t18268\n",
      "chr1\t17396\t18259\n",
      "chr1\t17405\t18377\n",
      "chr1\t17462\t18329\n",
      "chr1\t17652\t18696\n",
      "chr1\t40593\t41536\n",
      "chr1\t51064\t51954\n",
      "chr1\t53899\t54795\n"
     ]
    }
   ],
   "source": [
    "head $FD_ALIGN/Input1/Input1.bedpe"
   ]
  },
  {
   "cell_type": "code",
   "execution_count": null,
   "metadata": {},
   "outputs": [],
   "source": []
  }
 ],
 "metadata": {
  "kernelspec": {
   "display_name": "Bash",
   "language": "bash",
   "name": "bash"
  },
  "language_info": {
   "codemirror_mode": "shell",
   "file_extension": ".sh",
   "mimetype": "text/x-sh",
   "name": "bash"
  }
 },
 "nbformat": 4,
 "nbformat_minor": 4
}
