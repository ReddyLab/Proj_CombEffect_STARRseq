{
 "cells": [
  {
   "cell_type": "code",
   "execution_count": null,
   "id": "efe44801-8d58-4748-948a-12337e1af22c",
   "metadata": {},
   "outputs": [],
   "source": []
  },
  {
   "cell_type": "code",
   "execution_count": 37,
   "id": "02e0b087-231d-44d6-816b-1fb4c19daba7",
   "metadata": {},
   "outputs": [
    {
     "name": "stdout",
     "output_type": "stream",
     "text": [
      "Submitted batch job 11776121\n"
     ]
    }
   ],
   "source": [
    "### set environment on DCC\n",
    "module load Bedtools\n",
    "source config.sh\n",
    "FD_LOG=${FD_WRK}/log\n",
    "\n",
    "sbatch -p scavenger \\\n",
    "    --mem 15G \\\n",
    "    -o ${FD_LOG}/prep_annot_per1.txt \\\n",
    "    <<'EOF'\n",
    "#!/bin/bash\n",
    "### set directories & global variables\n",
    "source config.sh\n",
    "CHROM=chr17\n",
    "TARGET=PER1\n",
    "\n",
    "### init: set input and output file\n",
    "FD_ANN=${FD_BASE}/annotation/motif_cluster_jvierstra/hg38_archetype_motifs_v1\n",
    "FN_ANN=${CHROM}_rm_mouse.bed.gz\n",
    "FD_OUT=${FD_ANN}/${TARGET}\n",
    "FN_OUT=${TARGET}.bed\n",
    "\n",
    "### print end message\n",
    "echo \"Slurm Array Index: \" ${SLURM_ARRAY_TASK_ID}\n",
    "echo \"Input  file: \" ${FD_ANN}/${FN_ANN}\n",
    "echo \"Output file: \" ${FD_OUT}/${FN_OUT}\n",
    "echo\n",
    "echo \"Show the first few lines of the input file\"\n",
    "echo ${FD_ANN}/${FN_ANN}\n",
    "zcat ${FD_ANN}/${FN_ANN} | head\n",
    "\n",
    "\n",
    "### count the fragments and arrange output to a proper bed file (chr17:PER1)\n",
    "mkdir -p ${FD_OUT}\n",
    "zcat ${FD_ANN}/${FN_ANN} |\\\n",
    "    awk -F $'\\t' '($2 >= 8148000 && $2 <= 8160000)' > ${FD_OUT}/${FN_OUT}\n",
    "\n",
    "### filter out the target TFs\n",
    "cat ${FD_OUT}/${FN_OUT} | awk -F $'\\t' '($4 == \"NR/20\")' > ${FD_OUT}/NR_20.bed\n",
    "cat ${FD_OUT}/${FN_OUT} | awk -F $'\\t' '($4 == \"AP1/2\")' > ${FD_OUT}/AP1_2.bed\n",
    "\n",
    "### merge\n",
    "bedtools merge -i ${FD_OUT}/NR_20.bed -c 4,5 -o distinct,mean > ${FD_OUT}/NR_20.merge.bed\n",
    "bedtools merge -i ${FD_OUT}/AP1_2.bed -c 4,5 -o distinct,mean > ${FD_OUT}/AP1_2.merge.bed\n",
    "\n",
    "### coverage\n",
    "echo -e \"chr17\\t8148000\\t8160000\" > ${FD_OUT}/region_target.bed\n",
    "\n",
    "FP_BED_A=${FD_OUT}/region_target.bed\n",
    "FP_BED_B=${FD_OUT}/NR_20.merge.bed\n",
    "FP_BED_O=${FD_OUT}/NR_20.coverage.bed\n",
    "bedtools coverage -a ${FP_BED_A} -b ${FP_BED_B} -d > ${FP_BED_O}\n",
    "\n",
    "FP_BED_A=${FD_OUT}/region_target.bed\n",
    "FP_BED_B=${FD_OUT}/AP1_2.merge.bed\n",
    "FP_BED_O=${FD_OUT}/AP1_2.coverage.bed\n",
    "bedtools coverage -a ${FP_BED_A} -b ${FP_BED_B} -d > ${FP_BED_O}\n",
    "\n",
    "### print end message\n",
    "echo\n",
    "echo \"Show the first few lines of the output file\"\n",
    "echo ${FD_OUT}/${FN_OUT}\n",
    "head ${FD_OUT}/${FN_OUT}\n",
    "\n",
    "echo\n",
    "echo \"Show the first few lines of the output file\"\n",
    "echo ${FD_OUT}/NR_20.bed\n",
    "head ${FD_OUT}/NR_20.bed\n",
    "\n",
    "echo\n",
    "echo \"Show the first few lines of the output file\"\n",
    "echo ${FD_OUT}/AP1_2.bed\n",
    "head ${FD_OUT}/AP1_2.bed\n",
    "\n",
    "echo\n",
    "echo \"Show the first few lines of the output file\"\n",
    "echo ${FD_OUT}/NR_20.merge.bed\n",
    "head ${FD_OUT}/NR_20.merge.bed\n",
    "\n",
    "echo\n",
    "echo \"Show the first few lines of the output file\"\n",
    "echo ${FD_OUT}/AP1_2.merge.bed\n",
    "head ${FD_OUT}/AP1_2.merge.bed\n",
    "\n",
    "echo\n",
    "echo \"Show the first few lines of the output file\"\n",
    "echo ${FD_OUT}/NR_20.coverage.bed\n",
    "head ${FD_OUT}/NR_20.coverage.bed\n",
    "\n",
    "echo\n",
    "echo \"Show the first few lines of the output file\"\n",
    "echo ${FD_OUT}/AP1_2.coverage.bed\n",
    "head ${FD_OUT}/AP1_2.coverage.bed\n",
    "\n",
    "EOF"
   ]
  },
  {
   "cell_type": "code",
   "execution_count": 38,
   "id": "ec4bddb8-ca71-44ad-8587-6eeb9e83409c",
   "metadata": {},
   "outputs": [
    {
     "name": "stdout",
     "output_type": "stream",
     "text": [
      "Slurm Array Index: \n",
      "Input  file:  /work/kk319/annotation/motif_cluster_jvierstra/hg38_archetype_motifs_v1/chr17_rm_mouse.bed.gz\n",
      "Output file:  /work/kk319/annotation/motif_cluster_jvierstra/hg38_archetype_motifs_v1/PER1/PER1.bed\n",
      "\n",
      "Show the first few lines of the input file\n",
      "/work/kk319/annotation/motif_cluster_jvierstra/hg38_archetype_motifs_v1/chr17_rm_mouse.bed.gz\n",
      "chr17\t60004\t60022\tZNF140\t5.6897\t+\tZN140_HUMAN.H11MO.0.C\t1\n",
      "chr17\t60004\t60022\tZNF667\t8.0240\t-\tZN667_HUMAN.H11MO.0.C\t1\n",
      "chr17\t60006\t60015\tEbox/CAGCTG\t7.9275\t+\tMYOD1_HUMAN.H11MO.0.A\t1\n",
      "chr17\t60011\t60031\tGC-tract\t12.1220\t-\tZN341_HUMAN.H11MO.0.C\t1\n",
      "chr17\t60012\t60025\tPRDM4\t1.3083\t+\tPRDM4_C2H2_1\t1\n",
      "chr17\t60017\t60028\tNR/19\t9.6680\t-\tNR1D1_HUMAN.H11MO.0.B\t2\n",
      "chr17\t60019\t60035\tHEN1\t5.5854\t-\tHEN1_HUMAN.H11MO.0.C\t2\n",
      "chr17\t60023\t60042\tZNF680\t6.3901\t-\tZN680_HUMAN.H11MO.0.C\t1\n",
      "chr17\t60027\t60037\tSMARCA1\t7.5566\t-\tSMCA1_HUMAN.H11MO.0.C\t1\n",
      "chr17\t60027\t60040\tLEF1\t7.1402\t+\tZN350_HUMAN.H11MO.0.C\t1\n",
      "\n",
      "Show the first few lines of the output file\n",
      "/work/kk319/annotation/motif_cluster_jvierstra/hg38_archetype_motifs_v1/PER1/PER1.bed\n",
      "chr17\t8148012\t8148026\tGLIS\t2.5027\t-\tGLIS1_C2H2_1\t2\n",
      "chr17\t8148035\t8148055\tGC-tract\t7.8208\t+\tZN770_HUMAN.H11MO.0.C\t1\n",
      "chr17\t8148040\t8148059\tZNF680\t5.3763\t+\tZN680_HUMAN.H11MO.0.C\t1\n",
      "chr17\t8148050\t8148061\tNR/19\t8.2681\t+\tNR1D1_HUMAN.H11MO.0.B\t2\n",
      "chr17\t8148050\t8148061\tGCM\t7.5087\t+\tGCM1_GCM_2\t1\n",
      "chr17\t8148052\t8148071\tZNF143\t8.3023\t-\tZNF76_HUMAN.H11MO.0.C\t4\n",
      "chr17\t8148053\t8148072\tZFN121\t4.9710\t+\tZN121_HUMAN.H11MO.0.C\t1\n",
      "chr17\t8148055\t8148069\tPLAG1\t4.5717\t+\tPLAG1_MA0163.1\t1\n",
      "chr17\t8148056\t8148070\tGLIS\t4.0593\t+\tGLIS3_C2H2_1\t2\n",
      "chr17\t8148056\t8148070\tCTCF\t9.5399\t-\tCTCFL_MA1102.1\t6\n",
      "\n",
      "Show the first few lines of the output file\n",
      "/work/kk319/annotation/motif_cluster_jvierstra/hg38_archetype_motifs_v1/PER1/NR_20.bed\n",
      "chr17\t8150232\t8150246\tNR/20\t8.3256\t+\tGCR_HUMAN.H11MO.0.A\t2\n",
      "chr17\t8150831\t8150845\tNR/20\t7.3429\t-\tGCR_HUMAN.H11MO.0.A\t1\n",
      "chr17\t8151912\t8151926\tNR/20\t11.8641\t+\tAR_nuclearreceptor_1\t10\n",
      "chr17\t8154459\t8154473\tNR/20\t15.1186\t-\tNR3C1_MA0113.3\t11\n",
      "chr17\t8154460\t8154474\tNR/20\t15.5768\t+\tNR3C1_MA0113.3\t12\n",
      "chr17\t8154760\t8154774\tNR/20\t8.2140\t-\tAR_nuclearreceptor_1\t10\n",
      "chr17\t8154761\t8154775\tNR/20\t8.1861\t+\tAR_nuclearreceptor_1\t8\n",
      "\n",
      "Show the first few lines of the output file\n",
      "/work/kk319/annotation/motif_cluster_jvierstra/hg38_archetype_motifs_v1/PER1/AP1_2.bed\n",
      "chr17\t8148257\t8148268\tAP1/2\t8.9298\t+\tBACH1_HUMAN.H11MO.0.A\t1\n",
      "chr17\t8149085\t8149096\tAP1/2\t9.1683\t+\tBACH1_HUMAN.H11MO.0.A\t2\n",
      "chr17\t8149462\t8149473\tAP1/2\t9.1656\t+\tBACH1_HUMAN.H11MO.0.A\t1\n",
      "chr17\t8150460\t8150471\tAP1/2\t9.3536\t+\tBACH1_HUMAN.H11MO.0.A\t3\n",
      "chr17\t8150585\t8150596\tAP1/2\t7.6851\t+\tBACH1_HUMAN.H11MO.0.A\t1\n",
      "chr17\t8152153\t8152164\tAP1/2\t7.9175\t+\tBACH1_HUMAN.H11MO.0.A\t3\n",
      "chr17\t8154319\t8154330\tAP1/2\t8.2745\t-\tBACH1_HUMAN.H11MO.0.A\t2\n",
      "chr17\t8157531\t8157542\tAP1/2\t8.9634\t+\tBACH1_HUMAN.H11MO.0.A\t1\n",
      "chr17\t8157831\t8157842\tAP1/2\t8.1020\t+\tBACH1_HUMAN.H11MO.0.A\t1\n",
      "chr17\t8157966\t8157977\tAP1/2\t9.1683\t-\tBACH1_HUMAN.H11MO.0.A\t2\n",
      "\n",
      "Show the first few lines of the output file\n",
      "/work/kk319/annotation/motif_cluster_jvierstra/hg38_archetype_motifs_v1/PER1/NR_20.merge.bed\n",
      "chr17\t8150232\t8150246\tNR/20\t8.3256\n",
      "chr17\t8150831\t8150845\tNR/20\t7.3429\n",
      "chr17\t8151912\t8151926\tNR/20\t11.8641\n",
      "chr17\t8154459\t8154474\tNR/20\t15.3477\n",
      "chr17\t8154760\t8154775\tNR/20\t8.20005\n",
      "\n",
      "Show the first few lines of the output file\n",
      "/work/kk319/annotation/motif_cluster_jvierstra/hg38_archetype_motifs_v1/PER1/AP1_2.merge.bed\n",
      "chr17\t8148257\t8148268\tAP1/2\t8.9298\n",
      "chr17\t8149085\t8149096\tAP1/2\t9.1683\n",
      "chr17\t8149462\t8149473\tAP1/2\t9.1656\n",
      "chr17\t8150460\t8150471\tAP1/2\t9.3536\n",
      "chr17\t8150585\t8150596\tAP1/2\t7.6851\n",
      "chr17\t8152153\t8152164\tAP1/2\t7.9175\n",
      "chr17\t8154319\t8154330\tAP1/2\t8.2745\n",
      "chr17\t8157531\t8157542\tAP1/2\t8.9634\n",
      "chr17\t8157831\t8157842\tAP1/2\t8.102\n",
      "chr17\t8157966\t8157977\tAP1/2\t9.1683\n",
      "\n",
      "Show the first few lines of the output file\n",
      "/work/kk319/annotation/motif_cluster_jvierstra/hg38_archetype_motifs_v1/PER1/NR_20.coverage.bed\n",
      "chr17\t8148000\t8160000\t1\t0\n",
      "chr17\t8148000\t8160000\t2\t0\n",
      "chr17\t8148000\t8160000\t3\t0\n",
      "chr17\t8148000\t8160000\t4\t0\n",
      "chr17\t8148000\t8160000\t5\t0\n",
      "chr17\t8148000\t8160000\t6\t0\n",
      "chr17\t8148000\t8160000\t7\t0\n",
      "chr17\t8148000\t8160000\t8\t0\n",
      "chr17\t8148000\t8160000\t9\t0\n",
      "chr17\t8148000\t8160000\t10\t0\n",
      "\n",
      "Show the first few lines of the output file\n",
      "/work/kk319/annotation/motif_cluster_jvierstra/hg38_archetype_motifs_v1/PER1/AP1_2.coverage.bed\n",
      "chr17\t8148000\t8160000\t1\t0\n",
      "chr17\t8148000\t8160000\t2\t0\n",
      "chr17\t8148000\t8160000\t3\t0\n",
      "chr17\t8148000\t8160000\t4\t0\n",
      "chr17\t8148000\t8160000\t5\t0\n",
      "chr17\t8148000\t8160000\t6\t0\n",
      "chr17\t8148000\t8160000\t7\t0\n",
      "chr17\t8148000\t8160000\t8\t0\n",
      "chr17\t8148000\t8160000\t9\t0\n",
      "chr17\t8148000\t8160000\t10\t0\n"
     ]
    }
   ],
   "source": [
    "source config.sh\n",
    "CHROM=chr17\n",
    "FD_LOG=${FD_WRK}/log\n",
    "cat ${FD_LOG}/prep_annot_per1.txt"
   ]
  },
  {
   "cell_type": "code",
   "execution_count": 9,
   "id": "7ffcfdd9-ee82-4985-b6da-2c82c40bf123",
   "metadata": {},
   "outputs": [
    {
     "name": "stdout",
     "output_type": "stream",
     "text": [
      "chr17\t8150232\t8150246\tNR/20\t8.3256\t+\tGCR_HUMAN.H11MO.0.A\t2\n",
      "chr17\t8150831\t8150845\tNR/20\t7.3429\t-\tGCR_HUMAN.H11MO.0.A\t1\n",
      "chr17\t8151912\t8151926\tNR/20\t11.8641\t+\tAR_nuclearreceptor_1\t10\n",
      "chr17\t8154459\t8154473\tNR/20\t15.1186\t-\tNR3C1_MA0113.3\t11\n",
      "chr17\t8154460\t8154474\tNR/20\t15.5768\t+\tNR3C1_MA0113.3\t12\n",
      "chr17\t8154760\t8154774\tNR/20\t8.2140\t-\tAR_nuclearreceptor_1\t10\n",
      "chr17\t8154761\t8154775\tNR/20\t8.1861\t+\tAR_nuclearreceptor_1\t8\n"
     ]
    }
   ],
   "source": [
    "FD_ANN=/work/kk319/annotation\n",
    "cat /work/kk319/annotation/motif_cluster_jvierstra/hg38_archetype_motifs_v1/PER1/PER1.bed.gz |\\\n",
    "    awk -F $'\\t' '($4 == \"NR/20\")' |\\\n",
    "    head"
   ]
  },
  {
   "cell_type": "code",
   "execution_count": 12,
   "id": "105df093-966c-413d-9175-528c2780e479",
   "metadata": {},
   "outputs": [
    {
     "name": "stdout",
     "output_type": "stream",
     "text": [
      "chr17\t8149085\t8149096\tAP1/2\t9.1683\t+\tBACH1_HUMAN.H11MO.0.A\t2\n",
      "chr17\t8149462\t8149473\tAP1/2\t9.1656\t+\tBACH1_HUMAN.H11MO.0.A\t1\n",
      "chr17\t8150460\t8150471\tAP1/2\t9.3536\t+\tBACH1_HUMAN.H11MO.0.A\t3\n",
      "chr17\t8150585\t8150596\tAP1/2\t7.6851\t+\tBACH1_HUMAN.H11MO.0.A\t1\n",
      "chr17\t8152153\t8152164\tAP1/2\t7.9175\t+\tBACH1_HUMAN.H11MO.0.A\t3\n",
      "chr17\t8154319\t8154330\tAP1/2\t8.2745\t-\tBACH1_HUMAN.H11MO.0.A\t2\n",
      "chr17\t8157531\t8157542\tAP1/2\t8.9634\t+\tBACH1_HUMAN.H11MO.0.A\t1\n",
      "chr17\t8157831\t8157842\tAP1/2\t8.1020\t+\tBACH1_HUMAN.H11MO.0.A\t1\n",
      "chr17\t8157966\t8157977\tAP1/2\t9.1683\t-\tBACH1_HUMAN.H11MO.0.A\t2\n",
      "chr17\t8158098\t8158109\tAP1/2\t10.8123\t-\tBACH1_HUMAN.H11MO.0.A\t2\n"
     ]
    }
   ],
   "source": [
    "FD_ANN=/work/kk319/annotation\n",
    "cat /work/kk319/annotation/motif_cluster_jvierstra/hg38_archetype_motifs_v1/PER1/PER1.bed.gz |\\\n",
    "    awk -F $'\\t' '($4 == \"AP1/2\")' |\\\n",
    "    head"
   ]
  },
  {
   "cell_type": "code",
   "execution_count": null,
   "id": "03e626b8-4df0-4b76-8b7c-81fe505d80f3",
   "metadata": {},
   "outputs": [],
   "source": []
  },
  {
   "cell_type": "code",
   "execution_count": 18,
   "id": "c4cec6e1-1140-40fc-bfec-0de6ccfa5fbe",
   "metadata": {},
   "outputs": [],
   "source": [
    "FD_ANN=/work/kk319/annotation\n",
    "cat /work/kk319/annotation/motif_cluster_jvierstra/hg38_archetype_motifs_v1/PER1/PER1.bed.gz |\\\n",
    "    awk -F $'\\t' '($4 == \"NR/20\")' |\\\n",
    "    head > test_PER1_NR20.bed"
   ]
  },
  {
   "cell_type": "code",
   "execution_count": 19,
   "id": "c264c379-2fd2-4879-89da-846a5b7b450e",
   "metadata": {},
   "outputs": [
    {
     "name": "stdout",
     "output_type": "stream",
     "text": [
      "chr17\t8150232\t8150246\tNR/20\t8.3256\t+\tGCR_HUMAN.H11MO.0.A\t2\n",
      "chr17\t8150831\t8150845\tNR/20\t7.3429\t-\tGCR_HUMAN.H11MO.0.A\t1\n",
      "chr17\t8151912\t8151926\tNR/20\t11.8641\t+\tAR_nuclearreceptor_1\t10\n",
      "chr17\t8154459\t8154473\tNR/20\t15.1186\t-\tNR3C1_MA0113.3\t11\n",
      "chr17\t8154460\t8154474\tNR/20\t15.5768\t+\tNR3C1_MA0113.3\t12\n",
      "chr17\t8154760\t8154774\tNR/20\t8.2140\t-\tAR_nuclearreceptor_1\t10\n",
      "chr17\t8154761\t8154775\tNR/20\t8.1861\t+\tAR_nuclearreceptor_1\t8\n"
     ]
    }
   ],
   "source": [
    "cat test_PER1_NR20.bed"
   ]
  },
  {
   "cell_type": "code",
   "execution_count": 20,
   "id": "d350f494-8e7c-4bdf-af3f-c74b358d6ff0",
   "metadata": {},
   "outputs": [
    {
     "name": "stdout",
     "output_type": "stream",
     "text": [
      "chr17\t8150232\t8150246\tNR/20\t8.3256\n",
      "chr17\t8150831\t8150845\tNR/20\t7.3429\n",
      "chr17\t8151912\t8151926\tNR/20\t11.8641\n",
      "chr17\t8154459\t8154474\tNR/20\t15.3477\n",
      "chr17\t8154760\t8154775\tNR/20\t8.20005\n"
     ]
    }
   ],
   "source": [
    "bedtools merge -i test_PER1_NR20.bed -c 4,5 -o distinct,mean"
   ]
  },
  {
   "cell_type": "code",
   "execution_count": 14,
   "id": "125ffcf1-91ea-4829-b486-4dcb43a3e66e",
   "metadata": {},
   "outputs": [],
   "source": [
    "FD_ANN=/work/kk319/annotation\n",
    "cat /work/kk319/annotation/motif_cluster_jvierstra/hg38_archetype_motifs_v1/PER1/PER1.bed.gz |\\\n",
    "    awk -F $'\\t' '($4 == \"NR/20\")' |\\\n",
    "    cut -f1-5 |\\\n",
    "    head > test_PER1_NR20.bed"
   ]
  },
  {
   "cell_type": "code",
   "execution_count": 15,
   "id": "34b2673f-5481-4fa3-a245-d84ff513c548",
   "metadata": {},
   "outputs": [
    {
     "name": "stdout",
     "output_type": "stream",
     "text": [
      "chr17\t8150232\t8150246\tNR/20\t8.3256\n",
      "chr17\t8150831\t8150845\tNR/20\t7.3429\n",
      "chr17\t8151912\t8151926\tNR/20\t11.8641\n",
      "chr17\t8154459\t8154473\tNR/20\t15.1186\n",
      "chr17\t8154460\t8154474\tNR/20\t15.5768\n",
      "chr17\t8154760\t8154774\tNR/20\t8.2140\n",
      "chr17\t8154761\t8154775\tNR/20\t8.1861\n"
     ]
    }
   ],
   "source": [
    "cat test_PER1_NR20.bed"
   ]
  },
  {
   "cell_type": "code",
   "execution_count": 17,
   "id": "851e9546-79d1-4df5-8fd7-cd54881fde8c",
   "metadata": {},
   "outputs": [
    {
     "name": "stdout",
     "output_type": "stream",
     "text": [
      "chr17\t8150232\t8150246\tNR/20\t8.3256\n",
      "chr17\t8150831\t8150845\tNR/20\t7.3429\n",
      "chr17\t8151912\t8151926\tNR/20\t11.8641\n",
      "chr17\t8154459\t8154474\tNR/20\t15.3477\n",
      "chr17\t8154760\t8154775\tNR/20\t8.20005\n"
     ]
    }
   ],
   "source": [
    "bedtools merge -i test_PER1_NR20.bed -c 4,5 -o distinct,mean"
   ]
  },
  {
   "cell_type": "code",
   "execution_count": 32,
   "id": "b8127706-d1d2-4678-98d6-11ce0ad4118f",
   "metadata": {},
   "outputs": [
    {
     "name": "stdout",
     "output_type": "stream",
     "text": [
      "chr17 8148000 8160000\n"
     ]
    }
   ],
   "source": [
    "TAB=\"$(printf '\\t')\"\n",
    "echo chr17${TAB}8148000${TAB}8160000 > region_target.bed\n",
    "cat region_target.bed | expand -t 20"
   ]
  },
  {
   "cell_type": "code",
   "execution_count": 36,
   "id": "20a61071-a2f4-4e72-a438-6fda6c53ba17",
   "metadata": {},
   "outputs": [
    {
     "name": "stdout",
     "output_type": "stream",
     "text": [
      "chr17               8148000             8160000\n"
     ]
    }
   ],
   "source": [
    "echo -e \"chr17\\t8148000\\t8160000\" > region_target.bed\n",
    "cat region_target.bed | expand -t 20"
   ]
  },
  {
   "cell_type": "code",
   "execution_count": 28,
   "id": "eae11078-f49b-40a9-8bcb-f9e6808ba444",
   "metadata": {
    "tags": []
   },
   "outputs": [
    {
     "name": "stdout",
     "output_type": "stream",
     "text": [
      "chr17\t8150232\t8151926\t1\t1\n",
      "chr17\t8150232\t8151926\t2\t1\n",
      "chr17\t8150232\t8151926\t3\t1\n",
      "chr17\t8150232\t8151926\t4\t1\n",
      "chr17\t8150232\t8151926\t5\t1\n",
      "chr17\t8150232\t8151926\t6\t1\n",
      "chr17\t8150232\t8151926\t7\t1\n",
      "chr17\t8150232\t8151926\t8\t1\n",
      "chr17\t8150232\t8151926\t9\t1\n",
      "chr17\t8150232\t8151926\t10\t1\n",
      "chr17\t8150232\t8151926\t11\t1\n",
      "chr17\t8150232\t8151926\t12\t1\n",
      "chr17\t8150232\t8151926\t13\t1\n",
      "chr17\t8150232\t8151926\t14\t1\n",
      "chr17\t8150232\t8151926\t15\t0\n",
      "chr17\t8150232\t8151926\t16\t0\n",
      "chr17\t8150232\t8151926\t17\t0\n",
      "chr17\t8150232\t8151926\t18\t0\n",
      "chr17\t8150232\t8151926\t19\t0\n",
      "chr17\t8150232\t8151926\t20\t0\n",
      "chr17\t8150232\t8151926\t21\t0\n",
      "chr17\t8150232\t8151926\t22\t0\n",
      "chr17\t8150232\t8151926\t23\t0\n",
      "chr17\t8150232\t8151926\t24\t0\n",
      "chr17\t8150232\t8151926\t25\t0\n",
      "chr17\t8150232\t8151926\t26\t0\n",
      "chr17\t8150232\t8151926\t27\t0\n",
      "chr17\t8150232\t8151926\t28\t0\n",
      "chr17\t8150232\t8151926\t29\t0\n",
      "chr17\t8150232\t8151926\t30\t0\n",
      "chr17\t8150232\t8151926\t31\t0\n",
      "chr17\t8150232\t8151926\t32\t0\n",
      "chr17\t8150232\t8151926\t33\t0\n",
      "chr17\t8150232\t8151926\t34\t0\n",
      "chr17\t8150232\t8151926\t35\t0\n",
      "chr17\t8150232\t8151926\t36\t0\n",
      "chr17\t8150232\t8151926\t37\t0\n",
      "chr17\t8150232\t8151926\t38\t0\n",
      "chr17\t8150232\t8151926\t39\t0\n",
      "chr17\t8150232\t8151926\t40\t0\n",
      "chr17\t8150232\t8151926\t41\t0\n",
      "chr17\t8150232\t8151926\t42\t0\n",
      "chr17\t8150232\t8151926\t43\t0\n",
      "chr17\t8150232\t8151926\t44\t0\n",
      "chr17\t8150232\t8151926\t45\t0\n",
      "chr17\t8150232\t8151926\t46\t0\n",
      "chr17\t8150232\t8151926\t47\t0\n",
      "chr17\t8150232\t8151926\t48\t0\n",
      "chr17\t8150232\t8151926\t49\t0\n",
      "chr17\t8150232\t8151926\t50\t0\n"
     ]
    }
   ],
   "source": [
    "TAB=\"$(printf '\\t')\"\n",
    "\n",
    "cat > A.bed << EOF\n",
    "chr17${TAB}8150232${TAB}8151926\n",
    "EOF\n",
    "\n",
    "bedtools coverage -a A.bed -b test_PER1_NR20.bed -d | head -50"
   ]
  },
  {
   "cell_type": "code",
   "execution_count": 2,
   "id": "22bf0b7e-7095-45e5-80d6-a71b7d19f8ca",
   "metadata": {},
   "outputs": [
    {
     "name": "stdout",
     "output_type": "stream",
     "text": [
      "chr17\t60004\t60022\tZNF140\t5.6897\t+\tZN140_HUMAN.H11MO.0.C\t1\n",
      "chr17\t60004\t60022\tZNF667\t8.0240\t-\tZN667_HUMAN.H11MO.0.C\t1\n",
      "chr17\t60006\t60015\tEbox/CAGCTG\t7.9275\t+\tMYOD1_HUMAN.H11MO.0.A\t1\n",
      "chr17\t60011\t60031\tGC-tract\t12.1220\t-\tZN341_HUMAN.H11MO.0.C\t1\n",
      "chr17\t60012\t60025\tPRDM4\t1.3083\t+\tPRDM4_C2H2_1\t1\n",
      "chr17\t60017\t60028\tNR/19\t9.6680\t-\tNR1D1_HUMAN.H11MO.0.B\t2\n",
      "chr17\t60019\t60035\tHEN1\t5.5854\t-\tHEN1_HUMAN.H11MO.0.C\t2\n",
      "chr17\t60023\t60042\tZNF680\t6.3901\t-\tZN680_HUMAN.H11MO.0.C\t1\n",
      "chr17\t60027\t60037\tSMARCA1\t7.5566\t-\tSMCA1_HUMAN.H11MO.0.C\t1\n",
      "chr17\t60027\t60040\tLEF1\t7.1402\t+\tZN350_HUMAN.H11MO.0.C\t1\n",
      "\n",
      "gzip: stdout: Broken pipe\n"
     ]
    }
   ],
   "source": [
    "source config.sh\n",
    "CHROM=chr17\n",
    "FD_ANN=${FD_BASE}/annotation/motif_cluster_jvierstra/hg38_archetype_motifs_v1\n",
    "FN_ANN=${CHROM}_rm_mouse.bed.gz\n",
    "zcat ${FD_ANN}/${FN_ANN} | head"
   ]
  },
  {
   "cell_type": "code",
   "execution_count": null,
   "id": "a144637a-b0df-4270-8400-043a57f36f5a",
   "metadata": {},
   "outputs": [],
   "source": []
  },
  {
   "cell_type": "code",
   "execution_count": null,
   "id": "13d71568-1617-427b-9469-bd2518861e44",
   "metadata": {},
   "outputs": [],
   "source": []
  },
  {
   "cell_type": "code",
   "execution_count": null,
   "id": "1876d26c-6cfc-4d28-8850-fd5569dbc0e8",
   "metadata": {},
   "outputs": [],
   "source": [
    "### count the fragments and arrange output to a proper bed file (chr17:PER1)\n",
    "awk -F $'\\t' '($2 >= 8148987 && $2 <= 8159379)' ${FD_BED}/${FN_BED} |\\\n",
    "    sort    |\\\n",
    "    uniq -c |\\\n",
    "    awk '{$(NF+1)=$1;$1=\"\"}1'   |\\\n",
    "    sed -e 's/^[[:space:]]*//'  |\\\n",
    "    sed -e 's/[[:space:]]/\\t/g'  \\\n",
    "    > ${FD_CNT}/$(basename ${FD_BED})/${FN_CNT1}"
   ]
  },
  {
   "cell_type": "code",
   "execution_count": null,
   "id": "9da69de9-1fb6-4f3d-832d-b59f771569c3",
   "metadata": {},
   "outputs": [],
   "source": [
    "### set environment on DCC\n",
    "module load Bedtools\n",
    "source config.sh\n",
    "FD_LOG=${FD_WRK}/log\n",
    "\n",
    "### run script using sbatch\n",
    "#sbatch -pnew,all \\\n",
    "sbatch -p scavenger \\\n",
    "    --mem 15G \\\n",
    "    -o ${FD_LOG}/annot_fragment_input.txt \\\n",
    "    <<'EOF'\n",
    "#!/bin/bash\n",
    "### set directories & global variables\n",
    "source config.sh\n",
    "CHROM=chr17\n",
    "SAMPLE=Input\n",
    "\n",
    "### init: set input and output file\n",
    "FD_ANN=${FD_BASE}/annotation/motif_cluster_jvierstra/hg38_archetype_motifs_v1\n",
    "FN_ANN=${CHROM}_rm_mouse.bed.gz\n",
    "FD_BED=${FD_WRK}/count_fragment/${SAMPLE}\n",
    "FN_BED=cnt_${CHROM}.bed\n",
    "FD_OUT=${FD_WRK}/annotation_fragment/${SAMPLE}\n",
    "FN_OUT=${CHROM}.bed.gz\n",
    "\n",
    "### init: set input and output file path\n",
    "mkdir -p ${FD_OUT}\n",
    "FP_BED_A=${FD_BED}/${FN_BED}\n",
    "FP_BED_B=${FD_ANN}/${FN_ANN}\n",
    "FP_BED_O=${FD_OUT}/${FN_OUT}\n",
    "\n",
    "### print end message\n",
    "echo \"Slurm Array Index: \" ${SLURM_ARRAY_TASK_ID}\n",
    "echo \"Input  file: \" ${FP_BED_A}\n",
    "echo \"Input  file: \" ${FP_BED_B}\n",
    "echo \"Output file: \" ${FP_BED_O}\n",
    "echo\n",
    "echo \"Show the first few lines of the input file\"\n",
    "echo ${FP_BED_A}\n",
    "head ${FP_BED_A}\n",
    "echo\n",
    "echo ${FP_BED_B}\n",
    "zcat ${FP_BED_B} | head\n",
    "\n",
    "### RUN: annotation by intersecting two bed files\n",
    "bedtools intersect -a ${FP_BED_A} -b ${FP_BED_B} -wo | gzip -cf > ${FP_BED_O}\n",
    "\n",
    "### print end message\n",
    "echo\n",
    "echo \"Show the first few lines of the output file\"\n",
    "echo ${FP_BED_O}\n",
    "zcat ${FP_BED_O} | head\n",
    "\n",
    "EOF"
   ]
  }
 ],
 "metadata": {
  "kernelspec": {
   "display_name": "Bash",
   "language": "bash",
   "name": "bash"
  },
  "language_info": {
   "codemirror_mode": "shell",
   "file_extension": ".sh",
   "mimetype": "text/x-sh",
   "name": "bash"
  }
 },
 "nbformat": 4,
 "nbformat_minor": 5
}
