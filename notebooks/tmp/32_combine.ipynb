{
 "cells": [
  {
   "cell_type": "code",
   "execution_count": null,
   "metadata": {},
   "outputs": [],
   "source": []
  },
  {
   "cell_type": "code",
   "execution_count": 1,
   "metadata": {},
   "outputs": [],
   "source": [
    "source config.sh"
   ]
  },
  {
   "cell_type": "code",
   "execution_count": 4,
   "metadata": {},
   "outputs": [
    {
     "name": "stdout",
     "output_type": "stream",
     "text": [
      "/work/kk319/out/CombEffect_STARR/coverage/Input1/PER1.txt\n",
      "/work/kk319/out/CombEffect_STARR/coverage/Input2/PER1.txt\n",
      "/work/kk319/out/CombEffect_STARR/coverage/Input3/PER1.txt\n",
      "/work/kk319/out/CombEffect_STARR/coverage/Input4/PER1.txt\n",
      "/work/kk319/out/CombEffect_STARR/coverage/Input5/PER1.txt\n",
      "/work/kk319/out/CombEffect_STARR/coverage/TFX2_DMSO/PER1.txt\n",
      "/work/kk319/out/CombEffect_STARR/coverage/TFX3_DMSO/PER1.txt\n",
      "/work/kk319/out/CombEffect_STARR/coverage/TFX4_DMSO/PER1.txt\n",
      "/work/kk319/out/CombEffect_STARR/coverage/TFX5_DMSO/PER1.txt\n"
     ]
    }
   ],
   "source": [
    "ls ${FD_WRK}/coverage/Input1/PER1.txt\n",
    "ls ${FD_WRK}/coverage/Input2/PER1.txt\n",
    "ls ${FD_WRK}/coverage/Input3/PER1.txt\n",
    "ls ${FD_WRK}/coverage/Input4/PER1.txt\n",
    "ls ${FD_WRK}/coverage/Input5/PER1.txt\n",
    "ls ${FD_WRK}/coverage/TFX2_DMSO/PER1.txt\n",
    "ls ${FD_WRK}/coverage/TFX3_DMSO/PER1.txt\n",
    "ls ${FD_WRK}/coverage/TFX4_DMSO/PER1.txt\n",
    "ls ${FD_WRK}/coverage/TFX5_DMSO/PER1.txt"
   ]
  },
  {
   "cell_type": "code",
   "execution_count": 6,
   "metadata": {},
   "outputs": [
    {
     "name": "stdout",
     "output_type": "stream",
     "text": [
      "\u001b[0m\u001b[01;34mInput1\u001b[0m\n",
      "\u001b[01;34mInput2\u001b[0m\n",
      "\u001b[01;34mInput3\u001b[0m\n",
      "\u001b[01;34mInput4\u001b[0m\n",
      "\u001b[01;34mInput5\u001b[0m\n",
      "\u001b[01;34mTFX2_DMSO\u001b[0m\n",
      "\u001b[01;34mTFX2_Dex\u001b[0m\n",
      "\u001b[01;34mTFX3_DMSO\u001b[0m\n",
      "\u001b[01;34mTFX3_Dex\u001b[0m\n",
      "\u001b[01;34mTFX4_DMSO\u001b[0m\n",
      "\u001b[01;34mTFX4_Dex\u001b[0m\n",
      "\u001b[01;34mTFX5_DMSO\u001b[0m\n",
      "\u001b[01;34mTFX5_Dex\u001b[0m\n",
      "\u001b[01;34mTFX_DMSO\u001b[0m\n",
      "\u001b[01;34mTFX_Dex\u001b[0m\n"
     ]
    }
   ],
   "source": [
    "ls -1 ${FD_WRK}/coverage"
   ]
  },
  {
   "cell_type": "code",
   "execution_count": 7,
   "metadata": {},
   "outputs": [
    {
     "name": "stdout",
     "output_type": "stream",
     "text": [
      "chr17\t1\t0\n",
      "chr17\t2\t0\n",
      "chr17\t3\t0\n",
      "chr17\t4\t0\n",
      "chr17\t5\t0\n",
      "chr17\t6\t0\n",
      "chr17\t7\t0\n",
      "chr17\t8\t0\n",
      "chr17\t9\t0\n",
      "chr17\t10\t0\n"
     ]
    }
   ],
   "source": [
    "head ${FD_WRK}/coverage/Input1/PER1.txt"
   ]
  },
  {
   "cell_type": "code",
   "execution_count": 18,
   "metadata": {},
   "outputs": [
    {
     "name": "stdout",
     "output_type": "stream",
     "text": [
      "chrY\t57227406\t0\n",
      "chrY\t57227407\t0\n",
      "chrY\t57227408\t0\n",
      "chrY\t57227409\t0\n",
      "chrY\t57227410\t0\n",
      "chrY\t57227411\t0\n",
      "chrY\t57227412\t0\n",
      "chrY\t57227413\t0\n",
      "chrY\t57227414\t0\n",
      "chrY\t57227415\t0\n"
     ]
    }
   ],
   "source": [
    "tail ${FD_WRK}/coverage/Input1/PER1.txt"
   ]
  },
  {
   "cell_type": "code",
   "execution_count": 19,
   "metadata": {},
   "outputs": [
    {
     "name": "stdout",
     "output_type": "stream",
     "text": [
      "chr17\t1\t0\n",
      "chr17\t2\t0\n",
      "chr17\t3\t0\n",
      "chr17\t4\t0\n",
      "chr17\t5\t0\n",
      "chr17\t6\t0\n",
      "chr17\t7\t0\n",
      "chr17\t8\t0\n",
      "chr17\t9\t0\n",
      "chr17\t10\t0\n"
     ]
    }
   ],
   "source": [
    "head ${FD_WRK}/coverage/TFX2_Dex/chr17.txt"
   ]
  },
  {
   "cell_type": "code",
   "execution_count": 20,
   "metadata": {},
   "outputs": [
    {
     "name": "stdout",
     "output_type": "stream",
     "text": [
      "chr17\t83257432\t0\n",
      "chr17\t83257433\t0\n",
      "chr17\t83257434\t0\n",
      "chr17\t83257435\t0\n",
      "chr17\t83257436\t0\n",
      "chr17\t83257437\t0\n",
      "chr17\t83257438\t0\n",
      "chr17\t83257439\t0\n",
      "chr17\t83257440\t0\n",
      "chr17\t83257441\t0\n"
     ]
    }
   ],
   "source": [
    "tail ${FD_WRK}/coverage/TFX2_Dex/chr17.txt"
   ]
  },
  {
   "cell_type": "code",
   "execution_count": null,
   "metadata": {},
   "outputs": [],
   "source": []
  },
  {
   "cell_type": "code",
   "execution_count": 22,
   "metadata": {},
   "outputs": [
    {
     "name": "stdout",
     "output_type": "stream",
     "text": [
      "/work/kk319/out/CombEffect_STARR/coverage/TFX2_Dex/chr17.txt\n"
     ]
    }
   ],
   "source": [
    "FD_BED=/work/kk319/out/CombEffect_STARR/coverage/TFX2_Dex\n",
    "FN_BED=chr17.txt\n",
    "echo ${FD_BED}/${FN_BED}"
   ]
  },
  {
   "cell_type": "code",
   "execution_count": 23,
   "metadata": {},
   "outputs": [
    {
     "name": "stdout",
     "output_type": "stream",
     "text": [
      "chr17\t1\t0\n",
      "chr17\t2\t0\n",
      "chr17\t3\t0\n",
      "chr17\t4\t0\n",
      "chr17\t5\t0\n",
      "chr17\t6\t0\n",
      "chr17\t7\t0\n",
      "chr17\t8\t0\n",
      "chr17\t9\t0\n",
      "chr17\t10\t0\n"
     ]
    }
   ],
   "source": [
    "head ${FD_BED}/${FN_BED}"
   ]
  },
  {
   "cell_type": "code",
   "execution_count": 24,
   "metadata": {},
   "outputs": [
    {
     "name": "stdout",
     "output_type": "stream",
     "text": [
      "chr17\t83257432\t0\n",
      "chr17\t83257433\t0\n",
      "chr17\t83257434\t0\n",
      "chr17\t83257435\t0\n",
      "chr17\t83257436\t0\n",
      "chr17\t83257437\t0\n",
      "chr17\t83257438\t0\n",
      "chr17\t83257439\t0\n",
      "chr17\t83257440\t0\n",
      "chr17\t83257441\t0\n"
     ]
    }
   ],
   "source": [
    "tail ${FD_BED}/${FN_BED}"
   ]
  },
  {
   "cell_type": "code",
   "execution_count": 25,
   "metadata": {},
   "outputs": [
    {
     "name": "stdout",
     "output_type": "stream",
     "text": [
      "chr17\t8148987\t39\n",
      "chr17\t8148988\t39\n",
      "chr17\t8148989\t39\n",
      "chr17\t8148990\t39\n",
      "chr17\t8148991\t39\n",
      "chr17\t8148992\t39\n",
      "chr17\t8148993\t39\n",
      "chr17\t8148994\t39\n",
      "chr17\t8148995\t39\n",
      "chr17\t8148996\t39\n"
     ]
    }
   ],
   "source": [
    "awk -F $'\\t' '($2 >= 8148987 && $2 <= 8159379)' ${FD_BED}/${FN_BED} |\\\n",
    "    head"
   ]
  },
  {
   "cell_type": "code",
   "execution_count": 17,
   "metadata": {},
   "outputs": [
    {
     "name": "stdout",
     "output_type": "stream",
     "text": [
      "\n"
     ]
    }
   ],
   "source": [
    "FD_BED=/work/kk319/out/CombEffect_STARR/coverage/TFX\n",
    "cat ${FD_BED}/PER1.txt | grep chr17 > ${FD_BED}/test1.txt"
   ]
  },
  {
   "cell_type": "code",
   "execution_count": null,
   "metadata": {},
   "outputs": [],
   "source": []
  },
  {
   "cell_type": "code",
   "execution_count": null,
   "metadata": {},
   "outputs": [],
   "source": [
    "FD_BED=/work/kk319/out/CombEffect_STARR/coverage/Input1"
   ]
  },
  {
   "cell_type": "code",
   "execution_count": 11,
   "metadata": {},
   "outputs": [
    {
     "name": "stdout",
     "output_type": "stream",
     "text": [
      "\n"
     ]
    }
   ],
   "source": [
    "FD_BED=/work/kk319/out/CombEffect_STARR/coverage/Input1\n",
    "\n",
    "awk -F $'\\t' '($2 >= 8148987 && $2 <= 8159379)' ${FD_BED}/PER1.txt | grep chr17 > ${FD_BED}/test.txt"
   ]
  },
  {
   "cell_type": "code",
   "execution_count": 14,
   "metadata": {},
   "outputs": [
    {
     "name": "stdout",
     "output_type": "stream",
     "text": [
      "total 55G\n",
      "-rw-r--r--. 1 kk319 root  48G Jun  3 01:21 PER1.txt\n",
      "-rw-r--r--. 1 kk319 root 168K Jun  3 11:46 test.txt\n"
     ]
    }
   ],
   "source": [
    "ls -lh ${FD_BED}"
   ]
  },
  {
   "cell_type": "code",
   "execution_count": null,
   "metadata": {},
   "outputs": [],
   "source": []
  },
  {
   "cell_type": "code",
   "execution_count": null,
   "metadata": {},
   "outputs": [],
   "source": [
    "awk -F $'\\t' '($2 >= 8148987 && $2 <= 8159379)' ${FD_BED}/${FN_BED}"
   ]
  },
  {
   "cell_type": "code",
   "execution_count": null,
   "metadata": {},
   "outputs": [],
   "source": [
    "awk -F $'\\t' '($2 >= 8148987 && $2 <= 8159379)' ${FD_BED}/${FN_BED}"
   ]
  }
 ],
 "metadata": {
  "kernelspec": {
   "display_name": "Bash",
   "language": "bash",
   "name": "bash"
  },
  "language_info": {
   "codemirror_mode": "shell",
   "file_extension": ".sh",
   "mimetype": "text/x-sh",
   "name": "bash"
  }
 },
 "nbformat": 4,
 "nbformat_minor": 4
}
