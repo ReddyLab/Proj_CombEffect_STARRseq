{
 "cells": [
  {
   "cell_type": "markdown",
   "metadata": {},
   "source": [
    "# Connection between fragments and segments\n",
    "count fragments that overlayed on top of each segment"
   ]
  },
  {
   "cell_type": "code",
   "execution_count": 1,
   "metadata": {},
   "outputs": [
    {
     "name": "stdout",
     "output_type": "stream",
     "text": [
      "6239658 /data/reddylab/Kuei/out/CombEffect_STARR/data/TFX_Dex/chr17.bed\n",
      "4827 /data/reddylab/Kuei/out/CombEffect_STARR/count_fragment/TFX_Dex/cnt_PER1.bed\n",
      "3562 /data/reddylab/Kuei/out/CombEffect_STARR/count_segment/TFX_Dex/seg_PER1.bed\n"
     ]
    }
   ],
   "source": [
    "%%bash\n",
    "wc -l /data/reddylab/Kuei/out/CombEffect_STARR/data/TFX_Dex/chr17.bed\n",
    "wc -l /data/reddylab/Kuei/out/CombEffect_STARR/count_fragment/TFX_Dex/cnt_PER1.bed\n",
    "wc -l /data/reddylab/Kuei/out/CombEffect_STARR/count_segment/TFX_Dex/seg_PER1.bed"
   ]
  },
  {
   "cell_type": "markdown",
   "metadata": {},
   "source": [
    "## Test loop: ensure the code that loop through output directories"
   ]
  },
  {
   "cell_type": "code",
   "execution_count": 2,
   "metadata": {},
   "outputs": [
    {
     "name": "stdout",
     "output_type": "stream",
     "text": [
      "/data/reddylab/Kuei/out/CombEffect_STARR/data/TFX2_Dex\n",
      "/data/reddylab/Kuei/out/CombEffect_STARR/data/TFX3_Dex\n",
      "/data/reddylab/Kuei/out/CombEffect_STARR/data/TFX4_Dex\n",
      "/data/reddylab/Kuei/out/CombEffect_STARR/data/TFX5_Dex\n",
      "chr10.bed\n",
      "chr11.bed\n",
      "chr12.bed\n",
      "chr13.bed\n",
      "chr14.bed\n",
      "chr15.bed\n",
      "chr16.bed\n",
      "chr17.bed\n",
      "chr18.bed\n",
      "chr19.bed\n",
      "chr1.bed\n",
      "chr20.bed\n",
      "chr21.bed\n",
      "chr22.bed\n",
      "chr2.bed\n",
      "chr3.bed\n",
      "chr4.bed\n",
      "chr5.bed\n",
      "chr6.bed\n",
      "chr7.bed\n",
      "chr8.bed\n",
      "chr9.bed\n",
      "chrX.bed\n",
      "chrY.bed\n"
     ]
    }
   ],
   "source": [
    "%%bash\n",
    "ls -d /data/reddylab/Kuei/out/CombEffect_STARR/data/TFX?_Dex\n",
    "ls    /data/reddylab/Kuei/out/CombEffect_STARR/data/TFX2_Dex"
   ]
  },
  {
   "cell_type": "markdown",
   "metadata": {},
   "source": [
    "## intersect segments and fragments of Output (Dex)"
   ]
  },
  {
   "cell_type": "markdown",
   "metadata": {},
   "source": [
    "### Test looping code"
   ]
  },
  {
   "cell_type": "code",
   "execution_count": 3,
   "metadata": {},
   "outputs": [
    {
     "name": "stdout",
     "output_type": "stream",
     "text": [
      "/data/reddylab/Kuei/out/CombEffect_STARR/data/TFX2_Dex, TFX2_Dex\n",
      "/data/reddylab/Kuei/out/CombEffect_STARR/data/TFX3_Dex, TFX3_Dex\n",
      "/data/reddylab/Kuei/out/CombEffect_STARR/data/TFX4_Dex, TFX4_Dex\n",
      "/data/reddylab/Kuei/out/CombEffect_STARR/data/TFX5_Dex, TFX5_Dex\n"
     ]
    }
   ],
   "source": [
    "%%bash\n",
    "for fpath in $(ls -d /data/reddylab/Kuei/out/CombEffect_STARR/data/TFX?_Dex); do\n",
    "    tmp=$(basename $fpath)\n",
    "    echo $fpath, $tmp\n",
    "done"
   ]
  },
  {
   "cell_type": "code",
   "execution_count": 4,
   "metadata": {},
   "outputs": [
    {
     "name": "stdout",
     "output_type": "stream",
     "text": [
      "/data/reddylab/Kuei/out/CombEffect_STARR/data/TFX2_Dex\n",
      "/data/reddylab/Kuei/out/CombEffect_STARR/data/TFX3_Dex\n",
      "/data/reddylab/Kuei/out/CombEffect_STARR/data/TFX4_Dex\n",
      "/data/reddylab/Kuei/out/CombEffect_STARR/data/TFX5_Dex\n"
     ]
    }
   ],
   "source": [
    "%%bash\n",
    "FD_WRK=/data/reddylab/Kuei/out/CombEffect_STARR\n",
    "FD_BEDS=($(ls -d ${FD_WRK}/data/TFX?_Dex))\n",
    "echo ${FD_BEDS[0]}\n",
    "echo ${FD_BEDS[1]}\n",
    "echo ${FD_BEDS[2]}\n",
    "echo ${FD_BEDS[3]}"
   ]
  },
  {
   "cell_type": "markdown",
   "metadata": {},
   "source": [
    "### connect segments and fragments by `bedtools intersect`"
   ]
  },
  {
   "cell_type": "code",
   "execution_count": 11,
   "metadata": {},
   "outputs": [
    {
     "name": "stdout",
     "output_type": "stream",
     "text": [
      "Submitted batch job 25436394\n"
     ]
    }
   ],
   "source": [
    "%%bash\n",
    "### set environment\n",
    "module load bedtools2\n",
    "module load perl\n",
    "module load gcc\n",
    "source /data/reddylab/software/miniconda2/bin/activate alex_dev\n",
    "export PATH=/data/reddylab/software/homer/bin/:$PATH\n",
    "\n",
    "### set log file directory\n",
    "FD_LOG=/gpfs/fs1/data/reddylab/Kuei/out/CombEffect_STARR/log\n",
    "\n",
    "### run script using sbatch\n",
    "sbatch -pnew,all \\\n",
    "    --array 0-3 \\\n",
    "    --mem 8G \\\n",
    "    -o ${FD_LOG}/prep_count_segment_output_dex_per1.%a.txt \\\n",
    "    <<'EOF'\n",
    "#!/bin/bash\n",
    "### set directories\n",
    "FD_WRK=/data/reddylab/Kuei/out/CombEffect_STARR\n",
    "\n",
    "### set global variables\n",
    "CHROM=chr17\n",
    "TARGET=PER1\n",
    "SAMPLE=TFX_Dex\n",
    "\n",
    "### set input and output \n",
    "FD_BEDS=($(ls -d ${FD_WRK}/data/TFX?_Dex))\n",
    "FD_BED=${FD_BEDS[${SLURM_ARRAY_TASK_ID}]}\n",
    "FN_BED=${CHROM}.bed\n",
    "FD_SEG=${FD_WRK}/count_segment/${SAMPLE}\n",
    "FN_SEG=seg_${TARGET}.bed\n",
    "FNAME=$(basename ${FD_BED})\n",
    "\n",
    "### Print start message\n",
    "echo \"Slurm Array Index: \" ${SLURM_ARRAY_TASK_ID}\n",
    "echo \"Input  Segment   file: \" ${FD_SEG}/${FN_SEG}\n",
    "echo \"Input  Fragment  file: \" ${FD_BED}/${FN_BED}\n",
    "echo \"Output Intersect file: \" ${FD_SEG}/${TARGET}_${CHROM}_${FNAME}.bedpe\n",
    "echo \"Output Count     file: \" ${FD_SEG}/cnt_${TARGET}_${CHROM}_${FNAME}.bed\n",
    "echo\n",
    "echo \"Show the first few lines of the input file\"\n",
    "head ${FD_SEG}/${FN_SEG}\n",
    "echo\n",
    "echo \"Show the first few lines of the input file\"\n",
    "head ${FD_BED}/${FN_BED}\n",
    "\n",
    "### intersect\n",
    "FP_BED_A=${FD_SEG}/${FN_SEG}\n",
    "FP_BED_B=${FD_BED}/${FN_BED}\n",
    "FP_BED_O=${FD_SEG}/${TARGET}_${CHROM}_${FNAME}.bedpe\n",
    "bedtools intersect -a ${FP_BED_A} -b ${FP_BED_B} -wo > ${FP_BED_O}\n",
    "\n",
    "### count segments\n",
    "cat ${FP_BED_O} | cut -f1-3 |\\\n",
    "    sort    |\\\n",
    "    uniq -c |\\\n",
    "    awk '{$(NF+1)=$1;$1=\"\"}1'   |\\\n",
    "    sed -e 's/^[[:space:]]*//'  |\\\n",
    "    sed -e 's/[[:space:]]/\\t/g'  \\\n",
    "    > ${FD_SEG}/cnt_${TARGET}_${CHROM}_${FNAME}.bed\n",
    "\n",
    "### Print end message\n",
    "echo\n",
    "echo \"Show the first few lines of the output file\"\n",
    "head ${FD_SEG}/${TARGET}_${CHROM}_${FNAME}.bedpe\n",
    "echo\n",
    "echo \"Show the first few lines of the output file\"\n",
    "head ${FD_SEG}/cnt_${TARGET}_${CHROM}_${FNAME}.bed\n",
    "\n",
    "EOF"
   ]
  },
  {
   "cell_type": "markdown",
   "metadata": {},
   "source": [
    "### Check log"
   ]
  },
  {
   "cell_type": "code",
   "execution_count": 12,
   "metadata": {},
   "outputs": [
    {
     "name": "stdout",
     "output_type": "stream",
     "text": [
      "Slurm Array Index:  0\n",
      "Input  Segment   file:  /data/reddylab/Kuei/out/CombEffect_STARR/count_segment/TFX_Dex/seg_PER1.bed\n",
      "Input  Fragment  file:  /data/reddylab/Kuei/out/CombEffect_STARR/data/TFX2_Dex/chr17.bed\n",
      "Output Intersect file:  /data/reddylab/Kuei/out/CombEffect_STARR/count_segment/TFX_Dex/PER1_chr17_TFX2_Dex.bedpe\n",
      "Output Count     file:  /data/reddylab/Kuei/out/CombEffect_STARR/count_segment/TFX_Dex/cnt_PER1_chr17_TFX2_Dex.bed\n",
      "\n",
      "Show the first few lines of the input file\n",
      "chr17\t8148987\t8148988\n",
      "chr17\t8148988\t8149016\n",
      "chr17\t8149016\t8149018\n",
      "chr17\t8149018\t8149019\n",
      "chr17\t8149019\t8149023\n",
      "chr17\t8149023\t8149029\n",
      "chr17\t8149029\t8149050\n",
      "chr17\t8149050\t8149051\n",
      "chr17\t8149051\t8149062\n",
      "chr17\t8149062\t8149063\n",
      "\n",
      "Show the first few lines of the input file\n",
      "chr17\t83638\t84547\n",
      "chr17\t92503\t93508\n",
      "chr17\t152590\t153715\n",
      "chr17\t159027\t160041\n",
      "chr17\t173500\t174429\n",
      "chr17\t174388\t175345\n",
      "chr17\t174388\t175346\n",
      "chr17\t197582\t198583\n",
      "chr17\t201248\t202059\n",
      "chr17\t201249\t202059\n",
      "\n",
      "Show the first few lines of the output file\n",
      "chr17\t8148987\t8148988\tchr17\t8147924\t8149001\t1\n",
      "chr17\t8148987\t8148988\tchr17\t8147924\t8149001\t1\n",
      "chr17\t8148987\t8148988\tchr17\t8147924\t8149000\t1\n",
      "chr17\t8148987\t8148988\tchr17\t8148097\t8149186\t1\n",
      "chr17\t8148987\t8148988\tchr17\t8148180\t8149106\t1\n",
      "chr17\t8148987\t8148988\tchr17\t8148267\t8149282\t1\n",
      "chr17\t8148987\t8148988\tchr17\t8148267\t8149281\t1\n",
      "chr17\t8148987\t8148988\tchr17\t8148267\t8149282\t1\n",
      "chr17\t8148987\t8148988\tchr17\t8148267\t8149280\t1\n",
      "chr17\t8148987\t8148988\tchr17\t8148401\t8149372\t1\n",
      "\n",
      "Show the first few lines of the output file\n",
      "chr17\t8148987\t8148988\t39\n",
      "chr17\t8148988\t8149016\t39\n",
      "chr17\t8149016\t8149018\t36\n",
      "chr17\t8149018\t8149019\t36\n",
      "chr17\t8149019\t8149023\t36\n",
      "chr17\t8149023\t8149029\t36\n",
      "chr17\t8149029\t8149050\t36\n",
      "chr17\t8149050\t8149051\t38\n",
      "chr17\t8149051\t8149062\t40\n",
      "chr17\t8149062\t8149063\t40\n"
     ]
    }
   ],
   "source": [
    "%%bash\n",
    "FD_LOG=/gpfs/fs1/data/reddylab/Kuei/out/CombEffect_STARR/log\n",
    "cat ${FD_LOG}/prep_count_segment_output_dex_per1.0.txt"
   ]
  },
  {
   "cell_type": "markdown",
   "metadata": {},
   "source": [
    "## intersect segments and fragments of Output (DMSO)"
   ]
  },
  {
   "cell_type": "markdown",
   "metadata": {},
   "source": [
    "### Test looping code"
   ]
  },
  {
   "cell_type": "code",
   "execution_count": 13,
   "metadata": {},
   "outputs": [
    {
     "name": "stdout",
     "output_type": "stream",
     "text": [
      "/data/reddylab/Kuei/out/CombEffect_STARR/data/TFX2_DMSO, TFX2_DMSO\n",
      "/data/reddylab/Kuei/out/CombEffect_STARR/data/TFX3_DMSO, TFX3_DMSO\n",
      "/data/reddylab/Kuei/out/CombEffect_STARR/data/TFX4_DMSO, TFX4_DMSO\n",
      "/data/reddylab/Kuei/out/CombEffect_STARR/data/TFX5_DMSO, TFX5_DMSO\n"
     ]
    }
   ],
   "source": [
    "%%bash\n",
    "for fpath in $(ls -d /data/reddylab/Kuei/out/CombEffect_STARR/data/TFX?_DMSO); do\n",
    "    tmp=$(basename $fpath)\n",
    "    echo $fpath, $tmp\n",
    "done"
   ]
  },
  {
   "cell_type": "code",
   "execution_count": 14,
   "metadata": {},
   "outputs": [
    {
     "name": "stdout",
     "output_type": "stream",
     "text": [
      "/data/reddylab/Kuei/out/CombEffect_STARR/data/TFX2_DMSO\n",
      "/data/reddylab/Kuei/out/CombEffect_STARR/data/TFX3_DMSO\n",
      "/data/reddylab/Kuei/out/CombEffect_STARR/data/TFX4_DMSO\n",
      "/data/reddylab/Kuei/out/CombEffect_STARR/data/TFX5_DMSO\n"
     ]
    }
   ],
   "source": [
    "%%bash\n",
    "FD_WRK=/data/reddylab/Kuei/out/CombEffect_STARR\n",
    "FD_DATS=($(ls -d ${FD_WRK}/data/TFX?_DMSO))\n",
    "echo ${FD_DATS[0]}\n",
    "echo ${FD_DATS[1]}\n",
    "echo ${FD_DATS[2]}\n",
    "echo ${FD_DATS[3]}"
   ]
  },
  {
   "cell_type": "markdown",
   "metadata": {},
   "source": [
    "### connect segments and fragments by `bedtools intersect`"
   ]
  },
  {
   "cell_type": "code",
   "execution_count": 15,
   "metadata": {},
   "outputs": [
    {
     "name": "stdout",
     "output_type": "stream",
     "text": [
      "Submitted batch job 25436398\n"
     ]
    }
   ],
   "source": [
    "%%bash\n",
    "### set environment\n",
    "module load bedtools2\n",
    "module load perl\n",
    "module load gcc\n",
    "source /data/reddylab/software/miniconda2/bin/activate alex_dev\n",
    "export PATH=/data/reddylab/software/homer/bin/:$PATH\n",
    "\n",
    "### set log file directory\n",
    "FD_LOG=/gpfs/fs1/data/reddylab/Kuei/out/CombEffect_STARR/log\n",
    "\n",
    "### run script using sbatch\n",
    "sbatch -pnew,all \\\n",
    "    --array 0-3 \\\n",
    "    --mem 8G \\\n",
    "    -o ${FD_LOG}/prep_count_segment_output_dmso_per1.%a.txt \\\n",
    "    <<'EOF'\n",
    "#!/bin/bash\n",
    "### set directories\n",
    "FD_WRK=/data/reddylab/Kuei/out/CombEffect_STARR\n",
    "\n",
    "### set global variables\n",
    "CHROM=chr17\n",
    "TARGET=PER1\n",
    "SAMPLE=TFX_Dex\n",
    "\n",
    "### set input and output \n",
    "FD_BEDS=($(ls -d ${FD_WRK}/data/TFX?_DMSO))\n",
    "FD_BED=${FD_BEDS[${SLURM_ARRAY_TASK_ID}]}\n",
    "FN_BED=${CHROM}.bed\n",
    "FD_SEG=${FD_WRK}/count_segment/${SAMPLE}\n",
    "FN_SEG=seg_${TARGET}.bed\n",
    "FNAME=$(basename ${FD_BED})\n",
    "\n",
    "### Print start message\n",
    "echo \"Slurm Array Index: \" ${SLURM_ARRAY_TASK_ID}\n",
    "echo \"Input  Segment   file: \" ${FD_SEG}/${FN_SEG}\n",
    "echo \"Input  Fragment  file: \" ${FD_BED}/${FN_BED}\n",
    "echo \"Output Intersect file: \" ${FD_SEG}/${TARGET}_${CHROM}_${FNAME}.bedpe\n",
    "echo \"Output Count     file: \" ${FD_SEG}/cnt_${TARGET}_${CHROM}_${FNAME}.bed\n",
    "echo\n",
    "echo \"Show the first few lines of the input file\"\n",
    "head ${FD_SEG}/${FN_SEG}\n",
    "echo\n",
    "echo \"Show the first few lines of the input file\"\n",
    "head ${FD_BED}/${FN_BED}\n",
    "\n",
    "### intersect\n",
    "FP_BED_A=${FD_SEG}/${FN_SEG}\n",
    "FP_BED_B=${FD_BED}/${FN_BED}\n",
    "FP_BED_O=${FD_SEG}/${TARGET}_${CHROM}_${FNAME}.bedpe\n",
    "bedtools intersect -a ${FP_BED_A} -b ${FP_BED_B} -wo > ${FP_BED_O}\n",
    "\n",
    "### count segments\n",
    "cat ${FP_BED_O} | cut -f1-3 |\\\n",
    "    sort    |\\\n",
    "    uniq -c |\\\n",
    "    awk '{$(NF+1)=$1;$1=\"\"}1'   |\\\n",
    "    sed -e 's/^[[:space:]]*//'  |\\\n",
    "    sed -e 's/[[:space:]]/\\t/g'  \\\n",
    "    > ${FD_SEG}/cnt_${TARGET}_${CHROM}_${FNAME}.bed\n",
    "\n",
    "### Print end message\n",
    "echo\n",
    "echo \"Show the first few lines of the output file\"\n",
    "head ${FD_SEG}/${TARGET}_${CHROM}_${FNAME}.bedpe\n",
    "echo\n",
    "echo \"Show the first few lines of the output file\"\n",
    "head ${FD_SEG}/cnt_${TARGET}_${CHROM}_${FNAME}.bed\n",
    "\n",
    "EOF"
   ]
  },
  {
   "cell_type": "markdown",
   "metadata": {},
   "source": [
    "### Check log"
   ]
  },
  {
   "cell_type": "code",
   "execution_count": 17,
   "metadata": {},
   "outputs": [
    {
     "name": "stdout",
     "output_type": "stream",
     "text": [
      "Slurm Array Index:  0\n",
      "Input  Segment   file:  /data/reddylab/Kuei/out/CombEffect_STARR/count_segment/TFX_Dex/seg_PER1.bed\n",
      "Input  Fragment  file:  /data/reddylab/Kuei/out/CombEffect_STARR/data/TFX2_DMSO/chr17.bed\n",
      "Output Intersect file:  /data/reddylab/Kuei/out/CombEffect_STARR/count_segment/TFX_Dex/PER1_chr17_TFX2_DMSO.bedpe\n",
      "Output Count     file:  /data/reddylab/Kuei/out/CombEffect_STARR/count_segment/TFX_Dex/cnt_PER1_chr17_TFX2_DMSO.bed\n",
      "\n",
      "Show the first few lines of the input file\n",
      "chr17\t8148987\t8148988\n",
      "chr17\t8148988\t8149016\n",
      "chr17\t8149016\t8149018\n",
      "chr17\t8149018\t8149019\n",
      "chr17\t8149019\t8149023\n",
      "chr17\t8149023\t8149029\n",
      "chr17\t8149029\t8149050\n",
      "chr17\t8149050\t8149051\n",
      "chr17\t8149051\t8149062\n",
      "chr17\t8149062\t8149063\n",
      "\n",
      "Show the first few lines of the input file\n",
      "chr17\t87067\t87989\n",
      "chr17\t158043\t159067\n",
      "chr17\t158043\t159066\n",
      "chr17\t159137\t160020\n",
      "chr17\t170572\t172531\n",
      "chr17\t172392\t173515\n",
      "chr17\t172393\t173515\n",
      "chr17\t172396\t173514\n",
      "chr17\t197679\t198597\n",
      "chr17\t197681\t198597\n",
      "\n",
      "Show the first few lines of the output file\n",
      "chr17\t8148987\t8148988\tchr17\t8148063\t8149178\t1\n",
      "chr17\t8148987\t8148988\tchr17\t8148063\t8149178\t1\n",
      "chr17\t8148987\t8148988\tchr17\t8148063\t8149178\t1\n",
      "chr17\t8148987\t8148988\tchr17\t8148100\t8149037\t1\n",
      "chr17\t8148987\t8148988\tchr17\t8148100\t8149038\t1\n",
      "chr17\t8148987\t8148988\tchr17\t8148118\t8149012\t1\n",
      "chr17\t8148987\t8148988\tchr17\t8148153\t8149166\t1\n",
      "chr17\t8148987\t8148988\tchr17\t8148177\t8149194\t1\n",
      "chr17\t8148987\t8148988\tchr17\t8148178\t8149109\t1\n",
      "chr17\t8148987\t8148988\tchr17\t8148194\t8149155\t1\n",
      "\n",
      "Show the first few lines of the output file\n",
      "chr17\t8148987\t8148988\t97\n",
      "chr17\t8148988\t8149016\t97\n",
      "chr17\t8149016\t8149018\t96\n",
      "chr17\t8149018\t8149019\t96\n",
      "chr17\t8149019\t8149023\t96\n",
      "chr17\t8149023\t8149029\t96\n",
      "chr17\t8149029\t8149050\t102\n",
      "chr17\t8149050\t8149051\t100\n",
      "chr17\t8149051\t8149062\t100\n",
      "chr17\t8149062\t8149063\t100\n"
     ]
    }
   ],
   "source": [
    "%%bash\n",
    "FD_LOG=/gpfs/fs1/data/reddylab/Kuei/out/CombEffect_STARR/log\n",
    "cat ${FD_LOG}/prep_count_segment_output_dmso_per1.0.txt"
   ]
  },
  {
   "cell_type": "markdown",
   "metadata": {},
   "source": [
    "## intersect segments and fragments of Input"
   ]
  },
  {
   "cell_type": "markdown",
   "metadata": {},
   "source": [
    "### Test looping code"
   ]
  },
  {
   "cell_type": "code",
   "execution_count": 19,
   "metadata": {},
   "outputs": [
    {
     "name": "stdout",
     "output_type": "stream",
     "text": [
      "/data/reddylab/Kuei/out/CombEffect_STARR/data/Input1, Input1\n",
      "/data/reddylab/Kuei/out/CombEffect_STARR/data/Input2, Input2\n",
      "/data/reddylab/Kuei/out/CombEffect_STARR/data/Input3, Input3\n",
      "/data/reddylab/Kuei/out/CombEffect_STARR/data/Input4, Input4\n",
      "/data/reddylab/Kuei/out/CombEffect_STARR/data/Input5, Input5\n"
     ]
    }
   ],
   "source": [
    "%%bash\n",
    "for fpath in $(ls -d /data/reddylab/Kuei/out/CombEffect_STARR/data/Input?); do\n",
    "    tmp=$(basename $fpath)\n",
    "    echo $fpath, $tmp\n",
    "done"
   ]
  },
  {
   "cell_type": "markdown",
   "metadata": {},
   "source": [
    "### connect segments and fragments by `bedtools intersect`"
   ]
  },
  {
   "cell_type": "code",
   "execution_count": 16,
   "metadata": {},
   "outputs": [
    {
     "name": "stdout",
     "output_type": "stream",
     "text": [
      "Submitted batch job 25436402\n"
     ]
    }
   ],
   "source": [
    "%%bash\n",
    "### set environment\n",
    "module load bedtools2\n",
    "module load perl\n",
    "module load gcc\n",
    "source /data/reddylab/software/miniconda2/bin/activate alex_dev\n",
    "export PATH=/data/reddylab/software/homer/bin/:$PATH\n",
    "\n",
    "### set log file directory\n",
    "FD_LOG=/gpfs/fs1/data/reddylab/Kuei/out/CombEffect_STARR/log\n",
    "\n",
    "### run script using sbatch\n",
    "sbatch -pnew,all \\\n",
    "    --array 0-4 \\\n",
    "    --mem 8G \\\n",
    "    -o ${FD_LOG}/prep_count_segment_input_per1.%a.txt \\\n",
    "    <<'EOF'\n",
    "#!/bin/bash\n",
    "### set directories\n",
    "FD_WRK=/data/reddylab/Kuei/out/CombEffect_STARR\n",
    "\n",
    "### set global variables\n",
    "CHROM=chr17\n",
    "TARGET=PER1\n",
    "SAMPLE=TFX_Dex\n",
    "\n",
    "### set input and output \n",
    "FD_BEDS=($(ls -d ${FD_WRK}/data/Input?))\n",
    "FD_BED=${FD_BEDS[${SLURM_ARRAY_TASK_ID}]}\n",
    "FN_BED=${CHROM}.bed\n",
    "FD_SEG=${FD_WRK}/count_segment/${SAMPLE}\n",
    "FN_SEG=seg_${TARGET}.bed\n",
    "FNAME=$(basename ${FD_BED})\n",
    "\n",
    "### Print start message\n",
    "echo \"Slurm Array Index: \" ${SLURM_ARRAY_TASK_ID}\n",
    "echo \"Input  Segment   file: \" ${FD_SEG}/${FN_SEG}\n",
    "echo \"Input  Fragment  file: \" ${FD_BED}/${FN_BED}\n",
    "echo \"Output Intersect file: \" ${FD_SEG}/${TARGET}_${CHROM}_${FNAME}.bedpe\n",
    "echo \"Output Count     file: \" ${FD_SEG}/cnt_${TARGET}_${CHROM}_${FNAME}.bed\n",
    "echo\n",
    "echo \"Show the first few lines of the input file\"\n",
    "head ${FD_SEG}/${FN_SEG}\n",
    "echo\n",
    "echo \"Show the first few lines of the input file\"\n",
    "head ${FD_BED}/${FN_BED}\n",
    "\n",
    "### intersect\n",
    "FP_BED_A=${FD_SEG}/${FN_SEG}\n",
    "FP_BED_B=${FD_BED}/${FN_BED}\n",
    "FP_BED_O=${FD_SEG}/${TARGET}_${CHROM}_${FNAME}.bedpe\n",
    "bedtools intersect -a ${FP_BED_A} -b ${FP_BED_B} -wo > ${FP_BED_O}\n",
    "\n",
    "### count segments\n",
    "cat ${FP_BED_O} | cut -f1-3 |\\\n",
    "    sort    |\\\n",
    "    uniq -c |\\\n",
    "    awk '{$(NF+1)=$1;$1=\"\"}1'   |\\\n",
    "    sed -e 's/^[[:space:]]*//'  |\\\n",
    "    sed -e 's/[[:space:]]/\\t/g'  \\\n",
    "    > ${FD_SEG}/cnt_${TARGET}_${CHROM}_${FNAME}.bed\n",
    "\n",
    "### Print end message\n",
    "echo\n",
    "echo \"Show the first few lines of the output file\"\n",
    "head ${FD_SEG}/${TARGET}_${CHROM}_${FNAME}.bedpe\n",
    "echo\n",
    "echo \"Show the first few lines of the output file\"\n",
    "head ${FD_SEG}/cnt_${TARGET}_${CHROM}_${FNAME}.bed\n",
    "\n",
    "EOF"
   ]
  },
  {
   "cell_type": "markdown",
   "metadata": {},
   "source": [
    "### Check log"
   ]
  },
  {
   "cell_type": "code",
   "execution_count": 18,
   "metadata": {},
   "outputs": [
    {
     "name": "stdout",
     "output_type": "stream",
     "text": [
      "Slurm Array Index:  0\n",
      "Input  Segment   file:  /data/reddylab/Kuei/out/CombEffect_STARR/count_segment/TFX_Dex/seg_PER1.bed\n",
      "Input  Fragment  file:  /data/reddylab/Kuei/out/CombEffect_STARR/data/Input1/chr17.bed\n",
      "Output Intersect file:  /data/reddylab/Kuei/out/CombEffect_STARR/count_segment/TFX_Dex/PER1_chr17_Input1.bedpe\n",
      "Output Count     file:  /data/reddylab/Kuei/out/CombEffect_STARR/count_segment/TFX_Dex/cnt_PER1_chr17_Input1.bed\n",
      "\n",
      "Show the first few lines of the input file\n",
      "chr17\t8148987\t8148988\n",
      "chr17\t8148988\t8149016\n",
      "chr17\t8149016\t8149018\n",
      "chr17\t8149018\t8149019\n",
      "chr17\t8149019\t8149023\n",
      "chr17\t8149023\t8149029\n",
      "chr17\t8149029\t8149050\n",
      "chr17\t8149050\t8149051\n",
      "chr17\t8149051\t8149062\n",
      "chr17\t8149062\t8149063\n",
      "\n",
      "Show the first few lines of the input file\n",
      "chr17\t201123\t201925\n",
      "chr17\t201160\t201968\n",
      "chr17\t201202\t202074\n",
      "chr17\t201259\t202052\n",
      "chr17\t201366\t202130\n",
      "chr17\t206174\t207307\n",
      "chr17\t206269\t207286\n",
      "chr17\t206283\t207194\n",
      "chr17\t206324\t207359\n",
      "chr17\t206326\t207274\n",
      "\n",
      "Show the first few lines of the output file\n",
      "chr17\t8148987\t8148988\tchr17\t8148117\t8149012\t1\n",
      "chr17\t8148987\t8148988\tchr17\t8148122\t8149107\t1\n",
      "chr17\t8148987\t8148988\tchr17\t8148178\t8149194\t1\n",
      "chr17\t8148987\t8148988\tchr17\t8148188\t8149154\t1\n",
      "chr17\t8148987\t8148988\tchr17\t8148190\t8149151\t1\n",
      "chr17\t8148987\t8148988\tchr17\t8148220\t8149108\t1\n",
      "chr17\t8148987\t8148988\tchr17\t8148280\t8149232\t1\n",
      "chr17\t8148987\t8148988\tchr17\t8148401\t8149372\t1\n",
      "chr17\t8148987\t8148988\tchr17\t8148548\t8149585\t1\n",
      "chr17\t8148987\t8148988\tchr17\t8148913\t8149953\t1\n",
      "\n",
      "Show the first few lines of the output file\n",
      "chr17\t8148987\t8148988\t10\n",
      "chr17\t8148988\t8149016\t10\n",
      "chr17\t8149016\t8149018\t9\n",
      "chr17\t8149018\t8149019\t9\n",
      "chr17\t8149019\t8149023\t9\n",
      "chr17\t8149023\t8149029\t9\n",
      "chr17\t8149029\t8149050\t10\n",
      "chr17\t8149050\t8149051\t10\n",
      "chr17\t8149051\t8149062\t10\n",
      "chr17\t8149062\t8149063\t10\n"
     ]
    }
   ],
   "source": [
    "%%bash\n",
    "FD_LOG=/gpfs/fs1/data/reddylab/Kuei/out/CombEffect_STARR/log\n",
    "cat ${FD_LOG}/prep_count_segment_input_per1.0.txt"
   ]
  },
  {
   "cell_type": "code",
   "execution_count": null,
   "metadata": {},
   "outputs": [],
   "source": []
  },
  {
   "cell_type": "code",
   "execution_count": null,
   "metadata": {},
   "outputs": [],
   "source": []
  },
  {
   "cell_type": "code",
   "execution_count": null,
   "metadata": {},
   "outputs": [],
   "source": []
  },
  {
   "cell_type": "code",
   "execution_count": null,
   "metadata": {},
   "outputs": [],
   "source": []
  },
  {
   "cell_type": "code",
   "execution_count": null,
   "metadata": {},
   "outputs": [],
   "source": []
  },
  {
   "cell_type": "code",
   "execution_count": null,
   "metadata": {},
   "outputs": [],
   "source": []
  },
  {
   "cell_type": "code",
   "execution_count": null,
   "metadata": {},
   "outputs": [],
   "source": []
  },
  {
   "cell_type": "code",
   "execution_count": null,
   "metadata": {},
   "outputs": [],
   "source": []
  },
  {
   "cell_type": "code",
   "execution_count": null,
   "metadata": {},
   "outputs": [],
   "source": []
  },
  {
   "cell_type": "code",
   "execution_count": null,
   "metadata": {},
   "outputs": [],
   "source": []
  },
  {
   "cell_type": "code",
   "execution_count": null,
   "metadata": {},
   "outputs": [],
   "source": []
  },
  {
   "cell_type": "code",
   "execution_count": null,
   "metadata": {},
   "outputs": [],
   "source": []
  },
  {
   "cell_type": "code",
   "execution_count": null,
   "metadata": {},
   "outputs": [],
   "source": []
  },
  {
   "cell_type": "code",
   "execution_count": null,
   "metadata": {},
   "outputs": [],
   "source": []
  },
  {
   "cell_type": "code",
   "execution_count": null,
   "metadata": {},
   "outputs": [],
   "source": []
  },
  {
   "cell_type": "code",
   "execution_count": null,
   "metadata": {},
   "outputs": [],
   "source": []
  },
  {
   "cell_type": "code",
   "execution_count": null,
   "metadata": {},
   "outputs": [],
   "source": []
  },
  {
   "cell_type": "code",
   "execution_count": 43,
   "metadata": {},
   "outputs": [
    {
     "name": "stdout",
     "output_type": "stream",
     "text": [
      "Submitted batch job 25408779\n"
     ]
    }
   ],
   "source": [
    "%%bash\n",
    "### set environment\n",
    "module load bedtools2\n",
    "module load perl\n",
    "module load gcc\n",
    "source /data/reddylab/software/miniconda2/bin/activate alex_dev\n",
    "export PATH=/data/reddylab/software/homer/bin/:$PATH\n",
    "\n",
    "### set log file directory\n",
    "FD_LOG=/gpfs/fs1/data/reddylab/Kuei/out/CombEffect_STARR/log\n",
    "\n",
    "### run script using sbatch\n",
    "sbatch -pnew,all \\\n",
    "    --array 0-3 \\\n",
    "    --mem 8G \\\n",
    "    -o ${FD_LOG}/prep_count_dex_test.%a.txt \\\n",
    "    <<'EOF'\n",
    "#!/bin/bash\n",
    "### set directories\n",
    "FD_WRK=/data/reddylab/Kuei/out/CombEffect_STARR\n",
    "FD_OUT=${FD_WRK}/data/TFX_Dex\n",
    "FD_DATS=($(ls -d ${FD_WRK}/data/TFX?_Dex))\n",
    "CHROM=chr17\n",
    "\n",
    "### set input and output file names\n",
    "FD_DAT=${FD_DATS[${SLURM_ARRAY_TASK_ID}]}\n",
    "FN_SEG=seg_${CHROM}.bed\n",
    "FNAME=$(basename ${FD_DAT})\n",
    "\n",
    "### Print start message\n",
    "echo \"Slurm Array Index: \" ${SLURM_ARRAY_TASK_ID}\n",
    "echo \"Input  Segment   file: \" ${FD_OUT}/${FN_SEG}\n",
    "echo \"Input  Fragment  file: \" ${FD_DAT}/${CHROM}.bed\n",
    "echo \"Output Intersect file: \" ${FD_OUT}/${CHROM}_${FNAME}.bedpe\n",
    "echo \"Output Count     file: \" ${FD_OUT}/cnt_${CHROM}_${FNAME}.bed\n",
    "echo\n",
    "echo \"Show the first few lines of the input file\"\n",
    "head ${FD_OUT}/${FN_SEG}\n",
    "echo\n",
    "echo \"Show the first few lines of the input file\"\n",
    "head ${FD_DAT}/${CHROM}.bed\n",
    "\n",
    "###\n",
    "FP_BED_A=${FD_OUT}/${FN_SEG}\n",
    "FP_BED_B=${FD_DAT}/${CHROM}.bed\n",
    "FP_BED_O=${FD_OUT}/${CHROM}_${FNAME}.bedpe\n",
    "bedtools intersect -a ${FP_BED_A} -b ${FP_BED_B} -wo > ${FP_BED_O}\n",
    "\n",
    "###\n",
    "cat ${FP_BED_O} | cut -f1-3 |\\\n",
    "    sort    |\\\n",
    "    uniq -c |\\\n",
    "    awk '{$(NF+1)=$1;$1=\"\"}1'   |\\\n",
    "    sed -e 's/^[[:space:]]*//'  |\\\n",
    "    sed -e 's/[[:space:]]/\\t/g'  \\\n",
    "    > ${FD_OUT}/cnt_${CHROM}_${FNAME}.bed\n",
    "\n",
    "### Print end message\n",
    "echo\n",
    "echo \"Show the first few lines of the output file\"\n",
    "head ${FD_OUT}/${CHROM}_${FNAME}.bedpe\n",
    "echo\n",
    "echo \"Show the first few lines of the output file\"\n",
    "head ${FD_OUT}/cnt_${CHROM}_${FNAME}.bed\n",
    "\n",
    "EOF"
   ]
  },
  {
   "cell_type": "markdown",
   "metadata": {},
   "source": [
    "### Check log"
   ]
  },
  {
   "cell_type": "code",
   "execution_count": 44,
   "metadata": {},
   "outputs": [
    {
     "name": "stdout",
     "output_type": "stream",
     "text": [
      "Slurm Array Index:  0\n",
      "Input  Segment   file:  /data/reddylab/Kuei/out/CombEffect_STARR/data/TFX_Dex/seg_chr17.bed\n",
      "Input  Fragment  file:  /data/reddylab/Kuei/out/CombEffect_STARR/data/TFX2_Dex/chr17.bed\n",
      "Output Intersect file:  /data/reddylab/Kuei/out/CombEffect_STARR/data/TFX_Dex/chr17_TFX2_Dex.bedpe\n",
      "Output Count     file:  /data/reddylab/Kuei/out/CombEffect_STARR/data/TFX_Dex/cnt_chr17_TFX2_Dex.bed\n",
      "\n",
      "Show the first few lines of the input file\n",
      "chr17\t8148987\t8148988\n",
      "chr17\t8148988\t8149016\n",
      "chr17\t8149016\t8149018\n",
      "chr17\t8149018\t8149019\n",
      "chr17\t8149019\t8149023\n",
      "chr17\t8149023\t8149029\n",
      "chr17\t8149029\t8149050\n",
      "chr17\t8149050\t8149051\n",
      "chr17\t8149051\t8149062\n",
      "chr17\t8149062\t8149063\n",
      "\n",
      "Show the first few lines of the input file\n",
      "chr17\t83638\t84547\n",
      "chr17\t92503\t93508\n",
      "chr17\t152590\t153715\n",
      "chr17\t159027\t160041\n",
      "chr17\t173500\t174429\n",
      "chr17\t174388\t175345\n",
      "chr17\t174388\t175346\n",
      "chr17\t197582\t198583\n",
      "chr17\t201248\t202059\n",
      "chr17\t201249\t202059\n",
      "\n",
      "Show the first few lines of the output file\n",
      "chr17\t8148987\t8148988\tchr17\t8147924\t8149001\t1\n",
      "chr17\t8148987\t8148988\tchr17\t8147924\t8149001\t1\n",
      "chr17\t8148987\t8148988\tchr17\t8147924\t8149000\t1\n",
      "chr17\t8148987\t8148988\tchr17\t8148097\t8149186\t1\n",
      "chr17\t8148987\t8148988\tchr17\t8148180\t8149106\t1\n",
      "chr17\t8148987\t8148988\tchr17\t8148267\t8149282\t1\n",
      "chr17\t8148987\t8148988\tchr17\t8148267\t8149281\t1\n",
      "chr17\t8148987\t8148988\tchr17\t8148267\t8149282\t1\n",
      "chr17\t8148987\t8148988\tchr17\t8148267\t8149280\t1\n",
      "chr17\t8148987\t8148988\tchr17\t8148401\t8149372\t1\n",
      "\n",
      "Show the first few lines of the output file\n",
      "chr17\t8148987\t8148988\t39\n",
      "chr17\t8148988\t8149016\t39\n",
      "chr17\t8149016\t8149018\t36\n",
      "chr17\t8149018\t8149019\t36\n",
      "chr17\t8149019\t8149023\t36\n",
      "chr17\t8149023\t8149029\t36\n",
      "chr17\t8149029\t8149050\t36\n",
      "chr17\t8149050\t8149051\t38\n",
      "chr17\t8149051\t8149062\t40\n",
      "chr17\t8149062\t8149063\t40\n"
     ]
    }
   ],
   "source": [
    "%%bash\n",
    "FD_LOG=/gpfs/fs1/data/reddylab/Kuei/out/CombEffect_STARR/log\n",
    "cat ${FD_LOG}/prep_count_dex_test.0.txt"
   ]
  },
  {
   "cell_type": "markdown",
   "metadata": {},
   "source": [
    "## intersect segments and fragments of Output (DMSO)"
   ]
  },
  {
   "cell_type": "markdown",
   "metadata": {},
   "source": [
    "### Test looping code"
   ]
  },
  {
   "cell_type": "code",
   "execution_count": 45,
   "metadata": {},
   "outputs": [
    {
     "name": "stdout",
     "output_type": "stream",
     "text": [
      "/data/reddylab/Kuei/out/CombEffect_STARR/data/TFX2_DMSO, TFX2_DMSO\n",
      "/data/reddylab/Kuei/out/CombEffect_STARR/data/TFX3_DMSO, TFX3_DMSO\n",
      "/data/reddylab/Kuei/out/CombEffect_STARR/data/TFX4_DMSO, TFX4_DMSO\n",
      "/data/reddylab/Kuei/out/CombEffect_STARR/data/TFX5_DMSO, TFX5_DMSO\n"
     ]
    }
   ],
   "source": [
    "%%bash\n",
    "for fpath in $(ls -d /data/reddylab/Kuei/out/CombEffect_STARR/data/TFX?_DMSO); do\n",
    "    tmp=$(basename $fpath)\n",
    "    echo $fpath, $tmp\n",
    "done"
   ]
  },
  {
   "cell_type": "code",
   "execution_count": 46,
   "metadata": {},
   "outputs": [
    {
     "name": "stdout",
     "output_type": "stream",
     "text": [
      "/data/reddylab/Kuei/out/CombEffect_STARR/data/TFX2_DMSO\n",
      "/data/reddylab/Kuei/out/CombEffect_STARR/data/TFX3_DMSO\n",
      "/data/reddylab/Kuei/out/CombEffect_STARR/data/TFX4_DMSO\n",
      "/data/reddylab/Kuei/out/CombEffect_STARR/data/TFX5_DMSO\n"
     ]
    }
   ],
   "source": [
    "%%bash\n",
    "FD_WRK=/data/reddylab/Kuei/out/CombEffect_STARR\n",
    "FD_DATS=($(ls -d ${FD_WRK}/data/TFX?_DMSO))\n",
    "echo ${FD_DATS[0]}\n",
    "echo ${FD_DATS[1]}\n",
    "echo ${FD_DATS[2]}\n",
    "echo ${FD_DATS[3]}"
   ]
  },
  {
   "cell_type": "markdown",
   "metadata": {},
   "source": [
    "### connect segments and fragments by `bedtools intersect`"
   ]
  },
  {
   "cell_type": "code",
   "execution_count": 47,
   "metadata": {},
   "outputs": [
    {
     "name": "stdout",
     "output_type": "stream",
     "text": [
      "Submitted batch job 25408801\n"
     ]
    }
   ],
   "source": [
    "%%bash\n",
    "### set environment\n",
    "module load bedtools2\n",
    "module load perl\n",
    "module load gcc\n",
    "source /data/reddylab/software/miniconda2/bin/activate alex_dev\n",
    "export PATH=/data/reddylab/software/homer/bin/:$PATH\n",
    "\n",
    "### set log file directory\n",
    "FD_LOG=/gpfs/fs1/data/reddylab/Kuei/out/CombEffect_STARR/log\n",
    "\n",
    "### run script using sbatch\n",
    "sbatch -pnew,all \\\n",
    "    --array 0-3 \\\n",
    "    --mem 8G \\\n",
    "    -o ${FD_LOG}/prep_count_dmso_test.%a.txt \\\n",
    "    <<'EOF'\n",
    "#!/bin/bash\n",
    "### set directories\n",
    "FD_WRK=/data/reddylab/Kuei/out/CombEffect_STARR\n",
    "FD_OUT=${FD_WRK}/data/TFX_Dex\n",
    "FD_DATS=($(ls -d ${FD_WRK}/data/TFX?_DMSO))\n",
    "CHROM=chr17\n",
    "\n",
    "### set input and output file names\n",
    "FD_DAT=${FD_DATS[${SLURM_ARRAY_TASK_ID}]}\n",
    "FN_SEG=seg_${CHROM}.bed\n",
    "FNAME=$(basename ${FD_DAT})\n",
    "\n",
    "### Print start message\n",
    "echo \"Slurm Array Index: \" ${SLURM_ARRAY_TASK_ID}\n",
    "echo \"Input  Segment   file: \" ${FD_OUT}/${FN_SEG}\n",
    "echo \"Input  Fragment  file: \" ${FD_DAT}/${CHROM}.bed\n",
    "echo \"Output Intersect file: \" ${FD_OUT}/${CHROM}_${FNAME}.bedpe\n",
    "echo \"Output Count     file: \" ${FD_OUT}/cnt_${CHROM}_${FNAME}.bed\n",
    "echo\n",
    "echo \"Show the first few lines of the input file\"\n",
    "head ${FD_OUT}/${FN_SEG}\n",
    "echo\n",
    "echo \"Show the first few lines of the input file\"\n",
    "head ${FD_DAT}/${CHROM}.bed\n",
    "\n",
    "###\n",
    "FP_BED_A=${FD_OUT}/${FN_SEG}\n",
    "FP_BED_B=${FD_DAT}/${CHROM}.bed\n",
    "FP_BED_O=${FD_OUT}/${CHROM}_${FNAME}.bedpe\n",
    "bedtools intersect -a ${FP_BED_A} -b ${FP_BED_B} -wo > ${FP_BED_O}\n",
    "\n",
    "###\n",
    "cat ${FP_BED_O} | cut -f1-3 |\\\n",
    "    sort    |\\\n",
    "    uniq -c |\\\n",
    "    awk '{$(NF+1)=$1;$1=\"\"}1'   |\\\n",
    "    sed -e 's/^[[:space:]]*//'  |\\\n",
    "    sed -e 's/[[:space:]]/\\t/g'  \\\n",
    "    > ${FD_OUT}/cnt_${CHROM}_${FNAME}.bed\n",
    "\n",
    "### Print end message\n",
    "echo\n",
    "echo \"Show the first few lines of the output file\"\n",
    "head ${FD_OUT}/${CHROM}_${FNAME}.bedpe\n",
    "echo\n",
    "echo \"Show the first few lines of the output file\"\n",
    "head ${FD_OUT}/cnt_${CHROM}_${FNAME}.bed\n",
    "\n",
    "EOF"
   ]
  },
  {
   "cell_type": "markdown",
   "metadata": {},
   "source": [
    "### Check log"
   ]
  },
  {
   "cell_type": "code",
   "execution_count": 48,
   "metadata": {},
   "outputs": [
    {
     "name": "stdout",
     "output_type": "stream",
     "text": [
      "Slurm Array Index:  0\n",
      "Input  Segment   file:  /data/reddylab/Kuei/out/CombEffect_STARR/data/TFX_Dex/seg_chr17.bed\n",
      "Input  Fragment  file:  /data/reddylab/Kuei/out/CombEffect_STARR/data/TFX2_DMSO/chr17.bed\n",
      "Output Intersect file:  /data/reddylab/Kuei/out/CombEffect_STARR/data/TFX_Dex/chr17_TFX2_DMSO.bedpe\n",
      "Output Count     file:  /data/reddylab/Kuei/out/CombEffect_STARR/data/TFX_Dex/cnt_chr17_TFX2_DMSO.bed\n",
      "\n",
      "Show the first few lines of the input file\n",
      "chr17\t8148987\t8148988\n",
      "chr17\t8148988\t8149016\n",
      "chr17\t8149016\t8149018\n",
      "chr17\t8149018\t8149019\n",
      "chr17\t8149019\t8149023\n",
      "chr17\t8149023\t8149029\n",
      "chr17\t8149029\t8149050\n",
      "chr17\t8149050\t8149051\n",
      "chr17\t8149051\t8149062\n",
      "chr17\t8149062\t8149063\n",
      "\n",
      "Show the first few lines of the input file\n",
      "chr17\t87067\t87989\n",
      "chr17\t158043\t159067\n",
      "chr17\t158043\t159066\n",
      "chr17\t159137\t160020\n",
      "chr17\t170572\t172531\n",
      "chr17\t172392\t173515\n",
      "chr17\t172393\t173515\n",
      "chr17\t172396\t173514\n",
      "chr17\t197679\t198597\n",
      "chr17\t197681\t198597\n",
      "\n",
      "Show the first few lines of the output file\n",
      "chr17\t8148987\t8148988\tchr17\t8148063\t8149178\t1\n",
      "chr17\t8148987\t8148988\tchr17\t8148063\t8149178\t1\n",
      "chr17\t8148987\t8148988\tchr17\t8148063\t8149178\t1\n",
      "chr17\t8148987\t8148988\tchr17\t8148100\t8149037\t1\n",
      "chr17\t8148987\t8148988\tchr17\t8148100\t8149038\t1\n",
      "chr17\t8148987\t8148988\tchr17\t8148118\t8149012\t1\n",
      "chr17\t8148987\t8148988\tchr17\t8148153\t8149166\t1\n",
      "chr17\t8148987\t8148988\tchr17\t8148177\t8149194\t1\n",
      "chr17\t8148987\t8148988\tchr17\t8148178\t8149109\t1\n",
      "chr17\t8148987\t8148988\tchr17\t8148194\t8149155\t1\n",
      "\n",
      "Show the first few lines of the output file\n",
      "chr17\t8148987\t8148988\t97\n",
      "chr17\t8148988\t8149016\t97\n",
      "chr17\t8149016\t8149018\t96\n",
      "chr17\t8149018\t8149019\t96\n",
      "chr17\t8149019\t8149023\t96\n",
      "chr17\t8149023\t8149029\t96\n",
      "chr17\t8149029\t8149050\t102\n",
      "chr17\t8149050\t8149051\t100\n",
      "chr17\t8149051\t8149062\t100\n",
      "chr17\t8149062\t8149063\t100\n"
     ]
    }
   ],
   "source": [
    "%%bash\n",
    "FD_LOG=/gpfs/fs1/data/reddylab/Kuei/out/CombEffect_STARR/log\n",
    "cat ${FD_LOG}/prep_count_dmso_test.0.txt"
   ]
  },
  {
   "cell_type": "markdown",
   "metadata": {},
   "source": [
    "## intersect segments and fragments of Input"
   ]
  },
  {
   "cell_type": "markdown",
   "metadata": {},
   "source": [
    "### Test looping code"
   ]
  },
  {
   "cell_type": "code",
   "execution_count": 49,
   "metadata": {},
   "outputs": [
    {
     "name": "stdout",
     "output_type": "stream",
     "text": [
      "/data/reddylab/Kuei/out/CombEffect_STARR/data/Input1, Input1\n",
      "/data/reddylab/Kuei/out/CombEffect_STARR/data/Input2, Input2\n",
      "/data/reddylab/Kuei/out/CombEffect_STARR/data/Input3, Input3\n",
      "/data/reddylab/Kuei/out/CombEffect_STARR/data/Input4, Input4\n",
      "/data/reddylab/Kuei/out/CombEffect_STARR/data/Input5, Input5\n"
     ]
    }
   ],
   "source": [
    "%%bash\n",
    "for fpath in $(ls -d /data/reddylab/Kuei/out/CombEffect_STARR/data/Input?); do\n",
    "    tmp=$(basename $fpath)\n",
    "    echo $fpath, $tmp\n",
    "done"
   ]
  },
  {
   "cell_type": "markdown",
   "metadata": {},
   "source": [
    "### connect segments and fragments by `bedtools intersect`"
   ]
  },
  {
   "cell_type": "code",
   "execution_count": 50,
   "metadata": {},
   "outputs": [
    {
     "name": "stdout",
     "output_type": "stream",
     "text": [
      "Submitted batch job 25408819\n"
     ]
    }
   ],
   "source": [
    "%%bash\n",
    "### set environment\n",
    "module load bedtools2\n",
    "module load perl\n",
    "module load gcc\n",
    "source /data/reddylab/software/miniconda2/bin/activate alex_dev\n",
    "export PATH=/data/reddylab/software/homer/bin/:$PATH\n",
    "\n",
    "### set log file directory\n",
    "FD_LOG=/gpfs/fs1/data/reddylab/Kuei/out/CombEffect_STARR/log\n",
    "\n",
    "### run script using sbatch\n",
    "sbatch -pnew,all \\\n",
    "    --array 0-4 \\\n",
    "    --mem 8G \\\n",
    "    -o ${FD_LOG}/prep_count_input_test.%a.txt \\\n",
    "    <<'EOF'\n",
    "#!/bin/bash\n",
    "### set directories\n",
    "FD_WRK=/data/reddylab/Kuei/out/CombEffect_STARR\n",
    "FD_OUT=${FD_WRK}/data/TFX_Dex\n",
    "FD_DATS=($(ls -d ${FD_WRK}/data/Input?))\n",
    "CHROM=chr17\n",
    "\n",
    "### set input and output file names\n",
    "FD_DAT=${FD_DATS[${SLURM_ARRAY_TASK_ID}]}\n",
    "FN_SEG=seg_${CHROM}.bed\n",
    "FNAME=$(basename ${FD_DAT})\n",
    "\n",
    "### Print start message\n",
    "echo \"Slurm Array Index: \" ${SLURM_ARRAY_TASK_ID}\n",
    "echo \"Input  Segment   file: \" ${FD_OUT}/${FN_SEG}\n",
    "echo \"Input  Fragment  file: \" ${FD_DAT}/${CHROM}.bed\n",
    "echo \"Output Intersect file: \" ${FD_OUT}/${CHROM}_${FNAME}.bedpe\n",
    "echo \"Output Count     file: \" ${FD_OUT}/cnt_${CHROM}_${FNAME}.bed\n",
    "echo\n",
    "echo \"Show the first few lines of the input file\"\n",
    "head ${FD_OUT}/${FN_SEG}\n",
    "echo\n",
    "echo \"Show the first few lines of the input file\"\n",
    "head ${FD_DAT}/${CHROM}.bed\n",
    "\n",
    "###\n",
    "FP_BED_A=${FD_OUT}/${FN_SEG}\n",
    "FP_BED_B=${FD_DAT}/${CHROM}.bed\n",
    "FP_BED_O=${FD_OUT}/${CHROM}_${FNAME}.bedpe\n",
    "bedtools intersect -a ${FP_BED_A} -b ${FP_BED_B} -wo > ${FP_BED_O}\n",
    "\n",
    "###\n",
    "cat ${FP_BED_O} | cut -f1-3 |\\\n",
    "    sort    |\\\n",
    "    uniq -c |\\\n",
    "    awk '{$(NF+1)=$1;$1=\"\"}1'   |\\\n",
    "    sed -e 's/^[[:space:]]*//'  |\\\n",
    "    sed -e 's/[[:space:]]/\\t/g'  \\\n",
    "    > ${FD_OUT}/cnt_${CHROM}_${FNAME}.bed\n",
    "\n",
    "### Print end message\n",
    "echo\n",
    "echo \"Show the first few lines of the output file\"\n",
    "head ${FD_OUT}/${CHROM}_${FNAME}.bedpe\n",
    "echo\n",
    "echo \"Show the first few lines of the output file\"\n",
    "head ${FD_OUT}/cnt_${CHROM}_${FNAME}.bed\n",
    "\n",
    "EOF"
   ]
  },
  {
   "cell_type": "markdown",
   "metadata": {},
   "source": [
    "### Check log"
   ]
  },
  {
   "cell_type": "code",
   "execution_count": 52,
   "metadata": {},
   "outputs": [
    {
     "name": "stdout",
     "output_type": "stream",
     "text": [
      "Slurm Array Index:  1\n",
      "Input  Segment   file:  /data/reddylab/Kuei/out/CombEffect_STARR/data/TFX_Dex/seg_chr17.bed\n",
      "Input  Fragment  file:  /data/reddylab/Kuei/out/CombEffect_STARR/data/Input2/chr17.bed\n",
      "Output Intersect file:  /data/reddylab/Kuei/out/CombEffect_STARR/data/TFX_Dex/chr17_Input2.bedpe\n",
      "Output Count     file:  /data/reddylab/Kuei/out/CombEffect_STARR/data/TFX_Dex/cnt_chr17_Input2.bed\n",
      "\n",
      "Show the first few lines of the input file\n",
      "chr17\t8148987\t8148988\n",
      "chr17\t8148988\t8149016\n",
      "chr17\t8149016\t8149018\n",
      "chr17\t8149018\t8149019\n",
      "chr17\t8149019\t8149023\n",
      "chr17\t8149023\t8149029\n",
      "chr17\t8149029\t8149050\n",
      "chr17\t8149050\t8149051\n",
      "chr17\t8149051\t8149062\n",
      "chr17\t8149062\t8149063\n",
      "\n",
      "Show the first few lines of the input file\n",
      "chr17\t159510\t160362\n",
      "chr17\t201155\t201968\n",
      "chr17\t201155\t201968\n",
      "chr17\t201174\t201950\n",
      "chr17\t205516\t206550\n",
      "chr17\t205522\t206567\n",
      "chr17\t206243\t207269\n",
      "chr17\t206270\t207284\n",
      "chr17\t206273\t207378\n",
      "chr17\t206289\t207275\n",
      "\n",
      "Show the first few lines of the output file\n",
      "chr17\t8148987\t8148988\tchr17\t8148003\t8149020\t1\n",
      "chr17\t8148987\t8148988\tchr17\t8148186\t8149141\t1\n",
      "chr17\t8148987\t8148988\tchr17\t8148192\t8149098\t1\n",
      "chr17\t8148987\t8148988\tchr17\t8148325\t8149348\t1\n",
      "chr17\t8148987\t8148988\tchr17\t8148519\t8149458\t1\n",
      "chr17\t8148987\t8148988\tchr17\t8148566\t8149591\t1\n",
      "chr17\t8148987\t8148988\tchr17\t8148567\t8149590\t1\n",
      "chr17\t8148987\t8148988\tchr17\t8148608\t8149628\t1\n",
      "chr17\t8148987\t8148988\tchr17\t8148637\t8149737\t1\n",
      "chr17\t8148987\t8148988\tchr17\t8148666\t8149751\t1\n",
      "\n",
      "Show the first few lines of the output file\n",
      "chr17\t8148987\t8148988\t18\n",
      "chr17\t8148988\t8149016\t21\n",
      "chr17\t8149016\t8149018\t21\n",
      "chr17\t8149018\t8149019\t21\n",
      "chr17\t8149019\t8149023\t21\n",
      "chr17\t8149023\t8149029\t20\n",
      "chr17\t8149029\t8149050\t21\n",
      "chr17\t8149050\t8149051\t21\n",
      "chr17\t8149051\t8149062\t21\n",
      "chr17\t8149062\t8149063\t21\n"
     ]
    }
   ],
   "source": [
    "%%bash\n",
    "FD_LOG=/gpfs/fs1/data/reddylab/Kuei/out/CombEffect_STARR/log\n",
    "cat ${FD_LOG}/prep_count_input_test.1.txt"
   ]
  },
  {
   "cell_type": "code",
   "execution_count": null,
   "metadata": {},
   "outputs": [],
   "source": []
  },
  {
   "cell_type": "code",
   "execution_count": null,
   "metadata": {},
   "outputs": [],
   "source": []
  },
  {
   "cell_type": "code",
   "execution_count": null,
   "metadata": {},
   "outputs": [],
   "source": []
  },
  {
   "cell_type": "code",
   "execution_count": null,
   "metadata": {},
   "outputs": [],
   "source": []
  }
 ],
 "metadata": {
  "kernelspec": {
   "display_name": "Python 3",
   "language": "python",
   "name": "python3"
  },
  "language_info": {
   "codemirror_mode": {
    "name": "ipython",
    "version": 3
   },
   "file_extension": ".py",
   "mimetype": "text/x-python",
   "name": "python",
   "nbconvert_exporter": "python",
   "pygments_lexer": "ipython3",
   "version": "3.7.3"
  }
 },
 "nbformat": 4,
 "nbformat_minor": 4
}
