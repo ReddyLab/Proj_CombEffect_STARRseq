{
 "cells": [
  {
   "cell_type": "markdown",
   "metadata": {},
   "source": [
    "# Import the annotated segments and combine the information for each segment"
   ]
  },
  {
   "cell_type": "code",
   "execution_count": 1,
   "metadata": {},
   "outputs": [],
   "source": [
    "suppressMessages(suppressWarnings(source(\"config.R\")))"
   ]
  },
  {
   "cell_type": "code",
   "execution_count": 2,
   "metadata": {},
   "outputs": [
    {
     "data": {
      "text/html": [
       "746"
      ],
      "text/latex": [
       "746"
      ],
      "text/markdown": [
       "746"
      ],
      "text/plain": [
       "[1] 746"
      ]
     },
     "metadata": {},
     "output_type": "display_data"
    }
   ],
   "source": [
    "fdiry  = \"/data/reddylab/Kuei/out/annotation/JASPAR2020/MA*\"\n",
    "fpaths = Sys.glob(fdiry)\n",
    "length(fpaths)"
   ]
  },
  {
   "cell_type": "code",
   "execution_count": 3,
   "metadata": {},
   "outputs": [
    {
     "data": {
      "text/html": [
       "746"
      ],
      "text/latex": [
       "746"
      ],
      "text/markdown": [
       "746"
      ],
      "text/plain": [
       "[1] 746"
      ]
     },
     "metadata": {},
     "output_type": "display_data"
    }
   ],
   "source": [
    "fdiry  = \"/data/reddylab/Kuei/out/annotation/JASPAR2020/chr17/MA*\"\n",
    "fpaths = Sys.glob(fdiry)\n",
    "length(fpaths)"
   ]
  },
  {
   "cell_type": "code",
   "execution_count": 4,
   "metadata": {},
   "outputs": [
    {
     "data": {
      "text/html": [
       "746"
      ],
      "text/latex": [
       "746"
      ],
      "text/markdown": [
       "746"
      ],
      "text/plain": [
       "[1] 746"
      ]
     },
     "metadata": {},
     "output_type": "display_data"
    }
   ],
   "source": [
    "fdiry = \"/data/reddylab/Kuei/out/CombEffect_STARR/annotation_segment/TFX_Dex/PER1/chr17_*.bedpe\"\n",
    "fpaths = Sys.glob(fdiry)\n",
    "length(fpaths)"
   ]
  },
  {
   "cell_type": "code",
   "execution_count": 6,
   "metadata": {},
   "outputs": [],
   "source": [
    "###\n",
    "fdiry = \"/data/reddylab/Kuei/out/CombEffect_STARR/annotation_segment/TFX_Dex/PER1/chr17_*.bedpe\"\n",
    "fpaths = Sys.glob(fdiry)\n",
    "\n",
    "###\n",
    "cnames = c(\n",
    "    \"chrom_seg\", \"start_seg\", \"end_seg\",\n",
    "    \"chrom_ann\", \"start_ann\", \"end_ann\",\n",
    "    \"TF\", \"score\", \"nlog10_pval\", \"strand\",\n",
    "    \"overlap\")\n",
    "ctypes = c(\n",
    "    col_character(), col_double(), col_double(),\n",
    "    col_character(), col_double(), col_double(),\n",
    "    col_character(), col_double(), col_double(),\n",
    "    col_character(), col_double())\n",
    "\n",
    "###\n",
    "lst = lapply(fpaths[1:100], function(fpath){\n",
    "    dat = read_tsv(\n",
    "        fpath, \n",
    "        col_names = cnames, \n",
    "        col_types = ctypes)\n",
    "    return(dat)\n",
    "})"
   ]
  },
  {
   "cell_type": "code",
   "execution_count": 7,
   "metadata": {},
   "outputs": [
    {
     "data": {
      "text/html": [
       "<ol>\n",
       "\t<li><table>\n",
       "<thead><tr><th scope=col>chrom_seg</th><th scope=col>start_seg</th><th scope=col>end_seg</th><th scope=col>chrom_ann</th><th scope=col>start_ann</th><th scope=col>end_ann</th><th scope=col>TF</th><th scope=col>score</th><th scope=col>nlog10_pval</th><th scope=col>strand</th><th scope=col>overlap</th></tr></thead>\n",
       "<tbody>\n",
       "\t<tr><td>chr17  </td><td>8149196</td><td>8149199</td><td>chr17  </td><td>8149196</td><td>8149207</td><td>RUNX1  </td><td>810    </td><td>275    </td><td>-      </td><td>3      </td></tr>\n",
       "\t<tr><td>chr17  </td><td>8149199</td><td>8149201</td><td>chr17  </td><td>8149196</td><td>8149207</td><td>RUNX1  </td><td>810    </td><td>275    </td><td>-      </td><td>2      </td></tr>\n",
       "</tbody>\n",
       "</table>\n",
       "</li>\n",
       "\t<li><table>\n",
       "<thead><tr><th scope=col>chrom_seg</th><th scope=col>start_seg</th><th scope=col>end_seg</th><th scope=col>chrom_ann</th><th scope=col>start_ann</th><th scope=col>end_ann</th><th scope=col>TF</th><th scope=col>score</th><th scope=col>nlog10_pval</th><th scope=col>strand</th><th scope=col>overlap</th></tr></thead>\n",
       "<tbody>\n",
       "\t<tr><td>chr17  </td><td>8149072</td><td>8149101</td><td>chr17  </td><td>8149083</td><td>8149097</td><td>TFAP2A </td><td>866    </td><td>407    </td><td>-      </td><td>14     </td></tr>\n",
       "\t<tr><td>chr17  </td><td>8149261</td><td>8149329</td><td>chr17  </td><td>8149292</td><td>8149306</td><td>TFAP2A </td><td>880    </td><td>426    </td><td>+      </td><td>14     </td></tr>\n",
       "</tbody>\n",
       "</table>\n",
       "</li>\n",
       "\t<li><table>\n",
       "<thead><tr><th scope=col>chrom_seg</th><th scope=col>start_seg</th><th scope=col>end_seg</th><th scope=col>chrom_ann</th><th scope=col>start_ann</th><th scope=col>end_ann</th><th scope=col>TF</th><th scope=col>score</th><th scope=col>nlog10_pval</th><th scope=col>strand</th><th scope=col>overlap</th></tr></thead>\n",
       "<tbody>\n",
       "\t<tr><td>chr17  </td><td>8149445</td><td>8149463</td><td>chr17  </td><td>8149458</td><td>8149464</td><td>Arnt   </td><td>830    </td><td>233    </td><td>+      </td><td>5      </td></tr>\n",
       "\t<tr><td>chr17  </td><td>8149445</td><td>8149463</td><td>chr17  </td><td>8149458</td><td>8149464</td><td>Arnt   </td><td>830    </td><td>233    </td><td>-      </td><td>5      </td></tr>\n",
       "</tbody>\n",
       "</table>\n",
       "</li>\n",
       "\t<li><table>\n",
       "<thead><tr><th scope=col>chrom_seg</th><th scope=col>start_seg</th><th scope=col>end_seg</th><th scope=col>chrom_ann</th><th scope=col>start_ann</th><th scope=col>end_ann</th><th scope=col>TF</th><th scope=col>score</th><th scope=col>nlog10_pval</th><th scope=col>strand</th><th scope=col>overlap</th></tr></thead>\n",
       "<tbody>\n",
       "\t<tr><td>chr17    </td><td>8149029  </td><td>8149050  </td><td>chr17    </td><td>8149046  </td><td>8149052  </td><td>Ahr::Arnt</td><td>918      </td><td>301      </td><td>+        </td><td>4        </td></tr>\n",
       "\t<tr><td>chr17    </td><td>8149050  </td><td>8149051  </td><td>chr17    </td><td>8149046  </td><td>8149052  </td><td>Ahr::Arnt</td><td>918      </td><td>301      </td><td>+        </td><td>1        </td></tr>\n",
       "</tbody>\n",
       "</table>\n",
       "</li>\n",
       "\t<li><table>\n",
       "<thead><tr><th scope=col>chrom_seg</th><th scope=col>start_seg</th><th scope=col>end_seg</th><th scope=col>chrom_ann</th><th scope=col>start_ann</th><th scope=col>end_ann</th><th scope=col>TF</th><th scope=col>score</th><th scope=col>nlog10_pval</th><th scope=col>strand</th><th scope=col>overlap</th></tr></thead>\n",
       "<tbody>\n",
       "\t<tr><td>chr17  </td><td>8151910</td><td>8151912</td><td>chr17  </td><td>8151910</td><td>8151927</td><td>Ar     </td><td>908    </td><td>573    </td><td>+      </td><td>2      </td></tr>\n",
       "\t<tr><td>chr17  </td><td>8151910</td><td>8151912</td><td>chr17  </td><td>8151910</td><td>8151927</td><td>Ar     </td><td>876    </td><td>508    </td><td>-      </td><td>2      </td></tr>\n",
       "</tbody>\n",
       "</table>\n",
       "</li>\n",
       "\t<li></li>\n",
       "\t<li><table>\n",
       "<thead><tr><th scope=col>chrom_seg</th><th scope=col>start_seg</th><th scope=col>end_seg</th><th scope=col>chrom_ann</th><th scope=col>start_ann</th><th scope=col>end_ann</th><th scope=col>TF</th><th scope=col>score</th><th scope=col>nlog10_pval</th><th scope=col>strand</th><th scope=col>overlap</th></tr></thead>\n",
       "<tbody>\n",
       "\t<tr><td>chr17  </td><td>8149419</td><td>8149434</td><td>chr17  </td><td>8149425</td><td>8149437</td><td>PAX5   </td><td>814    </td><td>318    </td><td>-      </td><td>9      </td></tr>\n",
       "\t<tr><td>chr17  </td><td>8149434</td><td>8149445</td><td>chr17  </td><td>8149425</td><td>8149437</td><td>PAX5   </td><td>814    </td><td>318    </td><td>-      </td><td>3      </td></tr>\n",
       "</tbody>\n",
       "</table>\n",
       "</li>\n",
       "\t<li><table>\n",
       "<thead><tr><th scope=col>chrom_seg</th><th scope=col>start_seg</th><th scope=col>end_seg</th><th scope=col>chrom_ann</th><th scope=col>start_ann</th><th scope=col>end_ann</th><th scope=col>TF</th><th scope=col>score</th><th scope=col>nlog10_pval</th><th scope=col>strand</th><th scope=col>overlap</th></tr></thead>\n",
       "<tbody>\n",
       "\t<tr><td>chr17  </td><td>8149102</td><td>8149121</td><td>chr17  </td><td>8149102</td><td>8149115</td><td>NR2F1  </td><td>813    </td><td>319    </td><td>-      </td><td>13     </td></tr>\n",
       "\t<tr><td>chr17  </td><td>8149736</td><td>8149747</td><td>chr17  </td><td>8149746</td><td>8149759</td><td>NR2F1  </td><td>859    </td><td>363    </td><td>-      </td><td> 1     </td></tr>\n",
       "</tbody>\n",
       "</table>\n",
       "</li>\n",
       "\t<li><table>\n",
       "<thead><tr><th scope=col>chrom_seg</th><th scope=col>start_seg</th><th scope=col>end_seg</th><th scope=col>chrom_ann</th><th scope=col>start_ann</th><th scope=col>end_ann</th><th scope=col>TF</th><th scope=col>score</th><th scope=col>nlog10_pval</th><th scope=col>strand</th><th scope=col>overlap</th></tr></thead>\n",
       "<tbody>\n",
       "\t<tr><td>chr17  </td><td>8150073</td><td>8150075</td><td>chr17  </td><td>8150073</td><td>8150086</td><td>CREB1  </td><td>870    </td><td>395    </td><td>+      </td><td>2      </td></tr>\n",
       "\t<tr><td>chr17  </td><td>8150075</td><td>8150078</td><td>chr17  </td><td>8150073</td><td>8150086</td><td>CREB1  </td><td>870    </td><td>395    </td><td>+      </td><td>3      </td></tr>\n",
       "</tbody>\n",
       "</table>\n",
       "</li>\n",
       "\t<li><table>\n",
       "<thead><tr><th scope=col>chrom_seg</th><th scope=col>start_seg</th><th scope=col>end_seg</th><th scope=col>chrom_ann</th><th scope=col>start_ann</th><th scope=col>end_ann</th><th scope=col>TF</th><th scope=col>score</th><th scope=col>nlog10_pval</th><th scope=col>strand</th><th scope=col>overlap</th></tr></thead>\n",
       "<tbody>\n",
       "\t<tr><td>chr17       </td><td>8148988     </td><td>8149016     </td><td>chr17       </td><td>8149005     </td><td>8149017     </td><td>Ddit3::Cebpa</td><td>847         </td><td>360         </td><td>+           </td><td>11          </td></tr>\n",
       "\t<tr><td>chr17       </td><td>8149016     </td><td>8149018     </td><td>chr17       </td><td>8149005     </td><td>8149017     </td><td>Ddit3::Cebpa</td><td>847         </td><td>360         </td><td>+           </td><td> 1          </td></tr>\n",
       "</tbody>\n",
       "</table>\n",
       "</li>\n",
       "</ol>\n"
      ],
      "text/latex": [
       "\\begin{enumerate}\n",
       "\\item \\begin{tabular}{r|lllllllllll}\n",
       " chrom\\_seg & start\\_seg & end\\_seg & chrom\\_ann & start\\_ann & end\\_ann & TF & score & nlog10\\_pval & strand & overlap\\\\\n",
       "\\hline\n",
       "\t chr17   & 8149196 & 8149199 & chr17   & 8149196 & 8149207 & RUNX1   & 810     & 275     & -       & 3      \\\\\n",
       "\t chr17   & 8149199 & 8149201 & chr17   & 8149196 & 8149207 & RUNX1   & 810     & 275     & -       & 2      \\\\\n",
       "\\end{tabular}\n",
       "\n",
       "\\item \\begin{tabular}{r|lllllllllll}\n",
       " chrom\\_seg & start\\_seg & end\\_seg & chrom\\_ann & start\\_ann & end\\_ann & TF & score & nlog10\\_pval & strand & overlap\\\\\n",
       "\\hline\n",
       "\t chr17   & 8149072 & 8149101 & chr17   & 8149083 & 8149097 & TFAP2A  & 866     & 407     & -       & 14     \\\\\n",
       "\t chr17   & 8149261 & 8149329 & chr17   & 8149292 & 8149306 & TFAP2A  & 880     & 426     & +       & 14     \\\\\n",
       "\\end{tabular}\n",
       "\n",
       "\\item \\begin{tabular}{r|lllllllllll}\n",
       " chrom\\_seg & start\\_seg & end\\_seg & chrom\\_ann & start\\_ann & end\\_ann & TF & score & nlog10\\_pval & strand & overlap\\\\\n",
       "\\hline\n",
       "\t chr17   & 8149445 & 8149463 & chr17   & 8149458 & 8149464 & Arnt    & 830     & 233     & +       & 5      \\\\\n",
       "\t chr17   & 8149445 & 8149463 & chr17   & 8149458 & 8149464 & Arnt    & 830     & 233     & -       & 5      \\\\\n",
       "\\end{tabular}\n",
       "\n",
       "\\item \\begin{tabular}{r|lllllllllll}\n",
       " chrom\\_seg & start\\_seg & end\\_seg & chrom\\_ann & start\\_ann & end\\_ann & TF & score & nlog10\\_pval & strand & overlap\\\\\n",
       "\\hline\n",
       "\t chr17     & 8149029   & 8149050   & chr17     & 8149046   & 8149052   & Ahr::Arnt & 918       & 301       & +         & 4        \\\\\n",
       "\t chr17     & 8149050   & 8149051   & chr17     & 8149046   & 8149052   & Ahr::Arnt & 918       & 301       & +         & 1        \\\\\n",
       "\\end{tabular}\n",
       "\n",
       "\\item \\begin{tabular}{r|lllllllllll}\n",
       " chrom\\_seg & start\\_seg & end\\_seg & chrom\\_ann & start\\_ann & end\\_ann & TF & score & nlog10\\_pval & strand & overlap\\\\\n",
       "\\hline\n",
       "\t chr17   & 8151910 & 8151912 & chr17   & 8151910 & 8151927 & Ar      & 908     & 573     & +       & 2      \\\\\n",
       "\t chr17   & 8151910 & 8151912 & chr17   & 8151910 & 8151927 & Ar      & 876     & 508     & -       & 2      \\\\\n",
       "\\end{tabular}\n",
       "\n",
       "\\item \n",
       "\\item \\begin{tabular}{r|lllllllllll}\n",
       " chrom\\_seg & start\\_seg & end\\_seg & chrom\\_ann & start\\_ann & end\\_ann & TF & score & nlog10\\_pval & strand & overlap\\\\\n",
       "\\hline\n",
       "\t chr17   & 8149419 & 8149434 & chr17   & 8149425 & 8149437 & PAX5    & 814     & 318     & -       & 9      \\\\\n",
       "\t chr17   & 8149434 & 8149445 & chr17   & 8149425 & 8149437 & PAX5    & 814     & 318     & -       & 3      \\\\\n",
       "\\end{tabular}\n",
       "\n",
       "\\item \\begin{tabular}{r|lllllllllll}\n",
       " chrom\\_seg & start\\_seg & end\\_seg & chrom\\_ann & start\\_ann & end\\_ann & TF & score & nlog10\\_pval & strand & overlap\\\\\n",
       "\\hline\n",
       "\t chr17   & 8149102 & 8149121 & chr17   & 8149102 & 8149115 & NR2F1   & 813     & 319     & -       & 13     \\\\\n",
       "\t chr17   & 8149736 & 8149747 & chr17   & 8149746 & 8149759 & NR2F1   & 859     & 363     & -       &  1     \\\\\n",
       "\\end{tabular}\n",
       "\n",
       "\\item \\begin{tabular}{r|lllllllllll}\n",
       " chrom\\_seg & start\\_seg & end\\_seg & chrom\\_ann & start\\_ann & end\\_ann & TF & score & nlog10\\_pval & strand & overlap\\\\\n",
       "\\hline\n",
       "\t chr17   & 8150073 & 8150075 & chr17   & 8150073 & 8150086 & CREB1   & 870     & 395     & +       & 2      \\\\\n",
       "\t chr17   & 8150075 & 8150078 & chr17   & 8150073 & 8150086 & CREB1   & 870     & 395     & +       & 3      \\\\\n",
       "\\end{tabular}\n",
       "\n",
       "\\item \\begin{tabular}{r|lllllllllll}\n",
       " chrom\\_seg & start\\_seg & end\\_seg & chrom\\_ann & start\\_ann & end\\_ann & TF & score & nlog10\\_pval & strand & overlap\\\\\n",
       "\\hline\n",
       "\t chr17        & 8148988      & 8149016      & chr17        & 8149005      & 8149017      & Ddit3::Cebpa & 847          & 360          & +            & 11          \\\\\n",
       "\t chr17        & 8149016      & 8149018      & chr17        & 8149005      & 8149017      & Ddit3::Cebpa & 847          & 360          & +            &  1          \\\\\n",
       "\\end{tabular}\n",
       "\n",
       "\\end{enumerate}\n"
      ],
      "text/markdown": [
       "1. \n",
       "| chrom_seg | start_seg | end_seg | chrom_ann | start_ann | end_ann | TF | score | nlog10_pval | strand | overlap |\n",
       "|---|---|---|---|---|---|---|---|---|---|---|\n",
       "| chr17   | 8149196 | 8149199 | chr17   | 8149196 | 8149207 | RUNX1   | 810     | 275     | -       | 3       |\n",
       "| chr17   | 8149199 | 8149201 | chr17   | 8149196 | 8149207 | RUNX1   | 810     | 275     | -       | 2       |\n",
       "\n",
       "\n",
       "2. \n",
       "| chrom_seg | start_seg | end_seg | chrom_ann | start_ann | end_ann | TF | score | nlog10_pval | strand | overlap |\n",
       "|---|---|---|---|---|---|---|---|---|---|---|\n",
       "| chr17   | 8149072 | 8149101 | chr17   | 8149083 | 8149097 | TFAP2A  | 866     | 407     | -       | 14      |\n",
       "| chr17   | 8149261 | 8149329 | chr17   | 8149292 | 8149306 | TFAP2A  | 880     | 426     | +       | 14      |\n",
       "\n",
       "\n",
       "3. \n",
       "| chrom_seg | start_seg | end_seg | chrom_ann | start_ann | end_ann | TF | score | nlog10_pval | strand | overlap |\n",
       "|---|---|---|---|---|---|---|---|---|---|---|\n",
       "| chr17   | 8149445 | 8149463 | chr17   | 8149458 | 8149464 | Arnt    | 830     | 233     | +       | 5       |\n",
       "| chr17   | 8149445 | 8149463 | chr17   | 8149458 | 8149464 | Arnt    | 830     | 233     | -       | 5       |\n",
       "\n",
       "\n",
       "4. \n",
       "| chrom_seg | start_seg | end_seg | chrom_ann | start_ann | end_ann | TF | score | nlog10_pval | strand | overlap |\n",
       "|---|---|---|---|---|---|---|---|---|---|---|\n",
       "| chr17     | 8149029   | 8149050   | chr17     | 8149046   | 8149052   | Ahr::Arnt | 918       | 301       | +         | 4         |\n",
       "| chr17     | 8149050   | 8149051   | chr17     | 8149046   | 8149052   | Ahr::Arnt | 918       | 301       | +         | 1         |\n",
       "\n",
       "\n",
       "5. \n",
       "| chrom_seg | start_seg | end_seg | chrom_ann | start_ann | end_ann | TF | score | nlog10_pval | strand | overlap |\n",
       "|---|---|---|---|---|---|---|---|---|---|---|\n",
       "| chr17   | 8151910 | 8151912 | chr17   | 8151910 | 8151927 | Ar      | 908     | 573     | +       | 2       |\n",
       "| chr17   | 8151910 | 8151912 | chr17   | 8151910 | 8151927 | Ar      | 876     | 508     | -       | 2       |\n",
       "\n",
       "\n",
       "6. \n",
       "7. \n",
       "| chrom_seg | start_seg | end_seg | chrom_ann | start_ann | end_ann | TF | score | nlog10_pval | strand | overlap |\n",
       "|---|---|---|---|---|---|---|---|---|---|---|\n",
       "| chr17   | 8149419 | 8149434 | chr17   | 8149425 | 8149437 | PAX5    | 814     | 318     | -       | 9       |\n",
       "| chr17   | 8149434 | 8149445 | chr17   | 8149425 | 8149437 | PAX5    | 814     | 318     | -       | 3       |\n",
       "\n",
       "\n",
       "8. \n",
       "| chrom_seg | start_seg | end_seg | chrom_ann | start_ann | end_ann | TF | score | nlog10_pval | strand | overlap |\n",
       "|---|---|---|---|---|---|---|---|---|---|---|\n",
       "| chr17   | 8149102 | 8149121 | chr17   | 8149102 | 8149115 | NR2F1   | 813     | 319     | -       | 13      |\n",
       "| chr17   | 8149736 | 8149747 | chr17   | 8149746 | 8149759 | NR2F1   | 859     | 363     | -       |  1      |\n",
       "\n",
       "\n",
       "9. \n",
       "| chrom_seg | start_seg | end_seg | chrom_ann | start_ann | end_ann | TF | score | nlog10_pval | strand | overlap |\n",
       "|---|---|---|---|---|---|---|---|---|---|---|\n",
       "| chr17   | 8150073 | 8150075 | chr17   | 8150073 | 8150086 | CREB1   | 870     | 395     | +       | 2       |\n",
       "| chr17   | 8150075 | 8150078 | chr17   | 8150073 | 8150086 | CREB1   | 870     | 395     | +       | 3       |\n",
       "\n",
       "\n",
       "10. \n",
       "| chrom_seg | start_seg | end_seg | chrom_ann | start_ann | end_ann | TF | score | nlog10_pval | strand | overlap |\n",
       "|---|---|---|---|---|---|---|---|---|---|---|\n",
       "| chr17        | 8148988      | 8149016      | chr17        | 8149005      | 8149017      | Ddit3::Cebpa | 847          | 360          | +            | 11           |\n",
       "| chr17        | 8149016      | 8149018      | chr17        | 8149005      | 8149017      | Ddit3::Cebpa | 847          | 360          | +            |  1           |\n",
       "\n",
       "\n",
       "\n",
       "\n"
      ],
      "text/plain": [
       "[[1]]\n",
       "# A tibble: 2 x 11\n",
       "  chrom_seg start_seg end_seg chrom_ann start_ann end_ann TF    score\n",
       "  <chr>         <dbl>   <dbl> <chr>         <dbl>   <dbl> <chr> <dbl>\n",
       "1 chr17       8149196 8149199 chr17       8149196 8149207 RUNX1   810\n",
       "2 chr17       8149199 8149201 chr17       8149196 8149207 RUNX1   810\n",
       "# … with 3 more variables: nlog10_pval <dbl>, strand <chr>, overlap <dbl>\n",
       "\n",
       "[[2]]\n",
       "# A tibble: 2 x 11\n",
       "  chrom_seg start_seg end_seg chrom_ann start_ann end_ann TF     score\n",
       "  <chr>         <dbl>   <dbl> <chr>         <dbl>   <dbl> <chr>  <dbl>\n",
       "1 chr17       8149072 8149101 chr17       8149083 8149097 TFAP2A   866\n",
       "2 chr17       8149261 8149329 chr17       8149292 8149306 TFAP2A   880\n",
       "# … with 3 more variables: nlog10_pval <dbl>, strand <chr>, overlap <dbl>\n",
       "\n",
       "[[3]]\n",
       "# A tibble: 2 x 11\n",
       "  chrom_seg start_seg end_seg chrom_ann start_ann end_ann TF    score\n",
       "  <chr>         <dbl>   <dbl> <chr>         <dbl>   <dbl> <chr> <dbl>\n",
       "1 chr17       8149445 8149463 chr17       8149458 8149464 Arnt    830\n",
       "2 chr17       8149445 8149463 chr17       8149458 8149464 Arnt    830\n",
       "# … with 3 more variables: nlog10_pval <dbl>, strand <chr>, overlap <dbl>\n",
       "\n",
       "[[4]]\n",
       "# A tibble: 2 x 11\n",
       "  chrom_seg start_seg end_seg chrom_ann start_ann end_ann TF        score\n",
       "  <chr>         <dbl>   <dbl> <chr>         <dbl>   <dbl> <chr>     <dbl>\n",
       "1 chr17       8149029 8149050 chr17       8149046 8149052 Ahr::Arnt   918\n",
       "2 chr17       8149050 8149051 chr17       8149046 8149052 Ahr::Arnt   918\n",
       "# … with 3 more variables: nlog10_pval <dbl>, strand <chr>, overlap <dbl>\n",
       "\n",
       "[[5]]\n",
       "# A tibble: 2 x 11\n",
       "  chrom_seg start_seg end_seg chrom_ann start_ann end_ann TF    score\n",
       "  <chr>         <dbl>   <dbl> <chr>         <dbl>   <dbl> <chr> <dbl>\n",
       "1 chr17       8151910 8151912 chr17       8151910 8151927 Ar      908\n",
       "2 chr17       8151910 8151912 chr17       8151910 8151927 Ar      876\n",
       "# … with 3 more variables: nlog10_pval <dbl>, strand <chr>, overlap <dbl>\n",
       "\n",
       "[[6]]\n",
       "# A tibble: 0 x 0\n",
       "\n",
       "[[7]]\n",
       "# A tibble: 2 x 11\n",
       "  chrom_seg start_seg end_seg chrom_ann start_ann end_ann TF    score\n",
       "  <chr>         <dbl>   <dbl> <chr>         <dbl>   <dbl> <chr> <dbl>\n",
       "1 chr17       8149419 8149434 chr17       8149425 8149437 PAX5    814\n",
       "2 chr17       8149434 8149445 chr17       8149425 8149437 PAX5    814\n",
       "# … with 3 more variables: nlog10_pval <dbl>, strand <chr>, overlap <dbl>\n",
       "\n",
       "[[8]]\n",
       "# A tibble: 2 x 11\n",
       "  chrom_seg start_seg end_seg chrom_ann start_ann end_ann TF    score\n",
       "  <chr>         <dbl>   <dbl> <chr>         <dbl>   <dbl> <chr> <dbl>\n",
       "1 chr17       8149102 8149121 chr17       8149102 8149115 NR2F1   813\n",
       "2 chr17       8149736 8149747 chr17       8149746 8149759 NR2F1   859\n",
       "# … with 3 more variables: nlog10_pval <dbl>, strand <chr>, overlap <dbl>\n",
       "\n",
       "[[9]]\n",
       "# A tibble: 2 x 11\n",
       "  chrom_seg start_seg end_seg chrom_ann start_ann end_ann TF    score\n",
       "  <chr>         <dbl>   <dbl> <chr>         <dbl>   <dbl> <chr> <dbl>\n",
       "1 chr17       8150073 8150075 chr17       8150073 8150086 CREB1   870\n",
       "2 chr17       8150075 8150078 chr17       8150073 8150086 CREB1   870\n",
       "# … with 3 more variables: nlog10_pval <dbl>, strand <chr>, overlap <dbl>\n",
       "\n",
       "[[10]]\n",
       "# A tibble: 2 x 11\n",
       "  chrom_seg start_seg end_seg chrom_ann start_ann end_ann TF           score\n",
       "  <chr>         <dbl>   <dbl> <chr>         <dbl>   <dbl> <chr>        <dbl>\n",
       "1 chr17       8148988 8149016 chr17       8149005 8149017 Ddit3::Cebpa   847\n",
       "2 chr17       8149016 8149018 chr17       8149005 8149017 Ddit3::Cebpa   847\n",
       "# … with 3 more variables: nlog10_pval <dbl>, strand <chr>, overlap <dbl>\n"
      ]
     },
     "metadata": {},
     "output_type": "display_data"
    }
   ],
   "source": [
    "lapply(lst[1:10], head, 2)"
   ]
  },
  {
   "cell_type": "code",
   "execution_count": 8,
   "metadata": {},
   "outputs": [
    {
     "name": "stdout",
     "output_type": "stream",
     "text": [
      "[1] \"spec_tbl_df\" \"tbl_df\"      \"tbl\"         \"data.frame\" \n",
      "[1] 15169    11\n"
     ]
    }
   ],
   "source": [
    "dat = bind_rows(lst)\n",
    "print(class(dat))\n",
    "print(dim(dat))"
   ]
  },
  {
   "cell_type": "code",
   "execution_count": 9,
   "metadata": {},
   "outputs": [
    {
     "data": {
      "text/html": [
       "<ol class=list-inline>\n",
       "\t<li>3251</li>\n",
       "\t<li>4</li>\n",
       "</ol>\n"
      ],
      "text/latex": [
       "\\begin{enumerate*}\n",
       "\\item 3251\n",
       "\\item 4\n",
       "\\end{enumerate*}\n"
      ],
      "text/markdown": [
       "1. 3251\n",
       "2. 4\n",
       "\n",
       "\n"
      ],
      "text/plain": [
       "[1] 3251    4"
      ]
     },
     "metadata": {},
     "output_type": "display_data"
    }
   ],
   "source": [
    "dat = bind_rows(lst)\n",
    "dat = dat %>% \n",
    "    dplyr::group_by(chrom_seg, start_seg, end_seg)  %>% \n",
    "    dplyr::mutate(TFs = paste0(TF, collapse = \"|\")) %>%\n",
    "    dplyr::select(chrom_seg, start_seg, end_seg, TFs) %>%\n",
    "    distinct\n",
    "dim(dat)"
   ]
  },
  {
   "cell_type": "code",
   "execution_count": 10,
   "metadata": {},
   "outputs": [
    {
     "data": {
      "text/html": [
       "<table>\n",
       "<thead><tr><th scope=col>chrom_seg</th><th scope=col>start_seg</th><th scope=col>end_seg</th><th scope=col>TFs</th></tr></thead>\n",
       "<tbody>\n",
       "\t<tr><td>chr17                                                                                                                                                                             </td><td>8149196                                                                                                                                                                           </td><td>8149199                                                                                                                                                                           </td><td>RUNX1|FOXF2|FOXC1|FOXC1|FOXL1|Foxd3|IRF1|IRF1|IRF1|IRF1|SOX9|SRY|Sox5                                                                                                             </td></tr>\n",
       "\t<tr><td>chr17                                                                                                                                                                             </td><td>8149199                                                                                                                                                                           </td><td>8149201                                                                                                                                                                           </td><td>RUNX1|FOXF2|FOXC1|FOXC1|FOXL1|Foxd3|Foxd3|IRF1|IRF1|IRF1|IRF1|SOX9|SRY|Sox5                                                                                                       </td></tr>\n",
       "\t<tr><td>chr17                                                                                                                                                                             </td><td>8149201                                                                                                                                                                           </td><td>8149210                                                                                                                                                                           </td><td>RUNX1|RUNX1|RUNX1|FOXF2|FOXF2|FOXC1|FOXC1|FOXC1|FOXC1|FOXL1|FOXL1|FOXL1|Foxd3|Foxd3|Foxd3|Foxd3|Foxd3|IRF1|IRF1|IRF1|IRF1|IRF1|IRF1|IRF1|SOX9|SOX9|SOX9|SRY|SRY|SRY|Sox5|Sox5|Sox5</td></tr>\n",
       "\t<tr><td>chr17                                                                                                                                                                             </td><td>8149210                                                                                                                                                                           </td><td>8149211                                                                                                                                                                           </td><td>RUNX1|RUNX1|FOXF2|FOXC1|FOXC1|FOXL1|Foxd3|Foxd3|Foxd3|Foxd3|IRF1|IRF1|IRF1|IRF1|IRF1|IRF1|IRF1|SOX9|SOX9|SRY|Sox5                                                                 </td></tr>\n",
       "\t<tr><td>chr17                                                                                                                                                                             </td><td>8149211                                                                                                                                                                           </td><td>8149212                                                                                                                                                                           </td><td>RUNX1|RUNX1|FOXF2|FOXC1|FOXC1|FOXL1|Foxd3|Foxd3|Foxd3|Foxd3|IRF1|IRF1|IRF1|IRF1|IRF1|IRF1|SOX9|SOX9|SRY|Sox5                                                                      </td></tr>\n",
       "\t<tr><td>chr17                                                                                                                                                                             </td><td>8149212                                                                                                                                                                           </td><td>8149233                                                                                                                                                                           </td><td>RUNX1|RUNX1|FOXF2|FOXC1|FOXC1|FOXL1|Foxd3|Foxd3|Foxd3|Foxd3|IRF1|IRF1|IRF1|IRF1|IRF1|Pparg::Rxra|SOX9|SRY|Sox5|YY1|HLTF                                                           </td></tr>\n",
       "</tbody>\n",
       "</table>\n"
      ],
      "text/latex": [
       "\\begin{tabular}{r|llll}\n",
       " chrom\\_seg & start\\_seg & end\\_seg & TFs\\\\\n",
       "\\hline\n",
       "\t chr17                                                                                                                                                                                                                                                                                                      & 8149196                                                                                                                                                                                                                                                                                                    & 8149199                                                                                                                                                                                                                                                                                                    & RUNX1\\textbar{}FOXF2\\textbar{}FOXC1\\textbar{}FOXC1\\textbar{}FOXL1\\textbar{}Foxd3\\textbar{}IRF1\\textbar{}IRF1\\textbar{}IRF1\\textbar{}IRF1\\textbar{}SOX9\\textbar{}SRY\\textbar{}Sox5                                                                                                             \\\\\n",
       "\t chr17                                                                                                                                                                                                                                                                                                                & 8149199                                                                                                                                                                                                                                                                                                              & 8149201                                                                                                                                                                                                                                                                                                              & RUNX1\\textbar{}FOXF2\\textbar{}FOXC1\\textbar{}FOXC1\\textbar{}FOXL1\\textbar{}Foxd3\\textbar{}Foxd3\\textbar{}IRF1\\textbar{}IRF1\\textbar{}IRF1\\textbar{}IRF1\\textbar{}SOX9\\textbar{}SRY\\textbar{}Sox5                                                                                                       \\\\\n",
       "\t chr17                                                                                                                                                                                                                                                                                                                                                                                                                                                                                                              & 8149201                                                                                                                                                                                                                                                                                                                                                                                                                                                                                                            & 8149210                                                                                                                                                                                                                                                                                                                                                                                                                                                                                                            & RUNX1\\textbar{}RUNX1\\textbar{}RUNX1\\textbar{}FOXF2\\textbar{}FOXF2\\textbar{}FOXC1\\textbar{}FOXC1\\textbar{}FOXC1\\textbar{}FOXC1\\textbar{}FOXL1\\textbar{}FOXL1\\textbar{}FOXL1\\textbar{}Foxd3\\textbar{}Foxd3\\textbar{}Foxd3\\textbar{}Foxd3\\textbar{}Foxd3\\textbar{}IRF1\\textbar{}IRF1\\textbar{}IRF1\\textbar{}IRF1\\textbar{}IRF1\\textbar{}IRF1\\textbar{}IRF1\\textbar{}SOX9\\textbar{}SOX9\\textbar{}SOX9\\textbar{}SRY\\textbar{}SRY\\textbar{}SRY\\textbar{}Sox5\\textbar{}Sox5\\textbar{}Sox5\\\\\n",
       "\t chr17                                                                                                                                                                                                                                                                                                                                                                                      & 8149210                                                                                                                                                                                                                                                                                                                                                                                    & 8149211                                                                                                                                                                                                                                                                                                                                                                                    & RUNX1\\textbar{}RUNX1\\textbar{}FOXF2\\textbar{}FOXC1\\textbar{}FOXC1\\textbar{}FOXL1\\textbar{}Foxd3\\textbar{}Foxd3\\textbar{}Foxd3\\textbar{}Foxd3\\textbar{}IRF1\\textbar{}IRF1\\textbar{}IRF1\\textbar{}IRF1\\textbar{}IRF1\\textbar{}IRF1\\textbar{}IRF1\\textbar{}SOX9\\textbar{}SOX9\\textbar{}SRY\\textbar{}Sox5                                                                 \\\\\n",
       "\t chr17                                                                                                                                                                                                                                                                                                                                                                            & 8149211                                                                                                                                                                                                                                                                                                                                                                          & 8149212                                                                                                                                                                                                                                                                                                                                                                          & RUNX1\\textbar{}RUNX1\\textbar{}FOXF2\\textbar{}FOXC1\\textbar{}FOXC1\\textbar{}FOXL1\\textbar{}Foxd3\\textbar{}Foxd3\\textbar{}Foxd3\\textbar{}Foxd3\\textbar{}IRF1\\textbar{}IRF1\\textbar{}IRF1\\textbar{}IRF1\\textbar{}IRF1\\textbar{}IRF1\\textbar{}SOX9\\textbar{}SOX9\\textbar{}SRY\\textbar{}Sox5                                                                      \\\\\n",
       "\t chr17                                                                                                                                                                                                                                                                                                                                                                                      & 8149212                                                                                                                                                                                                                                                                                                                                                                                    & 8149233                                                                                                                                                                                                                                                                                                                                                                                    & RUNX1\\textbar{}RUNX1\\textbar{}FOXF2\\textbar{}FOXC1\\textbar{}FOXC1\\textbar{}FOXL1\\textbar{}Foxd3\\textbar{}Foxd3\\textbar{}Foxd3\\textbar{}Foxd3\\textbar{}IRF1\\textbar{}IRF1\\textbar{}IRF1\\textbar{}IRF1\\textbar{}IRF1\\textbar{}Pparg::Rxra\\textbar{}SOX9\\textbar{}SRY\\textbar{}Sox5\\textbar{}YY1\\textbar{}HLTF                                                           \\\\\n",
       "\\end{tabular}\n"
      ],
      "text/markdown": [
       "\n",
       "| chrom_seg | start_seg | end_seg | TFs |\n",
       "|---|---|---|---|\n",
       "| chr17                                                                                                                                                                              | 8149196                                                                                                                                                                            | 8149199                                                                                                                                                                            | RUNX1|FOXF2|FOXC1|FOXC1|FOXL1|Foxd3|IRF1|IRF1|IRF1|IRF1|SOX9|SRY|Sox5                                                                                                              |\n",
       "| chr17                                                                                                                                                                              | 8149199                                                                                                                                                                            | 8149201                                                                                                                                                                            | RUNX1|FOXF2|FOXC1|FOXC1|FOXL1|Foxd3|Foxd3|IRF1|IRF1|IRF1|IRF1|SOX9|SRY|Sox5                                                                                                        |\n",
       "| chr17                                                                                                                                                                              | 8149201                                                                                                                                                                            | 8149210                                                                                                                                                                            | RUNX1|RUNX1|RUNX1|FOXF2|FOXF2|FOXC1|FOXC1|FOXC1|FOXC1|FOXL1|FOXL1|FOXL1|Foxd3|Foxd3|Foxd3|Foxd3|Foxd3|IRF1|IRF1|IRF1|IRF1|IRF1|IRF1|IRF1|SOX9|SOX9|SOX9|SRY|SRY|SRY|Sox5|Sox5|Sox5 |\n",
       "| chr17                                                                                                                                                                              | 8149210                                                                                                                                                                            | 8149211                                                                                                                                                                            | RUNX1|RUNX1|FOXF2|FOXC1|FOXC1|FOXL1|Foxd3|Foxd3|Foxd3|Foxd3|IRF1|IRF1|IRF1|IRF1|IRF1|IRF1|IRF1|SOX9|SOX9|SRY|Sox5                                                                  |\n",
       "| chr17                                                                                                                                                                              | 8149211                                                                                                                                                                            | 8149212                                                                                                                                                                            | RUNX1|RUNX1|FOXF2|FOXC1|FOXC1|FOXL1|Foxd3|Foxd3|Foxd3|Foxd3|IRF1|IRF1|IRF1|IRF1|IRF1|IRF1|SOX9|SOX9|SRY|Sox5                                                                       |\n",
       "| chr17                                                                                                                                                                              | 8149212                                                                                                                                                                            | 8149233                                                                                                                                                                            | RUNX1|RUNX1|FOXF2|FOXC1|FOXC1|FOXL1|Foxd3|Foxd3|Foxd3|Foxd3|IRF1|IRF1|IRF1|IRF1|IRF1|Pparg::Rxra|SOX9|SRY|Sox5|YY1|HLTF                                                            |\n",
       "\n"
      ],
      "text/plain": [
       "  chrom_seg start_seg end_seg\n",
       "1 chr17     8149196   8149199\n",
       "2 chr17     8149199   8149201\n",
       "3 chr17     8149201   8149210\n",
       "4 chr17     8149210   8149211\n",
       "5 chr17     8149211   8149212\n",
       "6 chr17     8149212   8149233\n",
       "  TFs                                                                                                                                                                               \n",
       "1 RUNX1|FOXF2|FOXC1|FOXC1|FOXL1|Foxd3|IRF1|IRF1|IRF1|IRF1|SOX9|SRY|Sox5                                                                                                             \n",
       "2 RUNX1|FOXF2|FOXC1|FOXC1|FOXL1|Foxd3|Foxd3|IRF1|IRF1|IRF1|IRF1|SOX9|SRY|Sox5                                                                                                       \n",
       "3 RUNX1|RUNX1|RUNX1|FOXF2|FOXF2|FOXC1|FOXC1|FOXC1|FOXC1|FOXL1|FOXL1|FOXL1|Foxd3|Foxd3|Foxd3|Foxd3|Foxd3|IRF1|IRF1|IRF1|IRF1|IRF1|IRF1|IRF1|SOX9|SOX9|SOX9|SRY|SRY|SRY|Sox5|Sox5|Sox5\n",
       "4 RUNX1|RUNX1|FOXF2|FOXC1|FOXC1|FOXL1|Foxd3|Foxd3|Foxd3|Foxd3|IRF1|IRF1|IRF1|IRF1|IRF1|IRF1|IRF1|SOX9|SOX9|SRY|Sox5                                                                 \n",
       "5 RUNX1|RUNX1|FOXF2|FOXC1|FOXC1|FOXL1|Foxd3|Foxd3|Foxd3|Foxd3|IRF1|IRF1|IRF1|IRF1|IRF1|IRF1|SOX9|SOX9|SRY|Sox5                                                                      \n",
       "6 RUNX1|RUNX1|FOXF2|FOXC1|FOXC1|FOXL1|Foxd3|Foxd3|Foxd3|Foxd3|IRF1|IRF1|IRF1|IRF1|IRF1|Pparg::Rxra|SOX9|SRY|Sox5|YY1|HLTF                                                           "
      ]
     },
     "metadata": {},
     "output_type": "display_data"
    }
   ],
   "source": [
    "head(dat)"
   ]
  },
  {
   "cell_type": "code",
   "execution_count": 11,
   "metadata": {},
   "outputs": [
    {
     "data": {
      "text/html": [
       "<ol class=list-inline>\n",
       "\t<li>3251</li>\n",
       "\t<li>4</li>\n",
       "</ol>\n"
      ],
      "text/latex": [
       "\\begin{enumerate*}\n",
       "\\item 3251\n",
       "\\item 4\n",
       "\\end{enumerate*}\n"
      ],
      "text/markdown": [
       "1. 3251\n",
       "2. 4\n",
       "\n",
       "\n"
      ],
      "text/plain": [
       "[1] 3251    4"
      ]
     },
     "metadata": {},
     "output_type": "display_data"
    }
   ],
   "source": [
    "dat = bind_rows(lst)\n",
    "dat = dat %>% \n",
    "    dplyr::select(chrom_seg, start_seg, end_seg, TF) %>%\n",
    "    distinct %>%\n",
    "    dplyr::group_by(chrom_seg, start_seg, end_seg)  %>% \n",
    "    dplyr::mutate(TFs = paste0(TF, collapse = \"|\")) %>% \n",
    "    dplyr::select(chrom_seg, start_seg, end_seg, TFs) %>%\n",
    "    distinct\n",
    "dim(dat)"
   ]
  },
  {
   "cell_type": "code",
   "execution_count": 12,
   "metadata": {},
   "outputs": [
    {
     "data": {
      "text/html": [
       "<table>\n",
       "<thead><tr><th scope=col>chrom_seg</th><th scope=col>start_seg</th><th scope=col>end_seg</th><th scope=col>TFs</th></tr></thead>\n",
       "<tbody>\n",
       "\t<tr><td>chr17                                                                          </td><td>8149196                                                                        </td><td>8149199                                                                        </td><td>RUNX1|FOXF2|FOXC1|FOXL1|Foxd3|IRF1|SOX9|SRY|Sox5                               </td></tr>\n",
       "\t<tr><td>chr17                                                                          </td><td>8149199                                                                        </td><td>8149201                                                                        </td><td>RUNX1|FOXF2|FOXC1|FOXL1|Foxd3|IRF1|SOX9|SRY|Sox5                               </td></tr>\n",
       "\t<tr><td>chr17                                                                          </td><td>8149201                                                                        </td><td>8149210                                                                        </td><td>RUNX1|FOXF2|FOXC1|FOXL1|Foxd3|IRF1|SOX9|SRY|Sox5                               </td></tr>\n",
       "\t<tr><td>chr17                                                                          </td><td>8149210                                                                        </td><td>8149211                                                                        </td><td>RUNX1|FOXF2|FOXC1|FOXL1|Foxd3|IRF1|SOX9|SRY|Sox5                               </td></tr>\n",
       "\t<tr><td>chr17                                                                          </td><td>8149211                                                                        </td><td>8149212                                                                        </td><td>RUNX1|FOXF2|FOXC1|FOXL1|Foxd3|IRF1|SOX9|SRY|Sox5                               </td></tr>\n",
       "\t<tr><td>chr17                                                                          </td><td>8149212                                                                        </td><td>8149233                                                                        </td><td>RUNX1|FOXF2|FOXC1|FOXL1|Foxd3|IRF1|Pparg::Rxra|SOX9|SRY|Sox5|YY1|HLTF          </td></tr>\n",
       "\t<tr><td>chr17                                                                          </td><td>8149261                                                                        </td><td>8149329                                                                        </td><td>RUNX1|TFAP2A|GATA3|Pax2|Hand1::Tcf3|ETS1|REL|ZEB1|RELA|HLTF|HNF4A|ZNF354C      </td></tr>\n",
       "\t<tr><td>chr17                                                                          </td><td>8149330                                                                        </td><td>8149348                                                                        </td><td>RUNX1|ELK1|NHLH1|MZF1(var.2)|GABPA|Pparg::Rxra|Pax2|ELK4|ETS1|Spz1|ZNF354C|ELF5</td></tr>\n",
       "\t<tr><td>chr17                                                                          </td><td>8149434                                                                        </td><td>8149445                                                                        </td><td>RUNX1|PAX5|MZF1|Pax2|ZNF354C                                                   </td></tr>\n",
       "\t<tr><td>chr17                                                                          </td><td>8149445                                                                        </td><td>8149463                                                                        </td><td>RUNX1|Arnt|Ahr::Arnt|E2F1|NHLH1|MAX|MYB|ZEB1|Mafb                              </td></tr>\n",
       "\t<tr><td>chr17                                                                          </td><td>8149632                                                                        </td><td>8149650                                                                        </td><td>RUNX1|NFYA|GABPA|Pax2|ELK4|ETS1|MYB|Nkx3-1|ZNF354C|ELF5                        </td></tr>\n",
       "\t<tr><td>chr17                                                                          </td><td>8149650                                                                        </td><td>8149651                                                                        </td><td>RUNX1|NFYA|Pax2|MYB|Nkx3-1|ZNF354C                                             </td></tr>\n",
       "\t<tr><td>chr17                                                                          </td><td>8149651                                                                        </td><td>8149675                                                                        </td><td>RUNX1|GATA3|MZF1(var.2)|NFYA|Pax2|ETS1|MYB|ZEB1|HLTF|Spz1|Nkx3-1|ZNF354C|STAT1 </td></tr>\n",
       "\t<tr><td>chr17                                                                          </td><td>8149687                                                                        </td><td>8149716                                                                        </td><td>RUNX1|MZF1(var.2)|HLTF|Spz1                                                    </td></tr>\n",
       "\t<tr><td>chr17                                                                          </td><td>8150117                                                                        </td><td>8150136                                                                        </td><td>RUNX1|TFAP2A|Ahr::Arnt|FOXD1|FOXL1|FOXA2|NHLH1|Pax2|SRY|ZNF354C                </td></tr>\n",
       "\t<tr><td>chr17                                                                          </td><td>8150136                                                                        </td><td>8150137                                                                        </td><td>RUNX1|TFAP2A|ZNF354C|ELF5                                                      </td></tr>\n",
       "\t<tr><td>chr17                                                                          </td><td>8150137                                                                        </td><td>8150138                                                                        </td><td>RUNX1|TFAP2A|ZNF354C|ELF5                                                      </td></tr>\n",
       "\t<tr><td>chr17                                                                          </td><td>8150138                                                                        </td><td>8150139                                                                        </td><td>RUNX1|TFAP2A|ELF5                                                              </td></tr>\n",
       "\t<tr><td>chr17                                                                          </td><td>8150139                                                                        </td><td>8150140                                                                        </td><td>RUNX1|TFAP2A|ELF5                                                              </td></tr>\n",
       "\t<tr><td>chr17                                                                          </td><td>8150140                                                                        </td><td>8150141                                                                        </td><td>RUNX1|TFAP2A|ELF5                                                              </td></tr>\n",
       "</tbody>\n",
       "</table>\n"
      ],
      "text/latex": [
       "\\begin{tabular}{r|llll}\n",
       " chrom\\_seg & start\\_seg & end\\_seg & TFs\\\\\n",
       "\\hline\n",
       "\t chr17                                                                                                                                                           & 8149196                                                                                                                                                         & 8149199                                                                                                                                                         & RUNX1\\textbar{}FOXF2\\textbar{}FOXC1\\textbar{}FOXL1\\textbar{}Foxd3\\textbar{}IRF1\\textbar{}SOX9\\textbar{}SRY\\textbar{}Sox5                               \\\\\n",
       "\t chr17                                                                                                                                                           & 8149199                                                                                                                                                         & 8149201                                                                                                                                                         & RUNX1\\textbar{}FOXF2\\textbar{}FOXC1\\textbar{}FOXL1\\textbar{}Foxd3\\textbar{}IRF1\\textbar{}SOX9\\textbar{}SRY\\textbar{}Sox5                               \\\\\n",
       "\t chr17                                                                                                                                                           & 8149201                                                                                                                                                         & 8149210                                                                                                                                                         & RUNX1\\textbar{}FOXF2\\textbar{}FOXC1\\textbar{}FOXL1\\textbar{}Foxd3\\textbar{}IRF1\\textbar{}SOX9\\textbar{}SRY\\textbar{}Sox5                               \\\\\n",
       "\t chr17                                                                                                                                                           & 8149210                                                                                                                                                         & 8149211                                                                                                                                                         & RUNX1\\textbar{}FOXF2\\textbar{}FOXC1\\textbar{}FOXL1\\textbar{}Foxd3\\textbar{}IRF1\\textbar{}SOX9\\textbar{}SRY\\textbar{}Sox5                               \\\\\n",
       "\t chr17                                                                                                                                                           & 8149211                                                                                                                                                         & 8149212                                                                                                                                                         & RUNX1\\textbar{}FOXF2\\textbar{}FOXC1\\textbar{}FOXL1\\textbar{}Foxd3\\textbar{}IRF1\\textbar{}SOX9\\textbar{}SRY\\textbar{}Sox5                               \\\\\n",
       "\t chr17                                                                                                                                                                                         & 8149212                                                                                                                                                                                       & 8149233                                                                                                                                                                                       & RUNX1\\textbar{}FOXF2\\textbar{}FOXC1\\textbar{}FOXL1\\textbar{}Foxd3\\textbar{}IRF1\\textbar{}Pparg::Rxra\\textbar{}SOX9\\textbar{}SRY\\textbar{}Sox5\\textbar{}YY1\\textbar{}HLTF          \\\\\n",
       "\t chr17                                                                                                                                                                                         & 8149261                                                                                                                                                                                       & 8149329                                                                                                                                                                                       & RUNX1\\textbar{}TFAP2A\\textbar{}GATA3\\textbar{}Pax2\\textbar{}Hand1::Tcf3\\textbar{}ETS1\\textbar{}REL\\textbar{}ZEB1\\textbar{}RELA\\textbar{}HLTF\\textbar{}HNF4A\\textbar{}ZNF354C      \\\\\n",
       "\t chr17                                                                                                                                                                                         & 8149330                                                                                                                                                                                       & 8149348                                                                                                                                                                                       & RUNX1\\textbar{}ELK1\\textbar{}NHLH1\\textbar{}MZF1(var.2)\\textbar{}GABPA\\textbar{}Pparg::Rxra\\textbar{}Pax2\\textbar{}ELK4\\textbar{}ETS1\\textbar{}Spz1\\textbar{}ZNF354C\\textbar{}ELF5\\\\\n",
       "\t chr17                                                                                                                   & 8149434                                                                                                                 & 8149445                                                                                                                 & RUNX1\\textbar{}PAX5\\textbar{}MZF1\\textbar{}Pax2\\textbar{}ZNF354C                                                   \\\\\n",
       "\t chr17                                                                                                                                                           & 8149445                                                                                                                                                         & 8149463                                                                                                                                                         & RUNX1\\textbar{}Arnt\\textbar{}Ahr::Arnt\\textbar{}E2F1\\textbar{}NHLH1\\textbar{}MAX\\textbar{}MYB\\textbar{}ZEB1\\textbar{}Mafb                              \\\\\n",
       "\t chr17                                                                                                                                                                     & 8149632                                                                                                                                                                   & 8149650                                                                                                                                                                   & RUNX1\\textbar{}NFYA\\textbar{}GABPA\\textbar{}Pax2\\textbar{}ELK4\\textbar{}ETS1\\textbar{}MYB\\textbar{}Nkx3-1\\textbar{}ZNF354C\\textbar{}ELF5                        \\\\\n",
       "\t chr17                                                                                                                             & 8149650                                                                                                                           & 8149651                                                                                                                           & RUNX1\\textbar{}NFYA\\textbar{}Pax2\\textbar{}MYB\\textbar{}Nkx3-1\\textbar{}ZNF354C                                             \\\\\n",
       "\t chr17                                                                                                                                                                                                   & 8149651                                                                                                                                                                                                 & 8149675                                                                                                                                                                                                 & RUNX1\\textbar{}GATA3\\textbar{}MZF1(var.2)\\textbar{}NFYA\\textbar{}Pax2\\textbar{}ETS1\\textbar{}MYB\\textbar{}ZEB1\\textbar{}HLTF\\textbar{}Spz1\\textbar{}Nkx3-1\\textbar{}ZNF354C\\textbar{}STAT1 \\\\\n",
       "\t chr17                                                                                                         & 8149687                                                                                                       & 8149716                                                                                                       & RUNX1\\textbar{}MZF1(var.2)\\textbar{}HLTF\\textbar{}Spz1                                                    \\\\\n",
       "\t chr17                                                                                                                                                                     & 8150117                                                                                                                                                                   & 8150136                                                                                                                                                                   & RUNX1\\textbar{}TFAP2A\\textbar{}Ahr::Arnt\\textbar{}FOXD1\\textbar{}FOXL1\\textbar{}FOXA2\\textbar{}NHLH1\\textbar{}Pax2\\textbar{}SRY\\textbar{}ZNF354C                \\\\\n",
       "\t chr17                                                                                                         & 8150136                                                                                                       & 8150137                                                                                                       & RUNX1\\textbar{}TFAP2A\\textbar{}ZNF354C\\textbar{}ELF5                                                      \\\\\n",
       "\t chr17                                                                                                         & 8150137                                                                                                       & 8150138                                                                                                       & RUNX1\\textbar{}TFAP2A\\textbar{}ZNF354C\\textbar{}ELF5                                                      \\\\\n",
       "\t chr17                                                                                               & 8150138                                                                                             & 8150139                                                                                             & RUNX1\\textbar{}TFAP2A\\textbar{}ELF5                                                              \\\\\n",
       "\t chr17                                                                                               & 8150139                                                                                             & 8150140                                                                                             & RUNX1\\textbar{}TFAP2A\\textbar{}ELF5                                                              \\\\\n",
       "\t chr17                                                                                               & 8150140                                                                                             & 8150141                                                                                             & RUNX1\\textbar{}TFAP2A\\textbar{}ELF5                                                              \\\\\n",
       "\\end{tabular}\n"
      ],
      "text/markdown": [
       "\n",
       "| chrom_seg | start_seg | end_seg | TFs |\n",
       "|---|---|---|---|\n",
       "| chr17                                                                           | 8149196                                                                         | 8149199                                                                         | RUNX1|FOXF2|FOXC1|FOXL1|Foxd3|IRF1|SOX9|SRY|Sox5                                |\n",
       "| chr17                                                                           | 8149199                                                                         | 8149201                                                                         | RUNX1|FOXF2|FOXC1|FOXL1|Foxd3|IRF1|SOX9|SRY|Sox5                                |\n",
       "| chr17                                                                           | 8149201                                                                         | 8149210                                                                         | RUNX1|FOXF2|FOXC1|FOXL1|Foxd3|IRF1|SOX9|SRY|Sox5                                |\n",
       "| chr17                                                                           | 8149210                                                                         | 8149211                                                                         | RUNX1|FOXF2|FOXC1|FOXL1|Foxd3|IRF1|SOX9|SRY|Sox5                                |\n",
       "| chr17                                                                           | 8149211                                                                         | 8149212                                                                         | RUNX1|FOXF2|FOXC1|FOXL1|Foxd3|IRF1|SOX9|SRY|Sox5                                |\n",
       "| chr17                                                                           | 8149212                                                                         | 8149233                                                                         | RUNX1|FOXF2|FOXC1|FOXL1|Foxd3|IRF1|Pparg::Rxra|SOX9|SRY|Sox5|YY1|HLTF           |\n",
       "| chr17                                                                           | 8149261                                                                         | 8149329                                                                         | RUNX1|TFAP2A|GATA3|Pax2|Hand1::Tcf3|ETS1|REL|ZEB1|RELA|HLTF|HNF4A|ZNF354C       |\n",
       "| chr17                                                                           | 8149330                                                                         | 8149348                                                                         | RUNX1|ELK1|NHLH1|MZF1(var.2)|GABPA|Pparg::Rxra|Pax2|ELK4|ETS1|Spz1|ZNF354C|ELF5 |\n",
       "| chr17                                                                           | 8149434                                                                         | 8149445                                                                         | RUNX1|PAX5|MZF1|Pax2|ZNF354C                                                    |\n",
       "| chr17                                                                           | 8149445                                                                         | 8149463                                                                         | RUNX1|Arnt|Ahr::Arnt|E2F1|NHLH1|MAX|MYB|ZEB1|Mafb                               |\n",
       "| chr17                                                                           | 8149632                                                                         | 8149650                                                                         | RUNX1|NFYA|GABPA|Pax2|ELK4|ETS1|MYB|Nkx3-1|ZNF354C|ELF5                         |\n",
       "| chr17                                                                           | 8149650                                                                         | 8149651                                                                         | RUNX1|NFYA|Pax2|MYB|Nkx3-1|ZNF354C                                              |\n",
       "| chr17                                                                           | 8149651                                                                         | 8149675                                                                         | RUNX1|GATA3|MZF1(var.2)|NFYA|Pax2|ETS1|MYB|ZEB1|HLTF|Spz1|Nkx3-1|ZNF354C|STAT1  |\n",
       "| chr17                                                                           | 8149687                                                                         | 8149716                                                                         | RUNX1|MZF1(var.2)|HLTF|Spz1                                                     |\n",
       "| chr17                                                                           | 8150117                                                                         | 8150136                                                                         | RUNX1|TFAP2A|Ahr::Arnt|FOXD1|FOXL1|FOXA2|NHLH1|Pax2|SRY|ZNF354C                 |\n",
       "| chr17                                                                           | 8150136                                                                         | 8150137                                                                         | RUNX1|TFAP2A|ZNF354C|ELF5                                                       |\n",
       "| chr17                                                                           | 8150137                                                                         | 8150138                                                                         | RUNX1|TFAP2A|ZNF354C|ELF5                                                       |\n",
       "| chr17                                                                           | 8150138                                                                         | 8150139                                                                         | RUNX1|TFAP2A|ELF5                                                               |\n",
       "| chr17                                                                           | 8150139                                                                         | 8150140                                                                         | RUNX1|TFAP2A|ELF5                                                               |\n",
       "| chr17                                                                           | 8150140                                                                         | 8150141                                                                         | RUNX1|TFAP2A|ELF5                                                               |\n",
       "\n"
      ],
      "text/plain": [
       "   chrom_seg start_seg end_seg\n",
       "1  chr17     8149196   8149199\n",
       "2  chr17     8149199   8149201\n",
       "3  chr17     8149201   8149210\n",
       "4  chr17     8149210   8149211\n",
       "5  chr17     8149211   8149212\n",
       "6  chr17     8149212   8149233\n",
       "7  chr17     8149261   8149329\n",
       "8  chr17     8149330   8149348\n",
       "9  chr17     8149434   8149445\n",
       "10 chr17     8149445   8149463\n",
       "11 chr17     8149632   8149650\n",
       "12 chr17     8149650   8149651\n",
       "13 chr17     8149651   8149675\n",
       "14 chr17     8149687   8149716\n",
       "15 chr17     8150117   8150136\n",
       "16 chr17     8150136   8150137\n",
       "17 chr17     8150137   8150138\n",
       "18 chr17     8150138   8150139\n",
       "19 chr17     8150139   8150140\n",
       "20 chr17     8150140   8150141\n",
       "   TFs                                                                            \n",
       "1  RUNX1|FOXF2|FOXC1|FOXL1|Foxd3|IRF1|SOX9|SRY|Sox5                               \n",
       "2  RUNX1|FOXF2|FOXC1|FOXL1|Foxd3|IRF1|SOX9|SRY|Sox5                               \n",
       "3  RUNX1|FOXF2|FOXC1|FOXL1|Foxd3|IRF1|SOX9|SRY|Sox5                               \n",
       "4  RUNX1|FOXF2|FOXC1|FOXL1|Foxd3|IRF1|SOX9|SRY|Sox5                               \n",
       "5  RUNX1|FOXF2|FOXC1|FOXL1|Foxd3|IRF1|SOX9|SRY|Sox5                               \n",
       "6  RUNX1|FOXF2|FOXC1|FOXL1|Foxd3|IRF1|Pparg::Rxra|SOX9|SRY|Sox5|YY1|HLTF          \n",
       "7  RUNX1|TFAP2A|GATA3|Pax2|Hand1::Tcf3|ETS1|REL|ZEB1|RELA|HLTF|HNF4A|ZNF354C      \n",
       "8  RUNX1|ELK1|NHLH1|MZF1(var.2)|GABPA|Pparg::Rxra|Pax2|ELK4|ETS1|Spz1|ZNF354C|ELF5\n",
       "9  RUNX1|PAX5|MZF1|Pax2|ZNF354C                                                   \n",
       "10 RUNX1|Arnt|Ahr::Arnt|E2F1|NHLH1|MAX|MYB|ZEB1|Mafb                              \n",
       "11 RUNX1|NFYA|GABPA|Pax2|ELK4|ETS1|MYB|Nkx3-1|ZNF354C|ELF5                        \n",
       "12 RUNX1|NFYA|Pax2|MYB|Nkx3-1|ZNF354C                                             \n",
       "13 RUNX1|GATA3|MZF1(var.2)|NFYA|Pax2|ETS1|MYB|ZEB1|HLTF|Spz1|Nkx3-1|ZNF354C|STAT1 \n",
       "14 RUNX1|MZF1(var.2)|HLTF|Spz1                                                    \n",
       "15 RUNX1|TFAP2A|Ahr::Arnt|FOXD1|FOXL1|FOXA2|NHLH1|Pax2|SRY|ZNF354C                \n",
       "16 RUNX1|TFAP2A|ZNF354C|ELF5                                                      \n",
       "17 RUNX1|TFAP2A|ZNF354C|ELF5                                                      \n",
       "18 RUNX1|TFAP2A|ELF5                                                              \n",
       "19 RUNX1|TFAP2A|ELF5                                                              \n",
       "20 RUNX1|TFAP2A|ELF5                                                              "
      ]
     },
     "metadata": {},
     "output_type": "display_data"
    }
   ],
   "source": [
    "head(dat, 20)"
   ]
  },
  {
   "cell_type": "code",
   "execution_count": null,
   "metadata": {},
   "outputs": [],
   "source": []
  }
 ],
 "metadata": {
  "kernelspec": {
   "display_name": "R (alex_py3)",
   "language": "R",
   "name": "ir_alex_py3"
  },
  "language_info": {
   "codemirror_mode": "r",
   "file_extension": ".r",
   "mimetype": "text/x-r-source",
   "name": "R",
   "pygments_lexer": "r",
   "version": "3.6.2"
  }
 },
 "nbformat": 4,
 "nbformat_minor": 4
}
