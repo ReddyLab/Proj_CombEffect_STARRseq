{
 "cells": [
  {
   "cell_type": "markdown",
   "id": "96db116d-d904-4e7a-8158-75c6904ee0f4",
   "metadata": {},
   "source": [
    "```\n",
    "$ ls /data/reddylab/gjohnson/reference_data\n",
    "Anshul_Hg19UltraHighSignalArtifactRegions.bed\n",
    "Duke_Hg19SignalRepeatArtifactRegions.bed\n",
    "generate_hg19_filter_out_bed.sh\n",
    "generate_hg38_filter_out_bed.sh\n",
    "generate_masked_ranges.py\n",
    "GRCh38_EBV.chrom.sizes.tsv\n",
    "hg19.1.bt2\n",
    "hg19.2.bt2\n",
    "hg19.3.bt2\n",
    "hg19.4.bt2\n",
    "hg19_chrom_sizes.txt\n",
    "hg19_filter_out.bed\n",
    "hg19_gaps.bed\n",
    "hg19.genome.bed\n",
    "hg19_genome_file_chr_notation.txt\n",
    "hg19_genome_file.txt\n",
    "hg19.rev.1.bt2\n",
    "hg19.rev.2.bt2\n",
    "hg38.1.bt2\n",
    "hg38.2.bt2\n",
    "hg38.3.bt2\n",
    "hg38.4.bt2\n",
    "hg38_all.genome.file\n",
    "hg38_and_extra_contigs.genome.file\n",
    "hg38_blacklist.bed\n",
    "hg38_centromeres.bed\n",
    "hg38_filter_out.bed\n",
    "hg38_gap.bed\n",
    "hg38.genome_autosomes.bed\n",
    "hg38.genome.bed\n",
    "hg38.genome.file\n",
    "hg38.rev.1.bt2\n",
    "hg38.rev.2.bt2\n",
    "human_g1k_v37.fasta\n",
    "human_g1k_v37.fasta.fai\n",
    "make_hg38_filter_out.interactive\n",
    "trimmomatic_48index.fa\n",
    "trimmomatic_MHPS.fa\n",
    "trimmomatic_UMI.fa\n",
    "wgEncodeHg19ConsensusSignalArtifactRegions.bed\n",
    "\n",
    "```"
   ]
  },
  {
   "cell_type": "markdown",
   "id": "fabd284f-9119-4875-a28e-35bc203747ba",
   "metadata": {},
   "source": [
    "```\n",
    "%%bash\n",
    "$ wc -l /data/reddylab/gjohnson/reference_data/hg38.genome.file\n",
    "$ cat   /data/reddylab/gjohnson/reference_data/hg38.genome.file\n",
    "24 /data/reddylab/gjohnson/reference_data/hg38.genome.file\n",
    "chr1\t248956422\n",
    "chr10\t133797422\n",
    "chr11\t135086622\n",
    "chr12\t133275309\n",
    "chr13\t114364328\n",
    "chr14\t107043718\n",
    "chr15\t101991189\n",
    "chr16\t90338345\n",
    "chr17\t83257441\n",
    "chr18\t80373285\n",
    "chr19\t58617616\n",
    "chr2\t242193529\n",
    "chr20\t64444167\n",
    "chr21\t46709983\n",
    "chr22\t50818468\n",
    "chr3\t198295559\n",
    "chr4\t190214555\n",
    "chr5\t181538259\n",
    "chr6\t170805979\n",
    "chr7\t159345973\n",
    "chr8\t145138636\n",
    "chr9\t138394717\n",
    "chrX\t156040895\n",
    "chrY\t57227415\n",
    "```"
   ]
  },
  {
   "cell_type": "code",
   "execution_count": 5,
   "id": "124a36ee-1815-4de5-88ae-0286b3b87e07",
   "metadata": {},
   "outputs": [],
   "source": [
    "TAB=\"$(printf '\\t')\"\n",
    "\n",
    "cat > /work/kk319/reference/hg38.genome.file << EOF\n",
    "chr1${TAB}248956422\n",
    "chr10${TAB}133797422\n",
    "chr11${TAB}135086622\n",
    "chr12${TAB}133275309\n",
    "chr13${TAB}114364328\n",
    "chr14${TAB}107043718\n",
    "chr15${TAB}101991189\n",
    "chr16${TAB}90338345\n",
    "chr17${TAB}83257441\n",
    "chr18${TAB}80373285\n",
    "chr19${TAB}58617616\n",
    "chr2${TAB}242193529\n",
    "chr20${TAB}64444167\n",
    "chr21${TAB}46709983\n",
    "chr22${TAB}50818468\n",
    "chr3${TAB}198295559\n",
    "chr4${TAB}190214555\n",
    "chr5${TAB}181538259\n",
    "chr6${TAB}170805979\n",
    "chr7${TAB}159345973\n",
    "chr8${TAB}145138636\n",
    "chr9${TAB}138394717\n",
    "chrX${TAB}156040895\n",
    "chrY${TAB}57227415\n",
    "EOF"
   ]
  },
  {
   "cell_type": "code",
   "execution_count": 6,
   "id": "b43059dc-d3ab-4761-9345-f79a283bd024",
   "metadata": {},
   "outputs": [
    {
     "name": "stdout",
     "output_type": "stream",
     "text": [
      "24 /work/kk319/reference/hg38.genome.file\n",
      "chr1\t248956422\n",
      "chr10\t133797422\n",
      "chr11\t135086622\n",
      "chr12\t133275309\n",
      "chr13\t114364328\n",
      "chr14\t107043718\n",
      "chr15\t101991189\n",
      "chr16\t90338345\n",
      "chr17\t83257441\n",
      "chr18\t80373285\n",
      "chr19\t58617616\n",
      "chr2\t242193529\n",
      "chr20\t64444167\n",
      "chr21\t46709983\n",
      "chr22\t50818468\n",
      "chr3\t198295559\n",
      "chr4\t190214555\n",
      "chr5\t181538259\n",
      "chr6\t170805979\n",
      "chr7\t159345973\n",
      "chr8\t145138636\n",
      "chr9\t138394717\n",
      "chrX\t156040895\n",
      "chrY\t57227415\n"
     ]
    }
   ],
   "source": [
    "wc -l /work/kk319/reference/hg38.genome.file\n",
    "cat   /work/kk319/reference/hg38.genome.file"
   ]
  },
  {
   "cell_type": "code",
   "execution_count": null,
   "id": "44375f84-6c97-4a3f-b9ed-2be2ae141f07",
   "metadata": {},
   "outputs": [],
   "source": [
    "URL=ftp://hgdownload.cse.ucsc.edu/goldenPath/hg38/bigZips/hg38.chrom.sizes\n",
    "FD_ANN=/work/kk319/annotation/genome\n",
    "wget ${URL} -P ${FD_ANN}"
   ]
  },
  {
   "cell_type": "code",
   "execution_count": 1,
   "id": "65c3d1dd-26cb-41e4-a98d-2faeafcd72da",
   "metadata": {},
   "outputs": [
    {
     "name": "stdout",
     "output_type": "stream",
     "text": [
      "--2021-06-17 11:59:40--  http://hgdownload.soe.ucsc.edu/goldenPath/hg38/bigZips/hg38.fa.gz\n",
      "Resolving hgdownload.soe.ucsc.edu (hgdownload.soe.ucsc.edu)... 128.114.119.163\n",
      "Connecting to hgdownload.soe.ucsc.edu (hgdownload.soe.ucsc.edu)|128.114.119.163|:80... connected.\n",
      "HTTP request sent, awaiting response... 200 OK\n",
      "Length: 983659424 (938M) [application/x-gzip]\n",
      "Saving to: ‘/work/kk319/annotation/genome/hg38.fa.gz’\n",
      "\n",
      "hg38.fa.gz          100%[===================>] 938.09M  21.7MB/s    in 41s     \n",
      "\n",
      "2021-06-17 12:00:21 (22.9 MB/s) - ‘/work/kk319/annotation/genome/hg38.fa.gz’ saved [983659424/983659424]\n",
      "\n"
     ]
    }
   ],
   "source": [
    "URL=http://hgdownload.soe.ucsc.edu/goldenPath/hg38/bigZips/hg38.fa.gz\n",
    "FD_ANN=/work/kk319/annotation/genome\n",
    "wget ${URL} -P ${FD_ANN}"
   ]
  },
  {
   "cell_type": "markdown",
   "id": "1c381b91-c310-437e-9b4f-724f0e7f3c1c",
   "metadata": {},
   "source": [
    "https://crashcourse.housegordon.org/split-fasta-files.html"
   ]
  },
  {
   "cell_type": "code",
   "execution_count": 9,
   "id": "12e8eee8-3a41-477d-8c9a-dd7b4f3cdc7c",
   "metadata": {},
   "outputs": [],
   "source": [
    "FD_ANN=/work/kk319/annotation/genome\n",
    "gunzip ${FD_ANN}/hg38.fa.gz"
   ]
  },
  {
   "cell_type": "code",
   "execution_count": 11,
   "id": "51778400-4fea-4254-9d83-6a6aaff7a260",
   "metadata": {},
   "outputs": [],
   "source": [
    "cd $FD_ANN\n",
    "mkdir hg38_fasta\n",
    "cd hg38_fasta\n",
    "\n",
    "csplit -s -z ${FD_ANN}/hg38.fa '/>/' '{*}'"
   ]
  },
  {
   "cell_type": "code",
   "execution_count": 13,
   "id": "db5ef2c8-dcb6-4966-8f8a-d8942b69ef85",
   "metadata": {},
   "outputs": [
    {
     "name": "stdout",
     "output_type": "stream",
     "text": [
      "/work/kk319/annotation/genome/hg38_fasta\n"
     ]
    }
   ],
   "source": [
    "pwd"
   ]
  },
  {
   "cell_type": "code",
   "execution_count": 14,
   "id": "0085b93c-3731-4cb7-b723-13b4638c1831",
   "metadata": {},
   "outputs": [
    {
     "name": "stdout",
     "output_type": "stream",
     "text": [
      "xx00\n",
      "xx01\n",
      "xx02\n",
      "xx03\n",
      "xx04\n",
      "xx05\n",
      "xx06\n",
      "xx07\n",
      "xx08\n",
      "xx09\n"
     ]
    }
   ],
   "source": [
    "ls -1 | head"
   ]
  },
  {
   "cell_type": "code",
   "execution_count": 15,
   "id": "00509539-07e8-47e1-b111-ea3ad450e046",
   "metadata": {},
   "outputs": [],
   "source": [
    "for i in xx* ; do \\\n",
    "  n=$(sed 's/>// ; s/ .*// ; 1q' \"$i\") ; \\\n",
    "  mv \"$i\" \"$n.fa\" ; \\\n",
    " done"
   ]
  },
  {
   "cell_type": "code",
   "execution_count": 3,
   "id": "8bd2e96b-0607-45ce-b460-be1bab780245",
   "metadata": {},
   "outputs": [
    {
     "name": "stdout",
     "output_type": "stream",
     "text": [
      ">chr1\n",
      "NNNNNNNNNNNNNNNNNNNNNNNNNNNNNNNNNNNNNNNNNNNNNNNNNN\n",
      "NNNNNNNNNNNNNNNNNNNNNNNNNNNNNNNNNNNNNNNNNNNNNNNNNN\n",
      "NNNNNNNNNNNNNNNNNNNNNNNNNNNNNNNNNNNNNNNNNNNNNNNNNN\n",
      "NNNNNNNNNNNNNNNNNNNNNNNNNNNNNNNNNNNNNNNNNNNNNNNNNN\n",
      "NNNNNNNNNNNNNNNNNNNNNNNNNNNNNNNNNNNNNNNNNNNNNNNNNN\n",
      "NNNNNNNNNNNNNNNNNNNNNNNNNNNNNNNNNNNNNNNNNNNNNNNNNN\n",
      "NNNNNNNNNNNNNNNNNNNNNNNNNNNNNNNNNNNNNNNNNNNNNNNNNN\n",
      "NNNNNNNNNNNNNNNNNNNNNNNNNNNNNNNNNNNNNNNNNNNNNNNNNN\n",
      "NNNNNNNNNNNNNNNNNNNNNNNNNNNNNNNNNNNNNNNNNNNNNNNNNN\n",
      "\n",
      "gzip: stdout: Broken pipe\n"
     ]
    }
   ],
   "source": [
    "zcat ${FD_ANN}/hg38.fa.gz | head"
   ]
  },
  {
   "cell_type": "code",
   "execution_count": 4,
   "id": "8e6b31de-2a00-4493-9690-4dfba905d2fa",
   "metadata": {},
   "outputs": [],
   "source": [
    "cat > ${FD_ANN}/test.fa << EOF\n",
    ">chrTest1\n",
    "XXXXXXXXXXXXXXXXXXXXXXXXXXXXXXXXXXXXXXXXXXXXXXXXXX\n",
    "NNNNNNNNNNNNNNNNNNNNNNNNNNNNNNNNNNNNNNNNNNNNNNNNNN\n",
    "NNNNNNNNNNNNNNNNNNNNNNNNNNNNNNNNNNNNNNNNNNNNNNNNNN\n",
    "\n",
    ">chrTest2\n",
    "NNNNNNNNNNNNNNNNNNNNNNNNNNNNNNNNNNNNNNNNNNNNNNNNNN\n",
    "XXXXXXXXXXXXXXXXXXXXXXXXXXXXXXXXXXXXXXXXXXXXXXXXXX\n",
    "NNNNNNNNNNNNNNNNNNNNNNNNNNNNNNNNNNNNNNNNNNNNNNNNNN\n",
    "EOF"
   ]
  },
  {
   "cell_type": "code",
   "execution_count": 5,
   "id": "a11c4972-1a69-47ae-9545-33be68e9d6f0",
   "metadata": {},
   "outputs": [
    {
     "name": "stdout",
     "output_type": "stream",
     "text": [
      ">chrTest1\n",
      "XXXXXXXXXXXXXXXXXXXXXXXXXXXXXXXXXXXXXXXXXXXXXXXXXX\n",
      "NNNNNNNNNNNNNNNNNNNNNNNNNNNNNNNNNNNNNNNNNNNNNNNNNN\n",
      "NNNNNNNNNNNNNNNNNNNNNNNNNNNNNNNNNNNNNNNNNNNNNNNNNN\n",
      "\n",
      ">chrTest2\n",
      "NNNNNNNNNNNNNNNNNNNNNNNNNNNNNNNNNNNNNNNNNNNNNNNNNN\n",
      "XXXXXXXXXXXXXXXXXXXXXXXXXXXXXXXXXXXXXXXXXXXXXXXXXX\n",
      "NNNNNNNNNNNNNNNNNNNNNNNNNNNNNNNNNNNNNNNNNNNNNNNNNN\n"
     ]
    }
   ],
   "source": [
    "cat ${FD_ANN}/test.fa"
   ]
  },
  {
   "cell_type": "code",
   "execution_count": 8,
   "id": "bf80d7b2-ad24-4849-845a-938e7120c945",
   "metadata": {},
   "outputs": [
    {
     "name": "stdout",
     "output_type": "stream",
     "text": [
      "ERROR: Unable to locate a modulefile for 'UCSC'\u001b[m\n",
      "\u001b[K\u001b[?1l\u001b>"
     ]
    },
    {
     "ename": "",
     "evalue": "1",
     "output_type": "error",
     "traceback": []
    }
   ],
   "source": [
    "module load UCSC"
   ]
  },
  {
   "cell_type": "code",
   "execution_count": null,
   "id": "df7cac4d-09d6-400c-87d9-d3afa795b582",
   "metadata": {},
   "outputs": [],
   "source": []
  }
 ],
 "metadata": {
  "kernelspec": {
   "display_name": "Bash",
   "language": "bash",
   "name": "bash"
  },
  "language_info": {
   "codemirror_mode": "shell",
   "file_extension": ".sh",
   "mimetype": "text/x-sh",
   "name": "bash"
  }
 },
 "nbformat": 4,
 "nbformat_minor": 5
}
