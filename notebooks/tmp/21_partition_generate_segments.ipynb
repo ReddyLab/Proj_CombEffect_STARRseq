{
 "cells": [
  {
   "cell_type": "markdown",
   "metadata": {},
   "source": [
    "# Partition fragments of DEX output into non-overlapping segments"
   ]
  },
  {
   "cell_type": "markdown",
   "metadata": {},
   "source": [
    "## Double check the merged bed files"
   ]
  },
  {
   "cell_type": "markdown",
   "metadata": {},
   "source": [
    "**Input**"
   ]
  },
  {
   "cell_type": "code",
   "execution_count": 1,
   "metadata": {},
   "outputs": [
    {
     "name": "stdout",
     "output_type": "stream",
     "text": [
      "3252245 /data/reddylab/Kuei/out/CombEffect_STARR/data/Input//chr17.bed\n",
      "630820 /data/reddylab/Kuei/out/CombEffect_STARR/data/Input1//chr17.bed\n",
      "681369 /data/reddylab/Kuei/out/CombEffect_STARR/data/Input2//chr17.bed\n",
      "792970 /data/reddylab/Kuei/out/CombEffect_STARR/data/Input3//chr17.bed\n",
      "636501 /data/reddylab/Kuei/out/CombEffect_STARR/data/Input4//chr17.bed\n",
      "510585 /data/reddylab/Kuei/out/CombEffect_STARR/data/Input5//chr17.bed\n"
     ]
    }
   ],
   "source": [
    "%%bash\n",
    "FD_WRK=/data/reddylab/Kuei/out/CombEffect_STARR\n",
    "FD_BEDS=($(ls -d ${FD_WRK}/data/Input*/))\n",
    "CHROM=\"chr17\"\n",
    "FN_BED=${CHROM}.bed\n",
    "\n",
    "### loop through bed files of replicates\n",
    "for FD_BED in \"${FD_BEDS[@]}\"; do\n",
    "    wc -l ${FD_BED}/${FN_BED}\n",
    "done"
   ]
  },
  {
   "cell_type": "code",
   "execution_count": 2,
   "metadata": {},
   "outputs": [
    {
     "data": {
      "text/plain": [
       "3252245"
      ]
     },
     "execution_count": 2,
     "metadata": {},
     "output_type": "execute_result"
    }
   ],
   "source": [
    "### Check results\n",
    "630820 + 681369 + 792970 + 636501 + 510585 \n",
    "#3252245"
   ]
  },
  {
   "cell_type": "code",
   "execution_count": 16,
   "metadata": {},
   "outputs": [
    {
     "name": "stdout",
     "output_type": "stream",
     "text": [
      "/data/reddylab/Kuei/out/CombEffect_STARR/count_fragment/Input//cnt_chr17.bed\n",
      "3252245\n",
      "/data/reddylab/Kuei/out/CombEffect_STARR/count_fragment/Input1//cnt_chr17.bed\n",
      "630820\n",
      "/data/reddylab/Kuei/out/CombEffect_STARR/count_fragment/Input2//cnt_chr17.bed\n",
      "681369\n",
      "/data/reddylab/Kuei/out/CombEffect_STARR/count_fragment/Input3//cnt_chr17.bed\n",
      "792970\n",
      "/data/reddylab/Kuei/out/CombEffect_STARR/count_fragment/Input4//cnt_chr17.bed\n",
      "636501\n",
      "/data/reddylab/Kuei/out/CombEffect_STARR/count_fragment/Input5//cnt_chr17.bed\n",
      "510585\n"
     ]
    }
   ],
   "source": [
    "%%bash\n",
    "FD_WRK=/data/reddylab/Kuei/out/CombEffect_STARR\n",
    "FD_CNTS=($(ls -d ${FD_WRK}/count_fragment/Input*/))\n",
    "\n",
    "### loop through bed files of replicates\n",
    "for FD_CNT in \"${FD_CNTS[@]}\"; do\n",
    "    echo ${FD_CNT}/cnt_chr17.bed\n",
    "    awk -F'\\t' '{sum+=$4;}END{print sum;}' ${FD_CNT}/cnt_chr17.bed\n",
    "done"
   ]
  },
  {
   "cell_type": "markdown",
   "metadata": {},
   "source": [
    "**Output (DMSO)**"
   ]
  },
  {
   "cell_type": "code",
   "execution_count": 3,
   "metadata": {},
   "outputs": [
    {
     "name": "stdout",
     "output_type": "stream",
     "text": [
      "1814517 /data/reddylab/Kuei/out/CombEffect_STARR/data/TFX2_DMSO//chr17.bed\n",
      "1088938 /data/reddylab/Kuei/out/CombEffect_STARR/data/TFX3_DMSO//chr17.bed\n",
      "1256096 /data/reddylab/Kuei/out/CombEffect_STARR/data/TFX4_DMSO//chr17.bed\n",
      "1203754 /data/reddylab/Kuei/out/CombEffect_STARR/data/TFX5_DMSO//chr17.bed\n",
      "5363305 /data/reddylab/Kuei/out/CombEffect_STARR/data/TFX_DMSO//chr17.bed\n"
     ]
    }
   ],
   "source": [
    "%%bash\n",
    "FD_WRK=/data/reddylab/Kuei/out/CombEffect_STARR\n",
    "FD_BEDS=($(ls -d ${FD_WRK}/data/TFX*_DMSO/))\n",
    "CHROM=\"chr17\"\n",
    "FN_BED=${CHROM}.bed\n",
    "\n",
    "### loop through bed files of replicates\n",
    "for FD_BED in \"${FD_BEDS[@]}\"; do\n",
    "    wc -l ${FD_BED}/${FN_BED}\n",
    "done"
   ]
  },
  {
   "cell_type": "code",
   "execution_count": 4,
   "metadata": {},
   "outputs": [
    {
     "data": {
      "text/plain": [
       "5363305"
      ]
     },
     "execution_count": 4,
     "metadata": {},
     "output_type": "execute_result"
    }
   ],
   "source": [
    "### Check results\n",
    "1814517 + 1088938 + 1256096 + 1203754\n",
    "#5363305"
   ]
  },
  {
   "cell_type": "code",
   "execution_count": 17,
   "metadata": {},
   "outputs": [
    {
     "name": "stdout",
     "output_type": "stream",
     "text": [
      "/data/reddylab/Kuei/out/CombEffect_STARR/count_fragment/TFX2_DMSO//cnt_chr17.bed\n",
      "1814517\n",
      "/data/reddylab/Kuei/out/CombEffect_STARR/count_fragment/TFX3_DMSO//cnt_chr17.bed\n",
      "1088938\n",
      "/data/reddylab/Kuei/out/CombEffect_STARR/count_fragment/TFX4_DMSO//cnt_chr17.bed\n",
      "1256096\n",
      "/data/reddylab/Kuei/out/CombEffect_STARR/count_fragment/TFX5_DMSO//cnt_chr17.bed\n",
      "1203754\n",
      "/data/reddylab/Kuei/out/CombEffect_STARR/count_fragment/TFX_DMSO//cnt_chr17.bed\n",
      "5363305\n"
     ]
    }
   ],
   "source": [
    "%%bash\n",
    "FD_WRK=/data/reddylab/Kuei/out/CombEffect_STARR\n",
    "FD_CNTS=($(ls -d ${FD_WRK}/count_fragment/TFX*_DMSO/))\n",
    "\n",
    "### loop through bed files of replicates\n",
    "for FD_CNT in \"${FD_CNTS[@]}\"; do\n",
    "    echo ${FD_CNT}/cnt_chr17.bed\n",
    "    awk -F'\\t' '{sum+=$4;}END{print sum;}' ${FD_CNT}/cnt_chr17.bed\n",
    "done"
   ]
  },
  {
   "cell_type": "markdown",
   "metadata": {},
   "source": [
    "**Output (Dex)**"
   ]
  },
  {
   "cell_type": "code",
   "execution_count": 5,
   "metadata": {},
   "outputs": [
    {
     "name": "stdout",
     "output_type": "stream",
     "text": [
      "1892453 /data/reddylab/Kuei/out/CombEffect_STARR/data/TFX2_Dex/chr17.bed\n",
      "1102681 /data/reddylab/Kuei/out/CombEffect_STARR/data/TFX3_Dex/chr17.bed\n",
      "1459086 /data/reddylab/Kuei/out/CombEffect_STARR/data/TFX4_Dex/chr17.bed\n",
      "1785438 /data/reddylab/Kuei/out/CombEffect_STARR/data/TFX5_Dex/chr17.bed\n",
      "6239658 /data/reddylab/Kuei/out/CombEffect_STARR/data/TFX_Dex/chr17.bed\n"
     ]
    }
   ],
   "source": [
    "%%bash\n",
    "FD_WRK=/data/reddylab/Kuei/out/CombEffect_STARR\n",
    "FD_BEDS=($(ls -d ${FD_WRK}/data/TFX*_Dex))\n",
    "CHROM=\"chr17\"\n",
    "FN_BED=${CHROM}.bed\n",
    "\n",
    "### loop through bed files of replicates\n",
    "for FD_BED in \"${FD_BEDS[@]}\"; do\n",
    "    wc -l ${FD_BED}/${FN_BED}\n",
    "done"
   ]
  },
  {
   "cell_type": "code",
   "execution_count": 6,
   "metadata": {},
   "outputs": [
    {
     "data": {
      "text/plain": [
       "6239658"
      ]
     },
     "execution_count": 6,
     "metadata": {},
     "output_type": "execute_result"
    }
   ],
   "source": [
    "### Check results\n",
    "1892453 + 1102681 + 1459086 + 1785438\n",
    "#6239658"
   ]
  },
  {
   "cell_type": "code",
   "execution_count": 18,
   "metadata": {},
   "outputs": [
    {
     "name": "stdout",
     "output_type": "stream",
     "text": [
      "/data/reddylab/Kuei/out/CombEffect_STARR/count_fragment/TFX2_Dex//cnt_chr17.bed\n",
      "1892453\n",
      "/data/reddylab/Kuei/out/CombEffect_STARR/count_fragment/TFX3_Dex//cnt_chr17.bed\n",
      "1102681\n",
      "/data/reddylab/Kuei/out/CombEffect_STARR/count_fragment/TFX4_Dex//cnt_chr17.bed\n",
      "1459086\n",
      "/data/reddylab/Kuei/out/CombEffect_STARR/count_fragment/TFX5_Dex//cnt_chr17.bed\n",
      "1785438\n",
      "/data/reddylab/Kuei/out/CombEffect_STARR/count_fragment/TFX_Dex//cnt_chr17.bed\n",
      "6239658\n"
     ]
    }
   ],
   "source": [
    "%%bash\n",
    "FD_WRK=/data/reddylab/Kuei/out/CombEffect_STARR\n",
    "FD_CNTS=($(ls -d ${FD_WRK}/count_fragment/TFX*_Dex/))\n",
    "\n",
    "### loop through bed files of replicates\n",
    "for FD_CNT in \"${FD_CNTS[@]}\"; do\n",
    "    echo ${FD_CNT}/cnt_chr17.bed\n",
    "    awk -F'\\t' '{sum+=$4;}END{print sum;}' ${FD_CNT}/cnt_chr17.bed\n",
    "done"
   ]
  },
  {
   "cell_type": "markdown",
   "metadata": {},
   "source": [
    "## Partition\n",
    "Parition the fragments combined above and generate non-overlapping segments\n",
    "- set windows to filter the fragments within the window specified\n",
    "- first get the unique fragments to avoid redundency\n",
    "- using `bedopt` to perform partition"
   ]
  },
  {
   "cell_type": "markdown",
   "metadata": {},
   "source": [
    "**Input**"
   ]
  },
  {
   "cell_type": "code",
   "execution_count": 1,
   "metadata": {},
   "outputs": [
    {
     "name": "stdout",
     "output_type": "stream",
     "text": [
      "Submitted batch job 25435839\n"
     ]
    }
   ],
   "source": [
    "%%bash\n",
    "### set environment\n",
    "module load bedops\n",
    "module load perl\n",
    "module load gcc\n",
    "source /data/reddylab/software/miniconda2/bin/activate alex_dev\n",
    "export PATH=/data/reddylab/software/homer/bin/:$PATH\n",
    "\n",
    "### set log file directory\n",
    "FD_LOG=/gpfs/fs1/data/reddylab/Kuei/out/CombEffect_STARR/log\n",
    "\n",
    "### run script using sbatch\n",
    "sbatch -pnew,all \\\n",
    "    --mem 16G \\\n",
    "    -o ${FD_LOG}/prep_partition_input_per1.txt \\\n",
    "    <<'EOF'\n",
    "#!/bin/bash\n",
    "### set directories\n",
    "FD_WRK=/data/reddylab/Kuei/out/CombEffect_STARR\n",
    "FD_CNT=${FD_WRK}/count_fragment/Input\n",
    "FD_SEG=${FD_WRK}/count_segment/Input\n",
    "\n",
    "### set input and output file names\n",
    "FN_CNT=cnt_PER1.bed\n",
    "FN_SEG=seg_PER1.bed\n",
    "\n",
    "### Print start message\n",
    "echo \"Slurm Array Index: \" ${SLURM_ARRAY_TASK_ID}\n",
    "echo \"Input  file:       \" ${FD_CNT}/${FN_CNT}\n",
    "echo \"Output file:       \" ${FD_SEG}/${FN_SEG}\n",
    "echo\n",
    "echo \"Show the first few lines of the input file\"\n",
    "head ${FD_CNT}/${FN_CNT}\n",
    "\n",
    "### init: create output directory\n",
    "mkdir -p ${FD_SEG}\n",
    "\n",
    "### Partition\n",
    "bedops --partition ${FD_CNT}/${FN_CNT} > ${FD_SEG}/${FN_SEG}\n",
    "\n",
    "### Print end message\n",
    "echo\n",
    "echo \"Show the first few lines of the output file\"\n",
    "head ${FD_SEG}/${FN_SEG}\n",
    "\n",
    "EOF"
   ]
  },
  {
   "cell_type": "code",
   "execution_count": 2,
   "metadata": {},
   "outputs": [
    {
     "name": "stdout",
     "output_type": "stream",
     "text": [
      "Slurm Array Index: \n",
      "Input  file:        /data/reddylab/Kuei/out/CombEffect_STARR/count_fragment/Input/cnt_PER1.bed\n",
      "Output file:        /data/reddylab/Kuei/out/CombEffect_STARR/count_segment/Input/seg_PER1.bed\n",
      "\n",
      "Show the first few lines of the input file\n",
      "chr17\t8148989\t8149875\t1\n",
      "chr17\t8148991\t8149950\t1\n",
      "chr17\t8148991\t8149951\t2\n",
      "chr17\t8148992\t8149951\t1\n",
      "chr17\t8148999\t8149919\t1\n",
      "chr17\t8149006\t8149923\t1\n",
      "chr17\t8149008\t8150003\t1\n",
      "chr17\t8149008\t8150057\t1\n",
      "chr17\t8149012\t8150052\t1\n",
      "chr17\t8149022\t8149951\t1\n",
      "\n",
      "Show the first few lines of the output file\n",
      "chr17\t8148989\t8148991\n",
      "chr17\t8148991\t8148992\n",
      "chr17\t8148992\t8148999\n",
      "chr17\t8148999\t8149006\n",
      "chr17\t8149006\t8149008\n",
      "chr17\t8149008\t8149012\n",
      "chr17\t8149012\t8149022\n",
      "chr17\t8149022\t8149029\n",
      "chr17\t8149029\t8149040\n",
      "chr17\t8149040\t8149062\n"
     ]
    }
   ],
   "source": [
    "%%bash\n",
    "FD_LOG=/gpfs/fs1/data/reddylab/Kuei/out/CombEffect_STARR/log\n",
    "cat ${FD_LOG}/prep_partition_input_per1.txt"
   ]
  },
  {
   "cell_type": "markdown",
   "metadata": {},
   "source": [
    "**Output (DMSO)**"
   ]
  },
  {
   "cell_type": "code",
   "execution_count": 3,
   "metadata": {},
   "outputs": [
    {
     "name": "stdout",
     "output_type": "stream",
     "text": [
      "Submitted batch job 25435840\n"
     ]
    }
   ],
   "source": [
    "%%bash\n",
    "### set environment\n",
    "module load bedops\n",
    "module load perl\n",
    "module load gcc\n",
    "source /data/reddylab/software/miniconda2/bin/activate alex_dev\n",
    "export PATH=/data/reddylab/software/homer/bin/:$PATH\n",
    "\n",
    "### set log file directory\n",
    "FD_LOG=/gpfs/fs1/data/reddylab/Kuei/out/CombEffect_STARR/log\n",
    "\n",
    "### run script using sbatch\n",
    "sbatch -pnew,all \\\n",
    "    --mem 16G \\\n",
    "    -o ${FD_LOG}/prep_partition_output_dmso_per1.txt \\\n",
    "    <<'EOF'\n",
    "#!/bin/bash\n",
    "### set directories\n",
    "FD_WRK=/data/reddylab/Kuei/out/CombEffect_STARR\n",
    "FD_CNT=${FD_WRK}/count_fragment/TFX_DMSO\n",
    "FD_SEG=${FD_WRK}/count_segment/TFX_DMSO\n",
    "\n",
    "### set input and output file names\n",
    "FN_CNT=cnt_PER1.bed\n",
    "FN_SEG=seg_PER1.bed\n",
    "\n",
    "### Print start message\n",
    "echo \"Slurm Array Index: \" ${SLURM_ARRAY_TASK_ID}\n",
    "echo \"Input  file:       \" ${FD_CNT}/${FN_CNT}\n",
    "echo \"Output file:       \" ${FD_SEG}/${FN_SEG}\n",
    "echo\n",
    "echo \"Show the first few lines of the input file\"\n",
    "head ${FD_CNT}/${FN_CNT}\n",
    "\n",
    "### init: create output directory\n",
    "mkdir -p ${FD_SEG}\n",
    "\n",
    "### Partition\n",
    "bedops --partition ${FD_CNT}/${FN_CNT} > ${FD_SEG}/${FN_SEG}\n",
    "\n",
    "### Print end message\n",
    "echo\n",
    "echo \"Show the first few lines of the output file\"\n",
    "head ${FD_SEG}/${FN_SEG}\n",
    "\n",
    "EOF"
   ]
  },
  {
   "cell_type": "code",
   "execution_count": 5,
   "metadata": {},
   "outputs": [
    {
     "name": "stdout",
     "output_type": "stream",
     "text": [
      "Slurm Array Index: \n",
      "Input  file:        /data/reddylab/Kuei/out/CombEffect_STARR/count_fragment/TFX_DMSO/cnt_PER1.bed\n",
      "Output file:        /data/reddylab/Kuei/out/CombEffect_STARR/count_segment/TFX_DMSO/seg_PER1.bed\n",
      "\n",
      "Show the first few lines of the input file\n",
      "chr17\t8149037\t8150068\t1\n",
      "chr17\t8149037\t8150069\t1\n",
      "chr17\t8149037\t8150070\t1\n",
      "chr17\t8149037\t8150071\t1\n",
      "chr17\t8149038\t8150070\t1\n",
      "chr17\t8149038\t8150071\t1\n",
      "chr17\t8149072\t8150073\t1\n",
      "chr17\t8149072\t8150075\t1\n",
      "chr17\t8149073\t8150075\t1\n",
      "chr17\t8149121\t8150080\t2\n",
      "\n",
      "Show the first few lines of the output file\n",
      "chr17\t8149037\t8149038\n",
      "chr17\t8149038\t8149072\n",
      "chr17\t8149072\t8149073\n",
      "chr17\t8149073\t8149121\n",
      "chr17\t8149121\t8149177\n",
      "chr17\t8149177\t8149178\n",
      "chr17\t8149178\t8149179\n",
      "chr17\t8149179\t8149180\n",
      "chr17\t8149180\t8149187\n",
      "chr17\t8149187\t8149194\n"
     ]
    }
   ],
   "source": [
    "%%bash\n",
    "FD_LOG=/gpfs/fs1/data/reddylab/Kuei/out/CombEffect_STARR/log\n",
    "cat ${FD_LOG}/prep_partition_output_dmso_per1.txt"
   ]
  },
  {
   "cell_type": "markdown",
   "metadata": {},
   "source": [
    "**Output (Dex)**"
   ]
  },
  {
   "cell_type": "code",
   "execution_count": 6,
   "metadata": {},
   "outputs": [
    {
     "name": "stdout",
     "output_type": "stream",
     "text": [
      "Submitted batch job 25435841\n"
     ]
    }
   ],
   "source": [
    "%%bash\n",
    "### set environment\n",
    "module load bedops\n",
    "module load perl\n",
    "module load gcc\n",
    "source /data/reddylab/software/miniconda2/bin/activate alex_dev\n",
    "export PATH=/data/reddylab/software/homer/bin/:$PATH\n",
    "\n",
    "### set log file directory\n",
    "FD_LOG=/gpfs/fs1/data/reddylab/Kuei/out/CombEffect_STARR/log\n",
    "\n",
    "### run script using sbatch\n",
    "sbatch -pnew,all \\\n",
    "    --mem 16G \\\n",
    "    -o ${FD_LOG}/prep_partition_output_dex_per1.txt \\\n",
    "    <<'EOF'\n",
    "#!/bin/bash\n",
    "### set directories\n",
    "FD_WRK=/data/reddylab/Kuei/out/CombEffect_STARR\n",
    "FD_CNT=${FD_WRK}/count_fragment/TFX_Dex\n",
    "FD_SEG=${FD_WRK}/count_segment/TFX_Dex\n",
    "\n",
    "### set input and output file names\n",
    "FN_CNT=cnt_PER1.bed\n",
    "FN_SEG=seg_PER1.bed\n",
    "\n",
    "### Print start message\n",
    "echo \"Slurm Array Index: \" ${SLURM_ARRAY_TASK_ID}\n",
    "echo \"Input  file:       \" ${FD_CNT}/${FN_CNT}\n",
    "echo \"Output file:       \" ${FD_SEG}/${FN_SEG}\n",
    "echo\n",
    "echo \"Show the first few lines of the input file\"\n",
    "head ${FD_CNT}/${FN_CNT}\n",
    "\n",
    "### init: create output directory\n",
    "mkdir -p ${FD_SEG}\n",
    "\n",
    "### Partition\n",
    "bedops --partition ${FD_CNT}/${FN_CNT} > ${FD_SEG}/${FN_SEG}\n",
    "\n",
    "### Print end message\n",
    "echo\n",
    "echo \"Show the first few lines of the output file\"\n",
    "head ${FD_SEG}/${FN_SEG}\n",
    "\n",
    "EOF"
   ]
  },
  {
   "cell_type": "code",
   "execution_count": 7,
   "metadata": {},
   "outputs": [
    {
     "name": "stdout",
     "output_type": "stream",
     "text": [
      "Slurm Array Index: \n",
      "Input  file:        /data/reddylab/Kuei/out/CombEffect_STARR/count_fragment/TFX_Dex/cnt_PER1.bed\n",
      "Output file:        /data/reddylab/Kuei/out/CombEffect_STARR/count_segment/TFX_Dex/seg_PER1.bed\n",
      "\n",
      "Show the first few lines of the input file\n",
      "chr17\t8148987\t8150011\t1\n",
      "chr17\t8148987\t8150013\t1\n",
      "chr17\t8148987\t8150014\t2\n",
      "chr17\t8148987\t8150015\t3\n",
      "chr17\t8148988\t8150014\t1\n",
      "chr17\t8148988\t8150015\t1\n",
      "chr17\t8149016\t8150080\t2\n",
      "chr17\t8149016\t8150081\t2\n",
      "chr17\t8149018\t8150117\t1\n",
      "chr17\t8149019\t8150117\t1\n",
      "\n",
      "Show the first few lines of the output file\n",
      "chr17\t8148987\t8148988\n",
      "chr17\t8148988\t8149016\n",
      "chr17\t8149016\t8149018\n",
      "chr17\t8149018\t8149019\n",
      "chr17\t8149019\t8149023\n",
      "chr17\t8149023\t8149029\n",
      "chr17\t8149029\t8149050\n",
      "chr17\t8149050\t8149051\n",
      "chr17\t8149051\t8149062\n",
      "chr17\t8149062\t8149063\n"
     ]
    }
   ],
   "source": [
    "%%bash\n",
    "FD_LOG=/gpfs/fs1/data/reddylab/Kuei/out/CombEffect_STARR/log\n",
    "cat ${FD_LOG}/prep_partition_output_dex_per1.txt"
   ]
  },
  {
   "cell_type": "code",
   "execution_count": null,
   "metadata": {},
   "outputs": [],
   "source": []
  },
  {
   "cell_type": "code",
   "execution_count": null,
   "metadata": {},
   "outputs": [],
   "source": []
  },
  {
   "cell_type": "code",
   "execution_count": null,
   "metadata": {},
   "outputs": [],
   "source": []
  },
  {
   "cell_type": "code",
   "execution_count": null,
   "metadata": {},
   "outputs": [],
   "source": []
  },
  {
   "cell_type": "code",
   "execution_count": null,
   "metadata": {},
   "outputs": [],
   "source": []
  },
  {
   "cell_type": "code",
   "execution_count": null,
   "metadata": {},
   "outputs": [],
   "source": []
  },
  {
   "cell_type": "code",
   "execution_count": null,
   "metadata": {},
   "outputs": [],
   "source": []
  },
  {
   "cell_type": "markdown",
   "metadata": {},
   "source": [
    "## Partition\n",
    "Parition the fragments combined above and generate non-overlapping segments\n",
    "- set windows to filter the fragments within the window specified\n",
    "- first get the unique fragments to avoid redundency\n",
    "- using `bedopt` to perform partition"
   ]
  },
  {
   "cell_type": "code",
   "execution_count": 10,
   "metadata": {},
   "outputs": [
    {
     "name": "stdout",
     "output_type": "stream",
     "text": [
      "Submitted batch job 25389285\n"
     ]
    }
   ],
   "source": [
    "%%bash\n",
    "### set environment\n",
    "module load bedops\n",
    "module load perl\n",
    "module load gcc\n",
    "source /data/reddylab/software/miniconda2/bin/activate alex_dev\n",
    "export PATH=/data/reddylab/software/homer/bin/:$PATH\n",
    "\n",
    "### set log file directory\n",
    "FD_LOG=/gpfs/fs1/data/reddylab/Kuei/out/CombEffect_STARR/log\n",
    "\n",
    "### run script using sbatch\n",
    "sbatch -pnew,all \\\n",
    "    --mem 16G \\\n",
    "    -o ${FD_LOG}/prep_partition_dex_test.txt \\\n",
    "    <<'EOF'\n",
    "#!/bin/bash\n",
    "### set directories\n",
    "FD_WRK=/data/reddylab/Kuei/out/CombEffect_STARR\n",
    "FD_OUT=${FD_WRK}/data/TFX_Dex\n",
    "\n",
    "### set input and output file names\n",
    "CHROM=chr17\n",
    "FN_INPUT=${CHROM}.bed\n",
    "FN_COUNT=cnt_${CHROM}.bed\n",
    "FN_SEGMENT=seg_${CHROM}.bed\n",
    "\n",
    "### Print start message\n",
    "echo \"Slurm Array Index: \" ${SLURM_ARRAY_TASK_ID}\n",
    "echo \"Input  file:       \" ${FD_OUT}/${FN_INPUT}\n",
    "echo \"Output file:       \" ${FD_OUT}/${FN_COUNT}\n",
    "echo \"Output file:       \" ${FD_OUT}/${FN_SEGMENT}\n",
    "echo\n",
    "echo \"Show the first few lines of the input file\"\n",
    "head ${FD_OUT}/${FN_INPUT}\n",
    "\n",
    "### Count fragments to get unique fragments\n",
    "awk -F $'\\t' '($2 >= 8148987 && $2 <= 8159379)' ${FD_OUT}/${FN_INPUT} |\\\n",
    "    sort    |\\\n",
    "    uniq -c |\\\n",
    "    awk '{$(NF+1)=$1;$1=\"\"}1'   |\\\n",
    "    sed -e 's/^[[:space:]]*//'  |\\\n",
    "    sed -e 's/[[:space:]]/\\t/g'  \\\n",
    "    > ${FD_OUT}/${FN_COUNT}\n",
    "\n",
    "### Partition\n",
    "bedops --partition ${FD_OUT}/${FN_COUNT} > ${FD_OUT}/${FN_SEGMENT}\n",
    "\n",
    "### Print end message\n",
    "echo\n",
    "echo \"Show the first few lines of the output file\"\n",
    "head ${FD_OUT}/${FN_COUNT}\n",
    "echo\n",
    "echo \"Show the first few lines of the output file\"\n",
    "head ${FD_OUT}/${FN_SEGMENT}\n",
    "\n",
    "EOF"
   ]
  },
  {
   "cell_type": "code",
   "execution_count": 11,
   "metadata": {},
   "outputs": [
    {
     "name": "stdout",
     "output_type": "stream",
     "text": [
      "Slurm Array Index: \n",
      "Input  file:        /data/reddylab/Kuei/out/CombEffect_STARR/data/TFX_Dex/chr17.bed\n",
      "Output file:        /data/reddylab/Kuei/out/CombEffect_STARR/data/TFX_Dex/cnt_chr17.bed\n",
      "Output file:        /data/reddylab/Kuei/out/CombEffect_STARR/data/TFX_Dex/seg_chr17.bed\n",
      "\n",
      "Show the first few lines of the input file\n",
      "\n",
      "chr17\t83638\t84547\n",
      "chr17\t92503\t93508\n",
      "chr17\t152590\t153715\n",
      "chr17\t159027\t160041\n",
      "chr17\t173500\t174429\n",
      "chr17\t174388\t175345\n",
      "chr17\t174388\t175346\n",
      "chr17\t197582\t198583\n",
      "chr17\t201248\t202059\n",
      "\n",
      "Show the first few lines of the output file\n",
      "chr17\t8148987\t8150011\t1\n",
      "chr17\t8148987\t8150013\t1\n",
      "chr17\t8148987\t8150014\t2\n",
      "chr17\t8148987\t8150015\t3\n",
      "chr17\t8148988\t8150014\t1\n",
      "chr17\t8148988\t8150015\t1\n",
      "chr17\t8149016\t8150080\t2\n",
      "chr17\t8149016\t8150081\t2\n",
      "chr17\t8149018\t8150117\t1\n",
      "chr17\t8149019\t8150117\t1\n",
      "\n",
      "Show the first few lines of the output file\n",
      "chr17\t8148987\t8148988\n",
      "chr17\t8148988\t8149016\n",
      "chr17\t8149016\t8149018\n",
      "chr17\t8149018\t8149019\n",
      "chr17\t8149019\t8149023\n",
      "chr17\t8149023\t8149029\n",
      "chr17\t8149029\t8149050\n",
      "chr17\t8149050\t8149051\n",
      "chr17\t8149051\t8149062\n",
      "chr17\t8149062\t8149063\n"
     ]
    }
   ],
   "source": [
    "%%bash\n",
    "FD_LOG=/gpfs/fs1/data/reddylab/Kuei/out/CombEffect_STARR/log\n",
    "cat ${FD_LOG}/prep_partition_dex_test.txt"
   ]
  },
  {
   "cell_type": "code",
   "execution_count": 12,
   "metadata": {},
   "outputs": [
    {
     "name": "stdout",
     "output_type": "stream",
     "text": [
      "6239659 /data/reddylab/Kuei/out/CombEffect_STARR/data/TFX_Dex/chr17.bed\n",
      "4827 /data/reddylab/Kuei/out/CombEffect_STARR/data/TFX_Dex/cnt_chr17.bed\n",
      "3562 /data/reddylab/Kuei/out/CombEffect_STARR/data/TFX_Dex/seg_chr17.bed\n"
     ]
    }
   ],
   "source": [
    "%%bash\n",
    "wc -l /data/reddylab/Kuei/out/CombEffect_STARR/data/TFX_Dex/chr17.bed\n",
    "wc -l /data/reddylab/Kuei/out/CombEffect_STARR/data/TFX_Dex/cnt_chr17.bed\n",
    "wc -l /data/reddylab/Kuei/out/CombEffect_STARR/data/TFX_Dex/seg_chr17.bed"
   ]
  },
  {
   "cell_type": "code",
   "execution_count": null,
   "metadata": {},
   "outputs": [],
   "source": []
  },
  {
   "cell_type": "code",
   "execution_count": null,
   "metadata": {},
   "outputs": [],
   "source": []
  },
  {
   "cell_type": "code",
   "execution_count": null,
   "metadata": {},
   "outputs": [],
   "source": []
  },
  {
   "cell_type": "code",
   "execution_count": null,
   "metadata": {},
   "outputs": [],
   "source": []
  }
 ],
 "metadata": {
  "kernelspec": {
   "display_name": "Python 3",
   "language": "python",
   "name": "python3"
  },
  "language_info": {
   "codemirror_mode": {
    "name": "ipython",
    "version": 3
   },
   "file_extension": ".py",
   "mimetype": "text/x-python",
   "name": "python",
   "nbconvert_exporter": "python",
   "pygments_lexer": "ipython3",
   "version": "3.6.12"
  }
 },
 "nbformat": 4,
 "nbformat_minor": 4
}
