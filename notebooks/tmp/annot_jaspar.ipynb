{
 "cells": [
  {
   "cell_type": "markdown",
   "metadata": {},
   "source": [
    "-----"
   ]
  },
  {
   "cell_type": "code",
   "execution_count": 15,
   "metadata": {},
   "outputs": [
    {
     "name": "stdout",
     "output_type": "stream",
     "text": [
      "cistrome_hg38.zip\n",
      "GSE113394_RAW.tar\n",
      "JASPAR\n",
      "Reddylab_PROcap\n"
     ]
    }
   ],
   "source": [
    "%%bash\n",
    "FD_WRK=/data/reddylab/Kuei\n",
    "FD_OUT=/data/reddylab/Kuei/out\n",
    "ls $FD_WRK/source"
   ]
  },
  {
   "cell_type": "code",
   "execution_count": 22,
   "metadata": {},
   "outputs": [
    {
     "name": "stdout",
     "output_type": "stream",
     "text": [
      "MA0002.2.tsv.gz\n"
     ]
    }
   ],
   "source": [
    "%%bash\n",
    "FD_WRK=/data/reddylab/Kuei\n",
    "FD_OUT=/data/reddylab/Kuei/out\n",
    "ls $FD_OUT/annotation/jaspar2020"
   ]
  },
  {
   "cell_type": "code",
   "execution_count": 28,
   "metadata": {},
   "outputs": [
    {
     "name": "stdout",
     "output_type": "stream",
     "text": [
      "cistrome\n",
      "genome\n",
      "jaspar2020\n",
      "JASPAR2020\n"
     ]
    }
   ],
   "source": [
    "%%bash\n",
    "FD_WRK=/data/reddylab/Kuei\n",
    "mkdir -p $FD_WRK/out/annotation/JASPAR2020\n",
    "ls $FD_WRK/out/annotation"
   ]
  },
  {
   "cell_type": "code",
   "execution_count": 2,
   "metadata": {},
   "outputs": [
    {
     "name": "stdout",
     "output_type": "stream",
     "text": [
      "--2021-05-11 16:38:07--  http://expdata.cmmt.ubc.ca/JASPAR/downloads/UCSC_tracks/2020/JASPAR2020_hg38.bb\n",
      "Resolving expdata.cmmt.ubc.ca... 137.82.44.19\n",
      "Connecting to expdata.cmmt.ubc.ca|137.82.44.19|:80... connected.\n",
      "HTTP request sent, awaiting response... 200 OK\n",
      "Length: 88441884131 (82G) [text/plain]\n",
      "Saving to: “/data/reddylab/Kuei/source/JASPAR2020_hg38.bb”\n",
      "\n",
      "100%[===================================>] 88,441,884,131 38.8M/s   in 43m 4s  \n",
      "\n",
      "2021-05-11 17:21:11 (32.6 MB/s) - “/data/reddylab/Kuei/source/JASPAR2020_hg38.bb” saved [88441884131/88441884131]\n",
      "\n"
     ]
    }
   ],
   "source": [
    "%%bash\n",
    "mkdir -p $FD_OUT/source/JASPAR\n",
    "wget  -O $FD_OUT/source/JASPAR/JASPAR2020_hg38.bb http://expdata.cmmt.ubc.ca/JASPAR/downloads/UCSC_tracks/2020/JASPAR2020_hg38.bb"
   ]
  },
  {
   "cell_type": "code",
   "execution_count": 34,
   "metadata": {},
   "outputs": [
    {
     "name": "stdout",
     "output_type": "stream",
     "text": [
      "Submitted batch job 25374908\n"
     ]
    }
   ],
   "source": [
    "%%bash\n",
    "### set environment\n",
    "module load perl\n",
    "module load gcc\n",
    "module load ucsc\n",
    "source /data/reddylab/software/miniconda2/bin/activate alex_dev\n",
    "export PATH=/data/reddylab/software/homer/bin/:$PATH\n",
    "\n",
    "### set log file directory\n",
    "FD_LOG=/gpfs/fs1/data/reddylab/Kuei/out/CombEffect_STARR/log\n",
    "\n",
    "### run script using sbatch\n",
    "sbatch -pnew,all \\\n",
    "    --mem 16G \\\n",
    "    -o ${FD_LOG}/test.txt \\\n",
    "    <<'EOF'\n",
    "#!/bin/bash\n",
    "FD_WRK=/data/reddylab/Kuei\n",
    "\n",
    "FD_BB=$FD_WRK/source/JASPAR/JASPAR2020_hg38.bb\n",
    "FD_BED=$FD_WRK/out/annotation/JASPAR2020/chr17.bed\n",
    "bigBedToBed $FD_BB $FD_BED -chrom=chr17\n",
    "\n",
    "EOF"
   ]
  },
  {
   "cell_type": "code",
   "execution_count": 32,
   "metadata": {},
   "outputs": [],
   "source": [
    "%%bash\n",
    "FD_LOG=/gpfs/fs1/data/reddylab/Kuei/out/CombEffect_STARR/log\n",
    "cat ${FD_LOG}/test.txt"
   ]
  },
  {
   "cell_type": "code",
   "execution_count": 19,
   "metadata": {},
   "outputs": [
    {
     "name": "stdout",
     "output_type": "stream",
     "text": [
      "JASPAR2020_hg38.bb\n",
      "JASPAR2020_hg38.bed\n",
      "chr1\t10000\t10008\tVDR\t240\t-\n",
      "chr1\t10001\t10009\tSOX18\t175\t+\n",
      "chr1\t10001\t10018\tDmbx1\t328\t-\n",
      "chr1\t10002\t10010\tHOXB6\t179\t-\n",
      "chr1\t10003\t10013\tKLF5\t239\t+\n",
      "chr1\t10003\t10015\tOTX2\t274\t-\n",
      "chr1\t10004\t10013\tPITX3\t268\t+\n",
      "chr1\t10004\t10014\tGSC2\t265\t+\n",
      "chr1\t10004\t10019\tTHRB\t341\t-\n",
      "chr1\t10005\t10013\tNR2C2(var.2)\t287\t-\n",
      "chr8\t145070370\t145070378\tVSX1\t403\t+\n",
      "chr8\t145070370\t145070378\tVSX1\t421\t-\n",
      "chr8\t145070370\t145070378\tVSX2\t411\t+\n",
      "chr8\t145070370\t145070378\tVSX2\t421\t-\n",
      "chr8\t145070370\t145070379\tNkx3-1\t269\t-\n",
      "chr8\t145070370\t145070379\tVENTX\t360\t-\n",
      "chr8\t145070370\t145070380\tPOU6F1(var.2)\t341\t+\n",
      "chr8\t145070370\t145070380\tPOU6F2\t416\t-\n",
      "chr8\t145070370\t145070381\tArid3b\t295\t-\n",
      "chr8\t145070370\t145070381\tLMX1B\t4"
     ]
    }
   ],
   "source": [
    "%%bash\n",
    "FD_WRK=/data/reddylab/Kuei\n",
    "FD_OUT=/data/reddylab/Kuei/out\n",
    "ls $FD_WRK/source/JASPAR\n",
    "\n",
    "head $FD_WRK/source/JASPAR/JASPAR2020_hg38.bed\n",
    "tail $FD_WRK/source/JASPAR/JASPAR2020_hg38.bed"
   ]
  },
  {
   "cell_type": "code",
   "execution_count": 20,
   "metadata": {},
   "outputs": [
    {
     "name": "stdout",
     "output_type": "stream",
     "text": [
      "PARTITION   AVAIL  TIMELIMIT  NODES  STATE NODELIST\n",
      "all*           up   infinite     28    mix c1-09-2,x1-01-2,x2-02-[1-4],x2-03-[1-2,4],x2-04-[1-4],x2-05-[1-4],x2-06-[2-4],x2-07-[1-4],x2-08-[1-4]\n",
      "all*           up   infinite      9  alloc c1-09-[1,3-4],c1-10-[1-4],dl-01,x1-01-1\n",
      "interactive    up 1-00:00:00      1    mix x2-06-1\n",
      "interactive    up 1-00:00:00      2   idle c1-01-[3-4]\n",
      "jupyterhub     up 1-00:00:00      1    mix x1-01-3\n",
      "new            up   infinite      9    mix x1-01-4,x1-02-[1-4],x1-03-[1-4]\n"
     ]
    }
   ],
   "source": [
    "!sinfo"
   ]
  },
  {
   "cell_type": "code",
   "execution_count": 33,
   "metadata": {},
   "outputs": [
    {
     "name": "stdout",
     "output_type": "stream",
     "text": [
      "chr22.bed\n"
     ]
    }
   ],
   "source": [
    "!ls /data/reddylab/Kuei/out/annotation/JASPAR2020"
   ]
  },
  {
   "cell_type": "code",
   "execution_count": 31,
   "metadata": {},
   "outputs": [
    {
     "name": "stdout",
     "output_type": "stream",
     "text": [
      "143498579 /data/reddylab/Kuei/out/annotation/JASPAR2020/chr22.bed\n"
     ]
    }
   ],
   "source": [
    "!wc -l /data/reddylab/Kuei/out/annotation/JASPAR2020/chr22.bed"
   ]
  },
  {
   "cell_type": "code",
   "execution_count": null,
   "metadata": {},
   "outputs": [],
   "source": []
  },
  {
   "cell_type": "code",
   "execution_count": null,
   "metadata": {},
   "outputs": [],
   "source": []
  },
  {
   "cell_type": "code",
   "execution_count": null,
   "metadata": {},
   "outputs": [],
   "source": []
  },
  {
   "cell_type": "code",
   "execution_count": null,
   "metadata": {},
   "outputs": [],
   "source": [
    "%%bash\n",
    "### set environment\n",
    "module load perl\n",
    "module load gcc\n",
    "module load ucsc\n",
    "source /data/reddylab/software/miniconda2/bin/activate alex_dev\n",
    "export PATH=/data/reddylab/software/homer/bin/:$PATH\n",
    "\n",
    "### set log file directory\n",
    "FD_LOG=/gpfs/fs1/data/reddylab/Kuei/out/CombEffect_STARR/log\n",
    "\n",
    "### run script using sbatch\n",
    "sbatch -pnew,all \\\n",
    "    --array=0-4 \\\n",
    "    --mem 8G \\\n",
    "    -o ${FD_LOG}/test.txt \\\n",
    "    <<'EOF'\n",
    "#!/bin/bash\n",
    "### set directories\n",
    "FD_ALIGN=/data/reddylab/gjohnson/whole_genome_STARRseq/wgss3/alignment_and_processing/alignments\n",
    "\n",
    "### get data directory and set output directory\n",
    "FD_DATS=($(ls -d ${FD_ALIGN}/Input*/))\n",
    "FD_DAT=${FD_DATS[${SLURM_ARRAY_TASK_ID}]}\n",
    "FD_OUT=/data/reddylab/Kuei/out/CombEffect_STARR/data/\"$(basename -- $FD_DAT)\"\n",
    "FP_DAT=${FD_DAT}/*.bedpe\n",
    "\n",
    "### create the output directory in not exist\n",
    "mkdir -p $FD_OUT\n",
    "echo \"Slurm Array Index: \" ${SLURM_ARRAY_TASK_ID}\n",
    "echo \"Input  directory:  \" ${FD_DAT}\n",
    "echo \"Input  file:       \" ${FP_DAT}\n",
    "echo \"Output directory:  \" ${FD_OUT}\n",
    "\n",
    "echo \"Show the first few lines of the input file\"\n",
    "head ${FP_DAT}\n",
    "\n",
    "### run script to split the bed file\n",
    "chmod +x splitBed.sh\n",
    "echo \"Splitting the input file\"\n",
    "./splitBed.sh ${FP_DAT} ${FD_OUT}\n",
    "echo \"Done!\"\n",
    "\n",
    "EOF"
   ]
  },
  {
   "cell_type": "code",
   "execution_count": null,
   "metadata": {},
   "outputs": [],
   "source": [
    "-----"
   ]
  },
  {
   "cell_type": "code",
   "execution_count": 13,
   "metadata": {},
   "outputs": [
    {
     "name": "stdout",
     "output_type": "stream",
     "text": [
      "JASPAR2020_hg38.bb\n"
     ]
    }
   ],
   "source": [
    "ls $FD_OUT/source/JASPAR"
   ]
  },
  {
   "cell_type": "code",
   "execution_count": null,
   "metadata": {},
   "outputs": [],
   "source": [
    "bigBedToBed $FD_OUT/source/JASPAR/JASPAR2020_hg38.bb $FD_OUT/source/JASPAR/JASPAR2020_hg38.bed"
   ]
  },
  {
   "cell_type": "code",
   "execution_count": null,
   "metadata": {},
   "outputs": [],
   "source": []
  },
  {
   "cell_type": "code",
   "execution_count": null,
   "metadata": {},
   "outputs": [],
   "source": []
  },
  {
   "cell_type": "code",
   "execution_count": null,
   "metadata": {},
   "outputs": [],
   "source": []
  },
  {
   "cell_type": "code",
   "execution_count": null,
   "metadata": {},
   "outputs": [],
   "source": []
  },
  {
   "cell_type": "code",
   "execution_count": 2,
   "metadata": {},
   "outputs": [
    {
     "name": "stdout",
     "output_type": "stream",
     "text": [
      "/usr/bin/lua: error while loading shared libraries: __vdso_time: invalid mode for dlopen(): Invalid argument\n",
      "/usr/bin/lua: error while loading shared libraries: __vdso_time: invalid mode for dlopen(): Invalid argument\n",
      "/data/reddylab/Kuei/exe/ucsc/bigBedToBed: /lib64/libz.so.1: version `ZLIB_1.2.3.3' not found (required by /data/reddylab/Kuei/exe/ucsc/bigBedToBed)\n"
     ]
    },
    {
     "ename": "",
     "evalue": "1",
     "output_type": "error",
     "traceback": []
    }
   ],
   "source": [
    "module load glibc\n",
    "module load gcc\n",
    "/data/reddylab/Kuei/exe/ucsc/bigBedToBed --help"
   ]
  },
  {
   "cell_type": "code",
   "execution_count": null,
   "metadata": {},
   "outputs": [],
   "source": []
  },
  {
   "cell_type": "code",
   "execution_count": null,
   "metadata": {},
   "outputs": [],
   "source": []
  },
  {
   "cell_type": "code",
   "execution_count": 1,
   "metadata": {},
   "outputs": [
    {
     "name": "stdout",
     "output_type": "stream",
     "text": [
      "envs  exe  GitRepo  learn  out\tpkgs  source\n"
     ]
    }
   ],
   "source": [
    "FD_OUT=/data/reddylab/Kuei\n",
    "ls $FD_OUT"
   ]
  },
  {
   "cell_type": "code",
   "execution_count": 2,
   "metadata": {},
   "outputs": [
    {
     "name": "stdout",
     "output_type": "stream",
     "text": [
      "/data/reddylab/Kuei/exe/ucsc/bigBedToBed\n"
     ]
    }
   ],
   "source": [
    "ls $FD_OUT/exe/ucsc/bigBedToBed"
   ]
  },
  {
   "cell_type": "code",
   "execution_count": 3,
   "metadata": {},
   "outputs": [
    {
     "name": "stdout",
     "output_type": "stream",
     "text": [
      "/data/reddylab/Kuei/exe/ucsc/bigBedToBed\n"
     ]
    }
   ],
   "source": [
    "ls $FD_OUT/exe/ucsc/bigBedToBed"
   ]
  },
  {
   "cell_type": "code",
   "execution_count": 3,
   "metadata": {},
   "outputs": [
    {
     "name": "stdout",
     "output_type": "stream",
     "text": [
      "/usr/bin/lua: error while loading shared libraries: __vdso_time: invalid mode for dlopen(): Invalid argument\n",
      "/data/reddylab/Kuei/exe/ucsc/bigBedToBed: /lib64/libz.so.1: version `ZLIB_1.2.3.3' not found (required by /data/reddylab/Kuei/exe/ucsc/bigBedToBed)\n"
     ]
    },
    {
     "ename": "",
     "evalue": "1",
     "output_type": "error",
     "traceback": []
    }
   ],
   "source": [
    "module load glibc\n",
    "module load ucsc\n",
    "$FD_OUT/exe/ucsc/bigBedToBed --help"
   ]
  },
  {
   "cell_type": "code",
   "execution_count": 19,
   "metadata": {},
   "outputs": [
    {
     "name": "stdout",
     "output_type": "stream",
     "text": [
      "(alex_dev) /usr/bin/lua: error while loading shared libraries: __vdso_time: invalid mode for dlopen(): Invalid argument\n",
      "(alex_dev) /usr/bin/lua: error while loading shared libraries: __vdso_time: invalid mode for dlopen(): Invalid argument\n",
      "(alex_dev) /usr/bin/lua: error while loading shared libraries: __vdso_time: invalid mode for dlopen(): Invalid argument\n",
      "(alex_dev) dirname: error while loading shared libraries: __vdso_time: invalid mode for dlopen(): Invalid argument\n",
      "uname: error while loading shared libraries: __vdso_time: invalid mode for dlopen(): Invalid argument\n",
      "bash: /conda: No such file or directory\n",
      "(alex_dev) (alex_dev) chmod: error while loading shared libraries: __vdso_time: invalid mode for dlopen(): Invalid argument\n",
      "(alex_dev) bash: .//data/reddylab/Kuei/exe/ucsc/bigBedToBed: No such file or directory\n",
      "(alex_dev) "
     ]
    },
    {
     "ename": "",
     "evalue": "1",
     "output_type": "error",
     "traceback": []
    }
   ],
   "source": [
    "### set environment\n",
    "module load glibc/2.17-gcb01\n",
    "module load zlib\n",
    "module load bedtools2\n",
    "source /data/reddylab/software/miniconda2/bin/activate alex_dev\n",
    "\n",
    "chmod +x $FD_OUT/exe/ucsc/bigBedToBed\n",
    "./$FD_OUT/exe/ucsc/bigBedToBed --help"
   ]
  },
  {
   "cell_type": "code",
   "execution_count": 17,
   "metadata": {},
   "outputs": [
    {
     "name": "stdout",
     "output_type": "stream",
     "text": [
      "(alex_dev) /usr/bin/lua: error while loading shared libraries: __vdso_time: invalid mode for dlopen(): Invalid argument\n",
      "(alex_dev) /usr/bin/lua: error while loading shared libraries: __vdso_time: invalid mode for dlopen(): Invalid argument\n",
      "(alex_dev) /usr/bin/lua: error while loading shared libraries: __vdso_time: invalid mode for dlopen(): Invalid argument\n",
      "(alex_dev) dirname: error while loading shared libraries: __vdso_time: invalid mode for dlopen(): Invalid argument\n",
      "uname: error while loading shared libraries: __vdso_time: invalid mode for dlopen(): Invalid argument\n",
      "bash: /conda: No such file or directory\n",
      "(alex_dev) (alex_dev) chmod: error while loading shared libraries: __vdso_time: invalid mode for dlopen(): Invalid argument\n",
      "(alex_dev) head: error while loading shared libraries: __vdso_time: invalid mode for dlopen(): Invalid argument\n",
      "/data/reddylab/Kuei/exe/ucsc/bigBedToBed: /lib64/libz.so.1: version `ZLIB_1.2.3.3' not found (required by /data/reddylab/Kuei/exe/ucsc/bigBedToBed)\n",
      "(alex_dev) "
     ]
    },
    {
     "ename": "",
     "evalue": "1",
     "output_type": "error",
     "traceback": []
    }
   ],
   "source": [
    "### set environment\n",
    "module load glibc/2.17-gcb01\n",
    "module load zlib\n",
    "module load bedtools2\n",
    "source /data/reddylab/software/miniconda2/bin/activate alex_dev\n",
    "\n",
    "chmod +x $FD_OUT/exe/ucsc/bigBedToBed\n",
    "$FD_OUT/exe/ucsc/bigBedToBed $FD_OUT/source/JASPAR2020_hg38.bb | head"
   ]
  },
  {
   "cell_type": "code",
   "execution_count": 3,
   "metadata": {},
   "outputs": [
    {
     "name": "stdout",
     "output_type": "stream",
     "text": [
      "��\u0004\u0000\n",
      "\u0000�\u0002\u0000\u0000\u0000\u0000\u0000\u0000X\u0004\u0000\u0000\u0000\u0000\u0000\u0000�&\u001e",
      "S\u0014\u0000\u0000\u0000\u0006\u0000\u0006\u00000\u0001\u0000\u0000\u0000\u0000\u0000\u0000�\u0002\u0000\u0000\u0000\u0000\u0000\u0000\u0000@\u0000\u0000�\u0002\u0000\u0000\u0000\u0000\u0000\u0000�\u0000\u0000\u0000\u0000\u0000\u0000\u0000��\u0010�\u0014\u0000\u0000\u0000=�\u001e",
      "�\u0014\u0000\u0000\u0000�\u0002\u0000\u0000\u0000\u0000\u0000\u0000Mc0�\u0014\u0000\u0000\u0000�-�\u0014\u0000\u0000\u0000\u0000\n",
      "\u0000\u0000\u0000\u0000\u0000\u0000�\u00102�\u0014\u0000\u0000\u0000��0�\u0014\u0000\u0000\u0000\u0000(\u0000\u0000\u0000\u0000\u0000\u0000\u001c",
      "�1�\u0014\u0000\u0000\u0000�ws�\u0014\u0000\u0000\u0000\u0000�\u0000\u0000\u0000\u0000\u0000\u0000��s�\u0014\u0000\u0000\u0000�M��\u0014\u0000\u0000\u0000\u0000�\u0002\u0000\u0000\u0000\u0000\u0000+j��\u0014\u0000\u0000\u0000(�\u0014\u0000\u0000\u0000\u0000\u0000\n",
      "\u0000\u0000\u0000\u0000\u0000|\f",
      "��\u0014\u0000\u0000\u0000o<��\u0014\u0000\u0000\u0000\u0000\u0000(\u0000\u0000\u0000\u0000\u0000�T��\u0014\u0000\u0000\u0000}���\u0014\u0000\u0000\u0000\u0000\u0000�\u0000\u0000\u0000\u0000\u0000ɿ��\u0014\u0000\u0000\u0000:֋�\u0014\u0000\u0000\u0000\u0000\u0000�\u0002\u0000\u0000\u0000\u0000v\u0014\u0000\u0000\u0000����\u0014\u0000\u0000\u0000table bed\n",
      "\"Browser Extensible Data\"\n",
      "   (\n",
      "   string chrom;       \"Reference sequence chromosome or scaffold\"\n",
      "   uint   chromStart;  \"Start position in chromosome\"\n",
      "   uint   chromEnd;    \"End position in chromosome\"\n",
      "   string name;        \"Name of item.\"\n"
     ]
    }
   ],
   "source": [
    "head /data/reddylab/Kuei/source/JASPAR2020_hg38.bb"
   ]
  },
  {
   "cell_type": "code",
   "execution_count": null,
   "metadata": {},
   "outputs": [],
   "source": []
  },
  {
   "cell_type": "code",
   "execution_count": null,
   "metadata": {},
   "outputs": [],
   "source": []
  },
  {
   "cell_type": "code",
   "execution_count": null,
   "metadata": {},
   "outputs": [],
   "source": [
    "JASPAR2020_hg38.bb"
   ]
  },
  {
   "cell_type": "code",
   "execution_count": null,
   "metadata": {},
   "outputs": [],
   "source": [
    "http://expdata.cmmt.ubc.ca/JASPAR/downloads/UCSC_tracks/2020/hg38/"
   ]
  }
 ],
 "metadata": {
  "kernelspec": {
   "display_name": "Python 3",
   "language": "python",
   "name": "python3"
  },
  "language_info": {
   "codemirror_mode": {
    "name": "ipython",
    "version": 3
   },
   "file_extension": ".py",
   "mimetype": "text/x-python",
   "name": "python",
   "nbconvert_exporter": "python",
   "pygments_lexer": "ipython3",
   "version": "3.6.12"
  }
 },
 "nbformat": 4,
 "nbformat_minor": 4
}
