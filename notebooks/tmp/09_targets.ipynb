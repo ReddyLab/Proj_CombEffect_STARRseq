{
 "cells": [
  {
   "cell_type": "markdown",
   "id": "c92b95b2-70d7-4814-be9f-b13b0e0e0b58",
   "metadata": {},
   "source": [
    "## Region around PER1"
   ]
  },
  {
   "cell_type": "markdown",
   "id": "3e372a07-bbf0-4315-a010-2d8bb77cd489",
   "metadata": {},
   "source": [
    "![](./figure/igv_PER1_v1_zoom_out.png)"
   ]
  },
  {
   "cell_type": "markdown",
   "id": "43ac26d2-3b01-4f98-a24f-5baecb2f393b",
   "metadata": {},
   "source": [
    "## Zoom in: chr17:8,148,000-8,160,000"
   ]
  },
  {
   "cell_type": "markdown",
   "id": "353bef13-64e6-4b45-b60a-f64a53affd74",
   "metadata": {},
   "source": [
    "![](./figure/igv_PER1_v2_zoom_in.png)"
   ]
  },
  {
   "cell_type": "code",
   "execution_count": 1,
   "id": "846ff66b-9252-4dbf-9a59-61ae0b3232ba",
   "metadata": {},
   "outputs": [
    {
     "name": "stdout",
     "output_type": "stream",
     "text": [
      "/work/kk319/out/CombEffect_STARR\n",
      "/work/kk319/out/CombEffect_STARR/log\n",
      "/work/kk319/annotation\n"
     ]
    }
   ],
   "source": [
    "source config.sh\n",
    "echo ${FD_WRK}\n",
    "echo ${FD_LOG}\n",
    "echo ${FD_ANN}"
   ]
  },
  {
   "cell_type": "code",
   "execution_count": 2,
   "id": "0f427610-77f8-48a6-a9c2-557cbc7a6682",
   "metadata": {},
   "outputs": [
    {
     "name": "stdout",
     "output_type": "stream",
     "text": [
      "\u001b[0m\u001b[01;34mInput\u001b[0m   \u001b[01;34mInput2\u001b[0m  \u001b[01;34mInput4\u001b[0m  \u001b[01;34mTFX2_DMSO\u001b[0m  \u001b[01;34mTFX3_DMSO\u001b[0m  \u001b[01;34mTFX4_DMSO\u001b[0m  \u001b[01;34mTFX5_DMSO\u001b[0m  \u001b[01;34mTFX_DMSO\u001b[0m\n",
      "\u001b[01;34mInput1\u001b[0m  \u001b[01;34mInput3\u001b[0m  \u001b[01;34mInput5\u001b[0m  \u001b[01;34mTFX2_Dex\u001b[0m   \u001b[01;34mTFX3_Dex\u001b[0m   \u001b[01;34mTFX4_Dex\u001b[0m   \u001b[01;34mTFX5_Dex\u001b[0m   \u001b[01;34mTFX_Dex\u001b[0m\n"
     ]
    }
   ],
   "source": [
    "ls ${FD_WRK}/data"
   ]
  },
  {
   "cell_type": "code",
   "execution_count": 3,
   "id": "6db9b342-e743-4b12-9742-c69ea3548012",
   "metadata": {},
   "outputs": [
    {
     "name": "stdout",
     "output_type": "stream",
     "text": [
      "16\n"
     ]
    }
   ],
   "source": [
    "ls ${FD_WRK}/data | wc -l"
   ]
  },
  {
   "cell_type": "code",
   "execution_count": 4,
   "id": "f94c8a6b-ded8-4f7e-b11b-3169e1932497",
   "metadata": {},
   "outputs": [
    {
     "name": "stdout",
     "output_type": "stream",
     "text": [
      "Index:  0 /work/kk319/out/CombEffect_STARR/data/Input\n",
      "Index:  1 /work/kk319/out/CombEffect_STARR/data/Input1\n",
      "Index:  2 /work/kk319/out/CombEffect_STARR/data/Input2\n",
      "Index:  3 /work/kk319/out/CombEffect_STARR/data/Input3\n",
      "Index:  4 /work/kk319/out/CombEffect_STARR/data/Input4\n",
      "Index:  5 /work/kk319/out/CombEffect_STARR/data/Input5\n",
      "Index:  6 /work/kk319/out/CombEffect_STARR/data/TFX2_DMSO\n",
      "Index:  7 /work/kk319/out/CombEffect_STARR/data/TFX2_Dex\n",
      "Index:  8 /work/kk319/out/CombEffect_STARR/data/TFX3_DMSO\n",
      "Index:  9 /work/kk319/out/CombEffect_STARR/data/TFX3_Dex\n",
      "Index: 10 /work/kk319/out/CombEffect_STARR/data/TFX4_DMSO\n",
      "Index: 11 /work/kk319/out/CombEffect_STARR/data/TFX4_Dex\n",
      "Index: 12 /work/kk319/out/CombEffect_STARR/data/TFX5_DMSO\n",
      "Index: 13 /work/kk319/out/CombEffect_STARR/data/TFX5_Dex\n",
      "Index: 14 /work/kk319/out/CombEffect_STARR/data/TFX_DMSO\n",
      "Index: 15 /work/kk319/out/CombEffect_STARR/data/TFX_Dex\n"
     ]
    }
   ],
   "source": [
    "FD_BEDS=($(ls -d ${FD_WRK}/data/*))\n",
    "\n",
    "for idx in {0..15}; do\n",
    "    printf \"Index: %+2s %s\\n\" ${idx} ${FD_BEDS[${idx}]}\n",
    "done"
   ]
  },
  {
   "cell_type": "code",
   "execution_count": 5,
   "id": "ec76e52d-e455-4ba6-9d19-18e3e5536573",
   "metadata": {},
   "outputs": [
    {
     "name": "stdout",
     "output_type": "stream",
     "text": [
      "Submitted batch job 13847288\n"
     ]
    }
   ],
   "source": [
    "source config.sh\n",
    "\n",
    "### run script using sbatch\n",
    "sbatch -p scavenger \\\n",
    "    --array=0-15 \\\n",
    "    --mem 8G \\\n",
    "    -o ${FD_LOG}/prep_target_per1.%a.txt \\\n",
    "    <<'EOF'\n",
    "#!/bin/bash\n",
    "### set directories and global parameters\n",
    "source config.sh\n",
    "CHROM=chr17\n",
    "TARGET=PER1\n",
    "\n",
    "### set input and output\n",
    "FD_BEDS=($(ls -d ${FD_WRK}/data/*))\n",
    "FD_BED=${FD_BEDS[${SLURM_ARRAY_TASK_ID}]}\n",
    "FN_BED=${CHROM}.bed\n",
    "FD_OUT=${FD_BED}\n",
    "FN_OUT=target_${TARGET}.bed\n",
    "\n",
    "### print start message\n",
    "echo \"Slurm Array Index: \" ${SLURM_ARRAY_TASK_ID}\n",
    "echo \"Input  file:       \" ${FD_BED}/${FN_BED}\n",
    "echo \"Output file:       \" ${FD_OUT}/${FN_OUT}\n",
    "echo\n",
    "echo \"Show the first few lines of the input file\"\n",
    "echo ${FD_BED}/${FN_BED}\n",
    "head ${FD_BED}/${FN_BED}\n",
    "\n",
    "###\n",
    "cat ${FD_BED}/${FN_BED} |\\\n",
    "    awk -F $'\\t' '($2 >= 8148000 && $2 <= 8160000)' > ${FD_OUT}/${FN_OUT}\n",
    "\n",
    "### print end message\n",
    "echo\n",
    "echo \"Show the first few lines of the output file\"\n",
    "echo ${FD_OUT}/${FN_OUT}\n",
    "head ${FD_OUT}/${FN_OUT}\n",
    "\n",
    "EOF"
   ]
  },
  {
   "cell_type": "markdown",
   "id": "a25b68f0-5e98-4229-aaf2-d7b071b23179",
   "metadata": {},
   "source": []
  },
  {
   "cell_type": "code",
   "execution_count": 11,
   "id": "f0beaee8-7dee-4cfb-a317-562634061646",
   "metadata": {},
   "outputs": [
    {
     "name": "stdout",
     "output_type": "stream",
     "text": [
      "Slurm Array Index:  0\n",
      "Input  file:        /work/kk319/out/CombEffect_STARR/data/Input/chr17.bed\n",
      "Output file:        /work/kk319/out/CombEffect_STARR/data/Input/target_PER1.bed\n",
      "\n",
      "Show the first few lines of the input file\n",
      "/work/kk319/out/CombEffect_STARR/data/Input/chr17.bed\n",
      "chr17\t201123\t201925\n",
      "chr17\t201160\t201968\n",
      "chr17\t201202\t202074\n",
      "chr17\t201259\t202052\n",
      "chr17\t201366\t202130\n",
      "chr17\t206174\t207307\n",
      "chr17\t206269\t207286\n",
      "chr17\t206283\t207194\n",
      "chr17\t206324\t207359\n",
      "chr17\t206326\t207274\n",
      "\n",
      "Show the first few lines of the output file\n",
      "/work/kk319/out/CombEffect_STARR/data/Input/target_PER1.bed\n",
      "chr17\t8148117\t8149012\n",
      "chr17\t8148122\t8149107\n",
      "chr17\t8148178\t8149194\n",
      "chr17\t8148188\t8149154\n",
      "chr17\t8148190\t8149151\n",
      "chr17\t8148220\t8149108\n",
      "chr17\t8148280\t8149232\n",
      "chr17\t8148401\t8149372\n",
      "chr17\t8148548\t8149585\n",
      "chr17\t8148913\t8149953\n"
     ]
    }
   ],
   "source": [
    "cat ${FD_LOG}/prep_target_per1.0.txt"
   ]
  },
  {
   "cell_type": "code",
   "execution_count": 12,
   "id": "0cc93b8a-f2a7-4b71-a4fe-4991f97fadc8",
   "metadata": {},
   "outputs": [
    {
     "name": "stdout",
     "output_type": "stream",
     "text": [
      "Slurm Array Index:  1\n",
      "Input  file:        /work/kk319/out/CombEffect_STARR/data/Input1/chr17.bed\n",
      "Output file:        /work/kk319/out/CombEffect_STARR/data/Input1/target_PER1.bed\n",
      "\n",
      "Show the first few lines of the input file\n",
      "/work/kk319/out/CombEffect_STARR/data/Input1/chr17.bed\n",
      "chr17\t201123\t201925\n",
      "chr17\t201160\t201968\n",
      "chr17\t201202\t202074\n",
      "chr17\t201259\t202052\n",
      "chr17\t201366\t202130\n",
      "chr17\t206174\t207307\n",
      "chr17\t206269\t207286\n",
      "chr17\t206283\t207194\n",
      "chr17\t206324\t207359\n",
      "chr17\t206326\t207274\n",
      "\n",
      "Show the first few lines of the output file\n",
      "/work/kk319/out/CombEffect_STARR/data/Input1/target_PER1.bed\n",
      "chr17\t8148117\t8149012\n",
      "chr17\t8148122\t8149107\n",
      "chr17\t8148178\t8149194\n",
      "chr17\t8148188\t8149154\n",
      "chr17\t8148190\t8149151\n",
      "chr17\t8148220\t8149108\n",
      "chr17\t8148280\t8149232\n",
      "chr17\t8148401\t8149372\n",
      "chr17\t8148548\t8149585\n",
      "chr17\t8148913\t8149953\n"
     ]
    }
   ],
   "source": [
    "cat ${FD_LOG}/prep_target_per1.1.txt"
   ]
  },
  {
   "cell_type": "code",
   "execution_count": null,
   "id": "301101ec-bb01-4cfb-823e-fa1d7bb9c676",
   "metadata": {},
   "outputs": [],
   "source": []
  }
 ],
 "metadata": {
  "kernelspec": {
   "display_name": "Bash",
   "language": "bash",
   "name": "bash"
  },
  "language_info": {
   "codemirror_mode": "shell",
   "file_extension": ".sh",
   "mimetype": "text/x-sh",
   "name": "bash"
  }
 },
 "nbformat": 4,
 "nbformat_minor": 5
}
