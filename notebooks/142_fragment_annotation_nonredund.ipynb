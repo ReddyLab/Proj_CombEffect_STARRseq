{
 "cells": [
  {
   "cell_type": "markdown",
   "metadata": {},
   "source": [
    "# Fragment Annotation"
   ]
  },
  {
   "cell_type": "code",
   "execution_count": null,
   "metadata": {},
   "outputs": [],
   "source": []
  },
  {
   "cell_type": "markdown",
   "metadata": {},
   "source": [
    "## Annotate Input"
   ]
  },
  {
   "cell_type": "markdown",
   "metadata": {},
   "source": [
    "**Test code**"
   ]
  },
  {
   "cell_type": "code",
   "execution_count": 23,
   "metadata": {},
   "outputs": [
    {
     "name": "stdout",
     "output_type": "stream",
     "text": [
      "chr17\t10000001\t10000909\t1\n",
      "chr17\t10000097\t10001138\t1\n",
      "chr17\t10000104\t10001051\t1\n",
      "chr17\t10000112\t10000955\t1\n",
      "chr17\t10000131\t10001070\t2\n",
      "chr17\t10000134\t10001169\t1\n",
      "chr17\t10000150\t10001133\t1\n",
      "chr17\t10000153\t10001218\t1\n",
      "chr17\t10000160\t10001059\t1\n",
      "chr17\t10000162\t10001116\t1\n",
      "chr17\t60004\t60022\tZNF140\t5.6897\t+\tZN140_HUMAN.H11MO.0.C\t1\n",
      "chr17\t60004\t60022\tZNF667\t8.0240\t-\tZN667_HUMAN.H11MO.0.C\t1\n",
      "chr17\t60006\t60015\tEbox/CAGCTG\t7.9275\t+\tMYOD1_HUMAN.H11MO.0.A\t1\n",
      "chr17\t60011\t60031\tGC-tract\t12.1220\t-\tZN341_HUMAN.H11MO.0.C\t1\n",
      "chr17\t60012\t60025\tPRDM4\t1.3083\t+\tPRDM4_C2H2_1\t1\n",
      "chr17\t60017\t60028\tNR/19\t9.6680\t-\tNR1D1_HUMAN.H11MO.0.B\t2\n",
      "chr17\t60019\t60035\tHEN1\t5.5854\t-\tHEN1_HUMAN.H11MO.0.C\t2\n",
      "chr17\t60023\t60042\tZNF680\t6.3901\t-\tZN680_HUMAN.H11MO.0.C\t1\n",
      "chr17\t60027\t60037\tSMARCA1\t7.5566\t-\tSMCA1_HUMAN.H11MO.0.C\t1\n",
      "chr17\t60027\t60040\tLEF1\t7.1402\t+\tZN350_HUMAN.H11MO.0.C\t1\n"
     ]
    }
   ],
   "source": [
    "%%bash\n",
    "source config.sh\n",
    "CHROM=chr17\n",
    "SAMPLE=Input\n",
    "\n",
    "### set input and output file\n",
    "FD_ANN=${FD_BASE}/annotation/motif_cluster_jvierstra/hg38_archetype_motifs_v1\n",
    "FN_ANN=${CHROM}_rm_mouse.bed.gz\n",
    "FD_BED=${FD_WRK}/count_fragment/${SAMPLE}\n",
    "FN_BED=cnt_${CHROM}.bed\n",
    "FD_OUT=${FD_WRK}/annotation_fragment/${SAMPLE}\n",
    "FN_OUT=${CHROM}.bed.gz\n",
    "\n",
    "### RUN annotation\n",
    "mkdir -p ${FD_OUT}\n",
    "FP_BED_A=${FD_BED}/${FN_BED}\n",
    "FP_BED_B=${FD_ANN}/${FN_ANN}\n",
    "FP_BED_O=${FD_OUT}/${FN_OUT}\n",
    "\n",
    "head ${FP_BED_A}\n",
    "zcat ${FP_BED_B} | head"
   ]
  },
  {
   "cell_type": "markdown",
   "metadata": {},
   "source": [
    "**RUN: fragment annotation**"
   ]
  },
  {
   "cell_type": "code",
   "execution_count": 32,
   "metadata": {},
   "outputs": [
    {
     "name": "stdout",
     "output_type": "stream",
     "text": [
      "Bedtools 2.27.1\n",
      "Submitted batch job 10968930\n"
     ]
    }
   ],
   "source": [
    "%%bash\n",
    "### set environment on HARDAC\n",
    "#module load bedtools2\n",
    "#module load perl\n",
    "#module load gcc\n",
    "#source /data/reddylab/software/miniconda2/bin/activate alex_dev\n",
    "#export PATH=/data/reddylab/software/homer/bin/:$PATH\n",
    "\n",
    "### set environment on DCC\n",
    "module load Bedtools\n",
    "source config.sh\n",
    "FD_LOG=${FD_WRK}/log\n",
    "\n",
    "### run script using sbatch\n",
    "#sbatch -pnew,all \\\n",
    "sbatch -p scavenger \\\n",
    "    --mem 15G \\\n",
    "    -o ${FD_LOG}/annot_fragment_input.txt \\\n",
    "    <<'EOF'\n",
    "#!/bin/bash\n",
    "### set directories & global variables\n",
    "source config.sh\n",
    "CHROM=chr17\n",
    "SAMPLE=Input\n",
    "\n",
    "### init: set input and output file\n",
    "FD_ANN=${FD_BASE}/annotation/motif_cluster_jvierstra/hg38_archetype_motifs_v1\n",
    "FN_ANN=${CHROM}_rm_mouse.bed.gz\n",
    "FD_BED=${FD_WRK}/count_fragment/${SAMPLE}\n",
    "FN_BED=cnt_${CHROM}.bed\n",
    "FD_OUT=${FD_WRK}/annotation_fragment/${SAMPLE}\n",
    "FN_OUT=${CHROM}.bed.gz\n",
    "\n",
    "### init: set input and output file path\n",
    "mkdir -p ${FD_OUT}\n",
    "FP_BED_A=${FD_BED}/${FN_BED}\n",
    "FP_BED_B=${FD_ANN}/${FN_ANN}\n",
    "FP_BED_O=${FD_OUT}/${FN_OUT}\n",
    "\n",
    "### print end message\n",
    "echo \"Slurm Array Index: \" ${SLURM_ARRAY_TASK_ID}\n",
    "echo \"Input  file: \" ${FP_BED_A}\n",
    "echo \"Input  file: \" ${FP_BED_B}\n",
    "echo \"Output file: \" ${FP_BED_O}\n",
    "echo\n",
    "echo \"Show the first few lines of the input file\"\n",
    "echo ${FP_BED_A}\n",
    "head ${FP_BED_A}\n",
    "echo\n",
    "echo ${FP_BED_B}\n",
    "zcat ${FP_BED_B} | head\n",
    "\n",
    "### RUN: annotation by intersecting two bed files\n",
    "bedtools intersect -a ${FP_BED_A} -b ${FP_BED_B} -wo | gzip -cf > ${FP_BED_O}\n",
    "\n",
    "### print end message\n",
    "echo\n",
    "echo \"Show the first few lines of the output file\"\n",
    "echo ${FP_BED_O}\n",
    "zcat ${FP_BED_O} | head\n",
    "\n",
    "EOF"
   ]
  },
  {
   "cell_type": "markdown",
   "metadata": {},
   "source": [
    "**CHECK: log file**"
   ]
  },
  {
   "cell_type": "code",
   "execution_count": 35,
   "metadata": {},
   "outputs": [
    {
     "name": "stdout",
     "output_type": "stream",
     "text": [
      "Slurm Array Index: \n",
      "Input  file:  /work/kk319/out/CombEffect_STARR/count_fragment/Input/cnt_chr17.bed\n",
      "Input  file:  /work/kk319/annotation/motif_cluster_jvierstra/hg38_archetype_motifs_v1/chr17_rm_mouse.bed.gz\n",
      "Output file:  /work/kk319/out/CombEffect_STARR/annotation_fragment/Input/chr17.bed.gz\n",
      "\n",
      "Show the first few lines of the input file\n",
      "/work/kk319/out/CombEffect_STARR/count_fragment/Input/cnt_chr17.bed\n",
      "chr17\t10000001\t10000909\t1\n",
      "chr17\t10000097\t10001138\t1\n",
      "chr17\t10000104\t10001051\t1\n",
      "chr17\t10000112\t10000955\t1\n",
      "chr17\t10000131\t10001070\t2\n",
      "chr17\t10000134\t10001169\t1\n",
      "chr17\t10000150\t10001133\t1\n",
      "chr17\t10000153\t10001218\t1\n",
      "chr17\t10000160\t10001059\t1\n",
      "chr17\t10000162\t10001116\t1\n",
      "\n",
      "/work/kk319/annotation/motif_cluster_jvierstra/hg38_archetype_motifs_v1/chr17_rm_mouse.bed.gz\n",
      "chr17\t60004\t60022\tZNF140\t5.6897\t+\tZN140_HUMAN.H11MO.0.C\t1\n",
      "chr17\t60004\t60022\tZNF667\t8.0240\t-\tZN667_HUMAN.H11MO.0.C\t1\n",
      "chr17\t60006\t60015\tEbox/CAGCTG\t7.9275\t+\tMYOD1_HUMAN.H11MO.0.A\t1\n",
      "chr17\t60011\t60031\tGC-tract\t12.1220\t-\tZN341_HUMAN.H11MO.0.C\t1\n",
      "chr17\t60012\t60025\tPRDM4\t1.3083\t+\tPRDM4_C2H2_1\t1\n",
      "chr17\t60017\t60028\tNR/19\t9.6680\t-\tNR1D1_HUMAN.H11MO.0.B\t2\n",
      "chr17\t60019\t60035\tHEN1\t5.5854\t-\tHEN1_HUMAN.H11MO.0.C\t2\n",
      "chr17\t60023\t60042\tZNF680\t6.3901\t-\tZN680_HUMAN.H11MO.0.C\t1\n",
      "chr17\t60027\t60037\tSMARCA1\t7.5566\t-\tSMCA1_HUMAN.H11MO.0.C\t1\n",
      "chr17\t60027\t60040\tLEF1\t7.1402\t+\tZN350_HUMAN.H11MO.0.C\t1\n",
      "\n",
      "Show the first few lines of the output file\n",
      "/work/kk319/out/CombEffect_STARR/annotation_fragment/Input/chr17.bed.gz\n",
      "chr17\t10000001\t10000909\t1\tchr17\t10000008\t10000028\tZNF134\t7.0903\t+\tZN134_HUMAN.H11MO.0.C\t1\t20\n",
      "chr17\t10000001\t10000909\t1\tchr17\t10000019\t10000031\tGRHL\t7.0060\t-\tGRHL1_CP2_1\t1\t12\n",
      "chr17\t10000001\t10000909\t1\tchr17\t10000023\t10000030\tHD/21\t8.7180\t+\tNKX28_HUMAN.H11MO.0.C\t2\t7\n",
      "chr17\t10000001\t10000909\t1\tchr17\t10000030\t10000045\tTFCP2\t8.4378\t+\tTFCP2_CP2_2\t1\t15\n",
      "chr17\t10000001\t10000909\t1\tchr17\t10000038\t10000048\tGATA\t7.0149\t-\tGATA1+TAL1_MA0140.2\t1\t10\n",
      "chr17\t10000001\t10000909\t1\tchr17\t10000040\t10000054\tEbox/CAGATGG\t7.7562\t+\tTWST1_HUMAN.H11MO.0.A\t2\t14\n",
      "chr17\t10000001\t10000909\t1\tchr17\t10000042\t10000059\tZNF85\t6.6182\t-\tZNF85_HUMAN.H11MO.0.C\t1\t17\n",
      "chr17\t10000001\t10000909\t1\tchr17\t10000046\t10000055\tEbox/CAGCTG\t10.3655\t+\tTcf12_MA0521.1\t16\t9\n",
      "chr17\t10000001\t10000909\t1\tchr17\t10000046\t10000060\tEbox/CAGATGG\t7.7996\t-\tATOH1_HUMAN.H11MO.0.B\t3\t14\n",
      "chr17\t10000001\t10000909\t1\tchr17\t10000047\t10000054\tEbox/CACCTG\t8.6765\t-\tHTF4_HUMAN.H11MO.0.A\t2\t7\n"
     ]
    }
   ],
   "source": [
    "%%bash\n",
    "source config.sh\n",
    "FD_LOG=${FD_WRK}/log\n",
    "cat ${FD_LOG}/annot_fragment_input.txt"
   ]
  },
  {
   "cell_type": "markdown",
   "metadata": {},
   "source": [
    "## Annotate Output (DMSO)"
   ]
  },
  {
   "cell_type": "markdown",
   "metadata": {},
   "source": [
    "**Test code**"
   ]
  },
  {
   "cell_type": "code",
   "execution_count": 25,
   "metadata": {},
   "outputs": [
    {
     "name": "stdout",
     "output_type": "stream",
     "text": [
      "/work/kk319/out/CombEffect_STARR/count_fragment/TFX_DMSO/cnt_chr17.bed\n",
      "chr17\t10000013\t10001044\t1\n",
      "chr17\t10000013\t10001045\t1\n",
      "chr17\t10000026\t10001091\t1\n",
      "chr17\t10000120\t10001029\t1\n",
      "chr17\t10000120\t10001031\t1\n",
      "chr17\t10000120\t10001032\t1\n",
      "chr17\t10000120\t10001033\t2\n",
      "chr17\t10000122\t10001032\t1\n",
      "chr17\t10000122\t10001033\t1\n",
      "chr17\t10000160\t10001055\t1\n",
      "\n",
      "/work/kk319/annotation/motif_cluster_jvierstra/hg38_archetype_motifs_v1/chr17_rm_mouse.bed.gz\n",
      "chr17\t60004\t60022\tZNF140\t5.6897\t+\tZN140_HUMAN.H11MO.0.C\t1\n",
      "chr17\t60004\t60022\tZNF667\t8.0240\t-\tZN667_HUMAN.H11MO.0.C\t1\n",
      "chr17\t60006\t60015\tEbox/CAGCTG\t7.9275\t+\tMYOD1_HUMAN.H11MO.0.A\t1\n",
      "chr17\t60011\t60031\tGC-tract\t12.1220\t-\tZN341_HUMAN.H11MO.0.C\t1\n",
      "chr17\t60012\t60025\tPRDM4\t1.3083\t+\tPRDM4_C2H2_1\t1\n",
      "chr17\t60017\t60028\tNR/19\t9.6680\t-\tNR1D1_HUMAN.H11MO.0.B\t2\n",
      "chr17\t60019\t60035\tHEN1\t5.5854\t-\tHEN1_HUMAN.H11MO.0.C\t2\n",
      "chr17\t60023\t60042\tZNF680\t6.3901\t-\tZN680_HUMAN.H11MO.0.C\t1\n",
      "chr17\t60027\t60037\tSMARCA1\t7.5566\t-\tSMCA1_HUMAN.H11MO.0.C\t1\n",
      "chr17\t60027\t60040\tLEF1\t7.1402\t+\tZN350_HUMAN.H11MO.0.C\t1\n"
     ]
    }
   ],
   "source": [
    "%%bash\n",
    "source config.sh\n",
    "CHROM=chr17\n",
    "SAMPLE=TFX_DMSO\n",
    "\n",
    "### set input and output file\n",
    "FD_ANN=${FD_BASE}/annotation/motif_cluster_jvierstra/hg38_archetype_motifs_v1\n",
    "FN_ANN=${CHROM}_rm_mouse.bed.gz\n",
    "FD_BED=${FD_WRK}/count_fragment/${SAMPLE}\n",
    "FN_BED=cnt_${CHROM}.bed\n",
    "FD_OUT=${FD_WRK}/annotation_fragment/${SAMPLE}\n",
    "FN_OUT=${CHROM}.bed.gz\n",
    "\n",
    "### RUN annotation\n",
    "mkdir -p ${FD_OUT}\n",
    "FP_BED_A=${FD_BED}/${FN_BED}\n",
    "FP_BED_B=${FD_ANN}/${FN_ANN}\n",
    "FP_BED_O=${FD_OUT}/${FN_OUT}\n",
    "\n",
    "echo ${FP_BED_A}\n",
    "head ${FP_BED_A}\n",
    "echo\n",
    "echo ${FP_BED_B}\n",
    "zcat ${FP_BED_B} | head"
   ]
  },
  {
   "cell_type": "markdown",
   "metadata": {},
   "source": [
    "**RUN: fragment annotation**"
   ]
  },
  {
   "cell_type": "code",
   "execution_count": 33,
   "metadata": {},
   "outputs": [
    {
     "name": "stdout",
     "output_type": "stream",
     "text": [
      "Bedtools 2.27.1\n",
      "Submitted batch job 10969326\n"
     ]
    }
   ],
   "source": [
    "%%bash\n",
    "### set environment on HARDAC\n",
    "#module load bedtools2\n",
    "#module load perl\n",
    "#module load gcc\n",
    "#source /data/reddylab/software/miniconda2/bin/activate alex_dev\n",
    "#export PATH=/data/reddylab/software/homer/bin/:$PATH\n",
    "\n",
    "### set environment on DCC\n",
    "module load Bedtools\n",
    "source config.sh\n",
    "FD_LOG=${FD_WRK}/log\n",
    "\n",
    "### run script using sbatch\n",
    "#sbatch -pnew,all \\\n",
    "sbatch -p scavenger \\\n",
    "    --mem 15G \\\n",
    "    -o ${FD_LOG}/annot_fragment_output_dmso.txt \\\n",
    "    <<'EOF'\n",
    "#!/bin/bash\n",
    "### set directories & global variables\n",
    "source config.sh\n",
    "CHROM=chr17\n",
    "SAMPLE=TFX_DMSO\n",
    "\n",
    "### init: set input and output file\n",
    "FD_ANN=${FD_BASE}/annotation/motif_cluster_jvierstra/hg38_archetype_motifs_v1\n",
    "FN_ANN=${CHROM}_rm_mouse.bed.gz\n",
    "FD_BED=${FD_WRK}/count_fragment/${SAMPLE}\n",
    "FN_BED=cnt_${CHROM}.bed\n",
    "FD_OUT=${FD_WRK}/annotation_fragment/${SAMPLE}\n",
    "FN_OUT=${CHROM}.bed.gz\n",
    "\n",
    "### init: set input and output file path\n",
    "mkdir -p ${FD_OUT}\n",
    "FP_BED_A=${FD_BED}/${FN_BED}\n",
    "FP_BED_B=${FD_ANN}/${FN_ANN}\n",
    "FP_BED_O=${FD_OUT}/${FN_OUT}\n",
    "\n",
    "### print end message\n",
    "echo \"Slurm Array Index: \" ${SLURM_ARRAY_TASK_ID}\n",
    "echo \"Input  file: \" ${FP_BED_A}\n",
    "echo \"Input  file: \" ${FP_BED_B}\n",
    "echo \"Output file: \" ${FP_BED_O}\n",
    "echo\n",
    "echo \"Show the first few lines of the input file\"\n",
    "echo ${FP_BED_A}\n",
    "head ${FP_BED_A}\n",
    "echo\n",
    "echo ${FP_BED_B}\n",
    "zcat ${FP_BED_B} | head\n",
    "\n",
    "### RUN: annotation by intersecting two bed files\n",
    "bedtools intersect -a ${FP_BED_A} -b ${FP_BED_B} -wo | gzip -cf > ${FP_BED_O}\n",
    "\n",
    "### print end message\n",
    "echo\n",
    "echo \"Show the first few lines of the output file\"\n",
    "echo ${FP_BED_O}\n",
    "zcat ${FP_BED_O} | head\n",
    "\n",
    "EOF"
   ]
  },
  {
   "cell_type": "markdown",
   "metadata": {},
   "source": [
    "**CHECK: log file**"
   ]
  },
  {
   "cell_type": "code",
   "execution_count": 36,
   "metadata": {},
   "outputs": [
    {
     "name": "stdout",
     "output_type": "stream",
     "text": [
      "Slurm Array Index: \n",
      "Input  file:  /work/kk319/out/CombEffect_STARR/count_fragment/TFX_DMSO/cnt_chr17.bed\n",
      "Input  file:  /work/kk319/annotation/motif_cluster_jvierstra/hg38_archetype_motifs_v1/chr17_rm_mouse.bed.gz\n",
      "Output file:  /work/kk319/out/CombEffect_STARR/annotation_fragment/TFX_DMSO/chr17.bed.gz\n",
      "\n",
      "Show the first few lines of the input file\n",
      "/work/kk319/out/CombEffect_STARR/count_fragment/TFX_DMSO/cnt_chr17.bed\n",
      "chr17\t10000013\t10001044\t1\n",
      "chr17\t10000013\t10001045\t1\n",
      "chr17\t10000026\t10001091\t1\n",
      "chr17\t10000120\t10001029\t1\n",
      "chr17\t10000120\t10001031\t1\n",
      "chr17\t10000120\t10001032\t1\n",
      "chr17\t10000120\t10001033\t2\n",
      "chr17\t10000122\t10001032\t1\n",
      "chr17\t10000122\t10001033\t1\n",
      "chr17\t10000160\t10001055\t1\n",
      "\n",
      "/work/kk319/annotation/motif_cluster_jvierstra/hg38_archetype_motifs_v1/chr17_rm_mouse.bed.gz\n",
      "chr17\t60004\t60022\tZNF140\t5.6897\t+\tZN140_HUMAN.H11MO.0.C\t1\n",
      "chr17\t60004\t60022\tZNF667\t8.0240\t-\tZN667_HUMAN.H11MO.0.C\t1\n",
      "chr17\t60006\t60015\tEbox/CAGCTG\t7.9275\t+\tMYOD1_HUMAN.H11MO.0.A\t1\n",
      "chr17\t60011\t60031\tGC-tract\t12.1220\t-\tZN341_HUMAN.H11MO.0.C\t1\n",
      "chr17\t60012\t60025\tPRDM4\t1.3083\t+\tPRDM4_C2H2_1\t1\n",
      "chr17\t60017\t60028\tNR/19\t9.6680\t-\tNR1D1_HUMAN.H11MO.0.B\t2\n",
      "chr17\t60019\t60035\tHEN1\t5.5854\t-\tHEN1_HUMAN.H11MO.0.C\t2\n",
      "chr17\t60023\t60042\tZNF680\t6.3901\t-\tZN680_HUMAN.H11MO.0.C\t1\n",
      "chr17\t60027\t60037\tSMARCA1\t7.5566\t-\tSMCA1_HUMAN.H11MO.0.C\t1\n",
      "chr17\t60027\t60040\tLEF1\t7.1402\t+\tZN350_HUMAN.H11MO.0.C\t1\n",
      "\n",
      "Show the first few lines of the output file\n",
      "/work/kk319/out/CombEffect_STARR/annotation_fragment/TFX_DMSO/chr17.bed.gz\n",
      "chr17\t10000013\t10001044\t1\tchr17\t10000008\t10000028\tZNF134\t7.0903\t+\tZN134_HUMAN.H11MO.0.C\t1\t15\n",
      "chr17\t10000013\t10001044\t1\tchr17\t10000019\t10000031\tGRHL\t7.0060\t-\tGRHL1_CP2_1\t1\t12\n",
      "chr17\t10000013\t10001044\t1\tchr17\t10000023\t10000030\tHD/21\t8.7180\t+\tNKX28_HUMAN.H11MO.0.C\t2\t7\n",
      "chr17\t10000013\t10001044\t1\tchr17\t10000030\t10000045\tTFCP2\t8.4378\t+\tTFCP2_CP2_2\t1\t15\n",
      "chr17\t10000013\t10001044\t1\tchr17\t10000038\t10000048\tGATA\t7.0149\t-\tGATA1+TAL1_MA0140.2\t1\t10\n",
      "chr17\t10000013\t10001044\t1\tchr17\t10000040\t10000054\tEbox/CAGATGG\t7.7562\t+\tTWST1_HUMAN.H11MO.0.A\t2\t14\n",
      "chr17\t10000013\t10001044\t1\tchr17\t10000042\t10000059\tZNF85\t6.6182\t-\tZNF85_HUMAN.H11MO.0.C\t1\t17\n",
      "chr17\t10000013\t10001044\t1\tchr17\t10000046\t10000055\tEbox/CAGCTG\t10.3655\t+\tTcf12_MA0521.1\t16\t9\n",
      "chr17\t10000013\t10001044\t1\tchr17\t10000046\t10000060\tEbox/CAGATGG\t7.7996\t-\tATOH1_HUMAN.H11MO.0.B\t3\t14\n",
      "chr17\t10000013\t10001044\t1\tchr17\t10000047\t10000054\tEbox/CACCTG\t8.6765\t-\tHTF4_HUMAN.H11MO.0.A\t2\t7\n"
     ]
    }
   ],
   "source": [
    "%%bash\n",
    "source config.sh\n",
    "FD_LOG=${FD_WRK}/log\n",
    "cat ${FD_LOG}/annot_fragment_output_dmso.txt"
   ]
  },
  {
   "cell_type": "markdown",
   "metadata": {},
   "source": [
    "## Annotate Output (Dex)"
   ]
  },
  {
   "cell_type": "markdown",
   "metadata": {},
   "source": [
    "**Test code**"
   ]
  },
  {
   "cell_type": "code",
   "execution_count": 27,
   "metadata": {},
   "outputs": [
    {
     "name": "stdout",
     "output_type": "stream",
     "text": [
      "/work/kk319/out/CombEffect_STARR/count_fragment/TFX_Dex/cnt_chr17.bed\n",
      "chr17\t10000013\t10001044\t1\n",
      "chr17\t10000013\t10001045\t2\n",
      "chr17\t10000014\t10001044\t1\n",
      "chr17\t10000014\t10001045\t1\n",
      "chr17\t10000026\t10001090\t1\n",
      "chr17\t10000090\t10001098\t1\n",
      "chr17\t10000091\t10001100\t1\n",
      "chr17\t10000103\t10001181\t1\n",
      "chr17\t10000140\t10001107\t1\n",
      "chr17\t10000140\t10001110\t1\n",
      "\n",
      "/work/kk319/annotation/motif_cluster_jvierstra/hg38_archetype_motifs_v1/chr17_rm_mouse.bed.gz\n",
      "chr17\t60004\t60022\tZNF140\t5.6897\t+\tZN140_HUMAN.H11MO.0.C\t1\n",
      "chr17\t60004\t60022\tZNF667\t8.0240\t-\tZN667_HUMAN.H11MO.0.C\t1\n",
      "chr17\t60006\t60015\tEbox/CAGCTG\t7.9275\t+\tMYOD1_HUMAN.H11MO.0.A\t1\n",
      "chr17\t60011\t60031\tGC-tract\t12.1220\t-\tZN341_HUMAN.H11MO.0.C\t1\n",
      "chr17\t60012\t60025\tPRDM4\t1.3083\t+\tPRDM4_C2H2_1\t1\n",
      "chr17\t60017\t60028\tNR/19\t9.6680\t-\tNR1D1_HUMAN.H11MO.0.B\t2\n",
      "chr17\t60019\t60035\tHEN1\t5.5854\t-\tHEN1_HUMAN.H11MO.0.C\t2\n",
      "chr17\t60023\t60042\tZNF680\t6.3901\t-\tZN680_HUMAN.H11MO.0.C\t1\n",
      "chr17\t60027\t60037\tSMARCA1\t7.5566\t-\tSMCA1_HUMAN.H11MO.0.C\t1\n",
      "chr17\t60027\t60040\tLEF1\t7.1402\t+\tZN350_HUMAN.H11MO.0.C\t1\n"
     ]
    }
   ],
   "source": [
    "%%bash\n",
    "source config.sh\n",
    "CHROM=chr17\n",
    "SAMPLE=TFX_Dex\n",
    "\n",
    "### set input and output file\n",
    "FD_ANN=${FD_BASE}/annotation/motif_cluster_jvierstra/hg38_archetype_motifs_v1\n",
    "FN_ANN=${CHROM}_rm_mouse.bed.gz\n",
    "FD_BED=${FD_WRK}/count_fragment/${SAMPLE}\n",
    "FN_BED=cnt_${CHROM}.bed\n",
    "FD_OUT=${FD_WRK}/annotation_fragment/${SAMPLE}\n",
    "FN_OUT=${CHROM}.bed.gz\n",
    "\n",
    "### RUN annotation\n",
    "mkdir -p ${FD_OUT}\n",
    "FP_BED_A=${FD_BED}/${FN_BED}\n",
    "FP_BED_B=${FD_ANN}/${FN_ANN}\n",
    "FP_BED_O=${FD_OUT}/${FN_OUT}\n",
    "\n",
    "echo ${FP_BED_A}\n",
    "head ${FP_BED_A}\n",
    "echo\n",
    "echo ${FP_BED_B}\n",
    "zcat ${FP_BED_B} | head"
   ]
  },
  {
   "cell_type": "markdown",
   "metadata": {},
   "source": [
    "**RUN: fragment annotation**"
   ]
  },
  {
   "cell_type": "code",
   "execution_count": 34,
   "metadata": {},
   "outputs": [
    {
     "name": "stdout",
     "output_type": "stream",
     "text": [
      "Bedtools 2.27.1\n",
      "Submitted batch job 10969400\n"
     ]
    }
   ],
   "source": [
    "%%bash\n",
    "### set environment on HARDAC\n",
    "#module load bedtools2\n",
    "#module load perl\n",
    "#module load gcc\n",
    "#source /data/reddylab/software/miniconda2/bin/activate alex_dev\n",
    "#export PATH=/data/reddylab/software/homer/bin/:$PATH\n",
    "\n",
    "### set environment on DCC\n",
    "module load Bedtools\n",
    "source config.sh\n",
    "FD_LOG=${FD_WRK}/log\n",
    "\n",
    "### run script using sbatch\n",
    "#sbatch -pnew,all \\\n",
    "sbatch -p scavenger \\\n",
    "    --mem 15G \\\n",
    "    -o ${FD_LOG}/annot_fragment_output_dex.txt \\\n",
    "    <<'EOF'\n",
    "#!/bin/bash\n",
    "### set directories & global variables\n",
    "source config.sh\n",
    "CHROM=chr17\n",
    "SAMPLE=TFX_Dex\n",
    "\n",
    "### init: set input and output file\n",
    "FD_ANN=${FD_BASE}/annotation/motif_cluster_jvierstra/hg38_archetype_motifs_v1\n",
    "FN_ANN=${CHROM}_rm_mouse.bed.gz\n",
    "FD_BED=${FD_WRK}/count_fragment/${SAMPLE}\n",
    "FN_BED=cnt_${CHROM}.bed\n",
    "FD_OUT=${FD_WRK}/annotation_fragment/${SAMPLE}\n",
    "FN_OUT=${CHROM}.bed.gz\n",
    "\n",
    "### init: set input and output file path\n",
    "mkdir -p ${FD_OUT}\n",
    "FP_BED_A=${FD_BED}/${FN_BED}\n",
    "FP_BED_B=${FD_ANN}/${FN_ANN}\n",
    "FP_BED_O=${FD_OUT}/${FN_OUT}\n",
    "\n",
    "### print end message\n",
    "echo \"Slurm Array Index: \" ${SLURM_ARRAY_TASK_ID}\n",
    "echo \"Input  file: \" ${FP_BED_A}\n",
    "echo \"Input  file: \" ${FP_BED_B}\n",
    "echo \"Output file: \" ${FP_BED_O}\n",
    "echo\n",
    "echo \"Show the first few lines of the input file\"\n",
    "echo ${FP_BED_A}\n",
    "head ${FP_BED_A}\n",
    "echo\n",
    "echo ${FP_BED_B}\n",
    "zcat ${FP_BED_B} | head\n",
    "\n",
    "### RUN: annotation by intersecting two bed files\n",
    "bedtools intersect -a ${FP_BED_A} -b ${FP_BED_B} -wo | gzip -cf > ${FP_BED_O}\n",
    "\n",
    "### print end message\n",
    "echo\n",
    "echo \"Show the first few lines of the output file\"\n",
    "echo ${FP_BED_O}\n",
    "zcat ${FP_BED_O} | head\n",
    "\n",
    "EOF"
   ]
  },
  {
   "cell_type": "markdown",
   "metadata": {},
   "source": [
    "**CHECK: log file**"
   ]
  },
  {
   "cell_type": "code",
   "execution_count": 37,
   "metadata": {},
   "outputs": [
    {
     "name": "stdout",
     "output_type": "stream",
     "text": [
      "Slurm Array Index: \n",
      "Input  file:  /work/kk319/out/CombEffect_STARR/count_fragment/TFX_Dex/cnt_chr17.bed\n",
      "Input  file:  /work/kk319/annotation/motif_cluster_jvierstra/hg38_archetype_motifs_v1/chr17_rm_mouse.bed.gz\n",
      "Output file:  /work/kk319/out/CombEffect_STARR/annotation_fragment/TFX_Dex/chr17.bed.gz\n",
      "\n",
      "Show the first few lines of the input file\n",
      "/work/kk319/out/CombEffect_STARR/count_fragment/TFX_Dex/cnt_chr17.bed\n",
      "chr17\t10000013\t10001044\t1\n",
      "chr17\t10000013\t10001045\t2\n",
      "chr17\t10000014\t10001044\t1\n",
      "chr17\t10000014\t10001045\t1\n",
      "chr17\t10000026\t10001090\t1\n",
      "chr17\t10000090\t10001098\t1\n",
      "chr17\t10000091\t10001100\t1\n",
      "chr17\t10000103\t10001181\t1\n",
      "chr17\t10000140\t10001107\t1\n",
      "chr17\t10000140\t10001110\t1\n",
      "\n",
      "/work/kk319/annotation/motif_cluster_jvierstra/hg38_archetype_motifs_v1/chr17_rm_mouse.bed.gz\n",
      "chr17\t60004\t60022\tZNF140\t5.6897\t+\tZN140_HUMAN.H11MO.0.C\t1\n",
      "chr17\t60004\t60022\tZNF667\t8.0240\t-\tZN667_HUMAN.H11MO.0.C\t1\n",
      "chr17\t60006\t60015\tEbox/CAGCTG\t7.9275\t+\tMYOD1_HUMAN.H11MO.0.A\t1\n",
      "chr17\t60011\t60031\tGC-tract\t12.1220\t-\tZN341_HUMAN.H11MO.0.C\t1\n",
      "chr17\t60012\t60025\tPRDM4\t1.3083\t+\tPRDM4_C2H2_1\t1\n",
      "chr17\t60017\t60028\tNR/19\t9.6680\t-\tNR1D1_HUMAN.H11MO.0.B\t2\n",
      "chr17\t60019\t60035\tHEN1\t5.5854\t-\tHEN1_HUMAN.H11MO.0.C\t2\n",
      "chr17\t60023\t60042\tZNF680\t6.3901\t-\tZN680_HUMAN.H11MO.0.C\t1\n",
      "chr17\t60027\t60037\tSMARCA1\t7.5566\t-\tSMCA1_HUMAN.H11MO.0.C\t1\n",
      "chr17\t60027\t60040\tLEF1\t7.1402\t+\tZN350_HUMAN.H11MO.0.C\t1\n",
      "\n",
      "Show the first few lines of the output file\n",
      "/work/kk319/out/CombEffect_STARR/annotation_fragment/TFX_Dex/chr17.bed.gz\n",
      "chr17\t10000013\t10001044\t1\tchr17\t10000008\t10000028\tZNF134\t7.0903\t+\tZN134_HUMAN.H11MO.0.C\t1\t15\n",
      "chr17\t10000013\t10001044\t1\tchr17\t10000019\t10000031\tGRHL\t7.0060\t-\tGRHL1_CP2_1\t1\t12\n",
      "chr17\t10000013\t10001044\t1\tchr17\t10000023\t10000030\tHD/21\t8.7180\t+\tNKX28_HUMAN.H11MO.0.C\t2\t7\n",
      "chr17\t10000013\t10001044\t1\tchr17\t10000030\t10000045\tTFCP2\t8.4378\t+\tTFCP2_CP2_2\t1\t15\n",
      "chr17\t10000013\t10001044\t1\tchr17\t10000038\t10000048\tGATA\t7.0149\t-\tGATA1+TAL1_MA0140.2\t1\t10\n",
      "chr17\t10000013\t10001044\t1\tchr17\t10000040\t10000054\tEbox/CAGATGG\t7.7562\t+\tTWST1_HUMAN.H11MO.0.A\t2\t14\n",
      "chr17\t10000013\t10001044\t1\tchr17\t10000042\t10000059\tZNF85\t6.6182\t-\tZNF85_HUMAN.H11MO.0.C\t1\t17\n",
      "chr17\t10000013\t10001044\t1\tchr17\t10000046\t10000055\tEbox/CAGCTG\t10.3655\t+\tTcf12_MA0521.1\t16\t9\n",
      "chr17\t10000013\t10001044\t1\tchr17\t10000046\t10000060\tEbox/CAGATGG\t7.7996\t-\tATOH1_HUMAN.H11MO.0.B\t3\t14\n",
      "chr17\t10000013\t10001044\t1\tchr17\t10000047\t10000054\tEbox/CACCTG\t8.6765\t-\tHTF4_HUMAN.H11MO.0.A\t2\t7\n"
     ]
    }
   ],
   "source": [
    "%%bash\n",
    "source config.sh\n",
    "FD_LOG=${FD_WRK}/log\n",
    "cat ${FD_LOG}/annot_fragment_output_dex.txt"
   ]
  },
  {
   "cell_type": "markdown",
   "metadata": {},
   "source": [
    "## Arrange annotation"
   ]
  },
  {
   "cell_type": "code",
   "execution_count": 3,
   "metadata": {},
   "outputs": [
    {
     "name": "stdout",
     "output_type": "stream",
     "text": [
      "chr17\t10000013\t10001044\t1\tchr17\t10000008\t10000028\tZNF134\t7.0903\t+\tZN134_HUMAN.H11MO.0.C\t1\t15\n",
      "chr17\t10000013\t10001044\t1\tchr17\t10000019\t10000031\tGRHL\t7.0060\t-\tGRHL1_CP2_1\t1\t12\n",
      "chr17\t10000013\t10001044\t1\tchr17\t10000023\t10000030\tHD/21\t8.7180\t+\tNKX28_HUMAN.H11MO.0.C\t2\t7\n",
      "chr17\t10000013\t10001044\t1\tchr17\t10000030\t10000045\tTFCP2\t8.4378\t+\tTFCP2_CP2_2\t1\t15\n",
      "chr17\t10000013\t10001044\t1\tchr17\t10000038\t10000048\tGATA\t7.0149\t-\tGATA1+TAL1_MA0140.2\t1\t10\n",
      "chr17\t10000013\t10001044\t1\tchr17\t10000040\t10000054\tEbox/CAGATGG\t7.7562\t+\tTWST1_HUMAN.H11MO.0.A\t2\t14\n",
      "chr17\t10000013\t10001044\t1\tchr17\t10000042\t10000059\tZNF85\t6.6182\t-\tZNF85_HUMAN.H11MO.0.C\t1\t17\n",
      "chr17\t10000013\t10001044\t1\tchr17\t10000046\t10000055\tEbox/CAGCTG\t10.3655\t+\tTcf12_MA0521.1\t16\t9\n",
      "chr17\t10000013\t10001044\t1\tchr17\t10000046\t10000060\tEbox/CAGATGG\t7.7996\t-\tATOH1_HUMAN.H11MO.0.B\t3\t14\n",
      "chr17\t10000013\t10001044\t1\tchr17\t10000047\t10000054\tEbox/CACCTG\t8.6765\t-\tHTF4_HUMAN.H11MO.0.A\t2\t7\n"
     ]
    }
   ],
   "source": [
    "%%bash\n",
    "FP_OUT=/work/kk319/out/CombEffect_STARR/annotation_fragment/TFX_Dex/chr17.bed.gz\n",
    "zcat ${FP_OUT} | head"
   ]
  },
  {
   "cell_type": "code",
   "execution_count": 4,
   "metadata": {},
   "outputs": [
    {
     "name": "stdout",
     "output_type": "stream",
     "text": [
      "chr17\t10000013\t10001044\t1\tZNF134\n",
      "chr17\t10000013\t10001044\t1\tGRHL\n",
      "chr17\t10000013\t10001044\t1\tHD/21\n",
      "chr17\t10000013\t10001044\t1\tTFCP2\n",
      "chr17\t10000013\t10001044\t1\tGATA\n",
      "chr17\t10000013\t10001044\t1\tEbox/CAGATGG\n",
      "chr17\t10000013\t10001044\t1\tZNF85\n",
      "chr17\t10000013\t10001044\t1\tEbox/CAGCTG\n",
      "chr17\t10000013\t10001044\t1\tEbox/CAGATGG\n",
      "chr17\t10000013\t10001044\t1\tEbox/CACCTG\n"
     ]
    }
   ],
   "source": [
    "%%bash\n",
    "FP_OUT=/work/kk319/out/CombEffect_STARR/annotation_fragment/TFX_Dex/chr17.bed.gz\n",
    "zcat ${FP_OUT} | head | cut -f1-4,8"
   ]
  },
  {
   "cell_type": "code",
   "execution_count": 9,
   "metadata": {},
   "outputs": [
    {
     "name": "stdout",
     "output_type": "stream",
     "text": [
      "chr17\t10000013\t10001044\t1\tBATF\t2\n",
      "chr17\t10000013\t10001044\t1\tCTCF\t1\n",
      "chr17\t10000013\t10001044\t1\tEBF1\t1\n",
      "chr17\t10000013\t10001044\t1\tEbox/CACCTG\t1\n",
      "chr17\t10000013\t10001044\t1\tEbox/CAGATGG\t2\n",
      "chr17\t10000013\t10001044\t1\tEbox/CAGCTG\t1\n",
      "chr17\t10000013\t10001044\t1\tGATA\t1\n",
      "chr17\t10000013\t10001044\t1\tGRHL\t1\n",
      "chr17\t10000013\t10001044\t1\tHD/18\t1\n",
      "chr17\t10000013\t10001044\t1\tHD/21\t1\n",
      "chr17\t10000013\t10001044\t1\tINSM1\t1\n",
      "chr17\t10000013\t10001044\t1\tKLF/SP/2\t1\n",
      "chr17\t10000013\t10001044\t1\tMFZ1\t1\n",
      "chr17\t10000013\t10001044\t1\tPOU/1\t1\n",
      "chr17\t10000013\t10001044\t1\tSMAD\t1\n",
      "chr17\t10000013\t10001044\t1\tTFCP2\t1\n",
      "chr17\t10000013\t10001044\t1\tZNF134\t1\n",
      "chr17\t10000013\t10001044\t1\tZNF85\t1\n"
     ]
    }
   ],
   "source": [
    "%%bash\n",
    "FP_OUT=/work/kk319/out/CombEffect_STARR/annotation_fragment/TFX_Dex/chr17.bed.gz\n",
    "zcat ${FP_OUT} | head -20 |\\\n",
    "    cut -f1-4,8 |\\\n",
    "    sort    |\\\n",
    "    uniq -c |\\\n",
    "    awk '{$(NF+1)=$1;$1=\"\"}1'   |\\\n",
    "    sed -e 's/^[[:space:]]*//'  |\\\n",
    "    sed -e 's/[[:space:]]/\\t/g'"
   ]
  },
  {
   "cell_type": "markdown",
   "metadata": {},
   "source": [
    "**Summarize annotation (Input)**"
   ]
  },
  {
   "cell_type": "code",
   "execution_count": 12,
   "metadata": {},
   "outputs": [
    {
     "name": "stdout",
     "output_type": "stream",
     "text": [
      "Bedtools 2.27.1\n",
      "Submitted batch job 11057065\n"
     ]
    }
   ],
   "source": [
    "%%bash\n",
    "### set environment on HARDAC\n",
    "#module load bedtools2\n",
    "#module load perl\n",
    "#module load gcc\n",
    "#source /data/reddylab/software/miniconda2/bin/activate alex_dev\n",
    "#export PATH=/data/reddylab/software/homer/bin/:$PATH\n",
    "\n",
    "### set environment on DCC\n",
    "module load Bedtools\n",
    "source config.sh\n",
    "FD_LOG=${FD_WRK}/log\n",
    "\n",
    "### run script using sbatch\n",
    "#sbatch -pnew,all \\\n",
    "sbatch -p scavenger \\\n",
    "    --mem 8G \\\n",
    "    -o ${FD_LOG}/annot_fragment_count_input.txt \\\n",
    "    <<'EOF'\n",
    "#!/bin/bash\n",
    "### set directories & global variables\n",
    "source config.sh\n",
    "CHROM=chr17\n",
    "SAMPLE=Input\n",
    "\n",
    "### init: set input and output file\n",
    "FD_OUT=${FD_WRK}/annotation_fragment/${SAMPLE}\n",
    "FN_INT=${CHROM}.bed.gz\n",
    "FN_OUT=cnt_${CHROM}.bed.gz\n",
    "\n",
    "### print end message\n",
    "echo \"Slurm Array Index: \" ${SLURM_ARRAY_TASK_ID}\n",
    "echo \"Input  file: \" ${FD_OUT}/${FN_INT}\n",
    "echo \"Output file: \" ${FD_OUT}/${FN_OUT}\n",
    "echo\n",
    "echo \"Show the first few lines of the input file\"\n",
    "echo ${FD_OUT}/${FN_INT}\n",
    "zcat ${FD_OUT}/${FN_INT} | head\n",
    "\n",
    "### RUN: annotation by intersecting two bed files\n",
    "zcat ${FD_OUT}/${FN_INT} |\\\n",
    "    cut -f1-4,8 |\\\n",
    "    sort    |\\\n",
    "    uniq -c |\\\n",
    "    awk '{$(NF+1)=$1;$1=\"\"}1'   |\\\n",
    "    sed -e 's/^[[:space:]]*//'  |\\\n",
    "    sed -e 's/[[:space:]]/\\t/g' |\\\n",
    "    gzip -cf > ${FD_OUT}/${FN_OUT}\n",
    "\n",
    "### print end message\n",
    "echo\n",
    "echo \"Show the first few lines of the output file\"\n",
    "echo ${FD_OUT}/${FN_OUT}\n",
    "zcat ${FD_OUT}/${FN_OUT} | head\n",
    "\n",
    "EOF"
   ]
  },
  {
   "cell_type": "code",
   "execution_count": 11,
   "metadata": {},
   "outputs": [
    {
     "name": "stdout",
     "output_type": "stream",
     "text": [
      "Slurm Array Index: \n",
      "Input  file:  /work/kk319/out/CombEffect_STARR/annotation_fragment/TFX_Dex/chr17.bed.gz\n",
      "Output file:  /work/kk319/out/CombEffect_STARR/annotation_fragment/TFX_Dex/cnt_chr17.bed.gz\n",
      "\n",
      "Show the first few lines of the input file\n",
      "/work/kk319/out/CombEffect_STARR/annotation_fragment/TFX_Dex/chr17.bed.gz\n",
      "chr17\t10000013\t10001044\t1\tchr17\t10000008\t10000028\tZNF134\t7.0903\t+\tZN134_HUMAN.H11MO.0.C\t1\t15\n",
      "chr17\t10000013\t10001044\t1\tchr17\t10000019\t10000031\tGRHL\t7.0060\t-\tGRHL1_CP2_1\t1\t12\n",
      "chr17\t10000013\t10001044\t1\tchr17\t10000023\t10000030\tHD/21\t8.7180\t+\tNKX28_HUMAN.H11MO.0.C\t2\t7\n",
      "chr17\t10000013\t10001044\t1\tchr17\t10000030\t10000045\tTFCP2\t8.4378\t+\tTFCP2_CP2_2\t1\t15\n",
      "chr17\t10000013\t10001044\t1\tchr17\t10000038\t10000048\tGATA\t7.0149\t-\tGATA1+TAL1_MA0140.2\t1\t10\n",
      "chr17\t10000013\t10001044\t1\tchr17\t10000040\t10000054\tEbox/CAGATGG\t7.7562\t+\tTWST1_HUMAN.H11MO.0.A\t2\t14\n",
      "chr17\t10000013\t10001044\t1\tchr17\t10000042\t10000059\tZNF85\t6.6182\t-\tZNF85_HUMAN.H11MO.0.C\t1\t17\n",
      "chr17\t10000013\t10001044\t1\tchr17\t10000046\t10000055\tEbox/CAGCTG\t10.3655\t+\tTcf12_MA0521.1\t16\t9\n",
      "chr17\t10000013\t10001044\t1\tchr17\t10000046\t10000060\tEbox/CAGATGG\t7.7996\t-\tATOH1_HUMAN.H11MO.0.B\t3\t14\n",
      "chr17\t10000013\t10001044\t1\tchr17\t10000047\t10000054\tEbox/CACCTG\t8.6765\t-\tHTF4_HUMAN.H11MO.0.A\t2\t7\n",
      "\n",
      "Show the first few lines of the output file\n",
      "/work/kk319/out/CombEffect_STARR/annotation_fragment/TFX_Dex/cnt_chr17.bed.gz\n",
      "chr17\t10000013\t10001044\t1\tBATF\t2\n",
      "chr17\t10000013\t10001044\t1\tCTCF\t1\n",
      "chr17\t10000013\t10001044\t1\tEBF1\t1\n",
      "chr17\t10000013\t10001044\t1\tEbox/CACCTG\t1\n",
      "chr17\t10000013\t10001044\t1\tEbox/CAGATGG\t2\n",
      "chr17\t10000013\t10001044\t1\tEbox/CAGCTG\t1\n",
      "chr17\t10000013\t10001044\t1\tGATA\t1\n",
      "chr17\t10000013\t10001044\t1\tGRHL\t1\n",
      "chr17\t10000013\t10001044\t1\tHD/18\t1\n",
      "chr17\t10000013\t10001044\t1\tHD/21\t1\n"
     ]
    }
   ],
   "source": [
    "%%bash\n",
    "source config.sh\n",
    "FD_LOG=${FD_WRK}/log\n",
    "cat ${FD_LOG}/annot_fragment_count_input.txt"
   ]
  },
  {
   "cell_type": "markdown",
   "metadata": {},
   "source": [
    "**Summarize annotation (Output; DMSO)**"
   ]
  },
  {
   "cell_type": "code",
   "execution_count": 13,
   "metadata": {},
   "outputs": [
    {
     "name": "stdout",
     "output_type": "stream",
     "text": [
      "Bedtools 2.27.1\n",
      "Submitted batch job 11057084\n"
     ]
    }
   ],
   "source": [
    "%%bash\n",
    "### set environment on HARDAC\n",
    "#module load bedtools2\n",
    "#module load perl\n",
    "#module load gcc\n",
    "#source /data/reddylab/software/miniconda2/bin/activate alex_dev\n",
    "#export PATH=/data/reddylab/software/homer/bin/:$PATH\n",
    "\n",
    "### set environment on DCC\n",
    "module load Bedtools\n",
    "source config.sh\n",
    "FD_LOG=${FD_WRK}/log\n",
    "\n",
    "### run script using sbatch\n",
    "#sbatch -pnew,all \\\n",
    "sbatch -p scavenger \\\n",
    "    --mem 8G \\\n",
    "    -o ${FD_LOG}/annot_fragment_count_output_dmso.txt \\\n",
    "    <<'EOF'\n",
    "#!/bin/bash\n",
    "### set directories & global variables\n",
    "source config.sh\n",
    "CHROM=chr17\n",
    "SAMPLE=TFX_DMSO\n",
    "\n",
    "### init: set input and output file\n",
    "FD_OUT=${FD_WRK}/annotation_fragment/${SAMPLE}\n",
    "FN_INT=${CHROM}.bed.gz\n",
    "FN_OUT=cnt_${CHROM}.bed.gz\n",
    "\n",
    "### print end message\n",
    "echo \"Slurm Array Index: \" ${SLURM_ARRAY_TASK_ID}\n",
    "echo \"Input  file: \" ${FD_OUT}/${FN_INT}\n",
    "echo \"Output file: \" ${FD_OUT}/${FN_OUT}\n",
    "echo\n",
    "echo \"Show the first few lines of the input file\"\n",
    "echo ${FD_OUT}/${FN_INT}\n",
    "zcat ${FD_OUT}/${FN_INT} | head\n",
    "\n",
    "### RUN: annotation by intersecting two bed files\n",
    "zcat ${FD_OUT}/${FN_INT} |\\\n",
    "    cut -f1-4,8 |\\\n",
    "    sort    |\\\n",
    "    uniq -c |\\\n",
    "    awk '{$(NF+1)=$1;$1=\"\"}1'   |\\\n",
    "    sed -e 's/^[[:space:]]*//'  |\\\n",
    "    sed -e 's/[[:space:]]/\\t/g' |\\\n",
    "    gzip -cf > ${FD_OUT}/${FN_OUT}\n",
    "\n",
    "### print end message\n",
    "echo\n",
    "echo \"Show the first few lines of the output file\"\n",
    "echo ${FD_OUT}/${FN_OUT}\n",
    "zcat ${FD_OUT}/${FN_OUT} | head\n",
    "\n",
    "EOF"
   ]
  },
  {
   "cell_type": "code",
   "execution_count": null,
   "metadata": {},
   "outputs": [],
   "source": [
    "%%bash\n",
    "source config.sh\n",
    "FD_LOG=${FD_WRK}/log\n",
    "cat ${FD_LOG}/annot_fragment_count_output_dmso.txt"
   ]
  },
  {
   "cell_type": "markdown",
   "metadata": {},
   "source": [
    "**Summarize annotation (Output; Dex)**"
   ]
  },
  {
   "cell_type": "code",
   "execution_count": 14,
   "metadata": {},
   "outputs": [
    {
     "name": "stdout",
     "output_type": "stream",
     "text": [
      "Bedtools 2.27.1\n",
      "Submitted batch job 11057163\n"
     ]
    }
   ],
   "source": [
    "%%bash\n",
    "### set environment on HARDAC\n",
    "#module load bedtools2\n",
    "#module load perl\n",
    "#module load gcc\n",
    "#source /data/reddylab/software/miniconda2/bin/activate alex_dev\n",
    "#export PATH=/data/reddylab/software/homer/bin/:$PATH\n",
    "\n",
    "### set environment on DCC\n",
    "module load Bedtools\n",
    "source config.sh\n",
    "FD_LOG=${FD_WRK}/log\n",
    "\n",
    "### run script using sbatch\n",
    "#sbatch -pnew,all \\\n",
    "sbatch -p scavenger \\\n",
    "    --mem 8G \\\n",
    "    -o ${FD_LOG}/annot_fragment_count_output_dex.txt \\\n",
    "    <<'EOF'\n",
    "#!/bin/bash\n",
    "### set directories & global variables\n",
    "source config.sh\n",
    "CHROM=chr17\n",
    "SAMPLE=TFX_Dex\n",
    "\n",
    "### init: set input and output file\n",
    "FD_OUT=${FD_WRK}/annotation_fragment/${SAMPLE}\n",
    "FN_INT=${CHROM}.bed.gz\n",
    "FN_OUT=cnt_${CHROM}.bed.gz\n",
    "\n",
    "### print end message\n",
    "echo \"Slurm Array Index: \" ${SLURM_ARRAY_TASK_ID}\n",
    "echo \"Input  file: \" ${FD_OUT}/${FN_INT}\n",
    "echo \"Output file: \" ${FD_OUT}/${FN_OUT}\n",
    "echo\n",
    "echo \"Show the first few lines of the input file\"\n",
    "echo ${FD_OUT}/${FN_INT}\n",
    "zcat ${FD_OUT}/${FN_INT} | head\n",
    "\n",
    "### RUN: annotation by intersecting two bed files\n",
    "zcat ${FD_OUT}/${FN_INT} |\\\n",
    "    cut -f1-4,8 |\\\n",
    "    sort    |\\\n",
    "    uniq -c |\\\n",
    "    awk '{$(NF+1)=$1;$1=\"\"}1'   |\\\n",
    "    sed -e 's/^[[:space:]]*//'  |\\\n",
    "    sed -e 's/[[:space:]]/\\t/g' |\\\n",
    "    gzip -cf > ${FD_OUT}/${FN_OUT}\n",
    "\n",
    "### print end message\n",
    "echo\n",
    "echo \"Show the first few lines of the output file\"\n",
    "echo ${FD_OUT}/${FN_OUT}\n",
    "zcat ${FD_OUT}/${FN_OUT} | head\n",
    "\n",
    "EOF"
   ]
  },
  {
   "cell_type": "code",
   "execution_count": null,
   "metadata": {},
   "outputs": [],
   "source": [
    "%%bash\n",
    "source config.sh\n",
    "FD_LOG=${FD_WRK}/log\n",
    "cat ${FD_LOG}/annot_fragment_count_output_dex.txt"
   ]
  },
  {
   "cell_type": "code",
   "execution_count": null,
   "metadata": {},
   "outputs": [],
   "source": []
  },
  {
   "cell_type": "code",
   "execution_count": null,
   "metadata": {},
   "outputs": [],
   "source": []
  },
  {
   "cell_type": "markdown",
   "metadata": {},
   "source": [
    "## Example: NR3C1 and AP-1 (JUN/FOS)"
   ]
  },
  {
   "cell_type": "markdown",
   "metadata": {},
   "source": [
    "NR3C1\n",
    "```\n",
    "248 | NR/20 | nuclearreceptor\n",
    "```\n",
    "\n",
    "AP-1 binding sites (JUN or FOS)\n",
    "```\n",
    "49 | CREB/ATF/1 | bZIP\n",
    "50 | CREB/ATF/2 | bZIP\n",
    "54 | AP1/1 | bZIP\n",
    "```"
   ]
  },
  {
   "cell_type": "code",
   "execution_count": 28,
   "metadata": {},
   "outputs": [
    {
     "name": "stdout",
     "output_type": "stream",
     "text": [
      "Submitted batch job 11061726\n"
     ]
    }
   ],
   "source": [
    "%%bash\n",
    "### set environment on DCC\n",
    "source config.sh\n",
    "FD_LOG=${FD_WRK}/log\n",
    "\n",
    "### run script using sbatch\n",
    "#sbatch -pnew,all \\\n",
    "sbatch -p scavenger \\\n",
    "    --mem 8G \\\n",
    "    -o ${FD_LOG}/test_get_motif_cluster_input_cluster248.txt \\\n",
    "    <<'EOF'\n",
    "#!/bin/bash\n",
    "FD_OUT=/work/kk319/out/CombEffect_STARR/annotation_fragment/Input\n",
    "zcat ${FD_OUT}/chr17.bed.gz | grep NR/20      > ${FD_OUT}/cluster248.bed\n",
    "\n",
    "EOF"
   ]
  },
  {
   "cell_type": "code",
   "execution_count": 29,
   "metadata": {},
   "outputs": [
    {
     "name": "stdout",
     "output_type": "stream",
     "text": [
      "Submitted batch job 11061728\n"
     ]
    }
   ],
   "source": [
    "%%bash\n",
    "### set environment on DCC\n",
    "source config.sh\n",
    "FD_LOG=${FD_WRK}/log\n",
    "\n",
    "### run script using sbatch\n",
    "#sbatch -pnew,all \\\n",
    "sbatch -p scavenger \\\n",
    "    --mem 8G \\\n",
    "    -o ${FD_LOG}/test_get_motif_cluster_input_cluster054.txt \\\n",
    "    <<'EOF'\n",
    "#!/bin/bash\n",
    "FD_OUT=/work/kk319/out/CombEffect_STARR/annotation_fragment/Input\n",
    "zcat ${FD_OUT}/chr17.bed.gz | grep AP1/1      > ${FD_OUT}/cluster054.bed\n",
    "\n",
    "EOF"
   ]
  },
  {
   "cell_type": "code",
   "execution_count": 25,
   "metadata": {},
   "outputs": [
    {
     "name": "stdout",
     "output_type": "stream",
     "text": [
      "Submitted batch job 11061713\n"
     ]
    }
   ],
   "source": [
    "%%bash\n",
    "### set environment on DCC\n",
    "source config.sh\n",
    "FD_LOG=${FD_WRK}/log\n",
    "\n",
    "### run script using sbatch\n",
    "#sbatch -pnew,all \\\n",
    "sbatch -p scavenger \\\n",
    "    --mem 8G \\\n",
    "    -o ${FD_LOG}/test_get_motif_cluster_dmso_cluster248.txt \\\n",
    "    <<'EOF'\n",
    "#!/bin/bash\n",
    "FD_OUT=/work/kk319/out/CombEffect_STARR/annotation_fragment/TFX_DMSO\n",
    "zcat ${FD_OUT}/chr17.bed.gz | grep NR/20      > ${FD_OUT}/cluster248.bed\n",
    "\n",
    "EOF"
   ]
  },
  {
   "cell_type": "code",
   "execution_count": 26,
   "metadata": {},
   "outputs": [
    {
     "name": "stdout",
     "output_type": "stream",
     "text": [
      "Submitted batch job 11061715\n"
     ]
    }
   ],
   "source": [
    "%%bash\n",
    "### set environment on DCC\n",
    "source config.sh\n",
    "FD_LOG=${FD_WRK}/log\n",
    "\n",
    "### run script using sbatch\n",
    "#sbatch -pnew,all \\\n",
    "sbatch -p scavenger \\\n",
    "    --mem 8G \\\n",
    "    -o ${FD_LOG}/test_get_motif_cluster_dmso_cluster054.txt \\\n",
    "    <<'EOF'\n",
    "#!/bin/bash\n",
    "FD_OUT=/work/kk319/out/CombEffect_STARR/annotation_fragment/TFX_DMSO\n",
    "zcat ${FD_OUT}/chr17.bed.gz | grep AP1/1      > ${FD_OUT}/cluster054.bed\n",
    "\n",
    "EOF"
   ]
  },
  {
   "cell_type": "code",
   "execution_count": 23,
   "metadata": {},
   "outputs": [],
   "source": [
    "%%bash\n",
    "FD_OUT=/work/kk319/out/CombEffect_STARR/annotation_fragment/TFX_Dex\n",
    "zcat ${FD_OUT}/chr17.bed.gz | grep NR/20      > ${FD_OUT}/cluster248.bed\n",
    "zcat ${FD_OUT}/chr17.bed.gz | grep CREB/ATF/1 > ${FD_OUT}/cluster049.bed\n",
    "zcat ${FD_OUT}/chr17.bed.gz | grep CREB/ATF/2 > ${FD_OUT}/cluster050.bed\n",
    "zcat ${FD_OUT}/chr17.bed.gz | grep AP1/1      > ${FD_OUT}/cluster054.bed"
   ]
  },
  {
   "cell_type": "code",
   "execution_count": 19,
   "metadata": {},
   "outputs": [
    {
     "name": "stdout",
     "output_type": "stream",
     "text": [
      "chr17\t10000013\t10001044\t1\tchr17\t10000504\t10000513\tCREB/ATF/1\t7.9592\t+\tCREB1_MA0018.3\t2\t9\n",
      "chr17\t10000013\t10001044\t1\tchr17\t10000505\t10000514\tCREB/ATF/1\t8.3398\t-\tATF2_HUMAN.H11MO.0.B\t3\t9\n",
      "chr17\t10000013\t10001045\t2\tchr17\t10000504\t10000513\tCREB/ATF/1\t7.9592\t+\tCREB1_MA0018.3\t2\t9\n",
      "chr17\t10000013\t10001045\t2\tchr17\t10000505\t10000514\tCREB/ATF/1\t8.3398\t-\tATF2_HUMAN.H11MO.0.B\t3\t9\n",
      "chr17\t10000014\t10001044\t1\tchr17\t10000504\t10000513\tCREB/ATF/1\t7.9592\t+\tCREB1_MA0018.3\t2\t9\n",
      "chr17\t10000014\t10001044\t1\tchr17\t10000505\t10000514\tCREB/ATF/1\t8.3398\t-\tATF2_HUMAN.H11MO.0.B\t3\t9\n",
      "chr17\t10000014\t10001045\t1\tchr17\t10000504\t10000513\tCREB/ATF/1\t7.9592\t+\tCREB1_MA0018.3\t2\t9\n",
      "chr17\t10000014\t10001045\t1\tchr17\t10000505\t10000514\tCREB/ATF/1\t8.3398\t-\tATF2_HUMAN.H11MO.0.B\t3\t9\n",
      "chr17\t10000026\t10001090\t1\tchr17\t10000504\t10000513\tCREB/ATF/1\t7.9592\t+\tCREB1_MA0018.3\t2\t9\n",
      "chr17\t10000026\t10001090\t1\tchr17\t10000505\t10000514\tCREB/ATF/1\t8.3398\t-\tATF2_HUMAN.H11MO.0.B\t3\t9\n"
     ]
    }
   ],
   "source": [
    "%%bash\n",
    "FP_INP=/work/kk319/out/CombEffect_STARR/annotation_fragment/TFX_Dex/chr17.bed.gz\n",
    "zcat ${FP_INP} | grep CREB/ATF/1 | head"
   ]
  },
  {
   "cell_type": "code",
   "execution_count": 20,
   "metadata": {},
   "outputs": [
    {
     "name": "stdout",
     "output_type": "stream",
     "text": [
      "chr17\t10000013\t10001044\t1\tchr17\t10000504\t10000514\tCREB/ATF/2\t8.4737\t-\tJUN_MA0488.1\t6\t10\n",
      "chr17\t10000013\t10001045\t2\tchr17\t10000504\t10000514\tCREB/ATF/2\t8.4737\t-\tJUN_MA0488.1\t6\t10\n",
      "chr17\t10000014\t10001044\t1\tchr17\t10000504\t10000514\tCREB/ATF/2\t8.4737\t-\tJUN_MA0488.1\t6\t10\n",
      "chr17\t10000014\t10001045\t1\tchr17\t10000504\t10000514\tCREB/ATF/2\t8.4737\t-\tJUN_MA0488.1\t6\t10\n",
      "chr17\t10000026\t10001090\t1\tchr17\t10000504\t10000514\tCREB/ATF/2\t8.4737\t-\tJUN_MA0488.1\t6\t10\n",
      "chr17\t10000090\t10001098\t1\tchr17\t10000504\t10000514\tCREB/ATF/2\t8.4737\t-\tJUN_MA0488.1\t6\t10\n",
      "chr17\t10000091\t10001100\t1\tchr17\t10000504\t10000514\tCREB/ATF/2\t8.4737\t-\tJUN_MA0488.1\t6\t10\n",
      "chr17\t10000103\t10001181\t1\tchr17\t10000504\t10000514\tCREB/ATF/2\t8.4737\t-\tJUN_MA0488.1\t6\t10\n",
      "chr17\t10000140\t10001107\t1\tchr17\t10000504\t10000514\tCREB/ATF/2\t8.4737\t-\tJUN_MA0488.1\t6\t10\n",
      "chr17\t10000140\t10001110\t1\tchr17\t10000504\t10000514\tCREB/ATF/2\t8.4737\t-\tJUN_MA0488.1\t6\t10\n"
     ]
    }
   ],
   "source": [
    "%%bash\n",
    "FP_INP=/work/kk319/out/CombEffect_STARR/annotation_fragment/TFX_Dex/chr17.bed.gz\n",
    "zcat ${FP_INP} | grep CREB/ATF/2 | head"
   ]
  },
  {
   "cell_type": "code",
   "execution_count": 21,
   "metadata": {},
   "outputs": [
    {
     "name": "stdout",
     "output_type": "stream",
     "text": [
      "chr17\t10000013\t10001044\t1\tchr17\t10000569\t10000577\tAP1/1\t6.7321\t+\tNF2L1_HUMAN.H11MO.0.C\t2\t8\n",
      "chr17\t10000013\t10001044\t1\tchr17\t10000913\t10000921\tAP1/1\t7.2081\t+\tJUN_HUMAN.H11MO.0.A\t4\t8\n",
      "chr17\t10000013\t10001045\t2\tchr17\t10000569\t10000577\tAP1/1\t6.7321\t+\tNF2L1_HUMAN.H11MO.0.C\t2\t8\n",
      "chr17\t10000013\t10001045\t2\tchr17\t10000913\t10000921\tAP1/1\t7.2081\t+\tJUN_HUMAN.H11MO.0.A\t4\t8\n",
      "chr17\t10000014\t10001044\t1\tchr17\t10000569\t10000577\tAP1/1\t6.7321\t+\tNF2L1_HUMAN.H11MO.0.C\t2\t8\n",
      "chr17\t10000014\t10001044\t1\tchr17\t10000913\t10000921\tAP1/1\t7.2081\t+\tJUN_HUMAN.H11MO.0.A\t4\t8\n",
      "chr17\t10000014\t10001045\t1\tchr17\t10000569\t10000577\tAP1/1\t6.7321\t+\tNF2L1_HUMAN.H11MO.0.C\t2\t8\n",
      "chr17\t10000014\t10001045\t1\tchr17\t10000913\t10000921\tAP1/1\t7.2081\t+\tJUN_HUMAN.H11MO.0.A\t4\t8\n",
      "chr17\t10000026\t10001090\t1\tchr17\t10000569\t10000577\tAP1/1\t6.7321\t+\tNF2L1_HUMAN.H11MO.0.C\t2\t8\n",
      "chr17\t10000026\t10001090\t1\tchr17\t10000913\t10000921\tAP1/1\t7.2081\t+\tJUN_HUMAN.H11MO.0.A\t4\t8\n"
     ]
    }
   ],
   "source": [
    "%%bash\n",
    "FP_INP=/work/kk319/out/CombEffect_STARR/annotation_fragment/TFX_Dex/chr17.bed.gz\n",
    "zcat ${FP_INP} | grep AP1/1 | head"
   ]
  },
  {
   "cell_type": "code",
   "execution_count": null,
   "metadata": {},
   "outputs": [],
   "source": []
  },
  {
   "cell_type": "code",
   "execution_count": null,
   "metadata": {},
   "outputs": [],
   "source": []
  },
  {
   "cell_type": "code",
   "execution_count": null,
   "metadata": {},
   "outputs": [],
   "source": []
  },
  {
   "cell_type": "code",
   "execution_count": null,
   "metadata": {},
   "outputs": [],
   "source": []
  },
  {
   "cell_type": "code",
   "execution_count": null,
   "metadata": {},
   "outputs": [],
   "source": []
  },
  {
   "cell_type": "code",
   "execution_count": 1,
   "metadata": {},
   "outputs": [
    {
     "name": "stdout",
     "output_type": "stream",
     "text": [
      "chr17\t8148989\t8149875\t1\n",
      "chr17\t8148991\t8149950\t1\n",
      "chr17\t8148991\t8149951\t2\n",
      "chr17\t8148992\t8149951\t1\n",
      "chr17\t8148999\t8149919\t1\n",
      "chr17\t8149006\t8149923\t1\n",
      "chr17\t8149008\t8150003\t1\n",
      "chr17\t8149008\t8150057\t1\n",
      "chr17\t8149012\t8150052\t1\n",
      "chr17\t8149022\t8149951\t1\n",
      "chr1\t10022\t10338\n",
      "chr1\t180626\t181057\n",
      "chr1\t629777\t630092\n",
      "chr1\t818870\t819186\n",
      "chr1\t905200\t905664\n",
      "chr1\t906700\t907241\n",
      "chr1\t916591\t917225\n",
      "chr1\t917373\t917730\n",
      "chr1\t933094\t933441\n",
      "chr1\t940241\t940578\n"
     ]
    }
   ],
   "source": [
    "%%bash\n",
    "###\n",
    "FD_ANN=/data/reddylab/Kuei/out/annotation\n",
    "FD_WRK=/data/reddylab/Kuei/out/CombEffect_STARR\n",
    "FD_DAT=($(ls -d ${FD_WRK}/data/Input/))\n",
    "CHROM=chr17\n",
    "ANNOT=GCR\n",
    "\n",
    "###\n",
    "FN_DAT=cnt_${CHROM}.bed\n",
    "FN_OUT=ann_${CHROM}_${ANNOT}.bed\n",
    "\n",
    "FP_BED_A=${FD_DAT}/${FN_DAT}\n",
    "FP_BED_B=${FD_ANN}/cistrome/hg38_cistrome/${ANNOT}_HUMAN.A.bed\n",
    "FP_BED_O=${FD_DAT}/${FN_OUT}\n",
    "\n",
    "head ${FP_BED_A}\n",
    "head ${FP_BED_B}"
   ]
  },
  {
   "cell_type": "code",
   "execution_count": 2,
   "metadata": {},
   "outputs": [
    {
     "name": "stdout",
     "output_type": "stream",
     "text": [
      "/data/reddylab/Kuei/out/annotation/cistrome/hg38_cistrome/GCR_HUMAN.A.bed\n",
      "/data/reddylab/Kuei/out/annotation/cistrome/hg38_cistrome/GCR_HUMAN.B.bed\n",
      "/data/reddylab/Kuei/out/annotation/cistrome/hg38_cistrome/GCR_HUMAN.C.bed\n",
      "/data/reddylab/Kuei/out/annotation/cistrome/hg38_cistrome/GCR_HUMAN.D.bed\n"
     ]
    }
   ],
   "source": [
    "%%bash\n",
    "###\n",
    "FD_ANN=/data/reddylab/Kuei/out/annotation\n",
    "FD_WRK=/data/reddylab/Kuei/out/CombEffect_STARR\n",
    "FD_DAT=($(ls -d ${FD_WRK}/data/Input/))\n",
    "CHROM=chr17\n",
    "ANNOT=GCR\n",
    "\n",
    "ls ${FD_ANN}/cistrome/hg38_cistrome/${ANNOT}*"
   ]
  },
  {
   "cell_type": "code",
   "execution_count": 3,
   "metadata": {},
   "outputs": [
    {
     "name": "stdout",
     "output_type": "stream",
     "text": [
      "/data/reddylab/Kuei/out/annotation/cistrome/hg38_cistrome/JUNB_HUMAN.B.bed\n",
      "/data/reddylab/Kuei/out/annotation/cistrome/hg38_cistrome/JUNB_HUMAN.C.bed\n",
      "/data/reddylab/Kuei/out/annotation/cistrome/hg38_cistrome/JUND_HUMAN.A.bed\n",
      "/data/reddylab/Kuei/out/annotation/cistrome/hg38_cistrome/JUND_HUMAN.B.bed\n",
      "/data/reddylab/Kuei/out/annotation/cistrome/hg38_cistrome/JUND_HUMAN.C.bed\n",
      "/data/reddylab/Kuei/out/annotation/cistrome/hg38_cistrome/JUND_HUMAN.D.bed\n",
      "/data/reddylab/Kuei/out/annotation/cistrome/hg38_cistrome/JUN_HUMAN.A.bed\n",
      "/data/reddylab/Kuei/out/annotation/cistrome/hg38_cistrome/JUN_HUMAN.B.bed\n",
      "/data/reddylab/Kuei/out/annotation/cistrome/hg38_cistrome/JUN_HUMAN.C.bed\n",
      "/data/reddylab/Kuei/out/annotation/cistrome/hg38_cistrome/JUN_HUMAN.D.bed\n"
     ]
    }
   ],
   "source": [
    "%%bash\n",
    "###\n",
    "FD_ANN=/data/reddylab/Kuei/out/annotation\n",
    "FD_WRK=/data/reddylab/Kuei/out/CombEffect_STARR\n",
    "FD_DAT=($(ls -d ${FD_WRK}/data/Input/))\n",
    "CHROM=chr17\n",
    "ANNOT=JUN\n",
    "\n",
    "ls ${FD_ANN}/cistrome/hg38_cistrome/${ANNOT}*"
   ]
  },
  {
   "cell_type": "code",
   "execution_count": 4,
   "metadata": {},
   "outputs": [
    {
     "name": "stdout",
     "output_type": "stream",
     "text": [
      "/data/reddylab/Kuei/out/annotation/cistrome/hg38_cistrome/FOSB_HUMAN.C.bed\n",
      "/data/reddylab/Kuei/out/annotation/cistrome/hg38_cistrome/FOS_HUMAN.A.bed\n",
      "/data/reddylab/Kuei/out/annotation/cistrome/hg38_cistrome/FOS_HUMAN.B.bed\n",
      "/data/reddylab/Kuei/out/annotation/cistrome/hg38_cistrome/FOS_HUMAN.C.bed\n",
      "/data/reddylab/Kuei/out/annotation/cistrome/hg38_cistrome/FOS_HUMAN.D.bed\n",
      "/data/reddylab/Kuei/out/annotation/cistrome/hg38_cistrome/FOSL1_HUMAN.B.bed\n",
      "/data/reddylab/Kuei/out/annotation/cistrome/hg38_cistrome/FOSL1_HUMAN.C.bed\n",
      "/data/reddylab/Kuei/out/annotation/cistrome/hg38_cistrome/FOSL2_HUMAN.A.bed\n",
      "/data/reddylab/Kuei/out/annotation/cistrome/hg38_cistrome/FOSL2_HUMAN.B.bed\n",
      "/data/reddylab/Kuei/out/annotation/cistrome/hg38_cistrome/FOSL2_HUMAN.C.bed\n"
     ]
    }
   ],
   "source": [
    "%%bash\n",
    "###\n",
    "FD_ANN=/data/reddylab/Kuei/out/annotation\n",
    "FD_WRK=/data/reddylab/Kuei/out/CombEffect_STARR\n",
    "FD_DAT=($(ls -d ${FD_WRK}/data/Input/))\n",
    "CHROM=chr17\n",
    "ANNOT=FOS\n",
    "\n",
    "ls ${FD_ANN}/cistrome/hg38_cistrome/${ANNOT}*"
   ]
  },
  {
   "cell_type": "code",
   "execution_count": 21,
   "metadata": {},
   "outputs": [
    {
     "name": "stdout",
     "output_type": "stream",
     "text": [
      "/data/reddylab/Kuei/out/annotation/cistrome/hg38_cistrome/CREB1_HUMAN.A.bed\n",
      "/data/reddylab/Kuei/out/annotation/cistrome/hg38_cistrome/CREB1_HUMAN.B.bed\n",
      "/data/reddylab/Kuei/out/annotation/cistrome/hg38_cistrome/CREB1_HUMAN.C.bed\n",
      "/data/reddylab/Kuei/out/annotation/cistrome/hg38_cistrome/CREB1_HUMAN.D.bed\n"
     ]
    }
   ],
   "source": [
    "%%bash\n",
    "###\n",
    "FD_ANN=/data/reddylab/Kuei/out/annotation\n",
    "FD_WRK=/data/reddylab/Kuei/out/CombEffect_STARR\n",
    "FD_DAT=($(ls -d ${FD_WRK}/data/Input/))\n",
    "CHROM=chr17\n",
    "ANNOT=CREB1\n",
    "\n",
    "ls ${FD_ANN}/cistrome/hg38_cistrome/${ANNOT}*"
   ]
  },
  {
   "cell_type": "code",
   "execution_count": 8,
   "metadata": {},
   "outputs": [
    {
     "name": "stdout",
     "output_type": "stream",
     "text": [
      "GCR\n",
      "JUN\n",
      "FOS\n",
      "FOS\n"
     ]
    }
   ],
   "source": [
    "%%bash\n",
    "i=2\n",
    "ANNOTS=(GCR JUN FOS)\n",
    "echo ${ANNOTS[0]}\n",
    "echo ${ANNOTS[1]}\n",
    "echo ${ANNOTS[2]}\n",
    "echo ${ANNOTS[${i}]}"
   ]
  },
  {
   "cell_type": "code",
   "execution_count": null,
   "metadata": {},
   "outputs": [],
   "source": []
  },
  {
   "cell_type": "code",
   "execution_count": null,
   "metadata": {},
   "outputs": [],
   "source": []
  },
  {
   "cell_type": "code",
   "execution_count": 22,
   "metadata": {},
   "outputs": [
    {
     "name": "stdout",
     "output_type": "stream",
     "text": [
      "Submitted batch job 25382480\n"
     ]
    }
   ],
   "source": [
    "%%bash\n",
    "### set environment\n",
    "module load perl\n",
    "module load gcc\n",
    "module load bedtools2\n",
    "source /data/reddylab/software/miniconda2/bin/activate alex_dev\n",
    "export PATH=/data/reddylab/software/homer/bin/:$PATH\n",
    "\n",
    "### set log file directory\n",
    "FD_LOG=/gpfs/fs1/data/reddylab/Kuei/out/CombEffect_STARR/log\n",
    "\n",
    "### run script using sbatch\n",
    "sbatch -pnew,all \\\n",
    "    --array=0-3 \\\n",
    "    --mem 16G \\\n",
    "    -o ${FD_LOG}/prep_annot_input.%a.txt \\\n",
    "    <<'EOF'\n",
    "#!/bin/bash\n",
    "### set directories\n",
    "FD_ANN=/data/reddylab/Kuei/out/annotation\n",
    "FD_WRK=/data/reddylab/Kuei/out/CombEffect_STARR\n",
    "FD_DAT=($(ls -d ${FD_WRK}/data/Input/))\n",
    "CHROM=chr17\n",
    "ANNOTS=(GCR JUN FOS CREB1)\n",
    "\n",
    "###\n",
    "ANNOT=${ANNOTS[${SLURM_ARRAY_TASK_ID}]}\n",
    "FN_DAT=cnt_${CHROM}.bed\n",
    "FN_OUT=ann_${CHROM}_${ANNOT}.bed\n",
    "\n",
    "FP_BED_A=${FD_DAT}/${FN_DAT}\n",
    "FP_BED_B=${FD_ANN}/cistrome/hg38_cistrome/${ANNOT}_HUMAN.A.bed\n",
    "FP_BED_O=${FD_DAT}/${FN_OUT}\n",
    "\n",
    "###\n",
    "echo \"Slurm Array Index: \" ${SLURM_ARRAY_TASK_ID}\n",
    "echo \"Input  file: \" ${FP_BED_A}\n",
    "echo \"Input  file: \" ${FP_BED_B}\n",
    "echo \"Output file: \" ${FP_BED_O}\n",
    "echo\n",
    "echo \"Show the first few lines of the input file\"\n",
    "head ${FP_BED_A}\n",
    "head ${FP_BED_B}\n",
    "\n",
    "###\n",
    "bedtools intersect -a ${FP_BED_A} -b ${FP_BED_B} -wo > ${FP_BED_O}\n",
    "\n",
    "###\n",
    "echo\n",
    "echo \"Show the first few lines of the output file\"\n",
    "head ${FP_BED_O}\n",
    "\n",
    "EOF"
   ]
  },
  {
   "cell_type": "code",
   "execution_count": 23,
   "metadata": {},
   "outputs": [
    {
     "name": "stdout",
     "output_type": "stream",
     "text": [
      "/gpfs/fs1/data/reddylab/Kuei/out/CombEffect_STARR/log/prep_annot_input.0.txt\n",
      "/gpfs/fs1/data/reddylab/Kuei/out/CombEffect_STARR/log/prep_annot_input.1.txt\n",
      "/gpfs/fs1/data/reddylab/Kuei/out/CombEffect_STARR/log/prep_annot_input.2.txt\n",
      "/gpfs/fs1/data/reddylab/Kuei/out/CombEffect_STARR/log/prep_annot_input.3.txt\n",
      "/gpfs/fs1/data/reddylab/Kuei/out/CombEffect_STARR/log/prep_annot_input.txt\n"
     ]
    }
   ],
   "source": [
    "%%bash\n",
    "FD_LOG=/gpfs/fs1/data/reddylab/Kuei/out/CombEffect_STARR/log\n",
    "ls ${FD_LOG}/prep_annot_input.*"
   ]
  },
  {
   "cell_type": "code",
   "execution_count": 15,
   "metadata": {},
   "outputs": [
    {
     "name": "stdout",
     "output_type": "stream",
     "text": [
      "Slurm Array Index:  0\n",
      "Input  file:  /data/reddylab/Kuei/out/CombEffect_STARR/data/Input//cnt_chr17.bed\n",
      "Input  file:  /data/reddylab/Kuei/out/annotation/cistrome/hg38_cistrome/GCR_HUMAN.A.bed\n",
      "Output file:  /data/reddylab/Kuei/out/CombEffect_STARR/data/Input//ann_chr17_GCR.bed\n",
      "\n",
      "Show the first few lines of the input file\n",
      "chr17\t8148989\t8149875\t1\n",
      "chr17\t8148991\t8149950\t1\n",
      "chr17\t8148991\t8149951\t2\n",
      "chr17\t8148992\t8149951\t1\n",
      "chr17\t8148999\t8149919\t1\n",
      "chr17\t8149006\t8149923\t1\n",
      "chr17\t8149008\t8150003\t1\n",
      "chr17\t8149008\t8150057\t1\n",
      "chr17\t8149012\t8150052\t1\n",
      "chr17\t8149022\t8149951\t1\n",
      "chr1\t10022\t10338\n",
      "chr1\t180626\t181057\n",
      "chr1\t629777\t630092\n",
      "chr1\t818870\t819186\n",
      "chr1\t905200\t905664\n",
      "chr1\t906700\t907241\n",
      "chr1\t916591\t917225\n",
      "chr1\t917373\t917730\n",
      "chr1\t933094\t933441\n",
      "chr1\t940241\t940578\n",
      "\n",
      "Show the first few lines of the output file\n",
      "chr17\t8150135\t8151183\t1\tchr17\t8151182\t8151493\t1\n",
      "chr17\t8150184\t8151257\t1\tchr17\t8151182\t8151493\t75\n",
      "chr17\t8150185\t8151257\t1\tchr17\t8151182\t8151493\t75\n",
      "chr17\t8150205\t8151230\t1\tchr17\t8151182\t8151493\t48\n",
      "chr17\t8150215\t8151206\t1\tchr17\t8151182\t8151493\t24\n",
      "chr17\t8150218\t8151276\t1\tchr17\t8151182\t8151493\t94\n",
      "chr17\t8150249\t8151246\t1\tchr17\t8151182\t8151493\t64\n",
      "chr17\t8150260\t8151246\t1\tchr17\t8151182\t8151493\t64\n",
      "chr17\t8150291\t8151379\t1\tchr17\t8151182\t8151493\t197\n",
      "chr17\t8150299\t8151240\t1\tchr17\t8151182\t8151493\t58\n"
     ]
    }
   ],
   "source": [
    "cat /data/reddylab/Kuei/out/CombEffect_STARR/log/prep_annot_input.0.txt"
   ]
  },
  {
   "cell_type": "code",
   "execution_count": 16,
   "metadata": {},
   "outputs": [
    {
     "name": "stdout",
     "output_type": "stream",
     "text": [
      "Slurm Array Index:  1\n",
      "Input  file:  /data/reddylab/Kuei/out/CombEffect_STARR/data/Input//cnt_chr17.bed\n",
      "Input  file:  /data/reddylab/Kuei/out/annotation/cistrome/hg38_cistrome/JUN_HUMAN.A.bed\n",
      "Output file:  /data/reddylab/Kuei/out/CombEffect_STARR/data/Input//ann_chr17_JUN.bed\n",
      "\n",
      "Show the first few lines of the input file\n",
      "chr17\t8148989\t8149875\t1\n",
      "chr17\t8148991\t8149950\t1\n",
      "chr17\t8148991\t8149951\t2\n",
      "chr17\t8148992\t8149951\t1\n",
      "chr17\t8148999\t8149919\t1\n",
      "chr17\t8149006\t8149923\t1\n",
      "chr17\t8149008\t8150003\t1\n",
      "chr17\t8149008\t8150057\t1\n",
      "chr17\t8149012\t8150052\t1\n",
      "chr17\t8149022\t8149951\t1\n",
      "chr1\t629781\t630104\n",
      "chr1\t633872\t634190\n",
      "chr1\t778476\t778918\n",
      "chr1\t940163\t940617\n",
      "chr1\t966053\t966502\n",
      "chr1\t966844\t967153\n",
      "chr1\t1000103\t1001116\n",
      "chr1\t1021878\t1022218\n",
      "chr1\t1064157\t1064553\n",
      "chr1\t1079393\t1079956\n",
      "\n",
      "Show the first few lines of the output file\n",
      "chr17\t8153288\t8154373\t1\tchr17\t8154208\t8154628\t165\n",
      "chr17\t8153290\t8154266\t1\tchr17\t8154208\t8154628\t58\n",
      "chr17\t8153305\t8154323\t1\tchr17\t8154208\t8154628\t115\n",
      "chr17\t8153361\t8154250\t1\tchr17\t8154208\t8154628\t42\n",
      "chr17\t8153376\t8154251\t1\tchr17\t8154208\t8154628\t43\n",
      "chr17\t8153381\t8154434\t1\tchr17\t8154208\t8154628\t226\n",
      "chr17\t8153384\t8154220\t1\tchr17\t8154208\t8154628\t12\n",
      "chr17\t8153387\t8154355\t1\tchr17\t8154208\t8154628\t147\n",
      "chr17\t8153430\t8154319\t1\tchr17\t8154208\t8154628\t111\n",
      "chr17\t8153433\t8154497\t1\tchr17\t8154208\t8154628\t289\n"
     ]
    }
   ],
   "source": [
    "cat /data/reddylab/Kuei/out/CombEffect_STARR/log/prep_annot_input.1.txt"
   ]
  },
  {
   "cell_type": "code",
   "execution_count": 17,
   "metadata": {},
   "outputs": [
    {
     "name": "stdout",
     "output_type": "stream",
     "text": [
      "Slurm Array Index:  2\n",
      "Input  file:  /data/reddylab/Kuei/out/CombEffect_STARR/data/Input//cnt_chr17.bed\n",
      "Input  file:  /data/reddylab/Kuei/out/annotation/cistrome/hg38_cistrome/FOS_HUMAN.A.bed\n",
      "Output file:  /data/reddylab/Kuei/out/CombEffect_STARR/data/Input//ann_chr17_FOS.bed\n",
      "\n",
      "Show the first few lines of the input file\n",
      "chr17\t8148989\t8149875\t1\n",
      "chr17\t8148991\t8149950\t1\n",
      "chr17\t8148991\t8149951\t2\n",
      "chr17\t8148992\t8149951\t1\n",
      "chr17\t8148999\t8149919\t1\n",
      "chr17\t8149006\t8149923\t1\n",
      "chr17\t8149008\t8150003\t1\n",
      "chr17\t8149008\t8150057\t1\n",
      "chr17\t8149012\t8150052\t1\n",
      "chr17\t8149022\t8149951\t1\n",
      "chr1\t629774\t630091\n",
      "chr1\t633865\t634180\n",
      "chr1\t831655\t831996\n",
      "chr1\t966032\t966528\n",
      "chr1\t966828\t967213\n",
      "chr1\t1000731\t1001098\n",
      "chr1\t1064188\t1064547\n",
      "chr1\t1207913\t1208304\n",
      "chr1\t1231957\t1232282\n",
      "chr1\t1305395\t1305905\n",
      "\n",
      "Show the first few lines of the output file\n",
      "chr17\t8155456\t8156430\t1\tchr17\t8156347\t8156825\t83\n",
      "chr17\t8155557\t8156560\t1\tchr17\t8156347\t8156825\t213\n",
      "chr17\t8155560\t8156375\t1\tchr17\t8156347\t8156825\t28\n",
      "chr17\t8155586\t8156491\t1\tchr17\t8156347\t8156825\t144\n",
      "chr17\t8155593\t8156534\t1\tchr17\t8156347\t8156825\t187\n",
      "chr17\t8155628\t8156651\t1\tchr17\t8156347\t8156825\t304\n",
      "chr17\t8155628\t8156653\t1\tchr17\t8156347\t8156825\t306\n",
      "chr17\t8155634\t8156628\t1\tchr17\t8156347\t8156825\t281\n",
      "chr17\t8155638\t8156608\t1\tchr17\t8156347\t8156825\t261\n",
      "chr17\t8155681\t8156652\t1\tchr17\t8156347\t8156825\t305\n"
     ]
    }
   ],
   "source": [
    "cat /data/reddylab/Kuei/out/CombEffect_STARR/log/prep_annot_input.2.txt"
   ]
  },
  {
   "cell_type": "code",
   "execution_count": 24,
   "metadata": {},
   "outputs": [
    {
     "name": "stdout",
     "output_type": "stream",
     "text": [
      "Slurm Array Index:  3\n",
      "Input  file:  /data/reddylab/Kuei/out/CombEffect_STARR/data/Input//cnt_chr17.bed\n",
      "Input  file:  /data/reddylab/Kuei/out/annotation/cistrome/hg38_cistrome/CREB1_HUMAN.A.bed\n",
      "Output file:  /data/reddylab/Kuei/out/CombEffect_STARR/data/Input//ann_chr17_CREB1.bed\n",
      "\n",
      "Show the first few lines of the input file\n",
      "chr17\t8148989\t8149875\t1\n",
      "chr17\t8148991\t8149950\t1\n",
      "chr17\t8148991\t8149951\t2\n",
      "chr17\t8148992\t8149951\t1\n",
      "chr17\t8148999\t8149919\t1\n",
      "chr17\t8149006\t8149923\t1\n",
      "chr17\t8149008\t8150003\t1\n",
      "chr17\t8149008\t8150057\t1\n",
      "chr17\t8149012\t8150052\t1\n",
      "chr17\t8149022\t8149951\t1\n",
      "chr1\t629783\t630099\n",
      "chr1\t633851\t634188\n",
      "chr1\t778530\t778930\n",
      "chr1\t826879\t827864\n",
      "chr1\t869681\t870123\n",
      "chr1\t904499\t904933\n",
      "chr1\t921045\t921420\n",
      "chr1\t923604\t924102\n",
      "chr1\t959023\t959524\n",
      "chr1\t960400\t960823\n",
      "\n",
      "Show the first few lines of the output file\n",
      "chr17\t8151204\t8152259\t1\tchr17\t8152256\t8153070\t3\n",
      "chr17\t8151233\t8152266\t2\tchr17\t8152256\t8153070\t10\n",
      "chr17\t8151239\t8152260\t1\tchr17\t8152256\t8153070\t4\n",
      "chr17\t8151239\t8152261\t1\tchr17\t8152256\t8153070\t5\n",
      "chr17\t8151252\t8152321\t1\tchr17\t8152256\t8153070\t65\n",
      "chr17\t8151280\t8152290\t1\tchr17\t8152256\t8153070\t34\n",
      "chr17\t8151299\t8152341\t1\tchr17\t8152256\t8153070\t85\n",
      "chr17\t8151340\t8152427\t1\tchr17\t8152256\t8153070\t171\n",
      "chr17\t8151359\t8152380\t1\tchr17\t8152256\t8153070\t124\n",
      "chr17\t8151375\t8152364\t1\tchr17\t8152256\t8153070\t108\n"
     ]
    }
   ],
   "source": [
    "cat /data/reddylab/Kuei/out/CombEffect_STARR/log/prep_annot_input.3.txt"
   ]
  },
  {
   "cell_type": "code",
   "execution_count": 25,
   "metadata": {},
   "outputs": [
    {
     "name": "stdout",
     "output_type": "stream",
     "text": [
      "/data/reddylab/Kuei/out/CombEffect_STARR/data/Input//ann_chr17_CREB1.bed\n",
      "/data/reddylab/Kuei/out/CombEffect_STARR/data/Input//ann_chr17_FOS.bed\n",
      "/data/reddylab/Kuei/out/CombEffect_STARR/data/Input//ann_chr17_GCR.bed\n",
      "/data/reddylab/Kuei/out/CombEffect_STARR/data/Input//ann_chr17_JUN.bed\n"
     ]
    }
   ],
   "source": [
    "ls /data/reddylab/Kuei/out/CombEffect_STARR/data/Input//ann_chr17_*.bed"
   ]
  },
  {
   "cell_type": "code",
   "execution_count": null,
   "metadata": {},
   "outputs": [],
   "source": []
  }
 ],
 "metadata": {
  "kernelspec": {
   "display_name": "Python 3",
   "language": "python",
   "name": "python3"
  },
  "language_info": {
   "codemirror_mode": {
    "name": "ipython",
    "version": 3
   },
   "file_extension": ".py",
   "mimetype": "text/x-python",
   "name": "python",
   "nbconvert_exporter": "python",
   "pygments_lexer": "ipython3",
   "version": "3.7.3"
  }
 },
 "nbformat": 4,
 "nbformat_minor": 4
}
