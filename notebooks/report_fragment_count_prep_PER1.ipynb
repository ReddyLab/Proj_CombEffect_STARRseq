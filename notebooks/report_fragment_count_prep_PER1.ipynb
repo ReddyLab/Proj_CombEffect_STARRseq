{
 "cells": [
  {
   "cell_type": "markdown",
   "id": "249bd88b-453b-4295-ac59-72b6731207be",
   "metadata": {},
   "source": [
    "# Prepare input data for Bill's model"
   ]
  },
  {
   "cell_type": "markdown",
   "id": "9e439618-555b-4ec6-af16-cf94ebaedc41",
   "metadata": {},
   "source": [
    "**About the notebook:**\n",
    "- **Goal**\n",
    "    - prepare a real fragment data count table from a region we know that contains regularoty elements\n",
    "    - test Bill's Poisson model on some real data\n",
    "- **current test region** \n",
    "    - around upstream region of PER1\n",
    "    - chr17:8,148,987-8,159,379\n",
    "- **input file for the model**\n",
    "    1. beginning coordinate of the fragment\n",
    "    2. ending coordinate of the fragment\n",
    "    3. number of DNA reads mapping to this fragment\n",
    "    4. number of RNA reads mapping to this fragment\n",
    "- **Further information: How to deal with missing/drop-out values in fragment count?**\n",
    "    - include only fragments that have at least 1 DNA read.  (It's OK if a fragment has no RNA reads.)  \n",
    "    - ignore replicates (just pool replicates together.)"
   ]
  },
  {
   "cell_type": "markdown",
   "id": "db7041a4-c245-402a-a8e9-38ec3c3d5f9a",
   "metadata": {},
   "source": [
    "**Set environment**"
   ]
  },
  {
   "cell_type": "code",
   "execution_count": 1,
   "id": "226b0a92-0e49-47bc-abac-d53a885db68c",
   "metadata": {},
   "outputs": [],
   "source": [
    "suppressMessages(suppressWarnings(library(\"tidyverse\")))\n",
    "suppressMessages(suppressWarnings(library(\"gridExtra\")))"
   ]
  },
  {
   "cell_type": "code",
   "execution_count": 2,
   "id": "6ea6e05f-0d47-4296-9a5e-6632f9baf917",
   "metadata": {},
   "outputs": [],
   "source": [
    "### set global variables\n",
    "FD_WRK = \"/work/kk319\"\n",
    "FD_DAT = file.path(FD_WRK, \"out/CombEffect_STARR/count_fragment\")"
   ]
  },
  {
   "cell_type": "markdown",
   "id": "4cbf83c5-6cc5-4705-b813-05a87afe139c",
   "metadata": {},
   "source": [
    "## Import fragment count for Input and Output sample \n",
    "**(already pool from replicates)**"
   ]
  },
  {
   "cell_type": "code",
   "execution_count": 3,
   "id": "157e1bf1-2e5e-4ce4-ac7d-8076b31e0472",
   "metadata": {},
   "outputs": [],
   "source": [
    "### init: column data types and names\n",
    "ctypes = c(col_character(), col_integer(), col_integer(), col_integer())\n",
    "cnames = c(\"Chrom\", \"Start\", \"End\", \"Count\")\n",
    "\n",
    "### import input fragment count data\n",
    "dat_cnt_input_per1 = read_tsv(\n",
    "    file.path(FD_DAT, \"Input\", \"cnt_PER1.bed\"), \n",
    "    col_names=cnames,\n",
    "    col_types=ctypes)\n",
    "\n",
    "### import output fragment count data\n",
    "dat_cnt_dmso_per1 = read_tsv(\n",
    "    file.path(FD_DAT, \"TFX_DMSO\", \"cnt_PER1.bed\"),\n",
    "    col_names=cnames,\n",
    "    col_types=ctypes)\n",
    "dat_cnt_dex_per1  = read_tsv(\n",
    "    file.path(FD_DAT, \"TFX_Dex\", \"cnt_PER1.bed\"), \n",
    "    col_names=cnames,\n",
    "    col_types=ctypes)"
   ]
  },
  {
   "cell_type": "markdown",
   "id": "061fb8bf-68ed-4c42-beb2-575616446737",
   "metadata": {},
   "source": [
    "**Show results**"
   ]
  },
  {
   "cell_type": "code",
   "execution_count": 4,
   "id": "1933e5a6-a005-4ed6-bee4-2a8e5f2247e1",
   "metadata": {},
   "outputs": [
    {
     "data": {
      "text/html": [
       "<table>\n",
       "<thead><tr><th scope=col>Chrom</th><th scope=col>Start</th><th scope=col>End</th><th scope=col>Count</th></tr></thead>\n",
       "<tbody>\n",
       "\t<tr><td>chr17  </td><td>8148989</td><td>8149875</td><td>1      </td></tr>\n",
       "\t<tr><td>chr17  </td><td>8148991</td><td>8149950</td><td>1      </td></tr>\n",
       "</tbody>\n",
       "</table>\n"
      ],
      "text/latex": [
       "\\begin{tabular}{r|llll}\n",
       " Chrom & Start & End & Count\\\\\n",
       "\\hline\n",
       "\t chr17   & 8148989 & 8149875 & 1      \\\\\n",
       "\t chr17   & 8148991 & 8149950 & 1      \\\\\n",
       "\\end{tabular}\n"
      ],
      "text/markdown": [
       "\n",
       "| Chrom | Start | End | Count |\n",
       "|---|---|---|---|\n",
       "| chr17   | 8148989 | 8149875 | 1       |\n",
       "| chr17   | 8148991 | 8149950 | 1       |\n",
       "\n"
      ],
      "text/plain": [
       "  Chrom Start   End     Count\n",
       "1 chr17 8148989 8149875 1    \n",
       "2 chr17 8148991 8149950 1    "
      ]
     },
     "metadata": {},
     "output_type": "display_data"
    }
   ],
   "source": [
    "head(dat_cnt_input_per1, 2)"
   ]
  },
  {
   "cell_type": "code",
   "execution_count": 5,
   "id": "19c96e35-d1ef-45c2-a5f3-94a3f9ac212a",
   "metadata": {},
   "outputs": [
    {
     "data": {
      "text/html": [
       "<table>\n",
       "<thead><tr><th scope=col>Chrom</th><th scope=col>Start</th><th scope=col>End</th><th scope=col>Count</th></tr></thead>\n",
       "<tbody>\n",
       "\t<tr><td>chr17  </td><td>8149037</td><td>8150068</td><td>1      </td></tr>\n",
       "\t<tr><td>chr17  </td><td>8149037</td><td>8150069</td><td>1      </td></tr>\n",
       "</tbody>\n",
       "</table>\n"
      ],
      "text/latex": [
       "\\begin{tabular}{r|llll}\n",
       " Chrom & Start & End & Count\\\\\n",
       "\\hline\n",
       "\t chr17   & 8149037 & 8150068 & 1      \\\\\n",
       "\t chr17   & 8149037 & 8150069 & 1      \\\\\n",
       "\\end{tabular}\n"
      ],
      "text/markdown": [
       "\n",
       "| Chrom | Start | End | Count |\n",
       "|---|---|---|---|\n",
       "| chr17   | 8149037 | 8150068 | 1       |\n",
       "| chr17   | 8149037 | 8150069 | 1       |\n",
       "\n"
      ],
      "text/plain": [
       "  Chrom Start   End     Count\n",
       "1 chr17 8149037 8150068 1    \n",
       "2 chr17 8149037 8150069 1    "
      ]
     },
     "metadata": {},
     "output_type": "display_data"
    }
   ],
   "source": [
    "head(dat_cnt_dmso_per1, 2)"
   ]
  },
  {
   "cell_type": "code",
   "execution_count": 8,
   "id": "322bb743-7d09-43e4-8ebc-fc769cf1c929",
   "metadata": {},
   "outputs": [
    {
     "data": {
      "text/html": [
       "<table>\n",
       "<thead><tr><th scope=col>Chrom</th><th scope=col>Start</th><th scope=col>End</th><th scope=col>Count</th></tr></thead>\n",
       "<tbody>\n",
       "\t<tr><td>chr17  </td><td>8148987</td><td>8150011</td><td>1      </td></tr>\n",
       "\t<tr><td>chr17  </td><td>8148987</td><td>8150013</td><td>1      </td></tr>\n",
       "</tbody>\n",
       "</table>\n"
      ],
      "text/latex": [
       "\\begin{tabular}{r|llll}\n",
       " Chrom & Start & End & Count\\\\\n",
       "\\hline\n",
       "\t chr17   & 8148987 & 8150011 & 1      \\\\\n",
       "\t chr17   & 8148987 & 8150013 & 1      \\\\\n",
       "\\end{tabular}\n"
      ],
      "text/markdown": [
       "\n",
       "| Chrom | Start | End | Count |\n",
       "|---|---|---|---|\n",
       "| chr17   | 8148987 | 8150011 | 1       |\n",
       "| chr17   | 8148987 | 8150013 | 1       |\n",
       "\n"
      ],
      "text/plain": [
       "  Chrom Start   End     Count\n",
       "1 chr17 8148987 8150011 1    \n",
       "2 chr17 8148987 8150013 1    "
      ]
     },
     "metadata": {},
     "output_type": "display_data"
    }
   ],
   "source": [
    "head(dat_cnt_dex_per1, 2)"
   ]
  },
  {
   "cell_type": "markdown",
   "id": "73e322bf-8934-4461-abb7-e5a6f6ff58c4",
   "metadata": {},
   "source": [
    "## Arrange data based on the column descriptions"
   ]
  },
  {
   "cell_type": "markdown",
   "id": "fc795823-1320-4305-b860-d4fbc933de42",
   "metadata": {},
   "source": [
    "**Show summary statistics**"
   ]
  },
  {
   "cell_type": "code",
   "execution_count": 9,
   "id": "f99b44fc-76a3-4406-a696-a1805d5d1e14",
   "metadata": {},
   "outputs": [],
   "source": [
    "dat_input = dat_cnt_input_per1\n",
    "dat_input = dat_input %>% mutate(ID=paste(Chrom, Start, End, sep=\"_\"))\n",
    "\n",
    "dat_dmso = dat_cnt_dmso_per1\n",
    "dat_dmso = dat_dmso %>% mutate(ID=paste(Chrom, Start, End, sep=\"_\"))\n",
    "\n",
    "dat_dex = dat_cnt_dex_per1\n",
    "dat_dex = dat_dex %>% mutate(ID=paste(Chrom, Start, End, sep=\"_\"))\n",
    "\n",
    "frag_input = dat_input$ID\n",
    "frag_dmso  = dat_dmso$ID\n",
    "frag_dex   = dat_dex$ID"
   ]
  },
  {
   "cell_type": "code",
   "execution_count": 10,
   "id": "9639f14d-065a-484f-aec6-238b5d077192",
   "metadata": {},
   "outputs": [
    {
     "name": "stdout",
     "output_type": "stream",
     "text": [
      "#Frag (Input):        805 \n",
      "#Frag (Output; DMSO): 2066 \n",
      "#Frag (Output; Dex):  4827 \n",
      "#Overlap (Input vs DMSO): 109 \n",
      "#Overlap (Input vs Dex):  172 \n",
      "#Overlap (DMSO  vs Dex):  536 \n"
     ]
    }
   ],
   "source": [
    "cat(\"#Frag (Input):       \", length(frag_input), \"\\n\")\n",
    "cat(\"#Frag (Output; DMSO):\", length(frag_dmso),  \"\\n\")\n",
    "cat(\"#Frag (Output; Dex): \", length(frag_dex),   \"\\n\")\n",
    "cat(\"#Overlap (Input vs DMSO):\", length(intersect(frag_input, frag_dmso)), \"\\n\")\n",
    "cat(\"#Overlap (Input vs Dex): \", length(intersect(frag_input, frag_dex)),  \"\\n\")\n",
    "cat(\"#Overlap (DMSO  vs Dex): \", length(intersect(frag_dmso,  frag_dex)),  \"\\n\")"
   ]
  },
  {
   "cell_type": "markdown",
   "id": "363017ec-8f13-4ce6-ae33-2080a2b51f45",
   "metadata": {},
   "source": [
    "**include only fragments that have at least 1 DNA read**"
   ]
  },
  {
   "cell_type": "code",
   "execution_count": 15,
   "id": "f3bdd7d0-2265-4026-b0ca-0cd4f89a0795",
   "metadata": {},
   "outputs": [],
   "source": [
    "dat_input = dat_cnt_input_per1 %>% dplyr::rename(\"Input\" =\"Count\")\n",
    "dat_dmso  = dat_cnt_dmso_per1  %>% dplyr::rename(\"Output\"=\"Count\")\n",
    "dat_dex   = dat_cnt_dex_per1   %>% dplyr::rename(\"Output\"=\"Count\")\n",
    "\n",
    "dat_input_dmso = left_join(dat_input, dat_dmso, by=c(\"Chrom\", \"Start\", \"End\")) %>% replace_na(list(Output=0))\n",
    "dat_input_dex  = left_join(dat_input, dat_dex,  by=c(\"Chrom\", \"Start\", \"End\")) %>% replace_na(list(Output=0))\n",
    "\n",
    "\n",
    "dat_input_dmso = dat_input_dmso %>% dplyr::select(-Chrom)\n",
    "dat_input_dex  = dat_input_dex  %>% dplyr::select(-Chrom)"
   ]
  },
  {
   "cell_type": "markdown",
   "id": "27df0bf7-93a1-4cd9-97f1-8499da14ba43",
   "metadata": {},
   "source": [
    "**Save table**"
   ]
  },
  {
   "cell_type": "code",
   "execution_count": 17,
   "id": "3b8730dd-1e41-4a69-a66e-c70a52334123",
   "metadata": {},
   "outputs": [],
   "source": [
    "write_tsv(dat_input_dmso, file.path(FD_DAT, \"dat_cnt_input_dmso_PER1.tsv\"), col_names = FALSE)\n",
    "write_tsv(dat_input_dex,  file.path(FD_DAT, \"dat_cnt_input_dex_PER1.tsv\"),  col_names = FALSE)"
   ]
  },
  {
   "cell_type": "code",
   "execution_count": 18,
   "id": "50c44e41-4255-4e3d-80a7-137e24c0067b",
   "metadata": {},
   "outputs": [
    {
     "name": "stdout",
     "output_type": "stream",
     "text": [
      "[1] \"/work/kk319/out/CombEffect_STARR/count_fragment/dat_cnt_input_dmso_PER1.tsv\"\n"
     ]
    }
   ],
   "source": [
    "print(file.path(FD_DAT, \"dat_cnt_input_dmso_PER1.tsv\"))"
   ]
  },
  {
   "cell_type": "code",
   "execution_count": 19,
   "id": "e400e6e8-c6b2-43c7-8e21-e3cc64f9ce64",
   "metadata": {},
   "outputs": [
    {
     "name": "stdout",
     "output_type": "stream",
     "text": [
      "[1] \"/work/kk319/out/CombEffect_STARR/count_fragment/dat_cnt_input_dex_PER1.tsv\"\n"
     ]
    }
   ],
   "source": [
    "print(file.path(FD_DAT, \"dat_cnt_input_dex_PER1.tsv\"))"
   ]
  },
  {
   "cell_type": "markdown",
   "id": "b74a02b8-c4e1-47eb-8e79-ea1e89ce72f0",
   "metadata": {},
   "source": [
    "## Visualization: Distribution of counts"
   ]
  },
  {
   "cell_type": "code",
   "execution_count": 12,
   "id": "fe8c65a2-9b2c-43f5-9f6c-dd0cd2949818",
   "metadata": {},
   "outputs": [
    {
     "data": {
      "image/png": "[encoded data removed]",
      "text/plain": [
       "plot without title"
      ]
     },
     "metadata": {},
     "output_type": "display_data"
    }
   ],
   "source": [
    "gp1 = ggplot(dat_cnt_input_per1, aes(x=Count)) + \n",
    "   geom_histogram(binwidth = 1) +\n",
    "   theme_bw() +\n",
    "   labs(x=\"Count Value\", title=\"Distribution (Input)\")\n",
    "\n",
    "gp2 = ggplot(dat_cnt_dmso_per1, aes(x=Count)) + \n",
    "   geom_histogram(binwidth = 1) +\n",
    "   theme_bw() +\n",
    "   labs(x=\"Count Value\", title=\"Distribution (DMSO)\")\n",
    "\n",
    "gp3 = ggplot(dat_cnt_dex_per1, aes(x=Count)) + \n",
    "   geom_histogram(binwidth = 1) +\n",
    "   theme_bw() +\n",
    "   labs(x=\"Count Value\", title=\"Distribution (Dex)\")\n",
    "\n",
    "options(repr.plot.width=10, repr.plot.height=3)\n",
    "grid.arrange(gp1, gp2, gp3, nrow=1)"
   ]
  }
 ],
 "metadata": {
  "kernelspec": {
   "display_name": "R",
   "language": "R",
   "name": "ir"
  },
  "language_info": {
   "codemirror_mode": "r",
   "file_extension": ".r",
   "mimetype": "text/x-r-source",
   "name": "R",
   "pygments_lexer": "r",
   "version": "3.6.1"
  }
 },
 "nbformat": 4,
 "nbformat_minor": 5
}
