{
 "cells": [
  {
   "cell_type": "markdown",
   "id": "ce6048b9-1ce0-4f0e-964d-5ee4c3e13078",
   "metadata": {},
   "source": [
    "https://cran.r-project.org/web/packages/sharpr2/index.html\n",
    "\n",
    "https://cran.r-project.org/web/packages/sharpr2/sharpr2.pdf\n",
    "\n",
    "https://github.com/cran/sharpr2"
   ]
  },
  {
   "cell_type": "code",
   "execution_count": 1,
   "id": "9656a542-e684-448f-b907-58f5f2d62b1a",
   "metadata": {},
   "outputs": [],
   "source": [
    "library(sharpr2)"
   ]
  },
  {
   "cell_type": "code",
   "execution_count": 2,
   "id": "ad65751d-29ae-45b1-9fe8-d0fc36ba1c76",
   "metadata": {},
   "outputs": [],
   "source": [
    "data(hidra_ex)"
   ]
  },
  {
   "cell_type": "code",
   "execution_count": 5,
   "id": "2f33840a-af24-43f4-848f-4610226fd943",
   "metadata": {},
   "outputs": [
    {
     "data": {
      "text/html": [
       "<table>\n",
       "<thead><tr><th></th><th scope=col>start</th><th scope=col>end</th><th scope=col>PLASMID</th><th scope=col>RNA</th></tr></thead>\n",
       "<tbody>\n",
       "\t<tr><th scope=row>407690</th><td> 13069</td><td> 13432</td><td>10.2  </td><td>7.8   </td></tr>\n",
       "\t<tr><th scope=row>1215479</th><td> 57063</td><td> 57343</td><td> 3.6  </td><td>3.2   </td></tr>\n",
       "\t<tr><th scope=row>2595714</th><td> 57349</td><td> 57757</td><td> 6.4  </td><td>6.4   </td></tr>\n",
       "\t<tr><th scope=row>1116535</th><td>127511</td><td>127762</td><td> 5.4  </td><td>4.0   </td></tr>\n",
       "\t<tr><th scope=row>2762359</th><td>127517</td><td>127753</td><td> 9.2  </td><td>7.4   </td></tr>\n",
       "\t<tr><th scope=row>1818921</th><td>236790</td><td>237138</td><td> 4.8  </td><td>3.4   </td></tr>\n",
       "\t<tr><th scope=row>734109</th><td>243665</td><td>244091</td><td> 5.2  </td><td>5.2   </td></tr>\n",
       "\t<tr><th scope=row>536313</th><td>244982</td><td>245220</td><td> 5.0  </td><td>3.4   </td></tr>\n",
       "\t<tr><th scope=row>216446</th><td>252823</td><td>253186</td><td> 4.4  </td><td>4.8   </td></tr>\n",
       "\t<tr><th scope=row>1566104</th><td>548350</td><td>548614</td><td> 7.6  </td><td>4.8   </td></tr>\n",
       "</tbody>\n",
       "</table>\n"
      ],
      "text/latex": [
       "\\begin{tabular}{r|llll}\n",
       "  & start & end & PLASMID & RNA\\\\\n",
       "\\hline\n",
       "\t407690 &  13069 &  13432 & 10.2   & 7.8   \\\\\n",
       "\t1215479 &  57063 &  57343 &  3.6   & 3.2   \\\\\n",
       "\t2595714 &  57349 &  57757 &  6.4   & 6.4   \\\\\n",
       "\t1116535 & 127511 & 127762 &  5.4   & 4.0   \\\\\n",
       "\t2762359 & 127517 & 127753 &  9.2   & 7.4   \\\\\n",
       "\t1818921 & 236790 & 237138 &  4.8   & 3.4   \\\\\n",
       "\t734109 & 243665 & 244091 &  5.2   & 5.2   \\\\\n",
       "\t536313 & 244982 & 245220 &  5.0   & 3.4   \\\\\n",
       "\t216446 & 252823 & 253186 &  4.4   & 4.8   \\\\\n",
       "\t1566104 & 548350 & 548614 &  7.6   & 4.8   \\\\\n",
       "\\end{tabular}\n"
      ],
      "text/markdown": [
       "\n",
       "| <!--/--> | start | end | PLASMID | RNA |\n",
       "|---|---|---|---|---|\n",
       "| 407690 |  13069 |  13432 | 10.2   | 7.8    |\n",
       "| 1215479 |  57063 |  57343 |  3.6   | 3.2    |\n",
       "| 2595714 |  57349 |  57757 |  6.4   | 6.4    |\n",
       "| 1116535 | 127511 | 127762 |  5.4   | 4.0    |\n",
       "| 2762359 | 127517 | 127753 |  9.2   | 7.4    |\n",
       "| 1818921 | 236790 | 237138 |  4.8   | 3.4    |\n",
       "| 734109 | 243665 | 244091 |  5.2   | 5.2    |\n",
       "| 536313 | 244982 | 245220 |  5.0   | 3.4    |\n",
       "| 216446 | 252823 | 253186 |  4.4   | 4.8    |\n",
       "| 1566104 | 548350 | 548614 |  7.6   | 4.8    |\n",
       "\n"
      ],
      "text/plain": [
       "        start  end    PLASMID RNA\n",
       "407690   13069  13432 10.2    7.8\n",
       "1215479  57063  57343  3.6    3.2\n",
       "2595714  57349  57757  6.4    6.4\n",
       "1116535 127511 127762  5.4    4.0\n",
       "2762359 127517 127753  9.2    7.4\n",
       "1818921 236790 237138  4.8    3.4\n",
       "734109  243665 244091  5.2    5.2\n",
       "536313  244982 245220  5.0    3.4\n",
       "216446  252823 253186  4.4    4.8\n",
       "1566104 548350 548614  7.6    4.8"
      ]
     },
     "metadata": {},
     "output_type": "display_data"
    }
   ],
   "source": [
    "hidra_ex[1:10,]"
   ]
  },
  {
   "cell_type": "code",
   "execution_count": null,
   "id": "a0efe78a-a24c-4508-9cd1-43e20e59867d",
   "metadata": {},
   "outputs": [],
   "source": []
  }
 ],
 "metadata": {
  "kernelspec": {
   "display_name": "R",
   "language": "R",
   "name": "ir"
  },
  "language_info": {
   "codemirror_mode": "r",
   "file_extension": ".r",
   "mimetype": "text/x-r-source",
   "name": "R",
   "pygments_lexer": "r",
   "version": "3.6.1"
  }
 },
 "nbformat": 4,
 "nbformat_minor": 5
}
