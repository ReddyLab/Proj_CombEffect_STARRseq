{
 "cells": [
  {
   "cell_type": "markdown",
   "id": "77dfe6d9-41b7-486a-9f63-95a0574549c5",
   "metadata": {},
   "source": []
  },
  {
   "cell_type": "code",
   "execution_count": 1,
   "id": "b2f3d557-b641-44e9-b710-2fd2841561a2",
   "metadata": {},
   "outputs": [
    {
     "name": "stdout",
     "output_type": "stream",
     "text": [
      "You are on Duke Server: HARDAC\n",
      "BASE DIRECTORY:     /gpfs/fs1/data/reddylab/Kuei\n",
      "PATH OF SOURCE:     /gpfs/fs1/data/reddylab/Kuei/source\n",
      "PATH OF EXECUTABLE: /gpfs/fs1/data/reddylab/Kuei/exe\n",
      "PATH OF ANNOTATION: /gpfs/fs1/data/reddylab/Kuei/annotation\n",
      "PATH OF PROJECT:    /gpfs/fs1/data/reddylab/Kuei/GitRepo/Proj_CombEffect_STARRseq/notebooks\n",
      "PATH OF RESULTS:    /gpfs/fs1/data/reddylab/Kuei/out/proj_combeffect\n",
      "\n"
     ]
    }
   ],
   "source": [
    "source ../config_duke.sh -v"
   ]
  },
  {
   "cell_type": "code",
   "execution_count": 4,
   "id": "86d7cc93-76b0-41d4-8823-aa268eebd8b4",
   "metadata": {},
   "outputs": [
    {
     "name": "stdout",
     "output_type": "stream",
     "text": [
      "\u001b[0m\u001b[38;5;9m/gpfs/fs1/data/reddylab/Kuei/out/proj_combeffect/count_fragment/Input1_20x/target_PER1.bed.gz\u001b[0m\u001b[K\n",
      "\u001b[38;5;9m/gpfs/fs1/data/reddylab/Kuei/out/proj_combeffect/count_fragment/Input1/target_PER1.bed.gz\u001b[0m\u001b[K\n",
      "\u001b[38;5;9m/gpfs/fs1/data/reddylab/Kuei/out/proj_combeffect/count_fragment/Input2_20x/target_PER1.bed.gz\u001b[0m\u001b[K\n",
      "\u001b[38;5;9m/gpfs/fs1/data/reddylab/Kuei/out/proj_combeffect/count_fragment/Input2/target_PER1.bed.gz\u001b[0m\u001b[K\n",
      "\u001b[38;5;9m/gpfs/fs1/data/reddylab/Kuei/out/proj_combeffect/count_fragment/Input3_20x/target_PER1.bed.gz\u001b[0m\u001b[K\n",
      "\u001b[38;5;9m/gpfs/fs1/data/reddylab/Kuei/out/proj_combeffect/count_fragment/Input3/target_PER1.bed.gz\u001b[0m\u001b[K\n",
      "\u001b[38;5;9m/gpfs/fs1/data/reddylab/Kuei/out/proj_combeffect/count_fragment/Input4_20x/target_PER1.bed.gz\u001b[0m\u001b[K\n",
      "\u001b[38;5;9m/gpfs/fs1/data/reddylab/Kuei/out/proj_combeffect/count_fragment/Input4/target_PER1.bed.gz\u001b[0m\u001b[K\n",
      "\u001b[38;5;9m/gpfs/fs1/data/reddylab/Kuei/out/proj_combeffect/count_fragment/Input5_20x/target_PER1.bed.gz\u001b[0m\u001b[K\n",
      "\u001b[38;5;9m/gpfs/fs1/data/reddylab/Kuei/out/proj_combeffect/count_fragment/Input5/target_PER1.bed.gz\u001b[0m\u001b[K\n",
      "\u001b[38;5;9m/gpfs/fs1/data/reddylab/Kuei/out/proj_combeffect/count_fragment/TFX2_Dex/target_PER1.bed.gz\u001b[0m\u001b[K\n",
      "\u001b[38;5;9m/gpfs/fs1/data/reddylab/Kuei/out/proj_combeffect/count_fragment/TFX2_DMSO/target_PER1.bed.gz\u001b[0m\u001b[K\n",
      "\u001b[38;5;9m/gpfs/fs1/data/reddylab/Kuei/out/proj_combeffect/count_fragment/TFX3_Dex/target_PER1.bed.gz\u001b[0m\u001b[K\n",
      "\u001b[38;5;9m/gpfs/fs1/data/reddylab/Kuei/out/proj_combeffect/count_fragment/TFX3_DMSO/target_PER1.bed.gz\u001b[0m\u001b[K\n",
      "\u001b[38;5;9m/gpfs/fs1/data/reddylab/Kuei/out/proj_combeffect/count_fragment/TFX4_Dex/target_PER1.bed.gz\u001b[0m\u001b[K\n",
      "\u001b[38;5;9m/gpfs/fs1/data/reddylab/Kuei/out/proj_combeffect/count_fragment/TFX4_DMSO/target_PER1.bed.gz\u001b[0m\u001b[K\n",
      "\u001b[38;5;9m/gpfs/fs1/data/reddylab/Kuei/out/proj_combeffect/count_fragment/TFX5_Dex/target_PER1.bed.gz\u001b[0m\u001b[K\n",
      "\u001b[38;5;9m/gpfs/fs1/data/reddylab/Kuei/out/proj_combeffect/count_fragment/TFX5_DMSO/target_PER1.bed.gz\u001b[0m\u001b[K\n"
     ]
    }
   ],
   "source": [
    "ls -d ${FD_RES}/count_fragment/*/target_PER1.bed.gz"
   ]
  },
  {
   "cell_type": "code",
   "execution_count": 5,
   "id": "8b6eaaa5-4477-490f-95a4-6e531f2c50e6",
   "metadata": {},
   "outputs": [
    {
     "name": "stdout",
     "output_type": "stream",
     "text": [
      "chr17\t8148117\t8149012\t1\n",
      "chr17\t8148122\t8149107\t1\n",
      "chr17\t8148178\t8149194\t1\n",
      "chr17\t8148188\t8149154\t1\n",
      "chr17\t8148190\t8149151\t1\n",
      "chr17\t8148220\t8149108\t1\n",
      "chr17\t8148280\t8149232\t1\n",
      "chr17\t8148401\t8149372\t1\n",
      "chr17\t8148548\t8149585\t1\n",
      "chr17\t8148913\t8149953\t1\n"
     ]
    }
   ],
   "source": [
    "fpath=\"/gpfs/fs1/data/reddylab/Kuei/out/proj_combeffect/count_fragment/Input1/target_PER1.bed.gz\"\n",
    "zcat $fpath | head "
   ]
  },
  {
   "cell_type": "code",
   "execution_count": 7,
   "id": "53db0c00-6b2d-42c3-9cd9-c8754b289fa1",
   "metadata": {},
   "outputs": [
    {
     "name": "stdout",
     "output_type": "stream",
     "text": [
      "all\n"
     ]
    }
   ],
   "source": [
    "echo ${NODE}"
   ]
  },
  {
   "cell_type": "code",
   "execution_count": 14,
   "id": "2a0946b5-45f4-4108-840c-295267cd0e5d",
   "metadata": {},
   "outputs": [
    {
     "name": "stdout",
     "output_type": "stream",
     "text": [
      "/gpfs/fs1/data/reddylab/Kuei/out/proj_combeffect/count_fragment/Input1/\n",
      "/gpfs/fs1/data/reddylab/Kuei/out/proj_combeffect/nuc/Input1\n",
      "Input1\n",
      "/gpfs/fs1/data/reddylab/Kuei/out/proj_combeffect/count_fragment/Input1_20x/\n",
      "/gpfs/fs1/data/reddylab/Kuei/out/proj_combeffect/nuc/Input1_20x\n",
      "Input1_20x\n",
      "/gpfs/fs1/data/reddylab/Kuei/out/proj_combeffect/count_fragment/Input2/\n",
      "/gpfs/fs1/data/reddylab/Kuei/out/proj_combeffect/nuc/Input2\n",
      "Input2\n",
      "/gpfs/fs1/data/reddylab/Kuei/out/proj_combeffect/count_fragment/Input2_20x/\n",
      "/gpfs/fs1/data/reddylab/Kuei/out/proj_combeffect/nuc/Input2_20x\n",
      "Input2_20x\n",
      "/gpfs/fs1/data/reddylab/Kuei/out/proj_combeffect/count_fragment/Input3/\n",
      "/gpfs/fs1/data/reddylab/Kuei/out/proj_combeffect/nuc/Input3\n",
      "Input3\n",
      "/gpfs/fs1/data/reddylab/Kuei/out/proj_combeffect/count_fragment/Input3_20x/\n",
      "/gpfs/fs1/data/reddylab/Kuei/out/proj_combeffect/nuc/Input3_20x\n",
      "Input3_20x\n",
      "/gpfs/fs1/data/reddylab/Kuei/out/proj_combeffect/count_fragment/Input4/\n",
      "/gpfs/fs1/data/reddylab/Kuei/out/proj_combeffect/nuc/Input4\n",
      "Input4\n",
      "/gpfs/fs1/data/reddylab/Kuei/out/proj_combeffect/count_fragment/Input4_20x/\n",
      "/gpfs/fs1/data/reddylab/Kuei/out/proj_combeffect/nuc/Input4_20x\n",
      "Input4_20x\n",
      "/gpfs/fs1/data/reddylab/Kuei/out/proj_combeffect/count_fragment/Input5/\n",
      "/gpfs/fs1/data/reddylab/Kuei/out/proj_combeffect/nuc/Input5\n",
      "Input5\n",
      "/gpfs/fs1/data/reddylab/Kuei/out/proj_combeffect/count_fragment/Input5_20x/\n",
      "/gpfs/fs1/data/reddylab/Kuei/out/proj_combeffect/nuc/Input5_20x\n",
      "Input5_20x\n",
      "/gpfs/fs1/data/reddylab/Kuei/out/proj_combeffect/count_fragment/TFX2_Dex/\n",
      "/gpfs/fs1/data/reddylab/Kuei/out/proj_combeffect/nuc/TFX2_Dex\n",
      "TFX2_Dex\n",
      "/gpfs/fs1/data/reddylab/Kuei/out/proj_combeffect/count_fragment/TFX2_DMSO/\n",
      "/gpfs/fs1/data/reddylab/Kuei/out/proj_combeffect/nuc/TFX2_DMSO\n",
      "TFX2_DMSO\n",
      "/gpfs/fs1/data/reddylab/Kuei/out/proj_combeffect/count_fragment/TFX3_Dex/\n",
      "/gpfs/fs1/data/reddylab/Kuei/out/proj_combeffect/nuc/TFX3_Dex\n",
      "TFX3_Dex\n",
      "/gpfs/fs1/data/reddylab/Kuei/out/proj_combeffect/count_fragment/TFX3_DMSO/\n",
      "/gpfs/fs1/data/reddylab/Kuei/out/proj_combeffect/nuc/TFX3_DMSO\n",
      "TFX3_DMSO\n",
      "/gpfs/fs1/data/reddylab/Kuei/out/proj_combeffect/count_fragment/TFX4_Dex/\n",
      "/gpfs/fs1/data/reddylab/Kuei/out/proj_combeffect/nuc/TFX4_Dex\n",
      "TFX4_Dex\n",
      "/gpfs/fs1/data/reddylab/Kuei/out/proj_combeffect/count_fragment/TFX4_DMSO/\n",
      "/gpfs/fs1/data/reddylab/Kuei/out/proj_combeffect/nuc/TFX4_DMSO\n",
      "TFX4_DMSO\n",
      "/gpfs/fs1/data/reddylab/Kuei/out/proj_combeffect/count_fragment/TFX5_Dex/\n",
      "/gpfs/fs1/data/reddylab/Kuei/out/proj_combeffect/nuc/TFX5_Dex\n",
      "TFX5_Dex\n",
      "/gpfs/fs1/data/reddylab/Kuei/out/proj_combeffect/count_fragment/TFX5_DMSO/\n",
      "/gpfs/fs1/data/reddylab/Kuei/out/proj_combeffect/nuc/TFX5_DMSO\n",
      "TFX5_DMSO\n"
     ]
    }
   ],
   "source": [
    "FD_BEDS=($(ls -d ${FD_RES}/count_fragment/{Input?,Input?_20x,TFX?_DMSO,TFX?_Dex}/))\n",
    "for FD_BED in ${FD_BEDS[@]}; do\n",
    "   SAMPLE=$(basename ${FD_BED})\n",
    "   FD_OUT=${FD_RES}/nuc/${SAMPLE}\n",
    "   \n",
    "   echo ${FD_BED}\n",
    "   echo ${FD_OUT}\n",
    "   echo ${SAMPLE}\n",
    "   \n",
    "done"
   ]
  },
  {
   "cell_type": "code",
   "execution_count": 21,
   "id": "68c8cfea-4a48-4314-829d-92bd0b58f540",
   "metadata": {},
   "outputs": [
    {
     "name": "stdout",
     "output_type": "stream",
     "text": [
      "Submitted batch job 27247358\n"
     ]
    }
   ],
   "source": [
    "### set environment\n",
    "source ../config_duke.sh\n",
    "source ../config_load_module_bedtools.sh\n",
    "\n",
    "sbatch -p ${NODE} \\\n",
    "    --mem 8G \\\n",
    "    -o ${FD_LOG}/nuc_fragment_per1.txt \\\n",
    "    <<'EOF'\n",
    "#!/bin/bash\n",
    "\n",
    "### set directories & global variables\n",
    "source ../config_duke.sh\n",
    "#CHROMS=($(seq 1 22) X Y)\n",
    "#CHROM=${CHROMS[${SLURM_ARRAY_TASK_ID}]}\n",
    "#TARGET=chr${CHROM}\n",
    "\n",
    "CHROM=chr17\n",
    "TARGET=target_PER1\n",
    "\n",
    "### set input and output\n",
    "FD_BEDS=($(ls -d ${FD_RES}/count_fragment/{Input?,Input?_20x,TFX?_DMSO,TFX?_Dex}/))\n",
    "FN_BED=${TARGET}.bed.gz\n",
    "FN_OUT=${TARGET}.bed.gz\n",
    "\n",
    "### genome annotation\n",
    "FD_GEN=${FD_ANN}/genome/hg38/fasta\n",
    "FN_GEN=${CHROM}.fa\n",
    "\n",
    "### START Message\n",
    "timer_start=`date +%s`\n",
    "echo \"Slurm Array Index: \" ${SLURM_ARRAY_TASK_ID}\n",
    "echo \"Time Stamp:        \" $(date +\"%m-%d-%y+%T\")\n",
    "echo\n",
    "\n",
    "for FD_BED in ${FD_BEDS[@]}; do\n",
    "    SAMPLE=$(basename ${FD_BED})\n",
    "    FD_OUT=${FD_RES}/nuc/${SAMPLE}\n",
    "    \n",
    "    ### Loop START Message\n",
    "    echo ++++++++++++++++++++++++++++++++++++++++++++++++\n",
    "    echo \"Input  file: \" ${FD_BED}/${FN_BED}\n",
    "    echo \"Output file: \" ${FD_OUT}/${FN_OUT}\n",
    "    echo\n",
    "    echo \"Show the first few lines of the input file\"\n",
    "    echo ${FD_BED}/${FN_BED}\n",
    "    zcat ${FD_BED}/${FN_BED} | head -n 3\n",
    "    echo\n",
    "    \n",
    "    ### init: create output folder if not exist\n",
    "    mkdir -p ${FD_OUT}\n",
    "    \n",
    "    ### calculate the GC content of each fragment\n",
    "    bedtools nuc \\\n",
    "        -fi  ${FD_GEN}/${FN_GEN} \\\n",
    "        -bed ${FD_BED}/${FN_BED} |\\\n",
    "        gzip -c > ${FD_OUT}/${FN_OUT}\n",
    "    \n",
    "    ### Loop END Message\n",
    "    echo \"Show the first few lines of the output file\"\n",
    "    echo ${FD_OUT}/${FN_OUT}\n",
    "    zcat ${FD_OUT}/${FN_OUT} | head -n 3\n",
    "    echo\n",
    "done\n",
    "\n",
    "### END message\n",
    "timer=`date +%s`\n",
    "runtime=$(echo \"${timer} - ${timer_start}\" | bc -l)\n",
    "echo 'Done!'\n",
    "echo \"Run Time: $(displaytime ${runtime})\"\n",
    "\n",
    "EOF"
   ]
  },
  {
   "cell_type": "code",
   "execution_count": null,
   "id": "e1440ae0-251a-4513-aba1-68f7effb0ce4",
   "metadata": {},
   "outputs": [],
   "source": [
    "cat ${FD_LOG}/nuc_fragment_per1.txt"
   ]
  },
  {
   "cell_type": "code",
   "execution_count": null,
   "id": "bf209adc-6472-46f8-b3a8-4f8ce8507612",
   "metadata": {},
   "outputs": [],
   "source": []
  }
 ],
 "metadata": {
  "kernelspec": {
   "display_name": "Bash",
   "language": "bash",
   "name": "bash"
  },
  "language_info": {
   "codemirror_mode": "shell",
   "file_extension": ".sh",
   "mimetype": "text/x-sh",
   "name": "bash"
  }
 },
 "nbformat": 4,
 "nbformat_minor": 5
}
